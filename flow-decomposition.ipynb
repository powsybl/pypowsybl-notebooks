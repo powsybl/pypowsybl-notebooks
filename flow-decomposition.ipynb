{
 "cells": [
  {
   "cell_type": "markdown",
   "metadata": {},
   "source": [
    "\n",
    "## Licence\n",
    "Copyright (c) 2022, RTE (http://www.rte-france.com)\n",
    "This Source Code Form is subject to the terms of the Mozilla Public\n",
    "License, v. 2.0. If a copy of the MPL was not distributed with this\n",
    "file, You can obtain one at http://mozilla.org/MPL/2.0/.\n",
    "\n",
    "\n",
    "## Author\n",
    "Hugo Schindler <hugo.schindler at rte-france.com>\n",
    "\n",
    "\n",
    "## Description\n",
    "This notebook illustrates the flow decomposition algorithm results.\n",
    "All plots are in MW (if not explicitly normalized).\n",
    "A toy network is provided. Do not hesitate to load your network !"
   ]
  },
  {
   "cell_type": "markdown",
   "metadata": {},
   "source": [
    "If you have issues with the load flow provider, set the following lines in your ~/.itools/config.yml  \n",
    "```\n",
    "load-flow:\n",
    " default-impl-name: OpenLoadFlow\n",
    "```"
   ]
  },
  {
   "cell_type": "code",
   "execution_count": 1,
   "metadata": {},
   "outputs": [],
   "source": [
    "import random\n",
    "import numpy as np\n",
    "import pandas as pd\n",
    "\n",
    "import plotly.express as px\n",
    "\n",
    "import pycountry\n",
    "\n",
    "import pypowsybl as pp\n",
    "\n",
    "pd.options.display.max_columns = None\n",
    "pd.options.display.expand_frame_repr = False\n"
   ]
  },
  {
   "cell_type": "code",
   "execution_count": 2,
   "metadata": {},
   "outputs": [],
   "source": [
    "colors = px.colors.qualitative.Dark24 + px.colors.qualitative.Light24\n",
    "random.Random(42).shuffle(colors)"
   ]
  },
  {
   "cell_type": "markdown",
   "metadata": {},
   "source": [
    "# Load a network\n",
    "\n",
    "You can load your own network with \n",
    "net = pp.network.load(...)"
   ]
  },
  {
   "cell_type": "code",
   "execution_count": 3,
   "metadata": {},
   "outputs": [],
   "source": [
    "def assign_country_all_substations(net):\n",
    "    substation_ids = net.get_substations().index\n",
    "    all_countries = [\"AT\", \"BE\", \"BG\", \"CY\", \"CZ\", \"DE\", \"DK\", \"EE\", \"ES\", \"FI\", \"FR\", \"GR\", \"HR\", \"HU\", \"IE\", \"IT\", \"LT\", \"LU\", \"LV\", \"NL\", \"PL\", \"PT\", \"RO\", \"SE\", \"SI\", \"SK\"]\n",
    "    number_country = 20\n",
    "    random.Random(42).shuffle(all_countries)\n",
    "    substation_countries = random.Random(42).choices(random.Random(42).choices(all_countries, k=number_country), k=len(substation_ids))\n",
    "    return dict(zip(substation_ids, substation_countries))\n",
    "\n",
    "def propagate_country_nearby_substations(net, dss):\n",
    "    vl = net.get_voltage_levels()\n",
    "    l = net.get_lines()\n",
    "    df_net = pd.merge(\n",
    "        pd.merge(l, vl.add_suffix(\"_vl1\"), right_index=True, left_on=\"voltage_level1_id\"),\n",
    "        vl.add_suffix(\"_vl2\"), right_index=True, left_on=\"voltage_level2_id\")\n",
    "    connected_ss = df_net[[\"substation_id_vl1\", \"substation_id_vl2\"]].values\n",
    "    for _ in range(3):\n",
    "        for connected_sub in connected_ss:\n",
    "            dss[connected_sub[1]] = dss[connected_sub[0]]\n",
    "    net.update_substations(id=list(dss.keys()), country=list(dss.values()))\n",
    "\n",
    "def get_upgraded_ieee_net():\n",
    "    net = pp.network.create_ieee300()\n",
    "\n",
    "    # add country to substations\n",
    "    dss = assign_country_all_substations(net)\n",
    "    propagate_country_nearby_substations(net, dss)\n",
    "\n",
    "    # generator fix: otherwise they are discarded because of not plausible Pmax\n",
    "    gen = net.get_generators().index\n",
    "    net.update_generators(id=gen, max_p=[2000]*len(gen), min_p=[-2000]*len(gen))\n",
    "\n",
    "    #net.dump(\"/tmp/test-net.xiidm\")\n",
    "\n",
    "    return net"
   ]
  },
  {
   "cell_type": "code",
   "execution_count": 4,
   "metadata": {},
   "outputs": [],
   "source": [
    "net = get_upgraded_ieee_net()"
   ]
  },
  {
   "cell_type": "code",
   "execution_count": 5,
   "metadata": {},
   "outputs": [],
   "source": [
    "#net = pp.network.load(\"\")"
   ]
  },
  {
   "cell_type": "markdown",
   "metadata": {},
   "source": [
    "# Run a flow decomposition\n",
    "\n",
    "Running a flow decomposition with those parameter might take a while and a lot of RAM.\n",
    "The default parameters consume less ressources.\n",
    "\n",
    "We also add a few useful columns to the dataframe:\n",
    "- total loop flow\n",
    "- total flow\n",
    "\n",
    "All the computation are donc in state N."
   ]
  },
  {
   "cell_type": "code",
   "execution_count": 6,
   "metadata": {},
   "outputs": [
    {
     "data": {
      "text/html": [
       "<div>\n",
       "<style scoped>\n",
       "    .dataframe tbody tr th:only-of-type {\n",
       "        vertical-align: middle;\n",
       "    }\n",
       "\n",
       "    .dataframe tbody tr th {\n",
       "        vertical-align: top;\n",
       "    }\n",
       "\n",
       "    .dataframe thead th {\n",
       "        text-align: right;\n",
       "    }\n",
       "</style>\n",
       "<table border=\"1\" class=\"dataframe\">\n",
       "  <thead>\n",
       "    <tr style=\"text-align: right;\">\n",
       "      <th></th>\n",
       "      <th>branch_id</th>\n",
       "      <th>contingency_id</th>\n",
       "      <th>country1</th>\n",
       "      <th>country2</th>\n",
       "      <th>ac_reference_flow</th>\n",
       "      <th>dc_reference_flow</th>\n",
       "      <th>commercial_flow</th>\n",
       "      <th>internal_flow</th>\n",
       "      <th>loop_flow_from_bg</th>\n",
       "      <th>loop_flow_from_cz</th>\n",
       "      <th>loop_flow_from_dk</th>\n",
       "      <th>loop_flow_from_ee</th>\n",
       "      <th>loop_flow_from_fr</th>\n",
       "      <th>loop_flow_from_hu</th>\n",
       "      <th>loop_flow_from_ie</th>\n",
       "      <th>loop_flow_from_lt</th>\n",
       "      <th>loop_flow_from_lu</th>\n",
       "      <th>pst_flow</th>\n",
       "    </tr>\n",
       "    <tr>\n",
       "      <th>xnec_id</th>\n",
       "      <th></th>\n",
       "      <th></th>\n",
       "      <th></th>\n",
       "      <th></th>\n",
       "      <th></th>\n",
       "      <th></th>\n",
       "      <th></th>\n",
       "      <th></th>\n",
       "      <th></th>\n",
       "      <th></th>\n",
       "      <th></th>\n",
       "      <th></th>\n",
       "      <th></th>\n",
       "      <th></th>\n",
       "      <th></th>\n",
       "      <th></th>\n",
       "      <th></th>\n",
       "      <th></th>\n",
       "    </tr>\n",
       "  </thead>\n",
       "  <tbody>\n",
       "    <tr>\n",
       "      <th>L105-110-1_InitialState</th>\n",
       "      <td>L105-110-1</td>\n",
       "      <td>InitialState</td>\n",
       "      <td>LT</td>\n",
       "      <td>LU</td>\n",
       "      <td>NaN</td>\n",
       "      <td>41.955416</td>\n",
       "      <td>0.0</td>\n",
       "      <td>0.000000</td>\n",
       "      <td>7.247562</td>\n",
       "      <td>0.617328</td>\n",
       "      <td>7.489591</td>\n",
       "      <td>3.158478</td>\n",
       "      <td>-5.331250</td>\n",
       "      <td>-8.512478</td>\n",
       "      <td>0.0</td>\n",
       "      <td>10.283987</td>\n",
       "      <td>27.679896</td>\n",
       "      <td>0.0</td>\n",
       "    </tr>\n",
       "    <tr>\n",
       "      <th>L109-114-1_InitialState</th>\n",
       "      <td>L109-114-1</td>\n",
       "      <td>InitialState</td>\n",
       "      <td>LU</td>\n",
       "      <td>BG</td>\n",
       "      <td>NaN</td>\n",
       "      <td>6.371956</td>\n",
       "      <td>0.0</td>\n",
       "      <td>0.000000</td>\n",
       "      <td>9.542230</td>\n",
       "      <td>0.649216</td>\n",
       "      <td>17.989813</td>\n",
       "      <td>5.660429</td>\n",
       "      <td>-9.558147</td>\n",
       "      <td>-19.092969</td>\n",
       "      <td>0.0</td>\n",
       "      <td>3.132926</td>\n",
       "      <td>-0.132600</td>\n",
       "      <td>0.0</td>\n",
       "    </tr>\n",
       "    <tr>\n",
       "      <th>L112-114-1_InitialState</th>\n",
       "      <td>L112-114-1</td>\n",
       "      <td>InitialState</td>\n",
       "      <td>LU</td>\n",
       "      <td>BG</td>\n",
       "      <td>NaN</td>\n",
       "      <td>-8.582649</td>\n",
       "      <td>0.0</td>\n",
       "      <td>0.000000</td>\n",
       "      <td>-12.345869</td>\n",
       "      <td>-0.965217</td>\n",
       "      <td>-18.739938</td>\n",
       "      <td>-6.321628</td>\n",
       "      <td>10.819793</td>\n",
       "      <td>21.453619</td>\n",
       "      <td>0.0</td>\n",
       "      <td>-5.987595</td>\n",
       "      <td>19.006819</td>\n",
       "      <td>0.0</td>\n",
       "    </tr>\n",
       "    <tr>\n",
       "      <th>L115-122-1_InitialState</th>\n",
       "      <td>L115-122-1</td>\n",
       "      <td>InitialState</td>\n",
       "      <td>DK</td>\n",
       "      <td>HU</td>\n",
       "      <td>NaN</td>\n",
       "      <td>48.481203</td>\n",
       "      <td>0.0</td>\n",
       "      <td>0.000000</td>\n",
       "      <td>2.338650</td>\n",
       "      <td>0.247209</td>\n",
       "      <td>141.228607</td>\n",
       "      <td>0.985043</td>\n",
       "      <td>1.023542</td>\n",
       "      <td>-93.704529</td>\n",
       "      <td>0.0</td>\n",
       "      <td>-5.515488</td>\n",
       "      <td>1.878168</td>\n",
       "      <td>0.0</td>\n",
       "    </tr>\n",
       "    <tr>\n",
       "      <th>L116-120-1_InitialState</th>\n",
       "      <td>L116-120-1</td>\n",
       "      <td>InitialState</td>\n",
       "      <td>HU</td>\n",
       "      <td>HU</td>\n",
       "      <td>NaN</td>\n",
       "      <td>-60.950896</td>\n",
       "      <td>0.0</td>\n",
       "      <td>-196.801376</td>\n",
       "      <td>-0.447197</td>\n",
       "      <td>-0.047271</td>\n",
       "      <td>257.935294</td>\n",
       "      <td>-0.188360</td>\n",
       "      <td>-0.195722</td>\n",
       "      <td>0.000000</td>\n",
       "      <td>0.0</td>\n",
       "      <td>1.054673</td>\n",
       "      <td>-0.359144</td>\n",
       "      <td>0.0</td>\n",
       "    </tr>\n",
       "  </tbody>\n",
       "</table>\n",
       "</div>"
      ],
      "text/plain": [
       "                          branch_id contingency_id country1 country2  ac_reference_flow  dc_reference_flow  commercial_flow  internal_flow  loop_flow_from_bg  loop_flow_from_cz  loop_flow_from_dk  loop_flow_from_ee  loop_flow_from_fr  loop_flow_from_hu  loop_flow_from_ie  loop_flow_from_lt  loop_flow_from_lu  pst_flow\n",
       "xnec_id                                                                                                                                                                                                                                                                                                                        \n",
       "L105-110-1_InitialState  L105-110-1   InitialState       LT       LU                NaN          41.955416              0.0       0.000000           7.247562           0.617328           7.489591           3.158478          -5.331250          -8.512478                0.0          10.283987          27.679896       0.0\n",
       "L109-114-1_InitialState  L109-114-1   InitialState       LU       BG                NaN           6.371956              0.0       0.000000           9.542230           0.649216          17.989813           5.660429          -9.558147         -19.092969                0.0           3.132926          -0.132600       0.0\n",
       "L112-114-1_InitialState  L112-114-1   InitialState       LU       BG                NaN          -8.582649              0.0       0.000000         -12.345869          -0.965217         -18.739938          -6.321628          10.819793          21.453619                0.0          -5.987595          19.006819       0.0\n",
       "L115-122-1_InitialState  L115-122-1   InitialState       DK       HU                NaN          48.481203              0.0       0.000000           2.338650           0.247209         141.228607           0.985043           1.023542         -93.704529                0.0          -5.515488           1.878168       0.0\n",
       "L116-120-1_InitialState  L116-120-1   InitialState       HU       HU                NaN         -60.950896              0.0    -196.801376          -0.447197          -0.047271         257.935294          -0.188360          -0.195722           0.000000                0.0           1.054673          -0.359144       0.0"
      ]
     },
     "execution_count": 6,
     "metadata": {},
     "output_type": "execute_result"
    }
   ],
   "source": [
    "parameters = pp.flowdecomposition.Parameters(enable_losses_compensation=True,\n",
    "    losses_compensation_epsilon=pp.flowdecomposition.Parameters.DISABLE_LOSSES_COMPENSATION_EPSILON,\n",
    "    sensitivity_epsilon=pp.flowdecomposition.Parameters.DISABLE_SENSITIVITY_EPSILON,\n",
    "    rescale_enabled=False,\n",
    "    xnec_selection_strategy=pp.flowdecomposition.XnecSelectionStrategy.INTERCONNECTION_OR_ZONE_TO_ZONE_PTDF_GT_5PC,\n",
    "    contingency_strategy=pp.flowdecomposition.ContingencyStrategy.ONLY_N_STATE,\n",
    "    )\n",
    "flow_dec_original=pp.flowdecomposition.run(net, parameters=parameters)\n",
    "flow_dec_original.head()"
   ]
  },
  {
   "cell_type": "code",
   "execution_count": 7,
   "metadata": {},
   "outputs": [
    {
     "data": {
      "text/plain": [
       "{'InitialState'}"
      ]
     },
     "execution_count": 7,
     "metadata": {},
     "output_type": "execute_result"
    }
   ],
   "source": [
    "flow_dec = flow_dec_original.copy()\n",
    "set(flow_dec['contingency_id'])"
   ]
  },
  {
   "cell_type": "code",
   "execution_count": 8,
   "metadata": {},
   "outputs": [],
   "source": [
    "flow_dec = flow_dec[flow_dec['contingency_id'] == 'InitialState']\n",
    "flow_dec['total_flow'] = flow_dec[[c for c in flow_dec.columns if ('reference' not in c and 'flow' in c)]].sum(axis=1)\n",
    "flow_dec['total_loop_flow'] = flow_dec[[c for c in flow_dec.columns if 'loop_flow_from_' in c]].sum(axis=1)\n",
    "\n",
    "def alpha_2_to_country(l):\n",
    "    return [pycountry.countries.get(alpha_2=alpha_2) for alpha_2 in l]\n",
    "\n",
    "countries_alpha2 = set(flow_dec[\"country1\"]).union(set(flow_dec[\"country2\"]))\n",
    "countries = alpha_2_to_country(countries_alpha2)\n",
    "\n"
   ]
  },
  {
   "cell_type": "markdown",
   "metadata": {},
   "source": [
    "# Flow decomposition top bar charts\n",
    "\n",
    "The top lines are selected given a metric."
   ]
  },
  {
   "cell_type": "code",
   "execution_count": 9,
   "metadata": {},
   "outputs": [],
   "source": [
    "def flow_decomposition_bar_chart(sorting_column, ascending=False, head=20, plot_scatter=True):\n",
    "    threshold = .05\n",
    "    df = flow_dec.sort_values(sorting_column, ascending = ascending).head(head).copy()\n",
    "    df_p = df[[c for c in flow_dec.columns if ('reference' not in c and 'total' not in c and 'flow' in c)]]\n",
    "    df_m = df_p.abs().div(df_p.abs().sum(axis=1), axis=0) > threshold\n",
    "    df_f = df_p[df_m]\n",
    "    df_f['masked_flows_positive'] = df_p[df_p[df_m == False]>0].sum(axis=1)\n",
    "    df_f['masked_flows_negative'] = df_p[df_p[df_m == False]<0].sum(axis=1)\n",
    "    fig = px.bar(df_f,\n",
    "        orientation='h',\n",
    "        color_discrete_sequence=colors[:df_f.columns.size],\n",
    "        text_auto='.0f',\n",
    "        title=f'Sorted by: {sorting_column}, ascending: {ascending}, head: {head}',\n",
    "        height=1000,\n",
    "        labels={\n",
    "            'branch_id':'Branch id',\n",
    "            'value': 'Flow decomposition value',\n",
    "            'variable': 'Decomposition part:',\n",
    "        },\n",
    "        template=\"seaborn\",\n",
    "        )\n",
    "    if plot_scatter:\n",
    "        fig.add_scatter(\n",
    "            y=df.index,\n",
    "            x=df['total_flow'],\n",
    "            mode='lines+markers',\n",
    "            name='total_flow'\n",
    "            )\n",
    "        fig.add_scatter(\n",
    "            y=df.index,\n",
    "            x=df['total_loop_flow'],\n",
    "            mode='lines+markers',\n",
    "            name='total_loop_flow'\n",
    "            )\n",
    "    fig.show()"
   ]
  },
  {
   "cell_type": "code",
   "execution_count": 10,
   "metadata": {},
   "outputs": [
    {
     "data": {
      "application/vnd.plotly.v1+json": {
       "config": {
        "plotlyServerURL": "https://plot.ly"
       },
       "data": [
        {
         "alignmentgroup": "True",
         "hovertemplate": "Decomposition part:=commercial_flow<br>Flow decomposition value=%{x}<br>xnec_id=%{y}<extra></extra>",
         "legendgroup": "commercial_flow",
         "marker": {
          "color": "#0DF9FF",
          "pattern": {
           "shape": ""
          }
         },
         "name": "commercial_flow",
         "offsetgroup": "commercial_flow",
         "orientation": "h",
         "showlegend": true,
         "textposition": "auto",
         "texttemplate": "%{x:.0f}",
         "type": "bar",
         "x": [
          null,
          null,
          null,
          null,
          null,
          null,
          null,
          null,
          null,
          null,
          null,
          null,
          null,
          null,
          null,
          null,
          null,
          null,
          null,
          null
         ],
         "xaxis": "x",
         "y": [
          "T159-117-1_InitialState",
          "T130-131-1_InitialState",
          "L133-137-1_InitialState",
          "L119-120-1_InitialState",
          "L186-188-1_InitialState",
          "L163-164-1_InitialState",
          "T163-137-1_InitialState",
          "L39-42-1_InitialState",
          "L157-159-1_InitialState",
          "L117-118-1_InitialState",
          "L187-188-1_InitialState",
          "L181-138-1_InitialState",
          "L126-157-1_InitialState",
          "L162-164-1_InitialState",
          "L137-188-1_InitialState",
          "L126-158-1_InitialState",
          "L158-159-1_InitialState",
          "L220-238-1_InitialState",
          "L42-46-1_InitialState",
          "L116-120-1_InitialState"
         ],
         "yaxis": "y"
        },
        {
         "alignmentgroup": "True",
         "hovertemplate": "Decomposition part:=internal_flow<br>Flow decomposition value=%{x}<br>xnec_id=%{y}<extra></extra>",
         "legendgroup": "internal_flow",
         "marker": {
          "color": "#AF0038",
          "pattern": {
           "shape": ""
          }
         },
         "name": "internal_flow",
         "offsetgroup": "internal_flow",
         "orientation": "h",
         "showlegend": true,
         "textposition": "auto",
         "texttemplate": "%{x:.0f}",
         "type": "bar",
         "x": [
          -335.3406257772797,
          -807.3350495431575,
          null,
          null,
          null,
          -274.1604656073972,
          -274.1604656073969,
          null,
          -121.68100631739512,
          null,
          null,
          null,
          -445.326100238511,
          null,
          null,
          -359.621605308131,
          -246.65961945988317,
          null,
          271.86024656186675,
          -196.8013763310936
         ],
         "xaxis": "x",
         "y": [
          "T159-117-1_InitialState",
          "T130-131-1_InitialState",
          "L133-137-1_InitialState",
          "L119-120-1_InitialState",
          "L186-188-1_InitialState",
          "L163-164-1_InitialState",
          "T163-137-1_InitialState",
          "L39-42-1_InitialState",
          "L157-159-1_InitialState",
          "L117-118-1_InitialState",
          "L187-188-1_InitialState",
          "L181-138-1_InitialState",
          "L126-157-1_InitialState",
          "L162-164-1_InitialState",
          "L137-188-1_InitialState",
          "L126-158-1_InitialState",
          "L158-159-1_InitialState",
          "L220-238-1_InitialState",
          "L42-46-1_InitialState",
          "L116-120-1_InitialState"
         ],
         "yaxis": "y"
        },
        {
         "alignmentgroup": "True",
         "hovertemplate": "Decomposition part:=loop_flow_from_bg<br>Flow decomposition value=%{x}<br>xnec_id=%{y}<extra></extra>",
         "legendgroup": "loop_flow_from_bg",
         "marker": {
          "color": "#FD3216",
          "pattern": {
           "shape": ""
          }
         },
         "name": "loop_flow_from_bg",
         "offsetgroup": "loop_flow_from_bg",
         "orientation": "h",
         "showlegend": true,
         "textposition": "auto",
         "texttemplate": "%{x:.0f}",
         "type": "bar",
         "x": [
          null,
          null,
          null,
          null,
          null,
          null,
          null,
          null,
          null,
          null,
          null,
          null,
          null,
          null,
          null,
          null,
          null,
          null,
          165.55615382962998,
          null
         ],
         "xaxis": "x",
         "y": [
          "T159-117-1_InitialState",
          "T130-131-1_InitialState",
          "L133-137-1_InitialState",
          "L119-120-1_InitialState",
          "L186-188-1_InitialState",
          "L163-164-1_InitialState",
          "T163-137-1_InitialState",
          "L39-42-1_InitialState",
          "L157-159-1_InitialState",
          "L117-118-1_InitialState",
          "L187-188-1_InitialState",
          "L181-138-1_InitialState",
          "L126-157-1_InitialState",
          "L162-164-1_InitialState",
          "L137-188-1_InitialState",
          "L126-158-1_InitialState",
          "L158-159-1_InitialState",
          "L220-238-1_InitialState",
          "L42-46-1_InitialState",
          "L116-120-1_InitialState"
         ],
         "yaxis": "y"
        },
        {
         "alignmentgroup": "True",
         "hovertemplate": "Decomposition part:=loop_flow_from_cz<br>Flow decomposition value=%{x}<br>xnec_id=%{y}<extra></extra>",
         "legendgroup": "loop_flow_from_cz",
         "marker": {
          "color": "#00A08B",
          "pattern": {
           "shape": ""
          }
         },
         "name": "loop_flow_from_cz",
         "offsetgroup": "loop_flow_from_cz",
         "orientation": "h",
         "showlegend": true,
         "textposition": "auto",
         "texttemplate": "%{x:.0f}",
         "type": "bar",
         "x": [
          null,
          null,
          null,
          null,
          null,
          null,
          null,
          null,
          null,
          null,
          null,
          null,
          null,
          null,
          null,
          null,
          null,
          null,
          null,
          null
         ],
         "xaxis": "x",
         "y": [
          "T159-117-1_InitialState",
          "T130-131-1_InitialState",
          "L133-137-1_InitialState",
          "L119-120-1_InitialState",
          "L186-188-1_InitialState",
          "L163-164-1_InitialState",
          "T163-137-1_InitialState",
          "L39-42-1_InitialState",
          "L157-159-1_InitialState",
          "L117-118-1_InitialState",
          "L187-188-1_InitialState",
          "L181-138-1_InitialState",
          "L126-157-1_InitialState",
          "L162-164-1_InitialState",
          "L137-188-1_InitialState",
          "L126-158-1_InitialState",
          "L158-159-1_InitialState",
          "L220-238-1_InitialState",
          "L42-46-1_InitialState",
          "L116-120-1_InitialState"
         ],
         "yaxis": "y"
        },
        {
         "alignmentgroup": "True",
         "hovertemplate": "Decomposition part:=loop_flow_from_dk<br>Flow decomposition value=%{x}<br>xnec_id=%{y}<extra></extra>",
         "legendgroup": "loop_flow_from_dk",
         "marker": {
          "color": "#6C4516",
          "pattern": {
           "shape": ""
          }
         },
         "name": "loop_flow_from_dk",
         "offsetgroup": "loop_flow_from_dk",
         "orientation": "h",
         "showlegend": true,
         "textposition": "auto",
         "texttemplate": "%{x:.0f}",
         "type": "bar",
         "x": [
          828.059576024041,
          660.7663762511453,
          523.0178454485244,
          307.88660854611936,
          555.9088571130114,
          null,
          null,
          446.63347694633546,
          498.03320920254674,
          828.059576024024,
          455.6354575800086,
          null,
          471.8671067273099,
          -54.10334845049109,
          951.8075259739029,
          396.484058257466,
          330.02636682149455,
          -88.47141262248222,
          723.7347444719029,
          257.93529364080973
         ],
         "xaxis": "x",
         "y": [
          "T159-117-1_InitialState",
          "T130-131-1_InitialState",
          "L133-137-1_InitialState",
          "L119-120-1_InitialState",
          "L186-188-1_InitialState",
          "L163-164-1_InitialState",
          "T163-137-1_InitialState",
          "L39-42-1_InitialState",
          "L157-159-1_InitialState",
          "L117-118-1_InitialState",
          "L187-188-1_InitialState",
          "L181-138-1_InitialState",
          "L126-157-1_InitialState",
          "L162-164-1_InitialState",
          "L137-188-1_InitialState",
          "L126-158-1_InitialState",
          "L158-159-1_InitialState",
          "L220-238-1_InitialState",
          "L42-46-1_InitialState",
          "L116-120-1_InitialState"
         ],
         "yaxis": "y"
        },
        {
         "alignmentgroup": "True",
         "hovertemplate": "Decomposition part:=loop_flow_from_ee<br>Flow decomposition value=%{x}<br>xnec_id=%{y}<extra></extra>",
         "legendgroup": "loop_flow_from_ee",
         "marker": {
          "color": "#511CFB",
          "pattern": {
           "shape": ""
          }
         },
         "name": "loop_flow_from_ee",
         "offsetgroup": "loop_flow_from_ee",
         "orientation": "h",
         "showlegend": true,
         "textposition": "auto",
         "texttemplate": "%{x:.0f}",
         "type": "bar",
         "x": [
          null,
          null,
          null,
          null,
          null,
          null,
          null,
          null,
          null,
          null,
          null,
          null,
          null,
          null,
          null,
          null,
          null,
          null,
          null,
          null
         ],
         "xaxis": "x",
         "y": [
          "T159-117-1_InitialState",
          "T130-131-1_InitialState",
          "L133-137-1_InitialState",
          "L119-120-1_InitialState",
          "L186-188-1_InitialState",
          "L163-164-1_InitialState",
          "T163-137-1_InitialState",
          "L39-42-1_InitialState",
          "L157-159-1_InitialState",
          "L117-118-1_InitialState",
          "L187-188-1_InitialState",
          "L181-138-1_InitialState",
          "L126-157-1_InitialState",
          "L162-164-1_InitialState",
          "L137-188-1_InitialState",
          "L126-158-1_InitialState",
          "L158-159-1_InitialState",
          "L220-238-1_InitialState",
          "L42-46-1_InitialState",
          "L116-120-1_InitialState"
         ],
         "yaxis": "y"
        },
        {
         "alignmentgroup": "True",
         "hovertemplate": "Decomposition part:=loop_flow_from_fr<br>Flow decomposition value=%{x}<br>xnec_id=%{y}<extra></extra>",
         "legendgroup": "loop_flow_from_fr",
         "marker": {
          "color": "#F6F926",
          "pattern": {
           "shape": ""
          }
         },
         "name": "loop_flow_from_fr",
         "offsetgroup": "loop_flow_from_fr",
         "orientation": "h",
         "showlegend": true,
         "textposition": "auto",
         "texttemplate": "%{x:.0f}",
         "type": "bar",
         "x": [
          null,
          -128.37351026828324,
          -283.99777590945206,
          null,
          null,
          null,
          null,
          null,
          null,
          null,
          null,
          null,
          null,
          null,
          null,
          null,
          null,
          225.1923915478247,
          -199.0766669143227,
          null
         ],
         "xaxis": "x",
         "y": [
          "T159-117-1_InitialState",
          "T130-131-1_InitialState",
          "L133-137-1_InitialState",
          "L119-120-1_InitialState",
          "L186-188-1_InitialState",
          "L163-164-1_InitialState",
          "T163-137-1_InitialState",
          "L39-42-1_InitialState",
          "L157-159-1_InitialState",
          "L117-118-1_InitialState",
          "L187-188-1_InitialState",
          "L181-138-1_InitialState",
          "L126-157-1_InitialState",
          "L162-164-1_InitialState",
          "L137-188-1_InitialState",
          "L126-158-1_InitialState",
          "L158-159-1_InitialState",
          "L220-238-1_InitialState",
          "L42-46-1_InitialState",
          "L116-120-1_InitialState"
         ],
         "yaxis": "y"
        },
        {
         "alignmentgroup": "True",
         "hovertemplate": "Decomposition part:=loop_flow_from_hu<br>Flow decomposition value=%{x}<br>xnec_id=%{y}<extra></extra>",
         "legendgroup": "loop_flow_from_hu",
         "marker": {
          "color": "#C9FBE5",
          "pattern": {
           "shape": ""
          }
         },
         "name": "loop_flow_from_hu",
         "offsetgroup": "loop_flow_from_hu",
         "orientation": "h",
         "showlegend": true,
         "textposition": "auto",
         "texttemplate": "%{x:.0f}",
         "type": "bar",
         "x": [
          null,
          null,
          null,
          398.0621397260627,
          107.20051253883476,
          107.36678012840393,
          107.36678012840368,
          51.15346938775477,
          null,
          -335.3406257772691,
          34.89667784419527,
          487.7434679455444,
          null,
          51.15346938775484,
          -520.069046886847,
          null,
          null,
          83.80259783903522,
          -635.955291591542,
          null
         ],
         "xaxis": "x",
         "y": [
          "T159-117-1_InitialState",
          "T130-131-1_InitialState",
          "L133-137-1_InitialState",
          "L119-120-1_InitialState",
          "L186-188-1_InitialState",
          "L163-164-1_InitialState",
          "T163-137-1_InitialState",
          "L39-42-1_InitialState",
          "L157-159-1_InitialState",
          "L117-118-1_InitialState",
          "L187-188-1_InitialState",
          "L181-138-1_InitialState",
          "L126-157-1_InitialState",
          "L162-164-1_InitialState",
          "L137-188-1_InitialState",
          "L126-158-1_InitialState",
          "L158-159-1_InitialState",
          "L220-238-1_InitialState",
          "L42-46-1_InitialState",
          "L116-120-1_InitialState"
         ],
         "yaxis": "y"
        },
        {
         "alignmentgroup": "True",
         "hovertemplate": "Decomposition part:=loop_flow_from_ie<br>Flow decomposition value=%{x}<br>xnec_id=%{y}<extra></extra>",
         "legendgroup": "loop_flow_from_ie",
         "marker": {
          "color": "#FC0080",
          "pattern": {
           "shape": ""
          }
         },
         "name": "loop_flow_from_ie",
         "offsetgroup": "loop_flow_from_ie",
         "orientation": "h",
         "showlegend": true,
         "textposition": "auto",
         "texttemplate": "%{x:.0f}",
         "type": "bar",
         "x": [
          null,
          null,
          null,
          null,
          null,
          null,
          null,
          null,
          null,
          null,
          null,
          null,
          null,
          null,
          null,
          null,
          null,
          null,
          null,
          null
         ],
         "xaxis": "x",
         "y": [
          "T159-117-1_InitialState",
          "T130-131-1_InitialState",
          "L133-137-1_InitialState",
          "L119-120-1_InitialState",
          "L186-188-1_InitialState",
          "L163-164-1_InitialState",
          "T163-137-1_InitialState",
          "L39-42-1_InitialState",
          "L157-159-1_InitialState",
          "L117-118-1_InitialState",
          "L187-188-1_InitialState",
          "L181-138-1_InitialState",
          "L126-157-1_InitialState",
          "L162-164-1_InitialState",
          "L137-188-1_InitialState",
          "L126-158-1_InitialState",
          "L158-159-1_InitialState",
          "L220-238-1_InitialState",
          "L42-46-1_InitialState",
          "L116-120-1_InitialState"
         ],
         "yaxis": "y"
        },
        {
         "alignmentgroup": "True",
         "hovertemplate": "Decomposition part:=loop_flow_from_lt<br>Flow decomposition value=%{x}<br>xnec_id=%{y}<extra></extra>",
         "legendgroup": "loop_flow_from_lt",
         "marker": {
          "color": "#FB0D0D",
          "pattern": {
           "shape": ""
          }
         },
         "name": "loop_flow_from_lt",
         "offsetgroup": "loop_flow_from_lt",
         "orientation": "h",
         "showlegend": true,
         "textposition": "auto",
         "texttemplate": "%{x:.0f}",
         "type": "bar",
         "x": [
          null,
          156.86329136218592,
          336.6087913185838,
          null,
          null,
          325.47901670785444,
          325.4790167078547,
          null,
          null,
          null,
          null,
          null,
          null,
          451.73796926177886,
          null,
          null,
          null,
          null,
          null,
          null
         ],
         "xaxis": "x",
         "y": [
          "T159-117-1_InitialState",
          "T130-131-1_InitialState",
          "L133-137-1_InitialState",
          "L119-120-1_InitialState",
          "L186-188-1_InitialState",
          "L163-164-1_InitialState",
          "T163-137-1_InitialState",
          "L39-42-1_InitialState",
          "L157-159-1_InitialState",
          "L117-118-1_InitialState",
          "L187-188-1_InitialState",
          "L181-138-1_InitialState",
          "L126-157-1_InitialState",
          "L162-164-1_InitialState",
          "L137-188-1_InitialState",
          "L126-158-1_InitialState",
          "L158-159-1_InitialState",
          "L220-238-1_InitialState",
          "L42-46-1_InitialState",
          "L116-120-1_InitialState"
         ],
         "yaxis": "y"
        },
        {
         "alignmentgroup": "True",
         "hovertemplate": "Decomposition part:=loop_flow_from_lu<br>Flow decomposition value=%{x}<br>xnec_id=%{y}<extra></extra>",
         "legendgroup": "loop_flow_from_lu",
         "marker": {
          "color": "#D626FF",
          "pattern": {
           "shape": ""
          }
         },
         "name": "loop_flow_from_lu",
         "offsetgroup": "loop_flow_from_lu",
         "orientation": "h",
         "showlegend": true,
         "textposition": "auto",
         "texttemplate": "%{x:.0f}",
         "type": "bar",
         "x": [
          null,
          null,
          98.69062874523755,
          null,
          null,
          53.25280725069435,
          53.25280725069437,
          null,
          null,
          null,
          null,
          null,
          null,
          null,
          null,
          null,
          null,
          82.98545549957792,
          133.77967824623622,
          null
         ],
         "xaxis": "x",
         "y": [
          "T159-117-1_InitialState",
          "T130-131-1_InitialState",
          "L133-137-1_InitialState",
          "L119-120-1_InitialState",
          "L186-188-1_InitialState",
          "L163-164-1_InitialState",
          "T163-137-1_InitialState",
          "L39-42-1_InitialState",
          "L157-159-1_InitialState",
          "L117-118-1_InitialState",
          "L187-188-1_InitialState",
          "L181-138-1_InitialState",
          "L126-157-1_InitialState",
          "L162-164-1_InitialState",
          "L137-188-1_InitialState",
          "L126-158-1_InitialState",
          "L158-159-1_InitialState",
          "L220-238-1_InitialState",
          "L42-46-1_InitialState",
          "L116-120-1_InitialState"
         ],
         "yaxis": "y"
        },
        {
         "alignmentgroup": "True",
         "hovertemplate": "Decomposition part:=pst_flow<br>Flow decomposition value=%{x}<br>xnec_id=%{y}<extra></extra>",
         "legendgroup": "pst_flow",
         "marker": {
          "color": "#DA16FF",
          "pattern": {
           "shape": ""
          }
         },
         "name": "pst_flow",
         "offsetgroup": "pst_flow",
         "orientation": "h",
         "showlegend": true,
         "textposition": "auto",
         "texttemplate": "%{x:.0f}",
         "type": "bar",
         "x": [
          null,
          null,
          null,
          null,
          null,
          null,
          null,
          null,
          null,
          null,
          null,
          null,
          null,
          null,
          null,
          null,
          null,
          null,
          null,
          null
         ],
         "xaxis": "x",
         "y": [
          "T159-117-1_InitialState",
          "T130-131-1_InitialState",
          "L133-137-1_InitialState",
          "L119-120-1_InitialState",
          "L186-188-1_InitialState",
          "L163-164-1_InitialState",
          "T163-137-1_InitialState",
          "L39-42-1_InitialState",
          "L157-159-1_InitialState",
          "L117-118-1_InitialState",
          "L187-188-1_InitialState",
          "L181-138-1_InitialState",
          "L126-157-1_InitialState",
          "L162-164-1_InitialState",
          "L137-188-1_InitialState",
          "L126-158-1_InitialState",
          "L158-159-1_InitialState",
          "L220-238-1_InitialState",
          "L42-46-1_InitialState",
          "L116-120-1_InitialState"
         ],
         "yaxis": "y"
        },
        {
         "alignmentgroup": "True",
         "hovertemplate": "Decomposition part:=masked_flows_positive<br>Flow decomposition value=%{x}<br>xnec_id=%{y}<extra></extra>",
         "legendgroup": "masked_flows_positive",
         "marker": {
          "color": "#86CE00",
          "pattern": {
           "shape": ""
          }
         },
         "name": "masked_flows_positive",
         "offsetgroup": "masked_flows_positive",
         "orientation": "h",
         "showlegend": true,
         "textposition": "auto",
         "texttemplate": "%{x:.0f}",
         "type": "bar",
         "x": [
          14.71381699704959,
          124.64805450224884,
          70.00361495108699,
          0.19896825362526996,
          8.827903953379849,
          26.3113497375863,
          26.31134973758625,
          19.948735197782636,
          11.559933971421682,
          14.713816997049745,
          8.711930138768075,
          8.886320788442337,
          14.377132467117447,
          19.948735197782838,
          27.06016993865243,
          13.579135068785153,
          3.1538830256278945,
          28.32670743070159,
          92.93162058111555,
          1.0546727478372457
         ],
         "xaxis": "x",
         "y": [
          "T159-117-1_InitialState",
          "T130-131-1_InitialState",
          "L133-137-1_InitialState",
          "L119-120-1_InitialState",
          "L186-188-1_InitialState",
          "L163-164-1_InitialState",
          "T163-137-1_InitialState",
          "L39-42-1_InitialState",
          "L157-159-1_InitialState",
          "L117-118-1_InitialState",
          "L187-188-1_InitialState",
          "L181-138-1_InitialState",
          "L126-157-1_InitialState",
          "L162-164-1_InitialState",
          "L137-188-1_InitialState",
          "L126-158-1_InitialState",
          "L158-159-1_InitialState",
          "L220-238-1_InitialState",
          "L42-46-1_InitialState",
          "L116-120-1_InitialState"
         ],
         "yaxis": "y"
        },
        {
         "alignmentgroup": "True",
         "hovertemplate": "Decomposition part:=masked_flows_negative<br>Flow decomposition value=%{x}<br>xnec_id=%{y}<extra></extra>",
         "legendgroup": "masked_flows_negative",
         "marker": {
          "color": "#6A76FC",
          "pattern": {
           "shape": ""
          }
         },
         "name": "masked_flows_negative",
         "offsetgroup": "masked_flows_negative",
         "orientation": "h",
         "showlegend": true,
         "textposition": "auto",
         "texttemplate": "%{x:.0f}",
         "type": "bar",
         "x": [
          -12.53804092592509,
          0,
          -25.998948583205525,
          -0.16954622362193986,
          -7.522495425885295,
          0,
          0,
          -16.998856135045852,
          -9.850532004288063,
          -12.538040925924646,
          -7.423671005666064,
          -16.06183961990475,
          -12.251142943147473,
          0,
          -23.058701778155303,
          -11.571147803811515,
          -2.687508921636822,
          -25.826734513752097,
          0,
          -1.2376943012974269
         ],
         "xaxis": "x",
         "y": [
          "T159-117-1_InitialState",
          "T130-131-1_InitialState",
          "L133-137-1_InitialState",
          "L119-120-1_InitialState",
          "L186-188-1_InitialState",
          "L163-164-1_InitialState",
          "T163-137-1_InitialState",
          "L39-42-1_InitialState",
          "L157-159-1_InitialState",
          "L117-118-1_InitialState",
          "L187-188-1_InitialState",
          "L181-138-1_InitialState",
          "L126-157-1_InitialState",
          "L162-164-1_InitialState",
          "L137-188-1_InitialState",
          "L126-158-1_InitialState",
          "L158-159-1_InitialState",
          "L220-238-1_InitialState",
          "L42-46-1_InitialState",
          "L116-120-1_InitialState"
         ],
         "yaxis": "y"
        },
        {
         "mode": "lines+markers",
         "name": "total_flow",
         "type": "scatter",
         "x": [
          494.89472631788584,
          6.569162304139269,
          718.3241559707752,
          705.9781703021854,
          664.4147781793408,
          238.24948821714182,
          238.24948821714216,
          500.736825396827,
          378.06160485228526,
          494.8947263178799,
          491.82039455730586,
          480.567949114082,
          28.666996012768855,
          468.73682539682545,
          435.73994724755295,
          38.87044021430861,
          83.83312146560249,
          306.00900518090515,
          552.8304851848867,
          60.950895756255946
         ],
         "y": [
          "T159-117-1_InitialState",
          "T130-131-1_InitialState",
          "L133-137-1_InitialState",
          "L119-120-1_InitialState",
          "L186-188-1_InitialState",
          "L163-164-1_InitialState",
          "T163-137-1_InitialState",
          "L39-42-1_InitialState",
          "L157-159-1_InitialState",
          "L117-118-1_InitialState",
          "L187-188-1_InitialState",
          "L181-138-1_InitialState",
          "L126-157-1_InitialState",
          "L162-164-1_InitialState",
          "L137-188-1_InitialState",
          "L126-158-1_InitialState",
          "L158-159-1_InitialState",
          "L220-238-1_InitialState",
          "L42-46-1_InitialState",
          "L116-120-1_InitialState"
         ]
        },
        {
         "mode": "lines+markers",
         "name": "total_loop_flow",
         "type": "scatter",
         "x": [
          830.2353520951655,
          813.9042118472968,
          718.3241559707752,
          705.9781703021854,
          664.4147781793408,
          512.409953824539,
          512.409953824539,
          500.736825396827,
          499.74261116968034,
          494.8947263178799,
          491.82039455730586,
          480.567949114082,
          473.9930962512798,
          468.73682539682545,
          435.73994724755295,
          398.49204552243964,
          330.4927409254856,
          306.00900518090515,
          280.97023862302,
          257.7522720873495
         ],
         "y": [
          "T159-117-1_InitialState",
          "T130-131-1_InitialState",
          "L133-137-1_InitialState",
          "L119-120-1_InitialState",
          "L186-188-1_InitialState",
          "L163-164-1_InitialState",
          "T163-137-1_InitialState",
          "L39-42-1_InitialState",
          "L157-159-1_InitialState",
          "L117-118-1_InitialState",
          "L187-188-1_InitialState",
          "L181-138-1_InitialState",
          "L126-157-1_InitialState",
          "L162-164-1_InitialState",
          "L137-188-1_InitialState",
          "L126-158-1_InitialState",
          "L158-159-1_InitialState",
          "L220-238-1_InitialState",
          "L42-46-1_InitialState",
          "L116-120-1_InitialState"
         ]
        }
       ],
       "layout": {
        "barmode": "relative",
        "height": 1000,
        "legend": {
         "title": {
          "text": "Decomposition part:"
         },
         "tracegroupgap": 0
        },
        "template": {
         "data": {
          "bar": [
           {
            "error_x": {
             "color": "rgb(36,36,36)"
            },
            "error_y": {
             "color": "rgb(36,36,36)"
            },
            "marker": {
             "line": {
              "color": "rgb(234,234,242)",
              "width": 0.5
             },
             "pattern": {
              "fillmode": "overlay",
              "size": 10,
              "solidity": 0.2
             }
            },
            "type": "bar"
           }
          ],
          "barpolar": [
           {
            "marker": {
             "line": {
              "color": "rgb(234,234,242)",
              "width": 0.5
             },
             "pattern": {
              "fillmode": "overlay",
              "size": 10,
              "solidity": 0.2
             }
            },
            "type": "barpolar"
           }
          ],
          "carpet": [
           {
            "aaxis": {
             "endlinecolor": "rgb(36,36,36)",
             "gridcolor": "white",
             "linecolor": "white",
             "minorgridcolor": "white",
             "startlinecolor": "rgb(36,36,36)"
            },
            "baxis": {
             "endlinecolor": "rgb(36,36,36)",
             "gridcolor": "white",
             "linecolor": "white",
             "minorgridcolor": "white",
             "startlinecolor": "rgb(36,36,36)"
            },
            "type": "carpet"
           }
          ],
          "choropleth": [
           {
            "colorbar": {
             "outlinewidth": 0,
             "tickcolor": "rgb(36,36,36)",
             "ticklen": 8,
             "ticks": "outside",
             "tickwidth": 2
            },
            "type": "choropleth"
           }
          ],
          "contour": [
           {
            "colorbar": {
             "outlinewidth": 0,
             "tickcolor": "rgb(36,36,36)",
             "ticklen": 8,
             "ticks": "outside",
             "tickwidth": 2
            },
            "colorscale": [
             [
              0,
              "rgb(2,4,25)"
             ],
             [
              0.06274509803921569,
              "rgb(24,15,41)"
             ],
             [
              0.12549019607843137,
              "rgb(47,23,57)"
             ],
             [
              0.18823529411764706,
              "rgb(71,28,72)"
             ],
             [
              0.25098039215686274,
              "rgb(97,30,82)"
             ],
             [
              0.3137254901960784,
              "rgb(123,30,89)"
             ],
             [
              0.3764705882352941,
              "rgb(150,27,91)"
             ],
             [
              0.4392156862745098,
              "rgb(177,22,88)"
             ],
             [
              0.5019607843137255,
              "rgb(203,26,79)"
             ],
             [
              0.5647058823529412,
              "rgb(223,47,67)"
             ],
             [
              0.6274509803921569,
              "rgb(236,76,61)"
             ],
             [
              0.6901960784313725,
              "rgb(242,107,73)"
             ],
             [
              0.7529411764705882,
              "rgb(244,135,95)"
             ],
             [
              0.8156862745098039,
              "rgb(245,162,122)"
             ],
             [
              0.8784313725490196,
              "rgb(246,188,153)"
             ],
             [
              0.9411764705882353,
              "rgb(247,212,187)"
             ],
             [
              1,
              "rgb(250,234,220)"
             ]
            ],
            "type": "contour"
           }
          ],
          "contourcarpet": [
           {
            "colorbar": {
             "outlinewidth": 0,
             "tickcolor": "rgb(36,36,36)",
             "ticklen": 8,
             "ticks": "outside",
             "tickwidth": 2
            },
            "type": "contourcarpet"
           }
          ],
          "heatmap": [
           {
            "colorbar": {
             "outlinewidth": 0,
             "tickcolor": "rgb(36,36,36)",
             "ticklen": 8,
             "ticks": "outside",
             "tickwidth": 2
            },
            "colorscale": [
             [
              0,
              "rgb(2,4,25)"
             ],
             [
              0.06274509803921569,
              "rgb(24,15,41)"
             ],
             [
              0.12549019607843137,
              "rgb(47,23,57)"
             ],
             [
              0.18823529411764706,
              "rgb(71,28,72)"
             ],
             [
              0.25098039215686274,
              "rgb(97,30,82)"
             ],
             [
              0.3137254901960784,
              "rgb(123,30,89)"
             ],
             [
              0.3764705882352941,
              "rgb(150,27,91)"
             ],
             [
              0.4392156862745098,
              "rgb(177,22,88)"
             ],
             [
              0.5019607843137255,
              "rgb(203,26,79)"
             ],
             [
              0.5647058823529412,
              "rgb(223,47,67)"
             ],
             [
              0.6274509803921569,
              "rgb(236,76,61)"
             ],
             [
              0.6901960784313725,
              "rgb(242,107,73)"
             ],
             [
              0.7529411764705882,
              "rgb(244,135,95)"
             ],
             [
              0.8156862745098039,
              "rgb(245,162,122)"
             ],
             [
              0.8784313725490196,
              "rgb(246,188,153)"
             ],
             [
              0.9411764705882353,
              "rgb(247,212,187)"
             ],
             [
              1,
              "rgb(250,234,220)"
             ]
            ],
            "type": "heatmap"
           }
          ],
          "heatmapgl": [
           {
            "colorbar": {
             "outlinewidth": 0,
             "tickcolor": "rgb(36,36,36)",
             "ticklen": 8,
             "ticks": "outside",
             "tickwidth": 2
            },
            "colorscale": [
             [
              0,
              "rgb(2,4,25)"
             ],
             [
              0.06274509803921569,
              "rgb(24,15,41)"
             ],
             [
              0.12549019607843137,
              "rgb(47,23,57)"
             ],
             [
              0.18823529411764706,
              "rgb(71,28,72)"
             ],
             [
              0.25098039215686274,
              "rgb(97,30,82)"
             ],
             [
              0.3137254901960784,
              "rgb(123,30,89)"
             ],
             [
              0.3764705882352941,
              "rgb(150,27,91)"
             ],
             [
              0.4392156862745098,
              "rgb(177,22,88)"
             ],
             [
              0.5019607843137255,
              "rgb(203,26,79)"
             ],
             [
              0.5647058823529412,
              "rgb(223,47,67)"
             ],
             [
              0.6274509803921569,
              "rgb(236,76,61)"
             ],
             [
              0.6901960784313725,
              "rgb(242,107,73)"
             ],
             [
              0.7529411764705882,
              "rgb(244,135,95)"
             ],
             [
              0.8156862745098039,
              "rgb(245,162,122)"
             ],
             [
              0.8784313725490196,
              "rgb(246,188,153)"
             ],
             [
              0.9411764705882353,
              "rgb(247,212,187)"
             ],
             [
              1,
              "rgb(250,234,220)"
             ]
            ],
            "type": "heatmapgl"
           }
          ],
          "histogram": [
           {
            "marker": {
             "pattern": {
              "fillmode": "overlay",
              "size": 10,
              "solidity": 0.2
             }
            },
            "type": "histogram"
           }
          ],
          "histogram2d": [
           {
            "colorbar": {
             "outlinewidth": 0,
             "tickcolor": "rgb(36,36,36)",
             "ticklen": 8,
             "ticks": "outside",
             "tickwidth": 2
            },
            "colorscale": [
             [
              0,
              "rgb(2,4,25)"
             ],
             [
              0.06274509803921569,
              "rgb(24,15,41)"
             ],
             [
              0.12549019607843137,
              "rgb(47,23,57)"
             ],
             [
              0.18823529411764706,
              "rgb(71,28,72)"
             ],
             [
              0.25098039215686274,
              "rgb(97,30,82)"
             ],
             [
              0.3137254901960784,
              "rgb(123,30,89)"
             ],
             [
              0.3764705882352941,
              "rgb(150,27,91)"
             ],
             [
              0.4392156862745098,
              "rgb(177,22,88)"
             ],
             [
              0.5019607843137255,
              "rgb(203,26,79)"
             ],
             [
              0.5647058823529412,
              "rgb(223,47,67)"
             ],
             [
              0.6274509803921569,
              "rgb(236,76,61)"
             ],
             [
              0.6901960784313725,
              "rgb(242,107,73)"
             ],
             [
              0.7529411764705882,
              "rgb(244,135,95)"
             ],
             [
              0.8156862745098039,
              "rgb(245,162,122)"
             ],
             [
              0.8784313725490196,
              "rgb(246,188,153)"
             ],
             [
              0.9411764705882353,
              "rgb(247,212,187)"
             ],
             [
              1,
              "rgb(250,234,220)"
             ]
            ],
            "type": "histogram2d"
           }
          ],
          "histogram2dcontour": [
           {
            "colorbar": {
             "outlinewidth": 0,
             "tickcolor": "rgb(36,36,36)",
             "ticklen": 8,
             "ticks": "outside",
             "tickwidth": 2
            },
            "colorscale": [
             [
              0,
              "rgb(2,4,25)"
             ],
             [
              0.06274509803921569,
              "rgb(24,15,41)"
             ],
             [
              0.12549019607843137,
              "rgb(47,23,57)"
             ],
             [
              0.18823529411764706,
              "rgb(71,28,72)"
             ],
             [
              0.25098039215686274,
              "rgb(97,30,82)"
             ],
             [
              0.3137254901960784,
              "rgb(123,30,89)"
             ],
             [
              0.3764705882352941,
              "rgb(150,27,91)"
             ],
             [
              0.4392156862745098,
              "rgb(177,22,88)"
             ],
             [
              0.5019607843137255,
              "rgb(203,26,79)"
             ],
             [
              0.5647058823529412,
              "rgb(223,47,67)"
             ],
             [
              0.6274509803921569,
              "rgb(236,76,61)"
             ],
             [
              0.6901960784313725,
              "rgb(242,107,73)"
             ],
             [
              0.7529411764705882,
              "rgb(244,135,95)"
             ],
             [
              0.8156862745098039,
              "rgb(245,162,122)"
             ],
             [
              0.8784313725490196,
              "rgb(246,188,153)"
             ],
             [
              0.9411764705882353,
              "rgb(247,212,187)"
             ],
             [
              1,
              "rgb(250,234,220)"
             ]
            ],
            "type": "histogram2dcontour"
           }
          ],
          "mesh3d": [
           {
            "colorbar": {
             "outlinewidth": 0,
             "tickcolor": "rgb(36,36,36)",
             "ticklen": 8,
             "ticks": "outside",
             "tickwidth": 2
            },
            "type": "mesh3d"
           }
          ],
          "parcoords": [
           {
            "line": {
             "colorbar": {
              "outlinewidth": 0,
              "tickcolor": "rgb(36,36,36)",
              "ticklen": 8,
              "ticks": "outside",
              "tickwidth": 2
             }
            },
            "type": "parcoords"
           }
          ],
          "pie": [
           {
            "automargin": true,
            "type": "pie"
           }
          ],
          "scatter": [
           {
            "fillpattern": {
             "fillmode": "overlay",
             "size": 10,
             "solidity": 0.2
            },
            "type": "scatter"
           }
          ],
          "scatter3d": [
           {
            "line": {
             "colorbar": {
              "outlinewidth": 0,
              "tickcolor": "rgb(36,36,36)",
              "ticklen": 8,
              "ticks": "outside",
              "tickwidth": 2
             }
            },
            "marker": {
             "colorbar": {
              "outlinewidth": 0,
              "tickcolor": "rgb(36,36,36)",
              "ticklen": 8,
              "ticks": "outside",
              "tickwidth": 2
             }
            },
            "type": "scatter3d"
           }
          ],
          "scattercarpet": [
           {
            "marker": {
             "colorbar": {
              "outlinewidth": 0,
              "tickcolor": "rgb(36,36,36)",
              "ticklen": 8,
              "ticks": "outside",
              "tickwidth": 2
             }
            },
            "type": "scattercarpet"
           }
          ],
          "scattergeo": [
           {
            "marker": {
             "colorbar": {
              "outlinewidth": 0,
              "tickcolor": "rgb(36,36,36)",
              "ticklen": 8,
              "ticks": "outside",
              "tickwidth": 2
             }
            },
            "type": "scattergeo"
           }
          ],
          "scattergl": [
           {
            "marker": {
             "colorbar": {
              "outlinewidth": 0,
              "tickcolor": "rgb(36,36,36)",
              "ticklen": 8,
              "ticks": "outside",
              "tickwidth": 2
             }
            },
            "type": "scattergl"
           }
          ],
          "scattermapbox": [
           {
            "marker": {
             "colorbar": {
              "outlinewidth": 0,
              "tickcolor": "rgb(36,36,36)",
              "ticklen": 8,
              "ticks": "outside",
              "tickwidth": 2
             }
            },
            "type": "scattermapbox"
           }
          ],
          "scatterpolar": [
           {
            "marker": {
             "colorbar": {
              "outlinewidth": 0,
              "tickcolor": "rgb(36,36,36)",
              "ticklen": 8,
              "ticks": "outside",
              "tickwidth": 2
             }
            },
            "type": "scatterpolar"
           }
          ],
          "scatterpolargl": [
           {
            "marker": {
             "colorbar": {
              "outlinewidth": 0,
              "tickcolor": "rgb(36,36,36)",
              "ticklen": 8,
              "ticks": "outside",
              "tickwidth": 2
             }
            },
            "type": "scatterpolargl"
           }
          ],
          "scatterternary": [
           {
            "marker": {
             "colorbar": {
              "outlinewidth": 0,
              "tickcolor": "rgb(36,36,36)",
              "ticklen": 8,
              "ticks": "outside",
              "tickwidth": 2
             }
            },
            "type": "scatterternary"
           }
          ],
          "surface": [
           {
            "colorbar": {
             "outlinewidth": 0,
             "tickcolor": "rgb(36,36,36)",
             "ticklen": 8,
             "ticks": "outside",
             "tickwidth": 2
            },
            "colorscale": [
             [
              0,
              "rgb(2,4,25)"
             ],
             [
              0.06274509803921569,
              "rgb(24,15,41)"
             ],
             [
              0.12549019607843137,
              "rgb(47,23,57)"
             ],
             [
              0.18823529411764706,
              "rgb(71,28,72)"
             ],
             [
              0.25098039215686274,
              "rgb(97,30,82)"
             ],
             [
              0.3137254901960784,
              "rgb(123,30,89)"
             ],
             [
              0.3764705882352941,
              "rgb(150,27,91)"
             ],
             [
              0.4392156862745098,
              "rgb(177,22,88)"
             ],
             [
              0.5019607843137255,
              "rgb(203,26,79)"
             ],
             [
              0.5647058823529412,
              "rgb(223,47,67)"
             ],
             [
              0.6274509803921569,
              "rgb(236,76,61)"
             ],
             [
              0.6901960784313725,
              "rgb(242,107,73)"
             ],
             [
              0.7529411764705882,
              "rgb(244,135,95)"
             ],
             [
              0.8156862745098039,
              "rgb(245,162,122)"
             ],
             [
              0.8784313725490196,
              "rgb(246,188,153)"
             ],
             [
              0.9411764705882353,
              "rgb(247,212,187)"
             ],
             [
              1,
              "rgb(250,234,220)"
             ]
            ],
            "type": "surface"
           }
          ],
          "table": [
           {
            "cells": {
             "fill": {
              "color": "rgb(231,231,240)"
             },
             "line": {
              "color": "white"
             }
            },
            "header": {
             "fill": {
              "color": "rgb(183,183,191)"
             },
             "line": {
              "color": "white"
             }
            },
            "type": "table"
           }
          ]
         },
         "layout": {
          "annotationdefaults": {
           "arrowcolor": "rgb(67,103,167)"
          },
          "autotypenumbers": "strict",
          "coloraxis": {
           "colorbar": {
            "outlinewidth": 0,
            "tickcolor": "rgb(36,36,36)",
            "ticklen": 8,
            "ticks": "outside",
            "tickwidth": 2
           }
          },
          "colorscale": {
           "sequential": [
            [
             0,
             "rgb(2,4,25)"
            ],
            [
             0.06274509803921569,
             "rgb(24,15,41)"
            ],
            [
             0.12549019607843137,
             "rgb(47,23,57)"
            ],
            [
             0.18823529411764706,
             "rgb(71,28,72)"
            ],
            [
             0.25098039215686274,
             "rgb(97,30,82)"
            ],
            [
             0.3137254901960784,
             "rgb(123,30,89)"
            ],
            [
             0.3764705882352941,
             "rgb(150,27,91)"
            ],
            [
             0.4392156862745098,
             "rgb(177,22,88)"
            ],
            [
             0.5019607843137255,
             "rgb(203,26,79)"
            ],
            [
             0.5647058823529412,
             "rgb(223,47,67)"
            ],
            [
             0.6274509803921569,
             "rgb(236,76,61)"
            ],
            [
             0.6901960784313725,
             "rgb(242,107,73)"
            ],
            [
             0.7529411764705882,
             "rgb(244,135,95)"
            ],
            [
             0.8156862745098039,
             "rgb(245,162,122)"
            ],
            [
             0.8784313725490196,
             "rgb(246,188,153)"
            ],
            [
             0.9411764705882353,
             "rgb(247,212,187)"
            ],
            [
             1,
             "rgb(250,234,220)"
            ]
           ],
           "sequentialminus": [
            [
             0,
             "rgb(2,4,25)"
            ],
            [
             0.06274509803921569,
             "rgb(24,15,41)"
            ],
            [
             0.12549019607843137,
             "rgb(47,23,57)"
            ],
            [
             0.18823529411764706,
             "rgb(71,28,72)"
            ],
            [
             0.25098039215686274,
             "rgb(97,30,82)"
            ],
            [
             0.3137254901960784,
             "rgb(123,30,89)"
            ],
            [
             0.3764705882352941,
             "rgb(150,27,91)"
            ],
            [
             0.4392156862745098,
             "rgb(177,22,88)"
            ],
            [
             0.5019607843137255,
             "rgb(203,26,79)"
            ],
            [
             0.5647058823529412,
             "rgb(223,47,67)"
            ],
            [
             0.6274509803921569,
             "rgb(236,76,61)"
            ],
            [
             0.6901960784313725,
             "rgb(242,107,73)"
            ],
            [
             0.7529411764705882,
             "rgb(244,135,95)"
            ],
            [
             0.8156862745098039,
             "rgb(245,162,122)"
            ],
            [
             0.8784313725490196,
             "rgb(246,188,153)"
            ],
            [
             0.9411764705882353,
             "rgb(247,212,187)"
            ],
            [
             1,
             "rgb(250,234,220)"
            ]
           ]
          },
          "colorway": [
           "rgb(76,114,176)",
           "rgb(221,132,82)",
           "rgb(85,168,104)",
           "rgb(196,78,82)",
           "rgb(129,114,179)",
           "rgb(147,120,96)",
           "rgb(218,139,195)",
           "rgb(140,140,140)",
           "rgb(204,185,116)",
           "rgb(100,181,205)"
          ],
          "font": {
           "color": "rgb(36,36,36)"
          },
          "geo": {
           "bgcolor": "white",
           "lakecolor": "white",
           "landcolor": "rgb(234,234,242)",
           "showlakes": true,
           "showland": true,
           "subunitcolor": "white"
          },
          "hoverlabel": {
           "align": "left"
          },
          "hovermode": "closest",
          "paper_bgcolor": "white",
          "plot_bgcolor": "rgb(234,234,242)",
          "polar": {
           "angularaxis": {
            "gridcolor": "white",
            "linecolor": "white",
            "showgrid": true,
            "ticks": ""
           },
           "bgcolor": "rgb(234,234,242)",
           "radialaxis": {
            "gridcolor": "white",
            "linecolor": "white",
            "showgrid": true,
            "ticks": ""
           }
          },
          "scene": {
           "xaxis": {
            "backgroundcolor": "rgb(234,234,242)",
            "gridcolor": "white",
            "gridwidth": 2,
            "linecolor": "white",
            "showbackground": true,
            "showgrid": true,
            "ticks": "",
            "zerolinecolor": "white"
           },
           "yaxis": {
            "backgroundcolor": "rgb(234,234,242)",
            "gridcolor": "white",
            "gridwidth": 2,
            "linecolor": "white",
            "showbackground": true,
            "showgrid": true,
            "ticks": "",
            "zerolinecolor": "white"
           },
           "zaxis": {
            "backgroundcolor": "rgb(234,234,242)",
            "gridcolor": "white",
            "gridwidth": 2,
            "linecolor": "white",
            "showbackground": true,
            "showgrid": true,
            "ticks": "",
            "zerolinecolor": "white"
           }
          },
          "shapedefaults": {
           "fillcolor": "rgb(67,103,167)",
           "line": {
            "width": 0
           },
           "opacity": 0.5
          },
          "ternary": {
           "aaxis": {
            "gridcolor": "white",
            "linecolor": "white",
            "showgrid": true,
            "ticks": ""
           },
           "baxis": {
            "gridcolor": "white",
            "linecolor": "white",
            "showgrid": true,
            "ticks": ""
           },
           "bgcolor": "rgb(234,234,242)",
           "caxis": {
            "gridcolor": "white",
            "linecolor": "white",
            "showgrid": true,
            "ticks": ""
           }
          },
          "xaxis": {
           "automargin": true,
           "gridcolor": "white",
           "linecolor": "white",
           "showgrid": true,
           "ticks": "",
           "title": {
            "standoff": 15
           },
           "zerolinecolor": "white"
          },
          "yaxis": {
           "automargin": true,
           "gridcolor": "white",
           "linecolor": "white",
           "showgrid": true,
           "ticks": "",
           "title": {
            "standoff": 15
           },
           "zerolinecolor": "white"
          }
         }
        },
        "title": {
         "text": "Sorted by: total_loop_flow, ascending: False, head: 20"
        },
        "xaxis": {
         "anchor": "y",
         "domain": [
          0,
          1
         ],
         "title": {
          "text": "Flow decomposition value"
         }
        },
        "yaxis": {
         "anchor": "x",
         "domain": [
          0,
          1
         ],
         "title": {
          "text": "xnec_id"
         }
        }
       }
      }
     },
     "metadata": {},
     "output_type": "display_data"
    }
   ],
   "source": [
    "flow_decomposition_bar_chart('total_loop_flow')"
   ]
  },
  {
   "cell_type": "code",
   "execution_count": 11,
   "metadata": {},
   "outputs": [
    {
     "data": {
      "application/vnd.plotly.v1+json": {
       "config": {
        "plotlyServerURL": "https://plot.ly"
       },
       "data": [
        {
         "alignmentgroup": "True",
         "hovertemplate": "Decomposition part:=commercial_flow<br>Flow decomposition value=%{x}<br>xnec_id=%{y}<extra></extra>",
         "legendgroup": "commercial_flow",
         "marker": {
          "color": "#0DF9FF",
          "pattern": {
           "shape": ""
          }
         },
         "name": "commercial_flow",
         "offsetgroup": "commercial_flow",
         "orientation": "h",
         "showlegend": true,
         "textposition": "auto",
         "texttemplate": "%{x:.0f}",
         "type": "bar",
         "x": [
          null,
          null,
          null,
          null,
          null,
          null,
          null,
          null,
          null,
          null,
          null,
          null,
          null,
          null,
          null,
          null,
          null,
          null,
          null,
          null
         ],
         "xaxis": "x",
         "y": [
          "T130-150-1_InitialState",
          "L137-140-1_InitialState",
          "L126-127-1_InitialState",
          "L137-181-1_InitialState",
          "L129-130-1_InitialState",
          "L128-130-1_InitialState",
          "L130-167-1_InitialState",
          "T143-144-1_InitialState",
          "L125-126-1_InitialState",
          "L118-119-1_InitialState",
          "L126-132-1_InitialState",
          "L126-129-1_InitialState",
          "L127-128-1_InitialState",
          "L129-133-1_InitialState",
          "L128-133-1_InitialState",
          "L130-132-1_InitialState",
          "L16-42-1_InitialState",
          "L4-16-1_InitialState",
          "T3-4-1_InitialState",
          "L214-215-1_InitialState"
         ],
         "yaxis": "y"
        },
        {
         "alignmentgroup": "True",
         "hovertemplate": "Decomposition part:=internal_flow<br>Flow decomposition value=%{x}<br>xnec_id=%{y}<extra></extra>",
         "legendgroup": "internal_flow",
         "marker": {
          "color": "#AF0038",
          "pattern": {
           "shape": ""
          }
         },
         "name": "internal_flow",
         "offsetgroup": "internal_flow",
         "orientation": "h",
         "showlegend": true,
         "textposition": "auto",
         "texttemplate": "%{x:.0f}",
         "type": "bar",
         "x": [
          995.2190166809874,
          880.062772585763,
          639.0600256317884,
          563.4314596349528,
          654.6437830222726,
          651.4288794387418,
          618.7906138926086,
          468.80963577548357,
          783.8085302810297,
          839.6808223381145,
          352.95898424280085,
          346.88508663553006,
          413.18681438933334,
          307.75869638674266,
          238.24206504940852,
          414.7097906514976,
          612.838789450805,
          944.0179750476757,
          944.0179750476756,
          411.8771963489048
         ],
         "xaxis": "x",
         "y": [
          "T130-150-1_InitialState",
          "L137-140-1_InitialState",
          "L126-127-1_InitialState",
          "L137-181-1_InitialState",
          "L129-130-1_InitialState",
          "L128-130-1_InitialState",
          "L130-167-1_InitialState",
          "T143-144-1_InitialState",
          "L125-126-1_InitialState",
          "L118-119-1_InitialState",
          "L126-132-1_InitialState",
          "L126-129-1_InitialState",
          "L127-128-1_InitialState",
          "L129-133-1_InitialState",
          "L128-133-1_InitialState",
          "L130-132-1_InitialState",
          "L16-42-1_InitialState",
          "L4-16-1_InitialState",
          "T3-4-1_InitialState",
          "L214-215-1_InitialState"
         ],
         "yaxis": "y"
        },
        {
         "alignmentgroup": "True",
         "hovertemplate": "Decomposition part:=loop_flow_from_bg<br>Flow decomposition value=%{x}<br>xnec_id=%{y}<extra></extra>",
         "legendgroup": "loop_flow_from_bg",
         "marker": {
          "color": "#FD3216",
          "pattern": {
           "shape": ""
          }
         },
         "name": "loop_flow_from_bg",
         "offsetgroup": "loop_flow_from_bg",
         "orientation": "h",
         "showlegend": true,
         "textposition": "auto",
         "texttemplate": "%{x:.0f}",
         "type": "bar",
         "x": [
          null,
          null,
          null,
          null,
          null,
          null,
          null,
          null,
          null,
          null,
          null,
          null,
          null,
          null,
          null,
          null,
          136.85900162726386,
          null,
          null,
          null
         ],
         "xaxis": "x",
         "y": [
          "T130-150-1_InitialState",
          "L137-140-1_InitialState",
          "L126-127-1_InitialState",
          "L137-181-1_InitialState",
          "L129-130-1_InitialState",
          "L128-130-1_InitialState",
          "L130-167-1_InitialState",
          "T143-144-1_InitialState",
          "L125-126-1_InitialState",
          "L118-119-1_InitialState",
          "L126-132-1_InitialState",
          "L126-129-1_InitialState",
          "L127-128-1_InitialState",
          "L129-133-1_InitialState",
          "L128-133-1_InitialState",
          "L130-132-1_InitialState",
          "L16-42-1_InitialState",
          "L4-16-1_InitialState",
          "T3-4-1_InitialState",
          "L214-215-1_InitialState"
         ],
         "yaxis": "y"
        },
        {
         "alignmentgroup": "True",
         "hovertemplate": "Decomposition part:=loop_flow_from_cz<br>Flow decomposition value=%{x}<br>xnec_id=%{y}<extra></extra>",
         "legendgroup": "loop_flow_from_cz",
         "marker": {
          "color": "#00A08B",
          "pattern": {
           "shape": ""
          }
         },
         "name": "loop_flow_from_cz",
         "offsetgroup": "loop_flow_from_cz",
         "orientation": "h",
         "showlegend": true,
         "textposition": "auto",
         "texttemplate": "%{x:.0f}",
         "type": "bar",
         "x": [
          null,
          null,
          null,
          null,
          null,
          null,
          null,
          null,
          null,
          null,
          null,
          null,
          null,
          null,
          null,
          null,
          null,
          null,
          null,
          null
         ],
         "xaxis": "x",
         "y": [
          "T130-150-1_InitialState",
          "L137-140-1_InitialState",
          "L126-127-1_InitialState",
          "L137-181-1_InitialState",
          "L129-130-1_InitialState",
          "L128-130-1_InitialState",
          "L130-167-1_InitialState",
          "T143-144-1_InitialState",
          "L125-126-1_InitialState",
          "L118-119-1_InitialState",
          "L126-132-1_InitialState",
          "L126-129-1_InitialState",
          "L127-128-1_InitialState",
          "L129-133-1_InitialState",
          "L128-133-1_InitialState",
          "L130-132-1_InitialState",
          "L16-42-1_InitialState",
          "L4-16-1_InitialState",
          "T3-4-1_InitialState",
          "L214-215-1_InitialState"
         ],
         "yaxis": "y"
        },
        {
         "alignmentgroup": "True",
         "hovertemplate": "Decomposition part:=loop_flow_from_dk<br>Flow decomposition value=%{x}<br>xnec_id=%{y}<extra></extra>",
         "legendgroup": "loop_flow_from_dk",
         "marker": {
          "color": "#6C4516",
          "pattern": {
           "shape": ""
          }
         },
         "name": "loop_flow_from_dk",
         "offsetgroup": "loop_flow_from_dk",
         "orientation": "h",
         "showlegend": true,
         "textposition": "auto",
         "texttemplate": "%{x:.0f}",
         "type": "bar",
         "x": [
          -805.2344943982332,
          null,
          -501.63543239505947,
          null,
          -364.8166599107037,
          -347.8227043202974,
          -293.3946475354808,
          null,
          -304.7689635110722,
          null,
          -224.47097647115595,
          -230.87357970107746,
          -190.3688663293666,
          -133.94308020962615,
          -157.4538379909313,
          -165.97847551835397,
          488.1204619339962,
          611.125304240149,
          611.1253042401501,
          -132.19304277659631
         ],
         "xaxis": "x",
         "y": [
          "T130-150-1_InitialState",
          "L137-140-1_InitialState",
          "L126-127-1_InitialState",
          "L137-181-1_InitialState",
          "L129-130-1_InitialState",
          "L128-130-1_InitialState",
          "L130-167-1_InitialState",
          "T143-144-1_InitialState",
          "L125-126-1_InitialState",
          "L118-119-1_InitialState",
          "L126-132-1_InitialState",
          "L126-129-1_InitialState",
          "L127-128-1_InitialState",
          "L129-133-1_InitialState",
          "L128-133-1_InitialState",
          "L130-132-1_InitialState",
          "L16-42-1_InitialState",
          "L4-16-1_InitialState",
          "T3-4-1_InitialState",
          "L214-215-1_InitialState"
         ],
         "yaxis": "y"
        },
        {
         "alignmentgroup": "True",
         "hovertemplate": "Decomposition part:=loop_flow_from_ee<br>Flow decomposition value=%{x}<br>xnec_id=%{y}<extra></extra>",
         "legendgroup": "loop_flow_from_ee",
         "marker": {
          "color": "#511CFB",
          "pattern": {
           "shape": ""
          }
         },
         "name": "loop_flow_from_ee",
         "offsetgroup": "loop_flow_from_ee",
         "orientation": "h",
         "showlegend": true,
         "textposition": "auto",
         "texttemplate": "%{x:.0f}",
         "type": "bar",
         "x": [
          null,
          null,
          null,
          null,
          null,
          null,
          null,
          null,
          null,
          null,
          null,
          null,
          null,
          null,
          null,
          null,
          null,
          null,
          null,
          -124.8639512657828
         ],
         "xaxis": "x",
         "y": [
          "T130-150-1_InitialState",
          "L137-140-1_InitialState",
          "L126-127-1_InitialState",
          "L137-181-1_InitialState",
          "L129-130-1_InitialState",
          "L128-130-1_InitialState",
          "L130-167-1_InitialState",
          "T143-144-1_InitialState",
          "L125-126-1_InitialState",
          "L118-119-1_InitialState",
          "L126-132-1_InitialState",
          "L126-129-1_InitialState",
          "L127-128-1_InitialState",
          "L129-133-1_InitialState",
          "L128-133-1_InitialState",
          "L130-132-1_InitialState",
          "L16-42-1_InitialState",
          "L4-16-1_InitialState",
          "T3-4-1_InitialState",
          "L214-215-1_InitialState"
         ],
         "yaxis": "y"
        },
        {
         "alignmentgroup": "True",
         "hovertemplate": "Decomposition part:=loop_flow_from_fr<br>Flow decomposition value=%{x}<br>xnec_id=%{y}<extra></extra>",
         "legendgroup": "loop_flow_from_fr",
         "marker": {
          "color": "#F6F926",
          "pattern": {
           "shape": ""
          }
         },
         "name": "loop_flow_from_fr",
         "offsetgroup": "loop_flow_from_fr",
         "orientation": "h",
         "showlegend": true,
         "textposition": "auto",
         "texttemplate": "%{x:.0f}",
         "type": "bar",
         "x": [
          161.56823590026073,
          324.6421316560466,
          null,
          null,
          74.82120823400822,
          73.92678520393949,
          60.5098914758056,
          -245.02122435302482,
          null,
          null,
          null,
          null,
          null,
          78.20736149066087,
          70.81198376472474,
          null,
          -190.4151544836397,
          -187.17695650337407,
          -187.17695650337419,
          null
         ],
         "xaxis": "x",
         "y": [
          "T130-150-1_InitialState",
          "L137-140-1_InitialState",
          "L126-127-1_InitialState",
          "L137-181-1_InitialState",
          "L129-130-1_InitialState",
          "L128-130-1_InitialState",
          "L130-167-1_InitialState",
          "T143-144-1_InitialState",
          "L125-126-1_InitialState",
          "L118-119-1_InitialState",
          "L126-132-1_InitialState",
          "L126-129-1_InitialState",
          "L127-128-1_InitialState",
          "L129-133-1_InitialState",
          "L128-133-1_InitialState",
          "L130-132-1_InitialState",
          "L16-42-1_InitialState",
          "L4-16-1_InitialState",
          "T3-4-1_InitialState",
          "L214-215-1_InitialState"
         ],
         "yaxis": "y"
        },
        {
         "alignmentgroup": "True",
         "hovertemplate": "Decomposition part:=loop_flow_from_hu<br>Flow decomposition value=%{x}<br>xnec_id=%{y}<extra></extra>",
         "legendgroup": "loop_flow_from_hu",
         "marker": {
          "color": "#C9FBE5",
          "pattern": {
           "shape": ""
          }
         },
         "name": "loop_flow_from_hu",
         "offsetgroup": "loop_flow_from_hu",
         "orientation": "h",
         "showlegend": true,
         "textposition": "auto",
         "texttemplate": "%{x:.0f}",
         "type": "bar",
         "x": [
          null,
          -852.1368181296777,
          null,
          -471.4866764019844,
          null,
          null,
          null,
          -448.1985868371601,
          null,
          -249.46680456057973,
          null,
          null,
          null,
          null,
          null,
          null,
          -813.4598799127205,
          -899.2953251872486,
          -899.2953251872494,
          124.45105125307617
         ],
         "xaxis": "x",
         "y": [
          "T130-150-1_InitialState",
          "L137-140-1_InitialState",
          "L126-127-1_InitialState",
          "L137-181-1_InitialState",
          "L129-130-1_InitialState",
          "L128-130-1_InitialState",
          "L130-167-1_InitialState",
          "T143-144-1_InitialState",
          "L125-126-1_InitialState",
          "L118-119-1_InitialState",
          "L126-132-1_InitialState",
          "L126-129-1_InitialState",
          "L127-128-1_InitialState",
          "L129-133-1_InitialState",
          "L128-133-1_InitialState",
          "L130-132-1_InitialState",
          "L16-42-1_InitialState",
          "L4-16-1_InitialState",
          "T3-4-1_InitialState",
          "L214-215-1_InitialState"
         ],
         "yaxis": "y"
        },
        {
         "alignmentgroup": "True",
         "hovertemplate": "Decomposition part:=loop_flow_from_ie<br>Flow decomposition value=%{x}<br>xnec_id=%{y}<extra></extra>",
         "legendgroup": "loop_flow_from_ie",
         "marker": {
          "color": "#FC0080",
          "pattern": {
           "shape": ""
          }
         },
         "name": "loop_flow_from_ie",
         "offsetgroup": "loop_flow_from_ie",
         "orientation": "h",
         "showlegend": true,
         "textposition": "auto",
         "texttemplate": "%{x:.0f}",
         "type": "bar",
         "x": [
          null,
          null,
          null,
          null,
          null,
          null,
          null,
          null,
          null,
          null,
          null,
          null,
          null,
          null,
          null,
          null,
          null,
          null,
          null,
          null
         ],
         "xaxis": "x",
         "y": [
          "T130-150-1_InitialState",
          "L137-140-1_InitialState",
          "L126-127-1_InitialState",
          "L137-181-1_InitialState",
          "L129-130-1_InitialState",
          "L128-130-1_InitialState",
          "L130-167-1_InitialState",
          "T143-144-1_InitialState",
          "L125-126-1_InitialState",
          "L118-119-1_InitialState",
          "L126-132-1_InitialState",
          "L126-129-1_InitialState",
          "L127-128-1_InitialState",
          "L129-133-1_InitialState",
          "L128-133-1_InitialState",
          "L130-132-1_InitialState",
          "L16-42-1_InitialState",
          "L4-16-1_InitialState",
          "T3-4-1_InitialState",
          "L214-215-1_InitialState"
         ],
         "yaxis": "y"
        },
        {
         "alignmentgroup": "True",
         "hovertemplate": "Decomposition part:=loop_flow_from_lt<br>Flow decomposition value=%{x}<br>xnec_id=%{y}<extra></extra>",
         "legendgroup": "loop_flow_from_lt",
         "marker": {
          "color": "#FB0D0D",
          "pattern": {
           "shape": ""
          }
         },
         "name": "loop_flow_from_lt",
         "offsetgroup": "loop_flow_from_lt",
         "orientation": "h",
         "showlegend": true,
         "textposition": "auto",
         "texttemplate": "%{x:.0f}",
         "type": "bar",
         "x": [
          -159.14264076334035,
          null,
          null,
          null,
          -88.10089340430817,
          -88.7723721335862,
          -71.27687046962748,
          235.9631028959298,
          null,
          null,
          null,
          null,
          null,
          -96.207402878426,
          -80.44251355525793,
          null,
          null,
          null,
          null,
          -49.74943400011905
         ],
         "xaxis": "x",
         "y": [
          "T130-150-1_InitialState",
          "L137-140-1_InitialState",
          "L126-127-1_InitialState",
          "L137-181-1_InitialState",
          "L129-130-1_InitialState",
          "L128-130-1_InitialState",
          "L130-167-1_InitialState",
          "T143-144-1_InitialState",
          "L125-126-1_InitialState",
          "L118-119-1_InitialState",
          "L126-132-1_InitialState",
          "L126-129-1_InitialState",
          "L127-128-1_InitialState",
          "L129-133-1_InitialState",
          "L128-133-1_InitialState",
          "L130-132-1_InitialState",
          "L16-42-1_InitialState",
          "L4-16-1_InitialState",
          "T3-4-1_InitialState",
          "L214-215-1_InitialState"
         ],
         "yaxis": "y"
        },
        {
         "alignmentgroup": "True",
         "hovertemplate": "Decomposition part:=loop_flow_from_lu<br>Flow decomposition value=%{x}<br>xnec_id=%{y}<extra></extra>",
         "legendgroup": "loop_flow_from_lu",
         "marker": {
          "color": "#D626FF",
          "pattern": {
           "shape": ""
          }
         },
         "name": "loop_flow_from_lu",
         "offsetgroup": "loop_flow_from_lu",
         "orientation": "h",
         "showlegend": true,
         "textposition": "auto",
         "texttemplate": "%{x:.0f}",
         "type": "bar",
         "x": [
          null,
          null,
          null,
          null,
          null,
          null,
          null,
          null,
          null,
          null,
          null,
          null,
          null,
          null,
          null,
          null,
          130.33300001683094,
          null,
          null,
          null
         ],
         "xaxis": "x",
         "y": [
          "T130-150-1_InitialState",
          "L137-140-1_InitialState",
          "L126-127-1_InitialState",
          "L137-181-1_InitialState",
          "L129-130-1_InitialState",
          "L128-130-1_InitialState",
          "L130-167-1_InitialState",
          "T143-144-1_InitialState",
          "L125-126-1_InitialState",
          "L118-119-1_InitialState",
          "L126-132-1_InitialState",
          "L126-129-1_InitialState",
          "L127-128-1_InitialState",
          "L129-133-1_InitialState",
          "L128-133-1_InitialState",
          "L130-132-1_InitialState",
          "L16-42-1_InitialState",
          "L4-16-1_InitialState",
          "T3-4-1_InitialState",
          "L214-215-1_InitialState"
         ],
         "yaxis": "y"
        },
        {
         "alignmentgroup": "True",
         "hovertemplate": "Decomposition part:=pst_flow<br>Flow decomposition value=%{x}<br>xnec_id=%{y}<extra></extra>",
         "legendgroup": "pst_flow",
         "marker": {
          "color": "#DA16FF",
          "pattern": {
           "shape": ""
          }
         },
         "name": "pst_flow",
         "offsetgroup": "pst_flow",
         "orientation": "h",
         "showlegend": true,
         "textposition": "auto",
         "texttemplate": "%{x:.0f}",
         "type": "bar",
         "x": [
          null,
          null,
          null,
          null,
          null,
          null,
          null,
          null,
          null,
          null,
          null,
          null,
          null,
          null,
          null,
          null,
          null,
          null,
          null,
          null
         ],
         "xaxis": "x",
         "y": [
          "T130-150-1_InitialState",
          "L137-140-1_InitialState",
          "L126-127-1_InitialState",
          "L137-181-1_InitialState",
          "L129-130-1_InitialState",
          "L128-130-1_InitialState",
          "L130-167-1_InitialState",
          "T143-144-1_InitialState",
          "L125-126-1_InitialState",
          "L118-119-1_InitialState",
          "L126-132-1_InitialState",
          "L126-129-1_InitialState",
          "L127-128-1_InitialState",
          "L129-133-1_InitialState",
          "L128-133-1_InitialState",
          "L130-132-1_InitialState",
          "L16-42-1_InitialState",
          "L4-16-1_InitialState",
          "T3-4-1_InitialState",
          "L214-215-1_InitialState"
         ],
         "yaxis": "y"
        },
        {
         "alignmentgroup": "True",
         "hovertemplate": "Decomposition part:=masked_flows_positive<br>Flow decomposition value=%{x}<br>xnec_id=%{y}<extra></extra>",
         "legendgroup": "masked_flows_positive",
         "marker": {
          "color": "#86CE00",
          "pattern": {
           "shape": ""
          }
         },
         "name": "masked_flows_positive",
         "offsetgroup": "masked_flows_positive",
         "orientation": "h",
         "showlegend": true,
         "textposition": "auto",
         "texttemplate": "%{x:.0f}",
         "type": "bar",
         "x": [
          0,
          11.41236298945482,
          35.47519745129843,
          21.665204410292866,
          0,
          0,
          0,
          134.4402066318761,
          10.175421523133965,
          13.3219929830942,
          13.941934904590381,
          8.106509474117805,
          3.114801439214742,
          0,
          0,
          10.411008233910866,
          74.74093284882301,
          309.85620116681935,
          309.85620116681946,
          22.42276911435978
         ],
         "xaxis": "x",
         "y": [
          "T130-150-1_InitialState",
          "L137-140-1_InitialState",
          "L126-127-1_InitialState",
          "L137-181-1_InitialState",
          "L129-130-1_InitialState",
          "L128-130-1_InitialState",
          "L130-167-1_InitialState",
          "T143-144-1_InitialState",
          "L125-126-1_InitialState",
          "L118-119-1_InitialState",
          "L126-132-1_InitialState",
          "L126-129-1_InitialState",
          "L127-128-1_InitialState",
          "L129-133-1_InitialState",
          "L128-133-1_InitialState",
          "L130-132-1_InitialState",
          "L16-42-1_InitialState",
          "L4-16-1_InitialState",
          "T3-4-1_InitialState",
          "L214-215-1_InitialState"
         ],
         "yaxis": "y"
        },
        {
         "alignmentgroup": "True",
         "hovertemplate": "Decomposition part:=masked_flows_negative<br>Flow decomposition value=%{x}<br>xnec_id=%{y}<extra></extra>",
         "legendgroup": "masked_flows_negative",
         "marker": {
          "color": "#6A76FC",
          "pattern": {
           "shape": ""
          }
         },
         "name": "masked_flows_negative",
         "offsetgroup": "masked_flows_negative",
         "orientation": "h",
         "showlegend": true,
         "textposition": "auto",
         "texttemplate": "%{x:.0f}",
         "type": "bar",
         "x": [
          -166.73750354214613,
          -45.58191816308576,
          -16.753395150767293,
          -18.46150591782263,
          -62.020219415869896,
          -64.13172553053187,
          -50.08263762723984,
          0,
          -11.941202859663298,
          -11.352030086443168,
          -32.32329840120198,
          -11.840328560477836,
          -36.043628821433494,
          -53.56604411204471,
          -36.41795528742668,
          -27.662550327004304,
          0,
          0,
          0,
          -1.8736670856993385
         ],
         "xaxis": "x",
         "y": [
          "T130-150-1_InitialState",
          "L137-140-1_InitialState",
          "L126-127-1_InitialState",
          "L137-181-1_InitialState",
          "L129-130-1_InitialState",
          "L128-130-1_InitialState",
          "L130-167-1_InitialState",
          "T143-144-1_InitialState",
          "L125-126-1_InitialState",
          "L118-119-1_InitialState",
          "L126-132-1_InitialState",
          "L126-129-1_InitialState",
          "L127-128-1_InitialState",
          "L129-133-1_InitialState",
          "L128-133-1_InitialState",
          "L130-132-1_InitialState",
          "L16-42-1_InitialState",
          "L4-16-1_InitialState",
          "T3-4-1_InitialState",
          "L214-215-1_InitialState"
         ],
         "yaxis": "y"
        },
        {
         "mode": "lines+markers",
         "name": "total_flow",
         "type": "scatter",
         "x": [
          25.67261387752845,
          318.39853093850104,
          156.1463955372601,
          95.1484817254387,
          214.52721852539904,
          224.6288626582658,
          264.5463497360662,
          145.9931341131044,
          477.2737854334282,
          592.1839806741858,
          110.10664427503329,
          112.27768784809258,
          189.889120677748,
          102.24953067730671,
          34.73974198051735,
          231.4797730400502,
          439.01715148135895,
          778.5271987640211,
          778.5271987640217,
          250.07092158814322
         ],
         "y": [
          "T130-150-1_InitialState",
          "L137-140-1_InitialState",
          "L126-127-1_InitialState",
          "L137-181-1_InitialState",
          "L129-130-1_InitialState",
          "L128-130-1_InitialState",
          "L130-167-1_InitialState",
          "T143-144-1_InitialState",
          "L125-126-1_InitialState",
          "L118-119-1_InitialState",
          "L126-132-1_InitialState",
          "L126-129-1_InitialState",
          "L127-128-1_InitialState",
          "L129-133-1_InitialState",
          "L128-133-1_InitialState",
          "L130-132-1_InitialState",
          "L16-42-1_InitialState",
          "L4-16-1_InitialState",
          "T3-4-1_InitialState",
          "L214-215-1_InitialState"
         ]
        },
        {
         "mode": "lines+markers",
         "name": "total_loop_flow",
         "type": "scatter",
         "x": [
          -969.546402803459,
          -561.6642416472621,
          -482.91363009452834,
          -468.2829779095142,
          -440.1165644968736,
          -426.80001678047597,
          -354.2442641565425,
          -322.8165016623791,
          -306.5347448476015,
          -247.4968416639287,
          -242.85233996776756,
          -234.6073987874375,
          -223.29769371158534,
          -205.509165709436,
          -203.50232306889117,
          -183.2300176114474,
          -173.82163796944607,
          -165.49077628365436,
          -165.4907762836541,
          -161.80627476076154
         ],
         "y": [
          "T130-150-1_InitialState",
          "L137-140-1_InitialState",
          "L126-127-1_InitialState",
          "L137-181-1_InitialState",
          "L129-130-1_InitialState",
          "L128-130-1_InitialState",
          "L130-167-1_InitialState",
          "T143-144-1_InitialState",
          "L125-126-1_InitialState",
          "L118-119-1_InitialState",
          "L126-132-1_InitialState",
          "L126-129-1_InitialState",
          "L127-128-1_InitialState",
          "L129-133-1_InitialState",
          "L128-133-1_InitialState",
          "L130-132-1_InitialState",
          "L16-42-1_InitialState",
          "L4-16-1_InitialState",
          "T3-4-1_InitialState",
          "L214-215-1_InitialState"
         ]
        }
       ],
       "layout": {
        "barmode": "relative",
        "height": 1000,
        "legend": {
         "title": {
          "text": "Decomposition part:"
         },
         "tracegroupgap": 0
        },
        "template": {
         "data": {
          "bar": [
           {
            "error_x": {
             "color": "rgb(36,36,36)"
            },
            "error_y": {
             "color": "rgb(36,36,36)"
            },
            "marker": {
             "line": {
              "color": "rgb(234,234,242)",
              "width": 0.5
             },
             "pattern": {
              "fillmode": "overlay",
              "size": 10,
              "solidity": 0.2
             }
            },
            "type": "bar"
           }
          ],
          "barpolar": [
           {
            "marker": {
             "line": {
              "color": "rgb(234,234,242)",
              "width": 0.5
             },
             "pattern": {
              "fillmode": "overlay",
              "size": 10,
              "solidity": 0.2
             }
            },
            "type": "barpolar"
           }
          ],
          "carpet": [
           {
            "aaxis": {
             "endlinecolor": "rgb(36,36,36)",
             "gridcolor": "white",
             "linecolor": "white",
             "minorgridcolor": "white",
             "startlinecolor": "rgb(36,36,36)"
            },
            "baxis": {
             "endlinecolor": "rgb(36,36,36)",
             "gridcolor": "white",
             "linecolor": "white",
             "minorgridcolor": "white",
             "startlinecolor": "rgb(36,36,36)"
            },
            "type": "carpet"
           }
          ],
          "choropleth": [
           {
            "colorbar": {
             "outlinewidth": 0,
             "tickcolor": "rgb(36,36,36)",
             "ticklen": 8,
             "ticks": "outside",
             "tickwidth": 2
            },
            "type": "choropleth"
           }
          ],
          "contour": [
           {
            "colorbar": {
             "outlinewidth": 0,
             "tickcolor": "rgb(36,36,36)",
             "ticklen": 8,
             "ticks": "outside",
             "tickwidth": 2
            },
            "colorscale": [
             [
              0,
              "rgb(2,4,25)"
             ],
             [
              0.06274509803921569,
              "rgb(24,15,41)"
             ],
             [
              0.12549019607843137,
              "rgb(47,23,57)"
             ],
             [
              0.18823529411764706,
              "rgb(71,28,72)"
             ],
             [
              0.25098039215686274,
              "rgb(97,30,82)"
             ],
             [
              0.3137254901960784,
              "rgb(123,30,89)"
             ],
             [
              0.3764705882352941,
              "rgb(150,27,91)"
             ],
             [
              0.4392156862745098,
              "rgb(177,22,88)"
             ],
             [
              0.5019607843137255,
              "rgb(203,26,79)"
             ],
             [
              0.5647058823529412,
              "rgb(223,47,67)"
             ],
             [
              0.6274509803921569,
              "rgb(236,76,61)"
             ],
             [
              0.6901960784313725,
              "rgb(242,107,73)"
             ],
             [
              0.7529411764705882,
              "rgb(244,135,95)"
             ],
             [
              0.8156862745098039,
              "rgb(245,162,122)"
             ],
             [
              0.8784313725490196,
              "rgb(246,188,153)"
             ],
             [
              0.9411764705882353,
              "rgb(247,212,187)"
             ],
             [
              1,
              "rgb(250,234,220)"
             ]
            ],
            "type": "contour"
           }
          ],
          "contourcarpet": [
           {
            "colorbar": {
             "outlinewidth": 0,
             "tickcolor": "rgb(36,36,36)",
             "ticklen": 8,
             "ticks": "outside",
             "tickwidth": 2
            },
            "type": "contourcarpet"
           }
          ],
          "heatmap": [
           {
            "colorbar": {
             "outlinewidth": 0,
             "tickcolor": "rgb(36,36,36)",
             "ticklen": 8,
             "ticks": "outside",
             "tickwidth": 2
            },
            "colorscale": [
             [
              0,
              "rgb(2,4,25)"
             ],
             [
              0.06274509803921569,
              "rgb(24,15,41)"
             ],
             [
              0.12549019607843137,
              "rgb(47,23,57)"
             ],
             [
              0.18823529411764706,
              "rgb(71,28,72)"
             ],
             [
              0.25098039215686274,
              "rgb(97,30,82)"
             ],
             [
              0.3137254901960784,
              "rgb(123,30,89)"
             ],
             [
              0.3764705882352941,
              "rgb(150,27,91)"
             ],
             [
              0.4392156862745098,
              "rgb(177,22,88)"
             ],
             [
              0.5019607843137255,
              "rgb(203,26,79)"
             ],
             [
              0.5647058823529412,
              "rgb(223,47,67)"
             ],
             [
              0.6274509803921569,
              "rgb(236,76,61)"
             ],
             [
              0.6901960784313725,
              "rgb(242,107,73)"
             ],
             [
              0.7529411764705882,
              "rgb(244,135,95)"
             ],
             [
              0.8156862745098039,
              "rgb(245,162,122)"
             ],
             [
              0.8784313725490196,
              "rgb(246,188,153)"
             ],
             [
              0.9411764705882353,
              "rgb(247,212,187)"
             ],
             [
              1,
              "rgb(250,234,220)"
             ]
            ],
            "type": "heatmap"
           }
          ],
          "heatmapgl": [
           {
            "colorbar": {
             "outlinewidth": 0,
             "tickcolor": "rgb(36,36,36)",
             "ticklen": 8,
             "ticks": "outside",
             "tickwidth": 2
            },
            "colorscale": [
             [
              0,
              "rgb(2,4,25)"
             ],
             [
              0.06274509803921569,
              "rgb(24,15,41)"
             ],
             [
              0.12549019607843137,
              "rgb(47,23,57)"
             ],
             [
              0.18823529411764706,
              "rgb(71,28,72)"
             ],
             [
              0.25098039215686274,
              "rgb(97,30,82)"
             ],
             [
              0.3137254901960784,
              "rgb(123,30,89)"
             ],
             [
              0.3764705882352941,
              "rgb(150,27,91)"
             ],
             [
              0.4392156862745098,
              "rgb(177,22,88)"
             ],
             [
              0.5019607843137255,
              "rgb(203,26,79)"
             ],
             [
              0.5647058823529412,
              "rgb(223,47,67)"
             ],
             [
              0.6274509803921569,
              "rgb(236,76,61)"
             ],
             [
              0.6901960784313725,
              "rgb(242,107,73)"
             ],
             [
              0.7529411764705882,
              "rgb(244,135,95)"
             ],
             [
              0.8156862745098039,
              "rgb(245,162,122)"
             ],
             [
              0.8784313725490196,
              "rgb(246,188,153)"
             ],
             [
              0.9411764705882353,
              "rgb(247,212,187)"
             ],
             [
              1,
              "rgb(250,234,220)"
             ]
            ],
            "type": "heatmapgl"
           }
          ],
          "histogram": [
           {
            "marker": {
             "pattern": {
              "fillmode": "overlay",
              "size": 10,
              "solidity": 0.2
             }
            },
            "type": "histogram"
           }
          ],
          "histogram2d": [
           {
            "colorbar": {
             "outlinewidth": 0,
             "tickcolor": "rgb(36,36,36)",
             "ticklen": 8,
             "ticks": "outside",
             "tickwidth": 2
            },
            "colorscale": [
             [
              0,
              "rgb(2,4,25)"
             ],
             [
              0.06274509803921569,
              "rgb(24,15,41)"
             ],
             [
              0.12549019607843137,
              "rgb(47,23,57)"
             ],
             [
              0.18823529411764706,
              "rgb(71,28,72)"
             ],
             [
              0.25098039215686274,
              "rgb(97,30,82)"
             ],
             [
              0.3137254901960784,
              "rgb(123,30,89)"
             ],
             [
              0.3764705882352941,
              "rgb(150,27,91)"
             ],
             [
              0.4392156862745098,
              "rgb(177,22,88)"
             ],
             [
              0.5019607843137255,
              "rgb(203,26,79)"
             ],
             [
              0.5647058823529412,
              "rgb(223,47,67)"
             ],
             [
              0.6274509803921569,
              "rgb(236,76,61)"
             ],
             [
              0.6901960784313725,
              "rgb(242,107,73)"
             ],
             [
              0.7529411764705882,
              "rgb(244,135,95)"
             ],
             [
              0.8156862745098039,
              "rgb(245,162,122)"
             ],
             [
              0.8784313725490196,
              "rgb(246,188,153)"
             ],
             [
              0.9411764705882353,
              "rgb(247,212,187)"
             ],
             [
              1,
              "rgb(250,234,220)"
             ]
            ],
            "type": "histogram2d"
           }
          ],
          "histogram2dcontour": [
           {
            "colorbar": {
             "outlinewidth": 0,
             "tickcolor": "rgb(36,36,36)",
             "ticklen": 8,
             "ticks": "outside",
             "tickwidth": 2
            },
            "colorscale": [
             [
              0,
              "rgb(2,4,25)"
             ],
             [
              0.06274509803921569,
              "rgb(24,15,41)"
             ],
             [
              0.12549019607843137,
              "rgb(47,23,57)"
             ],
             [
              0.18823529411764706,
              "rgb(71,28,72)"
             ],
             [
              0.25098039215686274,
              "rgb(97,30,82)"
             ],
             [
              0.3137254901960784,
              "rgb(123,30,89)"
             ],
             [
              0.3764705882352941,
              "rgb(150,27,91)"
             ],
             [
              0.4392156862745098,
              "rgb(177,22,88)"
             ],
             [
              0.5019607843137255,
              "rgb(203,26,79)"
             ],
             [
              0.5647058823529412,
              "rgb(223,47,67)"
             ],
             [
              0.6274509803921569,
              "rgb(236,76,61)"
             ],
             [
              0.6901960784313725,
              "rgb(242,107,73)"
             ],
             [
              0.7529411764705882,
              "rgb(244,135,95)"
             ],
             [
              0.8156862745098039,
              "rgb(245,162,122)"
             ],
             [
              0.8784313725490196,
              "rgb(246,188,153)"
             ],
             [
              0.9411764705882353,
              "rgb(247,212,187)"
             ],
             [
              1,
              "rgb(250,234,220)"
             ]
            ],
            "type": "histogram2dcontour"
           }
          ],
          "mesh3d": [
           {
            "colorbar": {
             "outlinewidth": 0,
             "tickcolor": "rgb(36,36,36)",
             "ticklen": 8,
             "ticks": "outside",
             "tickwidth": 2
            },
            "type": "mesh3d"
           }
          ],
          "parcoords": [
           {
            "line": {
             "colorbar": {
              "outlinewidth": 0,
              "tickcolor": "rgb(36,36,36)",
              "ticklen": 8,
              "ticks": "outside",
              "tickwidth": 2
             }
            },
            "type": "parcoords"
           }
          ],
          "pie": [
           {
            "automargin": true,
            "type": "pie"
           }
          ],
          "scatter": [
           {
            "fillpattern": {
             "fillmode": "overlay",
             "size": 10,
             "solidity": 0.2
            },
            "type": "scatter"
           }
          ],
          "scatter3d": [
           {
            "line": {
             "colorbar": {
              "outlinewidth": 0,
              "tickcolor": "rgb(36,36,36)",
              "ticklen": 8,
              "ticks": "outside",
              "tickwidth": 2
             }
            },
            "marker": {
             "colorbar": {
              "outlinewidth": 0,
              "tickcolor": "rgb(36,36,36)",
              "ticklen": 8,
              "ticks": "outside",
              "tickwidth": 2
             }
            },
            "type": "scatter3d"
           }
          ],
          "scattercarpet": [
           {
            "marker": {
             "colorbar": {
              "outlinewidth": 0,
              "tickcolor": "rgb(36,36,36)",
              "ticklen": 8,
              "ticks": "outside",
              "tickwidth": 2
             }
            },
            "type": "scattercarpet"
           }
          ],
          "scattergeo": [
           {
            "marker": {
             "colorbar": {
              "outlinewidth": 0,
              "tickcolor": "rgb(36,36,36)",
              "ticklen": 8,
              "ticks": "outside",
              "tickwidth": 2
             }
            },
            "type": "scattergeo"
           }
          ],
          "scattergl": [
           {
            "marker": {
             "colorbar": {
              "outlinewidth": 0,
              "tickcolor": "rgb(36,36,36)",
              "ticklen": 8,
              "ticks": "outside",
              "tickwidth": 2
             }
            },
            "type": "scattergl"
           }
          ],
          "scattermapbox": [
           {
            "marker": {
             "colorbar": {
              "outlinewidth": 0,
              "tickcolor": "rgb(36,36,36)",
              "ticklen": 8,
              "ticks": "outside",
              "tickwidth": 2
             }
            },
            "type": "scattermapbox"
           }
          ],
          "scatterpolar": [
           {
            "marker": {
             "colorbar": {
              "outlinewidth": 0,
              "tickcolor": "rgb(36,36,36)",
              "ticklen": 8,
              "ticks": "outside",
              "tickwidth": 2
             }
            },
            "type": "scatterpolar"
           }
          ],
          "scatterpolargl": [
           {
            "marker": {
             "colorbar": {
              "outlinewidth": 0,
              "tickcolor": "rgb(36,36,36)",
              "ticklen": 8,
              "ticks": "outside",
              "tickwidth": 2
             }
            },
            "type": "scatterpolargl"
           }
          ],
          "scatterternary": [
           {
            "marker": {
             "colorbar": {
              "outlinewidth": 0,
              "tickcolor": "rgb(36,36,36)",
              "ticklen": 8,
              "ticks": "outside",
              "tickwidth": 2
             }
            },
            "type": "scatterternary"
           }
          ],
          "surface": [
           {
            "colorbar": {
             "outlinewidth": 0,
             "tickcolor": "rgb(36,36,36)",
             "ticklen": 8,
             "ticks": "outside",
             "tickwidth": 2
            },
            "colorscale": [
             [
              0,
              "rgb(2,4,25)"
             ],
             [
              0.06274509803921569,
              "rgb(24,15,41)"
             ],
             [
              0.12549019607843137,
              "rgb(47,23,57)"
             ],
             [
              0.18823529411764706,
              "rgb(71,28,72)"
             ],
             [
              0.25098039215686274,
              "rgb(97,30,82)"
             ],
             [
              0.3137254901960784,
              "rgb(123,30,89)"
             ],
             [
              0.3764705882352941,
              "rgb(150,27,91)"
             ],
             [
              0.4392156862745098,
              "rgb(177,22,88)"
             ],
             [
              0.5019607843137255,
              "rgb(203,26,79)"
             ],
             [
              0.5647058823529412,
              "rgb(223,47,67)"
             ],
             [
              0.6274509803921569,
              "rgb(236,76,61)"
             ],
             [
              0.6901960784313725,
              "rgb(242,107,73)"
             ],
             [
              0.7529411764705882,
              "rgb(244,135,95)"
             ],
             [
              0.8156862745098039,
              "rgb(245,162,122)"
             ],
             [
              0.8784313725490196,
              "rgb(246,188,153)"
             ],
             [
              0.9411764705882353,
              "rgb(247,212,187)"
             ],
             [
              1,
              "rgb(250,234,220)"
             ]
            ],
            "type": "surface"
           }
          ],
          "table": [
           {
            "cells": {
             "fill": {
              "color": "rgb(231,231,240)"
             },
             "line": {
              "color": "white"
             }
            },
            "header": {
             "fill": {
              "color": "rgb(183,183,191)"
             },
             "line": {
              "color": "white"
             }
            },
            "type": "table"
           }
          ]
         },
         "layout": {
          "annotationdefaults": {
           "arrowcolor": "rgb(67,103,167)"
          },
          "autotypenumbers": "strict",
          "coloraxis": {
           "colorbar": {
            "outlinewidth": 0,
            "tickcolor": "rgb(36,36,36)",
            "ticklen": 8,
            "ticks": "outside",
            "tickwidth": 2
           }
          },
          "colorscale": {
           "sequential": [
            [
             0,
             "rgb(2,4,25)"
            ],
            [
             0.06274509803921569,
             "rgb(24,15,41)"
            ],
            [
             0.12549019607843137,
             "rgb(47,23,57)"
            ],
            [
             0.18823529411764706,
             "rgb(71,28,72)"
            ],
            [
             0.25098039215686274,
             "rgb(97,30,82)"
            ],
            [
             0.3137254901960784,
             "rgb(123,30,89)"
            ],
            [
             0.3764705882352941,
             "rgb(150,27,91)"
            ],
            [
             0.4392156862745098,
             "rgb(177,22,88)"
            ],
            [
             0.5019607843137255,
             "rgb(203,26,79)"
            ],
            [
             0.5647058823529412,
             "rgb(223,47,67)"
            ],
            [
             0.6274509803921569,
             "rgb(236,76,61)"
            ],
            [
             0.6901960784313725,
             "rgb(242,107,73)"
            ],
            [
             0.7529411764705882,
             "rgb(244,135,95)"
            ],
            [
             0.8156862745098039,
             "rgb(245,162,122)"
            ],
            [
             0.8784313725490196,
             "rgb(246,188,153)"
            ],
            [
             0.9411764705882353,
             "rgb(247,212,187)"
            ],
            [
             1,
             "rgb(250,234,220)"
            ]
           ],
           "sequentialminus": [
            [
             0,
             "rgb(2,4,25)"
            ],
            [
             0.06274509803921569,
             "rgb(24,15,41)"
            ],
            [
             0.12549019607843137,
             "rgb(47,23,57)"
            ],
            [
             0.18823529411764706,
             "rgb(71,28,72)"
            ],
            [
             0.25098039215686274,
             "rgb(97,30,82)"
            ],
            [
             0.3137254901960784,
             "rgb(123,30,89)"
            ],
            [
             0.3764705882352941,
             "rgb(150,27,91)"
            ],
            [
             0.4392156862745098,
             "rgb(177,22,88)"
            ],
            [
             0.5019607843137255,
             "rgb(203,26,79)"
            ],
            [
             0.5647058823529412,
             "rgb(223,47,67)"
            ],
            [
             0.6274509803921569,
             "rgb(236,76,61)"
            ],
            [
             0.6901960784313725,
             "rgb(242,107,73)"
            ],
            [
             0.7529411764705882,
             "rgb(244,135,95)"
            ],
            [
             0.8156862745098039,
             "rgb(245,162,122)"
            ],
            [
             0.8784313725490196,
             "rgb(246,188,153)"
            ],
            [
             0.9411764705882353,
             "rgb(247,212,187)"
            ],
            [
             1,
             "rgb(250,234,220)"
            ]
           ]
          },
          "colorway": [
           "rgb(76,114,176)",
           "rgb(221,132,82)",
           "rgb(85,168,104)",
           "rgb(196,78,82)",
           "rgb(129,114,179)",
           "rgb(147,120,96)",
           "rgb(218,139,195)",
           "rgb(140,140,140)",
           "rgb(204,185,116)",
           "rgb(100,181,205)"
          ],
          "font": {
           "color": "rgb(36,36,36)"
          },
          "geo": {
           "bgcolor": "white",
           "lakecolor": "white",
           "landcolor": "rgb(234,234,242)",
           "showlakes": true,
           "showland": true,
           "subunitcolor": "white"
          },
          "hoverlabel": {
           "align": "left"
          },
          "hovermode": "closest",
          "paper_bgcolor": "white",
          "plot_bgcolor": "rgb(234,234,242)",
          "polar": {
           "angularaxis": {
            "gridcolor": "white",
            "linecolor": "white",
            "showgrid": true,
            "ticks": ""
           },
           "bgcolor": "rgb(234,234,242)",
           "radialaxis": {
            "gridcolor": "white",
            "linecolor": "white",
            "showgrid": true,
            "ticks": ""
           }
          },
          "scene": {
           "xaxis": {
            "backgroundcolor": "rgb(234,234,242)",
            "gridcolor": "white",
            "gridwidth": 2,
            "linecolor": "white",
            "showbackground": true,
            "showgrid": true,
            "ticks": "",
            "zerolinecolor": "white"
           },
           "yaxis": {
            "backgroundcolor": "rgb(234,234,242)",
            "gridcolor": "white",
            "gridwidth": 2,
            "linecolor": "white",
            "showbackground": true,
            "showgrid": true,
            "ticks": "",
            "zerolinecolor": "white"
           },
           "zaxis": {
            "backgroundcolor": "rgb(234,234,242)",
            "gridcolor": "white",
            "gridwidth": 2,
            "linecolor": "white",
            "showbackground": true,
            "showgrid": true,
            "ticks": "",
            "zerolinecolor": "white"
           }
          },
          "shapedefaults": {
           "fillcolor": "rgb(67,103,167)",
           "line": {
            "width": 0
           },
           "opacity": 0.5
          },
          "ternary": {
           "aaxis": {
            "gridcolor": "white",
            "linecolor": "white",
            "showgrid": true,
            "ticks": ""
           },
           "baxis": {
            "gridcolor": "white",
            "linecolor": "white",
            "showgrid": true,
            "ticks": ""
           },
           "bgcolor": "rgb(234,234,242)",
           "caxis": {
            "gridcolor": "white",
            "linecolor": "white",
            "showgrid": true,
            "ticks": ""
           }
          },
          "xaxis": {
           "automargin": true,
           "gridcolor": "white",
           "linecolor": "white",
           "showgrid": true,
           "ticks": "",
           "title": {
            "standoff": 15
           },
           "zerolinecolor": "white"
          },
          "yaxis": {
           "automargin": true,
           "gridcolor": "white",
           "linecolor": "white",
           "showgrid": true,
           "ticks": "",
           "title": {
            "standoff": 15
           },
           "zerolinecolor": "white"
          }
         }
        },
        "title": {
         "text": "Sorted by: total_loop_flow, ascending: True, head: 20"
        },
        "xaxis": {
         "anchor": "y",
         "domain": [
          0,
          1
         ],
         "title": {
          "text": "Flow decomposition value"
         }
        },
        "yaxis": {
         "anchor": "x",
         "domain": [
          0,
          1
         ],
         "title": {
          "text": "xnec_id"
         }
        }
       }
      }
     },
     "metadata": {},
     "output_type": "display_data"
    }
   ],
   "source": [
    "flow_decomposition_bar_chart('total_loop_flow', ascending=True)"
   ]
  },
  {
   "cell_type": "code",
   "execution_count": 12,
   "metadata": {},
   "outputs": [
    {
     "data": {
      "application/vnd.plotly.v1+json": {
       "config": {
        "plotlyServerURL": "https://plot.ly"
       },
       "data": [
        {
         "alignmentgroup": "True",
         "hovertemplate": "Decomposition part:=commercial_flow<br>Flow decomposition value=%{x}<br>xnec_id=%{y}<extra></extra>",
         "legendgroup": "commercial_flow",
         "marker": {
          "color": "#0DF9FF",
          "pattern": {
           "shape": ""
          }
         },
         "name": "commercial_flow",
         "offsetgroup": "commercial_flow",
         "orientation": "h",
         "showlegend": true,
         "textposition": "auto",
         "texttemplate": "%{x:.0f}",
         "type": "bar",
         "x": [
          null,
          null,
          null,
          null,
          null,
          null,
          null,
          null,
          null,
          null,
          null,
          null,
          null,
          null,
          null,
          null,
          null,
          null,
          null,
          null
         ],
         "xaxis": "x",
         "y": [
          "T7130-130-1_InitialState",
          "T7003-3-1_InitialState",
          "L191-192-1_InitialState",
          "T3-4-1_InitialState",
          "L4-16-1_InitialState",
          "L133-137-1_InitialState",
          "L119-120-1_InitialState",
          "T7139-139-1_InitialState",
          "L186-188-1_InitialState",
          "L225-191-1_InitialState",
          "L181-187-1_InitialState",
          "T7002-2-1_InitialState",
          "T234-236-1_InitialState",
          "L118-119-1_InitialState",
          "T241-237-1_InitialState",
          "T7166-166-1_InitialState",
          "L165-166-1_InitialState",
          "L162-165-1_InitialState",
          "L42-46-1_InitialState",
          "L231-232-1_InitialState"
         ],
         "yaxis": "y"
        },
        {
         "alignmentgroup": "True",
         "hovertemplate": "Decomposition part:=internal_flow<br>Flow decomposition value=%{x}<br>xnec_id=%{y}<extra></extra>",
         "legendgroup": "internal_flow",
         "marker": {
          "color": "#AF0038",
          "pattern": {
           "shape": ""
          }
         },
         "name": "internal_flow",
         "offsetgroup": "internal_flow",
         "orientation": "h",
         "showlegend": true,
         "textposition": "auto",
         "texttemplate": "%{x:.0f}",
         "type": "bar",
         "x": [
          1343.8902947845804,
          1193.7379692617787,
          831.5427820695143,
          944.0179750476756,
          944.0179750476757,
          null,
          null,
          646.6334769463338,
          null,
          658.9825996387259,
          631.1980193663259,
          606.7379692617785,
          603.8914058956929,
          839.6808223381145,
          579.3214058956909,
          536.737969261779,
          536.7379692617793,
          536.7379692617782,
          271.86024656186675,
          548.1085941043126
         ],
         "xaxis": "x",
         "y": [
          "T7130-130-1_InitialState",
          "T7003-3-1_InitialState",
          "L191-192-1_InitialState",
          "T3-4-1_InitialState",
          "L4-16-1_InitialState",
          "L133-137-1_InitialState",
          "L119-120-1_InitialState",
          "T7139-139-1_InitialState",
          "L186-188-1_InitialState",
          "L225-191-1_InitialState",
          "L181-187-1_InitialState",
          "T7002-2-1_InitialState",
          "T234-236-1_InitialState",
          "L118-119-1_InitialState",
          "T241-237-1_InitialState",
          "T7166-166-1_InitialState",
          "L165-166-1_InitialState",
          "L162-165-1_InitialState",
          "L42-46-1_InitialState",
          "L231-232-1_InitialState"
         ],
         "yaxis": "y"
        },
        {
         "alignmentgroup": "True",
         "hovertemplate": "Decomposition part:=loop_flow_from_bg<br>Flow decomposition value=%{x}<br>xnec_id=%{y}<extra></extra>",
         "legendgroup": "loop_flow_from_bg",
         "marker": {
          "color": "#FD3216",
          "pattern": {
           "shape": ""
          }
         },
         "name": "loop_flow_from_bg",
         "offsetgroup": "loop_flow_from_bg",
         "orientation": "h",
         "showlegend": true,
         "textposition": "auto",
         "texttemplate": "%{x:.0f}",
         "type": "bar",
         "x": [
          null,
          null,
          null,
          null,
          null,
          null,
          null,
          null,
          null,
          null,
          null,
          null,
          null,
          null,
          null,
          null,
          null,
          null,
          165.55615382962998,
          null
         ],
         "xaxis": "x",
         "y": [
          "T7130-130-1_InitialState",
          "T7003-3-1_InitialState",
          "L191-192-1_InitialState",
          "T3-4-1_InitialState",
          "L4-16-1_InitialState",
          "L133-137-1_InitialState",
          "L119-120-1_InitialState",
          "T7139-139-1_InitialState",
          "L186-188-1_InitialState",
          "L225-191-1_InitialState",
          "L181-187-1_InitialState",
          "T7002-2-1_InitialState",
          "T234-236-1_InitialState",
          "L118-119-1_InitialState",
          "T241-237-1_InitialState",
          "T7166-166-1_InitialState",
          "L165-166-1_InitialState",
          "L162-165-1_InitialState",
          "L42-46-1_InitialState",
          "L231-232-1_InitialState"
         ],
         "yaxis": "y"
        },
        {
         "alignmentgroup": "True",
         "hovertemplate": "Decomposition part:=loop_flow_from_cz<br>Flow decomposition value=%{x}<br>xnec_id=%{y}<extra></extra>",
         "legendgroup": "loop_flow_from_cz",
         "marker": {
          "color": "#00A08B",
          "pattern": {
           "shape": ""
          }
         },
         "name": "loop_flow_from_cz",
         "offsetgroup": "loop_flow_from_cz",
         "orientation": "h",
         "showlegend": true,
         "textposition": "auto",
         "texttemplate": "%{x:.0f}",
         "type": "bar",
         "x": [
          null,
          null,
          null,
          null,
          null,
          null,
          null,
          null,
          null,
          null,
          null,
          null,
          null,
          null,
          null,
          null,
          null,
          null,
          null,
          null
         ],
         "xaxis": "x",
         "y": [
          "T7130-130-1_InitialState",
          "T7003-3-1_InitialState",
          "L191-192-1_InitialState",
          "T3-4-1_InitialState",
          "L4-16-1_InitialState",
          "L133-137-1_InitialState",
          "L119-120-1_InitialState",
          "T7139-139-1_InitialState",
          "L186-188-1_InitialState",
          "L225-191-1_InitialState",
          "L181-187-1_InitialState",
          "T7002-2-1_InitialState",
          "T234-236-1_InitialState",
          "L118-119-1_InitialState",
          "T241-237-1_InitialState",
          "T7166-166-1_InitialState",
          "L165-166-1_InitialState",
          "L162-165-1_InitialState",
          "L42-46-1_InitialState",
          "L231-232-1_InitialState"
         ],
         "yaxis": "y"
        },
        {
         "alignmentgroup": "True",
         "hovertemplate": "Decomposition part:=loop_flow_from_dk<br>Flow decomposition value=%{x}<br>xnec_id=%{y}<extra></extra>",
         "legendgroup": "loop_flow_from_dk",
         "marker": {
          "color": "#6C4516",
          "pattern": {
           "shape": ""
          }
         },
         "name": "loop_flow_from_dk",
         "offsetgroup": "loop_flow_from_dk",
         "orientation": "h",
         "showlegend": true,
         "textposition": "auto",
         "texttemplate": "%{x:.0f}",
         "type": "bar",
         "x": [
          null,
          null,
          null,
          611.1253042401501,
          611.125304240149,
          523.0178454485244,
          307.88660854611936,
          null,
          555.9088571130114,
          null,
          null,
          -54.103348450491225,
          -54.1033484504906,
          null,
          -54.103348450491346,
          -54.103348450491225,
          -54.10334845049097,
          -54.10334845049124,
          723.7347444719029,
          54.10334845049461
         ],
         "xaxis": "x",
         "y": [
          "T7130-130-1_InitialState",
          "T7003-3-1_InitialState",
          "L191-192-1_InitialState",
          "T3-4-1_InitialState",
          "L4-16-1_InitialState",
          "L133-137-1_InitialState",
          "L119-120-1_InitialState",
          "T7139-139-1_InitialState",
          "L186-188-1_InitialState",
          "L225-191-1_InitialState",
          "L181-187-1_InitialState",
          "T7002-2-1_InitialState",
          "T234-236-1_InitialState",
          "L118-119-1_InitialState",
          "T241-237-1_InitialState",
          "T7166-166-1_InitialState",
          "L165-166-1_InitialState",
          "L162-165-1_InitialState",
          "L42-46-1_InitialState",
          "L231-232-1_InitialState"
         ],
         "yaxis": "y"
        },
        {
         "alignmentgroup": "True",
         "hovertemplate": "Decomposition part:=loop_flow_from_ee<br>Flow decomposition value=%{x}<br>xnec_id=%{y}<extra></extra>",
         "legendgroup": "loop_flow_from_ee",
         "marker": {
          "color": "#511CFB",
          "pattern": {
           "shape": ""
          }
         },
         "name": "loop_flow_from_ee",
         "offsetgroup": "loop_flow_from_ee",
         "orientation": "h",
         "showlegend": true,
         "textposition": "auto",
         "texttemplate": "%{x:.0f}",
         "type": "bar",
         "x": [
          null,
          null,
          null,
          null,
          null,
          null,
          null,
          null,
          null,
          null,
          null,
          null,
          null,
          null,
          null,
          null,
          null,
          null,
          null,
          null
         ],
         "xaxis": "x",
         "y": [
          "T7130-130-1_InitialState",
          "T7003-3-1_InitialState",
          "L191-192-1_InitialState",
          "T3-4-1_InitialState",
          "L4-16-1_InitialState",
          "L133-137-1_InitialState",
          "L119-120-1_InitialState",
          "T7139-139-1_InitialState",
          "L186-188-1_InitialState",
          "L225-191-1_InitialState",
          "L181-187-1_InitialState",
          "T7002-2-1_InitialState",
          "T234-236-1_InitialState",
          "L118-119-1_InitialState",
          "T241-237-1_InitialState",
          "T7166-166-1_InitialState",
          "L165-166-1_InitialState",
          "L162-165-1_InitialState",
          "L42-46-1_InitialState",
          "L231-232-1_InitialState"
         ],
         "yaxis": "y"
        },
        {
         "alignmentgroup": "True",
         "hovertemplate": "Decomposition part:=loop_flow_from_fr<br>Flow decomposition value=%{x}<br>xnec_id=%{y}<extra></extra>",
         "legendgroup": "loop_flow_from_fr",
         "marker": {
          "color": "#F6F926",
          "pattern": {
           "shape": ""
          }
         },
         "name": "loop_flow_from_fr",
         "offsetgroup": "loop_flow_from_fr",
         "orientation": "h",
         "showlegend": true,
         "textposition": "auto",
         "texttemplate": "%{x:.0f}",
         "type": "bar",
         "x": [
          null,
          null,
          null,
          -187.17695650337419,
          -187.17695650337407,
          -283.99777590945206,
          null,
          null,
          null,
          null,
          null,
          null,
          null,
          null,
          null,
          null,
          null,
          null,
          -199.0766669143227,
          null
         ],
         "xaxis": "x",
         "y": [
          "T7130-130-1_InitialState",
          "T7003-3-1_InitialState",
          "L191-192-1_InitialState",
          "T3-4-1_InitialState",
          "L4-16-1_InitialState",
          "L133-137-1_InitialState",
          "L119-120-1_InitialState",
          "T7139-139-1_InitialState",
          "L186-188-1_InitialState",
          "L225-191-1_InitialState",
          "L181-187-1_InitialState",
          "T7002-2-1_InitialState",
          "T234-236-1_InitialState",
          "L118-119-1_InitialState",
          "T241-237-1_InitialState",
          "T7166-166-1_InitialState",
          "L165-166-1_InitialState",
          "L162-165-1_InitialState",
          "L42-46-1_InitialState",
          "L231-232-1_InitialState"
         ],
         "yaxis": "y"
        },
        {
         "alignmentgroup": "True",
         "hovertemplate": "Decomposition part:=loop_flow_from_hu<br>Flow decomposition value=%{x}<br>xnec_id=%{y}<extra></extra>",
         "legendgroup": "loop_flow_from_hu",
         "marker": {
          "color": "#C9FBE5",
          "pattern": {
           "shape": ""
          }
         },
         "name": "loop_flow_from_hu",
         "offsetgroup": "loop_flow_from_hu",
         "orientation": "h",
         "showlegend": true,
         "textposition": "auto",
         "texttemplate": "%{x:.0f}",
         "type": "bar",
         "x": [
          null,
          null,
          null,
          -899.2953251872494,
          -899.2953251872486,
          null,
          398.0621397260627,
          51.15346938775515,
          107.20051253883476,
          null,
          null,
          51.15346938775504,
          51.15346938775528,
          -249.46680456057973,
          51.153469387755344,
          51.15346938775508,
          51.15346938775438,
          51.15346938775495,
          -635.955291591542,
          -51.15346938775269
         ],
         "xaxis": "x",
         "y": [
          "T7130-130-1_InitialState",
          "T7003-3-1_InitialState",
          "L191-192-1_InitialState",
          "T3-4-1_InitialState",
          "L4-16-1_InitialState",
          "L133-137-1_InitialState",
          "L119-120-1_InitialState",
          "T7139-139-1_InitialState",
          "L186-188-1_InitialState",
          "L225-191-1_InitialState",
          "L181-187-1_InitialState",
          "T7002-2-1_InitialState",
          "T234-236-1_InitialState",
          "L118-119-1_InitialState",
          "T241-237-1_InitialState",
          "T7166-166-1_InitialState",
          "L165-166-1_InitialState",
          "L162-165-1_InitialState",
          "L42-46-1_InitialState",
          "L231-232-1_InitialState"
         ],
         "yaxis": "y"
        },
        {
         "alignmentgroup": "True",
         "hovertemplate": "Decomposition part:=loop_flow_from_ie<br>Flow decomposition value=%{x}<br>xnec_id=%{y}<extra></extra>",
         "legendgroup": "loop_flow_from_ie",
         "marker": {
          "color": "#FC0080",
          "pattern": {
           "shape": ""
          }
         },
         "name": "loop_flow_from_ie",
         "offsetgroup": "loop_flow_from_ie",
         "orientation": "h",
         "showlegend": true,
         "textposition": "auto",
         "texttemplate": "%{x:.0f}",
         "type": "bar",
         "x": [
          null,
          null,
          null,
          null,
          null,
          null,
          null,
          null,
          null,
          null,
          null,
          null,
          null,
          null,
          null,
          null,
          null,
          null,
          null,
          null
         ],
         "xaxis": "x",
         "y": [
          "T7130-130-1_InitialState",
          "T7003-3-1_InitialState",
          "L191-192-1_InitialState",
          "T3-4-1_InitialState",
          "L4-16-1_InitialState",
          "L133-137-1_InitialState",
          "L119-120-1_InitialState",
          "T7139-139-1_InitialState",
          "L186-188-1_InitialState",
          "L225-191-1_InitialState",
          "L181-187-1_InitialState",
          "T7002-2-1_InitialState",
          "T234-236-1_InitialState",
          "L118-119-1_InitialState",
          "T241-237-1_InitialState",
          "T7166-166-1_InitialState",
          "L165-166-1_InitialState",
          "L162-165-1_InitialState",
          "L42-46-1_InitialState",
          "L231-232-1_InitialState"
         ],
         "yaxis": "y"
        },
        {
         "alignmentgroup": "True",
         "hovertemplate": "Decomposition part:=loop_flow_from_lt<br>Flow decomposition value=%{x}<br>xnec_id=%{y}<extra></extra>",
         "legendgroup": "loop_flow_from_lt",
         "marker": {
          "color": "#FB0D0D",
          "pattern": {
           "shape": ""
          }
         },
         "name": "loop_flow_from_lt",
         "offsetgroup": "loop_flow_from_lt",
         "orientation": "h",
         "showlegend": true,
         "textposition": "auto",
         "texttemplate": "%{x:.0f}",
         "type": "bar",
         "x": [
          null,
          null,
          null,
          null,
          null,
          336.6087913185838,
          null,
          null,
          null,
          null,
          null,
          null,
          null,
          null,
          null,
          null,
          null,
          null,
          null,
          null
         ],
         "xaxis": "x",
         "y": [
          "T7130-130-1_InitialState",
          "T7003-3-1_InitialState",
          "L191-192-1_InitialState",
          "T3-4-1_InitialState",
          "L4-16-1_InitialState",
          "L133-137-1_InitialState",
          "L119-120-1_InitialState",
          "T7139-139-1_InitialState",
          "L186-188-1_InitialState",
          "L225-191-1_InitialState",
          "L181-187-1_InitialState",
          "T7002-2-1_InitialState",
          "T234-236-1_InitialState",
          "L118-119-1_InitialState",
          "T241-237-1_InitialState",
          "T7166-166-1_InitialState",
          "L165-166-1_InitialState",
          "L162-165-1_InitialState",
          "L42-46-1_InitialState",
          "L231-232-1_InitialState"
         ],
         "yaxis": "y"
        },
        {
         "alignmentgroup": "True",
         "hovertemplate": "Decomposition part:=loop_flow_from_lu<br>Flow decomposition value=%{x}<br>xnec_id=%{y}<extra></extra>",
         "legendgroup": "loop_flow_from_lu",
         "marker": {
          "color": "#D626FF",
          "pattern": {
           "shape": ""
          }
         },
         "name": "loop_flow_from_lu",
         "offsetgroup": "loop_flow_from_lu",
         "orientation": "h",
         "showlegend": true,
         "textposition": "auto",
         "texttemplate": "%{x:.0f}",
         "type": "bar",
         "x": [
          null,
          null,
          null,
          null,
          null,
          98.69062874523755,
          null,
          null,
          null,
          null,
          null,
          null,
          null,
          null,
          null,
          null,
          null,
          null,
          133.77967824623622,
          null
         ],
         "xaxis": "x",
         "y": [
          "T7130-130-1_InitialState",
          "T7003-3-1_InitialState",
          "L191-192-1_InitialState",
          "T3-4-1_InitialState",
          "L4-16-1_InitialState",
          "L133-137-1_InitialState",
          "L119-120-1_InitialState",
          "T7139-139-1_InitialState",
          "L186-188-1_InitialState",
          "L225-191-1_InitialState",
          "L181-187-1_InitialState",
          "T7002-2-1_InitialState",
          "T234-236-1_InitialState",
          "L118-119-1_InitialState",
          "T241-237-1_InitialState",
          "T7166-166-1_InitialState",
          "L165-166-1_InitialState",
          "L162-165-1_InitialState",
          "L42-46-1_InitialState",
          "L231-232-1_InitialState"
         ],
         "yaxis": "y"
        },
        {
         "alignmentgroup": "True",
         "hovertemplate": "Decomposition part:=pst_flow<br>Flow decomposition value=%{x}<br>xnec_id=%{y}<extra></extra>",
         "legendgroup": "pst_flow",
         "marker": {
          "color": "#DA16FF",
          "pattern": {
           "shape": ""
          }
         },
         "name": "pst_flow",
         "offsetgroup": "pst_flow",
         "orientation": "h",
         "showlegend": true,
         "textposition": "auto",
         "texttemplate": "%{x:.0f}",
         "type": "bar",
         "x": [
          null,
          null,
          null,
          null,
          null,
          null,
          null,
          null,
          null,
          null,
          null,
          null,
          null,
          null,
          null,
          null,
          null,
          null,
          null,
          null
         ],
         "xaxis": "x",
         "y": [
          "T7130-130-1_InitialState",
          "T7003-3-1_InitialState",
          "L191-192-1_InitialState",
          "T3-4-1_InitialState",
          "L4-16-1_InitialState",
          "L133-137-1_InitialState",
          "L119-120-1_InitialState",
          "T7139-139-1_InitialState",
          "L186-188-1_InitialState",
          "L225-191-1_InitialState",
          "L181-187-1_InitialState",
          "T7002-2-1_InitialState",
          "T234-236-1_InitialState",
          "L118-119-1_InitialState",
          "T241-237-1_InitialState",
          "T7166-166-1_InitialState",
          "L165-166-1_InitialState",
          "L162-165-1_InitialState",
          "L42-46-1_InitialState",
          "L231-232-1_InitialState"
         ],
         "yaxis": "y"
        },
        {
         "alignmentgroup": "True",
         "hovertemplate": "Decomposition part:=masked_flows_positive<br>Flow decomposition value=%{x}<br>xnec_id=%{y}<extra></extra>",
         "legendgroup": "masked_flows_positive",
         "marker": {
          "color": "#86CE00",
          "pattern": {
           "shape": ""
          }
         },
         "name": "masked_flows_positive",
         "offsetgroup": "masked_flows_positive",
         "orientation": "h",
         "showlegend": true,
         "textposition": "auto",
         "texttemplate": "%{x:.0f}",
         "type": "bar",
         "x": [
          19.94873519778286,
          71.10220458553798,
          33.76383512475899,
          309.85620116681946,
          309.85620116681935,
          70.00361495108699,
          0.19896825362526996,
          19.948735197782845,
          8.827903953379849,
          31.54981314936517,
          27.493596602575256,
          19.94873519778286,
          16.79415469891642,
          13.3219929830942,
          16.79415469891649,
          19.948735197782895,
          19.94873519778292,
          19.948735197782806,
          92.93162058111555,
          16.998856135046964
         ],
         "xaxis": "x",
         "y": [
          "T7130-130-1_InitialState",
          "T7003-3-1_InitialState",
          "L191-192-1_InitialState",
          "T3-4-1_InitialState",
          "L4-16-1_InitialState",
          "L133-137-1_InitialState",
          "L119-120-1_InitialState",
          "T7139-139-1_InitialState",
          "L186-188-1_InitialState",
          "L225-191-1_InitialState",
          "L181-187-1_InitialState",
          "T7002-2-1_InitialState",
          "T234-236-1_InitialState",
          "L118-119-1_InitialState",
          "T241-237-1_InitialState",
          "T7166-166-1_InitialState",
          "L165-166-1_InitialState",
          "L162-165-1_InitialState",
          "L42-46-1_InitialState",
          "L231-232-1_InitialState"
         ],
         "yaxis": "y"
        },
        {
         "alignmentgroup": "True",
         "hovertemplate": "Decomposition part:=masked_flows_negative<br>Flow decomposition value=%{x}<br>xnec_id=%{y}<extra></extra>",
         "legendgroup": "masked_flows_negative",
         "marker": {
          "color": "#6A76FC",
          "pattern": {
           "shape": ""
          }
         },
         "name": "masked_flows_negative",
         "offsetgroup": "masked_flows_negative",
         "orientation": "h",
         "showlegend": true,
         "textposition": "auto",
         "texttemplate": "%{x:.0f}",
         "type": "bar",
         "x": [
          -71.10220458553782,
          -54.10334845049115,
          -36.756224404388405,
          0,
          0,
          -25.998948583205525,
          -0.16954622362193986,
          -16.998856135046566,
          -7.522495425885295,
          -34.345980181149834,
          -9.575185129380632,
          0,
          -16.998856135046005,
          -11.352030086443168,
          -16.998856135046385,
          0,
          0,
          0,
          0,
          -16.794154698916493
         ],
         "xaxis": "x",
         "y": [
          "T7130-130-1_InitialState",
          "T7003-3-1_InitialState",
          "L191-192-1_InitialState",
          "T3-4-1_InitialState",
          "L4-16-1_InitialState",
          "L133-137-1_InitialState",
          "L119-120-1_InitialState",
          "T7139-139-1_InitialState",
          "L186-188-1_InitialState",
          "L225-191-1_InitialState",
          "L181-187-1_InitialState",
          "T7002-2-1_InitialState",
          "T234-236-1_InitialState",
          "L118-119-1_InitialState",
          "T241-237-1_InitialState",
          "T7166-166-1_InitialState",
          "L165-166-1_InitialState",
          "L162-165-1_InitialState",
          "L42-46-1_InitialState",
          "L231-232-1_InitialState"
         ],
         "yaxis": "y"
        },
        {
         "mode": "lines+markers",
         "name": "total_flow",
         "type": "scatter",
         "x": [
          1292.7368253968257,
          1210.7368253968255,
          828.5503927898847,
          778.5271987640217,
          778.5271987640211,
          718.3241559707752,
          705.9781703021854,
          700.7368253968252,
          664.4147781793408,
          656.1864326069411,
          649.1164308395205,
          623.7368253968252,
          600.7368253968281,
          592.1839806741858,
          576.1668253968251,
          553.7368253968257,
          553.7368253968256,
          553.7368253968248,
          552.8304851848867,
          551.263174603185
         ],
         "y": [
          "T7130-130-1_InitialState",
          "T7003-3-1_InitialState",
          "L191-192-1_InitialState",
          "T3-4-1_InitialState",
          "L4-16-1_InitialState",
          "L133-137-1_InitialState",
          "L119-120-1_InitialState",
          "T7139-139-1_InitialState",
          "L186-188-1_InitialState",
          "L225-191-1_InitialState",
          "L181-187-1_InitialState",
          "T7002-2-1_InitialState",
          "T234-236-1_InitialState",
          "L118-119-1_InitialState",
          "T241-237-1_InitialState",
          "T7166-166-1_InitialState",
          "L165-166-1_InitialState",
          "L162-165-1_InitialState",
          "L42-46-1_InitialState",
          "L231-232-1_InitialState"
         ]
        },
        {
         "mode": "lines+markers",
         "name": "total_loop_flow",
         "type": "scatter",
         "x": [
          -51.15346938775497,
          16.998856135046836,
          -2.9923892796294087,
          -165.4907762836541,
          -165.49077628365436,
          718.3241559707752,
          705.9781703021854,
          54.103348450491424,
          664.4147781793408,
          -2.7961670317846643,
          17.918411473194627,
          16.998856135046672,
          -3.154580498864904,
          -247.4968416639287,
          -3.154580498865899,
          16.99885613504675,
          16.998856135046328,
          16.99885613504652,
          280.97023862302,
          3.1545804988723845
         ],
         "y": [
          "T7130-130-1_InitialState",
          "T7003-3-1_InitialState",
          "L191-192-1_InitialState",
          "T3-4-1_InitialState",
          "L4-16-1_InitialState",
          "L133-137-1_InitialState",
          "L119-120-1_InitialState",
          "T7139-139-1_InitialState",
          "L186-188-1_InitialState",
          "L225-191-1_InitialState",
          "L181-187-1_InitialState",
          "T7002-2-1_InitialState",
          "T234-236-1_InitialState",
          "L118-119-1_InitialState",
          "T241-237-1_InitialState",
          "T7166-166-1_InitialState",
          "L165-166-1_InitialState",
          "L162-165-1_InitialState",
          "L42-46-1_InitialState",
          "L231-232-1_InitialState"
         ]
        }
       ],
       "layout": {
        "barmode": "relative",
        "height": 1000,
        "legend": {
         "title": {
          "text": "Decomposition part:"
         },
         "tracegroupgap": 0
        },
        "template": {
         "data": {
          "bar": [
           {
            "error_x": {
             "color": "rgb(36,36,36)"
            },
            "error_y": {
             "color": "rgb(36,36,36)"
            },
            "marker": {
             "line": {
              "color": "rgb(234,234,242)",
              "width": 0.5
             },
             "pattern": {
              "fillmode": "overlay",
              "size": 10,
              "solidity": 0.2
             }
            },
            "type": "bar"
           }
          ],
          "barpolar": [
           {
            "marker": {
             "line": {
              "color": "rgb(234,234,242)",
              "width": 0.5
             },
             "pattern": {
              "fillmode": "overlay",
              "size": 10,
              "solidity": 0.2
             }
            },
            "type": "barpolar"
           }
          ],
          "carpet": [
           {
            "aaxis": {
             "endlinecolor": "rgb(36,36,36)",
             "gridcolor": "white",
             "linecolor": "white",
             "minorgridcolor": "white",
             "startlinecolor": "rgb(36,36,36)"
            },
            "baxis": {
             "endlinecolor": "rgb(36,36,36)",
             "gridcolor": "white",
             "linecolor": "white",
             "minorgridcolor": "white",
             "startlinecolor": "rgb(36,36,36)"
            },
            "type": "carpet"
           }
          ],
          "choropleth": [
           {
            "colorbar": {
             "outlinewidth": 0,
             "tickcolor": "rgb(36,36,36)",
             "ticklen": 8,
             "ticks": "outside",
             "tickwidth": 2
            },
            "type": "choropleth"
           }
          ],
          "contour": [
           {
            "colorbar": {
             "outlinewidth": 0,
             "tickcolor": "rgb(36,36,36)",
             "ticklen": 8,
             "ticks": "outside",
             "tickwidth": 2
            },
            "colorscale": [
             [
              0,
              "rgb(2,4,25)"
             ],
             [
              0.06274509803921569,
              "rgb(24,15,41)"
             ],
             [
              0.12549019607843137,
              "rgb(47,23,57)"
             ],
             [
              0.18823529411764706,
              "rgb(71,28,72)"
             ],
             [
              0.25098039215686274,
              "rgb(97,30,82)"
             ],
             [
              0.3137254901960784,
              "rgb(123,30,89)"
             ],
             [
              0.3764705882352941,
              "rgb(150,27,91)"
             ],
             [
              0.4392156862745098,
              "rgb(177,22,88)"
             ],
             [
              0.5019607843137255,
              "rgb(203,26,79)"
             ],
             [
              0.5647058823529412,
              "rgb(223,47,67)"
             ],
             [
              0.6274509803921569,
              "rgb(236,76,61)"
             ],
             [
              0.6901960784313725,
              "rgb(242,107,73)"
             ],
             [
              0.7529411764705882,
              "rgb(244,135,95)"
             ],
             [
              0.8156862745098039,
              "rgb(245,162,122)"
             ],
             [
              0.8784313725490196,
              "rgb(246,188,153)"
             ],
             [
              0.9411764705882353,
              "rgb(247,212,187)"
             ],
             [
              1,
              "rgb(250,234,220)"
             ]
            ],
            "type": "contour"
           }
          ],
          "contourcarpet": [
           {
            "colorbar": {
             "outlinewidth": 0,
             "tickcolor": "rgb(36,36,36)",
             "ticklen": 8,
             "ticks": "outside",
             "tickwidth": 2
            },
            "type": "contourcarpet"
           }
          ],
          "heatmap": [
           {
            "colorbar": {
             "outlinewidth": 0,
             "tickcolor": "rgb(36,36,36)",
             "ticklen": 8,
             "ticks": "outside",
             "tickwidth": 2
            },
            "colorscale": [
             [
              0,
              "rgb(2,4,25)"
             ],
             [
              0.06274509803921569,
              "rgb(24,15,41)"
             ],
             [
              0.12549019607843137,
              "rgb(47,23,57)"
             ],
             [
              0.18823529411764706,
              "rgb(71,28,72)"
             ],
             [
              0.25098039215686274,
              "rgb(97,30,82)"
             ],
             [
              0.3137254901960784,
              "rgb(123,30,89)"
             ],
             [
              0.3764705882352941,
              "rgb(150,27,91)"
             ],
             [
              0.4392156862745098,
              "rgb(177,22,88)"
             ],
             [
              0.5019607843137255,
              "rgb(203,26,79)"
             ],
             [
              0.5647058823529412,
              "rgb(223,47,67)"
             ],
             [
              0.6274509803921569,
              "rgb(236,76,61)"
             ],
             [
              0.6901960784313725,
              "rgb(242,107,73)"
             ],
             [
              0.7529411764705882,
              "rgb(244,135,95)"
             ],
             [
              0.8156862745098039,
              "rgb(245,162,122)"
             ],
             [
              0.8784313725490196,
              "rgb(246,188,153)"
             ],
             [
              0.9411764705882353,
              "rgb(247,212,187)"
             ],
             [
              1,
              "rgb(250,234,220)"
             ]
            ],
            "type": "heatmap"
           }
          ],
          "heatmapgl": [
           {
            "colorbar": {
             "outlinewidth": 0,
             "tickcolor": "rgb(36,36,36)",
             "ticklen": 8,
             "ticks": "outside",
             "tickwidth": 2
            },
            "colorscale": [
             [
              0,
              "rgb(2,4,25)"
             ],
             [
              0.06274509803921569,
              "rgb(24,15,41)"
             ],
             [
              0.12549019607843137,
              "rgb(47,23,57)"
             ],
             [
              0.18823529411764706,
              "rgb(71,28,72)"
             ],
             [
              0.25098039215686274,
              "rgb(97,30,82)"
             ],
             [
              0.3137254901960784,
              "rgb(123,30,89)"
             ],
             [
              0.3764705882352941,
              "rgb(150,27,91)"
             ],
             [
              0.4392156862745098,
              "rgb(177,22,88)"
             ],
             [
              0.5019607843137255,
              "rgb(203,26,79)"
             ],
             [
              0.5647058823529412,
              "rgb(223,47,67)"
             ],
             [
              0.6274509803921569,
              "rgb(236,76,61)"
             ],
             [
              0.6901960784313725,
              "rgb(242,107,73)"
             ],
             [
              0.7529411764705882,
              "rgb(244,135,95)"
             ],
             [
              0.8156862745098039,
              "rgb(245,162,122)"
             ],
             [
              0.8784313725490196,
              "rgb(246,188,153)"
             ],
             [
              0.9411764705882353,
              "rgb(247,212,187)"
             ],
             [
              1,
              "rgb(250,234,220)"
             ]
            ],
            "type": "heatmapgl"
           }
          ],
          "histogram": [
           {
            "marker": {
             "pattern": {
              "fillmode": "overlay",
              "size": 10,
              "solidity": 0.2
             }
            },
            "type": "histogram"
           }
          ],
          "histogram2d": [
           {
            "colorbar": {
             "outlinewidth": 0,
             "tickcolor": "rgb(36,36,36)",
             "ticklen": 8,
             "ticks": "outside",
             "tickwidth": 2
            },
            "colorscale": [
             [
              0,
              "rgb(2,4,25)"
             ],
             [
              0.06274509803921569,
              "rgb(24,15,41)"
             ],
             [
              0.12549019607843137,
              "rgb(47,23,57)"
             ],
             [
              0.18823529411764706,
              "rgb(71,28,72)"
             ],
             [
              0.25098039215686274,
              "rgb(97,30,82)"
             ],
             [
              0.3137254901960784,
              "rgb(123,30,89)"
             ],
             [
              0.3764705882352941,
              "rgb(150,27,91)"
             ],
             [
              0.4392156862745098,
              "rgb(177,22,88)"
             ],
             [
              0.5019607843137255,
              "rgb(203,26,79)"
             ],
             [
              0.5647058823529412,
              "rgb(223,47,67)"
             ],
             [
              0.6274509803921569,
              "rgb(236,76,61)"
             ],
             [
              0.6901960784313725,
              "rgb(242,107,73)"
             ],
             [
              0.7529411764705882,
              "rgb(244,135,95)"
             ],
             [
              0.8156862745098039,
              "rgb(245,162,122)"
             ],
             [
              0.8784313725490196,
              "rgb(246,188,153)"
             ],
             [
              0.9411764705882353,
              "rgb(247,212,187)"
             ],
             [
              1,
              "rgb(250,234,220)"
             ]
            ],
            "type": "histogram2d"
           }
          ],
          "histogram2dcontour": [
           {
            "colorbar": {
             "outlinewidth": 0,
             "tickcolor": "rgb(36,36,36)",
             "ticklen": 8,
             "ticks": "outside",
             "tickwidth": 2
            },
            "colorscale": [
             [
              0,
              "rgb(2,4,25)"
             ],
             [
              0.06274509803921569,
              "rgb(24,15,41)"
             ],
             [
              0.12549019607843137,
              "rgb(47,23,57)"
             ],
             [
              0.18823529411764706,
              "rgb(71,28,72)"
             ],
             [
              0.25098039215686274,
              "rgb(97,30,82)"
             ],
             [
              0.3137254901960784,
              "rgb(123,30,89)"
             ],
             [
              0.3764705882352941,
              "rgb(150,27,91)"
             ],
             [
              0.4392156862745098,
              "rgb(177,22,88)"
             ],
             [
              0.5019607843137255,
              "rgb(203,26,79)"
             ],
             [
              0.5647058823529412,
              "rgb(223,47,67)"
             ],
             [
              0.6274509803921569,
              "rgb(236,76,61)"
             ],
             [
              0.6901960784313725,
              "rgb(242,107,73)"
             ],
             [
              0.7529411764705882,
              "rgb(244,135,95)"
             ],
             [
              0.8156862745098039,
              "rgb(245,162,122)"
             ],
             [
              0.8784313725490196,
              "rgb(246,188,153)"
             ],
             [
              0.9411764705882353,
              "rgb(247,212,187)"
             ],
             [
              1,
              "rgb(250,234,220)"
             ]
            ],
            "type": "histogram2dcontour"
           }
          ],
          "mesh3d": [
           {
            "colorbar": {
             "outlinewidth": 0,
             "tickcolor": "rgb(36,36,36)",
             "ticklen": 8,
             "ticks": "outside",
             "tickwidth": 2
            },
            "type": "mesh3d"
           }
          ],
          "parcoords": [
           {
            "line": {
             "colorbar": {
              "outlinewidth": 0,
              "tickcolor": "rgb(36,36,36)",
              "ticklen": 8,
              "ticks": "outside",
              "tickwidth": 2
             }
            },
            "type": "parcoords"
           }
          ],
          "pie": [
           {
            "automargin": true,
            "type": "pie"
           }
          ],
          "scatter": [
           {
            "fillpattern": {
             "fillmode": "overlay",
             "size": 10,
             "solidity": 0.2
            },
            "type": "scatter"
           }
          ],
          "scatter3d": [
           {
            "line": {
             "colorbar": {
              "outlinewidth": 0,
              "tickcolor": "rgb(36,36,36)",
              "ticklen": 8,
              "ticks": "outside",
              "tickwidth": 2
             }
            },
            "marker": {
             "colorbar": {
              "outlinewidth": 0,
              "tickcolor": "rgb(36,36,36)",
              "ticklen": 8,
              "ticks": "outside",
              "tickwidth": 2
             }
            },
            "type": "scatter3d"
           }
          ],
          "scattercarpet": [
           {
            "marker": {
             "colorbar": {
              "outlinewidth": 0,
              "tickcolor": "rgb(36,36,36)",
              "ticklen": 8,
              "ticks": "outside",
              "tickwidth": 2
             }
            },
            "type": "scattercarpet"
           }
          ],
          "scattergeo": [
           {
            "marker": {
             "colorbar": {
              "outlinewidth": 0,
              "tickcolor": "rgb(36,36,36)",
              "ticklen": 8,
              "ticks": "outside",
              "tickwidth": 2
             }
            },
            "type": "scattergeo"
           }
          ],
          "scattergl": [
           {
            "marker": {
             "colorbar": {
              "outlinewidth": 0,
              "tickcolor": "rgb(36,36,36)",
              "ticklen": 8,
              "ticks": "outside",
              "tickwidth": 2
             }
            },
            "type": "scattergl"
           }
          ],
          "scattermapbox": [
           {
            "marker": {
             "colorbar": {
              "outlinewidth": 0,
              "tickcolor": "rgb(36,36,36)",
              "ticklen": 8,
              "ticks": "outside",
              "tickwidth": 2
             }
            },
            "type": "scattermapbox"
           }
          ],
          "scatterpolar": [
           {
            "marker": {
             "colorbar": {
              "outlinewidth": 0,
              "tickcolor": "rgb(36,36,36)",
              "ticklen": 8,
              "ticks": "outside",
              "tickwidth": 2
             }
            },
            "type": "scatterpolar"
           }
          ],
          "scatterpolargl": [
           {
            "marker": {
             "colorbar": {
              "outlinewidth": 0,
              "tickcolor": "rgb(36,36,36)",
              "ticklen": 8,
              "ticks": "outside",
              "tickwidth": 2
             }
            },
            "type": "scatterpolargl"
           }
          ],
          "scatterternary": [
           {
            "marker": {
             "colorbar": {
              "outlinewidth": 0,
              "tickcolor": "rgb(36,36,36)",
              "ticklen": 8,
              "ticks": "outside",
              "tickwidth": 2
             }
            },
            "type": "scatterternary"
           }
          ],
          "surface": [
           {
            "colorbar": {
             "outlinewidth": 0,
             "tickcolor": "rgb(36,36,36)",
             "ticklen": 8,
             "ticks": "outside",
             "tickwidth": 2
            },
            "colorscale": [
             [
              0,
              "rgb(2,4,25)"
             ],
             [
              0.06274509803921569,
              "rgb(24,15,41)"
             ],
             [
              0.12549019607843137,
              "rgb(47,23,57)"
             ],
             [
              0.18823529411764706,
              "rgb(71,28,72)"
             ],
             [
              0.25098039215686274,
              "rgb(97,30,82)"
             ],
             [
              0.3137254901960784,
              "rgb(123,30,89)"
             ],
             [
              0.3764705882352941,
              "rgb(150,27,91)"
             ],
             [
              0.4392156862745098,
              "rgb(177,22,88)"
             ],
             [
              0.5019607843137255,
              "rgb(203,26,79)"
             ],
             [
              0.5647058823529412,
              "rgb(223,47,67)"
             ],
             [
              0.6274509803921569,
              "rgb(236,76,61)"
             ],
             [
              0.6901960784313725,
              "rgb(242,107,73)"
             ],
             [
              0.7529411764705882,
              "rgb(244,135,95)"
             ],
             [
              0.8156862745098039,
              "rgb(245,162,122)"
             ],
             [
              0.8784313725490196,
              "rgb(246,188,153)"
             ],
             [
              0.9411764705882353,
              "rgb(247,212,187)"
             ],
             [
              1,
              "rgb(250,234,220)"
             ]
            ],
            "type": "surface"
           }
          ],
          "table": [
           {
            "cells": {
             "fill": {
              "color": "rgb(231,231,240)"
             },
             "line": {
              "color": "white"
             }
            },
            "header": {
             "fill": {
              "color": "rgb(183,183,191)"
             },
             "line": {
              "color": "white"
             }
            },
            "type": "table"
           }
          ]
         },
         "layout": {
          "annotationdefaults": {
           "arrowcolor": "rgb(67,103,167)"
          },
          "autotypenumbers": "strict",
          "coloraxis": {
           "colorbar": {
            "outlinewidth": 0,
            "tickcolor": "rgb(36,36,36)",
            "ticklen": 8,
            "ticks": "outside",
            "tickwidth": 2
           }
          },
          "colorscale": {
           "sequential": [
            [
             0,
             "rgb(2,4,25)"
            ],
            [
             0.06274509803921569,
             "rgb(24,15,41)"
            ],
            [
             0.12549019607843137,
             "rgb(47,23,57)"
            ],
            [
             0.18823529411764706,
             "rgb(71,28,72)"
            ],
            [
             0.25098039215686274,
             "rgb(97,30,82)"
            ],
            [
             0.3137254901960784,
             "rgb(123,30,89)"
            ],
            [
             0.3764705882352941,
             "rgb(150,27,91)"
            ],
            [
             0.4392156862745098,
             "rgb(177,22,88)"
            ],
            [
             0.5019607843137255,
             "rgb(203,26,79)"
            ],
            [
             0.5647058823529412,
             "rgb(223,47,67)"
            ],
            [
             0.6274509803921569,
             "rgb(236,76,61)"
            ],
            [
             0.6901960784313725,
             "rgb(242,107,73)"
            ],
            [
             0.7529411764705882,
             "rgb(244,135,95)"
            ],
            [
             0.8156862745098039,
             "rgb(245,162,122)"
            ],
            [
             0.8784313725490196,
             "rgb(246,188,153)"
            ],
            [
             0.9411764705882353,
             "rgb(247,212,187)"
            ],
            [
             1,
             "rgb(250,234,220)"
            ]
           ],
           "sequentialminus": [
            [
             0,
             "rgb(2,4,25)"
            ],
            [
             0.06274509803921569,
             "rgb(24,15,41)"
            ],
            [
             0.12549019607843137,
             "rgb(47,23,57)"
            ],
            [
             0.18823529411764706,
             "rgb(71,28,72)"
            ],
            [
             0.25098039215686274,
             "rgb(97,30,82)"
            ],
            [
             0.3137254901960784,
             "rgb(123,30,89)"
            ],
            [
             0.3764705882352941,
             "rgb(150,27,91)"
            ],
            [
             0.4392156862745098,
             "rgb(177,22,88)"
            ],
            [
             0.5019607843137255,
             "rgb(203,26,79)"
            ],
            [
             0.5647058823529412,
             "rgb(223,47,67)"
            ],
            [
             0.6274509803921569,
             "rgb(236,76,61)"
            ],
            [
             0.6901960784313725,
             "rgb(242,107,73)"
            ],
            [
             0.7529411764705882,
             "rgb(244,135,95)"
            ],
            [
             0.8156862745098039,
             "rgb(245,162,122)"
            ],
            [
             0.8784313725490196,
             "rgb(246,188,153)"
            ],
            [
             0.9411764705882353,
             "rgb(247,212,187)"
            ],
            [
             1,
             "rgb(250,234,220)"
            ]
           ]
          },
          "colorway": [
           "rgb(76,114,176)",
           "rgb(221,132,82)",
           "rgb(85,168,104)",
           "rgb(196,78,82)",
           "rgb(129,114,179)",
           "rgb(147,120,96)",
           "rgb(218,139,195)",
           "rgb(140,140,140)",
           "rgb(204,185,116)",
           "rgb(100,181,205)"
          ],
          "font": {
           "color": "rgb(36,36,36)"
          },
          "geo": {
           "bgcolor": "white",
           "lakecolor": "white",
           "landcolor": "rgb(234,234,242)",
           "showlakes": true,
           "showland": true,
           "subunitcolor": "white"
          },
          "hoverlabel": {
           "align": "left"
          },
          "hovermode": "closest",
          "paper_bgcolor": "white",
          "plot_bgcolor": "rgb(234,234,242)",
          "polar": {
           "angularaxis": {
            "gridcolor": "white",
            "linecolor": "white",
            "showgrid": true,
            "ticks": ""
           },
           "bgcolor": "rgb(234,234,242)",
           "radialaxis": {
            "gridcolor": "white",
            "linecolor": "white",
            "showgrid": true,
            "ticks": ""
           }
          },
          "scene": {
           "xaxis": {
            "backgroundcolor": "rgb(234,234,242)",
            "gridcolor": "white",
            "gridwidth": 2,
            "linecolor": "white",
            "showbackground": true,
            "showgrid": true,
            "ticks": "",
            "zerolinecolor": "white"
           },
           "yaxis": {
            "backgroundcolor": "rgb(234,234,242)",
            "gridcolor": "white",
            "gridwidth": 2,
            "linecolor": "white",
            "showbackground": true,
            "showgrid": true,
            "ticks": "",
            "zerolinecolor": "white"
           },
           "zaxis": {
            "backgroundcolor": "rgb(234,234,242)",
            "gridcolor": "white",
            "gridwidth": 2,
            "linecolor": "white",
            "showbackground": true,
            "showgrid": true,
            "ticks": "",
            "zerolinecolor": "white"
           }
          },
          "shapedefaults": {
           "fillcolor": "rgb(67,103,167)",
           "line": {
            "width": 0
           },
           "opacity": 0.5
          },
          "ternary": {
           "aaxis": {
            "gridcolor": "white",
            "linecolor": "white",
            "showgrid": true,
            "ticks": ""
           },
           "baxis": {
            "gridcolor": "white",
            "linecolor": "white",
            "showgrid": true,
            "ticks": ""
           },
           "bgcolor": "rgb(234,234,242)",
           "caxis": {
            "gridcolor": "white",
            "linecolor": "white",
            "showgrid": true,
            "ticks": ""
           }
          },
          "xaxis": {
           "automargin": true,
           "gridcolor": "white",
           "linecolor": "white",
           "showgrid": true,
           "ticks": "",
           "title": {
            "standoff": 15
           },
           "zerolinecolor": "white"
          },
          "yaxis": {
           "automargin": true,
           "gridcolor": "white",
           "linecolor": "white",
           "showgrid": true,
           "ticks": "",
           "title": {
            "standoff": 15
           },
           "zerolinecolor": "white"
          }
         }
        },
        "title": {
         "text": "Sorted by: total_flow, ascending: False, head: 20"
        },
        "xaxis": {
         "anchor": "y",
         "domain": [
          0,
          1
         ],
         "title": {
          "text": "Flow decomposition value"
         }
        },
        "yaxis": {
         "anchor": "x",
         "domain": [
          0,
          1
         ],
         "title": {
          "text": "xnec_id"
         }
        }
       }
      }
     },
     "metadata": {},
     "output_type": "display_data"
    }
   ],
   "source": [
    "flow_decomposition_bar_chart('total_flow')"
   ]
  },
  {
   "cell_type": "code",
   "execution_count": 13,
   "metadata": {},
   "outputs": [
    {
     "data": {
      "application/vnd.plotly.v1+json": {
       "config": {
        "plotlyServerURL": "https://plot.ly"
       },
       "data": [
        {
         "alignmentgroup": "True",
         "hovertemplate": "Decomposition part:=commercial_flow<br>Flow decomposition value=%{x}<br>xnec_id=%{y}<extra></extra>",
         "legendgroup": "commercial_flow",
         "marker": {
          "color": "#0DF9FF",
          "pattern": {
           "shape": ""
          }
         },
         "name": "commercial_flow",
         "offsetgroup": "commercial_flow",
         "orientation": "h",
         "showlegend": true,
         "textposition": "auto",
         "texttemplate": "%{x:.0f}",
         "type": "bar",
         "x": [
          null,
          null,
          null,
          null,
          null,
          null,
          null,
          null,
          null,
          null,
          null,
          null,
          null,
          null,
          null,
          null,
          null,
          null,
          null,
          null
         ],
         "xaxis": "x",
         "y": [
          "L105-110-1_InitialState",
          "L80-211-1_InitialState",
          "L42-46-1_InitialState",
          "L43-44-1_InitialState",
          "L44-47-1_InitialState",
          "L44-54-1_InitialState",
          "L45-60-1_InitialState",
          "L45-74-1_InitialState",
          "L46-81-1_InitialState",
          "L47-113-1_InitialState",
          "L47-73-1_InitialState",
          "L54-55-1_InitialState",
          "L60-62-1_InitialState",
          "L62-144-1_InitialState",
          "L69-79-1_InitialState",
          "L7-12-1_InitialState",
          "L7-131-1_InitialState",
          "L71-73-1_InitialState",
          "L73-76-1_InitialState",
          "L73-79-1_InitialState"
         ],
         "yaxis": "y"
        },
        {
         "alignmentgroup": "True",
         "hovertemplate": "Decomposition part:=internal_flow<br>Flow decomposition value=%{x}<br>xnec_id=%{y}<extra></extra>",
         "legendgroup": "internal_flow",
         "marker": {
          "color": "#AF0038",
          "pattern": {
           "shape": ""
          }
         },
         "name": "internal_flow",
         "offsetgroup": "internal_flow",
         "orientation": "h",
         "showlegend": true,
         "textposition": "auto",
         "texttemplate": "%{x:.0f}",
         "type": "bar",
         "x": [
          null,
          42.70243358011585,
          271.86024656186675,
          79.73364235097905,
          27.65175069346307,
          32.948102998738904,
          280.75497026296495,
          null,
          160.01732447372314,
          null,
          null,
          27.624946977836167,
          280.75497026296483,
          null,
          null,
          263.4265014530805,
          null,
          51.72778794355777,
          15.929808813209881,
          null
         ],
         "xaxis": "x",
         "y": [
          "L105-110-1_InitialState",
          "L80-211-1_InitialState",
          "L42-46-1_InitialState",
          "L43-44-1_InitialState",
          "L44-47-1_InitialState",
          "L44-54-1_InitialState",
          "L45-60-1_InitialState",
          "L45-74-1_InitialState",
          "L46-81-1_InitialState",
          "L47-113-1_InitialState",
          "L47-73-1_InitialState",
          "L54-55-1_InitialState",
          "L60-62-1_InitialState",
          "L62-144-1_InitialState",
          "L69-79-1_InitialState",
          "L7-12-1_InitialState",
          "L7-131-1_InitialState",
          "L71-73-1_InitialState",
          "L73-76-1_InitialState",
          "L73-79-1_InitialState"
         ],
         "yaxis": "y"
        },
        {
         "alignmentgroup": "True",
         "hovertemplate": "Decomposition part:=loop_flow_from_bg<br>Flow decomposition value=%{x}<br>xnec_id=%{y}<extra></extra>",
         "legendgroup": "loop_flow_from_bg",
         "marker": {
          "color": "#FD3216",
          "pattern": {
           "shape": ""
          }
         },
         "name": "loop_flow_from_bg",
         "offsetgroup": "loop_flow_from_bg",
         "orientation": "h",
         "showlegend": true,
         "textposition": "auto",
         "texttemplate": "%{x:.0f}",
         "type": "bar",
         "x": [
          7.247561681199139,
          null,
          165.55615382962998,
          -31.985357305463506,
          46.27272591048067,
          -23.801529035332866,
          61.75047617152576,
          145.3044351945386,
          98.72412545613156,
          -12.160274069131109,
          58.43299997961181,
          21.09066040117741,
          61.750476171525804,
          null,
          7.938336223844468,
          null,
          null,
          null,
          null,
          62.071303698271294
         ],
         "xaxis": "x",
         "y": [
          "L105-110-1_InitialState",
          "L80-211-1_InitialState",
          "L42-46-1_InitialState",
          "L43-44-1_InitialState",
          "L44-47-1_InitialState",
          "L44-54-1_InitialState",
          "L45-60-1_InitialState",
          "L45-74-1_InitialState",
          "L46-81-1_InitialState",
          "L47-113-1_InitialState",
          "L47-73-1_InitialState",
          "L54-55-1_InitialState",
          "L60-62-1_InitialState",
          "L62-144-1_InitialState",
          "L69-79-1_InitialState",
          "L7-12-1_InitialState",
          "L7-131-1_InitialState",
          "L71-73-1_InitialState",
          "L73-76-1_InitialState",
          "L73-79-1_InitialState"
         ],
         "yaxis": "y"
        },
        {
         "alignmentgroup": "True",
         "hovertemplate": "Decomposition part:=loop_flow_from_cz<br>Flow decomposition value=%{x}<br>xnec_id=%{y}<extra></extra>",
         "legendgroup": "loop_flow_from_cz",
         "marker": {
          "color": "#00A08B",
          "pattern": {
           "shape": ""
          }
         },
         "name": "loop_flow_from_cz",
         "offsetgroup": "loop_flow_from_cz",
         "orientation": "h",
         "showlegend": true,
         "textposition": "auto",
         "texttemplate": "%{x:.0f}",
         "type": "bar",
         "x": [
          null,
          null,
          null,
          null,
          null,
          null,
          null,
          null,
          null,
          null,
          null,
          null,
          null,
          null,
          null,
          null,
          null,
          null,
          null,
          -19.17510346228602
         ],
         "xaxis": "x",
         "y": [
          "L105-110-1_InitialState",
          "L80-211-1_InitialState",
          "L42-46-1_InitialState",
          "L43-44-1_InitialState",
          "L44-47-1_InitialState",
          "L44-54-1_InitialState",
          "L45-60-1_InitialState",
          "L45-74-1_InitialState",
          "L46-81-1_InitialState",
          "L47-113-1_InitialState",
          "L47-73-1_InitialState",
          "L54-55-1_InitialState",
          "L60-62-1_InitialState",
          "L62-144-1_InitialState",
          "L69-79-1_InitialState",
          "L7-12-1_InitialState",
          "L7-131-1_InitialState",
          "L71-73-1_InitialState",
          "L73-76-1_InitialState",
          "L73-79-1_InitialState"
         ],
         "yaxis": "y"
        },
        {
         "alignmentgroup": "True",
         "hovertemplate": "Decomposition part:=loop_flow_from_dk<br>Flow decomposition value=%{x}<br>xnec_id=%{y}<extra></extra>",
         "legendgroup": "loop_flow_from_dk",
         "marker": {
          "color": "#6C4516",
          "pattern": {
           "shape": ""
          }
         },
         "name": "loop_flow_from_dk",
         "offsetgroup": "loop_flow_from_dk",
         "orientation": "h",
         "showlegend": true,
         "textposition": "auto",
         "texttemplate": "%{x:.0f}",
         "type": "bar",
         "x": [
          7.489591195467309,
          -62.553917019759176,
          723.7347444719029,
          null,
          69.50952426767392,
          -6.764005605092088,
          250.09500082857153,
          281.28818368668374,
          584.7135250682505,
          null,
          71.12881184757269,
          null,
          250.09500082857153,
          468.80963577548334,
          34.899377331504745,
          352.4785971925965,
          660.766376251145,
          49.94421033052831,
          59.7014028714065,
          -90.03766807431802
         ],
         "xaxis": "x",
         "y": [
          "L105-110-1_InitialState",
          "L80-211-1_InitialState",
          "L42-46-1_InitialState",
          "L43-44-1_InitialState",
          "L44-47-1_InitialState",
          "L44-54-1_InitialState",
          "L45-60-1_InitialState",
          "L45-74-1_InitialState",
          "L46-81-1_InitialState",
          "L47-113-1_InitialState",
          "L47-73-1_InitialState",
          "L54-55-1_InitialState",
          "L60-62-1_InitialState",
          "L62-144-1_InitialState",
          "L69-79-1_InitialState",
          "L7-12-1_InitialState",
          "L7-131-1_InitialState",
          "L71-73-1_InitialState",
          "L73-76-1_InitialState",
          "L73-79-1_InitialState"
         ],
         "yaxis": "y"
        },
        {
         "alignmentgroup": "True",
         "hovertemplate": "Decomposition part:=loop_flow_from_ee<br>Flow decomposition value=%{x}<br>xnec_id=%{y}<extra></extra>",
         "legendgroup": "loop_flow_from_ee",
         "marker": {
          "color": "#511CFB",
          "pattern": {
           "shape": ""
          }
         },
         "name": "loop_flow_from_ee",
         "offsetgroup": "loop_flow_from_ee",
         "orientation": "h",
         "showlegend": true,
         "textposition": "auto",
         "texttemplate": "%{x:.0f}",
         "type": "bar",
         "x": [
          null,
          -20.133628985211132,
          null,
          -10.948623012047413,
          null,
          -8.59656787890701,
          null,
          null,
          null,
          null,
          null,
          8.00559328034249,
          null,
          null,
          12.289467724311546,
          null,
          null,
          null,
          10.275984163186054,
          -18.58183621367655
         ],
         "xaxis": "x",
         "y": [
          "L105-110-1_InitialState",
          "L80-211-1_InitialState",
          "L42-46-1_InitialState",
          "L43-44-1_InitialState",
          "L44-47-1_InitialState",
          "L44-54-1_InitialState",
          "L45-60-1_InitialState",
          "L45-74-1_InitialState",
          "L46-81-1_InitialState",
          "L47-113-1_InitialState",
          "L47-73-1_InitialState",
          "L54-55-1_InitialState",
          "L60-62-1_InitialState",
          "L62-144-1_InitialState",
          "L69-79-1_InitialState",
          "L7-12-1_InitialState",
          "L7-131-1_InitialState",
          "L71-73-1_InitialState",
          "L73-76-1_InitialState",
          "L73-79-1_InitialState"
         ],
         "yaxis": "y"
        },
        {
         "alignmentgroup": "True",
         "hovertemplate": "Decomposition part:=loop_flow_from_fr<br>Flow decomposition value=%{x}<br>xnec_id=%{y}<extra></extra>",
         "legendgroup": "loop_flow_from_fr",
         "marker": {
          "color": "#F6F926",
          "pattern": {
           "shape": ""
          }
         },
         "name": "loop_flow_from_fr",
         "offsetgroup": "loop_flow_from_fr",
         "orientation": "h",
         "showlegend": true,
         "textposition": "auto",
         "texttemplate": "%{x:.0f}",
         "type": "bar",
         "x": [
          -5.3312504619575,
          33.428945156696926,
          -199.0766669143227,
          18.062774280209087,
          -33.4275104429128,
          24.1568292142621,
          -189.59640652211755,
          -136.2323909876543,
          -258.0781950014783,
          4.827841638511305,
          -38.255352081424235,
          -30.66266765910981,
          -189.59640652211738,
          -245.02122435302493,
          -17.536845781872017,
          null,
          -128.37351026828318,
          -9.082872626776883,
          -26.991071560350715,
          38.44106209985233
         ],
         "xaxis": "x",
         "y": [
          "L105-110-1_InitialState",
          "L80-211-1_InitialState",
          "L42-46-1_InitialState",
          "L43-44-1_InitialState",
          "L44-47-1_InitialState",
          "L44-54-1_InitialState",
          "L45-60-1_InitialState",
          "L45-74-1_InitialState",
          "L46-81-1_InitialState",
          "L47-113-1_InitialState",
          "L47-73-1_InitialState",
          "L54-55-1_InitialState",
          "L60-62-1_InitialState",
          "L62-144-1_InitialState",
          "L69-79-1_InitialState",
          "L7-12-1_InitialState",
          "L7-131-1_InitialState",
          "L71-73-1_InitialState",
          "L73-76-1_InitialState",
          "L73-79-1_InitialState"
         ],
         "yaxis": "y"
        },
        {
         "alignmentgroup": "True",
         "hovertemplate": "Decomposition part:=loop_flow_from_hu<br>Flow decomposition value=%{x}<br>xnec_id=%{y}<extra></extra>",
         "legendgroup": "loop_flow_from_hu",
         "marker": {
          "color": "#C9FBE5",
          "pattern": {
           "shape": ""
          }
         },
         "name": "loop_flow_from_hu",
         "offsetgroup": "loop_flow_from_hu",
         "orientation": "h",
         "showlegend": true,
         "textposition": "auto",
         "texttemplate": "%{x:.0f}",
         "type": "bar",
         "x": [
          -8.512478338983115,
          59.077422684376806,
          -635.955291591542,
          26.749610938502673,
          -62.76368591000579,
          14.800788115559707,
          -244.02568210389705,
          -266.464042134041,
          -541.1501753176985,
          9.837957700750119,
          -72.60164361075633,
          -8.705200741763003,
          -244.02568210389688,
          -448.1985868371602,
          -32.36791088294639,
          -366.88605895317033,
          -807.3350495431577,
          -47.428773991279314,
          -57.31466881874987,
          85.45014631854812
         ],
         "xaxis": "x",
         "y": [
          "L105-110-1_InitialState",
          "L80-211-1_InitialState",
          "L42-46-1_InitialState",
          "L43-44-1_InitialState",
          "L44-47-1_InitialState",
          "L44-54-1_InitialState",
          "L45-60-1_InitialState",
          "L45-74-1_InitialState",
          "L46-81-1_InitialState",
          "L47-113-1_InitialState",
          "L47-73-1_InitialState",
          "L54-55-1_InitialState",
          "L60-62-1_InitialState",
          "L62-144-1_InitialState",
          "L69-79-1_InitialState",
          "L7-12-1_InitialState",
          "L7-131-1_InitialState",
          "L71-73-1_InitialState",
          "L73-76-1_InitialState",
          "L73-79-1_InitialState"
         ],
         "yaxis": "y"
        },
        {
         "alignmentgroup": "True",
         "hovertemplate": "Decomposition part:=loop_flow_from_ie<br>Flow decomposition value=%{x}<br>xnec_id=%{y}<extra></extra>",
         "legendgroup": "loop_flow_from_ie",
         "marker": {
          "color": "#FC0080",
          "pattern": {
           "shape": ""
          }
         },
         "name": "loop_flow_from_ie",
         "offsetgroup": "loop_flow_from_ie",
         "orientation": "h",
         "showlegend": true,
         "textposition": "auto",
         "texttemplate": "%{x:.0f}",
         "type": "bar",
         "x": [
          null,
          null,
          null,
          null,
          null,
          null,
          null,
          null,
          null,
          null,
          null,
          null,
          null,
          null,
          null,
          null,
          null,
          null,
          null,
          null
         ],
         "xaxis": "x",
         "y": [
          "L105-110-1_InitialState",
          "L80-211-1_InitialState",
          "L42-46-1_InitialState",
          "L43-44-1_InitialState",
          "L44-47-1_InitialState",
          "L44-54-1_InitialState",
          "L45-60-1_InitialState",
          "L45-74-1_InitialState",
          "L46-81-1_InitialState",
          "L47-113-1_InitialState",
          "L47-73-1_InitialState",
          "L54-55-1_InitialState",
          "L60-62-1_InitialState",
          "L62-144-1_InitialState",
          "L69-79-1_InitialState",
          "L7-12-1_InitialState",
          "L7-131-1_InitialState",
          "L71-73-1_InitialState",
          "L73-76-1_InitialState",
          "L73-79-1_InitialState"
         ],
         "yaxis": "y"
        },
        {
         "alignmentgroup": "True",
         "hovertemplate": "Decomposition part:=loop_flow_from_lt<br>Flow decomposition value=%{x}<br>xnec_id=%{y}<extra></extra>",
         "legendgroup": "loop_flow_from_lt",
         "marker": {
          "color": "#FB0D0D",
          "pattern": {
           "shape": ""
          }
         },
         "name": "loop_flow_from_lt",
         "offsetgroup": "loop_flow_from_lt",
         "orientation": "h",
         "showlegend": true,
         "textposition": "auto",
         "texttemplate": "%{x:.0f}",
         "type": "bar",
         "x": [
          10.283987408993626,
          -16.532153494713203,
          null,
          null,
          null,
          null,
          null,
          78.00236556970619,
          null,
          -10.487449131343109,
          -19.860800175193663,
          null,
          null,
          235.9631028959304,
          10.13322493641349,
          null,
          156.86329136218598,
          13.559514983535705,
          10.187947877380132,
          -20.860962865395287
         ],
         "xaxis": "x",
         "y": [
          "L105-110-1_InitialState",
          "L80-211-1_InitialState",
          "L42-46-1_InitialState",
          "L43-44-1_InitialState",
          "L44-47-1_InitialState",
          "L44-54-1_InitialState",
          "L45-60-1_InitialState",
          "L45-74-1_InitialState",
          "L46-81-1_InitialState",
          "L47-113-1_InitialState",
          "L47-73-1_InitialState",
          "L54-55-1_InitialState",
          "L60-62-1_InitialState",
          "L62-144-1_InitialState",
          "L69-79-1_InitialState",
          "L7-12-1_InitialState",
          "L7-131-1_InitialState",
          "L71-73-1_InitialState",
          "L73-76-1_InitialState",
          "L73-79-1_InitialState"
         ],
         "yaxis": "y"
        },
        {
         "alignmentgroup": "True",
         "hovertemplate": "Decomposition part:=loop_flow_from_lu<br>Flow decomposition value=%{x}<br>xnec_id=%{y}<extra></extra>",
         "legendgroup": "loop_flow_from_lu",
         "marker": {
          "color": "#D626FF",
          "pattern": {
           "shape": ""
          }
         },
         "name": "loop_flow_from_lu",
         "offsetgroup": "loop_flow_from_lu",
         "orientation": "h",
         "showlegend": true,
         "textposition": "auto",
         "texttemplate": "%{x:.0f}",
         "type": "bar",
         "x": [
          27.679895929052062,
          null,
          133.77967824623622,
          -9.61297256904022,
          41.25245362293074,
          -13.765819864063038,
          59.96621902803688,
          54.72561348437483,
          126.93517891148389,
          44.6519669428388,
          null,
          17.91041668201302,
          59.96621902803672,
          null,
          null,
          null,
          null,
          null,
          null,
          null
         ],
         "xaxis": "x",
         "y": [
          "L105-110-1_InitialState",
          "L80-211-1_InitialState",
          "L42-46-1_InitialState",
          "L43-44-1_InitialState",
          "L44-47-1_InitialState",
          "L44-54-1_InitialState",
          "L45-60-1_InitialState",
          "L45-74-1_InitialState",
          "L46-81-1_InitialState",
          "L47-113-1_InitialState",
          "L47-73-1_InitialState",
          "L54-55-1_InitialState",
          "L60-62-1_InitialState",
          "L62-144-1_InitialState",
          "L69-79-1_InitialState",
          "L7-12-1_InitialState",
          "L7-131-1_InitialState",
          "L71-73-1_InitialState",
          "L73-76-1_InitialState",
          "L73-79-1_InitialState"
         ],
         "yaxis": "y"
        },
        {
         "alignmentgroup": "True",
         "hovertemplate": "Decomposition part:=pst_flow<br>Flow decomposition value=%{x}<br>xnec_id=%{y}<extra></extra>",
         "legendgroup": "pst_flow",
         "marker": {
          "color": "#DA16FF",
          "pattern": {
           "shape": ""
          }
         },
         "name": "pst_flow",
         "offsetgroup": "pst_flow",
         "orientation": "h",
         "showlegend": true,
         "textposition": "auto",
         "texttemplate": "%{x:.0f}",
         "type": "bar",
         "x": [
          null,
          null,
          null,
          null,
          null,
          null,
          null,
          null,
          null,
          null,
          null,
          null,
          null,
          null,
          null,
          null,
          null,
          null,
          null,
          null
         ],
         "xaxis": "x",
         "y": [
          "L105-110-1_InitialState",
          "L80-211-1_InitialState",
          "L42-46-1_InitialState",
          "L43-44-1_InitialState",
          "L44-47-1_InitialState",
          "L44-54-1_InitialState",
          "L45-60-1_InitialState",
          "L45-74-1_InitialState",
          "L46-81-1_InitialState",
          "L47-113-1_InitialState",
          "L47-73-1_InitialState",
          "L54-55-1_InitialState",
          "L60-62-1_InitialState",
          "L62-144-1_InitialState",
          "L69-79-1_InitialState",
          "L7-12-1_InitialState",
          "L7-131-1_InitialState",
          "L71-73-1_InitialState",
          "L73-76-1_InitialState",
          "L73-79-1_InitialState"
         ],
         "yaxis": "y"
        },
        {
         "alignmentgroup": "True",
         "hovertemplate": "Decomposition part:=masked_flows_positive<br>Flow decomposition value=%{x}<br>xnec_id=%{y}<extra></extra>",
         "legendgroup": "masked_flows_positive",
         "marker": {
          "color": "#86CE00",
          "pattern": {
           "shape": ""
          }
         },
         "name": "masked_flows_positive",
         "offsetgroup": "masked_flows_positive",
         "orientation": "h",
         "showlegend": true,
         "textposition": "auto",
         "texttemplate": "%{x:.0f}",
         "type": "bar",
         "x": [
          3.7758059969338698,
          4.655572527614028,
          92.93162058111555,
          0,
          15.014879878769989,
          0,
          31.36312709355119,
          53.092917711090585,
          85.36236234952548,
          0,
          18.850497389597702,
          8.236496189580919,
          31.363127093551185,
          134.44020663187607,
          3.779166828627848,
          14.130419695694924,
          124.6480545022489,
          1.5112857234629264,
          8.4380451994076,
          0
         ],
         "xaxis": "x",
         "y": [
          "L105-110-1_InitialState",
          "L80-211-1_InitialState",
          "L42-46-1_InitialState",
          "L43-44-1_InitialState",
          "L44-47-1_InitialState",
          "L44-54-1_InitialState",
          "L45-60-1_InitialState",
          "L45-74-1_InitialState",
          "L46-81-1_InitialState",
          "L47-113-1_InitialState",
          "L47-73-1_InitialState",
          "L54-55-1_InitialState",
          "L60-62-1_InitialState",
          "L62-144-1_InitialState",
          "L69-79-1_InitialState",
          "L7-12-1_InitialState",
          "L7-131-1_InitialState",
          "L71-73-1_InitialState",
          "L73-76-1_InitialState",
          "L73-79-1_InitialState"
         ],
         "yaxis": "y"
        },
        {
         "alignmentgroup": "True",
         "hovertemplate": "Decomposition part:=masked_flows_negative<br>Flow decomposition value=%{x}<br>xnec_id=%{y}<extra></extra>",
         "legendgroup": "masked_flows_negative",
         "marker": {
          "color": "#6A76FC",
          "pattern": {
           "shape": ""
          }
         },
         "name": "masked_flows_negative",
         "offsetgroup": "masked_flows_negative",
         "orientation": "h",
         "showlegend": true,
         "textposition": "auto",
         "texttemplate": "%{x:.0f}",
         "type": "bar",
         "x": [
          0,
          -4.710053010676377,
          0,
          -12.367497704745634,
          0,
          -2.485726068248672,
          0,
          0,
          0,
          -5.454905090726046,
          -3.3995133199080767,
          0,
          0,
          0,
          -4.722974386999297,
          -64.11208176107256,
          0,
          -2.4824122285540215,
          0,
          -5.148166173142438
         ],
         "xaxis": "x",
         "y": [
          "L105-110-1_InitialState",
          "L80-211-1_InitialState",
          "L42-46-1_InitialState",
          "L43-44-1_InitialState",
          "L44-47-1_InitialState",
          "L44-54-1_InitialState",
          "L45-60-1_InitialState",
          "L45-74-1_InitialState",
          "L46-81-1_InitialState",
          "L47-113-1_InitialState",
          "L47-73-1_InitialState",
          "L54-55-1_InitialState",
          "L60-62-1_InitialState",
          "L62-144-1_InitialState",
          "L69-79-1_InitialState",
          "L7-12-1_InitialState",
          "L7-131-1_InitialState",
          "L71-73-1_InitialState",
          "L73-76-1_InitialState",
          "L73-79-1_InitialState"
         ],
         "yaxis": "y"
        },
        {
         "mode": "lines+markers",
         "name": "total_flow",
         "type": "scatter",
         "x": [
          42.63311341070539,
          35.93462143844373,
          552.8304851848867,
          59.63157697839402,
          103.51013802039984,
          16.492071876917038,
          250.3077047586357,
          209.71708252469864,
          256.5241459399377,
          31.215137990899954,
          14.295000029499874,
          43.5002451300772,
          250.3077047586358,
          145.99313411310465,
          14.411841992884394,
          199.0373776271291,
          6.569162304138885,
          57.748740134474495,
          20.227448545489576,
          32.158775327853434
         ],
         "y": [
          "L105-110-1_InitialState",
          "L80-211-1_InitialState",
          "L42-46-1_InitialState",
          "L43-44-1_InitialState",
          "L44-47-1_InitialState",
          "L44-54-1_InitialState",
          "L45-60-1_InitialState",
          "L45-74-1_InitialState",
          "L46-81-1_InitialState",
          "L47-113-1_InitialState",
          "L47-73-1_InitialState",
          "L54-55-1_InitialState",
          "L60-62-1_InitialState",
          "L62-144-1_InitialState",
          "L69-79-1_InitialState",
          "L7-12-1_InitialState",
          "L7-131-1_InitialState",
          "L71-73-1_InitialState",
          "L73-76-1_InitialState",
          "L73-79-1_InitialState"
         ]
        },
        {
         "mode": "lines+markers",
         "name": "total_loop_flow",
         "type": "scatter",
         "x": [
          42.63311341070539,
          -6.767812141672122,
          280.97023862302,
          -20.10206537258501,
          75.85838732693676,
          -16.456031121821866,
          -30.44726550432923,
          209.71708252469864,
          96.50682146621449,
          31.215137990899954,
          14.295000029499874,
          15.875298152241024,
          -30.447265504328996,
          145.99313411310465,
          14.411841992884394,
          -64.38912382595144,
          6.569162304138885,
          6.020952190916718,
          4.297639732279701,
          32.158775327853434
         ],
         "y": [
          "L105-110-1_InitialState",
          "L80-211-1_InitialState",
          "L42-46-1_InitialState",
          "L43-44-1_InitialState",
          "L44-47-1_InitialState",
          "L44-54-1_InitialState",
          "L45-60-1_InitialState",
          "L45-74-1_InitialState",
          "L46-81-1_InitialState",
          "L47-113-1_InitialState",
          "L47-73-1_InitialState",
          "L54-55-1_InitialState",
          "L60-62-1_InitialState",
          "L62-144-1_InitialState",
          "L69-79-1_InitialState",
          "L7-12-1_InitialState",
          "L7-131-1_InitialState",
          "L71-73-1_InitialState",
          "L73-76-1_InitialState",
          "L73-79-1_InitialState"
         ]
        }
       ],
       "layout": {
        "barmode": "relative",
        "height": 1000,
        "legend": {
         "title": {
          "text": "Decomposition part:"
         },
         "tracegroupgap": 0
        },
        "template": {
         "data": {
          "bar": [
           {
            "error_x": {
             "color": "rgb(36,36,36)"
            },
            "error_y": {
             "color": "rgb(36,36,36)"
            },
            "marker": {
             "line": {
              "color": "rgb(234,234,242)",
              "width": 0.5
             },
             "pattern": {
              "fillmode": "overlay",
              "size": 10,
              "solidity": 0.2
             }
            },
            "type": "bar"
           }
          ],
          "barpolar": [
           {
            "marker": {
             "line": {
              "color": "rgb(234,234,242)",
              "width": 0.5
             },
             "pattern": {
              "fillmode": "overlay",
              "size": 10,
              "solidity": 0.2
             }
            },
            "type": "barpolar"
           }
          ],
          "carpet": [
           {
            "aaxis": {
             "endlinecolor": "rgb(36,36,36)",
             "gridcolor": "white",
             "linecolor": "white",
             "minorgridcolor": "white",
             "startlinecolor": "rgb(36,36,36)"
            },
            "baxis": {
             "endlinecolor": "rgb(36,36,36)",
             "gridcolor": "white",
             "linecolor": "white",
             "minorgridcolor": "white",
             "startlinecolor": "rgb(36,36,36)"
            },
            "type": "carpet"
           }
          ],
          "choropleth": [
           {
            "colorbar": {
             "outlinewidth": 0,
             "tickcolor": "rgb(36,36,36)",
             "ticklen": 8,
             "ticks": "outside",
             "tickwidth": 2
            },
            "type": "choropleth"
           }
          ],
          "contour": [
           {
            "colorbar": {
             "outlinewidth": 0,
             "tickcolor": "rgb(36,36,36)",
             "ticklen": 8,
             "ticks": "outside",
             "tickwidth": 2
            },
            "colorscale": [
             [
              0,
              "rgb(2,4,25)"
             ],
             [
              0.06274509803921569,
              "rgb(24,15,41)"
             ],
             [
              0.12549019607843137,
              "rgb(47,23,57)"
             ],
             [
              0.18823529411764706,
              "rgb(71,28,72)"
             ],
             [
              0.25098039215686274,
              "rgb(97,30,82)"
             ],
             [
              0.3137254901960784,
              "rgb(123,30,89)"
             ],
             [
              0.3764705882352941,
              "rgb(150,27,91)"
             ],
             [
              0.4392156862745098,
              "rgb(177,22,88)"
             ],
             [
              0.5019607843137255,
              "rgb(203,26,79)"
             ],
             [
              0.5647058823529412,
              "rgb(223,47,67)"
             ],
             [
              0.6274509803921569,
              "rgb(236,76,61)"
             ],
             [
              0.6901960784313725,
              "rgb(242,107,73)"
             ],
             [
              0.7529411764705882,
              "rgb(244,135,95)"
             ],
             [
              0.8156862745098039,
              "rgb(245,162,122)"
             ],
             [
              0.8784313725490196,
              "rgb(246,188,153)"
             ],
             [
              0.9411764705882353,
              "rgb(247,212,187)"
             ],
             [
              1,
              "rgb(250,234,220)"
             ]
            ],
            "type": "contour"
           }
          ],
          "contourcarpet": [
           {
            "colorbar": {
             "outlinewidth": 0,
             "tickcolor": "rgb(36,36,36)",
             "ticklen": 8,
             "ticks": "outside",
             "tickwidth": 2
            },
            "type": "contourcarpet"
           }
          ],
          "heatmap": [
           {
            "colorbar": {
             "outlinewidth": 0,
             "tickcolor": "rgb(36,36,36)",
             "ticklen": 8,
             "ticks": "outside",
             "tickwidth": 2
            },
            "colorscale": [
             [
              0,
              "rgb(2,4,25)"
             ],
             [
              0.06274509803921569,
              "rgb(24,15,41)"
             ],
             [
              0.12549019607843137,
              "rgb(47,23,57)"
             ],
             [
              0.18823529411764706,
              "rgb(71,28,72)"
             ],
             [
              0.25098039215686274,
              "rgb(97,30,82)"
             ],
             [
              0.3137254901960784,
              "rgb(123,30,89)"
             ],
             [
              0.3764705882352941,
              "rgb(150,27,91)"
             ],
             [
              0.4392156862745098,
              "rgb(177,22,88)"
             ],
             [
              0.5019607843137255,
              "rgb(203,26,79)"
             ],
             [
              0.5647058823529412,
              "rgb(223,47,67)"
             ],
             [
              0.6274509803921569,
              "rgb(236,76,61)"
             ],
             [
              0.6901960784313725,
              "rgb(242,107,73)"
             ],
             [
              0.7529411764705882,
              "rgb(244,135,95)"
             ],
             [
              0.8156862745098039,
              "rgb(245,162,122)"
             ],
             [
              0.8784313725490196,
              "rgb(246,188,153)"
             ],
             [
              0.9411764705882353,
              "rgb(247,212,187)"
             ],
             [
              1,
              "rgb(250,234,220)"
             ]
            ],
            "type": "heatmap"
           }
          ],
          "heatmapgl": [
           {
            "colorbar": {
             "outlinewidth": 0,
             "tickcolor": "rgb(36,36,36)",
             "ticklen": 8,
             "ticks": "outside",
             "tickwidth": 2
            },
            "colorscale": [
             [
              0,
              "rgb(2,4,25)"
             ],
             [
              0.06274509803921569,
              "rgb(24,15,41)"
             ],
             [
              0.12549019607843137,
              "rgb(47,23,57)"
             ],
             [
              0.18823529411764706,
              "rgb(71,28,72)"
             ],
             [
              0.25098039215686274,
              "rgb(97,30,82)"
             ],
             [
              0.3137254901960784,
              "rgb(123,30,89)"
             ],
             [
              0.3764705882352941,
              "rgb(150,27,91)"
             ],
             [
              0.4392156862745098,
              "rgb(177,22,88)"
             ],
             [
              0.5019607843137255,
              "rgb(203,26,79)"
             ],
             [
              0.5647058823529412,
              "rgb(223,47,67)"
             ],
             [
              0.6274509803921569,
              "rgb(236,76,61)"
             ],
             [
              0.6901960784313725,
              "rgb(242,107,73)"
             ],
             [
              0.7529411764705882,
              "rgb(244,135,95)"
             ],
             [
              0.8156862745098039,
              "rgb(245,162,122)"
             ],
             [
              0.8784313725490196,
              "rgb(246,188,153)"
             ],
             [
              0.9411764705882353,
              "rgb(247,212,187)"
             ],
             [
              1,
              "rgb(250,234,220)"
             ]
            ],
            "type": "heatmapgl"
           }
          ],
          "histogram": [
           {
            "marker": {
             "pattern": {
              "fillmode": "overlay",
              "size": 10,
              "solidity": 0.2
             }
            },
            "type": "histogram"
           }
          ],
          "histogram2d": [
           {
            "colorbar": {
             "outlinewidth": 0,
             "tickcolor": "rgb(36,36,36)",
             "ticklen": 8,
             "ticks": "outside",
             "tickwidth": 2
            },
            "colorscale": [
             [
              0,
              "rgb(2,4,25)"
             ],
             [
              0.06274509803921569,
              "rgb(24,15,41)"
             ],
             [
              0.12549019607843137,
              "rgb(47,23,57)"
             ],
             [
              0.18823529411764706,
              "rgb(71,28,72)"
             ],
             [
              0.25098039215686274,
              "rgb(97,30,82)"
             ],
             [
              0.3137254901960784,
              "rgb(123,30,89)"
             ],
             [
              0.3764705882352941,
              "rgb(150,27,91)"
             ],
             [
              0.4392156862745098,
              "rgb(177,22,88)"
             ],
             [
              0.5019607843137255,
              "rgb(203,26,79)"
             ],
             [
              0.5647058823529412,
              "rgb(223,47,67)"
             ],
             [
              0.6274509803921569,
              "rgb(236,76,61)"
             ],
             [
              0.6901960784313725,
              "rgb(242,107,73)"
             ],
             [
              0.7529411764705882,
              "rgb(244,135,95)"
             ],
             [
              0.8156862745098039,
              "rgb(245,162,122)"
             ],
             [
              0.8784313725490196,
              "rgb(246,188,153)"
             ],
             [
              0.9411764705882353,
              "rgb(247,212,187)"
             ],
             [
              1,
              "rgb(250,234,220)"
             ]
            ],
            "type": "histogram2d"
           }
          ],
          "histogram2dcontour": [
           {
            "colorbar": {
             "outlinewidth": 0,
             "tickcolor": "rgb(36,36,36)",
             "ticklen": 8,
             "ticks": "outside",
             "tickwidth": 2
            },
            "colorscale": [
             [
              0,
              "rgb(2,4,25)"
             ],
             [
              0.06274509803921569,
              "rgb(24,15,41)"
             ],
             [
              0.12549019607843137,
              "rgb(47,23,57)"
             ],
             [
              0.18823529411764706,
              "rgb(71,28,72)"
             ],
             [
              0.25098039215686274,
              "rgb(97,30,82)"
             ],
             [
              0.3137254901960784,
              "rgb(123,30,89)"
             ],
             [
              0.3764705882352941,
              "rgb(150,27,91)"
             ],
             [
              0.4392156862745098,
              "rgb(177,22,88)"
             ],
             [
              0.5019607843137255,
              "rgb(203,26,79)"
             ],
             [
              0.5647058823529412,
              "rgb(223,47,67)"
             ],
             [
              0.6274509803921569,
              "rgb(236,76,61)"
             ],
             [
              0.6901960784313725,
              "rgb(242,107,73)"
             ],
             [
              0.7529411764705882,
              "rgb(244,135,95)"
             ],
             [
              0.8156862745098039,
              "rgb(245,162,122)"
             ],
             [
              0.8784313725490196,
              "rgb(246,188,153)"
             ],
             [
              0.9411764705882353,
              "rgb(247,212,187)"
             ],
             [
              1,
              "rgb(250,234,220)"
             ]
            ],
            "type": "histogram2dcontour"
           }
          ],
          "mesh3d": [
           {
            "colorbar": {
             "outlinewidth": 0,
             "tickcolor": "rgb(36,36,36)",
             "ticklen": 8,
             "ticks": "outside",
             "tickwidth": 2
            },
            "type": "mesh3d"
           }
          ],
          "parcoords": [
           {
            "line": {
             "colorbar": {
              "outlinewidth": 0,
              "tickcolor": "rgb(36,36,36)",
              "ticklen": 8,
              "ticks": "outside",
              "tickwidth": 2
             }
            },
            "type": "parcoords"
           }
          ],
          "pie": [
           {
            "automargin": true,
            "type": "pie"
           }
          ],
          "scatter": [
           {
            "fillpattern": {
             "fillmode": "overlay",
             "size": 10,
             "solidity": 0.2
            },
            "type": "scatter"
           }
          ],
          "scatter3d": [
           {
            "line": {
             "colorbar": {
              "outlinewidth": 0,
              "tickcolor": "rgb(36,36,36)",
              "ticklen": 8,
              "ticks": "outside",
              "tickwidth": 2
             }
            },
            "marker": {
             "colorbar": {
              "outlinewidth": 0,
              "tickcolor": "rgb(36,36,36)",
              "ticklen": 8,
              "ticks": "outside",
              "tickwidth": 2
             }
            },
            "type": "scatter3d"
           }
          ],
          "scattercarpet": [
           {
            "marker": {
             "colorbar": {
              "outlinewidth": 0,
              "tickcolor": "rgb(36,36,36)",
              "ticklen": 8,
              "ticks": "outside",
              "tickwidth": 2
             }
            },
            "type": "scattercarpet"
           }
          ],
          "scattergeo": [
           {
            "marker": {
             "colorbar": {
              "outlinewidth": 0,
              "tickcolor": "rgb(36,36,36)",
              "ticklen": 8,
              "ticks": "outside",
              "tickwidth": 2
             }
            },
            "type": "scattergeo"
           }
          ],
          "scattergl": [
           {
            "marker": {
             "colorbar": {
              "outlinewidth": 0,
              "tickcolor": "rgb(36,36,36)",
              "ticklen": 8,
              "ticks": "outside",
              "tickwidth": 2
             }
            },
            "type": "scattergl"
           }
          ],
          "scattermapbox": [
           {
            "marker": {
             "colorbar": {
              "outlinewidth": 0,
              "tickcolor": "rgb(36,36,36)",
              "ticklen": 8,
              "ticks": "outside",
              "tickwidth": 2
             }
            },
            "type": "scattermapbox"
           }
          ],
          "scatterpolar": [
           {
            "marker": {
             "colorbar": {
              "outlinewidth": 0,
              "tickcolor": "rgb(36,36,36)",
              "ticklen": 8,
              "ticks": "outside",
              "tickwidth": 2
             }
            },
            "type": "scatterpolar"
           }
          ],
          "scatterpolargl": [
           {
            "marker": {
             "colorbar": {
              "outlinewidth": 0,
              "tickcolor": "rgb(36,36,36)",
              "ticklen": 8,
              "ticks": "outside",
              "tickwidth": 2
             }
            },
            "type": "scatterpolargl"
           }
          ],
          "scatterternary": [
           {
            "marker": {
             "colorbar": {
              "outlinewidth": 0,
              "tickcolor": "rgb(36,36,36)",
              "ticklen": 8,
              "ticks": "outside",
              "tickwidth": 2
             }
            },
            "type": "scatterternary"
           }
          ],
          "surface": [
           {
            "colorbar": {
             "outlinewidth": 0,
             "tickcolor": "rgb(36,36,36)",
             "ticklen": 8,
             "ticks": "outside",
             "tickwidth": 2
            },
            "colorscale": [
             [
              0,
              "rgb(2,4,25)"
             ],
             [
              0.06274509803921569,
              "rgb(24,15,41)"
             ],
             [
              0.12549019607843137,
              "rgb(47,23,57)"
             ],
             [
              0.18823529411764706,
              "rgb(71,28,72)"
             ],
             [
              0.25098039215686274,
              "rgb(97,30,82)"
             ],
             [
              0.3137254901960784,
              "rgb(123,30,89)"
             ],
             [
              0.3764705882352941,
              "rgb(150,27,91)"
             ],
             [
              0.4392156862745098,
              "rgb(177,22,88)"
             ],
             [
              0.5019607843137255,
              "rgb(203,26,79)"
             ],
             [
              0.5647058823529412,
              "rgb(223,47,67)"
             ],
             [
              0.6274509803921569,
              "rgb(236,76,61)"
             ],
             [
              0.6901960784313725,
              "rgb(242,107,73)"
             ],
             [
              0.7529411764705882,
              "rgb(244,135,95)"
             ],
             [
              0.8156862745098039,
              "rgb(245,162,122)"
             ],
             [
              0.8784313725490196,
              "rgb(246,188,153)"
             ],
             [
              0.9411764705882353,
              "rgb(247,212,187)"
             ],
             [
              1,
              "rgb(250,234,220)"
             ]
            ],
            "type": "surface"
           }
          ],
          "table": [
           {
            "cells": {
             "fill": {
              "color": "rgb(231,231,240)"
             },
             "line": {
              "color": "white"
             }
            },
            "header": {
             "fill": {
              "color": "rgb(183,183,191)"
             },
             "line": {
              "color": "white"
             }
            },
            "type": "table"
           }
          ]
         },
         "layout": {
          "annotationdefaults": {
           "arrowcolor": "rgb(67,103,167)"
          },
          "autotypenumbers": "strict",
          "coloraxis": {
           "colorbar": {
            "outlinewidth": 0,
            "tickcolor": "rgb(36,36,36)",
            "ticklen": 8,
            "ticks": "outside",
            "tickwidth": 2
           }
          },
          "colorscale": {
           "sequential": [
            [
             0,
             "rgb(2,4,25)"
            ],
            [
             0.06274509803921569,
             "rgb(24,15,41)"
            ],
            [
             0.12549019607843137,
             "rgb(47,23,57)"
            ],
            [
             0.18823529411764706,
             "rgb(71,28,72)"
            ],
            [
             0.25098039215686274,
             "rgb(97,30,82)"
            ],
            [
             0.3137254901960784,
             "rgb(123,30,89)"
            ],
            [
             0.3764705882352941,
             "rgb(150,27,91)"
            ],
            [
             0.4392156862745098,
             "rgb(177,22,88)"
            ],
            [
             0.5019607843137255,
             "rgb(203,26,79)"
            ],
            [
             0.5647058823529412,
             "rgb(223,47,67)"
            ],
            [
             0.6274509803921569,
             "rgb(236,76,61)"
            ],
            [
             0.6901960784313725,
             "rgb(242,107,73)"
            ],
            [
             0.7529411764705882,
             "rgb(244,135,95)"
            ],
            [
             0.8156862745098039,
             "rgb(245,162,122)"
            ],
            [
             0.8784313725490196,
             "rgb(246,188,153)"
            ],
            [
             0.9411764705882353,
             "rgb(247,212,187)"
            ],
            [
             1,
             "rgb(250,234,220)"
            ]
           ],
           "sequentialminus": [
            [
             0,
             "rgb(2,4,25)"
            ],
            [
             0.06274509803921569,
             "rgb(24,15,41)"
            ],
            [
             0.12549019607843137,
             "rgb(47,23,57)"
            ],
            [
             0.18823529411764706,
             "rgb(71,28,72)"
            ],
            [
             0.25098039215686274,
             "rgb(97,30,82)"
            ],
            [
             0.3137254901960784,
             "rgb(123,30,89)"
            ],
            [
             0.3764705882352941,
             "rgb(150,27,91)"
            ],
            [
             0.4392156862745098,
             "rgb(177,22,88)"
            ],
            [
             0.5019607843137255,
             "rgb(203,26,79)"
            ],
            [
             0.5647058823529412,
             "rgb(223,47,67)"
            ],
            [
             0.6274509803921569,
             "rgb(236,76,61)"
            ],
            [
             0.6901960784313725,
             "rgb(242,107,73)"
            ],
            [
             0.7529411764705882,
             "rgb(244,135,95)"
            ],
            [
             0.8156862745098039,
             "rgb(245,162,122)"
            ],
            [
             0.8784313725490196,
             "rgb(246,188,153)"
            ],
            [
             0.9411764705882353,
             "rgb(247,212,187)"
            ],
            [
             1,
             "rgb(250,234,220)"
            ]
           ]
          },
          "colorway": [
           "rgb(76,114,176)",
           "rgb(221,132,82)",
           "rgb(85,168,104)",
           "rgb(196,78,82)",
           "rgb(129,114,179)",
           "rgb(147,120,96)",
           "rgb(218,139,195)",
           "rgb(140,140,140)",
           "rgb(204,185,116)",
           "rgb(100,181,205)"
          ],
          "font": {
           "color": "rgb(36,36,36)"
          },
          "geo": {
           "bgcolor": "white",
           "lakecolor": "white",
           "landcolor": "rgb(234,234,242)",
           "showlakes": true,
           "showland": true,
           "subunitcolor": "white"
          },
          "hoverlabel": {
           "align": "left"
          },
          "hovermode": "closest",
          "paper_bgcolor": "white",
          "plot_bgcolor": "rgb(234,234,242)",
          "polar": {
           "angularaxis": {
            "gridcolor": "white",
            "linecolor": "white",
            "showgrid": true,
            "ticks": ""
           },
           "bgcolor": "rgb(234,234,242)",
           "radialaxis": {
            "gridcolor": "white",
            "linecolor": "white",
            "showgrid": true,
            "ticks": ""
           }
          },
          "scene": {
           "xaxis": {
            "backgroundcolor": "rgb(234,234,242)",
            "gridcolor": "white",
            "gridwidth": 2,
            "linecolor": "white",
            "showbackground": true,
            "showgrid": true,
            "ticks": "",
            "zerolinecolor": "white"
           },
           "yaxis": {
            "backgroundcolor": "rgb(234,234,242)",
            "gridcolor": "white",
            "gridwidth": 2,
            "linecolor": "white",
            "showbackground": true,
            "showgrid": true,
            "ticks": "",
            "zerolinecolor": "white"
           },
           "zaxis": {
            "backgroundcolor": "rgb(234,234,242)",
            "gridcolor": "white",
            "gridwidth": 2,
            "linecolor": "white",
            "showbackground": true,
            "showgrid": true,
            "ticks": "",
            "zerolinecolor": "white"
           }
          },
          "shapedefaults": {
           "fillcolor": "rgb(67,103,167)",
           "line": {
            "width": 0
           },
           "opacity": 0.5
          },
          "ternary": {
           "aaxis": {
            "gridcolor": "white",
            "linecolor": "white",
            "showgrid": true,
            "ticks": ""
           },
           "baxis": {
            "gridcolor": "white",
            "linecolor": "white",
            "showgrid": true,
            "ticks": ""
           },
           "bgcolor": "rgb(234,234,242)",
           "caxis": {
            "gridcolor": "white",
            "linecolor": "white",
            "showgrid": true,
            "ticks": ""
           }
          },
          "xaxis": {
           "automargin": true,
           "gridcolor": "white",
           "linecolor": "white",
           "showgrid": true,
           "ticks": "",
           "title": {
            "standoff": 15
           },
           "zerolinecolor": "white"
          },
          "yaxis": {
           "automargin": true,
           "gridcolor": "white",
           "linecolor": "white",
           "showgrid": true,
           "ticks": "",
           "title": {
            "standoff": 15
           },
           "zerolinecolor": "white"
          }
         }
        },
        "title": {
         "text": "Sorted by: pst_flow, ascending: False, head: 20"
        },
        "xaxis": {
         "anchor": "y",
         "domain": [
          0,
          1
         ],
         "title": {
          "text": "Flow decomposition value"
         }
        },
        "yaxis": {
         "anchor": "x",
         "domain": [
          0,
          1
         ],
         "title": {
          "text": "xnec_id"
         }
        }
       }
      }
     },
     "metadata": {},
     "output_type": "display_data"
    }
   ],
   "source": [
    "flow_decomposition_bar_chart('pst_flow')"
   ]
  },
  {
   "cell_type": "code",
   "execution_count": 14,
   "metadata": {},
   "outputs": [
    {
     "data": {
      "application/vnd.plotly.v1+json": {
       "config": {
        "plotlyServerURL": "https://plot.ly"
       },
       "data": [
        {
         "alignmentgroup": "True",
         "hovertemplate": "Decomposition part:=commercial_flow<br>Flow decomposition value=%{x}<br>xnec_id=%{y}<extra></extra>",
         "legendgroup": "commercial_flow",
         "marker": {
          "color": "#0DF9FF",
          "pattern": {
           "shape": ""
          }
         },
         "name": "commercial_flow",
         "offsetgroup": "commercial_flow",
         "orientation": "h",
         "showlegend": true,
         "textposition": "auto",
         "texttemplate": "%{x:.0f}",
         "type": "bar",
         "x": [
          null,
          null,
          null,
          null,
          null,
          null,
          null,
          null,
          null,
          null,
          null,
          null,
          null,
          null,
          null,
          null,
          null,
          null,
          null,
          null
         ],
         "xaxis": "x",
         "y": [
          "L105-110-1_InitialState",
          "L42-46-1_InitialState",
          "L43-44-1_InitialState",
          "L44-47-1_InitialState",
          "L44-54-1_InitialState",
          "L45-60-1_InitialState",
          "L45-74-1_InitialState",
          "L46-81-1_InitialState",
          "L47-113-1_InitialState",
          "L47-73-1_InitialState",
          "L54-55-1_InitialState",
          "L60-62-1_InitialState",
          "L4-16-1_InitialState",
          "L62-144-1_InitialState",
          "L7-12-1_InitialState",
          "L7-131-1_InitialState",
          "L71-73-1_InitialState",
          "L73-76-1_InitialState",
          "L73-79-1_InitialState",
          "L74-88-1_InitialState"
         ],
         "yaxis": "y"
        },
        {
         "alignmentgroup": "True",
         "hovertemplate": "Decomposition part:=internal_flow<br>Flow decomposition value=%{x}<br>xnec_id=%{y}<extra></extra>",
         "legendgroup": "internal_flow",
         "marker": {
          "color": "#AF0038",
          "pattern": {
           "shape": ""
          }
         },
         "name": "internal_flow",
         "offsetgroup": "internal_flow",
         "orientation": "h",
         "showlegend": true,
         "textposition": "auto",
         "texttemplate": "%{x:.0f}",
         "type": "bar",
         "x": [
          null,
          271.86024656186675,
          79.73364235097905,
          27.65175069346307,
          32.948102998738904,
          280.75497026296495,
          null,
          160.01732447372314,
          null,
          null,
          27.624946977836167,
          280.75497026296483,
          944.0179750476757,
          null,
          263.4265014530805,
          null,
          51.72778794355777,
          15.929808813209881,
          null,
          null
         ],
         "xaxis": "x",
         "y": [
          "L105-110-1_InitialState",
          "L42-46-1_InitialState",
          "L43-44-1_InitialState",
          "L44-47-1_InitialState",
          "L44-54-1_InitialState",
          "L45-60-1_InitialState",
          "L45-74-1_InitialState",
          "L46-81-1_InitialState",
          "L47-113-1_InitialState",
          "L47-73-1_InitialState",
          "L54-55-1_InitialState",
          "L60-62-1_InitialState",
          "L4-16-1_InitialState",
          "L62-144-1_InitialState",
          "L7-12-1_InitialState",
          "L7-131-1_InitialState",
          "L71-73-1_InitialState",
          "L73-76-1_InitialState",
          "L73-79-1_InitialState",
          "L74-88-1_InitialState"
         ],
         "yaxis": "y"
        },
        {
         "alignmentgroup": "True",
         "hovertemplate": "Decomposition part:=loop_flow_from_bg<br>Flow decomposition value=%{x}<br>xnec_id=%{y}<extra></extra>",
         "legendgroup": "loop_flow_from_bg",
         "marker": {
          "color": "#FD3216",
          "pattern": {
           "shape": ""
          }
         },
         "name": "loop_flow_from_bg",
         "offsetgroup": "loop_flow_from_bg",
         "orientation": "h",
         "showlegend": true,
         "textposition": "auto",
         "texttemplate": "%{x:.0f}",
         "type": "bar",
         "x": [
          7.247561681199139,
          165.55615382962998,
          -31.985357305463506,
          46.27272591048067,
          -23.801529035332866,
          61.75047617152576,
          145.3044351945386,
          98.72412545613156,
          -12.160274069131109,
          58.43299997961181,
          21.09066040117741,
          61.750476171525804,
          null,
          null,
          null,
          null,
          null,
          null,
          62.071303698271294,
          76.34885788434603
         ],
         "xaxis": "x",
         "y": [
          "L105-110-1_InitialState",
          "L42-46-1_InitialState",
          "L43-44-1_InitialState",
          "L44-47-1_InitialState",
          "L44-54-1_InitialState",
          "L45-60-1_InitialState",
          "L45-74-1_InitialState",
          "L46-81-1_InitialState",
          "L47-113-1_InitialState",
          "L47-73-1_InitialState",
          "L54-55-1_InitialState",
          "L60-62-1_InitialState",
          "L4-16-1_InitialState",
          "L62-144-1_InitialState",
          "L7-12-1_InitialState",
          "L7-131-1_InitialState",
          "L71-73-1_InitialState",
          "L73-76-1_InitialState",
          "L73-79-1_InitialState",
          "L74-88-1_InitialState"
         ],
         "yaxis": "y"
        },
        {
         "alignmentgroup": "True",
         "hovertemplate": "Decomposition part:=loop_flow_from_cz<br>Flow decomposition value=%{x}<br>xnec_id=%{y}<extra></extra>",
         "legendgroup": "loop_flow_from_cz",
         "marker": {
          "color": "#00A08B",
          "pattern": {
           "shape": ""
          }
         },
         "name": "loop_flow_from_cz",
         "offsetgroup": "loop_flow_from_cz",
         "orientation": "h",
         "showlegend": true,
         "textposition": "auto",
         "texttemplate": "%{x:.0f}",
         "type": "bar",
         "x": [
          null,
          null,
          null,
          null,
          null,
          null,
          null,
          null,
          null,
          null,
          null,
          null,
          null,
          null,
          null,
          null,
          null,
          null,
          -19.17510346228602,
          null
         ],
         "xaxis": "x",
         "y": [
          "L105-110-1_InitialState",
          "L42-46-1_InitialState",
          "L43-44-1_InitialState",
          "L44-47-1_InitialState",
          "L44-54-1_InitialState",
          "L45-60-1_InitialState",
          "L45-74-1_InitialState",
          "L46-81-1_InitialState",
          "L47-113-1_InitialState",
          "L47-73-1_InitialState",
          "L54-55-1_InitialState",
          "L60-62-1_InitialState",
          "L4-16-1_InitialState",
          "L62-144-1_InitialState",
          "L7-12-1_InitialState",
          "L7-131-1_InitialState",
          "L71-73-1_InitialState",
          "L73-76-1_InitialState",
          "L73-79-1_InitialState",
          "L74-88-1_InitialState"
         ],
         "yaxis": "y"
        },
        {
         "alignmentgroup": "True",
         "hovertemplate": "Decomposition part:=loop_flow_from_dk<br>Flow decomposition value=%{x}<br>xnec_id=%{y}<extra></extra>",
         "legendgroup": "loop_flow_from_dk",
         "marker": {
          "color": "#6C4516",
          "pattern": {
           "shape": ""
          }
         },
         "name": "loop_flow_from_dk",
         "offsetgroup": "loop_flow_from_dk",
         "orientation": "h",
         "showlegend": true,
         "textposition": "auto",
         "texttemplate": "%{x:.0f}",
         "type": "bar",
         "x": [
          7.489591195467309,
          723.7347444719029,
          null,
          69.50952426767392,
          -6.764005605092088,
          250.09500082857153,
          281.28818368668374,
          584.7135250682505,
          null,
          71.12881184757269,
          null,
          250.09500082857153,
          611.125304240149,
          468.80963577548334,
          352.4785971925965,
          660.766376251145,
          49.94421033052831,
          59.7014028714065,
          -90.03766807431802,
          -152.73371425800343
         ],
         "xaxis": "x",
         "y": [
          "L105-110-1_InitialState",
          "L42-46-1_InitialState",
          "L43-44-1_InitialState",
          "L44-47-1_InitialState",
          "L44-54-1_InitialState",
          "L45-60-1_InitialState",
          "L45-74-1_InitialState",
          "L46-81-1_InitialState",
          "L47-113-1_InitialState",
          "L47-73-1_InitialState",
          "L54-55-1_InitialState",
          "L60-62-1_InitialState",
          "L4-16-1_InitialState",
          "L62-144-1_InitialState",
          "L7-12-1_InitialState",
          "L7-131-1_InitialState",
          "L71-73-1_InitialState",
          "L73-76-1_InitialState",
          "L73-79-1_InitialState",
          "L74-88-1_InitialState"
         ],
         "yaxis": "y"
        },
        {
         "alignmentgroup": "True",
         "hovertemplate": "Decomposition part:=loop_flow_from_ee<br>Flow decomposition value=%{x}<br>xnec_id=%{y}<extra></extra>",
         "legendgroup": "loop_flow_from_ee",
         "marker": {
          "color": "#511CFB",
          "pattern": {
           "shape": ""
          }
         },
         "name": "loop_flow_from_ee",
         "offsetgroup": "loop_flow_from_ee",
         "orientation": "h",
         "showlegend": true,
         "textposition": "auto",
         "texttemplate": "%{x:.0f}",
         "type": "bar",
         "x": [
          null,
          null,
          -10.948623012047413,
          null,
          -8.59656787890701,
          null,
          null,
          null,
          null,
          null,
          8.00559328034249,
          null,
          null,
          null,
          null,
          null,
          null,
          10.275984163186054,
          -18.58183621367655,
          null
         ],
         "xaxis": "x",
         "y": [
          "L105-110-1_InitialState",
          "L42-46-1_InitialState",
          "L43-44-1_InitialState",
          "L44-47-1_InitialState",
          "L44-54-1_InitialState",
          "L45-60-1_InitialState",
          "L45-74-1_InitialState",
          "L46-81-1_InitialState",
          "L47-113-1_InitialState",
          "L47-73-1_InitialState",
          "L54-55-1_InitialState",
          "L60-62-1_InitialState",
          "L4-16-1_InitialState",
          "L62-144-1_InitialState",
          "L7-12-1_InitialState",
          "L7-131-1_InitialState",
          "L71-73-1_InitialState",
          "L73-76-1_InitialState",
          "L73-79-1_InitialState",
          "L74-88-1_InitialState"
         ],
         "yaxis": "y"
        },
        {
         "alignmentgroup": "True",
         "hovertemplate": "Decomposition part:=loop_flow_from_fr<br>Flow decomposition value=%{x}<br>xnec_id=%{y}<extra></extra>",
         "legendgroup": "loop_flow_from_fr",
         "marker": {
          "color": "#F6F926",
          "pattern": {
           "shape": ""
          }
         },
         "name": "loop_flow_from_fr",
         "offsetgroup": "loop_flow_from_fr",
         "orientation": "h",
         "showlegend": true,
         "textposition": "auto",
         "texttemplate": "%{x:.0f}",
         "type": "bar",
         "x": [
          -5.3312504619575,
          -199.0766669143227,
          18.062774280209087,
          -33.4275104429128,
          24.1568292142621,
          -189.59640652211755,
          -136.2323909876543,
          -258.0781950014783,
          4.827841638511305,
          -38.255352081424235,
          -30.66266765910981,
          -189.59640652211738,
          -187.17695650337407,
          -245.02122435302493,
          null,
          -128.37351026828318,
          -9.082872626776883,
          -26.991071560350715,
          38.44106209985233,
          99.97273678209756
         ],
         "xaxis": "x",
         "y": [
          "L105-110-1_InitialState",
          "L42-46-1_InitialState",
          "L43-44-1_InitialState",
          "L44-47-1_InitialState",
          "L44-54-1_InitialState",
          "L45-60-1_InitialState",
          "L45-74-1_InitialState",
          "L46-81-1_InitialState",
          "L47-113-1_InitialState",
          "L47-73-1_InitialState",
          "L54-55-1_InitialState",
          "L60-62-1_InitialState",
          "L4-16-1_InitialState",
          "L62-144-1_InitialState",
          "L7-12-1_InitialState",
          "L7-131-1_InitialState",
          "L71-73-1_InitialState",
          "L73-76-1_InitialState",
          "L73-79-1_InitialState",
          "L74-88-1_InitialState"
         ],
         "yaxis": "y"
        },
        {
         "alignmentgroup": "True",
         "hovertemplate": "Decomposition part:=loop_flow_from_hu<br>Flow decomposition value=%{x}<br>xnec_id=%{y}<extra></extra>",
         "legendgroup": "loop_flow_from_hu",
         "marker": {
          "color": "#C9FBE5",
          "pattern": {
           "shape": ""
          }
         },
         "name": "loop_flow_from_hu",
         "offsetgroup": "loop_flow_from_hu",
         "orientation": "h",
         "showlegend": true,
         "textposition": "auto",
         "texttemplate": "%{x:.0f}",
         "type": "bar",
         "x": [
          -8.512478338983115,
          -635.955291591542,
          26.749610938502673,
          -62.76368591000579,
          14.800788115559707,
          -244.02568210389705,
          -266.464042134041,
          -541.1501753176985,
          9.837957700750119,
          -72.60164361075633,
          -8.705200741763003,
          -244.02568210389688,
          -899.2953251872486,
          -448.1985868371602,
          -366.88605895317033,
          -807.3350495431577,
          -47.428773991279314,
          -57.31466881874987,
          85.45014631854812,
          148.8720966162192
         ],
         "xaxis": "x",
         "y": [
          "L105-110-1_InitialState",
          "L42-46-1_InitialState",
          "L43-44-1_InitialState",
          "L44-47-1_InitialState",
          "L44-54-1_InitialState",
          "L45-60-1_InitialState",
          "L45-74-1_InitialState",
          "L46-81-1_InitialState",
          "L47-113-1_InitialState",
          "L47-73-1_InitialState",
          "L54-55-1_InitialState",
          "L60-62-1_InitialState",
          "L4-16-1_InitialState",
          "L62-144-1_InitialState",
          "L7-12-1_InitialState",
          "L7-131-1_InitialState",
          "L71-73-1_InitialState",
          "L73-76-1_InitialState",
          "L73-79-1_InitialState",
          "L74-88-1_InitialState"
         ],
         "yaxis": "y"
        },
        {
         "alignmentgroup": "True",
         "hovertemplate": "Decomposition part:=loop_flow_from_ie<br>Flow decomposition value=%{x}<br>xnec_id=%{y}<extra></extra>",
         "legendgroup": "loop_flow_from_ie",
         "marker": {
          "color": "#FC0080",
          "pattern": {
           "shape": ""
          }
         },
         "name": "loop_flow_from_ie",
         "offsetgroup": "loop_flow_from_ie",
         "orientation": "h",
         "showlegend": true,
         "textposition": "auto",
         "texttemplate": "%{x:.0f}",
         "type": "bar",
         "x": [
          null,
          null,
          null,
          null,
          null,
          null,
          null,
          null,
          null,
          null,
          null,
          null,
          null,
          null,
          null,
          null,
          null,
          null,
          null,
          null
         ],
         "xaxis": "x",
         "y": [
          "L105-110-1_InitialState",
          "L42-46-1_InitialState",
          "L43-44-1_InitialState",
          "L44-47-1_InitialState",
          "L44-54-1_InitialState",
          "L45-60-1_InitialState",
          "L45-74-1_InitialState",
          "L46-81-1_InitialState",
          "L47-113-1_InitialState",
          "L47-73-1_InitialState",
          "L54-55-1_InitialState",
          "L60-62-1_InitialState",
          "L4-16-1_InitialState",
          "L62-144-1_InitialState",
          "L7-12-1_InitialState",
          "L7-131-1_InitialState",
          "L71-73-1_InitialState",
          "L73-76-1_InitialState",
          "L73-79-1_InitialState",
          "L74-88-1_InitialState"
         ],
         "yaxis": "y"
        },
        {
         "alignmentgroup": "True",
         "hovertemplate": "Decomposition part:=loop_flow_from_lt<br>Flow decomposition value=%{x}<br>xnec_id=%{y}<extra></extra>",
         "legendgroup": "loop_flow_from_lt",
         "marker": {
          "color": "#FB0D0D",
          "pattern": {
           "shape": ""
          }
         },
         "name": "loop_flow_from_lt",
         "offsetgroup": "loop_flow_from_lt",
         "orientation": "h",
         "showlegend": true,
         "textposition": "auto",
         "texttemplate": "%{x:.0f}",
         "type": "bar",
         "x": [
          10.283987408993626,
          null,
          null,
          null,
          null,
          null,
          78.00236556970619,
          null,
          -10.487449131343109,
          -19.860800175193663,
          null,
          null,
          null,
          235.9631028959304,
          null,
          156.86329136218598,
          13.559514983535705,
          10.187947877380132,
          -20.860962865395287,
          null
         ],
         "xaxis": "x",
         "y": [
          "L105-110-1_InitialState",
          "L42-46-1_InitialState",
          "L43-44-1_InitialState",
          "L44-47-1_InitialState",
          "L44-54-1_InitialState",
          "L45-60-1_InitialState",
          "L45-74-1_InitialState",
          "L46-81-1_InitialState",
          "L47-113-1_InitialState",
          "L47-73-1_InitialState",
          "L54-55-1_InitialState",
          "L60-62-1_InitialState",
          "L4-16-1_InitialState",
          "L62-144-1_InitialState",
          "L7-12-1_InitialState",
          "L7-131-1_InitialState",
          "L71-73-1_InitialState",
          "L73-76-1_InitialState",
          "L73-79-1_InitialState",
          "L74-88-1_InitialState"
         ],
         "yaxis": "y"
        },
        {
         "alignmentgroup": "True",
         "hovertemplate": "Decomposition part:=loop_flow_from_lu<br>Flow decomposition value=%{x}<br>xnec_id=%{y}<extra></extra>",
         "legendgroup": "loop_flow_from_lu",
         "marker": {
          "color": "#D626FF",
          "pattern": {
           "shape": ""
          }
         },
         "name": "loop_flow_from_lu",
         "offsetgroup": "loop_flow_from_lu",
         "orientation": "h",
         "showlegend": true,
         "textposition": "auto",
         "texttemplate": "%{x:.0f}",
         "type": "bar",
         "x": [
          27.679895929052062,
          133.77967824623622,
          -9.61297256904022,
          41.25245362293074,
          -13.765819864063038,
          59.96621902803688,
          54.72561348437483,
          126.93517891148389,
          44.6519669428388,
          null,
          17.91041668201302,
          59.96621902803672,
          null,
          null,
          null,
          null,
          null,
          null,
          null,
          -44.03998811010893
         ],
         "xaxis": "x",
         "y": [
          "L105-110-1_InitialState",
          "L42-46-1_InitialState",
          "L43-44-1_InitialState",
          "L44-47-1_InitialState",
          "L44-54-1_InitialState",
          "L45-60-1_InitialState",
          "L45-74-1_InitialState",
          "L46-81-1_InitialState",
          "L47-113-1_InitialState",
          "L47-73-1_InitialState",
          "L54-55-1_InitialState",
          "L60-62-1_InitialState",
          "L4-16-1_InitialState",
          "L62-144-1_InitialState",
          "L7-12-1_InitialState",
          "L7-131-1_InitialState",
          "L71-73-1_InitialState",
          "L73-76-1_InitialState",
          "L73-79-1_InitialState",
          "L74-88-1_InitialState"
         ],
         "yaxis": "y"
        },
        {
         "alignmentgroup": "True",
         "hovertemplate": "Decomposition part:=pst_flow<br>Flow decomposition value=%{x}<br>xnec_id=%{y}<extra></extra>",
         "legendgroup": "pst_flow",
         "marker": {
          "color": "#DA16FF",
          "pattern": {
           "shape": ""
          }
         },
         "name": "pst_flow",
         "offsetgroup": "pst_flow",
         "orientation": "h",
         "showlegend": true,
         "textposition": "auto",
         "texttemplate": "%{x:.0f}",
         "type": "bar",
         "x": [
          null,
          null,
          null,
          null,
          null,
          null,
          null,
          null,
          null,
          null,
          null,
          null,
          null,
          null,
          null,
          null,
          null,
          null,
          null,
          null
         ],
         "xaxis": "x",
         "y": [
          "L105-110-1_InitialState",
          "L42-46-1_InitialState",
          "L43-44-1_InitialState",
          "L44-47-1_InitialState",
          "L44-54-1_InitialState",
          "L45-60-1_InitialState",
          "L45-74-1_InitialState",
          "L46-81-1_InitialState",
          "L47-113-1_InitialState",
          "L47-73-1_InitialState",
          "L54-55-1_InitialState",
          "L60-62-1_InitialState",
          "L4-16-1_InitialState",
          "L62-144-1_InitialState",
          "L7-12-1_InitialState",
          "L7-131-1_InitialState",
          "L71-73-1_InitialState",
          "L73-76-1_InitialState",
          "L73-79-1_InitialState",
          "L74-88-1_InitialState"
         ],
         "yaxis": "y"
        },
        {
         "alignmentgroup": "True",
         "hovertemplate": "Decomposition part:=masked_flows_positive<br>Flow decomposition value=%{x}<br>xnec_id=%{y}<extra></extra>",
         "legendgroup": "masked_flows_positive",
         "marker": {
          "color": "#86CE00",
          "pattern": {
           "shape": ""
          }
         },
         "name": "masked_flows_positive",
         "offsetgroup": "masked_flows_positive",
         "orientation": "h",
         "showlegend": true,
         "textposition": "auto",
         "texttemplate": "%{x:.0f}",
         "type": "bar",
         "x": [
          3.7758059969338698,
          92.93162058111555,
          0,
          15.014879878769989,
          0,
          31.36312709355119,
          53.092917711090585,
          85.36236234952548,
          0,
          18.850497389597702,
          8.236496189580919,
          31.363127093551185,
          309.85620116681935,
          134.44020663187607,
          14.130419695694924,
          124.6480545022489,
          1.5112857234629264,
          8.4380451994076,
          0,
          3.478651671070433
         ],
         "xaxis": "x",
         "y": [
          "L105-110-1_InitialState",
          "L42-46-1_InitialState",
          "L43-44-1_InitialState",
          "L44-47-1_InitialState",
          "L44-54-1_InitialState",
          "L45-60-1_InitialState",
          "L45-74-1_InitialState",
          "L46-81-1_InitialState",
          "L47-113-1_InitialState",
          "L47-73-1_InitialState",
          "L54-55-1_InitialState",
          "L60-62-1_InitialState",
          "L4-16-1_InitialState",
          "L62-144-1_InitialState",
          "L7-12-1_InitialState",
          "L7-131-1_InitialState",
          "L71-73-1_InitialState",
          "L73-76-1_InitialState",
          "L73-79-1_InitialState",
          "L74-88-1_InitialState"
         ],
         "yaxis": "y"
        },
        {
         "alignmentgroup": "True",
         "hovertemplate": "Decomposition part:=masked_flows_negative<br>Flow decomposition value=%{x}<br>xnec_id=%{y}<extra></extra>",
         "legendgroup": "masked_flows_negative",
         "marker": {
          "color": "#6A76FC",
          "pattern": {
           "shape": ""
          }
         },
         "name": "masked_flows_negative",
         "offsetgroup": "masked_flows_negative",
         "orientation": "h",
         "showlegend": true,
         "textposition": "auto",
         "texttemplate": "%{x:.0f}",
         "type": "bar",
         "x": [
          0,
          0,
          -12.367497704745634,
          0,
          -2.485726068248672,
          0,
          0,
          0,
          -5.454905090726046,
          -3.3995133199080767,
          0,
          0,
          0,
          0,
          -64.11208176107256,
          0,
          -2.4824122285540215,
          0,
          -5.148166173142438,
          -35.593309787709345
         ],
         "xaxis": "x",
         "y": [
          "L105-110-1_InitialState",
          "L42-46-1_InitialState",
          "L43-44-1_InitialState",
          "L44-47-1_InitialState",
          "L44-54-1_InitialState",
          "L45-60-1_InitialState",
          "L45-74-1_InitialState",
          "L46-81-1_InitialState",
          "L47-113-1_InitialState",
          "L47-73-1_InitialState",
          "L54-55-1_InitialState",
          "L60-62-1_InitialState",
          "L4-16-1_InitialState",
          "L62-144-1_InitialState",
          "L7-12-1_InitialState",
          "L7-131-1_InitialState",
          "L71-73-1_InitialState",
          "L73-76-1_InitialState",
          "L73-79-1_InitialState",
          "L74-88-1_InitialState"
         ],
         "yaxis": "y"
        },
        {
         "mode": "lines+markers",
         "name": "total_flow",
         "type": "scatter",
         "x": [
          42.63311341070539,
          552.8304851848867,
          59.63157697839402,
          103.51013802039984,
          16.492071876917038,
          250.3077047586357,
          209.71708252469864,
          256.5241459399377,
          31.215137990899954,
          14.295000029499874,
          43.5002451300772,
          250.3077047586358,
          778.5271987640211,
          145.99313411310465,
          199.0373776271291,
          6.569162304138885,
          57.748740134474495,
          20.227448545489576,
          32.158775327853434,
          96.30533079791155
         ],
         "y": [
          "L105-110-1_InitialState",
          "L42-46-1_InitialState",
          "L43-44-1_InitialState",
          "L44-47-1_InitialState",
          "L44-54-1_InitialState",
          "L45-60-1_InitialState",
          "L45-74-1_InitialState",
          "L46-81-1_InitialState",
          "L47-113-1_InitialState",
          "L47-73-1_InitialState",
          "L54-55-1_InitialState",
          "L60-62-1_InitialState",
          "L4-16-1_InitialState",
          "L62-144-1_InitialState",
          "L7-12-1_InitialState",
          "L7-131-1_InitialState",
          "L71-73-1_InitialState",
          "L73-76-1_InitialState",
          "L73-79-1_InitialState",
          "L74-88-1_InitialState"
         ]
        },
        {
         "mode": "lines+markers",
         "name": "total_loop_flow",
         "type": "scatter",
         "x": [
          42.63311341070539,
          280.97023862302,
          -20.10206537258501,
          75.85838732693676,
          -16.456031121821866,
          -30.44726550432923,
          209.71708252469864,
          96.50682146621449,
          31.215137990899954,
          14.295000029499874,
          15.875298152241024,
          -30.447265504328996,
          -165.49077628365436,
          145.99313411310465,
          -64.38912382595144,
          6.569162304138885,
          6.020952190916718,
          4.297639732279701,
          32.158775327853434,
          96.30533079791155
         ],
         "y": [
          "L105-110-1_InitialState",
          "L42-46-1_InitialState",
          "L43-44-1_InitialState",
          "L44-47-1_InitialState",
          "L44-54-1_InitialState",
          "L45-60-1_InitialState",
          "L45-74-1_InitialState",
          "L46-81-1_InitialState",
          "L47-113-1_InitialState",
          "L47-73-1_InitialState",
          "L54-55-1_InitialState",
          "L60-62-1_InitialState",
          "L4-16-1_InitialState",
          "L62-144-1_InitialState",
          "L7-12-1_InitialState",
          "L7-131-1_InitialState",
          "L71-73-1_InitialState",
          "L73-76-1_InitialState",
          "L73-79-1_InitialState",
          "L74-88-1_InitialState"
         ]
        }
       ],
       "layout": {
        "barmode": "relative",
        "height": 1000,
        "legend": {
         "title": {
          "text": "Decomposition part:"
         },
         "tracegroupgap": 0
        },
        "template": {
         "data": {
          "bar": [
           {
            "error_x": {
             "color": "rgb(36,36,36)"
            },
            "error_y": {
             "color": "rgb(36,36,36)"
            },
            "marker": {
             "line": {
              "color": "rgb(234,234,242)",
              "width": 0.5
             },
             "pattern": {
              "fillmode": "overlay",
              "size": 10,
              "solidity": 0.2
             }
            },
            "type": "bar"
           }
          ],
          "barpolar": [
           {
            "marker": {
             "line": {
              "color": "rgb(234,234,242)",
              "width": 0.5
             },
             "pattern": {
              "fillmode": "overlay",
              "size": 10,
              "solidity": 0.2
             }
            },
            "type": "barpolar"
           }
          ],
          "carpet": [
           {
            "aaxis": {
             "endlinecolor": "rgb(36,36,36)",
             "gridcolor": "white",
             "linecolor": "white",
             "minorgridcolor": "white",
             "startlinecolor": "rgb(36,36,36)"
            },
            "baxis": {
             "endlinecolor": "rgb(36,36,36)",
             "gridcolor": "white",
             "linecolor": "white",
             "minorgridcolor": "white",
             "startlinecolor": "rgb(36,36,36)"
            },
            "type": "carpet"
           }
          ],
          "choropleth": [
           {
            "colorbar": {
             "outlinewidth": 0,
             "tickcolor": "rgb(36,36,36)",
             "ticklen": 8,
             "ticks": "outside",
             "tickwidth": 2
            },
            "type": "choropleth"
           }
          ],
          "contour": [
           {
            "colorbar": {
             "outlinewidth": 0,
             "tickcolor": "rgb(36,36,36)",
             "ticklen": 8,
             "ticks": "outside",
             "tickwidth": 2
            },
            "colorscale": [
             [
              0,
              "rgb(2,4,25)"
             ],
             [
              0.06274509803921569,
              "rgb(24,15,41)"
             ],
             [
              0.12549019607843137,
              "rgb(47,23,57)"
             ],
             [
              0.18823529411764706,
              "rgb(71,28,72)"
             ],
             [
              0.25098039215686274,
              "rgb(97,30,82)"
             ],
             [
              0.3137254901960784,
              "rgb(123,30,89)"
             ],
             [
              0.3764705882352941,
              "rgb(150,27,91)"
             ],
             [
              0.4392156862745098,
              "rgb(177,22,88)"
             ],
             [
              0.5019607843137255,
              "rgb(203,26,79)"
             ],
             [
              0.5647058823529412,
              "rgb(223,47,67)"
             ],
             [
              0.6274509803921569,
              "rgb(236,76,61)"
             ],
             [
              0.6901960784313725,
              "rgb(242,107,73)"
             ],
             [
              0.7529411764705882,
              "rgb(244,135,95)"
             ],
             [
              0.8156862745098039,
              "rgb(245,162,122)"
             ],
             [
              0.8784313725490196,
              "rgb(246,188,153)"
             ],
             [
              0.9411764705882353,
              "rgb(247,212,187)"
             ],
             [
              1,
              "rgb(250,234,220)"
             ]
            ],
            "type": "contour"
           }
          ],
          "contourcarpet": [
           {
            "colorbar": {
             "outlinewidth": 0,
             "tickcolor": "rgb(36,36,36)",
             "ticklen": 8,
             "ticks": "outside",
             "tickwidth": 2
            },
            "type": "contourcarpet"
           }
          ],
          "heatmap": [
           {
            "colorbar": {
             "outlinewidth": 0,
             "tickcolor": "rgb(36,36,36)",
             "ticklen": 8,
             "ticks": "outside",
             "tickwidth": 2
            },
            "colorscale": [
             [
              0,
              "rgb(2,4,25)"
             ],
             [
              0.06274509803921569,
              "rgb(24,15,41)"
             ],
             [
              0.12549019607843137,
              "rgb(47,23,57)"
             ],
             [
              0.18823529411764706,
              "rgb(71,28,72)"
             ],
             [
              0.25098039215686274,
              "rgb(97,30,82)"
             ],
             [
              0.3137254901960784,
              "rgb(123,30,89)"
             ],
             [
              0.3764705882352941,
              "rgb(150,27,91)"
             ],
             [
              0.4392156862745098,
              "rgb(177,22,88)"
             ],
             [
              0.5019607843137255,
              "rgb(203,26,79)"
             ],
             [
              0.5647058823529412,
              "rgb(223,47,67)"
             ],
             [
              0.6274509803921569,
              "rgb(236,76,61)"
             ],
             [
              0.6901960784313725,
              "rgb(242,107,73)"
             ],
             [
              0.7529411764705882,
              "rgb(244,135,95)"
             ],
             [
              0.8156862745098039,
              "rgb(245,162,122)"
             ],
             [
              0.8784313725490196,
              "rgb(246,188,153)"
             ],
             [
              0.9411764705882353,
              "rgb(247,212,187)"
             ],
             [
              1,
              "rgb(250,234,220)"
             ]
            ],
            "type": "heatmap"
           }
          ],
          "heatmapgl": [
           {
            "colorbar": {
             "outlinewidth": 0,
             "tickcolor": "rgb(36,36,36)",
             "ticklen": 8,
             "ticks": "outside",
             "tickwidth": 2
            },
            "colorscale": [
             [
              0,
              "rgb(2,4,25)"
             ],
             [
              0.06274509803921569,
              "rgb(24,15,41)"
             ],
             [
              0.12549019607843137,
              "rgb(47,23,57)"
             ],
             [
              0.18823529411764706,
              "rgb(71,28,72)"
             ],
             [
              0.25098039215686274,
              "rgb(97,30,82)"
             ],
             [
              0.3137254901960784,
              "rgb(123,30,89)"
             ],
             [
              0.3764705882352941,
              "rgb(150,27,91)"
             ],
             [
              0.4392156862745098,
              "rgb(177,22,88)"
             ],
             [
              0.5019607843137255,
              "rgb(203,26,79)"
             ],
             [
              0.5647058823529412,
              "rgb(223,47,67)"
             ],
             [
              0.6274509803921569,
              "rgb(236,76,61)"
             ],
             [
              0.6901960784313725,
              "rgb(242,107,73)"
             ],
             [
              0.7529411764705882,
              "rgb(244,135,95)"
             ],
             [
              0.8156862745098039,
              "rgb(245,162,122)"
             ],
             [
              0.8784313725490196,
              "rgb(246,188,153)"
             ],
             [
              0.9411764705882353,
              "rgb(247,212,187)"
             ],
             [
              1,
              "rgb(250,234,220)"
             ]
            ],
            "type": "heatmapgl"
           }
          ],
          "histogram": [
           {
            "marker": {
             "pattern": {
              "fillmode": "overlay",
              "size": 10,
              "solidity": 0.2
             }
            },
            "type": "histogram"
           }
          ],
          "histogram2d": [
           {
            "colorbar": {
             "outlinewidth": 0,
             "tickcolor": "rgb(36,36,36)",
             "ticklen": 8,
             "ticks": "outside",
             "tickwidth": 2
            },
            "colorscale": [
             [
              0,
              "rgb(2,4,25)"
             ],
             [
              0.06274509803921569,
              "rgb(24,15,41)"
             ],
             [
              0.12549019607843137,
              "rgb(47,23,57)"
             ],
             [
              0.18823529411764706,
              "rgb(71,28,72)"
             ],
             [
              0.25098039215686274,
              "rgb(97,30,82)"
             ],
             [
              0.3137254901960784,
              "rgb(123,30,89)"
             ],
             [
              0.3764705882352941,
              "rgb(150,27,91)"
             ],
             [
              0.4392156862745098,
              "rgb(177,22,88)"
             ],
             [
              0.5019607843137255,
              "rgb(203,26,79)"
             ],
             [
              0.5647058823529412,
              "rgb(223,47,67)"
             ],
             [
              0.6274509803921569,
              "rgb(236,76,61)"
             ],
             [
              0.6901960784313725,
              "rgb(242,107,73)"
             ],
             [
              0.7529411764705882,
              "rgb(244,135,95)"
             ],
             [
              0.8156862745098039,
              "rgb(245,162,122)"
             ],
             [
              0.8784313725490196,
              "rgb(246,188,153)"
             ],
             [
              0.9411764705882353,
              "rgb(247,212,187)"
             ],
             [
              1,
              "rgb(250,234,220)"
             ]
            ],
            "type": "histogram2d"
           }
          ],
          "histogram2dcontour": [
           {
            "colorbar": {
             "outlinewidth": 0,
             "tickcolor": "rgb(36,36,36)",
             "ticklen": 8,
             "ticks": "outside",
             "tickwidth": 2
            },
            "colorscale": [
             [
              0,
              "rgb(2,4,25)"
             ],
             [
              0.06274509803921569,
              "rgb(24,15,41)"
             ],
             [
              0.12549019607843137,
              "rgb(47,23,57)"
             ],
             [
              0.18823529411764706,
              "rgb(71,28,72)"
             ],
             [
              0.25098039215686274,
              "rgb(97,30,82)"
             ],
             [
              0.3137254901960784,
              "rgb(123,30,89)"
             ],
             [
              0.3764705882352941,
              "rgb(150,27,91)"
             ],
             [
              0.4392156862745098,
              "rgb(177,22,88)"
             ],
             [
              0.5019607843137255,
              "rgb(203,26,79)"
             ],
             [
              0.5647058823529412,
              "rgb(223,47,67)"
             ],
             [
              0.6274509803921569,
              "rgb(236,76,61)"
             ],
             [
              0.6901960784313725,
              "rgb(242,107,73)"
             ],
             [
              0.7529411764705882,
              "rgb(244,135,95)"
             ],
             [
              0.8156862745098039,
              "rgb(245,162,122)"
             ],
             [
              0.8784313725490196,
              "rgb(246,188,153)"
             ],
             [
              0.9411764705882353,
              "rgb(247,212,187)"
             ],
             [
              1,
              "rgb(250,234,220)"
             ]
            ],
            "type": "histogram2dcontour"
           }
          ],
          "mesh3d": [
           {
            "colorbar": {
             "outlinewidth": 0,
             "tickcolor": "rgb(36,36,36)",
             "ticklen": 8,
             "ticks": "outside",
             "tickwidth": 2
            },
            "type": "mesh3d"
           }
          ],
          "parcoords": [
           {
            "line": {
             "colorbar": {
              "outlinewidth": 0,
              "tickcolor": "rgb(36,36,36)",
              "ticklen": 8,
              "ticks": "outside",
              "tickwidth": 2
             }
            },
            "type": "parcoords"
           }
          ],
          "pie": [
           {
            "automargin": true,
            "type": "pie"
           }
          ],
          "scatter": [
           {
            "fillpattern": {
             "fillmode": "overlay",
             "size": 10,
             "solidity": 0.2
            },
            "type": "scatter"
           }
          ],
          "scatter3d": [
           {
            "line": {
             "colorbar": {
              "outlinewidth": 0,
              "tickcolor": "rgb(36,36,36)",
              "ticklen": 8,
              "ticks": "outside",
              "tickwidth": 2
             }
            },
            "marker": {
             "colorbar": {
              "outlinewidth": 0,
              "tickcolor": "rgb(36,36,36)",
              "ticklen": 8,
              "ticks": "outside",
              "tickwidth": 2
             }
            },
            "type": "scatter3d"
           }
          ],
          "scattercarpet": [
           {
            "marker": {
             "colorbar": {
              "outlinewidth": 0,
              "tickcolor": "rgb(36,36,36)",
              "ticklen": 8,
              "ticks": "outside",
              "tickwidth": 2
             }
            },
            "type": "scattercarpet"
           }
          ],
          "scattergeo": [
           {
            "marker": {
             "colorbar": {
              "outlinewidth": 0,
              "tickcolor": "rgb(36,36,36)",
              "ticklen": 8,
              "ticks": "outside",
              "tickwidth": 2
             }
            },
            "type": "scattergeo"
           }
          ],
          "scattergl": [
           {
            "marker": {
             "colorbar": {
              "outlinewidth": 0,
              "tickcolor": "rgb(36,36,36)",
              "ticklen": 8,
              "ticks": "outside",
              "tickwidth": 2
             }
            },
            "type": "scattergl"
           }
          ],
          "scattermapbox": [
           {
            "marker": {
             "colorbar": {
              "outlinewidth": 0,
              "tickcolor": "rgb(36,36,36)",
              "ticklen": 8,
              "ticks": "outside",
              "tickwidth": 2
             }
            },
            "type": "scattermapbox"
           }
          ],
          "scatterpolar": [
           {
            "marker": {
             "colorbar": {
              "outlinewidth": 0,
              "tickcolor": "rgb(36,36,36)",
              "ticklen": 8,
              "ticks": "outside",
              "tickwidth": 2
             }
            },
            "type": "scatterpolar"
           }
          ],
          "scatterpolargl": [
           {
            "marker": {
             "colorbar": {
              "outlinewidth": 0,
              "tickcolor": "rgb(36,36,36)",
              "ticklen": 8,
              "ticks": "outside",
              "tickwidth": 2
             }
            },
            "type": "scatterpolargl"
           }
          ],
          "scatterternary": [
           {
            "marker": {
             "colorbar": {
              "outlinewidth": 0,
              "tickcolor": "rgb(36,36,36)",
              "ticklen": 8,
              "ticks": "outside",
              "tickwidth": 2
             }
            },
            "type": "scatterternary"
           }
          ],
          "surface": [
           {
            "colorbar": {
             "outlinewidth": 0,
             "tickcolor": "rgb(36,36,36)",
             "ticklen": 8,
             "ticks": "outside",
             "tickwidth": 2
            },
            "colorscale": [
             [
              0,
              "rgb(2,4,25)"
             ],
             [
              0.06274509803921569,
              "rgb(24,15,41)"
             ],
             [
              0.12549019607843137,
              "rgb(47,23,57)"
             ],
             [
              0.18823529411764706,
              "rgb(71,28,72)"
             ],
             [
              0.25098039215686274,
              "rgb(97,30,82)"
             ],
             [
              0.3137254901960784,
              "rgb(123,30,89)"
             ],
             [
              0.3764705882352941,
              "rgb(150,27,91)"
             ],
             [
              0.4392156862745098,
              "rgb(177,22,88)"
             ],
             [
              0.5019607843137255,
              "rgb(203,26,79)"
             ],
             [
              0.5647058823529412,
              "rgb(223,47,67)"
             ],
             [
              0.6274509803921569,
              "rgb(236,76,61)"
             ],
             [
              0.6901960784313725,
              "rgb(242,107,73)"
             ],
             [
              0.7529411764705882,
              "rgb(244,135,95)"
             ],
             [
              0.8156862745098039,
              "rgb(245,162,122)"
             ],
             [
              0.8784313725490196,
              "rgb(246,188,153)"
             ],
             [
              0.9411764705882353,
              "rgb(247,212,187)"
             ],
             [
              1,
              "rgb(250,234,220)"
             ]
            ],
            "type": "surface"
           }
          ],
          "table": [
           {
            "cells": {
             "fill": {
              "color": "rgb(231,231,240)"
             },
             "line": {
              "color": "white"
             }
            },
            "header": {
             "fill": {
              "color": "rgb(183,183,191)"
             },
             "line": {
              "color": "white"
             }
            },
            "type": "table"
           }
          ]
         },
         "layout": {
          "annotationdefaults": {
           "arrowcolor": "rgb(67,103,167)"
          },
          "autotypenumbers": "strict",
          "coloraxis": {
           "colorbar": {
            "outlinewidth": 0,
            "tickcolor": "rgb(36,36,36)",
            "ticklen": 8,
            "ticks": "outside",
            "tickwidth": 2
           }
          },
          "colorscale": {
           "sequential": [
            [
             0,
             "rgb(2,4,25)"
            ],
            [
             0.06274509803921569,
             "rgb(24,15,41)"
            ],
            [
             0.12549019607843137,
             "rgb(47,23,57)"
            ],
            [
             0.18823529411764706,
             "rgb(71,28,72)"
            ],
            [
             0.25098039215686274,
             "rgb(97,30,82)"
            ],
            [
             0.3137254901960784,
             "rgb(123,30,89)"
            ],
            [
             0.3764705882352941,
             "rgb(150,27,91)"
            ],
            [
             0.4392156862745098,
             "rgb(177,22,88)"
            ],
            [
             0.5019607843137255,
             "rgb(203,26,79)"
            ],
            [
             0.5647058823529412,
             "rgb(223,47,67)"
            ],
            [
             0.6274509803921569,
             "rgb(236,76,61)"
            ],
            [
             0.6901960784313725,
             "rgb(242,107,73)"
            ],
            [
             0.7529411764705882,
             "rgb(244,135,95)"
            ],
            [
             0.8156862745098039,
             "rgb(245,162,122)"
            ],
            [
             0.8784313725490196,
             "rgb(246,188,153)"
            ],
            [
             0.9411764705882353,
             "rgb(247,212,187)"
            ],
            [
             1,
             "rgb(250,234,220)"
            ]
           ],
           "sequentialminus": [
            [
             0,
             "rgb(2,4,25)"
            ],
            [
             0.06274509803921569,
             "rgb(24,15,41)"
            ],
            [
             0.12549019607843137,
             "rgb(47,23,57)"
            ],
            [
             0.18823529411764706,
             "rgb(71,28,72)"
            ],
            [
             0.25098039215686274,
             "rgb(97,30,82)"
            ],
            [
             0.3137254901960784,
             "rgb(123,30,89)"
            ],
            [
             0.3764705882352941,
             "rgb(150,27,91)"
            ],
            [
             0.4392156862745098,
             "rgb(177,22,88)"
            ],
            [
             0.5019607843137255,
             "rgb(203,26,79)"
            ],
            [
             0.5647058823529412,
             "rgb(223,47,67)"
            ],
            [
             0.6274509803921569,
             "rgb(236,76,61)"
            ],
            [
             0.6901960784313725,
             "rgb(242,107,73)"
            ],
            [
             0.7529411764705882,
             "rgb(244,135,95)"
            ],
            [
             0.8156862745098039,
             "rgb(245,162,122)"
            ],
            [
             0.8784313725490196,
             "rgb(246,188,153)"
            ],
            [
             0.9411764705882353,
             "rgb(247,212,187)"
            ],
            [
             1,
             "rgb(250,234,220)"
            ]
           ]
          },
          "colorway": [
           "rgb(76,114,176)",
           "rgb(221,132,82)",
           "rgb(85,168,104)",
           "rgb(196,78,82)",
           "rgb(129,114,179)",
           "rgb(147,120,96)",
           "rgb(218,139,195)",
           "rgb(140,140,140)",
           "rgb(204,185,116)",
           "rgb(100,181,205)"
          ],
          "font": {
           "color": "rgb(36,36,36)"
          },
          "geo": {
           "bgcolor": "white",
           "lakecolor": "white",
           "landcolor": "rgb(234,234,242)",
           "showlakes": true,
           "showland": true,
           "subunitcolor": "white"
          },
          "hoverlabel": {
           "align": "left"
          },
          "hovermode": "closest",
          "paper_bgcolor": "white",
          "plot_bgcolor": "rgb(234,234,242)",
          "polar": {
           "angularaxis": {
            "gridcolor": "white",
            "linecolor": "white",
            "showgrid": true,
            "ticks": ""
           },
           "bgcolor": "rgb(234,234,242)",
           "radialaxis": {
            "gridcolor": "white",
            "linecolor": "white",
            "showgrid": true,
            "ticks": ""
           }
          },
          "scene": {
           "xaxis": {
            "backgroundcolor": "rgb(234,234,242)",
            "gridcolor": "white",
            "gridwidth": 2,
            "linecolor": "white",
            "showbackground": true,
            "showgrid": true,
            "ticks": "",
            "zerolinecolor": "white"
           },
           "yaxis": {
            "backgroundcolor": "rgb(234,234,242)",
            "gridcolor": "white",
            "gridwidth": 2,
            "linecolor": "white",
            "showbackground": true,
            "showgrid": true,
            "ticks": "",
            "zerolinecolor": "white"
           },
           "zaxis": {
            "backgroundcolor": "rgb(234,234,242)",
            "gridcolor": "white",
            "gridwidth": 2,
            "linecolor": "white",
            "showbackground": true,
            "showgrid": true,
            "ticks": "",
            "zerolinecolor": "white"
           }
          },
          "shapedefaults": {
           "fillcolor": "rgb(67,103,167)",
           "line": {
            "width": 0
           },
           "opacity": 0.5
          },
          "ternary": {
           "aaxis": {
            "gridcolor": "white",
            "linecolor": "white",
            "showgrid": true,
            "ticks": ""
           },
           "baxis": {
            "gridcolor": "white",
            "linecolor": "white",
            "showgrid": true,
            "ticks": ""
           },
           "bgcolor": "rgb(234,234,242)",
           "caxis": {
            "gridcolor": "white",
            "linecolor": "white",
            "showgrid": true,
            "ticks": ""
           }
          },
          "xaxis": {
           "automargin": true,
           "gridcolor": "white",
           "linecolor": "white",
           "showgrid": true,
           "ticks": "",
           "title": {
            "standoff": 15
           },
           "zerolinecolor": "white"
          },
          "yaxis": {
           "automargin": true,
           "gridcolor": "white",
           "linecolor": "white",
           "showgrid": true,
           "ticks": "",
           "title": {
            "standoff": 15
           },
           "zerolinecolor": "white"
          }
         }
        },
        "title": {
         "text": "Sorted by: pst_flow, ascending: True, head: 20"
        },
        "xaxis": {
         "anchor": "y",
         "domain": [
          0,
          1
         ],
         "title": {
          "text": "Flow decomposition value"
         }
        },
        "yaxis": {
         "anchor": "x",
         "domain": [
          0,
          1
         ],
         "title": {
          "text": "xnec_id"
         }
        }
       }
      }
     },
     "metadata": {},
     "output_type": "display_data"
    }
   ],
   "source": [
    "flow_decomposition_bar_chart('pst_flow', ascending=True)"
   ]
  },
  {
   "cell_type": "code",
   "execution_count": 15,
   "metadata": {},
   "outputs": [
    {
     "data": {
      "application/vnd.plotly.v1+json": {
       "config": {
        "plotlyServerURL": "https://plot.ly"
       },
       "data": [
        {
         "alignmentgroup": "True",
         "hovertemplate": "Decomposition part:=commercial_flow<br>Flow decomposition value=%{x}<br>xnec_id=%{y}<extra></extra>",
         "legendgroup": "commercial_flow",
         "marker": {
          "color": "#0DF9FF",
          "pattern": {
           "shape": ""
          }
         },
         "name": "commercial_flow",
         "offsetgroup": "commercial_flow",
         "orientation": "h",
         "showlegend": true,
         "textposition": "auto",
         "texttemplate": "%{x:.0f}",
         "type": "bar",
         "x": [
          null,
          null,
          null,
          null,
          null,
          null,
          null,
          null,
          null,
          null,
          null,
          null,
          null,
          null,
          null,
          null,
          null,
          null,
          null,
          null
         ],
         "xaxis": "x",
         "y": [
          "L78-79-1_InitialState",
          "L42-46-1_InitialState",
          "T73-74-1_InitialState",
          "L16-42-1_InitialState",
          "L45-74-1_InitialState",
          "T81-88-1_InitialState",
          "L4-16-1_InitialState",
          "T3-4-1_InitialState",
          "L46-81-1_InitialState",
          "T211-212-1_InitialState",
          "L36-88-1_InitialState",
          "T36-35-1_InitialState",
          "L219-237-1_InitialState",
          "T195-212-1_InitialState",
          "L60-62-1_InitialState",
          "L45-60-1_InitialState",
          "L47-73-1_InitialState",
          "T45-46-1_InitialState",
          "L195-219-1_InitialState",
          "L62-144-1_InitialState"
         ],
         "yaxis": "y"
        },
        {
         "alignmentgroup": "True",
         "hovertemplate": "Decomposition part:=internal_flow<br>Flow decomposition value=%{x}<br>xnec_id=%{y}<extra></extra>",
         "legendgroup": "internal_flow",
         "marker": {
          "color": "#AF0038",
          "pattern": {
           "shape": ""
          }
         },
         "name": "internal_flow",
         "offsetgroup": "internal_flow",
         "orientation": "h",
         "showlegend": true,
         "textposition": "auto",
         "texttemplate": "%{x:.0f}",
         "type": "bar",
         "x": [
          null,
          271.86024656186675,
          171.15329307888481,
          612.838789450805,
          null,
          null,
          944.0179750476757,
          944.0179750476756,
          160.01732447372314,
          54.049928377178816,
          null,
          null,
          null,
          26.79613574495755,
          280.75497026296483,
          280.75497026296495,
          null,
          111.8429220881432,
          null,
          null
         ],
         "xaxis": "x",
         "y": [
          "L78-79-1_InitialState",
          "L42-46-1_InitialState",
          "T73-74-1_InitialState",
          "L16-42-1_InitialState",
          "L45-74-1_InitialState",
          "T81-88-1_InitialState",
          "L4-16-1_InitialState",
          "T3-4-1_InitialState",
          "L46-81-1_InitialState",
          "T211-212-1_InitialState",
          "L36-88-1_InitialState",
          "T36-35-1_InitialState",
          "L219-237-1_InitialState",
          "T195-212-1_InitialState",
          "L60-62-1_InitialState",
          "L45-60-1_InitialState",
          "L47-73-1_InitialState",
          "T45-46-1_InitialState",
          "L195-219-1_InitialState",
          "L62-144-1_InitialState"
         ],
         "yaxis": "y"
        },
        {
         "alignmentgroup": "True",
         "hovertemplate": "Decomposition part:=loop_flow_from_bg<br>Flow decomposition value=%{x}<br>xnec_id=%{y}<extra></extra>",
         "legendgroup": "loop_flow_from_bg",
         "marker": {
          "color": "#FD3216",
          "pattern": {
           "shape": ""
          }
         },
         "name": "loop_flow_from_bg",
         "offsetgroup": "loop_flow_from_bg",
         "orientation": "h",
         "showlegend": true,
         "textposition": "auto",
         "texttemplate": "%{x:.0f}",
         "type": "bar",
         "x": [
          56.40434690027048,
          165.55615382962998,
          null,
          136.85900162726386,
          145.3044351945386,
          152.10398321568414,
          null,
          null,
          98.72412545613156,
          null,
          75.7551253313381,
          75.75512533133809,
          null,
          null,
          61.750476171525804,
          61.75047617152576,
          58.43299997961181,
          66.83202837349836,
          null,
          null
         ],
         "xaxis": "x",
         "y": [
          "L78-79-1_InitialState",
          "L42-46-1_InitialState",
          "T73-74-1_InitialState",
          "L16-42-1_InitialState",
          "L45-74-1_InitialState",
          "T81-88-1_InitialState",
          "L4-16-1_InitialState",
          "T3-4-1_InitialState",
          "L46-81-1_InitialState",
          "T211-212-1_InitialState",
          "L36-88-1_InitialState",
          "T36-35-1_InitialState",
          "L219-237-1_InitialState",
          "T195-212-1_InitialState",
          "L60-62-1_InitialState",
          "L45-60-1_InitialState",
          "L47-73-1_InitialState",
          "T45-46-1_InitialState",
          "L195-219-1_InitialState",
          "L62-144-1_InitialState"
         ],
         "yaxis": "y"
        },
        {
         "alignmentgroup": "True",
         "hovertemplate": "Decomposition part:=loop_flow_from_cz<br>Flow decomposition value=%{x}<br>xnec_id=%{y}<extra></extra>",
         "legendgroup": "loop_flow_from_cz",
         "marker": {
          "color": "#00A08B",
          "pattern": {
           "shape": ""
          }
         },
         "name": "loop_flow_from_cz",
         "offsetgroup": "loop_flow_from_cz",
         "orientation": "h",
         "showlegend": true,
         "textposition": "auto",
         "texttemplate": "%{x:.0f}",
         "type": "bar",
         "x": [
          20.393935230029122,
          null,
          null,
          null,
          null,
          null,
          null,
          null,
          null,
          null,
          9.76306979274376,
          9.763069792743748,
          null,
          null,
          null,
          null,
          null,
          null,
          null,
          null
         ],
         "xaxis": "x",
         "y": [
          "L78-79-1_InitialState",
          "L42-46-1_InitialState",
          "T73-74-1_InitialState",
          "L16-42-1_InitialState",
          "L45-74-1_InitialState",
          "T81-88-1_InitialState",
          "L4-16-1_InitialState",
          "T3-4-1_InitialState",
          "L46-81-1_InitialState",
          "T211-212-1_InitialState",
          "L36-88-1_InitialState",
          "T36-35-1_InitialState",
          "L219-237-1_InitialState",
          "T195-212-1_InitialState",
          "L60-62-1_InitialState",
          "L45-60-1_InitialState",
          "L47-73-1_InitialState",
          "T45-46-1_InitialState",
          "L195-219-1_InitialState",
          "L62-144-1_InitialState"
         ],
         "yaxis": "y"
        },
        {
         "alignmentgroup": "True",
         "hovertemplate": "Decomposition part:=loop_flow_from_dk<br>Flow decomposition value=%{x}<br>xnec_id=%{y}<extra></extra>",
         "legendgroup": "loop_flow_from_dk",
         "marker": {
          "color": "#6C4516",
          "pattern": {
           "shape": ""
          }
         },
         "name": "loop_flow_from_dk",
         "offsetgroup": "loop_flow_from_dk",
         "orientation": "h",
         "showlegend": true,
         "textposition": "auto",
         "texttemplate": "%{x:.0f}",
         "type": "bar",
         "x": [
          -24.638798527942566,
          723.7347444719029,
          128.55446942868082,
          488.1204619339962,
          281.28818368668374,
          -116.25751206714119,
          611.125304240149,
          611.1253042401501,
          584.7135250682505,
          -80.46218704717266,
          36.47620219086257,
          36.476202190861855,
          -501.93997476655636,
          50.84800387616368,
          250.09500082857153,
          250.09500082857153,
          71.12881184757269,
          139.0212194036516,
          -311.44151559135554,
          468.80963577548334
         ],
         "xaxis": "x",
         "y": [
          "L78-79-1_InitialState",
          "L42-46-1_InitialState",
          "T73-74-1_InitialState",
          "L16-42-1_InitialState",
          "L45-74-1_InitialState",
          "T81-88-1_InitialState",
          "L4-16-1_InitialState",
          "T3-4-1_InitialState",
          "L46-81-1_InitialState",
          "T211-212-1_InitialState",
          "L36-88-1_InitialState",
          "T36-35-1_InitialState",
          "L219-237-1_InitialState",
          "T195-212-1_InitialState",
          "L60-62-1_InitialState",
          "L45-60-1_InitialState",
          "L47-73-1_InitialState",
          "T45-46-1_InitialState",
          "L195-219-1_InitialState",
          "L62-144-1_InitialState"
         ],
         "yaxis": "y"
        },
        {
         "alignmentgroup": "True",
         "hovertemplate": "Decomposition part:=loop_flow_from_ee<br>Flow decomposition value=%{x}<br>xnec_id=%{y}<extra></extra>",
         "legendgroup": "loop_flow_from_ee",
         "marker": {
          "color": "#511CFB",
          "pattern": {
           "shape": ""
          }
         },
         "name": "loop_flow_from_ee",
         "offsetgroup": "loop_flow_from_ee",
         "orientation": "h",
         "showlegend": true,
         "textposition": "auto",
         "texttemplate": "%{x:.0f}",
         "type": "bar",
         "x": [
          null,
          null,
          null,
          null,
          null,
          null,
          null,
          null,
          null,
          null,
          null,
          null,
          null,
          56.77252151854409,
          null,
          null,
          null,
          null,
          null,
          null
         ],
         "xaxis": "x",
         "y": [
          "L78-79-1_InitialState",
          "L42-46-1_InitialState",
          "T73-74-1_InitialState",
          "L16-42-1_InitialState",
          "L45-74-1_InitialState",
          "T81-88-1_InitialState",
          "L4-16-1_InitialState",
          "T3-4-1_InitialState",
          "L46-81-1_InitialState",
          "T211-212-1_InitialState",
          "L36-88-1_InitialState",
          "T36-35-1_InitialState",
          "L219-237-1_InitialState",
          "T195-212-1_InitialState",
          "L60-62-1_InitialState",
          "L45-60-1_InitialState",
          "L47-73-1_InitialState",
          "T45-46-1_InitialState",
          "L195-219-1_InitialState",
          "L62-144-1_InitialState"
         ],
         "yaxis": "y"
        },
        {
         "alignmentgroup": "True",
         "hovertemplate": "Decomposition part:=loop_flow_from_fr<br>Flow decomposition value=%{x}<br>xnec_id=%{y}<extra></extra>",
         "legendgroup": "loop_flow_from_fr",
         "marker": {
          "color": "#F6F926",
          "pattern": {
           "shape": ""
          }
         },
         "name": "loop_flow_from_fr",
         "offsetgroup": "loop_flow_from_fr",
         "orientation": "h",
         "showlegend": true,
         "textposition": "auto",
         "texttemplate": "%{x:.0f}",
         "type": "bar",
         "x": [
          null,
          -199.0766669143227,
          -36.25965420555658,
          -190.4151544836397,
          -136.2323909876543,
          101.12516367211896,
          -187.17695650337407,
          -187.17695650337419,
          -258.0781950014783,
          72.93936879855467,
          null,
          null,
          264.1043545860835,
          19.26786010429211,
          -189.59640652211738,
          -189.59640652211755,
          -38.255352081424235,
          59.0015280871554,
          194.3966433454513,
          -245.02122435302493
         ],
         "xaxis": "x",
         "y": [
          "L78-79-1_InitialState",
          "L42-46-1_InitialState",
          "T73-74-1_InitialState",
          "L16-42-1_InitialState",
          "L45-74-1_InitialState",
          "T81-88-1_InitialState",
          "L4-16-1_InitialState",
          "T3-4-1_InitialState",
          "L46-81-1_InitialState",
          "T211-212-1_InitialState",
          "L36-88-1_InitialState",
          "T36-35-1_InitialState",
          "L219-237-1_InitialState",
          "T195-212-1_InitialState",
          "L60-62-1_InitialState",
          "L45-60-1_InitialState",
          "L47-73-1_InitialState",
          "T45-46-1_InitialState",
          "L195-219-1_InitialState",
          "L62-144-1_InitialState"
         ],
         "yaxis": "y"
        },
        {
         "alignmentgroup": "True",
         "hovertemplate": "Decomposition part:=loop_flow_from_hu<br>Flow decomposition value=%{x}<br>xnec_id=%{y}<extra></extra>",
         "legendgroup": "loop_flow_from_hu",
         "marker": {
          "color": "#C9FBE5",
          "pattern": {
           "shape": ""
          }
         },
         "name": "loop_flow_from_hu",
         "offsetgroup": "loop_flow_from_hu",
         "orientation": "h",
         "showlegend": true,
         "textposition": "auto",
         "texttemplate": "%{x:.0f}",
         "type": "bar",
         "x": [
          24.208573919462392,
          -635.955291591542,
          -117.59194551782356,
          -813.4598799127205,
          -266.464042134041,
          116.43975188582554,
          -899.2953251872486,
          -899.2953251872494,
          -541.1501753176985,
          80.70275670269496,
          -32.43234473039444,
          -32.43234473039378,
          474.2893816034298,
          -44.06764561376075,
          -244.02568210389688,
          -244.02568210389705,
          -72.60164361075633,
          -94.80511627384293,
          294.9573071483382,
          -448.1985868371602
         ],
         "xaxis": "x",
         "y": [
          "L78-79-1_InitialState",
          "L42-46-1_InitialState",
          "T73-74-1_InitialState",
          "L16-42-1_InitialState",
          "L45-74-1_InitialState",
          "T81-88-1_InitialState",
          "L4-16-1_InitialState",
          "T3-4-1_InitialState",
          "L46-81-1_InitialState",
          "T211-212-1_InitialState",
          "L36-88-1_InitialState",
          "T36-35-1_InitialState",
          "L219-237-1_InitialState",
          "T195-212-1_InitialState",
          "L60-62-1_InitialState",
          "L45-60-1_InitialState",
          "L47-73-1_InitialState",
          "T45-46-1_InitialState",
          "L195-219-1_InitialState",
          "L62-144-1_InitialState"
         ],
         "yaxis": "y"
        },
        {
         "alignmentgroup": "True",
         "hovertemplate": "Decomposition part:=loop_flow_from_ie<br>Flow decomposition value=%{x}<br>xnec_id=%{y}<extra></extra>",
         "legendgroup": "loop_flow_from_ie",
         "marker": {
          "color": "#FC0080",
          "pattern": {
           "shape": ""
          }
         },
         "name": "loop_flow_from_ie",
         "offsetgroup": "loop_flow_from_ie",
         "orientation": "h",
         "showlegend": true,
         "textposition": "auto",
         "texttemplate": "%{x:.0f}",
         "type": "bar",
         "x": [
          null,
          null,
          null,
          null,
          null,
          null,
          null,
          null,
          null,
          null,
          null,
          null,
          null,
          null,
          null,
          null,
          null,
          null,
          null,
          null
         ],
         "xaxis": "x",
         "y": [
          "L78-79-1_InitialState",
          "L42-46-1_InitialState",
          "T73-74-1_InitialState",
          "L16-42-1_InitialState",
          "L45-74-1_InitialState",
          "T81-88-1_InitialState",
          "L4-16-1_InitialState",
          "T3-4-1_InitialState",
          "L46-81-1_InitialState",
          "T211-212-1_InitialState",
          "L36-88-1_InitialState",
          "T36-35-1_InitialState",
          "L219-237-1_InitialState",
          "T195-212-1_InitialState",
          "L60-62-1_InitialState",
          "L45-60-1_InitialState",
          "L47-73-1_InitialState",
          "T45-46-1_InitialState",
          "L195-219-1_InitialState",
          "L62-144-1_InitialState"
         ],
         "yaxis": "y"
        },
        {
         "alignmentgroup": "True",
         "hovertemplate": "Decomposition part:=loop_flow_from_lt<br>Flow decomposition value=%{x}<br>xnec_id=%{y}<extra></extra>",
         "legendgroup": "loop_flow_from_lt",
         "marker": {
          "color": "#FB0D0D",
          "pattern": {
           "shape": ""
          }
         },
         "name": "loop_flow_from_lt",
         "offsetgroup": "loop_flow_from_lt",
         "orientation": "h",
         "showlegend": true,
         "textposition": "auto",
         "texttemplate": "%{x:.0f}",
         "type": "bar",
         "x": [
          null,
          null,
          64.46922590150581,
          null,
          78.00236556970619,
          null,
          null,
          null,
          null,
          null,
          23.807952056210315,
          23.80795205620973,
          -161.30884230873153,
          44.50078581493254,
          null,
          null,
          -19.860800175193663,
          null,
          -67.09565264924797,
          235.9631028959304
         ],
         "xaxis": "x",
         "y": [
          "L78-79-1_InitialState",
          "L42-46-1_InitialState",
          "T73-74-1_InitialState",
          "L16-42-1_InitialState",
          "L45-74-1_InitialState",
          "T81-88-1_InitialState",
          "L4-16-1_InitialState",
          "T3-4-1_InitialState",
          "L46-81-1_InitialState",
          "T211-212-1_InitialState",
          "L36-88-1_InitialState",
          "T36-35-1_InitialState",
          "L219-237-1_InitialState",
          "T195-212-1_InitialState",
          "L60-62-1_InitialState",
          "L45-60-1_InitialState",
          "L47-73-1_InitialState",
          "T45-46-1_InitialState",
          "L195-219-1_InitialState",
          "L62-144-1_InitialState"
         ],
         "yaxis": "y"
        },
        {
         "alignmentgroup": "True",
         "hovertemplate": "Decomposition part:=loop_flow_from_lu<br>Flow decomposition value=%{x}<br>xnec_id=%{y}<extra></extra>",
         "legendgroup": "loop_flow_from_lu",
         "marker": {
          "color": "#D626FF",
          "pattern": {
           "shape": ""
          }
         },
         "name": "loop_flow_from_lu",
         "offsetgroup": "loop_flow_from_lu",
         "orientation": "h",
         "showlegend": true,
         "textposition": "auto",
         "texttemplate": "%{x:.0f}",
         "type": "bar",
         "x": [
          null,
          133.77967824623622,
          null,
          130.33300001683094,
          54.72561348437483,
          -52.16401105616705,
          null,
          null,
          126.93517891148389,
          -24.35046175602327,
          null,
          null,
          -78.6788471258285,
          -80.48743566938552,
          59.96621902803672,
          59.96621902803688,
          null,
          null,
          -151.3524473728181,
          null
         ],
         "xaxis": "x",
         "y": [
          "L78-79-1_InitialState",
          "L42-46-1_InitialState",
          "T73-74-1_InitialState",
          "L16-42-1_InitialState",
          "L45-74-1_InitialState",
          "T81-88-1_InitialState",
          "L4-16-1_InitialState",
          "T3-4-1_InitialState",
          "L46-81-1_InitialState",
          "T211-212-1_InitialState",
          "L36-88-1_InitialState",
          "T36-35-1_InitialState",
          "L219-237-1_InitialState",
          "T195-212-1_InitialState",
          "L60-62-1_InitialState",
          "L45-60-1_InitialState",
          "L47-73-1_InitialState",
          "T45-46-1_InitialState",
          "L195-219-1_InitialState",
          "L62-144-1_InitialState"
         ],
         "yaxis": "y"
        },
        {
         "alignmentgroup": "True",
         "hovertemplate": "Decomposition part:=pst_flow<br>Flow decomposition value=%{x}<br>xnec_id=%{y}<extra></extra>",
         "legendgroup": "pst_flow",
         "marker": {
          "color": "#DA16FF",
          "pattern": {
           "shape": ""
          }
         },
         "name": "pst_flow",
         "offsetgroup": "pst_flow",
         "orientation": "h",
         "showlegend": true,
         "textposition": "auto",
         "texttemplate": "%{x:.0f}",
         "type": "bar",
         "x": [
          null,
          null,
          null,
          null,
          null,
          null,
          null,
          null,
          null,
          null,
          null,
          null,
          null,
          null,
          null,
          null,
          null,
          null,
          null,
          null
         ],
         "xaxis": "x",
         "y": [
          "L78-79-1_InitialState",
          "L42-46-1_InitialState",
          "T73-74-1_InitialState",
          "L16-42-1_InitialState",
          "L45-74-1_InitialState",
          "T81-88-1_InitialState",
          "L4-16-1_InitialState",
          "T3-4-1_InitialState",
          "L46-81-1_InitialState",
          "T211-212-1_InitialState",
          "L36-88-1_InitialState",
          "T36-35-1_InitialState",
          "L219-237-1_InitialState",
          "T195-212-1_InitialState",
          "L60-62-1_InitialState",
          "L45-60-1_InitialState",
          "L47-73-1_InitialState",
          "T45-46-1_InitialState",
          "L195-219-1_InitialState",
          "L62-144-1_InitialState"
         ],
         "yaxis": "y"
        },
        {
         "alignmentgroup": "True",
         "hovertemplate": "Decomposition part:=masked_flows_positive<br>Flow decomposition value=%{x}<br>xnec_id=%{y}<extra></extra>",
         "legendgroup": "masked_flows_positive",
         "marker": {
          "color": "#86CE00",
          "pattern": {
           "shape": ""
          }
         },
         "name": "masked_flows_positive",
         "offsetgroup": "masked_flows_positive",
         "orientation": "h",
         "showlegend": true,
         "textposition": "auto",
         "texttemplate": "%{x:.0f}",
         "type": "bar",
         "x": [
          8.730399412840372,
          92.93162058111555,
          45.19702463691826,
          74.74093284882301,
          53.092917711090585,
          23.516533851823603,
          309.85620116681935,
          309.85620116681946,
          85.36236234952548,
          20.142691241886894,
          7.093563480217242,
          7.093563480217279,
          83.21278764519774,
          6.582873157749884,
          31.363127093551185,
          31.36312709355119,
          18.850497389597702,
          14.413757566342005,
          52.67942715504496,
          134.44020663187607
         ],
         "xaxis": "x",
         "y": [
          "L78-79-1_InitialState",
          "L42-46-1_InitialState",
          "T73-74-1_InitialState",
          "L16-42-1_InitialState",
          "L45-74-1_InitialState",
          "T81-88-1_InitialState",
          "L4-16-1_InitialState",
          "T3-4-1_InitialState",
          "L46-81-1_InitialState",
          "T211-212-1_InitialState",
          "L36-88-1_InitialState",
          "T36-35-1_InitialState",
          "L219-237-1_InitialState",
          "T195-212-1_InitialState",
          "L60-62-1_InitialState",
          "L45-60-1_InitialState",
          "L47-73-1_InitialState",
          "T45-46-1_InitialState",
          "L195-219-1_InitialState",
          "L62-144-1_InitialState"
         ],
         "yaxis": "y"
        },
        {
         "alignmentgroup": "True",
         "hovertemplate": "Decomposition part:=masked_flows_negative<br>Flow decomposition value=%{x}<br>xnec_id=%{y}<extra></extra>",
         "legendgroup": "masked_flows_negative",
         "marker": {
          "color": "#6A76FC",
          "pattern": {
           "shape": ""
          }
         },
         "name": "masked_flows_negative",
         "offsetgroup": "masked_flows_negative",
         "orientation": "h",
         "showlegend": true,
         "textposition": "auto",
         "texttemplate": "%{x:.0f}",
         "type": "bar",
         "x": [
          -2.9744508476791998,
          0,
          0,
          0,
          0,
          -16.119033529311988,
          0,
          0,
          0,
          0,
          -8.124022946058027,
          -8.124022946058068,
          0,
          0,
          0,
          0,
          -3.3995133199080767,
          0,
          -0.8858389093196435,
          0
         ],
         "xaxis": "x",
         "y": [
          "L78-79-1_InitialState",
          "L42-46-1_InitialState",
          "T73-74-1_InitialState",
          "L16-42-1_InitialState",
          "L45-74-1_InitialState",
          "T81-88-1_InitialState",
          "L4-16-1_InitialState",
          "T3-4-1_InitialState",
          "L46-81-1_InitialState",
          "T211-212-1_InitialState",
          "L36-88-1_InitialState",
          "T36-35-1_InitialState",
          "L219-237-1_InitialState",
          "T195-212-1_InitialState",
          "L60-62-1_InitialState",
          "L45-60-1_InitialState",
          "L47-73-1_InitialState",
          "T45-46-1_InitialState",
          "L195-219-1_InitialState",
          "L62-144-1_InitialState"
         ],
         "yaxis": "y"
        },
        {
         "mode": "lines+markers",
         "name": "total_flow",
         "type": "scatter",
         "x": [
          82.12400608698061,
          552.8304851848867,
          255.52241332260957,
          439.01715148135895,
          209.71708252469864,
          208.64487597283198,
          778.5271987640211,
          778.5271987640217,
          256.5241459399377,
          123.0220963171194,
          112.33954517491952,
          112.33954517491885,
          79.67885963359464,
          80.21309893349357,
          250.3077047586358,
          250.3077047586357,
          14.295000029499874,
          296.30633924494765,
          11.257923126093203,
          145.99313411310465
         ],
         "y": [
          "L78-79-1_InitialState",
          "L42-46-1_InitialState",
          "T73-74-1_InitialState",
          "L16-42-1_InitialState",
          "L45-74-1_InitialState",
          "T81-88-1_InitialState",
          "L4-16-1_InitialState",
          "T3-4-1_InitialState",
          "L46-81-1_InitialState",
          "T211-212-1_InitialState",
          "L36-88-1_InitialState",
          "T36-35-1_InitialState",
          "L219-237-1_InitialState",
          "T195-212-1_InitialState",
          "L60-62-1_InitialState",
          "L45-60-1_InitialState",
          "L47-73-1_InitialState",
          "T45-46-1_InitialState",
          "L195-219-1_InitialState",
          "L62-144-1_InitialState"
         ]
        },
        {
         "mode": "lines+markers",
         "name": "total_loop_flow",
         "type": "scatter",
         "x": [
          82.12400608698061,
          280.97023862302,
          84.36912024372472,
          -173.82163796944607,
          209.71708252469864,
          198.37006358482262,
          -165.49077628365436,
          -165.4907762836541,
          96.50682146621449,
          68.97216793994059,
          112.33954517491952,
          112.33954517491885,
          79.67885963359464,
          53.416963188536016,
          -30.447265504328996,
          -30.44726550432923,
          14.295000029499874,
          184.46341715680438,
          11.257923126093203,
          145.99313411310465
         ],
         "y": [
          "L78-79-1_InitialState",
          "L42-46-1_InitialState",
          "T73-74-1_InitialState",
          "L16-42-1_InitialState",
          "L45-74-1_InitialState",
          "T81-88-1_InitialState",
          "L4-16-1_InitialState",
          "T3-4-1_InitialState",
          "L46-81-1_InitialState",
          "T211-212-1_InitialState",
          "L36-88-1_InitialState",
          "T36-35-1_InitialState",
          "L219-237-1_InitialState",
          "T195-212-1_InitialState",
          "L60-62-1_InitialState",
          "L45-60-1_InitialState",
          "L47-73-1_InitialState",
          "T45-46-1_InitialState",
          "L195-219-1_InitialState",
          "L62-144-1_InitialState"
         ]
        }
       ],
       "layout": {
        "barmode": "relative",
        "height": 1000,
        "legend": {
         "title": {
          "text": "Decomposition part:"
         },
         "tracegroupgap": 0
        },
        "template": {
         "data": {
          "bar": [
           {
            "error_x": {
             "color": "rgb(36,36,36)"
            },
            "error_y": {
             "color": "rgb(36,36,36)"
            },
            "marker": {
             "line": {
              "color": "rgb(234,234,242)",
              "width": 0.5
             },
             "pattern": {
              "fillmode": "overlay",
              "size": 10,
              "solidity": 0.2
             }
            },
            "type": "bar"
           }
          ],
          "barpolar": [
           {
            "marker": {
             "line": {
              "color": "rgb(234,234,242)",
              "width": 0.5
             },
             "pattern": {
              "fillmode": "overlay",
              "size": 10,
              "solidity": 0.2
             }
            },
            "type": "barpolar"
           }
          ],
          "carpet": [
           {
            "aaxis": {
             "endlinecolor": "rgb(36,36,36)",
             "gridcolor": "white",
             "linecolor": "white",
             "minorgridcolor": "white",
             "startlinecolor": "rgb(36,36,36)"
            },
            "baxis": {
             "endlinecolor": "rgb(36,36,36)",
             "gridcolor": "white",
             "linecolor": "white",
             "minorgridcolor": "white",
             "startlinecolor": "rgb(36,36,36)"
            },
            "type": "carpet"
           }
          ],
          "choropleth": [
           {
            "colorbar": {
             "outlinewidth": 0,
             "tickcolor": "rgb(36,36,36)",
             "ticklen": 8,
             "ticks": "outside",
             "tickwidth": 2
            },
            "type": "choropleth"
           }
          ],
          "contour": [
           {
            "colorbar": {
             "outlinewidth": 0,
             "tickcolor": "rgb(36,36,36)",
             "ticklen": 8,
             "ticks": "outside",
             "tickwidth": 2
            },
            "colorscale": [
             [
              0,
              "rgb(2,4,25)"
             ],
             [
              0.06274509803921569,
              "rgb(24,15,41)"
             ],
             [
              0.12549019607843137,
              "rgb(47,23,57)"
             ],
             [
              0.18823529411764706,
              "rgb(71,28,72)"
             ],
             [
              0.25098039215686274,
              "rgb(97,30,82)"
             ],
             [
              0.3137254901960784,
              "rgb(123,30,89)"
             ],
             [
              0.3764705882352941,
              "rgb(150,27,91)"
             ],
             [
              0.4392156862745098,
              "rgb(177,22,88)"
             ],
             [
              0.5019607843137255,
              "rgb(203,26,79)"
             ],
             [
              0.5647058823529412,
              "rgb(223,47,67)"
             ],
             [
              0.6274509803921569,
              "rgb(236,76,61)"
             ],
             [
              0.6901960784313725,
              "rgb(242,107,73)"
             ],
             [
              0.7529411764705882,
              "rgb(244,135,95)"
             ],
             [
              0.8156862745098039,
              "rgb(245,162,122)"
             ],
             [
              0.8784313725490196,
              "rgb(246,188,153)"
             ],
             [
              0.9411764705882353,
              "rgb(247,212,187)"
             ],
             [
              1,
              "rgb(250,234,220)"
             ]
            ],
            "type": "contour"
           }
          ],
          "contourcarpet": [
           {
            "colorbar": {
             "outlinewidth": 0,
             "tickcolor": "rgb(36,36,36)",
             "ticklen": 8,
             "ticks": "outside",
             "tickwidth": 2
            },
            "type": "contourcarpet"
           }
          ],
          "heatmap": [
           {
            "colorbar": {
             "outlinewidth": 0,
             "tickcolor": "rgb(36,36,36)",
             "ticklen": 8,
             "ticks": "outside",
             "tickwidth": 2
            },
            "colorscale": [
             [
              0,
              "rgb(2,4,25)"
             ],
             [
              0.06274509803921569,
              "rgb(24,15,41)"
             ],
             [
              0.12549019607843137,
              "rgb(47,23,57)"
             ],
             [
              0.18823529411764706,
              "rgb(71,28,72)"
             ],
             [
              0.25098039215686274,
              "rgb(97,30,82)"
             ],
             [
              0.3137254901960784,
              "rgb(123,30,89)"
             ],
             [
              0.3764705882352941,
              "rgb(150,27,91)"
             ],
             [
              0.4392156862745098,
              "rgb(177,22,88)"
             ],
             [
              0.5019607843137255,
              "rgb(203,26,79)"
             ],
             [
              0.5647058823529412,
              "rgb(223,47,67)"
             ],
             [
              0.6274509803921569,
              "rgb(236,76,61)"
             ],
             [
              0.6901960784313725,
              "rgb(242,107,73)"
             ],
             [
              0.7529411764705882,
              "rgb(244,135,95)"
             ],
             [
              0.8156862745098039,
              "rgb(245,162,122)"
             ],
             [
              0.8784313725490196,
              "rgb(246,188,153)"
             ],
             [
              0.9411764705882353,
              "rgb(247,212,187)"
             ],
             [
              1,
              "rgb(250,234,220)"
             ]
            ],
            "type": "heatmap"
           }
          ],
          "heatmapgl": [
           {
            "colorbar": {
             "outlinewidth": 0,
             "tickcolor": "rgb(36,36,36)",
             "ticklen": 8,
             "ticks": "outside",
             "tickwidth": 2
            },
            "colorscale": [
             [
              0,
              "rgb(2,4,25)"
             ],
             [
              0.06274509803921569,
              "rgb(24,15,41)"
             ],
             [
              0.12549019607843137,
              "rgb(47,23,57)"
             ],
             [
              0.18823529411764706,
              "rgb(71,28,72)"
             ],
             [
              0.25098039215686274,
              "rgb(97,30,82)"
             ],
             [
              0.3137254901960784,
              "rgb(123,30,89)"
             ],
             [
              0.3764705882352941,
              "rgb(150,27,91)"
             ],
             [
              0.4392156862745098,
              "rgb(177,22,88)"
             ],
             [
              0.5019607843137255,
              "rgb(203,26,79)"
             ],
             [
              0.5647058823529412,
              "rgb(223,47,67)"
             ],
             [
              0.6274509803921569,
              "rgb(236,76,61)"
             ],
             [
              0.6901960784313725,
              "rgb(242,107,73)"
             ],
             [
              0.7529411764705882,
              "rgb(244,135,95)"
             ],
             [
              0.8156862745098039,
              "rgb(245,162,122)"
             ],
             [
              0.8784313725490196,
              "rgb(246,188,153)"
             ],
             [
              0.9411764705882353,
              "rgb(247,212,187)"
             ],
             [
              1,
              "rgb(250,234,220)"
             ]
            ],
            "type": "heatmapgl"
           }
          ],
          "histogram": [
           {
            "marker": {
             "pattern": {
              "fillmode": "overlay",
              "size": 10,
              "solidity": 0.2
             }
            },
            "type": "histogram"
           }
          ],
          "histogram2d": [
           {
            "colorbar": {
             "outlinewidth": 0,
             "tickcolor": "rgb(36,36,36)",
             "ticklen": 8,
             "ticks": "outside",
             "tickwidth": 2
            },
            "colorscale": [
             [
              0,
              "rgb(2,4,25)"
             ],
             [
              0.06274509803921569,
              "rgb(24,15,41)"
             ],
             [
              0.12549019607843137,
              "rgb(47,23,57)"
             ],
             [
              0.18823529411764706,
              "rgb(71,28,72)"
             ],
             [
              0.25098039215686274,
              "rgb(97,30,82)"
             ],
             [
              0.3137254901960784,
              "rgb(123,30,89)"
             ],
             [
              0.3764705882352941,
              "rgb(150,27,91)"
             ],
             [
              0.4392156862745098,
              "rgb(177,22,88)"
             ],
             [
              0.5019607843137255,
              "rgb(203,26,79)"
             ],
             [
              0.5647058823529412,
              "rgb(223,47,67)"
             ],
             [
              0.6274509803921569,
              "rgb(236,76,61)"
             ],
             [
              0.6901960784313725,
              "rgb(242,107,73)"
             ],
             [
              0.7529411764705882,
              "rgb(244,135,95)"
             ],
             [
              0.8156862745098039,
              "rgb(245,162,122)"
             ],
             [
              0.8784313725490196,
              "rgb(246,188,153)"
             ],
             [
              0.9411764705882353,
              "rgb(247,212,187)"
             ],
             [
              1,
              "rgb(250,234,220)"
             ]
            ],
            "type": "histogram2d"
           }
          ],
          "histogram2dcontour": [
           {
            "colorbar": {
             "outlinewidth": 0,
             "tickcolor": "rgb(36,36,36)",
             "ticklen": 8,
             "ticks": "outside",
             "tickwidth": 2
            },
            "colorscale": [
             [
              0,
              "rgb(2,4,25)"
             ],
             [
              0.06274509803921569,
              "rgb(24,15,41)"
             ],
             [
              0.12549019607843137,
              "rgb(47,23,57)"
             ],
             [
              0.18823529411764706,
              "rgb(71,28,72)"
             ],
             [
              0.25098039215686274,
              "rgb(97,30,82)"
             ],
             [
              0.3137254901960784,
              "rgb(123,30,89)"
             ],
             [
              0.3764705882352941,
              "rgb(150,27,91)"
             ],
             [
              0.4392156862745098,
              "rgb(177,22,88)"
             ],
             [
              0.5019607843137255,
              "rgb(203,26,79)"
             ],
             [
              0.5647058823529412,
              "rgb(223,47,67)"
             ],
             [
              0.6274509803921569,
              "rgb(236,76,61)"
             ],
             [
              0.6901960784313725,
              "rgb(242,107,73)"
             ],
             [
              0.7529411764705882,
              "rgb(244,135,95)"
             ],
             [
              0.8156862745098039,
              "rgb(245,162,122)"
             ],
             [
              0.8784313725490196,
              "rgb(246,188,153)"
             ],
             [
              0.9411764705882353,
              "rgb(247,212,187)"
             ],
             [
              1,
              "rgb(250,234,220)"
             ]
            ],
            "type": "histogram2dcontour"
           }
          ],
          "mesh3d": [
           {
            "colorbar": {
             "outlinewidth": 0,
             "tickcolor": "rgb(36,36,36)",
             "ticklen": 8,
             "ticks": "outside",
             "tickwidth": 2
            },
            "type": "mesh3d"
           }
          ],
          "parcoords": [
           {
            "line": {
             "colorbar": {
              "outlinewidth": 0,
              "tickcolor": "rgb(36,36,36)",
              "ticklen": 8,
              "ticks": "outside",
              "tickwidth": 2
             }
            },
            "type": "parcoords"
           }
          ],
          "pie": [
           {
            "automargin": true,
            "type": "pie"
           }
          ],
          "scatter": [
           {
            "fillpattern": {
             "fillmode": "overlay",
             "size": 10,
             "solidity": 0.2
            },
            "type": "scatter"
           }
          ],
          "scatter3d": [
           {
            "line": {
             "colorbar": {
              "outlinewidth": 0,
              "tickcolor": "rgb(36,36,36)",
              "ticklen": 8,
              "ticks": "outside",
              "tickwidth": 2
             }
            },
            "marker": {
             "colorbar": {
              "outlinewidth": 0,
              "tickcolor": "rgb(36,36,36)",
              "ticklen": 8,
              "ticks": "outside",
              "tickwidth": 2
             }
            },
            "type": "scatter3d"
           }
          ],
          "scattercarpet": [
           {
            "marker": {
             "colorbar": {
              "outlinewidth": 0,
              "tickcolor": "rgb(36,36,36)",
              "ticklen": 8,
              "ticks": "outside",
              "tickwidth": 2
             }
            },
            "type": "scattercarpet"
           }
          ],
          "scattergeo": [
           {
            "marker": {
             "colorbar": {
              "outlinewidth": 0,
              "tickcolor": "rgb(36,36,36)",
              "ticklen": 8,
              "ticks": "outside",
              "tickwidth": 2
             }
            },
            "type": "scattergeo"
           }
          ],
          "scattergl": [
           {
            "marker": {
             "colorbar": {
              "outlinewidth": 0,
              "tickcolor": "rgb(36,36,36)",
              "ticklen": 8,
              "ticks": "outside",
              "tickwidth": 2
             }
            },
            "type": "scattergl"
           }
          ],
          "scattermapbox": [
           {
            "marker": {
             "colorbar": {
              "outlinewidth": 0,
              "tickcolor": "rgb(36,36,36)",
              "ticklen": 8,
              "ticks": "outside",
              "tickwidth": 2
             }
            },
            "type": "scattermapbox"
           }
          ],
          "scatterpolar": [
           {
            "marker": {
             "colorbar": {
              "outlinewidth": 0,
              "tickcolor": "rgb(36,36,36)",
              "ticklen": 8,
              "ticks": "outside",
              "tickwidth": 2
             }
            },
            "type": "scatterpolar"
           }
          ],
          "scatterpolargl": [
           {
            "marker": {
             "colorbar": {
              "outlinewidth": 0,
              "tickcolor": "rgb(36,36,36)",
              "ticklen": 8,
              "ticks": "outside",
              "tickwidth": 2
             }
            },
            "type": "scatterpolargl"
           }
          ],
          "scatterternary": [
           {
            "marker": {
             "colorbar": {
              "outlinewidth": 0,
              "tickcolor": "rgb(36,36,36)",
              "ticklen": 8,
              "ticks": "outside",
              "tickwidth": 2
             }
            },
            "type": "scatterternary"
           }
          ],
          "surface": [
           {
            "colorbar": {
             "outlinewidth": 0,
             "tickcolor": "rgb(36,36,36)",
             "ticklen": 8,
             "ticks": "outside",
             "tickwidth": 2
            },
            "colorscale": [
             [
              0,
              "rgb(2,4,25)"
             ],
             [
              0.06274509803921569,
              "rgb(24,15,41)"
             ],
             [
              0.12549019607843137,
              "rgb(47,23,57)"
             ],
             [
              0.18823529411764706,
              "rgb(71,28,72)"
             ],
             [
              0.25098039215686274,
              "rgb(97,30,82)"
             ],
             [
              0.3137254901960784,
              "rgb(123,30,89)"
             ],
             [
              0.3764705882352941,
              "rgb(150,27,91)"
             ],
             [
              0.4392156862745098,
              "rgb(177,22,88)"
             ],
             [
              0.5019607843137255,
              "rgb(203,26,79)"
             ],
             [
              0.5647058823529412,
              "rgb(223,47,67)"
             ],
             [
              0.6274509803921569,
              "rgb(236,76,61)"
             ],
             [
              0.6901960784313725,
              "rgb(242,107,73)"
             ],
             [
              0.7529411764705882,
              "rgb(244,135,95)"
             ],
             [
              0.8156862745098039,
              "rgb(245,162,122)"
             ],
             [
              0.8784313725490196,
              "rgb(246,188,153)"
             ],
             [
              0.9411764705882353,
              "rgb(247,212,187)"
             ],
             [
              1,
              "rgb(250,234,220)"
             ]
            ],
            "type": "surface"
           }
          ],
          "table": [
           {
            "cells": {
             "fill": {
              "color": "rgb(231,231,240)"
             },
             "line": {
              "color": "white"
             }
            },
            "header": {
             "fill": {
              "color": "rgb(183,183,191)"
             },
             "line": {
              "color": "white"
             }
            },
            "type": "table"
           }
          ]
         },
         "layout": {
          "annotationdefaults": {
           "arrowcolor": "rgb(67,103,167)"
          },
          "autotypenumbers": "strict",
          "coloraxis": {
           "colorbar": {
            "outlinewidth": 0,
            "tickcolor": "rgb(36,36,36)",
            "ticklen": 8,
            "ticks": "outside",
            "tickwidth": 2
           }
          },
          "colorscale": {
           "sequential": [
            [
             0,
             "rgb(2,4,25)"
            ],
            [
             0.06274509803921569,
             "rgb(24,15,41)"
            ],
            [
             0.12549019607843137,
             "rgb(47,23,57)"
            ],
            [
             0.18823529411764706,
             "rgb(71,28,72)"
            ],
            [
             0.25098039215686274,
             "rgb(97,30,82)"
            ],
            [
             0.3137254901960784,
             "rgb(123,30,89)"
            ],
            [
             0.3764705882352941,
             "rgb(150,27,91)"
            ],
            [
             0.4392156862745098,
             "rgb(177,22,88)"
            ],
            [
             0.5019607843137255,
             "rgb(203,26,79)"
            ],
            [
             0.5647058823529412,
             "rgb(223,47,67)"
            ],
            [
             0.6274509803921569,
             "rgb(236,76,61)"
            ],
            [
             0.6901960784313725,
             "rgb(242,107,73)"
            ],
            [
             0.7529411764705882,
             "rgb(244,135,95)"
            ],
            [
             0.8156862745098039,
             "rgb(245,162,122)"
            ],
            [
             0.8784313725490196,
             "rgb(246,188,153)"
            ],
            [
             0.9411764705882353,
             "rgb(247,212,187)"
            ],
            [
             1,
             "rgb(250,234,220)"
            ]
           ],
           "sequentialminus": [
            [
             0,
             "rgb(2,4,25)"
            ],
            [
             0.06274509803921569,
             "rgb(24,15,41)"
            ],
            [
             0.12549019607843137,
             "rgb(47,23,57)"
            ],
            [
             0.18823529411764706,
             "rgb(71,28,72)"
            ],
            [
             0.25098039215686274,
             "rgb(97,30,82)"
            ],
            [
             0.3137254901960784,
             "rgb(123,30,89)"
            ],
            [
             0.3764705882352941,
             "rgb(150,27,91)"
            ],
            [
             0.4392156862745098,
             "rgb(177,22,88)"
            ],
            [
             0.5019607843137255,
             "rgb(203,26,79)"
            ],
            [
             0.5647058823529412,
             "rgb(223,47,67)"
            ],
            [
             0.6274509803921569,
             "rgb(236,76,61)"
            ],
            [
             0.6901960784313725,
             "rgb(242,107,73)"
            ],
            [
             0.7529411764705882,
             "rgb(244,135,95)"
            ],
            [
             0.8156862745098039,
             "rgb(245,162,122)"
            ],
            [
             0.8784313725490196,
             "rgb(246,188,153)"
            ],
            [
             0.9411764705882353,
             "rgb(247,212,187)"
            ],
            [
             1,
             "rgb(250,234,220)"
            ]
           ]
          },
          "colorway": [
           "rgb(76,114,176)",
           "rgb(221,132,82)",
           "rgb(85,168,104)",
           "rgb(196,78,82)",
           "rgb(129,114,179)",
           "rgb(147,120,96)",
           "rgb(218,139,195)",
           "rgb(140,140,140)",
           "rgb(204,185,116)",
           "rgb(100,181,205)"
          ],
          "font": {
           "color": "rgb(36,36,36)"
          },
          "geo": {
           "bgcolor": "white",
           "lakecolor": "white",
           "landcolor": "rgb(234,234,242)",
           "showlakes": true,
           "showland": true,
           "subunitcolor": "white"
          },
          "hoverlabel": {
           "align": "left"
          },
          "hovermode": "closest",
          "paper_bgcolor": "white",
          "plot_bgcolor": "rgb(234,234,242)",
          "polar": {
           "angularaxis": {
            "gridcolor": "white",
            "linecolor": "white",
            "showgrid": true,
            "ticks": ""
           },
           "bgcolor": "rgb(234,234,242)",
           "radialaxis": {
            "gridcolor": "white",
            "linecolor": "white",
            "showgrid": true,
            "ticks": ""
           }
          },
          "scene": {
           "xaxis": {
            "backgroundcolor": "rgb(234,234,242)",
            "gridcolor": "white",
            "gridwidth": 2,
            "linecolor": "white",
            "showbackground": true,
            "showgrid": true,
            "ticks": "",
            "zerolinecolor": "white"
           },
           "yaxis": {
            "backgroundcolor": "rgb(234,234,242)",
            "gridcolor": "white",
            "gridwidth": 2,
            "linecolor": "white",
            "showbackground": true,
            "showgrid": true,
            "ticks": "",
            "zerolinecolor": "white"
           },
           "zaxis": {
            "backgroundcolor": "rgb(234,234,242)",
            "gridcolor": "white",
            "gridwidth": 2,
            "linecolor": "white",
            "showbackground": true,
            "showgrid": true,
            "ticks": "",
            "zerolinecolor": "white"
           }
          },
          "shapedefaults": {
           "fillcolor": "rgb(67,103,167)",
           "line": {
            "width": 0
           },
           "opacity": 0.5
          },
          "ternary": {
           "aaxis": {
            "gridcolor": "white",
            "linecolor": "white",
            "showgrid": true,
            "ticks": ""
           },
           "baxis": {
            "gridcolor": "white",
            "linecolor": "white",
            "showgrid": true,
            "ticks": ""
           },
           "bgcolor": "rgb(234,234,242)",
           "caxis": {
            "gridcolor": "white",
            "linecolor": "white",
            "showgrid": true,
            "ticks": ""
           }
          },
          "xaxis": {
           "automargin": true,
           "gridcolor": "white",
           "linecolor": "white",
           "showgrid": true,
           "ticks": "",
           "title": {
            "standoff": 15
           },
           "zerolinecolor": "white"
          },
          "yaxis": {
           "automargin": true,
           "gridcolor": "white",
           "linecolor": "white",
           "showgrid": true,
           "ticks": "",
           "title": {
            "standoff": 15
           },
           "zerolinecolor": "white"
          }
         }
        },
        "title": {
         "text": "Sorted by: loop_flow_from_cz, ascending: False, head: 20"
        },
        "xaxis": {
         "anchor": "y",
         "domain": [
          0,
          1
         ],
         "title": {
          "text": "Flow decomposition value"
         }
        },
        "yaxis": {
         "anchor": "x",
         "domain": [
          0,
          1
         ],
         "title": {
          "text": "xnec_id"
         }
        }
       }
      }
     },
     "metadata": {},
     "output_type": "display_data"
    }
   ],
   "source": [
    "flow_decomposition_bar_chart(f'loop_flow_from_{random.Random(42).choice(list(countries)).alpha_2.lower()}')"
   ]
  },
  {
   "cell_type": "code",
   "execution_count": 16,
   "metadata": {},
   "outputs": [
    {
     "data": {
      "application/vnd.plotly.v1+json": {
       "config": {
        "plotlyServerURL": "https://plot.ly"
       },
       "data": [
        {
         "alignmentgroup": "True",
         "hovertemplate": "Decomposition part:=commercial_flow<br>Flow decomposition value=%{x}<br>xnec_id=%{y}<extra></extra>",
         "legendgroup": "commercial_flow",
         "marker": {
          "color": "#0DF9FF",
          "pattern": {
           "shape": ""
          }
         },
         "name": "commercial_flow",
         "offsetgroup": "commercial_flow",
         "orientation": "h",
         "showlegend": true,
         "textposition": "auto",
         "texttemplate": "%{x:.0f}",
         "type": "bar",
         "x": [
          null,
          null,
          null,
          null,
          null,
          null,
          null,
          null,
          null,
          null,
          null,
          null,
          null,
          null,
          null,
          null,
          null,
          null,
          null,
          null
         ],
         "xaxis": "x",
         "y": [
          "L77-78-1_InitialState",
          "L73-79-1_InitialState",
          "L35-77-1_InitialState",
          "L3-7-1_InitialState",
          "T130-150-1_InitialState",
          "L3-150-1_InitialState",
          "L76-77-1_InitialState",
          "L69-79-1_InitialState",
          "L231-237-1_InitialState",
          "T37-9001-1_InitialState",
          "L43-44-1_InitialState",
          "L9001-9005-1_InitialState",
          "L38-43-1_InitialState",
          "L44-54-1_InitialState",
          "T16-15-1_InitialState",
          "T45-44-1_InitialState",
          "L194-219-1_InitialState",
          "L128-130-1_InitialState",
          "L215-216-1_InitialState",
          "L130-168-1_InitialState"
         ],
         "yaxis": "y"
        },
        {
         "alignmentgroup": "True",
         "hovertemplate": "Decomposition part:=internal_flow<br>Flow decomposition value=%{x}<br>xnec_id=%{y}<extra></extra>",
         "legendgroup": "internal_flow",
         "marker": {
          "color": "#AF0038",
          "pattern": {
           "shape": ""
          }
         },
         "name": "internal_flow",
         "offsetgroup": "internal_flow",
         "orientation": "h",
         "showlegend": true,
         "textposition": "auto",
         "texttemplate": "%{x:.0f}",
         "type": "bar",
         "x": [
          289.54024871575365,
          null,
          null,
          203.55804490618863,
          995.2190166809874,
          null,
          84.63630312033717,
          null,
          310.5742802619552,
          158.1501536911065,
          79.73364235097905,
          100.52812295288831,
          30.96436170306447,
          32.948102998738904,
          331.17918559687035,
          314.59552678140216,
          null,
          651.4288794387418,
          308.740222435542,
          null
         ],
         "xaxis": "x",
         "y": [
          "L77-78-1_InitialState",
          "L73-79-1_InitialState",
          "L35-77-1_InitialState",
          "L3-7-1_InitialState",
          "T130-150-1_InitialState",
          "L3-150-1_InitialState",
          "L76-77-1_InitialState",
          "L69-79-1_InitialState",
          "L231-237-1_InitialState",
          "T37-9001-1_InitialState",
          "L43-44-1_InitialState",
          "L9001-9005-1_InitialState",
          "L38-43-1_InitialState",
          "L44-54-1_InitialState",
          "T16-15-1_InitialState",
          "T45-44-1_InitialState",
          "L194-219-1_InitialState",
          "L128-130-1_InitialState",
          "L215-216-1_InitialState",
          "L130-168-1_InitialState"
         ],
         "yaxis": "y"
        },
        {
         "alignmentgroup": "True",
         "hovertemplate": "Decomposition part:=loop_flow_from_bg<br>Flow decomposition value=%{x}<br>xnec_id=%{y}<extra></extra>",
         "legendgroup": "loop_flow_from_bg",
         "marker": {
          "color": "#FD3216",
          "pattern": {
           "shape": ""
          }
         },
         "name": "loop_flow_from_bg",
         "offsetgroup": "loop_flow_from_bg",
         "orientation": "h",
         "showlegend": true,
         "textposition": "auto",
         "texttemplate": "%{x:.0f}",
         "type": "bar",
         "x": [
          null,
          62.071303698271294,
          73.63057245669484,
          -52.66948587680667,
          null,
          null,
          null,
          7.938336223844468,
          null,
          null,
          -31.985357305463506,
          null,
          -26.000471659307706,
          -23.801529035332866,
          null,
          null,
          null,
          null,
          null,
          null
         ],
         "xaxis": "x",
         "y": [
          "L77-78-1_InitialState",
          "L73-79-1_InitialState",
          "L35-77-1_InitialState",
          "L3-7-1_InitialState",
          "T130-150-1_InitialState",
          "L3-150-1_InitialState",
          "L76-77-1_InitialState",
          "L69-79-1_InitialState",
          "L231-237-1_InitialState",
          "T37-9001-1_InitialState",
          "L43-44-1_InitialState",
          "L9001-9005-1_InitialState",
          "L38-43-1_InitialState",
          "L44-54-1_InitialState",
          "T16-15-1_InitialState",
          "T45-44-1_InitialState",
          "L194-219-1_InitialState",
          "L128-130-1_InitialState",
          "L215-216-1_InitialState",
          "L130-168-1_InitialState"
         ],
         "yaxis": "y"
        },
        {
         "alignmentgroup": "True",
         "hovertemplate": "Decomposition part:=loop_flow_from_cz<br>Flow decomposition value=%{x}<br>xnec_id=%{y}<extra></extra>",
         "legendgroup": "loop_flow_from_cz",
         "marker": {
          "color": "#00A08B",
          "pattern": {
           "shape": ""
          }
         },
         "name": "loop_flow_from_cz",
         "offsetgroup": "loop_flow_from_cz",
         "orientation": "h",
         "showlegend": true,
         "textposition": "auto",
         "texttemplate": "%{x:.0f}",
         "type": "bar",
         "x": [
          -19.632030468124285,
          -19.17510346228602,
          null,
          null,
          null,
          null,
          null,
          null,
          null,
          null,
          null,
          null,
          null,
          null,
          null,
          null,
          null,
          null,
          null,
          null
         ],
         "xaxis": "x",
         "y": [
          "L77-78-1_InitialState",
          "L73-79-1_InitialState",
          "L35-77-1_InitialState",
          "L3-7-1_InitialState",
          "T130-150-1_InitialState",
          "L3-150-1_InitialState",
          "L76-77-1_InitialState",
          "L69-79-1_InitialState",
          "L231-237-1_InitialState",
          "T37-9001-1_InitialState",
          "L43-44-1_InitialState",
          "L9001-9005-1_InitialState",
          "L38-43-1_InitialState",
          "L44-54-1_InitialState",
          "T16-15-1_InitialState",
          "T45-44-1_InitialState",
          "L194-219-1_InitialState",
          "L128-130-1_InitialState",
          "L215-216-1_InitialState",
          "L130-168-1_InitialState"
         ],
         "yaxis": "y"
        },
        {
         "alignmentgroup": "True",
         "hovertemplate": "Decomposition part:=loop_flow_from_dk<br>Flow decomposition value=%{x}<br>xnec_id=%{y}<extra></extra>",
         "legendgroup": "loop_flow_from_dk",
         "marker": {
          "color": "#6C4516",
          "pattern": {
           "shape": ""
          }
         },
         "name": "loop_flow_from_dk",
         "offsetgroup": "loop_flow_from_dk",
         "orientation": "h",
         "showlegend": true,
         "textposition": "auto",
         "texttemplate": "%{x:.0f}",
         "type": "bar",
         "x": [
          -29.464549922549985,
          -90.03766807431802,
          -46.336586202903135,
          -119.45808582163872,
          -805.2344943982332,
          -805.234494398233,
          -38.238256843576806,
          34.899377331504745,
          318.8530286610301,
          270.51674225244767,
          null,
          216.4133938019695,
          -11.674848361529254,
          -6.764005605092088,
          123.0048423061535,
          107.82803654553982,
          338.6815176678717,
          -347.8227043202974,
          null,
          -343.7025793126504
         ],
         "xaxis": "x",
         "y": [
          "L77-78-1_InitialState",
          "L73-79-1_InitialState",
          "L35-77-1_InitialState",
          "L3-7-1_InitialState",
          "T130-150-1_InitialState",
          "L3-150-1_InitialState",
          "L76-77-1_InitialState",
          "L69-79-1_InitialState",
          "L231-237-1_InitialState",
          "T37-9001-1_InitialState",
          "L43-44-1_InitialState",
          "L9001-9005-1_InitialState",
          "L38-43-1_InitialState",
          "L44-54-1_InitialState",
          "T16-15-1_InitialState",
          "T45-44-1_InitialState",
          "L194-219-1_InitialState",
          "L128-130-1_InitialState",
          "L215-216-1_InitialState",
          "L130-168-1_InitialState"
         ],
         "yaxis": "y"
        },
        {
         "alignmentgroup": "True",
         "hovertemplate": "Decomposition part:=loop_flow_from_ee<br>Flow decomposition value=%{x}<br>xnec_id=%{y}<extra></extra>",
         "legendgroup": "loop_flow_from_ee",
         "marker": {
          "color": "#511CFB",
          "pattern": {
           "shape": ""
          }
         },
         "name": "loop_flow_from_ee",
         "offsetgroup": "loop_flow_from_ee",
         "orientation": "h",
         "showlegend": true,
         "textposition": "auto",
         "texttemplate": "%{x:.0f}",
         "type": "bar",
         "x": [
          null,
          -18.58183621367655,
          null,
          null,
          null,
          null,
          null,
          12.289467724311546,
          null,
          null,
          -10.948623012047413,
          null,
          -8.572998506025678,
          -8.59656787890701,
          null,
          null,
          null,
          null,
          -68.61660950893378,
          null
         ],
         "xaxis": "x",
         "y": [
          "L77-78-1_InitialState",
          "L73-79-1_InitialState",
          "L35-77-1_InitialState",
          "L3-7-1_InitialState",
          "T130-150-1_InitialState",
          "L3-150-1_InitialState",
          "L76-77-1_InitialState",
          "L69-79-1_InitialState",
          "L231-237-1_InitialState",
          "T37-9001-1_InitialState",
          "L43-44-1_InitialState",
          "L9001-9005-1_InitialState",
          "L38-43-1_InitialState",
          "L44-54-1_InitialState",
          "T16-15-1_InitialState",
          "T45-44-1_InitialState",
          "L194-219-1_InitialState",
          "L128-130-1_InitialState",
          "L215-216-1_InitialState",
          "L130-168-1_InitialState"
         ],
         "yaxis": "y"
        },
        {
         "alignmentgroup": "True",
         "hovertemplate": "Decomposition part:=loop_flow_from_fr<br>Flow decomposition value=%{x}<br>xnec_id=%{y}<extra></extra>",
         "legendgroup": "loop_flow_from_fr",
         "marker": {
          "color": "#F6F926",
          "pattern": {
           "shape": ""
          }
         },
         "name": "loop_flow_from_fr",
         "offsetgroup": "loop_flow_from_fr",
         "orientation": "h",
         "showlegend": true,
         "textposition": "auto",
         "texttemplate": "%{x:.0f}",
         "type": "bar",
         "x": [
          null,
          38.44106209985233,
          13.316039110444706,
          60.349837915409466,
          161.56823590026073,
          161.56823590026085,
          13.404212913119416,
          -17.536845781872017,
          null,
          null,
          18.062774280209087,
          null,
          8.859815240549395,
          24.1568292142621,
          null,
          null,
          -184.07457543243765,
          73.92678520393949,
          -55.54517577996033,
          73.05108734790421
         ],
         "xaxis": "x",
         "y": [
          "L77-78-1_InitialState",
          "L73-79-1_InitialState",
          "L35-77-1_InitialState",
          "L3-7-1_InitialState",
          "T130-150-1_InitialState",
          "L3-150-1_InitialState",
          "L76-77-1_InitialState",
          "L69-79-1_InitialState",
          "L231-237-1_InitialState",
          "T37-9001-1_InitialState",
          "L43-44-1_InitialState",
          "L9001-9005-1_InitialState",
          "L38-43-1_InitialState",
          "L44-54-1_InitialState",
          "T16-15-1_InitialState",
          "T45-44-1_InitialState",
          "L194-219-1_InitialState",
          "L128-130-1_InitialState",
          "L215-216-1_InitialState",
          "L130-168-1_InitialState"
         ],
         "yaxis": "y"
        },
        {
         "alignmentgroup": "True",
         "hovertemplate": "Decomposition part:=loop_flow_from_hu<br>Flow decomposition value=%{x}<br>xnec_id=%{y}<extra></extra>",
         "legendgroup": "loop_flow_from_hu",
         "marker": {
          "color": "#C9FBE5",
          "pattern": {
           "shape": ""
          }
         },
         "name": "loop_flow_from_hu",
         "offsetgroup": "loop_flow_from_hu",
         "orientation": "h",
         "showlegend": true,
         "textposition": "auto",
         "texttemplate": "%{x:.0f}",
         "type": "bar",
         "x": [
          26.944895468293712,
          85.45014631854812,
          43.06162110025674,
          228.319052187171,
          null,
          995.2190166809877,
          35.98583114684113,
          -32.36791088294639,
          -301.2859469019339,
          -255.7673469387518,
          26.749610938502673,
          -204.61387755102342,
          25.794424116935545,
          14.800788115559707,
          -85.83544527452808,
          -72.36675624369819,
          -318.56497444142457,
          null,
          null,
          643.7123951967945
         ],
         "xaxis": "x",
         "y": [
          "L77-78-1_InitialState",
          "L73-79-1_InitialState",
          "L35-77-1_InitialState",
          "L3-7-1_InitialState",
          "T130-150-1_InitialState",
          "L3-150-1_InitialState",
          "L76-77-1_InitialState",
          "L69-79-1_InitialState",
          "L231-237-1_InitialState",
          "T37-9001-1_InitialState",
          "L43-44-1_InitialState",
          "L9001-9005-1_InitialState",
          "L38-43-1_InitialState",
          "L44-54-1_InitialState",
          "T16-15-1_InitialState",
          "T45-44-1_InitialState",
          "L194-219-1_InitialState",
          "L128-130-1_InitialState",
          "L215-216-1_InitialState",
          "L130-168-1_InitialState"
         ],
         "yaxis": "y"
        },
        {
         "alignmentgroup": "True",
         "hovertemplate": "Decomposition part:=loop_flow_from_ie<br>Flow decomposition value=%{x}<br>xnec_id=%{y}<extra></extra>",
         "legendgroup": "loop_flow_from_ie",
         "marker": {
          "color": "#FC0080",
          "pattern": {
           "shape": ""
          }
         },
         "name": "loop_flow_from_ie",
         "offsetgroup": "loop_flow_from_ie",
         "orientation": "h",
         "showlegend": true,
         "textposition": "auto",
         "texttemplate": "%{x:.0f}",
         "type": "bar",
         "x": [
          null,
          null,
          null,
          null,
          null,
          null,
          null,
          null,
          null,
          null,
          null,
          null,
          null,
          null,
          null,
          null,
          null,
          null,
          null,
          null
         ],
         "xaxis": "x",
         "y": [
          "L77-78-1_InitialState",
          "L73-79-1_InitialState",
          "L35-77-1_InitialState",
          "L3-7-1_InitialState",
          "T130-150-1_InitialState",
          "L3-150-1_InitialState",
          "L76-77-1_InitialState",
          "L69-79-1_InitialState",
          "L231-237-1_InitialState",
          "T37-9001-1_InitialState",
          "L43-44-1_InitialState",
          "L9001-9005-1_InitialState",
          "L38-43-1_InitialState",
          "L44-54-1_InitialState",
          "T16-15-1_InitialState",
          "T45-44-1_InitialState",
          "L194-219-1_InitialState",
          "L128-130-1_InitialState",
          "L215-216-1_InitialState",
          "L130-168-1_InitialState"
         ],
         "yaxis": "y"
        },
        {
         "alignmentgroup": "True",
         "hovertemplate": "Decomposition part:=loop_flow_from_lt<br>Flow decomposition value=%{x}<br>xnec_id=%{y}<extra></extra>",
         "legendgroup": "loop_flow_from_lt",
         "marker": {
          "color": "#FB0D0D",
          "pattern": {
           "shape": ""
          }
         },
         "name": "loop_flow_from_lt",
         "offsetgroup": "loop_flow_from_lt",
         "orientation": "h",
         "showlegend": true,
         "textposition": "auto",
         "texttemplate": "%{x:.0f}",
         "type": "bar",
         "x": [
          null,
          -20.860962865395287,
          -17.266817491540223,
          null,
          -159.14264076334035,
          -159.1426407633405,
          -11.287175044526236,
          10.13322493641349,
          102.49906523366732,
          null,
          null,
          null,
          null,
          null,
          null,
          null,
          151.84607362153324,
          -88.7723721335862,
          null,
          -87.72082125472554
         ],
         "xaxis": "x",
         "y": [
          "L77-78-1_InitialState",
          "L73-79-1_InitialState",
          "L35-77-1_InitialState",
          "L3-7-1_InitialState",
          "T130-150-1_InitialState",
          "L3-150-1_InitialState",
          "L76-77-1_InitialState",
          "L69-79-1_InitialState",
          "L231-237-1_InitialState",
          "T37-9001-1_InitialState",
          "L43-44-1_InitialState",
          "L9001-9005-1_InitialState",
          "L38-43-1_InitialState",
          "L44-54-1_InitialState",
          "T16-15-1_InitialState",
          "T45-44-1_InitialState",
          "L194-219-1_InitialState",
          "L128-130-1_InitialState",
          "L215-216-1_InitialState",
          "L130-168-1_InitialState"
         ],
         "yaxis": "y"
        },
        {
         "alignmentgroup": "True",
         "hovertemplate": "Decomposition part:=loop_flow_from_lu<br>Flow decomposition value=%{x}<br>xnec_id=%{y}<extra></extra>",
         "legendgroup": "loop_flow_from_lu",
         "marker": {
          "color": "#D626FF",
          "pattern": {
           "shape": ""
          }
         },
         "name": "loop_flow_from_lu",
         "offsetgroup": "loop_flow_from_lu",
         "orientation": "h",
         "showlegend": true,
         "textposition": "auto",
         "texttemplate": "%{x:.0f}",
         "type": "bar",
         "x": [
          null,
          null,
          null,
          -48.864306184057654,
          null,
          null,
          null,
          null,
          null,
          null,
          -9.61297256904022,
          null,
          -14.674275000631587,
          -13.765819864063038,
          null,
          null,
          108.23417826421903,
          null,
          null,
          null
         ],
         "xaxis": "x",
         "y": [
          "L77-78-1_InitialState",
          "L73-79-1_InitialState",
          "L35-77-1_InitialState",
          "L3-7-1_InitialState",
          "T130-150-1_InitialState",
          "L3-150-1_InitialState",
          "L76-77-1_InitialState",
          "L69-79-1_InitialState",
          "L231-237-1_InitialState",
          "T37-9001-1_InitialState",
          "L43-44-1_InitialState",
          "L9001-9005-1_InitialState",
          "L38-43-1_InitialState",
          "L44-54-1_InitialState",
          "T16-15-1_InitialState",
          "T45-44-1_InitialState",
          "L194-219-1_InitialState",
          "L128-130-1_InitialState",
          "L215-216-1_InitialState",
          "L130-168-1_InitialState"
         ],
         "yaxis": "y"
        },
        {
         "alignmentgroup": "True",
         "hovertemplate": "Decomposition part:=pst_flow<br>Flow decomposition value=%{x}<br>xnec_id=%{y}<extra></extra>",
         "legendgroup": "pst_flow",
         "marker": {
          "color": "#DA16FF",
          "pattern": {
           "shape": ""
          }
         },
         "name": "pst_flow",
         "offsetgroup": "pst_flow",
         "orientation": "h",
         "showlegend": true,
         "textposition": "auto",
         "texttemplate": "%{x:.0f}",
         "type": "bar",
         "x": [
          null,
          null,
          null,
          null,
          null,
          null,
          null,
          null,
          null,
          null,
          null,
          null,
          null,
          null,
          null,
          null,
          null,
          null,
          null,
          null
         ],
         "xaxis": "x",
         "y": [
          "L77-78-1_InitialState",
          "L73-79-1_InitialState",
          "L35-77-1_InitialState",
          "L3-7-1_InitialState",
          "T130-150-1_InitialState",
          "L3-150-1_InitialState",
          "L76-77-1_InitialState",
          "L69-79-1_InitialState",
          "L231-237-1_InitialState",
          "T37-9001-1_InitialState",
          "L43-44-1_InitialState",
          "L9001-9005-1_InitialState",
          "L38-43-1_InitialState",
          "L44-54-1_InitialState",
          "T16-15-1_InitialState",
          "T45-44-1_InitialState",
          "L194-219-1_InitialState",
          "L128-130-1_InitialState",
          "L215-216-1_InitialState",
          "L130-168-1_InitialState"
         ],
         "yaxis": "y"
        },
        {
         "alignmentgroup": "True",
         "hovertemplate": "Decomposition part:=masked_flows_positive<br>Flow decomposition value=%{x}<br>xnec_id=%{y}<extra></extra>",
         "legendgroup": "masked_flows_positive",
         "marker": {
          "color": "#86CE00",
          "pattern": {
           "shape": ""
          }
         },
         "name": "masked_flows_positive",
         "offsetgroup": "masked_flows_positive",
         "orientation": "h",
         "showlegend": true,
         "textposition": "auto",
         "texttemplate": "%{x:.0f}",
         "type": "bar",
         "x": [
          4.910669162294314,
          0,
          1.571929775884484,
          0,
          0,
          0,
          0,
          3.779166828627848,
          50.3154525631441,
          0,
          0,
          0,
          0,
          0,
          3.238197980265298,
          17.722617431105952,
          31.299689722825384,
          0,
          0,
          0
         ],
         "xaxis": "x",
         "y": [
          "L77-78-1_InitialState",
          "L73-79-1_InitialState",
          "L35-77-1_InitialState",
          "L3-7-1_InitialState",
          "T130-150-1_InitialState",
          "L3-150-1_InitialState",
          "L76-77-1_InitialState",
          "L69-79-1_InitialState",
          "L231-237-1_InitialState",
          "T37-9001-1_InitialState",
          "L43-44-1_InitialState",
          "L9001-9005-1_InitialState",
          "L38-43-1_InitialState",
          "L44-54-1_InitialState",
          "T16-15-1_InitialState",
          "T45-44-1_InitialState",
          "L194-219-1_InitialState",
          "L128-130-1_InitialState",
          "L215-216-1_InitialState",
          "L130-168-1_InitialState"
         ],
         "yaxis": "y"
        },
        {
         "alignmentgroup": "True",
         "hovertemplate": "Decomposition part:=masked_flows_negative<br>Flow decomposition value=%{x}<br>xnec_id=%{y}<extra></extra>",
         "legendgroup": "masked_flows_negative",
         "marker": {
          "color": "#6A76FC",
          "pattern": {
           "shape": ""
          }
         },
         "name": "masked_flows_negative",
         "offsetgroup": "masked_flows_negative",
         "orientation": "h",
         "showlegend": true,
         "textposition": "auto",
         "texttemplate": "%{x:.0f}",
         "type": "bar",
         "x": [
          -15.686413645822348,
          -5.148166173142438,
          -17.27873641560237,
          -28.47243040818033,
          -166.73750354214613,
          -166.73750354214621,
          -12.587610589967102,
          -4.722974386999297,
          -52.708066458697985,
          -99.74367598891624,
          -12.367497704745634,
          -79.79494079113141,
          -2.666156113677786,
          -2.485726068248672,
          -32.07673332609842,
          -30.882463035463925,
          -34.79781524288047,
          -64.13172553053187,
          -24.316512942132025,
          -63.37205480501599
         ],
         "xaxis": "x",
         "y": [
          "L77-78-1_InitialState",
          "L73-79-1_InitialState",
          "L35-77-1_InitialState",
          "L3-7-1_InitialState",
          "T130-150-1_InitialState",
          "L3-150-1_InitialState",
          "L76-77-1_InitialState",
          "L69-79-1_InitialState",
          "L231-237-1_InitialState",
          "T37-9001-1_InitialState",
          "L43-44-1_InitialState",
          "L9001-9005-1_InitialState",
          "L38-43-1_InitialState",
          "L44-54-1_InitialState",
          "T16-15-1_InitialState",
          "T45-44-1_InitialState",
          "L194-219-1_InitialState",
          "L128-130-1_InitialState",
          "L215-216-1_InitialState",
          "L130-168-1_InitialState"
         ],
         "yaxis": "y"
        },
        {
         "mode": "lines+markers",
         "name": "total_flow",
         "type": "scatter",
         "x": [
          256.61281930984507,
          32.158775327853434,
          50.69802233323503,
          242.76262671808573,
          25.67261387752845,
          25.672613877528903,
          71.91330470222756,
          14.411841992884394,
          428.2478133591649,
          73.15587301588613,
          59.63157697839402,
          32.532698412702956,
          2.0298514193773958,
          16.492071876917038,
          339.5100472826627,
          336.8969614788858,
          92.62409415970666,
          224.6288626582658,
          160.2619242045159,
          221.9680271723068
         ],
         "y": [
          "L77-78-1_InitialState",
          "L73-79-1_InitialState",
          "L35-77-1_InitialState",
          "L3-7-1_InitialState",
          "T130-150-1_InitialState",
          "L3-150-1_InitialState",
          "L76-77-1_InitialState",
          "L69-79-1_InitialState",
          "L231-237-1_InitialState",
          "T37-9001-1_InitialState",
          "L43-44-1_InitialState",
          "L9001-9005-1_InitialState",
          "L38-43-1_InitialState",
          "L44-54-1_InitialState",
          "T16-15-1_InitialState",
          "T45-44-1_InitialState",
          "L194-219-1_InitialState",
          "L128-130-1_InitialState",
          "L215-216-1_InitialState",
          "L130-168-1_InitialState"
         ]
        },
        {
         "mode": "lines+markers",
         "name": "total_loop_flow",
         "type": "scatter",
         "x": [
          -32.92742940590859,
          32.158775327853434,
          50.69802233323503,
          39.2045818118971,
          -969.546402803459,
          25.672613877528903,
          -12.7229984181096,
          14.411841992884394,
          117.67353309720963,
          -84.99428067522041,
          -20.10206537258501,
          -67.99542454018533,
          -28.934510283687075,
          -16.456031121821866,
          8.33086168579231,
          22.301434697483643,
          92.62409415970666,
          -426.80001678047597,
          -148.47829823102612,
          221.9680271723068
         ],
         "y": [
          "L77-78-1_InitialState",
          "L73-79-1_InitialState",
          "L35-77-1_InitialState",
          "L3-7-1_InitialState",
          "T130-150-1_InitialState",
          "L3-150-1_InitialState",
          "L76-77-1_InitialState",
          "L69-79-1_InitialState",
          "L231-237-1_InitialState",
          "T37-9001-1_InitialState",
          "L43-44-1_InitialState",
          "L9001-9005-1_InitialState",
          "L38-43-1_InitialState",
          "L44-54-1_InitialState",
          "T16-15-1_InitialState",
          "T45-44-1_InitialState",
          "L194-219-1_InitialState",
          "L128-130-1_InitialState",
          "L215-216-1_InitialState",
          "L130-168-1_InitialState"
         ]
        }
       ],
       "layout": {
        "barmode": "relative",
        "height": 1000,
        "legend": {
         "title": {
          "text": "Decomposition part:"
         },
         "tracegroupgap": 0
        },
        "template": {
         "data": {
          "bar": [
           {
            "error_x": {
             "color": "rgb(36,36,36)"
            },
            "error_y": {
             "color": "rgb(36,36,36)"
            },
            "marker": {
             "line": {
              "color": "rgb(234,234,242)",
              "width": 0.5
             },
             "pattern": {
              "fillmode": "overlay",
              "size": 10,
              "solidity": 0.2
             }
            },
            "type": "bar"
           }
          ],
          "barpolar": [
           {
            "marker": {
             "line": {
              "color": "rgb(234,234,242)",
              "width": 0.5
             },
             "pattern": {
              "fillmode": "overlay",
              "size": 10,
              "solidity": 0.2
             }
            },
            "type": "barpolar"
           }
          ],
          "carpet": [
           {
            "aaxis": {
             "endlinecolor": "rgb(36,36,36)",
             "gridcolor": "white",
             "linecolor": "white",
             "minorgridcolor": "white",
             "startlinecolor": "rgb(36,36,36)"
            },
            "baxis": {
             "endlinecolor": "rgb(36,36,36)",
             "gridcolor": "white",
             "linecolor": "white",
             "minorgridcolor": "white",
             "startlinecolor": "rgb(36,36,36)"
            },
            "type": "carpet"
           }
          ],
          "choropleth": [
           {
            "colorbar": {
             "outlinewidth": 0,
             "tickcolor": "rgb(36,36,36)",
             "ticklen": 8,
             "ticks": "outside",
             "tickwidth": 2
            },
            "type": "choropleth"
           }
          ],
          "contour": [
           {
            "colorbar": {
             "outlinewidth": 0,
             "tickcolor": "rgb(36,36,36)",
             "ticklen": 8,
             "ticks": "outside",
             "tickwidth": 2
            },
            "colorscale": [
             [
              0,
              "rgb(2,4,25)"
             ],
             [
              0.06274509803921569,
              "rgb(24,15,41)"
             ],
             [
              0.12549019607843137,
              "rgb(47,23,57)"
             ],
             [
              0.18823529411764706,
              "rgb(71,28,72)"
             ],
             [
              0.25098039215686274,
              "rgb(97,30,82)"
             ],
             [
              0.3137254901960784,
              "rgb(123,30,89)"
             ],
             [
              0.3764705882352941,
              "rgb(150,27,91)"
             ],
             [
              0.4392156862745098,
              "rgb(177,22,88)"
             ],
             [
              0.5019607843137255,
              "rgb(203,26,79)"
             ],
             [
              0.5647058823529412,
              "rgb(223,47,67)"
             ],
             [
              0.6274509803921569,
              "rgb(236,76,61)"
             ],
             [
              0.6901960784313725,
              "rgb(242,107,73)"
             ],
             [
              0.7529411764705882,
              "rgb(244,135,95)"
             ],
             [
              0.8156862745098039,
              "rgb(245,162,122)"
             ],
             [
              0.8784313725490196,
              "rgb(246,188,153)"
             ],
             [
              0.9411764705882353,
              "rgb(247,212,187)"
             ],
             [
              1,
              "rgb(250,234,220)"
             ]
            ],
            "type": "contour"
           }
          ],
          "contourcarpet": [
           {
            "colorbar": {
             "outlinewidth": 0,
             "tickcolor": "rgb(36,36,36)",
             "ticklen": 8,
             "ticks": "outside",
             "tickwidth": 2
            },
            "type": "contourcarpet"
           }
          ],
          "heatmap": [
           {
            "colorbar": {
             "outlinewidth": 0,
             "tickcolor": "rgb(36,36,36)",
             "ticklen": 8,
             "ticks": "outside",
             "tickwidth": 2
            },
            "colorscale": [
             [
              0,
              "rgb(2,4,25)"
             ],
             [
              0.06274509803921569,
              "rgb(24,15,41)"
             ],
             [
              0.12549019607843137,
              "rgb(47,23,57)"
             ],
             [
              0.18823529411764706,
              "rgb(71,28,72)"
             ],
             [
              0.25098039215686274,
              "rgb(97,30,82)"
             ],
             [
              0.3137254901960784,
              "rgb(123,30,89)"
             ],
             [
              0.3764705882352941,
              "rgb(150,27,91)"
             ],
             [
              0.4392156862745098,
              "rgb(177,22,88)"
             ],
             [
              0.5019607843137255,
              "rgb(203,26,79)"
             ],
             [
              0.5647058823529412,
              "rgb(223,47,67)"
             ],
             [
              0.6274509803921569,
              "rgb(236,76,61)"
             ],
             [
              0.6901960784313725,
              "rgb(242,107,73)"
             ],
             [
              0.7529411764705882,
              "rgb(244,135,95)"
             ],
             [
              0.8156862745098039,
              "rgb(245,162,122)"
             ],
             [
              0.8784313725490196,
              "rgb(246,188,153)"
             ],
             [
              0.9411764705882353,
              "rgb(247,212,187)"
             ],
             [
              1,
              "rgb(250,234,220)"
             ]
            ],
            "type": "heatmap"
           }
          ],
          "heatmapgl": [
           {
            "colorbar": {
             "outlinewidth": 0,
             "tickcolor": "rgb(36,36,36)",
             "ticklen": 8,
             "ticks": "outside",
             "tickwidth": 2
            },
            "colorscale": [
             [
              0,
              "rgb(2,4,25)"
             ],
             [
              0.06274509803921569,
              "rgb(24,15,41)"
             ],
             [
              0.12549019607843137,
              "rgb(47,23,57)"
             ],
             [
              0.18823529411764706,
              "rgb(71,28,72)"
             ],
             [
              0.25098039215686274,
              "rgb(97,30,82)"
             ],
             [
              0.3137254901960784,
              "rgb(123,30,89)"
             ],
             [
              0.3764705882352941,
              "rgb(150,27,91)"
             ],
             [
              0.4392156862745098,
              "rgb(177,22,88)"
             ],
             [
              0.5019607843137255,
              "rgb(203,26,79)"
             ],
             [
              0.5647058823529412,
              "rgb(223,47,67)"
             ],
             [
              0.6274509803921569,
              "rgb(236,76,61)"
             ],
             [
              0.6901960784313725,
              "rgb(242,107,73)"
             ],
             [
              0.7529411764705882,
              "rgb(244,135,95)"
             ],
             [
              0.8156862745098039,
              "rgb(245,162,122)"
             ],
             [
              0.8784313725490196,
              "rgb(246,188,153)"
             ],
             [
              0.9411764705882353,
              "rgb(247,212,187)"
             ],
             [
              1,
              "rgb(250,234,220)"
             ]
            ],
            "type": "heatmapgl"
           }
          ],
          "histogram": [
           {
            "marker": {
             "pattern": {
              "fillmode": "overlay",
              "size": 10,
              "solidity": 0.2
             }
            },
            "type": "histogram"
           }
          ],
          "histogram2d": [
           {
            "colorbar": {
             "outlinewidth": 0,
             "tickcolor": "rgb(36,36,36)",
             "ticklen": 8,
             "ticks": "outside",
             "tickwidth": 2
            },
            "colorscale": [
             [
              0,
              "rgb(2,4,25)"
             ],
             [
              0.06274509803921569,
              "rgb(24,15,41)"
             ],
             [
              0.12549019607843137,
              "rgb(47,23,57)"
             ],
             [
              0.18823529411764706,
              "rgb(71,28,72)"
             ],
             [
              0.25098039215686274,
              "rgb(97,30,82)"
             ],
             [
              0.3137254901960784,
              "rgb(123,30,89)"
             ],
             [
              0.3764705882352941,
              "rgb(150,27,91)"
             ],
             [
              0.4392156862745098,
              "rgb(177,22,88)"
             ],
             [
              0.5019607843137255,
              "rgb(203,26,79)"
             ],
             [
              0.5647058823529412,
              "rgb(223,47,67)"
             ],
             [
              0.6274509803921569,
              "rgb(236,76,61)"
             ],
             [
              0.6901960784313725,
              "rgb(242,107,73)"
             ],
             [
              0.7529411764705882,
              "rgb(244,135,95)"
             ],
             [
              0.8156862745098039,
              "rgb(245,162,122)"
             ],
             [
              0.8784313725490196,
              "rgb(246,188,153)"
             ],
             [
              0.9411764705882353,
              "rgb(247,212,187)"
             ],
             [
              1,
              "rgb(250,234,220)"
             ]
            ],
            "type": "histogram2d"
           }
          ],
          "histogram2dcontour": [
           {
            "colorbar": {
             "outlinewidth": 0,
             "tickcolor": "rgb(36,36,36)",
             "ticklen": 8,
             "ticks": "outside",
             "tickwidth": 2
            },
            "colorscale": [
             [
              0,
              "rgb(2,4,25)"
             ],
             [
              0.06274509803921569,
              "rgb(24,15,41)"
             ],
             [
              0.12549019607843137,
              "rgb(47,23,57)"
             ],
             [
              0.18823529411764706,
              "rgb(71,28,72)"
             ],
             [
              0.25098039215686274,
              "rgb(97,30,82)"
             ],
             [
              0.3137254901960784,
              "rgb(123,30,89)"
             ],
             [
              0.3764705882352941,
              "rgb(150,27,91)"
             ],
             [
              0.4392156862745098,
              "rgb(177,22,88)"
             ],
             [
              0.5019607843137255,
              "rgb(203,26,79)"
             ],
             [
              0.5647058823529412,
              "rgb(223,47,67)"
             ],
             [
              0.6274509803921569,
              "rgb(236,76,61)"
             ],
             [
              0.6901960784313725,
              "rgb(242,107,73)"
             ],
             [
              0.7529411764705882,
              "rgb(244,135,95)"
             ],
             [
              0.8156862745098039,
              "rgb(245,162,122)"
             ],
             [
              0.8784313725490196,
              "rgb(246,188,153)"
             ],
             [
              0.9411764705882353,
              "rgb(247,212,187)"
             ],
             [
              1,
              "rgb(250,234,220)"
             ]
            ],
            "type": "histogram2dcontour"
           }
          ],
          "mesh3d": [
           {
            "colorbar": {
             "outlinewidth": 0,
             "tickcolor": "rgb(36,36,36)",
             "ticklen": 8,
             "ticks": "outside",
             "tickwidth": 2
            },
            "type": "mesh3d"
           }
          ],
          "parcoords": [
           {
            "line": {
             "colorbar": {
              "outlinewidth": 0,
              "tickcolor": "rgb(36,36,36)",
              "ticklen": 8,
              "ticks": "outside",
              "tickwidth": 2
             }
            },
            "type": "parcoords"
           }
          ],
          "pie": [
           {
            "automargin": true,
            "type": "pie"
           }
          ],
          "scatter": [
           {
            "fillpattern": {
             "fillmode": "overlay",
             "size": 10,
             "solidity": 0.2
            },
            "type": "scatter"
           }
          ],
          "scatter3d": [
           {
            "line": {
             "colorbar": {
              "outlinewidth": 0,
              "tickcolor": "rgb(36,36,36)",
              "ticklen": 8,
              "ticks": "outside",
              "tickwidth": 2
             }
            },
            "marker": {
             "colorbar": {
              "outlinewidth": 0,
              "tickcolor": "rgb(36,36,36)",
              "ticklen": 8,
              "ticks": "outside",
              "tickwidth": 2
             }
            },
            "type": "scatter3d"
           }
          ],
          "scattercarpet": [
           {
            "marker": {
             "colorbar": {
              "outlinewidth": 0,
              "tickcolor": "rgb(36,36,36)",
              "ticklen": 8,
              "ticks": "outside",
              "tickwidth": 2
             }
            },
            "type": "scattercarpet"
           }
          ],
          "scattergeo": [
           {
            "marker": {
             "colorbar": {
              "outlinewidth": 0,
              "tickcolor": "rgb(36,36,36)",
              "ticklen": 8,
              "ticks": "outside",
              "tickwidth": 2
             }
            },
            "type": "scattergeo"
           }
          ],
          "scattergl": [
           {
            "marker": {
             "colorbar": {
              "outlinewidth": 0,
              "tickcolor": "rgb(36,36,36)",
              "ticklen": 8,
              "ticks": "outside",
              "tickwidth": 2
             }
            },
            "type": "scattergl"
           }
          ],
          "scattermapbox": [
           {
            "marker": {
             "colorbar": {
              "outlinewidth": 0,
              "tickcolor": "rgb(36,36,36)",
              "ticklen": 8,
              "ticks": "outside",
              "tickwidth": 2
             }
            },
            "type": "scattermapbox"
           }
          ],
          "scatterpolar": [
           {
            "marker": {
             "colorbar": {
              "outlinewidth": 0,
              "tickcolor": "rgb(36,36,36)",
              "ticklen": 8,
              "ticks": "outside",
              "tickwidth": 2
             }
            },
            "type": "scatterpolar"
           }
          ],
          "scatterpolargl": [
           {
            "marker": {
             "colorbar": {
              "outlinewidth": 0,
              "tickcolor": "rgb(36,36,36)",
              "ticklen": 8,
              "ticks": "outside",
              "tickwidth": 2
             }
            },
            "type": "scatterpolargl"
           }
          ],
          "scatterternary": [
           {
            "marker": {
             "colorbar": {
              "outlinewidth": 0,
              "tickcolor": "rgb(36,36,36)",
              "ticklen": 8,
              "ticks": "outside",
              "tickwidth": 2
             }
            },
            "type": "scatterternary"
           }
          ],
          "surface": [
           {
            "colorbar": {
             "outlinewidth": 0,
             "tickcolor": "rgb(36,36,36)",
             "ticklen": 8,
             "ticks": "outside",
             "tickwidth": 2
            },
            "colorscale": [
             [
              0,
              "rgb(2,4,25)"
             ],
             [
              0.06274509803921569,
              "rgb(24,15,41)"
             ],
             [
              0.12549019607843137,
              "rgb(47,23,57)"
             ],
             [
              0.18823529411764706,
              "rgb(71,28,72)"
             ],
             [
              0.25098039215686274,
              "rgb(97,30,82)"
             ],
             [
              0.3137254901960784,
              "rgb(123,30,89)"
             ],
             [
              0.3764705882352941,
              "rgb(150,27,91)"
             ],
             [
              0.4392156862745098,
              "rgb(177,22,88)"
             ],
             [
              0.5019607843137255,
              "rgb(203,26,79)"
             ],
             [
              0.5647058823529412,
              "rgb(223,47,67)"
             ],
             [
              0.6274509803921569,
              "rgb(236,76,61)"
             ],
             [
              0.6901960784313725,
              "rgb(242,107,73)"
             ],
             [
              0.7529411764705882,
              "rgb(244,135,95)"
             ],
             [
              0.8156862745098039,
              "rgb(245,162,122)"
             ],
             [
              0.8784313725490196,
              "rgb(246,188,153)"
             ],
             [
              0.9411764705882353,
              "rgb(247,212,187)"
             ],
             [
              1,
              "rgb(250,234,220)"
             ]
            ],
            "type": "surface"
           }
          ],
          "table": [
           {
            "cells": {
             "fill": {
              "color": "rgb(231,231,240)"
             },
             "line": {
              "color": "white"
             }
            },
            "header": {
             "fill": {
              "color": "rgb(183,183,191)"
             },
             "line": {
              "color": "white"
             }
            },
            "type": "table"
           }
          ]
         },
         "layout": {
          "annotationdefaults": {
           "arrowcolor": "rgb(67,103,167)"
          },
          "autotypenumbers": "strict",
          "coloraxis": {
           "colorbar": {
            "outlinewidth": 0,
            "tickcolor": "rgb(36,36,36)",
            "ticklen": 8,
            "ticks": "outside",
            "tickwidth": 2
           }
          },
          "colorscale": {
           "sequential": [
            [
             0,
             "rgb(2,4,25)"
            ],
            [
             0.06274509803921569,
             "rgb(24,15,41)"
            ],
            [
             0.12549019607843137,
             "rgb(47,23,57)"
            ],
            [
             0.18823529411764706,
             "rgb(71,28,72)"
            ],
            [
             0.25098039215686274,
             "rgb(97,30,82)"
            ],
            [
             0.3137254901960784,
             "rgb(123,30,89)"
            ],
            [
             0.3764705882352941,
             "rgb(150,27,91)"
            ],
            [
             0.4392156862745098,
             "rgb(177,22,88)"
            ],
            [
             0.5019607843137255,
             "rgb(203,26,79)"
            ],
            [
             0.5647058823529412,
             "rgb(223,47,67)"
            ],
            [
             0.6274509803921569,
             "rgb(236,76,61)"
            ],
            [
             0.6901960784313725,
             "rgb(242,107,73)"
            ],
            [
             0.7529411764705882,
             "rgb(244,135,95)"
            ],
            [
             0.8156862745098039,
             "rgb(245,162,122)"
            ],
            [
             0.8784313725490196,
             "rgb(246,188,153)"
            ],
            [
             0.9411764705882353,
             "rgb(247,212,187)"
            ],
            [
             1,
             "rgb(250,234,220)"
            ]
           ],
           "sequentialminus": [
            [
             0,
             "rgb(2,4,25)"
            ],
            [
             0.06274509803921569,
             "rgb(24,15,41)"
            ],
            [
             0.12549019607843137,
             "rgb(47,23,57)"
            ],
            [
             0.18823529411764706,
             "rgb(71,28,72)"
            ],
            [
             0.25098039215686274,
             "rgb(97,30,82)"
            ],
            [
             0.3137254901960784,
             "rgb(123,30,89)"
            ],
            [
             0.3764705882352941,
             "rgb(150,27,91)"
            ],
            [
             0.4392156862745098,
             "rgb(177,22,88)"
            ],
            [
             0.5019607843137255,
             "rgb(203,26,79)"
            ],
            [
             0.5647058823529412,
             "rgb(223,47,67)"
            ],
            [
             0.6274509803921569,
             "rgb(236,76,61)"
            ],
            [
             0.6901960784313725,
             "rgb(242,107,73)"
            ],
            [
             0.7529411764705882,
             "rgb(244,135,95)"
            ],
            [
             0.8156862745098039,
             "rgb(245,162,122)"
            ],
            [
             0.8784313725490196,
             "rgb(246,188,153)"
            ],
            [
             0.9411764705882353,
             "rgb(247,212,187)"
            ],
            [
             1,
             "rgb(250,234,220)"
            ]
           ]
          },
          "colorway": [
           "rgb(76,114,176)",
           "rgb(221,132,82)",
           "rgb(85,168,104)",
           "rgb(196,78,82)",
           "rgb(129,114,179)",
           "rgb(147,120,96)",
           "rgb(218,139,195)",
           "rgb(140,140,140)",
           "rgb(204,185,116)",
           "rgb(100,181,205)"
          ],
          "font": {
           "color": "rgb(36,36,36)"
          },
          "geo": {
           "bgcolor": "white",
           "lakecolor": "white",
           "landcolor": "rgb(234,234,242)",
           "showlakes": true,
           "showland": true,
           "subunitcolor": "white"
          },
          "hoverlabel": {
           "align": "left"
          },
          "hovermode": "closest",
          "paper_bgcolor": "white",
          "plot_bgcolor": "rgb(234,234,242)",
          "polar": {
           "angularaxis": {
            "gridcolor": "white",
            "linecolor": "white",
            "showgrid": true,
            "ticks": ""
           },
           "bgcolor": "rgb(234,234,242)",
           "radialaxis": {
            "gridcolor": "white",
            "linecolor": "white",
            "showgrid": true,
            "ticks": ""
           }
          },
          "scene": {
           "xaxis": {
            "backgroundcolor": "rgb(234,234,242)",
            "gridcolor": "white",
            "gridwidth": 2,
            "linecolor": "white",
            "showbackground": true,
            "showgrid": true,
            "ticks": "",
            "zerolinecolor": "white"
           },
           "yaxis": {
            "backgroundcolor": "rgb(234,234,242)",
            "gridcolor": "white",
            "gridwidth": 2,
            "linecolor": "white",
            "showbackground": true,
            "showgrid": true,
            "ticks": "",
            "zerolinecolor": "white"
           },
           "zaxis": {
            "backgroundcolor": "rgb(234,234,242)",
            "gridcolor": "white",
            "gridwidth": 2,
            "linecolor": "white",
            "showbackground": true,
            "showgrid": true,
            "ticks": "",
            "zerolinecolor": "white"
           }
          },
          "shapedefaults": {
           "fillcolor": "rgb(67,103,167)",
           "line": {
            "width": 0
           },
           "opacity": 0.5
          },
          "ternary": {
           "aaxis": {
            "gridcolor": "white",
            "linecolor": "white",
            "showgrid": true,
            "ticks": ""
           },
           "baxis": {
            "gridcolor": "white",
            "linecolor": "white",
            "showgrid": true,
            "ticks": ""
           },
           "bgcolor": "rgb(234,234,242)",
           "caxis": {
            "gridcolor": "white",
            "linecolor": "white",
            "showgrid": true,
            "ticks": ""
           }
          },
          "xaxis": {
           "automargin": true,
           "gridcolor": "white",
           "linecolor": "white",
           "showgrid": true,
           "ticks": "",
           "title": {
            "standoff": 15
           },
           "zerolinecolor": "white"
          },
          "yaxis": {
           "automargin": true,
           "gridcolor": "white",
           "linecolor": "white",
           "showgrid": true,
           "ticks": "",
           "title": {
            "standoff": 15
           },
           "zerolinecolor": "white"
          }
         }
        },
        "title": {
         "text": "Sorted by: loop_flow_from_cz, ascending: True, head: 20"
        },
        "xaxis": {
         "anchor": "y",
         "domain": [
          0,
          1
         ],
         "title": {
          "text": "Flow decomposition value"
         }
        },
        "yaxis": {
         "anchor": "x",
         "domain": [
          0,
          1
         ],
         "title": {
          "text": "xnec_id"
         }
        }
       }
      }
     },
     "metadata": {},
     "output_type": "display_data"
    }
   ],
   "source": [
    "flow_decomposition_bar_chart(f'loop_flow_from_{random.Random(42).choice(list(countries)).alpha_2.lower()}', ascending=True)"
   ]
  },
  {
   "cell_type": "code",
   "execution_count": 17,
   "metadata": {},
   "outputs": [
    {
     "data": {
      "application/vnd.plotly.v1+json": {
       "config": {
        "plotlyServerURL": "https://plot.ly"
       },
       "data": [
        {
         "alignmentgroup": "True",
         "hovertemplate": "Decomposition part:=commercial_flow<br>Flow decomposition value=%{x}<br>xnec_id=%{y}<extra></extra>",
         "legendgroup": "commercial_flow",
         "marker": {
          "color": "#0DF9FF",
          "pattern": {
           "shape": ""
          }
         },
         "name": "commercial_flow",
         "offsetgroup": "commercial_flow",
         "orientation": "h",
         "showlegend": true,
         "textposition": "auto",
         "texttemplate": "%{x:.0f}",
         "type": "bar",
         "x": [
          null,
          null,
          null,
          null,
          null,
          null,
          null,
          null,
          null,
          null,
          null,
          null,
          null,
          null,
          null,
          null,
          null,
          null,
          null,
          null
         ],
         "xaxis": "x",
         "y": [
          "L42-46-1_InitialState",
          "L16-42-1_InitialState",
          "T3-4-1_InitialState",
          "L4-16-1_InitialState",
          "L46-81-1_InitialState",
          "L194-219-1_InitialState",
          "L133-137-1_InitialState",
          "L220-238-1_InitialState",
          "L153-161-1_InitialState",
          "L155-161-1_InitialState",
          "L234-235-1_InitialState",
          "L81-195-1_InitialState",
          "L136-152-1_InitialState",
          "L7-131-1_InitialState",
          "T130-131-1_InitialState",
          "L152-153-1_InitialState",
          "L45-60-1_InitialState",
          "L60-62-1_InitialState",
          "L19-87-1_InitialState",
          "L85-86-1_InitialState"
         ],
         "yaxis": "y"
        },
        {
         "alignmentgroup": "True",
         "hovertemplate": "Decomposition part:=internal_flow<br>Flow decomposition value=%{x}<br>xnec_id=%{y}<extra></extra>",
         "legendgroup": "internal_flow",
         "marker": {
          "color": "#AF0038",
          "pattern": {
           "shape": ""
          }
         },
         "name": "internal_flow",
         "offsetgroup": "internal_flow",
         "orientation": "h",
         "showlegend": true,
         "textposition": "auto",
         "texttemplate": "%{x:.0f}",
         "type": "bar",
         "x": [
          271.86024656186675,
          612.838789450805,
          944.0179750476756,
          944.0179750476757,
          160.01732447372314,
          null,
          null,
          null,
          null,
          null,
          -58.59042024356177,
          null,
          366.8304534316876,
          null,
          -807.3350495431575,
          null,
          280.75497026296495,
          280.75497026296483,
          210.19312503970545,
          null
         ],
         "xaxis": "x",
         "y": [
          "L42-46-1_InitialState",
          "L16-42-1_InitialState",
          "T3-4-1_InitialState",
          "L4-16-1_InitialState",
          "L46-81-1_InitialState",
          "L194-219-1_InitialState",
          "L133-137-1_InitialState",
          "L220-238-1_InitialState",
          "L153-161-1_InitialState",
          "L155-161-1_InitialState",
          "L234-235-1_InitialState",
          "L81-195-1_InitialState",
          "L136-152-1_InitialState",
          "L7-131-1_InitialState",
          "T130-131-1_InitialState",
          "L152-153-1_InitialState",
          "L45-60-1_InitialState",
          "L60-62-1_InitialState",
          "L19-87-1_InitialState",
          "L85-86-1_InitialState"
         ],
         "yaxis": "y"
        },
        {
         "alignmentgroup": "True",
         "hovertemplate": "Decomposition part:=loop_flow_from_bg<br>Flow decomposition value=%{x}<br>xnec_id=%{y}<extra></extra>",
         "legendgroup": "loop_flow_from_bg",
         "marker": {
          "color": "#FD3216",
          "pattern": {
           "shape": ""
          }
         },
         "name": "loop_flow_from_bg",
         "offsetgroup": "loop_flow_from_bg",
         "orientation": "h",
         "showlegend": true,
         "textposition": "auto",
         "texttemplate": "%{x:.0f}",
         "type": "bar",
         "x": [
          165.55615382962998,
          136.85900162726386,
          null,
          null,
          98.72412545613156,
          null,
          null,
          null,
          null,
          null,
          null,
          null,
          null,
          null,
          null,
          null,
          61.75047617152576,
          61.750476171525804,
          null,
          null
         ],
         "xaxis": "x",
         "y": [
          "L42-46-1_InitialState",
          "L16-42-1_InitialState",
          "T3-4-1_InitialState",
          "L4-16-1_InitialState",
          "L46-81-1_InitialState",
          "L194-219-1_InitialState",
          "L133-137-1_InitialState",
          "L220-238-1_InitialState",
          "L153-161-1_InitialState",
          "L155-161-1_InitialState",
          "L234-235-1_InitialState",
          "L81-195-1_InitialState",
          "L136-152-1_InitialState",
          "L7-131-1_InitialState",
          "T130-131-1_InitialState",
          "L152-153-1_InitialState",
          "L45-60-1_InitialState",
          "L60-62-1_InitialState",
          "L19-87-1_InitialState",
          "L85-86-1_InitialState"
         ],
         "yaxis": "y"
        },
        {
         "alignmentgroup": "True",
         "hovertemplate": "Decomposition part:=loop_flow_from_cz<br>Flow decomposition value=%{x}<br>xnec_id=%{y}<extra></extra>",
         "legendgroup": "loop_flow_from_cz",
         "marker": {
          "color": "#00A08B",
          "pattern": {
           "shape": ""
          }
         },
         "name": "loop_flow_from_cz",
         "offsetgroup": "loop_flow_from_cz",
         "orientation": "h",
         "showlegend": true,
         "textposition": "auto",
         "texttemplate": "%{x:.0f}",
         "type": "bar",
         "x": [
          null,
          null,
          null,
          null,
          null,
          null,
          null,
          null,
          null,
          null,
          null,
          null,
          null,
          null,
          null,
          null,
          null,
          null,
          null,
          null
         ],
         "xaxis": "x",
         "y": [
          "L42-46-1_InitialState",
          "L16-42-1_InitialState",
          "T3-4-1_InitialState",
          "L4-16-1_InitialState",
          "L46-81-1_InitialState",
          "L194-219-1_InitialState",
          "L133-137-1_InitialState",
          "L220-238-1_InitialState",
          "L153-161-1_InitialState",
          "L155-161-1_InitialState",
          "L234-235-1_InitialState",
          "L81-195-1_InitialState",
          "L136-152-1_InitialState",
          "L7-131-1_InitialState",
          "T130-131-1_InitialState",
          "L152-153-1_InitialState",
          "L45-60-1_InitialState",
          "L60-62-1_InitialState",
          "L19-87-1_InitialState",
          "L85-86-1_InitialState"
         ],
         "yaxis": "y"
        },
        {
         "alignmentgroup": "True",
         "hovertemplate": "Decomposition part:=loop_flow_from_dk<br>Flow decomposition value=%{x}<br>xnec_id=%{y}<extra></extra>",
         "legendgroup": "loop_flow_from_dk",
         "marker": {
          "color": "#6C4516",
          "pattern": {
           "shape": ""
          }
         },
         "name": "loop_flow_from_dk",
         "offsetgroup": "loop_flow_from_dk",
         "orientation": "h",
         "showlegend": true,
         "textposition": "auto",
         "texttemplate": "%{x:.0f}",
         "type": "bar",
         "x": [
          723.7347444719029,
          488.1204619339962,
          611.1253042401501,
          611.125304240149,
          584.7135250682505,
          338.6815176678717,
          523.0178454485244,
          -88.47141262248222,
          46.57062548301367,
          46.570625483013345,
          19.735284278517604,
          362.2895194675199,
          -163.1495797440772,
          660.766376251145,
          660.7663762511453,
          -109.04623129358575,
          250.09500082857153,
          250.09500082857153,
          190.0643453368424,
          61.46528348968715
         ],
         "xaxis": "x",
         "y": [
          "L42-46-1_InitialState",
          "L16-42-1_InitialState",
          "T3-4-1_InitialState",
          "L4-16-1_InitialState",
          "L46-81-1_InitialState",
          "L194-219-1_InitialState",
          "L133-137-1_InitialState",
          "L220-238-1_InitialState",
          "L153-161-1_InitialState",
          "L155-161-1_InitialState",
          "L234-235-1_InitialState",
          "L81-195-1_InitialState",
          "L136-152-1_InitialState",
          "L7-131-1_InitialState",
          "T130-131-1_InitialState",
          "L152-153-1_InitialState",
          "L45-60-1_InitialState",
          "L60-62-1_InitialState",
          "L19-87-1_InitialState",
          "L85-86-1_InitialState"
         ],
         "yaxis": "y"
        },
        {
         "alignmentgroup": "True",
         "hovertemplate": "Decomposition part:=loop_flow_from_ee<br>Flow decomposition value=%{x}<br>xnec_id=%{y}<extra></extra>",
         "legendgroup": "loop_flow_from_ee",
         "marker": {
          "color": "#511CFB",
          "pattern": {
           "shape": ""
          }
         },
         "name": "loop_flow_from_ee",
         "offsetgroup": "loop_flow_from_ee",
         "orientation": "h",
         "showlegend": true,
         "textposition": "auto",
         "texttemplate": "%{x:.0f}",
         "type": "bar",
         "x": [
          null,
          null,
          null,
          null,
          null,
          null,
          null,
          null,
          null,
          null,
          null,
          57.65836042786369,
          null,
          null,
          null,
          null,
          null,
          null,
          null,
          null
         ],
         "xaxis": "x",
         "y": [
          "L42-46-1_InitialState",
          "L16-42-1_InitialState",
          "T3-4-1_InitialState",
          "L4-16-1_InitialState",
          "L46-81-1_InitialState",
          "L194-219-1_InitialState",
          "L133-137-1_InitialState",
          "L220-238-1_InitialState",
          "L153-161-1_InitialState",
          "L155-161-1_InitialState",
          "L234-235-1_InitialState",
          "L81-195-1_InitialState",
          "L136-152-1_InitialState",
          "L7-131-1_InitialState",
          "T130-131-1_InitialState",
          "L152-153-1_InitialState",
          "L45-60-1_InitialState",
          "L60-62-1_InitialState",
          "L19-87-1_InitialState",
          "L85-86-1_InitialState"
         ],
         "yaxis": "y"
        },
        {
         "alignmentgroup": "True",
         "hovertemplate": "Decomposition part:=loop_flow_from_fr<br>Flow decomposition value=%{x}<br>xnec_id=%{y}<extra></extra>",
         "legendgroup": "loop_flow_from_fr",
         "marker": {
          "color": "#F6F926",
          "pattern": {
           "shape": ""
          }
         },
         "name": "loop_flow_from_fr",
         "offsetgroup": "loop_flow_from_fr",
         "orientation": "h",
         "showlegend": true,
         "textposition": "auto",
         "texttemplate": "%{x:.0f}",
         "type": "bar",
         "x": [
          -199.0766669143227,
          -190.4151544836397,
          -187.17695650337419,
          -187.17695650337407,
          -258.0781950014783,
          -184.07457543243765,
          -283.99777590945206,
          225.1923915478247,
          null,
          null,
          null,
          -175.1287832411592,
          null,
          -128.37351026828318,
          -128.37351026828324,
          null,
          -189.59640652211755,
          -189.59640652211738,
          null,
          -15.958394780804069
         ],
         "xaxis": "x",
         "y": [
          "L42-46-1_InitialState",
          "L16-42-1_InitialState",
          "T3-4-1_InitialState",
          "L4-16-1_InitialState",
          "L46-81-1_InitialState",
          "L194-219-1_InitialState",
          "L133-137-1_InitialState",
          "L220-238-1_InitialState",
          "L153-161-1_InitialState",
          "L155-161-1_InitialState",
          "L234-235-1_InitialState",
          "L81-195-1_InitialState",
          "L136-152-1_InitialState",
          "L7-131-1_InitialState",
          "T130-131-1_InitialState",
          "L152-153-1_InitialState",
          "L45-60-1_InitialState",
          "L60-62-1_InitialState",
          "L19-87-1_InitialState",
          "L85-86-1_InitialState"
         ],
         "yaxis": "y"
        },
        {
         "alignmentgroup": "True",
         "hovertemplate": "Decomposition part:=loop_flow_from_hu<br>Flow decomposition value=%{x}<br>xnec_id=%{y}<extra></extra>",
         "legendgroup": "loop_flow_from_hu",
         "marker": {
          "color": "#C9FBE5",
          "pattern": {
           "shape": ""
          }
         },
         "name": "loop_flow_from_hu",
         "offsetgroup": "loop_flow_from_hu",
         "orientation": "h",
         "showlegend": true,
         "textposition": "auto",
         "texttemplate": "%{x:.0f}",
         "type": "bar",
         "x": [
          -635.955291591542,
          -813.4598799127205,
          -899.2953251872494,
          -899.2953251872486,
          -541.1501753176985,
          -318.56497444142457,
          null,
          83.80259783903522,
          83.96155342495076,
          48.96155342495088,
          -18.504340936494827,
          -339.02495276209993,
          null,
          -807.3350495431577,
          null,
          -40.05984135289309,
          -244.02568210389705,
          -244.02568210389688,
          -217.77954728397467,
          -72.86918357249392
         ],
         "xaxis": "x",
         "y": [
          "L42-46-1_InitialState",
          "L16-42-1_InitialState",
          "T3-4-1_InitialState",
          "L4-16-1_InitialState",
          "L46-81-1_InitialState",
          "L194-219-1_InitialState",
          "L133-137-1_InitialState",
          "L220-238-1_InitialState",
          "L153-161-1_InitialState",
          "L155-161-1_InitialState",
          "L234-235-1_InitialState",
          "L81-195-1_InitialState",
          "L136-152-1_InitialState",
          "L7-131-1_InitialState",
          "T130-131-1_InitialState",
          "L152-153-1_InitialState",
          "L45-60-1_InitialState",
          "L60-62-1_InitialState",
          "L19-87-1_InitialState",
          "L85-86-1_InitialState"
         ],
         "yaxis": "y"
        },
        {
         "alignmentgroup": "True",
         "hovertemplate": "Decomposition part:=loop_flow_from_ie<br>Flow decomposition value=%{x}<br>xnec_id=%{y}<extra></extra>",
         "legendgroup": "loop_flow_from_ie",
         "marker": {
          "color": "#FC0080",
          "pattern": {
           "shape": ""
          }
         },
         "name": "loop_flow_from_ie",
         "offsetgroup": "loop_flow_from_ie",
         "orientation": "h",
         "showlegend": true,
         "textposition": "auto",
         "texttemplate": "%{x:.0f}",
         "type": "bar",
         "x": [
          null,
          null,
          null,
          null,
          null,
          null,
          null,
          null,
          null,
          null,
          null,
          null,
          null,
          null,
          null,
          null,
          null,
          null,
          null,
          null
         ],
         "xaxis": "x",
         "y": [
          "L42-46-1_InitialState",
          "L16-42-1_InitialState",
          "T3-4-1_InitialState",
          "L4-16-1_InitialState",
          "L46-81-1_InitialState",
          "L194-219-1_InitialState",
          "L133-137-1_InitialState",
          "L220-238-1_InitialState",
          "L153-161-1_InitialState",
          "L155-161-1_InitialState",
          "L234-235-1_InitialState",
          "L81-195-1_InitialState",
          "L136-152-1_InitialState",
          "L7-131-1_InitialState",
          "T130-131-1_InitialState",
          "L152-153-1_InitialState",
          "L45-60-1_InitialState",
          "L60-62-1_InitialState",
          "L19-87-1_InitialState",
          "L85-86-1_InitialState"
         ],
         "yaxis": "y"
        },
        {
         "alignmentgroup": "True",
         "hovertemplate": "Decomposition part:=loop_flow_from_lt<br>Flow decomposition value=%{x}<br>xnec_id=%{y}<extra></extra>",
         "legendgroup": "loop_flow_from_lt",
         "marker": {
          "color": "#FB0D0D",
          "pattern": {
           "shape": ""
          }
         },
         "name": "loop_flow_from_lt",
         "offsetgroup": "loop_flow_from_lt",
         "orientation": "h",
         "showlegend": true,
         "textposition": "auto",
         "texttemplate": "%{x:.0f}",
         "type": "bar",
         "x": [
          null,
          null,
          null,
          null,
          null,
          151.84607362153324,
          336.6087913185838,
          null,
          -112.79208106549996,
          -112.79208106550006,
          null,
          111.59643846418045,
          92.26124028383074,
          156.86329136218598,
          156.86329136218592,
          109.26009641887734,
          null,
          null,
          null,
          52.35206636562991
         ],
         "xaxis": "x",
         "y": [
          "L42-46-1_InitialState",
          "L16-42-1_InitialState",
          "T3-4-1_InitialState",
          "L4-16-1_InitialState",
          "L46-81-1_InitialState",
          "L194-219-1_InitialState",
          "L133-137-1_InitialState",
          "L220-238-1_InitialState",
          "L153-161-1_InitialState",
          "L155-161-1_InitialState",
          "L234-235-1_InitialState",
          "L81-195-1_InitialState",
          "L136-152-1_InitialState",
          "L7-131-1_InitialState",
          "T130-131-1_InitialState",
          "L152-153-1_InitialState",
          "L45-60-1_InitialState",
          "L60-62-1_InitialState",
          "L19-87-1_InitialState",
          "L85-86-1_InitialState"
         ],
         "yaxis": "y"
        },
        {
         "alignmentgroup": "True",
         "hovertemplate": "Decomposition part:=loop_flow_from_lu<br>Flow decomposition value=%{x}<br>xnec_id=%{y}<extra></extra>",
         "legendgroup": "loop_flow_from_lu",
         "marker": {
          "color": "#D626FF",
          "pattern": {
           "shape": ""
          }
         },
         "name": "loop_flow_from_lu",
         "offsetgroup": "loop_flow_from_lu",
         "orientation": "h",
         "showlegend": true,
         "textposition": "auto",
         "texttemplate": "%{x:.0f}",
         "type": "bar",
         "x": [
          133.77967824623622,
          130.33300001683094,
          null,
          null,
          126.93517891148389,
          108.23417826421903,
          98.69062874523755,
          82.98545549957792,
          78.43720125544095,
          78.43720125544088,
          71.40834287675601,
          70.86501170343264,
          70.84968708037115,
          null,
          null,
          65.06113076895768,
          59.96621902803688,
          59.96621902803672,
          59.07356873677891,
          57.981774138210675
         ],
         "xaxis": "x",
         "y": [
          "L42-46-1_InitialState",
          "L16-42-1_InitialState",
          "T3-4-1_InitialState",
          "L4-16-1_InitialState",
          "L46-81-1_InitialState",
          "L194-219-1_InitialState",
          "L133-137-1_InitialState",
          "L220-238-1_InitialState",
          "L153-161-1_InitialState",
          "L155-161-1_InitialState",
          "L234-235-1_InitialState",
          "L81-195-1_InitialState",
          "L136-152-1_InitialState",
          "L7-131-1_InitialState",
          "T130-131-1_InitialState",
          "L152-153-1_InitialState",
          "L45-60-1_InitialState",
          "L60-62-1_InitialState",
          "L19-87-1_InitialState",
          "L85-86-1_InitialState"
         ],
         "yaxis": "y"
        },
        {
         "alignmentgroup": "True",
         "hovertemplate": "Decomposition part:=pst_flow<br>Flow decomposition value=%{x}<br>xnec_id=%{y}<extra></extra>",
         "legendgroup": "pst_flow",
         "marker": {
          "color": "#DA16FF",
          "pattern": {
           "shape": ""
          }
         },
         "name": "pst_flow",
         "offsetgroup": "pst_flow",
         "orientation": "h",
         "showlegend": true,
         "textposition": "auto",
         "texttemplate": "%{x:.0f}",
         "type": "bar",
         "x": [
          null,
          null,
          null,
          null,
          null,
          null,
          null,
          null,
          null,
          null,
          null,
          null,
          null,
          null,
          null,
          null,
          null,
          null,
          null,
          null
         ],
         "xaxis": "x",
         "y": [
          "L42-46-1_InitialState",
          "L16-42-1_InitialState",
          "T3-4-1_InitialState",
          "L4-16-1_InitialState",
          "L46-81-1_InitialState",
          "L194-219-1_InitialState",
          "L133-137-1_InitialState",
          "L220-238-1_InitialState",
          "L153-161-1_InitialState",
          "L155-161-1_InitialState",
          "L234-235-1_InitialState",
          "L81-195-1_InitialState",
          "L136-152-1_InitialState",
          "L7-131-1_InitialState",
          "T130-131-1_InitialState",
          "L152-153-1_InitialState",
          "L45-60-1_InitialState",
          "L60-62-1_InitialState",
          "L19-87-1_InitialState",
          "L85-86-1_InitialState"
         ],
         "yaxis": "y"
        },
        {
         "alignmentgroup": "True",
         "hovertemplate": "Decomposition part:=masked_flows_positive<br>Flow decomposition value=%{x}<br>xnec_id=%{y}<extra></extra>",
         "legendgroup": "masked_flows_positive",
         "marker": {
          "color": "#86CE00",
          "pattern": {
           "shape": ""
          }
         },
         "name": "masked_flows_positive",
         "offsetgroup": "masked_flows_positive",
         "orientation": "h",
         "showlegend": true,
         "textposition": "auto",
         "texttemplate": "%{x:.0f}",
         "type": "bar",
         "x": [
          92.93162058111555,
          74.74093284882301,
          309.85620116681946,
          309.85620116681935,
          85.36236234952548,
          31.299689722825384,
          70.00361495108699,
          28.32670743070159,
          10.855118151767037,
          10.855118151767028,
          16.280930454538122,
          1.168979115216255,
          16.574119699701832,
          124.6480545022489,
          124.64805450224884,
          5.568521312198676,
          31.36312709355119,
          31.363127093551185,
          25.30066073227091,
          20.000996027169244
         ],
         "xaxis": "x",
         "y": [
          "L42-46-1_InitialState",
          "L16-42-1_InitialState",
          "T3-4-1_InitialState",
          "L4-16-1_InitialState",
          "L46-81-1_InitialState",
          "L194-219-1_InitialState",
          "L133-137-1_InitialState",
          "L220-238-1_InitialState",
          "L153-161-1_InitialState",
          "L155-161-1_InitialState",
          "L234-235-1_InitialState",
          "L81-195-1_InitialState",
          "L136-152-1_InitialState",
          "L7-131-1_InitialState",
          "T130-131-1_InitialState",
          "L152-153-1_InitialState",
          "L45-60-1_InitialState",
          "L60-62-1_InitialState",
          "L19-87-1_InitialState",
          "L85-86-1_InitialState"
         ],
         "yaxis": "y"
        },
        {
         "alignmentgroup": "True",
         "hovertemplate": "Decomposition part:=masked_flows_negative<br>Flow decomposition value=%{x}<br>xnec_id=%{y}<extra></extra>",
         "legendgroup": "masked_flows_negative",
         "marker": {
          "color": "#6A76FC",
          "pattern": {
           "shape": ""
          }
         },
         "name": "masked_flows_negative",
         "offsetgroup": "masked_flows_negative",
         "orientation": "h",
         "showlegend": true,
         "textposition": "auto",
         "texttemplate": "%{x:.0f}",
         "type": "bar",
         "x": [
          0,
          0,
          0,
          0,
          0,
          -34.79781524288047,
          -25.998948583205525,
          -25.826734513752097,
          0,
          0,
          -1.7944420424916596,
          -20.46939736755414,
          -0.4049327781799139,
          0,
          0,
          -3.5595132770461375,
          0,
          0,
          -36.07552050019576,
          0
         ],
         "xaxis": "x",
         "y": [
          "L42-46-1_InitialState",
          "L16-42-1_InitialState",
          "T3-4-1_InitialState",
          "L4-16-1_InitialState",
          "L46-81-1_InitialState",
          "L194-219-1_InitialState",
          "L133-137-1_InitialState",
          "L220-238-1_InitialState",
          "L153-161-1_InitialState",
          "L155-161-1_InitialState",
          "L234-235-1_InitialState",
          "L81-195-1_InitialState",
          "L136-152-1_InitialState",
          "L7-131-1_InitialState",
          "T130-131-1_InitialState",
          "L152-153-1_InitialState",
          "L45-60-1_InitialState",
          "L60-62-1_InitialState",
          "L19-87-1_InitialState",
          "L85-86-1_InitialState"
         ],
         "yaxis": "y"
        },
        {
         "mode": "lines+markers",
         "name": "total_flow",
         "type": "scatter",
         "x": [
          552.8304851848867,
          439.01715148135895,
          778.5271987640217,
          778.5271987640211,
          256.5241459399377,
          92.62409415970666,
          718.3241559707752,
          306.00900518090515,
          107.03241724967248,
          72.03241724967208,
          28.53535438726348,
          68.95517580739966,
          382.9609879733342,
          6.569162304138885,
          6.569162304139269,
          27.224162576508732,
          250.3077047586357,
          250.3077047586358,
          230.77663206142728,
          102.97254166739899
         ],
         "y": [
          "L42-46-1_InitialState",
          "L16-42-1_InitialState",
          "T3-4-1_InitialState",
          "L4-16-1_InitialState",
          "L46-81-1_InitialState",
          "L194-219-1_InitialState",
          "L133-137-1_InitialState",
          "L220-238-1_InitialState",
          "L153-161-1_InitialState",
          "L155-161-1_InitialState",
          "L234-235-1_InitialState",
          "L81-195-1_InitialState",
          "L136-152-1_InitialState",
          "L7-131-1_InitialState",
          "T130-131-1_InitialState",
          "L152-153-1_InitialState",
          "L45-60-1_InitialState",
          "L60-62-1_InitialState",
          "L19-87-1_InitialState",
          "L85-86-1_InitialState"
         ]
        },
        {
         "mode": "lines+markers",
         "name": "total_loop_flow",
         "type": "scatter",
         "x": [
          280.97023862302,
          -173.82163796944607,
          -165.4907762836541,
          -165.49077628365436,
          96.50682146621449,
          92.62409415970666,
          718.3241559707752,
          306.00900518090515,
          107.03241724967248,
          72.03241724967208,
          87.12577463082525,
          68.95517580739966,
          16.130534541646625,
          6.569162304138885,
          813.9042118472968,
          27.224162576508732,
          -30.44726550432923,
          -30.447265504328996,
          20.583507021721786,
          102.97254166739899
         ],
         "y": [
          "L42-46-1_InitialState",
          "L16-42-1_InitialState",
          "T3-4-1_InitialState",
          "L4-16-1_InitialState",
          "L46-81-1_InitialState",
          "L194-219-1_InitialState",
          "L133-137-1_InitialState",
          "L220-238-1_InitialState",
          "L153-161-1_InitialState",
          "L155-161-1_InitialState",
          "L234-235-1_InitialState",
          "L81-195-1_InitialState",
          "L136-152-1_InitialState",
          "L7-131-1_InitialState",
          "T130-131-1_InitialState",
          "L152-153-1_InitialState",
          "L45-60-1_InitialState",
          "L60-62-1_InitialState",
          "L19-87-1_InitialState",
          "L85-86-1_InitialState"
         ]
        }
       ],
       "layout": {
        "barmode": "relative",
        "height": 1000,
        "legend": {
         "title": {
          "text": "Decomposition part:"
         },
         "tracegroupgap": 0
        },
        "template": {
         "data": {
          "bar": [
           {
            "error_x": {
             "color": "rgb(36,36,36)"
            },
            "error_y": {
             "color": "rgb(36,36,36)"
            },
            "marker": {
             "line": {
              "color": "rgb(234,234,242)",
              "width": 0.5
             },
             "pattern": {
              "fillmode": "overlay",
              "size": 10,
              "solidity": 0.2
             }
            },
            "type": "bar"
           }
          ],
          "barpolar": [
           {
            "marker": {
             "line": {
              "color": "rgb(234,234,242)",
              "width": 0.5
             },
             "pattern": {
              "fillmode": "overlay",
              "size": 10,
              "solidity": 0.2
             }
            },
            "type": "barpolar"
           }
          ],
          "carpet": [
           {
            "aaxis": {
             "endlinecolor": "rgb(36,36,36)",
             "gridcolor": "white",
             "linecolor": "white",
             "minorgridcolor": "white",
             "startlinecolor": "rgb(36,36,36)"
            },
            "baxis": {
             "endlinecolor": "rgb(36,36,36)",
             "gridcolor": "white",
             "linecolor": "white",
             "minorgridcolor": "white",
             "startlinecolor": "rgb(36,36,36)"
            },
            "type": "carpet"
           }
          ],
          "choropleth": [
           {
            "colorbar": {
             "outlinewidth": 0,
             "tickcolor": "rgb(36,36,36)",
             "ticklen": 8,
             "ticks": "outside",
             "tickwidth": 2
            },
            "type": "choropleth"
           }
          ],
          "contour": [
           {
            "colorbar": {
             "outlinewidth": 0,
             "tickcolor": "rgb(36,36,36)",
             "ticklen": 8,
             "ticks": "outside",
             "tickwidth": 2
            },
            "colorscale": [
             [
              0,
              "rgb(2,4,25)"
             ],
             [
              0.06274509803921569,
              "rgb(24,15,41)"
             ],
             [
              0.12549019607843137,
              "rgb(47,23,57)"
             ],
             [
              0.18823529411764706,
              "rgb(71,28,72)"
             ],
             [
              0.25098039215686274,
              "rgb(97,30,82)"
             ],
             [
              0.3137254901960784,
              "rgb(123,30,89)"
             ],
             [
              0.3764705882352941,
              "rgb(150,27,91)"
             ],
             [
              0.4392156862745098,
              "rgb(177,22,88)"
             ],
             [
              0.5019607843137255,
              "rgb(203,26,79)"
             ],
             [
              0.5647058823529412,
              "rgb(223,47,67)"
             ],
             [
              0.6274509803921569,
              "rgb(236,76,61)"
             ],
             [
              0.6901960784313725,
              "rgb(242,107,73)"
             ],
             [
              0.7529411764705882,
              "rgb(244,135,95)"
             ],
             [
              0.8156862745098039,
              "rgb(245,162,122)"
             ],
             [
              0.8784313725490196,
              "rgb(246,188,153)"
             ],
             [
              0.9411764705882353,
              "rgb(247,212,187)"
             ],
             [
              1,
              "rgb(250,234,220)"
             ]
            ],
            "type": "contour"
           }
          ],
          "contourcarpet": [
           {
            "colorbar": {
             "outlinewidth": 0,
             "tickcolor": "rgb(36,36,36)",
             "ticklen": 8,
             "ticks": "outside",
             "tickwidth": 2
            },
            "type": "contourcarpet"
           }
          ],
          "heatmap": [
           {
            "colorbar": {
             "outlinewidth": 0,
             "tickcolor": "rgb(36,36,36)",
             "ticklen": 8,
             "ticks": "outside",
             "tickwidth": 2
            },
            "colorscale": [
             [
              0,
              "rgb(2,4,25)"
             ],
             [
              0.06274509803921569,
              "rgb(24,15,41)"
             ],
             [
              0.12549019607843137,
              "rgb(47,23,57)"
             ],
             [
              0.18823529411764706,
              "rgb(71,28,72)"
             ],
             [
              0.25098039215686274,
              "rgb(97,30,82)"
             ],
             [
              0.3137254901960784,
              "rgb(123,30,89)"
             ],
             [
              0.3764705882352941,
              "rgb(150,27,91)"
             ],
             [
              0.4392156862745098,
              "rgb(177,22,88)"
             ],
             [
              0.5019607843137255,
              "rgb(203,26,79)"
             ],
             [
              0.5647058823529412,
              "rgb(223,47,67)"
             ],
             [
              0.6274509803921569,
              "rgb(236,76,61)"
             ],
             [
              0.6901960784313725,
              "rgb(242,107,73)"
             ],
             [
              0.7529411764705882,
              "rgb(244,135,95)"
             ],
             [
              0.8156862745098039,
              "rgb(245,162,122)"
             ],
             [
              0.8784313725490196,
              "rgb(246,188,153)"
             ],
             [
              0.9411764705882353,
              "rgb(247,212,187)"
             ],
             [
              1,
              "rgb(250,234,220)"
             ]
            ],
            "type": "heatmap"
           }
          ],
          "heatmapgl": [
           {
            "colorbar": {
             "outlinewidth": 0,
             "tickcolor": "rgb(36,36,36)",
             "ticklen": 8,
             "ticks": "outside",
             "tickwidth": 2
            },
            "colorscale": [
             [
              0,
              "rgb(2,4,25)"
             ],
             [
              0.06274509803921569,
              "rgb(24,15,41)"
             ],
             [
              0.12549019607843137,
              "rgb(47,23,57)"
             ],
             [
              0.18823529411764706,
              "rgb(71,28,72)"
             ],
             [
              0.25098039215686274,
              "rgb(97,30,82)"
             ],
             [
              0.3137254901960784,
              "rgb(123,30,89)"
             ],
             [
              0.3764705882352941,
              "rgb(150,27,91)"
             ],
             [
              0.4392156862745098,
              "rgb(177,22,88)"
             ],
             [
              0.5019607843137255,
              "rgb(203,26,79)"
             ],
             [
              0.5647058823529412,
              "rgb(223,47,67)"
             ],
             [
              0.6274509803921569,
              "rgb(236,76,61)"
             ],
             [
              0.6901960784313725,
              "rgb(242,107,73)"
             ],
             [
              0.7529411764705882,
              "rgb(244,135,95)"
             ],
             [
              0.8156862745098039,
              "rgb(245,162,122)"
             ],
             [
              0.8784313725490196,
              "rgb(246,188,153)"
             ],
             [
              0.9411764705882353,
              "rgb(247,212,187)"
             ],
             [
              1,
              "rgb(250,234,220)"
             ]
            ],
            "type": "heatmapgl"
           }
          ],
          "histogram": [
           {
            "marker": {
             "pattern": {
              "fillmode": "overlay",
              "size": 10,
              "solidity": 0.2
             }
            },
            "type": "histogram"
           }
          ],
          "histogram2d": [
           {
            "colorbar": {
             "outlinewidth": 0,
             "tickcolor": "rgb(36,36,36)",
             "ticklen": 8,
             "ticks": "outside",
             "tickwidth": 2
            },
            "colorscale": [
             [
              0,
              "rgb(2,4,25)"
             ],
             [
              0.06274509803921569,
              "rgb(24,15,41)"
             ],
             [
              0.12549019607843137,
              "rgb(47,23,57)"
             ],
             [
              0.18823529411764706,
              "rgb(71,28,72)"
             ],
             [
              0.25098039215686274,
              "rgb(97,30,82)"
             ],
             [
              0.3137254901960784,
              "rgb(123,30,89)"
             ],
             [
              0.3764705882352941,
              "rgb(150,27,91)"
             ],
             [
              0.4392156862745098,
              "rgb(177,22,88)"
             ],
             [
              0.5019607843137255,
              "rgb(203,26,79)"
             ],
             [
              0.5647058823529412,
              "rgb(223,47,67)"
             ],
             [
              0.6274509803921569,
              "rgb(236,76,61)"
             ],
             [
              0.6901960784313725,
              "rgb(242,107,73)"
             ],
             [
              0.7529411764705882,
              "rgb(244,135,95)"
             ],
             [
              0.8156862745098039,
              "rgb(245,162,122)"
             ],
             [
              0.8784313725490196,
              "rgb(246,188,153)"
             ],
             [
              0.9411764705882353,
              "rgb(247,212,187)"
             ],
             [
              1,
              "rgb(250,234,220)"
             ]
            ],
            "type": "histogram2d"
           }
          ],
          "histogram2dcontour": [
           {
            "colorbar": {
             "outlinewidth": 0,
             "tickcolor": "rgb(36,36,36)",
             "ticklen": 8,
             "ticks": "outside",
             "tickwidth": 2
            },
            "colorscale": [
             [
              0,
              "rgb(2,4,25)"
             ],
             [
              0.06274509803921569,
              "rgb(24,15,41)"
             ],
             [
              0.12549019607843137,
              "rgb(47,23,57)"
             ],
             [
              0.18823529411764706,
              "rgb(71,28,72)"
             ],
             [
              0.25098039215686274,
              "rgb(97,30,82)"
             ],
             [
              0.3137254901960784,
              "rgb(123,30,89)"
             ],
             [
              0.3764705882352941,
              "rgb(150,27,91)"
             ],
             [
              0.4392156862745098,
              "rgb(177,22,88)"
             ],
             [
              0.5019607843137255,
              "rgb(203,26,79)"
             ],
             [
              0.5647058823529412,
              "rgb(223,47,67)"
             ],
             [
              0.6274509803921569,
              "rgb(236,76,61)"
             ],
             [
              0.6901960784313725,
              "rgb(242,107,73)"
             ],
             [
              0.7529411764705882,
              "rgb(244,135,95)"
             ],
             [
              0.8156862745098039,
              "rgb(245,162,122)"
             ],
             [
              0.8784313725490196,
              "rgb(246,188,153)"
             ],
             [
              0.9411764705882353,
              "rgb(247,212,187)"
             ],
             [
              1,
              "rgb(250,234,220)"
             ]
            ],
            "type": "histogram2dcontour"
           }
          ],
          "mesh3d": [
           {
            "colorbar": {
             "outlinewidth": 0,
             "tickcolor": "rgb(36,36,36)",
             "ticklen": 8,
             "ticks": "outside",
             "tickwidth": 2
            },
            "type": "mesh3d"
           }
          ],
          "parcoords": [
           {
            "line": {
             "colorbar": {
              "outlinewidth": 0,
              "tickcolor": "rgb(36,36,36)",
              "ticklen": 8,
              "ticks": "outside",
              "tickwidth": 2
             }
            },
            "type": "parcoords"
           }
          ],
          "pie": [
           {
            "automargin": true,
            "type": "pie"
           }
          ],
          "scatter": [
           {
            "fillpattern": {
             "fillmode": "overlay",
             "size": 10,
             "solidity": 0.2
            },
            "type": "scatter"
           }
          ],
          "scatter3d": [
           {
            "line": {
             "colorbar": {
              "outlinewidth": 0,
              "tickcolor": "rgb(36,36,36)",
              "ticklen": 8,
              "ticks": "outside",
              "tickwidth": 2
             }
            },
            "marker": {
             "colorbar": {
              "outlinewidth": 0,
              "tickcolor": "rgb(36,36,36)",
              "ticklen": 8,
              "ticks": "outside",
              "tickwidth": 2
             }
            },
            "type": "scatter3d"
           }
          ],
          "scattercarpet": [
           {
            "marker": {
             "colorbar": {
              "outlinewidth": 0,
              "tickcolor": "rgb(36,36,36)",
              "ticklen": 8,
              "ticks": "outside",
              "tickwidth": 2
             }
            },
            "type": "scattercarpet"
           }
          ],
          "scattergeo": [
           {
            "marker": {
             "colorbar": {
              "outlinewidth": 0,
              "tickcolor": "rgb(36,36,36)",
              "ticklen": 8,
              "ticks": "outside",
              "tickwidth": 2
             }
            },
            "type": "scattergeo"
           }
          ],
          "scattergl": [
           {
            "marker": {
             "colorbar": {
              "outlinewidth": 0,
              "tickcolor": "rgb(36,36,36)",
              "ticklen": 8,
              "ticks": "outside",
              "tickwidth": 2
             }
            },
            "type": "scattergl"
           }
          ],
          "scattermapbox": [
           {
            "marker": {
             "colorbar": {
              "outlinewidth": 0,
              "tickcolor": "rgb(36,36,36)",
              "ticklen": 8,
              "ticks": "outside",
              "tickwidth": 2
             }
            },
            "type": "scattermapbox"
           }
          ],
          "scatterpolar": [
           {
            "marker": {
             "colorbar": {
              "outlinewidth": 0,
              "tickcolor": "rgb(36,36,36)",
              "ticklen": 8,
              "ticks": "outside",
              "tickwidth": 2
             }
            },
            "type": "scatterpolar"
           }
          ],
          "scatterpolargl": [
           {
            "marker": {
             "colorbar": {
              "outlinewidth": 0,
              "tickcolor": "rgb(36,36,36)",
              "ticklen": 8,
              "ticks": "outside",
              "tickwidth": 2
             }
            },
            "type": "scatterpolargl"
           }
          ],
          "scatterternary": [
           {
            "marker": {
             "colorbar": {
              "outlinewidth": 0,
              "tickcolor": "rgb(36,36,36)",
              "ticklen": 8,
              "ticks": "outside",
              "tickwidth": 2
             }
            },
            "type": "scatterternary"
           }
          ],
          "surface": [
           {
            "colorbar": {
             "outlinewidth": 0,
             "tickcolor": "rgb(36,36,36)",
             "ticklen": 8,
             "ticks": "outside",
             "tickwidth": 2
            },
            "colorscale": [
             [
              0,
              "rgb(2,4,25)"
             ],
             [
              0.06274509803921569,
              "rgb(24,15,41)"
             ],
             [
              0.12549019607843137,
              "rgb(47,23,57)"
             ],
             [
              0.18823529411764706,
              "rgb(71,28,72)"
             ],
             [
              0.25098039215686274,
              "rgb(97,30,82)"
             ],
             [
              0.3137254901960784,
              "rgb(123,30,89)"
             ],
             [
              0.3764705882352941,
              "rgb(150,27,91)"
             ],
             [
              0.4392156862745098,
              "rgb(177,22,88)"
             ],
             [
              0.5019607843137255,
              "rgb(203,26,79)"
             ],
             [
              0.5647058823529412,
              "rgb(223,47,67)"
             ],
             [
              0.6274509803921569,
              "rgb(236,76,61)"
             ],
             [
              0.6901960784313725,
              "rgb(242,107,73)"
             ],
             [
              0.7529411764705882,
              "rgb(244,135,95)"
             ],
             [
              0.8156862745098039,
              "rgb(245,162,122)"
             ],
             [
              0.8784313725490196,
              "rgb(246,188,153)"
             ],
             [
              0.9411764705882353,
              "rgb(247,212,187)"
             ],
             [
              1,
              "rgb(250,234,220)"
             ]
            ],
            "type": "surface"
           }
          ],
          "table": [
           {
            "cells": {
             "fill": {
              "color": "rgb(231,231,240)"
             },
             "line": {
              "color": "white"
             }
            },
            "header": {
             "fill": {
              "color": "rgb(183,183,191)"
             },
             "line": {
              "color": "white"
             }
            },
            "type": "table"
           }
          ]
         },
         "layout": {
          "annotationdefaults": {
           "arrowcolor": "rgb(67,103,167)"
          },
          "autotypenumbers": "strict",
          "coloraxis": {
           "colorbar": {
            "outlinewidth": 0,
            "tickcolor": "rgb(36,36,36)",
            "ticklen": 8,
            "ticks": "outside",
            "tickwidth": 2
           }
          },
          "colorscale": {
           "sequential": [
            [
             0,
             "rgb(2,4,25)"
            ],
            [
             0.06274509803921569,
             "rgb(24,15,41)"
            ],
            [
             0.12549019607843137,
             "rgb(47,23,57)"
            ],
            [
             0.18823529411764706,
             "rgb(71,28,72)"
            ],
            [
             0.25098039215686274,
             "rgb(97,30,82)"
            ],
            [
             0.3137254901960784,
             "rgb(123,30,89)"
            ],
            [
             0.3764705882352941,
             "rgb(150,27,91)"
            ],
            [
             0.4392156862745098,
             "rgb(177,22,88)"
            ],
            [
             0.5019607843137255,
             "rgb(203,26,79)"
            ],
            [
             0.5647058823529412,
             "rgb(223,47,67)"
            ],
            [
             0.6274509803921569,
             "rgb(236,76,61)"
            ],
            [
             0.6901960784313725,
             "rgb(242,107,73)"
            ],
            [
             0.7529411764705882,
             "rgb(244,135,95)"
            ],
            [
             0.8156862745098039,
             "rgb(245,162,122)"
            ],
            [
             0.8784313725490196,
             "rgb(246,188,153)"
            ],
            [
             0.9411764705882353,
             "rgb(247,212,187)"
            ],
            [
             1,
             "rgb(250,234,220)"
            ]
           ],
           "sequentialminus": [
            [
             0,
             "rgb(2,4,25)"
            ],
            [
             0.06274509803921569,
             "rgb(24,15,41)"
            ],
            [
             0.12549019607843137,
             "rgb(47,23,57)"
            ],
            [
             0.18823529411764706,
             "rgb(71,28,72)"
            ],
            [
             0.25098039215686274,
             "rgb(97,30,82)"
            ],
            [
             0.3137254901960784,
             "rgb(123,30,89)"
            ],
            [
             0.3764705882352941,
             "rgb(150,27,91)"
            ],
            [
             0.4392156862745098,
             "rgb(177,22,88)"
            ],
            [
             0.5019607843137255,
             "rgb(203,26,79)"
            ],
            [
             0.5647058823529412,
             "rgb(223,47,67)"
            ],
            [
             0.6274509803921569,
             "rgb(236,76,61)"
            ],
            [
             0.6901960784313725,
             "rgb(242,107,73)"
            ],
            [
             0.7529411764705882,
             "rgb(244,135,95)"
            ],
            [
             0.8156862745098039,
             "rgb(245,162,122)"
            ],
            [
             0.8784313725490196,
             "rgb(246,188,153)"
            ],
            [
             0.9411764705882353,
             "rgb(247,212,187)"
            ],
            [
             1,
             "rgb(250,234,220)"
            ]
           ]
          },
          "colorway": [
           "rgb(76,114,176)",
           "rgb(221,132,82)",
           "rgb(85,168,104)",
           "rgb(196,78,82)",
           "rgb(129,114,179)",
           "rgb(147,120,96)",
           "rgb(218,139,195)",
           "rgb(140,140,140)",
           "rgb(204,185,116)",
           "rgb(100,181,205)"
          ],
          "font": {
           "color": "rgb(36,36,36)"
          },
          "geo": {
           "bgcolor": "white",
           "lakecolor": "white",
           "landcolor": "rgb(234,234,242)",
           "showlakes": true,
           "showland": true,
           "subunitcolor": "white"
          },
          "hoverlabel": {
           "align": "left"
          },
          "hovermode": "closest",
          "paper_bgcolor": "white",
          "plot_bgcolor": "rgb(234,234,242)",
          "polar": {
           "angularaxis": {
            "gridcolor": "white",
            "linecolor": "white",
            "showgrid": true,
            "ticks": ""
           },
           "bgcolor": "rgb(234,234,242)",
           "radialaxis": {
            "gridcolor": "white",
            "linecolor": "white",
            "showgrid": true,
            "ticks": ""
           }
          },
          "scene": {
           "xaxis": {
            "backgroundcolor": "rgb(234,234,242)",
            "gridcolor": "white",
            "gridwidth": 2,
            "linecolor": "white",
            "showbackground": true,
            "showgrid": true,
            "ticks": "",
            "zerolinecolor": "white"
           },
           "yaxis": {
            "backgroundcolor": "rgb(234,234,242)",
            "gridcolor": "white",
            "gridwidth": 2,
            "linecolor": "white",
            "showbackground": true,
            "showgrid": true,
            "ticks": "",
            "zerolinecolor": "white"
           },
           "zaxis": {
            "backgroundcolor": "rgb(234,234,242)",
            "gridcolor": "white",
            "gridwidth": 2,
            "linecolor": "white",
            "showbackground": true,
            "showgrid": true,
            "ticks": "",
            "zerolinecolor": "white"
           }
          },
          "shapedefaults": {
           "fillcolor": "rgb(67,103,167)",
           "line": {
            "width": 0
           },
           "opacity": 0.5
          },
          "ternary": {
           "aaxis": {
            "gridcolor": "white",
            "linecolor": "white",
            "showgrid": true,
            "ticks": ""
           },
           "baxis": {
            "gridcolor": "white",
            "linecolor": "white",
            "showgrid": true,
            "ticks": ""
           },
           "bgcolor": "rgb(234,234,242)",
           "caxis": {
            "gridcolor": "white",
            "linecolor": "white",
            "showgrid": true,
            "ticks": ""
           }
          },
          "xaxis": {
           "automargin": true,
           "gridcolor": "white",
           "linecolor": "white",
           "showgrid": true,
           "ticks": "",
           "title": {
            "standoff": 15
           },
           "zerolinecolor": "white"
          },
          "yaxis": {
           "automargin": true,
           "gridcolor": "white",
           "linecolor": "white",
           "showgrid": true,
           "ticks": "",
           "title": {
            "standoff": 15
           },
           "zerolinecolor": "white"
          }
         }
        },
        "title": {
         "text": "Sorted by: loop_flow_from_lu, ascending: False, head: 20"
        },
        "xaxis": {
         "anchor": "y",
         "domain": [
          0,
          1
         ],
         "title": {
          "text": "Flow decomposition value"
         }
        },
        "yaxis": {
         "anchor": "x",
         "domain": [
          0,
          1
         ],
         "title": {
          "text": "xnec_id"
         }
        }
       }
      }
     },
     "metadata": {},
     "output_type": "display_data"
    }
   ],
   "source": [
    "flow_decomposition_bar_chart(f'loop_flow_from_{random.Random(12).choice(list(countries)).alpha_2.lower()}')"
   ]
  },
  {
   "cell_type": "markdown",
   "metadata": {},
   "source": [
    "# Loop flow repartition from source\n",
    "\n",
    "Loop flows are sum for each source."
   ]
  },
  {
   "cell_type": "code",
   "execution_count": 18,
   "metadata": {},
   "outputs": [],
   "source": [
    "c1, c2 = 'country1', 'country2'\n",
    "df_sum1 = flow_dec.groupby(c1).sum().transpose()\n",
    "df_sum2 = flow_dec.groupby(c2).sum().transpose()\n",
    "df_lf_per_country = pd.concat([df_sum1, df_sum2]).groupby(level=0).sum()/2"
   ]
  },
  {
   "cell_type": "code",
   "execution_count": 19,
   "metadata": {},
   "outputs": [
    {
     "data": {
      "application/vnd.plotly.v1+json": {
       "config": {
        "plotlyServerURL": "https://plot.ly"
       },
       "data": [
        {
         "alignmentgroup": "True",
         "hovertemplate": "Impacted country=BG<br>Loop flow value per origin=%{x}<br>Origin of loop flow=%{y}<extra></extra>",
         "legendgroup": "BG",
         "marker": {
          "color": "#0DF9FF",
          "pattern": {
           "shape": ""
          }
         },
         "name": "BG",
         "offsetgroup": "BG",
         "orientation": "h",
         "showlegend": true,
         "textposition": "auto",
         "texttemplate": "%{x:.0f}",
         "type": "bar",
         "x": [
          null,
          null,
          153.5457176204125,
          null,
          401.28510497913624,
          -71.66205270312564,
          29.886434427452706,
          39.61230050493592,
          null
         ],
         "xaxis": "x",
         "y": [
          "loop_flow_from_dk",
          "loop_flow_from_hu",
          "loop_flow_from_fr",
          "loop_flow_from_lt",
          "loop_flow_from_bg",
          "loop_flow_from_lu",
          "loop_flow_from_ee",
          "loop_flow_from_cz",
          "loop_flow_from_ie"
         ],
         "yaxis": "y"
        },
        {
         "alignmentgroup": "True",
         "hovertemplate": "Impacted country=CZ<br>Loop flow value per origin=%{x}<br>Origin of loop flow=%{y}<extra></extra>",
         "legendgroup": "CZ",
         "marker": {
          "color": "#AF0038",
          "pattern": {
           "shape": ""
          }
         },
         "name": "CZ",
         "offsetgroup": "CZ",
         "orientation": "h",
         "showlegend": true,
         "textposition": "auto",
         "texttemplate": "%{x:.0f}",
         "type": "bar",
         "x": [
          null,
          null,
          null,
          null,
          70.00963992211572,
          null,
          null,
          null,
          null
         ],
         "xaxis": "x",
         "y": [
          "loop_flow_from_dk",
          "loop_flow_from_hu",
          "loop_flow_from_fr",
          "loop_flow_from_lt",
          "loop_flow_from_bg",
          "loop_flow_from_lu",
          "loop_flow_from_ee",
          "loop_flow_from_cz",
          "loop_flow_from_ie"
         ],
         "yaxis": "y"
        },
        {
         "alignmentgroup": "True",
         "hovertemplate": "Impacted country=DK<br>Loop flow value per origin=%{x}<br>Origin of loop flow=%{y}<extra></extra>",
         "legendgroup": "DK",
         "marker": {
          "color": "#FD3216",
          "pattern": {
           "shape": ""
          }
         },
         "name": "DK",
         "offsetgroup": "DK",
         "orientation": "h",
         "showlegend": true,
         "textposition": "auto",
         "texttemplate": "%{x:.0f}",
         "type": "bar",
         "x": [
          1890.3128943850788,
          -797.4600641468413,
          null,
          1377.9364750778498,
          137.31767456529252,
          286.1960104599969,
          55.31963037490904,
          14.355594474478295,
          null
         ],
         "xaxis": "x",
         "y": [
          "loop_flow_from_dk",
          "loop_flow_from_hu",
          "loop_flow_from_fr",
          "loop_flow_from_lt",
          "loop_flow_from_bg",
          "loop_flow_from_lu",
          "loop_flow_from_ee",
          "loop_flow_from_cz",
          "loop_flow_from_ie"
         ],
         "yaxis": "y"
        },
        {
         "alignmentgroup": "True",
         "hovertemplate": "Impacted country=EE<br>Loop flow value per origin=%{x}<br>Origin of loop flow=%{y}<extra></extra>",
         "legendgroup": "EE",
         "marker": {
          "color": "#00A08B",
          "pattern": {
           "shape": ""
          }
         },
         "name": "EE",
         "offsetgroup": "EE",
         "orientation": "h",
         "showlegend": true,
         "textposition": "auto",
         "texttemplate": "%{x:.0f}",
         "type": "bar",
         "x": [
          null,
          null,
          null,
          null,
          null,
          61.212931481770404,
          64.39813355110286,
          null,
          null
         ],
         "xaxis": "x",
         "y": [
          "loop_flow_from_dk",
          "loop_flow_from_hu",
          "loop_flow_from_fr",
          "loop_flow_from_lt",
          "loop_flow_from_bg",
          "loop_flow_from_lu",
          "loop_flow_from_ee",
          "loop_flow_from_cz",
          "loop_flow_from_ie"
         ],
         "yaxis": "y"
        },
        {
         "alignmentgroup": "True",
         "hovertemplate": "Impacted country=FR<br>Loop flow value per origin=%{x}<br>Origin of loop flow=%{y}<extra></extra>",
         "legendgroup": "FR",
         "marker": {
          "color": "#6C4516",
          "pattern": {
           "shape": ""
          }
         },
         "name": "FR",
         "offsetgroup": "FR",
         "orientation": "h",
         "showlegend": true,
         "textposition": "auto",
         "texttemplate": "%{x:.0f}",
         "type": "bar",
         "x": [
          null,
          null,
          445.5454913796945,
          null,
          null,
          null,
          null,
          null,
          null
         ],
         "xaxis": "x",
         "y": [
          "loop_flow_from_dk",
          "loop_flow_from_hu",
          "loop_flow_from_fr",
          "loop_flow_from_lt",
          "loop_flow_from_bg",
          "loop_flow_from_lu",
          "loop_flow_from_ee",
          "loop_flow_from_cz",
          "loop_flow_from_ie"
         ],
         "yaxis": "y"
        },
        {
         "alignmentgroup": "True",
         "hovertemplate": "Impacted country=HU<br>Loop flow value per origin=%{x}<br>Origin of loop flow=%{y}<extra></extra>",
         "legendgroup": "HU",
         "marker": {
          "color": "#511CFB",
          "pattern": {
           "shape": ""
          }
         },
         "name": "HU",
         "offsetgroup": "HU",
         "orientation": "h",
         "showlegend": true,
         "textposition": "auto",
         "texttemplate": "%{x:.0f}",
         "type": "bar",
         "x": [
          1052.1910187939734,
          1361.8405972920793,
          237.01235788811604,
          -304.9190168905978,
          null,
          86.99302809986963,
          null,
          null,
          null
         ],
         "xaxis": "x",
         "y": [
          "loop_flow_from_dk",
          "loop_flow_from_hu",
          "loop_flow_from_fr",
          "loop_flow_from_lt",
          "loop_flow_from_bg",
          "loop_flow_from_lu",
          "loop_flow_from_ee",
          "loop_flow_from_cz",
          "loop_flow_from_ie"
         ],
         "yaxis": "y"
        },
        {
         "alignmentgroup": "True",
         "hovertemplate": "Impacted country=IE<br>Loop flow value per origin=%{x}<br>Origin of loop flow=%{y}<extra></extra>",
         "legendgroup": "IE",
         "marker": {
          "color": "#F6F926",
          "pattern": {
           "shape": ""
          }
         },
         "name": "IE",
         "offsetgroup": "IE",
         "orientation": "h",
         "showlegend": true,
         "textposition": "auto",
         "texttemplate": "%{x:.0f}",
         "type": "bar",
         "x": [
          null,
          null,
          null,
          null,
          225.1408231193712,
          null,
          null,
          11.631236232268801,
          null
         ],
         "xaxis": "x",
         "y": [
          "loop_flow_from_dk",
          "loop_flow_from_hu",
          "loop_flow_from_fr",
          "loop_flow_from_lt",
          "loop_flow_from_bg",
          "loop_flow_from_lu",
          "loop_flow_from_ee",
          "loop_flow_from_cz",
          "loop_flow_from_ie"
         ],
         "yaxis": "y"
        },
        {
         "alignmentgroup": "True",
         "hovertemplate": "Impacted country=LT<br>Loop flow value per origin=%{x}<br>Origin of loop flow=%{y}<extra></extra>",
         "legendgroup": "LT",
         "marker": {
          "color": "#C9FBE5",
          "pattern": {
           "shape": ""
          }
         },
         "name": "LT",
         "offsetgroup": "LT",
         "orientation": "h",
         "showlegend": true,
         "textposition": "auto",
         "texttemplate": "%{x:.0f}",
         "type": "bar",
         "x": [
          5337.969374604592,
          -5714.817179090128,
          -1570.5128448153562,
          811.8307664541921,
          1195.1786346506965,
          1097.8853153016055,
          378.2054172184006,
          122.24925496614048,
          null
         ],
         "xaxis": "x",
         "y": [
          "loop_flow_from_dk",
          "loop_flow_from_hu",
          "loop_flow_from_fr",
          "loop_flow_from_lt",
          "loop_flow_from_bg",
          "loop_flow_from_lu",
          "loop_flow_from_ee",
          "loop_flow_from_cz",
          "loop_flow_from_ie"
         ],
         "yaxis": "y"
        },
        {
         "alignmentgroup": "True",
         "hovertemplate": "Impacted country=LU<br>Loop flow value per origin=%{x}<br>Origin of loop flow=%{y}<extra></extra>",
         "legendgroup": "LU",
         "marker": {
          "color": "#FC0080",
          "pattern": {
           "shape": ""
          }
         },
         "name": "LU",
         "offsetgroup": "LU",
         "orientation": "h",
         "showlegend": true,
         "textposition": "auto",
         "texttemplate": "%{x:.0f}",
         "type": "bar",
         "x": [
          -382.9833937195641,
          332.60567990136,
          281.4971132759342,
          null,
          99.97875914165866,
          249.19768003134487,
          137.88038105852274,
          12.509835105259148,
          null
         ],
         "xaxis": "x",
         "y": [
          "loop_flow_from_dk",
          "loop_flow_from_hu",
          "loop_flow_from_fr",
          "loop_flow_from_lt",
          "loop_flow_from_bg",
          "loop_flow_from_lu",
          "loop_flow_from_ee",
          "loop_flow_from_cz",
          "loop_flow_from_ie"
         ],
         "yaxis": "y"
        },
        {
         "alignmentgroup": "True",
         "hovertemplate": "Impacted country=masked_positive<br>Loop flow value per origin=%{x}<br>Origin of loop flow=%{y}<extra></extra>",
         "legendgroup": "masked_positive",
         "marker": {
          "color": "#FB0D0D",
          "pattern": {
           "shape": ""
          }
         },
         "name": "masked_positive",
         "offsetgroup": "masked_positive",
         "orientation": "h",
         "showlegend": true,
         "textposition": "auto",
         "texttemplate": "%{x:.0f}",
         "type": "bar",
         "x": [
          26.615818178821467,
          611.417025892295,
          87.82008845134104,
          74.10264885740824,
          76.93776774075455,
          32.791235784467666,
          12.884014305213004,
          3.943750211748722,
          0
         ],
         "xaxis": "x",
         "y": [
          "loop_flow_from_dk",
          "loop_flow_from_hu",
          "loop_flow_from_fr",
          "loop_flow_from_lt",
          "loop_flow_from_bg",
          "loop_flow_from_lu",
          "loop_flow_from_ee",
          "loop_flow_from_cz",
          "loop_flow_from_ie"
         ],
         "yaxis": "y"
        },
        {
         "alignmentgroup": "True",
         "hovertemplate": "Impacted country=masked_negative<br>Loop flow value per origin=%{x}<br>Origin of loop flow=%{y}<extra></extra>",
         "legendgroup": "masked_negative",
         "marker": {
          "color": "#D626FF",
          "pattern": {
           "shape": ""
          }
         },
         "name": "masked_negative",
         "offsetgroup": "masked_negative",
         "orientation": "h",
         "showlegend": true,
         "textposition": "auto",
         "texttemplate": "%{x:.0f}",
         "type": "bar",
         "x": [
          -532.1597389683316,
          -21.803068360531586,
          0,
          -70.12120078366372,
          -26.306482963736983,
          -16.045115460746036,
          -17.975750310760773,
          -2.8132689335231733,
          0
         ],
         "xaxis": "x",
         "y": [
          "loop_flow_from_dk",
          "loop_flow_from_hu",
          "loop_flow_from_fr",
          "loop_flow_from_lt",
          "loop_flow_from_bg",
          "loop_flow_from_lu",
          "loop_flow_from_ee",
          "loop_flow_from_cz",
          "loop_flow_from_ie"
         ],
         "yaxis": "y"
        }
       ],
       "layout": {
        "barmode": "relative",
        "height": 1000,
        "legend": {
         "title": {
          "text": "Impacted country"
         },
         "tracegroupgap": 0
        },
        "margin": {
         "t": 60
        },
        "template": {
         "data": {
          "bar": [
           {
            "error_x": {
             "color": "#2a3f5f"
            },
            "error_y": {
             "color": "#2a3f5f"
            },
            "marker": {
             "line": {
              "color": "#E5ECF6",
              "width": 0.5
             },
             "pattern": {
              "fillmode": "overlay",
              "size": 10,
              "solidity": 0.2
             }
            },
            "type": "bar"
           }
          ],
          "barpolar": [
           {
            "marker": {
             "line": {
              "color": "#E5ECF6",
              "width": 0.5
             },
             "pattern": {
              "fillmode": "overlay",
              "size": 10,
              "solidity": 0.2
             }
            },
            "type": "barpolar"
           }
          ],
          "carpet": [
           {
            "aaxis": {
             "endlinecolor": "#2a3f5f",
             "gridcolor": "white",
             "linecolor": "white",
             "minorgridcolor": "white",
             "startlinecolor": "#2a3f5f"
            },
            "baxis": {
             "endlinecolor": "#2a3f5f",
             "gridcolor": "white",
             "linecolor": "white",
             "minorgridcolor": "white",
             "startlinecolor": "#2a3f5f"
            },
            "type": "carpet"
           }
          ],
          "choropleth": [
           {
            "colorbar": {
             "outlinewidth": 0,
             "ticks": ""
            },
            "type": "choropleth"
           }
          ],
          "contour": [
           {
            "colorbar": {
             "outlinewidth": 0,
             "ticks": ""
            },
            "colorscale": [
             [
              0,
              "#0d0887"
             ],
             [
              0.1111111111111111,
              "#46039f"
             ],
             [
              0.2222222222222222,
              "#7201a8"
             ],
             [
              0.3333333333333333,
              "#9c179e"
             ],
             [
              0.4444444444444444,
              "#bd3786"
             ],
             [
              0.5555555555555556,
              "#d8576b"
             ],
             [
              0.6666666666666666,
              "#ed7953"
             ],
             [
              0.7777777777777778,
              "#fb9f3a"
             ],
             [
              0.8888888888888888,
              "#fdca26"
             ],
             [
              1,
              "#f0f921"
             ]
            ],
            "type": "contour"
           }
          ],
          "contourcarpet": [
           {
            "colorbar": {
             "outlinewidth": 0,
             "ticks": ""
            },
            "type": "contourcarpet"
           }
          ],
          "heatmap": [
           {
            "colorbar": {
             "outlinewidth": 0,
             "ticks": ""
            },
            "colorscale": [
             [
              0,
              "#0d0887"
             ],
             [
              0.1111111111111111,
              "#46039f"
             ],
             [
              0.2222222222222222,
              "#7201a8"
             ],
             [
              0.3333333333333333,
              "#9c179e"
             ],
             [
              0.4444444444444444,
              "#bd3786"
             ],
             [
              0.5555555555555556,
              "#d8576b"
             ],
             [
              0.6666666666666666,
              "#ed7953"
             ],
             [
              0.7777777777777778,
              "#fb9f3a"
             ],
             [
              0.8888888888888888,
              "#fdca26"
             ],
             [
              1,
              "#f0f921"
             ]
            ],
            "type": "heatmap"
           }
          ],
          "heatmapgl": [
           {
            "colorbar": {
             "outlinewidth": 0,
             "ticks": ""
            },
            "colorscale": [
             [
              0,
              "#0d0887"
             ],
             [
              0.1111111111111111,
              "#46039f"
             ],
             [
              0.2222222222222222,
              "#7201a8"
             ],
             [
              0.3333333333333333,
              "#9c179e"
             ],
             [
              0.4444444444444444,
              "#bd3786"
             ],
             [
              0.5555555555555556,
              "#d8576b"
             ],
             [
              0.6666666666666666,
              "#ed7953"
             ],
             [
              0.7777777777777778,
              "#fb9f3a"
             ],
             [
              0.8888888888888888,
              "#fdca26"
             ],
             [
              1,
              "#f0f921"
             ]
            ],
            "type": "heatmapgl"
           }
          ],
          "histogram": [
           {
            "marker": {
             "pattern": {
              "fillmode": "overlay",
              "size": 10,
              "solidity": 0.2
             }
            },
            "type": "histogram"
           }
          ],
          "histogram2d": [
           {
            "colorbar": {
             "outlinewidth": 0,
             "ticks": ""
            },
            "colorscale": [
             [
              0,
              "#0d0887"
             ],
             [
              0.1111111111111111,
              "#46039f"
             ],
             [
              0.2222222222222222,
              "#7201a8"
             ],
             [
              0.3333333333333333,
              "#9c179e"
             ],
             [
              0.4444444444444444,
              "#bd3786"
             ],
             [
              0.5555555555555556,
              "#d8576b"
             ],
             [
              0.6666666666666666,
              "#ed7953"
             ],
             [
              0.7777777777777778,
              "#fb9f3a"
             ],
             [
              0.8888888888888888,
              "#fdca26"
             ],
             [
              1,
              "#f0f921"
             ]
            ],
            "type": "histogram2d"
           }
          ],
          "histogram2dcontour": [
           {
            "colorbar": {
             "outlinewidth": 0,
             "ticks": ""
            },
            "colorscale": [
             [
              0,
              "#0d0887"
             ],
             [
              0.1111111111111111,
              "#46039f"
             ],
             [
              0.2222222222222222,
              "#7201a8"
             ],
             [
              0.3333333333333333,
              "#9c179e"
             ],
             [
              0.4444444444444444,
              "#bd3786"
             ],
             [
              0.5555555555555556,
              "#d8576b"
             ],
             [
              0.6666666666666666,
              "#ed7953"
             ],
             [
              0.7777777777777778,
              "#fb9f3a"
             ],
             [
              0.8888888888888888,
              "#fdca26"
             ],
             [
              1,
              "#f0f921"
             ]
            ],
            "type": "histogram2dcontour"
           }
          ],
          "mesh3d": [
           {
            "colorbar": {
             "outlinewidth": 0,
             "ticks": ""
            },
            "type": "mesh3d"
           }
          ],
          "parcoords": [
           {
            "line": {
             "colorbar": {
              "outlinewidth": 0,
              "ticks": ""
             }
            },
            "type": "parcoords"
           }
          ],
          "pie": [
           {
            "automargin": true,
            "type": "pie"
           }
          ],
          "scatter": [
           {
            "fillpattern": {
             "fillmode": "overlay",
             "size": 10,
             "solidity": 0.2
            },
            "type": "scatter"
           }
          ],
          "scatter3d": [
           {
            "line": {
             "colorbar": {
              "outlinewidth": 0,
              "ticks": ""
             }
            },
            "marker": {
             "colorbar": {
              "outlinewidth": 0,
              "ticks": ""
             }
            },
            "type": "scatter3d"
           }
          ],
          "scattercarpet": [
           {
            "marker": {
             "colorbar": {
              "outlinewidth": 0,
              "ticks": ""
             }
            },
            "type": "scattercarpet"
           }
          ],
          "scattergeo": [
           {
            "marker": {
             "colorbar": {
              "outlinewidth": 0,
              "ticks": ""
             }
            },
            "type": "scattergeo"
           }
          ],
          "scattergl": [
           {
            "marker": {
             "colorbar": {
              "outlinewidth": 0,
              "ticks": ""
             }
            },
            "type": "scattergl"
           }
          ],
          "scattermapbox": [
           {
            "marker": {
             "colorbar": {
              "outlinewidth": 0,
              "ticks": ""
             }
            },
            "type": "scattermapbox"
           }
          ],
          "scatterpolar": [
           {
            "marker": {
             "colorbar": {
              "outlinewidth": 0,
              "ticks": ""
             }
            },
            "type": "scatterpolar"
           }
          ],
          "scatterpolargl": [
           {
            "marker": {
             "colorbar": {
              "outlinewidth": 0,
              "ticks": ""
             }
            },
            "type": "scatterpolargl"
           }
          ],
          "scatterternary": [
           {
            "marker": {
             "colorbar": {
              "outlinewidth": 0,
              "ticks": ""
             }
            },
            "type": "scatterternary"
           }
          ],
          "surface": [
           {
            "colorbar": {
             "outlinewidth": 0,
             "ticks": ""
            },
            "colorscale": [
             [
              0,
              "#0d0887"
             ],
             [
              0.1111111111111111,
              "#46039f"
             ],
             [
              0.2222222222222222,
              "#7201a8"
             ],
             [
              0.3333333333333333,
              "#9c179e"
             ],
             [
              0.4444444444444444,
              "#bd3786"
             ],
             [
              0.5555555555555556,
              "#d8576b"
             ],
             [
              0.6666666666666666,
              "#ed7953"
             ],
             [
              0.7777777777777778,
              "#fb9f3a"
             ],
             [
              0.8888888888888888,
              "#fdca26"
             ],
             [
              1,
              "#f0f921"
             ]
            ],
            "type": "surface"
           }
          ],
          "table": [
           {
            "cells": {
             "fill": {
              "color": "#EBF0F8"
             },
             "line": {
              "color": "white"
             }
            },
            "header": {
             "fill": {
              "color": "#C8D4E3"
             },
             "line": {
              "color": "white"
             }
            },
            "type": "table"
           }
          ]
         },
         "layout": {
          "annotationdefaults": {
           "arrowcolor": "#2a3f5f",
           "arrowhead": 0,
           "arrowwidth": 1
          },
          "autotypenumbers": "strict",
          "coloraxis": {
           "colorbar": {
            "outlinewidth": 0,
            "ticks": ""
           }
          },
          "colorscale": {
           "diverging": [
            [
             0,
             "#8e0152"
            ],
            [
             0.1,
             "#c51b7d"
            ],
            [
             0.2,
             "#de77ae"
            ],
            [
             0.3,
             "#f1b6da"
            ],
            [
             0.4,
             "#fde0ef"
            ],
            [
             0.5,
             "#f7f7f7"
            ],
            [
             0.6,
             "#e6f5d0"
            ],
            [
             0.7,
             "#b8e186"
            ],
            [
             0.8,
             "#7fbc41"
            ],
            [
             0.9,
             "#4d9221"
            ],
            [
             1,
             "#276419"
            ]
           ],
           "sequential": [
            [
             0,
             "#0d0887"
            ],
            [
             0.1111111111111111,
             "#46039f"
            ],
            [
             0.2222222222222222,
             "#7201a8"
            ],
            [
             0.3333333333333333,
             "#9c179e"
            ],
            [
             0.4444444444444444,
             "#bd3786"
            ],
            [
             0.5555555555555556,
             "#d8576b"
            ],
            [
             0.6666666666666666,
             "#ed7953"
            ],
            [
             0.7777777777777778,
             "#fb9f3a"
            ],
            [
             0.8888888888888888,
             "#fdca26"
            ],
            [
             1,
             "#f0f921"
            ]
           ],
           "sequentialminus": [
            [
             0,
             "#0d0887"
            ],
            [
             0.1111111111111111,
             "#46039f"
            ],
            [
             0.2222222222222222,
             "#7201a8"
            ],
            [
             0.3333333333333333,
             "#9c179e"
            ],
            [
             0.4444444444444444,
             "#bd3786"
            ],
            [
             0.5555555555555556,
             "#d8576b"
            ],
            [
             0.6666666666666666,
             "#ed7953"
            ],
            [
             0.7777777777777778,
             "#fb9f3a"
            ],
            [
             0.8888888888888888,
             "#fdca26"
            ],
            [
             1,
             "#f0f921"
            ]
           ]
          },
          "colorway": [
           "#636efa",
           "#EF553B",
           "#00cc96",
           "#ab63fa",
           "#FFA15A",
           "#19d3f3",
           "#FF6692",
           "#B6E880",
           "#FF97FF",
           "#FECB52"
          ],
          "font": {
           "color": "#2a3f5f"
          },
          "geo": {
           "bgcolor": "white",
           "lakecolor": "white",
           "landcolor": "#E5ECF6",
           "showlakes": true,
           "showland": true,
           "subunitcolor": "white"
          },
          "hoverlabel": {
           "align": "left"
          },
          "hovermode": "closest",
          "mapbox": {
           "style": "light"
          },
          "paper_bgcolor": "white",
          "plot_bgcolor": "#E5ECF6",
          "polar": {
           "angularaxis": {
            "gridcolor": "white",
            "linecolor": "white",
            "ticks": ""
           },
           "bgcolor": "#E5ECF6",
           "radialaxis": {
            "gridcolor": "white",
            "linecolor": "white",
            "ticks": ""
           }
          },
          "scene": {
           "xaxis": {
            "backgroundcolor": "#E5ECF6",
            "gridcolor": "white",
            "gridwidth": 2,
            "linecolor": "white",
            "showbackground": true,
            "ticks": "",
            "zerolinecolor": "white"
           },
           "yaxis": {
            "backgroundcolor": "#E5ECF6",
            "gridcolor": "white",
            "gridwidth": 2,
            "linecolor": "white",
            "showbackground": true,
            "ticks": "",
            "zerolinecolor": "white"
           },
           "zaxis": {
            "backgroundcolor": "#E5ECF6",
            "gridcolor": "white",
            "gridwidth": 2,
            "linecolor": "white",
            "showbackground": true,
            "ticks": "",
            "zerolinecolor": "white"
           }
          },
          "shapedefaults": {
           "line": {
            "color": "#2a3f5f"
           }
          },
          "ternary": {
           "aaxis": {
            "gridcolor": "white",
            "linecolor": "white",
            "ticks": ""
           },
           "baxis": {
            "gridcolor": "white",
            "linecolor": "white",
            "ticks": ""
           },
           "bgcolor": "#E5ECF6",
           "caxis": {
            "gridcolor": "white",
            "linecolor": "white",
            "ticks": ""
           }
          },
          "title": {
           "x": 0.05
          },
          "xaxis": {
           "automargin": true,
           "gridcolor": "white",
           "linecolor": "white",
           "ticks": "",
           "title": {
            "standoff": 15
           },
           "zerolinecolor": "white",
           "zerolinewidth": 2
          },
          "yaxis": {
           "automargin": true,
           "gridcolor": "white",
           "linecolor": "white",
           "ticks": "",
           "title": {
            "standoff": 15
           },
           "zerolinecolor": "white",
           "zerolinewidth": 2
          }
         }
        },
        "xaxis": {
         "anchor": "y",
         "domain": [
          0,
          1
         ],
         "title": {
          "text": "Loop flow value per origin"
         }
        },
        "yaxis": {
         "anchor": "x",
         "domain": [
          0,
          1
         ],
         "title": {
          "text": "Origin of loop flow"
         }
        }
       }
      }
     },
     "metadata": {},
     "output_type": "display_data"
    }
   ],
   "source": [
    "threshold = .03\n",
    "df = df_lf_per_country.copy().transpose()\n",
    "df_p = df[[c for c in df.columns if ('loop_flow_from' in c)]].transpose()\n",
    "df_s = df_p.abs().sum(axis=1)\n",
    "df_p = df_p.reindex(df_s.sort_values(ascending=False).index)\n",
    "df_m = df_p.abs().div(df_p.abs().sum(axis=1), axis=0) > threshold\n",
    "df_f = df_p[df_m]\n",
    "df_f['masked_positive'] = df_p[df_p[df_m == False]>0].sum(axis=1)\n",
    "df_f['masked_negative'] = df_p[df_p[df_m == False]<0].sum(axis=1)\n",
    "fig = px.bar(df_f,\n",
    "    orientation='h',\n",
    "    color_discrete_sequence=colors[:df_f.columns.size],\n",
    "    text_auto='.0f',\n",
    "    title='',\n",
    "    height=1000,\n",
    "    labels={\n",
    "        'index':'Origin of loop flow',\n",
    "        'value': 'Loop flow value per origin',\n",
    "        'variable': 'Impacted country',\n",
    "    }\n",
    "    )\n",
    "fig.show()"
   ]
  },
  {
   "cell_type": "code",
   "execution_count": 20,
   "metadata": {},
   "outputs": [
    {
     "data": {
      "application/vnd.plotly.v1+json": {
       "config": {
        "plotlyServerURL": "https://plot.ly"
       },
       "data": [
        {
         "alignmentgroup": "True",
         "hovertemplate": "Impacted country=BG<br>Loop flow value normalized per origin=%{x}<br>Origin of loop flow=%{y}<extra></extra>",
         "legendgroup": "BG",
         "marker": {
          "color": "#0DF9FF",
          "pattern": {
           "shape": ""
          }
         },
         "name": "BG",
         "offsetgroup": "BG",
         "orientation": "h",
         "showlegend": true,
         "textposition": "auto",
         "texttemplate": "%{x:.2f}",
         "type": "bar",
         "x": [
          null,
          0.17977475815022043,
          0.19125729435945893,
          0.042906388158077645,
          -0.03767753906735583,
          null,
          null,
          0.05531318071783461,
          null
         ],
         "xaxis": "x",
         "y": [
          "loop_flow_from_ie",
          "loop_flow_from_bg",
          "loop_flow_from_cz",
          "loop_flow_from_ee",
          "loop_flow_from_lu",
          "loop_flow_from_dk",
          "loop_flow_from_lt",
          "loop_flow_from_fr",
          "loop_flow_from_hu"
         ],
         "yaxis": "y"
        },
        {
         "alignmentgroup": "True",
         "hovertemplate": "Impacted country=CZ<br>Loop flow value normalized per origin=%{x}<br>Origin of loop flow=%{y}<extra></extra>",
         "legendgroup": "CZ",
         "marker": {
          "color": "#AF0038",
          "pattern": {
           "shape": ""
          }
         },
         "name": "CZ",
         "offsetgroup": "CZ",
         "orientation": "h",
         "showlegend": true,
         "textposition": "auto",
         "texttemplate": "%{x:.2f}",
         "type": "bar",
         "x": [
          null,
          0.031364149650749545,
          null,
          null,
          null,
          null,
          null,
          null,
          null
         ],
         "xaxis": "x",
         "y": [
          "loop_flow_from_ie",
          "loop_flow_from_bg",
          "loop_flow_from_cz",
          "loop_flow_from_ee",
          "loop_flow_from_lu",
          "loop_flow_from_dk",
          "loop_flow_from_lt",
          "loop_flow_from_fr",
          "loop_flow_from_hu"
         ],
         "yaxis": "y"
        },
        {
         "alignmentgroup": "True",
         "hovertemplate": "Impacted country=DK<br>Loop flow value normalized per origin=%{x}<br>Origin of loop flow=%{y}<extra></extra>",
         "legendgroup": "DK",
         "marker": {
          "color": "#FD3216",
          "pattern": {
           "shape": ""
          }
         },
         "name": "DK",
         "offsetgroup": "DK",
         "orientation": "h",
         "showlegend": true,
         "textposition": "auto",
         "texttemplate": "%{x:.2f}",
         "type": "bar",
         "x": [
          null,
          0.06151798665940923,
          0.06931211071086868,
          0.07941949513545682,
          0.15047240426811817,
          0.20497346471744451,
          0.5221612024097723,
          null,
          -0.09021098990068806
         ],
         "xaxis": "x",
         "y": [
          "loop_flow_from_ie",
          "loop_flow_from_bg",
          "loop_flow_from_cz",
          "loop_flow_from_ee",
          "loop_flow_from_lu",
          "loop_flow_from_dk",
          "loop_flow_from_lt",
          "loop_flow_from_fr",
          "loop_flow_from_hu"
         ],
         "yaxis": "y"
        },
        {
         "alignmentgroup": "True",
         "hovertemplate": "Impacted country=EE<br>Loop flow value normalized per origin=%{x}<br>Origin of loop flow=%{y}<extra></extra>",
         "legendgroup": "EE",
         "marker": {
          "color": "#00A08B",
          "pattern": {
           "shape": ""
          }
         },
         "name": "EE",
         "offsetgroup": "EE",
         "orientation": "h",
         "showlegend": true,
         "textposition": "auto",
         "texttemplate": "%{x:.2f}",
         "type": "bar",
         "x": [
          null,
          null,
          null,
          0.09245302652300526,
          0.03218373644537237,
          null,
          null,
          null,
          null
         ],
         "xaxis": "x",
         "y": [
          "loop_flow_from_ie",
          "loop_flow_from_bg",
          "loop_flow_from_cz",
          "loop_flow_from_ee",
          "loop_flow_from_lu",
          "loop_flow_from_dk",
          "loop_flow_from_lt",
          "loop_flow_from_fr",
          "loop_flow_from_hu"
         ],
         "yaxis": "y"
        },
        {
         "alignmentgroup": "True",
         "hovertemplate": "Impacted country=FR<br>Loop flow value normalized per origin=%{x}<br>Origin of loop flow=%{y}<extra></extra>",
         "legendgroup": "FR",
         "marker": {
          "color": "#6C4516",
          "pattern": {
           "shape": ""
          }
         },
         "name": "FR",
         "offsetgroup": "FR",
         "orientation": "h",
         "showlegend": true,
         "textposition": "auto",
         "texttemplate": "%{x:.2f}",
         "type": "bar",
         "x": [
          null,
          null,
          null,
          null,
          null,
          null,
          null,
          0.1605029346609742,
          null
         ],
         "xaxis": "x",
         "y": [
          "loop_flow_from_ie",
          "loop_flow_from_bg",
          "loop_flow_from_cz",
          "loop_flow_from_ee",
          "loop_flow_from_lu",
          "loop_flow_from_dk",
          "loop_flow_from_lt",
          "loop_flow_from_fr",
          "loop_flow_from_hu"
         ],
         "yaxis": "y"
        },
        {
         "alignmentgroup": "True",
         "hovertemplate": "Impacted country=HU<br>Loop flow value normalized per origin=%{x}<br>Origin of loop flow=%{y}<extra></extra>",
         "legendgroup": "HU",
         "marker": {
          "color": "#511CFB",
          "pattern": {
           "shape": ""
          }
         },
         "name": "HU",
         "offsetgroup": "HU",
         "orientation": "h",
         "showlegend": true,
         "textposition": "auto",
         "texttemplate": "%{x:.2f}",
         "type": "bar",
         "x": [
          null,
          null,
          null,
          null,
          0.04573805928221005,
          0.1140928781194907,
          -0.11554732992187093,
          0.08538113330281907,
          0.15405534884069264
         ],
         "xaxis": "x",
         "y": [
          "loop_flow_from_ie",
          "loop_flow_from_bg",
          "loop_flow_from_cz",
          "loop_flow_from_ee",
          "loop_flow_from_lu",
          "loop_flow_from_dk",
          "loop_flow_from_lt",
          "loop_flow_from_fr",
          "loop_flow_from_hu"
         ],
         "yaxis": "y"
        },
        {
         "alignmentgroup": "True",
         "hovertemplate": "Impacted country=IE<br>Loop flow value normalized per origin=%{x}<br>Origin of loop flow=%{y}<extra></extra>",
         "legendgroup": "IE",
         "marker": {
          "color": "#F6F926",
          "pattern": {
           "shape": ""
          }
         },
         "name": "IE",
         "offsetgroup": "IE",
         "orientation": "h",
         "showlegend": true,
         "textposition": "auto",
         "texttemplate": "%{x:.2f}",
         "type": "bar",
         "x": [
          null,
          0.10086254516755831,
          0.056158282742559865,
          null,
          null,
          null,
          null,
          null,
          null
         ],
         "xaxis": "x",
         "y": [
          "loop_flow_from_ie",
          "loop_flow_from_bg",
          "loop_flow_from_cz",
          "loop_flow_from_ee",
          "loop_flow_from_lu",
          "loop_flow_from_dk",
          "loop_flow_from_lt",
          "loop_flow_from_fr",
          "loop_flow_from_hu"
         ],
         "yaxis": "y"
        },
        {
         "alignmentgroup": "True",
         "hovertemplate": "Impacted country=LT<br>Loop flow value normalized per origin=%{x}<br>Origin of loop flow=%{y}<extra></extra>",
         "legendgroup": "LT",
         "marker": {
          "color": "#C9FBE5",
          "pattern": {
           "shape": ""
          }
         },
         "name": "LT",
         "offsetgroup": "LT",
         "orientation": "h",
         "showlegend": true,
         "textposition": "auto",
         "texttemplate": "%{x:.2f}",
         "type": "bar",
         "x": [
          null,
          0.5354371426315733,
          0.5902475100977855,
          0.5429697033298295,
          0.5772318165391919,
          0.5788153276202666,
          0.30763865884384717,
          -0.565760231879002,
          -0.6464766550770481
         ],
         "xaxis": "x",
         "y": [
          "loop_flow_from_ie",
          "loop_flow_from_bg",
          "loop_flow_from_cz",
          "loop_flow_from_ee",
          "loop_flow_from_lu",
          "loop_flow_from_dk",
          "loop_flow_from_lt",
          "loop_flow_from_fr",
          "loop_flow_from_hu"
         ],
         "yaxis": "y"
        },
        {
         "alignmentgroup": "True",
         "hovertemplate": "Impacted country=LU<br>Loop flow value normalized per origin=%{x}<br>Origin of loop flow=%{y}<extra></extra>",
         "legendgroup": "LU",
         "marker": {
          "color": "#FC0080",
          "pattern": {
           "shape": ""
          }
         },
         "name": "LU",
         "offsetgroup": "LU",
         "orientation": "h",
         "showlegend": true,
         "textposition": "auto",
         "texttemplate": "%{x:.2f}",
         "type": "bar",
         "x": [
          null,
          0.0447902427023433,
          0.060400360105738134,
          0.19794763953663322,
          0.13101990482706216,
          -0.041528274696280294,
          null,
          0.10140628432681573,
          0.03762531690234976
         ],
         "xaxis": "x",
         "y": [
          "loop_flow_from_ie",
          "loop_flow_from_bg",
          "loop_flow_from_cz",
          "loop_flow_from_ee",
          "loop_flow_from_lu",
          "loop_flow_from_dk",
          "loop_flow_from_lt",
          "loop_flow_from_fr",
          "loop_flow_from_hu"
         ],
         "yaxis": "y"
        },
        {
         "alignmentgroup": "True",
         "hovertemplate": "Impacted country=masked_positive<br>Loop flow value normalized per origin=%{x}<br>Origin of loop flow=%{y}<extra></extra>",
         "legendgroup": "masked_positive",
         "marker": {
          "color": "#FB0D0D",
          "pattern": {
           "shape": ""
          }
         },
         "name": "masked_positive",
         "offsetgroup": "masked_positive",
         "orientation": "h",
         "showlegend": true,
         "textposition": "auto",
         "texttemplate": "%{x:.2f}",
         "type": "bar",
         "x": [
          0,
          0.034467934185922776,
          0.019041332755582258,
          0.018496904344865714,
          0.017240548110649772,
          0.0028860494390148426,
          0.02808077798139957,
          0.03163623511255433,
          0.06916526309927193
         ],
         "xaxis": "x",
         "y": [
          "loop_flow_from_ie",
          "loop_flow_from_bg",
          "loop_flow_from_cz",
          "loop_flow_from_ee",
          "loop_flow_from_lu",
          "loop_flow_from_dk",
          "loop_flow_from_lt",
          "loop_flow_from_fr",
          "loop_flow_from_hu"
         ],
         "yaxis": "y"
        },
        {
         "alignmentgroup": "True",
         "hovertemplate": "Impacted country=masked_negative<br>Loop flow value normalized per origin=%{x}<br>Origin of loop flow=%{y}<extra></extra>",
         "legendgroup": "masked_negative",
         "marker": {
          "color": "#D626FF",
          "pattern": {
           "shape": ""
          }
         },
         "name": "masked_negative",
         "offsetgroup": "masked_negative",
         "orientation": "h",
         "showlegend": true,
         "textposition": "auto",
         "texttemplate": "%{x:.2f}",
         "type": "bar",
         "x": [
          0,
          -0.011785240852222994,
          -0.013583109228006528,
          -0.02580684297213183,
          -0.008435991460039854,
          -0.05770400540750329,
          -0.02657203084311001,
          0,
          -0.0024664261799494363
         ],
         "xaxis": "x",
         "y": [
          "loop_flow_from_ie",
          "loop_flow_from_bg",
          "loop_flow_from_cz",
          "loop_flow_from_ee",
          "loop_flow_from_lu",
          "loop_flow_from_dk",
          "loop_flow_from_lt",
          "loop_flow_from_fr",
          "loop_flow_from_hu"
         ],
         "yaxis": "y"
        }
       ],
       "layout": {
        "barmode": "relative",
        "height": 1000,
        "legend": {
         "title": {
          "text": "Impacted country"
         },
         "tracegroupgap": 0
        },
        "margin": {
         "t": 60
        },
        "template": {
         "data": {
          "bar": [
           {
            "error_x": {
             "color": "#2a3f5f"
            },
            "error_y": {
             "color": "#2a3f5f"
            },
            "marker": {
             "line": {
              "color": "#E5ECF6",
              "width": 0.5
             },
             "pattern": {
              "fillmode": "overlay",
              "size": 10,
              "solidity": 0.2
             }
            },
            "type": "bar"
           }
          ],
          "barpolar": [
           {
            "marker": {
             "line": {
              "color": "#E5ECF6",
              "width": 0.5
             },
             "pattern": {
              "fillmode": "overlay",
              "size": 10,
              "solidity": 0.2
             }
            },
            "type": "barpolar"
           }
          ],
          "carpet": [
           {
            "aaxis": {
             "endlinecolor": "#2a3f5f",
             "gridcolor": "white",
             "linecolor": "white",
             "minorgridcolor": "white",
             "startlinecolor": "#2a3f5f"
            },
            "baxis": {
             "endlinecolor": "#2a3f5f",
             "gridcolor": "white",
             "linecolor": "white",
             "minorgridcolor": "white",
             "startlinecolor": "#2a3f5f"
            },
            "type": "carpet"
           }
          ],
          "choropleth": [
           {
            "colorbar": {
             "outlinewidth": 0,
             "ticks": ""
            },
            "type": "choropleth"
           }
          ],
          "contour": [
           {
            "colorbar": {
             "outlinewidth": 0,
             "ticks": ""
            },
            "colorscale": [
             [
              0,
              "#0d0887"
             ],
             [
              0.1111111111111111,
              "#46039f"
             ],
             [
              0.2222222222222222,
              "#7201a8"
             ],
             [
              0.3333333333333333,
              "#9c179e"
             ],
             [
              0.4444444444444444,
              "#bd3786"
             ],
             [
              0.5555555555555556,
              "#d8576b"
             ],
             [
              0.6666666666666666,
              "#ed7953"
             ],
             [
              0.7777777777777778,
              "#fb9f3a"
             ],
             [
              0.8888888888888888,
              "#fdca26"
             ],
             [
              1,
              "#f0f921"
             ]
            ],
            "type": "contour"
           }
          ],
          "contourcarpet": [
           {
            "colorbar": {
             "outlinewidth": 0,
             "ticks": ""
            },
            "type": "contourcarpet"
           }
          ],
          "heatmap": [
           {
            "colorbar": {
             "outlinewidth": 0,
             "ticks": ""
            },
            "colorscale": [
             [
              0,
              "#0d0887"
             ],
             [
              0.1111111111111111,
              "#46039f"
             ],
             [
              0.2222222222222222,
              "#7201a8"
             ],
             [
              0.3333333333333333,
              "#9c179e"
             ],
             [
              0.4444444444444444,
              "#bd3786"
             ],
             [
              0.5555555555555556,
              "#d8576b"
             ],
             [
              0.6666666666666666,
              "#ed7953"
             ],
             [
              0.7777777777777778,
              "#fb9f3a"
             ],
             [
              0.8888888888888888,
              "#fdca26"
             ],
             [
              1,
              "#f0f921"
             ]
            ],
            "type": "heatmap"
           }
          ],
          "heatmapgl": [
           {
            "colorbar": {
             "outlinewidth": 0,
             "ticks": ""
            },
            "colorscale": [
             [
              0,
              "#0d0887"
             ],
             [
              0.1111111111111111,
              "#46039f"
             ],
             [
              0.2222222222222222,
              "#7201a8"
             ],
             [
              0.3333333333333333,
              "#9c179e"
             ],
             [
              0.4444444444444444,
              "#bd3786"
             ],
             [
              0.5555555555555556,
              "#d8576b"
             ],
             [
              0.6666666666666666,
              "#ed7953"
             ],
             [
              0.7777777777777778,
              "#fb9f3a"
             ],
             [
              0.8888888888888888,
              "#fdca26"
             ],
             [
              1,
              "#f0f921"
             ]
            ],
            "type": "heatmapgl"
           }
          ],
          "histogram": [
           {
            "marker": {
             "pattern": {
              "fillmode": "overlay",
              "size": 10,
              "solidity": 0.2
             }
            },
            "type": "histogram"
           }
          ],
          "histogram2d": [
           {
            "colorbar": {
             "outlinewidth": 0,
             "ticks": ""
            },
            "colorscale": [
             [
              0,
              "#0d0887"
             ],
             [
              0.1111111111111111,
              "#46039f"
             ],
             [
              0.2222222222222222,
              "#7201a8"
             ],
             [
              0.3333333333333333,
              "#9c179e"
             ],
             [
              0.4444444444444444,
              "#bd3786"
             ],
             [
              0.5555555555555556,
              "#d8576b"
             ],
             [
              0.6666666666666666,
              "#ed7953"
             ],
             [
              0.7777777777777778,
              "#fb9f3a"
             ],
             [
              0.8888888888888888,
              "#fdca26"
             ],
             [
              1,
              "#f0f921"
             ]
            ],
            "type": "histogram2d"
           }
          ],
          "histogram2dcontour": [
           {
            "colorbar": {
             "outlinewidth": 0,
             "ticks": ""
            },
            "colorscale": [
             [
              0,
              "#0d0887"
             ],
             [
              0.1111111111111111,
              "#46039f"
             ],
             [
              0.2222222222222222,
              "#7201a8"
             ],
             [
              0.3333333333333333,
              "#9c179e"
             ],
             [
              0.4444444444444444,
              "#bd3786"
             ],
             [
              0.5555555555555556,
              "#d8576b"
             ],
             [
              0.6666666666666666,
              "#ed7953"
             ],
             [
              0.7777777777777778,
              "#fb9f3a"
             ],
             [
              0.8888888888888888,
              "#fdca26"
             ],
             [
              1,
              "#f0f921"
             ]
            ],
            "type": "histogram2dcontour"
           }
          ],
          "mesh3d": [
           {
            "colorbar": {
             "outlinewidth": 0,
             "ticks": ""
            },
            "type": "mesh3d"
           }
          ],
          "parcoords": [
           {
            "line": {
             "colorbar": {
              "outlinewidth": 0,
              "ticks": ""
             }
            },
            "type": "parcoords"
           }
          ],
          "pie": [
           {
            "automargin": true,
            "type": "pie"
           }
          ],
          "scatter": [
           {
            "fillpattern": {
             "fillmode": "overlay",
             "size": 10,
             "solidity": 0.2
            },
            "type": "scatter"
           }
          ],
          "scatter3d": [
           {
            "line": {
             "colorbar": {
              "outlinewidth": 0,
              "ticks": ""
             }
            },
            "marker": {
             "colorbar": {
              "outlinewidth": 0,
              "ticks": ""
             }
            },
            "type": "scatter3d"
           }
          ],
          "scattercarpet": [
           {
            "marker": {
             "colorbar": {
              "outlinewidth": 0,
              "ticks": ""
             }
            },
            "type": "scattercarpet"
           }
          ],
          "scattergeo": [
           {
            "marker": {
             "colorbar": {
              "outlinewidth": 0,
              "ticks": ""
             }
            },
            "type": "scattergeo"
           }
          ],
          "scattergl": [
           {
            "marker": {
             "colorbar": {
              "outlinewidth": 0,
              "ticks": ""
             }
            },
            "type": "scattergl"
           }
          ],
          "scattermapbox": [
           {
            "marker": {
             "colorbar": {
              "outlinewidth": 0,
              "ticks": ""
             }
            },
            "type": "scattermapbox"
           }
          ],
          "scatterpolar": [
           {
            "marker": {
             "colorbar": {
              "outlinewidth": 0,
              "ticks": ""
             }
            },
            "type": "scatterpolar"
           }
          ],
          "scatterpolargl": [
           {
            "marker": {
             "colorbar": {
              "outlinewidth": 0,
              "ticks": ""
             }
            },
            "type": "scatterpolargl"
           }
          ],
          "scatterternary": [
           {
            "marker": {
             "colorbar": {
              "outlinewidth": 0,
              "ticks": ""
             }
            },
            "type": "scatterternary"
           }
          ],
          "surface": [
           {
            "colorbar": {
             "outlinewidth": 0,
             "ticks": ""
            },
            "colorscale": [
             [
              0,
              "#0d0887"
             ],
             [
              0.1111111111111111,
              "#46039f"
             ],
             [
              0.2222222222222222,
              "#7201a8"
             ],
             [
              0.3333333333333333,
              "#9c179e"
             ],
             [
              0.4444444444444444,
              "#bd3786"
             ],
             [
              0.5555555555555556,
              "#d8576b"
             ],
             [
              0.6666666666666666,
              "#ed7953"
             ],
             [
              0.7777777777777778,
              "#fb9f3a"
             ],
             [
              0.8888888888888888,
              "#fdca26"
             ],
             [
              1,
              "#f0f921"
             ]
            ],
            "type": "surface"
           }
          ],
          "table": [
           {
            "cells": {
             "fill": {
              "color": "#EBF0F8"
             },
             "line": {
              "color": "white"
             }
            },
            "header": {
             "fill": {
              "color": "#C8D4E3"
             },
             "line": {
              "color": "white"
             }
            },
            "type": "table"
           }
          ]
         },
         "layout": {
          "annotationdefaults": {
           "arrowcolor": "#2a3f5f",
           "arrowhead": 0,
           "arrowwidth": 1
          },
          "autotypenumbers": "strict",
          "coloraxis": {
           "colorbar": {
            "outlinewidth": 0,
            "ticks": ""
           }
          },
          "colorscale": {
           "diverging": [
            [
             0,
             "#8e0152"
            ],
            [
             0.1,
             "#c51b7d"
            ],
            [
             0.2,
             "#de77ae"
            ],
            [
             0.3,
             "#f1b6da"
            ],
            [
             0.4,
             "#fde0ef"
            ],
            [
             0.5,
             "#f7f7f7"
            ],
            [
             0.6,
             "#e6f5d0"
            ],
            [
             0.7,
             "#b8e186"
            ],
            [
             0.8,
             "#7fbc41"
            ],
            [
             0.9,
             "#4d9221"
            ],
            [
             1,
             "#276419"
            ]
           ],
           "sequential": [
            [
             0,
             "#0d0887"
            ],
            [
             0.1111111111111111,
             "#46039f"
            ],
            [
             0.2222222222222222,
             "#7201a8"
            ],
            [
             0.3333333333333333,
             "#9c179e"
            ],
            [
             0.4444444444444444,
             "#bd3786"
            ],
            [
             0.5555555555555556,
             "#d8576b"
            ],
            [
             0.6666666666666666,
             "#ed7953"
            ],
            [
             0.7777777777777778,
             "#fb9f3a"
            ],
            [
             0.8888888888888888,
             "#fdca26"
            ],
            [
             1,
             "#f0f921"
            ]
           ],
           "sequentialminus": [
            [
             0,
             "#0d0887"
            ],
            [
             0.1111111111111111,
             "#46039f"
            ],
            [
             0.2222222222222222,
             "#7201a8"
            ],
            [
             0.3333333333333333,
             "#9c179e"
            ],
            [
             0.4444444444444444,
             "#bd3786"
            ],
            [
             0.5555555555555556,
             "#d8576b"
            ],
            [
             0.6666666666666666,
             "#ed7953"
            ],
            [
             0.7777777777777778,
             "#fb9f3a"
            ],
            [
             0.8888888888888888,
             "#fdca26"
            ],
            [
             1,
             "#f0f921"
            ]
           ]
          },
          "colorway": [
           "#636efa",
           "#EF553B",
           "#00cc96",
           "#ab63fa",
           "#FFA15A",
           "#19d3f3",
           "#FF6692",
           "#B6E880",
           "#FF97FF",
           "#FECB52"
          ],
          "font": {
           "color": "#2a3f5f"
          },
          "geo": {
           "bgcolor": "white",
           "lakecolor": "white",
           "landcolor": "#E5ECF6",
           "showlakes": true,
           "showland": true,
           "subunitcolor": "white"
          },
          "hoverlabel": {
           "align": "left"
          },
          "hovermode": "closest",
          "mapbox": {
           "style": "light"
          },
          "paper_bgcolor": "white",
          "plot_bgcolor": "#E5ECF6",
          "polar": {
           "angularaxis": {
            "gridcolor": "white",
            "linecolor": "white",
            "ticks": ""
           },
           "bgcolor": "#E5ECF6",
           "radialaxis": {
            "gridcolor": "white",
            "linecolor": "white",
            "ticks": ""
           }
          },
          "scene": {
           "xaxis": {
            "backgroundcolor": "#E5ECF6",
            "gridcolor": "white",
            "gridwidth": 2,
            "linecolor": "white",
            "showbackground": true,
            "ticks": "",
            "zerolinecolor": "white"
           },
           "yaxis": {
            "backgroundcolor": "#E5ECF6",
            "gridcolor": "white",
            "gridwidth": 2,
            "linecolor": "white",
            "showbackground": true,
            "ticks": "",
            "zerolinecolor": "white"
           },
           "zaxis": {
            "backgroundcolor": "#E5ECF6",
            "gridcolor": "white",
            "gridwidth": 2,
            "linecolor": "white",
            "showbackground": true,
            "ticks": "",
            "zerolinecolor": "white"
           }
          },
          "shapedefaults": {
           "line": {
            "color": "#2a3f5f"
           }
          },
          "ternary": {
           "aaxis": {
            "gridcolor": "white",
            "linecolor": "white",
            "ticks": ""
           },
           "baxis": {
            "gridcolor": "white",
            "linecolor": "white",
            "ticks": ""
           },
           "bgcolor": "#E5ECF6",
           "caxis": {
            "gridcolor": "white",
            "linecolor": "white",
            "ticks": ""
           }
          },
          "title": {
           "x": 0.05
          },
          "xaxis": {
           "automargin": true,
           "gridcolor": "white",
           "linecolor": "white",
           "ticks": "",
           "title": {
            "standoff": 15
           },
           "zerolinecolor": "white",
           "zerolinewidth": 2
          },
          "yaxis": {
           "automargin": true,
           "gridcolor": "white",
           "linecolor": "white",
           "ticks": "",
           "title": {
            "standoff": 15
           },
           "zerolinecolor": "white",
           "zerolinewidth": 2
          }
         }
        },
        "xaxis": {
         "anchor": "y",
         "domain": [
          0,
          1
         ],
         "title": {
          "text": "Loop flow value normalized per origin"
         }
        },
        "yaxis": {
         "anchor": "x",
         "domain": [
          0,
          1
         ],
         "title": {
          "text": "Origin of loop flow"
         }
        }
       }
      }
     },
     "metadata": {},
     "output_type": "display_data"
    }
   ],
   "source": [
    "threshold = .03\n",
    "df = df_lf_per_country.copy().transpose()\n",
    "df_p = df[[c for c in df.columns if ('loop_flow_from' in c)]].transpose()\n",
    "df_m = df_p.div(df_p.abs().sum(axis=1), axis=0)\n",
    "df_s = df_m[df_m < 0].sum(axis=1)\n",
    "df_m = df_m.reindex(df_s.sort_values(ascending=False).index)\n",
    "df_n = df_m.abs() > threshold\n",
    "df_f = df_m[df_n]\n",
    "df_f['masked_positive'] = df_m[df_p[df_n == False]>0].sum(axis=1)\n",
    "df_f['masked_negative'] = df_m[df_p[df_n == False]<0].sum(axis=1)\n",
    "fig = px.bar(df_f,\n",
    "    orientation='h',\n",
    "    color_discrete_sequence=colors[:df_f.columns.size],\n",
    "    text_auto='.2f',\n",
    "    height=1000,\n",
    "    labels={\n",
    "        'index':'Origin of loop flow',\n",
    "        'value': 'Loop flow value normalized per origin',\n",
    "        'variable': 'Impacted country',\n",
    "    }\n",
    "    )\n",
    "fig.show()"
   ]
  },
  {
   "cell_type": "markdown",
   "metadata": {},
   "source": [
    "# Loop flow repartition for visited countries\n",
    "\n",
    "Loop flow are sum for visited countries"
   ]
  },
  {
   "cell_type": "code",
   "execution_count": 21,
   "metadata": {},
   "outputs": [
    {
     "data": {
      "application/vnd.plotly.v1+json": {
       "config": {
        "plotlyServerURL": "https://plot.ly"
       },
       "data": [
        {
         "alignmentgroup": "True",
         "hovertemplate": "Origin country=loop_flow_from_bg<br>Loop flow value per origin=%{x}<br>Destination of loop flow=%{y}<extra></extra>",
         "legendgroup": "loop_flow_from_bg",
         "marker": {
          "color": "#0DF9FF",
          "pattern": {
           "shape": ""
          }
         },
         "name": "loop_flow_from_bg",
         "offsetgroup": "loop_flow_from_bg",
         "orientation": "h",
         "showlegend": true,
         "textposition": "auto",
         "texttemplate": "%{x:.0f}",
         "type": "bar",
         "x": [
          1195.1786346506965,
          137.31767456529252,
          null,
          99.97875914165866,
          401.28510497913624,
          null,
          59.526407204850635,
          225.1408231193712,
          70.00963992211572
         ],
         "xaxis": "x",
         "y": [
          "LT",
          "DK",
          "HU",
          "LU",
          "BG",
          "FR",
          "EE",
          "IE",
          "CZ"
         ],
         "yaxis": "y"
        },
        {
         "alignmentgroup": "True",
         "hovertemplate": "Origin country=loop_flow_from_cz<br>Loop flow value per origin=%{x}<br>Destination of loop flow=%{y}<extra></extra>",
         "legendgroup": "loop_flow_from_cz",
         "marker": {
          "color": "#AF0038",
          "pattern": {
           "shape": ""
          }
         },
         "name": "loop_flow_from_cz",
         "offsetgroup": "loop_flow_from_cz",
         "orientation": "h",
         "showlegend": true,
         "textposition": "auto",
         "texttemplate": "%{x:.0f}",
         "type": "bar",
         "x": [
          null,
          null,
          null,
          null,
          39.61230050493592,
          null,
          null,
          11.631236232268801,
          null
         ],
         "xaxis": "x",
         "y": [
          "LT",
          "DK",
          "HU",
          "LU",
          "BG",
          "FR",
          "EE",
          "IE",
          "CZ"
         ],
         "yaxis": "y"
        },
        {
         "alignmentgroup": "True",
         "hovertemplate": "Origin country=loop_flow_from_dk<br>Loop flow value per origin=%{x}<br>Destination of loop flow=%{y}<extra></extra>",
         "legendgroup": "loop_flow_from_dk",
         "marker": {
          "color": "#FD3216",
          "pattern": {
           "shape": ""
          }
         },
         "name": "loop_flow_from_dk",
         "offsetgroup": "loop_flow_from_dk",
         "orientation": "h",
         "showlegend": true,
         "textposition": "auto",
         "texttemplate": "%{x:.0f}",
         "type": "bar",
         "x": [
          5337.969374604592,
          1890.3128943850788,
          1052.1910187939734,
          -382.9833937195641,
          -187.20279323219663,
          -177.98921088507913,
          -111.82944410824214,
          26.615818178821467,
          -55.13829074281365
         ],
         "xaxis": "x",
         "y": [
          "LT",
          "DK",
          "HU",
          "LU",
          "BG",
          "FR",
          "EE",
          "IE",
          "CZ"
         ],
         "yaxis": "y"
        },
        {
         "alignmentgroup": "True",
         "hovertemplate": "Origin country=loop_flow_from_ee<br>Loop flow value per origin=%{x}<br>Destination of loop flow=%{y}<extra></extra>",
         "legendgroup": "loop_flow_from_ee",
         "marker": {
          "color": "#00A08B",
          "pattern": {
           "shape": ""
          }
         },
         "name": "loop_flow_from_ee",
         "offsetgroup": "loop_flow_from_ee",
         "orientation": "h",
         "showlegend": true,
         "textposition": "auto",
         "texttemplate": "%{x:.0f}",
         "type": "bar",
         "x": [
          null,
          null,
          null,
          137.88038105852274,
          null,
          null,
          64.39813355110286,
          null,
          null
         ],
         "xaxis": "x",
         "y": [
          "LT",
          "DK",
          "HU",
          "LU",
          "BG",
          "FR",
          "EE",
          "IE",
          "CZ"
         ],
         "yaxis": "y"
        },
        {
         "alignmentgroup": "True",
         "hovertemplate": "Origin country=loop_flow_from_fr<br>Loop flow value per origin=%{x}<br>Destination of loop flow=%{y}<extra></extra>",
         "legendgroup": "loop_flow_from_fr",
         "marker": {
          "color": "#6C4516",
          "pattern": {
           "shape": ""
          }
         },
         "name": "loop_flow_from_fr",
         "offsetgroup": "loop_flow_from_fr",
         "orientation": "h",
         "showlegend": true,
         "textposition": "auto",
         "texttemplate": "%{x:.0f}",
         "type": "bar",
         "x": [
          -1570.5128448153562,
          null,
          237.01235788811604,
          281.4971132759342,
          153.5457176204125,
          445.5454913796945,
          33.661498657193114,
          15.620892890485553,
          20.90421631798046
         ],
         "xaxis": "x",
         "y": [
          "LT",
          "DK",
          "HU",
          "LU",
          "BG",
          "FR",
          "EE",
          "IE",
          "CZ"
         ],
         "yaxis": "y"
        },
        {
         "alignmentgroup": "True",
         "hovertemplate": "Origin country=loop_flow_from_hu<br>Loop flow value per origin=%{x}<br>Destination of loop flow=%{y}<extra></extra>",
         "legendgroup": "loop_flow_from_hu",
         "marker": {
          "color": "#511CFB",
          "pattern": {
           "shape": ""
          }
         },
         "name": "loop_flow_from_hu",
         "offsetgroup": "loop_flow_from_hu",
         "orientation": "h",
         "showlegend": true,
         "textposition": "auto",
         "texttemplate": "%{x:.0f}",
         "type": "bar",
         "x": [
          -5714.817179090128,
          -797.4600641468413,
          1361.8405972920793,
          332.60567990136,
          192.77901543229626,
          256.5529810756442,
          109.00279394875156,
          -21.803068360531586,
          53.08223543560291
         ],
         "xaxis": "x",
         "y": [
          "LT",
          "DK",
          "HU",
          "LU",
          "BG",
          "FR",
          "EE",
          "IE",
          "CZ"
         ],
         "yaxis": "y"
        },
        {
         "alignmentgroup": "True",
         "hovertemplate": "Origin country=loop_flow_from_ie<br>Loop flow value per origin=%{x}<br>Destination of loop flow=%{y}<extra></extra>",
         "legendgroup": "loop_flow_from_ie",
         "marker": {
          "color": "#F6F926",
          "pattern": {
           "shape": ""
          }
         },
         "name": "loop_flow_from_ie",
         "offsetgroup": "loop_flow_from_ie",
         "orientation": "h",
         "showlegend": true,
         "textposition": "auto",
         "texttemplate": "%{x:.0f}",
         "type": "bar",
         "x": [
          null,
          null,
          null,
          null,
          null,
          null,
          null,
          null,
          null
         ],
         "xaxis": "x",
         "y": [
          "LT",
          "DK",
          "HU",
          "LU",
          "BG",
          "FR",
          "EE",
          "IE",
          "CZ"
         ],
         "yaxis": "y"
        },
        {
         "alignmentgroup": "True",
         "hovertemplate": "Origin country=loop_flow_from_lt<br>Loop flow value per origin=%{x}<br>Destination of loop flow=%{y}<extra></extra>",
         "legendgroup": "loop_flow_from_lt",
         "marker": {
          "color": "#C9FBE5",
          "pattern": {
           "shape": ""
          }
         },
         "name": "loop_flow_from_lt",
         "offsetgroup": "loop_flow_from_lt",
         "orientation": "h",
         "showlegend": true,
         "textposition": "auto",
         "texttemplate": "%{x:.0f}",
         "type": "bar",
         "x": [
          811.8307664541921,
          1377.9364750778498,
          -304.9190168905978,
          null,
          null,
          -42.051964546654006,
          null,
          30.34908662087991,
          -10.727737928982462
         ],
         "xaxis": "x",
         "y": [
          "LT",
          "DK",
          "HU",
          "LU",
          "BG",
          "FR",
          "EE",
          "IE",
          "CZ"
         ],
         "yaxis": "y"
        },
        {
         "alignmentgroup": "True",
         "hovertemplate": "Origin country=loop_flow_from_lu<br>Loop flow value per origin=%{x}<br>Destination of loop flow=%{y}<extra></extra>",
         "legendgroup": "loop_flow_from_lu",
         "marker": {
          "color": "#FC0080",
          "pattern": {
           "shape": ""
          }
         },
         "name": "loop_flow_from_lu",
         "offsetgroup": "loop_flow_from_lu",
         "orientation": "h",
         "showlegend": true,
         "textposition": "auto",
         "texttemplate": "%{x:.0f}",
         "type": "bar",
         "x": [
          1097.8853153016055,
          286.1960104599969,
          null,
          249.19768003134487,
          -71.66205270312564,
          32.791235784467666,
          61.212931481770404,
          -14.676116116231476,
          null
         ],
         "xaxis": "x",
         "y": [
          "LT",
          "DK",
          "HU",
          "LU",
          "BG",
          "FR",
          "EE",
          "IE",
          "CZ"
         ],
         "yaxis": "y"
        },
        {
         "alignmentgroup": "True",
         "hovertemplate": "Origin country=masked_positive<br>Loop flow value per origin=%{x}<br>Destination of loop flow=%{y}<extra></extra>",
         "legendgroup": "masked_positive",
         "marker": {
          "color": "#FB0D0D",
          "pattern": {
           "shape": ""
          }
         },
         "name": "masked_positive",
         "offsetgroup": "masked_positive",
         "orientation": "h",
         "showlegend": true,
         "textposition": "auto",
         "texttemplate": "%{x:.0f}",
         "type": "bar",
         "x": [
          500.4546721845411,
          87.30870543506924,
          86.99302809986963,
          12.509835105259148,
          62.075316955191575,
          29.693020995204442,
          13.510421497726067,
          2.4984401180099374,
          0.10192215071466104
         ],
         "xaxis": "x",
         "y": [
          "LT",
          "DK",
          "HU",
          "LU",
          "BG",
          "FR",
          "EE",
          "IE",
          "CZ"
         ],
         "yaxis": "y"
        },
        {
         "alignmentgroup": "True",
         "hovertemplate": "Origin country=masked_negative<br>Loop flow value per origin=%{x}<br>Destination of loop flow=%{y}<extra></extra>",
         "legendgroup": "masked_negative",
         "marker": {
          "color": "#D626FF",
          "pattern": {
           "shape": ""
          }
         },
         "name": "masked_negative",
         "offsetgroup": "masked_negative",
         "orientation": "h",
         "showlegend": true,
         "textposition": "auto",
         "texttemplate": "%{x:.0f}",
         "type": "bar",
         "x": [
          0,
          0,
          -40.80313371865588,
          -17.341498308027255,
          0,
          0,
          0,
          0,
          -7.661367833879613
         ],
         "xaxis": "x",
         "y": [
          "LT",
          "DK",
          "HU",
          "LU",
          "BG",
          "FR",
          "EE",
          "IE",
          "CZ"
         ],
         "yaxis": "y"
        }
       ],
       "layout": {
        "barmode": "relative",
        "height": 1000,
        "legend": {
         "title": {
          "text": "Origin country"
         },
         "tracegroupgap": 0
        },
        "margin": {
         "t": 60
        },
        "template": {
         "data": {
          "bar": [
           {
            "error_x": {
             "color": "#2a3f5f"
            },
            "error_y": {
             "color": "#2a3f5f"
            },
            "marker": {
             "line": {
              "color": "#E5ECF6",
              "width": 0.5
             },
             "pattern": {
              "fillmode": "overlay",
              "size": 10,
              "solidity": 0.2
             }
            },
            "type": "bar"
           }
          ],
          "barpolar": [
           {
            "marker": {
             "line": {
              "color": "#E5ECF6",
              "width": 0.5
             },
             "pattern": {
              "fillmode": "overlay",
              "size": 10,
              "solidity": 0.2
             }
            },
            "type": "barpolar"
           }
          ],
          "carpet": [
           {
            "aaxis": {
             "endlinecolor": "#2a3f5f",
             "gridcolor": "white",
             "linecolor": "white",
             "minorgridcolor": "white",
             "startlinecolor": "#2a3f5f"
            },
            "baxis": {
             "endlinecolor": "#2a3f5f",
             "gridcolor": "white",
             "linecolor": "white",
             "minorgridcolor": "white",
             "startlinecolor": "#2a3f5f"
            },
            "type": "carpet"
           }
          ],
          "choropleth": [
           {
            "colorbar": {
             "outlinewidth": 0,
             "ticks": ""
            },
            "type": "choropleth"
           }
          ],
          "contour": [
           {
            "colorbar": {
             "outlinewidth": 0,
             "ticks": ""
            },
            "colorscale": [
             [
              0,
              "#0d0887"
             ],
             [
              0.1111111111111111,
              "#46039f"
             ],
             [
              0.2222222222222222,
              "#7201a8"
             ],
             [
              0.3333333333333333,
              "#9c179e"
             ],
             [
              0.4444444444444444,
              "#bd3786"
             ],
             [
              0.5555555555555556,
              "#d8576b"
             ],
             [
              0.6666666666666666,
              "#ed7953"
             ],
             [
              0.7777777777777778,
              "#fb9f3a"
             ],
             [
              0.8888888888888888,
              "#fdca26"
             ],
             [
              1,
              "#f0f921"
             ]
            ],
            "type": "contour"
           }
          ],
          "contourcarpet": [
           {
            "colorbar": {
             "outlinewidth": 0,
             "ticks": ""
            },
            "type": "contourcarpet"
           }
          ],
          "heatmap": [
           {
            "colorbar": {
             "outlinewidth": 0,
             "ticks": ""
            },
            "colorscale": [
             [
              0,
              "#0d0887"
             ],
             [
              0.1111111111111111,
              "#46039f"
             ],
             [
              0.2222222222222222,
              "#7201a8"
             ],
             [
              0.3333333333333333,
              "#9c179e"
             ],
             [
              0.4444444444444444,
              "#bd3786"
             ],
             [
              0.5555555555555556,
              "#d8576b"
             ],
             [
              0.6666666666666666,
              "#ed7953"
             ],
             [
              0.7777777777777778,
              "#fb9f3a"
             ],
             [
              0.8888888888888888,
              "#fdca26"
             ],
             [
              1,
              "#f0f921"
             ]
            ],
            "type": "heatmap"
           }
          ],
          "heatmapgl": [
           {
            "colorbar": {
             "outlinewidth": 0,
             "ticks": ""
            },
            "colorscale": [
             [
              0,
              "#0d0887"
             ],
             [
              0.1111111111111111,
              "#46039f"
             ],
             [
              0.2222222222222222,
              "#7201a8"
             ],
             [
              0.3333333333333333,
              "#9c179e"
             ],
             [
              0.4444444444444444,
              "#bd3786"
             ],
             [
              0.5555555555555556,
              "#d8576b"
             ],
             [
              0.6666666666666666,
              "#ed7953"
             ],
             [
              0.7777777777777778,
              "#fb9f3a"
             ],
             [
              0.8888888888888888,
              "#fdca26"
             ],
             [
              1,
              "#f0f921"
             ]
            ],
            "type": "heatmapgl"
           }
          ],
          "histogram": [
           {
            "marker": {
             "pattern": {
              "fillmode": "overlay",
              "size": 10,
              "solidity": 0.2
             }
            },
            "type": "histogram"
           }
          ],
          "histogram2d": [
           {
            "colorbar": {
             "outlinewidth": 0,
             "ticks": ""
            },
            "colorscale": [
             [
              0,
              "#0d0887"
             ],
             [
              0.1111111111111111,
              "#46039f"
             ],
             [
              0.2222222222222222,
              "#7201a8"
             ],
             [
              0.3333333333333333,
              "#9c179e"
             ],
             [
              0.4444444444444444,
              "#bd3786"
             ],
             [
              0.5555555555555556,
              "#d8576b"
             ],
             [
              0.6666666666666666,
              "#ed7953"
             ],
             [
              0.7777777777777778,
              "#fb9f3a"
             ],
             [
              0.8888888888888888,
              "#fdca26"
             ],
             [
              1,
              "#f0f921"
             ]
            ],
            "type": "histogram2d"
           }
          ],
          "histogram2dcontour": [
           {
            "colorbar": {
             "outlinewidth": 0,
             "ticks": ""
            },
            "colorscale": [
             [
              0,
              "#0d0887"
             ],
             [
              0.1111111111111111,
              "#46039f"
             ],
             [
              0.2222222222222222,
              "#7201a8"
             ],
             [
              0.3333333333333333,
              "#9c179e"
             ],
             [
              0.4444444444444444,
              "#bd3786"
             ],
             [
              0.5555555555555556,
              "#d8576b"
             ],
             [
              0.6666666666666666,
              "#ed7953"
             ],
             [
              0.7777777777777778,
              "#fb9f3a"
             ],
             [
              0.8888888888888888,
              "#fdca26"
             ],
             [
              1,
              "#f0f921"
             ]
            ],
            "type": "histogram2dcontour"
           }
          ],
          "mesh3d": [
           {
            "colorbar": {
             "outlinewidth": 0,
             "ticks": ""
            },
            "type": "mesh3d"
           }
          ],
          "parcoords": [
           {
            "line": {
             "colorbar": {
              "outlinewidth": 0,
              "ticks": ""
             }
            },
            "type": "parcoords"
           }
          ],
          "pie": [
           {
            "automargin": true,
            "type": "pie"
           }
          ],
          "scatter": [
           {
            "fillpattern": {
             "fillmode": "overlay",
             "size": 10,
             "solidity": 0.2
            },
            "type": "scatter"
           }
          ],
          "scatter3d": [
           {
            "line": {
             "colorbar": {
              "outlinewidth": 0,
              "ticks": ""
             }
            },
            "marker": {
             "colorbar": {
              "outlinewidth": 0,
              "ticks": ""
             }
            },
            "type": "scatter3d"
           }
          ],
          "scattercarpet": [
           {
            "marker": {
             "colorbar": {
              "outlinewidth": 0,
              "ticks": ""
             }
            },
            "type": "scattercarpet"
           }
          ],
          "scattergeo": [
           {
            "marker": {
             "colorbar": {
              "outlinewidth": 0,
              "ticks": ""
             }
            },
            "type": "scattergeo"
           }
          ],
          "scattergl": [
           {
            "marker": {
             "colorbar": {
              "outlinewidth": 0,
              "ticks": ""
             }
            },
            "type": "scattergl"
           }
          ],
          "scattermapbox": [
           {
            "marker": {
             "colorbar": {
              "outlinewidth": 0,
              "ticks": ""
             }
            },
            "type": "scattermapbox"
           }
          ],
          "scatterpolar": [
           {
            "marker": {
             "colorbar": {
              "outlinewidth": 0,
              "ticks": ""
             }
            },
            "type": "scatterpolar"
           }
          ],
          "scatterpolargl": [
           {
            "marker": {
             "colorbar": {
              "outlinewidth": 0,
              "ticks": ""
             }
            },
            "type": "scatterpolargl"
           }
          ],
          "scatterternary": [
           {
            "marker": {
             "colorbar": {
              "outlinewidth": 0,
              "ticks": ""
             }
            },
            "type": "scatterternary"
           }
          ],
          "surface": [
           {
            "colorbar": {
             "outlinewidth": 0,
             "ticks": ""
            },
            "colorscale": [
             [
              0,
              "#0d0887"
             ],
             [
              0.1111111111111111,
              "#46039f"
             ],
             [
              0.2222222222222222,
              "#7201a8"
             ],
             [
              0.3333333333333333,
              "#9c179e"
             ],
             [
              0.4444444444444444,
              "#bd3786"
             ],
             [
              0.5555555555555556,
              "#d8576b"
             ],
             [
              0.6666666666666666,
              "#ed7953"
             ],
             [
              0.7777777777777778,
              "#fb9f3a"
             ],
             [
              0.8888888888888888,
              "#fdca26"
             ],
             [
              1,
              "#f0f921"
             ]
            ],
            "type": "surface"
           }
          ],
          "table": [
           {
            "cells": {
             "fill": {
              "color": "#EBF0F8"
             },
             "line": {
              "color": "white"
             }
            },
            "header": {
             "fill": {
              "color": "#C8D4E3"
             },
             "line": {
              "color": "white"
             }
            },
            "type": "table"
           }
          ]
         },
         "layout": {
          "annotationdefaults": {
           "arrowcolor": "#2a3f5f",
           "arrowhead": 0,
           "arrowwidth": 1
          },
          "autotypenumbers": "strict",
          "coloraxis": {
           "colorbar": {
            "outlinewidth": 0,
            "ticks": ""
           }
          },
          "colorscale": {
           "diverging": [
            [
             0,
             "#8e0152"
            ],
            [
             0.1,
             "#c51b7d"
            ],
            [
             0.2,
             "#de77ae"
            ],
            [
             0.3,
             "#f1b6da"
            ],
            [
             0.4,
             "#fde0ef"
            ],
            [
             0.5,
             "#f7f7f7"
            ],
            [
             0.6,
             "#e6f5d0"
            ],
            [
             0.7,
             "#b8e186"
            ],
            [
             0.8,
             "#7fbc41"
            ],
            [
             0.9,
             "#4d9221"
            ],
            [
             1,
             "#276419"
            ]
           ],
           "sequential": [
            [
             0,
             "#0d0887"
            ],
            [
             0.1111111111111111,
             "#46039f"
            ],
            [
             0.2222222222222222,
             "#7201a8"
            ],
            [
             0.3333333333333333,
             "#9c179e"
            ],
            [
             0.4444444444444444,
             "#bd3786"
            ],
            [
             0.5555555555555556,
             "#d8576b"
            ],
            [
             0.6666666666666666,
             "#ed7953"
            ],
            [
             0.7777777777777778,
             "#fb9f3a"
            ],
            [
             0.8888888888888888,
             "#fdca26"
            ],
            [
             1,
             "#f0f921"
            ]
           ],
           "sequentialminus": [
            [
             0,
             "#0d0887"
            ],
            [
             0.1111111111111111,
             "#46039f"
            ],
            [
             0.2222222222222222,
             "#7201a8"
            ],
            [
             0.3333333333333333,
             "#9c179e"
            ],
            [
             0.4444444444444444,
             "#bd3786"
            ],
            [
             0.5555555555555556,
             "#d8576b"
            ],
            [
             0.6666666666666666,
             "#ed7953"
            ],
            [
             0.7777777777777778,
             "#fb9f3a"
            ],
            [
             0.8888888888888888,
             "#fdca26"
            ],
            [
             1,
             "#f0f921"
            ]
           ]
          },
          "colorway": [
           "#636efa",
           "#EF553B",
           "#00cc96",
           "#ab63fa",
           "#FFA15A",
           "#19d3f3",
           "#FF6692",
           "#B6E880",
           "#FF97FF",
           "#FECB52"
          ],
          "font": {
           "color": "#2a3f5f"
          },
          "geo": {
           "bgcolor": "white",
           "lakecolor": "white",
           "landcolor": "#E5ECF6",
           "showlakes": true,
           "showland": true,
           "subunitcolor": "white"
          },
          "hoverlabel": {
           "align": "left"
          },
          "hovermode": "closest",
          "mapbox": {
           "style": "light"
          },
          "paper_bgcolor": "white",
          "plot_bgcolor": "#E5ECF6",
          "polar": {
           "angularaxis": {
            "gridcolor": "white",
            "linecolor": "white",
            "ticks": ""
           },
           "bgcolor": "#E5ECF6",
           "radialaxis": {
            "gridcolor": "white",
            "linecolor": "white",
            "ticks": ""
           }
          },
          "scene": {
           "xaxis": {
            "backgroundcolor": "#E5ECF6",
            "gridcolor": "white",
            "gridwidth": 2,
            "linecolor": "white",
            "showbackground": true,
            "ticks": "",
            "zerolinecolor": "white"
           },
           "yaxis": {
            "backgroundcolor": "#E5ECF6",
            "gridcolor": "white",
            "gridwidth": 2,
            "linecolor": "white",
            "showbackground": true,
            "ticks": "",
            "zerolinecolor": "white"
           },
           "zaxis": {
            "backgroundcolor": "#E5ECF6",
            "gridcolor": "white",
            "gridwidth": 2,
            "linecolor": "white",
            "showbackground": true,
            "ticks": "",
            "zerolinecolor": "white"
           }
          },
          "shapedefaults": {
           "line": {
            "color": "#2a3f5f"
           }
          },
          "ternary": {
           "aaxis": {
            "gridcolor": "white",
            "linecolor": "white",
            "ticks": ""
           },
           "baxis": {
            "gridcolor": "white",
            "linecolor": "white",
            "ticks": ""
           },
           "bgcolor": "#E5ECF6",
           "caxis": {
            "gridcolor": "white",
            "linecolor": "white",
            "ticks": ""
           }
          },
          "title": {
           "x": 0.05
          },
          "xaxis": {
           "automargin": true,
           "gridcolor": "white",
           "linecolor": "white",
           "ticks": "",
           "title": {
            "standoff": 15
           },
           "zerolinecolor": "white",
           "zerolinewidth": 2
          },
          "yaxis": {
           "automargin": true,
           "gridcolor": "white",
           "linecolor": "white",
           "ticks": "",
           "title": {
            "standoff": 15
           },
           "zerolinecolor": "white",
           "zerolinewidth": 2
          }
         }
        },
        "xaxis": {
         "anchor": "y",
         "domain": [
          0,
          1
         ],
         "title": {
          "text": "Loop flow value per origin"
         }
        },
        "yaxis": {
         "anchor": "x",
         "domain": [
          0,
          1
         ],
         "title": {
          "text": "Destination of loop flow"
         }
        }
       }
      }
     },
     "metadata": {},
     "output_type": "display_data"
    }
   ],
   "source": [
    "threshold = .03\n",
    "df = df_lf_per_country.copy().transpose()\n",
    "df_p = df[[c for c in df.columns if ('loop_flow_from' in c)]]\n",
    "df_s = df_p.abs().sum(axis=1)\n",
    "df_p = df_p.reindex(df_s.sort_values(ascending=False).index)\n",
    "df_m = df_p.abs().div(df_p.abs().sum(axis=1), axis=0) > threshold\n",
    "df_f = df_p[df_m]\n",
    "df_f['masked_positive'] = df_p[df_p[df_m == False]>0].sum(axis=1)\n",
    "df_f['masked_negative'] = df_p[df_p[df_m == False]<0].sum(axis=1)\n",
    "fig = px.bar(df_f,\n",
    "    orientation='h',\n",
    "    color_discrete_sequence=colors[:df_f.columns.size],\n",
    "    text_auto='.0f',\n",
    "    title='',\n",
    "    height=1000,\n",
    "    labels={\n",
    "        'index':'Destination of loop flow',\n",
    "        'value': 'Loop flow value per origin',\n",
    "        'variable': 'Origin country',\n",
    "    }\n",
    "    )\n",
    "fig.show()"
   ]
  },
  {
   "cell_type": "code",
   "execution_count": 22,
   "metadata": {},
   "outputs": [
    {
     "data": {
      "application/vnd.plotly.v1+json": {
       "config": {
        "plotlyServerURL": "https://plot.ly"
       },
       "data": [
        {
         "alignmentgroup": "True",
         "hovertemplate": "Origin country=loop_flow_from_bg<br>Loop flow value normalized per origin=%{x}<br>Destination of loop flow=%{y}<extra></extra>",
         "legendgroup": "loop_flow_from_bg",
         "marker": {
          "color": "#0DF9FF",
          "pattern": {
           "shape": ""
          }
         },
         "name": "loop_flow_from_bg",
         "offsetgroup": "loop_flow_from_bg",
         "orientation": "h",
         "showlegend": true,
         "textposition": "auto",
         "texttemplate": "%{x:.2f}",
         "type": "bar",
         "x": [
          0.646333305070107,
          null,
          0.03000474591765634,
          null,
          0.36211762885480553,
          0.13136380152444754,
          0.06603641537120189,
          0.32169791117353086,
          0.07364621973954177
         ],
         "xaxis": "x",
         "y": [
          "IE",
          "HU",
          "DK",
          "FR",
          "BG",
          "EE",
          "LU",
          "CZ",
          "LT"
         ],
         "yaxis": "y"
        },
        {
         "alignmentgroup": "True",
         "hovertemplate": "Origin country=loop_flow_from_cz<br>Loop flow value normalized per origin=%{x}<br>Destination of loop flow=%{y}<extra></extra>",
         "legendgroup": "loop_flow_from_cz",
         "marker": {
          "color": "#AF0038",
          "pattern": {
           "shape": ""
          }
         },
         "name": "loop_flow_from_cz",
         "offsetgroup": "loop_flow_from_cz",
         "orientation": "h",
         "showlegend": true,
         "textposition": "auto",
         "texttemplate": "%{x:.2f}",
         "type": "bar",
         "x": [
          0.033390902866458655,
          null,
          null,
          null,
          0.03574593762476483,
          null,
          null,
          null,
          null
         ],
         "xaxis": "x",
         "y": [
          "IE",
          "HU",
          "DK",
          "FR",
          "BG",
          "EE",
          "LU",
          "CZ",
          "LT"
         ],
         "yaxis": "y"
        },
        {
         "alignmentgroup": "True",
         "hovertemplate": "Origin country=loop_flow_from_dk<br>Loop flow value normalized per origin=%{x}<br>Destination of loop flow=%{y}<extra></extra>",
         "legendgroup": "loop_flow_from_dk",
         "marker": {
          "color": "#FD3216",
          "pattern": {
           "shape": ""
          }
         },
         "name": "loop_flow_from_dk",
         "offsetgroup": "loop_flow_from_dk",
         "orientation": "h",
         "showlegend": true,
         "textposition": "auto",
         "texttemplate": "%{x:.2f}",
         "type": "bar",
         "x": [
          0.07640857616275895,
          0.3412040197362441,
          0.4130448485997707,
          -0.1807687280813291,
          -0.16893084432766078,
          -0.24678695708729664,
          -0.252962236029589,
          -0.25336329364606075,
          0.3289226012979792
         ],
         "xaxis": "x",
         "y": [
          "IE",
          "HU",
          "DK",
          "FR",
          "BG",
          "EE",
          "LU",
          "CZ",
          "LT"
         ],
         "yaxis": "y"
        },
        {
         "alignmentgroup": "True",
         "hovertemplate": "Origin country=loop_flow_from_ee<br>Loop flow value normalized per origin=%{x}<br>Destination of loop flow=%{y}<extra></extra>",
         "legendgroup": "loop_flow_from_ee",
         "marker": {
          "color": "#00A08B",
          "pattern": {
           "shape": ""
          }
         },
         "name": "loop_flow_from_ee",
         "offsetgroup": "loop_flow_from_ee",
         "orientation": "h",
         "showlegend": true,
         "textposition": "auto",
         "texttemplate": "%{x:.2f}",
         "type": "bar",
         "x": [
          null,
          null,
          null,
          null,
          null,
          0.14211480301909762,
          0.09107060532947069,
          null,
          null
         ],
         "xaxis": "x",
         "y": [
          "IE",
          "HU",
          "DK",
          "FR",
          "BG",
          "EE",
          "LU",
          "CZ",
          "LT"
         ],
         "yaxis": "y"
        },
        {
         "alignmentgroup": "True",
         "hovertemplate": "Origin country=loop_flow_from_fr<br>Loop flow value normalized per origin=%{x}<br>Destination of loop flow=%{y}<extra></extra>",
         "legendgroup": "loop_flow_from_fr",
         "marker": {
          "color": "#6C4516",
          "pattern": {
           "shape": ""
          }
         },
         "name": "loop_flow_from_fr",
         "offsetgroup": "loop_flow_from_fr",
         "orientation": "h",
         "showlegend": true,
         "textposition": "auto",
         "texttemplate": "%{x:.2f}",
         "type": "bar",
         "x": [
          0.04484439201281829,
          0.07685825842847775,
          null,
          0.4525032240919379,
          0.1385588712254948,
          0.07428471893829745,
          0.18593009612917133,
          0.09605595360432079,
          -0.09677409779572249
         ],
         "xaxis": "x",
         "y": [
          "IE",
          "HU",
          "DK",
          "FR",
          "BG",
          "EE",
          "LU",
          "CZ",
          "LT"
         ],
         "yaxis": "y"
        },
        {
         "alignmentgroup": "True",
         "hovertemplate": "Origin country=loop_flow_from_hu<br>Loop flow value normalized per origin=%{x}<br>Destination of loop flow=%{y}<extra></extra>",
         "legendgroup": "loop_flow_from_hu",
         "marker": {
          "color": "#511CFB",
          "pattern": {
           "shape": ""
          }
         },
         "name": "loop_flow_from_hu",
         "offsetgroup": "loop_flow_from_hu",
         "orientation": "h",
         "showlegend": true,
         "textposition": "auto",
         "texttemplate": "%{x:.2f}",
         "type": "bar",
         "x": [
          -0.06259215471847218,
          0.44161704266271634,
          -0.1742498675421909,
          0.2605593667385896,
          0.17396279875610285,
          0.24054906153864491,
          0.2196875318453051,
          0.2439156133219972,
          -0.3521437461652624
         ],
         "xaxis": "x",
         "y": [
          "IE",
          "HU",
          "DK",
          "FR",
          "BG",
          "EE",
          "LU",
          "CZ",
          "LT"
         ],
         "yaxis": "y"
        },
        {
         "alignmentgroup": "True",
         "hovertemplate": "Origin country=loop_flow_from_ie<br>Loop flow value normalized per origin=%{x}<br>Destination of loop flow=%{y}<extra></extra>",
         "legendgroup": "loop_flow_from_ie",
         "marker": {
          "color": "#F6F926",
          "pattern": {
           "shape": ""
          }
         },
         "name": "loop_flow_from_ie",
         "offsetgroup": "loop_flow_from_ie",
         "orientation": "h",
         "showlegend": true,
         "textposition": "auto",
         "texttemplate": "%{x:.2f}",
         "type": "bar",
         "x": [
          null,
          null,
          null,
          null,
          null,
          null,
          null,
          null,
          null
         ],
         "xaxis": "x",
         "y": [
          "IE",
          "HU",
          "DK",
          "FR",
          "BG",
          "EE",
          "LU",
          "CZ",
          "LT"
         ],
         "yaxis": "y"
        },
        {
         "alignmentgroup": "True",
         "hovertemplate": "Origin country=loop_flow_from_lt<br>Loop flow value normalized per origin=%{x}<br>Destination of loop flow=%{y}<extra></extra>",
         "legendgroup": "loop_flow_from_lt",
         "marker": {
          "color": "#C9FBE5",
          "pattern": {
           "shape": ""
          }
         },
         "name": "loop_flow_from_lt",
         "offsetgroup": "loop_flow_from_lt",
         "orientation": "h",
         "showlegend": true,
         "textposition": "auto",
         "texttemplate": "%{x:.2f}",
         "type": "bar",
         "x": [
          0.08712602712273082,
          -0.09887899858368529,
          0.30108748896503573,
          -0.042708656927120746,
          null,
          null,
          null,
          -0.04929450983050313,
          0.0500245446866441
         ],
         "xaxis": "x",
         "y": [
          "IE",
          "HU",
          "DK",
          "FR",
          "BG",
          "EE",
          "LU",
          "CZ",
          "LT"
         ],
         "yaxis": "y"
        },
        {
         "alignmentgroup": "True",
         "hovertemplate": "Origin country=loop_flow_from_lu<br>Loop flow value normalized per origin=%{x}<br>Destination of loop flow=%{y}<extra></extra>",
         "legendgroup": "loop_flow_from_lu",
         "marker": {
          "color": "#FC0080",
          "pattern": {
           "shape": ""
          }
         },
         "name": "loop_flow_from_lu",
         "offsetgroup": "loop_flow_from_lu",
         "orientation": "h",
         "showlegend": true,
         "textposition": "auto",
         "texttemplate": "%{x:.2f}",
         "type": "bar",
         "x": [
          -0.04213213091953204,
          null,
          0.06253556655167516,
          0.03330331066415272,
          -0.06466747028916801,
          0.13508564953749874,
          0.1645961767216302,
          null,
          0.06765106138560524
         ],
         "xaxis": "x",
         "y": [
          "IE",
          "HU",
          "DK",
          "FR",
          "BG",
          "EE",
          "LU",
          "CZ",
          "LT"
         ],
         "yaxis": "y"
        },
        {
         "alignmentgroup": "True",
         "hovertemplate": "Origin country=masked_positive<br>Loop flow value normalized per origin=%{x}<br>Destination of loop flow=%{y}<extra></extra>",
         "legendgroup": "masked_positive",
         "marker": {
          "color": "#FB0D0D",
          "pattern": {
           "shape": ""
          }
         },
         "name": "masked_positive",
         "offsetgroup": "masked_positive",
         "orientation": "h",
         "showlegend": true,
         "textposition": "auto",
         "texttemplate": "%{x:.2f}",
         "type": "bar",
         "x": [
          0.007172511127122067,
          0.028210059149455236,
          0.01907748242367108,
          0.03015671349687001,
          0.056016448922003206,
          0.02981500835471714,
          0.008262801762378735,
          0.00046833754642498353,
          0.030837728929244773
         ],
         "xaxis": "x",
         "y": [
          "IE",
          "HU",
          "DK",
          "FR",
          "BG",
          "EE",
          "LU",
          "CZ",
          "LT"
         ],
         "yaxis": "y"
        },
        {
         "alignmentgroup": "True",
         "hovertemplate": "Origin country=masked_negative<br>Loop flow value normalized per origin=%{x}<br>Destination of loop flow=%{y}<extra></extra>",
         "legendgroup": "masked_negative",
         "marker": {
          "color": "#D626FF",
          "pattern": {
           "shape": ""
          }
         },
         "name": "masked_negative",
         "offsetgroup": "masked_negative",
         "orientation": "h",
         "showlegend": true,
         "textposition": "auto",
         "texttemplate": "%{x:.2f}",
         "type": "bar",
         "x": [
          0,
          -0.01323162143942129,
          0,
          0,
          0,
          0,
          -0.011454136811253127,
          -0.035204380877162315,
          0
         ],
         "xaxis": "x",
         "y": [
          "IE",
          "HU",
          "DK",
          "FR",
          "BG",
          "EE",
          "LU",
          "CZ",
          "LT"
         ],
         "yaxis": "y"
        }
       ],
       "layout": {
        "barmode": "relative",
        "height": 1000,
        "legend": {
         "title": {
          "text": "Origin country"
         },
         "tracegroupgap": 0
        },
        "margin": {
         "t": 60
        },
        "template": {
         "data": {
          "bar": [
           {
            "error_x": {
             "color": "#2a3f5f"
            },
            "error_y": {
             "color": "#2a3f5f"
            },
            "marker": {
             "line": {
              "color": "#E5ECF6",
              "width": 0.5
             },
             "pattern": {
              "fillmode": "overlay",
              "size": 10,
              "solidity": 0.2
             }
            },
            "type": "bar"
           }
          ],
          "barpolar": [
           {
            "marker": {
             "line": {
              "color": "#E5ECF6",
              "width": 0.5
             },
             "pattern": {
              "fillmode": "overlay",
              "size": 10,
              "solidity": 0.2
             }
            },
            "type": "barpolar"
           }
          ],
          "carpet": [
           {
            "aaxis": {
             "endlinecolor": "#2a3f5f",
             "gridcolor": "white",
             "linecolor": "white",
             "minorgridcolor": "white",
             "startlinecolor": "#2a3f5f"
            },
            "baxis": {
             "endlinecolor": "#2a3f5f",
             "gridcolor": "white",
             "linecolor": "white",
             "minorgridcolor": "white",
             "startlinecolor": "#2a3f5f"
            },
            "type": "carpet"
           }
          ],
          "choropleth": [
           {
            "colorbar": {
             "outlinewidth": 0,
             "ticks": ""
            },
            "type": "choropleth"
           }
          ],
          "contour": [
           {
            "colorbar": {
             "outlinewidth": 0,
             "ticks": ""
            },
            "colorscale": [
             [
              0,
              "#0d0887"
             ],
             [
              0.1111111111111111,
              "#46039f"
             ],
             [
              0.2222222222222222,
              "#7201a8"
             ],
             [
              0.3333333333333333,
              "#9c179e"
             ],
             [
              0.4444444444444444,
              "#bd3786"
             ],
             [
              0.5555555555555556,
              "#d8576b"
             ],
             [
              0.6666666666666666,
              "#ed7953"
             ],
             [
              0.7777777777777778,
              "#fb9f3a"
             ],
             [
              0.8888888888888888,
              "#fdca26"
             ],
             [
              1,
              "#f0f921"
             ]
            ],
            "type": "contour"
           }
          ],
          "contourcarpet": [
           {
            "colorbar": {
             "outlinewidth": 0,
             "ticks": ""
            },
            "type": "contourcarpet"
           }
          ],
          "heatmap": [
           {
            "colorbar": {
             "outlinewidth": 0,
             "ticks": ""
            },
            "colorscale": [
             [
              0,
              "#0d0887"
             ],
             [
              0.1111111111111111,
              "#46039f"
             ],
             [
              0.2222222222222222,
              "#7201a8"
             ],
             [
              0.3333333333333333,
              "#9c179e"
             ],
             [
              0.4444444444444444,
              "#bd3786"
             ],
             [
              0.5555555555555556,
              "#d8576b"
             ],
             [
              0.6666666666666666,
              "#ed7953"
             ],
             [
              0.7777777777777778,
              "#fb9f3a"
             ],
             [
              0.8888888888888888,
              "#fdca26"
             ],
             [
              1,
              "#f0f921"
             ]
            ],
            "type": "heatmap"
           }
          ],
          "heatmapgl": [
           {
            "colorbar": {
             "outlinewidth": 0,
             "ticks": ""
            },
            "colorscale": [
             [
              0,
              "#0d0887"
             ],
             [
              0.1111111111111111,
              "#46039f"
             ],
             [
              0.2222222222222222,
              "#7201a8"
             ],
             [
              0.3333333333333333,
              "#9c179e"
             ],
             [
              0.4444444444444444,
              "#bd3786"
             ],
             [
              0.5555555555555556,
              "#d8576b"
             ],
             [
              0.6666666666666666,
              "#ed7953"
             ],
             [
              0.7777777777777778,
              "#fb9f3a"
             ],
             [
              0.8888888888888888,
              "#fdca26"
             ],
             [
              1,
              "#f0f921"
             ]
            ],
            "type": "heatmapgl"
           }
          ],
          "histogram": [
           {
            "marker": {
             "pattern": {
              "fillmode": "overlay",
              "size": 10,
              "solidity": 0.2
             }
            },
            "type": "histogram"
           }
          ],
          "histogram2d": [
           {
            "colorbar": {
             "outlinewidth": 0,
             "ticks": ""
            },
            "colorscale": [
             [
              0,
              "#0d0887"
             ],
             [
              0.1111111111111111,
              "#46039f"
             ],
             [
              0.2222222222222222,
              "#7201a8"
             ],
             [
              0.3333333333333333,
              "#9c179e"
             ],
             [
              0.4444444444444444,
              "#bd3786"
             ],
             [
              0.5555555555555556,
              "#d8576b"
             ],
             [
              0.6666666666666666,
              "#ed7953"
             ],
             [
              0.7777777777777778,
              "#fb9f3a"
             ],
             [
              0.8888888888888888,
              "#fdca26"
             ],
             [
              1,
              "#f0f921"
             ]
            ],
            "type": "histogram2d"
           }
          ],
          "histogram2dcontour": [
           {
            "colorbar": {
             "outlinewidth": 0,
             "ticks": ""
            },
            "colorscale": [
             [
              0,
              "#0d0887"
             ],
             [
              0.1111111111111111,
              "#46039f"
             ],
             [
              0.2222222222222222,
              "#7201a8"
             ],
             [
              0.3333333333333333,
              "#9c179e"
             ],
             [
              0.4444444444444444,
              "#bd3786"
             ],
             [
              0.5555555555555556,
              "#d8576b"
             ],
             [
              0.6666666666666666,
              "#ed7953"
             ],
             [
              0.7777777777777778,
              "#fb9f3a"
             ],
             [
              0.8888888888888888,
              "#fdca26"
             ],
             [
              1,
              "#f0f921"
             ]
            ],
            "type": "histogram2dcontour"
           }
          ],
          "mesh3d": [
           {
            "colorbar": {
             "outlinewidth": 0,
             "ticks": ""
            },
            "type": "mesh3d"
           }
          ],
          "parcoords": [
           {
            "line": {
             "colorbar": {
              "outlinewidth": 0,
              "ticks": ""
             }
            },
            "type": "parcoords"
           }
          ],
          "pie": [
           {
            "automargin": true,
            "type": "pie"
           }
          ],
          "scatter": [
           {
            "fillpattern": {
             "fillmode": "overlay",
             "size": 10,
             "solidity": 0.2
            },
            "type": "scatter"
           }
          ],
          "scatter3d": [
           {
            "line": {
             "colorbar": {
              "outlinewidth": 0,
              "ticks": ""
             }
            },
            "marker": {
             "colorbar": {
              "outlinewidth": 0,
              "ticks": ""
             }
            },
            "type": "scatter3d"
           }
          ],
          "scattercarpet": [
           {
            "marker": {
             "colorbar": {
              "outlinewidth": 0,
              "ticks": ""
             }
            },
            "type": "scattercarpet"
           }
          ],
          "scattergeo": [
           {
            "marker": {
             "colorbar": {
              "outlinewidth": 0,
              "ticks": ""
             }
            },
            "type": "scattergeo"
           }
          ],
          "scattergl": [
           {
            "marker": {
             "colorbar": {
              "outlinewidth": 0,
              "ticks": ""
             }
            },
            "type": "scattergl"
           }
          ],
          "scattermapbox": [
           {
            "marker": {
             "colorbar": {
              "outlinewidth": 0,
              "ticks": ""
             }
            },
            "type": "scattermapbox"
           }
          ],
          "scatterpolar": [
           {
            "marker": {
             "colorbar": {
              "outlinewidth": 0,
              "ticks": ""
             }
            },
            "type": "scatterpolar"
           }
          ],
          "scatterpolargl": [
           {
            "marker": {
             "colorbar": {
              "outlinewidth": 0,
              "ticks": ""
             }
            },
            "type": "scatterpolargl"
           }
          ],
          "scatterternary": [
           {
            "marker": {
             "colorbar": {
              "outlinewidth": 0,
              "ticks": ""
             }
            },
            "type": "scatterternary"
           }
          ],
          "surface": [
           {
            "colorbar": {
             "outlinewidth": 0,
             "ticks": ""
            },
            "colorscale": [
             [
              0,
              "#0d0887"
             ],
             [
              0.1111111111111111,
              "#46039f"
             ],
             [
              0.2222222222222222,
              "#7201a8"
             ],
             [
              0.3333333333333333,
              "#9c179e"
             ],
             [
              0.4444444444444444,
              "#bd3786"
             ],
             [
              0.5555555555555556,
              "#d8576b"
             ],
             [
              0.6666666666666666,
              "#ed7953"
             ],
             [
              0.7777777777777778,
              "#fb9f3a"
             ],
             [
              0.8888888888888888,
              "#fdca26"
             ],
             [
              1,
              "#f0f921"
             ]
            ],
            "type": "surface"
           }
          ],
          "table": [
           {
            "cells": {
             "fill": {
              "color": "#EBF0F8"
             },
             "line": {
              "color": "white"
             }
            },
            "header": {
             "fill": {
              "color": "#C8D4E3"
             },
             "line": {
              "color": "white"
             }
            },
            "type": "table"
           }
          ]
         },
         "layout": {
          "annotationdefaults": {
           "arrowcolor": "#2a3f5f",
           "arrowhead": 0,
           "arrowwidth": 1
          },
          "autotypenumbers": "strict",
          "coloraxis": {
           "colorbar": {
            "outlinewidth": 0,
            "ticks": ""
           }
          },
          "colorscale": {
           "diverging": [
            [
             0,
             "#8e0152"
            ],
            [
             0.1,
             "#c51b7d"
            ],
            [
             0.2,
             "#de77ae"
            ],
            [
             0.3,
             "#f1b6da"
            ],
            [
             0.4,
             "#fde0ef"
            ],
            [
             0.5,
             "#f7f7f7"
            ],
            [
             0.6,
             "#e6f5d0"
            ],
            [
             0.7,
             "#b8e186"
            ],
            [
             0.8,
             "#7fbc41"
            ],
            [
             0.9,
             "#4d9221"
            ],
            [
             1,
             "#276419"
            ]
           ],
           "sequential": [
            [
             0,
             "#0d0887"
            ],
            [
             0.1111111111111111,
             "#46039f"
            ],
            [
             0.2222222222222222,
             "#7201a8"
            ],
            [
             0.3333333333333333,
             "#9c179e"
            ],
            [
             0.4444444444444444,
             "#bd3786"
            ],
            [
             0.5555555555555556,
             "#d8576b"
            ],
            [
             0.6666666666666666,
             "#ed7953"
            ],
            [
             0.7777777777777778,
             "#fb9f3a"
            ],
            [
             0.8888888888888888,
             "#fdca26"
            ],
            [
             1,
             "#f0f921"
            ]
           ],
           "sequentialminus": [
            [
             0,
             "#0d0887"
            ],
            [
             0.1111111111111111,
             "#46039f"
            ],
            [
             0.2222222222222222,
             "#7201a8"
            ],
            [
             0.3333333333333333,
             "#9c179e"
            ],
            [
             0.4444444444444444,
             "#bd3786"
            ],
            [
             0.5555555555555556,
             "#d8576b"
            ],
            [
             0.6666666666666666,
             "#ed7953"
            ],
            [
             0.7777777777777778,
             "#fb9f3a"
            ],
            [
             0.8888888888888888,
             "#fdca26"
            ],
            [
             1,
             "#f0f921"
            ]
           ]
          },
          "colorway": [
           "#636efa",
           "#EF553B",
           "#00cc96",
           "#ab63fa",
           "#FFA15A",
           "#19d3f3",
           "#FF6692",
           "#B6E880",
           "#FF97FF",
           "#FECB52"
          ],
          "font": {
           "color": "#2a3f5f"
          },
          "geo": {
           "bgcolor": "white",
           "lakecolor": "white",
           "landcolor": "#E5ECF6",
           "showlakes": true,
           "showland": true,
           "subunitcolor": "white"
          },
          "hoverlabel": {
           "align": "left"
          },
          "hovermode": "closest",
          "mapbox": {
           "style": "light"
          },
          "paper_bgcolor": "white",
          "plot_bgcolor": "#E5ECF6",
          "polar": {
           "angularaxis": {
            "gridcolor": "white",
            "linecolor": "white",
            "ticks": ""
           },
           "bgcolor": "#E5ECF6",
           "radialaxis": {
            "gridcolor": "white",
            "linecolor": "white",
            "ticks": ""
           }
          },
          "scene": {
           "xaxis": {
            "backgroundcolor": "#E5ECF6",
            "gridcolor": "white",
            "gridwidth": 2,
            "linecolor": "white",
            "showbackground": true,
            "ticks": "",
            "zerolinecolor": "white"
           },
           "yaxis": {
            "backgroundcolor": "#E5ECF6",
            "gridcolor": "white",
            "gridwidth": 2,
            "linecolor": "white",
            "showbackground": true,
            "ticks": "",
            "zerolinecolor": "white"
           },
           "zaxis": {
            "backgroundcolor": "#E5ECF6",
            "gridcolor": "white",
            "gridwidth": 2,
            "linecolor": "white",
            "showbackground": true,
            "ticks": "",
            "zerolinecolor": "white"
           }
          },
          "shapedefaults": {
           "line": {
            "color": "#2a3f5f"
           }
          },
          "ternary": {
           "aaxis": {
            "gridcolor": "white",
            "linecolor": "white",
            "ticks": ""
           },
           "baxis": {
            "gridcolor": "white",
            "linecolor": "white",
            "ticks": ""
           },
           "bgcolor": "#E5ECF6",
           "caxis": {
            "gridcolor": "white",
            "linecolor": "white",
            "ticks": ""
           }
          },
          "title": {
           "x": 0.05
          },
          "xaxis": {
           "automargin": true,
           "gridcolor": "white",
           "linecolor": "white",
           "ticks": "",
           "title": {
            "standoff": 15
           },
           "zerolinecolor": "white",
           "zerolinewidth": 2
          },
          "yaxis": {
           "automargin": true,
           "gridcolor": "white",
           "linecolor": "white",
           "ticks": "",
           "title": {
            "standoff": 15
           },
           "zerolinecolor": "white",
           "zerolinewidth": 2
          }
         }
        },
        "xaxis": {
         "anchor": "y",
         "domain": [
          0,
          1
         ],
         "title": {
          "text": "Loop flow value normalized per origin"
         }
        },
        "yaxis": {
         "anchor": "x",
         "domain": [
          0,
          1
         ],
         "title": {
          "text": "Destination of loop flow"
         }
        }
       }
      }
     },
     "metadata": {},
     "output_type": "display_data"
    }
   ],
   "source": [
    "threshold = .03\n",
    "df = df_lf_per_country.copy().transpose()\n",
    "df_p = df[[c for c in df.columns if ('loop_flow_from' in c)]]\n",
    "df_m = df_p.div(df_p.abs().sum(axis=1), axis=0)\n",
    "df_s = df_m[df_m < 0].sum(axis=1)\n",
    "df_m = df_m.reindex(df_s.sort_values(ascending=False).index)\n",
    "df_n = df_m.abs() > threshold\n",
    "df_f = df_m[df_n]\n",
    "df_f['masked_positive'] = df_m[df_p[df_n == False]>0].sum(axis=1)\n",
    "df_f['masked_negative'] = df_m[df_p[df_n == False]<0].sum(axis=1)\n",
    "fig = px.bar(df_f,\n",
    "    orientation='h',\n",
    "    color_discrete_sequence=colors[:df_f.columns.size],\n",
    "    text_auto='.2f',\n",
    "    height=1000,\n",
    "    labels={\n",
    "        'index':'Destination of loop flow',\n",
    "        'value': 'Loop flow value normalized per origin',\n",
    "        'variable': 'Origin country',\n",
    "    }\n",
    "    )\n",
    "fig.show()"
   ]
  },
  {
   "cell_type": "markdown",
   "metadata": {},
   "source": [
    "# Loop flow heat map\n",
    "\n",
    "Provide a view"
   ]
  },
  {
   "cell_type": "code",
   "execution_count": 23,
   "metadata": {},
   "outputs": [
    {
     "data": {
      "application/vnd.plotly.v1+json": {
       "config": {
        "plotlyServerURL": "https://plot.ly"
       },
       "data": [
        {
         "coloraxis": "coloraxis",
         "customdata": [
          [
           401.28510497913624,
           70.00963992211572,
           137.31767456529252,
           59.526407204850635,
           17.41136053590392,
           -26.306482963736983,
           225.1408231193712,
           1195.1786346506965,
           99.97875914165866
          ],
          [
           39.61230050493592,
           0.10192215071466104,
           14.355594474478295,
           1.9457417889366044,
           1.896086272097457,
           -2.8132689335231733,
           11.631236232268801,
           122.24925496614048,
           12.509835105259148
          ],
          [
           -187.20279323219663,
           -55.13829074281365,
           1890.3128943850788,
           -111.82944410824214,
           -177.98921088507913,
           1052.1910187939734,
           26.615818178821467,
           5337.969374604592,
           -382.9833937195641
          ],
          [
           29.886434427452706,
           -6.292368489365052,
           55.31963037490904,
           64.39813355110286,
           10.385574187203067,
           -11.683381821395722,
           2.4984401180099374,
           378.2054172184006,
           137.88038105852274
          ],
          [
           153.5457176204125,
           20.90421631798046,
           17.63348058568191,
           33.661498657193114,
           445.5454913796945,
           237.01235788811604,
           15.620892890485553,
           -1570.5128448153562,
           281.4971132759342
          ],
          [
           192.77901543229626,
           53.08223543560291,
           -797.4600641468413,
           109.00279394875156,
           256.5529810756442,
           1361.8405972920793,
           -21.803068360531586,
           -5714.817179090128,
           332.60567990136
          ],
          [
           0,
           0,
           0,
           0,
           0,
           0,
           0,
           0,
           0
          ],
          [
           32.18888252773887,
           -10.727737928982462,
           1377.9364750778498,
           11.564679708789463,
           -42.051964546654006,
           -304.9190168905978,
           30.34908662087991,
           811.8307664541921,
           -17.341498308027255
          ],
          [
           -71.66205270312564,
           -1.36899934451456,
           286.1960104599969,
           61.212931481770404,
           32.791235784467666,
           86.99302809986963,
           -14.676116116231476,
           1097.8853153016055,
           249.19768003134487
          ]
         ],
         "hovertemplate": "Source country: %{y}<br>Visited country: %{x}<br>Loop flow: %{customdata:.2f}<extra></extra>",
         "name": "0",
         "type": "heatmap",
         "x": [
          "Bulgaria",
          "Czechia",
          "Denmark",
          "Estonia",
          "France",
          "Hungary",
          "Ireland",
          "Lithuania",
          "Luxembourg"
         ],
         "xaxis": "x",
         "y": [
          "Bulgaria",
          "Czechia",
          "Denmark",
          "Estonia",
          "France",
          "Hungary",
          "Ireland",
          "Lithuania",
          "Luxembourg"
         ],
         "yaxis": "y",
         "z": [
          [
           2.6045339526678934,
           1.8513173104204015,
           2.1408776788492165,
           1.7819448953330541,
           1.2650858825509035,
           -1.436265767228608,
           2.3543789686042325,
           3.077796041065411,
           2.004230029646836
          ],
          [
           1.60865759102418,
           0.04215091329134466,
           1.1862666343243808,
           0.4691946757874353,
           0.461811495003631,
           -0.5812974352832282,
           1.101445857489527,
           2.09078430267485,
           1.130650048258664
          ],
          [
           -2.2746260647677925,
           -1.749259185422309,
           3.2767633834530336,
           -2.0524224484512197,
           -2.2528268533581453,
           3.022507146954303,
           1.4411579146711788,
           3.727457429665105,
           -2.584312442669858
          ],
          [
           1.4897677756417014,
           -0.8628686057940355,
           1.750659795873684,
           1.8155653538284924,
           1.056354937458483,
           -1.1032350666805704,
           0.5438744445936157,
           2.5788745329151155,
           2.142640899446664
          ],
          [
           2.1890569754970834,
           1.3405277197435927,
           1.2702939852220245,
           1.5398473363490022,
           2.6498657087985773,
           2.376599506734179,
           1.2206543507955496,
           -3.196317935089286,
           2.4510140142979777
          ],
          [
           2.2873067449779243,
           1.733054634436583,
           -2.9022531993043237,
           2.0414037158956426,
           2.410866581035506,
           3.1344450621700712,
           -1.357993289210475,
           -3.757078329394283,
           2.5232334362367417
          ],
          [
           0,
           0,
           0,
           0,
           0,
           0,
           0,
           0,
           0
          ],
          [
           1.5209926299257222,
           -1.0692142525504247,
           3.1395442595343575,
           1.099151422297615,
           -1.6339929739616728,
           -2.485606474938074,
           1.4962248918560366,
           2.9100001337297106,
           -1.263434810086987
          ],
          [
           -1.8613076625199274,
           -0.3745649405565562,
           2.458178402675963,
           1.7938806658397162,
           1.528804074715448,
           1.9444482633126223,
           -1.1952384717269517,
           3.040952369829659,
           2.398283278361972
          ]
         ]
        }
       ],
       "layout": {
        "coloraxis": {
         "cmid": 0,
         "colorbar": {
          "ticktext": [
           -1000,
           -100,
           -10,
           0,
           10,
           100,
           1000
          ],
          "tickvals": [
           -3,
           -2,
           -1,
           0,
           1,
           2,
           3
          ],
          "title": {
           "text": "Loop flow"
          }
         },
         "colorscale": [
          [
           0,
           "rgb(5,48,97)"
          ],
          [
           0.1,
           "rgb(33,102,172)"
          ],
          [
           0.2,
           "rgb(67,147,195)"
          ],
          [
           0.3,
           "rgb(146,197,222)"
          ],
          [
           0.4,
           "rgb(209,229,240)"
          ],
          [
           0.5,
           "rgb(247,247,247)"
          ],
          [
           0.6,
           "rgb(253,219,199)"
          ],
          [
           0.7,
           "rgb(244,165,130)"
          ],
          [
           0.8,
           "rgb(214,96,77)"
          ],
          [
           0.9,
           "rgb(178,24,43)"
          ],
          [
           1,
           "rgb(103,0,31)"
          ]
         ]
        },
        "height": 800,
        "margin": {
         "t": 60
        },
        "template": {
         "data": {
          "bar": [
           {
            "error_x": {
             "color": "#2a3f5f"
            },
            "error_y": {
             "color": "#2a3f5f"
            },
            "marker": {
             "line": {
              "color": "#E5ECF6",
              "width": 0.5
             },
             "pattern": {
              "fillmode": "overlay",
              "size": 10,
              "solidity": 0.2
             }
            },
            "type": "bar"
           }
          ],
          "barpolar": [
           {
            "marker": {
             "line": {
              "color": "#E5ECF6",
              "width": 0.5
             },
             "pattern": {
              "fillmode": "overlay",
              "size": 10,
              "solidity": 0.2
             }
            },
            "type": "barpolar"
           }
          ],
          "carpet": [
           {
            "aaxis": {
             "endlinecolor": "#2a3f5f",
             "gridcolor": "white",
             "linecolor": "white",
             "minorgridcolor": "white",
             "startlinecolor": "#2a3f5f"
            },
            "baxis": {
             "endlinecolor": "#2a3f5f",
             "gridcolor": "white",
             "linecolor": "white",
             "minorgridcolor": "white",
             "startlinecolor": "#2a3f5f"
            },
            "type": "carpet"
           }
          ],
          "choropleth": [
           {
            "colorbar": {
             "outlinewidth": 0,
             "ticks": ""
            },
            "type": "choropleth"
           }
          ],
          "contour": [
           {
            "colorbar": {
             "outlinewidth": 0,
             "ticks": ""
            },
            "colorscale": [
             [
              0,
              "#0d0887"
             ],
             [
              0.1111111111111111,
              "#46039f"
             ],
             [
              0.2222222222222222,
              "#7201a8"
             ],
             [
              0.3333333333333333,
              "#9c179e"
             ],
             [
              0.4444444444444444,
              "#bd3786"
             ],
             [
              0.5555555555555556,
              "#d8576b"
             ],
             [
              0.6666666666666666,
              "#ed7953"
             ],
             [
              0.7777777777777778,
              "#fb9f3a"
             ],
             [
              0.8888888888888888,
              "#fdca26"
             ],
             [
              1,
              "#f0f921"
             ]
            ],
            "type": "contour"
           }
          ],
          "contourcarpet": [
           {
            "colorbar": {
             "outlinewidth": 0,
             "ticks": ""
            },
            "type": "contourcarpet"
           }
          ],
          "heatmap": [
           {
            "colorbar": {
             "outlinewidth": 0,
             "ticks": ""
            },
            "colorscale": [
             [
              0,
              "#0d0887"
             ],
             [
              0.1111111111111111,
              "#46039f"
             ],
             [
              0.2222222222222222,
              "#7201a8"
             ],
             [
              0.3333333333333333,
              "#9c179e"
             ],
             [
              0.4444444444444444,
              "#bd3786"
             ],
             [
              0.5555555555555556,
              "#d8576b"
             ],
             [
              0.6666666666666666,
              "#ed7953"
             ],
             [
              0.7777777777777778,
              "#fb9f3a"
             ],
             [
              0.8888888888888888,
              "#fdca26"
             ],
             [
              1,
              "#f0f921"
             ]
            ],
            "type": "heatmap"
           }
          ],
          "heatmapgl": [
           {
            "colorbar": {
             "outlinewidth": 0,
             "ticks": ""
            },
            "colorscale": [
             [
              0,
              "#0d0887"
             ],
             [
              0.1111111111111111,
              "#46039f"
             ],
             [
              0.2222222222222222,
              "#7201a8"
             ],
             [
              0.3333333333333333,
              "#9c179e"
             ],
             [
              0.4444444444444444,
              "#bd3786"
             ],
             [
              0.5555555555555556,
              "#d8576b"
             ],
             [
              0.6666666666666666,
              "#ed7953"
             ],
             [
              0.7777777777777778,
              "#fb9f3a"
             ],
             [
              0.8888888888888888,
              "#fdca26"
             ],
             [
              1,
              "#f0f921"
             ]
            ],
            "type": "heatmapgl"
           }
          ],
          "histogram": [
           {
            "marker": {
             "pattern": {
              "fillmode": "overlay",
              "size": 10,
              "solidity": 0.2
             }
            },
            "type": "histogram"
           }
          ],
          "histogram2d": [
           {
            "colorbar": {
             "outlinewidth": 0,
             "ticks": ""
            },
            "colorscale": [
             [
              0,
              "#0d0887"
             ],
             [
              0.1111111111111111,
              "#46039f"
             ],
             [
              0.2222222222222222,
              "#7201a8"
             ],
             [
              0.3333333333333333,
              "#9c179e"
             ],
             [
              0.4444444444444444,
              "#bd3786"
             ],
             [
              0.5555555555555556,
              "#d8576b"
             ],
             [
              0.6666666666666666,
              "#ed7953"
             ],
             [
              0.7777777777777778,
              "#fb9f3a"
             ],
             [
              0.8888888888888888,
              "#fdca26"
             ],
             [
              1,
              "#f0f921"
             ]
            ],
            "type": "histogram2d"
           }
          ],
          "histogram2dcontour": [
           {
            "colorbar": {
             "outlinewidth": 0,
             "ticks": ""
            },
            "colorscale": [
             [
              0,
              "#0d0887"
             ],
             [
              0.1111111111111111,
              "#46039f"
             ],
             [
              0.2222222222222222,
              "#7201a8"
             ],
             [
              0.3333333333333333,
              "#9c179e"
             ],
             [
              0.4444444444444444,
              "#bd3786"
             ],
             [
              0.5555555555555556,
              "#d8576b"
             ],
             [
              0.6666666666666666,
              "#ed7953"
             ],
             [
              0.7777777777777778,
              "#fb9f3a"
             ],
             [
              0.8888888888888888,
              "#fdca26"
             ],
             [
              1,
              "#f0f921"
             ]
            ],
            "type": "histogram2dcontour"
           }
          ],
          "mesh3d": [
           {
            "colorbar": {
             "outlinewidth": 0,
             "ticks": ""
            },
            "type": "mesh3d"
           }
          ],
          "parcoords": [
           {
            "line": {
             "colorbar": {
              "outlinewidth": 0,
              "ticks": ""
             }
            },
            "type": "parcoords"
           }
          ],
          "pie": [
           {
            "automargin": true,
            "type": "pie"
           }
          ],
          "scatter": [
           {
            "fillpattern": {
             "fillmode": "overlay",
             "size": 10,
             "solidity": 0.2
            },
            "type": "scatter"
           }
          ],
          "scatter3d": [
           {
            "line": {
             "colorbar": {
              "outlinewidth": 0,
              "ticks": ""
             }
            },
            "marker": {
             "colorbar": {
              "outlinewidth": 0,
              "ticks": ""
             }
            },
            "type": "scatter3d"
           }
          ],
          "scattercarpet": [
           {
            "marker": {
             "colorbar": {
              "outlinewidth": 0,
              "ticks": ""
             }
            },
            "type": "scattercarpet"
           }
          ],
          "scattergeo": [
           {
            "marker": {
             "colorbar": {
              "outlinewidth": 0,
              "ticks": ""
             }
            },
            "type": "scattergeo"
           }
          ],
          "scattergl": [
           {
            "marker": {
             "colorbar": {
              "outlinewidth": 0,
              "ticks": ""
             }
            },
            "type": "scattergl"
           }
          ],
          "scattermapbox": [
           {
            "marker": {
             "colorbar": {
              "outlinewidth": 0,
              "ticks": ""
             }
            },
            "type": "scattermapbox"
           }
          ],
          "scatterpolar": [
           {
            "marker": {
             "colorbar": {
              "outlinewidth": 0,
              "ticks": ""
             }
            },
            "type": "scatterpolar"
           }
          ],
          "scatterpolargl": [
           {
            "marker": {
             "colorbar": {
              "outlinewidth": 0,
              "ticks": ""
             }
            },
            "type": "scatterpolargl"
           }
          ],
          "scatterternary": [
           {
            "marker": {
             "colorbar": {
              "outlinewidth": 0,
              "ticks": ""
             }
            },
            "type": "scatterternary"
           }
          ],
          "surface": [
           {
            "colorbar": {
             "outlinewidth": 0,
             "ticks": ""
            },
            "colorscale": [
             [
              0,
              "#0d0887"
             ],
             [
              0.1111111111111111,
              "#46039f"
             ],
             [
              0.2222222222222222,
              "#7201a8"
             ],
             [
              0.3333333333333333,
              "#9c179e"
             ],
             [
              0.4444444444444444,
              "#bd3786"
             ],
             [
              0.5555555555555556,
              "#d8576b"
             ],
             [
              0.6666666666666666,
              "#ed7953"
             ],
             [
              0.7777777777777778,
              "#fb9f3a"
             ],
             [
              0.8888888888888888,
              "#fdca26"
             ],
             [
              1,
              "#f0f921"
             ]
            ],
            "type": "surface"
           }
          ],
          "table": [
           {
            "cells": {
             "fill": {
              "color": "#EBF0F8"
             },
             "line": {
              "color": "white"
             }
            },
            "header": {
             "fill": {
              "color": "#C8D4E3"
             },
             "line": {
              "color": "white"
             }
            },
            "type": "table"
           }
          ]
         },
         "layout": {
          "annotationdefaults": {
           "arrowcolor": "#2a3f5f",
           "arrowhead": 0,
           "arrowwidth": 1
          },
          "autotypenumbers": "strict",
          "coloraxis": {
           "colorbar": {
            "outlinewidth": 0,
            "ticks": ""
           }
          },
          "colorscale": {
           "diverging": [
            [
             0,
             "#8e0152"
            ],
            [
             0.1,
             "#c51b7d"
            ],
            [
             0.2,
             "#de77ae"
            ],
            [
             0.3,
             "#f1b6da"
            ],
            [
             0.4,
             "#fde0ef"
            ],
            [
             0.5,
             "#f7f7f7"
            ],
            [
             0.6,
             "#e6f5d0"
            ],
            [
             0.7,
             "#b8e186"
            ],
            [
             0.8,
             "#7fbc41"
            ],
            [
             0.9,
             "#4d9221"
            ],
            [
             1,
             "#276419"
            ]
           ],
           "sequential": [
            [
             0,
             "#0d0887"
            ],
            [
             0.1111111111111111,
             "#46039f"
            ],
            [
             0.2222222222222222,
             "#7201a8"
            ],
            [
             0.3333333333333333,
             "#9c179e"
            ],
            [
             0.4444444444444444,
             "#bd3786"
            ],
            [
             0.5555555555555556,
             "#d8576b"
            ],
            [
             0.6666666666666666,
             "#ed7953"
            ],
            [
             0.7777777777777778,
             "#fb9f3a"
            ],
            [
             0.8888888888888888,
             "#fdca26"
            ],
            [
             1,
             "#f0f921"
            ]
           ],
           "sequentialminus": [
            [
             0,
             "#0d0887"
            ],
            [
             0.1111111111111111,
             "#46039f"
            ],
            [
             0.2222222222222222,
             "#7201a8"
            ],
            [
             0.3333333333333333,
             "#9c179e"
            ],
            [
             0.4444444444444444,
             "#bd3786"
            ],
            [
             0.5555555555555556,
             "#d8576b"
            ],
            [
             0.6666666666666666,
             "#ed7953"
            ],
            [
             0.7777777777777778,
             "#fb9f3a"
            ],
            [
             0.8888888888888888,
             "#fdca26"
            ],
            [
             1,
             "#f0f921"
            ]
           ]
          },
          "colorway": [
           "#636efa",
           "#EF553B",
           "#00cc96",
           "#ab63fa",
           "#FFA15A",
           "#19d3f3",
           "#FF6692",
           "#B6E880",
           "#FF97FF",
           "#FECB52"
          ],
          "font": {
           "color": "#2a3f5f"
          },
          "geo": {
           "bgcolor": "white",
           "lakecolor": "white",
           "landcolor": "#E5ECF6",
           "showlakes": true,
           "showland": true,
           "subunitcolor": "white"
          },
          "hoverlabel": {
           "align": "left"
          },
          "hovermode": "closest",
          "mapbox": {
           "style": "light"
          },
          "paper_bgcolor": "white",
          "plot_bgcolor": "#E5ECF6",
          "polar": {
           "angularaxis": {
            "gridcolor": "white",
            "linecolor": "white",
            "ticks": ""
           },
           "bgcolor": "#E5ECF6",
           "radialaxis": {
            "gridcolor": "white",
            "linecolor": "white",
            "ticks": ""
           }
          },
          "scene": {
           "xaxis": {
            "backgroundcolor": "#E5ECF6",
            "gridcolor": "white",
            "gridwidth": 2,
            "linecolor": "white",
            "showbackground": true,
            "ticks": "",
            "zerolinecolor": "white"
           },
           "yaxis": {
            "backgroundcolor": "#E5ECF6",
            "gridcolor": "white",
            "gridwidth": 2,
            "linecolor": "white",
            "showbackground": true,
            "ticks": "",
            "zerolinecolor": "white"
           },
           "zaxis": {
            "backgroundcolor": "#E5ECF6",
            "gridcolor": "white",
            "gridwidth": 2,
            "linecolor": "white",
            "showbackground": true,
            "ticks": "",
            "zerolinecolor": "white"
           }
          },
          "shapedefaults": {
           "line": {
            "color": "#2a3f5f"
           }
          },
          "ternary": {
           "aaxis": {
            "gridcolor": "white",
            "linecolor": "white",
            "ticks": ""
           },
           "baxis": {
            "gridcolor": "white",
            "linecolor": "white",
            "ticks": ""
           },
           "bgcolor": "#E5ECF6",
           "caxis": {
            "gridcolor": "white",
            "linecolor": "white",
            "ticks": ""
           }
          },
          "title": {
           "x": 0.05
          },
          "xaxis": {
           "automargin": true,
           "gridcolor": "white",
           "linecolor": "white",
           "ticks": "",
           "title": {
            "standoff": 15
           },
           "zerolinecolor": "white",
           "zerolinewidth": 2
          },
          "yaxis": {
           "automargin": true,
           "gridcolor": "white",
           "linecolor": "white",
           "ticks": "",
           "title": {
            "standoff": 15
           },
           "zerolinecolor": "white",
           "zerolinewidth": 2
          }
         }
        },
        "xaxis": {
         "anchor": "y",
         "constrain": "domain",
         "domain": [
          0,
          1
         ],
         "scaleanchor": "y",
         "title": {
          "text": "Visited country"
         }
        },
        "yaxis": {
         "anchor": "x",
         "autorange": "reversed",
         "constrain": "domain",
         "domain": [
          0,
          1
         ],
         "title": {
          "text": "Source country"
         }
        }
       }
      }
     },
     "metadata": {},
     "output_type": "display_data"
    }
   ],
   "source": [
    "df_matrix = df_lf_per_country.transpose().sort_index(axis=1).sort_index()\n",
    "\n",
    "df_matrix = df_matrix[[c for c in df_matrix.columns if ('loop_flow_from' in c)]].transpose()\n",
    "df_matrix.index = df_matrix.index.map(lambda c: c.split(\"_\")[-1].upper())\n",
    "df_matrix.index = [country.name for country in alpha_2_to_country(df_matrix.index)]\n",
    "df_matrix.columns = [country.name for country in alpha_2_to_country(df_matrix.columns)]\n",
    "fig = px.imshow(np.sign(df_matrix)*np.log10(df_matrix.abs()+1),\n",
    "    labels=dict(x=\"Visited country\", y=\"Source country\", color=\"Loop flow\"),\n",
    "    color_continuous_midpoint=0.0,\n",
    "    color_continuous_scale=\"RdBu_r\",\n",
    "    height=800)\n",
    "fig.update(data=[{'customdata': df_matrix,\n",
    "    'hovertemplate': 'Source country: %{y}<br>Visited country: %{x}<br>Loop flow: %{customdata:.2f}<extra></extra>'}])\n",
    "int_log_abs_max = int(np.log10(max(df_matrix.max().max(), abs(df_matrix.min().min()))))\n",
    "tickvals = np.arange(-int_log_abs_max, int_log_abs_max+1)\n",
    "fig.update_layout(coloraxis_colorbar=dict(\n",
    "    #title=\"Population\",\n",
    "    tickvals=tickvals,\n",
    "    ticktext=[np.sign(v)*10**abs(v) for v in tickvals],\n",
    "))\n",
    "fig.show()"
   ]
  },
  {
   "cell_type": "markdown",
   "metadata": {},
   "source": [
    "df_matrix rows are sources, columns are destinations"
   ]
  },
  {
   "cell_type": "markdown",
   "metadata": {},
   "source": [
    "# Choropleth"
   ]
  },
  {
   "cell_type": "code",
   "execution_count": 24,
   "metadata": {},
   "outputs": [],
   "source": [
    "def plot_map(source = None, visited = None):\n",
    "    if (visited is None) == (source is None) :\n",
    "        raise Exception(\"Exactly one of visited or source should be None.\")\n",
    "    if visited is None:\n",
    "        df = pd.DataFrame(df_matrix.loc[source, :])\n",
    "        country = source\n",
    "        directionSelected = \"source\"\n",
    "    else:\n",
    "        df = pd.DataFrame(df_matrix.loc[:, visited])\n",
    "        country = visited\n",
    "        directionSelected = \"visited\"\n",
    "\n",
    "    df = df.rename(columns={country:'Loop Flow'})\n",
    "    source_country_col_name = 'Source country'\n",
    "    visited_country_col_name = 'Visited country'\n",
    "    df[source_country_col_name] = df.index if source is None else [country] * len(df.index)\n",
    "    df[visited_country_col_name] = df.index if visited is None else [country] * len(df.index)\n",
    "    df['iso_alpha'] = [pycountry.countries.get(name=c).alpha_3 for c in df.index]\n",
    "    df['log_loop_flow'] = np.sign(df['Loop Flow'])*np.log10(df['Loop Flow'].abs()+1)\n",
    "\n",
    "    fig = px.choropleth(df, \n",
    "                        locations=\"iso_alpha\",\n",
    "                        color=\"log_loop_flow\",\n",
    "                        hover_data={source_country_col_name: True, visited_country_col_name: True, 'Loop Flow':':.1f', 'log_loop_flow':False, 'iso_alpha':False},\n",
    "                        color_continuous_midpoint=0.0,\n",
    "                        color_continuous_scale=\"RdBu_r\",\n",
    "                        width=1200,\n",
    "                        height=800,\n",
    "                        title=f'Loop flow decomposition with {directionSelected} country = {country}',\n",
    "                        )\n",
    "    int_log_abs_max = int(max(df['log_loop_flow'].max(), df['log_loop_flow'].min()))\n",
    "    tickvals = np.arange(-int_log_abs_max, int_log_abs_max+1)\n",
    "    fig.update_layout(coloraxis_colorbar=dict(\n",
    "        title=\"Loop Flow\",\n",
    "        tickvals=tickvals,\n",
    "        ticktext=[np.sign(v)*10**abs(v) for v in tickvals],\n",
    "    ))\n",
    "    fig.update_geos(\n",
    "        lataxis_range=[30, 70],\n",
    "        lonaxis_range=[-20, 50]\n",
    "    )\n",
    "    fig.show()"
   ]
  },
  {
   "cell_type": "code",
   "execution_count": 25,
   "metadata": {},
   "outputs": [
    {
     "data": {
      "application/vnd.plotly.v1+json": {
       "config": {
        "plotlyServerURL": "https://plot.ly"
       },
       "data": [
        {
         "coloraxis": "coloraxis",
         "customdata": [
          [
           "Luxembourg",
           "Bulgaria",
           -71.66205270312564,
           -1.8613076625199274,
           "BGR"
          ],
          [
           "Luxembourg",
           "Czechia",
           -1.36899934451456,
           -0.3745649405565562,
           "CZE"
          ],
          [
           "Luxembourg",
           "Denmark",
           286.1960104599969,
           2.458178402675963,
           "DNK"
          ],
          [
           "Luxembourg",
           "Estonia",
           61.212931481770404,
           1.7938806658397162,
           "EST"
          ],
          [
           "Luxembourg",
           "France",
           32.791235784467666,
           1.528804074715448,
           "FRA"
          ],
          [
           "Luxembourg",
           "Hungary",
           86.99302809986963,
           1.9444482633126223,
           "HUN"
          ],
          [
           "Luxembourg",
           "Ireland",
           -14.676116116231476,
           -1.1952384717269517,
           "IRL"
          ],
          [
           "Luxembourg",
           "Lithuania",
           1097.8853153016055,
           3.040952369829659,
           "LTU"
          ],
          [
           "Luxembourg",
           "Luxembourg",
           249.19768003134487,
           2.398283278361972,
           "LUX"
          ]
         ],
         "geo": "geo",
         "hovertemplate": "Source country=%{customdata[0]}<br>Visited country=%{customdata[1]}<br>Loop Flow=%{customdata[2]:.1f}<extra></extra>",
         "locations": [
          "BGR",
          "CZE",
          "DNK",
          "EST",
          "FRA",
          "HUN",
          "IRL",
          "LTU",
          "LUX"
         ],
         "name": "",
         "type": "choropleth",
         "z": [
          -1.8613076625199274,
          -0.3745649405565562,
          2.458178402675963,
          1.7938806658397162,
          1.528804074715448,
          1.9444482633126223,
          -1.1952384717269517,
          3.040952369829659,
          2.398283278361972
         ]
        }
       ],
       "layout": {
        "coloraxis": {
         "cmid": 0,
         "colorbar": {
          "ticktext": [
           -1000,
           -100,
           -10,
           0,
           10,
           100,
           1000
          ],
          "tickvals": [
           -3,
           -2,
           -1,
           0,
           1,
           2,
           3
          ],
          "title": {
           "text": "Loop Flow"
          }
         },
         "colorscale": [
          [
           0,
           "rgb(5,48,97)"
          ],
          [
           0.1,
           "rgb(33,102,172)"
          ],
          [
           0.2,
           "rgb(67,147,195)"
          ],
          [
           0.3,
           "rgb(146,197,222)"
          ],
          [
           0.4,
           "rgb(209,229,240)"
          ],
          [
           0.5,
           "rgb(247,247,247)"
          ],
          [
           0.6,
           "rgb(253,219,199)"
          ],
          [
           0.7,
           "rgb(244,165,130)"
          ],
          [
           0.8,
           "rgb(214,96,77)"
          ],
          [
           0.9,
           "rgb(178,24,43)"
          ],
          [
           1,
           "rgb(103,0,31)"
          ]
         ]
        },
        "geo": {
         "center": {},
         "domain": {
          "x": [
           0,
           1
          ],
          "y": [
           0,
           1
          ]
         },
         "lataxis": {
          "range": [
           30,
           70
          ]
         },
         "lonaxis": {
          "range": [
           -20,
           50
          ]
         }
        },
        "height": 800,
        "legend": {
         "tracegroupgap": 0
        },
        "template": {
         "data": {
          "bar": [
           {
            "error_x": {
             "color": "#2a3f5f"
            },
            "error_y": {
             "color": "#2a3f5f"
            },
            "marker": {
             "line": {
              "color": "#E5ECF6",
              "width": 0.5
             },
             "pattern": {
              "fillmode": "overlay",
              "size": 10,
              "solidity": 0.2
             }
            },
            "type": "bar"
           }
          ],
          "barpolar": [
           {
            "marker": {
             "line": {
              "color": "#E5ECF6",
              "width": 0.5
             },
             "pattern": {
              "fillmode": "overlay",
              "size": 10,
              "solidity": 0.2
             }
            },
            "type": "barpolar"
           }
          ],
          "carpet": [
           {
            "aaxis": {
             "endlinecolor": "#2a3f5f",
             "gridcolor": "white",
             "linecolor": "white",
             "minorgridcolor": "white",
             "startlinecolor": "#2a3f5f"
            },
            "baxis": {
             "endlinecolor": "#2a3f5f",
             "gridcolor": "white",
             "linecolor": "white",
             "minorgridcolor": "white",
             "startlinecolor": "#2a3f5f"
            },
            "type": "carpet"
           }
          ],
          "choropleth": [
           {
            "colorbar": {
             "outlinewidth": 0,
             "ticks": ""
            },
            "type": "choropleth"
           }
          ],
          "contour": [
           {
            "colorbar": {
             "outlinewidth": 0,
             "ticks": ""
            },
            "colorscale": [
             [
              0,
              "#0d0887"
             ],
             [
              0.1111111111111111,
              "#46039f"
             ],
             [
              0.2222222222222222,
              "#7201a8"
             ],
             [
              0.3333333333333333,
              "#9c179e"
             ],
             [
              0.4444444444444444,
              "#bd3786"
             ],
             [
              0.5555555555555556,
              "#d8576b"
             ],
             [
              0.6666666666666666,
              "#ed7953"
             ],
             [
              0.7777777777777778,
              "#fb9f3a"
             ],
             [
              0.8888888888888888,
              "#fdca26"
             ],
             [
              1,
              "#f0f921"
             ]
            ],
            "type": "contour"
           }
          ],
          "contourcarpet": [
           {
            "colorbar": {
             "outlinewidth": 0,
             "ticks": ""
            },
            "type": "contourcarpet"
           }
          ],
          "heatmap": [
           {
            "colorbar": {
             "outlinewidth": 0,
             "ticks": ""
            },
            "colorscale": [
             [
              0,
              "#0d0887"
             ],
             [
              0.1111111111111111,
              "#46039f"
             ],
             [
              0.2222222222222222,
              "#7201a8"
             ],
             [
              0.3333333333333333,
              "#9c179e"
             ],
             [
              0.4444444444444444,
              "#bd3786"
             ],
             [
              0.5555555555555556,
              "#d8576b"
             ],
             [
              0.6666666666666666,
              "#ed7953"
             ],
             [
              0.7777777777777778,
              "#fb9f3a"
             ],
             [
              0.8888888888888888,
              "#fdca26"
             ],
             [
              1,
              "#f0f921"
             ]
            ],
            "type": "heatmap"
           }
          ],
          "heatmapgl": [
           {
            "colorbar": {
             "outlinewidth": 0,
             "ticks": ""
            },
            "colorscale": [
             [
              0,
              "#0d0887"
             ],
             [
              0.1111111111111111,
              "#46039f"
             ],
             [
              0.2222222222222222,
              "#7201a8"
             ],
             [
              0.3333333333333333,
              "#9c179e"
             ],
             [
              0.4444444444444444,
              "#bd3786"
             ],
             [
              0.5555555555555556,
              "#d8576b"
             ],
             [
              0.6666666666666666,
              "#ed7953"
             ],
             [
              0.7777777777777778,
              "#fb9f3a"
             ],
             [
              0.8888888888888888,
              "#fdca26"
             ],
             [
              1,
              "#f0f921"
             ]
            ],
            "type": "heatmapgl"
           }
          ],
          "histogram": [
           {
            "marker": {
             "pattern": {
              "fillmode": "overlay",
              "size": 10,
              "solidity": 0.2
             }
            },
            "type": "histogram"
           }
          ],
          "histogram2d": [
           {
            "colorbar": {
             "outlinewidth": 0,
             "ticks": ""
            },
            "colorscale": [
             [
              0,
              "#0d0887"
             ],
             [
              0.1111111111111111,
              "#46039f"
             ],
             [
              0.2222222222222222,
              "#7201a8"
             ],
             [
              0.3333333333333333,
              "#9c179e"
             ],
             [
              0.4444444444444444,
              "#bd3786"
             ],
             [
              0.5555555555555556,
              "#d8576b"
             ],
             [
              0.6666666666666666,
              "#ed7953"
             ],
             [
              0.7777777777777778,
              "#fb9f3a"
             ],
             [
              0.8888888888888888,
              "#fdca26"
             ],
             [
              1,
              "#f0f921"
             ]
            ],
            "type": "histogram2d"
           }
          ],
          "histogram2dcontour": [
           {
            "colorbar": {
             "outlinewidth": 0,
             "ticks": ""
            },
            "colorscale": [
             [
              0,
              "#0d0887"
             ],
             [
              0.1111111111111111,
              "#46039f"
             ],
             [
              0.2222222222222222,
              "#7201a8"
             ],
             [
              0.3333333333333333,
              "#9c179e"
             ],
             [
              0.4444444444444444,
              "#bd3786"
             ],
             [
              0.5555555555555556,
              "#d8576b"
             ],
             [
              0.6666666666666666,
              "#ed7953"
             ],
             [
              0.7777777777777778,
              "#fb9f3a"
             ],
             [
              0.8888888888888888,
              "#fdca26"
             ],
             [
              1,
              "#f0f921"
             ]
            ],
            "type": "histogram2dcontour"
           }
          ],
          "mesh3d": [
           {
            "colorbar": {
             "outlinewidth": 0,
             "ticks": ""
            },
            "type": "mesh3d"
           }
          ],
          "parcoords": [
           {
            "line": {
             "colorbar": {
              "outlinewidth": 0,
              "ticks": ""
             }
            },
            "type": "parcoords"
           }
          ],
          "pie": [
           {
            "automargin": true,
            "type": "pie"
           }
          ],
          "scatter": [
           {
            "fillpattern": {
             "fillmode": "overlay",
             "size": 10,
             "solidity": 0.2
            },
            "type": "scatter"
           }
          ],
          "scatter3d": [
           {
            "line": {
             "colorbar": {
              "outlinewidth": 0,
              "ticks": ""
             }
            },
            "marker": {
             "colorbar": {
              "outlinewidth": 0,
              "ticks": ""
             }
            },
            "type": "scatter3d"
           }
          ],
          "scattercarpet": [
           {
            "marker": {
             "colorbar": {
              "outlinewidth": 0,
              "ticks": ""
             }
            },
            "type": "scattercarpet"
           }
          ],
          "scattergeo": [
           {
            "marker": {
             "colorbar": {
              "outlinewidth": 0,
              "ticks": ""
             }
            },
            "type": "scattergeo"
           }
          ],
          "scattergl": [
           {
            "marker": {
             "colorbar": {
              "outlinewidth": 0,
              "ticks": ""
             }
            },
            "type": "scattergl"
           }
          ],
          "scattermapbox": [
           {
            "marker": {
             "colorbar": {
              "outlinewidth": 0,
              "ticks": ""
             }
            },
            "type": "scattermapbox"
           }
          ],
          "scatterpolar": [
           {
            "marker": {
             "colorbar": {
              "outlinewidth": 0,
              "ticks": ""
             }
            },
            "type": "scatterpolar"
           }
          ],
          "scatterpolargl": [
           {
            "marker": {
             "colorbar": {
              "outlinewidth": 0,
              "ticks": ""
             }
            },
            "type": "scatterpolargl"
           }
          ],
          "scatterternary": [
           {
            "marker": {
             "colorbar": {
              "outlinewidth": 0,
              "ticks": ""
             }
            },
            "type": "scatterternary"
           }
          ],
          "surface": [
           {
            "colorbar": {
             "outlinewidth": 0,
             "ticks": ""
            },
            "colorscale": [
             [
              0,
              "#0d0887"
             ],
             [
              0.1111111111111111,
              "#46039f"
             ],
             [
              0.2222222222222222,
              "#7201a8"
             ],
             [
              0.3333333333333333,
              "#9c179e"
             ],
             [
              0.4444444444444444,
              "#bd3786"
             ],
             [
              0.5555555555555556,
              "#d8576b"
             ],
             [
              0.6666666666666666,
              "#ed7953"
             ],
             [
              0.7777777777777778,
              "#fb9f3a"
             ],
             [
              0.8888888888888888,
              "#fdca26"
             ],
             [
              1,
              "#f0f921"
             ]
            ],
            "type": "surface"
           }
          ],
          "table": [
           {
            "cells": {
             "fill": {
              "color": "#EBF0F8"
             },
             "line": {
              "color": "white"
             }
            },
            "header": {
             "fill": {
              "color": "#C8D4E3"
             },
             "line": {
              "color": "white"
             }
            },
            "type": "table"
           }
          ]
         },
         "layout": {
          "annotationdefaults": {
           "arrowcolor": "#2a3f5f",
           "arrowhead": 0,
           "arrowwidth": 1
          },
          "autotypenumbers": "strict",
          "coloraxis": {
           "colorbar": {
            "outlinewidth": 0,
            "ticks": ""
           }
          },
          "colorscale": {
           "diverging": [
            [
             0,
             "#8e0152"
            ],
            [
             0.1,
             "#c51b7d"
            ],
            [
             0.2,
             "#de77ae"
            ],
            [
             0.3,
             "#f1b6da"
            ],
            [
             0.4,
             "#fde0ef"
            ],
            [
             0.5,
             "#f7f7f7"
            ],
            [
             0.6,
             "#e6f5d0"
            ],
            [
             0.7,
             "#b8e186"
            ],
            [
             0.8,
             "#7fbc41"
            ],
            [
             0.9,
             "#4d9221"
            ],
            [
             1,
             "#276419"
            ]
           ],
           "sequential": [
            [
             0,
             "#0d0887"
            ],
            [
             0.1111111111111111,
             "#46039f"
            ],
            [
             0.2222222222222222,
             "#7201a8"
            ],
            [
             0.3333333333333333,
             "#9c179e"
            ],
            [
             0.4444444444444444,
             "#bd3786"
            ],
            [
             0.5555555555555556,
             "#d8576b"
            ],
            [
             0.6666666666666666,
             "#ed7953"
            ],
            [
             0.7777777777777778,
             "#fb9f3a"
            ],
            [
             0.8888888888888888,
             "#fdca26"
            ],
            [
             1,
             "#f0f921"
            ]
           ],
           "sequentialminus": [
            [
             0,
             "#0d0887"
            ],
            [
             0.1111111111111111,
             "#46039f"
            ],
            [
             0.2222222222222222,
             "#7201a8"
            ],
            [
             0.3333333333333333,
             "#9c179e"
            ],
            [
             0.4444444444444444,
             "#bd3786"
            ],
            [
             0.5555555555555556,
             "#d8576b"
            ],
            [
             0.6666666666666666,
             "#ed7953"
            ],
            [
             0.7777777777777778,
             "#fb9f3a"
            ],
            [
             0.8888888888888888,
             "#fdca26"
            ],
            [
             1,
             "#f0f921"
            ]
           ]
          },
          "colorway": [
           "#636efa",
           "#EF553B",
           "#00cc96",
           "#ab63fa",
           "#FFA15A",
           "#19d3f3",
           "#FF6692",
           "#B6E880",
           "#FF97FF",
           "#FECB52"
          ],
          "font": {
           "color": "#2a3f5f"
          },
          "geo": {
           "bgcolor": "white",
           "lakecolor": "white",
           "landcolor": "#E5ECF6",
           "showlakes": true,
           "showland": true,
           "subunitcolor": "white"
          },
          "hoverlabel": {
           "align": "left"
          },
          "hovermode": "closest",
          "mapbox": {
           "style": "light"
          },
          "paper_bgcolor": "white",
          "plot_bgcolor": "#E5ECF6",
          "polar": {
           "angularaxis": {
            "gridcolor": "white",
            "linecolor": "white",
            "ticks": ""
           },
           "bgcolor": "#E5ECF6",
           "radialaxis": {
            "gridcolor": "white",
            "linecolor": "white",
            "ticks": ""
           }
          },
          "scene": {
           "xaxis": {
            "backgroundcolor": "#E5ECF6",
            "gridcolor": "white",
            "gridwidth": 2,
            "linecolor": "white",
            "showbackground": true,
            "ticks": "",
            "zerolinecolor": "white"
           },
           "yaxis": {
            "backgroundcolor": "#E5ECF6",
            "gridcolor": "white",
            "gridwidth": 2,
            "linecolor": "white",
            "showbackground": true,
            "ticks": "",
            "zerolinecolor": "white"
           },
           "zaxis": {
            "backgroundcolor": "#E5ECF6",
            "gridcolor": "white",
            "gridwidth": 2,
            "linecolor": "white",
            "showbackground": true,
            "ticks": "",
            "zerolinecolor": "white"
           }
          },
          "shapedefaults": {
           "line": {
            "color": "#2a3f5f"
           }
          },
          "ternary": {
           "aaxis": {
            "gridcolor": "white",
            "linecolor": "white",
            "ticks": ""
           },
           "baxis": {
            "gridcolor": "white",
            "linecolor": "white",
            "ticks": ""
           },
           "bgcolor": "#E5ECF6",
           "caxis": {
            "gridcolor": "white",
            "linecolor": "white",
            "ticks": ""
           }
          },
          "title": {
           "x": 0.05
          },
          "xaxis": {
           "automargin": true,
           "gridcolor": "white",
           "linecolor": "white",
           "ticks": "",
           "title": {
            "standoff": 15
           },
           "zerolinecolor": "white",
           "zerolinewidth": 2
          },
          "yaxis": {
           "automargin": true,
           "gridcolor": "white",
           "linecolor": "white",
           "ticks": "",
           "title": {
            "standoff": 15
           },
           "zerolinecolor": "white",
           "zerolinewidth": 2
          }
         }
        },
        "title": {
         "text": "Loop flow decomposition with source country = Luxembourg"
        },
        "width": 1200
       }
      }
     },
     "metadata": {},
     "output_type": "display_data"
    }
   ],
   "source": [
    "country = random.Random(12).choice(list(countries)).name\n",
    "plot_map(source=country)"
   ]
  },
  {
   "cell_type": "code",
   "execution_count": 26,
   "metadata": {},
   "outputs": [
    {
     "data": {
      "application/vnd.plotly.v1+json": {
       "config": {
        "plotlyServerURL": "https://plot.ly"
       },
       "data": [
        {
         "coloraxis": "coloraxis",
         "customdata": [
          [
           "Bulgaria",
           "Luxembourg",
           99.97875914165866,
           2.004230029646836,
           "BGR"
          ],
          [
           "Czechia",
           "Luxembourg",
           12.509835105259148,
           1.130650048258664,
           "CZE"
          ],
          [
           "Denmark",
           "Luxembourg",
           -382.9833937195641,
           -2.584312442669858,
           "DNK"
          ],
          [
           "Estonia",
           "Luxembourg",
           137.88038105852274,
           2.142640899446664,
           "EST"
          ],
          [
           "France",
           "Luxembourg",
           281.4971132759342,
           2.4510140142979777,
           "FRA"
          ],
          [
           "Hungary",
           "Luxembourg",
           332.60567990136,
           2.5232334362367417,
           "HUN"
          ],
          [
           "Ireland",
           "Luxembourg",
           0,
           0,
           "IRL"
          ],
          [
           "Lithuania",
           "Luxembourg",
           -17.341498308027255,
           -1.263434810086987,
           "LTU"
          ],
          [
           "Luxembourg",
           "Luxembourg",
           249.19768003134487,
           2.398283278361972,
           "LUX"
          ]
         ],
         "geo": "geo",
         "hovertemplate": "Source country=%{customdata[0]}<br>Visited country=%{customdata[1]}<br>Loop Flow=%{customdata[2]:.1f}<extra></extra>",
         "locations": [
          "BGR",
          "CZE",
          "DNK",
          "EST",
          "FRA",
          "HUN",
          "IRL",
          "LTU",
          "LUX"
         ],
         "name": "",
         "type": "choropleth",
         "z": [
          2.004230029646836,
          1.130650048258664,
          -2.584312442669858,
          2.142640899446664,
          2.4510140142979777,
          2.5232334362367417,
          0,
          -1.263434810086987,
          2.398283278361972
         ]
        }
       ],
       "layout": {
        "coloraxis": {
         "cmid": 0,
         "colorbar": {
          "ticktext": [
           -100,
           -10,
           0,
           10,
           100
          ],
          "tickvals": [
           -2,
           -1,
           0,
           1,
           2
          ],
          "title": {
           "text": "Loop Flow"
          }
         },
         "colorscale": [
          [
           0,
           "rgb(5,48,97)"
          ],
          [
           0.1,
           "rgb(33,102,172)"
          ],
          [
           0.2,
           "rgb(67,147,195)"
          ],
          [
           0.3,
           "rgb(146,197,222)"
          ],
          [
           0.4,
           "rgb(209,229,240)"
          ],
          [
           0.5,
           "rgb(247,247,247)"
          ],
          [
           0.6,
           "rgb(253,219,199)"
          ],
          [
           0.7,
           "rgb(244,165,130)"
          ],
          [
           0.8,
           "rgb(214,96,77)"
          ],
          [
           0.9,
           "rgb(178,24,43)"
          ],
          [
           1,
           "rgb(103,0,31)"
          ]
         ]
        },
        "geo": {
         "center": {},
         "domain": {
          "x": [
           0,
           1
          ],
          "y": [
           0,
           1
          ]
         },
         "lataxis": {
          "range": [
           30,
           70
          ]
         },
         "lonaxis": {
          "range": [
           -20,
           50
          ]
         }
        },
        "height": 800,
        "legend": {
         "tracegroupgap": 0
        },
        "template": {
         "data": {
          "bar": [
           {
            "error_x": {
             "color": "#2a3f5f"
            },
            "error_y": {
             "color": "#2a3f5f"
            },
            "marker": {
             "line": {
              "color": "#E5ECF6",
              "width": 0.5
             },
             "pattern": {
              "fillmode": "overlay",
              "size": 10,
              "solidity": 0.2
             }
            },
            "type": "bar"
           }
          ],
          "barpolar": [
           {
            "marker": {
             "line": {
              "color": "#E5ECF6",
              "width": 0.5
             },
             "pattern": {
              "fillmode": "overlay",
              "size": 10,
              "solidity": 0.2
             }
            },
            "type": "barpolar"
           }
          ],
          "carpet": [
           {
            "aaxis": {
             "endlinecolor": "#2a3f5f",
             "gridcolor": "white",
             "linecolor": "white",
             "minorgridcolor": "white",
             "startlinecolor": "#2a3f5f"
            },
            "baxis": {
             "endlinecolor": "#2a3f5f",
             "gridcolor": "white",
             "linecolor": "white",
             "minorgridcolor": "white",
             "startlinecolor": "#2a3f5f"
            },
            "type": "carpet"
           }
          ],
          "choropleth": [
           {
            "colorbar": {
             "outlinewidth": 0,
             "ticks": ""
            },
            "type": "choropleth"
           }
          ],
          "contour": [
           {
            "colorbar": {
             "outlinewidth": 0,
             "ticks": ""
            },
            "colorscale": [
             [
              0,
              "#0d0887"
             ],
             [
              0.1111111111111111,
              "#46039f"
             ],
             [
              0.2222222222222222,
              "#7201a8"
             ],
             [
              0.3333333333333333,
              "#9c179e"
             ],
             [
              0.4444444444444444,
              "#bd3786"
             ],
             [
              0.5555555555555556,
              "#d8576b"
             ],
             [
              0.6666666666666666,
              "#ed7953"
             ],
             [
              0.7777777777777778,
              "#fb9f3a"
             ],
             [
              0.8888888888888888,
              "#fdca26"
             ],
             [
              1,
              "#f0f921"
             ]
            ],
            "type": "contour"
           }
          ],
          "contourcarpet": [
           {
            "colorbar": {
             "outlinewidth": 0,
             "ticks": ""
            },
            "type": "contourcarpet"
           }
          ],
          "heatmap": [
           {
            "colorbar": {
             "outlinewidth": 0,
             "ticks": ""
            },
            "colorscale": [
             [
              0,
              "#0d0887"
             ],
             [
              0.1111111111111111,
              "#46039f"
             ],
             [
              0.2222222222222222,
              "#7201a8"
             ],
             [
              0.3333333333333333,
              "#9c179e"
             ],
             [
              0.4444444444444444,
              "#bd3786"
             ],
             [
              0.5555555555555556,
              "#d8576b"
             ],
             [
              0.6666666666666666,
              "#ed7953"
             ],
             [
              0.7777777777777778,
              "#fb9f3a"
             ],
             [
              0.8888888888888888,
              "#fdca26"
             ],
             [
              1,
              "#f0f921"
             ]
            ],
            "type": "heatmap"
           }
          ],
          "heatmapgl": [
           {
            "colorbar": {
             "outlinewidth": 0,
             "ticks": ""
            },
            "colorscale": [
             [
              0,
              "#0d0887"
             ],
             [
              0.1111111111111111,
              "#46039f"
             ],
             [
              0.2222222222222222,
              "#7201a8"
             ],
             [
              0.3333333333333333,
              "#9c179e"
             ],
             [
              0.4444444444444444,
              "#bd3786"
             ],
             [
              0.5555555555555556,
              "#d8576b"
             ],
             [
              0.6666666666666666,
              "#ed7953"
             ],
             [
              0.7777777777777778,
              "#fb9f3a"
             ],
             [
              0.8888888888888888,
              "#fdca26"
             ],
             [
              1,
              "#f0f921"
             ]
            ],
            "type": "heatmapgl"
           }
          ],
          "histogram": [
           {
            "marker": {
             "pattern": {
              "fillmode": "overlay",
              "size": 10,
              "solidity": 0.2
             }
            },
            "type": "histogram"
           }
          ],
          "histogram2d": [
           {
            "colorbar": {
             "outlinewidth": 0,
             "ticks": ""
            },
            "colorscale": [
             [
              0,
              "#0d0887"
             ],
             [
              0.1111111111111111,
              "#46039f"
             ],
             [
              0.2222222222222222,
              "#7201a8"
             ],
             [
              0.3333333333333333,
              "#9c179e"
             ],
             [
              0.4444444444444444,
              "#bd3786"
             ],
             [
              0.5555555555555556,
              "#d8576b"
             ],
             [
              0.6666666666666666,
              "#ed7953"
             ],
             [
              0.7777777777777778,
              "#fb9f3a"
             ],
             [
              0.8888888888888888,
              "#fdca26"
             ],
             [
              1,
              "#f0f921"
             ]
            ],
            "type": "histogram2d"
           }
          ],
          "histogram2dcontour": [
           {
            "colorbar": {
             "outlinewidth": 0,
             "ticks": ""
            },
            "colorscale": [
             [
              0,
              "#0d0887"
             ],
             [
              0.1111111111111111,
              "#46039f"
             ],
             [
              0.2222222222222222,
              "#7201a8"
             ],
             [
              0.3333333333333333,
              "#9c179e"
             ],
             [
              0.4444444444444444,
              "#bd3786"
             ],
             [
              0.5555555555555556,
              "#d8576b"
             ],
             [
              0.6666666666666666,
              "#ed7953"
             ],
             [
              0.7777777777777778,
              "#fb9f3a"
             ],
             [
              0.8888888888888888,
              "#fdca26"
             ],
             [
              1,
              "#f0f921"
             ]
            ],
            "type": "histogram2dcontour"
           }
          ],
          "mesh3d": [
           {
            "colorbar": {
             "outlinewidth": 0,
             "ticks": ""
            },
            "type": "mesh3d"
           }
          ],
          "parcoords": [
           {
            "line": {
             "colorbar": {
              "outlinewidth": 0,
              "ticks": ""
             }
            },
            "type": "parcoords"
           }
          ],
          "pie": [
           {
            "automargin": true,
            "type": "pie"
           }
          ],
          "scatter": [
           {
            "fillpattern": {
             "fillmode": "overlay",
             "size": 10,
             "solidity": 0.2
            },
            "type": "scatter"
           }
          ],
          "scatter3d": [
           {
            "line": {
             "colorbar": {
              "outlinewidth": 0,
              "ticks": ""
             }
            },
            "marker": {
             "colorbar": {
              "outlinewidth": 0,
              "ticks": ""
             }
            },
            "type": "scatter3d"
           }
          ],
          "scattercarpet": [
           {
            "marker": {
             "colorbar": {
              "outlinewidth": 0,
              "ticks": ""
             }
            },
            "type": "scattercarpet"
           }
          ],
          "scattergeo": [
           {
            "marker": {
             "colorbar": {
              "outlinewidth": 0,
              "ticks": ""
             }
            },
            "type": "scattergeo"
           }
          ],
          "scattergl": [
           {
            "marker": {
             "colorbar": {
              "outlinewidth": 0,
              "ticks": ""
             }
            },
            "type": "scattergl"
           }
          ],
          "scattermapbox": [
           {
            "marker": {
             "colorbar": {
              "outlinewidth": 0,
              "ticks": ""
             }
            },
            "type": "scattermapbox"
           }
          ],
          "scatterpolar": [
           {
            "marker": {
             "colorbar": {
              "outlinewidth": 0,
              "ticks": ""
             }
            },
            "type": "scatterpolar"
           }
          ],
          "scatterpolargl": [
           {
            "marker": {
             "colorbar": {
              "outlinewidth": 0,
              "ticks": ""
             }
            },
            "type": "scatterpolargl"
           }
          ],
          "scatterternary": [
           {
            "marker": {
             "colorbar": {
              "outlinewidth": 0,
              "ticks": ""
             }
            },
            "type": "scatterternary"
           }
          ],
          "surface": [
           {
            "colorbar": {
             "outlinewidth": 0,
             "ticks": ""
            },
            "colorscale": [
             [
              0,
              "#0d0887"
             ],
             [
              0.1111111111111111,
              "#46039f"
             ],
             [
              0.2222222222222222,
              "#7201a8"
             ],
             [
              0.3333333333333333,
              "#9c179e"
             ],
             [
              0.4444444444444444,
              "#bd3786"
             ],
             [
              0.5555555555555556,
              "#d8576b"
             ],
             [
              0.6666666666666666,
              "#ed7953"
             ],
             [
              0.7777777777777778,
              "#fb9f3a"
             ],
             [
              0.8888888888888888,
              "#fdca26"
             ],
             [
              1,
              "#f0f921"
             ]
            ],
            "type": "surface"
           }
          ],
          "table": [
           {
            "cells": {
             "fill": {
              "color": "#EBF0F8"
             },
             "line": {
              "color": "white"
             }
            },
            "header": {
             "fill": {
              "color": "#C8D4E3"
             },
             "line": {
              "color": "white"
             }
            },
            "type": "table"
           }
          ]
         },
         "layout": {
          "annotationdefaults": {
           "arrowcolor": "#2a3f5f",
           "arrowhead": 0,
           "arrowwidth": 1
          },
          "autotypenumbers": "strict",
          "coloraxis": {
           "colorbar": {
            "outlinewidth": 0,
            "ticks": ""
           }
          },
          "colorscale": {
           "diverging": [
            [
             0,
             "#8e0152"
            ],
            [
             0.1,
             "#c51b7d"
            ],
            [
             0.2,
             "#de77ae"
            ],
            [
             0.3,
             "#f1b6da"
            ],
            [
             0.4,
             "#fde0ef"
            ],
            [
             0.5,
             "#f7f7f7"
            ],
            [
             0.6,
             "#e6f5d0"
            ],
            [
             0.7,
             "#b8e186"
            ],
            [
             0.8,
             "#7fbc41"
            ],
            [
             0.9,
             "#4d9221"
            ],
            [
             1,
             "#276419"
            ]
           ],
           "sequential": [
            [
             0,
             "#0d0887"
            ],
            [
             0.1111111111111111,
             "#46039f"
            ],
            [
             0.2222222222222222,
             "#7201a8"
            ],
            [
             0.3333333333333333,
             "#9c179e"
            ],
            [
             0.4444444444444444,
             "#bd3786"
            ],
            [
             0.5555555555555556,
             "#d8576b"
            ],
            [
             0.6666666666666666,
             "#ed7953"
            ],
            [
             0.7777777777777778,
             "#fb9f3a"
            ],
            [
             0.8888888888888888,
             "#fdca26"
            ],
            [
             1,
             "#f0f921"
            ]
           ],
           "sequentialminus": [
            [
             0,
             "#0d0887"
            ],
            [
             0.1111111111111111,
             "#46039f"
            ],
            [
             0.2222222222222222,
             "#7201a8"
            ],
            [
             0.3333333333333333,
             "#9c179e"
            ],
            [
             0.4444444444444444,
             "#bd3786"
            ],
            [
             0.5555555555555556,
             "#d8576b"
            ],
            [
             0.6666666666666666,
             "#ed7953"
            ],
            [
             0.7777777777777778,
             "#fb9f3a"
            ],
            [
             0.8888888888888888,
             "#fdca26"
            ],
            [
             1,
             "#f0f921"
            ]
           ]
          },
          "colorway": [
           "#636efa",
           "#EF553B",
           "#00cc96",
           "#ab63fa",
           "#FFA15A",
           "#19d3f3",
           "#FF6692",
           "#B6E880",
           "#FF97FF",
           "#FECB52"
          ],
          "font": {
           "color": "#2a3f5f"
          },
          "geo": {
           "bgcolor": "white",
           "lakecolor": "white",
           "landcolor": "#E5ECF6",
           "showlakes": true,
           "showland": true,
           "subunitcolor": "white"
          },
          "hoverlabel": {
           "align": "left"
          },
          "hovermode": "closest",
          "mapbox": {
           "style": "light"
          },
          "paper_bgcolor": "white",
          "plot_bgcolor": "#E5ECF6",
          "polar": {
           "angularaxis": {
            "gridcolor": "white",
            "linecolor": "white",
            "ticks": ""
           },
           "bgcolor": "#E5ECF6",
           "radialaxis": {
            "gridcolor": "white",
            "linecolor": "white",
            "ticks": ""
           }
          },
          "scene": {
           "xaxis": {
            "backgroundcolor": "#E5ECF6",
            "gridcolor": "white",
            "gridwidth": 2,
            "linecolor": "white",
            "showbackground": true,
            "ticks": "",
            "zerolinecolor": "white"
           },
           "yaxis": {
            "backgroundcolor": "#E5ECF6",
            "gridcolor": "white",
            "gridwidth": 2,
            "linecolor": "white",
            "showbackground": true,
            "ticks": "",
            "zerolinecolor": "white"
           },
           "zaxis": {
            "backgroundcolor": "#E5ECF6",
            "gridcolor": "white",
            "gridwidth": 2,
            "linecolor": "white",
            "showbackground": true,
            "ticks": "",
            "zerolinecolor": "white"
           }
          },
          "shapedefaults": {
           "line": {
            "color": "#2a3f5f"
           }
          },
          "ternary": {
           "aaxis": {
            "gridcolor": "white",
            "linecolor": "white",
            "ticks": ""
           },
           "baxis": {
            "gridcolor": "white",
            "linecolor": "white",
            "ticks": ""
           },
           "bgcolor": "#E5ECF6",
           "caxis": {
            "gridcolor": "white",
            "linecolor": "white",
            "ticks": ""
           }
          },
          "title": {
           "x": 0.05
          },
          "xaxis": {
           "automargin": true,
           "gridcolor": "white",
           "linecolor": "white",
           "ticks": "",
           "title": {
            "standoff": 15
           },
           "zerolinecolor": "white",
           "zerolinewidth": 2
          },
          "yaxis": {
           "automargin": true,
           "gridcolor": "white",
           "linecolor": "white",
           "ticks": "",
           "title": {
            "standoff": 15
           },
           "zerolinecolor": "white",
           "zerolinewidth": 2
          }
         }
        },
        "title": {
         "text": "Loop flow decomposition with visited country = Luxembourg"
        },
        "width": 1200
       }
      }
     },
     "metadata": {},
     "output_type": "display_data"
    }
   ],
   "source": [
    "plot_map(visited=country)"
   ]
  }
 ],
 "metadata": {
  "kernelspec": {
   "display_name": "Python 3.9.12 ('py39powsybl')",
   "language": "python",
   "name": "python3"
  },
  "language_info": {
   "codemirror_mode": {
    "name": "ipython",
    "version": 3
   },
   "file_extension": ".py",
   "mimetype": "text/x-python",
   "name": "python",
   "nbconvert_exporter": "python",
   "pygments_lexer": "ipython3",
   "version": "3.9.12"
  },
  "orig_nbformat": 4,
  "vscode": {
   "interpreter": {
    "hash": "6f165bd22a0c6739b02a0f15d38c1c28d76a892cc2ef1fbc8df4ef066b04d352"
   }
  }
 },
 "nbformat": 4,
 "nbformat_minor": 2
}
