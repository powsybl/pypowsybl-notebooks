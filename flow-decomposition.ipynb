{
 "cells": [
  {
   "cell_type": "markdown",
   "metadata": {},
   "source": [
    "\n",
    "## Licence\n",
    "Copyright (c) 2022, RTE (http://www.rte-france.com)\n",
    "This Source Code Form is subject to the terms of the Mozilla Public\n",
    "License, v. 2.0. If a copy of the MPL was not distributed with this\n",
    "file, You can obtain one at http://mozilla.org/MPL/2.0/.\n",
    "\n",
    "\n",
    "## Author\n",
    "Hugo Schindler <hugo.schindler at rte-france.com>\n",
    "\n",
    "\n",
    "## Description\n",
    "This notebook illustrates the flow decomposition algorithm results.\n",
    "All plots are in MW (if not explicitly normalized).\n",
    "A toy network is provided. Do not hesitate to load your network !"
   ]
  },
  {
   "cell_type": "markdown",
   "metadata": {},
   "source": [
    "If you have issues with the load flow provider, set the following lines in your ~/.itools/config.yml  \n",
    "```\n",
    "load-flow:\n",
    " default-impl-name: OpenLoadFlow\n",
    "```"
   ]
  },
  {
   "cell_type": "code",
   "execution_count": 1,
   "metadata": {},
   "outputs": [],
   "source": [
    "import random\n",
    "import numpy as np\n",
    "import pandas as pd\n",
    "\n",
    "import plotly.express as px\n",
    "\n",
    "import pycountry\n",
    "\n",
    "import pypowsybl as pp\n",
    "\n",
    "pd.options.display.max_columns = None\n",
    "pd.options.display.expand_frame_repr = False\n"
   ]
  },
  {
   "cell_type": "code",
   "execution_count": 2,
   "metadata": {},
   "outputs": [],
   "source": [
    "colors = px.colors.qualitative.Dark24 + px.colors.qualitative.Light24\n",
    "random.Random(42).shuffle(colors)"
   ]
  },
  {
   "cell_type": "markdown",
   "metadata": {},
   "source": [
    "# Load a network\n",
    "\n",
    "You can load your own network with \n",
    "net = pp.network.load(...)"
   ]
  },
  {
   "cell_type": "code",
   "execution_count": 3,
   "metadata": {},
   "outputs": [],
   "source": [
    "def assign_country_all_substations(net):\n",
    "    substation_ids = net.get_substations().index\n",
    "    all_countries = [\"AT\", \"BE\", \"BG\", \"CY\", \"CZ\", \"DE\", \"DK\", \"EE\", \"ES\", \"FI\", \"FR\", \"GR\", \"HR\", \"HU\", \"IE\", \"IT\", \"LT\", \"LU\", \"LV\", \"NL\", \"PL\", \"PT\", \"RO\", \"SE\", \"SI\", \"SK\"]\n",
    "    number_country = 20\n",
    "    random.Random(42).shuffle(all_countries)\n",
    "    substation_countries = random.Random(42).choices(random.Random(42).choices(all_countries, k=number_country), k=len(substation_ids))\n",
    "    return dict(zip(substation_ids, substation_countries))\n",
    "\n",
    "def propagate_country_nearby_substations(net, dss):\n",
    "    vl = net.get_voltage_levels()\n",
    "    l = net.get_lines()\n",
    "    df_net = pd.merge(\n",
    "        pd.merge(l, vl.add_suffix(\"_vl1\"), right_index=True, left_on=\"voltage_level1_id\"),\n",
    "        vl.add_suffix(\"_vl2\"), right_index=True, left_on=\"voltage_level2_id\")\n",
    "    connected_ss = df_net[[\"substation_id_vl1\", \"substation_id_vl2\"]].values\n",
    "    for _ in range(3):\n",
    "        for connected_sub in connected_ss:\n",
    "            dss[connected_sub[1]] = dss[connected_sub[0]]\n",
    "    net.update_substations(id=list(dss.keys()), country=list(dss.values()))\n",
    "\n",
    "def get_upgraded_ieee_net():\n",
    "    net = pp.network.create_ieee300()\n",
    "\n",
    "    # add country to substations\n",
    "    dss = assign_country_all_substations(net)\n",
    "    propagate_country_nearby_substations(net, dss)\n",
    "\n",
    "    # generator fix: otherwise they are discarded because of not plausible Pmax\n",
    "    gen = net.get_generators().index\n",
    "    net.update_generators(id=gen, max_p=[2000]*len(gen), min_p=[-2000]*len(gen))\n",
    "\n",
    "    #net.dump(\"/tmp/test-net.xiidm\")\n",
    "\n",
    "    return net"
   ]
  },
  {
   "cell_type": "code",
   "execution_count": 4,
   "metadata": {},
   "outputs": [],
   "source": [
    "net = get_upgraded_ieee_net()"
   ]
  },
  {
   "cell_type": "markdown",
   "metadata": {},
   "source": [
    "# Run a flow decomposition\n",
    "\n",
    "Running a flow decomposition with those parameter might take a while and a lot of RAM.\n",
    "The default parameters consume less ressources.\n",
    "\n",
    "We also add a few useful columns to the dataframe:\n",
    "- total loop flow\n",
    "- total flow\n",
    "\n",
    "All the computation are donc in state N."
   ]
  },
  {
   "cell_type": "code",
   "execution_count": 5,
   "metadata": {},
   "outputs": [
    {
     "data": {
      "text/html": [
       "<div>\n",
       "<style scoped>\n",
       "    .dataframe tbody tr th:only-of-type {\n",
       "        vertical-align: middle;\n",
       "    }\n",
       "\n",
       "    .dataframe tbody tr th {\n",
       "        vertical-align: top;\n",
       "    }\n",
       "\n",
       "    .dataframe thead th {\n",
       "        text-align: right;\n",
       "    }\n",
       "</style>\n",
       "<table border=\"1\" class=\"dataframe\">\n",
       "  <thead>\n",
       "    <tr style=\"text-align: right;\">\n",
       "      <th></th>\n",
       "      <th>branch_id</th>\n",
       "      <th>contingency_id</th>\n",
       "      <th>country1</th>\n",
       "      <th>country2</th>\n",
       "      <th>ac_reference_flow</th>\n",
       "      <th>dc_reference_flow</th>\n",
       "      <th>commercial_flow</th>\n",
       "      <th>internal_flow</th>\n",
       "      <th>loop_flow_from_bg</th>\n",
       "      <th>loop_flow_from_cz</th>\n",
       "      <th>loop_flow_from_dk</th>\n",
       "      <th>loop_flow_from_ee</th>\n",
       "      <th>loop_flow_from_fr</th>\n",
       "      <th>loop_flow_from_hu</th>\n",
       "      <th>loop_flow_from_ie</th>\n",
       "      <th>loop_flow_from_lt</th>\n",
       "      <th>loop_flow_from_lu</th>\n",
       "      <th>pst_flow</th>\n",
       "    </tr>\n",
       "    <tr>\n",
       "      <th>xnec_id</th>\n",
       "      <th></th>\n",
       "      <th></th>\n",
       "      <th></th>\n",
       "      <th></th>\n",
       "      <th></th>\n",
       "      <th></th>\n",
       "      <th></th>\n",
       "      <th></th>\n",
       "      <th></th>\n",
       "      <th></th>\n",
       "      <th></th>\n",
       "      <th></th>\n",
       "      <th></th>\n",
       "      <th></th>\n",
       "      <th></th>\n",
       "      <th></th>\n",
       "      <th></th>\n",
       "      <th></th>\n",
       "    </tr>\n",
       "  </thead>\n",
       "  <tbody>\n",
       "    <tr>\n",
       "      <th>L105-110-1_InitialState</th>\n",
       "      <td>L105-110-1</td>\n",
       "      <td>InitialState</td>\n",
       "      <td>LT</td>\n",
       "      <td>LU</td>\n",
       "      <td>41.955416</td>\n",
       "      <td>41.955416</td>\n",
       "      <td>21.886904</td>\n",
       "      <td>0.000000</td>\n",
       "      <td>1.283926e-01</td>\n",
       "      <td>0.617328</td>\n",
       "      <td>-7.145688e-01</td>\n",
       "      <td>3.554652e-01</td>\n",
       "      <td>-7.566125e+00</td>\n",
       "      <td>4.588604e-01</td>\n",
       "      <td>0.0</td>\n",
       "      <td>3.716386e+00</td>\n",
       "      <td>2.375047e+01</td>\n",
       "      <td>0.0</td>\n",
       "    </tr>\n",
       "    <tr>\n",
       "      <th>L109-114-1_InitialState</th>\n",
       "      <td>L109-114-1</td>\n",
       "      <td>InitialState</td>\n",
       "      <td>LU</td>\n",
       "      <td>BG</td>\n",
       "      <td>6.371956</td>\n",
       "      <td>6.371956</td>\n",
       "      <td>31.792257</td>\n",
       "      <td>0.000000</td>\n",
       "      <td>-1.201865e+00</td>\n",
       "      <td>0.649216</td>\n",
       "      <td>-8.347491e-01</td>\n",
       "      <td>9.320963e-01</td>\n",
       "      <td>-1.282324e+01</td>\n",
       "      <td>3.609872e-01</td>\n",
       "      <td>0.0</td>\n",
       "      <td>-4.697886e+00</td>\n",
       "      <td>-5.985919e+00</td>\n",
       "      <td>0.0</td>\n",
       "    </tr>\n",
       "    <tr>\n",
       "      <th>L112-114-1_InitialState</th>\n",
       "      <td>L112-114-1</td>\n",
       "      <td>InitialState</td>\n",
       "      <td>LU</td>\n",
       "      <td>BG</td>\n",
       "      <td>-8.582649</td>\n",
       "      <td>-8.582649</td>\n",
       "      <td>-37.758978</td>\n",
       "      <td>0.000000</td>\n",
       "      <td>6.666285e-01</td>\n",
       "      <td>-0.965217</td>\n",
       "      <td>1.359790e+00</td>\n",
       "      <td>-8.581408e-01</td>\n",
       "      <td>1.494273e+01</td>\n",
       "      <td>-9.058846e-01</td>\n",
       "      <td>0.0</td>\n",
       "      <td>4.152100e+00</td>\n",
       "      <td>2.628695e+01</td>\n",
       "      <td>0.0</td>\n",
       "    </tr>\n",
       "    <tr>\n",
       "      <th>L115-122-1_InitialState</th>\n",
       "      <td>L115-122-1</td>\n",
       "      <td>InitialState</td>\n",
       "      <td>DK</td>\n",
       "      <td>HU</td>\n",
       "      <td>48.481203</td>\n",
       "      <td>48.481203</td>\n",
       "      <td>241.016015</td>\n",
       "      <td>0.000000</td>\n",
       "      <td>6.239453e-14</td>\n",
       "      <td>0.247209</td>\n",
       "      <td>-1.040830e+02</td>\n",
       "      <td>-1.006140e-15</td>\n",
       "      <td>-2.486900e-14</td>\n",
       "      <td>-8.869903e+01</td>\n",
       "      <td>0.0</td>\n",
       "      <td>1.190714e-13</td>\n",
       "      <td>3.874678e-14</td>\n",
       "      <td>0.0</td>\n",
       "    </tr>\n",
       "    <tr>\n",
       "      <th>L116-120-1_InitialState</th>\n",
       "      <td>L116-120-1</td>\n",
       "      <td>InitialState</td>\n",
       "      <td>HU</td>\n",
       "      <td>HU</td>\n",
       "      <td>-60.950896</td>\n",
       "      <td>-60.950896</td>\n",
       "      <td>249.321866</td>\n",
       "      <td>-260.591751</td>\n",
       "      <td>-3.219647e-15</td>\n",
       "      <td>-0.047271</td>\n",
       "      <td>7.226805e+01</td>\n",
       "      <td>-1.202163e-15</td>\n",
       "      <td>-3.119727e-14</td>\n",
       "      <td>0.000000e+00</td>\n",
       "      <td>0.0</td>\n",
       "      <td>5.018208e-14</td>\n",
       "      <td>1.625089e-14</td>\n",
       "      <td>0.0</td>\n",
       "    </tr>\n",
       "    <tr>\n",
       "      <th>...</th>\n",
       "      <td>...</td>\n",
       "      <td>...</td>\n",
       "      <td>...</td>\n",
       "      <td>...</td>\n",
       "      <td>...</td>\n",
       "      <td>...</td>\n",
       "      <td>...</td>\n",
       "      <td>...</td>\n",
       "      <td>...</td>\n",
       "      <td>...</td>\n",
       "      <td>...</td>\n",
       "      <td>...</td>\n",
       "      <td>...</td>\n",
       "      <td>...</td>\n",
       "      <td>...</td>\n",
       "      <td>...</td>\n",
       "      <td>...</td>\n",
       "      <td>...</td>\n",
       "    </tr>\n",
       "    <tr>\n",
       "      <th>T7139-139-1_InitialState</th>\n",
       "      <td>T7139-139-1</td>\n",
       "      <td>InitialState</td>\n",
       "      <td>DK</td>\n",
       "      <td>DK</td>\n",
       "      <td>700.736825</td>\n",
       "      <td>700.736825</td>\n",
       "      <td>382.462905</td>\n",
       "      <td>317.512015</td>\n",
       "      <td>7.549517e-15</td>\n",
       "      <td>0.761905</td>\n",
       "      <td>0.000000e+00</td>\n",
       "      <td>4.357625e-15</td>\n",
       "      <td>1.101341e-13</td>\n",
       "      <td>-3.774758e-14</td>\n",
       "      <td>0.0</td>\n",
       "      <td>2.562395e-13</td>\n",
       "      <td>-4.218847e-14</td>\n",
       "      <td>0.0</td>\n",
       "    </tr>\n",
       "    <tr>\n",
       "      <th>T7166-166-1_InitialState</th>\n",
       "      <td>T7166-166-1</td>\n",
       "      <td>InitialState</td>\n",
       "      <td>LT</td>\n",
       "      <td>LT</td>\n",
       "      <td>553.736825</td>\n",
       "      <td>553.736825</td>\n",
       "      <td>91.248074</td>\n",
       "      <td>461.726847</td>\n",
       "      <td>1.199041e-14</td>\n",
       "      <td>0.761905</td>\n",
       "      <td>-2.877698e-13</td>\n",
       "      <td>-1.182388e-14</td>\n",
       "      <td>1.314504e-13</td>\n",
       "      <td>-5.662137e-14</td>\n",
       "      <td>0.0</td>\n",
       "      <td>0.000000e+00</td>\n",
       "      <td>-1.332268e-15</td>\n",
       "      <td>0.0</td>\n",
       "    </tr>\n",
       "    <tr>\n",
       "      <th>T73-74-1_InitialState</th>\n",
       "      <td>T73-74-1</td>\n",
       "      <td>InitialState</td>\n",
       "      <td>BG</td>\n",
       "      <td>BG</td>\n",
       "      <td>-253.282574</td>\n",
       "      <td>-253.282574</td>\n",
       "      <td>193.043741</td>\n",
       "      <td>56.477814</td>\n",
       "      <td>0.000000e+00</td>\n",
       "      <td>17.681877</td>\n",
       "      <td>1.133176e+00</td>\n",
       "      <td>2.128027e+00</td>\n",
       "      <td>-4.166597e+01</td>\n",
       "      <td>-1.888317e+00</td>\n",
       "      <td>0.0</td>\n",
       "      <td>2.890972e+01</td>\n",
       "      <td>-2.976571e-01</td>\n",
       "      <td>0.0</td>\n",
       "    </tr>\n",
       "    <tr>\n",
       "      <th>T81-88-1_InitialState</th>\n",
       "      <td>T81-88-1</td>\n",
       "      <td>InitialState</td>\n",
       "      <td>LT</td>\n",
       "      <td>LT</td>\n",
       "      <td>204.903798</td>\n",
       "      <td>204.903798</td>\n",
       "      <td>-96.399827</td>\n",
       "      <td>52.159340</td>\n",
       "      <td>8.286091e+01</td>\n",
       "      <td>13.241721</td>\n",
       "      <td>6.459631e+00</td>\n",
       "      <td>3.549436e+00</td>\n",
       "      <td>1.368876e+02</td>\n",
       "      <td>5.874130e+00</td>\n",
       "      <td>0.0</td>\n",
       "      <td>0.000000e+00</td>\n",
       "      <td>4.011972e+00</td>\n",
       "      <td>0.0</td>\n",
       "    </tr>\n",
       "    <tr>\n",
       "      <th>T85-99-1_InitialState</th>\n",
       "      <td>T85-99-1</td>\n",
       "      <td>InitialState</td>\n",
       "      <td>LU</td>\n",
       "      <td>LU</td>\n",
       "      <td>102.267072</td>\n",
       "      <td>102.267072</td>\n",
       "      <td>34.119986</td>\n",
       "      <td>50.622002</td>\n",
       "      <td>4.672924e-01</td>\n",
       "      <td>1.243084</td>\n",
       "      <td>-3.624096e+00</td>\n",
       "      <td>3.746004e-01</td>\n",
       "      <td>-2.047653e+01</td>\n",
       "      <td>4.061598e+00</td>\n",
       "      <td>0.0</td>\n",
       "      <td>3.618460e+01</td>\n",
       "      <td>0.000000e+00</td>\n",
       "      <td>0.0</td>\n",
       "    </tr>\n",
       "  </tbody>\n",
       "</table>\n",
       "<p>227 rows × 18 columns</p>\n",
       "</div>"
      ],
      "text/plain": [
       "                            branch_id contingency_id country1 country2  ac_reference_flow  dc_reference_flow  commercial_flow  internal_flow  loop_flow_from_bg  loop_flow_from_cz  loop_flow_from_dk  loop_flow_from_ee  loop_flow_from_fr  loop_flow_from_hu  loop_flow_from_ie  loop_flow_from_lt  loop_flow_from_lu  pst_flow\n",
       "xnec_id                                                                                                                                                                                                                                                                                                                          \n",
       "L105-110-1_InitialState    L105-110-1   InitialState       LT       LU          41.955416          41.955416        21.886904       0.000000       1.283926e-01           0.617328      -7.145688e-01       3.554652e-01      -7.566125e+00       4.588604e-01                0.0       3.716386e+00       2.375047e+01       0.0\n",
       "L109-114-1_InitialState    L109-114-1   InitialState       LU       BG           6.371956           6.371956        31.792257       0.000000      -1.201865e+00           0.649216      -8.347491e-01       9.320963e-01      -1.282324e+01       3.609872e-01                0.0      -4.697886e+00      -5.985919e+00       0.0\n",
       "L112-114-1_InitialState    L112-114-1   InitialState       LU       BG          -8.582649          -8.582649       -37.758978       0.000000       6.666285e-01          -0.965217       1.359790e+00      -8.581408e-01       1.494273e+01      -9.058846e-01                0.0       4.152100e+00       2.628695e+01       0.0\n",
       "L115-122-1_InitialState    L115-122-1   InitialState       DK       HU          48.481203          48.481203       241.016015       0.000000       6.239453e-14           0.247209      -1.040830e+02      -1.006140e-15      -2.486900e-14      -8.869903e+01                0.0       1.190714e-13       3.874678e-14       0.0\n",
       "L116-120-1_InitialState    L116-120-1   InitialState       HU       HU         -60.950896         -60.950896       249.321866    -260.591751      -3.219647e-15          -0.047271       7.226805e+01      -1.202163e-15      -3.119727e-14       0.000000e+00                0.0       5.018208e-14       1.625089e-14       0.0\n",
       "...                               ...            ...      ...      ...                ...                ...              ...            ...                ...                ...                ...                ...                ...                ...                ...                ...                ...       ...\n",
       "T7139-139-1_InitialState  T7139-139-1   InitialState       DK       DK         700.736825         700.736825       382.462905     317.512015       7.549517e-15           0.761905       0.000000e+00       4.357625e-15       1.101341e-13      -3.774758e-14                0.0       2.562395e-13      -4.218847e-14       0.0\n",
       "T7166-166-1_InitialState  T7166-166-1   InitialState       LT       LT         553.736825         553.736825        91.248074     461.726847       1.199041e-14           0.761905      -2.877698e-13      -1.182388e-14       1.314504e-13      -5.662137e-14                0.0       0.000000e+00      -1.332268e-15       0.0\n",
       "T73-74-1_InitialState        T73-74-1   InitialState       BG       BG        -253.282574        -253.282574       193.043741      56.477814       0.000000e+00          17.681877       1.133176e+00       2.128027e+00      -4.166597e+01      -1.888317e+00                0.0       2.890972e+01      -2.976571e-01       0.0\n",
       "T81-88-1_InitialState        T81-88-1   InitialState       LT       LT         204.903798         204.903798       -96.399827      52.159340       8.286091e+01          13.241721       6.459631e+00       3.549436e+00       1.368876e+02       5.874130e+00                0.0       0.000000e+00       4.011972e+00       0.0\n",
       "T85-99-1_InitialState        T85-99-1   InitialState       LU       LU         102.267072         102.267072        34.119986      50.622002       4.672924e-01           1.243084      -3.624096e+00       3.746004e-01      -2.047653e+01       4.061598e+00                0.0       3.618460e+01       0.000000e+00       0.0\n",
       "\n",
       "[227 rows x 18 columns]"
      ]
     },
     "execution_count": 5,
     "metadata": {},
     "output_type": "execute_result"
    }
   ],
   "source": [
    "parameters = pp.flowdecomposition.Parameters(enable_losses_compensation=True,\n",
    "    rescale_enabled=False,\n",
    "    xnec_selection_strategy=pp.flowdecomposition.XnecSelectionStrategy.INTERCONNECTION_OR_ZONE_TO_ZONE_PTDF_GT_5PC,\n",
    "    contingency_strategy=pp.flowdecomposition.ContingencyStrategy.ONLY_N_STATE,\n",
    "    )\n",
    "flow_dec_original=pp.flowdecomposition.run(net, flow_decomposition_parameters=parameters)\n",
    "flow_dec_original"
   ]
  },
  {
   "cell_type": "code",
   "execution_count": 6,
   "metadata": {},
   "outputs": [
    {
     "data": {
      "text/plain": [
       "{'InitialState'}"
      ]
     },
     "execution_count": 6,
     "metadata": {},
     "output_type": "execute_result"
    }
   ],
   "source": [
    "flow_dec = flow_dec_original.copy()\n",
    "set(flow_dec['contingency_id'])"
   ]
  },
  {
   "cell_type": "code",
   "execution_count": 7,
   "metadata": {},
   "outputs": [
    {
     "data": {
      "text/plain": [
       "[Country(alpha_2='IE', alpha_3='IRL', flag='🇮🇪', name='Ireland', numeric='372'),\n",
       " Country(alpha_2='LT', alpha_3='LTU', flag='🇱🇹', name='Lithuania', numeric='440', official_name='Republic of Lithuania'),\n",
       " Country(alpha_2='CZ', alpha_3='CZE', flag='🇨🇿', name='Czechia', numeric='203', official_name='Czech Republic'),\n",
       " Country(alpha_2='DK', alpha_3='DNK', flag='🇩🇰', name='Denmark', numeric='208', official_name='Kingdom of Denmark'),\n",
       " Country(alpha_2='BG', alpha_3='BGR', flag='🇧🇬', name='Bulgaria', numeric='100', official_name='Republic of Bulgaria'),\n",
       " Country(alpha_2='LU', alpha_3='LUX', flag='🇱🇺', name='Luxembourg', numeric='442', official_name='Grand Duchy of Luxembourg'),\n",
       " Country(alpha_2='HU', alpha_3='HUN', flag='🇭🇺', name='Hungary', numeric='348', official_name='Hungary'),\n",
       " Country(alpha_2='EE', alpha_3='EST', flag='🇪🇪', name='Estonia', numeric='233', official_name='Republic of Estonia'),\n",
       " Country(alpha_2='FR', alpha_3='FRA', flag='🇫🇷', name='France', numeric='250', official_name='French Republic')]"
      ]
     },
     "execution_count": 7,
     "metadata": {},
     "output_type": "execute_result"
    }
   ],
   "source": [
    "flow_dec = flow_dec[flow_dec['contingency_id'] == 'InitialState']\n",
    "flow_dec['total_flow'] = flow_dec[[c for c in flow_dec.columns if ('reference' not in c and 'flow' in c)]].sum(axis=1)\n",
    "flow_dec['total_loop_flow'] = flow_dec[[c for c in flow_dec.columns if 'loop_flow_from_' in c]].sum(axis=1)\n",
    "\n",
    "def alpha_2_to_country(l):\n",
    "    return [pycountry.countries.get(alpha_2=alpha_2) for alpha_2 in l]\n",
    "\n",
    "countries_alpha2 = set(flow_dec[\"country1\"]).union(set(flow_dec[\"country2\"]))\n",
    "countries = alpha_2_to_country(countries_alpha2)\n",
    "countries"
   ]
  },
  {
   "cell_type": "markdown",
   "metadata": {},
   "source": [
    "# Flow decomposition top bar charts\n",
    "\n",
    "The top lines are selected given a metric."
   ]
  },
  {
   "cell_type": "code",
   "execution_count": 8,
   "metadata": {},
   "outputs": [],
   "source": [
    "def flow_decomposition_bar_chart(sorting_column, ascending=False, head=20, plot_scatter=True):\n",
    "    threshold = .05\n",
    "    df = flow_dec.sort_values(sorting_column, ascending = ascending).head(head).copy()\n",
    "    df_p = df[[c for c in flow_dec.columns if ('reference' not in c and 'total' not in c and 'flow' in c)]]\n",
    "    df_m = df_p.abs().div(df_p.abs().sum(axis=1), axis=0) > threshold\n",
    "    df_f = df_p[df_m]\n",
    "    df_f['masked_flows_positive'] = df_p[df_p[df_m == False]>0].sum(axis=1)\n",
    "    df_f['masked_flows_negative'] = df_p[df_p[df_m == False]<0].sum(axis=1)\n",
    "    fig = px.bar(df_f,\n",
    "        orientation='h',\n",
    "        color_discrete_sequence=colors[:df_f.columns.size],\n",
    "        text_auto='.0f',\n",
    "        title=f'Sorted by: {sorting_column}, ascending: {ascending}, head: {head}',\n",
    "        height=1000,\n",
    "        labels={\n",
    "            'branch_id':'Branch id',\n",
    "            'value': 'Flow decomposition value',\n",
    "            'variable': 'Decomposition part:',\n",
    "        },\n",
    "        template=\"seaborn\",\n",
    "        )\n",
    "    if plot_scatter:\n",
    "        fig.add_scatter(\n",
    "            y=df.index,\n",
    "            x=df['total_flow'],\n",
    "            mode='lines+markers',\n",
    "            name='total_flow'\n",
    "            )\n",
    "        fig.add_scatter(\n",
    "            y=df.index,\n",
    "            x=df['total_loop_flow'],\n",
    "            mode='lines+markers',\n",
    "            name='total_loop_flow'\n",
    "            )\n",
    "    fig.show()"
   ]
  },
  {
   "cell_type": "code",
   "execution_count": 9,
   "metadata": {},
   "outputs": [
    {
     "data": {
      "application/vnd.plotly.v1+json": {
       "config": {
        "plotlyServerURL": "https://plot.ly"
       },
       "data": [
        {
         "alignmentgroup": "True",
         "hovertemplate": "Decomposition part:=commercial_flow<br>Flow decomposition value=%{x}<br>xnec_id=%{y}<extra></extra>",
         "legendgroup": "commercial_flow",
         "marker": {
          "color": "#0DF9FF",
          "pattern": {
           "shape": ""
          }
         },
         "name": "commercial_flow",
         "offsetgroup": "commercial_flow",
         "orientation": "h",
         "showlegend": true,
         "textposition": "auto",
         "texttemplate": "%{x:.0f}",
         "type": "bar",
         "x": [
          -130.50548510712258,
          -353.10309040716135,
          -77.30595848394151,
          -77.30595848394132,
          -397.15022864135585,
          271.50349520329894,
          -228.45746593009255,
          91.24807407583467,
          -286.23431211162693,
          317.86041033840024,
          -307.6444419030805,
          -249.11389645222886,
          null,
          -329.1973192849106,
          -176.9851548263697,
          -150.57593715011595,
          565.5057615646957,
          -242.59817083480436,
          -96.39982731096292,
          -45.45864850408108
         ],
         "xaxis": "x",
         "y": [
          "L181-138-1_InitialState",
          "L130-168-1_InitialState",
          "L163-164-1_InitialState",
          "T163-137-1_InitialState",
          "L219-237-1_InitialState",
          "L119-120-1_InitialState",
          "L177-178-1_InitialState",
          "L162-164-1_InitialState",
          "L136-137-1_InitialState",
          "L186-188-1_InitialState",
          "L133-168-1_InitialState",
          "L140-141-1_InitialState",
          "L220-238-1_InitialState",
          "L81-194-1_InitialState",
          "L74-88-1_InitialState",
          "L153-161-1_InitialState",
          "T159-117-1_InitialState",
          "L195-219-1_InitialState",
          "T81-88-1_InitialState",
          "L127-168-1_InitialState"
         ],
         "yaxis": "y"
        },
        {
         "alignmentgroup": "True",
         "hovertemplate": "Decomposition part:=internal_flow<br>Flow decomposition value=%{x}<br>xnec_id=%{y}<extra></extra>",
         "legendgroup": "internal_flow",
         "marker": {
          "color": "#AF0038",
          "pattern": {
           "shape": ""
          }
         },
         "name": "internal_flow",
         "offsetgroup": "internal_flow",
         "orientation": "h",
         "showlegend": true,
         "textposition": "auto",
         "texttemplate": "%{x:.0f}",
         "type": "bar",
         "x": [
          null,
          null,
          -186.01255685623255,
          -186.01255685623246,
          null,
          null,
          null,
          null,
          null,
          null,
          null,
          null,
          null,
          66.55595846939745,
          null,
          null,
          -327.7092239535424,
          null,
          52.15934007827508,
          null
         ],
         "xaxis": "x",
         "y": [
          "L181-138-1_InitialState",
          "L130-168-1_InitialState",
          "L163-164-1_InitialState",
          "T163-137-1_InitialState",
          "L219-237-1_InitialState",
          "L119-120-1_InitialState",
          "L177-178-1_InitialState",
          "L162-164-1_InitialState",
          "L136-137-1_InitialState",
          "L186-188-1_InitialState",
          "L133-168-1_InitialState",
          "L140-141-1_InitialState",
          "L220-238-1_InitialState",
          "L81-194-1_InitialState",
          "L74-88-1_InitialState",
          "L153-161-1_InitialState",
          "T159-117-1_InitialState",
          "L195-219-1_InitialState",
          "T81-88-1_InitialState",
          "L127-168-1_InitialState"
         ],
         "yaxis": "y"
        },
        {
         "alignmentgroup": "True",
         "hovertemplate": "Decomposition part:=loop_flow_from_bg<br>Flow decomposition value=%{x}<br>xnec_id=%{y}<extra></extra>",
         "legendgroup": "loop_flow_from_bg",
         "marker": {
          "color": "#FD3216",
          "pattern": {
           "shape": ""
          }
         },
         "name": "loop_flow_from_bg",
         "offsetgroup": "loop_flow_from_bg",
         "orientation": "h",
         "showlegend": true,
         "textposition": "auto",
         "texttemplate": "%{x:.0f}",
         "type": "bar",
         "x": [
          null,
          null,
          null,
          null,
          null,
          null,
          null,
          null,
          null,
          null,
          null,
          null,
          null,
          39.25488130161721,
          79.312969412018,
          null,
          null,
          null,
          82.86091484837993,
          null
         ],
         "xaxis": "x",
         "y": [
          "L181-138-1_InitialState",
          "L130-168-1_InitialState",
          "L163-164-1_InitialState",
          "T163-137-1_InitialState",
          "L219-237-1_InitialState",
          "L119-120-1_InitialState",
          "L177-178-1_InitialState",
          "L162-164-1_InitialState",
          "L136-137-1_InitialState",
          "L186-188-1_InitialState",
          "L133-168-1_InitialState",
          "L140-141-1_InitialState",
          "L220-238-1_InitialState",
          "L81-194-1_InitialState",
          "L74-88-1_InitialState",
          "L153-161-1_InitialState",
          "T159-117-1_InitialState",
          "L195-219-1_InitialState",
          "T81-88-1_InitialState",
          "L127-168-1_InitialState"
         ],
         "yaxis": "y"
        },
        {
         "alignmentgroup": "True",
         "hovertemplate": "Decomposition part:=loop_flow_from_cz<br>Flow decomposition value=%{x}<br>xnec_id=%{y}<extra></extra>",
         "legendgroup": "loop_flow_from_cz",
         "marker": {
          "color": "#00A08B",
          "pattern": {
           "shape": ""
          }
         },
         "name": "loop_flow_from_cz",
         "offsetgroup": "loop_flow_from_cz",
         "orientation": "h",
         "showlegend": true,
         "textposition": "auto",
         "texttemplate": "%{x:.0f}",
         "type": "bar",
         "x": [
          null,
          null,
          null,
          null,
          null,
          null,
          null,
          null,
          null,
          null,
          null,
          null,
          null,
          null,
          null,
          null,
          null,
          null,
          null,
          null
         ],
         "xaxis": "x",
         "y": [
          "L181-138-1_InitialState",
          "L130-168-1_InitialState",
          "L163-164-1_InitialState",
          "T163-137-1_InitialState",
          "L219-237-1_InitialState",
          "L119-120-1_InitialState",
          "L177-178-1_InitialState",
          "L162-164-1_InitialState",
          "L136-137-1_InitialState",
          "L186-188-1_InitialState",
          "L133-168-1_InitialState",
          "L140-141-1_InitialState",
          "L220-238-1_InitialState",
          "L81-194-1_InitialState",
          "L74-88-1_InitialState",
          "L153-161-1_InitialState",
          "T159-117-1_InitialState",
          "L195-219-1_InitialState",
          "T81-88-1_InitialState",
          "L127-168-1_InitialState"
         ],
         "yaxis": "y"
        },
        {
         "alignmentgroup": "True",
         "hovertemplate": "Decomposition part:=loop_flow_from_dk<br>Flow decomposition value=%{x}<br>xnec_id=%{y}<extra></extra>",
         "legendgroup": "loop_flow_from_dk",
         "marker": {
          "color": "#6C4516",
          "pattern": {
           "shape": ""
          }
         },
         "name": "loop_flow_from_dk",
         "offsetgroup": "loop_flow_from_dk",
         "orientation": "h",
         "showlegend": true,
         "textposition": "auto",
         "texttemplate": "%{x:.0f}",
         "type": "bar",
         "x": [
          null,
          null,
          null,
          null,
          null,
          92.42375664055619,
          null,
          null,
          null,
          246.9558908770955,
          65.96515075089572,
          null,
          null,
          null,
          null,
          76.98396828049042,
          256.5362218890517,
          null,
          null,
          -23.87687348397931
         ],
         "xaxis": "x",
         "y": [
          "L181-138-1_InitialState",
          "L130-168-1_InitialState",
          "L163-164-1_InitialState",
          "T163-137-1_InitialState",
          "L219-237-1_InitialState",
          "L119-120-1_InitialState",
          "L177-178-1_InitialState",
          "L162-164-1_InitialState",
          "L136-137-1_InitialState",
          "L186-188-1_InitialState",
          "L133-168-1_InitialState",
          "L140-141-1_InitialState",
          "L220-238-1_InitialState",
          "L81-194-1_InitialState",
          "L74-88-1_InitialState",
          "L153-161-1_InitialState",
          "T159-117-1_InitialState",
          "L195-219-1_InitialState",
          "T81-88-1_InitialState",
          "L127-168-1_InitialState"
         ],
         "yaxis": "y"
        },
        {
         "alignmentgroup": "True",
         "hovertemplate": "Decomposition part:=loop_flow_from_ee<br>Flow decomposition value=%{x}<br>xnec_id=%{y}<extra></extra>",
         "legendgroup": "loop_flow_from_ee",
         "marker": {
          "color": "#511CFB",
          "pattern": {
           "shape": ""
          }
         },
         "name": "loop_flow_from_ee",
         "offsetgroup": "loop_flow_from_ee",
         "orientation": "h",
         "showlegend": true,
         "textposition": "auto",
         "texttemplate": "%{x:.0f}",
         "type": "bar",
         "x": [
          null,
          null,
          null,
          null,
          null,
          null,
          null,
          null,
          null,
          null,
          null,
          null,
          null,
          null,
          null,
          null,
          null,
          null,
          null,
          null
         ],
         "xaxis": "x",
         "y": [
          "L181-138-1_InitialState",
          "L130-168-1_InitialState",
          "L163-164-1_InitialState",
          "T163-137-1_InitialState",
          "L219-237-1_InitialState",
          "L119-120-1_InitialState",
          "L177-178-1_InitialState",
          "L162-164-1_InitialState",
          "L136-137-1_InitialState",
          "L186-188-1_InitialState",
          "L133-168-1_InitialState",
          "L140-141-1_InitialState",
          "L220-238-1_InitialState",
          "L81-194-1_InitialState",
          "L74-88-1_InitialState",
          "L153-161-1_InitialState",
          "T159-117-1_InitialState",
          "L195-219-1_InitialState",
          "T81-88-1_InitialState",
          "L127-168-1_InitialState"
         ],
         "yaxis": "y"
        },
        {
         "alignmentgroup": "True",
         "hovertemplate": "Decomposition part:=loop_flow_from_fr<br>Flow decomposition value=%{x}<br>xnec_id=%{y}<extra></extra>",
         "legendgroup": "loop_flow_from_fr",
         "marker": {
          "color": "#F6F926",
          "pattern": {
           "shape": ""
          }
         },
         "name": "loop_flow_from_fr",
         "offsetgroup": "loop_flow_from_fr",
         "orientation": "h",
         "showlegend": true,
         "textposition": "auto",
         "texttemplate": "%{x:.0f}",
         "type": "bar",
         "x": [
          null,
          80.94087989915883,
          null,
          null,
          389.70085299701174,
          null,
          49.91786768798744,
          null,
          null,
          null,
          74.80720305887266,
          -56.90422493313691,
          274.805271451783,
          248.05090697658477,
          132.2975644019695,
          null,
          null,
          267.05938815024984,
          136.88755755695774,
          null
         ],
         "xaxis": "x",
         "y": [
          "L181-138-1_InitialState",
          "L130-168-1_InitialState",
          "L163-164-1_InitialState",
          "T163-137-1_InitialState",
          "L219-237-1_InitialState",
          "L119-120-1_InitialState",
          "L177-178-1_InitialState",
          "L162-164-1_InitialState",
          "L136-137-1_InitialState",
          "L186-188-1_InitialState",
          "L133-168-1_InitialState",
          "L140-141-1_InitialState",
          "L220-238-1_InitialState",
          "L81-194-1_InitialState",
          "L74-88-1_InitialState",
          "L153-161-1_InitialState",
          "T159-117-1_InitialState",
          "L195-219-1_InitialState",
          "T81-88-1_InitialState",
          "L127-168-1_InitialState"
         ],
         "yaxis": "y"
        },
        {
         "alignmentgroup": "True",
         "hovertemplate": "Decomposition part:=loop_flow_from_hu<br>Flow decomposition value=%{x}<br>xnec_id=%{y}<extra></extra>",
         "legendgroup": "loop_flow_from_hu",
         "marker": {
          "color": "#C9FBE5",
          "pattern": {
           "shape": ""
          }
         },
         "name": "loop_flow_from_hu",
         "offsetgroup": "loop_flow_from_hu",
         "orientation": "h",
         "showlegend": true,
         "textposition": "auto",
         "texttemplate": "%{x:.0f}",
         "type": "bar",
         "x": [
          628.1763059035127,
          594.9983686852921,
          157.04128762986235,
          157.0412876298622,
          null,
          342.04331923670543,
          340.8909270246809,
          null,
          281.9956496994106,
          99.26131162513913,
          308.1220000080084,
          354.00355357593554,
          null,
          null,
          null,
          174.03514514195325,
          null,
          null,
          null,
          286.8763686772842
         ],
         "xaxis": "x",
         "y": [
          "L181-138-1_InitialState",
          "L130-168-1_InitialState",
          "L163-164-1_InitialState",
          "T163-137-1_InitialState",
          "L219-237-1_InitialState",
          "L119-120-1_InitialState",
          "L177-178-1_InitialState",
          "L162-164-1_InitialState",
          "L136-137-1_InitialState",
          "L186-188-1_InitialState",
          "L133-168-1_InitialState",
          "L140-141-1_InitialState",
          "L220-238-1_InitialState",
          "L81-194-1_InitialState",
          "L74-88-1_InitialState",
          "L153-161-1_InitialState",
          "T159-117-1_InitialState",
          "L195-219-1_InitialState",
          "T81-88-1_InitialState",
          "L127-168-1_InitialState"
         ],
         "yaxis": "y"
        },
        {
         "alignmentgroup": "True",
         "hovertemplate": "Decomposition part:=loop_flow_from_ie<br>Flow decomposition value=%{x}<br>xnec_id=%{y}<extra></extra>",
         "legendgroup": "loop_flow_from_ie",
         "marker": {
          "color": "#FC0080",
          "pattern": {
           "shape": ""
          }
         },
         "name": "loop_flow_from_ie",
         "offsetgroup": "loop_flow_from_ie",
         "orientation": "h",
         "showlegend": true,
         "textposition": "auto",
         "texttemplate": "%{x:.0f}",
         "type": "bar",
         "x": [
          null,
          null,
          null,
          null,
          null,
          null,
          null,
          null,
          null,
          null,
          null,
          null,
          null,
          null,
          null,
          null,
          null,
          null,
          null,
          null
         ],
         "xaxis": "x",
         "y": [
          "L181-138-1_InitialState",
          "L130-168-1_InitialState",
          "L163-164-1_InitialState",
          "T163-137-1_InitialState",
          "L219-237-1_InitialState",
          "L119-120-1_InitialState",
          "L177-178-1_InitialState",
          "L162-164-1_InitialState",
          "L136-137-1_InitialState",
          "L186-188-1_InitialState",
          "L133-168-1_InitialState",
          "L140-141-1_InitialState",
          "L220-238-1_InitialState",
          "L81-194-1_InitialState",
          "L74-88-1_InitialState",
          "L153-161-1_InitialState",
          "T159-117-1_InitialState",
          "L195-219-1_InitialState",
          "T81-88-1_InitialState",
          "L127-168-1_InitialState"
         ],
         "yaxis": "y"
        },
        {
         "alignmentgroup": "True",
         "hovertemplate": "Decomposition part:=loop_flow_from_lt<br>Flow decomposition value=%{x}<br>xnec_id=%{y}<extra></extra>",
         "legendgroup": "loop_flow_from_lt",
         "marker": {
          "color": "#FB0D0D",
          "pattern": {
           "shape": ""
          }
         },
         "name": "loop_flow_from_lt",
         "offsetgroup": "loop_flow_from_lt",
         "orientation": "h",
         "showlegend": true,
         "textposition": "auto",
         "texttemplate": "%{x:.0f}",
         "type": "bar",
         "x": [
          null,
          -114.63925089195834,
          281.3048714787072,
          281.30487147870724,
          null,
          null,
          null,
          376.7268465590866,
          null,
          null,
          -93.37600200826712,
          null,
          null,
          null,
          37.758889938367176,
          -85.24419798350155,
          null,
          31.26554981230036,
          null,
          -21.263248883691166
         ],
         "xaxis": "x",
         "y": [
          "L181-138-1_InitialState",
          "L130-168-1_InitialState",
          "L163-164-1_InitialState",
          "T163-137-1_InitialState",
          "L219-237-1_InitialState",
          "L119-120-1_InitialState",
          "L177-178-1_InitialState",
          "L162-164-1_InitialState",
          "L136-137-1_InitialState",
          "L186-188-1_InitialState",
          "L133-168-1_InitialState",
          "L140-141-1_InitialState",
          "L220-238-1_InitialState",
          "L81-194-1_InitialState",
          "L74-88-1_InitialState",
          "L153-161-1_InitialState",
          "T159-117-1_InitialState",
          "L195-219-1_InitialState",
          "T81-88-1_InitialState",
          "L127-168-1_InitialState"
         ],
         "yaxis": "y"
        },
        {
         "alignmentgroup": "True",
         "hovertemplate": "Decomposition part:=loop_flow_from_lu<br>Flow decomposition value=%{x}<br>xnec_id=%{y}<extra></extra>",
         "legendgroup": "loop_flow_from_lu",
         "marker": {
          "color": "#D626FF",
          "pattern": {
           "shape": ""
          }
         },
         "name": "loop_flow_from_lu",
         "offsetgroup": "loop_flow_from_lu",
         "orientation": "h",
         "showlegend": true,
         "textposition": "auto",
         "texttemplate": "%{x:.0f}",
         "type": "bar",
         "x": [
          null,
          null,
          56.89179237718451,
          56.891792377184565,
          74.72734820085708,
          null,
          null,
          null,
          41.652008785970196,
          null,
          null,
          null,
          38.13236514372301,
          null,
          null,
          86.85919428328776,
          null,
          -46.92771566452312,
          null,
          null
         ],
         "xaxis": "x",
         "y": [
          "L181-138-1_InitialState",
          "L130-168-1_InitialState",
          "L163-164-1_InitialState",
          "T163-137-1_InitialState",
          "L219-237-1_InitialState",
          "L119-120-1_InitialState",
          "L177-178-1_InitialState",
          "L162-164-1_InitialState",
          "L136-137-1_InitialState",
          "L186-188-1_InitialState",
          "L133-168-1_InitialState",
          "L140-141-1_InitialState",
          "L220-238-1_InitialState",
          "L81-194-1_InitialState",
          "L74-88-1_InitialState",
          "L153-161-1_InitialState",
          "T159-117-1_InitialState",
          "L195-219-1_InitialState",
          "T81-88-1_InitialState",
          "L127-168-1_InitialState"
         ],
         "yaxis": "y"
        },
        {
         "alignmentgroup": "True",
         "hovertemplate": "Decomposition part:=pst_flow<br>Flow decomposition value=%{x}<br>xnec_id=%{y}<extra></extra>",
         "legendgroup": "pst_flow",
         "marker": {
          "color": "#DA16FF",
          "pattern": {
           "shape": ""
          }
         },
         "name": "pst_flow",
         "offsetgroup": "pst_flow",
         "orientation": "h",
         "showlegend": true,
         "textposition": "auto",
         "texttemplate": "%{x:.0f}",
         "type": "bar",
         "x": [
          null,
          null,
          null,
          null,
          null,
          null,
          null,
          null,
          null,
          null,
          null,
          null,
          null,
          null,
          null,
          null,
          null,
          null,
          null,
          null
         ],
         "xaxis": "x",
         "y": [
          "L181-138-1_InitialState",
          "L130-168-1_InitialState",
          "L163-164-1_InitialState",
          "T163-137-1_InitialState",
          "L219-237-1_InitialState",
          "L119-120-1_InitialState",
          "L177-178-1_InitialState",
          "L162-164-1_InitialState",
          "L136-137-1_InitialState",
          "L186-188-1_InitialState",
          "L133-168-1_InitialState",
          "L140-141-1_InitialState",
          "L220-238-1_InitialState",
          "L81-194-1_InitialState",
          "L74-88-1_InitialState",
          "L153-161-1_InitialState",
          "T159-117-1_InitialState",
          "L195-219-1_InitialState",
          "T81-88-1_InitialState",
          "L127-168-1_InitialState"
         ],
         "yaxis": "y"
        },
        {
         "alignmentgroup": "True",
         "hovertemplate": "Decomposition part:=masked_flows_positive<br>Flow decomposition value=%{x}<br>xnec_id=%{y}<extra></extra>",
         "legendgroup": "masked_flows_positive",
         "marker": {
          "color": "#86CE00",
          "pattern": {
           "shape": ""
          }
         },
         "name": "masked_flows_positive",
         "offsetgroup": "masked_flows_positive",
         "orientation": "h",
         "showlegend": true,
         "textposition": "auto",
         "texttemplate": "%{x:.0f}",
         "type": "bar",
         "x": [
          1.0436096431476471e-14,
          42.434266530455204,
          6.330699976071893,
          6.330699976071821,
          16.462775121948475,
          0.007599221624975935,
          2.230075308796259,
          0.7619047619047927,
          50.76251541475791,
          0.3371653387060791,
          0.31977029562777837,
          43.68683977232285,
          3.715912779836348,
          6.048615339157814,
          23.921061871926653,
          4.974823476103445,
          0.5619668176809959,
          13.025844369967313,
          33.13689080018213,
          6.159895808197064
         ],
         "xaxis": "x",
         "y": [
          "L181-138-1_InitialState",
          "L130-168-1_InitialState",
          "L163-164-1_InitialState",
          "T163-137-1_InitialState",
          "L219-237-1_InitialState",
          "L119-120-1_InitialState",
          "L177-178-1_InitialState",
          "L162-164-1_InitialState",
          "L136-137-1_InitialState",
          "L186-188-1_InitialState",
          "L133-168-1_InitialState",
          "L140-141-1_InitialState",
          "L220-238-1_InitialState",
          "L81-194-1_InitialState",
          "L74-88-1_InitialState",
          "L153-161-1_InitialState",
          "T159-117-1_InitialState",
          "L195-219-1_InitialState",
          "T81-88-1_InitialState",
          "L127-168-1_InitialState"
         ],
         "yaxis": "y"
        },
        {
         "alignmentgroup": "True",
         "hovertemplate": "Decomposition part:=masked_flows_negative<br>Flow decomposition value=%{x}<br>xnec_id=%{y}<extra></extra>",
         "legendgroup": "masked_flows_negative",
         "marker": {
          "color": "#6A76FC",
          "pattern": {
           "shape": ""
          }
         },
         "name": "masked_flows_negative",
         "offsetgroup": "masked_flows_negative",
         "orientation": "h",
         "showlegend": true,
         "textposition": "auto",
         "texttemplate": "%{x:.0f}",
         "type": "bar",
         "x": [
          -17.102871682307846,
          -28.663146643479767,
          -0.0006479045100136471,
          -0.0006479045100257486,
          -4.061888044866663,
          -9.660718405801738e-14,
          -11.450253726798865,
          -5.357658761084849e-13,
          -23.513139286856074,
          -1.5969170430452095e-13,
          -15.447837020757902,
          -3.859458153944635,
          -10.644544194437344,
          -9.637136961553725,
          0,
          -0.0005787985448861624,
          -1.3039569424222464e-13,
          -10.566972707096916,
          0,
          -13.215309622721843
         ],
         "xaxis": "x",
         "y": [
          "L181-138-1_InitialState",
          "L130-168-1_InitialState",
          "L163-164-1_InitialState",
          "T163-137-1_InitialState",
          "L219-237-1_InitialState",
          "L119-120-1_InitialState",
          "L177-178-1_InitialState",
          "L162-164-1_InitialState",
          "L136-137-1_InitialState",
          "L186-188-1_InitialState",
          "L133-168-1_InitialState",
          "L140-141-1_InitialState",
          "L220-238-1_InitialState",
          "L81-194-1_InitialState",
          "L74-88-1_InitialState",
          "L153-161-1_InitialState",
          "T159-117-1_InitialState",
          "L195-219-1_InitialState",
          "T81-88-1_InitialState",
          "L127-168-1_InitialState"
         ],
         "yaxis": "y"
        },
        {
         "mode": "lines+markers",
         "name": "total_flow",
         "type": "scatter",
         "x": [
          480.5679491140823,
          221.96802717230673,
          238.24948821714187,
          238.24948821714207,
          79.67885963359481,
          705.9781703021854,
          153.13115036457313,
          468.7368253968255,
          64.66272250165571,
          664.4147781793408,
          32.74584318129897,
          87.81281380894798,
          306.00900518090504,
          21.07590584029297,
          96.30533079791164,
          107.0324172496725,
          494.894726317886,
          11.257923126093146,
          208.64487597283195,
          189.22218399100782
         ],
         "y": [
          "L181-138-1_InitialState",
          "L130-168-1_InitialState",
          "L163-164-1_InitialState",
          "T163-137-1_InitialState",
          "L219-237-1_InitialState",
          "L119-120-1_InitialState",
          "L177-178-1_InitialState",
          "L162-164-1_InitialState",
          "L136-137-1_InitialState",
          "L186-188-1_InitialState",
          "L133-168-1_InitialState",
          "L140-141-1_InitialState",
          "L220-238-1_InitialState",
          "L81-194-1_InitialState",
          "L74-88-1_InitialState",
          "L153-161-1_InitialState",
          "T159-117-1_InitialState",
          "L195-219-1_InitialState",
          "T81-88-1_InitialState",
          "L127-168-1_InitialState"
         ]
        },
        {
         "mode": "lines+markers",
         "name": "total_loop_flow",
         "type": "scatter",
         "x": [
          611.0734342212049,
          575.071117579468,
          501.56800355731593,
          501.5680035573158,
          476.8290882749506,
          434.47467509888645,
          381.5886162946657,
          377.48875132099084,
          350.8970346132826,
          346.5543678409406,
          340.39028508437957,
          336.9267102611768,
          311.2676462144107,
          283.7172666558061,
          273.29048562428136,
          257.6083543997885,
          257.0981887067326,
          253.8560939608975,
          252.8853632055198,
          234.68083249508888
         ],
         "y": [
          "L181-138-1_InitialState",
          "L130-168-1_InitialState",
          "L163-164-1_InitialState",
          "T163-137-1_InitialState",
          "L219-237-1_InitialState",
          "L119-120-1_InitialState",
          "L177-178-1_InitialState",
          "L162-164-1_InitialState",
          "L136-137-1_InitialState",
          "L186-188-1_InitialState",
          "L133-168-1_InitialState",
          "L140-141-1_InitialState",
          "L220-238-1_InitialState",
          "L81-194-1_InitialState",
          "L74-88-1_InitialState",
          "L153-161-1_InitialState",
          "T159-117-1_InitialState",
          "L195-219-1_InitialState",
          "T81-88-1_InitialState",
          "L127-168-1_InitialState"
         ]
        }
       ],
       "layout": {
        "barmode": "relative",
        "height": 1000,
        "legend": {
         "title": {
          "text": "Decomposition part:"
         },
         "tracegroupgap": 0
        },
        "template": {
         "data": {
          "bar": [
           {
            "error_x": {
             "color": "rgb(36,36,36)"
            },
            "error_y": {
             "color": "rgb(36,36,36)"
            },
            "marker": {
             "line": {
              "color": "rgb(234,234,242)",
              "width": 0.5
             },
             "pattern": {
              "fillmode": "overlay",
              "size": 10,
              "solidity": 0.2
             }
            },
            "type": "bar"
           }
          ],
          "barpolar": [
           {
            "marker": {
             "line": {
              "color": "rgb(234,234,242)",
              "width": 0.5
             },
             "pattern": {
              "fillmode": "overlay",
              "size": 10,
              "solidity": 0.2
             }
            },
            "type": "barpolar"
           }
          ],
          "carpet": [
           {
            "aaxis": {
             "endlinecolor": "rgb(36,36,36)",
             "gridcolor": "white",
             "linecolor": "white",
             "minorgridcolor": "white",
             "startlinecolor": "rgb(36,36,36)"
            },
            "baxis": {
             "endlinecolor": "rgb(36,36,36)",
             "gridcolor": "white",
             "linecolor": "white",
             "minorgridcolor": "white",
             "startlinecolor": "rgb(36,36,36)"
            },
            "type": "carpet"
           }
          ],
          "choropleth": [
           {
            "colorbar": {
             "outlinewidth": 0,
             "tickcolor": "rgb(36,36,36)",
             "ticklen": 8,
             "ticks": "outside",
             "tickwidth": 2
            },
            "type": "choropleth"
           }
          ],
          "contour": [
           {
            "colorbar": {
             "outlinewidth": 0,
             "tickcolor": "rgb(36,36,36)",
             "ticklen": 8,
             "ticks": "outside",
             "tickwidth": 2
            },
            "colorscale": [
             [
              0,
              "rgb(2,4,25)"
             ],
             [
              0.06274509803921569,
              "rgb(24,15,41)"
             ],
             [
              0.12549019607843137,
              "rgb(47,23,57)"
             ],
             [
              0.18823529411764706,
              "rgb(71,28,72)"
             ],
             [
              0.25098039215686274,
              "rgb(97,30,82)"
             ],
             [
              0.3137254901960784,
              "rgb(123,30,89)"
             ],
             [
              0.3764705882352941,
              "rgb(150,27,91)"
             ],
             [
              0.4392156862745098,
              "rgb(177,22,88)"
             ],
             [
              0.5019607843137255,
              "rgb(203,26,79)"
             ],
             [
              0.5647058823529412,
              "rgb(223,47,67)"
             ],
             [
              0.6274509803921569,
              "rgb(236,76,61)"
             ],
             [
              0.6901960784313725,
              "rgb(242,107,73)"
             ],
             [
              0.7529411764705882,
              "rgb(244,135,95)"
             ],
             [
              0.8156862745098039,
              "rgb(245,162,122)"
             ],
             [
              0.8784313725490196,
              "rgb(246,188,153)"
             ],
             [
              0.9411764705882353,
              "rgb(247,212,187)"
             ],
             [
              1,
              "rgb(250,234,220)"
             ]
            ],
            "type": "contour"
           }
          ],
          "contourcarpet": [
           {
            "colorbar": {
             "outlinewidth": 0,
             "tickcolor": "rgb(36,36,36)",
             "ticklen": 8,
             "ticks": "outside",
             "tickwidth": 2
            },
            "type": "contourcarpet"
           }
          ],
          "heatmap": [
           {
            "colorbar": {
             "outlinewidth": 0,
             "tickcolor": "rgb(36,36,36)",
             "ticklen": 8,
             "ticks": "outside",
             "tickwidth": 2
            },
            "colorscale": [
             [
              0,
              "rgb(2,4,25)"
             ],
             [
              0.06274509803921569,
              "rgb(24,15,41)"
             ],
             [
              0.12549019607843137,
              "rgb(47,23,57)"
             ],
             [
              0.18823529411764706,
              "rgb(71,28,72)"
             ],
             [
              0.25098039215686274,
              "rgb(97,30,82)"
             ],
             [
              0.3137254901960784,
              "rgb(123,30,89)"
             ],
             [
              0.3764705882352941,
              "rgb(150,27,91)"
             ],
             [
              0.4392156862745098,
              "rgb(177,22,88)"
             ],
             [
              0.5019607843137255,
              "rgb(203,26,79)"
             ],
             [
              0.5647058823529412,
              "rgb(223,47,67)"
             ],
             [
              0.6274509803921569,
              "rgb(236,76,61)"
             ],
             [
              0.6901960784313725,
              "rgb(242,107,73)"
             ],
             [
              0.7529411764705882,
              "rgb(244,135,95)"
             ],
             [
              0.8156862745098039,
              "rgb(245,162,122)"
             ],
             [
              0.8784313725490196,
              "rgb(246,188,153)"
             ],
             [
              0.9411764705882353,
              "rgb(247,212,187)"
             ],
             [
              1,
              "rgb(250,234,220)"
             ]
            ],
            "type": "heatmap"
           }
          ],
          "heatmapgl": [
           {
            "colorbar": {
             "outlinewidth": 0,
             "tickcolor": "rgb(36,36,36)",
             "ticklen": 8,
             "ticks": "outside",
             "tickwidth": 2
            },
            "colorscale": [
             [
              0,
              "rgb(2,4,25)"
             ],
             [
              0.06274509803921569,
              "rgb(24,15,41)"
             ],
             [
              0.12549019607843137,
              "rgb(47,23,57)"
             ],
             [
              0.18823529411764706,
              "rgb(71,28,72)"
             ],
             [
              0.25098039215686274,
              "rgb(97,30,82)"
             ],
             [
              0.3137254901960784,
              "rgb(123,30,89)"
             ],
             [
              0.3764705882352941,
              "rgb(150,27,91)"
             ],
             [
              0.4392156862745098,
              "rgb(177,22,88)"
             ],
             [
              0.5019607843137255,
              "rgb(203,26,79)"
             ],
             [
              0.5647058823529412,
              "rgb(223,47,67)"
             ],
             [
              0.6274509803921569,
              "rgb(236,76,61)"
             ],
             [
              0.6901960784313725,
              "rgb(242,107,73)"
             ],
             [
              0.7529411764705882,
              "rgb(244,135,95)"
             ],
             [
              0.8156862745098039,
              "rgb(245,162,122)"
             ],
             [
              0.8784313725490196,
              "rgb(246,188,153)"
             ],
             [
              0.9411764705882353,
              "rgb(247,212,187)"
             ],
             [
              1,
              "rgb(250,234,220)"
             ]
            ],
            "type": "heatmapgl"
           }
          ],
          "histogram": [
           {
            "marker": {
             "pattern": {
              "fillmode": "overlay",
              "size": 10,
              "solidity": 0.2
             }
            },
            "type": "histogram"
           }
          ],
          "histogram2d": [
           {
            "colorbar": {
             "outlinewidth": 0,
             "tickcolor": "rgb(36,36,36)",
             "ticklen": 8,
             "ticks": "outside",
             "tickwidth": 2
            },
            "colorscale": [
             [
              0,
              "rgb(2,4,25)"
             ],
             [
              0.06274509803921569,
              "rgb(24,15,41)"
             ],
             [
              0.12549019607843137,
              "rgb(47,23,57)"
             ],
             [
              0.18823529411764706,
              "rgb(71,28,72)"
             ],
             [
              0.25098039215686274,
              "rgb(97,30,82)"
             ],
             [
              0.3137254901960784,
              "rgb(123,30,89)"
             ],
             [
              0.3764705882352941,
              "rgb(150,27,91)"
             ],
             [
              0.4392156862745098,
              "rgb(177,22,88)"
             ],
             [
              0.5019607843137255,
              "rgb(203,26,79)"
             ],
             [
              0.5647058823529412,
              "rgb(223,47,67)"
             ],
             [
              0.6274509803921569,
              "rgb(236,76,61)"
             ],
             [
              0.6901960784313725,
              "rgb(242,107,73)"
             ],
             [
              0.7529411764705882,
              "rgb(244,135,95)"
             ],
             [
              0.8156862745098039,
              "rgb(245,162,122)"
             ],
             [
              0.8784313725490196,
              "rgb(246,188,153)"
             ],
             [
              0.9411764705882353,
              "rgb(247,212,187)"
             ],
             [
              1,
              "rgb(250,234,220)"
             ]
            ],
            "type": "histogram2d"
           }
          ],
          "histogram2dcontour": [
           {
            "colorbar": {
             "outlinewidth": 0,
             "tickcolor": "rgb(36,36,36)",
             "ticklen": 8,
             "ticks": "outside",
             "tickwidth": 2
            },
            "colorscale": [
             [
              0,
              "rgb(2,4,25)"
             ],
             [
              0.06274509803921569,
              "rgb(24,15,41)"
             ],
             [
              0.12549019607843137,
              "rgb(47,23,57)"
             ],
             [
              0.18823529411764706,
              "rgb(71,28,72)"
             ],
             [
              0.25098039215686274,
              "rgb(97,30,82)"
             ],
             [
              0.3137254901960784,
              "rgb(123,30,89)"
             ],
             [
              0.3764705882352941,
              "rgb(150,27,91)"
             ],
             [
              0.4392156862745098,
              "rgb(177,22,88)"
             ],
             [
              0.5019607843137255,
              "rgb(203,26,79)"
             ],
             [
              0.5647058823529412,
              "rgb(223,47,67)"
             ],
             [
              0.6274509803921569,
              "rgb(236,76,61)"
             ],
             [
              0.6901960784313725,
              "rgb(242,107,73)"
             ],
             [
              0.7529411764705882,
              "rgb(244,135,95)"
             ],
             [
              0.8156862745098039,
              "rgb(245,162,122)"
             ],
             [
              0.8784313725490196,
              "rgb(246,188,153)"
             ],
             [
              0.9411764705882353,
              "rgb(247,212,187)"
             ],
             [
              1,
              "rgb(250,234,220)"
             ]
            ],
            "type": "histogram2dcontour"
           }
          ],
          "mesh3d": [
           {
            "colorbar": {
             "outlinewidth": 0,
             "tickcolor": "rgb(36,36,36)",
             "ticklen": 8,
             "ticks": "outside",
             "tickwidth": 2
            },
            "type": "mesh3d"
           }
          ],
          "parcoords": [
           {
            "line": {
             "colorbar": {
              "outlinewidth": 0,
              "tickcolor": "rgb(36,36,36)",
              "ticklen": 8,
              "ticks": "outside",
              "tickwidth": 2
             }
            },
            "type": "parcoords"
           }
          ],
          "pie": [
           {
            "automargin": true,
            "type": "pie"
           }
          ],
          "scatter": [
           {
            "fillpattern": {
             "fillmode": "overlay",
             "size": 10,
             "solidity": 0.2
            },
            "type": "scatter"
           }
          ],
          "scatter3d": [
           {
            "line": {
             "colorbar": {
              "outlinewidth": 0,
              "tickcolor": "rgb(36,36,36)",
              "ticklen": 8,
              "ticks": "outside",
              "tickwidth": 2
             }
            },
            "marker": {
             "colorbar": {
              "outlinewidth": 0,
              "tickcolor": "rgb(36,36,36)",
              "ticklen": 8,
              "ticks": "outside",
              "tickwidth": 2
             }
            },
            "type": "scatter3d"
           }
          ],
          "scattercarpet": [
           {
            "marker": {
             "colorbar": {
              "outlinewidth": 0,
              "tickcolor": "rgb(36,36,36)",
              "ticklen": 8,
              "ticks": "outside",
              "tickwidth": 2
             }
            },
            "type": "scattercarpet"
           }
          ],
          "scattergeo": [
           {
            "marker": {
             "colorbar": {
              "outlinewidth": 0,
              "tickcolor": "rgb(36,36,36)",
              "ticklen": 8,
              "ticks": "outside",
              "tickwidth": 2
             }
            },
            "type": "scattergeo"
           }
          ],
          "scattergl": [
           {
            "marker": {
             "colorbar": {
              "outlinewidth": 0,
              "tickcolor": "rgb(36,36,36)",
              "ticklen": 8,
              "ticks": "outside",
              "tickwidth": 2
             }
            },
            "type": "scattergl"
           }
          ],
          "scattermapbox": [
           {
            "marker": {
             "colorbar": {
              "outlinewidth": 0,
              "tickcolor": "rgb(36,36,36)",
              "ticklen": 8,
              "ticks": "outside",
              "tickwidth": 2
             }
            },
            "type": "scattermapbox"
           }
          ],
          "scatterpolar": [
           {
            "marker": {
             "colorbar": {
              "outlinewidth": 0,
              "tickcolor": "rgb(36,36,36)",
              "ticklen": 8,
              "ticks": "outside",
              "tickwidth": 2
             }
            },
            "type": "scatterpolar"
           }
          ],
          "scatterpolargl": [
           {
            "marker": {
             "colorbar": {
              "outlinewidth": 0,
              "tickcolor": "rgb(36,36,36)",
              "ticklen": 8,
              "ticks": "outside",
              "tickwidth": 2
             }
            },
            "type": "scatterpolargl"
           }
          ],
          "scatterternary": [
           {
            "marker": {
             "colorbar": {
              "outlinewidth": 0,
              "tickcolor": "rgb(36,36,36)",
              "ticklen": 8,
              "ticks": "outside",
              "tickwidth": 2
             }
            },
            "type": "scatterternary"
           }
          ],
          "surface": [
           {
            "colorbar": {
             "outlinewidth": 0,
             "tickcolor": "rgb(36,36,36)",
             "ticklen": 8,
             "ticks": "outside",
             "tickwidth": 2
            },
            "colorscale": [
             [
              0,
              "rgb(2,4,25)"
             ],
             [
              0.06274509803921569,
              "rgb(24,15,41)"
             ],
             [
              0.12549019607843137,
              "rgb(47,23,57)"
             ],
             [
              0.18823529411764706,
              "rgb(71,28,72)"
             ],
             [
              0.25098039215686274,
              "rgb(97,30,82)"
             ],
             [
              0.3137254901960784,
              "rgb(123,30,89)"
             ],
             [
              0.3764705882352941,
              "rgb(150,27,91)"
             ],
             [
              0.4392156862745098,
              "rgb(177,22,88)"
             ],
             [
              0.5019607843137255,
              "rgb(203,26,79)"
             ],
             [
              0.5647058823529412,
              "rgb(223,47,67)"
             ],
             [
              0.6274509803921569,
              "rgb(236,76,61)"
             ],
             [
              0.6901960784313725,
              "rgb(242,107,73)"
             ],
             [
              0.7529411764705882,
              "rgb(244,135,95)"
             ],
             [
              0.8156862745098039,
              "rgb(245,162,122)"
             ],
             [
              0.8784313725490196,
              "rgb(246,188,153)"
             ],
             [
              0.9411764705882353,
              "rgb(247,212,187)"
             ],
             [
              1,
              "rgb(250,234,220)"
             ]
            ],
            "type": "surface"
           }
          ],
          "table": [
           {
            "cells": {
             "fill": {
              "color": "rgb(231,231,240)"
             },
             "line": {
              "color": "white"
             }
            },
            "header": {
             "fill": {
              "color": "rgb(183,183,191)"
             },
             "line": {
              "color": "white"
             }
            },
            "type": "table"
           }
          ]
         },
         "layout": {
          "annotationdefaults": {
           "arrowcolor": "rgb(67,103,167)"
          },
          "autotypenumbers": "strict",
          "coloraxis": {
           "colorbar": {
            "outlinewidth": 0,
            "tickcolor": "rgb(36,36,36)",
            "ticklen": 8,
            "ticks": "outside",
            "tickwidth": 2
           }
          },
          "colorscale": {
           "sequential": [
            [
             0,
             "rgb(2,4,25)"
            ],
            [
             0.06274509803921569,
             "rgb(24,15,41)"
            ],
            [
             0.12549019607843137,
             "rgb(47,23,57)"
            ],
            [
             0.18823529411764706,
             "rgb(71,28,72)"
            ],
            [
             0.25098039215686274,
             "rgb(97,30,82)"
            ],
            [
             0.3137254901960784,
             "rgb(123,30,89)"
            ],
            [
             0.3764705882352941,
             "rgb(150,27,91)"
            ],
            [
             0.4392156862745098,
             "rgb(177,22,88)"
            ],
            [
             0.5019607843137255,
             "rgb(203,26,79)"
            ],
            [
             0.5647058823529412,
             "rgb(223,47,67)"
            ],
            [
             0.6274509803921569,
             "rgb(236,76,61)"
            ],
            [
             0.6901960784313725,
             "rgb(242,107,73)"
            ],
            [
             0.7529411764705882,
             "rgb(244,135,95)"
            ],
            [
             0.8156862745098039,
             "rgb(245,162,122)"
            ],
            [
             0.8784313725490196,
             "rgb(246,188,153)"
            ],
            [
             0.9411764705882353,
             "rgb(247,212,187)"
            ],
            [
             1,
             "rgb(250,234,220)"
            ]
           ],
           "sequentialminus": [
            [
             0,
             "rgb(2,4,25)"
            ],
            [
             0.06274509803921569,
             "rgb(24,15,41)"
            ],
            [
             0.12549019607843137,
             "rgb(47,23,57)"
            ],
            [
             0.18823529411764706,
             "rgb(71,28,72)"
            ],
            [
             0.25098039215686274,
             "rgb(97,30,82)"
            ],
            [
             0.3137254901960784,
             "rgb(123,30,89)"
            ],
            [
             0.3764705882352941,
             "rgb(150,27,91)"
            ],
            [
             0.4392156862745098,
             "rgb(177,22,88)"
            ],
            [
             0.5019607843137255,
             "rgb(203,26,79)"
            ],
            [
             0.5647058823529412,
             "rgb(223,47,67)"
            ],
            [
             0.6274509803921569,
             "rgb(236,76,61)"
            ],
            [
             0.6901960784313725,
             "rgb(242,107,73)"
            ],
            [
             0.7529411764705882,
             "rgb(244,135,95)"
            ],
            [
             0.8156862745098039,
             "rgb(245,162,122)"
            ],
            [
             0.8784313725490196,
             "rgb(246,188,153)"
            ],
            [
             0.9411764705882353,
             "rgb(247,212,187)"
            ],
            [
             1,
             "rgb(250,234,220)"
            ]
           ]
          },
          "colorway": [
           "rgb(76,114,176)",
           "rgb(221,132,82)",
           "rgb(85,168,104)",
           "rgb(196,78,82)",
           "rgb(129,114,179)",
           "rgb(147,120,96)",
           "rgb(218,139,195)",
           "rgb(140,140,140)",
           "rgb(204,185,116)",
           "rgb(100,181,205)"
          ],
          "font": {
           "color": "rgb(36,36,36)"
          },
          "geo": {
           "bgcolor": "white",
           "lakecolor": "white",
           "landcolor": "rgb(234,234,242)",
           "showlakes": true,
           "showland": true,
           "subunitcolor": "white"
          },
          "hoverlabel": {
           "align": "left"
          },
          "hovermode": "closest",
          "paper_bgcolor": "white",
          "plot_bgcolor": "rgb(234,234,242)",
          "polar": {
           "angularaxis": {
            "gridcolor": "white",
            "linecolor": "white",
            "showgrid": true,
            "ticks": ""
           },
           "bgcolor": "rgb(234,234,242)",
           "radialaxis": {
            "gridcolor": "white",
            "linecolor": "white",
            "showgrid": true,
            "ticks": ""
           }
          },
          "scene": {
           "xaxis": {
            "backgroundcolor": "rgb(234,234,242)",
            "gridcolor": "white",
            "gridwidth": 2,
            "linecolor": "white",
            "showbackground": true,
            "showgrid": true,
            "ticks": "",
            "zerolinecolor": "white"
           },
           "yaxis": {
            "backgroundcolor": "rgb(234,234,242)",
            "gridcolor": "white",
            "gridwidth": 2,
            "linecolor": "white",
            "showbackground": true,
            "showgrid": true,
            "ticks": "",
            "zerolinecolor": "white"
           },
           "zaxis": {
            "backgroundcolor": "rgb(234,234,242)",
            "gridcolor": "white",
            "gridwidth": 2,
            "linecolor": "white",
            "showbackground": true,
            "showgrid": true,
            "ticks": "",
            "zerolinecolor": "white"
           }
          },
          "shapedefaults": {
           "fillcolor": "rgb(67,103,167)",
           "line": {
            "width": 0
           },
           "opacity": 0.5
          },
          "ternary": {
           "aaxis": {
            "gridcolor": "white",
            "linecolor": "white",
            "showgrid": true,
            "ticks": ""
           },
           "baxis": {
            "gridcolor": "white",
            "linecolor": "white",
            "showgrid": true,
            "ticks": ""
           },
           "bgcolor": "rgb(234,234,242)",
           "caxis": {
            "gridcolor": "white",
            "linecolor": "white",
            "showgrid": true,
            "ticks": ""
           }
          },
          "xaxis": {
           "automargin": true,
           "gridcolor": "white",
           "linecolor": "white",
           "showgrid": true,
           "ticks": "",
           "title": {
            "standoff": 15
           },
           "zerolinecolor": "white"
          },
          "yaxis": {
           "automargin": true,
           "gridcolor": "white",
           "linecolor": "white",
           "showgrid": true,
           "ticks": "",
           "title": {
            "standoff": 15
           },
           "zerolinecolor": "white"
          }
         }
        },
        "title": {
         "text": "Sorted by: total_loop_flow, ascending: False, head: 20"
        },
        "xaxis": {
         "anchor": "y",
         "domain": [
          0,
          1
         ],
         "title": {
          "text": "Flow decomposition value"
         }
        },
        "yaxis": {
         "anchor": "x",
         "domain": [
          0,
          1
         ],
         "title": {
          "text": "xnec_id"
         }
        }
       }
      }
     },
     "metadata": {},
     "output_type": "display_data"
    }
   ],
   "source": [
    "flow_decomposition_bar_chart('total_loop_flow')"
   ]
  },
  {
   "cell_type": "code",
   "execution_count": 10,
   "metadata": {},
   "outputs": [
    {
     "data": {
      "application/vnd.plotly.v1+json": {
       "config": {
        "plotlyServerURL": "https://plot.ly"
       },
       "data": [
        {
         "alignmentgroup": "True",
         "hovertemplate": "Decomposition part:=commercial_flow<br>Flow decomposition value=%{x}<br>xnec_id=%{y}<extra></extra>",
         "legendgroup": "commercial_flow",
         "marker": {
          "color": "#0DF9FF",
          "pattern": {
           "shape": ""
          }
         },
         "name": "commercial_flow",
         "offsetgroup": "commercial_flow",
         "orientation": "h",
         "showlegend": true,
         "textposition": "auto",
         "texttemplate": "%{x:.0f}",
         "type": "bar",
         "x": [
          503.6487878892631,
          117.64973677408139,
          637.0474065822824,
          1059.396650188225,
          404.24991460833513,
          333.750089549281,
          314.0543633895329,
          314.05436338953274,
          310.11145382735185,
          698.6033677343796,
          541.4744724464559,
          267.2440997027563,
          267.2440997027553,
          329.1973192849096,
          241.0160148856218,
          196.81315538909968,
          640.2776427383893,
          370.02889612308155,
          168.55403255977552,
          143.02926257130218
         ],
         "xaxis": "x",
         "y": [
          "L137-181-1_InitialState",
          "L137-140-1_InitialState",
          "L46-81-1_InitialState",
          "L133-137-1_InitialState",
          "L81-195-1_InitialState",
          "L16-42-1_InitialState",
          "L45-60-1_InitialState",
          "L60-62-1_InitialState",
          "L167-169-1_InitialState",
          "L137-188-1_InitialState",
          "L118-119-1_InitialState",
          "T3-4-1_InitialState",
          "L4-16-1_InitialState",
          "L194-219-1_InitialState",
          "L115-122-1_InitialState",
          "L226-231-1_InitialState",
          "L42-46-1_InitialState",
          "L45-74-1_InitialState",
          "T164-155-1_InitialState",
          "L152-153-1_InitialState"
         ],
         "yaxis": "y"
        },
        {
         "alignmentgroup": "True",
         "hovertemplate": "Decomposition part:=internal_flow<br>Flow decomposition value=%{x}<br>xnec_id=%{y}<extra></extra>",
         "legendgroup": "internal_flow",
         "marker": {
          "color": "#AF0038",
          "pattern": {
           "shape": ""
          }
         },
         "name": "internal_flow",
         "offsetgroup": "internal_flow",
         "orientation": "h",
         "showlegend": true,
         "textposition": "auto",
         "texttemplate": "%{x:.0f}",
         "type": "bar",
         "x": [
          229.52310145020616,
          706.6839307809557,
          null,
          null,
          null,
          393.4649024680854,
          214.26951722845877,
          214.26951722845865,
          null,
          null,
          299.02443335026067,
          755.0339959734673,
          755.0339959734674,
          null,
          null,
          null,
          81.98492163898024,
          null,
          186.012556856232,
          null
         ],
         "xaxis": "x",
         "y": [
          "L137-181-1_InitialState",
          "L137-140-1_InitialState",
          "L46-81-1_InitialState",
          "L133-137-1_InitialState",
          "L81-195-1_InitialState",
          "L16-42-1_InitialState",
          "L45-60-1_InitialState",
          "L60-62-1_InitialState",
          "L167-169-1_InitialState",
          "L137-188-1_InitialState",
          "L118-119-1_InitialState",
          "T3-4-1_InitialState",
          "L4-16-1_InitialState",
          "L194-219-1_InitialState",
          "L115-122-1_InitialState",
          "L226-231-1_InitialState",
          "L42-46-1_InitialState",
          "L45-74-1_InitialState",
          "T164-155-1_InitialState",
          "L152-153-1_InitialState"
         ],
         "yaxis": "y"
        },
        {
         "alignmentgroup": "True",
         "hovertemplate": "Decomposition part:=loop_flow_from_bg<br>Flow decomposition value=%{x}<br>xnec_id=%{y}<extra></extra>",
         "legendgroup": "loop_flow_from_bg",
         "marker": {
          "color": "#FD3216",
          "pattern": {
           "shape": ""
          }
         },
         "name": "loop_flow_from_bg",
         "offsetgroup": "loop_flow_from_bg",
         "orientation": "h",
         "showlegend": true,
         "textposition": "auto",
         "texttemplate": "%{x:.0f}",
         "type": "bar",
         "x": [
          null,
          null,
          null,
          null,
          -82.4338214425027,
          null,
          null,
          null,
          null,
          null,
          null,
          null,
          null,
          -39.254881301617154,
          null,
          null,
          null,
          null,
          null,
          null
         ],
         "xaxis": "x",
         "y": [
          "L137-181-1_InitialState",
          "L137-140-1_InitialState",
          "L46-81-1_InitialState",
          "L133-137-1_InitialState",
          "L81-195-1_InitialState",
          "L16-42-1_InitialState",
          "L45-60-1_InitialState",
          "L60-62-1_InitialState",
          "L167-169-1_InitialState",
          "L137-188-1_InitialState",
          "L118-119-1_InitialState",
          "T3-4-1_InitialState",
          "L4-16-1_InitialState",
          "L194-219-1_InitialState",
          "L115-122-1_InitialState",
          "L226-231-1_InitialState",
          "L42-46-1_InitialState",
          "L45-74-1_InitialState",
          "T164-155-1_InitialState",
          "L152-153-1_InitialState"
         ],
         "yaxis": "y"
        },
        {
         "alignmentgroup": "True",
         "hovertemplate": "Decomposition part:=loop_flow_from_cz<br>Flow decomposition value=%{x}<br>xnec_id=%{y}<extra></extra>",
         "legendgroup": "loop_flow_from_cz",
         "marker": {
          "color": "#00A08B",
          "pattern": {
           "shape": ""
          }
         },
         "name": "loop_flow_from_cz",
         "offsetgroup": "loop_flow_from_cz",
         "orientation": "h",
         "showlegend": true,
         "textposition": "auto",
         "texttemplate": "%{x:.0f}",
         "type": "bar",
         "x": [
          null,
          null,
          null,
          null,
          null,
          null,
          null,
          null,
          null,
          null,
          null,
          null,
          null,
          null,
          null,
          null,
          null,
          null,
          null,
          null
         ],
         "xaxis": "x",
         "y": [
          "L137-181-1_InitialState",
          "L137-140-1_InitialState",
          "L46-81-1_InitialState",
          "L133-137-1_InitialState",
          "L81-195-1_InitialState",
          "L16-42-1_InitialState",
          "L45-60-1_InitialState",
          "L60-62-1_InitialState",
          "L167-169-1_InitialState",
          "L137-188-1_InitialState",
          "L118-119-1_InitialState",
          "T3-4-1_InitialState",
          "L4-16-1_InitialState",
          "L194-219-1_InitialState",
          "L115-122-1_InitialState",
          "L226-231-1_InitialState",
          "L42-46-1_InitialState",
          "L45-74-1_InitialState",
          "T164-155-1_InitialState",
          "L152-153-1_InitialState"
         ],
         "yaxis": "y"
        },
        {
         "alignmentgroup": "True",
         "hovertemplate": "Decomposition part:=loop_flow_from_dk<br>Flow decomposition value=%{x}<br>xnec_id=%{y}<extra></extra>",
         "legendgroup": "loop_flow_from_dk",
         "marker": {
          "color": "#6C4516",
          "pattern": {
           "shape": ""
          }
         },
         "name": "loop_flow_from_dk",
         "offsetgroup": "loop_flow_from_dk",
         "orientation": "h",
         "showlegend": true,
         "textposition": "auto",
         "texttemplate": "%{x:.0f}",
         "type": "bar",
         "x": [
          null,
          null,
          null,
          -295.24726401757255,
          null,
          -125.88584180661348,
          null,
          null,
          null,
          428.01279778916137,
          null,
          -109.27488915349096,
          -109.27488915349119,
          null,
          -104.08299577058361,
          null,
          null,
          null,
          null,
          -88.9874431437678
         ],
         "xaxis": "x",
         "y": [
          "L137-181-1_InitialState",
          "L137-140-1_InitialState",
          "L46-81-1_InitialState",
          "L133-137-1_InitialState",
          "L81-195-1_InitialState",
          "L16-42-1_InitialState",
          "L45-60-1_InitialState",
          "L60-62-1_InitialState",
          "L167-169-1_InitialState",
          "L137-188-1_InitialState",
          "L118-119-1_InitialState",
          "T3-4-1_InitialState",
          "L4-16-1_InitialState",
          "L194-219-1_InitialState",
          "L115-122-1_InitialState",
          "L226-231-1_InitialState",
          "L42-46-1_InitialState",
          "L45-74-1_InitialState",
          "T164-155-1_InitialState",
          "L152-153-1_InitialState"
         ],
         "yaxis": "y"
        },
        {
         "alignmentgroup": "True",
         "hovertemplate": "Decomposition part:=loop_flow_from_ee<br>Flow decomposition value=%{x}<br>xnec_id=%{y}<extra></extra>",
         "legendgroup": "loop_flow_from_ee",
         "marker": {
          "color": "#511CFB",
          "pattern": {
           "shape": ""
          }
         },
         "name": "loop_flow_from_ee",
         "offsetgroup": "loop_flow_from_ee",
         "orientation": "h",
         "showlegend": true,
         "textposition": "auto",
         "texttemplate": "%{x:.0f}",
         "type": "bar",
         "x": [
          null,
          null,
          null,
          null,
          null,
          null,
          null,
          null,
          null,
          null,
          null,
          null,
          null,
          null,
          null,
          null,
          null,
          null,
          null,
          null
         ],
         "xaxis": "x",
         "y": [
          "L137-181-1_InitialState",
          "L137-140-1_InitialState",
          "L46-81-1_InitialState",
          "L133-137-1_InitialState",
          "L81-195-1_InitialState",
          "L16-42-1_InitialState",
          "L45-60-1_InitialState",
          "L60-62-1_InitialState",
          "L167-169-1_InitialState",
          "L137-188-1_InitialState",
          "L118-119-1_InitialState",
          "T3-4-1_InitialState",
          "L4-16-1_InitialState",
          "L194-219-1_InitialState",
          "L115-122-1_InitialState",
          "L226-231-1_InitialState",
          "L42-46-1_InitialState",
          "L45-74-1_InitialState",
          "T164-155-1_InitialState",
          "L152-153-1_InitialState"
         ],
         "yaxis": "y"
        },
        {
         "alignmentgroup": "True",
         "hovertemplate": "Decomposition part:=loop_flow_from_fr<br>Flow decomposition value=%{x}<br>xnec_id=%{y}<extra></extra>",
         "legendgroup": "loop_flow_from_fr",
         "marker": {
          "color": "#F6F926",
          "pattern": {
           "shape": ""
          }
         },
         "name": "loop_flow_from_fr",
         "offsetgroup": "loop_flow_from_fr",
         "orientation": "h",
         "showlegend": true,
         "textposition": "auto",
         "texttemplate": "%{x:.0f}",
         "type": "bar",
         "x": [
          null,
          328.76481678579006,
          -342.7402393790363,
          -304.87595959215463,
          -231.5768899594087,
          -254.74353853659733,
          -215.52862471845845,
          -215.52862471845827,
          -66.83121414782657,
          null,
          null,
          -241.45792382266177,
          -241.45792382266166,
          -248.050906976585,
          null,
          -69.60612444876779,
          -280.41995322438027,
          -173.96353098472161,
          null,
          null
         ],
         "xaxis": "x",
         "y": [
          "L137-181-1_InitialState",
          "L137-140-1_InitialState",
          "L46-81-1_InitialState",
          "L133-137-1_InitialState",
          "L81-195-1_InitialState",
          "L16-42-1_InitialState",
          "L45-60-1_InitialState",
          "L60-62-1_InitialState",
          "L167-169-1_InitialState",
          "L137-188-1_InitialState",
          "L118-119-1_InitialState",
          "T3-4-1_InitialState",
          "L4-16-1_InitialState",
          "L194-219-1_InitialState",
          "L115-122-1_InitialState",
          "L226-231-1_InitialState",
          "L42-46-1_InitialState",
          "L45-74-1_InitialState",
          "T164-155-1_InitialState",
          "L152-153-1_InitialState"
         ],
         "yaxis": "y"
        },
        {
         "alignmentgroup": "True",
         "hovertemplate": "Decomposition part:=loop_flow_from_hu<br>Flow decomposition value=%{x}<br>xnec_id=%{y}<extra></extra>",
         "legendgroup": "loop_flow_from_hu",
         "marker": {
          "color": "#C9FBE5",
          "pattern": {
           "shape": ""
          }
         },
         "name": "loop_flow_from_hu",
         "offsetgroup": "loop_flow_from_hu",
         "orientation": "h",
         "showlegend": true,
         "textposition": "auto",
         "texttemplate": "%{x:.0f}",
         "type": "bar",
         "x": [
          -638.8508697184793,
          -774.5667663662925,
          null,
          -216.4182086820917,
          null,
          null,
          -57.59087983860404,
          -57.590879838604046,
          -290.38114219794795,
          -691.9097310340557,
          -248.82373381597708,
          null,
          null,
          null,
          -88.6990251636964,
          null,
          null,
          null,
          -157.0412876298619,
          -192.04128762986193
         ],
         "xaxis": "x",
         "y": [
          "L137-181-1_InitialState",
          "L137-140-1_InitialState",
          "L46-81-1_InitialState",
          "L133-137-1_InitialState",
          "L81-195-1_InitialState",
          "L16-42-1_InitialState",
          "L45-60-1_InitialState",
          "L60-62-1_InitialState",
          "L167-169-1_InitialState",
          "L137-188-1_InitialState",
          "L118-119-1_InitialState",
          "T3-4-1_InitialState",
          "L4-16-1_InitialState",
          "L194-219-1_InitialState",
          "L115-122-1_InitialState",
          "L226-231-1_InitialState",
          "L42-46-1_InitialState",
          "L45-74-1_InitialState",
          "T164-155-1_InitialState",
          "L152-153-1_InitialState"
         ],
         "yaxis": "y"
        },
        {
         "alignmentgroup": "True",
         "hovertemplate": "Decomposition part:=loop_flow_from_ie<br>Flow decomposition value=%{x}<br>xnec_id=%{y}<extra></extra>",
         "legendgroup": "loop_flow_from_ie",
         "marker": {
          "color": "#FC0080",
          "pattern": {
           "shape": ""
          }
         },
         "name": "loop_flow_from_ie",
         "offsetgroup": "loop_flow_from_ie",
         "orientation": "h",
         "showlegend": true,
         "textposition": "auto",
         "texttemplate": "%{x:.0f}",
         "type": "bar",
         "x": [
          null,
          null,
          null,
          null,
          null,
          null,
          null,
          null,
          null,
          null,
          null,
          null,
          null,
          null,
          null,
          null,
          null,
          null,
          null,
          null
         ],
         "xaxis": "x",
         "y": [
          "L137-181-1_InitialState",
          "L137-140-1_InitialState",
          "L46-81-1_InitialState",
          "L133-137-1_InitialState",
          "L81-195-1_InitialState",
          "L16-42-1_InitialState",
          "L45-60-1_InitialState",
          "L60-62-1_InitialState",
          "L167-169-1_InitialState",
          "L137-188-1_InitialState",
          "L118-119-1_InitialState",
          "T3-4-1_InitialState",
          "L4-16-1_InitialState",
          "L194-219-1_InitialState",
          "L115-122-1_InitialState",
          "L226-231-1_InitialState",
          "L42-46-1_InitialState",
          "L45-74-1_InitialState",
          "T164-155-1_InitialState",
          "L152-153-1_InitialState"
         ],
         "yaxis": "y"
        },
        {
         "alignmentgroup": "True",
         "hovertemplate": "Decomposition part:=loop_flow_from_lt<br>Flow decomposition value=%{x}<br>xnec_id=%{y}<extra></extra>",
         "legendgroup": "loop_flow_from_lt",
         "marker": {
          "color": "#FB0D0D",
          "pattern": {
           "shape": ""
          }
         },
         "name": "loop_flow_from_lt",
         "offsetgroup": "loop_flow_from_lt",
         "orientation": "h",
         "showlegend": true,
         "textposition": "auto",
         "texttemplate": "%{x:.0f}",
         "type": "bar",
         "x": [
          null,
          null,
          null,
          398.50051347346846,
          null,
          null,
          null,
          null,
          92.89270910697041,
          null,
          null,
          null,
          null,
          47.14404153060256,
          null,
          null,
          null,
          null,
          95.42197508037914,
          95.42197508037914
         ],
         "xaxis": "x",
         "y": [
          "L137-181-1_InitialState",
          "L137-140-1_InitialState",
          "L46-81-1_InitialState",
          "L133-137-1_InitialState",
          "L81-195-1_InitialState",
          "L16-42-1_InitialState",
          "L45-60-1_InitialState",
          "L60-62-1_InitialState",
          "L167-169-1_InitialState",
          "L137-188-1_InitialState",
          "L118-119-1_InitialState",
          "T3-4-1_InitialState",
          "L4-16-1_InitialState",
          "L194-219-1_InitialState",
          "L115-122-1_InitialState",
          "L226-231-1_InitialState",
          "L42-46-1_InitialState",
          "L45-74-1_InitialState",
          "T164-155-1_InitialState",
          "L152-153-1_InitialState"
         ],
         "yaxis": "y"
        },
        {
         "alignmentgroup": "True",
         "hovertemplate": "Decomposition part:=loop_flow_from_lu<br>Flow decomposition value=%{x}<br>xnec_id=%{y}<extra></extra>",
         "legendgroup": "loop_flow_from_lu",
         "marker": {
          "color": "#D626FF",
          "pattern": {
           "shape": ""
          }
         },
         "name": "loop_flow_from_lu",
         "offsetgroup": "loop_flow_from_lu",
         "orientation": "h",
         "showlegend": true,
         "textposition": "auto",
         "texttemplate": "%{x:.0f}",
         "type": "bar",
         "x": [
          null,
          null,
          null,
          null,
          null,
          null,
          null,
          null,
          null,
          null,
          null,
          null,
          null,
          null,
          null,
          -112.85971334458465,
          null,
          null,
          -56.891792377184395,
          74.60789824620912
         ],
         "xaxis": "x",
         "y": [
          "L137-181-1_InitialState",
          "L137-140-1_InitialState",
          "L46-81-1_InitialState",
          "L133-137-1_InitialState",
          "L81-195-1_InitialState",
          "L16-42-1_InitialState",
          "L45-60-1_InitialState",
          "L60-62-1_InitialState",
          "L167-169-1_InitialState",
          "L137-188-1_InitialState",
          "L118-119-1_InitialState",
          "T3-4-1_InitialState",
          "L4-16-1_InitialState",
          "L194-219-1_InitialState",
          "L115-122-1_InitialState",
          "L226-231-1_InitialState",
          "L42-46-1_InitialState",
          "L45-74-1_InitialState",
          "T164-155-1_InitialState",
          "L152-153-1_InitialState"
         ],
         "yaxis": "y"
        },
        {
         "alignmentgroup": "True",
         "hovertemplate": "Decomposition part:=pst_flow<br>Flow decomposition value=%{x}<br>xnec_id=%{y}<extra></extra>",
         "legendgroup": "pst_flow",
         "marker": {
          "color": "#DA16FF",
          "pattern": {
           "shape": ""
          }
         },
         "name": "pst_flow",
         "offsetgroup": "pst_flow",
         "orientation": "h",
         "showlegend": true,
         "textposition": "auto",
         "texttemplate": "%{x:.0f}",
         "type": "bar",
         "x": [
          null,
          null,
          null,
          null,
          null,
          null,
          null,
          null,
          null,
          null,
          null,
          null,
          null,
          null,
          null,
          null,
          null,
          null,
          null,
          null
         ],
         "xaxis": "x",
         "y": [
          "L137-181-1_InitialState",
          "L137-140-1_InitialState",
          "L46-81-1_InitialState",
          "L133-137-1_InitialState",
          "L81-195-1_InitialState",
          "L16-42-1_InitialState",
          "L45-60-1_InitialState",
          "L60-62-1_InitialState",
          "L167-169-1_InitialState",
          "L137-188-1_InitialState",
          "L118-119-1_InitialState",
          "T3-4-1_InitialState",
          "L4-16-1_InitialState",
          "L194-219-1_InitialState",
          "L115-122-1_InitialState",
          "L226-231-1_InitialState",
          "L42-46-1_InitialState",
          "L45-74-1_InitialState",
          "T164-155-1_InitialState",
          "L152-153-1_InitialState"
         ],
         "yaxis": "y"
        },
        {
         "alignmentgroup": "True",
         "hovertemplate": "Decomposition part:=masked_flows_positive<br>Flow decomposition value=%{x}<br>xnec_id=%{y}<extra></extra>",
         "legendgroup": "masked_flows_positive",
         "marker": {
          "color": "#86CE00",
          "pattern": {
           "shape": ""
          }
         },
         "name": "masked_flows_positive",
         "offsetgroup": "masked_flows_positive",
         "orientation": "h",
         "showlegend": true,
         "textposition": "auto",
         "texttemplate": "%{x:.0f}",
         "type": "bar",
         "x": [
          0.8274621044491605,
          26.51049405559813,
          28.03480708836767,
          78.27164503612859,
          4.739395249336118,
          96.1971037091701,
          25.402245369245627,
          25.402245369245563,
          22.16156499824816,
          1.0335127580677794,
          0.5088086934460287,
          109.37511762739649,
          109.37511762739808,
          9.637136961554,
          0.24720937133969995,
          1.8407409777126067,
          118.7829613362461,
          42.11504931407945,
          0.0006479045100204403,
          0.3852773042029925
         ],
         "xaxis": "x",
         "y": [
          "L137-181-1_InitialState",
          "L137-140-1_InitialState",
          "L46-81-1_InitialState",
          "L133-137-1_InitialState",
          "L81-195-1_InitialState",
          "L16-42-1_InitialState",
          "L45-60-1_InitialState",
          "L60-62-1_InitialState",
          "L167-169-1_InitialState",
          "L137-188-1_InitialState",
          "L118-119-1_InitialState",
          "T3-4-1_InitialState",
          "L4-16-1_InitialState",
          "L194-219-1_InitialState",
          "L115-122-1_InitialState",
          "L226-231-1_InitialState",
          "L42-46-1_InitialState",
          "L45-74-1_InitialState",
          "T164-155-1_InitialState",
          "L152-153-1_InitialState"
         ],
         "yaxis": "y"
        },
        {
         "alignmentgroup": "True",
         "hovertemplate": "Decomposition part:=masked_flows_negative<br>Flow decomposition value=%{x}<br>xnec_id=%{y}<extra></extra>",
         "legendgroup": "masked_flows_negative",
         "marker": {
          "color": "#6A76FC",
          "pattern": {
           "shape": ""
          }
         },
         "name": "masked_flows_negative",
         "offsetgroup": "masked_flows_negative",
         "orientation": "h",
         "showlegend": true,
         "textposition": "auto",
         "texttemplate": "%{x:.0f}",
         "type": "bar",
         "x": [
          -2.7711166694643907e-13,
          -86.64368109163176,
          -65.81782835167635,
          -1.3032204352282335,
          -26.02342264836021,
          -3.7655639019666705,
          -30.298916671538887,
          -30.29891667153888,
          -32.599721322861775,
          -7.915890165577366e-14,
          -3.126665593100597e-14,
          -2.39320156344624,
          -2.3932015634462895,
          -6.04861533915769,
          -2.5875135367670055e-14,
          -5.714494816574918,
          -7.795087304348749,
          -28.463331927740473,
          -5.568795214166961,
          -5.191519851955039
         ],
         "xaxis": "x",
         "y": [
          "L137-181-1_InitialState",
          "L137-140-1_InitialState",
          "L46-81-1_InitialState",
          "L133-137-1_InitialState",
          "L81-195-1_InitialState",
          "L16-42-1_InitialState",
          "L45-60-1_InitialState",
          "L60-62-1_InitialState",
          "L167-169-1_InitialState",
          "L137-188-1_InitialState",
          "L118-119-1_InitialState",
          "T3-4-1_InitialState",
          "L4-16-1_InitialState",
          "L194-219-1_InitialState",
          "L115-122-1_InitialState",
          "L226-231-1_InitialState",
          "L42-46-1_InitialState",
          "L45-74-1_InitialState",
          "T164-155-1_InitialState",
          "L152-153-1_InitialState"
         ],
         "yaxis": "y"
        },
        {
         "mode": "lines+markers",
         "name": "total_flow",
         "type": "scatter",
         "x": [
          95.14848172543881,
          318.39853093850104,
          256.5241459399375,
          718.3241559707751,
          68.95517580739958,
          439.01715148135906,
          250.30770475863585,
          250.30770475863565,
          35.35365026393416,
          435.7399472475529,
          592.1839806741855,
          778.5271987640213,
          778.5271987640218,
          92.6240941597063,
          48.481203322681424,
          10.473563756884957,
          552.8304851848867,
          209.71708252469892,
          230.4873371796835,
          27.224162576508675
         ],
         "y": [
          "L137-181-1_InitialState",
          "L137-140-1_InitialState",
          "L46-81-1_InitialState",
          "L133-137-1_InitialState",
          "L81-195-1_InitialState",
          "L16-42-1_InitialState",
          "L45-60-1_InitialState",
          "L60-62-1_InitialState",
          "L167-169-1_InitialState",
          "L137-188-1_InitialState",
          "L118-119-1_InitialState",
          "T3-4-1_InitialState",
          "L4-16-1_InitialState",
          "L194-219-1_InitialState",
          "L115-122-1_InitialState",
          "L226-231-1_InitialState",
          "L42-46-1_InitialState",
          "L45-74-1_InitialState",
          "T164-155-1_InitialState",
          "L152-153-1_InitialState"
         ]
        },
        {
         "mode": "lines+markers",
         "name": "total_loop_flow",
         "type": "scatter",
         "x": [
          -638.0234076140304,
          -505.9351366165361,
          -367.52566294567475,
          -341.07249421745,
          -335.2947388009355,
          -288.1978405360074,
          -278.01617585935577,
          -278.01617585935566,
          -274.75780356341767,
          -262.8634204868266,
          -248.31492512253106,
          -243.75089691220248,
          -243.75089691220103,
          -236.5732251252033,
          -192.53481156294035,
          -186.33959163221473,
          -169.4320791924829,
          -160.31181359838263,
          -124.0792522363241,
          -115.80509999479352
         ],
         "y": [
          "L137-181-1_InitialState",
          "L137-140-1_InitialState",
          "L46-81-1_InitialState",
          "L133-137-1_InitialState",
          "L81-195-1_InitialState",
          "L16-42-1_InitialState",
          "L45-60-1_InitialState",
          "L60-62-1_InitialState",
          "L167-169-1_InitialState",
          "L137-188-1_InitialState",
          "L118-119-1_InitialState",
          "T3-4-1_InitialState",
          "L4-16-1_InitialState",
          "L194-219-1_InitialState",
          "L115-122-1_InitialState",
          "L226-231-1_InitialState",
          "L42-46-1_InitialState",
          "L45-74-1_InitialState",
          "T164-155-1_InitialState",
          "L152-153-1_InitialState"
         ]
        }
       ],
       "layout": {
        "barmode": "relative",
        "height": 1000,
        "legend": {
         "title": {
          "text": "Decomposition part:"
         },
         "tracegroupgap": 0
        },
        "template": {
         "data": {
          "bar": [
           {
            "error_x": {
             "color": "rgb(36,36,36)"
            },
            "error_y": {
             "color": "rgb(36,36,36)"
            },
            "marker": {
             "line": {
              "color": "rgb(234,234,242)",
              "width": 0.5
             },
             "pattern": {
              "fillmode": "overlay",
              "size": 10,
              "solidity": 0.2
             }
            },
            "type": "bar"
           }
          ],
          "barpolar": [
           {
            "marker": {
             "line": {
              "color": "rgb(234,234,242)",
              "width": 0.5
             },
             "pattern": {
              "fillmode": "overlay",
              "size": 10,
              "solidity": 0.2
             }
            },
            "type": "barpolar"
           }
          ],
          "carpet": [
           {
            "aaxis": {
             "endlinecolor": "rgb(36,36,36)",
             "gridcolor": "white",
             "linecolor": "white",
             "minorgridcolor": "white",
             "startlinecolor": "rgb(36,36,36)"
            },
            "baxis": {
             "endlinecolor": "rgb(36,36,36)",
             "gridcolor": "white",
             "linecolor": "white",
             "minorgridcolor": "white",
             "startlinecolor": "rgb(36,36,36)"
            },
            "type": "carpet"
           }
          ],
          "choropleth": [
           {
            "colorbar": {
             "outlinewidth": 0,
             "tickcolor": "rgb(36,36,36)",
             "ticklen": 8,
             "ticks": "outside",
             "tickwidth": 2
            },
            "type": "choropleth"
           }
          ],
          "contour": [
           {
            "colorbar": {
             "outlinewidth": 0,
             "tickcolor": "rgb(36,36,36)",
             "ticklen": 8,
             "ticks": "outside",
             "tickwidth": 2
            },
            "colorscale": [
             [
              0,
              "rgb(2,4,25)"
             ],
             [
              0.06274509803921569,
              "rgb(24,15,41)"
             ],
             [
              0.12549019607843137,
              "rgb(47,23,57)"
             ],
             [
              0.18823529411764706,
              "rgb(71,28,72)"
             ],
             [
              0.25098039215686274,
              "rgb(97,30,82)"
             ],
             [
              0.3137254901960784,
              "rgb(123,30,89)"
             ],
             [
              0.3764705882352941,
              "rgb(150,27,91)"
             ],
             [
              0.4392156862745098,
              "rgb(177,22,88)"
             ],
             [
              0.5019607843137255,
              "rgb(203,26,79)"
             ],
             [
              0.5647058823529412,
              "rgb(223,47,67)"
             ],
             [
              0.6274509803921569,
              "rgb(236,76,61)"
             ],
             [
              0.6901960784313725,
              "rgb(242,107,73)"
             ],
             [
              0.7529411764705882,
              "rgb(244,135,95)"
             ],
             [
              0.8156862745098039,
              "rgb(245,162,122)"
             ],
             [
              0.8784313725490196,
              "rgb(246,188,153)"
             ],
             [
              0.9411764705882353,
              "rgb(247,212,187)"
             ],
             [
              1,
              "rgb(250,234,220)"
             ]
            ],
            "type": "contour"
           }
          ],
          "contourcarpet": [
           {
            "colorbar": {
             "outlinewidth": 0,
             "tickcolor": "rgb(36,36,36)",
             "ticklen": 8,
             "ticks": "outside",
             "tickwidth": 2
            },
            "type": "contourcarpet"
           }
          ],
          "heatmap": [
           {
            "colorbar": {
             "outlinewidth": 0,
             "tickcolor": "rgb(36,36,36)",
             "ticklen": 8,
             "ticks": "outside",
             "tickwidth": 2
            },
            "colorscale": [
             [
              0,
              "rgb(2,4,25)"
             ],
             [
              0.06274509803921569,
              "rgb(24,15,41)"
             ],
             [
              0.12549019607843137,
              "rgb(47,23,57)"
             ],
             [
              0.18823529411764706,
              "rgb(71,28,72)"
             ],
             [
              0.25098039215686274,
              "rgb(97,30,82)"
             ],
             [
              0.3137254901960784,
              "rgb(123,30,89)"
             ],
             [
              0.3764705882352941,
              "rgb(150,27,91)"
             ],
             [
              0.4392156862745098,
              "rgb(177,22,88)"
             ],
             [
              0.5019607843137255,
              "rgb(203,26,79)"
             ],
             [
              0.5647058823529412,
              "rgb(223,47,67)"
             ],
             [
              0.6274509803921569,
              "rgb(236,76,61)"
             ],
             [
              0.6901960784313725,
              "rgb(242,107,73)"
             ],
             [
              0.7529411764705882,
              "rgb(244,135,95)"
             ],
             [
              0.8156862745098039,
              "rgb(245,162,122)"
             ],
             [
              0.8784313725490196,
              "rgb(246,188,153)"
             ],
             [
              0.9411764705882353,
              "rgb(247,212,187)"
             ],
             [
              1,
              "rgb(250,234,220)"
             ]
            ],
            "type": "heatmap"
           }
          ],
          "heatmapgl": [
           {
            "colorbar": {
             "outlinewidth": 0,
             "tickcolor": "rgb(36,36,36)",
             "ticklen": 8,
             "ticks": "outside",
             "tickwidth": 2
            },
            "colorscale": [
             [
              0,
              "rgb(2,4,25)"
             ],
             [
              0.06274509803921569,
              "rgb(24,15,41)"
             ],
             [
              0.12549019607843137,
              "rgb(47,23,57)"
             ],
             [
              0.18823529411764706,
              "rgb(71,28,72)"
             ],
             [
              0.25098039215686274,
              "rgb(97,30,82)"
             ],
             [
              0.3137254901960784,
              "rgb(123,30,89)"
             ],
             [
              0.3764705882352941,
              "rgb(150,27,91)"
             ],
             [
              0.4392156862745098,
              "rgb(177,22,88)"
             ],
             [
              0.5019607843137255,
              "rgb(203,26,79)"
             ],
             [
              0.5647058823529412,
              "rgb(223,47,67)"
             ],
             [
              0.6274509803921569,
              "rgb(236,76,61)"
             ],
             [
              0.6901960784313725,
              "rgb(242,107,73)"
             ],
             [
              0.7529411764705882,
              "rgb(244,135,95)"
             ],
             [
              0.8156862745098039,
              "rgb(245,162,122)"
             ],
             [
              0.8784313725490196,
              "rgb(246,188,153)"
             ],
             [
              0.9411764705882353,
              "rgb(247,212,187)"
             ],
             [
              1,
              "rgb(250,234,220)"
             ]
            ],
            "type": "heatmapgl"
           }
          ],
          "histogram": [
           {
            "marker": {
             "pattern": {
              "fillmode": "overlay",
              "size": 10,
              "solidity": 0.2
             }
            },
            "type": "histogram"
           }
          ],
          "histogram2d": [
           {
            "colorbar": {
             "outlinewidth": 0,
             "tickcolor": "rgb(36,36,36)",
             "ticklen": 8,
             "ticks": "outside",
             "tickwidth": 2
            },
            "colorscale": [
             [
              0,
              "rgb(2,4,25)"
             ],
             [
              0.06274509803921569,
              "rgb(24,15,41)"
             ],
             [
              0.12549019607843137,
              "rgb(47,23,57)"
             ],
             [
              0.18823529411764706,
              "rgb(71,28,72)"
             ],
             [
              0.25098039215686274,
              "rgb(97,30,82)"
             ],
             [
              0.3137254901960784,
              "rgb(123,30,89)"
             ],
             [
              0.3764705882352941,
              "rgb(150,27,91)"
             ],
             [
              0.4392156862745098,
              "rgb(177,22,88)"
             ],
             [
              0.5019607843137255,
              "rgb(203,26,79)"
             ],
             [
              0.5647058823529412,
              "rgb(223,47,67)"
             ],
             [
              0.6274509803921569,
              "rgb(236,76,61)"
             ],
             [
              0.6901960784313725,
              "rgb(242,107,73)"
             ],
             [
              0.7529411764705882,
              "rgb(244,135,95)"
             ],
             [
              0.8156862745098039,
              "rgb(245,162,122)"
             ],
             [
              0.8784313725490196,
              "rgb(246,188,153)"
             ],
             [
              0.9411764705882353,
              "rgb(247,212,187)"
             ],
             [
              1,
              "rgb(250,234,220)"
             ]
            ],
            "type": "histogram2d"
           }
          ],
          "histogram2dcontour": [
           {
            "colorbar": {
             "outlinewidth": 0,
             "tickcolor": "rgb(36,36,36)",
             "ticklen": 8,
             "ticks": "outside",
             "tickwidth": 2
            },
            "colorscale": [
             [
              0,
              "rgb(2,4,25)"
             ],
             [
              0.06274509803921569,
              "rgb(24,15,41)"
             ],
             [
              0.12549019607843137,
              "rgb(47,23,57)"
             ],
             [
              0.18823529411764706,
              "rgb(71,28,72)"
             ],
             [
              0.25098039215686274,
              "rgb(97,30,82)"
             ],
             [
              0.3137254901960784,
              "rgb(123,30,89)"
             ],
             [
              0.3764705882352941,
              "rgb(150,27,91)"
             ],
             [
              0.4392156862745098,
              "rgb(177,22,88)"
             ],
             [
              0.5019607843137255,
              "rgb(203,26,79)"
             ],
             [
              0.5647058823529412,
              "rgb(223,47,67)"
             ],
             [
              0.6274509803921569,
              "rgb(236,76,61)"
             ],
             [
              0.6901960784313725,
              "rgb(242,107,73)"
             ],
             [
              0.7529411764705882,
              "rgb(244,135,95)"
             ],
             [
              0.8156862745098039,
              "rgb(245,162,122)"
             ],
             [
              0.8784313725490196,
              "rgb(246,188,153)"
             ],
             [
              0.9411764705882353,
              "rgb(247,212,187)"
             ],
             [
              1,
              "rgb(250,234,220)"
             ]
            ],
            "type": "histogram2dcontour"
           }
          ],
          "mesh3d": [
           {
            "colorbar": {
             "outlinewidth": 0,
             "tickcolor": "rgb(36,36,36)",
             "ticklen": 8,
             "ticks": "outside",
             "tickwidth": 2
            },
            "type": "mesh3d"
           }
          ],
          "parcoords": [
           {
            "line": {
             "colorbar": {
              "outlinewidth": 0,
              "tickcolor": "rgb(36,36,36)",
              "ticklen": 8,
              "ticks": "outside",
              "tickwidth": 2
             }
            },
            "type": "parcoords"
           }
          ],
          "pie": [
           {
            "automargin": true,
            "type": "pie"
           }
          ],
          "scatter": [
           {
            "fillpattern": {
             "fillmode": "overlay",
             "size": 10,
             "solidity": 0.2
            },
            "type": "scatter"
           }
          ],
          "scatter3d": [
           {
            "line": {
             "colorbar": {
              "outlinewidth": 0,
              "tickcolor": "rgb(36,36,36)",
              "ticklen": 8,
              "ticks": "outside",
              "tickwidth": 2
             }
            },
            "marker": {
             "colorbar": {
              "outlinewidth": 0,
              "tickcolor": "rgb(36,36,36)",
              "ticklen": 8,
              "ticks": "outside",
              "tickwidth": 2
             }
            },
            "type": "scatter3d"
           }
          ],
          "scattercarpet": [
           {
            "marker": {
             "colorbar": {
              "outlinewidth": 0,
              "tickcolor": "rgb(36,36,36)",
              "ticklen": 8,
              "ticks": "outside",
              "tickwidth": 2
             }
            },
            "type": "scattercarpet"
           }
          ],
          "scattergeo": [
           {
            "marker": {
             "colorbar": {
              "outlinewidth": 0,
              "tickcolor": "rgb(36,36,36)",
              "ticklen": 8,
              "ticks": "outside",
              "tickwidth": 2
             }
            },
            "type": "scattergeo"
           }
          ],
          "scattergl": [
           {
            "marker": {
             "colorbar": {
              "outlinewidth": 0,
              "tickcolor": "rgb(36,36,36)",
              "ticklen": 8,
              "ticks": "outside",
              "tickwidth": 2
             }
            },
            "type": "scattergl"
           }
          ],
          "scattermapbox": [
           {
            "marker": {
             "colorbar": {
              "outlinewidth": 0,
              "tickcolor": "rgb(36,36,36)",
              "ticklen": 8,
              "ticks": "outside",
              "tickwidth": 2
             }
            },
            "type": "scattermapbox"
           }
          ],
          "scatterpolar": [
           {
            "marker": {
             "colorbar": {
              "outlinewidth": 0,
              "tickcolor": "rgb(36,36,36)",
              "ticklen": 8,
              "ticks": "outside",
              "tickwidth": 2
             }
            },
            "type": "scatterpolar"
           }
          ],
          "scatterpolargl": [
           {
            "marker": {
             "colorbar": {
              "outlinewidth": 0,
              "tickcolor": "rgb(36,36,36)",
              "ticklen": 8,
              "ticks": "outside",
              "tickwidth": 2
             }
            },
            "type": "scatterpolargl"
           }
          ],
          "scatterternary": [
           {
            "marker": {
             "colorbar": {
              "outlinewidth": 0,
              "tickcolor": "rgb(36,36,36)",
              "ticklen": 8,
              "ticks": "outside",
              "tickwidth": 2
             }
            },
            "type": "scatterternary"
           }
          ],
          "surface": [
           {
            "colorbar": {
             "outlinewidth": 0,
             "tickcolor": "rgb(36,36,36)",
             "ticklen": 8,
             "ticks": "outside",
             "tickwidth": 2
            },
            "colorscale": [
             [
              0,
              "rgb(2,4,25)"
             ],
             [
              0.06274509803921569,
              "rgb(24,15,41)"
             ],
             [
              0.12549019607843137,
              "rgb(47,23,57)"
             ],
             [
              0.18823529411764706,
              "rgb(71,28,72)"
             ],
             [
              0.25098039215686274,
              "rgb(97,30,82)"
             ],
             [
              0.3137254901960784,
              "rgb(123,30,89)"
             ],
             [
              0.3764705882352941,
              "rgb(150,27,91)"
             ],
             [
              0.4392156862745098,
              "rgb(177,22,88)"
             ],
             [
              0.5019607843137255,
              "rgb(203,26,79)"
             ],
             [
              0.5647058823529412,
              "rgb(223,47,67)"
             ],
             [
              0.6274509803921569,
              "rgb(236,76,61)"
             ],
             [
              0.6901960784313725,
              "rgb(242,107,73)"
             ],
             [
              0.7529411764705882,
              "rgb(244,135,95)"
             ],
             [
              0.8156862745098039,
              "rgb(245,162,122)"
             ],
             [
              0.8784313725490196,
              "rgb(246,188,153)"
             ],
             [
              0.9411764705882353,
              "rgb(247,212,187)"
             ],
             [
              1,
              "rgb(250,234,220)"
             ]
            ],
            "type": "surface"
           }
          ],
          "table": [
           {
            "cells": {
             "fill": {
              "color": "rgb(231,231,240)"
             },
             "line": {
              "color": "white"
             }
            },
            "header": {
             "fill": {
              "color": "rgb(183,183,191)"
             },
             "line": {
              "color": "white"
             }
            },
            "type": "table"
           }
          ]
         },
         "layout": {
          "annotationdefaults": {
           "arrowcolor": "rgb(67,103,167)"
          },
          "autotypenumbers": "strict",
          "coloraxis": {
           "colorbar": {
            "outlinewidth": 0,
            "tickcolor": "rgb(36,36,36)",
            "ticklen": 8,
            "ticks": "outside",
            "tickwidth": 2
           }
          },
          "colorscale": {
           "sequential": [
            [
             0,
             "rgb(2,4,25)"
            ],
            [
             0.06274509803921569,
             "rgb(24,15,41)"
            ],
            [
             0.12549019607843137,
             "rgb(47,23,57)"
            ],
            [
             0.18823529411764706,
             "rgb(71,28,72)"
            ],
            [
             0.25098039215686274,
             "rgb(97,30,82)"
            ],
            [
             0.3137254901960784,
             "rgb(123,30,89)"
            ],
            [
             0.3764705882352941,
             "rgb(150,27,91)"
            ],
            [
             0.4392156862745098,
             "rgb(177,22,88)"
            ],
            [
             0.5019607843137255,
             "rgb(203,26,79)"
            ],
            [
             0.5647058823529412,
             "rgb(223,47,67)"
            ],
            [
             0.6274509803921569,
             "rgb(236,76,61)"
            ],
            [
             0.6901960784313725,
             "rgb(242,107,73)"
            ],
            [
             0.7529411764705882,
             "rgb(244,135,95)"
            ],
            [
             0.8156862745098039,
             "rgb(245,162,122)"
            ],
            [
             0.8784313725490196,
             "rgb(246,188,153)"
            ],
            [
             0.9411764705882353,
             "rgb(247,212,187)"
            ],
            [
             1,
             "rgb(250,234,220)"
            ]
           ],
           "sequentialminus": [
            [
             0,
             "rgb(2,4,25)"
            ],
            [
             0.06274509803921569,
             "rgb(24,15,41)"
            ],
            [
             0.12549019607843137,
             "rgb(47,23,57)"
            ],
            [
             0.18823529411764706,
             "rgb(71,28,72)"
            ],
            [
             0.25098039215686274,
             "rgb(97,30,82)"
            ],
            [
             0.3137254901960784,
             "rgb(123,30,89)"
            ],
            [
             0.3764705882352941,
             "rgb(150,27,91)"
            ],
            [
             0.4392156862745098,
             "rgb(177,22,88)"
            ],
            [
             0.5019607843137255,
             "rgb(203,26,79)"
            ],
            [
             0.5647058823529412,
             "rgb(223,47,67)"
            ],
            [
             0.6274509803921569,
             "rgb(236,76,61)"
            ],
            [
             0.6901960784313725,
             "rgb(242,107,73)"
            ],
            [
             0.7529411764705882,
             "rgb(244,135,95)"
            ],
            [
             0.8156862745098039,
             "rgb(245,162,122)"
            ],
            [
             0.8784313725490196,
             "rgb(246,188,153)"
            ],
            [
             0.9411764705882353,
             "rgb(247,212,187)"
            ],
            [
             1,
             "rgb(250,234,220)"
            ]
           ]
          },
          "colorway": [
           "rgb(76,114,176)",
           "rgb(221,132,82)",
           "rgb(85,168,104)",
           "rgb(196,78,82)",
           "rgb(129,114,179)",
           "rgb(147,120,96)",
           "rgb(218,139,195)",
           "rgb(140,140,140)",
           "rgb(204,185,116)",
           "rgb(100,181,205)"
          ],
          "font": {
           "color": "rgb(36,36,36)"
          },
          "geo": {
           "bgcolor": "white",
           "lakecolor": "white",
           "landcolor": "rgb(234,234,242)",
           "showlakes": true,
           "showland": true,
           "subunitcolor": "white"
          },
          "hoverlabel": {
           "align": "left"
          },
          "hovermode": "closest",
          "paper_bgcolor": "white",
          "plot_bgcolor": "rgb(234,234,242)",
          "polar": {
           "angularaxis": {
            "gridcolor": "white",
            "linecolor": "white",
            "showgrid": true,
            "ticks": ""
           },
           "bgcolor": "rgb(234,234,242)",
           "radialaxis": {
            "gridcolor": "white",
            "linecolor": "white",
            "showgrid": true,
            "ticks": ""
           }
          },
          "scene": {
           "xaxis": {
            "backgroundcolor": "rgb(234,234,242)",
            "gridcolor": "white",
            "gridwidth": 2,
            "linecolor": "white",
            "showbackground": true,
            "showgrid": true,
            "ticks": "",
            "zerolinecolor": "white"
           },
           "yaxis": {
            "backgroundcolor": "rgb(234,234,242)",
            "gridcolor": "white",
            "gridwidth": 2,
            "linecolor": "white",
            "showbackground": true,
            "showgrid": true,
            "ticks": "",
            "zerolinecolor": "white"
           },
           "zaxis": {
            "backgroundcolor": "rgb(234,234,242)",
            "gridcolor": "white",
            "gridwidth": 2,
            "linecolor": "white",
            "showbackground": true,
            "showgrid": true,
            "ticks": "",
            "zerolinecolor": "white"
           }
          },
          "shapedefaults": {
           "fillcolor": "rgb(67,103,167)",
           "line": {
            "width": 0
           },
           "opacity": 0.5
          },
          "ternary": {
           "aaxis": {
            "gridcolor": "white",
            "linecolor": "white",
            "showgrid": true,
            "ticks": ""
           },
           "baxis": {
            "gridcolor": "white",
            "linecolor": "white",
            "showgrid": true,
            "ticks": ""
           },
           "bgcolor": "rgb(234,234,242)",
           "caxis": {
            "gridcolor": "white",
            "linecolor": "white",
            "showgrid": true,
            "ticks": ""
           }
          },
          "xaxis": {
           "automargin": true,
           "gridcolor": "white",
           "linecolor": "white",
           "showgrid": true,
           "ticks": "",
           "title": {
            "standoff": 15
           },
           "zerolinecolor": "white"
          },
          "yaxis": {
           "automargin": true,
           "gridcolor": "white",
           "linecolor": "white",
           "showgrid": true,
           "ticks": "",
           "title": {
            "standoff": 15
           },
           "zerolinecolor": "white"
          }
         }
        },
        "title": {
         "text": "Sorted by: total_loop_flow, ascending: True, head: 20"
        },
        "xaxis": {
         "anchor": "y",
         "domain": [
          0,
          1
         ],
         "title": {
          "text": "Flow decomposition value"
         }
        },
        "yaxis": {
         "anchor": "x",
         "domain": [
          0,
          1
         ],
         "title": {
          "text": "xnec_id"
         }
        }
       }
      }
     },
     "metadata": {},
     "output_type": "display_data"
    }
   ],
   "source": [
    "flow_decomposition_bar_chart('total_loop_flow', ascending=True)"
   ]
  },
  {
   "cell_type": "code",
   "execution_count": 11,
   "metadata": {},
   "outputs": [
    {
     "data": {
      "application/vnd.plotly.v1+json": {
       "config": {
        "plotlyServerURL": "https://plot.ly"
       },
       "data": [
        {
         "alignmentgroup": "True",
         "hovertemplate": "Decomposition part:=commercial_flow<br>Flow decomposition value=%{x}<br>xnec_id=%{y}<extra></extra>",
         "legendgroup": "commercial_flow",
         "marker": {
          "color": "#0DF9FF",
          "pattern": {
           "shape": ""
          }
         },
         "name": "commercial_flow",
         "offsetgroup": "commercial_flow",
         "orientation": "h",
         "showlegend": true,
         "textposition": "auto",
         "texttemplate": "%{x:.0f}",
         "type": "bar",
         "x": [
          -1537.4615889419056,
          200.56191873477565,
          -117.32281763010323,
          267.2440997027553,
          267.2440997027563,
          1059.396650188225,
          271.50349520329894,
          382.4629051749174,
          317.86041033840024,
          -109.62951811337511,
          373.14330278214027,
          102.89490684010511,
          -33.44531731391746,
          541.4744724464559,
          -32.10693156991271,
          91.24807407583529,
          91.2480740758346,
          91.24807407583447,
          640.2776427383893,
          null
         ],
         "xaxis": "x",
         "y": [
          "T7130-130-1_InitialState",
          "T7003-3-1_InitialState",
          "L191-192-1_InitialState",
          "L4-16-1_InitialState",
          "T3-4-1_InitialState",
          "L133-137-1_InitialState",
          "L119-120-1_InitialState",
          "T7139-139-1_InitialState",
          "L186-188-1_InitialState",
          "L225-191-1_InitialState",
          "L181-187-1_InitialState",
          "T7002-2-1_InitialState",
          "T234-236-1_InitialState",
          "L118-119-1_InitialState",
          "T241-237-1_InitialState",
          "L165-166-1_InitialState",
          "T7166-166-1_InitialState",
          "L162-165-1_InitialState",
          "L42-46-1_InitialState",
          "L231-232-1_InitialState"
         ],
         "yaxis": "y"
        },
        {
         "alignmentgroup": "True",
         "hovertemplate": "Decomposition part:=internal_flow<br>Flow decomposition value=%{x}<br>xnec_id=%{y}<extra></extra>",
         "legendgroup": "internal_flow",
         "marker": {
          "color": "#AF0038",
          "pattern": {
           "shape": ""
          }
         },
         "name": "internal_flow",
         "offsetgroup": "internal_flow",
         "orientation": "h",
         "showlegend": true,
         "textposition": "auto",
         "texttemplate": "%{x:.0f}",
         "type": "bar",
         "x": [
          2829.436509576826,
          1009.413001900145,
          945.4793443990039,
          755.0339959734674,
          755.0339959734673,
          null,
          null,
          317.5120154600027,
          null,
          765.4479119793963,
          286.2185230454435,
          520.0800137948156,
          633.4202379488395,
          299.02443335026067,
          607.5118522048326,
          461.72684655908716,
          461.72684655908654,
          461.7268465590863,
          81.98492163898024,
          534.9214683271724
         ],
         "xaxis": "x",
         "y": [
          "T7130-130-1_InitialState",
          "T7003-3-1_InitialState",
          "L191-192-1_InitialState",
          "L4-16-1_InitialState",
          "T3-4-1_InitialState",
          "L133-137-1_InitialState",
          "L119-120-1_InitialState",
          "T7139-139-1_InitialState",
          "L186-188-1_InitialState",
          "L225-191-1_InitialState",
          "L181-187-1_InitialState",
          "T7002-2-1_InitialState",
          "T234-236-1_InitialState",
          "L118-119-1_InitialState",
          "T241-237-1_InitialState",
          "L165-166-1_InitialState",
          "T7166-166-1_InitialState",
          "L162-165-1_InitialState",
          "L42-46-1_InitialState",
          "L231-232-1_InitialState"
         ],
         "yaxis": "y"
        },
        {
         "alignmentgroup": "True",
         "hovertemplate": "Decomposition part:=loop_flow_from_bg<br>Flow decomposition value=%{x}<br>xnec_id=%{y}<extra></extra>",
         "legendgroup": "loop_flow_from_bg",
         "marker": {
          "color": "#FD3216",
          "pattern": {
           "shape": ""
          }
         },
         "name": "loop_flow_from_bg",
         "offsetgroup": "loop_flow_from_bg",
         "orientation": "h",
         "showlegend": true,
         "textposition": "auto",
         "texttemplate": "%{x:.0f}",
         "type": "bar",
         "x": [
          null,
          null,
          null,
          null,
          null,
          null,
          null,
          null,
          null,
          null,
          null,
          null,
          null,
          null,
          null,
          null,
          null,
          null,
          null,
          null
         ],
         "xaxis": "x",
         "y": [
          "T7130-130-1_InitialState",
          "T7003-3-1_InitialState",
          "L191-192-1_InitialState",
          "L4-16-1_InitialState",
          "T3-4-1_InitialState",
          "L133-137-1_InitialState",
          "L119-120-1_InitialState",
          "T7139-139-1_InitialState",
          "L186-188-1_InitialState",
          "L225-191-1_InitialState",
          "L181-187-1_InitialState",
          "T7002-2-1_InitialState",
          "T234-236-1_InitialState",
          "L118-119-1_InitialState",
          "T241-237-1_InitialState",
          "L165-166-1_InitialState",
          "T7166-166-1_InitialState",
          "L162-165-1_InitialState",
          "L42-46-1_InitialState",
          "L231-232-1_InitialState"
         ],
         "yaxis": "y"
        },
        {
         "alignmentgroup": "True",
         "hovertemplate": "Decomposition part:=loop_flow_from_cz<br>Flow decomposition value=%{x}<br>xnec_id=%{y}<extra></extra>",
         "legendgroup": "loop_flow_from_cz",
         "marker": {
          "color": "#00A08B",
          "pattern": {
           "shape": ""
          }
         },
         "name": "loop_flow_from_cz",
         "offsetgroup": "loop_flow_from_cz",
         "orientation": "h",
         "showlegend": true,
         "textposition": "auto",
         "texttemplate": "%{x:.0f}",
         "type": "bar",
         "x": [
          null,
          null,
          null,
          null,
          null,
          null,
          null,
          null,
          null,
          null,
          null,
          null,
          null,
          null,
          null,
          null,
          null,
          null,
          null,
          null
         ],
         "xaxis": "x",
         "y": [
          "T7130-130-1_InitialState",
          "T7003-3-1_InitialState",
          "L191-192-1_InitialState",
          "L4-16-1_InitialState",
          "T3-4-1_InitialState",
          "L133-137-1_InitialState",
          "L119-120-1_InitialState",
          "T7139-139-1_InitialState",
          "L186-188-1_InitialState",
          "L225-191-1_InitialState",
          "L181-187-1_InitialState",
          "T7002-2-1_InitialState",
          "T234-236-1_InitialState",
          "L118-119-1_InitialState",
          "T241-237-1_InitialState",
          "L165-166-1_InitialState",
          "T7166-166-1_InitialState",
          "L162-165-1_InitialState",
          "L42-46-1_InitialState",
          "L231-232-1_InitialState"
         ],
         "yaxis": "y"
        },
        {
         "alignmentgroup": "True",
         "hovertemplate": "Decomposition part:=loop_flow_from_dk<br>Flow decomposition value=%{x}<br>xnec_id=%{y}<extra></extra>",
         "legendgroup": "loop_flow_from_dk",
         "marker": {
          "color": "#6C4516",
          "pattern": {
           "shape": ""
          }
         },
         "name": "loop_flow_from_dk",
         "offsetgroup": "loop_flow_from_dk",
         "orientation": "h",
         "showlegend": true,
         "textposition": "auto",
         "texttemplate": "%{x:.0f}",
         "type": "bar",
         "x": [
          null,
          null,
          null,
          -109.27488915349119,
          -109.27488915349096,
          -295.24726401757255,
          92.42375664055619,
          null,
          246.9558908770955,
          null,
          null,
          null,
          null,
          null,
          null,
          null,
          null,
          null,
          null,
          null
         ],
         "xaxis": "x",
         "y": [
          "T7130-130-1_InitialState",
          "T7003-3-1_InitialState",
          "L191-192-1_InitialState",
          "L4-16-1_InitialState",
          "T3-4-1_InitialState",
          "L133-137-1_InitialState",
          "L119-120-1_InitialState",
          "T7139-139-1_InitialState",
          "L186-188-1_InitialState",
          "L225-191-1_InitialState",
          "L181-187-1_InitialState",
          "T7002-2-1_InitialState",
          "T234-236-1_InitialState",
          "L118-119-1_InitialState",
          "T241-237-1_InitialState",
          "L165-166-1_InitialState",
          "T7166-166-1_InitialState",
          "L162-165-1_InitialState",
          "L42-46-1_InitialState",
          "L231-232-1_InitialState"
         ],
         "yaxis": "y"
        },
        {
         "alignmentgroup": "True",
         "hovertemplate": "Decomposition part:=loop_flow_from_ee<br>Flow decomposition value=%{x}<br>xnec_id=%{y}<extra></extra>",
         "legendgroup": "loop_flow_from_ee",
         "marker": {
          "color": "#511CFB",
          "pattern": {
           "shape": ""
          }
         },
         "name": "loop_flow_from_ee",
         "offsetgroup": "loop_flow_from_ee",
         "orientation": "h",
         "showlegend": true,
         "textposition": "auto",
         "texttemplate": "%{x:.0f}",
         "type": "bar",
         "x": [
          null,
          null,
          null,
          null,
          null,
          null,
          null,
          null,
          null,
          null,
          null,
          null,
          null,
          null,
          null,
          null,
          null,
          null,
          null,
          null
         ],
         "xaxis": "x",
         "y": [
          "T7130-130-1_InitialState",
          "T7003-3-1_InitialState",
          "L191-192-1_InitialState",
          "L4-16-1_InitialState",
          "T3-4-1_InitialState",
          "L133-137-1_InitialState",
          "L119-120-1_InitialState",
          "T7139-139-1_InitialState",
          "L186-188-1_InitialState",
          "L225-191-1_InitialState",
          "L181-187-1_InitialState",
          "T7002-2-1_InitialState",
          "T234-236-1_InitialState",
          "L118-119-1_InitialState",
          "T241-237-1_InitialState",
          "L165-166-1_InitialState",
          "T7166-166-1_InitialState",
          "L162-165-1_InitialState",
          "L42-46-1_InitialState",
          "L231-232-1_InitialState"
         ],
         "yaxis": "y"
        },
        {
         "alignmentgroup": "True",
         "hovertemplate": "Decomposition part:=loop_flow_from_fr<br>Flow decomposition value=%{x}<br>xnec_id=%{y}<extra></extra>",
         "legendgroup": "loop_flow_from_fr",
         "marker": {
          "color": "#F6F926",
          "pattern": {
           "shape": ""
          }
         },
         "name": "loop_flow_from_fr",
         "offsetgroup": "loop_flow_from_fr",
         "orientation": "h",
         "showlegend": true,
         "textposition": "auto",
         "texttemplate": "%{x:.0f}",
         "type": "bar",
         "x": [
          null,
          null,
          null,
          -241.45792382266166,
          -241.45792382266177,
          -304.87595959215463,
          null,
          null,
          null,
          null,
          null,
          null,
          null,
          null,
          null,
          null,
          null,
          null,
          -280.41995322438027,
          null
         ],
         "xaxis": "x",
         "y": [
          "T7130-130-1_InitialState",
          "T7003-3-1_InitialState",
          "L191-192-1_InitialState",
          "L4-16-1_InitialState",
          "T3-4-1_InitialState",
          "L133-137-1_InitialState",
          "L119-120-1_InitialState",
          "T7139-139-1_InitialState",
          "L186-188-1_InitialState",
          "L225-191-1_InitialState",
          "L181-187-1_InitialState",
          "T7002-2-1_InitialState",
          "T234-236-1_InitialState",
          "L118-119-1_InitialState",
          "T241-237-1_InitialState",
          "L165-166-1_InitialState",
          "T7166-166-1_InitialState",
          "L162-165-1_InitialState",
          "L42-46-1_InitialState",
          "L231-232-1_InitialState"
         ],
         "yaxis": "y"
        },
        {
         "alignmentgroup": "True",
         "hovertemplate": "Decomposition part:=loop_flow_from_hu<br>Flow decomposition value=%{x}<br>xnec_id=%{y}<extra></extra>",
         "legendgroup": "loop_flow_from_hu",
         "marker": {
          "color": "#C9FBE5",
          "pattern": {
           "shape": ""
          }
         },
         "name": "loop_flow_from_hu",
         "offsetgroup": "loop_flow_from_hu",
         "orientation": "h",
         "showlegend": true,
         "textposition": "auto",
         "texttemplate": "%{x:.0f}",
         "type": "bar",
         "x": [
          null,
          null,
          null,
          null,
          null,
          -216.4182086820917,
          342.04331923670543,
          null,
          99.26131162513913,
          null,
          null,
          null,
          null,
          -248.82373381597708,
          null,
          null,
          null,
          null,
          null,
          null
         ],
         "xaxis": "x",
         "y": [
          "T7130-130-1_InitialState",
          "T7003-3-1_InitialState",
          "L191-192-1_InitialState",
          "L4-16-1_InitialState",
          "T3-4-1_InitialState",
          "L133-137-1_InitialState",
          "L119-120-1_InitialState",
          "T7139-139-1_InitialState",
          "L186-188-1_InitialState",
          "L225-191-1_InitialState",
          "L181-187-1_InitialState",
          "T7002-2-1_InitialState",
          "T234-236-1_InitialState",
          "L118-119-1_InitialState",
          "T241-237-1_InitialState",
          "L165-166-1_InitialState",
          "T7166-166-1_InitialState",
          "L162-165-1_InitialState",
          "L42-46-1_InitialState",
          "L231-232-1_InitialState"
         ],
         "yaxis": "y"
        },
        {
         "alignmentgroup": "True",
         "hovertemplate": "Decomposition part:=loop_flow_from_ie<br>Flow decomposition value=%{x}<br>xnec_id=%{y}<extra></extra>",
         "legendgroup": "loop_flow_from_ie",
         "marker": {
          "color": "#FC0080",
          "pattern": {
           "shape": ""
          }
         },
         "name": "loop_flow_from_ie",
         "offsetgroup": "loop_flow_from_ie",
         "orientation": "h",
         "showlegend": true,
         "textposition": "auto",
         "texttemplate": "%{x:.0f}",
         "type": "bar",
         "x": [
          null,
          null,
          null,
          null,
          null,
          null,
          null,
          null,
          null,
          null,
          null,
          null,
          null,
          null,
          null,
          null,
          null,
          null,
          null,
          null
         ],
         "xaxis": "x",
         "y": [
          "T7130-130-1_InitialState",
          "T7003-3-1_InitialState",
          "L191-192-1_InitialState",
          "L4-16-1_InitialState",
          "T3-4-1_InitialState",
          "L133-137-1_InitialState",
          "L119-120-1_InitialState",
          "T7139-139-1_InitialState",
          "L186-188-1_InitialState",
          "L225-191-1_InitialState",
          "L181-187-1_InitialState",
          "T7002-2-1_InitialState",
          "T234-236-1_InitialState",
          "L118-119-1_InitialState",
          "T241-237-1_InitialState",
          "L165-166-1_InitialState",
          "T7166-166-1_InitialState",
          "L162-165-1_InitialState",
          "L42-46-1_InitialState",
          "L231-232-1_InitialState"
         ],
         "yaxis": "y"
        },
        {
         "alignmentgroup": "True",
         "hovertemplate": "Decomposition part:=loop_flow_from_lt<br>Flow decomposition value=%{x}<br>xnec_id=%{y}<extra></extra>",
         "legendgroup": "loop_flow_from_lt",
         "marker": {
          "color": "#FB0D0D",
          "pattern": {
           "shape": ""
          }
         },
         "name": "loop_flow_from_lt",
         "offsetgroup": "loop_flow_from_lt",
         "orientation": "h",
         "showlegend": true,
         "textposition": "auto",
         "texttemplate": "%{x:.0f}",
         "type": "bar",
         "x": [
          null,
          null,
          null,
          null,
          null,
          398.50051347346846,
          null,
          null,
          null,
          null,
          null,
          null,
          null,
          null,
          null,
          null,
          null,
          null,
          null,
          null
         ],
         "xaxis": "x",
         "y": [
          "T7130-130-1_InitialState",
          "T7003-3-1_InitialState",
          "L191-192-1_InitialState",
          "L4-16-1_InitialState",
          "T3-4-1_InitialState",
          "L133-137-1_InitialState",
          "L119-120-1_InitialState",
          "T7139-139-1_InitialState",
          "L186-188-1_InitialState",
          "L225-191-1_InitialState",
          "L181-187-1_InitialState",
          "T7002-2-1_InitialState",
          "T234-236-1_InitialState",
          "L118-119-1_InitialState",
          "T241-237-1_InitialState",
          "L165-166-1_InitialState",
          "T7166-166-1_InitialState",
          "L162-165-1_InitialState",
          "L42-46-1_InitialState",
          "L231-232-1_InitialState"
         ],
         "yaxis": "y"
        },
        {
         "alignmentgroup": "True",
         "hovertemplate": "Decomposition part:=loop_flow_from_lu<br>Flow decomposition value=%{x}<br>xnec_id=%{y}<extra></extra>",
         "legendgroup": "loop_flow_from_lu",
         "marker": {
          "color": "#D626FF",
          "pattern": {
           "shape": ""
          }
         },
         "name": "loop_flow_from_lu",
         "offsetgroup": "loop_flow_from_lu",
         "orientation": "h",
         "showlegend": true,
         "textposition": "auto",
         "texttemplate": "%{x:.0f}",
         "type": "bar",
         "x": [
          null,
          null,
          null,
          null,
          null,
          null,
          null,
          null,
          null,
          null,
          null,
          null,
          null,
          null,
          null,
          null,
          null,
          null,
          null,
          null
         ],
         "xaxis": "x",
         "y": [
          "T7130-130-1_InitialState",
          "T7003-3-1_InitialState",
          "L191-192-1_InitialState",
          "L4-16-1_InitialState",
          "T3-4-1_InitialState",
          "L133-137-1_InitialState",
          "L119-120-1_InitialState",
          "T7139-139-1_InitialState",
          "L186-188-1_InitialState",
          "L225-191-1_InitialState",
          "L181-187-1_InitialState",
          "T7002-2-1_InitialState",
          "T234-236-1_InitialState",
          "L118-119-1_InitialState",
          "T241-237-1_InitialState",
          "L165-166-1_InitialState",
          "T7166-166-1_InitialState",
          "L162-165-1_InitialState",
          "L42-46-1_InitialState",
          "L231-232-1_InitialState"
         ],
         "yaxis": "y"
        },
        {
         "alignmentgroup": "True",
         "hovertemplate": "Decomposition part:=pst_flow<br>Flow decomposition value=%{x}<br>xnec_id=%{y}<extra></extra>",
         "legendgroup": "pst_flow",
         "marker": {
          "color": "#DA16FF",
          "pattern": {
           "shape": ""
          }
         },
         "name": "pst_flow",
         "offsetgroup": "pst_flow",
         "orientation": "h",
         "showlegend": true,
         "textposition": "auto",
         "texttemplate": "%{x:.0f}",
         "type": "bar",
         "x": [
          null,
          null,
          null,
          null,
          null,
          null,
          null,
          null,
          null,
          null,
          null,
          null,
          null,
          null,
          null,
          null,
          null,
          null,
          null,
          null
         ],
         "xaxis": "x",
         "y": [
          "T7130-130-1_InitialState",
          "T7003-3-1_InitialState",
          "L191-192-1_InitialState",
          "L4-16-1_InitialState",
          "T3-4-1_InitialState",
          "L133-137-1_InitialState",
          "L119-120-1_InitialState",
          "T7139-139-1_InitialState",
          "L186-188-1_InitialState",
          "L225-191-1_InitialState",
          "L181-187-1_InitialState",
          "T7002-2-1_InitialState",
          "T234-236-1_InitialState",
          "L118-119-1_InitialState",
          "T241-237-1_InitialState",
          "L165-166-1_InitialState",
          "T7166-166-1_InitialState",
          "L162-165-1_InitialState",
          "L42-46-1_InitialState",
          "L231-232-1_InitialState"
         ],
         "yaxis": "y"
        },
        {
         "alignmentgroup": "True",
         "hovertemplate": "Decomposition part:=masked_flows_positive<br>Flow decomposition value=%{x}<br>xnec_id=%{y}<extra></extra>",
         "legendgroup": "masked_flows_positive",
         "marker": {
          "color": "#86CE00",
          "pattern": {
           "shape": ""
          }
         },
         "name": "masked_flows_positive",
         "offsetgroup": "masked_flows_positive",
         "orientation": "h",
         "showlegend": true,
         "textposition": "auto",
         "texttemplate": "%{x:.0f}",
         "type": "bar",
         "x": [
          0.7619047619051265,
          0.7619047619051891,
          0.39386602098499796,
          109.37511762739808,
          109.37511762739649,
          78.27164503612859,
          0.007599221624975935,
          0.7619047619051394,
          0.3371653387060791,
          0.3680387409204338,
          0.42916882690498814,
          0.7619047619048918,
          0.7619047619064101,
          0.5088086934460287,
          0.7619047619056837,
          0.7619047619048047,
          0.7619047619049063,
          0.7619047619048409,
          118.7829613362461,
          17.103611037918228
         ],
         "xaxis": "x",
         "y": [
          "T7130-130-1_InitialState",
          "T7003-3-1_InitialState",
          "L191-192-1_InitialState",
          "L4-16-1_InitialState",
          "T3-4-1_InitialState",
          "L133-137-1_InitialState",
          "L119-120-1_InitialState",
          "T7139-139-1_InitialState",
          "L186-188-1_InitialState",
          "L225-191-1_InitialState",
          "L181-187-1_InitialState",
          "T7002-2-1_InitialState",
          "T234-236-1_InitialState",
          "L118-119-1_InitialState",
          "T241-237-1_InitialState",
          "L165-166-1_InitialState",
          "T7166-166-1_InitialState",
          "L162-165-1_InitialState",
          "L42-46-1_InitialState",
          "L231-232-1_InitialState"
         ],
         "yaxis": "y"
        },
        {
         "alignmentgroup": "True",
         "hovertemplate": "Decomposition part:=masked_flows_negative<br>Flow decomposition value=%{x}<br>xnec_id=%{y}<extra></extra>",
         "legendgroup": "masked_flows_negative",
         "marker": {
          "color": "#6A76FC",
          "pattern": {
           "shape": ""
          }
         },
         "name": "masked_flows_negative",
         "offsetgroup": "masked_flows_negative",
         "orientation": "h",
         "showlegend": true,
         "textposition": "auto",
         "texttemplate": "%{x:.0f}",
         "type": "bar",
         "x": [
          -2.462474668618597e-13,
          -2.34784414132605e-13,
          -5.806743974545725e-13,
          -2.3932015634462895,
          -2.39320156344624,
          -1.3032204352282335,
          -9.660718405801738e-14,
          -7.993605777301127e-14,
          -1.5969170430452095e-13,
          -3.5244723806115985e-13,
          -10.674563814968254,
          -2.453870440177752e-13,
          -6.323830348264892e-13,
          -3.126665593100597e-14,
          -6.656897255652439e-13,
          -1.4137579995576743e-12,
          -3.5754732508053166e-13,
          -5.210554210322016e-13,
          -7.795087304348749,
          -0.7619047619056369
         ],
         "xaxis": "x",
         "y": [
          "T7130-130-1_InitialState",
          "T7003-3-1_InitialState",
          "L191-192-1_InitialState",
          "L4-16-1_InitialState",
          "T3-4-1_InitialState",
          "L133-137-1_InitialState",
          "L119-120-1_InitialState",
          "T7139-139-1_InitialState",
          "L186-188-1_InitialState",
          "L225-191-1_InitialState",
          "L181-187-1_InitialState",
          "T7002-2-1_InitialState",
          "T234-236-1_InitialState",
          "L118-119-1_InitialState",
          "T241-237-1_InitialState",
          "L165-166-1_InitialState",
          "T7166-166-1_InitialState",
          "L162-165-1_InitialState",
          "L42-46-1_InitialState",
          "L231-232-1_InitialState"
         ],
         "yaxis": "y"
        },
        {
         "mode": "lines+markers",
         "name": "total_flow",
         "type": "scatter",
         "x": [
          1292.7368253968255,
          1210.7368253968255,
          828.550392789885,
          778.5271987640218,
          778.5271987640213,
          718.3241559707751,
          705.9781703021854,
          700.7368253968253,
          664.4147781793408,
          656.1864326069413,
          649.1164308395205,
          623.7368253968255,
          600.7368253968278,
          592.1839806741855,
          576.166825396825,
          553.7368253968259,
          553.7368253968257,
          553.7368253968251,
          552.8304851848867,
          551.263174603185
         ],
         "y": [
          "T7130-130-1_InitialState",
          "T7003-3-1_InitialState",
          "L191-192-1_InitialState",
          "L4-16-1_InitialState",
          "T3-4-1_InitialState",
          "L133-137-1_InitialState",
          "L119-120-1_InitialState",
          "T7139-139-1_InitialState",
          "L186-188-1_InitialState",
          "L225-191-1_InitialState",
          "L181-187-1_InitialState",
          "T7002-2-1_InitialState",
          "T234-236-1_InitialState",
          "L118-119-1_InitialState",
          "T241-237-1_InitialState",
          "L165-166-1_InitialState",
          "T7166-166-1_InitialState",
          "L162-165-1_InitialState",
          "L42-46-1_InitialState",
          "L231-232-1_InitialState"
         ]
        },
        {
         "mode": "lines+markers",
         "name": "total_loop_flow",
         "type": "scatter",
         "x": [
          0.7619047619048802,
          0.7619047619049543,
          0.39386602098441725,
          -243.75089691220103,
          -243.75089691220248,
          -341.07249421745,
          434.47467509888645,
          0.7619047619050595,
          346.5543678409406,
          0.3680387409200814,
          -10.245394988063266,
          0.7619047619046464,
          0.7619047619057777,
          -248.31492512253106,
          0.761904761905018,
          0.761904761903391,
          0.7619047619045487,
          0.7619047619043199,
          -169.4320791924829,
          -0.761904761893917
         ],
         "y": [
          "T7130-130-1_InitialState",
          "T7003-3-1_InitialState",
          "L191-192-1_InitialState",
          "L4-16-1_InitialState",
          "T3-4-1_InitialState",
          "L133-137-1_InitialState",
          "L119-120-1_InitialState",
          "T7139-139-1_InitialState",
          "L186-188-1_InitialState",
          "L225-191-1_InitialState",
          "L181-187-1_InitialState",
          "T7002-2-1_InitialState",
          "T234-236-1_InitialState",
          "L118-119-1_InitialState",
          "T241-237-1_InitialState",
          "L165-166-1_InitialState",
          "T7166-166-1_InitialState",
          "L162-165-1_InitialState",
          "L42-46-1_InitialState",
          "L231-232-1_InitialState"
         ]
        }
       ],
       "layout": {
        "barmode": "relative",
        "height": 1000,
        "legend": {
         "title": {
          "text": "Decomposition part:"
         },
         "tracegroupgap": 0
        },
        "template": {
         "data": {
          "bar": [
           {
            "error_x": {
             "color": "rgb(36,36,36)"
            },
            "error_y": {
             "color": "rgb(36,36,36)"
            },
            "marker": {
             "line": {
              "color": "rgb(234,234,242)",
              "width": 0.5
             },
             "pattern": {
              "fillmode": "overlay",
              "size": 10,
              "solidity": 0.2
             }
            },
            "type": "bar"
           }
          ],
          "barpolar": [
           {
            "marker": {
             "line": {
              "color": "rgb(234,234,242)",
              "width": 0.5
             },
             "pattern": {
              "fillmode": "overlay",
              "size": 10,
              "solidity": 0.2
             }
            },
            "type": "barpolar"
           }
          ],
          "carpet": [
           {
            "aaxis": {
             "endlinecolor": "rgb(36,36,36)",
             "gridcolor": "white",
             "linecolor": "white",
             "minorgridcolor": "white",
             "startlinecolor": "rgb(36,36,36)"
            },
            "baxis": {
             "endlinecolor": "rgb(36,36,36)",
             "gridcolor": "white",
             "linecolor": "white",
             "minorgridcolor": "white",
             "startlinecolor": "rgb(36,36,36)"
            },
            "type": "carpet"
           }
          ],
          "choropleth": [
           {
            "colorbar": {
             "outlinewidth": 0,
             "tickcolor": "rgb(36,36,36)",
             "ticklen": 8,
             "ticks": "outside",
             "tickwidth": 2
            },
            "type": "choropleth"
           }
          ],
          "contour": [
           {
            "colorbar": {
             "outlinewidth": 0,
             "tickcolor": "rgb(36,36,36)",
             "ticklen": 8,
             "ticks": "outside",
             "tickwidth": 2
            },
            "colorscale": [
             [
              0,
              "rgb(2,4,25)"
             ],
             [
              0.06274509803921569,
              "rgb(24,15,41)"
             ],
             [
              0.12549019607843137,
              "rgb(47,23,57)"
             ],
             [
              0.18823529411764706,
              "rgb(71,28,72)"
             ],
             [
              0.25098039215686274,
              "rgb(97,30,82)"
             ],
             [
              0.3137254901960784,
              "rgb(123,30,89)"
             ],
             [
              0.3764705882352941,
              "rgb(150,27,91)"
             ],
             [
              0.4392156862745098,
              "rgb(177,22,88)"
             ],
             [
              0.5019607843137255,
              "rgb(203,26,79)"
             ],
             [
              0.5647058823529412,
              "rgb(223,47,67)"
             ],
             [
              0.6274509803921569,
              "rgb(236,76,61)"
             ],
             [
              0.6901960784313725,
              "rgb(242,107,73)"
             ],
             [
              0.7529411764705882,
              "rgb(244,135,95)"
             ],
             [
              0.8156862745098039,
              "rgb(245,162,122)"
             ],
             [
              0.8784313725490196,
              "rgb(246,188,153)"
             ],
             [
              0.9411764705882353,
              "rgb(247,212,187)"
             ],
             [
              1,
              "rgb(250,234,220)"
             ]
            ],
            "type": "contour"
           }
          ],
          "contourcarpet": [
           {
            "colorbar": {
             "outlinewidth": 0,
             "tickcolor": "rgb(36,36,36)",
             "ticklen": 8,
             "ticks": "outside",
             "tickwidth": 2
            },
            "type": "contourcarpet"
           }
          ],
          "heatmap": [
           {
            "colorbar": {
             "outlinewidth": 0,
             "tickcolor": "rgb(36,36,36)",
             "ticklen": 8,
             "ticks": "outside",
             "tickwidth": 2
            },
            "colorscale": [
             [
              0,
              "rgb(2,4,25)"
             ],
             [
              0.06274509803921569,
              "rgb(24,15,41)"
             ],
             [
              0.12549019607843137,
              "rgb(47,23,57)"
             ],
             [
              0.18823529411764706,
              "rgb(71,28,72)"
             ],
             [
              0.25098039215686274,
              "rgb(97,30,82)"
             ],
             [
              0.3137254901960784,
              "rgb(123,30,89)"
             ],
             [
              0.3764705882352941,
              "rgb(150,27,91)"
             ],
             [
              0.4392156862745098,
              "rgb(177,22,88)"
             ],
             [
              0.5019607843137255,
              "rgb(203,26,79)"
             ],
             [
              0.5647058823529412,
              "rgb(223,47,67)"
             ],
             [
              0.6274509803921569,
              "rgb(236,76,61)"
             ],
             [
              0.6901960784313725,
              "rgb(242,107,73)"
             ],
             [
              0.7529411764705882,
              "rgb(244,135,95)"
             ],
             [
              0.8156862745098039,
              "rgb(245,162,122)"
             ],
             [
              0.8784313725490196,
              "rgb(246,188,153)"
             ],
             [
              0.9411764705882353,
              "rgb(247,212,187)"
             ],
             [
              1,
              "rgb(250,234,220)"
             ]
            ],
            "type": "heatmap"
           }
          ],
          "heatmapgl": [
           {
            "colorbar": {
             "outlinewidth": 0,
             "tickcolor": "rgb(36,36,36)",
             "ticklen": 8,
             "ticks": "outside",
             "tickwidth": 2
            },
            "colorscale": [
             [
              0,
              "rgb(2,4,25)"
             ],
             [
              0.06274509803921569,
              "rgb(24,15,41)"
             ],
             [
              0.12549019607843137,
              "rgb(47,23,57)"
             ],
             [
              0.18823529411764706,
              "rgb(71,28,72)"
             ],
             [
              0.25098039215686274,
              "rgb(97,30,82)"
             ],
             [
              0.3137254901960784,
              "rgb(123,30,89)"
             ],
             [
              0.3764705882352941,
              "rgb(150,27,91)"
             ],
             [
              0.4392156862745098,
              "rgb(177,22,88)"
             ],
             [
              0.5019607843137255,
              "rgb(203,26,79)"
             ],
             [
              0.5647058823529412,
              "rgb(223,47,67)"
             ],
             [
              0.6274509803921569,
              "rgb(236,76,61)"
             ],
             [
              0.6901960784313725,
              "rgb(242,107,73)"
             ],
             [
              0.7529411764705882,
              "rgb(244,135,95)"
             ],
             [
              0.8156862745098039,
              "rgb(245,162,122)"
             ],
             [
              0.8784313725490196,
              "rgb(246,188,153)"
             ],
             [
              0.9411764705882353,
              "rgb(247,212,187)"
             ],
             [
              1,
              "rgb(250,234,220)"
             ]
            ],
            "type": "heatmapgl"
           }
          ],
          "histogram": [
           {
            "marker": {
             "pattern": {
              "fillmode": "overlay",
              "size": 10,
              "solidity": 0.2
             }
            },
            "type": "histogram"
           }
          ],
          "histogram2d": [
           {
            "colorbar": {
             "outlinewidth": 0,
             "tickcolor": "rgb(36,36,36)",
             "ticklen": 8,
             "ticks": "outside",
             "tickwidth": 2
            },
            "colorscale": [
             [
              0,
              "rgb(2,4,25)"
             ],
             [
              0.06274509803921569,
              "rgb(24,15,41)"
             ],
             [
              0.12549019607843137,
              "rgb(47,23,57)"
             ],
             [
              0.18823529411764706,
              "rgb(71,28,72)"
             ],
             [
              0.25098039215686274,
              "rgb(97,30,82)"
             ],
             [
              0.3137254901960784,
              "rgb(123,30,89)"
             ],
             [
              0.3764705882352941,
              "rgb(150,27,91)"
             ],
             [
              0.4392156862745098,
              "rgb(177,22,88)"
             ],
             [
              0.5019607843137255,
              "rgb(203,26,79)"
             ],
             [
              0.5647058823529412,
              "rgb(223,47,67)"
             ],
             [
              0.6274509803921569,
              "rgb(236,76,61)"
             ],
             [
              0.6901960784313725,
              "rgb(242,107,73)"
             ],
             [
              0.7529411764705882,
              "rgb(244,135,95)"
             ],
             [
              0.8156862745098039,
              "rgb(245,162,122)"
             ],
             [
              0.8784313725490196,
              "rgb(246,188,153)"
             ],
             [
              0.9411764705882353,
              "rgb(247,212,187)"
             ],
             [
              1,
              "rgb(250,234,220)"
             ]
            ],
            "type": "histogram2d"
           }
          ],
          "histogram2dcontour": [
           {
            "colorbar": {
             "outlinewidth": 0,
             "tickcolor": "rgb(36,36,36)",
             "ticklen": 8,
             "ticks": "outside",
             "tickwidth": 2
            },
            "colorscale": [
             [
              0,
              "rgb(2,4,25)"
             ],
             [
              0.06274509803921569,
              "rgb(24,15,41)"
             ],
             [
              0.12549019607843137,
              "rgb(47,23,57)"
             ],
             [
              0.18823529411764706,
              "rgb(71,28,72)"
             ],
             [
              0.25098039215686274,
              "rgb(97,30,82)"
             ],
             [
              0.3137254901960784,
              "rgb(123,30,89)"
             ],
             [
              0.3764705882352941,
              "rgb(150,27,91)"
             ],
             [
              0.4392156862745098,
              "rgb(177,22,88)"
             ],
             [
              0.5019607843137255,
              "rgb(203,26,79)"
             ],
             [
              0.5647058823529412,
              "rgb(223,47,67)"
             ],
             [
              0.6274509803921569,
              "rgb(236,76,61)"
             ],
             [
              0.6901960784313725,
              "rgb(242,107,73)"
             ],
             [
              0.7529411764705882,
              "rgb(244,135,95)"
             ],
             [
              0.8156862745098039,
              "rgb(245,162,122)"
             ],
             [
              0.8784313725490196,
              "rgb(246,188,153)"
             ],
             [
              0.9411764705882353,
              "rgb(247,212,187)"
             ],
             [
              1,
              "rgb(250,234,220)"
             ]
            ],
            "type": "histogram2dcontour"
           }
          ],
          "mesh3d": [
           {
            "colorbar": {
             "outlinewidth": 0,
             "tickcolor": "rgb(36,36,36)",
             "ticklen": 8,
             "ticks": "outside",
             "tickwidth": 2
            },
            "type": "mesh3d"
           }
          ],
          "parcoords": [
           {
            "line": {
             "colorbar": {
              "outlinewidth": 0,
              "tickcolor": "rgb(36,36,36)",
              "ticklen": 8,
              "ticks": "outside",
              "tickwidth": 2
             }
            },
            "type": "parcoords"
           }
          ],
          "pie": [
           {
            "automargin": true,
            "type": "pie"
           }
          ],
          "scatter": [
           {
            "fillpattern": {
             "fillmode": "overlay",
             "size": 10,
             "solidity": 0.2
            },
            "type": "scatter"
           }
          ],
          "scatter3d": [
           {
            "line": {
             "colorbar": {
              "outlinewidth": 0,
              "tickcolor": "rgb(36,36,36)",
              "ticklen": 8,
              "ticks": "outside",
              "tickwidth": 2
             }
            },
            "marker": {
             "colorbar": {
              "outlinewidth": 0,
              "tickcolor": "rgb(36,36,36)",
              "ticklen": 8,
              "ticks": "outside",
              "tickwidth": 2
             }
            },
            "type": "scatter3d"
           }
          ],
          "scattercarpet": [
           {
            "marker": {
             "colorbar": {
              "outlinewidth": 0,
              "tickcolor": "rgb(36,36,36)",
              "ticklen": 8,
              "ticks": "outside",
              "tickwidth": 2
             }
            },
            "type": "scattercarpet"
           }
          ],
          "scattergeo": [
           {
            "marker": {
             "colorbar": {
              "outlinewidth": 0,
              "tickcolor": "rgb(36,36,36)",
              "ticklen": 8,
              "ticks": "outside",
              "tickwidth": 2
             }
            },
            "type": "scattergeo"
           }
          ],
          "scattergl": [
           {
            "marker": {
             "colorbar": {
              "outlinewidth": 0,
              "tickcolor": "rgb(36,36,36)",
              "ticklen": 8,
              "ticks": "outside",
              "tickwidth": 2
             }
            },
            "type": "scattergl"
           }
          ],
          "scattermapbox": [
           {
            "marker": {
             "colorbar": {
              "outlinewidth": 0,
              "tickcolor": "rgb(36,36,36)",
              "ticklen": 8,
              "ticks": "outside",
              "tickwidth": 2
             }
            },
            "type": "scattermapbox"
           }
          ],
          "scatterpolar": [
           {
            "marker": {
             "colorbar": {
              "outlinewidth": 0,
              "tickcolor": "rgb(36,36,36)",
              "ticklen": 8,
              "ticks": "outside",
              "tickwidth": 2
             }
            },
            "type": "scatterpolar"
           }
          ],
          "scatterpolargl": [
           {
            "marker": {
             "colorbar": {
              "outlinewidth": 0,
              "tickcolor": "rgb(36,36,36)",
              "ticklen": 8,
              "ticks": "outside",
              "tickwidth": 2
             }
            },
            "type": "scatterpolargl"
           }
          ],
          "scatterternary": [
           {
            "marker": {
             "colorbar": {
              "outlinewidth": 0,
              "tickcolor": "rgb(36,36,36)",
              "ticklen": 8,
              "ticks": "outside",
              "tickwidth": 2
             }
            },
            "type": "scatterternary"
           }
          ],
          "surface": [
           {
            "colorbar": {
             "outlinewidth": 0,
             "tickcolor": "rgb(36,36,36)",
             "ticklen": 8,
             "ticks": "outside",
             "tickwidth": 2
            },
            "colorscale": [
             [
              0,
              "rgb(2,4,25)"
             ],
             [
              0.06274509803921569,
              "rgb(24,15,41)"
             ],
             [
              0.12549019607843137,
              "rgb(47,23,57)"
             ],
             [
              0.18823529411764706,
              "rgb(71,28,72)"
             ],
             [
              0.25098039215686274,
              "rgb(97,30,82)"
             ],
             [
              0.3137254901960784,
              "rgb(123,30,89)"
             ],
             [
              0.3764705882352941,
              "rgb(150,27,91)"
             ],
             [
              0.4392156862745098,
              "rgb(177,22,88)"
             ],
             [
              0.5019607843137255,
              "rgb(203,26,79)"
             ],
             [
              0.5647058823529412,
              "rgb(223,47,67)"
             ],
             [
              0.6274509803921569,
              "rgb(236,76,61)"
             ],
             [
              0.6901960784313725,
              "rgb(242,107,73)"
             ],
             [
              0.7529411764705882,
              "rgb(244,135,95)"
             ],
             [
              0.8156862745098039,
              "rgb(245,162,122)"
             ],
             [
              0.8784313725490196,
              "rgb(246,188,153)"
             ],
             [
              0.9411764705882353,
              "rgb(247,212,187)"
             ],
             [
              1,
              "rgb(250,234,220)"
             ]
            ],
            "type": "surface"
           }
          ],
          "table": [
           {
            "cells": {
             "fill": {
              "color": "rgb(231,231,240)"
             },
             "line": {
              "color": "white"
             }
            },
            "header": {
             "fill": {
              "color": "rgb(183,183,191)"
             },
             "line": {
              "color": "white"
             }
            },
            "type": "table"
           }
          ]
         },
         "layout": {
          "annotationdefaults": {
           "arrowcolor": "rgb(67,103,167)"
          },
          "autotypenumbers": "strict",
          "coloraxis": {
           "colorbar": {
            "outlinewidth": 0,
            "tickcolor": "rgb(36,36,36)",
            "ticklen": 8,
            "ticks": "outside",
            "tickwidth": 2
           }
          },
          "colorscale": {
           "sequential": [
            [
             0,
             "rgb(2,4,25)"
            ],
            [
             0.06274509803921569,
             "rgb(24,15,41)"
            ],
            [
             0.12549019607843137,
             "rgb(47,23,57)"
            ],
            [
             0.18823529411764706,
             "rgb(71,28,72)"
            ],
            [
             0.25098039215686274,
             "rgb(97,30,82)"
            ],
            [
             0.3137254901960784,
             "rgb(123,30,89)"
            ],
            [
             0.3764705882352941,
             "rgb(150,27,91)"
            ],
            [
             0.4392156862745098,
             "rgb(177,22,88)"
            ],
            [
             0.5019607843137255,
             "rgb(203,26,79)"
            ],
            [
             0.5647058823529412,
             "rgb(223,47,67)"
            ],
            [
             0.6274509803921569,
             "rgb(236,76,61)"
            ],
            [
             0.6901960784313725,
             "rgb(242,107,73)"
            ],
            [
             0.7529411764705882,
             "rgb(244,135,95)"
            ],
            [
             0.8156862745098039,
             "rgb(245,162,122)"
            ],
            [
             0.8784313725490196,
             "rgb(246,188,153)"
            ],
            [
             0.9411764705882353,
             "rgb(247,212,187)"
            ],
            [
             1,
             "rgb(250,234,220)"
            ]
           ],
           "sequentialminus": [
            [
             0,
             "rgb(2,4,25)"
            ],
            [
             0.06274509803921569,
             "rgb(24,15,41)"
            ],
            [
             0.12549019607843137,
             "rgb(47,23,57)"
            ],
            [
             0.18823529411764706,
             "rgb(71,28,72)"
            ],
            [
             0.25098039215686274,
             "rgb(97,30,82)"
            ],
            [
             0.3137254901960784,
             "rgb(123,30,89)"
            ],
            [
             0.3764705882352941,
             "rgb(150,27,91)"
            ],
            [
             0.4392156862745098,
             "rgb(177,22,88)"
            ],
            [
             0.5019607843137255,
             "rgb(203,26,79)"
            ],
            [
             0.5647058823529412,
             "rgb(223,47,67)"
            ],
            [
             0.6274509803921569,
             "rgb(236,76,61)"
            ],
            [
             0.6901960784313725,
             "rgb(242,107,73)"
            ],
            [
             0.7529411764705882,
             "rgb(244,135,95)"
            ],
            [
             0.8156862745098039,
             "rgb(245,162,122)"
            ],
            [
             0.8784313725490196,
             "rgb(246,188,153)"
            ],
            [
             0.9411764705882353,
             "rgb(247,212,187)"
            ],
            [
             1,
             "rgb(250,234,220)"
            ]
           ]
          },
          "colorway": [
           "rgb(76,114,176)",
           "rgb(221,132,82)",
           "rgb(85,168,104)",
           "rgb(196,78,82)",
           "rgb(129,114,179)",
           "rgb(147,120,96)",
           "rgb(218,139,195)",
           "rgb(140,140,140)",
           "rgb(204,185,116)",
           "rgb(100,181,205)"
          ],
          "font": {
           "color": "rgb(36,36,36)"
          },
          "geo": {
           "bgcolor": "white",
           "lakecolor": "white",
           "landcolor": "rgb(234,234,242)",
           "showlakes": true,
           "showland": true,
           "subunitcolor": "white"
          },
          "hoverlabel": {
           "align": "left"
          },
          "hovermode": "closest",
          "paper_bgcolor": "white",
          "plot_bgcolor": "rgb(234,234,242)",
          "polar": {
           "angularaxis": {
            "gridcolor": "white",
            "linecolor": "white",
            "showgrid": true,
            "ticks": ""
           },
           "bgcolor": "rgb(234,234,242)",
           "radialaxis": {
            "gridcolor": "white",
            "linecolor": "white",
            "showgrid": true,
            "ticks": ""
           }
          },
          "scene": {
           "xaxis": {
            "backgroundcolor": "rgb(234,234,242)",
            "gridcolor": "white",
            "gridwidth": 2,
            "linecolor": "white",
            "showbackground": true,
            "showgrid": true,
            "ticks": "",
            "zerolinecolor": "white"
           },
           "yaxis": {
            "backgroundcolor": "rgb(234,234,242)",
            "gridcolor": "white",
            "gridwidth": 2,
            "linecolor": "white",
            "showbackground": true,
            "showgrid": true,
            "ticks": "",
            "zerolinecolor": "white"
           },
           "zaxis": {
            "backgroundcolor": "rgb(234,234,242)",
            "gridcolor": "white",
            "gridwidth": 2,
            "linecolor": "white",
            "showbackground": true,
            "showgrid": true,
            "ticks": "",
            "zerolinecolor": "white"
           }
          },
          "shapedefaults": {
           "fillcolor": "rgb(67,103,167)",
           "line": {
            "width": 0
           },
           "opacity": 0.5
          },
          "ternary": {
           "aaxis": {
            "gridcolor": "white",
            "linecolor": "white",
            "showgrid": true,
            "ticks": ""
           },
           "baxis": {
            "gridcolor": "white",
            "linecolor": "white",
            "showgrid": true,
            "ticks": ""
           },
           "bgcolor": "rgb(234,234,242)",
           "caxis": {
            "gridcolor": "white",
            "linecolor": "white",
            "showgrid": true,
            "ticks": ""
           }
          },
          "xaxis": {
           "automargin": true,
           "gridcolor": "white",
           "linecolor": "white",
           "showgrid": true,
           "ticks": "",
           "title": {
            "standoff": 15
           },
           "zerolinecolor": "white"
          },
          "yaxis": {
           "automargin": true,
           "gridcolor": "white",
           "linecolor": "white",
           "showgrid": true,
           "ticks": "",
           "title": {
            "standoff": 15
           },
           "zerolinecolor": "white"
          }
         }
        },
        "title": {
         "text": "Sorted by: total_flow, ascending: False, head: 20"
        },
        "xaxis": {
         "anchor": "y",
         "domain": [
          0,
          1
         ],
         "title": {
          "text": "Flow decomposition value"
         }
        },
        "yaxis": {
         "anchor": "x",
         "domain": [
          0,
          1
         ],
         "title": {
          "text": "xnec_id"
         }
        }
       }
      }
     },
     "metadata": {},
     "output_type": "display_data"
    }
   ],
   "source": [
    "flow_decomposition_bar_chart('total_flow')"
   ]
  },
  {
   "cell_type": "code",
   "execution_count": 12,
   "metadata": {},
   "outputs": [
    {
     "data": {
      "application/vnd.plotly.v1+json": {
       "config": {
        "plotlyServerURL": "https://plot.ly"
       },
       "data": [
        {
         "alignmentgroup": "True",
         "hovertemplate": "Decomposition part:=commercial_flow<br>Flow decomposition value=%{x}<br>xnec_id=%{y}<extra></extra>",
         "legendgroup": "commercial_flow",
         "marker": {
          "color": "#0DF9FF",
          "pattern": {
           "shape": ""
          }
         },
         "name": "commercial_flow",
         "offsetgroup": "commercial_flow",
         "orientation": "h",
         "showlegend": true,
         "textposition": "auto",
         "texttemplate": "%{x:.0f}",
         "type": "bar",
         "x": [
          21.8869040858909,
          -71.67590555679735,
          640.2776427383893,
          -74.61580251307154,
          97.57730421910307,
          -70.3115200128358,
          314.0543633895329,
          370.02889612308155,
          637.0474065822824,
          -23.51689676629507,
          121.09420098539846,
          75.0778584069165,
          314.05436338953274,
          237.72127392858022,
          41.55900922599461,
          -108.07677158229309,
          -99.02268234668537,
          63.59152359338825,
          99.65515312037995,
          -150.89089773300594
         ],
         "xaxis": "x",
         "y": [
          "L105-110-1_InitialState",
          "L80-211-1_InitialState",
          "L42-46-1_InitialState",
          "L43-44-1_InitialState",
          "L44-47-1_InitialState",
          "L44-54-1_InitialState",
          "L45-60-1_InitialState",
          "L45-74-1_InitialState",
          "L46-81-1_InitialState",
          "L47-113-1_InitialState",
          "L47-73-1_InitialState",
          "L54-55-1_InitialState",
          "L60-62-1_InitialState",
          "L62-144-1_InitialState",
          "L69-79-1_InitialState",
          "L7-12-1_InitialState",
          "L7-131-1_InitialState",
          "L71-73-1_InitialState",
          "L73-76-1_InitialState",
          "L73-79-1_InitialState"
         ],
         "yaxis": "y"
        },
        {
         "alignmentgroup": "True",
         "hovertemplate": "Decomposition part:=internal_flow<br>Flow decomposition value=%{x}<br>xnec_id=%{y}<extra></extra>",
         "legendgroup": "internal_flow",
         "marker": {
          "color": "#AF0038",
          "pattern": {
           "shape": ""
          }
         },
         "name": "internal_flow",
         "offsetgroup": "internal_flow",
         "orientation": "h",
         "showlegend": true,
         "textposition": "auto",
         "texttemplate": "%{x:.0f}",
         "type": "bar",
         "x": [
          null,
          41.4888224708821,
          81.98492163898024,
          97.79674776328882,
          null,
          47.65781093088104,
          214.26951722845877,
          null,
          null,
          null,
          null,
          13.494954433072323,
          214.26951722845865,
          null,
          null,
          312.8095529465792,
          null,
          7.435415957453835,
          -29.80236272801004,
          null
         ],
         "xaxis": "x",
         "y": [
          "L105-110-1_InitialState",
          "L80-211-1_InitialState",
          "L42-46-1_InitialState",
          "L43-44-1_InitialState",
          "L44-47-1_InitialState",
          "L44-54-1_InitialState",
          "L45-60-1_InitialState",
          "L45-74-1_InitialState",
          "L46-81-1_InitialState",
          "L47-113-1_InitialState",
          "L47-73-1_InitialState",
          "L54-55-1_InitialState",
          "L60-62-1_InitialState",
          "L62-144-1_InitialState",
          "L69-79-1_InitialState",
          "L7-12-1_InitialState",
          "L7-131-1_InitialState",
          "L71-73-1_InitialState",
          "L73-76-1_InitialState",
          "L73-79-1_InitialState"
         ],
         "yaxis": "y"
        },
        {
         "alignmentgroup": "True",
         "hovertemplate": "Decomposition part:=loop_flow_from_bg<br>Flow decomposition value=%{x}<br>xnec_id=%{y}<extra></extra>",
         "legendgroup": "loop_flow_from_bg",
         "marker": {
          "color": "#FD3216",
          "pattern": {
           "shape": ""
          }
         },
         "name": "loop_flow_from_bg",
         "offsetgroup": "loop_flow_from_bg",
         "orientation": "h",
         "showlegend": true,
         "textposition": "auto",
         "texttemplate": "%{x:.0f}",
         "type": "bar",
         "x": [
          null,
          null,
          null,
          null,
          10.30724180551572,
          null,
          null,
          null,
          null,
          null,
          null,
          null,
          null,
          null,
          5.173464200377248,
          null,
          null,
          null,
          null,
          132.12380223309842
         ],
         "xaxis": "x",
         "y": [
          "L105-110-1_InitialState",
          "L80-211-1_InitialState",
          "L42-46-1_InitialState",
          "L43-44-1_InitialState",
          "L44-47-1_InitialState",
          "L44-54-1_InitialState",
          "L45-60-1_InitialState",
          "L45-74-1_InitialState",
          "L46-81-1_InitialState",
          "L47-113-1_InitialState",
          "L47-73-1_InitialState",
          "L54-55-1_InitialState",
          "L60-62-1_InitialState",
          "L62-144-1_InitialState",
          "L69-79-1_InitialState",
          "L7-12-1_InitialState",
          "L7-131-1_InitialState",
          "L71-73-1_InitialState",
          "L73-76-1_InitialState",
          "L73-79-1_InitialState"
         ],
         "yaxis": "y"
        },
        {
         "alignmentgroup": "True",
         "hovertemplate": "Decomposition part:=loop_flow_from_cz<br>Flow decomposition value=%{x}<br>xnec_id=%{y}<extra></extra>",
         "legendgroup": "loop_flow_from_cz",
         "marker": {
          "color": "#00A08B",
          "pattern": {
           "shape": ""
          }
         },
         "name": "loop_flow_from_cz",
         "offsetgroup": "loop_flow_from_cz",
         "orientation": "h",
         "showlegend": true,
         "textposition": "auto",
         "texttemplate": "%{x:.0f}",
         "type": "bar",
         "x": [
          null,
          null,
          null,
          null,
          null,
          null,
          null,
          null,
          null,
          null,
          null,
          null,
          null,
          null,
          -4.722974386999297,
          null,
          null,
          null,
          null,
          -19.17510346228602
         ],
         "xaxis": "x",
         "y": [
          "L105-110-1_InitialState",
          "L80-211-1_InitialState",
          "L42-46-1_InitialState",
          "L43-44-1_InitialState",
          "L44-47-1_InitialState",
          "L44-54-1_InitialState",
          "L45-60-1_InitialState",
          "L45-74-1_InitialState",
          "L46-81-1_InitialState",
          "L47-113-1_InitialState",
          "L47-73-1_InitialState",
          "L54-55-1_InitialState",
          "L60-62-1_InitialState",
          "L62-144-1_InitialState",
          "L69-79-1_InitialState",
          "L7-12-1_InitialState",
          "L7-131-1_InitialState",
          "L71-73-1_InitialState",
          "L73-76-1_InitialState",
          "L73-79-1_InitialState"
         ],
         "yaxis": "y"
        },
        {
         "alignmentgroup": "True",
         "hovertemplate": "Decomposition part:=loop_flow_from_dk<br>Flow decomposition value=%{x}<br>xnec_id=%{y}<extra></extra>",
         "legendgroup": "loop_flow_from_dk",
         "marker": {
          "color": "#6C4516",
          "pattern": {
           "shape": ""
          }
         },
         "name": "loop_flow_from_dk",
         "offsetgroup": "loop_flow_from_dk",
         "orientation": "h",
         "showlegend": true,
         "textposition": "auto",
         "texttemplate": "%{x:.0f}",
         "type": "bar",
         "x": [
          null,
          null,
          null,
          null,
          null,
          null,
          null,
          null,
          null,
          null,
          null,
          null,
          null,
          null,
          null,
          null,
          -59.487025202592406,
          null,
          null,
          null
         ],
         "xaxis": "x",
         "y": [
          "L105-110-1_InitialState",
          "L80-211-1_InitialState",
          "L42-46-1_InitialState",
          "L43-44-1_InitialState",
          "L44-47-1_InitialState",
          "L44-54-1_InitialState",
          "L45-60-1_InitialState",
          "L45-74-1_InitialState",
          "L46-81-1_InitialState",
          "L47-113-1_InitialState",
          "L47-73-1_InitialState",
          "L54-55-1_InitialState",
          "L60-62-1_InitialState",
          "L62-144-1_InitialState",
          "L69-79-1_InitialState",
          "L7-12-1_InitialState",
          "L7-131-1_InitialState",
          "L71-73-1_InitialState",
          "L73-76-1_InitialState",
          "L73-79-1_InitialState"
         ],
         "yaxis": "y"
        },
        {
         "alignmentgroup": "True",
         "hovertemplate": "Decomposition part:=loop_flow_from_ee<br>Flow decomposition value=%{x}<br>xnec_id=%{y}<extra></extra>",
         "legendgroup": "loop_flow_from_ee",
         "marker": {
          "color": "#511CFB",
          "pattern": {
           "shape": ""
          }
         },
         "name": "loop_flow_from_ee",
         "offsetgroup": "loop_flow_from_ee",
         "orientation": "h",
         "showlegend": true,
         "textposition": "auto",
         "texttemplate": "%{x:.0f}",
         "type": "bar",
         "x": [
          null,
          null,
          null,
          null,
          null,
          null,
          null,
          null,
          null,
          null,
          null,
          null,
          null,
          null,
          null,
          null,
          null,
          null,
          null,
          null
         ],
         "xaxis": "x",
         "y": [
          "L105-110-1_InitialState",
          "L80-211-1_InitialState",
          "L42-46-1_InitialState",
          "L43-44-1_InitialState",
          "L44-47-1_InitialState",
          "L44-54-1_InitialState",
          "L45-60-1_InitialState",
          "L45-74-1_InitialState",
          "L46-81-1_InitialState",
          "L47-113-1_InitialState",
          "L47-73-1_InitialState",
          "L54-55-1_InitialState",
          "L60-62-1_InitialState",
          "L62-144-1_InitialState",
          "L69-79-1_InitialState",
          "L7-12-1_InitialState",
          "L7-131-1_InitialState",
          "L71-73-1_InitialState",
          "L73-76-1_InitialState",
          "L73-79-1_InitialState"
         ],
         "yaxis": "y"
        },
        {
         "alignmentgroup": "True",
         "hovertemplate": "Decomposition part:=loop_flow_from_fr<br>Flow decomposition value=%{x}<br>xnec_id=%{y}<extra></extra>",
         "legendgroup": "loop_flow_from_fr",
         "marker": {
          "color": "#F6F926",
          "pattern": {
           "shape": ""
          }
         },
         "name": "loop_flow_from_fr",
         "offsetgroup": "loop_flow_from_fr",
         "orientation": "h",
         "showlegend": true,
         "textposition": "auto",
         "texttemplate": "%{x:.0f}",
         "type": "bar",
         "x": [
          -7.566125391632505,
          43.794584138223726,
          -280.41995322438027,
          29.55256854864935,
          -41.86568578085956,
          33.0683096531295,
          -215.52862471845845,
          -173.96353098472161,
          -342.7402393790363,
          8.564571677124091,
          -50.4302574579838,
          -38.871462111701916,
          -215.52862471845827,
          -266.1351832142106,
          -22.672169827685288,
          -32.774734055681776,
          -144.53911358515916,
          -9.031641969985284,
          -34.414955877018755,
          48.64602005017645
         ],
         "xaxis": "x",
         "y": [
          "L105-110-1_InitialState",
          "L80-211-1_InitialState",
          "L42-46-1_InitialState",
          "L43-44-1_InitialState",
          "L44-47-1_InitialState",
          "L44-54-1_InitialState",
          "L45-60-1_InitialState",
          "L45-74-1_InitialState",
          "L46-81-1_InitialState",
          "L47-113-1_InitialState",
          "L47-73-1_InitialState",
          "L54-55-1_InitialState",
          "L60-62-1_InitialState",
          "L62-144-1_InitialState",
          "L69-79-1_InitialState",
          "L7-12-1_InitialState",
          "L7-131-1_InitialState",
          "L71-73-1_InitialState",
          "L73-76-1_InitialState",
          "L73-79-1_InitialState"
         ],
         "yaxis": "y"
        },
        {
         "alignmentgroup": "True",
         "hovertemplate": "Decomposition part:=loop_flow_from_hu<br>Flow decomposition value=%{x}<br>xnec_id=%{y}<extra></extra>",
         "legendgroup": "loop_flow_from_hu",
         "marker": {
          "color": "#C9FBE5",
          "pattern": {
           "shape": ""
          }
         },
         "name": "loop_flow_from_hu",
         "offsetgroup": "loop_flow_from_hu",
         "orientation": "h",
         "showlegend": true,
         "textposition": "auto",
         "texttemplate": "%{x:.0f}",
         "type": "bar",
         "x": [
          null,
          null,
          null,
          null,
          null,
          null,
          -57.59087983860404,
          null,
          null,
          null,
          null,
          -7.86717167501882,
          -57.590879838604046,
          -74.5444382263269,
          null,
          null,
          32.79897538701379,
          null,
          null,
          null
         ],
         "xaxis": "x",
         "y": [
          "L105-110-1_InitialState",
          "L80-211-1_InitialState",
          "L42-46-1_InitialState",
          "L43-44-1_InitialState",
          "L44-47-1_InitialState",
          "L44-54-1_InitialState",
          "L45-60-1_InitialState",
          "L45-74-1_InitialState",
          "L46-81-1_InitialState",
          "L47-113-1_InitialState",
          "L47-73-1_InitialState",
          "L54-55-1_InitialState",
          "L60-62-1_InitialState",
          "L62-144-1_InitialState",
          "L69-79-1_InitialState",
          "L7-12-1_InitialState",
          "L7-131-1_InitialState",
          "L71-73-1_InitialState",
          "L73-76-1_InitialState",
          "L73-79-1_InitialState"
         ],
         "yaxis": "y"
        },
        {
         "alignmentgroup": "True",
         "hovertemplate": "Decomposition part:=loop_flow_from_ie<br>Flow decomposition value=%{x}<br>xnec_id=%{y}<extra></extra>",
         "legendgroup": "loop_flow_from_ie",
         "marker": {
          "color": "#FC0080",
          "pattern": {
           "shape": ""
          }
         },
         "name": "loop_flow_from_ie",
         "offsetgroup": "loop_flow_from_ie",
         "orientation": "h",
         "showlegend": true,
         "textposition": "auto",
         "texttemplate": "%{x:.0f}",
         "type": "bar",
         "x": [
          null,
          null,
          null,
          null,
          null,
          null,
          null,
          null,
          null,
          null,
          null,
          null,
          null,
          null,
          null,
          null,
          null,
          null,
          null,
          null
         ],
         "xaxis": "x",
         "y": [
          "L105-110-1_InitialState",
          "L80-211-1_InitialState",
          "L42-46-1_InitialState",
          "L43-44-1_InitialState",
          "L44-47-1_InitialState",
          "L44-54-1_InitialState",
          "L45-60-1_InitialState",
          "L45-74-1_InitialState",
          "L46-81-1_InitialState",
          "L47-113-1_InitialState",
          "L47-73-1_InitialState",
          "L54-55-1_InitialState",
          "L60-62-1_InitialState",
          "L62-144-1_InitialState",
          "L69-79-1_InitialState",
          "L7-12-1_InitialState",
          "L7-131-1_InitialState",
          "L71-73-1_InitialState",
          "L73-76-1_InitialState",
          "L73-79-1_InitialState"
         ],
         "yaxis": "y"
        },
        {
         "alignmentgroup": "True",
         "hovertemplate": "Decomposition part:=loop_flow_from_lt<br>Flow decomposition value=%{x}<br>xnec_id=%{y}<extra></extra>",
         "legendgroup": "loop_flow_from_lt",
         "marker": {
          "color": "#FB0D0D",
          "pattern": {
           "shape": ""
          }
         },
         "name": "loop_flow_from_lt",
         "offsetgroup": "loop_flow_from_lt",
         "orientation": "h",
         "showlegend": true,
         "textposition": "auto",
         "texttemplate": "%{x:.0f}",
         "type": "bar",
         "x": [
          3.7163857382495604,
          null,
          null,
          null,
          null,
          null,
          null,
          null,
          null,
          null,
          -48.00324631384407,
          null,
          null,
          253.1176696660755,
          null,
          null,
          225.6488738980684,
          null,
          null,
          null
         ],
         "xaxis": "x",
         "y": [
          "L105-110-1_InitialState",
          "L80-211-1_InitialState",
          "L42-46-1_InitialState",
          "L43-44-1_InitialState",
          "L44-47-1_InitialState",
          "L44-54-1_InitialState",
          "L45-60-1_InitialState",
          "L45-74-1_InitialState",
          "L46-81-1_InitialState",
          "L47-113-1_InitialState",
          "L47-73-1_InitialState",
          "L54-55-1_InitialState",
          "L60-62-1_InitialState",
          "L62-144-1_InitialState",
          "L69-79-1_InitialState",
          "L7-12-1_InitialState",
          "L7-131-1_InitialState",
          "L71-73-1_InitialState",
          "L73-76-1_InitialState",
          "L73-79-1_InitialState"
         ],
         "yaxis": "y"
        },
        {
         "alignmentgroup": "True",
         "hovertemplate": "Decomposition part:=loop_flow_from_lu<br>Flow decomposition value=%{x}<br>xnec_id=%{y}<extra></extra>",
         "legendgroup": "loop_flow_from_lu",
         "marker": {
          "color": "#D626FF",
          "pattern": {
           "shape": ""
          }
         },
         "name": "loop_flow_from_lu",
         "offsetgroup": "loop_flow_from_lu",
         "orientation": "h",
         "showlegend": true,
         "textposition": "auto",
         "texttemplate": "%{x:.0f}",
         "type": "bar",
         "x": [
          23.75047179082619,
          15.047794339400472,
          null,
          null,
          26.79787446162563,
          null,
          null,
          null,
          null,
          50.7927022492837,
          -23.994827787658075,
          null,
          null,
          null,
          -6.226134984405837,
          29.789847510333445,
          47.92916106758656,
          null,
          null,
          null
         ],
         "xaxis": "x",
         "y": [
          "L105-110-1_InitialState",
          "L80-211-1_InitialState",
          "L42-46-1_InitialState",
          "L43-44-1_InitialState",
          "L44-47-1_InitialState",
          "L44-54-1_InitialState",
          "L45-60-1_InitialState",
          "L45-74-1_InitialState",
          "L46-81-1_InitialState",
          "L47-113-1_InitialState",
          "L47-73-1_InitialState",
          "L54-55-1_InitialState",
          "L60-62-1_InitialState",
          "L62-144-1_InitialState",
          "L69-79-1_InitialState",
          "L7-12-1_InitialState",
          "L7-131-1_InitialState",
          "L71-73-1_InitialState",
          "L73-76-1_InitialState",
          "L73-79-1_InitialState"
         ],
         "yaxis": "y"
        },
        {
         "alignmentgroup": "True",
         "hovertemplate": "Decomposition part:=pst_flow<br>Flow decomposition value=%{x}<br>xnec_id=%{y}<extra></extra>",
         "legendgroup": "pst_flow",
         "marker": {
          "color": "#DA16FF",
          "pattern": {
           "shape": ""
          }
         },
         "name": "pst_flow",
         "offsetgroup": "pst_flow",
         "orientation": "h",
         "showlegend": true,
         "textposition": "auto",
         "texttemplate": "%{x:.0f}",
         "type": "bar",
         "x": [
          null,
          null,
          null,
          null,
          null,
          null,
          null,
          null,
          null,
          null,
          null,
          null,
          null,
          null,
          null,
          null,
          null,
          null,
          null,
          null
         ],
         "xaxis": "x",
         "y": [
          "L105-110-1_InitialState",
          "L80-211-1_InitialState",
          "L42-46-1_InitialState",
          "L43-44-1_InitialState",
          "L44-47-1_InitialState",
          "L44-54-1_InitialState",
          "L45-60-1_InitialState",
          "L45-74-1_InitialState",
          "L46-81-1_InitialState",
          "L47-113-1_InitialState",
          "L47-73-1_InitialState",
          "L54-55-1_InitialState",
          "L60-62-1_InitialState",
          "L62-144-1_InitialState",
          "L69-79-1_InitialState",
          "L7-12-1_InitialState",
          "L7-131-1_InitialState",
          "L71-73-1_InitialState",
          "L73-76-1_InitialState",
          "L73-79-1_InitialState"
         ],
         "yaxis": "y"
        },
        {
         "alignmentgroup": "True",
         "hovertemplate": "Decomposition part:=masked_flows_positive<br>Flow decomposition value=%{x}<br>xnec_id=%{y}<extra></extra>",
         "legendgroup": "masked_flows_positive",
         "marker": {
          "color": "#86CE00",
          "pattern": {
           "shape": ""
          }
         },
         "name": "masked_flows_positive",
         "offsetgroup": "masked_flows_positive",
         "orientation": "h",
         "showlegend": true,
         "textposition": "auto",
         "texttemplate": "%{x:.0f}",
         "type": "bar",
         "x": [
          1.5600460026623892,
          8.626745130895259,
          118.7829613362461,
          19.1912546444839,
          14.27732505828331,
          10.20750556555127,
          25.402245369245627,
          42.11504931407945,
          28.03480708836767,
          3.0312533159811177,
          19.014376918162704,
          7.151325892477022,
          25.402245369245563,
          31.877199616398574,
          1.9187605945518742,
          8.18206283953709,
          3.8269258102308603,
          0.7694148134789545,
          4.265330025629502,
          23.037949125286353
         ],
         "xaxis": "x",
         "y": [
          "L105-110-1_InitialState",
          "L80-211-1_InitialState",
          "L42-46-1_InitialState",
          "L43-44-1_InitialState",
          "L44-47-1_InitialState",
          "L44-54-1_InitialState",
          "L45-60-1_InitialState",
          "L45-74-1_InitialState",
          "L46-81-1_InitialState",
          "L47-113-1_InitialState",
          "L47-73-1_InitialState",
          "L54-55-1_InitialState",
          "L60-62-1_InitialState",
          "L62-144-1_InitialState",
          "L69-79-1_InitialState",
          "L7-12-1_InitialState",
          "L7-131-1_InitialState",
          "L71-73-1_InitialState",
          "L73-76-1_InitialState",
          "L73-79-1_InitialState"
         ],
         "yaxis": "y"
        },
        {
         "alignmentgroup": "True",
         "hovertemplate": "Decomposition part:=masked_flows_negative<br>Flow decomposition value=%{x}<br>xnec_id=%{y}<extra></extra>",
         "legendgroup": "masked_flows_negative",
         "marker": {
          "color": "#6A76FC",
          "pattern": {
           "shape": ""
          }
         },
         "name": "masked_flows_negative",
         "offsetgroup": "masked_flows_negative",
         "orientation": "h",
         "showlegend": true,
         "textposition": "auto",
         "texttemplate": "%{x:.0f}",
         "type": "bar",
         "x": [
          -0.7145688152911411,
          -1.3474190841604705,
          -7.795087304348749,
          -12.293191464956433,
          -3.583921743268374,
          -4.130034259808964,
          -30.298916671538887,
          -28.463331927740473,
          -65.81782835167635,
          -7.65649248519388,
          -3.3852463145752942,
          -5.485259815667899,
          -30.29891667153888,
          -36.04338765741187,
          -0.618112828948906,
          -10.892580031345819,
          -0.5859527243235298,
          -5.011428471474044,
          -19.47571599549113,
          -1.5829948854158662
         ],
         "xaxis": "x",
         "y": [
          "L105-110-1_InitialState",
          "L80-211-1_InitialState",
          "L42-46-1_InitialState",
          "L43-44-1_InitialState",
          "L44-47-1_InitialState",
          "L44-54-1_InitialState",
          "L45-60-1_InitialState",
          "L45-74-1_InitialState",
          "L46-81-1_InitialState",
          "L47-113-1_InitialState",
          "L47-73-1_InitialState",
          "L54-55-1_InitialState",
          "L60-62-1_InitialState",
          "L62-144-1_InitialState",
          "L69-79-1_InitialState",
          "L7-12-1_InitialState",
          "L7-131-1_InitialState",
          "L71-73-1_InitialState",
          "L73-76-1_InitialState",
          "L73-79-1_InitialState"
         ],
         "yaxis": "y"
        },
        {
         "mode": "lines+markers",
         "name": "total_flow",
         "type": "scatter",
         "x": [
          42.6331134107054,
          35.934621438443735,
          552.8304851848867,
          59.6315769783941,
          103.5101380203998,
          16.49207187691705,
          250.30770475863585,
          209.71708252469892,
          256.5241459399375,
          31.215137990899958,
          14.295000029499896,
          43.500245130077204,
          250.30770475863565,
          145.99313411310493,
          14.411841992884403,
          199.03737762712905,
          6.569162304139155,
          57.7532839228617,
          20.22744854548953,
          32.1587753278534
         ],
         "y": [
          "L105-110-1_InitialState",
          "L80-211-1_InitialState",
          "L42-46-1_InitialState",
          "L43-44-1_InitialState",
          "L44-47-1_InitialState",
          "L44-54-1_InitialState",
          "L45-60-1_InitialState",
          "L45-74-1_InitialState",
          "L46-81-1_InitialState",
          "L47-113-1_InitialState",
          "L47-73-1_InitialState",
          "L54-55-1_InitialState",
          "L60-62-1_InitialState",
          "L62-144-1_InitialState",
          "L69-79-1_InitialState",
          "L7-12-1_InitialState",
          "L7-131-1_InitialState",
          "L71-73-1_InitialState",
          "L73-76-1_InitialState",
          "L73-79-1_InitialState"
         ]
        },
        {
         "mode": "lines+markers",
         "name": "total_loop_flow",
         "type": "scatter",
         "x": [
          20.746209324814494,
          66.12170452435899,
          -169.4320791924829,
          36.450631728176816,
          -3.2944564219504073,
          39.14578095887181,
          -278.01617585935577,
          -160.31181359838263,
          -367.52566294567475,
          54.73203475719503,
          -106.79920095589853,
          -45.07256770991161,
          -278.01617585935566,
          -91.72813981547533,
          -27.147167233110203,
          -5.695403737157058,
          105.59184465082453,
          -13.273655627980373,
          -49.62534184688039,
          183.04967306085933
         ],
         "y": [
          "L105-110-1_InitialState",
          "L80-211-1_InitialState",
          "L42-46-1_InitialState",
          "L43-44-1_InitialState",
          "L44-47-1_InitialState",
          "L44-54-1_InitialState",
          "L45-60-1_InitialState",
          "L45-74-1_InitialState",
          "L46-81-1_InitialState",
          "L47-113-1_InitialState",
          "L47-73-1_InitialState",
          "L54-55-1_InitialState",
          "L60-62-1_InitialState",
          "L62-144-1_InitialState",
          "L69-79-1_InitialState",
          "L7-12-1_InitialState",
          "L7-131-1_InitialState",
          "L71-73-1_InitialState",
          "L73-76-1_InitialState",
          "L73-79-1_InitialState"
         ]
        }
       ],
       "layout": {
        "barmode": "relative",
        "height": 1000,
        "legend": {
         "title": {
          "text": "Decomposition part:"
         },
         "tracegroupgap": 0
        },
        "template": {
         "data": {
          "bar": [
           {
            "error_x": {
             "color": "rgb(36,36,36)"
            },
            "error_y": {
             "color": "rgb(36,36,36)"
            },
            "marker": {
             "line": {
              "color": "rgb(234,234,242)",
              "width": 0.5
             },
             "pattern": {
              "fillmode": "overlay",
              "size": 10,
              "solidity": 0.2
             }
            },
            "type": "bar"
           }
          ],
          "barpolar": [
           {
            "marker": {
             "line": {
              "color": "rgb(234,234,242)",
              "width": 0.5
             },
             "pattern": {
              "fillmode": "overlay",
              "size": 10,
              "solidity": 0.2
             }
            },
            "type": "barpolar"
           }
          ],
          "carpet": [
           {
            "aaxis": {
             "endlinecolor": "rgb(36,36,36)",
             "gridcolor": "white",
             "linecolor": "white",
             "minorgridcolor": "white",
             "startlinecolor": "rgb(36,36,36)"
            },
            "baxis": {
             "endlinecolor": "rgb(36,36,36)",
             "gridcolor": "white",
             "linecolor": "white",
             "minorgridcolor": "white",
             "startlinecolor": "rgb(36,36,36)"
            },
            "type": "carpet"
           }
          ],
          "choropleth": [
           {
            "colorbar": {
             "outlinewidth": 0,
             "tickcolor": "rgb(36,36,36)",
             "ticklen": 8,
             "ticks": "outside",
             "tickwidth": 2
            },
            "type": "choropleth"
           }
          ],
          "contour": [
           {
            "colorbar": {
             "outlinewidth": 0,
             "tickcolor": "rgb(36,36,36)",
             "ticklen": 8,
             "ticks": "outside",
             "tickwidth": 2
            },
            "colorscale": [
             [
              0,
              "rgb(2,4,25)"
             ],
             [
              0.06274509803921569,
              "rgb(24,15,41)"
             ],
             [
              0.12549019607843137,
              "rgb(47,23,57)"
             ],
             [
              0.18823529411764706,
              "rgb(71,28,72)"
             ],
             [
              0.25098039215686274,
              "rgb(97,30,82)"
             ],
             [
              0.3137254901960784,
              "rgb(123,30,89)"
             ],
             [
              0.3764705882352941,
              "rgb(150,27,91)"
             ],
             [
              0.4392156862745098,
              "rgb(177,22,88)"
             ],
             [
              0.5019607843137255,
              "rgb(203,26,79)"
             ],
             [
              0.5647058823529412,
              "rgb(223,47,67)"
             ],
             [
              0.6274509803921569,
              "rgb(236,76,61)"
             ],
             [
              0.6901960784313725,
              "rgb(242,107,73)"
             ],
             [
              0.7529411764705882,
              "rgb(244,135,95)"
             ],
             [
              0.8156862745098039,
              "rgb(245,162,122)"
             ],
             [
              0.8784313725490196,
              "rgb(246,188,153)"
             ],
             [
              0.9411764705882353,
              "rgb(247,212,187)"
             ],
             [
              1,
              "rgb(250,234,220)"
             ]
            ],
            "type": "contour"
           }
          ],
          "contourcarpet": [
           {
            "colorbar": {
             "outlinewidth": 0,
             "tickcolor": "rgb(36,36,36)",
             "ticklen": 8,
             "ticks": "outside",
             "tickwidth": 2
            },
            "type": "contourcarpet"
           }
          ],
          "heatmap": [
           {
            "colorbar": {
             "outlinewidth": 0,
             "tickcolor": "rgb(36,36,36)",
             "ticklen": 8,
             "ticks": "outside",
             "tickwidth": 2
            },
            "colorscale": [
             [
              0,
              "rgb(2,4,25)"
             ],
             [
              0.06274509803921569,
              "rgb(24,15,41)"
             ],
             [
              0.12549019607843137,
              "rgb(47,23,57)"
             ],
             [
              0.18823529411764706,
              "rgb(71,28,72)"
             ],
             [
              0.25098039215686274,
              "rgb(97,30,82)"
             ],
             [
              0.3137254901960784,
              "rgb(123,30,89)"
             ],
             [
              0.3764705882352941,
              "rgb(150,27,91)"
             ],
             [
              0.4392156862745098,
              "rgb(177,22,88)"
             ],
             [
              0.5019607843137255,
              "rgb(203,26,79)"
             ],
             [
              0.5647058823529412,
              "rgb(223,47,67)"
             ],
             [
              0.6274509803921569,
              "rgb(236,76,61)"
             ],
             [
              0.6901960784313725,
              "rgb(242,107,73)"
             ],
             [
              0.7529411764705882,
              "rgb(244,135,95)"
             ],
             [
              0.8156862745098039,
              "rgb(245,162,122)"
             ],
             [
              0.8784313725490196,
              "rgb(246,188,153)"
             ],
             [
              0.9411764705882353,
              "rgb(247,212,187)"
             ],
             [
              1,
              "rgb(250,234,220)"
             ]
            ],
            "type": "heatmap"
           }
          ],
          "heatmapgl": [
           {
            "colorbar": {
             "outlinewidth": 0,
             "tickcolor": "rgb(36,36,36)",
             "ticklen": 8,
             "ticks": "outside",
             "tickwidth": 2
            },
            "colorscale": [
             [
              0,
              "rgb(2,4,25)"
             ],
             [
              0.06274509803921569,
              "rgb(24,15,41)"
             ],
             [
              0.12549019607843137,
              "rgb(47,23,57)"
             ],
             [
              0.18823529411764706,
              "rgb(71,28,72)"
             ],
             [
              0.25098039215686274,
              "rgb(97,30,82)"
             ],
             [
              0.3137254901960784,
              "rgb(123,30,89)"
             ],
             [
              0.3764705882352941,
              "rgb(150,27,91)"
             ],
             [
              0.4392156862745098,
              "rgb(177,22,88)"
             ],
             [
              0.5019607843137255,
              "rgb(203,26,79)"
             ],
             [
              0.5647058823529412,
              "rgb(223,47,67)"
             ],
             [
              0.6274509803921569,
              "rgb(236,76,61)"
             ],
             [
              0.6901960784313725,
              "rgb(242,107,73)"
             ],
             [
              0.7529411764705882,
              "rgb(244,135,95)"
             ],
             [
              0.8156862745098039,
              "rgb(245,162,122)"
             ],
             [
              0.8784313725490196,
              "rgb(246,188,153)"
             ],
             [
              0.9411764705882353,
              "rgb(247,212,187)"
             ],
             [
              1,
              "rgb(250,234,220)"
             ]
            ],
            "type": "heatmapgl"
           }
          ],
          "histogram": [
           {
            "marker": {
             "pattern": {
              "fillmode": "overlay",
              "size": 10,
              "solidity": 0.2
             }
            },
            "type": "histogram"
           }
          ],
          "histogram2d": [
           {
            "colorbar": {
             "outlinewidth": 0,
             "tickcolor": "rgb(36,36,36)",
             "ticklen": 8,
             "ticks": "outside",
             "tickwidth": 2
            },
            "colorscale": [
             [
              0,
              "rgb(2,4,25)"
             ],
             [
              0.06274509803921569,
              "rgb(24,15,41)"
             ],
             [
              0.12549019607843137,
              "rgb(47,23,57)"
             ],
             [
              0.18823529411764706,
              "rgb(71,28,72)"
             ],
             [
              0.25098039215686274,
              "rgb(97,30,82)"
             ],
             [
              0.3137254901960784,
              "rgb(123,30,89)"
             ],
             [
              0.3764705882352941,
              "rgb(150,27,91)"
             ],
             [
              0.4392156862745098,
              "rgb(177,22,88)"
             ],
             [
              0.5019607843137255,
              "rgb(203,26,79)"
             ],
             [
              0.5647058823529412,
              "rgb(223,47,67)"
             ],
             [
              0.6274509803921569,
              "rgb(236,76,61)"
             ],
             [
              0.6901960784313725,
              "rgb(242,107,73)"
             ],
             [
              0.7529411764705882,
              "rgb(244,135,95)"
             ],
             [
              0.8156862745098039,
              "rgb(245,162,122)"
             ],
             [
              0.8784313725490196,
              "rgb(246,188,153)"
             ],
             [
              0.9411764705882353,
              "rgb(247,212,187)"
             ],
             [
              1,
              "rgb(250,234,220)"
             ]
            ],
            "type": "histogram2d"
           }
          ],
          "histogram2dcontour": [
           {
            "colorbar": {
             "outlinewidth": 0,
             "tickcolor": "rgb(36,36,36)",
             "ticklen": 8,
             "ticks": "outside",
             "tickwidth": 2
            },
            "colorscale": [
             [
              0,
              "rgb(2,4,25)"
             ],
             [
              0.06274509803921569,
              "rgb(24,15,41)"
             ],
             [
              0.12549019607843137,
              "rgb(47,23,57)"
             ],
             [
              0.18823529411764706,
              "rgb(71,28,72)"
             ],
             [
              0.25098039215686274,
              "rgb(97,30,82)"
             ],
             [
              0.3137254901960784,
              "rgb(123,30,89)"
             ],
             [
              0.3764705882352941,
              "rgb(150,27,91)"
             ],
             [
              0.4392156862745098,
              "rgb(177,22,88)"
             ],
             [
              0.5019607843137255,
              "rgb(203,26,79)"
             ],
             [
              0.5647058823529412,
              "rgb(223,47,67)"
             ],
             [
              0.6274509803921569,
              "rgb(236,76,61)"
             ],
             [
              0.6901960784313725,
              "rgb(242,107,73)"
             ],
             [
              0.7529411764705882,
              "rgb(244,135,95)"
             ],
             [
              0.8156862745098039,
              "rgb(245,162,122)"
             ],
             [
              0.8784313725490196,
              "rgb(246,188,153)"
             ],
             [
              0.9411764705882353,
              "rgb(247,212,187)"
             ],
             [
              1,
              "rgb(250,234,220)"
             ]
            ],
            "type": "histogram2dcontour"
           }
          ],
          "mesh3d": [
           {
            "colorbar": {
             "outlinewidth": 0,
             "tickcolor": "rgb(36,36,36)",
             "ticklen": 8,
             "ticks": "outside",
             "tickwidth": 2
            },
            "type": "mesh3d"
           }
          ],
          "parcoords": [
           {
            "line": {
             "colorbar": {
              "outlinewidth": 0,
              "tickcolor": "rgb(36,36,36)",
              "ticklen": 8,
              "ticks": "outside",
              "tickwidth": 2
             }
            },
            "type": "parcoords"
           }
          ],
          "pie": [
           {
            "automargin": true,
            "type": "pie"
           }
          ],
          "scatter": [
           {
            "fillpattern": {
             "fillmode": "overlay",
             "size": 10,
             "solidity": 0.2
            },
            "type": "scatter"
           }
          ],
          "scatter3d": [
           {
            "line": {
             "colorbar": {
              "outlinewidth": 0,
              "tickcolor": "rgb(36,36,36)",
              "ticklen": 8,
              "ticks": "outside",
              "tickwidth": 2
             }
            },
            "marker": {
             "colorbar": {
              "outlinewidth": 0,
              "tickcolor": "rgb(36,36,36)",
              "ticklen": 8,
              "ticks": "outside",
              "tickwidth": 2
             }
            },
            "type": "scatter3d"
           }
          ],
          "scattercarpet": [
           {
            "marker": {
             "colorbar": {
              "outlinewidth": 0,
              "tickcolor": "rgb(36,36,36)",
              "ticklen": 8,
              "ticks": "outside",
              "tickwidth": 2
             }
            },
            "type": "scattercarpet"
           }
          ],
          "scattergeo": [
           {
            "marker": {
             "colorbar": {
              "outlinewidth": 0,
              "tickcolor": "rgb(36,36,36)",
              "ticklen": 8,
              "ticks": "outside",
              "tickwidth": 2
             }
            },
            "type": "scattergeo"
           }
          ],
          "scattergl": [
           {
            "marker": {
             "colorbar": {
              "outlinewidth": 0,
              "tickcolor": "rgb(36,36,36)",
              "ticklen": 8,
              "ticks": "outside",
              "tickwidth": 2
             }
            },
            "type": "scattergl"
           }
          ],
          "scattermapbox": [
           {
            "marker": {
             "colorbar": {
              "outlinewidth": 0,
              "tickcolor": "rgb(36,36,36)",
              "ticklen": 8,
              "ticks": "outside",
              "tickwidth": 2
             }
            },
            "type": "scattermapbox"
           }
          ],
          "scatterpolar": [
           {
            "marker": {
             "colorbar": {
              "outlinewidth": 0,
              "tickcolor": "rgb(36,36,36)",
              "ticklen": 8,
              "ticks": "outside",
              "tickwidth": 2
             }
            },
            "type": "scatterpolar"
           }
          ],
          "scatterpolargl": [
           {
            "marker": {
             "colorbar": {
              "outlinewidth": 0,
              "tickcolor": "rgb(36,36,36)",
              "ticklen": 8,
              "ticks": "outside",
              "tickwidth": 2
             }
            },
            "type": "scatterpolargl"
           }
          ],
          "scatterternary": [
           {
            "marker": {
             "colorbar": {
              "outlinewidth": 0,
              "tickcolor": "rgb(36,36,36)",
              "ticklen": 8,
              "ticks": "outside",
              "tickwidth": 2
             }
            },
            "type": "scatterternary"
           }
          ],
          "surface": [
           {
            "colorbar": {
             "outlinewidth": 0,
             "tickcolor": "rgb(36,36,36)",
             "ticklen": 8,
             "ticks": "outside",
             "tickwidth": 2
            },
            "colorscale": [
             [
              0,
              "rgb(2,4,25)"
             ],
             [
              0.06274509803921569,
              "rgb(24,15,41)"
             ],
             [
              0.12549019607843137,
              "rgb(47,23,57)"
             ],
             [
              0.18823529411764706,
              "rgb(71,28,72)"
             ],
             [
              0.25098039215686274,
              "rgb(97,30,82)"
             ],
             [
              0.3137254901960784,
              "rgb(123,30,89)"
             ],
             [
              0.3764705882352941,
              "rgb(150,27,91)"
             ],
             [
              0.4392156862745098,
              "rgb(177,22,88)"
             ],
             [
              0.5019607843137255,
              "rgb(203,26,79)"
             ],
             [
              0.5647058823529412,
              "rgb(223,47,67)"
             ],
             [
              0.6274509803921569,
              "rgb(236,76,61)"
             ],
             [
              0.6901960784313725,
              "rgb(242,107,73)"
             ],
             [
              0.7529411764705882,
              "rgb(244,135,95)"
             ],
             [
              0.8156862745098039,
              "rgb(245,162,122)"
             ],
             [
              0.8784313725490196,
              "rgb(246,188,153)"
             ],
             [
              0.9411764705882353,
              "rgb(247,212,187)"
             ],
             [
              1,
              "rgb(250,234,220)"
             ]
            ],
            "type": "surface"
           }
          ],
          "table": [
           {
            "cells": {
             "fill": {
              "color": "rgb(231,231,240)"
             },
             "line": {
              "color": "white"
             }
            },
            "header": {
             "fill": {
              "color": "rgb(183,183,191)"
             },
             "line": {
              "color": "white"
             }
            },
            "type": "table"
           }
          ]
         },
         "layout": {
          "annotationdefaults": {
           "arrowcolor": "rgb(67,103,167)"
          },
          "autotypenumbers": "strict",
          "coloraxis": {
           "colorbar": {
            "outlinewidth": 0,
            "tickcolor": "rgb(36,36,36)",
            "ticklen": 8,
            "ticks": "outside",
            "tickwidth": 2
           }
          },
          "colorscale": {
           "sequential": [
            [
             0,
             "rgb(2,4,25)"
            ],
            [
             0.06274509803921569,
             "rgb(24,15,41)"
            ],
            [
             0.12549019607843137,
             "rgb(47,23,57)"
            ],
            [
             0.18823529411764706,
             "rgb(71,28,72)"
            ],
            [
             0.25098039215686274,
             "rgb(97,30,82)"
            ],
            [
             0.3137254901960784,
             "rgb(123,30,89)"
            ],
            [
             0.3764705882352941,
             "rgb(150,27,91)"
            ],
            [
             0.4392156862745098,
             "rgb(177,22,88)"
            ],
            [
             0.5019607843137255,
             "rgb(203,26,79)"
            ],
            [
             0.5647058823529412,
             "rgb(223,47,67)"
            ],
            [
             0.6274509803921569,
             "rgb(236,76,61)"
            ],
            [
             0.6901960784313725,
             "rgb(242,107,73)"
            ],
            [
             0.7529411764705882,
             "rgb(244,135,95)"
            ],
            [
             0.8156862745098039,
             "rgb(245,162,122)"
            ],
            [
             0.8784313725490196,
             "rgb(246,188,153)"
            ],
            [
             0.9411764705882353,
             "rgb(247,212,187)"
            ],
            [
             1,
             "rgb(250,234,220)"
            ]
           ],
           "sequentialminus": [
            [
             0,
             "rgb(2,4,25)"
            ],
            [
             0.06274509803921569,
             "rgb(24,15,41)"
            ],
            [
             0.12549019607843137,
             "rgb(47,23,57)"
            ],
            [
             0.18823529411764706,
             "rgb(71,28,72)"
            ],
            [
             0.25098039215686274,
             "rgb(97,30,82)"
            ],
            [
             0.3137254901960784,
             "rgb(123,30,89)"
            ],
            [
             0.3764705882352941,
             "rgb(150,27,91)"
            ],
            [
             0.4392156862745098,
             "rgb(177,22,88)"
            ],
            [
             0.5019607843137255,
             "rgb(203,26,79)"
            ],
            [
             0.5647058823529412,
             "rgb(223,47,67)"
            ],
            [
             0.6274509803921569,
             "rgb(236,76,61)"
            ],
            [
             0.6901960784313725,
             "rgb(242,107,73)"
            ],
            [
             0.7529411764705882,
             "rgb(244,135,95)"
            ],
            [
             0.8156862745098039,
             "rgb(245,162,122)"
            ],
            [
             0.8784313725490196,
             "rgb(246,188,153)"
            ],
            [
             0.9411764705882353,
             "rgb(247,212,187)"
            ],
            [
             1,
             "rgb(250,234,220)"
            ]
           ]
          },
          "colorway": [
           "rgb(76,114,176)",
           "rgb(221,132,82)",
           "rgb(85,168,104)",
           "rgb(196,78,82)",
           "rgb(129,114,179)",
           "rgb(147,120,96)",
           "rgb(218,139,195)",
           "rgb(140,140,140)",
           "rgb(204,185,116)",
           "rgb(100,181,205)"
          ],
          "font": {
           "color": "rgb(36,36,36)"
          },
          "geo": {
           "bgcolor": "white",
           "lakecolor": "white",
           "landcolor": "rgb(234,234,242)",
           "showlakes": true,
           "showland": true,
           "subunitcolor": "white"
          },
          "hoverlabel": {
           "align": "left"
          },
          "hovermode": "closest",
          "paper_bgcolor": "white",
          "plot_bgcolor": "rgb(234,234,242)",
          "polar": {
           "angularaxis": {
            "gridcolor": "white",
            "linecolor": "white",
            "showgrid": true,
            "ticks": ""
           },
           "bgcolor": "rgb(234,234,242)",
           "radialaxis": {
            "gridcolor": "white",
            "linecolor": "white",
            "showgrid": true,
            "ticks": ""
           }
          },
          "scene": {
           "xaxis": {
            "backgroundcolor": "rgb(234,234,242)",
            "gridcolor": "white",
            "gridwidth": 2,
            "linecolor": "white",
            "showbackground": true,
            "showgrid": true,
            "ticks": "",
            "zerolinecolor": "white"
           },
           "yaxis": {
            "backgroundcolor": "rgb(234,234,242)",
            "gridcolor": "white",
            "gridwidth": 2,
            "linecolor": "white",
            "showbackground": true,
            "showgrid": true,
            "ticks": "",
            "zerolinecolor": "white"
           },
           "zaxis": {
            "backgroundcolor": "rgb(234,234,242)",
            "gridcolor": "white",
            "gridwidth": 2,
            "linecolor": "white",
            "showbackground": true,
            "showgrid": true,
            "ticks": "",
            "zerolinecolor": "white"
           }
          },
          "shapedefaults": {
           "fillcolor": "rgb(67,103,167)",
           "line": {
            "width": 0
           },
           "opacity": 0.5
          },
          "ternary": {
           "aaxis": {
            "gridcolor": "white",
            "linecolor": "white",
            "showgrid": true,
            "ticks": ""
           },
           "baxis": {
            "gridcolor": "white",
            "linecolor": "white",
            "showgrid": true,
            "ticks": ""
           },
           "bgcolor": "rgb(234,234,242)",
           "caxis": {
            "gridcolor": "white",
            "linecolor": "white",
            "showgrid": true,
            "ticks": ""
           }
          },
          "xaxis": {
           "automargin": true,
           "gridcolor": "white",
           "linecolor": "white",
           "showgrid": true,
           "ticks": "",
           "title": {
            "standoff": 15
           },
           "zerolinecolor": "white"
          },
          "yaxis": {
           "automargin": true,
           "gridcolor": "white",
           "linecolor": "white",
           "showgrid": true,
           "ticks": "",
           "title": {
            "standoff": 15
           },
           "zerolinecolor": "white"
          }
         }
        },
        "title": {
         "text": "Sorted by: pst_flow, ascending: False, head: 20"
        },
        "xaxis": {
         "anchor": "y",
         "domain": [
          0,
          1
         ],
         "title": {
          "text": "Flow decomposition value"
         }
        },
        "yaxis": {
         "anchor": "x",
         "domain": [
          0,
          1
         ],
         "title": {
          "text": "xnec_id"
         }
        }
       }
      }
     },
     "metadata": {},
     "output_type": "display_data"
    }
   ],
   "source": [
    "flow_decomposition_bar_chart('pst_flow')"
   ]
  },
  {
   "cell_type": "code",
   "execution_count": 13,
   "metadata": {},
   "outputs": [
    {
     "data": {
      "application/vnd.plotly.v1+json": {
       "config": {
        "plotlyServerURL": "https://plot.ly"
       },
       "data": [
        {
         "alignmentgroup": "True",
         "hovertemplate": "Decomposition part:=commercial_flow<br>Flow decomposition value=%{x}<br>xnec_id=%{y}<extra></extra>",
         "legendgroup": "commercial_flow",
         "marker": {
          "color": "#0DF9FF",
          "pattern": {
           "shape": ""
          }
         },
         "name": "commercial_flow",
         "offsetgroup": "commercial_flow",
         "orientation": "h",
         "showlegend": true,
         "textposition": "auto",
         "texttemplate": "%{x:.0f}",
         "type": "bar",
         "x": [
          21.8869040858909,
          640.2776427383893,
          -74.61580251307154,
          97.57730421910307,
          -70.3115200128358,
          314.0543633895329,
          370.02889612308155,
          637.0474065822824,
          -23.51689676629507,
          121.09420098539846,
          75.0778584069165,
          314.05436338953274,
          267.2440997027553,
          237.72127392858022,
          -108.07677158229309,
          -99.02268234668537,
          63.59152359338825,
          99.65515312037995,
          -150.89089773300594,
          -176.9851548263697
         ],
         "xaxis": "x",
         "y": [
          "L105-110-1_InitialState",
          "L42-46-1_InitialState",
          "L43-44-1_InitialState",
          "L44-47-1_InitialState",
          "L44-54-1_InitialState",
          "L45-60-1_InitialState",
          "L45-74-1_InitialState",
          "L46-81-1_InitialState",
          "L47-113-1_InitialState",
          "L47-73-1_InitialState",
          "L54-55-1_InitialState",
          "L60-62-1_InitialState",
          "L4-16-1_InitialState",
          "L62-144-1_InitialState",
          "L7-12-1_InitialState",
          "L7-131-1_InitialState",
          "L71-73-1_InitialState",
          "L73-76-1_InitialState",
          "L73-79-1_InitialState",
          "L74-88-1_InitialState"
         ],
         "yaxis": "y"
        },
        {
         "alignmentgroup": "True",
         "hovertemplate": "Decomposition part:=internal_flow<br>Flow decomposition value=%{x}<br>xnec_id=%{y}<extra></extra>",
         "legendgroup": "internal_flow",
         "marker": {
          "color": "#AF0038",
          "pattern": {
           "shape": ""
          }
         },
         "name": "internal_flow",
         "offsetgroup": "internal_flow",
         "orientation": "h",
         "showlegend": true,
         "textposition": "auto",
         "texttemplate": "%{x:.0f}",
         "type": "bar",
         "x": [
          null,
          81.98492163898024,
          97.79674776328882,
          null,
          47.65781093088104,
          214.26951722845877,
          null,
          null,
          null,
          null,
          13.494954433072323,
          214.26951722845865,
          755.0339959734674,
          null,
          312.8095529465792,
          null,
          7.435415957453835,
          -29.80236272801004,
          null,
          null
         ],
         "xaxis": "x",
         "y": [
          "L105-110-1_InitialState",
          "L42-46-1_InitialState",
          "L43-44-1_InitialState",
          "L44-47-1_InitialState",
          "L44-54-1_InitialState",
          "L45-60-1_InitialState",
          "L45-74-1_InitialState",
          "L46-81-1_InitialState",
          "L47-113-1_InitialState",
          "L47-73-1_InitialState",
          "L54-55-1_InitialState",
          "L60-62-1_InitialState",
          "L4-16-1_InitialState",
          "L62-144-1_InitialState",
          "L7-12-1_InitialState",
          "L7-131-1_InitialState",
          "L71-73-1_InitialState",
          "L73-76-1_InitialState",
          "L73-79-1_InitialState",
          "L74-88-1_InitialState"
         ],
         "yaxis": "y"
        },
        {
         "alignmentgroup": "True",
         "hovertemplate": "Decomposition part:=loop_flow_from_bg<br>Flow decomposition value=%{x}<br>xnec_id=%{y}<extra></extra>",
         "legendgroup": "loop_flow_from_bg",
         "marker": {
          "color": "#FD3216",
          "pattern": {
           "shape": ""
          }
         },
         "name": "loop_flow_from_bg",
         "offsetgroup": "loop_flow_from_bg",
         "orientation": "h",
         "showlegend": true,
         "textposition": "auto",
         "texttemplate": "%{x:.0f}",
         "type": "bar",
         "x": [
          null,
          null,
          null,
          10.30724180551572,
          null,
          null,
          null,
          null,
          null,
          null,
          null,
          null,
          null,
          null,
          null,
          null,
          null,
          null,
          132.12380223309842,
          79.312969412018
         ],
         "xaxis": "x",
         "y": [
          "L105-110-1_InitialState",
          "L42-46-1_InitialState",
          "L43-44-1_InitialState",
          "L44-47-1_InitialState",
          "L44-54-1_InitialState",
          "L45-60-1_InitialState",
          "L45-74-1_InitialState",
          "L46-81-1_InitialState",
          "L47-113-1_InitialState",
          "L47-73-1_InitialState",
          "L54-55-1_InitialState",
          "L60-62-1_InitialState",
          "L4-16-1_InitialState",
          "L62-144-1_InitialState",
          "L7-12-1_InitialState",
          "L7-131-1_InitialState",
          "L71-73-1_InitialState",
          "L73-76-1_InitialState",
          "L73-79-1_InitialState",
          "L74-88-1_InitialState"
         ],
         "yaxis": "y"
        },
        {
         "alignmentgroup": "True",
         "hovertemplate": "Decomposition part:=loop_flow_from_cz<br>Flow decomposition value=%{x}<br>xnec_id=%{y}<extra></extra>",
         "legendgroup": "loop_flow_from_cz",
         "marker": {
          "color": "#00A08B",
          "pattern": {
           "shape": ""
          }
         },
         "name": "loop_flow_from_cz",
         "offsetgroup": "loop_flow_from_cz",
         "orientation": "h",
         "showlegend": true,
         "textposition": "auto",
         "texttemplate": "%{x:.0f}",
         "type": "bar",
         "x": [
          null,
          null,
          null,
          null,
          null,
          null,
          null,
          null,
          null,
          null,
          null,
          null,
          null,
          null,
          null,
          null,
          null,
          null,
          -19.17510346228602,
          null
         ],
         "xaxis": "x",
         "y": [
          "L105-110-1_InitialState",
          "L42-46-1_InitialState",
          "L43-44-1_InitialState",
          "L44-47-1_InitialState",
          "L44-54-1_InitialState",
          "L45-60-1_InitialState",
          "L45-74-1_InitialState",
          "L46-81-1_InitialState",
          "L47-113-1_InitialState",
          "L47-73-1_InitialState",
          "L54-55-1_InitialState",
          "L60-62-1_InitialState",
          "L4-16-1_InitialState",
          "L62-144-1_InitialState",
          "L7-12-1_InitialState",
          "L7-131-1_InitialState",
          "L71-73-1_InitialState",
          "L73-76-1_InitialState",
          "L73-79-1_InitialState",
          "L74-88-1_InitialState"
         ],
         "yaxis": "y"
        },
        {
         "alignmentgroup": "True",
         "hovertemplate": "Decomposition part:=loop_flow_from_dk<br>Flow decomposition value=%{x}<br>xnec_id=%{y}<extra></extra>",
         "legendgroup": "loop_flow_from_dk",
         "marker": {
          "color": "#6C4516",
          "pattern": {
           "shape": ""
          }
         },
         "name": "loop_flow_from_dk",
         "offsetgroup": "loop_flow_from_dk",
         "orientation": "h",
         "showlegend": true,
         "textposition": "auto",
         "texttemplate": "%{x:.0f}",
         "type": "bar",
         "x": [
          null,
          null,
          null,
          null,
          null,
          null,
          null,
          null,
          null,
          null,
          null,
          null,
          -109.27488915349119,
          null,
          null,
          -59.487025202592406,
          null,
          null,
          null,
          null
         ],
         "xaxis": "x",
         "y": [
          "L105-110-1_InitialState",
          "L42-46-1_InitialState",
          "L43-44-1_InitialState",
          "L44-47-1_InitialState",
          "L44-54-1_InitialState",
          "L45-60-1_InitialState",
          "L45-74-1_InitialState",
          "L46-81-1_InitialState",
          "L47-113-1_InitialState",
          "L47-73-1_InitialState",
          "L54-55-1_InitialState",
          "L60-62-1_InitialState",
          "L4-16-1_InitialState",
          "L62-144-1_InitialState",
          "L7-12-1_InitialState",
          "L7-131-1_InitialState",
          "L71-73-1_InitialState",
          "L73-76-1_InitialState",
          "L73-79-1_InitialState",
          "L74-88-1_InitialState"
         ],
         "yaxis": "y"
        },
        {
         "alignmentgroup": "True",
         "hovertemplate": "Decomposition part:=loop_flow_from_ee<br>Flow decomposition value=%{x}<br>xnec_id=%{y}<extra></extra>",
         "legendgroup": "loop_flow_from_ee",
         "marker": {
          "color": "#511CFB",
          "pattern": {
           "shape": ""
          }
         },
         "name": "loop_flow_from_ee",
         "offsetgroup": "loop_flow_from_ee",
         "orientation": "h",
         "showlegend": true,
         "textposition": "auto",
         "texttemplate": "%{x:.0f}",
         "type": "bar",
         "x": [
          null,
          null,
          null,
          null,
          null,
          null,
          null,
          null,
          null,
          null,
          null,
          null,
          null,
          null,
          null,
          null,
          null,
          null,
          null,
          null
         ],
         "xaxis": "x",
         "y": [
          "L105-110-1_InitialState",
          "L42-46-1_InitialState",
          "L43-44-1_InitialState",
          "L44-47-1_InitialState",
          "L44-54-1_InitialState",
          "L45-60-1_InitialState",
          "L45-74-1_InitialState",
          "L46-81-1_InitialState",
          "L47-113-1_InitialState",
          "L47-73-1_InitialState",
          "L54-55-1_InitialState",
          "L60-62-1_InitialState",
          "L4-16-1_InitialState",
          "L62-144-1_InitialState",
          "L7-12-1_InitialState",
          "L7-131-1_InitialState",
          "L71-73-1_InitialState",
          "L73-76-1_InitialState",
          "L73-79-1_InitialState",
          "L74-88-1_InitialState"
         ],
         "yaxis": "y"
        },
        {
         "alignmentgroup": "True",
         "hovertemplate": "Decomposition part:=loop_flow_from_fr<br>Flow decomposition value=%{x}<br>xnec_id=%{y}<extra></extra>",
         "legendgroup": "loop_flow_from_fr",
         "marker": {
          "color": "#F6F926",
          "pattern": {
           "shape": ""
          }
         },
         "name": "loop_flow_from_fr",
         "offsetgroup": "loop_flow_from_fr",
         "orientation": "h",
         "showlegend": true,
         "textposition": "auto",
         "texttemplate": "%{x:.0f}",
         "type": "bar",
         "x": [
          -7.566125391632505,
          -280.41995322438027,
          29.55256854864935,
          -41.86568578085956,
          33.0683096531295,
          -215.52862471845845,
          -173.96353098472161,
          -342.7402393790363,
          8.564571677124091,
          -50.4302574579838,
          -38.871462111701916,
          -215.52862471845827,
          -241.45792382266166,
          -266.1351832142106,
          -32.774734055681776,
          -144.53911358515916,
          -9.031641969985284,
          -34.414955877018755,
          48.64602005017645,
          132.2975644019695
         ],
         "xaxis": "x",
         "y": [
          "L105-110-1_InitialState",
          "L42-46-1_InitialState",
          "L43-44-1_InitialState",
          "L44-47-1_InitialState",
          "L44-54-1_InitialState",
          "L45-60-1_InitialState",
          "L45-74-1_InitialState",
          "L46-81-1_InitialState",
          "L47-113-1_InitialState",
          "L47-73-1_InitialState",
          "L54-55-1_InitialState",
          "L60-62-1_InitialState",
          "L4-16-1_InitialState",
          "L62-144-1_InitialState",
          "L7-12-1_InitialState",
          "L7-131-1_InitialState",
          "L71-73-1_InitialState",
          "L73-76-1_InitialState",
          "L73-79-1_InitialState",
          "L74-88-1_InitialState"
         ],
         "yaxis": "y"
        },
        {
         "alignmentgroup": "True",
         "hovertemplate": "Decomposition part:=loop_flow_from_hu<br>Flow decomposition value=%{x}<br>xnec_id=%{y}<extra></extra>",
         "legendgroup": "loop_flow_from_hu",
         "marker": {
          "color": "#C9FBE5",
          "pattern": {
           "shape": ""
          }
         },
         "name": "loop_flow_from_hu",
         "offsetgroup": "loop_flow_from_hu",
         "orientation": "h",
         "showlegend": true,
         "textposition": "auto",
         "texttemplate": "%{x:.0f}",
         "type": "bar",
         "x": [
          null,
          null,
          null,
          null,
          null,
          -57.59087983860404,
          null,
          null,
          null,
          null,
          -7.86717167501882,
          -57.590879838604046,
          null,
          -74.5444382263269,
          null,
          32.79897538701379,
          null,
          null,
          null,
          null
         ],
         "xaxis": "x",
         "y": [
          "L105-110-1_InitialState",
          "L42-46-1_InitialState",
          "L43-44-1_InitialState",
          "L44-47-1_InitialState",
          "L44-54-1_InitialState",
          "L45-60-1_InitialState",
          "L45-74-1_InitialState",
          "L46-81-1_InitialState",
          "L47-113-1_InitialState",
          "L47-73-1_InitialState",
          "L54-55-1_InitialState",
          "L60-62-1_InitialState",
          "L4-16-1_InitialState",
          "L62-144-1_InitialState",
          "L7-12-1_InitialState",
          "L7-131-1_InitialState",
          "L71-73-1_InitialState",
          "L73-76-1_InitialState",
          "L73-79-1_InitialState",
          "L74-88-1_InitialState"
         ],
         "yaxis": "y"
        },
        {
         "alignmentgroup": "True",
         "hovertemplate": "Decomposition part:=loop_flow_from_ie<br>Flow decomposition value=%{x}<br>xnec_id=%{y}<extra></extra>",
         "legendgroup": "loop_flow_from_ie",
         "marker": {
          "color": "#FC0080",
          "pattern": {
           "shape": ""
          }
         },
         "name": "loop_flow_from_ie",
         "offsetgroup": "loop_flow_from_ie",
         "orientation": "h",
         "showlegend": true,
         "textposition": "auto",
         "texttemplate": "%{x:.0f}",
         "type": "bar",
         "x": [
          null,
          null,
          null,
          null,
          null,
          null,
          null,
          null,
          null,
          null,
          null,
          null,
          null,
          null,
          null,
          null,
          null,
          null,
          null,
          null
         ],
         "xaxis": "x",
         "y": [
          "L105-110-1_InitialState",
          "L42-46-1_InitialState",
          "L43-44-1_InitialState",
          "L44-47-1_InitialState",
          "L44-54-1_InitialState",
          "L45-60-1_InitialState",
          "L45-74-1_InitialState",
          "L46-81-1_InitialState",
          "L47-113-1_InitialState",
          "L47-73-1_InitialState",
          "L54-55-1_InitialState",
          "L60-62-1_InitialState",
          "L4-16-1_InitialState",
          "L62-144-1_InitialState",
          "L7-12-1_InitialState",
          "L7-131-1_InitialState",
          "L71-73-1_InitialState",
          "L73-76-1_InitialState",
          "L73-79-1_InitialState",
          "L74-88-1_InitialState"
         ],
         "yaxis": "y"
        },
        {
         "alignmentgroup": "True",
         "hovertemplate": "Decomposition part:=loop_flow_from_lt<br>Flow decomposition value=%{x}<br>xnec_id=%{y}<extra></extra>",
         "legendgroup": "loop_flow_from_lt",
         "marker": {
          "color": "#FB0D0D",
          "pattern": {
           "shape": ""
          }
         },
         "name": "loop_flow_from_lt",
         "offsetgroup": "loop_flow_from_lt",
         "orientation": "h",
         "showlegend": true,
         "textposition": "auto",
         "texttemplate": "%{x:.0f}",
         "type": "bar",
         "x": [
          3.7163857382495604,
          null,
          null,
          null,
          null,
          null,
          null,
          null,
          null,
          -48.00324631384407,
          null,
          null,
          null,
          253.1176696660755,
          null,
          225.6488738980684,
          null,
          null,
          null,
          37.758889938367176
         ],
         "xaxis": "x",
         "y": [
          "L105-110-1_InitialState",
          "L42-46-1_InitialState",
          "L43-44-1_InitialState",
          "L44-47-1_InitialState",
          "L44-54-1_InitialState",
          "L45-60-1_InitialState",
          "L45-74-1_InitialState",
          "L46-81-1_InitialState",
          "L47-113-1_InitialState",
          "L47-73-1_InitialState",
          "L54-55-1_InitialState",
          "L60-62-1_InitialState",
          "L4-16-1_InitialState",
          "L62-144-1_InitialState",
          "L7-12-1_InitialState",
          "L7-131-1_InitialState",
          "L71-73-1_InitialState",
          "L73-76-1_InitialState",
          "L73-79-1_InitialState",
          "L74-88-1_InitialState"
         ],
         "yaxis": "y"
        },
        {
         "alignmentgroup": "True",
         "hovertemplate": "Decomposition part:=loop_flow_from_lu<br>Flow decomposition value=%{x}<br>xnec_id=%{y}<extra></extra>",
         "legendgroup": "loop_flow_from_lu",
         "marker": {
          "color": "#D626FF",
          "pattern": {
           "shape": ""
          }
         },
         "name": "loop_flow_from_lu",
         "offsetgroup": "loop_flow_from_lu",
         "orientation": "h",
         "showlegend": true,
         "textposition": "auto",
         "texttemplate": "%{x:.0f}",
         "type": "bar",
         "x": [
          23.75047179082619,
          null,
          null,
          26.79787446162563,
          null,
          null,
          null,
          null,
          50.7927022492837,
          -23.994827787658075,
          null,
          null,
          null,
          null,
          29.789847510333445,
          47.92916106758656,
          null,
          null,
          null,
          null
         ],
         "xaxis": "x",
         "y": [
          "L105-110-1_InitialState",
          "L42-46-1_InitialState",
          "L43-44-1_InitialState",
          "L44-47-1_InitialState",
          "L44-54-1_InitialState",
          "L45-60-1_InitialState",
          "L45-74-1_InitialState",
          "L46-81-1_InitialState",
          "L47-113-1_InitialState",
          "L47-73-1_InitialState",
          "L54-55-1_InitialState",
          "L60-62-1_InitialState",
          "L4-16-1_InitialState",
          "L62-144-1_InitialState",
          "L7-12-1_InitialState",
          "L7-131-1_InitialState",
          "L71-73-1_InitialState",
          "L73-76-1_InitialState",
          "L73-79-1_InitialState",
          "L74-88-1_InitialState"
         ],
         "yaxis": "y"
        },
        {
         "alignmentgroup": "True",
         "hovertemplate": "Decomposition part:=pst_flow<br>Flow decomposition value=%{x}<br>xnec_id=%{y}<extra></extra>",
         "legendgroup": "pst_flow",
         "marker": {
          "color": "#DA16FF",
          "pattern": {
           "shape": ""
          }
         },
         "name": "pst_flow",
         "offsetgroup": "pst_flow",
         "orientation": "h",
         "showlegend": true,
         "textposition": "auto",
         "texttemplate": "%{x:.0f}",
         "type": "bar",
         "x": [
          null,
          null,
          null,
          null,
          null,
          null,
          null,
          null,
          null,
          null,
          null,
          null,
          null,
          null,
          null,
          null,
          null,
          null,
          null,
          null
         ],
         "xaxis": "x",
         "y": [
          "L105-110-1_InitialState",
          "L42-46-1_InitialState",
          "L43-44-1_InitialState",
          "L44-47-1_InitialState",
          "L44-54-1_InitialState",
          "L45-60-1_InitialState",
          "L45-74-1_InitialState",
          "L46-81-1_InitialState",
          "L47-113-1_InitialState",
          "L47-73-1_InitialState",
          "L54-55-1_InitialState",
          "L60-62-1_InitialState",
          "L4-16-1_InitialState",
          "L62-144-1_InitialState",
          "L7-12-1_InitialState",
          "L7-131-1_InitialState",
          "L71-73-1_InitialState",
          "L73-76-1_InitialState",
          "L73-79-1_InitialState",
          "L74-88-1_InitialState"
         ],
         "yaxis": "y"
        },
        {
         "alignmentgroup": "True",
         "hovertemplate": "Decomposition part:=masked_flows_positive<br>Flow decomposition value=%{x}<br>xnec_id=%{y}<extra></extra>",
         "legendgroup": "masked_flows_positive",
         "marker": {
          "color": "#86CE00",
          "pattern": {
           "shape": ""
          }
         },
         "name": "masked_flows_positive",
         "offsetgroup": "masked_flows_positive",
         "orientation": "h",
         "showlegend": true,
         "textposition": "auto",
         "texttemplate": "%{x:.0f}",
         "type": "bar",
         "x": [
          1.5600460026623892,
          118.7829613362461,
          19.1912546444839,
          14.27732505828331,
          10.20750556555127,
          25.402245369245627,
          42.11504931407945,
          28.03480708836767,
          3.0312533159811177,
          19.014376918162704,
          7.151325892477022,
          25.402245369245563,
          109.37511762739808,
          31.877199616398574,
          8.18206283953709,
          3.8269258102308603,
          0.7694148134789545,
          4.265330025629502,
          23.037949125286353,
          23.921061871926653
         ],
         "xaxis": "x",
         "y": [
          "L105-110-1_InitialState",
          "L42-46-1_InitialState",
          "L43-44-1_InitialState",
          "L44-47-1_InitialState",
          "L44-54-1_InitialState",
          "L45-60-1_InitialState",
          "L45-74-1_InitialState",
          "L46-81-1_InitialState",
          "L47-113-1_InitialState",
          "L47-73-1_InitialState",
          "L54-55-1_InitialState",
          "L60-62-1_InitialState",
          "L4-16-1_InitialState",
          "L62-144-1_InitialState",
          "L7-12-1_InitialState",
          "L7-131-1_InitialState",
          "L71-73-1_InitialState",
          "L73-76-1_InitialState",
          "L73-79-1_InitialState",
          "L74-88-1_InitialState"
         ],
         "yaxis": "y"
        },
        {
         "alignmentgroup": "True",
         "hovertemplate": "Decomposition part:=masked_flows_negative<br>Flow decomposition value=%{x}<br>xnec_id=%{y}<extra></extra>",
         "legendgroup": "masked_flows_negative",
         "marker": {
          "color": "#6A76FC",
          "pattern": {
           "shape": ""
          }
         },
         "name": "masked_flows_negative",
         "offsetgroup": "masked_flows_negative",
         "orientation": "h",
         "showlegend": true,
         "textposition": "auto",
         "texttemplate": "%{x:.0f}",
         "type": "bar",
         "x": [
          -0.7145688152911411,
          -7.795087304348749,
          -12.293191464956433,
          -3.583921743268374,
          -4.130034259808964,
          -30.298916671538887,
          -28.463331927740473,
          -65.81782835167635,
          -7.65649248519388,
          -3.3852463145752942,
          -5.485259815667899,
          -30.29891667153888,
          -2.3932015634462895,
          -36.04338765741187,
          -10.892580031345819,
          -0.5859527243235298,
          -5.011428471474044,
          -19.47571599549113,
          -1.5829948854158662,
          0
         ],
         "xaxis": "x",
         "y": [
          "L105-110-1_InitialState",
          "L42-46-1_InitialState",
          "L43-44-1_InitialState",
          "L44-47-1_InitialState",
          "L44-54-1_InitialState",
          "L45-60-1_InitialState",
          "L45-74-1_InitialState",
          "L46-81-1_InitialState",
          "L47-113-1_InitialState",
          "L47-73-1_InitialState",
          "L54-55-1_InitialState",
          "L60-62-1_InitialState",
          "L4-16-1_InitialState",
          "L62-144-1_InitialState",
          "L7-12-1_InitialState",
          "L7-131-1_InitialState",
          "L71-73-1_InitialState",
          "L73-76-1_InitialState",
          "L73-79-1_InitialState",
          "L74-88-1_InitialState"
         ],
         "yaxis": "y"
        },
        {
         "mode": "lines+markers",
         "name": "total_flow",
         "type": "scatter",
         "x": [
          42.6331134107054,
          552.8304851848867,
          59.6315769783941,
          103.5101380203998,
          16.49207187691705,
          250.30770475863585,
          209.71708252469892,
          256.5241459399375,
          31.215137990899958,
          14.295000029499896,
          43.500245130077204,
          250.30770475863565,
          778.5271987640218,
          145.99313411310493,
          199.03737762712905,
          6.569162304139155,
          57.7532839228617,
          20.22744854548953,
          32.1587753278534,
          96.30533079791164
         ],
         "y": [
          "L105-110-1_InitialState",
          "L42-46-1_InitialState",
          "L43-44-1_InitialState",
          "L44-47-1_InitialState",
          "L44-54-1_InitialState",
          "L45-60-1_InitialState",
          "L45-74-1_InitialState",
          "L46-81-1_InitialState",
          "L47-113-1_InitialState",
          "L47-73-1_InitialState",
          "L54-55-1_InitialState",
          "L60-62-1_InitialState",
          "L4-16-1_InitialState",
          "L62-144-1_InitialState",
          "L7-12-1_InitialState",
          "L7-131-1_InitialState",
          "L71-73-1_InitialState",
          "L73-76-1_InitialState",
          "L73-79-1_InitialState",
          "L74-88-1_InitialState"
         ]
        },
        {
         "mode": "lines+markers",
         "name": "total_loop_flow",
         "type": "scatter",
         "x": [
          20.746209324814494,
          -169.4320791924829,
          36.450631728176816,
          -3.2944564219504073,
          39.14578095887181,
          -278.01617585935577,
          -160.31181359838263,
          -367.52566294567475,
          54.73203475719503,
          -106.79920095589853,
          -45.07256770991161,
          -278.01617585935566,
          -243.75089691220103,
          -91.72813981547533,
          -5.695403737157058,
          105.59184465082453,
          -13.273655627980373,
          -49.62534184688039,
          183.04967306085933,
          273.29048562428136
         ],
         "y": [
          "L105-110-1_InitialState",
          "L42-46-1_InitialState",
          "L43-44-1_InitialState",
          "L44-47-1_InitialState",
          "L44-54-1_InitialState",
          "L45-60-1_InitialState",
          "L45-74-1_InitialState",
          "L46-81-1_InitialState",
          "L47-113-1_InitialState",
          "L47-73-1_InitialState",
          "L54-55-1_InitialState",
          "L60-62-1_InitialState",
          "L4-16-1_InitialState",
          "L62-144-1_InitialState",
          "L7-12-1_InitialState",
          "L7-131-1_InitialState",
          "L71-73-1_InitialState",
          "L73-76-1_InitialState",
          "L73-79-1_InitialState",
          "L74-88-1_InitialState"
         ]
        }
       ],
       "layout": {
        "barmode": "relative",
        "height": 1000,
        "legend": {
         "title": {
          "text": "Decomposition part:"
         },
         "tracegroupgap": 0
        },
        "template": {
         "data": {
          "bar": [
           {
            "error_x": {
             "color": "rgb(36,36,36)"
            },
            "error_y": {
             "color": "rgb(36,36,36)"
            },
            "marker": {
             "line": {
              "color": "rgb(234,234,242)",
              "width": 0.5
             },
             "pattern": {
              "fillmode": "overlay",
              "size": 10,
              "solidity": 0.2
             }
            },
            "type": "bar"
           }
          ],
          "barpolar": [
           {
            "marker": {
             "line": {
              "color": "rgb(234,234,242)",
              "width": 0.5
             },
             "pattern": {
              "fillmode": "overlay",
              "size": 10,
              "solidity": 0.2
             }
            },
            "type": "barpolar"
           }
          ],
          "carpet": [
           {
            "aaxis": {
             "endlinecolor": "rgb(36,36,36)",
             "gridcolor": "white",
             "linecolor": "white",
             "minorgridcolor": "white",
             "startlinecolor": "rgb(36,36,36)"
            },
            "baxis": {
             "endlinecolor": "rgb(36,36,36)",
             "gridcolor": "white",
             "linecolor": "white",
             "minorgridcolor": "white",
             "startlinecolor": "rgb(36,36,36)"
            },
            "type": "carpet"
           }
          ],
          "choropleth": [
           {
            "colorbar": {
             "outlinewidth": 0,
             "tickcolor": "rgb(36,36,36)",
             "ticklen": 8,
             "ticks": "outside",
             "tickwidth": 2
            },
            "type": "choropleth"
           }
          ],
          "contour": [
           {
            "colorbar": {
             "outlinewidth": 0,
             "tickcolor": "rgb(36,36,36)",
             "ticklen": 8,
             "ticks": "outside",
             "tickwidth": 2
            },
            "colorscale": [
             [
              0,
              "rgb(2,4,25)"
             ],
             [
              0.06274509803921569,
              "rgb(24,15,41)"
             ],
             [
              0.12549019607843137,
              "rgb(47,23,57)"
             ],
             [
              0.18823529411764706,
              "rgb(71,28,72)"
             ],
             [
              0.25098039215686274,
              "rgb(97,30,82)"
             ],
             [
              0.3137254901960784,
              "rgb(123,30,89)"
             ],
             [
              0.3764705882352941,
              "rgb(150,27,91)"
             ],
             [
              0.4392156862745098,
              "rgb(177,22,88)"
             ],
             [
              0.5019607843137255,
              "rgb(203,26,79)"
             ],
             [
              0.5647058823529412,
              "rgb(223,47,67)"
             ],
             [
              0.6274509803921569,
              "rgb(236,76,61)"
             ],
             [
              0.6901960784313725,
              "rgb(242,107,73)"
             ],
             [
              0.7529411764705882,
              "rgb(244,135,95)"
             ],
             [
              0.8156862745098039,
              "rgb(245,162,122)"
             ],
             [
              0.8784313725490196,
              "rgb(246,188,153)"
             ],
             [
              0.9411764705882353,
              "rgb(247,212,187)"
             ],
             [
              1,
              "rgb(250,234,220)"
             ]
            ],
            "type": "contour"
           }
          ],
          "contourcarpet": [
           {
            "colorbar": {
             "outlinewidth": 0,
             "tickcolor": "rgb(36,36,36)",
             "ticklen": 8,
             "ticks": "outside",
             "tickwidth": 2
            },
            "type": "contourcarpet"
           }
          ],
          "heatmap": [
           {
            "colorbar": {
             "outlinewidth": 0,
             "tickcolor": "rgb(36,36,36)",
             "ticklen": 8,
             "ticks": "outside",
             "tickwidth": 2
            },
            "colorscale": [
             [
              0,
              "rgb(2,4,25)"
             ],
             [
              0.06274509803921569,
              "rgb(24,15,41)"
             ],
             [
              0.12549019607843137,
              "rgb(47,23,57)"
             ],
             [
              0.18823529411764706,
              "rgb(71,28,72)"
             ],
             [
              0.25098039215686274,
              "rgb(97,30,82)"
             ],
             [
              0.3137254901960784,
              "rgb(123,30,89)"
             ],
             [
              0.3764705882352941,
              "rgb(150,27,91)"
             ],
             [
              0.4392156862745098,
              "rgb(177,22,88)"
             ],
             [
              0.5019607843137255,
              "rgb(203,26,79)"
             ],
             [
              0.5647058823529412,
              "rgb(223,47,67)"
             ],
             [
              0.6274509803921569,
              "rgb(236,76,61)"
             ],
             [
              0.6901960784313725,
              "rgb(242,107,73)"
             ],
             [
              0.7529411764705882,
              "rgb(244,135,95)"
             ],
             [
              0.8156862745098039,
              "rgb(245,162,122)"
             ],
             [
              0.8784313725490196,
              "rgb(246,188,153)"
             ],
             [
              0.9411764705882353,
              "rgb(247,212,187)"
             ],
             [
              1,
              "rgb(250,234,220)"
             ]
            ],
            "type": "heatmap"
           }
          ],
          "heatmapgl": [
           {
            "colorbar": {
             "outlinewidth": 0,
             "tickcolor": "rgb(36,36,36)",
             "ticklen": 8,
             "ticks": "outside",
             "tickwidth": 2
            },
            "colorscale": [
             [
              0,
              "rgb(2,4,25)"
             ],
             [
              0.06274509803921569,
              "rgb(24,15,41)"
             ],
             [
              0.12549019607843137,
              "rgb(47,23,57)"
             ],
             [
              0.18823529411764706,
              "rgb(71,28,72)"
             ],
             [
              0.25098039215686274,
              "rgb(97,30,82)"
             ],
             [
              0.3137254901960784,
              "rgb(123,30,89)"
             ],
             [
              0.3764705882352941,
              "rgb(150,27,91)"
             ],
             [
              0.4392156862745098,
              "rgb(177,22,88)"
             ],
             [
              0.5019607843137255,
              "rgb(203,26,79)"
             ],
             [
              0.5647058823529412,
              "rgb(223,47,67)"
             ],
             [
              0.6274509803921569,
              "rgb(236,76,61)"
             ],
             [
              0.6901960784313725,
              "rgb(242,107,73)"
             ],
             [
              0.7529411764705882,
              "rgb(244,135,95)"
             ],
             [
              0.8156862745098039,
              "rgb(245,162,122)"
             ],
             [
              0.8784313725490196,
              "rgb(246,188,153)"
             ],
             [
              0.9411764705882353,
              "rgb(247,212,187)"
             ],
             [
              1,
              "rgb(250,234,220)"
             ]
            ],
            "type": "heatmapgl"
           }
          ],
          "histogram": [
           {
            "marker": {
             "pattern": {
              "fillmode": "overlay",
              "size": 10,
              "solidity": 0.2
             }
            },
            "type": "histogram"
           }
          ],
          "histogram2d": [
           {
            "colorbar": {
             "outlinewidth": 0,
             "tickcolor": "rgb(36,36,36)",
             "ticklen": 8,
             "ticks": "outside",
             "tickwidth": 2
            },
            "colorscale": [
             [
              0,
              "rgb(2,4,25)"
             ],
             [
              0.06274509803921569,
              "rgb(24,15,41)"
             ],
             [
              0.12549019607843137,
              "rgb(47,23,57)"
             ],
             [
              0.18823529411764706,
              "rgb(71,28,72)"
             ],
             [
              0.25098039215686274,
              "rgb(97,30,82)"
             ],
             [
              0.3137254901960784,
              "rgb(123,30,89)"
             ],
             [
              0.3764705882352941,
              "rgb(150,27,91)"
             ],
             [
              0.4392156862745098,
              "rgb(177,22,88)"
             ],
             [
              0.5019607843137255,
              "rgb(203,26,79)"
             ],
             [
              0.5647058823529412,
              "rgb(223,47,67)"
             ],
             [
              0.6274509803921569,
              "rgb(236,76,61)"
             ],
             [
              0.6901960784313725,
              "rgb(242,107,73)"
             ],
             [
              0.7529411764705882,
              "rgb(244,135,95)"
             ],
             [
              0.8156862745098039,
              "rgb(245,162,122)"
             ],
             [
              0.8784313725490196,
              "rgb(246,188,153)"
             ],
             [
              0.9411764705882353,
              "rgb(247,212,187)"
             ],
             [
              1,
              "rgb(250,234,220)"
             ]
            ],
            "type": "histogram2d"
           }
          ],
          "histogram2dcontour": [
           {
            "colorbar": {
             "outlinewidth": 0,
             "tickcolor": "rgb(36,36,36)",
             "ticklen": 8,
             "ticks": "outside",
             "tickwidth": 2
            },
            "colorscale": [
             [
              0,
              "rgb(2,4,25)"
             ],
             [
              0.06274509803921569,
              "rgb(24,15,41)"
             ],
             [
              0.12549019607843137,
              "rgb(47,23,57)"
             ],
             [
              0.18823529411764706,
              "rgb(71,28,72)"
             ],
             [
              0.25098039215686274,
              "rgb(97,30,82)"
             ],
             [
              0.3137254901960784,
              "rgb(123,30,89)"
             ],
             [
              0.3764705882352941,
              "rgb(150,27,91)"
             ],
             [
              0.4392156862745098,
              "rgb(177,22,88)"
             ],
             [
              0.5019607843137255,
              "rgb(203,26,79)"
             ],
             [
              0.5647058823529412,
              "rgb(223,47,67)"
             ],
             [
              0.6274509803921569,
              "rgb(236,76,61)"
             ],
             [
              0.6901960784313725,
              "rgb(242,107,73)"
             ],
             [
              0.7529411764705882,
              "rgb(244,135,95)"
             ],
             [
              0.8156862745098039,
              "rgb(245,162,122)"
             ],
             [
              0.8784313725490196,
              "rgb(246,188,153)"
             ],
             [
              0.9411764705882353,
              "rgb(247,212,187)"
             ],
             [
              1,
              "rgb(250,234,220)"
             ]
            ],
            "type": "histogram2dcontour"
           }
          ],
          "mesh3d": [
           {
            "colorbar": {
             "outlinewidth": 0,
             "tickcolor": "rgb(36,36,36)",
             "ticklen": 8,
             "ticks": "outside",
             "tickwidth": 2
            },
            "type": "mesh3d"
           }
          ],
          "parcoords": [
           {
            "line": {
             "colorbar": {
              "outlinewidth": 0,
              "tickcolor": "rgb(36,36,36)",
              "ticklen": 8,
              "ticks": "outside",
              "tickwidth": 2
             }
            },
            "type": "parcoords"
           }
          ],
          "pie": [
           {
            "automargin": true,
            "type": "pie"
           }
          ],
          "scatter": [
           {
            "fillpattern": {
             "fillmode": "overlay",
             "size": 10,
             "solidity": 0.2
            },
            "type": "scatter"
           }
          ],
          "scatter3d": [
           {
            "line": {
             "colorbar": {
              "outlinewidth": 0,
              "tickcolor": "rgb(36,36,36)",
              "ticklen": 8,
              "ticks": "outside",
              "tickwidth": 2
             }
            },
            "marker": {
             "colorbar": {
              "outlinewidth": 0,
              "tickcolor": "rgb(36,36,36)",
              "ticklen": 8,
              "ticks": "outside",
              "tickwidth": 2
             }
            },
            "type": "scatter3d"
           }
          ],
          "scattercarpet": [
           {
            "marker": {
             "colorbar": {
              "outlinewidth": 0,
              "tickcolor": "rgb(36,36,36)",
              "ticklen": 8,
              "ticks": "outside",
              "tickwidth": 2
             }
            },
            "type": "scattercarpet"
           }
          ],
          "scattergeo": [
           {
            "marker": {
             "colorbar": {
              "outlinewidth": 0,
              "tickcolor": "rgb(36,36,36)",
              "ticklen": 8,
              "ticks": "outside",
              "tickwidth": 2
             }
            },
            "type": "scattergeo"
           }
          ],
          "scattergl": [
           {
            "marker": {
             "colorbar": {
              "outlinewidth": 0,
              "tickcolor": "rgb(36,36,36)",
              "ticklen": 8,
              "ticks": "outside",
              "tickwidth": 2
             }
            },
            "type": "scattergl"
           }
          ],
          "scattermapbox": [
           {
            "marker": {
             "colorbar": {
              "outlinewidth": 0,
              "tickcolor": "rgb(36,36,36)",
              "ticklen": 8,
              "ticks": "outside",
              "tickwidth": 2
             }
            },
            "type": "scattermapbox"
           }
          ],
          "scatterpolar": [
           {
            "marker": {
             "colorbar": {
              "outlinewidth": 0,
              "tickcolor": "rgb(36,36,36)",
              "ticklen": 8,
              "ticks": "outside",
              "tickwidth": 2
             }
            },
            "type": "scatterpolar"
           }
          ],
          "scatterpolargl": [
           {
            "marker": {
             "colorbar": {
              "outlinewidth": 0,
              "tickcolor": "rgb(36,36,36)",
              "ticklen": 8,
              "ticks": "outside",
              "tickwidth": 2
             }
            },
            "type": "scatterpolargl"
           }
          ],
          "scatterternary": [
           {
            "marker": {
             "colorbar": {
              "outlinewidth": 0,
              "tickcolor": "rgb(36,36,36)",
              "ticklen": 8,
              "ticks": "outside",
              "tickwidth": 2
             }
            },
            "type": "scatterternary"
           }
          ],
          "surface": [
           {
            "colorbar": {
             "outlinewidth": 0,
             "tickcolor": "rgb(36,36,36)",
             "ticklen": 8,
             "ticks": "outside",
             "tickwidth": 2
            },
            "colorscale": [
             [
              0,
              "rgb(2,4,25)"
             ],
             [
              0.06274509803921569,
              "rgb(24,15,41)"
             ],
             [
              0.12549019607843137,
              "rgb(47,23,57)"
             ],
             [
              0.18823529411764706,
              "rgb(71,28,72)"
             ],
             [
              0.25098039215686274,
              "rgb(97,30,82)"
             ],
             [
              0.3137254901960784,
              "rgb(123,30,89)"
             ],
             [
              0.3764705882352941,
              "rgb(150,27,91)"
             ],
             [
              0.4392156862745098,
              "rgb(177,22,88)"
             ],
             [
              0.5019607843137255,
              "rgb(203,26,79)"
             ],
             [
              0.5647058823529412,
              "rgb(223,47,67)"
             ],
             [
              0.6274509803921569,
              "rgb(236,76,61)"
             ],
             [
              0.6901960784313725,
              "rgb(242,107,73)"
             ],
             [
              0.7529411764705882,
              "rgb(244,135,95)"
             ],
             [
              0.8156862745098039,
              "rgb(245,162,122)"
             ],
             [
              0.8784313725490196,
              "rgb(246,188,153)"
             ],
             [
              0.9411764705882353,
              "rgb(247,212,187)"
             ],
             [
              1,
              "rgb(250,234,220)"
             ]
            ],
            "type": "surface"
           }
          ],
          "table": [
           {
            "cells": {
             "fill": {
              "color": "rgb(231,231,240)"
             },
             "line": {
              "color": "white"
             }
            },
            "header": {
             "fill": {
              "color": "rgb(183,183,191)"
             },
             "line": {
              "color": "white"
             }
            },
            "type": "table"
           }
          ]
         },
         "layout": {
          "annotationdefaults": {
           "arrowcolor": "rgb(67,103,167)"
          },
          "autotypenumbers": "strict",
          "coloraxis": {
           "colorbar": {
            "outlinewidth": 0,
            "tickcolor": "rgb(36,36,36)",
            "ticklen": 8,
            "ticks": "outside",
            "tickwidth": 2
           }
          },
          "colorscale": {
           "sequential": [
            [
             0,
             "rgb(2,4,25)"
            ],
            [
             0.06274509803921569,
             "rgb(24,15,41)"
            ],
            [
             0.12549019607843137,
             "rgb(47,23,57)"
            ],
            [
             0.18823529411764706,
             "rgb(71,28,72)"
            ],
            [
             0.25098039215686274,
             "rgb(97,30,82)"
            ],
            [
             0.3137254901960784,
             "rgb(123,30,89)"
            ],
            [
             0.3764705882352941,
             "rgb(150,27,91)"
            ],
            [
             0.4392156862745098,
             "rgb(177,22,88)"
            ],
            [
             0.5019607843137255,
             "rgb(203,26,79)"
            ],
            [
             0.5647058823529412,
             "rgb(223,47,67)"
            ],
            [
             0.6274509803921569,
             "rgb(236,76,61)"
            ],
            [
             0.6901960784313725,
             "rgb(242,107,73)"
            ],
            [
             0.7529411764705882,
             "rgb(244,135,95)"
            ],
            [
             0.8156862745098039,
             "rgb(245,162,122)"
            ],
            [
             0.8784313725490196,
             "rgb(246,188,153)"
            ],
            [
             0.9411764705882353,
             "rgb(247,212,187)"
            ],
            [
             1,
             "rgb(250,234,220)"
            ]
           ],
           "sequentialminus": [
            [
             0,
             "rgb(2,4,25)"
            ],
            [
             0.06274509803921569,
             "rgb(24,15,41)"
            ],
            [
             0.12549019607843137,
             "rgb(47,23,57)"
            ],
            [
             0.18823529411764706,
             "rgb(71,28,72)"
            ],
            [
             0.25098039215686274,
             "rgb(97,30,82)"
            ],
            [
             0.3137254901960784,
             "rgb(123,30,89)"
            ],
            [
             0.3764705882352941,
             "rgb(150,27,91)"
            ],
            [
             0.4392156862745098,
             "rgb(177,22,88)"
            ],
            [
             0.5019607843137255,
             "rgb(203,26,79)"
            ],
            [
             0.5647058823529412,
             "rgb(223,47,67)"
            ],
            [
             0.6274509803921569,
             "rgb(236,76,61)"
            ],
            [
             0.6901960784313725,
             "rgb(242,107,73)"
            ],
            [
             0.7529411764705882,
             "rgb(244,135,95)"
            ],
            [
             0.8156862745098039,
             "rgb(245,162,122)"
            ],
            [
             0.8784313725490196,
             "rgb(246,188,153)"
            ],
            [
             0.9411764705882353,
             "rgb(247,212,187)"
            ],
            [
             1,
             "rgb(250,234,220)"
            ]
           ]
          },
          "colorway": [
           "rgb(76,114,176)",
           "rgb(221,132,82)",
           "rgb(85,168,104)",
           "rgb(196,78,82)",
           "rgb(129,114,179)",
           "rgb(147,120,96)",
           "rgb(218,139,195)",
           "rgb(140,140,140)",
           "rgb(204,185,116)",
           "rgb(100,181,205)"
          ],
          "font": {
           "color": "rgb(36,36,36)"
          },
          "geo": {
           "bgcolor": "white",
           "lakecolor": "white",
           "landcolor": "rgb(234,234,242)",
           "showlakes": true,
           "showland": true,
           "subunitcolor": "white"
          },
          "hoverlabel": {
           "align": "left"
          },
          "hovermode": "closest",
          "paper_bgcolor": "white",
          "plot_bgcolor": "rgb(234,234,242)",
          "polar": {
           "angularaxis": {
            "gridcolor": "white",
            "linecolor": "white",
            "showgrid": true,
            "ticks": ""
           },
           "bgcolor": "rgb(234,234,242)",
           "radialaxis": {
            "gridcolor": "white",
            "linecolor": "white",
            "showgrid": true,
            "ticks": ""
           }
          },
          "scene": {
           "xaxis": {
            "backgroundcolor": "rgb(234,234,242)",
            "gridcolor": "white",
            "gridwidth": 2,
            "linecolor": "white",
            "showbackground": true,
            "showgrid": true,
            "ticks": "",
            "zerolinecolor": "white"
           },
           "yaxis": {
            "backgroundcolor": "rgb(234,234,242)",
            "gridcolor": "white",
            "gridwidth": 2,
            "linecolor": "white",
            "showbackground": true,
            "showgrid": true,
            "ticks": "",
            "zerolinecolor": "white"
           },
           "zaxis": {
            "backgroundcolor": "rgb(234,234,242)",
            "gridcolor": "white",
            "gridwidth": 2,
            "linecolor": "white",
            "showbackground": true,
            "showgrid": true,
            "ticks": "",
            "zerolinecolor": "white"
           }
          },
          "shapedefaults": {
           "fillcolor": "rgb(67,103,167)",
           "line": {
            "width": 0
           },
           "opacity": 0.5
          },
          "ternary": {
           "aaxis": {
            "gridcolor": "white",
            "linecolor": "white",
            "showgrid": true,
            "ticks": ""
           },
           "baxis": {
            "gridcolor": "white",
            "linecolor": "white",
            "showgrid": true,
            "ticks": ""
           },
           "bgcolor": "rgb(234,234,242)",
           "caxis": {
            "gridcolor": "white",
            "linecolor": "white",
            "showgrid": true,
            "ticks": ""
           }
          },
          "xaxis": {
           "automargin": true,
           "gridcolor": "white",
           "linecolor": "white",
           "showgrid": true,
           "ticks": "",
           "title": {
            "standoff": 15
           },
           "zerolinecolor": "white"
          },
          "yaxis": {
           "automargin": true,
           "gridcolor": "white",
           "linecolor": "white",
           "showgrid": true,
           "ticks": "",
           "title": {
            "standoff": 15
           },
           "zerolinecolor": "white"
          }
         }
        },
        "title": {
         "text": "Sorted by: pst_flow, ascending: True, head: 20"
        },
        "xaxis": {
         "anchor": "y",
         "domain": [
          0,
          1
         ],
         "title": {
          "text": "Flow decomposition value"
         }
        },
        "yaxis": {
         "anchor": "x",
         "domain": [
          0,
          1
         ],
         "title": {
          "text": "xnec_id"
         }
        }
       }
      }
     },
     "metadata": {},
     "output_type": "display_data"
    }
   ],
   "source": [
    "flow_decomposition_bar_chart('pst_flow', ascending=True)"
   ]
  },
  {
   "cell_type": "code",
   "execution_count": 14,
   "metadata": {},
   "outputs": [
    {
     "data": {
      "application/vnd.plotly.v1+json": {
       "config": {
        "plotlyServerURL": "https://plot.ly"
       },
       "data": [
        {
         "alignmentgroup": "True",
         "hovertemplate": "Decomposition part:=commercial_flow<br>Flow decomposition value=%{x}<br>xnec_id=%{y}<extra></extra>",
         "legendgroup": "commercial_flow",
         "marker": {
          "color": "#0DF9FF",
          "pattern": {
           "shape": ""
          }
         },
         "name": "commercial_flow",
         "offsetgroup": "commercial_flow",
         "orientation": "h",
         "showlegend": true,
         "textposition": "auto",
         "texttemplate": "%{x:.0f}",
         "type": "bar",
         "x": [
          1059.396650188225,
          91.24807407583467,
          -77.30595848394132,
          -77.30595848394151,
          237.72127392858022,
          237.72127392857993,
          -99.02268234668537,
          -99.02268234668497,
          48.70628255985155,
          -9.378008984882038,
          -300.18796921456584,
          168.55403255977552,
          143.02926257130218,
          188.6557983879049,
          310.11145382735185,
          null,
          11.2047119479809,
          -252.59476994224354,
          -19.18124807365585,
          329.1973192849096
         ],
         "xaxis": "x",
         "y": [
          "L133-137-1_InitialState",
          "L162-164-1_InitialState",
          "T163-137-1_InitialState",
          "L163-164-1_InitialState",
          "L62-144-1_InitialState",
          "T143-144-1_InitialState",
          "L7-131-1_InitialState",
          "T130-131-1_InitialState",
          "L145-146-1_InitialState",
          "L34-42-1_InitialState",
          "L136-152-1_InitialState",
          "T164-155-1_InitialState",
          "L152-153-1_InitialState",
          "L133-169-1_InitialState",
          "L167-169-1_InitialState",
          "L143-149-1_InitialState",
          "L33-38-1_InitialState",
          "L127-134-1_InitialState",
          "L140-147-1_InitialState",
          "L194-219-1_InitialState"
         ],
         "yaxis": "y"
        },
        {
         "alignmentgroup": "True",
         "hovertemplate": "Decomposition part:=internal_flow<br>Flow decomposition value=%{x}<br>xnec_id=%{y}<extra></extra>",
         "legendgroup": "internal_flow",
         "marker": {
          "color": "#AF0038",
          "pattern": {
           "shape": ""
          }
         },
         "name": "internal_flow",
         "offsetgroup": "internal_flow",
         "orientation": "h",
         "showlegend": true,
         "textposition": "auto",
         "texttemplate": "%{x:.0f}",
         "type": "bar",
         "x": [
          null,
          null,
          -186.01255685623246,
          -186.01255685623255,
          null,
          null,
          null,
          32.79897538701362,
          null,
          null,
          606.150864790927,
          186.012556856232,
          null,
          null,
          null,
          null,
          null,
          401.57124856574166,
          null,
          null
         ],
         "xaxis": "x",
         "y": [
          "L133-137-1_InitialState",
          "L162-164-1_InitialState",
          "T163-137-1_InitialState",
          "L163-164-1_InitialState",
          "L62-144-1_InitialState",
          "T143-144-1_InitialState",
          "L7-131-1_InitialState",
          "T130-131-1_InitialState",
          "L145-146-1_InitialState",
          "L34-42-1_InitialState",
          "L136-152-1_InitialState",
          "T164-155-1_InitialState",
          "L152-153-1_InitialState",
          "L133-169-1_InitialState",
          "L167-169-1_InitialState",
          "L143-149-1_InitialState",
          "L33-38-1_InitialState",
          "L127-134-1_InitialState",
          "L140-147-1_InitialState",
          "L194-219-1_InitialState"
         ],
         "yaxis": "y"
        },
        {
         "alignmentgroup": "True",
         "hovertemplate": "Decomposition part:=loop_flow_from_bg<br>Flow decomposition value=%{x}<br>xnec_id=%{y}<extra></extra>",
         "legendgroup": "loop_flow_from_bg",
         "marker": {
          "color": "#FD3216",
          "pattern": {
           "shape": ""
          }
         },
         "name": "loop_flow_from_bg",
         "offsetgroup": "loop_flow_from_bg",
         "orientation": "h",
         "showlegend": true,
         "textposition": "auto",
         "texttemplate": "%{x:.0f}",
         "type": "bar",
         "x": [
          null,
          null,
          null,
          null,
          null,
          null,
          null,
          null,
          null,
          null,
          null,
          null,
          null,
          null,
          null,
          null,
          null,
          null,
          null,
          -39.254881301617154
         ],
         "xaxis": "x",
         "y": [
          "L133-137-1_InitialState",
          "L162-164-1_InitialState",
          "T163-137-1_InitialState",
          "L163-164-1_InitialState",
          "L62-144-1_InitialState",
          "T143-144-1_InitialState",
          "L7-131-1_InitialState",
          "T130-131-1_InitialState",
          "L145-146-1_InitialState",
          "L34-42-1_InitialState",
          "L136-152-1_InitialState",
          "T164-155-1_InitialState",
          "L152-153-1_InitialState",
          "L133-169-1_InitialState",
          "L167-169-1_InitialState",
          "L143-149-1_InitialState",
          "L33-38-1_InitialState",
          "L127-134-1_InitialState",
          "L140-147-1_InitialState",
          "L194-219-1_InitialState"
         ],
         "yaxis": "y"
        },
        {
         "alignmentgroup": "True",
         "hovertemplate": "Decomposition part:=loop_flow_from_cz<br>Flow decomposition value=%{x}<br>xnec_id=%{y}<extra></extra>",
         "legendgroup": "loop_flow_from_cz",
         "marker": {
          "color": "#00A08B",
          "pattern": {
           "shape": ""
          }
         },
         "name": "loop_flow_from_cz",
         "offsetgroup": "loop_flow_from_cz",
         "orientation": "h",
         "showlegend": true,
         "textposition": "auto",
         "texttemplate": "%{x:.0f}",
         "type": "bar",
         "x": [
          null,
          null,
          null,
          null,
          null,
          null,
          null,
          null,
          null,
          null,
          null,
          null,
          null,
          null,
          null,
          null,
          null,
          null,
          null,
          null
         ],
         "xaxis": "x",
         "y": [
          "L133-137-1_InitialState",
          "L162-164-1_InitialState",
          "T163-137-1_InitialState",
          "L163-164-1_InitialState",
          "L62-144-1_InitialState",
          "T143-144-1_InitialState",
          "L7-131-1_InitialState",
          "T130-131-1_InitialState",
          "L145-146-1_InitialState",
          "L34-42-1_InitialState",
          "L136-152-1_InitialState",
          "T164-155-1_InitialState",
          "L152-153-1_InitialState",
          "L133-169-1_InitialState",
          "L167-169-1_InitialState",
          "L143-149-1_InitialState",
          "L33-38-1_InitialState",
          "L127-134-1_InitialState",
          "L140-147-1_InitialState",
          "L194-219-1_InitialState"
         ],
         "yaxis": "y"
        },
        {
         "alignmentgroup": "True",
         "hovertemplate": "Decomposition part:=loop_flow_from_dk<br>Flow decomposition value=%{x}<br>xnec_id=%{y}<extra></extra>",
         "legendgroup": "loop_flow_from_dk",
         "marker": {
          "color": "#6C4516",
          "pattern": {
           "shape": ""
          }
         },
         "name": "loop_flow_from_dk",
         "offsetgroup": "loop_flow_from_dk",
         "orientation": "h",
         "showlegend": true,
         "textposition": "auto",
         "texttemplate": "%{x:.0f}",
         "type": "bar",
         "x": [
          -295.24726401757255,
          null,
          null,
          null,
          null,
          null,
          -59.487025202592406,
          -59.487025202592235,
          -60.716367174189216,
          17.54506019057122,
          -88.987443143768,
          null,
          -88.9874431437678,
          -77.15884759532261,
          null,
          -19.815960371268304,
          -19.51988098726031,
          -65.476650038837,
          16.557063655104372,
          null
         ],
         "xaxis": "x",
         "y": [
          "L133-137-1_InitialState",
          "L162-164-1_InitialState",
          "T163-137-1_InitialState",
          "L163-164-1_InitialState",
          "L62-144-1_InitialState",
          "T143-144-1_InitialState",
          "L7-131-1_InitialState",
          "T130-131-1_InitialState",
          "L145-146-1_InitialState",
          "L34-42-1_InitialState",
          "L136-152-1_InitialState",
          "T164-155-1_InitialState",
          "L152-153-1_InitialState",
          "L133-169-1_InitialState",
          "L167-169-1_InitialState",
          "L143-149-1_InitialState",
          "L33-38-1_InitialState",
          "L127-134-1_InitialState",
          "L140-147-1_InitialState",
          "L194-219-1_InitialState"
         ],
         "yaxis": "y"
        },
        {
         "alignmentgroup": "True",
         "hovertemplate": "Decomposition part:=loop_flow_from_ee<br>Flow decomposition value=%{x}<br>xnec_id=%{y}<extra></extra>",
         "legendgroup": "loop_flow_from_ee",
         "marker": {
          "color": "#511CFB",
          "pattern": {
           "shape": ""
          }
         },
         "name": "loop_flow_from_ee",
         "offsetgroup": "loop_flow_from_ee",
         "orientation": "h",
         "showlegend": true,
         "textposition": "auto",
         "texttemplate": "%{x:.0f}",
         "type": "bar",
         "x": [
          null,
          null,
          null,
          null,
          null,
          null,
          null,
          null,
          null,
          null,
          null,
          null,
          null,
          null,
          null,
          null,
          null,
          null,
          null,
          null
         ],
         "xaxis": "x",
         "y": [
          "L133-137-1_InitialState",
          "L162-164-1_InitialState",
          "T163-137-1_InitialState",
          "L163-164-1_InitialState",
          "L62-144-1_InitialState",
          "T143-144-1_InitialState",
          "L7-131-1_InitialState",
          "T130-131-1_InitialState",
          "L145-146-1_InitialState",
          "L34-42-1_InitialState",
          "L136-152-1_InitialState",
          "T164-155-1_InitialState",
          "L152-153-1_InitialState",
          "L133-169-1_InitialState",
          "L167-169-1_InitialState",
          "L143-149-1_InitialState",
          "L33-38-1_InitialState",
          "L127-134-1_InitialState",
          "L140-147-1_InitialState",
          "L194-219-1_InitialState"
         ],
         "yaxis": "y"
        },
        {
         "alignmentgroup": "True",
         "hovertemplate": "Decomposition part:=loop_flow_from_fr<br>Flow decomposition value=%{x}<br>xnec_id=%{y}<extra></extra>",
         "legendgroup": "loop_flow_from_fr",
         "marker": {
          "color": "#F6F926",
          "pattern": {
           "shape": ""
          }
         },
         "name": "loop_flow_from_fr",
         "offsetgroup": "loop_flow_from_fr",
         "orientation": "h",
         "showlegend": true,
         "textposition": "auto",
         "texttemplate": "%{x:.0f}",
         "type": "bar",
         "x": [
          -304.87595959215463,
          null,
          null,
          null,
          -266.1351832142106,
          -266.1351832142107,
          -144.53911358515916,
          -144.53911358515919,
          123.94734760987201,
          7.455758118999309,
          null,
          null,
          null,
          -69.90500588044807,
          -66.83121414782657,
          -28.57287343619209,
          null,
          null,
          -35.51330383844114,
          -248.050906976585
         ],
         "xaxis": "x",
         "y": [
          "L133-137-1_InitialState",
          "L162-164-1_InitialState",
          "T163-137-1_InitialState",
          "L163-164-1_InitialState",
          "L62-144-1_InitialState",
          "T143-144-1_InitialState",
          "L7-131-1_InitialState",
          "T130-131-1_InitialState",
          "L145-146-1_InitialState",
          "L34-42-1_InitialState",
          "L136-152-1_InitialState",
          "T164-155-1_InitialState",
          "L152-153-1_InitialState",
          "L133-169-1_InitialState",
          "L167-169-1_InitialState",
          "L143-149-1_InitialState",
          "L33-38-1_InitialState",
          "L127-134-1_InitialState",
          "L140-147-1_InitialState",
          "L194-219-1_InitialState"
         ],
         "yaxis": "y"
        },
        {
         "alignmentgroup": "True",
         "hovertemplate": "Decomposition part:=loop_flow_from_hu<br>Flow decomposition value=%{x}<br>xnec_id=%{y}<extra></extra>",
         "legendgroup": "loop_flow_from_hu",
         "marker": {
          "color": "#C9FBE5",
          "pattern": {
           "shape": ""
          }
         },
         "name": "loop_flow_from_hu",
         "offsetgroup": "loop_flow_from_hu",
         "orientation": "h",
         "showlegend": true,
         "textposition": "auto",
         "texttemplate": "%{x:.0f}",
         "type": "bar",
         "x": [
          -216.4182086820917,
          null,
          157.0412876298622,
          157.04128762986235,
          -74.5444382263269,
          -74.54443822632652,
          32.79897538701379,
          null,
          -104.34122566317576,
          null,
          null,
          -157.0412876298619,
          -192.04128762986193,
          -33.14773105702719,
          -290.38114219794795,
          null,
          null,
          null,
          57.555375519121014,
          null
         ],
         "xaxis": "x",
         "y": [
          "L133-137-1_InitialState",
          "L162-164-1_InitialState",
          "T163-137-1_InitialState",
          "L163-164-1_InitialState",
          "L62-144-1_InitialState",
          "T143-144-1_InitialState",
          "L7-131-1_InitialState",
          "T130-131-1_InitialState",
          "L145-146-1_InitialState",
          "L34-42-1_InitialState",
          "L136-152-1_InitialState",
          "T164-155-1_InitialState",
          "L152-153-1_InitialState",
          "L133-169-1_InitialState",
          "L167-169-1_InitialState",
          "L143-149-1_InitialState",
          "L33-38-1_InitialState",
          "L127-134-1_InitialState",
          "L140-147-1_InitialState",
          "L194-219-1_InitialState"
         ],
         "yaxis": "y"
        },
        {
         "alignmentgroup": "True",
         "hovertemplate": "Decomposition part:=loop_flow_from_ie<br>Flow decomposition value=%{x}<br>xnec_id=%{y}<extra></extra>",
         "legendgroup": "loop_flow_from_ie",
         "marker": {
          "color": "#FC0080",
          "pattern": {
           "shape": ""
          }
         },
         "name": "loop_flow_from_ie",
         "offsetgroup": "loop_flow_from_ie",
         "orientation": "h",
         "showlegend": true,
         "textposition": "auto",
         "texttemplate": "%{x:.0f}",
         "type": "bar",
         "x": [
          null,
          null,
          null,
          null,
          null,
          null,
          null,
          null,
          null,
          null,
          null,
          null,
          null,
          null,
          null,
          null,
          null,
          null,
          null,
          null
         ],
         "xaxis": "x",
         "y": [
          "L133-137-1_InitialState",
          "L162-164-1_InitialState",
          "T163-137-1_InitialState",
          "L163-164-1_InitialState",
          "L62-144-1_InitialState",
          "T143-144-1_InitialState",
          "L7-131-1_InitialState",
          "T130-131-1_InitialState",
          "L145-146-1_InitialState",
          "L34-42-1_InitialState",
          "L136-152-1_InitialState",
          "T164-155-1_InitialState",
          "L152-153-1_InitialState",
          "L133-169-1_InitialState",
          "L167-169-1_InitialState",
          "L143-149-1_InitialState",
          "L33-38-1_InitialState",
          "L127-134-1_InitialState",
          "L140-147-1_InitialState",
          "L194-219-1_InitialState"
         ],
         "yaxis": "y"
        },
        {
         "alignmentgroup": "True",
         "hovertemplate": "Decomposition part:=loop_flow_from_lt<br>Flow decomposition value=%{x}<br>xnec_id=%{y}<extra></extra>",
         "legendgroup": "loop_flow_from_lt",
         "marker": {
          "color": "#FB0D0D",
          "pattern": {
           "shape": ""
          }
         },
         "name": "loop_flow_from_lt",
         "offsetgroup": "loop_flow_from_lt",
         "orientation": "h",
         "showlegend": true,
         "textposition": "auto",
         "texttemplate": "%{x:.0f}",
         "type": "bar",
         "x": [
          398.50051347346846,
          376.7268465590866,
          281.30487147870724,
          281.3048714787072,
          253.1176696660755,
          253.11766966607496,
          225.6488738980684,
          225.6488738980683,
          137.94659300128734,
          97.07911602379642,
          95.42197508037935,
          95.42197508037914,
          95.42197508037914,
          95.16086313990715,
          92.89270910697041,
          82.25829991478106,
          78.95596259412835,
          64.10027622765622,
          47.55622610135586,
          47.14404153060256
         ],
         "xaxis": "x",
         "y": [
          "L133-137-1_InitialState",
          "L162-164-1_InitialState",
          "T163-137-1_InitialState",
          "L163-164-1_InitialState",
          "L62-144-1_InitialState",
          "T143-144-1_InitialState",
          "L7-131-1_InitialState",
          "T130-131-1_InitialState",
          "L145-146-1_InitialState",
          "L34-42-1_InitialState",
          "L136-152-1_InitialState",
          "T164-155-1_InitialState",
          "L152-153-1_InitialState",
          "L133-169-1_InitialState",
          "L167-169-1_InitialState",
          "L143-149-1_InitialState",
          "L33-38-1_InitialState",
          "L127-134-1_InitialState",
          "L140-147-1_InitialState",
          "L194-219-1_InitialState"
         ],
         "yaxis": "y"
        },
        {
         "alignmentgroup": "True",
         "hovertemplate": "Decomposition part:=loop_flow_from_lu<br>Flow decomposition value=%{x}<br>xnec_id=%{y}<extra></extra>",
         "legendgroup": "loop_flow_from_lu",
         "marker": {
          "color": "#D626FF",
          "pattern": {
           "shape": ""
          }
         },
         "name": "loop_flow_from_lu",
         "offsetgroup": "loop_flow_from_lu",
         "orientation": "h",
         "showlegend": true,
         "textposition": "auto",
         "texttemplate": "%{x:.0f}",
         "type": "bar",
         "x": [
          null,
          null,
          56.891792377184565,
          56.89179237718451,
          null,
          null,
          47.92916106758656,
          47.92916106758653,
          null,
          8.949355442016007,
          74.60789824620907,
          -56.891792377184395,
          74.60789824620912,
          null,
          null,
          null,
          null,
          null,
          null,
          null
         ],
         "xaxis": "x",
         "y": [
          "L133-137-1_InitialState",
          "L162-164-1_InitialState",
          "T163-137-1_InitialState",
          "L163-164-1_InitialState",
          "L62-144-1_InitialState",
          "T143-144-1_InitialState",
          "L7-131-1_InitialState",
          "T130-131-1_InitialState",
          "L145-146-1_InitialState",
          "L34-42-1_InitialState",
          "L136-152-1_InitialState",
          "T164-155-1_InitialState",
          "L152-153-1_InitialState",
          "L133-169-1_InitialState",
          "L167-169-1_InitialState",
          "L143-149-1_InitialState",
          "L33-38-1_InitialState",
          "L127-134-1_InitialState",
          "L140-147-1_InitialState",
          "L194-219-1_InitialState"
         ],
         "yaxis": "y"
        },
        {
         "alignmentgroup": "True",
         "hovertemplate": "Decomposition part:=pst_flow<br>Flow decomposition value=%{x}<br>xnec_id=%{y}<extra></extra>",
         "legendgroup": "pst_flow",
         "marker": {
          "color": "#DA16FF",
          "pattern": {
           "shape": ""
          }
         },
         "name": "pst_flow",
         "offsetgroup": "pst_flow",
         "orientation": "h",
         "showlegend": true,
         "textposition": "auto",
         "texttemplate": "%{x:.0f}",
         "type": "bar",
         "x": [
          null,
          null,
          null,
          null,
          null,
          null,
          null,
          null,
          null,
          null,
          null,
          null,
          null,
          null,
          null,
          null,
          null,
          null,
          null,
          null
         ],
         "xaxis": "x",
         "y": [
          "L133-137-1_InitialState",
          "L162-164-1_InitialState",
          "T163-137-1_InitialState",
          "L163-164-1_InitialState",
          "L62-144-1_InitialState",
          "T143-144-1_InitialState",
          "L7-131-1_InitialState",
          "T130-131-1_InitialState",
          "L145-146-1_InitialState",
          "L34-42-1_InitialState",
          "L136-152-1_InitialState",
          "T164-155-1_InitialState",
          "L152-153-1_InitialState",
          "L133-169-1_InitialState",
          "L167-169-1_InitialState",
          "L143-149-1_InitialState",
          "L33-38-1_InitialState",
          "L127-134-1_InitialState",
          "L140-147-1_InitialState",
          "L194-219-1_InitialState"
         ],
         "yaxis": "y"
        },
        {
         "alignmentgroup": "True",
         "hovertemplate": "Decomposition part:=masked_flows_positive<br>Flow decomposition value=%{x}<br>xnec_id=%{y}<extra></extra>",
         "legendgroup": "masked_flows_positive",
         "marker": {
          "color": "#86CE00",
          "pattern": {
           "shape": ""
          }
         },
         "name": "masked_flows_positive",
         "offsetgroup": "masked_flows_positive",
         "orientation": "h",
         "showlegend": true,
         "textposition": "auto",
         "texttemplate": "%{x:.0f}",
         "type": "bar",
         "x": [
          78.27164503612859,
          0.7619047619047927,
          6.330699976071821,
          6.330699976071893,
          31.877199616398574,
          31.87719961639855,
          3.8269258102308603,
          3.826925810230847,
          9.533748609545864,
          2.7491736524357866,
          1.1471820661077479,
          0.0006479045100204403,
          0.3852773042029925,
          21.15301021610441,
          22.16156499824816,
          6.97321194334458,
          5.074467026789567,
          34.22595837529628,
          0.1730709731420709,
          9.637136961554
         ],
         "xaxis": "x",
         "y": [
          "L133-137-1_InitialState",
          "L162-164-1_InitialState",
          "T163-137-1_InitialState",
          "L163-164-1_InitialState",
          "L62-144-1_InitialState",
          "T143-144-1_InitialState",
          "L7-131-1_InitialState",
          "T130-131-1_InitialState",
          "L145-146-1_InitialState",
          "L34-42-1_InitialState",
          "L136-152-1_InitialState",
          "T164-155-1_InitialState",
          "L152-153-1_InitialState",
          "L133-169-1_InitialState",
          "L167-169-1_InitialState",
          "L143-149-1_InitialState",
          "L33-38-1_InitialState",
          "L127-134-1_InitialState",
          "L140-147-1_InitialState",
          "L194-219-1_InitialState"
         ],
         "yaxis": "y"
        },
        {
         "alignmentgroup": "True",
         "hovertemplate": "Decomposition part:=masked_flows_negative<br>Flow decomposition value=%{x}<br>xnec_id=%{y}<extra></extra>",
         "legendgroup": "masked_flows_negative",
         "marker": {
          "color": "#6A76FC",
          "pattern": {
           "shape": ""
          }
         },
         "name": "masked_flows_negative",
         "offsetgroup": "masked_flows_negative",
         "orientation": "h",
         "showlegend": true,
         "textposition": "auto",
         "texttemplate": "%{x:.0f}",
         "type": "bar",
         "x": [
          -1.3032204352282335,
          -5.357658761084849e-13,
          -0.0006479045100257486,
          -0.0006479045100136471,
          -36.04338765741187,
          -36.043387657411785,
          -0.5859527243235298,
          -0.5859527243235512,
          -0.012749497912139252,
          -0.7498937289048789,
          -5.191519851954963,
          -5.568795214166961,
          -5.191519851955039,
          -0.29881540122093586,
          -32.599721322861775,
          -0.7365680276933136,
          -3.6471139630565226,
          -23.990972319109343,
          -2.358688315161287,
          -6.04861533915769
         ],
         "xaxis": "x",
         "y": [
          "L133-137-1_InitialState",
          "L162-164-1_InitialState",
          "T163-137-1_InitialState",
          "L163-164-1_InitialState",
          "L62-144-1_InitialState",
          "T143-144-1_InitialState",
          "L7-131-1_InitialState",
          "T130-131-1_InitialState",
          "L145-146-1_InitialState",
          "L34-42-1_InitialState",
          "L136-152-1_InitialState",
          "T164-155-1_InitialState",
          "L152-153-1_InitialState",
          "L133-169-1_InitialState",
          "L167-169-1_InitialState",
          "L143-149-1_InitialState",
          "L33-38-1_InitialState",
          "L127-134-1_InitialState",
          "L140-147-1_InitialState",
          "L194-219-1_InitialState"
         ],
         "yaxis": "y"
        },
        {
         "mode": "lines+markers",
         "name": "total_flow",
         "type": "scatter",
         "x": [
          718.3241559707751,
          468.7368253968255,
          238.24948821714207,
          238.24948821714187,
          145.99313411310493,
          145.99313411310442,
          6.569162304139155,
          6.569162304139375,
          155.06362944527962,
          123.65056071403183,
          382.96098797333434,
          230.4873371796835,
          27.224162576508675,
          124.45927180989766,
          35.35365026393416,
          40.10611002297193,
          72.06814661858198,
          157.83509086850427,
          64.78849602146504,
          92.6240941597063
         ],
         "y": [
          "L133-137-1_InitialState",
          "L162-164-1_InitialState",
          "T163-137-1_InitialState",
          "L163-164-1_InitialState",
          "L62-144-1_InitialState",
          "T143-144-1_InitialState",
          "L7-131-1_InitialState",
          "T130-131-1_InitialState",
          "L145-146-1_InitialState",
          "L34-42-1_InitialState",
          "L136-152-1_InitialState",
          "T164-155-1_InitialState",
          "L152-153-1_InitialState",
          "L133-169-1_InitialState",
          "L167-169-1_InitialState",
          "L143-149-1_InitialState",
          "L33-38-1_InitialState",
          "L127-134-1_InitialState",
          "L140-147-1_InitialState",
          "L194-219-1_InitialState"
         ]
        },
        {
         "mode": "lines+markers",
         "name": "total_loop_flow",
         "type": "scatter",
         "x": [
          -341.07249421745,
          377.48875132099084,
          501.5680035573158,
          501.56800355731593,
          -91.72813981547533,
          -55.72595757321716,
          105.59184465082453,
          72.7928692638107,
          106.3573468854281,
          133.02856969891386,
          76.9980923969732,
          -124.0792522363241,
          -115.80509999479352,
          -64.19652657800725,
          -274.75780356341767,
          40.83900617007109,
          60.86343467060109,
          8.858612245006164,
          83.96974409512089,
          -236.5732251252033
         ],
         "y": [
          "L133-137-1_InitialState",
          "L162-164-1_InitialState",
          "T163-137-1_InitialState",
          "L163-164-1_InitialState",
          "L62-144-1_InitialState",
          "T143-144-1_InitialState",
          "L7-131-1_InitialState",
          "T130-131-1_InitialState",
          "L145-146-1_InitialState",
          "L34-42-1_InitialState",
          "L136-152-1_InitialState",
          "T164-155-1_InitialState",
          "L152-153-1_InitialState",
          "L133-169-1_InitialState",
          "L167-169-1_InitialState",
          "L143-149-1_InitialState",
          "L33-38-1_InitialState",
          "L127-134-1_InitialState",
          "L140-147-1_InitialState",
          "L194-219-1_InitialState"
         ]
        }
       ],
       "layout": {
        "barmode": "relative",
        "height": 1000,
        "legend": {
         "title": {
          "text": "Decomposition part:"
         },
         "tracegroupgap": 0
        },
        "template": {
         "data": {
          "bar": [
           {
            "error_x": {
             "color": "rgb(36,36,36)"
            },
            "error_y": {
             "color": "rgb(36,36,36)"
            },
            "marker": {
             "line": {
              "color": "rgb(234,234,242)",
              "width": 0.5
             },
             "pattern": {
              "fillmode": "overlay",
              "size": 10,
              "solidity": 0.2
             }
            },
            "type": "bar"
           }
          ],
          "barpolar": [
           {
            "marker": {
             "line": {
              "color": "rgb(234,234,242)",
              "width": 0.5
             },
             "pattern": {
              "fillmode": "overlay",
              "size": 10,
              "solidity": 0.2
             }
            },
            "type": "barpolar"
           }
          ],
          "carpet": [
           {
            "aaxis": {
             "endlinecolor": "rgb(36,36,36)",
             "gridcolor": "white",
             "linecolor": "white",
             "minorgridcolor": "white",
             "startlinecolor": "rgb(36,36,36)"
            },
            "baxis": {
             "endlinecolor": "rgb(36,36,36)",
             "gridcolor": "white",
             "linecolor": "white",
             "minorgridcolor": "white",
             "startlinecolor": "rgb(36,36,36)"
            },
            "type": "carpet"
           }
          ],
          "choropleth": [
           {
            "colorbar": {
             "outlinewidth": 0,
             "tickcolor": "rgb(36,36,36)",
             "ticklen": 8,
             "ticks": "outside",
             "tickwidth": 2
            },
            "type": "choropleth"
           }
          ],
          "contour": [
           {
            "colorbar": {
             "outlinewidth": 0,
             "tickcolor": "rgb(36,36,36)",
             "ticklen": 8,
             "ticks": "outside",
             "tickwidth": 2
            },
            "colorscale": [
             [
              0,
              "rgb(2,4,25)"
             ],
             [
              0.06274509803921569,
              "rgb(24,15,41)"
             ],
             [
              0.12549019607843137,
              "rgb(47,23,57)"
             ],
             [
              0.18823529411764706,
              "rgb(71,28,72)"
             ],
             [
              0.25098039215686274,
              "rgb(97,30,82)"
             ],
             [
              0.3137254901960784,
              "rgb(123,30,89)"
             ],
             [
              0.3764705882352941,
              "rgb(150,27,91)"
             ],
             [
              0.4392156862745098,
              "rgb(177,22,88)"
             ],
             [
              0.5019607843137255,
              "rgb(203,26,79)"
             ],
             [
              0.5647058823529412,
              "rgb(223,47,67)"
             ],
             [
              0.6274509803921569,
              "rgb(236,76,61)"
             ],
             [
              0.6901960784313725,
              "rgb(242,107,73)"
             ],
             [
              0.7529411764705882,
              "rgb(244,135,95)"
             ],
             [
              0.8156862745098039,
              "rgb(245,162,122)"
             ],
             [
              0.8784313725490196,
              "rgb(246,188,153)"
             ],
             [
              0.9411764705882353,
              "rgb(247,212,187)"
             ],
             [
              1,
              "rgb(250,234,220)"
             ]
            ],
            "type": "contour"
           }
          ],
          "contourcarpet": [
           {
            "colorbar": {
             "outlinewidth": 0,
             "tickcolor": "rgb(36,36,36)",
             "ticklen": 8,
             "ticks": "outside",
             "tickwidth": 2
            },
            "type": "contourcarpet"
           }
          ],
          "heatmap": [
           {
            "colorbar": {
             "outlinewidth": 0,
             "tickcolor": "rgb(36,36,36)",
             "ticklen": 8,
             "ticks": "outside",
             "tickwidth": 2
            },
            "colorscale": [
             [
              0,
              "rgb(2,4,25)"
             ],
             [
              0.06274509803921569,
              "rgb(24,15,41)"
             ],
             [
              0.12549019607843137,
              "rgb(47,23,57)"
             ],
             [
              0.18823529411764706,
              "rgb(71,28,72)"
             ],
             [
              0.25098039215686274,
              "rgb(97,30,82)"
             ],
             [
              0.3137254901960784,
              "rgb(123,30,89)"
             ],
             [
              0.3764705882352941,
              "rgb(150,27,91)"
             ],
             [
              0.4392156862745098,
              "rgb(177,22,88)"
             ],
             [
              0.5019607843137255,
              "rgb(203,26,79)"
             ],
             [
              0.5647058823529412,
              "rgb(223,47,67)"
             ],
             [
              0.6274509803921569,
              "rgb(236,76,61)"
             ],
             [
              0.6901960784313725,
              "rgb(242,107,73)"
             ],
             [
              0.7529411764705882,
              "rgb(244,135,95)"
             ],
             [
              0.8156862745098039,
              "rgb(245,162,122)"
             ],
             [
              0.8784313725490196,
              "rgb(246,188,153)"
             ],
             [
              0.9411764705882353,
              "rgb(247,212,187)"
             ],
             [
              1,
              "rgb(250,234,220)"
             ]
            ],
            "type": "heatmap"
           }
          ],
          "heatmapgl": [
           {
            "colorbar": {
             "outlinewidth": 0,
             "tickcolor": "rgb(36,36,36)",
             "ticklen": 8,
             "ticks": "outside",
             "tickwidth": 2
            },
            "colorscale": [
             [
              0,
              "rgb(2,4,25)"
             ],
             [
              0.06274509803921569,
              "rgb(24,15,41)"
             ],
             [
              0.12549019607843137,
              "rgb(47,23,57)"
             ],
             [
              0.18823529411764706,
              "rgb(71,28,72)"
             ],
             [
              0.25098039215686274,
              "rgb(97,30,82)"
             ],
             [
              0.3137254901960784,
              "rgb(123,30,89)"
             ],
             [
              0.3764705882352941,
              "rgb(150,27,91)"
             ],
             [
              0.4392156862745098,
              "rgb(177,22,88)"
             ],
             [
              0.5019607843137255,
              "rgb(203,26,79)"
             ],
             [
              0.5647058823529412,
              "rgb(223,47,67)"
             ],
             [
              0.6274509803921569,
              "rgb(236,76,61)"
             ],
             [
              0.6901960784313725,
              "rgb(242,107,73)"
             ],
             [
              0.7529411764705882,
              "rgb(244,135,95)"
             ],
             [
              0.8156862745098039,
              "rgb(245,162,122)"
             ],
             [
              0.8784313725490196,
              "rgb(246,188,153)"
             ],
             [
              0.9411764705882353,
              "rgb(247,212,187)"
             ],
             [
              1,
              "rgb(250,234,220)"
             ]
            ],
            "type": "heatmapgl"
           }
          ],
          "histogram": [
           {
            "marker": {
             "pattern": {
              "fillmode": "overlay",
              "size": 10,
              "solidity": 0.2
             }
            },
            "type": "histogram"
           }
          ],
          "histogram2d": [
           {
            "colorbar": {
             "outlinewidth": 0,
             "tickcolor": "rgb(36,36,36)",
             "ticklen": 8,
             "ticks": "outside",
             "tickwidth": 2
            },
            "colorscale": [
             [
              0,
              "rgb(2,4,25)"
             ],
             [
              0.06274509803921569,
              "rgb(24,15,41)"
             ],
             [
              0.12549019607843137,
              "rgb(47,23,57)"
             ],
             [
              0.18823529411764706,
              "rgb(71,28,72)"
             ],
             [
              0.25098039215686274,
              "rgb(97,30,82)"
             ],
             [
              0.3137254901960784,
              "rgb(123,30,89)"
             ],
             [
              0.3764705882352941,
              "rgb(150,27,91)"
             ],
             [
              0.4392156862745098,
              "rgb(177,22,88)"
             ],
             [
              0.5019607843137255,
              "rgb(203,26,79)"
             ],
             [
              0.5647058823529412,
              "rgb(223,47,67)"
             ],
             [
              0.6274509803921569,
              "rgb(236,76,61)"
             ],
             [
              0.6901960784313725,
              "rgb(242,107,73)"
             ],
             [
              0.7529411764705882,
              "rgb(244,135,95)"
             ],
             [
              0.8156862745098039,
              "rgb(245,162,122)"
             ],
             [
              0.8784313725490196,
              "rgb(246,188,153)"
             ],
             [
              0.9411764705882353,
              "rgb(247,212,187)"
             ],
             [
              1,
              "rgb(250,234,220)"
             ]
            ],
            "type": "histogram2d"
           }
          ],
          "histogram2dcontour": [
           {
            "colorbar": {
             "outlinewidth": 0,
             "tickcolor": "rgb(36,36,36)",
             "ticklen": 8,
             "ticks": "outside",
             "tickwidth": 2
            },
            "colorscale": [
             [
              0,
              "rgb(2,4,25)"
             ],
             [
              0.06274509803921569,
              "rgb(24,15,41)"
             ],
             [
              0.12549019607843137,
              "rgb(47,23,57)"
             ],
             [
              0.18823529411764706,
              "rgb(71,28,72)"
             ],
             [
              0.25098039215686274,
              "rgb(97,30,82)"
             ],
             [
              0.3137254901960784,
              "rgb(123,30,89)"
             ],
             [
              0.3764705882352941,
              "rgb(150,27,91)"
             ],
             [
              0.4392156862745098,
              "rgb(177,22,88)"
             ],
             [
              0.5019607843137255,
              "rgb(203,26,79)"
             ],
             [
              0.5647058823529412,
              "rgb(223,47,67)"
             ],
             [
              0.6274509803921569,
              "rgb(236,76,61)"
             ],
             [
              0.6901960784313725,
              "rgb(242,107,73)"
             ],
             [
              0.7529411764705882,
              "rgb(244,135,95)"
             ],
             [
              0.8156862745098039,
              "rgb(245,162,122)"
             ],
             [
              0.8784313725490196,
              "rgb(246,188,153)"
             ],
             [
              0.9411764705882353,
              "rgb(247,212,187)"
             ],
             [
              1,
              "rgb(250,234,220)"
             ]
            ],
            "type": "histogram2dcontour"
           }
          ],
          "mesh3d": [
           {
            "colorbar": {
             "outlinewidth": 0,
             "tickcolor": "rgb(36,36,36)",
             "ticklen": 8,
             "ticks": "outside",
             "tickwidth": 2
            },
            "type": "mesh3d"
           }
          ],
          "parcoords": [
           {
            "line": {
             "colorbar": {
              "outlinewidth": 0,
              "tickcolor": "rgb(36,36,36)",
              "ticklen": 8,
              "ticks": "outside",
              "tickwidth": 2
             }
            },
            "type": "parcoords"
           }
          ],
          "pie": [
           {
            "automargin": true,
            "type": "pie"
           }
          ],
          "scatter": [
           {
            "fillpattern": {
             "fillmode": "overlay",
             "size": 10,
             "solidity": 0.2
            },
            "type": "scatter"
           }
          ],
          "scatter3d": [
           {
            "line": {
             "colorbar": {
              "outlinewidth": 0,
              "tickcolor": "rgb(36,36,36)",
              "ticklen": 8,
              "ticks": "outside",
              "tickwidth": 2
             }
            },
            "marker": {
             "colorbar": {
              "outlinewidth": 0,
              "tickcolor": "rgb(36,36,36)",
              "ticklen": 8,
              "ticks": "outside",
              "tickwidth": 2
             }
            },
            "type": "scatter3d"
           }
          ],
          "scattercarpet": [
           {
            "marker": {
             "colorbar": {
              "outlinewidth": 0,
              "tickcolor": "rgb(36,36,36)",
              "ticklen": 8,
              "ticks": "outside",
              "tickwidth": 2
             }
            },
            "type": "scattercarpet"
           }
          ],
          "scattergeo": [
           {
            "marker": {
             "colorbar": {
              "outlinewidth": 0,
              "tickcolor": "rgb(36,36,36)",
              "ticklen": 8,
              "ticks": "outside",
              "tickwidth": 2
             }
            },
            "type": "scattergeo"
           }
          ],
          "scattergl": [
           {
            "marker": {
             "colorbar": {
              "outlinewidth": 0,
              "tickcolor": "rgb(36,36,36)",
              "ticklen": 8,
              "ticks": "outside",
              "tickwidth": 2
             }
            },
            "type": "scattergl"
           }
          ],
          "scattermapbox": [
           {
            "marker": {
             "colorbar": {
              "outlinewidth": 0,
              "tickcolor": "rgb(36,36,36)",
              "ticklen": 8,
              "ticks": "outside",
              "tickwidth": 2
             }
            },
            "type": "scattermapbox"
           }
          ],
          "scatterpolar": [
           {
            "marker": {
             "colorbar": {
              "outlinewidth": 0,
              "tickcolor": "rgb(36,36,36)",
              "ticklen": 8,
              "ticks": "outside",
              "tickwidth": 2
             }
            },
            "type": "scatterpolar"
           }
          ],
          "scatterpolargl": [
           {
            "marker": {
             "colorbar": {
              "outlinewidth": 0,
              "tickcolor": "rgb(36,36,36)",
              "ticklen": 8,
              "ticks": "outside",
              "tickwidth": 2
             }
            },
            "type": "scatterpolargl"
           }
          ],
          "scatterternary": [
           {
            "marker": {
             "colorbar": {
              "outlinewidth": 0,
              "tickcolor": "rgb(36,36,36)",
              "ticklen": 8,
              "ticks": "outside",
              "tickwidth": 2
             }
            },
            "type": "scatterternary"
           }
          ],
          "surface": [
           {
            "colorbar": {
             "outlinewidth": 0,
             "tickcolor": "rgb(36,36,36)",
             "ticklen": 8,
             "ticks": "outside",
             "tickwidth": 2
            },
            "colorscale": [
             [
              0,
              "rgb(2,4,25)"
             ],
             [
              0.06274509803921569,
              "rgb(24,15,41)"
             ],
             [
              0.12549019607843137,
              "rgb(47,23,57)"
             ],
             [
              0.18823529411764706,
              "rgb(71,28,72)"
             ],
             [
              0.25098039215686274,
              "rgb(97,30,82)"
             ],
             [
              0.3137254901960784,
              "rgb(123,30,89)"
             ],
             [
              0.3764705882352941,
              "rgb(150,27,91)"
             ],
             [
              0.4392156862745098,
              "rgb(177,22,88)"
             ],
             [
              0.5019607843137255,
              "rgb(203,26,79)"
             ],
             [
              0.5647058823529412,
              "rgb(223,47,67)"
             ],
             [
              0.6274509803921569,
              "rgb(236,76,61)"
             ],
             [
              0.6901960784313725,
              "rgb(242,107,73)"
             ],
             [
              0.7529411764705882,
              "rgb(244,135,95)"
             ],
             [
              0.8156862745098039,
              "rgb(245,162,122)"
             ],
             [
              0.8784313725490196,
              "rgb(246,188,153)"
             ],
             [
              0.9411764705882353,
              "rgb(247,212,187)"
             ],
             [
              1,
              "rgb(250,234,220)"
             ]
            ],
            "type": "surface"
           }
          ],
          "table": [
           {
            "cells": {
             "fill": {
              "color": "rgb(231,231,240)"
             },
             "line": {
              "color": "white"
             }
            },
            "header": {
             "fill": {
              "color": "rgb(183,183,191)"
             },
             "line": {
              "color": "white"
             }
            },
            "type": "table"
           }
          ]
         },
         "layout": {
          "annotationdefaults": {
           "arrowcolor": "rgb(67,103,167)"
          },
          "autotypenumbers": "strict",
          "coloraxis": {
           "colorbar": {
            "outlinewidth": 0,
            "tickcolor": "rgb(36,36,36)",
            "ticklen": 8,
            "ticks": "outside",
            "tickwidth": 2
           }
          },
          "colorscale": {
           "sequential": [
            [
             0,
             "rgb(2,4,25)"
            ],
            [
             0.06274509803921569,
             "rgb(24,15,41)"
            ],
            [
             0.12549019607843137,
             "rgb(47,23,57)"
            ],
            [
             0.18823529411764706,
             "rgb(71,28,72)"
            ],
            [
             0.25098039215686274,
             "rgb(97,30,82)"
            ],
            [
             0.3137254901960784,
             "rgb(123,30,89)"
            ],
            [
             0.3764705882352941,
             "rgb(150,27,91)"
            ],
            [
             0.4392156862745098,
             "rgb(177,22,88)"
            ],
            [
             0.5019607843137255,
             "rgb(203,26,79)"
            ],
            [
             0.5647058823529412,
             "rgb(223,47,67)"
            ],
            [
             0.6274509803921569,
             "rgb(236,76,61)"
            ],
            [
             0.6901960784313725,
             "rgb(242,107,73)"
            ],
            [
             0.7529411764705882,
             "rgb(244,135,95)"
            ],
            [
             0.8156862745098039,
             "rgb(245,162,122)"
            ],
            [
             0.8784313725490196,
             "rgb(246,188,153)"
            ],
            [
             0.9411764705882353,
             "rgb(247,212,187)"
            ],
            [
             1,
             "rgb(250,234,220)"
            ]
           ],
           "sequentialminus": [
            [
             0,
             "rgb(2,4,25)"
            ],
            [
             0.06274509803921569,
             "rgb(24,15,41)"
            ],
            [
             0.12549019607843137,
             "rgb(47,23,57)"
            ],
            [
             0.18823529411764706,
             "rgb(71,28,72)"
            ],
            [
             0.25098039215686274,
             "rgb(97,30,82)"
            ],
            [
             0.3137254901960784,
             "rgb(123,30,89)"
            ],
            [
             0.3764705882352941,
             "rgb(150,27,91)"
            ],
            [
             0.4392156862745098,
             "rgb(177,22,88)"
            ],
            [
             0.5019607843137255,
             "rgb(203,26,79)"
            ],
            [
             0.5647058823529412,
             "rgb(223,47,67)"
            ],
            [
             0.6274509803921569,
             "rgb(236,76,61)"
            ],
            [
             0.6901960784313725,
             "rgb(242,107,73)"
            ],
            [
             0.7529411764705882,
             "rgb(244,135,95)"
            ],
            [
             0.8156862745098039,
             "rgb(245,162,122)"
            ],
            [
             0.8784313725490196,
             "rgb(246,188,153)"
            ],
            [
             0.9411764705882353,
             "rgb(247,212,187)"
            ],
            [
             1,
             "rgb(250,234,220)"
            ]
           ]
          },
          "colorway": [
           "rgb(76,114,176)",
           "rgb(221,132,82)",
           "rgb(85,168,104)",
           "rgb(196,78,82)",
           "rgb(129,114,179)",
           "rgb(147,120,96)",
           "rgb(218,139,195)",
           "rgb(140,140,140)",
           "rgb(204,185,116)",
           "rgb(100,181,205)"
          ],
          "font": {
           "color": "rgb(36,36,36)"
          },
          "geo": {
           "bgcolor": "white",
           "lakecolor": "white",
           "landcolor": "rgb(234,234,242)",
           "showlakes": true,
           "showland": true,
           "subunitcolor": "white"
          },
          "hoverlabel": {
           "align": "left"
          },
          "hovermode": "closest",
          "paper_bgcolor": "white",
          "plot_bgcolor": "rgb(234,234,242)",
          "polar": {
           "angularaxis": {
            "gridcolor": "white",
            "linecolor": "white",
            "showgrid": true,
            "ticks": ""
           },
           "bgcolor": "rgb(234,234,242)",
           "radialaxis": {
            "gridcolor": "white",
            "linecolor": "white",
            "showgrid": true,
            "ticks": ""
           }
          },
          "scene": {
           "xaxis": {
            "backgroundcolor": "rgb(234,234,242)",
            "gridcolor": "white",
            "gridwidth": 2,
            "linecolor": "white",
            "showbackground": true,
            "showgrid": true,
            "ticks": "",
            "zerolinecolor": "white"
           },
           "yaxis": {
            "backgroundcolor": "rgb(234,234,242)",
            "gridcolor": "white",
            "gridwidth": 2,
            "linecolor": "white",
            "showbackground": true,
            "showgrid": true,
            "ticks": "",
            "zerolinecolor": "white"
           },
           "zaxis": {
            "backgroundcolor": "rgb(234,234,242)",
            "gridcolor": "white",
            "gridwidth": 2,
            "linecolor": "white",
            "showbackground": true,
            "showgrid": true,
            "ticks": "",
            "zerolinecolor": "white"
           }
          },
          "shapedefaults": {
           "fillcolor": "rgb(67,103,167)",
           "line": {
            "width": 0
           },
           "opacity": 0.5
          },
          "ternary": {
           "aaxis": {
            "gridcolor": "white",
            "linecolor": "white",
            "showgrid": true,
            "ticks": ""
           },
           "baxis": {
            "gridcolor": "white",
            "linecolor": "white",
            "showgrid": true,
            "ticks": ""
           },
           "bgcolor": "rgb(234,234,242)",
           "caxis": {
            "gridcolor": "white",
            "linecolor": "white",
            "showgrid": true,
            "ticks": ""
           }
          },
          "xaxis": {
           "automargin": true,
           "gridcolor": "white",
           "linecolor": "white",
           "showgrid": true,
           "ticks": "",
           "title": {
            "standoff": 15
           },
           "zerolinecolor": "white"
          },
          "yaxis": {
           "automargin": true,
           "gridcolor": "white",
           "linecolor": "white",
           "showgrid": true,
           "ticks": "",
           "title": {
            "standoff": 15
           },
           "zerolinecolor": "white"
          }
         }
        },
        "title": {
         "text": "Sorted by: loop_flow_from_lt, ascending: False, head: 20"
        },
        "xaxis": {
         "anchor": "y",
         "domain": [
          0,
          1
         ],
         "title": {
          "text": "Flow decomposition value"
         }
        },
        "yaxis": {
         "anchor": "x",
         "domain": [
          0,
          1
         ],
         "title": {
          "text": "xnec_id"
         }
        }
       }
      }
     },
     "metadata": {},
     "output_type": "display_data"
    }
   ],
   "source": [
    "flow_decomposition_bar_chart(f'loop_flow_from_{random.Random(42).choice(list(countries)).alpha_2.lower()}')"
   ]
  },
  {
   "cell_type": "code",
   "execution_count": 15,
   "metadata": {},
   "outputs": [
    {
     "data": {
      "application/vnd.plotly.v1+json": {
       "config": {
        "plotlyServerURL": "https://plot.ly"
       },
       "data": [
        {
         "alignmentgroup": "True",
         "hovertemplate": "Decomposition part:=commercial_flow<br>Flow decomposition value=%{x}<br>xnec_id=%{y}<extra></extra>",
         "legendgroup": "commercial_flow",
         "marker": {
          "color": "#0DF9FF",
          "pattern": {
           "shape": ""
          }
         },
         "name": "commercial_flow",
         "offsetgroup": "commercial_flow",
         "orientation": "h",
         "showlegend": true,
         "textposition": "auto",
         "texttemplate": "%{x:.0f}",
         "type": "bar",
         "x": [
          106.59843120986818,
          106.59843120986841,
          -357.3359037772948,
          -252.2801065466714,
          -384.6863036553564,
          -353.10309040716135,
          -310.8163033505703,
          -307.6444419030805,
          -310.11145382735197,
          34.3041482952076,
          117.64973677408139,
          -150.57593715011603,
          -150.57593715011595,
          121.09420098539846,
          91.91067215748626,
          76.54544459094964,
          null,
          37.80441426690385,
          -93.1782506381518,
          -171.19181675937276
         ],
         "xaxis": "x",
         "y": [
          "T130-150-1_InitialState",
          "L3-150-1_InitialState",
          "L128-130-1_InitialState",
          "L129-133-1_InitialState",
          "L129-130-1_InitialState",
          "L130-168-1_InitialState",
          "L128-133-1_InitialState",
          "L133-168-1_InitialState",
          "L130-167-1_InitialState",
          "L143-145-1_InitialState",
          "L137-140-1_InitialState",
          "L155-161-1_InitialState",
          "L153-161-1_InitialState",
          "L47-73-1_InitialState",
          "T143-148-1_InitialState",
          "L148-178-1_InitialState",
          "L142-143-1_InitialState",
          "L99-108-1_InitialState",
          "L140-142-1_InitialState",
          "L126-132-1_InitialState"
         ],
         "yaxis": "y"
        },
        {
         "alignmentgroup": "True",
         "hovertemplate": "Decomposition part:=internal_flow<br>Flow decomposition value=%{x}<br>xnec_id=%{y}<extra></extra>",
         "legendgroup": "internal_flow",
         "marker": {
          "color": "#AF0038",
          "pattern": {
           "shape": ""
          }
         },
         "name": "internal_flow",
         "offsetgroup": "internal_flow",
         "orientation": "h",
         "showlegend": true,
         "textposition": "auto",
         "texttemplate": "%{x:.0f}",
         "type": "bar",
         "x": [
          -41.745462839313475,
          null,
          602.1308949038385,
          325.2817144556719,
          618.941314045292,
          null,
          313.46676316138644,
          null,
          590.281142197948,
          null,
          706.6839307809557,
          null,
          null,
          null,
          86.12879763808193,
          null,
          null,
          null,
          null,
          316.3033651942828
         ],
         "xaxis": "x",
         "y": [
          "T130-150-1_InitialState",
          "L3-150-1_InitialState",
          "L128-130-1_InitialState",
          "L129-133-1_InitialState",
          "L129-130-1_InitialState",
          "L130-168-1_InitialState",
          "L128-133-1_InitialState",
          "L133-168-1_InitialState",
          "L130-167-1_InitialState",
          "L143-145-1_InitialState",
          "L137-140-1_InitialState",
          "L155-161-1_InitialState",
          "L153-161-1_InitialState",
          "L47-73-1_InitialState",
          "T143-148-1_InitialState",
          "L148-178-1_InitialState",
          "L142-143-1_InitialState",
          "L99-108-1_InitialState",
          "L140-142-1_InitialState",
          "L126-132-1_InitialState"
         ],
         "yaxis": "y"
        },
        {
         "alignmentgroup": "True",
         "hovertemplate": "Decomposition part:=loop_flow_from_bg<br>Flow decomposition value=%{x}<br>xnec_id=%{y}<extra></extra>",
         "legendgroup": "loop_flow_from_bg",
         "marker": {
          "color": "#FD3216",
          "pattern": {
           "shape": ""
          }
         },
         "name": "loop_flow_from_bg",
         "offsetgroup": "loop_flow_from_bg",
         "orientation": "h",
         "showlegend": true,
         "textposition": "auto",
         "texttemplate": "%{x:.0f}",
         "type": "bar",
         "x": [
          null,
          null,
          null,
          null,
          null,
          null,
          null,
          null,
          null,
          null,
          null,
          null,
          null,
          null,
          null,
          null,
          null,
          null,
          null,
          null
         ],
         "xaxis": "x",
         "y": [
          "T130-150-1_InitialState",
          "L3-150-1_InitialState",
          "L128-130-1_InitialState",
          "L129-133-1_InitialState",
          "L129-130-1_InitialState",
          "L130-168-1_InitialState",
          "L128-133-1_InitialState",
          "L133-168-1_InitialState",
          "L130-167-1_InitialState",
          "L143-145-1_InitialState",
          "L137-140-1_InitialState",
          "L155-161-1_InitialState",
          "L153-161-1_InitialState",
          "L47-73-1_InitialState",
          "T143-148-1_InitialState",
          "L148-178-1_InitialState",
          "L142-143-1_InitialState",
          "L99-108-1_InitialState",
          "L140-142-1_InitialState",
          "L126-132-1_InitialState"
         ],
         "yaxis": "y"
        },
        {
         "alignmentgroup": "True",
         "hovertemplate": "Decomposition part:=loop_flow_from_cz<br>Flow decomposition value=%{x}<br>xnec_id=%{y}<extra></extra>",
         "legendgroup": "loop_flow_from_cz",
         "marker": {
          "color": "#00A08B",
          "pattern": {
           "shape": ""
          }
         },
         "name": "loop_flow_from_cz",
         "offsetgroup": "loop_flow_from_cz",
         "orientation": "h",
         "showlegend": true,
         "textposition": "auto",
         "texttemplate": "%{x:.0f}",
         "type": "bar",
         "x": [
          null,
          null,
          null,
          null,
          null,
          null,
          null,
          null,
          null,
          null,
          null,
          null,
          null,
          null,
          null,
          null,
          null,
          null,
          null,
          null
         ],
         "xaxis": "x",
         "y": [
          "T130-150-1_InitialState",
          "L3-150-1_InitialState",
          "L128-130-1_InitialState",
          "L129-133-1_InitialState",
          "L129-130-1_InitialState",
          "L130-168-1_InitialState",
          "L128-133-1_InitialState",
          "L133-168-1_InitialState",
          "L130-167-1_InitialState",
          "L143-145-1_InitialState",
          "L137-140-1_InitialState",
          "L155-161-1_InitialState",
          "L153-161-1_InitialState",
          "L47-73-1_InitialState",
          "T143-148-1_InitialState",
          "L148-178-1_InitialState",
          "L142-143-1_InitialState",
          "L99-108-1_InitialState",
          "L140-142-1_InitialState",
          "L126-132-1_InitialState"
         ],
         "yaxis": "y"
        },
        {
         "alignmentgroup": "True",
         "hovertemplate": "Decomposition part:=loop_flow_from_dk<br>Flow decomposition value=%{x}<br>xnec_id=%{y}<extra></extra>",
         "legendgroup": "loop_flow_from_dk",
         "marker": {
          "color": "#6C4516",
          "pattern": {
           "shape": ""
          }
         },
         "name": "loop_flow_from_dk",
         "offsetgroup": "loop_flow_from_dk",
         "orientation": "h",
         "showlegend": true,
         "textposition": "auto",
         "texttemplate": "%{x:.0f}",
         "type": "bar",
         "x": [
          76.51561085423782,
          76.51561085423805,
          null,
          85.78004350822506,
          null,
          null,
          66.34322216312904,
          65.96515075089572,
          null,
          62.03702988158976,
          null,
          76.98396828049033,
          76.98396828049042,
          null,
          null,
          null,
          94.22226586810302,
          null,
          84.90387174723544,
          null
         ],
         "xaxis": "x",
         "y": [
          "T130-150-1_InitialState",
          "L3-150-1_InitialState",
          "L128-130-1_InitialState",
          "L129-133-1_InitialState",
          "L129-130-1_InitialState",
          "L130-168-1_InitialState",
          "L128-133-1_InitialState",
          "L133-168-1_InitialState",
          "L130-167-1_InitialState",
          "L143-145-1_InitialState",
          "L137-140-1_InitialState",
          "L155-161-1_InitialState",
          "L153-161-1_InitialState",
          "L47-73-1_InitialState",
          "T143-148-1_InitialState",
          "L148-178-1_InitialState",
          "L142-143-1_InitialState",
          "L99-108-1_InitialState",
          "L140-142-1_InitialState",
          "L126-132-1_InitialState"
         ],
         "yaxis": "y"
        },
        {
         "alignmentgroup": "True",
         "hovertemplate": "Decomposition part:=loop_flow_from_ee<br>Flow decomposition value=%{x}<br>xnec_id=%{y}<extra></extra>",
         "legendgroup": "loop_flow_from_ee",
         "marker": {
          "color": "#511CFB",
          "pattern": {
           "shape": ""
          }
         },
         "name": "loop_flow_from_ee",
         "offsetgroup": "loop_flow_from_ee",
         "orientation": "h",
         "showlegend": true,
         "textposition": "auto",
         "texttemplate": "%{x:.0f}",
         "type": "bar",
         "x": [
          null,
          null,
          null,
          null,
          null,
          null,
          null,
          null,
          null,
          null,
          null,
          null,
          null,
          null,
          null,
          null,
          null,
          null,
          null,
          null
         ],
         "xaxis": "x",
         "y": [
          "T130-150-1_InitialState",
          "L3-150-1_InitialState",
          "L128-130-1_InitialState",
          "L129-133-1_InitialState",
          "L129-130-1_InitialState",
          "L130-168-1_InitialState",
          "L128-133-1_InitialState",
          "L133-168-1_InitialState",
          "L130-167-1_InitialState",
          "L143-145-1_InitialState",
          "L137-140-1_InitialState",
          "L155-161-1_InitialState",
          "L153-161-1_InitialState",
          "L47-73-1_InitialState",
          "T143-148-1_InitialState",
          "L148-178-1_InitialState",
          "L142-143-1_InitialState",
          "L99-108-1_InitialState",
          "L140-142-1_InitialState",
          "L126-132-1_InitialState"
         ],
         "yaxis": "y"
        },
        {
         "alignmentgroup": "True",
         "hovertemplate": "Decomposition part:=loop_flow_from_fr<br>Flow decomposition value=%{x}<br>xnec_id=%{y}<extra></extra>",
         "legendgroup": "loop_flow_from_fr",
         "marker": {
          "color": "#F6F926",
          "pattern": {
           "shape": ""
          }
         },
         "name": "loop_flow_from_fr",
         "offsetgroup": "loop_flow_from_fr",
         "orientation": "h",
         "showlegend": true,
         "textposition": "auto",
         "texttemplate": "%{x:.0f}",
         "type": "bar",
         "x": [
          184.22570320066444,
          184.22570320066444,
          81.91115642161148,
          84.62947025181217,
          82.65207255913015,
          80.94087989915883,
          75.53428040102219,
          74.80720305887266,
          66.83121414782656,
          89.45194529829884,
          328.76481678579006,
          null,
          null,
          -50.4302574579838,
          192.0378354909166,
          149.17426879150594,
          -43.927471011197326,
          -9.601997833931062,
          -106.54345436488349,
          null
         ],
         "xaxis": "x",
         "y": [
          "T130-150-1_InitialState",
          "L3-150-1_InitialState",
          "L128-130-1_InitialState",
          "L129-133-1_InitialState",
          "L129-130-1_InitialState",
          "L130-168-1_InitialState",
          "L128-133-1_InitialState",
          "L133-168-1_InitialState",
          "L130-167-1_InitialState",
          "L143-145-1_InitialState",
          "L137-140-1_InitialState",
          "L155-161-1_InitialState",
          "L153-161-1_InitialState",
          "L47-73-1_InitialState",
          "T143-148-1_InitialState",
          "L148-178-1_InitialState",
          "L142-143-1_InitialState",
          "L99-108-1_InitialState",
          "L140-142-1_InitialState",
          "L126-132-1_InitialState"
         ],
         "yaxis": "y"
        },
        {
         "alignmentgroup": "True",
         "hovertemplate": "Decomposition part:=loop_flow_from_hu<br>Flow decomposition value=%{x}<br>xnec_id=%{y}<extra></extra>",
         "legendgroup": "loop_flow_from_hu",
         "marker": {
          "color": "#C9FBE5",
          "pattern": {
           "shape": ""
          }
         },
         "name": "loop_flow_from_hu",
         "offsetgroup": "loop_flow_from_hu",
         "orientation": "h",
         "showlegend": true,
         "textposition": "auto",
         "texttemplate": "%{x:.0f}",
         "type": "bar",
         "x": [
          null,
          -41.74546283931328,
          null,
          null,
          null,
          594.9983686852921,
          null,
          308.1220000080084,
          null,
          null,
          -774.5667663662925,
          139.03514514195317,
          174.03514514195325,
          null,
          -94.7414759747072,
          -95.17625319133525,
          184.5742607776642,
          null,
          156.51918613710225,
          null
         ],
         "xaxis": "x",
         "y": [
          "T130-150-1_InitialState",
          "L3-150-1_InitialState",
          "L128-130-1_InitialState",
          "L129-133-1_InitialState",
          "L129-130-1_InitialState",
          "L130-168-1_InitialState",
          "L128-133-1_InitialState",
          "L133-168-1_InitialState",
          "L130-167-1_InitialState",
          "L143-145-1_InitialState",
          "L137-140-1_InitialState",
          "L155-161-1_InitialState",
          "L153-161-1_InitialState",
          "L47-73-1_InitialState",
          "T143-148-1_InitialState",
          "L148-178-1_InitialState",
          "L142-143-1_InitialState",
          "L99-108-1_InitialState",
          "L140-142-1_InitialState",
          "L126-132-1_InitialState"
         ],
         "yaxis": "y"
        },
        {
         "alignmentgroup": "True",
         "hovertemplate": "Decomposition part:=loop_flow_from_ie<br>Flow decomposition value=%{x}<br>xnec_id=%{y}<extra></extra>",
         "legendgroup": "loop_flow_from_ie",
         "marker": {
          "color": "#FC0080",
          "pattern": {
           "shape": ""
          }
         },
         "name": "loop_flow_from_ie",
         "offsetgroup": "loop_flow_from_ie",
         "orientation": "h",
         "showlegend": true,
         "textposition": "auto",
         "texttemplate": "%{x:.0f}",
         "type": "bar",
         "x": [
          null,
          null,
          null,
          null,
          null,
          null,
          null,
          null,
          null,
          null,
          null,
          null,
          null,
          null,
          null,
          null,
          null,
          null,
          null,
          null
         ],
         "xaxis": "x",
         "y": [
          "T130-150-1_InitialState",
          "L3-150-1_InitialState",
          "L128-130-1_InitialState",
          "L129-133-1_InitialState",
          "L129-130-1_InitialState",
          "L130-168-1_InitialState",
          "L128-133-1_InitialState",
          "L133-168-1_InitialState",
          "L130-167-1_InitialState",
          "L143-145-1_InitialState",
          "L137-140-1_InitialState",
          "L155-161-1_InitialState",
          "L153-161-1_InitialState",
          "L47-73-1_InitialState",
          "T143-148-1_InitialState",
          "L148-178-1_InitialState",
          "L142-143-1_InitialState",
          "L99-108-1_InitialState",
          "L140-142-1_InitialState",
          "L126-132-1_InitialState"
         ],
         "yaxis": "y"
        },
        {
         "alignmentgroup": "True",
         "hovertemplate": "Decomposition part:=loop_flow_from_lt<br>Flow decomposition value=%{x}<br>xnec_id=%{y}<extra></extra>",
         "legendgroup": "loop_flow_from_lt",
         "marker": {
          "color": "#FB0D0D",
          "pattern": {
           "shape": ""
          }
         },
         "name": "loop_flow_from_lt",
         "offsetgroup": "loop_flow_from_lt",
         "orientation": "h",
         "showlegend": true,
         "textposition": "auto",
         "texttemplate": "%{x:.0f}",
         "type": "bar",
         "x": [
          -236.95191580308392,
          -236.95191580308386,
          -116.01348568938826,
          -115.55786257921257,
          -114.90023756270934,
          -114.63925089195834,
          -94.40578574608146,
          -93.37600200826712,
          -92.89270910697034,
          -88.24512117803428,
          null,
          -85.24419798350169,
          -85.24419798350155,
          -48.00324631384407,
          -45.24970074398393,
          -38.11658161381764,
          -37.36454782927513,
          -35.24581099954232,
          -26.091830460049355,
          null
         ],
         "xaxis": "x",
         "y": [
          "T130-150-1_InitialState",
          "L3-150-1_InitialState",
          "L128-130-1_InitialState",
          "L129-133-1_InitialState",
          "L129-130-1_InitialState",
          "L130-168-1_InitialState",
          "L128-133-1_InitialState",
          "L133-168-1_InitialState",
          "L130-167-1_InitialState",
          "L143-145-1_InitialState",
          "L137-140-1_InitialState",
          "L155-161-1_InitialState",
          "L153-161-1_InitialState",
          "L47-73-1_InitialState",
          "T143-148-1_InitialState",
          "L148-178-1_InitialState",
          "L142-143-1_InitialState",
          "L99-108-1_InitialState",
          "L140-142-1_InitialState",
          "L126-132-1_InitialState"
         ],
         "yaxis": "y"
        },
        {
         "alignmentgroup": "True",
         "hovertemplate": "Decomposition part:=loop_flow_from_lu<br>Flow decomposition value=%{x}<br>xnec_id=%{y}<extra></extra>",
         "legendgroup": "loop_flow_from_lu",
         "marker": {
          "color": "#D626FF",
          "pattern": {
           "shape": ""
          }
         },
         "name": "loop_flow_from_lu",
         "offsetgroup": "loop_flow_from_lu",
         "orientation": "h",
         "showlegend": true,
         "textposition": "auto",
         "texttemplate": "%{x:.0f}",
         "type": "bar",
         "x": [
          -58.465371060917285,
          -58.46537106091728,
          null,
          null,
          null,
          null,
          null,
          null,
          null,
          null,
          null,
          86.85919428328766,
          86.85919428328776,
          -23.994827787658075,
          null,
          null,
          null,
          27.403562971875015,
          null,
          null
         ],
         "xaxis": "x",
         "y": [
          "T130-150-1_InitialState",
          "L3-150-1_InitialState",
          "L128-130-1_InitialState",
          "L129-133-1_InitialState",
          "L129-130-1_InitialState",
          "L130-168-1_InitialState",
          "L128-133-1_InitialState",
          "L133-168-1_InitialState",
          "L130-167-1_InitialState",
          "L143-145-1_InitialState",
          "L137-140-1_InitialState",
          "L155-161-1_InitialState",
          "L153-161-1_InitialState",
          "L47-73-1_InitialState",
          "T143-148-1_InitialState",
          "L148-178-1_InitialState",
          "L142-143-1_InitialState",
          "L99-108-1_InitialState",
          "L140-142-1_InitialState",
          "L126-132-1_InitialState"
         ],
         "yaxis": "y"
        },
        {
         "alignmentgroup": "True",
         "hovertemplate": "Decomposition part:=pst_flow<br>Flow decomposition value=%{x}<br>xnec_id=%{y}<extra></extra>",
         "legendgroup": "pst_flow",
         "marker": {
          "color": "#DA16FF",
          "pattern": {
           "shape": ""
          }
         },
         "name": "pst_flow",
         "offsetgroup": "pst_flow",
         "orientation": "h",
         "showlegend": true,
         "textposition": "auto",
         "texttemplate": "%{x:.0f}",
         "type": "bar",
         "x": [
          null,
          null,
          null,
          null,
          null,
          null,
          null,
          null,
          null,
          null,
          null,
          null,
          null,
          null,
          null,
          null,
          null,
          null,
          null,
          null
         ],
         "xaxis": "x",
         "y": [
          "T130-150-1_InitialState",
          "L3-150-1_InitialState",
          "L128-130-1_InitialState",
          "L129-133-1_InitialState",
          "L129-130-1_InitialState",
          "L130-168-1_InitialState",
          "L128-133-1_InitialState",
          "L133-168-1_InitialState",
          "L130-167-1_InitialState",
          "L143-145-1_InitialState",
          "L137-140-1_InitialState",
          "L155-161-1_InitialState",
          "L153-161-1_InitialState",
          "L47-73-1_InitialState",
          "T143-148-1_InitialState",
          "L148-178-1_InitialState",
          "L142-143-1_InitialState",
          "L99-108-1_InitialState",
          "L140-142-1_InitialState",
          "L126-132-1_InitialState"
         ],
         "yaxis": "y"
        },
        {
         "alignmentgroup": "True",
         "hovertemplate": "Decomposition part:=masked_flows_positive<br>Flow decomposition value=%{x}<br>xnec_id=%{y}<extra></extra>",
         "legendgroup": "masked_flows_positive",
         "marker": {
          "color": "#86CE00",
          "pattern": {
           "shape": ""
          }
         },
         "name": "masked_flows_positive",
         "offsetgroup": "masked_flows_positive",
         "orientation": "h",
         "showlegend": true,
         "textposition": "auto",
         "texttemplate": "%{x:.0f}",
         "type": "bar",
         "x": [
          0.8193828363855573,
          0.8193828363854934,
          42.9429461076144,
          0.3617564835293665,
          39.94558500450734,
          42.434266530455204,
          0.32287825485011723,
          0.31977029562777837,
          32.599721322861775,
          0.011495408845894783,
          26.51049405559813,
          4.974823476103452,
          4.974823476103445,
          19.014376918162704,
          0.0074535211751704245,
          17.169672618642295,
          15.622643194301695,
          3.662315908956433,
          0.01805588217106617,
          16.499723145888538
         ],
         "xaxis": "x",
         "y": [
          "T130-150-1_InitialState",
          "L3-150-1_InitialState",
          "L128-130-1_InitialState",
          "L129-133-1_InitialState",
          "L129-130-1_InitialState",
          "L130-168-1_InitialState",
          "L128-133-1_InitialState",
          "L133-168-1_InitialState",
          "L130-167-1_InitialState",
          "L143-145-1_InitialState",
          "L137-140-1_InitialState",
          "L155-161-1_InitialState",
          "L153-161-1_InitialState",
          "L47-73-1_InitialState",
          "T143-148-1_InitialState",
          "L148-178-1_InitialState",
          "L142-143-1_InitialState",
          "L99-108-1_InitialState",
          "L140-142-1_InitialState",
          "L126-132-1_InitialState"
         ],
         "yaxis": "y"
        },
        {
         "alignmentgroup": "True",
         "hovertemplate": "Decomposition part:=masked_flows_negative<br>Flow decomposition value=%{x}<br>xnec_id=%{y}<extra></extra>",
         "legendgroup": "masked_flows_negative",
         "marker": {
          "color": "#6A76FC",
          "pattern": {
           "shape": ""
          }
         },
         "name": "masked_flows_negative",
         "offsetgroup": "masked_flows_negative",
         "orientation": "h",
         "showlegend": true,
         "textposition": "auto",
         "texttemplate": "%{x:.0f}",
         "type": "bar",
         "x": [
          -5.323764520313157,
          -5.323764520313157,
          -29.006745308115384,
          -25.965484896047833,
          -27.425211865464775,
          -28.663146643479767,
          -15.70531290321862,
          -15.447837020757902,
          -22.161564998248167,
          -20.341442183254472,
          -86.64368109163176,
          -0.000578798544876788,
          -0.0005787985448861624,
          -3.3852463145752942,
          -5.887217751728887,
          -4.495340017173357,
          -13.201769552796506,
          -1.4951095081198247,
          -12.350064626493902,
          -51.50462730576523
         ],
         "xaxis": "x",
         "y": [
          "T130-150-1_InitialState",
          "L3-150-1_InitialState",
          "L128-130-1_InitialState",
          "L129-133-1_InitialState",
          "L129-130-1_InitialState",
          "L130-168-1_InitialState",
          "L128-133-1_InitialState",
          "L133-168-1_InitialState",
          "L130-167-1_InitialState",
          "L143-145-1_InitialState",
          "L137-140-1_InitialState",
          "L155-161-1_InitialState",
          "L153-161-1_InitialState",
          "L47-73-1_InitialState",
          "T143-148-1_InitialState",
          "L148-178-1_InitialState",
          "L142-143-1_InitialState",
          "L99-108-1_InitialState",
          "L140-142-1_InitialState",
          "L126-132-1_InitialState"
         ],
         "yaxis": "y"
        },
        {
         "mode": "lines+markers",
         "name": "total_flow",
         "type": "scatter",
         "x": [
          25.672613877528185,
          25.672613877528818,
          224.62886265826594,
          102.24953067730667,
          214.52721852539895,
          221.96802717230673,
          34.73974198051739,
          32.74584318129897,
          264.54634973606585,
          77.21805552265332,
          318.39853093850104,
          72.03241724967202,
          107.0324172496725,
          14.295000029499896,
          224.20636433723993,
          105.10121117877165,
          199.92538144679995,
          22.527374806142088,
          3.277513676930216,
          110.10664427503335
         ],
         "y": [
          "T130-150-1_InitialState",
          "L3-150-1_InitialState",
          "L128-130-1_InitialState",
          "L129-133-1_InitialState",
          "L129-130-1_InitialState",
          "L130-168-1_InitialState",
          "L128-133-1_InitialState",
          "L133-168-1_InitialState",
          "L130-167-1_InitialState",
          "L143-145-1_InitialState",
          "L137-140-1_InitialState",
          "L155-161-1_InitialState",
          "L153-161-1_InitialState",
          "L47-73-1_InitialState",
          "T143-148-1_InitialState",
          "L148-178-1_InitialState",
          "L142-143-1_InitialState",
          "L99-108-1_InitialState",
          "L140-142-1_InitialState",
          "L126-132-1_InitialState"
         ]
        },
        {
         "mode": "lines+markers",
         "name": "total_loop_flow",
         "type": "scatter",
         "x": [
          -39.180354493026535,
          -80.92581733233959,
          -20.166128468277766,
          29.247922768306182,
          -19.72779186453662,
          575.071117579468,
          32.08928216970126,
          340.39028508437957,
          -15.623338634530175,
          42.913907227445726,
          -505.9351366165361,
          222.60835439978803,
          257.6083543997885,
          -106.79920095589853,
          46.166894541671745,
          28.55576658782198,
          184.3213228570365,
          -15.27703946076176,
          96.45576431508204,
          -35.004904159876695
         ],
         "y": [
          "T130-150-1_InitialState",
          "L3-150-1_InitialState",
          "L128-130-1_InitialState",
          "L129-133-1_InitialState",
          "L129-130-1_InitialState",
          "L130-168-1_InitialState",
          "L128-133-1_InitialState",
          "L133-168-1_InitialState",
          "L130-167-1_InitialState",
          "L143-145-1_InitialState",
          "L137-140-1_InitialState",
          "L155-161-1_InitialState",
          "L153-161-1_InitialState",
          "L47-73-1_InitialState",
          "T143-148-1_InitialState",
          "L148-178-1_InitialState",
          "L142-143-1_InitialState",
          "L99-108-1_InitialState",
          "L140-142-1_InitialState",
          "L126-132-1_InitialState"
         ]
        }
       ],
       "layout": {
        "barmode": "relative",
        "height": 1000,
        "legend": {
         "title": {
          "text": "Decomposition part:"
         },
         "tracegroupgap": 0
        },
        "template": {
         "data": {
          "bar": [
           {
            "error_x": {
             "color": "rgb(36,36,36)"
            },
            "error_y": {
             "color": "rgb(36,36,36)"
            },
            "marker": {
             "line": {
              "color": "rgb(234,234,242)",
              "width": 0.5
             },
             "pattern": {
              "fillmode": "overlay",
              "size": 10,
              "solidity": 0.2
             }
            },
            "type": "bar"
           }
          ],
          "barpolar": [
           {
            "marker": {
             "line": {
              "color": "rgb(234,234,242)",
              "width": 0.5
             },
             "pattern": {
              "fillmode": "overlay",
              "size": 10,
              "solidity": 0.2
             }
            },
            "type": "barpolar"
           }
          ],
          "carpet": [
           {
            "aaxis": {
             "endlinecolor": "rgb(36,36,36)",
             "gridcolor": "white",
             "linecolor": "white",
             "minorgridcolor": "white",
             "startlinecolor": "rgb(36,36,36)"
            },
            "baxis": {
             "endlinecolor": "rgb(36,36,36)",
             "gridcolor": "white",
             "linecolor": "white",
             "minorgridcolor": "white",
             "startlinecolor": "rgb(36,36,36)"
            },
            "type": "carpet"
           }
          ],
          "choropleth": [
           {
            "colorbar": {
             "outlinewidth": 0,
             "tickcolor": "rgb(36,36,36)",
             "ticklen": 8,
             "ticks": "outside",
             "tickwidth": 2
            },
            "type": "choropleth"
           }
          ],
          "contour": [
           {
            "colorbar": {
             "outlinewidth": 0,
             "tickcolor": "rgb(36,36,36)",
             "ticklen": 8,
             "ticks": "outside",
             "tickwidth": 2
            },
            "colorscale": [
             [
              0,
              "rgb(2,4,25)"
             ],
             [
              0.06274509803921569,
              "rgb(24,15,41)"
             ],
             [
              0.12549019607843137,
              "rgb(47,23,57)"
             ],
             [
              0.18823529411764706,
              "rgb(71,28,72)"
             ],
             [
              0.25098039215686274,
              "rgb(97,30,82)"
             ],
             [
              0.3137254901960784,
              "rgb(123,30,89)"
             ],
             [
              0.3764705882352941,
              "rgb(150,27,91)"
             ],
             [
              0.4392156862745098,
              "rgb(177,22,88)"
             ],
             [
              0.5019607843137255,
              "rgb(203,26,79)"
             ],
             [
              0.5647058823529412,
              "rgb(223,47,67)"
             ],
             [
              0.6274509803921569,
              "rgb(236,76,61)"
             ],
             [
              0.6901960784313725,
              "rgb(242,107,73)"
             ],
             [
              0.7529411764705882,
              "rgb(244,135,95)"
             ],
             [
              0.8156862745098039,
              "rgb(245,162,122)"
             ],
             [
              0.8784313725490196,
              "rgb(246,188,153)"
             ],
             [
              0.9411764705882353,
              "rgb(247,212,187)"
             ],
             [
              1,
              "rgb(250,234,220)"
             ]
            ],
            "type": "contour"
           }
          ],
          "contourcarpet": [
           {
            "colorbar": {
             "outlinewidth": 0,
             "tickcolor": "rgb(36,36,36)",
             "ticklen": 8,
             "ticks": "outside",
             "tickwidth": 2
            },
            "type": "contourcarpet"
           }
          ],
          "heatmap": [
           {
            "colorbar": {
             "outlinewidth": 0,
             "tickcolor": "rgb(36,36,36)",
             "ticklen": 8,
             "ticks": "outside",
             "tickwidth": 2
            },
            "colorscale": [
             [
              0,
              "rgb(2,4,25)"
             ],
             [
              0.06274509803921569,
              "rgb(24,15,41)"
             ],
             [
              0.12549019607843137,
              "rgb(47,23,57)"
             ],
             [
              0.18823529411764706,
              "rgb(71,28,72)"
             ],
             [
              0.25098039215686274,
              "rgb(97,30,82)"
             ],
             [
              0.3137254901960784,
              "rgb(123,30,89)"
             ],
             [
              0.3764705882352941,
              "rgb(150,27,91)"
             ],
             [
              0.4392156862745098,
              "rgb(177,22,88)"
             ],
             [
              0.5019607843137255,
              "rgb(203,26,79)"
             ],
             [
              0.5647058823529412,
              "rgb(223,47,67)"
             ],
             [
              0.6274509803921569,
              "rgb(236,76,61)"
             ],
             [
              0.6901960784313725,
              "rgb(242,107,73)"
             ],
             [
              0.7529411764705882,
              "rgb(244,135,95)"
             ],
             [
              0.8156862745098039,
              "rgb(245,162,122)"
             ],
             [
              0.8784313725490196,
              "rgb(246,188,153)"
             ],
             [
              0.9411764705882353,
              "rgb(247,212,187)"
             ],
             [
              1,
              "rgb(250,234,220)"
             ]
            ],
            "type": "heatmap"
           }
          ],
          "heatmapgl": [
           {
            "colorbar": {
             "outlinewidth": 0,
             "tickcolor": "rgb(36,36,36)",
             "ticklen": 8,
             "ticks": "outside",
             "tickwidth": 2
            },
            "colorscale": [
             [
              0,
              "rgb(2,4,25)"
             ],
             [
              0.06274509803921569,
              "rgb(24,15,41)"
             ],
             [
              0.12549019607843137,
              "rgb(47,23,57)"
             ],
             [
              0.18823529411764706,
              "rgb(71,28,72)"
             ],
             [
              0.25098039215686274,
              "rgb(97,30,82)"
             ],
             [
              0.3137254901960784,
              "rgb(123,30,89)"
             ],
             [
              0.3764705882352941,
              "rgb(150,27,91)"
             ],
             [
              0.4392156862745098,
              "rgb(177,22,88)"
             ],
             [
              0.5019607843137255,
              "rgb(203,26,79)"
             ],
             [
              0.5647058823529412,
              "rgb(223,47,67)"
             ],
             [
              0.6274509803921569,
              "rgb(236,76,61)"
             ],
             [
              0.6901960784313725,
              "rgb(242,107,73)"
             ],
             [
              0.7529411764705882,
              "rgb(244,135,95)"
             ],
             [
              0.8156862745098039,
              "rgb(245,162,122)"
             ],
             [
              0.8784313725490196,
              "rgb(246,188,153)"
             ],
             [
              0.9411764705882353,
              "rgb(247,212,187)"
             ],
             [
              1,
              "rgb(250,234,220)"
             ]
            ],
            "type": "heatmapgl"
           }
          ],
          "histogram": [
           {
            "marker": {
             "pattern": {
              "fillmode": "overlay",
              "size": 10,
              "solidity": 0.2
             }
            },
            "type": "histogram"
           }
          ],
          "histogram2d": [
           {
            "colorbar": {
             "outlinewidth": 0,
             "tickcolor": "rgb(36,36,36)",
             "ticklen": 8,
             "ticks": "outside",
             "tickwidth": 2
            },
            "colorscale": [
             [
              0,
              "rgb(2,4,25)"
             ],
             [
              0.06274509803921569,
              "rgb(24,15,41)"
             ],
             [
              0.12549019607843137,
              "rgb(47,23,57)"
             ],
             [
              0.18823529411764706,
              "rgb(71,28,72)"
             ],
             [
              0.25098039215686274,
              "rgb(97,30,82)"
             ],
             [
              0.3137254901960784,
              "rgb(123,30,89)"
             ],
             [
              0.3764705882352941,
              "rgb(150,27,91)"
             ],
             [
              0.4392156862745098,
              "rgb(177,22,88)"
             ],
             [
              0.5019607843137255,
              "rgb(203,26,79)"
             ],
             [
              0.5647058823529412,
              "rgb(223,47,67)"
             ],
             [
              0.6274509803921569,
              "rgb(236,76,61)"
             ],
             [
              0.6901960784313725,
              "rgb(242,107,73)"
             ],
             [
              0.7529411764705882,
              "rgb(244,135,95)"
             ],
             [
              0.8156862745098039,
              "rgb(245,162,122)"
             ],
             [
              0.8784313725490196,
              "rgb(246,188,153)"
             ],
             [
              0.9411764705882353,
              "rgb(247,212,187)"
             ],
             [
              1,
              "rgb(250,234,220)"
             ]
            ],
            "type": "histogram2d"
           }
          ],
          "histogram2dcontour": [
           {
            "colorbar": {
             "outlinewidth": 0,
             "tickcolor": "rgb(36,36,36)",
             "ticklen": 8,
             "ticks": "outside",
             "tickwidth": 2
            },
            "colorscale": [
             [
              0,
              "rgb(2,4,25)"
             ],
             [
              0.06274509803921569,
              "rgb(24,15,41)"
             ],
             [
              0.12549019607843137,
              "rgb(47,23,57)"
             ],
             [
              0.18823529411764706,
              "rgb(71,28,72)"
             ],
             [
              0.25098039215686274,
              "rgb(97,30,82)"
             ],
             [
              0.3137254901960784,
              "rgb(123,30,89)"
             ],
             [
              0.3764705882352941,
              "rgb(150,27,91)"
             ],
             [
              0.4392156862745098,
              "rgb(177,22,88)"
             ],
             [
              0.5019607843137255,
              "rgb(203,26,79)"
             ],
             [
              0.5647058823529412,
              "rgb(223,47,67)"
             ],
             [
              0.6274509803921569,
              "rgb(236,76,61)"
             ],
             [
              0.6901960784313725,
              "rgb(242,107,73)"
             ],
             [
              0.7529411764705882,
              "rgb(244,135,95)"
             ],
             [
              0.8156862745098039,
              "rgb(245,162,122)"
             ],
             [
              0.8784313725490196,
              "rgb(246,188,153)"
             ],
             [
              0.9411764705882353,
              "rgb(247,212,187)"
             ],
             [
              1,
              "rgb(250,234,220)"
             ]
            ],
            "type": "histogram2dcontour"
           }
          ],
          "mesh3d": [
           {
            "colorbar": {
             "outlinewidth": 0,
             "tickcolor": "rgb(36,36,36)",
             "ticklen": 8,
             "ticks": "outside",
             "tickwidth": 2
            },
            "type": "mesh3d"
           }
          ],
          "parcoords": [
           {
            "line": {
             "colorbar": {
              "outlinewidth": 0,
              "tickcolor": "rgb(36,36,36)",
              "ticklen": 8,
              "ticks": "outside",
              "tickwidth": 2
             }
            },
            "type": "parcoords"
           }
          ],
          "pie": [
           {
            "automargin": true,
            "type": "pie"
           }
          ],
          "scatter": [
           {
            "fillpattern": {
             "fillmode": "overlay",
             "size": 10,
             "solidity": 0.2
            },
            "type": "scatter"
           }
          ],
          "scatter3d": [
           {
            "line": {
             "colorbar": {
              "outlinewidth": 0,
              "tickcolor": "rgb(36,36,36)",
              "ticklen": 8,
              "ticks": "outside",
              "tickwidth": 2
             }
            },
            "marker": {
             "colorbar": {
              "outlinewidth": 0,
              "tickcolor": "rgb(36,36,36)",
              "ticklen": 8,
              "ticks": "outside",
              "tickwidth": 2
             }
            },
            "type": "scatter3d"
           }
          ],
          "scattercarpet": [
           {
            "marker": {
             "colorbar": {
              "outlinewidth": 0,
              "tickcolor": "rgb(36,36,36)",
              "ticklen": 8,
              "ticks": "outside",
              "tickwidth": 2
             }
            },
            "type": "scattercarpet"
           }
          ],
          "scattergeo": [
           {
            "marker": {
             "colorbar": {
              "outlinewidth": 0,
              "tickcolor": "rgb(36,36,36)",
              "ticklen": 8,
              "ticks": "outside",
              "tickwidth": 2
             }
            },
            "type": "scattergeo"
           }
          ],
          "scattergl": [
           {
            "marker": {
             "colorbar": {
              "outlinewidth": 0,
              "tickcolor": "rgb(36,36,36)",
              "ticklen": 8,
              "ticks": "outside",
              "tickwidth": 2
             }
            },
            "type": "scattergl"
           }
          ],
          "scattermapbox": [
           {
            "marker": {
             "colorbar": {
              "outlinewidth": 0,
              "tickcolor": "rgb(36,36,36)",
              "ticklen": 8,
              "ticks": "outside",
              "tickwidth": 2
             }
            },
            "type": "scattermapbox"
           }
          ],
          "scatterpolar": [
           {
            "marker": {
             "colorbar": {
              "outlinewidth": 0,
              "tickcolor": "rgb(36,36,36)",
              "ticklen": 8,
              "ticks": "outside",
              "tickwidth": 2
             }
            },
            "type": "scatterpolar"
           }
          ],
          "scatterpolargl": [
           {
            "marker": {
             "colorbar": {
              "outlinewidth": 0,
              "tickcolor": "rgb(36,36,36)",
              "ticklen": 8,
              "ticks": "outside",
              "tickwidth": 2
             }
            },
            "type": "scatterpolargl"
           }
          ],
          "scatterternary": [
           {
            "marker": {
             "colorbar": {
              "outlinewidth": 0,
              "tickcolor": "rgb(36,36,36)",
              "ticklen": 8,
              "ticks": "outside",
              "tickwidth": 2
             }
            },
            "type": "scatterternary"
           }
          ],
          "surface": [
           {
            "colorbar": {
             "outlinewidth": 0,
             "tickcolor": "rgb(36,36,36)",
             "ticklen": 8,
             "ticks": "outside",
             "tickwidth": 2
            },
            "colorscale": [
             [
              0,
              "rgb(2,4,25)"
             ],
             [
              0.06274509803921569,
              "rgb(24,15,41)"
             ],
             [
              0.12549019607843137,
              "rgb(47,23,57)"
             ],
             [
              0.18823529411764706,
              "rgb(71,28,72)"
             ],
             [
              0.25098039215686274,
              "rgb(97,30,82)"
             ],
             [
              0.3137254901960784,
              "rgb(123,30,89)"
             ],
             [
              0.3764705882352941,
              "rgb(150,27,91)"
             ],
             [
              0.4392156862745098,
              "rgb(177,22,88)"
             ],
             [
              0.5019607843137255,
              "rgb(203,26,79)"
             ],
             [
              0.5647058823529412,
              "rgb(223,47,67)"
             ],
             [
              0.6274509803921569,
              "rgb(236,76,61)"
             ],
             [
              0.6901960784313725,
              "rgb(242,107,73)"
             ],
             [
              0.7529411764705882,
              "rgb(244,135,95)"
             ],
             [
              0.8156862745098039,
              "rgb(245,162,122)"
             ],
             [
              0.8784313725490196,
              "rgb(246,188,153)"
             ],
             [
              0.9411764705882353,
              "rgb(247,212,187)"
             ],
             [
              1,
              "rgb(250,234,220)"
             ]
            ],
            "type": "surface"
           }
          ],
          "table": [
           {
            "cells": {
             "fill": {
              "color": "rgb(231,231,240)"
             },
             "line": {
              "color": "white"
             }
            },
            "header": {
             "fill": {
              "color": "rgb(183,183,191)"
             },
             "line": {
              "color": "white"
             }
            },
            "type": "table"
           }
          ]
         },
         "layout": {
          "annotationdefaults": {
           "arrowcolor": "rgb(67,103,167)"
          },
          "autotypenumbers": "strict",
          "coloraxis": {
           "colorbar": {
            "outlinewidth": 0,
            "tickcolor": "rgb(36,36,36)",
            "ticklen": 8,
            "ticks": "outside",
            "tickwidth": 2
           }
          },
          "colorscale": {
           "sequential": [
            [
             0,
             "rgb(2,4,25)"
            ],
            [
             0.06274509803921569,
             "rgb(24,15,41)"
            ],
            [
             0.12549019607843137,
             "rgb(47,23,57)"
            ],
            [
             0.18823529411764706,
             "rgb(71,28,72)"
            ],
            [
             0.25098039215686274,
             "rgb(97,30,82)"
            ],
            [
             0.3137254901960784,
             "rgb(123,30,89)"
            ],
            [
             0.3764705882352941,
             "rgb(150,27,91)"
            ],
            [
             0.4392156862745098,
             "rgb(177,22,88)"
            ],
            [
             0.5019607843137255,
             "rgb(203,26,79)"
            ],
            [
             0.5647058823529412,
             "rgb(223,47,67)"
            ],
            [
             0.6274509803921569,
             "rgb(236,76,61)"
            ],
            [
             0.6901960784313725,
             "rgb(242,107,73)"
            ],
            [
             0.7529411764705882,
             "rgb(244,135,95)"
            ],
            [
             0.8156862745098039,
             "rgb(245,162,122)"
            ],
            [
             0.8784313725490196,
             "rgb(246,188,153)"
            ],
            [
             0.9411764705882353,
             "rgb(247,212,187)"
            ],
            [
             1,
             "rgb(250,234,220)"
            ]
           ],
           "sequentialminus": [
            [
             0,
             "rgb(2,4,25)"
            ],
            [
             0.06274509803921569,
             "rgb(24,15,41)"
            ],
            [
             0.12549019607843137,
             "rgb(47,23,57)"
            ],
            [
             0.18823529411764706,
             "rgb(71,28,72)"
            ],
            [
             0.25098039215686274,
             "rgb(97,30,82)"
            ],
            [
             0.3137254901960784,
             "rgb(123,30,89)"
            ],
            [
             0.3764705882352941,
             "rgb(150,27,91)"
            ],
            [
             0.4392156862745098,
             "rgb(177,22,88)"
            ],
            [
             0.5019607843137255,
             "rgb(203,26,79)"
            ],
            [
             0.5647058823529412,
             "rgb(223,47,67)"
            ],
            [
             0.6274509803921569,
             "rgb(236,76,61)"
            ],
            [
             0.6901960784313725,
             "rgb(242,107,73)"
            ],
            [
             0.7529411764705882,
             "rgb(244,135,95)"
            ],
            [
             0.8156862745098039,
             "rgb(245,162,122)"
            ],
            [
             0.8784313725490196,
             "rgb(246,188,153)"
            ],
            [
             0.9411764705882353,
             "rgb(247,212,187)"
            ],
            [
             1,
             "rgb(250,234,220)"
            ]
           ]
          },
          "colorway": [
           "rgb(76,114,176)",
           "rgb(221,132,82)",
           "rgb(85,168,104)",
           "rgb(196,78,82)",
           "rgb(129,114,179)",
           "rgb(147,120,96)",
           "rgb(218,139,195)",
           "rgb(140,140,140)",
           "rgb(204,185,116)",
           "rgb(100,181,205)"
          ],
          "font": {
           "color": "rgb(36,36,36)"
          },
          "geo": {
           "bgcolor": "white",
           "lakecolor": "white",
           "landcolor": "rgb(234,234,242)",
           "showlakes": true,
           "showland": true,
           "subunitcolor": "white"
          },
          "hoverlabel": {
           "align": "left"
          },
          "hovermode": "closest",
          "paper_bgcolor": "white",
          "plot_bgcolor": "rgb(234,234,242)",
          "polar": {
           "angularaxis": {
            "gridcolor": "white",
            "linecolor": "white",
            "showgrid": true,
            "ticks": ""
           },
           "bgcolor": "rgb(234,234,242)",
           "radialaxis": {
            "gridcolor": "white",
            "linecolor": "white",
            "showgrid": true,
            "ticks": ""
           }
          },
          "scene": {
           "xaxis": {
            "backgroundcolor": "rgb(234,234,242)",
            "gridcolor": "white",
            "gridwidth": 2,
            "linecolor": "white",
            "showbackground": true,
            "showgrid": true,
            "ticks": "",
            "zerolinecolor": "white"
           },
           "yaxis": {
            "backgroundcolor": "rgb(234,234,242)",
            "gridcolor": "white",
            "gridwidth": 2,
            "linecolor": "white",
            "showbackground": true,
            "showgrid": true,
            "ticks": "",
            "zerolinecolor": "white"
           },
           "zaxis": {
            "backgroundcolor": "rgb(234,234,242)",
            "gridcolor": "white",
            "gridwidth": 2,
            "linecolor": "white",
            "showbackground": true,
            "showgrid": true,
            "ticks": "",
            "zerolinecolor": "white"
           }
          },
          "shapedefaults": {
           "fillcolor": "rgb(67,103,167)",
           "line": {
            "width": 0
           },
           "opacity": 0.5
          },
          "ternary": {
           "aaxis": {
            "gridcolor": "white",
            "linecolor": "white",
            "showgrid": true,
            "ticks": ""
           },
           "baxis": {
            "gridcolor": "white",
            "linecolor": "white",
            "showgrid": true,
            "ticks": ""
           },
           "bgcolor": "rgb(234,234,242)",
           "caxis": {
            "gridcolor": "white",
            "linecolor": "white",
            "showgrid": true,
            "ticks": ""
           }
          },
          "xaxis": {
           "automargin": true,
           "gridcolor": "white",
           "linecolor": "white",
           "showgrid": true,
           "ticks": "",
           "title": {
            "standoff": 15
           },
           "zerolinecolor": "white"
          },
          "yaxis": {
           "automargin": true,
           "gridcolor": "white",
           "linecolor": "white",
           "showgrid": true,
           "ticks": "",
           "title": {
            "standoff": 15
           },
           "zerolinecolor": "white"
          }
         }
        },
        "title": {
         "text": "Sorted by: loop_flow_from_lt, ascending: True, head: 20"
        },
        "xaxis": {
         "anchor": "y",
         "domain": [
          0,
          1
         ],
         "title": {
          "text": "Flow decomposition value"
         }
        },
        "yaxis": {
         "anchor": "x",
         "domain": [
          0,
          1
         ],
         "title": {
          "text": "xnec_id"
         }
        }
       }
      }
     },
     "metadata": {},
     "output_type": "display_data"
    }
   ],
   "source": [
    "flow_decomposition_bar_chart(f'loop_flow_from_{random.Random(42).choice(list(countries)).alpha_2.lower()}', ascending=True)"
   ]
  },
  {
   "cell_type": "code",
   "execution_count": 16,
   "metadata": {},
   "outputs": [
    {
     "data": {
      "application/vnd.plotly.v1+json": {
       "config": {
        "plotlyServerURL": "https://plot.ly"
       },
       "data": [
        {
         "alignmentgroup": "True",
         "hovertemplate": "Decomposition part:=commercial_flow<br>Flow decomposition value=%{x}<br>xnec_id=%{y}<extra></extra>",
         "legendgroup": "commercial_flow",
         "marker": {
          "color": "#0DF9FF",
          "pattern": {
           "shape": ""
          }
         },
         "name": "commercial_flow",
         "offsetgroup": "commercial_flow",
         "orientation": "h",
         "showlegend": true,
         "textposition": "auto",
         "texttemplate": "%{x:.0f}",
         "type": "bar",
         "x": [
          41.75726676085298,
          -212.34333544363562,
          23.978446884466763,
          -137.67329688906554,
          -18.06090393393931,
          48.70910732616419,
          -74.67003855457118,
          11.179033545315443,
          -242.59817083480436,
          161.65174377353014,
          -329.1973192849106,
          -96.39982731096292,
          -19.78201548106454,
          -25.445298153585554,
          -397.15022864135585,
          193.0437412967127,
          41.55900922599461,
          -176.9851548263697,
          69.5512342573176,
          80.58532751540766
         ],
         "xaxis": "x",
         "y": [
          "L242-247-1_InitialState",
          "L214-215-1_InitialState",
          "T211-212-1_InitialState",
          "L212-215-1_InitialState",
          "L198-210-1_InitialState",
          "L197-211-1_InitialState",
          "L215-216-1_InitialState",
          "L199-210-1_InitialState",
          "L195-219-1_InitialState",
          "T195-212-1_InitialState",
          "L81-194-1_InitialState",
          "T81-88-1_InitialState",
          "L189-209-1_InitialState",
          "L217-218-1_InitialState",
          "L219-237-1_InitialState",
          "T73-74-1_InitialState",
          "L69-79-1_InitialState",
          "L74-88-1_InitialState",
          "L206-207-1_InitialState",
          "L36-88-1_InitialState"
         ],
         "yaxis": "y"
        },
        {
         "alignmentgroup": "True",
         "hovertemplate": "Decomposition part:=internal_flow<br>Flow decomposition value=%{x}<br>xnec_id=%{y}<extra></extra>",
         "legendgroup": "internal_flow",
         "marker": {
          "color": "#AF0038",
          "pattern": {
           "shape": ""
          }
         },
         "name": "internal_flow",
         "offsetgroup": "internal_flow",
         "orientation": "h",
         "showlegend": true,
         "textposition": "auto",
         "texttemplate": "%{x:.0f}",
         "type": "bar",
         "x": [
          null,
          435.9486194827203,
          -104.67903543575392,
          null,
          null,
          -79.59170066423837,
          292.98695315575077,
          null,
          null,
          -93.00079414959907,
          66.55595846939745,
          52.15934007827508,
          null,
          30.944752161614936,
          null,
          56.47781395186928,
          null,
          null,
          null,
          null
         ],
         "xaxis": "x",
         "y": [
          "L242-247-1_InitialState",
          "L214-215-1_InitialState",
          "T211-212-1_InitialState",
          "L212-215-1_InitialState",
          "L198-210-1_InitialState",
          "L197-211-1_InitialState",
          "L215-216-1_InitialState",
          "L199-210-1_InitialState",
          "L195-219-1_InitialState",
          "T195-212-1_InitialState",
          "L81-194-1_InitialState",
          "T81-88-1_InitialState",
          "L189-209-1_InitialState",
          "L217-218-1_InitialState",
          "L219-237-1_InitialState",
          "T73-74-1_InitialState",
          "L69-79-1_InitialState",
          "L74-88-1_InitialState",
          "L206-207-1_InitialState",
          "L36-88-1_InitialState"
         ],
         "yaxis": "y"
        },
        {
         "alignmentgroup": "True",
         "hovertemplate": "Decomposition part:=loop_flow_from_bg<br>Flow decomposition value=%{x}<br>xnec_id=%{y}<extra></extra>",
         "legendgroup": "loop_flow_from_bg",
         "marker": {
          "color": "#FD3216",
          "pattern": {
           "shape": ""
          }
         },
         "name": "loop_flow_from_bg",
         "offsetgroup": "loop_flow_from_bg",
         "orientation": "h",
         "showlegend": true,
         "textposition": "auto",
         "texttemplate": "%{x:.0f}",
         "type": "bar",
         "x": [
          -13.63657203707519,
          null,
          null,
          null,
          85.62035569929115,
          null,
          28.687908594516927,
          5.965034014987674,
          null,
          null,
          39.25488130161721,
          82.86091484837993,
          10.770514921965228,
          7.31414038538033,
          null,
          null,
          5.173464200377248,
          79.312969412018,
          null,
          null
         ],
         "xaxis": "x",
         "y": [
          "L242-247-1_InitialState",
          "L214-215-1_InitialState",
          "T211-212-1_InitialState",
          "L212-215-1_InitialState",
          "L198-210-1_InitialState",
          "L197-211-1_InitialState",
          "L215-216-1_InitialState",
          "L199-210-1_InitialState",
          "L195-219-1_InitialState",
          "T195-212-1_InitialState",
          "L81-194-1_InitialState",
          "T81-88-1_InitialState",
          "L189-209-1_InitialState",
          "L217-218-1_InitialState",
          "L219-237-1_InitialState",
          "T73-74-1_InitialState",
          "L69-79-1_InitialState",
          "L74-88-1_InitialState",
          "L206-207-1_InitialState",
          "L36-88-1_InitialState"
         ],
         "yaxis": "y"
        },
        {
         "alignmentgroup": "True",
         "hovertemplate": "Decomposition part:=loop_flow_from_cz<br>Flow decomposition value=%{x}<br>xnec_id=%{y}<extra></extra>",
         "legendgroup": "loop_flow_from_cz",
         "marker": {
          "color": "#00A08B",
          "pattern": {
           "shape": ""
          }
         },
         "name": "loop_flow_from_cz",
         "offsetgroup": "loop_flow_from_cz",
         "orientation": "h",
         "showlegend": true,
         "textposition": "auto",
         "texttemplate": "%{x:.0f}",
         "type": "bar",
         "x": [
          null,
          null,
          null,
          null,
          null,
          null,
          null,
          null,
          null,
          null,
          null,
          null,
          null,
          null,
          null,
          17.68187653363038,
          -4.722974386999297,
          null,
          null,
          9.76306979274376
         ],
         "xaxis": "x",
         "y": [
          "L242-247-1_InitialState",
          "L214-215-1_InitialState",
          "T211-212-1_InitialState",
          "L212-215-1_InitialState",
          "L198-210-1_InitialState",
          "L197-211-1_InitialState",
          "L215-216-1_InitialState",
          "L199-210-1_InitialState",
          "L195-219-1_InitialState",
          "T195-212-1_InitialState",
          "L81-194-1_InitialState",
          "T81-88-1_InitialState",
          "L189-209-1_InitialState",
          "L217-218-1_InitialState",
          "L219-237-1_InitialState",
          "T73-74-1_InitialState",
          "L69-79-1_InitialState",
          "L74-88-1_InitialState",
          "L206-207-1_InitialState",
          "L36-88-1_InitialState"
         ],
         "yaxis": "y"
        },
        {
         "alignmentgroup": "True",
         "hovertemplate": "Decomposition part:=loop_flow_from_dk<br>Flow decomposition value=%{x}<br>xnec_id=%{y}<extra></extra>",
         "legendgroup": "loop_flow_from_dk",
         "marker": {
          "color": "#6C4516",
          "pattern": {
           "shape": ""
          }
         },
         "name": "loop_flow_from_dk",
         "offsetgroup": "loop_flow_from_dk",
         "orientation": "h",
         "showlegend": true,
         "textposition": "auto",
         "texttemplate": "%{x:.0f}",
         "type": "bar",
         "x": [
          null,
          null,
          null,
          null,
          null,
          null,
          null,
          null,
          null,
          null,
          null,
          null,
          null,
          null,
          null,
          null,
          null,
          null,
          null,
          null
         ],
         "xaxis": "x",
         "y": [
          "L242-247-1_InitialState",
          "L214-215-1_InitialState",
          "T211-212-1_InitialState",
          "L212-215-1_InitialState",
          "L198-210-1_InitialState",
          "L197-211-1_InitialState",
          "L215-216-1_InitialState",
          "L199-210-1_InitialState",
          "L195-219-1_InitialState",
          "T195-212-1_InitialState",
          "L81-194-1_InitialState",
          "T81-88-1_InitialState",
          "L189-209-1_InitialState",
          "L217-218-1_InitialState",
          "L219-237-1_InitialState",
          "T73-74-1_InitialState",
          "L69-79-1_InitialState",
          "L74-88-1_InitialState",
          "L206-207-1_InitialState",
          "L36-88-1_InitialState"
         ],
         "yaxis": "y"
        },
        {
         "alignmentgroup": "True",
         "hovertemplate": "Decomposition part:=loop_flow_from_ee<br>Flow decomposition value=%{x}<br>xnec_id=%{y}<extra></extra>",
         "legendgroup": "loop_flow_from_ee",
         "marker": {
          "color": "#511CFB",
          "pattern": {
           "shape": ""
          }
         },
         "name": "loop_flow_from_ee",
         "offsetgroup": "loop_flow_from_ee",
         "orientation": "h",
         "showlegend": true,
         "textposition": "auto",
         "texttemplate": "%{x:.0f}",
         "type": "bar",
         "x": [
          31.283501659009733,
          null,
          25.247847981992482,
          19.437549981409234,
          13.79364757070005,
          12.642175221283782,
          null,
          8.371806895738882,
          null,
          null,
          null,
          null,
          3.3585270340717486,
          null,
          null,
          null,
          null,
          null,
          null,
          null
         ],
         "xaxis": "x",
         "y": [
          "L242-247-1_InitialState",
          "L214-215-1_InitialState",
          "T211-212-1_InitialState",
          "L212-215-1_InitialState",
          "L198-210-1_InitialState",
          "L197-211-1_InitialState",
          "L215-216-1_InitialState",
          "L199-210-1_InitialState",
          "L195-219-1_InitialState",
          "T195-212-1_InitialState",
          "L81-194-1_InitialState",
          "T81-88-1_InitialState",
          "L189-209-1_InitialState",
          "L217-218-1_InitialState",
          "L219-237-1_InitialState",
          "T73-74-1_InitialState",
          "L69-79-1_InitialState",
          "L74-88-1_InitialState",
          "L206-207-1_InitialState",
          "L36-88-1_InitialState"
         ],
         "yaxis": "y"
        },
        {
         "alignmentgroup": "True",
         "hovertemplate": "Decomposition part:=loop_flow_from_fr<br>Flow decomposition value=%{x}<br>xnec_id=%{y}<extra></extra>",
         "legendgroup": "loop_flow_from_fr",
         "marker": {
          "color": "#F6F926",
          "pattern": {
           "shape": ""
          }
         },
         "name": "loop_flow_from_fr",
         "offsetgroup": "loop_flow_from_fr",
         "orientation": "h",
         "showlegend": true,
         "textposition": "auto",
         "texttemplate": "%{x:.0f}",
         "type": "bar",
         "x": [
          11.153037445851771,
          null,
          101.36038886939566,
          65.87789067855499,
          null,
          10.644253453822595,
          -79.78970487319692,
          -4.87866360798424,
          267.05938815024984,
          35.482498190841014,
          248.05090697658477,
          136.88755755695774,
          6.119157081140722,
          -10.289502916017591,
          389.70085299701174,
          -41.665966582752,
          -22.672169827685288,
          132.2975644019695,
          -27.765972178289683,
          null
         ],
         "xaxis": "x",
         "y": [
          "L242-247-1_InitialState",
          "L214-215-1_InitialState",
          "T211-212-1_InitialState",
          "L212-215-1_InitialState",
          "L198-210-1_InitialState",
          "L197-211-1_InitialState",
          "L215-216-1_InitialState",
          "L199-210-1_InitialState",
          "L195-219-1_InitialState",
          "T195-212-1_InitialState",
          "L81-194-1_InitialState",
          "T81-88-1_InitialState",
          "L189-209-1_InitialState",
          "L217-218-1_InitialState",
          "L219-237-1_InitialState",
          "T73-74-1_InitialState",
          "L69-79-1_InitialState",
          "L74-88-1_InitialState",
          "L206-207-1_InitialState",
          "L36-88-1_InitialState"
         ],
         "yaxis": "y"
        },
        {
         "alignmentgroup": "True",
         "hovertemplate": "Decomposition part:=loop_flow_from_hu<br>Flow decomposition value=%{x}<br>xnec_id=%{y}<extra></extra>",
         "legendgroup": "loop_flow_from_hu",
         "marker": {
          "color": "#C9FBE5",
          "pattern": {
           "shape": ""
          }
         },
         "name": "loop_flow_from_hu",
         "offsetgroup": "loop_flow_from_hu",
         "orientation": "h",
         "showlegend": true,
         "textposition": "auto",
         "texttemplate": "%{x:.0f}",
         "type": "bar",
         "x": [
          null,
          null,
          null,
          null,
          null,
          null,
          null,
          null,
          null,
          null,
          null,
          null,
          null,
          null,
          null,
          null,
          null,
          null,
          null,
          null
         ],
         "xaxis": "x",
         "y": [
          "L242-247-1_InitialState",
          "L214-215-1_InitialState",
          "T211-212-1_InitialState",
          "L212-215-1_InitialState",
          "L198-210-1_InitialState",
          "L197-211-1_InitialState",
          "L215-216-1_InitialState",
          "L199-210-1_InitialState",
          "L195-219-1_InitialState",
          "T195-212-1_InitialState",
          "L81-194-1_InitialState",
          "T81-88-1_InitialState",
          "L189-209-1_InitialState",
          "L217-218-1_InitialState",
          "L219-237-1_InitialState",
          "T73-74-1_InitialState",
          "L69-79-1_InitialState",
          "L74-88-1_InitialState",
          "L206-207-1_InitialState",
          "L36-88-1_InitialState"
         ],
         "yaxis": "y"
        },
        {
         "alignmentgroup": "True",
         "hovertemplate": "Decomposition part:=loop_flow_from_ie<br>Flow decomposition value=%{x}<br>xnec_id=%{y}<extra></extra>",
         "legendgroup": "loop_flow_from_ie",
         "marker": {
          "color": "#FC0080",
          "pattern": {
           "shape": ""
          }
         },
         "name": "loop_flow_from_ie",
         "offsetgroup": "loop_flow_from_ie",
         "orientation": "h",
         "showlegend": true,
         "textposition": "auto",
         "texttemplate": "%{x:.0f}",
         "type": "bar",
         "x": [
          null,
          null,
          null,
          null,
          null,
          null,
          null,
          null,
          null,
          null,
          null,
          null,
          null,
          null,
          null,
          null,
          null,
          null,
          null,
          null
         ],
         "xaxis": "x",
         "y": [
          "L242-247-1_InitialState",
          "L214-215-1_InitialState",
          "T211-212-1_InitialState",
          "L212-215-1_InitialState",
          "L198-210-1_InitialState",
          "L197-211-1_InitialState",
          "L215-216-1_InitialState",
          "L199-210-1_InitialState",
          "L195-219-1_InitialState",
          "T195-212-1_InitialState",
          "L81-194-1_InitialState",
          "T81-88-1_InitialState",
          "L189-209-1_InitialState",
          "L217-218-1_InitialState",
          "L219-237-1_InitialState",
          "T73-74-1_InitialState",
          "L69-79-1_InitialState",
          "L74-88-1_InitialState",
          "L206-207-1_InitialState",
          "L36-88-1_InitialState"
         ],
         "yaxis": "y"
        },
        {
         "alignmentgroup": "True",
         "hovertemplate": "Decomposition part:=loop_flow_from_lt<br>Flow decomposition value=%{x}<br>xnec_id=%{y}<extra></extra>",
         "legendgroup": "loop_flow_from_lt",
         "marker": {
          "color": "#FB0D0D",
          "pattern": {
           "shape": ""
          }
         },
         "name": "loop_flow_from_lt",
         "offsetgroup": "loop_flow_from_lt",
         "orientation": "h",
         "showlegend": true,
         "textposition": "auto",
         "texttemplate": "%{x:.0f}",
         "type": "bar",
         "x": [
          7.0450216343553445,
          null,
          39.755408417701815,
          null,
          15.75049457736478,
          15.870864209092467,
          null,
          22.137480308660418,
          31.26554981230036,
          32.66457050675235,
          null,
          null,
          3.2639972411640157,
          null,
          null,
          28.909719949341618,
          null,
          37.758889938367176,
          -8.849986000444233,
          14.400450139908191
         ],
         "xaxis": "x",
         "y": [
          "L242-247-1_InitialState",
          "L214-215-1_InitialState",
          "T211-212-1_InitialState",
          "L212-215-1_InitialState",
          "L198-210-1_InitialState",
          "L197-211-1_InitialState",
          "L215-216-1_InitialState",
          "L199-210-1_InitialState",
          "L195-219-1_InitialState",
          "T195-212-1_InitialState",
          "L81-194-1_InitialState",
          "T81-88-1_InitialState",
          "L189-209-1_InitialState",
          "L217-218-1_InitialState",
          "L219-237-1_InitialState",
          "T73-74-1_InitialState",
          "L69-79-1_InitialState",
          "L74-88-1_InitialState",
          "L206-207-1_InitialState",
          "L36-88-1_InitialState"
         ],
         "yaxis": "y"
        },
        {
         "alignmentgroup": "True",
         "hovertemplate": "Decomposition part:=loop_flow_from_lu<br>Flow decomposition value=%{x}<br>xnec_id=%{y}<extra></extra>",
         "legendgroup": "loop_flow_from_lu",
         "marker": {
          "color": "#D626FF",
          "pattern": {
           "shape": ""
          }
         },
         "name": "loop_flow_from_lu",
         "offsetgroup": "loop_flow_from_lu",
         "orientation": "h",
         "showlegend": true,
         "textposition": "auto",
         "texttemplate": "%{x:.0f}",
         "type": "bar",
         "x": [
          29.01912128583795,
          null,
          24.47415014494768,
          95.96166632696978,
          -12.45107980747642,
          null,
          null,
          -12.693809344785931,
          -46.92771566452312,
          -71.48751618202124,
          null,
          null,
          5.030417211894694,
          null,
          74.72734820085708,
          null,
          -6.226134984405837,
          null,
          -32.272870773132794,
          null
         ],
         "xaxis": "x",
         "y": [
          "L242-247-1_InitialState",
          "L214-215-1_InitialState",
          "T211-212-1_InitialState",
          "L212-215-1_InitialState",
          "L198-210-1_InitialState",
          "L197-211-1_InitialState",
          "L215-216-1_InitialState",
          "L199-210-1_InitialState",
          "L195-219-1_InitialState",
          "T195-212-1_InitialState",
          "L81-194-1_InitialState",
          "T81-88-1_InitialState",
          "L189-209-1_InitialState",
          "L217-218-1_InitialState",
          "L219-237-1_InitialState",
          "T73-74-1_InitialState",
          "L69-79-1_InitialState",
          "L74-88-1_InitialState",
          "L206-207-1_InitialState",
          "L36-88-1_InitialState"
         ],
         "yaxis": "y"
        },
        {
         "alignmentgroup": "True",
         "hovertemplate": "Decomposition part:=pst_flow<br>Flow decomposition value=%{x}<br>xnec_id=%{y}<extra></extra>",
         "legendgroup": "pst_flow",
         "marker": {
          "color": "#DA16FF",
          "pattern": {
           "shape": ""
          }
         },
         "name": "pst_flow",
         "offsetgroup": "pst_flow",
         "orientation": "h",
         "showlegend": true,
         "textposition": "auto",
         "texttemplate": "%{x:.0f}",
         "type": "bar",
         "x": [
          null,
          null,
          null,
          null,
          null,
          null,
          null,
          null,
          null,
          null,
          null,
          null,
          null,
          null,
          null,
          null,
          null,
          null,
          null,
          null
         ],
         "xaxis": "x",
         "y": [
          "L242-247-1_InitialState",
          "L214-215-1_InitialState",
          "T211-212-1_InitialState",
          "L212-215-1_InitialState",
          "L198-210-1_InitialState",
          "L197-211-1_InitialState",
          "L215-216-1_InitialState",
          "L199-210-1_InitialState",
          "L195-219-1_InitialState",
          "T195-212-1_InitialState",
          "L81-194-1_InitialState",
          "T81-88-1_InitialState",
          "L189-209-1_InitialState",
          "L217-218-1_InitialState",
          "L219-237-1_InitialState",
          "T73-74-1_InitialState",
          "L69-79-1_InitialState",
          "L74-88-1_InitialState",
          "L206-207-1_InitialState",
          "L36-88-1_InitialState"
         ],
         "yaxis": "y"
        },
        {
         "alignmentgroup": "True",
         "hovertemplate": "Decomposition part:=masked_flows_positive<br>Flow decomposition value=%{x}<br>xnec_id=%{y}<extra></extra>",
         "legendgroup": "masked_flows_positive",
         "marker": {
          "color": "#86CE00",
          "pattern": {
           "shape": ""
          }
         },
         "name": "masked_flows_positive",
         "offsetgroup": "masked_flows_positive",
         "orientation": "h",
         "showlegend": true,
         "textposition": "auto",
         "texttemplate": "%{x:.0f}",
         "type": "bar",
         "x": [
          0.5695297325320023,
          49.40900912628781,
          12.884889454368846,
          10.883428571913058,
          0.3049785110604446,
          0.8792157204424983,
          11.43518061972109,
          0.01421908355703183,
          13.025844369967313,
          14.902596793990305,
          6.048615339157814,
          33.13689080018213,
          0.4423876506469582,
          2.9154623143496696,
          16.462775121948475,
          3.2612025950493084,
          1.9187605945518742,
          23.921061871926653,
          5.6030485691106175,
          11.696682912059433
         ],
         "xaxis": "x",
         "y": [
          "L242-247-1_InitialState",
          "L214-215-1_InitialState",
          "T211-212-1_InitialState",
          "L212-215-1_InitialState",
          "L198-210-1_InitialState",
          "L197-211-1_InitialState",
          "L215-216-1_InitialState",
          "L199-210-1_InitialState",
          "L195-219-1_InitialState",
          "T195-212-1_InitialState",
          "L81-194-1_InitialState",
          "T81-88-1_InitialState",
          "L189-209-1_InitialState",
          "L217-218-1_InitialState",
          "L219-237-1_InitialState",
          "T73-74-1_InitialState",
          "L69-79-1_InitialState",
          "L74-88-1_InitialState",
          "L206-207-1_InitialState",
          "L36-88-1_InitialState"
         ],
         "yaxis": "y"
        },
        {
         "alignmentgroup": "True",
         "hovertemplate": "Decomposition part:=masked_flows_negative<br>Flow decomposition value=%{x}<br>xnec_id=%{y}<extra></extra>",
         "legendgroup": "masked_flows_negative",
         "marker": {
          "color": "#6A76FC",
          "pattern": {
           "shape": ""
          }
         },
         "name": "masked_flows_negative",
         "offsetgroup": "masked_flows_negative",
         "orientation": "h",
         "showlegend": true,
         "textposition": "auto",
         "texttemplate": "%{x:.0f}",
         "type": "bar",
         "x": [
          -0.03250602708086922,
          -22.943532573896928,
          0,
          -11.678241286153952,
          -0.6577654645152223,
          -1.523033340987714,
          -18.388543514564052,
          -0.3659583998691579,
          -10.566972707096916,
          0,
          -9.637136961553725,
          0,
          -0.359574733726856,
          -4.575699745812345,
          -4.061888044866663,
          -2.1859744212418457,
          -0.618112828948906,
          0,
          -2.1945395115234785,
          -4.10598518519952
         ],
         "xaxis": "x",
         "y": [
          "L242-247-1_InitialState",
          "L214-215-1_InitialState",
          "T211-212-1_InitialState",
          "L212-215-1_InitialState",
          "L198-210-1_InitialState",
          "L197-211-1_InitialState",
          "L215-216-1_InitialState",
          "L199-210-1_InitialState",
          "L195-219-1_InitialState",
          "T195-212-1_InitialState",
          "L81-194-1_InitialState",
          "T81-88-1_InitialState",
          "L189-209-1_InitialState",
          "L217-218-1_InitialState",
          "L219-237-1_InitialState",
          "T73-74-1_InitialState",
          "L69-79-1_InitialState",
          "L74-88-1_InitialState",
          "L206-207-1_InitialState",
          "L36-88-1_InitialState"
         ],
         "yaxis": "y"
        },
        {
         "mode": "lines+markers",
         "name": "total_flow",
         "type": "scatter",
         "x": [
          107.15840045428372,
          250.07076059147556,
          123.02209631711932,
          42.808997383627556,
          84.29972715248546,
          7.63088192557944,
          160.26175542765662,
          29.729142495620117,
          11.257923126093146,
          80.21309893349351,
          21.07590584029297,
          208.64487597283195,
          8.84341092609197,
          0.8638540459294433,
          79.67885963359481,
          255.52241332260948,
          14.411841992884403,
          96.30533079791164,
          4.070914363038035,
          112.33954517491952
         ],
         "y": [
          "L242-247-1_InitialState",
          "L214-215-1_InitialState",
          "T211-212-1_InitialState",
          "L212-215-1_InitialState",
          "L198-210-1_InitialState",
          "L197-211-1_InitialState",
          "L215-216-1_InitialState",
          "L199-210-1_InitialState",
          "L195-219-1_InitialState",
          "T195-212-1_InitialState",
          "L81-194-1_InitialState",
          "T81-88-1_InitialState",
          "L189-209-1_InitialState",
          "L217-218-1_InitialState",
          "L219-237-1_InitialState",
          "T73-74-1_InitialState",
          "L69-79-1_InitialState",
          "L74-88-1_InitialState",
          "L206-207-1_InitialState",
          "L36-88-1_InitialState"
         ]
        },
        {
         "mode": "lines+markers",
         "name": "total_loop_flow",
         "type": "scatter",
         "x": [
          65.40113369343074,
          26.46547655239089,
          203.7226848684065,
          180.4822942726931,
          102.36063108642477,
          38.51347526365363,
          -58.055159173522966,
          18.550108950304676,
          253.8560939608975,
          11.562149309562429,
          283.7172666558061,
          252.8853632055198,
          28.62542640715651,
          -4.635599962099937,
          476.8290882749506,
          6.000858074027461,
          -27.147167233110203,
          273.29048562428136,
          -66.4118262056891,
          31.75421765951186
         ],
         "y": [
          "L242-247-1_InitialState",
          "L214-215-1_InitialState",
          "T211-212-1_InitialState",
          "L212-215-1_InitialState",
          "L198-210-1_InitialState",
          "L197-211-1_InitialState",
          "L215-216-1_InitialState",
          "L199-210-1_InitialState",
          "L195-219-1_InitialState",
          "T195-212-1_InitialState",
          "L81-194-1_InitialState",
          "T81-88-1_InitialState",
          "L189-209-1_InitialState",
          "L217-218-1_InitialState",
          "L219-237-1_InitialState",
          "T73-74-1_InitialState",
          "L69-79-1_InitialState",
          "L74-88-1_InitialState",
          "L206-207-1_InitialState",
          "L36-88-1_InitialState"
         ]
        }
       ],
       "layout": {
        "barmode": "relative",
        "height": 1000,
        "legend": {
         "title": {
          "text": "Decomposition part:"
         },
         "tracegroupgap": 0
        },
        "template": {
         "data": {
          "bar": [
           {
            "error_x": {
             "color": "rgb(36,36,36)"
            },
            "error_y": {
             "color": "rgb(36,36,36)"
            },
            "marker": {
             "line": {
              "color": "rgb(234,234,242)",
              "width": 0.5
             },
             "pattern": {
              "fillmode": "overlay",
              "size": 10,
              "solidity": 0.2
             }
            },
            "type": "bar"
           }
          ],
          "barpolar": [
           {
            "marker": {
             "line": {
              "color": "rgb(234,234,242)",
              "width": 0.5
             },
             "pattern": {
              "fillmode": "overlay",
              "size": 10,
              "solidity": 0.2
             }
            },
            "type": "barpolar"
           }
          ],
          "carpet": [
           {
            "aaxis": {
             "endlinecolor": "rgb(36,36,36)",
             "gridcolor": "white",
             "linecolor": "white",
             "minorgridcolor": "white",
             "startlinecolor": "rgb(36,36,36)"
            },
            "baxis": {
             "endlinecolor": "rgb(36,36,36)",
             "gridcolor": "white",
             "linecolor": "white",
             "minorgridcolor": "white",
             "startlinecolor": "rgb(36,36,36)"
            },
            "type": "carpet"
           }
          ],
          "choropleth": [
           {
            "colorbar": {
             "outlinewidth": 0,
             "tickcolor": "rgb(36,36,36)",
             "ticklen": 8,
             "ticks": "outside",
             "tickwidth": 2
            },
            "type": "choropleth"
           }
          ],
          "contour": [
           {
            "colorbar": {
             "outlinewidth": 0,
             "tickcolor": "rgb(36,36,36)",
             "ticklen": 8,
             "ticks": "outside",
             "tickwidth": 2
            },
            "colorscale": [
             [
              0,
              "rgb(2,4,25)"
             ],
             [
              0.06274509803921569,
              "rgb(24,15,41)"
             ],
             [
              0.12549019607843137,
              "rgb(47,23,57)"
             ],
             [
              0.18823529411764706,
              "rgb(71,28,72)"
             ],
             [
              0.25098039215686274,
              "rgb(97,30,82)"
             ],
             [
              0.3137254901960784,
              "rgb(123,30,89)"
             ],
             [
              0.3764705882352941,
              "rgb(150,27,91)"
             ],
             [
              0.4392156862745098,
              "rgb(177,22,88)"
             ],
             [
              0.5019607843137255,
              "rgb(203,26,79)"
             ],
             [
              0.5647058823529412,
              "rgb(223,47,67)"
             ],
             [
              0.6274509803921569,
              "rgb(236,76,61)"
             ],
             [
              0.6901960784313725,
              "rgb(242,107,73)"
             ],
             [
              0.7529411764705882,
              "rgb(244,135,95)"
             ],
             [
              0.8156862745098039,
              "rgb(245,162,122)"
             ],
             [
              0.8784313725490196,
              "rgb(246,188,153)"
             ],
             [
              0.9411764705882353,
              "rgb(247,212,187)"
             ],
             [
              1,
              "rgb(250,234,220)"
             ]
            ],
            "type": "contour"
           }
          ],
          "contourcarpet": [
           {
            "colorbar": {
             "outlinewidth": 0,
             "tickcolor": "rgb(36,36,36)",
             "ticklen": 8,
             "ticks": "outside",
             "tickwidth": 2
            },
            "type": "contourcarpet"
           }
          ],
          "heatmap": [
           {
            "colorbar": {
             "outlinewidth": 0,
             "tickcolor": "rgb(36,36,36)",
             "ticklen": 8,
             "ticks": "outside",
             "tickwidth": 2
            },
            "colorscale": [
             [
              0,
              "rgb(2,4,25)"
             ],
             [
              0.06274509803921569,
              "rgb(24,15,41)"
             ],
             [
              0.12549019607843137,
              "rgb(47,23,57)"
             ],
             [
              0.18823529411764706,
              "rgb(71,28,72)"
             ],
             [
              0.25098039215686274,
              "rgb(97,30,82)"
             ],
             [
              0.3137254901960784,
              "rgb(123,30,89)"
             ],
             [
              0.3764705882352941,
              "rgb(150,27,91)"
             ],
             [
              0.4392156862745098,
              "rgb(177,22,88)"
             ],
             [
              0.5019607843137255,
              "rgb(203,26,79)"
             ],
             [
              0.5647058823529412,
              "rgb(223,47,67)"
             ],
             [
              0.6274509803921569,
              "rgb(236,76,61)"
             ],
             [
              0.6901960784313725,
              "rgb(242,107,73)"
             ],
             [
              0.7529411764705882,
              "rgb(244,135,95)"
             ],
             [
              0.8156862745098039,
              "rgb(245,162,122)"
             ],
             [
              0.8784313725490196,
              "rgb(246,188,153)"
             ],
             [
              0.9411764705882353,
              "rgb(247,212,187)"
             ],
             [
              1,
              "rgb(250,234,220)"
             ]
            ],
            "type": "heatmap"
           }
          ],
          "heatmapgl": [
           {
            "colorbar": {
             "outlinewidth": 0,
             "tickcolor": "rgb(36,36,36)",
             "ticklen": 8,
             "ticks": "outside",
             "tickwidth": 2
            },
            "colorscale": [
             [
              0,
              "rgb(2,4,25)"
             ],
             [
              0.06274509803921569,
              "rgb(24,15,41)"
             ],
             [
              0.12549019607843137,
              "rgb(47,23,57)"
             ],
             [
              0.18823529411764706,
              "rgb(71,28,72)"
             ],
             [
              0.25098039215686274,
              "rgb(97,30,82)"
             ],
             [
              0.3137254901960784,
              "rgb(123,30,89)"
             ],
             [
              0.3764705882352941,
              "rgb(150,27,91)"
             ],
             [
              0.4392156862745098,
              "rgb(177,22,88)"
             ],
             [
              0.5019607843137255,
              "rgb(203,26,79)"
             ],
             [
              0.5647058823529412,
              "rgb(223,47,67)"
             ],
             [
              0.6274509803921569,
              "rgb(236,76,61)"
             ],
             [
              0.6901960784313725,
              "rgb(242,107,73)"
             ],
             [
              0.7529411764705882,
              "rgb(244,135,95)"
             ],
             [
              0.8156862745098039,
              "rgb(245,162,122)"
             ],
             [
              0.8784313725490196,
              "rgb(246,188,153)"
             ],
             [
              0.9411764705882353,
              "rgb(247,212,187)"
             ],
             [
              1,
              "rgb(250,234,220)"
             ]
            ],
            "type": "heatmapgl"
           }
          ],
          "histogram": [
           {
            "marker": {
             "pattern": {
              "fillmode": "overlay",
              "size": 10,
              "solidity": 0.2
             }
            },
            "type": "histogram"
           }
          ],
          "histogram2d": [
           {
            "colorbar": {
             "outlinewidth": 0,
             "tickcolor": "rgb(36,36,36)",
             "ticklen": 8,
             "ticks": "outside",
             "tickwidth": 2
            },
            "colorscale": [
             [
              0,
              "rgb(2,4,25)"
             ],
             [
              0.06274509803921569,
              "rgb(24,15,41)"
             ],
             [
              0.12549019607843137,
              "rgb(47,23,57)"
             ],
             [
              0.18823529411764706,
              "rgb(71,28,72)"
             ],
             [
              0.25098039215686274,
              "rgb(97,30,82)"
             ],
             [
              0.3137254901960784,
              "rgb(123,30,89)"
             ],
             [
              0.3764705882352941,
              "rgb(150,27,91)"
             ],
             [
              0.4392156862745098,
              "rgb(177,22,88)"
             ],
             [
              0.5019607843137255,
              "rgb(203,26,79)"
             ],
             [
              0.5647058823529412,
              "rgb(223,47,67)"
             ],
             [
              0.6274509803921569,
              "rgb(236,76,61)"
             ],
             [
              0.6901960784313725,
              "rgb(242,107,73)"
             ],
             [
              0.7529411764705882,
              "rgb(244,135,95)"
             ],
             [
              0.8156862745098039,
              "rgb(245,162,122)"
             ],
             [
              0.8784313725490196,
              "rgb(246,188,153)"
             ],
             [
              0.9411764705882353,
              "rgb(247,212,187)"
             ],
             [
              1,
              "rgb(250,234,220)"
             ]
            ],
            "type": "histogram2d"
           }
          ],
          "histogram2dcontour": [
           {
            "colorbar": {
             "outlinewidth": 0,
             "tickcolor": "rgb(36,36,36)",
             "ticklen": 8,
             "ticks": "outside",
             "tickwidth": 2
            },
            "colorscale": [
             [
              0,
              "rgb(2,4,25)"
             ],
             [
              0.06274509803921569,
              "rgb(24,15,41)"
             ],
             [
              0.12549019607843137,
              "rgb(47,23,57)"
             ],
             [
              0.18823529411764706,
              "rgb(71,28,72)"
             ],
             [
              0.25098039215686274,
              "rgb(97,30,82)"
             ],
             [
              0.3137254901960784,
              "rgb(123,30,89)"
             ],
             [
              0.3764705882352941,
              "rgb(150,27,91)"
             ],
             [
              0.4392156862745098,
              "rgb(177,22,88)"
             ],
             [
              0.5019607843137255,
              "rgb(203,26,79)"
             ],
             [
              0.5647058823529412,
              "rgb(223,47,67)"
             ],
             [
              0.6274509803921569,
              "rgb(236,76,61)"
             ],
             [
              0.6901960784313725,
              "rgb(242,107,73)"
             ],
             [
              0.7529411764705882,
              "rgb(244,135,95)"
             ],
             [
              0.8156862745098039,
              "rgb(245,162,122)"
             ],
             [
              0.8784313725490196,
              "rgb(246,188,153)"
             ],
             [
              0.9411764705882353,
              "rgb(247,212,187)"
             ],
             [
              1,
              "rgb(250,234,220)"
             ]
            ],
            "type": "histogram2dcontour"
           }
          ],
          "mesh3d": [
           {
            "colorbar": {
             "outlinewidth": 0,
             "tickcolor": "rgb(36,36,36)",
             "ticklen": 8,
             "ticks": "outside",
             "tickwidth": 2
            },
            "type": "mesh3d"
           }
          ],
          "parcoords": [
           {
            "line": {
             "colorbar": {
              "outlinewidth": 0,
              "tickcolor": "rgb(36,36,36)",
              "ticklen": 8,
              "ticks": "outside",
              "tickwidth": 2
             }
            },
            "type": "parcoords"
           }
          ],
          "pie": [
           {
            "automargin": true,
            "type": "pie"
           }
          ],
          "scatter": [
           {
            "fillpattern": {
             "fillmode": "overlay",
             "size": 10,
             "solidity": 0.2
            },
            "type": "scatter"
           }
          ],
          "scatter3d": [
           {
            "line": {
             "colorbar": {
              "outlinewidth": 0,
              "tickcolor": "rgb(36,36,36)",
              "ticklen": 8,
              "ticks": "outside",
              "tickwidth": 2
             }
            },
            "marker": {
             "colorbar": {
              "outlinewidth": 0,
              "tickcolor": "rgb(36,36,36)",
              "ticklen": 8,
              "ticks": "outside",
              "tickwidth": 2
             }
            },
            "type": "scatter3d"
           }
          ],
          "scattercarpet": [
           {
            "marker": {
             "colorbar": {
              "outlinewidth": 0,
              "tickcolor": "rgb(36,36,36)",
              "ticklen": 8,
              "ticks": "outside",
              "tickwidth": 2
             }
            },
            "type": "scattercarpet"
           }
          ],
          "scattergeo": [
           {
            "marker": {
             "colorbar": {
              "outlinewidth": 0,
              "tickcolor": "rgb(36,36,36)",
              "ticklen": 8,
              "ticks": "outside",
              "tickwidth": 2
             }
            },
            "type": "scattergeo"
           }
          ],
          "scattergl": [
           {
            "marker": {
             "colorbar": {
              "outlinewidth": 0,
              "tickcolor": "rgb(36,36,36)",
              "ticklen": 8,
              "ticks": "outside",
              "tickwidth": 2
             }
            },
            "type": "scattergl"
           }
          ],
          "scattermapbox": [
           {
            "marker": {
             "colorbar": {
              "outlinewidth": 0,
              "tickcolor": "rgb(36,36,36)",
              "ticklen": 8,
              "ticks": "outside",
              "tickwidth": 2
             }
            },
            "type": "scattermapbox"
           }
          ],
          "scatterpolar": [
           {
            "marker": {
             "colorbar": {
              "outlinewidth": 0,
              "tickcolor": "rgb(36,36,36)",
              "ticklen": 8,
              "ticks": "outside",
              "tickwidth": 2
             }
            },
            "type": "scatterpolar"
           }
          ],
          "scatterpolargl": [
           {
            "marker": {
             "colorbar": {
              "outlinewidth": 0,
              "tickcolor": "rgb(36,36,36)",
              "ticklen": 8,
              "ticks": "outside",
              "tickwidth": 2
             }
            },
            "type": "scatterpolargl"
           }
          ],
          "scatterternary": [
           {
            "marker": {
             "colorbar": {
              "outlinewidth": 0,
              "tickcolor": "rgb(36,36,36)",
              "ticklen": 8,
              "ticks": "outside",
              "tickwidth": 2
             }
            },
            "type": "scatterternary"
           }
          ],
          "surface": [
           {
            "colorbar": {
             "outlinewidth": 0,
             "tickcolor": "rgb(36,36,36)",
             "ticklen": 8,
             "ticks": "outside",
             "tickwidth": 2
            },
            "colorscale": [
             [
              0,
              "rgb(2,4,25)"
             ],
             [
              0.06274509803921569,
              "rgb(24,15,41)"
             ],
             [
              0.12549019607843137,
              "rgb(47,23,57)"
             ],
             [
              0.18823529411764706,
              "rgb(71,28,72)"
             ],
             [
              0.25098039215686274,
              "rgb(97,30,82)"
             ],
             [
              0.3137254901960784,
              "rgb(123,30,89)"
             ],
             [
              0.3764705882352941,
              "rgb(150,27,91)"
             ],
             [
              0.4392156862745098,
              "rgb(177,22,88)"
             ],
             [
              0.5019607843137255,
              "rgb(203,26,79)"
             ],
             [
              0.5647058823529412,
              "rgb(223,47,67)"
             ],
             [
              0.6274509803921569,
              "rgb(236,76,61)"
             ],
             [
              0.6901960784313725,
              "rgb(242,107,73)"
             ],
             [
              0.7529411764705882,
              "rgb(244,135,95)"
             ],
             [
              0.8156862745098039,
              "rgb(245,162,122)"
             ],
             [
              0.8784313725490196,
              "rgb(246,188,153)"
             ],
             [
              0.9411764705882353,
              "rgb(247,212,187)"
             ],
             [
              1,
              "rgb(250,234,220)"
             ]
            ],
            "type": "surface"
           }
          ],
          "table": [
           {
            "cells": {
             "fill": {
              "color": "rgb(231,231,240)"
             },
             "line": {
              "color": "white"
             }
            },
            "header": {
             "fill": {
              "color": "rgb(183,183,191)"
             },
             "line": {
              "color": "white"
             }
            },
            "type": "table"
           }
          ]
         },
         "layout": {
          "annotationdefaults": {
           "arrowcolor": "rgb(67,103,167)"
          },
          "autotypenumbers": "strict",
          "coloraxis": {
           "colorbar": {
            "outlinewidth": 0,
            "tickcolor": "rgb(36,36,36)",
            "ticklen": 8,
            "ticks": "outside",
            "tickwidth": 2
           }
          },
          "colorscale": {
           "sequential": [
            [
             0,
             "rgb(2,4,25)"
            ],
            [
             0.06274509803921569,
             "rgb(24,15,41)"
            ],
            [
             0.12549019607843137,
             "rgb(47,23,57)"
            ],
            [
             0.18823529411764706,
             "rgb(71,28,72)"
            ],
            [
             0.25098039215686274,
             "rgb(97,30,82)"
            ],
            [
             0.3137254901960784,
             "rgb(123,30,89)"
            ],
            [
             0.3764705882352941,
             "rgb(150,27,91)"
            ],
            [
             0.4392156862745098,
             "rgb(177,22,88)"
            ],
            [
             0.5019607843137255,
             "rgb(203,26,79)"
            ],
            [
             0.5647058823529412,
             "rgb(223,47,67)"
            ],
            [
             0.6274509803921569,
             "rgb(236,76,61)"
            ],
            [
             0.6901960784313725,
             "rgb(242,107,73)"
            ],
            [
             0.7529411764705882,
             "rgb(244,135,95)"
            ],
            [
             0.8156862745098039,
             "rgb(245,162,122)"
            ],
            [
             0.8784313725490196,
             "rgb(246,188,153)"
            ],
            [
             0.9411764705882353,
             "rgb(247,212,187)"
            ],
            [
             1,
             "rgb(250,234,220)"
            ]
           ],
           "sequentialminus": [
            [
             0,
             "rgb(2,4,25)"
            ],
            [
             0.06274509803921569,
             "rgb(24,15,41)"
            ],
            [
             0.12549019607843137,
             "rgb(47,23,57)"
            ],
            [
             0.18823529411764706,
             "rgb(71,28,72)"
            ],
            [
             0.25098039215686274,
             "rgb(97,30,82)"
            ],
            [
             0.3137254901960784,
             "rgb(123,30,89)"
            ],
            [
             0.3764705882352941,
             "rgb(150,27,91)"
            ],
            [
             0.4392156862745098,
             "rgb(177,22,88)"
            ],
            [
             0.5019607843137255,
             "rgb(203,26,79)"
            ],
            [
             0.5647058823529412,
             "rgb(223,47,67)"
            ],
            [
             0.6274509803921569,
             "rgb(236,76,61)"
            ],
            [
             0.6901960784313725,
             "rgb(242,107,73)"
            ],
            [
             0.7529411764705882,
             "rgb(244,135,95)"
            ],
            [
             0.8156862745098039,
             "rgb(245,162,122)"
            ],
            [
             0.8784313725490196,
             "rgb(246,188,153)"
            ],
            [
             0.9411764705882353,
             "rgb(247,212,187)"
            ],
            [
             1,
             "rgb(250,234,220)"
            ]
           ]
          },
          "colorway": [
           "rgb(76,114,176)",
           "rgb(221,132,82)",
           "rgb(85,168,104)",
           "rgb(196,78,82)",
           "rgb(129,114,179)",
           "rgb(147,120,96)",
           "rgb(218,139,195)",
           "rgb(140,140,140)",
           "rgb(204,185,116)",
           "rgb(100,181,205)"
          ],
          "font": {
           "color": "rgb(36,36,36)"
          },
          "geo": {
           "bgcolor": "white",
           "lakecolor": "white",
           "landcolor": "rgb(234,234,242)",
           "showlakes": true,
           "showland": true,
           "subunitcolor": "white"
          },
          "hoverlabel": {
           "align": "left"
          },
          "hovermode": "closest",
          "paper_bgcolor": "white",
          "plot_bgcolor": "rgb(234,234,242)",
          "polar": {
           "angularaxis": {
            "gridcolor": "white",
            "linecolor": "white",
            "showgrid": true,
            "ticks": ""
           },
           "bgcolor": "rgb(234,234,242)",
           "radialaxis": {
            "gridcolor": "white",
            "linecolor": "white",
            "showgrid": true,
            "ticks": ""
           }
          },
          "scene": {
           "xaxis": {
            "backgroundcolor": "rgb(234,234,242)",
            "gridcolor": "white",
            "gridwidth": 2,
            "linecolor": "white",
            "showbackground": true,
            "showgrid": true,
            "ticks": "",
            "zerolinecolor": "white"
           },
           "yaxis": {
            "backgroundcolor": "rgb(234,234,242)",
            "gridcolor": "white",
            "gridwidth": 2,
            "linecolor": "white",
            "showbackground": true,
            "showgrid": true,
            "ticks": "",
            "zerolinecolor": "white"
           },
           "zaxis": {
            "backgroundcolor": "rgb(234,234,242)",
            "gridcolor": "white",
            "gridwidth": 2,
            "linecolor": "white",
            "showbackground": true,
            "showgrid": true,
            "ticks": "",
            "zerolinecolor": "white"
           }
          },
          "shapedefaults": {
           "fillcolor": "rgb(67,103,167)",
           "line": {
            "width": 0
           },
           "opacity": 0.5
          },
          "ternary": {
           "aaxis": {
            "gridcolor": "white",
            "linecolor": "white",
            "showgrid": true,
            "ticks": ""
           },
           "baxis": {
            "gridcolor": "white",
            "linecolor": "white",
            "showgrid": true,
            "ticks": ""
           },
           "bgcolor": "rgb(234,234,242)",
           "caxis": {
            "gridcolor": "white",
            "linecolor": "white",
            "showgrid": true,
            "ticks": ""
           }
          },
          "xaxis": {
           "automargin": true,
           "gridcolor": "white",
           "linecolor": "white",
           "showgrid": true,
           "ticks": "",
           "title": {
            "standoff": 15
           },
           "zerolinecolor": "white"
          },
          "yaxis": {
           "automargin": true,
           "gridcolor": "white",
           "linecolor": "white",
           "showgrid": true,
           "ticks": "",
           "title": {
            "standoff": 15
           },
           "zerolinecolor": "white"
          }
         }
        },
        "title": {
         "text": "Sorted by: loop_flow_from_ee, ascending: False, head: 20"
        },
        "xaxis": {
         "anchor": "y",
         "domain": [
          0,
          1
         ],
         "title": {
          "text": "Flow decomposition value"
         }
        },
        "yaxis": {
         "anchor": "x",
         "domain": [
          0,
          1
         ],
         "title": {
          "text": "xnec_id"
         }
        }
       }
      }
     },
     "metadata": {},
     "output_type": "display_data"
    }
   ],
   "source": [
    "flow_decomposition_bar_chart(f'loop_flow_from_{random.Random(12).choice(list(countries)).alpha_2.lower()}')"
   ]
  },
  {
   "cell_type": "markdown",
   "metadata": {},
   "source": [
    "# Loop flow repartition from source\n",
    "\n",
    "Loop flows are sum for each source."
   ]
  },
  {
   "cell_type": "code",
   "execution_count": 17,
   "metadata": {},
   "outputs": [],
   "source": [
    "c1, c2 = 'country1', 'country2'\n",
    "df_sum1 = flow_dec.groupby(c1).sum().transpose()\n",
    "df_sum2 = flow_dec.groupby(c2).sum().transpose()\n",
    "df_lf_per_country = pd.concat([df_sum1, df_sum2]).groupby(level=0).sum()/2"
   ]
  },
  {
   "cell_type": "code",
   "execution_count": 18,
   "metadata": {},
   "outputs": [
    {
     "data": {
      "application/vnd.plotly.v1+json": {
       "config": {
        "plotlyServerURL": "https://plot.ly"
       },
       "data": [
        {
         "alignmentgroup": "True",
         "hovertemplate": "Impacted country=BG<br>Loop flow value per origin=%{x}<br>Origin of loop flow=%{y}<extra></extra>",
         "legendgroup": "BG",
         "marker": {
          "color": "#0DF9FF",
          "pattern": {
           "shape": ""
          }
         },
         "name": "BG",
         "offsetgroup": "BG",
         "orientation": "h",
         "showlegend": true,
         "textposition": "auto",
         "texttemplate": "%{x:.0f}",
         "type": "bar",
         "x": [
          215.36118917177762,
          108.20375441698174,
          null,
          null,
          null,
          368.42663405389476,
          39.61230050493592,
          35.10832801920833,
          null
         ],
         "xaxis": "x",
         "y": [
          "loop_flow_from_fr",
          "loop_flow_from_lt",
          "loop_flow_from_hu",
          "loop_flow_from_dk",
          "loop_flow_from_lu",
          "loop_flow_from_bg",
          "loop_flow_from_cz",
          "loop_flow_from_ee",
          "loop_flow_from_ie"
         ],
         "yaxis": "y"
        },
        {
         "alignmentgroup": "True",
         "hovertemplate": "Impacted country=CZ<br>Loop flow value per origin=%{x}<br>Origin of loop flow=%{y}<extra></extra>",
         "legendgroup": "CZ",
         "marker": {
          "color": "#AF0038",
          "pattern": {
           "shape": ""
          }
         },
         "name": "CZ",
         "offsetgroup": "CZ",
         "orientation": "h",
         "showlegend": true,
         "textposition": "auto",
         "texttemplate": "%{x:.0f}",
         "type": "bar",
         "x": [
          null,
          null,
          null,
          null,
          null,
          137.2972664334758,
          null,
          null,
          null
         ],
         "xaxis": "x",
         "y": [
          "loop_flow_from_fr",
          "loop_flow_from_lt",
          "loop_flow_from_hu",
          "loop_flow_from_dk",
          "loop_flow_from_lu",
          "loop_flow_from_bg",
          "loop_flow_from_cz",
          "loop_flow_from_ee",
          "loop_flow_from_ie"
         ],
         "yaxis": "y"
        },
        {
         "alignmentgroup": "True",
         "hovertemplate": "Impacted country=DK<br>Loop flow value per origin=%{x}<br>Origin of loop flow=%{y}<extra></extra>",
         "legendgroup": "DK",
         "marker": {
          "color": "#FD3216",
          "pattern": {
           "shape": ""
          }
         },
         "name": "DK",
         "offsetgroup": "DK",
         "orientation": "h",
         "showlegend": true,
         "textposition": "auto",
         "texttemplate": "%{x:.0f}",
         "type": "bar",
         "x": [
          null,
          1357.3228216698203,
          -939.7890455459203,
          630.133766599619,
          216.60757971140401,
          null,
          14.355594474478295,
          null,
          null
         ],
         "xaxis": "x",
         "y": [
          "loop_flow_from_fr",
          "loop_flow_from_lt",
          "loop_flow_from_hu",
          "loop_flow_from_dk",
          "loop_flow_from_lu",
          "loop_flow_from_bg",
          "loop_flow_from_cz",
          "loop_flow_from_ee",
          "loop_flow_from_ie"
         ],
         "yaxis": "y"
        },
        {
         "alignmentgroup": "True",
         "hovertemplate": "Impacted country=EE<br>Loop flow value per origin=%{x}<br>Origin of loop flow=%{y}<extra></extra>",
         "legendgroup": "EE",
         "marker": {
          "color": "#00A08B",
          "pattern": {
           "shape": ""
          }
         },
         "name": "EE",
         "offsetgroup": "EE",
         "orientation": "h",
         "showlegend": true,
         "textposition": "auto",
         "texttemplate": "%{x:.0f}",
         "type": "bar",
         "x": [
          null,
          null,
          null,
          null,
          81.02422151684391,
          54.829135459466016,
          null,
          -13.720555996358664,
          null
         ],
         "xaxis": "x",
         "y": [
          "loop_flow_from_fr",
          "loop_flow_from_lt",
          "loop_flow_from_hu",
          "loop_flow_from_dk",
          "loop_flow_from_lu",
          "loop_flow_from_bg",
          "loop_flow_from_cz",
          "loop_flow_from_ee",
          "loop_flow_from_ie"
         ],
         "yaxis": "y"
        },
        {
         "alignmentgroup": "True",
         "hovertemplate": "Impacted country=FR<br>Loop flow value per origin=%{x}<br>Origin of loop flow=%{y}<extra></extra>",
         "legendgroup": "FR",
         "marker": {
          "color": "#6C4516",
          "pattern": {
           "shape": ""
          }
         },
         "name": "FR",
         "offsetgroup": "FR",
         "orientation": "h",
         "showlegend": true,
         "textposition": "auto",
         "texttemplate": "%{x:.0f}",
         "type": "bar",
         "x": [
          531.144522845661,
          null,
          86.480422916063,
          null,
          -135.50913678554764,
          null,
          null,
          null,
          null
         ],
         "xaxis": "x",
         "y": [
          "loop_flow_from_fr",
          "loop_flow_from_lt",
          "loop_flow_from_hu",
          "loop_flow_from_dk",
          "loop_flow_from_lu",
          "loop_flow_from_bg",
          "loop_flow_from_cz",
          "loop_flow_from_ee",
          "loop_flow_from_ie"
         ],
         "yaxis": "y"
        },
        {
         "alignmentgroup": "True",
         "hovertemplate": "Impacted country=HU<br>Loop flow value per origin=%{x}<br>Origin of loop flow=%{y}<extra></extra>",
         "legendgroup": "HU",
         "marker": {
          "color": "#511CFB",
          "pattern": {
           "shape": ""
          }
         },
         "name": "HU",
         "offsetgroup": "HU",
         "orientation": "h",
         "showlegend": true,
         "textposition": "auto",
         "texttemplate": "%{x:.0f}",
         "type": "bar",
         "x": [
          249.270353446516,
          -283.1070048732861,
          1135.1423279927594,
          1197.296467036251,
          124.37141691458041,
          null,
          null,
          null,
          null
         ],
         "xaxis": "x",
         "y": [
          "loop_flow_from_fr",
          "loop_flow_from_lt",
          "loop_flow_from_hu",
          "loop_flow_from_dk",
          "loop_flow_from_lu",
          "loop_flow_from_bg",
          "loop_flow_from_cz",
          "loop_flow_from_ee",
          "loop_flow_from_ie"
         ],
         "yaxis": "y"
        },
        {
         "alignmentgroup": "True",
         "hovertemplate": "Impacted country=IE<br>Loop flow value per origin=%{x}<br>Origin of loop flow=%{y}<extra></extra>",
         "legendgroup": "IE",
         "marker": {
          "color": "#F6F926",
          "pattern": {
           "shape": ""
          }
         },
         "name": "IE",
         "offsetgroup": "IE",
         "orientation": "h",
         "showlegend": true,
         "textposition": "auto",
         "texttemplate": "%{x:.0f}",
         "type": "bar",
         "x": [
          null,
          null,
          null,
          null,
          null,
          141.16775935801027,
          11.631236232268801,
          null,
          null
         ],
         "xaxis": "x",
         "y": [
          "loop_flow_from_fr",
          "loop_flow_from_lt",
          "loop_flow_from_hu",
          "loop_flow_from_dk",
          "loop_flow_from_lu",
          "loop_flow_from_bg",
          "loop_flow_from_cz",
          "loop_flow_from_ee",
          "loop_flow_from_ie"
         ],
         "yaxis": "y"
        },
        {
         "alignmentgroup": "True",
         "hovertemplate": "Impacted country=LT<br>Loop flow value per origin=%{x}<br>Origin of loop flow=%{y}<extra></extra>",
         "legendgroup": "LT",
         "marker": {
          "color": "#C9FBE5",
          "pattern": {
           "shape": ""
          }
         },
         "name": "LT",
         "offsetgroup": "LT",
         "orientation": "h",
         "showlegend": true,
         "textposition": "auto",
         "texttemplate": "%{x:.0f}",
         "type": "bar",
         "x": [
          -1913.1716928990804,
          621.8156739745821,
          105.85825111298341,
          -174.74101848165364,
          544.1865484079118,
          120.61435941587052,
          122.24925496614048,
          7.637562013276569,
          null
         ],
         "xaxis": "x",
         "y": [
          "loop_flow_from_fr",
          "loop_flow_from_lt",
          "loop_flow_from_hu",
          "loop_flow_from_dk",
          "loop_flow_from_lu",
          "loop_flow_from_bg",
          "loop_flow_from_cz",
          "loop_flow_from_ee",
          "loop_flow_from_ie"
         ],
         "yaxis": "y"
        },
        {
         "alignmentgroup": "True",
         "hovertemplate": "Impacted country=LU<br>Loop flow value per origin=%{x}<br>Origin of loop flow=%{y}<extra></extra>",
         "legendgroup": "LU",
         "marker": {
          "color": "#FC0080",
          "pattern": {
           "shape": ""
          }
         },
         "name": "LU",
         "offsetgroup": "LU",
         "orientation": "h",
         "showlegend": true,
         "textposition": "auto",
         "texttemplate": "%{x:.0f}",
         "type": "bar",
         "x": [
          382.4981541821345,
          100.63871874840562,
          null,
          null,
          255.6123147898242,
          -61.36574017588896,
          12.509835105259148,
          -11.374212979577097,
          null
         ],
         "xaxis": "x",
         "y": [
          "loop_flow_from_fr",
          "loop_flow_from_lt",
          "loop_flow_from_hu",
          "loop_flow_from_dk",
          "loop_flow_from_lu",
          "loop_flow_from_bg",
          "loop_flow_from_cz",
          "loop_flow_from_ee",
          "loop_flow_from_ie"
         ],
         "yaxis": "y"
        },
        {
         "alignmentgroup": "True",
         "hovertemplate": "Impacted country=masked_positive<br>Loop flow value per origin=%{x}<br>Origin of loop flow=%{y}<extra></extra>",
         "legendgroup": "masked_positive",
         "marker": {
          "color": "#FB0D0D",
          "pattern": {
           "shape": ""
          }
         },
         "name": "masked_positive",
         "offsetgroup": "masked_positive",
         "orientation": "h",
         "showlegend": true,
         "textposition": "auto",
         "texttemplate": "%{x:.0f}",
         "type": "bar",
         "x": [
          90.76616739657756,
          88.85571499647091,
          1.748627163675823,
          42.18800000139671,
          26.38872020672803,
          3.8396522023301083,
          3.943750211748722,
          2.6292982673362775,
          0
         ],
         "xaxis": "x",
         "y": [
          "loop_flow_from_fr",
          "loop_flow_from_lt",
          "loop_flow_from_hu",
          "loop_flow_from_dk",
          "loop_flow_from_lu",
          "loop_flow_from_bg",
          "loop_flow_from_cz",
          "loop_flow_from_ee",
          "loop_flow_from_ie"
         ],
         "yaxis": "y"
        },
        {
         "alignmentgroup": "True",
         "hovertemplate": "Impacted country=masked_negative<br>Loop flow value per origin=%{x}<br>Origin of loop flow=%{y}<extra></extra>",
         "legendgroup": "masked_negative",
         "marker": {
          "color": "#D626FF",
          "pattern": {
           "shape": ""
          }
         },
         "name": "masked_negative",
         "offsetgroup": "masked_negative",
         "orientation": "h",
         "showlegend": true,
         "textposition": "auto",
         "texttemplate": "%{x:.0f}",
         "type": "bar",
         "x": [
          -39.15030972243049,
          0,
          -15.138976534695603,
          -15.118839563510878,
          -1.3122337212500015,
          -1.468613380709522,
          -2.8132689335231733,
          -0.48945842956981755,
          0
         ],
         "xaxis": "x",
         "y": [
          "loop_flow_from_fr",
          "loop_flow_from_lt",
          "loop_flow_from_hu",
          "loop_flow_from_dk",
          "loop_flow_from_lu",
          "loop_flow_from_bg",
          "loop_flow_from_cz",
          "loop_flow_from_ee",
          "loop_flow_from_ie"
         ],
         "yaxis": "y"
        }
       ],
       "layout": {
        "barmode": "relative",
        "height": 1000,
        "legend": {
         "title": {
          "text": "Impacted country"
         },
         "tracegroupgap": 0
        },
        "margin": {
         "t": 60
        },
        "template": {
         "data": {
          "bar": [
           {
            "error_x": {
             "color": "#2a3f5f"
            },
            "error_y": {
             "color": "#2a3f5f"
            },
            "marker": {
             "line": {
              "color": "#E5ECF6",
              "width": 0.5
             },
             "pattern": {
              "fillmode": "overlay",
              "size": 10,
              "solidity": 0.2
             }
            },
            "type": "bar"
           }
          ],
          "barpolar": [
           {
            "marker": {
             "line": {
              "color": "#E5ECF6",
              "width": 0.5
             },
             "pattern": {
              "fillmode": "overlay",
              "size": 10,
              "solidity": 0.2
             }
            },
            "type": "barpolar"
           }
          ],
          "carpet": [
           {
            "aaxis": {
             "endlinecolor": "#2a3f5f",
             "gridcolor": "white",
             "linecolor": "white",
             "minorgridcolor": "white",
             "startlinecolor": "#2a3f5f"
            },
            "baxis": {
             "endlinecolor": "#2a3f5f",
             "gridcolor": "white",
             "linecolor": "white",
             "minorgridcolor": "white",
             "startlinecolor": "#2a3f5f"
            },
            "type": "carpet"
           }
          ],
          "choropleth": [
           {
            "colorbar": {
             "outlinewidth": 0,
             "ticks": ""
            },
            "type": "choropleth"
           }
          ],
          "contour": [
           {
            "colorbar": {
             "outlinewidth": 0,
             "ticks": ""
            },
            "colorscale": [
             [
              0,
              "#0d0887"
             ],
             [
              0.1111111111111111,
              "#46039f"
             ],
             [
              0.2222222222222222,
              "#7201a8"
             ],
             [
              0.3333333333333333,
              "#9c179e"
             ],
             [
              0.4444444444444444,
              "#bd3786"
             ],
             [
              0.5555555555555556,
              "#d8576b"
             ],
             [
              0.6666666666666666,
              "#ed7953"
             ],
             [
              0.7777777777777778,
              "#fb9f3a"
             ],
             [
              0.8888888888888888,
              "#fdca26"
             ],
             [
              1,
              "#f0f921"
             ]
            ],
            "type": "contour"
           }
          ],
          "contourcarpet": [
           {
            "colorbar": {
             "outlinewidth": 0,
             "ticks": ""
            },
            "type": "contourcarpet"
           }
          ],
          "heatmap": [
           {
            "colorbar": {
             "outlinewidth": 0,
             "ticks": ""
            },
            "colorscale": [
             [
              0,
              "#0d0887"
             ],
             [
              0.1111111111111111,
              "#46039f"
             ],
             [
              0.2222222222222222,
              "#7201a8"
             ],
             [
              0.3333333333333333,
              "#9c179e"
             ],
             [
              0.4444444444444444,
              "#bd3786"
             ],
             [
              0.5555555555555556,
              "#d8576b"
             ],
             [
              0.6666666666666666,
              "#ed7953"
             ],
             [
              0.7777777777777778,
              "#fb9f3a"
             ],
             [
              0.8888888888888888,
              "#fdca26"
             ],
             [
              1,
              "#f0f921"
             ]
            ],
            "type": "heatmap"
           }
          ],
          "heatmapgl": [
           {
            "colorbar": {
             "outlinewidth": 0,
             "ticks": ""
            },
            "colorscale": [
             [
              0,
              "#0d0887"
             ],
             [
              0.1111111111111111,
              "#46039f"
             ],
             [
              0.2222222222222222,
              "#7201a8"
             ],
             [
              0.3333333333333333,
              "#9c179e"
             ],
             [
              0.4444444444444444,
              "#bd3786"
             ],
             [
              0.5555555555555556,
              "#d8576b"
             ],
             [
              0.6666666666666666,
              "#ed7953"
             ],
             [
              0.7777777777777778,
              "#fb9f3a"
             ],
             [
              0.8888888888888888,
              "#fdca26"
             ],
             [
              1,
              "#f0f921"
             ]
            ],
            "type": "heatmapgl"
           }
          ],
          "histogram": [
           {
            "marker": {
             "pattern": {
              "fillmode": "overlay",
              "size": 10,
              "solidity": 0.2
             }
            },
            "type": "histogram"
           }
          ],
          "histogram2d": [
           {
            "colorbar": {
             "outlinewidth": 0,
             "ticks": ""
            },
            "colorscale": [
             [
              0,
              "#0d0887"
             ],
             [
              0.1111111111111111,
              "#46039f"
             ],
             [
              0.2222222222222222,
              "#7201a8"
             ],
             [
              0.3333333333333333,
              "#9c179e"
             ],
             [
              0.4444444444444444,
              "#bd3786"
             ],
             [
              0.5555555555555556,
              "#d8576b"
             ],
             [
              0.6666666666666666,
              "#ed7953"
             ],
             [
              0.7777777777777778,
              "#fb9f3a"
             ],
             [
              0.8888888888888888,
              "#fdca26"
             ],
             [
              1,
              "#f0f921"
             ]
            ],
            "type": "histogram2d"
           }
          ],
          "histogram2dcontour": [
           {
            "colorbar": {
             "outlinewidth": 0,
             "ticks": ""
            },
            "colorscale": [
             [
              0,
              "#0d0887"
             ],
             [
              0.1111111111111111,
              "#46039f"
             ],
             [
              0.2222222222222222,
              "#7201a8"
             ],
             [
              0.3333333333333333,
              "#9c179e"
             ],
             [
              0.4444444444444444,
              "#bd3786"
             ],
             [
              0.5555555555555556,
              "#d8576b"
             ],
             [
              0.6666666666666666,
              "#ed7953"
             ],
             [
              0.7777777777777778,
              "#fb9f3a"
             ],
             [
              0.8888888888888888,
              "#fdca26"
             ],
             [
              1,
              "#f0f921"
             ]
            ],
            "type": "histogram2dcontour"
           }
          ],
          "mesh3d": [
           {
            "colorbar": {
             "outlinewidth": 0,
             "ticks": ""
            },
            "type": "mesh3d"
           }
          ],
          "parcoords": [
           {
            "line": {
             "colorbar": {
              "outlinewidth": 0,
              "ticks": ""
             }
            },
            "type": "parcoords"
           }
          ],
          "pie": [
           {
            "automargin": true,
            "type": "pie"
           }
          ],
          "scatter": [
           {
            "fillpattern": {
             "fillmode": "overlay",
             "size": 10,
             "solidity": 0.2
            },
            "type": "scatter"
           }
          ],
          "scatter3d": [
           {
            "line": {
             "colorbar": {
              "outlinewidth": 0,
              "ticks": ""
             }
            },
            "marker": {
             "colorbar": {
              "outlinewidth": 0,
              "ticks": ""
             }
            },
            "type": "scatter3d"
           }
          ],
          "scattercarpet": [
           {
            "marker": {
             "colorbar": {
              "outlinewidth": 0,
              "ticks": ""
             }
            },
            "type": "scattercarpet"
           }
          ],
          "scattergeo": [
           {
            "marker": {
             "colorbar": {
              "outlinewidth": 0,
              "ticks": ""
             }
            },
            "type": "scattergeo"
           }
          ],
          "scattergl": [
           {
            "marker": {
             "colorbar": {
              "outlinewidth": 0,
              "ticks": ""
             }
            },
            "type": "scattergl"
           }
          ],
          "scattermapbox": [
           {
            "marker": {
             "colorbar": {
              "outlinewidth": 0,
              "ticks": ""
             }
            },
            "type": "scattermapbox"
           }
          ],
          "scatterpolar": [
           {
            "marker": {
             "colorbar": {
              "outlinewidth": 0,
              "ticks": ""
             }
            },
            "type": "scatterpolar"
           }
          ],
          "scatterpolargl": [
           {
            "marker": {
             "colorbar": {
              "outlinewidth": 0,
              "ticks": ""
             }
            },
            "type": "scatterpolargl"
           }
          ],
          "scatterternary": [
           {
            "marker": {
             "colorbar": {
              "outlinewidth": 0,
              "ticks": ""
             }
            },
            "type": "scatterternary"
           }
          ],
          "surface": [
           {
            "colorbar": {
             "outlinewidth": 0,
             "ticks": ""
            },
            "colorscale": [
             [
              0,
              "#0d0887"
             ],
             [
              0.1111111111111111,
              "#46039f"
             ],
             [
              0.2222222222222222,
              "#7201a8"
             ],
             [
              0.3333333333333333,
              "#9c179e"
             ],
             [
              0.4444444444444444,
              "#bd3786"
             ],
             [
              0.5555555555555556,
              "#d8576b"
             ],
             [
              0.6666666666666666,
              "#ed7953"
             ],
             [
              0.7777777777777778,
              "#fb9f3a"
             ],
             [
              0.8888888888888888,
              "#fdca26"
             ],
             [
              1,
              "#f0f921"
             ]
            ],
            "type": "surface"
           }
          ],
          "table": [
           {
            "cells": {
             "fill": {
              "color": "#EBF0F8"
             },
             "line": {
              "color": "white"
             }
            },
            "header": {
             "fill": {
              "color": "#C8D4E3"
             },
             "line": {
              "color": "white"
             }
            },
            "type": "table"
           }
          ]
         },
         "layout": {
          "annotationdefaults": {
           "arrowcolor": "#2a3f5f",
           "arrowhead": 0,
           "arrowwidth": 1
          },
          "autotypenumbers": "strict",
          "coloraxis": {
           "colorbar": {
            "outlinewidth": 0,
            "ticks": ""
           }
          },
          "colorscale": {
           "diverging": [
            [
             0,
             "#8e0152"
            ],
            [
             0.1,
             "#c51b7d"
            ],
            [
             0.2,
             "#de77ae"
            ],
            [
             0.3,
             "#f1b6da"
            ],
            [
             0.4,
             "#fde0ef"
            ],
            [
             0.5,
             "#f7f7f7"
            ],
            [
             0.6,
             "#e6f5d0"
            ],
            [
             0.7,
             "#b8e186"
            ],
            [
             0.8,
             "#7fbc41"
            ],
            [
             0.9,
             "#4d9221"
            ],
            [
             1,
             "#276419"
            ]
           ],
           "sequential": [
            [
             0,
             "#0d0887"
            ],
            [
             0.1111111111111111,
             "#46039f"
            ],
            [
             0.2222222222222222,
             "#7201a8"
            ],
            [
             0.3333333333333333,
             "#9c179e"
            ],
            [
             0.4444444444444444,
             "#bd3786"
            ],
            [
             0.5555555555555556,
             "#d8576b"
            ],
            [
             0.6666666666666666,
             "#ed7953"
            ],
            [
             0.7777777777777778,
             "#fb9f3a"
            ],
            [
             0.8888888888888888,
             "#fdca26"
            ],
            [
             1,
             "#f0f921"
            ]
           ],
           "sequentialminus": [
            [
             0,
             "#0d0887"
            ],
            [
             0.1111111111111111,
             "#46039f"
            ],
            [
             0.2222222222222222,
             "#7201a8"
            ],
            [
             0.3333333333333333,
             "#9c179e"
            ],
            [
             0.4444444444444444,
             "#bd3786"
            ],
            [
             0.5555555555555556,
             "#d8576b"
            ],
            [
             0.6666666666666666,
             "#ed7953"
            ],
            [
             0.7777777777777778,
             "#fb9f3a"
            ],
            [
             0.8888888888888888,
             "#fdca26"
            ],
            [
             1,
             "#f0f921"
            ]
           ]
          },
          "colorway": [
           "#636efa",
           "#EF553B",
           "#00cc96",
           "#ab63fa",
           "#FFA15A",
           "#19d3f3",
           "#FF6692",
           "#B6E880",
           "#FF97FF",
           "#FECB52"
          ],
          "font": {
           "color": "#2a3f5f"
          },
          "geo": {
           "bgcolor": "white",
           "lakecolor": "white",
           "landcolor": "#E5ECF6",
           "showlakes": true,
           "showland": true,
           "subunitcolor": "white"
          },
          "hoverlabel": {
           "align": "left"
          },
          "hovermode": "closest",
          "mapbox": {
           "style": "light"
          },
          "paper_bgcolor": "white",
          "plot_bgcolor": "#E5ECF6",
          "polar": {
           "angularaxis": {
            "gridcolor": "white",
            "linecolor": "white",
            "ticks": ""
           },
           "bgcolor": "#E5ECF6",
           "radialaxis": {
            "gridcolor": "white",
            "linecolor": "white",
            "ticks": ""
           }
          },
          "scene": {
           "xaxis": {
            "backgroundcolor": "#E5ECF6",
            "gridcolor": "white",
            "gridwidth": 2,
            "linecolor": "white",
            "showbackground": true,
            "ticks": "",
            "zerolinecolor": "white"
           },
           "yaxis": {
            "backgroundcolor": "#E5ECF6",
            "gridcolor": "white",
            "gridwidth": 2,
            "linecolor": "white",
            "showbackground": true,
            "ticks": "",
            "zerolinecolor": "white"
           },
           "zaxis": {
            "backgroundcolor": "#E5ECF6",
            "gridcolor": "white",
            "gridwidth": 2,
            "linecolor": "white",
            "showbackground": true,
            "ticks": "",
            "zerolinecolor": "white"
           }
          },
          "shapedefaults": {
           "line": {
            "color": "#2a3f5f"
           }
          },
          "ternary": {
           "aaxis": {
            "gridcolor": "white",
            "linecolor": "white",
            "ticks": ""
           },
           "baxis": {
            "gridcolor": "white",
            "linecolor": "white",
            "ticks": ""
           },
           "bgcolor": "#E5ECF6",
           "caxis": {
            "gridcolor": "white",
            "linecolor": "white",
            "ticks": ""
           }
          },
          "title": {
           "x": 0.05
          },
          "xaxis": {
           "automargin": true,
           "gridcolor": "white",
           "linecolor": "white",
           "ticks": "",
           "title": {
            "standoff": 15
           },
           "zerolinecolor": "white",
           "zerolinewidth": 2
          },
          "yaxis": {
           "automargin": true,
           "gridcolor": "white",
           "linecolor": "white",
           "ticks": "",
           "title": {
            "standoff": 15
           },
           "zerolinecolor": "white",
           "zerolinewidth": 2
          }
         }
        },
        "xaxis": {
         "anchor": "y",
         "domain": [
          0,
          1
         ],
         "title": {
          "text": "Loop flow value per origin"
         }
        },
        "yaxis": {
         "anchor": "x",
         "domain": [
          0,
          1
         ],
         "title": {
          "text": "Origin of loop flow"
         }
        }
       }
      }
     },
     "metadata": {},
     "output_type": "display_data"
    }
   ],
   "source": [
    "threshold = .03\n",
    "df = df_lf_per_country.copy().transpose()\n",
    "df_p = df[[c for c in df.columns if ('loop_flow_from' in c)]].transpose()\n",
    "df_s = df_p.abs().sum(axis=1)\n",
    "df_p = df_p.reindex(df_s.sort_values(ascending=False).index)\n",
    "df_m = df_p.abs().div(df_p.abs().sum(axis=1), axis=0) > threshold\n",
    "df_f = df_p[df_m]\n",
    "df_f['masked_positive'] = df_p[df_p[df_m == False]>0].sum(axis=1)\n",
    "df_f['masked_negative'] = df_p[df_p[df_m == False]<0].sum(axis=1)\n",
    "fig = px.bar(df_f,\n",
    "    orientation='h',\n",
    "    color_discrete_sequence=colors[:df_f.columns.size],\n",
    "    text_auto='.0f',\n",
    "    title='',\n",
    "    height=1000,\n",
    "    labels={\n",
    "        'index':'Origin of loop flow',\n",
    "        'value': 'Loop flow value per origin',\n",
    "        'variable': 'Impacted country',\n",
    "    }\n",
    "    )\n",
    "fig.show()"
   ]
  },
  {
   "cell_type": "code",
   "execution_count": 19,
   "metadata": {},
   "outputs": [
    {
     "data": {
      "application/vnd.plotly.v1+json": {
       "config": {
        "plotlyServerURL": "https://plot.ly"
       },
       "data": [
        {
         "alignmentgroup": "True",
         "hovertemplate": "Impacted country=BG<br>Loop flow value normalized per origin=%{x}<br>Origin of loop flow=%{y}<extra></extra>",
         "legendgroup": "BG",
         "marker": {
          "color": "#0DF9FF",
          "pattern": {
           "shape": ""
          }
         },
         "name": "BG",
         "offsetgroup": "BG",
         "orientation": "h",
         "showlegend": true,
         "textposition": "auto",
         "texttemplate": "%{x:.2f}",
         "type": "bar",
         "x": [
          null,
          0.19125729435945893,
          0.41442388946264413,
          null,
          null,
          0.042268021322295055,
          0.49476630648993397,
          null,
          0.06294603279160858
         ],
         "xaxis": "x",
         "y": [
          "loop_flow_from_ie",
          "loop_flow_from_cz",
          "loop_flow_from_bg",
          "loop_flow_from_dk",
          "loop_flow_from_lu",
          "loop_flow_from_lt",
          "loop_flow_from_ee",
          "loop_flow_from_hu",
          "loop_flow_from_fr"
         ],
         "yaxis": "y"
        },
        {
         "alignmentgroup": "True",
         "hovertemplate": "Impacted country=CZ<br>Loop flow value normalized per origin=%{x}<br>Origin of loop flow=%{y}<extra></extra>",
         "legendgroup": "CZ",
         "marker": {
          "color": "#AF0038",
          "pattern": {
           "shape": ""
          }
         },
         "name": "CZ",
         "offsetgroup": "CZ",
         "orientation": "h",
         "showlegend": true,
         "textposition": "auto",
         "texttemplate": "%{x:.2f}",
         "type": "bar",
         "x": [
          null,
          null,
          0.15443852834924673,
          null,
          null,
          null,
          null,
          null,
          null
         ],
         "xaxis": "x",
         "y": [
          "loop_flow_from_ie",
          "loop_flow_from_cz",
          "loop_flow_from_bg",
          "loop_flow_from_dk",
          "loop_flow_from_lu",
          "loop_flow_from_lt",
          "loop_flow_from_ee",
          "loop_flow_from_hu",
          "loop_flow_from_fr"
         ],
         "yaxis": "y"
        },
        {
         "alignmentgroup": "True",
         "hovertemplate": "Impacted country=DK<br>Loop flow value normalized per origin=%{x}<br>Origin of loop flow=%{y}<extra></extra>",
         "legendgroup": "DK",
         "marker": {
          "color": "#FD3216",
          "pattern": {
           "shape": ""
          }
         },
         "name": "DK",
         "offsetgroup": "DK",
         "orientation": "h",
         "showlegend": true,
         "textposition": "auto",
         "texttemplate": "%{x:.2f}",
         "type": "bar",
         "x": [
          null,
          0.06931211071086868,
          null,
          0.3059676959636164,
          0.15639398994606427,
          0.5302158901666878,
          null,
          -0.41143790798546664,
          null
         ],
         "xaxis": "x",
         "y": [
          "loop_flow_from_ie",
          "loop_flow_from_cz",
          "loop_flow_from_bg",
          "loop_flow_from_dk",
          "loop_flow_from_lu",
          "loop_flow_from_lt",
          "loop_flow_from_ee",
          "loop_flow_from_hu",
          "loop_flow_from_fr"
         ],
         "yaxis": "y"
        },
        {
         "alignmentgroup": "True",
         "hovertemplate": "Impacted country=EE<br>Loop flow value normalized per origin=%{x}<br>Origin of loop flow=%{y}<extra></extra>",
         "legendgroup": "EE",
         "marker": {
          "color": "#00A08B",
          "pattern": {
           "shape": ""
          }
         },
         "name": "EE",
         "offsetgroup": "EE",
         "orientation": "h",
         "showlegend": true,
         "textposition": "auto",
         "texttemplate": "%{x:.2f}",
         "type": "bar",
         "x": [
          null,
          null,
          0.06167443249953031,
          null,
          0.05850072883957268,
          null,
          -0.19335779276052714,
          null,
          null
         ],
         "xaxis": "x",
         "y": [
          "loop_flow_from_ie",
          "loop_flow_from_cz",
          "loop_flow_from_bg",
          "loop_flow_from_dk",
          "loop_flow_from_lu",
          "loop_flow_from_lt",
          "loop_flow_from_ee",
          "loop_flow_from_hu",
          "loop_flow_from_fr"
         ],
         "yaxis": "y"
        },
        {
         "alignmentgroup": "True",
         "hovertemplate": "Impacted country=FR<br>Loop flow value normalized per origin=%{x}<br>Origin of loop flow=%{y}<extra></extra>",
         "legendgroup": "FR",
         "marker": {
          "color": "#6C4516",
          "pattern": {
           "shape": ""
          }
         },
         "name": "FR",
         "offsetgroup": "FR",
         "orientation": "h",
         "showlegend": true,
         "textposition": "auto",
         "texttemplate": "%{x:.2f}",
         "type": "bar",
         "x": [
          null,
          null,
          null,
          null,
          -0.0978396721124668,
          null,
          null,
          0.03786096938979992,
          0.15524357327660787
         ],
         "xaxis": "x",
         "y": [
          "loop_flow_from_ie",
          "loop_flow_from_cz",
          "loop_flow_from_bg",
          "loop_flow_from_dk",
          "loop_flow_from_lu",
          "loop_flow_from_lt",
          "loop_flow_from_ee",
          "loop_flow_from_hu",
          "loop_flow_from_fr"
         ],
         "yaxis": "y"
        },
        {
         "alignmentgroup": "True",
         "hovertemplate": "Impacted country=HU<br>Loop flow value normalized per origin=%{x}<br>Origin of loop flow=%{y}<extra></extra>",
         "legendgroup": "HU",
         "marker": {
          "color": "#511CFB",
          "pattern": {
           "shape": ""
          }
         },
         "name": "HU",
         "offsetgroup": "HU",
         "orientation": "h",
         "showlegend": true,
         "textposition": "auto",
         "texttemplate": "%{x:.2f}",
         "type": "bar",
         "x": [
          null,
          null,
          null,
          0.5813591666120392,
          0.08979806778891126,
          -0.11059110640801495,
          null,
          0.49696321414748035,
          0.07285704495950311
         ],
         "xaxis": "x",
         "y": [
          "loop_flow_from_ie",
          "loop_flow_from_cz",
          "loop_flow_from_bg",
          "loop_flow_from_dk",
          "loop_flow_from_lu",
          "loop_flow_from_lt",
          "loop_flow_from_ee",
          "loop_flow_from_hu",
          "loop_flow_from_fr"
         ],
         "yaxis": "y"
        },
        {
         "alignmentgroup": "True",
         "hovertemplate": "Impacted country=IE<br>Loop flow value normalized per origin=%{x}<br>Origin of loop flow=%{y}<extra></extra>",
         "legendgroup": "IE",
         "marker": {
          "color": "#F6F926",
          "pattern": {
           "shape": ""
          }
         },
         "name": "IE",
         "offsetgroup": "IE",
         "orientation": "h",
         "showlegend": true,
         "textposition": "auto",
         "texttemplate": "%{x:.2f}",
         "type": "bar",
         "x": [
          null,
          0.056158282742559865,
          0.15879224380752865,
          null,
          null,
          null,
          null,
          null,
          null
         ],
         "xaxis": "x",
         "y": [
          "loop_flow_from_ie",
          "loop_flow_from_cz",
          "loop_flow_from_bg",
          "loop_flow_from_dk",
          "loop_flow_from_lu",
          "loop_flow_from_lt",
          "loop_flow_from_ee",
          "loop_flow_from_hu",
          "loop_flow_from_fr"
         ],
         "yaxis": "y"
        },
        {
         "alignmentgroup": "True",
         "hovertemplate": "Impacted country=LT<br>Loop flow value normalized per origin=%{x}<br>Origin of loop flow=%{y}<extra></extra>",
         "legendgroup": "LT",
         "marker": {
          "color": "#C9FBE5",
          "pattern": {
           "shape": ""
          }
         },
         "name": "LT",
         "offsetgroup": "LT",
         "orientation": "h",
         "showlegend": true,
         "textposition": "auto",
         "texttemplate": "%{x:.2f}",
         "type": "bar",
         "x": [
          null,
          0.5902475100977855,
          0.13567279706183866,
          -0.08484723347501309,
          0.3929110222914772,
          0.24290209066876892,
          0.10763281993460998,
          0.04634454677605405,
          -0.5591841713928664
         ],
         "xaxis": "x",
         "y": [
          "loop_flow_from_ie",
          "loop_flow_from_cz",
          "loop_flow_from_bg",
          "loop_flow_from_dk",
          "loop_flow_from_lu",
          "loop_flow_from_lt",
          "loop_flow_from_ee",
          "loop_flow_from_hu",
          "loop_flow_from_fr"
         ],
         "yaxis": "y"
        },
        {
         "alignmentgroup": "True",
         "hovertemplate": "Impacted country=LU<br>Loop flow value normalized per origin=%{x}<br>Origin of loop flow=%{y}<extra></extra>",
         "legendgroup": "LU",
         "marker": {
          "color": "#FC0080",
          "pattern": {
           "shape": ""
          }
         },
         "name": "LU",
         "offsetgroup": "LU",
         "orientation": "h",
         "showlegend": true,
         "textposition": "auto",
         "texttemplate": "%{x:.2f}",
         "type": "bar",
         "x": [
          null,
          0.060400360105738134,
          -0.06902711794643421,
          null,
          0.1845560060390874,
          0.03931286426082146,
          -0.1602918071762429,
          null,
          0.1117970301356117
         ],
         "xaxis": "x",
         "y": [
          "loop_flow_from_ie",
          "loop_flow_from_cz",
          "loop_flow_from_bg",
          "loop_flow_from_dk",
          "loop_flow_from_lu",
          "loop_flow_from_lt",
          "loop_flow_from_ee",
          "loop_flow_from_hu",
          "loop_flow_from_fr"
         ],
         "yaxis": "y"
        },
        {
         "alignmentgroup": "True",
         "hovertemplate": "Impacted country=masked_positive<br>Loop flow value normalized per origin=%{x}<br>Origin of loop flow=%{y}<extra></extra>",
         "legendgroup": "masked_positive",
         "marker": {
          "color": "#FB0D0D",
          "pattern": {
           "shape": ""
          }
         },
         "name": "masked_positive",
         "offsetgroup": "masked_positive",
         "orientation": "h",
         "showlegend": true,
         "textposition": "auto",
         "texttemplate": "%{x:.2f}",
         "type": "bar",
         "x": [
          0,
          0.019041332755582258,
          0.004319024339702536,
          0.02048480154840222,
          0.019053060138519456,
          0.03471002717341172,
          0.03705355013427629,
          0.0007655457418653075,
          0.026529246849377647
         ],
         "xaxis": "x",
         "y": [
          "loop_flow_from_ie",
          "loop_flow_from_cz",
          "loop_flow_from_bg",
          "loop_flow_from_dk",
          "loop_flow_from_lu",
          "loop_flow_from_lt",
          "loop_flow_from_ee",
          "loop_flow_from_hu",
          "loop_flow_from_fr"
         ],
         "yaxis": "y"
        },
        {
         "alignmentgroup": "True",
         "hovertemplate": "Impacted country=masked_negative<br>Loop flow value normalized per origin=%{x}<br>Origin of loop flow=%{y}<extra></extra>",
         "legendgroup": "masked_negative",
         "marker": {
          "color": "#D626FF",
          "pattern": {
           "shape": ""
          }
         },
         "name": "masked_negative",
         "offsetgroup": "masked_negative",
         "orientation": "h",
         "showlegend": true,
         "textposition": "auto",
         "texttemplate": "%{x:.2f}",
         "type": "bar",
         "x": [
          0,
          -0.013583109228006528,
          -0.001651966533075051,
          -0.00734110240092915,
          -0.0009474528439008936,
          0,
          -0.0068977235044097905,
          -0.006627815959333691,
          -0.011442900594424689
         ],
         "xaxis": "x",
         "y": [
          "loop_flow_from_ie",
          "loop_flow_from_cz",
          "loop_flow_from_bg",
          "loop_flow_from_dk",
          "loop_flow_from_lu",
          "loop_flow_from_lt",
          "loop_flow_from_ee",
          "loop_flow_from_hu",
          "loop_flow_from_fr"
         ],
         "yaxis": "y"
        }
       ],
       "layout": {
        "barmode": "relative",
        "height": 1000,
        "legend": {
         "title": {
          "text": "Impacted country"
         },
         "tracegroupgap": 0
        },
        "margin": {
         "t": 60
        },
        "template": {
         "data": {
          "bar": [
           {
            "error_x": {
             "color": "#2a3f5f"
            },
            "error_y": {
             "color": "#2a3f5f"
            },
            "marker": {
             "line": {
              "color": "#E5ECF6",
              "width": 0.5
             },
             "pattern": {
              "fillmode": "overlay",
              "size": 10,
              "solidity": 0.2
             }
            },
            "type": "bar"
           }
          ],
          "barpolar": [
           {
            "marker": {
             "line": {
              "color": "#E5ECF6",
              "width": 0.5
             },
             "pattern": {
              "fillmode": "overlay",
              "size": 10,
              "solidity": 0.2
             }
            },
            "type": "barpolar"
           }
          ],
          "carpet": [
           {
            "aaxis": {
             "endlinecolor": "#2a3f5f",
             "gridcolor": "white",
             "linecolor": "white",
             "minorgridcolor": "white",
             "startlinecolor": "#2a3f5f"
            },
            "baxis": {
             "endlinecolor": "#2a3f5f",
             "gridcolor": "white",
             "linecolor": "white",
             "minorgridcolor": "white",
             "startlinecolor": "#2a3f5f"
            },
            "type": "carpet"
           }
          ],
          "choropleth": [
           {
            "colorbar": {
             "outlinewidth": 0,
             "ticks": ""
            },
            "type": "choropleth"
           }
          ],
          "contour": [
           {
            "colorbar": {
             "outlinewidth": 0,
             "ticks": ""
            },
            "colorscale": [
             [
              0,
              "#0d0887"
             ],
             [
              0.1111111111111111,
              "#46039f"
             ],
             [
              0.2222222222222222,
              "#7201a8"
             ],
             [
              0.3333333333333333,
              "#9c179e"
             ],
             [
              0.4444444444444444,
              "#bd3786"
             ],
             [
              0.5555555555555556,
              "#d8576b"
             ],
             [
              0.6666666666666666,
              "#ed7953"
             ],
             [
              0.7777777777777778,
              "#fb9f3a"
             ],
             [
              0.8888888888888888,
              "#fdca26"
             ],
             [
              1,
              "#f0f921"
             ]
            ],
            "type": "contour"
           }
          ],
          "contourcarpet": [
           {
            "colorbar": {
             "outlinewidth": 0,
             "ticks": ""
            },
            "type": "contourcarpet"
           }
          ],
          "heatmap": [
           {
            "colorbar": {
             "outlinewidth": 0,
             "ticks": ""
            },
            "colorscale": [
             [
              0,
              "#0d0887"
             ],
             [
              0.1111111111111111,
              "#46039f"
             ],
             [
              0.2222222222222222,
              "#7201a8"
             ],
             [
              0.3333333333333333,
              "#9c179e"
             ],
             [
              0.4444444444444444,
              "#bd3786"
             ],
             [
              0.5555555555555556,
              "#d8576b"
             ],
             [
              0.6666666666666666,
              "#ed7953"
             ],
             [
              0.7777777777777778,
              "#fb9f3a"
             ],
             [
              0.8888888888888888,
              "#fdca26"
             ],
             [
              1,
              "#f0f921"
             ]
            ],
            "type": "heatmap"
           }
          ],
          "heatmapgl": [
           {
            "colorbar": {
             "outlinewidth": 0,
             "ticks": ""
            },
            "colorscale": [
             [
              0,
              "#0d0887"
             ],
             [
              0.1111111111111111,
              "#46039f"
             ],
             [
              0.2222222222222222,
              "#7201a8"
             ],
             [
              0.3333333333333333,
              "#9c179e"
             ],
             [
              0.4444444444444444,
              "#bd3786"
             ],
             [
              0.5555555555555556,
              "#d8576b"
             ],
             [
              0.6666666666666666,
              "#ed7953"
             ],
             [
              0.7777777777777778,
              "#fb9f3a"
             ],
             [
              0.8888888888888888,
              "#fdca26"
             ],
             [
              1,
              "#f0f921"
             ]
            ],
            "type": "heatmapgl"
           }
          ],
          "histogram": [
           {
            "marker": {
             "pattern": {
              "fillmode": "overlay",
              "size": 10,
              "solidity": 0.2
             }
            },
            "type": "histogram"
           }
          ],
          "histogram2d": [
           {
            "colorbar": {
             "outlinewidth": 0,
             "ticks": ""
            },
            "colorscale": [
             [
              0,
              "#0d0887"
             ],
             [
              0.1111111111111111,
              "#46039f"
             ],
             [
              0.2222222222222222,
              "#7201a8"
             ],
             [
              0.3333333333333333,
              "#9c179e"
             ],
             [
              0.4444444444444444,
              "#bd3786"
             ],
             [
              0.5555555555555556,
              "#d8576b"
             ],
             [
              0.6666666666666666,
              "#ed7953"
             ],
             [
              0.7777777777777778,
              "#fb9f3a"
             ],
             [
              0.8888888888888888,
              "#fdca26"
             ],
             [
              1,
              "#f0f921"
             ]
            ],
            "type": "histogram2d"
           }
          ],
          "histogram2dcontour": [
           {
            "colorbar": {
             "outlinewidth": 0,
             "ticks": ""
            },
            "colorscale": [
             [
              0,
              "#0d0887"
             ],
             [
              0.1111111111111111,
              "#46039f"
             ],
             [
              0.2222222222222222,
              "#7201a8"
             ],
             [
              0.3333333333333333,
              "#9c179e"
             ],
             [
              0.4444444444444444,
              "#bd3786"
             ],
             [
              0.5555555555555556,
              "#d8576b"
             ],
             [
              0.6666666666666666,
              "#ed7953"
             ],
             [
              0.7777777777777778,
              "#fb9f3a"
             ],
             [
              0.8888888888888888,
              "#fdca26"
             ],
             [
              1,
              "#f0f921"
             ]
            ],
            "type": "histogram2dcontour"
           }
          ],
          "mesh3d": [
           {
            "colorbar": {
             "outlinewidth": 0,
             "ticks": ""
            },
            "type": "mesh3d"
           }
          ],
          "parcoords": [
           {
            "line": {
             "colorbar": {
              "outlinewidth": 0,
              "ticks": ""
             }
            },
            "type": "parcoords"
           }
          ],
          "pie": [
           {
            "automargin": true,
            "type": "pie"
           }
          ],
          "scatter": [
           {
            "fillpattern": {
             "fillmode": "overlay",
             "size": 10,
             "solidity": 0.2
            },
            "type": "scatter"
           }
          ],
          "scatter3d": [
           {
            "line": {
             "colorbar": {
              "outlinewidth": 0,
              "ticks": ""
             }
            },
            "marker": {
             "colorbar": {
              "outlinewidth": 0,
              "ticks": ""
             }
            },
            "type": "scatter3d"
           }
          ],
          "scattercarpet": [
           {
            "marker": {
             "colorbar": {
              "outlinewidth": 0,
              "ticks": ""
             }
            },
            "type": "scattercarpet"
           }
          ],
          "scattergeo": [
           {
            "marker": {
             "colorbar": {
              "outlinewidth": 0,
              "ticks": ""
             }
            },
            "type": "scattergeo"
           }
          ],
          "scattergl": [
           {
            "marker": {
             "colorbar": {
              "outlinewidth": 0,
              "ticks": ""
             }
            },
            "type": "scattergl"
           }
          ],
          "scattermapbox": [
           {
            "marker": {
             "colorbar": {
              "outlinewidth": 0,
              "ticks": ""
             }
            },
            "type": "scattermapbox"
           }
          ],
          "scatterpolar": [
           {
            "marker": {
             "colorbar": {
              "outlinewidth": 0,
              "ticks": ""
             }
            },
            "type": "scatterpolar"
           }
          ],
          "scatterpolargl": [
           {
            "marker": {
             "colorbar": {
              "outlinewidth": 0,
              "ticks": ""
             }
            },
            "type": "scatterpolargl"
           }
          ],
          "scatterternary": [
           {
            "marker": {
             "colorbar": {
              "outlinewidth": 0,
              "ticks": ""
             }
            },
            "type": "scatterternary"
           }
          ],
          "surface": [
           {
            "colorbar": {
             "outlinewidth": 0,
             "ticks": ""
            },
            "colorscale": [
             [
              0,
              "#0d0887"
             ],
             [
              0.1111111111111111,
              "#46039f"
             ],
             [
              0.2222222222222222,
              "#7201a8"
             ],
             [
              0.3333333333333333,
              "#9c179e"
             ],
             [
              0.4444444444444444,
              "#bd3786"
             ],
             [
              0.5555555555555556,
              "#d8576b"
             ],
             [
              0.6666666666666666,
              "#ed7953"
             ],
             [
              0.7777777777777778,
              "#fb9f3a"
             ],
             [
              0.8888888888888888,
              "#fdca26"
             ],
             [
              1,
              "#f0f921"
             ]
            ],
            "type": "surface"
           }
          ],
          "table": [
           {
            "cells": {
             "fill": {
              "color": "#EBF0F8"
             },
             "line": {
              "color": "white"
             }
            },
            "header": {
             "fill": {
              "color": "#C8D4E3"
             },
             "line": {
              "color": "white"
             }
            },
            "type": "table"
           }
          ]
         },
         "layout": {
          "annotationdefaults": {
           "arrowcolor": "#2a3f5f",
           "arrowhead": 0,
           "arrowwidth": 1
          },
          "autotypenumbers": "strict",
          "coloraxis": {
           "colorbar": {
            "outlinewidth": 0,
            "ticks": ""
           }
          },
          "colorscale": {
           "diverging": [
            [
             0,
             "#8e0152"
            ],
            [
             0.1,
             "#c51b7d"
            ],
            [
             0.2,
             "#de77ae"
            ],
            [
             0.3,
             "#f1b6da"
            ],
            [
             0.4,
             "#fde0ef"
            ],
            [
             0.5,
             "#f7f7f7"
            ],
            [
             0.6,
             "#e6f5d0"
            ],
            [
             0.7,
             "#b8e186"
            ],
            [
             0.8,
             "#7fbc41"
            ],
            [
             0.9,
             "#4d9221"
            ],
            [
             1,
             "#276419"
            ]
           ],
           "sequential": [
            [
             0,
             "#0d0887"
            ],
            [
             0.1111111111111111,
             "#46039f"
            ],
            [
             0.2222222222222222,
             "#7201a8"
            ],
            [
             0.3333333333333333,
             "#9c179e"
            ],
            [
             0.4444444444444444,
             "#bd3786"
            ],
            [
             0.5555555555555556,
             "#d8576b"
            ],
            [
             0.6666666666666666,
             "#ed7953"
            ],
            [
             0.7777777777777778,
             "#fb9f3a"
            ],
            [
             0.8888888888888888,
             "#fdca26"
            ],
            [
             1,
             "#f0f921"
            ]
           ],
           "sequentialminus": [
            [
             0,
             "#0d0887"
            ],
            [
             0.1111111111111111,
             "#46039f"
            ],
            [
             0.2222222222222222,
             "#7201a8"
            ],
            [
             0.3333333333333333,
             "#9c179e"
            ],
            [
             0.4444444444444444,
             "#bd3786"
            ],
            [
             0.5555555555555556,
             "#d8576b"
            ],
            [
             0.6666666666666666,
             "#ed7953"
            ],
            [
             0.7777777777777778,
             "#fb9f3a"
            ],
            [
             0.8888888888888888,
             "#fdca26"
            ],
            [
             1,
             "#f0f921"
            ]
           ]
          },
          "colorway": [
           "#636efa",
           "#EF553B",
           "#00cc96",
           "#ab63fa",
           "#FFA15A",
           "#19d3f3",
           "#FF6692",
           "#B6E880",
           "#FF97FF",
           "#FECB52"
          ],
          "font": {
           "color": "#2a3f5f"
          },
          "geo": {
           "bgcolor": "white",
           "lakecolor": "white",
           "landcolor": "#E5ECF6",
           "showlakes": true,
           "showland": true,
           "subunitcolor": "white"
          },
          "hoverlabel": {
           "align": "left"
          },
          "hovermode": "closest",
          "mapbox": {
           "style": "light"
          },
          "paper_bgcolor": "white",
          "plot_bgcolor": "#E5ECF6",
          "polar": {
           "angularaxis": {
            "gridcolor": "white",
            "linecolor": "white",
            "ticks": ""
           },
           "bgcolor": "#E5ECF6",
           "radialaxis": {
            "gridcolor": "white",
            "linecolor": "white",
            "ticks": ""
           }
          },
          "scene": {
           "xaxis": {
            "backgroundcolor": "#E5ECF6",
            "gridcolor": "white",
            "gridwidth": 2,
            "linecolor": "white",
            "showbackground": true,
            "ticks": "",
            "zerolinecolor": "white"
           },
           "yaxis": {
            "backgroundcolor": "#E5ECF6",
            "gridcolor": "white",
            "gridwidth": 2,
            "linecolor": "white",
            "showbackground": true,
            "ticks": "",
            "zerolinecolor": "white"
           },
           "zaxis": {
            "backgroundcolor": "#E5ECF6",
            "gridcolor": "white",
            "gridwidth": 2,
            "linecolor": "white",
            "showbackground": true,
            "ticks": "",
            "zerolinecolor": "white"
           }
          },
          "shapedefaults": {
           "line": {
            "color": "#2a3f5f"
           }
          },
          "ternary": {
           "aaxis": {
            "gridcolor": "white",
            "linecolor": "white",
            "ticks": ""
           },
           "baxis": {
            "gridcolor": "white",
            "linecolor": "white",
            "ticks": ""
           },
           "bgcolor": "#E5ECF6",
           "caxis": {
            "gridcolor": "white",
            "linecolor": "white",
            "ticks": ""
           }
          },
          "title": {
           "x": 0.05
          },
          "xaxis": {
           "automargin": true,
           "gridcolor": "white",
           "linecolor": "white",
           "ticks": "",
           "title": {
            "standoff": 15
           },
           "zerolinecolor": "white",
           "zerolinewidth": 2
          },
          "yaxis": {
           "automargin": true,
           "gridcolor": "white",
           "linecolor": "white",
           "ticks": "",
           "title": {
            "standoff": 15
           },
           "zerolinecolor": "white",
           "zerolinewidth": 2
          }
         }
        },
        "xaxis": {
         "anchor": "y",
         "domain": [
          0,
          1
         ],
         "title": {
          "text": "Loop flow value normalized per origin"
         }
        },
        "yaxis": {
         "anchor": "x",
         "domain": [
          0,
          1
         ],
         "title": {
          "text": "Origin of loop flow"
         }
        }
       }
      }
     },
     "metadata": {},
     "output_type": "display_data"
    }
   ],
   "source": [
    "threshold = .03\n",
    "df = df_lf_per_country.copy().transpose()\n",
    "df_p = df[[c for c in df.columns if ('loop_flow_from' in c)]].transpose()\n",
    "df_m = df_p.div(df_p.abs().sum(axis=1), axis=0)\n",
    "df_s = df_m[df_m < 0].sum(axis=1)\n",
    "df_m = df_m.reindex(df_s.sort_values(ascending=False).index)\n",
    "df_n = df_m.abs() > threshold\n",
    "df_f = df_m[df_n]\n",
    "df_f['masked_positive'] = df_m[df_p[df_n == False]>0].sum(axis=1)\n",
    "df_f['masked_negative'] = df_m[df_p[df_n == False]<0].sum(axis=1)\n",
    "fig = px.bar(df_f,\n",
    "    orientation='h',\n",
    "    color_discrete_sequence=colors[:df_f.columns.size],\n",
    "    text_auto='.2f',\n",
    "    height=1000,\n",
    "    labels={\n",
    "        'index':'Origin of loop flow',\n",
    "        'value': 'Loop flow value normalized per origin',\n",
    "        'variable': 'Impacted country',\n",
    "    }\n",
    "    )\n",
    "fig.show()"
   ]
  },
  {
   "cell_type": "markdown",
   "metadata": {},
   "source": [
    "# Loop flow repartition for visited countries\n",
    "\n",
    "Loop flow are sum for visited countries"
   ]
  },
  {
   "cell_type": "code",
   "execution_count": 20,
   "metadata": {},
   "outputs": [
    {
     "data": {
      "application/vnd.plotly.v1+json": {
       "config": {
        "plotlyServerURL": "https://plot.ly"
       },
       "data": [
        {
         "alignmentgroup": "True",
         "hovertemplate": "Origin country=loop_flow_from_bg<br>Loop flow value per origin=%{x}<br>Destination of loop flow=%{y}<extra></extra>",
         "legendgroup": "loop_flow_from_bg",
         "marker": {
          "color": "#0DF9FF",
          "pattern": {
           "shape": ""
          }
         },
         "name": "loop_flow_from_bg",
         "offsetgroup": "loop_flow_from_bg",
         "orientation": "h",
         "showlegend": true,
         "textposition": "auto",
         "texttemplate": "%{x:.0f}",
         "type": "bar",
         "x": [
          120.61435941587052,
          null,
          null,
          -61.36574017588896,
          368.42663405389476,
          null,
          54.829135459466016,
          141.16775935801027,
          137.2972664334758
         ],
         "xaxis": "x",
         "y": [
          "LT",
          "DK",
          "HU",
          "LU",
          "BG",
          "FR",
          "EE",
          "IE",
          "CZ"
         ],
         "yaxis": "y"
        },
        {
         "alignmentgroup": "True",
         "hovertemplate": "Origin country=loop_flow_from_cz<br>Loop flow value per origin=%{x}<br>Destination of loop flow=%{y}<extra></extra>",
         "legendgroup": "loop_flow_from_cz",
         "marker": {
          "color": "#AF0038",
          "pattern": {
           "shape": ""
          }
         },
         "name": "loop_flow_from_cz",
         "offsetgroup": "loop_flow_from_cz",
         "orientation": "h",
         "showlegend": true,
         "textposition": "auto",
         "texttemplate": "%{x:.0f}",
         "type": "bar",
         "x": [
          122.24925496614048,
          null,
          null,
          null,
          39.61230050493592,
          null,
          null,
          11.631236232268801,
          null
         ],
         "xaxis": "x",
         "y": [
          "LT",
          "DK",
          "HU",
          "LU",
          "BG",
          "FR",
          "EE",
          "IE",
          "CZ"
         ],
         "yaxis": "y"
        },
        {
         "alignmentgroup": "True",
         "hovertemplate": "Origin country=loop_flow_from_dk<br>Loop flow value per origin=%{x}<br>Destination of loop flow=%{y}<extra></extra>",
         "legendgroup": "loop_flow_from_dk",
         "marker": {
          "color": "#FD3216",
          "pattern": {
           "shape": ""
          }
         },
         "name": "loop_flow_from_dk",
         "offsetgroup": "loop_flow_from_dk",
         "orientation": "h",
         "showlegend": true,
         "textposition": "auto",
         "texttemplate": "%{x:.0f}",
         "type": "bar",
         "x": [
          -174.74101848165364,
          630.133766599619,
          1197.296467036251,
          null,
          null,
          30.261884264971098,
          null,
          null,
          null
         ],
         "xaxis": "x",
         "y": [
          "LT",
          "DK",
          "HU",
          "LU",
          "BG",
          "FR",
          "EE",
          "IE",
          "CZ"
         ],
         "yaxis": "y"
        },
        {
         "alignmentgroup": "True",
         "hovertemplate": "Origin country=loop_flow_from_ee<br>Loop flow value per origin=%{x}<br>Destination of loop flow=%{y}<extra></extra>",
         "legendgroup": "loop_flow_from_ee",
         "marker": {
          "color": "#00A08B",
          "pattern": {
           "shape": ""
          }
         },
         "name": "loop_flow_from_ee",
         "offsetgroup": "loop_flow_from_ee",
         "orientation": "h",
         "showlegend": true,
         "textposition": "auto",
         "texttemplate": "%{x:.0f}",
         "type": "bar",
         "x": [
          null,
          null,
          null,
          null,
          35.10832801920833,
          null,
          -13.720555996358664,
          null,
          null
         ],
         "xaxis": "x",
         "y": [
          "LT",
          "DK",
          "HU",
          "LU",
          "BG",
          "FR",
          "EE",
          "IE",
          "CZ"
         ],
         "yaxis": "y"
        },
        {
         "alignmentgroup": "True",
         "hovertemplate": "Origin country=loop_flow_from_fr<br>Loop flow value per origin=%{x}<br>Destination of loop flow=%{y}<extra></extra>",
         "legendgroup": "loop_flow_from_fr",
         "marker": {
          "color": "#6C4516",
          "pattern": {
           "shape": ""
          }
         },
         "name": "loop_flow_from_fr",
         "offsetgroup": "loop_flow_from_fr",
         "orientation": "h",
         "showlegend": true,
         "textposition": "auto",
         "texttemplate": "%{x:.0f}",
         "type": "bar",
         "x": [
          -1913.1716928990804,
          null,
          249.270353446516,
          382.4981541821345,
          215.36118917177762,
          531.144522845661,
          39.95068841234235,
          24.841628761743834,
          25.97385022249137
         ],
         "xaxis": "x",
         "y": [
          "LT",
          "DK",
          "HU",
          "LU",
          "BG",
          "FR",
          "EE",
          "IE",
          "CZ"
         ],
         "yaxis": "y"
        },
        {
         "alignmentgroup": "True",
         "hovertemplate": "Origin country=loop_flow_from_hu<br>Loop flow value per origin=%{x}<br>Destination of loop flow=%{y}<extra></extra>",
         "legendgroup": "loop_flow_from_hu",
         "marker": {
          "color": "#511CFB",
          "pattern": {
           "shape": ""
          }
         },
         "name": "loop_flow_from_hu",
         "offsetgroup": "loop_flow_from_hu",
         "orientation": "h",
         "showlegend": true,
         "textposition": "auto",
         "texttemplate": "%{x:.0f}",
         "type": "bar",
         "x": [
          null,
          -939.7890455459203,
          1135.1423279927594,
          null,
          null,
          86.480422916063,
          null,
          null,
          null
         ],
         "xaxis": "x",
         "y": [
          "LT",
          "DK",
          "HU",
          "LU",
          "BG",
          "FR",
          "EE",
          "IE",
          "CZ"
         ],
         "yaxis": "y"
        },
        {
         "alignmentgroup": "True",
         "hovertemplate": "Origin country=loop_flow_from_ie<br>Loop flow value per origin=%{x}<br>Destination of loop flow=%{y}<extra></extra>",
         "legendgroup": "loop_flow_from_ie",
         "marker": {
          "color": "#F6F926",
          "pattern": {
           "shape": ""
          }
         },
         "name": "loop_flow_from_ie",
         "offsetgroup": "loop_flow_from_ie",
         "orientation": "h",
         "showlegend": true,
         "textposition": "auto",
         "texttemplate": "%{x:.0f}",
         "type": "bar",
         "x": [
          null,
          null,
          null,
          null,
          null,
          null,
          null,
          null,
          null
         ],
         "xaxis": "x",
         "y": [
          "LT",
          "DK",
          "HU",
          "LU",
          "BG",
          "FR",
          "EE",
          "IE",
          "CZ"
         ],
         "yaxis": "y"
        },
        {
         "alignmentgroup": "True",
         "hovertemplate": "Origin country=loop_flow_from_lt<br>Loop flow value per origin=%{x}<br>Destination of loop flow=%{y}<extra></extra>",
         "legendgroup": "loop_flow_from_lt",
         "marker": {
          "color": "#C9FBE5",
          "pattern": {
           "shape": ""
          }
         },
         "name": "loop_flow_from_lt",
         "offsetgroup": "loop_flow_from_lt",
         "orientation": "h",
         "showlegend": true,
         "textposition": "auto",
         "texttemplate": "%{x:.0f}",
         "type": "bar",
         "x": [
          621.8156739745821,
          1357.3228216698203,
          -283.1070048732861,
          100.63871874840562,
          108.20375441698174,
          null,
          50.267229301340805,
          25.263436333758087,
          7.477469083996971
         ],
         "xaxis": "x",
         "y": [
          "LT",
          "DK",
          "HU",
          "LU",
          "BG",
          "FR",
          "EE",
          "IE",
          "CZ"
         ],
         "yaxis": "y"
        },
        {
         "alignmentgroup": "True",
         "hovertemplate": "Origin country=loop_flow_from_lu<br>Loop flow value per origin=%{x}<br>Destination of loop flow=%{y}<extra></extra>",
         "legendgroup": "loop_flow_from_lu",
         "marker": {
          "color": "#FC0080",
          "pattern": {
           "shape": ""
          }
         },
         "name": "loop_flow_from_lu",
         "offsetgroup": "loop_flow_from_lu",
         "orientation": "h",
         "showlegend": true,
         "textposition": "auto",
         "texttemplate": "%{x:.0f}",
         "type": "bar",
         "x": [
          544.1865484079118,
          216.60757971140401,
          124.37141691458041,
          255.6123147898242,
          null,
          -135.50913678554764,
          81.02422151684391,
          null,
          7.418791816410961
         ],
         "xaxis": "x",
         "y": [
          "LT",
          "DK",
          "HU",
          "LU",
          "BG",
          "FR",
          "EE",
          "IE",
          "CZ"
         ],
         "yaxis": "y"
        },
        {
         "alignmentgroup": "True",
         "hovertemplate": "Origin country=masked_positive<br>Loop flow value per origin=%{x}<br>Destination of loop flow=%{y}<extra></extra>",
         "legendgroup": "masked_positive",
         "marker": {
          "color": "#FB0D0D",
          "pattern": {
           "shape": ""
          }
         },
         "name": "masked_positive",
         "offsetgroup": "masked_positive",
         "orientation": "h",
         "showlegend": true,
         "textposition": "auto",
         "texttemplate": "%{x:.0f}",
         "type": "bar",
         "x": [
          113.49581312625997,
          17.61668013726553,
          0.7582319610358861,
          12.509835105259148,
          26.376581472594076,
          7.743666549472501,
          3.2894598319915227,
          5.740946944240684,
          1.7349798270867574
         ],
         "xaxis": "x",
         "y": [
          "LT",
          "DK",
          "HU",
          "LU",
          "BG",
          "FR",
          "EE",
          "IE",
          "CZ"
         ],
         "yaxis": "y"
        },
        {
         "alignmentgroup": "True",
         "hovertemplate": "Origin country=masked_negative<br>Loop flow value per origin=%{x}<br>Destination of loop flow=%{y}<extra></extra>",
         "legendgroup": "masked_negative",
         "marker": {
          "color": "#D626FF",
          "pattern": {
           "shape": ""
          }
         },
         "name": "masked_negative",
         "offsetgroup": "masked_negative",
         "orientation": "h",
         "showlegend": true,
         "textposition": "auto",
         "texttemplate": "%{x:.0f}",
         "type": "bar",
         "x": [
          0,
          -39.15030972243049,
          -2.8132689335231733,
          -39.915890855440004,
          -1.2007324811820492,
          -1.9580718102793395,
          -0.5154057411615265,
          -1.3122337212500015,
          0
         ],
         "xaxis": "x",
         "y": [
          "LT",
          "DK",
          "HU",
          "LU",
          "BG",
          "FR",
          "EE",
          "IE",
          "CZ"
         ],
         "yaxis": "y"
        }
       ],
       "layout": {
        "barmode": "relative",
        "height": 1000,
        "legend": {
         "title": {
          "text": "Origin country"
         },
         "tracegroupgap": 0
        },
        "margin": {
         "t": 60
        },
        "template": {
         "data": {
          "bar": [
           {
            "error_x": {
             "color": "#2a3f5f"
            },
            "error_y": {
             "color": "#2a3f5f"
            },
            "marker": {
             "line": {
              "color": "#E5ECF6",
              "width": 0.5
             },
             "pattern": {
              "fillmode": "overlay",
              "size": 10,
              "solidity": 0.2
             }
            },
            "type": "bar"
           }
          ],
          "barpolar": [
           {
            "marker": {
             "line": {
              "color": "#E5ECF6",
              "width": 0.5
             },
             "pattern": {
              "fillmode": "overlay",
              "size": 10,
              "solidity": 0.2
             }
            },
            "type": "barpolar"
           }
          ],
          "carpet": [
           {
            "aaxis": {
             "endlinecolor": "#2a3f5f",
             "gridcolor": "white",
             "linecolor": "white",
             "minorgridcolor": "white",
             "startlinecolor": "#2a3f5f"
            },
            "baxis": {
             "endlinecolor": "#2a3f5f",
             "gridcolor": "white",
             "linecolor": "white",
             "minorgridcolor": "white",
             "startlinecolor": "#2a3f5f"
            },
            "type": "carpet"
           }
          ],
          "choropleth": [
           {
            "colorbar": {
             "outlinewidth": 0,
             "ticks": ""
            },
            "type": "choropleth"
           }
          ],
          "contour": [
           {
            "colorbar": {
             "outlinewidth": 0,
             "ticks": ""
            },
            "colorscale": [
             [
              0,
              "#0d0887"
             ],
             [
              0.1111111111111111,
              "#46039f"
             ],
             [
              0.2222222222222222,
              "#7201a8"
             ],
             [
              0.3333333333333333,
              "#9c179e"
             ],
             [
              0.4444444444444444,
              "#bd3786"
             ],
             [
              0.5555555555555556,
              "#d8576b"
             ],
             [
              0.6666666666666666,
              "#ed7953"
             ],
             [
              0.7777777777777778,
              "#fb9f3a"
             ],
             [
              0.8888888888888888,
              "#fdca26"
             ],
             [
              1,
              "#f0f921"
             ]
            ],
            "type": "contour"
           }
          ],
          "contourcarpet": [
           {
            "colorbar": {
             "outlinewidth": 0,
             "ticks": ""
            },
            "type": "contourcarpet"
           }
          ],
          "heatmap": [
           {
            "colorbar": {
             "outlinewidth": 0,
             "ticks": ""
            },
            "colorscale": [
             [
              0,
              "#0d0887"
             ],
             [
              0.1111111111111111,
              "#46039f"
             ],
             [
              0.2222222222222222,
              "#7201a8"
             ],
             [
              0.3333333333333333,
              "#9c179e"
             ],
             [
              0.4444444444444444,
              "#bd3786"
             ],
             [
              0.5555555555555556,
              "#d8576b"
             ],
             [
              0.6666666666666666,
              "#ed7953"
             ],
             [
              0.7777777777777778,
              "#fb9f3a"
             ],
             [
              0.8888888888888888,
              "#fdca26"
             ],
             [
              1,
              "#f0f921"
             ]
            ],
            "type": "heatmap"
           }
          ],
          "heatmapgl": [
           {
            "colorbar": {
             "outlinewidth": 0,
             "ticks": ""
            },
            "colorscale": [
             [
              0,
              "#0d0887"
             ],
             [
              0.1111111111111111,
              "#46039f"
             ],
             [
              0.2222222222222222,
              "#7201a8"
             ],
             [
              0.3333333333333333,
              "#9c179e"
             ],
             [
              0.4444444444444444,
              "#bd3786"
             ],
             [
              0.5555555555555556,
              "#d8576b"
             ],
             [
              0.6666666666666666,
              "#ed7953"
             ],
             [
              0.7777777777777778,
              "#fb9f3a"
             ],
             [
              0.8888888888888888,
              "#fdca26"
             ],
             [
              1,
              "#f0f921"
             ]
            ],
            "type": "heatmapgl"
           }
          ],
          "histogram": [
           {
            "marker": {
             "pattern": {
              "fillmode": "overlay",
              "size": 10,
              "solidity": 0.2
             }
            },
            "type": "histogram"
           }
          ],
          "histogram2d": [
           {
            "colorbar": {
             "outlinewidth": 0,
             "ticks": ""
            },
            "colorscale": [
             [
              0,
              "#0d0887"
             ],
             [
              0.1111111111111111,
              "#46039f"
             ],
             [
              0.2222222222222222,
              "#7201a8"
             ],
             [
              0.3333333333333333,
              "#9c179e"
             ],
             [
              0.4444444444444444,
              "#bd3786"
             ],
             [
              0.5555555555555556,
              "#d8576b"
             ],
             [
              0.6666666666666666,
              "#ed7953"
             ],
             [
              0.7777777777777778,
              "#fb9f3a"
             ],
             [
              0.8888888888888888,
              "#fdca26"
             ],
             [
              1,
              "#f0f921"
             ]
            ],
            "type": "histogram2d"
           }
          ],
          "histogram2dcontour": [
           {
            "colorbar": {
             "outlinewidth": 0,
             "ticks": ""
            },
            "colorscale": [
             [
              0,
              "#0d0887"
             ],
             [
              0.1111111111111111,
              "#46039f"
             ],
             [
              0.2222222222222222,
              "#7201a8"
             ],
             [
              0.3333333333333333,
              "#9c179e"
             ],
             [
              0.4444444444444444,
              "#bd3786"
             ],
             [
              0.5555555555555556,
              "#d8576b"
             ],
             [
              0.6666666666666666,
              "#ed7953"
             ],
             [
              0.7777777777777778,
              "#fb9f3a"
             ],
             [
              0.8888888888888888,
              "#fdca26"
             ],
             [
              1,
              "#f0f921"
             ]
            ],
            "type": "histogram2dcontour"
           }
          ],
          "mesh3d": [
           {
            "colorbar": {
             "outlinewidth": 0,
             "ticks": ""
            },
            "type": "mesh3d"
           }
          ],
          "parcoords": [
           {
            "line": {
             "colorbar": {
              "outlinewidth": 0,
              "ticks": ""
             }
            },
            "type": "parcoords"
           }
          ],
          "pie": [
           {
            "automargin": true,
            "type": "pie"
           }
          ],
          "scatter": [
           {
            "fillpattern": {
             "fillmode": "overlay",
             "size": 10,
             "solidity": 0.2
            },
            "type": "scatter"
           }
          ],
          "scatter3d": [
           {
            "line": {
             "colorbar": {
              "outlinewidth": 0,
              "ticks": ""
             }
            },
            "marker": {
             "colorbar": {
              "outlinewidth": 0,
              "ticks": ""
             }
            },
            "type": "scatter3d"
           }
          ],
          "scattercarpet": [
           {
            "marker": {
             "colorbar": {
              "outlinewidth": 0,
              "ticks": ""
             }
            },
            "type": "scattercarpet"
           }
          ],
          "scattergeo": [
           {
            "marker": {
             "colorbar": {
              "outlinewidth": 0,
              "ticks": ""
             }
            },
            "type": "scattergeo"
           }
          ],
          "scattergl": [
           {
            "marker": {
             "colorbar": {
              "outlinewidth": 0,
              "ticks": ""
             }
            },
            "type": "scattergl"
           }
          ],
          "scattermapbox": [
           {
            "marker": {
             "colorbar": {
              "outlinewidth": 0,
              "ticks": ""
             }
            },
            "type": "scattermapbox"
           }
          ],
          "scatterpolar": [
           {
            "marker": {
             "colorbar": {
              "outlinewidth": 0,
              "ticks": ""
             }
            },
            "type": "scatterpolar"
           }
          ],
          "scatterpolargl": [
           {
            "marker": {
             "colorbar": {
              "outlinewidth": 0,
              "ticks": ""
             }
            },
            "type": "scatterpolargl"
           }
          ],
          "scatterternary": [
           {
            "marker": {
             "colorbar": {
              "outlinewidth": 0,
              "ticks": ""
             }
            },
            "type": "scatterternary"
           }
          ],
          "surface": [
           {
            "colorbar": {
             "outlinewidth": 0,
             "ticks": ""
            },
            "colorscale": [
             [
              0,
              "#0d0887"
             ],
             [
              0.1111111111111111,
              "#46039f"
             ],
             [
              0.2222222222222222,
              "#7201a8"
             ],
             [
              0.3333333333333333,
              "#9c179e"
             ],
             [
              0.4444444444444444,
              "#bd3786"
             ],
             [
              0.5555555555555556,
              "#d8576b"
             ],
             [
              0.6666666666666666,
              "#ed7953"
             ],
             [
              0.7777777777777778,
              "#fb9f3a"
             ],
             [
              0.8888888888888888,
              "#fdca26"
             ],
             [
              1,
              "#f0f921"
             ]
            ],
            "type": "surface"
           }
          ],
          "table": [
           {
            "cells": {
             "fill": {
              "color": "#EBF0F8"
             },
             "line": {
              "color": "white"
             }
            },
            "header": {
             "fill": {
              "color": "#C8D4E3"
             },
             "line": {
              "color": "white"
             }
            },
            "type": "table"
           }
          ]
         },
         "layout": {
          "annotationdefaults": {
           "arrowcolor": "#2a3f5f",
           "arrowhead": 0,
           "arrowwidth": 1
          },
          "autotypenumbers": "strict",
          "coloraxis": {
           "colorbar": {
            "outlinewidth": 0,
            "ticks": ""
           }
          },
          "colorscale": {
           "diverging": [
            [
             0,
             "#8e0152"
            ],
            [
             0.1,
             "#c51b7d"
            ],
            [
             0.2,
             "#de77ae"
            ],
            [
             0.3,
             "#f1b6da"
            ],
            [
             0.4,
             "#fde0ef"
            ],
            [
             0.5,
             "#f7f7f7"
            ],
            [
             0.6,
             "#e6f5d0"
            ],
            [
             0.7,
             "#b8e186"
            ],
            [
             0.8,
             "#7fbc41"
            ],
            [
             0.9,
             "#4d9221"
            ],
            [
             1,
             "#276419"
            ]
           ],
           "sequential": [
            [
             0,
             "#0d0887"
            ],
            [
             0.1111111111111111,
             "#46039f"
            ],
            [
             0.2222222222222222,
             "#7201a8"
            ],
            [
             0.3333333333333333,
             "#9c179e"
            ],
            [
             0.4444444444444444,
             "#bd3786"
            ],
            [
             0.5555555555555556,
             "#d8576b"
            ],
            [
             0.6666666666666666,
             "#ed7953"
            ],
            [
             0.7777777777777778,
             "#fb9f3a"
            ],
            [
             0.8888888888888888,
             "#fdca26"
            ],
            [
             1,
             "#f0f921"
            ]
           ],
           "sequentialminus": [
            [
             0,
             "#0d0887"
            ],
            [
             0.1111111111111111,
             "#46039f"
            ],
            [
             0.2222222222222222,
             "#7201a8"
            ],
            [
             0.3333333333333333,
             "#9c179e"
            ],
            [
             0.4444444444444444,
             "#bd3786"
            ],
            [
             0.5555555555555556,
             "#d8576b"
            ],
            [
             0.6666666666666666,
             "#ed7953"
            ],
            [
             0.7777777777777778,
             "#fb9f3a"
            ],
            [
             0.8888888888888888,
             "#fdca26"
            ],
            [
             1,
             "#f0f921"
            ]
           ]
          },
          "colorway": [
           "#636efa",
           "#EF553B",
           "#00cc96",
           "#ab63fa",
           "#FFA15A",
           "#19d3f3",
           "#FF6692",
           "#B6E880",
           "#FF97FF",
           "#FECB52"
          ],
          "font": {
           "color": "#2a3f5f"
          },
          "geo": {
           "bgcolor": "white",
           "lakecolor": "white",
           "landcolor": "#E5ECF6",
           "showlakes": true,
           "showland": true,
           "subunitcolor": "white"
          },
          "hoverlabel": {
           "align": "left"
          },
          "hovermode": "closest",
          "mapbox": {
           "style": "light"
          },
          "paper_bgcolor": "white",
          "plot_bgcolor": "#E5ECF6",
          "polar": {
           "angularaxis": {
            "gridcolor": "white",
            "linecolor": "white",
            "ticks": ""
           },
           "bgcolor": "#E5ECF6",
           "radialaxis": {
            "gridcolor": "white",
            "linecolor": "white",
            "ticks": ""
           }
          },
          "scene": {
           "xaxis": {
            "backgroundcolor": "#E5ECF6",
            "gridcolor": "white",
            "gridwidth": 2,
            "linecolor": "white",
            "showbackground": true,
            "ticks": "",
            "zerolinecolor": "white"
           },
           "yaxis": {
            "backgroundcolor": "#E5ECF6",
            "gridcolor": "white",
            "gridwidth": 2,
            "linecolor": "white",
            "showbackground": true,
            "ticks": "",
            "zerolinecolor": "white"
           },
           "zaxis": {
            "backgroundcolor": "#E5ECF6",
            "gridcolor": "white",
            "gridwidth": 2,
            "linecolor": "white",
            "showbackground": true,
            "ticks": "",
            "zerolinecolor": "white"
           }
          },
          "shapedefaults": {
           "line": {
            "color": "#2a3f5f"
           }
          },
          "ternary": {
           "aaxis": {
            "gridcolor": "white",
            "linecolor": "white",
            "ticks": ""
           },
           "baxis": {
            "gridcolor": "white",
            "linecolor": "white",
            "ticks": ""
           },
           "bgcolor": "#E5ECF6",
           "caxis": {
            "gridcolor": "white",
            "linecolor": "white",
            "ticks": ""
           }
          },
          "title": {
           "x": 0.05
          },
          "xaxis": {
           "automargin": true,
           "gridcolor": "white",
           "linecolor": "white",
           "ticks": "",
           "title": {
            "standoff": 15
           },
           "zerolinecolor": "white",
           "zerolinewidth": 2
          },
          "yaxis": {
           "automargin": true,
           "gridcolor": "white",
           "linecolor": "white",
           "ticks": "",
           "title": {
            "standoff": 15
           },
           "zerolinecolor": "white",
           "zerolinewidth": 2
          }
         }
        },
        "xaxis": {
         "anchor": "y",
         "domain": [
          0,
          1
         ],
         "title": {
          "text": "Loop flow value per origin"
         }
        },
        "yaxis": {
         "anchor": "x",
         "domain": [
          0,
          1
         ],
         "title": {
          "text": "Destination of loop flow"
         }
        }
       }
      }
     },
     "metadata": {},
     "output_type": "display_data"
    }
   ],
   "source": [
    "threshold = .03\n",
    "df = df_lf_per_country.copy().transpose()\n",
    "df_p = df[[c for c in df.columns if ('loop_flow_from' in c)]]\n",
    "df_s = df_p.abs().sum(axis=1)\n",
    "df_p = df_p.reindex(df_s.sort_values(ascending=False).index)\n",
    "df_m = df_p.abs().div(df_p.abs().sum(axis=1), axis=0) > threshold\n",
    "df_f = df_p[df_m]\n",
    "df_f['masked_positive'] = df_p[df_p[df_m == False]>0].sum(axis=1)\n",
    "df_f['masked_negative'] = df_p[df_p[df_m == False]<0].sum(axis=1)\n",
    "fig = px.bar(df_f,\n",
    "    orientation='h',\n",
    "    color_discrete_sequence=colors[:df_f.columns.size],\n",
    "    text_auto='.0f',\n",
    "    title='',\n",
    "    height=1000,\n",
    "    labels={\n",
    "        'index':'Destination of loop flow',\n",
    "        'value': 'Loop flow value per origin',\n",
    "        'variable': 'Origin country',\n",
    "    }\n",
    "    )\n",
    "fig.show()"
   ]
  },
  {
   "cell_type": "code",
   "execution_count": 21,
   "metadata": {},
   "outputs": [
    {
     "data": {
      "application/vnd.plotly.v1+json": {
       "config": {
        "plotlyServerURL": "https://plot.ly"
       },
       "data": [
        {
         "alignmentgroup": "True",
         "hovertemplate": "Origin country=loop_flow_from_bg<br>Loop flow value normalized per origin=%{x}<br>Destination of loop flow=%{y}<extra></extra>",
         "legendgroup": "loop_flow_from_bg",
         "marker": {
          "color": "#0DF9FF",
          "pattern": {
           "shape": ""
          }
         },
         "name": "loop_flow_from_bg",
         "offsetgroup": "loop_flow_from_bg",
         "orientation": "h",
         "showlegend": true,
         "textposition": "auto",
         "texttemplate": "%{x:.2f}",
         "type": "bar",
         "x": [
          0.7631765832886042,
          0.46384425920408345,
          0.6723643273719134,
          0.22508160538046157,
          null,
          -0.07197984037273311,
          null,
          null,
          0.03340864082512318
         ],
         "xaxis": "x",
         "y": [
          "CZ",
          "BG",
          "IE",
          "EE",
          "HU",
          "LU",
          "FR",
          "DK",
          "LT"
         ],
         "yaxis": "y"
        },
        {
         "alignmentgroup": "True",
         "hovertemplate": "Origin country=loop_flow_from_cz<br>Loop flow value normalized per origin=%{x}<br>Destination of loop flow=%{y}<extra></extra>",
         "legendgroup": "loop_flow_from_cz",
         "marker": {
          "color": "#AF0038",
          "pattern": {
           "shape": ""
          }
         },
         "name": "loop_flow_from_cz",
         "offsetgroup": "loop_flow_from_cz",
         "orientation": "h",
         "showlegend": true,
         "textposition": "auto",
         "texttemplate": "%{x:.2f}",
         "type": "bar",
         "x": [
          null,
          0.0498713623955692,
          0.05539811895703569,
          null,
          null,
          null,
          null,
          null,
          0.03386148606254003
         ],
         "xaxis": "x",
         "y": [
          "CZ",
          "BG",
          "IE",
          "EE",
          "HU",
          "LU",
          "FR",
          "DK",
          "LT"
         ],
         "yaxis": "y"
        },
        {
         "alignmentgroup": "True",
         "hovertemplate": "Origin country=loop_flow_from_dk<br>Loop flow value normalized per origin=%{x}<br>Destination of loop flow=%{y}<extra></extra>",
         "legendgroup": "loop_flow_from_dk",
         "marker": {
          "color": "#FD3216",
          "pattern": {
           "shape": ""
          }
         },
         "name": "loop_flow_from_dk",
         "offsetgroup": "loop_flow_from_dk",
         "orientation": "h",
         "showlegend": true,
         "textposition": "auto",
         "texttemplate": "%{x:.2f}",
         "type": "bar",
         "x": [
          null,
          null,
          null,
          null,
          0.4000644350475548,
          null,
          0.03815656515915448,
          0.19687864431177976,
          -0.048401035765080126
         ],
         "xaxis": "x",
         "y": [
          "CZ",
          "BG",
          "IE",
          "EE",
          "HU",
          "LU",
          "FR",
          "DK",
          "LT"
         ],
         "yaxis": "y"
        },
        {
         "alignmentgroup": "True",
         "hovertemplate": "Origin country=loop_flow_from_ee<br>Loop flow value normalized per origin=%{x}<br>Destination of loop flow=%{y}<extra></extra>",
         "legendgroup": "loop_flow_from_ee",
         "marker": {
          "color": "#00A08B",
          "pattern": {
           "shape": ""
          }
         },
         "name": "loop_flow_from_ee",
         "offsetgroup": "loop_flow_from_ee",
         "orientation": "h",
         "showlegend": true,
         "textposition": "auto",
         "texttemplate": "%{x:.2f}",
         "type": "bar",
         "x": [
          null,
          0.04420092060874583,
          null,
          -0.05632488538244413,
          null,
          null,
          null,
          null,
          null
         ],
         "xaxis": "x",
         "y": [
          "CZ",
          "BG",
          "IE",
          "EE",
          "HU",
          "LU",
          "FR",
          "DK",
          "LT"
         ],
         "yaxis": "y"
        },
        {
         "alignmentgroup": "True",
         "hovertemplate": "Origin country=loop_flow_from_fr<br>Loop flow value normalized per origin=%{x}<br>Destination of loop flow=%{y}<extra></extra>",
         "legendgroup": "loop_flow_from_fr",
         "marker": {
          "color": "#6C4516",
          "pattern": {
           "shape": ""
          }
         },
         "name": "loop_flow_from_fr",
         "offsetgroup": "loop_flow_from_fr",
         "orientation": "h",
         "showlegend": true,
         "textposition": "auto",
         "texttemplate": "%{x:.2f}",
         "type": "bar",
         "x": [
          0.14437748676704726,
          0.27113688864872026,
          0.11831756124182555,
          0.16400340819804338,
          0.08329115291932565,
          0.4486567912646588,
          0.6697088131537018,
          null,
          -0.529924183442192
         ],
         "xaxis": "x",
         "y": [
          "CZ",
          "BG",
          "IE",
          "EE",
          "HU",
          "LU",
          "FR",
          "DK",
          "LT"
         ],
         "yaxis": "y"
        },
        {
         "alignmentgroup": "True",
         "hovertemplate": "Origin country=loop_flow_from_hu<br>Loop flow value normalized per origin=%{x}<br>Destination of loop flow=%{y}<extra></extra>",
         "legendgroup": "loop_flow_from_hu",
         "marker": {
          "color": "#511CFB",
          "pattern": {
           "shape": ""
          }
         },
         "name": "loop_flow_from_hu",
         "offsetgroup": "loop_flow_from_hu",
         "orientation": "h",
         "showlegend": true,
         "textposition": "auto",
         "texttemplate": "%{x:.2f}",
         "type": "bar",
         "x": [
          null,
          null,
          null,
          null,
          0.3792962617447025,
          null,
          0.10904132284345533,
          -0.2936271678069031,
          null
         ],
         "xaxis": "x",
         "y": [
          "CZ",
          "BG",
          "IE",
          "EE",
          "HU",
          "LU",
          "FR",
          "DK",
          "LT"
         ],
         "yaxis": "y"
        },
        {
         "alignmentgroup": "True",
         "hovertemplate": "Origin country=loop_flow_from_ie<br>Loop flow value normalized per origin=%{x}<br>Destination of loop flow=%{y}<extra></extra>",
         "legendgroup": "loop_flow_from_ie",
         "marker": {
          "color": "#F6F926",
          "pattern": {
           "shape": ""
          }
         },
         "name": "loop_flow_from_ie",
         "offsetgroup": "loop_flow_from_ie",
         "orientation": "h",
         "showlegend": true,
         "textposition": "auto",
         "texttemplate": "%{x:.2f}",
         "type": "bar",
         "x": [
          null,
          null,
          null,
          null,
          null,
          null,
          null,
          null,
          null
         ],
         "xaxis": "x",
         "y": [
          "CZ",
          "BG",
          "IE",
          "EE",
          "HU",
          "LU",
          "FR",
          "DK",
          "LT"
         ],
         "yaxis": "y"
        },
        {
         "alignmentgroup": "True",
         "hovertemplate": "Origin country=loop_flow_from_lt<br>Loop flow value normalized per origin=%{x}<br>Destination of loop flow=%{y}<extra></extra>",
         "legendgroup": "loop_flow_from_lt",
         "marker": {
          "color": "#C9FBE5",
          "pattern": {
           "shape": ""
          }
         },
         "name": "loop_flow_from_lt",
         "offsetgroup": "loop_flow_from_lt",
         "orientation": "h",
         "showlegend": true,
         "textposition": "auto",
         "texttemplate": "%{x:.2f}",
         "type": "bar",
         "x": [
          0.041564041698790785,
          0.13622709563202626,
          0.12032657778871636,
          0.20635431462416415,
          -0.09459732579266626,
          0.11804565365077799,
          null,
          0.424081189087567,
          0.17223501921210924
         ],
         "xaxis": "x",
         "y": [
          "CZ",
          "BG",
          "IE",
          "EE",
          "HU",
          "LU",
          "FR",
          "DK",
          "LT"
         ],
         "yaxis": "y"
        },
        {
         "alignmentgroup": "True",
         "hovertemplate": "Origin country=loop_flow_from_lu<br>Loop flow value normalized per origin=%{x}<br>Destination of loop flow=%{y}<extra></extra>",
         "legendgroup": "loop_flow_from_lu",
         "marker": {
          "color": "#FC0080",
          "pattern": {
           "shape": ""
          }
         },
         "name": "loop_flow_from_lu",
         "offsetgroup": "loop_flow_from_lu",
         "orientation": "h",
         "showlegend": true,
         "textposition": "auto",
         "texttemplate": "%{x:.2f}",
         "type": "bar",
         "x": [
          0.041237879949498416,
          null,
          null,
          0.3326162577776851,
          0.04155744380267098,
          0.2998241944632394,
          -0.17086058363535492,
          0.06767675198769896,
          0.15073274049351065
         ],
         "xaxis": "x",
         "y": [
          "CZ",
          "BG",
          "IE",
          "EE",
          "HU",
          "LU",
          "FR",
          "DK",
          "LT"
         ],
         "yaxis": "y"
        },
        {
         "alignmentgroup": "True",
         "hovertemplate": "Origin country=masked_positive<br>Loop flow value normalized per origin=%{x}<br>Destination of loop flow=%{y}<extra></extra>",
         "legendgroup": "masked_positive",
         "marker": {
          "color": "#FB0D0D",
          "pattern": {
           "shape": ""
          }
         },
         "name": "masked_positive",
         "offsetgroup": "masked_positive",
         "orientation": "h",
         "showlegend": true,
         "textposition": "auto",
         "texttemplate": "%{x:.2f}",
         "type": "bar",
         "x": [
          0.009644008296059443,
          0.033207767198779194,
          0.027343410054791673,
          0.013503712827399122,
          0.0002533554967197919,
          0.01467359362707666,
          0.009763824178249485,
          0.005504145764819569,
          0.03143689419944472
         ],
         "xaxis": "x",
         "y": [
          "CZ",
          "BG",
          "IE",
          "EE",
          "HU",
          "LU",
          "FR",
          "DK",
          "LT"
         ],
         "yaxis": "y"
        },
        {
         "alignmentgroup": "True",
         "hovertemplate": "Origin country=masked_negative<br>Loop flow value normalized per origin=%{x}<br>Destination of loop flow=%{y}<extra></extra>",
         "legendgroup": "masked_negative",
         "marker": {
          "color": "#D626FF",
          "pattern": {
           "shape": ""
          }
         },
         "name": "masked_negative",
         "offsetgroup": "masked_negative",
         "orientation": "h",
         "showlegend": true,
         "textposition": "auto",
         "texttemplate": "%{x:.2f}",
         "type": "bar",
         "x": [
          0,
          -0.0015117063120759495,
          -0.006250004585717298,
          -0.002115815809802536,
          -0.0009400251963599158,
          -0.04681992662151391,
          -0.002468891030083997,
          -0.012232101041231626,
          0
         ],
         "xaxis": "x",
         "y": [
          "CZ",
          "BG",
          "IE",
          "EE",
          "HU",
          "LU",
          "FR",
          "DK",
          "LT"
         ],
         "yaxis": "y"
        }
       ],
       "layout": {
        "barmode": "relative",
        "height": 1000,
        "legend": {
         "title": {
          "text": "Origin country"
         },
         "tracegroupgap": 0
        },
        "margin": {
         "t": 60
        },
        "template": {
         "data": {
          "bar": [
           {
            "error_x": {
             "color": "#2a3f5f"
            },
            "error_y": {
             "color": "#2a3f5f"
            },
            "marker": {
             "line": {
              "color": "#E5ECF6",
              "width": 0.5
             },
             "pattern": {
              "fillmode": "overlay",
              "size": 10,
              "solidity": 0.2
             }
            },
            "type": "bar"
           }
          ],
          "barpolar": [
           {
            "marker": {
             "line": {
              "color": "#E5ECF6",
              "width": 0.5
             },
             "pattern": {
              "fillmode": "overlay",
              "size": 10,
              "solidity": 0.2
             }
            },
            "type": "barpolar"
           }
          ],
          "carpet": [
           {
            "aaxis": {
             "endlinecolor": "#2a3f5f",
             "gridcolor": "white",
             "linecolor": "white",
             "minorgridcolor": "white",
             "startlinecolor": "#2a3f5f"
            },
            "baxis": {
             "endlinecolor": "#2a3f5f",
             "gridcolor": "white",
             "linecolor": "white",
             "minorgridcolor": "white",
             "startlinecolor": "#2a3f5f"
            },
            "type": "carpet"
           }
          ],
          "choropleth": [
           {
            "colorbar": {
             "outlinewidth": 0,
             "ticks": ""
            },
            "type": "choropleth"
           }
          ],
          "contour": [
           {
            "colorbar": {
             "outlinewidth": 0,
             "ticks": ""
            },
            "colorscale": [
             [
              0,
              "#0d0887"
             ],
             [
              0.1111111111111111,
              "#46039f"
             ],
             [
              0.2222222222222222,
              "#7201a8"
             ],
             [
              0.3333333333333333,
              "#9c179e"
             ],
             [
              0.4444444444444444,
              "#bd3786"
             ],
             [
              0.5555555555555556,
              "#d8576b"
             ],
             [
              0.6666666666666666,
              "#ed7953"
             ],
             [
              0.7777777777777778,
              "#fb9f3a"
             ],
             [
              0.8888888888888888,
              "#fdca26"
             ],
             [
              1,
              "#f0f921"
             ]
            ],
            "type": "contour"
           }
          ],
          "contourcarpet": [
           {
            "colorbar": {
             "outlinewidth": 0,
             "ticks": ""
            },
            "type": "contourcarpet"
           }
          ],
          "heatmap": [
           {
            "colorbar": {
             "outlinewidth": 0,
             "ticks": ""
            },
            "colorscale": [
             [
              0,
              "#0d0887"
             ],
             [
              0.1111111111111111,
              "#46039f"
             ],
             [
              0.2222222222222222,
              "#7201a8"
             ],
             [
              0.3333333333333333,
              "#9c179e"
             ],
             [
              0.4444444444444444,
              "#bd3786"
             ],
             [
              0.5555555555555556,
              "#d8576b"
             ],
             [
              0.6666666666666666,
              "#ed7953"
             ],
             [
              0.7777777777777778,
              "#fb9f3a"
             ],
             [
              0.8888888888888888,
              "#fdca26"
             ],
             [
              1,
              "#f0f921"
             ]
            ],
            "type": "heatmap"
           }
          ],
          "heatmapgl": [
           {
            "colorbar": {
             "outlinewidth": 0,
             "ticks": ""
            },
            "colorscale": [
             [
              0,
              "#0d0887"
             ],
             [
              0.1111111111111111,
              "#46039f"
             ],
             [
              0.2222222222222222,
              "#7201a8"
             ],
             [
              0.3333333333333333,
              "#9c179e"
             ],
             [
              0.4444444444444444,
              "#bd3786"
             ],
             [
              0.5555555555555556,
              "#d8576b"
             ],
             [
              0.6666666666666666,
              "#ed7953"
             ],
             [
              0.7777777777777778,
              "#fb9f3a"
             ],
             [
              0.8888888888888888,
              "#fdca26"
             ],
             [
              1,
              "#f0f921"
             ]
            ],
            "type": "heatmapgl"
           }
          ],
          "histogram": [
           {
            "marker": {
             "pattern": {
              "fillmode": "overlay",
              "size": 10,
              "solidity": 0.2
             }
            },
            "type": "histogram"
           }
          ],
          "histogram2d": [
           {
            "colorbar": {
             "outlinewidth": 0,
             "ticks": ""
            },
            "colorscale": [
             [
              0,
              "#0d0887"
             ],
             [
              0.1111111111111111,
              "#46039f"
             ],
             [
              0.2222222222222222,
              "#7201a8"
             ],
             [
              0.3333333333333333,
              "#9c179e"
             ],
             [
              0.4444444444444444,
              "#bd3786"
             ],
             [
              0.5555555555555556,
              "#d8576b"
             ],
             [
              0.6666666666666666,
              "#ed7953"
             ],
             [
              0.7777777777777778,
              "#fb9f3a"
             ],
             [
              0.8888888888888888,
              "#fdca26"
             ],
             [
              1,
              "#f0f921"
             ]
            ],
            "type": "histogram2d"
           }
          ],
          "histogram2dcontour": [
           {
            "colorbar": {
             "outlinewidth": 0,
             "ticks": ""
            },
            "colorscale": [
             [
              0,
              "#0d0887"
             ],
             [
              0.1111111111111111,
              "#46039f"
             ],
             [
              0.2222222222222222,
              "#7201a8"
             ],
             [
              0.3333333333333333,
              "#9c179e"
             ],
             [
              0.4444444444444444,
              "#bd3786"
             ],
             [
              0.5555555555555556,
              "#d8576b"
             ],
             [
              0.6666666666666666,
              "#ed7953"
             ],
             [
              0.7777777777777778,
              "#fb9f3a"
             ],
             [
              0.8888888888888888,
              "#fdca26"
             ],
             [
              1,
              "#f0f921"
             ]
            ],
            "type": "histogram2dcontour"
           }
          ],
          "mesh3d": [
           {
            "colorbar": {
             "outlinewidth": 0,
             "ticks": ""
            },
            "type": "mesh3d"
           }
          ],
          "parcoords": [
           {
            "line": {
             "colorbar": {
              "outlinewidth": 0,
              "ticks": ""
             }
            },
            "type": "parcoords"
           }
          ],
          "pie": [
           {
            "automargin": true,
            "type": "pie"
           }
          ],
          "scatter": [
           {
            "fillpattern": {
             "fillmode": "overlay",
             "size": 10,
             "solidity": 0.2
            },
            "type": "scatter"
           }
          ],
          "scatter3d": [
           {
            "line": {
             "colorbar": {
              "outlinewidth": 0,
              "ticks": ""
             }
            },
            "marker": {
             "colorbar": {
              "outlinewidth": 0,
              "ticks": ""
             }
            },
            "type": "scatter3d"
           }
          ],
          "scattercarpet": [
           {
            "marker": {
             "colorbar": {
              "outlinewidth": 0,
              "ticks": ""
             }
            },
            "type": "scattercarpet"
           }
          ],
          "scattergeo": [
           {
            "marker": {
             "colorbar": {
              "outlinewidth": 0,
              "ticks": ""
             }
            },
            "type": "scattergeo"
           }
          ],
          "scattergl": [
           {
            "marker": {
             "colorbar": {
              "outlinewidth": 0,
              "ticks": ""
             }
            },
            "type": "scattergl"
           }
          ],
          "scattermapbox": [
           {
            "marker": {
             "colorbar": {
              "outlinewidth": 0,
              "ticks": ""
             }
            },
            "type": "scattermapbox"
           }
          ],
          "scatterpolar": [
           {
            "marker": {
             "colorbar": {
              "outlinewidth": 0,
              "ticks": ""
             }
            },
            "type": "scatterpolar"
           }
          ],
          "scatterpolargl": [
           {
            "marker": {
             "colorbar": {
              "outlinewidth": 0,
              "ticks": ""
             }
            },
            "type": "scatterpolargl"
           }
          ],
          "scatterternary": [
           {
            "marker": {
             "colorbar": {
              "outlinewidth": 0,
              "ticks": ""
             }
            },
            "type": "scatterternary"
           }
          ],
          "surface": [
           {
            "colorbar": {
             "outlinewidth": 0,
             "ticks": ""
            },
            "colorscale": [
             [
              0,
              "#0d0887"
             ],
             [
              0.1111111111111111,
              "#46039f"
             ],
             [
              0.2222222222222222,
              "#7201a8"
             ],
             [
              0.3333333333333333,
              "#9c179e"
             ],
             [
              0.4444444444444444,
              "#bd3786"
             ],
             [
              0.5555555555555556,
              "#d8576b"
             ],
             [
              0.6666666666666666,
              "#ed7953"
             ],
             [
              0.7777777777777778,
              "#fb9f3a"
             ],
             [
              0.8888888888888888,
              "#fdca26"
             ],
             [
              1,
              "#f0f921"
             ]
            ],
            "type": "surface"
           }
          ],
          "table": [
           {
            "cells": {
             "fill": {
              "color": "#EBF0F8"
             },
             "line": {
              "color": "white"
             }
            },
            "header": {
             "fill": {
              "color": "#C8D4E3"
             },
             "line": {
              "color": "white"
             }
            },
            "type": "table"
           }
          ]
         },
         "layout": {
          "annotationdefaults": {
           "arrowcolor": "#2a3f5f",
           "arrowhead": 0,
           "arrowwidth": 1
          },
          "autotypenumbers": "strict",
          "coloraxis": {
           "colorbar": {
            "outlinewidth": 0,
            "ticks": ""
           }
          },
          "colorscale": {
           "diverging": [
            [
             0,
             "#8e0152"
            ],
            [
             0.1,
             "#c51b7d"
            ],
            [
             0.2,
             "#de77ae"
            ],
            [
             0.3,
             "#f1b6da"
            ],
            [
             0.4,
             "#fde0ef"
            ],
            [
             0.5,
             "#f7f7f7"
            ],
            [
             0.6,
             "#e6f5d0"
            ],
            [
             0.7,
             "#b8e186"
            ],
            [
             0.8,
             "#7fbc41"
            ],
            [
             0.9,
             "#4d9221"
            ],
            [
             1,
             "#276419"
            ]
           ],
           "sequential": [
            [
             0,
             "#0d0887"
            ],
            [
             0.1111111111111111,
             "#46039f"
            ],
            [
             0.2222222222222222,
             "#7201a8"
            ],
            [
             0.3333333333333333,
             "#9c179e"
            ],
            [
             0.4444444444444444,
             "#bd3786"
            ],
            [
             0.5555555555555556,
             "#d8576b"
            ],
            [
             0.6666666666666666,
             "#ed7953"
            ],
            [
             0.7777777777777778,
             "#fb9f3a"
            ],
            [
             0.8888888888888888,
             "#fdca26"
            ],
            [
             1,
             "#f0f921"
            ]
           ],
           "sequentialminus": [
            [
             0,
             "#0d0887"
            ],
            [
             0.1111111111111111,
             "#46039f"
            ],
            [
             0.2222222222222222,
             "#7201a8"
            ],
            [
             0.3333333333333333,
             "#9c179e"
            ],
            [
             0.4444444444444444,
             "#bd3786"
            ],
            [
             0.5555555555555556,
             "#d8576b"
            ],
            [
             0.6666666666666666,
             "#ed7953"
            ],
            [
             0.7777777777777778,
             "#fb9f3a"
            ],
            [
             0.8888888888888888,
             "#fdca26"
            ],
            [
             1,
             "#f0f921"
            ]
           ]
          },
          "colorway": [
           "#636efa",
           "#EF553B",
           "#00cc96",
           "#ab63fa",
           "#FFA15A",
           "#19d3f3",
           "#FF6692",
           "#B6E880",
           "#FF97FF",
           "#FECB52"
          ],
          "font": {
           "color": "#2a3f5f"
          },
          "geo": {
           "bgcolor": "white",
           "lakecolor": "white",
           "landcolor": "#E5ECF6",
           "showlakes": true,
           "showland": true,
           "subunitcolor": "white"
          },
          "hoverlabel": {
           "align": "left"
          },
          "hovermode": "closest",
          "mapbox": {
           "style": "light"
          },
          "paper_bgcolor": "white",
          "plot_bgcolor": "#E5ECF6",
          "polar": {
           "angularaxis": {
            "gridcolor": "white",
            "linecolor": "white",
            "ticks": ""
           },
           "bgcolor": "#E5ECF6",
           "radialaxis": {
            "gridcolor": "white",
            "linecolor": "white",
            "ticks": ""
           }
          },
          "scene": {
           "xaxis": {
            "backgroundcolor": "#E5ECF6",
            "gridcolor": "white",
            "gridwidth": 2,
            "linecolor": "white",
            "showbackground": true,
            "ticks": "",
            "zerolinecolor": "white"
           },
           "yaxis": {
            "backgroundcolor": "#E5ECF6",
            "gridcolor": "white",
            "gridwidth": 2,
            "linecolor": "white",
            "showbackground": true,
            "ticks": "",
            "zerolinecolor": "white"
           },
           "zaxis": {
            "backgroundcolor": "#E5ECF6",
            "gridcolor": "white",
            "gridwidth": 2,
            "linecolor": "white",
            "showbackground": true,
            "ticks": "",
            "zerolinecolor": "white"
           }
          },
          "shapedefaults": {
           "line": {
            "color": "#2a3f5f"
           }
          },
          "ternary": {
           "aaxis": {
            "gridcolor": "white",
            "linecolor": "white",
            "ticks": ""
           },
           "baxis": {
            "gridcolor": "white",
            "linecolor": "white",
            "ticks": ""
           },
           "bgcolor": "#E5ECF6",
           "caxis": {
            "gridcolor": "white",
            "linecolor": "white",
            "ticks": ""
           }
          },
          "title": {
           "x": 0.05
          },
          "xaxis": {
           "automargin": true,
           "gridcolor": "white",
           "linecolor": "white",
           "ticks": "",
           "title": {
            "standoff": 15
           },
           "zerolinecolor": "white",
           "zerolinewidth": 2
          },
          "yaxis": {
           "automargin": true,
           "gridcolor": "white",
           "linecolor": "white",
           "ticks": "",
           "title": {
            "standoff": 15
           },
           "zerolinecolor": "white",
           "zerolinewidth": 2
          }
         }
        },
        "xaxis": {
         "anchor": "y",
         "domain": [
          0,
          1
         ],
         "title": {
          "text": "Loop flow value normalized per origin"
         }
        },
        "yaxis": {
         "anchor": "x",
         "domain": [
          0,
          1
         ],
         "title": {
          "text": "Destination of loop flow"
         }
        }
       }
      }
     },
     "metadata": {},
     "output_type": "display_data"
    }
   ],
   "source": [
    "threshold = .03\n",
    "df = df_lf_per_country.copy().transpose()\n",
    "df_p = df[[c for c in df.columns if ('loop_flow_from' in c)]]\n",
    "df_m = df_p.div(df_p.abs().sum(axis=1), axis=0)\n",
    "df_s = df_m[df_m < 0].sum(axis=1)\n",
    "df_m = df_m.reindex(df_s.sort_values(ascending=False).index)\n",
    "df_n = df_m.abs() > threshold\n",
    "df_f = df_m[df_n]\n",
    "df_f['masked_positive'] = df_m[df_p[df_n == False]>0].sum(axis=1)\n",
    "df_f['masked_negative'] = df_m[df_p[df_n == False]<0].sum(axis=1)\n",
    "fig = px.bar(df_f,\n",
    "    orientation='h',\n",
    "    color_discrete_sequence=colors[:df_f.columns.size],\n",
    "    text_auto='.2f',\n",
    "    height=1000,\n",
    "    labels={\n",
    "        'index':'Destination of loop flow',\n",
    "        'value': 'Loop flow value normalized per origin',\n",
    "        'variable': 'Origin country',\n",
    "    }\n",
    "    )\n",
    "fig.show()"
   ]
  },
  {
   "cell_type": "markdown",
   "metadata": {},
   "source": [
    "# Loop flow heat map\n",
    "\n",
    "Provide a view"
   ]
  },
  {
   "cell_type": "code",
   "execution_count": 22,
   "metadata": {},
   "outputs": [
    {
     "data": {
      "application/vnd.plotly.v1+json": {
       "config": {
        "plotlyServerURL": "https://plot.ly"
       },
       "data": [
        {
         "coloraxis": "coloraxis",
         "customdata": [
          [
           368.42663405389476,
           137.2972664334758,
           3.1029111463143626,
           54.829135459466016,
           -1.468613380709522,
           0.7367410560157457,
           141.16775935801027,
           120.61435941587052,
           -61.36574017588896
          ],
          [
           39.61230050493592,
           0.10192215071466104,
           14.355594474478295,
           1.9457417889366044,
           1.896086272097457,
           -2.8132689335231733,
           11.631236232268801,
           122.24925496614048,
           12.509835105259148
          ],
          [
           7.406653082277003,
           0.7747195767487414,
           630.133766599619,
           1.3437180430549183,
           30.261884264971098,
           1197.296467036251,
           2.4010250343449497,
           -174.74101848165364,
           -15.118839563510878
          ],
          [
           35.10832801920833,
           0.33576570913604953,
           0.15817451647287117,
           -13.720555996358664,
           -0.48945842956981755,
           0.02149090502014041,
           2.113867136707216,
           7.637562013276569,
           -11.374212979577097
          ],
          [
           215.36118917177762,
           25.97385022249137,
           -39.15030972243049,
           39.95068841234235,
           531.144522845661,
           249.270353446516,
           24.841628761743834,
           -1913.1716928990804,
           382.4981541821345
          ],
          [
           -1.2007324811820492,
           0.5225723904873053,
           -939.7890455459203,
           -0.5154057411615265,
           86.480422916063,
           1135.1423279927594,
           1.2260547731885179,
           105.85825111298341,
           -13.422838312352027
          ],
          [
           0,
           0,
           0,
           0,
           0,
           0,
           0,
           0,
           0
          ],
          [
           108.20375441698174,
           7.477469083996971,
           1357.3228216698203,
           50.267229301340805,
           5.8475802773750445,
           -283.1070048732861,
           25.263436333758087,
           621.8156739745821,
           100.63871874840562
          ],
          [
           18.969928390317072,
           7.418791816410961,
           216.60757971140401,
           81.02422151684391,
           -135.50913678554764,
           124.37141691458041,
           -1.3122337212500015,
           544.1865484079118,
           255.6123147898242
          ]
         ],
         "hovertemplate": "Source country: %{y}<br>Visited country: %{x}<br>Loop flow: %{customdata:.2f}<extra></extra>",
         "name": "0",
         "type": "heatmap",
         "x": [
          "Bulgaria",
          "Czechia",
          "Denmark",
          "Estonia",
          "France",
          "Hungary",
          "Ireland",
          "Lithuania",
          "Luxembourg"
         ],
         "xaxis": "x",
         "y": [
          "Bulgaria",
          "Czechia",
          "Denmark",
          "Estonia",
          "France",
          "Hungary",
          "Ireland",
          "Lithuania",
          "Luxembourg"
         ],
         "yaxis": "y",
         "z": [
          [
           2.5675282029766135,
           2.1408135959835692,
           0.6130921118771712,
           1.7468609026473056,
           -0.3924530786836434,
           0.23973507099363073,
           2.1528011187533798,
           2.084984856572374,
           -1.7949460810515228
          ],
          [
           1.60865759102418,
           0.04215091329134466,
           1.1862666343243808,
           0.4691946757874353,
           0.461811495003631,
           -0.5812974352832282,
           1.101445857489527,
           2.09078430267485,
           1.130650048258664
          ],
          [
           0.9246231257374355,
           0.24912973998726495,
           2.800121416200112,
           0.36990536344212954,
           1.4950151509453944,
           3.0785642788790613,
           0.5316098287095099,
           -2.2448731389633894,
           -1.207333772623881
          ],
          [
           1.5576073790708858,
           0.1257302903608276,
           0.06377400484103576,
           -1.1679242136421304,
           -0.1730283866646072,
           0.009234504187115227,
           0.49330007803752746,
           0.9363911784056573,
           -1.0925175866362278
          ],
          [
           2.335179359760791,
           1.43094294167118,
           -1.6036888998070702,
           1.6122612069796742,
           2.726029596487727,
           2.398409406950815,
           1.4123198831599346,
           -3.281980889519436,
           2.5837632779839756
          ],
          [
           -0.3425672533631457,
           0.1825779502650383,
           -2.9734922518797497,
           -0.1805289282546052,
           1.9419108739274251,
           3.0554327401690227,
           0.3475358461626038,
           2.0288080620591633,
           -1.159050734869869
          ],
          [
           0,
           0,
           0,
           0,
           0,
           0,
           0,
           0,
           0
          ],
          [
           2.038237569637482,
           0.9282662146490033,
           3.1330029974912113,
           1.7098398469575864,
           0.835537132392467,
           -2.4534819417141738,
           1.4193515489869934,
           2.794359533624751,
           2.0070591817226395
          ],
          [
           1.3003765075474223,
           0.9252497702271417,
           2.3376740186433573,
           1.913942117234942,
           -2.1351617204078988,
           2.0981985341723437,
           -0.3640317305785032,
           2.7365451317842675,
           2.4092774942716986
          ]
         ]
        }
       ],
       "layout": {
        "coloraxis": {
         "cmid": 0,
         "colorbar": {
          "ticktext": [
           -1000,
           -100,
           -10,
           0,
           10,
           100,
           1000
          ],
          "tickvals": [
           -3,
           -2,
           -1,
           0,
           1,
           2,
           3
          ],
          "title": {
           "text": "Loop flow"
          }
         },
         "colorscale": [
          [
           0,
           "rgb(5,48,97)"
          ],
          [
           0.1,
           "rgb(33,102,172)"
          ],
          [
           0.2,
           "rgb(67,147,195)"
          ],
          [
           0.3,
           "rgb(146,197,222)"
          ],
          [
           0.4,
           "rgb(209,229,240)"
          ],
          [
           0.5,
           "rgb(247,247,247)"
          ],
          [
           0.6,
           "rgb(253,219,199)"
          ],
          [
           0.7,
           "rgb(244,165,130)"
          ],
          [
           0.8,
           "rgb(214,96,77)"
          ],
          [
           0.9,
           "rgb(178,24,43)"
          ],
          [
           1,
           "rgb(103,0,31)"
          ]
         ]
        },
        "height": 800,
        "margin": {
         "t": 60
        },
        "template": {
         "data": {
          "bar": [
           {
            "error_x": {
             "color": "#2a3f5f"
            },
            "error_y": {
             "color": "#2a3f5f"
            },
            "marker": {
             "line": {
              "color": "#E5ECF6",
              "width": 0.5
             },
             "pattern": {
              "fillmode": "overlay",
              "size": 10,
              "solidity": 0.2
             }
            },
            "type": "bar"
           }
          ],
          "barpolar": [
           {
            "marker": {
             "line": {
              "color": "#E5ECF6",
              "width": 0.5
             },
             "pattern": {
              "fillmode": "overlay",
              "size": 10,
              "solidity": 0.2
             }
            },
            "type": "barpolar"
           }
          ],
          "carpet": [
           {
            "aaxis": {
             "endlinecolor": "#2a3f5f",
             "gridcolor": "white",
             "linecolor": "white",
             "minorgridcolor": "white",
             "startlinecolor": "#2a3f5f"
            },
            "baxis": {
             "endlinecolor": "#2a3f5f",
             "gridcolor": "white",
             "linecolor": "white",
             "minorgridcolor": "white",
             "startlinecolor": "#2a3f5f"
            },
            "type": "carpet"
           }
          ],
          "choropleth": [
           {
            "colorbar": {
             "outlinewidth": 0,
             "ticks": ""
            },
            "type": "choropleth"
           }
          ],
          "contour": [
           {
            "colorbar": {
             "outlinewidth": 0,
             "ticks": ""
            },
            "colorscale": [
             [
              0,
              "#0d0887"
             ],
             [
              0.1111111111111111,
              "#46039f"
             ],
             [
              0.2222222222222222,
              "#7201a8"
             ],
             [
              0.3333333333333333,
              "#9c179e"
             ],
             [
              0.4444444444444444,
              "#bd3786"
             ],
             [
              0.5555555555555556,
              "#d8576b"
             ],
             [
              0.6666666666666666,
              "#ed7953"
             ],
             [
              0.7777777777777778,
              "#fb9f3a"
             ],
             [
              0.8888888888888888,
              "#fdca26"
             ],
             [
              1,
              "#f0f921"
             ]
            ],
            "type": "contour"
           }
          ],
          "contourcarpet": [
           {
            "colorbar": {
             "outlinewidth": 0,
             "ticks": ""
            },
            "type": "contourcarpet"
           }
          ],
          "heatmap": [
           {
            "colorbar": {
             "outlinewidth": 0,
             "ticks": ""
            },
            "colorscale": [
             [
              0,
              "#0d0887"
             ],
             [
              0.1111111111111111,
              "#46039f"
             ],
             [
              0.2222222222222222,
              "#7201a8"
             ],
             [
              0.3333333333333333,
              "#9c179e"
             ],
             [
              0.4444444444444444,
              "#bd3786"
             ],
             [
              0.5555555555555556,
              "#d8576b"
             ],
             [
              0.6666666666666666,
              "#ed7953"
             ],
             [
              0.7777777777777778,
              "#fb9f3a"
             ],
             [
              0.8888888888888888,
              "#fdca26"
             ],
             [
              1,
              "#f0f921"
             ]
            ],
            "type": "heatmap"
           }
          ],
          "heatmapgl": [
           {
            "colorbar": {
             "outlinewidth": 0,
             "ticks": ""
            },
            "colorscale": [
             [
              0,
              "#0d0887"
             ],
             [
              0.1111111111111111,
              "#46039f"
             ],
             [
              0.2222222222222222,
              "#7201a8"
             ],
             [
              0.3333333333333333,
              "#9c179e"
             ],
             [
              0.4444444444444444,
              "#bd3786"
             ],
             [
              0.5555555555555556,
              "#d8576b"
             ],
             [
              0.6666666666666666,
              "#ed7953"
             ],
             [
              0.7777777777777778,
              "#fb9f3a"
             ],
             [
              0.8888888888888888,
              "#fdca26"
             ],
             [
              1,
              "#f0f921"
             ]
            ],
            "type": "heatmapgl"
           }
          ],
          "histogram": [
           {
            "marker": {
             "pattern": {
              "fillmode": "overlay",
              "size": 10,
              "solidity": 0.2
             }
            },
            "type": "histogram"
           }
          ],
          "histogram2d": [
           {
            "colorbar": {
             "outlinewidth": 0,
             "ticks": ""
            },
            "colorscale": [
             [
              0,
              "#0d0887"
             ],
             [
              0.1111111111111111,
              "#46039f"
             ],
             [
              0.2222222222222222,
              "#7201a8"
             ],
             [
              0.3333333333333333,
              "#9c179e"
             ],
             [
              0.4444444444444444,
              "#bd3786"
             ],
             [
              0.5555555555555556,
              "#d8576b"
             ],
             [
              0.6666666666666666,
              "#ed7953"
             ],
             [
              0.7777777777777778,
              "#fb9f3a"
             ],
             [
              0.8888888888888888,
              "#fdca26"
             ],
             [
              1,
              "#f0f921"
             ]
            ],
            "type": "histogram2d"
           }
          ],
          "histogram2dcontour": [
           {
            "colorbar": {
             "outlinewidth": 0,
             "ticks": ""
            },
            "colorscale": [
             [
              0,
              "#0d0887"
             ],
             [
              0.1111111111111111,
              "#46039f"
             ],
             [
              0.2222222222222222,
              "#7201a8"
             ],
             [
              0.3333333333333333,
              "#9c179e"
             ],
             [
              0.4444444444444444,
              "#bd3786"
             ],
             [
              0.5555555555555556,
              "#d8576b"
             ],
             [
              0.6666666666666666,
              "#ed7953"
             ],
             [
              0.7777777777777778,
              "#fb9f3a"
             ],
             [
              0.8888888888888888,
              "#fdca26"
             ],
             [
              1,
              "#f0f921"
             ]
            ],
            "type": "histogram2dcontour"
           }
          ],
          "mesh3d": [
           {
            "colorbar": {
             "outlinewidth": 0,
             "ticks": ""
            },
            "type": "mesh3d"
           }
          ],
          "parcoords": [
           {
            "line": {
             "colorbar": {
              "outlinewidth": 0,
              "ticks": ""
             }
            },
            "type": "parcoords"
           }
          ],
          "pie": [
           {
            "automargin": true,
            "type": "pie"
           }
          ],
          "scatter": [
           {
            "fillpattern": {
             "fillmode": "overlay",
             "size": 10,
             "solidity": 0.2
            },
            "type": "scatter"
           }
          ],
          "scatter3d": [
           {
            "line": {
             "colorbar": {
              "outlinewidth": 0,
              "ticks": ""
             }
            },
            "marker": {
             "colorbar": {
              "outlinewidth": 0,
              "ticks": ""
             }
            },
            "type": "scatter3d"
           }
          ],
          "scattercarpet": [
           {
            "marker": {
             "colorbar": {
              "outlinewidth": 0,
              "ticks": ""
             }
            },
            "type": "scattercarpet"
           }
          ],
          "scattergeo": [
           {
            "marker": {
             "colorbar": {
              "outlinewidth": 0,
              "ticks": ""
             }
            },
            "type": "scattergeo"
           }
          ],
          "scattergl": [
           {
            "marker": {
             "colorbar": {
              "outlinewidth": 0,
              "ticks": ""
             }
            },
            "type": "scattergl"
           }
          ],
          "scattermapbox": [
           {
            "marker": {
             "colorbar": {
              "outlinewidth": 0,
              "ticks": ""
             }
            },
            "type": "scattermapbox"
           }
          ],
          "scatterpolar": [
           {
            "marker": {
             "colorbar": {
              "outlinewidth": 0,
              "ticks": ""
             }
            },
            "type": "scatterpolar"
           }
          ],
          "scatterpolargl": [
           {
            "marker": {
             "colorbar": {
              "outlinewidth": 0,
              "ticks": ""
             }
            },
            "type": "scatterpolargl"
           }
          ],
          "scatterternary": [
           {
            "marker": {
             "colorbar": {
              "outlinewidth": 0,
              "ticks": ""
             }
            },
            "type": "scatterternary"
           }
          ],
          "surface": [
           {
            "colorbar": {
             "outlinewidth": 0,
             "ticks": ""
            },
            "colorscale": [
             [
              0,
              "#0d0887"
             ],
             [
              0.1111111111111111,
              "#46039f"
             ],
             [
              0.2222222222222222,
              "#7201a8"
             ],
             [
              0.3333333333333333,
              "#9c179e"
             ],
             [
              0.4444444444444444,
              "#bd3786"
             ],
             [
              0.5555555555555556,
              "#d8576b"
             ],
             [
              0.6666666666666666,
              "#ed7953"
             ],
             [
              0.7777777777777778,
              "#fb9f3a"
             ],
             [
              0.8888888888888888,
              "#fdca26"
             ],
             [
              1,
              "#f0f921"
             ]
            ],
            "type": "surface"
           }
          ],
          "table": [
           {
            "cells": {
             "fill": {
              "color": "#EBF0F8"
             },
             "line": {
              "color": "white"
             }
            },
            "header": {
             "fill": {
              "color": "#C8D4E3"
             },
             "line": {
              "color": "white"
             }
            },
            "type": "table"
           }
          ]
         },
         "layout": {
          "annotationdefaults": {
           "arrowcolor": "#2a3f5f",
           "arrowhead": 0,
           "arrowwidth": 1
          },
          "autotypenumbers": "strict",
          "coloraxis": {
           "colorbar": {
            "outlinewidth": 0,
            "ticks": ""
           }
          },
          "colorscale": {
           "diverging": [
            [
             0,
             "#8e0152"
            ],
            [
             0.1,
             "#c51b7d"
            ],
            [
             0.2,
             "#de77ae"
            ],
            [
             0.3,
             "#f1b6da"
            ],
            [
             0.4,
             "#fde0ef"
            ],
            [
             0.5,
             "#f7f7f7"
            ],
            [
             0.6,
             "#e6f5d0"
            ],
            [
             0.7,
             "#b8e186"
            ],
            [
             0.8,
             "#7fbc41"
            ],
            [
             0.9,
             "#4d9221"
            ],
            [
             1,
             "#276419"
            ]
           ],
           "sequential": [
            [
             0,
             "#0d0887"
            ],
            [
             0.1111111111111111,
             "#46039f"
            ],
            [
             0.2222222222222222,
             "#7201a8"
            ],
            [
             0.3333333333333333,
             "#9c179e"
            ],
            [
             0.4444444444444444,
             "#bd3786"
            ],
            [
             0.5555555555555556,
             "#d8576b"
            ],
            [
             0.6666666666666666,
             "#ed7953"
            ],
            [
             0.7777777777777778,
             "#fb9f3a"
            ],
            [
             0.8888888888888888,
             "#fdca26"
            ],
            [
             1,
             "#f0f921"
            ]
           ],
           "sequentialminus": [
            [
             0,
             "#0d0887"
            ],
            [
             0.1111111111111111,
             "#46039f"
            ],
            [
             0.2222222222222222,
             "#7201a8"
            ],
            [
             0.3333333333333333,
             "#9c179e"
            ],
            [
             0.4444444444444444,
             "#bd3786"
            ],
            [
             0.5555555555555556,
             "#d8576b"
            ],
            [
             0.6666666666666666,
             "#ed7953"
            ],
            [
             0.7777777777777778,
             "#fb9f3a"
            ],
            [
             0.8888888888888888,
             "#fdca26"
            ],
            [
             1,
             "#f0f921"
            ]
           ]
          },
          "colorway": [
           "#636efa",
           "#EF553B",
           "#00cc96",
           "#ab63fa",
           "#FFA15A",
           "#19d3f3",
           "#FF6692",
           "#B6E880",
           "#FF97FF",
           "#FECB52"
          ],
          "font": {
           "color": "#2a3f5f"
          },
          "geo": {
           "bgcolor": "white",
           "lakecolor": "white",
           "landcolor": "#E5ECF6",
           "showlakes": true,
           "showland": true,
           "subunitcolor": "white"
          },
          "hoverlabel": {
           "align": "left"
          },
          "hovermode": "closest",
          "mapbox": {
           "style": "light"
          },
          "paper_bgcolor": "white",
          "plot_bgcolor": "#E5ECF6",
          "polar": {
           "angularaxis": {
            "gridcolor": "white",
            "linecolor": "white",
            "ticks": ""
           },
           "bgcolor": "#E5ECF6",
           "radialaxis": {
            "gridcolor": "white",
            "linecolor": "white",
            "ticks": ""
           }
          },
          "scene": {
           "xaxis": {
            "backgroundcolor": "#E5ECF6",
            "gridcolor": "white",
            "gridwidth": 2,
            "linecolor": "white",
            "showbackground": true,
            "ticks": "",
            "zerolinecolor": "white"
           },
           "yaxis": {
            "backgroundcolor": "#E5ECF6",
            "gridcolor": "white",
            "gridwidth": 2,
            "linecolor": "white",
            "showbackground": true,
            "ticks": "",
            "zerolinecolor": "white"
           },
           "zaxis": {
            "backgroundcolor": "#E5ECF6",
            "gridcolor": "white",
            "gridwidth": 2,
            "linecolor": "white",
            "showbackground": true,
            "ticks": "",
            "zerolinecolor": "white"
           }
          },
          "shapedefaults": {
           "line": {
            "color": "#2a3f5f"
           }
          },
          "ternary": {
           "aaxis": {
            "gridcolor": "white",
            "linecolor": "white",
            "ticks": ""
           },
           "baxis": {
            "gridcolor": "white",
            "linecolor": "white",
            "ticks": ""
           },
           "bgcolor": "#E5ECF6",
           "caxis": {
            "gridcolor": "white",
            "linecolor": "white",
            "ticks": ""
           }
          },
          "title": {
           "x": 0.05
          },
          "xaxis": {
           "automargin": true,
           "gridcolor": "white",
           "linecolor": "white",
           "ticks": "",
           "title": {
            "standoff": 15
           },
           "zerolinecolor": "white",
           "zerolinewidth": 2
          },
          "yaxis": {
           "automargin": true,
           "gridcolor": "white",
           "linecolor": "white",
           "ticks": "",
           "title": {
            "standoff": 15
           },
           "zerolinecolor": "white",
           "zerolinewidth": 2
          }
         }
        },
        "xaxis": {
         "anchor": "y",
         "constrain": "domain",
         "domain": [
          0,
          1
         ],
         "scaleanchor": "y",
         "title": {
          "text": "Visited country"
         }
        },
        "yaxis": {
         "anchor": "x",
         "autorange": "reversed",
         "constrain": "domain",
         "domain": [
          0,
          1
         ],
         "title": {
          "text": "Source country"
         }
        }
       }
      }
     },
     "metadata": {},
     "output_type": "display_data"
    }
   ],
   "source": [
    "df_matrix = df_lf_per_country.transpose().sort_index(axis=1).sort_index()\n",
    "\n",
    "df_matrix = df_matrix[[c for c in df_matrix.columns if ('loop_flow_from' in c)]].transpose()\n",
    "df_matrix.index = df_matrix.index.map(lambda c: c.split(\"_\")[-1].upper())\n",
    "df_matrix.index = [country.name for country in alpha_2_to_country(df_matrix.index)]\n",
    "df_matrix.columns = [country.name for country in alpha_2_to_country(df_matrix.columns)]\n",
    "fig = px.imshow(np.sign(df_matrix)*np.log10(df_matrix.abs()+1),\n",
    "    labels=dict(x=\"Visited country\", y=\"Source country\", color=\"Loop flow\"),\n",
    "    color_continuous_midpoint=0.0,\n",
    "    color_continuous_scale=\"RdBu_r\",\n",
    "    height=800)\n",
    "fig.update(data=[{'customdata': df_matrix,\n",
    "    'hovertemplate': 'Source country: %{y}<br>Visited country: %{x}<br>Loop flow: %{customdata:.2f}<extra></extra>'}])\n",
    "int_log_abs_max = int(np.log10(max(df_matrix.max().max(), abs(df_matrix.min().min()))))\n",
    "tickvals = np.arange(-int_log_abs_max, int_log_abs_max+1)\n",
    "fig.update_layout(coloraxis_colorbar=dict(\n",
    "    #title=\"Population\",\n",
    "    tickvals=tickvals,\n",
    "    ticktext=[np.sign(v)*10**abs(v) for v in tickvals],\n",
    "))\n",
    "fig.show()"
   ]
  },
  {
   "cell_type": "markdown",
   "metadata": {},
   "source": [
    "df_matrix rows are sources, columns are destinations"
   ]
  },
  {
   "cell_type": "markdown",
   "metadata": {},
   "source": [
    "# Choropleth"
   ]
  },
  {
   "cell_type": "code",
   "execution_count": 23,
   "metadata": {},
   "outputs": [],
   "source": [
    "def plot_map(source = None, visited = None):\n",
    "    if (visited is None) == (source is None) :\n",
    "        raise Exception(\"Exactly one of visited or source should be None.\")\n",
    "    if visited is None:\n",
    "        df = pd.DataFrame(df_matrix.loc[source, :])\n",
    "        country = source\n",
    "        directionSelected = \"source\"\n",
    "    else:\n",
    "        df = pd.DataFrame(df_matrix.loc[:, visited])\n",
    "        country = visited\n",
    "        directionSelected = \"visited\"\n",
    "\n",
    "    df = df.rename(columns={country:'Loop Flow'})\n",
    "    source_country_col_name = 'Source country'\n",
    "    visited_country_col_name = 'Visited country'\n",
    "    df[source_country_col_name] = df.index if source is None else [country] * len(df.index)\n",
    "    df[visited_country_col_name] = df.index if visited is None else [country] * len(df.index)\n",
    "    df['iso_alpha'] = [pycountry.countries.get(name=c).alpha_3 for c in df.index]\n",
    "    df['log_loop_flow'] = np.sign(df['Loop Flow'])*np.log10(df['Loop Flow'].abs()+1)\n",
    "\n",
    "    fig = px.choropleth(df, \n",
    "                        locations=\"iso_alpha\",\n",
    "                        color=\"log_loop_flow\",\n",
    "                        hover_data={source_country_col_name: True, visited_country_col_name: True, 'Loop Flow':':.1f', 'log_loop_flow':False, 'iso_alpha':False},\n",
    "                        color_continuous_midpoint=0.0,\n",
    "                        color_continuous_scale=\"RdBu_r\",\n",
    "                        width=1200,\n",
    "                        height=800,\n",
    "                        title=f'Loop flow decomposition with {directionSelected} country = {country}',\n",
    "                        )\n",
    "    int_log_abs_max = int(max(df['log_loop_flow'].max(), df['log_loop_flow'].min()))\n",
    "    tickvals = np.arange(-int_log_abs_max, int_log_abs_max+1)\n",
    "    fig.update_layout(coloraxis_colorbar=dict(\n",
    "        title=\"Loop Flow\",\n",
    "        tickvals=tickvals,\n",
    "        ticktext=[np.sign(v)*10**abs(v) for v in tickvals],\n",
    "    ))\n",
    "    fig.update_geos(\n",
    "        lataxis_range=[30, 70],\n",
    "        lonaxis_range=[-20, 50]\n",
    "    )\n",
    "    fig.show()"
   ]
  },
  {
   "cell_type": "code",
   "execution_count": 24,
   "metadata": {},
   "outputs": [
    {
     "data": {
      "application/vnd.plotly.v1+json": {
       "config": {
        "plotlyServerURL": "https://plot.ly"
       },
       "data": [
        {
         "coloraxis": "coloraxis",
         "customdata": [
          [
           "Estonia",
           "Bulgaria",
           35.10832801920833,
           1.5576073790708858,
           "BGR"
          ],
          [
           "Estonia",
           "Czechia",
           0.33576570913604953,
           0.1257302903608276,
           "CZE"
          ],
          [
           "Estonia",
           "Denmark",
           0.15817451647287117,
           0.06377400484103576,
           "DNK"
          ],
          [
           "Estonia",
           "Estonia",
           -13.720555996358664,
           -1.1679242136421304,
           "EST"
          ],
          [
           "Estonia",
           "France",
           -0.48945842956981755,
           -0.1730283866646072,
           "FRA"
          ],
          [
           "Estonia",
           "Hungary",
           0.02149090502014041,
           0.009234504187115227,
           "HUN"
          ],
          [
           "Estonia",
           "Ireland",
           2.113867136707216,
           0.49330007803752746,
           "IRL"
          ],
          [
           "Estonia",
           "Lithuania",
           7.637562013276569,
           0.9363911784056573,
           "LTU"
          ],
          [
           "Estonia",
           "Luxembourg",
           -11.374212979577097,
           -1.0925175866362278,
           "LUX"
          ]
         ],
         "geo": "geo",
         "hovertemplate": "Source country=%{customdata[0]}<br>Visited country=%{customdata[1]}<br>Loop Flow=%{customdata[2]:.1f}<extra></extra>",
         "locations": [
          "BGR",
          "CZE",
          "DNK",
          "EST",
          "FRA",
          "HUN",
          "IRL",
          "LTU",
          "LUX"
         ],
         "name": "",
         "type": "choropleth",
         "z": [
          1.5576073790708858,
          0.1257302903608276,
          0.06377400484103576,
          -1.1679242136421304,
          -0.1730283866646072,
          0.009234504187115227,
          0.49330007803752746,
          0.9363911784056573,
          -1.0925175866362278
         ]
        }
       ],
       "layout": {
        "coloraxis": {
         "cmid": 0,
         "colorbar": {
          "ticktext": [
           -10,
           0,
           10
          ],
          "tickvals": [
           -1,
           0,
           1
          ],
          "title": {
           "text": "Loop Flow"
          }
         },
         "colorscale": [
          [
           0,
           "rgb(5,48,97)"
          ],
          [
           0.1,
           "rgb(33,102,172)"
          ],
          [
           0.2,
           "rgb(67,147,195)"
          ],
          [
           0.3,
           "rgb(146,197,222)"
          ],
          [
           0.4,
           "rgb(209,229,240)"
          ],
          [
           0.5,
           "rgb(247,247,247)"
          ],
          [
           0.6,
           "rgb(253,219,199)"
          ],
          [
           0.7,
           "rgb(244,165,130)"
          ],
          [
           0.8,
           "rgb(214,96,77)"
          ],
          [
           0.9,
           "rgb(178,24,43)"
          ],
          [
           1,
           "rgb(103,0,31)"
          ]
         ]
        },
        "geo": {
         "center": {},
         "domain": {
          "x": [
           0,
           1
          ],
          "y": [
           0,
           1
          ]
         },
         "lataxis": {
          "range": [
           30,
           70
          ]
         },
         "lonaxis": {
          "range": [
           -20,
           50
          ]
         }
        },
        "height": 800,
        "legend": {
         "tracegroupgap": 0
        },
        "template": {
         "data": {
          "bar": [
           {
            "error_x": {
             "color": "#2a3f5f"
            },
            "error_y": {
             "color": "#2a3f5f"
            },
            "marker": {
             "line": {
              "color": "#E5ECF6",
              "width": 0.5
             },
             "pattern": {
              "fillmode": "overlay",
              "size": 10,
              "solidity": 0.2
             }
            },
            "type": "bar"
           }
          ],
          "barpolar": [
           {
            "marker": {
             "line": {
              "color": "#E5ECF6",
              "width": 0.5
             },
             "pattern": {
              "fillmode": "overlay",
              "size": 10,
              "solidity": 0.2
             }
            },
            "type": "barpolar"
           }
          ],
          "carpet": [
           {
            "aaxis": {
             "endlinecolor": "#2a3f5f",
             "gridcolor": "white",
             "linecolor": "white",
             "minorgridcolor": "white",
             "startlinecolor": "#2a3f5f"
            },
            "baxis": {
             "endlinecolor": "#2a3f5f",
             "gridcolor": "white",
             "linecolor": "white",
             "minorgridcolor": "white",
             "startlinecolor": "#2a3f5f"
            },
            "type": "carpet"
           }
          ],
          "choropleth": [
           {
            "colorbar": {
             "outlinewidth": 0,
             "ticks": ""
            },
            "type": "choropleth"
           }
          ],
          "contour": [
           {
            "colorbar": {
             "outlinewidth": 0,
             "ticks": ""
            },
            "colorscale": [
             [
              0,
              "#0d0887"
             ],
             [
              0.1111111111111111,
              "#46039f"
             ],
             [
              0.2222222222222222,
              "#7201a8"
             ],
             [
              0.3333333333333333,
              "#9c179e"
             ],
             [
              0.4444444444444444,
              "#bd3786"
             ],
             [
              0.5555555555555556,
              "#d8576b"
             ],
             [
              0.6666666666666666,
              "#ed7953"
             ],
             [
              0.7777777777777778,
              "#fb9f3a"
             ],
             [
              0.8888888888888888,
              "#fdca26"
             ],
             [
              1,
              "#f0f921"
             ]
            ],
            "type": "contour"
           }
          ],
          "contourcarpet": [
           {
            "colorbar": {
             "outlinewidth": 0,
             "ticks": ""
            },
            "type": "contourcarpet"
           }
          ],
          "heatmap": [
           {
            "colorbar": {
             "outlinewidth": 0,
             "ticks": ""
            },
            "colorscale": [
             [
              0,
              "#0d0887"
             ],
             [
              0.1111111111111111,
              "#46039f"
             ],
             [
              0.2222222222222222,
              "#7201a8"
             ],
             [
              0.3333333333333333,
              "#9c179e"
             ],
             [
              0.4444444444444444,
              "#bd3786"
             ],
             [
              0.5555555555555556,
              "#d8576b"
             ],
             [
              0.6666666666666666,
              "#ed7953"
             ],
             [
              0.7777777777777778,
              "#fb9f3a"
             ],
             [
              0.8888888888888888,
              "#fdca26"
             ],
             [
              1,
              "#f0f921"
             ]
            ],
            "type": "heatmap"
           }
          ],
          "heatmapgl": [
           {
            "colorbar": {
             "outlinewidth": 0,
             "ticks": ""
            },
            "colorscale": [
             [
              0,
              "#0d0887"
             ],
             [
              0.1111111111111111,
              "#46039f"
             ],
             [
              0.2222222222222222,
              "#7201a8"
             ],
             [
              0.3333333333333333,
              "#9c179e"
             ],
             [
              0.4444444444444444,
              "#bd3786"
             ],
             [
              0.5555555555555556,
              "#d8576b"
             ],
             [
              0.6666666666666666,
              "#ed7953"
             ],
             [
              0.7777777777777778,
              "#fb9f3a"
             ],
             [
              0.8888888888888888,
              "#fdca26"
             ],
             [
              1,
              "#f0f921"
             ]
            ],
            "type": "heatmapgl"
           }
          ],
          "histogram": [
           {
            "marker": {
             "pattern": {
              "fillmode": "overlay",
              "size": 10,
              "solidity": 0.2
             }
            },
            "type": "histogram"
           }
          ],
          "histogram2d": [
           {
            "colorbar": {
             "outlinewidth": 0,
             "ticks": ""
            },
            "colorscale": [
             [
              0,
              "#0d0887"
             ],
             [
              0.1111111111111111,
              "#46039f"
             ],
             [
              0.2222222222222222,
              "#7201a8"
             ],
             [
              0.3333333333333333,
              "#9c179e"
             ],
             [
              0.4444444444444444,
              "#bd3786"
             ],
             [
              0.5555555555555556,
              "#d8576b"
             ],
             [
              0.6666666666666666,
              "#ed7953"
             ],
             [
              0.7777777777777778,
              "#fb9f3a"
             ],
             [
              0.8888888888888888,
              "#fdca26"
             ],
             [
              1,
              "#f0f921"
             ]
            ],
            "type": "histogram2d"
           }
          ],
          "histogram2dcontour": [
           {
            "colorbar": {
             "outlinewidth": 0,
             "ticks": ""
            },
            "colorscale": [
             [
              0,
              "#0d0887"
             ],
             [
              0.1111111111111111,
              "#46039f"
             ],
             [
              0.2222222222222222,
              "#7201a8"
             ],
             [
              0.3333333333333333,
              "#9c179e"
             ],
             [
              0.4444444444444444,
              "#bd3786"
             ],
             [
              0.5555555555555556,
              "#d8576b"
             ],
             [
              0.6666666666666666,
              "#ed7953"
             ],
             [
              0.7777777777777778,
              "#fb9f3a"
             ],
             [
              0.8888888888888888,
              "#fdca26"
             ],
             [
              1,
              "#f0f921"
             ]
            ],
            "type": "histogram2dcontour"
           }
          ],
          "mesh3d": [
           {
            "colorbar": {
             "outlinewidth": 0,
             "ticks": ""
            },
            "type": "mesh3d"
           }
          ],
          "parcoords": [
           {
            "line": {
             "colorbar": {
              "outlinewidth": 0,
              "ticks": ""
             }
            },
            "type": "parcoords"
           }
          ],
          "pie": [
           {
            "automargin": true,
            "type": "pie"
           }
          ],
          "scatter": [
           {
            "fillpattern": {
             "fillmode": "overlay",
             "size": 10,
             "solidity": 0.2
            },
            "type": "scatter"
           }
          ],
          "scatter3d": [
           {
            "line": {
             "colorbar": {
              "outlinewidth": 0,
              "ticks": ""
             }
            },
            "marker": {
             "colorbar": {
              "outlinewidth": 0,
              "ticks": ""
             }
            },
            "type": "scatter3d"
           }
          ],
          "scattercarpet": [
           {
            "marker": {
             "colorbar": {
              "outlinewidth": 0,
              "ticks": ""
             }
            },
            "type": "scattercarpet"
           }
          ],
          "scattergeo": [
           {
            "marker": {
             "colorbar": {
              "outlinewidth": 0,
              "ticks": ""
             }
            },
            "type": "scattergeo"
           }
          ],
          "scattergl": [
           {
            "marker": {
             "colorbar": {
              "outlinewidth": 0,
              "ticks": ""
             }
            },
            "type": "scattergl"
           }
          ],
          "scattermapbox": [
           {
            "marker": {
             "colorbar": {
              "outlinewidth": 0,
              "ticks": ""
             }
            },
            "type": "scattermapbox"
           }
          ],
          "scatterpolar": [
           {
            "marker": {
             "colorbar": {
              "outlinewidth": 0,
              "ticks": ""
             }
            },
            "type": "scatterpolar"
           }
          ],
          "scatterpolargl": [
           {
            "marker": {
             "colorbar": {
              "outlinewidth": 0,
              "ticks": ""
             }
            },
            "type": "scatterpolargl"
           }
          ],
          "scatterternary": [
           {
            "marker": {
             "colorbar": {
              "outlinewidth": 0,
              "ticks": ""
             }
            },
            "type": "scatterternary"
           }
          ],
          "surface": [
           {
            "colorbar": {
             "outlinewidth": 0,
             "ticks": ""
            },
            "colorscale": [
             [
              0,
              "#0d0887"
             ],
             [
              0.1111111111111111,
              "#46039f"
             ],
             [
              0.2222222222222222,
              "#7201a8"
             ],
             [
              0.3333333333333333,
              "#9c179e"
             ],
             [
              0.4444444444444444,
              "#bd3786"
             ],
             [
              0.5555555555555556,
              "#d8576b"
             ],
             [
              0.6666666666666666,
              "#ed7953"
             ],
             [
              0.7777777777777778,
              "#fb9f3a"
             ],
             [
              0.8888888888888888,
              "#fdca26"
             ],
             [
              1,
              "#f0f921"
             ]
            ],
            "type": "surface"
           }
          ],
          "table": [
           {
            "cells": {
             "fill": {
              "color": "#EBF0F8"
             },
             "line": {
              "color": "white"
             }
            },
            "header": {
             "fill": {
              "color": "#C8D4E3"
             },
             "line": {
              "color": "white"
             }
            },
            "type": "table"
           }
          ]
         },
         "layout": {
          "annotationdefaults": {
           "arrowcolor": "#2a3f5f",
           "arrowhead": 0,
           "arrowwidth": 1
          },
          "autotypenumbers": "strict",
          "coloraxis": {
           "colorbar": {
            "outlinewidth": 0,
            "ticks": ""
           }
          },
          "colorscale": {
           "diverging": [
            [
             0,
             "#8e0152"
            ],
            [
             0.1,
             "#c51b7d"
            ],
            [
             0.2,
             "#de77ae"
            ],
            [
             0.3,
             "#f1b6da"
            ],
            [
             0.4,
             "#fde0ef"
            ],
            [
             0.5,
             "#f7f7f7"
            ],
            [
             0.6,
             "#e6f5d0"
            ],
            [
             0.7,
             "#b8e186"
            ],
            [
             0.8,
             "#7fbc41"
            ],
            [
             0.9,
             "#4d9221"
            ],
            [
             1,
             "#276419"
            ]
           ],
           "sequential": [
            [
             0,
             "#0d0887"
            ],
            [
             0.1111111111111111,
             "#46039f"
            ],
            [
             0.2222222222222222,
             "#7201a8"
            ],
            [
             0.3333333333333333,
             "#9c179e"
            ],
            [
             0.4444444444444444,
             "#bd3786"
            ],
            [
             0.5555555555555556,
             "#d8576b"
            ],
            [
             0.6666666666666666,
             "#ed7953"
            ],
            [
             0.7777777777777778,
             "#fb9f3a"
            ],
            [
             0.8888888888888888,
             "#fdca26"
            ],
            [
             1,
             "#f0f921"
            ]
           ],
           "sequentialminus": [
            [
             0,
             "#0d0887"
            ],
            [
             0.1111111111111111,
             "#46039f"
            ],
            [
             0.2222222222222222,
             "#7201a8"
            ],
            [
             0.3333333333333333,
             "#9c179e"
            ],
            [
             0.4444444444444444,
             "#bd3786"
            ],
            [
             0.5555555555555556,
             "#d8576b"
            ],
            [
             0.6666666666666666,
             "#ed7953"
            ],
            [
             0.7777777777777778,
             "#fb9f3a"
            ],
            [
             0.8888888888888888,
             "#fdca26"
            ],
            [
             1,
             "#f0f921"
            ]
           ]
          },
          "colorway": [
           "#636efa",
           "#EF553B",
           "#00cc96",
           "#ab63fa",
           "#FFA15A",
           "#19d3f3",
           "#FF6692",
           "#B6E880",
           "#FF97FF",
           "#FECB52"
          ],
          "font": {
           "color": "#2a3f5f"
          },
          "geo": {
           "bgcolor": "white",
           "lakecolor": "white",
           "landcolor": "#E5ECF6",
           "showlakes": true,
           "showland": true,
           "subunitcolor": "white"
          },
          "hoverlabel": {
           "align": "left"
          },
          "hovermode": "closest",
          "mapbox": {
           "style": "light"
          },
          "paper_bgcolor": "white",
          "plot_bgcolor": "#E5ECF6",
          "polar": {
           "angularaxis": {
            "gridcolor": "white",
            "linecolor": "white",
            "ticks": ""
           },
           "bgcolor": "#E5ECF6",
           "radialaxis": {
            "gridcolor": "white",
            "linecolor": "white",
            "ticks": ""
           }
          },
          "scene": {
           "xaxis": {
            "backgroundcolor": "#E5ECF6",
            "gridcolor": "white",
            "gridwidth": 2,
            "linecolor": "white",
            "showbackground": true,
            "ticks": "",
            "zerolinecolor": "white"
           },
           "yaxis": {
            "backgroundcolor": "#E5ECF6",
            "gridcolor": "white",
            "gridwidth": 2,
            "linecolor": "white",
            "showbackground": true,
            "ticks": "",
            "zerolinecolor": "white"
           },
           "zaxis": {
            "backgroundcolor": "#E5ECF6",
            "gridcolor": "white",
            "gridwidth": 2,
            "linecolor": "white",
            "showbackground": true,
            "ticks": "",
            "zerolinecolor": "white"
           }
          },
          "shapedefaults": {
           "line": {
            "color": "#2a3f5f"
           }
          },
          "ternary": {
           "aaxis": {
            "gridcolor": "white",
            "linecolor": "white",
            "ticks": ""
           },
           "baxis": {
            "gridcolor": "white",
            "linecolor": "white",
            "ticks": ""
           },
           "bgcolor": "#E5ECF6",
           "caxis": {
            "gridcolor": "white",
            "linecolor": "white",
            "ticks": ""
           }
          },
          "title": {
           "x": 0.05
          },
          "xaxis": {
           "automargin": true,
           "gridcolor": "white",
           "linecolor": "white",
           "ticks": "",
           "title": {
            "standoff": 15
           },
           "zerolinecolor": "white",
           "zerolinewidth": 2
          },
          "yaxis": {
           "automargin": true,
           "gridcolor": "white",
           "linecolor": "white",
           "ticks": "",
           "title": {
            "standoff": 15
           },
           "zerolinecolor": "white",
           "zerolinewidth": 2
          }
         }
        },
        "title": {
         "text": "Loop flow decomposition with source country = Estonia"
        },
        "width": 1200
       }
      }
     },
     "metadata": {},
     "output_type": "display_data"
    }
   ],
   "source": [
    "country = random.Random(12).choice(list(countries)).name\n",
    "#country = pycountry.countries.get(alpha_2='CH').name # \"France\"\n",
    "plot_map(source=country)"
   ]
  },
  {
   "cell_type": "code",
   "execution_count": 25,
   "metadata": {},
   "outputs": [
    {
     "data": {
      "application/vnd.plotly.v1+json": {
       "config": {
        "plotlyServerURL": "https://plot.ly"
       },
       "data": [
        {
         "coloraxis": "coloraxis",
         "customdata": [
          [
           "Bulgaria",
           "Estonia",
           54.829135459466016,
           1.7468609026473056,
           "BGR"
          ],
          [
           "Czechia",
           "Estonia",
           1.9457417889366044,
           0.4691946757874353,
           "CZE"
          ],
          [
           "Denmark",
           "Estonia",
           1.3437180430549183,
           0.36990536344212954,
           "DNK"
          ],
          [
           "Estonia",
           "Estonia",
           -13.720555996358664,
           -1.1679242136421304,
           "EST"
          ],
          [
           "France",
           "Estonia",
           39.95068841234235,
           1.6122612069796742,
           "FRA"
          ],
          [
           "Hungary",
           "Estonia",
           -0.5154057411615265,
           -0.1805289282546052,
           "HUN"
          ],
          [
           "Ireland",
           "Estonia",
           0,
           0,
           "IRL"
          ],
          [
           "Lithuania",
           "Estonia",
           50.267229301340805,
           1.7098398469575864,
           "LTU"
          ],
          [
           "Luxembourg",
           "Estonia",
           81.02422151684391,
           1.913942117234942,
           "LUX"
          ]
         ],
         "geo": "geo",
         "hovertemplate": "Source country=%{customdata[0]}<br>Visited country=%{customdata[1]}<br>Loop Flow=%{customdata[2]:.1f}<extra></extra>",
         "locations": [
          "BGR",
          "CZE",
          "DNK",
          "EST",
          "FRA",
          "HUN",
          "IRL",
          "LTU",
          "LUX"
         ],
         "name": "",
         "type": "choropleth",
         "z": [
          1.7468609026473056,
          0.4691946757874353,
          0.36990536344212954,
          -1.1679242136421304,
          1.6122612069796742,
          -0.1805289282546052,
          0,
          1.7098398469575864,
          1.913942117234942
         ]
        }
       ],
       "layout": {
        "coloraxis": {
         "cmid": 0,
         "colorbar": {
          "ticktext": [
           -10,
           0,
           10
          ],
          "tickvals": [
           -1,
           0,
           1
          ],
          "title": {
           "text": "Loop Flow"
          }
         },
         "colorscale": [
          [
           0,
           "rgb(5,48,97)"
          ],
          [
           0.1,
           "rgb(33,102,172)"
          ],
          [
           0.2,
           "rgb(67,147,195)"
          ],
          [
           0.3,
           "rgb(146,197,222)"
          ],
          [
           0.4,
           "rgb(209,229,240)"
          ],
          [
           0.5,
           "rgb(247,247,247)"
          ],
          [
           0.6,
           "rgb(253,219,199)"
          ],
          [
           0.7,
           "rgb(244,165,130)"
          ],
          [
           0.8,
           "rgb(214,96,77)"
          ],
          [
           0.9,
           "rgb(178,24,43)"
          ],
          [
           1,
           "rgb(103,0,31)"
          ]
         ]
        },
        "geo": {
         "center": {},
         "domain": {
          "x": [
           0,
           1
          ],
          "y": [
           0,
           1
          ]
         },
         "lataxis": {
          "range": [
           30,
           70
          ]
         },
         "lonaxis": {
          "range": [
           -20,
           50
          ]
         }
        },
        "height": 800,
        "legend": {
         "tracegroupgap": 0
        },
        "template": {
         "data": {
          "bar": [
           {
            "error_x": {
             "color": "#2a3f5f"
            },
            "error_y": {
             "color": "#2a3f5f"
            },
            "marker": {
             "line": {
              "color": "#E5ECF6",
              "width": 0.5
             },
             "pattern": {
              "fillmode": "overlay",
              "size": 10,
              "solidity": 0.2
             }
            },
            "type": "bar"
           }
          ],
          "barpolar": [
           {
            "marker": {
             "line": {
              "color": "#E5ECF6",
              "width": 0.5
             },
             "pattern": {
              "fillmode": "overlay",
              "size": 10,
              "solidity": 0.2
             }
            },
            "type": "barpolar"
           }
          ],
          "carpet": [
           {
            "aaxis": {
             "endlinecolor": "#2a3f5f",
             "gridcolor": "white",
             "linecolor": "white",
             "minorgridcolor": "white",
             "startlinecolor": "#2a3f5f"
            },
            "baxis": {
             "endlinecolor": "#2a3f5f",
             "gridcolor": "white",
             "linecolor": "white",
             "minorgridcolor": "white",
             "startlinecolor": "#2a3f5f"
            },
            "type": "carpet"
           }
          ],
          "choropleth": [
           {
            "colorbar": {
             "outlinewidth": 0,
             "ticks": ""
            },
            "type": "choropleth"
           }
          ],
          "contour": [
           {
            "colorbar": {
             "outlinewidth": 0,
             "ticks": ""
            },
            "colorscale": [
             [
              0,
              "#0d0887"
             ],
             [
              0.1111111111111111,
              "#46039f"
             ],
             [
              0.2222222222222222,
              "#7201a8"
             ],
             [
              0.3333333333333333,
              "#9c179e"
             ],
             [
              0.4444444444444444,
              "#bd3786"
             ],
             [
              0.5555555555555556,
              "#d8576b"
             ],
             [
              0.6666666666666666,
              "#ed7953"
             ],
             [
              0.7777777777777778,
              "#fb9f3a"
             ],
             [
              0.8888888888888888,
              "#fdca26"
             ],
             [
              1,
              "#f0f921"
             ]
            ],
            "type": "contour"
           }
          ],
          "contourcarpet": [
           {
            "colorbar": {
             "outlinewidth": 0,
             "ticks": ""
            },
            "type": "contourcarpet"
           }
          ],
          "heatmap": [
           {
            "colorbar": {
             "outlinewidth": 0,
             "ticks": ""
            },
            "colorscale": [
             [
              0,
              "#0d0887"
             ],
             [
              0.1111111111111111,
              "#46039f"
             ],
             [
              0.2222222222222222,
              "#7201a8"
             ],
             [
              0.3333333333333333,
              "#9c179e"
             ],
             [
              0.4444444444444444,
              "#bd3786"
             ],
             [
              0.5555555555555556,
              "#d8576b"
             ],
             [
              0.6666666666666666,
              "#ed7953"
             ],
             [
              0.7777777777777778,
              "#fb9f3a"
             ],
             [
              0.8888888888888888,
              "#fdca26"
             ],
             [
              1,
              "#f0f921"
             ]
            ],
            "type": "heatmap"
           }
          ],
          "heatmapgl": [
           {
            "colorbar": {
             "outlinewidth": 0,
             "ticks": ""
            },
            "colorscale": [
             [
              0,
              "#0d0887"
             ],
             [
              0.1111111111111111,
              "#46039f"
             ],
             [
              0.2222222222222222,
              "#7201a8"
             ],
             [
              0.3333333333333333,
              "#9c179e"
             ],
             [
              0.4444444444444444,
              "#bd3786"
             ],
             [
              0.5555555555555556,
              "#d8576b"
             ],
             [
              0.6666666666666666,
              "#ed7953"
             ],
             [
              0.7777777777777778,
              "#fb9f3a"
             ],
             [
              0.8888888888888888,
              "#fdca26"
             ],
             [
              1,
              "#f0f921"
             ]
            ],
            "type": "heatmapgl"
           }
          ],
          "histogram": [
           {
            "marker": {
             "pattern": {
              "fillmode": "overlay",
              "size": 10,
              "solidity": 0.2
             }
            },
            "type": "histogram"
           }
          ],
          "histogram2d": [
           {
            "colorbar": {
             "outlinewidth": 0,
             "ticks": ""
            },
            "colorscale": [
             [
              0,
              "#0d0887"
             ],
             [
              0.1111111111111111,
              "#46039f"
             ],
             [
              0.2222222222222222,
              "#7201a8"
             ],
             [
              0.3333333333333333,
              "#9c179e"
             ],
             [
              0.4444444444444444,
              "#bd3786"
             ],
             [
              0.5555555555555556,
              "#d8576b"
             ],
             [
              0.6666666666666666,
              "#ed7953"
             ],
             [
              0.7777777777777778,
              "#fb9f3a"
             ],
             [
              0.8888888888888888,
              "#fdca26"
             ],
             [
              1,
              "#f0f921"
             ]
            ],
            "type": "histogram2d"
           }
          ],
          "histogram2dcontour": [
           {
            "colorbar": {
             "outlinewidth": 0,
             "ticks": ""
            },
            "colorscale": [
             [
              0,
              "#0d0887"
             ],
             [
              0.1111111111111111,
              "#46039f"
             ],
             [
              0.2222222222222222,
              "#7201a8"
             ],
             [
              0.3333333333333333,
              "#9c179e"
             ],
             [
              0.4444444444444444,
              "#bd3786"
             ],
             [
              0.5555555555555556,
              "#d8576b"
             ],
             [
              0.6666666666666666,
              "#ed7953"
             ],
             [
              0.7777777777777778,
              "#fb9f3a"
             ],
             [
              0.8888888888888888,
              "#fdca26"
             ],
             [
              1,
              "#f0f921"
             ]
            ],
            "type": "histogram2dcontour"
           }
          ],
          "mesh3d": [
           {
            "colorbar": {
             "outlinewidth": 0,
             "ticks": ""
            },
            "type": "mesh3d"
           }
          ],
          "parcoords": [
           {
            "line": {
             "colorbar": {
              "outlinewidth": 0,
              "ticks": ""
             }
            },
            "type": "parcoords"
           }
          ],
          "pie": [
           {
            "automargin": true,
            "type": "pie"
           }
          ],
          "scatter": [
           {
            "fillpattern": {
             "fillmode": "overlay",
             "size": 10,
             "solidity": 0.2
            },
            "type": "scatter"
           }
          ],
          "scatter3d": [
           {
            "line": {
             "colorbar": {
              "outlinewidth": 0,
              "ticks": ""
             }
            },
            "marker": {
             "colorbar": {
              "outlinewidth": 0,
              "ticks": ""
             }
            },
            "type": "scatter3d"
           }
          ],
          "scattercarpet": [
           {
            "marker": {
             "colorbar": {
              "outlinewidth": 0,
              "ticks": ""
             }
            },
            "type": "scattercarpet"
           }
          ],
          "scattergeo": [
           {
            "marker": {
             "colorbar": {
              "outlinewidth": 0,
              "ticks": ""
             }
            },
            "type": "scattergeo"
           }
          ],
          "scattergl": [
           {
            "marker": {
             "colorbar": {
              "outlinewidth": 0,
              "ticks": ""
             }
            },
            "type": "scattergl"
           }
          ],
          "scattermapbox": [
           {
            "marker": {
             "colorbar": {
              "outlinewidth": 0,
              "ticks": ""
             }
            },
            "type": "scattermapbox"
           }
          ],
          "scatterpolar": [
           {
            "marker": {
             "colorbar": {
              "outlinewidth": 0,
              "ticks": ""
             }
            },
            "type": "scatterpolar"
           }
          ],
          "scatterpolargl": [
           {
            "marker": {
             "colorbar": {
              "outlinewidth": 0,
              "ticks": ""
             }
            },
            "type": "scatterpolargl"
           }
          ],
          "scatterternary": [
           {
            "marker": {
             "colorbar": {
              "outlinewidth": 0,
              "ticks": ""
             }
            },
            "type": "scatterternary"
           }
          ],
          "surface": [
           {
            "colorbar": {
             "outlinewidth": 0,
             "ticks": ""
            },
            "colorscale": [
             [
              0,
              "#0d0887"
             ],
             [
              0.1111111111111111,
              "#46039f"
             ],
             [
              0.2222222222222222,
              "#7201a8"
             ],
             [
              0.3333333333333333,
              "#9c179e"
             ],
             [
              0.4444444444444444,
              "#bd3786"
             ],
             [
              0.5555555555555556,
              "#d8576b"
             ],
             [
              0.6666666666666666,
              "#ed7953"
             ],
             [
              0.7777777777777778,
              "#fb9f3a"
             ],
             [
              0.8888888888888888,
              "#fdca26"
             ],
             [
              1,
              "#f0f921"
             ]
            ],
            "type": "surface"
           }
          ],
          "table": [
           {
            "cells": {
             "fill": {
              "color": "#EBF0F8"
             },
             "line": {
              "color": "white"
             }
            },
            "header": {
             "fill": {
              "color": "#C8D4E3"
             },
             "line": {
              "color": "white"
             }
            },
            "type": "table"
           }
          ]
         },
         "layout": {
          "annotationdefaults": {
           "arrowcolor": "#2a3f5f",
           "arrowhead": 0,
           "arrowwidth": 1
          },
          "autotypenumbers": "strict",
          "coloraxis": {
           "colorbar": {
            "outlinewidth": 0,
            "ticks": ""
           }
          },
          "colorscale": {
           "diverging": [
            [
             0,
             "#8e0152"
            ],
            [
             0.1,
             "#c51b7d"
            ],
            [
             0.2,
             "#de77ae"
            ],
            [
             0.3,
             "#f1b6da"
            ],
            [
             0.4,
             "#fde0ef"
            ],
            [
             0.5,
             "#f7f7f7"
            ],
            [
             0.6,
             "#e6f5d0"
            ],
            [
             0.7,
             "#b8e186"
            ],
            [
             0.8,
             "#7fbc41"
            ],
            [
             0.9,
             "#4d9221"
            ],
            [
             1,
             "#276419"
            ]
           ],
           "sequential": [
            [
             0,
             "#0d0887"
            ],
            [
             0.1111111111111111,
             "#46039f"
            ],
            [
             0.2222222222222222,
             "#7201a8"
            ],
            [
             0.3333333333333333,
             "#9c179e"
            ],
            [
             0.4444444444444444,
             "#bd3786"
            ],
            [
             0.5555555555555556,
             "#d8576b"
            ],
            [
             0.6666666666666666,
             "#ed7953"
            ],
            [
             0.7777777777777778,
             "#fb9f3a"
            ],
            [
             0.8888888888888888,
             "#fdca26"
            ],
            [
             1,
             "#f0f921"
            ]
           ],
           "sequentialminus": [
            [
             0,
             "#0d0887"
            ],
            [
             0.1111111111111111,
             "#46039f"
            ],
            [
             0.2222222222222222,
             "#7201a8"
            ],
            [
             0.3333333333333333,
             "#9c179e"
            ],
            [
             0.4444444444444444,
             "#bd3786"
            ],
            [
             0.5555555555555556,
             "#d8576b"
            ],
            [
             0.6666666666666666,
             "#ed7953"
            ],
            [
             0.7777777777777778,
             "#fb9f3a"
            ],
            [
             0.8888888888888888,
             "#fdca26"
            ],
            [
             1,
             "#f0f921"
            ]
           ]
          },
          "colorway": [
           "#636efa",
           "#EF553B",
           "#00cc96",
           "#ab63fa",
           "#FFA15A",
           "#19d3f3",
           "#FF6692",
           "#B6E880",
           "#FF97FF",
           "#FECB52"
          ],
          "font": {
           "color": "#2a3f5f"
          },
          "geo": {
           "bgcolor": "white",
           "lakecolor": "white",
           "landcolor": "#E5ECF6",
           "showlakes": true,
           "showland": true,
           "subunitcolor": "white"
          },
          "hoverlabel": {
           "align": "left"
          },
          "hovermode": "closest",
          "mapbox": {
           "style": "light"
          },
          "paper_bgcolor": "white",
          "plot_bgcolor": "#E5ECF6",
          "polar": {
           "angularaxis": {
            "gridcolor": "white",
            "linecolor": "white",
            "ticks": ""
           },
           "bgcolor": "#E5ECF6",
           "radialaxis": {
            "gridcolor": "white",
            "linecolor": "white",
            "ticks": ""
           }
          },
          "scene": {
           "xaxis": {
            "backgroundcolor": "#E5ECF6",
            "gridcolor": "white",
            "gridwidth": 2,
            "linecolor": "white",
            "showbackground": true,
            "ticks": "",
            "zerolinecolor": "white"
           },
           "yaxis": {
            "backgroundcolor": "#E5ECF6",
            "gridcolor": "white",
            "gridwidth": 2,
            "linecolor": "white",
            "showbackground": true,
            "ticks": "",
            "zerolinecolor": "white"
           },
           "zaxis": {
            "backgroundcolor": "#E5ECF6",
            "gridcolor": "white",
            "gridwidth": 2,
            "linecolor": "white",
            "showbackground": true,
            "ticks": "",
            "zerolinecolor": "white"
           }
          },
          "shapedefaults": {
           "line": {
            "color": "#2a3f5f"
           }
          },
          "ternary": {
           "aaxis": {
            "gridcolor": "white",
            "linecolor": "white",
            "ticks": ""
           },
           "baxis": {
            "gridcolor": "white",
            "linecolor": "white",
            "ticks": ""
           },
           "bgcolor": "#E5ECF6",
           "caxis": {
            "gridcolor": "white",
            "linecolor": "white",
            "ticks": ""
           }
          },
          "title": {
           "x": 0.05
          },
          "xaxis": {
           "automargin": true,
           "gridcolor": "white",
           "linecolor": "white",
           "ticks": "",
           "title": {
            "standoff": 15
           },
           "zerolinecolor": "white",
           "zerolinewidth": 2
          },
          "yaxis": {
           "automargin": true,
           "gridcolor": "white",
           "linecolor": "white",
           "ticks": "",
           "title": {
            "standoff": 15
           },
           "zerolinecolor": "white",
           "zerolinewidth": 2
          }
         }
        },
        "title": {
         "text": "Loop flow decomposition with visited country = Estonia"
        },
        "width": 1200
       }
      }
     },
     "metadata": {},
     "output_type": "display_data"
    }
   ],
   "source": [
    "plot_map(visited=country)"
   ]
  },
  {
   "cell_type": "code",
   "execution_count": null,
   "metadata": {},
   "outputs": [],
   "source": []
  }
 ],
 "metadata": {
  "kernelspec": {
   "display_name": "Python 3.9.12 ('py39powsybl')",
   "language": "python",
   "name": "python3"
  },
  "language_info": {
   "codemirror_mode": {
    "name": "ipython",
    "version": 3
   },
   "file_extension": ".py",
   "mimetype": "text/x-python",
   "name": "python",
   "nbconvert_exporter": "python",
   "pygments_lexer": "ipython3",
   "version": "3.9.12"
  },
  "orig_nbformat": 4,
  "vscode": {
   "interpreter": {
    "hash": "6f165bd22a0c6739b02a0f15d38c1c28d76a892cc2ef1fbc8df4ef066b04d352"
   }
  }
 },
 "nbformat": 4,
 "nbformat_minor": 2
}
