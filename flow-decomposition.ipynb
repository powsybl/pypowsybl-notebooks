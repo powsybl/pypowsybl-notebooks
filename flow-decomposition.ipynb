{
 "cells": [
  {
   "cell_type": "markdown",
   "metadata": {},
   "source": [
    "\n",
    "## Licence\n",
    "Copyright (c) 2022, RTE (http://www.rte-france.com)\n",
    "This Source Code Form is subject to the terms of the Mozilla Public\n",
    "License, v. 2.0. If a copy of the MPL was not distributed with this\n",
    "file, You can obtain one at http://mozilla.org/MPL/2.0/.\n",
    "\n",
    "\n",
    "## Author\n",
    "Hugo Schindler <hugo.schindler at rte-france.com>\n",
    "\n",
    "\n",
    "## Description\n",
    "This notebook illustrates the flow decomposition algorithm results.\n",
    "All plots are in MW (if not explicitly normalized).\n",
    "A toy network is provided. Do not hesitate to load your network !"
   ]
  },
  {
   "cell_type": "code",
   "execution_count": 1,
   "metadata": {},
   "outputs": [],
   "source": [
    "import random\n",
    "import numpy as np\n",
    "import pandas as pd\n",
    "\n",
    "import plotly.express as px\n",
    "\n",
    "import pycountry\n",
    "\n",
    "import pypowsybl as pp\n",
    "\n",
    "pd.options.display.max_columns = None\n",
    "pd.options.display.expand_frame_repr = False\n"
   ]
  },
  {
   "cell_type": "code",
   "execution_count": 2,
   "metadata": {},
   "outputs": [],
   "source": [
    "colors = px.colors.qualitative.Dark24 + px.colors.qualitative.Light24\n",
    "random.Random(42).shuffle(colors)"
   ]
  },
  {
   "cell_type": "markdown",
   "metadata": {},
   "source": [
    "# Load a network\n",
    "\n",
    "You can load your own network with \n",
    "net = pp.network.load(...)"
   ]
  },
  {
   "cell_type": "code",
   "execution_count": 3,
   "metadata": {},
   "outputs": [],
   "source": [
    "def get_upgraded_ieee_net():\n",
    "    net = pp.network.create_ieee300()\n",
    "\n",
    "    # add country to substations\n",
    "    substation_ids = net.get_substations().index\n",
    "    all_countries = [\"AT\", \"BE\", \"BG\", \"CY\", \"CZ\", \"DE\", \"DK\", \"EE\", \"ES\", \"FI\", \"FR\", \"GR\", \"HR\", \"HU\", \"IE\", \"IT\", \"LT\", \"LU\", \"LV\", \"NL\", \"PL\", \"PT\", \"RO\", \"SE\", \"SI\", \"SK\"] # \"MT\"\n",
    "    #all_countries = ['AF', 'AX', 'AL', 'DZ', 'AS', 'AD', 'AO', 'AI', 'AQ', 'AG', 'AR', 'AM', 'AW', 'AU', 'AT', 'AZ', 'BS', 'BH', 'BD', 'BB', 'BY', 'BE', 'BZ', 'BJ', 'BM', 'BT', 'BO', 'BQ', 'BA', 'BW', 'BV', 'BR', 'IO', 'BN', 'BG', 'BF', 'BI', 'KH', 'CM', 'CA', 'CV', 'KY', 'CF', 'TD', 'CL', 'CN', 'CX', 'CC', 'CO', 'KM', 'CG', 'CD', 'CK', 'CR', 'CI', 'HR', 'CU', 'CW', 'CY', 'CZ', 'DK', 'DJ', 'DM', 'DO', 'EC', 'EG', 'SV', 'GQ', 'ER', 'EE', 'ET', 'FK', 'FO', 'FJ', 'FI', 'FR', 'GF', 'PF', 'TF', 'GA', 'GM', 'GE', 'DE', 'GH', 'GI', 'GR', 'GL', 'GD', 'GP', 'GU', 'GT', 'GG', 'GN', 'GW', 'GY', 'HT', 'HM', 'VA', 'HN', 'HK', 'HU', 'IS', 'IN', 'ID', 'IR', 'IQ', 'IE', 'IM', 'IL', 'IT', 'JM', 'JP', 'JE', 'JO', 'KZ', 'KE', 'KI', 'KP', 'KR', 'XK', 'KW', 'KG', 'LA', 'LV', 'LB', 'LS', 'LR', 'LY', 'LI', 'LT', 'LU', 'MO', 'MK', 'MG', 'MW', 'MY', 'MV', 'ML', 'MT', 'MH', 'MQ', 'MR', 'MU', 'YT', 'MX', 'FM', 'MD', 'MC', 'MN', 'ME', 'MS', 'MA', 'MZ', 'MM', 'NA', 'NR', 'NP', 'NL', 'NC', 'NZ', 'NI', 'NE', 'NG', 'NU', 'NF', 'MP', 'NO', 'OM', 'PK', 'PW', 'PS', 'PA', 'PG', 'PY', 'PE', 'PH', 'PN', 'PL', 'PT', 'PR', 'QA', 'RE', 'RO', 'RU', 'RW', 'BL', 'SH', 'KN', 'LC', 'MF', 'PM', 'VC', 'WS', 'SM', 'ST', 'SA', 'SN', 'RS', 'SC', 'SL', 'SG', 'SX', 'SK', 'SI', 'SB', 'SO', 'ZA', 'GS', 'SS', 'ES', 'LK', 'SD', 'SR', 'SJ', 'SZ', 'SE', 'CH', 'SY', 'TW', 'TJ', 'TZ', 'TH', 'TL', 'TG', 'TK', 'TO', 'TT', 'TN', 'TR', 'TM', 'TC', 'TV', 'UG', 'UA', 'AE', 'GB', 'US', 'UM', 'UY', 'UZ', 'VU', 'VE', 'VN', 'VG', 'VI', 'WF', 'EH', 'YE', 'ZM', 'ZW']\n",
    "    number_country = 10\n",
    "    random.Random(42).shuffle(all_countries)\n",
    "    substation_countries = random.Random(42).choices(random.Random(42).choices(all_countries, k=number_country), k=len(substation_ids))\n",
    "    net.update_substations(id=substation_ids, country=substation_countries)\n",
    "\n",
    "    # disconnect shunt: not supported yet\n",
    "    sh = net.get_shunt_compensators().index\n",
    "    net.update_shunt_compensators(id=sh, connected=[False]*len(sh))\n",
    "\n",
    "    # generator fix: otherwise they are discarded because of not plausible Pmax\n",
    "    gen = net.get_generators().index\n",
    "    net.update_generators(id=gen, max_p=[2000]*len(gen), min_p=[-2000]*len(gen))\n",
    "\n",
    "    #net.dump(\"/tmp/test-net.xiidm\")\n",
    "\n",
    "    return net"
   ]
  },
  {
   "cell_type": "code",
   "execution_count": 4,
   "metadata": {},
   "outputs": [],
   "source": [
    "net = get_upgraded_ieee_net()"
   ]
  },
  {
   "cell_type": "markdown",
   "metadata": {},
   "source": [
    "# Run a flow decomposition\n",
    "\n",
    "Running a flow decomposition with those parameter might take a while and a lot of RAM.\n",
    "The default parameters consume less ressources.\n",
    "\n",
    "We also add a few useful columns to the dataframe:\n",
    "- total loop flow\n",
    "- total flow\n",
    "\n",
    "All the computation are donc in state N."
   ]
  },
  {
   "cell_type": "code",
   "execution_count": 5,
   "metadata": {},
   "outputs": [],
   "source": [
    "parameters = pp.flowdecomposition.Parameters(enable_losses_compensation=True,\n",
    "    losses_compensation_epsilon=pp.flowdecomposition.Parameters.DISABLE_LOSSES_COMPENSATION_EPSILON,\n",
    "    sensitivity_epsilon=pp.flowdecomposition.Parameters.DISABLE_SENSITIVITY_EPSILON,\n",
    "    rescale_enabled=False,\n",
    "    branch_selection_strategy=pp.flowdecomposition.BranchSelectionStrategy.ZONE_TO_ZONE_PTDF_CRITERIA,\n",
    "    contingency_strategy=pp.flowdecomposition.ContingencyStrategy.ONLY_N_STATE,\n",
    "    )\n",
    "flow_dec_original=pp.flowdecomposition.run(net, parameters=parameters)"
   ]
  },
  {
   "cell_type": "code",
   "execution_count": 6,
   "metadata": {},
   "outputs": [
    {
     "data": {
      "text/plain": [
       "{'InitialState'}"
      ]
     },
     "execution_count": 6,
     "metadata": {},
     "output_type": "execute_result"
    }
   ],
   "source": [
    "flow_dec = flow_dec_original.copy()\n",
    "set(flow_dec['contingency_id'])"
   ]
  },
  {
   "cell_type": "code",
   "execution_count": 7,
   "metadata": {},
   "outputs": [],
   "source": [
    "flow_dec = flow_dec[flow_dec['contingency_id'] == 'InitialState']\n",
    "flow_dec['total_flow'] = flow_dec[[c for c in flow_dec.columns if ('reference' not in c and 'flow' in c)]].sum(axis=1)\n",
    "flow_dec['total_loop_flow'] = flow_dec[[c for c in flow_dec.columns if 'loop_flow_from_' in c]].sum(axis=1)\n",
    "\n",
    "def alpha_2_to_country(l):\n",
    "    return [pycountry.countries.get(alpha_2=alpha_2) for alpha_2 in l]\n",
    "\n",
    "countries_alpha2 = set(flow_dec[\"country1\"]).union(set(flow_dec[\"country2\"]))\n",
    "countries = alpha_2_to_country(countries_alpha2)\n",
    "\n"
   ]
  },
  {
   "cell_type": "markdown",
   "metadata": {},
   "source": [
    "# Flow decomposition top bar charts\n",
    "\n",
    "The top lines are selected given a metric."
   ]
  },
  {
   "cell_type": "code",
   "execution_count": 8,
   "metadata": {},
   "outputs": [],
   "source": [
    "def flow_decomposition_bar_chart(sorting_column, ascending=False, head=20, plot_scatter=True):\n",
    "    threshold = .05\n",
    "    df = flow_dec.sort_values(sorting_column, ascending = ascending).head(head).copy()\n",
    "    df_p = df[[c for c in flow_dec.columns if ('reference' not in c and 'total' not in c and 'flow' in c)]]\n",
    "    df_m = df_p.abs().div(df_p.abs().sum(axis=1), axis=0) > threshold\n",
    "    df_f = df_p[df_m]\n",
    "    df_f['masked_flows_positive'] = df_p[df_p[df_m == False]>0].sum(axis=1)\n",
    "    df_f['masked_flows_negative'] = df_p[df_p[df_m == False]<0].sum(axis=1)\n",
    "    fig = px.bar(df_f,\n",
    "        orientation='h',\n",
    "        color_discrete_sequence=colors[:df_f.columns.size],\n",
    "        text_auto='.0f',\n",
    "        title=f'Sorted by: {sorting_column}, ascending: {ascending}, head: {head}',\n",
    "        height=1000,\n",
    "        labels={\n",
    "            'branch_id':'Branch id',\n",
    "            'value': 'Flow decomposition value',\n",
    "            'variable': 'Decomposition part:',\n",
    "        },\n",
    "        template=\"seaborn\",\n",
    "        )\n",
    "    if plot_scatter:\n",
    "        fig.add_scatter(\n",
    "            y=df.index,\n",
    "            x=df['total_flow'],\n",
    "            mode='lines+markers',\n",
    "            name='total_flow'\n",
    "            )\n",
    "        fig.add_scatter(\n",
    "            y=df.index,\n",
    "            x=df['total_loop_flow'],\n",
    "            mode='lines+markers',\n",
    "            name='total_loop_flow'\n",
    "            )\n",
    "    fig.show()"
   ]
  },
  {
   "cell_type": "code",
   "execution_count": 9,
   "metadata": {},
   "outputs": [
    {
     "data": {
      "application/vnd.plotly.v1+json": {
       "config": {
        "plotlyServerURL": "https://plot.ly"
       },
       "data": [
        {
         "alignmentgroup": "True",
         "hovertemplate": "Decomposition part:=commercial_flow<br>Flow decomposition value=%{x}<br>xnec_id=%{y}<extra></extra>",
         "legendgroup": "commercial_flow",
         "marker": {
          "color": "#0DF9FF",
          "pattern": {
           "shape": ""
          }
         },
         "name": "commercial_flow",
         "offsetgroup": "commercial_flow",
         "orientation": "h",
         "showlegend": true,
         "textposition": "auto",
         "texttemplate": "%{x:.0f}",
         "type": "bar",
         "x": [
          null,
          null,
          null,
          null,
          null,
          null,
          null,
          null,
          null,
          null,
          null,
          null,
          null,
          null,
          null,
          null,
          null,
          null,
          null,
          null
         ],
         "xaxis": "x",
         "y": [
          "T7130-130-1_InitialState",
          "T7003-3-1_InitialState",
          "L191-192-1_InitialState",
          "L4-16-1_InitialState",
          "T3-4-1_InitialState",
          "L133-171-1_InitialState",
          "L133-137-1_InitialState",
          "L119-120-1_InitialState",
          "T7139-139-1_InitialState",
          "L186-188-1_InitialState",
          "L225-191-1_InitialState",
          "L181-187-1_InitialState",
          "T7002-2-1_InitialState",
          "T234-236-1_InitialState",
          "L118-119-1_InitialState",
          "T241-237-1_InitialState",
          "T7166-166-1_InitialState",
          "L165-166-1_InitialState",
          "L162-165-1_InitialState",
          "L42-46-1_InitialState"
         ],
         "yaxis": "y"
        },
        {
         "alignmentgroup": "True",
         "hovertemplate": "Decomposition part:=pst_flow<br>Flow decomposition value=%{x}<br>xnec_id=%{y}<extra></extra>",
         "legendgroup": "pst_flow",
         "marker": {
          "color": "#AF0038",
          "pattern": {
           "shape": ""
          }
         },
         "name": "pst_flow",
         "offsetgroup": "pst_flow",
         "orientation": "h",
         "showlegend": true,
         "textposition": "auto",
         "texttemplate": "%{x:.0f}",
         "type": "bar",
         "x": [
          null,
          null,
          null,
          null,
          null,
          null,
          null,
          null,
          null,
          null,
          null,
          null,
          null,
          null,
          null,
          null,
          null,
          null,
          null,
          null
         ],
         "xaxis": "x",
         "y": [
          "T7130-130-1_InitialState",
          "T7003-3-1_InitialState",
          "L191-192-1_InitialState",
          "L4-16-1_InitialState",
          "T3-4-1_InitialState",
          "L133-171-1_InitialState",
          "L133-137-1_InitialState",
          "L119-120-1_InitialState",
          "T7139-139-1_InitialState",
          "L186-188-1_InitialState",
          "L225-191-1_InitialState",
          "L181-187-1_InitialState",
          "T7002-2-1_InitialState",
          "T234-236-1_InitialState",
          "L118-119-1_InitialState",
          "T241-237-1_InitialState",
          "T7166-166-1_InitialState",
          "L165-166-1_InitialState",
          "L162-165-1_InitialState",
          "L42-46-1_InitialState"
         ],
         "yaxis": "y"
        },
        {
         "alignmentgroup": "True",
         "hovertemplate": "Decomposition part:=loop_flow_from_at<br>Flow decomposition value=%{x}<br>xnec_id=%{y}<extra></extra>",
         "legendgroup": "loop_flow_from_at",
         "marker": {
          "color": "#FD3216",
          "pattern": {
           "shape": ""
          }
         },
         "name": "loop_flow_from_at",
         "offsetgroup": "loop_flow_from_at",
         "orientation": "h",
         "showlegend": true,
         "textposition": "auto",
         "texttemplate": "%{x:.0f}",
         "type": "bar",
         "x": [
          null,
          1189.131730914588,
          null,
          832.0328246689855,
          832.0328246689851,
          null,
          -410.36518800189424,
          null,
          null,
          null,
          null,
          null,
          602.1317309145877,
          null,
          null,
          null,
          null,
          null,
          null,
          727.5500166768979
         ],
         "xaxis": "x",
         "y": [
          "T7130-130-1_InitialState",
          "T7003-3-1_InitialState",
          "L191-192-1_InitialState",
          "L4-16-1_InitialState",
          "T3-4-1_InitialState",
          "L133-171-1_InitialState",
          "L133-137-1_InitialState",
          "L119-120-1_InitialState",
          "T7139-139-1_InitialState",
          "L186-188-1_InitialState",
          "L225-191-1_InitialState",
          "L181-187-1_InitialState",
          "T7002-2-1_InitialState",
          "T234-236-1_InitialState",
          "L118-119-1_InitialState",
          "T241-237-1_InitialState",
          "T7166-166-1_InitialState",
          "L165-166-1_InitialState",
          "L162-165-1_InitialState",
          "L42-46-1_InitialState"
         ],
         "yaxis": "y"
        },
        {
         "alignmentgroup": "True",
         "hovertemplate": "Decomposition part:=loop_flow_from_bg<br>Flow decomposition value=%{x}<br>xnec_id=%{y}<extra></extra>",
         "legendgroup": "loop_flow_from_bg",
         "marker": {
          "color": "#00A08B",
          "pattern": {
           "shape": ""
          }
         },
         "name": "loop_flow_from_bg",
         "offsetgroup": "loop_flow_from_bg",
         "orientation": "h",
         "showlegend": true,
         "textposition": "auto",
         "texttemplate": "%{x:.0f}",
         "type": "bar",
         "x": [
          null,
          null,
          null,
          null,
          null,
          null,
          780.4255683576197,
          null,
          null,
          679.0202396879231,
          null,
          74.21196433415994,
          null,
          null,
          null,
          null,
          null,
          null,
          null,
          -348.6894005328385
         ],
         "xaxis": "x",
         "y": [
          "T7130-130-1_InitialState",
          "T7003-3-1_InitialState",
          "L191-192-1_InitialState",
          "L4-16-1_InitialState",
          "T3-4-1_InitialState",
          "L133-171-1_InitialState",
          "L133-137-1_InitialState",
          "L119-120-1_InitialState",
          "T7139-139-1_InitialState",
          "L186-188-1_InitialState",
          "L225-191-1_InitialState",
          "L181-187-1_InitialState",
          "T7002-2-1_InitialState",
          "T234-236-1_InitialState",
          "L118-119-1_InitialState",
          "T241-237-1_InitialState",
          "T7166-166-1_InitialState",
          "L165-166-1_InitialState",
          "L162-165-1_InitialState",
          "L42-46-1_InitialState"
         ],
         "yaxis": "y"
        },
        {
         "alignmentgroup": "True",
         "hovertemplate": "Decomposition part:=loop_flow_from_cz<br>Flow decomposition value=%{x}<br>xnec_id=%{y}<extra></extra>",
         "legendgroup": "loop_flow_from_cz",
         "marker": {
          "color": "#6C4516",
          "pattern": {
           "shape": ""
          }
         },
         "name": "loop_flow_from_cz",
         "offsetgroup": "loop_flow_from_cz",
         "orientation": "h",
         "showlegend": true,
         "textposition": "auto",
         "texttemplate": "%{x:.0f}",
         "type": "bar",
         "x": [
          null,
          null,
          null,
          -297.97250833236086,
          -297.972508332361,
          null,
          null,
          401.39022444918515,
          714.1117384731668,
          null,
          null,
          null,
          null,
          null,
          -256.27125338140496,
          null,
          null,
          null,
          null,
          -237.07620368858392
         ],
         "xaxis": "x",
         "y": [
          "T7130-130-1_InitialState",
          "T7003-3-1_InitialState",
          "L191-192-1_InitialState",
          "L4-16-1_InitialState",
          "T3-4-1_InitialState",
          "L133-171-1_InitialState",
          "L133-137-1_InitialState",
          "L119-120-1_InitialState",
          "T7139-139-1_InitialState",
          "L186-188-1_InitialState",
          "L225-191-1_InitialState",
          "L181-187-1_InitialState",
          "T7002-2-1_InitialState",
          "T234-236-1_InitialState",
          "L118-119-1_InitialState",
          "T241-237-1_InitialState",
          "T7166-166-1_InitialState",
          "L165-166-1_InitialState",
          "L162-165-1_InitialState",
          "L42-46-1_InitialState"
         ],
         "yaxis": "y"
        },
        {
         "alignmentgroup": "True",
         "hovertemplate": "Decomposition part:=loop_flow_from_dk<br>Flow decomposition value=%{x}<br>xnec_id=%{y}<extra></extra>",
         "legendgroup": "loop_flow_from_dk",
         "marker": {
          "color": "#511CFB",
          "pattern": {
           "shape": ""
          }
         },
         "name": "loop_flow_from_dk",
         "offsetgroup": "loop_flow_from_dk",
         "orientation": "h",
         "showlegend": true,
         "textposition": "auto",
         "texttemplate": "%{x:.0f}",
         "type": "bar",
         "x": [
          null,
          null,
          59.75429856814041,
          600.9404657851361,
          600.9404657851364,
          null,
          878.8640686427228,
          null,
          null,
          -73.49413538155457,
          -62.19680297731161,
          567.3499070031355,
          null,
          null,
          null,
          573.7243209876542,
          null,
          null,
          null,
          552.1168773587655
         ],
         "xaxis": "x",
         "y": [
          "T7130-130-1_InitialState",
          "T7003-3-1_InitialState",
          "L191-192-1_InitialState",
          "L4-16-1_InitialState",
          "T3-4-1_InitialState",
          "L133-171-1_InitialState",
          "L133-137-1_InitialState",
          "L119-120-1_InitialState",
          "T7139-139-1_InitialState",
          "L186-188-1_InitialState",
          "L225-191-1_InitialState",
          "L181-187-1_InitialState",
          "T7002-2-1_InitialState",
          "T234-236-1_InitialState",
          "L118-119-1_InitialState",
          "T241-237-1_InitialState",
          "T7166-166-1_InitialState",
          "L165-166-1_InitialState",
          "L162-165-1_InitialState",
          "L42-46-1_InitialState"
         ],
         "yaxis": "y"
        },
        {
         "alignmentgroup": "True",
         "hovertemplate": "Decomposition part:=loop_flow_from_fi<br>Flow decomposition value=%{x}<br>xnec_id=%{y}<extra></extra>",
         "legendgroup": "loop_flow_from_fi",
         "marker": {
          "color": "#F6F926",
          "pattern": {
           "shape": ""
          }
         },
         "name": "loop_flow_from_fi",
         "offsetgroup": "loop_flow_from_fi",
         "orientation": "h",
         "showlegend": true,
         "textposition": "auto",
         "texttemplate": "%{x:.0f}",
         "type": "bar",
         "x": [
          null,
          null,
          null,
          null,
          null,
          null,
          -636.1417243265815,
          null,
          null,
          72.85800990596678,
          null,
          null,
          null,
          null,
          null,
          null,
          null,
          null,
          null,
          null
         ],
         "xaxis": "x",
         "y": [
          "T7130-130-1_InitialState",
          "T7003-3-1_InitialState",
          "L191-192-1_InitialState",
          "L4-16-1_InitialState",
          "T3-4-1_InitialState",
          "L133-171-1_InitialState",
          "L133-137-1_InitialState",
          "L119-120-1_InitialState",
          "T7139-139-1_InitialState",
          "L186-188-1_InitialState",
          "L225-191-1_InitialState",
          "L181-187-1_InitialState",
          "T7002-2-1_InitialState",
          "T234-236-1_InitialState",
          "L118-119-1_InitialState",
          "T241-237-1_InitialState",
          "T7166-166-1_InitialState",
          "L165-166-1_InitialState",
          "L162-165-1_InitialState",
          "L42-46-1_InitialState"
         ],
         "yaxis": "y"
        },
        {
         "alignmentgroup": "True",
         "hovertemplate": "Decomposition part:=loop_flow_from_fr<br>Flow decomposition value=%{x}<br>xnec_id=%{y}<extra></extra>",
         "legendgroup": "loop_flow_from_fr",
         "marker": {
          "color": "#C9FBE5",
          "pattern": {
           "shape": ""
          }
         },
         "name": "loop_flow_from_fr",
         "offsetgroup": "loop_flow_from_fr",
         "orientation": "h",
         "showlegend": true,
         "textposition": "auto",
         "texttemplate": "%{x:.0f}",
         "type": "bar",
         "x": [
          1285.5822927689599,
          null,
          null,
          null,
          null,
          null,
          -210.59697209013785,
          null,
          null,
          null,
          null,
          null,
          null,
          593.5822927689603,
          null,
          null,
          null,
          null,
          null,
          -181.99731939977372
         ],
         "xaxis": "x",
         "y": [
          "T7130-130-1_InitialState",
          "T7003-3-1_InitialState",
          "L191-192-1_InitialState",
          "L4-16-1_InitialState",
          "T3-4-1_InitialState",
          "L133-171-1_InitialState",
          "L133-137-1_InitialState",
          "L119-120-1_InitialState",
          "T7139-139-1_InitialState",
          "L186-188-1_InitialState",
          "L225-191-1_InitialState",
          "L181-187-1_InitialState",
          "T7002-2-1_InitialState",
          "T234-236-1_InitialState",
          "L118-119-1_InitialState",
          "T241-237-1_InitialState",
          "T7166-166-1_InitialState",
          "L165-166-1_InitialState",
          "L162-165-1_InitialState",
          "L42-46-1_InitialState"
         ],
         "yaxis": "y"
        },
        {
         "alignmentgroup": "True",
         "hovertemplate": "Decomposition part:=loop_flow_from_gr<br>Flow decomposition value=%{x}<br>xnec_id=%{y}<extra></extra>",
         "legendgroup": "loop_flow_from_gr",
         "marker": {
          "color": "#FC0080",
          "pattern": {
           "shape": ""
          }
         },
         "name": "loop_flow_from_gr",
         "offsetgroup": "loop_flow_from_gr",
         "orientation": "h",
         "showlegend": true,
         "textposition": "auto",
         "texttemplate": "%{x:.0f}",
         "type": "bar",
         "x": [
          null,
          null,
          747.7525256329782,
          -656.0105701214636,
          -656.0105701214638,
          null,
          281.118775397712,
          -65.00572693207401,
          null,
          null,
          698.7195731324547,
          null,
          -38.26472663139333,
          -38.26472663139375,
          -151.5761073628378,
          -38.264726631393806,
          515.4720987654323,
          515.4720987654325,
          515.4720987654318,
          -715.7375258961848
         ],
         "xaxis": "x",
         "y": [
          "T7130-130-1_InitialState",
          "T7003-3-1_InitialState",
          "L191-192-1_InitialState",
          "L4-16-1_InitialState",
          "T3-4-1_InitialState",
          "L133-171-1_InitialState",
          "L133-137-1_InitialState",
          "L119-120-1_InitialState",
          "T7139-139-1_InitialState",
          "L186-188-1_InitialState",
          "L225-191-1_InitialState",
          "L181-187-1_InitialState",
          "T7002-2-1_InitialState",
          "T234-236-1_InitialState",
          "L118-119-1_InitialState",
          "T241-237-1_InitialState",
          "T7166-166-1_InitialState",
          "L165-166-1_InitialState",
          "L162-165-1_InitialState",
          "L42-46-1_InitialState"
         ],
         "yaxis": "y"
        },
        {
         "alignmentgroup": "True",
         "hovertemplate": "Decomposition part:=loop_flow_from_lt<br>Flow decomposition value=%{x}<br>xnec_id=%{y}<extra></extra>",
         "legendgroup": "loop_flow_from_lt",
         "marker": {
          "color": "#FB0D0D",
          "pattern": {
           "shape": ""
          }
         },
         "name": "loop_flow_from_lt",
         "offsetgroup": "loop_flow_from_lt",
         "orientation": "h",
         "showlegend": true,
         "textposition": "auto",
         "texttemplate": "%{x:.0f}",
         "type": "bar",
         "x": [
          null,
          null,
          null,
          310.6343294337671,
          310.63432943376756,
          763.6000000000004,
          -379.90463875513603,
          374.3130448558028,
          null,
          null,
          null,
          null,
          null,
          null,
          1007.0962137521875,
          null,
          null,
          null,
          null,
          436.6549358969289
         ],
         "xaxis": "x",
         "y": [
          "T7130-130-1_InitialState",
          "T7003-3-1_InitialState",
          "L191-192-1_InitialState",
          "L4-16-1_InitialState",
          "T3-4-1_InitialState",
          "L133-171-1_InitialState",
          "L133-137-1_InitialState",
          "L119-120-1_InitialState",
          "T7139-139-1_InitialState",
          "L186-188-1_InitialState",
          "L225-191-1_InitialState",
          "L181-187-1_InitialState",
          "T7002-2-1_InitialState",
          "T234-236-1_InitialState",
          "L118-119-1_InitialState",
          "T241-237-1_InitialState",
          "T7166-166-1_InitialState",
          "L165-166-1_InitialState",
          "L162-165-1_InitialState",
          "L42-46-1_InitialState"
         ],
         "yaxis": "y"
        },
        {
         "alignmentgroup": "True",
         "hovertemplate": "Decomposition part:=loop_flow_from_lu<br>Flow decomposition value=%{x}<br>xnec_id=%{y}<extra></extra>",
         "legendgroup": "loop_flow_from_lu",
         "marker": {
          "color": "#D626FF",
          "pattern": {
           "shape": ""
          }
         },
         "name": "loop_flow_from_lu",
         "offsetgroup": "loop_flow_from_lu",
         "orientation": "h",
         "showlegend": true,
         "textposition": "auto",
         "texttemplate": "%{x:.0f}",
         "type": "bar",
         "x": [
          null,
          null,
          null,
          216.47287088934195,
          216.47287088934155,
          null,
          388.97980040815224,
          null,
          null,
          null,
          null,
          null,
          null,
          null,
          null,
          null,
          null,
          null,
          null,
          263.10773873604995
         ],
         "xaxis": "x",
         "y": [
          "T7130-130-1_InitialState",
          "T7003-3-1_InitialState",
          "L191-192-1_InitialState",
          "L4-16-1_InitialState",
          "T3-4-1_InitialState",
          "L133-171-1_InitialState",
          "L133-137-1_InitialState",
          "L119-120-1_InitialState",
          "T7139-139-1_InitialState",
          "L186-188-1_InitialState",
          "L225-191-1_InitialState",
          "L181-187-1_InitialState",
          "T7002-2-1_InitialState",
          "T234-236-1_InitialState",
          "L118-119-1_InitialState",
          "T241-237-1_InitialState",
          "T7166-166-1_InitialState",
          "L165-166-1_InitialState",
          "L162-165-1_InitialState",
          "L42-46-1_InitialState"
         ],
         "yaxis": "y"
        },
        {
         "alignmentgroup": "True",
         "hovertemplate": "Decomposition part:=masked_flows_positive<br>Flow decomposition value=%{x}<br>xnec_id=%{y}<extra></extra>",
         "legendgroup": "masked_flows_positive",
         "marker": {
          "color": "#DA16FF",
          "pattern": {
           "shape": ""
          }
         },
         "name": "masked_flows_positive",
         "offsetgroup": "masked_flows_positive",
         "orientation": "h",
         "showlegend": true,
         "textposition": "auto",
         "texttemplate": "%{x:.0f}",
         "type": "bar",
         "x": [
          69.46685815066775,
          69.46685815066772,
          35.91083345076892,
          0,
          0,
          3.9610892043400583e-13,
          25.94446633831724,
          9.592327032406674,
          56.09194507432613,
          15.690918188689212,
          33.55602469989904,
          45.30831129313356,
          69.46685815066755,
          69.4668581506681,
          25.29543765520831,
          69.46685815066752,
          69.46685815066775,
          69.46685815066792,
          69.46685815066763,
          56.90136603362514
         ],
         "xaxis": "x",
         "y": [
          "T7130-130-1_InitialState",
          "T7003-3-1_InitialState",
          "L191-192-1_InitialState",
          "L4-16-1_InitialState",
          "T3-4-1_InitialState",
          "L133-171-1_InitialState",
          "L133-137-1_InitialState",
          "L119-120-1_InitialState",
          "T7139-139-1_InitialState",
          "L186-188-1_InitialState",
          "L225-191-1_InitialState",
          "L181-187-1_InitialState",
          "T7002-2-1_InitialState",
          "T234-236-1_InitialState",
          "L118-119-1_InitialState",
          "T241-237-1_InitialState",
          "T7166-166-1_InitialState",
          "L165-166-1_InitialState",
          "L162-165-1_InitialState",
          "L42-46-1_InitialState"
         ],
         "yaxis": "y"
        },
        {
         "alignmentgroup": "True",
         "hovertemplate": "Decomposition part:=masked_flows_negative<br>Flow decomposition value=%{x}<br>xnec_id=%{y}<extra></extra>",
         "legendgroup": "masked_flows_negative",
         "marker": {
          "color": "#86CE00",
          "pattern": {
           "shape": ""
          }
         },
         "name": "masked_flows_negative",
         "offsetgroup": "masked_flows_negative",
         "orientation": "h",
         "showlegend": true,
         "textposition": "auto",
         "texttemplate": "%{x:.0f}",
         "type": "bar",
         "x": [
          -62.31232552280166,
          -47.86176366843013,
          -14.867264862002699,
          -227.57021355938508,
          -227.5702135593851,
          -3.563803586321447e-13,
          0,
          -14.3116991031354,
          -69.46685815066783,
          -29.660254221683804,
          -13.892362248100845,
          -37.75375179090872,
          -9.597037037036833,
          -24.047598891406587,
          -32.360309988967295,
          -28.759627110103043,
          -31.202131519274218,
          -31.20213151927457,
          -31.202131519274374,
          0
         ],
         "xaxis": "x",
         "y": [
          "T7130-130-1_InitialState",
          "T7003-3-1_InitialState",
          "L191-192-1_InitialState",
          "L4-16-1_InitialState",
          "T3-4-1_InitialState",
          "L133-171-1_InitialState",
          "L133-137-1_InitialState",
          "L119-120-1_InitialState",
          "T7139-139-1_InitialState",
          "L186-188-1_InitialState",
          "L225-191-1_InitialState",
          "L181-187-1_InitialState",
          "T7002-2-1_InitialState",
          "T234-236-1_InitialState",
          "L118-119-1_InitialState",
          "T241-237-1_InitialState",
          "T7166-166-1_InitialState",
          "L165-166-1_InitialState",
          "L162-165-1_InitialState",
          "L42-46-1_InitialState"
         ],
         "yaxis": "y"
        },
        {
         "mode": "lines+markers",
         "name": "total_flow",
         "type": "scatter",
         "x": [
          1292.7368253968261,
          1210.736825396825,
          828.5503927898848,
          778.5271987640211,
          778.5271987640208,
          763.6000000000004,
          718.3241559707742,
          705.9781703021852,
          700.7368253968251,
          664.4147781793408,
          656.1864326069411,
          649.1164308395203,
          623.7368253968251,
          600.7368253968281,
          592.1839806741858,
          576.166825396825,
          553.7368253968258,
          553.7368253968258,
          553.7368253968251,
          552.8304851848864
         ],
         "y": [
          "T7130-130-1_InitialState",
          "T7003-3-1_InitialState",
          "L191-192-1_InitialState",
          "L4-16-1_InitialState",
          "T3-4-1_InitialState",
          "L133-171-1_InitialState",
          "L133-137-1_InitialState",
          "L119-120-1_InitialState",
          "T7139-139-1_InitialState",
          "L186-188-1_InitialState",
          "L225-191-1_InitialState",
          "L181-187-1_InitialState",
          "T7002-2-1_InitialState",
          "T234-236-1_InitialState",
          "L118-119-1_InitialState",
          "T241-237-1_InitialState",
          "T7166-166-1_InitialState",
          "L165-166-1_InitialState",
          "L162-165-1_InitialState",
          "L42-46-1_InitialState"
         ]
        },
        {
         "mode": "lines+markers",
         "name": "total_loop_flow",
         "type": "scatter",
         "x": [
          1292.7368253968261,
          1210.736825396825,
          828.5503927898848,
          778.5271987640211,
          778.5271987640208,
          763.6000000000004,
          718.3241559707742,
          705.9781703021852,
          700.7368253968251,
          664.4147781793408,
          656.1864326069411,
          649.1164308395203,
          623.7368253968251,
          600.7368253968281,
          592.1839806741858,
          576.166825396825,
          553.7368253968258,
          553.7368253968258,
          553.7368253968251,
          552.8304851848864
         ],
         "y": [
          "T7130-130-1_InitialState",
          "T7003-3-1_InitialState",
          "L191-192-1_InitialState",
          "L4-16-1_InitialState",
          "T3-4-1_InitialState",
          "L133-171-1_InitialState",
          "L133-137-1_InitialState",
          "L119-120-1_InitialState",
          "T7139-139-1_InitialState",
          "L186-188-1_InitialState",
          "L225-191-1_InitialState",
          "L181-187-1_InitialState",
          "T7002-2-1_InitialState",
          "T234-236-1_InitialState",
          "L118-119-1_InitialState",
          "T241-237-1_InitialState",
          "T7166-166-1_InitialState",
          "L165-166-1_InitialState",
          "L162-165-1_InitialState",
          "L42-46-1_InitialState"
         ]
        }
       ],
       "layout": {
        "barmode": "relative",
        "height": 1000,
        "legend": {
         "title": {
          "text": "Decomposition part:"
         },
         "tracegroupgap": 0
        },
        "template": {
         "data": {
          "bar": [
           {
            "error_x": {
             "color": "rgb(36,36,36)"
            },
            "error_y": {
             "color": "rgb(36,36,36)"
            },
            "marker": {
             "line": {
              "color": "rgb(234,234,242)",
              "width": 0.5
             },
             "pattern": {
              "fillmode": "overlay",
              "size": 10,
              "solidity": 0.2
             }
            },
            "type": "bar"
           }
          ],
          "barpolar": [
           {
            "marker": {
             "line": {
              "color": "rgb(234,234,242)",
              "width": 0.5
             },
             "pattern": {
              "fillmode": "overlay",
              "size": 10,
              "solidity": 0.2
             }
            },
            "type": "barpolar"
           }
          ],
          "carpet": [
           {
            "aaxis": {
             "endlinecolor": "rgb(36,36,36)",
             "gridcolor": "white",
             "linecolor": "white",
             "minorgridcolor": "white",
             "startlinecolor": "rgb(36,36,36)"
            },
            "baxis": {
             "endlinecolor": "rgb(36,36,36)",
             "gridcolor": "white",
             "linecolor": "white",
             "minorgridcolor": "white",
             "startlinecolor": "rgb(36,36,36)"
            },
            "type": "carpet"
           }
          ],
          "choropleth": [
           {
            "colorbar": {
             "outlinewidth": 0,
             "tickcolor": "rgb(36,36,36)",
             "ticklen": 8,
             "ticks": "outside",
             "tickwidth": 2
            },
            "type": "choropleth"
           }
          ],
          "contour": [
           {
            "colorbar": {
             "outlinewidth": 0,
             "tickcolor": "rgb(36,36,36)",
             "ticklen": 8,
             "ticks": "outside",
             "tickwidth": 2
            },
            "colorscale": [
             [
              0,
              "rgb(2,4,25)"
             ],
             [
              0.06274509803921569,
              "rgb(24,15,41)"
             ],
             [
              0.12549019607843137,
              "rgb(47,23,57)"
             ],
             [
              0.18823529411764706,
              "rgb(71,28,72)"
             ],
             [
              0.25098039215686274,
              "rgb(97,30,82)"
             ],
             [
              0.3137254901960784,
              "rgb(123,30,89)"
             ],
             [
              0.3764705882352941,
              "rgb(150,27,91)"
             ],
             [
              0.4392156862745098,
              "rgb(177,22,88)"
             ],
             [
              0.5019607843137255,
              "rgb(203,26,79)"
             ],
             [
              0.5647058823529412,
              "rgb(223,47,67)"
             ],
             [
              0.6274509803921569,
              "rgb(236,76,61)"
             ],
             [
              0.6901960784313725,
              "rgb(242,107,73)"
             ],
             [
              0.7529411764705882,
              "rgb(244,135,95)"
             ],
             [
              0.8156862745098039,
              "rgb(245,162,122)"
             ],
             [
              0.8784313725490196,
              "rgb(246,188,153)"
             ],
             [
              0.9411764705882353,
              "rgb(247,212,187)"
             ],
             [
              1,
              "rgb(250,234,220)"
             ]
            ],
            "type": "contour"
           }
          ],
          "contourcarpet": [
           {
            "colorbar": {
             "outlinewidth": 0,
             "tickcolor": "rgb(36,36,36)",
             "ticklen": 8,
             "ticks": "outside",
             "tickwidth": 2
            },
            "type": "contourcarpet"
           }
          ],
          "heatmap": [
           {
            "colorbar": {
             "outlinewidth": 0,
             "tickcolor": "rgb(36,36,36)",
             "ticklen": 8,
             "ticks": "outside",
             "tickwidth": 2
            },
            "colorscale": [
             [
              0,
              "rgb(2,4,25)"
             ],
             [
              0.06274509803921569,
              "rgb(24,15,41)"
             ],
             [
              0.12549019607843137,
              "rgb(47,23,57)"
             ],
             [
              0.18823529411764706,
              "rgb(71,28,72)"
             ],
             [
              0.25098039215686274,
              "rgb(97,30,82)"
             ],
             [
              0.3137254901960784,
              "rgb(123,30,89)"
             ],
             [
              0.3764705882352941,
              "rgb(150,27,91)"
             ],
             [
              0.4392156862745098,
              "rgb(177,22,88)"
             ],
             [
              0.5019607843137255,
              "rgb(203,26,79)"
             ],
             [
              0.5647058823529412,
              "rgb(223,47,67)"
             ],
             [
              0.6274509803921569,
              "rgb(236,76,61)"
             ],
             [
              0.6901960784313725,
              "rgb(242,107,73)"
             ],
             [
              0.7529411764705882,
              "rgb(244,135,95)"
             ],
             [
              0.8156862745098039,
              "rgb(245,162,122)"
             ],
             [
              0.8784313725490196,
              "rgb(246,188,153)"
             ],
             [
              0.9411764705882353,
              "rgb(247,212,187)"
             ],
             [
              1,
              "rgb(250,234,220)"
             ]
            ],
            "type": "heatmap"
           }
          ],
          "heatmapgl": [
           {
            "colorbar": {
             "outlinewidth": 0,
             "tickcolor": "rgb(36,36,36)",
             "ticklen": 8,
             "ticks": "outside",
             "tickwidth": 2
            },
            "colorscale": [
             [
              0,
              "rgb(2,4,25)"
             ],
             [
              0.06274509803921569,
              "rgb(24,15,41)"
             ],
             [
              0.12549019607843137,
              "rgb(47,23,57)"
             ],
             [
              0.18823529411764706,
              "rgb(71,28,72)"
             ],
             [
              0.25098039215686274,
              "rgb(97,30,82)"
             ],
             [
              0.3137254901960784,
              "rgb(123,30,89)"
             ],
             [
              0.3764705882352941,
              "rgb(150,27,91)"
             ],
             [
              0.4392156862745098,
              "rgb(177,22,88)"
             ],
             [
              0.5019607843137255,
              "rgb(203,26,79)"
             ],
             [
              0.5647058823529412,
              "rgb(223,47,67)"
             ],
             [
              0.6274509803921569,
              "rgb(236,76,61)"
             ],
             [
              0.6901960784313725,
              "rgb(242,107,73)"
             ],
             [
              0.7529411764705882,
              "rgb(244,135,95)"
             ],
             [
              0.8156862745098039,
              "rgb(245,162,122)"
             ],
             [
              0.8784313725490196,
              "rgb(246,188,153)"
             ],
             [
              0.9411764705882353,
              "rgb(247,212,187)"
             ],
             [
              1,
              "rgb(250,234,220)"
             ]
            ],
            "type": "heatmapgl"
           }
          ],
          "histogram": [
           {
            "marker": {
             "pattern": {
              "fillmode": "overlay",
              "size": 10,
              "solidity": 0.2
             }
            },
            "type": "histogram"
           }
          ],
          "histogram2d": [
           {
            "colorbar": {
             "outlinewidth": 0,
             "tickcolor": "rgb(36,36,36)",
             "ticklen": 8,
             "ticks": "outside",
             "tickwidth": 2
            },
            "colorscale": [
             [
              0,
              "rgb(2,4,25)"
             ],
             [
              0.06274509803921569,
              "rgb(24,15,41)"
             ],
             [
              0.12549019607843137,
              "rgb(47,23,57)"
             ],
             [
              0.18823529411764706,
              "rgb(71,28,72)"
             ],
             [
              0.25098039215686274,
              "rgb(97,30,82)"
             ],
             [
              0.3137254901960784,
              "rgb(123,30,89)"
             ],
             [
              0.3764705882352941,
              "rgb(150,27,91)"
             ],
             [
              0.4392156862745098,
              "rgb(177,22,88)"
             ],
             [
              0.5019607843137255,
              "rgb(203,26,79)"
             ],
             [
              0.5647058823529412,
              "rgb(223,47,67)"
             ],
             [
              0.6274509803921569,
              "rgb(236,76,61)"
             ],
             [
              0.6901960784313725,
              "rgb(242,107,73)"
             ],
             [
              0.7529411764705882,
              "rgb(244,135,95)"
             ],
             [
              0.8156862745098039,
              "rgb(245,162,122)"
             ],
             [
              0.8784313725490196,
              "rgb(246,188,153)"
             ],
             [
              0.9411764705882353,
              "rgb(247,212,187)"
             ],
             [
              1,
              "rgb(250,234,220)"
             ]
            ],
            "type": "histogram2d"
           }
          ],
          "histogram2dcontour": [
           {
            "colorbar": {
             "outlinewidth": 0,
             "tickcolor": "rgb(36,36,36)",
             "ticklen": 8,
             "ticks": "outside",
             "tickwidth": 2
            },
            "colorscale": [
             [
              0,
              "rgb(2,4,25)"
             ],
             [
              0.06274509803921569,
              "rgb(24,15,41)"
             ],
             [
              0.12549019607843137,
              "rgb(47,23,57)"
             ],
             [
              0.18823529411764706,
              "rgb(71,28,72)"
             ],
             [
              0.25098039215686274,
              "rgb(97,30,82)"
             ],
             [
              0.3137254901960784,
              "rgb(123,30,89)"
             ],
             [
              0.3764705882352941,
              "rgb(150,27,91)"
             ],
             [
              0.4392156862745098,
              "rgb(177,22,88)"
             ],
             [
              0.5019607843137255,
              "rgb(203,26,79)"
             ],
             [
              0.5647058823529412,
              "rgb(223,47,67)"
             ],
             [
              0.6274509803921569,
              "rgb(236,76,61)"
             ],
             [
              0.6901960784313725,
              "rgb(242,107,73)"
             ],
             [
              0.7529411764705882,
              "rgb(244,135,95)"
             ],
             [
              0.8156862745098039,
              "rgb(245,162,122)"
             ],
             [
              0.8784313725490196,
              "rgb(246,188,153)"
             ],
             [
              0.9411764705882353,
              "rgb(247,212,187)"
             ],
             [
              1,
              "rgb(250,234,220)"
             ]
            ],
            "type": "histogram2dcontour"
           }
          ],
          "mesh3d": [
           {
            "colorbar": {
             "outlinewidth": 0,
             "tickcolor": "rgb(36,36,36)",
             "ticklen": 8,
             "ticks": "outside",
             "tickwidth": 2
            },
            "type": "mesh3d"
           }
          ],
          "parcoords": [
           {
            "line": {
             "colorbar": {
              "outlinewidth": 0,
              "tickcolor": "rgb(36,36,36)",
              "ticklen": 8,
              "ticks": "outside",
              "tickwidth": 2
             }
            },
            "type": "parcoords"
           }
          ],
          "pie": [
           {
            "automargin": true,
            "type": "pie"
           }
          ],
          "scatter": [
           {
            "fillpattern": {
             "fillmode": "overlay",
             "size": 10,
             "solidity": 0.2
            },
            "type": "scatter"
           }
          ],
          "scatter3d": [
           {
            "line": {
             "colorbar": {
              "outlinewidth": 0,
              "tickcolor": "rgb(36,36,36)",
              "ticklen": 8,
              "ticks": "outside",
              "tickwidth": 2
             }
            },
            "marker": {
             "colorbar": {
              "outlinewidth": 0,
              "tickcolor": "rgb(36,36,36)",
              "ticklen": 8,
              "ticks": "outside",
              "tickwidth": 2
             }
            },
            "type": "scatter3d"
           }
          ],
          "scattercarpet": [
           {
            "marker": {
             "colorbar": {
              "outlinewidth": 0,
              "tickcolor": "rgb(36,36,36)",
              "ticklen": 8,
              "ticks": "outside",
              "tickwidth": 2
             }
            },
            "type": "scattercarpet"
           }
          ],
          "scattergeo": [
           {
            "marker": {
             "colorbar": {
              "outlinewidth": 0,
              "tickcolor": "rgb(36,36,36)",
              "ticklen": 8,
              "ticks": "outside",
              "tickwidth": 2
             }
            },
            "type": "scattergeo"
           }
          ],
          "scattergl": [
           {
            "marker": {
             "colorbar": {
              "outlinewidth": 0,
              "tickcolor": "rgb(36,36,36)",
              "ticklen": 8,
              "ticks": "outside",
              "tickwidth": 2
             }
            },
            "type": "scattergl"
           }
          ],
          "scattermapbox": [
           {
            "marker": {
             "colorbar": {
              "outlinewidth": 0,
              "tickcolor": "rgb(36,36,36)",
              "ticklen": 8,
              "ticks": "outside",
              "tickwidth": 2
             }
            },
            "type": "scattermapbox"
           }
          ],
          "scatterpolar": [
           {
            "marker": {
             "colorbar": {
              "outlinewidth": 0,
              "tickcolor": "rgb(36,36,36)",
              "ticklen": 8,
              "ticks": "outside",
              "tickwidth": 2
             }
            },
            "type": "scatterpolar"
           }
          ],
          "scatterpolargl": [
           {
            "marker": {
             "colorbar": {
              "outlinewidth": 0,
              "tickcolor": "rgb(36,36,36)",
              "ticklen": 8,
              "ticks": "outside",
              "tickwidth": 2
             }
            },
            "type": "scatterpolargl"
           }
          ],
          "scatterternary": [
           {
            "marker": {
             "colorbar": {
              "outlinewidth": 0,
              "tickcolor": "rgb(36,36,36)",
              "ticklen": 8,
              "ticks": "outside",
              "tickwidth": 2
             }
            },
            "type": "scatterternary"
           }
          ],
          "surface": [
           {
            "colorbar": {
             "outlinewidth": 0,
             "tickcolor": "rgb(36,36,36)",
             "ticklen": 8,
             "ticks": "outside",
             "tickwidth": 2
            },
            "colorscale": [
             [
              0,
              "rgb(2,4,25)"
             ],
             [
              0.06274509803921569,
              "rgb(24,15,41)"
             ],
             [
              0.12549019607843137,
              "rgb(47,23,57)"
             ],
             [
              0.18823529411764706,
              "rgb(71,28,72)"
             ],
             [
              0.25098039215686274,
              "rgb(97,30,82)"
             ],
             [
              0.3137254901960784,
              "rgb(123,30,89)"
             ],
             [
              0.3764705882352941,
              "rgb(150,27,91)"
             ],
             [
              0.4392156862745098,
              "rgb(177,22,88)"
             ],
             [
              0.5019607843137255,
              "rgb(203,26,79)"
             ],
             [
              0.5647058823529412,
              "rgb(223,47,67)"
             ],
             [
              0.6274509803921569,
              "rgb(236,76,61)"
             ],
             [
              0.6901960784313725,
              "rgb(242,107,73)"
             ],
             [
              0.7529411764705882,
              "rgb(244,135,95)"
             ],
             [
              0.8156862745098039,
              "rgb(245,162,122)"
             ],
             [
              0.8784313725490196,
              "rgb(246,188,153)"
             ],
             [
              0.9411764705882353,
              "rgb(247,212,187)"
             ],
             [
              1,
              "rgb(250,234,220)"
             ]
            ],
            "type": "surface"
           }
          ],
          "table": [
           {
            "cells": {
             "fill": {
              "color": "rgb(231,231,240)"
             },
             "line": {
              "color": "white"
             }
            },
            "header": {
             "fill": {
              "color": "rgb(183,183,191)"
             },
             "line": {
              "color": "white"
             }
            },
            "type": "table"
           }
          ]
         },
         "layout": {
          "annotationdefaults": {
           "arrowcolor": "rgb(67,103,167)"
          },
          "autotypenumbers": "strict",
          "coloraxis": {
           "colorbar": {
            "outlinewidth": 0,
            "tickcolor": "rgb(36,36,36)",
            "ticklen": 8,
            "ticks": "outside",
            "tickwidth": 2
           }
          },
          "colorscale": {
           "sequential": [
            [
             0,
             "rgb(2,4,25)"
            ],
            [
             0.06274509803921569,
             "rgb(24,15,41)"
            ],
            [
             0.12549019607843137,
             "rgb(47,23,57)"
            ],
            [
             0.18823529411764706,
             "rgb(71,28,72)"
            ],
            [
             0.25098039215686274,
             "rgb(97,30,82)"
            ],
            [
             0.3137254901960784,
             "rgb(123,30,89)"
            ],
            [
             0.3764705882352941,
             "rgb(150,27,91)"
            ],
            [
             0.4392156862745098,
             "rgb(177,22,88)"
            ],
            [
             0.5019607843137255,
             "rgb(203,26,79)"
            ],
            [
             0.5647058823529412,
             "rgb(223,47,67)"
            ],
            [
             0.6274509803921569,
             "rgb(236,76,61)"
            ],
            [
             0.6901960784313725,
             "rgb(242,107,73)"
            ],
            [
             0.7529411764705882,
             "rgb(244,135,95)"
            ],
            [
             0.8156862745098039,
             "rgb(245,162,122)"
            ],
            [
             0.8784313725490196,
             "rgb(246,188,153)"
            ],
            [
             0.9411764705882353,
             "rgb(247,212,187)"
            ],
            [
             1,
             "rgb(250,234,220)"
            ]
           ],
           "sequentialminus": [
            [
             0,
             "rgb(2,4,25)"
            ],
            [
             0.06274509803921569,
             "rgb(24,15,41)"
            ],
            [
             0.12549019607843137,
             "rgb(47,23,57)"
            ],
            [
             0.18823529411764706,
             "rgb(71,28,72)"
            ],
            [
             0.25098039215686274,
             "rgb(97,30,82)"
            ],
            [
             0.3137254901960784,
             "rgb(123,30,89)"
            ],
            [
             0.3764705882352941,
             "rgb(150,27,91)"
            ],
            [
             0.4392156862745098,
             "rgb(177,22,88)"
            ],
            [
             0.5019607843137255,
             "rgb(203,26,79)"
            ],
            [
             0.5647058823529412,
             "rgb(223,47,67)"
            ],
            [
             0.6274509803921569,
             "rgb(236,76,61)"
            ],
            [
             0.6901960784313725,
             "rgb(242,107,73)"
            ],
            [
             0.7529411764705882,
             "rgb(244,135,95)"
            ],
            [
             0.8156862745098039,
             "rgb(245,162,122)"
            ],
            [
             0.8784313725490196,
             "rgb(246,188,153)"
            ],
            [
             0.9411764705882353,
             "rgb(247,212,187)"
            ],
            [
             1,
             "rgb(250,234,220)"
            ]
           ]
          },
          "colorway": [
           "rgb(76,114,176)",
           "rgb(221,132,82)",
           "rgb(85,168,104)",
           "rgb(196,78,82)",
           "rgb(129,114,179)",
           "rgb(147,120,96)",
           "rgb(218,139,195)",
           "rgb(140,140,140)",
           "rgb(204,185,116)",
           "rgb(100,181,205)"
          ],
          "font": {
           "color": "rgb(36,36,36)"
          },
          "geo": {
           "bgcolor": "white",
           "lakecolor": "white",
           "landcolor": "rgb(234,234,242)",
           "showlakes": true,
           "showland": true,
           "subunitcolor": "white"
          },
          "hoverlabel": {
           "align": "left"
          },
          "hovermode": "closest",
          "paper_bgcolor": "white",
          "plot_bgcolor": "rgb(234,234,242)",
          "polar": {
           "angularaxis": {
            "gridcolor": "white",
            "linecolor": "white",
            "showgrid": true,
            "ticks": ""
           },
           "bgcolor": "rgb(234,234,242)",
           "radialaxis": {
            "gridcolor": "white",
            "linecolor": "white",
            "showgrid": true,
            "ticks": ""
           }
          },
          "scene": {
           "xaxis": {
            "backgroundcolor": "rgb(234,234,242)",
            "gridcolor": "white",
            "gridwidth": 2,
            "linecolor": "white",
            "showbackground": true,
            "showgrid": true,
            "ticks": "",
            "zerolinecolor": "white"
           },
           "yaxis": {
            "backgroundcolor": "rgb(234,234,242)",
            "gridcolor": "white",
            "gridwidth": 2,
            "linecolor": "white",
            "showbackground": true,
            "showgrid": true,
            "ticks": "",
            "zerolinecolor": "white"
           },
           "zaxis": {
            "backgroundcolor": "rgb(234,234,242)",
            "gridcolor": "white",
            "gridwidth": 2,
            "linecolor": "white",
            "showbackground": true,
            "showgrid": true,
            "ticks": "",
            "zerolinecolor": "white"
           }
          },
          "shapedefaults": {
           "fillcolor": "rgb(67,103,167)",
           "line": {
            "width": 0
           },
           "opacity": 0.5
          },
          "ternary": {
           "aaxis": {
            "gridcolor": "white",
            "linecolor": "white",
            "showgrid": true,
            "ticks": ""
           },
           "baxis": {
            "gridcolor": "white",
            "linecolor": "white",
            "showgrid": true,
            "ticks": ""
           },
           "bgcolor": "rgb(234,234,242)",
           "caxis": {
            "gridcolor": "white",
            "linecolor": "white",
            "showgrid": true,
            "ticks": ""
           }
          },
          "xaxis": {
           "automargin": true,
           "gridcolor": "white",
           "linecolor": "white",
           "showgrid": true,
           "ticks": "",
           "title": {
            "standoff": 15
           },
           "zerolinecolor": "white"
          },
          "yaxis": {
           "automargin": true,
           "gridcolor": "white",
           "linecolor": "white",
           "showgrid": true,
           "ticks": "",
           "title": {
            "standoff": 15
           },
           "zerolinecolor": "white"
          }
         }
        },
        "title": {
         "text": "Sorted by: total_loop_flow, ascending: False, head: 20"
        },
        "xaxis": {
         "anchor": "y",
         "domain": [
          0,
          1
         ],
         "title": {
          "text": "Flow decomposition value"
         }
        },
        "yaxis": {
         "anchor": "x",
         "domain": [
          0,
          1
         ],
         "title": {
          "text": "xnec_id"
         }
        }
       }
      }
     },
     "metadata": {},
     "output_type": "display_data"
    }
   ],
   "source": [
    "flow_decomposition_bar_chart('total_loop_flow')"
   ]
  },
  {
   "cell_type": "code",
   "execution_count": 10,
   "metadata": {},
   "outputs": [
    {
     "data": {
      "application/vnd.plotly.v1+json": {
       "config": {
        "plotlyServerURL": "https://plot.ly"
       },
       "data": [
        {
         "alignmentgroup": "True",
         "hovertemplate": "Decomposition part:=commercial_flow<br>Flow decomposition value=%{x}<br>xnec_id=%{y}<extra></extra>",
         "legendgroup": "commercial_flow",
         "marker": {
          "color": "#0DF9FF",
          "pattern": {
           "shape": ""
          }
         },
         "name": "commercial_flow",
         "offsetgroup": "commercial_flow",
         "orientation": "h",
         "showlegend": true,
         "textposition": "auto",
         "texttemplate": "%{x:.0f}",
         "type": "bar",
         "x": [
          null,
          null,
          null,
          null,
          null,
          null,
          null,
          null,
          null,
          null,
          null,
          null,
          null,
          null,
          null,
          null,
          null,
          null,
          null,
          null
         ],
         "xaxis": "x",
         "y": [
          "L204-205-1_InitialState",
          "L193-208-1_InitialState",
          "L201-204-1_InitialState",
          "L43-48-1_InitialState",
          "L97-103-1_InitialState",
          "L217-218-1_InitialState",
          "L205-206-1_InitialState",
          "L175-179-1_InitialState",
          "L40-48-1_InitialState",
          "L38-43-1_InitialState",
          "L246-247-1_InitialState",
          "L26-320-1_InitialState",
          "L104-322-1_InitialState",
          "L140-142-1_InitialState",
          "L9012-9121-1_InitialState",
          "L206-207-1_InitialState",
          "L9044-9004-1_InitialState",
          "L9003-9044-1_InitialState",
          "L228-231-1_InitialState",
          "L109-113-1_InitialState"
         ],
         "yaxis": "y"
        },
        {
         "alignmentgroup": "True",
         "hovertemplate": "Decomposition part:=pst_flow<br>Flow decomposition value=%{x}<br>xnec_id=%{y}<extra></extra>",
         "legendgroup": "pst_flow",
         "marker": {
          "color": "#AF0038",
          "pattern": {
           "shape": ""
          }
         },
         "name": "pst_flow",
         "offsetgroup": "pst_flow",
         "orientation": "h",
         "showlegend": true,
         "textposition": "auto",
         "texttemplate": "%{x:.0f}",
         "type": "bar",
         "x": [
          null,
          null,
          null,
          null,
          null,
          null,
          null,
          null,
          null,
          null,
          null,
          null,
          null,
          null,
          null,
          null,
          null,
          null,
          null,
          null
         ],
         "xaxis": "x",
         "y": [
          "L204-205-1_InitialState",
          "L193-208-1_InitialState",
          "L201-204-1_InitialState",
          "L43-48-1_InitialState",
          "L97-103-1_InitialState",
          "L217-218-1_InitialState",
          "L205-206-1_InitialState",
          "L175-179-1_InitialState",
          "L40-48-1_InitialState",
          "L38-43-1_InitialState",
          "L246-247-1_InitialState",
          "L26-320-1_InitialState",
          "L104-322-1_InitialState",
          "L140-142-1_InitialState",
          "L9012-9121-1_InitialState",
          "L206-207-1_InitialState",
          "L9044-9004-1_InitialState",
          "L9003-9044-1_InitialState",
          "L228-231-1_InitialState",
          "L109-113-1_InitialState"
         ],
         "yaxis": "y"
        },
        {
         "alignmentgroup": "True",
         "hovertemplate": "Decomposition part:=loop_flow_from_at<br>Flow decomposition value=%{x}<br>xnec_id=%{y}<extra></extra>",
         "legendgroup": "loop_flow_from_at",
         "marker": {
          "color": "#FD3216",
          "pattern": {
           "shape": ""
          }
         },
         "name": "loop_flow_from_at",
         "offsetgroup": "loop_flow_from_at",
         "orientation": "h",
         "showlegend": true,
         "textposition": "auto",
         "texttemplate": "%{x:.0f}",
         "type": "bar",
         "x": [
          -10.342611694156954,
          -2.6422950528388216,
          -3.928287704373692,
          15.942012961791676,
          25.387199027029688,
          null,
          -21.415294410415175,
          5.623940567690699,
          null,
          -52.56341211662556,
          null,
          null,
          null,
          null,
          null,
          44.962156278488536,
          null,
          null,
          -14.552321130237598,
          -18.2559294838456
         ],
         "xaxis": "x",
         "y": [
          "L204-205-1_InitialState",
          "L193-208-1_InitialState",
          "L201-204-1_InitialState",
          "L43-48-1_InitialState",
          "L97-103-1_InitialState",
          "L217-218-1_InitialState",
          "L205-206-1_InitialState",
          "L175-179-1_InitialState",
          "L40-48-1_InitialState",
          "L38-43-1_InitialState",
          "L246-247-1_InitialState",
          "L26-320-1_InitialState",
          "L104-322-1_InitialState",
          "L140-142-1_InitialState",
          "L9012-9121-1_InitialState",
          "L206-207-1_InitialState",
          "L9044-9004-1_InitialState",
          "L9003-9044-1_InitialState",
          "L228-231-1_InitialState",
          "L109-113-1_InitialState"
         ],
         "yaxis": "y"
        },
        {
         "alignmentgroup": "True",
         "hovertemplate": "Decomposition part:=loop_flow_from_bg<br>Flow decomposition value=%{x}<br>xnec_id=%{y}<extra></extra>",
         "legendgroup": "loop_flow_from_bg",
         "marker": {
          "color": "#00A08B",
          "pattern": {
           "shape": ""
          }
         },
         "name": "loop_flow_from_bg",
         "offsetgroup": "loop_flow_from_bg",
         "orientation": "h",
         "showlegend": true,
         "textposition": "auto",
         "texttemplate": "%{x:.0f}",
         "type": "bar",
         "x": [
          -20.97524508442641,
          -9.187977971193988,
          -17.704873586830775,
          -22.855605647572915,
          null,
          -17.31240078273656,
          null,
          null,
          -11.192276575128004,
          54.443391486660154,
          null,
          null,
          null,
          null,
          null,
          -21.57938006297099,
          null,
          null,
          30.70954652767152,
          14.685134894225486
         ],
         "xaxis": "x",
         "y": [
          "L204-205-1_InitialState",
          "L193-208-1_InitialState",
          "L201-204-1_InitialState",
          "L43-48-1_InitialState",
          "L97-103-1_InitialState",
          "L217-218-1_InitialState",
          "L205-206-1_InitialState",
          "L175-179-1_InitialState",
          "L40-48-1_InitialState",
          "L38-43-1_InitialState",
          "L246-247-1_InitialState",
          "L26-320-1_InitialState",
          "L104-322-1_InitialState",
          "L140-142-1_InitialState",
          "L9012-9121-1_InitialState",
          "L206-207-1_InitialState",
          "L9044-9004-1_InitialState",
          "L9003-9044-1_InitialState",
          "L228-231-1_InitialState",
          "L109-113-1_InitialState"
         ],
         "yaxis": "y"
        },
        {
         "alignmentgroup": "True",
         "hovertemplate": "Decomposition part:=loop_flow_from_cz<br>Flow decomposition value=%{x}<br>xnec_id=%{y}<extra></extra>",
         "legendgroup": "loop_flow_from_cz",
         "marker": {
          "color": "#6C4516",
          "pattern": {
           "shape": ""
          }
         },
         "name": "loop_flow_from_cz",
         "offsetgroup": "loop_flow_from_cz",
         "orientation": "h",
         "showlegend": true,
         "textposition": "auto",
         "texttemplate": "%{x:.0f}",
         "type": "bar",
         "x": [
          null,
          2.511614307448899,
          11.930146041284484,
          null,
          -12.187831230587825,
          -13.112374217367368,
          16.016961447409376,
          -6.784910839732972,
          null,
          null,
          null,
          2.4,
          null,
          81.84102186898681,
          null,
          -21.95177630185144,
          null,
          null,
          null,
          null
         ],
         "xaxis": "x",
         "y": [
          "L204-205-1_InitialState",
          "L193-208-1_InitialState",
          "L201-204-1_InitialState",
          "L43-48-1_InitialState",
          "L97-103-1_InitialState",
          "L217-218-1_InitialState",
          "L205-206-1_InitialState",
          "L175-179-1_InitialState",
          "L40-48-1_InitialState",
          "L38-43-1_InitialState",
          "L246-247-1_InitialState",
          "L26-320-1_InitialState",
          "L104-322-1_InitialState",
          "L140-142-1_InitialState",
          "L9012-9121-1_InitialState",
          "L206-207-1_InitialState",
          "L9044-9004-1_InitialState",
          "L9003-9044-1_InitialState",
          "L228-231-1_InitialState",
          "L109-113-1_InitialState"
         ],
         "yaxis": "y"
        },
        {
         "alignmentgroup": "True",
         "hovertemplate": "Decomposition part:=loop_flow_from_dk<br>Flow decomposition value=%{x}<br>xnec_id=%{y}<extra></extra>",
         "legendgroup": "loop_flow_from_dk",
         "marker": {
          "color": "#511CFB",
          "pattern": {
           "shape": ""
          }
         },
         "name": "loop_flow_from_dk",
         "offsetgroup": "loop_flow_from_dk",
         "orientation": "h",
         "showlegend": true,
         "textposition": "auto",
         "texttemplate": "%{x:.0f}",
         "type": "bar",
         "x": [
          -5.911102442879403,
          null,
          -6.013064809727532,
          12.235192518427485,
          21.01036597706058,
          12.816464101049814,
          -15.051733723981906,
          10.85746891284777,
          -5.041769238615666,
          -41.169954357872726,
          null,
          null,
          null,
          -121.6664191411083,
          null,
          31.886358900679305,
          null,
          null,
          -11.198429741565306,
          -8.032248417499593
         ],
         "xaxis": "x",
         "y": [
          "L204-205-1_InitialState",
          "L193-208-1_InitialState",
          "L201-204-1_InitialState",
          "L43-48-1_InitialState",
          "L97-103-1_InitialState",
          "L217-218-1_InitialState",
          "L205-206-1_InitialState",
          "L175-179-1_InitialState",
          "L40-48-1_InitialState",
          "L38-43-1_InitialState",
          "L246-247-1_InitialState",
          "L26-320-1_InitialState",
          "L104-322-1_InitialState",
          "L140-142-1_InitialState",
          "L9012-9121-1_InitialState",
          "L206-207-1_InitialState",
          "L9044-9004-1_InitialState",
          "L9003-9044-1_InitialState",
          "L228-231-1_InitialState",
          "L109-113-1_InitialState"
         ],
         "yaxis": "y"
        },
        {
         "alignmentgroup": "True",
         "hovertemplate": "Decomposition part:=loop_flow_from_fi<br>Flow decomposition value=%{x}<br>xnec_id=%{y}<extra></extra>",
         "legendgroup": "loop_flow_from_fi",
         "marker": {
          "color": "#F6F926",
          "pattern": {
           "shape": ""
          }
         },
         "name": "loop_flow_from_fi",
         "offsetgroup": "loop_flow_from_fi",
         "orientation": "h",
         "showlegend": true,
         "textposition": "auto",
         "texttemplate": "%{x:.0f}",
         "type": "bar",
         "x": [
          -11.105173222156479,
          -3.5601654186906253,
          14.523574189072605,
          20.54501481732894,
          25.09691592440704,
          null,
          -8.127381200725479,
          8.752805031954386,
          7.375317713325434,
          -40.92247508232706,
          -8.236677872548492,
          null,
          2.3999999999999937,
          92.17456465003028,
          null,
          null,
          null,
          null,
          null,
          -13.985660930480947
         ],
         "xaxis": "x",
         "y": [
          "L204-205-1_InitialState",
          "L193-208-1_InitialState",
          "L201-204-1_InitialState",
          "L43-48-1_InitialState",
          "L97-103-1_InitialState",
          "L217-218-1_InitialState",
          "L205-206-1_InitialState",
          "L175-179-1_InitialState",
          "L40-48-1_InitialState",
          "L38-43-1_InitialState",
          "L246-247-1_InitialState",
          "L26-320-1_InitialState",
          "L104-322-1_InitialState",
          "L140-142-1_InitialState",
          "L9012-9121-1_InitialState",
          "L206-207-1_InitialState",
          "L9044-9004-1_InitialState",
          "L9003-9044-1_InitialState",
          "L228-231-1_InitialState",
          "L109-113-1_InitialState"
         ],
         "yaxis": "y"
        },
        {
         "alignmentgroup": "True",
         "hovertemplate": "Decomposition part:=loop_flow_from_fr<br>Flow decomposition value=%{x}<br>xnec_id=%{y}<extra></extra>",
         "legendgroup": "loop_flow_from_fr",
         "marker": {
          "color": "#C9FBE5",
          "pattern": {
           "shape": ""
          }
         },
         "name": "loop_flow_from_fr",
         "offsetgroup": "loop_flow_from_fr",
         "orientation": "h",
         "showlegend": true,
         "textposition": "auto",
         "texttemplate": "%{x:.0f}",
         "type": "bar",
         "x": [
          11.685441785949116,
          3.677456660946203,
          null,
          -15.864268858101372,
          null,
          null,
          19.189988049745157,
          -8.727657268475404,
          -10.602320095571313,
          22.3789886188755,
          24.210096076895816,
          null,
          null,
          null,
          3.800000000000009,
          -39.533180659876585,
          null,
          null,
          32.63214151916917,
          13.055766790394616
         ],
         "xaxis": "x",
         "y": [
          "L204-205-1_InitialState",
          "L193-208-1_InitialState",
          "L201-204-1_InitialState",
          "L43-48-1_InitialState",
          "L97-103-1_InitialState",
          "L217-218-1_InitialState",
          "L205-206-1_InitialState",
          "L175-179-1_InitialState",
          "L40-48-1_InitialState",
          "L38-43-1_InitialState",
          "L246-247-1_InitialState",
          "L26-320-1_InitialState",
          "L104-322-1_InitialState",
          "L140-142-1_InitialState",
          "L9012-9121-1_InitialState",
          "L206-207-1_InitialState",
          "L9044-9004-1_InitialState",
          "L9003-9044-1_InitialState",
          "L228-231-1_InitialState",
          "L109-113-1_InitialState"
         ],
         "yaxis": "y"
        },
        {
         "alignmentgroup": "True",
         "hovertemplate": "Decomposition part:=loop_flow_from_gr<br>Flow decomposition value=%{x}<br>xnec_id=%{y}<extra></extra>",
         "legendgroup": "loop_flow_from_gr",
         "marker": {
          "color": "#FC0080",
          "pattern": {
           "shape": ""
          }
         },
         "name": "loop_flow_from_gr",
         "offsetgroup": "loop_flow_from_gr",
         "orientation": "h",
         "showlegend": true,
         "textposition": "auto",
         "texttemplate": "%{x:.0f}",
         "type": "bar",
         "x": [
          20.40507830824868,
          7.111214713972012,
          null,
          -52.83638377232562,
          -12.651773094233317,
          -52.18341558806978,
          36.2826139675342,
          -6.571244290244215,
          -5.672442194931121,
          127.06388510384545,
          8.88046222564627,
          null,
          null,
          64.97273311195477,
          null,
          -74.95056244112271,
          4.280000000000112,
          4.280000000000038,
          null,
          50.520092964122234
         ],
         "xaxis": "x",
         "y": [
          "L204-205-1_InitialState",
          "L193-208-1_InitialState",
          "L201-204-1_InitialState",
          "L43-48-1_InitialState",
          "L97-103-1_InitialState",
          "L217-218-1_InitialState",
          "L205-206-1_InitialState",
          "L175-179-1_InitialState",
          "L40-48-1_InitialState",
          "L38-43-1_InitialState",
          "L246-247-1_InitialState",
          "L26-320-1_InitialState",
          "L104-322-1_InitialState",
          "L140-142-1_InitialState",
          "L9012-9121-1_InitialState",
          "L206-207-1_InitialState",
          "L9044-9004-1_InitialState",
          "L9003-9044-1_InitialState",
          "L228-231-1_InitialState",
          "L109-113-1_InitialState"
         ],
         "yaxis": "y"
        },
        {
         "alignmentgroup": "True",
         "hovertemplate": "Decomposition part:=loop_flow_from_lt<br>Flow decomposition value=%{x}<br>xnec_id=%{y}<extra></extra>",
         "legendgroup": "loop_flow_from_lt",
         "marker": {
          "color": "#FB0D0D",
          "pattern": {
           "shape": ""
          }
         },
         "name": "loop_flow_from_lt",
         "offsetgroup": "loop_flow_from_lt",
         "orientation": "h",
         "showlegend": true,
         "textposition": "auto",
         "texttemplate": "%{x:.0f}",
         "type": "bar",
         "x": [
          -12.273090019966592,
          -3.0163646805781923,
          null,
          39.49523914205969,
          -60.63977671655236,
          19.12771324433809,
          -21.134922212999186,
          10.848538467993665,
          20.588546093141012,
          -68.47556038823548,
          -23.99693841534632,
          null,
          null,
          -245.50305744134428,
          null,
          43.941079981942636,
          null,
          null,
          -42.109193073247866,
          -26.72888627019748
         ],
         "xaxis": "x",
         "y": [
          "L204-205-1_InitialState",
          "L193-208-1_InitialState",
          "L201-204-1_InitialState",
          "L43-48-1_InitialState",
          "L97-103-1_InitialState",
          "L217-218-1_InitialState",
          "L205-206-1_InitialState",
          "L175-179-1_InitialState",
          "L40-48-1_InitialState",
          "L38-43-1_InitialState",
          "L246-247-1_InitialState",
          "L26-320-1_InitialState",
          "L104-322-1_InitialState",
          "L140-142-1_InitialState",
          "L9012-9121-1_InitialState",
          "L206-207-1_InitialState",
          "L9044-9004-1_InitialState",
          "L9003-9044-1_InitialState",
          "L228-231-1_InitialState",
          "L109-113-1_InitialState"
         ],
         "yaxis": "y"
        },
        {
         "alignmentgroup": "True",
         "hovertemplate": "Decomposition part:=loop_flow_from_lu<br>Flow decomposition value=%{x}<br>xnec_id=%{y}<extra></extra>",
         "legendgroup": "loop_flow_from_lu",
         "marker": {
          "color": "#D626FF",
          "pattern": {
           "shape": ""
          }
         },
         "name": "loop_flow_from_lu",
         "offsetgroup": "loop_flow_from_lu",
         "orientation": "h",
         "showlegend": true,
         "textposition": "auto",
         "texttemplate": "%{x:.0f}",
         "type": "bar",
         "x": [
          null,
          null,
          -3.66100797785119,
          null,
          28.39165815877562,
          47.19688958676073,
          -11.95216537877518,
          -8.920570192484643,
          3.6474661994490525,
          null,
          null,
          null,
          null,
          137.01798482484895,
          null,
          26.078409652297612,
          null,
          null,
          null,
          -10.378924885193763
         ],
         "xaxis": "x",
         "y": [
          "L204-205-1_InitialState",
          "L193-208-1_InitialState",
          "L201-204-1_InitialState",
          "L43-48-1_InitialState",
          "L97-103-1_InitialState",
          "L217-218-1_InitialState",
          "L205-206-1_InitialState",
          "L175-179-1_InitialState",
          "L40-48-1_InitialState",
          "L38-43-1_InitialState",
          "L246-247-1_InitialState",
          "L26-320-1_InitialState",
          "L104-322-1_InitialState",
          "L140-142-1_InitialState",
          "L9012-9121-1_InitialState",
          "L206-207-1_InitialState",
          "L9044-9004-1_InitialState",
          "L9003-9044-1_InitialState",
          "L228-231-1_InitialState",
          "L109-113-1_InitialState"
         ],
         "yaxis": "y"
        },
        {
         "alignmentgroup": "True",
         "hovertemplate": "Decomposition part:=masked_flows_positive<br>Flow decomposition value=%{x}<br>xnec_id=%{y}<extra></extra>",
         "legendgroup": "masked_flows_positive",
         "marker": {
          "color": "#DA16FF",
          "pattern": {
           "shape": ""
          }
         },
         "name": "masked_flows_positive",
         "offsetgroup": "masked_flows_positive",
         "orientation": "h",
         "showlegend": true,
         "textposition": "auto",
         "texttemplate": "%{x:.0f}",
         "type": "bar",
         "x": [
          4.493671523258109,
          1.0140015450196092,
          2.974806457959336,
          8.147352386505132,
          0,
          8.310115702291707,
          7.093124047150835,
          0,
          2.8450879124572372,
          16.048391561537773,
          5.500445292343336,
          8.891973115988868e-15,
          7.030804048134929e-14,
          12.357178542918257,
          1.7588482295040557e-14,
          15.217809015451607,
          1.7090404877846323e-13,
          1.0647322015663127e-13,
          9.8689104192708,
          4.135793329374831
         ],
         "xaxis": "x",
         "y": [
          "L204-205-1_InitialState",
          "L193-208-1_InitialState",
          "L201-204-1_InitialState",
          "L43-48-1_InitialState",
          "L97-103-1_InitialState",
          "L217-218-1_InitialState",
          "L205-206-1_InitialState",
          "L175-179-1_InitialState",
          "L40-48-1_InitialState",
          "L38-43-1_InitialState",
          "L246-247-1_InitialState",
          "L26-320-1_InitialState",
          "L104-322-1_InitialState",
          "L140-142-1_InitialState",
          "L9012-9121-1_InitialState",
          "L206-207-1_InitialState",
          "L9044-9004-1_InitialState",
          "L9003-9044-1_InitialState",
          "L228-231-1_InitialState",
          "L109-113-1_InitialState"
         ],
         "yaxis": "y"
        },
        {
         "alignmentgroup": "True",
         "hovertemplate": "Decomposition part:=masked_flows_negative<br>Flow decomposition value=%{x}<br>xnec_id=%{y}<extra></extra>",
         "legendgroup": "masked_flows_negative",
         "marker": {
          "color": "#86CE00",
          "pattern": {
           "shape": ""
          }
         },
         "name": "masked_flows_negative",
         "offsetgroup": "masked_flows_negative",
         "orientation": "h",
         "showlegend": true,
         "textposition": "auto",
         "texttemplate": "%{x:.0f}",
         "type": "bar",
         "x": [
          -4.210818013668356,
          -1.587053639494041,
          -1.404420833201903,
          -4.402596114123077,
          -13.690392299789355,
          -3.979138000337175,
          0,
          -3.219007906300227,
          0,
          -14.7734034064806,
          -4.191741336593827,
          -9.453035892131143e-15,
          -1.1409456252413031e-14,
          -17.916492739356233,
          -4.8068329941549315e-15,
          0,
          -7.112533994151882e-13,
          -3.8047402993451836e-14,
          -0.44520251749716255,
          0
         ],
         "xaxis": "x",
         "y": [
          "L204-205-1_InitialState",
          "L193-208-1_InitialState",
          "L201-204-1_InitialState",
          "L43-48-1_InitialState",
          "L97-103-1_InitialState",
          "L217-218-1_InitialState",
          "L205-206-1_InitialState",
          "L175-179-1_InitialState",
          "L40-48-1_InitialState",
          "L38-43-1_InitialState",
          "L246-247-1_InitialState",
          "L26-320-1_InitialState",
          "L104-322-1_InitialState",
          "L140-142-1_InitialState",
          "L9012-9121-1_InitialState",
          "L206-207-1_InitialState",
          "L9044-9004-1_InitialState",
          "L9003-9044-1_InitialState",
          "L228-231-1_InitialState",
          "L109-113-1_InitialState"
         ],
         "yaxis": "y"
        },
        {
         "mode": "lines+markers",
         "name": "total_flow",
         "type": "scatter",
         "x": [
          -28.23384885979829,
          -5.679569535408945,
          -3.283128223668666,
          0.4059574339899381,
          0.7163657461100641,
          0.8638540459294646,
          0.9011905849426451,
          1.8593624832490576,
          1.9476098141266327,
          2.0298514193774473,
          2.1656459703967803,
          2.4,
          2.4000000000000528,
          3.277513676930255,
          3.8000000000000216,
          4.070914363037961,
          4.279999999999571,
          4.280000000000107,
          4.905452003563553,
          5.015137990899783
         ],
         "y": [
          "L204-205-1_InitialState",
          "L193-208-1_InitialState",
          "L201-204-1_InitialState",
          "L43-48-1_InitialState",
          "L97-103-1_InitialState",
          "L217-218-1_InitialState",
          "L205-206-1_InitialState",
          "L175-179-1_InitialState",
          "L40-48-1_InitialState",
          "L38-43-1_InitialState",
          "L246-247-1_InitialState",
          "L26-320-1_InitialState",
          "L104-322-1_InitialState",
          "L140-142-1_InitialState",
          "L9012-9121-1_InitialState",
          "L206-207-1_InitialState",
          "L9044-9004-1_InitialState",
          "L9003-9044-1_InitialState",
          "L228-231-1_InitialState",
          "L109-113-1_InitialState"
         ]
        },
        {
         "mode": "lines+markers",
         "name": "total_loop_flow",
         "type": "scatter",
         "x": [
          -28.23384885979829,
          -5.679569535408945,
          -3.283128223668666,
          0.4059574339899381,
          0.7163657461100641,
          0.8638540459294646,
          0.9011905849426451,
          1.8593624832490576,
          1.9476098141266327,
          2.0298514193774473,
          2.1656459703967803,
          2.4,
          2.4000000000000528,
          3.277513676930255,
          3.8000000000000216,
          4.070914363037961,
          4.279999999999571,
          4.280000000000107,
          4.905452003563553,
          5.015137990899783
         ],
         "y": [
          "L204-205-1_InitialState",
          "L193-208-1_InitialState",
          "L201-204-1_InitialState",
          "L43-48-1_InitialState",
          "L97-103-1_InitialState",
          "L217-218-1_InitialState",
          "L205-206-1_InitialState",
          "L175-179-1_InitialState",
          "L40-48-1_InitialState",
          "L38-43-1_InitialState",
          "L246-247-1_InitialState",
          "L26-320-1_InitialState",
          "L104-322-1_InitialState",
          "L140-142-1_InitialState",
          "L9012-9121-1_InitialState",
          "L206-207-1_InitialState",
          "L9044-9004-1_InitialState",
          "L9003-9044-1_InitialState",
          "L228-231-1_InitialState",
          "L109-113-1_InitialState"
         ]
        }
       ],
       "layout": {
        "barmode": "relative",
        "height": 1000,
        "legend": {
         "title": {
          "text": "Decomposition part:"
         },
         "tracegroupgap": 0
        },
        "template": {
         "data": {
          "bar": [
           {
            "error_x": {
             "color": "rgb(36,36,36)"
            },
            "error_y": {
             "color": "rgb(36,36,36)"
            },
            "marker": {
             "line": {
              "color": "rgb(234,234,242)",
              "width": 0.5
             },
             "pattern": {
              "fillmode": "overlay",
              "size": 10,
              "solidity": 0.2
             }
            },
            "type": "bar"
           }
          ],
          "barpolar": [
           {
            "marker": {
             "line": {
              "color": "rgb(234,234,242)",
              "width": 0.5
             },
             "pattern": {
              "fillmode": "overlay",
              "size": 10,
              "solidity": 0.2
             }
            },
            "type": "barpolar"
           }
          ],
          "carpet": [
           {
            "aaxis": {
             "endlinecolor": "rgb(36,36,36)",
             "gridcolor": "white",
             "linecolor": "white",
             "minorgridcolor": "white",
             "startlinecolor": "rgb(36,36,36)"
            },
            "baxis": {
             "endlinecolor": "rgb(36,36,36)",
             "gridcolor": "white",
             "linecolor": "white",
             "minorgridcolor": "white",
             "startlinecolor": "rgb(36,36,36)"
            },
            "type": "carpet"
           }
          ],
          "choropleth": [
           {
            "colorbar": {
             "outlinewidth": 0,
             "tickcolor": "rgb(36,36,36)",
             "ticklen": 8,
             "ticks": "outside",
             "tickwidth": 2
            },
            "type": "choropleth"
           }
          ],
          "contour": [
           {
            "colorbar": {
             "outlinewidth": 0,
             "tickcolor": "rgb(36,36,36)",
             "ticklen": 8,
             "ticks": "outside",
             "tickwidth": 2
            },
            "colorscale": [
             [
              0,
              "rgb(2,4,25)"
             ],
             [
              0.06274509803921569,
              "rgb(24,15,41)"
             ],
             [
              0.12549019607843137,
              "rgb(47,23,57)"
             ],
             [
              0.18823529411764706,
              "rgb(71,28,72)"
             ],
             [
              0.25098039215686274,
              "rgb(97,30,82)"
             ],
             [
              0.3137254901960784,
              "rgb(123,30,89)"
             ],
             [
              0.3764705882352941,
              "rgb(150,27,91)"
             ],
             [
              0.4392156862745098,
              "rgb(177,22,88)"
             ],
             [
              0.5019607843137255,
              "rgb(203,26,79)"
             ],
             [
              0.5647058823529412,
              "rgb(223,47,67)"
             ],
             [
              0.6274509803921569,
              "rgb(236,76,61)"
             ],
             [
              0.6901960784313725,
              "rgb(242,107,73)"
             ],
             [
              0.7529411764705882,
              "rgb(244,135,95)"
             ],
             [
              0.8156862745098039,
              "rgb(245,162,122)"
             ],
             [
              0.8784313725490196,
              "rgb(246,188,153)"
             ],
             [
              0.9411764705882353,
              "rgb(247,212,187)"
             ],
             [
              1,
              "rgb(250,234,220)"
             ]
            ],
            "type": "contour"
           }
          ],
          "contourcarpet": [
           {
            "colorbar": {
             "outlinewidth": 0,
             "tickcolor": "rgb(36,36,36)",
             "ticklen": 8,
             "ticks": "outside",
             "tickwidth": 2
            },
            "type": "contourcarpet"
           }
          ],
          "heatmap": [
           {
            "colorbar": {
             "outlinewidth": 0,
             "tickcolor": "rgb(36,36,36)",
             "ticklen": 8,
             "ticks": "outside",
             "tickwidth": 2
            },
            "colorscale": [
             [
              0,
              "rgb(2,4,25)"
             ],
             [
              0.06274509803921569,
              "rgb(24,15,41)"
             ],
             [
              0.12549019607843137,
              "rgb(47,23,57)"
             ],
             [
              0.18823529411764706,
              "rgb(71,28,72)"
             ],
             [
              0.25098039215686274,
              "rgb(97,30,82)"
             ],
             [
              0.3137254901960784,
              "rgb(123,30,89)"
             ],
             [
              0.3764705882352941,
              "rgb(150,27,91)"
             ],
             [
              0.4392156862745098,
              "rgb(177,22,88)"
             ],
             [
              0.5019607843137255,
              "rgb(203,26,79)"
             ],
             [
              0.5647058823529412,
              "rgb(223,47,67)"
             ],
             [
              0.6274509803921569,
              "rgb(236,76,61)"
             ],
             [
              0.6901960784313725,
              "rgb(242,107,73)"
             ],
             [
              0.7529411764705882,
              "rgb(244,135,95)"
             ],
             [
              0.8156862745098039,
              "rgb(245,162,122)"
             ],
             [
              0.8784313725490196,
              "rgb(246,188,153)"
             ],
             [
              0.9411764705882353,
              "rgb(247,212,187)"
             ],
             [
              1,
              "rgb(250,234,220)"
             ]
            ],
            "type": "heatmap"
           }
          ],
          "heatmapgl": [
           {
            "colorbar": {
             "outlinewidth": 0,
             "tickcolor": "rgb(36,36,36)",
             "ticklen": 8,
             "ticks": "outside",
             "tickwidth": 2
            },
            "colorscale": [
             [
              0,
              "rgb(2,4,25)"
             ],
             [
              0.06274509803921569,
              "rgb(24,15,41)"
             ],
             [
              0.12549019607843137,
              "rgb(47,23,57)"
             ],
             [
              0.18823529411764706,
              "rgb(71,28,72)"
             ],
             [
              0.25098039215686274,
              "rgb(97,30,82)"
             ],
             [
              0.3137254901960784,
              "rgb(123,30,89)"
             ],
             [
              0.3764705882352941,
              "rgb(150,27,91)"
             ],
             [
              0.4392156862745098,
              "rgb(177,22,88)"
             ],
             [
              0.5019607843137255,
              "rgb(203,26,79)"
             ],
             [
              0.5647058823529412,
              "rgb(223,47,67)"
             ],
             [
              0.6274509803921569,
              "rgb(236,76,61)"
             ],
             [
              0.6901960784313725,
              "rgb(242,107,73)"
             ],
             [
              0.7529411764705882,
              "rgb(244,135,95)"
             ],
             [
              0.8156862745098039,
              "rgb(245,162,122)"
             ],
             [
              0.8784313725490196,
              "rgb(246,188,153)"
             ],
             [
              0.9411764705882353,
              "rgb(247,212,187)"
             ],
             [
              1,
              "rgb(250,234,220)"
             ]
            ],
            "type": "heatmapgl"
           }
          ],
          "histogram": [
           {
            "marker": {
             "pattern": {
              "fillmode": "overlay",
              "size": 10,
              "solidity": 0.2
             }
            },
            "type": "histogram"
           }
          ],
          "histogram2d": [
           {
            "colorbar": {
             "outlinewidth": 0,
             "tickcolor": "rgb(36,36,36)",
             "ticklen": 8,
             "ticks": "outside",
             "tickwidth": 2
            },
            "colorscale": [
             [
              0,
              "rgb(2,4,25)"
             ],
             [
              0.06274509803921569,
              "rgb(24,15,41)"
             ],
             [
              0.12549019607843137,
              "rgb(47,23,57)"
             ],
             [
              0.18823529411764706,
              "rgb(71,28,72)"
             ],
             [
              0.25098039215686274,
              "rgb(97,30,82)"
             ],
             [
              0.3137254901960784,
              "rgb(123,30,89)"
             ],
             [
              0.3764705882352941,
              "rgb(150,27,91)"
             ],
             [
              0.4392156862745098,
              "rgb(177,22,88)"
             ],
             [
              0.5019607843137255,
              "rgb(203,26,79)"
             ],
             [
              0.5647058823529412,
              "rgb(223,47,67)"
             ],
             [
              0.6274509803921569,
              "rgb(236,76,61)"
             ],
             [
              0.6901960784313725,
              "rgb(242,107,73)"
             ],
             [
              0.7529411764705882,
              "rgb(244,135,95)"
             ],
             [
              0.8156862745098039,
              "rgb(245,162,122)"
             ],
             [
              0.8784313725490196,
              "rgb(246,188,153)"
             ],
             [
              0.9411764705882353,
              "rgb(247,212,187)"
             ],
             [
              1,
              "rgb(250,234,220)"
             ]
            ],
            "type": "histogram2d"
           }
          ],
          "histogram2dcontour": [
           {
            "colorbar": {
             "outlinewidth": 0,
             "tickcolor": "rgb(36,36,36)",
             "ticklen": 8,
             "ticks": "outside",
             "tickwidth": 2
            },
            "colorscale": [
             [
              0,
              "rgb(2,4,25)"
             ],
             [
              0.06274509803921569,
              "rgb(24,15,41)"
             ],
             [
              0.12549019607843137,
              "rgb(47,23,57)"
             ],
             [
              0.18823529411764706,
              "rgb(71,28,72)"
             ],
             [
              0.25098039215686274,
              "rgb(97,30,82)"
             ],
             [
              0.3137254901960784,
              "rgb(123,30,89)"
             ],
             [
              0.3764705882352941,
              "rgb(150,27,91)"
             ],
             [
              0.4392156862745098,
              "rgb(177,22,88)"
             ],
             [
              0.5019607843137255,
              "rgb(203,26,79)"
             ],
             [
              0.5647058823529412,
              "rgb(223,47,67)"
             ],
             [
              0.6274509803921569,
              "rgb(236,76,61)"
             ],
             [
              0.6901960784313725,
              "rgb(242,107,73)"
             ],
             [
              0.7529411764705882,
              "rgb(244,135,95)"
             ],
             [
              0.8156862745098039,
              "rgb(245,162,122)"
             ],
             [
              0.8784313725490196,
              "rgb(246,188,153)"
             ],
             [
              0.9411764705882353,
              "rgb(247,212,187)"
             ],
             [
              1,
              "rgb(250,234,220)"
             ]
            ],
            "type": "histogram2dcontour"
           }
          ],
          "mesh3d": [
           {
            "colorbar": {
             "outlinewidth": 0,
             "tickcolor": "rgb(36,36,36)",
             "ticklen": 8,
             "ticks": "outside",
             "tickwidth": 2
            },
            "type": "mesh3d"
           }
          ],
          "parcoords": [
           {
            "line": {
             "colorbar": {
              "outlinewidth": 0,
              "tickcolor": "rgb(36,36,36)",
              "ticklen": 8,
              "ticks": "outside",
              "tickwidth": 2
             }
            },
            "type": "parcoords"
           }
          ],
          "pie": [
           {
            "automargin": true,
            "type": "pie"
           }
          ],
          "scatter": [
           {
            "fillpattern": {
             "fillmode": "overlay",
             "size": 10,
             "solidity": 0.2
            },
            "type": "scatter"
           }
          ],
          "scatter3d": [
           {
            "line": {
             "colorbar": {
              "outlinewidth": 0,
              "tickcolor": "rgb(36,36,36)",
              "ticklen": 8,
              "ticks": "outside",
              "tickwidth": 2
             }
            },
            "marker": {
             "colorbar": {
              "outlinewidth": 0,
              "tickcolor": "rgb(36,36,36)",
              "ticklen": 8,
              "ticks": "outside",
              "tickwidth": 2
             }
            },
            "type": "scatter3d"
           }
          ],
          "scattercarpet": [
           {
            "marker": {
             "colorbar": {
              "outlinewidth": 0,
              "tickcolor": "rgb(36,36,36)",
              "ticklen": 8,
              "ticks": "outside",
              "tickwidth": 2
             }
            },
            "type": "scattercarpet"
           }
          ],
          "scattergeo": [
           {
            "marker": {
             "colorbar": {
              "outlinewidth": 0,
              "tickcolor": "rgb(36,36,36)",
              "ticklen": 8,
              "ticks": "outside",
              "tickwidth": 2
             }
            },
            "type": "scattergeo"
           }
          ],
          "scattergl": [
           {
            "marker": {
             "colorbar": {
              "outlinewidth": 0,
              "tickcolor": "rgb(36,36,36)",
              "ticklen": 8,
              "ticks": "outside",
              "tickwidth": 2
             }
            },
            "type": "scattergl"
           }
          ],
          "scattermapbox": [
           {
            "marker": {
             "colorbar": {
              "outlinewidth": 0,
              "tickcolor": "rgb(36,36,36)",
              "ticklen": 8,
              "ticks": "outside",
              "tickwidth": 2
             }
            },
            "type": "scattermapbox"
           }
          ],
          "scatterpolar": [
           {
            "marker": {
             "colorbar": {
              "outlinewidth": 0,
              "tickcolor": "rgb(36,36,36)",
              "ticklen": 8,
              "ticks": "outside",
              "tickwidth": 2
             }
            },
            "type": "scatterpolar"
           }
          ],
          "scatterpolargl": [
           {
            "marker": {
             "colorbar": {
              "outlinewidth": 0,
              "tickcolor": "rgb(36,36,36)",
              "ticklen": 8,
              "ticks": "outside",
              "tickwidth": 2
             }
            },
            "type": "scatterpolargl"
           }
          ],
          "scatterternary": [
           {
            "marker": {
             "colorbar": {
              "outlinewidth": 0,
              "tickcolor": "rgb(36,36,36)",
              "ticklen": 8,
              "ticks": "outside",
              "tickwidth": 2
             }
            },
            "type": "scatterternary"
           }
          ],
          "surface": [
           {
            "colorbar": {
             "outlinewidth": 0,
             "tickcolor": "rgb(36,36,36)",
             "ticklen": 8,
             "ticks": "outside",
             "tickwidth": 2
            },
            "colorscale": [
             [
              0,
              "rgb(2,4,25)"
             ],
             [
              0.06274509803921569,
              "rgb(24,15,41)"
             ],
             [
              0.12549019607843137,
              "rgb(47,23,57)"
             ],
             [
              0.18823529411764706,
              "rgb(71,28,72)"
             ],
             [
              0.25098039215686274,
              "rgb(97,30,82)"
             ],
             [
              0.3137254901960784,
              "rgb(123,30,89)"
             ],
             [
              0.3764705882352941,
              "rgb(150,27,91)"
             ],
             [
              0.4392156862745098,
              "rgb(177,22,88)"
             ],
             [
              0.5019607843137255,
              "rgb(203,26,79)"
             ],
             [
              0.5647058823529412,
              "rgb(223,47,67)"
             ],
             [
              0.6274509803921569,
              "rgb(236,76,61)"
             ],
             [
              0.6901960784313725,
              "rgb(242,107,73)"
             ],
             [
              0.7529411764705882,
              "rgb(244,135,95)"
             ],
             [
              0.8156862745098039,
              "rgb(245,162,122)"
             ],
             [
              0.8784313725490196,
              "rgb(246,188,153)"
             ],
             [
              0.9411764705882353,
              "rgb(247,212,187)"
             ],
             [
              1,
              "rgb(250,234,220)"
             ]
            ],
            "type": "surface"
           }
          ],
          "table": [
           {
            "cells": {
             "fill": {
              "color": "rgb(231,231,240)"
             },
             "line": {
              "color": "white"
             }
            },
            "header": {
             "fill": {
              "color": "rgb(183,183,191)"
             },
             "line": {
              "color": "white"
             }
            },
            "type": "table"
           }
          ]
         },
         "layout": {
          "annotationdefaults": {
           "arrowcolor": "rgb(67,103,167)"
          },
          "autotypenumbers": "strict",
          "coloraxis": {
           "colorbar": {
            "outlinewidth": 0,
            "tickcolor": "rgb(36,36,36)",
            "ticklen": 8,
            "ticks": "outside",
            "tickwidth": 2
           }
          },
          "colorscale": {
           "sequential": [
            [
             0,
             "rgb(2,4,25)"
            ],
            [
             0.06274509803921569,
             "rgb(24,15,41)"
            ],
            [
             0.12549019607843137,
             "rgb(47,23,57)"
            ],
            [
             0.18823529411764706,
             "rgb(71,28,72)"
            ],
            [
             0.25098039215686274,
             "rgb(97,30,82)"
            ],
            [
             0.3137254901960784,
             "rgb(123,30,89)"
            ],
            [
             0.3764705882352941,
             "rgb(150,27,91)"
            ],
            [
             0.4392156862745098,
             "rgb(177,22,88)"
            ],
            [
             0.5019607843137255,
             "rgb(203,26,79)"
            ],
            [
             0.5647058823529412,
             "rgb(223,47,67)"
            ],
            [
             0.6274509803921569,
             "rgb(236,76,61)"
            ],
            [
             0.6901960784313725,
             "rgb(242,107,73)"
            ],
            [
             0.7529411764705882,
             "rgb(244,135,95)"
            ],
            [
             0.8156862745098039,
             "rgb(245,162,122)"
            ],
            [
             0.8784313725490196,
             "rgb(246,188,153)"
            ],
            [
             0.9411764705882353,
             "rgb(247,212,187)"
            ],
            [
             1,
             "rgb(250,234,220)"
            ]
           ],
           "sequentialminus": [
            [
             0,
             "rgb(2,4,25)"
            ],
            [
             0.06274509803921569,
             "rgb(24,15,41)"
            ],
            [
             0.12549019607843137,
             "rgb(47,23,57)"
            ],
            [
             0.18823529411764706,
             "rgb(71,28,72)"
            ],
            [
             0.25098039215686274,
             "rgb(97,30,82)"
            ],
            [
             0.3137254901960784,
             "rgb(123,30,89)"
            ],
            [
             0.3764705882352941,
             "rgb(150,27,91)"
            ],
            [
             0.4392156862745098,
             "rgb(177,22,88)"
            ],
            [
             0.5019607843137255,
             "rgb(203,26,79)"
            ],
            [
             0.5647058823529412,
             "rgb(223,47,67)"
            ],
            [
             0.6274509803921569,
             "rgb(236,76,61)"
            ],
            [
             0.6901960784313725,
             "rgb(242,107,73)"
            ],
            [
             0.7529411764705882,
             "rgb(244,135,95)"
            ],
            [
             0.8156862745098039,
             "rgb(245,162,122)"
            ],
            [
             0.8784313725490196,
             "rgb(246,188,153)"
            ],
            [
             0.9411764705882353,
             "rgb(247,212,187)"
            ],
            [
             1,
             "rgb(250,234,220)"
            ]
           ]
          },
          "colorway": [
           "rgb(76,114,176)",
           "rgb(221,132,82)",
           "rgb(85,168,104)",
           "rgb(196,78,82)",
           "rgb(129,114,179)",
           "rgb(147,120,96)",
           "rgb(218,139,195)",
           "rgb(140,140,140)",
           "rgb(204,185,116)",
           "rgb(100,181,205)"
          ],
          "font": {
           "color": "rgb(36,36,36)"
          },
          "geo": {
           "bgcolor": "white",
           "lakecolor": "white",
           "landcolor": "rgb(234,234,242)",
           "showlakes": true,
           "showland": true,
           "subunitcolor": "white"
          },
          "hoverlabel": {
           "align": "left"
          },
          "hovermode": "closest",
          "paper_bgcolor": "white",
          "plot_bgcolor": "rgb(234,234,242)",
          "polar": {
           "angularaxis": {
            "gridcolor": "white",
            "linecolor": "white",
            "showgrid": true,
            "ticks": ""
           },
           "bgcolor": "rgb(234,234,242)",
           "radialaxis": {
            "gridcolor": "white",
            "linecolor": "white",
            "showgrid": true,
            "ticks": ""
           }
          },
          "scene": {
           "xaxis": {
            "backgroundcolor": "rgb(234,234,242)",
            "gridcolor": "white",
            "gridwidth": 2,
            "linecolor": "white",
            "showbackground": true,
            "showgrid": true,
            "ticks": "",
            "zerolinecolor": "white"
           },
           "yaxis": {
            "backgroundcolor": "rgb(234,234,242)",
            "gridcolor": "white",
            "gridwidth": 2,
            "linecolor": "white",
            "showbackground": true,
            "showgrid": true,
            "ticks": "",
            "zerolinecolor": "white"
           },
           "zaxis": {
            "backgroundcolor": "rgb(234,234,242)",
            "gridcolor": "white",
            "gridwidth": 2,
            "linecolor": "white",
            "showbackground": true,
            "showgrid": true,
            "ticks": "",
            "zerolinecolor": "white"
           }
          },
          "shapedefaults": {
           "fillcolor": "rgb(67,103,167)",
           "line": {
            "width": 0
           },
           "opacity": 0.5
          },
          "ternary": {
           "aaxis": {
            "gridcolor": "white",
            "linecolor": "white",
            "showgrid": true,
            "ticks": ""
           },
           "baxis": {
            "gridcolor": "white",
            "linecolor": "white",
            "showgrid": true,
            "ticks": ""
           },
           "bgcolor": "rgb(234,234,242)",
           "caxis": {
            "gridcolor": "white",
            "linecolor": "white",
            "showgrid": true,
            "ticks": ""
           }
          },
          "xaxis": {
           "automargin": true,
           "gridcolor": "white",
           "linecolor": "white",
           "showgrid": true,
           "ticks": "",
           "title": {
            "standoff": 15
           },
           "zerolinecolor": "white"
          },
          "yaxis": {
           "automargin": true,
           "gridcolor": "white",
           "linecolor": "white",
           "showgrid": true,
           "ticks": "",
           "title": {
            "standoff": 15
           },
           "zerolinecolor": "white"
          }
         }
        },
        "title": {
         "text": "Sorted by: total_loop_flow, ascending: True, head: 20"
        },
        "xaxis": {
         "anchor": "y",
         "domain": [
          0,
          1
         ],
         "title": {
          "text": "Flow decomposition value"
         }
        },
        "yaxis": {
         "anchor": "x",
         "domain": [
          0,
          1
         ],
         "title": {
          "text": "xnec_id"
         }
        }
       }
      }
     },
     "metadata": {},
     "output_type": "display_data"
    }
   ],
   "source": [
    "flow_decomposition_bar_chart('total_loop_flow', ascending=True)"
   ]
  },
  {
   "cell_type": "code",
   "execution_count": 11,
   "metadata": {},
   "outputs": [
    {
     "data": {
      "application/vnd.plotly.v1+json": {
       "config": {
        "plotlyServerURL": "https://plot.ly"
       },
       "data": [
        {
         "alignmentgroup": "True",
         "hovertemplate": "Decomposition part:=commercial_flow<br>Flow decomposition value=%{x}<br>xnec_id=%{y}<extra></extra>",
         "legendgroup": "commercial_flow",
         "marker": {
          "color": "#0DF9FF",
          "pattern": {
           "shape": ""
          }
         },
         "name": "commercial_flow",
         "offsetgroup": "commercial_flow",
         "orientation": "h",
         "showlegend": true,
         "textposition": "auto",
         "texttemplate": "%{x:.0f}",
         "type": "bar",
         "x": [
          null,
          null,
          null,
          null,
          null,
          null,
          null,
          null,
          null,
          null,
          null,
          null,
          null,
          null,
          null,
          null,
          null,
          null,
          null,
          null
         ],
         "xaxis": "x",
         "y": [
          "T7130-130-1_InitialState",
          "T7003-3-1_InitialState",
          "L191-192-1_InitialState",
          "L4-16-1_InitialState",
          "T3-4-1_InitialState",
          "L133-171-1_InitialState",
          "L133-137-1_InitialState",
          "L119-120-1_InitialState",
          "T7139-139-1_InitialState",
          "L186-188-1_InitialState",
          "L225-191-1_InitialState",
          "L181-187-1_InitialState",
          "T7002-2-1_InitialState",
          "T234-236-1_InitialState",
          "L118-119-1_InitialState",
          "T241-237-1_InitialState",
          "T7166-166-1_InitialState",
          "L165-166-1_InitialState",
          "L162-165-1_InitialState",
          "L42-46-1_InitialState"
         ],
         "yaxis": "y"
        },
        {
         "alignmentgroup": "True",
         "hovertemplate": "Decomposition part:=pst_flow<br>Flow decomposition value=%{x}<br>xnec_id=%{y}<extra></extra>",
         "legendgroup": "pst_flow",
         "marker": {
          "color": "#AF0038",
          "pattern": {
           "shape": ""
          }
         },
         "name": "pst_flow",
         "offsetgroup": "pst_flow",
         "orientation": "h",
         "showlegend": true,
         "textposition": "auto",
         "texttemplate": "%{x:.0f}",
         "type": "bar",
         "x": [
          null,
          null,
          null,
          null,
          null,
          null,
          null,
          null,
          null,
          null,
          null,
          null,
          null,
          null,
          null,
          null,
          null,
          null,
          null,
          null
         ],
         "xaxis": "x",
         "y": [
          "T7130-130-1_InitialState",
          "T7003-3-1_InitialState",
          "L191-192-1_InitialState",
          "L4-16-1_InitialState",
          "T3-4-1_InitialState",
          "L133-171-1_InitialState",
          "L133-137-1_InitialState",
          "L119-120-1_InitialState",
          "T7139-139-1_InitialState",
          "L186-188-1_InitialState",
          "L225-191-1_InitialState",
          "L181-187-1_InitialState",
          "T7002-2-1_InitialState",
          "T234-236-1_InitialState",
          "L118-119-1_InitialState",
          "T241-237-1_InitialState",
          "T7166-166-1_InitialState",
          "L165-166-1_InitialState",
          "L162-165-1_InitialState",
          "L42-46-1_InitialState"
         ],
         "yaxis": "y"
        },
        {
         "alignmentgroup": "True",
         "hovertemplate": "Decomposition part:=loop_flow_from_at<br>Flow decomposition value=%{x}<br>xnec_id=%{y}<extra></extra>",
         "legendgroup": "loop_flow_from_at",
         "marker": {
          "color": "#FD3216",
          "pattern": {
           "shape": ""
          }
         },
         "name": "loop_flow_from_at",
         "offsetgroup": "loop_flow_from_at",
         "orientation": "h",
         "showlegend": true,
         "textposition": "auto",
         "texttemplate": "%{x:.0f}",
         "type": "bar",
         "x": [
          null,
          1189.131730914588,
          null,
          832.0328246689855,
          832.0328246689851,
          null,
          -410.36518800189424,
          null,
          null,
          null,
          null,
          null,
          602.1317309145877,
          null,
          null,
          null,
          null,
          null,
          null,
          727.5500166768979
         ],
         "xaxis": "x",
         "y": [
          "T7130-130-1_InitialState",
          "T7003-3-1_InitialState",
          "L191-192-1_InitialState",
          "L4-16-1_InitialState",
          "T3-4-1_InitialState",
          "L133-171-1_InitialState",
          "L133-137-1_InitialState",
          "L119-120-1_InitialState",
          "T7139-139-1_InitialState",
          "L186-188-1_InitialState",
          "L225-191-1_InitialState",
          "L181-187-1_InitialState",
          "T7002-2-1_InitialState",
          "T234-236-1_InitialState",
          "L118-119-1_InitialState",
          "T241-237-1_InitialState",
          "T7166-166-1_InitialState",
          "L165-166-1_InitialState",
          "L162-165-1_InitialState",
          "L42-46-1_InitialState"
         ],
         "yaxis": "y"
        },
        {
         "alignmentgroup": "True",
         "hovertemplate": "Decomposition part:=loop_flow_from_bg<br>Flow decomposition value=%{x}<br>xnec_id=%{y}<extra></extra>",
         "legendgroup": "loop_flow_from_bg",
         "marker": {
          "color": "#00A08B",
          "pattern": {
           "shape": ""
          }
         },
         "name": "loop_flow_from_bg",
         "offsetgroup": "loop_flow_from_bg",
         "orientation": "h",
         "showlegend": true,
         "textposition": "auto",
         "texttemplate": "%{x:.0f}",
         "type": "bar",
         "x": [
          null,
          null,
          null,
          null,
          null,
          null,
          780.4255683576197,
          null,
          null,
          679.0202396879231,
          null,
          74.21196433415994,
          null,
          null,
          null,
          null,
          null,
          null,
          null,
          -348.6894005328385
         ],
         "xaxis": "x",
         "y": [
          "T7130-130-1_InitialState",
          "T7003-3-1_InitialState",
          "L191-192-1_InitialState",
          "L4-16-1_InitialState",
          "T3-4-1_InitialState",
          "L133-171-1_InitialState",
          "L133-137-1_InitialState",
          "L119-120-1_InitialState",
          "T7139-139-1_InitialState",
          "L186-188-1_InitialState",
          "L225-191-1_InitialState",
          "L181-187-1_InitialState",
          "T7002-2-1_InitialState",
          "T234-236-1_InitialState",
          "L118-119-1_InitialState",
          "T241-237-1_InitialState",
          "T7166-166-1_InitialState",
          "L165-166-1_InitialState",
          "L162-165-1_InitialState",
          "L42-46-1_InitialState"
         ],
         "yaxis": "y"
        },
        {
         "alignmentgroup": "True",
         "hovertemplate": "Decomposition part:=loop_flow_from_cz<br>Flow decomposition value=%{x}<br>xnec_id=%{y}<extra></extra>",
         "legendgroup": "loop_flow_from_cz",
         "marker": {
          "color": "#6C4516",
          "pattern": {
           "shape": ""
          }
         },
         "name": "loop_flow_from_cz",
         "offsetgroup": "loop_flow_from_cz",
         "orientation": "h",
         "showlegend": true,
         "textposition": "auto",
         "texttemplate": "%{x:.0f}",
         "type": "bar",
         "x": [
          null,
          null,
          null,
          -297.97250833236086,
          -297.972508332361,
          null,
          null,
          401.39022444918515,
          714.1117384731668,
          null,
          null,
          null,
          null,
          null,
          -256.27125338140496,
          null,
          null,
          null,
          null,
          -237.07620368858392
         ],
         "xaxis": "x",
         "y": [
          "T7130-130-1_InitialState",
          "T7003-3-1_InitialState",
          "L191-192-1_InitialState",
          "L4-16-1_InitialState",
          "T3-4-1_InitialState",
          "L133-171-1_InitialState",
          "L133-137-1_InitialState",
          "L119-120-1_InitialState",
          "T7139-139-1_InitialState",
          "L186-188-1_InitialState",
          "L225-191-1_InitialState",
          "L181-187-1_InitialState",
          "T7002-2-1_InitialState",
          "T234-236-1_InitialState",
          "L118-119-1_InitialState",
          "T241-237-1_InitialState",
          "T7166-166-1_InitialState",
          "L165-166-1_InitialState",
          "L162-165-1_InitialState",
          "L42-46-1_InitialState"
         ],
         "yaxis": "y"
        },
        {
         "alignmentgroup": "True",
         "hovertemplate": "Decomposition part:=loop_flow_from_dk<br>Flow decomposition value=%{x}<br>xnec_id=%{y}<extra></extra>",
         "legendgroup": "loop_flow_from_dk",
         "marker": {
          "color": "#511CFB",
          "pattern": {
           "shape": ""
          }
         },
         "name": "loop_flow_from_dk",
         "offsetgroup": "loop_flow_from_dk",
         "orientation": "h",
         "showlegend": true,
         "textposition": "auto",
         "texttemplate": "%{x:.0f}",
         "type": "bar",
         "x": [
          null,
          null,
          59.75429856814041,
          600.9404657851361,
          600.9404657851364,
          null,
          878.8640686427228,
          null,
          null,
          -73.49413538155457,
          -62.19680297731161,
          567.3499070031355,
          null,
          null,
          null,
          573.7243209876542,
          null,
          null,
          null,
          552.1168773587655
         ],
         "xaxis": "x",
         "y": [
          "T7130-130-1_InitialState",
          "T7003-3-1_InitialState",
          "L191-192-1_InitialState",
          "L4-16-1_InitialState",
          "T3-4-1_InitialState",
          "L133-171-1_InitialState",
          "L133-137-1_InitialState",
          "L119-120-1_InitialState",
          "T7139-139-1_InitialState",
          "L186-188-1_InitialState",
          "L225-191-1_InitialState",
          "L181-187-1_InitialState",
          "T7002-2-1_InitialState",
          "T234-236-1_InitialState",
          "L118-119-1_InitialState",
          "T241-237-1_InitialState",
          "T7166-166-1_InitialState",
          "L165-166-1_InitialState",
          "L162-165-1_InitialState",
          "L42-46-1_InitialState"
         ],
         "yaxis": "y"
        },
        {
         "alignmentgroup": "True",
         "hovertemplate": "Decomposition part:=loop_flow_from_fi<br>Flow decomposition value=%{x}<br>xnec_id=%{y}<extra></extra>",
         "legendgroup": "loop_flow_from_fi",
         "marker": {
          "color": "#F6F926",
          "pattern": {
           "shape": ""
          }
         },
         "name": "loop_flow_from_fi",
         "offsetgroup": "loop_flow_from_fi",
         "orientation": "h",
         "showlegend": true,
         "textposition": "auto",
         "texttemplate": "%{x:.0f}",
         "type": "bar",
         "x": [
          null,
          null,
          null,
          null,
          null,
          null,
          -636.1417243265815,
          null,
          null,
          72.85800990596678,
          null,
          null,
          null,
          null,
          null,
          null,
          null,
          null,
          null,
          null
         ],
         "xaxis": "x",
         "y": [
          "T7130-130-1_InitialState",
          "T7003-3-1_InitialState",
          "L191-192-1_InitialState",
          "L4-16-1_InitialState",
          "T3-4-1_InitialState",
          "L133-171-1_InitialState",
          "L133-137-1_InitialState",
          "L119-120-1_InitialState",
          "T7139-139-1_InitialState",
          "L186-188-1_InitialState",
          "L225-191-1_InitialState",
          "L181-187-1_InitialState",
          "T7002-2-1_InitialState",
          "T234-236-1_InitialState",
          "L118-119-1_InitialState",
          "T241-237-1_InitialState",
          "T7166-166-1_InitialState",
          "L165-166-1_InitialState",
          "L162-165-1_InitialState",
          "L42-46-1_InitialState"
         ],
         "yaxis": "y"
        },
        {
         "alignmentgroup": "True",
         "hovertemplate": "Decomposition part:=loop_flow_from_fr<br>Flow decomposition value=%{x}<br>xnec_id=%{y}<extra></extra>",
         "legendgroup": "loop_flow_from_fr",
         "marker": {
          "color": "#C9FBE5",
          "pattern": {
           "shape": ""
          }
         },
         "name": "loop_flow_from_fr",
         "offsetgroup": "loop_flow_from_fr",
         "orientation": "h",
         "showlegend": true,
         "textposition": "auto",
         "texttemplate": "%{x:.0f}",
         "type": "bar",
         "x": [
          1285.5822927689599,
          null,
          null,
          null,
          null,
          null,
          -210.59697209013785,
          null,
          null,
          null,
          null,
          null,
          null,
          593.5822927689603,
          null,
          null,
          null,
          null,
          null,
          -181.99731939977372
         ],
         "xaxis": "x",
         "y": [
          "T7130-130-1_InitialState",
          "T7003-3-1_InitialState",
          "L191-192-1_InitialState",
          "L4-16-1_InitialState",
          "T3-4-1_InitialState",
          "L133-171-1_InitialState",
          "L133-137-1_InitialState",
          "L119-120-1_InitialState",
          "T7139-139-1_InitialState",
          "L186-188-1_InitialState",
          "L225-191-1_InitialState",
          "L181-187-1_InitialState",
          "T7002-2-1_InitialState",
          "T234-236-1_InitialState",
          "L118-119-1_InitialState",
          "T241-237-1_InitialState",
          "T7166-166-1_InitialState",
          "L165-166-1_InitialState",
          "L162-165-1_InitialState",
          "L42-46-1_InitialState"
         ],
         "yaxis": "y"
        },
        {
         "alignmentgroup": "True",
         "hovertemplate": "Decomposition part:=loop_flow_from_gr<br>Flow decomposition value=%{x}<br>xnec_id=%{y}<extra></extra>",
         "legendgroup": "loop_flow_from_gr",
         "marker": {
          "color": "#FC0080",
          "pattern": {
           "shape": ""
          }
         },
         "name": "loop_flow_from_gr",
         "offsetgroup": "loop_flow_from_gr",
         "orientation": "h",
         "showlegend": true,
         "textposition": "auto",
         "texttemplate": "%{x:.0f}",
         "type": "bar",
         "x": [
          null,
          null,
          747.7525256329782,
          -656.0105701214636,
          -656.0105701214638,
          null,
          281.118775397712,
          -65.00572693207401,
          null,
          null,
          698.7195731324547,
          null,
          -38.26472663139333,
          -38.26472663139375,
          -151.5761073628378,
          -38.264726631393806,
          515.4720987654323,
          515.4720987654325,
          515.4720987654318,
          -715.7375258961848
         ],
         "xaxis": "x",
         "y": [
          "T7130-130-1_InitialState",
          "T7003-3-1_InitialState",
          "L191-192-1_InitialState",
          "L4-16-1_InitialState",
          "T3-4-1_InitialState",
          "L133-171-1_InitialState",
          "L133-137-1_InitialState",
          "L119-120-1_InitialState",
          "T7139-139-1_InitialState",
          "L186-188-1_InitialState",
          "L225-191-1_InitialState",
          "L181-187-1_InitialState",
          "T7002-2-1_InitialState",
          "T234-236-1_InitialState",
          "L118-119-1_InitialState",
          "T241-237-1_InitialState",
          "T7166-166-1_InitialState",
          "L165-166-1_InitialState",
          "L162-165-1_InitialState",
          "L42-46-1_InitialState"
         ],
         "yaxis": "y"
        },
        {
         "alignmentgroup": "True",
         "hovertemplate": "Decomposition part:=loop_flow_from_lt<br>Flow decomposition value=%{x}<br>xnec_id=%{y}<extra></extra>",
         "legendgroup": "loop_flow_from_lt",
         "marker": {
          "color": "#FB0D0D",
          "pattern": {
           "shape": ""
          }
         },
         "name": "loop_flow_from_lt",
         "offsetgroup": "loop_flow_from_lt",
         "orientation": "h",
         "showlegend": true,
         "textposition": "auto",
         "texttemplate": "%{x:.0f}",
         "type": "bar",
         "x": [
          null,
          null,
          null,
          310.6343294337671,
          310.63432943376756,
          763.6000000000004,
          -379.90463875513603,
          374.3130448558028,
          null,
          null,
          null,
          null,
          null,
          null,
          1007.0962137521875,
          null,
          null,
          null,
          null,
          436.6549358969289
         ],
         "xaxis": "x",
         "y": [
          "T7130-130-1_InitialState",
          "T7003-3-1_InitialState",
          "L191-192-1_InitialState",
          "L4-16-1_InitialState",
          "T3-4-1_InitialState",
          "L133-171-1_InitialState",
          "L133-137-1_InitialState",
          "L119-120-1_InitialState",
          "T7139-139-1_InitialState",
          "L186-188-1_InitialState",
          "L225-191-1_InitialState",
          "L181-187-1_InitialState",
          "T7002-2-1_InitialState",
          "T234-236-1_InitialState",
          "L118-119-1_InitialState",
          "T241-237-1_InitialState",
          "T7166-166-1_InitialState",
          "L165-166-1_InitialState",
          "L162-165-1_InitialState",
          "L42-46-1_InitialState"
         ],
         "yaxis": "y"
        },
        {
         "alignmentgroup": "True",
         "hovertemplate": "Decomposition part:=loop_flow_from_lu<br>Flow decomposition value=%{x}<br>xnec_id=%{y}<extra></extra>",
         "legendgroup": "loop_flow_from_lu",
         "marker": {
          "color": "#D626FF",
          "pattern": {
           "shape": ""
          }
         },
         "name": "loop_flow_from_lu",
         "offsetgroup": "loop_flow_from_lu",
         "orientation": "h",
         "showlegend": true,
         "textposition": "auto",
         "texttemplate": "%{x:.0f}",
         "type": "bar",
         "x": [
          null,
          null,
          null,
          216.47287088934195,
          216.47287088934155,
          null,
          388.97980040815224,
          null,
          null,
          null,
          null,
          null,
          null,
          null,
          null,
          null,
          null,
          null,
          null,
          263.10773873604995
         ],
         "xaxis": "x",
         "y": [
          "T7130-130-1_InitialState",
          "T7003-3-1_InitialState",
          "L191-192-1_InitialState",
          "L4-16-1_InitialState",
          "T3-4-1_InitialState",
          "L133-171-1_InitialState",
          "L133-137-1_InitialState",
          "L119-120-1_InitialState",
          "T7139-139-1_InitialState",
          "L186-188-1_InitialState",
          "L225-191-1_InitialState",
          "L181-187-1_InitialState",
          "T7002-2-1_InitialState",
          "T234-236-1_InitialState",
          "L118-119-1_InitialState",
          "T241-237-1_InitialState",
          "T7166-166-1_InitialState",
          "L165-166-1_InitialState",
          "L162-165-1_InitialState",
          "L42-46-1_InitialState"
         ],
         "yaxis": "y"
        },
        {
         "alignmentgroup": "True",
         "hovertemplate": "Decomposition part:=masked_flows_positive<br>Flow decomposition value=%{x}<br>xnec_id=%{y}<extra></extra>",
         "legendgroup": "masked_flows_positive",
         "marker": {
          "color": "#DA16FF",
          "pattern": {
           "shape": ""
          }
         },
         "name": "masked_flows_positive",
         "offsetgroup": "masked_flows_positive",
         "orientation": "h",
         "showlegend": true,
         "textposition": "auto",
         "texttemplate": "%{x:.0f}",
         "type": "bar",
         "x": [
          69.46685815066775,
          69.46685815066772,
          35.91083345076892,
          0,
          0,
          3.9610892043400583e-13,
          25.94446633831724,
          9.592327032406674,
          56.09194507432613,
          15.690918188689212,
          33.55602469989904,
          45.30831129313356,
          69.46685815066755,
          69.4668581506681,
          25.29543765520831,
          69.46685815066752,
          69.46685815066775,
          69.46685815066792,
          69.46685815066763,
          56.90136603362514
         ],
         "xaxis": "x",
         "y": [
          "T7130-130-1_InitialState",
          "T7003-3-1_InitialState",
          "L191-192-1_InitialState",
          "L4-16-1_InitialState",
          "T3-4-1_InitialState",
          "L133-171-1_InitialState",
          "L133-137-1_InitialState",
          "L119-120-1_InitialState",
          "T7139-139-1_InitialState",
          "L186-188-1_InitialState",
          "L225-191-1_InitialState",
          "L181-187-1_InitialState",
          "T7002-2-1_InitialState",
          "T234-236-1_InitialState",
          "L118-119-1_InitialState",
          "T241-237-1_InitialState",
          "T7166-166-1_InitialState",
          "L165-166-1_InitialState",
          "L162-165-1_InitialState",
          "L42-46-1_InitialState"
         ],
         "yaxis": "y"
        },
        {
         "alignmentgroup": "True",
         "hovertemplate": "Decomposition part:=masked_flows_negative<br>Flow decomposition value=%{x}<br>xnec_id=%{y}<extra></extra>",
         "legendgroup": "masked_flows_negative",
         "marker": {
          "color": "#86CE00",
          "pattern": {
           "shape": ""
          }
         },
         "name": "masked_flows_negative",
         "offsetgroup": "masked_flows_negative",
         "orientation": "h",
         "showlegend": true,
         "textposition": "auto",
         "texttemplate": "%{x:.0f}",
         "type": "bar",
         "x": [
          -62.31232552280166,
          -47.86176366843013,
          -14.867264862002699,
          -227.57021355938508,
          -227.5702135593851,
          -3.563803586321447e-13,
          0,
          -14.3116991031354,
          -69.46685815066783,
          -29.660254221683804,
          -13.892362248100845,
          -37.75375179090872,
          -9.597037037036833,
          -24.047598891406587,
          -32.360309988967295,
          -28.759627110103043,
          -31.202131519274218,
          -31.20213151927457,
          -31.202131519274374,
          0
         ],
         "xaxis": "x",
         "y": [
          "T7130-130-1_InitialState",
          "T7003-3-1_InitialState",
          "L191-192-1_InitialState",
          "L4-16-1_InitialState",
          "T3-4-1_InitialState",
          "L133-171-1_InitialState",
          "L133-137-1_InitialState",
          "L119-120-1_InitialState",
          "T7139-139-1_InitialState",
          "L186-188-1_InitialState",
          "L225-191-1_InitialState",
          "L181-187-1_InitialState",
          "T7002-2-1_InitialState",
          "T234-236-1_InitialState",
          "L118-119-1_InitialState",
          "T241-237-1_InitialState",
          "T7166-166-1_InitialState",
          "L165-166-1_InitialState",
          "L162-165-1_InitialState",
          "L42-46-1_InitialState"
         ],
         "yaxis": "y"
        },
        {
         "mode": "lines+markers",
         "name": "total_flow",
         "type": "scatter",
         "x": [
          1292.7368253968261,
          1210.736825396825,
          828.5503927898848,
          778.5271987640211,
          778.5271987640208,
          763.6000000000004,
          718.3241559707742,
          705.9781703021852,
          700.7368253968251,
          664.4147781793408,
          656.1864326069411,
          649.1164308395203,
          623.7368253968251,
          600.7368253968281,
          592.1839806741858,
          576.166825396825,
          553.7368253968258,
          553.7368253968258,
          553.7368253968251,
          552.8304851848864
         ],
         "y": [
          "T7130-130-1_InitialState",
          "T7003-3-1_InitialState",
          "L191-192-1_InitialState",
          "L4-16-1_InitialState",
          "T3-4-1_InitialState",
          "L133-171-1_InitialState",
          "L133-137-1_InitialState",
          "L119-120-1_InitialState",
          "T7139-139-1_InitialState",
          "L186-188-1_InitialState",
          "L225-191-1_InitialState",
          "L181-187-1_InitialState",
          "T7002-2-1_InitialState",
          "T234-236-1_InitialState",
          "L118-119-1_InitialState",
          "T241-237-1_InitialState",
          "T7166-166-1_InitialState",
          "L165-166-1_InitialState",
          "L162-165-1_InitialState",
          "L42-46-1_InitialState"
         ]
        },
        {
         "mode": "lines+markers",
         "name": "total_loop_flow",
         "type": "scatter",
         "x": [
          1292.7368253968261,
          1210.736825396825,
          828.5503927898848,
          778.5271987640211,
          778.5271987640208,
          763.6000000000004,
          718.3241559707742,
          705.9781703021852,
          700.7368253968251,
          664.4147781793408,
          656.1864326069411,
          649.1164308395203,
          623.7368253968251,
          600.7368253968281,
          592.1839806741858,
          576.166825396825,
          553.7368253968258,
          553.7368253968258,
          553.7368253968251,
          552.8304851848864
         ],
         "y": [
          "T7130-130-1_InitialState",
          "T7003-3-1_InitialState",
          "L191-192-1_InitialState",
          "L4-16-1_InitialState",
          "T3-4-1_InitialState",
          "L133-171-1_InitialState",
          "L133-137-1_InitialState",
          "L119-120-1_InitialState",
          "T7139-139-1_InitialState",
          "L186-188-1_InitialState",
          "L225-191-1_InitialState",
          "L181-187-1_InitialState",
          "T7002-2-1_InitialState",
          "T234-236-1_InitialState",
          "L118-119-1_InitialState",
          "T241-237-1_InitialState",
          "T7166-166-1_InitialState",
          "L165-166-1_InitialState",
          "L162-165-1_InitialState",
          "L42-46-1_InitialState"
         ]
        }
       ],
       "layout": {
        "barmode": "relative",
        "height": 1000,
        "legend": {
         "title": {
          "text": "Decomposition part:"
         },
         "tracegroupgap": 0
        },
        "template": {
         "data": {
          "bar": [
           {
            "error_x": {
             "color": "rgb(36,36,36)"
            },
            "error_y": {
             "color": "rgb(36,36,36)"
            },
            "marker": {
             "line": {
              "color": "rgb(234,234,242)",
              "width": 0.5
             },
             "pattern": {
              "fillmode": "overlay",
              "size": 10,
              "solidity": 0.2
             }
            },
            "type": "bar"
           }
          ],
          "barpolar": [
           {
            "marker": {
             "line": {
              "color": "rgb(234,234,242)",
              "width": 0.5
             },
             "pattern": {
              "fillmode": "overlay",
              "size": 10,
              "solidity": 0.2
             }
            },
            "type": "barpolar"
           }
          ],
          "carpet": [
           {
            "aaxis": {
             "endlinecolor": "rgb(36,36,36)",
             "gridcolor": "white",
             "linecolor": "white",
             "minorgridcolor": "white",
             "startlinecolor": "rgb(36,36,36)"
            },
            "baxis": {
             "endlinecolor": "rgb(36,36,36)",
             "gridcolor": "white",
             "linecolor": "white",
             "minorgridcolor": "white",
             "startlinecolor": "rgb(36,36,36)"
            },
            "type": "carpet"
           }
          ],
          "choropleth": [
           {
            "colorbar": {
             "outlinewidth": 0,
             "tickcolor": "rgb(36,36,36)",
             "ticklen": 8,
             "ticks": "outside",
             "tickwidth": 2
            },
            "type": "choropleth"
           }
          ],
          "contour": [
           {
            "colorbar": {
             "outlinewidth": 0,
             "tickcolor": "rgb(36,36,36)",
             "ticklen": 8,
             "ticks": "outside",
             "tickwidth": 2
            },
            "colorscale": [
             [
              0,
              "rgb(2,4,25)"
             ],
             [
              0.06274509803921569,
              "rgb(24,15,41)"
             ],
             [
              0.12549019607843137,
              "rgb(47,23,57)"
             ],
             [
              0.18823529411764706,
              "rgb(71,28,72)"
             ],
             [
              0.25098039215686274,
              "rgb(97,30,82)"
             ],
             [
              0.3137254901960784,
              "rgb(123,30,89)"
             ],
             [
              0.3764705882352941,
              "rgb(150,27,91)"
             ],
             [
              0.4392156862745098,
              "rgb(177,22,88)"
             ],
             [
              0.5019607843137255,
              "rgb(203,26,79)"
             ],
             [
              0.5647058823529412,
              "rgb(223,47,67)"
             ],
             [
              0.6274509803921569,
              "rgb(236,76,61)"
             ],
             [
              0.6901960784313725,
              "rgb(242,107,73)"
             ],
             [
              0.7529411764705882,
              "rgb(244,135,95)"
             ],
             [
              0.8156862745098039,
              "rgb(245,162,122)"
             ],
             [
              0.8784313725490196,
              "rgb(246,188,153)"
             ],
             [
              0.9411764705882353,
              "rgb(247,212,187)"
             ],
             [
              1,
              "rgb(250,234,220)"
             ]
            ],
            "type": "contour"
           }
          ],
          "contourcarpet": [
           {
            "colorbar": {
             "outlinewidth": 0,
             "tickcolor": "rgb(36,36,36)",
             "ticklen": 8,
             "ticks": "outside",
             "tickwidth": 2
            },
            "type": "contourcarpet"
           }
          ],
          "heatmap": [
           {
            "colorbar": {
             "outlinewidth": 0,
             "tickcolor": "rgb(36,36,36)",
             "ticklen": 8,
             "ticks": "outside",
             "tickwidth": 2
            },
            "colorscale": [
             [
              0,
              "rgb(2,4,25)"
             ],
             [
              0.06274509803921569,
              "rgb(24,15,41)"
             ],
             [
              0.12549019607843137,
              "rgb(47,23,57)"
             ],
             [
              0.18823529411764706,
              "rgb(71,28,72)"
             ],
             [
              0.25098039215686274,
              "rgb(97,30,82)"
             ],
             [
              0.3137254901960784,
              "rgb(123,30,89)"
             ],
             [
              0.3764705882352941,
              "rgb(150,27,91)"
             ],
             [
              0.4392156862745098,
              "rgb(177,22,88)"
             ],
             [
              0.5019607843137255,
              "rgb(203,26,79)"
             ],
             [
              0.5647058823529412,
              "rgb(223,47,67)"
             ],
             [
              0.6274509803921569,
              "rgb(236,76,61)"
             ],
             [
              0.6901960784313725,
              "rgb(242,107,73)"
             ],
             [
              0.7529411764705882,
              "rgb(244,135,95)"
             ],
             [
              0.8156862745098039,
              "rgb(245,162,122)"
             ],
             [
              0.8784313725490196,
              "rgb(246,188,153)"
             ],
             [
              0.9411764705882353,
              "rgb(247,212,187)"
             ],
             [
              1,
              "rgb(250,234,220)"
             ]
            ],
            "type": "heatmap"
           }
          ],
          "heatmapgl": [
           {
            "colorbar": {
             "outlinewidth": 0,
             "tickcolor": "rgb(36,36,36)",
             "ticklen": 8,
             "ticks": "outside",
             "tickwidth": 2
            },
            "colorscale": [
             [
              0,
              "rgb(2,4,25)"
             ],
             [
              0.06274509803921569,
              "rgb(24,15,41)"
             ],
             [
              0.12549019607843137,
              "rgb(47,23,57)"
             ],
             [
              0.18823529411764706,
              "rgb(71,28,72)"
             ],
             [
              0.25098039215686274,
              "rgb(97,30,82)"
             ],
             [
              0.3137254901960784,
              "rgb(123,30,89)"
             ],
             [
              0.3764705882352941,
              "rgb(150,27,91)"
             ],
             [
              0.4392156862745098,
              "rgb(177,22,88)"
             ],
             [
              0.5019607843137255,
              "rgb(203,26,79)"
             ],
             [
              0.5647058823529412,
              "rgb(223,47,67)"
             ],
             [
              0.6274509803921569,
              "rgb(236,76,61)"
             ],
             [
              0.6901960784313725,
              "rgb(242,107,73)"
             ],
             [
              0.7529411764705882,
              "rgb(244,135,95)"
             ],
             [
              0.8156862745098039,
              "rgb(245,162,122)"
             ],
             [
              0.8784313725490196,
              "rgb(246,188,153)"
             ],
             [
              0.9411764705882353,
              "rgb(247,212,187)"
             ],
             [
              1,
              "rgb(250,234,220)"
             ]
            ],
            "type": "heatmapgl"
           }
          ],
          "histogram": [
           {
            "marker": {
             "pattern": {
              "fillmode": "overlay",
              "size": 10,
              "solidity": 0.2
             }
            },
            "type": "histogram"
           }
          ],
          "histogram2d": [
           {
            "colorbar": {
             "outlinewidth": 0,
             "tickcolor": "rgb(36,36,36)",
             "ticklen": 8,
             "ticks": "outside",
             "tickwidth": 2
            },
            "colorscale": [
             [
              0,
              "rgb(2,4,25)"
             ],
             [
              0.06274509803921569,
              "rgb(24,15,41)"
             ],
             [
              0.12549019607843137,
              "rgb(47,23,57)"
             ],
             [
              0.18823529411764706,
              "rgb(71,28,72)"
             ],
             [
              0.25098039215686274,
              "rgb(97,30,82)"
             ],
             [
              0.3137254901960784,
              "rgb(123,30,89)"
             ],
             [
              0.3764705882352941,
              "rgb(150,27,91)"
             ],
             [
              0.4392156862745098,
              "rgb(177,22,88)"
             ],
             [
              0.5019607843137255,
              "rgb(203,26,79)"
             ],
             [
              0.5647058823529412,
              "rgb(223,47,67)"
             ],
             [
              0.6274509803921569,
              "rgb(236,76,61)"
             ],
             [
              0.6901960784313725,
              "rgb(242,107,73)"
             ],
             [
              0.7529411764705882,
              "rgb(244,135,95)"
             ],
             [
              0.8156862745098039,
              "rgb(245,162,122)"
             ],
             [
              0.8784313725490196,
              "rgb(246,188,153)"
             ],
             [
              0.9411764705882353,
              "rgb(247,212,187)"
             ],
             [
              1,
              "rgb(250,234,220)"
             ]
            ],
            "type": "histogram2d"
           }
          ],
          "histogram2dcontour": [
           {
            "colorbar": {
             "outlinewidth": 0,
             "tickcolor": "rgb(36,36,36)",
             "ticklen": 8,
             "ticks": "outside",
             "tickwidth": 2
            },
            "colorscale": [
             [
              0,
              "rgb(2,4,25)"
             ],
             [
              0.06274509803921569,
              "rgb(24,15,41)"
             ],
             [
              0.12549019607843137,
              "rgb(47,23,57)"
             ],
             [
              0.18823529411764706,
              "rgb(71,28,72)"
             ],
             [
              0.25098039215686274,
              "rgb(97,30,82)"
             ],
             [
              0.3137254901960784,
              "rgb(123,30,89)"
             ],
             [
              0.3764705882352941,
              "rgb(150,27,91)"
             ],
             [
              0.4392156862745098,
              "rgb(177,22,88)"
             ],
             [
              0.5019607843137255,
              "rgb(203,26,79)"
             ],
             [
              0.5647058823529412,
              "rgb(223,47,67)"
             ],
             [
              0.6274509803921569,
              "rgb(236,76,61)"
             ],
             [
              0.6901960784313725,
              "rgb(242,107,73)"
             ],
             [
              0.7529411764705882,
              "rgb(244,135,95)"
             ],
             [
              0.8156862745098039,
              "rgb(245,162,122)"
             ],
             [
              0.8784313725490196,
              "rgb(246,188,153)"
             ],
             [
              0.9411764705882353,
              "rgb(247,212,187)"
             ],
             [
              1,
              "rgb(250,234,220)"
             ]
            ],
            "type": "histogram2dcontour"
           }
          ],
          "mesh3d": [
           {
            "colorbar": {
             "outlinewidth": 0,
             "tickcolor": "rgb(36,36,36)",
             "ticklen": 8,
             "ticks": "outside",
             "tickwidth": 2
            },
            "type": "mesh3d"
           }
          ],
          "parcoords": [
           {
            "line": {
             "colorbar": {
              "outlinewidth": 0,
              "tickcolor": "rgb(36,36,36)",
              "ticklen": 8,
              "ticks": "outside",
              "tickwidth": 2
             }
            },
            "type": "parcoords"
           }
          ],
          "pie": [
           {
            "automargin": true,
            "type": "pie"
           }
          ],
          "scatter": [
           {
            "fillpattern": {
             "fillmode": "overlay",
             "size": 10,
             "solidity": 0.2
            },
            "type": "scatter"
           }
          ],
          "scatter3d": [
           {
            "line": {
             "colorbar": {
              "outlinewidth": 0,
              "tickcolor": "rgb(36,36,36)",
              "ticklen": 8,
              "ticks": "outside",
              "tickwidth": 2
             }
            },
            "marker": {
             "colorbar": {
              "outlinewidth": 0,
              "tickcolor": "rgb(36,36,36)",
              "ticklen": 8,
              "ticks": "outside",
              "tickwidth": 2
             }
            },
            "type": "scatter3d"
           }
          ],
          "scattercarpet": [
           {
            "marker": {
             "colorbar": {
              "outlinewidth": 0,
              "tickcolor": "rgb(36,36,36)",
              "ticklen": 8,
              "ticks": "outside",
              "tickwidth": 2
             }
            },
            "type": "scattercarpet"
           }
          ],
          "scattergeo": [
           {
            "marker": {
             "colorbar": {
              "outlinewidth": 0,
              "tickcolor": "rgb(36,36,36)",
              "ticklen": 8,
              "ticks": "outside",
              "tickwidth": 2
             }
            },
            "type": "scattergeo"
           }
          ],
          "scattergl": [
           {
            "marker": {
             "colorbar": {
              "outlinewidth": 0,
              "tickcolor": "rgb(36,36,36)",
              "ticklen": 8,
              "ticks": "outside",
              "tickwidth": 2
             }
            },
            "type": "scattergl"
           }
          ],
          "scattermapbox": [
           {
            "marker": {
             "colorbar": {
              "outlinewidth": 0,
              "tickcolor": "rgb(36,36,36)",
              "ticklen": 8,
              "ticks": "outside",
              "tickwidth": 2
             }
            },
            "type": "scattermapbox"
           }
          ],
          "scatterpolar": [
           {
            "marker": {
             "colorbar": {
              "outlinewidth": 0,
              "tickcolor": "rgb(36,36,36)",
              "ticklen": 8,
              "ticks": "outside",
              "tickwidth": 2
             }
            },
            "type": "scatterpolar"
           }
          ],
          "scatterpolargl": [
           {
            "marker": {
             "colorbar": {
              "outlinewidth": 0,
              "tickcolor": "rgb(36,36,36)",
              "ticklen": 8,
              "ticks": "outside",
              "tickwidth": 2
             }
            },
            "type": "scatterpolargl"
           }
          ],
          "scatterternary": [
           {
            "marker": {
             "colorbar": {
              "outlinewidth": 0,
              "tickcolor": "rgb(36,36,36)",
              "ticklen": 8,
              "ticks": "outside",
              "tickwidth": 2
             }
            },
            "type": "scatterternary"
           }
          ],
          "surface": [
           {
            "colorbar": {
             "outlinewidth": 0,
             "tickcolor": "rgb(36,36,36)",
             "ticklen": 8,
             "ticks": "outside",
             "tickwidth": 2
            },
            "colorscale": [
             [
              0,
              "rgb(2,4,25)"
             ],
             [
              0.06274509803921569,
              "rgb(24,15,41)"
             ],
             [
              0.12549019607843137,
              "rgb(47,23,57)"
             ],
             [
              0.18823529411764706,
              "rgb(71,28,72)"
             ],
             [
              0.25098039215686274,
              "rgb(97,30,82)"
             ],
             [
              0.3137254901960784,
              "rgb(123,30,89)"
             ],
             [
              0.3764705882352941,
              "rgb(150,27,91)"
             ],
             [
              0.4392156862745098,
              "rgb(177,22,88)"
             ],
             [
              0.5019607843137255,
              "rgb(203,26,79)"
             ],
             [
              0.5647058823529412,
              "rgb(223,47,67)"
             ],
             [
              0.6274509803921569,
              "rgb(236,76,61)"
             ],
             [
              0.6901960784313725,
              "rgb(242,107,73)"
             ],
             [
              0.7529411764705882,
              "rgb(244,135,95)"
             ],
             [
              0.8156862745098039,
              "rgb(245,162,122)"
             ],
             [
              0.8784313725490196,
              "rgb(246,188,153)"
             ],
             [
              0.9411764705882353,
              "rgb(247,212,187)"
             ],
             [
              1,
              "rgb(250,234,220)"
             ]
            ],
            "type": "surface"
           }
          ],
          "table": [
           {
            "cells": {
             "fill": {
              "color": "rgb(231,231,240)"
             },
             "line": {
              "color": "white"
             }
            },
            "header": {
             "fill": {
              "color": "rgb(183,183,191)"
             },
             "line": {
              "color": "white"
             }
            },
            "type": "table"
           }
          ]
         },
         "layout": {
          "annotationdefaults": {
           "arrowcolor": "rgb(67,103,167)"
          },
          "autotypenumbers": "strict",
          "coloraxis": {
           "colorbar": {
            "outlinewidth": 0,
            "tickcolor": "rgb(36,36,36)",
            "ticklen": 8,
            "ticks": "outside",
            "tickwidth": 2
           }
          },
          "colorscale": {
           "sequential": [
            [
             0,
             "rgb(2,4,25)"
            ],
            [
             0.06274509803921569,
             "rgb(24,15,41)"
            ],
            [
             0.12549019607843137,
             "rgb(47,23,57)"
            ],
            [
             0.18823529411764706,
             "rgb(71,28,72)"
            ],
            [
             0.25098039215686274,
             "rgb(97,30,82)"
            ],
            [
             0.3137254901960784,
             "rgb(123,30,89)"
            ],
            [
             0.3764705882352941,
             "rgb(150,27,91)"
            ],
            [
             0.4392156862745098,
             "rgb(177,22,88)"
            ],
            [
             0.5019607843137255,
             "rgb(203,26,79)"
            ],
            [
             0.5647058823529412,
             "rgb(223,47,67)"
            ],
            [
             0.6274509803921569,
             "rgb(236,76,61)"
            ],
            [
             0.6901960784313725,
             "rgb(242,107,73)"
            ],
            [
             0.7529411764705882,
             "rgb(244,135,95)"
            ],
            [
             0.8156862745098039,
             "rgb(245,162,122)"
            ],
            [
             0.8784313725490196,
             "rgb(246,188,153)"
            ],
            [
             0.9411764705882353,
             "rgb(247,212,187)"
            ],
            [
             1,
             "rgb(250,234,220)"
            ]
           ],
           "sequentialminus": [
            [
             0,
             "rgb(2,4,25)"
            ],
            [
             0.06274509803921569,
             "rgb(24,15,41)"
            ],
            [
             0.12549019607843137,
             "rgb(47,23,57)"
            ],
            [
             0.18823529411764706,
             "rgb(71,28,72)"
            ],
            [
             0.25098039215686274,
             "rgb(97,30,82)"
            ],
            [
             0.3137254901960784,
             "rgb(123,30,89)"
            ],
            [
             0.3764705882352941,
             "rgb(150,27,91)"
            ],
            [
             0.4392156862745098,
             "rgb(177,22,88)"
            ],
            [
             0.5019607843137255,
             "rgb(203,26,79)"
            ],
            [
             0.5647058823529412,
             "rgb(223,47,67)"
            ],
            [
             0.6274509803921569,
             "rgb(236,76,61)"
            ],
            [
             0.6901960784313725,
             "rgb(242,107,73)"
            ],
            [
             0.7529411764705882,
             "rgb(244,135,95)"
            ],
            [
             0.8156862745098039,
             "rgb(245,162,122)"
            ],
            [
             0.8784313725490196,
             "rgb(246,188,153)"
            ],
            [
             0.9411764705882353,
             "rgb(247,212,187)"
            ],
            [
             1,
             "rgb(250,234,220)"
            ]
           ]
          },
          "colorway": [
           "rgb(76,114,176)",
           "rgb(221,132,82)",
           "rgb(85,168,104)",
           "rgb(196,78,82)",
           "rgb(129,114,179)",
           "rgb(147,120,96)",
           "rgb(218,139,195)",
           "rgb(140,140,140)",
           "rgb(204,185,116)",
           "rgb(100,181,205)"
          ],
          "font": {
           "color": "rgb(36,36,36)"
          },
          "geo": {
           "bgcolor": "white",
           "lakecolor": "white",
           "landcolor": "rgb(234,234,242)",
           "showlakes": true,
           "showland": true,
           "subunitcolor": "white"
          },
          "hoverlabel": {
           "align": "left"
          },
          "hovermode": "closest",
          "paper_bgcolor": "white",
          "plot_bgcolor": "rgb(234,234,242)",
          "polar": {
           "angularaxis": {
            "gridcolor": "white",
            "linecolor": "white",
            "showgrid": true,
            "ticks": ""
           },
           "bgcolor": "rgb(234,234,242)",
           "radialaxis": {
            "gridcolor": "white",
            "linecolor": "white",
            "showgrid": true,
            "ticks": ""
           }
          },
          "scene": {
           "xaxis": {
            "backgroundcolor": "rgb(234,234,242)",
            "gridcolor": "white",
            "gridwidth": 2,
            "linecolor": "white",
            "showbackground": true,
            "showgrid": true,
            "ticks": "",
            "zerolinecolor": "white"
           },
           "yaxis": {
            "backgroundcolor": "rgb(234,234,242)",
            "gridcolor": "white",
            "gridwidth": 2,
            "linecolor": "white",
            "showbackground": true,
            "showgrid": true,
            "ticks": "",
            "zerolinecolor": "white"
           },
           "zaxis": {
            "backgroundcolor": "rgb(234,234,242)",
            "gridcolor": "white",
            "gridwidth": 2,
            "linecolor": "white",
            "showbackground": true,
            "showgrid": true,
            "ticks": "",
            "zerolinecolor": "white"
           }
          },
          "shapedefaults": {
           "fillcolor": "rgb(67,103,167)",
           "line": {
            "width": 0
           },
           "opacity": 0.5
          },
          "ternary": {
           "aaxis": {
            "gridcolor": "white",
            "linecolor": "white",
            "showgrid": true,
            "ticks": ""
           },
           "baxis": {
            "gridcolor": "white",
            "linecolor": "white",
            "showgrid": true,
            "ticks": ""
           },
           "bgcolor": "rgb(234,234,242)",
           "caxis": {
            "gridcolor": "white",
            "linecolor": "white",
            "showgrid": true,
            "ticks": ""
           }
          },
          "xaxis": {
           "automargin": true,
           "gridcolor": "white",
           "linecolor": "white",
           "showgrid": true,
           "ticks": "",
           "title": {
            "standoff": 15
           },
           "zerolinecolor": "white"
          },
          "yaxis": {
           "automargin": true,
           "gridcolor": "white",
           "linecolor": "white",
           "showgrid": true,
           "ticks": "",
           "title": {
            "standoff": 15
           },
           "zerolinecolor": "white"
          }
         }
        },
        "title": {
         "text": "Sorted by: total_flow, ascending: False, head: 20"
        },
        "xaxis": {
         "anchor": "y",
         "domain": [
          0,
          1
         ],
         "title": {
          "text": "Flow decomposition value"
         }
        },
        "yaxis": {
         "anchor": "x",
         "domain": [
          0,
          1
         ],
         "title": {
          "text": "xnec_id"
         }
        }
       }
      }
     },
     "metadata": {},
     "output_type": "display_data"
    }
   ],
   "source": [
    "flow_decomposition_bar_chart('total_flow')"
   ]
  },
  {
   "cell_type": "code",
   "execution_count": 12,
   "metadata": {},
   "outputs": [
    {
     "data": {
      "application/vnd.plotly.v1+json": {
       "config": {
        "plotlyServerURL": "https://plot.ly"
       },
       "data": [
        {
         "alignmentgroup": "True",
         "hovertemplate": "Decomposition part:=commercial_flow<br>Flow decomposition value=%{x}<br>xnec_id=%{y}<extra></extra>",
         "legendgroup": "commercial_flow",
         "marker": {
          "color": "#0DF9FF",
          "pattern": {
           "shape": ""
          }
         },
         "name": "commercial_flow",
         "offsetgroup": "commercial_flow",
         "orientation": "h",
         "showlegend": true,
         "textposition": "auto",
         "texttemplate": "%{x:.0f}",
         "type": "bar",
         "x": [
          null,
          null,
          null,
          null,
          null,
          null,
          null,
          null,
          null,
          null,
          null,
          null,
          null,
          null,
          null,
          null,
          null,
          null,
          null,
          null
         ],
         "xaxis": "x",
         "y": [
          "L1-5-1_InitialState",
          "L5-9-1_InitialState",
          "L58-59-1_InitialState",
          "L57-63-1_InitialState",
          "L57-58-1_InitialState",
          "L55-57-1_InitialState",
          "L54-55-1_InitialState",
          "L53-54-1_InitialState",
          "L52-55-1_InitialState",
          "L51-52-1_InitialState",
          "L49-51-1_InitialState",
          "L78-79-1_InitialState",
          "L48-107-1_InitialState",
          "L47-73-1_InitialState",
          "L47-113-1_InitialState",
          "L46-81-1_InitialState",
          "L45-74-1_InitialState",
          "L45-60-1_InitialState",
          "L44-54-1_InitialState",
          "L44-47-1_InitialState"
         ],
         "yaxis": "y"
        },
        {
         "alignmentgroup": "True",
         "hovertemplate": "Decomposition part:=pst_flow<br>Flow decomposition value=%{x}<br>xnec_id=%{y}<extra></extra>",
         "legendgroup": "pst_flow",
         "marker": {
          "color": "#AF0038",
          "pattern": {
           "shape": ""
          }
         },
         "name": "pst_flow",
         "offsetgroup": "pst_flow",
         "orientation": "h",
         "showlegend": true,
         "textposition": "auto",
         "texttemplate": "%{x:.0f}",
         "type": "bar",
         "x": [
          null,
          null,
          null,
          null,
          null,
          null,
          null,
          null,
          null,
          null,
          null,
          null,
          null,
          null,
          null,
          null,
          null,
          null,
          null,
          null
         ],
         "xaxis": "x",
         "y": [
          "L1-5-1_InitialState",
          "L5-9-1_InitialState",
          "L58-59-1_InitialState",
          "L57-63-1_InitialState",
          "L57-58-1_InitialState",
          "L55-57-1_InitialState",
          "L54-55-1_InitialState",
          "L53-54-1_InitialState",
          "L52-55-1_InitialState",
          "L51-52-1_InitialState",
          "L49-51-1_InitialState",
          "L78-79-1_InitialState",
          "L48-107-1_InitialState",
          "L47-73-1_InitialState",
          "L47-113-1_InitialState",
          "L46-81-1_InitialState",
          "L45-74-1_InitialState",
          "L45-60-1_InitialState",
          "L44-54-1_InitialState",
          "L44-47-1_InitialState"
         ],
         "yaxis": "y"
        },
        {
         "alignmentgroup": "True",
         "hovertemplate": "Decomposition part:=loop_flow_from_at<br>Flow decomposition value=%{x}<br>xnec_id=%{y}<extra></extra>",
         "legendgroup": "loop_flow_from_at",
         "marker": {
          "color": "#FD3216",
          "pattern": {
           "shape": ""
          }
         },
         "name": "loop_flow_from_at",
         "offsetgroup": "loop_flow_from_at",
         "orientation": "h",
         "showlegend": true,
         "textposition": "auto",
         "texttemplate": "%{x:.0f}",
         "type": "bar",
         "x": [
          240.24869484471571,
          110.36459093787306,
          21.33484713505398,
          -7.359136688684118,
          21.334847135054034,
          null,
          null,
          -15.01921318166881,
          -25.316698866436184,
          -25.31669886643617,
          -7.375186871656384,
          null,
          16.88725917372402,
          78.53023832201298,
          -18.255929483845613,
          558.5584232145833,
          255.44088286524732,
          89.02277391922061,
          -25.819706907368484,
          60.27430883816736
         ],
         "xaxis": "x",
         "y": [
          "L1-5-1_InitialState",
          "L5-9-1_InitialState",
          "L58-59-1_InitialState",
          "L57-63-1_InitialState",
          "L57-58-1_InitialState",
          "L55-57-1_InitialState",
          "L54-55-1_InitialState",
          "L53-54-1_InitialState",
          "L52-55-1_InitialState",
          "L51-52-1_InitialState",
          "L49-51-1_InitialState",
          "L78-79-1_InitialState",
          "L48-107-1_InitialState",
          "L47-73-1_InitialState",
          "L47-113-1_InitialState",
          "L46-81-1_InitialState",
          "L45-74-1_InitialState",
          "L45-60-1_InitialState",
          "L44-54-1_InitialState",
          "L44-47-1_InitialState"
         ],
         "yaxis": "y"
        },
        {
         "alignmentgroup": "True",
         "hovertemplate": "Decomposition part:=loop_flow_from_bg<br>Flow decomposition value=%{x}<br>xnec_id=%{y}<extra></extra>",
         "legendgroup": "loop_flow_from_bg",
         "marker": {
          "color": "#00A08B",
          "pattern": {
           "shape": ""
          }
         },
         "name": "loop_flow_from_bg",
         "offsetgroup": "loop_flow_from_bg",
         "orientation": "h",
         "showlegend": true,
         "textposition": "auto",
         "texttemplate": "%{x:.0f}",
         "type": "bar",
         "x": [
          162.00516946673804,
          null,
          28.177215547556916,
          25.129815440941286,
          28.177215547556894,
          24.024845306917914,
          null,
          25.05730332556343,
          31.31384410738412,
          31.31384410738409,
          12.050013456918254,
          30.57291117812975,
          null,
          -33.208692242541105,
          14.685134894225547,
          -313.9061909907882,
          null,
          62.51935662500895,
          null,
          39.47644265168431
         ],
         "xaxis": "x",
         "y": [
          "L1-5-1_InitialState",
          "L5-9-1_InitialState",
          "L58-59-1_InitialState",
          "L57-63-1_InitialState",
          "L57-58-1_InitialState",
          "L55-57-1_InitialState",
          "L54-55-1_InitialState",
          "L53-54-1_InitialState",
          "L52-55-1_InitialState",
          "L51-52-1_InitialState",
          "L49-51-1_InitialState",
          "L78-79-1_InitialState",
          "L48-107-1_InitialState",
          "L47-73-1_InitialState",
          "L47-113-1_InitialState",
          "L46-81-1_InitialState",
          "L45-74-1_InitialState",
          "L45-60-1_InitialState",
          "L44-54-1_InitialState",
          "L44-47-1_InitialState"
         ],
         "yaxis": "y"
        },
        {
         "alignmentgroup": "True",
         "hovertemplate": "Decomposition part:=loop_flow_from_cz<br>Flow decomposition value=%{x}<br>xnec_id=%{y}<extra></extra>",
         "legendgroup": "loop_flow_from_cz",
         "marker": {
          "color": "#6C4516",
          "pattern": {
           "shape": ""
          }
         },
         "name": "loop_flow_from_cz",
         "offsetgroup": "loop_flow_from_cz",
         "orientation": "h",
         "showlegend": true,
         "textposition": "auto",
         "texttemplate": "%{x:.0f}",
         "type": "bar",
         "x": [
          null,
          -24.650970940003315,
          -19.560890960117177,
          6.203486322480736,
          -19.560890960117135,
          -12.389464206256259,
          null,
          null,
          null,
          null,
          null,
          null,
          null,
          -29.149825176425875,
          null,
          -194.0502458402179,
          -99.33341345250444,
          -69.17650004809524,
          null,
          -25.01403184705099
         ],
         "xaxis": "x",
         "y": [
          "L1-5-1_InitialState",
          "L5-9-1_InitialState",
          "L58-59-1_InitialState",
          "L57-63-1_InitialState",
          "L57-58-1_InitialState",
          "L55-57-1_InitialState",
          "L54-55-1_InitialState",
          "L53-54-1_InitialState",
          "L52-55-1_InitialState",
          "L51-52-1_InitialState",
          "L49-51-1_InitialState",
          "L78-79-1_InitialState",
          "L48-107-1_InitialState",
          "L47-73-1_InitialState",
          "L47-113-1_InitialState",
          "L46-81-1_InitialState",
          "L45-74-1_InitialState",
          "L45-60-1_InitialState",
          "L44-54-1_InitialState",
          "L44-47-1_InitialState"
         ],
         "yaxis": "y"
        },
        {
         "alignmentgroup": "True",
         "hovertemplate": "Decomposition part:=loop_flow_from_dk<br>Flow decomposition value=%{x}<br>xnec_id=%{y}<extra></extra>",
         "legendgroup": "loop_flow_from_dk",
         "marker": {
          "color": "#511CFB",
          "pattern": {
           "shape": ""
          }
         },
         "name": "loop_flow_from_dk",
         "offsetgroup": "loop_flow_from_dk",
         "orientation": "h",
         "showlegend": true,
         "textposition": "auto",
         "texttemplate": "%{x:.0f}",
         "type": "bar",
         "x": [
          null,
          29.291286869430095,
          17.05703338176831,
          -4.6301570623410555,
          17.05703338176825,
          86.98151143176356,
          68.43074915465918,
          7.1007923652901495,
          16.1082578679332,
          16.108257867933176,
          null,
          -10.803993486818246,
          null,
          57.489340446536296,
          null,
          500.11640021594707,
          231.56932900832868,
          266.89572687593403,
          -61.329956789369135,
          49.45709202903658
         ],
         "xaxis": "x",
         "y": [
          "L1-5-1_InitialState",
          "L5-9-1_InitialState",
          "L58-59-1_InitialState",
          "L57-63-1_InitialState",
          "L57-58-1_InitialState",
          "L55-57-1_InitialState",
          "L54-55-1_InitialState",
          "L53-54-1_InitialState",
          "L52-55-1_InitialState",
          "L51-52-1_InitialState",
          "L49-51-1_InitialState",
          "L78-79-1_InitialState",
          "L48-107-1_InitialState",
          "L47-73-1_InitialState",
          "L47-113-1_InitialState",
          "L46-81-1_InitialState",
          "L45-74-1_InitialState",
          "L45-60-1_InitialState",
          "L44-54-1_InitialState",
          "L44-47-1_InitialState"
         ],
         "yaxis": "y"
        },
        {
         "alignmentgroup": "True",
         "hovertemplate": "Decomposition part:=loop_flow_from_fi<br>Flow decomposition value=%{x}<br>xnec_id=%{y}<extra></extra>",
         "legendgroup": "loop_flow_from_fi",
         "marker": {
          "color": "#F6F926",
          "pattern": {
           "shape": ""
          }
         },
         "name": "loop_flow_from_fi",
         "offsetgroup": "loop_flow_from_fi",
         "orientation": "h",
         "showlegend": true,
         "textposition": "auto",
         "texttemplate": "%{x:.0f}",
         "type": "bar",
         "x": [
          null,
          -64.96827945135335,
          -21.908732102919473,
          7.110377475777262,
          -21.908732102919355,
          null,
          17.08650796890432,
          17.42017685303259,
          -12.304277159593855,
          -12.30427715959387,
          -9.042193713336085,
          15.073283423728121,
          27.920332530654388,
          null,
          -13.985660930480991,
          null,
          null,
          null,
          null,
          null
         ],
         "xaxis": "x",
         "y": [
          "L1-5-1_InitialState",
          "L5-9-1_InitialState",
          "L58-59-1_InitialState",
          "L57-63-1_InitialState",
          "L57-58-1_InitialState",
          "L55-57-1_InitialState",
          "L54-55-1_InitialState",
          "L53-54-1_InitialState",
          "L52-55-1_InitialState",
          "L51-52-1_InitialState",
          "L49-51-1_InitialState",
          "L78-79-1_InitialState",
          "L48-107-1_InitialState",
          "L47-73-1_InitialState",
          "L47-113-1_InitialState",
          "L46-81-1_InitialState",
          "L45-74-1_InitialState",
          "L45-60-1_InitialState",
          "L44-54-1_InitialState",
          "L44-47-1_InitialState"
         ],
         "yaxis": "y"
        },
        {
         "alignmentgroup": "True",
         "hovertemplate": "Decomposition part:=loop_flow_from_fr<br>Flow decomposition value=%{x}<br>xnec_id=%{y}<extra></extra>",
         "legendgroup": "loop_flow_from_fr",
         "marker": {
          "color": "#C9FBE5",
          "pattern": {
           "shape": ""
          }
         },
         "name": "loop_flow_from_fr",
         "offsetgroup": "loop_flow_from_fr",
         "orientation": "h",
         "showlegend": true,
         "textposition": "auto",
         "texttemplate": "%{x:.0f}",
         "type": "bar",
         "x": [
          29.53215378320876,
          77.09040522407018,
          -13.037329551854992,
          null,
          -13.037329551855033,
          -22.968415791618003,
          -28.047153791531077,
          null,
          null,
          null,
          null,
          73.7690680307023,
          -26.46658895367269,
          -54.64359980518611,
          39.255766790394624,
          -228.32424476392967,
          -127.87516524721242,
          -116.14497972978609,
          29.53056282083617,
          null
         ],
         "xaxis": "x",
         "y": [
          "L1-5-1_InitialState",
          "L5-9-1_InitialState",
          "L58-59-1_InitialState",
          "L57-63-1_InitialState",
          "L57-58-1_InitialState",
          "L55-57-1_InitialState",
          "L54-55-1_InitialState",
          "L53-54-1_InitialState",
          "L52-55-1_InitialState",
          "L51-52-1_InitialState",
          "L49-51-1_InitialState",
          "L78-79-1_InitialState",
          "L48-107-1_InitialState",
          "L47-73-1_InitialState",
          "L47-113-1_InitialState",
          "L46-81-1_InitialState",
          "L45-74-1_InitialState",
          "L45-60-1_InitialState",
          "L44-54-1_InitialState",
          "L44-47-1_InitialState"
         ],
         "yaxis": "y"
        },
        {
         "alignmentgroup": "True",
         "hovertemplate": "Decomposition part:=loop_flow_from_gr<br>Flow decomposition value=%{x}<br>xnec_id=%{y}<extra></extra>",
         "legendgroup": "loop_flow_from_gr",
         "marker": {
          "color": "#FC0080",
          "pattern": {
           "shape": ""
          }
         },
         "name": "loop_flow_from_gr",
         "offsetgroup": "loop_flow_from_gr",
         "orientation": "h",
         "showlegend": true,
         "textposition": "auto",
         "texttemplate": "%{x:.0f}",
         "type": "bar",
         "x": [
          null,
          26.7028329069583,
          34.339915558121035,
          -20.04459162680141,
          34.3399155581212,
          16.11978055352915,
          -93.19707502130805,
          19.120392004829913,
          71.05212894344405,
          10.052128943444067,
          42.31103193778661,
          null,
          -58.508825967256804,
          -114.84793998121417,
          50.52009296412226,
          -728.1309012824966,
          -306.7791677238221,
          -72.13831959835426,
          112.31746702613813,
          -64.32784701709183
         ],
         "xaxis": "x",
         "y": [
          "L1-5-1_InitialState",
          "L5-9-1_InitialState",
          "L58-59-1_InitialState",
          "L57-63-1_InitialState",
          "L57-58-1_InitialState",
          "L55-57-1_InitialState",
          "L54-55-1_InitialState",
          "L53-54-1_InitialState",
          "L52-55-1_InitialState",
          "L51-52-1_InitialState",
          "L49-51-1_InitialState",
          "L78-79-1_InitialState",
          "L48-107-1_InitialState",
          "L47-73-1_InitialState",
          "L47-113-1_InitialState",
          "L46-81-1_InitialState",
          "L45-74-1_InitialState",
          "L45-60-1_InitialState",
          "L44-54-1_InitialState",
          "L44-47-1_InitialState"
         ],
         "yaxis": "y"
        },
        {
         "alignmentgroup": "True",
         "hovertemplate": "Decomposition part:=loop_flow_from_lt<br>Flow decomposition value=%{x}<br>xnec_id=%{y}<extra></extra>",
         "legendgroup": "loop_flow_from_lt",
         "marker": {
          "color": "#FB0D0D",
          "pattern": {
           "shape": ""
          }
         },
         "name": "loop_flow_from_lt",
         "offsetgroup": "loop_flow_from_lt",
         "orientation": "h",
         "showlegend": true,
         "textposition": "auto",
         "texttemplate": "%{x:.0f}",
         "type": "bar",
         "x": [
          null,
          null,
          -31.726147200097895,
          9.226677955139959,
          -31.72614720009781,
          -29.13807836763374,
          26.959918528632112,
          -10.079344812597341,
          -20.546424711836792,
          -20.54642471183693,
          -13.271497840979379,
          -21.38529078294035,
          60.08378523520049,
          56.2319059713618,
          -26.728886270197442,
          334.6614865331375,
          144.96325993990027,
          null,
          -37.03926334122975,
          29.5030197011643
         ],
         "xaxis": "x",
         "y": [
          "L1-5-1_InitialState",
          "L5-9-1_InitialState",
          "L58-59-1_InitialState",
          "L57-63-1_InitialState",
          "L57-58-1_InitialState",
          "L55-57-1_InitialState",
          "L54-55-1_InitialState",
          "L53-54-1_InitialState",
          "L52-55-1_InitialState",
          "L51-52-1_InitialState",
          "L49-51-1_InitialState",
          "L78-79-1_InitialState",
          "L48-107-1_InitialState",
          "L47-73-1_InitialState",
          "L47-113-1_InitialState",
          "L46-81-1_InitialState",
          "L45-74-1_InitialState",
          "L45-60-1_InitialState",
          "L44-54-1_InitialState",
          "L44-47-1_InitialState"
         ],
         "yaxis": "y"
        },
        {
         "alignmentgroup": "True",
         "hovertemplate": "Decomposition part:=loop_flow_from_lu<br>Flow decomposition value=%{x}<br>xnec_id=%{y}<extra></extra>",
         "legendgroup": "loop_flow_from_lu",
         "marker": {
          "color": "#D626FF",
          "pattern": {
           "shape": ""
          }
         },
         "name": "loop_flow_from_lu",
         "offsetgroup": "loop_flow_from_lu",
         "orientation": "h",
         "showlegend": true,
         "textposition": "auto",
         "texttemplate": "%{x:.0f}",
         "type": "bar",
         "x": [
          null,
          -34.36596499424635,
          45.70262426924579,
          5.1064305002272015,
          31.702624269245764,
          32.99527666143476,
          32.84727096896027,
          null,
          null,
          6.547088584890721,
          null,
          null,
          11.794818585954143,
          43.06110353033061,
          -10.37892488519376,
          303.8613319647649,
          146.34201199549113,
          167.6106742149812,
          -21.84400102755098,
          32.682178645136865
         ],
         "xaxis": "x",
         "y": [
          "L1-5-1_InitialState",
          "L5-9-1_InitialState",
          "L58-59-1_InitialState",
          "L57-63-1_InitialState",
          "L57-58-1_InitialState",
          "L55-57-1_InitialState",
          "L54-55-1_InitialState",
          "L53-54-1_InitialState",
          "L52-55-1_InitialState",
          "L51-52-1_InitialState",
          "L49-51-1_InitialState",
          "L78-79-1_InitialState",
          "L48-107-1_InitialState",
          "L47-73-1_InitialState",
          "L47-113-1_InitialState",
          "L46-81-1_InitialState",
          "L45-74-1_InitialState",
          "L45-60-1_InitialState",
          "L44-54-1_InitialState",
          "L44-47-1_InitialState"
         ],
         "yaxis": "y"
        },
        {
         "alignmentgroup": "True",
         "hovertemplate": "Decomposition part:=masked_flows_positive<br>Flow decomposition value=%{x}<br>xnec_id=%{y}<extra></extra>",
         "legendgroup": "masked_flows_positive",
         "marker": {
          "color": "#DA16FF",
          "pattern": {
           "shape": ""
          }
         },
         "name": "masked_flows_positive",
         "offsetgroup": "masked_flows_positive",
         "orientation": "h",
         "showlegend": true,
         "textposition": "auto",
         "texttemplate": "%{x:.0f}",
         "type": "bar",
         "x": [
          7.487372250004803,
          5.451784811988431,
          0,
          2.776553611896955,
          0,
          7.0888893415008365,
          24.488940125535784,
          6.392210452544235,
          12.601450258751608,
          6.054361673860904,
          7.182930033197994,
          0,
          14.145541057110837,
          10.83246896462548,
          4.1357933293748665,
          23.738086888937318,
          19.762746242090778,
          0,
          20.676970095461073,
          0
         ],
         "xaxis": "x",
         "y": [
          "L1-5-1_InitialState",
          "L5-9-1_InitialState",
          "L58-59-1_InitialState",
          "L57-63-1_InitialState",
          "L57-58-1_InitialState",
          "L55-57-1_InitialState",
          "L54-55-1_InitialState",
          "L53-54-1_InitialState",
          "L52-55-1_InitialState",
          "L51-52-1_InitialState",
          "L49-51-1_InitialState",
          "L78-79-1_InitialState",
          "L48-107-1_InitialState",
          "L47-73-1_InitialState",
          "L47-113-1_InitialState",
          "L46-81-1_InitialState",
          "L45-74-1_InitialState",
          "L45-60-1_InitialState",
          "L44-54-1_InitialState",
          "L44-47-1_InitialState"
         ],
         "yaxis": "y"
        },
        {
         "alignmentgroup": "True",
         "hovertemplate": "Decomposition part:=masked_flows_negative<br>Flow decomposition value=%{x}<br>xnec_id=%{y}<extra></extra>",
         "legendgroup": "masked_flows_negative",
         "marker": {
          "color": "#86CE00",
          "pattern": {
           "shape": ""
          }
         },
         "name": "masked_flows_negative",
         "offsetgroup": "masked_flows_negative",
         "orientation": "h",
         "showlegend": true,
         "textposition": "auto",
         "texttemplate": "%{x:.0f}",
         "type": "bar",
         "x": [
          -38.05170615429084,
          0,
          0,
          0,
          0,
          -12.118439384693092,
          -5.068912803775344,
          0,
          -2.075794627952702,
          -2.075794627952683,
          -0.2551249809856353,
          -5.101972275820955,
          -2.5027544135983018,
          0,
          -8.032248417499547,
          0,
          -54.37340110282038,
          -78.28102750027347,
          0,
          -18.54102498064679
         ],
         "xaxis": "x",
         "y": [
          "L1-5-1_InitialState",
          "L5-9-1_InitialState",
          "L58-59-1_InitialState",
          "L57-63-1_InitialState",
          "L57-58-1_InitialState",
          "L55-57-1_InitialState",
          "L54-55-1_InitialState",
          "L53-54-1_InitialState",
          "L52-55-1_InitialState",
          "L51-52-1_InitialState",
          "L49-51-1_InitialState",
          "L78-79-1_InitialState",
          "L48-107-1_InitialState",
          "L47-73-1_InitialState",
          "L47-113-1_InitialState",
          "L46-81-1_InitialState",
          "L45-74-1_InitialState",
          "L45-60-1_InitialState",
          "L44-54-1_InitialState",
          "L44-47-1_InitialState"
         ],
         "yaxis": "y"
        },
        {
         "mode": "lines+markers",
         "name": "total_flow",
         "type": "scatter",
         "x": [
          401.22168419037644,
          124.91568536471704,
          60.37853607675649,
          23.519455928636816,
          46.37853607675681,
          90.59590554494514,
          43.50024513007719,
          49.99231700699416,
          70.83248581169345,
          9.832485811693305,
          31.59997202094538,
          82.12400608698063,
          43.35356724811608,
          14.295000029499903,
          31.215137990899947,
          256.5241459399378,
          209.71708252469884,
          250.30770475863574,
          16.492071876917024,
          103.51013802039984
         ],
         "y": [
          "L1-5-1_InitialState",
          "L5-9-1_InitialState",
          "L58-59-1_InitialState",
          "L57-63-1_InitialState",
          "L57-58-1_InitialState",
          "L55-57-1_InitialState",
          "L54-55-1_InitialState",
          "L53-54-1_InitialState",
          "L52-55-1_InitialState",
          "L51-52-1_InitialState",
          "L49-51-1_InitialState",
          "L78-79-1_InitialState",
          "L48-107-1_InitialState",
          "L47-73-1_InitialState",
          "L47-113-1_InitialState",
          "L46-81-1_InitialState",
          "L45-74-1_InitialState",
          "L45-60-1_InitialState",
          "L44-54-1_InitialState",
          "L44-47-1_InitialState"
         ]
        },
        {
         "mode": "lines+markers",
         "name": "total_loop_flow",
         "type": "scatter",
         "x": [
          401.22168419037644,
          124.91568536471704,
          60.37853607675649,
          23.519455928636816,
          46.37853607675681,
          90.59590554494514,
          43.50024513007719,
          49.99231700699416,
          70.83248581169345,
          9.832485811693305,
          31.59997202094538,
          82.12400608698063,
          43.35356724811608,
          14.295000029499903,
          31.215137990899947,
          256.5241459399378,
          209.71708252469884,
          250.30770475863574,
          16.492071876917024,
          103.51013802039984
         ],
         "y": [
          "L1-5-1_InitialState",
          "L5-9-1_InitialState",
          "L58-59-1_InitialState",
          "L57-63-1_InitialState",
          "L57-58-1_InitialState",
          "L55-57-1_InitialState",
          "L54-55-1_InitialState",
          "L53-54-1_InitialState",
          "L52-55-1_InitialState",
          "L51-52-1_InitialState",
          "L49-51-1_InitialState",
          "L78-79-1_InitialState",
          "L48-107-1_InitialState",
          "L47-73-1_InitialState",
          "L47-113-1_InitialState",
          "L46-81-1_InitialState",
          "L45-74-1_InitialState",
          "L45-60-1_InitialState",
          "L44-54-1_InitialState",
          "L44-47-1_InitialState"
         ]
        }
       ],
       "layout": {
        "barmode": "relative",
        "height": 1000,
        "legend": {
         "title": {
          "text": "Decomposition part:"
         },
         "tracegroupgap": 0
        },
        "template": {
         "data": {
          "bar": [
           {
            "error_x": {
             "color": "rgb(36,36,36)"
            },
            "error_y": {
             "color": "rgb(36,36,36)"
            },
            "marker": {
             "line": {
              "color": "rgb(234,234,242)",
              "width": 0.5
             },
             "pattern": {
              "fillmode": "overlay",
              "size": 10,
              "solidity": 0.2
             }
            },
            "type": "bar"
           }
          ],
          "barpolar": [
           {
            "marker": {
             "line": {
              "color": "rgb(234,234,242)",
              "width": 0.5
             },
             "pattern": {
              "fillmode": "overlay",
              "size": 10,
              "solidity": 0.2
             }
            },
            "type": "barpolar"
           }
          ],
          "carpet": [
           {
            "aaxis": {
             "endlinecolor": "rgb(36,36,36)",
             "gridcolor": "white",
             "linecolor": "white",
             "minorgridcolor": "white",
             "startlinecolor": "rgb(36,36,36)"
            },
            "baxis": {
             "endlinecolor": "rgb(36,36,36)",
             "gridcolor": "white",
             "linecolor": "white",
             "minorgridcolor": "white",
             "startlinecolor": "rgb(36,36,36)"
            },
            "type": "carpet"
           }
          ],
          "choropleth": [
           {
            "colorbar": {
             "outlinewidth": 0,
             "tickcolor": "rgb(36,36,36)",
             "ticklen": 8,
             "ticks": "outside",
             "tickwidth": 2
            },
            "type": "choropleth"
           }
          ],
          "contour": [
           {
            "colorbar": {
             "outlinewidth": 0,
             "tickcolor": "rgb(36,36,36)",
             "ticklen": 8,
             "ticks": "outside",
             "tickwidth": 2
            },
            "colorscale": [
             [
              0,
              "rgb(2,4,25)"
             ],
             [
              0.06274509803921569,
              "rgb(24,15,41)"
             ],
             [
              0.12549019607843137,
              "rgb(47,23,57)"
             ],
             [
              0.18823529411764706,
              "rgb(71,28,72)"
             ],
             [
              0.25098039215686274,
              "rgb(97,30,82)"
             ],
             [
              0.3137254901960784,
              "rgb(123,30,89)"
             ],
             [
              0.3764705882352941,
              "rgb(150,27,91)"
             ],
             [
              0.4392156862745098,
              "rgb(177,22,88)"
             ],
             [
              0.5019607843137255,
              "rgb(203,26,79)"
             ],
             [
              0.5647058823529412,
              "rgb(223,47,67)"
             ],
             [
              0.6274509803921569,
              "rgb(236,76,61)"
             ],
             [
              0.6901960784313725,
              "rgb(242,107,73)"
             ],
             [
              0.7529411764705882,
              "rgb(244,135,95)"
             ],
             [
              0.8156862745098039,
              "rgb(245,162,122)"
             ],
             [
              0.8784313725490196,
              "rgb(246,188,153)"
             ],
             [
              0.9411764705882353,
              "rgb(247,212,187)"
             ],
             [
              1,
              "rgb(250,234,220)"
             ]
            ],
            "type": "contour"
           }
          ],
          "contourcarpet": [
           {
            "colorbar": {
             "outlinewidth": 0,
             "tickcolor": "rgb(36,36,36)",
             "ticklen": 8,
             "ticks": "outside",
             "tickwidth": 2
            },
            "type": "contourcarpet"
           }
          ],
          "heatmap": [
           {
            "colorbar": {
             "outlinewidth": 0,
             "tickcolor": "rgb(36,36,36)",
             "ticklen": 8,
             "ticks": "outside",
             "tickwidth": 2
            },
            "colorscale": [
             [
              0,
              "rgb(2,4,25)"
             ],
             [
              0.06274509803921569,
              "rgb(24,15,41)"
             ],
             [
              0.12549019607843137,
              "rgb(47,23,57)"
             ],
             [
              0.18823529411764706,
              "rgb(71,28,72)"
             ],
             [
              0.25098039215686274,
              "rgb(97,30,82)"
             ],
             [
              0.3137254901960784,
              "rgb(123,30,89)"
             ],
             [
              0.3764705882352941,
              "rgb(150,27,91)"
             ],
             [
              0.4392156862745098,
              "rgb(177,22,88)"
             ],
             [
              0.5019607843137255,
              "rgb(203,26,79)"
             ],
             [
              0.5647058823529412,
              "rgb(223,47,67)"
             ],
             [
              0.6274509803921569,
              "rgb(236,76,61)"
             ],
             [
              0.6901960784313725,
              "rgb(242,107,73)"
             ],
             [
              0.7529411764705882,
              "rgb(244,135,95)"
             ],
             [
              0.8156862745098039,
              "rgb(245,162,122)"
             ],
             [
              0.8784313725490196,
              "rgb(246,188,153)"
             ],
             [
              0.9411764705882353,
              "rgb(247,212,187)"
             ],
             [
              1,
              "rgb(250,234,220)"
             ]
            ],
            "type": "heatmap"
           }
          ],
          "heatmapgl": [
           {
            "colorbar": {
             "outlinewidth": 0,
             "tickcolor": "rgb(36,36,36)",
             "ticklen": 8,
             "ticks": "outside",
             "tickwidth": 2
            },
            "colorscale": [
             [
              0,
              "rgb(2,4,25)"
             ],
             [
              0.06274509803921569,
              "rgb(24,15,41)"
             ],
             [
              0.12549019607843137,
              "rgb(47,23,57)"
             ],
             [
              0.18823529411764706,
              "rgb(71,28,72)"
             ],
             [
              0.25098039215686274,
              "rgb(97,30,82)"
             ],
             [
              0.3137254901960784,
              "rgb(123,30,89)"
             ],
             [
              0.3764705882352941,
              "rgb(150,27,91)"
             ],
             [
              0.4392156862745098,
              "rgb(177,22,88)"
             ],
             [
              0.5019607843137255,
              "rgb(203,26,79)"
             ],
             [
              0.5647058823529412,
              "rgb(223,47,67)"
             ],
             [
              0.6274509803921569,
              "rgb(236,76,61)"
             ],
             [
              0.6901960784313725,
              "rgb(242,107,73)"
             ],
             [
              0.7529411764705882,
              "rgb(244,135,95)"
             ],
             [
              0.8156862745098039,
              "rgb(245,162,122)"
             ],
             [
              0.8784313725490196,
              "rgb(246,188,153)"
             ],
             [
              0.9411764705882353,
              "rgb(247,212,187)"
             ],
             [
              1,
              "rgb(250,234,220)"
             ]
            ],
            "type": "heatmapgl"
           }
          ],
          "histogram": [
           {
            "marker": {
             "pattern": {
              "fillmode": "overlay",
              "size": 10,
              "solidity": 0.2
             }
            },
            "type": "histogram"
           }
          ],
          "histogram2d": [
           {
            "colorbar": {
             "outlinewidth": 0,
             "tickcolor": "rgb(36,36,36)",
             "ticklen": 8,
             "ticks": "outside",
             "tickwidth": 2
            },
            "colorscale": [
             [
              0,
              "rgb(2,4,25)"
             ],
             [
              0.06274509803921569,
              "rgb(24,15,41)"
             ],
             [
              0.12549019607843137,
              "rgb(47,23,57)"
             ],
             [
              0.18823529411764706,
              "rgb(71,28,72)"
             ],
             [
              0.25098039215686274,
              "rgb(97,30,82)"
             ],
             [
              0.3137254901960784,
              "rgb(123,30,89)"
             ],
             [
              0.3764705882352941,
              "rgb(150,27,91)"
             ],
             [
              0.4392156862745098,
              "rgb(177,22,88)"
             ],
             [
              0.5019607843137255,
              "rgb(203,26,79)"
             ],
             [
              0.5647058823529412,
              "rgb(223,47,67)"
             ],
             [
              0.6274509803921569,
              "rgb(236,76,61)"
             ],
             [
              0.6901960784313725,
              "rgb(242,107,73)"
             ],
             [
              0.7529411764705882,
              "rgb(244,135,95)"
             ],
             [
              0.8156862745098039,
              "rgb(245,162,122)"
             ],
             [
              0.8784313725490196,
              "rgb(246,188,153)"
             ],
             [
              0.9411764705882353,
              "rgb(247,212,187)"
             ],
             [
              1,
              "rgb(250,234,220)"
             ]
            ],
            "type": "histogram2d"
           }
          ],
          "histogram2dcontour": [
           {
            "colorbar": {
             "outlinewidth": 0,
             "tickcolor": "rgb(36,36,36)",
             "ticklen": 8,
             "ticks": "outside",
             "tickwidth": 2
            },
            "colorscale": [
             [
              0,
              "rgb(2,4,25)"
             ],
             [
              0.06274509803921569,
              "rgb(24,15,41)"
             ],
             [
              0.12549019607843137,
              "rgb(47,23,57)"
             ],
             [
              0.18823529411764706,
              "rgb(71,28,72)"
             ],
             [
              0.25098039215686274,
              "rgb(97,30,82)"
             ],
             [
              0.3137254901960784,
              "rgb(123,30,89)"
             ],
             [
              0.3764705882352941,
              "rgb(150,27,91)"
             ],
             [
              0.4392156862745098,
              "rgb(177,22,88)"
             ],
             [
              0.5019607843137255,
              "rgb(203,26,79)"
             ],
             [
              0.5647058823529412,
              "rgb(223,47,67)"
             ],
             [
              0.6274509803921569,
              "rgb(236,76,61)"
             ],
             [
              0.6901960784313725,
              "rgb(242,107,73)"
             ],
             [
              0.7529411764705882,
              "rgb(244,135,95)"
             ],
             [
              0.8156862745098039,
              "rgb(245,162,122)"
             ],
             [
              0.8784313725490196,
              "rgb(246,188,153)"
             ],
             [
              0.9411764705882353,
              "rgb(247,212,187)"
             ],
             [
              1,
              "rgb(250,234,220)"
             ]
            ],
            "type": "histogram2dcontour"
           }
          ],
          "mesh3d": [
           {
            "colorbar": {
             "outlinewidth": 0,
             "tickcolor": "rgb(36,36,36)",
             "ticklen": 8,
             "ticks": "outside",
             "tickwidth": 2
            },
            "type": "mesh3d"
           }
          ],
          "parcoords": [
           {
            "line": {
             "colorbar": {
              "outlinewidth": 0,
              "tickcolor": "rgb(36,36,36)",
              "ticklen": 8,
              "ticks": "outside",
              "tickwidth": 2
             }
            },
            "type": "parcoords"
           }
          ],
          "pie": [
           {
            "automargin": true,
            "type": "pie"
           }
          ],
          "scatter": [
           {
            "fillpattern": {
             "fillmode": "overlay",
             "size": 10,
             "solidity": 0.2
            },
            "type": "scatter"
           }
          ],
          "scatter3d": [
           {
            "line": {
             "colorbar": {
              "outlinewidth": 0,
              "tickcolor": "rgb(36,36,36)",
              "ticklen": 8,
              "ticks": "outside",
              "tickwidth": 2
             }
            },
            "marker": {
             "colorbar": {
              "outlinewidth": 0,
              "tickcolor": "rgb(36,36,36)",
              "ticklen": 8,
              "ticks": "outside",
              "tickwidth": 2
             }
            },
            "type": "scatter3d"
           }
          ],
          "scattercarpet": [
           {
            "marker": {
             "colorbar": {
              "outlinewidth": 0,
              "tickcolor": "rgb(36,36,36)",
              "ticklen": 8,
              "ticks": "outside",
              "tickwidth": 2
             }
            },
            "type": "scattercarpet"
           }
          ],
          "scattergeo": [
           {
            "marker": {
             "colorbar": {
              "outlinewidth": 0,
              "tickcolor": "rgb(36,36,36)",
              "ticklen": 8,
              "ticks": "outside",
              "tickwidth": 2
             }
            },
            "type": "scattergeo"
           }
          ],
          "scattergl": [
           {
            "marker": {
             "colorbar": {
              "outlinewidth": 0,
              "tickcolor": "rgb(36,36,36)",
              "ticklen": 8,
              "ticks": "outside",
              "tickwidth": 2
             }
            },
            "type": "scattergl"
           }
          ],
          "scattermapbox": [
           {
            "marker": {
             "colorbar": {
              "outlinewidth": 0,
              "tickcolor": "rgb(36,36,36)",
              "ticklen": 8,
              "ticks": "outside",
              "tickwidth": 2
             }
            },
            "type": "scattermapbox"
           }
          ],
          "scatterpolar": [
           {
            "marker": {
             "colorbar": {
              "outlinewidth": 0,
              "tickcolor": "rgb(36,36,36)",
              "ticklen": 8,
              "ticks": "outside",
              "tickwidth": 2
             }
            },
            "type": "scatterpolar"
           }
          ],
          "scatterpolargl": [
           {
            "marker": {
             "colorbar": {
              "outlinewidth": 0,
              "tickcolor": "rgb(36,36,36)",
              "ticklen": 8,
              "ticks": "outside",
              "tickwidth": 2
             }
            },
            "type": "scatterpolargl"
           }
          ],
          "scatterternary": [
           {
            "marker": {
             "colorbar": {
              "outlinewidth": 0,
              "tickcolor": "rgb(36,36,36)",
              "ticklen": 8,
              "ticks": "outside",
              "tickwidth": 2
             }
            },
            "type": "scatterternary"
           }
          ],
          "surface": [
           {
            "colorbar": {
             "outlinewidth": 0,
             "tickcolor": "rgb(36,36,36)",
             "ticklen": 8,
             "ticks": "outside",
             "tickwidth": 2
            },
            "colorscale": [
             [
              0,
              "rgb(2,4,25)"
             ],
             [
              0.06274509803921569,
              "rgb(24,15,41)"
             ],
             [
              0.12549019607843137,
              "rgb(47,23,57)"
             ],
             [
              0.18823529411764706,
              "rgb(71,28,72)"
             ],
             [
              0.25098039215686274,
              "rgb(97,30,82)"
             ],
             [
              0.3137254901960784,
              "rgb(123,30,89)"
             ],
             [
              0.3764705882352941,
              "rgb(150,27,91)"
             ],
             [
              0.4392156862745098,
              "rgb(177,22,88)"
             ],
             [
              0.5019607843137255,
              "rgb(203,26,79)"
             ],
             [
              0.5647058823529412,
              "rgb(223,47,67)"
             ],
             [
              0.6274509803921569,
              "rgb(236,76,61)"
             ],
             [
              0.6901960784313725,
              "rgb(242,107,73)"
             ],
             [
              0.7529411764705882,
              "rgb(244,135,95)"
             ],
             [
              0.8156862745098039,
              "rgb(245,162,122)"
             ],
             [
              0.8784313725490196,
              "rgb(246,188,153)"
             ],
             [
              0.9411764705882353,
              "rgb(247,212,187)"
             ],
             [
              1,
              "rgb(250,234,220)"
             ]
            ],
            "type": "surface"
           }
          ],
          "table": [
           {
            "cells": {
             "fill": {
              "color": "rgb(231,231,240)"
             },
             "line": {
              "color": "white"
             }
            },
            "header": {
             "fill": {
              "color": "rgb(183,183,191)"
             },
             "line": {
              "color": "white"
             }
            },
            "type": "table"
           }
          ]
         },
         "layout": {
          "annotationdefaults": {
           "arrowcolor": "rgb(67,103,167)"
          },
          "autotypenumbers": "strict",
          "coloraxis": {
           "colorbar": {
            "outlinewidth": 0,
            "tickcolor": "rgb(36,36,36)",
            "ticklen": 8,
            "ticks": "outside",
            "tickwidth": 2
           }
          },
          "colorscale": {
           "sequential": [
            [
             0,
             "rgb(2,4,25)"
            ],
            [
             0.06274509803921569,
             "rgb(24,15,41)"
            ],
            [
             0.12549019607843137,
             "rgb(47,23,57)"
            ],
            [
             0.18823529411764706,
             "rgb(71,28,72)"
            ],
            [
             0.25098039215686274,
             "rgb(97,30,82)"
            ],
            [
             0.3137254901960784,
             "rgb(123,30,89)"
            ],
            [
             0.3764705882352941,
             "rgb(150,27,91)"
            ],
            [
             0.4392156862745098,
             "rgb(177,22,88)"
            ],
            [
             0.5019607843137255,
             "rgb(203,26,79)"
            ],
            [
             0.5647058823529412,
             "rgb(223,47,67)"
            ],
            [
             0.6274509803921569,
             "rgb(236,76,61)"
            ],
            [
             0.6901960784313725,
             "rgb(242,107,73)"
            ],
            [
             0.7529411764705882,
             "rgb(244,135,95)"
            ],
            [
             0.8156862745098039,
             "rgb(245,162,122)"
            ],
            [
             0.8784313725490196,
             "rgb(246,188,153)"
            ],
            [
             0.9411764705882353,
             "rgb(247,212,187)"
            ],
            [
             1,
             "rgb(250,234,220)"
            ]
           ],
           "sequentialminus": [
            [
             0,
             "rgb(2,4,25)"
            ],
            [
             0.06274509803921569,
             "rgb(24,15,41)"
            ],
            [
             0.12549019607843137,
             "rgb(47,23,57)"
            ],
            [
             0.18823529411764706,
             "rgb(71,28,72)"
            ],
            [
             0.25098039215686274,
             "rgb(97,30,82)"
            ],
            [
             0.3137254901960784,
             "rgb(123,30,89)"
            ],
            [
             0.3764705882352941,
             "rgb(150,27,91)"
            ],
            [
             0.4392156862745098,
             "rgb(177,22,88)"
            ],
            [
             0.5019607843137255,
             "rgb(203,26,79)"
            ],
            [
             0.5647058823529412,
             "rgb(223,47,67)"
            ],
            [
             0.6274509803921569,
             "rgb(236,76,61)"
            ],
            [
             0.6901960784313725,
             "rgb(242,107,73)"
            ],
            [
             0.7529411764705882,
             "rgb(244,135,95)"
            ],
            [
             0.8156862745098039,
             "rgb(245,162,122)"
            ],
            [
             0.8784313725490196,
             "rgb(246,188,153)"
            ],
            [
             0.9411764705882353,
             "rgb(247,212,187)"
            ],
            [
             1,
             "rgb(250,234,220)"
            ]
           ]
          },
          "colorway": [
           "rgb(76,114,176)",
           "rgb(221,132,82)",
           "rgb(85,168,104)",
           "rgb(196,78,82)",
           "rgb(129,114,179)",
           "rgb(147,120,96)",
           "rgb(218,139,195)",
           "rgb(140,140,140)",
           "rgb(204,185,116)",
           "rgb(100,181,205)"
          ],
          "font": {
           "color": "rgb(36,36,36)"
          },
          "geo": {
           "bgcolor": "white",
           "lakecolor": "white",
           "landcolor": "rgb(234,234,242)",
           "showlakes": true,
           "showland": true,
           "subunitcolor": "white"
          },
          "hoverlabel": {
           "align": "left"
          },
          "hovermode": "closest",
          "paper_bgcolor": "white",
          "plot_bgcolor": "rgb(234,234,242)",
          "polar": {
           "angularaxis": {
            "gridcolor": "white",
            "linecolor": "white",
            "showgrid": true,
            "ticks": ""
           },
           "bgcolor": "rgb(234,234,242)",
           "radialaxis": {
            "gridcolor": "white",
            "linecolor": "white",
            "showgrid": true,
            "ticks": ""
           }
          },
          "scene": {
           "xaxis": {
            "backgroundcolor": "rgb(234,234,242)",
            "gridcolor": "white",
            "gridwidth": 2,
            "linecolor": "white",
            "showbackground": true,
            "showgrid": true,
            "ticks": "",
            "zerolinecolor": "white"
           },
           "yaxis": {
            "backgroundcolor": "rgb(234,234,242)",
            "gridcolor": "white",
            "gridwidth": 2,
            "linecolor": "white",
            "showbackground": true,
            "showgrid": true,
            "ticks": "",
            "zerolinecolor": "white"
           },
           "zaxis": {
            "backgroundcolor": "rgb(234,234,242)",
            "gridcolor": "white",
            "gridwidth": 2,
            "linecolor": "white",
            "showbackground": true,
            "showgrid": true,
            "ticks": "",
            "zerolinecolor": "white"
           }
          },
          "shapedefaults": {
           "fillcolor": "rgb(67,103,167)",
           "line": {
            "width": 0
           },
           "opacity": 0.5
          },
          "ternary": {
           "aaxis": {
            "gridcolor": "white",
            "linecolor": "white",
            "showgrid": true,
            "ticks": ""
           },
           "baxis": {
            "gridcolor": "white",
            "linecolor": "white",
            "showgrid": true,
            "ticks": ""
           },
           "bgcolor": "rgb(234,234,242)",
           "caxis": {
            "gridcolor": "white",
            "linecolor": "white",
            "showgrid": true,
            "ticks": ""
           }
          },
          "xaxis": {
           "automargin": true,
           "gridcolor": "white",
           "linecolor": "white",
           "showgrid": true,
           "ticks": "",
           "title": {
            "standoff": 15
           },
           "zerolinecolor": "white"
          },
          "yaxis": {
           "automargin": true,
           "gridcolor": "white",
           "linecolor": "white",
           "showgrid": true,
           "ticks": "",
           "title": {
            "standoff": 15
           },
           "zerolinecolor": "white"
          }
         }
        },
        "title": {
         "text": "Sorted by: pst_flow, ascending: False, head: 20"
        },
        "xaxis": {
         "anchor": "y",
         "domain": [
          0,
          1
         ],
         "title": {
          "text": "Flow decomposition value"
         }
        },
        "yaxis": {
         "anchor": "x",
         "domain": [
          0,
          1
         ],
         "title": {
          "text": "xnec_id"
         }
        }
       }
      }
     },
     "metadata": {},
     "output_type": "display_data"
    }
   ],
   "source": [
    "flow_decomposition_bar_chart('pst_flow')"
   ]
  },
  {
   "cell_type": "code",
   "execution_count": 13,
   "metadata": {},
   "outputs": [
    {
     "data": {
      "application/vnd.plotly.v1+json": {
       "config": {
        "plotlyServerURL": "https://plot.ly"
       },
       "data": [
        {
         "alignmentgroup": "True",
         "hovertemplate": "Decomposition part:=commercial_flow<br>Flow decomposition value=%{x}<br>xnec_id=%{y}<extra></extra>",
         "legendgroup": "commercial_flow",
         "marker": {
          "color": "#0DF9FF",
          "pattern": {
           "shape": ""
          }
         },
         "name": "commercial_flow",
         "offsetgroup": "commercial_flow",
         "orientation": "h",
         "showlegend": true,
         "textposition": "auto",
         "texttemplate": "%{x:.0f}",
         "type": "bar",
         "x": [
          null,
          null,
          null,
          null,
          null,
          null,
          null,
          null,
          null,
          null,
          null,
          null,
          null,
          null,
          null,
          null,
          null,
          null,
          null,
          null
         ],
         "xaxis": "x",
         "y": [
          "L1-5-1_InitialState",
          "L57-63-1_InitialState",
          "L57-58-1_InitialState",
          "L55-57-1_InitialState",
          "L54-55-1_InitialState",
          "L53-54-1_InitialState",
          "L52-55-1_InitialState",
          "L51-52-1_InitialState",
          "L5-9-1_InitialState",
          "L49-51-1_InitialState",
          "L48-107-1_InitialState",
          "L47-73-1_InitialState",
          "L47-113-1_InitialState",
          "L46-81-1_InitialState",
          "L45-74-1_InitialState",
          "L45-60-1_InitialState",
          "L44-54-1_InitialState",
          "L44-47-1_InitialState",
          "L58-59-1_InitialState",
          "L43-53-1_InitialState"
         ],
         "yaxis": "y"
        },
        {
         "alignmentgroup": "True",
         "hovertemplate": "Decomposition part:=pst_flow<br>Flow decomposition value=%{x}<br>xnec_id=%{y}<extra></extra>",
         "legendgroup": "pst_flow",
         "marker": {
          "color": "#AF0038",
          "pattern": {
           "shape": ""
          }
         },
         "name": "pst_flow",
         "offsetgroup": "pst_flow",
         "orientation": "h",
         "showlegend": true,
         "textposition": "auto",
         "texttemplate": "%{x:.0f}",
         "type": "bar",
         "x": [
          null,
          null,
          null,
          null,
          null,
          null,
          null,
          null,
          null,
          null,
          null,
          null,
          null,
          null,
          null,
          null,
          null,
          null,
          null,
          null
         ],
         "xaxis": "x",
         "y": [
          "L1-5-1_InitialState",
          "L57-63-1_InitialState",
          "L57-58-1_InitialState",
          "L55-57-1_InitialState",
          "L54-55-1_InitialState",
          "L53-54-1_InitialState",
          "L52-55-1_InitialState",
          "L51-52-1_InitialState",
          "L5-9-1_InitialState",
          "L49-51-1_InitialState",
          "L48-107-1_InitialState",
          "L47-73-1_InitialState",
          "L47-113-1_InitialState",
          "L46-81-1_InitialState",
          "L45-74-1_InitialState",
          "L45-60-1_InitialState",
          "L44-54-1_InitialState",
          "L44-47-1_InitialState",
          "L58-59-1_InitialState",
          "L43-53-1_InitialState"
         ],
         "yaxis": "y"
        },
        {
         "alignmentgroup": "True",
         "hovertemplate": "Decomposition part:=loop_flow_from_at<br>Flow decomposition value=%{x}<br>xnec_id=%{y}<extra></extra>",
         "legendgroup": "loop_flow_from_at",
         "marker": {
          "color": "#FD3216",
          "pattern": {
           "shape": ""
          }
         },
         "name": "loop_flow_from_at",
         "offsetgroup": "loop_flow_from_at",
         "orientation": "h",
         "showlegend": true,
         "textposition": "auto",
         "texttemplate": "%{x:.0f}",
         "type": "bar",
         "x": [
          240.24869484471571,
          -7.359136688684118,
          21.334847135054034,
          null,
          null,
          -15.01921318166881,
          -25.316698866436184,
          -25.31669886643617,
          110.36459093787306,
          -7.375186871656384,
          16.88725917372402,
          78.53023832201298,
          -18.255929483845613,
          558.5584232145833,
          255.44088286524732,
          89.02277391922061,
          -25.819706907368484,
          60.27430883816736,
          21.33484713505398,
          15.019213181668915
         ],
         "xaxis": "x",
         "y": [
          "L1-5-1_InitialState",
          "L57-63-1_InitialState",
          "L57-58-1_InitialState",
          "L55-57-1_InitialState",
          "L54-55-1_InitialState",
          "L53-54-1_InitialState",
          "L52-55-1_InitialState",
          "L51-52-1_InitialState",
          "L5-9-1_InitialState",
          "L49-51-1_InitialState",
          "L48-107-1_InitialState",
          "L47-73-1_InitialState",
          "L47-113-1_InitialState",
          "L46-81-1_InitialState",
          "L45-74-1_InitialState",
          "L45-60-1_InitialState",
          "L44-54-1_InitialState",
          "L44-47-1_InitialState",
          "L58-59-1_InitialState",
          "L43-53-1_InitialState"
         ],
         "yaxis": "y"
        },
        {
         "alignmentgroup": "True",
         "hovertemplate": "Decomposition part:=loop_flow_from_bg<br>Flow decomposition value=%{x}<br>xnec_id=%{y}<extra></extra>",
         "legendgroup": "loop_flow_from_bg",
         "marker": {
          "color": "#00A08B",
          "pattern": {
           "shape": ""
          }
         },
         "name": "loop_flow_from_bg",
         "offsetgroup": "loop_flow_from_bg",
         "orientation": "h",
         "showlegend": true,
         "textposition": "auto",
         "texttemplate": "%{x:.0f}",
         "type": "bar",
         "x": [
          162.00516946673804,
          25.129815440941286,
          28.177215547556894,
          24.024845306917914,
          null,
          25.05730332556343,
          31.31384410738412,
          31.31384410738409,
          null,
          12.050013456918254,
          null,
          -33.208692242541105,
          14.685134894225547,
          -313.9061909907882,
          null,
          62.51935662500895,
          null,
          39.47644265168431,
          28.177215547556916,
          -25.05730332556354
         ],
         "xaxis": "x",
         "y": [
          "L1-5-1_InitialState",
          "L57-63-1_InitialState",
          "L57-58-1_InitialState",
          "L55-57-1_InitialState",
          "L54-55-1_InitialState",
          "L53-54-1_InitialState",
          "L52-55-1_InitialState",
          "L51-52-1_InitialState",
          "L5-9-1_InitialState",
          "L49-51-1_InitialState",
          "L48-107-1_InitialState",
          "L47-73-1_InitialState",
          "L47-113-1_InitialState",
          "L46-81-1_InitialState",
          "L45-74-1_InitialState",
          "L45-60-1_InitialState",
          "L44-54-1_InitialState",
          "L44-47-1_InitialState",
          "L58-59-1_InitialState",
          "L43-53-1_InitialState"
         ],
         "yaxis": "y"
        },
        {
         "alignmentgroup": "True",
         "hovertemplate": "Decomposition part:=loop_flow_from_cz<br>Flow decomposition value=%{x}<br>xnec_id=%{y}<extra></extra>",
         "legendgroup": "loop_flow_from_cz",
         "marker": {
          "color": "#6C4516",
          "pattern": {
           "shape": ""
          }
         },
         "name": "loop_flow_from_cz",
         "offsetgroup": "loop_flow_from_cz",
         "orientation": "h",
         "showlegend": true,
         "textposition": "auto",
         "texttemplate": "%{x:.0f}",
         "type": "bar",
         "x": [
          null,
          6.203486322480736,
          -19.560890960117135,
          -12.389464206256259,
          null,
          null,
          null,
          null,
          -24.650970940003315,
          null,
          null,
          -29.149825176425875,
          null,
          -194.0502458402179,
          -99.33341345250444,
          -69.17650004809524,
          null,
          -25.01403184705099,
          -19.560890960117177,
          null
         ],
         "xaxis": "x",
         "y": [
          "L1-5-1_InitialState",
          "L57-63-1_InitialState",
          "L57-58-1_InitialState",
          "L55-57-1_InitialState",
          "L54-55-1_InitialState",
          "L53-54-1_InitialState",
          "L52-55-1_InitialState",
          "L51-52-1_InitialState",
          "L5-9-1_InitialState",
          "L49-51-1_InitialState",
          "L48-107-1_InitialState",
          "L47-73-1_InitialState",
          "L47-113-1_InitialState",
          "L46-81-1_InitialState",
          "L45-74-1_InitialState",
          "L45-60-1_InitialState",
          "L44-54-1_InitialState",
          "L44-47-1_InitialState",
          "L58-59-1_InitialState",
          "L43-53-1_InitialState"
         ],
         "yaxis": "y"
        },
        {
         "alignmentgroup": "True",
         "hovertemplate": "Decomposition part:=loop_flow_from_dk<br>Flow decomposition value=%{x}<br>xnec_id=%{y}<extra></extra>",
         "legendgroup": "loop_flow_from_dk",
         "marker": {
          "color": "#511CFB",
          "pattern": {
           "shape": ""
          }
         },
         "name": "loop_flow_from_dk",
         "offsetgroup": "loop_flow_from_dk",
         "orientation": "h",
         "showlegend": true,
         "textposition": "auto",
         "texttemplate": "%{x:.0f}",
         "type": "bar",
         "x": [
          null,
          -4.6301570623410555,
          17.05703338176825,
          86.98151143176356,
          68.43074915465918,
          7.1007923652901495,
          16.1082578679332,
          16.108257867933176,
          29.291286869430095,
          null,
          null,
          57.489340446536296,
          null,
          500.11640021594707,
          231.56932900832868,
          266.89572687593403,
          -61.329956789369135,
          49.45709202903658,
          17.05703338176831,
          -7.100792365290291
         ],
         "xaxis": "x",
         "y": [
          "L1-5-1_InitialState",
          "L57-63-1_InitialState",
          "L57-58-1_InitialState",
          "L55-57-1_InitialState",
          "L54-55-1_InitialState",
          "L53-54-1_InitialState",
          "L52-55-1_InitialState",
          "L51-52-1_InitialState",
          "L5-9-1_InitialState",
          "L49-51-1_InitialState",
          "L48-107-1_InitialState",
          "L47-73-1_InitialState",
          "L47-113-1_InitialState",
          "L46-81-1_InitialState",
          "L45-74-1_InitialState",
          "L45-60-1_InitialState",
          "L44-54-1_InitialState",
          "L44-47-1_InitialState",
          "L58-59-1_InitialState",
          "L43-53-1_InitialState"
         ],
         "yaxis": "y"
        },
        {
         "alignmentgroup": "True",
         "hovertemplate": "Decomposition part:=loop_flow_from_fi<br>Flow decomposition value=%{x}<br>xnec_id=%{y}<extra></extra>",
         "legendgroup": "loop_flow_from_fi",
         "marker": {
          "color": "#F6F926",
          "pattern": {
           "shape": ""
          }
         },
         "name": "loop_flow_from_fi",
         "offsetgroup": "loop_flow_from_fi",
         "orientation": "h",
         "showlegend": true,
         "textposition": "auto",
         "texttemplate": "%{x:.0f}",
         "type": "bar",
         "x": [
          null,
          7.110377475777262,
          -21.908732102919355,
          null,
          17.08650796890432,
          17.42017685303259,
          -12.304277159593855,
          -12.30427715959387,
          -64.96827945135335,
          -9.042193713336085,
          27.920332530654388,
          null,
          -13.985660930480991,
          null,
          null,
          null,
          null,
          null,
          -21.908732102919473,
          51.579823146967406
         ],
         "xaxis": "x",
         "y": [
          "L1-5-1_InitialState",
          "L57-63-1_InitialState",
          "L57-58-1_InitialState",
          "L55-57-1_InitialState",
          "L54-55-1_InitialState",
          "L53-54-1_InitialState",
          "L52-55-1_InitialState",
          "L51-52-1_InitialState",
          "L5-9-1_InitialState",
          "L49-51-1_InitialState",
          "L48-107-1_InitialState",
          "L47-73-1_InitialState",
          "L47-113-1_InitialState",
          "L46-81-1_InitialState",
          "L45-74-1_InitialState",
          "L45-60-1_InitialState",
          "L44-54-1_InitialState",
          "L44-47-1_InitialState",
          "L58-59-1_InitialState",
          "L43-53-1_InitialState"
         ],
         "yaxis": "y"
        },
        {
         "alignmentgroup": "True",
         "hovertemplate": "Decomposition part:=loop_flow_from_fr<br>Flow decomposition value=%{x}<br>xnec_id=%{y}<extra></extra>",
         "legendgroup": "loop_flow_from_fr",
         "marker": {
          "color": "#C9FBE5",
          "pattern": {
           "shape": ""
          }
         },
         "name": "loop_flow_from_fr",
         "offsetgroup": "loop_flow_from_fr",
         "orientation": "h",
         "showlegend": true,
         "textposition": "auto",
         "texttemplate": "%{x:.0f}",
         "type": "bar",
         "x": [
          29.53215378320876,
          null,
          -13.037329551855033,
          -22.968415791618003,
          -28.047153791531077,
          null,
          null,
          null,
          77.09040522407018,
          null,
          -26.46658895367269,
          -54.64359980518611,
          39.255766790394624,
          -228.32424476392967,
          -127.87516524721242,
          -116.14497972978609,
          29.53056282083617,
          null,
          -13.037329551854992,
          null
         ],
         "xaxis": "x",
         "y": [
          "L1-5-1_InitialState",
          "L57-63-1_InitialState",
          "L57-58-1_InitialState",
          "L55-57-1_InitialState",
          "L54-55-1_InitialState",
          "L53-54-1_InitialState",
          "L52-55-1_InitialState",
          "L51-52-1_InitialState",
          "L5-9-1_InitialState",
          "L49-51-1_InitialState",
          "L48-107-1_InitialState",
          "L47-73-1_InitialState",
          "L47-113-1_InitialState",
          "L46-81-1_InitialState",
          "L45-74-1_InitialState",
          "L45-60-1_InitialState",
          "L44-54-1_InitialState",
          "L44-47-1_InitialState",
          "L58-59-1_InitialState",
          "L43-53-1_InitialState"
         ],
         "yaxis": "y"
        },
        {
         "alignmentgroup": "True",
         "hovertemplate": "Decomposition part:=loop_flow_from_gr<br>Flow decomposition value=%{x}<br>xnec_id=%{y}<extra></extra>",
         "legendgroup": "loop_flow_from_gr",
         "marker": {
          "color": "#FC0080",
          "pattern": {
           "shape": ""
          }
         },
         "name": "loop_flow_from_gr",
         "offsetgroup": "loop_flow_from_gr",
         "orientation": "h",
         "showlegend": true,
         "textposition": "auto",
         "texttemplate": "%{x:.0f}",
         "type": "bar",
         "x": [
          null,
          -20.04459162680141,
          34.3399155581212,
          16.11978055352915,
          -93.19707502130805,
          19.120392004829913,
          71.05212894344405,
          10.052128943444067,
          26.7028329069583,
          42.31103193778661,
          -58.508825967256804,
          -114.84793998121417,
          50.52009296412226,
          -728.1309012824966,
          -306.7791677238221,
          -72.13831959835426,
          112.31746702613813,
          -64.32784701709183,
          34.339915558121035,
          -19.120392004829796
         ],
         "xaxis": "x",
         "y": [
          "L1-5-1_InitialState",
          "L57-63-1_InitialState",
          "L57-58-1_InitialState",
          "L55-57-1_InitialState",
          "L54-55-1_InitialState",
          "L53-54-1_InitialState",
          "L52-55-1_InitialState",
          "L51-52-1_InitialState",
          "L5-9-1_InitialState",
          "L49-51-1_InitialState",
          "L48-107-1_InitialState",
          "L47-73-1_InitialState",
          "L47-113-1_InitialState",
          "L46-81-1_InitialState",
          "L45-74-1_InitialState",
          "L45-60-1_InitialState",
          "L44-54-1_InitialState",
          "L44-47-1_InitialState",
          "L58-59-1_InitialState",
          "L43-53-1_InitialState"
         ],
         "yaxis": "y"
        },
        {
         "alignmentgroup": "True",
         "hovertemplate": "Decomposition part:=loop_flow_from_lt<br>Flow decomposition value=%{x}<br>xnec_id=%{y}<extra></extra>",
         "legendgroup": "loop_flow_from_lt",
         "marker": {
          "color": "#FB0D0D",
          "pattern": {
           "shape": ""
          }
         },
         "name": "loop_flow_from_lt",
         "offsetgroup": "loop_flow_from_lt",
         "orientation": "h",
         "showlegend": true,
         "textposition": "auto",
         "texttemplate": "%{x:.0f}",
         "type": "bar",
         "x": [
          null,
          9.226677955139959,
          -31.72614720009781,
          -29.13807836763374,
          26.959918528632112,
          -10.079344812597341,
          -20.546424711836792,
          -20.54642471183693,
          null,
          -13.271497840979379,
          60.08378523520049,
          56.2319059713618,
          -26.728886270197442,
          334.6614865331375,
          144.96325993990027,
          null,
          -37.03926334122975,
          29.5030197011643,
          -31.726147200097895,
          10.079344812597578
         ],
         "xaxis": "x",
         "y": [
          "L1-5-1_InitialState",
          "L57-63-1_InitialState",
          "L57-58-1_InitialState",
          "L55-57-1_InitialState",
          "L54-55-1_InitialState",
          "L53-54-1_InitialState",
          "L52-55-1_InitialState",
          "L51-52-1_InitialState",
          "L5-9-1_InitialState",
          "L49-51-1_InitialState",
          "L48-107-1_InitialState",
          "L47-73-1_InitialState",
          "L47-113-1_InitialState",
          "L46-81-1_InitialState",
          "L45-74-1_InitialState",
          "L45-60-1_InitialState",
          "L44-54-1_InitialState",
          "L44-47-1_InitialState",
          "L58-59-1_InitialState",
          "L43-53-1_InitialState"
         ],
         "yaxis": "y"
        },
        {
         "alignmentgroup": "True",
         "hovertemplate": "Decomposition part:=loop_flow_from_lu<br>Flow decomposition value=%{x}<br>xnec_id=%{y}<extra></extra>",
         "legendgroup": "loop_flow_from_lu",
         "marker": {
          "color": "#D626FF",
          "pattern": {
           "shape": ""
          }
         },
         "name": "loop_flow_from_lu",
         "offsetgroup": "loop_flow_from_lu",
         "orientation": "h",
         "showlegend": true,
         "textposition": "auto",
         "texttemplate": "%{x:.0f}",
         "type": "bar",
         "x": [
          null,
          5.1064305002272015,
          31.702624269245764,
          32.99527666143476,
          32.84727096896027,
          null,
          null,
          6.547088584890721,
          -34.36596499424635,
          null,
          11.794818585954143,
          43.06110353033061,
          -10.37892488519376,
          303.8613319647649,
          146.34201199549113,
          167.6106742149812,
          -21.84400102755098,
          32.682178645136865,
          45.70262426924579,
          null
         ],
         "xaxis": "x",
         "y": [
          "L1-5-1_InitialState",
          "L57-63-1_InitialState",
          "L57-58-1_InitialState",
          "L55-57-1_InitialState",
          "L54-55-1_InitialState",
          "L53-54-1_InitialState",
          "L52-55-1_InitialState",
          "L51-52-1_InitialState",
          "L5-9-1_InitialState",
          "L49-51-1_InitialState",
          "L48-107-1_InitialState",
          "L47-73-1_InitialState",
          "L47-113-1_InitialState",
          "L46-81-1_InitialState",
          "L45-74-1_InitialState",
          "L45-60-1_InitialState",
          "L44-54-1_InitialState",
          "L44-47-1_InitialState",
          "L58-59-1_InitialState",
          "L43-53-1_InitialState"
         ],
         "yaxis": "y"
        },
        {
         "alignmentgroup": "True",
         "hovertemplate": "Decomposition part:=masked_flows_positive<br>Flow decomposition value=%{x}<br>xnec_id=%{y}<extra></extra>",
         "legendgroup": "masked_flows_positive",
         "marker": {
          "color": "#DA16FF",
          "pattern": {
           "shape": ""
          }
         },
         "name": "masked_flows_positive",
         "offsetgroup": "masked_flows_positive",
         "orientation": "h",
         "showlegend": true,
         "textposition": "auto",
         "texttemplate": "%{x:.0f}",
         "type": "bar",
         "x": [
          7.487372250004803,
          2.776553611896955,
          0,
          7.0888893415008365,
          24.488940125535784,
          6.392210452544235,
          12.601450258751608,
          6.054361673860904,
          5.451784811988431,
          7.182930033197994,
          14.145541057110837,
          10.83246896462548,
          4.1357933293748665,
          23.738086888937318,
          19.762746242090778,
          0,
          20.676970095461073,
          0,
          0,
          0
         ],
         "xaxis": "x",
         "y": [
          "L1-5-1_InitialState",
          "L57-63-1_InitialState",
          "L57-58-1_InitialState",
          "L55-57-1_InitialState",
          "L54-55-1_InitialState",
          "L53-54-1_InitialState",
          "L52-55-1_InitialState",
          "L51-52-1_InitialState",
          "L5-9-1_InitialState",
          "L49-51-1_InitialState",
          "L48-107-1_InitialState",
          "L47-73-1_InitialState",
          "L47-113-1_InitialState",
          "L46-81-1_InitialState",
          "L45-74-1_InitialState",
          "L45-60-1_InitialState",
          "L44-54-1_InitialState",
          "L44-47-1_InitialState",
          "L58-59-1_InitialState",
          "L43-53-1_InitialState"
         ],
         "yaxis": "y"
        },
        {
         "alignmentgroup": "True",
         "hovertemplate": "Decomposition part:=masked_flows_negative<br>Flow decomposition value=%{x}<br>xnec_id=%{y}<extra></extra>",
         "legendgroup": "masked_flows_negative",
         "marker": {
          "color": "#86CE00",
          "pattern": {
           "shape": ""
          }
         },
         "name": "masked_flows_negative",
         "offsetgroup": "masked_flows_negative",
         "orientation": "h",
         "showlegend": true,
         "textposition": "auto",
         "texttemplate": "%{x:.0f}",
         "type": "bar",
         "x": [
          -38.05170615429084,
          0,
          0,
          -12.118439384693092,
          -5.068912803775344,
          0,
          -2.075794627952702,
          -2.075794627952683,
          0,
          -0.2551249809856353,
          -2.5027544135983018,
          0,
          -8.032248417499547,
          0,
          -54.37340110282038,
          -78.28102750027347,
          0,
          -18.54102498064679,
          0,
          -6.392210452544219
         ],
         "xaxis": "x",
         "y": [
          "L1-5-1_InitialState",
          "L57-63-1_InitialState",
          "L57-58-1_InitialState",
          "L55-57-1_InitialState",
          "L54-55-1_InitialState",
          "L53-54-1_InitialState",
          "L52-55-1_InitialState",
          "L51-52-1_InitialState",
          "L5-9-1_InitialState",
          "L49-51-1_InitialState",
          "L48-107-1_InitialState",
          "L47-73-1_InitialState",
          "L47-113-1_InitialState",
          "L46-81-1_InitialState",
          "L45-74-1_InitialState",
          "L45-60-1_InitialState",
          "L44-54-1_InitialState",
          "L44-47-1_InitialState",
          "L58-59-1_InitialState",
          "L43-53-1_InitialState"
         ],
         "yaxis": "y"
        },
        {
         "mode": "lines+markers",
         "name": "total_flow",
         "type": "scatter",
         "x": [
          401.22168419037644,
          23.519455928636816,
          46.37853607675681,
          90.59590554494514,
          43.50024513007719,
          49.99231700699416,
          70.83248581169345,
          9.832485811693305,
          124.91568536471704,
          31.59997202094538,
          43.35356724811608,
          14.295000029499903,
          31.215137990899947,
          256.5241459399378,
          209.71708252469884,
          250.30770475863574,
          16.492071876917024,
          103.51013802039984,
          60.37853607675649,
          19.00768299300605
         ],
         "y": [
          "L1-5-1_InitialState",
          "L57-63-1_InitialState",
          "L57-58-1_InitialState",
          "L55-57-1_InitialState",
          "L54-55-1_InitialState",
          "L53-54-1_InitialState",
          "L52-55-1_InitialState",
          "L51-52-1_InitialState",
          "L5-9-1_InitialState",
          "L49-51-1_InitialState",
          "L48-107-1_InitialState",
          "L47-73-1_InitialState",
          "L47-113-1_InitialState",
          "L46-81-1_InitialState",
          "L45-74-1_InitialState",
          "L45-60-1_InitialState",
          "L44-54-1_InitialState",
          "L44-47-1_InitialState",
          "L58-59-1_InitialState",
          "L43-53-1_InitialState"
         ]
        },
        {
         "mode": "lines+markers",
         "name": "total_loop_flow",
         "type": "scatter",
         "x": [
          401.22168419037644,
          23.519455928636816,
          46.37853607675681,
          90.59590554494514,
          43.50024513007719,
          49.99231700699416,
          70.83248581169345,
          9.832485811693305,
          124.91568536471704,
          31.59997202094538,
          43.35356724811608,
          14.295000029499903,
          31.215137990899947,
          256.5241459399378,
          209.71708252469884,
          250.30770475863574,
          16.492071876917024,
          103.51013802039984,
          60.37853607675649,
          19.00768299300605
         ],
         "y": [
          "L1-5-1_InitialState",
          "L57-63-1_InitialState",
          "L57-58-1_InitialState",
          "L55-57-1_InitialState",
          "L54-55-1_InitialState",
          "L53-54-1_InitialState",
          "L52-55-1_InitialState",
          "L51-52-1_InitialState",
          "L5-9-1_InitialState",
          "L49-51-1_InitialState",
          "L48-107-1_InitialState",
          "L47-73-1_InitialState",
          "L47-113-1_InitialState",
          "L46-81-1_InitialState",
          "L45-74-1_InitialState",
          "L45-60-1_InitialState",
          "L44-54-1_InitialState",
          "L44-47-1_InitialState",
          "L58-59-1_InitialState",
          "L43-53-1_InitialState"
         ]
        }
       ],
       "layout": {
        "barmode": "relative",
        "height": 1000,
        "legend": {
         "title": {
          "text": "Decomposition part:"
         },
         "tracegroupgap": 0
        },
        "template": {
         "data": {
          "bar": [
           {
            "error_x": {
             "color": "rgb(36,36,36)"
            },
            "error_y": {
             "color": "rgb(36,36,36)"
            },
            "marker": {
             "line": {
              "color": "rgb(234,234,242)",
              "width": 0.5
             },
             "pattern": {
              "fillmode": "overlay",
              "size": 10,
              "solidity": 0.2
             }
            },
            "type": "bar"
           }
          ],
          "barpolar": [
           {
            "marker": {
             "line": {
              "color": "rgb(234,234,242)",
              "width": 0.5
             },
             "pattern": {
              "fillmode": "overlay",
              "size": 10,
              "solidity": 0.2
             }
            },
            "type": "barpolar"
           }
          ],
          "carpet": [
           {
            "aaxis": {
             "endlinecolor": "rgb(36,36,36)",
             "gridcolor": "white",
             "linecolor": "white",
             "minorgridcolor": "white",
             "startlinecolor": "rgb(36,36,36)"
            },
            "baxis": {
             "endlinecolor": "rgb(36,36,36)",
             "gridcolor": "white",
             "linecolor": "white",
             "minorgridcolor": "white",
             "startlinecolor": "rgb(36,36,36)"
            },
            "type": "carpet"
           }
          ],
          "choropleth": [
           {
            "colorbar": {
             "outlinewidth": 0,
             "tickcolor": "rgb(36,36,36)",
             "ticklen": 8,
             "ticks": "outside",
             "tickwidth": 2
            },
            "type": "choropleth"
           }
          ],
          "contour": [
           {
            "colorbar": {
             "outlinewidth": 0,
             "tickcolor": "rgb(36,36,36)",
             "ticklen": 8,
             "ticks": "outside",
             "tickwidth": 2
            },
            "colorscale": [
             [
              0,
              "rgb(2,4,25)"
             ],
             [
              0.06274509803921569,
              "rgb(24,15,41)"
             ],
             [
              0.12549019607843137,
              "rgb(47,23,57)"
             ],
             [
              0.18823529411764706,
              "rgb(71,28,72)"
             ],
             [
              0.25098039215686274,
              "rgb(97,30,82)"
             ],
             [
              0.3137254901960784,
              "rgb(123,30,89)"
             ],
             [
              0.3764705882352941,
              "rgb(150,27,91)"
             ],
             [
              0.4392156862745098,
              "rgb(177,22,88)"
             ],
             [
              0.5019607843137255,
              "rgb(203,26,79)"
             ],
             [
              0.5647058823529412,
              "rgb(223,47,67)"
             ],
             [
              0.6274509803921569,
              "rgb(236,76,61)"
             ],
             [
              0.6901960784313725,
              "rgb(242,107,73)"
             ],
             [
              0.7529411764705882,
              "rgb(244,135,95)"
             ],
             [
              0.8156862745098039,
              "rgb(245,162,122)"
             ],
             [
              0.8784313725490196,
              "rgb(246,188,153)"
             ],
             [
              0.9411764705882353,
              "rgb(247,212,187)"
             ],
             [
              1,
              "rgb(250,234,220)"
             ]
            ],
            "type": "contour"
           }
          ],
          "contourcarpet": [
           {
            "colorbar": {
             "outlinewidth": 0,
             "tickcolor": "rgb(36,36,36)",
             "ticklen": 8,
             "ticks": "outside",
             "tickwidth": 2
            },
            "type": "contourcarpet"
           }
          ],
          "heatmap": [
           {
            "colorbar": {
             "outlinewidth": 0,
             "tickcolor": "rgb(36,36,36)",
             "ticklen": 8,
             "ticks": "outside",
             "tickwidth": 2
            },
            "colorscale": [
             [
              0,
              "rgb(2,4,25)"
             ],
             [
              0.06274509803921569,
              "rgb(24,15,41)"
             ],
             [
              0.12549019607843137,
              "rgb(47,23,57)"
             ],
             [
              0.18823529411764706,
              "rgb(71,28,72)"
             ],
             [
              0.25098039215686274,
              "rgb(97,30,82)"
             ],
             [
              0.3137254901960784,
              "rgb(123,30,89)"
             ],
             [
              0.3764705882352941,
              "rgb(150,27,91)"
             ],
             [
              0.4392156862745098,
              "rgb(177,22,88)"
             ],
             [
              0.5019607843137255,
              "rgb(203,26,79)"
             ],
             [
              0.5647058823529412,
              "rgb(223,47,67)"
             ],
             [
              0.6274509803921569,
              "rgb(236,76,61)"
             ],
             [
              0.6901960784313725,
              "rgb(242,107,73)"
             ],
             [
              0.7529411764705882,
              "rgb(244,135,95)"
             ],
             [
              0.8156862745098039,
              "rgb(245,162,122)"
             ],
             [
              0.8784313725490196,
              "rgb(246,188,153)"
             ],
             [
              0.9411764705882353,
              "rgb(247,212,187)"
             ],
             [
              1,
              "rgb(250,234,220)"
             ]
            ],
            "type": "heatmap"
           }
          ],
          "heatmapgl": [
           {
            "colorbar": {
             "outlinewidth": 0,
             "tickcolor": "rgb(36,36,36)",
             "ticklen": 8,
             "ticks": "outside",
             "tickwidth": 2
            },
            "colorscale": [
             [
              0,
              "rgb(2,4,25)"
             ],
             [
              0.06274509803921569,
              "rgb(24,15,41)"
             ],
             [
              0.12549019607843137,
              "rgb(47,23,57)"
             ],
             [
              0.18823529411764706,
              "rgb(71,28,72)"
             ],
             [
              0.25098039215686274,
              "rgb(97,30,82)"
             ],
             [
              0.3137254901960784,
              "rgb(123,30,89)"
             ],
             [
              0.3764705882352941,
              "rgb(150,27,91)"
             ],
             [
              0.4392156862745098,
              "rgb(177,22,88)"
             ],
             [
              0.5019607843137255,
              "rgb(203,26,79)"
             ],
             [
              0.5647058823529412,
              "rgb(223,47,67)"
             ],
             [
              0.6274509803921569,
              "rgb(236,76,61)"
             ],
             [
              0.6901960784313725,
              "rgb(242,107,73)"
             ],
             [
              0.7529411764705882,
              "rgb(244,135,95)"
             ],
             [
              0.8156862745098039,
              "rgb(245,162,122)"
             ],
             [
              0.8784313725490196,
              "rgb(246,188,153)"
             ],
             [
              0.9411764705882353,
              "rgb(247,212,187)"
             ],
             [
              1,
              "rgb(250,234,220)"
             ]
            ],
            "type": "heatmapgl"
           }
          ],
          "histogram": [
           {
            "marker": {
             "pattern": {
              "fillmode": "overlay",
              "size": 10,
              "solidity": 0.2
             }
            },
            "type": "histogram"
           }
          ],
          "histogram2d": [
           {
            "colorbar": {
             "outlinewidth": 0,
             "tickcolor": "rgb(36,36,36)",
             "ticklen": 8,
             "ticks": "outside",
             "tickwidth": 2
            },
            "colorscale": [
             [
              0,
              "rgb(2,4,25)"
             ],
             [
              0.06274509803921569,
              "rgb(24,15,41)"
             ],
             [
              0.12549019607843137,
              "rgb(47,23,57)"
             ],
             [
              0.18823529411764706,
              "rgb(71,28,72)"
             ],
             [
              0.25098039215686274,
              "rgb(97,30,82)"
             ],
             [
              0.3137254901960784,
              "rgb(123,30,89)"
             ],
             [
              0.3764705882352941,
              "rgb(150,27,91)"
             ],
             [
              0.4392156862745098,
              "rgb(177,22,88)"
             ],
             [
              0.5019607843137255,
              "rgb(203,26,79)"
             ],
             [
              0.5647058823529412,
              "rgb(223,47,67)"
             ],
             [
              0.6274509803921569,
              "rgb(236,76,61)"
             ],
             [
              0.6901960784313725,
              "rgb(242,107,73)"
             ],
             [
              0.7529411764705882,
              "rgb(244,135,95)"
             ],
             [
              0.8156862745098039,
              "rgb(245,162,122)"
             ],
             [
              0.8784313725490196,
              "rgb(246,188,153)"
             ],
             [
              0.9411764705882353,
              "rgb(247,212,187)"
             ],
             [
              1,
              "rgb(250,234,220)"
             ]
            ],
            "type": "histogram2d"
           }
          ],
          "histogram2dcontour": [
           {
            "colorbar": {
             "outlinewidth": 0,
             "tickcolor": "rgb(36,36,36)",
             "ticklen": 8,
             "ticks": "outside",
             "tickwidth": 2
            },
            "colorscale": [
             [
              0,
              "rgb(2,4,25)"
             ],
             [
              0.06274509803921569,
              "rgb(24,15,41)"
             ],
             [
              0.12549019607843137,
              "rgb(47,23,57)"
             ],
             [
              0.18823529411764706,
              "rgb(71,28,72)"
             ],
             [
              0.25098039215686274,
              "rgb(97,30,82)"
             ],
             [
              0.3137254901960784,
              "rgb(123,30,89)"
             ],
             [
              0.3764705882352941,
              "rgb(150,27,91)"
             ],
             [
              0.4392156862745098,
              "rgb(177,22,88)"
             ],
             [
              0.5019607843137255,
              "rgb(203,26,79)"
             ],
             [
              0.5647058823529412,
              "rgb(223,47,67)"
             ],
             [
              0.6274509803921569,
              "rgb(236,76,61)"
             ],
             [
              0.6901960784313725,
              "rgb(242,107,73)"
             ],
             [
              0.7529411764705882,
              "rgb(244,135,95)"
             ],
             [
              0.8156862745098039,
              "rgb(245,162,122)"
             ],
             [
              0.8784313725490196,
              "rgb(246,188,153)"
             ],
             [
              0.9411764705882353,
              "rgb(247,212,187)"
             ],
             [
              1,
              "rgb(250,234,220)"
             ]
            ],
            "type": "histogram2dcontour"
           }
          ],
          "mesh3d": [
           {
            "colorbar": {
             "outlinewidth": 0,
             "tickcolor": "rgb(36,36,36)",
             "ticklen": 8,
             "ticks": "outside",
             "tickwidth": 2
            },
            "type": "mesh3d"
           }
          ],
          "parcoords": [
           {
            "line": {
             "colorbar": {
              "outlinewidth": 0,
              "tickcolor": "rgb(36,36,36)",
              "ticklen": 8,
              "ticks": "outside",
              "tickwidth": 2
             }
            },
            "type": "parcoords"
           }
          ],
          "pie": [
           {
            "automargin": true,
            "type": "pie"
           }
          ],
          "scatter": [
           {
            "fillpattern": {
             "fillmode": "overlay",
             "size": 10,
             "solidity": 0.2
            },
            "type": "scatter"
           }
          ],
          "scatter3d": [
           {
            "line": {
             "colorbar": {
              "outlinewidth": 0,
              "tickcolor": "rgb(36,36,36)",
              "ticklen": 8,
              "ticks": "outside",
              "tickwidth": 2
             }
            },
            "marker": {
             "colorbar": {
              "outlinewidth": 0,
              "tickcolor": "rgb(36,36,36)",
              "ticklen": 8,
              "ticks": "outside",
              "tickwidth": 2
             }
            },
            "type": "scatter3d"
           }
          ],
          "scattercarpet": [
           {
            "marker": {
             "colorbar": {
              "outlinewidth": 0,
              "tickcolor": "rgb(36,36,36)",
              "ticklen": 8,
              "ticks": "outside",
              "tickwidth": 2
             }
            },
            "type": "scattercarpet"
           }
          ],
          "scattergeo": [
           {
            "marker": {
             "colorbar": {
              "outlinewidth": 0,
              "tickcolor": "rgb(36,36,36)",
              "ticklen": 8,
              "ticks": "outside",
              "tickwidth": 2
             }
            },
            "type": "scattergeo"
           }
          ],
          "scattergl": [
           {
            "marker": {
             "colorbar": {
              "outlinewidth": 0,
              "tickcolor": "rgb(36,36,36)",
              "ticklen": 8,
              "ticks": "outside",
              "tickwidth": 2
             }
            },
            "type": "scattergl"
           }
          ],
          "scattermapbox": [
           {
            "marker": {
             "colorbar": {
              "outlinewidth": 0,
              "tickcolor": "rgb(36,36,36)",
              "ticklen": 8,
              "ticks": "outside",
              "tickwidth": 2
             }
            },
            "type": "scattermapbox"
           }
          ],
          "scatterpolar": [
           {
            "marker": {
             "colorbar": {
              "outlinewidth": 0,
              "tickcolor": "rgb(36,36,36)",
              "ticklen": 8,
              "ticks": "outside",
              "tickwidth": 2
             }
            },
            "type": "scatterpolar"
           }
          ],
          "scatterpolargl": [
           {
            "marker": {
             "colorbar": {
              "outlinewidth": 0,
              "tickcolor": "rgb(36,36,36)",
              "ticklen": 8,
              "ticks": "outside",
              "tickwidth": 2
             }
            },
            "type": "scatterpolargl"
           }
          ],
          "scatterternary": [
           {
            "marker": {
             "colorbar": {
              "outlinewidth": 0,
              "tickcolor": "rgb(36,36,36)",
              "ticklen": 8,
              "ticks": "outside",
              "tickwidth": 2
             }
            },
            "type": "scatterternary"
           }
          ],
          "surface": [
           {
            "colorbar": {
             "outlinewidth": 0,
             "tickcolor": "rgb(36,36,36)",
             "ticklen": 8,
             "ticks": "outside",
             "tickwidth": 2
            },
            "colorscale": [
             [
              0,
              "rgb(2,4,25)"
             ],
             [
              0.06274509803921569,
              "rgb(24,15,41)"
             ],
             [
              0.12549019607843137,
              "rgb(47,23,57)"
             ],
             [
              0.18823529411764706,
              "rgb(71,28,72)"
             ],
             [
              0.25098039215686274,
              "rgb(97,30,82)"
             ],
             [
              0.3137254901960784,
              "rgb(123,30,89)"
             ],
             [
              0.3764705882352941,
              "rgb(150,27,91)"
             ],
             [
              0.4392156862745098,
              "rgb(177,22,88)"
             ],
             [
              0.5019607843137255,
              "rgb(203,26,79)"
             ],
             [
              0.5647058823529412,
              "rgb(223,47,67)"
             ],
             [
              0.6274509803921569,
              "rgb(236,76,61)"
             ],
             [
              0.6901960784313725,
              "rgb(242,107,73)"
             ],
             [
              0.7529411764705882,
              "rgb(244,135,95)"
             ],
             [
              0.8156862745098039,
              "rgb(245,162,122)"
             ],
             [
              0.8784313725490196,
              "rgb(246,188,153)"
             ],
             [
              0.9411764705882353,
              "rgb(247,212,187)"
             ],
             [
              1,
              "rgb(250,234,220)"
             ]
            ],
            "type": "surface"
           }
          ],
          "table": [
           {
            "cells": {
             "fill": {
              "color": "rgb(231,231,240)"
             },
             "line": {
              "color": "white"
             }
            },
            "header": {
             "fill": {
              "color": "rgb(183,183,191)"
             },
             "line": {
              "color": "white"
             }
            },
            "type": "table"
           }
          ]
         },
         "layout": {
          "annotationdefaults": {
           "arrowcolor": "rgb(67,103,167)"
          },
          "autotypenumbers": "strict",
          "coloraxis": {
           "colorbar": {
            "outlinewidth": 0,
            "tickcolor": "rgb(36,36,36)",
            "ticklen": 8,
            "ticks": "outside",
            "tickwidth": 2
           }
          },
          "colorscale": {
           "sequential": [
            [
             0,
             "rgb(2,4,25)"
            ],
            [
             0.06274509803921569,
             "rgb(24,15,41)"
            ],
            [
             0.12549019607843137,
             "rgb(47,23,57)"
            ],
            [
             0.18823529411764706,
             "rgb(71,28,72)"
            ],
            [
             0.25098039215686274,
             "rgb(97,30,82)"
            ],
            [
             0.3137254901960784,
             "rgb(123,30,89)"
            ],
            [
             0.3764705882352941,
             "rgb(150,27,91)"
            ],
            [
             0.4392156862745098,
             "rgb(177,22,88)"
            ],
            [
             0.5019607843137255,
             "rgb(203,26,79)"
            ],
            [
             0.5647058823529412,
             "rgb(223,47,67)"
            ],
            [
             0.6274509803921569,
             "rgb(236,76,61)"
            ],
            [
             0.6901960784313725,
             "rgb(242,107,73)"
            ],
            [
             0.7529411764705882,
             "rgb(244,135,95)"
            ],
            [
             0.8156862745098039,
             "rgb(245,162,122)"
            ],
            [
             0.8784313725490196,
             "rgb(246,188,153)"
            ],
            [
             0.9411764705882353,
             "rgb(247,212,187)"
            ],
            [
             1,
             "rgb(250,234,220)"
            ]
           ],
           "sequentialminus": [
            [
             0,
             "rgb(2,4,25)"
            ],
            [
             0.06274509803921569,
             "rgb(24,15,41)"
            ],
            [
             0.12549019607843137,
             "rgb(47,23,57)"
            ],
            [
             0.18823529411764706,
             "rgb(71,28,72)"
            ],
            [
             0.25098039215686274,
             "rgb(97,30,82)"
            ],
            [
             0.3137254901960784,
             "rgb(123,30,89)"
            ],
            [
             0.3764705882352941,
             "rgb(150,27,91)"
            ],
            [
             0.4392156862745098,
             "rgb(177,22,88)"
            ],
            [
             0.5019607843137255,
             "rgb(203,26,79)"
            ],
            [
             0.5647058823529412,
             "rgb(223,47,67)"
            ],
            [
             0.6274509803921569,
             "rgb(236,76,61)"
            ],
            [
             0.6901960784313725,
             "rgb(242,107,73)"
            ],
            [
             0.7529411764705882,
             "rgb(244,135,95)"
            ],
            [
             0.8156862745098039,
             "rgb(245,162,122)"
            ],
            [
             0.8784313725490196,
             "rgb(246,188,153)"
            ],
            [
             0.9411764705882353,
             "rgb(247,212,187)"
            ],
            [
             1,
             "rgb(250,234,220)"
            ]
           ]
          },
          "colorway": [
           "rgb(76,114,176)",
           "rgb(221,132,82)",
           "rgb(85,168,104)",
           "rgb(196,78,82)",
           "rgb(129,114,179)",
           "rgb(147,120,96)",
           "rgb(218,139,195)",
           "rgb(140,140,140)",
           "rgb(204,185,116)",
           "rgb(100,181,205)"
          ],
          "font": {
           "color": "rgb(36,36,36)"
          },
          "geo": {
           "bgcolor": "white",
           "lakecolor": "white",
           "landcolor": "rgb(234,234,242)",
           "showlakes": true,
           "showland": true,
           "subunitcolor": "white"
          },
          "hoverlabel": {
           "align": "left"
          },
          "hovermode": "closest",
          "paper_bgcolor": "white",
          "plot_bgcolor": "rgb(234,234,242)",
          "polar": {
           "angularaxis": {
            "gridcolor": "white",
            "linecolor": "white",
            "showgrid": true,
            "ticks": ""
           },
           "bgcolor": "rgb(234,234,242)",
           "radialaxis": {
            "gridcolor": "white",
            "linecolor": "white",
            "showgrid": true,
            "ticks": ""
           }
          },
          "scene": {
           "xaxis": {
            "backgroundcolor": "rgb(234,234,242)",
            "gridcolor": "white",
            "gridwidth": 2,
            "linecolor": "white",
            "showbackground": true,
            "showgrid": true,
            "ticks": "",
            "zerolinecolor": "white"
           },
           "yaxis": {
            "backgroundcolor": "rgb(234,234,242)",
            "gridcolor": "white",
            "gridwidth": 2,
            "linecolor": "white",
            "showbackground": true,
            "showgrid": true,
            "ticks": "",
            "zerolinecolor": "white"
           },
           "zaxis": {
            "backgroundcolor": "rgb(234,234,242)",
            "gridcolor": "white",
            "gridwidth": 2,
            "linecolor": "white",
            "showbackground": true,
            "showgrid": true,
            "ticks": "",
            "zerolinecolor": "white"
           }
          },
          "shapedefaults": {
           "fillcolor": "rgb(67,103,167)",
           "line": {
            "width": 0
           },
           "opacity": 0.5
          },
          "ternary": {
           "aaxis": {
            "gridcolor": "white",
            "linecolor": "white",
            "showgrid": true,
            "ticks": ""
           },
           "baxis": {
            "gridcolor": "white",
            "linecolor": "white",
            "showgrid": true,
            "ticks": ""
           },
           "bgcolor": "rgb(234,234,242)",
           "caxis": {
            "gridcolor": "white",
            "linecolor": "white",
            "showgrid": true,
            "ticks": ""
           }
          },
          "xaxis": {
           "automargin": true,
           "gridcolor": "white",
           "linecolor": "white",
           "showgrid": true,
           "ticks": "",
           "title": {
            "standoff": 15
           },
           "zerolinecolor": "white"
          },
          "yaxis": {
           "automargin": true,
           "gridcolor": "white",
           "linecolor": "white",
           "showgrid": true,
           "ticks": "",
           "title": {
            "standoff": 15
           },
           "zerolinecolor": "white"
          }
         }
        },
        "title": {
         "text": "Sorted by: pst_flow, ascending: True, head: 20"
        },
        "xaxis": {
         "anchor": "y",
         "domain": [
          0,
          1
         ],
         "title": {
          "text": "Flow decomposition value"
         }
        },
        "yaxis": {
         "anchor": "x",
         "domain": [
          0,
          1
         ],
         "title": {
          "text": "xnec_id"
         }
        }
       }
      }
     },
     "metadata": {},
     "output_type": "display_data"
    }
   ],
   "source": [
    "flow_decomposition_bar_chart('pst_flow', ascending=True)"
   ]
  },
  {
   "cell_type": "code",
   "execution_count": 14,
   "metadata": {},
   "outputs": [
    {
     "data": {
      "application/vnd.plotly.v1+json": {
       "config": {
        "plotlyServerURL": "https://plot.ly"
       },
       "data": [
        {
         "alignmentgroup": "True",
         "hovertemplate": "Decomposition part:=commercial_flow<br>Flow decomposition value=%{x}<br>xnec_id=%{y}<extra></extra>",
         "legendgroup": "commercial_flow",
         "marker": {
          "color": "#0DF9FF",
          "pattern": {
           "shape": ""
          }
         },
         "name": "commercial_flow",
         "offsetgroup": "commercial_flow",
         "orientation": "h",
         "showlegend": true,
         "textposition": "auto",
         "texttemplate": "%{x:.0f}",
         "type": "bar",
         "x": [
          null,
          null,
          null,
          null,
          null,
          null,
          null,
          null,
          null,
          null,
          null,
          null,
          null,
          null,
          null,
          null,
          null,
          null,
          null,
          null
         ],
         "xaxis": "x",
         "y": [
          "T7130-130-1_InitialState",
          "T234-236-1_InitialState",
          "T229-230-1_InitialState",
          "L78-84-1_InitialState",
          "L214-215-1_InitialState",
          "L130-167-1_InitialState",
          "T213-214-1_InitialState",
          "L77-78-1_InitialState",
          "L129-130-1_InitialState",
          "L128-130-1_InitialState",
          "L130-168-1_InitialState",
          "L126-127-1_InitialState",
          "L219-237-1_InitialState",
          "L228-229-1_InitialState",
          "L228-234-1_InitialState",
          "L235-238-1_InitialState",
          "L125-126-1_InitialState",
          "L212-215-1_InitialState",
          "T122-157-1_InitialState",
          "L81-194-1_InitialState"
         ],
         "yaxis": "y"
        },
        {
         "alignmentgroup": "True",
         "hovertemplate": "Decomposition part:=pst_flow<br>Flow decomposition value=%{x}<br>xnec_id=%{y}<extra></extra>",
         "legendgroup": "pst_flow",
         "marker": {
          "color": "#AF0038",
          "pattern": {
           "shape": ""
          }
         },
         "name": "pst_flow",
         "offsetgroup": "pst_flow",
         "orientation": "h",
         "showlegend": true,
         "textposition": "auto",
         "texttemplate": "%{x:.0f}",
         "type": "bar",
         "x": [
          null,
          null,
          null,
          null,
          null,
          null,
          null,
          null,
          null,
          null,
          null,
          null,
          null,
          null,
          null,
          null,
          null,
          null,
          null,
          null
         ],
         "xaxis": "x",
         "y": [
          "T7130-130-1_InitialState",
          "T234-236-1_InitialState",
          "T229-230-1_InitialState",
          "L78-84-1_InitialState",
          "L214-215-1_InitialState",
          "L130-167-1_InitialState",
          "T213-214-1_InitialState",
          "L77-78-1_InitialState",
          "L129-130-1_InitialState",
          "L128-130-1_InitialState",
          "L130-168-1_InitialState",
          "L126-127-1_InitialState",
          "L219-237-1_InitialState",
          "L228-229-1_InitialState",
          "L228-234-1_InitialState",
          "L235-238-1_InitialState",
          "L125-126-1_InitialState",
          "L212-215-1_InitialState",
          "T122-157-1_InitialState",
          "L81-194-1_InitialState"
         ],
         "yaxis": "y"
        },
        {
         "alignmentgroup": "True",
         "hovertemplate": "Decomposition part:=loop_flow_from_at<br>Flow decomposition value=%{x}<br>xnec_id=%{y}<extra></extra>",
         "legendgroup": "loop_flow_from_at",
         "marker": {
          "color": "#FD3216",
          "pattern": {
           "shape": ""
          }
         },
         "name": "loop_flow_from_at",
         "offsetgroup": "loop_flow_from_at",
         "orientation": "h",
         "showlegend": true,
         "textposition": "auto",
         "texttemplate": "%{x:.0f}",
         "type": "bar",
         "x": [
          null,
          null,
          null,
          null,
          -94.4861453181743,
          95.85015602381974,
          -21.605094482237543,
          -19.86105670670177,
          118.65139504406551,
          114.44269836669915,
          113.08707029059447,
          null,
          -506.12422718972476,
          null,
          null,
          -50.54833157577656,
          null,
          -118.1309241083049,
          null,
          -329.1740414651907
         ],
         "xaxis": "x",
         "y": [
          "T7130-130-1_InitialState",
          "T234-236-1_InitialState",
          "T229-230-1_InitialState",
          "L78-84-1_InitialState",
          "L214-215-1_InitialState",
          "L130-167-1_InitialState",
          "T213-214-1_InitialState",
          "L77-78-1_InitialState",
          "L129-130-1_InitialState",
          "L128-130-1_InitialState",
          "L130-168-1_InitialState",
          "L126-127-1_InitialState",
          "L219-237-1_InitialState",
          "L228-229-1_InitialState",
          "L228-234-1_InitialState",
          "L235-238-1_InitialState",
          "L125-126-1_InitialState",
          "L212-215-1_InitialState",
          "T122-157-1_InitialState",
          "L81-194-1_InitialState"
         ],
         "yaxis": "y"
        },
        {
         "alignmentgroup": "True",
         "hovertemplate": "Decomposition part:=loop_flow_from_bg<br>Flow decomposition value=%{x}<br>xnec_id=%{y}<extra></extra>",
         "legendgroup": "loop_flow_from_bg",
         "marker": {
          "color": "#00A08B",
          "pattern": {
           "shape": ""
          }
         },
         "name": "loop_flow_from_bg",
         "offsetgroup": "loop_flow_from_bg",
         "orientation": "h",
         "showlegend": true,
         "textposition": "auto",
         "texttemplate": "%{x:.0f}",
         "type": "bar",
         "x": [
          null,
          null,
          null,
          null,
          null,
          -165.6295812606222,
          20.977445200302416,
          null,
          -204.87312589570485,
          -197.9269618951605,
          -195.5824230963335,
          null,
          445.21966552001527,
          -21.893026336558826,
          -52.602572864230815,
          159.86239450109647,
          null,
          105.58146321535554,
          null,
          299.8289285288621
         ],
         "xaxis": "x",
         "y": [
          "T7130-130-1_InitialState",
          "T234-236-1_InitialState",
          "T229-230-1_InitialState",
          "L78-84-1_InitialState",
          "L214-215-1_InitialState",
          "L130-167-1_InitialState",
          "T213-214-1_InitialState",
          "L77-78-1_InitialState",
          "L129-130-1_InitialState",
          "L128-130-1_InitialState",
          "L130-168-1_InitialState",
          "L126-127-1_InitialState",
          "L219-237-1_InitialState",
          "L228-229-1_InitialState",
          "L228-234-1_InitialState",
          "L235-238-1_InitialState",
          "L125-126-1_InitialState",
          "L212-215-1_InitialState",
          "T122-157-1_InitialState",
          "L81-194-1_InitialState"
         ],
         "yaxis": "y"
        },
        {
         "alignmentgroup": "True",
         "hovertemplate": "Decomposition part:=loop_flow_from_cz<br>Flow decomposition value=%{x}<br>xnec_id=%{y}<extra></extra>",
         "legendgroup": "loop_flow_from_cz",
         "marker": {
          "color": "#6C4516",
          "pattern": {
           "shape": ""
          }
         },
         "name": "loop_flow_from_cz",
         "offsetgroup": "loop_flow_from_cz",
         "orientation": "h",
         "showlegend": true,
         "textposition": "auto",
         "texttemplate": "%{x:.0f}",
         "type": "bar",
         "x": [
          null,
          null,
          null,
          null,
          61.001413869538844,
          102.03639931771312,
          null,
          null,
          127.30895496303565,
          121.87988802821715,
          120.43616291091757,
          280.15314745515974,
          null,
          null,
          null,
          null,
          180.42958466350416,
          -55.82130122900581,
          47.95308289857654,
          null
         ],
         "xaxis": "x",
         "y": [
          "T7130-130-1_InitialState",
          "T234-236-1_InitialState",
          "T229-230-1_InitialState",
          "L78-84-1_InitialState",
          "L214-215-1_InitialState",
          "L130-167-1_InitialState",
          "T213-214-1_InitialState",
          "L77-78-1_InitialState",
          "L129-130-1_InitialState",
          "L128-130-1_InitialState",
          "L130-168-1_InitialState",
          "L126-127-1_InitialState",
          "L219-237-1_InitialState",
          "L228-229-1_InitialState",
          "L228-234-1_InitialState",
          "L235-238-1_InitialState",
          "L125-126-1_InitialState",
          "L212-215-1_InitialState",
          "T122-157-1_InitialState",
          "L81-194-1_InitialState"
         ],
         "yaxis": "y"
        },
        {
         "alignmentgroup": "True",
         "hovertemplate": "Decomposition part:=loop_flow_from_dk<br>Flow decomposition value=%{x}<br>xnec_id=%{y}<extra></extra>",
         "legendgroup": "loop_flow_from_dk",
         "marker": {
          "color": "#511CFB",
          "pattern": {
           "shape": ""
          }
         },
         "name": "loop_flow_from_dk",
         "offsetgroup": "loop_flow_from_dk",
         "orientation": "h",
         "showlegend": true,
         "textposition": "auto",
         "texttemplate": "%{x:.0f}",
         "type": "bar",
         "x": [
          null,
          null,
          null,
          null,
          null,
          -183.00170283124658,
          null,
          null,
          -226.2275526914235,
          -224.33399253775633,
          -221.67664992831882,
          null,
          -555.9828717920085,
          null,
          24.186727583967805,
          -78.50542843619343,
          null,
          -82.70723197711445,
          null,
          -334.5008165034496
         ],
         "xaxis": "x",
         "y": [
          "T7130-130-1_InitialState",
          "T234-236-1_InitialState",
          "T229-230-1_InitialState",
          "L78-84-1_InitialState",
          "L214-215-1_InitialState",
          "L130-167-1_InitialState",
          "T213-214-1_InitialState",
          "L77-78-1_InitialState",
          "L129-130-1_InitialState",
          "L128-130-1_InitialState",
          "L130-168-1_InitialState",
          "L126-127-1_InitialState",
          "L219-237-1_InitialState",
          "L228-229-1_InitialState",
          "L228-234-1_InitialState",
          "L235-238-1_InitialState",
          "L125-126-1_InitialState",
          "L212-215-1_InitialState",
          "T122-157-1_InitialState",
          "L81-194-1_InitialState"
         ],
         "yaxis": "y"
        },
        {
         "alignmentgroup": "True",
         "hovertemplate": "Decomposition part:=loop_flow_from_fi<br>Flow decomposition value=%{x}<br>xnec_id=%{y}<extra></extra>",
         "legendgroup": "loop_flow_from_fi",
         "marker": {
          "color": "#F6F926",
          "pattern": {
           "shape": ""
          }
         },
         "name": "loop_flow_from_fi",
         "offsetgroup": "loop_flow_from_fi",
         "orientation": "h",
         "showlegend": true,
         "textposition": "auto",
         "texttemplate": "%{x:.0f}",
         "type": "bar",
         "x": [
          null,
          null,
          null,
          null,
          null,
          146.94188844528708,
          null,
          null,
          181.70924013875802,
          185.39937935202448,
          183.20323571395107,
          null,
          null,
          null,
          null,
          -42.6556106671713,
          null,
          null,
          null,
          null
         ],
         "xaxis": "x",
         "y": [
          "T7130-130-1_InitialState",
          "T234-236-1_InitialState",
          "T229-230-1_InitialState",
          "L78-84-1_InitialState",
          "L214-215-1_InitialState",
          "L130-167-1_InitialState",
          "T213-214-1_InitialState",
          "L77-78-1_InitialState",
          "L129-130-1_InitialState",
          "L128-130-1_InitialState",
          "L130-168-1_InitialState",
          "L126-127-1_InitialState",
          "L219-237-1_InitialState",
          "L228-229-1_InitialState",
          "L228-234-1_InitialState",
          "L235-238-1_InitialState",
          "L125-126-1_InitialState",
          "L212-215-1_InitialState",
          "T122-157-1_InitialState",
          "L81-194-1_InitialState"
         ],
         "yaxis": "y"
        },
        {
         "alignmentgroup": "True",
         "hovertemplate": "Decomposition part:=loop_flow_from_fr<br>Flow decomposition value=%{x}<br>xnec_id=%{y}<extra></extra>",
         "legendgroup": "loop_flow_from_fr",
         "marker": {
          "color": "#C9FBE5",
          "pattern": {
           "shape": ""
          }
         },
         "name": "loop_flow_from_fr",
         "offsetgroup": "loop_flow_from_fr",
         "orientation": "h",
         "showlegend": true,
         "textposition": "auto",
         "texttemplate": "%{x:.0f}",
         "type": "bar",
         "x": [
          1285.5822927689599,
          593.5822927689603,
          338.5822927689596,
          331.5822927689593,
          268.59252031127807,
          268.2548796186129,
          265.58229276895935,
          257.813224738259,
          219.04772358666744,
          214.4714698799529,
          211.9309535321026,
          205.26154865805688,
          null,
          185.19206360443735,
          152.55992208526962,
          141.67190905559394,
          140.93365093991238,
          139.7481829082198,
          135.79076419410126,
          134.69993245011358
         ],
         "xaxis": "x",
         "y": [
          "T7130-130-1_InitialState",
          "T234-236-1_InitialState",
          "T229-230-1_InitialState",
          "L78-84-1_InitialState",
          "L214-215-1_InitialState",
          "L130-167-1_InitialState",
          "T213-214-1_InitialState",
          "L77-78-1_InitialState",
          "L129-130-1_InitialState",
          "L128-130-1_InitialState",
          "L130-168-1_InitialState",
          "L126-127-1_InitialState",
          "L219-237-1_InitialState",
          "L228-229-1_InitialState",
          "L228-234-1_InitialState",
          "L235-238-1_InitialState",
          "L125-126-1_InitialState",
          "L212-215-1_InitialState",
          "T122-157-1_InitialState",
          "L81-194-1_InitialState"
         ],
         "yaxis": "y"
        },
        {
         "alignmentgroup": "True",
         "hovertemplate": "Decomposition part:=loop_flow_from_gr<br>Flow decomposition value=%{x}<br>xnec_id=%{y}<extra></extra>",
         "legendgroup": "loop_flow_from_gr",
         "marker": {
          "color": "#FC0080",
          "pattern": {
           "shape": ""
          }
         },
         "name": "loop_flow_from_gr",
         "offsetgroup": "loop_flow_from_gr",
         "orientation": "h",
         "showlegend": true,
         "textposition": "auto",
         "texttemplate": "%{x:.0f}",
         "type": "bar",
         "x": [
          null,
          -38.26472663139375,
          -38.26472663139325,
          -38.264726631393415,
          -133.2527079828673,
          null,
          -38.26472663139304,
          -37.20749911295313,
          null,
          null,
          null,
          272.67786535142017,
          1171.418675640972,
          -34.01279158358627,
          -36.55834365326837,
          109.59299720200801,
          170.94462224786523,
          80.88518294622746,
          193.24695660289512,
          570.7490063318602
         ],
         "xaxis": "x",
         "y": [
          "T7130-130-1_InitialState",
          "T234-236-1_InitialState",
          "T229-230-1_InitialState",
          "L78-84-1_InitialState",
          "L214-215-1_InitialState",
          "L130-167-1_InitialState",
          "T213-214-1_InitialState",
          "L77-78-1_InitialState",
          "L129-130-1_InitialState",
          "L128-130-1_InitialState",
          "L130-168-1_InitialState",
          "L126-127-1_InitialState",
          "L219-237-1_InitialState",
          "L228-229-1_InitialState",
          "L228-234-1_InitialState",
          "L235-238-1_InitialState",
          "L125-126-1_InitialState",
          "L212-215-1_InitialState",
          "T122-157-1_InitialState",
          "L81-194-1_InitialState"
         ],
         "yaxis": "y"
        },
        {
         "alignmentgroup": "True",
         "hovertemplate": "Decomposition part:=loop_flow_from_lt<br>Flow decomposition value=%{x}<br>xnec_id=%{y}<extra></extra>",
         "legendgroup": "loop_flow_from_lt",
         "marker": {
          "color": "#FB0D0D",
          "pattern": {
           "shape": ""
          }
         },
         "name": "loop_flow_from_lt",
         "offsetgroup": "loop_flow_from_lt",
         "orientation": "h",
         "showlegend": true,
         "textposition": "auto",
         "texttemplate": "%{x:.0f}",
         "type": "bar",
         "x": [
          null,
          null,
          null,
          null,
          122.25666095088607,
          -64.03163010368922,
          null,
          33.200037570542264,
          -82.39350917754417,
          -72.71867402021377,
          -71.85728681451342,
          -826.8149003601924,
          -409.4722967847559,
          69.45845442155125,
          -111.43235250520199,
          null,
          -495.8406546083784,
          null,
          -170.80211379833386,
          -180.2343118455321
         ],
         "xaxis": "x",
         "y": [
          "T7130-130-1_InitialState",
          "T234-236-1_InitialState",
          "T229-230-1_InitialState",
          "L78-84-1_InitialState",
          "L214-215-1_InitialState",
          "L130-167-1_InitialState",
          "T213-214-1_InitialState",
          "L77-78-1_InitialState",
          "L129-130-1_InitialState",
          "L128-130-1_InitialState",
          "L130-168-1_InitialState",
          "L126-127-1_InitialState",
          "L219-237-1_InitialState",
          "L228-229-1_InitialState",
          "L228-234-1_InitialState",
          "L235-238-1_InitialState",
          "L125-126-1_InitialState",
          "L212-215-1_InitialState",
          "T122-157-1_InitialState",
          "L81-194-1_InitialState"
         ],
         "yaxis": "y"
        },
        {
         "alignmentgroup": "True",
         "hovertemplate": "Decomposition part:=loop_flow_from_lu<br>Flow decomposition value=%{x}<br>xnec_id=%{y}<extra></extra>",
         "legendgroup": "loop_flow_from_lu",
         "marker": {
          "color": "#D626FF",
          "pattern": {
           "shape": ""
          }
         },
         "name": "loop_flow_from_lu",
         "offsetgroup": "loop_flow_from_lu",
         "orientation": "h",
         "showlegend": true,
         "textposition": "auto",
         "texttemplate": "%{x:.0f}",
         "type": "bar",
         "x": [
          null,
          null,
          null,
          null,
          null,
          null,
          null,
          null,
          null,
          null,
          null,
          200.74340068429416,
          -435.18423859458204,
          null,
          null,
          null,
          465.74028198368313,
          -42.9489362993109,
          null,
          -226.63230924292859
         ],
         "xaxis": "x",
         "y": [
          "T7130-130-1_InitialState",
          "T234-236-1_InitialState",
          "T229-230-1_InitialState",
          "L78-84-1_InitialState",
          "L214-215-1_InitialState",
          "L130-167-1_InitialState",
          "T213-214-1_InitialState",
          "L77-78-1_InitialState",
          "L129-130-1_InitialState",
          "L128-130-1_InitialState",
          "L130-168-1_InitialState",
          "L126-127-1_InitialState",
          "L219-237-1_InitialState",
          "L228-229-1_InitialState",
          "L228-234-1_InitialState",
          "L235-238-1_InitialState",
          "L125-126-1_InitialState",
          "L212-215-1_InitialState",
          "T122-157-1_InitialState",
          "L81-194-1_InitialState"
         ],
         "yaxis": "y"
        },
        {
         "alignmentgroup": "True",
         "hovertemplate": "Decomposition part:=masked_flows_positive<br>Flow decomposition value=%{x}<br>xnec_id=%{y}<extra></extra>",
         "legendgroup": "masked_flows_positive",
         "marker": {
          "color": "#DA16FF",
          "pattern": {
           "shape": ""
          }
         },
         "name": "masked_flows_positive",
         "offsetgroup": "masked_flows_positive",
         "orientation": "h",
         "showlegend": true,
         "textposition": "auto",
         "texttemplate": "%{x:.0f}",
         "type": "bar",
         "x": [
          69.46685815066775,
          69.4668581506681,
          69.4668581506675,
          69.4668581506676,
          56.18699619574106,
          64.12594052619121,
          48.48941295036521,
          32.263578798525884,
          81.30409255754505,
          83.41505548450263,
          82.42696456390678,
          81.0900109608811,
          369.8041528336788,
          38.819460094977416,
          34.04402647806343,
          4.140877503637359,
          37.73993116041774,
          16.202561927560836,
          25.807338415509953,
          86.33951758655793
         ],
         "xaxis": "x",
         "y": [
          "T7130-130-1_InitialState",
          "T234-236-1_InitialState",
          "T229-230-1_InitialState",
          "L78-84-1_InitialState",
          "L214-215-1_InitialState",
          "L130-167-1_InitialState",
          "T213-214-1_InitialState",
          "L77-78-1_InitialState",
          "L129-130-1_InitialState",
          "L128-130-1_InitialState",
          "L130-168-1_InitialState",
          "L126-127-1_InitialState",
          "L219-237-1_InitialState",
          "L228-229-1_InitialState",
          "L228-234-1_InitialState",
          "L235-238-1_InitialState",
          "L125-126-1_InitialState",
          "L212-215-1_InitialState",
          "T122-157-1_InitialState",
          "L81-194-1_InitialState"
         ],
         "yaxis": "y"
        },
        {
         "alignmentgroup": "True",
         "hovertemplate": "Decomposition part:=masked_flows_negative<br>Flow decomposition value=%{x}<br>xnec_id=%{y}<extra></extra>",
         "legendgroup": "masked_flows_negative",
         "marker": {
          "color": "#86CE00",
          "pattern": {
           "shape": ""
          }
         },
         "name": "masked_flows_negative",
         "offsetgroup": "masked_flows_negative",
         "orientation": "h",
         "showlegend": true,
         "textposition": "auto",
         "texttemplate": "%{x:.0f}",
         "type": "bar",
         "x": [
          -62.31232552280166,
          -24.047598891406587,
          -24.047598891408708,
          -24.047598891407965,
          -30.22781643825919,
          0,
          -2.4425044091711428,
          -9.595465977827214,
          0,
          0,
          0,
          -56.96467721235947,
          0,
          -0.8371570076766073,
          -1.37585593501929,
          -3.0941619704502505,
          -22.673630953575966,
          0,
          -6.101419473235,
          0
         ],
         "xaxis": "x",
         "y": [
          "T7130-130-1_InitialState",
          "T234-236-1_InitialState",
          "T229-230-1_InitialState",
          "L78-84-1_InitialState",
          "L214-215-1_InitialState",
          "L130-167-1_InitialState",
          "T213-214-1_InitialState",
          "L77-78-1_InitialState",
          "L129-130-1_InitialState",
          "L128-130-1_InitialState",
          "L130-168-1_InitialState",
          "L126-127-1_InitialState",
          "L219-237-1_InitialState",
          "L228-229-1_InitialState",
          "L228-234-1_InitialState",
          "L235-238-1_InitialState",
          "L125-126-1_InitialState",
          "L212-215-1_InitialState",
          "T122-157-1_InitialState",
          "L81-194-1_InitialState"
         ],
         "yaxis": "y"
        },
        {
         "mode": "lines+markers",
         "name": "total_flow",
         "type": "scatter",
         "x": [
          1292.7368253968261,
          600.7368253968281,
          345.7368253968251,
          338.7368253968255,
          250.07092158814325,
          264.546349736066,
          272.7368253968252,
          256.61281930984507,
          214.5272185253992,
          224.6288626582657,
          221.96802717230676,
          156.14639553726028,
          79.67885963359498,
          236.72700319314427,
          8.821551189580388,
          240.46464561274425,
          477.2737854334284,
          42.808997383627585,
          225.89460883951398,
          21.07590584029279
         ],
         "y": [
          "T7130-130-1_InitialState",
          "T234-236-1_InitialState",
          "T229-230-1_InitialState",
          "L78-84-1_InitialState",
          "L214-215-1_InitialState",
          "L130-167-1_InitialState",
          "T213-214-1_InitialState",
          "L77-78-1_InitialState",
          "L129-130-1_InitialState",
          "L128-130-1_InitialState",
          "L130-168-1_InitialState",
          "L126-127-1_InitialState",
          "L219-237-1_InitialState",
          "L228-229-1_InitialState",
          "L228-234-1_InitialState",
          "L235-238-1_InitialState",
          "L125-126-1_InitialState",
          "L212-215-1_InitialState",
          "T122-157-1_InitialState",
          "L81-194-1_InitialState"
         ]
        },
        {
         "mode": "lines+markers",
         "name": "total_loop_flow",
         "type": "scatter",
         "x": [
          1292.7368253968261,
          600.7368253968281,
          345.7368253968251,
          338.7368253968255,
          250.07092158814325,
          264.546349736066,
          272.7368253968252,
          256.61281930984507,
          214.5272185253992,
          224.6288626582657,
          221.96802717230676,
          156.14639553726028,
          79.67885963359498,
          236.72700319314427,
          8.821551189580388,
          240.46464561274425,
          477.2737854334284,
          42.808997383627585,
          225.89460883951398,
          21.07590584029279
         ],
         "y": [
          "T7130-130-1_InitialState",
          "T234-236-1_InitialState",
          "T229-230-1_InitialState",
          "L78-84-1_InitialState",
          "L214-215-1_InitialState",
          "L130-167-1_InitialState",
          "T213-214-1_InitialState",
          "L77-78-1_InitialState",
          "L129-130-1_InitialState",
          "L128-130-1_InitialState",
          "L130-168-1_InitialState",
          "L126-127-1_InitialState",
          "L219-237-1_InitialState",
          "L228-229-1_InitialState",
          "L228-234-1_InitialState",
          "L235-238-1_InitialState",
          "L125-126-1_InitialState",
          "L212-215-1_InitialState",
          "T122-157-1_InitialState",
          "L81-194-1_InitialState"
         ]
        }
       ],
       "layout": {
        "barmode": "relative",
        "height": 1000,
        "legend": {
         "title": {
          "text": "Decomposition part:"
         },
         "tracegroupgap": 0
        },
        "template": {
         "data": {
          "bar": [
           {
            "error_x": {
             "color": "rgb(36,36,36)"
            },
            "error_y": {
             "color": "rgb(36,36,36)"
            },
            "marker": {
             "line": {
              "color": "rgb(234,234,242)",
              "width": 0.5
             },
             "pattern": {
              "fillmode": "overlay",
              "size": 10,
              "solidity": 0.2
             }
            },
            "type": "bar"
           }
          ],
          "barpolar": [
           {
            "marker": {
             "line": {
              "color": "rgb(234,234,242)",
              "width": 0.5
             },
             "pattern": {
              "fillmode": "overlay",
              "size": 10,
              "solidity": 0.2
             }
            },
            "type": "barpolar"
           }
          ],
          "carpet": [
           {
            "aaxis": {
             "endlinecolor": "rgb(36,36,36)",
             "gridcolor": "white",
             "linecolor": "white",
             "minorgridcolor": "white",
             "startlinecolor": "rgb(36,36,36)"
            },
            "baxis": {
             "endlinecolor": "rgb(36,36,36)",
             "gridcolor": "white",
             "linecolor": "white",
             "minorgridcolor": "white",
             "startlinecolor": "rgb(36,36,36)"
            },
            "type": "carpet"
           }
          ],
          "choropleth": [
           {
            "colorbar": {
             "outlinewidth": 0,
             "tickcolor": "rgb(36,36,36)",
             "ticklen": 8,
             "ticks": "outside",
             "tickwidth": 2
            },
            "type": "choropleth"
           }
          ],
          "contour": [
           {
            "colorbar": {
             "outlinewidth": 0,
             "tickcolor": "rgb(36,36,36)",
             "ticklen": 8,
             "ticks": "outside",
             "tickwidth": 2
            },
            "colorscale": [
             [
              0,
              "rgb(2,4,25)"
             ],
             [
              0.06274509803921569,
              "rgb(24,15,41)"
             ],
             [
              0.12549019607843137,
              "rgb(47,23,57)"
             ],
             [
              0.18823529411764706,
              "rgb(71,28,72)"
             ],
             [
              0.25098039215686274,
              "rgb(97,30,82)"
             ],
             [
              0.3137254901960784,
              "rgb(123,30,89)"
             ],
             [
              0.3764705882352941,
              "rgb(150,27,91)"
             ],
             [
              0.4392156862745098,
              "rgb(177,22,88)"
             ],
             [
              0.5019607843137255,
              "rgb(203,26,79)"
             ],
             [
              0.5647058823529412,
              "rgb(223,47,67)"
             ],
             [
              0.6274509803921569,
              "rgb(236,76,61)"
             ],
             [
              0.6901960784313725,
              "rgb(242,107,73)"
             ],
             [
              0.7529411764705882,
              "rgb(244,135,95)"
             ],
             [
              0.8156862745098039,
              "rgb(245,162,122)"
             ],
             [
              0.8784313725490196,
              "rgb(246,188,153)"
             ],
             [
              0.9411764705882353,
              "rgb(247,212,187)"
             ],
             [
              1,
              "rgb(250,234,220)"
             ]
            ],
            "type": "contour"
           }
          ],
          "contourcarpet": [
           {
            "colorbar": {
             "outlinewidth": 0,
             "tickcolor": "rgb(36,36,36)",
             "ticklen": 8,
             "ticks": "outside",
             "tickwidth": 2
            },
            "type": "contourcarpet"
           }
          ],
          "heatmap": [
           {
            "colorbar": {
             "outlinewidth": 0,
             "tickcolor": "rgb(36,36,36)",
             "ticklen": 8,
             "ticks": "outside",
             "tickwidth": 2
            },
            "colorscale": [
             [
              0,
              "rgb(2,4,25)"
             ],
             [
              0.06274509803921569,
              "rgb(24,15,41)"
             ],
             [
              0.12549019607843137,
              "rgb(47,23,57)"
             ],
             [
              0.18823529411764706,
              "rgb(71,28,72)"
             ],
             [
              0.25098039215686274,
              "rgb(97,30,82)"
             ],
             [
              0.3137254901960784,
              "rgb(123,30,89)"
             ],
             [
              0.3764705882352941,
              "rgb(150,27,91)"
             ],
             [
              0.4392156862745098,
              "rgb(177,22,88)"
             ],
             [
              0.5019607843137255,
              "rgb(203,26,79)"
             ],
             [
              0.5647058823529412,
              "rgb(223,47,67)"
             ],
             [
              0.6274509803921569,
              "rgb(236,76,61)"
             ],
             [
              0.6901960784313725,
              "rgb(242,107,73)"
             ],
             [
              0.7529411764705882,
              "rgb(244,135,95)"
             ],
             [
              0.8156862745098039,
              "rgb(245,162,122)"
             ],
             [
              0.8784313725490196,
              "rgb(246,188,153)"
             ],
             [
              0.9411764705882353,
              "rgb(247,212,187)"
             ],
             [
              1,
              "rgb(250,234,220)"
             ]
            ],
            "type": "heatmap"
           }
          ],
          "heatmapgl": [
           {
            "colorbar": {
             "outlinewidth": 0,
             "tickcolor": "rgb(36,36,36)",
             "ticklen": 8,
             "ticks": "outside",
             "tickwidth": 2
            },
            "colorscale": [
             [
              0,
              "rgb(2,4,25)"
             ],
             [
              0.06274509803921569,
              "rgb(24,15,41)"
             ],
             [
              0.12549019607843137,
              "rgb(47,23,57)"
             ],
             [
              0.18823529411764706,
              "rgb(71,28,72)"
             ],
             [
              0.25098039215686274,
              "rgb(97,30,82)"
             ],
             [
              0.3137254901960784,
              "rgb(123,30,89)"
             ],
             [
              0.3764705882352941,
              "rgb(150,27,91)"
             ],
             [
              0.4392156862745098,
              "rgb(177,22,88)"
             ],
             [
              0.5019607843137255,
              "rgb(203,26,79)"
             ],
             [
              0.5647058823529412,
              "rgb(223,47,67)"
             ],
             [
              0.6274509803921569,
              "rgb(236,76,61)"
             ],
             [
              0.6901960784313725,
              "rgb(242,107,73)"
             ],
             [
              0.7529411764705882,
              "rgb(244,135,95)"
             ],
             [
              0.8156862745098039,
              "rgb(245,162,122)"
             ],
             [
              0.8784313725490196,
              "rgb(246,188,153)"
             ],
             [
              0.9411764705882353,
              "rgb(247,212,187)"
             ],
             [
              1,
              "rgb(250,234,220)"
             ]
            ],
            "type": "heatmapgl"
           }
          ],
          "histogram": [
           {
            "marker": {
             "pattern": {
              "fillmode": "overlay",
              "size": 10,
              "solidity": 0.2
             }
            },
            "type": "histogram"
           }
          ],
          "histogram2d": [
           {
            "colorbar": {
             "outlinewidth": 0,
             "tickcolor": "rgb(36,36,36)",
             "ticklen": 8,
             "ticks": "outside",
             "tickwidth": 2
            },
            "colorscale": [
             [
              0,
              "rgb(2,4,25)"
             ],
             [
              0.06274509803921569,
              "rgb(24,15,41)"
             ],
             [
              0.12549019607843137,
              "rgb(47,23,57)"
             ],
             [
              0.18823529411764706,
              "rgb(71,28,72)"
             ],
             [
              0.25098039215686274,
              "rgb(97,30,82)"
             ],
             [
              0.3137254901960784,
              "rgb(123,30,89)"
             ],
             [
              0.3764705882352941,
              "rgb(150,27,91)"
             ],
             [
              0.4392156862745098,
              "rgb(177,22,88)"
             ],
             [
              0.5019607843137255,
              "rgb(203,26,79)"
             ],
             [
              0.5647058823529412,
              "rgb(223,47,67)"
             ],
             [
              0.6274509803921569,
              "rgb(236,76,61)"
             ],
             [
              0.6901960784313725,
              "rgb(242,107,73)"
             ],
             [
              0.7529411764705882,
              "rgb(244,135,95)"
             ],
             [
              0.8156862745098039,
              "rgb(245,162,122)"
             ],
             [
              0.8784313725490196,
              "rgb(246,188,153)"
             ],
             [
              0.9411764705882353,
              "rgb(247,212,187)"
             ],
             [
              1,
              "rgb(250,234,220)"
             ]
            ],
            "type": "histogram2d"
           }
          ],
          "histogram2dcontour": [
           {
            "colorbar": {
             "outlinewidth": 0,
             "tickcolor": "rgb(36,36,36)",
             "ticklen": 8,
             "ticks": "outside",
             "tickwidth": 2
            },
            "colorscale": [
             [
              0,
              "rgb(2,4,25)"
             ],
             [
              0.06274509803921569,
              "rgb(24,15,41)"
             ],
             [
              0.12549019607843137,
              "rgb(47,23,57)"
             ],
             [
              0.18823529411764706,
              "rgb(71,28,72)"
             ],
             [
              0.25098039215686274,
              "rgb(97,30,82)"
             ],
             [
              0.3137254901960784,
              "rgb(123,30,89)"
             ],
             [
              0.3764705882352941,
              "rgb(150,27,91)"
             ],
             [
              0.4392156862745098,
              "rgb(177,22,88)"
             ],
             [
              0.5019607843137255,
              "rgb(203,26,79)"
             ],
             [
              0.5647058823529412,
              "rgb(223,47,67)"
             ],
             [
              0.6274509803921569,
              "rgb(236,76,61)"
             ],
             [
              0.6901960784313725,
              "rgb(242,107,73)"
             ],
             [
              0.7529411764705882,
              "rgb(244,135,95)"
             ],
             [
              0.8156862745098039,
              "rgb(245,162,122)"
             ],
             [
              0.8784313725490196,
              "rgb(246,188,153)"
             ],
             [
              0.9411764705882353,
              "rgb(247,212,187)"
             ],
             [
              1,
              "rgb(250,234,220)"
             ]
            ],
            "type": "histogram2dcontour"
           }
          ],
          "mesh3d": [
           {
            "colorbar": {
             "outlinewidth": 0,
             "tickcolor": "rgb(36,36,36)",
             "ticklen": 8,
             "ticks": "outside",
             "tickwidth": 2
            },
            "type": "mesh3d"
           }
          ],
          "parcoords": [
           {
            "line": {
             "colorbar": {
              "outlinewidth": 0,
              "tickcolor": "rgb(36,36,36)",
              "ticklen": 8,
              "ticks": "outside",
              "tickwidth": 2
             }
            },
            "type": "parcoords"
           }
          ],
          "pie": [
           {
            "automargin": true,
            "type": "pie"
           }
          ],
          "scatter": [
           {
            "fillpattern": {
             "fillmode": "overlay",
             "size": 10,
             "solidity": 0.2
            },
            "type": "scatter"
           }
          ],
          "scatter3d": [
           {
            "line": {
             "colorbar": {
              "outlinewidth": 0,
              "tickcolor": "rgb(36,36,36)",
              "ticklen": 8,
              "ticks": "outside",
              "tickwidth": 2
             }
            },
            "marker": {
             "colorbar": {
              "outlinewidth": 0,
              "tickcolor": "rgb(36,36,36)",
              "ticklen": 8,
              "ticks": "outside",
              "tickwidth": 2
             }
            },
            "type": "scatter3d"
           }
          ],
          "scattercarpet": [
           {
            "marker": {
             "colorbar": {
              "outlinewidth": 0,
              "tickcolor": "rgb(36,36,36)",
              "ticklen": 8,
              "ticks": "outside",
              "tickwidth": 2
             }
            },
            "type": "scattercarpet"
           }
          ],
          "scattergeo": [
           {
            "marker": {
             "colorbar": {
              "outlinewidth": 0,
              "tickcolor": "rgb(36,36,36)",
              "ticklen": 8,
              "ticks": "outside",
              "tickwidth": 2
             }
            },
            "type": "scattergeo"
           }
          ],
          "scattergl": [
           {
            "marker": {
             "colorbar": {
              "outlinewidth": 0,
              "tickcolor": "rgb(36,36,36)",
              "ticklen": 8,
              "ticks": "outside",
              "tickwidth": 2
             }
            },
            "type": "scattergl"
           }
          ],
          "scattermapbox": [
           {
            "marker": {
             "colorbar": {
              "outlinewidth": 0,
              "tickcolor": "rgb(36,36,36)",
              "ticklen": 8,
              "ticks": "outside",
              "tickwidth": 2
             }
            },
            "type": "scattermapbox"
           }
          ],
          "scatterpolar": [
           {
            "marker": {
             "colorbar": {
              "outlinewidth": 0,
              "tickcolor": "rgb(36,36,36)",
              "ticklen": 8,
              "ticks": "outside",
              "tickwidth": 2
             }
            },
            "type": "scatterpolar"
           }
          ],
          "scatterpolargl": [
           {
            "marker": {
             "colorbar": {
              "outlinewidth": 0,
              "tickcolor": "rgb(36,36,36)",
              "ticklen": 8,
              "ticks": "outside",
              "tickwidth": 2
             }
            },
            "type": "scatterpolargl"
           }
          ],
          "scatterternary": [
           {
            "marker": {
             "colorbar": {
              "outlinewidth": 0,
              "tickcolor": "rgb(36,36,36)",
              "ticklen": 8,
              "ticks": "outside",
              "tickwidth": 2
             }
            },
            "type": "scatterternary"
           }
          ],
          "surface": [
           {
            "colorbar": {
             "outlinewidth": 0,
             "tickcolor": "rgb(36,36,36)",
             "ticklen": 8,
             "ticks": "outside",
             "tickwidth": 2
            },
            "colorscale": [
             [
              0,
              "rgb(2,4,25)"
             ],
             [
              0.06274509803921569,
              "rgb(24,15,41)"
             ],
             [
              0.12549019607843137,
              "rgb(47,23,57)"
             ],
             [
              0.18823529411764706,
              "rgb(71,28,72)"
             ],
             [
              0.25098039215686274,
              "rgb(97,30,82)"
             ],
             [
              0.3137254901960784,
              "rgb(123,30,89)"
             ],
             [
              0.3764705882352941,
              "rgb(150,27,91)"
             ],
             [
              0.4392156862745098,
              "rgb(177,22,88)"
             ],
             [
              0.5019607843137255,
              "rgb(203,26,79)"
             ],
             [
              0.5647058823529412,
              "rgb(223,47,67)"
             ],
             [
              0.6274509803921569,
              "rgb(236,76,61)"
             ],
             [
              0.6901960784313725,
              "rgb(242,107,73)"
             ],
             [
              0.7529411764705882,
              "rgb(244,135,95)"
             ],
             [
              0.8156862745098039,
              "rgb(245,162,122)"
             ],
             [
              0.8784313725490196,
              "rgb(246,188,153)"
             ],
             [
              0.9411764705882353,
              "rgb(247,212,187)"
             ],
             [
              1,
              "rgb(250,234,220)"
             ]
            ],
            "type": "surface"
           }
          ],
          "table": [
           {
            "cells": {
             "fill": {
              "color": "rgb(231,231,240)"
             },
             "line": {
              "color": "white"
             }
            },
            "header": {
             "fill": {
              "color": "rgb(183,183,191)"
             },
             "line": {
              "color": "white"
             }
            },
            "type": "table"
           }
          ]
         },
         "layout": {
          "annotationdefaults": {
           "arrowcolor": "rgb(67,103,167)"
          },
          "autotypenumbers": "strict",
          "coloraxis": {
           "colorbar": {
            "outlinewidth": 0,
            "tickcolor": "rgb(36,36,36)",
            "ticklen": 8,
            "ticks": "outside",
            "tickwidth": 2
           }
          },
          "colorscale": {
           "sequential": [
            [
             0,
             "rgb(2,4,25)"
            ],
            [
             0.06274509803921569,
             "rgb(24,15,41)"
            ],
            [
             0.12549019607843137,
             "rgb(47,23,57)"
            ],
            [
             0.18823529411764706,
             "rgb(71,28,72)"
            ],
            [
             0.25098039215686274,
             "rgb(97,30,82)"
            ],
            [
             0.3137254901960784,
             "rgb(123,30,89)"
            ],
            [
             0.3764705882352941,
             "rgb(150,27,91)"
            ],
            [
             0.4392156862745098,
             "rgb(177,22,88)"
            ],
            [
             0.5019607843137255,
             "rgb(203,26,79)"
            ],
            [
             0.5647058823529412,
             "rgb(223,47,67)"
            ],
            [
             0.6274509803921569,
             "rgb(236,76,61)"
            ],
            [
             0.6901960784313725,
             "rgb(242,107,73)"
            ],
            [
             0.7529411764705882,
             "rgb(244,135,95)"
            ],
            [
             0.8156862745098039,
             "rgb(245,162,122)"
            ],
            [
             0.8784313725490196,
             "rgb(246,188,153)"
            ],
            [
             0.9411764705882353,
             "rgb(247,212,187)"
            ],
            [
             1,
             "rgb(250,234,220)"
            ]
           ],
           "sequentialminus": [
            [
             0,
             "rgb(2,4,25)"
            ],
            [
             0.06274509803921569,
             "rgb(24,15,41)"
            ],
            [
             0.12549019607843137,
             "rgb(47,23,57)"
            ],
            [
             0.18823529411764706,
             "rgb(71,28,72)"
            ],
            [
             0.25098039215686274,
             "rgb(97,30,82)"
            ],
            [
             0.3137254901960784,
             "rgb(123,30,89)"
            ],
            [
             0.3764705882352941,
             "rgb(150,27,91)"
            ],
            [
             0.4392156862745098,
             "rgb(177,22,88)"
            ],
            [
             0.5019607843137255,
             "rgb(203,26,79)"
            ],
            [
             0.5647058823529412,
             "rgb(223,47,67)"
            ],
            [
             0.6274509803921569,
             "rgb(236,76,61)"
            ],
            [
             0.6901960784313725,
             "rgb(242,107,73)"
            ],
            [
             0.7529411764705882,
             "rgb(244,135,95)"
            ],
            [
             0.8156862745098039,
             "rgb(245,162,122)"
            ],
            [
             0.8784313725490196,
             "rgb(246,188,153)"
            ],
            [
             0.9411764705882353,
             "rgb(247,212,187)"
            ],
            [
             1,
             "rgb(250,234,220)"
            ]
           ]
          },
          "colorway": [
           "rgb(76,114,176)",
           "rgb(221,132,82)",
           "rgb(85,168,104)",
           "rgb(196,78,82)",
           "rgb(129,114,179)",
           "rgb(147,120,96)",
           "rgb(218,139,195)",
           "rgb(140,140,140)",
           "rgb(204,185,116)",
           "rgb(100,181,205)"
          ],
          "font": {
           "color": "rgb(36,36,36)"
          },
          "geo": {
           "bgcolor": "white",
           "lakecolor": "white",
           "landcolor": "rgb(234,234,242)",
           "showlakes": true,
           "showland": true,
           "subunitcolor": "white"
          },
          "hoverlabel": {
           "align": "left"
          },
          "hovermode": "closest",
          "paper_bgcolor": "white",
          "plot_bgcolor": "rgb(234,234,242)",
          "polar": {
           "angularaxis": {
            "gridcolor": "white",
            "linecolor": "white",
            "showgrid": true,
            "ticks": ""
           },
           "bgcolor": "rgb(234,234,242)",
           "radialaxis": {
            "gridcolor": "white",
            "linecolor": "white",
            "showgrid": true,
            "ticks": ""
           }
          },
          "scene": {
           "xaxis": {
            "backgroundcolor": "rgb(234,234,242)",
            "gridcolor": "white",
            "gridwidth": 2,
            "linecolor": "white",
            "showbackground": true,
            "showgrid": true,
            "ticks": "",
            "zerolinecolor": "white"
           },
           "yaxis": {
            "backgroundcolor": "rgb(234,234,242)",
            "gridcolor": "white",
            "gridwidth": 2,
            "linecolor": "white",
            "showbackground": true,
            "showgrid": true,
            "ticks": "",
            "zerolinecolor": "white"
           },
           "zaxis": {
            "backgroundcolor": "rgb(234,234,242)",
            "gridcolor": "white",
            "gridwidth": 2,
            "linecolor": "white",
            "showbackground": true,
            "showgrid": true,
            "ticks": "",
            "zerolinecolor": "white"
           }
          },
          "shapedefaults": {
           "fillcolor": "rgb(67,103,167)",
           "line": {
            "width": 0
           },
           "opacity": 0.5
          },
          "ternary": {
           "aaxis": {
            "gridcolor": "white",
            "linecolor": "white",
            "showgrid": true,
            "ticks": ""
           },
           "baxis": {
            "gridcolor": "white",
            "linecolor": "white",
            "showgrid": true,
            "ticks": ""
           },
           "bgcolor": "rgb(234,234,242)",
           "caxis": {
            "gridcolor": "white",
            "linecolor": "white",
            "showgrid": true,
            "ticks": ""
           }
          },
          "xaxis": {
           "automargin": true,
           "gridcolor": "white",
           "linecolor": "white",
           "showgrid": true,
           "ticks": "",
           "title": {
            "standoff": 15
           },
           "zerolinecolor": "white"
          },
          "yaxis": {
           "automargin": true,
           "gridcolor": "white",
           "linecolor": "white",
           "showgrid": true,
           "ticks": "",
           "title": {
            "standoff": 15
           },
           "zerolinecolor": "white"
          }
         }
        },
        "title": {
         "text": "Sorted by: loop_flow_from_fr, ascending: False, head: 20"
        },
        "xaxis": {
         "anchor": "y",
         "domain": [
          0,
          1
         ],
         "title": {
          "text": "Flow decomposition value"
         }
        },
        "yaxis": {
         "anchor": "x",
         "domain": [
          0,
          1
         ],
         "title": {
          "text": "xnec_id"
         }
        }
       }
      }
     },
     "metadata": {},
     "output_type": "display_data"
    }
   ],
   "source": [
    "flow_decomposition_bar_chart(f'loop_flow_from_{random.Random(42).choice(list(countries)).alpha_2.lower()}')"
   ]
  },
  {
   "cell_type": "code",
   "execution_count": 15,
   "metadata": {},
   "outputs": [
    {
     "data": {
      "application/vnd.plotly.v1+json": {
       "config": {
        "plotlyServerURL": "https://plot.ly"
       },
       "data": [
        {
         "alignmentgroup": "True",
         "hovertemplate": "Decomposition part:=commercial_flow<br>Flow decomposition value=%{x}<br>xnec_id=%{y}<extra></extra>",
         "legendgroup": "commercial_flow",
         "marker": {
          "color": "#0DF9FF",
          "pattern": {
           "shape": ""
          }
         },
         "name": "commercial_flow",
         "offsetgroup": "commercial_flow",
         "orientation": "h",
         "showlegend": true,
         "textposition": "auto",
         "texttemplate": "%{x:.0f}",
         "type": "bar",
         "x": [
          null,
          null,
          null,
          null,
          null,
          null,
          null,
          null,
          null,
          null,
          null,
          null,
          null,
          null,
          null,
          null,
          null,
          null,
          null,
          null
         ],
         "xaxis": "x",
         "y": [
          "L46-81-1_InitialState",
          "L133-137-1_InitialState",
          "L42-46-1_InitialState",
          "L126-157-1_InitialState",
          "L220-221-1_InitialState",
          "L81-195-1_InitialState",
          "L231-237-1_InitialState",
          "L220-238-1_InitialState",
          "L194-219-1_InitialState",
          "T130-150-1_InitialState",
          "L3-150-1_InitialState",
          "L216-217-1_InitialState",
          "L126-158-1_InitialState",
          "L45-74-1_InitialState",
          "L62-144-1_InitialState",
          "T143-144-1_InitialState",
          "L45-60-1_InitialState",
          "L60-62-1_InitialState",
          "L16-42-1_InitialState",
          "L158-159-1_InitialState"
         ],
         "yaxis": "y"
        },
        {
         "alignmentgroup": "True",
         "hovertemplate": "Decomposition part:=pst_flow<br>Flow decomposition value=%{x}<br>xnec_id=%{y}<extra></extra>",
         "legendgroup": "pst_flow",
         "marker": {
          "color": "#AF0038",
          "pattern": {
           "shape": ""
          }
         },
         "name": "pst_flow",
         "offsetgroup": "pst_flow",
         "orientation": "h",
         "showlegend": true,
         "textposition": "auto",
         "texttemplate": "%{x:.0f}",
         "type": "bar",
         "x": [
          null,
          null,
          null,
          null,
          null,
          null,
          null,
          null,
          null,
          null,
          null,
          null,
          null,
          null,
          null,
          null,
          null,
          null,
          null,
          null
         ],
         "xaxis": "x",
         "y": [
          "L46-81-1_InitialState",
          "L133-137-1_InitialState",
          "L42-46-1_InitialState",
          "L126-157-1_InitialState",
          "L220-221-1_InitialState",
          "L81-195-1_InitialState",
          "L231-237-1_InitialState",
          "L220-238-1_InitialState",
          "L194-219-1_InitialState",
          "T130-150-1_InitialState",
          "L3-150-1_InitialState",
          "L216-217-1_InitialState",
          "L126-158-1_InitialState",
          "L45-74-1_InitialState",
          "L62-144-1_InitialState",
          "T143-144-1_InitialState",
          "L45-60-1_InitialState",
          "L60-62-1_InitialState",
          "L16-42-1_InitialState",
          "L158-159-1_InitialState"
         ],
         "yaxis": "y"
        },
        {
         "alignmentgroup": "True",
         "hovertemplate": "Decomposition part:=loop_flow_from_at<br>Flow decomposition value=%{x}<br>xnec_id=%{y}<extra></extra>",
         "legendgroup": "loop_flow_from_at",
         "marker": {
          "color": "#FD3216",
          "pattern": {
           "shape": ""
          }
         },
         "name": "loop_flow_from_at",
         "offsetgroup": "loop_flow_from_at",
         "orientation": "h",
         "showlegend": true,
         "textposition": "auto",
         "texttemplate": "%{x:.0f}",
         "type": "bar",
         "x": [
          558.5584232145833,
          -410.36518800189424,
          727.5500166768979,
          null,
          148.86995472624008,
          340.2082056743098,
          404.4757762897742,
          null,
          329.1740414651905,
          292.4865832236529,
          292.4865832236531,
          null,
          null,
          255.44088286524732,
          160.9269467074325,
          160.92694670743208,
          89.02277391922061,
          89.02277391922044,
          827.9483693609509,
          null
         ],
         "xaxis": "x",
         "y": [
          "L46-81-1_InitialState",
          "L133-137-1_InitialState",
          "L42-46-1_InitialState",
          "L126-157-1_InitialState",
          "L220-221-1_InitialState",
          "L81-195-1_InitialState",
          "L231-237-1_InitialState",
          "L220-238-1_InitialState",
          "L194-219-1_InitialState",
          "T130-150-1_InitialState",
          "L3-150-1_InitialState",
          "L216-217-1_InitialState",
          "L126-158-1_InitialState",
          "L45-74-1_InitialState",
          "L62-144-1_InitialState",
          "T143-144-1_InitialState",
          "L45-60-1_InitialState",
          "L60-62-1_InitialState",
          "L16-42-1_InitialState",
          "L158-159-1_InitialState"
         ],
         "yaxis": "y"
        },
        {
         "alignmentgroup": "True",
         "hovertemplate": "Decomposition part:=loop_flow_from_bg<br>Flow decomposition value=%{x}<br>xnec_id=%{y}<extra></extra>",
         "legendgroup": "loop_flow_from_bg",
         "marker": {
          "color": "#00A08B",
          "pattern": {
           "shape": ""
          }
         },
         "name": "loop_flow_from_bg",
         "offsetgroup": "loop_flow_from_bg",
         "orientation": "h",
         "showlegend": true,
         "textposition": "auto",
         "texttemplate": "%{x:.0f}",
         "type": "bar",
         "x": [
          -313.9061909907882,
          780.4255683576197,
          -348.6894005328385,
          null,
          96.5602642161711,
          -245.45785290768933,
          -275.02750828222827,
          428.5661466931593,
          -299.82892852886255,
          -446.2235497985903,
          -446.2235497985905,
          135.80927965361462,
          null,
          null,
          168.91186633102004,
          168.91186633102024,
          62.51935662500895,
          62.51935662500891,
          -312.02317454264096,
          null
         ],
         "xaxis": "x",
         "y": [
          "L46-81-1_InitialState",
          "L133-137-1_InitialState",
          "L42-46-1_InitialState",
          "L126-157-1_InitialState",
          "L220-221-1_InitialState",
          "L81-195-1_InitialState",
          "L231-237-1_InitialState",
          "L220-238-1_InitialState",
          "L194-219-1_InitialState",
          "T130-150-1_InitialState",
          "L3-150-1_InitialState",
          "L216-217-1_InitialState",
          "L126-158-1_InitialState",
          "L45-74-1_InitialState",
          "L62-144-1_InitialState",
          "T143-144-1_InitialState",
          "L45-60-1_InitialState",
          "L60-62-1_InitialState",
          "L16-42-1_InitialState",
          "L158-159-1_InitialState"
         ],
         "yaxis": "y"
        },
        {
         "alignmentgroup": "True",
         "hovertemplate": "Decomposition part:=loop_flow_from_cz<br>Flow decomposition value=%{x}<br>xnec_id=%{y}<extra></extra>",
         "legendgroup": "loop_flow_from_cz",
         "marker": {
          "color": "#6C4516",
          "pattern": {
           "shape": ""
          }
         },
         "name": "loop_flow_from_cz",
         "offsetgroup": "loop_flow_from_cz",
         "orientation": "h",
         "showlegend": true,
         "textposition": "auto",
         "texttemplate": "%{x:.0f}",
         "type": "bar",
         "x": [
          -194.0502458402179,
          null,
          -237.07620368858392,
          -252.12535743822315,
          null,
          -138.84103400116427,
          null,
          null,
          null,
          307.7947370760337,
          307.7947370760339,
          59.17728490145487,
          -217.69523174559254,
          -99.33341345250444,
          -121.69070348337577,
          -121.69070348337571,
          -69.17650004809524,
          -69.17650004809512,
          -278.73750724700676,
          -132.96200345561644
         ],
         "xaxis": "x",
         "y": [
          "L46-81-1_InitialState",
          "L133-137-1_InitialState",
          "L42-46-1_InitialState",
          "L126-157-1_InitialState",
          "L220-221-1_InitialState",
          "L81-195-1_InitialState",
          "L231-237-1_InitialState",
          "L220-238-1_InitialState",
          "L194-219-1_InitialState",
          "T130-150-1_InitialState",
          "L3-150-1_InitialState",
          "L216-217-1_InitialState",
          "L126-158-1_InitialState",
          "L45-74-1_InitialState",
          "L62-144-1_InitialState",
          "T143-144-1_InitialState",
          "L45-60-1_InitialState",
          "L60-62-1_InitialState",
          "L16-42-1_InitialState",
          "L158-159-1_InitialState"
         ],
         "yaxis": "y"
        },
        {
         "alignmentgroup": "True",
         "hovertemplate": "Decomposition part:=loop_flow_from_dk<br>Flow decomposition value=%{x}<br>xnec_id=%{y}<extra></extra>",
         "legendgroup": "loop_flow_from_dk",
         "marker": {
          "color": "#511CFB",
          "pattern": {
           "shape": ""
          }
         },
         "name": "loop_flow_from_dk",
         "offsetgroup": "loop_flow_from_dk",
         "orientation": "h",
         "showlegend": true,
         "textposition": "auto",
         "texttemplate": "%{x:.0f}",
         "type": "bar",
         "x": [
          500.11640021594707,
          878.8640686427228,
          552.1168773587655,
          null,
          293.6014455331426,
          320.01262486585165,
          993.2403085058556,
          73.62041961784622,
          334.50081650344913,
          -495.8980795326523,
          -495.89807953265245,
          -92.68762491234152,
          null,
          231.56932900832868,
          293.46792613838477,
          293.46792613838477,
          266.89572687593403,
          266.895726875934,
          597.3435121962648,
          null
         ],
         "xaxis": "x",
         "y": [
          "L46-81-1_InitialState",
          "L133-137-1_InitialState",
          "L42-46-1_InitialState",
          "L126-157-1_InitialState",
          "L220-221-1_InitialState",
          "L81-195-1_InitialState",
          "L231-237-1_InitialState",
          "L220-238-1_InitialState",
          "L194-219-1_InitialState",
          "T130-150-1_InitialState",
          "L3-150-1_InitialState",
          "L216-217-1_InitialState",
          "L126-158-1_InitialState",
          "L45-74-1_InitialState",
          "L62-144-1_InitialState",
          "T143-144-1_InitialState",
          "L45-60-1_InitialState",
          "L60-62-1_InitialState",
          "L16-42-1_InitialState",
          "L158-159-1_InitialState"
         ],
         "yaxis": "y"
        },
        {
         "alignmentgroup": "True",
         "hovertemplate": "Decomposition part:=loop_flow_from_fi<br>Flow decomposition value=%{x}<br>xnec_id=%{y}<extra></extra>",
         "legendgroup": "loop_flow_from_fi",
         "marker": {
          "color": "#F6F926",
          "pattern": {
           "shape": ""
          }
         },
         "name": "loop_flow_from_fi",
         "offsetgroup": "loop_flow_from_fi",
         "orientation": "h",
         "showlegend": true,
         "textposition": "auto",
         "texttemplate": "%{x:.0f}",
         "type": "bar",
         "x": [
          null,
          -636.1417243265815,
          null,
          null,
          null,
          null,
          null,
          76.45695105517885,
          null,
          372.1447943555837,
          372.1447943555838,
          null,
          null,
          null,
          -105.82884289771988,
          -105.8288428977198,
          null,
          null,
          null,
          null
         ],
         "xaxis": "x",
         "y": [
          "L46-81-1_InitialState",
          "L133-137-1_InitialState",
          "L42-46-1_InitialState",
          "L126-157-1_InitialState",
          "L220-221-1_InitialState",
          "L81-195-1_InitialState",
          "L231-237-1_InitialState",
          "L220-238-1_InitialState",
          "L194-219-1_InitialState",
          "T130-150-1_InitialState",
          "L3-150-1_InitialState",
          "L216-217-1_InitialState",
          "L126-158-1_InitialState",
          "L45-74-1_InitialState",
          "L62-144-1_InitialState",
          "T143-144-1_InitialState",
          "L45-60-1_InitialState",
          "L60-62-1_InitialState",
          "L16-42-1_InitialState",
          "L158-159-1_InitialState"
         ],
         "yaxis": "y"
        },
        {
         "alignmentgroup": "True",
         "hovertemplate": "Decomposition part:=loop_flow_from_fr<br>Flow decomposition value=%{x}<br>xnec_id=%{y}<extra></extra>",
         "legendgroup": "loop_flow_from_fr",
         "marker": {
          "color": "#C9FBE5",
          "pattern": {
           "shape": ""
          }
         },
         "name": "loop_flow_from_fr",
         "offsetgroup": "loop_flow_from_fr",
         "orientation": "h",
         "showlegend": true,
         "textposition": "auto",
         "texttemplate": "%{x:.0f}",
         "type": "bar",
         "x": [
          -228.32424476392967,
          -210.59697209013785,
          -181.99731939977372,
          -175.9557469107225,
          -173.70696851668194,
          -166.93944957903966,
          null,
          -155.98097431133246,
          -134.6999324501134,
          -132.69430494168336,
          -132.6943049416833,
          -128.84433740305846,
          -128.019667405099,
          -127.87516524721242,
          -117.64979763780691,
          -117.6497976378064,
          -116.14497972978609,
          -116.14497972978603,
          null,
          -105.40264241777132
         ],
         "xaxis": "x",
         "y": [
          "L46-81-1_InitialState",
          "L133-137-1_InitialState",
          "L42-46-1_InitialState",
          "L126-157-1_InitialState",
          "L220-221-1_InitialState",
          "L81-195-1_InitialState",
          "L231-237-1_InitialState",
          "L220-238-1_InitialState",
          "L194-219-1_InitialState",
          "T130-150-1_InitialState",
          "L3-150-1_InitialState",
          "L216-217-1_InitialState",
          "L126-158-1_InitialState",
          "L45-74-1_InitialState",
          "L62-144-1_InitialState",
          "T143-144-1_InitialState",
          "L45-60-1_InitialState",
          "L60-62-1_InitialState",
          "L16-42-1_InitialState",
          "L158-159-1_InitialState"
         ],
         "yaxis": "y"
        },
        {
         "alignmentgroup": "True",
         "hovertemplate": "Decomposition part:=loop_flow_from_gr<br>Flow decomposition value=%{x}<br>xnec_id=%{y}<extra></extra>",
         "legendgroup": "loop_flow_from_gr",
         "marker": {
          "color": "#FC0080",
          "pattern": {
           "shape": ""
          }
         },
         "name": "loop_flow_from_gr",
         "offsetgroup": "loop_flow_from_gr",
         "orientation": "h",
         "showlegend": true,
         "textposition": "auto",
         "texttemplate": "%{x:.0f}",
         "type": "bar",
         "x": [
          -728.1309012824966,
          281.118775397712,
          -715.7375258961848,
          -247.11074375819325,
          -554.2654326722356,
          -485.2427823908809,
          -1213.1782019863556,
          -186.1224504647913,
          -570.7490063318596,
          211.12733997269268,
          211.1273399726927,
          261.137890929093,
          -193.4740872567306,
          -306.7791677238221,
          -297.6980099442939,
          -297.6980099442943,
          -72.13831959835426,
          -72.13831959835393,
          -879.4285454469166,
          -155.12728775849183
         ],
         "xaxis": "x",
         "y": [
          "L46-81-1_InitialState",
          "L133-137-1_InitialState",
          "L42-46-1_InitialState",
          "L126-157-1_InitialState",
          "L220-221-1_InitialState",
          "L81-195-1_InitialState",
          "L231-237-1_InitialState",
          "L220-238-1_InitialState",
          "L194-219-1_InitialState",
          "T130-150-1_InitialState",
          "L3-150-1_InitialState",
          "L216-217-1_InitialState",
          "L126-158-1_InitialState",
          "L45-74-1_InitialState",
          "L62-144-1_InitialState",
          "T143-144-1_InitialState",
          "L45-60-1_InitialState",
          "L60-62-1_InitialState",
          "L16-42-1_InitialState",
          "L158-159-1_InitialState"
         ],
         "yaxis": "y"
        },
        {
         "alignmentgroup": "True",
         "hovertemplate": "Decomposition part:=loop_flow_from_lt<br>Flow decomposition value=%{x}<br>xnec_id=%{y}<extra></extra>",
         "legendgroup": "loop_flow_from_lt",
         "marker": {
          "color": "#FB0D0D",
          "pattern": {
           "shape": ""
          }
         },
         "name": "loop_flow_from_lt",
         "offsetgroup": "loop_flow_from_lt",
         "orientation": "h",
         "showlegend": true,
         "textposition": "auto",
         "texttemplate": "%{x:.0f}",
         "type": "bar",
         "x": [
          334.6614865331375,
          -379.90463875513603,
          436.6549358969289,
          744.7003199130245,
          273.2053914837097,
          230.88139769202354,
          335.3737752854833,
          null,
          293.93431184553134,
          -174.54237344228244,
          -174.542373442282,
          -119.69336006522032,
          613.5153444506374,
          144.96325993990027,
          -99.85495329970354,
          -99.85495329970398,
          null,
          null,
          362.95076983405363,
          494.0345034504514
         ],
         "xaxis": "x",
         "y": [
          "L46-81-1_InitialState",
          "L133-137-1_InitialState",
          "L42-46-1_InitialState",
          "L126-157-1_InitialState",
          "L220-221-1_InitialState",
          "L81-195-1_InitialState",
          "L231-237-1_InitialState",
          "L220-238-1_InitialState",
          "L194-219-1_InitialState",
          "T130-150-1_InitialState",
          "L3-150-1_InitialState",
          "L216-217-1_InitialState",
          "L126-158-1_InitialState",
          "L45-74-1_InitialState",
          "L62-144-1_InitialState",
          "T143-144-1_InitialState",
          "L45-60-1_InitialState",
          "L60-62-1_InitialState",
          "L16-42-1_InitialState",
          "L158-159-1_InitialState"
         ],
         "yaxis": "y"
        },
        {
         "alignmentgroup": "True",
         "hovertemplate": "Decomposition part:=loop_flow_from_lu<br>Flow decomposition value=%{x}<br>xnec_id=%{y}<extra></extra>",
         "legendgroup": "loop_flow_from_lu",
         "marker": {
          "color": "#D626FF",
          "pattern": {
           "shape": ""
          }
         },
         "name": "loop_flow_from_lu",
         "offsetgroup": "loop_flow_from_lu",
         "orientation": "h",
         "showlegend": true,
         "textposition": "auto",
         "texttemplate": "%{x:.0f}",
         "type": "bar",
         "x": [
          303.8613319647649,
          388.97980040815224,
          263.10773873604995,
          null,
          null,
          203.8347440579916,
          455.25691819725324,
          null,
          226.63230924292833,
          null,
          null,
          -71.16785310582956,
          null,
          146.34201199549113,
          265.4087021991674,
          265.4087021991674,
          167.6106742149812,
          167.61067421498112,
          244.35989135833552,
          null
         ],
         "xaxis": "x",
         "y": [
          "L46-81-1_InitialState",
          "L133-137-1_InitialState",
          "L42-46-1_InitialState",
          "L126-157-1_InitialState",
          "L220-221-1_InitialState",
          "L81-195-1_InitialState",
          "L231-237-1_InitialState",
          "L220-238-1_InitialState",
          "L194-219-1_InitialState",
          "T130-150-1_InitialState",
          "L3-150-1_InitialState",
          "L216-217-1_InitialState",
          "L126-158-1_InitialState",
          "L45-74-1_InitialState",
          "L62-144-1_InitialState",
          "T143-144-1_InitialState",
          "L45-60-1_InitialState",
          "L60-62-1_InitialState",
          "L16-42-1_InitialState",
          "L158-159-1_InitialState"
         ],
         "yaxis": "y"
        },
        {
         "alignmentgroup": "True",
         "hovertemplate": "Decomposition part:=masked_flows_positive<br>Flow decomposition value=%{x}<br>xnec_id=%{y}<extra></extra>",
         "legendgroup": "masked_flows_positive",
         "marker": {
          "color": "#DA16FF",
          "pattern": {
           "shape": ""
          }
         },
         "name": "masked_flows_positive",
         "offsetgroup": "masked_flows_positive",
         "orientation": "h",
         "showlegend": true,
         "textposition": "auto",
         "texttemplate": "%{x:.0f}",
         "type": "bar",
         "x": [
          23.738086888937318,
          25.94446633831724,
          56.90136603362514,
          27.298907786856677,
          1.4990777195815128,
          10.499322395997776,
          0,
          69.46891259084431,
          0,
          91.47746696477375,
          91.4774669647738,
          0,
          25.783692048179375,
          19.762746242090778,
          0,
          0,
          0,
          0,
          0,
          5.988507241208611
         ],
         "xaxis": "x",
         "y": [
          "L46-81-1_InitialState",
          "L133-137-1_InitialState",
          "L42-46-1_InitialState",
          "L126-157-1_InitialState",
          "L220-221-1_InitialState",
          "L81-195-1_InitialState",
          "L231-237-1_InitialState",
          "L220-238-1_InitialState",
          "L194-219-1_InitialState",
          "T130-150-1_InitialState",
          "L3-150-1_InitialState",
          "L216-217-1_InitialState",
          "L126-158-1_InitialState",
          "L45-74-1_InitialState",
          "L62-144-1_InitialState",
          "T143-144-1_InitialState",
          "L45-60-1_InitialState",
          "L60-62-1_InitialState",
          "L16-42-1_InitialState",
          "L158-159-1_InitialState"
         ],
         "yaxis": "y"
        },
        {
         "alignmentgroup": "True",
         "hovertemplate": "Decomposition part:=masked_flows_negative<br>Flow decomposition value=%{x}<br>xnec_id=%{y}<extra></extra>",
         "legendgroup": "masked_flows_negative",
         "marker": {
          "color": "#86CE00",
          "pattern": {
           "shape": ""
          }
         },
         "name": "masked_flows_negative",
         "offsetgroup": "masked_flows_negative",
         "orientation": "h",
         "showlegend": true,
         "textposition": "auto",
         "texttemplate": "%{x:.0f}",
         "type": "bar",
         "x": [
          0,
          0,
          0,
          -68.14038357997374,
          -49.71094704046042,
          0,
          -271.8932546506183,
          0,
          -86.33951758655745,
          0,
          0,
          -27.993204202228256,
          -61.23960987708579,
          -54.37340110282038,
          0,
          0,
          -78.28102750027347,
          -78.28102750027344,
          -123.39616403168168,
          -22.697955594177856
         ],
         "xaxis": "x",
         "y": [
          "L46-81-1_InitialState",
          "L133-137-1_InitialState",
          "L42-46-1_InitialState",
          "L126-157-1_InitialState",
          "L220-221-1_InitialState",
          "L81-195-1_InitialState",
          "L231-237-1_InitialState",
          "L220-238-1_InitialState",
          "L194-219-1_InitialState",
          "T130-150-1_InitialState",
          "L3-150-1_InitialState",
          "L216-217-1_InitialState",
          "L126-158-1_InitialState",
          "L45-74-1_InitialState",
          "L62-144-1_InitialState",
          "T143-144-1_InitialState",
          "L45-60-1_InitialState",
          "L60-62-1_InitialState",
          "L16-42-1_InitialState",
          "L158-159-1_InitialState"
         ],
         "yaxis": "y"
        },
        {
         "mode": "lines+markers",
         "name": "total_flow",
         "type": "scatter",
         "x": [
          256.5241459399378,
          718.3241559707742,
          552.8304851848864,
          28.66699601276859,
          36.05278544946696,
          68.95517580740017,
          428.2478133591643,
          306.0090051809048,
          92.62409415970626,
          25.672613877528363,
          25.672613877529088,
          15.738075795484349,
          38.870440214308836,
          209.71708252469884,
          145.9931341131047,
          145.9931341131043,
          250.30770475863574,
          250.3077047586359,
          439.01715148135884,
          83.83312146560252
         ],
         "y": [
          "L46-81-1_InitialState",
          "L133-137-1_InitialState",
          "L42-46-1_InitialState",
          "L126-157-1_InitialState",
          "L220-221-1_InitialState",
          "L81-195-1_InitialState",
          "L231-237-1_InitialState",
          "L220-238-1_InitialState",
          "L194-219-1_InitialState",
          "T130-150-1_InitialState",
          "L3-150-1_InitialState",
          "L216-217-1_InitialState",
          "L126-158-1_InitialState",
          "L45-74-1_InitialState",
          "L62-144-1_InitialState",
          "T143-144-1_InitialState",
          "L45-60-1_InitialState",
          "L60-62-1_InitialState",
          "L16-42-1_InitialState",
          "L158-159-1_InitialState"
         ]
        },
        {
         "mode": "lines+markers",
         "name": "total_loop_flow",
         "type": "scatter",
         "x": [
          256.5241459399378,
          718.3241559707742,
          552.8304851848864,
          28.66699601276859,
          36.05278544946696,
          68.95517580740017,
          428.2478133591643,
          306.0090051809048,
          92.62409415970626,
          25.672613877528363,
          25.672613877529088,
          15.738075795484349,
          38.870440214308836,
          209.71708252469884,
          145.9931341131047,
          145.9931341131043,
          250.30770475863574,
          250.3077047586359,
          439.01715148135884,
          83.83312146560252
         ],
         "y": [
          "L46-81-1_InitialState",
          "L133-137-1_InitialState",
          "L42-46-1_InitialState",
          "L126-157-1_InitialState",
          "L220-221-1_InitialState",
          "L81-195-1_InitialState",
          "L231-237-1_InitialState",
          "L220-238-1_InitialState",
          "L194-219-1_InitialState",
          "T130-150-1_InitialState",
          "L3-150-1_InitialState",
          "L216-217-1_InitialState",
          "L126-158-1_InitialState",
          "L45-74-1_InitialState",
          "L62-144-1_InitialState",
          "T143-144-1_InitialState",
          "L45-60-1_InitialState",
          "L60-62-1_InitialState",
          "L16-42-1_InitialState",
          "L158-159-1_InitialState"
         ]
        }
       ],
       "layout": {
        "barmode": "relative",
        "height": 1000,
        "legend": {
         "title": {
          "text": "Decomposition part:"
         },
         "tracegroupgap": 0
        },
        "template": {
         "data": {
          "bar": [
           {
            "error_x": {
             "color": "rgb(36,36,36)"
            },
            "error_y": {
             "color": "rgb(36,36,36)"
            },
            "marker": {
             "line": {
              "color": "rgb(234,234,242)",
              "width": 0.5
             },
             "pattern": {
              "fillmode": "overlay",
              "size": 10,
              "solidity": 0.2
             }
            },
            "type": "bar"
           }
          ],
          "barpolar": [
           {
            "marker": {
             "line": {
              "color": "rgb(234,234,242)",
              "width": 0.5
             },
             "pattern": {
              "fillmode": "overlay",
              "size": 10,
              "solidity": 0.2
             }
            },
            "type": "barpolar"
           }
          ],
          "carpet": [
           {
            "aaxis": {
             "endlinecolor": "rgb(36,36,36)",
             "gridcolor": "white",
             "linecolor": "white",
             "minorgridcolor": "white",
             "startlinecolor": "rgb(36,36,36)"
            },
            "baxis": {
             "endlinecolor": "rgb(36,36,36)",
             "gridcolor": "white",
             "linecolor": "white",
             "minorgridcolor": "white",
             "startlinecolor": "rgb(36,36,36)"
            },
            "type": "carpet"
           }
          ],
          "choropleth": [
           {
            "colorbar": {
             "outlinewidth": 0,
             "tickcolor": "rgb(36,36,36)",
             "ticklen": 8,
             "ticks": "outside",
             "tickwidth": 2
            },
            "type": "choropleth"
           }
          ],
          "contour": [
           {
            "colorbar": {
             "outlinewidth": 0,
             "tickcolor": "rgb(36,36,36)",
             "ticklen": 8,
             "ticks": "outside",
             "tickwidth": 2
            },
            "colorscale": [
             [
              0,
              "rgb(2,4,25)"
             ],
             [
              0.06274509803921569,
              "rgb(24,15,41)"
             ],
             [
              0.12549019607843137,
              "rgb(47,23,57)"
             ],
             [
              0.18823529411764706,
              "rgb(71,28,72)"
             ],
             [
              0.25098039215686274,
              "rgb(97,30,82)"
             ],
             [
              0.3137254901960784,
              "rgb(123,30,89)"
             ],
             [
              0.3764705882352941,
              "rgb(150,27,91)"
             ],
             [
              0.4392156862745098,
              "rgb(177,22,88)"
             ],
             [
              0.5019607843137255,
              "rgb(203,26,79)"
             ],
             [
              0.5647058823529412,
              "rgb(223,47,67)"
             ],
             [
              0.6274509803921569,
              "rgb(236,76,61)"
             ],
             [
              0.6901960784313725,
              "rgb(242,107,73)"
             ],
             [
              0.7529411764705882,
              "rgb(244,135,95)"
             ],
             [
              0.8156862745098039,
              "rgb(245,162,122)"
             ],
             [
              0.8784313725490196,
              "rgb(246,188,153)"
             ],
             [
              0.9411764705882353,
              "rgb(247,212,187)"
             ],
             [
              1,
              "rgb(250,234,220)"
             ]
            ],
            "type": "contour"
           }
          ],
          "contourcarpet": [
           {
            "colorbar": {
             "outlinewidth": 0,
             "tickcolor": "rgb(36,36,36)",
             "ticklen": 8,
             "ticks": "outside",
             "tickwidth": 2
            },
            "type": "contourcarpet"
           }
          ],
          "heatmap": [
           {
            "colorbar": {
             "outlinewidth": 0,
             "tickcolor": "rgb(36,36,36)",
             "ticklen": 8,
             "ticks": "outside",
             "tickwidth": 2
            },
            "colorscale": [
             [
              0,
              "rgb(2,4,25)"
             ],
             [
              0.06274509803921569,
              "rgb(24,15,41)"
             ],
             [
              0.12549019607843137,
              "rgb(47,23,57)"
             ],
             [
              0.18823529411764706,
              "rgb(71,28,72)"
             ],
             [
              0.25098039215686274,
              "rgb(97,30,82)"
             ],
             [
              0.3137254901960784,
              "rgb(123,30,89)"
             ],
             [
              0.3764705882352941,
              "rgb(150,27,91)"
             ],
             [
              0.4392156862745098,
              "rgb(177,22,88)"
             ],
             [
              0.5019607843137255,
              "rgb(203,26,79)"
             ],
             [
              0.5647058823529412,
              "rgb(223,47,67)"
             ],
             [
              0.6274509803921569,
              "rgb(236,76,61)"
             ],
             [
              0.6901960784313725,
              "rgb(242,107,73)"
             ],
             [
              0.7529411764705882,
              "rgb(244,135,95)"
             ],
             [
              0.8156862745098039,
              "rgb(245,162,122)"
             ],
             [
              0.8784313725490196,
              "rgb(246,188,153)"
             ],
             [
              0.9411764705882353,
              "rgb(247,212,187)"
             ],
             [
              1,
              "rgb(250,234,220)"
             ]
            ],
            "type": "heatmap"
           }
          ],
          "heatmapgl": [
           {
            "colorbar": {
             "outlinewidth": 0,
             "tickcolor": "rgb(36,36,36)",
             "ticklen": 8,
             "ticks": "outside",
             "tickwidth": 2
            },
            "colorscale": [
             [
              0,
              "rgb(2,4,25)"
             ],
             [
              0.06274509803921569,
              "rgb(24,15,41)"
             ],
             [
              0.12549019607843137,
              "rgb(47,23,57)"
             ],
             [
              0.18823529411764706,
              "rgb(71,28,72)"
             ],
             [
              0.25098039215686274,
              "rgb(97,30,82)"
             ],
             [
              0.3137254901960784,
              "rgb(123,30,89)"
             ],
             [
              0.3764705882352941,
              "rgb(150,27,91)"
             ],
             [
              0.4392156862745098,
              "rgb(177,22,88)"
             ],
             [
              0.5019607843137255,
              "rgb(203,26,79)"
             ],
             [
              0.5647058823529412,
              "rgb(223,47,67)"
             ],
             [
              0.6274509803921569,
              "rgb(236,76,61)"
             ],
             [
              0.6901960784313725,
              "rgb(242,107,73)"
             ],
             [
              0.7529411764705882,
              "rgb(244,135,95)"
             ],
             [
              0.8156862745098039,
              "rgb(245,162,122)"
             ],
             [
              0.8784313725490196,
              "rgb(246,188,153)"
             ],
             [
              0.9411764705882353,
              "rgb(247,212,187)"
             ],
             [
              1,
              "rgb(250,234,220)"
             ]
            ],
            "type": "heatmapgl"
           }
          ],
          "histogram": [
           {
            "marker": {
             "pattern": {
              "fillmode": "overlay",
              "size": 10,
              "solidity": 0.2
             }
            },
            "type": "histogram"
           }
          ],
          "histogram2d": [
           {
            "colorbar": {
             "outlinewidth": 0,
             "tickcolor": "rgb(36,36,36)",
             "ticklen": 8,
             "ticks": "outside",
             "tickwidth": 2
            },
            "colorscale": [
             [
              0,
              "rgb(2,4,25)"
             ],
             [
              0.06274509803921569,
              "rgb(24,15,41)"
             ],
             [
              0.12549019607843137,
              "rgb(47,23,57)"
             ],
             [
              0.18823529411764706,
              "rgb(71,28,72)"
             ],
             [
              0.25098039215686274,
              "rgb(97,30,82)"
             ],
             [
              0.3137254901960784,
              "rgb(123,30,89)"
             ],
             [
              0.3764705882352941,
              "rgb(150,27,91)"
             ],
             [
              0.4392156862745098,
              "rgb(177,22,88)"
             ],
             [
              0.5019607843137255,
              "rgb(203,26,79)"
             ],
             [
              0.5647058823529412,
              "rgb(223,47,67)"
             ],
             [
              0.6274509803921569,
              "rgb(236,76,61)"
             ],
             [
              0.6901960784313725,
              "rgb(242,107,73)"
             ],
             [
              0.7529411764705882,
              "rgb(244,135,95)"
             ],
             [
              0.8156862745098039,
              "rgb(245,162,122)"
             ],
             [
              0.8784313725490196,
              "rgb(246,188,153)"
             ],
             [
              0.9411764705882353,
              "rgb(247,212,187)"
             ],
             [
              1,
              "rgb(250,234,220)"
             ]
            ],
            "type": "histogram2d"
           }
          ],
          "histogram2dcontour": [
           {
            "colorbar": {
             "outlinewidth": 0,
             "tickcolor": "rgb(36,36,36)",
             "ticklen": 8,
             "ticks": "outside",
             "tickwidth": 2
            },
            "colorscale": [
             [
              0,
              "rgb(2,4,25)"
             ],
             [
              0.06274509803921569,
              "rgb(24,15,41)"
             ],
             [
              0.12549019607843137,
              "rgb(47,23,57)"
             ],
             [
              0.18823529411764706,
              "rgb(71,28,72)"
             ],
             [
              0.25098039215686274,
              "rgb(97,30,82)"
             ],
             [
              0.3137254901960784,
              "rgb(123,30,89)"
             ],
             [
              0.3764705882352941,
              "rgb(150,27,91)"
             ],
             [
              0.4392156862745098,
              "rgb(177,22,88)"
             ],
             [
              0.5019607843137255,
              "rgb(203,26,79)"
             ],
             [
              0.5647058823529412,
              "rgb(223,47,67)"
             ],
             [
              0.6274509803921569,
              "rgb(236,76,61)"
             ],
             [
              0.6901960784313725,
              "rgb(242,107,73)"
             ],
             [
              0.7529411764705882,
              "rgb(244,135,95)"
             ],
             [
              0.8156862745098039,
              "rgb(245,162,122)"
             ],
             [
              0.8784313725490196,
              "rgb(246,188,153)"
             ],
             [
              0.9411764705882353,
              "rgb(247,212,187)"
             ],
             [
              1,
              "rgb(250,234,220)"
             ]
            ],
            "type": "histogram2dcontour"
           }
          ],
          "mesh3d": [
           {
            "colorbar": {
             "outlinewidth": 0,
             "tickcolor": "rgb(36,36,36)",
             "ticklen": 8,
             "ticks": "outside",
             "tickwidth": 2
            },
            "type": "mesh3d"
           }
          ],
          "parcoords": [
           {
            "line": {
             "colorbar": {
              "outlinewidth": 0,
              "tickcolor": "rgb(36,36,36)",
              "ticklen": 8,
              "ticks": "outside",
              "tickwidth": 2
             }
            },
            "type": "parcoords"
           }
          ],
          "pie": [
           {
            "automargin": true,
            "type": "pie"
           }
          ],
          "scatter": [
           {
            "fillpattern": {
             "fillmode": "overlay",
             "size": 10,
             "solidity": 0.2
            },
            "type": "scatter"
           }
          ],
          "scatter3d": [
           {
            "line": {
             "colorbar": {
              "outlinewidth": 0,
              "tickcolor": "rgb(36,36,36)",
              "ticklen": 8,
              "ticks": "outside",
              "tickwidth": 2
             }
            },
            "marker": {
             "colorbar": {
              "outlinewidth": 0,
              "tickcolor": "rgb(36,36,36)",
              "ticklen": 8,
              "ticks": "outside",
              "tickwidth": 2
             }
            },
            "type": "scatter3d"
           }
          ],
          "scattercarpet": [
           {
            "marker": {
             "colorbar": {
              "outlinewidth": 0,
              "tickcolor": "rgb(36,36,36)",
              "ticklen": 8,
              "ticks": "outside",
              "tickwidth": 2
             }
            },
            "type": "scattercarpet"
           }
          ],
          "scattergeo": [
           {
            "marker": {
             "colorbar": {
              "outlinewidth": 0,
              "tickcolor": "rgb(36,36,36)",
              "ticklen": 8,
              "ticks": "outside",
              "tickwidth": 2
             }
            },
            "type": "scattergeo"
           }
          ],
          "scattergl": [
           {
            "marker": {
             "colorbar": {
              "outlinewidth": 0,
              "tickcolor": "rgb(36,36,36)",
              "ticklen": 8,
              "ticks": "outside",
              "tickwidth": 2
             }
            },
            "type": "scattergl"
           }
          ],
          "scattermapbox": [
           {
            "marker": {
             "colorbar": {
              "outlinewidth": 0,
              "tickcolor": "rgb(36,36,36)",
              "ticklen": 8,
              "ticks": "outside",
              "tickwidth": 2
             }
            },
            "type": "scattermapbox"
           }
          ],
          "scatterpolar": [
           {
            "marker": {
             "colorbar": {
              "outlinewidth": 0,
              "tickcolor": "rgb(36,36,36)",
              "ticklen": 8,
              "ticks": "outside",
              "tickwidth": 2
             }
            },
            "type": "scatterpolar"
           }
          ],
          "scatterpolargl": [
           {
            "marker": {
             "colorbar": {
              "outlinewidth": 0,
              "tickcolor": "rgb(36,36,36)",
              "ticklen": 8,
              "ticks": "outside",
              "tickwidth": 2
             }
            },
            "type": "scatterpolargl"
           }
          ],
          "scatterternary": [
           {
            "marker": {
             "colorbar": {
              "outlinewidth": 0,
              "tickcolor": "rgb(36,36,36)",
              "ticklen": 8,
              "ticks": "outside",
              "tickwidth": 2
             }
            },
            "type": "scatterternary"
           }
          ],
          "surface": [
           {
            "colorbar": {
             "outlinewidth": 0,
             "tickcolor": "rgb(36,36,36)",
             "ticklen": 8,
             "ticks": "outside",
             "tickwidth": 2
            },
            "colorscale": [
             [
              0,
              "rgb(2,4,25)"
             ],
             [
              0.06274509803921569,
              "rgb(24,15,41)"
             ],
             [
              0.12549019607843137,
              "rgb(47,23,57)"
             ],
             [
              0.18823529411764706,
              "rgb(71,28,72)"
             ],
             [
              0.25098039215686274,
              "rgb(97,30,82)"
             ],
             [
              0.3137254901960784,
              "rgb(123,30,89)"
             ],
             [
              0.3764705882352941,
              "rgb(150,27,91)"
             ],
             [
              0.4392156862745098,
              "rgb(177,22,88)"
             ],
             [
              0.5019607843137255,
              "rgb(203,26,79)"
             ],
             [
              0.5647058823529412,
              "rgb(223,47,67)"
             ],
             [
              0.6274509803921569,
              "rgb(236,76,61)"
             ],
             [
              0.6901960784313725,
              "rgb(242,107,73)"
             ],
             [
              0.7529411764705882,
              "rgb(244,135,95)"
             ],
             [
              0.8156862745098039,
              "rgb(245,162,122)"
             ],
             [
              0.8784313725490196,
              "rgb(246,188,153)"
             ],
             [
              0.9411764705882353,
              "rgb(247,212,187)"
             ],
             [
              1,
              "rgb(250,234,220)"
             ]
            ],
            "type": "surface"
           }
          ],
          "table": [
           {
            "cells": {
             "fill": {
              "color": "rgb(231,231,240)"
             },
             "line": {
              "color": "white"
             }
            },
            "header": {
             "fill": {
              "color": "rgb(183,183,191)"
             },
             "line": {
              "color": "white"
             }
            },
            "type": "table"
           }
          ]
         },
         "layout": {
          "annotationdefaults": {
           "arrowcolor": "rgb(67,103,167)"
          },
          "autotypenumbers": "strict",
          "coloraxis": {
           "colorbar": {
            "outlinewidth": 0,
            "tickcolor": "rgb(36,36,36)",
            "ticklen": 8,
            "ticks": "outside",
            "tickwidth": 2
           }
          },
          "colorscale": {
           "sequential": [
            [
             0,
             "rgb(2,4,25)"
            ],
            [
             0.06274509803921569,
             "rgb(24,15,41)"
            ],
            [
             0.12549019607843137,
             "rgb(47,23,57)"
            ],
            [
             0.18823529411764706,
             "rgb(71,28,72)"
            ],
            [
             0.25098039215686274,
             "rgb(97,30,82)"
            ],
            [
             0.3137254901960784,
             "rgb(123,30,89)"
            ],
            [
             0.3764705882352941,
             "rgb(150,27,91)"
            ],
            [
             0.4392156862745098,
             "rgb(177,22,88)"
            ],
            [
             0.5019607843137255,
             "rgb(203,26,79)"
            ],
            [
             0.5647058823529412,
             "rgb(223,47,67)"
            ],
            [
             0.6274509803921569,
             "rgb(236,76,61)"
            ],
            [
             0.6901960784313725,
             "rgb(242,107,73)"
            ],
            [
             0.7529411764705882,
             "rgb(244,135,95)"
            ],
            [
             0.8156862745098039,
             "rgb(245,162,122)"
            ],
            [
             0.8784313725490196,
             "rgb(246,188,153)"
            ],
            [
             0.9411764705882353,
             "rgb(247,212,187)"
            ],
            [
             1,
             "rgb(250,234,220)"
            ]
           ],
           "sequentialminus": [
            [
             0,
             "rgb(2,4,25)"
            ],
            [
             0.06274509803921569,
             "rgb(24,15,41)"
            ],
            [
             0.12549019607843137,
             "rgb(47,23,57)"
            ],
            [
             0.18823529411764706,
             "rgb(71,28,72)"
            ],
            [
             0.25098039215686274,
             "rgb(97,30,82)"
            ],
            [
             0.3137254901960784,
             "rgb(123,30,89)"
            ],
            [
             0.3764705882352941,
             "rgb(150,27,91)"
            ],
            [
             0.4392156862745098,
             "rgb(177,22,88)"
            ],
            [
             0.5019607843137255,
             "rgb(203,26,79)"
            ],
            [
             0.5647058823529412,
             "rgb(223,47,67)"
            ],
            [
             0.6274509803921569,
             "rgb(236,76,61)"
            ],
            [
             0.6901960784313725,
             "rgb(242,107,73)"
            ],
            [
             0.7529411764705882,
             "rgb(244,135,95)"
            ],
            [
             0.8156862745098039,
             "rgb(245,162,122)"
            ],
            [
             0.8784313725490196,
             "rgb(246,188,153)"
            ],
            [
             0.9411764705882353,
             "rgb(247,212,187)"
            ],
            [
             1,
             "rgb(250,234,220)"
            ]
           ]
          },
          "colorway": [
           "rgb(76,114,176)",
           "rgb(221,132,82)",
           "rgb(85,168,104)",
           "rgb(196,78,82)",
           "rgb(129,114,179)",
           "rgb(147,120,96)",
           "rgb(218,139,195)",
           "rgb(140,140,140)",
           "rgb(204,185,116)",
           "rgb(100,181,205)"
          ],
          "font": {
           "color": "rgb(36,36,36)"
          },
          "geo": {
           "bgcolor": "white",
           "lakecolor": "white",
           "landcolor": "rgb(234,234,242)",
           "showlakes": true,
           "showland": true,
           "subunitcolor": "white"
          },
          "hoverlabel": {
           "align": "left"
          },
          "hovermode": "closest",
          "paper_bgcolor": "white",
          "plot_bgcolor": "rgb(234,234,242)",
          "polar": {
           "angularaxis": {
            "gridcolor": "white",
            "linecolor": "white",
            "showgrid": true,
            "ticks": ""
           },
           "bgcolor": "rgb(234,234,242)",
           "radialaxis": {
            "gridcolor": "white",
            "linecolor": "white",
            "showgrid": true,
            "ticks": ""
           }
          },
          "scene": {
           "xaxis": {
            "backgroundcolor": "rgb(234,234,242)",
            "gridcolor": "white",
            "gridwidth": 2,
            "linecolor": "white",
            "showbackground": true,
            "showgrid": true,
            "ticks": "",
            "zerolinecolor": "white"
           },
           "yaxis": {
            "backgroundcolor": "rgb(234,234,242)",
            "gridcolor": "white",
            "gridwidth": 2,
            "linecolor": "white",
            "showbackground": true,
            "showgrid": true,
            "ticks": "",
            "zerolinecolor": "white"
           },
           "zaxis": {
            "backgroundcolor": "rgb(234,234,242)",
            "gridcolor": "white",
            "gridwidth": 2,
            "linecolor": "white",
            "showbackground": true,
            "showgrid": true,
            "ticks": "",
            "zerolinecolor": "white"
           }
          },
          "shapedefaults": {
           "fillcolor": "rgb(67,103,167)",
           "line": {
            "width": 0
           },
           "opacity": 0.5
          },
          "ternary": {
           "aaxis": {
            "gridcolor": "white",
            "linecolor": "white",
            "showgrid": true,
            "ticks": ""
           },
           "baxis": {
            "gridcolor": "white",
            "linecolor": "white",
            "showgrid": true,
            "ticks": ""
           },
           "bgcolor": "rgb(234,234,242)",
           "caxis": {
            "gridcolor": "white",
            "linecolor": "white",
            "showgrid": true,
            "ticks": ""
           }
          },
          "xaxis": {
           "automargin": true,
           "gridcolor": "white",
           "linecolor": "white",
           "showgrid": true,
           "ticks": "",
           "title": {
            "standoff": 15
           },
           "zerolinecolor": "white"
          },
          "yaxis": {
           "automargin": true,
           "gridcolor": "white",
           "linecolor": "white",
           "showgrid": true,
           "ticks": "",
           "title": {
            "standoff": 15
           },
           "zerolinecolor": "white"
          }
         }
        },
        "title": {
         "text": "Sorted by: loop_flow_from_fr, ascending: True, head: 20"
        },
        "xaxis": {
         "anchor": "y",
         "domain": [
          0,
          1
         ],
         "title": {
          "text": "Flow decomposition value"
         }
        },
        "yaxis": {
         "anchor": "x",
         "domain": [
          0,
          1
         ],
         "title": {
          "text": "xnec_id"
         }
        }
       }
      }
     },
     "metadata": {},
     "output_type": "display_data"
    }
   ],
   "source": [
    "flow_decomposition_bar_chart(f'loop_flow_from_{random.Random(42).choice(list(countries)).alpha_2.lower()}', ascending=True)"
   ]
  },
  {
   "cell_type": "code",
   "execution_count": 16,
   "metadata": {},
   "outputs": [
    {
     "data": {
      "application/vnd.plotly.v1+json": {
       "config": {
        "plotlyServerURL": "https://plot.ly"
       },
       "data": [
        {
         "alignmentgroup": "True",
         "hovertemplate": "Decomposition part:=commercial_flow<br>Flow decomposition value=%{x}<br>xnec_id=%{y}<extra></extra>",
         "legendgroup": "commercial_flow",
         "marker": {
          "color": "#0DF9FF",
          "pattern": {
           "shape": ""
          }
         },
         "name": "commercial_flow",
         "offsetgroup": "commercial_flow",
         "orientation": "h",
         "showlegend": true,
         "textposition": "auto",
         "texttemplate": "%{x:.0f}",
         "type": "bar",
         "x": [
          null,
          null,
          null,
          null,
          null,
          null,
          null,
          null,
          null,
          null,
          null,
          null,
          null,
          null,
          null,
          null,
          null,
          null,
          null,
          null
         ],
         "xaxis": "x",
         "y": [
          "L231-237-1_InitialState",
          "L133-137-1_InitialState",
          "T3-4-1_InitialState",
          "L4-16-1_InitialState",
          "L16-42-1_InitialState",
          "T241-237-1_InitialState",
          "L187-188-1_InitialState",
          "L181-187-1_InitialState",
          "L137-181-1_InitialState",
          "L42-46-1_InitialState",
          "L224-226-1_InitialState",
          "L226-231-1_InitialState",
          "L137-188-1_InitialState",
          "L46-81-1_InitialState",
          "L231-232-1_InitialState",
          "T130-131-1_InitialState",
          "L7-131-1_InitialState",
          "L194-219-1_InitialState",
          "L81-195-1_InitialState",
          "L220-221-1_InitialState"
         ],
         "yaxis": "y"
        },
        {
         "alignmentgroup": "True",
         "hovertemplate": "Decomposition part:=pst_flow<br>Flow decomposition value=%{x}<br>xnec_id=%{y}<extra></extra>",
         "legendgroup": "pst_flow",
         "marker": {
          "color": "#AF0038",
          "pattern": {
           "shape": ""
          }
         },
         "name": "pst_flow",
         "offsetgroup": "pst_flow",
         "orientation": "h",
         "showlegend": true,
         "textposition": "auto",
         "texttemplate": "%{x:.0f}",
         "type": "bar",
         "x": [
          null,
          null,
          null,
          null,
          null,
          null,
          null,
          null,
          null,
          null,
          null,
          null,
          null,
          null,
          null,
          null,
          null,
          null,
          null,
          null
         ],
         "xaxis": "x",
         "y": [
          "L231-237-1_InitialState",
          "L133-137-1_InitialState",
          "T3-4-1_InitialState",
          "L4-16-1_InitialState",
          "L16-42-1_InitialState",
          "T241-237-1_InitialState",
          "L187-188-1_InitialState",
          "L181-187-1_InitialState",
          "L137-181-1_InitialState",
          "L42-46-1_InitialState",
          "L224-226-1_InitialState",
          "L226-231-1_InitialState",
          "L137-188-1_InitialState",
          "L46-81-1_InitialState",
          "L231-232-1_InitialState",
          "T130-131-1_InitialState",
          "L7-131-1_InitialState",
          "L194-219-1_InitialState",
          "L81-195-1_InitialState",
          "L220-221-1_InitialState"
         ],
         "yaxis": "y"
        },
        {
         "alignmentgroup": "True",
         "hovertemplate": "Decomposition part:=loop_flow_from_at<br>Flow decomposition value=%{x}<br>xnec_id=%{y}<extra></extra>",
         "legendgroup": "loop_flow_from_at",
         "marker": {
          "color": "#FD3216",
          "pattern": {
           "shape": ""
          }
         },
         "name": "loop_flow_from_at",
         "offsetgroup": "loop_flow_from_at",
         "orientation": "h",
         "showlegend": true,
         "textposition": "auto",
         "texttemplate": "%{x:.0f}",
         "type": "bar",
         "x": [
          404.4757762897742,
          -410.36518800189424,
          832.0328246689851,
          832.0328246689855,
          827.9483693609509,
          null,
          null,
          null,
          null,
          727.5500166768979,
          304.3402342382424,
          304.34023423824095,
          null,
          558.5584232145833,
          null,
          -224.3266824557533,
          -224.32668245575337,
          329.1740414651905,
          340.2082056743098,
          148.86995472624008
         ],
         "xaxis": "x",
         "y": [
          "L231-237-1_InitialState",
          "L133-137-1_InitialState",
          "T3-4-1_InitialState",
          "L4-16-1_InitialState",
          "L16-42-1_InitialState",
          "T241-237-1_InitialState",
          "L187-188-1_InitialState",
          "L181-187-1_InitialState",
          "L137-181-1_InitialState",
          "L42-46-1_InitialState",
          "L224-226-1_InitialState",
          "L226-231-1_InitialState",
          "L137-188-1_InitialState",
          "L46-81-1_InitialState",
          "L231-232-1_InitialState",
          "T130-131-1_InitialState",
          "L7-131-1_InitialState",
          "L194-219-1_InitialState",
          "L81-195-1_InitialState",
          "L220-221-1_InitialState"
         ],
         "yaxis": "y"
        },
        {
         "alignmentgroup": "True",
         "hovertemplate": "Decomposition part:=loop_flow_from_bg<br>Flow decomposition value=%{x}<br>xnec_id=%{y}<extra></extra>",
         "legendgroup": "loop_flow_from_bg",
         "marker": {
          "color": "#00A08B",
          "pattern": {
           "shape": ""
          }
         },
         "name": "loop_flow_from_bg",
         "offsetgroup": "loop_flow_from_bg",
         "orientation": "h",
         "showlegend": true,
         "textposition": "auto",
         "texttemplate": "%{x:.0f}",
         "type": "bar",
         "x": [
          -275.02750828222827,
          780.4255683576197,
          null,
          null,
          -312.02317454264096,
          null,
          -53.234519133857795,
          74.21196433415994,
          111.27930496710242,
          -348.6894005328385,
          -138.51515461677923,
          -138.51515461677909,
          427.0958251214274,
          -313.9061909907882,
          null,
          402.60969346975844,
          402.6096934697583,
          -299.82892852886255,
          -245.45785290768933,
          96.5602642161711
         ],
         "xaxis": "x",
         "y": [
          "L231-237-1_InitialState",
          "L133-137-1_InitialState",
          "T3-4-1_InitialState",
          "L4-16-1_InitialState",
          "L16-42-1_InitialState",
          "T241-237-1_InitialState",
          "L187-188-1_InitialState",
          "L181-187-1_InitialState",
          "L137-181-1_InitialState",
          "L42-46-1_InitialState",
          "L224-226-1_InitialState",
          "L226-231-1_InitialState",
          "L137-188-1_InitialState",
          "L46-81-1_InitialState",
          "L231-232-1_InitialState",
          "T130-131-1_InitialState",
          "L7-131-1_InitialState",
          "L194-219-1_InitialState",
          "L81-195-1_InitialState",
          "L220-221-1_InitialState"
         ],
         "yaxis": "y"
        },
        {
         "alignmentgroup": "True",
         "hovertemplate": "Decomposition part:=loop_flow_from_cz<br>Flow decomposition value=%{x}<br>xnec_id=%{y}<extra></extra>",
         "legendgroup": "loop_flow_from_cz",
         "marker": {
          "color": "#6C4516",
          "pattern": {
           "shape": ""
          }
         },
         "name": "loop_flow_from_cz",
         "offsetgroup": "loop_flow_from_cz",
         "orientation": "h",
         "showlegend": true,
         "textposition": "auto",
         "texttemplate": "%{x:.0f}",
         "type": "bar",
         "x": [
          null,
          null,
          -297.972508332361,
          -297.97250833236086,
          -278.73750724700676,
          null,
          null,
          null,
          null,
          -237.07620368858392,
          null,
          null,
          null,
          -194.0502458402179,
          null,
          -248.35438559329893,
          -248.35438559329896,
          null,
          -138.84103400116427,
          null
         ],
         "xaxis": "x",
         "y": [
          "L231-237-1_InitialState",
          "L133-137-1_InitialState",
          "T3-4-1_InitialState",
          "L4-16-1_InitialState",
          "L16-42-1_InitialState",
          "T241-237-1_InitialState",
          "L187-188-1_InitialState",
          "L181-187-1_InitialState",
          "L137-181-1_InitialState",
          "L42-46-1_InitialState",
          "L224-226-1_InitialState",
          "L226-231-1_InitialState",
          "L137-188-1_InitialState",
          "L46-81-1_InitialState",
          "L231-232-1_InitialState",
          "T130-131-1_InitialState",
          "L7-131-1_InitialState",
          "L194-219-1_InitialState",
          "L81-195-1_InitialState",
          "L220-221-1_InitialState"
         ],
         "yaxis": "y"
        },
        {
         "alignmentgroup": "True",
         "hovertemplate": "Decomposition part:=loop_flow_from_dk<br>Flow decomposition value=%{x}<br>xnec_id=%{y}<extra></extra>",
         "legendgroup": "loop_flow_from_dk",
         "marker": {
          "color": "#511CFB",
          "pattern": {
           "shape": ""
          }
         },
         "name": "loop_flow_from_dk",
         "offsetgroup": "loop_flow_from_dk",
         "orientation": "h",
         "showlegend": true,
         "textposition": "auto",
         "texttemplate": "%{x:.0f}",
         "type": "bar",
         "x": [
          993.2403085058556,
          878.8640686427228,
          600.9404657851364,
          600.9404657851361,
          597.3435121962648,
          573.7243209876542,
          571.1444139845191,
          567.3499070031355,
          561.1079188544707,
          552.1168773587655,
          511.28356328520806,
          511.2835632852064,
          501.44976234245905,
          500.11640021594707,
          450.4425044091739,
          392.1368867452527,
          392.1368867452526,
          334.50081650344913,
          320.01262486585165,
          293.6014455331426
         ],
         "xaxis": "x",
         "y": [
          "L231-237-1_InitialState",
          "L133-137-1_InitialState",
          "T3-4-1_InitialState",
          "L4-16-1_InitialState",
          "L16-42-1_InitialState",
          "T241-237-1_InitialState",
          "L187-188-1_InitialState",
          "L181-187-1_InitialState",
          "L137-181-1_InitialState",
          "L42-46-1_InitialState",
          "L224-226-1_InitialState",
          "L226-231-1_InitialState",
          "L137-188-1_InitialState",
          "L46-81-1_InitialState",
          "L231-232-1_InitialState",
          "T130-131-1_InitialState",
          "L7-131-1_InitialState",
          "L194-219-1_InitialState",
          "L81-195-1_InitialState",
          "L220-221-1_InitialState"
         ],
         "yaxis": "y"
        },
        {
         "alignmentgroup": "True",
         "hovertemplate": "Decomposition part:=loop_flow_from_fi<br>Flow decomposition value=%{x}<br>xnec_id=%{y}<extra></extra>",
         "legendgroup": "loop_flow_from_fi",
         "marker": {
          "color": "#F6F926",
          "pattern": {
           "shape": ""
          }
         },
         "name": "loop_flow_from_fi",
         "offsetgroup": "loop_flow_from_fi",
         "orientation": "h",
         "showlegend": true,
         "textposition": "auto",
         "texttemplate": "%{x:.0f}",
         "type": "bar",
         "x": [
          null,
          -636.1417243265815,
          null,
          null,
          null,
          null,
          null,
          null,
          -478.99949641450627,
          null,
          null,
          null,
          -432.8043278946951,
          null,
          null,
          -326.4399782669858,
          -326.4399782669857,
          null,
          null,
          null
         ],
         "xaxis": "x",
         "y": [
          "L231-237-1_InitialState",
          "L133-137-1_InitialState",
          "T3-4-1_InitialState",
          "L4-16-1_InitialState",
          "L16-42-1_InitialState",
          "T241-237-1_InitialState",
          "L187-188-1_InitialState",
          "L181-187-1_InitialState",
          "L137-181-1_InitialState",
          "L42-46-1_InitialState",
          "L224-226-1_InitialState",
          "L226-231-1_InitialState",
          "L137-188-1_InitialState",
          "L46-81-1_InitialState",
          "L231-232-1_InitialState",
          "T130-131-1_InitialState",
          "L7-131-1_InitialState",
          "L194-219-1_InitialState",
          "L81-195-1_InitialState",
          "L220-221-1_InitialState"
         ],
         "yaxis": "y"
        },
        {
         "alignmentgroup": "True",
         "hovertemplate": "Decomposition part:=loop_flow_from_fr<br>Flow decomposition value=%{x}<br>xnec_id=%{y}<extra></extra>",
         "legendgroup": "loop_flow_from_fr",
         "marker": {
          "color": "#C9FBE5",
          "pattern": {
           "shape": ""
          }
         },
         "name": "loop_flow_from_fr",
         "offsetgroup": "loop_flow_from_fr",
         "orientation": "h",
         "showlegend": true,
         "textposition": "auto",
         "texttemplate": "%{x:.0f}",
         "type": "bar",
         "x": [
          null,
          -210.59697209013785,
          null,
          null,
          null,
          null,
          null,
          null,
          null,
          -181.99731939977372,
          null,
          null,
          null,
          -228.32424476392967,
          null,
          119.8561981634806,
          119.85619816348057,
          -134.6999324501134,
          -166.93944957903966,
          -173.70696851668194
         ],
         "xaxis": "x",
         "y": [
          "L231-237-1_InitialState",
          "L133-137-1_InitialState",
          "T3-4-1_InitialState",
          "L4-16-1_InitialState",
          "L16-42-1_InitialState",
          "T241-237-1_InitialState",
          "L187-188-1_InitialState",
          "L181-187-1_InitialState",
          "L137-181-1_InitialState",
          "L42-46-1_InitialState",
          "L224-226-1_InitialState",
          "L226-231-1_InitialState",
          "L137-188-1_InitialState",
          "L46-81-1_InitialState",
          "L231-232-1_InitialState",
          "T130-131-1_InitialState",
          "L7-131-1_InitialState",
          "L194-219-1_InitialState",
          "L81-195-1_InitialState",
          "L220-221-1_InitialState"
         ],
         "yaxis": "y"
        },
        {
         "alignmentgroup": "True",
         "hovertemplate": "Decomposition part:=loop_flow_from_gr<br>Flow decomposition value=%{x}<br>xnec_id=%{y}<extra></extra>",
         "legendgroup": "loop_flow_from_gr",
         "marker": {
          "color": "#FC0080",
          "pattern": {
           "shape": ""
          }
         },
         "name": "loop_flow_from_gr",
         "offsetgroup": "loop_flow_from_gr",
         "orientation": "h",
         "showlegend": true,
         "textposition": "auto",
         "texttemplate": "%{x:.0f}",
         "type": "bar",
         "x": [
          -1213.1782019863556,
          281.118775397712,
          -656.0105701214638,
          -656.0105701214636,
          -879.4285454469166,
          -38.264726631393806,
          null,
          null,
          null,
          -715.7375258961848,
          -853.9419394618166,
          -853.9419394618134,
          null,
          -728.1309012824966,
          38.264726631396975,
          -141.230805285918,
          -141.230805285918,
          -570.7490063318596,
          -485.2427823908809,
          -554.2654326722356
         ],
         "xaxis": "x",
         "y": [
          "L231-237-1_InitialState",
          "L133-137-1_InitialState",
          "T3-4-1_InitialState",
          "L4-16-1_InitialState",
          "L16-42-1_InitialState",
          "T241-237-1_InitialState",
          "L187-188-1_InitialState",
          "L181-187-1_InitialState",
          "L137-181-1_InitialState",
          "L42-46-1_InitialState",
          "L224-226-1_InitialState",
          "L226-231-1_InitialState",
          "L137-188-1_InitialState",
          "L46-81-1_InitialState",
          "L231-232-1_InitialState",
          "T130-131-1_InitialState",
          "L7-131-1_InitialState",
          "L194-219-1_InitialState",
          "L81-195-1_InitialState",
          "L220-221-1_InitialState"
         ],
         "yaxis": "y"
        },
        {
         "alignmentgroup": "True",
         "hovertemplate": "Decomposition part:=loop_flow_from_lt<br>Flow decomposition value=%{x}<br>xnec_id=%{y}<extra></extra>",
         "legendgroup": "loop_flow_from_lt",
         "marker": {
          "color": "#FB0D0D",
          "pattern": {
           "shape": ""
          }
         },
         "name": "loop_flow_from_lt",
         "offsetgroup": "loop_flow_from_lt",
         "orientation": "h",
         "showlegend": true,
         "textposition": "auto",
         "texttemplate": "%{x:.0f}",
         "type": "bar",
         "x": [
          335.3737752854833,
          -379.90463875513603,
          310.63432943376756,
          310.6343294337671,
          362.95076983405363,
          null,
          null,
          null,
          null,
          436.6549358969289,
          304.16511494108863,
          304.16511494108613,
          null,
          334.6614865331375,
          null,
          131.95641961558496,
          131.9564196155848,
          293.93431184553134,
          230.88139769202354,
          273.2053914837097
         ],
         "xaxis": "x",
         "y": [
          "L231-237-1_InitialState",
          "L133-137-1_InitialState",
          "T3-4-1_InitialState",
          "L4-16-1_InitialState",
          "L16-42-1_InitialState",
          "T241-237-1_InitialState",
          "L187-188-1_InitialState",
          "L181-187-1_InitialState",
          "L137-181-1_InitialState",
          "L42-46-1_InitialState",
          "L224-226-1_InitialState",
          "L226-231-1_InitialState",
          "L137-188-1_InitialState",
          "L46-81-1_InitialState",
          "L231-232-1_InitialState",
          "T130-131-1_InitialState",
          "L7-131-1_InitialState",
          "L194-219-1_InitialState",
          "L81-195-1_InitialState",
          "L220-221-1_InitialState"
         ],
         "yaxis": "y"
        },
        {
         "alignmentgroup": "True",
         "hovertemplate": "Decomposition part:=loop_flow_from_lu<br>Flow decomposition value=%{x}<br>xnec_id=%{y}<extra></extra>",
         "legendgroup": "loop_flow_from_lu",
         "marker": {
          "color": "#D626FF",
          "pattern": {
           "shape": ""
          }
         },
         "name": "loop_flow_from_lu",
         "offsetgroup": "loop_flow_from_lu",
         "orientation": "h",
         "showlegend": true,
         "textposition": "auto",
         "texttemplate": "%{x:.0f}",
         "type": "bar",
         "x": [
          455.25691819725324,
          388.97980040815224,
          216.47287088934155,
          216.47287088934195,
          244.35989135833552,
          null,
          null,
          null,
          null,
          263.10773873604995,
          null,
          null,
          null,
          303.8613319647649,
          96.86409171075931,
          null,
          null,
          226.63230924292833,
          203.8347440579916,
          null
         ],
         "xaxis": "x",
         "y": [
          "L231-237-1_InitialState",
          "L133-137-1_InitialState",
          "T3-4-1_InitialState",
          "L4-16-1_InitialState",
          "L16-42-1_InitialState",
          "T241-237-1_InitialState",
          "L187-188-1_InitialState",
          "L181-187-1_InitialState",
          "L137-181-1_InitialState",
          "L42-46-1_InitialState",
          "L224-226-1_InitialState",
          "L226-231-1_InitialState",
          "L137-188-1_InitialState",
          "L46-81-1_InitialState",
          "L231-232-1_InitialState",
          "T130-131-1_InitialState",
          "L7-131-1_InitialState",
          "L194-219-1_InitialState",
          "L81-195-1_InitialState",
          "L220-221-1_InitialState"
         ],
         "yaxis": "y"
        },
        {
         "alignmentgroup": "True",
         "hovertemplate": "Decomposition part:=masked_flows_positive<br>Flow decomposition value=%{x}<br>xnec_id=%{y}<extra></extra>",
         "legendgroup": "masked_flows_positive",
         "marker": {
          "color": "#DA16FF",
          "pattern": {
           "shape": ""
          }
         },
         "name": "masked_flows_positive",
         "offsetgroup": "masked_flows_positive",
         "orientation": "h",
         "showlegend": true,
         "textposition": "auto",
         "texttemplate": "%{x:.0f}",
         "type": "bar",
         "x": [
          0,
          25.94446633831724,
          0,
          0,
          0,
          69.46685815066752,
          11.00072534816191,
          45.30831129313356,
          27.357079261785806,
          56.90136603362514,
          8.133985402930254,
          8.133985402930538,
          34.16940822849631,
          23.738086888937318,
          28.759627110110674,
          0,
          0,
          0,
          10.499322395997776,
          1.4990777195815128
         ],
         "xaxis": "x",
         "y": [
          "L231-237-1_InitialState",
          "L133-137-1_InitialState",
          "T3-4-1_InitialState",
          "L4-16-1_InitialState",
          "L16-42-1_InitialState",
          "T241-237-1_InitialState",
          "L187-188-1_InitialState",
          "L181-187-1_InitialState",
          "L137-181-1_InitialState",
          "L42-46-1_InitialState",
          "L224-226-1_InitialState",
          "L226-231-1_InitialState",
          "L137-188-1_InitialState",
          "L46-81-1_InitialState",
          "L231-232-1_InitialState",
          "T130-131-1_InitialState",
          "L7-131-1_InitialState",
          "L194-219-1_InitialState",
          "L81-195-1_InitialState",
          "L220-221-1_InitialState"
         ],
         "yaxis": "y"
        },
        {
         "alignmentgroup": "True",
         "hovertemplate": "Decomposition part:=masked_flows_negative<br>Flow decomposition value=%{x}<br>xnec_id=%{y}<extra></extra>",
         "legendgroup": "masked_flows_negative",
         "marker": {
          "color": "#86CE00",
          "pattern": {
           "shape": ""
          }
         },
         "name": "masked_flows_negative",
         "offsetgroup": "masked_flows_negative",
         "orientation": "h",
         "showlegend": true,
         "textposition": "auto",
         "texttemplate": "%{x:.0f}",
         "type": "bar",
         "x": [
          -271.8932546506183,
          0,
          -227.5702135593851,
          -227.57021355938508,
          -123.39616403168168,
          -28.759627110103043,
          -37.09022564151732,
          -37.75375179090872,
          -125.5963249434137,
          0,
          -124.99224003198793,
          -124.99224003198661,
          -94.17072055013455,
          0,
          -63.06777525825594,
          -99.63818408798144,
          -99.63818408798149,
          -86.33951758655745,
          0,
          -49.71094704046042
         ],
         "xaxis": "x",
         "y": [
          "L231-237-1_InitialState",
          "L133-137-1_InitialState",
          "T3-4-1_InitialState",
          "L4-16-1_InitialState",
          "L16-42-1_InitialState",
          "T241-237-1_InitialState",
          "L187-188-1_InitialState",
          "L181-187-1_InitialState",
          "L137-181-1_InitialState",
          "L42-46-1_InitialState",
          "L224-226-1_InitialState",
          "L226-231-1_InitialState",
          "L137-188-1_InitialState",
          "L46-81-1_InitialState",
          "L231-232-1_InitialState",
          "T130-131-1_InitialState",
          "L7-131-1_InitialState",
          "L194-219-1_InitialState",
          "L81-195-1_InitialState",
          "L220-221-1_InitialState"
         ],
         "yaxis": "y"
        },
        {
         "mode": "lines+markers",
         "name": "total_flow",
         "type": "scatter",
         "x": [
          428.2478133591643,
          718.3241559707742,
          778.5271987640208,
          778.5271987640211,
          439.01715148135884,
          576.166825396825,
          491.82039455730603,
          649.1164308395203,
          95.14848172543881,
          552.8304851848864,
          10.47356375688565,
          10.47356375688493,
          435.7399472475531,
          256.5241459399378,
          551.2631746031849,
          6.56916230413924,
          6.5691623041387714,
          92.62409415970626,
          68.95517580740017,
          36.05278544946696
         ],
         "y": [
          "L231-237-1_InitialState",
          "L133-137-1_InitialState",
          "T3-4-1_InitialState",
          "L4-16-1_InitialState",
          "L16-42-1_InitialState",
          "T241-237-1_InitialState",
          "L187-188-1_InitialState",
          "L181-187-1_InitialState",
          "L137-181-1_InitialState",
          "L42-46-1_InitialState",
          "L224-226-1_InitialState",
          "L226-231-1_InitialState",
          "L137-188-1_InitialState",
          "L46-81-1_InitialState",
          "L231-232-1_InitialState",
          "T130-131-1_InitialState",
          "L7-131-1_InitialState",
          "L194-219-1_InitialState",
          "L81-195-1_InitialState",
          "L220-221-1_InitialState"
         ]
        },
        {
         "mode": "lines+markers",
         "name": "total_loop_flow",
         "type": "scatter",
         "x": [
          428.2478133591643,
          718.3241559707742,
          778.5271987640208,
          778.5271987640211,
          439.01715148135884,
          576.166825396825,
          491.82039455730603,
          649.1164308395203,
          95.14848172543881,
          552.8304851848864,
          10.47356375688565,
          10.47356375688493,
          435.7399472475531,
          256.5241459399378,
          551.2631746031849,
          6.56916230413924,
          6.5691623041387714,
          92.62409415970626,
          68.95517580740017,
          36.05278544946696
         ],
         "y": [
          "L231-237-1_InitialState",
          "L133-137-1_InitialState",
          "T3-4-1_InitialState",
          "L4-16-1_InitialState",
          "L16-42-1_InitialState",
          "T241-237-1_InitialState",
          "L187-188-1_InitialState",
          "L181-187-1_InitialState",
          "L137-181-1_InitialState",
          "L42-46-1_InitialState",
          "L224-226-1_InitialState",
          "L226-231-1_InitialState",
          "L137-188-1_InitialState",
          "L46-81-1_InitialState",
          "L231-232-1_InitialState",
          "T130-131-1_InitialState",
          "L7-131-1_InitialState",
          "L194-219-1_InitialState",
          "L81-195-1_InitialState",
          "L220-221-1_InitialState"
         ]
        }
       ],
       "layout": {
        "barmode": "relative",
        "height": 1000,
        "legend": {
         "title": {
          "text": "Decomposition part:"
         },
         "tracegroupgap": 0
        },
        "template": {
         "data": {
          "bar": [
           {
            "error_x": {
             "color": "rgb(36,36,36)"
            },
            "error_y": {
             "color": "rgb(36,36,36)"
            },
            "marker": {
             "line": {
              "color": "rgb(234,234,242)",
              "width": 0.5
             },
             "pattern": {
              "fillmode": "overlay",
              "size": 10,
              "solidity": 0.2
             }
            },
            "type": "bar"
           }
          ],
          "barpolar": [
           {
            "marker": {
             "line": {
              "color": "rgb(234,234,242)",
              "width": 0.5
             },
             "pattern": {
              "fillmode": "overlay",
              "size": 10,
              "solidity": 0.2
             }
            },
            "type": "barpolar"
           }
          ],
          "carpet": [
           {
            "aaxis": {
             "endlinecolor": "rgb(36,36,36)",
             "gridcolor": "white",
             "linecolor": "white",
             "minorgridcolor": "white",
             "startlinecolor": "rgb(36,36,36)"
            },
            "baxis": {
             "endlinecolor": "rgb(36,36,36)",
             "gridcolor": "white",
             "linecolor": "white",
             "minorgridcolor": "white",
             "startlinecolor": "rgb(36,36,36)"
            },
            "type": "carpet"
           }
          ],
          "choropleth": [
           {
            "colorbar": {
             "outlinewidth": 0,
             "tickcolor": "rgb(36,36,36)",
             "ticklen": 8,
             "ticks": "outside",
             "tickwidth": 2
            },
            "type": "choropleth"
           }
          ],
          "contour": [
           {
            "colorbar": {
             "outlinewidth": 0,
             "tickcolor": "rgb(36,36,36)",
             "ticklen": 8,
             "ticks": "outside",
             "tickwidth": 2
            },
            "colorscale": [
             [
              0,
              "rgb(2,4,25)"
             ],
             [
              0.06274509803921569,
              "rgb(24,15,41)"
             ],
             [
              0.12549019607843137,
              "rgb(47,23,57)"
             ],
             [
              0.18823529411764706,
              "rgb(71,28,72)"
             ],
             [
              0.25098039215686274,
              "rgb(97,30,82)"
             ],
             [
              0.3137254901960784,
              "rgb(123,30,89)"
             ],
             [
              0.3764705882352941,
              "rgb(150,27,91)"
             ],
             [
              0.4392156862745098,
              "rgb(177,22,88)"
             ],
             [
              0.5019607843137255,
              "rgb(203,26,79)"
             ],
             [
              0.5647058823529412,
              "rgb(223,47,67)"
             ],
             [
              0.6274509803921569,
              "rgb(236,76,61)"
             ],
             [
              0.6901960784313725,
              "rgb(242,107,73)"
             ],
             [
              0.7529411764705882,
              "rgb(244,135,95)"
             ],
             [
              0.8156862745098039,
              "rgb(245,162,122)"
             ],
             [
              0.8784313725490196,
              "rgb(246,188,153)"
             ],
             [
              0.9411764705882353,
              "rgb(247,212,187)"
             ],
             [
              1,
              "rgb(250,234,220)"
             ]
            ],
            "type": "contour"
           }
          ],
          "contourcarpet": [
           {
            "colorbar": {
             "outlinewidth": 0,
             "tickcolor": "rgb(36,36,36)",
             "ticklen": 8,
             "ticks": "outside",
             "tickwidth": 2
            },
            "type": "contourcarpet"
           }
          ],
          "heatmap": [
           {
            "colorbar": {
             "outlinewidth": 0,
             "tickcolor": "rgb(36,36,36)",
             "ticklen": 8,
             "ticks": "outside",
             "tickwidth": 2
            },
            "colorscale": [
             [
              0,
              "rgb(2,4,25)"
             ],
             [
              0.06274509803921569,
              "rgb(24,15,41)"
             ],
             [
              0.12549019607843137,
              "rgb(47,23,57)"
             ],
             [
              0.18823529411764706,
              "rgb(71,28,72)"
             ],
             [
              0.25098039215686274,
              "rgb(97,30,82)"
             ],
             [
              0.3137254901960784,
              "rgb(123,30,89)"
             ],
             [
              0.3764705882352941,
              "rgb(150,27,91)"
             ],
             [
              0.4392156862745098,
              "rgb(177,22,88)"
             ],
             [
              0.5019607843137255,
              "rgb(203,26,79)"
             ],
             [
              0.5647058823529412,
              "rgb(223,47,67)"
             ],
             [
              0.6274509803921569,
              "rgb(236,76,61)"
             ],
             [
              0.6901960784313725,
              "rgb(242,107,73)"
             ],
             [
              0.7529411764705882,
              "rgb(244,135,95)"
             ],
             [
              0.8156862745098039,
              "rgb(245,162,122)"
             ],
             [
              0.8784313725490196,
              "rgb(246,188,153)"
             ],
             [
              0.9411764705882353,
              "rgb(247,212,187)"
             ],
             [
              1,
              "rgb(250,234,220)"
             ]
            ],
            "type": "heatmap"
           }
          ],
          "heatmapgl": [
           {
            "colorbar": {
             "outlinewidth": 0,
             "tickcolor": "rgb(36,36,36)",
             "ticklen": 8,
             "ticks": "outside",
             "tickwidth": 2
            },
            "colorscale": [
             [
              0,
              "rgb(2,4,25)"
             ],
             [
              0.06274509803921569,
              "rgb(24,15,41)"
             ],
             [
              0.12549019607843137,
              "rgb(47,23,57)"
             ],
             [
              0.18823529411764706,
              "rgb(71,28,72)"
             ],
             [
              0.25098039215686274,
              "rgb(97,30,82)"
             ],
             [
              0.3137254901960784,
              "rgb(123,30,89)"
             ],
             [
              0.3764705882352941,
              "rgb(150,27,91)"
             ],
             [
              0.4392156862745098,
              "rgb(177,22,88)"
             ],
             [
              0.5019607843137255,
              "rgb(203,26,79)"
             ],
             [
              0.5647058823529412,
              "rgb(223,47,67)"
             ],
             [
              0.6274509803921569,
              "rgb(236,76,61)"
             ],
             [
              0.6901960784313725,
              "rgb(242,107,73)"
             ],
             [
              0.7529411764705882,
              "rgb(244,135,95)"
             ],
             [
              0.8156862745098039,
              "rgb(245,162,122)"
             ],
             [
              0.8784313725490196,
              "rgb(246,188,153)"
             ],
             [
              0.9411764705882353,
              "rgb(247,212,187)"
             ],
             [
              1,
              "rgb(250,234,220)"
             ]
            ],
            "type": "heatmapgl"
           }
          ],
          "histogram": [
           {
            "marker": {
             "pattern": {
              "fillmode": "overlay",
              "size": 10,
              "solidity": 0.2
             }
            },
            "type": "histogram"
           }
          ],
          "histogram2d": [
           {
            "colorbar": {
             "outlinewidth": 0,
             "tickcolor": "rgb(36,36,36)",
             "ticklen": 8,
             "ticks": "outside",
             "tickwidth": 2
            },
            "colorscale": [
             [
              0,
              "rgb(2,4,25)"
             ],
             [
              0.06274509803921569,
              "rgb(24,15,41)"
             ],
             [
              0.12549019607843137,
              "rgb(47,23,57)"
             ],
             [
              0.18823529411764706,
              "rgb(71,28,72)"
             ],
             [
              0.25098039215686274,
              "rgb(97,30,82)"
             ],
             [
              0.3137254901960784,
              "rgb(123,30,89)"
             ],
             [
              0.3764705882352941,
              "rgb(150,27,91)"
             ],
             [
              0.4392156862745098,
              "rgb(177,22,88)"
             ],
             [
              0.5019607843137255,
              "rgb(203,26,79)"
             ],
             [
              0.5647058823529412,
              "rgb(223,47,67)"
             ],
             [
              0.6274509803921569,
              "rgb(236,76,61)"
             ],
             [
              0.6901960784313725,
              "rgb(242,107,73)"
             ],
             [
              0.7529411764705882,
              "rgb(244,135,95)"
             ],
             [
              0.8156862745098039,
              "rgb(245,162,122)"
             ],
             [
              0.8784313725490196,
              "rgb(246,188,153)"
             ],
             [
              0.9411764705882353,
              "rgb(247,212,187)"
             ],
             [
              1,
              "rgb(250,234,220)"
             ]
            ],
            "type": "histogram2d"
           }
          ],
          "histogram2dcontour": [
           {
            "colorbar": {
             "outlinewidth": 0,
             "tickcolor": "rgb(36,36,36)",
             "ticklen": 8,
             "ticks": "outside",
             "tickwidth": 2
            },
            "colorscale": [
             [
              0,
              "rgb(2,4,25)"
             ],
             [
              0.06274509803921569,
              "rgb(24,15,41)"
             ],
             [
              0.12549019607843137,
              "rgb(47,23,57)"
             ],
             [
              0.18823529411764706,
              "rgb(71,28,72)"
             ],
             [
              0.25098039215686274,
              "rgb(97,30,82)"
             ],
             [
              0.3137254901960784,
              "rgb(123,30,89)"
             ],
             [
              0.3764705882352941,
              "rgb(150,27,91)"
             ],
             [
              0.4392156862745098,
              "rgb(177,22,88)"
             ],
             [
              0.5019607843137255,
              "rgb(203,26,79)"
             ],
             [
              0.5647058823529412,
              "rgb(223,47,67)"
             ],
             [
              0.6274509803921569,
              "rgb(236,76,61)"
             ],
             [
              0.6901960784313725,
              "rgb(242,107,73)"
             ],
             [
              0.7529411764705882,
              "rgb(244,135,95)"
             ],
             [
              0.8156862745098039,
              "rgb(245,162,122)"
             ],
             [
              0.8784313725490196,
              "rgb(246,188,153)"
             ],
             [
              0.9411764705882353,
              "rgb(247,212,187)"
             ],
             [
              1,
              "rgb(250,234,220)"
             ]
            ],
            "type": "histogram2dcontour"
           }
          ],
          "mesh3d": [
           {
            "colorbar": {
             "outlinewidth": 0,
             "tickcolor": "rgb(36,36,36)",
             "ticklen": 8,
             "ticks": "outside",
             "tickwidth": 2
            },
            "type": "mesh3d"
           }
          ],
          "parcoords": [
           {
            "line": {
             "colorbar": {
              "outlinewidth": 0,
              "tickcolor": "rgb(36,36,36)",
              "ticklen": 8,
              "ticks": "outside",
              "tickwidth": 2
             }
            },
            "type": "parcoords"
           }
          ],
          "pie": [
           {
            "automargin": true,
            "type": "pie"
           }
          ],
          "scatter": [
           {
            "fillpattern": {
             "fillmode": "overlay",
             "size": 10,
             "solidity": 0.2
            },
            "type": "scatter"
           }
          ],
          "scatter3d": [
           {
            "line": {
             "colorbar": {
              "outlinewidth": 0,
              "tickcolor": "rgb(36,36,36)",
              "ticklen": 8,
              "ticks": "outside",
              "tickwidth": 2
             }
            },
            "marker": {
             "colorbar": {
              "outlinewidth": 0,
              "tickcolor": "rgb(36,36,36)",
              "ticklen": 8,
              "ticks": "outside",
              "tickwidth": 2
             }
            },
            "type": "scatter3d"
           }
          ],
          "scattercarpet": [
           {
            "marker": {
             "colorbar": {
              "outlinewidth": 0,
              "tickcolor": "rgb(36,36,36)",
              "ticklen": 8,
              "ticks": "outside",
              "tickwidth": 2
             }
            },
            "type": "scattercarpet"
           }
          ],
          "scattergeo": [
           {
            "marker": {
             "colorbar": {
              "outlinewidth": 0,
              "tickcolor": "rgb(36,36,36)",
              "ticklen": 8,
              "ticks": "outside",
              "tickwidth": 2
             }
            },
            "type": "scattergeo"
           }
          ],
          "scattergl": [
           {
            "marker": {
             "colorbar": {
              "outlinewidth": 0,
              "tickcolor": "rgb(36,36,36)",
              "ticklen": 8,
              "ticks": "outside",
              "tickwidth": 2
             }
            },
            "type": "scattergl"
           }
          ],
          "scattermapbox": [
           {
            "marker": {
             "colorbar": {
              "outlinewidth": 0,
              "tickcolor": "rgb(36,36,36)",
              "ticklen": 8,
              "ticks": "outside",
              "tickwidth": 2
             }
            },
            "type": "scattermapbox"
           }
          ],
          "scatterpolar": [
           {
            "marker": {
             "colorbar": {
              "outlinewidth": 0,
              "tickcolor": "rgb(36,36,36)",
              "ticklen": 8,
              "ticks": "outside",
              "tickwidth": 2
             }
            },
            "type": "scatterpolar"
           }
          ],
          "scatterpolargl": [
           {
            "marker": {
             "colorbar": {
              "outlinewidth": 0,
              "tickcolor": "rgb(36,36,36)",
              "ticklen": 8,
              "ticks": "outside",
              "tickwidth": 2
             }
            },
            "type": "scatterpolargl"
           }
          ],
          "scatterternary": [
           {
            "marker": {
             "colorbar": {
              "outlinewidth": 0,
              "tickcolor": "rgb(36,36,36)",
              "ticklen": 8,
              "ticks": "outside",
              "tickwidth": 2
             }
            },
            "type": "scatterternary"
           }
          ],
          "surface": [
           {
            "colorbar": {
             "outlinewidth": 0,
             "tickcolor": "rgb(36,36,36)",
             "ticklen": 8,
             "ticks": "outside",
             "tickwidth": 2
            },
            "colorscale": [
             [
              0,
              "rgb(2,4,25)"
             ],
             [
              0.06274509803921569,
              "rgb(24,15,41)"
             ],
             [
              0.12549019607843137,
              "rgb(47,23,57)"
             ],
             [
              0.18823529411764706,
              "rgb(71,28,72)"
             ],
             [
              0.25098039215686274,
              "rgb(97,30,82)"
             ],
             [
              0.3137254901960784,
              "rgb(123,30,89)"
             ],
             [
              0.3764705882352941,
              "rgb(150,27,91)"
             ],
             [
              0.4392156862745098,
              "rgb(177,22,88)"
             ],
             [
              0.5019607843137255,
              "rgb(203,26,79)"
             ],
             [
              0.5647058823529412,
              "rgb(223,47,67)"
             ],
             [
              0.6274509803921569,
              "rgb(236,76,61)"
             ],
             [
              0.6901960784313725,
              "rgb(242,107,73)"
             ],
             [
              0.7529411764705882,
              "rgb(244,135,95)"
             ],
             [
              0.8156862745098039,
              "rgb(245,162,122)"
             ],
             [
              0.8784313725490196,
              "rgb(246,188,153)"
             ],
             [
              0.9411764705882353,
              "rgb(247,212,187)"
             ],
             [
              1,
              "rgb(250,234,220)"
             ]
            ],
            "type": "surface"
           }
          ],
          "table": [
           {
            "cells": {
             "fill": {
              "color": "rgb(231,231,240)"
             },
             "line": {
              "color": "white"
             }
            },
            "header": {
             "fill": {
              "color": "rgb(183,183,191)"
             },
             "line": {
              "color": "white"
             }
            },
            "type": "table"
           }
          ]
         },
         "layout": {
          "annotationdefaults": {
           "arrowcolor": "rgb(67,103,167)"
          },
          "autotypenumbers": "strict",
          "coloraxis": {
           "colorbar": {
            "outlinewidth": 0,
            "tickcolor": "rgb(36,36,36)",
            "ticklen": 8,
            "ticks": "outside",
            "tickwidth": 2
           }
          },
          "colorscale": {
           "sequential": [
            [
             0,
             "rgb(2,4,25)"
            ],
            [
             0.06274509803921569,
             "rgb(24,15,41)"
            ],
            [
             0.12549019607843137,
             "rgb(47,23,57)"
            ],
            [
             0.18823529411764706,
             "rgb(71,28,72)"
            ],
            [
             0.25098039215686274,
             "rgb(97,30,82)"
            ],
            [
             0.3137254901960784,
             "rgb(123,30,89)"
            ],
            [
             0.3764705882352941,
             "rgb(150,27,91)"
            ],
            [
             0.4392156862745098,
             "rgb(177,22,88)"
            ],
            [
             0.5019607843137255,
             "rgb(203,26,79)"
            ],
            [
             0.5647058823529412,
             "rgb(223,47,67)"
            ],
            [
             0.6274509803921569,
             "rgb(236,76,61)"
            ],
            [
             0.6901960784313725,
             "rgb(242,107,73)"
            ],
            [
             0.7529411764705882,
             "rgb(244,135,95)"
            ],
            [
             0.8156862745098039,
             "rgb(245,162,122)"
            ],
            [
             0.8784313725490196,
             "rgb(246,188,153)"
            ],
            [
             0.9411764705882353,
             "rgb(247,212,187)"
            ],
            [
             1,
             "rgb(250,234,220)"
            ]
           ],
           "sequentialminus": [
            [
             0,
             "rgb(2,4,25)"
            ],
            [
             0.06274509803921569,
             "rgb(24,15,41)"
            ],
            [
             0.12549019607843137,
             "rgb(47,23,57)"
            ],
            [
             0.18823529411764706,
             "rgb(71,28,72)"
            ],
            [
             0.25098039215686274,
             "rgb(97,30,82)"
            ],
            [
             0.3137254901960784,
             "rgb(123,30,89)"
            ],
            [
             0.3764705882352941,
             "rgb(150,27,91)"
            ],
            [
             0.4392156862745098,
             "rgb(177,22,88)"
            ],
            [
             0.5019607843137255,
             "rgb(203,26,79)"
            ],
            [
             0.5647058823529412,
             "rgb(223,47,67)"
            ],
            [
             0.6274509803921569,
             "rgb(236,76,61)"
            ],
            [
             0.6901960784313725,
             "rgb(242,107,73)"
            ],
            [
             0.7529411764705882,
             "rgb(244,135,95)"
            ],
            [
             0.8156862745098039,
             "rgb(245,162,122)"
            ],
            [
             0.8784313725490196,
             "rgb(246,188,153)"
            ],
            [
             0.9411764705882353,
             "rgb(247,212,187)"
            ],
            [
             1,
             "rgb(250,234,220)"
            ]
           ]
          },
          "colorway": [
           "rgb(76,114,176)",
           "rgb(221,132,82)",
           "rgb(85,168,104)",
           "rgb(196,78,82)",
           "rgb(129,114,179)",
           "rgb(147,120,96)",
           "rgb(218,139,195)",
           "rgb(140,140,140)",
           "rgb(204,185,116)",
           "rgb(100,181,205)"
          ],
          "font": {
           "color": "rgb(36,36,36)"
          },
          "geo": {
           "bgcolor": "white",
           "lakecolor": "white",
           "landcolor": "rgb(234,234,242)",
           "showlakes": true,
           "showland": true,
           "subunitcolor": "white"
          },
          "hoverlabel": {
           "align": "left"
          },
          "hovermode": "closest",
          "paper_bgcolor": "white",
          "plot_bgcolor": "rgb(234,234,242)",
          "polar": {
           "angularaxis": {
            "gridcolor": "white",
            "linecolor": "white",
            "showgrid": true,
            "ticks": ""
           },
           "bgcolor": "rgb(234,234,242)",
           "radialaxis": {
            "gridcolor": "white",
            "linecolor": "white",
            "showgrid": true,
            "ticks": ""
           }
          },
          "scene": {
           "xaxis": {
            "backgroundcolor": "rgb(234,234,242)",
            "gridcolor": "white",
            "gridwidth": 2,
            "linecolor": "white",
            "showbackground": true,
            "showgrid": true,
            "ticks": "",
            "zerolinecolor": "white"
           },
           "yaxis": {
            "backgroundcolor": "rgb(234,234,242)",
            "gridcolor": "white",
            "gridwidth": 2,
            "linecolor": "white",
            "showbackground": true,
            "showgrid": true,
            "ticks": "",
            "zerolinecolor": "white"
           },
           "zaxis": {
            "backgroundcolor": "rgb(234,234,242)",
            "gridcolor": "white",
            "gridwidth": 2,
            "linecolor": "white",
            "showbackground": true,
            "showgrid": true,
            "ticks": "",
            "zerolinecolor": "white"
           }
          },
          "shapedefaults": {
           "fillcolor": "rgb(67,103,167)",
           "line": {
            "width": 0
           },
           "opacity": 0.5
          },
          "ternary": {
           "aaxis": {
            "gridcolor": "white",
            "linecolor": "white",
            "showgrid": true,
            "ticks": ""
           },
           "baxis": {
            "gridcolor": "white",
            "linecolor": "white",
            "showgrid": true,
            "ticks": ""
           },
           "bgcolor": "rgb(234,234,242)",
           "caxis": {
            "gridcolor": "white",
            "linecolor": "white",
            "showgrid": true,
            "ticks": ""
           }
          },
          "xaxis": {
           "automargin": true,
           "gridcolor": "white",
           "linecolor": "white",
           "showgrid": true,
           "ticks": "",
           "title": {
            "standoff": 15
           },
           "zerolinecolor": "white"
          },
          "yaxis": {
           "automargin": true,
           "gridcolor": "white",
           "linecolor": "white",
           "showgrid": true,
           "ticks": "",
           "title": {
            "standoff": 15
           },
           "zerolinecolor": "white"
          }
         }
        },
        "title": {
         "text": "Sorted by: loop_flow_from_dk, ascending: False, head: 20"
        },
        "xaxis": {
         "anchor": "y",
         "domain": [
          0,
          1
         ],
         "title": {
          "text": "Flow decomposition value"
         }
        },
        "yaxis": {
         "anchor": "x",
         "domain": [
          0,
          1
         ],
         "title": {
          "text": "xnec_id"
         }
        }
       }
      }
     },
     "metadata": {},
     "output_type": "display_data"
    }
   ],
   "source": [
    "flow_decomposition_bar_chart(f'loop_flow_from_{random.Random(12).choice(list(countries)).alpha_2.lower()}')"
   ]
  },
  {
   "cell_type": "markdown",
   "metadata": {},
   "source": [
    "# Loop flow repartition from source\n",
    "\n",
    "Loop flows are sum for each source."
   ]
  },
  {
   "cell_type": "code",
   "execution_count": 17,
   "metadata": {},
   "outputs": [],
   "source": [
    "c1, c2 = 'country1', 'country2'\n",
    "df_sum1 = flow_dec.groupby(c1).sum().transpose()\n",
    "df_sum2 = flow_dec.groupby(c2).sum().transpose()\n",
    "df_lf_per_country = pd.concat([df_sum1, df_sum2]).groupby(level=0).sum()/2"
   ]
  },
  {
   "cell_type": "code",
   "execution_count": 18,
   "metadata": {},
   "outputs": [
    {
     "data": {
      "application/vnd.plotly.v1+json": {
       "config": {
        "plotlyServerURL": "https://plot.ly"
       },
       "data": [
        {
         "alignmentgroup": "True",
         "hovertemplate": "Impacted country=AT<br>Loop flow value per origin=%{x}<br>Origin of loop flow=%{y}<extra></extra>",
         "legendgroup": "AT",
         "marker": {
          "color": "#0DF9FF",
          "pattern": {
           "shape": ""
          }
         },
         "name": "AT",
         "offsetgroup": "AT",
         "orientation": "h",
         "showlegend": true,
         "textposition": "auto",
         "texttemplate": "%{x:.0f}",
         "type": "bar",
         "x": [
          2722.7951438354044,
          4119.051667162179,
          1167.5846799148162,
          1361.0543429623726,
          1338.3025437665406,
          -216.22283491926424,
          638.162852236087,
          -1256.4631647153528,
          -815.8724323095565
         ],
         "xaxis": "x",
         "y": [
          "loop_flow_from_lt",
          "loop_flow_from_at",
          "loop_flow_from_dk",
          "loop_flow_from_bg",
          "loop_flow_from_gr",
          "loop_flow_from_fr",
          "loop_flow_from_lu",
          "loop_flow_from_cz",
          "loop_flow_from_fi"
         ],
         "yaxis": "y"
        },
        {
         "alignmentgroup": "True",
         "hovertemplate": "Impacted country=BG<br>Loop flow value per origin=%{x}<br>Origin of loop flow=%{y}<extra></extra>",
         "legendgroup": "BG",
         "marker": {
          "color": "#AF0038",
          "pattern": {
           "shape": ""
          }
         },
         "name": "BG",
         "offsetgroup": "BG",
         "orientation": "h",
         "showlegend": true,
         "textposition": "auto",
         "texttemplate": "%{x:.0f}",
         "type": "bar",
         "x": [
          null,
          1872.8850458890254,
          1770.6837725257028,
          4125.928292256962,
          -665.5166330185007,
          null,
          471.70921973064964,
          -290.87680151083373,
          -619.0174706966866
         ],
         "xaxis": "x",
         "y": [
          "loop_flow_from_lt",
          "loop_flow_from_at",
          "loop_flow_from_dk",
          "loop_flow_from_bg",
          "loop_flow_from_gr",
          "loop_flow_from_fr",
          "loop_flow_from_lu",
          "loop_flow_from_cz",
          "loop_flow_from_fi"
         ],
         "yaxis": "y"
        },
        {
         "alignmentgroup": "True",
         "hovertemplate": "Impacted country=CZ<br>Loop flow value per origin=%{x}<br>Origin of loop flow=%{y}<extra></extra>",
         "legendgroup": "CZ",
         "marker": {
          "color": "#FD3216",
          "pattern": {
           "shape": ""
          }
         },
         "name": "CZ",
         "offsetgroup": "CZ",
         "orientation": "h",
         "showlegend": true,
         "textposition": "auto",
         "texttemplate": "%{x:.0f}",
         "type": "bar",
         "x": [
          707.0342749357371,
          610.1030473436065,
          637.3758803755511,
          null,
          -642.6235290886066,
          null,
          null,
          1227.8693969720866,
          null
         ],
         "xaxis": "x",
         "y": [
          "loop_flow_from_lt",
          "loop_flow_from_at",
          "loop_flow_from_dk",
          "loop_flow_from_bg",
          "loop_flow_from_gr",
          "loop_flow_from_fr",
          "loop_flow_from_lu",
          "loop_flow_from_cz",
          "loop_flow_from_fi"
         ],
         "yaxis": "y"
        },
        {
         "alignmentgroup": "True",
         "hovertemplate": "Impacted country=DK<br>Loop flow value per origin=%{x}<br>Origin of loop flow=%{y}<extra></extra>",
         "legendgroup": "DK",
         "marker": {
          "color": "#00A08B",
          "pattern": {
           "shape": ""
          }
         },
         "name": "DK",
         "offsetgroup": "DK",
         "orientation": "h",
         "showlegend": true,
         "textposition": "auto",
         "texttemplate": "%{x:.0f}",
         "type": "bar",
         "x": [
          1763.9479678836544,
          1158.4271257892633,
          2204.5419244902046,
          null,
          376.87817385692944,
          null,
          561.8680833690437,
          -806.8970098058869,
          332.64683804661314
         ],
         "xaxis": "x",
         "y": [
          "loop_flow_from_lt",
          "loop_flow_from_at",
          "loop_flow_from_dk",
          "loop_flow_from_bg",
          "loop_flow_from_gr",
          "loop_flow_from_fr",
          "loop_flow_from_lu",
          "loop_flow_from_cz",
          "loop_flow_from_fi"
         ],
         "yaxis": "y"
        },
        {
         "alignmentgroup": "True",
         "hovertemplate": "Impacted country=FI<br>Loop flow value per origin=%{x}<br>Origin of loop flow=%{y}<extra></extra>",
         "legendgroup": "FI",
         "marker": {
          "color": "#6C4516",
          "pattern": {
           "shape": ""
          }
         },
         "name": "FI",
         "offsetgroup": "FI",
         "orientation": "h",
         "showlegend": true,
         "textposition": "auto",
         "texttemplate": "%{x:.0f}",
         "type": "bar",
         "x": [
          null,
          null,
          null,
          919.4818553689972,
          -318.6424299915831,
          null,
          null,
          null,
          1111.120776818485
         ],
         "xaxis": "x",
         "y": [
          "loop_flow_from_lt",
          "loop_flow_from_at",
          "loop_flow_from_dk",
          "loop_flow_from_bg",
          "loop_flow_from_gr",
          "loop_flow_from_fr",
          "loop_flow_from_lu",
          "loop_flow_from_cz",
          "loop_flow_from_fi"
         ],
         "yaxis": "y"
        },
        {
         "alignmentgroup": "True",
         "hovertemplate": "Impacted country=FR<br>Loop flow value per origin=%{x}<br>Origin of loop flow=%{y}<extra></extra>",
         "legendgroup": "FR",
         "marker": {
          "color": "#511CFB",
          "pattern": {
           "shape": ""
          }
         },
         "name": "FR",
         "offsetgroup": "FR",
         "orientation": "h",
         "showlegend": true,
         "textposition": "auto",
         "texttemplate": "%{x:.0f}",
         "type": "bar",
         "x": [
          546.6560956068406,
          737.9463596635197,
          null,
          null,
          -321.2827557053316,
          4759.760759575941,
          744.6984744505019,
          210.14755884523737,
          406.5929724455436
         ],
         "xaxis": "x",
         "y": [
          "loop_flow_from_lt",
          "loop_flow_from_at",
          "loop_flow_from_dk",
          "loop_flow_from_bg",
          "loop_flow_from_gr",
          "loop_flow_from_fr",
          "loop_flow_from_lu",
          "loop_flow_from_cz",
          "loop_flow_from_fi"
         ],
         "yaxis": "y"
        },
        {
         "alignmentgroup": "True",
         "hovertemplate": "Impacted country=GR<br>Loop flow value per origin=%{x}<br>Origin of loop flow=%{y}<extra></extra>",
         "legendgroup": "GR",
         "marker": {
          "color": "#F6F926",
          "pattern": {
           "shape": ""
          }
         },
         "name": "GR",
         "offsetgroup": "GR",
         "orientation": "h",
         "showlegend": true,
         "textposition": "auto",
         "texttemplate": "%{x:.0f}",
         "type": "bar",
         "x": [
          1300.7185039683186,
          358.8038543521299,
          321.6663420202993,
          327.8605693271697,
          2561.6893709475526,
          458.8940666838563,
          473.95540274176767,
          -256.35813913848443,
          154.64424538879197
         ],
         "xaxis": "x",
         "y": [
          "loop_flow_from_lt",
          "loop_flow_from_at",
          "loop_flow_from_dk",
          "loop_flow_from_bg",
          "loop_flow_from_gr",
          "loop_flow_from_fr",
          "loop_flow_from_lu",
          "loop_flow_from_cz",
          "loop_flow_from_fi"
         ],
         "yaxis": "y"
        },
        {
         "alignmentgroup": "True",
         "hovertemplate": "Impacted country=LT<br>Loop flow value per origin=%{x}<br>Origin of loop flow=%{y}<extra></extra>",
         "legendgroup": "LT",
         "marker": {
          "color": "#C9FBE5",
          "pattern": {
           "shape": ""
          }
         },
         "name": "LT",
         "offsetgroup": "LT",
         "orientation": "h",
         "showlegend": true,
         "textposition": "auto",
         "texttemplate": "%{x:.0f}",
         "type": "bar",
         "x": [
          2326.767044398744,
          602.9626031575087,
          null,
          421.4796377351705,
          1638.4018725014027,
          482.2909943301387,
          564.4827405409142,
          -316.3900121836368,
          252.2890580201445
         ],
         "xaxis": "x",
         "y": [
          "loop_flow_from_lt",
          "loop_flow_from_at",
          "loop_flow_from_dk",
          "loop_flow_from_bg",
          "loop_flow_from_gr",
          "loop_flow_from_fr",
          "loop_flow_from_lu",
          "loop_flow_from_cz",
          "loop_flow_from_fi"
         ],
         "yaxis": "y"
        },
        {
         "alignmentgroup": "True",
         "hovertemplate": "Impacted country=LU<br>Loop flow value per origin=%{x}<br>Origin of loop flow=%{y}<extra></extra>",
         "legendgroup": "LU",
         "marker": {
          "color": "#FC0080",
          "pattern": {
           "shape": ""
          }
         },
         "name": "LU",
         "offsetgroup": "LU",
         "orientation": "h",
         "showlegend": true,
         "textposition": "auto",
         "texttemplate": "%{x:.0f}",
         "type": "bar",
         "x": [
          null,
          null,
          1615.2672302581607,
          554.9892671403919,
          null,
          521.8632762555138,
          2863.537609250324,
          350.032500337826,
          null
         ],
         "xaxis": "x",
         "y": [
          "loop_flow_from_lt",
          "loop_flow_from_at",
          "loop_flow_from_dk",
          "loop_flow_from_bg",
          "loop_flow_from_gr",
          "loop_flow_from_fr",
          "loop_flow_from_lu",
          "loop_flow_from_cz",
          "loop_flow_from_fi"
         ],
         "yaxis": "y"
        },
        {
         "alignmentgroup": "True",
         "hovertemplate": "Impacted country=masked_positive<br>Loop flow value per origin=%{x}<br>Origin of loop flow=%{y}<extra></extra>",
         "legendgroup": "masked_positive",
         "marker": {
          "color": "#FB0D0D",
          "pattern": {
           "shape": ""
          }
         },
         "name": "masked_positive",
         "offsetgroup": "masked_positive",
         "orientation": "h",
         "showlegend": true,
         "textposition": "auto",
         "texttemplate": "%{x:.0f}",
         "type": "bar",
         "x": [
          425.4545999610849,
          506.62927920746773,
          378.52825604761153,
          123.25719143442646,
          0,
          199.6337675997422,
          144.06253387695847,
          37.61036051115119,
          86.66182110210099
         ],
         "xaxis": "x",
         "y": [
          "loop_flow_from_lt",
          "loop_flow_from_at",
          "loop_flow_from_dk",
          "loop_flow_from_bg",
          "loop_flow_from_gr",
          "loop_flow_from_fr",
          "loop_flow_from_lu",
          "loop_flow_from_cz",
          "loop_flow_from_fi"
         ],
         "yaxis": "y"
        },
        {
         "alignmentgroup": "True",
         "hovertemplate": "Impacted country=masked_negative<br>Loop flow value per origin=%{x}<br>Origin of loop flow=%{y}<extra></extra>",
         "legendgroup": "masked_negative",
         "marker": {
          "color": "#D626FF",
          "pattern": {
           "shape": ""
          }
         },
         "name": "masked_negative",
         "offsetgroup": "masked_negative",
         "orientation": "h",
         "showlegend": true,
         "textposition": "auto",
         "texttemplate": "%{x:.0f}",
         "type": "bar",
         "x": [
          -286.6777507159053,
          0,
          -157.25780778718746,
          -252.5129585270458,
          -5.887802165893561,
          -172.51332698756886,
          -58.70408721968734,
          0,
          -4.584105879069661
         ],
         "xaxis": "x",
         "y": [
          "loop_flow_from_lt",
          "loop_flow_from_at",
          "loop_flow_from_dk",
          "loop_flow_from_bg",
          "loop_flow_from_gr",
          "loop_flow_from_fr",
          "loop_flow_from_lu",
          "loop_flow_from_cz",
          "loop_flow_from_fi"
         ],
         "yaxis": "y"
        }
       ],
       "layout": {
        "barmode": "relative",
        "height": 1000,
        "legend": {
         "title": {
          "text": "Impacted country"
         },
         "tracegroupgap": 0
        },
        "margin": {
         "t": 60
        },
        "template": {
         "data": {
          "bar": [
           {
            "error_x": {
             "color": "#2a3f5f"
            },
            "error_y": {
             "color": "#2a3f5f"
            },
            "marker": {
             "line": {
              "color": "#E5ECF6",
              "width": 0.5
             },
             "pattern": {
              "fillmode": "overlay",
              "size": 10,
              "solidity": 0.2
             }
            },
            "type": "bar"
           }
          ],
          "barpolar": [
           {
            "marker": {
             "line": {
              "color": "#E5ECF6",
              "width": 0.5
             },
             "pattern": {
              "fillmode": "overlay",
              "size": 10,
              "solidity": 0.2
             }
            },
            "type": "barpolar"
           }
          ],
          "carpet": [
           {
            "aaxis": {
             "endlinecolor": "#2a3f5f",
             "gridcolor": "white",
             "linecolor": "white",
             "minorgridcolor": "white",
             "startlinecolor": "#2a3f5f"
            },
            "baxis": {
             "endlinecolor": "#2a3f5f",
             "gridcolor": "white",
             "linecolor": "white",
             "minorgridcolor": "white",
             "startlinecolor": "#2a3f5f"
            },
            "type": "carpet"
           }
          ],
          "choropleth": [
           {
            "colorbar": {
             "outlinewidth": 0,
             "ticks": ""
            },
            "type": "choropleth"
           }
          ],
          "contour": [
           {
            "colorbar": {
             "outlinewidth": 0,
             "ticks": ""
            },
            "colorscale": [
             [
              0,
              "#0d0887"
             ],
             [
              0.1111111111111111,
              "#46039f"
             ],
             [
              0.2222222222222222,
              "#7201a8"
             ],
             [
              0.3333333333333333,
              "#9c179e"
             ],
             [
              0.4444444444444444,
              "#bd3786"
             ],
             [
              0.5555555555555556,
              "#d8576b"
             ],
             [
              0.6666666666666666,
              "#ed7953"
             ],
             [
              0.7777777777777778,
              "#fb9f3a"
             ],
             [
              0.8888888888888888,
              "#fdca26"
             ],
             [
              1,
              "#f0f921"
             ]
            ],
            "type": "contour"
           }
          ],
          "contourcarpet": [
           {
            "colorbar": {
             "outlinewidth": 0,
             "ticks": ""
            },
            "type": "contourcarpet"
           }
          ],
          "heatmap": [
           {
            "colorbar": {
             "outlinewidth": 0,
             "ticks": ""
            },
            "colorscale": [
             [
              0,
              "#0d0887"
             ],
             [
              0.1111111111111111,
              "#46039f"
             ],
             [
              0.2222222222222222,
              "#7201a8"
             ],
             [
              0.3333333333333333,
              "#9c179e"
             ],
             [
              0.4444444444444444,
              "#bd3786"
             ],
             [
              0.5555555555555556,
              "#d8576b"
             ],
             [
              0.6666666666666666,
              "#ed7953"
             ],
             [
              0.7777777777777778,
              "#fb9f3a"
             ],
             [
              0.8888888888888888,
              "#fdca26"
             ],
             [
              1,
              "#f0f921"
             ]
            ],
            "type": "heatmap"
           }
          ],
          "heatmapgl": [
           {
            "colorbar": {
             "outlinewidth": 0,
             "ticks": ""
            },
            "colorscale": [
             [
              0,
              "#0d0887"
             ],
             [
              0.1111111111111111,
              "#46039f"
             ],
             [
              0.2222222222222222,
              "#7201a8"
             ],
             [
              0.3333333333333333,
              "#9c179e"
             ],
             [
              0.4444444444444444,
              "#bd3786"
             ],
             [
              0.5555555555555556,
              "#d8576b"
             ],
             [
              0.6666666666666666,
              "#ed7953"
             ],
             [
              0.7777777777777778,
              "#fb9f3a"
             ],
             [
              0.8888888888888888,
              "#fdca26"
             ],
             [
              1,
              "#f0f921"
             ]
            ],
            "type": "heatmapgl"
           }
          ],
          "histogram": [
           {
            "marker": {
             "pattern": {
              "fillmode": "overlay",
              "size": 10,
              "solidity": 0.2
             }
            },
            "type": "histogram"
           }
          ],
          "histogram2d": [
           {
            "colorbar": {
             "outlinewidth": 0,
             "ticks": ""
            },
            "colorscale": [
             [
              0,
              "#0d0887"
             ],
             [
              0.1111111111111111,
              "#46039f"
             ],
             [
              0.2222222222222222,
              "#7201a8"
             ],
             [
              0.3333333333333333,
              "#9c179e"
             ],
             [
              0.4444444444444444,
              "#bd3786"
             ],
             [
              0.5555555555555556,
              "#d8576b"
             ],
             [
              0.6666666666666666,
              "#ed7953"
             ],
             [
              0.7777777777777778,
              "#fb9f3a"
             ],
             [
              0.8888888888888888,
              "#fdca26"
             ],
             [
              1,
              "#f0f921"
             ]
            ],
            "type": "histogram2d"
           }
          ],
          "histogram2dcontour": [
           {
            "colorbar": {
             "outlinewidth": 0,
             "ticks": ""
            },
            "colorscale": [
             [
              0,
              "#0d0887"
             ],
             [
              0.1111111111111111,
              "#46039f"
             ],
             [
              0.2222222222222222,
              "#7201a8"
             ],
             [
              0.3333333333333333,
              "#9c179e"
             ],
             [
              0.4444444444444444,
              "#bd3786"
             ],
             [
              0.5555555555555556,
              "#d8576b"
             ],
             [
              0.6666666666666666,
              "#ed7953"
             ],
             [
              0.7777777777777778,
              "#fb9f3a"
             ],
             [
              0.8888888888888888,
              "#fdca26"
             ],
             [
              1,
              "#f0f921"
             ]
            ],
            "type": "histogram2dcontour"
           }
          ],
          "mesh3d": [
           {
            "colorbar": {
             "outlinewidth": 0,
             "ticks": ""
            },
            "type": "mesh3d"
           }
          ],
          "parcoords": [
           {
            "line": {
             "colorbar": {
              "outlinewidth": 0,
              "ticks": ""
             }
            },
            "type": "parcoords"
           }
          ],
          "pie": [
           {
            "automargin": true,
            "type": "pie"
           }
          ],
          "scatter": [
           {
            "fillpattern": {
             "fillmode": "overlay",
             "size": 10,
             "solidity": 0.2
            },
            "type": "scatter"
           }
          ],
          "scatter3d": [
           {
            "line": {
             "colorbar": {
              "outlinewidth": 0,
              "ticks": ""
             }
            },
            "marker": {
             "colorbar": {
              "outlinewidth": 0,
              "ticks": ""
             }
            },
            "type": "scatter3d"
           }
          ],
          "scattercarpet": [
           {
            "marker": {
             "colorbar": {
              "outlinewidth": 0,
              "ticks": ""
             }
            },
            "type": "scattercarpet"
           }
          ],
          "scattergeo": [
           {
            "marker": {
             "colorbar": {
              "outlinewidth": 0,
              "ticks": ""
             }
            },
            "type": "scattergeo"
           }
          ],
          "scattergl": [
           {
            "marker": {
             "colorbar": {
              "outlinewidth": 0,
              "ticks": ""
             }
            },
            "type": "scattergl"
           }
          ],
          "scattermapbox": [
           {
            "marker": {
             "colorbar": {
              "outlinewidth": 0,
              "ticks": ""
             }
            },
            "type": "scattermapbox"
           }
          ],
          "scatterpolar": [
           {
            "marker": {
             "colorbar": {
              "outlinewidth": 0,
              "ticks": ""
             }
            },
            "type": "scatterpolar"
           }
          ],
          "scatterpolargl": [
           {
            "marker": {
             "colorbar": {
              "outlinewidth": 0,
              "ticks": ""
             }
            },
            "type": "scatterpolargl"
           }
          ],
          "scatterternary": [
           {
            "marker": {
             "colorbar": {
              "outlinewidth": 0,
              "ticks": ""
             }
            },
            "type": "scatterternary"
           }
          ],
          "surface": [
           {
            "colorbar": {
             "outlinewidth": 0,
             "ticks": ""
            },
            "colorscale": [
             [
              0,
              "#0d0887"
             ],
             [
              0.1111111111111111,
              "#46039f"
             ],
             [
              0.2222222222222222,
              "#7201a8"
             ],
             [
              0.3333333333333333,
              "#9c179e"
             ],
             [
              0.4444444444444444,
              "#bd3786"
             ],
             [
              0.5555555555555556,
              "#d8576b"
             ],
             [
              0.6666666666666666,
              "#ed7953"
             ],
             [
              0.7777777777777778,
              "#fb9f3a"
             ],
             [
              0.8888888888888888,
              "#fdca26"
             ],
             [
              1,
              "#f0f921"
             ]
            ],
            "type": "surface"
           }
          ],
          "table": [
           {
            "cells": {
             "fill": {
              "color": "#EBF0F8"
             },
             "line": {
              "color": "white"
             }
            },
            "header": {
             "fill": {
              "color": "#C8D4E3"
             },
             "line": {
              "color": "white"
             }
            },
            "type": "table"
           }
          ]
         },
         "layout": {
          "annotationdefaults": {
           "arrowcolor": "#2a3f5f",
           "arrowhead": 0,
           "arrowwidth": 1
          },
          "autotypenumbers": "strict",
          "coloraxis": {
           "colorbar": {
            "outlinewidth": 0,
            "ticks": ""
           }
          },
          "colorscale": {
           "diverging": [
            [
             0,
             "#8e0152"
            ],
            [
             0.1,
             "#c51b7d"
            ],
            [
             0.2,
             "#de77ae"
            ],
            [
             0.3,
             "#f1b6da"
            ],
            [
             0.4,
             "#fde0ef"
            ],
            [
             0.5,
             "#f7f7f7"
            ],
            [
             0.6,
             "#e6f5d0"
            ],
            [
             0.7,
             "#b8e186"
            ],
            [
             0.8,
             "#7fbc41"
            ],
            [
             0.9,
             "#4d9221"
            ],
            [
             1,
             "#276419"
            ]
           ],
           "sequential": [
            [
             0,
             "#0d0887"
            ],
            [
             0.1111111111111111,
             "#46039f"
            ],
            [
             0.2222222222222222,
             "#7201a8"
            ],
            [
             0.3333333333333333,
             "#9c179e"
            ],
            [
             0.4444444444444444,
             "#bd3786"
            ],
            [
             0.5555555555555556,
             "#d8576b"
            ],
            [
             0.6666666666666666,
             "#ed7953"
            ],
            [
             0.7777777777777778,
             "#fb9f3a"
            ],
            [
             0.8888888888888888,
             "#fdca26"
            ],
            [
             1,
             "#f0f921"
            ]
           ],
           "sequentialminus": [
            [
             0,
             "#0d0887"
            ],
            [
             0.1111111111111111,
             "#46039f"
            ],
            [
             0.2222222222222222,
             "#7201a8"
            ],
            [
             0.3333333333333333,
             "#9c179e"
            ],
            [
             0.4444444444444444,
             "#bd3786"
            ],
            [
             0.5555555555555556,
             "#d8576b"
            ],
            [
             0.6666666666666666,
             "#ed7953"
            ],
            [
             0.7777777777777778,
             "#fb9f3a"
            ],
            [
             0.8888888888888888,
             "#fdca26"
            ],
            [
             1,
             "#f0f921"
            ]
           ]
          },
          "colorway": [
           "#636efa",
           "#EF553B",
           "#00cc96",
           "#ab63fa",
           "#FFA15A",
           "#19d3f3",
           "#FF6692",
           "#B6E880",
           "#FF97FF",
           "#FECB52"
          ],
          "font": {
           "color": "#2a3f5f"
          },
          "geo": {
           "bgcolor": "white",
           "lakecolor": "white",
           "landcolor": "#E5ECF6",
           "showlakes": true,
           "showland": true,
           "subunitcolor": "white"
          },
          "hoverlabel": {
           "align": "left"
          },
          "hovermode": "closest",
          "mapbox": {
           "style": "light"
          },
          "paper_bgcolor": "white",
          "plot_bgcolor": "#E5ECF6",
          "polar": {
           "angularaxis": {
            "gridcolor": "white",
            "linecolor": "white",
            "ticks": ""
           },
           "bgcolor": "#E5ECF6",
           "radialaxis": {
            "gridcolor": "white",
            "linecolor": "white",
            "ticks": ""
           }
          },
          "scene": {
           "xaxis": {
            "backgroundcolor": "#E5ECF6",
            "gridcolor": "white",
            "gridwidth": 2,
            "linecolor": "white",
            "showbackground": true,
            "ticks": "",
            "zerolinecolor": "white"
           },
           "yaxis": {
            "backgroundcolor": "#E5ECF6",
            "gridcolor": "white",
            "gridwidth": 2,
            "linecolor": "white",
            "showbackground": true,
            "ticks": "",
            "zerolinecolor": "white"
           },
           "zaxis": {
            "backgroundcolor": "#E5ECF6",
            "gridcolor": "white",
            "gridwidth": 2,
            "linecolor": "white",
            "showbackground": true,
            "ticks": "",
            "zerolinecolor": "white"
           }
          },
          "shapedefaults": {
           "line": {
            "color": "#2a3f5f"
           }
          },
          "ternary": {
           "aaxis": {
            "gridcolor": "white",
            "linecolor": "white",
            "ticks": ""
           },
           "baxis": {
            "gridcolor": "white",
            "linecolor": "white",
            "ticks": ""
           },
           "bgcolor": "#E5ECF6",
           "caxis": {
            "gridcolor": "white",
            "linecolor": "white",
            "ticks": ""
           }
          },
          "title": {
           "x": 0.05
          },
          "xaxis": {
           "automargin": true,
           "gridcolor": "white",
           "linecolor": "white",
           "ticks": "",
           "title": {
            "standoff": 15
           },
           "zerolinecolor": "white",
           "zerolinewidth": 2
          },
          "yaxis": {
           "automargin": true,
           "gridcolor": "white",
           "linecolor": "white",
           "ticks": "",
           "title": {
            "standoff": 15
           },
           "zerolinecolor": "white",
           "zerolinewidth": 2
          }
         }
        },
        "xaxis": {
         "anchor": "y",
         "domain": [
          0,
          1
         ],
         "title": {
          "text": "Loop flow value per origin"
         }
        },
        "yaxis": {
         "anchor": "x",
         "domain": [
          0,
          1
         ],
         "title": {
          "text": "Origin of loop flow"
         }
        }
       }
      }
     },
     "metadata": {},
     "output_type": "display_data"
    }
   ],
   "source": [
    "threshold = .03\n",
    "df = df_lf_per_country.copy().transpose()\n",
    "df_p = df[[c for c in df.columns if ('loop_flow_from' in c)]].transpose()\n",
    "df_s = df_p.abs().sum(axis=1)\n",
    "df_p = df_p.reindex(df_s.sort_values(ascending=False).index)\n",
    "df_m = df_p.abs().div(df_p.abs().sum(axis=1), axis=0) > threshold\n",
    "df_f = df_p[df_m]\n",
    "df_f['masked_positive'] = df_p[df_p[df_m == False]>0].sum(axis=1)\n",
    "df_f['masked_negative'] = df_p[df_p[df_m == False]<0].sum(axis=1)\n",
    "fig = px.bar(df_f,\n",
    "    orientation='h',\n",
    "    color_discrete_sequence=colors[:df_f.columns.size],\n",
    "    text_auto='.0f',\n",
    "    title='',\n",
    "    height=1000,\n",
    "    labels={\n",
    "        'index':'Origin of loop flow',\n",
    "        'value': 'Loop flow value per origin',\n",
    "        'variable': 'Impacted country',\n",
    "    }\n",
    "    )\n",
    "fig.show()"
   ]
  },
  {
   "cell_type": "code",
   "execution_count": 19,
   "metadata": {},
   "outputs": [
    {
     "data": {
      "application/vnd.plotly.v1+json": {
       "config": {
        "plotlyServerURL": "https://plot.ly"
       },
       "data": [
        {
         "alignmentgroup": "True",
         "hovertemplate": "Impacted country=AT<br>Loop flow value normalized per origin=%{x}<br>Origin of loop flow=%{y}<extra></extra>",
         "legendgroup": "AT",
         "marker": {
          "color": "#0DF9FF",
          "pattern": {
           "shape": ""
          }
         },
         "name": "AT",
         "offsetgroup": "AT",
         "orientation": "h",
         "showlegend": true,
         "textposition": "auto",
         "texttemplate": "%{x:.2f}",
         "type": "bar",
         "x": [
          0.4132768747116339,
          0.09786001215144982,
          0.14147558387231718,
          0.2701171889743597,
          0.16831058576279198,
          -0.03174528728179243,
          0.17006789421852894,
          -0.21564360713355557,
          -0.26437135100869724
         ],
         "xaxis": "x",
         "y": [
          "loop_flow_from_at",
          "loop_flow_from_lu",
          "loop_flow_from_dk",
          "loop_flow_from_lt",
          "loop_flow_from_bg",
          "loop_flow_from_fr",
          "loop_flow_from_gr",
          "loop_flow_from_fi",
          "loop_flow_from_cz"
         ],
         "yaxis": "y"
        },
        {
         "alignmentgroup": "True",
         "hovertemplate": "Impacted country=BG<br>Loop flow value normalized per origin=%{x}<br>Origin of loop flow=%{y}<extra></extra>",
         "legendgroup": "BG",
         "marker": {
          "color": "#AF0038",
          "pattern": {
           "shape": ""
          }
         },
         "name": "BG",
         "offsetgroup": "BG",
         "orientation": "h",
         "showlegend": true,
         "textposition": "auto",
         "texttemplate": "%{x:.2f}",
         "type": "bar",
         "x": [
          0.18791220431387126,
          0.0723349374114226,
          0.21455276424968808,
          null,
          0.5102201916299557,
          null,
          -0.08457206696052284,
          -0.16361278427051465,
          -0.0612031416057701
         ],
         "xaxis": "x",
         "y": [
          "loop_flow_from_at",
          "loop_flow_from_lu",
          "loop_flow_from_dk",
          "loop_flow_from_lt",
          "loop_flow_from_bg",
          "loop_flow_from_fr",
          "loop_flow_from_gr",
          "loop_flow_from_fi",
          "loop_flow_from_cz"
         ],
         "yaxis": "y"
        },
        {
         "alignmentgroup": "True",
         "hovertemplate": "Impacted country=CZ<br>Loop flow value normalized per origin=%{x}<br>Origin of loop flow=%{y}<extra></extra>",
         "legendgroup": "CZ",
         "marker": {
          "color": "#FD3216",
          "pattern": {
           "shape": ""
          }
         },
         "name": "CZ",
         "offsetgroup": "CZ",
         "orientation": "h",
         "showlegend": true,
         "textposition": "auto",
         "texttemplate": "%{x:.2f}",
         "type": "bar",
         "x": [
          0.061213478497569467,
          null,
          0.07723047961612692,
          0.0701419316420343,
          null,
          null,
          -0.08166287277598111,
          null,
          0.2583549605397982
         ],
         "xaxis": "x",
         "y": [
          "loop_flow_from_at",
          "loop_flow_from_lu",
          "loop_flow_from_dk",
          "loop_flow_from_lt",
          "loop_flow_from_bg",
          "loop_flow_from_fr",
          "loop_flow_from_gr",
          "loop_flow_from_fi",
          "loop_flow_from_cz"
         ],
         "yaxis": "y"
        },
        {
         "alignmentgroup": "True",
         "hovertemplate": "Impacted country=DK<br>Loop flow value normalized per origin=%{x}<br>Origin of loop flow=%{y}<extra></extra>",
         "legendgroup": "DK",
         "marker": {
          "color": "#00A08B",
          "pattern": {
           "shape": ""
          }
         },
         "name": "DK",
         "offsetgroup": "DK",
         "orientation": "h",
         "showlegend": true,
         "textposition": "auto",
         "texttemplate": "%{x:.2f}",
         "type": "bar",
         "x": [
          0.11622848675195259,
          0.08616047968530934,
          0.26712311432607017,
          0.17499394607799773,
          null,
          null,
          0.047892666500044874,
          0.08792203439805218,
          -0.16977851687008058
         ],
         "xaxis": "x",
         "y": [
          "loop_flow_from_at",
          "loop_flow_from_lu",
          "loop_flow_from_dk",
          "loop_flow_from_lt",
          "loop_flow_from_bg",
          "loop_flow_from_fr",
          "loop_flow_from_gr",
          "loop_flow_from_fi",
          "loop_flow_from_cz"
         ],
         "yaxis": "y"
        },
        {
         "alignmentgroup": "True",
         "hovertemplate": "Impacted country=FI<br>Loop flow value normalized per origin=%{x}<br>Origin of loop flow=%{y}<extra></extra>",
         "legendgroup": "FI",
         "marker": {
          "color": "#6C4516",
          "pattern": {
           "shape": ""
          }
         },
         "name": "FI",
         "offsetgroup": "FI",
         "orientation": "h",
         "showlegend": true,
         "textposition": "auto",
         "texttemplate": "%{x:.2f}",
         "type": "bar",
         "x": [
          null,
          null,
          null,
          null,
          0.11370488656505695,
          null,
          -0.04049222451959776,
          0.2936808289941897,
          null
         ],
         "xaxis": "x",
         "y": [
          "loop_flow_from_at",
          "loop_flow_from_lu",
          "loop_flow_from_dk",
          "loop_flow_from_lt",
          "loop_flow_from_bg",
          "loop_flow_from_fr",
          "loop_flow_from_gr",
          "loop_flow_from_fi",
          "loop_flow_from_cz"
         ],
         "yaxis": "y"
        },
        {
         "alignmentgroup": "True",
         "hovertemplate": "Impacted country=FR<br>Loop flow value normalized per origin=%{x}<br>Origin of loop flow=%{y}<extra></extra>",
         "legendgroup": "FR",
         "marker": {
          "color": "#511CFB",
          "pattern": {
           "shape": ""
          }
         },
         "name": "FR",
         "offsetgroup": "FR",
         "orientation": "h",
         "showlegend": true,
         "textposition": "auto",
         "texttemplate": "%{x:.2f}",
         "type": "bar",
         "x": [
          0.07404038353242608,
          0.1141968723242635,
          null,
          0.05423147907962659,
          null,
          0.6988159819556534,
          -0.04082775002261629,
          0.10746677022179903,
          0.044216969986287935
         ],
         "xaxis": "x",
         "y": [
          "loop_flow_from_at",
          "loop_flow_from_lu",
          "loop_flow_from_dk",
          "loop_flow_from_lt",
          "loop_flow_from_bg",
          "loop_flow_from_fr",
          "loop_flow_from_gr",
          "loop_flow_from_fi",
          "loop_flow_from_cz"
         ],
         "yaxis": "y"
        },
        {
         "alignmentgroup": "True",
         "hovertemplate": "Impacted country=GR<br>Loop flow value normalized per origin=%{x}<br>Origin of loop flow=%{y}<extra></extra>",
         "legendgroup": "GR",
         "marker": {
          "color": "#F6F926",
          "pattern": {
           "shape": ""
          }
         },
         "name": "GR",
         "offsetgroup": "GR",
         "orientation": "h",
         "showlegend": true,
         "textposition": "auto",
         "texttemplate": "%{x:.2f}",
         "type": "bar",
         "x": [
          0.035999872675376694,
          0.07267938161714875,
          0.03897613109544607,
          0.12903887636729822,
          0.04054386568568038,
          0.06737366099296817,
          0.3255326076963932,
          0.04087408959717489,
          -0.053940099072837214
         ],
         "xaxis": "x",
         "y": [
          "loop_flow_from_at",
          "loop_flow_from_lu",
          "loop_flow_from_dk",
          "loop_flow_from_lt",
          "loop_flow_from_bg",
          "loop_flow_from_fr",
          "loop_flow_from_gr",
          "loop_flow_from_fi",
          "loop_flow_from_cz"
         ],
         "yaxis": "y"
        },
        {
         "alignmentgroup": "True",
         "hovertemplate": "Impacted country=LT<br>Loop flow value normalized per origin=%{x}<br>Origin of loop flow=%{y}<extra></extra>",
         "legendgroup": "LT",
         "marker": {
          "color": "#C9FBE5",
          "pattern": {
           "shape": ""
          }
         },
         "name": "LT",
         "offsetgroup": "LT",
         "orientation": "h",
         "showlegend": true,
         "textposition": "auto",
         "texttemplate": "%{x:.2f}",
         "type": "bar",
         "x": [
          0.060497056200464264,
          0.0865614280979513,
          null,
          0.230828887312413,
          0.052120978916899194,
          0.07080873846718536,
          0.20820371121450654,
          0.0666826336536259,
          -0.0665713546688777
         ],
         "xaxis": "x",
         "y": [
          "loop_flow_from_at",
          "loop_flow_from_lu",
          "loop_flow_from_dk",
          "loop_flow_from_lt",
          "loop_flow_from_bg",
          "loop_flow_from_fr",
          "loop_flow_from_gr",
          "loop_flow_from_fi",
          "loop_flow_from_cz"
         ],
         "yaxis": "y"
        },
        {
         "alignmentgroup": "True",
         "hovertemplate": "Impacted country=LU<br>Loop flow value normalized per origin=%{x}<br>Origin of loop flow=%{y}<extra></extra>",
         "legendgroup": "LU",
         "marker": {
          "color": "#FC0080",
          "pattern": {
           "shape": ""
          }
         },
         "name": "LU",
         "offsetgroup": "LU",
         "orientation": "h",
         "showlegend": true,
         "textposition": "auto",
         "texttemplate": "%{x:.2f}",
         "type": "bar",
         "x": [
          null,
          0.43911334584185624,
          0.1957210285829257,
          null,
          0.0686310352907374,
          0.07661864036115591,
          null,
          null,
          0.07365004212616738
         ],
         "xaxis": "x",
         "y": [
          "loop_flow_from_at",
          "loop_flow_from_lu",
          "loop_flow_from_dk",
          "loop_flow_from_lt",
          "loop_flow_from_bg",
          "loop_flow_from_fr",
          "loop_flow_from_gr",
          "loop_flow_from_fi",
          "loop_flow_from_cz"
         ],
         "yaxis": "y"
        },
        {
         "alignmentgroup": "True",
         "hovertemplate": "Impacted country=masked_positive<br>Loop flow value normalized per origin=%{x}<br>Origin of loop flow=%{y}<extra></extra>",
         "legendgroup": "masked_positive",
         "marker": {
          "color": "#FB0D0D",
          "pattern": {
           "shape": ""
          }
         },
         "name": "masked_positive",
         "offsetgroup": "masked_positive",
         "orientation": "h",
         "showlegend": true,
         "textposition": "auto",
         "texttemplate": "%{x:.2f}",
         "type": "bar",
         "x": [
          0.05083164331670574,
          0.022091479105011108,
          0.04586605747551678,
          0.042207582468292426,
          0.015242220266276633,
          0.029309722564532764,
          0,
          0.022905624657911416,
          0.007913564121483634
         ],
         "xaxis": "x",
         "y": [
          "loop_flow_from_at",
          "loop_flow_from_lu",
          "loop_flow_from_dk",
          "loop_flow_from_lt",
          "loop_flow_from_bg",
          "loop_flow_from_fr",
          "loop_flow_from_gr",
          "loop_flow_from_fi",
          "loop_flow_from_cz"
         ],
         "yaxis": "y"
        },
        {
         "alignmentgroup": "True",
         "hovertemplate": "Impacted country=masked_negative<br>Loop flow value normalized per origin=%{x}<br>Origin of loop flow=%{y}<extra></extra>",
         "legendgroup": "masked_negative",
         "marker": {
          "color": "#D626FF",
          "pattern": {
           "shape": ""
          }
         },
         "name": "masked_negative",
         "offsetgroup": "masked_negative",
         "orientation": "h",
         "showlegend": true,
         "textposition": "auto",
         "texttemplate": "%{x:.2f}",
         "type": "bar",
         "x": [
          0,
          -0.009002063765587381,
          -0.019054840781908975,
          -0.028440108077978005,
          -0.031226235882601816,
          -0.025327968376712112,
          -0.0007482060918084061,
          -0.0012116270731766228,
          0
         ],
         "xaxis": "x",
         "y": [
          "loop_flow_from_at",
          "loop_flow_from_lu",
          "loop_flow_from_dk",
          "loop_flow_from_lt",
          "loop_flow_from_bg",
          "loop_flow_from_fr",
          "loop_flow_from_gr",
          "loop_flow_from_fi",
          "loop_flow_from_cz"
         ],
         "yaxis": "y"
        }
       ],
       "layout": {
        "barmode": "relative",
        "height": 1000,
        "legend": {
         "title": {
          "text": "Impacted country"
         },
         "tracegroupgap": 0
        },
        "margin": {
         "t": 60
        },
        "template": {
         "data": {
          "bar": [
           {
            "error_x": {
             "color": "#2a3f5f"
            },
            "error_y": {
             "color": "#2a3f5f"
            },
            "marker": {
             "line": {
              "color": "#E5ECF6",
              "width": 0.5
             },
             "pattern": {
              "fillmode": "overlay",
              "size": 10,
              "solidity": 0.2
             }
            },
            "type": "bar"
           }
          ],
          "barpolar": [
           {
            "marker": {
             "line": {
              "color": "#E5ECF6",
              "width": 0.5
             },
             "pattern": {
              "fillmode": "overlay",
              "size": 10,
              "solidity": 0.2
             }
            },
            "type": "barpolar"
           }
          ],
          "carpet": [
           {
            "aaxis": {
             "endlinecolor": "#2a3f5f",
             "gridcolor": "white",
             "linecolor": "white",
             "minorgridcolor": "white",
             "startlinecolor": "#2a3f5f"
            },
            "baxis": {
             "endlinecolor": "#2a3f5f",
             "gridcolor": "white",
             "linecolor": "white",
             "minorgridcolor": "white",
             "startlinecolor": "#2a3f5f"
            },
            "type": "carpet"
           }
          ],
          "choropleth": [
           {
            "colorbar": {
             "outlinewidth": 0,
             "ticks": ""
            },
            "type": "choropleth"
           }
          ],
          "contour": [
           {
            "colorbar": {
             "outlinewidth": 0,
             "ticks": ""
            },
            "colorscale": [
             [
              0,
              "#0d0887"
             ],
             [
              0.1111111111111111,
              "#46039f"
             ],
             [
              0.2222222222222222,
              "#7201a8"
             ],
             [
              0.3333333333333333,
              "#9c179e"
             ],
             [
              0.4444444444444444,
              "#bd3786"
             ],
             [
              0.5555555555555556,
              "#d8576b"
             ],
             [
              0.6666666666666666,
              "#ed7953"
             ],
             [
              0.7777777777777778,
              "#fb9f3a"
             ],
             [
              0.8888888888888888,
              "#fdca26"
             ],
             [
              1,
              "#f0f921"
             ]
            ],
            "type": "contour"
           }
          ],
          "contourcarpet": [
           {
            "colorbar": {
             "outlinewidth": 0,
             "ticks": ""
            },
            "type": "contourcarpet"
           }
          ],
          "heatmap": [
           {
            "colorbar": {
             "outlinewidth": 0,
             "ticks": ""
            },
            "colorscale": [
             [
              0,
              "#0d0887"
             ],
             [
              0.1111111111111111,
              "#46039f"
             ],
             [
              0.2222222222222222,
              "#7201a8"
             ],
             [
              0.3333333333333333,
              "#9c179e"
             ],
             [
              0.4444444444444444,
              "#bd3786"
             ],
             [
              0.5555555555555556,
              "#d8576b"
             ],
             [
              0.6666666666666666,
              "#ed7953"
             ],
             [
              0.7777777777777778,
              "#fb9f3a"
             ],
             [
              0.8888888888888888,
              "#fdca26"
             ],
             [
              1,
              "#f0f921"
             ]
            ],
            "type": "heatmap"
           }
          ],
          "heatmapgl": [
           {
            "colorbar": {
             "outlinewidth": 0,
             "ticks": ""
            },
            "colorscale": [
             [
              0,
              "#0d0887"
             ],
             [
              0.1111111111111111,
              "#46039f"
             ],
             [
              0.2222222222222222,
              "#7201a8"
             ],
             [
              0.3333333333333333,
              "#9c179e"
             ],
             [
              0.4444444444444444,
              "#bd3786"
             ],
             [
              0.5555555555555556,
              "#d8576b"
             ],
             [
              0.6666666666666666,
              "#ed7953"
             ],
             [
              0.7777777777777778,
              "#fb9f3a"
             ],
             [
              0.8888888888888888,
              "#fdca26"
             ],
             [
              1,
              "#f0f921"
             ]
            ],
            "type": "heatmapgl"
           }
          ],
          "histogram": [
           {
            "marker": {
             "pattern": {
              "fillmode": "overlay",
              "size": 10,
              "solidity": 0.2
             }
            },
            "type": "histogram"
           }
          ],
          "histogram2d": [
           {
            "colorbar": {
             "outlinewidth": 0,
             "ticks": ""
            },
            "colorscale": [
             [
              0,
              "#0d0887"
             ],
             [
              0.1111111111111111,
              "#46039f"
             ],
             [
              0.2222222222222222,
              "#7201a8"
             ],
             [
              0.3333333333333333,
              "#9c179e"
             ],
             [
              0.4444444444444444,
              "#bd3786"
             ],
             [
              0.5555555555555556,
              "#d8576b"
             ],
             [
              0.6666666666666666,
              "#ed7953"
             ],
             [
              0.7777777777777778,
              "#fb9f3a"
             ],
             [
              0.8888888888888888,
              "#fdca26"
             ],
             [
              1,
              "#f0f921"
             ]
            ],
            "type": "histogram2d"
           }
          ],
          "histogram2dcontour": [
           {
            "colorbar": {
             "outlinewidth": 0,
             "ticks": ""
            },
            "colorscale": [
             [
              0,
              "#0d0887"
             ],
             [
              0.1111111111111111,
              "#46039f"
             ],
             [
              0.2222222222222222,
              "#7201a8"
             ],
             [
              0.3333333333333333,
              "#9c179e"
             ],
             [
              0.4444444444444444,
              "#bd3786"
             ],
             [
              0.5555555555555556,
              "#d8576b"
             ],
             [
              0.6666666666666666,
              "#ed7953"
             ],
             [
              0.7777777777777778,
              "#fb9f3a"
             ],
             [
              0.8888888888888888,
              "#fdca26"
             ],
             [
              1,
              "#f0f921"
             ]
            ],
            "type": "histogram2dcontour"
           }
          ],
          "mesh3d": [
           {
            "colorbar": {
             "outlinewidth": 0,
             "ticks": ""
            },
            "type": "mesh3d"
           }
          ],
          "parcoords": [
           {
            "line": {
             "colorbar": {
              "outlinewidth": 0,
              "ticks": ""
             }
            },
            "type": "parcoords"
           }
          ],
          "pie": [
           {
            "automargin": true,
            "type": "pie"
           }
          ],
          "scatter": [
           {
            "fillpattern": {
             "fillmode": "overlay",
             "size": 10,
             "solidity": 0.2
            },
            "type": "scatter"
           }
          ],
          "scatter3d": [
           {
            "line": {
             "colorbar": {
              "outlinewidth": 0,
              "ticks": ""
             }
            },
            "marker": {
             "colorbar": {
              "outlinewidth": 0,
              "ticks": ""
             }
            },
            "type": "scatter3d"
           }
          ],
          "scattercarpet": [
           {
            "marker": {
             "colorbar": {
              "outlinewidth": 0,
              "ticks": ""
             }
            },
            "type": "scattercarpet"
           }
          ],
          "scattergeo": [
           {
            "marker": {
             "colorbar": {
              "outlinewidth": 0,
              "ticks": ""
             }
            },
            "type": "scattergeo"
           }
          ],
          "scattergl": [
           {
            "marker": {
             "colorbar": {
              "outlinewidth": 0,
              "ticks": ""
             }
            },
            "type": "scattergl"
           }
          ],
          "scattermapbox": [
           {
            "marker": {
             "colorbar": {
              "outlinewidth": 0,
              "ticks": ""
             }
            },
            "type": "scattermapbox"
           }
          ],
          "scatterpolar": [
           {
            "marker": {
             "colorbar": {
              "outlinewidth": 0,
              "ticks": ""
             }
            },
            "type": "scatterpolar"
           }
          ],
          "scatterpolargl": [
           {
            "marker": {
             "colorbar": {
              "outlinewidth": 0,
              "ticks": ""
             }
            },
            "type": "scatterpolargl"
           }
          ],
          "scatterternary": [
           {
            "marker": {
             "colorbar": {
              "outlinewidth": 0,
              "ticks": ""
             }
            },
            "type": "scatterternary"
           }
          ],
          "surface": [
           {
            "colorbar": {
             "outlinewidth": 0,
             "ticks": ""
            },
            "colorscale": [
             [
              0,
              "#0d0887"
             ],
             [
              0.1111111111111111,
              "#46039f"
             ],
             [
              0.2222222222222222,
              "#7201a8"
             ],
             [
              0.3333333333333333,
              "#9c179e"
             ],
             [
              0.4444444444444444,
              "#bd3786"
             ],
             [
              0.5555555555555556,
              "#d8576b"
             ],
             [
              0.6666666666666666,
              "#ed7953"
             ],
             [
              0.7777777777777778,
              "#fb9f3a"
             ],
             [
              0.8888888888888888,
              "#fdca26"
             ],
             [
              1,
              "#f0f921"
             ]
            ],
            "type": "surface"
           }
          ],
          "table": [
           {
            "cells": {
             "fill": {
              "color": "#EBF0F8"
             },
             "line": {
              "color": "white"
             }
            },
            "header": {
             "fill": {
              "color": "#C8D4E3"
             },
             "line": {
              "color": "white"
             }
            },
            "type": "table"
           }
          ]
         },
         "layout": {
          "annotationdefaults": {
           "arrowcolor": "#2a3f5f",
           "arrowhead": 0,
           "arrowwidth": 1
          },
          "autotypenumbers": "strict",
          "coloraxis": {
           "colorbar": {
            "outlinewidth": 0,
            "ticks": ""
           }
          },
          "colorscale": {
           "diverging": [
            [
             0,
             "#8e0152"
            ],
            [
             0.1,
             "#c51b7d"
            ],
            [
             0.2,
             "#de77ae"
            ],
            [
             0.3,
             "#f1b6da"
            ],
            [
             0.4,
             "#fde0ef"
            ],
            [
             0.5,
             "#f7f7f7"
            ],
            [
             0.6,
             "#e6f5d0"
            ],
            [
             0.7,
             "#b8e186"
            ],
            [
             0.8,
             "#7fbc41"
            ],
            [
             0.9,
             "#4d9221"
            ],
            [
             1,
             "#276419"
            ]
           ],
           "sequential": [
            [
             0,
             "#0d0887"
            ],
            [
             0.1111111111111111,
             "#46039f"
            ],
            [
             0.2222222222222222,
             "#7201a8"
            ],
            [
             0.3333333333333333,
             "#9c179e"
            ],
            [
             0.4444444444444444,
             "#bd3786"
            ],
            [
             0.5555555555555556,
             "#d8576b"
            ],
            [
             0.6666666666666666,
             "#ed7953"
            ],
            [
             0.7777777777777778,
             "#fb9f3a"
            ],
            [
             0.8888888888888888,
             "#fdca26"
            ],
            [
             1,
             "#f0f921"
            ]
           ],
           "sequentialminus": [
            [
             0,
             "#0d0887"
            ],
            [
             0.1111111111111111,
             "#46039f"
            ],
            [
             0.2222222222222222,
             "#7201a8"
            ],
            [
             0.3333333333333333,
             "#9c179e"
            ],
            [
             0.4444444444444444,
             "#bd3786"
            ],
            [
             0.5555555555555556,
             "#d8576b"
            ],
            [
             0.6666666666666666,
             "#ed7953"
            ],
            [
             0.7777777777777778,
             "#fb9f3a"
            ],
            [
             0.8888888888888888,
             "#fdca26"
            ],
            [
             1,
             "#f0f921"
            ]
           ]
          },
          "colorway": [
           "#636efa",
           "#EF553B",
           "#00cc96",
           "#ab63fa",
           "#FFA15A",
           "#19d3f3",
           "#FF6692",
           "#B6E880",
           "#FF97FF",
           "#FECB52"
          ],
          "font": {
           "color": "#2a3f5f"
          },
          "geo": {
           "bgcolor": "white",
           "lakecolor": "white",
           "landcolor": "#E5ECF6",
           "showlakes": true,
           "showland": true,
           "subunitcolor": "white"
          },
          "hoverlabel": {
           "align": "left"
          },
          "hovermode": "closest",
          "mapbox": {
           "style": "light"
          },
          "paper_bgcolor": "white",
          "plot_bgcolor": "#E5ECF6",
          "polar": {
           "angularaxis": {
            "gridcolor": "white",
            "linecolor": "white",
            "ticks": ""
           },
           "bgcolor": "#E5ECF6",
           "radialaxis": {
            "gridcolor": "white",
            "linecolor": "white",
            "ticks": ""
           }
          },
          "scene": {
           "xaxis": {
            "backgroundcolor": "#E5ECF6",
            "gridcolor": "white",
            "gridwidth": 2,
            "linecolor": "white",
            "showbackground": true,
            "ticks": "",
            "zerolinecolor": "white"
           },
           "yaxis": {
            "backgroundcolor": "#E5ECF6",
            "gridcolor": "white",
            "gridwidth": 2,
            "linecolor": "white",
            "showbackground": true,
            "ticks": "",
            "zerolinecolor": "white"
           },
           "zaxis": {
            "backgroundcolor": "#E5ECF6",
            "gridcolor": "white",
            "gridwidth": 2,
            "linecolor": "white",
            "showbackground": true,
            "ticks": "",
            "zerolinecolor": "white"
           }
          },
          "shapedefaults": {
           "line": {
            "color": "#2a3f5f"
           }
          },
          "ternary": {
           "aaxis": {
            "gridcolor": "white",
            "linecolor": "white",
            "ticks": ""
           },
           "baxis": {
            "gridcolor": "white",
            "linecolor": "white",
            "ticks": ""
           },
           "bgcolor": "#E5ECF6",
           "caxis": {
            "gridcolor": "white",
            "linecolor": "white",
            "ticks": ""
           }
          },
          "title": {
           "x": 0.05
          },
          "xaxis": {
           "automargin": true,
           "gridcolor": "white",
           "linecolor": "white",
           "ticks": "",
           "title": {
            "standoff": 15
           },
           "zerolinecolor": "white",
           "zerolinewidth": 2
          },
          "yaxis": {
           "automargin": true,
           "gridcolor": "white",
           "linecolor": "white",
           "ticks": "",
           "title": {
            "standoff": 15
           },
           "zerolinecolor": "white",
           "zerolinewidth": 2
          }
         }
        },
        "xaxis": {
         "anchor": "y",
         "domain": [
          0,
          1
         ],
         "title": {
          "text": "Loop flow value normalized per origin"
         }
        },
        "yaxis": {
         "anchor": "x",
         "domain": [
          0,
          1
         ],
         "title": {
          "text": "Origin of loop flow"
         }
        }
       }
      }
     },
     "metadata": {},
     "output_type": "display_data"
    }
   ],
   "source": [
    "threshold = .03\n",
    "df = df_lf_per_country.copy().transpose()\n",
    "df_p = df[[c for c in df.columns if ('loop_flow_from' in c)]].transpose()\n",
    "df_m = df_p.div(df_p.abs().sum(axis=1), axis=0)\n",
    "df_s = df_m[df_m < 0].sum(axis=1)\n",
    "df_m = df_m.reindex(df_s.sort_values(ascending=False).index)\n",
    "df_n = df_m.abs() > threshold\n",
    "df_f = df_m[df_n]\n",
    "df_f['masked_positive'] = df_m[df_p[df_n == False]>0].sum(axis=1)\n",
    "df_f['masked_negative'] = df_m[df_p[df_n == False]<0].sum(axis=1)\n",
    "fig = px.bar(df_f,\n",
    "    orientation='h',\n",
    "    color_discrete_sequence=colors[:df_f.columns.size],\n",
    "    text_auto='.2f',\n",
    "    height=1000,\n",
    "    labels={\n",
    "        'index':'Origin of loop flow',\n",
    "        'value': 'Loop flow value normalized per origin',\n",
    "        'variable': 'Impacted country',\n",
    "    }\n",
    "    )\n",
    "fig.show()"
   ]
  },
  {
   "cell_type": "markdown",
   "metadata": {},
   "source": [
    "# Loop flow repartition for visited countries\n",
    "\n",
    "Loop flow are sum for visited countries"
   ]
  },
  {
   "cell_type": "code",
   "execution_count": 20,
   "metadata": {},
   "outputs": [
    {
     "data": {
      "application/vnd.plotly.v1+json": {
       "config": {
        "plotlyServerURL": "https://plot.ly"
       },
       "data": [
        {
         "alignmentgroup": "True",
         "hovertemplate": "Origin country=loop_flow_from_at<br>Loop flow value per origin=%{x}<br>Destination of loop flow=%{y}<extra></extra>",
         "legendgroup": "loop_flow_from_at",
         "marker": {
          "color": "#0DF9FF",
          "pattern": {
           "shape": ""
          }
         },
         "name": "loop_flow_from_at",
         "offsetgroup": "loop_flow_from_at",
         "orientation": "h",
         "showlegend": true,
         "textposition": "auto",
         "texttemplate": "%{x:.0f}",
         "type": "bar",
         "x": [
          4119.051667162179,
          1872.8850458890254,
          737.9463596635197,
          1158.4271257892633,
          602.9626031575087,
          250.20828610734685,
          358.8038543521299,
          610.1030473436065,
          256.4209931001209
         ],
         "xaxis": "x",
         "y": [
          "AT",
          "BG",
          "FR",
          "DK",
          "LT",
          "LU",
          "GR",
          "CZ",
          "FI"
         ],
         "yaxis": "y"
        },
        {
         "alignmentgroup": "True",
         "hovertemplate": "Origin country=loop_flow_from_bg<br>Loop flow value per origin=%{x}<br>Destination of loop flow=%{y}<extra></extra>",
         "legendgroup": "loop_flow_from_bg",
         "marker": {
          "color": "#AF0038",
          "pattern": {
           "shape": ""
          }
         },
         "name": "loop_flow_from_bg",
         "offsetgroup": "loop_flow_from_bg",
         "orientation": "h",
         "showlegend": true,
         "textposition": "auto",
         "texttemplate": "%{x:.0f}",
         "type": "bar",
         "x": [
          1361.0543429623726,
          4125.928292256962,
          null,
          null,
          421.4796377351705,
          554.9892671403919,
          327.8605693271697,
          -164.0975961763285,
          919.4818553689972
         ],
         "xaxis": "x",
         "y": [
          "AT",
          "BG",
          "FR",
          "DK",
          "LT",
          "LU",
          "GR",
          "CZ",
          "FI"
         ],
         "yaxis": "y"
        },
        {
         "alignmentgroup": "True",
         "hovertemplate": "Origin country=loop_flow_from_cz<br>Loop flow value per origin=%{x}<br>Destination of loop flow=%{y}<extra></extra>",
         "legendgroup": "loop_flow_from_cz",
         "marker": {
          "color": "#FD3216",
          "pattern": {
           "shape": ""
          }
         },
         "name": "loop_flow_from_cz",
         "offsetgroup": "loop_flow_from_cz",
         "orientation": "h",
         "showlegend": true,
         "textposition": "auto",
         "texttemplate": "%{x:.0f}",
         "type": "bar",
         "x": [
          -1256.4631647153528,
          null,
          null,
          -806.8970098058869,
          -316.3900121836368,
          350.032500337826,
          -256.35813913848443,
          1227.8693969720866,
          null
         ],
         "xaxis": "x",
         "y": [
          "AT",
          "BG",
          "FR",
          "DK",
          "LT",
          "LU",
          "GR",
          "CZ",
          "FI"
         ],
         "yaxis": "y"
        },
        {
         "alignmentgroup": "True",
         "hovertemplate": "Origin country=loop_flow_from_dk<br>Loop flow value per origin=%{x}<br>Destination of loop flow=%{y}<extra></extra>",
         "legendgroup": "loop_flow_from_dk",
         "marker": {
          "color": "#00A08B",
          "pattern": {
           "shape": ""
          }
         },
         "name": "loop_flow_from_dk",
         "offsetgroup": "loop_flow_from_dk",
         "orientation": "h",
         "showlegend": true,
         "textposition": "auto",
         "texttemplate": "%{x:.0f}",
         "type": "bar",
         "x": [
          1167.5846799148162,
          1770.6837725257028,
          null,
          2204.5419244902046,
          null,
          1615.2672302581607,
          321.6663420202993,
          637.3758803755511,
          231.16473019570296
         ],
         "xaxis": "x",
         "y": [
          "AT",
          "BG",
          "FR",
          "DK",
          "LT",
          "LU",
          "GR",
          "CZ",
          "FI"
         ],
         "yaxis": "y"
        },
        {
         "alignmentgroup": "True",
         "hovertemplate": "Origin country=loop_flow_from_fi<br>Loop flow value per origin=%{x}<br>Destination of loop flow=%{y}<extra></extra>",
         "legendgroup": "loop_flow_from_fi",
         "marker": {
          "color": "#6C4516",
          "pattern": {
           "shape": ""
          }
         },
         "name": "loop_flow_from_fi",
         "offsetgroup": "loop_flow_from_fi",
         "orientation": "h",
         "showlegend": true,
         "textposition": "auto",
         "texttemplate": "%{x:.0f}",
         "type": "bar",
         "x": [
          -815.8724323095565,
          -619.0174706966866,
          406.5929724455436,
          332.64683804661314,
          252.2890580201445,
          null,
          null,
          null,
          1111.120776818485
         ],
         "xaxis": "x",
         "y": [
          "AT",
          "BG",
          "FR",
          "DK",
          "LT",
          "LU",
          "GR",
          "CZ",
          "FI"
         ],
         "yaxis": "y"
        },
        {
         "alignmentgroup": "True",
         "hovertemplate": "Origin country=loop_flow_from_fr<br>Loop flow value per origin=%{x}<br>Destination of loop flow=%{y}<extra></extra>",
         "legendgroup": "loop_flow_from_fr",
         "marker": {
          "color": "#511CFB",
          "pattern": {
           "shape": ""
          }
         },
         "name": "loop_flow_from_fr",
         "offsetgroup": "loop_flow_from_fr",
         "orientation": "h",
         "showlegend": true,
         "textposition": "auto",
         "texttemplate": "%{x:.0f}",
         "type": "bar",
         "x": [
          null,
          null,
          4759.760759575941,
          null,
          482.2909943301387,
          521.8632762555138,
          458.8940666838563,
          null,
          null
         ],
         "xaxis": "x",
         "y": [
          "AT",
          "BG",
          "FR",
          "DK",
          "LT",
          "LU",
          "GR",
          "CZ",
          "FI"
         ],
         "yaxis": "y"
        },
        {
         "alignmentgroup": "True",
         "hovertemplate": "Origin country=loop_flow_from_gr<br>Loop flow value per origin=%{x}<br>Destination of loop flow=%{y}<extra></extra>",
         "legendgroup": "loop_flow_from_gr",
         "marker": {
          "color": "#F6F926",
          "pattern": {
           "shape": ""
          }
         },
         "name": "loop_flow_from_gr",
         "offsetgroup": "loop_flow_from_gr",
         "orientation": "h",
         "showlegend": true,
         "textposition": "auto",
         "texttemplate": "%{x:.0f}",
         "type": "bar",
         "x": [
          1338.3025437665406,
          -665.5166330185007,
          -321.2827557053316,
          376.87817385692944,
          1638.4018725014027,
          null,
          2561.6893709475526,
          -642.6235290886066,
          -318.6424299915831
         ],
         "xaxis": "x",
         "y": [
          "AT",
          "BG",
          "FR",
          "DK",
          "LT",
          "LU",
          "GR",
          "CZ",
          "FI"
         ],
         "yaxis": "y"
        },
        {
         "alignmentgroup": "True",
         "hovertemplate": "Origin country=loop_flow_from_lt<br>Loop flow value per origin=%{x}<br>Destination of loop flow=%{y}<extra></extra>",
         "legendgroup": "loop_flow_from_lt",
         "marker": {
          "color": "#C9FBE5",
          "pattern": {
           "shape": ""
          }
         },
         "name": "loop_flow_from_lt",
         "offsetgroup": "loop_flow_from_lt",
         "orientation": "h",
         "showlegend": true,
         "textposition": "auto",
         "texttemplate": "%{x:.0f}",
         "type": "bar",
         "x": [
          2722.7951438354044,
          null,
          546.6560956068406,
          1763.9479678836544,
          2326.767044398744,
          -286.6777507159053,
          1300.7185039683186,
          707.0342749357371,
          167.66071563598265
         ],
         "xaxis": "x",
         "y": [
          "AT",
          "BG",
          "FR",
          "DK",
          "LT",
          "LU",
          "GR",
          "CZ",
          "FI"
         ],
         "yaxis": "y"
        },
        {
         "alignmentgroup": "True",
         "hovertemplate": "Origin country=loop_flow_from_lu<br>Loop flow value per origin=%{x}<br>Destination of loop flow=%{y}<extra></extra>",
         "legendgroup": "loop_flow_from_lu",
         "marker": {
          "color": "#FC0080",
          "pattern": {
           "shape": ""
          }
         },
         "name": "loop_flow_from_lu",
         "offsetgroup": "loop_flow_from_lu",
         "orientation": "h",
         "showlegend": true,
         "textposition": "auto",
         "texttemplate": "%{x:.0f}",
         "type": "bar",
         "x": [
          638.162852236087,
          471.70921973064964,
          744.6984744505019,
          561.8680833690437,
          564.4827405409142,
          2863.537609250324,
          473.95540274176767,
          144.06253387695847,
          null
         ],
         "xaxis": "x",
         "y": [
          "AT",
          "BG",
          "FR",
          "DK",
          "LT",
          "LU",
          "GR",
          "CZ",
          "FI"
         ],
         "yaxis": "y"
        },
        {
         "alignmentgroup": "True",
         "hovertemplate": "Origin country=masked_positive<br>Loop flow value per origin=%{x}<br>Destination of loop flow=%{y}<extra></extra>",
         "legendgroup": "masked_positive",
         "marker": {
          "color": "#FB0D0D",
          "pattern": {
           "shape": ""
          }
         },
         "name": "masked_positive",
         "offsetgroup": "masked_positive",
         "orientation": "h",
         "showlegend": true,
         "textposition": "auto",
         "texttemplate": "%{x:.0f}",
         "type": "bar",
         "x": [
          0,
          391.4193440131139,
          210.14755884523737,
          189.26549934615701,
          147.3635258519086,
          86.66182110210099,
          154.64424538879197,
          0,
          37.61036051115119
         ],
         "xaxis": "x",
         "y": [
          "AT",
          "BG",
          "FR",
          "DK",
          "LT",
          "LU",
          "GR",
          "CZ",
          "FI"
         ],
         "yaxis": "y"
        },
        {
         "alignmentgroup": "True",
         "hovertemplate": "Origin country=masked_negative<br>Loop flow value per origin=%{x}<br>Destination of loop flow=%{y}<extra></extra>",
         "legendgroup": "masked_negative",
         "marker": {
          "color": "#D626FF",
          "pattern": {
           "shape": ""
          }
         },
         "name": "masked_negative",
         "offsetgroup": "masked_negative",
         "orientation": "h",
         "showlegend": true,
         "textposition": "auto",
         "texttemplate": "%{x:.0f}",
         "type": "bar",
         "x": [
          -216.22283491926424,
          -290.87680151083373,
          -245.67317013790478,
          0,
          0,
          -5.887802165893561,
          0,
          -115.13343592270232,
          -120.66808416362352
         ],
         "xaxis": "x",
         "y": [
          "AT",
          "BG",
          "FR",
          "DK",
          "LT",
          "LU",
          "GR",
          "CZ",
          "FI"
         ],
         "yaxis": "y"
        }
       ],
       "layout": {
        "barmode": "relative",
        "height": 1000,
        "legend": {
         "title": {
          "text": "Origin country"
         },
         "tracegroupgap": 0
        },
        "margin": {
         "t": 60
        },
        "template": {
         "data": {
          "bar": [
           {
            "error_x": {
             "color": "#2a3f5f"
            },
            "error_y": {
             "color": "#2a3f5f"
            },
            "marker": {
             "line": {
              "color": "#E5ECF6",
              "width": 0.5
             },
             "pattern": {
              "fillmode": "overlay",
              "size": 10,
              "solidity": 0.2
             }
            },
            "type": "bar"
           }
          ],
          "barpolar": [
           {
            "marker": {
             "line": {
              "color": "#E5ECF6",
              "width": 0.5
             },
             "pattern": {
              "fillmode": "overlay",
              "size": 10,
              "solidity": 0.2
             }
            },
            "type": "barpolar"
           }
          ],
          "carpet": [
           {
            "aaxis": {
             "endlinecolor": "#2a3f5f",
             "gridcolor": "white",
             "linecolor": "white",
             "minorgridcolor": "white",
             "startlinecolor": "#2a3f5f"
            },
            "baxis": {
             "endlinecolor": "#2a3f5f",
             "gridcolor": "white",
             "linecolor": "white",
             "minorgridcolor": "white",
             "startlinecolor": "#2a3f5f"
            },
            "type": "carpet"
           }
          ],
          "choropleth": [
           {
            "colorbar": {
             "outlinewidth": 0,
             "ticks": ""
            },
            "type": "choropleth"
           }
          ],
          "contour": [
           {
            "colorbar": {
             "outlinewidth": 0,
             "ticks": ""
            },
            "colorscale": [
             [
              0,
              "#0d0887"
             ],
             [
              0.1111111111111111,
              "#46039f"
             ],
             [
              0.2222222222222222,
              "#7201a8"
             ],
             [
              0.3333333333333333,
              "#9c179e"
             ],
             [
              0.4444444444444444,
              "#bd3786"
             ],
             [
              0.5555555555555556,
              "#d8576b"
             ],
             [
              0.6666666666666666,
              "#ed7953"
             ],
             [
              0.7777777777777778,
              "#fb9f3a"
             ],
             [
              0.8888888888888888,
              "#fdca26"
             ],
             [
              1,
              "#f0f921"
             ]
            ],
            "type": "contour"
           }
          ],
          "contourcarpet": [
           {
            "colorbar": {
             "outlinewidth": 0,
             "ticks": ""
            },
            "type": "contourcarpet"
           }
          ],
          "heatmap": [
           {
            "colorbar": {
             "outlinewidth": 0,
             "ticks": ""
            },
            "colorscale": [
             [
              0,
              "#0d0887"
             ],
             [
              0.1111111111111111,
              "#46039f"
             ],
             [
              0.2222222222222222,
              "#7201a8"
             ],
             [
              0.3333333333333333,
              "#9c179e"
             ],
             [
              0.4444444444444444,
              "#bd3786"
             ],
             [
              0.5555555555555556,
              "#d8576b"
             ],
             [
              0.6666666666666666,
              "#ed7953"
             ],
             [
              0.7777777777777778,
              "#fb9f3a"
             ],
             [
              0.8888888888888888,
              "#fdca26"
             ],
             [
              1,
              "#f0f921"
             ]
            ],
            "type": "heatmap"
           }
          ],
          "heatmapgl": [
           {
            "colorbar": {
             "outlinewidth": 0,
             "ticks": ""
            },
            "colorscale": [
             [
              0,
              "#0d0887"
             ],
             [
              0.1111111111111111,
              "#46039f"
             ],
             [
              0.2222222222222222,
              "#7201a8"
             ],
             [
              0.3333333333333333,
              "#9c179e"
             ],
             [
              0.4444444444444444,
              "#bd3786"
             ],
             [
              0.5555555555555556,
              "#d8576b"
             ],
             [
              0.6666666666666666,
              "#ed7953"
             ],
             [
              0.7777777777777778,
              "#fb9f3a"
             ],
             [
              0.8888888888888888,
              "#fdca26"
             ],
             [
              1,
              "#f0f921"
             ]
            ],
            "type": "heatmapgl"
           }
          ],
          "histogram": [
           {
            "marker": {
             "pattern": {
              "fillmode": "overlay",
              "size": 10,
              "solidity": 0.2
             }
            },
            "type": "histogram"
           }
          ],
          "histogram2d": [
           {
            "colorbar": {
             "outlinewidth": 0,
             "ticks": ""
            },
            "colorscale": [
             [
              0,
              "#0d0887"
             ],
             [
              0.1111111111111111,
              "#46039f"
             ],
             [
              0.2222222222222222,
              "#7201a8"
             ],
             [
              0.3333333333333333,
              "#9c179e"
             ],
             [
              0.4444444444444444,
              "#bd3786"
             ],
             [
              0.5555555555555556,
              "#d8576b"
             ],
             [
              0.6666666666666666,
              "#ed7953"
             ],
             [
              0.7777777777777778,
              "#fb9f3a"
             ],
             [
              0.8888888888888888,
              "#fdca26"
             ],
             [
              1,
              "#f0f921"
             ]
            ],
            "type": "histogram2d"
           }
          ],
          "histogram2dcontour": [
           {
            "colorbar": {
             "outlinewidth": 0,
             "ticks": ""
            },
            "colorscale": [
             [
              0,
              "#0d0887"
             ],
             [
              0.1111111111111111,
              "#46039f"
             ],
             [
              0.2222222222222222,
              "#7201a8"
             ],
             [
              0.3333333333333333,
              "#9c179e"
             ],
             [
              0.4444444444444444,
              "#bd3786"
             ],
             [
              0.5555555555555556,
              "#d8576b"
             ],
             [
              0.6666666666666666,
              "#ed7953"
             ],
             [
              0.7777777777777778,
              "#fb9f3a"
             ],
             [
              0.8888888888888888,
              "#fdca26"
             ],
             [
              1,
              "#f0f921"
             ]
            ],
            "type": "histogram2dcontour"
           }
          ],
          "mesh3d": [
           {
            "colorbar": {
             "outlinewidth": 0,
             "ticks": ""
            },
            "type": "mesh3d"
           }
          ],
          "parcoords": [
           {
            "line": {
             "colorbar": {
              "outlinewidth": 0,
              "ticks": ""
             }
            },
            "type": "parcoords"
           }
          ],
          "pie": [
           {
            "automargin": true,
            "type": "pie"
           }
          ],
          "scatter": [
           {
            "fillpattern": {
             "fillmode": "overlay",
             "size": 10,
             "solidity": 0.2
            },
            "type": "scatter"
           }
          ],
          "scatter3d": [
           {
            "line": {
             "colorbar": {
              "outlinewidth": 0,
              "ticks": ""
             }
            },
            "marker": {
             "colorbar": {
              "outlinewidth": 0,
              "ticks": ""
             }
            },
            "type": "scatter3d"
           }
          ],
          "scattercarpet": [
           {
            "marker": {
             "colorbar": {
              "outlinewidth": 0,
              "ticks": ""
             }
            },
            "type": "scattercarpet"
           }
          ],
          "scattergeo": [
           {
            "marker": {
             "colorbar": {
              "outlinewidth": 0,
              "ticks": ""
             }
            },
            "type": "scattergeo"
           }
          ],
          "scattergl": [
           {
            "marker": {
             "colorbar": {
              "outlinewidth": 0,
              "ticks": ""
             }
            },
            "type": "scattergl"
           }
          ],
          "scattermapbox": [
           {
            "marker": {
             "colorbar": {
              "outlinewidth": 0,
              "ticks": ""
             }
            },
            "type": "scattermapbox"
           }
          ],
          "scatterpolar": [
           {
            "marker": {
             "colorbar": {
              "outlinewidth": 0,
              "ticks": ""
             }
            },
            "type": "scatterpolar"
           }
          ],
          "scatterpolargl": [
           {
            "marker": {
             "colorbar": {
              "outlinewidth": 0,
              "ticks": ""
             }
            },
            "type": "scatterpolargl"
           }
          ],
          "scatterternary": [
           {
            "marker": {
             "colorbar": {
              "outlinewidth": 0,
              "ticks": ""
             }
            },
            "type": "scatterternary"
           }
          ],
          "surface": [
           {
            "colorbar": {
             "outlinewidth": 0,
             "ticks": ""
            },
            "colorscale": [
             [
              0,
              "#0d0887"
             ],
             [
              0.1111111111111111,
              "#46039f"
             ],
             [
              0.2222222222222222,
              "#7201a8"
             ],
             [
              0.3333333333333333,
              "#9c179e"
             ],
             [
              0.4444444444444444,
              "#bd3786"
             ],
             [
              0.5555555555555556,
              "#d8576b"
             ],
             [
              0.6666666666666666,
              "#ed7953"
             ],
             [
              0.7777777777777778,
              "#fb9f3a"
             ],
             [
              0.8888888888888888,
              "#fdca26"
             ],
             [
              1,
              "#f0f921"
             ]
            ],
            "type": "surface"
           }
          ],
          "table": [
           {
            "cells": {
             "fill": {
              "color": "#EBF0F8"
             },
             "line": {
              "color": "white"
             }
            },
            "header": {
             "fill": {
              "color": "#C8D4E3"
             },
             "line": {
              "color": "white"
             }
            },
            "type": "table"
           }
          ]
         },
         "layout": {
          "annotationdefaults": {
           "arrowcolor": "#2a3f5f",
           "arrowhead": 0,
           "arrowwidth": 1
          },
          "autotypenumbers": "strict",
          "coloraxis": {
           "colorbar": {
            "outlinewidth": 0,
            "ticks": ""
           }
          },
          "colorscale": {
           "diverging": [
            [
             0,
             "#8e0152"
            ],
            [
             0.1,
             "#c51b7d"
            ],
            [
             0.2,
             "#de77ae"
            ],
            [
             0.3,
             "#f1b6da"
            ],
            [
             0.4,
             "#fde0ef"
            ],
            [
             0.5,
             "#f7f7f7"
            ],
            [
             0.6,
             "#e6f5d0"
            ],
            [
             0.7,
             "#b8e186"
            ],
            [
             0.8,
             "#7fbc41"
            ],
            [
             0.9,
             "#4d9221"
            ],
            [
             1,
             "#276419"
            ]
           ],
           "sequential": [
            [
             0,
             "#0d0887"
            ],
            [
             0.1111111111111111,
             "#46039f"
            ],
            [
             0.2222222222222222,
             "#7201a8"
            ],
            [
             0.3333333333333333,
             "#9c179e"
            ],
            [
             0.4444444444444444,
             "#bd3786"
            ],
            [
             0.5555555555555556,
             "#d8576b"
            ],
            [
             0.6666666666666666,
             "#ed7953"
            ],
            [
             0.7777777777777778,
             "#fb9f3a"
            ],
            [
             0.8888888888888888,
             "#fdca26"
            ],
            [
             1,
             "#f0f921"
            ]
           ],
           "sequentialminus": [
            [
             0,
             "#0d0887"
            ],
            [
             0.1111111111111111,
             "#46039f"
            ],
            [
             0.2222222222222222,
             "#7201a8"
            ],
            [
             0.3333333333333333,
             "#9c179e"
            ],
            [
             0.4444444444444444,
             "#bd3786"
            ],
            [
             0.5555555555555556,
             "#d8576b"
            ],
            [
             0.6666666666666666,
             "#ed7953"
            ],
            [
             0.7777777777777778,
             "#fb9f3a"
            ],
            [
             0.8888888888888888,
             "#fdca26"
            ],
            [
             1,
             "#f0f921"
            ]
           ]
          },
          "colorway": [
           "#636efa",
           "#EF553B",
           "#00cc96",
           "#ab63fa",
           "#FFA15A",
           "#19d3f3",
           "#FF6692",
           "#B6E880",
           "#FF97FF",
           "#FECB52"
          ],
          "font": {
           "color": "#2a3f5f"
          },
          "geo": {
           "bgcolor": "white",
           "lakecolor": "white",
           "landcolor": "#E5ECF6",
           "showlakes": true,
           "showland": true,
           "subunitcolor": "white"
          },
          "hoverlabel": {
           "align": "left"
          },
          "hovermode": "closest",
          "mapbox": {
           "style": "light"
          },
          "paper_bgcolor": "white",
          "plot_bgcolor": "#E5ECF6",
          "polar": {
           "angularaxis": {
            "gridcolor": "white",
            "linecolor": "white",
            "ticks": ""
           },
           "bgcolor": "#E5ECF6",
           "radialaxis": {
            "gridcolor": "white",
            "linecolor": "white",
            "ticks": ""
           }
          },
          "scene": {
           "xaxis": {
            "backgroundcolor": "#E5ECF6",
            "gridcolor": "white",
            "gridwidth": 2,
            "linecolor": "white",
            "showbackground": true,
            "ticks": "",
            "zerolinecolor": "white"
           },
           "yaxis": {
            "backgroundcolor": "#E5ECF6",
            "gridcolor": "white",
            "gridwidth": 2,
            "linecolor": "white",
            "showbackground": true,
            "ticks": "",
            "zerolinecolor": "white"
           },
           "zaxis": {
            "backgroundcolor": "#E5ECF6",
            "gridcolor": "white",
            "gridwidth": 2,
            "linecolor": "white",
            "showbackground": true,
            "ticks": "",
            "zerolinecolor": "white"
           }
          },
          "shapedefaults": {
           "line": {
            "color": "#2a3f5f"
           }
          },
          "ternary": {
           "aaxis": {
            "gridcolor": "white",
            "linecolor": "white",
            "ticks": ""
           },
           "baxis": {
            "gridcolor": "white",
            "linecolor": "white",
            "ticks": ""
           },
           "bgcolor": "#E5ECF6",
           "caxis": {
            "gridcolor": "white",
            "linecolor": "white",
            "ticks": ""
           }
          },
          "title": {
           "x": 0.05
          },
          "xaxis": {
           "automargin": true,
           "gridcolor": "white",
           "linecolor": "white",
           "ticks": "",
           "title": {
            "standoff": 15
           },
           "zerolinecolor": "white",
           "zerolinewidth": 2
          },
          "yaxis": {
           "automargin": true,
           "gridcolor": "white",
           "linecolor": "white",
           "ticks": "",
           "title": {
            "standoff": 15
           },
           "zerolinecolor": "white",
           "zerolinewidth": 2
          }
         }
        },
        "xaxis": {
         "anchor": "y",
         "domain": [
          0,
          1
         ],
         "title": {
          "text": "Loop flow value per origin"
         }
        },
        "yaxis": {
         "anchor": "x",
         "domain": [
          0,
          1
         ],
         "title": {
          "text": "Destination of loop flow"
         }
        }
       }
      }
     },
     "metadata": {},
     "output_type": "display_data"
    }
   ],
   "source": [
    "threshold = .03\n",
    "df = df_lf_per_country.copy().transpose()\n",
    "df_p = df[[c for c in df.columns if ('loop_flow_from' in c)]]\n",
    "df_s = df_p.abs().sum(axis=1)\n",
    "df_p = df_p.reindex(df_s.sort_values(ascending=False).index)\n",
    "df_m = df_p.abs().div(df_p.abs().sum(axis=1), axis=0) > threshold\n",
    "df_f = df_p[df_m]\n",
    "df_f['masked_positive'] = df_p[df_p[df_m == False]>0].sum(axis=1)\n",
    "df_f['masked_negative'] = df_p[df_p[df_m == False]<0].sum(axis=1)\n",
    "fig = px.bar(df_f,\n",
    "    orientation='h',\n",
    "    color_discrete_sequence=colors[:df_f.columns.size],\n",
    "    text_auto='.0f',\n",
    "    title='',\n",
    "    height=1000,\n",
    "    labels={\n",
    "        'index':'Destination of loop flow',\n",
    "        'value': 'Loop flow value per origin',\n",
    "        'variable': 'Origin country',\n",
    "    }\n",
    "    )\n",
    "fig.show()"
   ]
  },
  {
   "cell_type": "code",
   "execution_count": 21,
   "metadata": {},
   "outputs": [
    {
     "data": {
      "application/vnd.plotly.v1+json": {
       "config": {
        "plotlyServerURL": "https://plot.ly"
       },
       "data": [
        {
         "alignmentgroup": "True",
         "hovertemplate": "Origin country=loop_flow_from_at<br>Loop flow value normalized per origin=%{x}<br>Destination of loop flow=%{y}<extra></extra>",
         "legendgroup": "loop_flow_from_at",
         "marker": {
          "color": "#0DF9FF",
          "pattern": {
           "shape": ""
          }
         },
         "name": "loop_flow_from_at",
         "offsetgroup": "loop_flow_from_at",
         "orientation": "h",
         "showlegend": true,
         "textposition": "auto",
         "texttemplate": "%{x:.2f}",
         "type": "bar",
         "x": [
          0.05773571962074233,
          0.038286683927990714,
          0.08929567983733294,
          0.09255847802104439,
          0.15666122317508333,
          0.08107481653599208,
          0.18347162368366088,
          0.3020827067942478,
          0.14361111296031093
         ],
         "xaxis": "x",
         "y": [
          "GR",
          "LU",
          "LT",
          "FR",
          "DK",
          "FI",
          "BG",
          "AT",
          "CZ"
         ],
         "yaxis": "y"
        },
        {
         "alignmentgroup": "True",
         "hovertemplate": "Origin country=loop_flow_from_bg<br>Loop flow value normalized per origin=%{x}<br>Destination of loop flow=%{y}<extra></extra>",
         "legendgroup": "loop_flow_from_bg",
         "marker": {
          "color": "#AF0038",
          "pattern": {
           "shape": ""
          }
         },
         "name": "loop_flow_from_bg",
         "offsetgroup": "loop_flow_from_bg",
         "orientation": "h",
         "showlegend": true,
         "textposition": "auto",
         "texttemplate": "%{x:.2f}",
         "type": "bar",
         "x": [
          0.052756584623512015,
          0.08492404062635663,
          0.062418980202198916,
          null,
          null,
          0.2907204352925498,
          0.40418431694157114,
          0.09981690283079224,
          -0.03862665253616055
         ],
         "xaxis": "x",
         "y": [
          "GR",
          "LU",
          "LT",
          "FR",
          "DK",
          "FI",
          "BG",
          "AT",
          "CZ"
         ],
         "yaxis": "y"
        },
        {
         "alignmentgroup": "True",
         "hovertemplate": "Origin country=loop_flow_from_cz<br>Loop flow value normalized per origin=%{x}<br>Destination of loop flow=%{y}<extra></extra>",
         "legendgroup": "loop_flow_from_cz",
         "marker": {
          "color": "#FD3216",
          "pattern": {
           "shape": ""
          }
         },
         "name": "loop_flow_from_cz",
         "offsetgroup": "loop_flow_from_cz",
         "orientation": "h",
         "showlegend": true,
         "textposition": "auto",
         "texttemplate": "%{x:.2f}",
         "type": "bar",
         "x": [
          -0.04125101072428579,
          0.05356171017937018,
          -0.04685574376210479,
          null,
          -0.10912164409684531,
          null,
          null,
          -0.0921464027291446,
          0.2890260775402355
         ],
         "xaxis": "x",
         "y": [
          "GR",
          "LU",
          "LT",
          "FR",
          "DK",
          "FI",
          "BG",
          "AT",
          "CZ"
         ],
         "yaxis": "y"
        },
        {
         "alignmentgroup": "True",
         "hovertemplate": "Origin country=loop_flow_from_dk<br>Loop flow value normalized per origin=%{x}<br>Destination of loop flow=%{y}<extra></extra>",
         "legendgroup": "loop_flow_from_dk",
         "marker": {
          "color": "#00A08B",
          "pattern": {
           "shape": ""
          }
         },
         "name": "loop_flow_from_dk",
         "offsetgroup": "loop_flow_from_dk",
         "orientation": "h",
         "showlegend": true,
         "textposition": "auto",
         "texttemplate": "%{x:.2f}",
         "type": "bar",
         "x": [
          0.05175986129760917,
          0.24716697782583666,
          null,
          null,
          0.29813375977024154,
          0.07308932807576703,
          0.17345977933279433,
          0.0856282389784056,
          0.150030818487683
         ],
         "xaxis": "x",
         "y": [
          "GR",
          "LU",
          "LT",
          "FR",
          "DK",
          "FI",
          "BG",
          "AT",
          "CZ"
         ],
         "yaxis": "y"
        },
        {
         "alignmentgroup": "True",
         "hovertemplate": "Origin country=loop_flow_from_fi<br>Loop flow value normalized per origin=%{x}<br>Destination of loop flow=%{y}<extra></extra>",
         "legendgroup": "loop_flow_from_fi",
         "marker": {
          "color": "#6C4516",
          "pattern": {
           "shape": ""
          }
         },
         "name": "loop_flow_from_fi",
         "offsetgroup": "loop_flow_from_fi",
         "orientation": "h",
         "showlegend": true,
         "textposition": "auto",
         "texttemplate": "%{x:.2f}",
         "type": "bar",
         "x": [
          null,
          null,
          0.037362720064985824,
          0.050997780815358586,
          0.044985877293058515,
          0.3513125506643442,
          -0.06064020890473999,
          -0.05983439215286097,
          null
         ],
         "xaxis": "x",
         "y": [
          "GR",
          "LU",
          "LT",
          "FR",
          "DK",
          "FI",
          "BG",
          "AT",
          "CZ"
         ],
         "yaxis": "y"
        },
        {
         "alignmentgroup": "True",
         "hovertemplate": "Origin country=loop_flow_from_fr<br>Loop flow value normalized per origin=%{x}<br>Destination of loop flow=%{y}<extra></extra>",
         "legendgroup": "loop_flow_from_fr",
         "marker": {
          "color": "#511CFB",
          "pattern": {
           "shape": ""
          }
         },
         "name": "loop_flow_from_fr",
         "offsetgroup": "loop_flow_from_fr",
         "orientation": "h",
         "showlegend": true,
         "textposition": "auto",
         "texttemplate": "%{x:.2f}",
         "type": "bar",
         "x": [
          0.07384140066589027,
          0.07985512639277006,
          0.07142483131227127,
          0.5970030285826181,
          null,
          null,
          null,
          null,
          null
         ],
         "xaxis": "x",
         "y": [
          "GR",
          "LU",
          "LT",
          "FR",
          "DK",
          "FI",
          "BG",
          "AT",
          "CZ"
         ],
         "yaxis": "y"
        },
        {
         "alignmentgroup": "True",
         "hovertemplate": "Origin country=loop_flow_from_gr<br>Loop flow value normalized per origin=%{x}<br>Destination of loop flow=%{y}<extra></extra>",
         "legendgroup": "loop_flow_from_gr",
         "marker": {
          "color": "#F6F926",
          "pattern": {
           "shape": ""
          }
         },
         "name": "loop_flow_from_gr",
         "offsetgroup": "loop_flow_from_gr",
         "orientation": "h",
         "showlegend": true,
         "textposition": "auto",
         "texttemplate": "%{x:.2f}",
         "type": "bar",
         "x": [
          0.41220565911567314,
          null,
          0.24263894358561786,
          -0.040297567015645755,
          0.0509675528050083,
          -0.10074789992745771,
          -0.06519536130442381,
          0.09814833306258362,
          -0.15126605354410158
         ],
         "xaxis": "x",
         "y": [
          "GR",
          "LU",
          "LT",
          "FR",
          "DK",
          "FI",
          "BG",
          "AT",
          "CZ"
         ],
         "yaxis": "y"
        },
        {
         "alignmentgroup": "True",
         "hovertemplate": "Origin country=loop_flow_from_lt<br>Loop flow value normalized per origin=%{x}<br>Destination of loop flow=%{y}<extra></extra>",
         "legendgroup": "loop_flow_from_lt",
         "marker": {
          "color": "#C9FBE5",
          "pattern": {
           "shape": ""
          }
         },
         "name": "loop_flow_from_lt",
         "offsetgroup": "loop_flow_from_lt",
         "orientation": "h",
         "showlegend": true,
         "textposition": "auto",
         "texttemplate": "%{x:.2f}",
         "type": "bar",
         "x": [
          0.20930075844983875,
          -0.043867213998413195,
          0.34458230736809553,
          0.0685654933420454,
          0.23854952988741307,
          0.05301072114315131,
          null,
          0.19968414906111145,
          0.16642758885848027
         ],
         "xaxis": "x",
         "y": [
          "GR",
          "LU",
          "LT",
          "FR",
          "DK",
          "FI",
          "BG",
          "AT",
          "CZ"
         ],
         "yaxis": "y"
        },
        {
         "alignmentgroup": "True",
         "hovertemplate": "Origin country=loop_flow_from_lu<br>Loop flow value normalized per origin=%{x}<br>Destination of loop flow=%{y}<extra></extra>",
         "legendgroup": "loop_flow_from_lu",
         "marker": {
          "color": "#FC0080",
          "pattern": {
           "shape": ""
          }
         },
         "name": "loop_flow_from_lu",
         "offsetgroup": "loop_flow_from_lu",
         "orientation": "h",
         "showlegend": true,
         "textposition": "auto",
         "texttemplate": "%{x:.2f}",
         "type": "bar",
         "x": [
          0.07626494507659201,
          0.43817637324067066,
          0.083597008851102,
          0.09340537625412386,
          0.07598487573714402,
          null,
          0.04620959339736388,
          0.046801540101056596,
          0.033910633484019605
         ],
         "xaxis": "x",
         "y": [
          "GR",
          "LU",
          "LT",
          "FR",
          "DK",
          "FI",
          "BG",
          "AT",
          "CZ"
         ],
         "yaxis": "y"
        },
        {
         "alignmentgroup": "True",
         "hovertemplate": "Origin country=masked_positive<br>Loop flow value normalized per origin=%{x}<br>Destination of loop flow=%{y}<extra></extra>",
         "legendgroup": "masked_positive",
         "marker": {
          "color": "#FB0D0D",
          "pattern": {
           "shape": ""
          }
         },
         "name": "masked_positive",
         "offsetgroup": "masked_positive",
         "orientation": "h",
         "showlegend": true,
         "textposition": "auto",
         "texttemplate": "%{x:.2f}",
         "type": "bar",
         "x": [
          0.02488406042585637,
          0.013260926745394424,
          0.021823785016290852,
          0.026358200635913497,
          0.025595537235206113,
          0.011891589067762123,
          0.03834423407080515,
          0,
          0
         ],
         "xaxis": "x",
         "y": [
          "GR",
          "LU",
          "LT",
          "FR",
          "DK",
          "FI",
          "BG",
          "AT",
          "CZ"
         ],
         "yaxis": "y"
        },
        {
         "alignmentgroup": "True",
         "hovertemplate": "Origin country=masked_negative<br>Loop flow value normalized per origin=%{x}<br>Destination of loop flow=%{y}<extra></extra>",
         "legendgroup": "masked_negative",
         "marker": {
          "color": "#D626FF",
          "pattern": {
           "shape": ""
          }
         },
         "name": "masked_negative",
         "offsetgroup": "masked_negative",
         "orientation": "h",
         "showlegend": true,
         "textposition": "auto",
         "texttemplate": "%{x:.2f}",
         "type": "bar",
         "x": [
          0,
          -0.0009009470631975476,
          0,
          -0.030814075333250354,
          0,
          -0.03815265929297587,
          -0.028494882364640768,
          -0.0158573342897972,
          -0.027101062589008545
         ],
         "xaxis": "x",
         "y": [
          "GR",
          "LU",
          "LT",
          "FR",
          "DK",
          "FI",
          "BG",
          "AT",
          "CZ"
         ],
         "yaxis": "y"
        }
       ],
       "layout": {
        "barmode": "relative",
        "height": 1000,
        "legend": {
         "title": {
          "text": "Origin country"
         },
         "tracegroupgap": 0
        },
        "margin": {
         "t": 60
        },
        "template": {
         "data": {
          "bar": [
           {
            "error_x": {
             "color": "#2a3f5f"
            },
            "error_y": {
             "color": "#2a3f5f"
            },
            "marker": {
             "line": {
              "color": "#E5ECF6",
              "width": 0.5
             },
             "pattern": {
              "fillmode": "overlay",
              "size": 10,
              "solidity": 0.2
             }
            },
            "type": "bar"
           }
          ],
          "barpolar": [
           {
            "marker": {
             "line": {
              "color": "#E5ECF6",
              "width": 0.5
             },
             "pattern": {
              "fillmode": "overlay",
              "size": 10,
              "solidity": 0.2
             }
            },
            "type": "barpolar"
           }
          ],
          "carpet": [
           {
            "aaxis": {
             "endlinecolor": "#2a3f5f",
             "gridcolor": "white",
             "linecolor": "white",
             "minorgridcolor": "white",
             "startlinecolor": "#2a3f5f"
            },
            "baxis": {
             "endlinecolor": "#2a3f5f",
             "gridcolor": "white",
             "linecolor": "white",
             "minorgridcolor": "white",
             "startlinecolor": "#2a3f5f"
            },
            "type": "carpet"
           }
          ],
          "choropleth": [
           {
            "colorbar": {
             "outlinewidth": 0,
             "ticks": ""
            },
            "type": "choropleth"
           }
          ],
          "contour": [
           {
            "colorbar": {
             "outlinewidth": 0,
             "ticks": ""
            },
            "colorscale": [
             [
              0,
              "#0d0887"
             ],
             [
              0.1111111111111111,
              "#46039f"
             ],
             [
              0.2222222222222222,
              "#7201a8"
             ],
             [
              0.3333333333333333,
              "#9c179e"
             ],
             [
              0.4444444444444444,
              "#bd3786"
             ],
             [
              0.5555555555555556,
              "#d8576b"
             ],
             [
              0.6666666666666666,
              "#ed7953"
             ],
             [
              0.7777777777777778,
              "#fb9f3a"
             ],
             [
              0.8888888888888888,
              "#fdca26"
             ],
             [
              1,
              "#f0f921"
             ]
            ],
            "type": "contour"
           }
          ],
          "contourcarpet": [
           {
            "colorbar": {
             "outlinewidth": 0,
             "ticks": ""
            },
            "type": "contourcarpet"
           }
          ],
          "heatmap": [
           {
            "colorbar": {
             "outlinewidth": 0,
             "ticks": ""
            },
            "colorscale": [
             [
              0,
              "#0d0887"
             ],
             [
              0.1111111111111111,
              "#46039f"
             ],
             [
              0.2222222222222222,
              "#7201a8"
             ],
             [
              0.3333333333333333,
              "#9c179e"
             ],
             [
              0.4444444444444444,
              "#bd3786"
             ],
             [
              0.5555555555555556,
              "#d8576b"
             ],
             [
              0.6666666666666666,
              "#ed7953"
             ],
             [
              0.7777777777777778,
              "#fb9f3a"
             ],
             [
              0.8888888888888888,
              "#fdca26"
             ],
             [
              1,
              "#f0f921"
             ]
            ],
            "type": "heatmap"
           }
          ],
          "heatmapgl": [
           {
            "colorbar": {
             "outlinewidth": 0,
             "ticks": ""
            },
            "colorscale": [
             [
              0,
              "#0d0887"
             ],
             [
              0.1111111111111111,
              "#46039f"
             ],
             [
              0.2222222222222222,
              "#7201a8"
             ],
             [
              0.3333333333333333,
              "#9c179e"
             ],
             [
              0.4444444444444444,
              "#bd3786"
             ],
             [
              0.5555555555555556,
              "#d8576b"
             ],
             [
              0.6666666666666666,
              "#ed7953"
             ],
             [
              0.7777777777777778,
              "#fb9f3a"
             ],
             [
              0.8888888888888888,
              "#fdca26"
             ],
             [
              1,
              "#f0f921"
             ]
            ],
            "type": "heatmapgl"
           }
          ],
          "histogram": [
           {
            "marker": {
             "pattern": {
              "fillmode": "overlay",
              "size": 10,
              "solidity": 0.2
             }
            },
            "type": "histogram"
           }
          ],
          "histogram2d": [
           {
            "colorbar": {
             "outlinewidth": 0,
             "ticks": ""
            },
            "colorscale": [
             [
              0,
              "#0d0887"
             ],
             [
              0.1111111111111111,
              "#46039f"
             ],
             [
              0.2222222222222222,
              "#7201a8"
             ],
             [
              0.3333333333333333,
              "#9c179e"
             ],
             [
              0.4444444444444444,
              "#bd3786"
             ],
             [
              0.5555555555555556,
              "#d8576b"
             ],
             [
              0.6666666666666666,
              "#ed7953"
             ],
             [
              0.7777777777777778,
              "#fb9f3a"
             ],
             [
              0.8888888888888888,
              "#fdca26"
             ],
             [
              1,
              "#f0f921"
             ]
            ],
            "type": "histogram2d"
           }
          ],
          "histogram2dcontour": [
           {
            "colorbar": {
             "outlinewidth": 0,
             "ticks": ""
            },
            "colorscale": [
             [
              0,
              "#0d0887"
             ],
             [
              0.1111111111111111,
              "#46039f"
             ],
             [
              0.2222222222222222,
              "#7201a8"
             ],
             [
              0.3333333333333333,
              "#9c179e"
             ],
             [
              0.4444444444444444,
              "#bd3786"
             ],
             [
              0.5555555555555556,
              "#d8576b"
             ],
             [
              0.6666666666666666,
              "#ed7953"
             ],
             [
              0.7777777777777778,
              "#fb9f3a"
             ],
             [
              0.8888888888888888,
              "#fdca26"
             ],
             [
              1,
              "#f0f921"
             ]
            ],
            "type": "histogram2dcontour"
           }
          ],
          "mesh3d": [
           {
            "colorbar": {
             "outlinewidth": 0,
             "ticks": ""
            },
            "type": "mesh3d"
           }
          ],
          "parcoords": [
           {
            "line": {
             "colorbar": {
              "outlinewidth": 0,
              "ticks": ""
             }
            },
            "type": "parcoords"
           }
          ],
          "pie": [
           {
            "automargin": true,
            "type": "pie"
           }
          ],
          "scatter": [
           {
            "fillpattern": {
             "fillmode": "overlay",
             "size": 10,
             "solidity": 0.2
            },
            "type": "scatter"
           }
          ],
          "scatter3d": [
           {
            "line": {
             "colorbar": {
              "outlinewidth": 0,
              "ticks": ""
             }
            },
            "marker": {
             "colorbar": {
              "outlinewidth": 0,
              "ticks": ""
             }
            },
            "type": "scatter3d"
           }
          ],
          "scattercarpet": [
           {
            "marker": {
             "colorbar": {
              "outlinewidth": 0,
              "ticks": ""
             }
            },
            "type": "scattercarpet"
           }
          ],
          "scattergeo": [
           {
            "marker": {
             "colorbar": {
              "outlinewidth": 0,
              "ticks": ""
             }
            },
            "type": "scattergeo"
           }
          ],
          "scattergl": [
           {
            "marker": {
             "colorbar": {
              "outlinewidth": 0,
              "ticks": ""
             }
            },
            "type": "scattergl"
           }
          ],
          "scattermapbox": [
           {
            "marker": {
             "colorbar": {
              "outlinewidth": 0,
              "ticks": ""
             }
            },
            "type": "scattermapbox"
           }
          ],
          "scatterpolar": [
           {
            "marker": {
             "colorbar": {
              "outlinewidth": 0,
              "ticks": ""
             }
            },
            "type": "scatterpolar"
           }
          ],
          "scatterpolargl": [
           {
            "marker": {
             "colorbar": {
              "outlinewidth": 0,
              "ticks": ""
             }
            },
            "type": "scatterpolargl"
           }
          ],
          "scatterternary": [
           {
            "marker": {
             "colorbar": {
              "outlinewidth": 0,
              "ticks": ""
             }
            },
            "type": "scatterternary"
           }
          ],
          "surface": [
           {
            "colorbar": {
             "outlinewidth": 0,
             "ticks": ""
            },
            "colorscale": [
             [
              0,
              "#0d0887"
             ],
             [
              0.1111111111111111,
              "#46039f"
             ],
             [
              0.2222222222222222,
              "#7201a8"
             ],
             [
              0.3333333333333333,
              "#9c179e"
             ],
             [
              0.4444444444444444,
              "#bd3786"
             ],
             [
              0.5555555555555556,
              "#d8576b"
             ],
             [
              0.6666666666666666,
              "#ed7953"
             ],
             [
              0.7777777777777778,
              "#fb9f3a"
             ],
             [
              0.8888888888888888,
              "#fdca26"
             ],
             [
              1,
              "#f0f921"
             ]
            ],
            "type": "surface"
           }
          ],
          "table": [
           {
            "cells": {
             "fill": {
              "color": "#EBF0F8"
             },
             "line": {
              "color": "white"
             }
            },
            "header": {
             "fill": {
              "color": "#C8D4E3"
             },
             "line": {
              "color": "white"
             }
            },
            "type": "table"
           }
          ]
         },
         "layout": {
          "annotationdefaults": {
           "arrowcolor": "#2a3f5f",
           "arrowhead": 0,
           "arrowwidth": 1
          },
          "autotypenumbers": "strict",
          "coloraxis": {
           "colorbar": {
            "outlinewidth": 0,
            "ticks": ""
           }
          },
          "colorscale": {
           "diverging": [
            [
             0,
             "#8e0152"
            ],
            [
             0.1,
             "#c51b7d"
            ],
            [
             0.2,
             "#de77ae"
            ],
            [
             0.3,
             "#f1b6da"
            ],
            [
             0.4,
             "#fde0ef"
            ],
            [
             0.5,
             "#f7f7f7"
            ],
            [
             0.6,
             "#e6f5d0"
            ],
            [
             0.7,
             "#b8e186"
            ],
            [
             0.8,
             "#7fbc41"
            ],
            [
             0.9,
             "#4d9221"
            ],
            [
             1,
             "#276419"
            ]
           ],
           "sequential": [
            [
             0,
             "#0d0887"
            ],
            [
             0.1111111111111111,
             "#46039f"
            ],
            [
             0.2222222222222222,
             "#7201a8"
            ],
            [
             0.3333333333333333,
             "#9c179e"
            ],
            [
             0.4444444444444444,
             "#bd3786"
            ],
            [
             0.5555555555555556,
             "#d8576b"
            ],
            [
             0.6666666666666666,
             "#ed7953"
            ],
            [
             0.7777777777777778,
             "#fb9f3a"
            ],
            [
             0.8888888888888888,
             "#fdca26"
            ],
            [
             1,
             "#f0f921"
            ]
           ],
           "sequentialminus": [
            [
             0,
             "#0d0887"
            ],
            [
             0.1111111111111111,
             "#46039f"
            ],
            [
             0.2222222222222222,
             "#7201a8"
            ],
            [
             0.3333333333333333,
             "#9c179e"
            ],
            [
             0.4444444444444444,
             "#bd3786"
            ],
            [
             0.5555555555555556,
             "#d8576b"
            ],
            [
             0.6666666666666666,
             "#ed7953"
            ],
            [
             0.7777777777777778,
             "#fb9f3a"
            ],
            [
             0.8888888888888888,
             "#fdca26"
            ],
            [
             1,
             "#f0f921"
            ]
           ]
          },
          "colorway": [
           "#636efa",
           "#EF553B",
           "#00cc96",
           "#ab63fa",
           "#FFA15A",
           "#19d3f3",
           "#FF6692",
           "#B6E880",
           "#FF97FF",
           "#FECB52"
          ],
          "font": {
           "color": "#2a3f5f"
          },
          "geo": {
           "bgcolor": "white",
           "lakecolor": "white",
           "landcolor": "#E5ECF6",
           "showlakes": true,
           "showland": true,
           "subunitcolor": "white"
          },
          "hoverlabel": {
           "align": "left"
          },
          "hovermode": "closest",
          "mapbox": {
           "style": "light"
          },
          "paper_bgcolor": "white",
          "plot_bgcolor": "#E5ECF6",
          "polar": {
           "angularaxis": {
            "gridcolor": "white",
            "linecolor": "white",
            "ticks": ""
           },
           "bgcolor": "#E5ECF6",
           "radialaxis": {
            "gridcolor": "white",
            "linecolor": "white",
            "ticks": ""
           }
          },
          "scene": {
           "xaxis": {
            "backgroundcolor": "#E5ECF6",
            "gridcolor": "white",
            "gridwidth": 2,
            "linecolor": "white",
            "showbackground": true,
            "ticks": "",
            "zerolinecolor": "white"
           },
           "yaxis": {
            "backgroundcolor": "#E5ECF6",
            "gridcolor": "white",
            "gridwidth": 2,
            "linecolor": "white",
            "showbackground": true,
            "ticks": "",
            "zerolinecolor": "white"
           },
           "zaxis": {
            "backgroundcolor": "#E5ECF6",
            "gridcolor": "white",
            "gridwidth": 2,
            "linecolor": "white",
            "showbackground": true,
            "ticks": "",
            "zerolinecolor": "white"
           }
          },
          "shapedefaults": {
           "line": {
            "color": "#2a3f5f"
           }
          },
          "ternary": {
           "aaxis": {
            "gridcolor": "white",
            "linecolor": "white",
            "ticks": ""
           },
           "baxis": {
            "gridcolor": "white",
            "linecolor": "white",
            "ticks": ""
           },
           "bgcolor": "#E5ECF6",
           "caxis": {
            "gridcolor": "white",
            "linecolor": "white",
            "ticks": ""
           }
          },
          "title": {
           "x": 0.05
          },
          "xaxis": {
           "automargin": true,
           "gridcolor": "white",
           "linecolor": "white",
           "ticks": "",
           "title": {
            "standoff": 15
           },
           "zerolinecolor": "white",
           "zerolinewidth": 2
          },
          "yaxis": {
           "automargin": true,
           "gridcolor": "white",
           "linecolor": "white",
           "ticks": "",
           "title": {
            "standoff": 15
           },
           "zerolinecolor": "white",
           "zerolinewidth": 2
          }
         }
        },
        "xaxis": {
         "anchor": "y",
         "domain": [
          0,
          1
         ],
         "title": {
          "text": "Loop flow value normalized per origin"
         }
        },
        "yaxis": {
         "anchor": "x",
         "domain": [
          0,
          1
         ],
         "title": {
          "text": "Destination of loop flow"
         }
        }
       }
      }
     },
     "metadata": {},
     "output_type": "display_data"
    }
   ],
   "source": [
    "threshold = .03\n",
    "df = df_lf_per_country.copy().transpose()\n",
    "df_p = df[[c for c in df.columns if ('loop_flow_from' in c)]]\n",
    "df_m = df_p.div(df_p.abs().sum(axis=1), axis=0)\n",
    "df_s = df_m[df_m < 0].sum(axis=1)\n",
    "df_m = df_m.reindex(df_s.sort_values(ascending=False).index)\n",
    "df_n = df_m.abs() > threshold\n",
    "df_f = df_m[df_n]\n",
    "df_f['masked_positive'] = df_m[df_p[df_n == False]>0].sum(axis=1)\n",
    "df_f['masked_negative'] = df_m[df_p[df_n == False]<0].sum(axis=1)\n",
    "fig = px.bar(df_f,\n",
    "    orientation='h',\n",
    "    color_discrete_sequence=colors[:df_f.columns.size],\n",
    "    text_auto='.2f',\n",
    "    height=1000,\n",
    "    labels={\n",
    "        'index':'Destination of loop flow',\n",
    "        'value': 'Loop flow value normalized per origin',\n",
    "        'variable': 'Origin country',\n",
    "    }\n",
    "    )\n",
    "fig.show()"
   ]
  },
  {
   "cell_type": "markdown",
   "metadata": {},
   "source": [
    "# Loop flow heat map\n",
    "\n",
    "Provide a view"
   ]
  },
  {
   "cell_type": "code",
   "execution_count": 22,
   "metadata": {},
   "outputs": [
    {
     "data": {
      "application/vnd.plotly.v1+json": {
       "config": {
        "plotlyServerURL": "https://plot.ly"
       },
       "data": [
        {
         "coloraxis": "coloraxis",
         "customdata": [
          [
           4119.051667162179,
           1872.8850458890254,
           610.1030473436065,
           1158.4271257892633,
           256.4209931001209,
           737.9463596635197,
           358.8038543521299,
           602.9626031575087,
           250.20828610734685
          ],
          [
           1361.0543429623726,
           4125.928292256962,
           -164.0975961763285,
           123.25719143442646,
           919.4818553689972,
           -88.41536235071732,
           327.8605693271697,
           421.4796377351705,
           554.9892671403919
          ],
          [
           -1256.4631647153528,
           -290.87680151083373,
           1227.8693969720866,
           -806.8970098058869,
           37.61036051115119,
           210.14755884523737,
           -256.35813913848443,
           -316.3900121836368,
           350.032500337826
          ],
          [
           1167.5846799148162,
           1770.6837725257028,
           637.3758803755511,
           2204.5419244902046,
           231.16473019570296,
           -157.25780778718746,
           321.6663420202993,
           147.3635258519086,
           1615.2672302581607
          ],
          [
           -815.8724323095565,
           -619.0174706966866,
           -4.584105879069661,
           332.64683804661314,
           1111.120776818485,
           406.5929724455436,
           154.64424538879197,
           252.2890580201445,
           86.66182110210099
          ],
          [
           -216.22283491926424,
           133.6254596880117,
           -110.54933004363266,
           66.00830791173054,
           -61.96399694393618,
           4759.760759575941,
           458.8940666838563,
           482.2909943301387,
           521.8632762555138
          ],
          [
           1338.3025437665406,
           -665.5166330185007,
           -642.6235290886066,
           376.87817385692944,
           -318.6424299915831,
           -321.2827557053316,
           2561.6893709475526,
           1638.4018725014027,
           -5.887802165893561
          ],
          [
           2722.7951438354044,
           257.7938843251022,
           707.0342749357371,
           1763.9479678836544,
           167.66071563598265,
           546.6560956068406,
           1300.7185039683186,
           2326.767044398744,
           -286.6777507159053
          ],
          [
           638.162852236087,
           471.70921973064964,
           144.06253387695847,
           561.8680833690437,
           -58.70408721968734,
           744.6984744505019,
           473.95540274176767,
           564.4827405409142,
           2863.537609250324
          ]
         ],
         "hovertemplate": "Source country: %{y}<br>Visited country: %{x}<br>Loop flow: %{customdata:.2f}<extra></extra>",
         "name": "0",
         "type": "heatmap",
         "x": [
          "Austria",
          "Bulgaria",
          "Czechia",
          "Denmark",
          "Finland",
          "France",
          "Greece",
          "Lithuania",
          "Luxembourg"
         ],
         "xaxis": "x",
         "y": [
          "Austria",
          "Bulgaria",
          "Czechia",
          "Denmark",
          "Finland",
          "France",
          "Greece",
          "Lithuania",
          "Luxembourg"
         ],
         "yaxis": "y",
         "z": [
          [
           3.6149026623007883,
           3.2727429454272463,
           2.7861144493902783,
           3.064243456844469,
           2.410643961433052,
           2.868612913973119,
           2.556065811357769,
           2.7810100483145987,
           2.400033960508417
          ],
          [
           3.134194435313823,
           3.6156269228275817,
           -2.217740749974144,
           2.0943215330987974,
           2.9640152320678586,
           -1.9514121408426401,
           2.5170118043120566,
           2.62580578208486,
           2.745066408008869
          ],
          [
           -3.0994952719823052,
           -2.465199578454255,
           3.0895057289496615,
           -2.907356000720347,
           1.5867038567204665,
           2.324586064751353,
           -2.410537907682499,
           -2.5015932559985963,
           2.545347327474235
          ],
          [
           3.0676601884331993,
           3.248386207334944,
           2.8050764697936614,
           3.3435153175674754,
           2.365796243633308,
           -2.1993651455155794,
           2.5087536656294436,
           2.171327145766256,
           3.2085131677205645
          ],
          [
           -2.9121542398007714,
           -2.7924039271115872,
           -0.7469536442604782,
           2.523287013420523,
           3.04615195438409,
           2.6102266874677733,
           2.192133068210993,
           2.4036164288583968,
           1.9428104885216626
          ],
          [
           -2.336905477261933,
           2.1291271992373364,
           -2.047466966289716,
           1.82612865130591,
           -1.799092289166749,
           3.677676357612588,
           2.662657806566682,
           2.684208702548013,
           2.7183881398605125
          ],
          [
           3.1268786937010344,
           -2.8238109917664094,
           -2.8086319123172387,
           2.5773518079073745,
           -2.5046644236085727,
           -2.508237068458739,
           3.4086959676126107,
           3.2146854267958385,
           -0.8380806646513713
          ],
          [
           3.435174441255647,
           2.4129540091093227,
           2.8500542817789802,
           3.2467319065543796,
           2.227013938728538,
           2.7385079258841305,
           3.114517078402087,
           3.3669395153273185,
           -2.4589062744208716
          ],
          [
           2.805611526103032,
           2.6745940728743074,
           2.1615552592223066,
           2.7504066233098947,
           -1.776004063058963,
           2.872563254612166,
           2.6766528322512833,
           2.7524193540851156,
           3.457054528586909
          ]
         ]
        }
       ],
       "layout": {
        "coloraxis": {
         "cmid": 0,
         "colorbar": {
          "ticktext": [
           -1000,
           -100,
           -10,
           0,
           10,
           100,
           1000
          ],
          "tickvals": [
           -3,
           -2,
           -1,
           0,
           1,
           2,
           3
          ],
          "title": {
           "text": "Loop flow"
          }
         },
         "colorscale": [
          [
           0,
           "rgb(5,48,97)"
          ],
          [
           0.1,
           "rgb(33,102,172)"
          ],
          [
           0.2,
           "rgb(67,147,195)"
          ],
          [
           0.3,
           "rgb(146,197,222)"
          ],
          [
           0.4,
           "rgb(209,229,240)"
          ],
          [
           0.5,
           "rgb(247,247,247)"
          ],
          [
           0.6,
           "rgb(253,219,199)"
          ],
          [
           0.7,
           "rgb(244,165,130)"
          ],
          [
           0.8,
           "rgb(214,96,77)"
          ],
          [
           0.9,
           "rgb(178,24,43)"
          ],
          [
           1,
           "rgb(103,0,31)"
          ]
         ]
        },
        "height": 800,
        "margin": {
         "t": 60
        },
        "template": {
         "data": {
          "bar": [
           {
            "error_x": {
             "color": "#2a3f5f"
            },
            "error_y": {
             "color": "#2a3f5f"
            },
            "marker": {
             "line": {
              "color": "#E5ECF6",
              "width": 0.5
             },
             "pattern": {
              "fillmode": "overlay",
              "size": 10,
              "solidity": 0.2
             }
            },
            "type": "bar"
           }
          ],
          "barpolar": [
           {
            "marker": {
             "line": {
              "color": "#E5ECF6",
              "width": 0.5
             },
             "pattern": {
              "fillmode": "overlay",
              "size": 10,
              "solidity": 0.2
             }
            },
            "type": "barpolar"
           }
          ],
          "carpet": [
           {
            "aaxis": {
             "endlinecolor": "#2a3f5f",
             "gridcolor": "white",
             "linecolor": "white",
             "minorgridcolor": "white",
             "startlinecolor": "#2a3f5f"
            },
            "baxis": {
             "endlinecolor": "#2a3f5f",
             "gridcolor": "white",
             "linecolor": "white",
             "minorgridcolor": "white",
             "startlinecolor": "#2a3f5f"
            },
            "type": "carpet"
           }
          ],
          "choropleth": [
           {
            "colorbar": {
             "outlinewidth": 0,
             "ticks": ""
            },
            "type": "choropleth"
           }
          ],
          "contour": [
           {
            "colorbar": {
             "outlinewidth": 0,
             "ticks": ""
            },
            "colorscale": [
             [
              0,
              "#0d0887"
             ],
             [
              0.1111111111111111,
              "#46039f"
             ],
             [
              0.2222222222222222,
              "#7201a8"
             ],
             [
              0.3333333333333333,
              "#9c179e"
             ],
             [
              0.4444444444444444,
              "#bd3786"
             ],
             [
              0.5555555555555556,
              "#d8576b"
             ],
             [
              0.6666666666666666,
              "#ed7953"
             ],
             [
              0.7777777777777778,
              "#fb9f3a"
             ],
             [
              0.8888888888888888,
              "#fdca26"
             ],
             [
              1,
              "#f0f921"
             ]
            ],
            "type": "contour"
           }
          ],
          "contourcarpet": [
           {
            "colorbar": {
             "outlinewidth": 0,
             "ticks": ""
            },
            "type": "contourcarpet"
           }
          ],
          "heatmap": [
           {
            "colorbar": {
             "outlinewidth": 0,
             "ticks": ""
            },
            "colorscale": [
             [
              0,
              "#0d0887"
             ],
             [
              0.1111111111111111,
              "#46039f"
             ],
             [
              0.2222222222222222,
              "#7201a8"
             ],
             [
              0.3333333333333333,
              "#9c179e"
             ],
             [
              0.4444444444444444,
              "#bd3786"
             ],
             [
              0.5555555555555556,
              "#d8576b"
             ],
             [
              0.6666666666666666,
              "#ed7953"
             ],
             [
              0.7777777777777778,
              "#fb9f3a"
             ],
             [
              0.8888888888888888,
              "#fdca26"
             ],
             [
              1,
              "#f0f921"
             ]
            ],
            "type": "heatmap"
           }
          ],
          "heatmapgl": [
           {
            "colorbar": {
             "outlinewidth": 0,
             "ticks": ""
            },
            "colorscale": [
             [
              0,
              "#0d0887"
             ],
             [
              0.1111111111111111,
              "#46039f"
             ],
             [
              0.2222222222222222,
              "#7201a8"
             ],
             [
              0.3333333333333333,
              "#9c179e"
             ],
             [
              0.4444444444444444,
              "#bd3786"
             ],
             [
              0.5555555555555556,
              "#d8576b"
             ],
             [
              0.6666666666666666,
              "#ed7953"
             ],
             [
              0.7777777777777778,
              "#fb9f3a"
             ],
             [
              0.8888888888888888,
              "#fdca26"
             ],
             [
              1,
              "#f0f921"
             ]
            ],
            "type": "heatmapgl"
           }
          ],
          "histogram": [
           {
            "marker": {
             "pattern": {
              "fillmode": "overlay",
              "size": 10,
              "solidity": 0.2
             }
            },
            "type": "histogram"
           }
          ],
          "histogram2d": [
           {
            "colorbar": {
             "outlinewidth": 0,
             "ticks": ""
            },
            "colorscale": [
             [
              0,
              "#0d0887"
             ],
             [
              0.1111111111111111,
              "#46039f"
             ],
             [
              0.2222222222222222,
              "#7201a8"
             ],
             [
              0.3333333333333333,
              "#9c179e"
             ],
             [
              0.4444444444444444,
              "#bd3786"
             ],
             [
              0.5555555555555556,
              "#d8576b"
             ],
             [
              0.6666666666666666,
              "#ed7953"
             ],
             [
              0.7777777777777778,
              "#fb9f3a"
             ],
             [
              0.8888888888888888,
              "#fdca26"
             ],
             [
              1,
              "#f0f921"
             ]
            ],
            "type": "histogram2d"
           }
          ],
          "histogram2dcontour": [
           {
            "colorbar": {
             "outlinewidth": 0,
             "ticks": ""
            },
            "colorscale": [
             [
              0,
              "#0d0887"
             ],
             [
              0.1111111111111111,
              "#46039f"
             ],
             [
              0.2222222222222222,
              "#7201a8"
             ],
             [
              0.3333333333333333,
              "#9c179e"
             ],
             [
              0.4444444444444444,
              "#bd3786"
             ],
             [
              0.5555555555555556,
              "#d8576b"
             ],
             [
              0.6666666666666666,
              "#ed7953"
             ],
             [
              0.7777777777777778,
              "#fb9f3a"
             ],
             [
              0.8888888888888888,
              "#fdca26"
             ],
             [
              1,
              "#f0f921"
             ]
            ],
            "type": "histogram2dcontour"
           }
          ],
          "mesh3d": [
           {
            "colorbar": {
             "outlinewidth": 0,
             "ticks": ""
            },
            "type": "mesh3d"
           }
          ],
          "parcoords": [
           {
            "line": {
             "colorbar": {
              "outlinewidth": 0,
              "ticks": ""
             }
            },
            "type": "parcoords"
           }
          ],
          "pie": [
           {
            "automargin": true,
            "type": "pie"
           }
          ],
          "scatter": [
           {
            "fillpattern": {
             "fillmode": "overlay",
             "size": 10,
             "solidity": 0.2
            },
            "type": "scatter"
           }
          ],
          "scatter3d": [
           {
            "line": {
             "colorbar": {
              "outlinewidth": 0,
              "ticks": ""
             }
            },
            "marker": {
             "colorbar": {
              "outlinewidth": 0,
              "ticks": ""
             }
            },
            "type": "scatter3d"
           }
          ],
          "scattercarpet": [
           {
            "marker": {
             "colorbar": {
              "outlinewidth": 0,
              "ticks": ""
             }
            },
            "type": "scattercarpet"
           }
          ],
          "scattergeo": [
           {
            "marker": {
             "colorbar": {
              "outlinewidth": 0,
              "ticks": ""
             }
            },
            "type": "scattergeo"
           }
          ],
          "scattergl": [
           {
            "marker": {
             "colorbar": {
              "outlinewidth": 0,
              "ticks": ""
             }
            },
            "type": "scattergl"
           }
          ],
          "scattermapbox": [
           {
            "marker": {
             "colorbar": {
              "outlinewidth": 0,
              "ticks": ""
             }
            },
            "type": "scattermapbox"
           }
          ],
          "scatterpolar": [
           {
            "marker": {
             "colorbar": {
              "outlinewidth": 0,
              "ticks": ""
             }
            },
            "type": "scatterpolar"
           }
          ],
          "scatterpolargl": [
           {
            "marker": {
             "colorbar": {
              "outlinewidth": 0,
              "ticks": ""
             }
            },
            "type": "scatterpolargl"
           }
          ],
          "scatterternary": [
           {
            "marker": {
             "colorbar": {
              "outlinewidth": 0,
              "ticks": ""
             }
            },
            "type": "scatterternary"
           }
          ],
          "surface": [
           {
            "colorbar": {
             "outlinewidth": 0,
             "ticks": ""
            },
            "colorscale": [
             [
              0,
              "#0d0887"
             ],
             [
              0.1111111111111111,
              "#46039f"
             ],
             [
              0.2222222222222222,
              "#7201a8"
             ],
             [
              0.3333333333333333,
              "#9c179e"
             ],
             [
              0.4444444444444444,
              "#bd3786"
             ],
             [
              0.5555555555555556,
              "#d8576b"
             ],
             [
              0.6666666666666666,
              "#ed7953"
             ],
             [
              0.7777777777777778,
              "#fb9f3a"
             ],
             [
              0.8888888888888888,
              "#fdca26"
             ],
             [
              1,
              "#f0f921"
             ]
            ],
            "type": "surface"
           }
          ],
          "table": [
           {
            "cells": {
             "fill": {
              "color": "#EBF0F8"
             },
             "line": {
              "color": "white"
             }
            },
            "header": {
             "fill": {
              "color": "#C8D4E3"
             },
             "line": {
              "color": "white"
             }
            },
            "type": "table"
           }
          ]
         },
         "layout": {
          "annotationdefaults": {
           "arrowcolor": "#2a3f5f",
           "arrowhead": 0,
           "arrowwidth": 1
          },
          "autotypenumbers": "strict",
          "coloraxis": {
           "colorbar": {
            "outlinewidth": 0,
            "ticks": ""
           }
          },
          "colorscale": {
           "diverging": [
            [
             0,
             "#8e0152"
            ],
            [
             0.1,
             "#c51b7d"
            ],
            [
             0.2,
             "#de77ae"
            ],
            [
             0.3,
             "#f1b6da"
            ],
            [
             0.4,
             "#fde0ef"
            ],
            [
             0.5,
             "#f7f7f7"
            ],
            [
             0.6,
             "#e6f5d0"
            ],
            [
             0.7,
             "#b8e186"
            ],
            [
             0.8,
             "#7fbc41"
            ],
            [
             0.9,
             "#4d9221"
            ],
            [
             1,
             "#276419"
            ]
           ],
           "sequential": [
            [
             0,
             "#0d0887"
            ],
            [
             0.1111111111111111,
             "#46039f"
            ],
            [
             0.2222222222222222,
             "#7201a8"
            ],
            [
             0.3333333333333333,
             "#9c179e"
            ],
            [
             0.4444444444444444,
             "#bd3786"
            ],
            [
             0.5555555555555556,
             "#d8576b"
            ],
            [
             0.6666666666666666,
             "#ed7953"
            ],
            [
             0.7777777777777778,
             "#fb9f3a"
            ],
            [
             0.8888888888888888,
             "#fdca26"
            ],
            [
             1,
             "#f0f921"
            ]
           ],
           "sequentialminus": [
            [
             0,
             "#0d0887"
            ],
            [
             0.1111111111111111,
             "#46039f"
            ],
            [
             0.2222222222222222,
             "#7201a8"
            ],
            [
             0.3333333333333333,
             "#9c179e"
            ],
            [
             0.4444444444444444,
             "#bd3786"
            ],
            [
             0.5555555555555556,
             "#d8576b"
            ],
            [
             0.6666666666666666,
             "#ed7953"
            ],
            [
             0.7777777777777778,
             "#fb9f3a"
            ],
            [
             0.8888888888888888,
             "#fdca26"
            ],
            [
             1,
             "#f0f921"
            ]
           ]
          },
          "colorway": [
           "#636efa",
           "#EF553B",
           "#00cc96",
           "#ab63fa",
           "#FFA15A",
           "#19d3f3",
           "#FF6692",
           "#B6E880",
           "#FF97FF",
           "#FECB52"
          ],
          "font": {
           "color": "#2a3f5f"
          },
          "geo": {
           "bgcolor": "white",
           "lakecolor": "white",
           "landcolor": "#E5ECF6",
           "showlakes": true,
           "showland": true,
           "subunitcolor": "white"
          },
          "hoverlabel": {
           "align": "left"
          },
          "hovermode": "closest",
          "mapbox": {
           "style": "light"
          },
          "paper_bgcolor": "white",
          "plot_bgcolor": "#E5ECF6",
          "polar": {
           "angularaxis": {
            "gridcolor": "white",
            "linecolor": "white",
            "ticks": ""
           },
           "bgcolor": "#E5ECF6",
           "radialaxis": {
            "gridcolor": "white",
            "linecolor": "white",
            "ticks": ""
           }
          },
          "scene": {
           "xaxis": {
            "backgroundcolor": "#E5ECF6",
            "gridcolor": "white",
            "gridwidth": 2,
            "linecolor": "white",
            "showbackground": true,
            "ticks": "",
            "zerolinecolor": "white"
           },
           "yaxis": {
            "backgroundcolor": "#E5ECF6",
            "gridcolor": "white",
            "gridwidth": 2,
            "linecolor": "white",
            "showbackground": true,
            "ticks": "",
            "zerolinecolor": "white"
           },
           "zaxis": {
            "backgroundcolor": "#E5ECF6",
            "gridcolor": "white",
            "gridwidth": 2,
            "linecolor": "white",
            "showbackground": true,
            "ticks": "",
            "zerolinecolor": "white"
           }
          },
          "shapedefaults": {
           "line": {
            "color": "#2a3f5f"
           }
          },
          "ternary": {
           "aaxis": {
            "gridcolor": "white",
            "linecolor": "white",
            "ticks": ""
           },
           "baxis": {
            "gridcolor": "white",
            "linecolor": "white",
            "ticks": ""
           },
           "bgcolor": "#E5ECF6",
           "caxis": {
            "gridcolor": "white",
            "linecolor": "white",
            "ticks": ""
           }
          },
          "title": {
           "x": 0.05
          },
          "xaxis": {
           "automargin": true,
           "gridcolor": "white",
           "linecolor": "white",
           "ticks": "",
           "title": {
            "standoff": 15
           },
           "zerolinecolor": "white",
           "zerolinewidth": 2
          },
          "yaxis": {
           "automargin": true,
           "gridcolor": "white",
           "linecolor": "white",
           "ticks": "",
           "title": {
            "standoff": 15
           },
           "zerolinecolor": "white",
           "zerolinewidth": 2
          }
         }
        },
        "xaxis": {
         "anchor": "y",
         "constrain": "domain",
         "domain": [
          0,
          1
         ],
         "scaleanchor": "y",
         "title": {
          "text": "Visited country"
         }
        },
        "yaxis": {
         "anchor": "x",
         "autorange": "reversed",
         "constrain": "domain",
         "domain": [
          0,
          1
         ],
         "title": {
          "text": "Source country"
         }
        }
       }
      }
     },
     "metadata": {},
     "output_type": "display_data"
    }
   ],
   "source": [
    "df_matrix = df_lf_per_country.transpose().sort_index(axis=1).sort_index()\n",
    "\n",
    "df_matrix = df_matrix[[c for c in df_matrix.columns if ('loop_flow_from' in c)]].transpose()\n",
    "df_matrix.index = df_matrix.index.map(lambda c: c.split(\"_\")[-1].upper())\n",
    "df_matrix.index = [country.name for country in alpha_2_to_country(df_matrix.index)]\n",
    "df_matrix.columns = [country.name for country in alpha_2_to_country(df_matrix.columns)]\n",
    "fig = px.imshow(np.sign(df_matrix)*np.log10(df_matrix.abs()+1),\n",
    "    labels=dict(x=\"Visited country\", y=\"Source country\", color=\"Loop flow\"),\n",
    "    color_continuous_midpoint=0.0,\n",
    "    color_continuous_scale=\"RdBu_r\",\n",
    "    height=800)\n",
    "fig.update(data=[{'customdata': df_matrix,\n",
    "    'hovertemplate': 'Source country: %{y}<br>Visited country: %{x}<br>Loop flow: %{customdata:.2f}<extra></extra>'}])\n",
    "int_log_abs_max = int(np.log10(max(df_matrix.max().max(), abs(df_matrix.min().min()))))\n",
    "tickvals = np.arange(-int_log_abs_max, int_log_abs_max+1)\n",
    "fig.update_layout(coloraxis_colorbar=dict(\n",
    "    #title=\"Population\",\n",
    "    tickvals=tickvals,\n",
    "    ticktext=[np.sign(v)*10**abs(v) for v in tickvals],\n",
    "))\n",
    "fig.show()"
   ]
  },
  {
   "cell_type": "markdown",
   "metadata": {},
   "source": [
    "df_matrix rows are sources, columns are destinations"
   ]
  },
  {
   "cell_type": "markdown",
   "metadata": {},
   "source": [
    "# Choropleth"
   ]
  },
  {
   "cell_type": "code",
   "execution_count": 23,
   "metadata": {},
   "outputs": [],
   "source": [
    "def plot_map(source = None, visited = None):\n",
    "    if (visited is None) == (source is None) :\n",
    "        raise Exception(\"Exactly one of visited or source should be None.\")\n",
    "    if visited is None:\n",
    "        df = pd.DataFrame(df_matrix.loc[source, :])\n",
    "        country = source\n",
    "        directionSelected = \"source\"\n",
    "    else:\n",
    "        df = pd.DataFrame(df_matrix.loc[:, visited])\n",
    "        country = visited\n",
    "        directionSelected = \"visited\"\n",
    "\n",
    "    df = df.rename(columns={country:'Loop Flow'})\n",
    "    source_country_col_name = 'Source country'\n",
    "    visited_country_col_name = 'Visited country'\n",
    "    df[source_country_col_name] = df.index if source is None else [country] * len(df.index)\n",
    "    df[visited_country_col_name] = df.index if visited is None else [country] * len(df.index)\n",
    "    df['iso_alpha'] = [pycountry.countries.get(name=c).alpha_3 for c in df.index]\n",
    "    df['log_loop_flow'] = np.sign(df['Loop Flow'])*np.log10(df['Loop Flow'].abs()+1)\n",
    "\n",
    "    fig = px.choropleth(df, \n",
    "                        locations=\"iso_alpha\",\n",
    "                        color=\"log_loop_flow\",\n",
    "                        hover_data={source_country_col_name: True, visited_country_col_name: True, 'Loop Flow':':.1f', 'log_loop_flow':False, 'iso_alpha':False},\n",
    "                        color_continuous_midpoint=0.0,\n",
    "                        color_continuous_scale=\"RdBu_r\",\n",
    "                        width=1200,\n",
    "                        height=800,\n",
    "                        title=f'Loop flow decomposition with {directionSelected} country = {country}',\n",
    "                        )\n",
    "    int_log_abs_max = int(max(df['log_loop_flow'].max(), df['log_loop_flow'].min()))\n",
    "    tickvals = np.arange(-int_log_abs_max, int_log_abs_max+1)\n",
    "    fig.update_layout(coloraxis_colorbar=dict(\n",
    "        title=\"Loop Flow\",\n",
    "        tickvals=tickvals,\n",
    "        ticktext=[np.sign(v)*10**abs(v) for v in tickvals],\n",
    "    ))\n",
    "    fig.update_geos(\n",
    "        lataxis_range=[30, 70],\n",
    "        lonaxis_range=[-20, 50]\n",
    "    )\n",
    "    fig.show()"
   ]
  },
  {
   "cell_type": "code",
   "execution_count": 24,
   "metadata": {},
   "outputs": [
    {
     "data": {
      "application/vnd.plotly.v1+json": {
       "config": {
        "plotlyServerURL": "https://plot.ly"
       },
       "data": [
        {
         "coloraxis": "coloraxis",
         "customdata": [
          [
           "Denmark",
           "Austria",
           1167.5846799148162,
           3.0676601884331993,
           "AUT"
          ],
          [
           "Denmark",
           "Bulgaria",
           1770.6837725257028,
           3.248386207334944,
           "BGR"
          ],
          [
           "Denmark",
           "Czechia",
           637.3758803755511,
           2.8050764697936614,
           "CZE"
          ],
          [
           "Denmark",
           "Denmark",
           2204.5419244902046,
           3.3435153175674754,
           "DNK"
          ],
          [
           "Denmark",
           "Finland",
           231.16473019570296,
           2.365796243633308,
           "FIN"
          ],
          [
           "Denmark",
           "France",
           -157.25780778718746,
           -2.1993651455155794,
           "FRA"
          ],
          [
           "Denmark",
           "Greece",
           321.6663420202993,
           2.5087536656294436,
           "GRC"
          ],
          [
           "Denmark",
           "Lithuania",
           147.3635258519086,
           2.171327145766256,
           "LTU"
          ],
          [
           "Denmark",
           "Luxembourg",
           1615.2672302581607,
           3.2085131677205645,
           "LUX"
          ]
         ],
         "geo": "geo",
         "hovertemplate": "Source country=%{customdata[0]}<br>Visited country=%{customdata[1]}<br>Loop Flow=%{customdata[2]:.1f}<extra></extra>",
         "locations": [
          "AUT",
          "BGR",
          "CZE",
          "DNK",
          "FIN",
          "FRA",
          "GRC",
          "LTU",
          "LUX"
         ],
         "name": "",
         "type": "choropleth",
         "z": [
          3.0676601884331993,
          3.248386207334944,
          2.8050764697936614,
          3.3435153175674754,
          2.365796243633308,
          -2.1993651455155794,
          2.5087536656294436,
          2.171327145766256,
          3.2085131677205645
         ]
        }
       ],
       "layout": {
        "coloraxis": {
         "cmid": 0,
         "colorbar": {
          "ticktext": [
           -1000,
           -100,
           -10,
           0,
           10,
           100,
           1000
          ],
          "tickvals": [
           -3,
           -2,
           -1,
           0,
           1,
           2,
           3
          ],
          "title": {
           "text": "Loop Flow"
          }
         },
         "colorscale": [
          [
           0,
           "rgb(5,48,97)"
          ],
          [
           0.1,
           "rgb(33,102,172)"
          ],
          [
           0.2,
           "rgb(67,147,195)"
          ],
          [
           0.3,
           "rgb(146,197,222)"
          ],
          [
           0.4,
           "rgb(209,229,240)"
          ],
          [
           0.5,
           "rgb(247,247,247)"
          ],
          [
           0.6,
           "rgb(253,219,199)"
          ],
          [
           0.7,
           "rgb(244,165,130)"
          ],
          [
           0.8,
           "rgb(214,96,77)"
          ],
          [
           0.9,
           "rgb(178,24,43)"
          ],
          [
           1,
           "rgb(103,0,31)"
          ]
         ]
        },
        "geo": {
         "center": {},
         "domain": {
          "x": [
           0,
           1
          ],
          "y": [
           0,
           1
          ]
         },
         "lataxis": {
          "range": [
           30,
           70
          ]
         },
         "lonaxis": {
          "range": [
           -20,
           50
          ]
         }
        },
        "height": 800,
        "legend": {
         "tracegroupgap": 0
        },
        "template": {
         "data": {
          "bar": [
           {
            "error_x": {
             "color": "#2a3f5f"
            },
            "error_y": {
             "color": "#2a3f5f"
            },
            "marker": {
             "line": {
              "color": "#E5ECF6",
              "width": 0.5
             },
             "pattern": {
              "fillmode": "overlay",
              "size": 10,
              "solidity": 0.2
             }
            },
            "type": "bar"
           }
          ],
          "barpolar": [
           {
            "marker": {
             "line": {
              "color": "#E5ECF6",
              "width": 0.5
             },
             "pattern": {
              "fillmode": "overlay",
              "size": 10,
              "solidity": 0.2
             }
            },
            "type": "barpolar"
           }
          ],
          "carpet": [
           {
            "aaxis": {
             "endlinecolor": "#2a3f5f",
             "gridcolor": "white",
             "linecolor": "white",
             "minorgridcolor": "white",
             "startlinecolor": "#2a3f5f"
            },
            "baxis": {
             "endlinecolor": "#2a3f5f",
             "gridcolor": "white",
             "linecolor": "white",
             "minorgridcolor": "white",
             "startlinecolor": "#2a3f5f"
            },
            "type": "carpet"
           }
          ],
          "choropleth": [
           {
            "colorbar": {
             "outlinewidth": 0,
             "ticks": ""
            },
            "type": "choropleth"
           }
          ],
          "contour": [
           {
            "colorbar": {
             "outlinewidth": 0,
             "ticks": ""
            },
            "colorscale": [
             [
              0,
              "#0d0887"
             ],
             [
              0.1111111111111111,
              "#46039f"
             ],
             [
              0.2222222222222222,
              "#7201a8"
             ],
             [
              0.3333333333333333,
              "#9c179e"
             ],
             [
              0.4444444444444444,
              "#bd3786"
             ],
             [
              0.5555555555555556,
              "#d8576b"
             ],
             [
              0.6666666666666666,
              "#ed7953"
             ],
             [
              0.7777777777777778,
              "#fb9f3a"
             ],
             [
              0.8888888888888888,
              "#fdca26"
             ],
             [
              1,
              "#f0f921"
             ]
            ],
            "type": "contour"
           }
          ],
          "contourcarpet": [
           {
            "colorbar": {
             "outlinewidth": 0,
             "ticks": ""
            },
            "type": "contourcarpet"
           }
          ],
          "heatmap": [
           {
            "colorbar": {
             "outlinewidth": 0,
             "ticks": ""
            },
            "colorscale": [
             [
              0,
              "#0d0887"
             ],
             [
              0.1111111111111111,
              "#46039f"
             ],
             [
              0.2222222222222222,
              "#7201a8"
             ],
             [
              0.3333333333333333,
              "#9c179e"
             ],
             [
              0.4444444444444444,
              "#bd3786"
             ],
             [
              0.5555555555555556,
              "#d8576b"
             ],
             [
              0.6666666666666666,
              "#ed7953"
             ],
             [
              0.7777777777777778,
              "#fb9f3a"
             ],
             [
              0.8888888888888888,
              "#fdca26"
             ],
             [
              1,
              "#f0f921"
             ]
            ],
            "type": "heatmap"
           }
          ],
          "heatmapgl": [
           {
            "colorbar": {
             "outlinewidth": 0,
             "ticks": ""
            },
            "colorscale": [
             [
              0,
              "#0d0887"
             ],
             [
              0.1111111111111111,
              "#46039f"
             ],
             [
              0.2222222222222222,
              "#7201a8"
             ],
             [
              0.3333333333333333,
              "#9c179e"
             ],
             [
              0.4444444444444444,
              "#bd3786"
             ],
             [
              0.5555555555555556,
              "#d8576b"
             ],
             [
              0.6666666666666666,
              "#ed7953"
             ],
             [
              0.7777777777777778,
              "#fb9f3a"
             ],
             [
              0.8888888888888888,
              "#fdca26"
             ],
             [
              1,
              "#f0f921"
             ]
            ],
            "type": "heatmapgl"
           }
          ],
          "histogram": [
           {
            "marker": {
             "pattern": {
              "fillmode": "overlay",
              "size": 10,
              "solidity": 0.2
             }
            },
            "type": "histogram"
           }
          ],
          "histogram2d": [
           {
            "colorbar": {
             "outlinewidth": 0,
             "ticks": ""
            },
            "colorscale": [
             [
              0,
              "#0d0887"
             ],
             [
              0.1111111111111111,
              "#46039f"
             ],
             [
              0.2222222222222222,
              "#7201a8"
             ],
             [
              0.3333333333333333,
              "#9c179e"
             ],
             [
              0.4444444444444444,
              "#bd3786"
             ],
             [
              0.5555555555555556,
              "#d8576b"
             ],
             [
              0.6666666666666666,
              "#ed7953"
             ],
             [
              0.7777777777777778,
              "#fb9f3a"
             ],
             [
              0.8888888888888888,
              "#fdca26"
             ],
             [
              1,
              "#f0f921"
             ]
            ],
            "type": "histogram2d"
           }
          ],
          "histogram2dcontour": [
           {
            "colorbar": {
             "outlinewidth": 0,
             "ticks": ""
            },
            "colorscale": [
             [
              0,
              "#0d0887"
             ],
             [
              0.1111111111111111,
              "#46039f"
             ],
             [
              0.2222222222222222,
              "#7201a8"
             ],
             [
              0.3333333333333333,
              "#9c179e"
             ],
             [
              0.4444444444444444,
              "#bd3786"
             ],
             [
              0.5555555555555556,
              "#d8576b"
             ],
             [
              0.6666666666666666,
              "#ed7953"
             ],
             [
              0.7777777777777778,
              "#fb9f3a"
             ],
             [
              0.8888888888888888,
              "#fdca26"
             ],
             [
              1,
              "#f0f921"
             ]
            ],
            "type": "histogram2dcontour"
           }
          ],
          "mesh3d": [
           {
            "colorbar": {
             "outlinewidth": 0,
             "ticks": ""
            },
            "type": "mesh3d"
           }
          ],
          "parcoords": [
           {
            "line": {
             "colorbar": {
              "outlinewidth": 0,
              "ticks": ""
             }
            },
            "type": "parcoords"
           }
          ],
          "pie": [
           {
            "automargin": true,
            "type": "pie"
           }
          ],
          "scatter": [
           {
            "fillpattern": {
             "fillmode": "overlay",
             "size": 10,
             "solidity": 0.2
            },
            "type": "scatter"
           }
          ],
          "scatter3d": [
           {
            "line": {
             "colorbar": {
              "outlinewidth": 0,
              "ticks": ""
             }
            },
            "marker": {
             "colorbar": {
              "outlinewidth": 0,
              "ticks": ""
             }
            },
            "type": "scatter3d"
           }
          ],
          "scattercarpet": [
           {
            "marker": {
             "colorbar": {
              "outlinewidth": 0,
              "ticks": ""
             }
            },
            "type": "scattercarpet"
           }
          ],
          "scattergeo": [
           {
            "marker": {
             "colorbar": {
              "outlinewidth": 0,
              "ticks": ""
             }
            },
            "type": "scattergeo"
           }
          ],
          "scattergl": [
           {
            "marker": {
             "colorbar": {
              "outlinewidth": 0,
              "ticks": ""
             }
            },
            "type": "scattergl"
           }
          ],
          "scattermapbox": [
           {
            "marker": {
             "colorbar": {
              "outlinewidth": 0,
              "ticks": ""
             }
            },
            "type": "scattermapbox"
           }
          ],
          "scatterpolar": [
           {
            "marker": {
             "colorbar": {
              "outlinewidth": 0,
              "ticks": ""
             }
            },
            "type": "scatterpolar"
           }
          ],
          "scatterpolargl": [
           {
            "marker": {
             "colorbar": {
              "outlinewidth": 0,
              "ticks": ""
             }
            },
            "type": "scatterpolargl"
           }
          ],
          "scatterternary": [
           {
            "marker": {
             "colorbar": {
              "outlinewidth": 0,
              "ticks": ""
             }
            },
            "type": "scatterternary"
           }
          ],
          "surface": [
           {
            "colorbar": {
             "outlinewidth": 0,
             "ticks": ""
            },
            "colorscale": [
             [
              0,
              "#0d0887"
             ],
             [
              0.1111111111111111,
              "#46039f"
             ],
             [
              0.2222222222222222,
              "#7201a8"
             ],
             [
              0.3333333333333333,
              "#9c179e"
             ],
             [
              0.4444444444444444,
              "#bd3786"
             ],
             [
              0.5555555555555556,
              "#d8576b"
             ],
             [
              0.6666666666666666,
              "#ed7953"
             ],
             [
              0.7777777777777778,
              "#fb9f3a"
             ],
             [
              0.8888888888888888,
              "#fdca26"
             ],
             [
              1,
              "#f0f921"
             ]
            ],
            "type": "surface"
           }
          ],
          "table": [
           {
            "cells": {
             "fill": {
              "color": "#EBF0F8"
             },
             "line": {
              "color": "white"
             }
            },
            "header": {
             "fill": {
              "color": "#C8D4E3"
             },
             "line": {
              "color": "white"
             }
            },
            "type": "table"
           }
          ]
         },
         "layout": {
          "annotationdefaults": {
           "arrowcolor": "#2a3f5f",
           "arrowhead": 0,
           "arrowwidth": 1
          },
          "autotypenumbers": "strict",
          "coloraxis": {
           "colorbar": {
            "outlinewidth": 0,
            "ticks": ""
           }
          },
          "colorscale": {
           "diverging": [
            [
             0,
             "#8e0152"
            ],
            [
             0.1,
             "#c51b7d"
            ],
            [
             0.2,
             "#de77ae"
            ],
            [
             0.3,
             "#f1b6da"
            ],
            [
             0.4,
             "#fde0ef"
            ],
            [
             0.5,
             "#f7f7f7"
            ],
            [
             0.6,
             "#e6f5d0"
            ],
            [
             0.7,
             "#b8e186"
            ],
            [
             0.8,
             "#7fbc41"
            ],
            [
             0.9,
             "#4d9221"
            ],
            [
             1,
             "#276419"
            ]
           ],
           "sequential": [
            [
             0,
             "#0d0887"
            ],
            [
             0.1111111111111111,
             "#46039f"
            ],
            [
             0.2222222222222222,
             "#7201a8"
            ],
            [
             0.3333333333333333,
             "#9c179e"
            ],
            [
             0.4444444444444444,
             "#bd3786"
            ],
            [
             0.5555555555555556,
             "#d8576b"
            ],
            [
             0.6666666666666666,
             "#ed7953"
            ],
            [
             0.7777777777777778,
             "#fb9f3a"
            ],
            [
             0.8888888888888888,
             "#fdca26"
            ],
            [
             1,
             "#f0f921"
            ]
           ],
           "sequentialminus": [
            [
             0,
             "#0d0887"
            ],
            [
             0.1111111111111111,
             "#46039f"
            ],
            [
             0.2222222222222222,
             "#7201a8"
            ],
            [
             0.3333333333333333,
             "#9c179e"
            ],
            [
             0.4444444444444444,
             "#bd3786"
            ],
            [
             0.5555555555555556,
             "#d8576b"
            ],
            [
             0.6666666666666666,
             "#ed7953"
            ],
            [
             0.7777777777777778,
             "#fb9f3a"
            ],
            [
             0.8888888888888888,
             "#fdca26"
            ],
            [
             1,
             "#f0f921"
            ]
           ]
          },
          "colorway": [
           "#636efa",
           "#EF553B",
           "#00cc96",
           "#ab63fa",
           "#FFA15A",
           "#19d3f3",
           "#FF6692",
           "#B6E880",
           "#FF97FF",
           "#FECB52"
          ],
          "font": {
           "color": "#2a3f5f"
          },
          "geo": {
           "bgcolor": "white",
           "lakecolor": "white",
           "landcolor": "#E5ECF6",
           "showlakes": true,
           "showland": true,
           "subunitcolor": "white"
          },
          "hoverlabel": {
           "align": "left"
          },
          "hovermode": "closest",
          "mapbox": {
           "style": "light"
          },
          "paper_bgcolor": "white",
          "plot_bgcolor": "#E5ECF6",
          "polar": {
           "angularaxis": {
            "gridcolor": "white",
            "linecolor": "white",
            "ticks": ""
           },
           "bgcolor": "#E5ECF6",
           "radialaxis": {
            "gridcolor": "white",
            "linecolor": "white",
            "ticks": ""
           }
          },
          "scene": {
           "xaxis": {
            "backgroundcolor": "#E5ECF6",
            "gridcolor": "white",
            "gridwidth": 2,
            "linecolor": "white",
            "showbackground": true,
            "ticks": "",
            "zerolinecolor": "white"
           },
           "yaxis": {
            "backgroundcolor": "#E5ECF6",
            "gridcolor": "white",
            "gridwidth": 2,
            "linecolor": "white",
            "showbackground": true,
            "ticks": "",
            "zerolinecolor": "white"
           },
           "zaxis": {
            "backgroundcolor": "#E5ECF6",
            "gridcolor": "white",
            "gridwidth": 2,
            "linecolor": "white",
            "showbackground": true,
            "ticks": "",
            "zerolinecolor": "white"
           }
          },
          "shapedefaults": {
           "line": {
            "color": "#2a3f5f"
           }
          },
          "ternary": {
           "aaxis": {
            "gridcolor": "white",
            "linecolor": "white",
            "ticks": ""
           },
           "baxis": {
            "gridcolor": "white",
            "linecolor": "white",
            "ticks": ""
           },
           "bgcolor": "#E5ECF6",
           "caxis": {
            "gridcolor": "white",
            "linecolor": "white",
            "ticks": ""
           }
          },
          "title": {
           "x": 0.05
          },
          "xaxis": {
           "automargin": true,
           "gridcolor": "white",
           "linecolor": "white",
           "ticks": "",
           "title": {
            "standoff": 15
           },
           "zerolinecolor": "white",
           "zerolinewidth": 2
          },
          "yaxis": {
           "automargin": true,
           "gridcolor": "white",
           "linecolor": "white",
           "ticks": "",
           "title": {
            "standoff": 15
           },
           "zerolinecolor": "white",
           "zerolinewidth": 2
          }
         }
        },
        "title": {
         "text": "Loop flow decomposition with source country = Denmark"
        },
        "width": 1200
       }
      }
     },
     "metadata": {},
     "output_type": "display_data"
    }
   ],
   "source": [
    "country = random.Random(12).choice(list(countries)).name\n",
    "plot_map(source=country)"
   ]
  },
  {
   "cell_type": "code",
   "execution_count": 25,
   "metadata": {},
   "outputs": [
    {
     "data": {
      "application/vnd.plotly.v1+json": {
       "config": {
        "plotlyServerURL": "https://plot.ly"
       },
       "data": [
        {
         "coloraxis": "coloraxis",
         "customdata": [
          [
           "Austria",
           "Denmark",
           1158.4271257892633,
           3.064243456844469,
           "AUT"
          ],
          [
           "Bulgaria",
           "Denmark",
           123.25719143442646,
           2.0943215330987974,
           "BGR"
          ],
          [
           "Czechia",
           "Denmark",
           -806.8970098058869,
           -2.907356000720347,
           "CZE"
          ],
          [
           "Denmark",
           "Denmark",
           2204.5419244902046,
           3.3435153175674754,
           "DNK"
          ],
          [
           "Finland",
           "Denmark",
           332.64683804661314,
           2.523287013420523,
           "FIN"
          ],
          [
           "France",
           "Denmark",
           66.00830791173054,
           1.82612865130591,
           "FRA"
          ],
          [
           "Greece",
           "Denmark",
           376.87817385692944,
           2.5773518079073745,
           "GRC"
          ],
          [
           "Lithuania",
           "Denmark",
           1763.9479678836544,
           3.2467319065543796,
           "LTU"
          ],
          [
           "Luxembourg",
           "Denmark",
           561.8680833690437,
           2.7504066233098947,
           "LUX"
          ]
         ],
         "geo": "geo",
         "hovertemplate": "Source country=%{customdata[0]}<br>Visited country=%{customdata[1]}<br>Loop Flow=%{customdata[2]:.1f}<extra></extra>",
         "locations": [
          "AUT",
          "BGR",
          "CZE",
          "DNK",
          "FIN",
          "FRA",
          "GRC",
          "LTU",
          "LUX"
         ],
         "name": "",
         "type": "choropleth",
         "z": [
          3.064243456844469,
          2.0943215330987974,
          -2.907356000720347,
          3.3435153175674754,
          2.523287013420523,
          1.82612865130591,
          2.5773518079073745,
          3.2467319065543796,
          2.7504066233098947
         ]
        }
       ],
       "layout": {
        "coloraxis": {
         "cmid": 0,
         "colorbar": {
          "ticktext": [
           -1000,
           -100,
           -10,
           0,
           10,
           100,
           1000
          ],
          "tickvals": [
           -3,
           -2,
           -1,
           0,
           1,
           2,
           3
          ],
          "title": {
           "text": "Loop Flow"
          }
         },
         "colorscale": [
          [
           0,
           "rgb(5,48,97)"
          ],
          [
           0.1,
           "rgb(33,102,172)"
          ],
          [
           0.2,
           "rgb(67,147,195)"
          ],
          [
           0.3,
           "rgb(146,197,222)"
          ],
          [
           0.4,
           "rgb(209,229,240)"
          ],
          [
           0.5,
           "rgb(247,247,247)"
          ],
          [
           0.6,
           "rgb(253,219,199)"
          ],
          [
           0.7,
           "rgb(244,165,130)"
          ],
          [
           0.8,
           "rgb(214,96,77)"
          ],
          [
           0.9,
           "rgb(178,24,43)"
          ],
          [
           1,
           "rgb(103,0,31)"
          ]
         ]
        },
        "geo": {
         "center": {},
         "domain": {
          "x": [
           0,
           1
          ],
          "y": [
           0,
           1
          ]
         },
         "lataxis": {
          "range": [
           30,
           70
          ]
         },
         "lonaxis": {
          "range": [
           -20,
           50
          ]
         }
        },
        "height": 800,
        "legend": {
         "tracegroupgap": 0
        },
        "template": {
         "data": {
          "bar": [
           {
            "error_x": {
             "color": "#2a3f5f"
            },
            "error_y": {
             "color": "#2a3f5f"
            },
            "marker": {
             "line": {
              "color": "#E5ECF6",
              "width": 0.5
             },
             "pattern": {
              "fillmode": "overlay",
              "size": 10,
              "solidity": 0.2
             }
            },
            "type": "bar"
           }
          ],
          "barpolar": [
           {
            "marker": {
             "line": {
              "color": "#E5ECF6",
              "width": 0.5
             },
             "pattern": {
              "fillmode": "overlay",
              "size": 10,
              "solidity": 0.2
             }
            },
            "type": "barpolar"
           }
          ],
          "carpet": [
           {
            "aaxis": {
             "endlinecolor": "#2a3f5f",
             "gridcolor": "white",
             "linecolor": "white",
             "minorgridcolor": "white",
             "startlinecolor": "#2a3f5f"
            },
            "baxis": {
             "endlinecolor": "#2a3f5f",
             "gridcolor": "white",
             "linecolor": "white",
             "minorgridcolor": "white",
             "startlinecolor": "#2a3f5f"
            },
            "type": "carpet"
           }
          ],
          "choropleth": [
           {
            "colorbar": {
             "outlinewidth": 0,
             "ticks": ""
            },
            "type": "choropleth"
           }
          ],
          "contour": [
           {
            "colorbar": {
             "outlinewidth": 0,
             "ticks": ""
            },
            "colorscale": [
             [
              0,
              "#0d0887"
             ],
             [
              0.1111111111111111,
              "#46039f"
             ],
             [
              0.2222222222222222,
              "#7201a8"
             ],
             [
              0.3333333333333333,
              "#9c179e"
             ],
             [
              0.4444444444444444,
              "#bd3786"
             ],
             [
              0.5555555555555556,
              "#d8576b"
             ],
             [
              0.6666666666666666,
              "#ed7953"
             ],
             [
              0.7777777777777778,
              "#fb9f3a"
             ],
             [
              0.8888888888888888,
              "#fdca26"
             ],
             [
              1,
              "#f0f921"
             ]
            ],
            "type": "contour"
           }
          ],
          "contourcarpet": [
           {
            "colorbar": {
             "outlinewidth": 0,
             "ticks": ""
            },
            "type": "contourcarpet"
           }
          ],
          "heatmap": [
           {
            "colorbar": {
             "outlinewidth": 0,
             "ticks": ""
            },
            "colorscale": [
             [
              0,
              "#0d0887"
             ],
             [
              0.1111111111111111,
              "#46039f"
             ],
             [
              0.2222222222222222,
              "#7201a8"
             ],
             [
              0.3333333333333333,
              "#9c179e"
             ],
             [
              0.4444444444444444,
              "#bd3786"
             ],
             [
              0.5555555555555556,
              "#d8576b"
             ],
             [
              0.6666666666666666,
              "#ed7953"
             ],
             [
              0.7777777777777778,
              "#fb9f3a"
             ],
             [
              0.8888888888888888,
              "#fdca26"
             ],
             [
              1,
              "#f0f921"
             ]
            ],
            "type": "heatmap"
           }
          ],
          "heatmapgl": [
           {
            "colorbar": {
             "outlinewidth": 0,
             "ticks": ""
            },
            "colorscale": [
             [
              0,
              "#0d0887"
             ],
             [
              0.1111111111111111,
              "#46039f"
             ],
             [
              0.2222222222222222,
              "#7201a8"
             ],
             [
              0.3333333333333333,
              "#9c179e"
             ],
             [
              0.4444444444444444,
              "#bd3786"
             ],
             [
              0.5555555555555556,
              "#d8576b"
             ],
             [
              0.6666666666666666,
              "#ed7953"
             ],
             [
              0.7777777777777778,
              "#fb9f3a"
             ],
             [
              0.8888888888888888,
              "#fdca26"
             ],
             [
              1,
              "#f0f921"
             ]
            ],
            "type": "heatmapgl"
           }
          ],
          "histogram": [
           {
            "marker": {
             "pattern": {
              "fillmode": "overlay",
              "size": 10,
              "solidity": 0.2
             }
            },
            "type": "histogram"
           }
          ],
          "histogram2d": [
           {
            "colorbar": {
             "outlinewidth": 0,
             "ticks": ""
            },
            "colorscale": [
             [
              0,
              "#0d0887"
             ],
             [
              0.1111111111111111,
              "#46039f"
             ],
             [
              0.2222222222222222,
              "#7201a8"
             ],
             [
              0.3333333333333333,
              "#9c179e"
             ],
             [
              0.4444444444444444,
              "#bd3786"
             ],
             [
              0.5555555555555556,
              "#d8576b"
             ],
             [
              0.6666666666666666,
              "#ed7953"
             ],
             [
              0.7777777777777778,
              "#fb9f3a"
             ],
             [
              0.8888888888888888,
              "#fdca26"
             ],
             [
              1,
              "#f0f921"
             ]
            ],
            "type": "histogram2d"
           }
          ],
          "histogram2dcontour": [
           {
            "colorbar": {
             "outlinewidth": 0,
             "ticks": ""
            },
            "colorscale": [
             [
              0,
              "#0d0887"
             ],
             [
              0.1111111111111111,
              "#46039f"
             ],
             [
              0.2222222222222222,
              "#7201a8"
             ],
             [
              0.3333333333333333,
              "#9c179e"
             ],
             [
              0.4444444444444444,
              "#bd3786"
             ],
             [
              0.5555555555555556,
              "#d8576b"
             ],
             [
              0.6666666666666666,
              "#ed7953"
             ],
             [
              0.7777777777777778,
              "#fb9f3a"
             ],
             [
              0.8888888888888888,
              "#fdca26"
             ],
             [
              1,
              "#f0f921"
             ]
            ],
            "type": "histogram2dcontour"
           }
          ],
          "mesh3d": [
           {
            "colorbar": {
             "outlinewidth": 0,
             "ticks": ""
            },
            "type": "mesh3d"
           }
          ],
          "parcoords": [
           {
            "line": {
             "colorbar": {
              "outlinewidth": 0,
              "ticks": ""
             }
            },
            "type": "parcoords"
           }
          ],
          "pie": [
           {
            "automargin": true,
            "type": "pie"
           }
          ],
          "scatter": [
           {
            "fillpattern": {
             "fillmode": "overlay",
             "size": 10,
             "solidity": 0.2
            },
            "type": "scatter"
           }
          ],
          "scatter3d": [
           {
            "line": {
             "colorbar": {
              "outlinewidth": 0,
              "ticks": ""
             }
            },
            "marker": {
             "colorbar": {
              "outlinewidth": 0,
              "ticks": ""
             }
            },
            "type": "scatter3d"
           }
          ],
          "scattercarpet": [
           {
            "marker": {
             "colorbar": {
              "outlinewidth": 0,
              "ticks": ""
             }
            },
            "type": "scattercarpet"
           }
          ],
          "scattergeo": [
           {
            "marker": {
             "colorbar": {
              "outlinewidth": 0,
              "ticks": ""
             }
            },
            "type": "scattergeo"
           }
          ],
          "scattergl": [
           {
            "marker": {
             "colorbar": {
              "outlinewidth": 0,
              "ticks": ""
             }
            },
            "type": "scattergl"
           }
          ],
          "scattermapbox": [
           {
            "marker": {
             "colorbar": {
              "outlinewidth": 0,
              "ticks": ""
             }
            },
            "type": "scattermapbox"
           }
          ],
          "scatterpolar": [
           {
            "marker": {
             "colorbar": {
              "outlinewidth": 0,
              "ticks": ""
             }
            },
            "type": "scatterpolar"
           }
          ],
          "scatterpolargl": [
           {
            "marker": {
             "colorbar": {
              "outlinewidth": 0,
              "ticks": ""
             }
            },
            "type": "scatterpolargl"
           }
          ],
          "scatterternary": [
           {
            "marker": {
             "colorbar": {
              "outlinewidth": 0,
              "ticks": ""
             }
            },
            "type": "scatterternary"
           }
          ],
          "surface": [
           {
            "colorbar": {
             "outlinewidth": 0,
             "ticks": ""
            },
            "colorscale": [
             [
              0,
              "#0d0887"
             ],
             [
              0.1111111111111111,
              "#46039f"
             ],
             [
              0.2222222222222222,
              "#7201a8"
             ],
             [
              0.3333333333333333,
              "#9c179e"
             ],
             [
              0.4444444444444444,
              "#bd3786"
             ],
             [
              0.5555555555555556,
              "#d8576b"
             ],
             [
              0.6666666666666666,
              "#ed7953"
             ],
             [
              0.7777777777777778,
              "#fb9f3a"
             ],
             [
              0.8888888888888888,
              "#fdca26"
             ],
             [
              1,
              "#f0f921"
             ]
            ],
            "type": "surface"
           }
          ],
          "table": [
           {
            "cells": {
             "fill": {
              "color": "#EBF0F8"
             },
             "line": {
              "color": "white"
             }
            },
            "header": {
             "fill": {
              "color": "#C8D4E3"
             },
             "line": {
              "color": "white"
             }
            },
            "type": "table"
           }
          ]
         },
         "layout": {
          "annotationdefaults": {
           "arrowcolor": "#2a3f5f",
           "arrowhead": 0,
           "arrowwidth": 1
          },
          "autotypenumbers": "strict",
          "coloraxis": {
           "colorbar": {
            "outlinewidth": 0,
            "ticks": ""
           }
          },
          "colorscale": {
           "diverging": [
            [
             0,
             "#8e0152"
            ],
            [
             0.1,
             "#c51b7d"
            ],
            [
             0.2,
             "#de77ae"
            ],
            [
             0.3,
             "#f1b6da"
            ],
            [
             0.4,
             "#fde0ef"
            ],
            [
             0.5,
             "#f7f7f7"
            ],
            [
             0.6,
             "#e6f5d0"
            ],
            [
             0.7,
             "#b8e186"
            ],
            [
             0.8,
             "#7fbc41"
            ],
            [
             0.9,
             "#4d9221"
            ],
            [
             1,
             "#276419"
            ]
           ],
           "sequential": [
            [
             0,
             "#0d0887"
            ],
            [
             0.1111111111111111,
             "#46039f"
            ],
            [
             0.2222222222222222,
             "#7201a8"
            ],
            [
             0.3333333333333333,
             "#9c179e"
            ],
            [
             0.4444444444444444,
             "#bd3786"
            ],
            [
             0.5555555555555556,
             "#d8576b"
            ],
            [
             0.6666666666666666,
             "#ed7953"
            ],
            [
             0.7777777777777778,
             "#fb9f3a"
            ],
            [
             0.8888888888888888,
             "#fdca26"
            ],
            [
             1,
             "#f0f921"
            ]
           ],
           "sequentialminus": [
            [
             0,
             "#0d0887"
            ],
            [
             0.1111111111111111,
             "#46039f"
            ],
            [
             0.2222222222222222,
             "#7201a8"
            ],
            [
             0.3333333333333333,
             "#9c179e"
            ],
            [
             0.4444444444444444,
             "#bd3786"
            ],
            [
             0.5555555555555556,
             "#d8576b"
            ],
            [
             0.6666666666666666,
             "#ed7953"
            ],
            [
             0.7777777777777778,
             "#fb9f3a"
            ],
            [
             0.8888888888888888,
             "#fdca26"
            ],
            [
             1,
             "#f0f921"
            ]
           ]
          },
          "colorway": [
           "#636efa",
           "#EF553B",
           "#00cc96",
           "#ab63fa",
           "#FFA15A",
           "#19d3f3",
           "#FF6692",
           "#B6E880",
           "#FF97FF",
           "#FECB52"
          ],
          "font": {
           "color": "#2a3f5f"
          },
          "geo": {
           "bgcolor": "white",
           "lakecolor": "white",
           "landcolor": "#E5ECF6",
           "showlakes": true,
           "showland": true,
           "subunitcolor": "white"
          },
          "hoverlabel": {
           "align": "left"
          },
          "hovermode": "closest",
          "mapbox": {
           "style": "light"
          },
          "paper_bgcolor": "white",
          "plot_bgcolor": "#E5ECF6",
          "polar": {
           "angularaxis": {
            "gridcolor": "white",
            "linecolor": "white",
            "ticks": ""
           },
           "bgcolor": "#E5ECF6",
           "radialaxis": {
            "gridcolor": "white",
            "linecolor": "white",
            "ticks": ""
           }
          },
          "scene": {
           "xaxis": {
            "backgroundcolor": "#E5ECF6",
            "gridcolor": "white",
            "gridwidth": 2,
            "linecolor": "white",
            "showbackground": true,
            "ticks": "",
            "zerolinecolor": "white"
           },
           "yaxis": {
            "backgroundcolor": "#E5ECF6",
            "gridcolor": "white",
            "gridwidth": 2,
            "linecolor": "white",
            "showbackground": true,
            "ticks": "",
            "zerolinecolor": "white"
           },
           "zaxis": {
            "backgroundcolor": "#E5ECF6",
            "gridcolor": "white",
            "gridwidth": 2,
            "linecolor": "white",
            "showbackground": true,
            "ticks": "",
            "zerolinecolor": "white"
           }
          },
          "shapedefaults": {
           "line": {
            "color": "#2a3f5f"
           }
          },
          "ternary": {
           "aaxis": {
            "gridcolor": "white",
            "linecolor": "white",
            "ticks": ""
           },
           "baxis": {
            "gridcolor": "white",
            "linecolor": "white",
            "ticks": ""
           },
           "bgcolor": "#E5ECF6",
           "caxis": {
            "gridcolor": "white",
            "linecolor": "white",
            "ticks": ""
           }
          },
          "title": {
           "x": 0.05
          },
          "xaxis": {
           "automargin": true,
           "gridcolor": "white",
           "linecolor": "white",
           "ticks": "",
           "title": {
            "standoff": 15
           },
           "zerolinecolor": "white",
           "zerolinewidth": 2
          },
          "yaxis": {
           "automargin": true,
           "gridcolor": "white",
           "linecolor": "white",
           "ticks": "",
           "title": {
            "standoff": 15
           },
           "zerolinecolor": "white",
           "zerolinewidth": 2
          }
         }
        },
        "title": {
         "text": "Loop flow decomposition with visited country = Denmark"
        },
        "width": 1200
       }
      }
     },
     "metadata": {},
     "output_type": "display_data"
    }
   ],
   "source": [
    "plot_map(visited=country)"
   ]
  }
 ],
 "metadata": {
  "kernelspec": {
   "display_name": "Python 3.9.12 ('py39powsybl')",
   "language": "python",
   "name": "python3"
  },
  "language_info": {
   "codemirror_mode": {
    "name": "ipython",
    "version": 3
   },
   "file_extension": ".py",
   "mimetype": "text/x-python",
   "name": "python",
   "nbconvert_exporter": "python",
   "pygments_lexer": "ipython3",
   "version": "3.9.12"
  },
  "orig_nbformat": 4,
  "vscode": {
   "interpreter": {
    "hash": "6f165bd22a0c6739b02a0f15d38c1c28d76a892cc2ef1fbc8df4ef066b04d352"
   }
  }
 },
 "nbformat": 4,
 "nbformat_minor": 2
}
