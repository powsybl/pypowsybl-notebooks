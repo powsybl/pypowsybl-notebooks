{
 "cells": [
  {
   "cell_type": "code",
   "execution_count": 9,
   "metadata": {},
   "outputs": [],
   "source": [
    "import random\n",
    "import numpy as np\n",
    "import pandas as pd\n",
    "import plotly.express as px\n",
    "\n",
    "import pypowsybl as pp\n",
    "\n",
    "pd.options.display.max_columns = None\n",
    "pd.options.display.expand_frame_repr = False\n"
   ]
  },
  {
   "cell_type": "code",
   "execution_count": 10,
   "metadata": {},
   "outputs": [],
   "source": [
    "colors = px.colors.qualitative.Dark24 + px.colors.qualitative.Light24\n",
    "random.Random(42).shuffle(colors)"
   ]
  },
  {
   "cell_type": "markdown",
   "metadata": {},
   "source": [
    "# Load a network\n",
    "\n",
    "You can load your own network with \n",
    "net = pp.network.load(...)"
   ]
  },
  {
   "cell_type": "code",
   "execution_count": 11,
   "metadata": {},
   "outputs": [],
   "source": [
    "def get_upgraded_ieee_net():\n",
    "    net = pp.network.create_ieee300()\n",
    "\n",
    "    # add country to substations\n",
    "    substation_ids = net.get_substations().index\n",
    "    all_countries = ['AF', 'AX', 'AL', 'DZ', 'AS', 'AD', 'AO', 'AI', 'AQ', 'AG', 'AR', 'AM', 'AW', 'AU', 'AT', 'AZ', 'BS', 'BH', 'BD', 'BB', 'BY', 'BE', 'BZ', 'BJ', 'BM', 'BT', 'BO', 'BQ', 'BA', 'BW', 'BV', 'BR', 'IO', 'BN', 'BG', 'BF', 'BI', 'KH', 'CM', 'CA', 'CV', 'KY', 'CF', 'TD', 'CL', 'CN', 'CX', 'CC', 'CO', 'KM', 'CG', 'CD', 'CK', 'CR', 'CI', 'HR', 'CU', 'CW', 'CY', 'CZ', 'DK', 'DJ', 'DM', 'DO', 'EC', 'EG', 'SV', 'GQ', 'ER', 'EE', 'ET', 'FK', 'FO', 'FJ', 'FI', 'FR', 'GF', 'PF', 'TF', 'GA', 'GM', 'GE', 'DE', 'GH', 'GI', 'GR', 'GL', 'GD', 'GP', 'GU', 'GT', 'GG', 'GN', 'GW', 'GY', 'HT', 'HM', 'VA', 'HN', 'HK', 'HU', 'IS', 'IN', 'ID', 'IR', 'IQ', 'IE', 'IM', 'IL', 'IT', 'JM', 'JP', 'JE', 'JO', 'KZ', 'KE', 'KI', 'KP', 'KR', 'XK', 'KW', 'KG', 'LA', 'LV', 'LB', 'LS', 'LR', 'LY', 'LI', 'LT', 'LU', 'MO', 'MK', 'MG', 'MW', 'MY', 'MV', 'ML', 'MT', 'MH', 'MQ', 'MR', 'MU', 'YT', 'MX', 'FM', 'MD', 'MC', 'MN', 'ME', 'MS', 'MA', 'MZ', 'MM', 'NA', 'NR', 'NP', 'NL', 'NC', 'NZ', 'NI', 'NE', 'NG', 'NU', 'NF', 'MP', 'NO', 'OM', 'PK', 'PW', 'PS', 'PA', 'PG', 'PY', 'PE', 'PH', 'PN', 'PL', 'PT', 'PR', 'QA', 'RE', 'RO', 'RU', 'RW', 'BL', 'SH', 'KN', 'LC', 'MF', 'PM', 'VC', 'WS', 'SM', 'ST', 'SA', 'SN', 'RS', 'SC', 'SL', 'SG', 'SX', 'SK', 'SI', 'SB', 'SO', 'ZA', 'GS', 'SS', 'ES', 'LK', 'SD', 'SR', 'SJ', 'SZ', 'SE', 'CH', 'SY', 'TW', 'TJ', 'TZ', 'TH', 'TL', 'TG', 'TK', 'TO', 'TT', 'TN', 'TR', 'TM', 'TC', 'TV', 'UG', 'UA', 'AE', 'GB', 'US', 'UM', 'UY', 'UZ', 'VU', 'VE', 'VN', 'VG', 'VI', 'WF', 'EH', 'YE', 'ZM', 'ZW']\n",
    "    number_country = 20\n",
    "    random.Random(42).shuffle(all_countries)\n",
    "    substation_countries = random.Random(42).choices(all_countries[:number_country], k=len(substation_ids))\n",
    "    net.update_substations(id=substation_ids, country=substation_countries)\n",
    "\n",
    "    # disconnect shunt: not supported yet\n",
    "    sh = net.get_shunt_compensators().index\n",
    "    net.update_shunt_compensators(id=sh, connected=[False]*len(sh))\n",
    "\n",
    "    # generator fix: otherwise they are discarded because of not plausible Pmax\n",
    "    gen = net.get_generators().index\n",
    "    net.update_generators(id=gen, max_p=[1000]*len(gen), min_p=[-1000]*len(gen))\n",
    "\n",
    "    #net.dump(\"/tmp/test-net.xiidm\")\n",
    "\n",
    "    return net"
   ]
  },
  {
   "cell_type": "code",
   "execution_count": 12,
   "metadata": {},
   "outputs": [],
   "source": [
    "net = get_upgraded_ieee_net()"
   ]
  },
  {
   "cell_type": "markdown",
   "metadata": {},
   "source": [
    "# Run a flow decomposition\n",
    "Add useful columns:\n",
    "- total loop flow\n",
    "- total flow\n",
    "- country terminal 1\n",
    "- country terminal 2"
   ]
  },
  {
   "cell_type": "code",
   "execution_count": 14,
   "metadata": {},
   "outputs": [],
   "source": [
    "flow_dec_original=pp.flowdecomposition.run(net)"
   ]
  },
  {
   "cell_type": "code",
   "execution_count": 15,
   "metadata": {},
   "outputs": [
    {
     "data": {
      "text/html": [
       "<div>\n",
       "<style scoped>\n",
       "    .dataframe tbody tr th:only-of-type {\n",
       "        vertical-align: middle;\n",
       "    }\n",
       "\n",
       "    .dataframe tbody tr th {\n",
       "        vertical-align: top;\n",
       "    }\n",
       "\n",
       "    .dataframe thead th {\n",
       "        text-align: right;\n",
       "    }\n",
       "</style>\n",
       "<table border=\"1\" class=\"dataframe\">\n",
       "  <thead>\n",
       "    <tr style=\"text-align: right;\">\n",
       "      <th></th>\n",
       "      <th>commercial_flow</th>\n",
       "      <th>pst_flow</th>\n",
       "      <th>loop_flow_from_ag</th>\n",
       "      <th>loop_flow_from_az</th>\n",
       "      <th>loop_flow_from_be</th>\n",
       "      <th>loop_flow_from_cd</th>\n",
       "      <th>loop_flow_from_cl</th>\n",
       "      <th>loop_flow_from_dz</th>\n",
       "      <th>loop_flow_from_es</th>\n",
       "      <th>loop_flow_from_gr</th>\n",
       "      <th>loop_flow_from_gu</th>\n",
       "      <th>loop_flow_from_hn</th>\n",
       "      <th>loop_flow_from_id</th>\n",
       "      <th>loop_flow_from_iq</th>\n",
       "      <th>loop_flow_from_jo</th>\n",
       "      <th>loop_flow_from_ke</th>\n",
       "      <th>loop_flow_from_kg</th>\n",
       "      <th>loop_flow_from_lv</th>\n",
       "      <th>loop_flow_from_om</th>\n",
       "      <th>loop_flow_from_pn</th>\n",
       "      <th>loop_flow_from_rs</th>\n",
       "      <th>loop_flow_from_rw</th>\n",
       "      <th>ac_reference_flow</th>\n",
       "      <th>dc_reference_flow</th>\n",
       "      <th>country1</th>\n",
       "      <th>country2</th>\n",
       "      <th>total_flow</th>\n",
       "      <th>total_loop_flow</th>\n",
       "    </tr>\n",
       "    <tr>\n",
       "      <th>branch_id</th>\n",
       "      <th></th>\n",
       "      <th></th>\n",
       "      <th></th>\n",
       "      <th></th>\n",
       "      <th></th>\n",
       "      <th></th>\n",
       "      <th></th>\n",
       "      <th></th>\n",
       "      <th></th>\n",
       "      <th></th>\n",
       "      <th></th>\n",
       "      <th></th>\n",
       "      <th></th>\n",
       "      <th></th>\n",
       "      <th></th>\n",
       "      <th></th>\n",
       "      <th></th>\n",
       "      <th></th>\n",
       "      <th></th>\n",
       "      <th></th>\n",
       "      <th></th>\n",
       "      <th></th>\n",
       "      <th></th>\n",
       "      <th></th>\n",
       "      <th></th>\n",
       "      <th></th>\n",
       "      <th></th>\n",
       "      <th></th>\n",
       "    </tr>\n",
       "  </thead>\n",
       "  <tbody>\n",
       "    <tr>\n",
       "      <th>L1-5-1</th>\n",
       "      <td>0.0</td>\n",
       "      <td>0.0</td>\n",
       "      <td>3.515342</td>\n",
       "      <td>234.424983</td>\n",
       "      <td>2.886098</td>\n",
       "      <td>5.192526</td>\n",
       "      <td>156.098934</td>\n",
       "      <td>-22.104276</td>\n",
       "      <td>-21.779082</td>\n",
       "      <td>0.415690</td>\n",
       "      <td>6.105495</td>\n",
       "      <td>5.661062</td>\n",
       "      <td>1.436846</td>\n",
       "      <td>1.397081</td>\n",
       "      <td>-0.884369</td>\n",
       "      <td>-2.148660</td>\n",
       "      <td>25.805953</td>\n",
       "      <td>-0.352580</td>\n",
       "      <td>3.799878</td>\n",
       "      <td>0.397073</td>\n",
       "      <td>0.662084</td>\n",
       "      <td>0.685592</td>\n",
       "      <td>NaN</td>\n",
       "      <td>401.182483</td>\n",
       "      <td>AZ</td>\n",
       "      <td>CL</td>\n",
       "      <td>401.215671</td>\n",
       "      <td>401.215671</td>\n",
       "    </tr>\n",
       "    <tr>\n",
       "      <th>L100-102-1</th>\n",
       "      <td>0.0</td>\n",
       "      <td>0.0</td>\n",
       "      <td>1.531419</td>\n",
       "      <td>-10.562336</td>\n",
       "      <td>-5.914958</td>\n",
       "      <td>6.148387</td>\n",
       "      <td>5.248153</td>\n",
       "      <td>-7.233396</td>\n",
       "      <td>12.196365</td>\n",
       "      <td>9.223193</td>\n",
       "      <td>0.345833</td>\n",
       "      <td>3.043576</td>\n",
       "      <td>8.329800</td>\n",
       "      <td>7.748080</td>\n",
       "      <td>2.406035</td>\n",
       "      <td>-14.830335</td>\n",
       "      <td>-9.708542</td>\n",
       "      <td>13.581693</td>\n",
       "      <td>12.982713</td>\n",
       "      <td>-7.024001</td>\n",
       "      <td>2.623456</td>\n",
       "      <td>2.245156</td>\n",
       "      <td>NaN</td>\n",
       "      <td>32.200533</td>\n",
       "      <td>AZ</td>\n",
       "      <td>ID</td>\n",
       "      <td>32.380292</td>\n",
       "      <td>32.380292</td>\n",
       "    </tr>\n",
       "    <tr>\n",
       "      <th>L102-104-1</th>\n",
       "      <td>0.0</td>\n",
       "      <td>0.0</td>\n",
       "      <td>27.443521</td>\n",
       "      <td>20.055127</td>\n",
       "      <td>-8.794768</td>\n",
       "      <td>-9.189269</td>\n",
       "      <td>-4.117538</td>\n",
       "      <td>20.173960</td>\n",
       "      <td>20.287615</td>\n",
       "      <td>-6.578910</td>\n",
       "      <td>9.020311</td>\n",
       "      <td>-2.100887</td>\n",
       "      <td>-1.308336</td>\n",
       "      <td>2.404690</td>\n",
       "      <td>-12.068429</td>\n",
       "      <td>-15.516320</td>\n",
       "      <td>5.699302</td>\n",
       "      <td>1.914892</td>\n",
       "      <td>4.095777</td>\n",
       "      <td>-3.417192</td>\n",
       "      <td>1.654031</td>\n",
       "      <td>2.906882</td>\n",
       "      <td>NaN</td>\n",
       "      <td>52.162147</td>\n",
       "      <td>ID</td>\n",
       "      <td>GU</td>\n",
       "      <td>52.564459</td>\n",
       "      <td>52.564459</td>\n",
       "    </tr>\n",
       "    <tr>\n",
       "      <th>L103-105-1</th>\n",
       "      <td>0.0</td>\n",
       "      <td>0.0</td>\n",
       "      <td>25.594807</td>\n",
       "      <td>16.195352</td>\n",
       "      <td>-11.756622</td>\n",
       "      <td>-19.352100</td>\n",
       "      <td>-4.856852</td>\n",
       "      <td>18.805434</td>\n",
       "      <td>24.458773</td>\n",
       "      <td>-5.291831</td>\n",
       "      <td>3.355045</td>\n",
       "      <td>1.445562</td>\n",
       "      <td>1.725261</td>\n",
       "      <td>4.528265</td>\n",
       "      <td>-10.485583</td>\n",
       "      <td>-3.043226</td>\n",
       "      <td>4.314552</td>\n",
       "      <td>-2.557710</td>\n",
       "      <td>-6.987406</td>\n",
       "      <td>-5.888070</td>\n",
       "      <td>2.290382</td>\n",
       "      <td>3.344206</td>\n",
       "      <td>NaN</td>\n",
       "      <td>35.634149</td>\n",
       "      <td>CD</td>\n",
       "      <td>KE</td>\n",
       "      <td>35.838239</td>\n",
       "      <td>35.838239</td>\n",
       "    </tr>\n",
       "    <tr>\n",
       "      <th>L104-108-1</th>\n",
       "      <td>0.0</td>\n",
       "      <td>0.0</td>\n",
       "      <td>27.443521</td>\n",
       "      <td>20.055127</td>\n",
       "      <td>-8.794768</td>\n",
       "      <td>-9.189269</td>\n",
       "      <td>-4.117538</td>\n",
       "      <td>20.173960</td>\n",
       "      <td>20.287615</td>\n",
       "      <td>-8.978910</td>\n",
       "      <td>0.420311</td>\n",
       "      <td>-2.100887</td>\n",
       "      <td>-1.308336</td>\n",
       "      <td>2.404690</td>\n",
       "      <td>-12.068429</td>\n",
       "      <td>-15.516320</td>\n",
       "      <td>5.699302</td>\n",
       "      <td>1.914892</td>\n",
       "      <td>4.095777</td>\n",
       "      <td>-3.417192</td>\n",
       "      <td>1.654031</td>\n",
       "      <td>2.906882</td>\n",
       "      <td>NaN</td>\n",
       "      <td>41.162147</td>\n",
       "      <td>GU</td>\n",
       "      <td>KG</td>\n",
       "      <td>41.564459</td>\n",
       "      <td>41.564459</td>\n",
       "    </tr>\n",
       "  </tbody>\n",
       "</table>\n",
       "</div>"
      ],
      "text/plain": [
       "            commercial_flow  pst_flow  loop_flow_from_ag  loop_flow_from_az  loop_flow_from_be  loop_flow_from_cd  loop_flow_from_cl  loop_flow_from_dz  loop_flow_from_es  loop_flow_from_gr  loop_flow_from_gu  loop_flow_from_hn  loop_flow_from_id  loop_flow_from_iq  loop_flow_from_jo  loop_flow_from_ke  loop_flow_from_kg  loop_flow_from_lv  loop_flow_from_om  loop_flow_from_pn  loop_flow_from_rs  loop_flow_from_rw  ac_reference_flow  dc_reference_flow country1 country2  total_flow  total_loop_flow\n",
       "branch_id                                                                                                                                                                                                                                                                                                                                                                                                                                                                                                             \n",
       "L1-5-1                  0.0       0.0           3.515342         234.424983           2.886098           5.192526         156.098934         -22.104276         -21.779082           0.415690           6.105495           5.661062           1.436846           1.397081          -0.884369          -2.148660          25.805953          -0.352580           3.799878           0.397073           0.662084           0.685592                NaN         401.182483       AZ       CL  401.215671       401.215671\n",
       "L100-102-1              0.0       0.0           1.531419         -10.562336          -5.914958           6.148387           5.248153          -7.233396          12.196365           9.223193           0.345833           3.043576           8.329800           7.748080           2.406035         -14.830335          -9.708542          13.581693          12.982713          -7.024001           2.623456           2.245156                NaN          32.200533       AZ       ID   32.380292        32.380292\n",
       "L102-104-1              0.0       0.0          27.443521          20.055127          -8.794768          -9.189269          -4.117538          20.173960          20.287615          -6.578910           9.020311          -2.100887          -1.308336           2.404690         -12.068429         -15.516320           5.699302           1.914892           4.095777          -3.417192           1.654031           2.906882                NaN          52.162147       ID       GU   52.564459        52.564459\n",
       "L103-105-1              0.0       0.0          25.594807          16.195352         -11.756622         -19.352100          -4.856852          18.805434          24.458773          -5.291831           3.355045           1.445562           1.725261           4.528265         -10.485583          -3.043226           4.314552          -2.557710          -6.987406          -5.888070           2.290382           3.344206                NaN          35.634149       CD       KE   35.838239        35.838239\n",
       "L104-108-1              0.0       0.0          27.443521          20.055127          -8.794768          -9.189269          -4.117538          20.173960          20.287615          -8.978910           0.420311          -2.100887          -1.308336           2.404690         -12.068429         -15.516320           5.699302           1.914892           4.095777          -3.417192           1.654031           2.906882                NaN          41.162147       GU       KG   41.564459        41.564459"
      ]
     },
     "execution_count": 15,
     "metadata": {},
     "output_type": "execute_result"
    }
   ],
   "source": [
    "flow_dec = flow_dec_original.copy()\n",
    "flow_dec['total_flow'] = flow_dec[[c for c in flow_dec.columns if ('reference' not in c and 'country' not in c)]].sum(axis=1)\n",
    "flow_dec['total_loop_flow'] = flow_dec[[c for c in flow_dec.columns if 'loop_flow_from_' in c]].sum(axis=1)\n",
    "\n",
    "countries = set(flow_dec[\"country1\"]).union(set(flow_dec[\"country2\"]))\n",
    "\n",
    "flow_dec.head()"
   ]
  },
  {
   "cell_type": "markdown",
   "metadata": {},
   "source": [
    "# Flow decomposition top bar charts"
   ]
  },
  {
   "cell_type": "code",
   "execution_count": 16,
   "metadata": {},
   "outputs": [],
   "source": [
    "def flow_decomposition_bar_chart(sorting_column, ascending=False, head=20, plot_scatter=True):\n",
    "    threshold = .05\n",
    "    df = flow_dec.sort_values(sorting_column, ascending = ascending).head(head).copy()\n",
    "    df_p = df[[c for c in flow_dec.columns if ('reference' not in c and 'total' not in c and 'country' not in c)]]\n",
    "    df_m = df_p.abs().div(df_p.abs().sum(axis=1), axis=0) > threshold\n",
    "    df_f = df_p[df_m]\n",
    "    df_f['masked_flows_positive'] = df_p[df_p[df_m == False]>0].sum(axis=1)\n",
    "    df_f['masked_flows_negative'] = df_p[df_p[df_m == False]<0].sum(axis=1)\n",
    "    fig = px.bar(df_f,\n",
    "        orientation='h',\n",
    "        color_discrete_sequence=colors[:df_f.columns.size],\n",
    "        text_auto='.0f',\n",
    "        title=f'Sorted by: {sorting_column}, ascending: {ascending}, head: {head}',\n",
    "        height=1000,\n",
    "        labels={\n",
    "            'branch_id':'Branch id',\n",
    "            'value': 'Flow decomposition value',\n",
    "            'variable': 'Decomposition part:',\n",
    "        },\n",
    "        template=\"seaborn\",\n",
    "        )\n",
    "    if plot_scatter:\n",
    "        fig.add_scatter(\n",
    "            y=df.index,\n",
    "            x=df['total_flow'],\n",
    "            mode='lines+markers',\n",
    "            name='total_flow'\n",
    "            )\n",
    "        fig.add_scatter(\n",
    "            y=df.index,\n",
    "            x=df['total_loop_flow'],\n",
    "            mode='lines+markers',\n",
    "            name='total_loop_flow'\n",
    "            )\n",
    "    fig.show()"
   ]
  },
  {
   "cell_type": "code",
   "execution_count": 17,
   "metadata": {},
   "outputs": [
    {
     "data": {
      "application/vnd.plotly.v1+json": {
       "config": {
        "plotlyServerURL": "https://plot.ly"
       },
       "data": [
        {
         "alignmentgroup": "True",
         "hovertemplate": "Decomposition part:=commercial_flow<br>Flow decomposition value=%{x}<br>Branch id=%{y}<extra></extra>",
         "legendgroup": "commercial_flow",
         "marker": {
          "color": "#0DF9FF",
          "pattern": {
           "shape": ""
          }
         },
         "name": "commercial_flow",
         "offsetgroup": "commercial_flow",
         "orientation": "h",
         "showlegend": true,
         "textposition": "auto",
         "texttemplate": "%{x:.0f}",
         "type": "bar",
         "x": [
          null,
          null,
          null,
          null,
          null,
          null,
          null,
          null,
          null,
          null,
          null,
          null,
          null,
          null,
          null,
          null,
          null,
          null,
          null,
          null
         ],
         "xaxis": "x",
         "y": [
          "L191-192-1",
          "L4-16-1",
          "L133-171-1",
          "L133-137-1",
          "L119-120-1",
          "L225-191-1",
          "L181-187-1",
          "L118-119-1",
          "L162-165-1",
          "L165-166-1",
          "L42-46-1",
          "L231-232-1",
          "L188-138-1",
          "L119-121-1",
          "L190-231-1",
          "L39-42-1",
          "L117-118-1",
          "L187-188-1",
          "L181-138-1",
          "L125-126-1"
         ],
         "yaxis": "y"
        },
        {
         "alignmentgroup": "True",
         "hovertemplate": "Decomposition part:=pst_flow<br>Flow decomposition value=%{x}<br>Branch id=%{y}<extra></extra>",
         "legendgroup": "pst_flow",
         "marker": {
          "color": "#AF0038",
          "pattern": {
           "shape": ""
          }
         },
         "name": "pst_flow",
         "offsetgroup": "pst_flow",
         "orientation": "h",
         "showlegend": true,
         "textposition": "auto",
         "texttemplate": "%{x:.0f}",
         "type": "bar",
         "x": [
          null,
          null,
          null,
          null,
          null,
          null,
          null,
          null,
          null,
          null,
          null,
          null,
          null,
          null,
          null,
          null,
          null,
          null,
          null,
          null
         ],
         "xaxis": "x",
         "y": [
          "L191-192-1",
          "L4-16-1",
          "L133-171-1",
          "L133-137-1",
          "L119-120-1",
          "L225-191-1",
          "L181-187-1",
          "L118-119-1",
          "L162-165-1",
          "L165-166-1",
          "L42-46-1",
          "L231-232-1",
          "L188-138-1",
          "L119-121-1",
          "L190-231-1",
          "L39-42-1",
          "L117-118-1",
          "L187-188-1",
          "L181-138-1",
          "L125-126-1"
         ],
         "yaxis": "y"
        },
        {
         "alignmentgroup": "True",
         "hovertemplate": "Decomposition part:=loop_flow_from_ag<br>Flow decomposition value=%{x}<br>Branch id=%{y}<extra></extra>",
         "legendgroup": "loop_flow_from_ag",
         "marker": {
          "color": "#FD3216",
          "pattern": {
           "shape": ""
          }
         },
         "name": "loop_flow_from_ag",
         "offsetgroup": "loop_flow_from_ag",
         "orientation": "h",
         "showlegend": true,
         "textposition": "auto",
         "texttemplate": "%{x:.0f}",
         "type": "bar",
         "x": [
          61.01694915254252,
          575.5911688327742,
          null,
          790.8917255529136,
          null,
          -61.016949152542246,
          568.3629121708346,
          null,
          null,
          null,
          538.0538621863842,
          448.5434656817499,
          null,
          null,
          null,
          null,
          null,
          571.8370878291647,
          null,
          null
         ],
         "xaxis": "x",
         "y": [
          "L191-192-1",
          "L4-16-1",
          "L133-171-1",
          "L133-137-1",
          "L119-120-1",
          "L225-191-1",
          "L181-187-1",
          "L118-119-1",
          "L162-165-1",
          "L165-166-1",
          "L42-46-1",
          "L231-232-1",
          "L188-138-1",
          "L119-121-1",
          "L190-231-1",
          "L39-42-1",
          "L117-118-1",
          "L187-188-1",
          "L181-138-1",
          "L125-126-1"
         ],
         "yaxis": "y"
        },
        {
         "alignmentgroup": "True",
         "hovertemplate": "Decomposition part:=loop_flow_from_az<br>Flow decomposition value=%{x}<br>Branch id=%{y}<extra></extra>",
         "legendgroup": "loop_flow_from_az",
         "marker": {
          "color": "#00A08B",
          "pattern": {
           "shape": ""
          }
         },
         "name": "loop_flow_from_az",
         "offsetgroup": "loop_flow_from_az",
         "orientation": "h",
         "showlegend": true,
         "textposition": "auto",
         "texttemplate": "%{x:.0f}",
         "type": "bar",
         "x": [
          null,
          752.4359517579494,
          null,
          -560.9716882662815,
          null,
          null,
          null,
          null,
          null,
          null,
          668.9274545014225,
          null,
          null,
          null,
          null,
          null,
          null,
          null,
          null,
          null
         ],
         "xaxis": "x",
         "y": [
          "L191-192-1",
          "L4-16-1",
          "L133-171-1",
          "L133-137-1",
          "L119-120-1",
          "L225-191-1",
          "L181-187-1",
          "L118-119-1",
          "L162-165-1",
          "L165-166-1",
          "L42-46-1",
          "L231-232-1",
          "L188-138-1",
          "L119-121-1",
          "L190-231-1",
          "L39-42-1",
          "L117-118-1",
          "L187-188-1",
          "L181-138-1",
          "L125-126-1"
         ],
         "yaxis": "y"
        },
        {
         "alignmentgroup": "True",
         "hovertemplate": "Decomposition part:=loop_flow_from_be<br>Flow decomposition value=%{x}<br>Branch id=%{y}<extra></extra>",
         "legendgroup": "loop_flow_from_be",
         "marker": {
          "color": "#6C4516",
          "pattern": {
           "shape": ""
          }
         },
         "name": "loop_flow_from_be",
         "offsetgroup": "loop_flow_from_be",
         "orientation": "h",
         "showlegend": true,
         "textposition": "auto",
         "texttemplate": "%{x:.0f}",
         "type": "bar",
         "x": [
          null,
          null,
          null,
          499.7928087735151,
          -61.498127860267616,
          null,
          null,
          -127.98245757142554,
          537.7390889504471,
          537.739088950447,
          -296.37505866518586,
          null,
          null,
          189.48058543169208,
          441.9165365534716,
          null,
          -183.32222478424552,
          null,
          null,
          153.36965739340016
         ],
         "xaxis": "x",
         "y": [
          "L191-192-1",
          "L4-16-1",
          "L133-171-1",
          "L133-137-1",
          "L119-120-1",
          "L225-191-1",
          "L181-187-1",
          "L118-119-1",
          "L162-165-1",
          "L165-166-1",
          "L42-46-1",
          "L231-232-1",
          "L188-138-1",
          "L119-121-1",
          "L190-231-1",
          "L39-42-1",
          "L117-118-1",
          "L187-188-1",
          "L181-138-1",
          "L125-126-1"
         ],
         "yaxis": "y"
        },
        {
         "alignmentgroup": "True",
         "hovertemplate": "Decomposition part:=loop_flow_from_cd<br>Flow decomposition value=%{x}<br>Branch id=%{y}<extra></extra>",
         "legendgroup": "loop_flow_from_cd",
         "marker": {
          "color": "#511CFB",
          "pattern": {
           "shape": ""
          }
         },
         "name": "loop_flow_from_cd",
         "offsetgroup": "loop_flow_from_cd",
         "orientation": "h",
         "showlegend": true,
         "textposition": "auto",
         "texttemplate": "%{x:.0f}",
         "type": "bar",
         "x": [
          null,
          -295.70438340521196,
          null,
          null,
          null,
          null,
          null,
          null,
          null,
          null,
          null,
          81.59639273622567,
          null,
          null,
          null,
          null,
          null,
          null,
          null,
          462.41239527472555
         ],
         "xaxis": "x",
         "y": [
          "L191-192-1",
          "L4-16-1",
          "L133-171-1",
          "L133-137-1",
          "L119-120-1",
          "L225-191-1",
          "L181-187-1",
          "L118-119-1",
          "L162-165-1",
          "L165-166-1",
          "L42-46-1",
          "L231-232-1",
          "L188-138-1",
          "L119-121-1",
          "L190-231-1",
          "L39-42-1",
          "L117-118-1",
          "L187-188-1",
          "L181-138-1",
          "L125-126-1"
         ],
         "yaxis": "y"
        },
        {
         "alignmentgroup": "True",
         "hovertemplate": "Decomposition part:=loop_flow_from_cl<br>Flow decomposition value=%{x}<br>Branch id=%{y}<extra></extra>",
         "legendgroup": "loop_flow_from_cl",
         "marker": {
          "color": "#F6F926",
          "pattern": {
           "shape": ""
          }
         },
         "name": "loop_flow_from_cl",
         "offsetgroup": "loop_flow_from_cl",
         "orientation": "h",
         "showlegend": true,
         "textposition": "auto",
         "texttemplate": "%{x:.0f}",
         "type": "bar",
         "x": [
          null,
          null,
          null,
          945.5413846207987,
          null,
          null,
          62.27918798502805,
          null,
          null,
          null,
          null,
          null,
          null,
          null,
          null,
          null,
          null,
          -62.27918798502782,
          null,
          null
         ],
         "xaxis": "x",
         "y": [
          "L191-192-1",
          "L4-16-1",
          "L133-171-1",
          "L133-137-1",
          "L119-120-1",
          "L225-191-1",
          "L181-187-1",
          "L118-119-1",
          "L162-165-1",
          "L165-166-1",
          "L42-46-1",
          "L231-232-1",
          "L188-138-1",
          "L119-121-1",
          "L190-231-1",
          "L39-42-1",
          "L117-118-1",
          "L187-188-1",
          "L181-138-1",
          "L125-126-1"
         ],
         "yaxis": "y"
        },
        {
         "alignmentgroup": "True",
         "hovertemplate": "Decomposition part:=loop_flow_from_dz<br>Flow decomposition value=%{x}<br>Branch id=%{y}<extra></extra>",
         "legendgroup": "loop_flow_from_dz",
         "marker": {
          "color": "#C9FBE5",
          "pattern": {
           "shape": ""
          }
         },
         "name": "loop_flow_from_dz",
         "offsetgroup": "loop_flow_from_dz",
         "orientation": "h",
         "showlegend": true,
         "textposition": "auto",
         "texttemplate": "%{x:.0f}",
         "type": "bar",
         "x": [
          null,
          503.1628956823751,
          null,
          null,
          null,
          null,
          null,
          null,
          null,
          null,
          451.63786238320915,
          null,
          null,
          null,
          null,
          null,
          null,
          null,
          null,
          null
         ],
         "xaxis": "x",
         "y": [
          "L191-192-1",
          "L4-16-1",
          "L133-171-1",
          "L133-137-1",
          "L119-120-1",
          "L225-191-1",
          "L181-187-1",
          "L118-119-1",
          "L162-165-1",
          "L165-166-1",
          "L42-46-1",
          "L231-232-1",
          "L188-138-1",
          "L119-121-1",
          "L190-231-1",
          "L39-42-1",
          "L117-118-1",
          "L187-188-1",
          "L181-138-1",
          "L125-126-1"
         ],
         "yaxis": "y"
        },
        {
         "alignmentgroup": "True",
         "hovertemplate": "Decomposition part:=loop_flow_from_es<br>Flow decomposition value=%{x}<br>Branch id=%{y}<extra></extra>",
         "legendgroup": "loop_flow_from_es",
         "marker": {
          "color": "#FC0080",
          "pattern": {
           "shape": ""
          }
         },
         "name": "loop_flow_from_es",
         "offsetgroup": "loop_flow_from_es",
         "orientation": "h",
         "showlegend": true,
         "textposition": "auto",
         "texttemplate": "%{x:.0f}",
         "type": "bar",
         "x": [
          null,
          null,
          null,
          null,
          null,
          null,
          null,
          null,
          null,
          null,
          250.56676073210014,
          null,
          null,
          null,
          null,
          null,
          null,
          null,
          null,
          null
         ],
         "xaxis": "x",
         "y": [
          "L191-192-1",
          "L4-16-1",
          "L133-171-1",
          "L133-137-1",
          "L119-120-1",
          "L225-191-1",
          "L181-187-1",
          "L118-119-1",
          "L162-165-1",
          "L165-166-1",
          "L42-46-1",
          "L231-232-1",
          "L188-138-1",
          "L119-121-1",
          "L190-231-1",
          "L39-42-1",
          "L117-118-1",
          "L187-188-1",
          "L181-138-1",
          "L125-126-1"
         ],
         "yaxis": "y"
        },
        {
         "alignmentgroup": "True",
         "hovertemplate": "Decomposition part:=loop_flow_from_gr<br>Flow decomposition value=%{x}<br>Branch id=%{y}<extra></extra>",
         "legendgroup": "loop_flow_from_gr",
         "marker": {
          "color": "#FB0D0D",
          "pattern": {
           "shape": ""
          }
         },
         "name": "loop_flow_from_gr",
         "offsetgroup": "loop_flow_from_gr",
         "orientation": "h",
         "showlegend": true,
         "textposition": "auto",
         "texttemplate": "%{x:.0f}",
         "type": "bar",
         "x": [
          null,
          -329.65926260006455,
          null,
          -613.448014611795,
          null,
          null,
          null,
          null,
          null,
          null,
          null,
          null,
          500.9117031308574,
          null,
          null,
          null,
          null,
          null,
          494.06714574572027,
          null
         ],
         "xaxis": "x",
         "y": [
          "L191-192-1",
          "L4-16-1",
          "L133-171-1",
          "L133-137-1",
          "L119-120-1",
          "L225-191-1",
          "L181-187-1",
          "L118-119-1",
          "L162-165-1",
          "L165-166-1",
          "L42-46-1",
          "L231-232-1",
          "L188-138-1",
          "L119-121-1",
          "L190-231-1",
          "L39-42-1",
          "L117-118-1",
          "L187-188-1",
          "L181-138-1",
          "L125-126-1"
         ],
         "yaxis": "y"
        },
        {
         "alignmentgroup": "True",
         "hovertemplate": "Decomposition part:=loop_flow_from_gu<br>Flow decomposition value=%{x}<br>Branch id=%{y}<extra></extra>",
         "legendgroup": "loop_flow_from_gu",
         "marker": {
          "color": "#D626FF",
          "pattern": {
           "shape": ""
          }
         },
         "name": "loop_flow_from_gu",
         "offsetgroup": "loop_flow_from_gu",
         "orientation": "h",
         "showlegend": true,
         "textposition": "auto",
         "texttemplate": "%{x:.0f}",
         "type": "bar",
         "x": [
          null,
          null,
          null,
          null,
          null,
          null,
          null,
          null,
          null,
          null,
          null,
          null,
          null,
          null,
          null,
          null,
          null,
          null,
          null,
          null
         ],
         "xaxis": "x",
         "y": [
          "L191-192-1",
          "L4-16-1",
          "L133-171-1",
          "L133-137-1",
          "L119-120-1",
          "L225-191-1",
          "L181-187-1",
          "L118-119-1",
          "L162-165-1",
          "L165-166-1",
          "L42-46-1",
          "L231-232-1",
          "L188-138-1",
          "L119-121-1",
          "L190-231-1",
          "L39-42-1",
          "L117-118-1",
          "L187-188-1",
          "L181-138-1",
          "L125-126-1"
         ],
         "yaxis": "y"
        },
        {
         "alignmentgroup": "True",
         "hovertemplate": "Decomposition part:=loop_flow_from_hn<br>Flow decomposition value=%{x}<br>Branch id=%{y}<extra></extra>",
         "legendgroup": "loop_flow_from_hn",
         "marker": {
          "color": "#DA16FF",
          "pattern": {
           "shape": ""
          }
         },
         "name": "loop_flow_from_hn",
         "offsetgroup": "loop_flow_from_hn",
         "orientation": "h",
         "showlegend": true,
         "textposition": "auto",
         "texttemplate": "%{x:.0f}",
         "type": "bar",
         "x": [
          null,
          null,
          null,
          null,
          null,
          null,
          null,
          null,
          null,
          null,
          null,
          null,
          null,
          null,
          55.07378942220511,
          null,
          null,
          null,
          null,
          null
         ],
         "xaxis": "x",
         "y": [
          "L191-192-1",
          "L4-16-1",
          "L133-171-1",
          "L133-137-1",
          "L119-120-1",
          "L225-191-1",
          "L181-187-1",
          "L118-119-1",
          "L162-165-1",
          "L165-166-1",
          "L42-46-1",
          "L231-232-1",
          "L188-138-1",
          "L119-121-1",
          "L190-231-1",
          "L39-42-1",
          "L117-118-1",
          "L187-188-1",
          "L181-138-1",
          "L125-126-1"
         ],
         "yaxis": "y"
        },
        {
         "alignmentgroup": "True",
         "hovertemplate": "Decomposition part:=loop_flow_from_id<br>Flow decomposition value=%{x}<br>Branch id=%{y}<extra></extra>",
         "legendgroup": "loop_flow_from_id",
         "marker": {
          "color": "#86CE00",
          "pattern": {
           "shape": ""
          }
         },
         "name": "loop_flow_from_id",
         "offsetgroup": "loop_flow_from_id",
         "orientation": "h",
         "showlegend": true,
         "textposition": "auto",
         "texttemplate": "%{x:.0f}",
         "type": "bar",
         "x": [
          null,
          364.6725331302353,
          763.6000000000001,
          null,
          377.31964858780685,
          null,
          null,
          996.7504943494172,
          null,
          null,
          254.02423152392294,
          null,
          null,
          455.6198570627785,
          null,
          null,
          1056.1156236622382,
          null,
          null,
          -482.9872963418541
         ],
         "xaxis": "x",
         "y": [
          "L191-192-1",
          "L4-16-1",
          "L133-171-1",
          "L133-137-1",
          "L119-120-1",
          "L225-191-1",
          "L181-187-1",
          "L118-119-1",
          "L162-165-1",
          "L165-166-1",
          "L42-46-1",
          "L231-232-1",
          "L188-138-1",
          "L119-121-1",
          "L190-231-1",
          "L39-42-1",
          "L117-118-1",
          "L187-188-1",
          "L181-138-1",
          "L125-126-1"
         ],
         "yaxis": "y"
        },
        {
         "alignmentgroup": "True",
         "hovertemplate": "Decomposition part:=loop_flow_from_iq<br>Flow decomposition value=%{x}<br>Branch id=%{y}<extra></extra>",
         "legendgroup": "loop_flow_from_iq",
         "marker": {
          "color": "#6A76FC",
          "pattern": {
           "shape": ""
          }
         },
         "name": "loop_flow_from_iq",
         "offsetgroup": "loop_flow_from_iq",
         "orientation": "h",
         "showlegend": true,
         "textposition": "auto",
         "texttemplate": "%{x:.0f}",
         "type": "bar",
         "x": [
          null,
          null,
          null,
          null,
          null,
          null,
          null,
          null,
          null,
          null,
          null,
          null,
          null,
          null,
          null,
          null,
          null,
          null,
          null,
          null
         ],
         "xaxis": "x",
         "y": [
          "L191-192-1",
          "L4-16-1",
          "L133-171-1",
          "L133-137-1",
          "L119-120-1",
          "L225-191-1",
          "L181-187-1",
          "L118-119-1",
          "L162-165-1",
          "L165-166-1",
          "L42-46-1",
          "L231-232-1",
          "L188-138-1",
          "L119-121-1",
          "L190-231-1",
          "L39-42-1",
          "L117-118-1",
          "L187-188-1",
          "L181-138-1",
          "L125-126-1"
         ],
         "yaxis": "y"
        },
        {
         "alignmentgroup": "True",
         "hovertemplate": "Decomposition part:=loop_flow_from_jo<br>Flow decomposition value=%{x}<br>Branch id=%{y}<extra></extra>",
         "legendgroup": "loop_flow_from_jo",
         "marker": {
          "color": "#FB00D1",
          "pattern": {
           "shape": ""
          }
         },
         "name": "loop_flow_from_jo",
         "offsetgroup": "loop_flow_from_jo",
         "orientation": "h",
         "showlegend": true,
         "textposition": "auto",
         "texttemplate": "%{x:.0f}",
         "type": "bar",
         "x": [
          null,
          -326.2044688719158,
          null,
          null,
          399.74727518527635,
          null,
          null,
          -264.2566851944778,
          null,
          null,
          -297.41080436651373,
          null,
          null,
          -135.49058999079986,
          null,
          null,
          -345.765773589599,
          null,
          null,
          185.86178572425632
         ],
         "xaxis": "x",
         "y": [
          "L191-192-1",
          "L4-16-1",
          "L133-171-1",
          "L133-137-1",
          "L119-120-1",
          "L225-191-1",
          "L181-187-1",
          "L118-119-1",
          "L162-165-1",
          "L165-166-1",
          "L42-46-1",
          "L231-232-1",
          "L188-138-1",
          "L119-121-1",
          "L190-231-1",
          "L39-42-1",
          "L117-118-1",
          "L187-188-1",
          "L181-138-1",
          "L125-126-1"
         ],
         "yaxis": "y"
        },
        {
         "alignmentgroup": "True",
         "hovertemplate": "Decomposition part:=loop_flow_from_ke<br>Flow decomposition value=%{x}<br>Branch id=%{y}<extra></extra>",
         "legendgroup": "loop_flow_from_ke",
         "marker": {
          "color": "#EEA6FB",
          "pattern": {
           "shape": ""
          }
         },
         "name": "loop_flow_from_ke",
         "offsetgroup": "loop_flow_from_ke",
         "orientation": "h",
         "showlegend": true,
         "textposition": "auto",
         "texttemplate": "%{x:.0f}",
         "type": "bar",
         "x": [
          767.1525423728809,
          -452.61597055945685,
          null,
          null,
          null,
          716.847457627118,
          null,
          null,
          null,
          null,
          -388.47348494211406,
          null,
          null,
          null,
          null,
          474.6018528778082,
          null,
          null,
          null,
          null
         ],
         "xaxis": "x",
         "y": [
          "L191-192-1",
          "L4-16-1",
          "L133-171-1",
          "L133-137-1",
          "L119-120-1",
          "L225-191-1",
          "L181-187-1",
          "L118-119-1",
          "L162-165-1",
          "L165-166-1",
          "L42-46-1",
          "L231-232-1",
          "L188-138-1",
          "L119-121-1",
          "L190-231-1",
          "L39-42-1",
          "L117-118-1",
          "L187-188-1",
          "L181-138-1",
          "L125-126-1"
         ],
         "yaxis": "y"
        },
        {
         "alignmentgroup": "True",
         "hovertemplate": "Decomposition part:=loop_flow_from_kg<br>Flow decomposition value=%{x}<br>Branch id=%{y}<extra></extra>",
         "legendgroup": "loop_flow_from_kg",
         "marker": {
          "color": "#FE00CE",
          "pattern": {
           "shape": ""
          }
         },
         "name": "loop_flow_from_kg",
         "offsetgroup": "loop_flow_from_kg",
         "orientation": "h",
         "showlegend": true,
         "textposition": "auto",
         "texttemplate": "%{x:.0f}",
         "type": "bar",
         "x": [
          null,
          300.1180046763854,
          null,
          -295.3020740553877,
          null,
          null,
          null,
          null,
          null,
          null,
          null,
          null,
          null,
          null,
          null,
          null,
          null,
          null,
          null,
          null
         ],
         "xaxis": "x",
         "y": [
          "L191-192-1",
          "L4-16-1",
          "L133-171-1",
          "L133-137-1",
          "L119-120-1",
          "L225-191-1",
          "L181-187-1",
          "L118-119-1",
          "L162-165-1",
          "L165-166-1",
          "L42-46-1",
          "L231-232-1",
          "L188-138-1",
          "L119-121-1",
          "L190-231-1",
          "L39-42-1",
          "L117-118-1",
          "L187-188-1",
          "L181-138-1",
          "L125-126-1"
         ],
         "yaxis": "y"
        },
        {
         "alignmentgroup": "True",
         "hovertemplate": "Decomposition part:=loop_flow_from_lv<br>Flow decomposition value=%{x}<br>Branch id=%{y}<extra></extra>",
         "legendgroup": "loop_flow_from_lv",
         "marker": {
          "color": "#22FFA7",
          "pattern": {
           "shape": ""
          }
         },
         "name": "loop_flow_from_lv",
         "offsetgroup": "loop_flow_from_lv",
         "orientation": "h",
         "showlegend": true,
         "textposition": "auto",
         "texttemplate": "%{x:.0f}",
         "type": "bar",
         "x": [
          null,
          null,
          null,
          null,
          null,
          null,
          null,
          null,
          null,
          null,
          null,
          null,
          null,
          null,
          null,
          null,
          null,
          null,
          null,
          null
         ],
         "xaxis": "x",
         "y": [
          "L191-192-1",
          "L4-16-1",
          "L133-171-1",
          "L133-137-1",
          "L119-120-1",
          "L225-191-1",
          "L181-187-1",
          "L118-119-1",
          "L162-165-1",
          "L165-166-1",
          "L42-46-1",
          "L231-232-1",
          "L188-138-1",
          "L119-121-1",
          "L190-231-1",
          "L39-42-1",
          "L117-118-1",
          "L187-188-1",
          "L181-138-1",
          "L125-126-1"
         ],
         "yaxis": "y"
        },
        {
         "alignmentgroup": "True",
         "hovertemplate": "Decomposition part:=loop_flow_from_om<br>Flow decomposition value=%{x}<br>Branch id=%{y}<extra></extra>",
         "legendgroup": "loop_flow_from_om",
         "marker": {
          "color": "#620042",
          "pattern": {
           "shape": ""
          }
         },
         "name": "loop_flow_from_om",
         "offsetgroup": "loop_flow_from_om",
         "orientation": "h",
         "showlegend": true,
         "textposition": "auto",
         "texttemplate": "%{x:.0f}",
         "type": "bar",
         "x": [
          null,
          -343.30058470497187,
          null,
          null,
          null,
          null,
          null,
          null,
          null,
          null,
          -302.3864408287049,
          null,
          null,
          null,
          null,
          null,
          null,
          null,
          null,
          90.63047289167719
         ],
         "xaxis": "x",
         "y": [
          "L191-192-1",
          "L4-16-1",
          "L133-171-1",
          "L133-137-1",
          "L119-120-1",
          "L225-191-1",
          "L181-187-1",
          "L118-119-1",
          "L162-165-1",
          "L165-166-1",
          "L42-46-1",
          "L231-232-1",
          "L188-138-1",
          "L119-121-1",
          "L190-231-1",
          "L39-42-1",
          "L117-118-1",
          "L187-188-1",
          "L181-138-1",
          "L125-126-1"
         ],
         "yaxis": "y"
        },
        {
         "alignmentgroup": "True",
         "hovertemplate": "Decomposition part:=loop_flow_from_pn<br>Flow decomposition value=%{x}<br>Branch id=%{y}<extra></extra>",
         "legendgroup": "loop_flow_from_pn",
         "marker": {
          "color": "#FF9616",
          "pattern": {
           "shape": ""
          }
         },
         "name": "loop_flow_from_pn",
         "offsetgroup": "loop_flow_from_pn",
         "orientation": "h",
         "showlegend": true,
         "textposition": "auto",
         "texttemplate": "%{x:.0f}",
         "type": "bar",
         "x": [
          null,
          null,
          null,
          null,
          null,
          null,
          null,
          null,
          null,
          null,
          null,
          null,
          null,
          null,
          null,
          null,
          null,
          null,
          null,
          null
         ],
         "xaxis": "x",
         "y": [
          "L191-192-1",
          "L4-16-1",
          "L133-171-1",
          "L133-137-1",
          "L119-120-1",
          "L225-191-1",
          "L181-187-1",
          "L118-119-1",
          "L162-165-1",
          "L165-166-1",
          "L42-46-1",
          "L231-232-1",
          "L188-138-1",
          "L119-121-1",
          "L190-231-1",
          "L39-42-1",
          "L117-118-1",
          "L187-188-1",
          "L181-138-1",
          "L125-126-1"
         ],
         "yaxis": "y"
        },
        {
         "alignmentgroup": "True",
         "hovertemplate": "Decomposition part:=loop_flow_from_rs<br>Flow decomposition value=%{x}<br>Branch id=%{y}<extra></extra>",
         "legendgroup": "loop_flow_from_rs",
         "marker": {
          "color": "#FC6955",
          "pattern": {
           "shape": ""
          }
         },
         "name": "loop_flow_from_rs",
         "offsetgroup": "loop_flow_from_rs",
         "orientation": "h",
         "showlegend": true,
         "textposition": "auto",
         "texttemplate": "%{x:.0f}",
         "type": "bar",
         "x": [
          null,
          null,
          null,
          null,
          null,
          null,
          null,
          null,
          null,
          null,
          null,
          null,
          null,
          null,
          null,
          null,
          null,
          null,
          null,
          null
         ],
         "xaxis": "x",
         "y": [
          "L191-192-1",
          "L4-16-1",
          "L133-171-1",
          "L133-137-1",
          "L119-120-1",
          "L225-191-1",
          "L181-187-1",
          "L118-119-1",
          "L162-165-1",
          "L165-166-1",
          "L42-46-1",
          "L231-232-1",
          "L188-138-1",
          "L119-121-1",
          "L190-231-1",
          "L39-42-1",
          "L117-118-1",
          "L187-188-1",
          "L181-138-1",
          "L125-126-1"
         ],
         "yaxis": "y"
        },
        {
         "alignmentgroup": "True",
         "hovertemplate": "Decomposition part:=loop_flow_from_rw<br>Flow decomposition value=%{x}<br>Branch id=%{y}<extra></extra>",
         "legendgroup": "loop_flow_from_rw",
         "marker": {
          "color": "#479B55",
          "pattern": {
           "shape": ""
          }
         },
         "name": "loop_flow_from_rw",
         "offsetgroup": "loop_flow_from_rw",
         "orientation": "h",
         "showlegend": true,
         "textposition": "auto",
         "texttemplate": "%{x:.0f}",
         "type": "bar",
         "x": [
          null,
          null,
          null,
          null,
          null,
          null,
          null,
          null,
          null,
          null,
          null,
          null,
          null,
          null,
          null,
          null,
          null,
          null,
          null,
          null
         ],
         "xaxis": "x",
         "y": [
          "L191-192-1",
          "L4-16-1",
          "L133-171-1",
          "L133-137-1",
          "L119-120-1",
          "L225-191-1",
          "L181-187-1",
          "L118-119-1",
          "L162-165-1",
          "L165-166-1",
          "L42-46-1",
          "L231-232-1",
          "L188-138-1",
          "L119-121-1",
          "L190-231-1",
          "L39-42-1",
          "L117-118-1",
          "L187-188-1",
          "L181-138-1",
          "L125-126-1"
         ],
         "yaxis": "y"
        },
        {
         "alignmentgroup": "True",
         "hovertemplate": "Decomposition part:=masked_flows_positive<br>Flow decomposition value=%{x}<br>Branch id=%{y}<extra></extra>",
         "legendgroup": "masked_flows_positive",
         "marker": {
          "color": "#6E899C",
          "pattern": {
           "shape": ""
          }
         },
         "name": "masked_flows_positive",
         "offsetgroup": "masked_flows_positive",
         "orientation": "h",
         "showlegend": true,
         "textposition": "auto",
         "texttemplate": "%{x:.0f}",
         "type": "bar",
         "x": [
          0,
          422.24074641387404,
          0,
          820.709137564038,
          30.85865443647981,
          0,
          18.85755852265723,
          14.705020879808686,
          128.93227762388412,
          128.93227762388406,
          454.1764918900632,
          128.38881194213292,
          90.90008850128741,
          35.27191905841648,
          181.24549488674987,
          128.93227762388383,
          16.229439269214616,
          0.8049660286052224,
          64.96005228866855,
          95.85088084620371
         ],
         "xaxis": "x",
         "y": [
          "L191-192-1",
          "L4-16-1",
          "L133-171-1",
          "L133-137-1",
          "L119-120-1",
          "L225-191-1",
          "L181-187-1",
          "L118-119-1",
          "L162-165-1",
          "L165-166-1",
          "L42-46-1",
          "L231-232-1",
          "L188-138-1",
          "L119-121-1",
          "L190-231-1",
          "L39-42-1",
          "L117-118-1",
          "L187-188-1",
          "L181-138-1",
          "L125-126-1"
         ],
         "yaxis": "y"
        },
        {
         "alignmentgroup": "True",
         "hovertemplate": "Decomposition part:=masked_flows_negative<br>Flow decomposition value=%{x}<br>Branch id=%{y}<extra></extra>",
         "legendgroup": "masked_flows_negative",
         "marker": {
          "color": "#00FE35",
          "pattern": {
           "shape": ""
          }
         },
         "name": "masked_flows_negative",
         "offsetgroup": "masked_flows_negative",
         "orientation": "h",
         "showlegend": true,
         "textposition": "auto",
         "texttemplate": "%{x:.0f}",
         "type": "bar",
         "x": [
          0,
          -393.2555721001894,
          0,
          -869.1647291488385,
          -40.614991849164134,
          0,
          -0.804966028604631,
          -27.42515866027962,
          -112.85698060941793,
          -112.85698060941854,
          -780.4994020678846,
          -107.34305632502486,
          -53.97491763975992,
          -12.795443865262438,
          -156.2811408356941,
          -102.71974453678,
          -48.776394079266765,
          -18.857558522657833,
          -78.47845799168567,
          -27.693076854115695
         ],
         "xaxis": "x",
         "y": [
          "L191-192-1",
          "L4-16-1",
          "L133-171-1",
          "L133-137-1",
          "L119-120-1",
          "L225-191-1",
          "L181-187-1",
          "L118-119-1",
          "L162-165-1",
          "L165-166-1",
          "L42-46-1",
          "L231-232-1",
          "L188-138-1",
          "L119-121-1",
          "L190-231-1",
          "L39-42-1",
          "L117-118-1",
          "L187-188-1",
          "L181-138-1",
          "L125-126-1"
         ],
         "yaxis": "y"
        },
        {
         "mode": "lines+markers",
         "name": "total_flow",
         "type": "scatter",
         "x": [
          828.1694915254235,
          777.4810582517831,
          763.6000000000001,
          718.0485504289626,
          705.8124585001312,
          655.8305084745758,
          648.6946926499153,
          591.7912138030429,
          553.8143859649133,
          553.8143859649123,
          552.2414723466989,
          551.1856140350834,
          537.8368739923849,
          532.0863276968247,
          521.9546800267324,
          500.8143859649121,
          494.4806704783416,
          491.50530735008437,
          480.5487400427031,
          477.4448189342932
         ],
         "y": [
          "L191-192-1",
          "L4-16-1",
          "L133-171-1",
          "L133-137-1",
          "L119-120-1",
          "L225-191-1",
          "L181-187-1",
          "L118-119-1",
          "L162-165-1",
          "L165-166-1",
          "L42-46-1",
          "L231-232-1",
          "L188-138-1",
          "L119-121-1",
          "L190-231-1",
          "L39-42-1",
          "L117-118-1",
          "L187-188-1",
          "L181-138-1",
          "L125-126-1"
         ]
        },
        {
         "mode": "lines+markers",
         "name": "total_loop_flow",
         "type": "scatter",
         "x": [
          828.1694915254235,
          777.4810582517831,
          763.6000000000001,
          718.0485504289626,
          705.8124585001312,
          655.8305084745758,
          648.6946926499153,
          591.7912138030429,
          553.8143859649133,
          553.8143859649123,
          552.2414723466989,
          551.1856140350834,
          537.8368739923849,
          532.0863276968247,
          521.9546800267324,
          500.8143859649121,
          494.4806704783416,
          491.50530735008437,
          480.5487400427031,
          477.4448189342932
         ],
         "y": [
          "L191-192-1",
          "L4-16-1",
          "L133-171-1",
          "L133-137-1",
          "L119-120-1",
          "L225-191-1",
          "L181-187-1",
          "L118-119-1",
          "L162-165-1",
          "L165-166-1",
          "L42-46-1",
          "L231-232-1",
          "L188-138-1",
          "L119-121-1",
          "L190-231-1",
          "L39-42-1",
          "L117-118-1",
          "L187-188-1",
          "L181-138-1",
          "L125-126-1"
         ]
        }
       ],
       "layout": {
        "barmode": "relative",
        "height": 1000,
        "legend": {
         "title": {
          "text": "Decomposition part:"
         },
         "tracegroupgap": 0
        },
        "template": {
         "data": {
          "bar": [
           {
            "error_x": {
             "color": "rgb(36,36,36)"
            },
            "error_y": {
             "color": "rgb(36,36,36)"
            },
            "marker": {
             "line": {
              "color": "rgb(234,234,242)",
              "width": 0.5
             },
             "pattern": {
              "fillmode": "overlay",
              "size": 10,
              "solidity": 0.2
             }
            },
            "type": "bar"
           }
          ],
          "barpolar": [
           {
            "marker": {
             "line": {
              "color": "rgb(234,234,242)",
              "width": 0.5
             },
             "pattern": {
              "fillmode": "overlay",
              "size": 10,
              "solidity": 0.2
             }
            },
            "type": "barpolar"
           }
          ],
          "carpet": [
           {
            "aaxis": {
             "endlinecolor": "rgb(36,36,36)",
             "gridcolor": "white",
             "linecolor": "white",
             "minorgridcolor": "white",
             "startlinecolor": "rgb(36,36,36)"
            },
            "baxis": {
             "endlinecolor": "rgb(36,36,36)",
             "gridcolor": "white",
             "linecolor": "white",
             "minorgridcolor": "white",
             "startlinecolor": "rgb(36,36,36)"
            },
            "type": "carpet"
           }
          ],
          "choropleth": [
           {
            "colorbar": {
             "outlinewidth": 0,
             "tickcolor": "rgb(36,36,36)",
             "ticklen": 8,
             "ticks": "outside",
             "tickwidth": 2
            },
            "type": "choropleth"
           }
          ],
          "contour": [
           {
            "colorbar": {
             "outlinewidth": 0,
             "tickcolor": "rgb(36,36,36)",
             "ticklen": 8,
             "ticks": "outside",
             "tickwidth": 2
            },
            "colorscale": [
             [
              0,
              "rgb(2,4,25)"
             ],
             [
              0.06274509803921569,
              "rgb(24,15,41)"
             ],
             [
              0.12549019607843137,
              "rgb(47,23,57)"
             ],
             [
              0.18823529411764706,
              "rgb(71,28,72)"
             ],
             [
              0.25098039215686274,
              "rgb(97,30,82)"
             ],
             [
              0.3137254901960784,
              "rgb(123,30,89)"
             ],
             [
              0.3764705882352941,
              "rgb(150,27,91)"
             ],
             [
              0.4392156862745098,
              "rgb(177,22,88)"
             ],
             [
              0.5019607843137255,
              "rgb(203,26,79)"
             ],
             [
              0.5647058823529412,
              "rgb(223,47,67)"
             ],
             [
              0.6274509803921569,
              "rgb(236,76,61)"
             ],
             [
              0.6901960784313725,
              "rgb(242,107,73)"
             ],
             [
              0.7529411764705882,
              "rgb(244,135,95)"
             ],
             [
              0.8156862745098039,
              "rgb(245,162,122)"
             ],
             [
              0.8784313725490196,
              "rgb(246,188,153)"
             ],
             [
              0.9411764705882353,
              "rgb(247,212,187)"
             ],
             [
              1,
              "rgb(250,234,220)"
             ]
            ],
            "type": "contour"
           }
          ],
          "contourcarpet": [
           {
            "colorbar": {
             "outlinewidth": 0,
             "tickcolor": "rgb(36,36,36)",
             "ticklen": 8,
             "ticks": "outside",
             "tickwidth": 2
            },
            "type": "contourcarpet"
           }
          ],
          "heatmap": [
           {
            "colorbar": {
             "outlinewidth": 0,
             "tickcolor": "rgb(36,36,36)",
             "ticklen": 8,
             "ticks": "outside",
             "tickwidth": 2
            },
            "colorscale": [
             [
              0,
              "rgb(2,4,25)"
             ],
             [
              0.06274509803921569,
              "rgb(24,15,41)"
             ],
             [
              0.12549019607843137,
              "rgb(47,23,57)"
             ],
             [
              0.18823529411764706,
              "rgb(71,28,72)"
             ],
             [
              0.25098039215686274,
              "rgb(97,30,82)"
             ],
             [
              0.3137254901960784,
              "rgb(123,30,89)"
             ],
             [
              0.3764705882352941,
              "rgb(150,27,91)"
             ],
             [
              0.4392156862745098,
              "rgb(177,22,88)"
             ],
             [
              0.5019607843137255,
              "rgb(203,26,79)"
             ],
             [
              0.5647058823529412,
              "rgb(223,47,67)"
             ],
             [
              0.6274509803921569,
              "rgb(236,76,61)"
             ],
             [
              0.6901960784313725,
              "rgb(242,107,73)"
             ],
             [
              0.7529411764705882,
              "rgb(244,135,95)"
             ],
             [
              0.8156862745098039,
              "rgb(245,162,122)"
             ],
             [
              0.8784313725490196,
              "rgb(246,188,153)"
             ],
             [
              0.9411764705882353,
              "rgb(247,212,187)"
             ],
             [
              1,
              "rgb(250,234,220)"
             ]
            ],
            "type": "heatmap"
           }
          ],
          "heatmapgl": [
           {
            "colorbar": {
             "outlinewidth": 0,
             "tickcolor": "rgb(36,36,36)",
             "ticklen": 8,
             "ticks": "outside",
             "tickwidth": 2
            },
            "colorscale": [
             [
              0,
              "rgb(2,4,25)"
             ],
             [
              0.06274509803921569,
              "rgb(24,15,41)"
             ],
             [
              0.12549019607843137,
              "rgb(47,23,57)"
             ],
             [
              0.18823529411764706,
              "rgb(71,28,72)"
             ],
             [
              0.25098039215686274,
              "rgb(97,30,82)"
             ],
             [
              0.3137254901960784,
              "rgb(123,30,89)"
             ],
             [
              0.3764705882352941,
              "rgb(150,27,91)"
             ],
             [
              0.4392156862745098,
              "rgb(177,22,88)"
             ],
             [
              0.5019607843137255,
              "rgb(203,26,79)"
             ],
             [
              0.5647058823529412,
              "rgb(223,47,67)"
             ],
             [
              0.6274509803921569,
              "rgb(236,76,61)"
             ],
             [
              0.6901960784313725,
              "rgb(242,107,73)"
             ],
             [
              0.7529411764705882,
              "rgb(244,135,95)"
             ],
             [
              0.8156862745098039,
              "rgb(245,162,122)"
             ],
             [
              0.8784313725490196,
              "rgb(246,188,153)"
             ],
             [
              0.9411764705882353,
              "rgb(247,212,187)"
             ],
             [
              1,
              "rgb(250,234,220)"
             ]
            ],
            "type": "heatmapgl"
           }
          ],
          "histogram": [
           {
            "marker": {
             "pattern": {
              "fillmode": "overlay",
              "size": 10,
              "solidity": 0.2
             }
            },
            "type": "histogram"
           }
          ],
          "histogram2d": [
           {
            "colorbar": {
             "outlinewidth": 0,
             "tickcolor": "rgb(36,36,36)",
             "ticklen": 8,
             "ticks": "outside",
             "tickwidth": 2
            },
            "colorscale": [
             [
              0,
              "rgb(2,4,25)"
             ],
             [
              0.06274509803921569,
              "rgb(24,15,41)"
             ],
             [
              0.12549019607843137,
              "rgb(47,23,57)"
             ],
             [
              0.18823529411764706,
              "rgb(71,28,72)"
             ],
             [
              0.25098039215686274,
              "rgb(97,30,82)"
             ],
             [
              0.3137254901960784,
              "rgb(123,30,89)"
             ],
             [
              0.3764705882352941,
              "rgb(150,27,91)"
             ],
             [
              0.4392156862745098,
              "rgb(177,22,88)"
             ],
             [
              0.5019607843137255,
              "rgb(203,26,79)"
             ],
             [
              0.5647058823529412,
              "rgb(223,47,67)"
             ],
             [
              0.6274509803921569,
              "rgb(236,76,61)"
             ],
             [
              0.6901960784313725,
              "rgb(242,107,73)"
             ],
             [
              0.7529411764705882,
              "rgb(244,135,95)"
             ],
             [
              0.8156862745098039,
              "rgb(245,162,122)"
             ],
             [
              0.8784313725490196,
              "rgb(246,188,153)"
             ],
             [
              0.9411764705882353,
              "rgb(247,212,187)"
             ],
             [
              1,
              "rgb(250,234,220)"
             ]
            ],
            "type": "histogram2d"
           }
          ],
          "histogram2dcontour": [
           {
            "colorbar": {
             "outlinewidth": 0,
             "tickcolor": "rgb(36,36,36)",
             "ticklen": 8,
             "ticks": "outside",
             "tickwidth": 2
            },
            "colorscale": [
             [
              0,
              "rgb(2,4,25)"
             ],
             [
              0.06274509803921569,
              "rgb(24,15,41)"
             ],
             [
              0.12549019607843137,
              "rgb(47,23,57)"
             ],
             [
              0.18823529411764706,
              "rgb(71,28,72)"
             ],
             [
              0.25098039215686274,
              "rgb(97,30,82)"
             ],
             [
              0.3137254901960784,
              "rgb(123,30,89)"
             ],
             [
              0.3764705882352941,
              "rgb(150,27,91)"
             ],
             [
              0.4392156862745098,
              "rgb(177,22,88)"
             ],
             [
              0.5019607843137255,
              "rgb(203,26,79)"
             ],
             [
              0.5647058823529412,
              "rgb(223,47,67)"
             ],
             [
              0.6274509803921569,
              "rgb(236,76,61)"
             ],
             [
              0.6901960784313725,
              "rgb(242,107,73)"
             ],
             [
              0.7529411764705882,
              "rgb(244,135,95)"
             ],
             [
              0.8156862745098039,
              "rgb(245,162,122)"
             ],
             [
              0.8784313725490196,
              "rgb(246,188,153)"
             ],
             [
              0.9411764705882353,
              "rgb(247,212,187)"
             ],
             [
              1,
              "rgb(250,234,220)"
             ]
            ],
            "type": "histogram2dcontour"
           }
          ],
          "mesh3d": [
           {
            "colorbar": {
             "outlinewidth": 0,
             "tickcolor": "rgb(36,36,36)",
             "ticklen": 8,
             "ticks": "outside",
             "tickwidth": 2
            },
            "type": "mesh3d"
           }
          ],
          "parcoords": [
           {
            "line": {
             "colorbar": {
              "outlinewidth": 0,
              "tickcolor": "rgb(36,36,36)",
              "ticklen": 8,
              "ticks": "outside",
              "tickwidth": 2
             }
            },
            "type": "parcoords"
           }
          ],
          "pie": [
           {
            "automargin": true,
            "type": "pie"
           }
          ],
          "scatter": [
           {
            "fillpattern": {
             "fillmode": "overlay",
             "size": 10,
             "solidity": 0.2
            },
            "type": "scatter"
           }
          ],
          "scatter3d": [
           {
            "line": {
             "colorbar": {
              "outlinewidth": 0,
              "tickcolor": "rgb(36,36,36)",
              "ticklen": 8,
              "ticks": "outside",
              "tickwidth": 2
             }
            },
            "marker": {
             "colorbar": {
              "outlinewidth": 0,
              "tickcolor": "rgb(36,36,36)",
              "ticklen": 8,
              "ticks": "outside",
              "tickwidth": 2
             }
            },
            "type": "scatter3d"
           }
          ],
          "scattercarpet": [
           {
            "marker": {
             "colorbar": {
              "outlinewidth": 0,
              "tickcolor": "rgb(36,36,36)",
              "ticklen": 8,
              "ticks": "outside",
              "tickwidth": 2
             }
            },
            "type": "scattercarpet"
           }
          ],
          "scattergeo": [
           {
            "marker": {
             "colorbar": {
              "outlinewidth": 0,
              "tickcolor": "rgb(36,36,36)",
              "ticklen": 8,
              "ticks": "outside",
              "tickwidth": 2
             }
            },
            "type": "scattergeo"
           }
          ],
          "scattergl": [
           {
            "marker": {
             "colorbar": {
              "outlinewidth": 0,
              "tickcolor": "rgb(36,36,36)",
              "ticklen": 8,
              "ticks": "outside",
              "tickwidth": 2
             }
            },
            "type": "scattergl"
           }
          ],
          "scattermapbox": [
           {
            "marker": {
             "colorbar": {
              "outlinewidth": 0,
              "tickcolor": "rgb(36,36,36)",
              "ticklen": 8,
              "ticks": "outside",
              "tickwidth": 2
             }
            },
            "type": "scattermapbox"
           }
          ],
          "scatterpolar": [
           {
            "marker": {
             "colorbar": {
              "outlinewidth": 0,
              "tickcolor": "rgb(36,36,36)",
              "ticklen": 8,
              "ticks": "outside",
              "tickwidth": 2
             }
            },
            "type": "scatterpolar"
           }
          ],
          "scatterpolargl": [
           {
            "marker": {
             "colorbar": {
              "outlinewidth": 0,
              "tickcolor": "rgb(36,36,36)",
              "ticklen": 8,
              "ticks": "outside",
              "tickwidth": 2
             }
            },
            "type": "scatterpolargl"
           }
          ],
          "scatterternary": [
           {
            "marker": {
             "colorbar": {
              "outlinewidth": 0,
              "tickcolor": "rgb(36,36,36)",
              "ticklen": 8,
              "ticks": "outside",
              "tickwidth": 2
             }
            },
            "type": "scatterternary"
           }
          ],
          "surface": [
           {
            "colorbar": {
             "outlinewidth": 0,
             "tickcolor": "rgb(36,36,36)",
             "ticklen": 8,
             "ticks": "outside",
             "tickwidth": 2
            },
            "colorscale": [
             [
              0,
              "rgb(2,4,25)"
             ],
             [
              0.06274509803921569,
              "rgb(24,15,41)"
             ],
             [
              0.12549019607843137,
              "rgb(47,23,57)"
             ],
             [
              0.18823529411764706,
              "rgb(71,28,72)"
             ],
             [
              0.25098039215686274,
              "rgb(97,30,82)"
             ],
             [
              0.3137254901960784,
              "rgb(123,30,89)"
             ],
             [
              0.3764705882352941,
              "rgb(150,27,91)"
             ],
             [
              0.4392156862745098,
              "rgb(177,22,88)"
             ],
             [
              0.5019607843137255,
              "rgb(203,26,79)"
             ],
             [
              0.5647058823529412,
              "rgb(223,47,67)"
             ],
             [
              0.6274509803921569,
              "rgb(236,76,61)"
             ],
             [
              0.6901960784313725,
              "rgb(242,107,73)"
             ],
             [
              0.7529411764705882,
              "rgb(244,135,95)"
             ],
             [
              0.8156862745098039,
              "rgb(245,162,122)"
             ],
             [
              0.8784313725490196,
              "rgb(246,188,153)"
             ],
             [
              0.9411764705882353,
              "rgb(247,212,187)"
             ],
             [
              1,
              "rgb(250,234,220)"
             ]
            ],
            "type": "surface"
           }
          ],
          "table": [
           {
            "cells": {
             "fill": {
              "color": "rgb(231,231,240)"
             },
             "line": {
              "color": "white"
             }
            },
            "header": {
             "fill": {
              "color": "rgb(183,183,191)"
             },
             "line": {
              "color": "white"
             }
            },
            "type": "table"
           }
          ]
         },
         "layout": {
          "annotationdefaults": {
           "arrowcolor": "rgb(67,103,167)"
          },
          "autotypenumbers": "strict",
          "coloraxis": {
           "colorbar": {
            "outlinewidth": 0,
            "tickcolor": "rgb(36,36,36)",
            "ticklen": 8,
            "ticks": "outside",
            "tickwidth": 2
           }
          },
          "colorscale": {
           "sequential": [
            [
             0,
             "rgb(2,4,25)"
            ],
            [
             0.06274509803921569,
             "rgb(24,15,41)"
            ],
            [
             0.12549019607843137,
             "rgb(47,23,57)"
            ],
            [
             0.18823529411764706,
             "rgb(71,28,72)"
            ],
            [
             0.25098039215686274,
             "rgb(97,30,82)"
            ],
            [
             0.3137254901960784,
             "rgb(123,30,89)"
            ],
            [
             0.3764705882352941,
             "rgb(150,27,91)"
            ],
            [
             0.4392156862745098,
             "rgb(177,22,88)"
            ],
            [
             0.5019607843137255,
             "rgb(203,26,79)"
            ],
            [
             0.5647058823529412,
             "rgb(223,47,67)"
            ],
            [
             0.6274509803921569,
             "rgb(236,76,61)"
            ],
            [
             0.6901960784313725,
             "rgb(242,107,73)"
            ],
            [
             0.7529411764705882,
             "rgb(244,135,95)"
            ],
            [
             0.8156862745098039,
             "rgb(245,162,122)"
            ],
            [
             0.8784313725490196,
             "rgb(246,188,153)"
            ],
            [
             0.9411764705882353,
             "rgb(247,212,187)"
            ],
            [
             1,
             "rgb(250,234,220)"
            ]
           ],
           "sequentialminus": [
            [
             0,
             "rgb(2,4,25)"
            ],
            [
             0.06274509803921569,
             "rgb(24,15,41)"
            ],
            [
             0.12549019607843137,
             "rgb(47,23,57)"
            ],
            [
             0.18823529411764706,
             "rgb(71,28,72)"
            ],
            [
             0.25098039215686274,
             "rgb(97,30,82)"
            ],
            [
             0.3137254901960784,
             "rgb(123,30,89)"
            ],
            [
             0.3764705882352941,
             "rgb(150,27,91)"
            ],
            [
             0.4392156862745098,
             "rgb(177,22,88)"
            ],
            [
             0.5019607843137255,
             "rgb(203,26,79)"
            ],
            [
             0.5647058823529412,
             "rgb(223,47,67)"
            ],
            [
             0.6274509803921569,
             "rgb(236,76,61)"
            ],
            [
             0.6901960784313725,
             "rgb(242,107,73)"
            ],
            [
             0.7529411764705882,
             "rgb(244,135,95)"
            ],
            [
             0.8156862745098039,
             "rgb(245,162,122)"
            ],
            [
             0.8784313725490196,
             "rgb(246,188,153)"
            ],
            [
             0.9411764705882353,
             "rgb(247,212,187)"
            ],
            [
             1,
             "rgb(250,234,220)"
            ]
           ]
          },
          "colorway": [
           "rgb(76,114,176)",
           "rgb(221,132,82)",
           "rgb(85,168,104)",
           "rgb(196,78,82)",
           "rgb(129,114,179)",
           "rgb(147,120,96)",
           "rgb(218,139,195)",
           "rgb(140,140,140)",
           "rgb(204,185,116)",
           "rgb(100,181,205)"
          ],
          "font": {
           "color": "rgb(36,36,36)"
          },
          "geo": {
           "bgcolor": "white",
           "lakecolor": "white",
           "landcolor": "rgb(234,234,242)",
           "showlakes": true,
           "showland": true,
           "subunitcolor": "white"
          },
          "hoverlabel": {
           "align": "left"
          },
          "hovermode": "closest",
          "paper_bgcolor": "white",
          "plot_bgcolor": "rgb(234,234,242)",
          "polar": {
           "angularaxis": {
            "gridcolor": "white",
            "linecolor": "white",
            "showgrid": true,
            "ticks": ""
           },
           "bgcolor": "rgb(234,234,242)",
           "radialaxis": {
            "gridcolor": "white",
            "linecolor": "white",
            "showgrid": true,
            "ticks": ""
           }
          },
          "scene": {
           "xaxis": {
            "backgroundcolor": "rgb(234,234,242)",
            "gridcolor": "white",
            "gridwidth": 2,
            "linecolor": "white",
            "showbackground": true,
            "showgrid": true,
            "ticks": "",
            "zerolinecolor": "white"
           },
           "yaxis": {
            "backgroundcolor": "rgb(234,234,242)",
            "gridcolor": "white",
            "gridwidth": 2,
            "linecolor": "white",
            "showbackground": true,
            "showgrid": true,
            "ticks": "",
            "zerolinecolor": "white"
           },
           "zaxis": {
            "backgroundcolor": "rgb(234,234,242)",
            "gridcolor": "white",
            "gridwidth": 2,
            "linecolor": "white",
            "showbackground": true,
            "showgrid": true,
            "ticks": "",
            "zerolinecolor": "white"
           }
          },
          "shapedefaults": {
           "fillcolor": "rgb(67,103,167)",
           "line": {
            "width": 0
           },
           "opacity": 0.5
          },
          "ternary": {
           "aaxis": {
            "gridcolor": "white",
            "linecolor": "white",
            "showgrid": true,
            "ticks": ""
           },
           "baxis": {
            "gridcolor": "white",
            "linecolor": "white",
            "showgrid": true,
            "ticks": ""
           },
           "bgcolor": "rgb(234,234,242)",
           "caxis": {
            "gridcolor": "white",
            "linecolor": "white",
            "showgrid": true,
            "ticks": ""
           }
          },
          "xaxis": {
           "automargin": true,
           "gridcolor": "white",
           "linecolor": "white",
           "showgrid": true,
           "ticks": "",
           "title": {
            "standoff": 15
           },
           "zerolinecolor": "white"
          },
          "yaxis": {
           "automargin": true,
           "gridcolor": "white",
           "linecolor": "white",
           "showgrid": true,
           "ticks": "",
           "title": {
            "standoff": 15
           },
           "zerolinecolor": "white"
          }
         }
        },
        "title": {
         "text": "Sorted by: total_loop_flow, ascending: False, head: 20"
        },
        "xaxis": {
         "anchor": "y",
         "domain": [
          0,
          1
         ],
         "title": {
          "text": "Flow decomposition value"
         }
        },
        "yaxis": {
         "anchor": "x",
         "domain": [
          0,
          1
         ],
         "title": {
          "text": "Branch id"
         }
        }
       }
      }
     },
     "metadata": {},
     "output_type": "display_data"
    }
   ],
   "source": [
    "flow_decomposition_bar_chart('total_loop_flow')"
   ]
  },
  {
   "cell_type": "code",
   "execution_count": 18,
   "metadata": {},
   "outputs": [
    {
     "data": {
      "application/vnd.plotly.v1+json": {
       "config": {
        "plotlyServerURL": "https://plot.ly"
       },
       "data": [
        {
         "alignmentgroup": "True",
         "hovertemplate": "Decomposition part:=commercial_flow<br>Flow decomposition value=%{x}<br>Branch id=%{y}<extra></extra>",
         "legendgroup": "commercial_flow",
         "marker": {
          "color": "#0DF9FF",
          "pattern": {
           "shape": ""
          }
         },
         "name": "commercial_flow",
         "offsetgroup": "commercial_flow",
         "orientation": "h",
         "showlegend": true,
         "textposition": "auto",
         "texttemplate": "%{x:.0f}",
         "type": "bar",
         "x": [
          null,
          null,
          null,
          null,
          null,
          null,
          null,
          null,
          null,
          null,
          null,
          null,
          null,
          null,
          null,
          null,
          null,
          null,
          null,
          null
         ],
         "xaxis": "x",
         "y": [
          "L204-205-1",
          "L193-208-1",
          "L201-204-1",
          "L43-48-1",
          "L214-242-1",
          "L97-103-1",
          "L217-218-1",
          "L205-206-1",
          "L175-179-1",
          "L40-48-1",
          "L38-43-1",
          "L246-247-1",
          "L26-320-1",
          "L104-322-1",
          "L140-142-1",
          "L9012-9121-1",
          "L206-207-1",
          "L9044-9004-1",
          "L9003-9044-1",
          "L228-231-1"
         ],
         "yaxis": "y"
        },
        {
         "alignmentgroup": "True",
         "hovertemplate": "Decomposition part:=pst_flow<br>Flow decomposition value=%{x}<br>Branch id=%{y}<extra></extra>",
         "legendgroup": "pst_flow",
         "marker": {
          "color": "#AF0038",
          "pattern": {
           "shape": ""
          }
         },
         "name": "pst_flow",
         "offsetgroup": "pst_flow",
         "orientation": "h",
         "showlegend": true,
         "textposition": "auto",
         "texttemplate": "%{x:.0f}",
         "type": "bar",
         "x": [
          null,
          null,
          null,
          null,
          null,
          null,
          null,
          null,
          null,
          null,
          null,
          null,
          null,
          null,
          null,
          null,
          null,
          null,
          null,
          null
         ],
         "xaxis": "x",
         "y": [
          "L204-205-1",
          "L193-208-1",
          "L201-204-1",
          "L43-48-1",
          "L214-242-1",
          "L97-103-1",
          "L217-218-1",
          "L205-206-1",
          "L175-179-1",
          "L40-48-1",
          "L38-43-1",
          "L246-247-1",
          "L26-320-1",
          "L104-322-1",
          "L140-142-1",
          "L9012-9121-1",
          "L206-207-1",
          "L9044-9004-1",
          "L9003-9044-1",
          "L228-231-1"
         ],
         "yaxis": "y"
        },
        {
         "alignmentgroup": "True",
         "hovertemplate": "Decomposition part:=loop_flow_from_ag<br>Flow decomposition value=%{x}<br>Branch id=%{y}<extra></extra>",
         "legendgroup": "loop_flow_from_ag",
         "marker": {
          "color": "#FD3216",
          "pattern": {
           "shape": ""
          }
         },
         "name": "loop_flow_from_ag",
         "offsetgroup": "loop_flow_from_ag",
         "orientation": "h",
         "showlegend": true,
         "textposition": "auto",
         "texttemplate": "%{x:.0f}",
         "type": "bar",
         "x": [
          null,
          null,
          -5.4204058450006976,
          16.769074422581383,
          null,
          30.223435135968963,
          13.611656054790954,
          -14.651550834234401,
          10.163788593187153,
          null,
          -45.04308128019809,
          null,
          null,
          null,
          -123.4135917398933,
          null,
          30.975380634720644,
          null,
          null,
          -10.396656900153246
         ],
         "xaxis": "x",
         "y": [
          "L204-205-1",
          "L193-208-1",
          "L201-204-1",
          "L43-48-1",
          "L214-242-1",
          "L97-103-1",
          "L217-218-1",
          "L205-206-1",
          "L175-179-1",
          "L40-48-1",
          "L38-43-1",
          "L246-247-1",
          "L26-320-1",
          "L104-322-1",
          "L140-142-1",
          "L9012-9121-1",
          "L206-207-1",
          "L9044-9004-1",
          "L9003-9044-1",
          "L228-231-1"
         ],
         "yaxis": "y"
        },
        {
         "alignmentgroup": "True",
         "hovertemplate": "Decomposition part:=loop_flow_from_az<br>Flow decomposition value=%{x}<br>Branch id=%{y}<extra></extra>",
         "legendgroup": "loop_flow_from_az",
         "marker": {
          "color": "#00A08B",
          "pattern": {
           "shape": ""
          }
         },
         "name": "loop_flow_from_az",
         "offsetgroup": "loop_flow_from_az",
         "orientation": "h",
         "showlegend": true,
         "textposition": "auto",
         "texttemplate": "%{x:.0f}",
         "type": "bar",
         "x": [
          -9.360235136038833,
          -2.494329436715674,
          null,
          16.723046126835293,
          null,
          22.177338885073006,
          null,
          -18.91977118021566,
          null,
          null,
          -54.34449229841285,
          8.341841634090237,
          null,
          null,
          null,
          null,
          39.64112243602657,
          null,
          null,
          -13.817678699678137
         ],
         "xaxis": "x",
         "y": [
          "L204-205-1",
          "L193-208-1",
          "L201-204-1",
          "L43-48-1",
          "L214-242-1",
          "L97-103-1",
          "L217-218-1",
          "L205-206-1",
          "L175-179-1",
          "L40-48-1",
          "L38-43-1",
          "L246-247-1",
          "L26-320-1",
          "L104-322-1",
          "L140-142-1",
          "L9012-9121-1",
          "L206-207-1",
          "L9044-9004-1",
          "L9003-9044-1",
          "L228-231-1"
         ],
         "yaxis": "y"
        },
        {
         "alignmentgroup": "True",
         "hovertemplate": "Decomposition part:=loop_flow_from_be<br>Flow decomposition value=%{x}<br>Branch id=%{y}<extra></extra>",
         "legendgroup": "loop_flow_from_be",
         "marker": {
          "color": "#6C4516",
          "pattern": {
           "shape": ""
          }
         },
         "name": "loop_flow_from_be",
         "offsetgroup": "loop_flow_from_be",
         "orientation": "h",
         "showlegend": true,
         "textposition": "auto",
         "texttemplate": "%{x:.0f}",
         "type": "bar",
         "x": [
          null,
          2.1147870325946596,
          null,
          -23.1410285981509,
          29.36215416040784,
          null,
          -20.04732479564379,
          null,
          -6.8005485321744965,
          null,
          55.26070110108672,
          null,
          null,
          null,
          66.44107168460383,
          null,
          null,
          4.279999999999994,
          4.279999999999994,
          null
         ],
         "xaxis": "x",
         "y": [
          "L204-205-1",
          "L193-208-1",
          "L201-204-1",
          "L43-48-1",
          "L214-242-1",
          "L97-103-1",
          "L217-218-1",
          "L205-206-1",
          "L175-179-1",
          "L40-48-1",
          "L38-43-1",
          "L246-247-1",
          "L26-320-1",
          "L104-322-1",
          "L140-142-1",
          "L9012-9121-1",
          "L206-207-1",
          "L9044-9004-1",
          "L9003-9044-1",
          "L228-231-1"
         ],
         "yaxis": "y"
        },
        {
         "alignmentgroup": "True",
         "hovertemplate": "Decomposition part:=loop_flow_from_cd<br>Flow decomposition value=%{x}<br>Branch id=%{y}<extra></extra>",
         "legendgroup": "loop_flow_from_cd",
         "marker": {
          "color": "#511CFB",
          "pattern": {
           "shape": ""
          }
         },
         "name": "loop_flow_from_cd",
         "offsetgroup": "loop_flow_from_cd",
         "orientation": "h",
         "showlegend": true,
         "textposition": "auto",
         "texttemplate": "%{x:.0f}",
         "type": "bar",
         "x": [
          null,
          null,
          null,
          null,
          -33.32374502559987,
          null,
          null,
          null,
          null,
          null,
          null,
          -7.150250967214717,
          null,
          null,
          74.16982194932551,
          null,
          null,
          null,
          null,
          null
         ],
         "xaxis": "x",
         "y": [
          "L204-205-1",
          "L193-208-1",
          "L201-204-1",
          "L43-48-1",
          "L214-242-1",
          "L97-103-1",
          "L217-218-1",
          "L205-206-1",
          "L175-179-1",
          "L40-48-1",
          "L38-43-1",
          "L246-247-1",
          "L26-320-1",
          "L104-322-1",
          "L140-142-1",
          "L9012-9121-1",
          "L206-207-1",
          "L9044-9004-1",
          "L9003-9044-1",
          "L228-231-1"
         ],
         "yaxis": "y"
        },
        {
         "alignmentgroup": "True",
         "hovertemplate": "Decomposition part:=loop_flow_from_cl<br>Flow decomposition value=%{x}<br>Branch id=%{y}<extra></extra>",
         "legendgroup": "loop_flow_from_cl",
         "marker": {
          "color": "#F6F926",
          "pattern": {
           "shape": ""
          }
         },
         "name": "loop_flow_from_cl",
         "offsetgroup": "loop_flow_from_cl",
         "orientation": "h",
         "showlegend": true,
         "textposition": "auto",
         "texttemplate": "%{x:.0f}",
         "type": "bar",
         "x": [
          null,
          null,
          null,
          -12.645590645294734,
          null,
          null,
          null,
          null,
          null,
          null,
          50.90724570207263,
          null,
          null,
          null,
          null,
          null,
          null,
          null,
          null,
          null
         ],
         "xaxis": "x",
         "y": [
          "L204-205-1",
          "L193-208-1",
          "L201-204-1",
          "L43-48-1",
          "L214-242-1",
          "L97-103-1",
          "L217-218-1",
          "L205-206-1",
          "L175-179-1",
          "L40-48-1",
          "L38-43-1",
          "L246-247-1",
          "L26-320-1",
          "L104-322-1",
          "L140-142-1",
          "L9012-9121-1",
          "L206-207-1",
          "L9044-9004-1",
          "L9003-9044-1",
          "L228-231-1"
         ],
         "yaxis": "y"
        },
        {
         "alignmentgroup": "True",
         "hovertemplate": "Decomposition part:=loop_flow_from_dz<br>Flow decomposition value=%{x}<br>Branch id=%{y}<extra></extra>",
         "legendgroup": "loop_flow_from_dz",
         "marker": {
          "color": "#C9FBE5",
          "pattern": {
           "shape": ""
          }
         },
         "name": "loop_flow_from_dz",
         "offsetgroup": "loop_flow_from_dz",
         "orientation": "h",
         "showlegend": true,
         "textposition": "auto",
         "texttemplate": "%{x:.0f}",
         "type": "bar",
         "x": [
          -6.481542558448238,
          null,
          -5.781749238175602,
          12.32668844892438,
          null,
          28.239669952367365,
          41.28474347648637,
          -17.840729794563345,
          null,
          7.592423944401073,
          null,
          null,
          null,
          null,
          65.4283747186245,
          null,
          38.65785523638108,
          null,
          null,
          null
         ],
         "xaxis": "x",
         "y": [
          "L204-205-1",
          "L193-208-1",
          "L201-204-1",
          "L43-48-1",
          "L214-242-1",
          "L97-103-1",
          "L217-218-1",
          "L205-206-1",
          "L175-179-1",
          "L40-48-1",
          "L38-43-1",
          "L246-247-1",
          "L26-320-1",
          "L104-322-1",
          "L140-142-1",
          "L9012-9121-1",
          "L206-207-1",
          "L9044-9004-1",
          "L9003-9044-1",
          "L228-231-1"
         ],
         "yaxis": "y"
        },
        {
         "alignmentgroup": "True",
         "hovertemplate": "Decomposition part:=loop_flow_from_es<br>Flow decomposition value=%{x}<br>Branch id=%{y}<extra></extra>",
         "legendgroup": "loop_flow_from_es",
         "marker": {
          "color": "#FC0080",
          "pattern": {
           "shape": ""
          }
         },
         "name": "loop_flow_from_es",
         "offsetgroup": "loop_flow_from_es",
         "orientation": "h",
         "showlegend": true,
         "textposition": "auto",
         "texttemplate": "%{x:.0f}",
         "type": "bar",
         "x": [
          -14.075400487072171,
          -4.881509248109624,
          15.267157693016784,
          21.696618508242235,
          null,
          36.33952408126344,
          null,
          -12.403011027050198,
          null,
          8.221513629595005,
          -43.93659816176003,
          null,
          null,
          null,
          null,
          null,
          23.819711045038467,
          null,
          null,
          null
         ],
         "xaxis": "x",
         "y": [
          "L204-205-1",
          "L193-208-1",
          "L201-204-1",
          "L43-48-1",
          "L214-242-1",
          "L97-103-1",
          "L217-218-1",
          "L205-206-1",
          "L175-179-1",
          "L40-48-1",
          "L38-43-1",
          "L246-247-1",
          "L26-320-1",
          "L104-322-1",
          "L140-142-1",
          "L9012-9121-1",
          "L206-207-1",
          "L9044-9004-1",
          "L9003-9044-1",
          "L228-231-1"
         ],
         "yaxis": "y"
        },
        {
         "alignmentgroup": "True",
         "hovertemplate": "Decomposition part:=loop_flow_from_gr<br>Flow decomposition value=%{x}<br>Branch id=%{y}<extra></extra>",
         "legendgroup": "loop_flow_from_gr",
         "marker": {
          "color": "#FB0D0D",
          "pattern": {
           "shape": ""
          }
         },
         "name": "loop_flow_from_gr",
         "offsetgroup": "loop_flow_from_gr",
         "orientation": "h",
         "showlegend": true,
         "textposition": "auto",
         "texttemplate": "%{x:.0f}",
         "type": "bar",
         "x": [
          null,
          null,
          null,
          null,
          null,
          null,
          null,
          null,
          8.6134359362444,
          null,
          null,
          -10.805957744008792,
          null,
          2.4000000000000004,
          102.58740469051564,
          null,
          null,
          null,
          null,
          null
         ],
         "xaxis": "x",
         "y": [
          "L204-205-1",
          "L193-208-1",
          "L201-204-1",
          "L43-48-1",
          "L214-242-1",
          "L97-103-1",
          "L217-218-1",
          "L205-206-1",
          "L175-179-1",
          "L40-48-1",
          "L38-43-1",
          "L246-247-1",
          "L26-320-1",
          "L104-322-1",
          "L140-142-1",
          "L9012-9121-1",
          "L206-207-1",
          "L9044-9004-1",
          "L9003-9044-1",
          "L228-231-1"
         ],
         "yaxis": "y"
        },
        {
         "alignmentgroup": "True",
         "hovertemplate": "Decomposition part:=loop_flow_from_gu<br>Flow decomposition value=%{x}<br>Branch id=%{y}<extra></extra>",
         "legendgroup": "loop_flow_from_gu",
         "marker": {
          "color": "#D626FF",
          "pattern": {
           "shape": ""
          }
         },
         "name": "loop_flow_from_gu",
         "offsetgroup": "loop_flow_from_gu",
         "orientation": "h",
         "showlegend": true,
         "textposition": "auto",
         "texttemplate": "%{x:.0f}",
         "type": "bar",
         "x": [
          null,
          null,
          null,
          null,
          53.76280871189719,
          null,
          null,
          null,
          null,
          null,
          null,
          null,
          null,
          null,
          null,
          null,
          null,
          null,
          null,
          null
         ],
         "xaxis": "x",
         "y": [
          "L204-205-1",
          "L193-208-1",
          "L201-204-1",
          "L43-48-1",
          "L214-242-1",
          "L97-103-1",
          "L217-218-1",
          "L205-206-1",
          "L175-179-1",
          "L40-48-1",
          "L38-43-1",
          "L246-247-1",
          "L26-320-1",
          "L104-322-1",
          "L140-142-1",
          "L9012-9121-1",
          "L206-207-1",
          "L9044-9004-1",
          "L9003-9044-1",
          "L228-231-1"
         ],
         "yaxis": "y"
        },
        {
         "alignmentgroup": "True",
         "hovertemplate": "Decomposition part:=loop_flow_from_hn<br>Flow decomposition value=%{x}<br>Branch id=%{y}<extra></extra>",
         "legendgroup": "loop_flow_from_hn",
         "marker": {
          "color": "#DA16FF",
          "pattern": {
           "shape": ""
          }
         },
         "name": "loop_flow_from_hn",
         "offsetgroup": "loop_flow_from_hn",
         "orientation": "h",
         "showlegend": true,
         "textposition": "auto",
         "texttemplate": "%{x:.0f}",
         "type": "bar",
         "x": [
          -24.56891564781862,
          -10.26882497261261,
          -17.475897644342076,
          null,
          57.72287782270575,
          null,
          -17.212710285506827,
          null,
          null,
          -13.281076710356405,
          null,
          null,
          null,
          null,
          null,
          null,
          null,
          null,
          null,
          28.407592956948235
         ],
         "xaxis": "x",
         "y": [
          "L204-205-1",
          "L193-208-1",
          "L201-204-1",
          "L43-48-1",
          "L214-242-1",
          "L97-103-1",
          "L217-218-1",
          "L205-206-1",
          "L175-179-1",
          "L40-48-1",
          "L38-43-1",
          "L246-247-1",
          "L26-320-1",
          "L104-322-1",
          "L140-142-1",
          "L9012-9121-1",
          "L206-207-1",
          "L9044-9004-1",
          "L9003-9044-1",
          "L228-231-1"
         ],
         "yaxis": "y"
        },
        {
         "alignmentgroup": "True",
         "hovertemplate": "Decomposition part:=loop_flow_from_id<br>Flow decomposition value=%{x}<br>Branch id=%{y}<extra></extra>",
         "legendgroup": "loop_flow_from_id",
         "marker": {
          "color": "#86CE00",
          "pattern": {
           "shape": ""
          }
         },
         "name": "loop_flow_from_id",
         "offsetgroup": "loop_flow_from_id",
         "orientation": "h",
         "showlegend": true,
         "textposition": "auto",
         "texttemplate": "%{x:.0f}",
         "type": "bar",
         "x": [
          null,
          null,
          null,
          null,
          -36.80578664773082,
          null,
          null,
          null,
          6.977277643100564,
          -8.357122978002325,
          null,
          -17.64015211191596,
          null,
          null,
          -83.75190000273275,
          null,
          null,
          null,
          null,
          null
         ],
         "xaxis": "x",
         "y": [
          "L204-205-1",
          "L193-208-1",
          "L201-204-1",
          "L43-48-1",
          "L214-242-1",
          "L97-103-1",
          "L217-218-1",
          "L205-206-1",
          "L175-179-1",
          "L40-48-1",
          "L38-43-1",
          "L246-247-1",
          "L26-320-1",
          "L104-322-1",
          "L140-142-1",
          "L9012-9121-1",
          "L206-207-1",
          "L9044-9004-1",
          "L9003-9044-1",
          "L228-231-1"
         ],
         "yaxis": "y"
        },
        {
         "alignmentgroup": "True",
         "hovertemplate": "Decomposition part:=loop_flow_from_iq<br>Flow decomposition value=%{x}<br>Branch id=%{y}<extra></extra>",
         "legendgroup": "loop_flow_from_iq",
         "marker": {
          "color": "#6A76FC",
          "pattern": {
           "shape": ""
          }
         },
         "name": "loop_flow_from_iq",
         "offsetgroup": "loop_flow_from_iq",
         "orientation": "h",
         "showlegend": true,
         "textposition": "auto",
         "texttemplate": "%{x:.0f}",
         "type": "bar",
         "x": [
          null,
          null,
          null,
          12.323035591326986,
          -40.7952540052424,
          null,
          null,
          null,
          -21.587382946666665,
          null,
          -31.25335396882866,
          null,
          null,
          null,
          -80.43627285925034,
          null,
          null,
          null,
          null,
          null
         ],
         "xaxis": "x",
         "y": [
          "L204-205-1",
          "L193-208-1",
          "L201-204-1",
          "L43-48-1",
          "L214-242-1",
          "L97-103-1",
          "L217-218-1",
          "L205-206-1",
          "L175-179-1",
          "L40-48-1",
          "L38-43-1",
          "L246-247-1",
          "L26-320-1",
          "L104-322-1",
          "L140-142-1",
          "L9012-9121-1",
          "L206-207-1",
          "L9044-9004-1",
          "L9003-9044-1",
          "L228-231-1"
         ],
         "yaxis": "y"
        },
        {
         "alignmentgroup": "True",
         "hovertemplate": "Decomposition part:=loop_flow_from_jo<br>Flow decomposition value=%{x}<br>Branch id=%{y}<extra></extra>",
         "legendgroup": "loop_flow_from_jo",
         "marker": {
          "color": "#FB00D1",
          "pattern": {
           "shape": ""
          }
         },
         "name": "loop_flow_from_jo",
         "offsetgroup": "loop_flow_from_jo",
         "orientation": "h",
         "showlegend": true,
         "textposition": "auto",
         "texttemplate": "%{x:.0f}",
         "type": "bar",
         "x": [
          6.362668766888275,
          3.0932868235173467,
          12.266601092756497,
          null,
          -28.862619704772996,
          -14.27492806533606,
          null,
          19.51930394903285,
          null,
          null,
          null,
          null,
          2.4,
          null,
          68.88318617852384,
          null,
          -29.233389818764547,
          null,
          null,
          null
         ],
         "xaxis": "x",
         "y": [
          "L204-205-1",
          "L193-208-1",
          "L201-204-1",
          "L43-48-1",
          "L214-242-1",
          "L97-103-1",
          "L217-218-1",
          "L205-206-1",
          "L175-179-1",
          "L40-48-1",
          "L38-43-1",
          "L246-247-1",
          "L26-320-1",
          "L104-322-1",
          "L140-142-1",
          "L9012-9121-1",
          "L206-207-1",
          "L9044-9004-1",
          "L9003-9044-1",
          "L228-231-1"
         ],
         "yaxis": "y"
        },
        {
         "alignmentgroup": "True",
         "hovertemplate": "Decomposition part:=loop_flow_from_ke<br>Flow decomposition value=%{x}<br>Branch id=%{y}<extra></extra>",
         "legendgroup": "loop_flow_from_ke",
         "marker": {
          "color": "#EEA6FB",
          "pattern": {
           "shape": ""
          }
         },
         "name": "loop_flow_from_ke",
         "offsetgroup": "loop_flow_from_ke",
         "orientation": "h",
         "showlegend": true,
         "textposition": "auto",
         "texttemplate": "%{x:.0f}",
         "type": "bar",
         "x": [
          14.915350316192876,
          5.025619766114388,
          null,
          -29.555770288891335,
          72.3259864682789,
          null,
          -33.532158607992365,
          28.604514805579107,
          null,
          null,
          70.92957232579954,
          null,
          null,
          null,
          null,
          null,
          -59.44009023508751,
          null,
          null,
          9.488311237604655
         ],
         "xaxis": "x",
         "y": [
          "L204-205-1",
          "L193-208-1",
          "L201-204-1",
          "L43-48-1",
          "L214-242-1",
          "L97-103-1",
          "L217-218-1",
          "L205-206-1",
          "L175-179-1",
          "L40-48-1",
          "L38-43-1",
          "L246-247-1",
          "L26-320-1",
          "L104-322-1",
          "L140-142-1",
          "L9012-9121-1",
          "L206-207-1",
          "L9044-9004-1",
          "L9003-9044-1",
          "L228-231-1"
         ],
         "yaxis": "y"
        },
        {
         "alignmentgroup": "True",
         "hovertemplate": "Decomposition part:=loop_flow_from_kg<br>Flow decomposition value=%{x}<br>Branch id=%{y}<extra></extra>",
         "legendgroup": "loop_flow_from_kg",
         "marker": {
          "color": "#FE00CE",
          "pattern": {
           "shape": ""
          }
         },
         "name": "loop_flow_from_kg",
         "offsetgroup": "loop_flow_from_kg",
         "orientation": "h",
         "showlegend": true,
         "textposition": "auto",
         "texttemplate": "%{x:.0f}",
         "type": "bar",
         "x": [
          null,
          null,
          -6.557498923653251,
          null,
          -29.027237518296644,
          null,
          -21.379021207259044,
          null,
          null,
          null,
          null,
          32.936085503177345,
          null,
          null,
          -64.90520230259968,
          3.8,
          null,
          null,
          null,
          24.222818509865373
         ],
         "xaxis": "x",
         "y": [
          "L204-205-1",
          "L193-208-1",
          "L201-204-1",
          "L43-48-1",
          "L214-242-1",
          "L97-103-1",
          "L217-218-1",
          "L205-206-1",
          "L175-179-1",
          "L40-48-1",
          "L38-43-1",
          "L246-247-1",
          "L26-320-1",
          "L104-322-1",
          "L140-142-1",
          "L9012-9121-1",
          "L206-207-1",
          "L9044-9004-1",
          "L9003-9044-1",
          "L228-231-1"
         ],
         "yaxis": "y"
        },
        {
         "alignmentgroup": "True",
         "hovertemplate": "Decomposition part:=loop_flow_from_lv<br>Flow decomposition value=%{x}<br>Branch id=%{y}<extra></extra>",
         "legendgroup": "loop_flow_from_lv",
         "marker": {
          "color": "#22FFA7",
          "pattern": {
           "shape": ""
          }
         },
         "name": "loop_flow_from_lv",
         "offsetgroup": "loop_flow_from_lv",
         "orientation": "h",
         "showlegend": true,
         "textposition": "auto",
         "texttemplate": "%{x:.0f}",
         "type": "bar",
         "x": [
          null,
          null,
          null,
          23.069358943598974,
          null,
          -67.69089389423617,
          null,
          null,
          25.376236925100812,
          28.114353948816483,
          null,
          null,
          null,
          null,
          -80.04757277636004,
          null,
          null,
          null,
          null,
          null
         ],
         "xaxis": "x",
         "y": [
          "L204-205-1",
          "L193-208-1",
          "L201-204-1",
          "L43-48-1",
          "L214-242-1",
          "L97-103-1",
          "L217-218-1",
          "L205-206-1",
          "L175-179-1",
          "L40-48-1",
          "L38-43-1",
          "L246-247-1",
          "L26-320-1",
          "L104-322-1",
          "L140-142-1",
          "L9012-9121-1",
          "L206-207-1",
          "L9044-9004-1",
          "L9003-9044-1",
          "L228-231-1"
         ],
         "yaxis": "y"
        },
        {
         "alignmentgroup": "True",
         "hovertemplate": "Decomposition part:=loop_flow_from_om<br>Flow decomposition value=%{x}<br>Branch id=%{y}<extra></extra>",
         "legendgroup": "loop_flow_from_om",
         "marker": {
          "color": "#620042",
          "pattern": {
           "shape": ""
          }
         },
         "name": "loop_flow_from_om",
         "offsetgroup": "loop_flow_from_om",
         "orientation": "h",
         "showlegend": true,
         "textposition": "auto",
         "texttemplate": "%{x:.0f}",
         "type": "bar",
         "x": [
          7.774337879866706,
          null,
          5.094274453561819,
          -14.774153428418392,
          null,
          -15.999254061764331,
          29.43921165078916,
          17.935533614248747,
          -13.949880637815475,
          -12.239676694896861,
          null,
          -8.487269234040932,
          null,
          null,
          50.54895660810749,
          null,
          -37.9353379508814,
          null,
          null,
          null
         ],
         "xaxis": "x",
         "y": [
          "L204-205-1",
          "L193-208-1",
          "L201-204-1",
          "L43-48-1",
          "L214-242-1",
          "L97-103-1",
          "L217-218-1",
          "L205-206-1",
          "L175-179-1",
          "L40-48-1",
          "L38-43-1",
          "L246-247-1",
          "L26-320-1",
          "L104-322-1",
          "L140-142-1",
          "L9012-9121-1",
          "L206-207-1",
          "L9044-9004-1",
          "L9003-9044-1",
          "L228-231-1"
         ],
         "yaxis": "y"
        },
        {
         "alignmentgroup": "True",
         "hovertemplate": "Decomposition part:=loop_flow_from_pn<br>Flow decomposition value=%{x}<br>Branch id=%{y}<extra></extra>",
         "legendgroup": "loop_flow_from_pn",
         "marker": {
          "color": "#FF9616",
          "pattern": {
           "shape": ""
          }
         },
         "name": "loop_flow_from_pn",
         "offsetgroup": "loop_flow_from_pn",
         "orientation": "h",
         "showlegend": true,
         "textposition": "auto",
         "texttemplate": "%{x:.0f}",
         "type": "bar",
         "x": [
          null,
          null,
          null,
          null,
          null,
          null,
          null,
          null,
          null,
          null,
          null,
          null,
          null,
          null,
          null,
          null,
          null,
          null,
          null,
          null
         ],
         "xaxis": "x",
         "y": [
          "L204-205-1",
          "L193-208-1",
          "L201-204-1",
          "L43-48-1",
          "L214-242-1",
          "L97-103-1",
          "L217-218-1",
          "L205-206-1",
          "L175-179-1",
          "L40-48-1",
          "L38-43-1",
          "L246-247-1",
          "L26-320-1",
          "L104-322-1",
          "L140-142-1",
          "L9012-9121-1",
          "L206-207-1",
          "L9044-9004-1",
          "L9003-9044-1",
          "L228-231-1"
         ],
         "yaxis": "y"
        },
        {
         "alignmentgroup": "True",
         "hovertemplate": "Decomposition part:=loop_flow_from_rs<br>Flow decomposition value=%{x}<br>Branch id=%{y}<extra></extra>",
         "legendgroup": "loop_flow_from_rs",
         "marker": {
          "color": "#FC6955",
          "pattern": {
           "shape": ""
          }
         },
         "name": "loop_flow_from_rs",
         "offsetgroup": "loop_flow_from_rs",
         "orientation": "h",
         "showlegend": true,
         "textposition": "auto",
         "texttemplate": "%{x:.0f}",
         "type": "bar",
         "x": [
          null,
          null,
          null,
          null,
          null,
          null,
          -24.311478323397548,
          null,
          null,
          null,
          null,
          null,
          null,
          null,
          null,
          null,
          null,
          null,
          null,
          null
         ],
         "xaxis": "x",
         "y": [
          "L204-205-1",
          "L193-208-1",
          "L201-204-1",
          "L43-48-1",
          "L214-242-1",
          "L97-103-1",
          "L217-218-1",
          "L205-206-1",
          "L175-179-1",
          "L40-48-1",
          "L38-43-1",
          "L246-247-1",
          "L26-320-1",
          "L104-322-1",
          "L140-142-1",
          "L9012-9121-1",
          "L206-207-1",
          "L9044-9004-1",
          "L9003-9044-1",
          "L228-231-1"
         ],
         "yaxis": "y"
        },
        {
         "alignmentgroup": "True",
         "hovertemplate": "Decomposition part:=loop_flow_from_rw<br>Flow decomposition value=%{x}<br>Branch id=%{y}<extra></extra>",
         "legendgroup": "loop_flow_from_rw",
         "marker": {
          "color": "#479B55",
          "pattern": {
           "shape": ""
          }
         },
         "name": "loop_flow_from_rw",
         "offsetgroup": "loop_flow_from_rw",
         "orientation": "h",
         "showlegend": true,
         "textposition": "auto",
         "texttemplate": "%{x:.0f}",
         "type": "bar",
         "x": [
          null,
          null,
          null,
          null,
          -27.351527952919817,
          null,
          null,
          null,
          null,
          null,
          null,
          null,
          null,
          null,
          null,
          null,
          null,
          null,
          null,
          -32.901109779308335
         ],
         "xaxis": "x",
         "y": [
          "L204-205-1",
          "L193-208-1",
          "L201-204-1",
          "L43-48-1",
          "L214-242-1",
          "L97-103-1",
          "L217-218-1",
          "L205-206-1",
          "L175-179-1",
          "L40-48-1",
          "L38-43-1",
          "L246-247-1",
          "L26-320-1",
          "L104-322-1",
          "L140-142-1",
          "L9012-9121-1",
          "L206-207-1",
          "L9044-9004-1",
          "L9003-9044-1",
          "L228-231-1"
         ],
         "yaxis": "y"
        },
        {
         "alignmentgroup": "True",
         "hovertemplate": "Decomposition part:=masked_flows_positive<br>Flow decomposition value=%{x}<br>Branch id=%{y}<extra></extra>",
         "legendgroup": "masked_flows_positive",
         "marker": {
          "color": "#6E899C",
          "pattern": {
           "shape": ""
          }
         },
         "name": "masked_flows_positive",
         "offsetgroup": "masked_flows_positive",
         "orientation": "h",
         "showlegend": true,
         "textposition": "auto",
         "texttemplate": "%{x:.0f}",
         "type": "bar",
         "x": [
          18.276189861947955,
          7.994618507320198,
          11.046883752424478,
          8.539600539213124,
          45.29291750351008,
          24.063226140984185,
          42.2480280251674,
          26.171975205420654,
          14.09990834536165,
          11.687157574706367,
          64.35755833252543,
          21.114165431183903,
          0,
          0,
          78.7401212763332,
          0,
          57.39177715154496,
          0,
          0,
          34.882254744687735
         ],
         "xaxis": "x",
         "y": [
          "L204-205-1",
          "L193-208-1",
          "L201-204-1",
          "L43-48-1",
          "L214-242-1",
          "L97-103-1",
          "L217-218-1",
          "L205-206-1",
          "L175-179-1",
          "L40-48-1",
          "L38-43-1",
          "L246-247-1",
          "L26-320-1",
          "L104-322-1",
          "L140-142-1",
          "L9012-9121-1",
          "L206-207-1",
          "L9044-9004-1",
          "L9003-9044-1",
          "L228-231-1"
         ],
         "yaxis": "y"
        },
        {
         "alignmentgroup": "True",
         "hovertemplate": "Decomposition part:=masked_flows_negative<br>Flow decomposition value=%{x}<br>Branch id=%{y}<extra></extra>",
         "legendgroup": "masked_flows_negative",
         "marker": {
          "color": "#00FE35",
          "pattern": {
           "shape": ""
          }
         },
         "name": "masked_flows_negative",
         "offsetgroup": "masked_flows_negative",
         "orientation": "h",
         "showlegend": true,
         "textposition": "auto",
         "texttemplate": "%{x:.0f}",
         "type": "bar",
         "x": [
          -21.073424537975395,
          -6.262518657521277,
          -11.716371323829398,
          -30.92746836774617,
          -61.76411002894156,
          -42.40189026740263,
          -9.209958148619949,
          -27.50422240346063,
          -21.058345607865043,
          -19.78769933406502,
          -64.831305206878,
          -16.167477832379614,
          0,
          0,
          -70.66935447344646,
          0,
          -59.829835381223155,
          0,
          0,
          -34.96002839634311
         ],
         "xaxis": "x",
         "y": [
          "L204-205-1",
          "L193-208-1",
          "L201-204-1",
          "L43-48-1",
          "L214-242-1",
          "L97-103-1",
          "L217-218-1",
          "L205-206-1",
          "L175-179-1",
          "L40-48-1",
          "L38-43-1",
          "L246-247-1",
          "L26-320-1",
          "L104-322-1",
          "L140-142-1",
          "L9012-9121-1",
          "L206-207-1",
          "L9044-9004-1",
          "L9003-9044-1",
          "L228-231-1"
         ],
         "yaxis": "y"
        },
        {
         "mode": "lines+markers",
         "name": "total_flow",
         "type": "scatter",
         "x": [
          -28.23097154245744,
          -5.678870185412592,
          -3.277005983241449,
          0.4034112522208444,
          0.5364637832956483,
          0.6762279069177701,
          0.890987838814369,
          0.9120423347571247,
          1.8344897184729065,
          1.9498733801983112,
          2.0462465454066816,
          2.1409846788914733,
          2.4,
          2.4000000000000004,
          3.575042951751447,
          3.8,
          4.047193117755115,
          4.279999999999994,
          4.279999999999994,
          4.925503673623169
         ],
         "y": [
          "L204-205-1",
          "L193-208-1",
          "L201-204-1",
          "L43-48-1",
          "L214-242-1",
          "L97-103-1",
          "L217-218-1",
          "L205-206-1",
          "L175-179-1",
          "L40-48-1",
          "L38-43-1",
          "L246-247-1",
          "L26-320-1",
          "L104-322-1",
          "L140-142-1",
          "L9012-9121-1",
          "L206-207-1",
          "L9044-9004-1",
          "L9003-9044-1",
          "L228-231-1"
         ]
        },
        {
         "mode": "lines+markers",
         "name": "total_loop_flow",
         "type": "scatter",
         "x": [
          -28.23097154245744,
          -5.678870185412592,
          -3.277005983241449,
          0.4034112522208444,
          0.5364637832956483,
          0.6762279069177701,
          0.890987838814369,
          0.9120423347571247,
          1.8344897184729065,
          1.9498733801983112,
          2.0462465454066816,
          2.1409846788914733,
          2.4,
          2.4000000000000004,
          3.575042951751447,
          3.8,
          4.047193117755115,
          4.279999999999994,
          4.279999999999994,
          4.925503673623169
         ],
         "y": [
          "L204-205-1",
          "L193-208-1",
          "L201-204-1",
          "L43-48-1",
          "L214-242-1",
          "L97-103-1",
          "L217-218-1",
          "L205-206-1",
          "L175-179-1",
          "L40-48-1",
          "L38-43-1",
          "L246-247-1",
          "L26-320-1",
          "L104-322-1",
          "L140-142-1",
          "L9012-9121-1",
          "L206-207-1",
          "L9044-9004-1",
          "L9003-9044-1",
          "L228-231-1"
         ]
        }
       ],
       "layout": {
        "barmode": "relative",
        "height": 1000,
        "legend": {
         "title": {
          "text": "Decomposition part:"
         },
         "tracegroupgap": 0
        },
        "template": {
         "data": {
          "bar": [
           {
            "error_x": {
             "color": "rgb(36,36,36)"
            },
            "error_y": {
             "color": "rgb(36,36,36)"
            },
            "marker": {
             "line": {
              "color": "rgb(234,234,242)",
              "width": 0.5
             },
             "pattern": {
              "fillmode": "overlay",
              "size": 10,
              "solidity": 0.2
             }
            },
            "type": "bar"
           }
          ],
          "barpolar": [
           {
            "marker": {
             "line": {
              "color": "rgb(234,234,242)",
              "width": 0.5
             },
             "pattern": {
              "fillmode": "overlay",
              "size": 10,
              "solidity": 0.2
             }
            },
            "type": "barpolar"
           }
          ],
          "carpet": [
           {
            "aaxis": {
             "endlinecolor": "rgb(36,36,36)",
             "gridcolor": "white",
             "linecolor": "white",
             "minorgridcolor": "white",
             "startlinecolor": "rgb(36,36,36)"
            },
            "baxis": {
             "endlinecolor": "rgb(36,36,36)",
             "gridcolor": "white",
             "linecolor": "white",
             "minorgridcolor": "white",
             "startlinecolor": "rgb(36,36,36)"
            },
            "type": "carpet"
           }
          ],
          "choropleth": [
           {
            "colorbar": {
             "outlinewidth": 0,
             "tickcolor": "rgb(36,36,36)",
             "ticklen": 8,
             "ticks": "outside",
             "tickwidth": 2
            },
            "type": "choropleth"
           }
          ],
          "contour": [
           {
            "colorbar": {
             "outlinewidth": 0,
             "tickcolor": "rgb(36,36,36)",
             "ticklen": 8,
             "ticks": "outside",
             "tickwidth": 2
            },
            "colorscale": [
             [
              0,
              "rgb(2,4,25)"
             ],
             [
              0.06274509803921569,
              "rgb(24,15,41)"
             ],
             [
              0.12549019607843137,
              "rgb(47,23,57)"
             ],
             [
              0.18823529411764706,
              "rgb(71,28,72)"
             ],
             [
              0.25098039215686274,
              "rgb(97,30,82)"
             ],
             [
              0.3137254901960784,
              "rgb(123,30,89)"
             ],
             [
              0.3764705882352941,
              "rgb(150,27,91)"
             ],
             [
              0.4392156862745098,
              "rgb(177,22,88)"
             ],
             [
              0.5019607843137255,
              "rgb(203,26,79)"
             ],
             [
              0.5647058823529412,
              "rgb(223,47,67)"
             ],
             [
              0.6274509803921569,
              "rgb(236,76,61)"
             ],
             [
              0.6901960784313725,
              "rgb(242,107,73)"
             ],
             [
              0.7529411764705882,
              "rgb(244,135,95)"
             ],
             [
              0.8156862745098039,
              "rgb(245,162,122)"
             ],
             [
              0.8784313725490196,
              "rgb(246,188,153)"
             ],
             [
              0.9411764705882353,
              "rgb(247,212,187)"
             ],
             [
              1,
              "rgb(250,234,220)"
             ]
            ],
            "type": "contour"
           }
          ],
          "contourcarpet": [
           {
            "colorbar": {
             "outlinewidth": 0,
             "tickcolor": "rgb(36,36,36)",
             "ticklen": 8,
             "ticks": "outside",
             "tickwidth": 2
            },
            "type": "contourcarpet"
           }
          ],
          "heatmap": [
           {
            "colorbar": {
             "outlinewidth": 0,
             "tickcolor": "rgb(36,36,36)",
             "ticklen": 8,
             "ticks": "outside",
             "tickwidth": 2
            },
            "colorscale": [
             [
              0,
              "rgb(2,4,25)"
             ],
             [
              0.06274509803921569,
              "rgb(24,15,41)"
             ],
             [
              0.12549019607843137,
              "rgb(47,23,57)"
             ],
             [
              0.18823529411764706,
              "rgb(71,28,72)"
             ],
             [
              0.25098039215686274,
              "rgb(97,30,82)"
             ],
             [
              0.3137254901960784,
              "rgb(123,30,89)"
             ],
             [
              0.3764705882352941,
              "rgb(150,27,91)"
             ],
             [
              0.4392156862745098,
              "rgb(177,22,88)"
             ],
             [
              0.5019607843137255,
              "rgb(203,26,79)"
             ],
             [
              0.5647058823529412,
              "rgb(223,47,67)"
             ],
             [
              0.6274509803921569,
              "rgb(236,76,61)"
             ],
             [
              0.6901960784313725,
              "rgb(242,107,73)"
             ],
             [
              0.7529411764705882,
              "rgb(244,135,95)"
             ],
             [
              0.8156862745098039,
              "rgb(245,162,122)"
             ],
             [
              0.8784313725490196,
              "rgb(246,188,153)"
             ],
             [
              0.9411764705882353,
              "rgb(247,212,187)"
             ],
             [
              1,
              "rgb(250,234,220)"
             ]
            ],
            "type": "heatmap"
           }
          ],
          "heatmapgl": [
           {
            "colorbar": {
             "outlinewidth": 0,
             "tickcolor": "rgb(36,36,36)",
             "ticklen": 8,
             "ticks": "outside",
             "tickwidth": 2
            },
            "colorscale": [
             [
              0,
              "rgb(2,4,25)"
             ],
             [
              0.06274509803921569,
              "rgb(24,15,41)"
             ],
             [
              0.12549019607843137,
              "rgb(47,23,57)"
             ],
             [
              0.18823529411764706,
              "rgb(71,28,72)"
             ],
             [
              0.25098039215686274,
              "rgb(97,30,82)"
             ],
             [
              0.3137254901960784,
              "rgb(123,30,89)"
             ],
             [
              0.3764705882352941,
              "rgb(150,27,91)"
             ],
             [
              0.4392156862745098,
              "rgb(177,22,88)"
             ],
             [
              0.5019607843137255,
              "rgb(203,26,79)"
             ],
             [
              0.5647058823529412,
              "rgb(223,47,67)"
             ],
             [
              0.6274509803921569,
              "rgb(236,76,61)"
             ],
             [
              0.6901960784313725,
              "rgb(242,107,73)"
             ],
             [
              0.7529411764705882,
              "rgb(244,135,95)"
             ],
             [
              0.8156862745098039,
              "rgb(245,162,122)"
             ],
             [
              0.8784313725490196,
              "rgb(246,188,153)"
             ],
             [
              0.9411764705882353,
              "rgb(247,212,187)"
             ],
             [
              1,
              "rgb(250,234,220)"
             ]
            ],
            "type": "heatmapgl"
           }
          ],
          "histogram": [
           {
            "marker": {
             "pattern": {
              "fillmode": "overlay",
              "size": 10,
              "solidity": 0.2
             }
            },
            "type": "histogram"
           }
          ],
          "histogram2d": [
           {
            "colorbar": {
             "outlinewidth": 0,
             "tickcolor": "rgb(36,36,36)",
             "ticklen": 8,
             "ticks": "outside",
             "tickwidth": 2
            },
            "colorscale": [
             [
              0,
              "rgb(2,4,25)"
             ],
             [
              0.06274509803921569,
              "rgb(24,15,41)"
             ],
             [
              0.12549019607843137,
              "rgb(47,23,57)"
             ],
             [
              0.18823529411764706,
              "rgb(71,28,72)"
             ],
             [
              0.25098039215686274,
              "rgb(97,30,82)"
             ],
             [
              0.3137254901960784,
              "rgb(123,30,89)"
             ],
             [
              0.3764705882352941,
              "rgb(150,27,91)"
             ],
             [
              0.4392156862745098,
              "rgb(177,22,88)"
             ],
             [
              0.5019607843137255,
              "rgb(203,26,79)"
             ],
             [
              0.5647058823529412,
              "rgb(223,47,67)"
             ],
             [
              0.6274509803921569,
              "rgb(236,76,61)"
             ],
             [
              0.6901960784313725,
              "rgb(242,107,73)"
             ],
             [
              0.7529411764705882,
              "rgb(244,135,95)"
             ],
             [
              0.8156862745098039,
              "rgb(245,162,122)"
             ],
             [
              0.8784313725490196,
              "rgb(246,188,153)"
             ],
             [
              0.9411764705882353,
              "rgb(247,212,187)"
             ],
             [
              1,
              "rgb(250,234,220)"
             ]
            ],
            "type": "histogram2d"
           }
          ],
          "histogram2dcontour": [
           {
            "colorbar": {
             "outlinewidth": 0,
             "tickcolor": "rgb(36,36,36)",
             "ticklen": 8,
             "ticks": "outside",
             "tickwidth": 2
            },
            "colorscale": [
             [
              0,
              "rgb(2,4,25)"
             ],
             [
              0.06274509803921569,
              "rgb(24,15,41)"
             ],
             [
              0.12549019607843137,
              "rgb(47,23,57)"
             ],
             [
              0.18823529411764706,
              "rgb(71,28,72)"
             ],
             [
              0.25098039215686274,
              "rgb(97,30,82)"
             ],
             [
              0.3137254901960784,
              "rgb(123,30,89)"
             ],
             [
              0.3764705882352941,
              "rgb(150,27,91)"
             ],
             [
              0.4392156862745098,
              "rgb(177,22,88)"
             ],
             [
              0.5019607843137255,
              "rgb(203,26,79)"
             ],
             [
              0.5647058823529412,
              "rgb(223,47,67)"
             ],
             [
              0.6274509803921569,
              "rgb(236,76,61)"
             ],
             [
              0.6901960784313725,
              "rgb(242,107,73)"
             ],
             [
              0.7529411764705882,
              "rgb(244,135,95)"
             ],
             [
              0.8156862745098039,
              "rgb(245,162,122)"
             ],
             [
              0.8784313725490196,
              "rgb(246,188,153)"
             ],
             [
              0.9411764705882353,
              "rgb(247,212,187)"
             ],
             [
              1,
              "rgb(250,234,220)"
             ]
            ],
            "type": "histogram2dcontour"
           }
          ],
          "mesh3d": [
           {
            "colorbar": {
             "outlinewidth": 0,
             "tickcolor": "rgb(36,36,36)",
             "ticklen": 8,
             "ticks": "outside",
             "tickwidth": 2
            },
            "type": "mesh3d"
           }
          ],
          "parcoords": [
           {
            "line": {
             "colorbar": {
              "outlinewidth": 0,
              "tickcolor": "rgb(36,36,36)",
              "ticklen": 8,
              "ticks": "outside",
              "tickwidth": 2
             }
            },
            "type": "parcoords"
           }
          ],
          "pie": [
           {
            "automargin": true,
            "type": "pie"
           }
          ],
          "scatter": [
           {
            "fillpattern": {
             "fillmode": "overlay",
             "size": 10,
             "solidity": 0.2
            },
            "type": "scatter"
           }
          ],
          "scatter3d": [
           {
            "line": {
             "colorbar": {
              "outlinewidth": 0,
              "tickcolor": "rgb(36,36,36)",
              "ticklen": 8,
              "ticks": "outside",
              "tickwidth": 2
             }
            },
            "marker": {
             "colorbar": {
              "outlinewidth": 0,
              "tickcolor": "rgb(36,36,36)",
              "ticklen": 8,
              "ticks": "outside",
              "tickwidth": 2
             }
            },
            "type": "scatter3d"
           }
          ],
          "scattercarpet": [
           {
            "marker": {
             "colorbar": {
              "outlinewidth": 0,
              "tickcolor": "rgb(36,36,36)",
              "ticklen": 8,
              "ticks": "outside",
              "tickwidth": 2
             }
            },
            "type": "scattercarpet"
           }
          ],
          "scattergeo": [
           {
            "marker": {
             "colorbar": {
              "outlinewidth": 0,
              "tickcolor": "rgb(36,36,36)",
              "ticklen": 8,
              "ticks": "outside",
              "tickwidth": 2
             }
            },
            "type": "scattergeo"
           }
          ],
          "scattergl": [
           {
            "marker": {
             "colorbar": {
              "outlinewidth": 0,
              "tickcolor": "rgb(36,36,36)",
              "ticklen": 8,
              "ticks": "outside",
              "tickwidth": 2
             }
            },
            "type": "scattergl"
           }
          ],
          "scattermapbox": [
           {
            "marker": {
             "colorbar": {
              "outlinewidth": 0,
              "tickcolor": "rgb(36,36,36)",
              "ticklen": 8,
              "ticks": "outside",
              "tickwidth": 2
             }
            },
            "type": "scattermapbox"
           }
          ],
          "scatterpolar": [
           {
            "marker": {
             "colorbar": {
              "outlinewidth": 0,
              "tickcolor": "rgb(36,36,36)",
              "ticklen": 8,
              "ticks": "outside",
              "tickwidth": 2
             }
            },
            "type": "scatterpolar"
           }
          ],
          "scatterpolargl": [
           {
            "marker": {
             "colorbar": {
              "outlinewidth": 0,
              "tickcolor": "rgb(36,36,36)",
              "ticklen": 8,
              "ticks": "outside",
              "tickwidth": 2
             }
            },
            "type": "scatterpolargl"
           }
          ],
          "scatterternary": [
           {
            "marker": {
             "colorbar": {
              "outlinewidth": 0,
              "tickcolor": "rgb(36,36,36)",
              "ticklen": 8,
              "ticks": "outside",
              "tickwidth": 2
             }
            },
            "type": "scatterternary"
           }
          ],
          "surface": [
           {
            "colorbar": {
             "outlinewidth": 0,
             "tickcolor": "rgb(36,36,36)",
             "ticklen": 8,
             "ticks": "outside",
             "tickwidth": 2
            },
            "colorscale": [
             [
              0,
              "rgb(2,4,25)"
             ],
             [
              0.06274509803921569,
              "rgb(24,15,41)"
             ],
             [
              0.12549019607843137,
              "rgb(47,23,57)"
             ],
             [
              0.18823529411764706,
              "rgb(71,28,72)"
             ],
             [
              0.25098039215686274,
              "rgb(97,30,82)"
             ],
             [
              0.3137254901960784,
              "rgb(123,30,89)"
             ],
             [
              0.3764705882352941,
              "rgb(150,27,91)"
             ],
             [
              0.4392156862745098,
              "rgb(177,22,88)"
             ],
             [
              0.5019607843137255,
              "rgb(203,26,79)"
             ],
             [
              0.5647058823529412,
              "rgb(223,47,67)"
             ],
             [
              0.6274509803921569,
              "rgb(236,76,61)"
             ],
             [
              0.6901960784313725,
              "rgb(242,107,73)"
             ],
             [
              0.7529411764705882,
              "rgb(244,135,95)"
             ],
             [
              0.8156862745098039,
              "rgb(245,162,122)"
             ],
             [
              0.8784313725490196,
              "rgb(246,188,153)"
             ],
             [
              0.9411764705882353,
              "rgb(247,212,187)"
             ],
             [
              1,
              "rgb(250,234,220)"
             ]
            ],
            "type": "surface"
           }
          ],
          "table": [
           {
            "cells": {
             "fill": {
              "color": "rgb(231,231,240)"
             },
             "line": {
              "color": "white"
             }
            },
            "header": {
             "fill": {
              "color": "rgb(183,183,191)"
             },
             "line": {
              "color": "white"
             }
            },
            "type": "table"
           }
          ]
         },
         "layout": {
          "annotationdefaults": {
           "arrowcolor": "rgb(67,103,167)"
          },
          "autotypenumbers": "strict",
          "coloraxis": {
           "colorbar": {
            "outlinewidth": 0,
            "tickcolor": "rgb(36,36,36)",
            "ticklen": 8,
            "ticks": "outside",
            "tickwidth": 2
           }
          },
          "colorscale": {
           "sequential": [
            [
             0,
             "rgb(2,4,25)"
            ],
            [
             0.06274509803921569,
             "rgb(24,15,41)"
            ],
            [
             0.12549019607843137,
             "rgb(47,23,57)"
            ],
            [
             0.18823529411764706,
             "rgb(71,28,72)"
            ],
            [
             0.25098039215686274,
             "rgb(97,30,82)"
            ],
            [
             0.3137254901960784,
             "rgb(123,30,89)"
            ],
            [
             0.3764705882352941,
             "rgb(150,27,91)"
            ],
            [
             0.4392156862745098,
             "rgb(177,22,88)"
            ],
            [
             0.5019607843137255,
             "rgb(203,26,79)"
            ],
            [
             0.5647058823529412,
             "rgb(223,47,67)"
            ],
            [
             0.6274509803921569,
             "rgb(236,76,61)"
            ],
            [
             0.6901960784313725,
             "rgb(242,107,73)"
            ],
            [
             0.7529411764705882,
             "rgb(244,135,95)"
            ],
            [
             0.8156862745098039,
             "rgb(245,162,122)"
            ],
            [
             0.8784313725490196,
             "rgb(246,188,153)"
            ],
            [
             0.9411764705882353,
             "rgb(247,212,187)"
            ],
            [
             1,
             "rgb(250,234,220)"
            ]
           ],
           "sequentialminus": [
            [
             0,
             "rgb(2,4,25)"
            ],
            [
             0.06274509803921569,
             "rgb(24,15,41)"
            ],
            [
             0.12549019607843137,
             "rgb(47,23,57)"
            ],
            [
             0.18823529411764706,
             "rgb(71,28,72)"
            ],
            [
             0.25098039215686274,
             "rgb(97,30,82)"
            ],
            [
             0.3137254901960784,
             "rgb(123,30,89)"
            ],
            [
             0.3764705882352941,
             "rgb(150,27,91)"
            ],
            [
             0.4392156862745098,
             "rgb(177,22,88)"
            ],
            [
             0.5019607843137255,
             "rgb(203,26,79)"
            ],
            [
             0.5647058823529412,
             "rgb(223,47,67)"
            ],
            [
             0.6274509803921569,
             "rgb(236,76,61)"
            ],
            [
             0.6901960784313725,
             "rgb(242,107,73)"
            ],
            [
             0.7529411764705882,
             "rgb(244,135,95)"
            ],
            [
             0.8156862745098039,
             "rgb(245,162,122)"
            ],
            [
             0.8784313725490196,
             "rgb(246,188,153)"
            ],
            [
             0.9411764705882353,
             "rgb(247,212,187)"
            ],
            [
             1,
             "rgb(250,234,220)"
            ]
           ]
          },
          "colorway": [
           "rgb(76,114,176)",
           "rgb(221,132,82)",
           "rgb(85,168,104)",
           "rgb(196,78,82)",
           "rgb(129,114,179)",
           "rgb(147,120,96)",
           "rgb(218,139,195)",
           "rgb(140,140,140)",
           "rgb(204,185,116)",
           "rgb(100,181,205)"
          ],
          "font": {
           "color": "rgb(36,36,36)"
          },
          "geo": {
           "bgcolor": "white",
           "lakecolor": "white",
           "landcolor": "rgb(234,234,242)",
           "showlakes": true,
           "showland": true,
           "subunitcolor": "white"
          },
          "hoverlabel": {
           "align": "left"
          },
          "hovermode": "closest",
          "paper_bgcolor": "white",
          "plot_bgcolor": "rgb(234,234,242)",
          "polar": {
           "angularaxis": {
            "gridcolor": "white",
            "linecolor": "white",
            "showgrid": true,
            "ticks": ""
           },
           "bgcolor": "rgb(234,234,242)",
           "radialaxis": {
            "gridcolor": "white",
            "linecolor": "white",
            "showgrid": true,
            "ticks": ""
           }
          },
          "scene": {
           "xaxis": {
            "backgroundcolor": "rgb(234,234,242)",
            "gridcolor": "white",
            "gridwidth": 2,
            "linecolor": "white",
            "showbackground": true,
            "showgrid": true,
            "ticks": "",
            "zerolinecolor": "white"
           },
           "yaxis": {
            "backgroundcolor": "rgb(234,234,242)",
            "gridcolor": "white",
            "gridwidth": 2,
            "linecolor": "white",
            "showbackground": true,
            "showgrid": true,
            "ticks": "",
            "zerolinecolor": "white"
           },
           "zaxis": {
            "backgroundcolor": "rgb(234,234,242)",
            "gridcolor": "white",
            "gridwidth": 2,
            "linecolor": "white",
            "showbackground": true,
            "showgrid": true,
            "ticks": "",
            "zerolinecolor": "white"
           }
          },
          "shapedefaults": {
           "fillcolor": "rgb(67,103,167)",
           "line": {
            "width": 0
           },
           "opacity": 0.5
          },
          "ternary": {
           "aaxis": {
            "gridcolor": "white",
            "linecolor": "white",
            "showgrid": true,
            "ticks": ""
           },
           "baxis": {
            "gridcolor": "white",
            "linecolor": "white",
            "showgrid": true,
            "ticks": ""
           },
           "bgcolor": "rgb(234,234,242)",
           "caxis": {
            "gridcolor": "white",
            "linecolor": "white",
            "showgrid": true,
            "ticks": ""
           }
          },
          "xaxis": {
           "automargin": true,
           "gridcolor": "white",
           "linecolor": "white",
           "showgrid": true,
           "ticks": "",
           "title": {
            "standoff": 15
           },
           "zerolinecolor": "white"
          },
          "yaxis": {
           "automargin": true,
           "gridcolor": "white",
           "linecolor": "white",
           "showgrid": true,
           "ticks": "",
           "title": {
            "standoff": 15
           },
           "zerolinecolor": "white"
          }
         }
        },
        "title": {
         "text": "Sorted by: total_loop_flow, ascending: True, head: 20"
        },
        "xaxis": {
         "anchor": "y",
         "domain": [
          0,
          1
         ],
         "title": {
          "text": "Flow decomposition value"
         }
        },
        "yaxis": {
         "anchor": "x",
         "domain": [
          0,
          1
         ],
         "title": {
          "text": "Branch id"
         }
        }
       }
      }
     },
     "metadata": {},
     "output_type": "display_data"
    }
   ],
   "source": [
    "flow_decomposition_bar_chart('total_loop_flow', ascending=True)"
   ]
  },
  {
   "cell_type": "code",
   "execution_count": 19,
   "metadata": {},
   "outputs": [
    {
     "data": {
      "application/vnd.plotly.v1+json": {
       "config": {
        "plotlyServerURL": "https://plot.ly"
       },
       "data": [
        {
         "alignmentgroup": "True",
         "hovertemplate": "Decomposition part:=commercial_flow<br>Flow decomposition value=%{x}<br>Branch id=%{y}<extra></extra>",
         "legendgroup": "commercial_flow",
         "marker": {
          "color": "#0DF9FF",
          "pattern": {
           "shape": ""
          }
         },
         "name": "commercial_flow",
         "offsetgroup": "commercial_flow",
         "orientation": "h",
         "showlegend": true,
         "textposition": "auto",
         "texttemplate": "%{x:.0f}",
         "type": "bar",
         "x": [
          null,
          null,
          null,
          null,
          null,
          null,
          null,
          null,
          null,
          null,
          null,
          null,
          null,
          null,
          null,
          null,
          null,
          null,
          null,
          null
         ],
         "xaxis": "x",
         "y": [
          "L191-192-1",
          "L4-16-1",
          "L133-171-1",
          "L133-137-1",
          "L119-120-1",
          "L225-191-1",
          "L181-187-1",
          "L118-119-1",
          "L162-165-1",
          "L165-166-1",
          "L42-46-1",
          "L231-232-1",
          "L188-138-1",
          "L119-121-1",
          "L190-231-1",
          "L39-42-1",
          "L117-118-1",
          "L187-188-1",
          "L181-138-1",
          "L125-126-1"
         ],
         "yaxis": "y"
        },
        {
         "alignmentgroup": "True",
         "hovertemplate": "Decomposition part:=pst_flow<br>Flow decomposition value=%{x}<br>Branch id=%{y}<extra></extra>",
         "legendgroup": "pst_flow",
         "marker": {
          "color": "#AF0038",
          "pattern": {
           "shape": ""
          }
         },
         "name": "pst_flow",
         "offsetgroup": "pst_flow",
         "orientation": "h",
         "showlegend": true,
         "textposition": "auto",
         "texttemplate": "%{x:.0f}",
         "type": "bar",
         "x": [
          null,
          null,
          null,
          null,
          null,
          null,
          null,
          null,
          null,
          null,
          null,
          null,
          null,
          null,
          null,
          null,
          null,
          null,
          null,
          null
         ],
         "xaxis": "x",
         "y": [
          "L191-192-1",
          "L4-16-1",
          "L133-171-1",
          "L133-137-1",
          "L119-120-1",
          "L225-191-1",
          "L181-187-1",
          "L118-119-1",
          "L162-165-1",
          "L165-166-1",
          "L42-46-1",
          "L231-232-1",
          "L188-138-1",
          "L119-121-1",
          "L190-231-1",
          "L39-42-1",
          "L117-118-1",
          "L187-188-1",
          "L181-138-1",
          "L125-126-1"
         ],
         "yaxis": "y"
        },
        {
         "alignmentgroup": "True",
         "hovertemplate": "Decomposition part:=loop_flow_from_ag<br>Flow decomposition value=%{x}<br>Branch id=%{y}<extra></extra>",
         "legendgroup": "loop_flow_from_ag",
         "marker": {
          "color": "#FD3216",
          "pattern": {
           "shape": ""
          }
         },
         "name": "loop_flow_from_ag",
         "offsetgroup": "loop_flow_from_ag",
         "orientation": "h",
         "showlegend": true,
         "textposition": "auto",
         "texttemplate": "%{x:.0f}",
         "type": "bar",
         "x": [
          61.01694915254252,
          575.5911688327742,
          null,
          790.8917255529136,
          null,
          -61.016949152542246,
          568.3629121708346,
          null,
          null,
          null,
          538.0538621863842,
          448.5434656817499,
          null,
          null,
          null,
          null,
          null,
          571.8370878291647,
          null,
          null
         ],
         "xaxis": "x",
         "y": [
          "L191-192-1",
          "L4-16-1",
          "L133-171-1",
          "L133-137-1",
          "L119-120-1",
          "L225-191-1",
          "L181-187-1",
          "L118-119-1",
          "L162-165-1",
          "L165-166-1",
          "L42-46-1",
          "L231-232-1",
          "L188-138-1",
          "L119-121-1",
          "L190-231-1",
          "L39-42-1",
          "L117-118-1",
          "L187-188-1",
          "L181-138-1",
          "L125-126-1"
         ],
         "yaxis": "y"
        },
        {
         "alignmentgroup": "True",
         "hovertemplate": "Decomposition part:=loop_flow_from_az<br>Flow decomposition value=%{x}<br>Branch id=%{y}<extra></extra>",
         "legendgroup": "loop_flow_from_az",
         "marker": {
          "color": "#00A08B",
          "pattern": {
           "shape": ""
          }
         },
         "name": "loop_flow_from_az",
         "offsetgroup": "loop_flow_from_az",
         "orientation": "h",
         "showlegend": true,
         "textposition": "auto",
         "texttemplate": "%{x:.0f}",
         "type": "bar",
         "x": [
          null,
          752.4359517579494,
          null,
          -560.9716882662815,
          null,
          null,
          null,
          null,
          null,
          null,
          668.9274545014225,
          null,
          null,
          null,
          null,
          null,
          null,
          null,
          null,
          null
         ],
         "xaxis": "x",
         "y": [
          "L191-192-1",
          "L4-16-1",
          "L133-171-1",
          "L133-137-1",
          "L119-120-1",
          "L225-191-1",
          "L181-187-1",
          "L118-119-1",
          "L162-165-1",
          "L165-166-1",
          "L42-46-1",
          "L231-232-1",
          "L188-138-1",
          "L119-121-1",
          "L190-231-1",
          "L39-42-1",
          "L117-118-1",
          "L187-188-1",
          "L181-138-1",
          "L125-126-1"
         ],
         "yaxis": "y"
        },
        {
         "alignmentgroup": "True",
         "hovertemplate": "Decomposition part:=loop_flow_from_be<br>Flow decomposition value=%{x}<br>Branch id=%{y}<extra></extra>",
         "legendgroup": "loop_flow_from_be",
         "marker": {
          "color": "#6C4516",
          "pattern": {
           "shape": ""
          }
         },
         "name": "loop_flow_from_be",
         "offsetgroup": "loop_flow_from_be",
         "orientation": "h",
         "showlegend": true,
         "textposition": "auto",
         "texttemplate": "%{x:.0f}",
         "type": "bar",
         "x": [
          null,
          null,
          null,
          499.7928087735151,
          -61.498127860267616,
          null,
          null,
          -127.98245757142554,
          537.7390889504471,
          537.739088950447,
          -296.37505866518586,
          null,
          null,
          189.48058543169208,
          441.9165365534716,
          null,
          -183.32222478424552,
          null,
          null,
          153.36965739340016
         ],
         "xaxis": "x",
         "y": [
          "L191-192-1",
          "L4-16-1",
          "L133-171-1",
          "L133-137-1",
          "L119-120-1",
          "L225-191-1",
          "L181-187-1",
          "L118-119-1",
          "L162-165-1",
          "L165-166-1",
          "L42-46-1",
          "L231-232-1",
          "L188-138-1",
          "L119-121-1",
          "L190-231-1",
          "L39-42-1",
          "L117-118-1",
          "L187-188-1",
          "L181-138-1",
          "L125-126-1"
         ],
         "yaxis": "y"
        },
        {
         "alignmentgroup": "True",
         "hovertemplate": "Decomposition part:=loop_flow_from_cd<br>Flow decomposition value=%{x}<br>Branch id=%{y}<extra></extra>",
         "legendgroup": "loop_flow_from_cd",
         "marker": {
          "color": "#511CFB",
          "pattern": {
           "shape": ""
          }
         },
         "name": "loop_flow_from_cd",
         "offsetgroup": "loop_flow_from_cd",
         "orientation": "h",
         "showlegend": true,
         "textposition": "auto",
         "texttemplate": "%{x:.0f}",
         "type": "bar",
         "x": [
          null,
          -295.70438340521196,
          null,
          null,
          null,
          null,
          null,
          null,
          null,
          null,
          null,
          81.59639273622567,
          null,
          null,
          null,
          null,
          null,
          null,
          null,
          462.41239527472555
         ],
         "xaxis": "x",
         "y": [
          "L191-192-1",
          "L4-16-1",
          "L133-171-1",
          "L133-137-1",
          "L119-120-1",
          "L225-191-1",
          "L181-187-1",
          "L118-119-1",
          "L162-165-1",
          "L165-166-1",
          "L42-46-1",
          "L231-232-1",
          "L188-138-1",
          "L119-121-1",
          "L190-231-1",
          "L39-42-1",
          "L117-118-1",
          "L187-188-1",
          "L181-138-1",
          "L125-126-1"
         ],
         "yaxis": "y"
        },
        {
         "alignmentgroup": "True",
         "hovertemplate": "Decomposition part:=loop_flow_from_cl<br>Flow decomposition value=%{x}<br>Branch id=%{y}<extra></extra>",
         "legendgroup": "loop_flow_from_cl",
         "marker": {
          "color": "#F6F926",
          "pattern": {
           "shape": ""
          }
         },
         "name": "loop_flow_from_cl",
         "offsetgroup": "loop_flow_from_cl",
         "orientation": "h",
         "showlegend": true,
         "textposition": "auto",
         "texttemplate": "%{x:.0f}",
         "type": "bar",
         "x": [
          null,
          null,
          null,
          945.5413846207987,
          null,
          null,
          62.27918798502805,
          null,
          null,
          null,
          null,
          null,
          null,
          null,
          null,
          null,
          null,
          -62.27918798502782,
          null,
          null
         ],
         "xaxis": "x",
         "y": [
          "L191-192-1",
          "L4-16-1",
          "L133-171-1",
          "L133-137-1",
          "L119-120-1",
          "L225-191-1",
          "L181-187-1",
          "L118-119-1",
          "L162-165-1",
          "L165-166-1",
          "L42-46-1",
          "L231-232-1",
          "L188-138-1",
          "L119-121-1",
          "L190-231-1",
          "L39-42-1",
          "L117-118-1",
          "L187-188-1",
          "L181-138-1",
          "L125-126-1"
         ],
         "yaxis": "y"
        },
        {
         "alignmentgroup": "True",
         "hovertemplate": "Decomposition part:=loop_flow_from_dz<br>Flow decomposition value=%{x}<br>Branch id=%{y}<extra></extra>",
         "legendgroup": "loop_flow_from_dz",
         "marker": {
          "color": "#C9FBE5",
          "pattern": {
           "shape": ""
          }
         },
         "name": "loop_flow_from_dz",
         "offsetgroup": "loop_flow_from_dz",
         "orientation": "h",
         "showlegend": true,
         "textposition": "auto",
         "texttemplate": "%{x:.0f}",
         "type": "bar",
         "x": [
          null,
          503.1628956823751,
          null,
          null,
          null,
          null,
          null,
          null,
          null,
          null,
          451.63786238320915,
          null,
          null,
          null,
          null,
          null,
          null,
          null,
          null,
          null
         ],
         "xaxis": "x",
         "y": [
          "L191-192-1",
          "L4-16-1",
          "L133-171-1",
          "L133-137-1",
          "L119-120-1",
          "L225-191-1",
          "L181-187-1",
          "L118-119-1",
          "L162-165-1",
          "L165-166-1",
          "L42-46-1",
          "L231-232-1",
          "L188-138-1",
          "L119-121-1",
          "L190-231-1",
          "L39-42-1",
          "L117-118-1",
          "L187-188-1",
          "L181-138-1",
          "L125-126-1"
         ],
         "yaxis": "y"
        },
        {
         "alignmentgroup": "True",
         "hovertemplate": "Decomposition part:=loop_flow_from_es<br>Flow decomposition value=%{x}<br>Branch id=%{y}<extra></extra>",
         "legendgroup": "loop_flow_from_es",
         "marker": {
          "color": "#FC0080",
          "pattern": {
           "shape": ""
          }
         },
         "name": "loop_flow_from_es",
         "offsetgroup": "loop_flow_from_es",
         "orientation": "h",
         "showlegend": true,
         "textposition": "auto",
         "texttemplate": "%{x:.0f}",
         "type": "bar",
         "x": [
          null,
          null,
          null,
          null,
          null,
          null,
          null,
          null,
          null,
          null,
          250.56676073210014,
          null,
          null,
          null,
          null,
          null,
          null,
          null,
          null,
          null
         ],
         "xaxis": "x",
         "y": [
          "L191-192-1",
          "L4-16-1",
          "L133-171-1",
          "L133-137-1",
          "L119-120-1",
          "L225-191-1",
          "L181-187-1",
          "L118-119-1",
          "L162-165-1",
          "L165-166-1",
          "L42-46-1",
          "L231-232-1",
          "L188-138-1",
          "L119-121-1",
          "L190-231-1",
          "L39-42-1",
          "L117-118-1",
          "L187-188-1",
          "L181-138-1",
          "L125-126-1"
         ],
         "yaxis": "y"
        },
        {
         "alignmentgroup": "True",
         "hovertemplate": "Decomposition part:=loop_flow_from_gr<br>Flow decomposition value=%{x}<br>Branch id=%{y}<extra></extra>",
         "legendgroup": "loop_flow_from_gr",
         "marker": {
          "color": "#FB0D0D",
          "pattern": {
           "shape": ""
          }
         },
         "name": "loop_flow_from_gr",
         "offsetgroup": "loop_flow_from_gr",
         "orientation": "h",
         "showlegend": true,
         "textposition": "auto",
         "texttemplate": "%{x:.0f}",
         "type": "bar",
         "x": [
          null,
          -329.65926260006455,
          null,
          -613.448014611795,
          null,
          null,
          null,
          null,
          null,
          null,
          null,
          null,
          500.9117031308574,
          null,
          null,
          null,
          null,
          null,
          494.06714574572027,
          null
         ],
         "xaxis": "x",
         "y": [
          "L191-192-1",
          "L4-16-1",
          "L133-171-1",
          "L133-137-1",
          "L119-120-1",
          "L225-191-1",
          "L181-187-1",
          "L118-119-1",
          "L162-165-1",
          "L165-166-1",
          "L42-46-1",
          "L231-232-1",
          "L188-138-1",
          "L119-121-1",
          "L190-231-1",
          "L39-42-1",
          "L117-118-1",
          "L187-188-1",
          "L181-138-1",
          "L125-126-1"
         ],
         "yaxis": "y"
        },
        {
         "alignmentgroup": "True",
         "hovertemplate": "Decomposition part:=loop_flow_from_gu<br>Flow decomposition value=%{x}<br>Branch id=%{y}<extra></extra>",
         "legendgroup": "loop_flow_from_gu",
         "marker": {
          "color": "#D626FF",
          "pattern": {
           "shape": ""
          }
         },
         "name": "loop_flow_from_gu",
         "offsetgroup": "loop_flow_from_gu",
         "orientation": "h",
         "showlegend": true,
         "textposition": "auto",
         "texttemplate": "%{x:.0f}",
         "type": "bar",
         "x": [
          null,
          null,
          null,
          null,
          null,
          null,
          null,
          null,
          null,
          null,
          null,
          null,
          null,
          null,
          null,
          null,
          null,
          null,
          null,
          null
         ],
         "xaxis": "x",
         "y": [
          "L191-192-1",
          "L4-16-1",
          "L133-171-1",
          "L133-137-1",
          "L119-120-1",
          "L225-191-1",
          "L181-187-1",
          "L118-119-1",
          "L162-165-1",
          "L165-166-1",
          "L42-46-1",
          "L231-232-1",
          "L188-138-1",
          "L119-121-1",
          "L190-231-1",
          "L39-42-1",
          "L117-118-1",
          "L187-188-1",
          "L181-138-1",
          "L125-126-1"
         ],
         "yaxis": "y"
        },
        {
         "alignmentgroup": "True",
         "hovertemplate": "Decomposition part:=loop_flow_from_hn<br>Flow decomposition value=%{x}<br>Branch id=%{y}<extra></extra>",
         "legendgroup": "loop_flow_from_hn",
         "marker": {
          "color": "#DA16FF",
          "pattern": {
           "shape": ""
          }
         },
         "name": "loop_flow_from_hn",
         "offsetgroup": "loop_flow_from_hn",
         "orientation": "h",
         "showlegend": true,
         "textposition": "auto",
         "texttemplate": "%{x:.0f}",
         "type": "bar",
         "x": [
          null,
          null,
          null,
          null,
          null,
          null,
          null,
          null,
          null,
          null,
          null,
          null,
          null,
          null,
          55.07378942220511,
          null,
          null,
          null,
          null,
          null
         ],
         "xaxis": "x",
         "y": [
          "L191-192-1",
          "L4-16-1",
          "L133-171-1",
          "L133-137-1",
          "L119-120-1",
          "L225-191-1",
          "L181-187-1",
          "L118-119-1",
          "L162-165-1",
          "L165-166-1",
          "L42-46-1",
          "L231-232-1",
          "L188-138-1",
          "L119-121-1",
          "L190-231-1",
          "L39-42-1",
          "L117-118-1",
          "L187-188-1",
          "L181-138-1",
          "L125-126-1"
         ],
         "yaxis": "y"
        },
        {
         "alignmentgroup": "True",
         "hovertemplate": "Decomposition part:=loop_flow_from_id<br>Flow decomposition value=%{x}<br>Branch id=%{y}<extra></extra>",
         "legendgroup": "loop_flow_from_id",
         "marker": {
          "color": "#86CE00",
          "pattern": {
           "shape": ""
          }
         },
         "name": "loop_flow_from_id",
         "offsetgroup": "loop_flow_from_id",
         "orientation": "h",
         "showlegend": true,
         "textposition": "auto",
         "texttemplate": "%{x:.0f}",
         "type": "bar",
         "x": [
          null,
          364.6725331302353,
          763.6000000000001,
          null,
          377.31964858780685,
          null,
          null,
          996.7504943494172,
          null,
          null,
          254.02423152392294,
          null,
          null,
          455.6198570627785,
          null,
          null,
          1056.1156236622382,
          null,
          null,
          -482.9872963418541
         ],
         "xaxis": "x",
         "y": [
          "L191-192-1",
          "L4-16-1",
          "L133-171-1",
          "L133-137-1",
          "L119-120-1",
          "L225-191-1",
          "L181-187-1",
          "L118-119-1",
          "L162-165-1",
          "L165-166-1",
          "L42-46-1",
          "L231-232-1",
          "L188-138-1",
          "L119-121-1",
          "L190-231-1",
          "L39-42-1",
          "L117-118-1",
          "L187-188-1",
          "L181-138-1",
          "L125-126-1"
         ],
         "yaxis": "y"
        },
        {
         "alignmentgroup": "True",
         "hovertemplate": "Decomposition part:=loop_flow_from_iq<br>Flow decomposition value=%{x}<br>Branch id=%{y}<extra></extra>",
         "legendgroup": "loop_flow_from_iq",
         "marker": {
          "color": "#6A76FC",
          "pattern": {
           "shape": ""
          }
         },
         "name": "loop_flow_from_iq",
         "offsetgroup": "loop_flow_from_iq",
         "orientation": "h",
         "showlegend": true,
         "textposition": "auto",
         "texttemplate": "%{x:.0f}",
         "type": "bar",
         "x": [
          null,
          null,
          null,
          null,
          null,
          null,
          null,
          null,
          null,
          null,
          null,
          null,
          null,
          null,
          null,
          null,
          null,
          null,
          null,
          null
         ],
         "xaxis": "x",
         "y": [
          "L191-192-1",
          "L4-16-1",
          "L133-171-1",
          "L133-137-1",
          "L119-120-1",
          "L225-191-1",
          "L181-187-1",
          "L118-119-1",
          "L162-165-1",
          "L165-166-1",
          "L42-46-1",
          "L231-232-1",
          "L188-138-1",
          "L119-121-1",
          "L190-231-1",
          "L39-42-1",
          "L117-118-1",
          "L187-188-1",
          "L181-138-1",
          "L125-126-1"
         ],
         "yaxis": "y"
        },
        {
         "alignmentgroup": "True",
         "hovertemplate": "Decomposition part:=loop_flow_from_jo<br>Flow decomposition value=%{x}<br>Branch id=%{y}<extra></extra>",
         "legendgroup": "loop_flow_from_jo",
         "marker": {
          "color": "#FB00D1",
          "pattern": {
           "shape": ""
          }
         },
         "name": "loop_flow_from_jo",
         "offsetgroup": "loop_flow_from_jo",
         "orientation": "h",
         "showlegend": true,
         "textposition": "auto",
         "texttemplate": "%{x:.0f}",
         "type": "bar",
         "x": [
          null,
          -326.2044688719158,
          null,
          null,
          399.74727518527635,
          null,
          null,
          -264.2566851944778,
          null,
          null,
          -297.41080436651373,
          null,
          null,
          -135.49058999079986,
          null,
          null,
          -345.765773589599,
          null,
          null,
          185.86178572425632
         ],
         "xaxis": "x",
         "y": [
          "L191-192-1",
          "L4-16-1",
          "L133-171-1",
          "L133-137-1",
          "L119-120-1",
          "L225-191-1",
          "L181-187-1",
          "L118-119-1",
          "L162-165-1",
          "L165-166-1",
          "L42-46-1",
          "L231-232-1",
          "L188-138-1",
          "L119-121-1",
          "L190-231-1",
          "L39-42-1",
          "L117-118-1",
          "L187-188-1",
          "L181-138-1",
          "L125-126-1"
         ],
         "yaxis": "y"
        },
        {
         "alignmentgroup": "True",
         "hovertemplate": "Decomposition part:=loop_flow_from_ke<br>Flow decomposition value=%{x}<br>Branch id=%{y}<extra></extra>",
         "legendgroup": "loop_flow_from_ke",
         "marker": {
          "color": "#EEA6FB",
          "pattern": {
           "shape": ""
          }
         },
         "name": "loop_flow_from_ke",
         "offsetgroup": "loop_flow_from_ke",
         "orientation": "h",
         "showlegend": true,
         "textposition": "auto",
         "texttemplate": "%{x:.0f}",
         "type": "bar",
         "x": [
          767.1525423728809,
          -452.61597055945685,
          null,
          null,
          null,
          716.847457627118,
          null,
          null,
          null,
          null,
          -388.47348494211406,
          null,
          null,
          null,
          null,
          474.6018528778082,
          null,
          null,
          null,
          null
         ],
         "xaxis": "x",
         "y": [
          "L191-192-1",
          "L4-16-1",
          "L133-171-1",
          "L133-137-1",
          "L119-120-1",
          "L225-191-1",
          "L181-187-1",
          "L118-119-1",
          "L162-165-1",
          "L165-166-1",
          "L42-46-1",
          "L231-232-1",
          "L188-138-1",
          "L119-121-1",
          "L190-231-1",
          "L39-42-1",
          "L117-118-1",
          "L187-188-1",
          "L181-138-1",
          "L125-126-1"
         ],
         "yaxis": "y"
        },
        {
         "alignmentgroup": "True",
         "hovertemplate": "Decomposition part:=loop_flow_from_kg<br>Flow decomposition value=%{x}<br>Branch id=%{y}<extra></extra>",
         "legendgroup": "loop_flow_from_kg",
         "marker": {
          "color": "#FE00CE",
          "pattern": {
           "shape": ""
          }
         },
         "name": "loop_flow_from_kg",
         "offsetgroup": "loop_flow_from_kg",
         "orientation": "h",
         "showlegend": true,
         "textposition": "auto",
         "texttemplate": "%{x:.0f}",
         "type": "bar",
         "x": [
          null,
          300.1180046763854,
          null,
          -295.3020740553877,
          null,
          null,
          null,
          null,
          null,
          null,
          null,
          null,
          null,
          null,
          null,
          null,
          null,
          null,
          null,
          null
         ],
         "xaxis": "x",
         "y": [
          "L191-192-1",
          "L4-16-1",
          "L133-171-1",
          "L133-137-1",
          "L119-120-1",
          "L225-191-1",
          "L181-187-1",
          "L118-119-1",
          "L162-165-1",
          "L165-166-1",
          "L42-46-1",
          "L231-232-1",
          "L188-138-1",
          "L119-121-1",
          "L190-231-1",
          "L39-42-1",
          "L117-118-1",
          "L187-188-1",
          "L181-138-1",
          "L125-126-1"
         ],
         "yaxis": "y"
        },
        {
         "alignmentgroup": "True",
         "hovertemplate": "Decomposition part:=loop_flow_from_lv<br>Flow decomposition value=%{x}<br>Branch id=%{y}<extra></extra>",
         "legendgroup": "loop_flow_from_lv",
         "marker": {
          "color": "#22FFA7",
          "pattern": {
           "shape": ""
          }
         },
         "name": "loop_flow_from_lv",
         "offsetgroup": "loop_flow_from_lv",
         "orientation": "h",
         "showlegend": true,
         "textposition": "auto",
         "texttemplate": "%{x:.0f}",
         "type": "bar",
         "x": [
          null,
          null,
          null,
          null,
          null,
          null,
          null,
          null,
          null,
          null,
          null,
          null,
          null,
          null,
          null,
          null,
          null,
          null,
          null,
          null
         ],
         "xaxis": "x",
         "y": [
          "L191-192-1",
          "L4-16-1",
          "L133-171-1",
          "L133-137-1",
          "L119-120-1",
          "L225-191-1",
          "L181-187-1",
          "L118-119-1",
          "L162-165-1",
          "L165-166-1",
          "L42-46-1",
          "L231-232-1",
          "L188-138-1",
          "L119-121-1",
          "L190-231-1",
          "L39-42-1",
          "L117-118-1",
          "L187-188-1",
          "L181-138-1",
          "L125-126-1"
         ],
         "yaxis": "y"
        },
        {
         "alignmentgroup": "True",
         "hovertemplate": "Decomposition part:=loop_flow_from_om<br>Flow decomposition value=%{x}<br>Branch id=%{y}<extra></extra>",
         "legendgroup": "loop_flow_from_om",
         "marker": {
          "color": "#620042",
          "pattern": {
           "shape": ""
          }
         },
         "name": "loop_flow_from_om",
         "offsetgroup": "loop_flow_from_om",
         "orientation": "h",
         "showlegend": true,
         "textposition": "auto",
         "texttemplate": "%{x:.0f}",
         "type": "bar",
         "x": [
          null,
          -343.30058470497187,
          null,
          null,
          null,
          null,
          null,
          null,
          null,
          null,
          -302.3864408287049,
          null,
          null,
          null,
          null,
          null,
          null,
          null,
          null,
          90.63047289167719
         ],
         "xaxis": "x",
         "y": [
          "L191-192-1",
          "L4-16-1",
          "L133-171-1",
          "L133-137-1",
          "L119-120-1",
          "L225-191-1",
          "L181-187-1",
          "L118-119-1",
          "L162-165-1",
          "L165-166-1",
          "L42-46-1",
          "L231-232-1",
          "L188-138-1",
          "L119-121-1",
          "L190-231-1",
          "L39-42-1",
          "L117-118-1",
          "L187-188-1",
          "L181-138-1",
          "L125-126-1"
         ],
         "yaxis": "y"
        },
        {
         "alignmentgroup": "True",
         "hovertemplate": "Decomposition part:=loop_flow_from_pn<br>Flow decomposition value=%{x}<br>Branch id=%{y}<extra></extra>",
         "legendgroup": "loop_flow_from_pn",
         "marker": {
          "color": "#FF9616",
          "pattern": {
           "shape": ""
          }
         },
         "name": "loop_flow_from_pn",
         "offsetgroup": "loop_flow_from_pn",
         "orientation": "h",
         "showlegend": true,
         "textposition": "auto",
         "texttemplate": "%{x:.0f}",
         "type": "bar",
         "x": [
          null,
          null,
          null,
          null,
          null,
          null,
          null,
          null,
          null,
          null,
          null,
          null,
          null,
          null,
          null,
          null,
          null,
          null,
          null,
          null
         ],
         "xaxis": "x",
         "y": [
          "L191-192-1",
          "L4-16-1",
          "L133-171-1",
          "L133-137-1",
          "L119-120-1",
          "L225-191-1",
          "L181-187-1",
          "L118-119-1",
          "L162-165-1",
          "L165-166-1",
          "L42-46-1",
          "L231-232-1",
          "L188-138-1",
          "L119-121-1",
          "L190-231-1",
          "L39-42-1",
          "L117-118-1",
          "L187-188-1",
          "L181-138-1",
          "L125-126-1"
         ],
         "yaxis": "y"
        },
        {
         "alignmentgroup": "True",
         "hovertemplate": "Decomposition part:=loop_flow_from_rs<br>Flow decomposition value=%{x}<br>Branch id=%{y}<extra></extra>",
         "legendgroup": "loop_flow_from_rs",
         "marker": {
          "color": "#FC6955",
          "pattern": {
           "shape": ""
          }
         },
         "name": "loop_flow_from_rs",
         "offsetgroup": "loop_flow_from_rs",
         "orientation": "h",
         "showlegend": true,
         "textposition": "auto",
         "texttemplate": "%{x:.0f}",
         "type": "bar",
         "x": [
          null,
          null,
          null,
          null,
          null,
          null,
          null,
          null,
          null,
          null,
          null,
          null,
          null,
          null,
          null,
          null,
          null,
          null,
          null,
          null
         ],
         "xaxis": "x",
         "y": [
          "L191-192-1",
          "L4-16-1",
          "L133-171-1",
          "L133-137-1",
          "L119-120-1",
          "L225-191-1",
          "L181-187-1",
          "L118-119-1",
          "L162-165-1",
          "L165-166-1",
          "L42-46-1",
          "L231-232-1",
          "L188-138-1",
          "L119-121-1",
          "L190-231-1",
          "L39-42-1",
          "L117-118-1",
          "L187-188-1",
          "L181-138-1",
          "L125-126-1"
         ],
         "yaxis": "y"
        },
        {
         "alignmentgroup": "True",
         "hovertemplate": "Decomposition part:=loop_flow_from_rw<br>Flow decomposition value=%{x}<br>Branch id=%{y}<extra></extra>",
         "legendgroup": "loop_flow_from_rw",
         "marker": {
          "color": "#479B55",
          "pattern": {
           "shape": ""
          }
         },
         "name": "loop_flow_from_rw",
         "offsetgroup": "loop_flow_from_rw",
         "orientation": "h",
         "showlegend": true,
         "textposition": "auto",
         "texttemplate": "%{x:.0f}",
         "type": "bar",
         "x": [
          null,
          null,
          null,
          null,
          null,
          null,
          null,
          null,
          null,
          null,
          null,
          null,
          null,
          null,
          null,
          null,
          null,
          null,
          null,
          null
         ],
         "xaxis": "x",
         "y": [
          "L191-192-1",
          "L4-16-1",
          "L133-171-1",
          "L133-137-1",
          "L119-120-1",
          "L225-191-1",
          "L181-187-1",
          "L118-119-1",
          "L162-165-1",
          "L165-166-1",
          "L42-46-1",
          "L231-232-1",
          "L188-138-1",
          "L119-121-1",
          "L190-231-1",
          "L39-42-1",
          "L117-118-1",
          "L187-188-1",
          "L181-138-1",
          "L125-126-1"
         ],
         "yaxis": "y"
        },
        {
         "alignmentgroup": "True",
         "hovertemplate": "Decomposition part:=masked_flows_positive<br>Flow decomposition value=%{x}<br>Branch id=%{y}<extra></extra>",
         "legendgroup": "masked_flows_positive",
         "marker": {
          "color": "#6E899C",
          "pattern": {
           "shape": ""
          }
         },
         "name": "masked_flows_positive",
         "offsetgroup": "masked_flows_positive",
         "orientation": "h",
         "showlegend": true,
         "textposition": "auto",
         "texttemplate": "%{x:.0f}",
         "type": "bar",
         "x": [
          0,
          422.24074641387404,
          0,
          820.709137564038,
          30.85865443647981,
          0,
          18.85755852265723,
          14.705020879808686,
          128.93227762388412,
          128.93227762388406,
          454.1764918900632,
          128.38881194213292,
          90.90008850128741,
          35.27191905841648,
          181.24549488674987,
          128.93227762388383,
          16.229439269214616,
          0.8049660286052224,
          64.96005228866855,
          95.85088084620371
         ],
         "xaxis": "x",
         "y": [
          "L191-192-1",
          "L4-16-1",
          "L133-171-1",
          "L133-137-1",
          "L119-120-1",
          "L225-191-1",
          "L181-187-1",
          "L118-119-1",
          "L162-165-1",
          "L165-166-1",
          "L42-46-1",
          "L231-232-1",
          "L188-138-1",
          "L119-121-1",
          "L190-231-1",
          "L39-42-1",
          "L117-118-1",
          "L187-188-1",
          "L181-138-1",
          "L125-126-1"
         ],
         "yaxis": "y"
        },
        {
         "alignmentgroup": "True",
         "hovertemplate": "Decomposition part:=masked_flows_negative<br>Flow decomposition value=%{x}<br>Branch id=%{y}<extra></extra>",
         "legendgroup": "masked_flows_negative",
         "marker": {
          "color": "#00FE35",
          "pattern": {
           "shape": ""
          }
         },
         "name": "masked_flows_negative",
         "offsetgroup": "masked_flows_negative",
         "orientation": "h",
         "showlegend": true,
         "textposition": "auto",
         "texttemplate": "%{x:.0f}",
         "type": "bar",
         "x": [
          0,
          -393.2555721001894,
          0,
          -869.1647291488385,
          -40.614991849164134,
          0,
          -0.804966028604631,
          -27.42515866027962,
          -112.85698060941793,
          -112.85698060941854,
          -780.4994020678846,
          -107.34305632502486,
          -53.97491763975992,
          -12.795443865262438,
          -156.2811408356941,
          -102.71974453678,
          -48.776394079266765,
          -18.857558522657833,
          -78.47845799168567,
          -27.693076854115695
         ],
         "xaxis": "x",
         "y": [
          "L191-192-1",
          "L4-16-1",
          "L133-171-1",
          "L133-137-1",
          "L119-120-1",
          "L225-191-1",
          "L181-187-1",
          "L118-119-1",
          "L162-165-1",
          "L165-166-1",
          "L42-46-1",
          "L231-232-1",
          "L188-138-1",
          "L119-121-1",
          "L190-231-1",
          "L39-42-1",
          "L117-118-1",
          "L187-188-1",
          "L181-138-1",
          "L125-126-1"
         ],
         "yaxis": "y"
        },
        {
         "mode": "lines+markers",
         "name": "total_flow",
         "type": "scatter",
         "x": [
          828.1694915254235,
          777.4810582517831,
          763.6000000000001,
          718.0485504289626,
          705.8124585001312,
          655.8305084745758,
          648.6946926499153,
          591.7912138030429,
          553.8143859649133,
          553.8143859649123,
          552.2414723466989,
          551.1856140350834,
          537.8368739923849,
          532.0863276968247,
          521.9546800267324,
          500.8143859649121,
          494.4806704783416,
          491.50530735008437,
          480.5487400427031,
          477.4448189342932
         ],
         "y": [
          "L191-192-1",
          "L4-16-1",
          "L133-171-1",
          "L133-137-1",
          "L119-120-1",
          "L225-191-1",
          "L181-187-1",
          "L118-119-1",
          "L162-165-1",
          "L165-166-1",
          "L42-46-1",
          "L231-232-1",
          "L188-138-1",
          "L119-121-1",
          "L190-231-1",
          "L39-42-1",
          "L117-118-1",
          "L187-188-1",
          "L181-138-1",
          "L125-126-1"
         ]
        },
        {
         "mode": "lines+markers",
         "name": "total_loop_flow",
         "type": "scatter",
         "x": [
          828.1694915254235,
          777.4810582517831,
          763.6000000000001,
          718.0485504289626,
          705.8124585001312,
          655.8305084745758,
          648.6946926499153,
          591.7912138030429,
          553.8143859649133,
          553.8143859649123,
          552.2414723466989,
          551.1856140350834,
          537.8368739923849,
          532.0863276968247,
          521.9546800267324,
          500.8143859649121,
          494.4806704783416,
          491.50530735008437,
          480.5487400427031,
          477.4448189342932
         ],
         "y": [
          "L191-192-1",
          "L4-16-1",
          "L133-171-1",
          "L133-137-1",
          "L119-120-1",
          "L225-191-1",
          "L181-187-1",
          "L118-119-1",
          "L162-165-1",
          "L165-166-1",
          "L42-46-1",
          "L231-232-1",
          "L188-138-1",
          "L119-121-1",
          "L190-231-1",
          "L39-42-1",
          "L117-118-1",
          "L187-188-1",
          "L181-138-1",
          "L125-126-1"
         ]
        }
       ],
       "layout": {
        "barmode": "relative",
        "height": 1000,
        "legend": {
         "title": {
          "text": "Decomposition part:"
         },
         "tracegroupgap": 0
        },
        "template": {
         "data": {
          "bar": [
           {
            "error_x": {
             "color": "rgb(36,36,36)"
            },
            "error_y": {
             "color": "rgb(36,36,36)"
            },
            "marker": {
             "line": {
              "color": "rgb(234,234,242)",
              "width": 0.5
             },
             "pattern": {
              "fillmode": "overlay",
              "size": 10,
              "solidity": 0.2
             }
            },
            "type": "bar"
           }
          ],
          "barpolar": [
           {
            "marker": {
             "line": {
              "color": "rgb(234,234,242)",
              "width": 0.5
             },
             "pattern": {
              "fillmode": "overlay",
              "size": 10,
              "solidity": 0.2
             }
            },
            "type": "barpolar"
           }
          ],
          "carpet": [
           {
            "aaxis": {
             "endlinecolor": "rgb(36,36,36)",
             "gridcolor": "white",
             "linecolor": "white",
             "minorgridcolor": "white",
             "startlinecolor": "rgb(36,36,36)"
            },
            "baxis": {
             "endlinecolor": "rgb(36,36,36)",
             "gridcolor": "white",
             "linecolor": "white",
             "minorgridcolor": "white",
             "startlinecolor": "rgb(36,36,36)"
            },
            "type": "carpet"
           }
          ],
          "choropleth": [
           {
            "colorbar": {
             "outlinewidth": 0,
             "tickcolor": "rgb(36,36,36)",
             "ticklen": 8,
             "ticks": "outside",
             "tickwidth": 2
            },
            "type": "choropleth"
           }
          ],
          "contour": [
           {
            "colorbar": {
             "outlinewidth": 0,
             "tickcolor": "rgb(36,36,36)",
             "ticklen": 8,
             "ticks": "outside",
             "tickwidth": 2
            },
            "colorscale": [
             [
              0,
              "rgb(2,4,25)"
             ],
             [
              0.06274509803921569,
              "rgb(24,15,41)"
             ],
             [
              0.12549019607843137,
              "rgb(47,23,57)"
             ],
             [
              0.18823529411764706,
              "rgb(71,28,72)"
             ],
             [
              0.25098039215686274,
              "rgb(97,30,82)"
             ],
             [
              0.3137254901960784,
              "rgb(123,30,89)"
             ],
             [
              0.3764705882352941,
              "rgb(150,27,91)"
             ],
             [
              0.4392156862745098,
              "rgb(177,22,88)"
             ],
             [
              0.5019607843137255,
              "rgb(203,26,79)"
             ],
             [
              0.5647058823529412,
              "rgb(223,47,67)"
             ],
             [
              0.6274509803921569,
              "rgb(236,76,61)"
             ],
             [
              0.6901960784313725,
              "rgb(242,107,73)"
             ],
             [
              0.7529411764705882,
              "rgb(244,135,95)"
             ],
             [
              0.8156862745098039,
              "rgb(245,162,122)"
             ],
             [
              0.8784313725490196,
              "rgb(246,188,153)"
             ],
             [
              0.9411764705882353,
              "rgb(247,212,187)"
             ],
             [
              1,
              "rgb(250,234,220)"
             ]
            ],
            "type": "contour"
           }
          ],
          "contourcarpet": [
           {
            "colorbar": {
             "outlinewidth": 0,
             "tickcolor": "rgb(36,36,36)",
             "ticklen": 8,
             "ticks": "outside",
             "tickwidth": 2
            },
            "type": "contourcarpet"
           }
          ],
          "heatmap": [
           {
            "colorbar": {
             "outlinewidth": 0,
             "tickcolor": "rgb(36,36,36)",
             "ticklen": 8,
             "ticks": "outside",
             "tickwidth": 2
            },
            "colorscale": [
             [
              0,
              "rgb(2,4,25)"
             ],
             [
              0.06274509803921569,
              "rgb(24,15,41)"
             ],
             [
              0.12549019607843137,
              "rgb(47,23,57)"
             ],
             [
              0.18823529411764706,
              "rgb(71,28,72)"
             ],
             [
              0.25098039215686274,
              "rgb(97,30,82)"
             ],
             [
              0.3137254901960784,
              "rgb(123,30,89)"
             ],
             [
              0.3764705882352941,
              "rgb(150,27,91)"
             ],
             [
              0.4392156862745098,
              "rgb(177,22,88)"
             ],
             [
              0.5019607843137255,
              "rgb(203,26,79)"
             ],
             [
              0.5647058823529412,
              "rgb(223,47,67)"
             ],
             [
              0.6274509803921569,
              "rgb(236,76,61)"
             ],
             [
              0.6901960784313725,
              "rgb(242,107,73)"
             ],
             [
              0.7529411764705882,
              "rgb(244,135,95)"
             ],
             [
              0.8156862745098039,
              "rgb(245,162,122)"
             ],
             [
              0.8784313725490196,
              "rgb(246,188,153)"
             ],
             [
              0.9411764705882353,
              "rgb(247,212,187)"
             ],
             [
              1,
              "rgb(250,234,220)"
             ]
            ],
            "type": "heatmap"
           }
          ],
          "heatmapgl": [
           {
            "colorbar": {
             "outlinewidth": 0,
             "tickcolor": "rgb(36,36,36)",
             "ticklen": 8,
             "ticks": "outside",
             "tickwidth": 2
            },
            "colorscale": [
             [
              0,
              "rgb(2,4,25)"
             ],
             [
              0.06274509803921569,
              "rgb(24,15,41)"
             ],
             [
              0.12549019607843137,
              "rgb(47,23,57)"
             ],
             [
              0.18823529411764706,
              "rgb(71,28,72)"
             ],
             [
              0.25098039215686274,
              "rgb(97,30,82)"
             ],
             [
              0.3137254901960784,
              "rgb(123,30,89)"
             ],
             [
              0.3764705882352941,
              "rgb(150,27,91)"
             ],
             [
              0.4392156862745098,
              "rgb(177,22,88)"
             ],
             [
              0.5019607843137255,
              "rgb(203,26,79)"
             ],
             [
              0.5647058823529412,
              "rgb(223,47,67)"
             ],
             [
              0.6274509803921569,
              "rgb(236,76,61)"
             ],
             [
              0.6901960784313725,
              "rgb(242,107,73)"
             ],
             [
              0.7529411764705882,
              "rgb(244,135,95)"
             ],
             [
              0.8156862745098039,
              "rgb(245,162,122)"
             ],
             [
              0.8784313725490196,
              "rgb(246,188,153)"
             ],
             [
              0.9411764705882353,
              "rgb(247,212,187)"
             ],
             [
              1,
              "rgb(250,234,220)"
             ]
            ],
            "type": "heatmapgl"
           }
          ],
          "histogram": [
           {
            "marker": {
             "pattern": {
              "fillmode": "overlay",
              "size": 10,
              "solidity": 0.2
             }
            },
            "type": "histogram"
           }
          ],
          "histogram2d": [
           {
            "colorbar": {
             "outlinewidth": 0,
             "tickcolor": "rgb(36,36,36)",
             "ticklen": 8,
             "ticks": "outside",
             "tickwidth": 2
            },
            "colorscale": [
             [
              0,
              "rgb(2,4,25)"
             ],
             [
              0.06274509803921569,
              "rgb(24,15,41)"
             ],
             [
              0.12549019607843137,
              "rgb(47,23,57)"
             ],
             [
              0.18823529411764706,
              "rgb(71,28,72)"
             ],
             [
              0.25098039215686274,
              "rgb(97,30,82)"
             ],
             [
              0.3137254901960784,
              "rgb(123,30,89)"
             ],
             [
              0.3764705882352941,
              "rgb(150,27,91)"
             ],
             [
              0.4392156862745098,
              "rgb(177,22,88)"
             ],
             [
              0.5019607843137255,
              "rgb(203,26,79)"
             ],
             [
              0.5647058823529412,
              "rgb(223,47,67)"
             ],
             [
              0.6274509803921569,
              "rgb(236,76,61)"
             ],
             [
              0.6901960784313725,
              "rgb(242,107,73)"
             ],
             [
              0.7529411764705882,
              "rgb(244,135,95)"
             ],
             [
              0.8156862745098039,
              "rgb(245,162,122)"
             ],
             [
              0.8784313725490196,
              "rgb(246,188,153)"
             ],
             [
              0.9411764705882353,
              "rgb(247,212,187)"
             ],
             [
              1,
              "rgb(250,234,220)"
             ]
            ],
            "type": "histogram2d"
           }
          ],
          "histogram2dcontour": [
           {
            "colorbar": {
             "outlinewidth": 0,
             "tickcolor": "rgb(36,36,36)",
             "ticklen": 8,
             "ticks": "outside",
             "tickwidth": 2
            },
            "colorscale": [
             [
              0,
              "rgb(2,4,25)"
             ],
             [
              0.06274509803921569,
              "rgb(24,15,41)"
             ],
             [
              0.12549019607843137,
              "rgb(47,23,57)"
             ],
             [
              0.18823529411764706,
              "rgb(71,28,72)"
             ],
             [
              0.25098039215686274,
              "rgb(97,30,82)"
             ],
             [
              0.3137254901960784,
              "rgb(123,30,89)"
             ],
             [
              0.3764705882352941,
              "rgb(150,27,91)"
             ],
             [
              0.4392156862745098,
              "rgb(177,22,88)"
             ],
             [
              0.5019607843137255,
              "rgb(203,26,79)"
             ],
             [
              0.5647058823529412,
              "rgb(223,47,67)"
             ],
             [
              0.6274509803921569,
              "rgb(236,76,61)"
             ],
             [
              0.6901960784313725,
              "rgb(242,107,73)"
             ],
             [
              0.7529411764705882,
              "rgb(244,135,95)"
             ],
             [
              0.8156862745098039,
              "rgb(245,162,122)"
             ],
             [
              0.8784313725490196,
              "rgb(246,188,153)"
             ],
             [
              0.9411764705882353,
              "rgb(247,212,187)"
             ],
             [
              1,
              "rgb(250,234,220)"
             ]
            ],
            "type": "histogram2dcontour"
           }
          ],
          "mesh3d": [
           {
            "colorbar": {
             "outlinewidth": 0,
             "tickcolor": "rgb(36,36,36)",
             "ticklen": 8,
             "ticks": "outside",
             "tickwidth": 2
            },
            "type": "mesh3d"
           }
          ],
          "parcoords": [
           {
            "line": {
             "colorbar": {
              "outlinewidth": 0,
              "tickcolor": "rgb(36,36,36)",
              "ticklen": 8,
              "ticks": "outside",
              "tickwidth": 2
             }
            },
            "type": "parcoords"
           }
          ],
          "pie": [
           {
            "automargin": true,
            "type": "pie"
           }
          ],
          "scatter": [
           {
            "fillpattern": {
             "fillmode": "overlay",
             "size": 10,
             "solidity": 0.2
            },
            "type": "scatter"
           }
          ],
          "scatter3d": [
           {
            "line": {
             "colorbar": {
              "outlinewidth": 0,
              "tickcolor": "rgb(36,36,36)",
              "ticklen": 8,
              "ticks": "outside",
              "tickwidth": 2
             }
            },
            "marker": {
             "colorbar": {
              "outlinewidth": 0,
              "tickcolor": "rgb(36,36,36)",
              "ticklen": 8,
              "ticks": "outside",
              "tickwidth": 2
             }
            },
            "type": "scatter3d"
           }
          ],
          "scattercarpet": [
           {
            "marker": {
             "colorbar": {
              "outlinewidth": 0,
              "tickcolor": "rgb(36,36,36)",
              "ticklen": 8,
              "ticks": "outside",
              "tickwidth": 2
             }
            },
            "type": "scattercarpet"
           }
          ],
          "scattergeo": [
           {
            "marker": {
             "colorbar": {
              "outlinewidth": 0,
              "tickcolor": "rgb(36,36,36)",
              "ticklen": 8,
              "ticks": "outside",
              "tickwidth": 2
             }
            },
            "type": "scattergeo"
           }
          ],
          "scattergl": [
           {
            "marker": {
             "colorbar": {
              "outlinewidth": 0,
              "tickcolor": "rgb(36,36,36)",
              "ticklen": 8,
              "ticks": "outside",
              "tickwidth": 2
             }
            },
            "type": "scattergl"
           }
          ],
          "scattermapbox": [
           {
            "marker": {
             "colorbar": {
              "outlinewidth": 0,
              "tickcolor": "rgb(36,36,36)",
              "ticklen": 8,
              "ticks": "outside",
              "tickwidth": 2
             }
            },
            "type": "scattermapbox"
           }
          ],
          "scatterpolar": [
           {
            "marker": {
             "colorbar": {
              "outlinewidth": 0,
              "tickcolor": "rgb(36,36,36)",
              "ticklen": 8,
              "ticks": "outside",
              "tickwidth": 2
             }
            },
            "type": "scatterpolar"
           }
          ],
          "scatterpolargl": [
           {
            "marker": {
             "colorbar": {
              "outlinewidth": 0,
              "tickcolor": "rgb(36,36,36)",
              "ticklen": 8,
              "ticks": "outside",
              "tickwidth": 2
             }
            },
            "type": "scatterpolargl"
           }
          ],
          "scatterternary": [
           {
            "marker": {
             "colorbar": {
              "outlinewidth": 0,
              "tickcolor": "rgb(36,36,36)",
              "ticklen": 8,
              "ticks": "outside",
              "tickwidth": 2
             }
            },
            "type": "scatterternary"
           }
          ],
          "surface": [
           {
            "colorbar": {
             "outlinewidth": 0,
             "tickcolor": "rgb(36,36,36)",
             "ticklen": 8,
             "ticks": "outside",
             "tickwidth": 2
            },
            "colorscale": [
             [
              0,
              "rgb(2,4,25)"
             ],
             [
              0.06274509803921569,
              "rgb(24,15,41)"
             ],
             [
              0.12549019607843137,
              "rgb(47,23,57)"
             ],
             [
              0.18823529411764706,
              "rgb(71,28,72)"
             ],
             [
              0.25098039215686274,
              "rgb(97,30,82)"
             ],
             [
              0.3137254901960784,
              "rgb(123,30,89)"
             ],
             [
              0.3764705882352941,
              "rgb(150,27,91)"
             ],
             [
              0.4392156862745098,
              "rgb(177,22,88)"
             ],
             [
              0.5019607843137255,
              "rgb(203,26,79)"
             ],
             [
              0.5647058823529412,
              "rgb(223,47,67)"
             ],
             [
              0.6274509803921569,
              "rgb(236,76,61)"
             ],
             [
              0.6901960784313725,
              "rgb(242,107,73)"
             ],
             [
              0.7529411764705882,
              "rgb(244,135,95)"
             ],
             [
              0.8156862745098039,
              "rgb(245,162,122)"
             ],
             [
              0.8784313725490196,
              "rgb(246,188,153)"
             ],
             [
              0.9411764705882353,
              "rgb(247,212,187)"
             ],
             [
              1,
              "rgb(250,234,220)"
             ]
            ],
            "type": "surface"
           }
          ],
          "table": [
           {
            "cells": {
             "fill": {
              "color": "rgb(231,231,240)"
             },
             "line": {
              "color": "white"
             }
            },
            "header": {
             "fill": {
              "color": "rgb(183,183,191)"
             },
             "line": {
              "color": "white"
             }
            },
            "type": "table"
           }
          ]
         },
         "layout": {
          "annotationdefaults": {
           "arrowcolor": "rgb(67,103,167)"
          },
          "autotypenumbers": "strict",
          "coloraxis": {
           "colorbar": {
            "outlinewidth": 0,
            "tickcolor": "rgb(36,36,36)",
            "ticklen": 8,
            "ticks": "outside",
            "tickwidth": 2
           }
          },
          "colorscale": {
           "sequential": [
            [
             0,
             "rgb(2,4,25)"
            ],
            [
             0.06274509803921569,
             "rgb(24,15,41)"
            ],
            [
             0.12549019607843137,
             "rgb(47,23,57)"
            ],
            [
             0.18823529411764706,
             "rgb(71,28,72)"
            ],
            [
             0.25098039215686274,
             "rgb(97,30,82)"
            ],
            [
             0.3137254901960784,
             "rgb(123,30,89)"
            ],
            [
             0.3764705882352941,
             "rgb(150,27,91)"
            ],
            [
             0.4392156862745098,
             "rgb(177,22,88)"
            ],
            [
             0.5019607843137255,
             "rgb(203,26,79)"
            ],
            [
             0.5647058823529412,
             "rgb(223,47,67)"
            ],
            [
             0.6274509803921569,
             "rgb(236,76,61)"
            ],
            [
             0.6901960784313725,
             "rgb(242,107,73)"
            ],
            [
             0.7529411764705882,
             "rgb(244,135,95)"
            ],
            [
             0.8156862745098039,
             "rgb(245,162,122)"
            ],
            [
             0.8784313725490196,
             "rgb(246,188,153)"
            ],
            [
             0.9411764705882353,
             "rgb(247,212,187)"
            ],
            [
             1,
             "rgb(250,234,220)"
            ]
           ],
           "sequentialminus": [
            [
             0,
             "rgb(2,4,25)"
            ],
            [
             0.06274509803921569,
             "rgb(24,15,41)"
            ],
            [
             0.12549019607843137,
             "rgb(47,23,57)"
            ],
            [
             0.18823529411764706,
             "rgb(71,28,72)"
            ],
            [
             0.25098039215686274,
             "rgb(97,30,82)"
            ],
            [
             0.3137254901960784,
             "rgb(123,30,89)"
            ],
            [
             0.3764705882352941,
             "rgb(150,27,91)"
            ],
            [
             0.4392156862745098,
             "rgb(177,22,88)"
            ],
            [
             0.5019607843137255,
             "rgb(203,26,79)"
            ],
            [
             0.5647058823529412,
             "rgb(223,47,67)"
            ],
            [
             0.6274509803921569,
             "rgb(236,76,61)"
            ],
            [
             0.6901960784313725,
             "rgb(242,107,73)"
            ],
            [
             0.7529411764705882,
             "rgb(244,135,95)"
            ],
            [
             0.8156862745098039,
             "rgb(245,162,122)"
            ],
            [
             0.8784313725490196,
             "rgb(246,188,153)"
            ],
            [
             0.9411764705882353,
             "rgb(247,212,187)"
            ],
            [
             1,
             "rgb(250,234,220)"
            ]
           ]
          },
          "colorway": [
           "rgb(76,114,176)",
           "rgb(221,132,82)",
           "rgb(85,168,104)",
           "rgb(196,78,82)",
           "rgb(129,114,179)",
           "rgb(147,120,96)",
           "rgb(218,139,195)",
           "rgb(140,140,140)",
           "rgb(204,185,116)",
           "rgb(100,181,205)"
          ],
          "font": {
           "color": "rgb(36,36,36)"
          },
          "geo": {
           "bgcolor": "white",
           "lakecolor": "white",
           "landcolor": "rgb(234,234,242)",
           "showlakes": true,
           "showland": true,
           "subunitcolor": "white"
          },
          "hoverlabel": {
           "align": "left"
          },
          "hovermode": "closest",
          "paper_bgcolor": "white",
          "plot_bgcolor": "rgb(234,234,242)",
          "polar": {
           "angularaxis": {
            "gridcolor": "white",
            "linecolor": "white",
            "showgrid": true,
            "ticks": ""
           },
           "bgcolor": "rgb(234,234,242)",
           "radialaxis": {
            "gridcolor": "white",
            "linecolor": "white",
            "showgrid": true,
            "ticks": ""
           }
          },
          "scene": {
           "xaxis": {
            "backgroundcolor": "rgb(234,234,242)",
            "gridcolor": "white",
            "gridwidth": 2,
            "linecolor": "white",
            "showbackground": true,
            "showgrid": true,
            "ticks": "",
            "zerolinecolor": "white"
           },
           "yaxis": {
            "backgroundcolor": "rgb(234,234,242)",
            "gridcolor": "white",
            "gridwidth": 2,
            "linecolor": "white",
            "showbackground": true,
            "showgrid": true,
            "ticks": "",
            "zerolinecolor": "white"
           },
           "zaxis": {
            "backgroundcolor": "rgb(234,234,242)",
            "gridcolor": "white",
            "gridwidth": 2,
            "linecolor": "white",
            "showbackground": true,
            "showgrid": true,
            "ticks": "",
            "zerolinecolor": "white"
           }
          },
          "shapedefaults": {
           "fillcolor": "rgb(67,103,167)",
           "line": {
            "width": 0
           },
           "opacity": 0.5
          },
          "ternary": {
           "aaxis": {
            "gridcolor": "white",
            "linecolor": "white",
            "showgrid": true,
            "ticks": ""
           },
           "baxis": {
            "gridcolor": "white",
            "linecolor": "white",
            "showgrid": true,
            "ticks": ""
           },
           "bgcolor": "rgb(234,234,242)",
           "caxis": {
            "gridcolor": "white",
            "linecolor": "white",
            "showgrid": true,
            "ticks": ""
           }
          },
          "xaxis": {
           "automargin": true,
           "gridcolor": "white",
           "linecolor": "white",
           "showgrid": true,
           "ticks": "",
           "title": {
            "standoff": 15
           },
           "zerolinecolor": "white"
          },
          "yaxis": {
           "automargin": true,
           "gridcolor": "white",
           "linecolor": "white",
           "showgrid": true,
           "ticks": "",
           "title": {
            "standoff": 15
           },
           "zerolinecolor": "white"
          }
         }
        },
        "title": {
         "text": "Sorted by: total_flow, ascending: False, head: 20"
        },
        "xaxis": {
         "anchor": "y",
         "domain": [
          0,
          1
         ],
         "title": {
          "text": "Flow decomposition value"
         }
        },
        "yaxis": {
         "anchor": "x",
         "domain": [
          0,
          1
         ],
         "title": {
          "text": "Branch id"
         }
        }
       }
      }
     },
     "metadata": {},
     "output_type": "display_data"
    }
   ],
   "source": [
    "flow_decomposition_bar_chart('total_flow')"
   ]
  },
  {
   "cell_type": "code",
   "execution_count": 20,
   "metadata": {},
   "outputs": [
    {
     "data": {
      "application/vnd.plotly.v1+json": {
       "config": {
        "plotlyServerURL": "https://plot.ly"
       },
       "data": [
        {
         "alignmentgroup": "True",
         "hovertemplate": "Decomposition part:=commercial_flow<br>Flow decomposition value=%{x}<br>Branch id=%{y}<extra></extra>",
         "legendgroup": "commercial_flow",
         "marker": {
          "color": "#0DF9FF",
          "pattern": {
           "shape": ""
          }
         },
         "name": "commercial_flow",
         "offsetgroup": "commercial_flow",
         "orientation": "h",
         "showlegend": true,
         "textposition": "auto",
         "texttemplate": "%{x:.0f}",
         "type": "bar",
         "x": [
          null,
          null,
          null,
          null,
          null,
          null,
          null,
          null,
          null,
          null,
          null,
          null,
          null,
          null,
          null,
          null,
          null,
          null,
          null,
          null
         ],
         "xaxis": "x",
         "y": [
          "L1-5-1",
          "L26-27-1",
          "L37-41-1",
          "L37-40-1",
          "L37-38-1",
          "L36-88-1",
          "L35-77-1",
          "L35-76-1",
          "L35-72-1",
          "L34-42-1",
          "L33-41-1",
          "L33-40-1",
          "L33-38-1",
          "L33-34-1",
          "L3-7-1",
          "L3-19-1",
          "L3-150-1",
          "L37-89-1",
          "L37-90-1",
          "L38-41-1"
         ],
         "yaxis": "y"
        },
        {
         "alignmentgroup": "True",
         "hovertemplate": "Decomposition part:=pst_flow<br>Flow decomposition value=%{x}<br>Branch id=%{y}<extra></extra>",
         "legendgroup": "pst_flow",
         "marker": {
          "color": "#AF0038",
          "pattern": {
           "shape": ""
          }
         },
         "name": "pst_flow",
         "offsetgroup": "pst_flow",
         "orientation": "h",
         "showlegend": true,
         "textposition": "auto",
         "texttemplate": "%{x:.0f}",
         "type": "bar",
         "x": [
          null,
          null,
          null,
          null,
          null,
          null,
          null,
          null,
          null,
          null,
          null,
          null,
          null,
          null,
          null,
          null,
          null,
          null,
          null,
          null
         ],
         "xaxis": "x",
         "y": [
          "L1-5-1",
          "L26-27-1",
          "L37-41-1",
          "L37-40-1",
          "L37-38-1",
          "L36-88-1",
          "L35-77-1",
          "L35-76-1",
          "L35-72-1",
          "L34-42-1",
          "L33-41-1",
          "L33-40-1",
          "L33-38-1",
          "L33-34-1",
          "L3-7-1",
          "L3-19-1",
          "L3-150-1",
          "L37-89-1",
          "L37-90-1",
          "L38-41-1"
         ],
         "yaxis": "y"
        },
        {
         "alignmentgroup": "True",
         "hovertemplate": "Decomposition part:=loop_flow_from_ag<br>Flow decomposition value=%{x}<br>Branch id=%{y}<extra></extra>",
         "legendgroup": "loop_flow_from_ag",
         "marker": {
          "color": "#FD3216",
          "pattern": {
           "shape": ""
          }
         },
         "name": "loop_flow_from_ag",
         "offsetgroup": "loop_flow_from_ag",
         "orientation": "h",
         "showlegend": true,
         "textposition": "auto",
         "texttemplate": "%{x:.0f}",
         "type": "bar",
         "x": [
          null,
          null,
          -39.38309982678433,
          12.602386056873364,
          29.04722925189514,
          null,
          -20.630701191324146,
          -19.64574492191224,
          null,
          null,
          -6.0830782073535525,
          null,
          17.416711999253174,
          null,
          -197.3259987560648,
          41.88490096058216,
          -457.2314334825281,
          29.267675399783073,
          24.10328396300944,
          null
         ],
         "xaxis": "x",
         "y": [
          "L1-5-1",
          "L26-27-1",
          "L37-41-1",
          "L37-40-1",
          "L37-38-1",
          "L36-88-1",
          "L35-77-1",
          "L35-76-1",
          "L35-72-1",
          "L34-42-1",
          "L33-41-1",
          "L33-40-1",
          "L33-38-1",
          "L33-34-1",
          "L3-7-1",
          "L3-19-1",
          "L3-150-1",
          "L37-89-1",
          "L37-90-1",
          "L38-41-1"
         ],
         "yaxis": "y"
        },
        {
         "alignmentgroup": "True",
         "hovertemplate": "Decomposition part:=loop_flow_from_az<br>Flow decomposition value=%{x}<br>Branch id=%{y}<extra></extra>",
         "legendgroup": "loop_flow_from_az",
         "marker": {
          "color": "#00A08B",
          "pattern": {
           "shape": ""
          }
         },
         "name": "loop_flow_from_az",
         "offsetgroup": "loop_flow_from_az",
         "orientation": "h",
         "showlegend": true,
         "textposition": "auto",
         "texttemplate": "%{x:.0f}",
         "type": "bar",
         "x": [
          234.42498278811314,
          23.918743521437644,
          null,
          null,
          null,
          23.374901516772983,
          -36.68670342605663,
          -17.707843650247597,
          null,
          20.214035528861736,
          6.594569928477789,
          null,
          26.406606504621084,
          20.214035528861654,
          202.34977257666102,
          97.36560651574675,
          396.51585382990214,
          18.276624537963478,
          28.703959552189577,
          16.22826445891886
         ],
         "xaxis": "x",
         "y": [
          "L1-5-1",
          "L26-27-1",
          "L37-41-1",
          "L37-40-1",
          "L37-38-1",
          "L36-88-1",
          "L35-77-1",
          "L35-76-1",
          "L35-72-1",
          "L34-42-1",
          "L33-41-1",
          "L33-40-1",
          "L33-38-1",
          "L33-34-1",
          "L3-7-1",
          "L3-19-1",
          "L3-150-1",
          "L37-89-1",
          "L37-90-1",
          "L38-41-1"
         ],
         "yaxis": "y"
        },
        {
         "alignmentgroup": "True",
         "hovertemplate": "Decomposition part:=loop_flow_from_be<br>Flow decomposition value=%{x}<br>Branch id=%{y}<extra></extra>",
         "legendgroup": "loop_flow_from_be",
         "marker": {
          "color": "#6C4516",
          "pattern": {
           "shape": ""
          }
         },
         "name": "loop_flow_from_be",
         "offsetgroup": "loop_flow_from_be",
         "orientation": "h",
         "showlegend": true,
         "textposition": "auto",
         "texttemplate": "%{x:.0f}",
         "type": "bar",
         "x": [
          null,
          null,
          51.37332191066078,
          -18.667031317454278,
          -41.64369106308172,
          null,
          null,
          null,
          null,
          null,
          null,
          21.866414572475232,
          null,
          null,
          null,
          null,
          null,
          -14.702411182697698,
          -15.135601982642342,
          null
         ],
         "xaxis": "x",
         "y": [
          "L1-5-1",
          "L26-27-1",
          "L37-41-1",
          "L37-40-1",
          "L37-38-1",
          "L36-88-1",
          "L35-77-1",
          "L35-76-1",
          "L35-72-1",
          "L34-42-1",
          "L33-41-1",
          "L33-40-1",
          "L33-38-1",
          "L33-34-1",
          "L3-7-1",
          "L3-19-1",
          "L3-150-1",
          "L37-89-1",
          "L37-90-1",
          "L38-41-1"
         ],
         "yaxis": "y"
        },
        {
         "alignmentgroup": "True",
         "hovertemplate": "Decomposition part:=loop_flow_from_cd<br>Flow decomposition value=%{x}<br>Branch id=%{y}<extra></extra>",
         "legendgroup": "loop_flow_from_cd",
         "marker": {
          "color": "#511CFB",
          "pattern": {
           "shape": ""
          }
         },
         "name": "loop_flow_from_cd",
         "offsetgroup": "loop_flow_from_cd",
         "orientation": "h",
         "showlegend": true,
         "textposition": "auto",
         "texttemplate": "%{x:.0f}",
         "type": "bar",
         "x": [
          null,
          null,
          null,
          null,
          null,
          -14.343796317590213,
          null,
          null,
          null,
          null,
          null,
          null,
          null,
          null,
          null,
          null,
          281.5279476740669,
          -14.96514490486917,
          -15.611846846943566,
          null
         ],
         "xaxis": "x",
         "y": [
          "L1-5-1",
          "L26-27-1",
          "L37-41-1",
          "L37-40-1",
          "L37-38-1",
          "L36-88-1",
          "L35-77-1",
          "L35-76-1",
          "L35-72-1",
          "L34-42-1",
          "L33-41-1",
          "L33-40-1",
          "L33-38-1",
          "L33-34-1",
          "L3-7-1",
          "L3-19-1",
          "L3-150-1",
          "L37-89-1",
          "L37-90-1",
          "L38-41-1"
         ],
         "yaxis": "y"
        },
        {
         "alignmentgroup": "True",
         "hovertemplate": "Decomposition part:=loop_flow_from_cl<br>Flow decomposition value=%{x}<br>Branch id=%{y}<extra></extra>",
         "legendgroup": "loop_flow_from_cl",
         "marker": {
          "color": "#F6F926",
          "pattern": {
           "shape": ""
          }
         },
         "name": "loop_flow_from_cl",
         "offsetgroup": "loop_flow_from_cl",
         "orientation": "h",
         "showlegend": true,
         "textposition": "auto",
         "texttemplate": "%{x:.0f}",
         "type": "bar",
         "x": [
          156.09893371197455,
          null,
          null,
          null,
          26.169831723438328,
          null,
          null,
          null,
          10.571432909029737,
          16.50254852150681,
          17.692573635190712,
          null,
          43.31362181516113,
          16.502548521506696,
          258.2374755466953,
          114.8118719843299,
          -496.88886260276513,
          null,
          null,
          34.609300759327944
         ],
         "xaxis": "x",
         "y": [
          "L1-5-1",
          "L26-27-1",
          "L37-41-1",
          "L37-40-1",
          "L37-38-1",
          "L36-88-1",
          "L35-77-1",
          "L35-76-1",
          "L35-72-1",
          "L34-42-1",
          "L33-41-1",
          "L33-40-1",
          "L33-38-1",
          "L33-34-1",
          "L3-7-1",
          "L3-19-1",
          "L3-150-1",
          "L37-89-1",
          "L37-90-1",
          "L38-41-1"
         ],
         "yaxis": "y"
        },
        {
         "alignmentgroup": "True",
         "hovertemplate": "Decomposition part:=loop_flow_from_dz<br>Flow decomposition value=%{x}<br>Branch id=%{y}<extra></extra>",
         "legendgroup": "loop_flow_from_dz",
         "marker": {
          "color": "#C9FBE5",
          "pattern": {
           "shape": ""
          }
         },
         "name": "loop_flow_from_dz",
         "offsetgroup": "loop_flow_from_dz",
         "orientation": "h",
         "showlegend": true,
         "textposition": "auto",
         "texttemplate": "%{x:.0f}",
         "type": "bar",
         "x": [
          null,
          34.76917872871418,
          null,
          null,
          null,
          null,
          -25.385816558050923,
          -21.332761223542636,
          null,
          null,
          16.096756878633613,
          -14.883488143009965,
          null,
          null,
          -288.1617448155338,
          -49.99831310805269,
          null,
          28.062860367545795,
          23.381603080304448,
          15.10090006943203
         ],
         "xaxis": "x",
         "y": [
          "L1-5-1",
          "L26-27-1",
          "L37-41-1",
          "L37-40-1",
          "L37-38-1",
          "L36-88-1",
          "L35-77-1",
          "L35-76-1",
          "L35-72-1",
          "L34-42-1",
          "L33-41-1",
          "L33-40-1",
          "L33-38-1",
          "L33-34-1",
          "L3-7-1",
          "L3-19-1",
          "L3-150-1",
          "L37-89-1",
          "L37-90-1",
          "L38-41-1"
         ],
         "yaxis": "y"
        },
        {
         "alignmentgroup": "True",
         "hovertemplate": "Decomposition part:=loop_flow_from_es<br>Flow decomposition value=%{x}<br>Branch id=%{y}<extra></extra>",
         "legendgroup": "loop_flow_from_es",
         "marker": {
          "color": "#FC0080",
          "pattern": {
           "shape": ""
          }
         },
         "name": "loop_flow_from_es",
         "offsetgroup": "loop_flow_from_es",
         "orientation": "h",
         "showlegend": true,
         "textposition": "auto",
         "texttemplate": "%{x:.0f}",
         "type": "bar",
         "x": [
          null,
          null,
          null,
          null,
          20.74155481518433,
          null,
          null,
          null,
          null,
          null,
          null,
          -14.141980786644854,
          15.483288943001021,
          null,
          -195.97325625338487,
          null,
          null,
          36.162622092120785,
          18.234556920517804,
          7.712313300037628
         ],
         "xaxis": "x",
         "y": [
          "L1-5-1",
          "L26-27-1",
          "L37-41-1",
          "L37-40-1",
          "L37-38-1",
          "L36-88-1",
          "L35-77-1",
          "L35-76-1",
          "L35-72-1",
          "L34-42-1",
          "L33-41-1",
          "L33-40-1",
          "L33-38-1",
          "L33-34-1",
          "L3-7-1",
          "L3-19-1",
          "L3-150-1",
          "L37-89-1",
          "L37-90-1",
          "L38-41-1"
         ],
         "yaxis": "y"
        },
        {
         "alignmentgroup": "True",
         "hovertemplate": "Decomposition part:=loop_flow_from_gr<br>Flow decomposition value=%{x}<br>Branch id=%{y}<extra></extra>",
         "legendgroup": "loop_flow_from_gr",
         "marker": {
          "color": "#FB0D0D",
          "pattern": {
           "shape": ""
          }
         },
         "name": "loop_flow_from_gr",
         "offsetgroup": "loop_flow_from_gr",
         "orientation": "h",
         "showlegend": true,
         "textposition": "auto",
         "texttemplate": "%{x:.0f}",
         "type": "bar",
         "x": [
          null,
          null,
          -25.342217877062495,
          null,
          null,
          null,
          null,
          null,
          null,
          -18.07343672725108,
          null,
          null,
          null,
          -18.073436727250787,
          null,
          -48.50288774620341,
          377.5128648042874,
          -14.193518271480027,
          null,
          null
         ],
         "xaxis": "x",
         "y": [
          "L1-5-1",
          "L26-27-1",
          "L37-41-1",
          "L37-40-1",
          "L37-38-1",
          "L36-88-1",
          "L35-77-1",
          "L35-76-1",
          "L35-72-1",
          "L34-42-1",
          "L33-41-1",
          "L33-40-1",
          "L33-38-1",
          "L33-34-1",
          "L3-7-1",
          "L3-19-1",
          "L3-150-1",
          "L37-89-1",
          "L37-90-1",
          "L38-41-1"
         ],
         "yaxis": "y"
        },
        {
         "alignmentgroup": "True",
         "hovertemplate": "Decomposition part:=loop_flow_from_gu<br>Flow decomposition value=%{x}<br>Branch id=%{y}<extra></extra>",
         "legendgroup": "loop_flow_from_gu",
         "marker": {
          "color": "#D626FF",
          "pattern": {
           "shape": ""
          }
         },
         "name": "loop_flow_from_gu",
         "offsetgroup": "loop_flow_from_gu",
         "orientation": "h",
         "showlegend": true,
         "textposition": "auto",
         "texttemplate": "%{x:.0f}",
         "type": "bar",
         "x": [
          null,
          null,
          null,
          15.281780663204456,
          null,
          null,
          null,
          null,
          null,
          null,
          7.757814886059028,
          25.607648242802952,
          null,
          null,
          null,
          null,
          null,
          null,
          null,
          null
         ],
         "xaxis": "x",
         "y": [
          "L1-5-1",
          "L26-27-1",
          "L37-41-1",
          "L37-40-1",
          "L37-38-1",
          "L36-88-1",
          "L35-77-1",
          "L35-76-1",
          "L35-72-1",
          "L34-42-1",
          "L33-41-1",
          "L33-40-1",
          "L33-38-1",
          "L33-34-1",
          "L3-7-1",
          "L3-19-1",
          "L3-150-1",
          "L37-89-1",
          "L37-90-1",
          "L38-41-1"
         ],
         "yaxis": "y"
        },
        {
         "alignmentgroup": "True",
         "hovertemplate": "Decomposition part:=loop_flow_from_hn<br>Flow decomposition value=%{x}<br>Branch id=%{y}<extra></extra>",
         "legendgroup": "loop_flow_from_hn",
         "marker": {
          "color": "#DA16FF",
          "pattern": {
           "shape": ""
          }
         },
         "name": "loop_flow_from_hn",
         "offsetgroup": "loop_flow_from_hn",
         "orientation": "h",
         "showlegend": true,
         "textposition": "auto",
         "texttemplate": "%{x:.0f}",
         "type": "bar",
         "x": [
          null,
          null,
          null,
          null,
          null,
          41.45101896751976,
          null,
          42.1423297810163,
          null,
          null,
          null,
          null,
          null,
          null,
          null,
          null,
          null,
          -12.785851906982089,
          -15.236704021626323,
          null
         ],
         "xaxis": "x",
         "y": [
          "L1-5-1",
          "L26-27-1",
          "L37-41-1",
          "L37-40-1",
          "L37-38-1",
          "L36-88-1",
          "L35-77-1",
          "L35-76-1",
          "L35-72-1",
          "L34-42-1",
          "L33-41-1",
          "L33-40-1",
          "L33-38-1",
          "L33-34-1",
          "L3-7-1",
          "L3-19-1",
          "L3-150-1",
          "L37-89-1",
          "L37-90-1",
          "L38-41-1"
         ],
         "yaxis": "y"
        },
        {
         "alignmentgroup": "True",
         "hovertemplate": "Decomposition part:=loop_flow_from_id<br>Flow decomposition value=%{x}<br>Branch id=%{y}<extra></extra>",
         "legendgroup": "loop_flow_from_id",
         "marker": {
          "color": "#86CE00",
          "pattern": {
           "shape": ""
          }
         },
         "name": "loop_flow_from_id",
         "offsetgroup": "loop_flow_from_id",
         "orientation": "h",
         "showlegend": true,
         "textposition": "auto",
         "texttemplate": "%{x:.0f}",
         "type": "bar",
         "x": [
          null,
          null,
          null,
          null,
          null,
          19.839769216297658,
          -21.09363308813381,
          null,
          null,
          18.037894078385683,
          null,
          null,
          null,
          18.037894078386323,
          null,
          54.32924863621554,
          -388.62159849912814,
          null,
          null,
          8.570588983083061
         ],
         "xaxis": "x",
         "y": [
          "L1-5-1",
          "L26-27-1",
          "L37-41-1",
          "L37-40-1",
          "L37-38-1",
          "L36-88-1",
          "L35-77-1",
          "L35-76-1",
          "L35-72-1",
          "L34-42-1",
          "L33-41-1",
          "L33-40-1",
          "L33-38-1",
          "L33-34-1",
          "L3-7-1",
          "L3-19-1",
          "L3-150-1",
          "L37-89-1",
          "L37-90-1",
          "L38-41-1"
         ],
         "yaxis": "y"
        },
        {
         "alignmentgroup": "True",
         "hovertemplate": "Decomposition part:=loop_flow_from_iq<br>Flow decomposition value=%{x}<br>Branch id=%{y}<extra></extra>",
         "legendgroup": "loop_flow_from_iq",
         "marker": {
          "color": "#6A76FC",
          "pattern": {
           "shape": ""
          }
         },
         "name": "loop_flow_from_iq",
         "offsetgroup": "loop_flow_from_iq",
         "orientation": "h",
         "showlegend": true,
         "textposition": "auto",
         "texttemplate": "%{x:.0f}",
         "type": "bar",
         "x": [
          null,
          null,
          -35.29741413087651,
          14.517860954507146,
          28.982315363602414,
          null,
          null,
          null,
          null,
          -17.399047269527667,
          null,
          -15.015054517096315,
          null,
          -17.399047269527703,
          null,
          null,
          null,
          null,
          null,
          null
         ],
         "xaxis": "x",
         "y": [
          "L1-5-1",
          "L26-27-1",
          "L37-41-1",
          "L37-40-1",
          "L37-38-1",
          "L36-88-1",
          "L35-77-1",
          "L35-76-1",
          "L35-72-1",
          "L34-42-1",
          "L33-41-1",
          "L33-40-1",
          "L33-38-1",
          "L33-34-1",
          "L3-7-1",
          "L3-19-1",
          "L3-150-1",
          "L37-89-1",
          "L37-90-1",
          "L38-41-1"
         ],
         "yaxis": "y"
        },
        {
         "alignmentgroup": "True",
         "hovertemplate": "Decomposition part:=loop_flow_from_jo<br>Flow decomposition value=%{x}<br>Branch id=%{y}<extra></extra>",
         "legendgroup": "loop_flow_from_jo",
         "marker": {
          "color": "#FB00D1",
          "pattern": {
           "shape": ""
          }
         },
         "name": "loop_flow_from_jo",
         "offsetgroup": "loop_flow_from_jo",
         "orientation": "h",
         "showlegend": true,
         "textposition": "auto",
         "texttemplate": "%{x:.0f}",
         "type": "bar",
         "x": [
          null,
          null,
          null,
          null,
          null,
          -31.369096336352555,
          37.084334368571,
          null,
          null,
          null,
          null,
          null,
          null,
          null,
          null,
          null,
          292.39387106009724,
          -14.158665616228758,
          null,
          null
         ],
         "xaxis": "x",
         "y": [
          "L1-5-1",
          "L26-27-1",
          "L37-41-1",
          "L37-40-1",
          "L37-38-1",
          "L36-88-1",
          "L35-77-1",
          "L35-76-1",
          "L35-72-1",
          "L34-42-1",
          "L33-41-1",
          "L33-40-1",
          "L33-38-1",
          "L33-34-1",
          "L3-7-1",
          "L3-19-1",
          "L3-150-1",
          "L37-89-1",
          "L37-90-1",
          "L38-41-1"
         ],
         "yaxis": "y"
        },
        {
         "alignmentgroup": "True",
         "hovertemplate": "Decomposition part:=loop_flow_from_ke<br>Flow decomposition value=%{x}<br>Branch id=%{y}<extra></extra>",
         "legendgroup": "loop_flow_from_ke",
         "marker": {
          "color": "#EEA6FB",
          "pattern": {
           "shape": ""
          }
         },
         "name": "loop_flow_from_ke",
         "offsetgroup": "loop_flow_from_ke",
         "orientation": "h",
         "showlegend": true,
         "textposition": "auto",
         "texttemplate": "%{x:.0f}",
         "type": "bar",
         "x": [
          null,
          null,
          112.27446600813609,
          -47.350488159177466,
          -89.44654114469311,
          31.697512055604356,
          null,
          35.77791509180166,
          11.591504328223085,
          83.00094024357705,
          -10.160125941838537,
          49.94258446912405,
          22.898229832614934,
          83.00094024357729,
          218.80617735260583,
          null,
          null,
          null,
          null,
          null
         ],
         "xaxis": "x",
         "y": [
          "L1-5-1",
          "L26-27-1",
          "L37-41-1",
          "L37-40-1",
          "L37-38-1",
          "L36-88-1",
          "L35-77-1",
          "L35-76-1",
          "L35-72-1",
          "L34-42-1",
          "L33-41-1",
          "L33-40-1",
          "L33-38-1",
          "L33-34-1",
          "L3-7-1",
          "L3-19-1",
          "L3-150-1",
          "L37-89-1",
          "L37-90-1",
          "L38-41-1"
         ],
         "yaxis": "y"
        },
        {
         "alignmentgroup": "True",
         "hovertemplate": "Decomposition part:=loop_flow_from_kg<br>Flow decomposition value=%{x}<br>Branch id=%{y}<extra></extra>",
         "legendgroup": "loop_flow_from_kg",
         "marker": {
          "color": "#FE00CE",
          "pattern": {
           "shape": ""
          }
         },
         "name": "loop_flow_from_kg",
         "offsetgroup": "loop_flow_from_kg",
         "orientation": "h",
         "showlegend": true,
         "textposition": "auto",
         "texttemplate": "%{x:.0f}",
         "type": "bar",
         "x": [
          25.805953460393333,
          null,
          39.71059558180998,
          -15.348695765571778,
          -25.428041195158023,
          null,
          93.57057760903827,
          95.3846575156718,
          -10.248492269403009,
          28.09278811735137,
          null,
          13.743968792277133,
          15.481140650016956,
          28.092788117351486,
          null,
          66.18364377023315,
          -448.80218777314354,
          15.495778499096541,
          13.961869026651401,
          null
         ],
         "xaxis": "x",
         "y": [
          "L1-5-1",
          "L26-27-1",
          "L37-41-1",
          "L37-40-1",
          "L37-38-1",
          "L36-88-1",
          "L35-77-1",
          "L35-76-1",
          "L35-72-1",
          "L34-42-1",
          "L33-41-1",
          "L33-40-1",
          "L33-38-1",
          "L33-34-1",
          "L3-7-1",
          "L3-19-1",
          "L3-150-1",
          "L37-89-1",
          "L37-90-1",
          "L38-41-1"
         ],
         "yaxis": "y"
        },
        {
         "alignmentgroup": "True",
         "hovertemplate": "Decomposition part:=loop_flow_from_lv<br>Flow decomposition value=%{x}<br>Branch id=%{y}<extra></extra>",
         "legendgroup": "loop_flow_from_lv",
         "marker": {
          "color": "#22FFA7",
          "pattern": {
           "shape": ""
          }
         },
         "name": "loop_flow_from_lv",
         "offsetgroup": "loop_flow_from_lv",
         "orientation": "h",
         "showlegend": true,
         "textposition": "auto",
         "texttemplate": "%{x:.0f}",
         "type": "bar",
         "x": [
          null,
          -8.982119138423082,
          -22.57859727070392,
          null,
          null,
          null,
          null,
          null,
          null,
          null,
          -6.549386786527012,
          -25.059403469343348,
          null,
          null,
          null,
          null,
          null,
          null,
          28.755180567976158,
          null
         ],
         "xaxis": "x",
         "y": [
          "L1-5-1",
          "L26-27-1",
          "L37-41-1",
          "L37-40-1",
          "L37-38-1",
          "L36-88-1",
          "L35-77-1",
          "L35-76-1",
          "L35-72-1",
          "L34-42-1",
          "L33-41-1",
          "L33-40-1",
          "L33-38-1",
          "L33-34-1",
          "L3-7-1",
          "L3-19-1",
          "L3-150-1",
          "L37-89-1",
          "L37-90-1",
          "L38-41-1"
         ],
         "yaxis": "y"
        },
        {
         "alignmentgroup": "True",
         "hovertemplate": "Decomposition part:=loop_flow_from_om<br>Flow decomposition value=%{x}<br>Branch id=%{y}<extra></extra>",
         "legendgroup": "loop_flow_from_om",
         "marker": {
          "color": "#620042",
          "pattern": {
           "shape": ""
          }
         },
         "name": "loop_flow_from_om",
         "offsetgroup": "loop_flow_from_om",
         "orientation": "h",
         "showlegend": true,
         "textposition": "auto",
         "texttemplate": "%{x:.0f}",
         "type": "bar",
         "x": [
          null,
          null,
          null,
          null,
          null,
          null,
          26.482529943376232,
          null,
          24.11643092746934,
          null,
          null,
          null,
          -13.397668424160502,
          null,
          null,
          null,
          308.7178905205649,
          -19.868427697314516,
          -19.396912252707494,
          null
         ],
         "xaxis": "x",
         "y": [
          "L1-5-1",
          "L26-27-1",
          "L37-41-1",
          "L37-40-1",
          "L37-38-1",
          "L36-88-1",
          "L35-77-1",
          "L35-76-1",
          "L35-72-1",
          "L34-42-1",
          "L33-41-1",
          "L33-40-1",
          "L33-38-1",
          "L33-34-1",
          "L3-7-1",
          "L3-19-1",
          "L3-150-1",
          "L37-89-1",
          "L37-90-1",
          "L38-41-1"
         ],
         "yaxis": "y"
        },
        {
         "alignmentgroup": "True",
         "hovertemplate": "Decomposition part:=loop_flow_from_pn<br>Flow decomposition value=%{x}<br>Branch id=%{y}<extra></extra>",
         "legendgroup": "loop_flow_from_pn",
         "marker": {
          "color": "#FF9616",
          "pattern": {
           "shape": ""
          }
         },
         "name": "loop_flow_from_pn",
         "offsetgroup": "loop_flow_from_pn",
         "orientation": "h",
         "showlegend": true,
         "textposition": "auto",
         "texttemplate": "%{x:.0f}",
         "type": "bar",
         "x": [
          null,
          null,
          null,
          null,
          null,
          null,
          null,
          null,
          null,
          null,
          null,
          null,
          null,
          null,
          null,
          null,
          null,
          null,
          null,
          null
         ],
         "xaxis": "x",
         "y": [
          "L1-5-1",
          "L26-27-1",
          "L37-41-1",
          "L37-40-1",
          "L37-38-1",
          "L36-88-1",
          "L35-77-1",
          "L35-76-1",
          "L35-72-1",
          "L34-42-1",
          "L33-41-1",
          "L33-40-1",
          "L33-38-1",
          "L33-34-1",
          "L3-7-1",
          "L3-19-1",
          "L3-150-1",
          "L37-89-1",
          "L37-90-1",
          "L38-41-1"
         ],
         "yaxis": "y"
        },
        {
         "alignmentgroup": "True",
         "hovertemplate": "Decomposition part:=loop_flow_from_rs<br>Flow decomposition value=%{x}<br>Branch id=%{y}<extra></extra>",
         "legendgroup": "loop_flow_from_rs",
         "marker": {
          "color": "#FC6955",
          "pattern": {
           "shape": ""
          }
         },
         "name": "loop_flow_from_rs",
         "offsetgroup": "loop_flow_from_rs",
         "orientation": "h",
         "showlegend": true,
         "textposition": "auto",
         "texttemplate": "%{x:.0f}",
         "type": "bar",
         "x": [
          null,
          null,
          null,
          null,
          null,
          null,
          null,
          null,
          11.139918375166346,
          null,
          null,
          null,
          null,
          null,
          null,
          null,
          null,
          null,
          null,
          null
         ],
         "xaxis": "x",
         "y": [
          "L1-5-1",
          "L26-27-1",
          "L37-41-1",
          "L37-40-1",
          "L37-38-1",
          "L36-88-1",
          "L35-77-1",
          "L35-76-1",
          "L35-72-1",
          "L34-42-1",
          "L33-41-1",
          "L33-40-1",
          "L33-38-1",
          "L33-34-1",
          "L3-7-1",
          "L3-19-1",
          "L3-150-1",
          "L37-89-1",
          "L37-90-1",
          "L38-41-1"
         ],
         "yaxis": "y"
        },
        {
         "alignmentgroup": "True",
         "hovertemplate": "Decomposition part:=loop_flow_from_rw<br>Flow decomposition value=%{x}<br>Branch id=%{y}<extra></extra>",
         "legendgroup": "loop_flow_from_rw",
         "marker": {
          "color": "#479B55",
          "pattern": {
           "shape": ""
          }
         },
         "name": "loop_flow_from_rw",
         "offsetgroup": "loop_flow_from_rw",
         "orientation": "h",
         "showlegend": true,
         "textposition": "auto",
         "texttemplate": "%{x:.0f}",
         "type": "bar",
         "x": [
          null,
          null,
          null,
          null,
          null,
          14.432621324905073,
          -20.151980364973106,
          null,
          null,
          null,
          null,
          null,
          null,
          null,
          null,
          null,
          null,
          null,
          null,
          null
         ],
         "xaxis": "x",
         "y": [
          "L1-5-1",
          "L26-27-1",
          "L37-41-1",
          "L37-40-1",
          "L37-38-1",
          "L36-88-1",
          "L35-77-1",
          "L35-76-1",
          "L35-72-1",
          "L34-42-1",
          "L33-41-1",
          "L33-40-1",
          "L33-38-1",
          "L33-34-1",
          "L3-7-1",
          "L3-19-1",
          "L3-150-1",
          "L37-89-1",
          "L37-90-1",
          "L38-41-1"
         ],
         "yaxis": "y"
        },
        {
         "alignmentgroup": "True",
         "hovertemplate": "Decomposition part:=masked_flows_positive<br>Flow decomposition value=%{x}<br>Branch id=%{y}<extra></extra>",
         "legendgroup": "masked_flows_positive",
         "marker": {
          "color": "#6E899C",
          "pattern": {
           "shape": ""
          }
         },
         "name": "masked_flows_positive",
         "offsetgroup": "masked_flows_positive",
         "orientation": "h",
         "showlegend": true,
         "textposition": "auto",
         "texttemplate": "%{x:.0f}",
         "type": "bar",
         "x": [
          32.154768195188616,
          12.728634879744105,
          33.08878524049855,
          61.12002653593148,
          88.68804002447362,
          62.2759806067247,
          58.497023023899416,
          32.405353864299066,
          21.970140436529,
          46.51746734250955,
          14.645551760153818,
          33.26955133763529,
          16.20725845777858,
          46.517467342508844,
          466.99499807262714,
          58.34566225989283,
          531.5641448974022,
          23.52997903910106,
          16.84150951803364,
          17.597192620750395
         ],
         "xaxis": "x",
         "y": [
          "L1-5-1",
          "L26-27-1",
          "L37-41-1",
          "L37-40-1",
          "L37-38-1",
          "L36-88-1",
          "L35-77-1",
          "L35-76-1",
          "L35-72-1",
          "L34-42-1",
          "L33-41-1",
          "L33-40-1",
          "L33-38-1",
          "L33-34-1",
          "L3-7-1",
          "L3-19-1",
          "L3-150-1",
          "L37-89-1",
          "L37-90-1",
          "L38-41-1"
         ],
         "yaxis": "y"
        },
        {
         "alignmentgroup": "True",
         "hovertemplate": "Decomposition part:=masked_flows_negative<br>Flow decomposition value=%{x}<br>Branch id=%{y}<extra></extra>",
         "legendgroup": "masked_flows_negative",
         "marker": {
          "color": "#00FE35",
          "pattern": {
           "shape": ""
          }
         },
         "name": "masked_flows_negative",
         "offsetgroup": "masked_flows_negative",
         "orientation": "h",
         "showlegend": true,
         "textposition": "auto",
         "texttemplate": "%{x:.0f}",
         "type": "bar",
         "x": [
          -47.268967147387556,
          -15.891004128806204,
          -73.29864415559321,
          -8.4795284867544,
          -18.839488500443714,
          -35.07542250545467,
          -40.94339307928119,
          -31.15712289474873,
          -21.982009860162005,
          -53.31352134546785,
          -6.177414755267279,
          -44.956927848263454,
          -71.7860760290548,
          -53.31352134546803,
          -222.25039336777766,
          -182.58238654524845,
          -370.215468176462,
          -13.601605590706608,
          -35.47157506868005,
          -37.158570864941616
         ],
         "xaxis": "x",
         "y": [
          "L1-5-1",
          "L26-27-1",
          "L37-41-1",
          "L37-40-1",
          "L37-38-1",
          "L36-88-1",
          "L35-77-1",
          "L35-76-1",
          "L35-72-1",
          "L34-42-1",
          "L33-41-1",
          "L33-40-1",
          "L33-38-1",
          "L33-34-1",
          "L3-7-1",
          "L3-19-1",
          "L3-150-1",
          "L37-89-1",
          "L37-90-1",
          "L38-41-1"
         ],
         "yaxis": "y"
        },
        {
         "mode": "lines+markers",
         "name": "total_flow",
         "type": "scatter",
         "x": [
          401.2156710082821,
          46.54343386266664,
          40.54719548008491,
          13.676310481558518,
          18.271209275217263,
          112.28348852842707,
          50.742237237065105,
          115.8667835623376,
          47.1589248468525,
          123.57966848994558,
          33.817261397528576,
          30.373312649956723,
          72.02311374923158,
          123.57966848994582,
          242.6770303558283,
          151.83734672749574,
          26.473022252293966,
          46.51991476533187,
          53.1293224560827,
          62.6599893266083
         ],
         "y": [
          "L1-5-1",
          "L26-27-1",
          "L37-41-1",
          "L37-40-1",
          "L37-38-1",
          "L36-88-1",
          "L35-77-1",
          "L35-76-1",
          "L35-72-1",
          "L34-42-1",
          "L33-41-1",
          "L33-40-1",
          "L33-38-1",
          "L33-34-1",
          "L3-7-1",
          "L3-19-1",
          "L3-150-1",
          "L37-89-1",
          "L37-90-1",
          "L38-41-1"
         ]
        },
        {
         "mode": "lines+markers",
         "name": "total_loop_flow",
         "type": "scatter",
         "x": [
          401.2156710082821,
          46.54343386266664,
          40.54719548008491,
          13.676310481558518,
          18.271209275217263,
          112.28348852842707,
          50.742237237065105,
          115.8667835623376,
          47.1589248468525,
          123.57966848994558,
          33.817261397528576,
          30.373312649956723,
          72.02311374923158,
          123.57966848994582,
          242.6770303558283,
          151.83734672749574,
          26.473022252293966,
          46.51991476533187,
          53.1293224560827,
          62.6599893266083
         ],
         "y": [
          "L1-5-1",
          "L26-27-1",
          "L37-41-1",
          "L37-40-1",
          "L37-38-1",
          "L36-88-1",
          "L35-77-1",
          "L35-76-1",
          "L35-72-1",
          "L34-42-1",
          "L33-41-1",
          "L33-40-1",
          "L33-38-1",
          "L33-34-1",
          "L3-7-1",
          "L3-19-1",
          "L3-150-1",
          "L37-89-1",
          "L37-90-1",
          "L38-41-1"
         ]
        }
       ],
       "layout": {
        "barmode": "relative",
        "height": 1000,
        "legend": {
         "title": {
          "text": "Decomposition part:"
         },
         "tracegroupgap": 0
        },
        "template": {
         "data": {
          "bar": [
           {
            "error_x": {
             "color": "rgb(36,36,36)"
            },
            "error_y": {
             "color": "rgb(36,36,36)"
            },
            "marker": {
             "line": {
              "color": "rgb(234,234,242)",
              "width": 0.5
             },
             "pattern": {
              "fillmode": "overlay",
              "size": 10,
              "solidity": 0.2
             }
            },
            "type": "bar"
           }
          ],
          "barpolar": [
           {
            "marker": {
             "line": {
              "color": "rgb(234,234,242)",
              "width": 0.5
             },
             "pattern": {
              "fillmode": "overlay",
              "size": 10,
              "solidity": 0.2
             }
            },
            "type": "barpolar"
           }
          ],
          "carpet": [
           {
            "aaxis": {
             "endlinecolor": "rgb(36,36,36)",
             "gridcolor": "white",
             "linecolor": "white",
             "minorgridcolor": "white",
             "startlinecolor": "rgb(36,36,36)"
            },
            "baxis": {
             "endlinecolor": "rgb(36,36,36)",
             "gridcolor": "white",
             "linecolor": "white",
             "minorgridcolor": "white",
             "startlinecolor": "rgb(36,36,36)"
            },
            "type": "carpet"
           }
          ],
          "choropleth": [
           {
            "colorbar": {
             "outlinewidth": 0,
             "tickcolor": "rgb(36,36,36)",
             "ticklen": 8,
             "ticks": "outside",
             "tickwidth": 2
            },
            "type": "choropleth"
           }
          ],
          "contour": [
           {
            "colorbar": {
             "outlinewidth": 0,
             "tickcolor": "rgb(36,36,36)",
             "ticklen": 8,
             "ticks": "outside",
             "tickwidth": 2
            },
            "colorscale": [
             [
              0,
              "rgb(2,4,25)"
             ],
             [
              0.06274509803921569,
              "rgb(24,15,41)"
             ],
             [
              0.12549019607843137,
              "rgb(47,23,57)"
             ],
             [
              0.18823529411764706,
              "rgb(71,28,72)"
             ],
             [
              0.25098039215686274,
              "rgb(97,30,82)"
             ],
             [
              0.3137254901960784,
              "rgb(123,30,89)"
             ],
             [
              0.3764705882352941,
              "rgb(150,27,91)"
             ],
             [
              0.4392156862745098,
              "rgb(177,22,88)"
             ],
             [
              0.5019607843137255,
              "rgb(203,26,79)"
             ],
             [
              0.5647058823529412,
              "rgb(223,47,67)"
             ],
             [
              0.6274509803921569,
              "rgb(236,76,61)"
             ],
             [
              0.6901960784313725,
              "rgb(242,107,73)"
             ],
             [
              0.7529411764705882,
              "rgb(244,135,95)"
             ],
             [
              0.8156862745098039,
              "rgb(245,162,122)"
             ],
             [
              0.8784313725490196,
              "rgb(246,188,153)"
             ],
             [
              0.9411764705882353,
              "rgb(247,212,187)"
             ],
             [
              1,
              "rgb(250,234,220)"
             ]
            ],
            "type": "contour"
           }
          ],
          "contourcarpet": [
           {
            "colorbar": {
             "outlinewidth": 0,
             "tickcolor": "rgb(36,36,36)",
             "ticklen": 8,
             "ticks": "outside",
             "tickwidth": 2
            },
            "type": "contourcarpet"
           }
          ],
          "heatmap": [
           {
            "colorbar": {
             "outlinewidth": 0,
             "tickcolor": "rgb(36,36,36)",
             "ticklen": 8,
             "ticks": "outside",
             "tickwidth": 2
            },
            "colorscale": [
             [
              0,
              "rgb(2,4,25)"
             ],
             [
              0.06274509803921569,
              "rgb(24,15,41)"
             ],
             [
              0.12549019607843137,
              "rgb(47,23,57)"
             ],
             [
              0.18823529411764706,
              "rgb(71,28,72)"
             ],
             [
              0.25098039215686274,
              "rgb(97,30,82)"
             ],
             [
              0.3137254901960784,
              "rgb(123,30,89)"
             ],
             [
              0.3764705882352941,
              "rgb(150,27,91)"
             ],
             [
              0.4392156862745098,
              "rgb(177,22,88)"
             ],
             [
              0.5019607843137255,
              "rgb(203,26,79)"
             ],
             [
              0.5647058823529412,
              "rgb(223,47,67)"
             ],
             [
              0.6274509803921569,
              "rgb(236,76,61)"
             ],
             [
              0.6901960784313725,
              "rgb(242,107,73)"
             ],
             [
              0.7529411764705882,
              "rgb(244,135,95)"
             ],
             [
              0.8156862745098039,
              "rgb(245,162,122)"
             ],
             [
              0.8784313725490196,
              "rgb(246,188,153)"
             ],
             [
              0.9411764705882353,
              "rgb(247,212,187)"
             ],
             [
              1,
              "rgb(250,234,220)"
             ]
            ],
            "type": "heatmap"
           }
          ],
          "heatmapgl": [
           {
            "colorbar": {
             "outlinewidth": 0,
             "tickcolor": "rgb(36,36,36)",
             "ticklen": 8,
             "ticks": "outside",
             "tickwidth": 2
            },
            "colorscale": [
             [
              0,
              "rgb(2,4,25)"
             ],
             [
              0.06274509803921569,
              "rgb(24,15,41)"
             ],
             [
              0.12549019607843137,
              "rgb(47,23,57)"
             ],
             [
              0.18823529411764706,
              "rgb(71,28,72)"
             ],
             [
              0.25098039215686274,
              "rgb(97,30,82)"
             ],
             [
              0.3137254901960784,
              "rgb(123,30,89)"
             ],
             [
              0.3764705882352941,
              "rgb(150,27,91)"
             ],
             [
              0.4392156862745098,
              "rgb(177,22,88)"
             ],
             [
              0.5019607843137255,
              "rgb(203,26,79)"
             ],
             [
              0.5647058823529412,
              "rgb(223,47,67)"
             ],
             [
              0.6274509803921569,
              "rgb(236,76,61)"
             ],
             [
              0.6901960784313725,
              "rgb(242,107,73)"
             ],
             [
              0.7529411764705882,
              "rgb(244,135,95)"
             ],
             [
              0.8156862745098039,
              "rgb(245,162,122)"
             ],
             [
              0.8784313725490196,
              "rgb(246,188,153)"
             ],
             [
              0.9411764705882353,
              "rgb(247,212,187)"
             ],
             [
              1,
              "rgb(250,234,220)"
             ]
            ],
            "type": "heatmapgl"
           }
          ],
          "histogram": [
           {
            "marker": {
             "pattern": {
              "fillmode": "overlay",
              "size": 10,
              "solidity": 0.2
             }
            },
            "type": "histogram"
           }
          ],
          "histogram2d": [
           {
            "colorbar": {
             "outlinewidth": 0,
             "tickcolor": "rgb(36,36,36)",
             "ticklen": 8,
             "ticks": "outside",
             "tickwidth": 2
            },
            "colorscale": [
             [
              0,
              "rgb(2,4,25)"
             ],
             [
              0.06274509803921569,
              "rgb(24,15,41)"
             ],
             [
              0.12549019607843137,
              "rgb(47,23,57)"
             ],
             [
              0.18823529411764706,
              "rgb(71,28,72)"
             ],
             [
              0.25098039215686274,
              "rgb(97,30,82)"
             ],
             [
              0.3137254901960784,
              "rgb(123,30,89)"
             ],
             [
              0.3764705882352941,
              "rgb(150,27,91)"
             ],
             [
              0.4392156862745098,
              "rgb(177,22,88)"
             ],
             [
              0.5019607843137255,
              "rgb(203,26,79)"
             ],
             [
              0.5647058823529412,
              "rgb(223,47,67)"
             ],
             [
              0.6274509803921569,
              "rgb(236,76,61)"
             ],
             [
              0.6901960784313725,
              "rgb(242,107,73)"
             ],
             [
              0.7529411764705882,
              "rgb(244,135,95)"
             ],
             [
              0.8156862745098039,
              "rgb(245,162,122)"
             ],
             [
              0.8784313725490196,
              "rgb(246,188,153)"
             ],
             [
              0.9411764705882353,
              "rgb(247,212,187)"
             ],
             [
              1,
              "rgb(250,234,220)"
             ]
            ],
            "type": "histogram2d"
           }
          ],
          "histogram2dcontour": [
           {
            "colorbar": {
             "outlinewidth": 0,
             "tickcolor": "rgb(36,36,36)",
             "ticklen": 8,
             "ticks": "outside",
             "tickwidth": 2
            },
            "colorscale": [
             [
              0,
              "rgb(2,4,25)"
             ],
             [
              0.06274509803921569,
              "rgb(24,15,41)"
             ],
             [
              0.12549019607843137,
              "rgb(47,23,57)"
             ],
             [
              0.18823529411764706,
              "rgb(71,28,72)"
             ],
             [
              0.25098039215686274,
              "rgb(97,30,82)"
             ],
             [
              0.3137254901960784,
              "rgb(123,30,89)"
             ],
             [
              0.3764705882352941,
              "rgb(150,27,91)"
             ],
             [
              0.4392156862745098,
              "rgb(177,22,88)"
             ],
             [
              0.5019607843137255,
              "rgb(203,26,79)"
             ],
             [
              0.5647058823529412,
              "rgb(223,47,67)"
             ],
             [
              0.6274509803921569,
              "rgb(236,76,61)"
             ],
             [
              0.6901960784313725,
              "rgb(242,107,73)"
             ],
             [
              0.7529411764705882,
              "rgb(244,135,95)"
             ],
             [
              0.8156862745098039,
              "rgb(245,162,122)"
             ],
             [
              0.8784313725490196,
              "rgb(246,188,153)"
             ],
             [
              0.9411764705882353,
              "rgb(247,212,187)"
             ],
             [
              1,
              "rgb(250,234,220)"
             ]
            ],
            "type": "histogram2dcontour"
           }
          ],
          "mesh3d": [
           {
            "colorbar": {
             "outlinewidth": 0,
             "tickcolor": "rgb(36,36,36)",
             "ticklen": 8,
             "ticks": "outside",
             "tickwidth": 2
            },
            "type": "mesh3d"
           }
          ],
          "parcoords": [
           {
            "line": {
             "colorbar": {
              "outlinewidth": 0,
              "tickcolor": "rgb(36,36,36)",
              "ticklen": 8,
              "ticks": "outside",
              "tickwidth": 2
             }
            },
            "type": "parcoords"
           }
          ],
          "pie": [
           {
            "automargin": true,
            "type": "pie"
           }
          ],
          "scatter": [
           {
            "fillpattern": {
             "fillmode": "overlay",
             "size": 10,
             "solidity": 0.2
            },
            "type": "scatter"
           }
          ],
          "scatter3d": [
           {
            "line": {
             "colorbar": {
              "outlinewidth": 0,
              "tickcolor": "rgb(36,36,36)",
              "ticklen": 8,
              "ticks": "outside",
              "tickwidth": 2
             }
            },
            "marker": {
             "colorbar": {
              "outlinewidth": 0,
              "tickcolor": "rgb(36,36,36)",
              "ticklen": 8,
              "ticks": "outside",
              "tickwidth": 2
             }
            },
            "type": "scatter3d"
           }
          ],
          "scattercarpet": [
           {
            "marker": {
             "colorbar": {
              "outlinewidth": 0,
              "tickcolor": "rgb(36,36,36)",
              "ticklen": 8,
              "ticks": "outside",
              "tickwidth": 2
             }
            },
            "type": "scattercarpet"
           }
          ],
          "scattergeo": [
           {
            "marker": {
             "colorbar": {
              "outlinewidth": 0,
              "tickcolor": "rgb(36,36,36)",
              "ticklen": 8,
              "ticks": "outside",
              "tickwidth": 2
             }
            },
            "type": "scattergeo"
           }
          ],
          "scattergl": [
           {
            "marker": {
             "colorbar": {
              "outlinewidth": 0,
              "tickcolor": "rgb(36,36,36)",
              "ticklen": 8,
              "ticks": "outside",
              "tickwidth": 2
             }
            },
            "type": "scattergl"
           }
          ],
          "scattermapbox": [
           {
            "marker": {
             "colorbar": {
              "outlinewidth": 0,
              "tickcolor": "rgb(36,36,36)",
              "ticklen": 8,
              "ticks": "outside",
              "tickwidth": 2
             }
            },
            "type": "scattermapbox"
           }
          ],
          "scatterpolar": [
           {
            "marker": {
             "colorbar": {
              "outlinewidth": 0,
              "tickcolor": "rgb(36,36,36)",
              "ticklen": 8,
              "ticks": "outside",
              "tickwidth": 2
             }
            },
            "type": "scatterpolar"
           }
          ],
          "scatterpolargl": [
           {
            "marker": {
             "colorbar": {
              "outlinewidth": 0,
              "tickcolor": "rgb(36,36,36)",
              "ticklen": 8,
              "ticks": "outside",
              "tickwidth": 2
             }
            },
            "type": "scatterpolargl"
           }
          ],
          "scatterternary": [
           {
            "marker": {
             "colorbar": {
              "outlinewidth": 0,
              "tickcolor": "rgb(36,36,36)",
              "ticklen": 8,
              "ticks": "outside",
              "tickwidth": 2
             }
            },
            "type": "scatterternary"
           }
          ],
          "surface": [
           {
            "colorbar": {
             "outlinewidth": 0,
             "tickcolor": "rgb(36,36,36)",
             "ticklen": 8,
             "ticks": "outside",
             "tickwidth": 2
            },
            "colorscale": [
             [
              0,
              "rgb(2,4,25)"
             ],
             [
              0.06274509803921569,
              "rgb(24,15,41)"
             ],
             [
              0.12549019607843137,
              "rgb(47,23,57)"
             ],
             [
              0.18823529411764706,
              "rgb(71,28,72)"
             ],
             [
              0.25098039215686274,
              "rgb(97,30,82)"
             ],
             [
              0.3137254901960784,
              "rgb(123,30,89)"
             ],
             [
              0.3764705882352941,
              "rgb(150,27,91)"
             ],
             [
              0.4392156862745098,
              "rgb(177,22,88)"
             ],
             [
              0.5019607843137255,
              "rgb(203,26,79)"
             ],
             [
              0.5647058823529412,
              "rgb(223,47,67)"
             ],
             [
              0.6274509803921569,
              "rgb(236,76,61)"
             ],
             [
              0.6901960784313725,
              "rgb(242,107,73)"
             ],
             [
              0.7529411764705882,
              "rgb(244,135,95)"
             ],
             [
              0.8156862745098039,
              "rgb(245,162,122)"
             ],
             [
              0.8784313725490196,
              "rgb(246,188,153)"
             ],
             [
              0.9411764705882353,
              "rgb(247,212,187)"
             ],
             [
              1,
              "rgb(250,234,220)"
             ]
            ],
            "type": "surface"
           }
          ],
          "table": [
           {
            "cells": {
             "fill": {
              "color": "rgb(231,231,240)"
             },
             "line": {
              "color": "white"
             }
            },
            "header": {
             "fill": {
              "color": "rgb(183,183,191)"
             },
             "line": {
              "color": "white"
             }
            },
            "type": "table"
           }
          ]
         },
         "layout": {
          "annotationdefaults": {
           "arrowcolor": "rgb(67,103,167)"
          },
          "autotypenumbers": "strict",
          "coloraxis": {
           "colorbar": {
            "outlinewidth": 0,
            "tickcolor": "rgb(36,36,36)",
            "ticklen": 8,
            "ticks": "outside",
            "tickwidth": 2
           }
          },
          "colorscale": {
           "sequential": [
            [
             0,
             "rgb(2,4,25)"
            ],
            [
             0.06274509803921569,
             "rgb(24,15,41)"
            ],
            [
             0.12549019607843137,
             "rgb(47,23,57)"
            ],
            [
             0.18823529411764706,
             "rgb(71,28,72)"
            ],
            [
             0.25098039215686274,
             "rgb(97,30,82)"
            ],
            [
             0.3137254901960784,
             "rgb(123,30,89)"
            ],
            [
             0.3764705882352941,
             "rgb(150,27,91)"
            ],
            [
             0.4392156862745098,
             "rgb(177,22,88)"
            ],
            [
             0.5019607843137255,
             "rgb(203,26,79)"
            ],
            [
             0.5647058823529412,
             "rgb(223,47,67)"
            ],
            [
             0.6274509803921569,
             "rgb(236,76,61)"
            ],
            [
             0.6901960784313725,
             "rgb(242,107,73)"
            ],
            [
             0.7529411764705882,
             "rgb(244,135,95)"
            ],
            [
             0.8156862745098039,
             "rgb(245,162,122)"
            ],
            [
             0.8784313725490196,
             "rgb(246,188,153)"
            ],
            [
             0.9411764705882353,
             "rgb(247,212,187)"
            ],
            [
             1,
             "rgb(250,234,220)"
            ]
           ],
           "sequentialminus": [
            [
             0,
             "rgb(2,4,25)"
            ],
            [
             0.06274509803921569,
             "rgb(24,15,41)"
            ],
            [
             0.12549019607843137,
             "rgb(47,23,57)"
            ],
            [
             0.18823529411764706,
             "rgb(71,28,72)"
            ],
            [
             0.25098039215686274,
             "rgb(97,30,82)"
            ],
            [
             0.3137254901960784,
             "rgb(123,30,89)"
            ],
            [
             0.3764705882352941,
             "rgb(150,27,91)"
            ],
            [
             0.4392156862745098,
             "rgb(177,22,88)"
            ],
            [
             0.5019607843137255,
             "rgb(203,26,79)"
            ],
            [
             0.5647058823529412,
             "rgb(223,47,67)"
            ],
            [
             0.6274509803921569,
             "rgb(236,76,61)"
            ],
            [
             0.6901960784313725,
             "rgb(242,107,73)"
            ],
            [
             0.7529411764705882,
             "rgb(244,135,95)"
            ],
            [
             0.8156862745098039,
             "rgb(245,162,122)"
            ],
            [
             0.8784313725490196,
             "rgb(246,188,153)"
            ],
            [
             0.9411764705882353,
             "rgb(247,212,187)"
            ],
            [
             1,
             "rgb(250,234,220)"
            ]
           ]
          },
          "colorway": [
           "rgb(76,114,176)",
           "rgb(221,132,82)",
           "rgb(85,168,104)",
           "rgb(196,78,82)",
           "rgb(129,114,179)",
           "rgb(147,120,96)",
           "rgb(218,139,195)",
           "rgb(140,140,140)",
           "rgb(204,185,116)",
           "rgb(100,181,205)"
          ],
          "font": {
           "color": "rgb(36,36,36)"
          },
          "geo": {
           "bgcolor": "white",
           "lakecolor": "white",
           "landcolor": "rgb(234,234,242)",
           "showlakes": true,
           "showland": true,
           "subunitcolor": "white"
          },
          "hoverlabel": {
           "align": "left"
          },
          "hovermode": "closest",
          "paper_bgcolor": "white",
          "plot_bgcolor": "rgb(234,234,242)",
          "polar": {
           "angularaxis": {
            "gridcolor": "white",
            "linecolor": "white",
            "showgrid": true,
            "ticks": ""
           },
           "bgcolor": "rgb(234,234,242)",
           "radialaxis": {
            "gridcolor": "white",
            "linecolor": "white",
            "showgrid": true,
            "ticks": ""
           }
          },
          "scene": {
           "xaxis": {
            "backgroundcolor": "rgb(234,234,242)",
            "gridcolor": "white",
            "gridwidth": 2,
            "linecolor": "white",
            "showbackground": true,
            "showgrid": true,
            "ticks": "",
            "zerolinecolor": "white"
           },
           "yaxis": {
            "backgroundcolor": "rgb(234,234,242)",
            "gridcolor": "white",
            "gridwidth": 2,
            "linecolor": "white",
            "showbackground": true,
            "showgrid": true,
            "ticks": "",
            "zerolinecolor": "white"
           },
           "zaxis": {
            "backgroundcolor": "rgb(234,234,242)",
            "gridcolor": "white",
            "gridwidth": 2,
            "linecolor": "white",
            "showbackground": true,
            "showgrid": true,
            "ticks": "",
            "zerolinecolor": "white"
           }
          },
          "shapedefaults": {
           "fillcolor": "rgb(67,103,167)",
           "line": {
            "width": 0
           },
           "opacity": 0.5
          },
          "ternary": {
           "aaxis": {
            "gridcolor": "white",
            "linecolor": "white",
            "showgrid": true,
            "ticks": ""
           },
           "baxis": {
            "gridcolor": "white",
            "linecolor": "white",
            "showgrid": true,
            "ticks": ""
           },
           "bgcolor": "rgb(234,234,242)",
           "caxis": {
            "gridcolor": "white",
            "linecolor": "white",
            "showgrid": true,
            "ticks": ""
           }
          },
          "xaxis": {
           "automargin": true,
           "gridcolor": "white",
           "linecolor": "white",
           "showgrid": true,
           "ticks": "",
           "title": {
            "standoff": 15
           },
           "zerolinecolor": "white"
          },
          "yaxis": {
           "automargin": true,
           "gridcolor": "white",
           "linecolor": "white",
           "showgrid": true,
           "ticks": "",
           "title": {
            "standoff": 15
           },
           "zerolinecolor": "white"
          }
         }
        },
        "title": {
         "text": "Sorted by: pst_flow, ascending: False, head: 20"
        },
        "xaxis": {
         "anchor": "y",
         "domain": [
          0,
          1
         ],
         "title": {
          "text": "Flow decomposition value"
         }
        },
        "yaxis": {
         "anchor": "x",
         "domain": [
          0,
          1
         ],
         "title": {
          "text": "Branch id"
         }
        }
       }
      }
     },
     "metadata": {},
     "output_type": "display_data"
    }
   ],
   "source": [
    "flow_decomposition_bar_chart('pst_flow')"
   ]
  },
  {
   "cell_type": "code",
   "execution_count": 21,
   "metadata": {},
   "outputs": [
    {
     "data": {
      "application/vnd.plotly.v1+json": {
       "config": {
        "plotlyServerURL": "https://plot.ly"
       },
       "data": [
        {
         "alignmentgroup": "True",
         "hovertemplate": "Decomposition part:=commercial_flow<br>Flow decomposition value=%{x}<br>Branch id=%{y}<extra></extra>",
         "legendgroup": "commercial_flow",
         "marker": {
          "color": "#0DF9FF",
          "pattern": {
           "shape": ""
          }
         },
         "name": "commercial_flow",
         "offsetgroup": "commercial_flow",
         "orientation": "h",
         "showlegend": true,
         "textposition": "auto",
         "texttemplate": "%{x:.0f}",
         "type": "bar",
         "x": [
          null,
          null,
          null,
          null,
          null,
          null,
          null,
          null,
          null,
          null,
          null,
          null,
          null,
          null,
          null,
          null,
          null,
          null,
          null,
          null
         ],
         "xaxis": "x",
         "y": [
          "L1-5-1",
          "L37-40-1",
          "L37-38-1",
          "L36-88-1",
          "L35-77-1",
          "L35-76-1",
          "L35-72-1",
          "L37-41-1",
          "L34-42-1",
          "L33-40-1",
          "L33-38-1",
          "L33-34-1",
          "L3-7-1",
          "L3-19-1",
          "L3-150-1",
          "L33-41-1",
          "L26-320-1",
          "L37-89-1",
          "L38-41-1",
          "L45-60-1"
         ],
         "yaxis": "y"
        },
        {
         "alignmentgroup": "True",
         "hovertemplate": "Decomposition part:=pst_flow<br>Flow decomposition value=%{x}<br>Branch id=%{y}<extra></extra>",
         "legendgroup": "pst_flow",
         "marker": {
          "color": "#AF0038",
          "pattern": {
           "shape": ""
          }
         },
         "name": "pst_flow",
         "offsetgroup": "pst_flow",
         "orientation": "h",
         "showlegend": true,
         "textposition": "auto",
         "texttemplate": "%{x:.0f}",
         "type": "bar",
         "x": [
          null,
          null,
          null,
          null,
          null,
          null,
          null,
          null,
          null,
          null,
          null,
          null,
          null,
          null,
          null,
          null,
          null,
          null,
          null,
          null
         ],
         "xaxis": "x",
         "y": [
          "L1-5-1",
          "L37-40-1",
          "L37-38-1",
          "L36-88-1",
          "L35-77-1",
          "L35-76-1",
          "L35-72-1",
          "L37-41-1",
          "L34-42-1",
          "L33-40-1",
          "L33-38-1",
          "L33-34-1",
          "L3-7-1",
          "L3-19-1",
          "L3-150-1",
          "L33-41-1",
          "L26-320-1",
          "L37-89-1",
          "L38-41-1",
          "L45-60-1"
         ],
         "yaxis": "y"
        },
        {
         "alignmentgroup": "True",
         "hovertemplate": "Decomposition part:=loop_flow_from_ag<br>Flow decomposition value=%{x}<br>Branch id=%{y}<extra></extra>",
         "legendgroup": "loop_flow_from_ag",
         "marker": {
          "color": "#FD3216",
          "pattern": {
           "shape": ""
          }
         },
         "name": "loop_flow_from_ag",
         "offsetgroup": "loop_flow_from_ag",
         "orientation": "h",
         "showlegend": true,
         "textposition": "auto",
         "texttemplate": "%{x:.0f}",
         "type": "bar",
         "x": [
          null,
          12.602386056873364,
          29.04722925189514,
          null,
          -20.630701191324146,
          -19.64574492191224,
          null,
          -39.38309982678433,
          null,
          null,
          17.416711999253174,
          null,
          -197.3259987560648,
          41.88490096058216,
          -457.2314334825281,
          -6.0830782073535525,
          null,
          29.267675399783073,
          null,
          224.9335832566368
         ],
         "xaxis": "x",
         "y": [
          "L1-5-1",
          "L37-40-1",
          "L37-38-1",
          "L36-88-1",
          "L35-77-1",
          "L35-76-1",
          "L35-72-1",
          "L37-41-1",
          "L34-42-1",
          "L33-40-1",
          "L33-38-1",
          "L33-34-1",
          "L3-7-1",
          "L3-19-1",
          "L3-150-1",
          "L33-41-1",
          "L26-320-1",
          "L37-89-1",
          "L38-41-1",
          "L45-60-1"
         ],
         "yaxis": "y"
        },
        {
         "alignmentgroup": "True",
         "hovertemplate": "Decomposition part:=loop_flow_from_az<br>Flow decomposition value=%{x}<br>Branch id=%{y}<extra></extra>",
         "legendgroup": "loop_flow_from_az",
         "marker": {
          "color": "#00A08B",
          "pattern": {
           "shape": ""
          }
         },
         "name": "loop_flow_from_az",
         "offsetgroup": "loop_flow_from_az",
         "orientation": "h",
         "showlegend": true,
         "textposition": "auto",
         "texttemplate": "%{x:.0f}",
         "type": "bar",
         "x": [
          234.42498278811314,
          null,
          null,
          23.374901516772983,
          -36.68670342605663,
          -17.707843650247597,
          null,
          null,
          20.214035528861736,
          null,
          26.406606504621084,
          20.214035528861654,
          202.34977257666102,
          97.36560651574675,
          396.51585382990214,
          6.594569928477789,
          null,
          18.276624537963478,
          16.22826445891886,
          null
         ],
         "xaxis": "x",
         "y": [
          "L1-5-1",
          "L37-40-1",
          "L37-38-1",
          "L36-88-1",
          "L35-77-1",
          "L35-76-1",
          "L35-72-1",
          "L37-41-1",
          "L34-42-1",
          "L33-40-1",
          "L33-38-1",
          "L33-34-1",
          "L3-7-1",
          "L3-19-1",
          "L3-150-1",
          "L33-41-1",
          "L26-320-1",
          "L37-89-1",
          "L38-41-1",
          "L45-60-1"
         ],
         "yaxis": "y"
        },
        {
         "alignmentgroup": "True",
         "hovertemplate": "Decomposition part:=loop_flow_from_be<br>Flow decomposition value=%{x}<br>Branch id=%{y}<extra></extra>",
         "legendgroup": "loop_flow_from_be",
         "marker": {
          "color": "#6C4516",
          "pattern": {
           "shape": ""
          }
         },
         "name": "loop_flow_from_be",
         "offsetgroup": "loop_flow_from_be",
         "orientation": "h",
         "showlegend": true,
         "textposition": "auto",
         "texttemplate": "%{x:.0f}",
         "type": "bar",
         "x": [
          null,
          -18.667031317454278,
          -41.64369106308172,
          null,
          null,
          null,
          null,
          51.37332191066078,
          null,
          21.866414572475232,
          null,
          null,
          null,
          null,
          null,
          null,
          null,
          -14.702411182697698,
          null,
          239.5490248311718
         ],
         "xaxis": "x",
         "y": [
          "L1-5-1",
          "L37-40-1",
          "L37-38-1",
          "L36-88-1",
          "L35-77-1",
          "L35-76-1",
          "L35-72-1",
          "L37-41-1",
          "L34-42-1",
          "L33-40-1",
          "L33-38-1",
          "L33-34-1",
          "L3-7-1",
          "L3-19-1",
          "L3-150-1",
          "L33-41-1",
          "L26-320-1",
          "L37-89-1",
          "L38-41-1",
          "L45-60-1"
         ],
         "yaxis": "y"
        },
        {
         "alignmentgroup": "True",
         "hovertemplate": "Decomposition part:=loop_flow_from_cd<br>Flow decomposition value=%{x}<br>Branch id=%{y}<extra></extra>",
         "legendgroup": "loop_flow_from_cd",
         "marker": {
          "color": "#511CFB",
          "pattern": {
           "shape": ""
          }
         },
         "name": "loop_flow_from_cd",
         "offsetgroup": "loop_flow_from_cd",
         "orientation": "h",
         "showlegend": true,
         "textposition": "auto",
         "texttemplate": "%{x:.0f}",
         "type": "bar",
         "x": [
          null,
          null,
          null,
          -14.343796317590213,
          null,
          null,
          null,
          null,
          null,
          null,
          null,
          null,
          null,
          null,
          281.5279476740669,
          null,
          null,
          -14.96514490486917,
          null,
          null
         ],
         "xaxis": "x",
         "y": [
          "L1-5-1",
          "L37-40-1",
          "L37-38-1",
          "L36-88-1",
          "L35-77-1",
          "L35-76-1",
          "L35-72-1",
          "L37-41-1",
          "L34-42-1",
          "L33-40-1",
          "L33-38-1",
          "L33-34-1",
          "L3-7-1",
          "L3-19-1",
          "L3-150-1",
          "L33-41-1",
          "L26-320-1",
          "L37-89-1",
          "L38-41-1",
          "L45-60-1"
         ],
         "yaxis": "y"
        },
        {
         "alignmentgroup": "True",
         "hovertemplate": "Decomposition part:=loop_flow_from_cl<br>Flow decomposition value=%{x}<br>Branch id=%{y}<extra></extra>",
         "legendgroup": "loop_flow_from_cl",
         "marker": {
          "color": "#F6F926",
          "pattern": {
           "shape": ""
          }
         },
         "name": "loop_flow_from_cl",
         "offsetgroup": "loop_flow_from_cl",
         "orientation": "h",
         "showlegend": true,
         "textposition": "auto",
         "texttemplate": "%{x:.0f}",
         "type": "bar",
         "x": [
          156.09893371197455,
          null,
          26.169831723438328,
          null,
          null,
          null,
          10.571432909029737,
          null,
          16.50254852150681,
          null,
          43.31362181516113,
          16.502548521506696,
          258.2374755466953,
          114.8118719843299,
          -496.88886260276513,
          17.692573635190712,
          null,
          null,
          34.609300759327944,
          149.64392398429788
         ],
         "xaxis": "x",
         "y": [
          "L1-5-1",
          "L37-40-1",
          "L37-38-1",
          "L36-88-1",
          "L35-77-1",
          "L35-76-1",
          "L35-72-1",
          "L37-41-1",
          "L34-42-1",
          "L33-40-1",
          "L33-38-1",
          "L33-34-1",
          "L3-7-1",
          "L3-19-1",
          "L3-150-1",
          "L33-41-1",
          "L26-320-1",
          "L37-89-1",
          "L38-41-1",
          "L45-60-1"
         ],
         "yaxis": "y"
        },
        {
         "alignmentgroup": "True",
         "hovertemplate": "Decomposition part:=loop_flow_from_dz<br>Flow decomposition value=%{x}<br>Branch id=%{y}<extra></extra>",
         "legendgroup": "loop_flow_from_dz",
         "marker": {
          "color": "#C9FBE5",
          "pattern": {
           "shape": ""
          }
         },
         "name": "loop_flow_from_dz",
         "offsetgroup": "loop_flow_from_dz",
         "orientation": "h",
         "showlegend": true,
         "textposition": "auto",
         "texttemplate": "%{x:.0f}",
         "type": "bar",
         "x": [
          null,
          null,
          null,
          null,
          -25.385816558050923,
          -21.332761223542636,
          null,
          null,
          null,
          -14.883488143009965,
          null,
          null,
          -288.1617448155338,
          -49.99831310805269,
          null,
          16.096756878633613,
          null,
          28.062860367545795,
          15.10090006943203,
          231.10902927934313
         ],
         "xaxis": "x",
         "y": [
          "L1-5-1",
          "L37-40-1",
          "L37-38-1",
          "L36-88-1",
          "L35-77-1",
          "L35-76-1",
          "L35-72-1",
          "L37-41-1",
          "L34-42-1",
          "L33-40-1",
          "L33-38-1",
          "L33-34-1",
          "L3-7-1",
          "L3-19-1",
          "L3-150-1",
          "L33-41-1",
          "L26-320-1",
          "L37-89-1",
          "L38-41-1",
          "L45-60-1"
         ],
         "yaxis": "y"
        },
        {
         "alignmentgroup": "True",
         "hovertemplate": "Decomposition part:=loop_flow_from_es<br>Flow decomposition value=%{x}<br>Branch id=%{y}<extra></extra>",
         "legendgroup": "loop_flow_from_es",
         "marker": {
          "color": "#FC0080",
          "pattern": {
           "shape": ""
          }
         },
         "name": "loop_flow_from_es",
         "offsetgroup": "loop_flow_from_es",
         "orientation": "h",
         "showlegend": true,
         "textposition": "auto",
         "texttemplate": "%{x:.0f}",
         "type": "bar",
         "x": [
          null,
          null,
          20.74155481518433,
          null,
          null,
          null,
          null,
          null,
          null,
          -14.141980786644854,
          15.483288943001021,
          null,
          -195.97325625338487,
          null,
          null,
          null,
          null,
          36.162622092120785,
          7.712313300037628,
          null
         ],
         "xaxis": "x",
         "y": [
          "L1-5-1",
          "L37-40-1",
          "L37-38-1",
          "L36-88-1",
          "L35-77-1",
          "L35-76-1",
          "L35-72-1",
          "L37-41-1",
          "L34-42-1",
          "L33-40-1",
          "L33-38-1",
          "L33-34-1",
          "L3-7-1",
          "L3-19-1",
          "L3-150-1",
          "L33-41-1",
          "L26-320-1",
          "L37-89-1",
          "L38-41-1",
          "L45-60-1"
         ],
         "yaxis": "y"
        },
        {
         "alignmentgroup": "True",
         "hovertemplate": "Decomposition part:=loop_flow_from_gr<br>Flow decomposition value=%{x}<br>Branch id=%{y}<extra></extra>",
         "legendgroup": "loop_flow_from_gr",
         "marker": {
          "color": "#FB0D0D",
          "pattern": {
           "shape": ""
          }
         },
         "name": "loop_flow_from_gr",
         "offsetgroup": "loop_flow_from_gr",
         "orientation": "h",
         "showlegend": true,
         "textposition": "auto",
         "texttemplate": "%{x:.0f}",
         "type": "bar",
         "x": [
          null,
          null,
          null,
          null,
          null,
          null,
          null,
          -25.342217877062495,
          -18.07343672725108,
          null,
          null,
          -18.073436727250787,
          null,
          -48.50288774620341,
          377.5128648042874,
          null,
          null,
          -14.193518271480027,
          null,
          null
         ],
         "xaxis": "x",
         "y": [
          "L1-5-1",
          "L37-40-1",
          "L37-38-1",
          "L36-88-1",
          "L35-77-1",
          "L35-76-1",
          "L35-72-1",
          "L37-41-1",
          "L34-42-1",
          "L33-40-1",
          "L33-38-1",
          "L33-34-1",
          "L3-7-1",
          "L3-19-1",
          "L3-150-1",
          "L33-41-1",
          "L26-320-1",
          "L37-89-1",
          "L38-41-1",
          "L45-60-1"
         ],
         "yaxis": "y"
        },
        {
         "alignmentgroup": "True",
         "hovertemplate": "Decomposition part:=loop_flow_from_gu<br>Flow decomposition value=%{x}<br>Branch id=%{y}<extra></extra>",
         "legendgroup": "loop_flow_from_gu",
         "marker": {
          "color": "#D626FF",
          "pattern": {
           "shape": ""
          }
         },
         "name": "loop_flow_from_gu",
         "offsetgroup": "loop_flow_from_gu",
         "orientation": "h",
         "showlegend": true,
         "textposition": "auto",
         "texttemplate": "%{x:.0f}",
         "type": "bar",
         "x": [
          null,
          15.281780663204456,
          null,
          null,
          null,
          null,
          null,
          null,
          null,
          25.607648242802952,
          null,
          null,
          null,
          null,
          null,
          7.757814886059028,
          null,
          null,
          null,
          null
         ],
         "xaxis": "x",
         "y": [
          "L1-5-1",
          "L37-40-1",
          "L37-38-1",
          "L36-88-1",
          "L35-77-1",
          "L35-76-1",
          "L35-72-1",
          "L37-41-1",
          "L34-42-1",
          "L33-40-1",
          "L33-38-1",
          "L33-34-1",
          "L3-7-1",
          "L3-19-1",
          "L3-150-1",
          "L33-41-1",
          "L26-320-1",
          "L37-89-1",
          "L38-41-1",
          "L45-60-1"
         ],
         "yaxis": "y"
        },
        {
         "alignmentgroup": "True",
         "hovertemplate": "Decomposition part:=loop_flow_from_hn<br>Flow decomposition value=%{x}<br>Branch id=%{y}<extra></extra>",
         "legendgroup": "loop_flow_from_hn",
         "marker": {
          "color": "#DA16FF",
          "pattern": {
           "shape": ""
          }
         },
         "name": "loop_flow_from_hn",
         "offsetgroup": "loop_flow_from_hn",
         "orientation": "h",
         "showlegend": true,
         "textposition": "auto",
         "texttemplate": "%{x:.0f}",
         "type": "bar",
         "x": [
          null,
          null,
          null,
          41.45101896751976,
          null,
          42.1423297810163,
          null,
          null,
          null,
          null,
          null,
          null,
          null,
          null,
          null,
          null,
          null,
          -12.785851906982089,
          null,
          null
         ],
         "xaxis": "x",
         "y": [
          "L1-5-1",
          "L37-40-1",
          "L37-38-1",
          "L36-88-1",
          "L35-77-1",
          "L35-76-1",
          "L35-72-1",
          "L37-41-1",
          "L34-42-1",
          "L33-40-1",
          "L33-38-1",
          "L33-34-1",
          "L3-7-1",
          "L3-19-1",
          "L3-150-1",
          "L33-41-1",
          "L26-320-1",
          "L37-89-1",
          "L38-41-1",
          "L45-60-1"
         ],
         "yaxis": "y"
        },
        {
         "alignmentgroup": "True",
         "hovertemplate": "Decomposition part:=loop_flow_from_id<br>Flow decomposition value=%{x}<br>Branch id=%{y}<extra></extra>",
         "legendgroup": "loop_flow_from_id",
         "marker": {
          "color": "#86CE00",
          "pattern": {
           "shape": ""
          }
         },
         "name": "loop_flow_from_id",
         "offsetgroup": "loop_flow_from_id",
         "orientation": "h",
         "showlegend": true,
         "textposition": "auto",
         "texttemplate": "%{x:.0f}",
         "type": "bar",
         "x": [
          null,
          null,
          null,
          19.839769216297658,
          -21.09363308813381,
          null,
          null,
          null,
          18.037894078385683,
          null,
          null,
          18.037894078386323,
          null,
          54.32924863621554,
          -388.62159849912814,
          null,
          null,
          null,
          8.570588983083061,
          null
         ],
         "xaxis": "x",
         "y": [
          "L1-5-1",
          "L37-40-1",
          "L37-38-1",
          "L36-88-1",
          "L35-77-1",
          "L35-76-1",
          "L35-72-1",
          "L37-41-1",
          "L34-42-1",
          "L33-40-1",
          "L33-38-1",
          "L33-34-1",
          "L3-7-1",
          "L3-19-1",
          "L3-150-1",
          "L33-41-1",
          "L26-320-1",
          "L37-89-1",
          "L38-41-1",
          "L45-60-1"
         ],
         "yaxis": "y"
        },
        {
         "alignmentgroup": "True",
         "hovertemplate": "Decomposition part:=loop_flow_from_iq<br>Flow decomposition value=%{x}<br>Branch id=%{y}<extra></extra>",
         "legendgroup": "loop_flow_from_iq",
         "marker": {
          "color": "#6A76FC",
          "pattern": {
           "shape": ""
          }
         },
         "name": "loop_flow_from_iq",
         "offsetgroup": "loop_flow_from_iq",
         "orientation": "h",
         "showlegend": true,
         "textposition": "auto",
         "texttemplate": "%{x:.0f}",
         "type": "bar",
         "x": [
          null,
          14.517860954507146,
          28.982315363602414,
          null,
          null,
          null,
          null,
          -35.29741413087651,
          -17.399047269527667,
          -15.015054517096315,
          null,
          -17.399047269527703,
          null,
          null,
          null,
          null,
          null,
          null,
          null,
          null
         ],
         "xaxis": "x",
         "y": [
          "L1-5-1",
          "L37-40-1",
          "L37-38-1",
          "L36-88-1",
          "L35-77-1",
          "L35-76-1",
          "L35-72-1",
          "L37-41-1",
          "L34-42-1",
          "L33-40-1",
          "L33-38-1",
          "L33-34-1",
          "L3-7-1",
          "L3-19-1",
          "L3-150-1",
          "L33-41-1",
          "L26-320-1",
          "L37-89-1",
          "L38-41-1",
          "L45-60-1"
         ],
         "yaxis": "y"
        },
        {
         "alignmentgroup": "True",
         "hovertemplate": "Decomposition part:=loop_flow_from_jo<br>Flow decomposition value=%{x}<br>Branch id=%{y}<extra></extra>",
         "legendgroup": "loop_flow_from_jo",
         "marker": {
          "color": "#FB00D1",
          "pattern": {
           "shape": ""
          }
         },
         "name": "loop_flow_from_jo",
         "offsetgroup": "loop_flow_from_jo",
         "orientation": "h",
         "showlegend": true,
         "textposition": "auto",
         "texttemplate": "%{x:.0f}",
         "type": "bar",
         "x": [
          null,
          null,
          null,
          -31.369096336352555,
          37.084334368571,
          null,
          null,
          null,
          null,
          null,
          null,
          null,
          null,
          null,
          292.39387106009724,
          null,
          2.4,
          -14.158665616228758,
          null,
          null
         ],
         "xaxis": "x",
         "y": [
          "L1-5-1",
          "L37-40-1",
          "L37-38-1",
          "L36-88-1",
          "L35-77-1",
          "L35-76-1",
          "L35-72-1",
          "L37-41-1",
          "L34-42-1",
          "L33-40-1",
          "L33-38-1",
          "L33-34-1",
          "L3-7-1",
          "L3-19-1",
          "L3-150-1",
          "L33-41-1",
          "L26-320-1",
          "L37-89-1",
          "L38-41-1",
          "L45-60-1"
         ],
         "yaxis": "y"
        },
        {
         "alignmentgroup": "True",
         "hovertemplate": "Decomposition part:=loop_flow_from_ke<br>Flow decomposition value=%{x}<br>Branch id=%{y}<extra></extra>",
         "legendgroup": "loop_flow_from_ke",
         "marker": {
          "color": "#EEA6FB",
          "pattern": {
           "shape": ""
          }
         },
         "name": "loop_flow_from_ke",
         "offsetgroup": "loop_flow_from_ke",
         "orientation": "h",
         "showlegend": true,
         "textposition": "auto",
         "texttemplate": "%{x:.0f}",
         "type": "bar",
         "x": [
          null,
          -47.350488159177466,
          -89.44654114469311,
          31.697512055604356,
          null,
          35.77791509180166,
          11.591504328223085,
          112.27446600813609,
          83.00094024357705,
          49.94258446912405,
          22.898229832614934,
          83.00094024357729,
          218.80617735260583,
          null,
          null,
          -10.160125941838537,
          null,
          null,
          null,
          -308.1201407977348
         ],
         "xaxis": "x",
         "y": [
          "L1-5-1",
          "L37-40-1",
          "L37-38-1",
          "L36-88-1",
          "L35-77-1",
          "L35-76-1",
          "L35-72-1",
          "L37-41-1",
          "L34-42-1",
          "L33-40-1",
          "L33-38-1",
          "L33-34-1",
          "L3-7-1",
          "L3-19-1",
          "L3-150-1",
          "L33-41-1",
          "L26-320-1",
          "L37-89-1",
          "L38-41-1",
          "L45-60-1"
         ],
         "yaxis": "y"
        },
        {
         "alignmentgroup": "True",
         "hovertemplate": "Decomposition part:=loop_flow_from_kg<br>Flow decomposition value=%{x}<br>Branch id=%{y}<extra></extra>",
         "legendgroup": "loop_flow_from_kg",
         "marker": {
          "color": "#FE00CE",
          "pattern": {
           "shape": ""
          }
         },
         "name": "loop_flow_from_kg",
         "offsetgroup": "loop_flow_from_kg",
         "orientation": "h",
         "showlegend": true,
         "textposition": "auto",
         "texttemplate": "%{x:.0f}",
         "type": "bar",
         "x": [
          25.805953460393333,
          -15.348695765571778,
          -25.428041195158023,
          null,
          93.57057760903827,
          95.3846575156718,
          -10.248492269403009,
          39.71059558180998,
          28.09278811735137,
          13.743968792277133,
          15.481140650016956,
          28.092788117351486,
          null,
          66.18364377023315,
          -448.80218777314354,
          null,
          null,
          15.495778499096541,
          null,
          null
         ],
         "xaxis": "x",
         "y": [
          "L1-5-1",
          "L37-40-1",
          "L37-38-1",
          "L36-88-1",
          "L35-77-1",
          "L35-76-1",
          "L35-72-1",
          "L37-41-1",
          "L34-42-1",
          "L33-40-1",
          "L33-38-1",
          "L33-34-1",
          "L3-7-1",
          "L3-19-1",
          "L3-150-1",
          "L33-41-1",
          "L26-320-1",
          "L37-89-1",
          "L38-41-1",
          "L45-60-1"
         ],
         "yaxis": "y"
        },
        {
         "alignmentgroup": "True",
         "hovertemplate": "Decomposition part:=loop_flow_from_lv<br>Flow decomposition value=%{x}<br>Branch id=%{y}<extra></extra>",
         "legendgroup": "loop_flow_from_lv",
         "marker": {
          "color": "#22FFA7",
          "pattern": {
           "shape": ""
          }
         },
         "name": "loop_flow_from_lv",
         "offsetgroup": "loop_flow_from_lv",
         "orientation": "h",
         "showlegend": true,
         "textposition": "auto",
         "texttemplate": "%{x:.0f}",
         "type": "bar",
         "x": [
          null,
          null,
          null,
          null,
          null,
          null,
          null,
          -22.57859727070392,
          null,
          -25.059403469343348,
          null,
          null,
          null,
          null,
          null,
          -6.549386786527012,
          null,
          null,
          null,
          -111.20844393723796
         ],
         "xaxis": "x",
         "y": [
          "L1-5-1",
          "L37-40-1",
          "L37-38-1",
          "L36-88-1",
          "L35-77-1",
          "L35-76-1",
          "L35-72-1",
          "L37-41-1",
          "L34-42-1",
          "L33-40-1",
          "L33-38-1",
          "L33-34-1",
          "L3-7-1",
          "L3-19-1",
          "L3-150-1",
          "L33-41-1",
          "L26-320-1",
          "L37-89-1",
          "L38-41-1",
          "L45-60-1"
         ],
         "yaxis": "y"
        },
        {
         "alignmentgroup": "True",
         "hovertemplate": "Decomposition part:=loop_flow_from_om<br>Flow decomposition value=%{x}<br>Branch id=%{y}<extra></extra>",
         "legendgroup": "loop_flow_from_om",
         "marker": {
          "color": "#620042",
          "pattern": {
           "shape": ""
          }
         },
         "name": "loop_flow_from_om",
         "offsetgroup": "loop_flow_from_om",
         "orientation": "h",
         "showlegend": true,
         "textposition": "auto",
         "texttemplate": "%{x:.0f}",
         "type": "bar",
         "x": [
          null,
          null,
          null,
          null,
          26.482529943376232,
          null,
          24.11643092746934,
          null,
          null,
          null,
          -13.397668424160502,
          null,
          null,
          null,
          308.7178905205649,
          null,
          null,
          -19.868427697314516,
          null,
          null
         ],
         "xaxis": "x",
         "y": [
          "L1-5-1",
          "L37-40-1",
          "L37-38-1",
          "L36-88-1",
          "L35-77-1",
          "L35-76-1",
          "L35-72-1",
          "L37-41-1",
          "L34-42-1",
          "L33-40-1",
          "L33-38-1",
          "L33-34-1",
          "L3-7-1",
          "L3-19-1",
          "L3-150-1",
          "L33-41-1",
          "L26-320-1",
          "L37-89-1",
          "L38-41-1",
          "L45-60-1"
         ],
         "yaxis": "y"
        },
        {
         "alignmentgroup": "True",
         "hovertemplate": "Decomposition part:=loop_flow_from_pn<br>Flow decomposition value=%{x}<br>Branch id=%{y}<extra></extra>",
         "legendgroup": "loop_flow_from_pn",
         "marker": {
          "color": "#FF9616",
          "pattern": {
           "shape": ""
          }
         },
         "name": "loop_flow_from_pn",
         "offsetgroup": "loop_flow_from_pn",
         "orientation": "h",
         "showlegend": true,
         "textposition": "auto",
         "texttemplate": "%{x:.0f}",
         "type": "bar",
         "x": [
          null,
          null,
          null,
          null,
          null,
          null,
          null,
          null,
          null,
          null,
          null,
          null,
          null,
          null,
          null,
          null,
          null,
          null,
          null,
          null
         ],
         "xaxis": "x",
         "y": [
          "L1-5-1",
          "L37-40-1",
          "L37-38-1",
          "L36-88-1",
          "L35-77-1",
          "L35-76-1",
          "L35-72-1",
          "L37-41-1",
          "L34-42-1",
          "L33-40-1",
          "L33-38-1",
          "L33-34-1",
          "L3-7-1",
          "L3-19-1",
          "L3-150-1",
          "L33-41-1",
          "L26-320-1",
          "L37-89-1",
          "L38-41-1",
          "L45-60-1"
         ],
         "yaxis": "y"
        },
        {
         "alignmentgroup": "True",
         "hovertemplate": "Decomposition part:=loop_flow_from_rs<br>Flow decomposition value=%{x}<br>Branch id=%{y}<extra></extra>",
         "legendgroup": "loop_flow_from_rs",
         "marker": {
          "color": "#FC6955",
          "pattern": {
           "shape": ""
          }
         },
         "name": "loop_flow_from_rs",
         "offsetgroup": "loop_flow_from_rs",
         "orientation": "h",
         "showlegend": true,
         "textposition": "auto",
         "texttemplate": "%{x:.0f}",
         "type": "bar",
         "x": [
          null,
          null,
          null,
          null,
          null,
          null,
          11.139918375166346,
          null,
          null,
          null,
          null,
          null,
          null,
          null,
          null,
          null,
          null,
          null,
          null,
          null
         ],
         "xaxis": "x",
         "y": [
          "L1-5-1",
          "L37-40-1",
          "L37-38-1",
          "L36-88-1",
          "L35-77-1",
          "L35-76-1",
          "L35-72-1",
          "L37-41-1",
          "L34-42-1",
          "L33-40-1",
          "L33-38-1",
          "L33-34-1",
          "L3-7-1",
          "L3-19-1",
          "L3-150-1",
          "L33-41-1",
          "L26-320-1",
          "L37-89-1",
          "L38-41-1",
          "L45-60-1"
         ],
         "yaxis": "y"
        },
        {
         "alignmentgroup": "True",
         "hovertemplate": "Decomposition part:=loop_flow_from_rw<br>Flow decomposition value=%{x}<br>Branch id=%{y}<extra></extra>",
         "legendgroup": "loop_flow_from_rw",
         "marker": {
          "color": "#479B55",
          "pattern": {
           "shape": ""
          }
         },
         "name": "loop_flow_from_rw",
         "offsetgroup": "loop_flow_from_rw",
         "orientation": "h",
         "showlegend": true,
         "textposition": "auto",
         "texttemplate": "%{x:.0f}",
         "type": "bar",
         "x": [
          null,
          null,
          null,
          14.432621324905073,
          -20.151980364973106,
          null,
          null,
          null,
          null,
          null,
          null,
          null,
          null,
          null,
          null,
          null,
          null,
          null,
          null,
          null
         ],
         "xaxis": "x",
         "y": [
          "L1-5-1",
          "L37-40-1",
          "L37-38-1",
          "L36-88-1",
          "L35-77-1",
          "L35-76-1",
          "L35-72-1",
          "L37-41-1",
          "L34-42-1",
          "L33-40-1",
          "L33-38-1",
          "L33-34-1",
          "L3-7-1",
          "L3-19-1",
          "L3-150-1",
          "L33-41-1",
          "L26-320-1",
          "L37-89-1",
          "L38-41-1",
          "L45-60-1"
         ],
         "yaxis": "y"
        },
        {
         "alignmentgroup": "True",
         "hovertemplate": "Decomposition part:=masked_flows_positive<br>Flow decomposition value=%{x}<br>Branch id=%{y}<extra></extra>",
         "legendgroup": "masked_flows_positive",
         "marker": {
          "color": "#6E899C",
          "pattern": {
           "shape": ""
          }
         },
         "name": "masked_flows_positive",
         "offsetgroup": "masked_flows_positive",
         "orientation": "h",
         "showlegend": true,
         "textposition": "auto",
         "texttemplate": "%{x:.0f}",
         "type": "bar",
         "x": [
          32.154768195188616,
          61.12002653593148,
          88.68804002447362,
          62.2759806067247,
          58.497023023899416,
          32.405353864299066,
          21.970140436529,
          33.08878524049855,
          46.51746734250955,
          33.26955133763529,
          16.20725845777858,
          46.517467342508844,
          466.99499807262714,
          58.34566225989283,
          531.5641448974022,
          14.645551760153818,
          0,
          23.52997903910106,
          17.597192620750395,
          282.06991981309284
         ],
         "xaxis": "x",
         "y": [
          "L1-5-1",
          "L37-40-1",
          "L37-38-1",
          "L36-88-1",
          "L35-77-1",
          "L35-76-1",
          "L35-72-1",
          "L37-41-1",
          "L34-42-1",
          "L33-40-1",
          "L33-38-1",
          "L33-34-1",
          "L3-7-1",
          "L3-19-1",
          "L3-150-1",
          "L33-41-1",
          "L26-320-1",
          "L37-89-1",
          "L38-41-1",
          "L45-60-1"
         ],
         "yaxis": "y"
        },
        {
         "alignmentgroup": "True",
         "hovertemplate": "Decomposition part:=masked_flows_negative<br>Flow decomposition value=%{x}<br>Branch id=%{y}<extra></extra>",
         "legendgroup": "masked_flows_negative",
         "marker": {
          "color": "#00FE35",
          "pattern": {
           "shape": ""
          }
         },
         "name": "masked_flows_negative",
         "offsetgroup": "masked_flows_negative",
         "orientation": "h",
         "showlegend": true,
         "textposition": "auto",
         "texttemplate": "%{x:.0f}",
         "type": "bar",
         "x": [
          -47.268967147387556,
          -8.4795284867544,
          -18.839488500443714,
          -35.07542250545467,
          -40.94339307928119,
          -31.15712289474873,
          -21.982009860162005,
          -73.29864415559321,
          -53.31352134546785,
          -44.956927848263454,
          -71.7860760290548,
          -53.31352134546803,
          -222.25039336777766,
          -182.58238654524845,
          -370.215468176462,
          -6.177414755267279,
          0,
          -13.601605590706608,
          -37.158570864941616,
          -457.7346772357971
         ],
         "xaxis": "x",
         "y": [
          "L1-5-1",
          "L37-40-1",
          "L37-38-1",
          "L36-88-1",
          "L35-77-1",
          "L35-76-1",
          "L35-72-1",
          "L37-41-1",
          "L34-42-1",
          "L33-40-1",
          "L33-38-1",
          "L33-34-1",
          "L3-7-1",
          "L3-19-1",
          "L3-150-1",
          "L33-41-1",
          "L26-320-1",
          "L37-89-1",
          "L38-41-1",
          "L45-60-1"
         ],
         "yaxis": "y"
        },
        {
         "mode": "lines+markers",
         "name": "total_flow",
         "type": "scatter",
         "x": [
          401.2156710082821,
          13.676310481558518,
          18.271209275217263,
          112.28348852842707,
          50.742237237065105,
          115.8667835623376,
          47.1589248468525,
          40.54719548008491,
          123.57966848994558,
          30.373312649956723,
          72.02311374923158,
          123.57966848994582,
          242.6770303558283,
          151.83734672749574,
          26.473022252293966,
          33.817261397528576,
          2.4,
          46.51991476533187,
          62.6599893266083,
          250.24221919377237
         ],
         "y": [
          "L1-5-1",
          "L37-40-1",
          "L37-38-1",
          "L36-88-1",
          "L35-77-1",
          "L35-76-1",
          "L35-72-1",
          "L37-41-1",
          "L34-42-1",
          "L33-40-1",
          "L33-38-1",
          "L33-34-1",
          "L3-7-1",
          "L3-19-1",
          "L3-150-1",
          "L33-41-1",
          "L26-320-1",
          "L37-89-1",
          "L38-41-1",
          "L45-60-1"
         ]
        },
        {
         "mode": "lines+markers",
         "name": "total_loop_flow",
         "type": "scatter",
         "x": [
          401.2156710082821,
          13.676310481558518,
          18.271209275217263,
          112.28348852842707,
          50.742237237065105,
          115.8667835623376,
          47.1589248468525,
          40.54719548008491,
          123.57966848994558,
          30.373312649956723,
          72.02311374923158,
          123.57966848994582,
          242.6770303558283,
          151.83734672749574,
          26.473022252293966,
          33.817261397528576,
          2.4,
          46.51991476533187,
          62.6599893266083,
          250.24221919377237
         ],
         "y": [
          "L1-5-1",
          "L37-40-1",
          "L37-38-1",
          "L36-88-1",
          "L35-77-1",
          "L35-76-1",
          "L35-72-1",
          "L37-41-1",
          "L34-42-1",
          "L33-40-1",
          "L33-38-1",
          "L33-34-1",
          "L3-7-1",
          "L3-19-1",
          "L3-150-1",
          "L33-41-1",
          "L26-320-1",
          "L37-89-1",
          "L38-41-1",
          "L45-60-1"
         ]
        }
       ],
       "layout": {
        "barmode": "relative",
        "height": 1000,
        "legend": {
         "title": {
          "text": "Decomposition part:"
         },
         "tracegroupgap": 0
        },
        "template": {
         "data": {
          "bar": [
           {
            "error_x": {
             "color": "rgb(36,36,36)"
            },
            "error_y": {
             "color": "rgb(36,36,36)"
            },
            "marker": {
             "line": {
              "color": "rgb(234,234,242)",
              "width": 0.5
             },
             "pattern": {
              "fillmode": "overlay",
              "size": 10,
              "solidity": 0.2
             }
            },
            "type": "bar"
           }
          ],
          "barpolar": [
           {
            "marker": {
             "line": {
              "color": "rgb(234,234,242)",
              "width": 0.5
             },
             "pattern": {
              "fillmode": "overlay",
              "size": 10,
              "solidity": 0.2
             }
            },
            "type": "barpolar"
           }
          ],
          "carpet": [
           {
            "aaxis": {
             "endlinecolor": "rgb(36,36,36)",
             "gridcolor": "white",
             "linecolor": "white",
             "minorgridcolor": "white",
             "startlinecolor": "rgb(36,36,36)"
            },
            "baxis": {
             "endlinecolor": "rgb(36,36,36)",
             "gridcolor": "white",
             "linecolor": "white",
             "minorgridcolor": "white",
             "startlinecolor": "rgb(36,36,36)"
            },
            "type": "carpet"
           }
          ],
          "choropleth": [
           {
            "colorbar": {
             "outlinewidth": 0,
             "tickcolor": "rgb(36,36,36)",
             "ticklen": 8,
             "ticks": "outside",
             "tickwidth": 2
            },
            "type": "choropleth"
           }
          ],
          "contour": [
           {
            "colorbar": {
             "outlinewidth": 0,
             "tickcolor": "rgb(36,36,36)",
             "ticklen": 8,
             "ticks": "outside",
             "tickwidth": 2
            },
            "colorscale": [
             [
              0,
              "rgb(2,4,25)"
             ],
             [
              0.06274509803921569,
              "rgb(24,15,41)"
             ],
             [
              0.12549019607843137,
              "rgb(47,23,57)"
             ],
             [
              0.18823529411764706,
              "rgb(71,28,72)"
             ],
             [
              0.25098039215686274,
              "rgb(97,30,82)"
             ],
             [
              0.3137254901960784,
              "rgb(123,30,89)"
             ],
             [
              0.3764705882352941,
              "rgb(150,27,91)"
             ],
             [
              0.4392156862745098,
              "rgb(177,22,88)"
             ],
             [
              0.5019607843137255,
              "rgb(203,26,79)"
             ],
             [
              0.5647058823529412,
              "rgb(223,47,67)"
             ],
             [
              0.6274509803921569,
              "rgb(236,76,61)"
             ],
             [
              0.6901960784313725,
              "rgb(242,107,73)"
             ],
             [
              0.7529411764705882,
              "rgb(244,135,95)"
             ],
             [
              0.8156862745098039,
              "rgb(245,162,122)"
             ],
             [
              0.8784313725490196,
              "rgb(246,188,153)"
             ],
             [
              0.9411764705882353,
              "rgb(247,212,187)"
             ],
             [
              1,
              "rgb(250,234,220)"
             ]
            ],
            "type": "contour"
           }
          ],
          "contourcarpet": [
           {
            "colorbar": {
             "outlinewidth": 0,
             "tickcolor": "rgb(36,36,36)",
             "ticklen": 8,
             "ticks": "outside",
             "tickwidth": 2
            },
            "type": "contourcarpet"
           }
          ],
          "heatmap": [
           {
            "colorbar": {
             "outlinewidth": 0,
             "tickcolor": "rgb(36,36,36)",
             "ticklen": 8,
             "ticks": "outside",
             "tickwidth": 2
            },
            "colorscale": [
             [
              0,
              "rgb(2,4,25)"
             ],
             [
              0.06274509803921569,
              "rgb(24,15,41)"
             ],
             [
              0.12549019607843137,
              "rgb(47,23,57)"
             ],
             [
              0.18823529411764706,
              "rgb(71,28,72)"
             ],
             [
              0.25098039215686274,
              "rgb(97,30,82)"
             ],
             [
              0.3137254901960784,
              "rgb(123,30,89)"
             ],
             [
              0.3764705882352941,
              "rgb(150,27,91)"
             ],
             [
              0.4392156862745098,
              "rgb(177,22,88)"
             ],
             [
              0.5019607843137255,
              "rgb(203,26,79)"
             ],
             [
              0.5647058823529412,
              "rgb(223,47,67)"
             ],
             [
              0.6274509803921569,
              "rgb(236,76,61)"
             ],
             [
              0.6901960784313725,
              "rgb(242,107,73)"
             ],
             [
              0.7529411764705882,
              "rgb(244,135,95)"
             ],
             [
              0.8156862745098039,
              "rgb(245,162,122)"
             ],
             [
              0.8784313725490196,
              "rgb(246,188,153)"
             ],
             [
              0.9411764705882353,
              "rgb(247,212,187)"
             ],
             [
              1,
              "rgb(250,234,220)"
             ]
            ],
            "type": "heatmap"
           }
          ],
          "heatmapgl": [
           {
            "colorbar": {
             "outlinewidth": 0,
             "tickcolor": "rgb(36,36,36)",
             "ticklen": 8,
             "ticks": "outside",
             "tickwidth": 2
            },
            "colorscale": [
             [
              0,
              "rgb(2,4,25)"
             ],
             [
              0.06274509803921569,
              "rgb(24,15,41)"
             ],
             [
              0.12549019607843137,
              "rgb(47,23,57)"
             ],
             [
              0.18823529411764706,
              "rgb(71,28,72)"
             ],
             [
              0.25098039215686274,
              "rgb(97,30,82)"
             ],
             [
              0.3137254901960784,
              "rgb(123,30,89)"
             ],
             [
              0.3764705882352941,
              "rgb(150,27,91)"
             ],
             [
              0.4392156862745098,
              "rgb(177,22,88)"
             ],
             [
              0.5019607843137255,
              "rgb(203,26,79)"
             ],
             [
              0.5647058823529412,
              "rgb(223,47,67)"
             ],
             [
              0.6274509803921569,
              "rgb(236,76,61)"
             ],
             [
              0.6901960784313725,
              "rgb(242,107,73)"
             ],
             [
              0.7529411764705882,
              "rgb(244,135,95)"
             ],
             [
              0.8156862745098039,
              "rgb(245,162,122)"
             ],
             [
              0.8784313725490196,
              "rgb(246,188,153)"
             ],
             [
              0.9411764705882353,
              "rgb(247,212,187)"
             ],
             [
              1,
              "rgb(250,234,220)"
             ]
            ],
            "type": "heatmapgl"
           }
          ],
          "histogram": [
           {
            "marker": {
             "pattern": {
              "fillmode": "overlay",
              "size": 10,
              "solidity": 0.2
             }
            },
            "type": "histogram"
           }
          ],
          "histogram2d": [
           {
            "colorbar": {
             "outlinewidth": 0,
             "tickcolor": "rgb(36,36,36)",
             "ticklen": 8,
             "ticks": "outside",
             "tickwidth": 2
            },
            "colorscale": [
             [
              0,
              "rgb(2,4,25)"
             ],
             [
              0.06274509803921569,
              "rgb(24,15,41)"
             ],
             [
              0.12549019607843137,
              "rgb(47,23,57)"
             ],
             [
              0.18823529411764706,
              "rgb(71,28,72)"
             ],
             [
              0.25098039215686274,
              "rgb(97,30,82)"
             ],
             [
              0.3137254901960784,
              "rgb(123,30,89)"
             ],
             [
              0.3764705882352941,
              "rgb(150,27,91)"
             ],
             [
              0.4392156862745098,
              "rgb(177,22,88)"
             ],
             [
              0.5019607843137255,
              "rgb(203,26,79)"
             ],
             [
              0.5647058823529412,
              "rgb(223,47,67)"
             ],
             [
              0.6274509803921569,
              "rgb(236,76,61)"
             ],
             [
              0.6901960784313725,
              "rgb(242,107,73)"
             ],
             [
              0.7529411764705882,
              "rgb(244,135,95)"
             ],
             [
              0.8156862745098039,
              "rgb(245,162,122)"
             ],
             [
              0.8784313725490196,
              "rgb(246,188,153)"
             ],
             [
              0.9411764705882353,
              "rgb(247,212,187)"
             ],
             [
              1,
              "rgb(250,234,220)"
             ]
            ],
            "type": "histogram2d"
           }
          ],
          "histogram2dcontour": [
           {
            "colorbar": {
             "outlinewidth": 0,
             "tickcolor": "rgb(36,36,36)",
             "ticklen": 8,
             "ticks": "outside",
             "tickwidth": 2
            },
            "colorscale": [
             [
              0,
              "rgb(2,4,25)"
             ],
             [
              0.06274509803921569,
              "rgb(24,15,41)"
             ],
             [
              0.12549019607843137,
              "rgb(47,23,57)"
             ],
             [
              0.18823529411764706,
              "rgb(71,28,72)"
             ],
             [
              0.25098039215686274,
              "rgb(97,30,82)"
             ],
             [
              0.3137254901960784,
              "rgb(123,30,89)"
             ],
             [
              0.3764705882352941,
              "rgb(150,27,91)"
             ],
             [
              0.4392156862745098,
              "rgb(177,22,88)"
             ],
             [
              0.5019607843137255,
              "rgb(203,26,79)"
             ],
             [
              0.5647058823529412,
              "rgb(223,47,67)"
             ],
             [
              0.6274509803921569,
              "rgb(236,76,61)"
             ],
             [
              0.6901960784313725,
              "rgb(242,107,73)"
             ],
             [
              0.7529411764705882,
              "rgb(244,135,95)"
             ],
             [
              0.8156862745098039,
              "rgb(245,162,122)"
             ],
             [
              0.8784313725490196,
              "rgb(246,188,153)"
             ],
             [
              0.9411764705882353,
              "rgb(247,212,187)"
             ],
             [
              1,
              "rgb(250,234,220)"
             ]
            ],
            "type": "histogram2dcontour"
           }
          ],
          "mesh3d": [
           {
            "colorbar": {
             "outlinewidth": 0,
             "tickcolor": "rgb(36,36,36)",
             "ticklen": 8,
             "ticks": "outside",
             "tickwidth": 2
            },
            "type": "mesh3d"
           }
          ],
          "parcoords": [
           {
            "line": {
             "colorbar": {
              "outlinewidth": 0,
              "tickcolor": "rgb(36,36,36)",
              "ticklen": 8,
              "ticks": "outside",
              "tickwidth": 2
             }
            },
            "type": "parcoords"
           }
          ],
          "pie": [
           {
            "automargin": true,
            "type": "pie"
           }
          ],
          "scatter": [
           {
            "fillpattern": {
             "fillmode": "overlay",
             "size": 10,
             "solidity": 0.2
            },
            "type": "scatter"
           }
          ],
          "scatter3d": [
           {
            "line": {
             "colorbar": {
              "outlinewidth": 0,
              "tickcolor": "rgb(36,36,36)",
              "ticklen": 8,
              "ticks": "outside",
              "tickwidth": 2
             }
            },
            "marker": {
             "colorbar": {
              "outlinewidth": 0,
              "tickcolor": "rgb(36,36,36)",
              "ticklen": 8,
              "ticks": "outside",
              "tickwidth": 2
             }
            },
            "type": "scatter3d"
           }
          ],
          "scattercarpet": [
           {
            "marker": {
             "colorbar": {
              "outlinewidth": 0,
              "tickcolor": "rgb(36,36,36)",
              "ticklen": 8,
              "ticks": "outside",
              "tickwidth": 2
             }
            },
            "type": "scattercarpet"
           }
          ],
          "scattergeo": [
           {
            "marker": {
             "colorbar": {
              "outlinewidth": 0,
              "tickcolor": "rgb(36,36,36)",
              "ticklen": 8,
              "ticks": "outside",
              "tickwidth": 2
             }
            },
            "type": "scattergeo"
           }
          ],
          "scattergl": [
           {
            "marker": {
             "colorbar": {
              "outlinewidth": 0,
              "tickcolor": "rgb(36,36,36)",
              "ticklen": 8,
              "ticks": "outside",
              "tickwidth": 2
             }
            },
            "type": "scattergl"
           }
          ],
          "scattermapbox": [
           {
            "marker": {
             "colorbar": {
              "outlinewidth": 0,
              "tickcolor": "rgb(36,36,36)",
              "ticklen": 8,
              "ticks": "outside",
              "tickwidth": 2
             }
            },
            "type": "scattermapbox"
           }
          ],
          "scatterpolar": [
           {
            "marker": {
             "colorbar": {
              "outlinewidth": 0,
              "tickcolor": "rgb(36,36,36)",
              "ticklen": 8,
              "ticks": "outside",
              "tickwidth": 2
             }
            },
            "type": "scatterpolar"
           }
          ],
          "scatterpolargl": [
           {
            "marker": {
             "colorbar": {
              "outlinewidth": 0,
              "tickcolor": "rgb(36,36,36)",
              "ticklen": 8,
              "ticks": "outside",
              "tickwidth": 2
             }
            },
            "type": "scatterpolargl"
           }
          ],
          "scatterternary": [
           {
            "marker": {
             "colorbar": {
              "outlinewidth": 0,
              "tickcolor": "rgb(36,36,36)",
              "ticklen": 8,
              "ticks": "outside",
              "tickwidth": 2
             }
            },
            "type": "scatterternary"
           }
          ],
          "surface": [
           {
            "colorbar": {
             "outlinewidth": 0,
             "tickcolor": "rgb(36,36,36)",
             "ticklen": 8,
             "ticks": "outside",
             "tickwidth": 2
            },
            "colorscale": [
             [
              0,
              "rgb(2,4,25)"
             ],
             [
              0.06274509803921569,
              "rgb(24,15,41)"
             ],
             [
              0.12549019607843137,
              "rgb(47,23,57)"
             ],
             [
              0.18823529411764706,
              "rgb(71,28,72)"
             ],
             [
              0.25098039215686274,
              "rgb(97,30,82)"
             ],
             [
              0.3137254901960784,
              "rgb(123,30,89)"
             ],
             [
              0.3764705882352941,
              "rgb(150,27,91)"
             ],
             [
              0.4392156862745098,
              "rgb(177,22,88)"
             ],
             [
              0.5019607843137255,
              "rgb(203,26,79)"
             ],
             [
              0.5647058823529412,
              "rgb(223,47,67)"
             ],
             [
              0.6274509803921569,
              "rgb(236,76,61)"
             ],
             [
              0.6901960784313725,
              "rgb(242,107,73)"
             ],
             [
              0.7529411764705882,
              "rgb(244,135,95)"
             ],
             [
              0.8156862745098039,
              "rgb(245,162,122)"
             ],
             [
              0.8784313725490196,
              "rgb(246,188,153)"
             ],
             [
              0.9411764705882353,
              "rgb(247,212,187)"
             ],
             [
              1,
              "rgb(250,234,220)"
             ]
            ],
            "type": "surface"
           }
          ],
          "table": [
           {
            "cells": {
             "fill": {
              "color": "rgb(231,231,240)"
             },
             "line": {
              "color": "white"
             }
            },
            "header": {
             "fill": {
              "color": "rgb(183,183,191)"
             },
             "line": {
              "color": "white"
             }
            },
            "type": "table"
           }
          ]
         },
         "layout": {
          "annotationdefaults": {
           "arrowcolor": "rgb(67,103,167)"
          },
          "autotypenumbers": "strict",
          "coloraxis": {
           "colorbar": {
            "outlinewidth": 0,
            "tickcolor": "rgb(36,36,36)",
            "ticklen": 8,
            "ticks": "outside",
            "tickwidth": 2
           }
          },
          "colorscale": {
           "sequential": [
            [
             0,
             "rgb(2,4,25)"
            ],
            [
             0.06274509803921569,
             "rgb(24,15,41)"
            ],
            [
             0.12549019607843137,
             "rgb(47,23,57)"
            ],
            [
             0.18823529411764706,
             "rgb(71,28,72)"
            ],
            [
             0.25098039215686274,
             "rgb(97,30,82)"
            ],
            [
             0.3137254901960784,
             "rgb(123,30,89)"
            ],
            [
             0.3764705882352941,
             "rgb(150,27,91)"
            ],
            [
             0.4392156862745098,
             "rgb(177,22,88)"
            ],
            [
             0.5019607843137255,
             "rgb(203,26,79)"
            ],
            [
             0.5647058823529412,
             "rgb(223,47,67)"
            ],
            [
             0.6274509803921569,
             "rgb(236,76,61)"
            ],
            [
             0.6901960784313725,
             "rgb(242,107,73)"
            ],
            [
             0.7529411764705882,
             "rgb(244,135,95)"
            ],
            [
             0.8156862745098039,
             "rgb(245,162,122)"
            ],
            [
             0.8784313725490196,
             "rgb(246,188,153)"
            ],
            [
             0.9411764705882353,
             "rgb(247,212,187)"
            ],
            [
             1,
             "rgb(250,234,220)"
            ]
           ],
           "sequentialminus": [
            [
             0,
             "rgb(2,4,25)"
            ],
            [
             0.06274509803921569,
             "rgb(24,15,41)"
            ],
            [
             0.12549019607843137,
             "rgb(47,23,57)"
            ],
            [
             0.18823529411764706,
             "rgb(71,28,72)"
            ],
            [
             0.25098039215686274,
             "rgb(97,30,82)"
            ],
            [
             0.3137254901960784,
             "rgb(123,30,89)"
            ],
            [
             0.3764705882352941,
             "rgb(150,27,91)"
            ],
            [
             0.4392156862745098,
             "rgb(177,22,88)"
            ],
            [
             0.5019607843137255,
             "rgb(203,26,79)"
            ],
            [
             0.5647058823529412,
             "rgb(223,47,67)"
            ],
            [
             0.6274509803921569,
             "rgb(236,76,61)"
            ],
            [
             0.6901960784313725,
             "rgb(242,107,73)"
            ],
            [
             0.7529411764705882,
             "rgb(244,135,95)"
            ],
            [
             0.8156862745098039,
             "rgb(245,162,122)"
            ],
            [
             0.8784313725490196,
             "rgb(246,188,153)"
            ],
            [
             0.9411764705882353,
             "rgb(247,212,187)"
            ],
            [
             1,
             "rgb(250,234,220)"
            ]
           ]
          },
          "colorway": [
           "rgb(76,114,176)",
           "rgb(221,132,82)",
           "rgb(85,168,104)",
           "rgb(196,78,82)",
           "rgb(129,114,179)",
           "rgb(147,120,96)",
           "rgb(218,139,195)",
           "rgb(140,140,140)",
           "rgb(204,185,116)",
           "rgb(100,181,205)"
          ],
          "font": {
           "color": "rgb(36,36,36)"
          },
          "geo": {
           "bgcolor": "white",
           "lakecolor": "white",
           "landcolor": "rgb(234,234,242)",
           "showlakes": true,
           "showland": true,
           "subunitcolor": "white"
          },
          "hoverlabel": {
           "align": "left"
          },
          "hovermode": "closest",
          "paper_bgcolor": "white",
          "plot_bgcolor": "rgb(234,234,242)",
          "polar": {
           "angularaxis": {
            "gridcolor": "white",
            "linecolor": "white",
            "showgrid": true,
            "ticks": ""
           },
           "bgcolor": "rgb(234,234,242)",
           "radialaxis": {
            "gridcolor": "white",
            "linecolor": "white",
            "showgrid": true,
            "ticks": ""
           }
          },
          "scene": {
           "xaxis": {
            "backgroundcolor": "rgb(234,234,242)",
            "gridcolor": "white",
            "gridwidth": 2,
            "linecolor": "white",
            "showbackground": true,
            "showgrid": true,
            "ticks": "",
            "zerolinecolor": "white"
           },
           "yaxis": {
            "backgroundcolor": "rgb(234,234,242)",
            "gridcolor": "white",
            "gridwidth": 2,
            "linecolor": "white",
            "showbackground": true,
            "showgrid": true,
            "ticks": "",
            "zerolinecolor": "white"
           },
           "zaxis": {
            "backgroundcolor": "rgb(234,234,242)",
            "gridcolor": "white",
            "gridwidth": 2,
            "linecolor": "white",
            "showbackground": true,
            "showgrid": true,
            "ticks": "",
            "zerolinecolor": "white"
           }
          },
          "shapedefaults": {
           "fillcolor": "rgb(67,103,167)",
           "line": {
            "width": 0
           },
           "opacity": 0.5
          },
          "ternary": {
           "aaxis": {
            "gridcolor": "white",
            "linecolor": "white",
            "showgrid": true,
            "ticks": ""
           },
           "baxis": {
            "gridcolor": "white",
            "linecolor": "white",
            "showgrid": true,
            "ticks": ""
           },
           "bgcolor": "rgb(234,234,242)",
           "caxis": {
            "gridcolor": "white",
            "linecolor": "white",
            "showgrid": true,
            "ticks": ""
           }
          },
          "xaxis": {
           "automargin": true,
           "gridcolor": "white",
           "linecolor": "white",
           "showgrid": true,
           "ticks": "",
           "title": {
            "standoff": 15
           },
           "zerolinecolor": "white"
          },
          "yaxis": {
           "automargin": true,
           "gridcolor": "white",
           "linecolor": "white",
           "showgrid": true,
           "ticks": "",
           "title": {
            "standoff": 15
           },
           "zerolinecolor": "white"
          }
         }
        },
        "title": {
         "text": "Sorted by: pst_flow, ascending: True, head: 20"
        },
        "xaxis": {
         "anchor": "y",
         "domain": [
          0,
          1
         ],
         "title": {
          "text": "Flow decomposition value"
         }
        },
        "yaxis": {
         "anchor": "x",
         "domain": [
          0,
          1
         ],
         "title": {
          "text": "Branch id"
         }
        }
       }
      }
     },
     "metadata": {},
     "output_type": "display_data"
    }
   ],
   "source": [
    "flow_decomposition_bar_chart('pst_flow', ascending=True)"
   ]
  },
  {
   "cell_type": "code",
   "execution_count": 22,
   "metadata": {},
   "outputs": [
    {
     "data": {
      "application/vnd.plotly.v1+json": {
       "config": {
        "plotlyServerURL": "https://plot.ly"
       },
       "data": [
        {
         "alignmentgroup": "True",
         "hovertemplate": "Decomposition part:=commercial_flow<br>Flow decomposition value=%{x}<br>Branch id=%{y}<extra></extra>",
         "legendgroup": "commercial_flow",
         "marker": {
          "color": "#0DF9FF",
          "pattern": {
           "shape": ""
          }
         },
         "name": "commercial_flow",
         "offsetgroup": "commercial_flow",
         "orientation": "h",
         "showlegend": true,
         "textposition": "auto",
         "texttemplate": "%{x:.0f}",
         "type": "bar",
         "x": [
          null,
          null,
          null,
          null,
          null,
          null,
          null,
          null,
          null,
          null,
          null,
          null,
          null,
          null,
          null,
          null,
          null,
          null,
          null,
          null
         ],
         "xaxis": "x",
         "y": [
          "L224-225-1",
          "L219-237-1",
          "L191-192-1",
          "L192-225-1",
          "L225-191-1",
          "L195-219-1",
          "L39-42-1",
          "L81-194-1",
          "L74-88-1",
          "L3-7-1",
          "L217-220-1",
          "L216-217-1",
          "L41-42-1",
          "L3-150-1",
          "L59-61-1",
          "L220-218-1",
          "L235-238-1",
          "L137-140-1",
          "L43-44-1",
          "L44-54-1"
         ],
         "yaxis": "y"
        },
        {
         "alignmentgroup": "True",
         "hovertemplate": "Decomposition part:=pst_flow<br>Flow decomposition value=%{x}<br>Branch id=%{y}<extra></extra>",
         "legendgroup": "pst_flow",
         "marker": {
          "color": "#AF0038",
          "pattern": {
           "shape": ""
          }
         },
         "name": "pst_flow",
         "offsetgroup": "pst_flow",
         "orientation": "h",
         "showlegend": true,
         "textposition": "auto",
         "texttemplate": "%{x:.0f}",
         "type": "bar",
         "x": [
          null,
          null,
          null,
          null,
          null,
          null,
          null,
          null,
          null,
          null,
          null,
          null,
          null,
          null,
          null,
          null,
          null,
          null,
          null,
          null
         ],
         "xaxis": "x",
         "y": [
          "L224-225-1",
          "L219-237-1",
          "L191-192-1",
          "L192-225-1",
          "L225-191-1",
          "L195-219-1",
          "L39-42-1",
          "L81-194-1",
          "L74-88-1",
          "L3-7-1",
          "L217-220-1",
          "L216-217-1",
          "L41-42-1",
          "L3-150-1",
          "L59-61-1",
          "L220-218-1",
          "L235-238-1",
          "L137-140-1",
          "L43-44-1",
          "L44-54-1"
         ],
         "yaxis": "y"
        },
        {
         "alignmentgroup": "True",
         "hovertemplate": "Decomposition part:=loop_flow_from_ag<br>Flow decomposition value=%{x}<br>Branch id=%{y}<extra></extra>",
         "legendgroup": "loop_flow_from_ag",
         "marker": {
          "color": "#FD3216",
          "pattern": {
           "shape": ""
          }
         },
         "name": "loop_flow_from_ag",
         "offsetgroup": "loop_flow_from_ag",
         "orientation": "h",
         "showlegend": true,
         "textposition": "auto",
         "texttemplate": "%{x:.0f}",
         "type": "bar",
         "x": [
          -800.0000000000019,
          -537.3188320330504,
          61.01694915254252,
          -738.9830508474577,
          -61.016949152542246,
          -341.08266947105926,
          null,
          -319.1585231575957,
          -149.50989379831327,
          -197.3259987560648,
          -126.87777717020846,
          -94.67815794081415,
          null,
          -457.2314334825281,
          42.03921283612711,
          -90.72274136621421,
          -77.49065913542591,
          283.35622056514995,
          -60.59605170412465,
          -50.318000891043724
         ],
         "xaxis": "x",
         "y": [
          "L224-225-1",
          "L219-237-1",
          "L191-192-1",
          "L192-225-1",
          "L225-191-1",
          "L195-219-1",
          "L39-42-1",
          "L81-194-1",
          "L74-88-1",
          "L3-7-1",
          "L217-220-1",
          "L216-217-1",
          "L41-42-1",
          "L3-150-1",
          "L59-61-1",
          "L220-218-1",
          "L235-238-1",
          "L137-140-1",
          "L43-44-1",
          "L44-54-1"
         ],
         "yaxis": "y"
        },
        {
         "alignmentgroup": "True",
         "hovertemplate": "Decomposition part:=loop_flow_from_az<br>Flow decomposition value=%{x}<br>Branch id=%{y}<extra></extra>",
         "legendgroup": "loop_flow_from_az",
         "marker": {
          "color": "#00A08B",
          "pattern": {
           "shape": ""
          }
         },
         "name": "loop_flow_from_az",
         "offsetgroup": "loop_flow_from_az",
         "orientation": "h",
         "showlegend": true,
         "textposition": "auto",
         "texttemplate": "%{x:.0f}",
         "type": "bar",
         "x": [
          -410.000000000001,
          -485.41442351382943,
          null,
          null,
          null,
          -300.3719893702446,
          null,
          -302.14194571910866,
          -128.88093376087215,
          202.34977257666102,
          -92.2921750873097,
          null,
          42.51262634782989,
          396.51585382990214,
          null,
          -71.81503267007987,
          -45.036611254461896,
          null,
          -53.204422868791646,
          -21.78630362178426
         ],
         "xaxis": "x",
         "y": [
          "L224-225-1",
          "L219-237-1",
          "L191-192-1",
          "L192-225-1",
          "L225-191-1",
          "L195-219-1",
          "L39-42-1",
          "L81-194-1",
          "L74-88-1",
          "L3-7-1",
          "L217-220-1",
          "L216-217-1",
          "L41-42-1",
          "L3-150-1",
          "L59-61-1",
          "L220-218-1",
          "L235-238-1",
          "L137-140-1",
          "L43-44-1",
          "L44-54-1"
         ],
         "yaxis": "y"
        },
        {
         "alignmentgroup": "True",
         "hovertemplate": "Decomposition part:=loop_flow_from_be<br>Flow decomposition value=%{x}<br>Branch id=%{y}<extra></extra>",
         "legendgroup": "loop_flow_from_be",
         "marker": {
          "color": "#6C4516",
          "pattern": {
           "shape": ""
          }
         },
         "name": "loop_flow_from_be",
         "offsetgroup": "loop_flow_from_be",
         "orientation": "h",
         "showlegend": true,
         "textposition": "auto",
         "texttemplate": "%{x:.0f}",
         "type": "bar",
         "x": [
          null,
          307.34426342161527,
          null,
          null,
          null,
          null,
          null,
          null,
          null,
          null,
          null,
          73.0457432037831,
          null,
          null,
          97.51524668012924,
          null,
          null,
          null,
          48.186122328700655,
          null
         ],
         "xaxis": "x",
         "y": [
          "L224-225-1",
          "L219-237-1",
          "L191-192-1",
          "L192-225-1",
          "L225-191-1",
          "L195-219-1",
          "L39-42-1",
          "L81-194-1",
          "L74-88-1",
          "L3-7-1",
          "L217-220-1",
          "L216-217-1",
          "L41-42-1",
          "L3-150-1",
          "L59-61-1",
          "L220-218-1",
          "L235-238-1",
          "L137-140-1",
          "L43-44-1",
          "L44-54-1"
         ],
         "yaxis": "y"
        },
        {
         "alignmentgroup": "True",
         "hovertemplate": "Decomposition part:=loop_flow_from_cd<br>Flow decomposition value=%{x}<br>Branch id=%{y}<extra></extra>",
         "legendgroup": "loop_flow_from_cd",
         "marker": {
          "color": "#511CFB",
          "pattern": {
           "shape": ""
          }
         },
         "name": "loop_flow_from_cd",
         "offsetgroup": "loop_flow_from_cd",
         "orientation": "h",
         "showlegend": true,
         "textposition": "auto",
         "texttemplate": "%{x:.0f}",
         "type": "bar",
         "x": [
          null,
          null,
          null,
          null,
          null,
          null,
          null,
          null,
          null,
          null,
          null,
          null,
          -33.414950395568084,
          281.5279476740669,
          null,
          null,
          null,
          -237.33112772361676,
          null,
          null
         ],
         "xaxis": "x",
         "y": [
          "L224-225-1",
          "L219-237-1",
          "L191-192-1",
          "L192-225-1",
          "L225-191-1",
          "L195-219-1",
          "L39-42-1",
          "L81-194-1",
          "L74-88-1",
          "L3-7-1",
          "L217-220-1",
          "L216-217-1",
          "L41-42-1",
          "L3-150-1",
          "L59-61-1",
          "L220-218-1",
          "L235-238-1",
          "L137-140-1",
          "L43-44-1",
          "L44-54-1"
         ],
         "yaxis": "y"
        },
        {
         "alignmentgroup": "True",
         "hovertemplate": "Decomposition part:=loop_flow_from_cl<br>Flow decomposition value=%{x}<br>Branch id=%{y}<extra></extra>",
         "legendgroup": "loop_flow_from_cl",
         "marker": {
          "color": "#F6F926",
          "pattern": {
           "shape": ""
          }
         },
         "name": "loop_flow_from_cl",
         "offsetgroup": "loop_flow_from_cl",
         "orientation": "h",
         "showlegend": true,
         "textposition": "auto",
         "texttemplate": "%{x:.0f}",
         "type": "bar",
         "x": [
          null,
          null,
          null,
          null,
          null,
          null,
          null,
          null,
          null,
          258.2374755466953,
          null,
          null,
          null,
          -496.88886260276513,
          34.8053902191533,
          null,
          null,
          null,
          38.916822303301004,
          null
         ],
         "xaxis": "x",
         "y": [
          "L224-225-1",
          "L219-237-1",
          "L191-192-1",
          "L192-225-1",
          "L225-191-1",
          "L195-219-1",
          "L39-42-1",
          "L81-194-1",
          "L74-88-1",
          "L3-7-1",
          "L217-220-1",
          "L216-217-1",
          "L41-42-1",
          "L3-150-1",
          "L59-61-1",
          "L220-218-1",
          "L235-238-1",
          "L137-140-1",
          "L43-44-1",
          "L44-54-1"
         ],
         "yaxis": "y"
        },
        {
         "alignmentgroup": "True",
         "hovertemplate": "Decomposition part:=loop_flow_from_dz<br>Flow decomposition value=%{x}<br>Branch id=%{y}<extra></extra>",
         "legendgroup": "loop_flow_from_dz",
         "marker": {
          "color": "#C9FBE5",
          "pattern": {
           "shape": ""
          }
         },
         "name": "loop_flow_from_dz",
         "offsetgroup": "loop_flow_from_dz",
         "orientation": "h",
         "showlegend": true,
         "textposition": "auto",
         "texttemplate": "%{x:.0f}",
         "type": "bar",
         "x": [
          null,
          -520.566528608919,
          null,
          null,
          null,
          -318.69347911382533,
          null,
          -306.4886672754088,
          -153.88475369426902,
          -288.1617448155338,
          null,
          -58.790300517557824,
          null,
          null,
          52.443955607166025,
          null,
          null,
          null,
          -31.386987109510226,
          -25.310500547241066
         ],
         "xaxis": "x",
         "y": [
          "L224-225-1",
          "L219-237-1",
          "L191-192-1",
          "L192-225-1",
          "L225-191-1",
          "L195-219-1",
          "L39-42-1",
          "L81-194-1",
          "L74-88-1",
          "L3-7-1",
          "L217-220-1",
          "L216-217-1",
          "L41-42-1",
          "L3-150-1",
          "L59-61-1",
          "L220-218-1",
          "L235-238-1",
          "L137-140-1",
          "L43-44-1",
          "L44-54-1"
         ],
         "yaxis": "y"
        },
        {
         "alignmentgroup": "True",
         "hovertemplate": "Decomposition part:=loop_flow_from_es<br>Flow decomposition value=%{x}<br>Branch id=%{y}<extra></extra>",
         "legendgroup": "loop_flow_from_es",
         "marker": {
          "color": "#FC0080",
          "pattern": {
           "shape": ""
          }
         },
         "name": "loop_flow_from_es",
         "offsetgroup": "loop_flow_from_es",
         "orientation": "h",
         "showlegend": true,
         "textposition": "auto",
         "texttemplate": "%{x:.0f}",
         "type": "bar",
         "x": [
          null,
          null,
          null,
          null,
          null,
          null,
          null,
          null,
          null,
          -195.97325625338487,
          -61.717442990897894,
          null,
          null,
          null,
          null,
          -49.94778855339733,
          -47.28363014075218,
          null,
          null,
          null
         ],
         "xaxis": "x",
         "y": [
          "L224-225-1",
          "L219-237-1",
          "L191-192-1",
          "L192-225-1",
          "L225-191-1",
          "L195-219-1",
          "L39-42-1",
          "L81-194-1",
          "L74-88-1",
          "L3-7-1",
          "L217-220-1",
          "L216-217-1",
          "L41-42-1",
          "L3-150-1",
          "L59-61-1",
          "L220-218-1",
          "L235-238-1",
          "L137-140-1",
          "L43-44-1",
          "L44-54-1"
         ],
         "yaxis": "y"
        },
        {
         "alignmentgroup": "True",
         "hovertemplate": "Decomposition part:=loop_flow_from_gr<br>Flow decomposition value=%{x}<br>Branch id=%{y}<extra></extra>",
         "legendgroup": "loop_flow_from_gr",
         "marker": {
          "color": "#FB0D0D",
          "pattern": {
           "shape": ""
          }
         },
         "name": "loop_flow_from_gr",
         "offsetgroup": "loop_flow_from_gr",
         "orientation": "h",
         "showlegend": true,
         "textposition": "auto",
         "texttemplate": "%{x:.0f}",
         "type": "bar",
         "x": [
          null,
          null,
          null,
          null,
          null,
          null,
          null,
          null,
          null,
          null,
          null,
          null,
          -39.92390007738369,
          377.5128648042874,
          -34.59156352779481,
          null,
          null,
          -305.3166493843335,
          null,
          null
         ],
         "xaxis": "x",
         "y": [
          "L224-225-1",
          "L219-237-1",
          "L191-192-1",
          "L192-225-1",
          "L225-191-1",
          "L195-219-1",
          "L39-42-1",
          "L81-194-1",
          "L74-88-1",
          "L3-7-1",
          "L217-220-1",
          "L216-217-1",
          "L41-42-1",
          "L3-150-1",
          "L59-61-1",
          "L220-218-1",
          "L235-238-1",
          "L137-140-1",
          "L43-44-1",
          "L44-54-1"
         ],
         "yaxis": "y"
        },
        {
         "alignmentgroup": "True",
         "hovertemplate": "Decomposition part:=loop_flow_from_gu<br>Flow decomposition value=%{x}<br>Branch id=%{y}<extra></extra>",
         "legendgroup": "loop_flow_from_gu",
         "marker": {
          "color": "#D626FF",
          "pattern": {
           "shape": ""
          }
         },
         "name": "loop_flow_from_gu",
         "offsetgroup": "loop_flow_from_gu",
         "orientation": "h",
         "showlegend": true,
         "textposition": "auto",
         "texttemplate": "%{x:.0f}",
         "type": "bar",
         "x": [
          null,
          null,
          null,
          null,
          null,
          null,
          null,
          null,
          null,
          null,
          null,
          null,
          null,
          null,
          null,
          null,
          null,
          null,
          null,
          null
         ],
         "xaxis": "x",
         "y": [
          "L224-225-1",
          "L219-237-1",
          "L191-192-1",
          "L192-225-1",
          "L225-191-1",
          "L195-219-1",
          "L39-42-1",
          "L81-194-1",
          "L74-88-1",
          "L3-7-1",
          "L217-220-1",
          "L216-217-1",
          "L41-42-1",
          "L3-150-1",
          "L59-61-1",
          "L220-218-1",
          "L235-238-1",
          "L137-140-1",
          "L43-44-1",
          "L44-54-1"
         ],
         "yaxis": "y"
        },
        {
         "alignmentgroup": "True",
         "hovertemplate": "Decomposition part:=loop_flow_from_hn<br>Flow decomposition value=%{x}<br>Branch id=%{y}<extra></extra>",
         "legendgroup": "loop_flow_from_hn",
         "marker": {
          "color": "#DA16FF",
          "pattern": {
           "shape": ""
          }
         },
         "name": "loop_flow_from_hn",
         "offsetgroup": "loop_flow_from_hn",
         "orientation": "h",
         "showlegend": true,
         "textposition": "auto",
         "texttemplate": "%{x:.0f}",
         "type": "bar",
         "x": [
          null,
          384.34411248745334,
          null,
          null,
          null,
          323.28113543022505,
          null,
          263.0669443323404,
          168.61104709141154,
          null,
          192.5684565356635,
          131.50569678409303,
          null,
          null,
          null,
          140.94120752354536,
          156.78417113835758,
          245.7678385678565,
          null,
          null
         ],
         "xaxis": "x",
         "y": [
          "L224-225-1",
          "L219-237-1",
          "L191-192-1",
          "L192-225-1",
          "L225-191-1",
          "L195-219-1",
          "L39-42-1",
          "L81-194-1",
          "L74-88-1",
          "L3-7-1",
          "L217-220-1",
          "L216-217-1",
          "L41-42-1",
          "L3-150-1",
          "L59-61-1",
          "L220-218-1",
          "L235-238-1",
          "L137-140-1",
          "L43-44-1",
          "L44-54-1"
         ],
         "yaxis": "y"
        },
        {
         "alignmentgroup": "True",
         "hovertemplate": "Decomposition part:=loop_flow_from_id<br>Flow decomposition value=%{x}<br>Branch id=%{y}<extra></extra>",
         "legendgroup": "loop_flow_from_id",
         "marker": {
          "color": "#86CE00",
          "pattern": {
           "shape": ""
          }
         },
         "name": "loop_flow_from_id",
         "offsetgroup": "loop_flow_from_id",
         "orientation": "h",
         "showlegend": true,
         "textposition": "auto",
         "texttemplate": "%{x:.0f}",
         "type": "bar",
         "x": [
          null,
          null,
          null,
          null,
          null,
          null,
          null,
          null,
          null,
          null,
          null,
          null,
          38.81535444369401,
          -388.62159849912814,
          null,
          null,
          null,
          244.23167774283306,
          null,
          null
         ],
         "xaxis": "x",
         "y": [
          "L224-225-1",
          "L219-237-1",
          "L191-192-1",
          "L192-225-1",
          "L225-191-1",
          "L195-219-1",
          "L39-42-1",
          "L81-194-1",
          "L74-88-1",
          "L3-7-1",
          "L217-220-1",
          "L216-217-1",
          "L41-42-1",
          "L3-150-1",
          "L59-61-1",
          "L220-218-1",
          "L235-238-1",
          "L137-140-1",
          "L43-44-1",
          "L44-54-1"
         ],
         "yaxis": "y"
        },
        {
         "alignmentgroup": "True",
         "hovertemplate": "Decomposition part:=loop_flow_from_iq<br>Flow decomposition value=%{x}<br>Branch id=%{y}<extra></extra>",
         "legendgroup": "loop_flow_from_iq",
         "marker": {
          "color": "#6A76FC",
          "pattern": {
           "shape": ""
          }
         },
         "name": "loop_flow_from_iq",
         "offsetgroup": "loop_flow_from_iq",
         "orientation": "h",
         "showlegend": true,
         "textposition": "auto",
         "texttemplate": "%{x:.0f}",
         "type": "bar",
         "x": [
          null,
          -228.69506349688223,
          null,
          null,
          null,
          null,
          null,
          null,
          null,
          null,
          -93.91418175697655,
          -75.70200903088885,
          -40.47684006286957,
          null,
          null,
          -65.65522381355674,
          -78.13976025000144,
          null,
          null,
          -21.732792103077852
         ],
         "xaxis": "x",
         "y": [
          "L224-225-1",
          "L219-237-1",
          "L191-192-1",
          "L192-225-1",
          "L225-191-1",
          "L195-219-1",
          "L39-42-1",
          "L81-194-1",
          "L74-88-1",
          "L3-7-1",
          "L217-220-1",
          "L216-217-1",
          "L41-42-1",
          "L3-150-1",
          "L59-61-1",
          "L220-218-1",
          "L235-238-1",
          "L137-140-1",
          "L43-44-1",
          "L44-54-1"
         ],
         "yaxis": "y"
        },
        {
         "alignmentgroup": "True",
         "hovertemplate": "Decomposition part:=loop_flow_from_jo<br>Flow decomposition value=%{x}<br>Branch id=%{y}<extra></extra>",
         "legendgroup": "loop_flow_from_jo",
         "marker": {
          "color": "#FB00D1",
          "pattern": {
           "shape": ""
          }
         },
         "name": "loop_flow_from_jo",
         "offsetgroup": "loop_flow_from_jo",
         "orientation": "h",
         "showlegend": true,
         "textposition": "auto",
         "texttemplate": "%{x:.0f}",
         "type": "bar",
         "x": [
          null,
          null,
          null,
          null,
          null,
          null,
          null,
          null,
          null,
          null,
          null,
          null,
          null,
          292.39387106009724,
          null,
          null,
          null,
          -181.67401391960428,
          27.432491957161147,
          17.406358357831856
         ],
         "xaxis": "x",
         "y": [
          "L224-225-1",
          "L219-237-1",
          "L191-192-1",
          "L192-225-1",
          "L225-191-1",
          "L195-219-1",
          "L39-42-1",
          "L81-194-1",
          "L74-88-1",
          "L3-7-1",
          "L217-220-1",
          "L216-217-1",
          "L41-42-1",
          "L3-150-1",
          "L59-61-1",
          "L220-218-1",
          "L235-238-1",
          "L137-140-1",
          "L43-44-1",
          "L44-54-1"
         ],
         "yaxis": "y"
        },
        {
         "alignmentgroup": "True",
         "hovertemplate": "Decomposition part:=loop_flow_from_ke<br>Flow decomposition value=%{x}<br>Branch id=%{y}<extra></extra>",
         "legendgroup": "loop_flow_from_ke",
         "marker": {
          "color": "#EEA6FB",
          "pattern": {
           "shape": ""
          }
         },
         "name": "loop_flow_from_ke",
         "offsetgroup": "loop_flow_from_ke",
         "orientation": "h",
         "showlegend": true,
         "textposition": "auto",
         "texttemplate": "%{x:.0f}",
         "type": "bar",
         "x": [
          1484.000000000004,
          857.1256371646924,
          767.1525423728809,
          767.1525423728799,
          716.847457627118,
          534.9924707429391,
          474.6018528778082,
          467.31259794662236,
          259.41824050950436,
          218.80617735260583,
          203.8024229599872,
          193.35706735236474,
          192.9663292354457,
          null,
          157.99206164962396,
          134.73407591725297,
          133.5692201184983,
          null,
          112.5124317865123,
          112.47534614134385
         ],
         "xaxis": "x",
         "y": [
          "L224-225-1",
          "L219-237-1",
          "L191-192-1",
          "L192-225-1",
          "L225-191-1",
          "L195-219-1",
          "L39-42-1",
          "L81-194-1",
          "L74-88-1",
          "L3-7-1",
          "L217-220-1",
          "L216-217-1",
          "L41-42-1",
          "L3-150-1",
          "L59-61-1",
          "L220-218-1",
          "L235-238-1",
          "L137-140-1",
          "L43-44-1",
          "L44-54-1"
         ],
         "yaxis": "y"
        },
        {
         "alignmentgroup": "True",
         "hovertemplate": "Decomposition part:=loop_flow_from_kg<br>Flow decomposition value=%{x}<br>Branch id=%{y}<extra></extra>",
         "legendgroup": "loop_flow_from_kg",
         "marker": {
          "color": "#FE00CE",
          "pattern": {
           "shape": ""
          }
         },
         "name": "loop_flow_from_kg",
         "offsetgroup": "loop_flow_from_kg",
         "orientation": "h",
         "showlegend": true,
         "textposition": "auto",
         "texttemplate": "%{x:.0f}",
         "type": "bar",
         "x": [
          null,
          null,
          null,
          null,
          null,
          null,
          null,
          null,
          null,
          null,
          null,
          null,
          63.05275220857139,
          -448.80218777314354,
          null,
          null,
          123.722664370726,
          223.69944123757426,
          null,
          16.850132099176868
         ],
         "xaxis": "x",
         "y": [
          "L224-225-1",
          "L219-237-1",
          "L191-192-1",
          "L192-225-1",
          "L225-191-1",
          "L195-219-1",
          "L39-42-1",
          "L81-194-1",
          "L74-88-1",
          "L3-7-1",
          "L217-220-1",
          "L216-217-1",
          "L41-42-1",
          "L3-150-1",
          "L59-61-1",
          "L220-218-1",
          "L235-238-1",
          "L137-140-1",
          "L43-44-1",
          "L44-54-1"
         ],
         "yaxis": "y"
        },
        {
         "alignmentgroup": "True",
         "hovertemplate": "Decomposition part:=loop_flow_from_lv<br>Flow decomposition value=%{x}<br>Branch id=%{y}<extra></extra>",
         "legendgroup": "loop_flow_from_lv",
         "marker": {
          "color": "#22FFA7",
          "pattern": {
           "shape": ""
          }
         },
         "name": "loop_flow_from_lv",
         "offsetgroup": "loop_flow_from_lv",
         "orientation": "h",
         "showlegend": true,
         "textposition": "auto",
         "texttemplate": "%{x:.0f}",
         "type": "bar",
         "x": [
          null,
          null,
          null,
          null,
          null,
          null,
          null,
          null,
          null,
          null,
          null,
          null,
          null,
          null,
          null,
          null,
          null,
          230.0217669387836,
          null,
          null
         ],
         "xaxis": "x",
         "y": [
          "L224-225-1",
          "L219-237-1",
          "L191-192-1",
          "L192-225-1",
          "L225-191-1",
          "L195-219-1",
          "L39-42-1",
          "L81-194-1",
          "L74-88-1",
          "L3-7-1",
          "L217-220-1",
          "L216-217-1",
          "L41-42-1",
          "L3-150-1",
          "L59-61-1",
          "L220-218-1",
          "L235-238-1",
          "L137-140-1",
          "L43-44-1",
          "L44-54-1"
         ],
         "yaxis": "y"
        },
        {
         "alignmentgroup": "True",
         "hovertemplate": "Decomposition part:=loop_flow_from_om<br>Flow decomposition value=%{x}<br>Branch id=%{y}<extra></extra>",
         "legendgroup": "loop_flow_from_om",
         "marker": {
          "color": "#620042",
          "pattern": {
           "shape": ""
          }
         },
         "name": "loop_flow_from_om",
         "offsetgroup": "loop_flow_from_om",
         "orientation": "h",
         "showlegend": true,
         "textposition": "auto",
         "texttemplate": "%{x:.0f}",
         "type": "bar",
         "x": [
          null,
          null,
          null,
          null,
          null,
          null,
          null,
          160.7707281314154,
          84.95644856843195,
          null,
          null,
          -106.98498693235236,
          null,
          308.7178905205649,
          null,
          null,
          null,
          null,
          26.212221138271733,
          null
         ],
         "xaxis": "x",
         "y": [
          "L224-225-1",
          "L219-237-1",
          "L191-192-1",
          "L192-225-1",
          "L225-191-1",
          "L195-219-1",
          "L39-42-1",
          "L81-194-1",
          "L74-88-1",
          "L3-7-1",
          "L217-220-1",
          "L216-217-1",
          "L41-42-1",
          "L3-150-1",
          "L59-61-1",
          "L220-218-1",
          "L235-238-1",
          "L137-140-1",
          "L43-44-1",
          "L44-54-1"
         ],
         "yaxis": "y"
        },
        {
         "alignmentgroup": "True",
         "hovertemplate": "Decomposition part:=loop_flow_from_pn<br>Flow decomposition value=%{x}<br>Branch id=%{y}<extra></extra>",
         "legendgroup": "loop_flow_from_pn",
         "marker": {
          "color": "#FF9616",
          "pattern": {
           "shape": ""
          }
         },
         "name": "loop_flow_from_pn",
         "offsetgroup": "loop_flow_from_pn",
         "orientation": "h",
         "showlegend": true,
         "textposition": "auto",
         "texttemplate": "%{x:.0f}",
         "type": "bar",
         "x": [
          null,
          null,
          null,
          null,
          null,
          null,
          null,
          null,
          null,
          null,
          null,
          null,
          null,
          null,
          null,
          null,
          null,
          null,
          null,
          null
         ],
         "xaxis": "x",
         "y": [
          "L224-225-1",
          "L219-237-1",
          "L191-192-1",
          "L192-225-1",
          "L225-191-1",
          "L195-219-1",
          "L39-42-1",
          "L81-194-1",
          "L74-88-1",
          "L3-7-1",
          "L217-220-1",
          "L216-217-1",
          "L41-42-1",
          "L3-150-1",
          "L59-61-1",
          "L220-218-1",
          "L235-238-1",
          "L137-140-1",
          "L43-44-1",
          "L44-54-1"
         ],
         "yaxis": "y"
        },
        {
         "alignmentgroup": "True",
         "hovertemplate": "Decomposition part:=loop_flow_from_rs<br>Flow decomposition value=%{x}<br>Branch id=%{y}<extra></extra>",
         "legendgroup": "loop_flow_from_rs",
         "marker": {
          "color": "#FC6955",
          "pattern": {
           "shape": ""
          }
         },
         "name": "loop_flow_from_rs",
         "offsetgroup": "loop_flow_from_rs",
         "orientation": "h",
         "showlegend": true,
         "textposition": "auto",
         "texttemplate": "%{x:.0f}",
         "type": "bar",
         "x": [
          null,
          null,
          null,
          null,
          null,
          null,
          null,
          null,
          null,
          null,
          null,
          99.06178391597992,
          null,
          null,
          null,
          null,
          null,
          null,
          null,
          null
         ],
         "xaxis": "x",
         "y": [
          "L224-225-1",
          "L219-237-1",
          "L191-192-1",
          "L192-225-1",
          "L225-191-1",
          "L195-219-1",
          "L39-42-1",
          "L81-194-1",
          "L74-88-1",
          "L3-7-1",
          "L217-220-1",
          "L216-217-1",
          "L41-42-1",
          "L3-150-1",
          "L59-61-1",
          "L220-218-1",
          "L235-238-1",
          "L137-140-1",
          "L43-44-1",
          "L44-54-1"
         ],
         "yaxis": "y"
        },
        {
         "alignmentgroup": "True",
         "hovertemplate": "Decomposition part:=loop_flow_from_rw<br>Flow decomposition value=%{x}<br>Branch id=%{y}<extra></extra>",
         "legendgroup": "loop_flow_from_rw",
         "marker": {
          "color": "#479B55",
          "pattern": {
           "shape": ""
          }
         },
         "name": "loop_flow_from_rw",
         "offsetgroup": "loop_flow_from_rw",
         "orientation": "h",
         "showlegend": true,
         "textposition": "auto",
         "texttemplate": "%{x:.0f}",
         "type": "bar",
         "x": [
          null,
          null,
          null,
          null,
          null,
          null,
          null,
          null,
          null,
          null,
          null,
          null,
          null,
          null,
          null,
          null,
          81.25388776818687,
          null,
          null,
          null
         ],
         "xaxis": "x",
         "y": [
          "L224-225-1",
          "L219-237-1",
          "L191-192-1",
          "L192-225-1",
          "L225-191-1",
          "L195-219-1",
          "L39-42-1",
          "L81-194-1",
          "L74-88-1",
          "L3-7-1",
          "L217-220-1",
          "L216-217-1",
          "L41-42-1",
          "L3-150-1",
          "L59-61-1",
          "L220-218-1",
          "L235-238-1",
          "L137-140-1",
          "L43-44-1",
          "L44-54-1"
         ],
         "yaxis": "y"
        },
        {
         "alignmentgroup": "True",
         "hovertemplate": "Decomposition part:=masked_flows_positive<br>Flow decomposition value=%{x}<br>Branch id=%{y}<extra></extra>",
         "legendgroup": "masked_flows_positive",
         "marker": {
          "color": "#6E899C",
          "pattern": {
           "shape": ""
          }
         },
         "name": "masked_flows_positive",
         "offsetgroup": "masked_flows_positive",
         "orientation": "h",
         "showlegend": true,
         "textposition": "auto",
         "texttemplate": "%{x:.0f}",
         "type": "bar",
         "x": [
          0,
          690.7605909011634,
          0,
          0,
          0,
          533.8662033723576,
          128.93227762388383,
          466.5286144390046,
          204.3226416692071,
          466.99499807262714,
          129.44640974523406,
          47.63600824656092,
          123.16485524690403,
          531.5641448974022,
          63.80295867767516,
          111.35957345725176,
          41.021278701135,
          382.1413050982193,
          34.937242328777835,
          29.387783000240546
         ],
         "xaxis": "x",
         "y": [
          "L224-225-1",
          "L219-237-1",
          "L191-192-1",
          "L192-225-1",
          "L225-191-1",
          "L195-219-1",
          "L39-42-1",
          "L81-194-1",
          "L74-88-1",
          "L3-7-1",
          "L217-220-1",
          "L216-217-1",
          "L41-42-1",
          "L3-150-1",
          "L59-61-1",
          "L220-218-1",
          "L235-238-1",
          "L137-140-1",
          "L43-44-1",
          "L44-54-1"
         ],
         "yaxis": "y"
        },
        {
         "alignmentgroup": "True",
         "hovertemplate": "Decomposition part:=masked_flows_negative<br>Flow decomposition value=%{x}<br>Branch id=%{y}<extra></extra>",
         "legendgroup": "masked_flows_negative",
         "marker": {
          "color": "#00FE35",
          "pattern": {
           "shape": ""
          }
         },
         "name": "masked_flows_negative",
         "offsetgroup": "masked_flows_negative",
         "orientation": "h",
         "showlegend": true,
         "textposition": "auto",
         "texttemplate": "%{x:.0f}",
         "type": "bar",
         "x": [
          0,
          -387.7752367892057,
          0,
          0,
          0,
          -420.656190486679,
          -102.71974453678,
          -408.6720277508557,
          -188.6842161022032,
          -222.25039336777766,
          -104.29826858510745,
          -192.81580151729457,
          -83.5806815164446,
          -370.215468176462,
          -135.68898290369893,
          -69.92778806422078,
          -47.98511240958831,
          -567.421458886266,
          -83.37738789327936,
          -40.503222622415024
         ],
         "xaxis": "x",
         "y": [
          "L224-225-1",
          "L219-237-1",
          "L191-192-1",
          "L192-225-1",
          "L225-191-1",
          "L195-219-1",
          "L39-42-1",
          "L81-194-1",
          "L74-88-1",
          "L3-7-1",
          "L217-220-1",
          "L216-217-1",
          "L41-42-1",
          "L3-150-1",
          "L59-61-1",
          "L220-218-1",
          "L235-238-1",
          "L137-140-1",
          "L43-44-1",
          "L44-54-1"
         ],
         "yaxis": "y"
        },
        {
         "mode": "lines+markers",
         "name": "total_flow",
         "type": "scatter",
         "x": [
          274.00000000000114,
          79.80451953303756,
          828.1694915254235,
          28.169491525422245,
          655.8305084745758,
          11.335481103713647,
          500.8143859649121,
          21.21772094641392,
          96.3485804828972,
          242.6770303558283,
          46.717443650384695,
          15.63504356387395,
          263.11554543017905,
          26.473022252293966,
          278.3182792383811,
          38.96628243058111,
          240.41544890667402,
          317.47500023659626,
          59.6324822670188,
          16.4687998130312
         ],
         "y": [
          "L224-225-1",
          "L219-237-1",
          "L191-192-1",
          "L192-225-1",
          "L225-191-1",
          "L195-219-1",
          "L39-42-1",
          "L81-194-1",
          "L74-88-1",
          "L3-7-1",
          "L217-220-1",
          "L216-217-1",
          "L41-42-1",
          "L3-150-1",
          "L59-61-1",
          "L220-218-1",
          "L235-238-1",
          "L137-140-1",
          "L43-44-1",
          "L44-54-1"
         ]
        },
        {
         "mode": "lines+markers",
         "name": "total_loop_flow",
         "type": "scatter",
         "x": [
          274.00000000000114,
          79.80451953303756,
          828.1694915254235,
          28.169491525422245,
          655.8305084745758,
          11.335481103713647,
          500.8143859649121,
          21.21772094641392,
          96.3485804828972,
          242.6770303558283,
          46.717443650384695,
          15.63504356387395,
          263.11554543017905,
          26.473022252293966,
          278.3182792383811,
          38.96628243058111,
          240.41544890667402,
          317.47500023659626,
          59.6324822670188,
          16.4687998130312
         ],
         "y": [
          "L224-225-1",
          "L219-237-1",
          "L191-192-1",
          "L192-225-1",
          "L225-191-1",
          "L195-219-1",
          "L39-42-1",
          "L81-194-1",
          "L74-88-1",
          "L3-7-1",
          "L217-220-1",
          "L216-217-1",
          "L41-42-1",
          "L3-150-1",
          "L59-61-1",
          "L220-218-1",
          "L235-238-1",
          "L137-140-1",
          "L43-44-1",
          "L44-54-1"
         ]
        }
       ],
       "layout": {
        "barmode": "relative",
        "height": 1000,
        "legend": {
         "title": {
          "text": "Decomposition part:"
         },
         "tracegroupgap": 0
        },
        "template": {
         "data": {
          "bar": [
           {
            "error_x": {
             "color": "rgb(36,36,36)"
            },
            "error_y": {
             "color": "rgb(36,36,36)"
            },
            "marker": {
             "line": {
              "color": "rgb(234,234,242)",
              "width": 0.5
             },
             "pattern": {
              "fillmode": "overlay",
              "size": 10,
              "solidity": 0.2
             }
            },
            "type": "bar"
           }
          ],
          "barpolar": [
           {
            "marker": {
             "line": {
              "color": "rgb(234,234,242)",
              "width": 0.5
             },
             "pattern": {
              "fillmode": "overlay",
              "size": 10,
              "solidity": 0.2
             }
            },
            "type": "barpolar"
           }
          ],
          "carpet": [
           {
            "aaxis": {
             "endlinecolor": "rgb(36,36,36)",
             "gridcolor": "white",
             "linecolor": "white",
             "minorgridcolor": "white",
             "startlinecolor": "rgb(36,36,36)"
            },
            "baxis": {
             "endlinecolor": "rgb(36,36,36)",
             "gridcolor": "white",
             "linecolor": "white",
             "minorgridcolor": "white",
             "startlinecolor": "rgb(36,36,36)"
            },
            "type": "carpet"
           }
          ],
          "choropleth": [
           {
            "colorbar": {
             "outlinewidth": 0,
             "tickcolor": "rgb(36,36,36)",
             "ticklen": 8,
             "ticks": "outside",
             "tickwidth": 2
            },
            "type": "choropleth"
           }
          ],
          "contour": [
           {
            "colorbar": {
             "outlinewidth": 0,
             "tickcolor": "rgb(36,36,36)",
             "ticklen": 8,
             "ticks": "outside",
             "tickwidth": 2
            },
            "colorscale": [
             [
              0,
              "rgb(2,4,25)"
             ],
             [
              0.06274509803921569,
              "rgb(24,15,41)"
             ],
             [
              0.12549019607843137,
              "rgb(47,23,57)"
             ],
             [
              0.18823529411764706,
              "rgb(71,28,72)"
             ],
             [
              0.25098039215686274,
              "rgb(97,30,82)"
             ],
             [
              0.3137254901960784,
              "rgb(123,30,89)"
             ],
             [
              0.3764705882352941,
              "rgb(150,27,91)"
             ],
             [
              0.4392156862745098,
              "rgb(177,22,88)"
             ],
             [
              0.5019607843137255,
              "rgb(203,26,79)"
             ],
             [
              0.5647058823529412,
              "rgb(223,47,67)"
             ],
             [
              0.6274509803921569,
              "rgb(236,76,61)"
             ],
             [
              0.6901960784313725,
              "rgb(242,107,73)"
             ],
             [
              0.7529411764705882,
              "rgb(244,135,95)"
             ],
             [
              0.8156862745098039,
              "rgb(245,162,122)"
             ],
             [
              0.8784313725490196,
              "rgb(246,188,153)"
             ],
             [
              0.9411764705882353,
              "rgb(247,212,187)"
             ],
             [
              1,
              "rgb(250,234,220)"
             ]
            ],
            "type": "contour"
           }
          ],
          "contourcarpet": [
           {
            "colorbar": {
             "outlinewidth": 0,
             "tickcolor": "rgb(36,36,36)",
             "ticklen": 8,
             "ticks": "outside",
             "tickwidth": 2
            },
            "type": "contourcarpet"
           }
          ],
          "heatmap": [
           {
            "colorbar": {
             "outlinewidth": 0,
             "tickcolor": "rgb(36,36,36)",
             "ticklen": 8,
             "ticks": "outside",
             "tickwidth": 2
            },
            "colorscale": [
             [
              0,
              "rgb(2,4,25)"
             ],
             [
              0.06274509803921569,
              "rgb(24,15,41)"
             ],
             [
              0.12549019607843137,
              "rgb(47,23,57)"
             ],
             [
              0.18823529411764706,
              "rgb(71,28,72)"
             ],
             [
              0.25098039215686274,
              "rgb(97,30,82)"
             ],
             [
              0.3137254901960784,
              "rgb(123,30,89)"
             ],
             [
              0.3764705882352941,
              "rgb(150,27,91)"
             ],
             [
              0.4392156862745098,
              "rgb(177,22,88)"
             ],
             [
              0.5019607843137255,
              "rgb(203,26,79)"
             ],
             [
              0.5647058823529412,
              "rgb(223,47,67)"
             ],
             [
              0.6274509803921569,
              "rgb(236,76,61)"
             ],
             [
              0.6901960784313725,
              "rgb(242,107,73)"
             ],
             [
              0.7529411764705882,
              "rgb(244,135,95)"
             ],
             [
              0.8156862745098039,
              "rgb(245,162,122)"
             ],
             [
              0.8784313725490196,
              "rgb(246,188,153)"
             ],
             [
              0.9411764705882353,
              "rgb(247,212,187)"
             ],
             [
              1,
              "rgb(250,234,220)"
             ]
            ],
            "type": "heatmap"
           }
          ],
          "heatmapgl": [
           {
            "colorbar": {
             "outlinewidth": 0,
             "tickcolor": "rgb(36,36,36)",
             "ticklen": 8,
             "ticks": "outside",
             "tickwidth": 2
            },
            "colorscale": [
             [
              0,
              "rgb(2,4,25)"
             ],
             [
              0.06274509803921569,
              "rgb(24,15,41)"
             ],
             [
              0.12549019607843137,
              "rgb(47,23,57)"
             ],
             [
              0.18823529411764706,
              "rgb(71,28,72)"
             ],
             [
              0.25098039215686274,
              "rgb(97,30,82)"
             ],
             [
              0.3137254901960784,
              "rgb(123,30,89)"
             ],
             [
              0.3764705882352941,
              "rgb(150,27,91)"
             ],
             [
              0.4392156862745098,
              "rgb(177,22,88)"
             ],
             [
              0.5019607843137255,
              "rgb(203,26,79)"
             ],
             [
              0.5647058823529412,
              "rgb(223,47,67)"
             ],
             [
              0.6274509803921569,
              "rgb(236,76,61)"
             ],
             [
              0.6901960784313725,
              "rgb(242,107,73)"
             ],
             [
              0.7529411764705882,
              "rgb(244,135,95)"
             ],
             [
              0.8156862745098039,
              "rgb(245,162,122)"
             ],
             [
              0.8784313725490196,
              "rgb(246,188,153)"
             ],
             [
              0.9411764705882353,
              "rgb(247,212,187)"
             ],
             [
              1,
              "rgb(250,234,220)"
             ]
            ],
            "type": "heatmapgl"
           }
          ],
          "histogram": [
           {
            "marker": {
             "pattern": {
              "fillmode": "overlay",
              "size": 10,
              "solidity": 0.2
             }
            },
            "type": "histogram"
           }
          ],
          "histogram2d": [
           {
            "colorbar": {
             "outlinewidth": 0,
             "tickcolor": "rgb(36,36,36)",
             "ticklen": 8,
             "ticks": "outside",
             "tickwidth": 2
            },
            "colorscale": [
             [
              0,
              "rgb(2,4,25)"
             ],
             [
              0.06274509803921569,
              "rgb(24,15,41)"
             ],
             [
              0.12549019607843137,
              "rgb(47,23,57)"
             ],
             [
              0.18823529411764706,
              "rgb(71,28,72)"
             ],
             [
              0.25098039215686274,
              "rgb(97,30,82)"
             ],
             [
              0.3137254901960784,
              "rgb(123,30,89)"
             ],
             [
              0.3764705882352941,
              "rgb(150,27,91)"
             ],
             [
              0.4392156862745098,
              "rgb(177,22,88)"
             ],
             [
              0.5019607843137255,
              "rgb(203,26,79)"
             ],
             [
              0.5647058823529412,
              "rgb(223,47,67)"
             ],
             [
              0.6274509803921569,
              "rgb(236,76,61)"
             ],
             [
              0.6901960784313725,
              "rgb(242,107,73)"
             ],
             [
              0.7529411764705882,
              "rgb(244,135,95)"
             ],
             [
              0.8156862745098039,
              "rgb(245,162,122)"
             ],
             [
              0.8784313725490196,
              "rgb(246,188,153)"
             ],
             [
              0.9411764705882353,
              "rgb(247,212,187)"
             ],
             [
              1,
              "rgb(250,234,220)"
             ]
            ],
            "type": "histogram2d"
           }
          ],
          "histogram2dcontour": [
           {
            "colorbar": {
             "outlinewidth": 0,
             "tickcolor": "rgb(36,36,36)",
             "ticklen": 8,
             "ticks": "outside",
             "tickwidth": 2
            },
            "colorscale": [
             [
              0,
              "rgb(2,4,25)"
             ],
             [
              0.06274509803921569,
              "rgb(24,15,41)"
             ],
             [
              0.12549019607843137,
              "rgb(47,23,57)"
             ],
             [
              0.18823529411764706,
              "rgb(71,28,72)"
             ],
             [
              0.25098039215686274,
              "rgb(97,30,82)"
             ],
             [
              0.3137254901960784,
              "rgb(123,30,89)"
             ],
             [
              0.3764705882352941,
              "rgb(150,27,91)"
             ],
             [
              0.4392156862745098,
              "rgb(177,22,88)"
             ],
             [
              0.5019607843137255,
              "rgb(203,26,79)"
             ],
             [
              0.5647058823529412,
              "rgb(223,47,67)"
             ],
             [
              0.6274509803921569,
              "rgb(236,76,61)"
             ],
             [
              0.6901960784313725,
              "rgb(242,107,73)"
             ],
             [
              0.7529411764705882,
              "rgb(244,135,95)"
             ],
             [
              0.8156862745098039,
              "rgb(245,162,122)"
             ],
             [
              0.8784313725490196,
              "rgb(246,188,153)"
             ],
             [
              0.9411764705882353,
              "rgb(247,212,187)"
             ],
             [
              1,
              "rgb(250,234,220)"
             ]
            ],
            "type": "histogram2dcontour"
           }
          ],
          "mesh3d": [
           {
            "colorbar": {
             "outlinewidth": 0,
             "tickcolor": "rgb(36,36,36)",
             "ticklen": 8,
             "ticks": "outside",
             "tickwidth": 2
            },
            "type": "mesh3d"
           }
          ],
          "parcoords": [
           {
            "line": {
             "colorbar": {
              "outlinewidth": 0,
              "tickcolor": "rgb(36,36,36)",
              "ticklen": 8,
              "ticks": "outside",
              "tickwidth": 2
             }
            },
            "type": "parcoords"
           }
          ],
          "pie": [
           {
            "automargin": true,
            "type": "pie"
           }
          ],
          "scatter": [
           {
            "fillpattern": {
             "fillmode": "overlay",
             "size": 10,
             "solidity": 0.2
            },
            "type": "scatter"
           }
          ],
          "scatter3d": [
           {
            "line": {
             "colorbar": {
              "outlinewidth": 0,
              "tickcolor": "rgb(36,36,36)",
              "ticklen": 8,
              "ticks": "outside",
              "tickwidth": 2
             }
            },
            "marker": {
             "colorbar": {
              "outlinewidth": 0,
              "tickcolor": "rgb(36,36,36)",
              "ticklen": 8,
              "ticks": "outside",
              "tickwidth": 2
             }
            },
            "type": "scatter3d"
           }
          ],
          "scattercarpet": [
           {
            "marker": {
             "colorbar": {
              "outlinewidth": 0,
              "tickcolor": "rgb(36,36,36)",
              "ticklen": 8,
              "ticks": "outside",
              "tickwidth": 2
             }
            },
            "type": "scattercarpet"
           }
          ],
          "scattergeo": [
           {
            "marker": {
             "colorbar": {
              "outlinewidth": 0,
              "tickcolor": "rgb(36,36,36)",
              "ticklen": 8,
              "ticks": "outside",
              "tickwidth": 2
             }
            },
            "type": "scattergeo"
           }
          ],
          "scattergl": [
           {
            "marker": {
             "colorbar": {
              "outlinewidth": 0,
              "tickcolor": "rgb(36,36,36)",
              "ticklen": 8,
              "ticks": "outside",
              "tickwidth": 2
             }
            },
            "type": "scattergl"
           }
          ],
          "scattermapbox": [
           {
            "marker": {
             "colorbar": {
              "outlinewidth": 0,
              "tickcolor": "rgb(36,36,36)",
              "ticklen": 8,
              "ticks": "outside",
              "tickwidth": 2
             }
            },
            "type": "scattermapbox"
           }
          ],
          "scatterpolar": [
           {
            "marker": {
             "colorbar": {
              "outlinewidth": 0,
              "tickcolor": "rgb(36,36,36)",
              "ticklen": 8,
              "ticks": "outside",
              "tickwidth": 2
             }
            },
            "type": "scatterpolar"
           }
          ],
          "scatterpolargl": [
           {
            "marker": {
             "colorbar": {
              "outlinewidth": 0,
              "tickcolor": "rgb(36,36,36)",
              "ticklen": 8,
              "ticks": "outside",
              "tickwidth": 2
             }
            },
            "type": "scatterpolargl"
           }
          ],
          "scatterternary": [
           {
            "marker": {
             "colorbar": {
              "outlinewidth": 0,
              "tickcolor": "rgb(36,36,36)",
              "ticklen": 8,
              "ticks": "outside",
              "tickwidth": 2
             }
            },
            "type": "scatterternary"
           }
          ],
          "surface": [
           {
            "colorbar": {
             "outlinewidth": 0,
             "tickcolor": "rgb(36,36,36)",
             "ticklen": 8,
             "ticks": "outside",
             "tickwidth": 2
            },
            "colorscale": [
             [
              0,
              "rgb(2,4,25)"
             ],
             [
              0.06274509803921569,
              "rgb(24,15,41)"
             ],
             [
              0.12549019607843137,
              "rgb(47,23,57)"
             ],
             [
              0.18823529411764706,
              "rgb(71,28,72)"
             ],
             [
              0.25098039215686274,
              "rgb(97,30,82)"
             ],
             [
              0.3137254901960784,
              "rgb(123,30,89)"
             ],
             [
              0.3764705882352941,
              "rgb(150,27,91)"
             ],
             [
              0.4392156862745098,
              "rgb(177,22,88)"
             ],
             [
              0.5019607843137255,
              "rgb(203,26,79)"
             ],
             [
              0.5647058823529412,
              "rgb(223,47,67)"
             ],
             [
              0.6274509803921569,
              "rgb(236,76,61)"
             ],
             [
              0.6901960784313725,
              "rgb(242,107,73)"
             ],
             [
              0.7529411764705882,
              "rgb(244,135,95)"
             ],
             [
              0.8156862745098039,
              "rgb(245,162,122)"
             ],
             [
              0.8784313725490196,
              "rgb(246,188,153)"
             ],
             [
              0.9411764705882353,
              "rgb(247,212,187)"
             ],
             [
              1,
              "rgb(250,234,220)"
             ]
            ],
            "type": "surface"
           }
          ],
          "table": [
           {
            "cells": {
             "fill": {
              "color": "rgb(231,231,240)"
             },
             "line": {
              "color": "white"
             }
            },
            "header": {
             "fill": {
              "color": "rgb(183,183,191)"
             },
             "line": {
              "color": "white"
             }
            },
            "type": "table"
           }
          ]
         },
         "layout": {
          "annotationdefaults": {
           "arrowcolor": "rgb(67,103,167)"
          },
          "autotypenumbers": "strict",
          "coloraxis": {
           "colorbar": {
            "outlinewidth": 0,
            "tickcolor": "rgb(36,36,36)",
            "ticklen": 8,
            "ticks": "outside",
            "tickwidth": 2
           }
          },
          "colorscale": {
           "sequential": [
            [
             0,
             "rgb(2,4,25)"
            ],
            [
             0.06274509803921569,
             "rgb(24,15,41)"
            ],
            [
             0.12549019607843137,
             "rgb(47,23,57)"
            ],
            [
             0.18823529411764706,
             "rgb(71,28,72)"
            ],
            [
             0.25098039215686274,
             "rgb(97,30,82)"
            ],
            [
             0.3137254901960784,
             "rgb(123,30,89)"
            ],
            [
             0.3764705882352941,
             "rgb(150,27,91)"
            ],
            [
             0.4392156862745098,
             "rgb(177,22,88)"
            ],
            [
             0.5019607843137255,
             "rgb(203,26,79)"
            ],
            [
             0.5647058823529412,
             "rgb(223,47,67)"
            ],
            [
             0.6274509803921569,
             "rgb(236,76,61)"
            ],
            [
             0.6901960784313725,
             "rgb(242,107,73)"
            ],
            [
             0.7529411764705882,
             "rgb(244,135,95)"
            ],
            [
             0.8156862745098039,
             "rgb(245,162,122)"
            ],
            [
             0.8784313725490196,
             "rgb(246,188,153)"
            ],
            [
             0.9411764705882353,
             "rgb(247,212,187)"
            ],
            [
             1,
             "rgb(250,234,220)"
            ]
           ],
           "sequentialminus": [
            [
             0,
             "rgb(2,4,25)"
            ],
            [
             0.06274509803921569,
             "rgb(24,15,41)"
            ],
            [
             0.12549019607843137,
             "rgb(47,23,57)"
            ],
            [
             0.18823529411764706,
             "rgb(71,28,72)"
            ],
            [
             0.25098039215686274,
             "rgb(97,30,82)"
            ],
            [
             0.3137254901960784,
             "rgb(123,30,89)"
            ],
            [
             0.3764705882352941,
             "rgb(150,27,91)"
            ],
            [
             0.4392156862745098,
             "rgb(177,22,88)"
            ],
            [
             0.5019607843137255,
             "rgb(203,26,79)"
            ],
            [
             0.5647058823529412,
             "rgb(223,47,67)"
            ],
            [
             0.6274509803921569,
             "rgb(236,76,61)"
            ],
            [
             0.6901960784313725,
             "rgb(242,107,73)"
            ],
            [
             0.7529411764705882,
             "rgb(244,135,95)"
            ],
            [
             0.8156862745098039,
             "rgb(245,162,122)"
            ],
            [
             0.8784313725490196,
             "rgb(246,188,153)"
            ],
            [
             0.9411764705882353,
             "rgb(247,212,187)"
            ],
            [
             1,
             "rgb(250,234,220)"
            ]
           ]
          },
          "colorway": [
           "rgb(76,114,176)",
           "rgb(221,132,82)",
           "rgb(85,168,104)",
           "rgb(196,78,82)",
           "rgb(129,114,179)",
           "rgb(147,120,96)",
           "rgb(218,139,195)",
           "rgb(140,140,140)",
           "rgb(204,185,116)",
           "rgb(100,181,205)"
          ],
          "font": {
           "color": "rgb(36,36,36)"
          },
          "geo": {
           "bgcolor": "white",
           "lakecolor": "white",
           "landcolor": "rgb(234,234,242)",
           "showlakes": true,
           "showland": true,
           "subunitcolor": "white"
          },
          "hoverlabel": {
           "align": "left"
          },
          "hovermode": "closest",
          "paper_bgcolor": "white",
          "plot_bgcolor": "rgb(234,234,242)",
          "polar": {
           "angularaxis": {
            "gridcolor": "white",
            "linecolor": "white",
            "showgrid": true,
            "ticks": ""
           },
           "bgcolor": "rgb(234,234,242)",
           "radialaxis": {
            "gridcolor": "white",
            "linecolor": "white",
            "showgrid": true,
            "ticks": ""
           }
          },
          "scene": {
           "xaxis": {
            "backgroundcolor": "rgb(234,234,242)",
            "gridcolor": "white",
            "gridwidth": 2,
            "linecolor": "white",
            "showbackground": true,
            "showgrid": true,
            "ticks": "",
            "zerolinecolor": "white"
           },
           "yaxis": {
            "backgroundcolor": "rgb(234,234,242)",
            "gridcolor": "white",
            "gridwidth": 2,
            "linecolor": "white",
            "showbackground": true,
            "showgrid": true,
            "ticks": "",
            "zerolinecolor": "white"
           },
           "zaxis": {
            "backgroundcolor": "rgb(234,234,242)",
            "gridcolor": "white",
            "gridwidth": 2,
            "linecolor": "white",
            "showbackground": true,
            "showgrid": true,
            "ticks": "",
            "zerolinecolor": "white"
           }
          },
          "shapedefaults": {
           "fillcolor": "rgb(67,103,167)",
           "line": {
            "width": 0
           },
           "opacity": 0.5
          },
          "ternary": {
           "aaxis": {
            "gridcolor": "white",
            "linecolor": "white",
            "showgrid": true,
            "ticks": ""
           },
           "baxis": {
            "gridcolor": "white",
            "linecolor": "white",
            "showgrid": true,
            "ticks": ""
           },
           "bgcolor": "rgb(234,234,242)",
           "caxis": {
            "gridcolor": "white",
            "linecolor": "white",
            "showgrid": true,
            "ticks": ""
           }
          },
          "xaxis": {
           "automargin": true,
           "gridcolor": "white",
           "linecolor": "white",
           "showgrid": true,
           "ticks": "",
           "title": {
            "standoff": 15
           },
           "zerolinecolor": "white"
          },
          "yaxis": {
           "automargin": true,
           "gridcolor": "white",
           "linecolor": "white",
           "showgrid": true,
           "ticks": "",
           "title": {
            "standoff": 15
           },
           "zerolinecolor": "white"
          }
         }
        },
        "title": {
         "text": "Sorted by: loop_flow_from_ke, ascending: False, head: 20"
        },
        "xaxis": {
         "anchor": "y",
         "domain": [
          0,
          1
         ],
         "title": {
          "text": "Flow decomposition value"
         }
        },
        "yaxis": {
         "anchor": "x",
         "domain": [
          0,
          1
         ],
         "title": {
          "text": "Branch id"
         }
        }
       }
      }
     },
     "metadata": {},
     "output_type": "display_data"
    }
   ],
   "source": [
    "flow_decomposition_bar_chart(f'loop_flow_from_{random.Random(42).choice(list(countries)).lower()}')"
   ]
  },
  {
   "cell_type": "code",
   "execution_count": 23,
   "metadata": {},
   "outputs": [
    {
     "data": {
      "application/vnd.plotly.v1+json": {
       "config": {
        "plotlyServerURL": "https://plot.ly"
       },
       "data": [
        {
         "alignmentgroup": "True",
         "hovertemplate": "Decomposition part:=commercial_flow<br>Flow decomposition value=%{x}<br>Branch id=%{y}<extra></extra>",
         "legendgroup": "commercial_flow",
         "marker": {
          "color": "#0DF9FF",
          "pattern": {
           "shape": ""
          }
         },
         "name": "commercial_flow",
         "offsetgroup": "commercial_flow",
         "orientation": "h",
         "showlegend": true,
         "textposition": "auto",
         "texttemplate": "%{x:.0f}",
         "type": "bar",
         "x": [
          null,
          null,
          null,
          null,
          null,
          null,
          null,
          null,
          null,
          null,
          null,
          null,
          null,
          null,
          null,
          null,
          null,
          null,
          null,
          null
         ],
         "xaxis": "x",
         "y": [
          "L224-226-1",
          "L226-231-1",
          "L231-237-1",
          "L16-42-1",
          "L46-81-1",
          "L221-223-1",
          "L220-221-1",
          "L194-219-1",
          "L4-16-1",
          "L81-195-1",
          "L42-46-1",
          "L45-60-1",
          "L60-62-1",
          "L45-74-1",
          "L133-137-1",
          "L215-216-1",
          "L220-238-1",
          "L7-131-1",
          "L54-55-1",
          "L214-215-1"
         ],
         "yaxis": "y"
        },
        {
         "alignmentgroup": "True",
         "hovertemplate": "Decomposition part:=pst_flow<br>Flow decomposition value=%{x}<br>Branch id=%{y}<extra></extra>",
         "legendgroup": "pst_flow",
         "marker": {
          "color": "#AF0038",
          "pattern": {
           "shape": ""
          }
         },
         "name": "pst_flow",
         "offsetgroup": "pst_flow",
         "orientation": "h",
         "showlegend": true,
         "textposition": "auto",
         "texttemplate": "%{x:.0f}",
         "type": "bar",
         "x": [
          null,
          null,
          null,
          null,
          null,
          null,
          null,
          null,
          null,
          null,
          null,
          null,
          null,
          null,
          null,
          null,
          null,
          null,
          null,
          null
         ],
         "xaxis": "x",
         "y": [
          "L224-226-1",
          "L226-231-1",
          "L231-237-1",
          "L16-42-1",
          "L46-81-1",
          "L221-223-1",
          "L220-221-1",
          "L194-219-1",
          "L4-16-1",
          "L81-195-1",
          "L42-46-1",
          "L45-60-1",
          "L60-62-1",
          "L45-74-1",
          "L133-137-1",
          "L215-216-1",
          "L220-238-1",
          "L7-131-1",
          "L54-55-1",
          "L214-215-1"
         ],
         "yaxis": "y"
        },
        {
         "alignmentgroup": "True",
         "hovertemplate": "Decomposition part:=loop_flow_from_ag<br>Flow decomposition value=%{x}<br>Branch id=%{y}<extra></extra>",
         "legendgroup": "loop_flow_from_ag",
         "marker": {
          "color": "#FD3216",
          "pattern": {
           "shape": ""
          }
         },
         "name": "loop_flow_from_ag",
         "offsetgroup": "loop_flow_from_ag",
         "orientation": "h",
         "showlegend": true,
         "textposition": "auto",
         "texttemplate": "%{x:.0f}",
         "type": "bar",
         "x": [
          507.0826850551432,
          507.0826850551427,
          981.3687958780288,
          578.9558605970519,
          468.7470749465545,
          292.9173149448607,
          293.46078062661184,
          319.15852315759514,
          575.5911688327742,
          300.15759635259354,
          538.0538621863842,
          224.9335832566368,
          224.93358325663667,
          207.1071591091071,
          790.8917255529136,
          94.67815794081412,
          76.40372777193873,
          360.22247214505734,
          49.10189689238899,
          null
         ],
         "xaxis": "x",
         "y": [
          "L224-226-1",
          "L226-231-1",
          "L231-237-1",
          "L16-42-1",
          "L46-81-1",
          "L221-223-1",
          "L220-221-1",
          "L194-219-1",
          "L4-16-1",
          "L81-195-1",
          "L42-46-1",
          "L45-60-1",
          "L60-62-1",
          "L45-74-1",
          "L133-137-1",
          "L215-216-1",
          "L220-238-1",
          "L7-131-1",
          "L54-55-1",
          "L214-215-1"
         ],
         "yaxis": "y"
        },
        {
         "alignmentgroup": "True",
         "hovertemplate": "Decomposition part:=loop_flow_from_az<br>Flow decomposition value=%{x}<br>Branch id=%{y}<extra></extra>",
         "legendgroup": "loop_flow_from_az",
         "marker": {
          "color": "#00A08B",
          "pattern": {
           "shape": ""
          }
         },
         "name": "loop_flow_from_az",
         "offsetgroup": "loop_flow_from_az",
         "orientation": "h",
         "showlegend": true,
         "textposition": "auto",
         "texttemplate": "%{x:.0f}",
         "type": "bar",
         "x": [
          287.954955995877,
          287.9549559958755,
          386.8651648837547,
          753.4288101300367,
          500.3118213631328,
          122.04504400413255,
          143.81973775605385,
          302.1419457191083,
          752.4359517579494,
          303.6759078881241,
          668.9274545014225,
          null,
          null,
          220.04189527633292,
          -560.9716882662815,
          null,
          null,
          -308.77721316739087,
          null,
          null
         ],
         "xaxis": "x",
         "y": [
          "L224-226-1",
          "L226-231-1",
          "L231-237-1",
          "L16-42-1",
          "L46-81-1",
          "L221-223-1",
          "L220-221-1",
          "L194-219-1",
          "L4-16-1",
          "L81-195-1",
          "L42-46-1",
          "L45-60-1",
          "L60-62-1",
          "L45-74-1",
          "L133-137-1",
          "L215-216-1",
          "L220-238-1",
          "L7-131-1",
          "L54-55-1",
          "L214-215-1"
         ],
         "yaxis": "y"
        },
        {
         "alignmentgroup": "True",
         "hovertemplate": "Decomposition part:=loop_flow_from_be<br>Flow decomposition value=%{x}<br>Branch id=%{y}<extra></extra>",
         "legendgroup": "loop_flow_from_be",
         "marker": {
          "color": "#6C4516",
          "pattern": {
           "shape": ""
          }
         },
         "name": "loop_flow_from_be",
         "offsetgroup": "loop_flow_from_be",
         "orientation": "h",
         "showlegend": true,
         "textposition": "auto",
         "texttemplate": "%{x:.0f}",
         "type": "bar",
         "x": [
          null,
          null,
          -367.32304821208936,
          null,
          null,
          null,
          null,
          null,
          null,
          null,
          -296.37505866518586,
          239.5490248311718,
          239.54902483117183,
          null,
          499.7928087735151,
          -73.04574320378295,
          null,
          null,
          29.20069329712838,
          -45.437451174873125
         ],
         "xaxis": "x",
         "y": [
          "L224-226-1",
          "L226-231-1",
          "L231-237-1",
          "L16-42-1",
          "L46-81-1",
          "L221-223-1",
          "L220-221-1",
          "L194-219-1",
          "L4-16-1",
          "L81-195-1",
          "L42-46-1",
          "L45-60-1",
          "L60-62-1",
          "L45-74-1",
          "L133-137-1",
          "L215-216-1",
          "L220-238-1",
          "L7-131-1",
          "L54-55-1",
          "L214-215-1"
         ],
         "yaxis": "y"
        },
        {
         "alignmentgroup": "True",
         "hovertemplate": "Decomposition part:=loop_flow_from_cd<br>Flow decomposition value=%{x}<br>Branch id=%{y}<extra></extra>",
         "legendgroup": "loop_flow_from_cd",
         "marker": {
          "color": "#511CFB",
          "pattern": {
           "shape": ""
          }
         },
         "name": "loop_flow_from_cd",
         "offsetgroup": "loop_flow_from_cd",
         "orientation": "h",
         "showlegend": true,
         "textposition": "auto",
         "texttemplate": "%{x:.0f}",
         "type": "bar",
         "x": [
          null,
          null,
          null,
          null,
          null,
          null,
          null,
          null,
          -295.70438340521196,
          null,
          null,
          null,
          null,
          null,
          null,
          null,
          null,
          -225.61637551031149,
          null,
          54.91296632446122
         ],
         "xaxis": "x",
         "y": [
          "L224-226-1",
          "L226-231-1",
          "L231-237-1",
          "L16-42-1",
          "L46-81-1",
          "L221-223-1",
          "L220-221-1",
          "L194-219-1",
          "L4-16-1",
          "L81-195-1",
          "L42-46-1",
          "L45-60-1",
          "L60-62-1",
          "L45-74-1",
          "L133-137-1",
          "L215-216-1",
          "L220-238-1",
          "L7-131-1",
          "L54-55-1",
          "L214-215-1"
         ],
         "yaxis": "y"
        },
        {
         "alignmentgroup": "True",
         "hovertemplate": "Decomposition part:=loop_flow_from_cl<br>Flow decomposition value=%{x}<br>Branch id=%{y}<extra></extra>",
         "legendgroup": "loop_flow_from_cl",
         "marker": {
          "color": "#F6F926",
          "pattern": {
           "shape": ""
          }
         },
         "name": "loop_flow_from_cl",
         "offsetgroup": "loop_flow_from_cl",
         "orientation": "h",
         "showlegend": true,
         "textposition": "auto",
         "texttemplate": "%{x:.0f}",
         "type": "bar",
         "x": [
          null,
          null,
          null,
          null,
          null,
          null,
          null,
          null,
          null,
          null,
          null,
          149.64392398429788,
          149.64392398429797,
          null,
          945.5413846207987,
          null,
          null,
          446.13274383908214,
          24.12675650951599,
          null
         ],
         "xaxis": "x",
         "y": [
          "L224-226-1",
          "L226-231-1",
          "L231-237-1",
          "L16-42-1",
          "L46-81-1",
          "L221-223-1",
          "L220-221-1",
          "L194-219-1",
          "L4-16-1",
          "L81-195-1",
          "L42-46-1",
          "L45-60-1",
          "L60-62-1",
          "L45-74-1",
          "L133-137-1",
          "L215-216-1",
          "L220-238-1",
          "L7-131-1",
          "L54-55-1",
          "L214-215-1"
         ],
         "yaxis": "y"
        },
        {
         "alignmentgroup": "True",
         "hovertemplate": "Decomposition part:=loop_flow_from_dz<br>Flow decomposition value=%{x}<br>Branch id=%{y}<extra></extra>",
         "legendgroup": "loop_flow_from_dz",
         "marker": {
          "color": "#C9FBE5",
          "pattern": {
           "shape": ""
          }
         },
         "name": "loop_flow_from_dz",
         "offsetgroup": "loop_flow_from_dz",
         "orientation": "h",
         "showlegend": true,
         "textposition": "auto",
         "texttemplate": "%{x:.0f}",
         "type": "bar",
         "x": [
          null,
          null,
          469.38099928385117,
          500.321084980598,
          453.6780390715464,
          null,
          null,
          306.48866727540883,
          503.1628956823751,
          295.9111636821145,
          451.63786238320915,
          231.10902927934313,
          231.10902927934316,
          221.6295771110232,
          null,
          58.79030051755815,
          null,
          null,
          34.116027101558046,
          null
         ],
         "xaxis": "x",
         "y": [
          "L224-226-1",
          "L226-231-1",
          "L231-237-1",
          "L16-42-1",
          "L46-81-1",
          "L221-223-1",
          "L220-221-1",
          "L194-219-1",
          "L4-16-1",
          "L81-195-1",
          "L42-46-1",
          "L45-60-1",
          "L60-62-1",
          "L45-74-1",
          "L133-137-1",
          "L215-216-1",
          "L220-238-1",
          "L7-131-1",
          "L54-55-1",
          "L214-215-1"
         ],
         "yaxis": "y"
        },
        {
         "alignmentgroup": "True",
         "hovertemplate": "Decomposition part:=loop_flow_from_es<br>Flow decomposition value=%{x}<br>Branch id=%{y}<extra></extra>",
         "legendgroup": "loop_flow_from_es",
         "marker": {
          "color": "#FC0080",
          "pattern": {
           "shape": ""
          }
         },
         "name": "loop_flow_from_es",
         "offsetgroup": "loop_flow_from_es",
         "orientation": "h",
         "showlegend": true,
         "textposition": "auto",
         "texttemplate": "%{x:.0f}",
         "type": "bar",
         "x": [
          null,
          null,
          null,
          null,
          null,
          null,
          null,
          null,
          null,
          null,
          250.56676073210014,
          null,
          null,
          104.43390610990194,
          null,
          null,
          null,
          null,
          null,
          null
         ],
         "xaxis": "x",
         "y": [
          "L224-226-1",
          "L226-231-1",
          "L231-237-1",
          "L16-42-1",
          "L46-81-1",
          "L221-223-1",
          "L220-221-1",
          "L194-219-1",
          "L4-16-1",
          "L81-195-1",
          "L42-46-1",
          "L45-60-1",
          "L60-62-1",
          "L45-74-1",
          "L133-137-1",
          "L215-216-1",
          "L220-238-1",
          "L7-131-1",
          "L54-55-1",
          "L214-215-1"
         ],
         "yaxis": "y"
        },
        {
         "alignmentgroup": "True",
         "hovertemplate": "Decomposition part:=loop_flow_from_gr<br>Flow decomposition value=%{x}<br>Branch id=%{y}<extra></extra>",
         "legendgroup": "loop_flow_from_gr",
         "marker": {
          "color": "#FB0D0D",
          "pattern": {
           "shape": ""
          }
         },
         "name": "loop_flow_from_gr",
         "offsetgroup": "loop_flow_from_gr",
         "orientation": "h",
         "showlegend": true,
         "textposition": "auto",
         "texttemplate": "%{x:.0f}",
         "type": "bar",
         "x": [
          null,
          null,
          null,
          -288.5092134941769,
          null,
          null,
          null,
          null,
          -329.65926260006455,
          null,
          null,
          null,
          null,
          null,
          -613.448014611795,
          null,
          null,
          -308.50874373692335,
          null,
          null
         ],
         "xaxis": "x",
         "y": [
          "L224-226-1",
          "L226-231-1",
          "L231-237-1",
          "L16-42-1",
          "L46-81-1",
          "L221-223-1",
          "L220-221-1",
          "L194-219-1",
          "L4-16-1",
          "L81-195-1",
          "L42-46-1",
          "L45-60-1",
          "L60-62-1",
          "L45-74-1",
          "L133-137-1",
          "L215-216-1",
          "L220-238-1",
          "L7-131-1",
          "L54-55-1",
          "L214-215-1"
         ],
         "yaxis": "y"
        },
        {
         "alignmentgroup": "True",
         "hovertemplate": "Decomposition part:=loop_flow_from_gu<br>Flow decomposition value=%{x}<br>Branch id=%{y}<extra></extra>",
         "legendgroup": "loop_flow_from_gu",
         "marker": {
          "color": "#D626FF",
          "pattern": {
           "shape": ""
          }
         },
         "name": "loop_flow_from_gu",
         "offsetgroup": "loop_flow_from_gu",
         "orientation": "h",
         "showlegend": true,
         "textposition": "auto",
         "texttemplate": "%{x:.0f}",
         "type": "bar",
         "x": [
          null,
          null,
          null,
          null,
          null,
          null,
          null,
          null,
          null,
          null,
          null,
          null,
          null,
          null,
          null,
          null,
          null,
          null,
          null,
          -55.861306711281514
         ],
         "xaxis": "x",
         "y": [
          "L224-226-1",
          "L226-231-1",
          "L231-237-1",
          "L16-42-1",
          "L46-81-1",
          "L221-223-1",
          "L220-221-1",
          "L194-219-1",
          "L4-16-1",
          "L81-195-1",
          "L42-46-1",
          "L45-60-1",
          "L60-62-1",
          "L45-74-1",
          "L133-137-1",
          "L215-216-1",
          "L220-238-1",
          "L7-131-1",
          "L54-55-1",
          "L214-215-1"
         ],
         "yaxis": "y"
        },
        {
         "alignmentgroup": "True",
         "hovertemplate": "Decomposition part:=loop_flow_from_hn<br>Flow decomposition value=%{x}<br>Branch id=%{y}<extra></extra>",
         "legendgroup": "loop_flow_from_hn",
         "marker": {
          "color": "#DA16FF",
          "pattern": {
           "shape": ""
          }
         },
         "name": "loop_flow_from_hn",
         "offsetgroup": "loop_flow_from_hn",
         "orientation": "h",
         "showlegend": true,
         "textposition": "auto",
         "texttemplate": "%{x:.0f}",
         "type": "bar",
         "x": [
          null,
          null,
          -233.21177617511836,
          null,
          -263.88619032091617,
          118.59857477472691,
          103.0326652641036,
          -263.06694433234037,
          null,
          -210.88131204750712,
          null,
          null,
          null,
          null,
          null,
          -131.50569678409323,
          420.97641981269294,
          null,
          null,
          null
         ],
         "xaxis": "x",
         "y": [
          "L224-226-1",
          "L226-231-1",
          "L231-237-1",
          "L16-42-1",
          "L46-81-1",
          "L221-223-1",
          "L220-221-1",
          "L194-219-1",
          "L4-16-1",
          "L81-195-1",
          "L42-46-1",
          "L45-60-1",
          "L60-62-1",
          "L45-74-1",
          "L133-137-1",
          "L215-216-1",
          "L220-238-1",
          "L7-131-1",
          "L54-55-1",
          "L214-215-1"
         ],
         "yaxis": "y"
        },
        {
         "alignmentgroup": "True",
         "hovertemplate": "Decomposition part:=loop_flow_from_id<br>Flow decomposition value=%{x}<br>Branch id=%{y}<extra></extra>",
         "legendgroup": "loop_flow_from_id",
         "marker": {
          "color": "#86CE00",
          "pattern": {
           "shape": ""
          }
         },
         "name": "loop_flow_from_id",
         "offsetgroup": "loop_flow_from_id",
         "orientation": "h",
         "showlegend": true,
         "textposition": "auto",
         "texttemplate": "%{x:.0f}",
         "type": "bar",
         "x": [
          null,
          null,
          null,
          327.7196622559127,
          null,
          null,
          null,
          null,
          364.6725331302353,
          null,
          254.02423152392294,
          null,
          null,
          null,
          null,
          null,
          null,
          315.3414482886923,
          null,
          null
         ],
         "xaxis": "x",
         "y": [
          "L224-226-1",
          "L226-231-1",
          "L231-237-1",
          "L16-42-1",
          "L46-81-1",
          "L221-223-1",
          "L220-221-1",
          "L194-219-1",
          "L4-16-1",
          "L81-195-1",
          "L42-46-1",
          "L45-60-1",
          "L60-62-1",
          "L45-74-1",
          "L133-137-1",
          "L215-216-1",
          "L220-238-1",
          "L7-131-1",
          "L54-55-1",
          "L214-215-1"
         ],
         "yaxis": "y"
        },
        {
         "alignmentgroup": "True",
         "hovertemplate": "Decomposition part:=loop_flow_from_iq<br>Flow decomposition value=%{x}<br>Branch id=%{y}<extra></extra>",
         "legendgroup": "loop_flow_from_iq",
         "marker": {
          "color": "#6A76FC",
          "pattern": {
           "shape": ""
          }
         },
         "name": "loop_flow_from_iq",
         "offsetgroup": "loop_flow_from_iq",
         "orientation": "h",
         "showlegend": true,
         "textposition": "auto",
         "texttemplate": "%{x:.0f}",
         "type": "bar",
         "x": [
          285.93245929487966,
          285.93245929487944,
          237.7870849373335,
          null,
          null,
          315.0675407051184,
          295.72794698397684,
          174.861893368287,
          null,
          null,
          null,
          null,
          null,
          null,
          null,
          75.70200903088883,
          116.81894769230206,
          null,
          29.863523017900352,
          60.13484772638726
         ],
         "xaxis": "x",
         "y": [
          "L224-226-1",
          "L226-231-1",
          "L231-237-1",
          "L16-42-1",
          "L46-81-1",
          "L221-223-1",
          "L220-221-1",
          "L194-219-1",
          "L4-16-1",
          "L81-195-1",
          "L42-46-1",
          "L45-60-1",
          "L60-62-1",
          "L45-74-1",
          "L133-137-1",
          "L215-216-1",
          "L220-238-1",
          "L7-131-1",
          "L54-55-1",
          "L214-215-1"
         ],
         "yaxis": "y"
        },
        {
         "alignmentgroup": "True",
         "hovertemplate": "Decomposition part:=loop_flow_from_jo<br>Flow decomposition value=%{x}<br>Branch id=%{y}<extra></extra>",
         "legendgroup": "loop_flow_from_jo",
         "marker": {
          "color": "#FB00D1",
          "pattern": {
           "shape": ""
          }
         },
         "name": "loop_flow_from_jo",
         "offsetgroup": "loop_flow_from_jo",
         "orientation": "h",
         "showlegend": true,
         "textposition": "auto",
         "texttemplate": "%{x:.0f}",
         "type": "bar",
         "x": [
          null,
          null,
          null,
          -319.49024195215884,
          -248.9344348824908,
          null,
          null,
          null,
          -326.2044688719158,
          -174.3994326621528,
          -297.41080436651373,
          null,
          null,
          -133.32712137948198,
          null,
          null,
          null,
          -233.59177645461526,
          null,
          null
         ],
         "xaxis": "x",
         "y": [
          "L224-226-1",
          "L226-231-1",
          "L231-237-1",
          "L16-42-1",
          "L46-81-1",
          "L221-223-1",
          "L220-221-1",
          "L194-219-1",
          "L4-16-1",
          "L81-195-1",
          "L42-46-1",
          "L45-60-1",
          "L60-62-1",
          "L45-74-1",
          "L133-137-1",
          "L215-216-1",
          "L220-238-1",
          "L7-131-1",
          "L54-55-1",
          "L214-215-1"
         ],
         "yaxis": "y"
        },
        {
         "alignmentgroup": "True",
         "hovertemplate": "Decomposition part:=loop_flow_from_ke<br>Flow decomposition value=%{x}<br>Branch id=%{y}<extra></extra>",
         "legendgroup": "loop_flow_from_ke",
         "marker": {
          "color": "#EEA6FB",
          "pattern": {
           "shape": ""
          }
         },
         "name": "loop_flow_from_ke",
         "offsetgroup": "loop_flow_from_ke",
         "orientation": "h",
         "showlegend": true,
         "textposition": "auto",
         "texttemplate": "%{x:.0f}",
         "type": "bar",
         "x": [
          -907.0441486558997,
          -907.0441486558955,
          -849.8710487215033,
          -587.1080683408986,
          -584.8535535713272,
          -576.9558513441228,
          -550.7433182570092,
          -467.31259794662196,
          -452.61597055945685,
          -408.65670818981437,
          -388.47348494211406,
          -308.1201407977348,
          -308.12014079773473,
          -293.7263545583415,
          null,
          -193.35706735236468,
          -185.99428629266606,
          null,
          -124.50243531316521,
          -98.53851955538272
         ],
         "xaxis": "x",
         "y": [
          "L224-226-1",
          "L226-231-1",
          "L231-237-1",
          "L16-42-1",
          "L46-81-1",
          "L221-223-1",
          "L220-221-1",
          "L194-219-1",
          "L4-16-1",
          "L81-195-1",
          "L42-46-1",
          "L45-60-1",
          "L60-62-1",
          "L45-74-1",
          "L133-137-1",
          "L215-216-1",
          "L220-238-1",
          "L7-131-1",
          "L54-55-1",
          "L214-215-1"
         ],
         "yaxis": "y"
        },
        {
         "alignmentgroup": "True",
         "hovertemplate": "Decomposition part:=loop_flow_from_kg<br>Flow decomposition value=%{x}<br>Branch id=%{y}<extra></extra>",
         "legendgroup": "loop_flow_from_kg",
         "marker": {
          "color": "#FE00CE",
          "pattern": {
           "shape": ""
          }
         },
         "name": "loop_flow_from_kg",
         "offsetgroup": "loop_flow_from_kg",
         "orientation": "h",
         "showlegend": true,
         "textposition": "auto",
         "texttemplate": "%{x:.0f}",
         "type": "bar",
         "x": [
          null,
          null,
          null,
          null,
          null,
          null,
          -192.67788169440286,
          null,
          300.1180046763854,
          null,
          null,
          null,
          null,
          null,
          -295.3020740553877,
          null,
          -171.6657607080864,
          373.697533808632,
          -22.712144746490523,
          null
         ],
         "xaxis": "x",
         "y": [
          "L224-226-1",
          "L226-231-1",
          "L231-237-1",
          "L16-42-1",
          "L46-81-1",
          "L221-223-1",
          "L220-221-1",
          "L194-219-1",
          "L4-16-1",
          "L81-195-1",
          "L42-46-1",
          "L45-60-1",
          "L60-62-1",
          "L45-74-1",
          "L133-137-1",
          "L215-216-1",
          "L220-238-1",
          "L7-131-1",
          "L54-55-1",
          "L214-215-1"
         ],
         "yaxis": "y"
        },
        {
         "alignmentgroup": "True",
         "hovertemplate": "Decomposition part:=loop_flow_from_lv<br>Flow decomposition value=%{x}<br>Branch id=%{y}<extra></extra>",
         "legendgroup": "loop_flow_from_lv",
         "marker": {
          "color": "#22FFA7",
          "pattern": {
           "shape": ""
          }
         },
         "name": "loop_flow_from_lv",
         "offsetgroup": "loop_flow_from_lv",
         "orientation": "h",
         "showlegend": true,
         "textposition": "auto",
         "texttemplate": "%{x:.0f}",
         "type": "bar",
         "x": [
          null,
          null,
          null,
          null,
          null,
          null,
          null,
          null,
          null,
          null,
          null,
          -111.20844393723796,
          -111.20844393723794,
          null,
          null,
          null,
          null,
          null,
          null,
          null
         ],
         "xaxis": "x",
         "y": [
          "L224-226-1",
          "L226-231-1",
          "L231-237-1",
          "L16-42-1",
          "L46-81-1",
          "L221-223-1",
          "L220-221-1",
          "L194-219-1",
          "L4-16-1",
          "L81-195-1",
          "L42-46-1",
          "L45-60-1",
          "L60-62-1",
          "L45-74-1",
          "L133-137-1",
          "L215-216-1",
          "L220-238-1",
          "L7-131-1",
          "L54-55-1",
          "L214-215-1"
         ],
         "yaxis": "y"
        },
        {
         "alignmentgroup": "True",
         "hovertemplate": "Decomposition part:=loop_flow_from_om<br>Flow decomposition value=%{x}<br>Branch id=%{y}<extra></extra>",
         "legendgroup": "loop_flow_from_om",
         "marker": {
          "color": "#620042",
          "pattern": {
           "shape": ""
          }
         },
         "name": "loop_flow_from_om",
         "offsetgroup": "loop_flow_from_om",
         "orientation": "h",
         "showlegend": true,
         "textposition": "auto",
         "texttemplate": "%{x:.0f}",
         "type": "bar",
         "x": [
          null,
          null,
          null,
          -338.93781987645787,
          -268.32719838958127,
          null,
          null,
          -160.7707281314153,
          -343.30058470497187,
          -193.62249206103357,
          -302.3864408287049,
          null,
          null,
          -121.09914247658928,
          null,
          106.98498693235258,
          null,
          -247.53633190393367,
          null,
          261.6479285981851
         ],
         "xaxis": "x",
         "y": [
          "L224-226-1",
          "L226-231-1",
          "L231-237-1",
          "L16-42-1",
          "L46-81-1",
          "L221-223-1",
          "L220-221-1",
          "L194-219-1",
          "L4-16-1",
          "L81-195-1",
          "L42-46-1",
          "L45-60-1",
          "L60-62-1",
          "L45-74-1",
          "L133-137-1",
          "L215-216-1",
          "L220-238-1",
          "L7-131-1",
          "L54-55-1",
          "L214-215-1"
         ],
         "yaxis": "y"
        },
        {
         "alignmentgroup": "True",
         "hovertemplate": "Decomposition part:=loop_flow_from_pn<br>Flow decomposition value=%{x}<br>Branch id=%{y}<extra></extra>",
         "legendgroup": "loop_flow_from_pn",
         "marker": {
          "color": "#FF9616",
          "pattern": {
           "shape": ""
          }
         },
         "name": "loop_flow_from_pn",
         "offsetgroup": "loop_flow_from_pn",
         "orientation": "h",
         "showlegend": true,
         "textposition": "auto",
         "texttemplate": "%{x:.0f}",
         "type": "bar",
         "x": [
          null,
          null,
          null,
          null,
          null,
          null,
          null,
          null,
          null,
          null,
          null,
          null,
          null,
          null,
          null,
          null,
          null,
          null,
          null,
          null
         ],
         "xaxis": "x",
         "y": [
          "L224-226-1",
          "L226-231-1",
          "L231-237-1",
          "L16-42-1",
          "L46-81-1",
          "L221-223-1",
          "L220-221-1",
          "L194-219-1",
          "L4-16-1",
          "L81-195-1",
          "L42-46-1",
          "L45-60-1",
          "L60-62-1",
          "L45-74-1",
          "L133-137-1",
          "L215-216-1",
          "L220-238-1",
          "L7-131-1",
          "L54-55-1",
          "L214-215-1"
         ],
         "yaxis": "y"
        },
        {
         "alignmentgroup": "True",
         "hovertemplate": "Decomposition part:=loop_flow_from_rs<br>Flow decomposition value=%{x}<br>Branch id=%{y}<extra></extra>",
         "legendgroup": "loop_flow_from_rs",
         "marker": {
          "color": "#FC6955",
          "pattern": {
           "shape": ""
          }
         },
         "name": "loop_flow_from_rs",
         "offsetgroup": "loop_flow_from_rs",
         "orientation": "h",
         "showlegend": true,
         "textposition": "auto",
         "texttemplate": "%{x:.0f}",
         "type": "bar",
         "x": [
          null,
          null,
          null,
          null,
          null,
          null,
          null,
          null,
          null,
          null,
          null,
          null,
          null,
          null,
          null,
          76.9382160840201,
          null,
          null,
          null,
          null
         ],
         "xaxis": "x",
         "y": [
          "L224-226-1",
          "L226-231-1",
          "L231-237-1",
          "L16-42-1",
          "L46-81-1",
          "L221-223-1",
          "L220-221-1",
          "L194-219-1",
          "L4-16-1",
          "L81-195-1",
          "L42-46-1",
          "L45-60-1",
          "L60-62-1",
          "L45-74-1",
          "L133-137-1",
          "L215-216-1",
          "L220-238-1",
          "L7-131-1",
          "L54-55-1",
          "L214-215-1"
         ],
         "yaxis": "y"
        },
        {
         "alignmentgroup": "True",
         "hovertemplate": "Decomposition part:=loop_flow_from_rw<br>Flow decomposition value=%{x}<br>Branch id=%{y}<extra></extra>",
         "legendgroup": "loop_flow_from_rw",
         "marker": {
          "color": "#479B55",
          "pattern": {
           "shape": ""
          }
         },
         "name": "loop_flow_from_rw",
         "offsetgroup": "loop_flow_from_rw",
         "orientation": "h",
         "showlegend": true,
         "textposition": "auto",
         "texttemplate": "%{x:.0f}",
         "type": "bar",
         "x": [
          null,
          null,
          null,
          null,
          null,
          null,
          null,
          null,
          null,
          null,
          null,
          null,
          null,
          null,
          null,
          null,
          -69.70301057520345,
          null,
          null,
          null
         ],
         "xaxis": "x",
         "y": [
          "L224-226-1",
          "L226-231-1",
          "L231-237-1",
          "L16-42-1",
          "L46-81-1",
          "L221-223-1",
          "L220-221-1",
          "L194-219-1",
          "L4-16-1",
          "L81-195-1",
          "L42-46-1",
          "L45-60-1",
          "L60-62-1",
          "L45-74-1",
          "L133-137-1",
          "L215-216-1",
          "L220-238-1",
          "L7-131-1",
          "L54-55-1",
          "L214-215-1"
         ],
         "yaxis": "y"
        },
        {
         "alignmentgroup": "True",
         "hovertemplate": "Decomposition part:=masked_flows_positive<br>Flow decomposition value=%{x}<br>Branch id=%{y}<extra></extra>",
         "legendgroup": "masked_flows_positive",
         "marker": {
          "color": "#6E899C",
          "pattern": {
           "shape": ""
          }
         },
         "name": "masked_flows_positive",
         "offsetgroup": "masked_flows_positive",
         "orientation": "h",
         "showlegend": true,
         "textposition": "auto",
         "texttemplate": "%{x:.0f}",
         "type": "bar",
         "x": [
          138.82853058809613,
          138.8285305880951,
          229.67125112404563,
          720.3227963317764,
          765.4425235923583,
          183.31427637538107,
          38.91379549667004,
          347.51013438256825,
          422.24074641387404,
          496.82575337980865,
          454.1764918900632,
          282.06991981309284,
          282.06991981309267,
          281.4599880575119,
          820.709137564038,
          192.81580151729355,
          186.31799742090834,
          281.31449307861305,
          67.3997460451788,
          198.83249453348506
         ],
         "xaxis": "x",
         "y": [
          "L224-226-1",
          "L226-231-1",
          "L231-237-1",
          "L16-42-1",
          "L46-81-1",
          "L221-223-1",
          "L220-221-1",
          "L194-219-1",
          "L4-16-1",
          "L81-195-1",
          "L42-46-1",
          "L45-60-1",
          "L60-62-1",
          "L45-74-1",
          "L133-137-1",
          "L215-216-1",
          "L220-238-1",
          "L7-131-1",
          "L54-55-1",
          "L214-215-1"
         ],
         "yaxis": "y"
        },
        {
         "alignmentgroup": "True",
         "hovertemplate": "Decomposition part:=masked_flows_negative<br>Flow decomposition value=%{x}<br>Branch id=%{y}<extra></extra>",
         "legendgroup": "masked_flows_negative",
         "marker": {
          "color": "#00FE35",
          "pattern": {
           "shape": ""
          }
         },
         "name": "masked_flows_negative",
         "offsetgroup": "masked_flows_negative",
         "orientation": "h",
         "showlegend": true,
         "textposition": "auto",
         "texttemplate": "%{x:.0f}",
         "type": "bar",
         "x": [
          -301.9128511501026,
          -301.9128511501009,
          -426.3347475004574,
          -908.580570329774,
          -566.006062554455,
          -138.8285305880956,
          -95.18974326891012,
          -466.5286144390038,
          -393.2555721001894,
          -340.2528051522202,
          -780.4994020678846,
          -457.7346772357971,
          -457.73467723579694,
          -276.96769711913396,
          -869.1647291488385,
          -47.63600824656074,
          -66.9407120987365,
          -446.7895266167846,
          -43.05250959087864,
          -125.41303755936617
         ],
         "xaxis": "x",
         "y": [
          "L224-226-1",
          "L226-231-1",
          "L231-237-1",
          "L16-42-1",
          "L46-81-1",
          "L221-223-1",
          "L220-221-1",
          "L194-219-1",
          "L4-16-1",
          "L81-195-1",
          "L42-46-1",
          "L45-60-1",
          "L60-62-1",
          "L45-74-1",
          "L133-137-1",
          "L215-216-1",
          "L220-238-1",
          "L7-131-1",
          "L54-55-1",
          "L214-215-1"
         ],
         "yaxis": "y"
        },
        {
         "mode": "lines+markers",
         "name": "total_flow",
         "type": "scatter",
         "x": [
          10.841631127993885,
          10.841631127996356,
          428.33267549784534,
          438.12230030190926,
          256.1720192548213,
          316.1583688720012,
          36.34398290709416,
          92.4822790535861,
          777.4810582517831,
          68.75767118991284,
          552.2414723466989,
          250.24221919377237,
          250.24221919377266,
          209.55221013033045,
          718.0485504289626,
          160.36495643612574,
          306.21332302314966,
          5.888723770117668,
          43.541553213136154,
          250.2779221816151
         ],
         "y": [
          "L224-226-1",
          "L226-231-1",
          "L231-237-1",
          "L16-42-1",
          "L46-81-1",
          "L221-223-1",
          "L220-221-1",
          "L194-219-1",
          "L4-16-1",
          "L81-195-1",
          "L42-46-1",
          "L45-60-1",
          "L60-62-1",
          "L45-74-1",
          "L133-137-1",
          "L215-216-1",
          "L220-238-1",
          "L7-131-1",
          "L54-55-1",
          "L214-215-1"
         ]
        },
        {
         "mode": "lines+markers",
         "name": "total_loop_flow",
         "type": "scatter",
         "x": [
          10.841631127993885,
          10.841631127996356,
          428.33267549784534,
          438.12230030190926,
          256.1720192548213,
          316.1583688720012,
          36.34398290709416,
          92.4822790535861,
          777.4810582517831,
          68.75767118991284,
          552.2414723466989,
          250.24221919377237,
          250.24221919377266,
          209.55221013033045,
          718.0485504289626,
          160.36495643612574,
          306.21332302314966,
          5.888723770117668,
          43.541553213136154,
          250.2779221816151
         ],
         "y": [
          "L224-226-1",
          "L226-231-1",
          "L231-237-1",
          "L16-42-1",
          "L46-81-1",
          "L221-223-1",
          "L220-221-1",
          "L194-219-1",
          "L4-16-1",
          "L81-195-1",
          "L42-46-1",
          "L45-60-1",
          "L60-62-1",
          "L45-74-1",
          "L133-137-1",
          "L215-216-1",
          "L220-238-1",
          "L7-131-1",
          "L54-55-1",
          "L214-215-1"
         ]
        }
       ],
       "layout": {
        "barmode": "relative",
        "height": 1000,
        "legend": {
         "title": {
          "text": "Decomposition part:"
         },
         "tracegroupgap": 0
        },
        "template": {
         "data": {
          "bar": [
           {
            "error_x": {
             "color": "rgb(36,36,36)"
            },
            "error_y": {
             "color": "rgb(36,36,36)"
            },
            "marker": {
             "line": {
              "color": "rgb(234,234,242)",
              "width": 0.5
             },
             "pattern": {
              "fillmode": "overlay",
              "size": 10,
              "solidity": 0.2
             }
            },
            "type": "bar"
           }
          ],
          "barpolar": [
           {
            "marker": {
             "line": {
              "color": "rgb(234,234,242)",
              "width": 0.5
             },
             "pattern": {
              "fillmode": "overlay",
              "size": 10,
              "solidity": 0.2
             }
            },
            "type": "barpolar"
           }
          ],
          "carpet": [
           {
            "aaxis": {
             "endlinecolor": "rgb(36,36,36)",
             "gridcolor": "white",
             "linecolor": "white",
             "minorgridcolor": "white",
             "startlinecolor": "rgb(36,36,36)"
            },
            "baxis": {
             "endlinecolor": "rgb(36,36,36)",
             "gridcolor": "white",
             "linecolor": "white",
             "minorgridcolor": "white",
             "startlinecolor": "rgb(36,36,36)"
            },
            "type": "carpet"
           }
          ],
          "choropleth": [
           {
            "colorbar": {
             "outlinewidth": 0,
             "tickcolor": "rgb(36,36,36)",
             "ticklen": 8,
             "ticks": "outside",
             "tickwidth": 2
            },
            "type": "choropleth"
           }
          ],
          "contour": [
           {
            "colorbar": {
             "outlinewidth": 0,
             "tickcolor": "rgb(36,36,36)",
             "ticklen": 8,
             "ticks": "outside",
             "tickwidth": 2
            },
            "colorscale": [
             [
              0,
              "rgb(2,4,25)"
             ],
             [
              0.06274509803921569,
              "rgb(24,15,41)"
             ],
             [
              0.12549019607843137,
              "rgb(47,23,57)"
             ],
             [
              0.18823529411764706,
              "rgb(71,28,72)"
             ],
             [
              0.25098039215686274,
              "rgb(97,30,82)"
             ],
             [
              0.3137254901960784,
              "rgb(123,30,89)"
             ],
             [
              0.3764705882352941,
              "rgb(150,27,91)"
             ],
             [
              0.4392156862745098,
              "rgb(177,22,88)"
             ],
             [
              0.5019607843137255,
              "rgb(203,26,79)"
             ],
             [
              0.5647058823529412,
              "rgb(223,47,67)"
             ],
             [
              0.6274509803921569,
              "rgb(236,76,61)"
             ],
             [
              0.6901960784313725,
              "rgb(242,107,73)"
             ],
             [
              0.7529411764705882,
              "rgb(244,135,95)"
             ],
             [
              0.8156862745098039,
              "rgb(245,162,122)"
             ],
             [
              0.8784313725490196,
              "rgb(246,188,153)"
             ],
             [
              0.9411764705882353,
              "rgb(247,212,187)"
             ],
             [
              1,
              "rgb(250,234,220)"
             ]
            ],
            "type": "contour"
           }
          ],
          "contourcarpet": [
           {
            "colorbar": {
             "outlinewidth": 0,
             "tickcolor": "rgb(36,36,36)",
             "ticklen": 8,
             "ticks": "outside",
             "tickwidth": 2
            },
            "type": "contourcarpet"
           }
          ],
          "heatmap": [
           {
            "colorbar": {
             "outlinewidth": 0,
             "tickcolor": "rgb(36,36,36)",
             "ticklen": 8,
             "ticks": "outside",
             "tickwidth": 2
            },
            "colorscale": [
             [
              0,
              "rgb(2,4,25)"
             ],
             [
              0.06274509803921569,
              "rgb(24,15,41)"
             ],
             [
              0.12549019607843137,
              "rgb(47,23,57)"
             ],
             [
              0.18823529411764706,
              "rgb(71,28,72)"
             ],
             [
              0.25098039215686274,
              "rgb(97,30,82)"
             ],
             [
              0.3137254901960784,
              "rgb(123,30,89)"
             ],
             [
              0.3764705882352941,
              "rgb(150,27,91)"
             ],
             [
              0.4392156862745098,
              "rgb(177,22,88)"
             ],
             [
              0.5019607843137255,
              "rgb(203,26,79)"
             ],
             [
              0.5647058823529412,
              "rgb(223,47,67)"
             ],
             [
              0.6274509803921569,
              "rgb(236,76,61)"
             ],
             [
              0.6901960784313725,
              "rgb(242,107,73)"
             ],
             [
              0.7529411764705882,
              "rgb(244,135,95)"
             ],
             [
              0.8156862745098039,
              "rgb(245,162,122)"
             ],
             [
              0.8784313725490196,
              "rgb(246,188,153)"
             ],
             [
              0.9411764705882353,
              "rgb(247,212,187)"
             ],
             [
              1,
              "rgb(250,234,220)"
             ]
            ],
            "type": "heatmap"
           }
          ],
          "heatmapgl": [
           {
            "colorbar": {
             "outlinewidth": 0,
             "tickcolor": "rgb(36,36,36)",
             "ticklen": 8,
             "ticks": "outside",
             "tickwidth": 2
            },
            "colorscale": [
             [
              0,
              "rgb(2,4,25)"
             ],
             [
              0.06274509803921569,
              "rgb(24,15,41)"
             ],
             [
              0.12549019607843137,
              "rgb(47,23,57)"
             ],
             [
              0.18823529411764706,
              "rgb(71,28,72)"
             ],
             [
              0.25098039215686274,
              "rgb(97,30,82)"
             ],
             [
              0.3137254901960784,
              "rgb(123,30,89)"
             ],
             [
              0.3764705882352941,
              "rgb(150,27,91)"
             ],
             [
              0.4392156862745098,
              "rgb(177,22,88)"
             ],
             [
              0.5019607843137255,
              "rgb(203,26,79)"
             ],
             [
              0.5647058823529412,
              "rgb(223,47,67)"
             ],
             [
              0.6274509803921569,
              "rgb(236,76,61)"
             ],
             [
              0.6901960784313725,
              "rgb(242,107,73)"
             ],
             [
              0.7529411764705882,
              "rgb(244,135,95)"
             ],
             [
              0.8156862745098039,
              "rgb(245,162,122)"
             ],
             [
              0.8784313725490196,
              "rgb(246,188,153)"
             ],
             [
              0.9411764705882353,
              "rgb(247,212,187)"
             ],
             [
              1,
              "rgb(250,234,220)"
             ]
            ],
            "type": "heatmapgl"
           }
          ],
          "histogram": [
           {
            "marker": {
             "pattern": {
              "fillmode": "overlay",
              "size": 10,
              "solidity": 0.2
             }
            },
            "type": "histogram"
           }
          ],
          "histogram2d": [
           {
            "colorbar": {
             "outlinewidth": 0,
             "tickcolor": "rgb(36,36,36)",
             "ticklen": 8,
             "ticks": "outside",
             "tickwidth": 2
            },
            "colorscale": [
             [
              0,
              "rgb(2,4,25)"
             ],
             [
              0.06274509803921569,
              "rgb(24,15,41)"
             ],
             [
              0.12549019607843137,
              "rgb(47,23,57)"
             ],
             [
              0.18823529411764706,
              "rgb(71,28,72)"
             ],
             [
              0.25098039215686274,
              "rgb(97,30,82)"
             ],
             [
              0.3137254901960784,
              "rgb(123,30,89)"
             ],
             [
              0.3764705882352941,
              "rgb(150,27,91)"
             ],
             [
              0.4392156862745098,
              "rgb(177,22,88)"
             ],
             [
              0.5019607843137255,
              "rgb(203,26,79)"
             ],
             [
              0.5647058823529412,
              "rgb(223,47,67)"
             ],
             [
              0.6274509803921569,
              "rgb(236,76,61)"
             ],
             [
              0.6901960784313725,
              "rgb(242,107,73)"
             ],
             [
              0.7529411764705882,
              "rgb(244,135,95)"
             ],
             [
              0.8156862745098039,
              "rgb(245,162,122)"
             ],
             [
              0.8784313725490196,
              "rgb(246,188,153)"
             ],
             [
              0.9411764705882353,
              "rgb(247,212,187)"
             ],
             [
              1,
              "rgb(250,234,220)"
             ]
            ],
            "type": "histogram2d"
           }
          ],
          "histogram2dcontour": [
           {
            "colorbar": {
             "outlinewidth": 0,
             "tickcolor": "rgb(36,36,36)",
             "ticklen": 8,
             "ticks": "outside",
             "tickwidth": 2
            },
            "colorscale": [
             [
              0,
              "rgb(2,4,25)"
             ],
             [
              0.06274509803921569,
              "rgb(24,15,41)"
             ],
             [
              0.12549019607843137,
              "rgb(47,23,57)"
             ],
             [
              0.18823529411764706,
              "rgb(71,28,72)"
             ],
             [
              0.25098039215686274,
              "rgb(97,30,82)"
             ],
             [
              0.3137254901960784,
              "rgb(123,30,89)"
             ],
             [
              0.3764705882352941,
              "rgb(150,27,91)"
             ],
             [
              0.4392156862745098,
              "rgb(177,22,88)"
             ],
             [
              0.5019607843137255,
              "rgb(203,26,79)"
             ],
             [
              0.5647058823529412,
              "rgb(223,47,67)"
             ],
             [
              0.6274509803921569,
              "rgb(236,76,61)"
             ],
             [
              0.6901960784313725,
              "rgb(242,107,73)"
             ],
             [
              0.7529411764705882,
              "rgb(244,135,95)"
             ],
             [
              0.8156862745098039,
              "rgb(245,162,122)"
             ],
             [
              0.8784313725490196,
              "rgb(246,188,153)"
             ],
             [
              0.9411764705882353,
              "rgb(247,212,187)"
             ],
             [
              1,
              "rgb(250,234,220)"
             ]
            ],
            "type": "histogram2dcontour"
           }
          ],
          "mesh3d": [
           {
            "colorbar": {
             "outlinewidth": 0,
             "tickcolor": "rgb(36,36,36)",
             "ticklen": 8,
             "ticks": "outside",
             "tickwidth": 2
            },
            "type": "mesh3d"
           }
          ],
          "parcoords": [
           {
            "line": {
             "colorbar": {
              "outlinewidth": 0,
              "tickcolor": "rgb(36,36,36)",
              "ticklen": 8,
              "ticks": "outside",
              "tickwidth": 2
             }
            },
            "type": "parcoords"
           }
          ],
          "pie": [
           {
            "automargin": true,
            "type": "pie"
           }
          ],
          "scatter": [
           {
            "fillpattern": {
             "fillmode": "overlay",
             "size": 10,
             "solidity": 0.2
            },
            "type": "scatter"
           }
          ],
          "scatter3d": [
           {
            "line": {
             "colorbar": {
              "outlinewidth": 0,
              "tickcolor": "rgb(36,36,36)",
              "ticklen": 8,
              "ticks": "outside",
              "tickwidth": 2
             }
            },
            "marker": {
             "colorbar": {
              "outlinewidth": 0,
              "tickcolor": "rgb(36,36,36)",
              "ticklen": 8,
              "ticks": "outside",
              "tickwidth": 2
             }
            },
            "type": "scatter3d"
           }
          ],
          "scattercarpet": [
           {
            "marker": {
             "colorbar": {
              "outlinewidth": 0,
              "tickcolor": "rgb(36,36,36)",
              "ticklen": 8,
              "ticks": "outside",
              "tickwidth": 2
             }
            },
            "type": "scattercarpet"
           }
          ],
          "scattergeo": [
           {
            "marker": {
             "colorbar": {
              "outlinewidth": 0,
              "tickcolor": "rgb(36,36,36)",
              "ticklen": 8,
              "ticks": "outside",
              "tickwidth": 2
             }
            },
            "type": "scattergeo"
           }
          ],
          "scattergl": [
           {
            "marker": {
             "colorbar": {
              "outlinewidth": 0,
              "tickcolor": "rgb(36,36,36)",
              "ticklen": 8,
              "ticks": "outside",
              "tickwidth": 2
             }
            },
            "type": "scattergl"
           }
          ],
          "scattermapbox": [
           {
            "marker": {
             "colorbar": {
              "outlinewidth": 0,
              "tickcolor": "rgb(36,36,36)",
              "ticklen": 8,
              "ticks": "outside",
              "tickwidth": 2
             }
            },
            "type": "scattermapbox"
           }
          ],
          "scatterpolar": [
           {
            "marker": {
             "colorbar": {
              "outlinewidth": 0,
              "tickcolor": "rgb(36,36,36)",
              "ticklen": 8,
              "ticks": "outside",
              "tickwidth": 2
             }
            },
            "type": "scatterpolar"
           }
          ],
          "scatterpolargl": [
           {
            "marker": {
             "colorbar": {
              "outlinewidth": 0,
              "tickcolor": "rgb(36,36,36)",
              "ticklen": 8,
              "ticks": "outside",
              "tickwidth": 2
             }
            },
            "type": "scatterpolargl"
           }
          ],
          "scatterternary": [
           {
            "marker": {
             "colorbar": {
              "outlinewidth": 0,
              "tickcolor": "rgb(36,36,36)",
              "ticklen": 8,
              "ticks": "outside",
              "tickwidth": 2
             }
            },
            "type": "scatterternary"
           }
          ],
          "surface": [
           {
            "colorbar": {
             "outlinewidth": 0,
             "tickcolor": "rgb(36,36,36)",
             "ticklen": 8,
             "ticks": "outside",
             "tickwidth": 2
            },
            "colorscale": [
             [
              0,
              "rgb(2,4,25)"
             ],
             [
              0.06274509803921569,
              "rgb(24,15,41)"
             ],
             [
              0.12549019607843137,
              "rgb(47,23,57)"
             ],
             [
              0.18823529411764706,
              "rgb(71,28,72)"
             ],
             [
              0.25098039215686274,
              "rgb(97,30,82)"
             ],
             [
              0.3137254901960784,
              "rgb(123,30,89)"
             ],
             [
              0.3764705882352941,
              "rgb(150,27,91)"
             ],
             [
              0.4392156862745098,
              "rgb(177,22,88)"
             ],
             [
              0.5019607843137255,
              "rgb(203,26,79)"
             ],
             [
              0.5647058823529412,
              "rgb(223,47,67)"
             ],
             [
              0.6274509803921569,
              "rgb(236,76,61)"
             ],
             [
              0.6901960784313725,
              "rgb(242,107,73)"
             ],
             [
              0.7529411764705882,
              "rgb(244,135,95)"
             ],
             [
              0.8156862745098039,
              "rgb(245,162,122)"
             ],
             [
              0.8784313725490196,
              "rgb(246,188,153)"
             ],
             [
              0.9411764705882353,
              "rgb(247,212,187)"
             ],
             [
              1,
              "rgb(250,234,220)"
             ]
            ],
            "type": "surface"
           }
          ],
          "table": [
           {
            "cells": {
             "fill": {
              "color": "rgb(231,231,240)"
             },
             "line": {
              "color": "white"
             }
            },
            "header": {
             "fill": {
              "color": "rgb(183,183,191)"
             },
             "line": {
              "color": "white"
             }
            },
            "type": "table"
           }
          ]
         },
         "layout": {
          "annotationdefaults": {
           "arrowcolor": "rgb(67,103,167)"
          },
          "autotypenumbers": "strict",
          "coloraxis": {
           "colorbar": {
            "outlinewidth": 0,
            "tickcolor": "rgb(36,36,36)",
            "ticklen": 8,
            "ticks": "outside",
            "tickwidth": 2
           }
          },
          "colorscale": {
           "sequential": [
            [
             0,
             "rgb(2,4,25)"
            ],
            [
             0.06274509803921569,
             "rgb(24,15,41)"
            ],
            [
             0.12549019607843137,
             "rgb(47,23,57)"
            ],
            [
             0.18823529411764706,
             "rgb(71,28,72)"
            ],
            [
             0.25098039215686274,
             "rgb(97,30,82)"
            ],
            [
             0.3137254901960784,
             "rgb(123,30,89)"
            ],
            [
             0.3764705882352941,
             "rgb(150,27,91)"
            ],
            [
             0.4392156862745098,
             "rgb(177,22,88)"
            ],
            [
             0.5019607843137255,
             "rgb(203,26,79)"
            ],
            [
             0.5647058823529412,
             "rgb(223,47,67)"
            ],
            [
             0.6274509803921569,
             "rgb(236,76,61)"
            ],
            [
             0.6901960784313725,
             "rgb(242,107,73)"
            ],
            [
             0.7529411764705882,
             "rgb(244,135,95)"
            ],
            [
             0.8156862745098039,
             "rgb(245,162,122)"
            ],
            [
             0.8784313725490196,
             "rgb(246,188,153)"
            ],
            [
             0.9411764705882353,
             "rgb(247,212,187)"
            ],
            [
             1,
             "rgb(250,234,220)"
            ]
           ],
           "sequentialminus": [
            [
             0,
             "rgb(2,4,25)"
            ],
            [
             0.06274509803921569,
             "rgb(24,15,41)"
            ],
            [
             0.12549019607843137,
             "rgb(47,23,57)"
            ],
            [
             0.18823529411764706,
             "rgb(71,28,72)"
            ],
            [
             0.25098039215686274,
             "rgb(97,30,82)"
            ],
            [
             0.3137254901960784,
             "rgb(123,30,89)"
            ],
            [
             0.3764705882352941,
             "rgb(150,27,91)"
            ],
            [
             0.4392156862745098,
             "rgb(177,22,88)"
            ],
            [
             0.5019607843137255,
             "rgb(203,26,79)"
            ],
            [
             0.5647058823529412,
             "rgb(223,47,67)"
            ],
            [
             0.6274509803921569,
             "rgb(236,76,61)"
            ],
            [
             0.6901960784313725,
             "rgb(242,107,73)"
            ],
            [
             0.7529411764705882,
             "rgb(244,135,95)"
            ],
            [
             0.8156862745098039,
             "rgb(245,162,122)"
            ],
            [
             0.8784313725490196,
             "rgb(246,188,153)"
            ],
            [
             0.9411764705882353,
             "rgb(247,212,187)"
            ],
            [
             1,
             "rgb(250,234,220)"
            ]
           ]
          },
          "colorway": [
           "rgb(76,114,176)",
           "rgb(221,132,82)",
           "rgb(85,168,104)",
           "rgb(196,78,82)",
           "rgb(129,114,179)",
           "rgb(147,120,96)",
           "rgb(218,139,195)",
           "rgb(140,140,140)",
           "rgb(204,185,116)",
           "rgb(100,181,205)"
          ],
          "font": {
           "color": "rgb(36,36,36)"
          },
          "geo": {
           "bgcolor": "white",
           "lakecolor": "white",
           "landcolor": "rgb(234,234,242)",
           "showlakes": true,
           "showland": true,
           "subunitcolor": "white"
          },
          "hoverlabel": {
           "align": "left"
          },
          "hovermode": "closest",
          "paper_bgcolor": "white",
          "plot_bgcolor": "rgb(234,234,242)",
          "polar": {
           "angularaxis": {
            "gridcolor": "white",
            "linecolor": "white",
            "showgrid": true,
            "ticks": ""
           },
           "bgcolor": "rgb(234,234,242)",
           "radialaxis": {
            "gridcolor": "white",
            "linecolor": "white",
            "showgrid": true,
            "ticks": ""
           }
          },
          "scene": {
           "xaxis": {
            "backgroundcolor": "rgb(234,234,242)",
            "gridcolor": "white",
            "gridwidth": 2,
            "linecolor": "white",
            "showbackground": true,
            "showgrid": true,
            "ticks": "",
            "zerolinecolor": "white"
           },
           "yaxis": {
            "backgroundcolor": "rgb(234,234,242)",
            "gridcolor": "white",
            "gridwidth": 2,
            "linecolor": "white",
            "showbackground": true,
            "showgrid": true,
            "ticks": "",
            "zerolinecolor": "white"
           },
           "zaxis": {
            "backgroundcolor": "rgb(234,234,242)",
            "gridcolor": "white",
            "gridwidth": 2,
            "linecolor": "white",
            "showbackground": true,
            "showgrid": true,
            "ticks": "",
            "zerolinecolor": "white"
           }
          },
          "shapedefaults": {
           "fillcolor": "rgb(67,103,167)",
           "line": {
            "width": 0
           },
           "opacity": 0.5
          },
          "ternary": {
           "aaxis": {
            "gridcolor": "white",
            "linecolor": "white",
            "showgrid": true,
            "ticks": ""
           },
           "baxis": {
            "gridcolor": "white",
            "linecolor": "white",
            "showgrid": true,
            "ticks": ""
           },
           "bgcolor": "rgb(234,234,242)",
           "caxis": {
            "gridcolor": "white",
            "linecolor": "white",
            "showgrid": true,
            "ticks": ""
           }
          },
          "xaxis": {
           "automargin": true,
           "gridcolor": "white",
           "linecolor": "white",
           "showgrid": true,
           "ticks": "",
           "title": {
            "standoff": 15
           },
           "zerolinecolor": "white"
          },
          "yaxis": {
           "automargin": true,
           "gridcolor": "white",
           "linecolor": "white",
           "showgrid": true,
           "ticks": "",
           "title": {
            "standoff": 15
           },
           "zerolinecolor": "white"
          }
         }
        },
        "title": {
         "text": "Sorted by: loop_flow_from_ke, ascending: True, head: 20"
        },
        "xaxis": {
         "anchor": "y",
         "domain": [
          0,
          1
         ],
         "title": {
          "text": "Flow decomposition value"
         }
        },
        "yaxis": {
         "anchor": "x",
         "domain": [
          0,
          1
         ],
         "title": {
          "text": "Branch id"
         }
        }
       }
      }
     },
     "metadata": {},
     "output_type": "display_data"
    }
   ],
   "source": [
    "flow_decomposition_bar_chart(f'loop_flow_from_{random.Random(42).choice(list(countries)).lower()}', ascending=True)"
   ]
  },
  {
   "cell_type": "code",
   "execution_count": 24,
   "metadata": {},
   "outputs": [
    {
     "data": {
      "application/vnd.plotly.v1+json": {
       "config": {
        "plotlyServerURL": "https://plot.ly"
       },
       "data": [
        {
         "alignmentgroup": "True",
         "hovertemplate": "Decomposition part:=commercial_flow<br>Flow decomposition value=%{x}<br>Branch id=%{y}<extra></extra>",
         "legendgroup": "commercial_flow",
         "marker": {
          "color": "#0DF9FF",
          "pattern": {
           "shape": ""
          }
         },
         "name": "commercial_flow",
         "offsetgroup": "commercial_flow",
         "orientation": "h",
         "showlegend": true,
         "textposition": "auto",
         "texttemplate": "%{x:.0f}",
         "type": "bar",
         "x": [
          null,
          null,
          null,
          null,
          null,
          null,
          null,
          null,
          null,
          null,
          null,
          null,
          null,
          null,
          null,
          null,
          null,
          null,
          null,
          null
         ],
         "xaxis": "x",
         "y": [
          "L16-42-1",
          "L42-46-1",
          "L4-16-1",
          "L46-81-1",
          "L81-195-1",
          "L194-219-1",
          "L45-74-1",
          "L62-144-1",
          "L231-237-1",
          "L91-97-1",
          "L143-149-1",
          "L60-62-1",
          "L45-60-1",
          "L43-53-1",
          "L89-91-1",
          "L74-562-1",
          "L8-14-1",
          "L14-15-1",
          "L8-11-1",
          "L224-226-1"
         ],
         "yaxis": "y"
        },
        {
         "alignmentgroup": "True",
         "hovertemplate": "Decomposition part:=pst_flow<br>Flow decomposition value=%{x}<br>Branch id=%{y}<extra></extra>",
         "legendgroup": "pst_flow",
         "marker": {
          "color": "#AF0038",
          "pattern": {
           "shape": ""
          }
         },
         "name": "pst_flow",
         "offsetgroup": "pst_flow",
         "orientation": "h",
         "showlegend": true,
         "textposition": "auto",
         "texttemplate": "%{x:.0f}",
         "type": "bar",
         "x": [
          null,
          null,
          null,
          null,
          null,
          null,
          null,
          null,
          null,
          null,
          null,
          null,
          null,
          null,
          null,
          null,
          null,
          null,
          null,
          null
         ],
         "xaxis": "x",
         "y": [
          "L16-42-1",
          "L42-46-1",
          "L4-16-1",
          "L46-81-1",
          "L81-195-1",
          "L194-219-1",
          "L45-74-1",
          "L62-144-1",
          "L231-237-1",
          "L91-97-1",
          "L143-149-1",
          "L60-62-1",
          "L45-60-1",
          "L43-53-1",
          "L89-91-1",
          "L74-562-1",
          "L8-14-1",
          "L14-15-1",
          "L8-11-1",
          "L224-226-1"
         ],
         "yaxis": "y"
        },
        {
         "alignmentgroup": "True",
         "hovertemplate": "Decomposition part:=loop_flow_from_ag<br>Flow decomposition value=%{x}<br>Branch id=%{y}<extra></extra>",
         "legendgroup": "loop_flow_from_ag",
         "marker": {
          "color": "#FD3216",
          "pattern": {
           "shape": ""
          }
         },
         "name": "loop_flow_from_ag",
         "offsetgroup": "loop_flow_from_ag",
         "orientation": "h",
         "showlegend": true,
         "textposition": "auto",
         "texttemplate": "%{x:.0f}",
         "type": "bar",
         "x": [
          578.9558605970519,
          538.0538621863842,
          575.5911688327742,
          468.7470749465545,
          300.15759635259354,
          319.15852315759514,
          207.1071591091071,
          279.0084951111644,
          981.3687958780288,
          18.19219265674488,
          24.55518000965833,
          224.93358325663667,
          224.9335832566368,
          null,
          null,
          null,
          116.52774911837261,
          116.52774911837264,
          36.455334621015545,
          507.0826850551432
         ],
         "xaxis": "x",
         "y": [
          "L16-42-1",
          "L42-46-1",
          "L4-16-1",
          "L46-81-1",
          "L81-195-1",
          "L194-219-1",
          "L45-74-1",
          "L62-144-1",
          "L231-237-1",
          "L91-97-1",
          "L143-149-1",
          "L60-62-1",
          "L45-60-1",
          "L43-53-1",
          "L89-91-1",
          "L74-562-1",
          "L8-14-1",
          "L14-15-1",
          "L8-11-1",
          "L224-226-1"
         ],
         "yaxis": "y"
        },
        {
         "alignmentgroup": "True",
         "hovertemplate": "Decomposition part:=loop_flow_from_az<br>Flow decomposition value=%{x}<br>Branch id=%{y}<extra></extra>",
         "legendgroup": "loop_flow_from_az",
         "marker": {
          "color": "#00A08B",
          "pattern": {
           "shape": ""
          }
         },
         "name": "loop_flow_from_az",
         "offsetgroup": "loop_flow_from_az",
         "orientation": "h",
         "showlegend": true,
         "textposition": "auto",
         "texttemplate": "%{x:.0f}",
         "type": "bar",
         "x": [
          753.4288101300367,
          668.9274545014225,
          752.4359517579494,
          500.3118213631328,
          303.6759078881241,
          302.1419457191083,
          220.04189527633292,
          null,
          386.8651648837547,
          null,
          null,
          null,
          null,
          17.86311555645641,
          null,
          null,
          214.29624858102505,
          214.29624858102505,
          null,
          287.954955995877
         ],
         "xaxis": "x",
         "y": [
          "L16-42-1",
          "L42-46-1",
          "L4-16-1",
          "L46-81-1",
          "L81-195-1",
          "L194-219-1",
          "L45-74-1",
          "L62-144-1",
          "L231-237-1",
          "L91-97-1",
          "L143-149-1",
          "L60-62-1",
          "L45-60-1",
          "L43-53-1",
          "L89-91-1",
          "L74-562-1",
          "L8-14-1",
          "L14-15-1",
          "L8-11-1",
          "L224-226-1"
         ],
         "yaxis": "y"
        },
        {
         "alignmentgroup": "True",
         "hovertemplate": "Decomposition part:=loop_flow_from_be<br>Flow decomposition value=%{x}<br>Branch id=%{y}<extra></extra>",
         "legendgroup": "loop_flow_from_be",
         "marker": {
          "color": "#6C4516",
          "pattern": {
           "shape": ""
          }
         },
         "name": "loop_flow_from_be",
         "offsetgroup": "loop_flow_from_be",
         "orientation": "h",
         "showlegend": true,
         "textposition": "auto",
         "texttemplate": "%{x:.0f}",
         "type": "bar",
         "x": [
          null,
          -296.37505866518586,
          null,
          null,
          null,
          null,
          null,
          -193.45477076206066,
          -367.32304821208936,
          null,
          -23.126057814112002,
          239.54902483117183,
          239.5490248311718,
          -30.215607370536933,
          null,
          null,
          null,
          -114.8793047212179,
          null,
          null
         ],
         "xaxis": "x",
         "y": [
          "L16-42-1",
          "L42-46-1",
          "L4-16-1",
          "L46-81-1",
          "L81-195-1",
          "L194-219-1",
          "L45-74-1",
          "L62-144-1",
          "L231-237-1",
          "L91-97-1",
          "L143-149-1",
          "L60-62-1",
          "L45-60-1",
          "L43-53-1",
          "L89-91-1",
          "L74-562-1",
          "L8-14-1",
          "L14-15-1",
          "L8-11-1",
          "L224-226-1"
         ],
         "yaxis": "y"
        },
        {
         "alignmentgroup": "True",
         "hovertemplate": "Decomposition part:=loop_flow_from_cd<br>Flow decomposition value=%{x}<br>Branch id=%{y}<extra></extra>",
         "legendgroup": "loop_flow_from_cd",
         "marker": {
          "color": "#511CFB",
          "pattern": {
           "shape": ""
          }
         },
         "name": "loop_flow_from_cd",
         "offsetgroup": "loop_flow_from_cd",
         "orientation": "h",
         "showlegend": true,
         "textposition": "auto",
         "texttemplate": "%{x:.0f}",
         "type": "bar",
         "x": [
          null,
          null,
          -295.70438340521196,
          null,
          null,
          null,
          null,
          null,
          null,
          null,
          null,
          null,
          null,
          null,
          null,
          null,
          null,
          null,
          -21.59300008135787,
          null
         ],
         "xaxis": "x",
         "y": [
          "L16-42-1",
          "L42-46-1",
          "L4-16-1",
          "L46-81-1",
          "L81-195-1",
          "L194-219-1",
          "L45-74-1",
          "L62-144-1",
          "L231-237-1",
          "L91-97-1",
          "L143-149-1",
          "L60-62-1",
          "L45-60-1",
          "L43-53-1",
          "L89-91-1",
          "L74-562-1",
          "L8-14-1",
          "L14-15-1",
          "L8-11-1",
          "L224-226-1"
         ],
         "yaxis": "y"
        },
        {
         "alignmentgroup": "True",
         "hovertemplate": "Decomposition part:=loop_flow_from_cl<br>Flow decomposition value=%{x}<br>Branch id=%{y}<extra></extra>",
         "legendgroup": "loop_flow_from_cl",
         "marker": {
          "color": "#F6F926",
          "pattern": {
           "shape": ""
          }
         },
         "name": "loop_flow_from_cl",
         "offsetgroup": "loop_flow_from_cl",
         "orientation": "h",
         "showlegend": true,
         "textposition": "auto",
         "texttemplate": "%{x:.0f}",
         "type": "bar",
         "x": [
          null,
          null,
          null,
          null,
          null,
          null,
          null,
          177.5799448046904,
          null,
          null,
          27.240970925162543,
          149.64392398429797,
          149.64392398429788,
          -24.6360140440665,
          null,
          null,
          null,
          null,
          -81.97319558113729,
          null
         ],
         "xaxis": "x",
         "y": [
          "L16-42-1",
          "L42-46-1",
          "L4-16-1",
          "L46-81-1",
          "L81-195-1",
          "L194-219-1",
          "L45-74-1",
          "L62-144-1",
          "L231-237-1",
          "L91-97-1",
          "L143-149-1",
          "L60-62-1",
          "L45-60-1",
          "L43-53-1",
          "L89-91-1",
          "L74-562-1",
          "L8-14-1",
          "L14-15-1",
          "L8-11-1",
          "L224-226-1"
         ],
         "yaxis": "y"
        },
        {
         "alignmentgroup": "True",
         "hovertemplate": "Decomposition part:=loop_flow_from_dz<br>Flow decomposition value=%{x}<br>Branch id=%{y}<extra></extra>",
         "legendgroup": "loop_flow_from_dz",
         "marker": {
          "color": "#C9FBE5",
          "pattern": {
           "shape": ""
          }
         },
         "name": "loop_flow_from_dz",
         "offsetgroup": "loop_flow_from_dz",
         "orientation": "h",
         "showlegend": true,
         "textposition": "auto",
         "texttemplate": "%{x:.0f}",
         "type": "bar",
         "x": [
          500.321084980598,
          451.63786238320915,
          503.1628956823751,
          453.6780390715464,
          295.9111636821145,
          306.48866727540883,
          221.6295771110232,
          327.43411021765354,
          469.38099928385117,
          null,
          -29.682512476347252,
          231.10902927934316,
          231.10902927934313,
          null,
          null,
          null,
          110.49523677194337,
          110.49523677194335,
          67.67358072992909,
          null
         ],
         "xaxis": "x",
         "y": [
          "L16-42-1",
          "L42-46-1",
          "L4-16-1",
          "L46-81-1",
          "L81-195-1",
          "L194-219-1",
          "L45-74-1",
          "L62-144-1",
          "L231-237-1",
          "L91-97-1",
          "L143-149-1",
          "L60-62-1",
          "L45-60-1",
          "L43-53-1",
          "L89-91-1",
          "L74-562-1",
          "L8-14-1",
          "L14-15-1",
          "L8-11-1",
          "L224-226-1"
         ],
         "yaxis": "y"
        },
        {
         "alignmentgroup": "True",
         "hovertemplate": "Decomposition part:=loop_flow_from_es<br>Flow decomposition value=%{x}<br>Branch id=%{y}<extra></extra>",
         "legendgroup": "loop_flow_from_es",
         "marker": {
          "color": "#FC0080",
          "pattern": {
           "shape": ""
          }
         },
         "name": "loop_flow_from_es",
         "offsetgroup": "loop_flow_from_es",
         "orientation": "h",
         "showlegend": true,
         "textposition": "auto",
         "texttemplate": "%{x:.0f}",
         "type": "bar",
         "x": [
          null,
          250.56676073210014,
          null,
          null,
          null,
          null,
          104.43390610990194,
          null,
          null,
          66.88880020205994,
          65.69732923166093,
          null,
          null,
          52.31215447705203,
          50.72178312934505,
          50.5,
          null,
          null,
          48.43204688922297,
          null
         ],
         "xaxis": "x",
         "y": [
          "L16-42-1",
          "L42-46-1",
          "L4-16-1",
          "L46-81-1",
          "L81-195-1",
          "L194-219-1",
          "L45-74-1",
          "L62-144-1",
          "L231-237-1",
          "L91-97-1",
          "L143-149-1",
          "L60-62-1",
          "L45-60-1",
          "L43-53-1",
          "L89-91-1",
          "L74-562-1",
          "L8-14-1",
          "L14-15-1",
          "L8-11-1",
          "L224-226-1"
         ],
         "yaxis": "y"
        },
        {
         "alignmentgroup": "True",
         "hovertemplate": "Decomposition part:=loop_flow_from_gr<br>Flow decomposition value=%{x}<br>Branch id=%{y}<extra></extra>",
         "legendgroup": "loop_flow_from_gr",
         "marker": {
          "color": "#FB0D0D",
          "pattern": {
           "shape": ""
          }
         },
         "name": "loop_flow_from_gr",
         "offsetgroup": "loop_flow_from_gr",
         "orientation": "h",
         "showlegend": true,
         "textposition": "auto",
         "texttemplate": "%{x:.0f}",
         "type": "bar",
         "x": [
          -288.5092134941769,
          null,
          -329.65926260006455,
          null,
          null,
          null,
          null,
          -192.06252811625114,
          null,
          null,
          null,
          null,
          null,
          null,
          null,
          null,
          -63.270086576330364,
          -63.27008657633039,
          null,
          null
         ],
         "xaxis": "x",
         "y": [
          "L16-42-1",
          "L42-46-1",
          "L4-16-1",
          "L46-81-1",
          "L81-195-1",
          "L194-219-1",
          "L45-74-1",
          "L62-144-1",
          "L231-237-1",
          "L91-97-1",
          "L143-149-1",
          "L60-62-1",
          "L45-60-1",
          "L43-53-1",
          "L89-91-1",
          "L74-562-1",
          "L8-14-1",
          "L14-15-1",
          "L8-11-1",
          "L224-226-1"
         ],
         "yaxis": "y"
        },
        {
         "alignmentgroup": "True",
         "hovertemplate": "Decomposition part:=loop_flow_from_gu<br>Flow decomposition value=%{x}<br>Branch id=%{y}<extra></extra>",
         "legendgroup": "loop_flow_from_gu",
         "marker": {
          "color": "#D626FF",
          "pattern": {
           "shape": ""
          }
         },
         "name": "loop_flow_from_gu",
         "offsetgroup": "loop_flow_from_gu",
         "orientation": "h",
         "showlegend": true,
         "textposition": "auto",
         "texttemplate": "%{x:.0f}",
         "type": "bar",
         "x": [
          null,
          null,
          null,
          null,
          null,
          null,
          null,
          null,
          null,
          null,
          null,
          null,
          null,
          null,
          null,
          null,
          null,
          null,
          null,
          null
         ],
         "xaxis": "x",
         "y": [
          "L16-42-1",
          "L42-46-1",
          "L4-16-1",
          "L46-81-1",
          "L81-195-1",
          "L194-219-1",
          "L45-74-1",
          "L62-144-1",
          "L231-237-1",
          "L91-97-1",
          "L143-149-1",
          "L60-62-1",
          "L45-60-1",
          "L43-53-1",
          "L89-91-1",
          "L74-562-1",
          "L8-14-1",
          "L14-15-1",
          "L8-11-1",
          "L224-226-1"
         ],
         "yaxis": "y"
        },
        {
         "alignmentgroup": "True",
         "hovertemplate": "Decomposition part:=loop_flow_from_hn<br>Flow decomposition value=%{x}<br>Branch id=%{y}<extra></extra>",
         "legendgroup": "loop_flow_from_hn",
         "marker": {
          "color": "#DA16FF",
          "pattern": {
           "shape": ""
          }
         },
         "name": "loop_flow_from_hn",
         "offsetgroup": "loop_flow_from_hn",
         "orientation": "h",
         "showlegend": true,
         "textposition": "auto",
         "texttemplate": "%{x:.0f}",
         "type": "bar",
         "x": [
          null,
          null,
          null,
          -263.88619032091617,
          -210.88131204750712,
          -263.06694433234037,
          null,
          null,
          -233.21177617511836,
          null,
          null,
          null,
          null,
          null,
          18.55346011578568,
          null,
          60.80496375450293,
          null,
          24.310470432391163,
          null
         ],
         "xaxis": "x",
         "y": [
          "L16-42-1",
          "L42-46-1",
          "L4-16-1",
          "L46-81-1",
          "L81-195-1",
          "L194-219-1",
          "L45-74-1",
          "L62-144-1",
          "L231-237-1",
          "L91-97-1",
          "L143-149-1",
          "L60-62-1",
          "L45-60-1",
          "L43-53-1",
          "L89-91-1",
          "L74-562-1",
          "L8-14-1",
          "L14-15-1",
          "L8-11-1",
          "L224-226-1"
         ],
         "yaxis": "y"
        },
        {
         "alignmentgroup": "True",
         "hovertemplate": "Decomposition part:=loop_flow_from_id<br>Flow decomposition value=%{x}<br>Branch id=%{y}<extra></extra>",
         "legendgroup": "loop_flow_from_id",
         "marker": {
          "color": "#86CE00",
          "pattern": {
           "shape": ""
          }
         },
         "name": "loop_flow_from_id",
         "offsetgroup": "loop_flow_from_id",
         "orientation": "h",
         "showlegend": true,
         "textposition": "auto",
         "texttemplate": "%{x:.0f}",
         "type": "bar",
         "x": [
          327.7196622559127,
          254.02423152392294,
          364.6725331302353,
          null,
          null,
          null,
          null,
          null,
          null,
          22.82887860649606,
          null,
          null,
          null,
          null,
          -19.502807656480844,
          null,
          73.38140490030821,
          73.38140490030815,
          null,
          null
         ],
         "xaxis": "x",
         "y": [
          "L16-42-1",
          "L42-46-1",
          "L4-16-1",
          "L46-81-1",
          "L81-195-1",
          "L194-219-1",
          "L45-74-1",
          "L62-144-1",
          "L231-237-1",
          "L91-97-1",
          "L143-149-1",
          "L60-62-1",
          "L45-60-1",
          "L43-53-1",
          "L89-91-1",
          "L74-562-1",
          "L8-14-1",
          "L14-15-1",
          "L8-11-1",
          "L224-226-1"
         ],
         "yaxis": "y"
        },
        {
         "alignmentgroup": "True",
         "hovertemplate": "Decomposition part:=loop_flow_from_iq<br>Flow decomposition value=%{x}<br>Branch id=%{y}<extra></extra>",
         "legendgroup": "loop_flow_from_iq",
         "marker": {
          "color": "#6A76FC",
          "pattern": {
           "shape": ""
          }
         },
         "name": "loop_flow_from_iq",
         "offsetgroup": "loop_flow_from_iq",
         "orientation": "h",
         "showlegend": true,
         "textposition": "auto",
         "texttemplate": "%{x:.0f}",
         "type": "bar",
         "x": [
          null,
          null,
          null,
          null,
          null,
          174.861893368287,
          null,
          null,
          237.7870849373335,
          null,
          null,
          null,
          null,
          null,
          10.869203181501124,
          null,
          null,
          null,
          null,
          285.93245929487966
         ],
         "xaxis": "x",
         "y": [
          "L16-42-1",
          "L42-46-1",
          "L4-16-1",
          "L46-81-1",
          "L81-195-1",
          "L194-219-1",
          "L45-74-1",
          "L62-144-1",
          "L231-237-1",
          "L91-97-1",
          "L143-149-1",
          "L60-62-1",
          "L45-60-1",
          "L43-53-1",
          "L89-91-1",
          "L74-562-1",
          "L8-14-1",
          "L14-15-1",
          "L8-11-1",
          "L224-226-1"
         ],
         "yaxis": "y"
        },
        {
         "alignmentgroup": "True",
         "hovertemplate": "Decomposition part:=loop_flow_from_jo<br>Flow decomposition value=%{x}<br>Branch id=%{y}<extra></extra>",
         "legendgroup": "loop_flow_from_jo",
         "marker": {
          "color": "#FB00D1",
          "pattern": {
           "shape": ""
          }
         },
         "name": "loop_flow_from_jo",
         "offsetgroup": "loop_flow_from_jo",
         "orientation": "h",
         "showlegend": true,
         "textposition": "auto",
         "texttemplate": "%{x:.0f}",
         "type": "bar",
         "x": [
          -319.49024195215884,
          -297.41080436651373,
          -326.2044688719158,
          -248.9344348824908,
          -174.3994326621528,
          null,
          -133.32712137948198,
          -119.57076984450363,
          null,
          null,
          null,
          null,
          null,
          null,
          null,
          null,
          -63.418373590291964,
          -63.41837359029201,
          null,
          null
         ],
         "xaxis": "x",
         "y": [
          "L16-42-1",
          "L42-46-1",
          "L4-16-1",
          "L46-81-1",
          "L81-195-1",
          "L194-219-1",
          "L45-74-1",
          "L62-144-1",
          "L231-237-1",
          "L91-97-1",
          "L143-149-1",
          "L60-62-1",
          "L45-60-1",
          "L43-53-1",
          "L89-91-1",
          "L74-562-1",
          "L8-14-1",
          "L14-15-1",
          "L8-11-1",
          "L224-226-1"
         ],
         "yaxis": "y"
        },
        {
         "alignmentgroup": "True",
         "hovertemplate": "Decomposition part:=loop_flow_from_ke<br>Flow decomposition value=%{x}<br>Branch id=%{y}<extra></extra>",
         "legendgroup": "loop_flow_from_ke",
         "marker": {
          "color": "#EEA6FB",
          "pattern": {
           "shape": ""
          }
         },
         "name": "loop_flow_from_ke",
         "offsetgroup": "loop_flow_from_ke",
         "orientation": "h",
         "showlegend": true,
         "textposition": "auto",
         "texttemplate": "%{x:.0f}",
         "type": "bar",
         "x": [
          -587.1080683408986,
          -388.47348494211406,
          -452.61597055945685,
          -584.8535535713272,
          -408.65670818981437,
          -467.31259794662196,
          -293.7263545583415,
          null,
          -849.8710487215033,
          null,
          -22.724774403814845,
          -308.12014079773473,
          -308.1201407977348,
          12.027089171821396,
          -18.863793269418647,
          null,
          -71.07390991161702,
          -71.07390991161702,
          -28.526669883958427,
          -907.0441486558997
         ],
         "xaxis": "x",
         "y": [
          "L16-42-1",
          "L42-46-1",
          "L4-16-1",
          "L46-81-1",
          "L81-195-1",
          "L194-219-1",
          "L45-74-1",
          "L62-144-1",
          "L231-237-1",
          "L91-97-1",
          "L143-149-1",
          "L60-62-1",
          "L45-60-1",
          "L43-53-1",
          "L89-91-1",
          "L74-562-1",
          "L8-14-1",
          "L14-15-1",
          "L8-11-1",
          "L224-226-1"
         ],
         "yaxis": "y"
        },
        {
         "alignmentgroup": "True",
         "hovertemplate": "Decomposition part:=loop_flow_from_kg<br>Flow decomposition value=%{x}<br>Branch id=%{y}<extra></extra>",
         "legendgroup": "loop_flow_from_kg",
         "marker": {
          "color": "#FE00CE",
          "pattern": {
           "shape": ""
          }
         },
         "name": "loop_flow_from_kg",
         "offsetgroup": "loop_flow_from_kg",
         "orientation": "h",
         "showlegend": true,
         "textposition": "auto",
         "texttemplate": "%{x:.0f}",
         "type": "bar",
         "x": [
          null,
          null,
          300.1180046763854,
          null,
          null,
          null,
          null,
          null,
          null,
          null,
          null,
          null,
          null,
          null,
          null,
          null,
          null,
          null,
          null,
          null
         ],
         "xaxis": "x",
         "y": [
          "L16-42-1",
          "L42-46-1",
          "L4-16-1",
          "L46-81-1",
          "L81-195-1",
          "L194-219-1",
          "L45-74-1",
          "L62-144-1",
          "L231-237-1",
          "L91-97-1",
          "L143-149-1",
          "L60-62-1",
          "L45-60-1",
          "L43-53-1",
          "L89-91-1",
          "L74-562-1",
          "L8-14-1",
          "L14-15-1",
          "L8-11-1",
          "L224-226-1"
         ],
         "yaxis": "y"
        },
        {
         "alignmentgroup": "True",
         "hovertemplate": "Decomposition part:=loop_flow_from_lv<br>Flow decomposition value=%{x}<br>Branch id=%{y}<extra></extra>",
         "legendgroup": "loop_flow_from_lv",
         "marker": {
          "color": "#22FFA7",
          "pattern": {
           "shape": ""
          }
         },
         "name": "loop_flow_from_lv",
         "offsetgroup": "loop_flow_from_lv",
         "orientation": "h",
         "showlegend": true,
         "textposition": "auto",
         "texttemplate": "%{x:.0f}",
         "type": "bar",
         "x": [
          null,
          null,
          null,
          null,
          null,
          null,
          null,
          -159.04481354752087,
          null,
          -29.107567785774194,
          -14.29553493815984,
          -111.20844393723794,
          -111.20844393723796,
          13.2459389476476,
          22.31919041842328,
          null,
          null,
          null,
          null,
          null
         ],
         "xaxis": "x",
         "y": [
          "L16-42-1",
          "L42-46-1",
          "L4-16-1",
          "L46-81-1",
          "L81-195-1",
          "L194-219-1",
          "L45-74-1",
          "L62-144-1",
          "L231-237-1",
          "L91-97-1",
          "L143-149-1",
          "L60-62-1",
          "L45-60-1",
          "L43-53-1",
          "L89-91-1",
          "L74-562-1",
          "L8-14-1",
          "L14-15-1",
          "L8-11-1",
          "L224-226-1"
         ],
         "yaxis": "y"
        },
        {
         "alignmentgroup": "True",
         "hovertemplate": "Decomposition part:=loop_flow_from_om<br>Flow decomposition value=%{x}<br>Branch id=%{y}<extra></extra>",
         "legendgroup": "loop_flow_from_om",
         "marker": {
          "color": "#620042",
          "pattern": {
           "shape": ""
          }
         },
         "name": "loop_flow_from_om",
         "offsetgroup": "loop_flow_from_om",
         "orientation": "h",
         "showlegend": true,
         "textposition": "auto",
         "texttemplate": "%{x:.0f}",
         "type": "bar",
         "x": [
          -338.93781987645787,
          -302.3864408287049,
          -343.30058470497187,
          -268.32719838958127,
          -193.62249206103357,
          -160.7707281314153,
          -121.09914247658928,
          -146.75861229390952,
          null,
          null,
          null,
          null,
          null,
          null,
          null,
          null,
          -78.16657602396361,
          -78.1665760239636,
          null,
          null
         ],
         "xaxis": "x",
         "y": [
          "L16-42-1",
          "L42-46-1",
          "L4-16-1",
          "L46-81-1",
          "L81-195-1",
          "L194-219-1",
          "L45-74-1",
          "L62-144-1",
          "L231-237-1",
          "L91-97-1",
          "L143-149-1",
          "L60-62-1",
          "L45-60-1",
          "L43-53-1",
          "L89-91-1",
          "L74-562-1",
          "L8-14-1",
          "L14-15-1",
          "L8-11-1",
          "L224-226-1"
         ],
         "yaxis": "y"
        },
        {
         "alignmentgroup": "True",
         "hovertemplate": "Decomposition part:=loop_flow_from_pn<br>Flow decomposition value=%{x}<br>Branch id=%{y}<extra></extra>",
         "legendgroup": "loop_flow_from_pn",
         "marker": {
          "color": "#FF9616",
          "pattern": {
           "shape": ""
          }
         },
         "name": "loop_flow_from_pn",
         "offsetgroup": "loop_flow_from_pn",
         "orientation": "h",
         "showlegend": true,
         "textposition": "auto",
         "texttemplate": "%{x:.0f}",
         "type": "bar",
         "x": [
          null,
          null,
          null,
          null,
          null,
          null,
          null,
          null,
          null,
          12.160271741570085,
          null,
          null,
          null,
          null,
          null,
          null,
          null,
          null,
          null,
          null
         ],
         "xaxis": "x",
         "y": [
          "L16-42-1",
          "L42-46-1",
          "L4-16-1",
          "L46-81-1",
          "L81-195-1",
          "L194-219-1",
          "L45-74-1",
          "L62-144-1",
          "L231-237-1",
          "L91-97-1",
          "L143-149-1",
          "L60-62-1",
          "L45-60-1",
          "L43-53-1",
          "L89-91-1",
          "L74-562-1",
          "L8-14-1",
          "L14-15-1",
          "L8-11-1",
          "L224-226-1"
         ],
         "yaxis": "y"
        },
        {
         "alignmentgroup": "True",
         "hovertemplate": "Decomposition part:=loop_flow_from_rs<br>Flow decomposition value=%{x}<br>Branch id=%{y}<extra></extra>",
         "legendgroup": "loop_flow_from_rs",
         "marker": {
          "color": "#FC6955",
          "pattern": {
           "shape": ""
          }
         },
         "name": "loop_flow_from_rs",
         "offsetgroup": "loop_flow_from_rs",
         "orientation": "h",
         "showlegend": true,
         "textposition": "auto",
         "texttemplate": "%{x:.0f}",
         "type": "bar",
         "x": [
          null,
          null,
          null,
          null,
          null,
          null,
          null,
          null,
          null,
          null,
          null,
          null,
          null,
          null,
          null,
          null,
          null,
          null,
          null,
          null
         ],
         "xaxis": "x",
         "y": [
          "L16-42-1",
          "L42-46-1",
          "L4-16-1",
          "L46-81-1",
          "L81-195-1",
          "L194-219-1",
          "L45-74-1",
          "L62-144-1",
          "L231-237-1",
          "L91-97-1",
          "L143-149-1",
          "L60-62-1",
          "L45-60-1",
          "L43-53-1",
          "L89-91-1",
          "L74-562-1",
          "L8-14-1",
          "L14-15-1",
          "L8-11-1",
          "L224-226-1"
         ],
         "yaxis": "y"
        },
        {
         "alignmentgroup": "True",
         "hovertemplate": "Decomposition part:=loop_flow_from_rw<br>Flow decomposition value=%{x}<br>Branch id=%{y}<extra></extra>",
         "legendgroup": "loop_flow_from_rw",
         "marker": {
          "color": "#479B55",
          "pattern": {
           "shape": ""
          }
         },
         "name": "loop_flow_from_rw",
         "offsetgroup": "loop_flow_from_rw",
         "orientation": "h",
         "showlegend": true,
         "textposition": "auto",
         "texttemplate": "%{x:.0f}",
         "type": "bar",
         "x": [
          null,
          null,
          null,
          null,
          null,
          null,
          null,
          null,
          null,
          null,
          null,
          null,
          null,
          null,
          null,
          null,
          null,
          null,
          null,
          null
         ],
         "xaxis": "x",
         "y": [
          "L16-42-1",
          "L42-46-1",
          "L4-16-1",
          "L46-81-1",
          "L81-195-1",
          "L194-219-1",
          "L45-74-1",
          "L62-144-1",
          "L231-237-1",
          "L91-97-1",
          "L143-149-1",
          "L60-62-1",
          "L45-60-1",
          "L43-53-1",
          "L89-91-1",
          "L74-562-1",
          "L8-14-1",
          "L14-15-1",
          "L8-11-1",
          "L224-226-1"
         ],
         "yaxis": "y"
        },
        {
         "alignmentgroup": "True",
         "hovertemplate": "Decomposition part:=masked_flows_positive<br>Flow decomposition value=%{x}<br>Branch id=%{y}<extra></extra>",
         "legendgroup": "masked_flows_positive",
         "marker": {
          "color": "#6E899C",
          "pattern": {
           "shape": ""
          }
         },
         "name": "masked_flows_positive",
         "offsetgroup": "masked_flows_positive",
         "orientation": "h",
         "showlegend": true,
         "textposition": "auto",
         "texttemplate": "%{x:.0f}",
         "type": "bar",
         "x": [
          720.3227963317764,
          454.1764918900632,
          422.24074641387404,
          765.4425235923583,
          496.82575337980865,
          347.51013438256825,
          281.4599880575119,
          425.7960792815117,
          229.67125112404563,
          32.06440267864303,
          37.556228507746034,
          282.06991981309267,
          282.06991981309284,
          13.287333735979722,
          30.053422386199816,
          0,
          185.50096129821378,
          201.18522977393462,
          42.023635175139496,
          138.82853058809613
         ],
         "xaxis": "x",
         "y": [
          "L16-42-1",
          "L42-46-1",
          "L4-16-1",
          "L46-81-1",
          "L81-195-1",
          "L194-219-1",
          "L45-74-1",
          "L62-144-1",
          "L231-237-1",
          "L91-97-1",
          "L143-149-1",
          "L60-62-1",
          "L45-60-1",
          "L43-53-1",
          "L89-91-1",
          "L74-562-1",
          "L8-14-1",
          "L14-15-1",
          "L8-11-1",
          "L224-226-1"
         ],
         "yaxis": "y"
        },
        {
         "alignmentgroup": "True",
         "hovertemplate": "Decomposition part:=masked_flows_negative<br>Flow decomposition value=%{x}<br>Branch id=%{y}<extra></extra>",
         "legendgroup": "masked_flows_negative",
         "marker": {
          "color": "#00FE35",
          "pattern": {
           "shape": ""
          }
         },
         "name": "masked_flows_negative",
         "offsetgroup": "masked_flows_negative",
         "orientation": "h",
         "showlegend": true,
         "textposition": "auto",
         "texttemplate": "%{x:.0f}",
         "type": "bar",
         "x": [
          -908.580570329774,
          -780.4994020678846,
          -393.2555721001894,
          -566.006062554455,
          -340.2528051522202,
          -466.5286144390038,
          -276.96769711913396,
          -253.23704689487917,
          -426.3347475004574,
          -30.177618056113978,
          -25.09780858959993,
          -457.73467723579694,
          -457.7346772357971,
          -34.894363500521564,
          -42.348786665515036,
          0,
          -141.51692708784486,
          -141.51692708784483,
          -70.44704900608868,
          -301.9128511501026
         ],
         "xaxis": "x",
         "y": [
          "L16-42-1",
          "L42-46-1",
          "L4-16-1",
          "L46-81-1",
          "L81-195-1",
          "L194-219-1",
          "L45-74-1",
          "L62-144-1",
          "L231-237-1",
          "L91-97-1",
          "L143-149-1",
          "L60-62-1",
          "L45-60-1",
          "L43-53-1",
          "L89-91-1",
          "L74-562-1",
          "L8-14-1",
          "L14-15-1",
          "L8-11-1",
          "L224-226-1"
         ],
         "yaxis": "y"
        },
        {
         "mode": "lines+markers",
         "name": "total_flow",
         "type": "scatter",
         "x": [
          438.12230030190926,
          552.2414723466989,
          777.4810582517831,
          256.1720192548213,
          68.75767118991284,
          92.4822790535861,
          209.55221013033045,
          145.69008795589517,
          428.33267549784534,
          92.8493600436258,
          40.123020452193956,
          250.24221919377266,
          250.24221919377237,
          18.989646973832162,
          51.801671639840436,
          50.5,
          343.5606912343181,
          183.56069123431803,
          16.35515329515597,
          10.841631127993885
         ],
         "y": [
          "L16-42-1",
          "L42-46-1",
          "L4-16-1",
          "L46-81-1",
          "L81-195-1",
          "L194-219-1",
          "L45-74-1",
          "L62-144-1",
          "L231-237-1",
          "L91-97-1",
          "L143-149-1",
          "L60-62-1",
          "L45-60-1",
          "L43-53-1",
          "L89-91-1",
          "L74-562-1",
          "L8-14-1",
          "L14-15-1",
          "L8-11-1",
          "L224-226-1"
         ]
        },
        {
         "mode": "lines+markers",
         "name": "total_loop_flow",
         "type": "scatter",
         "x": [
          438.12230030190926,
          552.2414723466989,
          777.4810582517831,
          256.1720192548213,
          68.75767118991284,
          92.4822790535861,
          209.55221013033045,
          145.69008795589517,
          428.33267549784534,
          92.8493600436258,
          40.123020452193956,
          250.24221919377266,
          250.24221919377237,
          18.989646973832162,
          51.801671639840436,
          50.5,
          343.5606912343181,
          183.56069123431803,
          16.35515329515597,
          10.841631127993885
         ],
         "y": [
          "L16-42-1",
          "L42-46-1",
          "L4-16-1",
          "L46-81-1",
          "L81-195-1",
          "L194-219-1",
          "L45-74-1",
          "L62-144-1",
          "L231-237-1",
          "L91-97-1",
          "L143-149-1",
          "L60-62-1",
          "L45-60-1",
          "L43-53-1",
          "L89-91-1",
          "L74-562-1",
          "L8-14-1",
          "L14-15-1",
          "L8-11-1",
          "L224-226-1"
         ]
        }
       ],
       "layout": {
        "barmode": "relative",
        "height": 1000,
        "legend": {
         "title": {
          "text": "Decomposition part:"
         },
         "tracegroupgap": 0
        },
        "template": {
         "data": {
          "bar": [
           {
            "error_x": {
             "color": "rgb(36,36,36)"
            },
            "error_y": {
             "color": "rgb(36,36,36)"
            },
            "marker": {
             "line": {
              "color": "rgb(234,234,242)",
              "width": 0.5
             },
             "pattern": {
              "fillmode": "overlay",
              "size": 10,
              "solidity": 0.2
             }
            },
            "type": "bar"
           }
          ],
          "barpolar": [
           {
            "marker": {
             "line": {
              "color": "rgb(234,234,242)",
              "width": 0.5
             },
             "pattern": {
              "fillmode": "overlay",
              "size": 10,
              "solidity": 0.2
             }
            },
            "type": "barpolar"
           }
          ],
          "carpet": [
           {
            "aaxis": {
             "endlinecolor": "rgb(36,36,36)",
             "gridcolor": "white",
             "linecolor": "white",
             "minorgridcolor": "white",
             "startlinecolor": "rgb(36,36,36)"
            },
            "baxis": {
             "endlinecolor": "rgb(36,36,36)",
             "gridcolor": "white",
             "linecolor": "white",
             "minorgridcolor": "white",
             "startlinecolor": "rgb(36,36,36)"
            },
            "type": "carpet"
           }
          ],
          "choropleth": [
           {
            "colorbar": {
             "outlinewidth": 0,
             "tickcolor": "rgb(36,36,36)",
             "ticklen": 8,
             "ticks": "outside",
             "tickwidth": 2
            },
            "type": "choropleth"
           }
          ],
          "contour": [
           {
            "colorbar": {
             "outlinewidth": 0,
             "tickcolor": "rgb(36,36,36)",
             "ticklen": 8,
             "ticks": "outside",
             "tickwidth": 2
            },
            "colorscale": [
             [
              0,
              "rgb(2,4,25)"
             ],
             [
              0.06274509803921569,
              "rgb(24,15,41)"
             ],
             [
              0.12549019607843137,
              "rgb(47,23,57)"
             ],
             [
              0.18823529411764706,
              "rgb(71,28,72)"
             ],
             [
              0.25098039215686274,
              "rgb(97,30,82)"
             ],
             [
              0.3137254901960784,
              "rgb(123,30,89)"
             ],
             [
              0.3764705882352941,
              "rgb(150,27,91)"
             ],
             [
              0.4392156862745098,
              "rgb(177,22,88)"
             ],
             [
              0.5019607843137255,
              "rgb(203,26,79)"
             ],
             [
              0.5647058823529412,
              "rgb(223,47,67)"
             ],
             [
              0.6274509803921569,
              "rgb(236,76,61)"
             ],
             [
              0.6901960784313725,
              "rgb(242,107,73)"
             ],
             [
              0.7529411764705882,
              "rgb(244,135,95)"
             ],
             [
              0.8156862745098039,
              "rgb(245,162,122)"
             ],
             [
              0.8784313725490196,
              "rgb(246,188,153)"
             ],
             [
              0.9411764705882353,
              "rgb(247,212,187)"
             ],
             [
              1,
              "rgb(250,234,220)"
             ]
            ],
            "type": "contour"
           }
          ],
          "contourcarpet": [
           {
            "colorbar": {
             "outlinewidth": 0,
             "tickcolor": "rgb(36,36,36)",
             "ticklen": 8,
             "ticks": "outside",
             "tickwidth": 2
            },
            "type": "contourcarpet"
           }
          ],
          "heatmap": [
           {
            "colorbar": {
             "outlinewidth": 0,
             "tickcolor": "rgb(36,36,36)",
             "ticklen": 8,
             "ticks": "outside",
             "tickwidth": 2
            },
            "colorscale": [
             [
              0,
              "rgb(2,4,25)"
             ],
             [
              0.06274509803921569,
              "rgb(24,15,41)"
             ],
             [
              0.12549019607843137,
              "rgb(47,23,57)"
             ],
             [
              0.18823529411764706,
              "rgb(71,28,72)"
             ],
             [
              0.25098039215686274,
              "rgb(97,30,82)"
             ],
             [
              0.3137254901960784,
              "rgb(123,30,89)"
             ],
             [
              0.3764705882352941,
              "rgb(150,27,91)"
             ],
             [
              0.4392156862745098,
              "rgb(177,22,88)"
             ],
             [
              0.5019607843137255,
              "rgb(203,26,79)"
             ],
             [
              0.5647058823529412,
              "rgb(223,47,67)"
             ],
             [
              0.6274509803921569,
              "rgb(236,76,61)"
             ],
             [
              0.6901960784313725,
              "rgb(242,107,73)"
             ],
             [
              0.7529411764705882,
              "rgb(244,135,95)"
             ],
             [
              0.8156862745098039,
              "rgb(245,162,122)"
             ],
             [
              0.8784313725490196,
              "rgb(246,188,153)"
             ],
             [
              0.9411764705882353,
              "rgb(247,212,187)"
             ],
             [
              1,
              "rgb(250,234,220)"
             ]
            ],
            "type": "heatmap"
           }
          ],
          "heatmapgl": [
           {
            "colorbar": {
             "outlinewidth": 0,
             "tickcolor": "rgb(36,36,36)",
             "ticklen": 8,
             "ticks": "outside",
             "tickwidth": 2
            },
            "colorscale": [
             [
              0,
              "rgb(2,4,25)"
             ],
             [
              0.06274509803921569,
              "rgb(24,15,41)"
             ],
             [
              0.12549019607843137,
              "rgb(47,23,57)"
             ],
             [
              0.18823529411764706,
              "rgb(71,28,72)"
             ],
             [
              0.25098039215686274,
              "rgb(97,30,82)"
             ],
             [
              0.3137254901960784,
              "rgb(123,30,89)"
             ],
             [
              0.3764705882352941,
              "rgb(150,27,91)"
             ],
             [
              0.4392156862745098,
              "rgb(177,22,88)"
             ],
             [
              0.5019607843137255,
              "rgb(203,26,79)"
             ],
             [
              0.5647058823529412,
              "rgb(223,47,67)"
             ],
             [
              0.6274509803921569,
              "rgb(236,76,61)"
             ],
             [
              0.6901960784313725,
              "rgb(242,107,73)"
             ],
             [
              0.7529411764705882,
              "rgb(244,135,95)"
             ],
             [
              0.8156862745098039,
              "rgb(245,162,122)"
             ],
             [
              0.8784313725490196,
              "rgb(246,188,153)"
             ],
             [
              0.9411764705882353,
              "rgb(247,212,187)"
             ],
             [
              1,
              "rgb(250,234,220)"
             ]
            ],
            "type": "heatmapgl"
           }
          ],
          "histogram": [
           {
            "marker": {
             "pattern": {
              "fillmode": "overlay",
              "size": 10,
              "solidity": 0.2
             }
            },
            "type": "histogram"
           }
          ],
          "histogram2d": [
           {
            "colorbar": {
             "outlinewidth": 0,
             "tickcolor": "rgb(36,36,36)",
             "ticklen": 8,
             "ticks": "outside",
             "tickwidth": 2
            },
            "colorscale": [
             [
              0,
              "rgb(2,4,25)"
             ],
             [
              0.06274509803921569,
              "rgb(24,15,41)"
             ],
             [
              0.12549019607843137,
              "rgb(47,23,57)"
             ],
             [
              0.18823529411764706,
              "rgb(71,28,72)"
             ],
             [
              0.25098039215686274,
              "rgb(97,30,82)"
             ],
             [
              0.3137254901960784,
              "rgb(123,30,89)"
             ],
             [
              0.3764705882352941,
              "rgb(150,27,91)"
             ],
             [
              0.4392156862745098,
              "rgb(177,22,88)"
             ],
             [
              0.5019607843137255,
              "rgb(203,26,79)"
             ],
             [
              0.5647058823529412,
              "rgb(223,47,67)"
             ],
             [
              0.6274509803921569,
              "rgb(236,76,61)"
             ],
             [
              0.6901960784313725,
              "rgb(242,107,73)"
             ],
             [
              0.7529411764705882,
              "rgb(244,135,95)"
             ],
             [
              0.8156862745098039,
              "rgb(245,162,122)"
             ],
             [
              0.8784313725490196,
              "rgb(246,188,153)"
             ],
             [
              0.9411764705882353,
              "rgb(247,212,187)"
             ],
             [
              1,
              "rgb(250,234,220)"
             ]
            ],
            "type": "histogram2d"
           }
          ],
          "histogram2dcontour": [
           {
            "colorbar": {
             "outlinewidth": 0,
             "tickcolor": "rgb(36,36,36)",
             "ticklen": 8,
             "ticks": "outside",
             "tickwidth": 2
            },
            "colorscale": [
             [
              0,
              "rgb(2,4,25)"
             ],
             [
              0.06274509803921569,
              "rgb(24,15,41)"
             ],
             [
              0.12549019607843137,
              "rgb(47,23,57)"
             ],
             [
              0.18823529411764706,
              "rgb(71,28,72)"
             ],
             [
              0.25098039215686274,
              "rgb(97,30,82)"
             ],
             [
              0.3137254901960784,
              "rgb(123,30,89)"
             ],
             [
              0.3764705882352941,
              "rgb(150,27,91)"
             ],
             [
              0.4392156862745098,
              "rgb(177,22,88)"
             ],
             [
              0.5019607843137255,
              "rgb(203,26,79)"
             ],
             [
              0.5647058823529412,
              "rgb(223,47,67)"
             ],
             [
              0.6274509803921569,
              "rgb(236,76,61)"
             ],
             [
              0.6901960784313725,
              "rgb(242,107,73)"
             ],
             [
              0.7529411764705882,
              "rgb(244,135,95)"
             ],
             [
              0.8156862745098039,
              "rgb(245,162,122)"
             ],
             [
              0.8784313725490196,
              "rgb(246,188,153)"
             ],
             [
              0.9411764705882353,
              "rgb(247,212,187)"
             ],
             [
              1,
              "rgb(250,234,220)"
             ]
            ],
            "type": "histogram2dcontour"
           }
          ],
          "mesh3d": [
           {
            "colorbar": {
             "outlinewidth": 0,
             "tickcolor": "rgb(36,36,36)",
             "ticklen": 8,
             "ticks": "outside",
             "tickwidth": 2
            },
            "type": "mesh3d"
           }
          ],
          "parcoords": [
           {
            "line": {
             "colorbar": {
              "outlinewidth": 0,
              "tickcolor": "rgb(36,36,36)",
              "ticklen": 8,
              "ticks": "outside",
              "tickwidth": 2
             }
            },
            "type": "parcoords"
           }
          ],
          "pie": [
           {
            "automargin": true,
            "type": "pie"
           }
          ],
          "scatter": [
           {
            "fillpattern": {
             "fillmode": "overlay",
             "size": 10,
             "solidity": 0.2
            },
            "type": "scatter"
           }
          ],
          "scatter3d": [
           {
            "line": {
             "colorbar": {
              "outlinewidth": 0,
              "tickcolor": "rgb(36,36,36)",
              "ticklen": 8,
              "ticks": "outside",
              "tickwidth": 2
             }
            },
            "marker": {
             "colorbar": {
              "outlinewidth": 0,
              "tickcolor": "rgb(36,36,36)",
              "ticklen": 8,
              "ticks": "outside",
              "tickwidth": 2
             }
            },
            "type": "scatter3d"
           }
          ],
          "scattercarpet": [
           {
            "marker": {
             "colorbar": {
              "outlinewidth": 0,
              "tickcolor": "rgb(36,36,36)",
              "ticklen": 8,
              "ticks": "outside",
              "tickwidth": 2
             }
            },
            "type": "scattercarpet"
           }
          ],
          "scattergeo": [
           {
            "marker": {
             "colorbar": {
              "outlinewidth": 0,
              "tickcolor": "rgb(36,36,36)",
              "ticklen": 8,
              "ticks": "outside",
              "tickwidth": 2
             }
            },
            "type": "scattergeo"
           }
          ],
          "scattergl": [
           {
            "marker": {
             "colorbar": {
              "outlinewidth": 0,
              "tickcolor": "rgb(36,36,36)",
              "ticklen": 8,
              "ticks": "outside",
              "tickwidth": 2
             }
            },
            "type": "scattergl"
           }
          ],
          "scattermapbox": [
           {
            "marker": {
             "colorbar": {
              "outlinewidth": 0,
              "tickcolor": "rgb(36,36,36)",
              "ticklen": 8,
              "ticks": "outside",
              "tickwidth": 2
             }
            },
            "type": "scattermapbox"
           }
          ],
          "scatterpolar": [
           {
            "marker": {
             "colorbar": {
              "outlinewidth": 0,
              "tickcolor": "rgb(36,36,36)",
              "ticklen": 8,
              "ticks": "outside",
              "tickwidth": 2
             }
            },
            "type": "scatterpolar"
           }
          ],
          "scatterpolargl": [
           {
            "marker": {
             "colorbar": {
              "outlinewidth": 0,
              "tickcolor": "rgb(36,36,36)",
              "ticklen": 8,
              "ticks": "outside",
              "tickwidth": 2
             }
            },
            "type": "scatterpolargl"
           }
          ],
          "scatterternary": [
           {
            "marker": {
             "colorbar": {
              "outlinewidth": 0,
              "tickcolor": "rgb(36,36,36)",
              "ticklen": 8,
              "ticks": "outside",
              "tickwidth": 2
             }
            },
            "type": "scatterternary"
           }
          ],
          "surface": [
           {
            "colorbar": {
             "outlinewidth": 0,
             "tickcolor": "rgb(36,36,36)",
             "ticklen": 8,
             "ticks": "outside",
             "tickwidth": 2
            },
            "colorscale": [
             [
              0,
              "rgb(2,4,25)"
             ],
             [
              0.06274509803921569,
              "rgb(24,15,41)"
             ],
             [
              0.12549019607843137,
              "rgb(47,23,57)"
             ],
             [
              0.18823529411764706,
              "rgb(71,28,72)"
             ],
             [
              0.25098039215686274,
              "rgb(97,30,82)"
             ],
             [
              0.3137254901960784,
              "rgb(123,30,89)"
             ],
             [
              0.3764705882352941,
              "rgb(150,27,91)"
             ],
             [
              0.4392156862745098,
              "rgb(177,22,88)"
             ],
             [
              0.5019607843137255,
              "rgb(203,26,79)"
             ],
             [
              0.5647058823529412,
              "rgb(223,47,67)"
             ],
             [
              0.6274509803921569,
              "rgb(236,76,61)"
             ],
             [
              0.6901960784313725,
              "rgb(242,107,73)"
             ],
             [
              0.7529411764705882,
              "rgb(244,135,95)"
             ],
             [
              0.8156862745098039,
              "rgb(245,162,122)"
             ],
             [
              0.8784313725490196,
              "rgb(246,188,153)"
             ],
             [
              0.9411764705882353,
              "rgb(247,212,187)"
             ],
             [
              1,
              "rgb(250,234,220)"
             ]
            ],
            "type": "surface"
           }
          ],
          "table": [
           {
            "cells": {
             "fill": {
              "color": "rgb(231,231,240)"
             },
             "line": {
              "color": "white"
             }
            },
            "header": {
             "fill": {
              "color": "rgb(183,183,191)"
             },
             "line": {
              "color": "white"
             }
            },
            "type": "table"
           }
          ]
         },
         "layout": {
          "annotationdefaults": {
           "arrowcolor": "rgb(67,103,167)"
          },
          "autotypenumbers": "strict",
          "coloraxis": {
           "colorbar": {
            "outlinewidth": 0,
            "tickcolor": "rgb(36,36,36)",
            "ticklen": 8,
            "ticks": "outside",
            "tickwidth": 2
           }
          },
          "colorscale": {
           "sequential": [
            [
             0,
             "rgb(2,4,25)"
            ],
            [
             0.06274509803921569,
             "rgb(24,15,41)"
            ],
            [
             0.12549019607843137,
             "rgb(47,23,57)"
            ],
            [
             0.18823529411764706,
             "rgb(71,28,72)"
            ],
            [
             0.25098039215686274,
             "rgb(97,30,82)"
            ],
            [
             0.3137254901960784,
             "rgb(123,30,89)"
            ],
            [
             0.3764705882352941,
             "rgb(150,27,91)"
            ],
            [
             0.4392156862745098,
             "rgb(177,22,88)"
            ],
            [
             0.5019607843137255,
             "rgb(203,26,79)"
            ],
            [
             0.5647058823529412,
             "rgb(223,47,67)"
            ],
            [
             0.6274509803921569,
             "rgb(236,76,61)"
            ],
            [
             0.6901960784313725,
             "rgb(242,107,73)"
            ],
            [
             0.7529411764705882,
             "rgb(244,135,95)"
            ],
            [
             0.8156862745098039,
             "rgb(245,162,122)"
            ],
            [
             0.8784313725490196,
             "rgb(246,188,153)"
            ],
            [
             0.9411764705882353,
             "rgb(247,212,187)"
            ],
            [
             1,
             "rgb(250,234,220)"
            ]
           ],
           "sequentialminus": [
            [
             0,
             "rgb(2,4,25)"
            ],
            [
             0.06274509803921569,
             "rgb(24,15,41)"
            ],
            [
             0.12549019607843137,
             "rgb(47,23,57)"
            ],
            [
             0.18823529411764706,
             "rgb(71,28,72)"
            ],
            [
             0.25098039215686274,
             "rgb(97,30,82)"
            ],
            [
             0.3137254901960784,
             "rgb(123,30,89)"
            ],
            [
             0.3764705882352941,
             "rgb(150,27,91)"
            ],
            [
             0.4392156862745098,
             "rgb(177,22,88)"
            ],
            [
             0.5019607843137255,
             "rgb(203,26,79)"
            ],
            [
             0.5647058823529412,
             "rgb(223,47,67)"
            ],
            [
             0.6274509803921569,
             "rgb(236,76,61)"
            ],
            [
             0.6901960784313725,
             "rgb(242,107,73)"
            ],
            [
             0.7529411764705882,
             "rgb(244,135,95)"
            ],
            [
             0.8156862745098039,
             "rgb(245,162,122)"
            ],
            [
             0.8784313725490196,
             "rgb(246,188,153)"
            ],
            [
             0.9411764705882353,
             "rgb(247,212,187)"
            ],
            [
             1,
             "rgb(250,234,220)"
            ]
           ]
          },
          "colorway": [
           "rgb(76,114,176)",
           "rgb(221,132,82)",
           "rgb(85,168,104)",
           "rgb(196,78,82)",
           "rgb(129,114,179)",
           "rgb(147,120,96)",
           "rgb(218,139,195)",
           "rgb(140,140,140)",
           "rgb(204,185,116)",
           "rgb(100,181,205)"
          ],
          "font": {
           "color": "rgb(36,36,36)"
          },
          "geo": {
           "bgcolor": "white",
           "lakecolor": "white",
           "landcolor": "rgb(234,234,242)",
           "showlakes": true,
           "showland": true,
           "subunitcolor": "white"
          },
          "hoverlabel": {
           "align": "left"
          },
          "hovermode": "closest",
          "paper_bgcolor": "white",
          "plot_bgcolor": "rgb(234,234,242)",
          "polar": {
           "angularaxis": {
            "gridcolor": "white",
            "linecolor": "white",
            "showgrid": true,
            "ticks": ""
           },
           "bgcolor": "rgb(234,234,242)",
           "radialaxis": {
            "gridcolor": "white",
            "linecolor": "white",
            "showgrid": true,
            "ticks": ""
           }
          },
          "scene": {
           "xaxis": {
            "backgroundcolor": "rgb(234,234,242)",
            "gridcolor": "white",
            "gridwidth": 2,
            "linecolor": "white",
            "showbackground": true,
            "showgrid": true,
            "ticks": "",
            "zerolinecolor": "white"
           },
           "yaxis": {
            "backgroundcolor": "rgb(234,234,242)",
            "gridcolor": "white",
            "gridwidth": 2,
            "linecolor": "white",
            "showbackground": true,
            "showgrid": true,
            "ticks": "",
            "zerolinecolor": "white"
           },
           "zaxis": {
            "backgroundcolor": "rgb(234,234,242)",
            "gridcolor": "white",
            "gridwidth": 2,
            "linecolor": "white",
            "showbackground": true,
            "showgrid": true,
            "ticks": "",
            "zerolinecolor": "white"
           }
          },
          "shapedefaults": {
           "fillcolor": "rgb(67,103,167)",
           "line": {
            "width": 0
           },
           "opacity": 0.5
          },
          "ternary": {
           "aaxis": {
            "gridcolor": "white",
            "linecolor": "white",
            "showgrid": true,
            "ticks": ""
           },
           "baxis": {
            "gridcolor": "white",
            "linecolor": "white",
            "showgrid": true,
            "ticks": ""
           },
           "bgcolor": "rgb(234,234,242)",
           "caxis": {
            "gridcolor": "white",
            "linecolor": "white",
            "showgrid": true,
            "ticks": ""
           }
          },
          "xaxis": {
           "automargin": true,
           "gridcolor": "white",
           "linecolor": "white",
           "showgrid": true,
           "ticks": "",
           "title": {
            "standoff": 15
           },
           "zerolinecolor": "white"
          },
          "yaxis": {
           "automargin": true,
           "gridcolor": "white",
           "linecolor": "white",
           "showgrid": true,
           "ticks": "",
           "title": {
            "standoff": 15
           },
           "zerolinecolor": "white"
          }
         }
        },
        "title": {
         "text": "Sorted by: loop_flow_from_es, ascending: False, head: 20"
        },
        "xaxis": {
         "anchor": "y",
         "domain": [
          0,
          1
         ],
         "title": {
          "text": "Flow decomposition value"
         }
        },
        "yaxis": {
         "anchor": "x",
         "domain": [
          0,
          1
         ],
         "title": {
          "text": "Branch id"
         }
        }
       }
      }
     },
     "metadata": {},
     "output_type": "display_data"
    }
   ],
   "source": [
    "flow_decomposition_bar_chart(f'loop_flow_from_{random.Random(12).choice(list(countries)).lower()}')"
   ]
  },
  {
   "cell_type": "markdown",
   "metadata": {},
   "source": [
    "# Loop flow repartition from source"
   ]
  },
  {
   "cell_type": "code",
   "execution_count": 25,
   "metadata": {},
   "outputs": [],
   "source": [
    "c1, c2 = 'country1', 'country2'\n",
    "df_sum1 = flow_dec.groupby(c1).sum().transpose()\n",
    "df_sum2 = flow_dec.groupby(c2).sum().transpose()\n",
    "df_lf_per_country = pd.concat([df_sum1, df_sum2]).groupby(level=0).sum()/2"
   ]
  },
  {
   "cell_type": "code",
   "execution_count": 26,
   "metadata": {},
   "outputs": [
    {
     "data": {
      "application/vnd.plotly.v1+json": {
       "config": {
        "plotlyServerURL": "https://plot.ly"
       },
       "data": [
        {
         "alignmentgroup": "True",
         "hovertemplate": "Impacted country=AG<br>Loop flow value per origin=%{x}<br>Origin of loop flow=%{y}<extra></extra>",
         "legendgroup": "AG",
         "marker": {
          "color": "#0DF9FF",
          "pattern": {
           "shape": ""
          }
         },
         "name": "AG",
         "offsetgroup": "AG",
         "orientation": "h",
         "showlegend": true,
         "textposition": "auto",
         "texttemplate": "%{x:.0f}",
         "type": "bar",
         "x": [
          1383.781126148386,
          529.7437632343348,
          735.4646435135417,
          255.51866109704915,
          711.4505544695057,
          null,
          -317.9325733629851,
          null,
          -496.8989579201195,
          193.15073577209213,
          -405.6587238352207,
          -144.8917816376481,
          -170.52202871756862,
          289.8776397836274,
          null,
          128.44836692442243,
          -130.13486493687927,
          58.231973699401635,
          69.8877612921755,
          53.83373579498626
         ],
         "xaxis": "x",
         "y": [
          "loop_flow_from_ag",
          "loop_flow_from_id",
          "loop_flow_from_az",
          "loop_flow_from_ke",
          "loop_flow_from_dz",
          "loop_flow_from_cl",
          "loop_flow_from_gr",
          "loop_flow_from_be",
          "loop_flow_from_jo",
          "loop_flow_from_kg",
          "loop_flow_from_om",
          "loop_flow_from_cd",
          "loop_flow_from_hn",
          "loop_flow_from_es",
          "loop_flow_from_iq",
          "loop_flow_from_gu",
          "loop_flow_from_lv",
          "loop_flow_from_rs",
          "loop_flow_from_rw",
          "loop_flow_from_pn"
         ],
         "yaxis": "y"
        },
        {
         "alignmentgroup": "True",
         "hovertemplate": "Impacted country=AZ<br>Loop flow value per origin=%{x}<br>Origin of loop flow=%{y}<extra></extra>",
         "legendgroup": "AZ",
         "marker": {
          "color": "#AF0038",
          "pattern": {
           "shape": ""
          }
         },
         "name": "AZ",
         "offsetgroup": "AZ",
         "orientation": "h",
         "showlegend": true,
         "textposition": "auto",
         "texttemplate": "%{x:.0f}",
         "type": "bar",
         "x": [
          618.1464006471754,
          240.86270095740733,
          910.7847312423726,
          1078.8847028162263,
          380.6999016123309,
          976.4931704960427,
          -1058.104288756601,
          599.9890018959953,
          -213.23075419199668,
          null,
          null,
          -109.27919336131819,
          null,
          82.80859736140991,
          67.8435489654702,
          284.7859808258326,
          -117.7115007173022,
          null,
          null,
          29.99924439527493
         ],
         "xaxis": "x",
         "y": [
          "loop_flow_from_ag",
          "loop_flow_from_id",
          "loop_flow_from_az",
          "loop_flow_from_ke",
          "loop_flow_from_dz",
          "loop_flow_from_cl",
          "loop_flow_from_gr",
          "loop_flow_from_be",
          "loop_flow_from_jo",
          "loop_flow_from_kg",
          "loop_flow_from_om",
          "loop_flow_from_cd",
          "loop_flow_from_hn",
          "loop_flow_from_es",
          "loop_flow_from_iq",
          "loop_flow_from_gu",
          "loop_flow_from_lv",
          "loop_flow_from_rs",
          "loop_flow_from_rw",
          "loop_flow_from_pn"
         ],
         "yaxis": "y"
        },
        {
         "alignmentgroup": "True",
         "hovertemplate": "Impacted country=BE<br>Loop flow value per origin=%{x}<br>Origin of loop flow=%{y}<extra></extra>",
         "legendgroup": "BE",
         "marker": {
          "color": "#FD3216",
          "pattern": {
           "shape": ""
          }
         },
         "name": "BE",
         "offsetgroup": "BE",
         "orientation": "h",
         "showlegend": true,
         "textposition": "auto",
         "texttemplate": "%{x:.0f}",
         "type": "bar",
         "x": [
          null,
          573.7886973519298,
          333.73410518878444,
          -268.0391838188856,
          248.94806323645705,
          null,
          null,
          392.33548970008036,
          -162.4241171235799,
          183.93907607116603,
          256.8704459664452,
          126.6426768292096,
          123.17445303160035,
          101.10644393397115,
          176.39177863376216,
          null,
          -63.70932534976002,
          60.66978075729764,
          36.85929359311039,
          -17.973149074245775
         ],
         "xaxis": "x",
         "y": [
          "loop_flow_from_ag",
          "loop_flow_from_id",
          "loop_flow_from_az",
          "loop_flow_from_ke",
          "loop_flow_from_dz",
          "loop_flow_from_cl",
          "loop_flow_from_gr",
          "loop_flow_from_be",
          "loop_flow_from_jo",
          "loop_flow_from_kg",
          "loop_flow_from_om",
          "loop_flow_from_cd",
          "loop_flow_from_hn",
          "loop_flow_from_es",
          "loop_flow_from_iq",
          "loop_flow_from_gu",
          "loop_flow_from_lv",
          "loop_flow_from_rs",
          "loop_flow_from_rw",
          "loop_flow_from_pn"
         ],
         "yaxis": "y"
        },
        {
         "alignmentgroup": "True",
         "hovertemplate": "Impacted country=CD<br>Loop flow value per origin=%{x}<br>Origin of loop flow=%{y}<extra></extra>",
         "legendgroup": "CD",
         "marker": {
          "color": "#00A08B",
          "pattern": {
           "shape": ""
          }
         },
         "name": "CD",
         "offsetgroup": "CD",
         "orientation": "h",
         "showlegend": true,
         "textposition": "auto",
         "texttemplate": "%{x:.0f}",
         "type": "bar",
         "x": [
          null,
          -779.8259612715196,
          null,
          null,
          null,
          null,
          null,
          362.4278757035358,
          264.7819736628396,
          138.57912820494712,
          165.40279854413035,
          724.3430391429025,
          167.83475859274157,
          null,
          null,
          null,
          -42.405408143920376,
          null,
          null,
          -20.767554084992714
         ],
         "xaxis": "x",
         "y": [
          "loop_flow_from_ag",
          "loop_flow_from_id",
          "loop_flow_from_az",
          "loop_flow_from_ke",
          "loop_flow_from_dz",
          "loop_flow_from_cl",
          "loop_flow_from_gr",
          "loop_flow_from_be",
          "loop_flow_from_jo",
          "loop_flow_from_kg",
          "loop_flow_from_om",
          "loop_flow_from_cd",
          "loop_flow_from_hn",
          "loop_flow_from_es",
          "loop_flow_from_iq",
          "loop_flow_from_gu",
          "loop_flow_from_lv",
          "loop_flow_from_rs",
          "loop_flow_from_rw",
          "loop_flow_from_pn"
         ],
         "yaxis": "y"
        },
        {
         "alignmentgroup": "True",
         "hovertemplate": "Impacted country=CL<br>Loop flow value per origin=%{x}<br>Origin of loop flow=%{y}<extra></extra>",
         "legendgroup": "CL",
         "marker": {
          "color": "#6C4516",
          "pattern": {
           "shape": ""
          }
         },
         "name": "CL",
         "offsetgroup": "CL",
         "orientation": "h",
         "showlegend": true,
         "textposition": "auto",
         "texttemplate": "%{x:.0f}",
         "type": "bar",
         "x": [
          848.7897703480497,
          null,
          396.82632879622963,
          null,
          null,
          1568.2376236130008,
          -242.66255018066943,
          169.48150316764105,
          -114.27794562643462,
          307.49387164895165,
          -133.33663164516767,
          null,
          null,
          -223.5523974604918,
          -108.74640812482306,
          197.73546461095754,
          -77.16920336215809,
          null,
          -28.996023882518365,
          45.09399892438618
         ],
         "xaxis": "x",
         "y": [
          "loop_flow_from_ag",
          "loop_flow_from_id",
          "loop_flow_from_az",
          "loop_flow_from_ke",
          "loop_flow_from_dz",
          "loop_flow_from_cl",
          "loop_flow_from_gr",
          "loop_flow_from_be",
          "loop_flow_from_jo",
          "loop_flow_from_kg",
          "loop_flow_from_om",
          "loop_flow_from_cd",
          "loop_flow_from_hn",
          "loop_flow_from_es",
          "loop_flow_from_iq",
          "loop_flow_from_gu",
          "loop_flow_from_lv",
          "loop_flow_from_rs",
          "loop_flow_from_rw",
          "loop_flow_from_pn"
         ],
         "yaxis": "y"
        },
        {
         "alignmentgroup": "True",
         "hovertemplate": "Impacted country=DZ<br>Loop flow value per origin=%{x}<br>Origin of loop flow=%{y}<extra></extra>",
         "legendgroup": "DZ",
         "marker": {
          "color": "#511CFB",
          "pattern": {
           "shape": ""
          }
         },
         "name": "DZ",
         "offsetgroup": "DZ",
         "orientation": "h",
         "showlegend": true,
         "textposition": "auto",
         "texttemplate": "%{x:.0f}",
         "type": "bar",
         "x": [
          1413.349746257404,
          null,
          null,
          -400.44495039073445,
          639.8036834357791,
          409.17684832366245,
          null,
          435.46231941550803,
          160.5026663899403,
          null,
          308.12324862802177,
          371.6001523384375,
          116.39795051430124,
          null,
          180.07299558815947,
          null,
          -77.50704984786589,
          null,
          -51.56802129191696,
          28.7878044229644
         ],
         "xaxis": "x",
         "y": [
          "loop_flow_from_ag",
          "loop_flow_from_id",
          "loop_flow_from_az",
          "loop_flow_from_ke",
          "loop_flow_from_dz",
          "loop_flow_from_cl",
          "loop_flow_from_gr",
          "loop_flow_from_be",
          "loop_flow_from_jo",
          "loop_flow_from_kg",
          "loop_flow_from_om",
          "loop_flow_from_cd",
          "loop_flow_from_hn",
          "loop_flow_from_es",
          "loop_flow_from_iq",
          "loop_flow_from_gu",
          "loop_flow_from_lv",
          "loop_flow_from_rs",
          "loop_flow_from_rw",
          "loop_flow_from_pn"
         ],
         "yaxis": "y"
        },
        {
         "alignmentgroup": "True",
         "hovertemplate": "Impacted country=ES<br>Loop flow value per origin=%{x}<br>Origin of loop flow=%{y}<extra></extra>",
         "legendgroup": "ES",
         "marker": {
          "color": "#F6F926",
          "pattern": {
           "shape": ""
          }
         },
         "name": "ES",
         "offsetgroup": "ES",
         "orientation": "h",
         "showlegend": true,
         "textposition": "auto",
         "texttemplate": "%{x:.0f}",
         "type": "bar",
         "x": [
          null,
          null,
          249.36087659934356,
          -170.28657930298965,
          -273.634333708151,
          459.05082691721935,
          null,
          null,
          null,
          null,
          null,
          null,
          392.0490013433913,
          null,
          null,
          72.90838141285468,
          -38.955121393796226,
          null,
          -76.38894870780452,
          19.744760776075008
         ],
         "xaxis": "x",
         "y": [
          "loop_flow_from_ag",
          "loop_flow_from_id",
          "loop_flow_from_az",
          "loop_flow_from_ke",
          "loop_flow_from_dz",
          "loop_flow_from_cl",
          "loop_flow_from_gr",
          "loop_flow_from_be",
          "loop_flow_from_jo",
          "loop_flow_from_kg",
          "loop_flow_from_om",
          "loop_flow_from_cd",
          "loop_flow_from_hn",
          "loop_flow_from_es",
          "loop_flow_from_iq",
          "loop_flow_from_gu",
          "loop_flow_from_lv",
          "loop_flow_from_rs",
          "loop_flow_from_rw",
          "loop_flow_from_pn"
         ],
         "yaxis": "y"
        },
        {
         "alignmentgroup": "True",
         "hovertemplate": "Impacted country=GR<br>Loop flow value per origin=%{x}<br>Origin of loop flow=%{y}<extra></extra>",
         "legendgroup": "GR",
         "marker": {
          "color": "#C9FBE5",
          "pattern": {
           "shape": ""
          }
         },
         "name": "GR",
         "offsetgroup": "GR",
         "orientation": "h",
         "showlegend": true,
         "textposition": "auto",
         "texttemplate": "%{x:.0f}",
         "type": "bar",
         "x": [
          null,
          null,
          null,
          null,
          194.0378112094632,
          null,
          510.87933710180715,
          null,
          null,
          null,
          null,
          null,
          null,
          null,
          null,
          null,
          81.08361977494286,
          null,
          null,
          null
         ],
         "xaxis": "x",
         "y": [
          "loop_flow_from_ag",
          "loop_flow_from_id",
          "loop_flow_from_az",
          "loop_flow_from_ke",
          "loop_flow_from_dz",
          "loop_flow_from_cl",
          "loop_flow_from_gr",
          "loop_flow_from_be",
          "loop_flow_from_jo",
          "loop_flow_from_kg",
          "loop_flow_from_om",
          "loop_flow_from_cd",
          "loop_flow_from_hn",
          "loop_flow_from_es",
          "loop_flow_from_iq",
          "loop_flow_from_gu",
          "loop_flow_from_lv",
          "loop_flow_from_rs",
          "loop_flow_from_rw",
          "loop_flow_from_pn"
         ],
         "yaxis": "y"
        },
        {
         "alignmentgroup": "True",
         "hovertemplate": "Impacted country=GU<br>Loop flow value per origin=%{x}<br>Origin of loop flow=%{y}<extra></extra>",
         "legendgroup": "GU",
         "marker": {
          "color": "#FC0080",
          "pattern": {
           "shape": ""
          }
         },
         "name": "GU",
         "offsetgroup": "GU",
         "orientation": "h",
         "showlegend": true,
         "textposition": "auto",
         "texttemplate": "%{x:.0f}",
         "type": "bar",
         "x": [
          null,
          1002.596080297376,
          null,
          null,
          null,
          161.55072167231106,
          null,
          null,
          -374.3905181289898,
          null,
          null,
          null,
          null,
          null,
          null,
          132.45318282659952,
          null,
          null,
          null,
          null
         ],
         "xaxis": "x",
         "y": [
          "loop_flow_from_ag",
          "loop_flow_from_id",
          "loop_flow_from_az",
          "loop_flow_from_ke",
          "loop_flow_from_dz",
          "loop_flow_from_cl",
          "loop_flow_from_gr",
          "loop_flow_from_be",
          "loop_flow_from_jo",
          "loop_flow_from_kg",
          "loop_flow_from_om",
          "loop_flow_from_cd",
          "loop_flow_from_hn",
          "loop_flow_from_es",
          "loop_flow_from_iq",
          "loop_flow_from_gu",
          "loop_flow_from_lv",
          "loop_flow_from_rs",
          "loop_flow_from_rw",
          "loop_flow_from_pn"
         ],
         "yaxis": "y"
        },
        {
         "alignmentgroup": "True",
         "hovertemplate": "Impacted country=HN<br>Loop flow value per origin=%{x}<br>Origin of loop flow=%{y}<extra></extra>",
         "legendgroup": "HN",
         "marker": {
          "color": "#FB0D0D",
          "pattern": {
           "shape": ""
          }
         },
         "name": "HN",
         "offsetgroup": "HN",
         "orientation": "h",
         "showlegend": true,
         "textposition": "auto",
         "texttemplate": "%{x:.0f}",
         "type": "bar",
         "x": [
          802.306087041407,
          237.33577306873218,
          894.2790801473118,
          -588.3345378466802,
          825.1619425589167,
          null,
          -545.7141608899638,
          -152.62256939120147,
          -284.8019325759343,
          394.8551771597756,
          -375.82761209829596,
          -272.27326620737995,
          514.7165919001848,
          348.7151241128361,
          null,
          268.8975515505226,
          -86.55243675171013,
          162.36829920687174,
          67.17126605334306,
          30.665595611749044
         ],
         "xaxis": "x",
         "y": [
          "loop_flow_from_ag",
          "loop_flow_from_id",
          "loop_flow_from_az",
          "loop_flow_from_ke",
          "loop_flow_from_dz",
          "loop_flow_from_cl",
          "loop_flow_from_gr",
          "loop_flow_from_be",
          "loop_flow_from_jo",
          "loop_flow_from_kg",
          "loop_flow_from_om",
          "loop_flow_from_cd",
          "loop_flow_from_hn",
          "loop_flow_from_es",
          "loop_flow_from_iq",
          "loop_flow_from_gu",
          "loop_flow_from_lv",
          "loop_flow_from_rs",
          "loop_flow_from_rw",
          "loop_flow_from_pn"
         ],
         "yaxis": "y"
        },
        {
         "alignmentgroup": "True",
         "hovertemplate": "Impacted country=ID<br>Loop flow value per origin=%{x}<br>Origin of loop flow=%{y}<extra></extra>",
         "legendgroup": "ID",
         "marker": {
          "color": "#D626FF",
          "pattern": {
           "shape": ""
          }
         },
         "name": "ID",
         "offsetgroup": "ID",
         "orientation": "h",
         "showlegend": true,
         "textposition": "auto",
         "texttemplate": "%{x:.0f}",
         "type": "bar",
         "x": [
          null,
          1403.9344762080814,
          null,
          null,
          null,
          null,
          null,
          null,
          null,
          null,
          null,
          null,
          194.95936028012292,
          null,
          null,
          null,
          null,
          null,
          null,
          null
         ],
         "xaxis": "x",
         "y": [
          "loop_flow_from_ag",
          "loop_flow_from_id",
          "loop_flow_from_az",
          "loop_flow_from_ke",
          "loop_flow_from_dz",
          "loop_flow_from_cl",
          "loop_flow_from_gr",
          "loop_flow_from_be",
          "loop_flow_from_jo",
          "loop_flow_from_kg",
          "loop_flow_from_om",
          "loop_flow_from_cd",
          "loop_flow_from_hn",
          "loop_flow_from_es",
          "loop_flow_from_iq",
          "loop_flow_from_gu",
          "loop_flow_from_lv",
          "loop_flow_from_rs",
          "loop_flow_from_rw",
          "loop_flow_from_pn"
         ],
         "yaxis": "y"
        },
        {
         "alignmentgroup": "True",
         "hovertemplate": "Impacted country=IQ<br>Loop flow value per origin=%{x}<br>Origin of loop flow=%{y}<extra></extra>",
         "legendgroup": "IQ",
         "marker": {
          "color": "#DA16FF",
          "pattern": {
           "shape": ""
          }
         },
         "name": "IQ",
         "offsetgroup": "IQ",
         "orientation": "h",
         "showlegend": true,
         "textposition": "auto",
         "texttemplate": "%{x:.0f}",
         "type": "bar",
         "x": [
          null,
          -373.70821125291667,
          null,
          null,
          null,
          null,
          185.74403391009616,
          824.3769116547809,
          202.2145002118173,
          null,
          207.4336214651595,
          183.06374226207774,
          null,
          null,
          495.96939778609294,
          null,
          93.34740258395576,
          null,
          null,
          24.5158023941067
         ],
         "xaxis": "x",
         "y": [
          "loop_flow_from_ag",
          "loop_flow_from_id",
          "loop_flow_from_az",
          "loop_flow_from_ke",
          "loop_flow_from_dz",
          "loop_flow_from_cl",
          "loop_flow_from_gr",
          "loop_flow_from_be",
          "loop_flow_from_jo",
          "loop_flow_from_kg",
          "loop_flow_from_om",
          "loop_flow_from_cd",
          "loop_flow_from_hn",
          "loop_flow_from_es",
          "loop_flow_from_iq",
          "loop_flow_from_gu",
          "loop_flow_from_lv",
          "loop_flow_from_rs",
          "loop_flow_from_rw",
          "loop_flow_from_pn"
         ],
         "yaxis": "y"
        },
        {
         "alignmentgroup": "True",
         "hovertemplate": "Impacted country=JO<br>Loop flow value per origin=%{x}<br>Origin of loop flow=%{y}<extra></extra>",
         "legendgroup": "JO",
         "marker": {
          "color": "#86CE00",
          "pattern": {
           "shape": ""
          }
         },
         "name": "JO",
         "offsetgroup": "JO",
         "orientation": "h",
         "showlegend": true,
         "textposition": "auto",
         "texttemplate": "%{x:.0f}",
         "type": "bar",
         "x": [
          null,
          294.388888209913,
          null,
          null,
          null,
          null,
          null,
          473.8137670262657,
          288.54229276413827,
          null,
          null,
          null,
          null,
          null,
          null,
          null,
          null,
          null,
          null,
          null
         ],
         "xaxis": "x",
         "y": [
          "loop_flow_from_ag",
          "loop_flow_from_id",
          "loop_flow_from_az",
          "loop_flow_from_ke",
          "loop_flow_from_dz",
          "loop_flow_from_cl",
          "loop_flow_from_gr",
          "loop_flow_from_be",
          "loop_flow_from_jo",
          "loop_flow_from_kg",
          "loop_flow_from_om",
          "loop_flow_from_cd",
          "loop_flow_from_hn",
          "loop_flow_from_es",
          "loop_flow_from_iq",
          "loop_flow_from_gu",
          "loop_flow_from_lv",
          "loop_flow_from_rs",
          "loop_flow_from_rw",
          "loop_flow_from_pn"
         ],
         "yaxis": "y"
        },
        {
         "alignmentgroup": "True",
         "hovertemplate": "Impacted country=KE<br>Loop flow value per origin=%{x}<br>Origin of loop flow=%{y}<extra></extra>",
         "legendgroup": "KE",
         "marker": {
          "color": "#6A76FC",
          "pattern": {
           "shape": ""
          }
         },
         "name": "KE",
         "offsetgroup": "KE",
         "orientation": "h",
         "showlegend": true,
         "textposition": "auto",
         "texttemplate": "%{x:.0f}",
         "type": "bar",
         "x": [
          null,
          null,
          null,
          1073.7693354862472,
          162.19195305197715,
          null,
          null,
          141.2847705927453,
          null,
          null,
          null,
          null,
          null,
          68.47578400113167,
          null,
          null,
          42.08909169257235,
          null,
          null,
          null
         ],
         "xaxis": "x",
         "y": [
          "loop_flow_from_ag",
          "loop_flow_from_id",
          "loop_flow_from_az",
          "loop_flow_from_ke",
          "loop_flow_from_dz",
          "loop_flow_from_cl",
          "loop_flow_from_gr",
          "loop_flow_from_be",
          "loop_flow_from_jo",
          "loop_flow_from_kg",
          "loop_flow_from_om",
          "loop_flow_from_cd",
          "loop_flow_from_hn",
          "loop_flow_from_es",
          "loop_flow_from_iq",
          "loop_flow_from_gu",
          "loop_flow_from_lv",
          "loop_flow_from_rs",
          "loop_flow_from_rw",
          "loop_flow_from_pn"
         ],
         "yaxis": "y"
        },
        {
         "alignmentgroup": "True",
         "hovertemplate": "Impacted country=KG<br>Loop flow value per origin=%{x}<br>Origin of loop flow=%{y}<extra></extra>",
         "legendgroup": "KG",
         "marker": {
          "color": "#FB00D1",
          "pattern": {
           "shape": ""
          }
         },
         "name": "KG",
         "offsetgroup": "KG",
         "orientation": "h",
         "showlegend": true,
         "textposition": "auto",
         "texttemplate": "%{x:.0f}",
         "type": "bar",
         "x": [
          -270.2469264900647,
          null,
          567.1415479900824,
          null,
          null,
          -391.2266045172071,
          363.4017107374557,
          null,
          null,
          880.4979034174568,
          229.06560328463274,
          253.60331696768455,
          462.5069108883846,
          -113.69377436456998,
          247.87676459362552,
          null,
          67.74789432760357,
          90.05805540110863,
          -143.364882543709,
          -37.496801680842985
         ],
         "xaxis": "x",
         "y": [
          "loop_flow_from_ag",
          "loop_flow_from_id",
          "loop_flow_from_az",
          "loop_flow_from_ke",
          "loop_flow_from_dz",
          "loop_flow_from_cl",
          "loop_flow_from_gr",
          "loop_flow_from_be",
          "loop_flow_from_jo",
          "loop_flow_from_kg",
          "loop_flow_from_om",
          "loop_flow_from_cd",
          "loop_flow_from_hn",
          "loop_flow_from_es",
          "loop_flow_from_iq",
          "loop_flow_from_gu",
          "loop_flow_from_lv",
          "loop_flow_from_rs",
          "loop_flow_from_rw",
          "loop_flow_from_pn"
         ],
         "yaxis": "y"
        },
        {
         "alignmentgroup": "True",
         "hovertemplate": "Impacted country=LV<br>Loop flow value per origin=%{x}<br>Origin of loop flow=%{y}<extra></extra>",
         "legendgroup": "LV",
         "marker": {
          "color": "#EEA6FB",
          "pattern": {
           "shape": ""
          }
         },
         "name": "LV",
         "offsetgroup": "LV",
         "orientation": "h",
         "showlegend": true,
         "textposition": "auto",
         "texttemplate": "%{x:.0f}",
         "type": "bar",
         "x": [
          798.8690254204764,
          null,
          664.1438785748873,
          -173.70510921060583,
          591.933735129732,
          null,
          -391.09522856026456,
          -148.3865441795491,
          -283.1285112784342,
          151.81407700582926,
          -144.7158277079227,
          -218.3301638342652,
          -250.59876605142728,
          245.7198260535763,
          null,
          153.35222643190735,
          179.36112868150227,
          null,
          78.75932257203183,
          41.09596810009917
         ],
         "xaxis": "x",
         "y": [
          "loop_flow_from_ag",
          "loop_flow_from_id",
          "loop_flow_from_az",
          "loop_flow_from_ke",
          "loop_flow_from_dz",
          "loop_flow_from_cl",
          "loop_flow_from_gr",
          "loop_flow_from_be",
          "loop_flow_from_jo",
          "loop_flow_from_kg",
          "loop_flow_from_om",
          "loop_flow_from_cd",
          "loop_flow_from_hn",
          "loop_flow_from_es",
          "loop_flow_from_iq",
          "loop_flow_from_gu",
          "loop_flow_from_lv",
          "loop_flow_from_rs",
          "loop_flow_from_rw",
          "loop_flow_from_pn"
         ],
         "yaxis": "y"
        },
        {
         "alignmentgroup": "True",
         "hovertemplate": "Impacted country=OM<br>Loop flow value per origin=%{x}<br>Origin of loop flow=%{y}<extra></extra>",
         "legendgroup": "OM",
         "marker": {
          "color": "#FE00CE",
          "pattern": {
           "shape": ""
          }
         },
         "name": "OM",
         "offsetgroup": "OM",
         "orientation": "h",
         "showlegend": true,
         "textposition": "auto",
         "texttemplate": "%{x:.0f}",
         "type": "bar",
         "x": [
          null,
          null,
          240.50016503515673,
          null,
          null,
          null,
          null,
          null,
          null,
          446.939170564293,
          615.1186698037072,
          437.8803952861113,
          null,
          77.29449609246038,
          null,
          null,
          null,
          33.91517676745684,
          null,
          null
         ],
         "xaxis": "x",
         "y": [
          "loop_flow_from_ag",
          "loop_flow_from_id",
          "loop_flow_from_az",
          "loop_flow_from_ke",
          "loop_flow_from_dz",
          "loop_flow_from_cl",
          "loop_flow_from_gr",
          "loop_flow_from_be",
          "loop_flow_from_jo",
          "loop_flow_from_kg",
          "loop_flow_from_om",
          "loop_flow_from_cd",
          "loop_flow_from_hn",
          "loop_flow_from_es",
          "loop_flow_from_iq",
          "loop_flow_from_gu",
          "loop_flow_from_lv",
          "loop_flow_from_rs",
          "loop_flow_from_rw",
          "loop_flow_from_pn"
         ],
         "yaxis": "y"
        },
        {
         "alignmentgroup": "True",
         "hovertemplate": "Impacted country=PN<br>Loop flow value per origin=%{x}<br>Origin of loop flow=%{y}<extra></extra>",
         "legendgroup": "PN",
         "marker": {
          "color": "#22FFA7",
          "pattern": {
           "shape": ""
          }
         },
         "name": "PN",
         "offsetgroup": "PN",
         "orientation": "h",
         "showlegend": true,
         "textposition": "auto",
         "texttemplate": "%{x:.0f}",
         "type": "bar",
         "x": [
          null,
          956.688582227576,
          326.0872720368378,
          null,
          null,
          -181.13748383480043,
          null,
          null,
          -245.2147464896767,
          null,
          null,
          null,
          92.83008194998992,
          154.69473432149323,
          null,
          null,
          -57.19537218767304,
          49.207700774222985,
          47.866428446445546,
          32.49754887437918
         ],
         "xaxis": "x",
         "y": [
          "loop_flow_from_ag",
          "loop_flow_from_id",
          "loop_flow_from_az",
          "loop_flow_from_ke",
          "loop_flow_from_dz",
          "loop_flow_from_cl",
          "loop_flow_from_gr",
          "loop_flow_from_be",
          "loop_flow_from_jo",
          "loop_flow_from_kg",
          "loop_flow_from_om",
          "loop_flow_from_cd",
          "loop_flow_from_hn",
          "loop_flow_from_es",
          "loop_flow_from_iq",
          "loop_flow_from_gu",
          "loop_flow_from_lv",
          "loop_flow_from_rs",
          "loop_flow_from_rw",
          "loop_flow_from_pn"
         ],
         "yaxis": "y"
        },
        {
         "alignmentgroup": "True",
         "hovertemplate": "Impacted country=RS<br>Loop flow value per origin=%{x}<br>Origin of loop flow=%{y}<extra></extra>",
         "legendgroup": "RS",
         "marker": {
          "color": "#620042",
          "pattern": {
           "shape": ""
          }
         },
         "name": "RS",
         "offsetgroup": "RS",
         "orientation": "h",
         "showlegend": true,
         "textposition": "auto",
         "texttemplate": "%{x:.0f}",
         "type": "bar",
         "x": [
          629.7134887037712,
          null,
          566.9465621508862,
          -902.6196290993581,
          245.77343074650622,
          null,
          -133.60337538342046,
          null,
          null,
          null,
          null,
          -144.39775164773002,
          -152.3285399787019,
          null,
          257.59577312882783,
          112.9702959980871,
          -54.714628109594564,
          172.61474829739723,
          null,
          null
         ],
         "xaxis": "x",
         "y": [
          "loop_flow_from_ag",
          "loop_flow_from_id",
          "loop_flow_from_az",
          "loop_flow_from_ke",
          "loop_flow_from_dz",
          "loop_flow_from_cl",
          "loop_flow_from_gr",
          "loop_flow_from_be",
          "loop_flow_from_jo",
          "loop_flow_from_kg",
          "loop_flow_from_om",
          "loop_flow_from_cd",
          "loop_flow_from_hn",
          "loop_flow_from_es",
          "loop_flow_from_iq",
          "loop_flow_from_gu",
          "loop_flow_from_lv",
          "loop_flow_from_rs",
          "loop_flow_from_rw",
          "loop_flow_from_pn"
         ],
         "yaxis": "y"
        },
        {
         "alignmentgroup": "True",
         "hovertemplate": "Impacted country=RW<br>Loop flow value per origin=%{x}<br>Origin of loop flow=%{y}<extra></extra>",
         "legendgroup": "RW",
         "marker": {
          "color": "#FF9616",
          "pattern": {
           "shape": ""
          }
         },
         "name": "RW",
         "offsetgroup": "RW",
         "orientation": "h",
         "showlegend": true,
         "textposition": "auto",
         "texttemplate": "%{x:.0f}",
         "type": "bar",
         "x": [
          null,
          384.7081429068463,
          -216.46136668746362,
          null,
          null,
          null,
          null,
          null,
          null,
          357.397968354486,
          null,
          null,
          null,
          null,
          null,
          253.84679016774754,
          null,
          null,
          -70.90611209003822,
          -22.447344110631132
         ],
         "xaxis": "x",
         "y": [
          "loop_flow_from_ag",
          "loop_flow_from_id",
          "loop_flow_from_az",
          "loop_flow_from_ke",
          "loop_flow_from_dz",
          "loop_flow_from_cl",
          "loop_flow_from_gr",
          "loop_flow_from_be",
          "loop_flow_from_jo",
          "loop_flow_from_kg",
          "loop_flow_from_om",
          "loop_flow_from_cd",
          "loop_flow_from_hn",
          "loop_flow_from_es",
          "loop_flow_from_iq",
          "loop_flow_from_gu",
          "loop_flow_from_lv",
          "loop_flow_from_rs",
          "loop_flow_from_rw",
          "loop_flow_from_pn"
         ],
         "yaxis": "y"
        },
        {
         "alignmentgroup": "True",
         "hovertemplate": "Impacted country=masked_positive<br>Loop flow value per origin=%{x}<br>Origin of loop flow=%{y}<extra></extra>",
         "legendgroup": "masked_positive",
         "marker": {
          "color": "#FC6955",
          "pattern": {
           "shape": ""
          }
         },
         "name": "masked_positive",
         "offsetgroup": "masked_positive",
         "orientation": "h",
         "showlegend": true,
         "textposition": "auto",
         "texttemplate": "%{x:.0f}",
         "type": "bar",
         "x": [
          903.4716727489329,
          701.8055098254672,
          118.92006921465055,
          165.64420811861442,
          429.01078383644756,
          499.4087866584813,
          314.0989187275937,
          85.1513687893644,
          229.84787447805155,
          248.00382026567644,
          202.09392294582426,
          231.54240852645756,
          230.21263614911334,
          266.37011536847376,
          257.75981311156454,
          167.37049154685323,
          24.589995096773293,
          103.81782869261718,
          33.48408548695709,
          15.162847966260086
         ],
         "xaxis": "x",
         "y": [
          "loop_flow_from_ag",
          "loop_flow_from_id",
          "loop_flow_from_az",
          "loop_flow_from_ke",
          "loop_flow_from_dz",
          "loop_flow_from_cl",
          "loop_flow_from_gr",
          "loop_flow_from_be",
          "loop_flow_from_jo",
          "loop_flow_from_kg",
          "loop_flow_from_om",
          "loop_flow_from_cd",
          "loop_flow_from_hn",
          "loop_flow_from_es",
          "loop_flow_from_iq",
          "loop_flow_from_gu",
          "loop_flow_from_lv",
          "loop_flow_from_rs",
          "loop_flow_from_rw",
          "loop_flow_from_pn"
         ],
         "yaxis": "y"
        },
        {
         "alignmentgroup": "True",
         "hovertemplate": "Impacted country=masked_negative<br>Loop flow value per origin=%{x}<br>Origin of loop flow=%{y}<extra></extra>",
         "legendgroup": "masked_negative",
         "marker": {
          "color": "#479B55",
          "pattern": {
           "shape": ""
          }
         },
         "name": "masked_negative",
         "offsetgroup": "masked_negative",
         "orientation": "h",
         "showlegend": true,
         "textposition": "auto",
         "texttemplate": "%{x:.0f}",
         "type": "bar",
         "x": [
          -291.4308074575055,
          -248.45073480256127,
          -290.9120182043738,
          -329.60588002773187,
          -252.7701572189697,
          -239.92481933620502,
          -384.3233562468729,
          -431.4115674283602,
          -277.7927510538085,
          -177.5628089010718,
          -337.244836385068,
          -150.57074845578916,
          -160.31964533963725,
          -44.728983640361285,
          -127.07056752330905,
          -139.54759619488652,
          -25.910918051808036,
          -45.68516912764872,
          -21.739579200755806,
          -34.99736228252118
         ],
         "xaxis": "x",
         "y": [
          "loop_flow_from_ag",
          "loop_flow_from_id",
          "loop_flow_from_az",
          "loop_flow_from_ke",
          "loop_flow_from_dz",
          "loop_flow_from_cl",
          "loop_flow_from_gr",
          "loop_flow_from_be",
          "loop_flow_from_jo",
          "loop_flow_from_kg",
          "loop_flow_from_om",
          "loop_flow_from_cd",
          "loop_flow_from_hn",
          "loop_flow_from_es",
          "loop_flow_from_iq",
          "loop_flow_from_gu",
          "loop_flow_from_lv",
          "loop_flow_from_rs",
          "loop_flow_from_rw",
          "loop_flow_from_pn"
         ],
         "yaxis": "y"
        }
       ],
       "layout": {
        "barmode": "relative",
        "height": 1000,
        "legend": {
         "title": {
          "text": "Impacted country"
         },
         "tracegroupgap": 0
        },
        "margin": {
         "t": 60
        },
        "template": {
         "data": {
          "bar": [
           {
            "error_x": {
             "color": "#2a3f5f"
            },
            "error_y": {
             "color": "#2a3f5f"
            },
            "marker": {
             "line": {
              "color": "#E5ECF6",
              "width": 0.5
             },
             "pattern": {
              "fillmode": "overlay",
              "size": 10,
              "solidity": 0.2
             }
            },
            "type": "bar"
           }
          ],
          "barpolar": [
           {
            "marker": {
             "line": {
              "color": "#E5ECF6",
              "width": 0.5
             },
             "pattern": {
              "fillmode": "overlay",
              "size": 10,
              "solidity": 0.2
             }
            },
            "type": "barpolar"
           }
          ],
          "carpet": [
           {
            "aaxis": {
             "endlinecolor": "#2a3f5f",
             "gridcolor": "white",
             "linecolor": "white",
             "minorgridcolor": "white",
             "startlinecolor": "#2a3f5f"
            },
            "baxis": {
             "endlinecolor": "#2a3f5f",
             "gridcolor": "white",
             "linecolor": "white",
             "minorgridcolor": "white",
             "startlinecolor": "#2a3f5f"
            },
            "type": "carpet"
           }
          ],
          "choropleth": [
           {
            "colorbar": {
             "outlinewidth": 0,
             "ticks": ""
            },
            "type": "choropleth"
           }
          ],
          "contour": [
           {
            "colorbar": {
             "outlinewidth": 0,
             "ticks": ""
            },
            "colorscale": [
             [
              0,
              "#0d0887"
             ],
             [
              0.1111111111111111,
              "#46039f"
             ],
             [
              0.2222222222222222,
              "#7201a8"
             ],
             [
              0.3333333333333333,
              "#9c179e"
             ],
             [
              0.4444444444444444,
              "#bd3786"
             ],
             [
              0.5555555555555556,
              "#d8576b"
             ],
             [
              0.6666666666666666,
              "#ed7953"
             ],
             [
              0.7777777777777778,
              "#fb9f3a"
             ],
             [
              0.8888888888888888,
              "#fdca26"
             ],
             [
              1,
              "#f0f921"
             ]
            ],
            "type": "contour"
           }
          ],
          "contourcarpet": [
           {
            "colorbar": {
             "outlinewidth": 0,
             "ticks": ""
            },
            "type": "contourcarpet"
           }
          ],
          "heatmap": [
           {
            "colorbar": {
             "outlinewidth": 0,
             "ticks": ""
            },
            "colorscale": [
             [
              0,
              "#0d0887"
             ],
             [
              0.1111111111111111,
              "#46039f"
             ],
             [
              0.2222222222222222,
              "#7201a8"
             ],
             [
              0.3333333333333333,
              "#9c179e"
             ],
             [
              0.4444444444444444,
              "#bd3786"
             ],
             [
              0.5555555555555556,
              "#d8576b"
             ],
             [
              0.6666666666666666,
              "#ed7953"
             ],
             [
              0.7777777777777778,
              "#fb9f3a"
             ],
             [
              0.8888888888888888,
              "#fdca26"
             ],
             [
              1,
              "#f0f921"
             ]
            ],
            "type": "heatmap"
           }
          ],
          "heatmapgl": [
           {
            "colorbar": {
             "outlinewidth": 0,
             "ticks": ""
            },
            "colorscale": [
             [
              0,
              "#0d0887"
             ],
             [
              0.1111111111111111,
              "#46039f"
             ],
             [
              0.2222222222222222,
              "#7201a8"
             ],
             [
              0.3333333333333333,
              "#9c179e"
             ],
             [
              0.4444444444444444,
              "#bd3786"
             ],
             [
              0.5555555555555556,
              "#d8576b"
             ],
             [
              0.6666666666666666,
              "#ed7953"
             ],
             [
              0.7777777777777778,
              "#fb9f3a"
             ],
             [
              0.8888888888888888,
              "#fdca26"
             ],
             [
              1,
              "#f0f921"
             ]
            ],
            "type": "heatmapgl"
           }
          ],
          "histogram": [
           {
            "marker": {
             "pattern": {
              "fillmode": "overlay",
              "size": 10,
              "solidity": 0.2
             }
            },
            "type": "histogram"
           }
          ],
          "histogram2d": [
           {
            "colorbar": {
             "outlinewidth": 0,
             "ticks": ""
            },
            "colorscale": [
             [
              0,
              "#0d0887"
             ],
             [
              0.1111111111111111,
              "#46039f"
             ],
             [
              0.2222222222222222,
              "#7201a8"
             ],
             [
              0.3333333333333333,
              "#9c179e"
             ],
             [
              0.4444444444444444,
              "#bd3786"
             ],
             [
              0.5555555555555556,
              "#d8576b"
             ],
             [
              0.6666666666666666,
              "#ed7953"
             ],
             [
              0.7777777777777778,
              "#fb9f3a"
             ],
             [
              0.8888888888888888,
              "#fdca26"
             ],
             [
              1,
              "#f0f921"
             ]
            ],
            "type": "histogram2d"
           }
          ],
          "histogram2dcontour": [
           {
            "colorbar": {
             "outlinewidth": 0,
             "ticks": ""
            },
            "colorscale": [
             [
              0,
              "#0d0887"
             ],
             [
              0.1111111111111111,
              "#46039f"
             ],
             [
              0.2222222222222222,
              "#7201a8"
             ],
             [
              0.3333333333333333,
              "#9c179e"
             ],
             [
              0.4444444444444444,
              "#bd3786"
             ],
             [
              0.5555555555555556,
              "#d8576b"
             ],
             [
              0.6666666666666666,
              "#ed7953"
             ],
             [
              0.7777777777777778,
              "#fb9f3a"
             ],
             [
              0.8888888888888888,
              "#fdca26"
             ],
             [
              1,
              "#f0f921"
             ]
            ],
            "type": "histogram2dcontour"
           }
          ],
          "mesh3d": [
           {
            "colorbar": {
             "outlinewidth": 0,
             "ticks": ""
            },
            "type": "mesh3d"
           }
          ],
          "parcoords": [
           {
            "line": {
             "colorbar": {
              "outlinewidth": 0,
              "ticks": ""
             }
            },
            "type": "parcoords"
           }
          ],
          "pie": [
           {
            "automargin": true,
            "type": "pie"
           }
          ],
          "scatter": [
           {
            "fillpattern": {
             "fillmode": "overlay",
             "size": 10,
             "solidity": 0.2
            },
            "type": "scatter"
           }
          ],
          "scatter3d": [
           {
            "line": {
             "colorbar": {
              "outlinewidth": 0,
              "ticks": ""
             }
            },
            "marker": {
             "colorbar": {
              "outlinewidth": 0,
              "ticks": ""
             }
            },
            "type": "scatter3d"
           }
          ],
          "scattercarpet": [
           {
            "marker": {
             "colorbar": {
              "outlinewidth": 0,
              "ticks": ""
             }
            },
            "type": "scattercarpet"
           }
          ],
          "scattergeo": [
           {
            "marker": {
             "colorbar": {
              "outlinewidth": 0,
              "ticks": ""
             }
            },
            "type": "scattergeo"
           }
          ],
          "scattergl": [
           {
            "marker": {
             "colorbar": {
              "outlinewidth": 0,
              "ticks": ""
             }
            },
            "type": "scattergl"
           }
          ],
          "scattermapbox": [
           {
            "marker": {
             "colorbar": {
              "outlinewidth": 0,
              "ticks": ""
             }
            },
            "type": "scattermapbox"
           }
          ],
          "scatterpolar": [
           {
            "marker": {
             "colorbar": {
              "outlinewidth": 0,
              "ticks": ""
             }
            },
            "type": "scatterpolar"
           }
          ],
          "scatterpolargl": [
           {
            "marker": {
             "colorbar": {
              "outlinewidth": 0,
              "ticks": ""
             }
            },
            "type": "scatterpolargl"
           }
          ],
          "scatterternary": [
           {
            "marker": {
             "colorbar": {
              "outlinewidth": 0,
              "ticks": ""
             }
            },
            "type": "scatterternary"
           }
          ],
          "surface": [
           {
            "colorbar": {
             "outlinewidth": 0,
             "ticks": ""
            },
            "colorscale": [
             [
              0,
              "#0d0887"
             ],
             [
              0.1111111111111111,
              "#46039f"
             ],
             [
              0.2222222222222222,
              "#7201a8"
             ],
             [
              0.3333333333333333,
              "#9c179e"
             ],
             [
              0.4444444444444444,
              "#bd3786"
             ],
             [
              0.5555555555555556,
              "#d8576b"
             ],
             [
              0.6666666666666666,
              "#ed7953"
             ],
             [
              0.7777777777777778,
              "#fb9f3a"
             ],
             [
              0.8888888888888888,
              "#fdca26"
             ],
             [
              1,
              "#f0f921"
             ]
            ],
            "type": "surface"
           }
          ],
          "table": [
           {
            "cells": {
             "fill": {
              "color": "#EBF0F8"
             },
             "line": {
              "color": "white"
             }
            },
            "header": {
             "fill": {
              "color": "#C8D4E3"
             },
             "line": {
              "color": "white"
             }
            },
            "type": "table"
           }
          ]
         },
         "layout": {
          "annotationdefaults": {
           "arrowcolor": "#2a3f5f",
           "arrowhead": 0,
           "arrowwidth": 1
          },
          "autotypenumbers": "strict",
          "coloraxis": {
           "colorbar": {
            "outlinewidth": 0,
            "ticks": ""
           }
          },
          "colorscale": {
           "diverging": [
            [
             0,
             "#8e0152"
            ],
            [
             0.1,
             "#c51b7d"
            ],
            [
             0.2,
             "#de77ae"
            ],
            [
             0.3,
             "#f1b6da"
            ],
            [
             0.4,
             "#fde0ef"
            ],
            [
             0.5,
             "#f7f7f7"
            ],
            [
             0.6,
             "#e6f5d0"
            ],
            [
             0.7,
             "#b8e186"
            ],
            [
             0.8,
             "#7fbc41"
            ],
            [
             0.9,
             "#4d9221"
            ],
            [
             1,
             "#276419"
            ]
           ],
           "sequential": [
            [
             0,
             "#0d0887"
            ],
            [
             0.1111111111111111,
             "#46039f"
            ],
            [
             0.2222222222222222,
             "#7201a8"
            ],
            [
             0.3333333333333333,
             "#9c179e"
            ],
            [
             0.4444444444444444,
             "#bd3786"
            ],
            [
             0.5555555555555556,
             "#d8576b"
            ],
            [
             0.6666666666666666,
             "#ed7953"
            ],
            [
             0.7777777777777778,
             "#fb9f3a"
            ],
            [
             0.8888888888888888,
             "#fdca26"
            ],
            [
             1,
             "#f0f921"
            ]
           ],
           "sequentialminus": [
            [
             0,
             "#0d0887"
            ],
            [
             0.1111111111111111,
             "#46039f"
            ],
            [
             0.2222222222222222,
             "#7201a8"
            ],
            [
             0.3333333333333333,
             "#9c179e"
            ],
            [
             0.4444444444444444,
             "#bd3786"
            ],
            [
             0.5555555555555556,
             "#d8576b"
            ],
            [
             0.6666666666666666,
             "#ed7953"
            ],
            [
             0.7777777777777778,
             "#fb9f3a"
            ],
            [
             0.8888888888888888,
             "#fdca26"
            ],
            [
             1,
             "#f0f921"
            ]
           ]
          },
          "colorway": [
           "#636efa",
           "#EF553B",
           "#00cc96",
           "#ab63fa",
           "#FFA15A",
           "#19d3f3",
           "#FF6692",
           "#B6E880",
           "#FF97FF",
           "#FECB52"
          ],
          "font": {
           "color": "#2a3f5f"
          },
          "geo": {
           "bgcolor": "white",
           "lakecolor": "white",
           "landcolor": "#E5ECF6",
           "showlakes": true,
           "showland": true,
           "subunitcolor": "white"
          },
          "hoverlabel": {
           "align": "left"
          },
          "hovermode": "closest",
          "mapbox": {
           "style": "light"
          },
          "paper_bgcolor": "white",
          "plot_bgcolor": "#E5ECF6",
          "polar": {
           "angularaxis": {
            "gridcolor": "white",
            "linecolor": "white",
            "ticks": ""
           },
           "bgcolor": "#E5ECF6",
           "radialaxis": {
            "gridcolor": "white",
            "linecolor": "white",
            "ticks": ""
           }
          },
          "scene": {
           "xaxis": {
            "backgroundcolor": "#E5ECF6",
            "gridcolor": "white",
            "gridwidth": 2,
            "linecolor": "white",
            "showbackground": true,
            "ticks": "",
            "zerolinecolor": "white"
           },
           "yaxis": {
            "backgroundcolor": "#E5ECF6",
            "gridcolor": "white",
            "gridwidth": 2,
            "linecolor": "white",
            "showbackground": true,
            "ticks": "",
            "zerolinecolor": "white"
           },
           "zaxis": {
            "backgroundcolor": "#E5ECF6",
            "gridcolor": "white",
            "gridwidth": 2,
            "linecolor": "white",
            "showbackground": true,
            "ticks": "",
            "zerolinecolor": "white"
           }
          },
          "shapedefaults": {
           "line": {
            "color": "#2a3f5f"
           }
          },
          "ternary": {
           "aaxis": {
            "gridcolor": "white",
            "linecolor": "white",
            "ticks": ""
           },
           "baxis": {
            "gridcolor": "white",
            "linecolor": "white",
            "ticks": ""
           },
           "bgcolor": "#E5ECF6",
           "caxis": {
            "gridcolor": "white",
            "linecolor": "white",
            "ticks": ""
           }
          },
          "title": {
           "x": 0.05
          },
          "xaxis": {
           "automargin": true,
           "gridcolor": "white",
           "linecolor": "white",
           "ticks": "",
           "title": {
            "standoff": 15
           },
           "zerolinecolor": "white",
           "zerolinewidth": 2
          },
          "yaxis": {
           "automargin": true,
           "gridcolor": "white",
           "linecolor": "white",
           "ticks": "",
           "title": {
            "standoff": 15
           },
           "zerolinecolor": "white",
           "zerolinewidth": 2
          }
         }
        },
        "xaxis": {
         "anchor": "y",
         "domain": [
          0,
          1
         ],
         "title": {
          "text": "Loop flow value per origin"
         }
        },
        "yaxis": {
         "anchor": "x",
         "domain": [
          0,
          1
         ],
         "title": {
          "text": "Origin of loop flow"
         }
        }
       }
      }
     },
     "metadata": {},
     "output_type": "display_data"
    }
   ],
   "source": [
    "threshold = .03\n",
    "df = df_lf_per_country.copy().transpose()\n",
    "df_p = df[[c for c in df.columns if ('loop_flow_from' in c)]].transpose()\n",
    "df_s = df_p.abs().sum(axis=1)\n",
    "df_p = df_p.reindex(df_s.sort_values(ascending=False).index)\n",
    "df_m = df_p.abs().div(df_p.abs().sum(axis=1), axis=0) > threshold\n",
    "df_f = df_p[df_m]\n",
    "df_f['masked_positive'] = df_p[df_p[df_m == False]>0].sum(axis=1)\n",
    "df_f['masked_negative'] = df_p[df_p[df_m == False]<0].sum(axis=1)\n",
    "fig = px.bar(df_f,\n",
    "    orientation='h',\n",
    "    color_discrete_sequence=colors[:df_f.columns.size],\n",
    "    text_auto='.0f',\n",
    "    title='',\n",
    "    height=1000,\n",
    "    labels={\n",
    "        'index':'Origin of loop flow',\n",
    "        'value': 'Loop flow value per origin',\n",
    "        'variable': 'Impacted country',\n",
    "    }\n",
    "    )\n",
    "fig.show()"
   ]
  },
  {
   "cell_type": "code",
   "execution_count": 27,
   "metadata": {},
   "outputs": [
    {
     "data": {
      "application/vnd.plotly.v1+json": {
       "config": {
        "plotlyServerURL": "https://plot.ly"
       },
       "data": [
        {
         "alignmentgroup": "True",
         "hovertemplate": "Impacted country=AG<br>Loop flow value normalized per origin=%{x}<br>Origin of loop flow=%{y}<extra></extra>",
         "legendgroup": "AG",
         "marker": {
          "color": "#0DF9FF",
          "pattern": {
           "shape": ""
          }
         },
         "name": "AG",
         "offsetgroup": "AG",
         "orientation": "h",
         "showlegend": true,
         "textposition": "auto",
         "texttemplate": "%{x:.2f}",
         "type": "bar",
         "x": [
          0.05549935732715802,
          0.07498624557692068,
          0.17383955578937949,
          0.06716899553213694,
          0.11294748796360608,
          0.14357028838530347,
          null,
          null,
          null,
          0.06855006484707374,
          0.14371452188039807,
          -0.0563066875497431,
          0.11829522887164046,
          -0.043014778527745115,
          -0.11998571109554662,
          0.04725829824215366,
          0.09613281537244009,
          -0.10326647989244285,
          -0.13810231130344877,
          -0.07148472571140972
         ],
         "xaxis": "x",
         "y": [
          "loop_flow_from_kg",
          "loop_flow_from_rs",
          "loop_flow_from_ag",
          "loop_flow_from_gu",
          "loop_flow_from_az",
          "loop_flow_from_dz",
          "loop_flow_from_iq",
          "loop_flow_from_cl",
          "loop_flow_from_be",
          "loop_flow_from_id",
          "loop_flow_from_es",
          "loop_flow_from_hn",
          "loop_flow_from_pn",
          "loop_flow_from_cd",
          "loop_flow_from_om",
          "loop_flow_from_ke",
          "loop_flow_from_rw",
          "loop_flow_from_lv",
          "loop_flow_from_jo",
          "loop_flow_from_gr"
         ],
         "yaxis": "y"
        },
        {
         "alignmentgroup": "True",
         "hovertemplate": "Impacted country=AZ<br>Loop flow value normalized per origin=%{x}<br>Origin of loop flow=%{y}<extra></extra>",
         "legendgroup": "AZ",
         "marker": {
          "color": "#AF0038",
          "pattern": {
           "shape": ""
          }
         },
         "name": "AZ",
         "offsetgroup": "AZ",
         "orientation": "h",
         "showlegend": true,
         "textposition": "auto",
         "texttemplate": "%{x:.2f}",
         "type": "bar",
         "x": [
          null,
          null,
          0.07765555814481154,
          0.14892200447328965,
          0.13987191413850744,
          0.07682500817431259,
          0.03534757093920358,
          0.19984687374167806,
          0.14228728283129405,
          0.031168189067603637,
          0.04105455662694266,
          null,
          0.06592088454031896,
          -0.03244228379966546,
          null,
          0.19954024037102064,
          null,
          -0.09340811417315835,
          -0.05926287331764989,
          -0.23790671731353327
         ],
         "xaxis": "x",
         "y": [
          "loop_flow_from_kg",
          "loop_flow_from_rs",
          "loop_flow_from_ag",
          "loop_flow_from_gu",
          "loop_flow_from_az",
          "loop_flow_from_dz",
          "loop_flow_from_iq",
          "loop_flow_from_cl",
          "loop_flow_from_be",
          "loop_flow_from_id",
          "loop_flow_from_es",
          "loop_flow_from_hn",
          "loop_flow_from_pn",
          "loop_flow_from_cd",
          "loop_flow_from_om",
          "loop_flow_from_ke",
          "loop_flow_from_rw",
          "loop_flow_from_lv",
          "loop_flow_from_jo",
          "loop_flow_from_gr"
         ],
         "yaxis": "y"
        },
        {
         "alignmentgroup": "True",
         "hovertemplate": "Impacted country=BE<br>Loop flow value normalized per origin=%{x}<br>Origin of loop flow=%{y}<extra></extra>",
         "legendgroup": "BE",
         "marker": {
          "color": "#FD3216",
          "pattern": {
           "shape": ""
          }
         },
         "name": "BE",
         "offsetgroup": "BE",
         "orientation": "h",
         "showlegend": true,
         "textposition": "auto",
         "texttemplate": "%{x:.2f}",
         "type": "bar",
         "x": [
          0.05285250645561323,
          0.0781254487860748,
          null,
          null,
          0.05125253696598813,
          0.05023756747012678,
          0.09190292965839082,
          null,
          0.09304229012748874,
          0.07424958091407204,
          0.050126198970861895,
          0.04067243096461161,
          -0.039494524239947544,
          0.03759707165167324,
          0.07597712389203681,
          -0.04957397489134945,
          0.05070111848241096,
          -0.05055553535467375,
          -0.04514226811840978,
          null
         ],
         "xaxis": "x",
         "y": [
          "loop_flow_from_kg",
          "loop_flow_from_rs",
          "loop_flow_from_ag",
          "loop_flow_from_gu",
          "loop_flow_from_az",
          "loop_flow_from_dz",
          "loop_flow_from_iq",
          "loop_flow_from_cl",
          "loop_flow_from_be",
          "loop_flow_from_id",
          "loop_flow_from_es",
          "loop_flow_from_hn",
          "loop_flow_from_pn",
          "loop_flow_from_cd",
          "loop_flow_from_om",
          "loop_flow_from_ke",
          "loop_flow_from_rw",
          "loop_flow_from_lv",
          "loop_flow_from_jo",
          "loop_flow_from_gr"
         ],
         "yaxis": "y"
        },
        {
         "alignmentgroup": "True",
         "hovertemplate": "Impacted country=CD<br>Loop flow value normalized per origin=%{x}<br>Origin of loop flow=%{y}<extra></extra>",
         "legendgroup": "CD",
         "marker": {
          "color": "#00A08B",
          "pattern": {
           "shape": ""
          }
         },
         "name": "CD",
         "offsetgroup": "CD",
         "orientation": "h",
         "showlegend": true,
         "textposition": "auto",
         "texttemplate": "%{x:.2f}",
         "type": "bar",
         "x": [
          0.039818914091051906,
          null,
          null,
          null,
          null,
          null,
          null,
          null,
          0.08594970489994624,
          -0.10091127810210247,
          null,
          0.055419346011418985,
          -0.04563500056812306,
          0.21503949399121705,
          0.04892282905413959,
          null,
          null,
          -0.03365014617373298,
          0.07359041908114745,
          null
         ],
         "xaxis": "x",
         "y": [
          "loop_flow_from_kg",
          "loop_flow_from_rs",
          "loop_flow_from_ag",
          "loop_flow_from_gu",
          "loop_flow_from_az",
          "loop_flow_from_dz",
          "loop_flow_from_iq",
          "loop_flow_from_cl",
          "loop_flow_from_be",
          "loop_flow_from_id",
          "loop_flow_from_es",
          "loop_flow_from_hn",
          "loop_flow_from_pn",
          "loop_flow_from_cd",
          "loop_flow_from_om",
          "loop_flow_from_ke",
          "loop_flow_from_rw",
          "loop_flow_from_lv",
          "loop_flow_from_jo",
          "loop_flow_from_gr"
         ],
         "yaxis": "y"
        },
        {
         "alignmentgroup": "True",
         "hovertemplate": "Impacted country=CL<br>Loop flow value normalized per origin=%{x}<br>Origin of loop flow=%{y}<extra></extra>",
         "legendgroup": "CL",
         "marker": {
          "color": "#6C4516",
          "pattern": {
           "shape": ""
          }
         },
         "name": "CL",
         "offsetgroup": "CL",
         "orientation": "h",
         "showlegend": true,
         "textposition": "auto",
         "texttemplate": "%{x:.2f}",
         "type": "bar",
         "x": [
          0.08835437354322631,
          null,
          0.10663047345252773,
          0.10340102297145769,
          0.0609417969859606,
          null,
          -0.05665861285547102,
          0.320951949109824,
          0.04019250769544474,
          null,
          -0.11083202533397302,
          null,
          0.09909037232364216,
          null,
          -0.03943830028299607,
          null,
          -0.03988494349932885,
          -0.061236410328465156,
          -0.03176108174603488,
          -0.054560832369609326
         ],
         "xaxis": "x",
         "y": [
          "loop_flow_from_kg",
          "loop_flow_from_rs",
          "loop_flow_from_ag",
          "loop_flow_from_gu",
          "loop_flow_from_az",
          "loop_flow_from_dz",
          "loop_flow_from_iq",
          "loop_flow_from_cl",
          "loop_flow_from_be",
          "loop_flow_from_id",
          "loop_flow_from_es",
          "loop_flow_from_hn",
          "loop_flow_from_pn",
          "loop_flow_from_cd",
          "loop_flow_from_om",
          "loop_flow_from_ke",
          "loop_flow_from_rw",
          "loop_flow_from_lv",
          "loop_flow_from_jo",
          "loop_flow_from_gr"
         ],
         "yaxis": "y"
        },
        {
         "alignmentgroup": "True",
         "hovertemplate": "Impacted country=DZ<br>Loop flow value normalized per origin=%{x}<br>Origin of loop flow=%{y}<extra></extra>",
         "legendgroup": "DZ",
         "marker": {
          "color": "#511CFB",
          "pattern": {
           "shape": ""
          }
         },
         "name": "DZ",
         "offsetgroup": "DZ",
         "orientation": "h",
         "showlegend": true,
         "textposition": "auto",
         "texttemplate": "%{x:.2f}",
         "type": "bar",
         "x": [
          null,
          null,
          0.17755415753377804,
          null,
          null,
          0.12911199346713192,
          0.09382090239747004,
          0.0837412041534479,
          0.10326980996192701,
          null,
          null,
          0.03843481736834376,
          0.06325884434057352,
          0.11031887435609349,
          0.0911366745479398,
          -0.07406248457110558,
          -0.07093343638885356,
          -0.06150450310544694,
          0.04460824247166251,
          null
         ],
         "xaxis": "x",
         "y": [
          "loop_flow_from_kg",
          "loop_flow_from_rs",
          "loop_flow_from_ag",
          "loop_flow_from_gu",
          "loop_flow_from_az",
          "loop_flow_from_dz",
          "loop_flow_from_iq",
          "loop_flow_from_cl",
          "loop_flow_from_be",
          "loop_flow_from_id",
          "loop_flow_from_es",
          "loop_flow_from_hn",
          "loop_flow_from_pn",
          "loop_flow_from_cd",
          "loop_flow_from_om",
          "loop_flow_from_ke",
          "loop_flow_from_rw",
          "loop_flow_from_lv",
          "loop_flow_from_jo",
          "loop_flow_from_gr"
         ],
         "yaxis": "y"
        },
        {
         "alignmentgroup": "True",
         "hovertemplate": "Impacted country=ES<br>Loop flow value normalized per origin=%{x}<br>Origin of loop flow=%{y}<extra></extra>",
         "legendgroup": "ES",
         "marker": {
          "color": "#F6F926",
          "pattern": {
           "shape": ""
          }
         },
         "name": "ES",
         "offsetgroup": "ES",
         "orientation": "h",
         "showlegend": true,
         "textposition": "auto",
         "texttemplate": "%{x:.2f}",
         "type": "bar",
         "x": [
          null,
          null,
          null,
          0.038125690988791,
          0.03829508985468999,
          -0.0552192418092823,
          null,
          0.09394829930181291,
          null,
          null,
          null,
          0.12945530139917222,
          0.04338749597309418,
          null,
          null,
          -0.031494584062024,
          -0.1050754032873039,
          -0.030912225267773787,
          null,
          null
         ],
         "xaxis": "x",
         "y": [
          "loop_flow_from_kg",
          "loop_flow_from_rs",
          "loop_flow_from_ag",
          "loop_flow_from_gu",
          "loop_flow_from_az",
          "loop_flow_from_dz",
          "loop_flow_from_iq",
          "loop_flow_from_cl",
          "loop_flow_from_be",
          "loop_flow_from_id",
          "loop_flow_from_es",
          "loop_flow_from_hn",
          "loop_flow_from_pn",
          "loop_flow_from_cd",
          "loop_flow_from_om",
          "loop_flow_from_ke",
          "loop_flow_from_rw",
          "loop_flow_from_lv",
          "loop_flow_from_jo",
          "loop_flow_from_gr"
         ],
         "yaxis": "y"
        },
        {
         "alignmentgroup": "True",
         "hovertemplate": "Impacted country=GR<br>Loop flow value normalized per origin=%{x}<br>Origin of loop flow=%{y}<extra></extra>",
         "legendgroup": "GR",
         "marker": {
          "color": "#C9FBE5",
          "pattern": {
           "shape": ""
          }
         },
         "name": "GR",
         "offsetgroup": "GR",
         "orientation": "h",
         "showlegend": true,
         "textposition": "auto",
         "texttemplate": "%{x:.2f}",
         "type": "bar",
         "x": [
          null,
          null,
          null,
          null,
          null,
          0.0391567120694257,
          null,
          null,
          null,
          null,
          null,
          null,
          null,
          null,
          null,
          null,
          null,
          0.06434263404474252,
          null,
          0.11486734088946077
         ],
         "xaxis": "x",
         "y": [
          "loop_flow_from_kg",
          "loop_flow_from_rs",
          "loop_flow_from_ag",
          "loop_flow_from_gu",
          "loop_flow_from_az",
          "loop_flow_from_dz",
          "loop_flow_from_iq",
          "loop_flow_from_cl",
          "loop_flow_from_be",
          "loop_flow_from_id",
          "loop_flow_from_es",
          "loop_flow_from_hn",
          "loop_flow_from_pn",
          "loop_flow_from_cd",
          "loop_flow_from_om",
          "loop_flow_from_ke",
          "loop_flow_from_rw",
          "loop_flow_from_lv",
          "loop_flow_from_jo",
          "loop_flow_from_gr"
         ],
         "yaxis": "y"
        },
        {
         "alignmentgroup": "True",
         "hovertemplate": "Impacted country=GU<br>Loop flow value normalized per origin=%{x}<br>Origin of loop flow=%{y}<extra></extra>",
         "legendgroup": "GU",
         "marker": {
          "color": "#FC0080",
          "pattern": {
           "shape": ""
          }
         },
         "name": "GU",
         "offsetgroup": "GU",
         "orientation": "h",
         "showlegend": true,
         "textposition": "auto",
         "texttemplate": "%{x:.2f}",
         "type": "bar",
         "x": [
          null,
          null,
          null,
          0.06926321804256123,
          null,
          null,
          null,
          0.033062603664214936,
          null,
          0.12973824533617945,
          null,
          null,
          null,
          null,
          null,
          null,
          null,
          null,
          -0.1040537418313948,
          null
         ],
         "xaxis": "x",
         "y": [
          "loop_flow_from_kg",
          "loop_flow_from_rs",
          "loop_flow_from_ag",
          "loop_flow_from_gu",
          "loop_flow_from_az",
          "loop_flow_from_dz",
          "loop_flow_from_iq",
          "loop_flow_from_cl",
          "loop_flow_from_be",
          "loop_flow_from_id",
          "loop_flow_from_es",
          "loop_flow_from_hn",
          "loop_flow_from_pn",
          "loop_flow_from_cd",
          "loop_flow_from_om",
          "loop_flow_from_ke",
          "loop_flow_from_rw",
          "loop_flow_from_lv",
          "loop_flow_from_jo",
          "loop_flow_from_gr"
         ],
         "yaxis": "y"
        },
        {
         "alignmentgroup": "True",
         "hovertemplate": "Impacted country=HN<br>Loop flow value normalized per origin=%{x}<br>Origin of loop flow=%{y}<extra></extra>",
         "legendgroup": "HN",
         "marker": {
          "color": "#FB0D0D",
          "pattern": {
           "shape": ""
          }
         },
         "name": "HN",
         "offsetgroup": "HN",
         "orientation": "h",
         "showlegend": true,
         "textposition": "auto",
         "texttemplate": "%{x:.2f}",
         "type": "bar",
         "x": [
          0.11345651095798208,
          0.20908426049722798,
          0.10079089181292784,
          0.14061353111111835,
          0.1373370923155512,
          0.16651717721423,
          null,
          null,
          -0.036194414612234965,
          0.03071179646374643,
          0.17288476397057548,
          0.16996036544225307,
          0.0673851368069997,
          -0.08083118388471176,
          -0.11116226679565393,
          -0.10881275338695466,
          0.09239619066982527,
          -0.06868232793569722,
          -0.07915453338251599,
          -0.12269968658893284
         ],
         "xaxis": "x",
         "y": [
          "loop_flow_from_kg",
          "loop_flow_from_rs",
          "loop_flow_from_ag",
          "loop_flow_from_gu",
          "loop_flow_from_az",
          "loop_flow_from_dz",
          "loop_flow_from_iq",
          "loop_flow_from_cl",
          "loop_flow_from_be",
          "loop_flow_from_id",
          "loop_flow_from_es",
          "loop_flow_from_hn",
          "loop_flow_from_pn",
          "loop_flow_from_cd",
          "loop_flow_from_om",
          "loop_flow_from_ke",
          "loop_flow_from_rw",
          "loop_flow_from_lv",
          "loop_flow_from_jo",
          "loop_flow_from_gr"
         ],
         "yaxis": "y"
        },
        {
         "alignmentgroup": "True",
         "hovertemplate": "Impacted country=ID<br>Loop flow value normalized per origin=%{x}<br>Origin of loop flow=%{y}<extra></extra>",
         "legendgroup": "ID",
         "marker": {
          "color": "#D626FF",
          "pattern": {
           "shape": ""
          }
         },
         "name": "ID",
         "offsetgroup": "ID",
         "orientation": "h",
         "showlegend": true,
         "textposition": "auto",
         "texttemplate": "%{x:.2f}",
         "type": "bar",
         "x": [
          null,
          null,
          null,
          null,
          null,
          null,
          null,
          null,
          null,
          0.1816723594771881,
          null,
          0.06437593938301346,
          null,
          null,
          null,
          null,
          null,
          null,
          null,
          null
         ],
         "xaxis": "x",
         "y": [
          "loop_flow_from_kg",
          "loop_flow_from_rs",
          "loop_flow_from_ag",
          "loop_flow_from_gu",
          "loop_flow_from_az",
          "loop_flow_from_dz",
          "loop_flow_from_iq",
          "loop_flow_from_cl",
          "loop_flow_from_be",
          "loop_flow_from_id",
          "loop_flow_from_es",
          "loop_flow_from_hn",
          "loop_flow_from_pn",
          "loop_flow_from_cd",
          "loop_flow_from_om",
          "loop_flow_from_ke",
          "loop_flow_from_rw",
          "loop_flow_from_lv",
          "loop_flow_from_jo",
          "loop_flow_from_gr"
         ],
         "yaxis": "y"
        },
        {
         "alignmentgroup": "True",
         "hovertemplate": "Impacted country=IQ<br>Loop flow value normalized per origin=%{x}<br>Origin of loop flow=%{y}<extra></extra>",
         "legendgroup": "IQ",
         "marker": {
          "color": "#DA16FF",
          "pattern": {
           "shape": ""
          }
         },
         "name": "IQ",
         "offsetgroup": "IQ",
         "orientation": "h",
         "showlegend": true,
         "textposition": "auto",
         "texttemplate": "%{x:.2f}",
         "type": "bar",
         "x": [
          null,
          null,
          null,
          null,
          null,
          null,
          0.25840796566878854,
          null,
          0.19550083487787917,
          -0.0483587045156759,
          null,
          null,
          0.053871469485735755,
          0.05434708746667397,
          0.06135470313891632,
          null,
          null,
          0.0740743664399503,
          0.05620114394124585,
          0.041763136051601146
         ],
         "xaxis": "x",
         "y": [
          "loop_flow_from_kg",
          "loop_flow_from_rs",
          "loop_flow_from_ag",
          "loop_flow_from_gu",
          "loop_flow_from_az",
          "loop_flow_from_dz",
          "loop_flow_from_iq",
          "loop_flow_from_cl",
          "loop_flow_from_be",
          "loop_flow_from_id",
          "loop_flow_from_es",
          "loop_flow_from_hn",
          "loop_flow_from_pn",
          "loop_flow_from_cd",
          "loop_flow_from_om",
          "loop_flow_from_ke",
          "loop_flow_from_rw",
          "loop_flow_from_lv",
          "loop_flow_from_jo",
          "loop_flow_from_gr"
         ],
         "yaxis": "y"
        },
        {
         "alignmentgroup": "True",
         "hovertemplate": "Impacted country=JO<br>Loop flow value normalized per origin=%{x}<br>Origin of loop flow=%{y}<extra></extra>",
         "legendgroup": "JO",
         "marker": {
          "color": "#86CE00",
          "pattern": {
           "shape": ""
          }
         },
         "name": "JO",
         "offsetgroup": "JO",
         "orientation": "h",
         "showlegend": true,
         "textposition": "auto",
         "texttemplate": "%{x:.2f}",
         "type": "bar",
         "x": [
          null,
          null,
          null,
          null,
          null,
          null,
          null,
          null,
          0.11236484879753446,
          0.03809460115931669,
          null,
          null,
          null,
          null,
          null,
          null,
          null,
          null,
          0.0801940855467236,
          null
         ],
         "xaxis": "x",
         "y": [
          "loop_flow_from_kg",
          "loop_flow_from_rs",
          "loop_flow_from_ag",
          "loop_flow_from_gu",
          "loop_flow_from_az",
          "loop_flow_from_dz",
          "loop_flow_from_iq",
          "loop_flow_from_cl",
          "loop_flow_from_be",
          "loop_flow_from_id",
          "loop_flow_from_es",
          "loop_flow_from_hn",
          "loop_flow_from_pn",
          "loop_flow_from_cd",
          "loop_flow_from_om",
          "loop_flow_from_ke",
          "loop_flow_from_rw",
          "loop_flow_from_lv",
          "loop_flow_from_jo",
          "loop_flow_from_gr"
         ],
         "yaxis": "y"
        },
        {
         "alignmentgroup": "True",
         "hovertemplate": "Impacted country=KE<br>Loop flow value normalized per origin=%{x}<br>Origin of loop flow=%{y}<extra></extra>",
         "legendgroup": "KE",
         "marker": {
          "color": "#6A76FC",
          "pattern": {
           "shape": ""
          }
         },
         "name": "KE",
         "offsetgroup": "KE",
         "orientation": "h",
         "showlegend": true,
         "textposition": "auto",
         "texttemplate": "%{x:.2f}",
         "type": "bar",
         "x": [
          null,
          null,
          null,
          null,
          null,
          0.03273023729781357,
          null,
          null,
          0.03350565768632071,
          null,
          0.0339486845741314,
          null,
          null,
          null,
          null,
          0.19859415074351391,
          null,
          0.03339913821765124,
          null,
          null
         ],
         "xaxis": "x",
         "y": [
          "loop_flow_from_kg",
          "loop_flow_from_rs",
          "loop_flow_from_ag",
          "loop_flow_from_gu",
          "loop_flow_from_az",
          "loop_flow_from_dz",
          "loop_flow_from_iq",
          "loop_flow_from_cl",
          "loop_flow_from_be",
          "loop_flow_from_id",
          "loop_flow_from_es",
          "loop_flow_from_hn",
          "loop_flow_from_pn",
          "loop_flow_from_cd",
          "loop_flow_from_om",
          "loop_flow_from_ke",
          "loop_flow_from_rw",
          "loop_flow_from_lv",
          "loop_flow_from_jo",
          "loop_flow_from_gr"
         ],
         "yaxis": "y"
        },
        {
         "alignmentgroup": "True",
         "hovertemplate": "Impacted country=KG<br>Loop flow value normalized per origin=%{x}<br>Origin of loop flow=%{y}<extra></extra>",
         "legendgroup": "KG",
         "marker": {
          "color": "#FB00D1",
          "pattern": {
           "shape": ""
          }
         },
         "name": "KG",
         "offsetgroup": "KG",
         "orientation": "h",
         "showlegend": true,
         "textposition": "auto",
         "texttemplate": "%{x:.2f}",
         "type": "bar",
         "x": [
          0.2529996459616883,
          0.11596920092984676,
          -0.03395017085197635,
          null,
          0.0870976106468554,
          null,
          0.12914774734312454,
          -0.08006754803786162,
          null,
          null,
          -0.0563667016047814,
          0.15272063273491923,
          -0.0823961531052234,
          0.07528853872849352,
          0.06775300932219402,
          null,
          -0.19720290834396711,
          0.05376027839065423,
          null,
          0.08170811609625556
         ],
         "xaxis": "x",
         "y": [
          "loop_flow_from_kg",
          "loop_flow_from_rs",
          "loop_flow_from_ag",
          "loop_flow_from_gu",
          "loop_flow_from_az",
          "loop_flow_from_dz",
          "loop_flow_from_iq",
          "loop_flow_from_cl",
          "loop_flow_from_be",
          "loop_flow_from_id",
          "loop_flow_from_es",
          "loop_flow_from_hn",
          "loop_flow_from_pn",
          "loop_flow_from_cd",
          "loop_flow_from_om",
          "loop_flow_from_ke",
          "loop_flow_from_rw",
          "loop_flow_from_lv",
          "loop_flow_from_jo",
          "loop_flow_from_gr"
         ],
         "yaxis": "y"
        },
        {
         "alignmentgroup": "True",
         "hovertemplate": "Impacted country=LV<br>Loop flow value normalized per origin=%{x}<br>Origin of loop flow=%{y}<extra></extra>",
         "legendgroup": "LV",
         "marker": {
          "color": "#EEA6FB",
          "pattern": {
           "shape": ""
          }
         },
         "name": "LV",
         "offsetgroup": "LV",
         "orientation": "h",
         "showlegend": true,
         "textposition": "auto",
         "texttemplate": "%{x:.2f}",
         "type": "bar",
         "x": [
          0.04362180487358306,
          null,
          0.10035910585045676,
          0.08019187210148608,
          0.1019945464313249,
          0.1194518670674647,
          null,
          null,
          -0.03518984200262678,
          null,
          0.12182211551116282,
          -0.08274817351475196,
          0.09030502677013978,
          -0.06481681388074666,
          -0.04280403815836322,
          -0.032126842798940625,
          0.10833592714499019,
          0.14232920898990545,
          -0.07868944214960917,
          -0.08793479335869302
         ],
         "xaxis": "x",
         "y": [
          "loop_flow_from_kg",
          "loop_flow_from_rs",
          "loop_flow_from_ag",
          "loop_flow_from_gu",
          "loop_flow_from_az",
          "loop_flow_from_dz",
          "loop_flow_from_iq",
          "loop_flow_from_cl",
          "loop_flow_from_be",
          "loop_flow_from_id",
          "loop_flow_from_es",
          "loop_flow_from_hn",
          "loop_flow_from_pn",
          "loop_flow_from_cd",
          "loop_flow_from_om",
          "loop_flow_from_ke",
          "loop_flow_from_rw",
          "loop_flow_from_lv",
          "loop_flow_from_jo",
          "loop_flow_from_gr"
         ],
         "yaxis": "y"
        },
        {
         "alignmentgroup": "True",
         "hovertemplate": "Impacted country=OM<br>Loop flow value normalized per origin=%{x}<br>Origin of loop flow=%{y}<extra></extra>",
         "legendgroup": "OM",
         "marker": {
          "color": "#FE00CE",
          "pattern": {
           "shape": ""
          }
         },
         "name": "OM",
         "offsetgroup": "OM",
         "orientation": "h",
         "showlegend": true,
         "textposition": "auto",
         "texttemplate": "%{x:.2f}",
         "type": "bar",
         "x": [
          0.12842217054725458,
          0.04367311654242154,
          null,
          null,
          0.03693432408359341,
          null,
          null,
          null,
          null,
          null,
          0.03832079479536887,
          null,
          null,
          0.1299958355952707,
          0.18193976036498222,
          null,
          null,
          null,
          null,
          null
         ],
         "xaxis": "x",
         "y": [
          "loop_flow_from_kg",
          "loop_flow_from_rs",
          "loop_flow_from_ag",
          "loop_flow_from_gu",
          "loop_flow_from_az",
          "loop_flow_from_dz",
          "loop_flow_from_iq",
          "loop_flow_from_cl",
          "loop_flow_from_be",
          "loop_flow_from_id",
          "loop_flow_from_es",
          "loop_flow_from_hn",
          "loop_flow_from_pn",
          "loop_flow_from_cd",
          "loop_flow_from_om",
          "loop_flow_from_ke",
          "loop_flow_from_rw",
          "loop_flow_from_lv",
          "loop_flow_from_jo",
          "loop_flow_from_gr"
         ],
         "yaxis": "y"
        },
        {
         "alignmentgroup": "True",
         "hovertemplate": "Impacted country=PN<br>Loop flow value normalized per origin=%{x}<br>Origin of loop flow=%{y}<extra></extra>",
         "legendgroup": "PN",
         "marker": {
          "color": "#22FFA7",
          "pattern": {
           "shape": ""
          }
         },
         "name": "PN",
         "offsetgroup": "PN",
         "orientation": "h",
         "showlegend": true,
         "textposition": "auto",
         "texttemplate": "%{x:.2f}",
         "type": "bar",
         "x": [
          null,
          0.06336554473628343,
          null,
          null,
          0.05007819010512059,
          null,
          null,
          -0.03707118590847873,
          null,
          0.12379770919765462,
          0.0766940140571832,
          0.030652663816429275,
          0.07141070418189407,
          null,
          null,
          null,
          0.06584177892239114,
          -0.045386490044954146,
          -0.06815213176872395,
          null
         ],
         "xaxis": "x",
         "y": [
          "loop_flow_from_kg",
          "loop_flow_from_rs",
          "loop_flow_from_ag",
          "loop_flow_from_gu",
          "loop_flow_from_az",
          "loop_flow_from_dz",
          "loop_flow_from_iq",
          "loop_flow_from_cl",
          "loop_flow_from_be",
          "loop_flow_from_id",
          "loop_flow_from_es",
          "loop_flow_from_hn",
          "loop_flow_from_pn",
          "loop_flow_from_cd",
          "loop_flow_from_om",
          "loop_flow_from_ke",
          "loop_flow_from_rw",
          "loop_flow_from_lv",
          "loop_flow_from_jo",
          "loop_flow_from_gr"
         ],
         "yaxis": "y"
        },
        {
         "alignmentgroup": "True",
         "hovertemplate": "Impacted country=RS<br>Loop flow value normalized per origin=%{x}<br>Origin of loop flow=%{y}<extra></extra>",
         "legendgroup": "RS",
         "marker": {
          "color": "#620042",
          "pattern": {
           "shape": ""
          }
         },
         "name": "RS",
         "offsetgroup": "RS",
         "orientation": "h",
         "showlegend": true,
         "textposition": "auto",
         "texttemplate": "%{x:.2f}",
         "type": "bar",
         "x": [
          null,
          0.22227877716877015,
          0.07910869073315097,
          0.05907510923532763,
          0.08706766609286504,
          0.04959692856804672,
          0.1342115057828789,
          null,
          null,
          null,
          null,
          -0.05029916410210778,
          null,
          -0.04286811326928667,
          null,
          -0.16693993091564538,
          null,
          -0.04341793451157388,
          null,
          -0.03003970477884427
         ],
         "xaxis": "x",
         "y": [
          "loop_flow_from_kg",
          "loop_flow_from_rs",
          "loop_flow_from_ag",
          "loop_flow_from_gu",
          "loop_flow_from_az",
          "loop_flow_from_dz",
          "loop_flow_from_iq",
          "loop_flow_from_cl",
          "loop_flow_from_be",
          "loop_flow_from_id",
          "loop_flow_from_es",
          "loop_flow_from_hn",
          "loop_flow_from_pn",
          "loop_flow_from_cd",
          "loop_flow_from_om",
          "loop_flow_from_ke",
          "loop_flow_from_rw",
          "loop_flow_from_lv",
          "loop_flow_from_jo",
          "loop_flow_from_gr"
         ],
         "yaxis": "y"
        },
        {
         "alignmentgroup": "True",
         "hovertemplate": "Impacted country=RW<br>Loop flow value normalized per origin=%{x}<br>Origin of loop flow=%{y}<extra></extra>",
         "legendgroup": "RW",
         "marker": {
          "color": "#FF9616",
          "pattern": {
           "shape": ""
          }
         },
         "name": "RW",
         "offsetgroup": "RW",
         "orientation": "h",
         "showlegend": true,
         "textposition": "auto",
         "texttemplate": "%{x:.2f}",
         "type": "bar",
         "x": [
          0.10269366810546675,
          null,
          null,
          0.13274309610068566,
          -0.03324261448071618,
          null,
          null,
          null,
          null,
          0.04978212104367134,
          null,
          null,
          -0.049326201682159475,
          null,
          null,
          null,
          -0.09753358894745907,
          null,
          null,
          null
         ],
         "xaxis": "x",
         "y": [
          "loop_flow_from_kg",
          "loop_flow_from_rs",
          "loop_flow_from_ag",
          "loop_flow_from_gu",
          "loop_flow_from_az",
          "loop_flow_from_dz",
          "loop_flow_from_iq",
          "loop_flow_from_cl",
          "loop_flow_from_be",
          "loop_flow_from_id",
          "loop_flow_from_es",
          "loop_flow_from_hn",
          "loop_flow_from_pn",
          "loop_flow_from_cd",
          "loop_flow_from_om",
          "loop_flow_from_ke",
          "loop_flow_from_rw",
          "loop_flow_from_lv",
          "loop_flow_from_jo",
          "loop_flow_from_gr"
         ],
         "yaxis": "y"
        },
        {
         "alignmentgroup": "True",
         "hovertemplate": "Impacted country=masked_positive<br>Loop flow value normalized per origin=%{x}<br>Origin of loop flow=%{y}<extra></extra>",
         "legendgroup": "masked_positive",
         "marker": {
          "color": "#FC6955",
          "pattern": {
           "shape": ""
          }
         },
         "name": "masked_positive",
         "offsetgroup": "masked_positive",
         "orientation": "h",
         "showlegend": true,
         "textposition": "auto",
         "texttemplate": "%{x:.2f}",
         "type": "bar",
         "x": [
          0.07126067930523403,
          0.13368788146858343,
          0.11349996852184288,
          0.08752238792990556,
          0.01826290795174797,
          0.08657411476997293,
          0.13429697322989592,
          0.10220786765167306,
          0.020193631643441935,
          0.09081525172631102,
          0.13206004368595264,
          0.0760166359216867,
          0.03331911753896296,
          0.06873920183723073,
          0.05977532745627101,
          0.030635975297247108,
          0.04605841349782985,
          0.01951300472358336,
          0.0638812422679839,
          0.07062275756771041
         ],
         "xaxis": "x",
         "y": [
          "loop_flow_from_kg",
          "loop_flow_from_rs",
          "loop_flow_from_ag",
          "loop_flow_from_gu",
          "loop_flow_from_az",
          "loop_flow_from_dz",
          "loop_flow_from_iq",
          "loop_flow_from_cl",
          "loop_flow_from_be",
          "loop_flow_from_id",
          "loop_flow_from_es",
          "loop_flow_from_hn",
          "loop_flow_from_pn",
          "loop_flow_from_cd",
          "loop_flow_from_om",
          "loop_flow_from_ke",
          "loop_flow_from_rw",
          "loop_flow_from_lv",
          "loop_flow_from_jo",
          "loop_flow_from_gr"
         ],
         "yaxis": "y"
        },
        {
         "alignmentgroup": "True",
         "hovertemplate": "Impacted country=masked_negative<br>Loop flow value normalized per origin=%{x}<br>Origin of loop flow=%{y}<extra></extra>",
         "legendgroup": "masked_negative",
         "marker": {
          "color": "#479B55",
          "pattern": {
           "shape": ""
          }
         },
         "name": "masked_negative",
         "offsetgroup": "masked_negative",
         "orientation": "h",
         "showlegend": true,
         "textposition": "auto",
         "texttemplate": "%{x:.2f}",
         "type": "bar",
         "x": [
          -0.051020368831741866,
          -0.058829524293871276,
          -0.03661142730914826,
          -0.0729730715132401,
          -0.044676221983473055,
          -0.05100886370688949,
          -0.06620579212477663,
          -0.04910246843100864,
          -0.10230917486386126,
          -0.03215009814940437,
          -0.022175578988668662,
          -0.052937841791548756,
          -0.07690383957154495,
          -0.04470072301119178,
          -0.09975025589096027,
          -0.06096076472004478,
          -0.029903475443200045,
          -0.020561202405593667,
          -0.07720648307344971,
          -0.08641218927394953
         ],
         "xaxis": "x",
         "y": [
          "loop_flow_from_kg",
          "loop_flow_from_rs",
          "loop_flow_from_ag",
          "loop_flow_from_gu",
          "loop_flow_from_az",
          "loop_flow_from_dz",
          "loop_flow_from_iq",
          "loop_flow_from_cl",
          "loop_flow_from_be",
          "loop_flow_from_id",
          "loop_flow_from_es",
          "loop_flow_from_hn",
          "loop_flow_from_pn",
          "loop_flow_from_cd",
          "loop_flow_from_om",
          "loop_flow_from_ke",
          "loop_flow_from_rw",
          "loop_flow_from_lv",
          "loop_flow_from_jo",
          "loop_flow_from_gr"
         ],
         "yaxis": "y"
        }
       ],
       "layout": {
        "barmode": "relative",
        "height": 1000,
        "legend": {
         "title": {
          "text": "Impacted country"
         },
         "tracegroupgap": 0
        },
        "margin": {
         "t": 60
        },
        "template": {
         "data": {
          "bar": [
           {
            "error_x": {
             "color": "#2a3f5f"
            },
            "error_y": {
             "color": "#2a3f5f"
            },
            "marker": {
             "line": {
              "color": "#E5ECF6",
              "width": 0.5
             },
             "pattern": {
              "fillmode": "overlay",
              "size": 10,
              "solidity": 0.2
             }
            },
            "type": "bar"
           }
          ],
          "barpolar": [
           {
            "marker": {
             "line": {
              "color": "#E5ECF6",
              "width": 0.5
             },
             "pattern": {
              "fillmode": "overlay",
              "size": 10,
              "solidity": 0.2
             }
            },
            "type": "barpolar"
           }
          ],
          "carpet": [
           {
            "aaxis": {
             "endlinecolor": "#2a3f5f",
             "gridcolor": "white",
             "linecolor": "white",
             "minorgridcolor": "white",
             "startlinecolor": "#2a3f5f"
            },
            "baxis": {
             "endlinecolor": "#2a3f5f",
             "gridcolor": "white",
             "linecolor": "white",
             "minorgridcolor": "white",
             "startlinecolor": "#2a3f5f"
            },
            "type": "carpet"
           }
          ],
          "choropleth": [
           {
            "colorbar": {
             "outlinewidth": 0,
             "ticks": ""
            },
            "type": "choropleth"
           }
          ],
          "contour": [
           {
            "colorbar": {
             "outlinewidth": 0,
             "ticks": ""
            },
            "colorscale": [
             [
              0,
              "#0d0887"
             ],
             [
              0.1111111111111111,
              "#46039f"
             ],
             [
              0.2222222222222222,
              "#7201a8"
             ],
             [
              0.3333333333333333,
              "#9c179e"
             ],
             [
              0.4444444444444444,
              "#bd3786"
             ],
             [
              0.5555555555555556,
              "#d8576b"
             ],
             [
              0.6666666666666666,
              "#ed7953"
             ],
             [
              0.7777777777777778,
              "#fb9f3a"
             ],
             [
              0.8888888888888888,
              "#fdca26"
             ],
             [
              1,
              "#f0f921"
             ]
            ],
            "type": "contour"
           }
          ],
          "contourcarpet": [
           {
            "colorbar": {
             "outlinewidth": 0,
             "ticks": ""
            },
            "type": "contourcarpet"
           }
          ],
          "heatmap": [
           {
            "colorbar": {
             "outlinewidth": 0,
             "ticks": ""
            },
            "colorscale": [
             [
              0,
              "#0d0887"
             ],
             [
              0.1111111111111111,
              "#46039f"
             ],
             [
              0.2222222222222222,
              "#7201a8"
             ],
             [
              0.3333333333333333,
              "#9c179e"
             ],
             [
              0.4444444444444444,
              "#bd3786"
             ],
             [
              0.5555555555555556,
              "#d8576b"
             ],
             [
              0.6666666666666666,
              "#ed7953"
             ],
             [
              0.7777777777777778,
              "#fb9f3a"
             ],
             [
              0.8888888888888888,
              "#fdca26"
             ],
             [
              1,
              "#f0f921"
             ]
            ],
            "type": "heatmap"
           }
          ],
          "heatmapgl": [
           {
            "colorbar": {
             "outlinewidth": 0,
             "ticks": ""
            },
            "colorscale": [
             [
              0,
              "#0d0887"
             ],
             [
              0.1111111111111111,
              "#46039f"
             ],
             [
              0.2222222222222222,
              "#7201a8"
             ],
             [
              0.3333333333333333,
              "#9c179e"
             ],
             [
              0.4444444444444444,
              "#bd3786"
             ],
             [
              0.5555555555555556,
              "#d8576b"
             ],
             [
              0.6666666666666666,
              "#ed7953"
             ],
             [
              0.7777777777777778,
              "#fb9f3a"
             ],
             [
              0.8888888888888888,
              "#fdca26"
             ],
             [
              1,
              "#f0f921"
             ]
            ],
            "type": "heatmapgl"
           }
          ],
          "histogram": [
           {
            "marker": {
             "pattern": {
              "fillmode": "overlay",
              "size": 10,
              "solidity": 0.2
             }
            },
            "type": "histogram"
           }
          ],
          "histogram2d": [
           {
            "colorbar": {
             "outlinewidth": 0,
             "ticks": ""
            },
            "colorscale": [
             [
              0,
              "#0d0887"
             ],
             [
              0.1111111111111111,
              "#46039f"
             ],
             [
              0.2222222222222222,
              "#7201a8"
             ],
             [
              0.3333333333333333,
              "#9c179e"
             ],
             [
              0.4444444444444444,
              "#bd3786"
             ],
             [
              0.5555555555555556,
              "#d8576b"
             ],
             [
              0.6666666666666666,
              "#ed7953"
             ],
             [
              0.7777777777777778,
              "#fb9f3a"
             ],
             [
              0.8888888888888888,
              "#fdca26"
             ],
             [
              1,
              "#f0f921"
             ]
            ],
            "type": "histogram2d"
           }
          ],
          "histogram2dcontour": [
           {
            "colorbar": {
             "outlinewidth": 0,
             "ticks": ""
            },
            "colorscale": [
             [
              0,
              "#0d0887"
             ],
             [
              0.1111111111111111,
              "#46039f"
             ],
             [
              0.2222222222222222,
              "#7201a8"
             ],
             [
              0.3333333333333333,
              "#9c179e"
             ],
             [
              0.4444444444444444,
              "#bd3786"
             ],
             [
              0.5555555555555556,
              "#d8576b"
             ],
             [
              0.6666666666666666,
              "#ed7953"
             ],
             [
              0.7777777777777778,
              "#fb9f3a"
             ],
             [
              0.8888888888888888,
              "#fdca26"
             ],
             [
              1,
              "#f0f921"
             ]
            ],
            "type": "histogram2dcontour"
           }
          ],
          "mesh3d": [
           {
            "colorbar": {
             "outlinewidth": 0,
             "ticks": ""
            },
            "type": "mesh3d"
           }
          ],
          "parcoords": [
           {
            "line": {
             "colorbar": {
              "outlinewidth": 0,
              "ticks": ""
             }
            },
            "type": "parcoords"
           }
          ],
          "pie": [
           {
            "automargin": true,
            "type": "pie"
           }
          ],
          "scatter": [
           {
            "fillpattern": {
             "fillmode": "overlay",
             "size": 10,
             "solidity": 0.2
            },
            "type": "scatter"
           }
          ],
          "scatter3d": [
           {
            "line": {
             "colorbar": {
              "outlinewidth": 0,
              "ticks": ""
             }
            },
            "marker": {
             "colorbar": {
              "outlinewidth": 0,
              "ticks": ""
             }
            },
            "type": "scatter3d"
           }
          ],
          "scattercarpet": [
           {
            "marker": {
             "colorbar": {
              "outlinewidth": 0,
              "ticks": ""
             }
            },
            "type": "scattercarpet"
           }
          ],
          "scattergeo": [
           {
            "marker": {
             "colorbar": {
              "outlinewidth": 0,
              "ticks": ""
             }
            },
            "type": "scattergeo"
           }
          ],
          "scattergl": [
           {
            "marker": {
             "colorbar": {
              "outlinewidth": 0,
              "ticks": ""
             }
            },
            "type": "scattergl"
           }
          ],
          "scattermapbox": [
           {
            "marker": {
             "colorbar": {
              "outlinewidth": 0,
              "ticks": ""
             }
            },
            "type": "scattermapbox"
           }
          ],
          "scatterpolar": [
           {
            "marker": {
             "colorbar": {
              "outlinewidth": 0,
              "ticks": ""
             }
            },
            "type": "scatterpolar"
           }
          ],
          "scatterpolargl": [
           {
            "marker": {
             "colorbar": {
              "outlinewidth": 0,
              "ticks": ""
             }
            },
            "type": "scatterpolargl"
           }
          ],
          "scatterternary": [
           {
            "marker": {
             "colorbar": {
              "outlinewidth": 0,
              "ticks": ""
             }
            },
            "type": "scatterternary"
           }
          ],
          "surface": [
           {
            "colorbar": {
             "outlinewidth": 0,
             "ticks": ""
            },
            "colorscale": [
             [
              0,
              "#0d0887"
             ],
             [
              0.1111111111111111,
              "#46039f"
             ],
             [
              0.2222222222222222,
              "#7201a8"
             ],
             [
              0.3333333333333333,
              "#9c179e"
             ],
             [
              0.4444444444444444,
              "#bd3786"
             ],
             [
              0.5555555555555556,
              "#d8576b"
             ],
             [
              0.6666666666666666,
              "#ed7953"
             ],
             [
              0.7777777777777778,
              "#fb9f3a"
             ],
             [
              0.8888888888888888,
              "#fdca26"
             ],
             [
              1,
              "#f0f921"
             ]
            ],
            "type": "surface"
           }
          ],
          "table": [
           {
            "cells": {
             "fill": {
              "color": "#EBF0F8"
             },
             "line": {
              "color": "white"
             }
            },
            "header": {
             "fill": {
              "color": "#C8D4E3"
             },
             "line": {
              "color": "white"
             }
            },
            "type": "table"
           }
          ]
         },
         "layout": {
          "annotationdefaults": {
           "arrowcolor": "#2a3f5f",
           "arrowhead": 0,
           "arrowwidth": 1
          },
          "autotypenumbers": "strict",
          "coloraxis": {
           "colorbar": {
            "outlinewidth": 0,
            "ticks": ""
           }
          },
          "colorscale": {
           "diverging": [
            [
             0,
             "#8e0152"
            ],
            [
             0.1,
             "#c51b7d"
            ],
            [
             0.2,
             "#de77ae"
            ],
            [
             0.3,
             "#f1b6da"
            ],
            [
             0.4,
             "#fde0ef"
            ],
            [
             0.5,
             "#f7f7f7"
            ],
            [
             0.6,
             "#e6f5d0"
            ],
            [
             0.7,
             "#b8e186"
            ],
            [
             0.8,
             "#7fbc41"
            ],
            [
             0.9,
             "#4d9221"
            ],
            [
             1,
             "#276419"
            ]
           ],
           "sequential": [
            [
             0,
             "#0d0887"
            ],
            [
             0.1111111111111111,
             "#46039f"
            ],
            [
             0.2222222222222222,
             "#7201a8"
            ],
            [
             0.3333333333333333,
             "#9c179e"
            ],
            [
             0.4444444444444444,
             "#bd3786"
            ],
            [
             0.5555555555555556,
             "#d8576b"
            ],
            [
             0.6666666666666666,
             "#ed7953"
            ],
            [
             0.7777777777777778,
             "#fb9f3a"
            ],
            [
             0.8888888888888888,
             "#fdca26"
            ],
            [
             1,
             "#f0f921"
            ]
           ],
           "sequentialminus": [
            [
             0,
             "#0d0887"
            ],
            [
             0.1111111111111111,
             "#46039f"
            ],
            [
             0.2222222222222222,
             "#7201a8"
            ],
            [
             0.3333333333333333,
             "#9c179e"
            ],
            [
             0.4444444444444444,
             "#bd3786"
            ],
            [
             0.5555555555555556,
             "#d8576b"
            ],
            [
             0.6666666666666666,
             "#ed7953"
            ],
            [
             0.7777777777777778,
             "#fb9f3a"
            ],
            [
             0.8888888888888888,
             "#fdca26"
            ],
            [
             1,
             "#f0f921"
            ]
           ]
          },
          "colorway": [
           "#636efa",
           "#EF553B",
           "#00cc96",
           "#ab63fa",
           "#FFA15A",
           "#19d3f3",
           "#FF6692",
           "#B6E880",
           "#FF97FF",
           "#FECB52"
          ],
          "font": {
           "color": "#2a3f5f"
          },
          "geo": {
           "bgcolor": "white",
           "lakecolor": "white",
           "landcolor": "#E5ECF6",
           "showlakes": true,
           "showland": true,
           "subunitcolor": "white"
          },
          "hoverlabel": {
           "align": "left"
          },
          "hovermode": "closest",
          "mapbox": {
           "style": "light"
          },
          "paper_bgcolor": "white",
          "plot_bgcolor": "#E5ECF6",
          "polar": {
           "angularaxis": {
            "gridcolor": "white",
            "linecolor": "white",
            "ticks": ""
           },
           "bgcolor": "#E5ECF6",
           "radialaxis": {
            "gridcolor": "white",
            "linecolor": "white",
            "ticks": ""
           }
          },
          "scene": {
           "xaxis": {
            "backgroundcolor": "#E5ECF6",
            "gridcolor": "white",
            "gridwidth": 2,
            "linecolor": "white",
            "showbackground": true,
            "ticks": "",
            "zerolinecolor": "white"
           },
           "yaxis": {
            "backgroundcolor": "#E5ECF6",
            "gridcolor": "white",
            "gridwidth": 2,
            "linecolor": "white",
            "showbackground": true,
            "ticks": "",
            "zerolinecolor": "white"
           },
           "zaxis": {
            "backgroundcolor": "#E5ECF6",
            "gridcolor": "white",
            "gridwidth": 2,
            "linecolor": "white",
            "showbackground": true,
            "ticks": "",
            "zerolinecolor": "white"
           }
          },
          "shapedefaults": {
           "line": {
            "color": "#2a3f5f"
           }
          },
          "ternary": {
           "aaxis": {
            "gridcolor": "white",
            "linecolor": "white",
            "ticks": ""
           },
           "baxis": {
            "gridcolor": "white",
            "linecolor": "white",
            "ticks": ""
           },
           "bgcolor": "#E5ECF6",
           "caxis": {
            "gridcolor": "white",
            "linecolor": "white",
            "ticks": ""
           }
          },
          "title": {
           "x": 0.05
          },
          "xaxis": {
           "automargin": true,
           "gridcolor": "white",
           "linecolor": "white",
           "ticks": "",
           "title": {
            "standoff": 15
           },
           "zerolinecolor": "white",
           "zerolinewidth": 2
          },
          "yaxis": {
           "automargin": true,
           "gridcolor": "white",
           "linecolor": "white",
           "ticks": "",
           "title": {
            "standoff": 15
           },
           "zerolinecolor": "white",
           "zerolinewidth": 2
          }
         }
        },
        "xaxis": {
         "anchor": "y",
         "domain": [
          0,
          1
         ],
         "title": {
          "text": "Loop flow value normalized per origin"
         }
        },
        "yaxis": {
         "anchor": "x",
         "domain": [
          0,
          1
         ],
         "title": {
          "text": "Origin of loop flow"
         }
        }
       }
      }
     },
     "metadata": {},
     "output_type": "display_data"
    }
   ],
   "source": [
    "threshold = .03\n",
    "df = df_lf_per_country.copy().transpose()\n",
    "df_p = df[[c for c in df.columns if ('loop_flow_from' in c)]].transpose()\n",
    "df_m = df_p.div(df_p.abs().sum(axis=1), axis=0)\n",
    "df_s = df_m[df_m < 0].sum(axis=1)\n",
    "df_m = df_m.reindex(df_s.sort_values(ascending=False).index)\n",
    "df_n = df_m.abs() > threshold\n",
    "df_f = df_m[df_n]\n",
    "df_f['masked_positive'] = df_m[df_p[df_n == False]>0].sum(axis=1)\n",
    "df_f['masked_negative'] = df_m[df_p[df_n == False]<0].sum(axis=1)\n",
    "fig = px.bar(df_f,\n",
    "    orientation='h',\n",
    "    color_discrete_sequence=colors[:df_f.columns.size],\n",
    "    text_auto='.2f',\n",
    "    height=1000,\n",
    "    labels={\n",
    "        'index':'Origin of loop flow',\n",
    "        'value': 'Loop flow value normalized per origin',\n",
    "        'variable': 'Impacted country',\n",
    "    }\n",
    "    )\n",
    "fig.show()"
   ]
  },
  {
   "cell_type": "markdown",
   "metadata": {},
   "source": [
    "# Loop flow repartition from destination"
   ]
  },
  {
   "cell_type": "code",
   "execution_count": 28,
   "metadata": {},
   "outputs": [
    {
     "data": {
      "application/vnd.plotly.v1+json": {
       "config": {
        "plotlyServerURL": "https://plot.ly"
       },
       "data": [
        {
         "alignmentgroup": "True",
         "hovertemplate": "Origin country=loop_flow_from_ag<br>Loop flow value per origin=%{x}<br>Destination of loop flow=%{y}<extra></extra>",
         "legendgroup": "loop_flow_from_ag",
         "marker": {
          "color": "#0DF9FF",
          "pattern": {
           "shape": ""
          }
         },
         "name": "loop_flow_from_ag",
         "offsetgroup": "loop_flow_from_ag",
         "orientation": "h",
         "showlegend": true,
         "textposition": "auto",
         "texttemplate": "%{x:.0f}",
         "type": "bar",
         "x": [
          802.306087041407,
          618.1464006471754,
          1383.781126148386,
          1413.349746257404,
          848.7897703480497,
          798.8690254204764,
          -270.2469264900647,
          629.7134887037712,
          222.65805513163127,
          -172.93189726937052,
          null,
          null,
          197.38384781670808,
          143.04224722935103,
          214.74076797590982,
          null,
          null,
          null,
          null,
          null
         ],
         "xaxis": "x",
         "y": [
          "HN",
          "AZ",
          "AG",
          "DZ",
          "CL",
          "LV",
          "KG",
          "RS",
          "BE",
          "IQ",
          "CD",
          "PN",
          "OM",
          "KE",
          "ES",
          "ID",
          "GU",
          "RW",
          "JO",
          "GR"
         ],
         "yaxis": "y"
        },
        {
         "alignmentgroup": "True",
         "hovertemplate": "Origin country=loop_flow_from_az<br>Loop flow value per origin=%{x}<br>Destination of loop flow=%{y}<extra></extra>",
         "legendgroup": "loop_flow_from_az",
         "marker": {
          "color": "#AF0038",
          "pattern": {
           "shape": ""
          }
         },
         "name": "loop_flow_from_az",
         "offsetgroup": "loop_flow_from_az",
         "orientation": "h",
         "showlegend": true,
         "textposition": "auto",
         "texttemplate": "%{x:.0f}",
         "type": "bar",
         "x": [
          894.2790801473118,
          910.7847312423726,
          735.4646435135417,
          null,
          396.82632879622963,
          664.1438785748873,
          567.1415479900824,
          566.9465621508862,
          333.73410518878444,
          null,
          null,
          326.0872720368378,
          240.50016503515673,
          114.83905943251034,
          249.36087659934356,
          null,
          null,
          -216.46136668746362,
          null,
          null
         ],
         "xaxis": "x",
         "y": [
          "HN",
          "AZ",
          "AG",
          "DZ",
          "CL",
          "LV",
          "KG",
          "RS",
          "BE",
          "IQ",
          "CD",
          "PN",
          "OM",
          "KE",
          "ES",
          "ID",
          "GU",
          "RW",
          "JO",
          "GR"
         ],
         "yaxis": "y"
        },
        {
         "alignmentgroup": "True",
         "hovertemplate": "Origin country=loop_flow_from_be<br>Loop flow value per origin=%{x}<br>Destination of loop flow=%{y}<extra></extra>",
         "legendgroup": "loop_flow_from_be",
         "marker": {
          "color": "#FD3216",
          "pattern": {
           "shape": ""
          }
         },
         "name": "loop_flow_from_be",
         "offsetgroup": "loop_flow_from_be",
         "orientation": "h",
         "showlegend": true,
         "textposition": "auto",
         "texttemplate": "%{x:.0f}",
         "type": "bar",
         "x": [
          null,
          599.9890018959953,
          null,
          435.46231941550803,
          169.48150316764105,
          -148.3865441795491,
          null,
          null,
          392.33548970008036,
          824.3769116547809,
          362.4278757035358,
          null,
          null,
          141.2847705927453,
          null,
          null,
          -65.5741548618333,
          null,
          473.8137670262657,
          null
         ],
         "xaxis": "x",
         "y": [
          "HN",
          "AZ",
          "AG",
          "DZ",
          "CL",
          "LV",
          "KG",
          "RS",
          "BE",
          "IQ",
          "CD",
          "PN",
          "OM",
          "KE",
          "ES",
          "ID",
          "GU",
          "RW",
          "JO",
          "GR"
         ],
         "yaxis": "y"
        },
        {
         "alignmentgroup": "True",
         "hovertemplate": "Origin country=loop_flow_from_cd<br>Loop flow value per origin=%{x}<br>Destination of loop flow=%{y}<extra></extra>",
         "legendgroup": "loop_flow_from_cd",
         "marker": {
          "color": "#00A08B",
          "pattern": {
           "shape": ""
          }
         },
         "name": "loop_flow_from_cd",
         "offsetgroup": "loop_flow_from_cd",
         "orientation": "h",
         "showlegend": true,
         "textposition": "auto",
         "texttemplate": "%{x:.0f}",
         "type": "bar",
         "x": [
          -272.27326620737995,
          null,
          null,
          371.6001523384375,
          null,
          -218.3301638342652,
          253.60331696768455,
          -144.39775164773002,
          126.6426768292096,
          183.06374226207774,
          724.3430391429025,
          null,
          437.8803952861113,
          -93.96245951461246,
          null,
          null,
          null,
          83.32303742373858,
          null,
          null
         ],
         "xaxis": "x",
         "y": [
          "HN",
          "AZ",
          "AG",
          "DZ",
          "CL",
          "LV",
          "KG",
          "RS",
          "BE",
          "IQ",
          "CD",
          "PN",
          "OM",
          "KE",
          "ES",
          "ID",
          "GU",
          "RW",
          "JO",
          "GR"
         ],
         "yaxis": "y"
        },
        {
         "alignmentgroup": "True",
         "hovertemplate": "Origin country=loop_flow_from_cl<br>Loop flow value per origin=%{x}<br>Destination of loop flow=%{y}<extra></extra>",
         "legendgroup": "loop_flow_from_cl",
         "marker": {
          "color": "#6C4516",
          "pattern": {
           "shape": ""
          }
         },
         "name": "loop_flow_from_cl",
         "offsetgroup": "loop_flow_from_cl",
         "orientation": "h",
         "showlegend": true,
         "textposition": "auto",
         "texttemplate": "%{x:.0f}",
         "type": "bar",
         "x": [
          null,
          976.4931704960427,
          null,
          409.17684832366245,
          1568.2376236130008,
          null,
          -391.2266045172071,
          null,
          117.21219752718046,
          null,
          null,
          -181.13748383480043,
          null,
          null,
          459.05082691721935,
          null,
          161.55072167231106,
          68.15798533893634,
          null,
          null
         ],
         "xaxis": "x",
         "y": [
          "HN",
          "AZ",
          "AG",
          "DZ",
          "CL",
          "LV",
          "KG",
          "RS",
          "BE",
          "IQ",
          "CD",
          "PN",
          "OM",
          "KE",
          "ES",
          "ID",
          "GU",
          "RW",
          "JO",
          "GR"
         ],
         "yaxis": "y"
        },
        {
         "alignmentgroup": "True",
         "hovertemplate": "Origin country=loop_flow_from_dz<br>Loop flow value per origin=%{x}<br>Destination of loop flow=%{y}<extra></extra>",
         "legendgroup": "loop_flow_from_dz",
         "marker": {
          "color": "#511CFB",
          "pattern": {
           "shape": ""
          }
         },
         "name": "loop_flow_from_dz",
         "offsetgroup": "loop_flow_from_dz",
         "orientation": "h",
         "showlegend": true,
         "textposition": "auto",
         "texttemplate": "%{x:.0f}",
         "type": "bar",
         "x": [
          825.1619425589167,
          380.6999016123309,
          711.4505544695057,
          639.8036834357791,
          null,
          591.933735129732,
          null,
          245.77343074650622,
          248.94806323645705,
          null,
          101.68041350477866,
          95.77995769555761,
          138.29307956827518,
          162.19195305197715,
          -273.634333708151,
          null,
          null,
          null,
          null,
          194.0378112094632
         ],
         "xaxis": "x",
         "y": [
          "HN",
          "AZ",
          "AG",
          "DZ",
          "CL",
          "LV",
          "KG",
          "RS",
          "BE",
          "IQ",
          "CD",
          "PN",
          "OM",
          "KE",
          "ES",
          "ID",
          "GU",
          "RW",
          "JO",
          "GR"
         ],
         "yaxis": "y"
        },
        {
         "alignmentgroup": "True",
         "hovertemplate": "Origin country=loop_flow_from_es<br>Loop flow value per origin=%{x}<br>Destination of loop flow=%{y}<extra></extra>",
         "legendgroup": "loop_flow_from_es",
         "marker": {
          "color": "#F6F926",
          "pattern": {
           "shape": ""
          }
         },
         "name": "loop_flow_from_es",
         "offsetgroup": "loop_flow_from_es",
         "orientation": "h",
         "showlegend": true,
         "textposition": "auto",
         "texttemplate": "%{x:.0f}",
         "type": "bar",
         "x": [
          348.7151241128361,
          null,
          289.8776397836274,
          null,
          -223.5523974604918,
          245.7198260535763,
          null,
          null,
          null,
          null,
          null,
          154.69473432149323,
          null,
          null,
          null,
          null,
          null,
          null,
          null,
          null
         ],
         "xaxis": "x",
         "y": [
          "HN",
          "AZ",
          "AG",
          "DZ",
          "CL",
          "LV",
          "KG",
          "RS",
          "BE",
          "IQ",
          "CD",
          "PN",
          "OM",
          "KE",
          "ES",
          "ID",
          "GU",
          "RW",
          "JO",
          "GR"
         ],
         "yaxis": "y"
        },
        {
         "alignmentgroup": "True",
         "hovertemplate": "Origin country=loop_flow_from_gr<br>Loop flow value per origin=%{x}<br>Destination of loop flow=%{y}<extra></extra>",
         "legendgroup": "loop_flow_from_gr",
         "marker": {
          "color": "#C9FBE5",
          "pattern": {
           "shape": ""
          }
         },
         "name": "loop_flow_from_gr",
         "offsetgroup": "loop_flow_from_gr",
         "orientation": "h",
         "showlegend": true,
         "textposition": "auto",
         "texttemplate": "%{x:.0f}",
         "type": "bar",
         "x": [
          -545.7141608899638,
          -1058.104288756601,
          -317.9325733629851,
          null,
          -242.66255018066943,
          -391.09522856026456,
          363.4017107374557,
          -133.60337538342046,
          null,
          185.74403391009616,
          -95.58508655331497,
          126.10417113814174,
          null,
          -112.8157928074744,
          -95.14822346403682,
          null,
          null,
          65.18117985133756,
          null,
          510.87933710180715
         ],
         "xaxis": "x",
         "y": [
          "HN",
          "AZ",
          "AG",
          "DZ",
          "CL",
          "LV",
          "KG",
          "RS",
          "BE",
          "IQ",
          "CD",
          "PN",
          "OM",
          "KE",
          "ES",
          "ID",
          "GU",
          "RW",
          "JO",
          "GR"
         ],
         "yaxis": "y"
        },
        {
         "alignmentgroup": "True",
         "hovertemplate": "Origin country=loop_flow_from_gu<br>Loop flow value per origin=%{x}<br>Destination of loop flow=%{y}<extra></extra>",
         "legendgroup": "loop_flow_from_gu",
         "marker": {
          "color": "#FC0080",
          "pattern": {
           "shape": ""
          }
         },
         "name": "loop_flow_from_gu",
         "offsetgroup": "loop_flow_from_gu",
         "orientation": "h",
         "showlegend": true,
         "textposition": "auto",
         "texttemplate": "%{x:.0f}",
         "type": "bar",
         "x": [
          268.8975515505226,
          284.7859808258326,
          null,
          null,
          197.73546461095754,
          153.35222643190735,
          null,
          null,
          null,
          null,
          null,
          null,
          null,
          null,
          null,
          null,
          132.45318282659952,
          253.84679016774754,
          null,
          null
         ],
         "xaxis": "x",
         "y": [
          "HN",
          "AZ",
          "AG",
          "DZ",
          "CL",
          "LV",
          "KG",
          "RS",
          "BE",
          "IQ",
          "CD",
          "PN",
          "OM",
          "KE",
          "ES",
          "ID",
          "GU",
          "RW",
          "JO",
          "GR"
         ],
         "yaxis": "y"
        },
        {
         "alignmentgroup": "True",
         "hovertemplate": "Origin country=loop_flow_from_hn<br>Loop flow value per origin=%{x}<br>Destination of loop flow=%{y}<extra></extra>",
         "legendgroup": "loop_flow_from_hn",
         "marker": {
          "color": "#FB0D0D",
          "pattern": {
           "shape": ""
          }
         },
         "name": "loop_flow_from_hn",
         "offsetgroup": "loop_flow_from_hn",
         "orientation": "h",
         "showlegend": true,
         "textposition": "auto",
         "texttemplate": "%{x:.0f}",
         "type": "bar",
         "x": [
          514.7165919001848,
          null,
          null,
          null,
          null,
          -250.59876605142728,
          462.5069108883846,
          -152.3285399787019,
          123.17445303160035,
          null,
          167.83475859274157,
          92.83008194998992,
          null,
          null,
          392.0490013433913,
          194.95936028012292,
          null,
          null,
          null,
          null
         ],
         "xaxis": "x",
         "y": [
          "HN",
          "AZ",
          "AG",
          "DZ",
          "CL",
          "LV",
          "KG",
          "RS",
          "BE",
          "IQ",
          "CD",
          "PN",
          "OM",
          "KE",
          "ES",
          "ID",
          "GU",
          "RW",
          "JO",
          "GR"
         ],
         "yaxis": "y"
        },
        {
         "alignmentgroup": "True",
         "hovertemplate": "Origin country=loop_flow_from_id<br>Loop flow value per origin=%{x}<br>Destination of loop flow=%{y}<extra></extra>",
         "legendgroup": "loop_flow_from_id",
         "marker": {
          "color": "#D626FF",
          "pattern": {
           "shape": ""
          }
         },
         "name": "loop_flow_from_id",
         "offsetgroup": "loop_flow_from_id",
         "orientation": "h",
         "showlegend": true,
         "textposition": "auto",
         "texttemplate": "%{x:.0f}",
         "type": "bar",
         "x": [
          237.33577306873218,
          240.86270095740733,
          529.7437632343348,
          null,
          null,
          null,
          null,
          180.634309410519,
          573.7886973519298,
          -373.70821125291667,
          -779.8259612715196,
          956.688582227576,
          -130.26657075432186,
          80.8429924289981,
          119.4636793907244,
          1403.9344762080814,
          1002.596080297376,
          384.7081429068463,
          294.388888209913,
          null
         ],
         "xaxis": "x",
         "y": [
          "HN",
          "AZ",
          "AG",
          "DZ",
          "CL",
          "LV",
          "KG",
          "RS",
          "BE",
          "IQ",
          "CD",
          "PN",
          "OM",
          "KE",
          "ES",
          "ID",
          "GU",
          "RW",
          "JO",
          "GR"
         ],
         "yaxis": "y"
        },
        {
         "alignmentgroup": "True",
         "hovertemplate": "Origin country=loop_flow_from_iq<br>Loop flow value per origin=%{x}<br>Destination of loop flow=%{y}<extra></extra>",
         "legendgroup": "loop_flow_from_iq",
         "marker": {
          "color": "#DA16FF",
          "pattern": {
           "shape": ""
          }
         },
         "name": "loop_flow_from_iq",
         "offsetgroup": "loop_flow_from_iq",
         "orientation": "h",
         "showlegend": true,
         "textposition": "auto",
         "texttemplate": "%{x:.0f}",
         "type": "bar",
         "x": [
          null,
          null,
          null,
          180.07299558815947,
          null,
          null,
          247.87676459362552,
          257.59577312882783,
          176.39177863376216,
          495.96939778609294,
          null,
          null,
          null,
          null,
          null,
          null,
          null,
          null,
          null,
          null
         ],
         "xaxis": "x",
         "y": [
          "HN",
          "AZ",
          "AG",
          "DZ",
          "CL",
          "LV",
          "KG",
          "RS",
          "BE",
          "IQ",
          "CD",
          "PN",
          "OM",
          "KE",
          "ES",
          "ID",
          "GU",
          "RW",
          "JO",
          "GR"
         ],
         "yaxis": "y"
        },
        {
         "alignmentgroup": "True",
         "hovertemplate": "Origin country=loop_flow_from_jo<br>Loop flow value per origin=%{x}<br>Destination of loop flow=%{y}<extra></extra>",
         "legendgroup": "loop_flow_from_jo",
         "marker": {
          "color": "#86CE00",
          "pattern": {
           "shape": ""
          }
         },
         "name": "loop_flow_from_jo",
         "offsetgroup": "loop_flow_from_jo",
         "orientation": "h",
         "showlegend": true,
         "textposition": "auto",
         "texttemplate": "%{x:.0f}",
         "type": "bar",
         "x": [
          -284.8019325759343,
          -213.23075419199668,
          -496.8989579201195,
          160.5026663899403,
          null,
          -283.1285112784342,
          null,
          null,
          -162.4241171235799,
          202.2145002118173,
          264.7819736628396,
          -245.2147464896767,
          null,
          null,
          -84.45262351370357,
          null,
          -374.3905181289898,
          null,
          288.54229276413827,
          79.0366413268058
         ],
         "xaxis": "x",
         "y": [
          "HN",
          "AZ",
          "AG",
          "DZ",
          "CL",
          "LV",
          "KG",
          "RS",
          "BE",
          "IQ",
          "CD",
          "PN",
          "OM",
          "KE",
          "ES",
          "ID",
          "GU",
          "RW",
          "JO",
          "GR"
         ],
         "yaxis": "y"
        },
        {
         "alignmentgroup": "True",
         "hovertemplate": "Origin country=loop_flow_from_ke<br>Loop flow value per origin=%{x}<br>Destination of loop flow=%{y}<extra></extra>",
         "legendgroup": "loop_flow_from_ke",
         "marker": {
          "color": "#6A76FC",
          "pattern": {
           "shape": ""
          }
         },
         "name": "loop_flow_from_ke",
         "offsetgroup": "loop_flow_from_ke",
         "orientation": "h",
         "showlegend": true,
         "textposition": "auto",
         "texttemplate": "%{x:.0f}",
         "type": "bar",
         "x": [
          -588.3345378466802,
          1078.8847028162263,
          255.51866109704915,
          -400.44495039073445,
          null,
          -173.70510921060583,
          null,
          -902.6196290993581,
          -268.0391838188856,
          null,
          null,
          null,
          -130.60889297188604,
          1073.7693354862472,
          -170.28657930298965,
          125.25904273254355,
          null,
          null,
          null,
          -58.270533479357766
         ],
         "xaxis": "x",
         "y": [
          "HN",
          "AZ",
          "AG",
          "DZ",
          "CL",
          "LV",
          "KG",
          "RS",
          "BE",
          "IQ",
          "CD",
          "PN",
          "OM",
          "KE",
          "ES",
          "ID",
          "GU",
          "RW",
          "JO",
          "GR"
         ],
         "yaxis": "y"
        },
        {
         "alignmentgroup": "True",
         "hovertemplate": "Origin country=loop_flow_from_kg<br>Loop flow value per origin=%{x}<br>Destination of loop flow=%{y}<extra></extra>",
         "legendgroup": "loop_flow_from_kg",
         "marker": {
          "color": "#FB00D1",
          "pattern": {
           "shape": ""
          }
         },
         "name": "loop_flow_from_kg",
         "offsetgroup": "loop_flow_from_kg",
         "orientation": "h",
         "showlegend": true,
         "textposition": "auto",
         "texttemplate": "%{x:.0f}",
         "type": "bar",
         "x": [
          394.8551771597756,
          null,
          193.15073577209213,
          null,
          307.49387164895165,
          151.81407700582926,
          880.4979034174568,
          null,
          183.93907607116603,
          null,
          138.57912820494712,
          null,
          446.939170564293,
          99.09683825421615,
          null,
          null,
          null,
          357.397968354486,
          null,
          null
         ],
         "xaxis": "x",
         "y": [
          "HN",
          "AZ",
          "AG",
          "DZ",
          "CL",
          "LV",
          "KG",
          "RS",
          "BE",
          "IQ",
          "CD",
          "PN",
          "OM",
          "KE",
          "ES",
          "ID",
          "GU",
          "RW",
          "JO",
          "GR"
         ],
         "yaxis": "y"
        },
        {
         "alignmentgroup": "True",
         "hovertemplate": "Origin country=loop_flow_from_lv<br>Loop flow value per origin=%{x}<br>Destination of loop flow=%{y}<extra></extra>",
         "legendgroup": "loop_flow_from_lv",
         "marker": {
          "color": "#EEA6FB",
          "pattern": {
           "shape": ""
          }
         },
         "name": "loop_flow_from_lv",
         "offsetgroup": "loop_flow_from_lv",
         "orientation": "h",
         "showlegend": true,
         "textposition": "auto",
         "texttemplate": "%{x:.0f}",
         "type": "bar",
         "x": [
          null,
          null,
          null,
          null,
          null,
          179.36112868150227,
          null,
          null,
          null,
          null,
          null,
          null,
          null,
          null,
          null,
          null,
          null,
          null,
          null,
          81.08361977494286
         ],
         "xaxis": "x",
         "y": [
          "HN",
          "AZ",
          "AG",
          "DZ",
          "CL",
          "LV",
          "KG",
          "RS",
          "BE",
          "IQ",
          "CD",
          "PN",
          "OM",
          "KE",
          "ES",
          "ID",
          "GU",
          "RW",
          "JO",
          "GR"
         ],
         "yaxis": "y"
        },
        {
         "alignmentgroup": "True",
         "hovertemplate": "Origin country=loop_flow_from_om<br>Loop flow value per origin=%{x}<br>Destination of loop flow=%{y}<extra></extra>",
         "legendgroup": "loop_flow_from_om",
         "marker": {
          "color": "#FE00CE",
          "pattern": {
           "shape": ""
          }
         },
         "name": "loop_flow_from_om",
         "offsetgroup": "loop_flow_from_om",
         "orientation": "h",
         "showlegend": true,
         "textposition": "auto",
         "texttemplate": "%{x:.0f}",
         "type": "bar",
         "x": [
          -375.82761209829596,
          null,
          -405.6587238352207,
          308.12324862802177,
          null,
          -144.7158277079227,
          229.06560328463274,
          null,
          256.8704459664452,
          207.4336214651595,
          165.40279854413035,
          null,
          615.1186698037072,
          -80.2926174116783,
          -74.59981313361376,
          92.92391599800368,
          null,
          null,
          null,
          null
         ],
         "xaxis": "x",
         "y": [
          "HN",
          "AZ",
          "AG",
          "DZ",
          "CL",
          "LV",
          "KG",
          "RS",
          "BE",
          "IQ",
          "CD",
          "PN",
          "OM",
          "KE",
          "ES",
          "ID",
          "GU",
          "RW",
          "JO",
          "GR"
         ],
         "yaxis": "y"
        },
        {
         "alignmentgroup": "True",
         "hovertemplate": "Origin country=loop_flow_from_pn<br>Loop flow value per origin=%{x}<br>Destination of loop flow=%{y}<extra></extra>",
         "legendgroup": "loop_flow_from_pn",
         "marker": {
          "color": "#22FFA7",
          "pattern": {
           "shape": ""
          }
         },
         "name": "loop_flow_from_pn",
         "offsetgroup": "loop_flow_from_pn",
         "orientation": "h",
         "showlegend": true,
         "textposition": "auto",
         "texttemplate": "%{x:.0f}",
         "type": "bar",
         "x": [
          null,
          null,
          null,
          null,
          null,
          null,
          null,
          null,
          null,
          null,
          null,
          null,
          null,
          null,
          null,
          null,
          null,
          null,
          null,
          null
         ],
         "xaxis": "x",
         "y": [
          "HN",
          "AZ",
          "AG",
          "DZ",
          "CL",
          "LV",
          "KG",
          "RS",
          "BE",
          "IQ",
          "CD",
          "PN",
          "OM",
          "KE",
          "ES",
          "ID",
          "GU",
          "RW",
          "JO",
          "GR"
         ],
         "yaxis": "y"
        },
        {
         "alignmentgroup": "True",
         "hovertemplate": "Origin country=loop_flow_from_rs<br>Loop flow value per origin=%{x}<br>Destination of loop flow=%{y}<extra></extra>",
         "legendgroup": "loop_flow_from_rs",
         "marker": {
          "color": "#620042",
          "pattern": {
           "shape": ""
          }
         },
         "name": "loop_flow_from_rs",
         "offsetgroup": "loop_flow_from_rs",
         "orientation": "h",
         "showlegend": true,
         "textposition": "auto",
         "texttemplate": "%{x:.0f}",
         "type": "bar",
         "x": [
          null,
          null,
          null,
          null,
          null,
          null,
          null,
          172.61474829739723,
          null,
          null,
          null,
          null,
          null,
          null,
          null,
          null,
          null,
          null,
          null,
          null
         ],
         "xaxis": "x",
         "y": [
          "HN",
          "AZ",
          "AG",
          "DZ",
          "CL",
          "LV",
          "KG",
          "RS",
          "BE",
          "IQ",
          "CD",
          "PN",
          "OM",
          "KE",
          "ES",
          "ID",
          "GU",
          "RW",
          "JO",
          "GR"
         ],
         "yaxis": "y"
        },
        {
         "alignmentgroup": "True",
         "hovertemplate": "Origin country=loop_flow_from_rw<br>Loop flow value per origin=%{x}<br>Destination of loop flow=%{y}<extra></extra>",
         "legendgroup": "loop_flow_from_rw",
         "marker": {
          "color": "#FF9616",
          "pattern": {
           "shape": ""
          }
         },
         "name": "loop_flow_from_rw",
         "offsetgroup": "loop_flow_from_rw",
         "orientation": "h",
         "showlegend": true,
         "textposition": "auto",
         "texttemplate": "%{x:.0f}",
         "type": "bar",
         "x": [
          null,
          null,
          null,
          null,
          null,
          null,
          -143.364882543709,
          null,
          null,
          null,
          null,
          null,
          null,
          null,
          -76.38894870780452,
          null,
          null,
          -70.90611209003822,
          null,
          null
         ],
         "xaxis": "x",
         "y": [
          "HN",
          "AZ",
          "AG",
          "DZ",
          "CL",
          "LV",
          "KG",
          "RS",
          "BE",
          "IQ",
          "CD",
          "PN",
          "OM",
          "KE",
          "ES",
          "ID",
          "GU",
          "RW",
          "JO",
          "GR"
         ],
         "yaxis": "y"
        },
        {
         "alignmentgroup": "True",
         "hovertemplate": "Origin country=masked_positive<br>Loop flow value per origin=%{x}<br>Destination of loop flow=%{y}<extra></extra>",
         "legendgroup": "masked_positive",
         "marker": {
          "color": "#FC6955",
          "pattern": {
           "shape": ""
          }
         },
         "name": "masked_positive",
         "offsetgroup": "masked_positive",
         "orientation": "h",
         "showlegend": true,
         "textposition": "auto",
         "texttemplate": "%{x:.0f}",
         "type": "bar",
         "x": [
          260.2051608719638,
          242.06151347371664,
          372.5934092843195,
          390.2049845274219,
          166.50881380208514,
          346.16040817652777,
          285.19403681916566,
          223.1303944424227,
          223.54400892345646,
          351.61130152310164,
          233.3249399570843,
          335.58758545555344,
          325.6308789683675,
          222.09767836893027,
          219.46522411570686,
          108.62498188736106,
          213.01660378818988,
          78.91846038078131,
          145.07586726468116,
          111.82525801319677
         ],
         "xaxis": "x",
         "y": [
          "HN",
          "AZ",
          "AG",
          "DZ",
          "CL",
          "LV",
          "KG",
          "RS",
          "BE",
          "IQ",
          "CD",
          "PN",
          "OM",
          "KE",
          "ES",
          "ID",
          "GU",
          "RW",
          "JO",
          "GR"
         ],
         "yaxis": "y"
        },
        {
         "alignmentgroup": "True",
         "hovertemplate": "Origin country=masked_negative<br>Loop flow value per origin=%{x}<br>Destination of loop flow=%{y}<extra></extra>",
         "legendgroup": "masked_negative",
         "marker": {
          "color": "#479B55",
          "pattern": {
           "shape": ""
          }
         },
         "name": "masked_negative",
         "offsetgroup": "masked_negative",
         "orientation": "h",
         "showlegend": true,
         "textposition": "auto",
         "texttemplate": "%{x:.0f}",
         "type": "bar",
         "x": [
          -364.55492250791156,
          -312.72237487362816,
          -568.5712433758703,
          -328.89989201945355,
          -672.987249014718,
          0,
          -424.3523246948678,
          -412.1064301077866,
          -121.3954702851888,
          -197.4348789814909,
          -120.75192812324649,
          -287.14439371112053,
          -116.61347205832581,
          -207.02611925805547,
          -44.34181138143683,
          -127.60105364358641,
          -100.60592413552408,
          -188.65303122893286,
          -117.04366975143245,
          -77.35958978600463
         ],
         "xaxis": "x",
         "y": [
          "HN",
          "AZ",
          "AG",
          "DZ",
          "CL",
          "LV",
          "KG",
          "RS",
          "BE",
          "IQ",
          "CD",
          "PN",
          "OM",
          "KE",
          "ES",
          "ID",
          "GU",
          "RW",
          "JO",
          "GR"
         ],
         "yaxis": "y"
        }
       ],
       "layout": {
        "barmode": "relative",
        "height": 1000,
        "legend": {
         "title": {
          "text": "Origin country"
         },
         "tracegroupgap": 0
        },
        "margin": {
         "t": 60
        },
        "template": {
         "data": {
          "bar": [
           {
            "error_x": {
             "color": "#2a3f5f"
            },
            "error_y": {
             "color": "#2a3f5f"
            },
            "marker": {
             "line": {
              "color": "#E5ECF6",
              "width": 0.5
             },
             "pattern": {
              "fillmode": "overlay",
              "size": 10,
              "solidity": 0.2
             }
            },
            "type": "bar"
           }
          ],
          "barpolar": [
           {
            "marker": {
             "line": {
              "color": "#E5ECF6",
              "width": 0.5
             },
             "pattern": {
              "fillmode": "overlay",
              "size": 10,
              "solidity": 0.2
             }
            },
            "type": "barpolar"
           }
          ],
          "carpet": [
           {
            "aaxis": {
             "endlinecolor": "#2a3f5f",
             "gridcolor": "white",
             "linecolor": "white",
             "minorgridcolor": "white",
             "startlinecolor": "#2a3f5f"
            },
            "baxis": {
             "endlinecolor": "#2a3f5f",
             "gridcolor": "white",
             "linecolor": "white",
             "minorgridcolor": "white",
             "startlinecolor": "#2a3f5f"
            },
            "type": "carpet"
           }
          ],
          "choropleth": [
           {
            "colorbar": {
             "outlinewidth": 0,
             "ticks": ""
            },
            "type": "choropleth"
           }
          ],
          "contour": [
           {
            "colorbar": {
             "outlinewidth": 0,
             "ticks": ""
            },
            "colorscale": [
             [
              0,
              "#0d0887"
             ],
             [
              0.1111111111111111,
              "#46039f"
             ],
             [
              0.2222222222222222,
              "#7201a8"
             ],
             [
              0.3333333333333333,
              "#9c179e"
             ],
             [
              0.4444444444444444,
              "#bd3786"
             ],
             [
              0.5555555555555556,
              "#d8576b"
             ],
             [
              0.6666666666666666,
              "#ed7953"
             ],
             [
              0.7777777777777778,
              "#fb9f3a"
             ],
             [
              0.8888888888888888,
              "#fdca26"
             ],
             [
              1,
              "#f0f921"
             ]
            ],
            "type": "contour"
           }
          ],
          "contourcarpet": [
           {
            "colorbar": {
             "outlinewidth": 0,
             "ticks": ""
            },
            "type": "contourcarpet"
           }
          ],
          "heatmap": [
           {
            "colorbar": {
             "outlinewidth": 0,
             "ticks": ""
            },
            "colorscale": [
             [
              0,
              "#0d0887"
             ],
             [
              0.1111111111111111,
              "#46039f"
             ],
             [
              0.2222222222222222,
              "#7201a8"
             ],
             [
              0.3333333333333333,
              "#9c179e"
             ],
             [
              0.4444444444444444,
              "#bd3786"
             ],
             [
              0.5555555555555556,
              "#d8576b"
             ],
             [
              0.6666666666666666,
              "#ed7953"
             ],
             [
              0.7777777777777778,
              "#fb9f3a"
             ],
             [
              0.8888888888888888,
              "#fdca26"
             ],
             [
              1,
              "#f0f921"
             ]
            ],
            "type": "heatmap"
           }
          ],
          "heatmapgl": [
           {
            "colorbar": {
             "outlinewidth": 0,
             "ticks": ""
            },
            "colorscale": [
             [
              0,
              "#0d0887"
             ],
             [
              0.1111111111111111,
              "#46039f"
             ],
             [
              0.2222222222222222,
              "#7201a8"
             ],
             [
              0.3333333333333333,
              "#9c179e"
             ],
             [
              0.4444444444444444,
              "#bd3786"
             ],
             [
              0.5555555555555556,
              "#d8576b"
             ],
             [
              0.6666666666666666,
              "#ed7953"
             ],
             [
              0.7777777777777778,
              "#fb9f3a"
             ],
             [
              0.8888888888888888,
              "#fdca26"
             ],
             [
              1,
              "#f0f921"
             ]
            ],
            "type": "heatmapgl"
           }
          ],
          "histogram": [
           {
            "marker": {
             "pattern": {
              "fillmode": "overlay",
              "size": 10,
              "solidity": 0.2
             }
            },
            "type": "histogram"
           }
          ],
          "histogram2d": [
           {
            "colorbar": {
             "outlinewidth": 0,
             "ticks": ""
            },
            "colorscale": [
             [
              0,
              "#0d0887"
             ],
             [
              0.1111111111111111,
              "#46039f"
             ],
             [
              0.2222222222222222,
              "#7201a8"
             ],
             [
              0.3333333333333333,
              "#9c179e"
             ],
             [
              0.4444444444444444,
              "#bd3786"
             ],
             [
              0.5555555555555556,
              "#d8576b"
             ],
             [
              0.6666666666666666,
              "#ed7953"
             ],
             [
              0.7777777777777778,
              "#fb9f3a"
             ],
             [
              0.8888888888888888,
              "#fdca26"
             ],
             [
              1,
              "#f0f921"
             ]
            ],
            "type": "histogram2d"
           }
          ],
          "histogram2dcontour": [
           {
            "colorbar": {
             "outlinewidth": 0,
             "ticks": ""
            },
            "colorscale": [
             [
              0,
              "#0d0887"
             ],
             [
              0.1111111111111111,
              "#46039f"
             ],
             [
              0.2222222222222222,
              "#7201a8"
             ],
             [
              0.3333333333333333,
              "#9c179e"
             ],
             [
              0.4444444444444444,
              "#bd3786"
             ],
             [
              0.5555555555555556,
              "#d8576b"
             ],
             [
              0.6666666666666666,
              "#ed7953"
             ],
             [
              0.7777777777777778,
              "#fb9f3a"
             ],
             [
              0.8888888888888888,
              "#fdca26"
             ],
             [
              1,
              "#f0f921"
             ]
            ],
            "type": "histogram2dcontour"
           }
          ],
          "mesh3d": [
           {
            "colorbar": {
             "outlinewidth": 0,
             "ticks": ""
            },
            "type": "mesh3d"
           }
          ],
          "parcoords": [
           {
            "line": {
             "colorbar": {
              "outlinewidth": 0,
              "ticks": ""
             }
            },
            "type": "parcoords"
           }
          ],
          "pie": [
           {
            "automargin": true,
            "type": "pie"
           }
          ],
          "scatter": [
           {
            "fillpattern": {
             "fillmode": "overlay",
             "size": 10,
             "solidity": 0.2
            },
            "type": "scatter"
           }
          ],
          "scatter3d": [
           {
            "line": {
             "colorbar": {
              "outlinewidth": 0,
              "ticks": ""
             }
            },
            "marker": {
             "colorbar": {
              "outlinewidth": 0,
              "ticks": ""
             }
            },
            "type": "scatter3d"
           }
          ],
          "scattercarpet": [
           {
            "marker": {
             "colorbar": {
              "outlinewidth": 0,
              "ticks": ""
             }
            },
            "type": "scattercarpet"
           }
          ],
          "scattergeo": [
           {
            "marker": {
             "colorbar": {
              "outlinewidth": 0,
              "ticks": ""
             }
            },
            "type": "scattergeo"
           }
          ],
          "scattergl": [
           {
            "marker": {
             "colorbar": {
              "outlinewidth": 0,
              "ticks": ""
             }
            },
            "type": "scattergl"
           }
          ],
          "scattermapbox": [
           {
            "marker": {
             "colorbar": {
              "outlinewidth": 0,
              "ticks": ""
             }
            },
            "type": "scattermapbox"
           }
          ],
          "scatterpolar": [
           {
            "marker": {
             "colorbar": {
              "outlinewidth": 0,
              "ticks": ""
             }
            },
            "type": "scatterpolar"
           }
          ],
          "scatterpolargl": [
           {
            "marker": {
             "colorbar": {
              "outlinewidth": 0,
              "ticks": ""
             }
            },
            "type": "scatterpolargl"
           }
          ],
          "scatterternary": [
           {
            "marker": {
             "colorbar": {
              "outlinewidth": 0,
              "ticks": ""
             }
            },
            "type": "scatterternary"
           }
          ],
          "surface": [
           {
            "colorbar": {
             "outlinewidth": 0,
             "ticks": ""
            },
            "colorscale": [
             [
              0,
              "#0d0887"
             ],
             [
              0.1111111111111111,
              "#46039f"
             ],
             [
              0.2222222222222222,
              "#7201a8"
             ],
             [
              0.3333333333333333,
              "#9c179e"
             ],
             [
              0.4444444444444444,
              "#bd3786"
             ],
             [
              0.5555555555555556,
              "#d8576b"
             ],
             [
              0.6666666666666666,
              "#ed7953"
             ],
             [
              0.7777777777777778,
              "#fb9f3a"
             ],
             [
              0.8888888888888888,
              "#fdca26"
             ],
             [
              1,
              "#f0f921"
             ]
            ],
            "type": "surface"
           }
          ],
          "table": [
           {
            "cells": {
             "fill": {
              "color": "#EBF0F8"
             },
             "line": {
              "color": "white"
             }
            },
            "header": {
             "fill": {
              "color": "#C8D4E3"
             },
             "line": {
              "color": "white"
             }
            },
            "type": "table"
           }
          ]
         },
         "layout": {
          "annotationdefaults": {
           "arrowcolor": "#2a3f5f",
           "arrowhead": 0,
           "arrowwidth": 1
          },
          "autotypenumbers": "strict",
          "coloraxis": {
           "colorbar": {
            "outlinewidth": 0,
            "ticks": ""
           }
          },
          "colorscale": {
           "diverging": [
            [
             0,
             "#8e0152"
            ],
            [
             0.1,
             "#c51b7d"
            ],
            [
             0.2,
             "#de77ae"
            ],
            [
             0.3,
             "#f1b6da"
            ],
            [
             0.4,
             "#fde0ef"
            ],
            [
             0.5,
             "#f7f7f7"
            ],
            [
             0.6,
             "#e6f5d0"
            ],
            [
             0.7,
             "#b8e186"
            ],
            [
             0.8,
             "#7fbc41"
            ],
            [
             0.9,
             "#4d9221"
            ],
            [
             1,
             "#276419"
            ]
           ],
           "sequential": [
            [
             0,
             "#0d0887"
            ],
            [
             0.1111111111111111,
             "#46039f"
            ],
            [
             0.2222222222222222,
             "#7201a8"
            ],
            [
             0.3333333333333333,
             "#9c179e"
            ],
            [
             0.4444444444444444,
             "#bd3786"
            ],
            [
             0.5555555555555556,
             "#d8576b"
            ],
            [
             0.6666666666666666,
             "#ed7953"
            ],
            [
             0.7777777777777778,
             "#fb9f3a"
            ],
            [
             0.8888888888888888,
             "#fdca26"
            ],
            [
             1,
             "#f0f921"
            ]
           ],
           "sequentialminus": [
            [
             0,
             "#0d0887"
            ],
            [
             0.1111111111111111,
             "#46039f"
            ],
            [
             0.2222222222222222,
             "#7201a8"
            ],
            [
             0.3333333333333333,
             "#9c179e"
            ],
            [
             0.4444444444444444,
             "#bd3786"
            ],
            [
             0.5555555555555556,
             "#d8576b"
            ],
            [
             0.6666666666666666,
             "#ed7953"
            ],
            [
             0.7777777777777778,
             "#fb9f3a"
            ],
            [
             0.8888888888888888,
             "#fdca26"
            ],
            [
             1,
             "#f0f921"
            ]
           ]
          },
          "colorway": [
           "#636efa",
           "#EF553B",
           "#00cc96",
           "#ab63fa",
           "#FFA15A",
           "#19d3f3",
           "#FF6692",
           "#B6E880",
           "#FF97FF",
           "#FECB52"
          ],
          "font": {
           "color": "#2a3f5f"
          },
          "geo": {
           "bgcolor": "white",
           "lakecolor": "white",
           "landcolor": "#E5ECF6",
           "showlakes": true,
           "showland": true,
           "subunitcolor": "white"
          },
          "hoverlabel": {
           "align": "left"
          },
          "hovermode": "closest",
          "mapbox": {
           "style": "light"
          },
          "paper_bgcolor": "white",
          "plot_bgcolor": "#E5ECF6",
          "polar": {
           "angularaxis": {
            "gridcolor": "white",
            "linecolor": "white",
            "ticks": ""
           },
           "bgcolor": "#E5ECF6",
           "radialaxis": {
            "gridcolor": "white",
            "linecolor": "white",
            "ticks": ""
           }
          },
          "scene": {
           "xaxis": {
            "backgroundcolor": "#E5ECF6",
            "gridcolor": "white",
            "gridwidth": 2,
            "linecolor": "white",
            "showbackground": true,
            "ticks": "",
            "zerolinecolor": "white"
           },
           "yaxis": {
            "backgroundcolor": "#E5ECF6",
            "gridcolor": "white",
            "gridwidth": 2,
            "linecolor": "white",
            "showbackground": true,
            "ticks": "",
            "zerolinecolor": "white"
           },
           "zaxis": {
            "backgroundcolor": "#E5ECF6",
            "gridcolor": "white",
            "gridwidth": 2,
            "linecolor": "white",
            "showbackground": true,
            "ticks": "",
            "zerolinecolor": "white"
           }
          },
          "shapedefaults": {
           "line": {
            "color": "#2a3f5f"
           }
          },
          "ternary": {
           "aaxis": {
            "gridcolor": "white",
            "linecolor": "white",
            "ticks": ""
           },
           "baxis": {
            "gridcolor": "white",
            "linecolor": "white",
            "ticks": ""
           },
           "bgcolor": "#E5ECF6",
           "caxis": {
            "gridcolor": "white",
            "linecolor": "white",
            "ticks": ""
           }
          },
          "title": {
           "x": 0.05
          },
          "xaxis": {
           "automargin": true,
           "gridcolor": "white",
           "linecolor": "white",
           "ticks": "",
           "title": {
            "standoff": 15
           },
           "zerolinecolor": "white",
           "zerolinewidth": 2
          },
          "yaxis": {
           "automargin": true,
           "gridcolor": "white",
           "linecolor": "white",
           "ticks": "",
           "title": {
            "standoff": 15
           },
           "zerolinecolor": "white",
           "zerolinewidth": 2
          }
         }
        },
        "xaxis": {
         "anchor": "y",
         "domain": [
          0,
          1
         ],
         "title": {
          "text": "Loop flow value per origin"
         }
        },
        "yaxis": {
         "anchor": "x",
         "domain": [
          0,
          1
         ],
         "title": {
          "text": "Destination of loop flow"
         }
        }
       }
      }
     },
     "metadata": {},
     "output_type": "display_data"
    }
   ],
   "source": [
    "threshold = .03\n",
    "df = df_lf_per_country.copy().transpose()\n",
    "df_p = df[[c for c in df.columns if ('loop_flow_from' in c)]]\n",
    "df_s = df_p.abs().sum(axis=1)\n",
    "df_p = df_p.reindex(df_s.sort_values(ascending=False).index)\n",
    "df_m = df_p.abs().div(df_p.abs().sum(axis=1), axis=0) > threshold\n",
    "df_f = df_p[df_m]\n",
    "df_f['masked_positive'] = df_p[df_p[df_m == False]>0].sum(axis=1)\n",
    "df_f['masked_negative'] = df_p[df_p[df_m == False]<0].sum(axis=1)\n",
    "fig = px.bar(df_f,\n",
    "    orientation='h',\n",
    "    color_discrete_sequence=colors[:df_f.columns.size],\n",
    "    text_auto='.0f',\n",
    "    title='',\n",
    "    height=1000,\n",
    "    labels={\n",
    "        'index':'Destination of loop flow',\n",
    "        'value': 'Loop flow value per origin',\n",
    "        'variable': 'Origin country',\n",
    "    }\n",
    "    )\n",
    "fig.show()"
   ]
  },
  {
   "cell_type": "code",
   "execution_count": 29,
   "metadata": {},
   "outputs": [
    {
     "data": {
      "application/vnd.plotly.v1+json": {
       "config": {
        "plotlyServerURL": "https://plot.ly"
       },
       "data": [
        {
         "alignmentgroup": "True",
         "hovertemplate": "Origin country=loop_flow_from_ag<br>Loop flow value normalized per origin=%{x}<br>Destination of loop flow=%{y}<extra></extra>",
         "legendgroup": "loop_flow_from_ag",
         "marker": {
          "color": "#0DF9FF",
          "pattern": {
           "shape": ""
          }
         },
         "name": "loop_flow_from_ag",
         "offsetgroup": "loop_flow_from_ag",
         "orientation": "h",
         "showlegend": true,
         "textposition": "auto",
         "texttemplate": "%{x:.2f}",
         "type": "bar",
         "x": [
          null,
          null,
          null,
          0.07102092398555421,
          0.28055782647820693,
          0.06305632598025229,
          0.05651025256333326,
          0.08936928665571775,
          -0.05413445610111069,
          0.17704234090994547,
          null,
          null,
          null,
          -0.05980927529470103,
          0.221028629191755,
          null,
          0.08683472276061137,
          0.1684910445793157,
          0.11497685736482142,
          0.1565881034583132
         ],
         "xaxis": "x",
         "y": [
          "ID",
          "JO",
          "GR",
          "OM",
          "DZ",
          "BE",
          "KE",
          "AZ",
          "IQ",
          "CL",
          "PN",
          "GU",
          "RW",
          "KG",
          "AG",
          "CD",
          "ES",
          "LV",
          "HN",
          "RS"
         ],
         "yaxis": "y"
        },
        {
         "alignmentgroup": "True",
         "hovertemplate": "Origin country=loop_flow_from_az<br>Loop flow value normalized per origin=%{x}<br>Destination of loop flow=%{y}<extra></extra>",
         "legendgroup": "loop_flow_from_az",
         "marker": {
          "color": "#AF0038",
          "pattern": {
           "shape": ""
          }
         },
         "name": "loop_flow_from_az",
         "offsetgroup": "loop_flow_from_az",
         "orientation": "h",
         "showlegend": true,
         "textposition": "auto",
         "texttemplate": "%{x:.2f}",
         "type": "bar",
         "x": [
          null,
          null,
          null,
          0.08653465888118773,
          null,
          0.09451284623442413,
          0.04536830466779182,
          0.13167783819954593,
          null,
          0.08277086345653745,
          0.1164069823374281,
          null,
          -0.1224637875688359,
          0.1255160434768118,
          0.11747431649632815,
          null,
          0.10083405582900835,
          0.14007589766437917,
          0.12815732038330474,
          0.14098012591751918
         ],
         "xaxis": "x",
         "y": [
          "ID",
          "JO",
          "GR",
          "OM",
          "DZ",
          "BE",
          "KE",
          "AZ",
          "IQ",
          "CL",
          "PN",
          "GU",
          "RW",
          "KG",
          "AG",
          "CD",
          "ES",
          "LV",
          "HN",
          "RS"
         ],
         "yaxis": "y"
        },
        {
         "alignmentgroup": "True",
         "hovertemplate": "Origin country=loop_flow_from_be<br>Loop flow value normalized per origin=%{x}<br>Destination of loop flow=%{y}<extra></extra>",
         "legendgroup": "loop_flow_from_be",
         "marker": {
          "color": "#FD3216",
          "pattern": {
           "shape": ""
          }
         },
         "name": "loop_flow_from_be",
         "offsetgroup": "loop_flow_from_be",
         "orientation": "h",
         "showlegend": true,
         "textposition": "auto",
         "texttemplate": "%{x:.2f}",
         "type": "bar",
         "x": [
          null,
          0.35925887186230726,
          null,
          null,
          0.08644170501455142,
          0.11110864377902165,
          0.05581594405984962,
          0.08674415809035288,
          0.2580622571047756,
          0.03535080547616835,
          null,
          -0.031984472110090756,
          null,
          null,
          null,
          0.11489095608230662,
          null,
          -0.03129649921921503,
          null,
          null
         ],
         "xaxis": "x",
         "y": [
          "ID",
          "JO",
          "GR",
          "OM",
          "DZ",
          "BE",
          "KE",
          "AZ",
          "IQ",
          "CL",
          "PN",
          "GU",
          "RW",
          "KG",
          "AG",
          "CD",
          "ES",
          "LV",
          "HN",
          "RS"
         ],
         "yaxis": "y"
        },
        {
         "alignmentgroup": "True",
         "hovertemplate": "Origin country=loop_flow_from_cd<br>Loop flow value normalized per origin=%{x}<br>Destination of loop flow=%{y}<extra></extra>",
         "legendgroup": "loop_flow_from_cd",
         "marker": {
          "color": "#00A08B",
          "pattern": {
           "shape": ""
          }
         },
         "name": "loop_flow_from_cd",
         "offsetgroup": "loop_flow_from_cd",
         "orientation": "h",
         "showlegend": true,
         "textposition": "auto",
         "texttemplate": "%{x:.2f}",
         "type": "bar",
         "x": [
          null,
          null,
          null,
          0.15755428122597834,
          0.07376470780506673,
          0.0358649585277004,
          -0.037120797676850205,
          null,
          0.05730612036109746,
          null,
          null,
          null,
          0.047140304576307815,
          0.05612582091928878,
          null,
          0.22961938051024983,
          null,
          -0.04604844623716159,
          -0.03901892930716892,
          -0.03590675835879892
         ],
         "xaxis": "x",
         "y": [
          "ID",
          "JO",
          "GR",
          "OM",
          "DZ",
          "BE",
          "KE",
          "AZ",
          "IQ",
          "CL",
          "PN",
          "GU",
          "RW",
          "KG",
          "AG",
          "CD",
          "ES",
          "LV",
          "HN",
          "RS"
         ],
         "yaxis": "y"
        },
        {
         "alignmentgroup": "True",
         "hovertemplate": "Origin country=loop_flow_from_cl<br>Loop flow value normalized per origin=%{x}<br>Destination of loop flow=%{y}<extra></extra>",
         "legendgroup": "loop_flow_from_cl",
         "marker": {
          "color": "#6C4516",
          "pattern": {
           "shape": ""
          }
         },
         "name": "loop_flow_from_cl",
         "offsetgroup": "loop_flow_from_cl",
         "orientation": "h",
         "showlegend": true,
         "textposition": "auto",
         "texttemplate": "%{x:.2f}",
         "type": "bar",
         "x": [
          null,
          null,
          null,
          null,
          0.08122389204432795,
          0.03319426522326448,
          null,
          0.14117771773813576,
          null,
          0.32710627494208183,
          -0.0646626522700394,
          0.07879803502737216,
          0.03856062245841277,
          -0.08658370326754113,
          null,
          null,
          0.18562637949053953,
          null,
          null,
          null
         ],
         "xaxis": "x",
         "y": [
          "ID",
          "JO",
          "GR",
          "OM",
          "DZ",
          "BE",
          "KE",
          "AZ",
          "IQ",
          "CL",
          "PN",
          "GU",
          "RW",
          "KG",
          "AG",
          "CD",
          "ES",
          "LV",
          "HN",
          "RS"
         ],
         "yaxis": "y"
        },
        {
         "alignmentgroup": "True",
         "hovertemplate": "Origin country=loop_flow_from_dz<br>Loop flow value normalized per origin=%{x}<br>Destination of loop flow=%{y}<extra></extra>",
         "legendgroup": "loop_flow_from_dz",
         "marker": {
          "color": "#511CFB",
          "pattern": {
           "shape": ""
          }
         },
         "name": "loop_flow_from_dz",
         "offsetgroup": "loop_flow_from_dz",
         "orientation": "h",
         "showlegend": true,
         "textposition": "auto",
         "texttemplate": "%{x:.2f}",
         "type": "bar",
         "x": [
          null,
          null,
          0.17441714034734562,
          0.04975940230361284,
          0.12700460821733608,
          0.07050160488606746,
          0.06407553298580194,
          0.05504016297979784,
          null,
          null,
          0.03419163150436255,
          null,
          null,
          null,
          0.11363859343117426,
          0.03223306126696571,
          -0.11064951350084337,
          0.12484591363552965,
          0.1182522836419401,
          0.06111540580186402
         ],
         "xaxis": "x",
         "y": [
          "ID",
          "JO",
          "GR",
          "OM",
          "DZ",
          "BE",
          "KE",
          "AZ",
          "IQ",
          "CL",
          "PN",
          "GU",
          "RW",
          "KG",
          "AG",
          "CD",
          "ES",
          "LV",
          "HN",
          "RS"
         ],
         "yaxis": "y"
        },
        {
         "alignmentgroup": "True",
         "hovertemplate": "Origin country=loop_flow_from_es<br>Loop flow value normalized per origin=%{x}<br>Destination of loop flow=%{y}<extra></extra>",
         "legendgroup": "loop_flow_from_es",
         "marker": {
          "color": "#F6F926",
          "pattern": {
           "shape": ""
          }
         },
         "name": "loop_flow_from_es",
         "offsetgroup": "loop_flow_from_es",
         "orientation": "h",
         "showlegend": true,
         "textposition": "auto",
         "texttemplate": "%{x:.2f}",
         "type": "bar",
         "x": [
          null,
          null,
          null,
          null,
          null,
          null,
          null,
          null,
          null,
          -0.04662902540190464,
          0.055223091331883994,
          null,
          null,
          null,
          0.0463015834975668,
          null,
          null,
          0.05182525401310124,
          0.04997365685449212,
          null
         ],
         "xaxis": "x",
         "y": [
          "ID",
          "JO",
          "GR",
          "OM",
          "DZ",
          "BE",
          "KE",
          "AZ",
          "IQ",
          "CL",
          "PN",
          "GU",
          "RW",
          "KG",
          "AG",
          "CD",
          "ES",
          "LV",
          "HN",
          "RS"
         ],
         "yaxis": "y"
        },
        {
         "alignmentgroup": "True",
         "hovertemplate": "Origin country=loop_flow_from_gr<br>Loop flow value normalized per origin=%{x}<br>Destination of loop flow=%{y}<extra></extra>",
         "legendgroup": "loop_flow_from_gr",
         "marker": {
          "color": "#C9FBE5",
          "pattern": {
           "shape": ""
          }
         },
         "name": "loop_flow_from_gr",
         "offsetgroup": "loop_flow_from_gr",
         "orientation": "h",
         "showlegend": true,
         "textposition": "auto",
         "texttemplate": "%{x:.2f}",
         "type": "bar",
         "x": [
          null,
          null,
          0.4592203575397737,
          null,
          null,
          null,
          -0.044568993204232236,
          -0.15297674692359323,
          0.05814515661090981,
          -0.05061506092085236,
          0.045016801577877456,
          null,
          0.036876484173388464,
          0.08042568047803811,
          -0.050782742688089126,
          -0.030300820432210617,
          -0.038475086419506546,
          -0.0824866673925948,
          -0.07820518908187012,
          -0.033222567949088955
         ],
         "xaxis": "x",
         "y": [
          "ID",
          "JO",
          "GR",
          "OM",
          "DZ",
          "BE",
          "KE",
          "AZ",
          "IQ",
          "CL",
          "PN",
          "GU",
          "RW",
          "KG",
          "AG",
          "CD",
          "ES",
          "LV",
          "HN",
          "RS"
         ],
         "yaxis": "y"
        },
        {
         "alignmentgroup": "True",
         "hovertemplate": "Origin country=loop_flow_from_gu<br>Loop flow value normalized per origin=%{x}<br>Destination of loop flow=%{y}<extra></extra>",
         "legendgroup": "loop_flow_from_gu",
         "marker": {
          "color": "#FC0080",
          "pattern": {
           "shape": ""
          }
         },
         "name": "loop_flow_from_gu",
         "offsetgroup": "loop_flow_from_gu",
         "orientation": "h",
         "showlegend": true,
         "textposition": "auto",
         "texttemplate": "%{x:.2f}",
         "type": "bar",
         "x": [
          null,
          null,
          null,
          null,
          null,
          null,
          null,
          0.04117328828463166,
          null,
          0.041244075692953526,
          null,
          0.06460540956931035,
          0.14361472378125895,
          null,
          null,
          null,
          null,
          0.03234382107439453,
          0.03853516248939855,
          null
         ],
         "xaxis": "x",
         "y": [
          "ID",
          "JO",
          "GR",
          "OM",
          "DZ",
          "BE",
          "KE",
          "AZ",
          "IQ",
          "CL",
          "PN",
          "GU",
          "RW",
          "KG",
          "AG",
          "CD",
          "ES",
          "LV",
          "HN",
          "RS"
         ],
         "yaxis": "y"
        },
        {
         "alignmentgroup": "True",
         "hovertemplate": "Origin country=loop_flow_from_hn<br>Loop flow value normalized per origin=%{x}<br>Destination of loop flow=%{y}<extra></extra>",
         "legendgroup": "loop_flow_from_hn",
         "marker": {
          "color": "#FB0D0D",
          "pattern": {
           "shape": ""
          }
         },
         "name": "loop_flow_from_hn",
         "offsetgroup": "loop_flow_from_hn",
         "orientation": "h",
         "showlegend": true,
         "textposition": "auto",
         "texttemplate": "%{x:.2f}",
         "type": "bar",
         "x": [
          0.09494915088045713,
          null,
          null,
          null,
          null,
          0.03488276432760631,
          null,
          null,
          null,
          null,
          0.033138581712915574,
          null,
          null,
          0.10235899263795001,
          null,
          0.05320422950671806,
          0.15853285177804255,
          -0.05285428088799483,
          0.0737629903674908,
          -0.03787887286159053
         ],
         "xaxis": "x",
         "y": [
          "ID",
          "JO",
          "GR",
          "OM",
          "DZ",
          "BE",
          "KE",
          "AZ",
          "IQ",
          "CL",
          "PN",
          "GU",
          "RW",
          "KG",
          "AG",
          "CD",
          "ES",
          "LV",
          "HN",
          "RS"
         ],
         "yaxis": "y"
        },
        {
         "alignmentgroup": "True",
         "hovertemplate": "Origin country=loop_flow_from_id<br>Loop flow value normalized per origin=%{x}<br>Destination of loop flow=%{y}<extra></extra>",
         "legendgroup": "loop_flow_from_id",
         "marker": {
          "color": "#D626FF",
          "pattern": {
           "shape": ""
          }
         },
         "name": "loop_flow_from_id",
         "offsetgroup": "loop_flow_from_id",
         "orientation": "h",
         "showlegend": true,
         "textposition": "auto",
         "texttemplate": "%{x:.2f}",
         "type": "bar",
         "x": [
          0.6837444799584086,
          0.22321390222760107,
          null,
          -0.046871374338556086,
          null,
          0.16249583749673047,
          0.031937822626719146,
          0.034823025328621755,
          -0.11698530506019501,
          null,
          0.34151971096008843,
          0.48902660561199646,
          0.21764999921195607,
          null,
          0.08461492615994169,
          -0.24720766882064263,
          0.048307527153017595,
          null,
          0.03401210805756345,
          0.04491754494304818
         ],
         "xaxis": "x",
         "y": [
          "ID",
          "JO",
          "GR",
          "OM",
          "DZ",
          "BE",
          "KE",
          "AZ",
          "IQ",
          "CL",
          "PN",
          "GU",
          "RW",
          "KG",
          "AG",
          "CD",
          "ES",
          "LV",
          "HN",
          "RS"
         ],
         "yaxis": "y"
        },
        {
         "alignmentgroup": "True",
         "hovertemplate": "Origin country=loop_flow_from_iq<br>Loop flow value normalized per origin=%{x}<br>Destination of loop flow=%{y}<extra></extra>",
         "legendgroup": "loop_flow_from_iq",
         "marker": {
          "color": "#DA16FF",
          "pattern": {
           "shape": ""
          }
         },
         "name": "loop_flow_from_iq",
         "offsetgroup": "loop_flow_from_iq",
         "orientation": "h",
         "showlegend": true,
         "textposition": "auto",
         "texttemplate": "%{x:.2f}",
         "type": "bar",
         "x": [
          null,
          null,
          null,
          null,
          0.035745496387864874,
          0.0499538069134374,
          null,
          null,
          0.15525784436473086,
          null,
          null,
          null,
          null,
          0.0548584579491415,
          null,
          null,
          null,
          null,
          null,
          0.06405521605730771
         ],
         "xaxis": "x",
         "y": [
          "ID",
          "JO",
          "GR",
          "OM",
          "DZ",
          "BE",
          "KE",
          "AZ",
          "IQ",
          "CL",
          "PN",
          "GU",
          "RW",
          "KG",
          "AG",
          "CD",
          "ES",
          "LV",
          "HN",
          "RS"
         ],
         "yaxis": "y"
        },
        {
         "alignmentgroup": "True",
         "hovertemplate": "Origin country=loop_flow_from_jo<br>Loop flow value normalized per origin=%{x}<br>Destination of loop flow=%{y}<extra></extra>",
         "legendgroup": "loop_flow_from_jo",
         "marker": {
          "color": "#86CE00",
          "pattern": {
           "shape": ""
          }
         },
         "name": "loop_flow_from_jo",
         "offsetgroup": "loop_flow_from_jo",
         "orientation": "h",
         "showlegend": true,
         "textposition": "auto",
         "texttemplate": "%{x:.2f}",
         "type": "bar",
         "x": [
          null,
          0.21878084977058396,
          0.07104463236806495,
          null,
          0.03186067662697081,
          -0.045998192476550334,
          null,
          -0.030828102170049446,
          0.06330105756992432,
          null,
          -0.08753702186902909,
          -0.18261284664072477,
          null,
          null,
          -0.07936869020723901,
          0.08393684963782434,
          -0.03415010674657464,
          -0.05971519372700815,
          -0.040814387062376466,
          null
         ],
         "xaxis": "x",
         "y": [
          "ID",
          "JO",
          "GR",
          "OM",
          "DZ",
          "BE",
          "KE",
          "AZ",
          "IQ",
          "CL",
          "PN",
          "GU",
          "RW",
          "KG",
          "AG",
          "CD",
          "ES",
          "LV",
          "HN",
          "RS"
         ],
         "yaxis": "y"
        },
        {
         "alignmentgroup": "True",
         "hovertemplate": "Origin country=loop_flow_from_ke<br>Loop flow value normalized per origin=%{x}<br>Destination of loop flow=%{y}<extra></extra>",
         "legendgroup": "loop_flow_from_ke",
         "marker": {
          "color": "#6A76FC",
          "pattern": {
           "shape": ""
          }
         },
         "name": "loop_flow_from_ke",
         "offsetgroup": "loop_flow_from_ke",
         "orientation": "h",
         "showlegend": true,
         "textposition": "auto",
         "texttemplate": "%{x:.2f}",
         "type": "bar",
         "x": [
          0.06100368677074736,
          null,
          -0.052378347048104505,
          -0.04699454571484199,
          -0.07949056148578858,
          -0.07590817291731271,
          0.42420318135661633,
          0.15598110119787975,
          null,
          null,
          null,
          null,
          null,
          null,
          0.04081349161943783,
          null,
          -0.0688587828152258,
          -0.0366364877950479,
          -0.08431302882200958,
          -0.22445048168787643
         ],
         "xaxis": "x",
         "y": [
          "ID",
          "JO",
          "GR",
          "OM",
          "DZ",
          "BE",
          "KE",
          "AZ",
          "IQ",
          "CL",
          "PN",
          "GU",
          "RW",
          "KG",
          "AG",
          "CD",
          "ES",
          "LV",
          "HN",
          "RS"
         ],
         "yaxis": "y"
        },
        {
         "alignmentgroup": "True",
         "hovertemplate": "Origin country=loop_flow_from_kg<br>Loop flow value normalized per origin=%{x}<br>Destination of loop flow=%{y}<extra></extra>",
         "legendgroup": "loop_flow_from_kg",
         "marker": {
          "color": "#FB00D1",
          "pattern": {
           "shape": ""
          }
         },
         "name": "loop_flow_from_kg",
         "offsetgroup": "loop_flow_from_kg",
         "orientation": "h",
         "showlegend": true,
         "textposition": "auto",
         "texttemplate": "%{x:.2f}",
         "type": "bar",
         "x": [
          null,
          null,
          null,
          0.1608137302515713,
          null,
          0.052091186794895154,
          0.03914918470900861,
          null,
          null,
          0.06413771319353861,
          null,
          null,
          0.2021991708908126,
          0.19486601452186283,
          0.030851585954140597,
          0.04393008816336914,
          null,
          0.032019406939821506,
          0.05658589423330371,
          null
         ],
         "xaxis": "x",
         "y": [
          "ID",
          "JO",
          "GR",
          "OM",
          "DZ",
          "BE",
          "KE",
          "AZ",
          "IQ",
          "CL",
          "PN",
          "GU",
          "RW",
          "KG",
          "AG",
          "CD",
          "ES",
          "LV",
          "HN",
          "RS"
         ],
         "yaxis": "y"
        },
        {
         "alignmentgroup": "True",
         "hovertemplate": "Origin country=loop_flow_from_lv<br>Loop flow value normalized per origin=%{x}<br>Destination of loop flow=%{y}<extra></extra>",
         "legendgroup": "loop_flow_from_lv",
         "marker": {
          "color": "#EEA6FB",
          "pattern": {
           "shape": ""
          }
         },
         "name": "loop_flow_from_lv",
         "offsetgroup": "loop_flow_from_lv",
         "orientation": "h",
         "showlegend": true,
         "textposition": "auto",
         "texttemplate": "%{x:.2f}",
         "type": "bar",
         "x": [
          null,
          null,
          0.07288462491926571,
          null,
          null,
          null,
          null,
          null,
          null,
          null,
          null,
          null,
          null,
          null,
          null,
          null,
          null,
          0.03782941003697697,
          null,
          null
         ],
         "xaxis": "x",
         "y": [
          "ID",
          "JO",
          "GR",
          "OM",
          "DZ",
          "BE",
          "KE",
          "AZ",
          "IQ",
          "CL",
          "PN",
          "GU",
          "RW",
          "KG",
          "AG",
          "CD",
          "ES",
          "LV",
          "HN",
          "RS"
         ],
         "yaxis": "y"
        },
        {
         "alignmentgroup": "True",
         "hovertemplate": "Origin country=loop_flow_from_om<br>Loop flow value normalized per origin=%{x}<br>Destination of loop flow=%{y}<extra></extra>",
         "legendgroup": "loop_flow_from_om",
         "marker": {
          "color": "#FE00CE",
          "pattern": {
           "shape": ""
          }
         },
         "name": "loop_flow_from_om",
         "offsetgroup": "loop_flow_from_om",
         "orientation": "h",
         "showlegend": true,
         "textposition": "auto",
         "texttemplate": "%{x:.2f}",
         "type": "bar",
         "x": [
          0.045255826177415547,
          null,
          null,
          0.22132660181390162,
          0.06116418752781807,
          0.07274520818920027,
          -0.03172039154019948,
          null,
          0.06493484691033347,
          null,
          null,
          null,
          null,
          0.05069529524473998,
          -0.06479506762643969,
          0.05243328931731753,
          -0.03016592588593829,
          -0.03052230115547948,
          -0.05385909249340778,
          null
         ],
         "xaxis": "x",
         "y": [
          "ID",
          "JO",
          "GR",
          "OM",
          "DZ",
          "BE",
          "KE",
          "AZ",
          "IQ",
          "CL",
          "PN",
          "GU",
          "RW",
          "KG",
          "AG",
          "CD",
          "ES",
          "LV",
          "HN",
          "RS"
         ],
         "yaxis": "y"
        },
        {
         "alignmentgroup": "True",
         "hovertemplate": "Origin country=loop_flow_from_pn<br>Loop flow value normalized per origin=%{x}<br>Destination of loop flow=%{y}<extra></extra>",
         "legendgroup": "loop_flow_from_pn",
         "marker": {
          "color": "#22FFA7",
          "pattern": {
           "shape": ""
          }
         },
         "name": "loop_flow_from_pn",
         "offsetgroup": "loop_flow_from_pn",
         "orientation": "h",
         "showlegend": true,
         "textposition": "auto",
         "texttemplate": "%{x:.2f}",
         "type": "bar",
         "x": [
          null,
          null,
          null,
          null,
          null,
          null,
          null,
          null,
          null,
          null,
          null,
          null,
          null,
          null,
          null,
          null,
          null,
          null,
          null,
          null
         ],
         "xaxis": "x",
         "y": [
          "ID",
          "JO",
          "GR",
          "OM",
          "DZ",
          "BE",
          "KE",
          "AZ",
          "IQ",
          "CL",
          "PN",
          "GU",
          "RW",
          "KG",
          "AG",
          "CD",
          "ES",
          "LV",
          "HN",
          "RS"
         ],
         "yaxis": "y"
        },
        {
         "alignmentgroup": "True",
         "hovertemplate": "Origin country=loop_flow_from_rs<br>Loop flow value normalized per origin=%{x}<br>Destination of loop flow=%{y}<extra></extra>",
         "legendgroup": "loop_flow_from_rs",
         "marker": {
          "color": "#620042",
          "pattern": {
           "shape": ""
          }
         },
         "name": "loop_flow_from_rs",
         "offsetgroup": "loop_flow_from_rs",
         "orientation": "h",
         "showlegend": true,
         "textposition": "auto",
         "texttemplate": "%{x:.2f}",
         "type": "bar",
         "x": [
          null,
          null,
          null,
          null,
          null,
          null,
          null,
          null,
          null,
          null,
          null,
          null,
          null,
          null,
          null,
          null,
          null,
          null,
          null,
          0.04292335570016456
         ],
         "xaxis": "x",
         "y": [
          "ID",
          "JO",
          "GR",
          "OM",
          "DZ",
          "BE",
          "KE",
          "AZ",
          "IQ",
          "CL",
          "PN",
          "GU",
          "RW",
          "KG",
          "AG",
          "CD",
          "ES",
          "LV",
          "HN",
          "RS"
         ],
         "yaxis": "y"
        },
        {
         "alignmentgroup": "True",
         "hovertemplate": "Origin country=loop_flow_from_rw<br>Loop flow value normalized per origin=%{x}<br>Destination of loop flow=%{y}<extra></extra>",
         "legendgroup": "loop_flow_from_rw",
         "marker": {
          "color": "#FF9616",
          "pattern": {
           "shape": ""
          }
         },
         "name": "loop_flow_from_rw",
         "offsetgroup": "loop_flow_from_rw",
         "orientation": "h",
         "showlegend": true,
         "textposition": "auto",
         "texttemplate": "%{x:.2f}",
         "type": "bar",
         "x": [
          null,
          null,
          null,
          null,
          null,
          null,
          null,
          null,
          null,
          null,
          null,
          null,
          -0.040115384935474535,
          -0.03172857445231445,
          null,
          null,
          -0.03088939862486148,
          null,
          null,
          null
         ],
         "xaxis": "x",
         "y": [
          "ID",
          "JO",
          "GR",
          "OM",
          "DZ",
          "BE",
          "KE",
          "AZ",
          "IQ",
          "CL",
          "PN",
          "GU",
          "RW",
          "KG",
          "AG",
          "CD",
          "ES",
          "LV",
          "HN",
          "RS"
         ],
         "yaxis": "y"
        },
        {
         "alignmentgroup": "True",
         "hovertemplate": "Origin country=masked_positive<br>Loop flow value normalized per origin=%{x}<br>Destination of loop flow=%{y}<extra></extra>",
         "legendgroup": "masked_positive",
         "marker": {
          "color": "#FC6955",
          "pattern": {
           "shape": ""
          }
         },
         "name": "masked_positive",
         "offsetgroup": "masked_positive",
         "orientation": "h",
         "showlegend": true,
         "textposition": "auto",
         "texttemplate": "%{x:.2f}",
         "type": "bar",
         "x": [
          0.05290256276893167,
          0.11000058680242177,
          0.10051773723736304,
          0.11716564530668763,
          0.07745787101166529,
          0.06330722636231007,
          0.08774188144733575,
          0.03499634514299638,
          0.1100681069687661,
          0.03473075572714709,
          0.1197984143593671,
          0.10390105121759141,
          0.04464839945913232,
          0.06311727160808864,
          0.059513610168408004,
          0.07396485542807456,
          0.08874515105497216,
          0.07300937564197928,
          0.03728947361909041,
          0.05548486083975331
         ],
         "xaxis": "x",
         "y": [
          "ID",
          "JO",
          "GR",
          "OM",
          "DZ",
          "BE",
          "KE",
          "AZ",
          "IQ",
          "CL",
          "PN",
          "GU",
          "RW",
          "KG",
          "AG",
          "CD",
          "ES",
          "LV",
          "HN",
          "RS"
         ],
         "yaxis": "y"
        },
        {
         "alignmentgroup": "True",
         "hovertemplate": "Origin country=masked_negative<br>Loop flow value normalized per origin=%{x}<br>Destination of loop flow=%{y}<extra></extra>",
         "legendgroup": "masked_negative",
         "marker": {
          "color": "#479B55",
          "pattern": {
           "shape": ""
          }
         },
         "name": "masked_negative",
         "offsetgroup": "masked_negative",
         "orientation": "h",
         "showlegend": true,
         "textposition": "auto",
         "texttemplate": "%{x:.2f}",
         "type": "bar",
         "x": [
          -0.062144293444039565,
          -0.08874578933708592,
          -0.06953716054008248,
          -0.041958836178108264,
          -0.06528846740040332,
          -0.0343789598912267,
          -0.08178771316226158,
          -0.04521222728867767,
          -0.061804848948156826,
          -0.1403730842788707,
          -0.10250511207700819,
          -0.049071579822913984,
          -0.10673112294442064,
          -0.09391487014952149,
          -0.09081676295948005,
          -0.03827880083432117,
          -0.017930497940858336,
          0,
          -0.052243626221761943,
          -0.10247670642467491
         ],
         "xaxis": "x",
         "y": [
          "ID",
          "JO",
          "GR",
          "OM",
          "DZ",
          "BE",
          "KE",
          "AZ",
          "IQ",
          "CL",
          "PN",
          "GU",
          "RW",
          "KG",
          "AG",
          "CD",
          "ES",
          "LV",
          "HN",
          "RS"
         ],
         "yaxis": "y"
        }
       ],
       "layout": {
        "barmode": "relative",
        "height": 1000,
        "legend": {
         "title": {
          "text": "Origin country"
         },
         "tracegroupgap": 0
        },
        "margin": {
         "t": 60
        },
        "template": {
         "data": {
          "bar": [
           {
            "error_x": {
             "color": "#2a3f5f"
            },
            "error_y": {
             "color": "#2a3f5f"
            },
            "marker": {
             "line": {
              "color": "#E5ECF6",
              "width": 0.5
             },
             "pattern": {
              "fillmode": "overlay",
              "size": 10,
              "solidity": 0.2
             }
            },
            "type": "bar"
           }
          ],
          "barpolar": [
           {
            "marker": {
             "line": {
              "color": "#E5ECF6",
              "width": 0.5
             },
             "pattern": {
              "fillmode": "overlay",
              "size": 10,
              "solidity": 0.2
             }
            },
            "type": "barpolar"
           }
          ],
          "carpet": [
           {
            "aaxis": {
             "endlinecolor": "#2a3f5f",
             "gridcolor": "white",
             "linecolor": "white",
             "minorgridcolor": "white",
             "startlinecolor": "#2a3f5f"
            },
            "baxis": {
             "endlinecolor": "#2a3f5f",
             "gridcolor": "white",
             "linecolor": "white",
             "minorgridcolor": "white",
             "startlinecolor": "#2a3f5f"
            },
            "type": "carpet"
           }
          ],
          "choropleth": [
           {
            "colorbar": {
             "outlinewidth": 0,
             "ticks": ""
            },
            "type": "choropleth"
           }
          ],
          "contour": [
           {
            "colorbar": {
             "outlinewidth": 0,
             "ticks": ""
            },
            "colorscale": [
             [
              0,
              "#0d0887"
             ],
             [
              0.1111111111111111,
              "#46039f"
             ],
             [
              0.2222222222222222,
              "#7201a8"
             ],
             [
              0.3333333333333333,
              "#9c179e"
             ],
             [
              0.4444444444444444,
              "#bd3786"
             ],
             [
              0.5555555555555556,
              "#d8576b"
             ],
             [
              0.6666666666666666,
              "#ed7953"
             ],
             [
              0.7777777777777778,
              "#fb9f3a"
             ],
             [
              0.8888888888888888,
              "#fdca26"
             ],
             [
              1,
              "#f0f921"
             ]
            ],
            "type": "contour"
           }
          ],
          "contourcarpet": [
           {
            "colorbar": {
             "outlinewidth": 0,
             "ticks": ""
            },
            "type": "contourcarpet"
           }
          ],
          "heatmap": [
           {
            "colorbar": {
             "outlinewidth": 0,
             "ticks": ""
            },
            "colorscale": [
             [
              0,
              "#0d0887"
             ],
             [
              0.1111111111111111,
              "#46039f"
             ],
             [
              0.2222222222222222,
              "#7201a8"
             ],
             [
              0.3333333333333333,
              "#9c179e"
             ],
             [
              0.4444444444444444,
              "#bd3786"
             ],
             [
              0.5555555555555556,
              "#d8576b"
             ],
             [
              0.6666666666666666,
              "#ed7953"
             ],
             [
              0.7777777777777778,
              "#fb9f3a"
             ],
             [
              0.8888888888888888,
              "#fdca26"
             ],
             [
              1,
              "#f0f921"
             ]
            ],
            "type": "heatmap"
           }
          ],
          "heatmapgl": [
           {
            "colorbar": {
             "outlinewidth": 0,
             "ticks": ""
            },
            "colorscale": [
             [
              0,
              "#0d0887"
             ],
             [
              0.1111111111111111,
              "#46039f"
             ],
             [
              0.2222222222222222,
              "#7201a8"
             ],
             [
              0.3333333333333333,
              "#9c179e"
             ],
             [
              0.4444444444444444,
              "#bd3786"
             ],
             [
              0.5555555555555556,
              "#d8576b"
             ],
             [
              0.6666666666666666,
              "#ed7953"
             ],
             [
              0.7777777777777778,
              "#fb9f3a"
             ],
             [
              0.8888888888888888,
              "#fdca26"
             ],
             [
              1,
              "#f0f921"
             ]
            ],
            "type": "heatmapgl"
           }
          ],
          "histogram": [
           {
            "marker": {
             "pattern": {
              "fillmode": "overlay",
              "size": 10,
              "solidity": 0.2
             }
            },
            "type": "histogram"
           }
          ],
          "histogram2d": [
           {
            "colorbar": {
             "outlinewidth": 0,
             "ticks": ""
            },
            "colorscale": [
             [
              0,
              "#0d0887"
             ],
             [
              0.1111111111111111,
              "#46039f"
             ],
             [
              0.2222222222222222,
              "#7201a8"
             ],
             [
              0.3333333333333333,
              "#9c179e"
             ],
             [
              0.4444444444444444,
              "#bd3786"
             ],
             [
              0.5555555555555556,
              "#d8576b"
             ],
             [
              0.6666666666666666,
              "#ed7953"
             ],
             [
              0.7777777777777778,
              "#fb9f3a"
             ],
             [
              0.8888888888888888,
              "#fdca26"
             ],
             [
              1,
              "#f0f921"
             ]
            ],
            "type": "histogram2d"
           }
          ],
          "histogram2dcontour": [
           {
            "colorbar": {
             "outlinewidth": 0,
             "ticks": ""
            },
            "colorscale": [
             [
              0,
              "#0d0887"
             ],
             [
              0.1111111111111111,
              "#46039f"
             ],
             [
              0.2222222222222222,
              "#7201a8"
             ],
             [
              0.3333333333333333,
              "#9c179e"
             ],
             [
              0.4444444444444444,
              "#bd3786"
             ],
             [
              0.5555555555555556,
              "#d8576b"
             ],
             [
              0.6666666666666666,
              "#ed7953"
             ],
             [
              0.7777777777777778,
              "#fb9f3a"
             ],
             [
              0.8888888888888888,
              "#fdca26"
             ],
             [
              1,
              "#f0f921"
             ]
            ],
            "type": "histogram2dcontour"
           }
          ],
          "mesh3d": [
           {
            "colorbar": {
             "outlinewidth": 0,
             "ticks": ""
            },
            "type": "mesh3d"
           }
          ],
          "parcoords": [
           {
            "line": {
             "colorbar": {
              "outlinewidth": 0,
              "ticks": ""
             }
            },
            "type": "parcoords"
           }
          ],
          "pie": [
           {
            "automargin": true,
            "type": "pie"
           }
          ],
          "scatter": [
           {
            "fillpattern": {
             "fillmode": "overlay",
             "size": 10,
             "solidity": 0.2
            },
            "type": "scatter"
           }
          ],
          "scatter3d": [
           {
            "line": {
             "colorbar": {
              "outlinewidth": 0,
              "ticks": ""
             }
            },
            "marker": {
             "colorbar": {
              "outlinewidth": 0,
              "ticks": ""
             }
            },
            "type": "scatter3d"
           }
          ],
          "scattercarpet": [
           {
            "marker": {
             "colorbar": {
              "outlinewidth": 0,
              "ticks": ""
             }
            },
            "type": "scattercarpet"
           }
          ],
          "scattergeo": [
           {
            "marker": {
             "colorbar": {
              "outlinewidth": 0,
              "ticks": ""
             }
            },
            "type": "scattergeo"
           }
          ],
          "scattergl": [
           {
            "marker": {
             "colorbar": {
              "outlinewidth": 0,
              "ticks": ""
             }
            },
            "type": "scattergl"
           }
          ],
          "scattermapbox": [
           {
            "marker": {
             "colorbar": {
              "outlinewidth": 0,
              "ticks": ""
             }
            },
            "type": "scattermapbox"
           }
          ],
          "scatterpolar": [
           {
            "marker": {
             "colorbar": {
              "outlinewidth": 0,
              "ticks": ""
             }
            },
            "type": "scatterpolar"
           }
          ],
          "scatterpolargl": [
           {
            "marker": {
             "colorbar": {
              "outlinewidth": 0,
              "ticks": ""
             }
            },
            "type": "scatterpolargl"
           }
          ],
          "scatterternary": [
           {
            "marker": {
             "colorbar": {
              "outlinewidth": 0,
              "ticks": ""
             }
            },
            "type": "scatterternary"
           }
          ],
          "surface": [
           {
            "colorbar": {
             "outlinewidth": 0,
             "ticks": ""
            },
            "colorscale": [
             [
              0,
              "#0d0887"
             ],
             [
              0.1111111111111111,
              "#46039f"
             ],
             [
              0.2222222222222222,
              "#7201a8"
             ],
             [
              0.3333333333333333,
              "#9c179e"
             ],
             [
              0.4444444444444444,
              "#bd3786"
             ],
             [
              0.5555555555555556,
              "#d8576b"
             ],
             [
              0.6666666666666666,
              "#ed7953"
             ],
             [
              0.7777777777777778,
              "#fb9f3a"
             ],
             [
              0.8888888888888888,
              "#fdca26"
             ],
             [
              1,
              "#f0f921"
             ]
            ],
            "type": "surface"
           }
          ],
          "table": [
           {
            "cells": {
             "fill": {
              "color": "#EBF0F8"
             },
             "line": {
              "color": "white"
             }
            },
            "header": {
             "fill": {
              "color": "#C8D4E3"
             },
             "line": {
              "color": "white"
             }
            },
            "type": "table"
           }
          ]
         },
         "layout": {
          "annotationdefaults": {
           "arrowcolor": "#2a3f5f",
           "arrowhead": 0,
           "arrowwidth": 1
          },
          "autotypenumbers": "strict",
          "coloraxis": {
           "colorbar": {
            "outlinewidth": 0,
            "ticks": ""
           }
          },
          "colorscale": {
           "diverging": [
            [
             0,
             "#8e0152"
            ],
            [
             0.1,
             "#c51b7d"
            ],
            [
             0.2,
             "#de77ae"
            ],
            [
             0.3,
             "#f1b6da"
            ],
            [
             0.4,
             "#fde0ef"
            ],
            [
             0.5,
             "#f7f7f7"
            ],
            [
             0.6,
             "#e6f5d0"
            ],
            [
             0.7,
             "#b8e186"
            ],
            [
             0.8,
             "#7fbc41"
            ],
            [
             0.9,
             "#4d9221"
            ],
            [
             1,
             "#276419"
            ]
           ],
           "sequential": [
            [
             0,
             "#0d0887"
            ],
            [
             0.1111111111111111,
             "#46039f"
            ],
            [
             0.2222222222222222,
             "#7201a8"
            ],
            [
             0.3333333333333333,
             "#9c179e"
            ],
            [
             0.4444444444444444,
             "#bd3786"
            ],
            [
             0.5555555555555556,
             "#d8576b"
            ],
            [
             0.6666666666666666,
             "#ed7953"
            ],
            [
             0.7777777777777778,
             "#fb9f3a"
            ],
            [
             0.8888888888888888,
             "#fdca26"
            ],
            [
             1,
             "#f0f921"
            ]
           ],
           "sequentialminus": [
            [
             0,
             "#0d0887"
            ],
            [
             0.1111111111111111,
             "#46039f"
            ],
            [
             0.2222222222222222,
             "#7201a8"
            ],
            [
             0.3333333333333333,
             "#9c179e"
            ],
            [
             0.4444444444444444,
             "#bd3786"
            ],
            [
             0.5555555555555556,
             "#d8576b"
            ],
            [
             0.6666666666666666,
             "#ed7953"
            ],
            [
             0.7777777777777778,
             "#fb9f3a"
            ],
            [
             0.8888888888888888,
             "#fdca26"
            ],
            [
             1,
             "#f0f921"
            ]
           ]
          },
          "colorway": [
           "#636efa",
           "#EF553B",
           "#00cc96",
           "#ab63fa",
           "#FFA15A",
           "#19d3f3",
           "#FF6692",
           "#B6E880",
           "#FF97FF",
           "#FECB52"
          ],
          "font": {
           "color": "#2a3f5f"
          },
          "geo": {
           "bgcolor": "white",
           "lakecolor": "white",
           "landcolor": "#E5ECF6",
           "showlakes": true,
           "showland": true,
           "subunitcolor": "white"
          },
          "hoverlabel": {
           "align": "left"
          },
          "hovermode": "closest",
          "mapbox": {
           "style": "light"
          },
          "paper_bgcolor": "white",
          "plot_bgcolor": "#E5ECF6",
          "polar": {
           "angularaxis": {
            "gridcolor": "white",
            "linecolor": "white",
            "ticks": ""
           },
           "bgcolor": "#E5ECF6",
           "radialaxis": {
            "gridcolor": "white",
            "linecolor": "white",
            "ticks": ""
           }
          },
          "scene": {
           "xaxis": {
            "backgroundcolor": "#E5ECF6",
            "gridcolor": "white",
            "gridwidth": 2,
            "linecolor": "white",
            "showbackground": true,
            "ticks": "",
            "zerolinecolor": "white"
           },
           "yaxis": {
            "backgroundcolor": "#E5ECF6",
            "gridcolor": "white",
            "gridwidth": 2,
            "linecolor": "white",
            "showbackground": true,
            "ticks": "",
            "zerolinecolor": "white"
           },
           "zaxis": {
            "backgroundcolor": "#E5ECF6",
            "gridcolor": "white",
            "gridwidth": 2,
            "linecolor": "white",
            "showbackground": true,
            "ticks": "",
            "zerolinecolor": "white"
           }
          },
          "shapedefaults": {
           "line": {
            "color": "#2a3f5f"
           }
          },
          "ternary": {
           "aaxis": {
            "gridcolor": "white",
            "linecolor": "white",
            "ticks": ""
           },
           "baxis": {
            "gridcolor": "white",
            "linecolor": "white",
            "ticks": ""
           },
           "bgcolor": "#E5ECF6",
           "caxis": {
            "gridcolor": "white",
            "linecolor": "white",
            "ticks": ""
           }
          },
          "title": {
           "x": 0.05
          },
          "xaxis": {
           "automargin": true,
           "gridcolor": "white",
           "linecolor": "white",
           "ticks": "",
           "title": {
            "standoff": 15
           },
           "zerolinecolor": "white",
           "zerolinewidth": 2
          },
          "yaxis": {
           "automargin": true,
           "gridcolor": "white",
           "linecolor": "white",
           "ticks": "",
           "title": {
            "standoff": 15
           },
           "zerolinecolor": "white",
           "zerolinewidth": 2
          }
         }
        },
        "xaxis": {
         "anchor": "y",
         "domain": [
          0,
          1
         ],
         "title": {
          "text": "Loop flow value normalized per origin"
         }
        },
        "yaxis": {
         "anchor": "x",
         "domain": [
          0,
          1
         ],
         "title": {
          "text": "Destination of loop flow"
         }
        }
       }
      }
     },
     "metadata": {},
     "output_type": "display_data"
    }
   ],
   "source": [
    "threshold = .03\n",
    "df = df_lf_per_country.copy().transpose()\n",
    "df_p = df[[c for c in df.columns if ('loop_flow_from' in c)]]\n",
    "df_m = df_p.div(df_p.abs().sum(axis=1), axis=0)\n",
    "df_s = df_m[df_m < 0].sum(axis=1)\n",
    "df_m = df_m.reindex(df_s.sort_values(ascending=False).index)\n",
    "df_n = df_m.abs() > threshold\n",
    "df_f = df_m[df_n]\n",
    "df_f['masked_positive'] = df_m[df_p[df_n == False]>0].sum(axis=1)\n",
    "df_f['masked_negative'] = df_m[df_p[df_n == False]<0].sum(axis=1)\n",
    "fig = px.bar(df_f,\n",
    "    orientation='h',\n",
    "    color_discrete_sequence=colors[:df_f.columns.size],\n",
    "    text_auto='.2f',\n",
    "    height=1000,\n",
    "    labels={\n",
    "        'index':'Destination of loop flow',\n",
    "        'value': 'Loop flow value normalized per origin',\n",
    "        'variable': 'Origin country',\n",
    "    }\n",
    "    )\n",
    "fig.show()"
   ]
  },
  {
   "cell_type": "markdown",
   "metadata": {},
   "source": [
    "# Loop flow heat map"
   ]
  },
  {
   "cell_type": "code",
   "execution_count": 30,
   "metadata": {},
   "outputs": [
    {
     "data": {
      "application/vnd.plotly.v1+json": {
       "config": {
        "plotlyServerURL": "https://plot.ly"
       },
       "data": [
        {
         "coloraxis": "coloraxis",
         "customdata": [
          [
           1383.781126148386,
           618.1464006471754,
           222.65805513163127,
           91.07861696576796,
           848.7897703480497,
           1413.349746257404,
           214.74076797590982,
           8.657297877494873,
           18.25061524767016,
           802.306087041407,
           -17.141499069777524,
           -172.93189726937052,
           7.660224504399575,
           143.04224722935103,
           -270.2469264900647,
           798.8690254204764,
           197.38384781670808,
           -68.25795050345658,
           629.7134887037712,
           -33.0994606149009
          ],
          [
           735.4646435135417,
           910.7847312423726,
           333.73410518878444,
           4.081009782140217,
           396.82632879622963,
           -97.33506048149604,
           249.36087659934356,
           -13.544665945910637,
           -40.37308262234629,
           894.2790801473118,
           -22.121979924186235,
           -89.98325507636494,
           -27.55397415406962,
           114.83905943251034,
           567.1415479900824,
           664.1438785748873,
           240.50016503515673,
           326.0872720368378,
           566.9465621508862,
           -216.46136668746362
          ],
          [
           -123.02256808377427,
           599.9890018959953,
           392.33548970008036,
           362.4278757035358,
           169.48150316764105,
           435.46231941550803,
           26.936100350228877,
           -31.829199347944318,
           -65.5741548618333,
           -152.62256939120147,
           -2.8377728438852188,
           824.3769116547809,
           473.8137670262657,
           141.2847705927453,
           -20.336568843461052,
           -148.3865441795491,
           58.215268439135514,
           -73.40378779918002,
           -93.2358650797963,
           -21.17165056848568
          ],
          [
           -144.8917816376481,
           -109.27919336131819,
           126.6426768292096,
           724.3430391429025,
           -50.973081957118296,
           371.6001523384375,
           -5.386689987640601,
           12.04087929740554,
           45.19062100442281,
           -272.27326620737995,
           -0.24851699641781977,
           183.06374226207774,
           31.727099920749247,
           -93.96245951461246,
           253.60331696768455,
           -218.3301638342652,
           437.8803952861113,
           59.26077088014138,
           -144.39775164773002,
           83.32303742373858
          ],
          [
           28.988092899151503,
           976.4931704960427,
           117.21219752718046,
           52.559428727126104,
           1568.2376236130008,
           409.17684832366245,
           459.05082691721935,
           4.060985090298496,
           161.55072167231106,
           -118.07296543133471,
           3.653144451262314,
           49.06062295185957,
           9.649798160609539,
           66.94529576861738,
           -391.2266045172071,
           99.12123574343957,
           -29.516665485731785,
           -181.13748383480043,
           -92.33518841913852,
           68.15798533893634
          ],
          [
           711.4505544695057,
           380.6999016123309,
           248.94806323645705,
           101.68041350477866,
           -56.074720754125195,
           639.8036834357791,
           -273.634333708151,
           194.0378112094632,
           -16.7528921179316,
           825.1619425589167,
           -33.756583068019836,
           93.2573330678361,
           -18.38148078626694,
           162.19195305197715,
           -106.90097789120978,
           591.933735129732,
           138.29307956827518,
           95.77995769555761,
           245.77343074650622,
           -20.903502601416378
          ],
          [
           289.8776397836274,
           82.80859736140991,
           101.10644393397115,
           33.14097864710464,
           -223.5523974604918,
           42.91764397024804,
           40.069679584413606,
           10.260752411319562,
           19.877173417834523,
           348.7151241128361,
           33.75477026493183,
           28.13106626554559,
           -5.993756396212086,
           68.47578400113167,
           -113.69377436456998,
           245.7198260535763,
           77.29449609246038,
           154.69473432149323,
           58.21805080707597,
           -38.7352272441492
          ],
          [
           -317.9325733629851,
           -1058.104288756601,
           24.9084906390773,
           -95.58508655331497,
           -242.66255018066943,
           -19.588364901260768,
           -95.14822346403682,
           510.87933710180715,
           43.65276153814421,
           -545.7141608899638,
           24.63309751099569,
           185.74403391009616,
           29.619218049897185,
           -112.8157928074744,
           363.4017107374557,
           -391.09522856026456,
           -61.185888520785994,
           126.10417113814174,
           -133.60337538342046,
           65.18117985133756
          ],
          [
           128.44836692442243,
           284.7859808258326,
           -39.71299586118298,
           52.46490583494537,
           197.73546461095754,
           32.43159774215664,
           72.90838141285468,
           -4.299309944253953,
           132.45318282659952,
           268.8975515505226,
           13.943718971722294,
           -37.33227243834741,
           -4.60599947990346,
           44.58750690660887,
           -39.55202529924024,
           153.35222643190735,
           23.942762091420068,
           -14.044993171958481,
           112.9702959980871,
           253.84679016774754
          ],
          [
           -170.52202871756862,
           24.460355770201858,
           123.17445303160035,
           167.83475859274157,
           -90.20600518213296,
           116.39795051430124,
           392.0490013433913,
           17.67974852698082,
           29.933360957086464,
           514.7165919001848,
           194.95936028012292,
           38.811633373818864,
           19.697299683136748,
           -70.11364015750428,
           462.5069108883846,
           -250.59876605142728,
           77.95893137797543,
           92.83008194998992,
           -152.3285399787019,
           21.67130645991314
          ],
          [
           529.7437632343348,
           240.86270095740733,
           573.7886973519298,
           -779.8259612715196,
           111.64801824120013,
           147.47712322305364,
           119.4636793907244,
           -11.811987432695599,
           1002.596080297376,
           237.33577306873218,
           1403.9344762080814,
           -373.70821125291667,
           294.388888209913,
           80.8429924289981,
           -106.3721766155438,
           61.73938713097195,
           -130.26657075432186,
           956.688582227576,
           180.634309410519,
           384.7081429068463
          ],
          [
           33.2034786741822,
           67.8435489654702,
           176.39177863376216,
           -40.14572502634369,
           -108.74640812482306,
           180.07299558815947,
           52.20251929617032,
           25.00324339971405,
           12.826812427281899,
           -7.306950933665206,
           -30.25911836629662,
           495.96939778609294,
           24.472567633496485,
           -49.358773197003536,
           247.87676459362552,
           45.68346570234993,
           14.985205624272282,
           8.229685461582985,
           257.59577312882783,
           41.15283489251438
          ],
          [
           -496.8989579201195,
           -213.23075419199668,
           -162.4241171235799,
           264.7819736628396,
           -114.27794562643462,
           160.5026663899403,
           -84.45262351370357,
           79.0366413268058,
           -374.3905181289898,
           -284.8019325759343,
           31.224356111101073,
           202.2145002118173,
           288.54229276413827,
           -68.09676511894816,
           100.7791295722665,
           -283.1285112784342,
           18.807747467878198,
           -245.2147464896767,
           -86.69030975893489,
           -38.5530526622219
          ],
          [
           255.51866109704915,
           1078.8847028162263,
           -268.0391838188856,
           -5.195466905924757,
           9.766796636498821,
           -400.44495039073445,
           -170.28657930298965,
           -58.270533479357766,
           -14.02739628659781,
           -588.3345378466802,
           125.25904273254355,
           -14.091627896852572,
           -33.16967243826047,
           1073.7693354862472,
           26.608957518186934,
           -173.70510921060583,
           -130.60889297188604,
           -74.24229004885245,
           -902.6196290993581,
           4.00941123138513
          ],
          [
           193.15073577209213,
           14.263256236208864,
           183.93907607116603,
           138.57912820494712,
           307.49387164895165,
           -82.90139549691386,
           0.267258160508419,
           0.749612436013156,
           21.924856331795258,
           394.8551771597756,
           -15.809881456539276,
           -56.02772356992595,
           -22.823808377692714,
           99.09683825421615,
           880.4979034174568,
           151.81407700582926,
           446.939170564293,
           71.70234226044651,
           39.999656586488086,
           357.397968354486
          ],
          [
           -130.13486493687927,
           -117.7115007173022,
           -63.70932534976002,
           -42.405408143920376,
           -77.16920336215809,
           -77.50704984786589,
           -38.955121393796226,
           81.08361977494286,
           5.887669391372791,
           -86.55243675171013,
           0.5539683913509479,
           93.34740258395576,
           6.063449517080887,
           42.08909169257235,
           67.74789432760357,
           179.36112868150227,
           -25.910918051808036,
           -57.19537218767304,
           -54.714628109594564,
           12.084907796968668
          ],
          [
           -405.6587238352207,
           -85.73168079500778,
           256.8704459664452,
           165.40279854413035,
           -133.33663164516767,
           308.12324862802177,
           -74.59981313361376,
           27.413569181883993,
           14.933329007601694,
           -375.82761209829596,
           92.92391599800368,
           207.4336214651595,
           -0.20151095001138053,
           -80.2926174116783,
           229.06560328463274,
           -144.7158277079227,
           615.1186698037072,
           66.82310875833488,
           -85.13043874032228,
           -11.288775354434481
          ],
          [
           53.83373579498626,
           29.99924439527493,
           -17.973149074245775,
           -20.767554084992714,
           45.09399892438618,
           28.7878044229644,
           19.744760776075008,
           -6.601547600922206,
           -13.144072695250468,
           30.665595611749044,
           0.8619261859969072,
           24.5158023941067,
           -4.3134671690157855,
           -10.938274817332722,
           -37.496801680842985,
           41.09596810009917,
           2.9998884741879266,
           32.49754887437918,
           11.301033306075253,
           -22.447344110631132
          ],
          [
           58.231973699401635,
           16.831466428282425,
           60.66978075729764,
           -3.0773853029174054,
           -13.207228480239827,
           22.192864654697964,
           7.336524535455959,
           5.959169792086292,
           -16.3084804133979,
           162.36829920687174,
           -4.83167276473506,
           22.858877944821664,
           8.877896409637609,
           -5.806384093665326,
           90.05805540110863,
           19.76102892763526,
           33.91517676745684,
           49.207700774222985,
           172.61474829739723,
           -2.4540180726932
          ],
          [
           69.8877612921755,
           5.8550443168684705,
           36.85929359311039,
           -9.160388659147543,
           -28.996023882518365,
           -51.56802129191696,
           -76.38894870780452,
           -9.272879514277937,
           0.5394044649800969,
           67.17126605334306,
           -0.5940291537288296,
           1.628562941157452,
           7.308313385673889,
           -2.7122818736014955,
           -143.364882543709,
           78.75932257203183,
           17.511402633580882,
           47.866428446445546,
           0.6413577446963004,
           -70.90611209003822
          ]
         ],
         "hovertemplate": "Destination country: %{x}<br>Source country: %{y}<br>Loop flow: %{customdata}<extra></extra>",
         "name": "0",
         "type": "heatmap",
         "x": [
          "AG",
          "AZ",
          "BE",
          "CD",
          "CL",
          "DZ",
          "ES",
          "GR",
          "GU",
          "HN",
          "ID",
          "IQ",
          "JO",
          "KE",
          "KG",
          "LV",
          "OM",
          "PN",
          "RS",
          "RW"
         ],
         "xaxis": "x",
         "y": [
          "AG",
          "AZ",
          "BE",
          "CD",
          "CL",
          "DZ",
          "ES",
          "GR",
          "GU",
          "HN",
          "ID",
          "IQ",
          "JO",
          "KE",
          "KG",
          "LV",
          "OM",
          "PN",
          "RS",
          "RW"
         ],
         "yaxis": "y",
         "z": [
          [
           3.141381135698167,
           2.7917933525347887,
           2.349584544074611,
           1.9641587875043798,
           2.929311498807939,
           3.150556816877967,
           2.333932220364518,
           0.9848556273416064,
           1.284444614073002,
           2.9048810578366506,
           -1.258673170862628,
           -2.240379234318805,
           0.9375291506499215,
           2.1584898882594645,
           -2.4333648258760614,
           2.9030188792495224,
           2.2975063095034662,
           -1.840469635665519,
           2.7998321190969726,
           -1.5327475093788658
          ],
          [
           2.8671519018975227,
           2.9598923152264334,
           2.5246999637491876,
           0.7059500310302382,
           2.5996935220577333,
           -1.9927083892347297,
           2.398566463497936,
           -1.1627037510548077,
           -1.616717880479733,
           2.9519584365171125,
           -1.3640250197715227,
           -1.9589614703749556,
           -1.4556665620763556,
           2.063855022567428,
           2.754456550240175,
           2.822915598554911,
           2.3829174318735906,
           2.514663644731171,
           2.7543074750512213,
           -2.3373821131309285
          ],
          [
           -2.0935007198593842,
           2.7788665244826323,
           2.5947631335075108,
           2.5604182355750003,
           2.231677265979573,
           2.63994675622879,
           1.4461657820724538,
           -1.5162602911055256,
           -1.8233056619127521,
           -2.1864550245627634,
           -0.5840792654576272,
           2.916652316151321,
           2.6765233026516775,
           2.1531584179937218,
           -1.3291245813415027,
           -2.174311480667133,
           1.7724337023969234,
           -1.8715950454707284,
           -1.9742162217084676,
           -1.345798025369895
          ],
          [
           -2.1640308279459024,
           -2.0424935807923723,
           2.105995903324393,
           2.8605434476364477,
           -1.7157784708594943,
           2.5712430281225673,
           -0.8052758358503894,
           1.115306875225405,
           1.6645538011073626,
           -2.4365971475854336,
           -0.09639445890220688,
           2.2649682475680164,
           1.5149075224415762,
           -1.9775519542594215,
           2.405864057335619,
           -2.341098363031521,
           2.6423461814163502,
           1.7800346830434488,
           -2.162557690879733,
           1.925946241993354
          ],
          [
           1.4769488475631098,
           2.9901137317699567,
           2.072662290804462,
           1.7288359361148047,
           3.1956887121082986,
           2.6129711437723944,
           2.662805815660409,
           0.7042350578757453,
           2.210988901962608,
           -2.0758131695706257,
           0.6677465348913934,
           1.6994962496443933,
           1.0273413769236612,
           1.8321593934827247,
           -2.593537048289314,
           2.0005262012362746,
           -1.4845370771117117,
           -2.2603993326559344,
           -1.9700454085388661,
           1.8398423332293137
          ],
          [
           2.852754728798164,
           2.5817220480045684,
           2.397849775899658,
           2.0114876089522884,
           -1.7564437953223395,
           2.8067249994732406,
           -2.438754830089013,
           2.2901188144792592,
           -1.249269113928767,
           2.9170651851729574,
           -1.5410370742310107,
           1.97431514759943,
           -1.2873869550025168,
           2.212698740010468,
           -2.0330253806498417,
           2.77300616035322,
           2.1439295401140583,
           1.9857854279338998,
           2.3922983988728155,
           -1.3405135686682528
          ],
          [
           2.4637103376381835,
           1.9232885722710957,
           2.009053151260807,
           1.53327596595697,
           -2.351317696220394,
           1.642639033669589,
           1.6135213146076357,
           1.0515674098019268,
           1.3196716987299235,
           2.5437144146275648,
           1.541014422093185,
           1.4643563811181515,
           -0.8447105010611071,
           1.8418334562834384,
           -2.0595398448193762,
           2.392204050177613,
           1.8937312333135239,
           2.192273924746734,
           1.77245410825992,
           -1.5991757010725005
          ],
          [
           -2.5036988770647595,
           -3.024938726681155,
           1.4134421128617947,
           -1.984910073334638,
           -2.38678878523852,
           -1.313621856935797,
           -1.9829412641658293,
           2.7091675988532655,
           1.6498483228816985,
           -2.7377603230532936,
           1.4088010896275012,
           2.271246735888708,
           1.48599409554085,
           -2.0562025279049876,
           2.561580407165102,
           -2.593391557366373,
           -1.7936918439696274,
           2.104159802895111,
           -2.129055950616143,
           1.8207345053194204
          ],
          [
           2.1120965758973056,
           2.4560409207484675,
           -1.6097330610654474,
           1.7280688062591665,
           2.2982753744600846,
           1.524157132620713,
           1.8686936913711787,
           -0.7242193211264614,
           2.125328936066916,
           2.4311989447531803,
           1.174458691716728,
           -1.58356456614141,
           -0.7486530531326034,
           1.6588458421184245,
           -1.6080125491592447,
           2.1885128982827595,
           1.3969445443567092,
           -1.1773919949753067,
           2.0567916762042673,
           2.40627916795724
          ],
          [
           -2.2343199047642788,
           1.4058644679726238,
           2.094032255674461,
           2.227461861193914,
           -1.960023434069675,
           2.0696605152412464,
           2.5944466971602504,
           1.2713710253159318,
           1.4904271093280206,
           2.7124111039775496,
           2.2921660130088997,
           1.600009995988631,
           1.3159136880070967,
           -1.8519529098293437,
           2.6660562138598367,
           -2.4007085068115055,
           1.8974012620046778,
           1.972342095633143,
           -2.1856230002662245,
           1.355476547562891
          ],
          [
           2.7248848994770802,
           2.383568898467846,
           2.759508219577098,
           -2.892554244527394,
           2.051723555807015,
           2.1716595444051157,
           2.0808561239406944,
           -1.1076165039916568,
           3.0015589564403564,
           2.3771892327801507,
           3.1476560699458402,
           -2.5736932102081767,
           2.4703941542126104,
           1.9129815001230002,
           -2.0308917570822707,
           1.797540271981474,
           -2.118154139757267,
           2.9812243096972084,
           2.259197887028069,
           2.5862588076038695
          ],
          [
           1.53407027834188,
           1.8378632506211194,
           2.2489334882311742,
           -1.614324719404556,
           -2.0403903151820755,
           2.257853686418274,
           1.7259321979063231,
           1.415027521153418,
           1.1407220713023463,
           -0.9194416452429688,
           -1.4949767249930883,
           2.696329646717597,
           1.40607272403137,
           -1.7020751416053752,
           2.395984352294361,
           1.6691630898655294,
           1.2037182271521194,
           0.9651869009580394,
           2.4126214218520765,
           1.6248267874251696
          ],
          [
           -2.6971412173178066,
           -2.3308818167158982,
           -2.2133161474278094,
           2.424525522113715,
           -2.0617462282929804,
           2.208179696876895,
           -1.931725400702563,
           1.9032888555283927,
           -2.5744832987161637,
           -2.456065161138739,
           1.5081842482848813,
           2.307954693460807,
           2.461712009074075,
           -1.8394577156249063,
           2.0076587324129096,
           -2.4535148158053572,
           1.2968350904859185,
           -2.3913140604852403,
           -1.94295160418998,
           -1.597180007509969
          ],
          [
           2.409118964444637,
           3.0333773891872355,
           -2.4298155367943437,
           -0.7920740414668352,
           1.0320865101662609,
           -2.603625999476024,
           -2.2337233363281,
           -1.7728388362334269,
           -1.1768837393148381,
           -2.770361893592514,
           2.1012624922814505,
           -1.178736088581975,
           -1.5336408155287065,
           3.031315266972991,
           1.4410500084992293,
           -2.2423056060105613,
           -2.1192852360722316,
           -1.8764620051192342,
           -2.955985656419357,
           0.6997866851513902
          ],
          [
           2.2881390407288555,
           1.1836471951233685,
           2.2670286836258646,
           2.14482048144538,
           2.4892465410257296,
           -1.9237691843277351,
           0.10286509654358685,
           0.2429418569481312,
           1.3603066226624925,
           2.597536329197973,
           -1.2255646508010185,
           -1.756086035783745,
           -1.3770111872564326,
           2.000420359692772,
           2.9452212836968132,
           2.184163362645158,
           2.6512190414938193,
           1.8615484028040281,
           1.612780219080276,
           2.5543655391180544
          ],
          [
           -2.1177181732816828,
           -2.074492795248714,
           -1.8109668719531948,
           -1.6375438442759849,
           -1.8930356859985435,
           -1.894908657669497,
           -1.60157245450138,
           1.9142564999804643,
           0.8380722927794583,
           -1.9422682378334517,
           0.19144218074451247,
           1.9747299483909047,
           0.8490168455794473,
           1.6343673393642701,
           1.8372594007436513,
           2.2561429444135,
           -1.4299285137441875,
           -1.7648884500576592,
           -1.7459692359854588,
           1.1167706667230297
          ],
          [
           -2.609230093426671,
           -1.9381777627736247,
           2.4114015713385237,
           2.221160625933389,
           -2.128194454605398,
           2.49013166883287,
           -1.8785207220205096,
           1.453525791225095,
           1.2023065239860775,
           -2.5761427182783856,
           1.972776191451131,
           2.318967774315919,
           -0.07972773311565709,
           -1.9100511069353698,
           2.361851692895831,
           -2.1635067275618667,
           2.7896643691080967,
           1.8313776923374934,
           -1.9351566594768865,
           -1.0895086051556344
          ],
          [
           1.739047835157217,
           1.4913511080613067,
           -1.2781394190312945,
           -1.33780963220745,
           1.6636443873490239,
           1.4740384937443751,
           1.3169084310073829,
           -0.8809020194015911,
           -1.1505744797861506,
           1.5005876612710662,
           0.2699624598624804,
           1.4068092301189088,
           -0.7253780014934454,
           -1.076941572065908,
           -1.5854246497667002,
           1.6242405016377663,
           0.602047882397961,
           1.5250130294464725,
           1.0899415943888155,
           -1.3700936571397946
          ],
          [
           1.7725562042343566,
           1.2511870602546173,
           1.7900724044654635,
           -0.6103817531554363,
           -1.1525093648286548,
           1.3653543936096262,
           0.9209850326933618,
           0.8425574326821936,
           -1.2382589409519351,
           2.2131677877215123,
           -0.7657931462329128,
           1.3776500154520601,
           0.9946644673652476,
           -0.832916453289418,
           1.959318371454428,
           1.3172488735753045,
           1.5430142451150206,
           1.7007703336242772,
           2.2395866150346992,
           -0.5383246056258799
          ],
          [
           1.8505712611057756,
           0.8360102667855196,
           1.5781725063135608,
           -1.0069103210674595,
           -1.4770636907088346,
           -1.7207216300871953,
           -1.8886789470150356,
           -1.011692194510415,
           0.18735274187878487,
           1.8336013596413334,
           -0.20249626008880967,
           0.41971838069630973,
           0.9195128695556469,
           -0.5696409447833752,
           -2.1594615618464066,
           1.9017814566817606,
           1.267439327069784,
           1.6890105984371586,
           0.21520324870374746,
           -1.856765807408724
          ]
         ]
        }
       ],
       "layout": {
        "coloraxis": {
         "cmid": 0,
         "colorbar": {
          "ticktext": [
           -1000,
           -100,
           -10,
           0,
           10,
           100,
           1000
          ],
          "tickvals": [
           -3,
           -2,
           -1,
           0,
           1,
           2,
           3
          ],
          "title": {
           "text": "Loop flow"
          }
         },
         "colorscale": [
          [
           0,
           "rgb(5,48,97)"
          ],
          [
           0.1,
           "rgb(33,102,172)"
          ],
          [
           0.2,
           "rgb(67,147,195)"
          ],
          [
           0.3,
           "rgb(146,197,222)"
          ],
          [
           0.4,
           "rgb(209,229,240)"
          ],
          [
           0.5,
           "rgb(247,247,247)"
          ],
          [
           0.6,
           "rgb(253,219,199)"
          ],
          [
           0.7,
           "rgb(244,165,130)"
          ],
          [
           0.8,
           "rgb(214,96,77)"
          ],
          [
           0.9,
           "rgb(178,24,43)"
          ],
          [
           1,
           "rgb(103,0,31)"
          ]
         ]
        },
        "height": 800,
        "margin": {
         "t": 60
        },
        "template": {
         "data": {
          "bar": [
           {
            "error_x": {
             "color": "#2a3f5f"
            },
            "error_y": {
             "color": "#2a3f5f"
            },
            "marker": {
             "line": {
              "color": "#E5ECF6",
              "width": 0.5
             },
             "pattern": {
              "fillmode": "overlay",
              "size": 10,
              "solidity": 0.2
             }
            },
            "type": "bar"
           }
          ],
          "barpolar": [
           {
            "marker": {
             "line": {
              "color": "#E5ECF6",
              "width": 0.5
             },
             "pattern": {
              "fillmode": "overlay",
              "size": 10,
              "solidity": 0.2
             }
            },
            "type": "barpolar"
           }
          ],
          "carpet": [
           {
            "aaxis": {
             "endlinecolor": "#2a3f5f",
             "gridcolor": "white",
             "linecolor": "white",
             "minorgridcolor": "white",
             "startlinecolor": "#2a3f5f"
            },
            "baxis": {
             "endlinecolor": "#2a3f5f",
             "gridcolor": "white",
             "linecolor": "white",
             "minorgridcolor": "white",
             "startlinecolor": "#2a3f5f"
            },
            "type": "carpet"
           }
          ],
          "choropleth": [
           {
            "colorbar": {
             "outlinewidth": 0,
             "ticks": ""
            },
            "type": "choropleth"
           }
          ],
          "contour": [
           {
            "colorbar": {
             "outlinewidth": 0,
             "ticks": ""
            },
            "colorscale": [
             [
              0,
              "#0d0887"
             ],
             [
              0.1111111111111111,
              "#46039f"
             ],
             [
              0.2222222222222222,
              "#7201a8"
             ],
             [
              0.3333333333333333,
              "#9c179e"
             ],
             [
              0.4444444444444444,
              "#bd3786"
             ],
             [
              0.5555555555555556,
              "#d8576b"
             ],
             [
              0.6666666666666666,
              "#ed7953"
             ],
             [
              0.7777777777777778,
              "#fb9f3a"
             ],
             [
              0.8888888888888888,
              "#fdca26"
             ],
             [
              1,
              "#f0f921"
             ]
            ],
            "type": "contour"
           }
          ],
          "contourcarpet": [
           {
            "colorbar": {
             "outlinewidth": 0,
             "ticks": ""
            },
            "type": "contourcarpet"
           }
          ],
          "heatmap": [
           {
            "colorbar": {
             "outlinewidth": 0,
             "ticks": ""
            },
            "colorscale": [
             [
              0,
              "#0d0887"
             ],
             [
              0.1111111111111111,
              "#46039f"
             ],
             [
              0.2222222222222222,
              "#7201a8"
             ],
             [
              0.3333333333333333,
              "#9c179e"
             ],
             [
              0.4444444444444444,
              "#bd3786"
             ],
             [
              0.5555555555555556,
              "#d8576b"
             ],
             [
              0.6666666666666666,
              "#ed7953"
             ],
             [
              0.7777777777777778,
              "#fb9f3a"
             ],
             [
              0.8888888888888888,
              "#fdca26"
             ],
             [
              1,
              "#f0f921"
             ]
            ],
            "type": "heatmap"
           }
          ],
          "heatmapgl": [
           {
            "colorbar": {
             "outlinewidth": 0,
             "ticks": ""
            },
            "colorscale": [
             [
              0,
              "#0d0887"
             ],
             [
              0.1111111111111111,
              "#46039f"
             ],
             [
              0.2222222222222222,
              "#7201a8"
             ],
             [
              0.3333333333333333,
              "#9c179e"
             ],
             [
              0.4444444444444444,
              "#bd3786"
             ],
             [
              0.5555555555555556,
              "#d8576b"
             ],
             [
              0.6666666666666666,
              "#ed7953"
             ],
             [
              0.7777777777777778,
              "#fb9f3a"
             ],
             [
              0.8888888888888888,
              "#fdca26"
             ],
             [
              1,
              "#f0f921"
             ]
            ],
            "type": "heatmapgl"
           }
          ],
          "histogram": [
           {
            "marker": {
             "pattern": {
              "fillmode": "overlay",
              "size": 10,
              "solidity": 0.2
             }
            },
            "type": "histogram"
           }
          ],
          "histogram2d": [
           {
            "colorbar": {
             "outlinewidth": 0,
             "ticks": ""
            },
            "colorscale": [
             [
              0,
              "#0d0887"
             ],
             [
              0.1111111111111111,
              "#46039f"
             ],
             [
              0.2222222222222222,
              "#7201a8"
             ],
             [
              0.3333333333333333,
              "#9c179e"
             ],
             [
              0.4444444444444444,
              "#bd3786"
             ],
             [
              0.5555555555555556,
              "#d8576b"
             ],
             [
              0.6666666666666666,
              "#ed7953"
             ],
             [
              0.7777777777777778,
              "#fb9f3a"
             ],
             [
              0.8888888888888888,
              "#fdca26"
             ],
             [
              1,
              "#f0f921"
             ]
            ],
            "type": "histogram2d"
           }
          ],
          "histogram2dcontour": [
           {
            "colorbar": {
             "outlinewidth": 0,
             "ticks": ""
            },
            "colorscale": [
             [
              0,
              "#0d0887"
             ],
             [
              0.1111111111111111,
              "#46039f"
             ],
             [
              0.2222222222222222,
              "#7201a8"
             ],
             [
              0.3333333333333333,
              "#9c179e"
             ],
             [
              0.4444444444444444,
              "#bd3786"
             ],
             [
              0.5555555555555556,
              "#d8576b"
             ],
             [
              0.6666666666666666,
              "#ed7953"
             ],
             [
              0.7777777777777778,
              "#fb9f3a"
             ],
             [
              0.8888888888888888,
              "#fdca26"
             ],
             [
              1,
              "#f0f921"
             ]
            ],
            "type": "histogram2dcontour"
           }
          ],
          "mesh3d": [
           {
            "colorbar": {
             "outlinewidth": 0,
             "ticks": ""
            },
            "type": "mesh3d"
           }
          ],
          "parcoords": [
           {
            "line": {
             "colorbar": {
              "outlinewidth": 0,
              "ticks": ""
             }
            },
            "type": "parcoords"
           }
          ],
          "pie": [
           {
            "automargin": true,
            "type": "pie"
           }
          ],
          "scatter": [
           {
            "fillpattern": {
             "fillmode": "overlay",
             "size": 10,
             "solidity": 0.2
            },
            "type": "scatter"
           }
          ],
          "scatter3d": [
           {
            "line": {
             "colorbar": {
              "outlinewidth": 0,
              "ticks": ""
             }
            },
            "marker": {
             "colorbar": {
              "outlinewidth": 0,
              "ticks": ""
             }
            },
            "type": "scatter3d"
           }
          ],
          "scattercarpet": [
           {
            "marker": {
             "colorbar": {
              "outlinewidth": 0,
              "ticks": ""
             }
            },
            "type": "scattercarpet"
           }
          ],
          "scattergeo": [
           {
            "marker": {
             "colorbar": {
              "outlinewidth": 0,
              "ticks": ""
             }
            },
            "type": "scattergeo"
           }
          ],
          "scattergl": [
           {
            "marker": {
             "colorbar": {
              "outlinewidth": 0,
              "ticks": ""
             }
            },
            "type": "scattergl"
           }
          ],
          "scattermapbox": [
           {
            "marker": {
             "colorbar": {
              "outlinewidth": 0,
              "ticks": ""
             }
            },
            "type": "scattermapbox"
           }
          ],
          "scatterpolar": [
           {
            "marker": {
             "colorbar": {
              "outlinewidth": 0,
              "ticks": ""
             }
            },
            "type": "scatterpolar"
           }
          ],
          "scatterpolargl": [
           {
            "marker": {
             "colorbar": {
              "outlinewidth": 0,
              "ticks": ""
             }
            },
            "type": "scatterpolargl"
           }
          ],
          "scatterternary": [
           {
            "marker": {
             "colorbar": {
              "outlinewidth": 0,
              "ticks": ""
             }
            },
            "type": "scatterternary"
           }
          ],
          "surface": [
           {
            "colorbar": {
             "outlinewidth": 0,
             "ticks": ""
            },
            "colorscale": [
             [
              0,
              "#0d0887"
             ],
             [
              0.1111111111111111,
              "#46039f"
             ],
             [
              0.2222222222222222,
              "#7201a8"
             ],
             [
              0.3333333333333333,
              "#9c179e"
             ],
             [
              0.4444444444444444,
              "#bd3786"
             ],
             [
              0.5555555555555556,
              "#d8576b"
             ],
             [
              0.6666666666666666,
              "#ed7953"
             ],
             [
              0.7777777777777778,
              "#fb9f3a"
             ],
             [
              0.8888888888888888,
              "#fdca26"
             ],
             [
              1,
              "#f0f921"
             ]
            ],
            "type": "surface"
           }
          ],
          "table": [
           {
            "cells": {
             "fill": {
              "color": "#EBF0F8"
             },
             "line": {
              "color": "white"
             }
            },
            "header": {
             "fill": {
              "color": "#C8D4E3"
             },
             "line": {
              "color": "white"
             }
            },
            "type": "table"
           }
          ]
         },
         "layout": {
          "annotationdefaults": {
           "arrowcolor": "#2a3f5f",
           "arrowhead": 0,
           "arrowwidth": 1
          },
          "autotypenumbers": "strict",
          "coloraxis": {
           "colorbar": {
            "outlinewidth": 0,
            "ticks": ""
           }
          },
          "colorscale": {
           "diverging": [
            [
             0,
             "#8e0152"
            ],
            [
             0.1,
             "#c51b7d"
            ],
            [
             0.2,
             "#de77ae"
            ],
            [
             0.3,
             "#f1b6da"
            ],
            [
             0.4,
             "#fde0ef"
            ],
            [
             0.5,
             "#f7f7f7"
            ],
            [
             0.6,
             "#e6f5d0"
            ],
            [
             0.7,
             "#b8e186"
            ],
            [
             0.8,
             "#7fbc41"
            ],
            [
             0.9,
             "#4d9221"
            ],
            [
             1,
             "#276419"
            ]
           ],
           "sequential": [
            [
             0,
             "#0d0887"
            ],
            [
             0.1111111111111111,
             "#46039f"
            ],
            [
             0.2222222222222222,
             "#7201a8"
            ],
            [
             0.3333333333333333,
             "#9c179e"
            ],
            [
             0.4444444444444444,
             "#bd3786"
            ],
            [
             0.5555555555555556,
             "#d8576b"
            ],
            [
             0.6666666666666666,
             "#ed7953"
            ],
            [
             0.7777777777777778,
             "#fb9f3a"
            ],
            [
             0.8888888888888888,
             "#fdca26"
            ],
            [
             1,
             "#f0f921"
            ]
           ],
           "sequentialminus": [
            [
             0,
             "#0d0887"
            ],
            [
             0.1111111111111111,
             "#46039f"
            ],
            [
             0.2222222222222222,
             "#7201a8"
            ],
            [
             0.3333333333333333,
             "#9c179e"
            ],
            [
             0.4444444444444444,
             "#bd3786"
            ],
            [
             0.5555555555555556,
             "#d8576b"
            ],
            [
             0.6666666666666666,
             "#ed7953"
            ],
            [
             0.7777777777777778,
             "#fb9f3a"
            ],
            [
             0.8888888888888888,
             "#fdca26"
            ],
            [
             1,
             "#f0f921"
            ]
           ]
          },
          "colorway": [
           "#636efa",
           "#EF553B",
           "#00cc96",
           "#ab63fa",
           "#FFA15A",
           "#19d3f3",
           "#FF6692",
           "#B6E880",
           "#FF97FF",
           "#FECB52"
          ],
          "font": {
           "color": "#2a3f5f"
          },
          "geo": {
           "bgcolor": "white",
           "lakecolor": "white",
           "landcolor": "#E5ECF6",
           "showlakes": true,
           "showland": true,
           "subunitcolor": "white"
          },
          "hoverlabel": {
           "align": "left"
          },
          "hovermode": "closest",
          "mapbox": {
           "style": "light"
          },
          "paper_bgcolor": "white",
          "plot_bgcolor": "#E5ECF6",
          "polar": {
           "angularaxis": {
            "gridcolor": "white",
            "linecolor": "white",
            "ticks": ""
           },
           "bgcolor": "#E5ECF6",
           "radialaxis": {
            "gridcolor": "white",
            "linecolor": "white",
            "ticks": ""
           }
          },
          "scene": {
           "xaxis": {
            "backgroundcolor": "#E5ECF6",
            "gridcolor": "white",
            "gridwidth": 2,
            "linecolor": "white",
            "showbackground": true,
            "ticks": "",
            "zerolinecolor": "white"
           },
           "yaxis": {
            "backgroundcolor": "#E5ECF6",
            "gridcolor": "white",
            "gridwidth": 2,
            "linecolor": "white",
            "showbackground": true,
            "ticks": "",
            "zerolinecolor": "white"
           },
           "zaxis": {
            "backgroundcolor": "#E5ECF6",
            "gridcolor": "white",
            "gridwidth": 2,
            "linecolor": "white",
            "showbackground": true,
            "ticks": "",
            "zerolinecolor": "white"
           }
          },
          "shapedefaults": {
           "line": {
            "color": "#2a3f5f"
           }
          },
          "ternary": {
           "aaxis": {
            "gridcolor": "white",
            "linecolor": "white",
            "ticks": ""
           },
           "baxis": {
            "gridcolor": "white",
            "linecolor": "white",
            "ticks": ""
           },
           "bgcolor": "#E5ECF6",
           "caxis": {
            "gridcolor": "white",
            "linecolor": "white",
            "ticks": ""
           }
          },
          "title": {
           "x": 0.05
          },
          "xaxis": {
           "automargin": true,
           "gridcolor": "white",
           "linecolor": "white",
           "ticks": "",
           "title": {
            "standoff": 15
           },
           "zerolinecolor": "white",
           "zerolinewidth": 2
          },
          "yaxis": {
           "automargin": true,
           "gridcolor": "white",
           "linecolor": "white",
           "ticks": "",
           "title": {
            "standoff": 15
           },
           "zerolinecolor": "white",
           "zerolinewidth": 2
          }
         }
        },
        "xaxis": {
         "anchor": "y",
         "constrain": "domain",
         "domain": [
          0,
          1
         ],
         "scaleanchor": "y",
         "title": {
          "text": "Destination country"
         }
        },
        "yaxis": {
         "anchor": "x",
         "autorange": "reversed",
         "constrain": "domain",
         "domain": [
          0,
          1
         ],
         "title": {
          "text": "Source country"
         }
        }
       }
      }
     },
     "metadata": {},
     "output_type": "display_data"
    }
   ],
   "source": [
    "df_matrix = df_lf_per_country.transpose().sort_index(axis=1).sort_index()\n",
    "df_matrix = df_matrix[[c for c in df_matrix.columns if ('loop_flow_from' in c)]].transpose()\n",
    "df_matrix.index = df_matrix.index.map(lambda c: c.split(\"_\")[-1].upper())\n",
    "fig = px.imshow(np.sign(df_matrix)*np.log10(df_matrix.abs()+1),\n",
    "    labels=dict(x=\"Destination country\", y=\"Source country\", color=\"Loop flow\"),\n",
    "    color_continuous_midpoint=0.0,\n",
    "    color_continuous_scale=\"RdBu_r\",\n",
    "    height=800)\n",
    "fig.update(data=[{'customdata': df_matrix,\n",
    "    'hovertemplate': 'Destination country: %{x}<br>Source country: %{y}<br>Loop flow: %{customdata}<extra></extra>'}])\n",
    "int_log_abs_max = int(np.log10(max(df_matrix.max().max(), abs(df_matrix.min().min()))))\n",
    "tickvals = np.arange(-int_log_abs_max, int_log_abs_max+1)\n",
    "fig.update_layout(coloraxis_colorbar=dict(\n",
    "    #title=\"Population\",\n",
    "    tickvals=tickvals,\n",
    "    ticktext=[np.sign(v)*10**abs(v) for v in tickvals],\n",
    "))\n",
    "fig.show()"
   ]
  },
  {
   "cell_type": "code",
   "execution_count": null,
   "metadata": {},
   "outputs": [],
   "source": []
  }
 ],
 "metadata": {
  "kernelspec": {
   "display_name": "Python 3.9.12 ('py39powsybl')",
   "language": "python",
   "name": "python3"
  },
  "language_info": {
   "codemirror_mode": {
    "name": "ipython",
    "version": 3
   },
   "file_extension": ".py",
   "mimetype": "text/x-python",
   "name": "python",
   "nbconvert_exporter": "python",
   "pygments_lexer": "ipython3",
   "version": "3.9.12"
  },
  "orig_nbformat": 4,
  "vscode": {
   "interpreter": {
    "hash": "6f165bd22a0c6739b02a0f15d38c1c28d76a892cc2ef1fbc8df4ef066b04d352"
   }
  }
 },
 "nbformat": 4,
 "nbformat_minor": 2
}
