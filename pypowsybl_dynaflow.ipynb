{
 "cells": [
  {
   "cell_type": "markdown",
   "metadata": {},
   "source": [
    "DynaFlow is a new steady-state simulation tool that aims at calculating the steady-state point by using a simplified time-domain simulation, guaranteeing the correctness of the solution found. \n",
    "This tutorial aims at illustrating the interest of Dynaflow compared to a fully static simulator."
   ]
  },
  {
   "cell_type": "markdown",
   "metadata": {},
   "source": [
    "The system is made of a generator, two phase shifter transformers in parallel, a transformer, five lines and a load.\n",
    "\n",
    "We simulate the opening of a line at t = 30s with different scenarios on the time constants of the phase shifters:\n",
    "1) The two phase shifters have the following time constants: t1st = 40s and tNext = 20s.\n",
    "2) One phase shifter has the following time constants: t1st = 20s and tNext= 10s, the other one: t1st = 40s and tNext = 20s."
   ]
  },
  {
   "cell_type": "markdown",
   "metadata": {},
   "source": [
    "## 1/ Dynaflow installing\n",
    "\n",
    "**For Windows**\n",
    "Follow [this link](https://github.com/dynawo/dynaflow-launcher/?tab=readme-ov-file#dynaflow-launcher-distribution) to install Dynaflow-launcher.\n",
    "\n",
    "**For Linux**\n",
    "You can launch the following commands to download the latest distribution:\n"
   ]
  },
  {
   "cell_type": "code",
   "metadata": {},
   "source": [
    "!curl -L $(curl -s -L -X GET https://api.github.com/repos/dynawo/dynaflow-launcher/releases/latest | grep \"DynaFlowLauncher_Linux\" | grep url | cut -d '\"' -f 4) -o DynaflowLauncher_Linux_latest.zip\n",
    "!unzip -o -q DynaflowLauncher_Linux_latest.zip\n",
    "!./dynaflow-launcher/dynaflow-launcher.sh help"
   ],
   "outputs": [],
   "execution_count": null
  },
  {
   "cell_type": "markdown",
   "metadata": {},
   "source": "## 2/ PowSyBl installing and setting of default parameter (path to dynaflow_launcher)"
  },
  {
   "cell_type": "code",
   "metadata": {},
   "source": [
    "CONFIG_DIR=\"$HOME/.itools\"\n",
    "!mkdir \"$CONFIG_DIR\"\n",
    "![ -e \"$CONFIG_DIR/config.yml\" ] && mv \"$CONFIG_DIR/config.yml\" \"$CONFIG_DIR/config.old.yml\"\n",
    "!cp data/dynaflow/config.yml \"$CONFIG_DIR/config.yml\"\n",
    "!sed -i \"s|WORKING_DIR|$(pwd)|g\" \"$CONFIG_DIR/config.yml\"\n",
    "!cat \"$CONFIG_DIR/config.yml\""
   ],
   "outputs": [],
   "execution_count": null
  },
  {
   "cell_type": "markdown",
   "metadata": {},
   "source": "## 3/ Notebook"
  },
  {
   "cell_type": "code",
   "metadata": {
    "ExecuteTime": {
     "end_time": "2025-09-26T14:44:50.307602Z",
     "start_time": "2025-09-26T14:44:49.815771Z"
    }
   },
   "source": [
    "import pypowsybl.network as pn\n",
    "import pypowsybl.loadflow as lf\n",
    "import os.path"
   ],
   "outputs": [],
   "execution_count": 3
  },
  {
   "cell_type": "code",
   "metadata": {
    "ExecuteTime": {
     "end_time": "2025-09-26T14:44:50.335754Z",
     "start_time": "2025-09-26T14:44:50.313646Z"
    }
   },
   "source": [
    "# Load initial situation\n",
    "network_file = 'data/dynaflow/PhaseShifters.iidm'\n",
    "network = pn.load(network_file)\n",
    "network.get_network_area_diagram()"
   ],
   "outputs": [
    {
     "data": {
      "text/plain": [
       "<pypowsybl.network.impl.svg.Svg at 0x70e565d93f10>"
      ],
      "image/svg+xml": "<?xml version=\"1.0\" encoding=\"UTF-8\"?>\n<svg width=\"507.28\" height=\"600.00\" viewBox=\"-573.82 -795.37 1075.04 1271.54\" xmlns=\"http://www.w3.org/2000/svg\">\n    <style><![CDATA[.nad-branch-edges .nad-edge-path, .nad-3wt-edges .nad-edge-path {stroke: var(--nad-vl-color, lightgrey); stroke-width: 5; fill: none}\n.nad-branch-edges .nad-winding, .nad-3wt-nodes .nad-winding {stroke: var(--nad-vl-color, lightgrey); stroke-width: 5; fill: none}\n.nad-text-edges {stroke: black; stroke-width: 3; stroke-dasharray: 6,7; fill: none}\n.nad-disconnected .nad-edge-path {stroke-dasharray: 10,10}\n.nad-injections .nad-disconnected .nad-edge-path, .nad-injections .nad-disconnected circle {stroke: lightgrey}\n.nad-injections .nad-edge-path {stroke: var(--nad-vl-color, lightgrey); stroke-width: 3; fill: none}\n.nad-injections circle {stroke: var(--nad-vl-color, lightgrey); stroke-width: 3; fill: none}\n.nad-vl-nodes .nad-busnode {fill: var(--nad-vl-color, lightgrey)}\n.nad-vl-nodes circle.nad-unknown-busnode {stroke: var(--nad-vl-color, #808080); stroke-width: 5; stroke-dasharray: 5,5; fill: none}\n.nad-hvdc-edge polyline.nad-hvdc {stroke: grey; stroke-width: 40}\n.nad-branch-edges .nad-tie-line-edge .nad-edge-path {stroke-width: 7}\n.nad-pst-arrow {stroke: #6a6a6a; stroke-width: 4; stroke-linecap: round; fill: none}\npath.nad-arrow-out:not(.nad-state-out .nad-arrow-out) {visibility: hidden}\npath.nad-arrow-in:not(.nad-state-in .nad-arrow-in) {visibility: hidden}\n.nad-active {fill: #546e7a}\n.nad-reactive {fill: #0277bd}\n.nad-current {fill: #bd4802}\n.nad-text-background {flood-color: #90a4aeaa}\n.nad-text-nodes {font: 25px serif; fill: black; dominant-baseline: central}\nforeignObject.nad-text-nodes {overflow: visible; color: black}\n.nad-label-box {background-color: #6c6c6c20; width: max-content; padding: 10px; border-radius: 10px;}\n.nad-legend-square {display: inline-block; margin-right: 10px; width: 20px; height: 20px; background: var(--nad-vl-color, black);}\n.nad-edge-infos text, .nad-edge-label text {font: 20px serif; dominant-baseline:middle; stroke: #FFFFFFAA; stroke-width: 10; stroke-linejoin:round; paint-order: stroke}\n.nad-disconnected {--nad-vl-color: #808080}\n:is(.nad-branch-edges, .nad-3wt-edges, .nad-3wt-nodes) .nad-vl0to30 {--nad-vl-color: #afb42b}\n.nad-vl0to30.nad-bus-0 {--nad-vl-color: #827717}\n.nad-vl0to30.nad-bus-1 {--nad-vl-color: #d4e157}\n.nad-vl0to30.nad-bus-2 {--nad-vl-color: #e6ee9c}\n.nad-vl0to30.nad-bus-3 {--nad-vl-color: #c0ca33}\n.nad-vl0to30.nad-bus-4 {--nad-vl-color: #f0fc83}\n.nad-vl0to30.nad-bus-5 {--nad-vl-color: #9e9d24}\n.nad-vl0to30.nad-bus-6 {--nad-vl-color: #cddc39}\n.nad-vl0to30.nad-bus-7 {--nad-vl-color: #dce775}\n.nad-vl0to30.nad-bus-8 {--nad-vl-color: #ddfc88}\n:is(.nad-branch-edges, .nad-3wt-edges, .nad-3wt-nodes) .nad-vl30to50 {--nad-vl-color: #ef9a9a}\n.nad-vl30to50.nad-bus-0 {--nad-vl-color: #c2185b}\n.nad-vl30to50.nad-bus-1 {--nad-vl-color: #f06292}\n.nad-vl30to50.nad-bus-2 {--nad-vl-color: #d81b60}\n.nad-vl30to50.nad-bus-3 {--nad-vl-color: #ec407a}\n.nad-vl30to50.nad-bus-4 {--nad-vl-color: #880e4f}\n.nad-vl30to50.nad-bus-5 {--nad-vl-color: #ad1457}\n.nad-vl30to50.nad-bus-6 {--nad-vl-color: #e91e63}\n.nad-vl30to50.nad-bus-7 {--nad-vl-color: #f48fb1}\n.nad-vl30to50.nad-bus-8 {--nad-vl-color: #f8bbd0}\n:is(.nad-branch-edges, .nad-3wt-edges, .nad-3wt-nodes) .nad-vl50to70 {--nad-vl-color: #9c27b0}\n.nad-vl50to70.nad-bus-0 {--nad-vl-color: #7b1fa2}\n.nad-vl50to70.nad-bus-1 {--nad-vl-color: #ba68c8}\n.nad-vl50to70.nad-bus-2 {--nad-vl-color: #512da8}\n.nad-vl50to70.nad-bus-3 {--nad-vl-color: #ab47bc}\n.nad-vl50to70.nad-bus-4 {--nad-vl-color: #e1bee7}\n.nad-vl50to70.nad-bus-5 {--nad-vl-color: #6a1b9a}\n.nad-vl50to70.nad-bus-6 {--nad-vl-color: #4a148c}\n.nad-vl50to70.nad-bus-7 {--nad-vl-color: #ce93d8}\n.nad-vl50to70.nad-bus-8 {--nad-vl-color: #9575cd}\n:is(.nad-branch-edges, .nad-3wt-edges, .nad-3wt-nodes) .nad-vl70to120 {--nad-vl-color: #e65100}\n.nad-vl70to120.nad-bus-0 {--nad-vl-color: #fb8c00}\n.nad-vl70to120.nad-bus-1 {--nad-vl-color: #ffb74d}\n.nad-vl70to120.nad-bus-2 {--nad-vl-color: #f57c00}\n.nad-vl70to120.nad-bus-3 {--nad-vl-color: #ffa726}\n.nad-vl70to120.nad-bus-4 {--nad-vl-color: #ffe0b2}\n.nad-vl70to120.nad-bus-5 {--nad-vl-color: #ef6c00}\n.nad-vl70to120.nad-bus-6 {--nad-vl-color: #ff9800}\n.nad-vl70to120.nad-bus-7 {--nad-vl-color: #ffcc80}\n.nad-vl70to120.nad-bus-8 {--nad-vl-color: #fff3e0}\n:is(.nad-branch-edges, .nad-3wt-edges, .nad-3wt-nodes) .nad-vl120to180 {--nad-vl-color: #00ACC1}\n.nad-vl120to180.nad-bus-0 {--nad-vl-color: #4fc3f7}\n.nad-vl120to180.nad-bus-1 {--nad-vl-color: #01579b}\n.nad-vl120to180.nad-bus-2 {--nad-vl-color: #b3e5fc}\n.nad-vl120to180.nad-bus-3 {--nad-vl-color: #039be5}\n.nad-vl120to180.nad-bus-4 {--nad-vl-color: #81d4fa}\n.nad-vl120to180.nad-bus-5 {--nad-vl-color: #0288d1}\n.nad-vl120to180.nad-bus-6 {--nad-vl-color: #29b6f6}\n.nad-vl120to180.nad-bus-7 {--nad-vl-color: #0277bd}\n.nad-vl120to180.nad-bus-8 {--nad-vl-color: #03a9f4}\n:is(.nad-branch-edges, .nad-3wt-edges, .nad-3wt-nodes) .nad-vl180to300 {--nad-vl-color: #2e7d32}\n.nad-vl180to300.nad-bus-0 {--nad-vl-color: #81c784}\n.nad-vl180to300.nad-bus-1 {--nad-vl-color: #558b2f}\n.nad-vl180to300.nad-bus-2 {--nad-vl-color: #c8e6c9}\n.nad-vl180to300.nad-bus-3 {--nad-vl-color: #43a047}\n.nad-vl180to300.nad-bus-4 {--nad-vl-color: #a5d6a7}\n.nad-vl180to300.nad-bus-5 {--nad-vl-color: #388e3c}\n.nad-vl180to300.nad-bus-6 {--nad-vl-color: #66bb6a}\n.nad-vl180to300.nad-bus-7 {--nad-vl-color: #1b5e20}\n.nad-vl180to300.nad-bus-8 {--nad-vl-color: #4caf50}\n:is(.nad-branch-edges, .nad-3wt-edges, .nad-3wt-nodes) .nad-vl300to500 {--nad-vl-color: #d32f2f}\n.nad-vl300to500.nad-bus-0 {--nad-vl-color: #ef5350}\n.nad-vl300to500.nad-bus-1 {--nad-vl-color: #ef9a9a}\n.nad-vl300to500.nad-bus-2 {--nad-vl-color: #b71c1c}\n.nad-vl300to500.nad-bus-3 {--nad-vl-color: #e57373}\n.nad-vl300to500.nad-bus-4 {--nad-vl-color: #e53935}\n.nad-vl300to500.nad-bus-5 {--nad-vl-color: #ff8a80}\n.nad-vl300to500.nad-bus-6 {--nad-vl-color: #f44336}\n.nad-vl300to500.nad-bus-7 {--nad-vl-color: #ffcdd2}\n.nad-vl300to500.nad-bus-8 {--nad-vl-color: #c62828}\n.nad-branch-edges .nad-overload .nad-edge-path {animation: line-blink 3s infinite}\n.nad-vl-nodes .nad-overvoltage {animation: node-over-blink 3s infinite}\n.nad-vl-nodes .nad-undervoltage {animation: node-under-blink 3s infinite}\n.nad-highlight {stroke-width: 25; opacity: 0.2; fill: none;}\n.nad-highlight-0 {stroke: #e6e600;}\n.nad-highlight-1 {stroke: #b300b3;}\n.nad-highlight-2 {stroke: #2eb82e;}\n.nad-highlight-3 {stroke: #e67300;}\n.nad-highlight-4 {stroke: #0000ff;}\n@keyframes line-blink {\n  0%, 80%, 100% {stroke: var(--nad-vl-color, black); stroke-width: 5}\n  40% {stroke: #FFEB3B; stroke-width: 15}\n}\n@keyframes node-over-blink {\n  0%, 80%, 100% {stroke: white; stroke-width: 0}\n  40% {stroke: #ff5722; stroke-width: 15}\n}\n@keyframes node-under-blink {\n  0%, 80%, 100% {stroke: white; stroke-width: 0}\n  40% {stroke: #00BCD4; stroke-width: 15}\n}\n.nad-load {stroke: var(--nad-vl-color, lightgrey); stroke-width: 3; fill: none}\n.nad-battery {stroke: var(--nad-vl-color, lightgrey); stroke-width: 3; fill: none}\n.nad-generator {stroke: var(--nad-vl-color, lightgrey); stroke-width: 3; stroke-linecap: round; fill: none}\n.nad-capacitor {stroke: var(--nad-vl-color, lightgrey); stroke-width: 3; fill: none}\n.nad-inductor {stroke: var(--nad-vl-color, lightgrey); stroke-width: 3; stroke-linejoin: round; stroke-linecap: round; fill: none}\n.nad-svc {stroke: var(--nad-vl-color, lightgrey); stroke-width: 3; stroke-linejoin:round; fill: none}\n.nad-disconnected .nad-load {stroke: lightgrey}\n.nad-disconnected .nad-battery {stroke: lightgrey}\n.nad-disconnected .nad-generator {stroke: lightgrey}\n.nad-disconnected .nad-capacitor {stroke: lightgrey}\n.nad-disconnected .nad-inductor {stroke: lightgrey}\n.nad-disconnected .nad-svc {stroke: lightgrey}\n.nad-unknown {stroke: none; fill: black}\n]]></style>\n    <g class=\"nad-vl-nodes\">\n        <g transform=\"translate(86.10,-555.37)\" id=\"0\">\n            <circle r=\"27.50\" id=\"1\" class=\"nad-vl300to500 nad-bus-0 nad-busnode\"/>\n        </g>\n        <g transform=\"translate(-373.82,276.17)\" id=\"2\">\n            <circle r=\"27.50\" id=\"3\" class=\"nad-vl50to70 nad-bus-0 nad-busnode\"/>\n        </g>\n        <g transform=\"translate(-55.59,85.32)\" id=\"4\">\n            <circle r=\"27.50\" id=\"5\" class=\"nad-vl50to70 nad-bus-0 nad-busnode\"/>\n        </g>\n        <g transform=\"translate(201.23,-204.65)\" id=\"6\">\n            <circle r=\"17.50\" id=\"7\" class=\"nad-vl300to500 nad-bus-0 nad-busnode\"/>\n            <path d=\"M14.825,-34.445 A37.500,37.500 156.784 0 1 -0.046,37.500 L2.964,22.304 A22.500,22.500 -141.505 0 0 11.563,-19.301 Z M-14.646,34.522 A37.500,37.500 157.379 0 1 0.241,-37.499 L-2.848,-22.319 A22.500,22.500 -142.100 0 0 -11.463,19.361 Z \" id=\"8\" class=\"nad-vl300to500 nad-bus-1 nad-busnode\"/>\n            <path d=\"M-37.495,-43.593 A57.500,57.500 45.053 0 1 4.365,-57.334 L1.273,-42.481 A42.500,42.500 -39.778 0 0 -26.202,-33.462 Z M19.005,-54.268 A57.500,57.500 164.756 0 1 -4.067,57.356 L-1.052,42.487 A42.500,42.500 -159.480 0 0 15.878,-39.423 Z M-18.723,54.366 A57.500,57.500 15.053 0 1 -32.200,47.638 L-22.155,36.269 A42.500,42.500 -9.778 0 0 -15.673,39.504 Z M-43.398,37.721 A57.500,57.500 75.351 0 1 -47.470,-32.447 L-36.153,-22.343 A42.500,42.500 -70.075 0 0 -33.326,26.375 Z \" id=\"9\" class=\"nad-vl300to500 nad-bus-2 nad-busnode\"/>\n        </g>\n    </g>\n    <g class=\"nad-branch-edges\">\n        <g id=\"10\">\n            <g id=\"10.1\" class=\"nad-vl300to500\">\n                <polyline class=\"nad-edge-path\" points=\"204.81,-221.78 217.62,-282.95 181.67,-392.49\"/>\n                <g class=\"nad-edge-infos\" transform=\"translate(208.27,-311.46)\">\n                    <g class=\"nad-active nad-state-out\">\n                        <g transform=\"rotate(-18.17)\">\n                            <path class=\"nad-arrow-in\" transform=\"scale(10.00)\" d=\"M-1 -1 H1 L0 1z\"/>\n                            <path class=\"nad-arrow-out\" transform=\"scale(10.00)\" d=\"M-1 1 H1 L0 -1z\"/>\n                        </g>\n                        <text transform=\"rotate(-288.17)\" x=\"-19.00\" style=\"text-anchor:end\">30</text>\n                    </g>\n                </g>\n            </g>\n            <g id=\"10.2\" class=\"nad-vl300to500\">\n                <polyline class=\"nad-edge-path\" points=\"106.59,-537.03 145.71,-502.02 181.67,-392.49\"/>\n                <g class=\"nad-edge-infos\" transform=\"translate(155.07,-473.52)\">\n                    <g class=\"nad-active nad-state-in\">\n                        <g transform=\"rotate(161.83)\">\n                            <path class=\"nad-arrow-in\" transform=\"scale(10.00)\" d=\"M-1 -1 H1 L0 1z\"/>\n                            <path class=\"nad-arrow-out\" transform=\"scale(10.00)\" d=\"M-1 1 H1 L0 -1z\"/>\n                        </g>\n                        <text transform=\"rotate(71.83)\" x=\"19.00\">-30</text>\n                    </g>\n                </g>\n            </g>\n        </g>\n        <g id=\"11\">\n            <g id=\"11.1\" class=\"nad-vl300to500\">\n                <polyline class=\"nad-edge-path\" points=\"193.05,-261.57 189.85,-283.84 156.86,-384.34\"/>\n                <g class=\"nad-edge-infos\" transform=\"translate(180.50,-312.34)\">\n                    <g class=\"nad-active nad-state-out\">\n                        <g transform=\"rotate(-18.17)\">\n                            <path class=\"nad-arrow-in\" transform=\"scale(10.00)\" d=\"M-1 -1 H1 L0 1z\"/>\n                            <path class=\"nad-arrow-out\" transform=\"scale(10.00)\" d=\"M-1 1 H1 L0 -1z\"/>\n                        </g>\n                        <text transform=\"rotate(-288.17)\" x=\"-19.00\" style=\"text-anchor:end\">20</text>\n                    </g>\n                </g>\n            </g>\n            <g id=\"11.2\" class=\"nad-vl300to500\">\n                <polyline class=\"nad-edge-path\" points=\"99.08,-531.13 123.87,-484.85 156.86,-384.34\"/>\n                <g class=\"nad-edge-infos\" transform=\"translate(133.23,-456.34)\">\n                    <g class=\"nad-active nad-state-in\">\n                        <g transform=\"rotate(161.83)\">\n                            <path class=\"nad-arrow-in\" transform=\"scale(10.00)\" d=\"M-1 -1 H1 L0 1z\"/>\n                            <path class=\"nad-arrow-out\" transform=\"scale(10.00)\" d=\"M-1 1 H1 L0 -1z\"/>\n                        </g>\n                        <text transform=\"rotate(71.83)\" x=\"19.00\">-20</text>\n                    </g>\n                </g>\n            </g>\n        </g>\n        <g id=\"12\">\n            <g id=\"12.1\" class=\"nad-vl300to500\">\n                <polyline class=\"nad-edge-path\" points=\"174.08,-255.34 163.46,-275.17 130.46,-375.68\"/>\n                <g class=\"nad-edge-infos\" transform=\"translate(154.10,-303.68)\">\n                    <g class=\"nad-active nad-state-out\">\n                        <g transform=\"rotate(-18.17)\">\n                            <path class=\"nad-arrow-in\" transform=\"scale(10.00)\" d=\"M-1 -1 H1 L0 1z\"/>\n                            <path class=\"nad-arrow-out\" transform=\"scale(10.00)\" d=\"M-1 1 H1 L0 -1z\"/>\n                        </g>\n                        <text transform=\"rotate(-288.17)\" x=\"-19.00\" style=\"text-anchor:end\">20</text>\n                    </g>\n                </g>\n            </g>\n            <g id=\"12.2\" class=\"nad-vl300to500\">\n                <polyline class=\"nad-edge-path\" points=\"90.01,-528.15 97.47,-476.18 130.46,-375.68\"/>\n                <g class=\"nad-edge-infos\" transform=\"translate(106.83,-447.68)\">\n                    <g class=\"nad-active nad-state-in\">\n                        <g transform=\"rotate(161.83)\">\n                            <path class=\"nad-arrow-in\" transform=\"scale(10.00)\" d=\"M-1 -1 H1 L0 1z\"/>\n                            <path class=\"nad-arrow-out\" transform=\"scale(10.00)\" d=\"M-1 1 H1 L0 -1z\"/>\n                        </g>\n                        <text transform=\"rotate(71.83)\" x=\"19.00\">-20</text>\n                    </g>\n                </g>\n            </g>\n        </g>\n        <g id=\"13\">\n            <g id=\"13.1\" class=\"nad-vl300to500\">\n                <polyline class=\"nad-edge-path\" points=\"173.28,-229.66 141.61,-258.00 105.66,-367.53\"/>\n                <g class=\"nad-edge-infos\" transform=\"translate(132.26,-286.51)\">\n                    <g class=\"nad-active nad-state-out\">\n                        <g transform=\"rotate(-18.17)\">\n                            <path class=\"nad-arrow-in\" transform=\"scale(10.00)\" d=\"M-1 -1 H1 L0 1z\"/>\n                            <path class=\"nad-arrow-out\" transform=\"scale(10.00)\" d=\"M-1 1 H1 L0 -1z\"/>\n                        </g>\n                        <text transform=\"rotate(-288.17)\" x=\"-19.00\" style=\"text-anchor:end\">30</text>\n                    </g>\n                </g>\n            </g>\n            <g id=\"13.2\" class=\"nad-vl300to500\">\n                <polyline class=\"nad-edge-path\" points=\"80.46,-528.45 69.70,-477.07 105.66,-367.53\"/>\n                <g class=\"nad-edge-infos\" transform=\"translate(79.06,-448.56)\">\n                    <g class=\"nad-active nad-state-in\">\n                        <g transform=\"rotate(161.83)\">\n                            <path class=\"nad-arrow-in\" transform=\"scale(10.00)\" d=\"M-1 -1 H1 L0 1z\"/>\n                            <path class=\"nad-arrow-out\" transform=\"scale(10.00)\" d=\"M-1 1 H1 L0 -1z\"/>\n                        </g>\n                        <text transform=\"rotate(71.83)\" x=\"19.00\">-30</text>\n                    </g>\n                </g>\n            </g>\n        </g>\n        <g id=\"14\">\n            <g id=\"14.1\" class=\"nad-vl50to70\">\n                <polyline class=\"nad-edge-path\" points=\"-350.23,262.02 -214.70,180.75\"/>\n                <g class=\"nad-edge-infos\" transform=\"translate(-322.36,245.31)\">\n                    <g class=\"nad-active nad-state-out\">\n                        <g transform=\"rotate(59.05)\">\n                            <path class=\"nad-arrow-in\" transform=\"scale(10.00)\" d=\"M-1 -1 H1 L0 1z\"/>\n                            <path class=\"nad-arrow-out\" transform=\"scale(10.00)\" d=\"M-1 1 H1 L0 -1z\"/>\n                        </g>\n                        <text transform=\"rotate(-30.95)\" x=\"19.00\">106</text>\n                    </g>\n                </g>\n            </g>\n            <g id=\"14.2\" class=\"nad-vl50to70\">\n                <polyline class=\"nad-edge-path\" points=\"-79.17,99.47 -214.70,180.75\"/>\n                <g class=\"nad-edge-infos\" transform=\"translate(-107.04,116.18)\">\n                    <g class=\"nad-active nad-state-in\">\n                        <g transform=\"rotate(-120.95)\">\n                            <path class=\"nad-arrow-in\" transform=\"scale(10.00)\" d=\"M-1 -1 H1 L0 1z\"/>\n                            <path class=\"nad-arrow-out\" transform=\"scale(10.00)\" d=\"M-1 1 H1 L0 -1z\"/>\n                        </g>\n                        <text transform=\"rotate(-30.95)\" x=\"-19.00\" style=\"text-anchor:end\">-100</text>\n                    </g>\n                </g>\n            </g>\n        </g>\n        <g id=\"15\">\n            <g id=\"15.1\" class=\"nad-vl50to70\">\n                <polyline class=\"nad-edge-path\" points=\"-29.50,76.61 20.29,59.98 82.87,-10.69\"/>\n                <g class=\"nad-edge-infos\" transform=\"translate(40.18,37.52)\">\n                    <g class=\"nad-active nad-state-out\">\n                        <g transform=\"rotate(41.53)\">\n                            <path class=\"nad-arrow-in\" transform=\"scale(10.00)\" d=\"M-1 -1 H1 L0 1z\"/>\n                            <path class=\"nad-arrow-out\" transform=\"scale(10.00)\" d=\"M-1 1 H1 L0 -1z\"/>\n                        </g>\n                        <text transform=\"rotate(-48.47)\" x=\"19.00\">30</text>\n                    </g>\n                </g>\n            </g>\n            <g id=\"15.2\" class=\"nad-vl300to500\">\n                <polyline class=\"nad-edge-path\" points=\"197.73,-187.50 185.24,-126.27 122.65,-55.60\"/>\n                <g class=\"nad-edge-infos\" transform=\"translate(165.35,-103.81)\">\n                    <g class=\"nad-active nad-state-in\">\n                        <g transform=\"rotate(-138.47)\">\n                            <path class=\"nad-arrow-in\" transform=\"scale(10.00)\" d=\"M-1 -1 H1 L0 1z\"/>\n                            <path class=\"nad-arrow-out\" transform=\"scale(10.00)\" d=\"M-1 1 H1 L0 -1z\"/>\n                        </g>\n                        <text transform=\"rotate(-48.47)\" x=\"-19.00\" style=\"text-anchor:end\">-30</text>\n                    </g>\n                </g>\n            </g>\n            <g>\n                <circle class=\"nad-vl50to70 nad-winding\" cx=\"96.13\" cy=\"-25.66\" r=\"20.00\"/>\n                <circle class=\"nad-vl300to500 nad-winding\" cx=\"109.39\" cy=\"-40.63\" r=\"20.00\"/>\n                <path d=\"M60.00,0 0,60.00 M52.00,0 60.00,0 60.00,8.00\" transform=\"matrix(0.66,-0.75,0.75,0.66,60.42,-30.58)\" class=\"nad-pst-arrow\"/>\n            </g>\n        </g>\n        <g id=\"16\">\n            <g id=\"16.1\" class=\"nad-vl50to70\">\n                <polyline class=\"nad-edge-path\" points=\"-37.35,64.74 49.61,-33.46\"/>\n                <g class=\"nad-edge-infos\" transform=\"translate(-15.81,40.41)\">\n                    <g class=\"nad-active nad-state-out\">\n                        <g transform=\"rotate(41.53)\">\n                            <path class=\"nad-arrow-in\" transform=\"scale(10.00)\" d=\"M-1 -1 H1 L0 1z\"/>\n                            <path class=\"nad-arrow-out\" transform=\"scale(10.00)\" d=\"M-1 1 H1 L0 -1z\"/>\n                        </g>\n                        <text transform=\"rotate(-48.47)\" x=\"19.00\">30</text>\n                    </g>\n                </g>\n            </g>\n            <g id=\"16.2\" class=\"nad-vl300to500\">\n                <polyline class=\"nad-edge-path\" points=\"176.36,-176.58 89.39,-78.38\"/>\n                <g class=\"nad-edge-infos\" transform=\"translate(141.56,-137.28)\">\n                    <g class=\"nad-active nad-state-in\">\n                        <g transform=\"rotate(-138.47)\">\n                            <path class=\"nad-arrow-in\" transform=\"scale(10.00)\" d=\"M-1 -1 H1 L0 1z\"/>\n                            <path class=\"nad-arrow-out\" transform=\"scale(10.00)\" d=\"M-1 1 H1 L0 -1z\"/>\n                        </g>\n                        <text transform=\"rotate(-48.47)\" x=\"-19.00\" style=\"text-anchor:end\">-30</text>\n                    </g>\n                </g>\n            </g>\n            <g>\n                <circle class=\"nad-vl50to70 nad-winding\" cx=\"62.87\" cy=\"-48.44\" r=\"20.00\"/>\n                <circle class=\"nad-vl300to500 nad-winding\" cx=\"76.13\" cy=\"-63.41\" r=\"20.00\"/>\n                <path d=\"M60.00,0 0,60.00 M52.00,0 60.00,0 60.00,8.00\" transform=\"matrix(0.66,-0.75,0.75,0.66,27.16,-53.35)\" class=\"nad-pst-arrow\"/>\n            </g>\n        </g>\n        <g id=\"17\">\n            <g id=\"17.1\" class=\"nad-vl50to70\">\n                <polyline class=\"nad-edge-path\" points=\"-50.09,58.38 -39.60,6.94 22.98,-63.73\"/>\n                <g class=\"nad-edge-infos\" transform=\"translate(-19.71,-15.52)\">\n                    <g class=\"nad-active nad-state-out\">\n                        <g transform=\"rotate(41.53)\">\n                            <path class=\"nad-arrow-in\" transform=\"scale(10.00)\" d=\"M-1 -1 H1 L0 1z\"/>\n                            <path class=\"nad-arrow-out\" transform=\"scale(10.00)\" d=\"M-1 1 H1 L0 -1z\"/>\n                        </g>\n                        <text transform=\"rotate(-48.47)\" x=\"19.00\">40</text>\n                    </g>\n                </g>\n            </g>\n            <g id=\"17.2\" class=\"nad-vl300to500\">\n                <polyline class=\"nad-edge-path\" points=\"146.69,-186.43 125.35,-179.31 62.77,-108.64\"/>\n                <g class=\"nad-edge-infos\" transform=\"translate(105.46,-156.85)\">\n                    <g class=\"nad-active nad-state-in\">\n                        <g transform=\"rotate(-138.47)\">\n                            <path class=\"nad-arrow-in\" transform=\"scale(10.00)\" d=\"M-1 -1 H1 L0 1z\"/>\n                            <path class=\"nad-arrow-out\" transform=\"scale(10.00)\" d=\"M-1 1 H1 L0 -1z\"/>\n                        </g>\n                        <text transform=\"rotate(-48.47)\" x=\"-19.00\" style=\"text-anchor:end\">-40</text>\n                    </g>\n                </g>\n            </g>\n            <g>\n                <circle class=\"nad-vl50to70 nad-winding\" cx=\"36.25\" cy=\"-78.70\" r=\"20.00\"/>\n                <circle class=\"nad-vl300to500 nad-winding\" cx=\"49.51\" cy=\"-93.67\" r=\"20.00\"/>\n            </g>\n        </g>\n    </g>\n    <g class=\"nad-text-edges\">\n        <polyline id=\"0-textedge\" points=\"115.77,-559.82 186.10,-570.37\"/>\n        <polyline id=\"2-textedge\" points=\"-344.15,271.72 -273.82,261.17\"/>\n        <polyline id=\"4-textedge\" points=\"-25.92,80.87 44.41,70.32\"/>\n        <polyline id=\"6-textedge\" points=\"260.56,-213.55 301.23,-219.65\"/>\n    </g>\n    <foreignObject height=\"1\" width=\"1\" class=\"nad-text-nodes\">\n        <div xmlns=\"http://www.w3.org/1999/xhtml\">\n            <div class=\"nad-label-box\" style=\"position: absolute; top: -595px; left: 186px\" id=\"0-textnode\">\n                <div>BUS   10_VL</div>\n                <div class=\"nad-bus-descr\">\n                    <span class=\"nad-vl300to500 nad-bus-0 nad-legend-square\"/>402.8 kV / -0.0°</div>\n            </div>\n            <div class=\"nad-label-box\" style=\"position: absolute; top: 236px; left: -274px\" id=\"2-textnode\">\n                <div>BUS    1_VL</div>\n                <div class=\"nad-bus-descr\">\n                    <span class=\"nad-vl50to70 nad-bus-0 nad-legend-square\"/>73.1 kV / 12.6°</div>\n            </div>\n            <div class=\"nad-label-box\" style=\"position: absolute; top: 45px; left: 44px\" id=\"4-textnode\">\n                <div>BUS    5_VL</div>\n                <div class=\"nad-bus-descr\">\n                    <span class=\"nad-vl50to70 nad-bus-0 nad-legend-square\"/>68.0 kV / 0.2°</div>\n            </div>\n            <div class=\"nad-label-box\" style=\"position: absolute; top: -245px; left: 301px\" id=\"6-textnode\">\n                <div>BUS    6_VL</div>\n                <div class=\"nad-bus-descr\">\n                    <span class=\"nad-vl300to500 nad-bus-0 nad-legend-square\"/>402.9 kV / 0.1°</div>\n                <div class=\"nad-bus-descr\">\n                    <span class=\"nad-vl300to500 nad-bus-1 nad-legend-square\"/>402.9 kV / 0.1°</div>\n                <div class=\"nad-bus-descr\">\n                    <span class=\"nad-vl300to500 nad-bus-2 nad-legend-square\"/>402.9 kV / 0.1°</div>\n            </div>\n        </div>\n    </foreignObject>\n</svg>\n"
     },
     "execution_count": 4,
     "metadata": {},
     "output_type": "execute_result"
    }
   ],
   "execution_count": 4
  },
  {
   "cell_type": "code",
   "metadata": {
    "ExecuteTime": {
     "end_time": "2025-09-26T14:44:50.397262Z",
     "start_time": "2025-09-26T14:44:50.373083Z"
    }
   },
   "source": [
    "# Initial tap positions\n",
    "network.get_phase_tap_changers()"
   ],
   "outputs": [
    {
     "data": {
      "text/plain": [
       "                        side  tap  solved_tap_position  low_tap  high_tap  \\\n",
       "id                                                                          \n",
       "_BUS____5-BUS____6-1_PS        13                  NaN        1        25   \n",
       "_BUS____5-BUS____7-2_PS        13                  NaN        1        25   \n",
       "\n",
       "                         step_count  oltc  regulating  regulation_mode  \\\n",
       "id                                                                       \n",
       "_BUS____5-BUS____6-1_PS          25  True        True  CURRENT_LIMITER   \n",
       "_BUS____5-BUS____7-2_PS          25  True        True  CURRENT_LIMITER   \n",
       "\n",
       "                         regulation_value  target_deadband regulating_bus_id  \n",
       "id                                                                            \n",
       "_BUS____5-BUS____6-1_PS             770.0              0.0    _BUS____5_VL_0  \n",
       "_BUS____5-BUS____7-2_PS             770.0              0.0    _BUS____5_VL_0  "
      ],
      "text/html": [
       "<div>\n",
       "<style scoped>\n",
       "    .dataframe tbody tr th:only-of-type {\n",
       "        vertical-align: middle;\n",
       "    }\n",
       "\n",
       "    .dataframe tbody tr th {\n",
       "        vertical-align: top;\n",
       "    }\n",
       "\n",
       "    .dataframe thead th {\n",
       "        text-align: right;\n",
       "    }\n",
       "</style>\n",
       "<table border=\"1\" class=\"dataframe\">\n",
       "  <thead>\n",
       "    <tr style=\"text-align: right;\">\n",
       "      <th></th>\n",
       "      <th>side</th>\n",
       "      <th>tap</th>\n",
       "      <th>solved_tap_position</th>\n",
       "      <th>low_tap</th>\n",
       "      <th>high_tap</th>\n",
       "      <th>step_count</th>\n",
       "      <th>oltc</th>\n",
       "      <th>regulating</th>\n",
       "      <th>regulation_mode</th>\n",
       "      <th>regulation_value</th>\n",
       "      <th>target_deadband</th>\n",
       "      <th>regulating_bus_id</th>\n",
       "    </tr>\n",
       "    <tr>\n",
       "      <th>id</th>\n",
       "      <th></th>\n",
       "      <th></th>\n",
       "      <th></th>\n",
       "      <th></th>\n",
       "      <th></th>\n",
       "      <th></th>\n",
       "      <th></th>\n",
       "      <th></th>\n",
       "      <th></th>\n",
       "      <th></th>\n",
       "      <th></th>\n",
       "      <th></th>\n",
       "    </tr>\n",
       "  </thead>\n",
       "  <tbody>\n",
       "    <tr>\n",
       "      <th>_BUS____5-BUS____6-1_PS</th>\n",
       "      <td></td>\n",
       "      <td>13</td>\n",
       "      <td>NaN</td>\n",
       "      <td>1</td>\n",
       "      <td>25</td>\n",
       "      <td>25</td>\n",
       "      <td>True</td>\n",
       "      <td>True</td>\n",
       "      <td>CURRENT_LIMITER</td>\n",
       "      <td>770.0</td>\n",
       "      <td>0.0</td>\n",
       "      <td>_BUS____5_VL_0</td>\n",
       "    </tr>\n",
       "    <tr>\n",
       "      <th>_BUS____5-BUS____7-2_PS</th>\n",
       "      <td></td>\n",
       "      <td>13</td>\n",
       "      <td>NaN</td>\n",
       "      <td>1</td>\n",
       "      <td>25</td>\n",
       "      <td>25</td>\n",
       "      <td>True</td>\n",
       "      <td>True</td>\n",
       "      <td>CURRENT_LIMITER</td>\n",
       "      <td>770.0</td>\n",
       "      <td>0.0</td>\n",
       "      <td>_BUS____5_VL_0</td>\n",
       "    </tr>\n",
       "  </tbody>\n",
       "</table>\n",
       "</div>"
      ]
     },
     "execution_count": 5,
     "metadata": {},
     "output_type": "execute_result"
    }
   ],
   "execution_count": 5
  },
  {
   "metadata": {
    "ExecuteTime": {
     "end_time": "2025-09-26T14:44:52.276724Z",
     "start_time": "2025-09-26T14:44:50.497441Z"
    }
   },
   "cell_type": "code",
   "source": [
    "# 1st Dynaflow simulation: identical time constants (defined in file \"setting-1.xml\")\n",
    "p = lf.Parameters(provider_parameters={'svcRegulationOn' : 'true',\n",
    "                                       'shuntRegulationOn' : 'true',\n",
    "                                       'automaticSlackBusOn' : 'true',\n",
    "                                       'dsoVoltageLevel' : '63.0',\n",
    "                                       'activePowerCompensation' : 'P',\n",
    "                                       'settingPath' : os.getcwd() + '/data/dynaflow/setting-1.xml',\n",
    "                                       'assemblingPath' : os.getcwd() + '/data/dynaflow/assembling.xml',\n",
    "                                       'stopTime' : '300',\n",
    "                                       'chosenOutputs' : 'STEADYSTATE, LOSTEQ, TIMELINE, CONSTRAINTS',\n",
    "                                       'timeStep' : '2.6'})\n",
    "lf.run_ac(network, parameters=p, provider='DynaFlow')\n",
    "network1 = network"
   ],
   "outputs": [],
   "execution_count": 6
  },
  {
   "cell_type": "code",
   "metadata": {
    "ExecuteTime": {
     "end_time": "2025-09-26T14:44:52.425033Z",
     "start_time": "2025-09-26T14:44:52.411767Z"
    }
   },
   "source": [
    "# Final tap positions after N-1 simulation with identical time constants\n",
    "network1.get_phase_tap_changers()"
   ],
   "outputs": [
    {
     "data": {
      "text/plain": [
       "                        side  tap  solved_tap_position  low_tap  high_tap  \\\n",
       "id                                                                          \n",
       "_BUS____5-BUS____6-1_PS        13                   18        1        25   \n",
       "_BUS____5-BUS____7-2_PS        13                   18        1        25   \n",
       "\n",
       "                         step_count  oltc  regulating  regulation_mode  \\\n",
       "id                                                                       \n",
       "_BUS____5-BUS____6-1_PS          25  True        True  CURRENT_LIMITER   \n",
       "_BUS____5-BUS____7-2_PS          25  True        True  CURRENT_LIMITER   \n",
       "\n",
       "                         regulation_value  target_deadband regulating_bus_id  \n",
       "id                                                                            \n",
       "_BUS____5-BUS____6-1_PS             770.0              0.0    _BUS____5_VL_0  \n",
       "_BUS____5-BUS____7-2_PS             770.0              0.0    _BUS____5_VL_0  "
      ],
      "text/html": [
       "<div>\n",
       "<style scoped>\n",
       "    .dataframe tbody tr th:only-of-type {\n",
       "        vertical-align: middle;\n",
       "    }\n",
       "\n",
       "    .dataframe tbody tr th {\n",
       "        vertical-align: top;\n",
       "    }\n",
       "\n",
       "    .dataframe thead th {\n",
       "        text-align: right;\n",
       "    }\n",
       "</style>\n",
       "<table border=\"1\" class=\"dataframe\">\n",
       "  <thead>\n",
       "    <tr style=\"text-align: right;\">\n",
       "      <th></th>\n",
       "      <th>side</th>\n",
       "      <th>tap</th>\n",
       "      <th>solved_tap_position</th>\n",
       "      <th>low_tap</th>\n",
       "      <th>high_tap</th>\n",
       "      <th>step_count</th>\n",
       "      <th>oltc</th>\n",
       "      <th>regulating</th>\n",
       "      <th>regulation_mode</th>\n",
       "      <th>regulation_value</th>\n",
       "      <th>target_deadband</th>\n",
       "      <th>regulating_bus_id</th>\n",
       "    </tr>\n",
       "    <tr>\n",
       "      <th>id</th>\n",
       "      <th></th>\n",
       "      <th></th>\n",
       "      <th></th>\n",
       "      <th></th>\n",
       "      <th></th>\n",
       "      <th></th>\n",
       "      <th></th>\n",
       "      <th></th>\n",
       "      <th></th>\n",
       "      <th></th>\n",
       "      <th></th>\n",
       "      <th></th>\n",
       "    </tr>\n",
       "  </thead>\n",
       "  <tbody>\n",
       "    <tr>\n",
       "      <th>_BUS____5-BUS____6-1_PS</th>\n",
       "      <td></td>\n",
       "      <td>13</td>\n",
       "      <td>18</td>\n",
       "      <td>1</td>\n",
       "      <td>25</td>\n",
       "      <td>25</td>\n",
       "      <td>True</td>\n",
       "      <td>True</td>\n",
       "      <td>CURRENT_LIMITER</td>\n",
       "      <td>770.0</td>\n",
       "      <td>0.0</td>\n",
       "      <td>_BUS____5_VL_0</td>\n",
       "    </tr>\n",
       "    <tr>\n",
       "      <th>_BUS____5-BUS____7-2_PS</th>\n",
       "      <td></td>\n",
       "      <td>13</td>\n",
       "      <td>18</td>\n",
       "      <td>1</td>\n",
       "      <td>25</td>\n",
       "      <td>25</td>\n",
       "      <td>True</td>\n",
       "      <td>True</td>\n",
       "      <td>CURRENT_LIMITER</td>\n",
       "      <td>770.0</td>\n",
       "      <td>0.0</td>\n",
       "      <td>_BUS____5_VL_0</td>\n",
       "    </tr>\n",
       "  </tbody>\n",
       "</table>\n",
       "</div>"
      ]
     },
     "execution_count": 7,
     "metadata": {},
     "output_type": "execute_result"
    }
   ],
   "execution_count": 7
  },
  {
   "cell_type": "code",
   "metadata": {
    "ExecuteTime": {
     "end_time": "2025-09-26T14:44:54.313691Z",
     "start_time": "2025-09-26T14:44:52.580837Z"
    }
   },
   "source": [
    "# 2nd Dynaflow simulation: different time constants (defined in file \"setting-2.xml\")\n",
    "network = pn.load(network_file)\n",
    "p = lf.Parameters(provider_parameters={'svcRegulationOn' : 'true',\n",
    "                                       'shuntRegulationOn' : 'true',\n",
    "                                       'automaticSlackBusOn' : 'true',\n",
    "                                       'dsoVoltageLevel' : '63.0',\n",
    "                                       'activePowerCompensation' : 'P',\n",
    "                                       'settingPath' : os.getcwd() + '/data/dynaflow//setting-2.xml',\n",
    "                                       'assemblingPath' : os.getcwd() + '/data/dynaflow/assembling.xml',\n",
    "                                       'stopTime' : '300',\n",
    "                                       'chosenOutputs' : 'STEADYSTATE, LOSTEQ, TIMELINE, CONSTRAINTS',\n",
    "                                       'timeStep' : '2.6'})\n",
    "lf.run_ac(network, parameters=p, provider='DynaFlow')\n",
    "network2 = network"
   ],
   "outputs": [],
   "execution_count": 8
  },
  {
   "cell_type": "code",
   "metadata": {
    "ExecuteTime": {
     "end_time": "2025-09-26T14:44:54.455940Z",
     "start_time": "2025-09-26T14:44:54.440486Z"
    }
   },
   "source": [
    "# Final tap positions after N-1 simulation with different time constants\n",
    "network2.get_phase_tap_changers()"
   ],
   "outputs": [
    {
     "data": {
      "text/plain": [
       "                        side  tap  solved_tap_position  low_tap  high_tap  \\\n",
       "id                                                                          \n",
       "_BUS____5-BUS____6-1_PS        13                   18        1        25   \n",
       "_BUS____5-BUS____7-2_PS        13                   17        1        25   \n",
       "\n",
       "                         step_count  oltc  regulating  regulation_mode  \\\n",
       "id                                                                       \n",
       "_BUS____5-BUS____6-1_PS          25  True        True  CURRENT_LIMITER   \n",
       "_BUS____5-BUS____7-2_PS          25  True        True  CURRENT_LIMITER   \n",
       "\n",
       "                         regulation_value  target_deadband regulating_bus_id  \n",
       "id                                                                            \n",
       "_BUS____5-BUS____6-1_PS             770.0              0.0    _BUS____5_VL_0  \n",
       "_BUS____5-BUS____7-2_PS             770.0              0.0    _BUS____5_VL_0  "
      ],
      "text/html": [
       "<div>\n",
       "<style scoped>\n",
       "    .dataframe tbody tr th:only-of-type {\n",
       "        vertical-align: middle;\n",
       "    }\n",
       "\n",
       "    .dataframe tbody tr th {\n",
       "        vertical-align: top;\n",
       "    }\n",
       "\n",
       "    .dataframe thead th {\n",
       "        text-align: right;\n",
       "    }\n",
       "</style>\n",
       "<table border=\"1\" class=\"dataframe\">\n",
       "  <thead>\n",
       "    <tr style=\"text-align: right;\">\n",
       "      <th></th>\n",
       "      <th>side</th>\n",
       "      <th>tap</th>\n",
       "      <th>solved_tap_position</th>\n",
       "      <th>low_tap</th>\n",
       "      <th>high_tap</th>\n",
       "      <th>step_count</th>\n",
       "      <th>oltc</th>\n",
       "      <th>regulating</th>\n",
       "      <th>regulation_mode</th>\n",
       "      <th>regulation_value</th>\n",
       "      <th>target_deadband</th>\n",
       "      <th>regulating_bus_id</th>\n",
       "    </tr>\n",
       "    <tr>\n",
       "      <th>id</th>\n",
       "      <th></th>\n",
       "      <th></th>\n",
       "      <th></th>\n",
       "      <th></th>\n",
       "      <th></th>\n",
       "      <th></th>\n",
       "      <th></th>\n",
       "      <th></th>\n",
       "      <th></th>\n",
       "      <th></th>\n",
       "      <th></th>\n",
       "      <th></th>\n",
       "    </tr>\n",
       "  </thead>\n",
       "  <tbody>\n",
       "    <tr>\n",
       "      <th>_BUS____5-BUS____6-1_PS</th>\n",
       "      <td></td>\n",
       "      <td>13</td>\n",
       "      <td>18</td>\n",
       "      <td>1</td>\n",
       "      <td>25</td>\n",
       "      <td>25</td>\n",
       "      <td>True</td>\n",
       "      <td>True</td>\n",
       "      <td>CURRENT_LIMITER</td>\n",
       "      <td>770.0</td>\n",
       "      <td>0.0</td>\n",
       "      <td>_BUS____5_VL_0</td>\n",
       "    </tr>\n",
       "    <tr>\n",
       "      <th>_BUS____5-BUS____7-2_PS</th>\n",
       "      <td></td>\n",
       "      <td>13</td>\n",
       "      <td>17</td>\n",
       "      <td>1</td>\n",
       "      <td>25</td>\n",
       "      <td>25</td>\n",
       "      <td>True</td>\n",
       "      <td>True</td>\n",
       "      <td>CURRENT_LIMITER</td>\n",
       "      <td>770.0</td>\n",
       "      <td>0.0</td>\n",
       "      <td>_BUS____5_VL_0</td>\n",
       "    </tr>\n",
       "  </tbody>\n",
       "</table>\n",
       "</div>"
      ]
     },
     "execution_count": 9,
     "metadata": {},
     "output_type": "execute_result"
    }
   ],
   "execution_count": 9
  },
  {
   "cell_type": "code",
   "metadata": {
    "ExecuteTime": {
     "end_time": "2025-09-26T14:44:54.575758Z",
     "start_time": "2025-09-26T14:44:54.564035Z"
    }
   },
   "source": [
    "print('Transits in transformers with identical time constants:')\n",
    "network1.get_2_windings_transformers()[['i1','i2']]"
   ],
   "outputs": [
    {
     "name": "stdout",
     "output_type": "stream",
     "text": [
      "Transits in transformers with identical time constants:\n"
     ]
    },
    {
     "data": {
      "text/plain": [
       "                                 i1         i2\n",
       "id                                            \n",
       "_BUS____5-BUS____6-1_PS  233.952319  39.468929\n",
       "_BUS____5-BUS____7-2_PS  233.952319  39.468929\n",
       "_BUS____5-BUS____8-1_PT  383.855389  64.758329"
      ],
      "text/html": [
       "<div>\n",
       "<style scoped>\n",
       "    .dataframe tbody tr th:only-of-type {\n",
       "        vertical-align: middle;\n",
       "    }\n",
       "\n",
       "    .dataframe tbody tr th {\n",
       "        vertical-align: top;\n",
       "    }\n",
       "\n",
       "    .dataframe thead th {\n",
       "        text-align: right;\n",
       "    }\n",
       "</style>\n",
       "<table border=\"1\" class=\"dataframe\">\n",
       "  <thead>\n",
       "    <tr style=\"text-align: right;\">\n",
       "      <th></th>\n",
       "      <th>i1</th>\n",
       "      <th>i2</th>\n",
       "    </tr>\n",
       "    <tr>\n",
       "      <th>id</th>\n",
       "      <th></th>\n",
       "      <th></th>\n",
       "    </tr>\n",
       "  </thead>\n",
       "  <tbody>\n",
       "    <tr>\n",
       "      <th>_BUS____5-BUS____6-1_PS</th>\n",
       "      <td>233.952319</td>\n",
       "      <td>39.468929</td>\n",
       "    </tr>\n",
       "    <tr>\n",
       "      <th>_BUS____5-BUS____7-2_PS</th>\n",
       "      <td>233.952319</td>\n",
       "      <td>39.468929</td>\n",
       "    </tr>\n",
       "    <tr>\n",
       "      <th>_BUS____5-BUS____8-1_PT</th>\n",
       "      <td>383.855389</td>\n",
       "      <td>64.758329</td>\n",
       "    </tr>\n",
       "  </tbody>\n",
       "</table>\n",
       "</div>"
      ]
     },
     "execution_count": 10,
     "metadata": {},
     "output_type": "execute_result"
    }
   ],
   "execution_count": 10
  },
  {
   "metadata": {
    "ExecuteTime": {
     "end_time": "2025-09-26T14:44:54.831940Z",
     "start_time": "2025-09-26T14:44:54.813348Z"
    }
   },
   "cell_type": "code",
   "source": [
    "print('\\nTransits in transformers with different time constants:')\n",
    "network2.get_2_windings_transformers()[['i1','i2']]"
   ],
   "outputs": [
    {
     "name": "stdout",
     "output_type": "stream",
     "text": [
      "\n",
      "Transits in transformers with different time constants:\n"
     ]
    },
    {
     "data": {
      "text/plain": [
       "                                 i1         i2\n",
       "id                                            \n",
       "_BUS____5-BUS____6-1_PS  223.959508  37.783092\n",
       "_BUS____5-BUS____7-2_PS  253.934704  42.840058\n",
       "_BUS____5-BUS____8-1_PT  373.860516  63.072144"
      ],
      "text/html": [
       "<div>\n",
       "<style scoped>\n",
       "    .dataframe tbody tr th:only-of-type {\n",
       "        vertical-align: middle;\n",
       "    }\n",
       "\n",
       "    .dataframe tbody tr th {\n",
       "        vertical-align: top;\n",
       "    }\n",
       "\n",
       "    .dataframe thead th {\n",
       "        text-align: right;\n",
       "    }\n",
       "</style>\n",
       "<table border=\"1\" class=\"dataframe\">\n",
       "  <thead>\n",
       "    <tr style=\"text-align: right;\">\n",
       "      <th></th>\n",
       "      <th>i1</th>\n",
       "      <th>i2</th>\n",
       "    </tr>\n",
       "    <tr>\n",
       "      <th>id</th>\n",
       "      <th></th>\n",
       "      <th></th>\n",
       "    </tr>\n",
       "  </thead>\n",
       "  <tbody>\n",
       "    <tr>\n",
       "      <th>_BUS____5-BUS____6-1_PS</th>\n",
       "      <td>223.959508</td>\n",
       "      <td>37.783092</td>\n",
       "    </tr>\n",
       "    <tr>\n",
       "      <th>_BUS____5-BUS____7-2_PS</th>\n",
       "      <td>253.934704</td>\n",
       "      <td>42.840058</td>\n",
       "    </tr>\n",
       "    <tr>\n",
       "      <th>_BUS____5-BUS____8-1_PT</th>\n",
       "      <td>373.860516</td>\n",
       "      <td>63.072144</td>\n",
       "    </tr>\n",
       "  </tbody>\n",
       "</table>\n",
       "</div>"
      ]
     },
     "execution_count": 11,
     "metadata": {},
     "output_type": "execute_result"
    }
   ],
   "execution_count": 11
  },
  {
   "cell_type": "markdown",
   "metadata": {},
   "source": [
    "The currents in both phase shifters are compared in both cases. Depending on the time constants of the phase shifter, the steady-state after the event is different.\n",
    "This cannot be captured by a fully static simulator, in which all the phase shifters are activated at the same time with an external loop."
   ]
  }
 ],
 "metadata": {
  "kernelspec": {
   "display_name": "Python 3",
   "language": "python",
   "name": "python3"
  },
  "language_info": {
   "codemirror_mode": {
    "name": "ipython",
    "version": 3
   },
   "file_extension": ".py",
   "mimetype": "text/x-python",
   "name": "python",
   "nbconvert_exporter": "python",
   "pygments_lexer": "ipython3",
   "version": "3.8.5"
  }
 },
 "nbformat": 4,
 "nbformat_minor": 4
}
