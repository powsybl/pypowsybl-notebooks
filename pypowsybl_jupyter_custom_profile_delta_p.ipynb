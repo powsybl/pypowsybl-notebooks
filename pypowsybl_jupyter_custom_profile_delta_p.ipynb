{
 "cells": [
  {
   "cell_type": "markdown",
   "id": "9d2327d2-fb68-4efb-9148-49a03addf193",
   "metadata": {},
   "source": [
    "## Comparing two network states on a diagram with pypowsybl-jupyter\n",
    "- This notebook demonstrates how to **compare two network snapshots** with the help of the **network explorer widget**.\n",
    "- It compares **active power flows** (P) on each branches between two network snapshots.\n",
    "- We will visualize differences by providing the widget a **custom styling** to apply on branches."
   ]
  },
  {
   "cell_type": "markdown",
   "id": "ef2b01ba-4465-4768-91f6-4e641ab1fde0",
   "metadata": {},
   "source": [
    "#### 1. Loading networks\n",
    "- We create two network snapshots based on IEEE 300 network.\n",
    "- We then run an AC loadflow on both snapshots."
   ]
  },
  {
   "cell_type": "code",
   "execution_count": null,
   "id": "80b8715a-0302-4e38-9cb7-5b2ca93447b1",
   "metadata": {
    "ExecuteTime": {
     "end_time": "2025-09-09T15:20:27.240991Z",
     "start_time": "2025-09-09T15:20:26.462571Z"
    }
   },
   "outputs": [],
   "source": [
    "import pypowsybl.network as pn\n",
    "network1 = pn.create_ieee300()\n",
    "network2 = pn.create_ieee300()"
   ]
  },
  {
   "cell_type": "code",
   "execution_count": null,
   "id": "f8dd39fe-cd52-43a4-a940-f65026ca3618",
   "metadata": {},
   "outputs": [],
   "source": [
    "network2.update_loads(id='B1-L', p0=140)\n",
    "network2.update_generators(id='B76-G', target_p=50)"
   ]
  },
  {
   "cell_type": "code",
   "execution_count": null,
   "id": "8aaf8d97-e530-40c3-88ce-af66cb8c701a",
   "metadata": {
    "ExecuteTime": {
     "end_time": "2025-09-09T15:20:48.856185Z",
     "start_time": "2025-09-09T15:20:48.297641Z"
    }
   },
   "outputs": [],
   "source": [
    "import pypowsybl.loadflow as lf\n",
    "lf.run_ac(network1)"
   ]
  },
  {
   "cell_type": "code",
   "execution_count": null,
   "id": "81c593c2eea322f4",
   "metadata": {
    "ExecuteTime": {
     "end_time": "2025-09-09T15:20:57.193785Z",
     "start_time": "2025-09-09T15:20:56.731289Z"
    }
   },
   "outputs": [],
   "source": [
    "lf.run_ac(network2)"
   ]
  },
  {
   "cell_type": "markdown",
   "id": "f9fbf9a1-414b-4912-bb4d-23a9e6b57978",
   "metadata": {},
   "source": [
    "#### 2. The widget!\n",
    "- Taking a first glance on the network_explorer widget"
   ]
  },
  {
   "cell_type": "code",
   "execution_count": null,
   "id": "7097ac23-42a7-490a-9149-8cd6dab5bb4e",
   "metadata": {
    "ExecuteTime": {
     "end_time": "2025-09-09T15:21:15.917968Z",
     "start_time": "2025-09-09T15:21:14.733321Z"
    }
   },
   "outputs": [],
   "source": [
    "from pypowsybl_jupyter import network_explorer\n",
    "network_explorer(network1, depth=2, vl_id='VL76')"
   ]
  },
  {
   "cell_type": "markdown",
   "id": "cf007b34-591f-4109-b697-70f6af15ffa7",
   "metadata": {},
   "source": [
    "#### 3. Compute branch flow differences\n",
    "We're constructing the dataframe containing the delta of p1 and p2"
   ]
  },
  {
   "cell_type": "markdown",
   "id": "258964c3-855f-4add-a0bb-b862d501aa44",
   "metadata": {},
   "source": [
    "- Getting the branches on first snapshot"
   ]
  },
  {
   "cell_type": "code",
   "execution_count": null,
   "id": "5a52b0b6-319d-4ccd-a360-085dafae7997",
   "metadata": {
    "ExecuteTime": {
     "end_time": "2025-09-09T15:43:18.105434Z",
     "start_time": "2025-09-09T15:43:18.091332Z"
    }
   },
   "outputs": [],
   "source": [
    "branches1 = network1.get_branches(attributes=['p1', 'p2'])\n",
    "branches1"
   ]
  },
  {
   "cell_type": "markdown",
   "id": "672a383b-ab26-42f8-ab0b-e148e0fc59a4",
   "metadata": {},
   "source": [
    "- Getting the branches on second snapshot"
   ]
  },
  {
   "cell_type": "code",
   "execution_count": null,
   "id": "db932a7729198d18",
   "metadata": {
    "ExecuteTime": {
     "end_time": "2025-09-09T15:46:18.732820Z",
     "start_time": "2025-09-09T15:46:18.715972Z"
    }
   },
   "outputs": [],
   "source": [
    "branches2 = network2.get_branches(attributes=['p1', 'p2'])\n",
    "branches2"
   ]
  },
  {
   "cell_type": "markdown",
   "id": "00358dbe-2d0d-4dd5-b6e7-eec112d4ded6",
   "metadata": {},
   "source": [
    "- constructing the `delta_p` dataframe"
   ]
  },
  {
   "cell_type": "code",
   "execution_count": null,
   "id": "e813d894-e96c-401d-8953-12071854777b",
   "metadata": {
    "ExecuteTime": {
     "end_time": "2025-09-09T17:10:49.380629Z",
     "start_time": "2025-09-09T17:10:49.362760Z"
    }
   },
   "outputs": [],
   "source": [
    "import pandas as pd\n",
    "delta_p = pd.DataFrame()\n",
    "branches1.fillna(0, inplace=True)\n",
    "branches2.fillna(0, inplace=True)\n",
    "delta_p['delta_p1'] = abs(branches2['p1']) - abs(branches1['p1'])\n",
    "delta_p['delta_p2'] = abs(branches2['p2']) - abs(branches1['p2'])\n",
    "delta_p"
   ]
  },
  {
   "cell_type": "markdown",
   "id": "bfea4302-1a33-435f-bb42-3f22e674bd62",
   "metadata": {},
   "source": [
    "- Looking at the extreme values for `delta_p1`"
   ]
  },
  {
   "cell_type": "code",
   "execution_count": null,
   "id": "93b3ede4f62cadce",
   "metadata": {
    "ExecuteTime": {
     "end_time": "2025-09-09T17:10:50.025436Z",
     "start_time": "2025-09-09T17:10:50.020846Z"
    }
   },
   "outputs": [],
   "source": [
    "delta_p['delta_p1'].min(), delta_p['delta_p1'].max()"
   ]
  },
  {
   "cell_type": "code",
   "execution_count": null,
   "id": "2f826c56-0485-4e32-a091-342b221ae40e",
   "metadata": {
    "ExecuteTime": {
     "end_time": "2025-09-09T17:10:51.321545Z",
     "start_time": "2025-09-09T17:10:51.310469Z"
    }
   },
   "outputs": [],
   "source": [
    "max_row = delta_p.loc[delta_p['delta_p1'].idxmax()]\n",
    "max_row"
   ]
  },
  {
   "cell_type": "code",
   "execution_count": null,
   "id": "29898eeb-dd0a-45be-a855-8cbc81a31619",
   "metadata": {},
   "outputs": [],
   "source": [
    "min_row = delta_p.loc[delta_p['delta_p1'].idxmin()]\n",
    "min_row"
   ]
  },
  {
   "cell_type": "markdown",
   "id": "5282200a-6b3a-44e7-9dcc-c9449dd012e3",
   "metadata": {},
   "source": [
    "#### 4. Construct a style dataframe\n",
    "  - Green/Red colors indicate negative/positive changes\n",
    "  - gray indicate values close to 0\n",
    "  - Line width scales from 1px to 50px with magnitude."
   ]
  },
  {
   "cell_type": "code",
   "execution_count": null,
   "id": "1161301a575cb6da",
   "metadata": {
    "ExecuteTime": {
     "end_time": "2025-09-09T22:14:54.143804Z",
     "start_time": "2025-09-09T22:14:53.866697Z"
    }
   },
   "outputs": [],
   "source": [
    "import numpy as np\n",
    "import pandas as pd\n",
    "\n",
    "def create_style_bigradient(n_colors: int = 101) -> pd.DataFrame:\n",
    "    center = (n_colors - 1) // 2\n",
    "\n",
    "    colors = np.empty(n_colors, dtype='<U7')\n",
    "    colors[:center-2] = '#5BD9B3'\n",
    "    colors[center-2:center+2] = 'gray'\n",
    "    colors[center+3:] = '#DA4F4C'\n",
    "\n",
    "    width_neg = np.linspace(50, 1, center)                   # indices 0..49\n",
    "    width_zero = np.array([1.0])                           # index 50\n",
    "    width_pos = np.linspace(1, 50, center)                   # indices 51..100\n",
    "    width_num = np.concatenate([width_neg, width_zero, width_pos])\n",
    "    width = np.char.add(width_num.astype(int).astype(str), 'px')\n",
    "\n",
    "    return pd.DataFrame({'hex_color': colors, 'width': width})\n",
    "\n",
    "def map_index(value: float, n_colors: int)  -> int:\n",
    "    center = (n_colors - 1) // 2\n",
    "    v = float(np.clip(value, -50.0, 50.0))\n",
    "    if v < 0:\n",
    "        return int(round((center - 1) * (1 - abs(v) / 50.0)))\n",
    "    if v > 0:\n",
    "        return int(round(center + (center * (v / 50.0))))\n",
    "    return center\n",
    "\n",
    "gradient_size = 101\n",
    "style = create_style_bigradient(gradient_size)\n",
    "style"
   ]
  },
  {
   "cell_type": "markdown",
   "id": "f47bd59c-3ccb-43f1-860f-02ea3f841443",
   "metadata": {},
   "source": [
    "#### 5. Construct the custom style profile"
   ]
  },
  {
   "cell_type": "markdown",
   "id": "d8151207-0cdf-453d-81da-5175d28f08b8",
   "metadata": {},
   "source": [
    "- first taking the default style profile"
   ]
  },
  {
   "cell_type": "code",
   "execution_count": null,
   "id": "ebb037b2-a7f8-4403-98a8-c57b281748ce",
   "metadata": {},
   "outputs": [],
   "source": [
    "default_pf = network1.get_default_nad_profile()"
   ]
  },
  {
   "cell_type": "markdown",
   "id": "bd8091da-1146-4c0a-a891-7867a30b4668",
   "metadata": {},
   "source": [
    "- then overriding the edges (branches) styles based on the delta_p and the style dataframes"
   ]
  },
  {
   "cell_type": "code",
   "execution_count": null,
   "id": "41473622-c363-4276-94c8-8d531b6dfe58",
   "metadata": {},
   "outputs": [],
   "source": [
    "idx = pd.DataFrame({\n",
    "    'idx_1': delta_p['delta_p1'].apply(lambda x: map_index(x, gradient_size)),\n",
    "    'idx_2': delta_p['delta_p2'].apply(lambda x: map_index(x, gradient_size)),\n",
    "})\n",
    "\n",
    "edges_styles_df = pd.DataFrame({\n",
    "    'edge1': idx['idx_1'].apply(lambda idx: style['hex_color'].iloc[idx]),\n",
    "    'edge2': idx['idx_2'].apply(lambda idx: style['hex_color'].iloc[idx]),\n",
    "    'width1': idx['idx_1'].apply(lambda idx: style['width'].iloc[idx]),\n",
    "    'width2': idx['idx_2'].apply(lambda idx: style['width'].iloc[idx]),\n",
    "})\n",
    "edges_styles_df"
   ]
  },
  {
   "cell_type": "markdown",
   "id": "e1f19ee9-b274-4052-aa22-ec6028f6bd74",
   "metadata": {},
   "source": [
    "- displaying the delta_p on the branches by overriding the branch labels styles"
   ]
  },
  {
   "cell_type": "code",
   "execution_count": null,
   "id": "db3bc0b1-ad75-452a-9f00-f4761c9b4ba6",
   "metadata": {},
   "outputs": [],
   "source": [
    "labels_df = pd.DataFrame({\n",
    "    'side1': delta_p['delta_p1'].map(lambda x: f\"{x:.1f}\"),\n",
    "    'side2': delta_p['delta_p2'].map(lambda x: f\"{x:.1f}\")\n",
    "})"
   ]
  },
  {
   "cell_type": "markdown",
   "id": "036ccb91-5183-4378-8f9a-05d9fcb61796",
   "metadata": {},
   "source": [
    "- simplifying voltage level descriptions"
   ]
  },
  {
   "cell_type": "code",
   "execution_count": null,
   "id": "434b252ab414e95d",
   "metadata": {
    "ExecuteTime": {
     "end_time": "2025-09-09T22:14:55.088458Z",
     "start_time": "2025-09-09T22:14:54.730643Z"
    }
   },
   "outputs": [],
   "source": [
    "vl_descriptions_df = default_pf.vl_descriptions[default_pf.vl_descriptions['type'] != 'FOOTER']"
   ]
  },
  {
   "cell_type": "markdown",
   "id": "6d5bc8f7-642c-4cd2-9880-345d2ca2b70c",
   "metadata": {},
   "source": [
    "- creating the custom NAD style profile"
   ]
  },
  {
   "cell_type": "code",
   "execution_count": null,
   "id": "8124e1a1-fc12-4355-b394-50a4439b77a8",
   "metadata": {
    "ExecuteTime": {
     "end_time": "2025-09-09T22:14:56.007892Z",
     "start_time": "2025-09-09T22:14:55.111998Z"
    }
   },
   "outputs": [],
   "source": [
    "diagram_profile=pn.NadProfile(branch_labels=labels_df, vl_descriptions=vl_descriptions_df, bus_descriptions=default_pf.bus_descriptions,\n",
    "                                      bus_node_styles=default_pf.bus_node_styles, edge_styles=edges_styles_df)"
   ]
  },
  {
   "cell_type": "markdown",
   "id": "e9e556e1-7cff-418d-af78-7ba6cc744365",
   "metadata": {},
   "source": [
    "#### 6. Displaying the results!\n",
    "We can inspect spatial patterns of change on the network_explorer widget"
   ]
  },
  {
   "cell_type": "code",
   "execution_count": null,
   "id": "8517e30c-2847-4bd0-a0d7-cebf3ea1b4b2",
   "metadata": {},
   "outputs": [],
   "source": [
    "network_explorer(network1, depth=9, vl_id='VL76', nad_profile=diagram_profile)"
   ]
  },
  {
   "cell_type": "code",
   "execution_count": null,
   "id": "6472edc5-2af8-4017-8813-aa4e4267bb56",
   "metadata": {},
   "outputs": [],
   "source": []
  }
 ],
 "metadata": {
  "kernelspec": {
   "display_name": "Python 3 (ipykernel)",
   "language": "python",
   "name": "python3"
  },
  "language_info": {
   "codemirror_mode": {
    "name": "ipython",
    "version": 3
   },
   "file_extension": ".py",
   "mimetype": "text/x-python",
   "name": "python",
   "nbconvert_exporter": "python",
   "pygments_lexer": "ipython3",
   "version": "3.10.12"
  }
 },
 "nbformat": 4,
 "nbformat_minor": 5
}
