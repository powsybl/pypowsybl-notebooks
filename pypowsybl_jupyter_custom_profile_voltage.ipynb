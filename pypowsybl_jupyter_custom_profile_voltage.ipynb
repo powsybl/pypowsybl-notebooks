{
 "cells": [
  {
   "cell_type": "markdown",
   "id": "52dea5b5-fb96-4eac-b66a-3e7013ebad09",
   "metadata": {},
   "source": [
    "## Investigating problematic voltage setpoints with pypowsybl-jupyter\n",
    "- This notebook demonstrates how to **investigate faulty voltage setpoints** with the help of the **network explorer widget**.\n",
    "- It compares **target voltage** and **calculated voltage** on each generator.\n",
    "- We will visualize differences by providing the widget a **custom styling** to apply on bus nodes."
   ]
  },
  {
   "cell_type": "markdown",
   "id": "da9b4a62-2056-40b5-ac51-158a78ff77a4",
   "metadata": {},
   "source": [
    "#### 1. Loading networks\n",
    "- We load a network snapshot based on the IEEE 300 network.\n",
    "- We then run an AC loadflow on that snapshot."
   ]
  },
  {
   "cell_type": "code",
   "execution_count": 1,
   "id": "78b1dbb6-391c-4aa3-8902-56760641ce43",
   "metadata": {
    "ExecuteTime": {
     "end_time": "2025-09-12T12:58:21.204553Z",
     "start_time": "2025-09-12T12:58:21.188308Z"
    }
   },
   "outputs": [],
   "source": [
    "import pypowsybl.network as pn\n",
    "network = pn.create_ieee300()"
   ]
  },
  {
   "cell_type": "code",
   "execution_count": 2,
   "id": "221a2b30-6f57-46c5-a1e2-531afba6e7af",
   "metadata": {
    "ExecuteTime": {
     "end_time": "2025-09-12T12:58:21.256075Z",
     "start_time": "2025-09-12T12:58:21.209726Z"
    }
   },
   "outputs": [
    {
     "data": {
      "text/plain": [
       "[ComponentResult(connected_component_num=0, synchronous_component_num=0, status=CONVERGED, status_text=Converged, iteration_count=6, reference_bus_id='VL7049_0', slack_bus_results=[SlackBusResult(id='VL7049_0', active_power_mismatch=455.130606132974)], distributed_active_power=0.0)]"
      ]
     },
     "execution_count": 2,
     "metadata": {},
     "output_type": "execute_result"
    }
   ],
   "source": [
    "import pypowsybl.loadflow as lf\n",
    "lf.run_ac(network)"
   ]
  },
  {
   "cell_type": "markdown",
   "id": "de7a716d-d042-40df-abb0-50d4de236969",
   "metadata": {},
   "source": [
    "#### 2. Compute voltage differences\n",
    "- We're constructing the dataframe containing the delta between target_v and calculated v for each generator.\n",
    "- We're then aggregating that dataframe to have the maximum difference for each bus."
   ]
  },
  {
   "cell_type": "markdown",
   "id": "96a70272-2a1a-4d18-9d30-e694dbdc3c31",
   "metadata": {},
   "source": [
    "- getting the generators dataframe"
   ]
  },
  {
   "cell_type": "code",
   "execution_count": 3,
   "id": "618664df-fe52-4d33-a2dc-b32d35698b2c",
   "metadata": {
    "ExecuteTime": {
     "end_time": "2025-09-12T12:58:21.276594Z",
     "start_time": "2025-09-12T12:58:21.268344Z"
    }
   },
   "outputs": [
    {
     "data": {
      "text/html": [
       "<div>\n",
       "<style scoped>\n",
       "    .dataframe tbody tr th:only-of-type {\n",
       "        vertical-align: middle;\n",
       "    }\n",
       "\n",
       "    .dataframe tbody tr th {\n",
       "        vertical-align: top;\n",
       "    }\n",
       "\n",
       "    .dataframe thead th {\n",
       "        text-align: right;\n",
       "    }\n",
       "</style>\n",
       "<table border=\"1\" class=\"dataframe\">\n",
       "  <thead>\n",
       "    <tr style=\"text-align: right;\">\n",
       "      <th></th>\n",
       "      <th>target_v</th>\n",
       "      <th>bus_id</th>\n",
       "    </tr>\n",
       "    <tr>\n",
       "      <th>id</th>\n",
       "      <th></th>\n",
       "      <th></th>\n",
       "    </tr>\n",
       "  </thead>\n",
       "  <tbody>\n",
       "    <tr>\n",
       "      <th>B8-G</th>\n",
       "      <td>116.7595</td>\n",
       "      <td>VL8_0</td>\n",
       "    </tr>\n",
       "    <tr>\n",
       "      <th>B10-G</th>\n",
       "      <td>234.7150</td>\n",
       "      <td>VL10_0</td>\n",
       "    </tr>\n",
       "    <tr>\n",
       "      <th>B20-G</th>\n",
       "      <td>115.1150</td>\n",
       "      <td>VL20_0</td>\n",
       "    </tr>\n",
       "    <tr>\n",
       "      <th>B63-G</th>\n",
       "      <td>110.2045</td>\n",
       "      <td>VL63_0</td>\n",
       "    </tr>\n",
       "    <tr>\n",
       "      <th>B76-G</th>\n",
       "      <td>110.7680</td>\n",
       "      <td>VL76_0</td>\n",
       "    </tr>\n",
       "    <tr>\n",
       "      <th>...</th>\n",
       "      <td>...</td>\n",
       "      <td>...</td>\n",
       "    </tr>\n",
       "    <tr>\n",
       "      <th>B9002-G</th>\n",
       "      <td>6.5637</td>\n",
       "      <td>VL9002_0</td>\n",
       "    </tr>\n",
       "    <tr>\n",
       "      <th>B9051-G</th>\n",
       "      <td>13.8000</td>\n",
       "      <td>VL9051_0</td>\n",
       "    </tr>\n",
       "    <tr>\n",
       "      <th>B9053-G</th>\n",
       "      <td>13.8000</td>\n",
       "      <td>VL9051_2</td>\n",
       "    </tr>\n",
       "    <tr>\n",
       "      <th>B9054-G</th>\n",
       "      <td>13.8000</td>\n",
       "      <td>VL9051_3</td>\n",
       "    </tr>\n",
       "    <tr>\n",
       "      <th>B9055-G</th>\n",
       "      <td>13.8000</td>\n",
       "      <td>VL9051_4</td>\n",
       "    </tr>\n",
       "  </tbody>\n",
       "</table>\n",
       "<p>69 rows × 2 columns</p>\n",
       "</div>"
      ],
      "text/plain": [
       "         target_v    bus_id\n",
       "id                         \n",
       "B8-G     116.7595     VL8_0\n",
       "B10-G    234.7150    VL10_0\n",
       "B20-G    115.1150    VL20_0\n",
       "B63-G    110.2045    VL63_0\n",
       "B76-G    110.7680    VL76_0\n",
       "...           ...       ...\n",
       "B9002-G    6.5637  VL9002_0\n",
       "B9051-G   13.8000  VL9051_0\n",
       "B9053-G   13.8000  VL9051_2\n",
       "B9054-G   13.8000  VL9051_3\n",
       "B9055-G   13.8000  VL9051_4\n",
       "\n",
       "[69 rows x 2 columns]"
      ]
     },
     "execution_count": 3,
     "metadata": {},
     "output_type": "execute_result"
    }
   ],
   "source": [
    "gens = network.get_generators(attributes=['target_v', 'bus_id'])\n",
    "gens"
   ]
  },
  {
   "cell_type": "markdown",
   "id": "9f010be3-02f2-4581-870e-3a185dc5359b",
   "metadata": {},
   "source": [
    "- getting the buses dataframe"
   ]
  },
  {
   "cell_type": "code",
   "execution_count": 4,
   "id": "f6dfd816-51c2-4f9f-9699-357e5a951d5a",
   "metadata": {
    "ExecuteTime": {
     "end_time": "2025-09-12T12:58:21.421766Z",
     "start_time": "2025-09-12T12:58:21.409121Z"
    }
   },
   "outputs": [
    {
     "data": {
      "text/html": [
       "<div>\n",
       "<style scoped>\n",
       "    .dataframe tbody tr th:only-of-type {\n",
       "        vertical-align: middle;\n",
       "    }\n",
       "\n",
       "    .dataframe tbody tr th {\n",
       "        vertical-align: top;\n",
       "    }\n",
       "\n",
       "    .dataframe thead th {\n",
       "        text-align: right;\n",
       "    }\n",
       "</style>\n",
       "<table border=\"1\" class=\"dataframe\">\n",
       "  <thead>\n",
       "    <tr style=\"text-align: right;\">\n",
       "      <th></th>\n",
       "      <th>v_mag</th>\n",
       "    </tr>\n",
       "    <tr>\n",
       "      <th>id</th>\n",
       "      <th></th>\n",
       "    </tr>\n",
       "  </thead>\n",
       "  <tbody>\n",
       "    <tr>\n",
       "      <th>VL1_0</th>\n",
       "      <td>118.267059</td>\n",
       "    </tr>\n",
       "    <tr>\n",
       "      <th>VL1_1</th>\n",
       "      <td>119.063364</td>\n",
       "    </tr>\n",
       "    <tr>\n",
       "      <th>VL3_0</th>\n",
       "      <td>229.327111</td>\n",
       "    </tr>\n",
       "    <tr>\n",
       "      <th>VL4_0</th>\n",
       "      <td>355.618836</td>\n",
       "    </tr>\n",
       "    <tr>\n",
       "      <th>VL5_0</th>\n",
       "      <td>117.196123</td>\n",
       "    </tr>\n",
       "    <tr>\n",
       "      <th>...</th>\n",
       "      <td>...</td>\n",
       "    </tr>\n",
       "    <tr>\n",
       "      <th>VL9051_4</th>\n",
       "      <td>13.800000</td>\n",
       "    </tr>\n",
       "    <tr>\n",
       "      <th>VL9071_0</th>\n",
       "      <td>0.586742</td>\n",
       "    </tr>\n",
       "    <tr>\n",
       "      <th>VL9071_1</th>\n",
       "      <td>0.589698</td>\n",
       "    </tr>\n",
       "    <tr>\n",
       "      <th>VL9121_0</th>\n",
       "      <td>6.467430</td>\n",
       "    </tr>\n",
       "    <tr>\n",
       "      <th>VL9533_0</th>\n",
       "      <td>2.393205</td>\n",
       "    </tr>\n",
       "  </tbody>\n",
       "</table>\n",
       "<p>300 rows × 1 columns</p>\n",
       "</div>"
      ],
      "text/plain": [
       "               v_mag\n",
       "id                  \n",
       "VL1_0     118.267059\n",
       "VL1_1     119.063364\n",
       "VL3_0     229.327111\n",
       "VL4_0     355.618836\n",
       "VL5_0     117.196123\n",
       "...              ...\n",
       "VL9051_4   13.800000\n",
       "VL9071_0    0.586742\n",
       "VL9071_1    0.589698\n",
       "VL9121_0    6.467430\n",
       "VL9533_0    2.393205\n",
       "\n",
       "[300 rows x 1 columns]"
      ]
     },
     "execution_count": 4,
     "metadata": {},
     "output_type": "execute_result"
    }
   ],
   "source": [
    "bus_v = network.get_buses(attributes=['v_mag'])\n",
    "bus_v"
   ]
  },
  {
   "cell_type": "markdown",
   "id": "3ab77b9a-a570-4794-a601-1ba74ad40464",
   "metadata": {},
   "source": [
    "- constructing the `delta_v` column"
   ]
  },
  {
   "cell_type": "code",
   "execution_count": 5,
   "id": "30340645-b9f4-45d9-92ac-9ec17e0a823a",
   "metadata": {
    "ExecuteTime": {
     "end_time": "2025-09-12T12:58:21.996187Z",
     "start_time": "2025-09-12T12:58:21.982512Z"
    }
   },
   "outputs": [
    {
     "data": {
      "text/html": [
       "<div>\n",
       "<style scoped>\n",
       "    .dataframe tbody tr th:only-of-type {\n",
       "        vertical-align: middle;\n",
       "    }\n",
       "\n",
       "    .dataframe tbody tr th {\n",
       "        vertical-align: top;\n",
       "    }\n",
       "\n",
       "    .dataframe thead th {\n",
       "        text-align: right;\n",
       "    }\n",
       "</style>\n",
       "<table border=\"1\" class=\"dataframe\">\n",
       "  <thead>\n",
       "    <tr style=\"text-align: right;\">\n",
       "      <th></th>\n",
       "      <th>target_v</th>\n",
       "      <th>bus_id</th>\n",
       "      <th>delta_v</th>\n",
       "    </tr>\n",
       "    <tr>\n",
       "      <th>id</th>\n",
       "      <th></th>\n",
       "      <th></th>\n",
       "      <th></th>\n",
       "    </tr>\n",
       "  </thead>\n",
       "  <tbody>\n",
       "    <tr>\n",
       "      <th>B8-G</th>\n",
       "      <td>116.7595</td>\n",
       "      <td>VL8_0</td>\n",
       "      <td>0.000000</td>\n",
       "    </tr>\n",
       "    <tr>\n",
       "      <th>B10-G</th>\n",
       "      <td>234.7150</td>\n",
       "      <td>VL10_0</td>\n",
       "      <td>-0.003737</td>\n",
       "    </tr>\n",
       "    <tr>\n",
       "      <th>B20-G</th>\n",
       "      <td>115.1150</td>\n",
       "      <td>VL20_0</td>\n",
       "      <td>-0.005141</td>\n",
       "    </tr>\n",
       "    <tr>\n",
       "      <th>B63-G</th>\n",
       "      <td>110.2045</td>\n",
       "      <td>VL63_0</td>\n",
       "      <td>-0.000918</td>\n",
       "    </tr>\n",
       "    <tr>\n",
       "      <th>B76-G</th>\n",
       "      <td>110.7680</td>\n",
       "      <td>VL76_0</td>\n",
       "      <td>-0.002259</td>\n",
       "    </tr>\n",
       "    <tr>\n",
       "      <th>...</th>\n",
       "      <td>...</td>\n",
       "      <td>...</td>\n",
       "      <td>...</td>\n",
       "    </tr>\n",
       "    <tr>\n",
       "      <th>B9002-G</th>\n",
       "      <td>6.5637</td>\n",
       "      <td>VL9002_0</td>\n",
       "      <td>0.000000</td>\n",
       "    </tr>\n",
       "    <tr>\n",
       "      <th>B9051-G</th>\n",
       "      <td>13.8000</td>\n",
       "      <td>VL9051_0</td>\n",
       "      <td>0.000000</td>\n",
       "    </tr>\n",
       "    <tr>\n",
       "      <th>B9053-G</th>\n",
       "      <td>13.8000</td>\n",
       "      <td>VL9051_2</td>\n",
       "      <td>0.000000</td>\n",
       "    </tr>\n",
       "    <tr>\n",
       "      <th>B9054-G</th>\n",
       "      <td>13.8000</td>\n",
       "      <td>VL9051_3</td>\n",
       "      <td>0.000000</td>\n",
       "    </tr>\n",
       "    <tr>\n",
       "      <th>B9055-G</th>\n",
       "      <td>13.8000</td>\n",
       "      <td>VL9051_4</td>\n",
       "      <td>0.000000</td>\n",
       "    </tr>\n",
       "  </tbody>\n",
       "</table>\n",
       "<p>69 rows × 3 columns</p>\n",
       "</div>"
      ],
      "text/plain": [
       "         target_v    bus_id   delta_v\n",
       "id                                   \n",
       "B8-G     116.7595     VL8_0  0.000000\n",
       "B10-G    234.7150    VL10_0 -0.003737\n",
       "B20-G    115.1150    VL20_0 -0.005141\n",
       "B63-G    110.2045    VL63_0 -0.000918\n",
       "B76-G    110.7680    VL76_0 -0.002259\n",
       "...           ...       ...       ...\n",
       "B9002-G    6.5637  VL9002_0  0.000000\n",
       "B9051-G   13.8000  VL9051_0  0.000000\n",
       "B9053-G   13.8000  VL9051_2  0.000000\n",
       "B9054-G   13.8000  VL9051_3  0.000000\n",
       "B9055-G   13.8000  VL9051_4  0.000000\n",
       "\n",
       "[69 rows x 3 columns]"
      ]
     },
     "execution_count": 5,
     "metadata": {},
     "output_type": "execute_result"
    }
   ],
   "source": [
    "gens['delta_v'] = gens['bus_id'].map(bus_v['v_mag']) - gens['target_v']\n",
    "gens"
   ]
  },
  {
   "cell_type": "markdown",
   "id": "f20a56d5-a603-4e32-a747-2c1ff0b5805c",
   "metadata": {},
   "source": [
    "- looking at extreme values"
   ]
  },
  {
   "cell_type": "code",
   "execution_count": 6,
   "id": "28f38dc1-a965-4340-b601-ba7812bca4d6",
   "metadata": {
    "ExecuteTime": {
     "end_time": "2025-09-12T12:58:22.125524Z",
     "start_time": "2025-09-12T12:58:22.118826Z"
    }
   },
   "outputs": [
    {
     "data": {
      "text/plain": [
       "(np.float64(-0.020795146300287115), np.float64(0.0))"
      ]
     },
     "execution_count": 6,
     "metadata": {},
     "output_type": "execute_result"
    }
   ],
   "source": [
    "gens['delta_v'].min(), gens['delta_v'].max()"
   ]
  },
  {
   "cell_type": "code",
   "execution_count": 7,
   "id": "82e1241f-4cd6-4524-947c-5e681d4844ba",
   "metadata": {
    "ExecuteTime": {
     "end_time": "2025-09-12T12:58:22.251319Z",
     "start_time": "2025-09-12T12:58:22.244290Z"
    }
   },
   "outputs": [
    {
     "data": {
      "text/html": [
       "<div>\n",
       "<style scoped>\n",
       "    .dataframe tbody tr th:only-of-type {\n",
       "        vertical-align: middle;\n",
       "    }\n",
       "\n",
       "    .dataframe tbody tr th {\n",
       "        vertical-align: top;\n",
       "    }\n",
       "\n",
       "    .dataframe thead th {\n",
       "        text-align: right;\n",
       "    }\n",
       "</style>\n",
       "<table border=\"1\" class=\"dataframe\">\n",
       "  <thead>\n",
       "    <tr style=\"text-align: right;\">\n",
       "      <th></th>\n",
       "      <th>target_v</th>\n",
       "      <th>bus_id</th>\n",
       "      <th>delta_v</th>\n",
       "    </tr>\n",
       "    <tr>\n",
       "      <th>id</th>\n",
       "      <th></th>\n",
       "      <th></th>\n",
       "      <th></th>\n",
       "    </tr>\n",
       "  </thead>\n",
       "  <tbody>\n",
       "    <tr>\n",
       "      <th>B156-G</th>\n",
       "      <td>110.74500</td>\n",
       "      <td>VL156_0</td>\n",
       "      <td>-0.020795</td>\n",
       "    </tr>\n",
       "    <tr>\n",
       "      <th>B170-G</th>\n",
       "      <td>106.83500</td>\n",
       "      <td>VL170_0</td>\n",
       "      <td>-0.010452</td>\n",
       "    </tr>\n",
       "    <tr>\n",
       "      <th>B20-G</th>\n",
       "      <td>115.11500</td>\n",
       "      <td>VL20_0</td>\n",
       "      <td>-0.005141</td>\n",
       "    </tr>\n",
       "    <tr>\n",
       "      <th>B236-G</th>\n",
       "      <td>20.33000</td>\n",
       "      <td>VL236_0</td>\n",
       "      <td>-0.004181</td>\n",
       "    </tr>\n",
       "    <tr>\n",
       "      <th>B10-G</th>\n",
       "      <td>234.71500</td>\n",
       "      <td>VL10_0</td>\n",
       "      <td>-0.003737</td>\n",
       "    </tr>\n",
       "    <tr>\n",
       "      <th>B171-G</th>\n",
       "      <td>113.03350</td>\n",
       "      <td>VL171_0</td>\n",
       "      <td>-0.002670</td>\n",
       "    </tr>\n",
       "    <tr>\n",
       "      <th>B76-G</th>\n",
       "      <td>110.76800</td>\n",
       "      <td>VL76_0</td>\n",
       "      <td>-0.002259</td>\n",
       "    </tr>\n",
       "    <tr>\n",
       "      <th>B7055-G</th>\n",
       "      <td>13.75446</td>\n",
       "      <td>VL7055_0</td>\n",
       "      <td>-0.001016</td>\n",
       "    </tr>\n",
       "    <tr>\n",
       "      <th>B63-G</th>\n",
       "      <td>110.20450</td>\n",
       "      <td>VL63_0</td>\n",
       "      <td>-0.000918</td>\n",
       "    </tr>\n",
       "    <tr>\n",
       "      <th>B7071-G</th>\n",
       "      <td>13.65234</td>\n",
       "      <td>VL7071_0</td>\n",
       "      <td>-0.000694</td>\n",
       "    </tr>\n",
       "  </tbody>\n",
       "</table>\n",
       "</div>"
      ],
      "text/plain": [
       "          target_v    bus_id   delta_v\n",
       "id                                    \n",
       "B156-G   110.74500   VL156_0 -0.020795\n",
       "B170-G   106.83500   VL170_0 -0.010452\n",
       "B20-G    115.11500    VL20_0 -0.005141\n",
       "B236-G    20.33000   VL236_0 -0.004181\n",
       "B10-G    234.71500    VL10_0 -0.003737\n",
       "B171-G   113.03350   VL171_0 -0.002670\n",
       "B76-G    110.76800    VL76_0 -0.002259\n",
       "B7055-G   13.75446  VL7055_0 -0.001016\n",
       "B63-G    110.20450    VL63_0 -0.000918\n",
       "B7071-G   13.65234  VL7071_0 -0.000694"
      ]
     },
     "execution_count": 7,
     "metadata": {},
     "output_type": "execute_result"
    }
   ],
   "source": [
    "gens.sort_values(by='delta_v', key=abs, ascending=False).head(10)"
   ]
  },
  {
   "cell_type": "markdown",
   "id": "6a7c33aa-e7f9-492e-bd95-653471b4ea03",
   "metadata": {},
   "source": [
    "- Taking the maximum value for each bus to aggregate the values (maximum is taken in absolute value)"
   ]
  },
  {
   "cell_type": "code",
   "execution_count": 8,
   "id": "6ca9e38e-cb7d-4ada-bc6b-6681c550f1d7",
   "metadata": {
    "ExecuteTime": {
     "end_time": "2025-09-12T12:58:22.615599Z",
     "start_time": "2025-09-12T12:58:22.590085Z"
    }
   },
   "outputs": [
    {
     "data": {
      "text/html": [
       "<div>\n",
       "<style scoped>\n",
       "    .dataframe tbody tr th:only-of-type {\n",
       "        vertical-align: middle;\n",
       "    }\n",
       "\n",
       "    .dataframe tbody tr th {\n",
       "        vertical-align: top;\n",
       "    }\n",
       "\n",
       "    .dataframe thead th {\n",
       "        text-align: right;\n",
       "    }\n",
       "</style>\n",
       "<table border=\"1\" class=\"dataframe\">\n",
       "  <thead>\n",
       "    <tr style=\"text-align: right;\">\n",
       "      <th></th>\n",
       "      <th>delta_v</th>\n",
       "      <th>v_mag</th>\n",
       "    </tr>\n",
       "    <tr>\n",
       "      <th>bus_id</th>\n",
       "      <th></th>\n",
       "      <th></th>\n",
       "    </tr>\n",
       "  </thead>\n",
       "  <tbody>\n",
       "    <tr>\n",
       "      <th>VL108_0</th>\n",
       "      <td>0.000000</td>\n",
       "      <td>113.850000</td>\n",
       "    </tr>\n",
       "    <tr>\n",
       "      <th>VL10_0</th>\n",
       "      <td>-0.003737</td>\n",
       "      <td>234.711263</td>\n",
       "    </tr>\n",
       "    <tr>\n",
       "      <th>VL116_1</th>\n",
       "      <td>0.000000</td>\n",
       "      <td>117.679500</td>\n",
       "    </tr>\n",
       "    <tr>\n",
       "      <th>VL119_0</th>\n",
       "      <td>0.000000</td>\n",
       "      <td>120.002500</td>\n",
       "    </tr>\n",
       "    <tr>\n",
       "      <th>VL125_0</th>\n",
       "      <td>0.000000</td>\n",
       "      <td>116.184500</td>\n",
       "    </tr>\n",
       "    <tr>\n",
       "      <th>...</th>\n",
       "      <td>...</td>\n",
       "      <td>...</td>\n",
       "    </tr>\n",
       "    <tr>\n",
       "      <th>VL9051_3</th>\n",
       "      <td>0.000000</td>\n",
       "      <td>13.800000</td>\n",
       "    </tr>\n",
       "    <tr>\n",
       "      <th>VL9051_4</th>\n",
       "      <td>0.000000</td>\n",
       "      <td>13.800000</td>\n",
       "    </tr>\n",
       "    <tr>\n",
       "      <th>VL91_0</th>\n",
       "      <td>0.000000</td>\n",
       "      <td>120.980000</td>\n",
       "    </tr>\n",
       "    <tr>\n",
       "      <th>VL92_0</th>\n",
       "      <td>0.000000</td>\n",
       "      <td>120.980000</td>\n",
       "    </tr>\n",
       "    <tr>\n",
       "      <th>VL98_0</th>\n",
       "      <td>0.000000</td>\n",
       "      <td>115.000000</td>\n",
       "    </tr>\n",
       "  </tbody>\n",
       "</table>\n",
       "<p>69 rows × 2 columns</p>\n",
       "</div>"
      ],
      "text/plain": [
       "           delta_v       v_mag\n",
       "bus_id                        \n",
       "VL108_0   0.000000  113.850000\n",
       "VL10_0   -0.003737  234.711263\n",
       "VL116_1   0.000000  117.679500\n",
       "VL119_0   0.000000  120.002500\n",
       "VL125_0   0.000000  116.184500\n",
       "...            ...         ...\n",
       "VL9051_3  0.000000   13.800000\n",
       "VL9051_4  0.000000   13.800000\n",
       "VL91_0    0.000000  120.980000\n",
       "VL92_0    0.000000  120.980000\n",
       "VL98_0    0.000000  115.000000\n",
       "\n",
       "[69 rows x 2 columns]"
      ]
     },
     "execution_count": 8,
     "metadata": {},
     "output_type": "execute_result"
    }
   ],
   "source": [
    "bus_max_delta_v = gens.groupby('bus_id')['delta_v'].apply(lambda s: s.iloc[s.abs().values.argmax()]).to_frame()\n",
    "bus_max_delta_v['v_mag'] = bus_v['v_mag'][bus_max_delta_v.index]\n",
    "bus_max_delta_v"
   ]
  },
  {
   "cell_type": "markdown",
   "id": "7240c27c23a1fef7",
   "metadata": {},
   "source": [
    "#### 3. Construct a style dataframe\n",
    "  - Green/Red gradient indicate small/big changes\n",
    "  - Gray indicate NaN values (buses without generators)"
   ]
  },
  {
   "cell_type": "code",
   "execution_count": 9,
   "id": "1dc6152a-4bd8-4656-b8ac-da38cf591571",
   "metadata": {
    "ExecuteTime": {
     "end_time": "2025-09-12T12:58:22.740467Z",
     "start_time": "2025-09-12T12:58:22.732063Z"
    }
   },
   "outputs": [
    {
     "data": {
      "text/html": [
       "<div>\n",
       "<style scoped>\n",
       "    .dataframe tbody tr th:only-of-type {\n",
       "        vertical-align: middle;\n",
       "    }\n",
       "\n",
       "    .dataframe tbody tr th {\n",
       "        vertical-align: top;\n",
       "    }\n",
       "\n",
       "    .dataframe thead th {\n",
       "        text-align: right;\n",
       "    }\n",
       "</style>\n",
       "<table border=\"1\" class=\"dataframe\">\n",
       "  <thead>\n",
       "    <tr style=\"text-align: right;\">\n",
       "      <th></th>\n",
       "      <th>delta_v</th>\n",
       "      <th>v_mag</th>\n",
       "      <th>dv_idx</th>\n",
       "    </tr>\n",
       "    <tr>\n",
       "      <th>bus_id</th>\n",
       "      <th></th>\n",
       "      <th></th>\n",
       "      <th></th>\n",
       "    </tr>\n",
       "  </thead>\n",
       "  <tbody>\n",
       "    <tr>\n",
       "      <th>VL108_0</th>\n",
       "      <td>0.000000</td>\n",
       "      <td>113.850000</td>\n",
       "      <td>0</td>\n",
       "    </tr>\n",
       "    <tr>\n",
       "      <th>VL10_0</th>\n",
       "      <td>-0.003737</td>\n",
       "      <td>234.711263</td>\n",
       "      <td>73</td>\n",
       "    </tr>\n",
       "    <tr>\n",
       "      <th>VL116_1</th>\n",
       "      <td>0.000000</td>\n",
       "      <td>117.679500</td>\n",
       "      <td>0</td>\n",
       "    </tr>\n",
       "    <tr>\n",
       "      <th>VL119_0</th>\n",
       "      <td>0.000000</td>\n",
       "      <td>120.002500</td>\n",
       "      <td>0</td>\n",
       "    </tr>\n",
       "    <tr>\n",
       "      <th>VL125_0</th>\n",
       "      <td>0.000000</td>\n",
       "      <td>116.184500</td>\n",
       "      <td>0</td>\n",
       "    </tr>\n",
       "    <tr>\n",
       "      <th>...</th>\n",
       "      <td>...</td>\n",
       "      <td>...</td>\n",
       "      <td>...</td>\n",
       "    </tr>\n",
       "    <tr>\n",
       "      <th>VL9051_3</th>\n",
       "      <td>0.000000</td>\n",
       "      <td>13.800000</td>\n",
       "      <td>0</td>\n",
       "    </tr>\n",
       "    <tr>\n",
       "      <th>VL9051_4</th>\n",
       "      <td>0.000000</td>\n",
       "      <td>13.800000</td>\n",
       "      <td>0</td>\n",
       "    </tr>\n",
       "    <tr>\n",
       "      <th>VL91_0</th>\n",
       "      <td>0.000000</td>\n",
       "      <td>120.980000</td>\n",
       "      <td>0</td>\n",
       "    </tr>\n",
       "    <tr>\n",
       "      <th>VL92_0</th>\n",
       "      <td>0.000000</td>\n",
       "      <td>120.980000</td>\n",
       "      <td>0</td>\n",
       "    </tr>\n",
       "    <tr>\n",
       "      <th>VL98_0</th>\n",
       "      <td>0.000000</td>\n",
       "      <td>115.000000</td>\n",
       "      <td>0</td>\n",
       "    </tr>\n",
       "  </tbody>\n",
       "</table>\n",
       "<p>69 rows × 3 columns</p>\n",
       "</div>"
      ],
      "text/plain": [
       "           delta_v       v_mag  dv_idx\n",
       "bus_id                                \n",
       "VL108_0   0.000000  113.850000       0\n",
       "VL10_0   -0.003737  234.711263      73\n",
       "VL116_1   0.000000  117.679500       0\n",
       "VL119_0   0.000000  120.002500       0\n",
       "VL125_0   0.000000  116.184500       0\n",
       "...            ...         ...     ...\n",
       "VL9051_3  0.000000   13.800000       0\n",
       "VL9051_4  0.000000   13.800000       0\n",
       "VL91_0    0.000000  120.980000       0\n",
       "VL92_0    0.000000  120.980000       0\n",
       "VL98_0    0.000000  115.000000       0\n",
       "\n",
       "[69 rows x 3 columns]"
      ]
     },
     "execution_count": 9,
     "metadata": {},
     "output_type": "execute_result"
    }
   ],
   "source": [
    "import pandas as pd\n",
    "import numpy as np\n",
    "\n",
    "red_value_legend = 0.005\n",
    "\n",
    "def create_style_gradient(n_colors=100):\n",
    "    r = np.linspace(91, 255, n_colors)\n",
    "    g = np.linspace(217, 0, n_colors)\n",
    "    b = np.linspace(179, 0, n_colors)\n",
    "\n",
    "    colors = ['#{:02x}{:02x}{:02x}'.format(int(r[i]), int(g[i]), int(b[i])) \n",
    "              for i in range(n_colors)]\n",
    "\n",
    "    numeric_widths = np.linspace(1, 15, n_colors)\n",
    "    width_strings = [f\"{int(width)}px\" for width in numeric_widths]\n",
    "\n",
    "    return pd.DataFrame({\n",
    "        'width': width_strings,\n",
    "        'hex_color': colors\n",
    "    })\n",
    "\n",
    "style_df = create_style_gradient(100)\n",
    "\n",
    "def map_index(value):\n",
    "    if pd.isna(value):\n",
    "        return -1\n",
    "    return min(int(abs(value) / red_value_legend * 99), 99)\n",
    "\n",
    "\n",
    "bus_max_delta_v['dv_idx'] = bus_max_delta_v['delta_v'].apply(map_index)\n",
    "bus_max_delta_v"
   ]
  },
  {
   "cell_type": "markdown",
   "id": "8f25be4c-0785-4cfb-bf2c-f6c1b72ee35f",
   "metadata": {},
   "source": [
    "#### 4. Construct the custom style profile"
   ]
  },
  {
   "cell_type": "markdown",
   "id": "af5f389f-ca79-4bd2-a9e8-94f8039d69e5",
   "metadata": {},
   "source": [
    "- first taking the default style profile"
   ]
  },
  {
   "cell_type": "code",
   "execution_count": 10,
   "id": "09f1d980-ec45-4b71-99ac-b67aa87c1996",
   "metadata": {
    "ExecuteTime": {
     "end_time": "2025-09-12T12:58:23.320150Z",
     "start_time": "2025-09-12T12:58:23.294760Z"
    }
   },
   "outputs": [],
   "source": [
    "default_pf = network.get_default_nad_profile()"
   ]
  },
  {
   "cell_type": "markdown",
   "id": "47bb46a0-a372-4366-9747-1fe54f1a0b80",
   "metadata": {},
   "source": [
    "- then overriding the bus nodes styles based on the `delta_v` column and on the style dataframe"
   ]
  },
  {
   "cell_type": "code",
   "execution_count": 11,
   "id": "10c53fbb-6431-4bba-bb43-50d9b668915e",
   "metadata": {
    "ExecuteTime": {
     "end_time": "2025-09-12T12:58:23.371503Z",
     "start_time": "2025-09-12T12:58:23.362985Z"
    }
   },
   "outputs": [
    {
     "data": {
      "text/html": [
       "<div>\n",
       "<style scoped>\n",
       "    .dataframe tbody tr th:only-of-type {\n",
       "        vertical-align: middle;\n",
       "    }\n",
       "\n",
       "    .dataframe tbody tr th {\n",
       "        vertical-align: top;\n",
       "    }\n",
       "\n",
       "    .dataframe thead th {\n",
       "        text-align: right;\n",
       "    }\n",
       "</style>\n",
       "<table border=\"1\" class=\"dataframe\">\n",
       "  <thead>\n",
       "    <tr style=\"text-align: right;\">\n",
       "      <th></th>\n",
       "      <th>fill</th>\n",
       "    </tr>\n",
       "    <tr>\n",
       "      <th>id</th>\n",
       "      <th></th>\n",
       "    </tr>\n",
       "  </thead>\n",
       "  <tbody>\n",
       "    <tr>\n",
       "      <th>VL108_0</th>\n",
       "      <td>#5bd9b3</td>\n",
       "    </tr>\n",
       "    <tr>\n",
       "      <th>VL10_0</th>\n",
       "      <td>#d3382f</td>\n",
       "    </tr>\n",
       "    <tr>\n",
       "      <th>VL116_1</th>\n",
       "      <td>#5bd9b3</td>\n",
       "    </tr>\n",
       "    <tr>\n",
       "      <th>VL119_0</th>\n",
       "      <td>#5bd9b3</td>\n",
       "    </tr>\n",
       "    <tr>\n",
       "      <th>VL125_0</th>\n",
       "      <td>#5bd9b3</td>\n",
       "    </tr>\n",
       "    <tr>\n",
       "      <th>...</th>\n",
       "      <td>...</td>\n",
       "    </tr>\n",
       "    <tr>\n",
       "      <th>VL9051_3</th>\n",
       "      <td>#5bd9b3</td>\n",
       "    </tr>\n",
       "    <tr>\n",
       "      <th>VL9051_4</th>\n",
       "      <td>#5bd9b3</td>\n",
       "    </tr>\n",
       "    <tr>\n",
       "      <th>VL91_0</th>\n",
       "      <td>#5bd9b3</td>\n",
       "    </tr>\n",
       "    <tr>\n",
       "      <th>VL92_0</th>\n",
       "      <td>#5bd9b3</td>\n",
       "    </tr>\n",
       "    <tr>\n",
       "      <th>VL98_0</th>\n",
       "      <td>#5bd9b3</td>\n",
       "    </tr>\n",
       "  </tbody>\n",
       "</table>\n",
       "<p>69 rows × 1 columns</p>\n",
       "</div>"
      ],
      "text/plain": [
       "             fill\n",
       "id               \n",
       "VL108_0   #5bd9b3\n",
       "VL10_0    #d3382f\n",
       "VL116_1   #5bd9b3\n",
       "VL119_0   #5bd9b3\n",
       "VL125_0   #5bd9b3\n",
       "...           ...\n",
       "VL9051_3  #5bd9b3\n",
       "VL9051_4  #5bd9b3\n",
       "VL91_0    #5bd9b3\n",
       "VL92_0    #5bd9b3\n",
       "VL98_0    #5bd9b3\n",
       "\n",
       "[69 rows x 1 columns]"
      ]
     },
     "execution_count": 11,
     "metadata": {},
     "output_type": "execute_result"
    }
   ],
   "source": [
    "color = bus_max_delta_v['dv_idx'].apply(lambda idx: 'gray' if idx == -1 else style_df['hex_color'].iloc[idx])\n",
    "width = bus_max_delta_v['dv_idx'].apply(lambda idx: '1px' if idx == -1 else style_df['width'].iloc[idx])\n",
    "bus_nodes_styles_df = pd.DataFrame({\n",
    "    'fill': color\n",
    "})\n",
    "bus_nodes_styles_df.index.name = 'id'\n",
    "bus_nodes_styles_df"
   ]
  },
  {
   "cell_type": "markdown",
   "id": "bee7250d-533b-4da2-8e61-3028c9b0b3d5",
   "metadata": {},
   "source": [
    "- overriding the bus description to display it only for buses for gener\n",
    "   - the calculated v\n",
    "   - the maximum delta_v"
   ]
  },
  {
   "cell_type": "code",
   "execution_count": 12,
   "id": "849e0130-de34-4a13-b4d0-cf58ac2fafe4",
   "metadata": {
    "ExecuteTime": {
     "end_time": "2025-09-12T12:58:23.553996Z",
     "start_time": "2025-09-12T12:58:23.545152Z"
    }
   },
   "outputs": [
    {
     "data": {
      "text/html": [
       "<div>\n",
       "<style scoped>\n",
       "    .dataframe tbody tr th:only-of-type {\n",
       "        vertical-align: middle;\n",
       "    }\n",
       "\n",
       "    .dataframe tbody tr th {\n",
       "        vertical-align: top;\n",
       "    }\n",
       "\n",
       "    .dataframe thead th {\n",
       "        text-align: right;\n",
       "    }\n",
       "</style>\n",
       "<table border=\"1\" class=\"dataframe\">\n",
       "  <thead>\n",
       "    <tr style=\"text-align: right;\">\n",
       "      <th></th>\n",
       "      <th>description</th>\n",
       "    </tr>\n",
       "    <tr>\n",
       "      <th>id</th>\n",
       "      <th></th>\n",
       "    </tr>\n",
       "  </thead>\n",
       "  <tbody>\n",
       "    <tr>\n",
       "      <th>VL108_0</th>\n",
       "      <td>113.850kV / max delta_v=0.0V</td>\n",
       "    </tr>\n",
       "    <tr>\n",
       "      <th>VL10_0</th>\n",
       "      <td>234.711kV / max delta_v=-3.7V</td>\n",
       "    </tr>\n",
       "    <tr>\n",
       "      <th>VL116_1</th>\n",
       "      <td>117.680kV / max delta_v=0.0V</td>\n",
       "    </tr>\n",
       "    <tr>\n",
       "      <th>VL119_0</th>\n",
       "      <td>120.003kV / max delta_v=0.0V</td>\n",
       "    </tr>\n",
       "    <tr>\n",
       "      <th>VL125_0</th>\n",
       "      <td>116.184kV / max delta_v=0.0V</td>\n",
       "    </tr>\n",
       "    <tr>\n",
       "      <th>...</th>\n",
       "      <td>...</td>\n",
       "    </tr>\n",
       "    <tr>\n",
       "      <th>VL9051_3</th>\n",
       "      <td>13.800kV / max delta_v=0.0V</td>\n",
       "    </tr>\n",
       "    <tr>\n",
       "      <th>VL9051_4</th>\n",
       "      <td>13.800kV / max delta_v=0.0V</td>\n",
       "    </tr>\n",
       "    <tr>\n",
       "      <th>VL91_0</th>\n",
       "      <td>120.980kV / max delta_v=0.0V</td>\n",
       "    </tr>\n",
       "    <tr>\n",
       "      <th>VL92_0</th>\n",
       "      <td>120.980kV / max delta_v=0.0V</td>\n",
       "    </tr>\n",
       "    <tr>\n",
       "      <th>VL98_0</th>\n",
       "      <td>115.000kV / max delta_v=0.0V</td>\n",
       "    </tr>\n",
       "  </tbody>\n",
       "</table>\n",
       "<p>69 rows × 1 columns</p>\n",
       "</div>"
      ],
      "text/plain": [
       "                            description\n",
       "id                                     \n",
       "VL108_0    113.850kV / max delta_v=0.0V\n",
       "VL10_0    234.711kV / max delta_v=-3.7V\n",
       "VL116_1    117.680kV / max delta_v=0.0V\n",
       "VL119_0    120.003kV / max delta_v=0.0V\n",
       "VL125_0    116.184kV / max delta_v=0.0V\n",
       "...                                 ...\n",
       "VL9051_3    13.800kV / max delta_v=0.0V\n",
       "VL9051_4    13.800kV / max delta_v=0.0V\n",
       "VL91_0     120.980kV / max delta_v=0.0V\n",
       "VL92_0     120.980kV / max delta_v=0.0V\n",
       "VL98_0     115.000kV / max delta_v=0.0V\n",
       "\n",
       "[69 rows x 1 columns]"
      ]
     },
     "execution_count": 12,
     "metadata": {},
     "output_type": "execute_result"
    }
   ],
   "source": [
    "bus_descriptions_df = pd.DataFrame({\n",
    "    'description': bus_max_delta_v['v_mag'].apply(lambda x: f\"{x:.3f}kV\")\n",
    "                   + ' / '\n",
    "                   + bus_max_delta_v['delta_v'].apply(lambda x: f\"max delta_v={x*1e3:.1f}V\")\n",
    "})\n",
    "bus_descriptions_df"
   ]
  },
  {
   "cell_type": "markdown",
   "id": "450c9ba7-b1e6-49f5-a0cf-616dd2b2394f",
   "metadata": {},
   "source": [
    "- remove unneeded branch labels and voltage level descriptions"
   ]
  },
  {
   "cell_type": "code",
   "execution_count": 13,
   "id": "90bd36ec-35d1-415c-aff4-30dbd5ec3b9f",
   "metadata": {
    "ExecuteTime": {
     "end_time": "2025-09-12T12:58:24.074774Z",
     "start_time": "2025-09-12T12:58:24.068776Z"
    }
   },
   "outputs": [],
   "source": [
    "vl_descriptions_df = default_pf.vl_descriptions[default_pf.vl_descriptions['type'] != 'FOOTER']\n",
    "labels_df = pd.DataFrame()"
   ]
  },
  {
   "cell_type": "markdown",
   "id": "623a63fe-42c7-4453-b4b5-6a05065d0b72",
   "metadata": {},
   "source": [
    "- creating the custom NAD style profile"
   ]
  },
  {
   "cell_type": "code",
   "execution_count": 14,
   "id": "eec40076-b930-478a-894f-ab6606463ac1",
   "metadata": {
    "ExecuteTime": {
     "end_time": "2025-09-12T12:58:24.131239Z",
     "start_time": "2025-09-12T12:58:24.127683Z"
    }
   },
   "outputs": [],
   "source": [
    "diagram_profile=pn.NadProfile(branch_labels=labels_df, vl_descriptions=vl_descriptions_df, bus_descriptions=bus_descriptions_df,\n",
    "                                      bus_node_styles=bus_nodes_styles_df, edge_styles=default_pf.edge_styles)"
   ]
  },
  {
   "cell_type": "markdown",
   "id": "905ebb56-222a-4252-9d80-2355aa7e0e07",
   "metadata": {},
   "source": [
    "#### 5. Display the results!"
   ]
  },
  {
   "cell_type": "markdown",
   "id": "0031bb3d-9c87-4b21-8eca-9a19941ee9d2",
   "metadata": {},
   "source": [
    "##### _Construct a colorbar to display the color legend_"
   ]
  },
  {
   "cell_type": "code",
   "execution_count": 15,
   "id": "2ae14cbf-ee37-4a11-956b-0e2b1e778844",
   "metadata": {
    "ExecuteTime": {
     "end_time": "2025-09-12T12:58:24.192516Z",
     "start_time": "2025-09-12T12:58:24.184900Z"
    }
   },
   "outputs": [],
   "source": [
    "import matplotlib.pyplot as plt\n",
    "from matplotlib.colors import ListedColormap, Normalize\n",
    "from matplotlib.cm import ScalarMappable\n",
    "from matplotlib.patches import Patch\n",
    "\n",
    "def display_legend(max_value):\n",
    "    cmap = ListedColormap(style_df[\"hex_color\"].tolist())\n",
    "    norm = Normalize(vmin=0.0, vmax=max_value)\n",
    "    \n",
    "    fig, ax = plt.subplots(figsize=(6, 1.2))\n",
    "    fig.subplots_adjust(bottom=0.5)\n",
    "    \n",
    "    sm = ScalarMappable(norm=norm, cmap=cmap)\n",
    "    sm.set_array([])\n",
    "\n",
    "    cbar = plt.colorbar(sm, ax=ax, orientation=\"horizontal\", fraction=0.3, pad=0.25)\n",
    "    cbar.set_label(\"|delta_v|\")\n",
    "\n",
    "    tick_vals = np.linspace(0, max_value, 5)\n",
    "    cbar.set_ticks(tick_vals)\n",
    "    cbar.set_ticklabels([f\"{v*1e3:.2f} V\" for v in tick_vals])  # convert kV -> V for readability\n",
    "\n",
    "    ax.axis(\"off\")\n",
    "\n",
    "    ax.legend(handles=[Patch(facecolor=\"gray\", edgecolor=\"none\", label=\"NaN / unavailable\")],\n",
    "              loc=\"upper center\", bbox_to_anchor=(0.5, 1.6), ncol=1, frameon=False)\n",
    "\n",
    "    plt.show()"
   ]
  },
  {
   "cell_type": "markdown",
   "id": "dbc652c1-4e8f-4af1-b7a3-b096f4c8a472",
   "metadata": {},
   "source": [
    "##### _Display the widget_"
   ]
  },
  {
   "cell_type": "code",
   "execution_count": 16,
   "id": "5750fc1c-c2a7-4e30-8b8d-236d59e0efd7",
   "metadata": {
    "ExecuteTime": {
     "end_time": "2025-09-12T12:58:25.068357Z",
     "start_time": "2025-09-12T12:58:24.247368Z"
    }
   },
   "outputs": [
    {
     "data": {
      "image/png": "[encoded data removed]",
      "text/plain": [
       "<Figure size 600x120 with 2 Axes>"
      ]
     },
     "metadata": {},
     "output_type": "display_data"
    },
    {
     "data": {
      "application/vnd.jupyter.widget-view+json": {
       "model_id": "b9ba9640f386403da573aab58f7e7e42",
       "version_major": 2,
       "version_minor": 0
      },
      "text/plain": [
       "HBox(children=(VBox(children=(Label(value='Voltage levels'), VBox(children=(Text(value='', description='Filter…"
      ]
     },
     "execution_count": 16,
     "metadata": {},
     "output_type": "execute_result"
    }
   ],
   "source": [
    "from pypowsybl_jupyter import network_explorer\n",
    "\n",
    "display_legend(red_value_legend)\n",
    "network_explorer(network, depth=10, nad_profile=diagram_profile)"
   ]
  },
  {
   "cell_type": "code",
   "execution_count": null,
   "id": "0ef66b5c-a02f-4aed-91b3-b665ff8fbc0a",
   "metadata": {
    "ExecuteTime": {
     "end_time": "2025-09-12T12:58:25.179077Z",
     "start_time": "2025-09-12T12:58:25.177675Z"
    }
   },
   "outputs": [],
   "source": []
  }
 ],
 "metadata": {
  "kernelspec": {
   "display_name": "Python 3 (ipykernel)",
   "language": "python",
   "name": "python3"
  },
  "language_info": {
   "codemirror_mode": {
    "name": "ipython",
    "version": 3
   },
   "file_extension": ".py",
   "mimetype": "text/x-python",
   "name": "python",
   "nbconvert_exporter": "python",
   "pygments_lexer": "ipython3",
   "version": "3.10.12"
  }
 },
 "nbformat": 4,
 "nbformat_minor": 5
}
