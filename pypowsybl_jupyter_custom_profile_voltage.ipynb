{
 "cells": [
  {
   "cell_type": "markdown",
   "id": "52dea5b5-fb96-4eac-b66a-3e7013ebad09",
   "metadata": {},
   "source": [
    "## Investigating problematic voltage setpoints with pypowsybl-jupyter\n",
    "- This notebook demonstrates how to **investigate faulty voltage setpoints** with the help of the **network explorer widget**.\n",
    "- It compares **target voltage** and **calculated voltage** on each generator.\n",
    "- We will visualize differences by providing the widget a **custom styling** to apply on bus nodes."
   ]
  },
  {
   "cell_type": "code",
   "execution_count": null,
   "id": "04e3a0b0-90d6-4f8f-bc5f-d819a348bc5c",
   "metadata": {},
   "outputs": [],
   "source": [
    "%pip install pypowsybl\n",
    "%pip install pypowsybl_jupyter\n",
    "%pip install matplotlib"
   ]
  },
  {
   "cell_type": "markdown",
   "id": "da9b4a62-2056-40b5-ac51-158a78ff77a4",
   "metadata": {},
   "source": [
    "#### 1. Loading networks\n",
    "- We load a network snapshot based on the IEEE 300 network.\n",
    "- We then run an AC loadflow on that snapshot."
   ]
  },
  {
   "cell_type": "code",
   "id": "78b1dbb6-391c-4aa3-8902-56760641ce43",
   "metadata": {},
   "source": [
    "import pypowsybl.network as pn\n",
    "network = pn.create_ieee300()"
   ],
   "outputs": [],
   "execution_count": null
  },
  {
   "cell_type": "code",
   "id": "221a2b30-6f57-46c5-a1e2-531afba6e7af",
   "metadata": {},
   "source": [
    "import pypowsybl.loadflow as lf\n",
    "lf.run_ac(network)"
   ],
   "outputs": [],
   "execution_count": null
  },
  {
   "cell_type": "markdown",
   "id": "de7a716d-d042-40df-abb0-50d4de236969",
   "metadata": {},
   "source": [
    "#### 2. Compute voltage differences\n",
    "- We're constructing the dataframe containing the delta between target_v and calculated v for each generator.\n",
    "- We're then aggregating that dataframe to have the maximum difference for each bus."
   ]
  },
  {
   "cell_type": "markdown",
   "id": "96a70272-2a1a-4d18-9d30-e694dbdc3c31",
   "metadata": {},
   "source": [
    "- getting the generators dataframe"
   ]
  },
  {
   "cell_type": "code",
   "id": "618664df-fe52-4d33-a2dc-b32d35698b2c",
   "metadata": {},
   "source": [
    "gens = network.get_generators(attributes=['target_v', 'bus_id'])\n",
    "gens"
   ],
   "outputs": [],
   "execution_count": null
  },
  {
   "cell_type": "markdown",
   "id": "9f010be3-02f2-4581-870e-3a185dc5359b",
   "metadata": {},
   "source": [
    "- getting the buses dataframe"
   ]
  },
  {
   "cell_type": "code",
   "id": "f6dfd816-51c2-4f9f-9699-357e5a951d5a",
   "metadata": {},
   "source": [
    "bus_v = network.get_buses(attributes=['v_mag'])\n",
    "bus_v"
   ],
   "outputs": [],
   "execution_count": null
  },
  {
   "cell_type": "markdown",
   "id": "3ab77b9a-a570-4794-a601-1ba74ad40464",
   "metadata": {},
   "source": [
    "- constructing the `delta_v` column"
   ]
  },
  {
   "cell_type": "code",
   "id": "30340645-b9f4-45d9-92ac-9ec17e0a823a",
   "metadata": {},
   "source": [
    "gens['delta_v'] = gens['bus_id'].map(bus_v['v_mag']) - gens['target_v']\n",
    "gens"
   ],
   "outputs": [],
   "execution_count": null
  },
  {
   "cell_type": "markdown",
   "id": "f20a56d5-a603-4e32-a747-2c1ff0b5805c",
   "metadata": {},
   "source": [
    "- looking at extreme values"
   ]
  },
  {
   "cell_type": "code",
   "id": "28f38dc1-a965-4340-b601-ba7812bca4d6",
   "metadata": {},
   "source": [
    "gens['delta_v'].min(), gens['delta_v'].max()"
   ],
   "outputs": [],
   "execution_count": null
  },
  {
   "cell_type": "code",
   "id": "82e1241f-4cd6-4524-947c-5e681d4844ba",
   "metadata": {},
   "source": [
    "gens.sort_values(by='delta_v', key=abs, ascending=False).head(10)"
   ],
   "outputs": [],
   "execution_count": null
  },
  {
   "cell_type": "markdown",
   "id": "6a7c33aa-e7f9-492e-bd95-653471b4ea03",
   "metadata": {},
   "source": [
    "- Taking the maximum value for each bus to aggregate the values (maximum is taken in absolute value)"
   ]
  },
  {
   "cell_type": "code",
   "id": "6ca9e38e-cb7d-4ada-bc6b-6681c550f1d7",
   "metadata": {},
   "source": [
    "bus_max_delta_v = gens.groupby('bus_id')['delta_v'].apply(lambda s: s.iloc[s.abs().values.argmax()]).to_frame()\n",
    "bus_max_delta_v['v_mag'] = bus_v['v_mag'][bus_max_delta_v.index]\n",
    "bus_max_delta_v"
   ],
   "outputs": [],
   "execution_count": null
  },
  {
   "cell_type": "markdown",
   "id": "7240c27c23a1fef7",
   "metadata": {},
   "source": [
    "#### 3. Construct a style dataframe\n",
    "  - Green/Red gradient indicate small/big changes\n",
    "  - Gray indicate NaN values (buses without generators)"
   ]
  },
  {
   "cell_type": "code",
   "id": "1dc6152a-4bd8-4656-b8ac-da38cf591571",
   "metadata": {},
   "source": [
    "import pandas as pd\n",
    "import numpy as np\n",
    "\n",
    "red_value_legend = 0.005\n",
    "\n",
    "def create_style_gradient(n_colors=100):\n",
    "    r = np.linspace(91, 255, n_colors)\n",
    "    g = np.linspace(217, 0, n_colors)\n",
    "    b = np.linspace(179, 0, n_colors)\n",
    "\n",
    "    colors = ['#{:02x}{:02x}{:02x}'.format(int(r[i]), int(g[i]), int(b[i])) \n",
    "              for i in range(n_colors)]\n",
    "\n",
    "    numeric_widths = np.linspace(1, 15, n_colors)\n",
    "    width_strings = [f\"{int(width)}px\" for width in numeric_widths]\n",
    "\n",
    "    return pd.DataFrame({\n",
    "        'width': width_strings,\n",
    "        'hex_color': colors\n",
    "    })\n",
    "\n",
    "style_df = create_style_gradient(100)\n",
    "\n",
    "def map_index(value):\n",
    "    if pd.isna(value):\n",
    "        return -1\n",
    "    return min(int(abs(value) / red_value_legend * 99), 99)\n",
    "\n",
    "\n",
    "bus_max_delta_v['dv_idx'] = bus_max_delta_v['delta_v'].apply(map_index)\n",
    "bus_max_delta_v"
   ],
   "outputs": [],
   "execution_count": null
  },
  {
   "cell_type": "markdown",
   "id": "8f25be4c-0785-4cfb-bf2c-f6c1b72ee35f",
   "metadata": {},
   "source": [
    "#### 4. Construct the custom style profile"
   ]
  },
  {
   "cell_type": "markdown",
   "id": "af5f389f-ca79-4bd2-a9e8-94f8039d69e5",
   "metadata": {},
   "source": [
    "- first taking the default style profile"
   ]
  },
  {
   "metadata": {},
   "cell_type": "code",
   "source": "",
   "id": "bdd94c2e67ac70d3",
   "outputs": [],
   "execution_count": null
  },
  {
   "cell_type": "code",
   "id": "09f1d980-ec45-4b71-99ac-b67aa87c1996",
   "metadata": {},
   "source": [
    "default_pf = network.get_default_nad_profile()"
   ],
   "outputs": [],
   "execution_count": null
  },
  {
   "cell_type": "markdown",
   "id": "47bb46a0-a372-4366-9747-1fe54f1a0b80",
   "metadata": {},
   "source": [
    "- then overriding the bus nodes styles based on the `delta_v` column and on the style dataframe"
   ]
  },
  {
   "cell_type": "code",
   "id": "10c53fbb-6431-4bba-bb43-50d9b668915e",
   "metadata": {},
   "source": [
    "color = bus_max_delta_v['dv_idx'].apply(lambda idx: 'gray' if idx == -1 else style_df['hex_color'].iloc[idx])\n",
    "width = bus_max_delta_v['dv_idx'].apply(lambda idx: '1px' if idx == -1 else style_df['width'].iloc[idx])\n",
    "bus_nodes_styles_df = pd.DataFrame({\n",
    "    'fill': color\n",
    "})\n",
    "bus_nodes_styles_df.index.name = 'id'\n",
    "bus_nodes_styles_df"
   ],
   "outputs": [],
   "execution_count": null
  },
  {
   "cell_type": "markdown",
   "id": "bee7250d-533b-4da2-8e61-3028c9b0b3d5",
   "metadata": {},
   "source": [
    "- overriding the bus description to display it only for buses for generators, with\n",
    "   - the calculated v\n",
    "   - the maximum delta_v"
   ]
  },
  {
   "cell_type": "code",
   "id": "849e0130-de34-4a13-b4d0-cf58ac2fafe4",
   "metadata": {},
   "source": [
    "bus_descriptions_df = pd.DataFrame({\n",
    "    'description': bus_max_delta_v['v_mag'].apply(lambda x: f\"{x:.3f}kV\")\n",
    "                   + ' / '\n",
    "                   + bus_max_delta_v['delta_v'].apply(lambda x: f\"max delta_v={x*1e3:.1f}V\")\n",
    "})\n",
    "bus_descriptions_df"
   ],
   "outputs": [],
   "execution_count": null
  },
  {
   "cell_type": "markdown",
   "id": "450c9ba7-b1e6-49f5-a0cf-616dd2b2394f",
   "metadata": {},
   "source": [
    "- remove unneeded branch labels and voltage level descriptions"
   ]
  },
  {
   "cell_type": "code",
   "id": "90bd36ec-35d1-415c-aff4-30dbd5ec3b9f",
   "metadata": {},
   "source": [
    "vl_descriptions_df = default_pf.vl_descriptions[default_pf.vl_descriptions['type'] != 'FOOTER']\n",
    "labels_df = pd.DataFrame()"
   ],
   "outputs": [],
   "execution_count": null
  },
  {
   "cell_type": "markdown",
   "id": "623a63fe-42c7-4453-b4b5-6a05065d0b72",
   "metadata": {},
   "source": [
    "- creating the custom NAD style profile"
   ]
  },
  {
   "cell_type": "code",
   "id": "eec40076-b930-478a-894f-ab6606463ac1",
   "metadata": {},
   "source": [
    "diagram_profile=pn.NadProfile(branch_labels=labels_df, vl_descriptions=vl_descriptions_df, bus_descriptions=bus_descriptions_df,\n",
    "                                      bus_node_styles=bus_nodes_styles_df, edge_styles=default_pf.edge_styles)"
   ],
   "outputs": [],
   "execution_count": null
  },
  {
   "cell_type": "markdown",
   "id": "905ebb56-222a-4252-9d80-2355aa7e0e07",
   "metadata": {},
   "source": [
    "#### 5. Display the results!"
   ]
  },
  {
   "cell_type": "markdown",
   "id": "0031bb3d-9c87-4b21-8eca-9a19941ee9d2",
   "metadata": {},
   "source": [
    "##### _Construct a colorbar to display the color legend_"
   ]
  },
  {
   "cell_type": "code",
   "id": "2ae14cbf-ee37-4a11-956b-0e2b1e778844",
   "metadata": {},
   "source": [
    "import matplotlib.pyplot as plt\n",
    "from matplotlib.colors import ListedColormap, Normalize\n",
    "from matplotlib.cm import ScalarMappable\n",
    "from matplotlib.patches import Patch\n",
    "\n",
    "def display_legend(max_value):\n",
    "    cmap = ListedColormap(style_df[\"hex_color\"].tolist())\n",
    "    norm = Normalize(vmin=0.0, vmax=max_value)\n",
    "    \n",
    "    fig, ax = plt.subplots(figsize=(6, 1.2))\n",
    "    fig.subplots_adjust(bottom=0.5)\n",
    "    \n",
    "    sm = ScalarMappable(norm=norm, cmap=cmap)\n",
    "    sm.set_array([])\n",
    "\n",
    "    cbar = plt.colorbar(sm, ax=ax, orientation=\"horizontal\", fraction=0.3, pad=0.25)\n",
    "    cbar.set_label(\"|delta_v|\")\n",
    "\n",
    "    tick_vals = np.linspace(0, max_value, 5)\n",
    "    cbar.set_ticks(tick_vals)\n",
    "    cbar.set_ticklabels([f\"{v*1e3:.2f} V\" for v in tick_vals])  # convert kV -> V for readability\n",
    "\n",
    "    ax.axis(\"off\")\n",
    "\n",
    "    ax.legend(handles=[Patch(facecolor=\"gray\", edgecolor=\"none\", label=\"NaN / unavailable\")],\n",
    "              loc=\"upper center\", bbox_to_anchor=(0.5, 1.6), ncol=1, frameon=False)\n",
    "\n",
    "    plt.show()"
   ],
   "outputs": [],
   "execution_count": null
  },
  {
   "cell_type": "markdown",
   "id": "dbc652c1-4e8f-4af1-b7a3-b096f4c8a472",
   "metadata": {},
   "source": [
    "##### _Display the widget_"
   ]
  },
  {
   "cell_type": "code",
   "id": "5750fc1c-c2a7-4e30-8b8d-236d59e0efd7",
   "metadata": {},
   "source": [
    "from pypowsybl_jupyter import network_explorer\n",
    "\n",
    "display_legend(red_value_legend)\n",
    "network_explorer(network, depth=10, nad_profile=diagram_profile)"
   ],
   "outputs": [],
   "execution_count": null
  },
  {
   "cell_type": "code",
   "id": "0ef66b5c-a02f-4aed-91b3-b665ff8fbc0a",
   "metadata": {},
   "source": [],
   "outputs": [],
   "execution_count": null
  }
 ],
 "metadata": {
  "kernelspec": {
   "display_name": "Python 3 (ipykernel)",
   "language": "python",
   "name": "python3"
  },
  "language_info": {
   "codemirror_mode": {
    "name": "ipython",
    "version": 3
   },
   "file_extension": ".py",
   "mimetype": "text/x-python",
   "name": "python",
   "nbconvert_exporter": "python",
   "pygments_lexer": "ipython3",
   "version": "3.10.12"
  }
 },
 "nbformat": 4,
 "nbformat_minor": 5
}
