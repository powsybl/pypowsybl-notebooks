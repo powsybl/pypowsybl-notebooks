{
 "cells": [
  {
   "cell_type": "markdown",
   "metadata": {},
   "source": [
    "# Operator strategy notebook "
   ],
   "id": "1b0280a047f95aea"
  },
  {
   "cell_type": "markdown",
   "metadata": {
    "raw_mimetype": "text/markdown"
   },
   "source": [
    "This notebook illustrates how to run a security analysis with remedial actions. For a contingency, an operator strategy groups a list of actions and a condition to apply them. This small tutorial is based on a 6 nodes network, called Metrix, that is easily understandable. We are going to simulate contingencies and various operator strategies to show the available features. Network elements can be monitored in pre-contingency state, after a contingency and after each operator strategy."
   ],
   "id": "4f07e59e693da262"
  },
  {
   "cell_type": "code",
   "metadata": {
    "ExecuteTime": {
     "end_time": "2025-09-15T11:41:33.369752Z",
     "start_time": "2025-09-15T11:41:33.361231Z"
    }
   },
   "source": [
    "import pypowsybl as pp\n",
    "import pandas as pd\n",
    "import numpy as np\n",
    "from pypowsybl._pypowsybl import ConditionType"
   ],
   "id": "dc0fa4c0ea4328ed",
   "outputs": [],
   "execution_count": 189
  },
  {
   "cell_type": "code",
   "metadata": {
    "ExecuteTime": {
     "end_time": "2025-09-15T11:41:33.402804Z",
     "start_time": "2025-09-15T11:41:33.379187Z"
    }
   },
   "source": [
    "six_nodes = pp.network.create_metrix_tutorial_six_buses_network()"
   ],
   "id": "14e8f5d999dd7e91",
   "outputs": [],
   "execution_count": 190
  },
  {
   "cell_type": "markdown",
   "metadata": {},
   "source": "![6 nodes network](images/network_6_nodes_without_HDVC.png)",
   "id": "7e21c296f88d2989"
  },
  {
   "cell_type": "code",
   "metadata": {
    "ExecuteTime": {
     "end_time": "2025-09-15T11:41:33.453853Z",
     "start_time": "2025-09-15T11:41:33.433647Z"
    }
   },
   "source": [
    "six_nodes.get_network_area_diagram()"
   ],
   "id": "3ad43659504d12cf",
   "outputs": [
    {
     "data": {
      "text/plain": [
       "<pypowsybl.network.impl.svg.Svg at 0x7c7b76711510>"
      ],
      "image/svg+xml": "<?xml version=\"1.0\" encoding=\"UTF-8\"?>\n<svg width=\"588.46\" height=\"600.00\" viewBox=\"-609.07 -564.59 1217.70 1241.58\" xmlns=\"http://www.w3.org/2000/svg\">\n    <style><![CDATA[.nad-branch-edges .nad-edge-path, .nad-3wt-edges .nad-edge-path {stroke: var(--nad-vl-color, lightgrey); stroke-width: 5; fill: none}\n.nad-branch-edges .nad-winding, .nad-3wt-nodes .nad-winding {stroke: var(--nad-vl-color, lightgrey); stroke-width: 5; fill: none}\n.nad-text-edges {stroke: black; stroke-width: 3; stroke-dasharray: 6,7; fill: none}\n.nad-disconnected .nad-edge-path {stroke-dasharray: 10,10}\n.nad-injections .nad-disconnected .nad-edge-path, .nad-injections .nad-disconnected circle {stroke: lightgrey}\n.nad-injections .nad-edge-path {stroke: var(--nad-vl-color, lightgrey); stroke-width: 3; fill: none}\n.nad-injections circle {stroke: var(--nad-vl-color, lightgrey); stroke-width: 3; fill: none}\n.nad-vl-nodes .nad-busnode {fill: var(--nad-vl-color, lightgrey)}\n.nad-vl-nodes circle.nad-unknown-busnode {stroke: var(--nad-vl-color, #808080); stroke-width: 5; stroke-dasharray: 5,5; fill: none}\n.nad-hvdc-edge polyline.nad-hvdc {stroke: grey; stroke-width: 40}\n.nad-branch-edges .nad-tie-line-edge .nad-edge-path {stroke-width: 7}\n.nad-pst-arrow {stroke: #6a6a6a; stroke-width: 4; stroke-linecap: round; fill: none}\npath.nad-arrow-out:not(.nad-state-out .nad-arrow-out) {visibility: hidden}\npath.nad-arrow-in:not(.nad-state-in .nad-arrow-in) {visibility: hidden}\n.nad-active {fill: #546e7a}\n.nad-reactive {fill: #0277bd}\n.nad-current {fill: #bd4802}\n.nad-text-background {flood-color: #90a4aeaa}\n.nad-text-nodes {font: 25px serif; fill: black; dominant-baseline: central}\nforeignObject.nad-text-nodes {overflow: visible; color: black}\n.nad-label-box {background-color: #6c6c6c20; width: max-content; padding: 10px; border-radius: 10px;}\n.nad-legend-square {display: inline-block; margin-right: 10px; width: 20px; height: 20px; background: var(--nad-vl-color, black);}\n.nad-edge-infos text, .nad-edge-label text {font: 20px serif; dominant-baseline:middle; stroke: #FFFFFFAA; stroke-width: 10; stroke-linejoin:round; paint-order: stroke}\n.nad-disconnected {--nad-vl-color: #808080}\n:is(.nad-branch-edges, .nad-3wt-edges, .nad-3wt-nodes) .nad-vl0to30 {--nad-vl-color: #afb42b}\n.nad-vl0to30.nad-bus-0 {--nad-vl-color: #827717}\n.nad-vl0to30.nad-bus-1 {--nad-vl-color: #d4e157}\n.nad-vl0to30.nad-bus-2 {--nad-vl-color: #e6ee9c}\n.nad-vl0to30.nad-bus-3 {--nad-vl-color: #c0ca33}\n.nad-vl0to30.nad-bus-4 {--nad-vl-color: #f0fc83}\n.nad-vl0to30.nad-bus-5 {--nad-vl-color: #9e9d24}\n.nad-vl0to30.nad-bus-6 {--nad-vl-color: #cddc39}\n.nad-vl0to30.nad-bus-7 {--nad-vl-color: #dce775}\n.nad-vl0to30.nad-bus-8 {--nad-vl-color: #ddfc88}\n:is(.nad-branch-edges, .nad-3wt-edges, .nad-3wt-nodes) .nad-vl30to50 {--nad-vl-color: #ef9a9a}\n.nad-vl30to50.nad-bus-0 {--nad-vl-color: #c2185b}\n.nad-vl30to50.nad-bus-1 {--nad-vl-color: #f06292}\n.nad-vl30to50.nad-bus-2 {--nad-vl-color: #d81b60}\n.nad-vl30to50.nad-bus-3 {--nad-vl-color: #ec407a}\n.nad-vl30to50.nad-bus-4 {--nad-vl-color: #880e4f}\n.nad-vl30to50.nad-bus-5 {--nad-vl-color: #ad1457}\n.nad-vl30to50.nad-bus-6 {--nad-vl-color: #e91e63}\n.nad-vl30to50.nad-bus-7 {--nad-vl-color: #f48fb1}\n.nad-vl30to50.nad-bus-8 {--nad-vl-color: #f8bbd0}\n:is(.nad-branch-edges, .nad-3wt-edges, .nad-3wt-nodes) .nad-vl50to70 {--nad-vl-color: #9c27b0}\n.nad-vl50to70.nad-bus-0 {--nad-vl-color: #7b1fa2}\n.nad-vl50to70.nad-bus-1 {--nad-vl-color: #ba68c8}\n.nad-vl50to70.nad-bus-2 {--nad-vl-color: #512da8}\n.nad-vl50to70.nad-bus-3 {--nad-vl-color: #ab47bc}\n.nad-vl50to70.nad-bus-4 {--nad-vl-color: #e1bee7}\n.nad-vl50to70.nad-bus-5 {--nad-vl-color: #6a1b9a}\n.nad-vl50to70.nad-bus-6 {--nad-vl-color: #4a148c}\n.nad-vl50to70.nad-bus-7 {--nad-vl-color: #ce93d8}\n.nad-vl50to70.nad-bus-8 {--nad-vl-color: #9575cd}\n:is(.nad-branch-edges, .nad-3wt-edges, .nad-3wt-nodes) .nad-vl70to120 {--nad-vl-color: #e65100}\n.nad-vl70to120.nad-bus-0 {--nad-vl-color: #fb8c00}\n.nad-vl70to120.nad-bus-1 {--nad-vl-color: #ffb74d}\n.nad-vl70to120.nad-bus-2 {--nad-vl-color: #f57c00}\n.nad-vl70to120.nad-bus-3 {--nad-vl-color: #ffa726}\n.nad-vl70to120.nad-bus-4 {--nad-vl-color: #ffe0b2}\n.nad-vl70to120.nad-bus-5 {--nad-vl-color: #ef6c00}\n.nad-vl70to120.nad-bus-6 {--nad-vl-color: #ff9800}\n.nad-vl70to120.nad-bus-7 {--nad-vl-color: #ffcc80}\n.nad-vl70to120.nad-bus-8 {--nad-vl-color: #fff3e0}\n:is(.nad-branch-edges, .nad-3wt-edges, .nad-3wt-nodes) .nad-vl120to180 {--nad-vl-color: #00ACC1}\n.nad-vl120to180.nad-bus-0 {--nad-vl-color: #4fc3f7}\n.nad-vl120to180.nad-bus-1 {--nad-vl-color: #01579b}\n.nad-vl120to180.nad-bus-2 {--nad-vl-color: #b3e5fc}\n.nad-vl120to180.nad-bus-3 {--nad-vl-color: #039be5}\n.nad-vl120to180.nad-bus-4 {--nad-vl-color: #81d4fa}\n.nad-vl120to180.nad-bus-5 {--nad-vl-color: #0288d1}\n.nad-vl120to180.nad-bus-6 {--nad-vl-color: #29b6f6}\n.nad-vl120to180.nad-bus-7 {--nad-vl-color: #0277bd}\n.nad-vl120to180.nad-bus-8 {--nad-vl-color: #03a9f4}\n:is(.nad-branch-edges, .nad-3wt-edges, .nad-3wt-nodes) .nad-vl180to300 {--nad-vl-color: #2e7d32}\n.nad-vl180to300.nad-bus-0 {--nad-vl-color: #81c784}\n.nad-vl180to300.nad-bus-1 {--nad-vl-color: #558b2f}\n.nad-vl180to300.nad-bus-2 {--nad-vl-color: #c8e6c9}\n.nad-vl180to300.nad-bus-3 {--nad-vl-color: #43a047}\n.nad-vl180to300.nad-bus-4 {--nad-vl-color: #a5d6a7}\n.nad-vl180to300.nad-bus-5 {--nad-vl-color: #388e3c}\n.nad-vl180to300.nad-bus-6 {--nad-vl-color: #66bb6a}\n.nad-vl180to300.nad-bus-7 {--nad-vl-color: #1b5e20}\n.nad-vl180to300.nad-bus-8 {--nad-vl-color: #4caf50}\n:is(.nad-branch-edges, .nad-3wt-edges, .nad-3wt-nodes) .nad-vl300to500 {--nad-vl-color: #d32f2f}\n.nad-vl300to500.nad-bus-0 {--nad-vl-color: #ef5350}\n.nad-vl300to500.nad-bus-1 {--nad-vl-color: #ef9a9a}\n.nad-vl300to500.nad-bus-2 {--nad-vl-color: #b71c1c}\n.nad-vl300to500.nad-bus-3 {--nad-vl-color: #e57373}\n.nad-vl300to500.nad-bus-4 {--nad-vl-color: #e53935}\n.nad-vl300to500.nad-bus-5 {--nad-vl-color: #ff8a80}\n.nad-vl300to500.nad-bus-6 {--nad-vl-color: #f44336}\n.nad-vl300to500.nad-bus-7 {--nad-vl-color: #ffcdd2}\n.nad-vl300to500.nad-bus-8 {--nad-vl-color: #c62828}\n.nad-branch-edges .nad-overload .nad-edge-path {animation: line-blink 3s infinite}\n.nad-vl-nodes .nad-overvoltage {animation: node-over-blink 3s infinite}\n.nad-vl-nodes .nad-undervoltage {animation: node-under-blink 3s infinite}\n.nad-highlight {stroke-width: 25; opacity: 0.2; fill: none;}\n.nad-highlight-0 {stroke: #e6e600;}\n.nad-highlight-1 {stroke: #b300b3;}\n.nad-highlight-2 {stroke: #2eb82e;}\n.nad-highlight-3 {stroke: #e67300;}\n.nad-highlight-4 {stroke: #0000ff;}\n@keyframes line-blink {\n  0%, 80%, 100% {stroke: var(--nad-vl-color, black); stroke-width: 5}\n  40% {stroke: #FFEB3B; stroke-width: 15}\n}\n@keyframes node-over-blink {\n  0%, 80%, 100% {stroke: white; stroke-width: 0}\n  40% {stroke: #ff5722; stroke-width: 15}\n}\n@keyframes node-under-blink {\n  0%, 80%, 100% {stroke: white; stroke-width: 0}\n  40% {stroke: #00BCD4; stroke-width: 15}\n}\n.nad-load {stroke: var(--nad-vl-color, lightgrey); stroke-width: 3; fill: none}\n.nad-battery {stroke: var(--nad-vl-color, lightgrey); stroke-width: 3; fill: none}\n.nad-generator {stroke: var(--nad-vl-color, lightgrey); stroke-width: 3; stroke-linecap: round; fill: none}\n.nad-capacitor {stroke: var(--nad-vl-color, lightgrey); stroke-width: 3; fill: none}\n.nad-inductor {stroke: var(--nad-vl-color, lightgrey); stroke-width: 3; stroke-linejoin: round; stroke-linecap: round; fill: none}\n.nad-svc {stroke: var(--nad-vl-color, lightgrey); stroke-width: 3; stroke-linejoin:round; fill: none}\n.nad-disconnected .nad-load {stroke: lightgrey}\n.nad-disconnected .nad-battery {stroke: lightgrey}\n.nad-disconnected .nad-generator {stroke: lightgrey}\n.nad-disconnected .nad-capacitor {stroke: lightgrey}\n.nad-disconnected .nad-inductor {stroke: lightgrey}\n.nad-disconnected .nad-svc {stroke: lightgrey}\n.nad-unknown {stroke: none; fill: black}\n]]></style>\n    <g class=\"nad-vl-nodes\">\n        <g transform=\"translate(-34.89,-232.08)\" id=\"0\">\n            <circle r=\"27.50\" id=\"1\" class=\"nad-vl300to500 nad-bus-0 nad-busnode\"/>\n        </g>\n        <g transform=\"translate(-301.17,22.83)\" id=\"2\">\n            <circle r=\"27.50\" id=\"3\" class=\"nad-vl300to500 nad-bus-0 nad-busnode\"/>\n        </g>\n        <g transform=\"translate(-409.07,-324.59)\" id=\"4\">\n            <circle r=\"27.50\" id=\"5\" class=\"nad-vl300to500 nad-bus-0 nad-busnode\"/>\n        </g>\n        <g transform=\"translate(265.98,89.88)\" id=\"6\">\n            <circle r=\"27.50\" id=\"7\" class=\"nad-vl300to500 nad-bus-0 nad-busnode\"/>\n        </g>\n        <g transform=\"translate(-17.44,321.85)\" id=\"8\">\n            <circle r=\"27.50\" id=\"9\" class=\"nad-vl300to500 nad-bus-0 nad-busnode\"/>\n        </g>\n        <g transform=\"translate(308.62,476.99)\" id=\"10\">\n            <circle r=\"27.50\" id=\"11\" class=\"nad-vl300to500 nad-bus-0 nad-busnode\"/>\n        </g>\n    </g>\n    <g class=\"nad-branch-edges\">\n        <g id=\"12\">\n            <g id=\"12.1\" class=\"nad-vl300to500\">\n                <polyline class=\"nad-edge-path\" points=\"-54.71,-251.14 -92.55,-287.53 -212.38,-317.16\"/>\n                <g class=\"nad-edge-infos\" transform=\"translate(-121.67,-294.73)\">\n                    <g class=\"nad-active nad-state-in\">\n                        <g transform=\"rotate(-76.11)\">\n                            <path class=\"nad-arrow-in\" transform=\"scale(10.00)\" d=\"M-1 -1 H1 L0 1z\"/>\n                            <path class=\"nad-arrow-out\" transform=\"scale(10.00)\" d=\"M-1 1 H1 L0 -1z\"/>\n                        </g>\n                        <text transform=\"rotate(-346.11)\" x=\"-19.00\" style=\"text-anchor:end\">-48</text>\n                    </g>\n                </g>\n            </g>\n            <g id=\"12.2\" class=\"nad-vl300to500\">\n                <polyline class=\"nad-edge-path\" points=\"-382.65,-332.22 -332.22,-346.79 -212.38,-317.16\"/>\n                <g class=\"nad-edge-infos\" transform=\"translate(-303.09,-339.59)\">\n                    <g class=\"nad-active nad-state-out\">\n                        <g transform=\"rotate(103.89)\">\n                            <path class=\"nad-arrow-in\" transform=\"scale(10.00)\" d=\"M-1 -1 H1 L0 1z\"/>\n                            <path class=\"nad-arrow-out\" transform=\"scale(10.00)\" d=\"M-1 1 H1 L0 -1z\"/>\n                        </g>\n                        <text transform=\"rotate(13.89)\" x=\"19.00\">48</text>\n                    </g>\n                </g>\n            </g>\n        </g>\n        <g id=\"13\">\n            <g id=\"13.1\" class=\"nad-vl300to500\">\n                <polyline class=\"nad-edge-path\" points=\"-61.31,-224.44 -111.75,-209.87 -231.58,-239.50\"/>\n                <g class=\"nad-edge-infos\" transform=\"translate(-140.87,-217.07)\">\n                    <g class=\"nad-active nad-state-in\">\n                        <g transform=\"rotate(-76.11)\">\n                            <path class=\"nad-arrow-in\" transform=\"scale(10.00)\" d=\"M-1 -1 H1 L0 1z\"/>\n                            <path class=\"nad-arrow-out\" transform=\"scale(10.00)\" d=\"M-1 1 H1 L0 -1z\"/>\n                        </g>\n                        <text transform=\"rotate(-346.11)\" x=\"-19.00\" style=\"text-anchor:end\">-48</text>\n                    </g>\n                </g>\n            </g>\n            <g id=\"13.2\" class=\"nad-vl300to500\">\n                <polyline class=\"nad-edge-path\" points=\"-389.25,-305.52 -351.42,-269.13 -231.58,-239.50\"/>\n                <g class=\"nad-edge-infos\" transform=\"translate(-322.29,-261.93)\">\n                    <g class=\"nad-active nad-state-out\">\n                        <g transform=\"rotate(103.89)\">\n                            <path class=\"nad-arrow-in\" transform=\"scale(10.00)\" d=\"M-1 -1 H1 L0 1z\"/>\n                            <path class=\"nad-arrow-out\" transform=\"scale(10.00)\" d=\"M-1 1 H1 L0 -1z\"/>\n                        </g>\n                        <text transform=\"rotate(13.89)\" x=\"19.00\">48</text>\n                    </g>\n                </g>\n            </g>\n        </g>\n        <g id=\"14\">\n            <g id=\"14.1\" class=\"nad-vl300to500\">\n                <polyline class=\"nad-edge-path\" points=\"259.76,63.09 247.90,11.95 144.77,-98.41\"/>\n                <g class=\"nad-edge-infos\" transform=\"translate(227.42,-9.97)\">\n                    <g class=\"nad-active nad-state-in\">\n                        <g transform=\"rotate(-43.06)\">\n                            <path class=\"nad-arrow-in\" transform=\"scale(10.00)\" d=\"M-1 -1 H1 L0 1z\"/>\n                            <path class=\"nad-arrow-out\" transform=\"scale(10.00)\" d=\"M-1 1 H1 L0 -1z\"/>\n                        </g>\n                        <text transform=\"rotate(-313.06)\" x=\"-19.00\" style=\"text-anchor:end\">-96</text>\n                    </g>\n                </g>\n            </g>\n            <g id=\"14.2\" class=\"nad-vl300to500\">\n                <polyline class=\"nad-edge-path\" points=\"-8.58,-224.06 41.64,-208.77 144.77,-98.41\"/>\n                <g class=\"nad-edge-infos\" transform=\"translate(62.12,-186.85)\">\n                    <g class=\"nad-active nad-state-out\">\n                        <g transform=\"rotate(136.94)\">\n                            <path class=\"nad-arrow-in\" transform=\"scale(10.00)\" d=\"M-1 -1 H1 L0 1z\"/>\n                            <path class=\"nad-arrow-out\" transform=\"scale(10.00)\" d=\"M-1 1 H1 L0 -1z\"/>\n                        </g>\n                        <text transform=\"rotate(46.94)\" x=\"19.00\">96</text>\n                    </g>\n                </g>\n            </g>\n        </g>\n        <g id=\"15\">\n            <g id=\"15.1\" class=\"nad-vl300to500\">\n                <polyline class=\"nad-edge-path\" points=\"239.67,81.87 189.45,66.57 86.32,-43.79\"/>\n                <g class=\"nad-edge-infos\" transform=\"translate(168.97,44.65)\">\n                    <g class=\"nad-active nad-state-in\">\n                        <g transform=\"rotate(-43.06)\">\n                            <path class=\"nad-arrow-in\" transform=\"scale(10.00)\" d=\"M-1 -1 H1 L0 1z\"/>\n                            <path class=\"nad-arrow-out\" transform=\"scale(10.00)\" d=\"M-1 1 H1 L0 -1z\"/>\n                        </g>\n                        <text transform=\"rotate(-313.06)\" x=\"-19.00\" style=\"text-anchor:end\">-96</text>\n                    </g>\n                </g>\n            </g>\n            <g id=\"15.2\" class=\"nad-vl300to500\">\n                <polyline class=\"nad-edge-path\" points=\"-28.68,-205.29 -16.81,-154.14 86.32,-43.79\"/>\n                <g class=\"nad-edge-infos\" transform=\"translate(3.67,-132.23)\">\n                    <g class=\"nad-active nad-state-out\">\n                        <g transform=\"rotate(136.94)\">\n                            <path class=\"nad-arrow-in\" transform=\"scale(10.00)\" d=\"M-1 -1 H1 L0 1z\"/>\n                            <path class=\"nad-arrow-out\" transform=\"scale(10.00)\" d=\"M-1 1 H1 L0 -1z\"/>\n                        </g>\n                        <text transform=\"rotate(46.94)\" x=\"19.00\">96</text>\n                    </g>\n                </g>\n            </g>\n        </g>\n        <g id=\"16\">\n            <g id=\"16.1\" class=\"nad-vl300to500\">\n                <polyline class=\"nad-edge-path\" points=\"-54.76,-213.06 -146.36,-125.37\"/>\n                <g class=\"nad-edge-infos\" transform=\"translate(-78.23,-190.59)\">\n                    <g class=\"nad-active nad-state-in\">\n                        <g transform=\"rotate(-133.75)\">\n                            <path class=\"nad-arrow-in\" transform=\"scale(10.00)\" d=\"M-1 -1 H1 L0 1z\"/>\n                            <path class=\"nad-arrow-out\" transform=\"scale(10.00)\" d=\"M-1 1 H1 L0 -1z\"/>\n                        </g>\n                        <text transform=\"rotate(-43.75)\" x=\"-19.00\" style=\"text-anchor:end\">-96</text>\n                    </g>\n                </g>\n            </g>\n            <g id=\"16.2\" class=\"nad-vl300to500\">\n                <polyline class=\"nad-edge-path\" points=\"-281.31,3.81 -189.70,-83.88\"/>\n                <g class=\"nad-edge-infos\" transform=\"translate(-257.83,-18.66)\">\n                    <g class=\"nad-active nad-state-out\">\n                        <g transform=\"rotate(46.25)\">\n                            <path class=\"nad-arrow-in\" transform=\"scale(10.00)\" d=\"M-1 -1 H1 L0 1z\"/>\n                            <path class=\"nad-arrow-out\" transform=\"scale(10.00)\" d=\"M-1 1 H1 L0 -1z\"/>\n                        </g>\n                        <text transform=\"rotate(-43.75)\" x=\"19.00\">96</text>\n                    </g>\n                </g>\n            </g>\n            <g>\n                <circle class=\"nad-vl300to500 nad-winding\" cx=\"-160.81\" cy=\"-111.54\" r=\"20.00\"/>\n                <circle class=\"nad-vl300to500 nad-winding\" cx=\"-175.26\" cy=\"-97.71\" r=\"20.00\"/>\n                <path d=\"M60.00,0 0,60.00 M52.00,0 60.00,0 60.00,8.00\" transform=\"matrix(-0.72,0.69,-0.69,-0.72,-125.62,-103.70)\" class=\"nad-pst-arrow\"/>\n            </g>\n        </g>\n        <g id=\"17\">\n            <g id=\"17.1\" class=\"nad-vl300to500\">\n                <polyline class=\"nad-edge-path\" points=\"-295.11,-4.00 -283.52,-55.20 -316.92,-162.74\"/>\n                <g class=\"nad-edge-infos\" transform=\"translate(-292.42,-83.85)\">\n                    <g class=\"nad-active nad-state-out\">\n                        <g transform=\"rotate(-17.25)\">\n                            <path class=\"nad-arrow-in\" transform=\"scale(10.00)\" d=\"M-1 -1 H1 L0 1z\"/>\n                            <path class=\"nad-arrow-out\" transform=\"scale(10.00)\" d=\"M-1 1 H1 L0 -1z\"/>\n                        </g>\n                        <text transform=\"rotate(-287.25)\" x=\"-19.00\" style=\"text-anchor:end\">48</text>\n                    </g>\n                </g>\n            </g>\n            <g id=\"17.2\" class=\"nad-vl300to500\">\n                <polyline class=\"nad-edge-path\" points=\"-388.88,-305.92 -350.32,-270.29 -316.92,-162.74\"/>\n                <g class=\"nad-edge-infos\" transform=\"translate(-341.43,-241.64)\">\n                    <g class=\"nad-active nad-state-in\">\n                        <g transform=\"rotate(162.75)\">\n                            <path class=\"nad-arrow-in\" transform=\"scale(10.00)\" d=\"M-1 -1 H1 L0 1z\"/>\n                            <path class=\"nad-arrow-out\" transform=\"scale(10.00)\" d=\"M-1 1 H1 L0 -1z\"/>\n                        </g>\n                        <text transform=\"rotate(72.75)\" x=\"19.00\">-48</text>\n                    </g>\n                </g>\n            </g>\n        </g>\n        <g id=\"18\">\n            <g id=\"18.1\" class=\"nad-vl300to500\">\n                <polyline class=\"nad-edge-path\" points=\"-321.37,4.16 -359.92,-31.47 -393.32,-139.02\"/>\n                <g class=\"nad-edge-infos\" transform=\"translate(-368.82,-60.12)\">\n                    <g class=\"nad-active nad-state-out\">\n                        <g transform=\"rotate(-17.25)\">\n                            <path class=\"nad-arrow-in\" transform=\"scale(10.00)\" d=\"M-1 -1 H1 L0 1z\"/>\n                            <path class=\"nad-arrow-out\" transform=\"scale(10.00)\" d=\"M-1 1 H1 L0 -1z\"/>\n                        </g>\n                        <text transform=\"rotate(-287.25)\" x=\"-19.00\" style=\"text-anchor:end\">48</text>\n                    </g>\n                </g>\n            </g>\n            <g id=\"18.2\" class=\"nad-vl300to500\">\n                <polyline class=\"nad-edge-path\" points=\"-415.14,-297.76 -426.72,-246.56 -393.32,-139.02\"/>\n                <g class=\"nad-edge-infos\" transform=\"translate(-417.83,-217.91)\">\n                    <g class=\"nad-active nad-state-in\">\n                        <g transform=\"rotate(162.75)\">\n                            <path class=\"nad-arrow-in\" transform=\"scale(10.00)\" d=\"M-1 -1 H1 L0 1z\"/>\n                            <path class=\"nad-arrow-out\" transform=\"scale(10.00)\" d=\"M-1 1 H1 L0 -1z\"/>\n                        </g>\n                        <text transform=\"rotate(72.75)\" x=\"19.00\">-48</text>\n                    </g>\n                </g>\n            </g>\n        </g>\n        <g id=\"19\">\n            <g id=\"19.1\" class=\"nad-vl300to500\">\n                <polyline class=\"nad-edge-path\" points=\"-23.86,295.11 -36.11,244.06 -130.29,144.81\"/>\n                <g class=\"nad-edge-infos\" transform=\"translate(-56.76,222.30)\">\n                    <g class=\"nad-active nad-state-out\">\n                        <g transform=\"rotate(-43.50)\">\n                            <path class=\"nad-arrow-in\" transform=\"scale(10.00)\" d=\"M-1 -1 H1 L0 1z\"/>\n                            <path class=\"nad-arrow-out\" transform=\"scale(10.00)\" d=\"M-1 1 H1 L0 -1z\"/>\n                        </g>\n                        <text transform=\"rotate(-313.50)\" x=\"-19.00\" style=\"text-anchor:end\">96</text>\n                    </g>\n                </g>\n            </g>\n            <g id=\"19.2\" class=\"nad-vl300to500\">\n                <polyline class=\"nad-edge-path\" points=\"-274.81,30.64 -224.47,45.55 -130.29,144.81\"/>\n                <g class=\"nad-edge-infos\" transform=\"translate(-203.82,67.31)\">\n                    <g class=\"nad-active nad-state-in\">\n                        <g transform=\"rotate(136.50)\">\n                            <path class=\"nad-arrow-in\" transform=\"scale(10.00)\" d=\"M-1 -1 H1 L0 1z\"/>\n                            <path class=\"nad-arrow-out\" transform=\"scale(10.00)\" d=\"M-1 1 H1 L0 -1z\"/>\n                        </g>\n                        <text transform=\"rotate(46.50)\" x=\"19.00\">-96</text>\n                    </g>\n                </g>\n            </g>\n        </g>\n        <g id=\"20\">\n            <g id=\"20.1\" class=\"nad-vl300to500\">\n                <polyline class=\"nad-edge-path\" points=\"-43.81,314.04 -94.14,299.13 -188.32,199.87\"/>\n                <g class=\"nad-edge-infos\" transform=\"translate(-114.79,277.37)\">\n                    <g class=\"nad-active nad-state-out\">\n                        <g transform=\"rotate(-43.50)\">\n                            <path class=\"nad-arrow-in\" transform=\"scale(10.00)\" d=\"M-1 -1 H1 L0 1z\"/>\n                            <path class=\"nad-arrow-out\" transform=\"scale(10.00)\" d=\"M-1 1 H1 L0 -1z\"/>\n                        </g>\n                        <text transform=\"rotate(-313.50)\" x=\"-19.00\" style=\"text-anchor:end\">96</text>\n                    </g>\n                </g>\n            </g>\n            <g id=\"20.2\" class=\"nad-vl300to500\">\n                <polyline class=\"nad-edge-path\" points=\"-294.75,49.57 -282.50,100.62 -188.32,199.87\"/>\n                <g class=\"nad-edge-infos\" transform=\"translate(-261.85,122.38)\">\n                    <g class=\"nad-active nad-state-in\">\n                        <g transform=\"rotate(136.50)\">\n                            <path class=\"nad-arrow-in\" transform=\"scale(10.00)\" d=\"M-1 -1 H1 L0 1z\"/>\n                            <path class=\"nad-arrow-out\" transform=\"scale(10.00)\" d=\"M-1 1 H1 L0 -1z\"/>\n                        </g>\n                        <text transform=\"rotate(46.50)\" x=\"19.00\">-96</text>\n                    </g>\n                </g>\n            </g>\n        </g>\n        <g id=\"21\">\n            <g id=\"21.1\" class=\"nad-vl300to500\">\n                <polyline class=\"nad-edge-path\" points=\"319.68,451.82 340.80,403.75 327.06,279.06\"/>\n                <g class=\"nad-edge-infos\" transform=\"translate(337.51,373.93)\">\n                    <g class=\"nad-active nad-state-out\">\n                        <g transform=\"rotate(-6.29)\">\n                            <path class=\"nad-arrow-in\" transform=\"scale(10.00)\" d=\"M-1 -1 H1 L0 1z\"/>\n                            <path class=\"nad-arrow-out\" transform=\"scale(10.00)\" d=\"M-1 1 H1 L0 -1z\"/>\n                        </g>\n                        <text transform=\"rotate(-276.29)\" x=\"-19.00\" style=\"text-anchor:end\">144</text>\n                    </g>\n                </g>\n            </g>\n            <g id=\"21.2\" class=\"nad-vl300to500\">\n                <polyline class=\"nad-edge-path\" points=\"282.25,112.05 313.33,154.36 327.06,279.06\"/>\n                <g class=\"nad-edge-infos\" transform=\"translate(316.61,184.18)\">\n                    <g class=\"nad-active nad-state-in\">\n                        <g transform=\"rotate(173.71)\">\n                            <path class=\"nad-arrow-in\" transform=\"scale(10.00)\" d=\"M-1 -1 H1 L0 1z\"/>\n                            <path class=\"nad-arrow-out\" transform=\"scale(10.00)\" d=\"M-1 1 H1 L0 -1z\"/>\n                        </g>\n                        <text transform=\"rotate(83.71)\" x=\"19.00\">-144</text>\n                    </g>\n                </g>\n            </g>\n        </g>\n        <g id=\"22\">\n            <g id=\"22.1\" class=\"nad-vl300to500\">\n                <polyline class=\"nad-edge-path\" points=\"292.35,454.83 261.28,412.51 247.54,287.82\"/>\n                <g class=\"nad-edge-infos\" transform=\"translate(257.99,382.69)\">\n                    <g class=\"nad-active nad-state-out\">\n                        <g transform=\"rotate(-6.29)\">\n                            <path class=\"nad-arrow-in\" transform=\"scale(10.00)\" d=\"M-1 -1 H1 L0 1z\"/>\n                            <path class=\"nad-arrow-out\" transform=\"scale(10.00)\" d=\"M-1 1 H1 L0 -1z\"/>\n                        </g>\n                        <text transform=\"rotate(-276.29)\" x=\"-19.00\" style=\"text-anchor:end\">144</text>\n                    </g>\n                </g>\n            </g>\n            <g id=\"22.2\" class=\"nad-vl300to500\">\n                <polyline class=\"nad-edge-path\" points=\"254.92,115.06 233.81,163.12 247.54,287.82\"/>\n                <g class=\"nad-edge-infos\" transform=\"translate(237.09,192.94)\">\n                    <g class=\"nad-active nad-state-in\">\n                        <g transform=\"rotate(173.71)\">\n                            <path class=\"nad-arrow-in\" transform=\"scale(10.00)\" d=\"M-1 -1 H1 L0 1z\"/>\n                            <path class=\"nad-arrow-out\" transform=\"scale(10.00)\" d=\"M-1 1 H1 L0 -1z\"/>\n                        </g>\n                        <text transform=\"rotate(83.71)\" x=\"19.00\">-144</text>\n                    </g>\n                </g>\n            </g>\n        </g>\n        <g id=\"23\" class=\"nad-hvdc-edge\">\n            <g id=\"23.1\" class=\"nad-vl300to500\">\n                <polyline class=\"nad-edge-path\" points=\"9.70,317.41 61.51,308.93 149.61,236.82\"/>\n                <g class=\"nad-edge-infos\" transform=\"translate(84.72,289.92)\">\n                    <g class=\"nad-active nad-state-out\">\n                        <g transform=\"rotate(50.70)\">\n                            <path class=\"nad-arrow-in\" transform=\"scale(10.00)\" d=\"M-1 -1 H1 L0 1z\"/>\n                            <path class=\"nad-arrow-out\" transform=\"scale(10.00)\" d=\"M-1 1 H1 L0 -1z\"/>\n                        </g>\n                        <text transform=\"rotate(-39.30)\" x=\"19.00\">0</text>\n                    </g>\n                </g>\n            </g>\n            <g id=\"23.2\" class=\"nad-vl300to500\">\n                <polyline class=\"nad-edge-path\" points=\"256.26,115.60 237.70,164.71 149.61,236.82\"/>\n                <g class=\"nad-edge-infos\" transform=\"translate(214.49,183.72)\">\n                    <g class=\"nad-active nad-state-out\">\n                        <g transform=\"rotate(-129.30)\">\n                            <path class=\"nad-arrow-in\" transform=\"scale(10.00)\" d=\"M-1 -1 H1 L0 1z\"/>\n                            <path class=\"nad-arrow-out\" transform=\"scale(10.00)\" d=\"M-1 1 H1 L0 -1z\"/>\n                        </g>\n                        <text transform=\"rotate(-39.30)\" x=\"-19.00\" style=\"text-anchor:end\">0</text>\n                    </g>\n                </g>\n            </g>\n            <g>\n                <polyline points=\"122.52,258.99 176.69,214.65\" class=\"nad-hvdc\"/>\n            </g>\n        </g>\n        <g id=\"24\" class=\"nad-hvdc-edge\">\n            <g id=\"24.1\" class=\"nad-vl300to500\">\n                <polyline class=\"nad-edge-path\" points=\"-7.72,296.13 10.84,247.02 98.93,174.91\"/>\n                <g class=\"nad-edge-infos\" transform=\"translate(34.05,228.02)\">\n                    <g class=\"nad-active nad-state-out\">\n                        <g transform=\"rotate(50.70)\">\n                            <path class=\"nad-arrow-in\" transform=\"scale(10.00)\" d=\"M-1 -1 H1 L0 1z\"/>\n                            <path class=\"nad-arrow-out\" transform=\"scale(10.00)\" d=\"M-1 1 H1 L0 -1z\"/>\n                        </g>\n                        <text transform=\"rotate(-39.30)\" x=\"19.00\">0</text>\n                    </g>\n                </g>\n            </g>\n            <g id=\"24.2\" class=\"nad-vl300to500\">\n                <polyline class=\"nad-edge-path\" points=\"238.84,94.32 187.03,102.81 98.93,174.91\"/>\n                <g class=\"nad-edge-infos\" transform=\"translate(163.82,121.81)\">\n                    <g class=\"nad-active nad-state-out\">\n                        <g transform=\"rotate(-129.30)\">\n                            <path class=\"nad-arrow-in\" transform=\"scale(10.00)\" d=\"M-1 -1 H1 L0 1z\"/>\n                            <path class=\"nad-arrow-out\" transform=\"scale(10.00)\" d=\"M-1 1 H1 L0 -1z\"/>\n                        </g>\n                        <text transform=\"rotate(-39.30)\" x=\"-19.00\" style=\"text-anchor:end\">0</text>\n                    </g>\n                </g>\n            </g>\n            <g>\n                <polyline points=\"71.85,197.08 126.02,152.74\" class=\"nad-hvdc\"/>\n            </g>\n        </g>\n        <g id=\"25\">\n            <g id=\"25.1\" class=\"nad-vl300to500\">\n                <polyline class=\"nad-edge-path\" points=\"293.03,454.34 263.25,411.11 162.78,363.30\"/>\n                <g class=\"nad-edge-infos\" transform=\"translate(236.16,398.22)\">\n                    <g class=\"nad-active nad-state-in\">\n                        <g transform=\"rotate(-64.56)\">\n                            <path class=\"nad-arrow-in\" transform=\"scale(10.00)\" d=\"M-1 -1 H1 L0 1z\"/>\n                            <path class=\"nad-arrow-out\" transform=\"scale(10.00)\" d=\"M-1 1 H1 L0 -1z\"/>\n                        </g>\n                        <text transform=\"rotate(-334.56)\" x=\"-19.00\" style=\"text-anchor:end\">-144</text>\n                    </g>\n                </g>\n            </g>\n            <g id=\"25.2\" class=\"nad-vl300to500\">\n                <polyline class=\"nad-edge-path\" points=\"9.97,319.67 62.31,315.50 162.78,363.30\"/>\n                <g class=\"nad-edge-infos\" transform=\"translate(89.40,328.39)\">\n                    <g class=\"nad-active nad-state-out\">\n                        <g transform=\"rotate(115.44)\">\n                            <path class=\"nad-arrow-in\" transform=\"scale(10.00)\" d=\"M-1 -1 H1 L0 1z\"/>\n                            <path class=\"nad-arrow-out\" transform=\"scale(10.00)\" d=\"M-1 1 H1 L0 -1z\"/>\n                        </g>\n                        <text transform=\"rotate(25.44)\" x=\"19.00\">144</text>\n                    </g>\n                </g>\n            </g>\n        </g>\n        <g id=\"26\">\n            <g id=\"26.1\" class=\"nad-vl300to500\">\n                <polyline class=\"nad-edge-path\" points=\"281.21,479.18 228.88,483.35 128.41,435.54\"/>\n                <g class=\"nad-edge-infos\" transform=\"translate(201.79,470.46)\">\n                    <g class=\"nad-active nad-state-in\">\n                        <g transform=\"rotate(-64.56)\">\n                            <path class=\"nad-arrow-in\" transform=\"scale(10.00)\" d=\"M-1 -1 H1 L0 1z\"/>\n                            <path class=\"nad-arrow-out\" transform=\"scale(10.00)\" d=\"M-1 1 H1 L0 -1z\"/>\n                        </g>\n                        <text transform=\"rotate(-334.56)\" x=\"-19.00\" style=\"text-anchor:end\">-144</text>\n                    </g>\n                </g>\n            </g>\n            <g id=\"26.2\" class=\"nad-vl300to500\">\n                <polyline class=\"nad-edge-path\" points=\"-1.84,344.50 27.94,387.74 128.41,435.54\"/>\n                <g class=\"nad-edge-infos\" transform=\"translate(55.03,400.63)\">\n                    <g class=\"nad-active nad-state-out\">\n                        <g transform=\"rotate(115.44)\">\n                            <path class=\"nad-arrow-in\" transform=\"scale(10.00)\" d=\"M-1 -1 H1 L0 1z\"/>\n                            <path class=\"nad-arrow-out\" transform=\"scale(10.00)\" d=\"M-1 1 H1 L0 -1z\"/>\n                        </g>\n                        <text transform=\"rotate(25.44)\" x=\"19.00\">144</text>\n                    </g>\n                </g>\n            </g>\n        </g>\n    </g>\n    <g class=\"nad-text-edges\">\n        <polyline id=\"0-textedge\" points=\"-5.22,-236.53 65.11,-247.08\"/>\n        <polyline id=\"2-textedge\" points=\"-271.50,18.38 -201.17,7.83\"/>\n        <polyline id=\"4-textedge\" points=\"-379.41,-329.04 -309.07,-339.59\"/>\n        <polyline id=\"6-textedge\" points=\"295.65,85.43 365.98,74.88\"/>\n        <polyline id=\"8-textedge\" points=\"12.23,317.40 82.56,306.85\"/>\n        <polyline id=\"10-textedge\" points=\"338.29,472.54 408.62,461.99\"/>\n    </g>\n    <foreignObject height=\"1\" width=\"1\" class=\"nad-text-nodes\">\n        <div xmlns=\"http://www.w3.org/1999/xhtml\">\n            <div class=\"nad-label-box\" style=\"position: absolute; top: -272px; left: 65px\" id=\"0-textnode\">\n                <div>NE_poste</div>\n                <div class=\"nad-bus-descr\">\n                    <span class=\"nad-vl300to500 nad-bus-0 nad-legend-square\"/>380.0 kV / -0.0°</div>\n            </div>\n            <div class=\"nad-label-box\" style=\"position: absolute; top: -17px; left: -201px\" id=\"2-textnode\">\n                <div>NO_poste</div>\n                <div class=\"nad-bus-descr\">\n                    <span class=\"nad-vl300to500 nad-bus-0 nad-legend-square\"/>380.0 kV / 0.0°</div>\n            </div>\n            <div class=\"nad-label-box\" style=\"position: absolute; top: -365px; left: -309px\" id=\"4-textnode\">\n                <div>N_poste</div>\n                <div class=\"nad-bus-descr\">\n                    <span class=\"nad-vl300to500 nad-bus-0 nad-legend-square\"/>380.0 kV / -0.0°</div>\n            </div>\n            <div class=\"nad-label-box\" style=\"position: absolute; top: 50px; left: 366px\" id=\"6-textnode\">\n                <div>SE_poste</div>\n                <div class=\"nad-bus-descr\">\n                    <span class=\"nad-vl300to500 nad-bus-0 nad-legend-square\"/>380.0 kV / -0.1°</div>\n            </div>\n            <div class=\"nad-label-box\" style=\"position: absolute; top: 282px; left: 83px\" id=\"8-textnode\">\n                <div>SO_poste</div>\n                <div class=\"nad-bus-descr\">\n                    <span class=\"nad-vl300to500 nad-bus-0 nad-legend-square\"/>380.0 kV / 0.0°</div>\n            </div>\n            <div class=\"nad-label-box\" style=\"position: absolute; top: 437px; left: 409px\" id=\"10-textnode\">\n                <div>S_poste</div>\n                <div class=\"nad-bus-descr\">\n                    <span class=\"nad-vl300to500 nad-bus-0 nad-legend-square\"/>380.0 kV / -0.0°</div>\n            </div>\n        </div>\n    </foreignObject>\n</svg>\n"
     },
     "execution_count": 191,
     "metadata": {},
     "output_type": "execute_result"
    }
   ],
   "execution_count": 191
  },
  {
   "cell_type": "code",
   "metadata": {
    "ExecuteTime": {
     "end_time": "2025-09-15T11:41:33.514614Z",
     "start_time": "2025-09-15T11:41:33.508695Z"
    }
   },
   "source": [
    "sa = pp.security.create_analysis()"
   ],
   "id": "bcb3ce751e3c18f4",
   "outputs": [],
   "execution_count": 192
  },
  {
   "cell_type": "markdown",
   "metadata": {
    "raw_mimetype": "text/markdown"
   },
   "source": [
    "We simulate a contingency on line S_SO_1. When loosing this line, flows are redirected and line S_SO_2 is overloaded. We are going to test various operator strategies to remove the limit violation."
   ],
   "id": "e3fce4e38cd1b21a"
  },
  {
   "cell_type": "code",
   "metadata": {
    "ExecuteTime": {
     "end_time": "2025-09-15T11:41:33.572162Z",
     "start_time": "2025-09-15T11:41:33.567011Z"
    }
   },
   "source": [
    "sa.add_single_element_contingency('S_SO_1', 'S_SO_1_contingency')"
   ],
   "id": "cfb39506a50ada0d",
   "outputs": [],
   "execution_count": 193
  },
  {
   "cell_type": "code",
   "metadata": {
    "ExecuteTime": {
     "end_time": "2025-09-15T11:41:33.627730Z",
     "start_time": "2025-09-15T11:41:33.623954Z"
    }
   },
   "source": [
    "sa.add_monitored_elements(branch_ids=['S_SO_2', 'SO_NO_1'])"
   ],
   "id": "bd361396f785bcd9",
   "outputs": [],
   "execution_count": 194
  },
  {
   "cell_type": "markdown",
   "metadata": {},
   "source": [
    "We add a current limit on line S_SO_2"
   ],
   "id": "7ee406c85a45c88b"
  },
  {
   "cell_type": "code",
   "metadata": {
    "ExecuteTime": {
     "end_time": "2025-09-15T11:41:33.689327Z",
     "start_time": "2025-09-15T11:41:33.680899Z"
    }
   },
   "source": [
    "six_nodes.create_operational_limits(pd.DataFrame.from_records(index='element_id', data=[\n",
    "   {'element_id': 'S_SO_2', 'name': 'permanent_limit', 'element_type': 'LINE', 'side': 'TWO',\n",
    "    'type': 'CURRENT', 'value': 400,\n",
    "    'acceptable_duration': np.inf, 'is_fictitious': False}\n",
    " ]))"
   ],
   "id": "a91145c3468656aa",
   "outputs": [],
   "execution_count": 195
  },
  {
   "cell_type": "markdown",
   "metadata": {},
   "source": [
    "## Detailed topology"
   ],
   "id": "4d50fb96cd1231c5"
  },
  {
   "cell_type": "markdown",
   "metadata": {},
   "source": [
    "### SO_poste"
   ],
   "id": "9d46aafb1ee45846"
  },
  {
   "cell_type": "code",
   "metadata": {
    "ExecuteTime": {
     "end_time": "2025-09-15T11:41:33.769801Z",
     "start_time": "2025-09-15T11:41:33.745198Z"
    }
   },
   "source": [
    "six_nodes.get_single_line_diagram('SO_poste')"
   ],
   "id": "d63f9a70d0617c48",
   "outputs": [
    {
     "data": {
      "text/plain": [
       "<pypowsybl.network.impl.svg.Svg at 0x7c7b76727d30>"
      ],
      "image/svg+xml": "<?xml version=\"1.0\" encoding=\"UTF-8\" standalone=\"no\"?>\n<svg height=\"529.0\" viewBox=\"0 0 630.0 529.0\" width=\"630.0\" xmlns=\"http://www.w3.org/2000/svg\">\n    <style><![CDATA[/* ----------------------------------------------------------------------- */\n/* File: tautologies.css ------------------------------------------------- */\n.sld-out .sld-arrow-in {visibility: hidden}\n.sld-in .sld-arrow-out {visibility: hidden}\n.sld-closed .sld-sw-open {visibility: hidden}\n.sld-open .sld-sw-closed {visibility: hidden}\n.sld-hidden-node {visibility: hidden}\n.sld-top-feeder .sld-label {dominant-baseline: auto}\n.sld-bottom-feeder .sld-label {dominant-baseline: hanging}\n.sld-active-power .sld-label {dominant-baseline: mathematical}\n.sld-reactive-power .sld-label {dominant-baseline: mathematical}\n.sld-current .sld-label {dominant-baseline: mathematical}\n/* ----------------------------------------------------------------------- */\n/* File: topologicalBaseVoltages.css ------------------------------------- */\n.sld-disconnected {--sld-vl-color: #808080}\n.sld-vl300to500.sld-bus-0 {--sld-vl-color: #FF0000}\n.sld-vl300to500.sld-bus-1 {--sld-vl-color: #7F6C00}\n.sld-vl300to500.sld-bus-2 {--sld-vl-color: #F6B2FF}\n.sld-vl300to500.sld-bus-3 {--sld-vl-color: #996700}\n.sld-vl300to500.sld-bus-4 {--sld-vl-color: #FF85EB}\n.sld-vl300to500.sld-bus-5 {--sld-vl-color: #B25B00}\n.sld-vl300to500.sld-bus-6 {--sld-vl-color: #FF59B5}\n.sld-vl300to500.sld-bus-7 {--sld-vl-color: #CC4400}\n.sld-vl300to500.sld-bus-8 {--sld-vl-color: #FF2C67}\n.sld-vl300to500.sld-bus-9 {--sld-vl-color: #E52600}\n.sld-vl180to300.sld-bus-0 {--sld-vl-color: #218B21}\n.sld-vl180to300.sld-bus-1 {--sld-vl-color: #0D4940}\n.sld-vl180to300.sld-bus-2 {--sld-vl-color: #DFDAB9}\n.sld-vl180to300.sld-bus-3 {--sld-vl-color: #105640}\n.sld-vl180to300.sld-bus-4 {--sld-vl-color: #C2CB92}\n.sld-vl180to300.sld-bus-5 {--sld-vl-color: #14643C}\n.sld-vl180to300.sld-bus-6 {--sld-vl-color: #95B66B}\n.sld-vl180to300.sld-bus-7 {--sld-vl-color: #187036}\n.sld-vl180to300.sld-bus-8 {--sld-vl-color: #5FA046}\n.sld-vl180to300.sld-bus-9 {--sld-vl-color: #1C7E2D}\n.sld-vl120to180.sld-bus-0 {--sld-vl-color: #00AFAE}\n.sld-vl120to180.sld-bus-1 {--sld-vl-color: #000D58}\n.sld-vl120to180.sld-bus-2 {--sld-vl-color: #B8E7B2}\n.sld-vl120to180.sld-bus-3 {--sld-vl-color: #002169}\n.sld-vl120to180.sld-bus-4 {--sld-vl-color: #85D993}\n.sld-vl120to180.sld-bus-5 {--sld-vl-color: #003C7B}\n.sld-vl120to180.sld-bus-6 {--sld-vl-color: #59CB8B}\n.sld-vl120to180.sld-bus-7 {--sld-vl-color: #005C8C}\n.sld-vl120to180.sld-bus-8 {--sld-vl-color: #2CBD94}\n.sld-vl120to180.sld-bus-9 {--sld-vl-color: #00839E}\n.sld-vl70to120.sld-bus-0 {--sld-vl-color: #CC5500}\n.sld-vl70to120.sld-bus-1 {--sld-vl-color: #4A6600}\n.sld-vl70to120.sld-bus-2 {--sld-vl-color: #EFB2DD}\n.sld-vl70to120.sld-bus-3 {--sld-vl-color: #6E7A00}\n.sld-vl70to120.sld-bus-4 {--sld-vl-color: #E685AE}\n.sld-vl70to120.sld-bus-5 {--sld-vl-color: #8E8400}\n.sld-vl70to120.sld-bus-6 {--sld-vl-color: #DD596B}\n.sld-vl70to120.sld-bus-7 {--sld-vl-color: #A37B00}\n.sld-vl70to120.sld-bus-8 {--sld-vl-color: #D4432C}\n.sld-vl70to120.sld-bus-9 {--sld-vl-color: #B76B00}\n.sld-vl50to70.sld-bus-0 {--sld-vl-color: #A020EF}\n.sld-vl50to70.sld-bus-1 {--sld-vl-color: #7F0848}\n.sld-vl50to70.sld-bus-2 {--sld-vl-color: #B7DBFE}\n.sld-vl50to70.sld-bus-3 {--sld-vl-color: #960C6D}\n.sld-vl50to70.sld-bus-4 {--sld-vl-color: #8DA6FE}\n.sld-vl50to70.sld-bus-5 {--sld-vl-color: #AD109A}\n.sld-vl50to70.sld-bus-6 {--sld-vl-color: #6F66FB}\n.sld-vl50to70.sld-bus-7 {--sld-vl-color: #BC14C4}\n.sld-vl50to70.sld-bus-8 {--sld-vl-color: #7F42F6}\n.sld-vl50to70.sld-bus-9 {--sld-vl-color: #B11AD9}\n.sld-vl30to50.sld-bus-0 {--sld-vl-color: #FF8290}\n.sld-vl30to50.sld-bus-1 {--sld-vl-color: #7F6F41}\n.sld-vl30to50.sld-bus-2 {--sld-vl-color: #F6D9FF}\n.sld-vl30to50.sld-bus-3 {--sld-vl-color: #99784E}\n.sld-vl30to50.sld-bus-4 {--sld-vl-color: #FFC3FB}\n.sld-vl30to50.sld-bus-5 {--sld-vl-color: #B27D5B}\n.sld-vl30to50.sld-bus-6 {--sld-vl-color: #FFADE3}\n.sld-vl30to50.sld-bus-7 {--sld-vl-color: #CC7E68}\n.sld-vl30to50.sld-bus-8 {--sld-vl-color: #FF97BF}\n.sld-vl30to50.sld-bus-9 {--sld-vl-color: #E57B75}\n.sld-vl0to30.sld-bus-0 {--sld-vl-color: #AAAE27}\n.sld-vl0to30.sld-bus-1 {--sld-vl-color: #195B0F}\n.sld-vl0to30.sld-bus-2 {--sld-vl-color: #EABABE}\n.sld-vl0to30.sld-bus-3 {--sld-vl-color: #2D6C13}\n.sld-vl0to30.sld-bus-4 {--sld-vl-color: #DDA193}\n.sld-vl0to30.sld-bus-5 {--sld-vl-color: #477D17}\n.sld-vl0to30.sld-bus-6 {--sld-vl-color: #CE9A6E}\n.sld-vl0to30.sld-bus-7 {--sld-vl-color: #648D1C}\n.sld-vl0to30.sld-bus-8 {--sld-vl-color: #BEA04A}\n.sld-vl0to30.sld-bus-9 {--sld-vl-color: #869D22}\n/* ----------------------------------------------------------------------- */\n/* File : highlightLineStates.css ---------------------------------------- */\n.sld-wire.sld-feeder-disconnected {stroke: black}\n.sld-wire.sld-feeder-connected-disconnected {stroke-dasharray: 3,3}\n.sld-wire.sld-feeder-disconnected-connected {stroke: black; stroke-dasharray: 3,3}\n.sld-busbar-section.sld-bus-disconnected {stroke-dasharray: 3,3}\n/* ----------------------------------------------------------------------- */\n/* File : components.css ------------------------------------------------- */\n/* Stroke black */\n.sld-disconnector {stroke-width: 3; stroke: black; fill: none}\n/* Stroke blue */\n.sld-breaker {stroke-width: 2; stroke: blue; fill:white}\n.sld-load-break-switch {stroke: blue; fill: white}\n/* Stroke --sld-vl-color with fallback black */\n.sld-bus-connection {fill: var(--sld-vl-color, black)}\n.sld-cell-shape-flat .sld-bus-connection {visibility: hidden}\n.sld-busbar-section {stroke: var(--sld-vl-color, black); stroke-width: 3; fill: none}\n/* Stroke --sld-vl-color with fallback red */\n.sld-wire {stroke: var(--sld-vl-color, #c80000); fill: none}\n.sld-wire.sld-dangling-line {stroke-width: 2px}\n.sld-wire.sld-tie-line {stroke-width: 2px}\n/* Stroke --sld-vl-color with fallback blue */\n.sld-load {stroke: var(--sld-vl-color, blue); fill: none}\n.sld-battery {stroke: var(--sld-vl-color, blue); fill: none}\n.sld-generator {stroke: var(--sld-vl-color, blue); fill: none}\n.sld-two-wt {stroke: var(--sld-vl-color, blue); fill: none}\n.sld-three-wt {stroke: var(--sld-vl-color, blue); fill: none}\n.sld-winding {stroke: var(--sld-vl-color, blue); fill: none}\n.sld-capacitor {stroke: var(--sld-vl-color, blue); fill: none}\n.sld-inductor {stroke: var(--sld-vl-color, blue); fill: none}\n.sld-pst {stroke: var(--sld-vl-color, blue); fill: none}\n.sld-pst-arrow {stroke: black; fill: none}\n.sld-svc {stroke: var(--sld-vl-color, blue); fill: none}\n.sld-vsc {stroke: var(--sld-vl-color, blue); font-size: 7.43px; fill: none}\n.sld-lcc {stroke: var(--sld-vl-color, blue); font-size: 7.43px; fill: none}\n.sld-ground {stroke: var(--sld-vl-color, blue); fill: none}\n/* Stroke none & fill: --sld-vl-color */\n.sld-node-infos {stroke: none; fill: var(--sld-vl-color, black)}\n/* Stroke none & fill: black */\n.sld-node {stroke: none; fill: black}\n.sld-flash {stroke: none; fill: black}\n.sld-lock {stroke: none; fill: black}\n.sld-unknown {stroke: none; fill: black}\n/* Fonts */\n.sld-label {stroke: none; fill: black; font: 8px serif}\n.sld-bus-legend-info {font: 10px serif}\n.sld-graph-label {font: 12px serif}\n/* Specific */\n.sld-grid {stroke: #003700; stroke-dasharray: 1,10}\n.sld-feeder-info.sld-active-power {fill:black}\n.sld-feeder-info.sld-reactive-power {fill:blue}\n.sld-feeder-info.sld-current {fill:purple}\n.sld-frame {fill: var(--sld-background-color, transparent)}\n/* Stroke maroon for fictitious switch */\n.sld-breaker.sld-fictitious {stroke: maroon}\n.sld-disconnector.sld-fictitious {stroke: maroon}\n.sld-load-break-switch.sld-fictitious {stroke: maroon}\n.sld-busbar-section.sld-fictitious {stroke: var(--sld-vl-color, #c80000); stroke-width: 1}\n/* ground disconnector specific */\n.sld-ground-disconnection-attach {stroke: var(--sld-vl-color, #c80000); fill: none}\n.sld-open .sld-ground-disconnection-ground {stroke: black; fill: none}\n.sld-closed .sld-ground-disconnection-ground {stroke: var(--sld-vl-color, #c80000); fill: none}\n.sld-ground-disconnection .sld-sw-open {stroke: black; fill: none}\n.sld-ground-disconnection .sld-sw-closed {stroke: black; fill: none}\n]]></style>\n    <rect class=\"sld-frame\" height=\"100%\" width=\"100%\"/>\n    <g>\n        <g class=\"sld-voltage-level\" id=\"idSO_95_poste\">\n            <g class=\"sld-busbar-section sld-vl300to500 sld-bus-0\" id=\"idSOO1_95_1\" transform=\"translate(52.5,252.0)\">\n                <line x1=\"0\" x2=\"525.0\" y1=\"0\" y2=\"0\"/>\n                <text class=\"sld-label\" id=\"idSOO1_95_1_95_NW_95_LABEL\" x=\"-5.0\" y=\"-5.0\">SOO1_1</text>\n            </g>\n            <g class=\"sld-busbar-section sld-vl300to500 sld-bus-0\" id=\"idSOO1_95_mnv\" transform=\"translate(52.5,277.0)\">\n                <line x1=\"0\" x2=\"525.0\" y1=\"0\" y2=\"0\"/>\n                <text class=\"sld-label\" id=\"idSOO1_95_mnv_95_NW_95_LABEL\" x=\"-5.0\" y=\"-5.0\">SOO1_mnv</text>\n            </g>\n            <g class=\"sld-intern-cell sld-cell-shape-vertical\" id=\"idINTERN_32_0\">\n                <g class=\"sld-wire sld-vl300to500 sld-bus-0\" id=\"_95_SO_95_poste_95_SOO1_95__95_SC12_95_0_95_INTERNAL_95_SO_95_poste_95_8\">\n                    <polyline points=\"115.0,252.0,115.0,212.0\"/>\n                </g>\n                <g class=\"sld-wire sld-vl300to500 sld-bus-0\" id=\"_95_SO_95_poste_95_SOO1_95__95_SC12_95_1_95_INTERNAL_95_SO_95_poste_95_8\">\n                    <polyline points=\"115.0,277.0,115.0,212.0\"/>\n                </g>\n                <g class=\"sld-wire sld-vl300to500 sld-bus-0\" id=\"_95_SO_95_poste_95_INTERNAL_95_SO_95_poste_95_8_95_SOO1_95_SOO1_95_DJ_95_OMN\">\n                    <polyline points=\"115.0,212.0,100.0,212.0\"/>\n                </g>\n                <g class=\"sld-wire sld-vl300to500 sld-bus-0\" id=\"_95_SO_95_poste_95_SOO1_95_SOO1_95_DJ_95_OMN_95_INTERNAL_95_SO_95_poste_95_9\">\n                    <polyline points=\"80.0,212.0,65.0,212.0\"/>\n                </g>\n                <g class=\"sld-wire sld-vl300to500 sld-bus-0\" id=\"_95_SO_95_poste_95_SOO1_95__95_SC13_95_0_95_INTERNAL_95_SO_95_poste_95_9\">\n                    <polyline points=\"65.0,252.0,65.0,212.0\"/>\n                </g>\n                <g class=\"sld-wire sld-vl300to500 sld-bus-0\" id=\"_95_SO_95_poste_95_SOO1_95__95_SC13_95_1_95_INTERNAL_95_SO_95_poste_95_9\">\n                    <polyline points=\"65.0,277.0,65.0,212.0\"/>\n                </g>\n                <g class=\"sld-disconnector sld-closed sld-vl300to500 sld-bus-0\" id=\"idSOO1_95__95_SC12_95_0\" transform=\"translate(111.0,248.0)\">\n                    <path class=\"sld-sw-closed\" d=\"M0,0 8,8 M8,0 0,8\"/>\n                    <path class=\"sld-sw-open\" d=\"M8,0 0,8\"/>\n                </g>\n                <g class=\"sld-node sld-hidden-node sld-fictitious sld-vl300to500 sld-bus-0\" id=\"idINTERNAL_95_SO_95_poste_95_8\" transform=\"translate(111.0,208.0)\">\n                    <circle cx=\"4\" cy=\"4\" r=\"4\"/>\n                </g>\n                <g class=\"sld-disconnector sld-open sld-vl300to500 sld-disconnected\" id=\"idSOO1_95__95_SC12_95_1\" transform=\"translate(111.0,273.0)\">\n                    <path class=\"sld-sw-closed\" d=\"M0,0 8,8 M8,0 0,8\"/>\n                    <path class=\"sld-sw-open\" d=\"M8,0 0,8\"/>\n                </g>\n                <g class=\"sld-breaker sld-closed sld-vl300to500 sld-bus-0\" id=\"idSOO1_95_SOO1_95_DJ_95_OMN\" transform=\"translate(80.0,202.0)\">\n                    <path class=\"sld-sw-closed\" d=\"M1,1 V19 H19 V1z M10,5 V15\" transform=\"rotate(90.0,10.0,10.0)\"/>\n                    <path class=\"sld-sw-open\" d=\"M1,1 V19 H19 V1z M5,10 H15\" transform=\"rotate(90.0,10.0,10.0)\"/>\n                </g>\n                <g class=\"sld-node sld-hidden-node sld-fictitious sld-vl300to500 sld-bus-0\" id=\"idINTERNAL_95_SO_95_poste_95_9\" transform=\"translate(61.0,208.0)\">\n                    <circle cx=\"4\" cy=\"4\" r=\"4\"/>\n                </g>\n                <g class=\"sld-disconnector sld-open sld-vl300to500 sld-disconnected\" id=\"idSOO1_95__95_SC13_95_0\" transform=\"translate(61.0,248.0)\">\n                    <path class=\"sld-sw-closed\" d=\"M0,0 8,8 M8,0 0,8\"/>\n                    <path class=\"sld-sw-open\" d=\"M8,0 0,8\"/>\n                </g>\n                <g class=\"sld-disconnector sld-closed sld-vl300to500 sld-bus-0\" id=\"idSOO1_95__95_SC13_95_1\" transform=\"translate(61.0,273.0)\">\n                    <path class=\"sld-sw-closed\" d=\"M0,0 8,8 M8,0 0,8\"/>\n                    <path class=\"sld-sw-open\" d=\"M8,0 0,8\"/>\n                </g>\n            </g>\n            <g class=\"sld-extern-cell sld-cell-direction-bottom\" id=\"idEXTERN_32_1\">\n                <g class=\"sld-wire sld-vl300to500 sld-bus-0\" id=\"_95_SO_95_poste_95_SOO1_95_SOO11_95_G_95_SC3_95_0_95_INTERNAL_95_SO_95_poste_95_2\">\n                    <polyline points=\"415.0,252.0,415.0,307.0\"/>\n                </g>\n                <g class=\"sld-wire sld-vl300to500 sld-bus-0\" id=\"_95_SO_95_poste_95_SOO1_95_SOO11_95_G_95_SC3_95_1_95_INTERNAL_95_SO_95_poste_95_2\">\n                    <polyline points=\"415.0,277.0,415.0,307.0\"/>\n                </g>\n                <g class=\"sld-wire sld-vl300to500 sld-bus-0\" id=\"_95_SO_95_poste_95_INTERNAL_95_SO_95_poste_95_2_95_SOO1_95_SOO11_95_G_95_DJ3\">\n                    <polyline points=\"415.0,307.0,415.0,337.0\"/>\n                </g>\n                <g class=\"sld-wire sld-vl300to500 sld-bus-0\" id=\"_95_SO_95_poste_95_SOO1_95_SOO11_95_G_95_DJ3_95_INTERNAL_95_SO_95_poste_95_SO_95_G1\">\n                    <polyline points=\"415.0,357.0,415.0,387.0\"/>\n                </g>\n                <g class=\"sld-wire sld-vl300to500 sld-bus-0\" id=\"_95_SO_95_poste_95_INTERNAL_95_SO_95_poste_95_SO_95_G1_95_SO_95_G1\">\n                    <polyline points=\"415.0,387.0,415.0,443.0\"/>\n                </g>\n                <g class=\"sld-feeder-info sld-in sld-reactive-power\" id=\"idSO_95_G1_95_ARROW_95_REACTIVE\" transform=\"translate(410.0,418.0)\">\n                    <polygon class=\"sld-arrow-out\" points=\"5,0 10,10 0,10\" transform=\"rotate(180.0,5.0,5.0)\"/>\n                    <polygon class=\"sld-arrow-in\" points=\"0,0 10,0 5,10\" transform=\"rotate(180.0,5.0,5.0)\"/>\n                    <text class=\"sld-label\" x=\"15.0\" y=\"5.0\">—</text>\n                </g>\n                <g class=\"sld-feeder-info sld-in sld-active-power\" id=\"idSO_95_G1_95_ARROW_95_ACTIVE\" transform=\"translate(410.0,398.0)\">\n                    <polygon class=\"sld-arrow-out\" points=\"5,0 10,10 0,10\" transform=\"rotate(180.0,5.0,5.0)\"/>\n                    <polygon class=\"sld-arrow-in\" points=\"0,0 10,0 5,10\" transform=\"rotate(180.0,5.0,5.0)\"/>\n                    <text class=\"sld-label\" x=\"15.0\" y=\"5.0\">-480</text>\n                </g>\n                <g class=\"sld-disconnector sld-closed sld-vl300to500 sld-bus-0\" id=\"idSOO1_95_SOO11_95_G_95_SC3_95_0\" transform=\"translate(411.0,248.0)\">\n                    <path class=\"sld-sw-closed\" d=\"M0,0 8,8 M8,0 0,8\"/>\n                    <path class=\"sld-sw-open\" d=\"M8,0 0,8\"/>\n                </g>\n                <g class=\"sld-node sld-hidden-node sld-fictitious sld-vl300to500 sld-bus-0\" id=\"idINTERNAL_95_SO_95_poste_95_2\" transform=\"translate(411.0,303.0)\">\n                    <circle cx=\"4\" cy=\"4\" r=\"4\"/>\n                </g>\n                <g class=\"sld-disconnector sld-open sld-vl300to500 sld-disconnected\" id=\"idSOO1_95_SOO11_95_G_95_SC3_95_1\" transform=\"translate(411.0,273.0)\">\n                    <path class=\"sld-sw-closed\" d=\"M0,0 8,8 M8,0 0,8\"/>\n                    <path class=\"sld-sw-open\" d=\"M8,0 0,8\"/>\n                </g>\n                <g class=\"sld-breaker sld-closed sld-vl300to500 sld-bus-0\" id=\"idSOO1_95_SOO11_95_G_95_DJ3\" transform=\"translate(405.0,337.0)\">\n                    <path class=\"sld-sw-closed\" d=\"M1,1 V19 H19 V1z M10,5 V15\"/>\n                    <path class=\"sld-sw-open\" d=\"M1,1 V19 H19 V1z M5,10 H15\"/>\n                </g>\n                <g class=\"sld-node sld-hidden-node sld-fictitious sld-vl300to500 sld-bus-0\" id=\"idINTERNAL_95_SO_95_poste_95_SO_95_G1\" transform=\"translate(411.0,383.0)\">\n                    <circle cx=\"4\" cy=\"4\" r=\"4\"/>\n                </g>\n                <g class=\"sld-generator sld-bottom-feeder sld-vl300to500 sld-bus-0\" id=\"idSO_95_G1\" transform=\"translate(409.0,443.0)\">\n                    <circle cx=\"6\" cy=\"6\" r=\"6\"/>\n                    <path d=\"M6,6 A 6 40 0 0 0 2,6\"/>\n                    <path d=\"M6,6 A 6 40 0 0 0 10,6\"/>\n                    <text class=\"sld-label\" id=\"idSO_95_G1_95_S_95_LABEL\" x=\"-5.0\" y=\"17.0\">SO_G1</text>\n                </g>\n            </g>\n            <g class=\"sld-extern-cell sld-cell-direction-bottom\" id=\"idEXTERN_32_2\">\n                <g class=\"sld-wire sld-vl300to500 sld-bus-0\" id=\"_95_SO_95_poste_95_SOO1_95_SOO1_32__32_NOD1_32__32_1_95_SC5_95_0_95_INTERNAL_95_SO_95_poste_95_4\">\n                    <polyline points=\"515.0,252.0,515.0,307.0\"/>\n                </g>\n                <g class=\"sld-wire sld-vl300to500 sld-bus-0\" id=\"_95_SO_95_poste_95_SOO1_95_SOO1_32__32_NOD1_32__32_1_95_SC5_95_1_95_INTERNAL_95_SO_95_poste_95_4\">\n                    <polyline points=\"515.0,277.0,515.0,307.0\"/>\n                </g>\n                <g class=\"sld-wire sld-vl300to500 sld-bus-0\" id=\"_95_SO_95_poste_95_INTERNAL_95_SO_95_poste_95_4_95_SOO1_95_SOO1_32__32_NOD1_32__32_1_95_DJ5\">\n                    <polyline points=\"515.0,307.0,515.0,337.0\"/>\n                </g>\n                <g class=\"sld-wire sld-vl300to500 sld-bus-0\" id=\"_95_SO_95_poste_95_SOO1_95_SOO1_32__32_NOD1_32__32_1_95_DJ5_95_INTERNAL_95_SO_95_poste_95_SO_95_NO_95_1_95_ONE\">\n                    <polyline points=\"515.0,357.0,515.0,387.0\"/>\n                </g>\n                <g class=\"sld-wire sld-vl300to500 sld-bus-0\" id=\"_95_SO_95_poste_95_INTERNAL_95_SO_95_poste_95_SO_95_NO_95_1_95_ONE_95_SO_95_NO_95_1_95_ONE\">\n                    <polyline points=\"515.0,387.0,515.0,449.0\"/>\n                </g>\n                <g class=\"sld-feeder-info sld-in sld-reactive-power\" id=\"idSO_95_NO_95_1_95_ONE_95_ARROW_95_REACTIVE\" transform=\"translate(510.0,424.0)\">\n                    <polygon class=\"sld-arrow-out\" points=\"5,0 10,10 0,10\" transform=\"rotate(180.0,5.0,5.0)\"/>\n                    <polygon class=\"sld-arrow-in\" points=\"0,0 10,0 5,10\" transform=\"rotate(180.0,5.0,5.0)\"/>\n                    <text class=\"sld-label\" x=\"15.0\" y=\"5.0\">—</text>\n                </g>\n                <g class=\"sld-feeder-info sld-out sld-active-power\" id=\"idSO_95_NO_95_1_95_ONE_95_ARROW_95_ACTIVE\" transform=\"translate(510.0,404.0)\">\n                    <polygon class=\"sld-arrow-out\" points=\"5,0 10,10 0,10\" transform=\"rotate(180.0,5.0,5.0)\"/>\n                    <polygon class=\"sld-arrow-in\" points=\"0,0 10,0 5,10\" transform=\"rotate(180.0,5.0,5.0)\"/>\n                    <text class=\"sld-label\" x=\"15.0\" y=\"5.0\">96</text>\n                </g>\n                <g class=\"sld-disconnector sld-open sld-vl300to500 sld-disconnected\" id=\"idSOO1_95_SOO1_32__32_NOD1_32__32_1_95_SC5_95_0\" transform=\"translate(511.0,248.0)\">\n                    <path class=\"sld-sw-closed\" d=\"M0,0 8,8 M8,0 0,8\"/>\n                    <path class=\"sld-sw-open\" d=\"M8,0 0,8\"/>\n                </g>\n                <g class=\"sld-node sld-hidden-node sld-fictitious sld-vl300to500 sld-bus-0\" id=\"idINTERNAL_95_SO_95_poste_95_4\" transform=\"translate(511.0,303.0)\">\n                    <circle cx=\"4\" cy=\"4\" r=\"4\"/>\n                </g>\n                <g class=\"sld-disconnector sld-closed sld-vl300to500 sld-bus-0\" id=\"idSOO1_95_SOO1_32__32_NOD1_32__32_1_95_SC5_95_1\" transform=\"translate(511.0,273.0)\">\n                    <path class=\"sld-sw-closed\" d=\"M0,0 8,8 M8,0 0,8\"/>\n                    <path class=\"sld-sw-open\" d=\"M8,0 0,8\"/>\n                </g>\n                <g class=\"sld-breaker sld-closed sld-vl300to500 sld-bus-0\" id=\"idSOO1_95_SOO1_32__32_NOD1_32__32_1_95_DJ5\" transform=\"translate(505.0,337.0)\">\n                    <path class=\"sld-sw-closed\" d=\"M1,1 V19 H19 V1z M10,5 V15\"/>\n                    <path class=\"sld-sw-open\" d=\"M1,1 V19 H19 V1z M5,10 H15\"/>\n                </g>\n                <g class=\"sld-node sld-hidden-node sld-fictitious sld-vl300to500 sld-bus-0\" id=\"idINTERNAL_95_SO_95_poste_95_SO_95_NO_95_1_95_ONE\" transform=\"translate(511.0,383.0)\">\n                    <circle cx=\"4\" cy=\"4\" r=\"4\"/>\n                </g>\n                <g class=\"sld-bottom-feeder\" id=\"idSO_95_NO_95_1_95_ONE\" transform=\"translate(515.0,449.0)\">\n                    <text class=\"sld-label\" id=\"idSO_95_NO_95_1_95_ONE_95_S_95_LABEL\" x=\"-5.0\" y=\"5.0\">SO_NO_1</text>\n                </g>\n            </g>\n            <g class=\"sld-extern-cell sld-cell-direction-top\" id=\"idEXTERN_32_3\">\n                <g class=\"sld-wire sld-vl300to500 sld-bus-0\" id=\"_95_SO_95_poste_95_SOO1_95_SOO1_32__32_NOD1_32__32_2_95_SC7_95_0_95_INTERNAL_95_SO_95_poste_95_6\">\n                    <polyline points=\"565.0,252.0,565.0,222.0\"/>\n                </g>\n                <g class=\"sld-wire sld-vl300to500 sld-bus-0\" id=\"_95_SO_95_poste_95_SOO1_95_SOO1_32__32_NOD1_32__32_2_95_SC7_95_1_95_INTERNAL_95_SO_95_poste_95_6\">\n                    <polyline points=\"565.0,277.0,565.0,222.0\"/>\n                </g>\n                <g class=\"sld-wire sld-vl300to500 sld-bus-0\" id=\"_95_SO_95_poste_95_INTERNAL_95_SO_95_poste_95_6_95_SOO1_95_SOO1_32__32_NOD1_32__32_2_95_DJ7\">\n                    <polyline points=\"565.0,222.0,565.0,192.0\"/>\n                </g>\n                <g class=\"sld-wire sld-vl300to500 sld-bus-0\" id=\"_95_SO_95_poste_95_SOO1_95_SOO1_32__32_NOD1_32__32_2_95_DJ7_95_INTERNAL_95_SO_95_poste_95_SO_95_NO_95_2_95_ONE\">\n                    <polyline points=\"565.0,172.0,565.0,142.0\"/>\n                </g>\n                <g class=\"sld-wire sld-vl300to500 sld-bus-0\" id=\"_95_SO_95_poste_95_INTERNAL_95_SO_95_poste_95_SO_95_NO_95_2_95_ONE_95_SO_95_NO_95_2_95_ONE\">\n                    <polyline points=\"565.0,142.0,565.0,80.0\"/>\n                </g>\n                <g class=\"sld-feeder-info sld-out sld-active-power\" id=\"idSO_95_NO_95_2_95_ONE_95_ARROW_95_ACTIVE\" transform=\"translate(560.0,95.0)\">\n                    <polygon class=\"sld-arrow-out\" points=\"5,0 10,10 0,10\"/>\n                    <polygon class=\"sld-arrow-in\" points=\"0,0 10,0 5,10\"/>\n                    <text class=\"sld-label\" x=\"15.0\" y=\"5.0\">96</text>\n                </g>\n                <g class=\"sld-feeder-info sld-in sld-reactive-power\" id=\"idSO_95_NO_95_2_95_ONE_95_ARROW_95_REACTIVE\" transform=\"translate(560.0,115.0)\">\n                    <polygon class=\"sld-arrow-out\" points=\"5,0 10,10 0,10\"/>\n                    <polygon class=\"sld-arrow-in\" points=\"0,0 10,0 5,10\"/>\n                    <text class=\"sld-label\" x=\"15.0\" y=\"5.0\">—</text>\n                </g>\n                <g class=\"sld-disconnector sld-closed sld-vl300to500 sld-bus-0\" id=\"idSOO1_95_SOO1_32__32_NOD1_32__32_2_95_SC7_95_0\" transform=\"translate(561.0,248.0)\">\n                    <path class=\"sld-sw-closed\" d=\"M0,0 8,8 M8,0 0,8\"/>\n                    <path class=\"sld-sw-open\" d=\"M8,0 0,8\"/>\n                </g>\n                <g class=\"sld-node sld-hidden-node sld-fictitious sld-vl300to500 sld-bus-0\" id=\"idINTERNAL_95_SO_95_poste_95_6\" transform=\"translate(561.0,218.0)\">\n                    <circle cx=\"4\" cy=\"4\" r=\"4\"/>\n                </g>\n                <g class=\"sld-disconnector sld-open sld-vl300to500 sld-disconnected\" id=\"idSOO1_95_SOO1_32__32_NOD1_32__32_2_95_SC7_95_1\" transform=\"translate(561.0,273.0)\">\n                    <path class=\"sld-sw-closed\" d=\"M0,0 8,8 M8,0 0,8\"/>\n                    <path class=\"sld-sw-open\" d=\"M8,0 0,8\"/>\n                </g>\n                <g class=\"sld-breaker sld-closed sld-vl300to500 sld-bus-0\" id=\"idSOO1_95_SOO1_32__32_NOD1_32__32_2_95_DJ7\" transform=\"translate(555.0,172.0)\">\n                    <path class=\"sld-sw-closed\" d=\"M1,1 V19 H19 V1z M10,5 V15\"/>\n                    <path class=\"sld-sw-open\" d=\"M1,1 V19 H19 V1z M5,10 H15\"/>\n                </g>\n                <g class=\"sld-node sld-hidden-node sld-fictitious sld-vl300to500 sld-bus-0\" id=\"idINTERNAL_95_SO_95_poste_95_SO_95_NO_95_2_95_ONE\" transform=\"translate(561.0,138.0)\">\n                    <circle cx=\"4\" cy=\"4\" r=\"4\"/>\n                </g>\n                <g class=\"sld-top-feeder\" id=\"idSO_95_NO_95_2_95_ONE\" transform=\"translate(565.0,80.0)\">\n                    <text class=\"sld-label\" id=\"idSO_95_NO_95_2_95_ONE_95_N_95_LABEL\" x=\"-5.0\" y=\"-5.0\">SO_NO_2</text>\n                </g>\n            </g>\n            <g class=\"sld-extern-cell sld-cell-direction-top\" id=\"idEXTERN_32_4\">\n                <g class=\"sld-wire sld-vl300to500 sld-bus-0\" id=\"_95_SO_95_poste_95_INTERNAL_95_SO_95_poste_95_11_95_SOO1_95_Sect_32_1_32_HVDC1\">\n                    <polyline points=\"165.0,222.0,165.0,252.0\"/>\n                </g>\n                <g class=\"sld-wire sld-vl300to500 sld-bus-0\" id=\"_95_SO_95_poste_95_SOO1_95_Disj_32_HVDC1_95_INTERNAL_95_SO_95_poste_95_11\">\n                    <polyline points=\"165.0,192.0,165.0,222.0\"/>\n                </g>\n                <g class=\"sld-wire sld-vl300to500 sld-bus-0\" id=\"_95_SO_95_poste_95_INTERNAL_95_SO_95_poste_95_11_95_SOO1_95_Sect_32_mnv_32_HVDC1\">\n                    <polyline points=\"165.0,222.0,165.0,277.0\"/>\n                </g>\n                <g class=\"sld-wire sld-vl300to500 sld-bus-0\" id=\"_95_SO_95_poste_95_INTERNAL_95_SO_95_poste_95_SOO1_95_SOO1_95_HVDC1_95_SOO1_95_Disj_32_HVDC1\">\n                    <polyline points=\"165.0,142.0,165.0,172.0\"/>\n                </g>\n                <g class=\"sld-wire sld-vl300to500 sld-bus-0\" id=\"_95_SO_95_poste_95_SOO1_95_SOO1_95_HVDC1_95_INTERNAL_95_SO_95_poste_95_SOO1_95_SOO1_95_HVDC1\">\n                    <polyline points=\"165.0,86.0,165.0,142.0\"/>\n                </g>\n                <g class=\"sld-feeder-info sld-in sld-active-power\" id=\"idSOO1_95_SOO1_95_HVDC1_95_ARROW_95_ACTIVE\" transform=\"translate(160.0,101.0)\">\n                    <polygon class=\"sld-arrow-out\" points=\"5,0 10,10 0,10\"/>\n                    <polygon class=\"sld-arrow-in\" points=\"0,0 10,0 5,10\"/>\n                    <text class=\"sld-label\" x=\"15.0\" y=\"5.0\">0</text>\n                </g>\n                <g class=\"sld-feeder-info sld-in sld-reactive-power\" id=\"idSOO1_95_SOO1_95_HVDC1_95_ARROW_95_REACTIVE\" transform=\"translate(160.0,121.0)\">\n                    <polygon class=\"sld-arrow-out\" points=\"5,0 10,10 0,10\"/>\n                    <polygon class=\"sld-arrow-in\" points=\"0,0 10,0 5,10\"/>\n                    <text class=\"sld-label\" x=\"15.0\" y=\"5.0\">—</text>\n                </g>\n                <g class=\"sld-disconnector sld-open sld-vl300to500 sld-disconnected\" id=\"idSOO1_95_Sect_32_1_32_HVDC1\" transform=\"translate(161.0,248.0)\">\n                    <path class=\"sld-sw-closed\" d=\"M0,0 8,8 M8,0 0,8\"/>\n                    <path class=\"sld-sw-open\" d=\"M8,0 0,8\"/>\n                </g>\n                <g class=\"sld-node sld-hidden-node sld-fictitious sld-vl300to500 sld-bus-0\" id=\"idINTERNAL_95_SO_95_poste_95_11\" transform=\"translate(161.0,218.0)\">\n                    <circle cx=\"4\" cy=\"4\" r=\"4\"/>\n                </g>\n                <g class=\"sld-breaker sld-closed sld-vl300to500 sld-bus-0\" id=\"idSOO1_95_Disj_32_HVDC1\" transform=\"translate(155.0,172.0)\">\n                    <path class=\"sld-sw-closed\" d=\"M1,1 V19 H19 V1z M10,5 V15\"/>\n                    <path class=\"sld-sw-open\" d=\"M1,1 V19 H19 V1z M5,10 H15\"/>\n                </g>\n                <g class=\"sld-node sld-hidden-node sld-fictitious sld-vl300to500 sld-bus-0\" id=\"idINTERNAL_95_SO_95_poste_95_SOO1_95_SOO1_95_HVDC1\" transform=\"translate(161.0,138.0)\">\n                    <circle cx=\"4\" cy=\"4\" r=\"4\"/>\n                </g>\n                <g class=\"sld-vsc sld-top-feeder sld-vl300to500 sld-bus-0\" id=\"idSOO1_95_SOO1_95_HVDC1\" transform=\"translate(157.0,76.0)\">\n                    <text x=\"-15.5\" y=\"6.6\">AC / DC - VSC</text>\n                    <text class=\"sld-label\" id=\"idSOO1_95_SOO1_95_HVDC1_95_N_95_LABEL\" x=\"-5.0\" y=\"-5.0\">HVDC1</text>\n                </g>\n                <g class=\"sld-disconnector sld-closed sld-vl300to500 sld-bus-0\" id=\"idSOO1_95_Sect_32_mnv_32_HVDC1\" transform=\"translate(161.0,273.0)\">\n                    <path class=\"sld-sw-closed\" d=\"M0,0 8,8 M8,0 0,8\"/>\n                    <path class=\"sld-sw-open\" d=\"M8,0 0,8\"/>\n                </g>\n            </g>\n            <g class=\"sld-extern-cell sld-cell-direction-bottom\" id=\"idEXTERN_32_5\">\n                <g class=\"sld-wire sld-vl300to500 sld-bus-0\" id=\"_95_SO_95_poste_95_INTERNAL_95_SO_95_poste_95_13_95_SOO1_95_Sect_32_1_32_HVDC2\">\n                    <polyline points=\"215.0,307.0,215.0,252.0\"/>\n                </g>\n                <g class=\"sld-wire sld-vl300to500 sld-bus-0\" id=\"_95_SO_95_poste_95_SOO1_95_Disj_32_HVDC2_95_INTERNAL_95_SO_95_poste_95_13\">\n                    <polyline points=\"215.0,337.0,215.0,307.0\"/>\n                </g>\n                <g class=\"sld-wire sld-vl300to500 sld-bus-0\" id=\"_95_SO_95_poste_95_INTERNAL_95_SO_95_poste_95_13_95_SOO1_95_Sect_32_mnv_32_HVDC2\">\n                    <polyline points=\"215.0,307.0,215.0,277.0\"/>\n                </g>\n                <g class=\"sld-wire sld-vl300to500 sld-bus-0\" id=\"_95_SO_95_poste_95_INTERNAL_95_SO_95_poste_95_SOO1_95_SOO1_95_HVDC2_95_SOO1_95_Disj_32_HVDC2\">\n                    <polyline points=\"215.0,387.0,215.0,357.0\"/>\n                </g>\n                <g class=\"sld-wire sld-vl300to500 sld-bus-0\" id=\"_95_SO_95_poste_95_SOO1_95_SOO1_95_HVDC2_95_INTERNAL_95_SO_95_poste_95_SOO1_95_SOO1_95_HVDC2\">\n                    <polyline points=\"215.0,443.0,215.0,387.0\"/>\n                </g>\n                <g class=\"sld-feeder-info sld-in sld-reactive-power\" id=\"idSOO1_95_SOO1_95_HVDC2_95_ARROW_95_REACTIVE\" transform=\"translate(210.0,418.0)\">\n                    <polygon class=\"sld-arrow-out\" points=\"5,0 10,10 0,10\" transform=\"rotate(180.0,5.0,5.0)\"/>\n                    <polygon class=\"sld-arrow-in\" points=\"0,0 10,0 5,10\" transform=\"rotate(180.0,5.0,5.0)\"/>\n                    <text class=\"sld-label\" x=\"15.0\" y=\"5.0\">—</text>\n                </g>\n                <g class=\"sld-feeder-info sld-in sld-active-power\" id=\"idSOO1_95_SOO1_95_HVDC2_95_ARROW_95_ACTIVE\" transform=\"translate(210.0,398.0)\">\n                    <polygon class=\"sld-arrow-out\" points=\"5,0 10,10 0,10\" transform=\"rotate(180.0,5.0,5.0)\"/>\n                    <polygon class=\"sld-arrow-in\" points=\"0,0 10,0 5,10\" transform=\"rotate(180.0,5.0,5.0)\"/>\n                    <text class=\"sld-label\" x=\"15.0\" y=\"5.0\">0</text>\n                </g>\n                <g class=\"sld-disconnector sld-closed sld-vl300to500 sld-bus-0\" id=\"idSOO1_95_Sect_32_1_32_HVDC2\" transform=\"translate(211.0,248.0)\">\n                    <path class=\"sld-sw-closed\" d=\"M0,0 8,8 M8,0 0,8\"/>\n                    <path class=\"sld-sw-open\" d=\"M8,0 0,8\"/>\n                </g>\n                <g class=\"sld-node sld-hidden-node sld-fictitious sld-vl300to500 sld-bus-0\" id=\"idINTERNAL_95_SO_95_poste_95_13\" transform=\"translate(211.0,303.0)\">\n                    <circle cx=\"4\" cy=\"4\" r=\"4\"/>\n                </g>\n                <g class=\"sld-breaker sld-closed sld-vl300to500 sld-bus-0\" id=\"idSOO1_95_Disj_32_HVDC2\" transform=\"translate(205.0,337.0)\">\n                    <path class=\"sld-sw-closed\" d=\"M1,1 V19 H19 V1z M10,5 V15\"/>\n                    <path class=\"sld-sw-open\" d=\"M1,1 V19 H19 V1z M5,10 H15\"/>\n                </g>\n                <g class=\"sld-node sld-hidden-node sld-fictitious sld-vl300to500 sld-bus-0\" id=\"idINTERNAL_95_SO_95_poste_95_SOO1_95_SOO1_95_HVDC2\" transform=\"translate(211.0,383.0)\">\n                    <circle cx=\"4\" cy=\"4\" r=\"4\"/>\n                </g>\n                <g class=\"sld-vsc sld-bottom-feeder sld-vl300to500 sld-bus-0\" id=\"idSOO1_95_SOO1_95_HVDC2\" transform=\"translate(207.0,445.0)\">\n                    <text x=\"-15.5\" y=\"6.6\">AC / DC - VSC</text>\n                    <text class=\"sld-label\" id=\"idSOO1_95_SOO1_95_HVDC2_95_S_95_LABEL\" x=\"-5.0\" y=\"13.0\">HVDC2</text>\n                </g>\n                <g class=\"sld-disconnector sld-open sld-vl300to500 sld-disconnected\" id=\"idSOO1_95_Sect_32_mnv_32_HVDC2\" transform=\"translate(211.0,273.0)\">\n                    <path class=\"sld-sw-closed\" d=\"M0,0 8,8 M8,0 0,8\"/>\n                    <path class=\"sld-sw-open\" d=\"M8,0 0,8\"/>\n                </g>\n            </g>\n            <g class=\"sld-extern-cell sld-cell-direction-top\" id=\"idEXTERN_32_6\">\n                <g class=\"sld-wire sld-vl300to500 sld-bus-0\" id=\"_95_SO_95_poste_95_INTERNAL_95_SO_95_poste_95_15_95_SOO1_95_Sect_32_1_32_SS1_32_SOO1_32_1\">\n                    <polyline points=\"265.0,222.0,265.0,252.0\"/>\n                </g>\n                <g class=\"sld-wire sld-vl300to500 sld-bus-0\" id=\"_95_SO_95_poste_95_SOO1_95_Disj_32_SS1_32_SOO1_32_1_95_INTERNAL_95_SO_95_poste_95_15\">\n                    <polyline points=\"265.0,192.0,265.0,222.0\"/>\n                </g>\n                <g class=\"sld-wire sld-vl300to500 sld-bus-0\" id=\"_95_SO_95_poste_95_INTERNAL_95_SO_95_poste_95_15_95_SOO1_95_Sect_32_mnv_32_SS1_32_SOO1_32_1\">\n                    <polyline points=\"265.0,222.0,265.0,277.0\"/>\n                </g>\n                <g class=\"sld-wire sld-vl300to500 sld-bus-0\" id=\"_95_SO_95_poste_95_INTERNAL_95_SO_95_poste_95_S_95_SO_95_1_95_TWO_95_SOO1_95_Disj_32_SS1_32_SOO1_32_1\">\n                    <polyline points=\"265.0,142.0,265.0,172.0\"/>\n                </g>\n                <g class=\"sld-wire sld-vl300to500 sld-bus-0\" id=\"_95_SO_95_poste_95_S_95_SO_95_1_95_TWO_95_INTERNAL_95_SO_95_poste_95_S_95_SO_95_1_95_TWO\">\n                    <polyline points=\"265.0,80.0,265.0,142.0\"/>\n                </g>\n                <g class=\"sld-feeder-info sld-out sld-active-power\" id=\"idS_95_SO_95_1_95_TWO_95_ARROW_95_ACTIVE\" transform=\"translate(260.0,95.0)\">\n                    <polygon class=\"sld-arrow-out\" points=\"5,0 10,10 0,10\"/>\n                    <polygon class=\"sld-arrow-in\" points=\"0,0 10,0 5,10\"/>\n                    <text class=\"sld-label\" x=\"15.0\" y=\"5.0\">144</text>\n                </g>\n                <g class=\"sld-feeder-info sld-in sld-reactive-power\" id=\"idS_95_SO_95_1_95_TWO_95_ARROW_95_REACTIVE\" transform=\"translate(260.0,115.0)\">\n                    <polygon class=\"sld-arrow-out\" points=\"5,0 10,10 0,10\"/>\n                    <polygon class=\"sld-arrow-in\" points=\"0,0 10,0 5,10\"/>\n                    <text class=\"sld-label\" x=\"15.0\" y=\"5.0\">—</text>\n                </g>\n                <g class=\"sld-disconnector sld-open sld-vl300to500 sld-disconnected\" id=\"idSOO1_95_Sect_32_1_32_SS1_32_SOO1_32_1\" transform=\"translate(261.0,248.0)\">\n                    <path class=\"sld-sw-closed\" d=\"M0,0 8,8 M8,0 0,8\"/>\n                    <path class=\"sld-sw-open\" d=\"M8,0 0,8\"/>\n                </g>\n                <g class=\"sld-node sld-hidden-node sld-fictitious sld-vl300to500 sld-bus-0\" id=\"idINTERNAL_95_SO_95_poste_95_15\" transform=\"translate(261.0,218.0)\">\n                    <circle cx=\"4\" cy=\"4\" r=\"4\"/>\n                </g>\n                <g class=\"sld-breaker sld-closed sld-vl300to500 sld-bus-0\" id=\"idSOO1_95_Disj_32_SS1_32_SOO1_32_1\" transform=\"translate(255.0,172.0)\">\n                    <path class=\"sld-sw-closed\" d=\"M1,1 V19 H19 V1z M10,5 V15\"/>\n                    <path class=\"sld-sw-open\" d=\"M1,1 V19 H19 V1z M5,10 H15\"/>\n                </g>\n                <g class=\"sld-node sld-hidden-node sld-fictitious sld-vl300to500 sld-bus-0\" id=\"idINTERNAL_95_SO_95_poste_95_S_95_SO_95_1_95_TWO\" transform=\"translate(261.0,138.0)\">\n                    <circle cx=\"4\" cy=\"4\" r=\"4\"/>\n                </g>\n                <g class=\"sld-top-feeder\" id=\"idS_95_SO_95_1_95_TWO\" transform=\"translate(265.0,80.0)\">\n                    <text class=\"sld-label\" id=\"idS_95_SO_95_1_95_TWO_95_N_95_LABEL\" x=\"-5.0\" y=\"-5.0\">S_SO_1</text>\n                </g>\n                <g class=\"sld-disconnector sld-closed sld-vl300to500 sld-bus-0\" id=\"idSOO1_95_Sect_32_mnv_32_SS1_32_SOO1_32_1\" transform=\"translate(261.0,273.0)\">\n                    <path class=\"sld-sw-closed\" d=\"M0,0 8,8 M8,0 0,8\"/>\n                    <path class=\"sld-sw-open\" d=\"M8,0 0,8\"/>\n                </g>\n            </g>\n            <g class=\"sld-extern-cell sld-cell-direction-bottom\" id=\"idEXTERN_32_7\">\n                <g class=\"sld-wire sld-vl300to500 sld-bus-0\" id=\"_95_SO_95_poste_95_INTERNAL_95_SO_95_poste_95_17_95_SOO1_95_Sect_32_1_32_SS1_32_SOO1_32_2\">\n                    <polyline points=\"315.0,307.0,315.0,252.0\"/>\n                </g>\n                <g class=\"sld-wire sld-vl300to500 sld-bus-0\" id=\"_95_SO_95_poste_95_SOO1_95_Disj_32_SS1_32_SOO1_32_2_95_INTERNAL_95_SO_95_poste_95_17\">\n                    <polyline points=\"315.0,337.0,315.0,307.0\"/>\n                </g>\n                <g class=\"sld-wire sld-vl300to500 sld-bus-0\" id=\"_95_SO_95_poste_95_INTERNAL_95_SO_95_poste_95_17_95_SOO1_95_Sect_32_mnv_32_SS1_32_SOO1_32_2\">\n                    <polyline points=\"315.0,307.0,315.0,277.0\"/>\n                </g>\n                <g class=\"sld-wire sld-vl300to500 sld-bus-0\" id=\"_95_SO_95_poste_95_INTERNAL_95_SO_95_poste_95_S_95_SO_95_2_95_TWO_95_SOO1_95_Disj_32_SS1_32_SOO1_32_2\">\n                    <polyline points=\"315.0,387.0,315.0,357.0\"/>\n                </g>\n                <g class=\"sld-wire sld-vl300to500 sld-bus-0\" id=\"_95_SO_95_poste_95_S_95_SO_95_2_95_TWO_95_INTERNAL_95_SO_95_poste_95_S_95_SO_95_2_95_TWO\">\n                    <polyline points=\"315.0,449.0,315.0,387.0\"/>\n                </g>\n                <g class=\"sld-feeder-info sld-in sld-reactive-power\" id=\"idS_95_SO_95_2_95_TWO_95_ARROW_95_REACTIVE\" transform=\"translate(310.0,424.0)\">\n                    <polygon class=\"sld-arrow-out\" points=\"5,0 10,10 0,10\" transform=\"rotate(180.0,5.0,5.0)\"/>\n                    <polygon class=\"sld-arrow-in\" points=\"0,0 10,0 5,10\" transform=\"rotate(180.0,5.0,5.0)\"/>\n                    <text class=\"sld-label\" x=\"15.0\" y=\"5.0\">—</text>\n                </g>\n                <g class=\"sld-feeder-info sld-out sld-active-power\" id=\"idS_95_SO_95_2_95_TWO_95_ARROW_95_ACTIVE\" transform=\"translate(310.0,404.0)\">\n                    <polygon class=\"sld-arrow-out\" points=\"5,0 10,10 0,10\" transform=\"rotate(180.0,5.0,5.0)\"/>\n                    <polygon class=\"sld-arrow-in\" points=\"0,0 10,0 5,10\" transform=\"rotate(180.0,5.0,5.0)\"/>\n                    <text class=\"sld-label\" x=\"15.0\" y=\"5.0\">144</text>\n                </g>\n                <g class=\"sld-disconnector sld-closed sld-vl300to500 sld-bus-0\" id=\"idSOO1_95_Sect_32_1_32_SS1_32_SOO1_32_2\" transform=\"translate(311.0,248.0)\">\n                    <path class=\"sld-sw-closed\" d=\"M0,0 8,8 M8,0 0,8\"/>\n                    <path class=\"sld-sw-open\" d=\"M8,0 0,8\"/>\n                </g>\n                <g class=\"sld-node sld-hidden-node sld-fictitious sld-vl300to500 sld-bus-0\" id=\"idINTERNAL_95_SO_95_poste_95_17\" transform=\"translate(311.0,303.0)\">\n                    <circle cx=\"4\" cy=\"4\" r=\"4\"/>\n                </g>\n                <g class=\"sld-breaker sld-closed sld-vl300to500 sld-bus-0\" id=\"idSOO1_95_Disj_32_SS1_32_SOO1_32_2\" transform=\"translate(305.0,337.0)\">\n                    <path class=\"sld-sw-closed\" d=\"M1,1 V19 H19 V1z M10,5 V15\"/>\n                    <path class=\"sld-sw-open\" d=\"M1,1 V19 H19 V1z M5,10 H15\"/>\n                </g>\n                <g class=\"sld-node sld-hidden-node sld-fictitious sld-vl300to500 sld-bus-0\" id=\"idINTERNAL_95_SO_95_poste_95_S_95_SO_95_2_95_TWO\" transform=\"translate(311.0,383.0)\">\n                    <circle cx=\"4\" cy=\"4\" r=\"4\"/>\n                </g>\n                <g class=\"sld-bottom-feeder\" id=\"idS_95_SO_95_2_95_TWO\" transform=\"translate(315.0,449.0)\">\n                    <text class=\"sld-label\" id=\"idS_95_SO_95_2_95_TWO_95_S_95_LABEL\" x=\"-5.0\" y=\"5.0\">S_SO_2</text>\n                </g>\n                <g class=\"sld-disconnector sld-open sld-vl300to500 sld-disconnected\" id=\"idSOO1_95_Sect_32_mnv_32_SS1_32_SOO1_32_2\" transform=\"translate(311.0,273.0)\">\n                    <path class=\"sld-sw-closed\" d=\"M0,0 8,8 M8,0 0,8\"/>\n                    <path class=\"sld-sw-open\" d=\"M8,0 0,8\"/>\n                </g>\n            </g>\n            <g class=\"sld-extern-cell sld-cell-direction-top\" id=\"idEXTERN_32_8\">\n                <g class=\"sld-wire sld-vl300to500 sld-bus-0\" id=\"_95_SO_95_poste_95_INTERNAL_95_SO_95_poste_95_19_95_SOO1_95_Sect_32_1_32_SOO11_95_L\">\n                    <polyline points=\"365.0,222.0,365.0,252.0\"/>\n                </g>\n                <g class=\"sld-wire sld-vl300to500 sld-bus-0\" id=\"_95_SO_95_poste_95_SOO1_95_Disj_32_SOO11_95_L_95_INTERNAL_95_SO_95_poste_95_19\">\n                    <polyline points=\"365.0,192.0,365.0,222.0\"/>\n                </g>\n                <g class=\"sld-wire sld-vl300to500 sld-bus-0\" id=\"_95_SO_95_poste_95_INTERNAL_95_SO_95_poste_95_19_95_SOO1_95_Sect_32_mnv_32_SOO11_95_L\">\n                    <polyline points=\"365.0,222.0,365.0,277.0\"/>\n                </g>\n                <g class=\"sld-wire sld-vl300to500 sld-bus-0\" id=\"_95_SO_95_poste_95_INTERNAL_95_SO_95_poste_95_SO_95_L_95_SOO1_95_Disj_32_SOO11_95_L\">\n                    <polyline points=\"365.0,142.0,365.0,172.0\"/>\n                </g>\n                <g class=\"sld-wire sld-vl300to500 sld-bus-0\" id=\"_95_SO_95_poste_95_SO_95_L_95_INTERNAL_95_SO_95_poste_95_SO_95_L\">\n                    <polyline points=\"365.0,84.5,365.0,142.0\"/>\n                </g>\n                <g class=\"sld-feeder-info sld-out sld-active-power\" id=\"idSO_95_L_95_ARROW_95_ACTIVE\" transform=\"translate(360.0,99.5)\">\n                    <polygon class=\"sld-arrow-out\" points=\"5,0 10,10 0,10\"/>\n                    <polygon class=\"sld-arrow-in\" points=\"0,0 10,0 5,10\"/>\n                    <text class=\"sld-label\" x=\"15.0\" y=\"5.0\">480</text>\n                </g>\n                <g class=\"sld-feeder-info sld-in sld-reactive-power\" id=\"idSO_95_L_95_ARROW_95_REACTIVE\" transform=\"translate(360.0,119.5)\">\n                    <polygon class=\"sld-arrow-out\" points=\"5,0 10,10 0,10\"/>\n                    <polygon class=\"sld-arrow-in\" points=\"0,0 10,0 5,10\"/>\n                    <text class=\"sld-label\" x=\"15.0\" y=\"5.0\">—</text>\n                </g>\n                <g class=\"sld-disconnector sld-closed sld-vl300to500 sld-bus-0\" id=\"idSOO1_95_Sect_32_1_32_SOO11_95_L\" transform=\"translate(361.0,248.0)\">\n                    <path class=\"sld-sw-closed\" d=\"M0,0 8,8 M8,0 0,8\"/>\n                    <path class=\"sld-sw-open\" d=\"M8,0 0,8\"/>\n                </g>\n                <g class=\"sld-node sld-hidden-node sld-fictitious sld-vl300to500 sld-bus-0\" id=\"idINTERNAL_95_SO_95_poste_95_19\" transform=\"translate(361.0,218.0)\">\n                    <circle cx=\"4\" cy=\"4\" r=\"4\"/>\n                </g>\n                <g class=\"sld-breaker sld-closed sld-vl300to500 sld-bus-0\" id=\"idSOO1_95_Disj_32_SOO11_95_L\" transform=\"translate(355.0,172.0)\">\n                    <path class=\"sld-sw-closed\" d=\"M1,1 V19 H19 V1z M10,5 V15\"/>\n                    <path class=\"sld-sw-open\" d=\"M1,1 V19 H19 V1z M5,10 H15\"/>\n                </g>\n                <g class=\"sld-node sld-hidden-node sld-fictitious sld-vl300to500 sld-bus-0\" id=\"idINTERNAL_95_SO_95_poste_95_SO_95_L\" transform=\"translate(361.0,138.0)\">\n                    <circle cx=\"4\" cy=\"4\" r=\"4\"/>\n                </g>\n                <g class=\"sld-load sld-top-feeder sld-vl300to500 sld-bus-0\" id=\"idSO_95_L\" transform=\"translate(357.0,75.5)\">\n                    <rect height=\"9\" width=\"16\"/>\n                    <line x1=\"0\" x2=\"16\" y1=\"0\" y2=\"9\"/>\n                    <line x1=\"16\" x2=\"0\" y1=\"0\" y2=\"9\"/>\n                    <text class=\"sld-label\" id=\"idSO_95_L_95_N_95_LABEL\" x=\"-5.0\" y=\"-5.0\">SO_L</text>\n                </g>\n                <g class=\"sld-disconnector sld-open sld-vl300to500 sld-disconnected\" id=\"idSOO1_95_Sect_32_mnv_32_SOO11_95_L\" transform=\"translate(361.0,273.0)\">\n                    <path class=\"sld-sw-closed\" d=\"M0,0 8,8 M8,0 0,8\"/>\n                    <path class=\"sld-sw-open\" d=\"M8,0 0,8\"/>\n                </g>\n            </g>\n            <g class=\"sld-extern-cell sld-cell-direction-top\" id=\"idEXTERN_32_9\">\n                <g class=\"sld-wire sld-vl300to500 sld-bus-0\" id=\"_95_SO_95_poste_95_INTERNAL_95_SO_95_poste_95_21_95_SOO1_95_Sect_32_1_32_SOO12_95_G\">\n                    <polyline points=\"465.0,222.0,465.0,252.0\"/>\n                </g>\n                <g class=\"sld-wire sld-vl300to500 sld-bus-0\" id=\"_95_SO_95_poste_95_SOO1_95_Disj_32_SOO12_95_G_95_INTERNAL_95_SO_95_poste_95_21\">\n                    <polyline points=\"465.0,192.0,465.0,222.0\"/>\n                </g>\n                <g class=\"sld-wire sld-vl300to500 sld-bus-0\" id=\"_95_SO_95_poste_95_INTERNAL_95_SO_95_poste_95_21_95_SOO1_95_Sect_32_mnv_32_SOO12_95_G\">\n                    <polyline points=\"465.0,222.0,465.0,277.0\"/>\n                </g>\n                <g class=\"sld-wire sld-vl300to500 sld-bus-0\" id=\"_95_SO_95_poste_95_INTERNAL_95_SO_95_poste_95_SO_95_G2_95_SOO1_95_Disj_32_SOO12_95_G\">\n                    <polyline points=\"465.0,142.0,465.0,172.0\"/>\n                </g>\n                <g class=\"sld-wire sld-vl300to500 sld-bus-0\" id=\"_95_SO_95_poste_95_SO_95_G2_95_INTERNAL_95_SO_95_poste_95_SO_95_G2\">\n                    <polyline points=\"465.0,86.0,465.0,142.0\"/>\n                </g>\n                <g class=\"sld-feeder-info sld-in sld-active-power\" id=\"idSO_95_G2_95_ARROW_95_ACTIVE\" transform=\"translate(460.0,101.0)\">\n                    <polygon class=\"sld-arrow-out\" points=\"5,0 10,10 0,10\"/>\n                    <polygon class=\"sld-arrow-in\" points=\"0,0 10,0 5,10\"/>\n                    <text class=\"sld-label\" x=\"15.0\" y=\"5.0\">-480</text>\n                </g>\n                <g class=\"sld-feeder-info sld-in sld-reactive-power\" id=\"idSO_95_G2_95_ARROW_95_REACTIVE\" transform=\"translate(460.0,121.0)\">\n                    <polygon class=\"sld-arrow-out\" points=\"5,0 10,10 0,10\"/>\n                    <polygon class=\"sld-arrow-in\" points=\"0,0 10,0 5,10\"/>\n                    <text class=\"sld-label\" x=\"15.0\" y=\"5.0\">—</text>\n                </g>\n                <g class=\"sld-disconnector sld-open sld-vl300to500 sld-disconnected\" id=\"idSOO1_95_Sect_32_1_32_SOO12_95_G\" transform=\"translate(461.0,248.0)\">\n                    <path class=\"sld-sw-closed\" d=\"M0,0 8,8 M8,0 0,8\"/>\n                    <path class=\"sld-sw-open\" d=\"M8,0 0,8\"/>\n                </g>\n                <g class=\"sld-node sld-hidden-node sld-fictitious sld-vl300to500 sld-bus-0\" id=\"idINTERNAL_95_SO_95_poste_95_21\" transform=\"translate(461.0,218.0)\">\n                    <circle cx=\"4\" cy=\"4\" r=\"4\"/>\n                </g>\n                <g class=\"sld-breaker sld-closed sld-vl300to500 sld-bus-0\" id=\"idSOO1_95_Disj_32_SOO12_95_G\" transform=\"translate(455.0,172.0)\">\n                    <path class=\"sld-sw-closed\" d=\"M1,1 V19 H19 V1z M10,5 V15\"/>\n                    <path class=\"sld-sw-open\" d=\"M1,1 V19 H19 V1z M5,10 H15\"/>\n                </g>\n                <g class=\"sld-node sld-hidden-node sld-fictitious sld-vl300to500 sld-bus-0\" id=\"idINTERNAL_95_SO_95_poste_95_SO_95_G2\" transform=\"translate(461.0,138.0)\">\n                    <circle cx=\"4\" cy=\"4\" r=\"4\"/>\n                </g>\n                <g class=\"sld-generator sld-top-feeder sld-vl300to500 sld-bus-0\" id=\"idSO_95_G2\" transform=\"translate(459.0,74.0)\">\n                    <circle cx=\"6\" cy=\"6\" r=\"6\"/>\n                    <path d=\"M6,6 A 6 40 0 0 0 2,6\"/>\n                    <path d=\"M6,6 A 6 40 0 0 0 10,6\"/>\n                    <text class=\"sld-label\" id=\"idSO_95_G2_95_N_95_LABEL\" x=\"-5.0\" y=\"-5.0\">SO_G2</text>\n                </g>\n                <g class=\"sld-disconnector sld-closed sld-vl300to500 sld-bus-0\" id=\"idSOO1_95_Sect_32_mnv_32_SOO12_95_G\" transform=\"translate(461.0,273.0)\">\n                    <path class=\"sld-sw-closed\" d=\"M0,0 8,8 M8,0 0,8\"/>\n                    <path class=\"sld-sw-open\" d=\"M8,0 0,8\"/>\n                </g>\n            </g>\n        </g>\n    </g>\n</svg>\n"
     },
     "execution_count": 196,
     "metadata": {},
     "output_type": "execute_result"
    }
   ],
   "execution_count": 196
  },
  {
   "cell_type": "markdown",
   "metadata": {},
   "source": [
    "### SE_poste"
   ],
   "id": "c9fdaeda67f90947"
  },
  {
   "cell_type": "code",
   "metadata": {
    "ExecuteTime": {
     "end_time": "2025-09-15T11:41:33.840565Z",
     "start_time": "2025-09-15T11:41:33.820027Z"
    }
   },
   "source": [
    "six_nodes.get_single_line_diagram('SE_poste')"
   ],
   "id": "d1c444ff76b5274a",
   "outputs": [
    {
     "data": {
      "text/plain": [
       "<pypowsybl.network.impl.svg.Svg at 0x7c7e0c3f4dc0>"
      ],
      "image/svg+xml": "<?xml version=\"1.0\" encoding=\"UTF-8\" standalone=\"no\"?>\n<svg height=\"529.0\" viewBox=\"0 0 630.0 529.0\" width=\"630.0\" xmlns=\"http://www.w3.org/2000/svg\">\n    <style><![CDATA[/* ----------------------------------------------------------------------- */\n/* File: tautologies.css ------------------------------------------------- */\n.sld-out .sld-arrow-in {visibility: hidden}\n.sld-in .sld-arrow-out {visibility: hidden}\n.sld-closed .sld-sw-open {visibility: hidden}\n.sld-open .sld-sw-closed {visibility: hidden}\n.sld-hidden-node {visibility: hidden}\n.sld-top-feeder .sld-label {dominant-baseline: auto}\n.sld-bottom-feeder .sld-label {dominant-baseline: hanging}\n.sld-active-power .sld-label {dominant-baseline: mathematical}\n.sld-reactive-power .sld-label {dominant-baseline: mathematical}\n.sld-current .sld-label {dominant-baseline: mathematical}\n/* ----------------------------------------------------------------------- */\n/* File: topologicalBaseVoltages.css ------------------------------------- */\n.sld-disconnected {--sld-vl-color: #808080}\n.sld-vl300to500.sld-bus-0 {--sld-vl-color: #FF0000}\n.sld-vl300to500.sld-bus-1 {--sld-vl-color: #7F6C00}\n.sld-vl300to500.sld-bus-2 {--sld-vl-color: #F6B2FF}\n.sld-vl300to500.sld-bus-3 {--sld-vl-color: #996700}\n.sld-vl300to500.sld-bus-4 {--sld-vl-color: #FF85EB}\n.sld-vl300to500.sld-bus-5 {--sld-vl-color: #B25B00}\n.sld-vl300to500.sld-bus-6 {--sld-vl-color: #FF59B5}\n.sld-vl300to500.sld-bus-7 {--sld-vl-color: #CC4400}\n.sld-vl300to500.sld-bus-8 {--sld-vl-color: #FF2C67}\n.sld-vl300to500.sld-bus-9 {--sld-vl-color: #E52600}\n.sld-vl180to300.sld-bus-0 {--sld-vl-color: #218B21}\n.sld-vl180to300.sld-bus-1 {--sld-vl-color: #0D4940}\n.sld-vl180to300.sld-bus-2 {--sld-vl-color: #DFDAB9}\n.sld-vl180to300.sld-bus-3 {--sld-vl-color: #105640}\n.sld-vl180to300.sld-bus-4 {--sld-vl-color: #C2CB92}\n.sld-vl180to300.sld-bus-5 {--sld-vl-color: #14643C}\n.sld-vl180to300.sld-bus-6 {--sld-vl-color: #95B66B}\n.sld-vl180to300.sld-bus-7 {--sld-vl-color: #187036}\n.sld-vl180to300.sld-bus-8 {--sld-vl-color: #5FA046}\n.sld-vl180to300.sld-bus-9 {--sld-vl-color: #1C7E2D}\n.sld-vl120to180.sld-bus-0 {--sld-vl-color: #00AFAE}\n.sld-vl120to180.sld-bus-1 {--sld-vl-color: #000D58}\n.sld-vl120to180.sld-bus-2 {--sld-vl-color: #B8E7B2}\n.sld-vl120to180.sld-bus-3 {--sld-vl-color: #002169}\n.sld-vl120to180.sld-bus-4 {--sld-vl-color: #85D993}\n.sld-vl120to180.sld-bus-5 {--sld-vl-color: #003C7B}\n.sld-vl120to180.sld-bus-6 {--sld-vl-color: #59CB8B}\n.sld-vl120to180.sld-bus-7 {--sld-vl-color: #005C8C}\n.sld-vl120to180.sld-bus-8 {--sld-vl-color: #2CBD94}\n.sld-vl120to180.sld-bus-9 {--sld-vl-color: #00839E}\n.sld-vl70to120.sld-bus-0 {--sld-vl-color: #CC5500}\n.sld-vl70to120.sld-bus-1 {--sld-vl-color: #4A6600}\n.sld-vl70to120.sld-bus-2 {--sld-vl-color: #EFB2DD}\n.sld-vl70to120.sld-bus-3 {--sld-vl-color: #6E7A00}\n.sld-vl70to120.sld-bus-4 {--sld-vl-color: #E685AE}\n.sld-vl70to120.sld-bus-5 {--sld-vl-color: #8E8400}\n.sld-vl70to120.sld-bus-6 {--sld-vl-color: #DD596B}\n.sld-vl70to120.sld-bus-7 {--sld-vl-color: #A37B00}\n.sld-vl70to120.sld-bus-8 {--sld-vl-color: #D4432C}\n.sld-vl70to120.sld-bus-9 {--sld-vl-color: #B76B00}\n.sld-vl50to70.sld-bus-0 {--sld-vl-color: #A020EF}\n.sld-vl50to70.sld-bus-1 {--sld-vl-color: #7F0848}\n.sld-vl50to70.sld-bus-2 {--sld-vl-color: #B7DBFE}\n.sld-vl50to70.sld-bus-3 {--sld-vl-color: #960C6D}\n.sld-vl50to70.sld-bus-4 {--sld-vl-color: #8DA6FE}\n.sld-vl50to70.sld-bus-5 {--sld-vl-color: #AD109A}\n.sld-vl50to70.sld-bus-6 {--sld-vl-color: #6F66FB}\n.sld-vl50to70.sld-bus-7 {--sld-vl-color: #BC14C4}\n.sld-vl50to70.sld-bus-8 {--sld-vl-color: #7F42F6}\n.sld-vl50to70.sld-bus-9 {--sld-vl-color: #B11AD9}\n.sld-vl30to50.sld-bus-0 {--sld-vl-color: #FF8290}\n.sld-vl30to50.sld-bus-1 {--sld-vl-color: #7F6F41}\n.sld-vl30to50.sld-bus-2 {--sld-vl-color: #F6D9FF}\n.sld-vl30to50.sld-bus-3 {--sld-vl-color: #99784E}\n.sld-vl30to50.sld-bus-4 {--sld-vl-color: #FFC3FB}\n.sld-vl30to50.sld-bus-5 {--sld-vl-color: #B27D5B}\n.sld-vl30to50.sld-bus-6 {--sld-vl-color: #FFADE3}\n.sld-vl30to50.sld-bus-7 {--sld-vl-color: #CC7E68}\n.sld-vl30to50.sld-bus-8 {--sld-vl-color: #FF97BF}\n.sld-vl30to50.sld-bus-9 {--sld-vl-color: #E57B75}\n.sld-vl0to30.sld-bus-0 {--sld-vl-color: #AAAE27}\n.sld-vl0to30.sld-bus-1 {--sld-vl-color: #195B0F}\n.sld-vl0to30.sld-bus-2 {--sld-vl-color: #EABABE}\n.sld-vl0to30.sld-bus-3 {--sld-vl-color: #2D6C13}\n.sld-vl0to30.sld-bus-4 {--sld-vl-color: #DDA193}\n.sld-vl0to30.sld-bus-5 {--sld-vl-color: #477D17}\n.sld-vl0to30.sld-bus-6 {--sld-vl-color: #CE9A6E}\n.sld-vl0to30.sld-bus-7 {--sld-vl-color: #648D1C}\n.sld-vl0to30.sld-bus-8 {--sld-vl-color: #BEA04A}\n.sld-vl0to30.sld-bus-9 {--sld-vl-color: #869D22}\n/* ----------------------------------------------------------------------- */\n/* File : highlightLineStates.css ---------------------------------------- */\n.sld-wire.sld-feeder-disconnected {stroke: black}\n.sld-wire.sld-feeder-connected-disconnected {stroke-dasharray: 3,3}\n.sld-wire.sld-feeder-disconnected-connected {stroke: black; stroke-dasharray: 3,3}\n.sld-busbar-section.sld-bus-disconnected {stroke-dasharray: 3,3}\n/* ----------------------------------------------------------------------- */\n/* File : components.css ------------------------------------------------- */\n/* Stroke black */\n.sld-disconnector {stroke-width: 3; stroke: black; fill: none}\n/* Stroke blue */\n.sld-breaker {stroke-width: 2; stroke: blue; fill:white}\n.sld-load-break-switch {stroke: blue; fill: white}\n/* Stroke --sld-vl-color with fallback black */\n.sld-bus-connection {fill: var(--sld-vl-color, black)}\n.sld-cell-shape-flat .sld-bus-connection {visibility: hidden}\n.sld-busbar-section {stroke: var(--sld-vl-color, black); stroke-width: 3; fill: none}\n/* Stroke --sld-vl-color with fallback red */\n.sld-wire {stroke: var(--sld-vl-color, #c80000); fill: none}\n.sld-wire.sld-dangling-line {stroke-width: 2px}\n.sld-wire.sld-tie-line {stroke-width: 2px}\n/* Stroke --sld-vl-color with fallback blue */\n.sld-load {stroke: var(--sld-vl-color, blue); fill: none}\n.sld-battery {stroke: var(--sld-vl-color, blue); fill: none}\n.sld-generator {stroke: var(--sld-vl-color, blue); fill: none}\n.sld-two-wt {stroke: var(--sld-vl-color, blue); fill: none}\n.sld-three-wt {stroke: var(--sld-vl-color, blue); fill: none}\n.sld-winding {stroke: var(--sld-vl-color, blue); fill: none}\n.sld-capacitor {stroke: var(--sld-vl-color, blue); fill: none}\n.sld-inductor {stroke: var(--sld-vl-color, blue); fill: none}\n.sld-pst {stroke: var(--sld-vl-color, blue); fill: none}\n.sld-pst-arrow {stroke: black; fill: none}\n.sld-svc {stroke: var(--sld-vl-color, blue); fill: none}\n.sld-vsc {stroke: var(--sld-vl-color, blue); font-size: 7.43px; fill: none}\n.sld-lcc {stroke: var(--sld-vl-color, blue); font-size: 7.43px; fill: none}\n.sld-ground {stroke: var(--sld-vl-color, blue); fill: none}\n/* Stroke none & fill: --sld-vl-color */\n.sld-node-infos {stroke: none; fill: var(--sld-vl-color, black)}\n/* Stroke none & fill: black */\n.sld-node {stroke: none; fill: black}\n.sld-flash {stroke: none; fill: black}\n.sld-lock {stroke: none; fill: black}\n.sld-unknown {stroke: none; fill: black}\n/* Fonts */\n.sld-label {stroke: none; fill: black; font: 8px serif}\n.sld-bus-legend-info {font: 10px serif}\n.sld-graph-label {font: 12px serif}\n/* Specific */\n.sld-grid {stroke: #003700; stroke-dasharray: 1,10}\n.sld-feeder-info.sld-active-power {fill:black}\n.sld-feeder-info.sld-reactive-power {fill:blue}\n.sld-feeder-info.sld-current {fill:purple}\n.sld-frame {fill: var(--sld-background-color, transparent)}\n/* Stroke maroon for fictitious switch */\n.sld-breaker.sld-fictitious {stroke: maroon}\n.sld-disconnector.sld-fictitious {stroke: maroon}\n.sld-load-break-switch.sld-fictitious {stroke: maroon}\n.sld-busbar-section.sld-fictitious {stroke: var(--sld-vl-color, #c80000); stroke-width: 1}\n/* ground disconnector specific */\n.sld-ground-disconnection-attach {stroke: var(--sld-vl-color, #c80000); fill: none}\n.sld-open .sld-ground-disconnection-ground {stroke: black; fill: none}\n.sld-closed .sld-ground-disconnection-ground {stroke: var(--sld-vl-color, #c80000); fill: none}\n.sld-ground-disconnection .sld-sw-open {stroke: black; fill: none}\n.sld-ground-disconnection .sld-sw-closed {stroke: black; fill: none}\n]]></style>\n    <rect class=\"sld-frame\" height=\"100%\" width=\"100%\"/>\n    <g>\n        <g class=\"sld-voltage-level\" id=\"idSE_95_poste\">\n            <g class=\"sld-busbar-section sld-vl300to500 sld-bus-0\" id=\"idSEI1_95_1\" transform=\"translate(52.5,252.0)\">\n                <line x1=\"0\" x2=\"525.0\" y1=\"0\" y2=\"0\"/>\n                <text class=\"sld-label\" id=\"idSEI1_95_1_95_NW_95_LABEL\" x=\"-5.0\" y=\"-5.0\">SEI1_1</text>\n            </g>\n            <g class=\"sld-busbar-section sld-vl300to500 sld-bus-0\" id=\"idSEI1_95_mnv\" transform=\"translate(52.5,277.0)\">\n                <line x1=\"0\" x2=\"525.0\" y1=\"0\" y2=\"0\"/>\n                <text class=\"sld-label\" id=\"idSEI1_95_mnv_95_NW_95_LABEL\" x=\"-5.0\" y=\"-5.0\">SEI1_mnv</text>\n            </g>\n            <g class=\"sld-intern-cell sld-cell-shape-vertical\" id=\"idINTERN_32_0\">\n                <g class=\"sld-wire sld-vl300to500 sld-bus-0\" id=\"_95_SE_95_poste_95_SEI1_95__95_SC12_95_0_95_INTERNAL_95_SE_95_poste_95_12\">\n                    <polyline points=\"115.0,252.0,115.0,212.0\"/>\n                </g>\n                <g class=\"sld-wire sld-vl300to500 sld-bus-0\" id=\"_95_SE_95_poste_95_SEI1_95__95_SC12_95_1_95_INTERNAL_95_SE_95_poste_95_12\">\n                    <polyline points=\"115.0,277.0,115.0,212.0\"/>\n                </g>\n                <g class=\"sld-wire sld-vl300to500 sld-bus-0\" id=\"_95_SE_95_poste_95_INTERNAL_95_SE_95_poste_95_12_95_SEI1_95_SEI1_95_DJ_95_OMN\">\n                    <polyline points=\"115.0,212.0,100.0,212.0\"/>\n                </g>\n                <g class=\"sld-wire sld-vl300to500 sld-bus-0\" id=\"_95_SE_95_poste_95_SEI1_95_SEI1_95_DJ_95_OMN_95_INTERNAL_95_SE_95_poste_95_13\">\n                    <polyline points=\"80.0,212.0,65.0,212.0\"/>\n                </g>\n                <g class=\"sld-wire sld-vl300to500 sld-bus-0\" id=\"_95_SE_95_poste_95_SEI1_95__95_SC13_95_0_95_INTERNAL_95_SE_95_poste_95_13\">\n                    <polyline points=\"65.0,252.0,65.0,212.0\"/>\n                </g>\n                <g class=\"sld-wire sld-vl300to500 sld-bus-0\" id=\"_95_SE_95_poste_95_SEI1_95__95_SC13_95_1_95_INTERNAL_95_SE_95_poste_95_13\">\n                    <polyline points=\"65.0,277.0,65.0,212.0\"/>\n                </g>\n                <g class=\"sld-disconnector sld-closed sld-vl300to500 sld-bus-0\" id=\"idSEI1_95__95_SC12_95_0\" transform=\"translate(111.0,248.0)\">\n                    <path class=\"sld-sw-closed\" d=\"M0,0 8,8 M8,0 0,8\"/>\n                    <path class=\"sld-sw-open\" d=\"M8,0 0,8\"/>\n                </g>\n                <g class=\"sld-node sld-hidden-node sld-fictitious sld-vl300to500 sld-bus-0\" id=\"idINTERNAL_95_SE_95_poste_95_12\" transform=\"translate(111.0,208.0)\">\n                    <circle cx=\"4\" cy=\"4\" r=\"4\"/>\n                </g>\n                <g class=\"sld-disconnector sld-open sld-vl300to500 sld-disconnected\" id=\"idSEI1_95__95_SC12_95_1\" transform=\"translate(111.0,273.0)\">\n                    <path class=\"sld-sw-closed\" d=\"M0,0 8,8 M8,0 0,8\"/>\n                    <path class=\"sld-sw-open\" d=\"M8,0 0,8\"/>\n                </g>\n                <g class=\"sld-breaker sld-closed sld-vl300to500 sld-bus-0\" id=\"idSEI1_95_SEI1_95_DJ_95_OMN\" transform=\"translate(80.0,202.0)\">\n                    <path class=\"sld-sw-closed\" d=\"M1,1 V19 H19 V1z M10,5 V15\" transform=\"rotate(90.0,10.0,10.0)\"/>\n                    <path class=\"sld-sw-open\" d=\"M1,1 V19 H19 V1z M5,10 H15\" transform=\"rotate(90.0,10.0,10.0)\"/>\n                </g>\n                <g class=\"sld-node sld-hidden-node sld-fictitious sld-vl300to500 sld-bus-0\" id=\"idINTERNAL_95_SE_95_poste_95_13\" transform=\"translate(61.0,208.0)\">\n                    <circle cx=\"4\" cy=\"4\" r=\"4\"/>\n                </g>\n                <g class=\"sld-disconnector sld-open sld-vl300to500 sld-disconnected\" id=\"idSEI1_95__95_SC13_95_0\" transform=\"translate(61.0,248.0)\">\n                    <path class=\"sld-sw-closed\" d=\"M0,0 8,8 M8,0 0,8\"/>\n                    <path class=\"sld-sw-open\" d=\"M8,0 0,8\"/>\n                </g>\n                <g class=\"sld-disconnector sld-closed sld-vl300to500 sld-bus-0\" id=\"idSEI1_95__95_SC13_95_1\" transform=\"translate(61.0,273.0)\">\n                    <path class=\"sld-sw-closed\" d=\"M0,0 8,8 M8,0 0,8\"/>\n                    <path class=\"sld-sw-open\" d=\"M8,0 0,8\"/>\n                </g>\n            </g>\n            <g class=\"sld-extern-cell sld-cell-direction-top\" id=\"idEXTERN_32_1\">\n                <g class=\"sld-wire sld-vl300to500 sld-bus-0\" id=\"_95_SE_95_poste_95_SEI1_95_SEI11_95_G_95_SC3_95_0_95_INTERNAL_95_SE_95_poste_95_2\">\n                    <polyline points=\"365.0,252.0,365.0,222.0\"/>\n                </g>\n                <g class=\"sld-wire sld-vl300to500 sld-bus-0\" id=\"_95_SE_95_poste_95_SEI1_95_SEI11_95_G_95_SC3_95_1_95_INTERNAL_95_SE_95_poste_95_2\">\n                    <polyline points=\"365.0,277.0,365.0,222.0\"/>\n                </g>\n                <g class=\"sld-wire sld-vl300to500 sld-bus-0\" id=\"_95_SE_95_poste_95_INTERNAL_95_SE_95_poste_95_2_95_SEI1_95_SEI11_95_G_95_DJ3\">\n                    <polyline points=\"365.0,222.0,365.0,192.0\"/>\n                </g>\n                <g class=\"sld-wire sld-vl300to500 sld-bus-0\" id=\"_95_SE_95_poste_95_SEI1_95_SEI11_95_G_95_DJ3_95_INTERNAL_95_SE_95_poste_95_SE_95_G\">\n                    <polyline points=\"365.0,172.0,365.0,142.0\"/>\n                </g>\n                <g class=\"sld-wire sld-vl300to500 sld-bus-0\" id=\"_95_SE_95_poste_95_INTERNAL_95_SE_95_poste_95_SE_95_G_95_SE_95_G\">\n                    <polyline points=\"365.0,142.0,365.0,86.0\"/>\n                </g>\n                <g class=\"sld-feeder-info sld-in sld-active-power\" id=\"idSE_95_G_95_ARROW_95_ACTIVE\" transform=\"translate(360.0,101.0)\">\n                    <polygon class=\"sld-arrow-out\" points=\"5,0 10,10 0,10\"/>\n                    <polygon class=\"sld-arrow-in\" points=\"0,0 10,0 5,10\"/>\n                    <text class=\"sld-label\" x=\"15.0\" y=\"5.0\">-0</text>\n                </g>\n                <g class=\"sld-feeder-info sld-in sld-reactive-power\" id=\"idSE_95_G_95_ARROW_95_REACTIVE\" transform=\"translate(360.0,121.0)\">\n                    <polygon class=\"sld-arrow-out\" points=\"5,0 10,10 0,10\"/>\n                    <polygon class=\"sld-arrow-in\" points=\"0,0 10,0 5,10\"/>\n                    <text class=\"sld-label\" x=\"15.0\" y=\"5.0\">—</text>\n                </g>\n                <g class=\"sld-disconnector sld-closed sld-vl300to500 sld-bus-0\" id=\"idSEI1_95_SEI11_95_G_95_SC3_95_0\" transform=\"translate(361.0,248.0)\">\n                    <path class=\"sld-sw-closed\" d=\"M0,0 8,8 M8,0 0,8\"/>\n                    <path class=\"sld-sw-open\" d=\"M8,0 0,8\"/>\n                </g>\n                <g class=\"sld-node sld-hidden-node sld-fictitious sld-vl300to500 sld-bus-0\" id=\"idINTERNAL_95_SE_95_poste_95_2\" transform=\"translate(361.0,218.0)\">\n                    <circle cx=\"4\" cy=\"4\" r=\"4\"/>\n                </g>\n                <g class=\"sld-disconnector sld-open sld-vl300to500 sld-disconnected\" id=\"idSEI1_95_SEI11_95_G_95_SC3_95_1\" transform=\"translate(361.0,273.0)\">\n                    <path class=\"sld-sw-closed\" d=\"M0,0 8,8 M8,0 0,8\"/>\n                    <path class=\"sld-sw-open\" d=\"M8,0 0,8\"/>\n                </g>\n                <g class=\"sld-breaker sld-closed sld-vl300to500 sld-bus-0\" id=\"idSEI1_95_SEI11_95_G_95_DJ3\" transform=\"translate(355.0,172.0)\">\n                    <path class=\"sld-sw-closed\" d=\"M1,1 V19 H19 V1z M10,5 V15\"/>\n                    <path class=\"sld-sw-open\" d=\"M1,1 V19 H19 V1z M5,10 H15\"/>\n                </g>\n                <g class=\"sld-node sld-hidden-node sld-fictitious sld-vl300to500 sld-bus-0\" id=\"idINTERNAL_95_SE_95_poste_95_SE_95_G\" transform=\"translate(361.0,138.0)\">\n                    <circle cx=\"4\" cy=\"4\" r=\"4\"/>\n                </g>\n                <g class=\"sld-generator sld-top-feeder sld-vl300to500 sld-bus-0\" id=\"idSE_95_G\" transform=\"translate(359.0,74.0)\">\n                    <circle cx=\"6\" cy=\"6\" r=\"6\"/>\n                    <path d=\"M6,6 A 6 40 0 0 0 2,6\"/>\n                    <path d=\"M6,6 A 6 40 0 0 0 10,6\"/>\n                    <text class=\"sld-label\" id=\"idSE_95_G_95_N_95_LABEL\" x=\"-5.0\" y=\"-5.0\">SE_G</text>\n                </g>\n            </g>\n            <g class=\"sld-extern-cell sld-cell-direction-top\" id=\"idEXTERN_32_2\">\n                <g class=\"sld-wire sld-vl300to500 sld-bus-0\" id=\"_95_SE_95_poste_95_SEI1_95_SS1_32__32_SEI1_32__32_1_95_SC5_95_0_95_INTERNAL_95_SE_95_poste_95_4\">\n                    <polyline points=\"465.0,252.0,465.0,222.0\"/>\n                </g>\n                <g class=\"sld-wire sld-vl300to500 sld-bus-0\" id=\"_95_SE_95_poste_95_SEI1_95_SS1_32__32_SEI1_32__32_1_95_SC5_95_1_95_INTERNAL_95_SE_95_poste_95_4\">\n                    <polyline points=\"465.0,277.0,465.0,222.0\"/>\n                </g>\n                <g class=\"sld-wire sld-vl300to500 sld-bus-0\" id=\"_95_SE_95_poste_95_INTERNAL_95_SE_95_poste_95_4_95_SEI1_95_SS1_32__32_SEI1_32__32_1_95_DJ5\">\n                    <polyline points=\"465.0,222.0,465.0,192.0\"/>\n                </g>\n                <g class=\"sld-wire sld-vl300to500 sld-bus-0\" id=\"_95_SE_95_poste_95_SEI1_95_SS1_32__32_SEI1_32__32_1_95_DJ5_95_INTERNAL_95_SE_95_poste_95_S_95_SE_95_1_95_TWO\">\n                    <polyline points=\"465.0,172.0,465.0,142.0\"/>\n                </g>\n                <g class=\"sld-wire sld-vl300to500 sld-bus-0\" id=\"_95_SE_95_poste_95_INTERNAL_95_SE_95_poste_95_S_95_SE_95_1_95_TWO_95_S_95_SE_95_1_95_TWO\">\n                    <polyline points=\"465.0,142.0,465.0,80.0\"/>\n                </g>\n                <g class=\"sld-feeder-info sld-in sld-active-power\" id=\"idS_95_SE_95_1_95_TWO_95_ARROW_95_ACTIVE\" transform=\"translate(460.0,95.0)\">\n                    <polygon class=\"sld-arrow-out\" points=\"5,0 10,10 0,10\"/>\n                    <polygon class=\"sld-arrow-in\" points=\"0,0 10,0 5,10\"/>\n                    <text class=\"sld-label\" x=\"15.0\" y=\"5.0\">-144</text>\n                </g>\n                <g class=\"sld-feeder-info sld-in sld-reactive-power\" id=\"idS_95_SE_95_1_95_TWO_95_ARROW_95_REACTIVE\" transform=\"translate(460.0,115.0)\">\n                    <polygon class=\"sld-arrow-out\" points=\"5,0 10,10 0,10\"/>\n                    <polygon class=\"sld-arrow-in\" points=\"0,0 10,0 5,10\"/>\n                    <text class=\"sld-label\" x=\"15.0\" y=\"5.0\">—</text>\n                </g>\n                <g class=\"sld-disconnector sld-closed sld-vl300to500 sld-bus-0\" id=\"idSEI1_95_SS1_32__32_SEI1_32__32_1_95_SC5_95_0\" transform=\"translate(461.0,248.0)\">\n                    <path class=\"sld-sw-closed\" d=\"M0,0 8,8 M8,0 0,8\"/>\n                    <path class=\"sld-sw-open\" d=\"M8,0 0,8\"/>\n                </g>\n                <g class=\"sld-node sld-hidden-node sld-fictitious sld-vl300to500 sld-bus-0\" id=\"idINTERNAL_95_SE_95_poste_95_4\" transform=\"translate(461.0,218.0)\">\n                    <circle cx=\"4\" cy=\"4\" r=\"4\"/>\n                </g>\n                <g class=\"sld-disconnector sld-open sld-vl300to500 sld-disconnected\" id=\"idSEI1_95_SS1_32__32_SEI1_32__32_1_95_SC5_95_1\" transform=\"translate(461.0,273.0)\">\n                    <path class=\"sld-sw-closed\" d=\"M0,0 8,8 M8,0 0,8\"/>\n                    <path class=\"sld-sw-open\" d=\"M8,0 0,8\"/>\n                </g>\n                <g class=\"sld-breaker sld-closed sld-vl300to500 sld-bus-0\" id=\"idSEI1_95_SS1_32__32_SEI1_32__32_1_95_DJ5\" transform=\"translate(455.0,172.0)\">\n                    <path class=\"sld-sw-closed\" d=\"M1,1 V19 H19 V1z M10,5 V15\"/>\n                    <path class=\"sld-sw-open\" d=\"M1,1 V19 H19 V1z M5,10 H15\"/>\n                </g>\n                <g class=\"sld-node sld-hidden-node sld-fictitious sld-vl300to500 sld-bus-0\" id=\"idINTERNAL_95_SE_95_poste_95_S_95_SE_95_1_95_TWO\" transform=\"translate(461.0,138.0)\">\n                    <circle cx=\"4\" cy=\"4\" r=\"4\"/>\n                </g>\n                <g class=\"sld-top-feeder\" id=\"idS_95_SE_95_1_95_TWO\" transform=\"translate(465.0,80.0)\">\n                    <text class=\"sld-label\" id=\"idS_95_SE_95_1_95_TWO_95_N_95_LABEL\" x=\"-5.0\" y=\"-5.0\">S_SE_1</text>\n                </g>\n            </g>\n            <g class=\"sld-extern-cell sld-cell-direction-bottom\" id=\"idEXTERN_32_3\">\n                <g class=\"sld-wire sld-vl300to500 sld-bus-0\" id=\"_95_SE_95_poste_95_SEI1_95_SS1_32__32_SEI1_32__32_2_95_SC7_95_0_95_INTERNAL_95_SE_95_poste_95_6\">\n                    <polyline points=\"515.0,252.0,515.0,307.0\"/>\n                </g>\n                <g class=\"sld-wire sld-vl300to500 sld-bus-0\" id=\"_95_SE_95_poste_95_SEI1_95_SS1_32__32_SEI1_32__32_2_95_SC7_95_1_95_INTERNAL_95_SE_95_poste_95_6\">\n                    <polyline points=\"515.0,277.0,515.0,307.0\"/>\n                </g>\n                <g class=\"sld-wire sld-vl300to500 sld-bus-0\" id=\"_95_SE_95_poste_95_INTERNAL_95_SE_95_poste_95_6_95_SEI1_95_SS1_32__32_SEI1_32__32_2_95_DJ7\">\n                    <polyline points=\"515.0,307.0,515.0,337.0\"/>\n                </g>\n                <g class=\"sld-wire sld-vl300to500 sld-bus-0\" id=\"_95_SE_95_poste_95_SEI1_95_SS1_32__32_SEI1_32__32_2_95_DJ7_95_INTERNAL_95_SE_95_poste_95_S_95_SE_95_2_95_TWO\">\n                    <polyline points=\"515.0,357.0,515.0,387.0\"/>\n                </g>\n                <g class=\"sld-wire sld-vl300to500 sld-bus-0\" id=\"_95_SE_95_poste_95_INTERNAL_95_SE_95_poste_95_S_95_SE_95_2_95_TWO_95_S_95_SE_95_2_95_TWO\">\n                    <polyline points=\"515.0,387.0,515.0,449.0\"/>\n                </g>\n                <g class=\"sld-feeder-info sld-in sld-reactive-power\" id=\"idS_95_SE_95_2_95_TWO_95_ARROW_95_REACTIVE\" transform=\"translate(510.0,424.0)\">\n                    <polygon class=\"sld-arrow-out\" points=\"5,0 10,10 0,10\" transform=\"rotate(180.0,5.0,5.0)\"/>\n                    <polygon class=\"sld-arrow-in\" points=\"0,0 10,0 5,10\" transform=\"rotate(180.0,5.0,5.0)\"/>\n                    <text class=\"sld-label\" x=\"15.0\" y=\"5.0\">—</text>\n                </g>\n                <g class=\"sld-feeder-info sld-in sld-active-power\" id=\"idS_95_SE_95_2_95_TWO_95_ARROW_95_ACTIVE\" transform=\"translate(510.0,404.0)\">\n                    <polygon class=\"sld-arrow-out\" points=\"5,0 10,10 0,10\" transform=\"rotate(180.0,5.0,5.0)\"/>\n                    <polygon class=\"sld-arrow-in\" points=\"0,0 10,0 5,10\" transform=\"rotate(180.0,5.0,5.0)\"/>\n                    <text class=\"sld-label\" x=\"15.0\" y=\"5.0\">-144</text>\n                </g>\n                <g class=\"sld-disconnector sld-open sld-vl300to500 sld-disconnected\" id=\"idSEI1_95_SS1_32__32_SEI1_32__32_2_95_SC7_95_0\" transform=\"translate(511.0,248.0)\">\n                    <path class=\"sld-sw-closed\" d=\"M0,0 8,8 M8,0 0,8\"/>\n                    <path class=\"sld-sw-open\" d=\"M8,0 0,8\"/>\n                </g>\n                <g class=\"sld-node sld-hidden-node sld-fictitious sld-vl300to500 sld-bus-0\" id=\"idINTERNAL_95_SE_95_poste_95_6\" transform=\"translate(511.0,303.0)\">\n                    <circle cx=\"4\" cy=\"4\" r=\"4\"/>\n                </g>\n                <g class=\"sld-disconnector sld-closed sld-vl300to500 sld-bus-0\" id=\"idSEI1_95_SS1_32__32_SEI1_32__32_2_95_SC7_95_1\" transform=\"translate(511.0,273.0)\">\n                    <path class=\"sld-sw-closed\" d=\"M0,0 8,8 M8,0 0,8\"/>\n                    <path class=\"sld-sw-open\" d=\"M8,0 0,8\"/>\n                </g>\n                <g class=\"sld-breaker sld-closed sld-vl300to500 sld-bus-0\" id=\"idSEI1_95_SS1_32__32_SEI1_32__32_2_95_DJ7\" transform=\"translate(505.0,337.0)\">\n                    <path class=\"sld-sw-closed\" d=\"M1,1 V19 H19 V1z M10,5 V15\"/>\n                    <path class=\"sld-sw-open\" d=\"M1,1 V19 H19 V1z M5,10 H15\"/>\n                </g>\n                <g class=\"sld-node sld-hidden-node sld-fictitious sld-vl300to500 sld-bus-0\" id=\"idINTERNAL_95_SE_95_poste_95_S_95_SE_95_2_95_TWO\" transform=\"translate(511.0,383.0)\">\n                    <circle cx=\"4\" cy=\"4\" r=\"4\"/>\n                </g>\n                <g class=\"sld-bottom-feeder\" id=\"idS_95_SE_95_2_95_TWO\" transform=\"translate(515.0,449.0)\">\n                    <text class=\"sld-label\" id=\"idS_95_SE_95_2_95_TWO_95_S_95_LABEL\" x=\"-5.0\" y=\"5.0\">S_SE_2</text>\n                </g>\n            </g>\n            <g class=\"sld-extern-cell sld-cell-direction-top\" id=\"idEXTERN_32_4\">\n                <g class=\"sld-wire sld-vl300to500 sld-bus-0\" id=\"_95_SE_95_poste_95_SEI1_95_SEI1_32__32_NETD_32__32_1_95_SC9_95_0_95_INTERNAL_95_SE_95_poste_95_8\">\n                    <polyline points=\"565.0,252.0,565.0,222.0\"/>\n                </g>\n                <g class=\"sld-wire sld-vl300to500 sld-bus-0\" id=\"_95_SE_95_poste_95_SEI1_95_SEI1_32__32_NETD_32__32_1_95_SC9_95_1_95_INTERNAL_95_SE_95_poste_95_8\">\n                    <polyline points=\"565.0,277.0,565.0,222.0\"/>\n                </g>\n                <g class=\"sld-wire sld-vl300to500 sld-bus-0\" id=\"_95_SE_95_poste_95_INTERNAL_95_SE_95_poste_95_8_95_SEI1_95_SEI1_32__32_NETD_32__32_1_95_DJ9\">\n                    <polyline points=\"565.0,222.0,565.0,192.0\"/>\n                </g>\n                <g class=\"sld-wire sld-vl300to500 sld-bus-0\" id=\"_95_SE_95_poste_95_SEI1_95_SEI1_32__32_NETD_32__32_1_95_DJ9_95_INTERNAL_95_SE_95_poste_95_SE_95_NE_95_1_95_ONE\">\n                    <polyline points=\"565.0,172.0,565.0,142.0\"/>\n                </g>\n                <g class=\"sld-wire sld-vl300to500 sld-bus-0\" id=\"_95_SE_95_poste_95_INTERNAL_95_SE_95_poste_95_SE_95_NE_95_1_95_ONE_95_SE_95_NE_95_1_95_ONE\">\n                    <polyline points=\"565.0,142.0,565.0,80.0\"/>\n                </g>\n                <g class=\"sld-feeder-info sld-in sld-active-power\" id=\"idSE_95_NE_95_1_95_ONE_95_ARROW_95_ACTIVE\" transform=\"translate(560.0,95.0)\">\n                    <polygon class=\"sld-arrow-out\" points=\"5,0 10,10 0,10\"/>\n                    <polygon class=\"sld-arrow-in\" points=\"0,0 10,0 5,10\"/>\n                    <text class=\"sld-label\" x=\"15.0\" y=\"5.0\">-96</text>\n                </g>\n                <g class=\"sld-feeder-info sld-in sld-reactive-power\" id=\"idSE_95_NE_95_1_95_ONE_95_ARROW_95_REACTIVE\" transform=\"translate(560.0,115.0)\">\n                    <polygon class=\"sld-arrow-out\" points=\"5,0 10,10 0,10\"/>\n                    <polygon class=\"sld-arrow-in\" points=\"0,0 10,0 5,10\"/>\n                    <text class=\"sld-label\" x=\"15.0\" y=\"5.0\">—</text>\n                </g>\n                <g class=\"sld-disconnector sld-closed sld-vl300to500 sld-bus-0\" id=\"idSEI1_95_SEI1_32__32_NETD_32__32_1_95_SC9_95_0\" transform=\"translate(561.0,248.0)\">\n                    <path class=\"sld-sw-closed\" d=\"M0,0 8,8 M8,0 0,8\"/>\n                    <path class=\"sld-sw-open\" d=\"M8,0 0,8\"/>\n                </g>\n                <g class=\"sld-node sld-hidden-node sld-fictitious sld-vl300to500 sld-bus-0\" id=\"idINTERNAL_95_SE_95_poste_95_8\" transform=\"translate(561.0,218.0)\">\n                    <circle cx=\"4\" cy=\"4\" r=\"4\"/>\n                </g>\n                <g class=\"sld-disconnector sld-open sld-vl300to500 sld-disconnected\" id=\"idSEI1_95_SEI1_32__32_NETD_32__32_1_95_SC9_95_1\" transform=\"translate(561.0,273.0)\">\n                    <path class=\"sld-sw-closed\" d=\"M0,0 8,8 M8,0 0,8\"/>\n                    <path class=\"sld-sw-open\" d=\"M8,0 0,8\"/>\n                </g>\n                <g class=\"sld-breaker sld-closed sld-vl300to500 sld-bus-0\" id=\"idSEI1_95_SEI1_32__32_NETD_32__32_1_95_DJ9\" transform=\"translate(555.0,172.0)\">\n                    <path class=\"sld-sw-closed\" d=\"M1,1 V19 H19 V1z M10,5 V15\"/>\n                    <path class=\"sld-sw-open\" d=\"M1,1 V19 H19 V1z M5,10 H15\"/>\n                </g>\n                <g class=\"sld-node sld-hidden-node sld-fictitious sld-vl300to500 sld-bus-0\" id=\"idINTERNAL_95_SE_95_poste_95_SE_95_NE_95_1_95_ONE\" transform=\"translate(561.0,138.0)\">\n                    <circle cx=\"4\" cy=\"4\" r=\"4\"/>\n                </g>\n                <g class=\"sld-top-feeder\" id=\"idSE_95_NE_95_1_95_ONE\" transform=\"translate(565.0,80.0)\">\n                    <text class=\"sld-label\" id=\"idSE_95_NE_95_1_95_ONE_95_N_95_LABEL\" x=\"-5.0\" y=\"-5.0\">SE_NE_1</text>\n                </g>\n            </g>\n            <g class=\"sld-extern-cell sld-cell-direction-top\" id=\"idEXTERN_32_5\">\n                <g class=\"sld-wire sld-vl300to500 sld-bus-0\" id=\"_95_SE_95_poste_95_SEI1_95_SEI1_32__32_NETD_32__32_2_95_SC11_95_0_95_INTERNAL_95_SE_95_poste_95_10\">\n                    <polyline points=\"165.0,252.0,165.0,222.0\"/>\n                </g>\n                <g class=\"sld-wire sld-vl300to500 sld-bus-0\" id=\"_95_SE_95_poste_95_SEI1_95_SEI1_32__32_NETD_32__32_2_95_SC11_95_1_95_INTERNAL_95_SE_95_poste_95_10\">\n                    <polyline points=\"165.0,277.0,165.0,222.0\"/>\n                </g>\n                <g class=\"sld-wire sld-vl300to500 sld-bus-0\" id=\"_95_SE_95_poste_95_INTERNAL_95_SE_95_poste_95_10_95_SEI1_95_SEI1_32__32_NETD_32__32_2_95_DJ11\">\n                    <polyline points=\"165.0,222.0,165.0,192.0\"/>\n                </g>\n                <g class=\"sld-wire sld-vl300to500 sld-bus-0\" id=\"_95_SE_95_poste_95_SEI1_95_SEI1_32__32_NETD_32__32_2_95_DJ11_95_INTERNAL_95_SE_95_poste_95_SE_95_NE_95_2_95_ONE\">\n                    <polyline points=\"165.0,172.0,165.0,142.0\"/>\n                </g>\n                <g class=\"sld-wire sld-vl300to500 sld-bus-0\" id=\"_95_SE_95_poste_95_INTERNAL_95_SE_95_poste_95_SE_95_NE_95_2_95_ONE_95_SE_95_NE_95_2_95_ONE\">\n                    <polyline points=\"165.0,142.0,165.0,80.0\"/>\n                </g>\n                <g class=\"sld-feeder-info sld-in sld-active-power\" id=\"idSE_95_NE_95_2_95_ONE_95_ARROW_95_ACTIVE\" transform=\"translate(160.0,95.0)\">\n                    <polygon class=\"sld-arrow-out\" points=\"5,0 10,10 0,10\"/>\n                    <polygon class=\"sld-arrow-in\" points=\"0,0 10,0 5,10\"/>\n                    <text class=\"sld-label\" x=\"15.0\" y=\"5.0\">-96</text>\n                </g>\n                <g class=\"sld-feeder-info sld-in sld-reactive-power\" id=\"idSE_95_NE_95_2_95_ONE_95_ARROW_95_REACTIVE\" transform=\"translate(160.0,115.0)\">\n                    <polygon class=\"sld-arrow-out\" points=\"5,0 10,10 0,10\"/>\n                    <polygon class=\"sld-arrow-in\" points=\"0,0 10,0 5,10\"/>\n                    <text class=\"sld-label\" x=\"15.0\" y=\"5.0\">—</text>\n                </g>\n                <g class=\"sld-disconnector sld-open sld-vl300to500 sld-disconnected\" id=\"idSEI1_95_SEI1_32__32_NETD_32__32_2_95_SC11_95_0\" transform=\"translate(161.0,248.0)\">\n                    <path class=\"sld-sw-closed\" d=\"M0,0 8,8 M8,0 0,8\"/>\n                    <path class=\"sld-sw-open\" d=\"M8,0 0,8\"/>\n                </g>\n                <g class=\"sld-node sld-hidden-node sld-fictitious sld-vl300to500 sld-bus-0\" id=\"idINTERNAL_95_SE_95_poste_95_10\" transform=\"translate(161.0,218.0)\">\n                    <circle cx=\"4\" cy=\"4\" r=\"4\"/>\n                </g>\n                <g class=\"sld-disconnector sld-closed sld-vl300to500 sld-bus-0\" id=\"idSEI1_95_SEI1_32__32_NETD_32__32_2_95_SC11_95_1\" transform=\"translate(161.0,273.0)\">\n                    <path class=\"sld-sw-closed\" d=\"M0,0 8,8 M8,0 0,8\"/>\n                    <path class=\"sld-sw-open\" d=\"M8,0 0,8\"/>\n                </g>\n                <g class=\"sld-breaker sld-closed sld-vl300to500 sld-bus-0\" id=\"idSEI1_95_SEI1_32__32_NETD_32__32_2_95_DJ11\" transform=\"translate(155.0,172.0)\">\n                    <path class=\"sld-sw-closed\" d=\"M1,1 V19 H19 V1z M10,5 V15\"/>\n                    <path class=\"sld-sw-open\" d=\"M1,1 V19 H19 V1z M5,10 H15\"/>\n                </g>\n                <g class=\"sld-node sld-hidden-node sld-fictitious sld-vl300to500 sld-bus-0\" id=\"idINTERNAL_95_SE_95_poste_95_SE_95_NE_95_2_95_ONE\" transform=\"translate(161.0,138.0)\">\n                    <circle cx=\"4\" cy=\"4\" r=\"4\"/>\n                </g>\n                <g class=\"sld-top-feeder\" id=\"idSE_95_NE_95_2_95_ONE\" transform=\"translate(165.0,80.0)\">\n                    <text class=\"sld-label\" id=\"idSE_95_NE_95_2_95_ONE_95_N_95_LABEL\" x=\"-5.0\" y=\"-5.0\">SE_NE_2</text>\n                </g>\n            </g>\n            <g class=\"sld-extern-cell sld-cell-direction-bottom\" id=\"idEXTERN_32_6\">\n                <g class=\"sld-wire sld-vl300to500 sld-bus-0\" id=\"_95_SE_95_poste_95_INTERNAL_95_SE_95_poste_95_15_95_SEI1_95_Sect_32_1_32_HVDC1\">\n                    <polyline points=\"215.0,307.0,215.0,252.0\"/>\n                </g>\n                <g class=\"sld-wire sld-vl300to500 sld-bus-0\" id=\"_95_SE_95_poste_95_SEI1_95_Disj_32_HVDC1_95_INTERNAL_95_SE_95_poste_95_15\">\n                    <polyline points=\"215.0,337.0,215.0,307.0\"/>\n                </g>\n                <g class=\"sld-wire sld-vl300to500 sld-bus-0\" id=\"_95_SE_95_poste_95_INTERNAL_95_SE_95_poste_95_15_95_SEI1_95_Sect_32_mnv_32_HVDC1\">\n                    <polyline points=\"215.0,307.0,215.0,277.0\"/>\n                </g>\n                <g class=\"sld-wire sld-vl300to500 sld-bus-0\" id=\"_95_SE_95_poste_95_INTERNAL_95_SE_95_poste_95_SEI1_95_SEI1_95_HVDC1_95_SEI1_95_Disj_32_HVDC1\">\n                    <polyline points=\"215.0,387.0,215.0,357.0\"/>\n                </g>\n                <g class=\"sld-wire sld-vl300to500 sld-bus-0\" id=\"_95_SE_95_poste_95_SEI1_95_SEI1_95_HVDC1_95_INTERNAL_95_SE_95_poste_95_SEI1_95_SEI1_95_HVDC1\">\n                    <polyline points=\"215.0,443.0,215.0,387.0\"/>\n                </g>\n                <g class=\"sld-feeder-info sld-in sld-reactive-power\" id=\"idSEI1_95_SEI1_95_HVDC1_95_ARROW_95_REACTIVE\" transform=\"translate(210.0,418.0)\">\n                    <polygon class=\"sld-arrow-out\" points=\"5,0 10,10 0,10\" transform=\"rotate(180.0,5.0,5.0)\"/>\n                    <polygon class=\"sld-arrow-in\" points=\"0,0 10,0 5,10\" transform=\"rotate(180.0,5.0,5.0)\"/>\n                    <text class=\"sld-label\" x=\"15.0\" y=\"5.0\">—</text>\n                </g>\n                <g class=\"sld-feeder-info sld-in sld-active-power\" id=\"idSEI1_95_SEI1_95_HVDC1_95_ARROW_95_ACTIVE\" transform=\"translate(210.0,398.0)\">\n                    <polygon class=\"sld-arrow-out\" points=\"5,0 10,10 0,10\" transform=\"rotate(180.0,5.0,5.0)\"/>\n                    <polygon class=\"sld-arrow-in\" points=\"0,0 10,0 5,10\" transform=\"rotate(180.0,5.0,5.0)\"/>\n                    <text class=\"sld-label\" x=\"15.0\" y=\"5.0\">0</text>\n                </g>\n                <g class=\"sld-disconnector sld-closed sld-vl300to500 sld-bus-0\" id=\"idSEI1_95_Sect_32_1_32_HVDC1\" transform=\"translate(211.0,248.0)\">\n                    <path class=\"sld-sw-closed\" d=\"M0,0 8,8 M8,0 0,8\"/>\n                    <path class=\"sld-sw-open\" d=\"M8,0 0,8\"/>\n                </g>\n                <g class=\"sld-node sld-hidden-node sld-fictitious sld-vl300to500 sld-bus-0\" id=\"idINTERNAL_95_SE_95_poste_95_15\" transform=\"translate(211.0,303.0)\">\n                    <circle cx=\"4\" cy=\"4\" r=\"4\"/>\n                </g>\n                <g class=\"sld-breaker sld-closed sld-vl300to500 sld-bus-0\" id=\"idSEI1_95_Disj_32_HVDC1\" transform=\"translate(205.0,337.0)\">\n                    <path class=\"sld-sw-closed\" d=\"M1,1 V19 H19 V1z M10,5 V15\"/>\n                    <path class=\"sld-sw-open\" d=\"M1,1 V19 H19 V1z M5,10 H15\"/>\n                </g>\n                <g class=\"sld-node sld-hidden-node sld-fictitious sld-vl300to500 sld-bus-0\" id=\"idINTERNAL_95_SE_95_poste_95_SEI1_95_SEI1_95_HVDC1\" transform=\"translate(211.0,383.0)\">\n                    <circle cx=\"4\" cy=\"4\" r=\"4\"/>\n                </g>\n                <g class=\"sld-vsc sld-bottom-feeder sld-vl300to500 sld-bus-0\" id=\"idSEI1_95_SEI1_95_HVDC1\" transform=\"translate(207.0,445.0)\">\n                    <text x=\"-15.5\" y=\"6.6\">AC / DC - VSC</text>\n                    <text class=\"sld-label\" id=\"idSEI1_95_SEI1_95_HVDC1_95_S_95_LABEL\" x=\"-5.0\" y=\"13.0\">HVDC1</text>\n                </g>\n                <g class=\"sld-disconnector sld-open sld-vl300to500 sld-disconnected\" id=\"idSEI1_95_Sect_32_mnv_32_HVDC1\" transform=\"translate(211.0,273.0)\">\n                    <path class=\"sld-sw-closed\" d=\"M0,0 8,8 M8,0 0,8\"/>\n                    <path class=\"sld-sw-open\" d=\"M8,0 0,8\"/>\n                </g>\n            </g>\n            <g class=\"sld-extern-cell sld-cell-direction-top\" id=\"idEXTERN_32_7\">\n                <g class=\"sld-wire sld-vl300to500 sld-bus-0\" id=\"_95_SE_95_poste_95_INTERNAL_95_SE_95_poste_95_17_95_SEI1_95_Sect_32_1_32_HVDC2\">\n                    <polyline points=\"265.0,222.0,265.0,252.0\"/>\n                </g>\n                <g class=\"sld-wire sld-vl300to500 sld-bus-0\" id=\"_95_SE_95_poste_95_SEI1_95_Disj_32_HVDC2_95_INTERNAL_95_SE_95_poste_95_17\">\n                    <polyline points=\"265.0,192.0,265.0,222.0\"/>\n                </g>\n                <g class=\"sld-wire sld-vl300to500 sld-bus-0\" id=\"_95_SE_95_poste_95_INTERNAL_95_SE_95_poste_95_17_95_SEI1_95_Sect_32_mnv_32_HVDC2\">\n                    <polyline points=\"265.0,222.0,265.0,277.0\"/>\n                </g>\n                <g class=\"sld-wire sld-vl300to500 sld-bus-0\" id=\"_95_SE_95_poste_95_INTERNAL_95_SE_95_poste_95_SEI1_95_SEI1_95_HVDC2_95_SEI1_95_Disj_32_HVDC2\">\n                    <polyline points=\"265.0,142.0,265.0,172.0\"/>\n                </g>\n                <g class=\"sld-wire sld-vl300to500 sld-bus-0\" id=\"_95_SE_95_poste_95_SEI1_95_SEI1_95_HVDC2_95_INTERNAL_95_SE_95_poste_95_SEI1_95_SEI1_95_HVDC2\">\n                    <polyline points=\"265.0,86.0,265.0,142.0\"/>\n                </g>\n                <g class=\"sld-feeder-info sld-in sld-active-power\" id=\"idSEI1_95_SEI1_95_HVDC2_95_ARROW_95_ACTIVE\" transform=\"translate(260.0,101.0)\">\n                    <polygon class=\"sld-arrow-out\" points=\"5,0 10,10 0,10\"/>\n                    <polygon class=\"sld-arrow-in\" points=\"0,0 10,0 5,10\"/>\n                    <text class=\"sld-label\" x=\"15.0\" y=\"5.0\">0</text>\n                </g>\n                <g class=\"sld-feeder-info sld-in sld-reactive-power\" id=\"idSEI1_95_SEI1_95_HVDC2_95_ARROW_95_REACTIVE\" transform=\"translate(260.0,121.0)\">\n                    <polygon class=\"sld-arrow-out\" points=\"5,0 10,10 0,10\"/>\n                    <polygon class=\"sld-arrow-in\" points=\"0,0 10,0 5,10\"/>\n                    <text class=\"sld-label\" x=\"15.0\" y=\"5.0\">—</text>\n                </g>\n                <g class=\"sld-disconnector sld-closed sld-vl300to500 sld-bus-0\" id=\"idSEI1_95_Sect_32_1_32_HVDC2\" transform=\"translate(261.0,248.0)\">\n                    <path class=\"sld-sw-closed\" d=\"M0,0 8,8 M8,0 0,8\"/>\n                    <path class=\"sld-sw-open\" d=\"M8,0 0,8\"/>\n                </g>\n                <g class=\"sld-node sld-hidden-node sld-fictitious sld-vl300to500 sld-bus-0\" id=\"idINTERNAL_95_SE_95_poste_95_17\" transform=\"translate(261.0,218.0)\">\n                    <circle cx=\"4\" cy=\"4\" r=\"4\"/>\n                </g>\n                <g class=\"sld-breaker sld-closed sld-vl300to500 sld-bus-0\" id=\"idSEI1_95_Disj_32_HVDC2\" transform=\"translate(255.0,172.0)\">\n                    <path class=\"sld-sw-closed\" d=\"M1,1 V19 H19 V1z M10,5 V15\"/>\n                    <path class=\"sld-sw-open\" d=\"M1,1 V19 H19 V1z M5,10 H15\"/>\n                </g>\n                <g class=\"sld-node sld-hidden-node sld-fictitious sld-vl300to500 sld-bus-0\" id=\"idINTERNAL_95_SE_95_poste_95_SEI1_95_SEI1_95_HVDC2\" transform=\"translate(261.0,138.0)\">\n                    <circle cx=\"4\" cy=\"4\" r=\"4\"/>\n                </g>\n                <g class=\"sld-vsc sld-top-feeder sld-vl300to500 sld-bus-0\" id=\"idSEI1_95_SEI1_95_HVDC2\" transform=\"translate(257.0,76.0)\">\n                    <text x=\"-15.5\" y=\"6.6\">AC / DC - VSC</text>\n                    <text class=\"sld-label\" id=\"idSEI1_95_SEI1_95_HVDC2_95_N_95_LABEL\" x=\"-5.0\" y=\"-5.0\">HVDC2</text>\n                </g>\n                <g class=\"sld-disconnector sld-open sld-vl300to500 sld-disconnected\" id=\"idSEI1_95_Sect_32_mnv_32_HVDC2\" transform=\"translate(261.0,273.0)\">\n                    <path class=\"sld-sw-closed\" d=\"M0,0 8,8 M8,0 0,8\"/>\n                    <path class=\"sld-sw-open\" d=\"M8,0 0,8\"/>\n                </g>\n            </g>\n            <g class=\"sld-extern-cell sld-cell-direction-bottom\" id=\"idEXTERN_32_8\">\n                <g class=\"sld-wire sld-vl300to500 sld-bus-0\" id=\"_95_SE_95_poste_95_INTERNAL_95_SE_95_poste_95_19_95_SEI1_95_Sect_32_1_32_SEI11_95_L\">\n                    <polyline points=\"315.0,307.0,315.0,252.0\"/>\n                </g>\n                <g class=\"sld-wire sld-vl300to500 sld-bus-0\" id=\"_95_SE_95_poste_95_SEI1_95_Disj_32_SEI11_95_L_95_INTERNAL_95_SE_95_poste_95_19\">\n                    <polyline points=\"315.0,337.0,315.0,307.0\"/>\n                </g>\n                <g class=\"sld-wire sld-vl300to500 sld-bus-0\" id=\"_95_SE_95_poste_95_INTERNAL_95_SE_95_poste_95_19_95_SEI1_95_Sect_32_mnv_32_SEI11_95_L\">\n                    <polyline points=\"315.0,307.0,315.0,277.0\"/>\n                </g>\n                <g class=\"sld-wire sld-vl300to500 sld-bus-0\" id=\"_95_SE_95_poste_95_INTERNAL_95_SE_95_poste_95_SE_95_L1_95_SEI1_95_Disj_32_SEI11_95_L\">\n                    <polyline points=\"315.0,387.0,315.0,357.0\"/>\n                </g>\n                <g class=\"sld-wire sld-vl300to500 sld-bus-0\" id=\"_95_SE_95_poste_95_SE_95_L1_95_INTERNAL_95_SE_95_poste_95_SE_95_L1\">\n                    <polyline points=\"315.0,444.5,315.0,387.0\"/>\n                </g>\n                <g class=\"sld-feeder-info sld-in sld-reactive-power\" id=\"idSE_95_L1_95_ARROW_95_REACTIVE\" transform=\"translate(310.0,419.5)\">\n                    <polygon class=\"sld-arrow-out\" points=\"5,0 10,10 0,10\" transform=\"rotate(180.0,5.0,5.0)\"/>\n                    <polygon class=\"sld-arrow-in\" points=\"0,0 10,0 5,10\" transform=\"rotate(180.0,5.0,5.0)\"/>\n                    <text class=\"sld-label\" x=\"15.0\" y=\"5.0\">—</text>\n                </g>\n                <g class=\"sld-feeder-info sld-out sld-active-power\" id=\"idSE_95_L1_95_ARROW_95_ACTIVE\" transform=\"translate(310.0,399.5)\">\n                    <polygon class=\"sld-arrow-out\" points=\"5,0 10,10 0,10\" transform=\"rotate(180.0,5.0,5.0)\"/>\n                    <polygon class=\"sld-arrow-in\" points=\"0,0 10,0 5,10\" transform=\"rotate(180.0,5.0,5.0)\"/>\n                    <text class=\"sld-label\" x=\"15.0\" y=\"5.0\">480</text>\n                </g>\n                <g class=\"sld-disconnector sld-closed sld-vl300to500 sld-bus-0\" id=\"idSEI1_95_Sect_32_1_32_SEI11_95_L\" transform=\"translate(311.0,248.0)\">\n                    <path class=\"sld-sw-closed\" d=\"M0,0 8,8 M8,0 0,8\"/>\n                    <path class=\"sld-sw-open\" d=\"M8,0 0,8\"/>\n                </g>\n                <g class=\"sld-node sld-hidden-node sld-fictitious sld-vl300to500 sld-bus-0\" id=\"idINTERNAL_95_SE_95_poste_95_19\" transform=\"translate(311.0,303.0)\">\n                    <circle cx=\"4\" cy=\"4\" r=\"4\"/>\n                </g>\n                <g class=\"sld-breaker sld-closed sld-vl300to500 sld-bus-0\" id=\"idSEI1_95_Disj_32_SEI11_95_L\" transform=\"translate(305.0,337.0)\">\n                    <path class=\"sld-sw-closed\" d=\"M1,1 V19 H19 V1z M10,5 V15\"/>\n                    <path class=\"sld-sw-open\" d=\"M1,1 V19 H19 V1z M5,10 H15\"/>\n                </g>\n                <g class=\"sld-node sld-hidden-node sld-fictitious sld-vl300to500 sld-bus-0\" id=\"idINTERNAL_95_SE_95_poste_95_SE_95_L1\" transform=\"translate(311.0,383.0)\">\n                    <circle cx=\"4\" cy=\"4\" r=\"4\"/>\n                </g>\n                <g class=\"sld-load sld-bottom-feeder sld-vl300to500 sld-bus-0\" id=\"idSE_95_L1\" transform=\"translate(307.0,444.5)\">\n                    <rect height=\"9\" width=\"16\"/>\n                    <line x1=\"0\" x2=\"16\" y1=\"0\" y2=\"9\"/>\n                    <line x1=\"16\" x2=\"0\" y1=\"0\" y2=\"9\"/>\n                    <text class=\"sld-label\" id=\"idSE_95_L1_95_S_95_LABEL\" x=\"-5.0\" y=\"14.0\">SE_L1</text>\n                </g>\n                <g class=\"sld-disconnector sld-open sld-vl300to500 sld-disconnected\" id=\"idSEI1_95_Sect_32_mnv_32_SEI11_95_L\" transform=\"translate(311.0,273.0)\">\n                    <path class=\"sld-sw-closed\" d=\"M0,0 8,8 M8,0 0,8\"/>\n                    <path class=\"sld-sw-open\" d=\"M8,0 0,8\"/>\n                </g>\n            </g>\n            <g class=\"sld-extern-cell sld-cell-direction-bottom\" id=\"idEXTERN_32_9\">\n                <g class=\"sld-wire sld-vl300to500 sld-bus-0\" id=\"_95_SE_95_poste_95_INTERNAL_95_SE_95_poste_95_21_95_SEI1_95_Sect_32_1_32_SEI11_95_L2\">\n                    <polyline points=\"415.0,307.0,415.0,252.0\"/>\n                </g>\n                <g class=\"sld-wire sld-vl300to500 sld-bus-0\" id=\"_95_SE_95_poste_95_SEI1_95_Disj_32_SEI11_95_L2_95_INTERNAL_95_SE_95_poste_95_21\">\n                    <polyline points=\"415.0,337.0,415.0,307.0\"/>\n                </g>\n                <g class=\"sld-wire sld-vl300to500 sld-bus-0\" id=\"_95_SE_95_poste_95_INTERNAL_95_SE_95_poste_95_21_95_SEI1_95_Sect_32_mnv_32_SEI11_95_L2\">\n                    <polyline points=\"415.0,307.0,415.0,277.0\"/>\n                </g>\n                <g class=\"sld-wire sld-vl300to500 sld-bus-0\" id=\"_95_SE_95_poste_95_INTERNAL_95_SE_95_poste_95_SE_95_L2_95_SEI1_95_Disj_32_SEI11_95_L2\">\n                    <polyline points=\"415.0,387.0,415.0,357.0\"/>\n                </g>\n                <g class=\"sld-wire sld-vl300to500 sld-bus-0\" id=\"_95_SE_95_poste_95_SE_95_L2_95_INTERNAL_95_SE_95_poste_95_SE_95_L2\">\n                    <polyline points=\"415.0,444.5,415.0,387.0\"/>\n                </g>\n                <g class=\"sld-feeder-info sld-in sld-reactive-power\" id=\"idSE_95_L2_95_ARROW_95_REACTIVE\" transform=\"translate(410.0,419.5)\">\n                    <polygon class=\"sld-arrow-out\" points=\"5,0 10,10 0,10\" transform=\"rotate(180.0,5.0,5.0)\"/>\n                    <polygon class=\"sld-arrow-in\" points=\"0,0 10,0 5,10\" transform=\"rotate(180.0,5.0,5.0)\"/>\n                    <text class=\"sld-label\" x=\"15.0\" y=\"5.0\">—</text>\n                </g>\n                <g class=\"sld-feeder-info sld-in sld-active-power\" id=\"idSE_95_L2_95_ARROW_95_ACTIVE\" transform=\"translate(410.0,399.5)\">\n                    <polygon class=\"sld-arrow-out\" points=\"5,0 10,10 0,10\" transform=\"rotate(180.0,5.0,5.0)\"/>\n                    <polygon class=\"sld-arrow-in\" points=\"0,0 10,0 5,10\" transform=\"rotate(180.0,5.0,5.0)\"/>\n                    <text class=\"sld-label\" x=\"15.0\" y=\"5.0\">0</text>\n                </g>\n                <g class=\"sld-disconnector sld-open sld-vl300to500 sld-disconnected\" id=\"idSEI1_95_Sect_32_1_32_SEI11_95_L2\" transform=\"translate(411.0,248.0)\">\n                    <path class=\"sld-sw-closed\" d=\"M0,0 8,8 M8,0 0,8\"/>\n                    <path class=\"sld-sw-open\" d=\"M8,0 0,8\"/>\n                </g>\n                <g class=\"sld-node sld-hidden-node sld-fictitious sld-vl300to500 sld-bus-0\" id=\"idINTERNAL_95_SE_95_poste_95_21\" transform=\"translate(411.0,303.0)\">\n                    <circle cx=\"4\" cy=\"4\" r=\"4\"/>\n                </g>\n                <g class=\"sld-breaker sld-closed sld-vl300to500 sld-bus-0\" id=\"idSEI1_95_Disj_32_SEI11_95_L2\" transform=\"translate(405.0,337.0)\">\n                    <path class=\"sld-sw-closed\" d=\"M1,1 V19 H19 V1z M10,5 V15\"/>\n                    <path class=\"sld-sw-open\" d=\"M1,1 V19 H19 V1z M5,10 H15\"/>\n                </g>\n                <g class=\"sld-node sld-hidden-node sld-fictitious sld-vl300to500 sld-bus-0\" id=\"idINTERNAL_95_SE_95_poste_95_SE_95_L2\" transform=\"translate(411.0,383.0)\">\n                    <circle cx=\"4\" cy=\"4\" r=\"4\"/>\n                </g>\n                <g class=\"sld-load sld-bottom-feeder sld-vl300to500 sld-bus-0\" id=\"idSE_95_L2\" transform=\"translate(407.0,444.5)\">\n                    <rect height=\"9\" width=\"16\"/>\n                    <line x1=\"0\" x2=\"16\" y1=\"0\" y2=\"9\"/>\n                    <line x1=\"16\" x2=\"0\" y1=\"0\" y2=\"9\"/>\n                    <text class=\"sld-label\" id=\"idSE_95_L2_95_S_95_LABEL\" x=\"-5.0\" y=\"14.0\">SE_L2</text>\n                </g>\n                <g class=\"sld-disconnector sld-closed sld-vl300to500 sld-bus-0\" id=\"idSEI1_95_Sect_32_mnv_32_SEI11_95_L2\" transform=\"translate(411.0,273.0)\">\n                    <path class=\"sld-sw-closed\" d=\"M0,0 8,8 M8,0 0,8\"/>\n                    <path class=\"sld-sw-open\" d=\"M8,0 0,8\"/>\n                </g>\n            </g>\n        </g>\n    </g>\n</svg>\n"
     },
     "execution_count": 197,
     "metadata": {},
     "output_type": "execute_result"
    }
   ],
   "execution_count": 197
  },
  {
   "cell_type": "markdown",
   "metadata": {},
   "source": [
    "## Topological remedial actions"
   ],
   "id": "9d43113842d0c203"
  },
  {
   "cell_type": "markdown",
   "metadata": {
    "raw_mimetype": "text/markdown"
   },
   "source": [
    "You have to add all the actions involved in the strategies you want to test. Here, we want to see the effect of opening switches SS1_SS1_DJ_OMN or/and SOO1_SOO1_DJ_OMN: opening only the first one, only the second one or both.\n",
    "Operator strategies have the condition ANY_VIOLATION_CONDITION "
   ],
   "id": "d6f86589013952a1"
  },
  {
   "cell_type": "code",
   "metadata": {
    "ExecuteTime": {
     "end_time": "2025-09-15T11:41:33.901914Z",
     "start_time": "2025-09-15T11:41:33.897759Z"
    }
   },
   "source": [
    "sa.add_switch_action(action_id='Switch_SS1_SS1_DJ_OMN_OPEN', switch_id='SS1_SS1_DJ_OMN', open=True)"
   ],
   "id": "647af507098f6e3",
   "outputs": [],
   "execution_count": 198
  },
  {
   "cell_type": "code",
   "metadata": {
    "ExecuteTime": {
     "end_time": "2025-09-15T11:41:33.956010Z",
     "start_time": "2025-09-15T11:41:33.952334Z"
    }
   },
   "source": [
    "sa.add_switch_action(action_id='Switch_SOO1_SOO1_DJ_OMN_OPEN', switch_id='SOO1_SOO1_DJ_OMN', open=True)"
   ],
   "id": "92ae9b8777f508ef",
   "outputs": [],
   "execution_count": 199
  },
  {
   "cell_type": "code",
   "metadata": {
    "ExecuteTime": {
     "end_time": "2025-09-15T11:41:34.013685Z",
     "start_time": "2025-09-15T11:41:34.008558Z"
    }
   },
   "source": [
    "sa.add_operator_strategy('StrategyOpenSS1_SS1', 'S_SO_1_contingency', ['Switch_SS1_SS1_DJ_OMN_OPEN'], ConditionType.ANY_VIOLATION_CONDITION) "
   ],
   "id": "a92d5ab2f749d3d4",
   "outputs": [],
   "execution_count": 200
  },
  {
   "cell_type": "code",
   "metadata": {
    "ExecuteTime": {
     "end_time": "2025-09-15T11:41:34.069289Z",
     "start_time": "2025-09-15T11:41:34.064093Z"
    }
   },
   "source": [
    "sa.add_operator_strategy('StrategyOpenSOO1_SOO1', 'S_SO_1_contingency', ['Switch_SOO1_SOO1_DJ_OMN_OPEN'], ConditionType.ANY_VIOLATION_CONDITION) "
   ],
   "id": "519c2de05c20647a",
   "outputs": [],
   "execution_count": 201
  },
  {
   "cell_type": "code",
   "metadata": {
    "ExecuteTime": {
     "end_time": "2025-09-15T11:41:34.124810Z",
     "start_time": "2025-09-15T11:41:34.121324Z"
    }
   },
   "source": [
    "sa.add_operator_strategy('StrategyOpenBothSwitchs', 'S_SO_1_contingency', ['Switch_SS1_SS1_DJ_OMN_OPEN', 'Switch_SOO1_SOO1_DJ_OMN_OPEN'], ConditionType.ANY_VIOLATION_CONDITION) "
   ],
   "id": "35fa47a5301cf143",
   "outputs": [],
   "execution_count": 202
  },
  {
   "cell_type": "markdown",
   "metadata": {},
   "source": [
    "## Redispatch remedial actions"
   ],
   "id": "b257fa60aae196ee"
  },
  {
   "cell_type": "markdown",
   "metadata": {
    "raw_mimetype": "text/markdown"
   },
   "source": [
    "An other strategy could be to modify the active power target of some generators, in a way the two modifications compensate (also called re-dispatching). Decreasing active power target of generator SO_G2 and increasing active power of SE_G (closer to loads) could be efficient."
   ],
   "id": "666ac7b1aa783de9"
  },
  {
   "cell_type": "code",
   "metadata": {
    "ExecuteTime": {
     "end_time": "2025-09-15T11:41:34.181168Z",
     "start_time": "2025-09-15T11:41:34.176223Z"
    }
   },
   "source": [
    "sa.add_generator_active_power_action(action_id='Simple_Redispatch_SO_G2', generator_id='SO_G2', is_relative=True, active_power=-100)\n",
    "sa.add_generator_active_power_action(action_id='Simple_Redispatch_SE_G', generator_id='SE_G', is_relative=True, active_power=100)"
   ],
   "id": "5ab7c10f9bd71676",
   "outputs": [],
   "execution_count": 203
  },
  {
   "cell_type": "code",
   "metadata": {
    "ExecuteTime": {
     "end_time": "2025-09-15T11:41:34.238793Z",
     "start_time": "2025-09-15T11:41:34.235181Z"
    }
   },
   "source": [
    "sa.add_operator_strategy('StrategyRedispatch', 'S_SO_1_contingency', ['Simple_Redispatch_SO_G2', 'Simple_Redispatch_SE_G'], ConditionType.ANY_VIOLATION_CONDITION)"
   ],
   "id": "bf1ce6bee49176b0",
   "outputs": [],
   "execution_count": 204
  },
  {
   "cell_type": "markdown",
   "metadata": {},
   "source": [
    "## Run the security analysis "
   ],
   "id": "af204906980f0e20"
  },
  {
   "cell_type": "code",
   "metadata": {
    "ExecuteTime": {
     "end_time": "2025-09-15T11:41:34.305639Z",
     "start_time": "2025-09-15T11:41:34.291887Z"
    }
   },
   "source": [
    "sa_result = sa.run_ac(six_nodes)"
   ],
   "id": "43ae2463b4d09085",
   "outputs": [],
   "execution_count": 205
  },
  {
   "cell_type": "markdown",
   "metadata": {},
   "source": [
    "## Check the results at each steps"
   ],
   "id": "fb32175c4cdfc1ba"
  },
  {
   "cell_type": "markdown",
   "metadata": {},
   "source": [
    "### Pre contingency step"
   ],
   "id": "a83c52bfe9b129e5"
  },
  {
   "cell_type": "markdown",
   "metadata": {},
   "source": [
    "We should have no limit violations at the pre contingency state."
   ],
   "id": "89166bdd75b36cd"
  },
  {
   "cell_type": "code",
   "metadata": {
    "ExecuteTime": {
     "end_time": "2025-09-15T11:41:34.356305Z",
     "start_time": "2025-09-15T11:41:34.349906Z"
    }
   },
   "source": [
    "sa_result.pre_contingency_result"
   ],
   "id": "47c05b893ec1b062",
   "outputs": [
    {
     "data": {
      "text/plain": [
       "PreContingencyResult(, status=CONVERGED, limit_violations=[0])"
      ]
     },
     "execution_count": 206,
     "metadata": {},
     "output_type": "execute_result"
    }
   ],
   "execution_count": 206
  },
  {
   "cell_type": "markdown",
   "metadata": {},
   "source": [
    "### Post contingency step"
   ],
   "id": "58fa05fb3c90eb27"
  },
  {
   "cell_type": "markdown",
   "metadata": {},
   "source": [
    "Then the first contingency trigger the current limit installed on S_SO_2"
   ],
   "id": "7e8ed3b0c79c1b18"
  },
  {
   "cell_type": "code",
   "metadata": {
    "ExecuteTime": {
     "end_time": "2025-09-15T11:41:34.418804Z",
     "start_time": "2025-09-15T11:41:34.412276Z"
    }
   },
   "source": [
    "sa_result.find_post_contingency_result('S_SO_1_contingency')"
   ],
   "id": "5d9ab85a779a3b5d",
   "outputs": [
    {
     "data": {
      "text/plain": [
       "PostContingencyResult(contingency_id='S_SO_1_contingency', status=CONVERGED, limit_violations=[1])"
      ]
     },
     "execution_count": 207,
     "metadata": {},
     "output_type": "execute_result"
    }
   ],
   "execution_count": 207
  },
  {
   "cell_type": "code",
   "metadata": {
    "ExecuteTime": {
     "end_time": "2025-09-15T11:41:34.484330Z",
     "start_time": "2025-09-15T11:41:34.474789Z"
    }
   },
   "source": [
    "sa_result.find_post_contingency_result('S_SO_1_contingency').limit_violations[0]"
   ],
   "id": "11306df26b311f86",
   "outputs": [
    {
     "data": {
      "text/plain": [
       "LimitViolation(subject_id='S_SO_2', subject_name='', limit_type=CURRENT, limit=400.0, limit_name='permanent', acceptable_duration=2147483647, limit_reduction=1.0, value=419.25779086638283, side=TWO)"
      ]
     },
     "execution_count": 208,
     "metadata": {},
     "output_type": "execute_result"
    }
   ],
   "execution_count": 208
  },
  {
   "cell_type": "markdown",
   "metadata": {},
   "source": [
    "We see that the flow is at 419.25."
   ],
   "id": "e571b6f51eb0f24d"
  },
  {
   "cell_type": "markdown",
   "metadata": {},
   "source": [
    "### StrategyOpenSS1_SS1"
   ],
   "id": "ecb73b22d5542449"
  },
  {
   "cell_type": "markdown",
   "metadata": {},
   "source": [
    "Let's check results for StrategyOpenSS1_SS1 :"
   ],
   "id": "3d35d85ccb6e31d1"
  },
  {
   "cell_type": "code",
   "metadata": {
    "ExecuteTime": {
     "end_time": "2025-09-15T11:41:34.547807Z",
     "start_time": "2025-09-15T11:41:34.540530Z"
    }
   },
   "source": "sa_result.operator_strategy_results['StrategyOpenSS1_SS1']",
   "id": "4596b24f0b81143e",
   "outputs": [
    {
     "data": {
      "text/plain": [
       "OperatorStrategyResult(operator_strategy_id='StrategyOpenSS1_SS1', status=CONVERGED, limit_violations=[0])"
      ]
     },
     "execution_count": 209,
     "metadata": {},
     "output_type": "execute_result"
    }
   ],
   "execution_count": 209
  },
  {
   "cell_type": "code",
   "metadata": {
    "ExecuteTime": {
     "end_time": "2025-09-15T11:41:34.614515Z",
     "start_time": "2025-09-15T11:41:34.604387Z"
    }
   },
   "source": [
    "sa_result.branch_results.loc['S_SO_1_contingency', 'StrategyOpenSS1_SS1', 'S_SO_2']['i2']"
   ],
   "id": "26d5d2be34df1fa7",
   "outputs": [
    {
     "data": {
      "text/plain": [
       "np.float64(378.3380062100348)"
      ]
     },
     "execution_count": 210,
     "metadata": {},
     "output_type": "execute_result"
    }
   ],
   "execution_count": 210
  },
  {
   "cell_type": "markdown",
   "metadata": {},
   "source": [
    "We no longer have a limit violation, and we see that flow on S_SO2 is under 400."
   ],
   "id": "3598bf16ad30c1e2"
  },
  {
   "cell_type": "markdown",
   "metadata": {},
   "source": [
    "### StrategyOpenSOO1_SOO1"
   ],
   "id": "39bfb255e04836ec"
  },
  {
   "cell_type": "markdown",
   "metadata": {},
   "source": [
    "Let's check results for StrategyOpenSOO1_SOO1 :"
   ],
   "id": "35d7f311615a83d5"
  },
  {
   "cell_type": "code",
   "metadata": {
    "ExecuteTime": {
     "end_time": "2025-09-15T11:41:34.674994Z",
     "start_time": "2025-09-15T11:41:34.669052Z"
    }
   },
   "source": "sa_result.operator_strategy_results['StrategyOpenSOO1_SOO1']",
   "id": "7771bd4cd9f297b1",
   "outputs": [
    {
     "data": {
      "text/plain": [
       "OperatorStrategyResult(operator_strategy_id='StrategyOpenSOO1_SOO1', status=CONVERGED, limit_violations=[2])"
      ]
     },
     "execution_count": 211,
     "metadata": {},
     "output_type": "execute_result"
    }
   ],
   "execution_count": 211
  },
  {
   "cell_type": "code",
   "metadata": {
    "ExecuteTime": {
     "end_time": "2025-09-15T11:41:34.737651Z",
     "start_time": "2025-09-15T11:41:34.731059Z"
    }
   },
   "source": "sa_result.operator_strategy_results['StrategyOpenSOO1_SOO1'].limit_violations[0]",
   "id": "9b2f75a1d140e946",
   "outputs": [
    {
     "data": {
      "text/plain": [
       "LimitViolation(subject_id='SO_NO_1', subject_name='', limit_type=CURRENT, limit=700.0, limit_name=\"10'\", acceptable_duration=1, limit_reduction=1.0, value=1044.4966633667482, side=ONE)"
      ]
     },
     "execution_count": 212,
     "metadata": {},
     "output_type": "execute_result"
    }
   ],
   "execution_count": 212
  },
  {
   "cell_type": "code",
   "metadata": {
    "ExecuteTime": {
     "end_time": "2025-09-15T11:41:34.795858Z",
     "start_time": "2025-09-15T11:41:34.789530Z"
    }
   },
   "source": [
    "sa_result.operator_strategy_results['StrategyOpenSOO1_SOO1'].limit_violations[1]"
   ],
   "id": "8dcd1830734d74a5",
   "outputs": [
    {
     "data": {
      "text/plain": [
       "LimitViolation(subject_id='SO_NO_1', subject_name='', limit_type=CURRENT, limit=600.0, limit_name='permanent', acceptable_duration=2147483647, limit_reduction=1.0, value=1044.4966633667477, side=TWO)"
      ]
     },
     "execution_count": 213,
     "metadata": {},
     "output_type": "execute_result"
    }
   ],
   "execution_count": 213
  },
  {
   "cell_type": "markdown",
   "metadata": {},
   "source": [
    "We see that we have two new limit violation on SO_NO_1. But still no limit violation on S_SO2"
   ],
   "id": "acc51c99fff318fb"
  },
  {
   "cell_type": "markdown",
   "metadata": {},
   "source": [
    "### StrategyOpenBothSwitchs"
   ],
   "id": "4c7e60050aea7936"
  },
  {
   "cell_type": "markdown",
   "metadata": {},
   "source": [
    "Let's check results for StrategyOpenBothSwitchs :"
   ],
   "id": "6c05427aab4ad741"
  },
  {
   "cell_type": "code",
   "metadata": {
    "ExecuteTime": {
     "end_time": "2025-09-15T11:41:34.869027Z",
     "start_time": "2025-09-15T11:41:34.864124Z"
    }
   },
   "source": "sa_result.operator_strategy_results['StrategyOpenBothSwitchs']",
   "id": "a61c5a890e6ed82a",
   "outputs": [
    {
     "data": {
      "text/plain": [
       "OperatorStrategyResult(operator_strategy_id='StrategyOpenBothSwitchs', status=CONVERGED, limit_violations=[2])"
      ]
     },
     "execution_count": 214,
     "metadata": {},
     "output_type": "execute_result"
    }
   ],
   "execution_count": 214
  },
  {
   "cell_type": "code",
   "metadata": {
    "ExecuteTime": {
     "end_time": "2025-09-15T11:41:34.920379Z",
     "start_time": "2025-09-15T11:41:34.917504Z"
    }
   },
   "source": [
    "sa_result.operator_strategy_results['StrategyOpenSOO1_SOO1'].limit_violations[0]"
   ],
   "id": "b6ac97e8f513b01c",
   "outputs": [
    {
     "data": {
      "text/plain": [
       "LimitViolation(subject_id='SO_NO_1', subject_name='', limit_type=CURRENT, limit=700.0, limit_name=\"10'\", acceptable_duration=1, limit_reduction=1.0, value=1044.4966633667482, side=ONE)"
      ]
     },
     "execution_count": 215,
     "metadata": {},
     "output_type": "execute_result"
    }
   ],
   "execution_count": 215
  },
  {
   "cell_type": "code",
   "metadata": {
    "ExecuteTime": {
     "end_time": "2025-09-15T11:41:34.971744Z",
     "start_time": "2025-09-15T11:41:34.967955Z"
    }
   },
   "source": [
    "sa_result.operator_strategy_results['StrategyOpenSOO1_SOO1'].limit_violations[1]"
   ],
   "id": "f187ed1370f6b05b",
   "outputs": [
    {
     "data": {
      "text/plain": [
       "LimitViolation(subject_id='SO_NO_1', subject_name='', limit_type=CURRENT, limit=600.0, limit_name='permanent', acceptable_duration=2147483647, limit_reduction=1.0, value=1044.4966633667477, side=TWO)"
      ]
     },
     "execution_count": 216,
     "metadata": {},
     "output_type": "execute_result"
    }
   ],
   "execution_count": 216
  },
  {
   "cell_type": "markdown",
   "metadata": {},
   "source": [
    "We also have some violations on SO_NO_1 but still no violation on S_SO2."
   ],
   "id": "46c16bee67991daa"
  },
  {
   "cell_type": "markdown",
   "metadata": {},
   "source": [
    "### StrategyRedispatch"
   ],
   "id": "e4d658e0eb0acf95"
  },
  {
   "cell_type": "markdown",
   "metadata": {},
   "source": [
    "Finally the StrategyRedispatch :"
   ],
   "id": "3a79790e2cc6dff6"
  },
  {
   "cell_type": "code",
   "metadata": {
    "ExecuteTime": {
     "end_time": "2025-09-15T11:41:35.023737Z",
     "start_time": "2025-09-15T11:41:35.020447Z"
    }
   },
   "source": "sa_result.operator_strategy_results['StrategyRedispatch']",
   "id": "e32d2c03037446a0",
   "outputs": [
    {
     "data": {
      "text/plain": [
       "OperatorStrategyResult(operator_strategy_id='StrategyRedispatch', status=CONVERGED, limit_violations=[0])"
      ]
     },
     "execution_count": 217,
     "metadata": {},
     "output_type": "execute_result"
    }
   ],
   "execution_count": 217
  },
  {
   "cell_type": "markdown",
   "metadata": {},
   "source": [
    "No more limit violations !"
   ],
   "id": "8b60a6945b213cbf"
  },
  {
   "cell_type": "markdown",
   "metadata": {},
   "source": [
    "## Observe the flow on each step of the analysis"
   ],
   "id": "b17f517a80399ebd"
  },
  {
   "cell_type": "markdown",
   "metadata": {},
   "source": [
    "To have an overview on the flows on S_SO_2 you can print the whole monitored branche results : "
   ],
   "id": "c55402d21b4e20e4"
  },
  {
   "cell_type": "code",
   "metadata": {
    "ExecuteTime": {
     "end_time": "2025-09-15T11:41:35.094560Z",
     "start_time": "2025-09-15T11:41:35.080416Z"
    }
   },
   "source": [
    "sa_result.branch_results"
   ],
   "id": "118cc45a700bc16",
   "outputs": [
    {
     "data": {
      "text/plain": [
       "                                                              p1          q1  \\\n",
       "contingency_id     operator_strategy_id    branch_id                           \n",
       "                                           SO_NO_1     54.531480 -110.016475   \n",
       "                                           S_SO_2    -133.377630   85.519336   \n",
       "S_SO_1_contingency                         SO_NO_1     79.418783 -124.999658   \n",
       "                                           S_SO_2    -249.100890  153.754036   \n",
       "                   StrategyOpenSS1_SS1     SO_NO_1     92.554967 -133.720643   \n",
       "                                           S_SO_2    -226.152625  136.898071   \n",
       "                   StrategyOpenSOO1_SOO1   SO_NO_1    451.041734 -580.734940   \n",
       "                                           S_SO_2    -136.449843   11.254213   \n",
       "                   StrategyOpenBothSwitchs SO_NO_1    451.153915 -580.693806   \n",
       "                                           S_SO_2    -125.372756    9.603396   \n",
       "                   StrategyRedispatch      SO_NO_1     59.361505 -124.265372   \n",
       "                                           S_SO_2    -185.947605  155.624093   \n",
       "\n",
       "                                                               i1          p2  \\\n",
       "contingency_id     operator_strategy_id    branch_id                            \n",
       "                                           SO_NO_1     174.419119  -53.892618   \n",
       "                                           S_SO_2      226.042956  134.297347   \n",
       "S_SO_1_contingency                         SO_NO_1     210.365186  -78.489460   \n",
       "                                           S_SO_2      419.257791  252.264878   \n",
       "                   StrategyOpenSS1_SS1     SO_NO_1     231.007243  -91.434316   \n",
       "                                           S_SO_2      378.338006  228.729139   \n",
       "                   StrategyOpenSOO1_SOO1   SO_NO_1    1044.496663 -428.131295   \n",
       "                                           S_SO_2      199.930622  137.169344   \n",
       "                   StrategyOpenBothSwitchs SO_NO_1    1044.548275 -428.241212   \n",
       "                                           S_SO_2      183.434100  125.978421   \n",
       "                   StrategyRedispatch      SO_NO_1     195.621373  -58.557883   \n",
       "                                           S_SO_2      346.465621  188.108297   \n",
       "\n",
       "                                                              q2           i2  \\\n",
       "contingency_id     operator_strategy_id    branch_id                            \n",
       "                                           SO_NO_1    110.107741   174.419119   \n",
       "                                           S_SO_2     -85.366050   226.042956   \n",
       "S_SO_1_contingency                         SO_NO_1    125.132419   210.365186   \n",
       "                                           S_SO_2    -153.226705   419.257791   \n",
       "                   StrategyOpenSS1_SS1     SO_NO_1    133.880736   231.007243   \n",
       "                                           S_SO_2    -136.468652   378.338006   \n",
       "                   StrategyOpenSOO1_SOO1   SO_NO_1    584.007860  1044.496663   \n",
       "                                           S_SO_2     -11.134296   199.930622   \n",
       "                   StrategyOpenBothSwitchs SO_NO_1    583.967050  1044.548275   \n",
       "                                           S_SO_2      -9.502452   183.434100   \n",
       "                   StrategyRedispatch      SO_NO_1    124.380175   195.621373   \n",
       "                                           S_SO_2    -155.263977   346.465621   \n",
       "\n",
       "                                                      flow_transfer  \n",
       "contingency_id     operator_strategy_id    branch_id                 \n",
       "                                           SO_NO_1              NaN  \n",
       "                                           S_SO_2               NaN  \n",
       "S_SO_1_contingency                         SO_NO_1              NaN  \n",
       "                                           S_SO_2               NaN  \n",
       "                   StrategyOpenSS1_SS1     SO_NO_1              NaN  \n",
       "                                           S_SO_2               NaN  \n",
       "                   StrategyOpenSOO1_SOO1   SO_NO_1              NaN  \n",
       "                                           S_SO_2               NaN  \n",
       "                   StrategyOpenBothSwitchs SO_NO_1              NaN  \n",
       "                                           S_SO_2               NaN  \n",
       "                   StrategyRedispatch      SO_NO_1              NaN  \n",
       "                                           S_SO_2               NaN  "
      ],
      "text/html": [
       "<div>\n",
       "<style scoped>\n",
       "    .dataframe tbody tr th:only-of-type {\n",
       "        vertical-align: middle;\n",
       "    }\n",
       "\n",
       "    .dataframe tbody tr th {\n",
       "        vertical-align: top;\n",
       "    }\n",
       "\n",
       "    .dataframe thead th {\n",
       "        text-align: right;\n",
       "    }\n",
       "</style>\n",
       "<table border=\"1\" class=\"dataframe\">\n",
       "  <thead>\n",
       "    <tr style=\"text-align: right;\">\n",
       "      <th></th>\n",
       "      <th></th>\n",
       "      <th></th>\n",
       "      <th>p1</th>\n",
       "      <th>q1</th>\n",
       "      <th>i1</th>\n",
       "      <th>p2</th>\n",
       "      <th>q2</th>\n",
       "      <th>i2</th>\n",
       "      <th>flow_transfer</th>\n",
       "    </tr>\n",
       "    <tr>\n",
       "      <th>contingency_id</th>\n",
       "      <th>operator_strategy_id</th>\n",
       "      <th>branch_id</th>\n",
       "      <th></th>\n",
       "      <th></th>\n",
       "      <th></th>\n",
       "      <th></th>\n",
       "      <th></th>\n",
       "      <th></th>\n",
       "      <th></th>\n",
       "    </tr>\n",
       "  </thead>\n",
       "  <tbody>\n",
       "    <tr>\n",
       "      <th rowspan=\"2\" valign=\"top\"></th>\n",
       "      <th rowspan=\"2\" valign=\"top\"></th>\n",
       "      <th>SO_NO_1</th>\n",
       "      <td>54.531480</td>\n",
       "      <td>-110.016475</td>\n",
       "      <td>174.419119</td>\n",
       "      <td>-53.892618</td>\n",
       "      <td>110.107741</td>\n",
       "      <td>174.419119</td>\n",
       "      <td>NaN</td>\n",
       "    </tr>\n",
       "    <tr>\n",
       "      <th>S_SO_2</th>\n",
       "      <td>-133.377630</td>\n",
       "      <td>85.519336</td>\n",
       "      <td>226.042956</td>\n",
       "      <td>134.297347</td>\n",
       "      <td>-85.366050</td>\n",
       "      <td>226.042956</td>\n",
       "      <td>NaN</td>\n",
       "    </tr>\n",
       "    <tr>\n",
       "      <th rowspan=\"10\" valign=\"top\">S_SO_1_contingency</th>\n",
       "      <th rowspan=\"2\" valign=\"top\"></th>\n",
       "      <th>SO_NO_1</th>\n",
       "      <td>79.418783</td>\n",
       "      <td>-124.999658</td>\n",
       "      <td>210.365186</td>\n",
       "      <td>-78.489460</td>\n",
       "      <td>125.132419</td>\n",
       "      <td>210.365186</td>\n",
       "      <td>NaN</td>\n",
       "    </tr>\n",
       "    <tr>\n",
       "      <th>S_SO_2</th>\n",
       "      <td>-249.100890</td>\n",
       "      <td>153.754036</td>\n",
       "      <td>419.257791</td>\n",
       "      <td>252.264878</td>\n",
       "      <td>-153.226705</td>\n",
       "      <td>419.257791</td>\n",
       "      <td>NaN</td>\n",
       "    </tr>\n",
       "    <tr>\n",
       "      <th rowspan=\"2\" valign=\"top\">StrategyOpenSS1_SS1</th>\n",
       "      <th>SO_NO_1</th>\n",
       "      <td>92.554967</td>\n",
       "      <td>-133.720643</td>\n",
       "      <td>231.007243</td>\n",
       "      <td>-91.434316</td>\n",
       "      <td>133.880736</td>\n",
       "      <td>231.007243</td>\n",
       "      <td>NaN</td>\n",
       "    </tr>\n",
       "    <tr>\n",
       "      <th>S_SO_2</th>\n",
       "      <td>-226.152625</td>\n",
       "      <td>136.898071</td>\n",
       "      <td>378.338006</td>\n",
       "      <td>228.729139</td>\n",
       "      <td>-136.468652</td>\n",
       "      <td>378.338006</td>\n",
       "      <td>NaN</td>\n",
       "    </tr>\n",
       "    <tr>\n",
       "      <th rowspan=\"2\" valign=\"top\">StrategyOpenSOO1_SOO1</th>\n",
       "      <th>SO_NO_1</th>\n",
       "      <td>451.041734</td>\n",
       "      <td>-580.734940</td>\n",
       "      <td>1044.496663</td>\n",
       "      <td>-428.131295</td>\n",
       "      <td>584.007860</td>\n",
       "      <td>1044.496663</td>\n",
       "      <td>NaN</td>\n",
       "    </tr>\n",
       "    <tr>\n",
       "      <th>S_SO_2</th>\n",
       "      <td>-136.449843</td>\n",
       "      <td>11.254213</td>\n",
       "      <td>199.930622</td>\n",
       "      <td>137.169344</td>\n",
       "      <td>-11.134296</td>\n",
       "      <td>199.930622</td>\n",
       "      <td>NaN</td>\n",
       "    </tr>\n",
       "    <tr>\n",
       "      <th rowspan=\"2\" valign=\"top\">StrategyOpenBothSwitchs</th>\n",
       "      <th>SO_NO_1</th>\n",
       "      <td>451.153915</td>\n",
       "      <td>-580.693806</td>\n",
       "      <td>1044.548275</td>\n",
       "      <td>-428.241212</td>\n",
       "      <td>583.967050</td>\n",
       "      <td>1044.548275</td>\n",
       "      <td>NaN</td>\n",
       "    </tr>\n",
       "    <tr>\n",
       "      <th>S_SO_2</th>\n",
       "      <td>-125.372756</td>\n",
       "      <td>9.603396</td>\n",
       "      <td>183.434100</td>\n",
       "      <td>125.978421</td>\n",
       "      <td>-9.502452</td>\n",
       "      <td>183.434100</td>\n",
       "      <td>NaN</td>\n",
       "    </tr>\n",
       "    <tr>\n",
       "      <th rowspan=\"2\" valign=\"top\">StrategyRedispatch</th>\n",
       "      <th>SO_NO_1</th>\n",
       "      <td>59.361505</td>\n",
       "      <td>-124.265372</td>\n",
       "      <td>195.621373</td>\n",
       "      <td>-58.557883</td>\n",
       "      <td>124.380175</td>\n",
       "      <td>195.621373</td>\n",
       "      <td>NaN</td>\n",
       "    </tr>\n",
       "    <tr>\n",
       "      <th>S_SO_2</th>\n",
       "      <td>-185.947605</td>\n",
       "      <td>155.624093</td>\n",
       "      <td>346.465621</td>\n",
       "      <td>188.108297</td>\n",
       "      <td>-155.263977</td>\n",
       "      <td>346.465621</td>\n",
       "      <td>NaN</td>\n",
       "    </tr>\n",
       "  </tbody>\n",
       "</table>\n",
       "</div>"
      ]
     },
     "execution_count": 218,
     "metadata": {},
     "output_type": "execute_result"
    }
   ],
   "execution_count": 218
  },
  {
   "cell_type": "code",
   "metadata": {
    "ExecuteTime": {
     "end_time": "2025-09-15T11:41:35.228244Z",
     "start_time": "2025-09-15T11:41:35.224977Z"
    }
   },
   "source": [],
   "id": "cc1702be081c3fe2",
   "outputs": [],
   "execution_count": null
  }
 ],
 "metadata": {
  "celltoolbar": "Format de la Cellule Texte Brut",
  "kernelspec": {
   "display_name": "Python 3",
   "language": "python",
   "name": "python3"
  },
  "language_info": {
   "codemirror_mode": {
    "name": "ipython",
    "version": 3
   },
   "file_extension": ".py",
   "mimetype": "text/x-python",
   "name": "python",
   "nbconvert_exporter": "python",
   "pygments_lexer": "ipython3",
   "version": "3.8.10"
  }
 },
 "nbformat": 4,
 "nbformat_minor": 5
}
