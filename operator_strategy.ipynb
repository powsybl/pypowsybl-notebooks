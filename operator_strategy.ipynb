{
 "cells": [
  {
   "cell_type": "markdown",
   "id": "22a1ea96",
   "metadata": {},
   "source": [
    "# Pypowsybl action and operator strategy API demo "
   ]
  },
  {
   "cell_type": "raw",
   "id": "c72eface",
   "metadata": {},
   "source": [
    "The goal of this notebook is to demonstrate the use of the new action and operator strategy API in pypowsybl. The example network chosen to illustrate the API is the 6 nodes network from metrix tutorial.\n",
    "The various strategies from the tutorial are implemented in pypowsybl to show the various new features available."
   ]
  },
  {
   "cell_type": "code",
   "execution_count": null,
   "id": "2663eb73",
   "metadata": {},
   "outputs": [],
   "source": [
    "import pypowsybl as pp"
   ]
  },
  {
   "cell_type": "code",
   "execution_count": null,
   "id": "dd52b4ad",
   "metadata": {},
   "outputs": [],
   "source": [
    "six_nodes = pp.network.load('data/reseau_6noeuds.xiidm')"
   ]
  },
  {
   "cell_type": "markdown",
   "id": "e7c8ffdb",
   "metadata": {},
   "source": [
    "![6 nodes network](data/reseau_6_noeuds_ss_HDVC.png)"
   ]
  },
  {
   "cell_type": "code",
   "execution_count": null,
   "id": "a720250a",
   "metadata": {},
   "outputs": [],
   "source": [
    "sa = pp.security.create_analysis()"
   ]
  },
  {
   "cell_type": "raw",
   "id": "20fb3437",
   "metadata": {},
   "source": [
    "A single contingency on line S_SO_1 is added to the security analysis. The goal it to watch the flow grow on line S_SO_2 and test various strategy to lower it."
   ]
  },
  {
   "cell_type": "code",
   "execution_count": null,
   "id": "b520c15b",
   "metadata": {},
   "outputs": [],
   "source": [
    "sa.add_single_element_contingency('S_SO_1', 'S_SO_1_contingency')"
   ]
  },
  {
   "cell_type": "code",
   "execution_count": null,
   "id": "7f6b78ef",
   "metadata": {},
   "outputs": [],
   "source": [
    "sa.add_monitored_elements(branch_ids=['S_SO_2'])"
   ]
  },
  {
   "cell_type": "markdown",
   "id": "2038779e",
   "metadata": {},
   "source": [
    "## Topological remedial actions"
   ]
  },
  {
   "cell_type": "raw",
   "id": "450a79ca",
   "metadata": {},
   "source": [
    "A first of topological remedial action is programmed, the opening of switches SS1_SS1_DJ_OMN and SOO1_SOO1_DJ_OMN. Three operator strategy will be tested : Opening only the fist switch, opening only the second switch and opening both."
   ]
  },
  {
   "cell_type": "code",
   "execution_count": null,
   "id": "4c95534e",
   "metadata": {},
   "outputs": [],
   "source": [
    "sa.add_switch_action(action_id='Switch_SS1_SS1_DJ_OMN_OPEN', switch_id='SS1_SS1_DJ_OMN', open=True)"
   ]
  },
  {
   "cell_type": "code",
   "execution_count": null,
   "id": "4f5596cc",
   "metadata": {},
   "outputs": [],
   "source": [
    "sa.add_switch_action(action_id='Switch_SOO1_SOO1_DJ_OMN_OPEN', switch_id='SOO1_SOO1_DJ_OMN', open=True)"
   ]
  },
  {
   "cell_type": "code",
   "execution_count": null,
   "id": "9152a0e4",
   "metadata": {},
   "outputs": [],
   "source": [
    "sa.add_operator_strategy('StrategyOpenSS1_SS1', 'S_SO_1_contingency', ['Switch_SS1_SS1_DJ_OMN_OPEN']) "
   ]
  },
  {
   "cell_type": "code",
   "execution_count": null,
   "id": "340afa5f",
   "metadata": {},
   "outputs": [],
   "source": [
    "sa.add_operator_strategy('StrategyOpenSOO1_SOO1', 'S_SO_1_contingency', ['Switch_SOO1_SOO1_DJ_OMN_OPEN']) "
   ]
  },
  {
   "cell_type": "code",
   "execution_count": null,
   "id": "4f929f75",
   "metadata": {},
   "outputs": [],
   "source": [
    "sa.add_operator_strategy('StrategyOpenBothSwitchs', 'S_SO_1_contingency', ['Switch_SS1_SS1_DJ_OMN_OPEN', 'Switch_SOO1_SOO1_DJ_OMN_OPEN']) "
   ]
  },
  {
   "cell_type": "markdown",
   "id": "07c274ec",
   "metadata": {},
   "source": [
    "## Redispatch remedial actions"
   ]
  },
  {
   "cell_type": "raw",
   "id": "9ccd2832",
   "metadata": {},
   "source": [
    "An additional strategy is modify some generator and load target P to lower the flow on line S_SO_2. For this we try to set a lower target P on load SO_L and on generator SO_G2."
   ]
  },
  {
   "cell_type": "code",
   "execution_count": null,
   "id": "4a48109b",
   "metadata": {},
   "outputs": [],
   "source": [
    "#sa.add_generator_active_power_action(action_id='Simple_Redispatch_Gen', generator_id='SO_G2', is_relative=False, active_power=380)\n",
    "sa.add_generator_active_power_action(action_id='Simple_Redispatch_Gen', generator_id='SO_G2', is_relative=True, active_power=-580)"
   ]
  },
  {
   "cell_type": "code",
   "execution_count": null,
   "id": "440499ac",
   "metadata": {},
   "outputs": [],
   "source": [
    "sa.add_load_active_power_action(action_id='Simple_Redispatch_Load', load_id='SO_L', is_relative=False, active_power=500)"
   ]
  },
  {
   "cell_type": "code",
   "execution_count": null,
   "id": "2c11cec3",
   "metadata": {},
   "outputs": [],
   "source": [
    "sa.add_operator_strategy('StrategyRedispatch', 'S_SO_1_contingency', ['Simple_Redispatch_Gen', 'Simple_Redispatch_Load'])"
   ]
  },
  {
   "cell_type": "markdown",
   "id": "74168f49",
   "metadata": {},
   "source": [
    "## Run the security analysis "
   ]
  },
  {
   "cell_type": "code",
   "execution_count": null,
   "id": "b06ec63a",
   "metadata": {},
   "outputs": [],
   "source": [
    "sa_result = sa.run_ac(six_nodes)"
   ]
  },
  {
   "cell_type": "markdown",
   "id": "e79b458f",
   "metadata": {},
   "source": [
    "## Observe the flow on each step of the analysis"
   ]
  },
  {
   "cell_type": "code",
   "execution_count": null,
   "id": "18e325a0",
   "metadata": {},
   "outputs": [],
   "source": [
    "print(sa_result.branch_results)"
   ]
  },
  {
   "cell_type": "code",
   "execution_count": null,
   "id": "9daccf99",
   "metadata": {},
   "outputs": [],
   "source": []
  }
 ],
 "metadata": {
  "celltoolbar": "Format de la Cellule Texte Brut",
  "kernelspec": {
   "display_name": "Python 3 (ipykernel)",
   "language": "python",
   "name": "python3"
  },
  "language_info": {
   "codemirror_mode": {
    "name": "ipython",
    "version": 3
   },
   "file_extension": ".py",
   "mimetype": "text/x-python",
   "name": "python",
   "nbconvert_exporter": "python",
   "pygments_lexer": "ipython3",
   "version": "3.10.2"
  }
 },
 "nbformat": 4,
 "nbformat_minor": 5
}
