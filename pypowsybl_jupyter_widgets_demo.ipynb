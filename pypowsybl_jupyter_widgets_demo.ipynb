{
 "cells": [
  {
   "cell_type": "markdown",
   "id": "474d58ab-cc5a-4396-8db1-4221abbdd2dc",
   "metadata": {
    "editable": true,
    "slideshow": {
     "slide_type": ""
    },
    "tags": []
   },
   "source": [
    "# Pypowsybl-jupyter widgets demo: network explorer"
   ]
  },
  {
   "cell_type": "markdown",
   "id": "49d2aab9-ef3f-4b57-a023-ab1c72608eaf",
   "metadata": {
    "editable": true,
    "slideshow": {
     "slide_type": ""
    },
    "tags": []
   },
   "source": [
    "Pypowsybl-jupyter provides a set of interactive widgets for PyPowSyBl in Jupyter.\n",
    "This notebook demonstrates the network explorer."
   ]
  },
  {
   "cell_type": "code",
   "id": "33e76b81-4788-4fd6-af5d-390cb6230c34",
   "metadata": {
    "ExecuteTime": {
     "end_time": "2025-09-15T11:44:22.573220Z",
     "start_time": "2025-09-15T11:44:22.075673Z"
    }
   },
   "source": [
    "import pypowsybl as pp\n",
    "from pypowsybl_jupyter import network_explorer"
   ],
   "outputs": [],
   "execution_count": 1
  },
  {
   "cell_type": "markdown",
   "id": "3dc5dc34-2c28-411f-b281-c3cc2fd53ad4",
   "metadata": {},
   "source": [
    "Load IEEE 14 buses network"
   ]
  },
  {
   "cell_type": "code",
   "id": "ff9bf071-2f25-43a5-8db1-838dc781bd69",
   "metadata": {
    "ExecuteTime": {
     "end_time": "2025-09-15T11:44:22.590632Z",
     "start_time": "2025-09-15T11:44:22.578162Z"
    }
   },
   "source": [
    "n = pp.network.create_ieee14()"
   ],
   "outputs": [],
   "execution_count": 2
  },
  {
   "cell_type": "markdown",
   "id": "c5282ea3-1652-4d7f-81cf-36c2d3157dcf",
   "metadata": {
    "editable": true,
    "slideshow": {
     "slide_type": ""
    },
    "tags": []
   },
   "source": [
    "Display the network explorer widget. \n",
    "* Click on a voltage level from the list to display its NAD and SLD in the two \"Network Area\" and \"Single Line\" tabs. The history box, in the bottom left corner, lists the last displayed voltage levels.\n",
    "* Both diagrams can be panned and zoomed.\n",
    "* The NAD is centered on the currently selected voltage level. A 'depth' slider controls the size of the sub-network.\n",
    "* Nodes in the NAD diagram can be repositioned using drag-and-drop. However, the new positions are not persisted: switching to a new VL and then switching back to the current VL, the original nodes layout would be restored. A SHIFT+CLICK on a node will activate the SLD tab on the corresponding voltage level. Please note that these interactions in the NAD are available only when using PyPowSyBl >= v1.8.1.\n",
    "* A third tab, \"Network map\" displays the network’s substations and lines on a map. The map is empty if the network does not contain any geographical data."
   ]
  },
  {
   "cell_type": "code",
   "id": "4e7dd648-eef9-4a33-b7c8-3925fbca7395",
   "metadata": {
    "ExecuteTime": {
     "end_time": "2025-09-15T11:44:22.817314Z",
     "start_time": "2025-09-15T11:44:22.642074Z"
    }
   },
   "source": [
    "network_explorer(n)"
   ],
   "outputs": [
    {
     "data": {
      "text/plain": [
       "HBox(children=(VBox(children=(Label(value='Voltage levels'), VBox(children=(Text(value='', description='Filter…"
      ],
      "application/vnd.jupyter.widget-view+json": {
       "version_major": 2,
       "version_minor": 0,
       "model_id": "b9e2458b1e6448ea99a2a1e03e484375"
      }
     },
     "execution_count": 3,
     "metadata": {},
     "output_type": "execute_result"
    }
   ],
   "execution_count": 3
  },
  {
   "cell_type": "markdown",
   "id": "c3132815-c0d1-4884-aae9-186abe655baf",
   "metadata": {
    "editable": true,
    "slideshow": {
     "slide_type": ""
    },
    "tags": []
   },
   "source": [
    "It is possible to pre-select the VL to display and the depth using the optional parameters 'vl_id' and 'depth'."
   ]
  },
  {
   "cell_type": "code",
   "id": "5966caae-c700-4904-ba19-2c2400ba46e9",
   "metadata": {
    "ExecuteTime": {
     "end_time": "2025-09-15T11:44:23.020790Z",
     "start_time": "2025-09-15T11:44:22.882193Z"
    }
   },
   "source": [
    "network_explorer(n, vl_id='VL14', depth=4)"
   ],
   "outputs": [
    {
     "data": {
      "text/plain": [
       "HBox(children=(VBox(children=(Label(value='Voltage levels'), VBox(children=(Text(value='', description='Filter…"
      ],
      "application/vnd.jupyter.widget-view+json": {
       "version_major": 2,
       "version_minor": 0,
       "model_id": "6feab69a0c854f7e8428d41957e0837e"
      }
     },
     "execution_count": 4,
     "metadata": {},
     "output_type": "execute_result"
    }
   ],
   "execution_count": 4
  },
  {
   "cell_type": "markdown",
   "id": "8fcc0656-5864-46c9-8e36-75995ee60f3c",
   "metadata": {},
   "source": [
    "Please note that it could take some time to compute the NAD layout, depending on the network and the depth parameter. A progress bar will indicate the computation in progress."
   ]
  },
  {
   "cell_type": "markdown",
   "id": "ba94b49a-979e-4c70-b66b-5c973556616d",
   "metadata": {
    "editable": true,
    "slideshow": {
     "slide_type": ""
    },
    "tags": []
   },
   "source": [
    "Load a network that contains geographical data, and display it with the network explorer widget, to demonstrate the \"Network map\" tab.\n",
    "* The optional nominal_voltages_top_tiers_filter parameter can be used to display in the map only the highest n nominal voltages (the default is -1, to display all the voltages).\n",
    "* In the map, a click on a substation displays a popup list with the substation's voltage levels. This list provides an additional way to navigate the widget to a specific voltage level."
   ]
  },
  {
   "cell_type": "code",
   "id": "5467ab6f-8591-4b7c-a1e5-5b28953bd572",
   "metadata": {
    "ExecuteTime": {
     "end_time": "2025-09-15T11:44:23.328666Z",
     "start_time": "2025-09-15T11:44:23.163880Z"
    }
   },
   "source": [
    "microgrid_network = pp.network.load('./data/MicroGridTestConfiguration_T4_BE_BB_Complete_v2.zip', {'iidm.import.cgmes.post-processors': 'cgmesGLImport'})"
   ],
   "outputs": [],
   "execution_count": 5
  },
  {
   "cell_type": "code",
   "id": "87f6a143-6b95-47e6-b0f4-8e561b6f31a7",
   "metadata": {
    "ExecuteTime": {
     "end_time": "2025-09-15T11:44:23.476014Z",
     "start_time": "2025-09-15T11:44:23.333757Z"
    }
   },
   "source": [
    "network_explorer(microgrid_network, nominal_voltages_top_tiers_filter=3)"
   ],
   "outputs": [
    {
     "data": {
      "text/plain": [
       "HBox(children=(VBox(children=(Label(value='Voltage levels'), VBox(children=(Text(value='', description='Filter…"
      ],
      "application/vnd.jupyter.widget-view+json": {
       "version_major": 2,
       "version_minor": 0,
       "model_id": "35c2e1e5e69140c689af96eed6f26f25"
      }
     },
     "execution_count": 6,
     "metadata": {},
     "output_type": "execute_result"
    }
   ],
   "execution_count": 6
  },
  {
   "cell_type": "markdown",
   "id": "80f37582-ac8b-4140-83f0-e17eff0b7c95",
   "metadata": {},
   "source": [
    "Please visit the [pypowsybl-jupyter documentation](https://powsybl.readthedocs.io/projects/pypowsybl-jupyter/en/stable/) for detailed information about the widgets and their APIs."
   ]
  }
 ],
 "metadata": {
  "kernelspec": {
   "display_name": "Python 3 (ipykernel)",
   "language": "python",
   "name": "python3"
  },
  "language_info": {
   "codemirror_mode": {
    "name": "ipython",
    "version": 3
   },
   "file_extension": ".py",
   "mimetype": "text/x-python",
   "name": "python",
   "nbconvert_exporter": "python",
   "pygments_lexer": "ipython3",
   "version": "3.12.3"
  }
 },
 "nbformat": 4,
 "nbformat_minor": 5
}
