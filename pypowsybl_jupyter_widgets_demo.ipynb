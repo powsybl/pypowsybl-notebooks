{
 "cells": [
  {
   "cell_type": "markdown",
   "id": "474d58ab-cc5a-4396-8db1-4221abbdd2dc",
   "metadata": {
    "editable": true,
    "slideshow": {
     "slide_type": ""
    },
    "tags": []
   },
   "source": [
    "# Pypowsybl-jupyter widgets demo: network explorer"
   ]
  },
  {
   "cell_type": "markdown",
   "id": "49d2aab9-ef3f-4b57-a023-ab1c72608eaf",
   "metadata": {
    "editable": true,
    "slideshow": {
     "slide_type": ""
    },
    "tags": []
   },
   "source": [
    "Pypowsybl-jupyter provides a set of interactive widgets for PyPowSyBl in Jupyter.\n",
    "This notebook demonstrates the network explorer."
   ]
  },
  {
   "cell_type": "code",
   "execution_count": null,
   "id": "ab21fcb8-d724-48f6-aa53-63e81a863e7a",
   "metadata": {},
   "outputs": [],
   "source": [
    "%pip install pypowsybl"
   ]
  },
  {
   "cell_type": "code",
   "execution_count": null,
   "id": "2624eba1",
   "metadata": {},
   "outputs": [],
   "source": [
    "%pip install pypowsybl_jupyter"
   ]
  },
  {
   "cell_type": "code",
   "execution_count": null,
   "id": "33e76b81-4788-4fd6-af5d-390cb6230c34",
   "metadata": {},
   "outputs": [],
   "source": [
    "import pypowsybl as pp\n",
    "from pypowsybl_jupyter import network_explorer"
   ]
  },
  {
   "cell_type": "markdown",
   "id": "3dc5dc34-2c28-411f-b281-c3cc2fd53ad4",
   "metadata": {},
   "source": [
    "Create a network."
   ]
  },
  {
   "cell_type": "code",
   "execution_count": null,
   "id": "ff9bf071-2f25-43a5-8db1-838dc781bd69",
   "metadata": {},
   "outputs": [],
   "source": [
    "n = pp.network.create_ieee14()"
   ]
  },
  {
   "cell_type": "markdown",
   "id": "e550558b-452d-424f-b484-79ae60ec35bc",
   "metadata": {
    "editable": true,
    "slideshow": {
     "slide_type": ""
    },
    "tags": []
   },
   "source": [
    "Display the network explorer widget. \n",
    "* Click on a voltage level from the list to display its NAD and SLD in the two \"Network Area\" and \"Single Line\" tabs. \n",
    "* Both diagrams can be panned and zoomed.\n",
    "* The NAD is centered on the currently selected voltage level. A 'depth' slider controls the size of the sub-network."
   ]
  },
  {
   "cell_type": "code",
   "execution_count": null,
   "id": "4e7dd648-eef9-4a33-b7c8-3925fbca7395",
   "metadata": {},
   "outputs": [],
   "source": [
    "network_explorer(n)"
   ]
  },
  {
   "cell_type": "markdown",
   "id": "c3132815-c0d1-4884-aae9-186abe655baf",
   "metadata": {
    "editable": true,
    "slideshow": {
     "slide_type": ""
    },
    "tags": []
   },
   "source": [
    "It is possible to pre-select the VL to display and the depth using the optional parameters 'vl_id' and 'depth'."
   ]
  },
  {
   "cell_type": "code",
   "execution_count": null,
   "id": "5966caae-c700-4904-ba19-2c2400ba46e9",
   "metadata": {},
   "outputs": [],
   "source": [
    "network_explorer(n, vl_id='VL14', depth=4)"
   ]
  }
 ],
 "metadata": {
  "kernelspec": {
   "display_name": "Python 3 (ipykernel)",
   "language": "python",
   "name": "python3"
  },
  "language_info": {
   "codemirror_mode": {
    "name": "ipython",
    "version": 3
   },
   "file_extension": ".py",
   "mimetype": "text/x-python",
   "name": "python",
   "nbconvert_exporter": "python",
   "pygments_lexer": "ipython3",
   "version": "3.12.3"
  }
 },
 "nbformat": 4,
 "nbformat_minor": 5
}
