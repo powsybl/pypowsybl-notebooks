{
 "cells": [
  {
   "cell_type": "markdown",
   "id": "474d58ab-cc5a-4396-8db1-4221abbdd2dc",
   "metadata": {
    "editable": true,
    "slideshow": {
     "slide_type": ""
    },
    "tags": []
   },
   "source": [
    "# Pypowsybl-jupyter widgets demo: network explorer"
   ]
  },
  {
   "cell_type": "markdown",
   "id": "49d2aab9-ef3f-4b57-a023-ab1c72608eaf",
   "metadata": {
    "editable": true,
    "slideshow": {
     "slide_type": ""
    },
    "tags": []
   },
   "source": [
    "Pypowsybl-jupyter provides a set of interactive widgets for PyPowSyBl in Jupyter.\n",
    "This notebook demonstrates the network explorer."
   ]
  },
  {
   "cell_type": "code",
   "execution_count": null,
   "id": "ab21fcb8-d724-48f6-aa53-63e81a863e7a",
   "metadata": {},
   "outputs": [],
   "source": [
    "%pip install pypowsybl"
   ]
  },
  {
   "cell_type": "code",
   "execution_count": null,
   "id": "2624eba1",
   "metadata": {},
   "outputs": [],
   "source": [
    "%pip install pypowsybl_jupyter"
   ]
  },
  {
   "cell_type": "code",
   "execution_count": null,
   "id": "33e76b81-4788-4fd6-af5d-390cb6230c34",
   "metadata": {},
   "outputs": [],
   "source": [
    "import pypowsybl as pp\n",
    "from pypowsybl_jupyter import network_explorer"
   ]
  },
  {
   "cell_type": "markdown",
   "id": "3dc5dc34-2c28-411f-b281-c3cc2fd53ad4",
   "metadata": {},
   "source": [
    "Load IEEE 14 buses network"
   ]
  },
  {
   "cell_type": "code",
   "execution_count": null,
   "id": "ff9bf071-2f25-43a5-8db1-838dc781bd69",
   "metadata": {},
   "outputs": [],
   "source": [
    "n = pp.network.create_ieee14()"
   ]
  },
  {
   "cell_type": "markdown",
   "id": "c5282ea3-1652-4d7f-81cf-36c2d3157dcf",
   "metadata": {
    "editable": true,
    "slideshow": {
     "slide_type": ""
    },
    "tags": []
   },
   "source": [
    "Display the network explorer widget. \n",
    "* Click on a voltage level from the list to display its NAD and SLD in the two \"Network Area\" and \"Single Line\" tabs. The history box, in the bottom left corner, lists the last displayed voltage levels.\n",
    "* Both diagrams can be panned and zoomed.\n",
    "* The NAD is centered on the currently selected voltage level. A 'depth' slider controls the size of the sub-network.\n",
    "* Nodes in the NAD diagram can be repositioned using drag-and-drop. However, the new positions are not persisted: switching to a new VL and then switching back to the current VL, the original nodes layout would be restored. A SHIFT+CLICK on a node will activate the SLD tab on the corresponding voltage level. Please note that these interactions in the NAD are available only when using PyPowSyBl >= v1.8.1.\n",
    "* A third tab, \"Network map\" displays the network’s substations and lines on a map. The map is empty if the network does not contain any geographical data."
   ]
  },
  {
   "cell_type": "code",
   "execution_count": null,
   "id": "4e7dd648-eef9-4a33-b7c8-3925fbca7395",
   "metadata": {},
   "outputs": [],
   "source": [
    "network_explorer(n)"
   ]
  },
  {
   "cell_type": "markdown",
   "id": "c3132815-c0d1-4884-aae9-186abe655baf",
   "metadata": {
    "editable": true,
    "slideshow": {
     "slide_type": ""
    },
    "tags": []
   },
   "source": [
    "It is possible to pre-select the VL to display and the depth using the optional parameters 'vl_id' and 'depth'."
   ]
  },
  {
   "cell_type": "code",
   "execution_count": null,
   "id": "5966caae-c700-4904-ba19-2c2400ba46e9",
   "metadata": {},
   "outputs": [],
   "source": [
    "network_explorer(n, vl_id='VL14', depth=4)"
   ]
  },
  {
   "cell_type": "markdown",
   "id": "8fcc0656-5864-46c9-8e36-75995ee60f3c",
   "metadata": {},
   "source": [
    "Please note that it could take some time to compute the NAD layout, depending on the network and the depth parameter. A progress bar will indicate the computation in progress."
   ]
  },
  {
   "cell_type": "markdown",
   "id": "ba94b49a-979e-4c70-b66b-5c973556616d",
   "metadata": {
    "editable": true,
    "slideshow": {
     "slide_type": ""
    },
    "tags": []
   },
   "source": [
    "Load a network that contains geographical data, and display it with the network explorer widget, to demonstrate the \"Network map\" tab.\n",
    "* The optional nominal_voltages_top_tiers_filter parameter can be used to display in the map only the highest n nominal voltages (the default is -1, to display all the voltages).\n",
    "* In the map, a click on a substation displays a popup list with the substation's voltage levels. This list provides an additional way to navigate the widget to a specific voltage level."
   ]
  },
  {
   "cell_type": "code",
   "execution_count": null,
   "id": "5467ab6f-8591-4b7c-a1e5-5b28953bd572",
   "metadata": {},
   "outputs": [],
   "source": [
    "microgrid_network = pp.network.load('./data/MicroGridTestConfiguration_T4_BE_BB_Complete_v2.zip', {'iidm.import.cgmes.post-processors': 'cgmesGLImport'})"
   ]
  },
  {
   "cell_type": "code",
   "execution_count": null,
   "id": "87f6a143-6b95-47e6-b0f4-8e561b6f31a7",
   "metadata": {},
   "outputs": [],
   "source": [
    "network_explorer(microgrid_network, nominal_voltages_top_tiers_filter=3)"
   ]
  },
  {
   "cell_type": "markdown",
   "id": "80f37582-ac8b-4140-83f0-e17eff0b7c95",
   "metadata": {},
   "source": [
    "Please visit the [pypowsybl-jupyter documentation](https://powsybl.readthedocs.io/projects/pypowsybl-jupyter/en/stable/) for detailed information about the widgets and their APIs."
   ]
  }
 ],
 "metadata": {
  "kernelspec": {
   "display_name": "Python 3 (ipykernel)",
   "language": "python",
   "name": "python3"
  },
  "language_info": {
   "codemirror_mode": {
    "name": "ipython",
    "version": 3
   },
   "file_extension": ".py",
   "mimetype": "text/x-python",
   "name": "python",
   "nbconvert_exporter": "python",
   "pygments_lexer": "ipython3",
   "version": "3.12.3"
  }
 },
 "nbformat": 4,
 "nbformat_minor": 5
}
