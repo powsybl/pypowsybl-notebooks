{
 "cells": [
  {
   "cell_type": "code",
   "execution_count": 1,
   "metadata": {
    "collapsed": true,
    "ExecuteTime": {
     "end_time": "2023-06-19T21:03:51.553548Z",
     "start_time": "2023-06-19T21:03:51.221942Z"
    }
   },
   "outputs": [],
   "source": [
    "import pypowsybl as pp"
   ]
  },
  {
   "cell_type": "markdown",
   "source": [
    "Configure logger to show information"
   ],
   "metadata": {
    "collapsed": false
   }
  },
  {
   "cell_type": "code",
   "execution_count": 2,
   "outputs": [],
   "source": [
    "import logging\n",
    "logging.basicConfig()\n",
    "logging.getLogger('powsybl').setLevel(logging.INFO)"
   ],
   "metadata": {
    "collapsed": false,
    "ExecuteTime": {
     "end_time": "2023-06-19T21:03:51.555071Z",
     "start_time": "2023-06-19T21:03:51.553784Z"
    }
   }
  },
  {
   "cell_type": "markdown",
   "source": [
    "Create an IEEE 14 network instance"
   ],
   "metadata": {
    "collapsed": false
   }
  },
  {
   "cell_type": "code",
   "execution_count": 3,
   "outputs": [
    {
     "name": "stderr",
     "output_type": "stream",
     "text": [
      "INFO:powsybl:Using platform configuration provider classic\n",
      "INFO:powsybl:Platform configuration defined by .properties files of directory /Users/geo/.itools\n"
     ]
    }
   ],
   "source": [
    "n = pp.network.create_ieee14()"
   ],
   "metadata": {
    "collapsed": false,
    "ExecuteTime": {
     "end_time": "2023-06-19T21:03:51.584007Z",
     "start_time": "2023-06-19T21:03:51.555220Z"
    }
   }
  },
  {
   "cell_type": "markdown",
   "source": [
    "Configure load flow parameters to fast restart mode. In this mode, many load flow context data are saved between two run to allow faster restart."
   ],
   "metadata": {
    "collapsed": false
   }
  },
  {
   "cell_type": "code",
   "execution_count": 4,
   "outputs": [],
   "source": [
    "p = pp.loadflow.Parameters(provider_parameters={'networkCacheEnabled': 'true'})"
   ],
   "metadata": {
    "collapsed": false,
    "ExecuteTime": {
     "end_time": "2023-06-19T21:03:51.584178Z",
     "start_time": "2023-06-19T21:03:51.562089Z"
    }
   }
  },
  {
   "cell_type": "markdown",
   "source": [
    "Run first load flow, flat start mode (this is the default behaviours). It converges in 3 iterations. We can see thanks to the log \"Network cache created for network 'ieee14cdf'\" that cache is first initialized for this network."
   ],
   "metadata": {
    "collapsed": false
   }
  },
  {
   "cell_type": "code",
   "execution_count": 5,
   "outputs": [
    {
     "name": "stderr",
     "output_type": "stream",
     "text": [
      "INFO:powsybl:loadflow provider used is : OpenLoadFlow\n",
      "INFO:powsybl:LocalComputationConfig [localDir=/var/folders/fb/0cwcb1dd7l583x387c1snt4w0000gn/T, availableCore=1]\n",
      "INFO:powsybl:Version: {repositoryName=powsybl-open-loadflow, mavenProjectVersion=1.2.1, gitVersion=aa11c35697cd789191bf66265ed8f546cc429dae, gitBranch=v1.2.1, buildTimestamp=2023-06-07T20:14:23.956+02:00}\n",
      "INFO:powsybl:Parameters:\n",
      "┌──────────────────────────────────────────────────────────┬──────────────────────────────────┐\n",
      "│ Name                                                     │ Value                            │\n",
      "├──────────────────────────────────────────────────────────┼──────────────────────────────────┤\n",
      "│ voltageInitMode                                          │ UNIFORM_VALUES                   │\n",
      "│ transformerVoltageControlOn                              │ false                            │\n",
      "│ useReactiveLimits                                        │ true                             │\n",
      "│ phaseShifterRegulationOn                                 │ false                            │\n",
      "│ twtSplitShuntAdmittance                                  │ false                            │\n",
      "│ shuntCompensatorVoltageControlOn                         │ false                            │\n",
      "│ readSlackBus                                             │ true                             │\n",
      "│ writeSlackBus                                            │ false                            │\n",
      "│ dc                                                       │ false                            │\n",
      "│ distributedSlack                                         │ true                             │\n",
      "│ balanceType                                              │ PROPORTIONAL_TO_GENERATION_P_MAX │\n",
      "│ dcUseTransformerRatio                                    │ true                             │\n",
      "│ countriesToBalance                                       │                                  │\n",
      "│ computedConnectedComponentScope                          │ MAIN                             │\n",
      "│ hvdcAcEmulation                                          │ true                             │\n",
      "│ dcPowerFactor                                            │ 1.0                              │\n",
      "│ slackBusSelectionMode                                    │ MOST_MESHED                      │\n",
      "│ slackBusesIds                                            │ []                               │\n",
      "│ throwsExceptionInCaseOfSlackDistributionFailure          │ false                            │\n",
      "│ voltageRemoteControl                                     │ true                             │\n",
      "│ lowImpedanceBranchMode                                   │ REPLACE_BY_ZERO_IMPEDANCE_LINE   │\n",
      "│ loadPowerFactorConstant                                  │ false                            │\n",
      "│ plausibleActivePowerLimit                                │ 5000.0                           │\n",
      "│ newtonRaphsonStoppingCriteriaType                        │ UNIFORM_CRITERIA                 │\n",
      "│ slackBusPMaxMismatch                                     │ 1.0                              │\n",
      "│ maxActivePowerMismatch                                   │ 0.01                             │\n",
      "│ maxReactivePowerMismatch                                 │ 0.01                             │\n",
      "│ maxVoltageMismatch                                       │ 1.0E-4                           │\n",
      "│ maxAngleMismatch                                         │ 1.0E-5                           │\n",
      "│ maxRatioMismatch                                         │ 1.0E-5                           │\n",
      "│ maxSusceptanceMismatch                                   │ 1.0E-4                           │\n",
      "│ voltagePerReactivePowerControl                           │ false                            │\n",
      "│ reactivePowerRemoteControl                               │ false                            │\n",
      "│ maxNewtonRaphsonIterations                               │ 15                               │\n",
      "│ maxOuterLoopIterations                                   │ 20                               │\n",
      "│ newtonRaphsonConvEpsPerEq                                │ 1.0E-4                           │\n",
      "│ voltageInitModeOverride                                  │ NONE                             │\n",
      "│ transformerVoltageControlMode                            │ WITH_GENERATOR_VOLTAGE_CONTROL   │\n",
      "│ shuntVoltageControlMode                                  │ WITH_GENERATOR_VOLTAGE_CONTROL   │\n",
      "│ minPlausibleTargetVoltage                                │ 0.8                              │\n",
      "│ maxPlausibleTargetVoltage                                │ 1.2                              │\n",
      "│ minRealisticVoltage                                      │ 0.5                              │\n",
      "│ maxRealisticVoltage                                      │ 2.0                              │\n",
      "│ reactiveRangeCheckMode                                   │ MAX                              │\n",
      "│ lowImpedanceThreshold                                    │ 1.0E-8                           │\n",
      "│ networkCacheEnabled                                      │ true                             │\n",
      "│ svcVoltageMonitoring                                     │ true                             │\n",
      "│ stateVectorScalingMode                                   │ NONE                             │\n",
      "│ maxSlackBusCount                                         │ 1                                │\n",
      "│ debugDir                                                 │                                  │\n",
      "│ incrementalTransformerVoltageControlOuterLoopMaxTapShift │ 3                                │\n",
      "│ secondaryVoltageControl                                  │ false                            │\n",
      "│ reactiveLimitsMaxPqPvSwitch                              │ 3                                │\n",
      "│ phaseShifterControlMode                                  │ CONTINUOUS_WITH_DISCRETISATION   │\n",
      "│ alwaysUpdateNetwork                                      │ false                            │\n",
      "│ mostMeshedSlackBusSelectorMaxNominalVoltagePercentile    │ 95.0                             │\n",
      "│ reportedFeatures                                         │ []                               │\n",
      "│ slackBusCountryFilter                                    │ []                               │\n",
      "│ actionableSwitchesIds                                    │ []                               │\n",
      "│ asymmetrical                                             │ false                            │\n",
      "│ minNominalVoltageTargetVoltageCheck                      │ 20.0                             │\n",
      "└──────────────────────────────────────────────────────────┴──────────────────────────────────┘\n",
      "INFO:powsybl:Outer loops: [Distributed slack on generation, Voltage monitoring, Reactive limits]\n",
      "INFO:powsybl:Network cache created for network 'ieee14cdf' and variant 'InitialState'\n",
      "WARNING:powsybl:Network {CC0 SC0}: 3 generators have been discarded from active power control because of a targetP equals 0\n",
      "WARNING:powsybl:Network {CC0 SC0}: 5 generators have been discarded from active power control because of maxP not plausible\n",
      "INFO:powsybl:Network {CC0 SC0} has 14 buses and 20 branches\n",
      "INFO:powsybl:Network {CC0 SC0} balance: active generation=272.4 MW, active load=258.99999999999994 MW, reactive generation=0.0 MVar, reactive load=73.5 MVar\n",
      "INFO:powsybl:Start AC loadflow on network {CC0 SC0}\n",
      "INFO:powsybl:Network {CC0 SC0}, slack buses are [VL1_0] (method='Network extension bus')\n",
      "INFO:powsybl:Ac loadflow complete on network {CC0 SC0} (result=AcLoadFlowResult(outerLoopIterations=0, newtonRaphsonIterations=3, newtonRaphsonStatus=CONVERGED, outerLoopStatus=STABLE, slackBusActivePowerMismatch=-0.006730108617958308, distributedActivePower=0.0))\n",
      "INFO:powsybl:Load flow ran in 10 ms\n"
     ]
    },
    {
     "data": {
      "text/plain": "[ComponentResult(connected_component_num=0, synchronous_component_num=0, status=CONVERGED, iteration_count=3, slack_bus_id='VL1_0', slack_bus_active_power_mismatch=-0.006730108617958308, distributed_active_power=0.0)]"
     },
     "execution_count": 5,
     "metadata": {},
     "output_type": "execute_result"
    }
   ],
   "source": [
    "pp.loadflow.run_ac(n, p)"
   ],
   "metadata": {
    "collapsed": false,
    "ExecuteTime": {
     "end_time": "2023-06-19T21:03:51.612644Z",
     "start_time": "2023-06-19T21:03:51.564406Z"
    }
   }
  },
  {
   "cell_type": "markdown",
   "source": [
    "Change section count of shunt compensator 'B9-SH' from 1 to 0 (so this is like a shunt disconnection)"
   ],
   "metadata": {
    "collapsed": false
   }
  },
  {
   "cell_type": "code",
   "execution_count": 6,
   "outputs": [
    {
     "data": {
      "text/plain": "       section_count\nid                  \nB9-SH              0",
      "text/html": "<div>\n<style scoped>\n    .dataframe tbody tr th:only-of-type {\n        vertical-align: middle;\n    }\n\n    .dataframe tbody tr th {\n        vertical-align: top;\n    }\n\n    .dataframe thead th {\n        text-align: right;\n    }\n</style>\n<table border=\"1\" class=\"dataframe\">\n  <thead>\n    <tr style=\"text-align: right;\">\n      <th></th>\n      <th>section_count</th>\n    </tr>\n    <tr>\n      <th>id</th>\n      <th></th>\n    </tr>\n  </thead>\n  <tbody>\n    <tr>\n      <th>B9-SH</th>\n      <td>0</td>\n    </tr>\n  </tbody>\n</table>\n</div>"
     },
     "execution_count": 6,
     "metadata": {},
     "output_type": "execute_result"
    }
   ],
   "source": [
    "n.update_shunt_compensators(id='B9-SH', section_count=0)\n",
    "n.get_shunt_compensators().filter(items=['section_count'])"
   ],
   "metadata": {
    "collapsed": false,
    "ExecuteTime": {
     "end_time": "2023-06-19T21:03:51.613241Z",
     "start_time": "2023-06-19T21:03:51.583641Z"
    }
   }
  },
  {
   "cell_type": "markdown",
   "source": [
    "Re-run the load flow. It converges in 3 iterations. We can see that previous created cache for this network has been reused \"Network cache reused for network 'ieee14cdf'\""
   ],
   "metadata": {
    "collapsed": false
   }
  },
  {
   "cell_type": "code",
   "execution_count": 7,
   "outputs": [
    {
     "name": "stderr",
     "output_type": "stream",
     "text": [
      "INFO:powsybl:loadflow provider used is : OpenLoadFlow\n",
      "INFO:powsybl:Version: {repositoryName=powsybl-open-loadflow, mavenProjectVersion=1.2.1, gitVersion=aa11c35697cd789191bf66265ed8f546cc429dae, gitBranch=v1.2.1, buildTimestamp=2023-06-07T20:14:23.956+02:00}\n",
      "INFO:powsybl:Parameters:\n",
      "┌──────────────────────────────────────────────────────────┬──────────────────────────────────┐\n",
      "│ Name                                                     │ Value                            │\n",
      "├──────────────────────────────────────────────────────────┼──────────────────────────────────┤\n",
      "│ voltageInitMode                                          │ UNIFORM_VALUES                   │\n",
      "│ transformerVoltageControlOn                              │ false                            │\n",
      "│ useReactiveLimits                                        │ true                             │\n",
      "│ phaseShifterRegulationOn                                 │ false                            │\n",
      "│ twtSplitShuntAdmittance                                  │ false                            │\n",
      "│ shuntCompensatorVoltageControlOn                         │ false                            │\n",
      "│ readSlackBus                                             │ true                             │\n",
      "│ writeSlackBus                                            │ false                            │\n",
      "│ dc                                                       │ false                            │\n",
      "│ distributedSlack                                         │ true                             │\n",
      "│ balanceType                                              │ PROPORTIONAL_TO_GENERATION_P_MAX │\n",
      "│ dcUseTransformerRatio                                    │ true                             │\n",
      "│ countriesToBalance                                       │                                  │\n",
      "│ computedConnectedComponentScope                          │ MAIN                             │\n",
      "│ hvdcAcEmulation                                          │ true                             │\n",
      "│ dcPowerFactor                                            │ 1.0                              │\n",
      "│ slackBusSelectionMode                                    │ MOST_MESHED                      │\n",
      "│ slackBusesIds                                            │ []                               │\n",
      "│ throwsExceptionInCaseOfSlackDistributionFailure          │ false                            │\n",
      "│ voltageRemoteControl                                     │ true                             │\n",
      "│ lowImpedanceBranchMode                                   │ REPLACE_BY_ZERO_IMPEDANCE_LINE   │\n",
      "│ loadPowerFactorConstant                                  │ false                            │\n",
      "│ plausibleActivePowerLimit                                │ 5000.0                           │\n",
      "│ newtonRaphsonStoppingCriteriaType                        │ UNIFORM_CRITERIA                 │\n",
      "│ slackBusPMaxMismatch                                     │ 1.0                              │\n",
      "│ maxActivePowerMismatch                                   │ 0.01                             │\n",
      "│ maxReactivePowerMismatch                                 │ 0.01                             │\n",
      "│ maxVoltageMismatch                                       │ 1.0E-4                           │\n",
      "│ maxAngleMismatch                                         │ 1.0E-5                           │\n",
      "│ maxRatioMismatch                                         │ 1.0E-5                           │\n",
      "│ maxSusceptanceMismatch                                   │ 1.0E-4                           │\n",
      "│ voltagePerReactivePowerControl                           │ false                            │\n",
      "│ reactivePowerRemoteControl                               │ false                            │\n",
      "│ maxNewtonRaphsonIterations                               │ 15                               │\n",
      "│ maxOuterLoopIterations                                   │ 20                               │\n",
      "│ newtonRaphsonConvEpsPerEq                                │ 1.0E-4                           │\n",
      "│ voltageInitModeOverride                                  │ NONE                             │\n",
      "│ transformerVoltageControlMode                            │ WITH_GENERATOR_VOLTAGE_CONTROL   │\n",
      "│ shuntVoltageControlMode                                  │ WITH_GENERATOR_VOLTAGE_CONTROL   │\n",
      "│ minPlausibleTargetVoltage                                │ 0.8                              │\n",
      "│ maxPlausibleTargetVoltage                                │ 1.2                              │\n",
      "│ minRealisticVoltage                                      │ 0.5                              │\n",
      "│ maxRealisticVoltage                                      │ 2.0                              │\n",
      "│ reactiveRangeCheckMode                                   │ MAX                              │\n",
      "│ lowImpedanceThreshold                                    │ 1.0E-8                           │\n",
      "│ networkCacheEnabled                                      │ true                             │\n",
      "│ svcVoltageMonitoring                                     │ true                             │\n",
      "│ stateVectorScalingMode                                   │ NONE                             │\n",
      "│ maxSlackBusCount                                         │ 1                                │\n",
      "│ debugDir                                                 │                                  │\n",
      "│ incrementalTransformerVoltageControlOuterLoopMaxTapShift │ 3                                │\n",
      "│ secondaryVoltageControl                                  │ false                            │\n",
      "│ reactiveLimitsMaxPqPvSwitch                              │ 3                                │\n",
      "│ phaseShifterControlMode                                  │ CONTINUOUS_WITH_DISCRETISATION   │\n",
      "│ alwaysUpdateNetwork                                      │ false                            │\n",
      "│ mostMeshedSlackBusSelectorMaxNominalVoltagePercentile    │ 95.0                             │\n",
      "│ reportedFeatures                                         │ []                               │\n",
      "│ slackBusCountryFilter                                    │ []                               │\n",
      "│ actionableSwitchesIds                                    │ []                               │\n",
      "│ asymmetrical                                             │ false                            │\n",
      "│ minNominalVoltageTargetVoltageCheck                      │ 20.0                             │\n",
      "└──────────────────────────────────────────────────────────┴──────────────────────────────────┘\n",
      "INFO:powsybl:Outer loops: [Distributed slack on generation, Voltage monitoring, Reactive limits]\n",
      "INFO:powsybl:Network cache reused for network 'ieee14cdf' and variant 'InitialState'\n",
      "INFO:powsybl:Start AC loadflow on network {CC0 SC0}\n",
      "INFO:powsybl:1 buses switched PV -> PQ (4 bus remains PV)\n",
      "INFO:powsybl:Ac loadflow complete on network {CC0 SC0} (result=AcLoadFlowResult(outerLoopIterations=1, newtonRaphsonIterations=3, newtonRaphsonStatus=CONVERGED, outerLoopStatus=STABLE, slackBusActivePowerMismatch=0.15687212390882443, distributedActivePower=-0.006101882689879545))\n",
      "INFO:powsybl:Load flow ran in 4 ms\n"
     ]
    },
    {
     "data": {
      "text/plain": "[ComponentResult(connected_component_num=0, synchronous_component_num=0, status=CONVERGED, iteration_count=3, slack_bus_id='VL1_0', slack_bus_active_power_mismatch=0.15687212390882443, distributed_active_power=-0.006101882689879545)]"
     },
     "execution_count": 7,
     "metadata": {},
     "output_type": "execute_result"
    }
   ],
   "source": [
    "pp.loadflow.run_ac(n, p)"
   ],
   "metadata": {
    "collapsed": false,
    "ExecuteTime": {
     "end_time": "2023-06-19T21:03:51.613689Z",
     "start_time": "2023-06-19T21:03:51.589312Z"
    }
   }
  },
  {
   "cell_type": "markdown",
   "source": [
    "Update generator 'B1-G' target voltage to 144 Kv"
   ],
   "metadata": {
    "collapsed": false
   }
  },
  {
   "cell_type": "code",
   "execution_count": 8,
   "outputs": [
    {
     "data": {
      "text/plain": "      target_v\nid            \nB1-G   144.000\nB2-G   141.075\nB3-G   136.350\nB6-G    12.840\nB8-G    21.800",
      "text/html": "<div>\n<style scoped>\n    .dataframe tbody tr th:only-of-type {\n        vertical-align: middle;\n    }\n\n    .dataframe tbody tr th {\n        vertical-align: top;\n    }\n\n    .dataframe thead th {\n        text-align: right;\n    }\n</style>\n<table border=\"1\" class=\"dataframe\">\n  <thead>\n    <tr style=\"text-align: right;\">\n      <th></th>\n      <th>target_v</th>\n    </tr>\n    <tr>\n      <th>id</th>\n      <th></th>\n    </tr>\n  </thead>\n  <tbody>\n    <tr>\n      <th>B1-G</th>\n      <td>144.000</td>\n    </tr>\n    <tr>\n      <th>B2-G</th>\n      <td>141.075</td>\n    </tr>\n    <tr>\n      <th>B3-G</th>\n      <td>136.350</td>\n    </tr>\n    <tr>\n      <th>B6-G</th>\n      <td>12.840</td>\n    </tr>\n    <tr>\n      <th>B8-G</th>\n      <td>21.800</td>\n    </tr>\n  </tbody>\n</table>\n</div>"
     },
     "execution_count": 8,
     "metadata": {},
     "output_type": "execute_result"
    }
   ],
   "source": [
    "n.update_generators(id='B1-G', target_v=144)\n",
    "n.get_generators().filter(items=['target_v'])"
   ],
   "metadata": {
    "collapsed": false,
    "ExecuteTime": {
     "end_time": "2023-06-19T21:03:51.613881Z",
     "start_time": "2023-06-19T21:03:51.598676Z"
    }
   }
  },
  {
   "cell_type": "markdown",
   "source": [
    "Re-run the load flow. It converges in 1 iterations. Again, we can see that previous created cache for this network has been reused thanks to the log \"Network cache reused for network 'ieee14cdf'\""
   ],
   "metadata": {
    "collapsed": false
   }
  },
  {
   "cell_type": "code",
   "execution_count": 9,
   "outputs": [
    {
     "name": "stderr",
     "output_type": "stream",
     "text": [
      "INFO:powsybl:loadflow provider used is : OpenLoadFlow\n",
      "INFO:powsybl:Version: {repositoryName=powsybl-open-loadflow, mavenProjectVersion=1.2.1, gitVersion=aa11c35697cd789191bf66265ed8f546cc429dae, gitBranch=v1.2.1, buildTimestamp=2023-06-07T20:14:23.956+02:00}\n",
      "INFO:powsybl:Parameters:\n",
      "┌──────────────────────────────────────────────────────────┬──────────────────────────────────┐\n",
      "│ Name                                                     │ Value                            │\n",
      "├──────────────────────────────────────────────────────────┼──────────────────────────────────┤\n",
      "│ voltageInitMode                                          │ UNIFORM_VALUES                   │\n",
      "│ transformerVoltageControlOn                              │ false                            │\n",
      "│ useReactiveLimits                                        │ true                             │\n",
      "│ phaseShifterRegulationOn                                 │ false                            │\n",
      "│ twtSplitShuntAdmittance                                  │ false                            │\n",
      "│ shuntCompensatorVoltageControlOn                         │ false                            │\n",
      "│ readSlackBus                                             │ true                             │\n",
      "│ writeSlackBus                                            │ false                            │\n",
      "│ dc                                                       │ false                            │\n",
      "│ distributedSlack                                         │ true                             │\n",
      "│ balanceType                                              │ PROPORTIONAL_TO_GENERATION_P_MAX │\n",
      "│ dcUseTransformerRatio                                    │ true                             │\n",
      "│ countriesToBalance                                       │                                  │\n",
      "│ computedConnectedComponentScope                          │ MAIN                             │\n",
      "│ hvdcAcEmulation                                          │ true                             │\n",
      "│ dcPowerFactor                                            │ 1.0                              │\n",
      "│ slackBusSelectionMode                                    │ MOST_MESHED                      │\n",
      "│ slackBusesIds                                            │ []                               │\n",
      "│ throwsExceptionInCaseOfSlackDistributionFailure          │ false                            │\n",
      "│ voltageRemoteControl                                     │ true                             │\n",
      "│ lowImpedanceBranchMode                                   │ REPLACE_BY_ZERO_IMPEDANCE_LINE   │\n",
      "│ loadPowerFactorConstant                                  │ false                            │\n",
      "│ plausibleActivePowerLimit                                │ 5000.0                           │\n",
      "│ newtonRaphsonStoppingCriteriaType                        │ UNIFORM_CRITERIA                 │\n",
      "│ slackBusPMaxMismatch                                     │ 1.0                              │\n",
      "│ maxActivePowerMismatch                                   │ 0.01                             │\n",
      "│ maxReactivePowerMismatch                                 │ 0.01                             │\n",
      "│ maxVoltageMismatch                                       │ 1.0E-4                           │\n",
      "│ maxAngleMismatch                                         │ 1.0E-5                           │\n",
      "│ maxRatioMismatch                                         │ 1.0E-5                           │\n",
      "│ maxSusceptanceMismatch                                   │ 1.0E-4                           │\n",
      "│ voltagePerReactivePowerControl                           │ false                            │\n",
      "│ reactivePowerRemoteControl                               │ false                            │\n",
      "│ maxNewtonRaphsonIterations                               │ 15                               │\n",
      "│ maxOuterLoopIterations                                   │ 20                               │\n",
      "│ newtonRaphsonConvEpsPerEq                                │ 1.0E-4                           │\n",
      "│ voltageInitModeOverride                                  │ NONE                             │\n",
      "│ transformerVoltageControlMode                            │ WITH_GENERATOR_VOLTAGE_CONTROL   │\n",
      "│ shuntVoltageControlMode                                  │ WITH_GENERATOR_VOLTAGE_CONTROL   │\n",
      "│ minPlausibleTargetVoltage                                │ 0.8                              │\n",
      "│ maxPlausibleTargetVoltage                                │ 1.2                              │\n",
      "│ minRealisticVoltage                                      │ 0.5                              │\n",
      "│ maxRealisticVoltage                                      │ 2.0                              │\n",
      "│ reactiveRangeCheckMode                                   │ MAX                              │\n",
      "│ lowImpedanceThreshold                                    │ 1.0E-8                           │\n",
      "│ networkCacheEnabled                                      │ true                             │\n",
      "│ svcVoltageMonitoring                                     │ true                             │\n",
      "│ stateVectorScalingMode                                   │ NONE                             │\n",
      "│ maxSlackBusCount                                         │ 1                                │\n",
      "│ debugDir                                                 │                                  │\n",
      "│ incrementalTransformerVoltageControlOuterLoopMaxTapShift │ 3                                │\n",
      "│ secondaryVoltageControl                                  │ false                            │\n",
      "│ reactiveLimitsMaxPqPvSwitch                              │ 3                                │\n",
      "│ phaseShifterControlMode                                  │ CONTINUOUS_WITH_DISCRETISATION   │\n",
      "│ alwaysUpdateNetwork                                      │ false                            │\n",
      "│ mostMeshedSlackBusSelectorMaxNominalVoltagePercentile    │ 95.0                             │\n",
      "│ reportedFeatures                                         │ []                               │\n",
      "│ slackBusCountryFilter                                    │ []                               │\n",
      "│ actionableSwitchesIds                                    │ []                               │\n",
      "│ asymmetrical                                             │ false                            │\n",
      "│ minNominalVoltageTargetVoltageCheck                      │ 20.0                             │\n",
      "└──────────────────────────────────────────────────────────┴──────────────────────────────────┘\n",
      "INFO:powsybl:Outer loops: [Distributed slack on generation, Voltage monitoring, Reactive limits]\n",
      "INFO:powsybl:Network cache reused for network 'ieee14cdf' and variant 'InitialState'\n",
      "INFO:powsybl:Start AC loadflow on network {CC0 SC0}\n",
      "INFO:powsybl:Ac loadflow complete on network {CC0 SC0} (result=AcLoadFlowResult(outerLoopIterations=0, newtonRaphsonIterations=1, newtonRaphsonStatus=CONVERGED, outerLoopStatus=STABLE, slackBusActivePowerMismatch=-0.024038566896456004, distributedActivePower=0.0))\n",
      "INFO:powsybl:Load flow ran in 3 ms\n"
     ]
    },
    {
     "data": {
      "text/plain": "[ComponentResult(connected_component_num=0, synchronous_component_num=0, status=CONVERGED, iteration_count=1, slack_bus_id='VL1_0', slack_bus_active_power_mismatch=-0.024038566896456004, distributed_active_power=0.0)]"
     },
     "execution_count": 9,
     "metadata": {},
     "output_type": "execute_result"
    }
   ],
   "source": [
    "pp.loadflow.run_ac(n, p)"
   ],
   "metadata": {
    "collapsed": false,
    "ExecuteTime": {
     "end_time": "2023-06-19T21:03:51.614589Z",
     "start_time": "2023-06-19T21:03:51.603944Z"
    }
   }
  },
  {
   "cell_type": "markdown",
   "source": [
    "We are now going to demonstrate how to change a switch position in fast restart mode.\n",
    "First, let's extend the IEEE 14 with an additionnal bus with just a load connected to the initial network with a switch (initially open)"
   ],
   "metadata": {
    "collapsed": false
   }
  },
  {
   "cell_type": "code",
   "execution_count": 10,
   "outputs": [],
   "source": [
    "n.create_buses(id='B', voltage_level_id='VL10')\n",
    "n.create_loads(id='LD', voltage_level_id='VL10', bus_id='B', p0=10, q0=5)\n",
    "n.create_switches(id='SW', voltage_level_id='VL10', bus1_id='B10', bus2_id='B', open=True)"
   ],
   "metadata": {
    "collapsed": false,
    "ExecuteTime": {
     "end_time": "2023-06-19T21:03:51.622127Z",
     "start_time": "2023-06-19T21:03:51.614826Z"
    }
   }
  },
  {
   "cell_type": "markdown",
   "source": [
    "To be able to operate a switch in fast restart mode, we need to specify the list of switch IDs that might be open or closed in advance"
   ],
   "metadata": {
    "collapsed": false
   }
  },
  {
   "cell_type": "code",
   "execution_count": 11,
   "outputs": [],
   "source": [
    "p = pp.loadflow.Parameters(provider_parameters={'networkCacheEnabled': 'true', 'actionableSwitchesIds': 'SW'})"
   ],
   "metadata": {
    "collapsed": false,
    "ExecuteTime": {
     "end_time": "2023-06-19T21:03:51.622365Z",
     "start_time": "2023-06-19T21:03:51.617156Z"
    }
   }
  },
  {
   "cell_type": "markdown",
   "source": [
    "We can now re-run the load flow. We can see that because we have changed the network structure (adding new elements) and also changed the load flow parameters, the cache has been invalidated \"Network cache evicted...\" and a new one has been created \"Network cache created for network 'ieee14cdf'\"."
   ],
   "metadata": {
    "collapsed": false
   }
  },
  {
   "cell_type": "code",
   "execution_count": 12,
   "outputs": [
    {
     "name": "stderr",
     "output_type": "stream",
     "text": [
      "INFO:powsybl:loadflow provider used is : OpenLoadFlow\n",
      "INFO:powsybl:Version: {repositoryName=powsybl-open-loadflow, mavenProjectVersion=1.2.1, gitVersion=aa11c35697cd789191bf66265ed8f546cc429dae, gitBranch=v1.2.1, buildTimestamp=2023-06-07T20:14:23.956+02:00}\n",
      "INFO:powsybl:Parameters:\n",
      "┌──────────────────────────────────────────────────────────┬──────────────────────────────────┐\n",
      "│ Name                                                     │ Value                            │\n",
      "├──────────────────────────────────────────────────────────┼──────────────────────────────────┤\n",
      "│ voltageInitMode                                          │ UNIFORM_VALUES                   │\n",
      "│ transformerVoltageControlOn                              │ false                            │\n",
      "│ useReactiveLimits                                        │ true                             │\n",
      "│ phaseShifterRegulationOn                                 │ false                            │\n",
      "│ twtSplitShuntAdmittance                                  │ false                            │\n",
      "│ shuntCompensatorVoltageControlOn                         │ false                            │\n",
      "│ readSlackBus                                             │ true                             │\n",
      "│ writeSlackBus                                            │ false                            │\n",
      "│ dc                                                       │ false                            │\n",
      "│ distributedSlack                                         │ true                             │\n",
      "│ balanceType                                              │ PROPORTIONAL_TO_GENERATION_P_MAX │\n",
      "│ dcUseTransformerRatio                                    │ true                             │\n",
      "│ countriesToBalance                                       │                                  │\n",
      "│ computedConnectedComponentScope                          │ MAIN                             │\n",
      "│ hvdcAcEmulation                                          │ true                             │\n",
      "│ dcPowerFactor                                            │ 1.0                              │\n",
      "│ slackBusSelectionMode                                    │ MOST_MESHED                      │\n",
      "│ slackBusesIds                                            │ []                               │\n",
      "│ throwsExceptionInCaseOfSlackDistributionFailure          │ false                            │\n",
      "│ voltageRemoteControl                                     │ true                             │\n",
      "│ lowImpedanceBranchMode                                   │ REPLACE_BY_ZERO_IMPEDANCE_LINE   │\n",
      "│ loadPowerFactorConstant                                  │ false                            │\n",
      "│ plausibleActivePowerLimit                                │ 5000.0                           │\n",
      "│ newtonRaphsonStoppingCriteriaType                        │ UNIFORM_CRITERIA                 │\n",
      "│ slackBusPMaxMismatch                                     │ 1.0                              │\n",
      "│ maxActivePowerMismatch                                   │ 0.01                             │\n",
      "│ maxReactivePowerMismatch                                 │ 0.01                             │\n",
      "│ maxVoltageMismatch                                       │ 1.0E-4                           │\n",
      "│ maxAngleMismatch                                         │ 1.0E-5                           │\n",
      "│ maxRatioMismatch                                         │ 1.0E-5                           │\n",
      "│ maxSusceptanceMismatch                                   │ 1.0E-4                           │\n",
      "│ voltagePerReactivePowerControl                           │ false                            │\n",
      "│ reactivePowerRemoteControl                               │ false                            │\n",
      "│ maxNewtonRaphsonIterations                               │ 15                               │\n",
      "│ maxOuterLoopIterations                                   │ 20                               │\n",
      "│ newtonRaphsonConvEpsPerEq                                │ 1.0E-4                           │\n",
      "│ voltageInitModeOverride                                  │ NONE                             │\n",
      "│ transformerVoltageControlMode                            │ WITH_GENERATOR_VOLTAGE_CONTROL   │\n",
      "│ shuntVoltageControlMode                                  │ WITH_GENERATOR_VOLTAGE_CONTROL   │\n",
      "│ minPlausibleTargetVoltage                                │ 0.8                              │\n",
      "│ maxPlausibleTargetVoltage                                │ 1.2                              │\n",
      "│ minRealisticVoltage                                      │ 0.5                              │\n",
      "│ maxRealisticVoltage                                      │ 2.0                              │\n",
      "│ reactiveRangeCheckMode                                   │ MAX                              │\n",
      "│ lowImpedanceThreshold                                    │ 1.0E-8                           │\n",
      "│ networkCacheEnabled                                      │ true                             │\n",
      "│ svcVoltageMonitoring                                     │ true                             │\n",
      "│ stateVectorScalingMode                                   │ NONE                             │\n",
      "│ maxSlackBusCount                                         │ 1                                │\n",
      "│ debugDir                                                 │                                  │\n",
      "│ incrementalTransformerVoltageControlOuterLoopMaxTapShift │ 3                                │\n",
      "│ secondaryVoltageControl                                  │ false                            │\n",
      "│ reactiveLimitsMaxPqPvSwitch                              │ 3                                │\n",
      "│ phaseShifterControlMode                                  │ CONTINUOUS_WITH_DISCRETISATION   │\n",
      "│ alwaysUpdateNetwork                                      │ false                            │\n",
      "│ mostMeshedSlackBusSelectorMaxNominalVoltagePercentile    │ 95.0                             │\n",
      "│ reportedFeatures                                         │ []                               │\n",
      "│ slackBusCountryFilter                                    │ []                               │\n",
      "│ actionableSwitchesIds                                    │ [SW]                             │\n",
      "│ asymmetrical                                             │ false                            │\n",
      "│ minNominalVoltageTargetVoltageCheck                      │ 20.0                             │\n",
      "└──────────────────────────────────────────────────────────┴──────────────────────────────────┘\n",
      "INFO:powsybl:Outer loops: [Distributed slack on generation, Voltage monitoring, Reactive limits]\n",
      "INFO:powsybl:Network cache evicted because of parameters change\n",
      "INFO:powsybl:Network cache created for network 'ieee14cdf' and variant 'InitialState'\n",
      "WARNING:powsybl:Network {CC0 SC0}: 3 generators have been discarded from active power control because of a targetP equals 0\n",
      "WARNING:powsybl:Network {CC0 SC0}: 5 generators have been discarded from active power control because of maxP not plausible\n",
      "WARNING:powsybl:Network {CC0 SC0}: 1 branches are non impedant\n",
      "INFO:powsybl:Network {CC0 SC0} has 15 buses and 21 branches\n",
      "INFO:powsybl:Network {CC0 SC0} balance: active generation=272.4 MW, active load=268.99999999999994 MW, reactive generation=0.0 MVar, reactive load=78.5 MVar\n",
      "INFO:powsybl:Network {CC0 SC0}, slack buses are [B1] (method='Network extension bus')\n",
      "INFO:powsybl:Start AC loadflow on network {CC0 SC0}\n",
      "INFO:powsybl:1 buses switched PV -> PQ (4 bus remains PV)\n",
      "INFO:powsybl:Ac loadflow complete on network {CC0 SC0} (result=AcLoadFlowResult(outerLoopIterations=1, newtonRaphsonIterations=4, newtonRaphsonStatus=CONVERGED, outerLoopStatus=STABLE, slackBusActivePowerMismatch=0.016927725231896673, distributedActivePower=-0.0034933533142211814))\n",
      "INFO:powsybl:Load flow ran in 8 ms\n"
     ]
    },
    {
     "data": {
      "text/plain": "[ComponentResult(connected_component_num=0, synchronous_component_num=0, status=CONVERGED, iteration_count=4, slack_bus_id='B1', slack_bus_active_power_mismatch=0.016927725231896673, distributed_active_power=-0.0034933533142211814)]"
     },
     "execution_count": 12,
     "metadata": {},
     "output_type": "execute_result"
    }
   ],
   "source": [
    "pp.loadflow.run_ac(n, p)"
   ],
   "metadata": {
    "collapsed": false,
    "ExecuteTime": {
     "end_time": "2023-06-19T21:03:51.637757Z",
     "start_time": "2023-06-19T21:03:51.619469Z"
    }
   }
  },
  {
   "cell_type": "markdown",
   "source": [
    "Now, we can update close the switch"
   ],
   "metadata": {
    "collapsed": false
   }
  },
  {
   "cell_type": "code",
   "execution_count": 13,
   "outputs": [],
   "source": [
    "n.update_switches(id='SW', open=False)"
   ],
   "metadata": {
    "collapsed": false,
    "ExecuteTime": {
     "end_time": "2023-06-19T21:03:51.685515Z",
     "start_time": "2023-06-19T21:03:51.632415Z"
    }
   }
  },
  {
   "cell_type": "markdown",
   "source": [
    "And once again, re-run the load low and see that we restart from the cache \"Network cache reused for network 'ieee14cdf'\""
   ],
   "metadata": {
    "collapsed": false
   }
  },
  {
   "cell_type": "markdown",
   "source": [
    "HACK: new connected bus has no voltage defined and NR v init failed. This is to fix in next OLF version. As a temporary workaround manually set voltage to new bus."
   ],
   "metadata": {
    "collapsed": false
   }
  },
  {
   "cell_type": "code",
   "execution_count": 14,
   "outputs": [],
   "source": [
    "n.update_buses(id='VL10_0', v_mag=12, v_angle=0)"
   ],
   "metadata": {
    "collapsed": false,
    "ExecuteTime": {
     "end_time": "2023-06-19T21:03:51.685691Z",
     "start_time": "2023-06-19T21:03:51.634806Z"
    }
   }
  },
  {
   "cell_type": "code",
   "execution_count": 15,
   "outputs": [
    {
     "name": "stderr",
     "output_type": "stream",
     "text": [
      "INFO:powsybl:loadflow provider used is : OpenLoadFlow\n",
      "INFO:powsybl:Version: {repositoryName=powsybl-open-loadflow, mavenProjectVersion=1.2.1, gitVersion=aa11c35697cd789191bf66265ed8f546cc429dae, gitBranch=v1.2.1, buildTimestamp=2023-06-07T20:14:23.956+02:00}\n",
      "INFO:powsybl:Parameters:\n",
      "┌──────────────────────────────────────────────────────────┬──────────────────────────────────┐\n",
      "│ Name                                                     │ Value                            │\n",
      "├──────────────────────────────────────────────────────────┼──────────────────────────────────┤\n",
      "│ voltageInitMode                                          │ UNIFORM_VALUES                   │\n",
      "│ transformerVoltageControlOn                              │ false                            │\n",
      "│ useReactiveLimits                                        │ true                             │\n",
      "│ phaseShifterRegulationOn                                 │ false                            │\n",
      "│ twtSplitShuntAdmittance                                  │ false                            │\n",
      "│ shuntCompensatorVoltageControlOn                         │ false                            │\n",
      "│ readSlackBus                                             │ true                             │\n",
      "│ writeSlackBus                                            │ false                            │\n",
      "│ dc                                                       │ false                            │\n",
      "│ distributedSlack                                         │ true                             │\n",
      "│ balanceType                                              │ PROPORTIONAL_TO_GENERATION_P_MAX │\n",
      "│ dcUseTransformerRatio                                    │ true                             │\n",
      "│ countriesToBalance                                       │                                  │\n",
      "│ computedConnectedComponentScope                          │ MAIN                             │\n",
      "│ hvdcAcEmulation                                          │ true                             │\n",
      "│ dcPowerFactor                                            │ 1.0                              │\n",
      "│ slackBusSelectionMode                                    │ MOST_MESHED                      │\n",
      "│ slackBusesIds                                            │ []                               │\n",
      "│ throwsExceptionInCaseOfSlackDistributionFailure          │ false                            │\n",
      "│ voltageRemoteControl                                     │ true                             │\n",
      "│ lowImpedanceBranchMode                                   │ REPLACE_BY_ZERO_IMPEDANCE_LINE   │\n",
      "│ loadPowerFactorConstant                                  │ false                            │\n",
      "│ plausibleActivePowerLimit                                │ 5000.0                           │\n",
      "│ newtonRaphsonStoppingCriteriaType                        │ UNIFORM_CRITERIA                 │\n",
      "│ slackBusPMaxMismatch                                     │ 1.0                              │\n",
      "│ maxActivePowerMismatch                                   │ 0.01                             │\n",
      "│ maxReactivePowerMismatch                                 │ 0.01                             │\n",
      "│ maxVoltageMismatch                                       │ 1.0E-4                           │\n",
      "│ maxAngleMismatch                                         │ 1.0E-5                           │\n",
      "│ maxRatioMismatch                                         │ 1.0E-5                           │\n",
      "│ maxSusceptanceMismatch                                   │ 1.0E-4                           │\n",
      "│ voltagePerReactivePowerControl                           │ false                            │\n",
      "│ reactivePowerRemoteControl                               │ false                            │\n",
      "│ maxNewtonRaphsonIterations                               │ 15                               │\n",
      "│ maxOuterLoopIterations                                   │ 20                               │\n",
      "│ newtonRaphsonConvEpsPerEq                                │ 1.0E-4                           │\n",
      "│ voltageInitModeOverride                                  │ NONE                             │\n",
      "│ transformerVoltageControlMode                            │ WITH_GENERATOR_VOLTAGE_CONTROL   │\n",
      "│ shuntVoltageControlMode                                  │ WITH_GENERATOR_VOLTAGE_CONTROL   │\n",
      "│ minPlausibleTargetVoltage                                │ 0.8                              │\n",
      "│ maxPlausibleTargetVoltage                                │ 1.2                              │\n",
      "│ minRealisticVoltage                                      │ 0.5                              │\n",
      "│ maxRealisticVoltage                                      │ 2.0                              │\n",
      "│ reactiveRangeCheckMode                                   │ MAX                              │\n",
      "│ lowImpedanceThreshold                                    │ 1.0E-8                           │\n",
      "│ networkCacheEnabled                                      │ true                             │\n",
      "│ svcVoltageMonitoring                                     │ true                             │\n",
      "│ stateVectorScalingMode                                   │ NONE                             │\n",
      "│ maxSlackBusCount                                         │ 1                                │\n",
      "│ debugDir                                                 │                                  │\n",
      "│ incrementalTransformerVoltageControlOuterLoopMaxTapShift │ 3                                │\n",
      "│ secondaryVoltageControl                                  │ false                            │\n",
      "│ reactiveLimitsMaxPqPvSwitch                              │ 3                                │\n",
      "│ phaseShifterControlMode                                  │ CONTINUOUS_WITH_DISCRETISATION   │\n",
      "│ alwaysUpdateNetwork                                      │ false                            │\n",
      "│ mostMeshedSlackBusSelectorMaxNominalVoltagePercentile    │ 95.0                             │\n",
      "│ reportedFeatures                                         │ []                               │\n",
      "│ slackBusCountryFilter                                    │ []                               │\n",
      "│ actionableSwitchesIds                                    │ [SW]                             │\n",
      "│ asymmetrical                                             │ false                            │\n",
      "│ minNominalVoltageTargetVoltageCheck                      │ 20.0                             │\n",
      "└──────────────────────────────────────────────────────────┴──────────────────────────────────┘\n",
      "INFO:powsybl:Outer loops: [Distributed slack on generation, Voltage monitoring, Reactive limits]\n",
      "INFO:powsybl:Network cache reused for network 'ieee14cdf' and variant 'InitialState'\n",
      "INFO:powsybl:Start AC loadflow on network {CC0 SC0}\n"
     ]
    },
    {
     "ename": "PyPowsyblError",
     "evalue": "com.powsybl.commons.PowsyblException: Voltage magnitude is undefined for bus 'B'",
     "output_type": "error",
     "traceback": [
      "\u001B[0;31m---------------------------------------------------------------------------\u001B[0m",
      "\u001B[0;31mPyPowsyblError\u001B[0m                            Traceback (most recent call last)",
      "Cell \u001B[0;32mIn[15], line 1\u001B[0m\n\u001B[0;32m----> 1\u001B[0m \u001B[43mpp\u001B[49m\u001B[38;5;241;43m.\u001B[39;49m\u001B[43mloadflow\u001B[49m\u001B[38;5;241;43m.\u001B[39;49m\u001B[43mrun_ac\u001B[49m\u001B[43m(\u001B[49m\u001B[43mn\u001B[49m\u001B[43m,\u001B[49m\u001B[43m \u001B[49m\u001B[43mp\u001B[49m\u001B[43m)\u001B[49m\n",
      "File \u001B[0;32m~/PycharmProjects/pypowsybl/pypowsybl/loadflow.py:265\u001B[0m, in \u001B[0;36mrun_ac\u001B[0;34m(network, parameters, provider, reporter)\u001B[0m\n\u001B[1;32m    252\u001B[0m \u001B[38;5;250m\u001B[39m\u001B[38;5;124;03m\"\"\"\u001B[39;00m\n\u001B[1;32m    253\u001B[0m \u001B[38;5;124;03mRun an AC loadflow on a network.\u001B[39;00m\n\u001B[1;32m    254\u001B[0m \n\u001B[0;32m   (...)\u001B[0m\n\u001B[1;32m    262\u001B[0m \u001B[38;5;124;03m    A list of component results, one for each component of the network.\u001B[39;00m\n\u001B[1;32m    263\u001B[0m \u001B[38;5;124;03m\"\"\"\u001B[39;00m\n\u001B[1;32m    264\u001B[0m p \u001B[38;5;241m=\u001B[39m parameters\u001B[38;5;241m.\u001B[39m_to_c_parameters() \u001B[38;5;28;01mif\u001B[39;00m parameters \u001B[38;5;129;01mis\u001B[39;00m \u001B[38;5;129;01mnot\u001B[39;00m \u001B[38;5;28;01mNone\u001B[39;00m \u001B[38;5;28;01melse\u001B[39;00m _pypowsybl\u001B[38;5;241m.\u001B[39mLoadFlowParameters()\n\u001B[0;32m--> 265\u001B[0m \u001B[38;5;28;01mreturn\u001B[39;00m [ComponentResult(res) \u001B[38;5;28;01mfor\u001B[39;00m res \u001B[38;5;129;01min\u001B[39;00m \u001B[43m_pypowsybl\u001B[49m\u001B[38;5;241;43m.\u001B[39;49m\u001B[43mrun_loadflow\u001B[49m\u001B[43m(\u001B[49m\u001B[43mnetwork\u001B[49m\u001B[38;5;241;43m.\u001B[39;49m\u001B[43m_handle\u001B[49m\u001B[43m,\u001B[49m\u001B[43m \u001B[49m\u001B[38;5;28;43;01mFalse\u001B[39;49;00m\u001B[43m,\u001B[49m\u001B[43m \u001B[49m\u001B[43mp\u001B[49m\u001B[43m,\u001B[49m\u001B[43m \u001B[49m\u001B[43mprovider\u001B[49m\u001B[43m,\u001B[49m\u001B[43m \u001B[49m\u001B[38;5;28;43;01mNone\u001B[39;49;00m\u001B[43m \u001B[49m\u001B[38;5;28;43;01mif\u001B[39;49;00m\u001B[43m \u001B[49m\u001B[43mreporter\u001B[49m\u001B[43m \u001B[49m\u001B[38;5;129;43;01mis\u001B[39;49;00m\u001B[43m \u001B[49m\u001B[38;5;28;43;01mNone\u001B[39;49;00m\u001B[43m \u001B[49m\u001B[38;5;28;43;01melse\u001B[39;49;00m\u001B[43m \u001B[49m\u001B[43mreporter\u001B[49m\u001B[38;5;241;43m.\u001B[39;49m\u001B[43m_reporter_model\u001B[49m\u001B[43m)\u001B[49m]\n",
      "\u001B[0;31mPyPowsyblError\u001B[0m: com.powsybl.commons.PowsyblException: Voltage magnitude is undefined for bus 'B'"
     ]
    }
   ],
   "source": [
    "pp.loadflow.run_ac(n, p)"
   ],
   "metadata": {
    "collapsed": false,
    "ExecuteTime": {
     "end_time": "2023-06-19T21:03:51.738531Z",
     "start_time": "2023-06-19T21:03:51.637341Z"
    }
   }
  },
  {
   "cell_type": "code",
   "execution_count": null,
   "outputs": [],
   "source": [],
   "metadata": {
    "collapsed": false,
    "ExecuteTime": {
     "start_time": "2023-06-19T21:03:51.692400Z"
    }
   }
  }
 ],
 "metadata": {
  "kernelspec": {
   "display_name": "Python 3",
   "language": "python",
   "name": "python3"
  },
  "language_info": {
   "codemirror_mode": {
    "name": "ipython",
    "version": 2
   },
   "file_extension": ".py",
   "mimetype": "text/x-python",
   "name": "python",
   "nbconvert_exporter": "python",
   "pygments_lexer": "ipython2",
   "version": "2.7.6"
  }
 },
 "nbformat": 4,
 "nbformat_minor": 0
}
