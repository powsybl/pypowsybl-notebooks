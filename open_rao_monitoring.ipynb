{
 "cells": [
  {
   "cell_type": "code",
   "id": "initial_id",
   "metadata": {
    "collapsed": true,
    "ExecuteTime": {
     "end_time": "2025-08-22T12:32:17.831809Z",
     "start_time": "2025-08-22T12:32:17.829502Z"
    }
   },
   "source": [
    "#pip install pypowsybl==1.12.0\n",
    "# set up logging\n",
    "import logging\n",
    "logging.getLogger('powsybl').setLevel(logging.INFO)\n",
    "logging.basicConfig(format='%(asctime)s - %(levelname)s - %(message)s')"
   ],
   "outputs": [],
   "execution_count": 20
  },
  {
   "metadata": {
    "ExecuteTime": {
     "end_time": "2025-08-22T12:32:20.830216Z",
     "start_time": "2025-08-22T12:32:20.828106Z"
    }
   },
   "cell_type": "code",
   "source": [
    "import pypowsybl as pp\n",
    "from pypowsybl.rao import Parameters as RaoParameters\n",
    "\n",
    "\n"
   ],
   "id": "4689861f15ffc23c",
   "outputs": [],
   "execution_count": 21
  },
  {
   "metadata": {},
   "cell_type": "code",
   "outputs": [],
   "execution_count": null,
   "source": [
    "# # Simple case with GlskB45test\n",
    "# 1) simple cse with topo\n",
    "#     2) simple case with injection : solves angle cnecs constraints\n",
    "# 3) micro grid case\n"
   ],
   "id": "e02c6f39998e2d2e"
  },
  {
   "metadata": {},
   "cell_type": "code",
   "outputs": [],
   "execution_count": null,
   "source": "# MicroGrid case with GlskB45MicroGridTest",
   "id": "36289c2d67cf8b64"
  },
  {
   "metadata": {
    "ExecuteTime": {
     "end_time": "2025-08-22T15:28:19.314733Z",
     "start_time": "2025-08-22T15:28:19.282584Z"
    }
   },
   "cell_type": "code",
   "source": [
    "# Simple case\n",
    "# import inputs\n",
    "network =  pp.network.load(\"./data/rao/angle_monitoring/network.xiidm\")\n",
    "rao_runner = pp.rao.create_rao()\n",
    "parameters = RaoParameters()\n",
    "parameters.load_from_file_source(\"./data/rao/rao_parameters.json\")\n",
    "load_flow_parameters = parameters.loadflow_and_sensitivity_parameters.sensitivity_parameters.load_flow_parameters\n",
    "rao_runner.set_crac_file_source(network, \"./data/rao/angle_monitoring/angle_monitoring_simple_case_with_injectionRa.json\")\n",
    "rao_runner.set_glsk_file_source(network, \"./data/rao/angle_monitoring/GlskB45test.xml\")  \n",
    "rao_result = rao_runner.run(network, parameters)\n",
    "result_with_angle_monitoring = rao_runner.run_angle_monitoring(network, rao_result, load_flow_parameters)"
   ],
   "id": "d485b05055727a18",
   "outputs": [
    {
     "name": "stderr",
     "output_type": "stream",
     "text": [
      "2025-08-22 17:28:19,291 - INFO - CIM GLSK importer could import this document.\n",
      "2025-08-22 17:28:19,293 - ERROR - Multi (GSK+LSK) shift keys not supported yet...\n",
      "com.powsybl.glsk.commons.GlskException: Multi (GSK+LSK) shift keys not supported yet...\n",
      "\tat com.powsybl.glsk.api.util.converters.GlskPointLinearGlskConverter.convert(GlskPointLinearGlskConverter.java:56)\n",
      "\tat com.powsybl.glsk.api.util.ZonalDataFromGlskDocument.addLinearDataFromList(ZonalDataFromGlskDocument.java:56)\n",
      "\tat com.powsybl.glsk.api.util.ZonalDataFromGlskDocument.<init>(ZonalDataFromGlskDocument.java:48)\n",
      "\tat com.powsybl.glsk.api.GlskDocument.getZonalGlsks(GlskDocument.java:41)\n",
      "\tat com.powsybl.python.rao.RaoContext.run(RaoContext.java:51)\n",
      "\tat com.powsybl.python.rao.RaoCFunctions.lambda$runRao$6(RaoCFunctions.java:136)\n",
      "\tat com.powsybl.python.commons.Util.doCatch(Util.java:144)\n",
      "\tat com.powsybl.python.rao.RaoCFunctions.runRao(RaoCFunctions.java:132)\n",
      "\n"
     ]
    },
    {
     "ename": "PyPowsyblError",
     "evalue": "Multi (GSK+LSK) shift keys not supported yet...",
     "output_type": "error",
     "traceback": [
      "\u001B[31m---------------------------------------------------------------------------\u001B[39m",
      "\u001B[31mPyPowsyblError\u001B[39m                            Traceback (most recent call last)",
      "\u001B[36mCell\u001B[39m\u001B[36m \u001B[39m\u001B[32mIn[27]\u001B[39m\u001B[32m, line 10\u001B[39m\n\u001B[32m      8\u001B[39m rao_runner.set_crac_file_source(network, \u001B[33m\"\u001B[39m\u001B[33m./data/rao/angle_monitoring/angle_monitoring_simple_case_with_injectionRa.json\u001B[39m\u001B[33m\"\u001B[39m)\n\u001B[32m      9\u001B[39m rao_runner.set_glsk_file_source(network, \u001B[33m\"\u001B[39m\u001B[33m./data/rao/angle_monitoring/GlskB45test.xml\u001B[39m\u001B[33m\"\u001B[39m)  \n\u001B[32m---> \u001B[39m\u001B[32m10\u001B[39m rao_result = \u001B[43mrao_runner\u001B[49m\u001B[43m.\u001B[49m\u001B[43mrun\u001B[49m\u001B[43m(\u001B[49m\u001B[43mnetwork\u001B[49m\u001B[43m,\u001B[49m\u001B[43m \u001B[49m\u001B[43mparameters\u001B[49m\u001B[43m)\u001B[49m\n\u001B[32m     11\u001B[39m result_with_angle_monitoring = rao_runner.run_angle_monitoring(network, rao_result, load_flow_parameters)\n",
      "\u001B[36mFile \u001B[39m\u001B[32m~/Workspace/POWSYBL/pypowsybl2/venv/lib/python3.11/site-packages/pypowsybl/rao/impl/rao.py:48\u001B[39m, in \u001B[36mRao.run\u001B[39m\u001B[34m(self, network, parameters)\u001B[39m\n\u001B[32m     45\u001B[39m \u001B[38;5;28;01mif\u001B[39;00m parameters \u001B[38;5;129;01mis\u001B[39;00m \u001B[38;5;28;01mNone\u001B[39;00m:\n\u001B[32m     46\u001B[39m     parameters = RaoParameters()\n\u001B[32m---> \u001B[39m\u001B[32m48\u001B[39m rao_result = \u001B[43m_pypowsybl\u001B[49m\u001B[43m.\u001B[49m\u001B[43mrun_rao\u001B[49m\u001B[43m(\u001B[49m\u001B[43mnetwork\u001B[49m\u001B[43m=\u001B[49m\u001B[43mnetwork\u001B[49m\u001B[43m.\u001B[49m\u001B[43m_handle\u001B[49m\u001B[43m,\u001B[49m\u001B[43m \u001B[49m\u001B[43mrao_context\u001B[49m\u001B[43m=\u001B[49m\u001B[38;5;28;43mself\u001B[39;49m\u001B[43m.\u001B[49m\u001B[43m_handle\u001B[49m\u001B[43m,\u001B[49m\u001B[43m \u001B[49m\u001B[43mparameters\u001B[49m\u001B[43m=\u001B[49m\u001B[43mparameters\u001B[49m\u001B[43m.\u001B[49m\u001B[43m_to_c_parameters\u001B[49m\u001B[43m(\u001B[49m\u001B[43m)\u001B[49m\u001B[43m)\u001B[49m\n\u001B[32m     49\u001B[39m crac_handle = _pypowsybl.get_crac(\u001B[38;5;28mself\u001B[39m._handle)\n\u001B[32m     50\u001B[39m \u001B[38;5;28;01mreturn\u001B[39;00m RaoResult(rao_result, crac_handle)\n",
      "\u001B[31mPyPowsyblError\u001B[39m: Multi (GSK+LSK) shift keys not supported yet..."
     ]
    }
   ],
   "execution_count": 27
  },
  {
   "metadata": {
    "ExecuteTime": {
     "end_time": "2025-08-22T08:50:16.118799Z",
     "start_time": "2025-08-22T08:50:16.084204Z"
    }
   },
   "cell_type": "code",
   "source": [
    "\n",
    "# import inputs\n",
    "network =  pp.network.load(\"./data/rao/rao_network.uct\")\n",
    "rao_runner = pp.rao.create_rao()\n",
    "parameters = RaoParameters()\n",
    "parameters.load_from_file_source(\"./data/rao/rao_parameters.json\")\n",
    "load_flow_parameters = parameters.loadflow_and_sensitivity_parameters.sensitivity_parameters.load_flow_parameters\n",
    "rao_runner.set_crac_file_source(network, \"./data/rao/rao_crac.json\")\n",
    "rao_runner.set_glsk_file_source(network, \"./data/rao/rao_glsk.xml\")  \n",
    "rao_result = rao_runner.run(network, parameters)\n",
    "result_with_angle_monitoring = rao_runner.run_angle_monitoring(network, rao_result, load_flow_parameters)\n",
    "result_with_voltage_monitoring = rao_runner.run_angle_monitoring(network, rao_result, load_flow_parameters)"
   ],
   "id": "401bfe71eca4e166",
   "outputs": [
    {
     "name": "stderr",
     "output_type": "stream",
     "text": [
      "2025-08-22 10:50:16,087 - ERROR - BBE1AA1  BBE2AA1  1 - Real line resistance cannot be negative (0.0 ohm)\n",
      "2025-08-22 10:50:16,088 - ERROR - BBE1AA1  BBE3AA1  1 - Real line resistance cannot be negative (0.0 ohm)\n",
      "2025-08-22 10:50:16,088 - ERROR - FFR1AA1  FFR2AA1  1 - Real line resistance cannot be negative (0.0 ohm)\n",
      "2025-08-22 10:50:16,089 - ERROR - FFR1AA1  FFR3AA1  1 - Real line resistance cannot be negative (0.0 ohm)\n",
      "2025-08-22 10:50:16,089 - ERROR - FFR2AA1  FFR3AA1  1 - Real line resistance cannot be negative (0.0 ohm)\n",
      "2025-08-22 10:50:16,089 - ERROR - DDE1AA1  DDE2AA1  1 - Real line resistance cannot be negative (0.0 ohm)\n",
      "2025-08-22 10:50:16,090 - ERROR - DDE1AA1  DDE3AA1  1 - Real line resistance cannot be negative (0.0 ohm)\n",
      "2025-08-22 10:50:16,090 - ERROR - DDE2AA1  DDE3AA1  1 - Real line resistance cannot be negative (0.0 ohm)\n",
      "2025-08-22 10:50:16,090 - ERROR - NNL1AA1  NNL2AA1  1 - Real line resistance cannot be negative (0.0 ohm)\n",
      "2025-08-22 10:50:16,091 - ERROR - NNL1AA1  NNL3AA1  1 - Real line resistance cannot be negative (0.0 ohm)\n",
      "2025-08-22 10:50:16,091 - ERROR - NNL2AA1  NNL3AA1  1 - Real line resistance cannot be negative (0.0 ohm)\n",
      "2025-08-22 10:50:16,092 - ERROR - FFR2AA1  DDE3AA1  1 - Real line resistance cannot be negative (0.0 ohm)\n",
      "2025-08-22 10:50:16,092 - ERROR - DDE2AA1  NNL3AA1  1 - Real line resistance cannot be negative (0.0 ohm)\n",
      "2025-08-22 10:50:16,092 - ERROR - NNL2AA1  BBE3AA1  1 - Real line resistance cannot be negative (0.0 ohm)\n",
      "2025-08-22 10:50:16,092 - ERROR - BBE2AA1  FFR3AA1  1 - Real line resistance cannot be negative (0.0 ohm)\n",
      "2025-08-22 10:50:16,093 - ERROR - BBE2AA1  BBE3AA1  1 - Blank is not allowed, real transformer resistance must be greater than or equal to zero (0.0 ohm)\n",
      "2025-08-22 10:50:16,093 - WARNING - BBE2AA1  BBE3AA1  1 - Blank is not allowed (0.0 S)\n",
      "2025-08-22 10:50:16,094 - WARNING - BBE2AA1  BBE3AA1  1 - Transformer shunt conductance must be greater than or equal to zero (0.0 S)\n",
      "2025-08-22 10:50:16,094 - WARNING - BBE2AA1  BBE3AA1  1 - For LTCs, transformer angle regulation voltage per tap should not be zero. Its absolute value should not be above 6 % (-0.68 %)\n",
      "2025-08-22 10:50:16,098 - WARNING - CRAC importer 2.8 might not be longer compatible with json CRAC version 1.3, consider updating your json CRAC file\n",
      "2025-08-22 10:50:16,099 - WARNING - The iMax is now fetched in the network so the value in the CRAC will not be read.\n",
      "2025-08-22 10:50:16,099 - WARNING - The iMax is now fetched in the network so the value in the CRAC will not be read.\n",
      "2025-08-22 10:50:16,100 - WARNING - The iMax is now fetched in the network so the value in the CRAC will not be read.\n",
      "2025-08-22 10:50:16,100 - WARNING - The iMax is now fetched in the network so the value in the CRAC will not be read.\n",
      "2025-08-22 10:50:16,100 - WARNING - The iMax is now fetched in the network so the value in the CRAC will not be read.\n",
      "2025-08-22 10:50:16,100 - WARNING - The iMax is now fetched in the network so the value in the CRAC will not be read.\n",
      "2025-08-22 10:50:16,101 - WARNING - The iMax is now fetched in the network so the value in the CRAC will not be read.\n",
      "2025-08-22 10:50:16,101 - WARNING - The initial tap is now read from the network so the value in the crac will not be read\n",
      "2025-08-22 10:50:16,101 - WARNING - The tap to angle conversion map is now read from the network so the value in the crac will not be read\n",
      "2025-08-22 10:50:16,102 - INFO - CIM GLSK importer could not import this document.\n",
      "2025-08-22 10:50:16,103 - INFO - UCTE GLSK importer could import this document.\n",
      "2025-08-22 10:50:16,104 - WARNING - Running RAO using Open RAO version 6.7.0-SNAPSHOT from git commit ea80e63634c4ff2038696d4ca76f99ed861d1263.\n",
      "2025-08-22 10:50:16,104 - WARNING - Non re-optimizing curative range actions is deprecated. Curative range actions re-optimization will be mandatory in a future OpenRAO version.\n",
      "2025-08-22 10:50:16,104 - WARNING - A threshold for the flowCnec NNL2AA1  BBE3AA1  1 - preventive is defined in MW but the loadflow computation is in AC. It will be imprecisely converted by the RAO which could create uncoherent results due to side effects\n",
      "2025-08-22 10:50:16,104 - WARNING - A threshold for the flowCnec BBE2AA1  FFR3AA1  1 - preventive is defined in MW but the loadflow computation is in AC. It will be imprecisely converted by the RAO which could create uncoherent results due to side effects\n",
      "2025-08-22 10:50:16,105 - WARNING - A threshold for the flowCnec FFR1AA1  FFR2AA1  1 - preventive is defined in MW but the loadflow computation is in AC. It will be imprecisely converted by the RAO which could create uncoherent results due to side effects\n",
      "2025-08-22 10:50:16,105 - WARNING - A threshold for the flowCnec FFR2AA1  DDE3AA1  1 - preventive is defined in MW but the loadflow computation is in AC. It will be imprecisely converted by the RAO which could create uncoherent results due to side effects\n",
      "2025-08-22 10:50:16,105 - WARNING - A threshold for the flowCnec NNL1AA1  NNL3AA1  1 - preventive is defined in MW but the loadflow computation is in AC. It will be imprecisely converted by the RAO which could create uncoherent results due to side effects\n",
      "2025-08-22 10:50:16,105 - WARNING - A threshold for the flowCnec NNL2AA1  NNL3AA1  1 - preventive is defined in MW but the loadflow computation is in AC. It will be imprecisely converted by the RAO which could create uncoherent results due to side effects\n",
      "2025-08-22 10:50:16,105 - WARNING - A threshold for the flowCnec DDE2AA1  NNL3AA1  1 - preventive is defined in MW but the loadflow computation is in AC. It will be imprecisely converted by the RAO which could create uncoherent results due to side effects\n",
      "2025-08-22 10:50:16,105 - WARNING - A threshold for the flowCnec NNL2AA1  BBE3AA1  1 - preventive is defined in MW but the loadflow computation is in AC. It will be imprecisely converted by the RAO which could create uncoherent results due to side effects\n",
      "2025-08-22 10:50:16,106 - WARNING - A threshold for the flowCnec BBE2AA1  FFR3AA1  1 - preventive is defined in MW but the loadflow computation is in AC. It will be imprecisely converted by the RAO which could create uncoherent results due to side effects\n",
      "2025-08-22 10:50:16,106 - WARNING - A threshold for the flowCnec FFR1AA1  FFR2AA1  1 - preventive is defined in MW but the loadflow computation is in AC. It will be imprecisely converted by the RAO which could create uncoherent results due to side effects\n",
      "2025-08-22 10:50:16,106 - WARNING - A threshold for the flowCnec FFR2AA1  DDE3AA1  1 - preventive is defined in MW but the loadflow computation is in AC. It will be imprecisely converted by the RAO which could create uncoherent results due to side effects\n",
      "2025-08-22 10:50:16,106 - WARNING - A threshold for the flowCnec NNL1AA1  NNL3AA1  1 - preventive is defined in MW but the loadflow computation is in AC. It will be imprecisely converted by the RAO which could create uncoherent results due to side effects\n",
      "2025-08-22 10:50:16,106 - WARNING - A threshold for the flowCnec NNL2AA1  NNL3AA1  1 - preventive is defined in MW but the loadflow computation is in AC. It will be imprecisely converted by the RAO which could create uncoherent results due to side effects\n",
      "2025-08-22 10:50:16,106 - WARNING - A threshold for the flowCnec DDE2AA1  NNL3AA1  1 - preventive is defined in MW but the loadflow computation is in AC. It will be imprecisely converted by the RAO which could create uncoherent results due to side effects\n",
      "2025-08-22 10:50:16,107 - WARNING - Contingency Contingency FR1 FR3 has an automaton or a curative remedial action but no CNECs associated.\n",
      "2025-08-22 10:50:16,108 - WARNING - Network {CC0 SC0}: 12 generators have been discarded from active power control because of maxP not plausible\n",
      "2025-08-22 10:50:16,109 - INFO - Network {CC0 SC0} has 12 buses and 16 branches\n",
      "2025-08-22 10:50:16,109 - INFO - Network {CC0 SC0} balance: active generation=24000.0 MW, active load=24000.0 MW, reactive generation=0.0 MVar, reactive load=0.0 MVar\n",
      "2025-08-22 10:50:16,109 - INFO - Network {CC0 SC0}, slack buses are [BBE2AA1_0] (method='Most meshed bus')\n",
      "2025-08-22 10:50:16,110 - INFO - Network {CC0 SC0}, reference bus is BBE2AA1_0 (method='First slack')\n",
      "2025-08-22 10:50:16,110 - INFO - Running AC sensitivity analysis with 14 factors and 0 contingencies\n",
      "2025-08-22 10:50:16,110 - INFO - Start AC loadflow on network {CC0 SC0}\n",
      "2025-08-22 10:50:16,111 - INFO - AC loadflow complete on network {CC0 SC0} (result=AcLoadFlowResult(outerLoopIterations=0, newtonRaphsonIterations=3, solverStatus=CONVERGED, outerLoopStatus=STABLE, slackBusActivePowerMismatch=-6.497913318526116E-10, distributedActivePower=0.0))\n",
      "2025-08-22 10:50:16,111 - INFO - Initial sensitivity analysis: cost = -2666.26 (functional: -2666.26, virtual: 0.0)\n",
      "2025-08-22 10:50:16,112 - INFO - Limiting element #01: margin = 2666.26 MW, element FFR1AA1  FFR2AA1  1 at state preventive, CNEC ID = \"FFR1AA1  FFR2AA1  1 - preventive\"\n",
      "2025-08-22 10:50:16,112 - INFO - Limiting element #02: margin = 3499.78 MW, element NNL2AA1  BBE3AA1  1 at state preventive, CNEC ID = \"NNL2AA1  BBE3AA1  1 - preventive\"\n",
      "2025-08-22 10:50:16,112 - INFO - ----- Preventive perimeter optimization [start]\n",
      "2025-08-22 10:50:16,112 - INFO - Stop criterion reached on Root leaf, cost: -2666.26 (functional: -2666.26, virtual: 0.0)\n",
      "2025-08-22 10:50:16,113 - INFO - Limiting element #01: margin = 2666.26 MW, element FFR1AA1  FFR2AA1  1 at state preventive, CNEC ID = \"FFR1AA1  FFR2AA1  1 - preventive\"\n",
      "2025-08-22 10:50:16,113 - INFO - Limiting element #02: margin = 3499.78 MW, element NNL2AA1  BBE3AA1  1 at state preventive, CNEC ID = \"NNL2AA1  BBE3AA1  1 - preventive\"\n",
      "2025-08-22 10:50:16,113 - INFO - Limiting element #03: margin = 3500.22 MW, element FFR2AA1  DDE3AA1  1 at state preventive, CNEC ID = \"FFR2AA1  DDE3AA1  1 - preventive\"\n",
      "2025-08-22 10:50:16,113 - INFO - Limiting element #04: margin = 3999.78 MW, element DDE2AA1  NNL3AA1  1 at state preventive, CNEC ID = \"DDE2AA1  NNL3AA1  1 - preventive\"\n",
      "2025-08-22 10:50:16,113 - INFO - Limiting element #05: margin = 4333.2 MW, element NNL1AA1  NNL3AA1  1 at state preventive, CNEC ID = \"NNL1AA1  NNL3AA1  1 - preventive\"\n",
      "2025-08-22 10:50:16,114 - INFO - Scenario \"preventive\": initial cost = -2666.26 (functional: -2666.26, virtual: 0.0), no remedial actions activated, cost after preventive optimization = -2666.26 (functional: -2666.26, virtual: 0.0)\n",
      "2025-08-22 10:50:16,114 - INFO - ----- Preventive perimeter optimization [end]\n",
      "2025-08-22 10:50:16,114 - INFO - Limiting element #01: margin = 2666.26 MW, element FFR1AA1  FFR2AA1  1 at state preventive, CNEC ID = \"FFR1AA1  FFR2AA1  1 - preventive\"\n",
      "2025-08-22 10:50:16,114 - INFO - Limiting element #02: margin = 3499.78 MW, element NNL2AA1  BBE3AA1  1 at state preventive, CNEC ID = \"NNL2AA1  BBE3AA1  1 - preventive\"\n",
      "2025-08-22 10:50:16,114 - INFO - Limiting element #03: margin = 3500.22 MW, element FFR2AA1  DDE3AA1  1 at state preventive, CNEC ID = \"FFR2AA1  DDE3AA1  1 - preventive\"\n",
      "2025-08-22 10:50:16,115 - INFO - Limiting element #04: margin = 3999.78 MW, element DDE2AA1  NNL3AA1  1 at state preventive, CNEC ID = \"DDE2AA1  NNL3AA1  1 - preventive\"\n",
      "2025-08-22 10:50:16,115 - INFO - Limiting element #05: margin = 4333.2 MW, element NNL1AA1  NNL3AA1  1 at state preventive, CNEC ID = \"NNL1AA1  NNL3AA1  1 - preventive\"\n",
      "2025-08-22 10:50:16,115 - INFO - Limiting element #06: margin = 4500.22 MW, element BBE2AA1  FFR3AA1  1 at state preventive, CNEC ID = \"BBE2AA1  FFR3AA1  1 - preventive\"\n",
      "2025-08-22 10:50:16,115 - INFO - Cost before RAO = -2666.26 (functional: -2666.26, virtual: 0.0), cost after RAO = -2666.26 (functional: -2666.26, virtual: 0.0)\n",
      "2025-08-22 10:50:16,116 - INFO - ----- ANGLE monitoring [start]\n",
      "2025-08-22 10:50:16,116 - WARNING - No Cnecs of type 'ANGLE' defined.\n",
      "2025-08-22 10:50:16,116 - INFO - ----- ANGLE monitoring [end]\n",
      "2025-08-22 10:50:16,117 - INFO - ----- ANGLE monitoring [start]\n",
      "2025-08-22 10:50:16,117 - WARNING - No Cnecs of type 'ANGLE' defined.\n",
      "2025-08-22 10:50:16,117 - INFO - ----- ANGLE monitoring [end]\n"
     ]
    }
   ],
   "execution_count": 7
  },
  {
   "metadata": {},
   "cell_type": "markdown",
   "source": "Launch monitoring",
   "id": "4d2a8003fc3963d7"
  },
  {
   "metadata": {},
   "cell_type": "code",
   "outputs": [],
   "execution_count": null,
   "source": "",
   "id": "fffb8abf917e0f7f"
  },
  {
   "metadata": {},
   "cell_type": "markdown",
   "source": "",
   "id": "624e989b754dc4c6"
  },
  {
   "metadata": {},
   "cell_type": "code",
   "outputs": [],
   "execution_count": null,
   "source": [
    "# prepare inputs\n",
    "n12 = pp.network.load('./data/rao/12_node_network.uct')\n",
    "rao_runner = pp.rao.create_rao()\n",
    "rao_runner.run_angle_monitoring()\n",
    "\n",
    "\n",
    "\n",
    "rao_runner.set_crac_file_source(n12, \"./data/rao/N_case_crac.json\")\n",
    "rao_parameters = RaoParameters()\n",
    "rao_parameters.load_from_file_source(\"./data/rao/rao_parameters.json\")\n",
    "# set up logging\n",
    "import logging\n",
    "logging.getLogger('powsybl').setLevel(logging.INFO)\n",
    "logging.basicConfig(format='%(asctime)s - %(levelname)s - %(message)s')\n",
    "#run rao\n",
    "raoResult = rao_runner.run(n12, rao_parameters)\n",
    "result_json = raoResult.to_json()"
   ],
   "id": "abee38543c99f812"
  },
  {
   "metadata": {},
   "cell_type": "code",
   "outputs": [],
   "execution_count": null,
   "source": "",
   "id": "f72e1a5e5daa7bc3"
  },
  {
   "metadata": {},
   "cell_type": "code",
   "outputs": [],
   "execution_count": null,
   "source": "",
   "id": "bb6b0a9f406cfc57"
  },
  {
   "metadata": {},
   "cell_type": "code",
   "outputs": [],
   "execution_count": null,
   "source": "",
   "id": "af10073ecc8db95a"
  }
 ],
 "metadata": {
  "kernelspec": {
   "display_name": "Python 3",
   "language": "python",
   "name": "python3"
  },
  "language_info": {
   "codemirror_mode": {
    "name": "ipython",
    "version": 2
   },
   "file_extension": ".py",
   "mimetype": "text/x-python",
   "name": "python",
   "nbconvert_exporter": "python",
   "pygments_lexer": "ipython2",
   "version": "2.7.6"
  }
 },
 "nbformat": 4,
 "nbformat_minor": 5
}
