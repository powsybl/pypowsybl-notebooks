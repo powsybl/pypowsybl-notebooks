{
 "cells": [
  {
   "cell_type": "markdown",
   "id": "2fdb50ba",
   "metadata": {},
   "source": "# OpenRAO monitoring in pyPowsybl"
  },
  {
   "cell_type": "markdown",
   "id": "efa399e1",
   "metadata": {},
   "source": [
    "In this notebook, we'll explore how OpenRao monitoring algorithms work. \n",
    "For network situations with angle or voltage overloads, the monitoring module will try to relieve these constraints by applying remedial actions. \n",
    "\n",
    "The first step is to install pypowsybl and import the library."
   ]
  },
  {
   "metadata": {
    "ExecuteTime": {
     "end_time": "2025-09-01T13:06:00.541083Z",
     "start_time": "2025-09-01T13:05:59.808553Z"
    }
   },
   "cell_type": "code",
   "source": "pip install pypowsybl==1.12.0",
   "id": "6657842d8b2d9845",
   "outputs": [
    {
     "name": "stdout",
     "output_type": "stream",
     "text": [
      "Looking in indexes: https://devin-depot.rte-france.com/repository/pypi-all/simple\r\n",
      "Requirement already satisfied: pypowsybl==1.12.0 in ./venv/lib/python3.11/site-packages (1.12.0)\r\n",
      "Requirement already satisfied: prettytable>=2.0.0 in ./venv/lib/python3.11/site-packages (from pypowsybl==1.12.0) (3.16.0)\r\n",
      "Requirement already satisfied: pandas>=2.2.3 in ./venv/lib/python3.11/site-packages (from pypowsybl==1.12.0) (2.3.2)\r\n",
      "Requirement already satisfied: networkx in ./venv/lib/python3.11/site-packages (from pypowsybl==1.12.0) (3.5)\r\n",
      "Requirement already satisfied: numpy>=1.23.2 in ./venv/lib/python3.11/site-packages (from pandas>=2.2.3->pypowsybl==1.12.0) (2.3.2)\r\n",
      "Requirement already satisfied: python-dateutil>=2.8.2 in ./venv/lib/python3.11/site-packages (from pandas>=2.2.3->pypowsybl==1.12.0) (2.9.0.post0)\r\n",
      "Requirement already satisfied: pytz>=2020.1 in ./venv/lib/python3.11/site-packages (from pandas>=2.2.3->pypowsybl==1.12.0) (2025.2)\r\n",
      "Requirement already satisfied: tzdata>=2022.7 in ./venv/lib/python3.11/site-packages (from pandas>=2.2.3->pypowsybl==1.12.0) (2025.2)\r\n",
      "Requirement already satisfied: wcwidth in ./venv/lib/python3.11/site-packages (from prettytable>=2.0.0->pypowsybl==1.12.0) (0.2.13)\r\n",
      "Requirement already satisfied: six>=1.5 in ./venv/lib/python3.11/site-packages (from python-dateutil>=2.8.2->pandas>=2.2.3->pypowsybl==1.12.0) (1.17.0)\r\n",
      "\r\n",
      "\u001B[1m[\u001B[0m\u001B[34;49mnotice\u001B[0m\u001B[1;39;49m]\u001B[0m\u001B[39;49m A new release of pip is available: \u001B[0m\u001B[31;49m25.1.1\u001B[0m\u001B[39;49m -> \u001B[0m\u001B[32;49m25.2\u001B[0m\r\n",
      "\u001B[1m[\u001B[0m\u001B[34;49mnotice\u001B[0m\u001B[1;39;49m]\u001B[0m\u001B[39;49m To update, run: \u001B[0m\u001B[32;49mpip install --upgrade pip\u001B[0m\r\n",
      "Note: you may need to restart the kernel to use updated packages.\n"
     ]
    }
   ],
   "execution_count": 9
  },
  {
   "metadata": {
    "ExecuteTime": {
     "end_time": "2025-09-01T13:06:00.555406Z",
     "start_time": "2025-09-01T13:06:00.550188Z"
    }
   },
   "cell_type": "code",
   "source": [
    "import pypowsybl as pp\n",
    "from pypowsybl.rao import Parameters as RaoParameters"
   ],
   "id": "4ad9bbcf2f4f85bf",
   "outputs": [],
   "execution_count": 10
  },
  {
   "metadata": {},
   "cell_type": "markdown",
   "source": "BUG : DO NOT LOAD LOGGING",
   "id": "3f96a2304594b3ab"
  },
  {
   "cell_type": "code",
   "id": "initial_id",
   "metadata": {
    "collapsed": true,
    "ExecuteTime": {
     "end_time": "2025-09-01T13:06:00.607293Z",
     "start_time": "2025-09-01T13:06:00.603704Z"
    }
   },
   "source": [
    "# set up logging\n",
    "# import logging\n",
    "# logging.getLogger('powsybl').setLevel(logging.INFO)\n",
    "# logging.basicConfig(format='%(asctime)s - %(levelname)s - %(name)s - %(message)s')"
   ],
   "outputs": [],
   "execution_count": 11
  },
  {
   "metadata": {},
   "cell_type": "markdown",
   "source": [
    "## I) ANGLE MONITORING\n",
    "\n",
    "Let's load a simple 3 node network.\n",
    "- VL1 voltage level contains a generator producing 100 MW.\n",
    "- VL2 voltage level contains a load consuming 100 MW.\n",
    "- VL1 and VL3 are connected by a PST.\n",
    "- VL2 and VL3 are connected by 2 lines, one of with has infinite resistance : that's why it has no power flowing through it."
   ],
   "id": "eda73ac35599f2e5"
  },
  {
   "metadata": {
    "ExecuteTime": {
     "end_time": "2025-09-01T13:06:00.666418Z",
     "start_time": "2025-09-01T13:06:00.656645Z"
    }
   },
   "cell_type": "code",
   "source": [
    "network =  pp.network.load(\"./data/rao/angle_monitoring/network.xiidm\")\n",
    "network.get_network_area_diagram()"
   ],
   "id": "d923fa57b4d80171",
   "outputs": [
    {
     "data": {
      "text/plain": [
       "<pypowsybl.network.impl.svg.Svg at 0x7796704a6190>"
      ],
      "image/svg+xml": "<?xml version=\"1.0\" encoding=\"UTF-8\"?>\n<svg width=\"643.91\" height=\"600.00\" viewBox=\"-521.25 -436.10 830.94 774.28\" xmlns=\"http://www.w3.org/2000/svg\">\n    <style><![CDATA[.nad-branch-edges .nad-edge-path, .nad-3wt-edges .nad-edge-path {stroke: var(--nad-vl-color, lightgrey); stroke-width: 5; fill: none}\n.nad-branch-edges .nad-winding, .nad-3wt-nodes .nad-winding {stroke: var(--nad-vl-color, lightgrey); stroke-width: 5; fill: none}\n.nad-text-edges {stroke: black; stroke-width: 3; stroke-dasharray: 6,7; fill: none}\n.nad-disconnected .nad-edge-path {stroke-dasharray: 10,10}\n.nad-injections .nad-disconnected .nad-edge-path, .nad-injections .nad-disconnected circle {stroke: lightgrey}\n.nad-injections .nad-edge-path {stroke: var(--nad-vl-color, lightgrey); stroke-width: 3; fill: none}\n.nad-injections circle {stroke: var(--nad-vl-color, lightgrey); stroke-width: 3; fill: none}\n.nad-vl-nodes .nad-busnode {fill: var(--nad-vl-color, lightgrey)}\n.nad-vl-nodes circle.nad-unknown-busnode {stroke: var(--nad-vl-color, #808080); stroke-width: 5; stroke-dasharray: 5,5; fill: none}\n.nad-hvdc-edge polyline.nad-hvdc {stroke: grey; stroke-width: 40}\n.nad-branch-edges .nad-tie-line-edge .nad-edge-path {stroke-width: 7}\n.nad-pst-arrow {stroke: #6a6a6a; stroke-width: 4; stroke-linecap: round; fill: none}\npath.nad-arrow-out:not(.nad-state-out .nad-arrow-out) {visibility: hidden}\npath.nad-arrow-in:not(.nad-state-in .nad-arrow-in) {visibility: hidden}\n.nad-active {fill: #546e7a}\n.nad-reactive {fill: #0277bd}\n.nad-current {fill: #bd4802}\n.nad-text-background {flood-color: #90a4aeaa}\n.nad-text-nodes {font: 25px serif; fill: black; dominant-baseline: central}\nforeignObject.nad-text-nodes {overflow: visible; color: black}\n.nad-label-box {background-color: #6c6c6c20; width: max-content; padding: 10px; border-radius: 10px;}\n.nad-legend-square {display: inline-block; margin-right: 10px; width: 20px; height: 20px; background: var(--nad-vl-color, black);}\n.nad-edge-infos text, .nad-edge-label text {font: 20px serif; dominant-baseline:middle; stroke: #FFFFFFAA; stroke-width: 10; stroke-linejoin:round; paint-order: stroke}\n.nad-disconnected {--nad-vl-color: #808080}\n:is(.nad-branch-edges, .nad-3wt-edges, .nad-3wt-nodes) .nad-vl0to30 {--nad-vl-color: #afb42b}\n.nad-vl0to30.nad-bus-0 {--nad-vl-color: #827717}\n.nad-vl0to30.nad-bus-1 {--nad-vl-color: #d4e157}\n.nad-vl0to30.nad-bus-2 {--nad-vl-color: #e6ee9c}\n.nad-vl0to30.nad-bus-3 {--nad-vl-color: #c0ca33}\n.nad-vl0to30.nad-bus-4 {--nad-vl-color: #f0fc83}\n.nad-vl0to30.nad-bus-5 {--nad-vl-color: #9e9d24}\n.nad-vl0to30.nad-bus-6 {--nad-vl-color: #cddc39}\n.nad-vl0to30.nad-bus-7 {--nad-vl-color: #dce775}\n.nad-vl0to30.nad-bus-8 {--nad-vl-color: #ddfc88}\n:is(.nad-branch-edges, .nad-3wt-edges, .nad-3wt-nodes) .nad-vl30to50 {--nad-vl-color: #ef9a9a}\n.nad-vl30to50.nad-bus-0 {--nad-vl-color: #c2185b}\n.nad-vl30to50.nad-bus-1 {--nad-vl-color: #f06292}\n.nad-vl30to50.nad-bus-2 {--nad-vl-color: #d81b60}\n.nad-vl30to50.nad-bus-3 {--nad-vl-color: #ec407a}\n.nad-vl30to50.nad-bus-4 {--nad-vl-color: #880e4f}\n.nad-vl30to50.nad-bus-5 {--nad-vl-color: #ad1457}\n.nad-vl30to50.nad-bus-6 {--nad-vl-color: #e91e63}\n.nad-vl30to50.nad-bus-7 {--nad-vl-color: #f48fb1}\n.nad-vl30to50.nad-bus-8 {--nad-vl-color: #f8bbd0}\n:is(.nad-branch-edges, .nad-3wt-edges, .nad-3wt-nodes) .nad-vl50to70 {--nad-vl-color: #9c27b0}\n.nad-vl50to70.nad-bus-0 {--nad-vl-color: #7b1fa2}\n.nad-vl50to70.nad-bus-1 {--nad-vl-color: #ba68c8}\n.nad-vl50to70.nad-bus-2 {--nad-vl-color: #512da8}\n.nad-vl50to70.nad-bus-3 {--nad-vl-color: #ab47bc}\n.nad-vl50to70.nad-bus-4 {--nad-vl-color: #e1bee7}\n.nad-vl50to70.nad-bus-5 {--nad-vl-color: #6a1b9a}\n.nad-vl50to70.nad-bus-6 {--nad-vl-color: #4a148c}\n.nad-vl50to70.nad-bus-7 {--nad-vl-color: #ce93d8}\n.nad-vl50to70.nad-bus-8 {--nad-vl-color: #9575cd}\n:is(.nad-branch-edges, .nad-3wt-edges, .nad-3wt-nodes) .nad-vl70to120 {--nad-vl-color: #e65100}\n.nad-vl70to120.nad-bus-0 {--nad-vl-color: #fb8c00}\n.nad-vl70to120.nad-bus-1 {--nad-vl-color: #ffb74d}\n.nad-vl70to120.nad-bus-2 {--nad-vl-color: #f57c00}\n.nad-vl70to120.nad-bus-3 {--nad-vl-color: #ffa726}\n.nad-vl70to120.nad-bus-4 {--nad-vl-color: #ffe0b2}\n.nad-vl70to120.nad-bus-5 {--nad-vl-color: #ef6c00}\n.nad-vl70to120.nad-bus-6 {--nad-vl-color: #ff9800}\n.nad-vl70to120.nad-bus-7 {--nad-vl-color: #ffcc80}\n.nad-vl70to120.nad-bus-8 {--nad-vl-color: #fff3e0}\n:is(.nad-branch-edges, .nad-3wt-edges, .nad-3wt-nodes) .nad-vl120to180 {--nad-vl-color: #00ACC1}\n.nad-vl120to180.nad-bus-0 {--nad-vl-color: #4fc3f7}\n.nad-vl120to180.nad-bus-1 {--nad-vl-color: #01579b}\n.nad-vl120to180.nad-bus-2 {--nad-vl-color: #b3e5fc}\n.nad-vl120to180.nad-bus-3 {--nad-vl-color: #039be5}\n.nad-vl120to180.nad-bus-4 {--nad-vl-color: #81d4fa}\n.nad-vl120to180.nad-bus-5 {--nad-vl-color: #0288d1}\n.nad-vl120to180.nad-bus-6 {--nad-vl-color: #29b6f6}\n.nad-vl120to180.nad-bus-7 {--nad-vl-color: #0277bd}\n.nad-vl120to180.nad-bus-8 {--nad-vl-color: #03a9f4}\n:is(.nad-branch-edges, .nad-3wt-edges, .nad-3wt-nodes) .nad-vl180to300 {--nad-vl-color: #2e7d32}\n.nad-vl180to300.nad-bus-0 {--nad-vl-color: #81c784}\n.nad-vl180to300.nad-bus-1 {--nad-vl-color: #558b2f}\n.nad-vl180to300.nad-bus-2 {--nad-vl-color: #c8e6c9}\n.nad-vl180to300.nad-bus-3 {--nad-vl-color: #43a047}\n.nad-vl180to300.nad-bus-4 {--nad-vl-color: #a5d6a7}\n.nad-vl180to300.nad-bus-5 {--nad-vl-color: #388e3c}\n.nad-vl180to300.nad-bus-6 {--nad-vl-color: #66bb6a}\n.nad-vl180to300.nad-bus-7 {--nad-vl-color: #1b5e20}\n.nad-vl180to300.nad-bus-8 {--nad-vl-color: #4caf50}\n:is(.nad-branch-edges, .nad-3wt-edges, .nad-3wt-nodes) .nad-vl300to500 {--nad-vl-color: #d32f2f}\n.nad-vl300to500.nad-bus-0 {--nad-vl-color: #ef5350}\n.nad-vl300to500.nad-bus-1 {--nad-vl-color: #ef9a9a}\n.nad-vl300to500.nad-bus-2 {--nad-vl-color: #b71c1c}\n.nad-vl300to500.nad-bus-3 {--nad-vl-color: #e57373}\n.nad-vl300to500.nad-bus-4 {--nad-vl-color: #e53935}\n.nad-vl300to500.nad-bus-5 {--nad-vl-color: #ff8a80}\n.nad-vl300to500.nad-bus-6 {--nad-vl-color: #f44336}\n.nad-vl300to500.nad-bus-7 {--nad-vl-color: #ffcdd2}\n.nad-vl300to500.nad-bus-8 {--nad-vl-color: #c62828}\n.nad-branch-edges .nad-overload .nad-edge-path {animation: line-blink 3s infinite}\n.nad-vl-nodes .nad-overvoltage {animation: node-over-blink 3s infinite}\n.nad-vl-nodes .nad-undervoltage {animation: node-under-blink 3s infinite}\n.nad-highlight {stroke-width: 25; opacity: 0.2; fill: none;}\n.nad-highlight-0 {stroke: #e6e600;}\n.nad-highlight-1 {stroke: #b300b3;}\n.nad-highlight-2 {stroke: #2eb82e;}\n.nad-highlight-3 {stroke: #e67300;}\n.nad-highlight-4 {stroke: #0000ff;}\n@keyframes line-blink {\n  0%, 80%, 100% {stroke: var(--nad-vl-color, black); stroke-width: 5}\n  40% {stroke: #FFEB3B; stroke-width: 15}\n}\n@keyframes node-over-blink {\n  0%, 80%, 100% {stroke: white; stroke-width: 0}\n  40% {stroke: #ff5722; stroke-width: 15}\n}\n@keyframes node-under-blink {\n  0%, 80%, 100% {stroke: white; stroke-width: 0}\n  40% {stroke: #00BCD4; stroke-width: 15}\n}\n.nad-load {stroke: var(--nad-vl-color, lightgrey); stroke-width: 3; fill: none}\n.nad-battery {stroke: var(--nad-vl-color, lightgrey); stroke-width: 3; fill: none}\n.nad-generator {stroke: var(--nad-vl-color, lightgrey); stroke-width: 3; stroke-linecap: round; fill: none}\n.nad-capacitor {stroke: var(--nad-vl-color, lightgrey); stroke-width: 3; fill: none}\n.nad-inductor {stroke: var(--nad-vl-color, lightgrey); stroke-width: 3; stroke-linejoin: round; stroke-linecap: round; fill: none}\n.nad-svc {stroke: var(--nad-vl-color, lightgrey); stroke-width: 3; stroke-linejoin:round; fill: none}\n.nad-disconnected .nad-load {stroke: lightgrey}\n.nad-disconnected .nad-battery {stroke: lightgrey}\n.nad-disconnected .nad-generator {stroke: lightgrey}\n.nad-disconnected .nad-capacitor {stroke: lightgrey}\n.nad-disconnected .nad-inductor {stroke: lightgrey}\n.nad-disconnected .nad-svc {stroke: lightgrey}\n.nad-unknown {stroke: none; fill: black}\n]]></style>\n    <g class=\"nad-vl-nodes\">\n        <g transform=\"translate(-55.80,-196.10)\" id=\"0\">\n            <circle r=\"27.50\" id=\"1\" class=\"nad-vl300to500 nad-bus-0 nad-busnode\"/>\n        </g>\n        <g transform=\"translate(-321.25,57.51)\" id=\"2\">\n            <circle r=\"27.50\" id=\"3\" class=\"nad-vl300to500 nad-bus-0 nad-busnode\"/>\n        </g>\n        <g transform=\"translate(9.69,138.18)\" id=\"4\">\n            <circle r=\"27.50\" id=\"5\" class=\"nad-vl300to500 nad-bus-0 nad-busnode\"/>\n        </g>\n    </g>\n    <g class=\"nad-branch-edges\">\n        <g id=\"6\">\n            <g id=\"6.1\" class=\"nad-vl300to500\">\n                <polyline class=\"nad-edge-path\" points=\"-75.69,-177.11 -188.53,-69.29\"/>\n                <g class=\"nad-edge-infos\" transform=\"translate(-99.19,-154.65)\">\n                    <g class=\"nad-active nad-state-out\">\n                        <g transform=\"rotate(-133.69)\">\n                            <path class=\"nad-arrow-in\" transform=\"scale(10.00)\" d=\"M-1 -1 H1 L0 1z\"/>\n                            <path class=\"nad-arrow-out\" transform=\"scale(10.00)\" d=\"M-1 1 H1 L0 -1z\"/>\n                        </g>\n                        <text transform=\"rotate(-43.69)\" x=\"-19.00\" style=\"text-anchor:end\">50</text>\n                    </g>\n                </g>\n            </g>\n            <g id=\"6.2\" class=\"nad-vl300to500\">\n                <polyline class=\"nad-edge-path\" points=\"-301.37,38.52 -188.53,-69.29\"/>\n                <g class=\"nad-edge-infos\" transform=\"translate(-277.87,16.07)\">\n                    <g class=\"nad-active nad-state-in\">\n                        <g transform=\"rotate(46.31)\">\n                            <path class=\"nad-arrow-in\" transform=\"scale(10.00)\" d=\"M-1 -1 H1 L0 1z\"/>\n                            <path class=\"nad-arrow-out\" transform=\"scale(10.00)\" d=\"M-1 1 H1 L0 -1z\"/>\n                        </g>\n                        <text transform=\"rotate(-43.69)\" x=\"19.00\">-50</text>\n                    </g>\n                </g>\n            </g>\n        </g>\n        <g id=\"7\">\n            <g id=\"7.1\" class=\"nad-vl300to500\">\n                <polyline class=\"nad-edge-path\" points=\"4.40,111.19 -17.29,0.48\"/>\n                <g class=\"nad-edge-infos\" transform=\"translate(-1.85,79.30)\">\n                    <g class=\"nad-active nad-state-in\">\n                        <g transform=\"rotate(-11.09)\">\n                            <path class=\"nad-arrow-in\" transform=\"scale(10.00)\" d=\"M-1 -1 H1 L0 1z\"/>\n                            <path class=\"nad-arrow-out\" transform=\"scale(10.00)\" d=\"M-1 1 H1 L0 -1z\"/>\n                        </g>\n                        <text transform=\"rotate(-281.09)\" x=\"-19.00\" style=\"text-anchor:end\">-50</text>\n                    </g>\n                </g>\n            </g>\n            <g id=\"7.2\" class=\"nad-vl300to500\">\n                <polyline class=\"nad-edge-path\" points=\"-50.52,-169.12 -28.82,-58.40\"/>\n                <g class=\"nad-edge-infos\" transform=\"translate(-44.27,-137.22)\">\n                    <g class=\"nad-active nad-state-out\">\n                        <g transform=\"rotate(168.91)\">\n                            <path class=\"nad-arrow-in\" transform=\"scale(10.00)\" d=\"M-1 -1 H1 L0 1z\"/>\n                            <path class=\"nad-arrow-out\" transform=\"scale(10.00)\" d=\"M-1 1 H1 L0 -1z\"/>\n                        </g>\n                        <text transform=\"rotate(78.91)\" x=\"19.00\">50</text>\n                    </g>\n                </g>\n            </g>\n            <g>\n                <circle class=\"nad-vl300to500 nad-winding\" cx=\"-21.13\" cy=\"-19.15\" r=\"20.00\"/>\n                <circle class=\"nad-vl300to500 nad-winding\" cx=\"-24.98\" cy=\"-38.78\" r=\"20.00\"/>\n                <path d=\"M60.00,0 0,60.00 M52.00,0 60.00,0 60.00,8.00\" transform=\"matrix(-0.19,-0.98,0.98,-0.19,-46.73,6.25)\" class=\"nad-pst-arrow\"/>\n            </g>\n        </g>\n        <g id=\"8\">\n            <g id=\"8.1\" class=\"nad-vl300to500\">\n                <polyline class=\"nad-edge-path\" points=\"-10.19,119.18 -48.15,82.91 -146.31,58.98\"/>\n                <g class=\"nad-edge-infos\" transform=\"translate(-77.29,75.81)\">\n                    <g class=\"nad-active nad-state-out\">\n                        <g transform=\"rotate(-76.30)\">\n                            <path class=\"nad-arrow-in\" transform=\"scale(10.00)\" d=\"M-1 -1 H1 L0 1z\"/>\n                            <path class=\"nad-arrow-out\" transform=\"scale(10.00)\" d=\"M-1 1 H1 L0 -1z\"/>\n                        </g>\n                        <text transform=\"rotate(-346.30)\" x=\"-19.00\" style=\"text-anchor:end\">50</text>\n                    </g>\n                </g>\n            </g>\n            <g id=\"8.2\" class=\"nad-vl300to500\">\n                <polyline class=\"nad-edge-path\" points=\"-294.86,49.79 -244.47,35.06 -146.31,58.98\"/>\n                <g class=\"nad-edge-infos\" transform=\"translate(-215.32,42.16)\">\n                    <g class=\"nad-active nad-state-in\">\n                        <g transform=\"rotate(103.70)\">\n                            <path class=\"nad-arrow-in\" transform=\"scale(10.00)\" d=\"M-1 -1 H1 L0 1z\"/>\n                            <path class=\"nad-arrow-out\" transform=\"scale(10.00)\" d=\"M-1 1 H1 L0 -1z\"/>\n                        </g>\n                        <text transform=\"rotate(13.70)\" x=\"19.00\">-50</text>\n                    </g>\n                </g>\n            </g>\n        </g>\n        <g id=\"9\">\n            <g id=\"9.1\" class=\"nad-vl300to500\">\n                <polyline class=\"nad-edge-path\" points=\"-16.70,145.90 -67.09,160.63 -165.25,136.71\"/>\n                <g class=\"nad-edge-infos\" transform=\"translate(-96.24,153.53)\">\n                    <g class=\"nad-active nad-state-out\">\n                        <g transform=\"rotate(-76.30)\">\n                            <path class=\"nad-arrow-in\" transform=\"scale(10.00)\" d=\"M-1 -1 H1 L0 1z\"/>\n                            <path class=\"nad-arrow-out\" transform=\"scale(10.00)\" d=\"M-1 1 H1 L0 -1z\"/>\n                        </g>\n                        <text transform=\"rotate(-346.30)\" x=\"-19.00\" style=\"text-anchor:end\">50</text>\n                    </g>\n                </g>\n            </g>\n            <g id=\"9.2\" class=\"nad-disconnected nad-vl300to500\">\n                <polyline class=\"nad-edge-path\" points=\"-301.37,76.51 -263.41,112.78 -165.25,136.71\"/>\n                <g class=\"nad-edge-infos\" transform=\"translate(-234.27,119.89)\">\n                    <g class=\"nad-active nad-state-in\">\n                        <g transform=\"rotate(103.70)\">\n                            <path class=\"nad-arrow-in\" transform=\"scale(10.00)\" d=\"M-1 -1 H1 L0 1z\"/>\n                            <path class=\"nad-arrow-out\" transform=\"scale(10.00)\" d=\"M-1 1 H1 L0 -1z\"/>\n                        </g>\n                        <text transform=\"rotate(13.70)\" x=\"19.00\">-50</text>\n                    </g>\n                </g>\n            </g>\n        </g>\n    </g>\n    <g class=\"nad-text-edges\">\n        <polyline id=\"0-textedge\" points=\"-26.14,-200.55 44.20,-211.10\"/>\n        <polyline id=\"2-textedge\" points=\"-291.58,53.06 -221.25,42.51\"/>\n        <polyline id=\"4-textedge\" points=\"39.36,133.73 109.69,123.18\"/>\n    </g>\n    <foreignObject height=\"1\" width=\"1\" class=\"nad-text-nodes\">\n        <div xmlns=\"http://www.w3.org/1999/xhtml\">\n            <div class=\"nad-label-box\" style=\"position: absolute; top: -236px; left: 44px\" id=\"0-textnode\">\n                <div>VL1</div>\n                <div class=\"nad-bus-descr\">\n                    <span class=\"nad-vl300to500 nad-bus-0 nad-legend-square\"/>400.0 kV / 0.0°</div>\n            </div>\n            <div class=\"nad-label-box\" style=\"position: absolute; top: 18px; left: -221px\" id=\"2-textnode\">\n                <div>VL2</div>\n                <div class=\"nad-bus-descr\">\n                    <span class=\"nad-vl300to500 nad-bus-0 nad-legend-square\"/>385.7 kV / -3.7°</div>\n            </div>\n            <div class=\"nad-label-box\" style=\"position: absolute; top: 98px; left: 110px\" id=\"4-textnode\">\n                <div>VL3</div>\n                <div class=\"nad-bus-descr\">\n                    <span class=\"nad-vl300to500 nad-bus-0 nad-legend-square\"/>392.6 kV / -1.8°</div>\n            </div>\n        </div>\n    </foreignObject>\n</svg>\n"
     },
     "execution_count": 12,
     "metadata": {},
     "output_type": "execute_result"
    }
   ],
   "execution_count": 12
  },
  {
   "metadata": {},
   "cell_type": "markdown",
   "source": [
    "Now, let's run a loadflow on this network.\n",
    "?? POURQUOI FLUX DEJA AFFICHES ?"
   ],
   "id": "ce005f42855370fb"
  },
  {
   "metadata": {
    "ExecuteTime": {
     "end_time": "2025-09-01T13:06:00.721797Z",
     "start_time": "2025-09-01T13:06:00.712512Z"
    }
   },
   "cell_type": "code",
   "source": [
    "pp.loadflow.run_ac(network)\n",
    "network.get_network_area_diagram()"
   ],
   "id": "e37a9b29dce42548",
   "outputs": [
    {
     "data": {
      "text/plain": [
       "<pypowsybl.network.impl.svg.Svg at 0x77966dc30210>"
      ],
      "image/svg+xml": "<?xml version=\"1.0\" encoding=\"UTF-8\"?>\n<svg width=\"643.91\" height=\"600.00\" viewBox=\"-521.25 -436.10 830.94 774.28\" xmlns=\"http://www.w3.org/2000/svg\">\n    <style><![CDATA[.nad-branch-edges .nad-edge-path, .nad-3wt-edges .nad-edge-path {stroke: var(--nad-vl-color, lightgrey); stroke-width: 5; fill: none}\n.nad-branch-edges .nad-winding, .nad-3wt-nodes .nad-winding {stroke: var(--nad-vl-color, lightgrey); stroke-width: 5; fill: none}\n.nad-text-edges {stroke: black; stroke-width: 3; stroke-dasharray: 6,7; fill: none}\n.nad-disconnected .nad-edge-path {stroke-dasharray: 10,10}\n.nad-injections .nad-disconnected .nad-edge-path, .nad-injections .nad-disconnected circle {stroke: lightgrey}\n.nad-injections .nad-edge-path {stroke: var(--nad-vl-color, lightgrey); stroke-width: 3; fill: none}\n.nad-injections circle {stroke: var(--nad-vl-color, lightgrey); stroke-width: 3; fill: none}\n.nad-vl-nodes .nad-busnode {fill: var(--nad-vl-color, lightgrey)}\n.nad-vl-nodes circle.nad-unknown-busnode {stroke: var(--nad-vl-color, #808080); stroke-width: 5; stroke-dasharray: 5,5; fill: none}\n.nad-hvdc-edge polyline.nad-hvdc {stroke: grey; stroke-width: 40}\n.nad-branch-edges .nad-tie-line-edge .nad-edge-path {stroke-width: 7}\n.nad-pst-arrow {stroke: #6a6a6a; stroke-width: 4; stroke-linecap: round; fill: none}\npath.nad-arrow-out:not(.nad-state-out .nad-arrow-out) {visibility: hidden}\npath.nad-arrow-in:not(.nad-state-in .nad-arrow-in) {visibility: hidden}\n.nad-active {fill: #546e7a}\n.nad-reactive {fill: #0277bd}\n.nad-current {fill: #bd4802}\n.nad-text-background {flood-color: #90a4aeaa}\n.nad-text-nodes {font: 25px serif; fill: black; dominant-baseline: central}\nforeignObject.nad-text-nodes {overflow: visible; color: black}\n.nad-label-box {background-color: #6c6c6c20; width: max-content; padding: 10px; border-radius: 10px;}\n.nad-legend-square {display: inline-block; margin-right: 10px; width: 20px; height: 20px; background: var(--nad-vl-color, black);}\n.nad-edge-infos text, .nad-edge-label text {font: 20px serif; dominant-baseline:middle; stroke: #FFFFFFAA; stroke-width: 10; stroke-linejoin:round; paint-order: stroke}\n.nad-disconnected {--nad-vl-color: #808080}\n:is(.nad-branch-edges, .nad-3wt-edges, .nad-3wt-nodes) .nad-vl0to30 {--nad-vl-color: #afb42b}\n.nad-vl0to30.nad-bus-0 {--nad-vl-color: #827717}\n.nad-vl0to30.nad-bus-1 {--nad-vl-color: #d4e157}\n.nad-vl0to30.nad-bus-2 {--nad-vl-color: #e6ee9c}\n.nad-vl0to30.nad-bus-3 {--nad-vl-color: #c0ca33}\n.nad-vl0to30.nad-bus-4 {--nad-vl-color: #f0fc83}\n.nad-vl0to30.nad-bus-5 {--nad-vl-color: #9e9d24}\n.nad-vl0to30.nad-bus-6 {--nad-vl-color: #cddc39}\n.nad-vl0to30.nad-bus-7 {--nad-vl-color: #dce775}\n.nad-vl0to30.nad-bus-8 {--nad-vl-color: #ddfc88}\n:is(.nad-branch-edges, .nad-3wt-edges, .nad-3wt-nodes) .nad-vl30to50 {--nad-vl-color: #ef9a9a}\n.nad-vl30to50.nad-bus-0 {--nad-vl-color: #c2185b}\n.nad-vl30to50.nad-bus-1 {--nad-vl-color: #f06292}\n.nad-vl30to50.nad-bus-2 {--nad-vl-color: #d81b60}\n.nad-vl30to50.nad-bus-3 {--nad-vl-color: #ec407a}\n.nad-vl30to50.nad-bus-4 {--nad-vl-color: #880e4f}\n.nad-vl30to50.nad-bus-5 {--nad-vl-color: #ad1457}\n.nad-vl30to50.nad-bus-6 {--nad-vl-color: #e91e63}\n.nad-vl30to50.nad-bus-7 {--nad-vl-color: #f48fb1}\n.nad-vl30to50.nad-bus-8 {--nad-vl-color: #f8bbd0}\n:is(.nad-branch-edges, .nad-3wt-edges, .nad-3wt-nodes) .nad-vl50to70 {--nad-vl-color: #9c27b0}\n.nad-vl50to70.nad-bus-0 {--nad-vl-color: #7b1fa2}\n.nad-vl50to70.nad-bus-1 {--nad-vl-color: #ba68c8}\n.nad-vl50to70.nad-bus-2 {--nad-vl-color: #512da8}\n.nad-vl50to70.nad-bus-3 {--nad-vl-color: #ab47bc}\n.nad-vl50to70.nad-bus-4 {--nad-vl-color: #e1bee7}\n.nad-vl50to70.nad-bus-5 {--nad-vl-color: #6a1b9a}\n.nad-vl50to70.nad-bus-6 {--nad-vl-color: #4a148c}\n.nad-vl50to70.nad-bus-7 {--nad-vl-color: #ce93d8}\n.nad-vl50to70.nad-bus-8 {--nad-vl-color: #9575cd}\n:is(.nad-branch-edges, .nad-3wt-edges, .nad-3wt-nodes) .nad-vl70to120 {--nad-vl-color: #e65100}\n.nad-vl70to120.nad-bus-0 {--nad-vl-color: #fb8c00}\n.nad-vl70to120.nad-bus-1 {--nad-vl-color: #ffb74d}\n.nad-vl70to120.nad-bus-2 {--nad-vl-color: #f57c00}\n.nad-vl70to120.nad-bus-3 {--nad-vl-color: #ffa726}\n.nad-vl70to120.nad-bus-4 {--nad-vl-color: #ffe0b2}\n.nad-vl70to120.nad-bus-5 {--nad-vl-color: #ef6c00}\n.nad-vl70to120.nad-bus-6 {--nad-vl-color: #ff9800}\n.nad-vl70to120.nad-bus-7 {--nad-vl-color: #ffcc80}\n.nad-vl70to120.nad-bus-8 {--nad-vl-color: #fff3e0}\n:is(.nad-branch-edges, .nad-3wt-edges, .nad-3wt-nodes) .nad-vl120to180 {--nad-vl-color: #00ACC1}\n.nad-vl120to180.nad-bus-0 {--nad-vl-color: #4fc3f7}\n.nad-vl120to180.nad-bus-1 {--nad-vl-color: #01579b}\n.nad-vl120to180.nad-bus-2 {--nad-vl-color: #b3e5fc}\n.nad-vl120to180.nad-bus-3 {--nad-vl-color: #039be5}\n.nad-vl120to180.nad-bus-4 {--nad-vl-color: #81d4fa}\n.nad-vl120to180.nad-bus-5 {--nad-vl-color: #0288d1}\n.nad-vl120to180.nad-bus-6 {--nad-vl-color: #29b6f6}\n.nad-vl120to180.nad-bus-7 {--nad-vl-color: #0277bd}\n.nad-vl120to180.nad-bus-8 {--nad-vl-color: #03a9f4}\n:is(.nad-branch-edges, .nad-3wt-edges, .nad-3wt-nodes) .nad-vl180to300 {--nad-vl-color: #2e7d32}\n.nad-vl180to300.nad-bus-0 {--nad-vl-color: #81c784}\n.nad-vl180to300.nad-bus-1 {--nad-vl-color: #558b2f}\n.nad-vl180to300.nad-bus-2 {--nad-vl-color: #c8e6c9}\n.nad-vl180to300.nad-bus-3 {--nad-vl-color: #43a047}\n.nad-vl180to300.nad-bus-4 {--nad-vl-color: #a5d6a7}\n.nad-vl180to300.nad-bus-5 {--nad-vl-color: #388e3c}\n.nad-vl180to300.nad-bus-6 {--nad-vl-color: #66bb6a}\n.nad-vl180to300.nad-bus-7 {--nad-vl-color: #1b5e20}\n.nad-vl180to300.nad-bus-8 {--nad-vl-color: #4caf50}\n:is(.nad-branch-edges, .nad-3wt-edges, .nad-3wt-nodes) .nad-vl300to500 {--nad-vl-color: #d32f2f}\n.nad-vl300to500.nad-bus-0 {--nad-vl-color: #ef5350}\n.nad-vl300to500.nad-bus-1 {--nad-vl-color: #ef9a9a}\n.nad-vl300to500.nad-bus-2 {--nad-vl-color: #b71c1c}\n.nad-vl300to500.nad-bus-3 {--nad-vl-color: #e57373}\n.nad-vl300to500.nad-bus-4 {--nad-vl-color: #e53935}\n.nad-vl300to500.nad-bus-5 {--nad-vl-color: #ff8a80}\n.nad-vl300to500.nad-bus-6 {--nad-vl-color: #f44336}\n.nad-vl300to500.nad-bus-7 {--nad-vl-color: #ffcdd2}\n.nad-vl300to500.nad-bus-8 {--nad-vl-color: #c62828}\n.nad-branch-edges .nad-overload .nad-edge-path {animation: line-blink 3s infinite}\n.nad-vl-nodes .nad-overvoltage {animation: node-over-blink 3s infinite}\n.nad-vl-nodes .nad-undervoltage {animation: node-under-blink 3s infinite}\n.nad-highlight {stroke-width: 25; opacity: 0.2; fill: none;}\n.nad-highlight-0 {stroke: #e6e600;}\n.nad-highlight-1 {stroke: #b300b3;}\n.nad-highlight-2 {stroke: #2eb82e;}\n.nad-highlight-3 {stroke: #e67300;}\n.nad-highlight-4 {stroke: #0000ff;}\n@keyframes line-blink {\n  0%, 80%, 100% {stroke: var(--nad-vl-color, black); stroke-width: 5}\n  40% {stroke: #FFEB3B; stroke-width: 15}\n}\n@keyframes node-over-blink {\n  0%, 80%, 100% {stroke: white; stroke-width: 0}\n  40% {stroke: #ff5722; stroke-width: 15}\n}\n@keyframes node-under-blink {\n  0%, 80%, 100% {stroke: white; stroke-width: 0}\n  40% {stroke: #00BCD4; stroke-width: 15}\n}\n.nad-load {stroke: var(--nad-vl-color, lightgrey); stroke-width: 3; fill: none}\n.nad-battery {stroke: var(--nad-vl-color, lightgrey); stroke-width: 3; fill: none}\n.nad-generator {stroke: var(--nad-vl-color, lightgrey); stroke-width: 3; stroke-linecap: round; fill: none}\n.nad-capacitor {stroke: var(--nad-vl-color, lightgrey); stroke-width: 3; fill: none}\n.nad-inductor {stroke: var(--nad-vl-color, lightgrey); stroke-width: 3; stroke-linejoin: round; stroke-linecap: round; fill: none}\n.nad-svc {stroke: var(--nad-vl-color, lightgrey); stroke-width: 3; stroke-linejoin:round; fill: none}\n.nad-disconnected .nad-load {stroke: lightgrey}\n.nad-disconnected .nad-battery {stroke: lightgrey}\n.nad-disconnected .nad-generator {stroke: lightgrey}\n.nad-disconnected .nad-capacitor {stroke: lightgrey}\n.nad-disconnected .nad-inductor {stroke: lightgrey}\n.nad-disconnected .nad-svc {stroke: lightgrey}\n.nad-unknown {stroke: none; fill: black}\n]]></style>\n    <g class=\"nad-vl-nodes\">\n        <g transform=\"translate(-55.80,-196.10)\" id=\"0\">\n            <circle r=\"27.50\" id=\"1\" class=\"nad-vl300to500 nad-bus-0 nad-busnode\"/>\n        </g>\n        <g transform=\"translate(-321.25,57.51)\" id=\"2\">\n            <circle r=\"27.50\" id=\"3\" class=\"nad-vl300to500 nad-bus-0 nad-busnode\"/>\n        </g>\n        <g transform=\"translate(9.69,138.18)\" id=\"4\">\n            <circle r=\"27.50\" id=\"5\" class=\"nad-vl300to500 nad-bus-0 nad-busnode\"/>\n        </g>\n    </g>\n    <g class=\"nad-branch-edges\">\n        <g id=\"6\">\n            <g id=\"6.1\" class=\"nad-vl300to500\">\n                <polyline class=\"nad-edge-path\" points=\"-75.69,-177.11 -188.53,-69.29\"/>\n                <g class=\"nad-edge-infos\" transform=\"translate(-99.19,-154.65)\">\n                    <g class=\"nad-active nad-state-out\">\n                        <g transform=\"rotate(-133.69)\">\n                            <path class=\"nad-arrow-in\" transform=\"scale(10.00)\" d=\"M-1 -1 H1 L0 1z\"/>\n                            <path class=\"nad-arrow-out\" transform=\"scale(10.00)\" d=\"M-1 1 H1 L0 -1z\"/>\n                        </g>\n                        <text transform=\"rotate(-43.69)\" x=\"-19.00\" style=\"text-anchor:end\">50</text>\n                    </g>\n                </g>\n            </g>\n            <g id=\"6.2\" class=\"nad-vl300to500\">\n                <polyline class=\"nad-edge-path\" points=\"-301.37,38.52 -188.53,-69.29\"/>\n                <g class=\"nad-edge-infos\" transform=\"translate(-277.87,16.07)\">\n                    <g class=\"nad-active nad-state-in\">\n                        <g transform=\"rotate(46.31)\">\n                            <path class=\"nad-arrow-in\" transform=\"scale(10.00)\" d=\"M-1 -1 H1 L0 1z\"/>\n                            <path class=\"nad-arrow-out\" transform=\"scale(10.00)\" d=\"M-1 1 H1 L0 -1z\"/>\n                        </g>\n                        <text transform=\"rotate(-43.69)\" x=\"19.00\">-50</text>\n                    </g>\n                </g>\n            </g>\n        </g>\n        <g id=\"7\">\n            <g id=\"7.1\" class=\"nad-vl300to500\">\n                <polyline class=\"nad-edge-path\" points=\"4.40,111.19 -17.29,0.48\"/>\n                <g class=\"nad-edge-infos\" transform=\"translate(-1.85,79.30)\">\n                    <g class=\"nad-active nad-state-in\">\n                        <g transform=\"rotate(-11.09)\">\n                            <path class=\"nad-arrow-in\" transform=\"scale(10.00)\" d=\"M-1 -1 H1 L0 1z\"/>\n                            <path class=\"nad-arrow-out\" transform=\"scale(10.00)\" d=\"M-1 1 H1 L0 -1z\"/>\n                        </g>\n                        <text transform=\"rotate(-281.09)\" x=\"-19.00\" style=\"text-anchor:end\">-50</text>\n                    </g>\n                </g>\n            </g>\n            <g id=\"7.2\" class=\"nad-vl300to500\">\n                <polyline class=\"nad-edge-path\" points=\"-50.52,-169.12 -28.82,-58.40\"/>\n                <g class=\"nad-edge-infos\" transform=\"translate(-44.27,-137.22)\">\n                    <g class=\"nad-active nad-state-out\">\n                        <g transform=\"rotate(168.91)\">\n                            <path class=\"nad-arrow-in\" transform=\"scale(10.00)\" d=\"M-1 -1 H1 L0 1z\"/>\n                            <path class=\"nad-arrow-out\" transform=\"scale(10.00)\" d=\"M-1 1 H1 L0 -1z\"/>\n                        </g>\n                        <text transform=\"rotate(78.91)\" x=\"19.00\">50</text>\n                    </g>\n                </g>\n            </g>\n            <g>\n                <circle class=\"nad-vl300to500 nad-winding\" cx=\"-21.13\" cy=\"-19.15\" r=\"20.00\"/>\n                <circle class=\"nad-vl300to500 nad-winding\" cx=\"-24.98\" cy=\"-38.78\" r=\"20.00\"/>\n                <path d=\"M60.00,0 0,60.00 M52.00,0 60.00,0 60.00,8.00\" transform=\"matrix(-0.19,-0.98,0.98,-0.19,-46.73,6.25)\" class=\"nad-pst-arrow\"/>\n            </g>\n        </g>\n        <g id=\"8\">\n            <g id=\"8.1\" class=\"nad-vl300to500\">\n                <polyline class=\"nad-edge-path\" points=\"-10.19,119.18 -48.15,82.91 -146.31,58.98\"/>\n                <g class=\"nad-edge-infos\" transform=\"translate(-77.29,75.81)\">\n                    <g class=\"nad-active nad-state-out\">\n                        <g transform=\"rotate(-76.30)\">\n                            <path class=\"nad-arrow-in\" transform=\"scale(10.00)\" d=\"M-1 -1 H1 L0 1z\"/>\n                            <path class=\"nad-arrow-out\" transform=\"scale(10.00)\" d=\"M-1 1 H1 L0 -1z\"/>\n                        </g>\n                        <text transform=\"rotate(-346.30)\" x=\"-19.00\" style=\"text-anchor:end\">50</text>\n                    </g>\n                </g>\n            </g>\n            <g id=\"8.2\" class=\"nad-vl300to500\">\n                <polyline class=\"nad-edge-path\" points=\"-294.86,49.79 -244.47,35.06 -146.31,58.98\"/>\n                <g class=\"nad-edge-infos\" transform=\"translate(-215.32,42.16)\">\n                    <g class=\"nad-active nad-state-in\">\n                        <g transform=\"rotate(103.70)\">\n                            <path class=\"nad-arrow-in\" transform=\"scale(10.00)\" d=\"M-1 -1 H1 L0 1z\"/>\n                            <path class=\"nad-arrow-out\" transform=\"scale(10.00)\" d=\"M-1 1 H1 L0 -1z\"/>\n                        </g>\n                        <text transform=\"rotate(13.70)\" x=\"19.00\">-50</text>\n                    </g>\n                </g>\n            </g>\n        </g>\n        <g id=\"9\">\n            <g id=\"9.1\" class=\"nad-vl300to500\">\n                <polyline class=\"nad-edge-path\" points=\"-16.70,145.90 -67.09,160.63 -165.25,136.71\"/>\n                <g class=\"nad-edge-infos\" transform=\"translate(-96.24,153.53)\">\n                    <g class=\"nad-active nad-state-out\">\n                        <g transform=\"rotate(-76.30)\">\n                            <path class=\"nad-arrow-in\" transform=\"scale(10.00)\" d=\"M-1 -1 H1 L0 1z\"/>\n                            <path class=\"nad-arrow-out\" transform=\"scale(10.00)\" d=\"M-1 1 H1 L0 -1z\"/>\n                        </g>\n                        <text transform=\"rotate(-346.30)\" x=\"-19.00\" style=\"text-anchor:end\">0</text>\n                    </g>\n                </g>\n            </g>\n            <g id=\"9.2\" class=\"nad-disconnected nad-vl300to500\">\n                <polyline class=\"nad-edge-path\" points=\"-301.37,76.51 -263.41,112.78 -165.25,136.71\"/>\n                <g class=\"nad-edge-infos\" transform=\"translate(-234.27,119.89)\">\n                    <g class=\"nad-active nad-state-out\">\n                        <g transform=\"rotate(103.70)\">\n                            <path class=\"nad-arrow-in\" transform=\"scale(10.00)\" d=\"M-1 -1 H1 L0 1z\"/>\n                            <path class=\"nad-arrow-out\" transform=\"scale(10.00)\" d=\"M-1 1 H1 L0 -1z\"/>\n                        </g>\n                        <text transform=\"rotate(13.70)\" x=\"19.00\">0</text>\n                    </g>\n                </g>\n            </g>\n        </g>\n    </g>\n    <g class=\"nad-text-edges\">\n        <polyline id=\"0-textedge\" points=\"-26.14,-200.55 44.20,-211.10\"/>\n        <polyline id=\"2-textedge\" points=\"-291.58,53.06 -221.25,42.51\"/>\n        <polyline id=\"4-textedge\" points=\"39.36,133.73 109.69,123.18\"/>\n    </g>\n    <foreignObject height=\"1\" width=\"1\" class=\"nad-text-nodes\">\n        <div xmlns=\"http://www.w3.org/1999/xhtml\">\n            <div class=\"nad-label-box\" style=\"position: absolute; top: -236px; left: 44px\" id=\"0-textnode\">\n                <div>VL1</div>\n                <div class=\"nad-bus-descr\">\n                    <span class=\"nad-vl300to500 nad-bus-0 nad-legend-square\"/>400.0 kV / 0.0°</div>\n            </div>\n            <div class=\"nad-label-box\" style=\"position: absolute; top: 18px; left: -221px\" id=\"2-textnode\">\n                <div>VL2</div>\n                <div class=\"nad-bus-descr\">\n                    <span class=\"nad-vl300to500 nad-bus-0 nad-legend-square\"/>385.7 kV / -3.7°</div>\n            </div>\n            <div class=\"nad-label-box\" style=\"position: absolute; top: 98px; left: 110px\" id=\"4-textnode\">\n                <div>VL3</div>\n                <div class=\"nad-bus-descr\">\n                    <span class=\"nad-vl300to500 nad-bus-0 nad-legend-square\"/>392.6 kV / -1.8°</div>\n            </div>\n        </div>\n    </foreignObject>\n</svg>\n"
     },
     "execution_count": 13,
     "metadata": {},
     "output_type": "execute_result"
    }
   ],
   "execution_count": 13
  },
  {
   "metadata": {},
   "cell_type": "markdown",
   "source": [
    "The monitoring algorithm is run after a RAO has been run, on a network on which are applied the remedial actions optimized during the RAO to optimize flow CNECs. \n",
    "To relieve Angle/Voltage CNECs, we won't be optimizing remedial actions because modelling the impact of remedial actions on angle/voltage values is highly complex and non linear. Instead, we'll be checking application conditions and applying remedial actions until CNECs are relieved.\n",
    "\n",
    "To run a monitoring, we need to load the following inputs:"
   ],
   "id": "90a656ec77b5fff2"
  },
  {
   "metadata": {
    "ExecuteTime": {
     "end_time": "2025-09-01T13:06:00.785903Z",
     "start_time": "2025-09-01T13:06:00.779812Z"
    }
   },
   "cell_type": "code",
   "source": [
    "parameters = RaoParameters()\n",
    "parameters.load_from_file_source(\"./data/rao/rao_parameters.json\")\n",
    "load_flow_parameters = parameters.loadflow_and_sensitivity_parameters.sensitivity_parameters.load_flow_parameters"
   ],
   "id": "2602f3b7325812ca",
   "outputs": [],
   "execution_count": 14
  },
  {
   "metadata": {
    "ExecuteTime": {
     "end_time": "2025-09-01T13:06:00.858079Z",
     "start_time": "2025-09-01T13:06:00.837794Z"
    }
   },
   "cell_type": "code",
   "source": "",
   "id": "62e8576fcdedacf8",
   "outputs": [
    {
     "name": "stdout",
     "output_type": "stream",
     "text": [
      "{'type': 'RAO_RESULT', 'version': '1.8', 'info': 'Generated by Open RAO https://powsybl.readthedocs.io/projects/openrao', 'computationStatus': 'default', 'executionDetails': 'The RAO only went through first preventive', 'costResults': {'initial': {'functionalCost': -5.0, 'virtualCost': {'sensitivity-failure-cost': 0.0}}, 'preventive': {'functionalCost': -5.0, 'virtualCost': {'sensitivity-failure-cost': 0.0}}, 'outage': {'functionalCost': -5.0, 'virtualCost': {'sensitivity-failure-cost': 0.0}}, 'auto': {'functionalCost': -5.0, 'virtualCost': {'sensitivity-failure-cost': 0.0}}, 'curative': {'functionalCost': -5.0, 'virtualCost': {'sensitivity-failure-cost': 0.0}}}, 'computationStatusMap': [], 'flowCnecResults': [{'flowCnecId': 'cnec1 - curative', 'initial': {'megawatt': {'margin': 5.0, 'side2': {'flow': 0.0}}}, 'preventive': {'megawatt': {'margin': 5.0, 'side2': {'flow': 0.0}}}, 'auto': {'megawatt': {'margin': 5.0, 'side2': {'flow': 0.0}}}, 'curative': {'megawatt': {'margin': 5.0, 'side2': {'flow': 0.0}}}}, {'flowCnecId': 'cnec1 - preventive', 'initial': {'ampere': {'margin': 1.7976931348623157e+308, 'side2': {'flow': 83.68}}, 'megawatt': {'margin': 49.99, 'side2': {'flow': 50.01}}}, 'preventive': {'ampere': {'margin': 1.7976931348623157e+308, 'side2': {'flow': 83.68}}, 'megawatt': {'margin': 49.99, 'side2': {'flow': 50.01}}}}], 'angleCnecResults': [], 'voltageCnecResults': [], 'networkActionResults': [], 'rangeActionResults': []}\n"
     ]
    },
    {
     "data": {
      "text/plain": [
       "      cnec_id     angle    margin\n",
       "index                            \n",
       "1      acCur1 -7.713852 -1.713852"
      ],
      "text/html": [
       "<div>\n",
       "<style scoped>\n",
       "    .dataframe tbody tr th:only-of-type {\n",
       "        vertical-align: middle;\n",
       "    }\n",
       "\n",
       "    .dataframe tbody tr th {\n",
       "        vertical-align: top;\n",
       "    }\n",
       "\n",
       "    .dataframe thead th {\n",
       "        text-align: right;\n",
       "    }\n",
       "</style>\n",
       "<table border=\"1\" class=\"dataframe\">\n",
       "  <thead>\n",
       "    <tr style=\"text-align: right;\">\n",
       "      <th></th>\n",
       "      <th>cnec_id</th>\n",
       "      <th>angle</th>\n",
       "      <th>margin</th>\n",
       "    </tr>\n",
       "    <tr>\n",
       "      <th>index</th>\n",
       "      <th></th>\n",
       "      <th></th>\n",
       "      <th></th>\n",
       "    </tr>\n",
       "  </thead>\n",
       "  <tbody>\n",
       "    <tr>\n",
       "      <th>1</th>\n",
       "      <td>acCur1</td>\n",
       "      <td>-7.713852</td>\n",
       "      <td>-1.713852</td>\n",
       "    </tr>\n",
       "  </tbody>\n",
       "</table>\n",
       "</div>"
      ]
     },
     "execution_count": 15,
     "metadata": {},
     "output_type": "execute_result"
    }
   ],
   "execution_count": 15
  },
  {
   "metadata": {},
   "cell_type": "markdown",
   "source": "As stated previously, first we'll run a rao and save the rao_result. This rao_result will be used to load activated remedial actions during the monitoring module.",
   "id": "c8c25cdba7a37a83"
  },
  {
   "metadata": {
    "ExecuteTime": {
     "end_time": "2025-09-01T13:06:01.006610Z",
     "start_time": "2025-09-01T13:06:01.002935Z"
    }
   },
   "cell_type": "code",
   "source": [
    "rao_runner = pp.rao.create_rao()\n",
    "rao_runner.set_crac_file_source(network, \"./data/rao/angle_monitoring/angle_monitoring_simple_case_with_RA_on_load.json\")"
   ],
   "id": "4e5f0e41497f9f69",
   "outputs": [],
   "execution_count": 16
  },
  {
   "metadata": {
    "ExecuteTime": {
     "end_time": "2025-09-01T13:06:01.050907Z",
     "start_time": "2025-09-01T13:06:01.045945Z"
    }
   },
   "cell_type": "code",
   "source": "rao_result = rao_runner.run(network, parameters)",
   "id": "979b8cf1fa67a46b",
   "outputs": [],
   "execution_count": 17
  },
  {
   "metadata": {},
   "cell_type": "markdown",
   "source": "In this case, no remedial actions were applied during the RAO, the network was already secure.",
   "id": "d0a5624d1e9b3d7"
  },
  {
   "metadata": {},
   "cell_type": "markdown",
   "source": "We'll also need a GLSK file to perform redispatching to balance the network following the application of remedial actions. Angle remedial actions are indeed injection actions on generators or loads. ",
   "id": "ec951ddcb84a44b7"
  },
  {
   "metadata": {
    "ExecuteTime": {
     "end_time": "2025-09-01T13:06:01.075421Z",
     "start_time": "2025-09-01T13:06:01.073032Z"
    }
   },
   "cell_type": "code",
   "source": "rao_runner.set_glsk_file_source(network, \"./data/rao/angle_monitoring/GlskB45test.xml\")",
   "id": "a8e68de35a37a9eb",
   "outputs": [],
   "execution_count": 18
  },
  {
   "metadata": {},
   "cell_type": "markdown",
   "source": "Before running the angle monitoring algorithm, let's look at the angle cnec's situation in the network. As you can see in the crac, AngleCnec acCru1 is defined between exporting element VL2 and importing element VL1, at curative instant after contingency coL1 that disconnects line L1. A minimum threshold is defined at -6°. Let's look at the network after disconnecting L1:",
   "id": "126c2b1ed673c6fc"
  },
  {
   "metadata": {
    "ExecuteTime": {
     "end_time": "2025-09-01T13:06:01.123442Z",
     "start_time": "2025-09-01T13:06:01.114632Z"
    }
   },
   "cell_type": "code",
   "source": [
    "network.disconnect(\"L1\")\n",
    "pp.loadflow.run_ac(network)\n",
    "network.get_network_area_diagram()"
   ],
   "id": "eb94026815d908e7",
   "outputs": [
    {
     "data": {
      "text/plain": [
       "<pypowsybl.network.impl.svg.Svg at 0x77966ddd4550>"
      ],
      "image/svg+xml": "<?xml version=\"1.0\" encoding=\"UTF-8\"?>\n<svg width=\"643.91\" height=\"600.00\" viewBox=\"-521.25 -436.10 830.94 774.28\" xmlns=\"http://www.w3.org/2000/svg\">\n    <style><![CDATA[.nad-branch-edges .nad-edge-path, .nad-3wt-edges .nad-edge-path {stroke: var(--nad-vl-color, lightgrey); stroke-width: 5; fill: none}\n.nad-branch-edges .nad-winding, .nad-3wt-nodes .nad-winding {stroke: var(--nad-vl-color, lightgrey); stroke-width: 5; fill: none}\n.nad-text-edges {stroke: black; stroke-width: 3; stroke-dasharray: 6,7; fill: none}\n.nad-disconnected .nad-edge-path {stroke-dasharray: 10,10}\n.nad-injections .nad-disconnected .nad-edge-path, .nad-injections .nad-disconnected circle {stroke: lightgrey}\n.nad-injections .nad-edge-path {stroke: var(--nad-vl-color, lightgrey); stroke-width: 3; fill: none}\n.nad-injections circle {stroke: var(--nad-vl-color, lightgrey); stroke-width: 3; fill: none}\n.nad-vl-nodes .nad-busnode {fill: var(--nad-vl-color, lightgrey)}\n.nad-vl-nodes circle.nad-unknown-busnode {stroke: var(--nad-vl-color, #808080); stroke-width: 5; stroke-dasharray: 5,5; fill: none}\n.nad-hvdc-edge polyline.nad-hvdc {stroke: grey; stroke-width: 40}\n.nad-branch-edges .nad-tie-line-edge .nad-edge-path {stroke-width: 7}\n.nad-pst-arrow {stroke: #6a6a6a; stroke-width: 4; stroke-linecap: round; fill: none}\npath.nad-arrow-out:not(.nad-state-out .nad-arrow-out) {visibility: hidden}\npath.nad-arrow-in:not(.nad-state-in .nad-arrow-in) {visibility: hidden}\n.nad-active {fill: #546e7a}\n.nad-reactive {fill: #0277bd}\n.nad-current {fill: #bd4802}\n.nad-text-background {flood-color: #90a4aeaa}\n.nad-text-nodes {font: 25px serif; fill: black; dominant-baseline: central}\nforeignObject.nad-text-nodes {overflow: visible; color: black}\n.nad-label-box {background-color: #6c6c6c20; width: max-content; padding: 10px; border-radius: 10px;}\n.nad-legend-square {display: inline-block; margin-right: 10px; width: 20px; height: 20px; background: var(--nad-vl-color, black);}\n.nad-edge-infos text, .nad-edge-label text {font: 20px serif; dominant-baseline:middle; stroke: #FFFFFFAA; stroke-width: 10; stroke-linejoin:round; paint-order: stroke}\n.nad-disconnected {--nad-vl-color: #808080}\n:is(.nad-branch-edges, .nad-3wt-edges, .nad-3wt-nodes) .nad-vl0to30 {--nad-vl-color: #afb42b}\n.nad-vl0to30.nad-bus-0 {--nad-vl-color: #827717}\n.nad-vl0to30.nad-bus-1 {--nad-vl-color: #d4e157}\n.nad-vl0to30.nad-bus-2 {--nad-vl-color: #e6ee9c}\n.nad-vl0to30.nad-bus-3 {--nad-vl-color: #c0ca33}\n.nad-vl0to30.nad-bus-4 {--nad-vl-color: #f0fc83}\n.nad-vl0to30.nad-bus-5 {--nad-vl-color: #9e9d24}\n.nad-vl0to30.nad-bus-6 {--nad-vl-color: #cddc39}\n.nad-vl0to30.nad-bus-7 {--nad-vl-color: #dce775}\n.nad-vl0to30.nad-bus-8 {--nad-vl-color: #ddfc88}\n:is(.nad-branch-edges, .nad-3wt-edges, .nad-3wt-nodes) .nad-vl30to50 {--nad-vl-color: #ef9a9a}\n.nad-vl30to50.nad-bus-0 {--nad-vl-color: #c2185b}\n.nad-vl30to50.nad-bus-1 {--nad-vl-color: #f06292}\n.nad-vl30to50.nad-bus-2 {--nad-vl-color: #d81b60}\n.nad-vl30to50.nad-bus-3 {--nad-vl-color: #ec407a}\n.nad-vl30to50.nad-bus-4 {--nad-vl-color: #880e4f}\n.nad-vl30to50.nad-bus-5 {--nad-vl-color: #ad1457}\n.nad-vl30to50.nad-bus-6 {--nad-vl-color: #e91e63}\n.nad-vl30to50.nad-bus-7 {--nad-vl-color: #f48fb1}\n.nad-vl30to50.nad-bus-8 {--nad-vl-color: #f8bbd0}\n:is(.nad-branch-edges, .nad-3wt-edges, .nad-3wt-nodes) .nad-vl50to70 {--nad-vl-color: #9c27b0}\n.nad-vl50to70.nad-bus-0 {--nad-vl-color: #7b1fa2}\n.nad-vl50to70.nad-bus-1 {--nad-vl-color: #ba68c8}\n.nad-vl50to70.nad-bus-2 {--nad-vl-color: #512da8}\n.nad-vl50to70.nad-bus-3 {--nad-vl-color: #ab47bc}\n.nad-vl50to70.nad-bus-4 {--nad-vl-color: #e1bee7}\n.nad-vl50to70.nad-bus-5 {--nad-vl-color: #6a1b9a}\n.nad-vl50to70.nad-bus-6 {--nad-vl-color: #4a148c}\n.nad-vl50to70.nad-bus-7 {--nad-vl-color: #ce93d8}\n.nad-vl50to70.nad-bus-8 {--nad-vl-color: #9575cd}\n:is(.nad-branch-edges, .nad-3wt-edges, .nad-3wt-nodes) .nad-vl70to120 {--nad-vl-color: #e65100}\n.nad-vl70to120.nad-bus-0 {--nad-vl-color: #fb8c00}\n.nad-vl70to120.nad-bus-1 {--nad-vl-color: #ffb74d}\n.nad-vl70to120.nad-bus-2 {--nad-vl-color: #f57c00}\n.nad-vl70to120.nad-bus-3 {--nad-vl-color: #ffa726}\n.nad-vl70to120.nad-bus-4 {--nad-vl-color: #ffe0b2}\n.nad-vl70to120.nad-bus-5 {--nad-vl-color: #ef6c00}\n.nad-vl70to120.nad-bus-6 {--nad-vl-color: #ff9800}\n.nad-vl70to120.nad-bus-7 {--nad-vl-color: #ffcc80}\n.nad-vl70to120.nad-bus-8 {--nad-vl-color: #fff3e0}\n:is(.nad-branch-edges, .nad-3wt-edges, .nad-3wt-nodes) .nad-vl120to180 {--nad-vl-color: #00ACC1}\n.nad-vl120to180.nad-bus-0 {--nad-vl-color: #4fc3f7}\n.nad-vl120to180.nad-bus-1 {--nad-vl-color: #01579b}\n.nad-vl120to180.nad-bus-2 {--nad-vl-color: #b3e5fc}\n.nad-vl120to180.nad-bus-3 {--nad-vl-color: #039be5}\n.nad-vl120to180.nad-bus-4 {--nad-vl-color: #81d4fa}\n.nad-vl120to180.nad-bus-5 {--nad-vl-color: #0288d1}\n.nad-vl120to180.nad-bus-6 {--nad-vl-color: #29b6f6}\n.nad-vl120to180.nad-bus-7 {--nad-vl-color: #0277bd}\n.nad-vl120to180.nad-bus-8 {--nad-vl-color: #03a9f4}\n:is(.nad-branch-edges, .nad-3wt-edges, .nad-3wt-nodes) .nad-vl180to300 {--nad-vl-color: #2e7d32}\n.nad-vl180to300.nad-bus-0 {--nad-vl-color: #81c784}\n.nad-vl180to300.nad-bus-1 {--nad-vl-color: #558b2f}\n.nad-vl180to300.nad-bus-2 {--nad-vl-color: #c8e6c9}\n.nad-vl180to300.nad-bus-3 {--nad-vl-color: #43a047}\n.nad-vl180to300.nad-bus-4 {--nad-vl-color: #a5d6a7}\n.nad-vl180to300.nad-bus-5 {--nad-vl-color: #388e3c}\n.nad-vl180to300.nad-bus-6 {--nad-vl-color: #66bb6a}\n.nad-vl180to300.nad-bus-7 {--nad-vl-color: #1b5e20}\n.nad-vl180to300.nad-bus-8 {--nad-vl-color: #4caf50}\n:is(.nad-branch-edges, .nad-3wt-edges, .nad-3wt-nodes) .nad-vl300to500 {--nad-vl-color: #d32f2f}\n.nad-vl300to500.nad-bus-0 {--nad-vl-color: #ef5350}\n.nad-vl300to500.nad-bus-1 {--nad-vl-color: #ef9a9a}\n.nad-vl300to500.nad-bus-2 {--nad-vl-color: #b71c1c}\n.nad-vl300to500.nad-bus-3 {--nad-vl-color: #e57373}\n.nad-vl300to500.nad-bus-4 {--nad-vl-color: #e53935}\n.nad-vl300to500.nad-bus-5 {--nad-vl-color: #ff8a80}\n.nad-vl300to500.nad-bus-6 {--nad-vl-color: #f44336}\n.nad-vl300to500.nad-bus-7 {--nad-vl-color: #ffcdd2}\n.nad-vl300to500.nad-bus-8 {--nad-vl-color: #c62828}\n.nad-branch-edges .nad-overload .nad-edge-path {animation: line-blink 3s infinite}\n.nad-vl-nodes .nad-overvoltage {animation: node-over-blink 3s infinite}\n.nad-vl-nodes .nad-undervoltage {animation: node-under-blink 3s infinite}\n.nad-highlight {stroke-width: 25; opacity: 0.2; fill: none;}\n.nad-highlight-0 {stroke: #e6e600;}\n.nad-highlight-1 {stroke: #b300b3;}\n.nad-highlight-2 {stroke: #2eb82e;}\n.nad-highlight-3 {stroke: #e67300;}\n.nad-highlight-4 {stroke: #0000ff;}\n@keyframes line-blink {\n  0%, 80%, 100% {stroke: var(--nad-vl-color, black); stroke-width: 5}\n  40% {stroke: #FFEB3B; stroke-width: 15}\n}\n@keyframes node-over-blink {\n  0%, 80%, 100% {stroke: white; stroke-width: 0}\n  40% {stroke: #ff5722; stroke-width: 15}\n}\n@keyframes node-under-blink {\n  0%, 80%, 100% {stroke: white; stroke-width: 0}\n  40% {stroke: #00BCD4; stroke-width: 15}\n}\n.nad-load {stroke: var(--nad-vl-color, lightgrey); stroke-width: 3; fill: none}\n.nad-battery {stroke: var(--nad-vl-color, lightgrey); stroke-width: 3; fill: none}\n.nad-generator {stroke: var(--nad-vl-color, lightgrey); stroke-width: 3; stroke-linecap: round; fill: none}\n.nad-capacitor {stroke: var(--nad-vl-color, lightgrey); stroke-width: 3; fill: none}\n.nad-inductor {stroke: var(--nad-vl-color, lightgrey); stroke-width: 3; stroke-linejoin: round; stroke-linecap: round; fill: none}\n.nad-svc {stroke: var(--nad-vl-color, lightgrey); stroke-width: 3; stroke-linejoin:round; fill: none}\n.nad-disconnected .nad-load {stroke: lightgrey}\n.nad-disconnected .nad-battery {stroke: lightgrey}\n.nad-disconnected .nad-generator {stroke: lightgrey}\n.nad-disconnected .nad-capacitor {stroke: lightgrey}\n.nad-disconnected .nad-inductor {stroke: lightgrey}\n.nad-disconnected .nad-svc {stroke: lightgrey}\n.nad-unknown {stroke: none; fill: black}\n]]></style>\n    <g class=\"nad-vl-nodes\">\n        <g transform=\"translate(-55.80,-196.10)\" id=\"0\">\n            <circle r=\"27.50\" id=\"1\" class=\"nad-vl300to500 nad-bus-0 nad-busnode\"/>\n        </g>\n        <g transform=\"translate(-321.25,57.51)\" id=\"2\">\n            <circle r=\"27.50\" id=\"3\" class=\"nad-vl300to500 nad-bus-0 nad-busnode\"/>\n        </g>\n        <g transform=\"translate(9.69,138.18)\" id=\"4\">\n            <circle r=\"27.50\" id=\"5\" class=\"nad-vl300to500 nad-bus-0 nad-busnode\"/>\n        </g>\n    </g>\n    <g class=\"nad-branch-edges\">\n        <g id=\"6\" class=\"nad-disconnected\">\n            <g id=\"6.1\" class=\"nad-disconnected nad-vl300to500\">\n                <polyline class=\"nad-edge-path\" points=\"-75.69,-177.11 -188.53,-69.29\"/>\n                <g class=\"nad-edge-infos\" transform=\"translate(-99.19,-154.65)\">\n                    <g class=\"nad-active\">\n                        <g transform=\"rotate(-133.69)\">\n                            <path class=\"nad-arrow-in\" transform=\"scale(10.00)\" d=\"M-1 -1 H1 L0 1z\"/>\n                            <path class=\"nad-arrow-out\" transform=\"scale(10.00)\" d=\"M-1 1 H1 L0 -1z\"/>\n                        </g>\n                        <text transform=\"rotate(-43.69)\" x=\"-19.00\" style=\"text-anchor:end\"></text>\n                    </g>\n                </g>\n            </g>\n            <g id=\"6.2\" class=\"nad-disconnected nad-vl300to500\">\n                <polyline class=\"nad-edge-path\" points=\"-301.37,38.52 -188.53,-69.29\"/>\n                <g class=\"nad-edge-infos\" transform=\"translate(-277.87,16.07)\">\n                    <g class=\"nad-active\">\n                        <g transform=\"rotate(46.31)\">\n                            <path class=\"nad-arrow-in\" transform=\"scale(10.00)\" d=\"M-1 -1 H1 L0 1z\"/>\n                            <path class=\"nad-arrow-out\" transform=\"scale(10.00)\" d=\"M-1 1 H1 L0 -1z\"/>\n                        </g>\n                        <text transform=\"rotate(-43.69)\" x=\"19.00\"></text>\n                    </g>\n                </g>\n            </g>\n        </g>\n        <g id=\"7\">\n            <g id=\"7.1\" class=\"nad-vl300to500\">\n                <polyline class=\"nad-edge-path\" points=\"4.40,111.19 -17.29,0.48\"/>\n                <g class=\"nad-edge-infos\" transform=\"translate(-1.85,79.30)\">\n                    <g class=\"nad-active nad-state-in\">\n                        <g transform=\"rotate(-11.09)\">\n                            <path class=\"nad-arrow-in\" transform=\"scale(10.00)\" d=\"M-1 -1 H1 L0 1z\"/>\n                            <path class=\"nad-arrow-out\" transform=\"scale(10.00)\" d=\"M-1 1 H1 L0 -1z\"/>\n                        </g>\n                        <text transform=\"rotate(-281.09)\" x=\"-19.00\" style=\"text-anchor:end\">-100</text>\n                    </g>\n                </g>\n            </g>\n            <g id=\"7.2\" class=\"nad-vl300to500\">\n                <polyline class=\"nad-edge-path\" points=\"-50.52,-169.12 -28.82,-58.40\"/>\n                <g class=\"nad-edge-infos\" transform=\"translate(-44.27,-137.22)\">\n                    <g class=\"nad-active nad-state-out\">\n                        <g transform=\"rotate(168.91)\">\n                            <path class=\"nad-arrow-in\" transform=\"scale(10.00)\" d=\"M-1 -1 H1 L0 1z\"/>\n                            <path class=\"nad-arrow-out\" transform=\"scale(10.00)\" d=\"M-1 1 H1 L0 -1z\"/>\n                        </g>\n                        <text transform=\"rotate(78.91)\" x=\"19.00\">100</text>\n                    </g>\n                </g>\n            </g>\n            <g>\n                <circle class=\"nad-vl300to500 nad-winding\" cx=\"-21.13\" cy=\"-19.15\" r=\"20.00\"/>\n                <circle class=\"nad-vl300to500 nad-winding\" cx=\"-24.98\" cy=\"-38.78\" r=\"20.00\"/>\n                <path d=\"M60.00,0 0,60.00 M52.00,0 60.00,0 60.00,8.00\" transform=\"matrix(-0.19,-0.98,0.98,-0.19,-46.73,6.25)\" class=\"nad-pst-arrow\"/>\n            </g>\n        </g>\n        <g id=\"8\">\n            <g id=\"8.1\" class=\"nad-vl300to500\">\n                <polyline class=\"nad-edge-path\" points=\"-10.19,119.18 -48.15,82.91 -146.31,58.98\"/>\n                <g class=\"nad-edge-infos\" transform=\"translate(-77.29,75.81)\">\n                    <g class=\"nad-active nad-state-out\">\n                        <g transform=\"rotate(-76.30)\">\n                            <path class=\"nad-arrow-in\" transform=\"scale(10.00)\" d=\"M-1 -1 H1 L0 1z\"/>\n                            <path class=\"nad-arrow-out\" transform=\"scale(10.00)\" d=\"M-1 1 H1 L0 -1z\"/>\n                        </g>\n                        <text transform=\"rotate(-346.30)\" x=\"-19.00\" style=\"text-anchor:end\">100</text>\n                    </g>\n                </g>\n            </g>\n            <g id=\"8.2\" class=\"nad-vl300to500\">\n                <polyline class=\"nad-edge-path\" points=\"-294.86,49.79 -244.47,35.06 -146.31,58.98\"/>\n                <g class=\"nad-edge-infos\" transform=\"translate(-215.32,42.16)\">\n                    <g class=\"nad-active nad-state-in\">\n                        <g transform=\"rotate(103.70)\">\n                            <path class=\"nad-arrow-in\" transform=\"scale(10.00)\" d=\"M-1 -1 H1 L0 1z\"/>\n                            <path class=\"nad-arrow-out\" transform=\"scale(10.00)\" d=\"M-1 1 H1 L0 -1z\"/>\n                        </g>\n                        <text transform=\"rotate(13.70)\" x=\"19.00\">-100</text>\n                    </g>\n                </g>\n            </g>\n        </g>\n        <g id=\"9\">\n            <g id=\"9.1\" class=\"nad-vl300to500\">\n                <polyline class=\"nad-edge-path\" points=\"-16.70,145.90 -67.09,160.63 -165.25,136.71\"/>\n                <g class=\"nad-edge-infos\" transform=\"translate(-96.24,153.53)\">\n                    <g class=\"nad-active nad-state-out\">\n                        <g transform=\"rotate(-76.30)\">\n                            <path class=\"nad-arrow-in\" transform=\"scale(10.00)\" d=\"M-1 -1 H1 L0 1z\"/>\n                            <path class=\"nad-arrow-out\" transform=\"scale(10.00)\" d=\"M-1 1 H1 L0 -1z\"/>\n                        </g>\n                        <text transform=\"rotate(-346.30)\" x=\"-19.00\" style=\"text-anchor:end\">0</text>\n                    </g>\n                </g>\n            </g>\n            <g id=\"9.2\" class=\"nad-disconnected nad-vl300to500\">\n                <polyline class=\"nad-edge-path\" points=\"-301.37,76.51 -263.41,112.78 -165.25,136.71\"/>\n                <g class=\"nad-edge-infos\" transform=\"translate(-234.27,119.89)\">\n                    <g class=\"nad-active nad-state-out\">\n                        <g transform=\"rotate(103.70)\">\n                            <path class=\"nad-arrow-in\" transform=\"scale(10.00)\" d=\"M-1 -1 H1 L0 1z\"/>\n                            <path class=\"nad-arrow-out\" transform=\"scale(10.00)\" d=\"M-1 1 H1 L0 -1z\"/>\n                        </g>\n                        <text transform=\"rotate(13.70)\" x=\"19.00\">0</text>\n                    </g>\n                </g>\n            </g>\n        </g>\n    </g>\n    <g class=\"nad-text-edges\">\n        <polyline id=\"0-textedge\" points=\"-26.14,-200.55 44.20,-211.10\"/>\n        <polyline id=\"2-textedge\" points=\"-291.58,53.06 -221.25,42.51\"/>\n        <polyline id=\"4-textedge\" points=\"39.36,133.73 109.69,123.18\"/>\n    </g>\n    <foreignObject height=\"1\" width=\"1\" class=\"nad-text-nodes\">\n        <div xmlns=\"http://www.w3.org/1999/xhtml\">\n            <div class=\"nad-label-box\" style=\"position: absolute; top: -236px; left: 44px\" id=\"0-textnode\">\n                <div>VL1</div>\n                <div class=\"nad-bus-descr\">\n                    <span class=\"nad-vl300to500 nad-bus-0 nad-legend-square\"/>400.0 kV / 0.0°</div>\n            </div>\n            <div class=\"nad-label-box\" style=\"position: absolute; top: 18px; left: -221px\" id=\"2-textnode\">\n                <div>VL2</div>\n                <div class=\"nad-bus-descr\">\n                    <span class=\"nad-vl300to500 nad-bus-0 nad-legend-square\"/>368.1 kV / -7.7°</div>\n            </div>\n            <div class=\"nad-label-box\" style=\"position: absolute; top: 98px; left: 110px\" id=\"4-textnode\">\n                <div>VL3</div>\n                <div class=\"nad-bus-descr\">\n                    <span class=\"nad-vl300to500 nad-bus-0 nad-legend-square\"/>383.2 kV / -3.7°</div>\n            </div>\n        </div>\n    </foreignObject>\n</svg>\n"
     },
     "execution_count": 19,
     "metadata": {},
     "output_type": "execute_result"
    }
   ],
   "execution_count": 19
  },
  {
   "metadata": {
    "ExecuteTime": {
     "end_time": "2025-09-01T13:06:01.168648Z",
     "start_time": "2025-09-01T13:06:01.165303Z"
    }
   },
   "cell_type": "code",
   "source": "network.connect(\"L1\")",
   "id": "337c3b32db277f93",
   "outputs": [
    {
     "data": {
      "text/plain": [
       "True"
      ]
     },
     "execution_count": 20,
     "metadata": {},
     "output_type": "execute_result"
    }
   ],
   "execution_count": 20
  },
  {
   "metadata": {},
   "cell_type": "markdown",
   "source": [
    "AngleCnec is unsecure acCur1 is unsecure with an angle of -4 - 3.7 = -7.7 < -6°.\n",
    "Now let's run the angle monitoring algorithm."
   ],
   "id": "308a0b8c33bc09de"
  },
  {
   "metadata": {
    "ExecuteTime": {
     "end_time": "2025-09-01T13:06:01.225967Z",
     "start_time": "2025-09-01T13:06:01.217653Z"
    }
   },
   "cell_type": "code",
   "source": [
    "result_with_angle_monitoring = rao_runner.run_angle_monitoring(network, rao_result, load_flow_parameters, \"OpenLoadFlow\")\n",
    "df_angle_cnecs = result_with_angle_monitoring.get_angle_cnec_results()\n",
    "df_angle_cnecs[['cnec_id', 'angle', 'margin']]"
   ],
   "id": "3a8f9fc4911af245",
   "outputs": [
    {
     "data": {
      "text/plain": [
       "      cnec_id     angle    margin\n",
       "index                            \n",
       "2      acCur1 -3.783208  2.216792"
      ],
      "text/html": [
       "<div>\n",
       "<style scoped>\n",
       "    .dataframe tbody tr th:only-of-type {\n",
       "        vertical-align: middle;\n",
       "    }\n",
       "\n",
       "    .dataframe tbody tr th {\n",
       "        vertical-align: top;\n",
       "    }\n",
       "\n",
       "    .dataframe thead th {\n",
       "        text-align: right;\n",
       "    }\n",
       "</style>\n",
       "<table border=\"1\" class=\"dataframe\">\n",
       "  <thead>\n",
       "    <tr style=\"text-align: right;\">\n",
       "      <th></th>\n",
       "      <th>cnec_id</th>\n",
       "      <th>angle</th>\n",
       "      <th>margin</th>\n",
       "    </tr>\n",
       "    <tr>\n",
       "      <th>index</th>\n",
       "      <th></th>\n",
       "      <th></th>\n",
       "      <th></th>\n",
       "    </tr>\n",
       "  </thead>\n",
       "  <tbody>\n",
       "    <tr>\n",
       "      <th>2</th>\n",
       "      <td>acCur1</td>\n",
       "      <td>-3.783208</td>\n",
       "      <td>2.216792</td>\n",
       "    </tr>\n",
       "  </tbody>\n",
       "</table>\n",
       "</div>"
      ]
     },
     "execution_count": 21,
     "metadata": {},
     "output_type": "execute_result"
    }
   ],
   "execution_count": 21
  },
  {
   "cell_type": "markdown",
   "id": "624e989b754dc4c6",
   "metadata": {},
   "source": [
    "During the monitoring algorithm, a network action was applied, setting load LD2's value to 50 MW. The monitoring algorithm tried to perform the opposite redispatching action to maintain network balance, but scaling failed in our case, most likely because the network is so small. Balance was achieved during load flow computation via slack redistribution. \n",
    "Applied network action made AngleCnec acCur1 secure, by shifting its' angle from -7.7° to -3.8°.\n",
    "\n",
    "Only load actions and generator actions can be used to relieve angle cnecs. In the following example, a topological action is defined (open L3) but it isn't even considered to relieve AngleCnec acCur1."
   ]
  },
  {
   "metadata": {
    "ExecuteTime": {
     "end_time": "2025-09-01T13:06:01.288224Z",
     "start_time": "2025-09-01T13:06:01.286979Z"
    }
   },
   "cell_type": "code",
   "source": [
    "network_2 = pp.network.load(\"./data/rao/angle_monitoring/network.xiidm\")\n",
    "rao_runner_2 = pp.rao.create_rao()\n",
    "rao_runner_2.set_crac_file_source(network_2, \"./data/rao/angle_monitoring/angle_monitoring_simple_case_with_topo.json\")\n",
    "rao_result_2 = rao_runner_2.run(network_2, parameters)\n",
    "print(rao_result_2.to_json())\n",
    "rao_runner_2.set_glsk_file_source(network_2, \"./data/rao/angle_monitoring/GlskB45test.xml\")\n",
    "result_with_angle_monitoring_2 = rao_runner_2.run_angle_monitoring(network_2, rao_result_2, load_flow_parameters, \"OpenLoadFlow\")\n",
    "df_angle_cnecs_2 = result_with_angle_monitoring_2.get_angle_cnec_results()\n",
    "df_angle_cnecs_2[['cnec_id', 'angle', 'margin']]"
   ],
   "id": "8ecc842841490184",
   "outputs": [],
   "execution_count": null
  },
  {
   "metadata": {
    "ExecuteTime": {
     "end_time": "2025-09-01T13:06:01.336241Z",
     "start_time": "2025-09-01T13:06:01.333121Z"
    }
   },
   "cell_type": "code",
   "source": "",
   "id": "3caddf0e6ed1d7e0",
   "outputs": [],
   "execution_count": null
  },
  {
   "cell_type": "markdown",
   "id": "78577c35",
   "metadata": {},
   "source": "## II) VOLTAGE MONITORING"
  },
  {
   "cell_type": "code",
   "id": "74e054af",
   "metadata": {
    "ExecuteTime": {
     "end_time": "2025-09-01T13:06:01.456028Z",
     "start_time": "2025-09-01T13:06:01.454394Z"
    }
   },
   "source": "",
   "outputs": [],
   "execution_count": null
  }
 ],
 "metadata": {
  "kernelspec": {
   "display_name": "Python 3",
   "language": "python",
   "name": "python3"
  },
  "language_info": {
   "codemirror_mode": {
    "name": "ipython",
    "version": 3
   },
   "file_extension": ".py",
   "mimetype": "text/x-python",
   "name": "python",
   "nbconvert_exporter": "python",
   "pygments_lexer": "ipython3",
   "version": "3.10.12"
  }
 },
 "nbformat": 4,
 "nbformat_minor": 5
}
