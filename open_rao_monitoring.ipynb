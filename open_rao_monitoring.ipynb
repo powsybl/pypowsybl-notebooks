{
 "cells": [
  {
   "cell_type": "markdown",
   "id": "2fdb50ba",
   "metadata": {},
   "source": [
    "# Angle Monitoring in PowSyBl OpenRAO"
   ]
  },
  {
   "cell_type": "markdown",
   "id": "efa399e1",
   "metadata": {},
   "source": [
    "PowSyBl OpenRAO main purpose is to determine an optimal combination of remedial actions to apply on a power grid in order to remove overloads on every line. This optimization is flow-oriented. However, OpenRAO also provides a **monitoring** module that is able to check **voltage and angle constraints** and activate remedial actions."
   ]
  },
  {
   "cell_type": "code",
   "execution_count": 2,
   "id": "initial_id",
   "metadata": {
    "ExecuteTime": {
     "end_time": "2025-08-22T12:32:17.831809Z",
     "start_time": "2025-08-22T12:32:17.829502Z"
    },
    "collapsed": true
   },
   "outputs": [],
   "source": [
    "#pip install pypowsybl==1.12.0\n",
    "# set up logging\n",
    "import logging\n",
    "logging.getLogger('powsybl').setLevel(logging.DEBUG)\n",
    "logging.basicConfig(format='%(asctime)s - %(levelname)s - %(message)s')"
   ]
  },
  {
   "cell_type": "code",
   "execution_count": 3,
   "id": "4689861f15ffc23c",
   "metadata": {
    "ExecuteTime": {
     "end_time": "2025-08-22T12:32:20.830216Z",
     "start_time": "2025-08-22T12:32:20.828106Z"
    }
   },
   "outputs": [
    {
     "name": "stderr",
     "output_type": "stream",
     "text": [
      "2025-08-27 10:04:34,629 - DEBUG - Max heap is 8008 MB\n"
     ]
    }
   ],
   "source": [
    "import pypowsybl as pp\n",
    "from pypowsybl.rao import Parameters as RaoParameters\n",
    "\n",
    "\n"
   ]
  },
  {
   "cell_type": "code",
   "execution_count": 4,
   "id": "e02c6f39998e2d2e",
   "metadata": {},
   "outputs": [],
   "source": [
    "# # Simple case with GlskB45test\n",
    "# 1) simple cse with topo\n",
    "#     2) simple case with injection : solves angle cnecs constraints\n",
    "# 3) micro grid case\n"
   ]
  },
  {
   "cell_type": "code",
   "execution_count": 5,
   "id": "36289c2d67cf8b64",
   "metadata": {},
   "outputs": [],
   "source": [
    "# MicroGrid case with GlskB45MicroGridTest"
   ]
  },
  {
   "cell_type": "code",
   "execution_count": 6,
   "id": "52f199b7",
   "metadata": {},
   "outputs": [
    {
     "name": "stderr",
     "output_type": "stream",
     "text": [
      "2025-08-27 10:04:34,658 - INFO - Using platform configuration provider classic\n",
      "2025-08-27 10:04:34,658 - INFO - Platform configuration defined by YAML file /home/bouquettho/.itools/config.yml\n",
      "2025-08-27 10:04:34,661 - INFO - LocalComputationConfig [localDir=/tmp, availableCore=8]\n",
      "2025-08-27 10:04:34,663 - INFO - Configuring StAX XMLInputFactory...\n",
      "2025-08-27 10:04:34,664 - INFO - Some properties may not be supported by your implementation.\n",
      "2025-08-27 10:04:34,665 - INFO - This may not be a problem because some are overlapping.\n",
      "2025-08-27 10:04:34,666 - INFO - - Property unsupported by StAX implementation: http://javax.xml.XMLConstants/property/accessExternalStylesheet\n",
      "2025-08-27 10:04:34,667 - INFO - - Property unsupported by StAX implementation: http://javax.xml.XMLConstants/feature/secure-processing\n",
      "2025-08-27 10:04:34,672 - DEBUG - XIIDM import done in 3 ms\n",
      "2025-08-27 10:04:34,673 - INFO - Loading component library from /DefaultLibrary...\n",
      "2025-08-27 10:04:34,679 - DEBUG - Reading subComponent /DefaultLibrary/load.svg\n",
      "2025-08-27 10:04:34,680 - DEBUG - Reading subComponent /DefaultLibrary/battery.svg\n",
      "2025-08-27 10:04:34,681 - DEBUG - Reading subComponent /DefaultLibrary/generator.svg\n",
      "2025-08-27 10:04:34,682 - DEBUG - Reading subComponent /DefaultLibrary/capacitor.svg\n",
      "2025-08-27 10:04:34,682 - DEBUG - Reading subComponent /DefaultLibrary/inductor.svg\n",
      "2025-08-27 10:04:34,683 - DEBUG - Reading subComponent /DefaultLibrary/svc.svg\n",
      "2025-08-27 10:04:34,683 - DEBUG - Reading subComponent /DefaultLibrary/unknown-component.svg\n",
      "2025-08-27 10:04:34,684 - INFO - Loading component library from /DefaultLibrary...\n",
      "2025-08-27 10:04:34,686 - DEBUG - Reading subComponent /DefaultLibrary/load.svg\n",
      "2025-08-27 10:04:34,686 - DEBUG - Reading subComponent /DefaultLibrary/battery.svg\n",
      "2025-08-27 10:04:34,687 - DEBUG - Reading subComponent /DefaultLibrary/generator.svg\n",
      "2025-08-27 10:04:34,688 - DEBUG - Reading subComponent /DefaultLibrary/capacitor.svg\n",
      "2025-08-27 10:04:34,688 - DEBUG - Reading subComponent /DefaultLibrary/inductor.svg\n",
      "2025-08-27 10:04:34,689 - DEBUG - Reading subComponent /DefaultLibrary/svc.svg\n",
      "2025-08-27 10:04:34,690 - DEBUG - Reading subComponent /DefaultLibrary/unknown-component.svg\n",
      "2025-08-27 10:04:34,690 - INFO - Number of steps: 139\n",
      "2025-08-27 10:04:34,691 - INFO - Elapsed time: 1.47836E-4\n",
      "2025-08-27 10:04:34,691 - WARNING - Base voltage configuration file '/home/bouquettho/.itools/base-voltages.yml' not found, trying to load file 'base-voltages.yml' from resources\n"
     ]
    },
    {
     "data": {
      "image/svg+xml": [
       "<?xml version=\"1.0\" encoding=\"UTF-8\"?>\n",
       "<svg width=\"643.91\" height=\"600.00\" viewBox=\"-521.25 -436.10 830.94 774.28\" xmlns=\"http://www.w3.org/2000/svg\">\n",
       "    <style><![CDATA[.nad-branch-edges .nad-edge-path, .nad-3wt-edges .nad-edge-path {stroke: var(--nad-vl-color, lightgrey); stroke-width: 5; fill: none}\n",
       ".nad-branch-edges .nad-winding, .nad-3wt-nodes .nad-winding {stroke: var(--nad-vl-color, lightgrey); stroke-width: 5; fill: none}\n",
       ".nad-text-edges {stroke: black; stroke-width: 3; stroke-dasharray: 6,7; fill: none}\n",
       ".nad-disconnected .nad-edge-path {stroke-dasharray: 10,10}\n",
       ".nad-injections .nad-disconnected .nad-edge-path, .nad-injections .nad-disconnected circle {stroke: lightgrey}\n",
       ".nad-injections .nad-edge-path {stroke: var(--nad-vl-color, lightgrey); stroke-width: 3; fill: none}\n",
       ".nad-injections circle {stroke: var(--nad-vl-color, lightgrey); stroke-width: 3; fill: none}\n",
       ".nad-vl-nodes .nad-busnode {fill: var(--nad-vl-color, lightgrey)}\n",
       ".nad-vl-nodes circle.nad-unknown-busnode {stroke: var(--nad-vl-color, #808080); stroke-width: 5; stroke-dasharray: 5,5; fill: none}\n",
       ".nad-hvdc-edge polyline.nad-hvdc {stroke: grey; stroke-width: 40}\n",
       ".nad-branch-edges .nad-tie-line-edge .nad-edge-path {stroke-width: 7}\n",
       ".nad-pst-arrow {stroke: #6a6a6a; stroke-width: 4; stroke-linecap: round; fill: none}\n",
       "path.nad-arrow-out:not(.nad-state-out .nad-arrow-out) {visibility: hidden}\n",
       "path.nad-arrow-in:not(.nad-state-in .nad-arrow-in) {visibility: hidden}\n",
       ".nad-active {fill: #546e7a}\n",
       ".nad-reactive {fill: #0277bd}\n",
       ".nad-current {fill: #bd4802}\n",
       ".nad-text-background {flood-color: #90a4aeaa}\n",
       ".nad-text-nodes {font: 25px serif; fill: black; dominant-baseline: central}\n",
       "foreignObject.nad-text-nodes {overflow: visible; color: black}\n",
       ".nad-label-box {background-color: #6c6c6c20; width: max-content; padding: 10px; border-radius: 10px;}\n",
       ".nad-legend-square {display: inline-block; margin-right: 10px; width: 20px; height: 20px; background: var(--nad-vl-color, black);}\n",
       ".nad-edge-infos text, .nad-edge-label text {font: 20px serif; dominant-baseline:middle; stroke: #FFFFFFAA; stroke-width: 10; stroke-linejoin:round; paint-order: stroke}\n",
       ".nad-disconnected {--nad-vl-color: #808080}\n",
       ":is(.nad-branch-edges, .nad-3wt-edges, .nad-3wt-nodes) .nad-vl0to30 {--nad-vl-color: #afb42b}\n",
       ".nad-vl0to30.nad-bus-0 {--nad-vl-color: #827717}\n",
       ".nad-vl0to30.nad-bus-1 {--nad-vl-color: #d4e157}\n",
       ".nad-vl0to30.nad-bus-2 {--nad-vl-color: #e6ee9c}\n",
       ".nad-vl0to30.nad-bus-3 {--nad-vl-color: #c0ca33}\n",
       ".nad-vl0to30.nad-bus-4 {--nad-vl-color: #f0fc83}\n",
       ".nad-vl0to30.nad-bus-5 {--nad-vl-color: #9e9d24}\n",
       ".nad-vl0to30.nad-bus-6 {--nad-vl-color: #cddc39}\n",
       ".nad-vl0to30.nad-bus-7 {--nad-vl-color: #dce775}\n",
       ".nad-vl0to30.nad-bus-8 {--nad-vl-color: #ddfc88}\n",
       ":is(.nad-branch-edges, .nad-3wt-edges, .nad-3wt-nodes) .nad-vl30to50 {--nad-vl-color: #ef9a9a}\n",
       ".nad-vl30to50.nad-bus-0 {--nad-vl-color: #c2185b}\n",
       ".nad-vl30to50.nad-bus-1 {--nad-vl-color: #f06292}\n",
       ".nad-vl30to50.nad-bus-2 {--nad-vl-color: #d81b60}\n",
       ".nad-vl30to50.nad-bus-3 {--nad-vl-color: #ec407a}\n",
       ".nad-vl30to50.nad-bus-4 {--nad-vl-color: #880e4f}\n",
       ".nad-vl30to50.nad-bus-5 {--nad-vl-color: #ad1457}\n",
       ".nad-vl30to50.nad-bus-6 {--nad-vl-color: #e91e63}\n",
       ".nad-vl30to50.nad-bus-7 {--nad-vl-color: #f48fb1}\n",
       ".nad-vl30to50.nad-bus-8 {--nad-vl-color: #f8bbd0}\n",
       ":is(.nad-branch-edges, .nad-3wt-edges, .nad-3wt-nodes) .nad-vl50to70 {--nad-vl-color: #9c27b0}\n",
       ".nad-vl50to70.nad-bus-0 {--nad-vl-color: #7b1fa2}\n",
       ".nad-vl50to70.nad-bus-1 {--nad-vl-color: #ba68c8}\n",
       ".nad-vl50to70.nad-bus-2 {--nad-vl-color: #512da8}\n",
       ".nad-vl50to70.nad-bus-3 {--nad-vl-color: #ab47bc}\n",
       ".nad-vl50to70.nad-bus-4 {--nad-vl-color: #e1bee7}\n",
       ".nad-vl50to70.nad-bus-5 {--nad-vl-color: #6a1b9a}\n",
       ".nad-vl50to70.nad-bus-6 {--nad-vl-color: #4a148c}\n",
       ".nad-vl50to70.nad-bus-7 {--nad-vl-color: #ce93d8}\n",
       ".nad-vl50to70.nad-bus-8 {--nad-vl-color: #9575cd}\n",
       ":is(.nad-branch-edges, .nad-3wt-edges, .nad-3wt-nodes) .nad-vl70to120 {--nad-vl-color: #e65100}\n",
       ".nad-vl70to120.nad-bus-0 {--nad-vl-color: #fb8c00}\n",
       ".nad-vl70to120.nad-bus-1 {--nad-vl-color: #ffb74d}\n",
       ".nad-vl70to120.nad-bus-2 {--nad-vl-color: #f57c00}\n",
       ".nad-vl70to120.nad-bus-3 {--nad-vl-color: #ffa726}\n",
       ".nad-vl70to120.nad-bus-4 {--nad-vl-color: #ffe0b2}\n",
       ".nad-vl70to120.nad-bus-5 {--nad-vl-color: #ef6c00}\n",
       ".nad-vl70to120.nad-bus-6 {--nad-vl-color: #ff9800}\n",
       ".nad-vl70to120.nad-bus-7 {--nad-vl-color: #ffcc80}\n",
       ".nad-vl70to120.nad-bus-8 {--nad-vl-color: #fff3e0}\n",
       ":is(.nad-branch-edges, .nad-3wt-edges, .nad-3wt-nodes) .nad-vl120to180 {--nad-vl-color: #00ACC1}\n",
       ".nad-vl120to180.nad-bus-0 {--nad-vl-color: #4fc3f7}\n",
       ".nad-vl120to180.nad-bus-1 {--nad-vl-color: #01579b}\n",
       ".nad-vl120to180.nad-bus-2 {--nad-vl-color: #b3e5fc}\n",
       ".nad-vl120to180.nad-bus-3 {--nad-vl-color: #039be5}\n",
       ".nad-vl120to180.nad-bus-4 {--nad-vl-color: #81d4fa}\n",
       ".nad-vl120to180.nad-bus-5 {--nad-vl-color: #0288d1}\n",
       ".nad-vl120to180.nad-bus-6 {--nad-vl-color: #29b6f6}\n",
       ".nad-vl120to180.nad-bus-7 {--nad-vl-color: #0277bd}\n",
       ".nad-vl120to180.nad-bus-8 {--nad-vl-color: #03a9f4}\n",
       ":is(.nad-branch-edges, .nad-3wt-edges, .nad-3wt-nodes) .nad-vl180to300 {--nad-vl-color: #2e7d32}\n",
       ".nad-vl180to300.nad-bus-0 {--nad-vl-color: #81c784}\n",
       ".nad-vl180to300.nad-bus-1 {--nad-vl-color: #558b2f}\n",
       ".nad-vl180to300.nad-bus-2 {--nad-vl-color: #c8e6c9}\n",
       ".nad-vl180to300.nad-bus-3 {--nad-vl-color: #43a047}\n",
       ".nad-vl180to300.nad-bus-4 {--nad-vl-color: #a5d6a7}\n",
       ".nad-vl180to300.nad-bus-5 {--nad-vl-color: #388e3c}\n",
       ".nad-vl180to300.nad-bus-6 {--nad-vl-color: #66bb6a}\n",
       ".nad-vl180to300.nad-bus-7 {--nad-vl-color: #1b5e20}\n",
       ".nad-vl180to300.nad-bus-8 {--nad-vl-color: #4caf50}\n",
       ":is(.nad-branch-edges, .nad-3wt-edges, .nad-3wt-nodes) .nad-vl300to500 {--nad-vl-color: #d32f2f}\n",
       ".nad-vl300to500.nad-bus-0 {--nad-vl-color: #ef5350}\n",
       ".nad-vl300to500.nad-bus-1 {--nad-vl-color: #ef9a9a}\n",
       ".nad-vl300to500.nad-bus-2 {--nad-vl-color: #b71c1c}\n",
       ".nad-vl300to500.nad-bus-3 {--nad-vl-color: #e57373}\n",
       ".nad-vl300to500.nad-bus-4 {--nad-vl-color: #e53935}\n",
       ".nad-vl300to500.nad-bus-5 {--nad-vl-color: #ff8a80}\n",
       ".nad-vl300to500.nad-bus-6 {--nad-vl-color: #f44336}\n",
       ".nad-vl300to500.nad-bus-7 {--nad-vl-color: #ffcdd2}\n",
       ".nad-vl300to500.nad-bus-8 {--nad-vl-color: #c62828}\n",
       ".nad-branch-edges .nad-overload .nad-edge-path {animation: line-blink 3s infinite}\n",
       ".nad-vl-nodes .nad-overvoltage {animation: node-over-blink 3s infinite}\n",
       ".nad-vl-nodes .nad-undervoltage {animation: node-under-blink 3s infinite}\n",
       ".nad-highlight {stroke-width: 25; opacity: 0.2; fill: none;}\n",
       ".nad-highlight-0 {stroke: #e6e600;}\n",
       ".nad-highlight-1 {stroke: #b300b3;}\n",
       ".nad-highlight-2 {stroke: #2eb82e;}\n",
       ".nad-highlight-3 {stroke: #e67300;}\n",
       ".nad-highlight-4 {stroke: #0000ff;}\n",
       "@keyframes line-blink {\n",
       "  0%, 80%, 100% {stroke: var(--nad-vl-color, black); stroke-width: 5}\n",
       "  40% {stroke: #FFEB3B; stroke-width: 15}\n",
       "}\n",
       "@keyframes node-over-blink {\n",
       "  0%, 80%, 100% {stroke: white; stroke-width: 0}\n",
       "  40% {stroke: #ff5722; stroke-width: 15}\n",
       "}\n",
       "@keyframes node-under-blink {\n",
       "  0%, 80%, 100% {stroke: white; stroke-width: 0}\n",
       "  40% {stroke: #00BCD4; stroke-width: 15}\n",
       "}\n",
       ".nad-load {stroke: var(--nad-vl-color, lightgrey); stroke-width: 3; fill: none}\n",
       ".nad-battery {stroke: var(--nad-vl-color, lightgrey); stroke-width: 3; fill: none}\n",
       ".nad-generator {stroke: var(--nad-vl-color, lightgrey); stroke-width: 3; stroke-linecap: round; fill: none}\n",
       ".nad-capacitor {stroke: var(--nad-vl-color, lightgrey); stroke-width: 3; fill: none}\n",
       ".nad-inductor {stroke: var(--nad-vl-color, lightgrey); stroke-width: 3; stroke-linejoin: round; stroke-linecap: round; fill: none}\n",
       ".nad-svc {stroke: var(--nad-vl-color, lightgrey); stroke-width: 3; stroke-linejoin:round; fill: none}\n",
       ".nad-disconnected .nad-load {stroke: lightgrey}\n",
       ".nad-disconnected .nad-battery {stroke: lightgrey}\n",
       ".nad-disconnected .nad-generator {stroke: lightgrey}\n",
       ".nad-disconnected .nad-capacitor {stroke: lightgrey}\n",
       ".nad-disconnected .nad-inductor {stroke: lightgrey}\n",
       ".nad-disconnected .nad-svc {stroke: lightgrey}\n",
       ".nad-unknown {stroke: none; fill: black}\n",
       "]]></style>\n",
       "    <g class=\"nad-vl-nodes\">\n",
       "        <g transform=\"translate(-55.80,-196.10)\" id=\"0\">\n",
       "            <circle r=\"27.50\" id=\"1\" class=\"nad-vl300to500 nad-bus-0 nad-busnode\"/>\n",
       "        </g>\n",
       "        <g transform=\"translate(-321.25,57.51)\" id=\"2\">\n",
       "            <circle r=\"27.50\" id=\"3\" class=\"nad-vl300to500 nad-bus-0 nad-busnode\"/>\n",
       "        </g>\n",
       "        <g transform=\"translate(9.69,138.18)\" id=\"4\">\n",
       "            <circle r=\"27.50\" id=\"5\" class=\"nad-vl300to500 nad-bus-0 nad-busnode\"/>\n",
       "        </g>\n",
       "    </g>\n",
       "    <g class=\"nad-branch-edges\">\n",
       "        <g id=\"6\">\n",
       "            <g id=\"6.1\" class=\"nad-vl300to500\">\n",
       "                <polyline class=\"nad-edge-path\" points=\"-75.69,-177.11 -188.53,-69.29\"/>\n",
       "                <g class=\"nad-edge-infos\" transform=\"translate(-99.19,-154.65)\">\n",
       "                    <g class=\"nad-active nad-state-out\">\n",
       "                        <g transform=\"rotate(-133.69)\">\n",
       "                            <path class=\"nad-arrow-in\" transform=\"scale(10.00)\" d=\"M-1 -1 H1 L0 1z\"/>\n",
       "                            <path class=\"nad-arrow-out\" transform=\"scale(10.00)\" d=\"M-1 1 H1 L0 -1z\"/>\n",
       "                        </g>\n",
       "                        <text transform=\"rotate(-43.69)\" x=\"-19.00\" style=\"text-anchor:end\">50</text>\n",
       "                    </g>\n",
       "                </g>\n",
       "            </g>\n",
       "            <g id=\"6.2\" class=\"nad-vl300to500\">\n",
       "                <polyline class=\"nad-edge-path\" points=\"-301.37,38.52 -188.53,-69.29\"/>\n",
       "                <g class=\"nad-edge-infos\" transform=\"translate(-277.87,16.07)\">\n",
       "                    <g class=\"nad-active nad-state-in\">\n",
       "                        <g transform=\"rotate(46.31)\">\n",
       "                            <path class=\"nad-arrow-in\" transform=\"scale(10.00)\" d=\"M-1 -1 H1 L0 1z\"/>\n",
       "                            <path class=\"nad-arrow-out\" transform=\"scale(10.00)\" d=\"M-1 1 H1 L0 -1z\"/>\n",
       "                        </g>\n",
       "                        <text transform=\"rotate(-43.69)\" x=\"19.00\">-50</text>\n",
       "                    </g>\n",
       "                </g>\n",
       "            </g>\n",
       "        </g>\n",
       "        <g id=\"7\">\n",
       "            <g id=\"7.1\" class=\"nad-vl300to500\">\n",
       "                <polyline class=\"nad-edge-path\" points=\"4.40,111.19 -17.29,0.48\"/>\n",
       "                <g class=\"nad-edge-infos\" transform=\"translate(-1.85,79.30)\">\n",
       "                    <g class=\"nad-active nad-state-in\">\n",
       "                        <g transform=\"rotate(-11.09)\">\n",
       "                            <path class=\"nad-arrow-in\" transform=\"scale(10.00)\" d=\"M-1 -1 H1 L0 1z\"/>\n",
       "                            <path class=\"nad-arrow-out\" transform=\"scale(10.00)\" d=\"M-1 1 H1 L0 -1z\"/>\n",
       "                        </g>\n",
       "                        <text transform=\"rotate(-281.09)\" x=\"-19.00\" style=\"text-anchor:end\">-50</text>\n",
       "                    </g>\n",
       "                </g>\n",
       "            </g>\n",
       "            <g id=\"7.2\" class=\"nad-vl300to500\">\n",
       "                <polyline class=\"nad-edge-path\" points=\"-50.52,-169.12 -28.82,-58.40\"/>\n",
       "                <g class=\"nad-edge-infos\" transform=\"translate(-44.27,-137.22)\">\n",
       "                    <g class=\"nad-active nad-state-out\">\n",
       "                        <g transform=\"rotate(168.91)\">\n",
       "                            <path class=\"nad-arrow-in\" transform=\"scale(10.00)\" d=\"M-1 -1 H1 L0 1z\"/>\n",
       "                            <path class=\"nad-arrow-out\" transform=\"scale(10.00)\" d=\"M-1 1 H1 L0 -1z\"/>\n",
       "                        </g>\n",
       "                        <text transform=\"rotate(78.91)\" x=\"19.00\">50</text>\n",
       "                    </g>\n",
       "                </g>\n",
       "            </g>\n",
       "            <g>\n",
       "                <circle class=\"nad-vl300to500 nad-winding\" cx=\"-21.13\" cy=\"-19.15\" r=\"20.00\"/>\n",
       "                <circle class=\"nad-vl300to500 nad-winding\" cx=\"-24.98\" cy=\"-38.78\" r=\"20.00\"/>\n",
       "                <path d=\"M60.00,0 0,60.00 M52.00,0 60.00,0 60.00,8.00\" transform=\"matrix(-0.19,-0.98,0.98,-0.19,-46.73,6.25)\" class=\"nad-pst-arrow\"/>\n",
       "            </g>\n",
       "        </g>\n",
       "        <g id=\"8\">\n",
       "            <g id=\"8.1\" class=\"nad-vl300to500\">\n",
       "                <polyline class=\"nad-edge-path\" points=\"-10.19,119.18 -48.15,82.91 -146.31,58.98\"/>\n",
       "                <g class=\"nad-edge-infos\" transform=\"translate(-77.29,75.81)\">\n",
       "                    <g class=\"nad-active nad-state-out\">\n",
       "                        <g transform=\"rotate(-76.30)\">\n",
       "                            <path class=\"nad-arrow-in\" transform=\"scale(10.00)\" d=\"M-1 -1 H1 L0 1z\"/>\n",
       "                            <path class=\"nad-arrow-out\" transform=\"scale(10.00)\" d=\"M-1 1 H1 L0 -1z\"/>\n",
       "                        </g>\n",
       "                        <text transform=\"rotate(-346.30)\" x=\"-19.00\" style=\"text-anchor:end\">50</text>\n",
       "                    </g>\n",
       "                </g>\n",
       "            </g>\n",
       "            <g id=\"8.2\" class=\"nad-vl300to500\">\n",
       "                <polyline class=\"nad-edge-path\" points=\"-294.86,49.79 -244.47,35.06 -146.31,58.98\"/>\n",
       "                <g class=\"nad-edge-infos\" transform=\"translate(-215.32,42.16)\">\n",
       "                    <g class=\"nad-active nad-state-in\">\n",
       "                        <g transform=\"rotate(103.70)\">\n",
       "                            <path class=\"nad-arrow-in\" transform=\"scale(10.00)\" d=\"M-1 -1 H1 L0 1z\"/>\n",
       "                            <path class=\"nad-arrow-out\" transform=\"scale(10.00)\" d=\"M-1 1 H1 L0 -1z\"/>\n",
       "                        </g>\n",
       "                        <text transform=\"rotate(13.70)\" x=\"19.00\">-50</text>\n",
       "                    </g>\n",
       "                </g>\n",
       "            </g>\n",
       "        </g>\n",
       "        <g id=\"9\">\n",
       "            <g id=\"9.1\" class=\"nad-vl300to500\">\n",
       "                <polyline class=\"nad-edge-path\" points=\"-16.70,145.90 -67.09,160.63 -165.25,136.71\"/>\n",
       "                <g class=\"nad-edge-infos\" transform=\"translate(-96.24,153.53)\">\n",
       "                    <g class=\"nad-active nad-state-out\">\n",
       "                        <g transform=\"rotate(-76.30)\">\n",
       "                            <path class=\"nad-arrow-in\" transform=\"scale(10.00)\" d=\"M-1 -1 H1 L0 1z\"/>\n",
       "                            <path class=\"nad-arrow-out\" transform=\"scale(10.00)\" d=\"M-1 1 H1 L0 -1z\"/>\n",
       "                        </g>\n",
       "                        <text transform=\"rotate(-346.30)\" x=\"-19.00\" style=\"text-anchor:end\">50</text>\n",
       "                    </g>\n",
       "                </g>\n",
       "            </g>\n",
       "            <g id=\"9.2\" class=\"nad-disconnected nad-vl300to500\">\n",
       "                <polyline class=\"nad-edge-path\" points=\"-301.37,76.51 -263.41,112.78 -165.25,136.71\"/>\n",
       "                <g class=\"nad-edge-infos\" transform=\"translate(-234.27,119.89)\">\n",
       "                    <g class=\"nad-active nad-state-in\">\n",
       "                        <g transform=\"rotate(103.70)\">\n",
       "                            <path class=\"nad-arrow-in\" transform=\"scale(10.00)\" d=\"M-1 -1 H1 L0 1z\"/>\n",
       "                            <path class=\"nad-arrow-out\" transform=\"scale(10.00)\" d=\"M-1 1 H1 L0 -1z\"/>\n",
       "                        </g>\n",
       "                        <text transform=\"rotate(13.70)\" x=\"19.00\">-50</text>\n",
       "                    </g>\n",
       "                </g>\n",
       "            </g>\n",
       "        </g>\n",
       "    </g>\n",
       "    <g class=\"nad-text-edges\">\n",
       "        <polyline id=\"0-textedge\" points=\"-26.14,-200.55 44.20,-211.10\"/>\n",
       "        <polyline id=\"2-textedge\" points=\"-291.58,53.06 -221.25,42.51\"/>\n",
       "        <polyline id=\"4-textedge\" points=\"39.36,133.73 109.69,123.18\"/>\n",
       "    </g>\n",
       "    <foreignObject height=\"1\" width=\"1\" class=\"nad-text-nodes\">\n",
       "        <div xmlns=\"http://www.w3.org/1999/xhtml\">\n",
       "            <div class=\"nad-label-box\" style=\"position: absolute; top: -236px; left: 44px\" id=\"0-textnode\">\n",
       "                <div>VL1</div>\n",
       "                <div class=\"nad-bus-descr\">\n",
       "                    <span class=\"nad-vl300to500 nad-bus-0 nad-legend-square\"/>400.0 kV / 0.0°</div>\n",
       "            </div>\n",
       "            <div class=\"nad-label-box\" style=\"position: absolute; top: 18px; left: -221px\" id=\"2-textnode\">\n",
       "                <div>VL2</div>\n",
       "                <div class=\"nad-bus-descr\">\n",
       "                    <span class=\"nad-vl300to500 nad-bus-0 nad-legend-square\"/>385.7 kV / -3.7°</div>\n",
       "            </div>\n",
       "            <div class=\"nad-label-box\" style=\"position: absolute; top: 98px; left: 110px\" id=\"4-textnode\">\n",
       "                <div>VL3</div>\n",
       "                <div class=\"nad-bus-descr\">\n",
       "                    <span class=\"nad-vl300to500 nad-bus-0 nad-legend-square\"/>392.6 kV / -1.8°</div>\n",
       "            </div>\n",
       "        </div>\n",
       "    </foreignObject>\n",
       "</svg>\n"
      ],
      "text/plain": [
       "<pypowsybl.network.impl.svg.Svg at 0x712d6fe77e20>"
      ]
     },
     "execution_count": 6,
     "metadata": {},
     "output_type": "execute_result"
    }
   ],
   "source": [
    "network =  pp.network.load(\"./data/rao/angle_monitoring/network.xiidm\")\n",
    "network.get_network_area_diagram()"
   ]
  },
  {
   "cell_type": "code",
   "execution_count": 7,
   "id": "f8e14fd0",
   "metadata": {},
   "outputs": [],
   "source": [
    "parameters = RaoParameters()\n",
    "parameters.load_from_file_source(\"./data/rao/rao_parameters.json\")\n",
    "load_flow_parameters = parameters.loadflow_and_sensitivity_parameters.sensitivity_parameters.load_flow_parameters"
   ]
  },
  {
   "cell_type": "code",
   "execution_count": 8,
   "id": "830592d3",
   "metadata": {},
   "outputs": [
    {
     "name": "stderr",
     "output_type": "stream",
     "text": [
      "2025-08-27 10:04:34,724 - INFO - CIM GLSK importer could import this document.\n"
     ]
    }
   ],
   "source": [
    "rao_runner = pp.rao.create_rao()\n",
    "rao_runner.set_crac_file_source(network, \"./data/rao/angle_monitoring/angle_monitoring_simple_case_with_injectionRa.json\")"
   ]
  },
  {
   "cell_type": "code",
   "execution_count": 9,
   "id": "0f76c1be",
   "metadata": {},
   "outputs": [
    {
     "name": "stderr",
     "output_type": "stream",
     "text": [
      "2025-08-27 10:04:34,732 - ERROR - Multi (GSK+LSK) shift keys not supported yet...\n",
      "com.powsybl.glsk.commons.GlskException: Multi (GSK+LSK) shift keys not supported yet...\n",
      "\tat com.powsybl.glsk.api.util.converters.GlskPointLinearGlskConverter.convert(GlskPointLinearGlskConverter.java:56)\n",
      "\tat com.powsybl.glsk.api.util.ZonalDataFromGlskDocument.addLinearDataFromList(ZonalDataFromGlskDocument.java:56)\n",
      "\tat com.powsybl.glsk.api.util.ZonalDataFromGlskDocument.<init>(ZonalDataFromGlskDocument.java:48)\n",
      "\tat com.powsybl.glsk.api.GlskDocument.getZonalGlsks(GlskDocument.java:41)\n",
      "\tat com.powsybl.python.rao.RaoContext.run(RaoContext.java:51)\n",
      "\tat com.powsybl.python.rao.RaoCFunctions.lambda$runRao$6(RaoCFunctions.java:136)\n",
      "\tat com.powsybl.python.commons.Util.doCatch(Util.java:144)\n",
      "\tat com.powsybl.python.rao.RaoCFunctions.runRao(RaoCFunctions.java:132)\n",
      "\n"
     ]
    },
    {
     "ename": "PyPowsyblError",
     "evalue": "Multi (GSK+LSK) shift keys not supported yet...",
     "output_type": "error",
     "traceback": [
      "\u001b[0;31m---------------------------------------------------------------------------\u001b[0m",
      "\u001b[0;31mPyPowsyblError\u001b[0m                            Traceback (most recent call last)",
      "Cell \u001b[0;32mIn[9], line 1\u001b[0m\n\u001b[0;32m----> 1\u001b[0m rao_result \u001b[38;5;241m=\u001b[39m \u001b[43mrao_runner\u001b[49m\u001b[38;5;241;43m.\u001b[39;49m\u001b[43mrun\u001b[49m\u001b[43m(\u001b[49m\u001b[43mnetwork\u001b[49m\u001b[43m,\u001b[49m\u001b[43m \u001b[49m\u001b[43mparameters\u001b[49m\u001b[43m)\u001b[49m\n\u001b[1;32m      2\u001b[0m rao_result\u001b[38;5;241m.\u001b[39mget_flow_cnec_results()\n",
      "File \u001b[0;32m~/WORKSPACE/POWSYBL/pypowsybl-notebooks/venv/lib/python3.10/site-packages/pypowsybl/rao/impl/rao.py:48\u001b[0m, in \u001b[0;36mRao.run\u001b[0;34m(self, network, parameters)\u001b[0m\n\u001b[1;32m     45\u001b[0m \u001b[38;5;28;01mif\u001b[39;00m parameters \u001b[38;5;129;01mis\u001b[39;00m \u001b[38;5;28;01mNone\u001b[39;00m:\n\u001b[1;32m     46\u001b[0m     parameters \u001b[38;5;241m=\u001b[39m RaoParameters()\n\u001b[0;32m---> 48\u001b[0m rao_result \u001b[38;5;241m=\u001b[39m \u001b[43m_pypowsybl\u001b[49m\u001b[38;5;241;43m.\u001b[39;49m\u001b[43mrun_rao\u001b[49m\u001b[43m(\u001b[49m\u001b[43mnetwork\u001b[49m\u001b[38;5;241;43m=\u001b[39;49m\u001b[43mnetwork\u001b[49m\u001b[38;5;241;43m.\u001b[39;49m\u001b[43m_handle\u001b[49m\u001b[43m,\u001b[49m\u001b[43m \u001b[49m\u001b[43mrao_context\u001b[49m\u001b[38;5;241;43m=\u001b[39;49m\u001b[38;5;28;43mself\u001b[39;49m\u001b[38;5;241;43m.\u001b[39;49m\u001b[43m_handle\u001b[49m\u001b[43m,\u001b[49m\u001b[43m \u001b[49m\u001b[43mparameters\u001b[49m\u001b[38;5;241;43m=\u001b[39;49m\u001b[43mparameters\u001b[49m\u001b[38;5;241;43m.\u001b[39;49m\u001b[43m_to_c_parameters\u001b[49m\u001b[43m(\u001b[49m\u001b[43m)\u001b[49m\u001b[43m)\u001b[49m\n\u001b[1;32m     49\u001b[0m crac_handle \u001b[38;5;241m=\u001b[39m _pypowsybl\u001b[38;5;241m.\u001b[39mget_crac(\u001b[38;5;28mself\u001b[39m\u001b[38;5;241m.\u001b[39m_handle)\n\u001b[1;32m     50\u001b[0m \u001b[38;5;28;01mreturn\u001b[39;00m RaoResult(rao_result, crac_handle)\n",
      "\u001b[0;31mPyPowsyblError\u001b[0m: Multi (GSK+LSK) shift keys not supported yet..."
     ]
    }
   ],
   "source": [
    "rao_result = rao_runner.run(network, parameters)\n",
    "rao_result.get_flow_cnec_results()"
   ]
  },
  {
   "cell_type": "code",
   "execution_count": null,
   "id": "7abae46e",
   "metadata": {},
   "outputs": [
    {
     "name": "stderr",
     "output_type": "stream",
     "text": [
      "2025-08-27 10:02:55,929 - INFO - CIM GLSK importer could import this document.\n",
      "2025-08-27 10:02:55,932 - INFO - ----- ANGLE monitoring [start]\n",
      "2025-08-27 10:02:55,932 - INFO - -- 'ANGLE' Monitoring at state 'preventive' [start]\n",
      "2025-08-27 10:02:55,933 - INFO - Load-flow computation [start]\n"
     ]
    }
   ],
   "source": [
    "# rao_runner = pp.rao.create_rao()\n",
    "# rao_runner.set_crac_file_source(network, \"./data/rao/angle_monitoring/angle_monitoring_simple_case_with_injectionRa.json\")\n",
    "rao_runner.set_glsk_file_source(network, \"./data/rao/angle_monitoring/GlskB45test.xml\")\n",
    "result_with_angle_monitoring = rao_runner.run_angle_monitoring(network, rao_result, load_flow_parameters, \"OpenLoadFlow\")\n",
    "result_with_angle_monitoring.get_angle_cnec_results()"
   ]
  },
  {
   "cell_type": "code",
   "execution_count": null,
   "id": "d485b05055727a18",
   "metadata": {
    "ExecuteTime": {
     "end_time": "2025-08-22T15:28:19.314733Z",
     "start_time": "2025-08-22T15:28:19.282584Z"
    }
   },
   "outputs": [
    {
     "ename": "AttributeError",
     "evalue": "'Rao' object has no attribute '_pypowsybl'",
     "output_type": "error",
     "traceback": [
      "\u001b[0;31m---------------------------------------------------------------------------\u001b[0m",
      "\u001b[0;31mAttributeError\u001b[0m                            Traceback (most recent call last)",
      "Cell \u001b[0;32mIn[41], line 10\u001b[0m\n\u001b[1;32m      8\u001b[0m rao_runner\u001b[38;5;241m.\u001b[39mset_crac_file_source(network, \u001b[38;5;124m\"\u001b[39m\u001b[38;5;124m./data/rao/angle_monitoring/angle_monitoring_simple_case_with_injectionRa.json\u001b[39m\u001b[38;5;124m\"\u001b[39m)\n\u001b[1;32m      9\u001b[0m \u001b[38;5;66;03m# rao_runner.set_glsk_file_source(network, \"./data/rao/angle_monitoring/GlskB45test.xml\")  \u001b[39;00m\n\u001b[0;32m---> 10\u001b[0m \u001b[38;5;28mprint\u001b[39m(\u001b[43mrao_runner\u001b[49m\u001b[38;5;241;43m.\u001b[39;49m\u001b[43m_pypowsybl\u001b[49m\u001b[38;5;241m.\u001b[39mget_crac(rao_runner\u001b[38;5;241m.\u001b[39m_handle))\n\u001b[1;32m     11\u001b[0m rao_result \u001b[38;5;241m=\u001b[39m rao_runner\u001b[38;5;241m.\u001b[39mrun(network, parameters)\n\u001b[1;32m     12\u001b[0m rao_result\n",
      "\u001b[0;31mAttributeError\u001b[0m: 'Rao' object has no attribute '_pypowsybl'"
     ]
    }
   ],
   "source": [
    "# Simple case\n",
    "# import inputs\n",
    "network =  pp.network.load(\"./data/rao/angle_monitoring/network.xiidm\")\n",
    "rao_runner = pp.rao.create_rao()\n",
    "parameters = RaoParameters()\n",
    "parameters.load_from_file_source(\"./data/rao/rao_parameters.json\")\n",
    "load_flow_parameters = parameters.loadflow_and_sensitivity_parameters.sensitivity_parameters.load_flow_parameters\n",
    "rao_runner.set_crac_file_source(network, \"./data/rao/angle_monitoring/angle_monitoring_simple_case_with_injectionRa.json\")\n",
    "# rao_runner.set_glsk_file_source(network, \"./data/rao/angle_monitoring/GlskB45test.xml\")  \n",
    "print(rao_runner._pypowsybl.get_crac(rao_runner._handle))\n",
    "rao_result = rao_runner.run(network, parameters)\n",
    "rao_result\n",
    "# result_with_angle_monitoring = rao_runner.run_angle_monitoring(network, rao_result, load_flow_parameters)"
   ]
  },
  {
   "cell_type": "code",
   "execution_count": null,
   "id": "401bfe71eca4e166",
   "metadata": {
    "ExecuteTime": {
     "end_time": "2025-08-22T08:50:16.118799Z",
     "start_time": "2025-08-22T08:50:16.084204Z"
    }
   },
   "outputs": [
    {
     "name": "stderr",
     "output_type": "stream",
     "text": [
      "2025-08-26 09:39:54,801 - ERROR - File ./data/rao/rao_network.uct does not exist\n",
      "com.powsybl.commons.PowsyblException: File ./data/rao/rao_network.uct does not exist\n",
      "\tat com.powsybl.commons.datasource.DataSource.fromPath(DataSource.java:38)\n",
      "\tat com.powsybl.iidm.network.Network.read(Network.java:125)\n",
      "\tat com.powsybl.iidm.network.Network.read(Network.java:135)\n",
      "\tat com.powsybl.python.network.NetworkCFunctions.lambda$loadNetwork$9(NetworkCFunctions.java:199)\n",
      "\tat com.powsybl.python.commons.Util.doCatch(Util.java:144)\n",
      "\tat com.powsybl.python.network.NetworkCFunctions.loadNetwork(NetworkCFunctions.java:191)\n",
      "\n"
     ]
    },
    {
     "ename": "PyPowsyblError",
     "evalue": "File ./data/rao/rao_network.uct does not exist",
     "output_type": "error",
     "traceback": [
      "\u001b[0;31m---------------------------------------------------------------------------\u001b[0m",
      "\u001b[0;31mPyPowsyblError\u001b[0m                            Traceback (most recent call last)",
      "Cell \u001b[0;32mIn[11], line 2\u001b[0m\n\u001b[1;32m      1\u001b[0m \u001b[38;5;66;03m# import inputs\u001b[39;00m\n\u001b[0;32m----> 2\u001b[0m network \u001b[38;5;241m=\u001b[39m  \u001b[43mpp\u001b[49m\u001b[38;5;241;43m.\u001b[39;49m\u001b[43mnetwork\u001b[49m\u001b[38;5;241;43m.\u001b[39;49m\u001b[43mload\u001b[49m\u001b[43m(\u001b[49m\u001b[38;5;124;43m\"\u001b[39;49m\u001b[38;5;124;43m./data/rao/rao_network.uct\u001b[39;49m\u001b[38;5;124;43m\"\u001b[39;49m\u001b[43m)\u001b[49m\n\u001b[1;32m      3\u001b[0m rao_runner \u001b[38;5;241m=\u001b[39m pp\u001b[38;5;241m.\u001b[39mrao\u001b[38;5;241m.\u001b[39mcreate_rao()\n\u001b[1;32m      4\u001b[0m parameters \u001b[38;5;241m=\u001b[39m RaoParameters()\n",
      "File \u001b[0;32m~/WORKSPACE/POWSYBL/pypowsybl-notebooks/venv/lib/python3.10/site-packages/pypowsybl/network/impl/network_creation_util.py:242\u001b[0m, in \u001b[0;36mload\u001b[0;34m(file, parameters, post_processors, reporter, report_node, allow_variant_multi_thread_access)\u001b[0m\n\u001b[1;32m    240\u001b[0m     report_node \u001b[38;5;241m=\u001b[39m reporter\n\u001b[1;32m    241\u001b[0m file \u001b[38;5;241m=\u001b[39m path_to_str(file)\n\u001b[0;32m--> 242\u001b[0m \u001b[38;5;28;01mreturn\u001b[39;00m Network(\u001b[43m_pp\u001b[49m\u001b[38;5;241;43m.\u001b[39;49m\u001b[43mload_network\u001b[49m\u001b[43m(\u001b[49m\u001b[43mfile\u001b[49m\u001b[43m,\u001b[49m\n\u001b[1;32m    243\u001b[0m \u001b[43m                                \u001b[49m\u001b[43m{\u001b[49m\u001b[43m}\u001b[49m\u001b[43m \u001b[49m\u001b[38;5;28;43;01mif\u001b[39;49;00m\u001b[43m \u001b[49m\u001b[43mparameters\u001b[49m\u001b[43m \u001b[49m\u001b[38;5;129;43;01mis\u001b[39;49;00m\u001b[43m \u001b[49m\u001b[38;5;28;43;01mNone\u001b[39;49;00m\u001b[43m \u001b[49m\u001b[38;5;28;43;01melse\u001b[39;49;00m\u001b[43m \u001b[49m\u001b[43mparameters\u001b[49m\u001b[43m,\u001b[49m\n\u001b[1;32m    244\u001b[0m \u001b[43m                                \u001b[49m\u001b[43m[\u001b[49m\u001b[43m]\u001b[49m\u001b[43m \u001b[49m\u001b[38;5;28;43;01mif\u001b[39;49;00m\u001b[43m \u001b[49m\u001b[43mpost_processors\u001b[49m\u001b[43m \u001b[49m\u001b[38;5;129;43;01mis\u001b[39;49;00m\u001b[43m \u001b[49m\u001b[38;5;28;43;01mNone\u001b[39;49;00m\u001b[43m \u001b[49m\u001b[38;5;28;43;01melse\u001b[39;49;00m\u001b[43m \u001b[49m\u001b[43mpost_processors\u001b[49m\u001b[43m,\u001b[49m\n\u001b[1;32m    245\u001b[0m \u001b[43m                                \u001b[49m\u001b[38;5;28;43;01mNone\u001b[39;49;00m\u001b[43m \u001b[49m\u001b[38;5;28;43;01mif\u001b[39;49;00m\u001b[43m \u001b[49m\u001b[43mreport_node\u001b[49m\u001b[43m \u001b[49m\u001b[38;5;129;43;01mis\u001b[39;49;00m\u001b[43m \u001b[49m\u001b[38;5;28;43;01mNone\u001b[39;49;00m\u001b[43m \u001b[49m\u001b[38;5;28;43;01melse\u001b[39;49;00m\u001b[43m \u001b[49m\u001b[43mreport_node\u001b[49m\u001b[38;5;241;43m.\u001b[39;49m\u001b[43m_report_node\u001b[49m\u001b[43m,\u001b[49m\u001b[43m  \u001b[49m\u001b[38;5;66;43;03m# pylint: disable=protected-access\u001b[39;49;00m\n\u001b[1;32m    246\u001b[0m \u001b[43m                                \u001b[49m\u001b[43mallow_variant_multi_thread_access\u001b[49m\u001b[43m)\u001b[49m)\n",
      "\u001b[0;31mPyPowsyblError\u001b[0m: File ./data/rao/rao_network.uct does not exist"
     ]
    }
   ],
   "source": [
    "\n",
    "# import inputs\n",
    "network =  pp.network.load(\"./data/rao/rao_network.uct\")\n",
    "rao_runner = pp.rao.create_rao()\n",
    "parameters = RaoParameters()\n",
    "parameters.load_from_file_source(\"./data/rao/rao_parameters.json\")\n",
    "load_flow_parameters = parameters.loadflow_and_sensitivity_parameters.sensitivity_parameters.load_flow_parameters\n",
    "rao_runner.set_crac_file_source(network, \"./data/rao/rao_crac.json\")\n",
    "rao_runner.set_glsk_file_source(network, \"./data/rao/rao_glsk.xml\")  \n",
    "rao_result = rao_runner.run(network, parameters)\n",
    "result_with_angle_monitoring = rao_runner.run_angle_monitoring(network, rao_result, load_flow_parameters)\n",
    "result_with_voltage_monitoring = rao_runner.run_angle_monitoring(network, rao_result, load_flow_parameters)"
   ]
  },
  {
   "cell_type": "markdown",
   "id": "4d2a8003fc3963d7",
   "metadata": {},
   "source": [
    "Launch monitoring"
   ]
  },
  {
   "cell_type": "code",
   "execution_count": null,
   "id": "fffb8abf917e0f7f",
   "metadata": {},
   "outputs": [
    {
     "ename": "",
     "evalue": "",
     "output_type": "error",
     "traceback": [
      "\u001b[1;31mRunning cells with 'venv (Python 3.10.12)' requires the ipykernel package.\n",
      "\u001b[1;31mRun the following command to install 'ipykernel' into the Python environment. \n",
      "\u001b[1;31mCommand: '/home/bouquettho/WORKSPACE/POWSYBL/pypowsybl-notebooks/venv/bin/python -m pip install ipykernel -U --force-reinstall'"
     ]
    }
   ],
   "source": []
  },
  {
   "cell_type": "markdown",
   "id": "624e989b754dc4c6",
   "metadata": {},
   "source": []
  },
  {
   "cell_type": "code",
   "execution_count": null,
   "id": "abee38543c99f812",
   "metadata": {},
   "outputs": [
    {
     "name": "stderr",
     "output_type": "stream",
     "text": [
      "2025-08-26 09:41:21,290 - ERROR - BBE1AA1  BBE2AA1  1 - Real line resistance cannot be negative (0.0 ohm)\n",
      "2025-08-26 09:41:21,291 - ERROR - BBE1AA1  BBE3AA1  1 - Real line resistance cannot be negative (0.0 ohm)\n",
      "2025-08-26 09:41:21,292 - ERROR - FFR1AA1  FFR2AA1  1 - Real line resistance cannot be negative (0.0 ohm)\n",
      "2025-08-26 09:41:21,293 - ERROR - FFR1AA1  FFR3AA1  1 - Real line resistance cannot be negative (0.0 ohm)\n",
      "2025-08-26 09:41:21,293 - ERROR - FFR2AA1  FFR3AA1  1 - Real line resistance cannot be negative (0.0 ohm)\n",
      "2025-08-26 09:41:21,294 - ERROR - DDE1AA1  DDE2AA1  1 - Real line resistance cannot be negative (0.0 ohm)\n",
      "2025-08-26 09:41:21,294 - ERROR - DDE1AA1  DDE3AA1  1 - Real line resistance cannot be negative (0.0 ohm)\n",
      "2025-08-26 09:41:21,295 - ERROR - DDE2AA1  DDE3AA1  1 - Real line resistance cannot be negative (0.0 ohm)\n",
      "2025-08-26 09:41:21,295 - ERROR - NNL1AA1  NNL2AA1  1 - Real line resistance cannot be negative (0.0 ohm)\n",
      "2025-08-26 09:41:21,296 - ERROR - NNL1AA1  NNL3AA1  1 - Real line resistance cannot be negative (0.0 ohm)\n",
      "2025-08-26 09:41:21,296 - ERROR - NNL2AA1  NNL3AA1  1 - Real line resistance cannot be negative (0.0 ohm)\n",
      "2025-08-26 09:41:21,297 - ERROR - FFR2AA1  DDE3AA1  1 - Real line resistance cannot be negative (0.0 ohm)\n",
      "2025-08-26 09:41:21,297 - ERROR - DDE2AA1  NNL3AA1  1 - Real line resistance cannot be negative (0.0 ohm)\n",
      "2025-08-26 09:41:21,298 - ERROR - NNL2AA1  BBE3AA1  1 - Real line resistance cannot be negative (0.0 ohm)\n",
      "2025-08-26 09:41:21,298 - ERROR - NNL2AA1  BBE3AA1  2 - Real line resistance cannot be negative (0.0 ohm)\n",
      "2025-08-26 09:41:21,299 - ERROR - NNL2AA1  BBE3AA1  3 - Real line resistance cannot be negative (0.0 ohm)\n",
      "2025-08-26 09:41:21,299 - ERROR - BBE2AA1  FFR3AA1  1 - Real line resistance cannot be negative (0.0 ohm)\n",
      "2025-08-26 09:41:21,300 - ERROR - BBE2AA1  BBE3AA1  1 - Blank is not allowed, real transformer resistance must be greater than or equal to zero (0.0 ohm)\n",
      "2025-08-26 09:41:21,300 - WARNING - BBE2AA1  BBE3AA1  1 - Blank is not allowed (0.0 S)\n",
      "2025-08-26 09:41:21,300 - WARNING - BBE2AA1  BBE3AA1  1 - Transformer shunt conductance must be greater than or equal to zero (0.0 S)\n",
      "2025-08-26 09:41:21,301 - WARNING - BBE2AA1  BBE3AA1  1 - For LTCs, transformer angle regulation voltage per tap should not be zero. Its absolute value should not be above 6 % (-0.68 %)\n"
     ]
    },
    {
     "ename": "NameError",
     "evalue": "name 'crac' is not defined",
     "output_type": "error",
     "traceback": [
      "\u001b[0;31m---------------------------------------------------------------------------\u001b[0m",
      "\u001b[0;31mNameError\u001b[0m                                 Traceback (most recent call last)",
      "Cell \u001b[0;32mIn[14], line 4\u001b[0m\n\u001b[1;32m      2\u001b[0m n12 \u001b[38;5;241m=\u001b[39m pp\u001b[38;5;241m.\u001b[39mnetwork\u001b[38;5;241m.\u001b[39mload(\u001b[38;5;124m'\u001b[39m\u001b[38;5;124m./data/rao/12_node_network.uct\u001b[39m\u001b[38;5;124m'\u001b[39m)\n\u001b[1;32m      3\u001b[0m rao_runner \u001b[38;5;241m=\u001b[39m pp\u001b[38;5;241m.\u001b[39mrao\u001b[38;5;241m.\u001b[39mcreate_rao()\n\u001b[0;32m----> 4\u001b[0m rao_runner\u001b[38;5;241m.\u001b[39mrun_angle_monitoring(network, \u001b[43mcrac\u001b[49m)\n\u001b[1;32m      8\u001b[0m rao_runner\u001b[38;5;241m.\u001b[39mset_crac_file_source(n12, \u001b[38;5;124m\"\u001b[39m\u001b[38;5;124m./data/rao/N_case_crac.json\u001b[39m\u001b[38;5;124m\"\u001b[39m)\n\u001b[1;32m      9\u001b[0m rao_parameters \u001b[38;5;241m=\u001b[39m RaoParameters()\n",
      "\u001b[0;31mNameError\u001b[0m: name 'crac' is not defined"
     ]
    }
   ],
   "source": [
    "# prepare inputs\n",
    "n12 = pp.network.load('./data/rao/12_node_network.uct')\n",
    "rao_runner = pp.rao.create_rao()\n",
    "rao_runner.run_angle_monitoring(network, crac)\n",
    "\n",
    "\n",
    "\n",
    "rao_runner.set_crac_file_source(n12, \"./data/rao/N_case_crac.json\")\n",
    "rao_parameters = RaoParameters()\n",
    "rao_parameters.load_from_file_source(\"./data/rao/rao_parameters.json\")\n",
    "# set up logging\n",
    "import logging\n",
    "logging.getLogger('powsybl').setLevel(logging.INFO)\n",
    "logging.basicConfig(format='%(asctime)s - %(levelname)s - %(message)s')\n",
    "#run rao\n",
    "raoResult = rao_runner.run(n12, rao_parameters)\n",
    "result_json = raoResult.to_json()"
   ]
  },
  {
   "cell_type": "code",
   "execution_count": null,
   "id": "f72e1a5e5daa7bc3",
   "metadata": {},
   "outputs": [
    {
     "ename": "",
     "evalue": "",
     "output_type": "error",
     "traceback": [
      "\u001b[1;31mRunning cells with 'venv (Python 3.10.12)' requires the ipykernel package.\n",
      "\u001b[1;31mRun the following command to install 'ipykernel' into the Python environment. \n",
      "\u001b[1;31mCommand: '/home/bouquettho/WORKSPACE/POWSYBL/pypowsybl-notebooks/venv/bin/python -m pip install ipykernel -U --force-reinstall'"
     ]
    }
   ],
   "source": []
  },
  {
   "cell_type": "code",
   "execution_count": null,
   "id": "bb6b0a9f406cfc57",
   "metadata": {},
   "outputs": [
    {
     "ename": "",
     "evalue": "",
     "output_type": "error",
     "traceback": [
      "\u001b[1;31mRunning cells with 'venv (Python 3.10.12)' requires the ipykernel package.\n",
      "\u001b[1;31mRun the following command to install 'ipykernel' into the Python environment. \n",
      "\u001b[1;31mCommand: '/home/bouquettho/WORKSPACE/POWSYBL/pypowsybl-notebooks/venv/bin/python -m pip install ipykernel -U --force-reinstall'"
     ]
    }
   ],
   "source": []
  },
  {
   "cell_type": "code",
   "execution_count": null,
   "id": "af10073ecc8db95a",
   "metadata": {},
   "outputs": [
    {
     "ename": "",
     "evalue": "",
     "output_type": "error",
     "traceback": [
      "\u001b[1;31mRunning cells with 'venv (Python 3.10.12)' requires the ipykernel package.\n",
      "\u001b[1;31mRun the following command to install 'ipykernel' into the Python environment. \n",
      "\u001b[1;31mCommand: '/home/bouquettho/WORKSPACE/POWSYBL/pypowsybl-notebooks/venv/bin/python -m pip install ipykernel -U --force-reinstall'"
     ]
    }
   ],
   "source": []
  }
 ],
 "metadata": {
  "kernelspec": {
   "display_name": "Python 3",
   "language": "python",
   "name": "python3"
  },
  "language_info": {
   "codemirror_mode": {
    "name": "ipython",
    "version": 3
   },
   "file_extension": ".py",
   "mimetype": "text/x-python",
   "name": "python",
   "nbconvert_exporter": "python",
   "pygments_lexer": "ipython3",
   "version": "3.10.12"
  }
 },
 "nbformat": 4,
 "nbformat_minor": 5
}
