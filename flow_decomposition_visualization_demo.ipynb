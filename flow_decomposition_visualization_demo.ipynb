{
 "cells": [
  {
   "cell_type": "markdown",
   "metadata": {},
   "source": [
    "\n",
    "## Licence\n",
    "Copyright (c) 2022, RTE (http://www.rte-france.com)  \n",
    "This Source Code Form is subject to the terms of the Mozilla Public  \n",
    "License, v. 2.0. If a copy of the MPL was not distributed with this  \n",
    "file, You can obtain one at http://mozilla.org/MPL/2.0/.  \n",
    "\n",
    "\n",
    "## Author\n",
    "Hugo Schindler <hugo.schindler at rte-france.com>\n",
    "\n",
    "\n",
    "## Description\n",
    "This notebook illustrates the flow decomposition algorithm results.  \n",
    "This notebook does not have any study goals.  \n",
    "It does not intend to illustrate a mass analysis on multiple network but rather plot some metrics about a decomposition of a single network.   \n",
    "All plots are in MW (if not explicitly normalized).  \n",
    "A toy network is provided. Do not hesitate to load your network !  \n",
    "We hope that this notebook can motivate you to use the flow decompositioin and encourage you to explore further the results of the flow decomposition.  "
   ]
  },
  {
   "cell_type": "markdown",
   "metadata": {},
   "source": [
    "### Configuration tips\n",
    "\n",
    "In case of AC divergence, to do hesitate to change the voltage init mode in your configuration. Add the following lines to your `~/itools/config.yml`:\n",
    "\n",
    "```\n",
    "load-flow-default-parameters:\n",
    "  voltageInitMode: DC_VALUES\n",
    "```"
   ]
  },
  {
   "cell_type": "code",
   "execution_count": null,
   "metadata": {},
   "outputs": [],
   "source": [
    "import random\n",
    "import numpy as np\n",
    "import pandas as pd\n",
    "\n",
    "import plotly.express as px\n",
    "\n",
    "import pycountry\n",
    "\n",
    "import pypowsybl as pp\n",
    "\n",
    "pd.options.display.max_columns = None\n",
    "pd.options.display.expand_frame_repr = False\n"
   ]
  },
  {
   "cell_type": "code",
   "execution_count": null,
   "metadata": {},
   "outputs": [],
   "source": [
    "colors = px.colors.qualitative.Dark24 + px.colors.qualitative.Light24\n",
    "random.Random(42).shuffle(colors)"
   ]
  },
  {
   "cell_type": "markdown",
   "metadata": {},
   "source": [
    "# Load a network\n",
    "\n",
    "You can load your own network with \n",
    "net = pp.network.load(...)"
   ]
  },
  {
   "cell_type": "code",
   "execution_count": null,
   "metadata": {},
   "outputs": [],
   "source": [
    "def assign_country_all_substations(net):\n",
    "    substation_ids = net.get_substations().index\n",
    "    all_countries = [\"AT\", \"BE\", \"BG\", \"CY\", \"CZ\", \"DE\", \"DK\", \"EE\", \"ES\", \"FI\", \"FR\", \"GR\", \"HR\", \"HU\", \"IE\", \"IT\", \"LT\", \"LU\", \"LV\", \"NL\", \"PL\", \"PT\", \"RO\", \"SE\", \"SI\", \"SK\"]\n",
    "    number_country = 20\n",
    "    random.Random(42).shuffle(all_countries)\n",
    "    substation_countries = random.Random(42).choices(random.Random(42).choices(all_countries, k=number_country), k=len(substation_ids))\n",
    "    return dict(zip(substation_ids, substation_countries))\n",
    "\n",
    "def propagate_country_nearby_substations(net, dss):\n",
    "    vl = net.get_voltage_levels()\n",
    "    l = net.get_lines()\n",
    "    df_net = pd.merge(\n",
    "        pd.merge(l, vl.add_suffix(\"_vl1\"), right_index=True, left_on=\"voltage_level1_id\"),\n",
    "        vl.add_suffix(\"_vl2\"), right_index=True, left_on=\"voltage_level2_id\")\n",
    "    connected_ss = df_net[[\"substation_id_vl1\", \"substation_id_vl2\"]].values\n",
    "    for _ in range(3):\n",
    "        for connected_sub in connected_ss:\n",
    "            dss[connected_sub[1]] = dss[connected_sub[0]]\n",
    "    net.update_substations(id=list(dss.keys()), country=list(dss.values()))\n",
    "\n",
    "def get_upgraded_ieee_net():\n",
    "    net = pp.network.create_ieee300()\n",
    "\n",
    "    # add country to substations\n",
    "    dss = assign_country_all_substations(net)\n",
    "    propagate_country_nearby_substations(net, dss)\n",
    "\n",
    "    # generator fix: otherwise they are discarded because of not plausible Pmax\n",
    "    gen = net.get_generators().index\n",
    "    net.update_generators(id=gen, max_p=[2000]*len(gen), min_p=[-2000]*len(gen))\n",
    "\n",
    "    #net.dump(\"/tmp/test-net.xiidm\")\n",
    "\n",
    "    return net"
   ]
  },
  {
   "cell_type": "code",
   "execution_count": null,
   "metadata": {},
   "outputs": [],
   "source": [
    "net = get_upgraded_ieee_net()\n",
    "#net = pp.network.load(\"\")"
   ]
  },
  {
   "cell_type": "markdown",
   "metadata": {},
   "source": [
    "# Run a flow decomposition\n",
    "\n",
    "Running a flow decomposition with those parameter might take a while and a lot of RAM.  \n",
    "The default parameters consume less ressources.  \n",
    "We will change some default parameters.  \n",
    "\n",
    "Once the computations are done, we also add a few useful columns to the dataframe:\n",
    "- total loop flow\n",
    "- total flow\n",
    "These columns are natively available in the Java library, but we did not interface them in python.\n",
    "\n",
    "For the purpose of this notebook, all the computation are done in state N.\n",
    "We will filter the dataframe to respect this.\n",
    "\n",
    "We also extract the list of countries and use a python library to represent them."
   ]
  },
  {
   "cell_type": "code",
   "execution_count": null,
   "metadata": {},
   "outputs": [],
   "source": [
    "parameters = pp.flowdecomposition.Parameters(enable_losses_compensation=True,\n",
    "    rescale_enabled=False,\n",
    "    )\n",
    "flow_dec_object = pp.flowdecomposition.create_decomposition() \\\n",
    "    .add_5perc_ptdf_as_monitored_elements()\n",
    "flow_dec_original=flow_dec_object.run(net, flow_decomposition_parameters=parameters)\n",
    "flow_dec_original"
   ]
  },
  {
   "cell_type": "code",
   "execution_count": null,
   "metadata": {},
   "outputs": [],
   "source": [
    "flow_dec = flow_dec_original.copy()"
   ]
  },
  {
   "cell_type": "code",
   "execution_count": null,
   "metadata": {},
   "outputs": [],
   "source": [
    "flow_dec['total_flow'] = flow_dec[[c for c in flow_dec.columns if ('reference' not in c and 'flow' in c)]].sum(axis=1)\n",
    "flow_dec['total_loop_flow'] = flow_dec[[c for c in flow_dec.columns if 'loop_flow_from_' in c]].sum(axis=1)\n",
    "\n",
    "def alpha_2_to_country(l):\n",
    "    return [pycountry.countries.get(alpha_2=alpha_2) for alpha_2 in l]\n",
    "\n",
    "countries_alpha2 = set(flow_dec[\"country1\"]).union(set(flow_dec[\"country2\"]))\n",
    "countries = alpha_2_to_country(countries_alpha2)\n",
    "countries"
   ]
  },
  {
   "cell_type": "markdown",
   "metadata": {},
   "source": [
    "# Flow decomposition top bar charts\n",
    "\n",
    "In this section, we will select lines based on different metrics and orders.  \n",
    "\n",
    "We will not make any conclusions based on these plots.  "
   ]
  },
  {
   "cell_type": "code",
   "execution_count": null,
   "metadata": {},
   "outputs": [],
   "source": [
    "def flow_decomposition_bar_chart(sorting_column, ascending=False, head=20, plot_scatter=True):\n",
    "    threshold = .05\n",
    "    df = flow_dec.sort_values(sorting_column, ascending = ascending).head(head).copy()\n",
    "    df_p = df[[c for c in flow_dec.columns if ('reference' not in c and 'total' not in c and 'flow' in c)]]\n",
    "    df_m = df_p.abs().div(df_p.abs().sum(axis=1), axis=0) > threshold\n",
    "    df_f = df_p[df_m]\n",
    "    df_f['masked_flows_positive'] = df_p[df_p[df_m == False]>0].sum(axis=1)\n",
    "    df_f['masked_flows_negative'] = df_p[df_p[df_m == False]<0].sum(axis=1)\n",
    "    fig = px.bar(df_f,\n",
    "        orientation='h',\n",
    "        color_discrete_sequence=colors[:df_f.columns.size],\n",
    "        text_auto='.0f',\n",
    "        title=f'Sorted by: {sorting_column}, ascending: {ascending}, head: {head}',\n",
    "        height=1000,\n",
    "        labels={\n",
    "            'branch_id':'Branch id',\n",
    "            'value': 'Flow decomposition value',\n",
    "            'variable': 'Decomposition part:',\n",
    "        },\n",
    "        template=\"seaborn\",\n",
    "        )\n",
    "    if plot_scatter:\n",
    "        fig.add_scatter(\n",
    "            y=df.index,\n",
    "            x=df['total_flow'],\n",
    "            mode='lines+markers',\n",
    "            name='total_flow'\n",
    "            )\n",
    "        fig.add_scatter(\n",
    "            y=df.index,\n",
    "            x=df['total_loop_flow'],\n",
    "            mode='lines+markers',\n",
    "            name='total_loop_flow'\n",
    "            )\n",
    "    fig.show(renderer=\"notebook\")"
   ]
  },
  {
   "cell_type": "code",
   "execution_count": null,
   "metadata": {},
   "outputs": [],
   "source": [
    "flow_decomposition_bar_chart('total_loop_flow')"
   ]
  },
  {
   "cell_type": "code",
   "execution_count": null,
   "metadata": {},
   "outputs": [],
   "source": [
    "flow_decomposition_bar_chart('total_loop_flow', ascending=True)"
   ]
  },
  {
   "cell_type": "code",
   "execution_count": null,
   "metadata": {},
   "outputs": [],
   "source": [
    "flow_decomposition_bar_chart('total_flow')"
   ]
  },
  {
   "cell_type": "code",
   "execution_count": null,
   "metadata": {},
   "outputs": [],
   "source": [
    "flow_decomposition_bar_chart('pst_flow')"
   ]
  },
  {
   "cell_type": "code",
   "execution_count": null,
   "metadata": {},
   "outputs": [],
   "source": [
    "flow_decomposition_bar_chart('pst_flow', ascending=True)"
   ]
  },
  {
   "cell_type": "code",
   "execution_count": null,
   "metadata": {},
   "outputs": [],
   "source": [
    "flow_decomposition_bar_chart(f'loop_flow_from_{random.Random(42).choice(list(countries)).alpha_2.lower()}')"
   ]
  },
  {
   "cell_type": "code",
   "execution_count": null,
   "metadata": {},
   "outputs": [],
   "source": [
    "flow_decomposition_bar_chart(f'loop_flow_from_{random.Random(42).choice(list(countries)).alpha_2.lower()}', ascending=True)"
   ]
  },
  {
   "cell_type": "code",
   "execution_count": null,
   "metadata": {},
   "outputs": [],
   "source": [
    "flow_decomposition_bar_chart(f'loop_flow_from_{random.Random(12).choice(list(countries)).alpha_2.lower()}')"
   ]
  },
  {
   "cell_type": "markdown",
   "metadata": {},
   "source": [
    "# Loop flow repartition from source\n",
    "\n",
    "In this section, we will start representing loop flow repartition from the source point of view.  \n",
    "Loop flows are sum for each source.  \n",
    "The first plot is not rescaled and the second plot is rescaled per total flow per country.\n",
    "We could normalize the first plot with the number of lines or by their total capacity.  \n",
    "A country can have an impact on it-self because of interconnections.\n",
    "\n",
    "In the next section, we will represent loop flow repartition from the visited country point of view."
   ]
  },
  {
   "cell_type": "code",
   "execution_count": null,
   "metadata": {},
   "outputs": [],
   "source": [
    "c1, c2 = 'country1', 'country2'\n",
    "df_sum1 = flow_dec.groupby(c1).sum().transpose()\n",
    "df_sum2 = flow_dec.groupby(c2).sum().transpose()\n",
    "df_lf_per_country = pd.concat([df_sum1, df_sum2]).groupby(level=0).sum()/2"
   ]
  },
  {
   "cell_type": "code",
   "execution_count": null,
   "metadata": {},
   "outputs": [],
   "source": [
    "threshold = .03\n",
    "df = df_lf_per_country.copy().transpose()\n",
    "df_p = df[[c for c in df.columns if ('loop_flow_from' in c)]].transpose()\n",
    "df_s = df_p.abs().sum(axis=1)\n",
    "df_p = df_p.reindex(df_s.sort_values(ascending=False).index)\n",
    "df_m = df_p.abs().div(df_p.abs().sum(axis=1), axis=0) > threshold\n",
    "df_f = df_p[df_m]\n",
    "df_f['masked_positive'] = df_p[df_p[df_m == False]>0].sum(axis=1)\n",
    "df_f['masked_negative'] = df_p[df_p[df_m == False]<0].sum(axis=1)\n",
    "fig = px.bar(df_f,\n",
    "    orientation='h',\n",
    "    color_discrete_sequence=colors[:df_f.columns.size],\n",
    "    text_auto='.0f',\n",
    "    title='',\n",
    "    height=1000,\n",
    "    labels={\n",
    "        'index':'Origin of loop flow',\n",
    "        'value': 'Loop flow value per origin in MW',\n",
    "        'variable': 'Impacted country',\n",
    "    }\n",
    "    )\n",
    "fig.show(renderer=\"notebook\")"
   ]
  },
  {
   "cell_type": "code",
   "execution_count": null,
   "metadata": {},
   "outputs": [],
   "source": [
    "threshold = .03\n",
    "df = df_lf_per_country.copy().transpose()\n",
    "df_p = df[[c for c in df.columns if ('loop_flow_from' in c)]].transpose()\n",
    "df_m = df_p.div(df_p.abs().sum(axis=1), axis=0)\n",
    "df_s = df_m[df_m < 0].sum(axis=1)\n",
    "df_m = df_m.reindex(df_s.sort_values(ascending=False).index)\n",
    "df_n = df_m.abs() > threshold\n",
    "df_f = df_m[df_n]\n",
    "df_f['masked_positive'] = df_m[df_p[df_n == False]>0].sum(axis=1)\n",
    "df_f['masked_negative'] = df_m[df_p[df_n == False]<0].sum(axis=1)\n",
    "fig = px.bar(df_f,\n",
    "    orientation='h',\n",
    "    color_discrete_sequence=colors[:df_f.columns.size],\n",
    "    text_auto='.2f',\n",
    "    height=1000,\n",
    "    labels={\n",
    "        'index':'Origin of loop flow',\n",
    "        'value': 'Loop flow value normalized per origin',\n",
    "        'variable': 'Impacted country',\n",
    "    }\n",
    "    )\n",
    "fig.show(renderer=\"notebook\")"
   ]
  },
  {
   "cell_type": "markdown",
   "metadata": {},
   "source": [
    "# Loop flow repartition for visited countries\n",
    "\n",
    "Loop flow are sum for visited countries"
   ]
  },
  {
   "cell_type": "code",
   "execution_count": null,
   "metadata": {},
   "outputs": [],
   "source": [
    "threshold = .03\n",
    "df = df_lf_per_country.copy().transpose()\n",
    "df_p = df[[c for c in df.columns if ('loop_flow_from' in c)]]\n",
    "df_s = df_p.abs().sum(axis=1)\n",
    "df_p = df_p.reindex(df_s.sort_values(ascending=False).index)\n",
    "df_m = df_p.abs().div(df_p.abs().sum(axis=1), axis=0) > threshold\n",
    "df_f = df_p[df_m]\n",
    "df_f['masked_positive'] = df_p[df_p[df_m == False]>0].sum(axis=1)\n",
    "df_f['masked_negative'] = df_p[df_p[df_m == False]<0].sum(axis=1)\n",
    "fig = px.bar(df_f,\n",
    "    orientation='h',\n",
    "    color_discrete_sequence=colors[:df_f.columns.size],\n",
    "    text_auto='.0f',\n",
    "    title='',\n",
    "    height=1000,\n",
    "    labels={\n",
    "        'index':'Destination of loop flow',\n",
    "        'value': 'Loop flow value per origin',\n",
    "        'variable': 'Origin country',\n",
    "    }\n",
    "    )\n",
    "fig.show(renderer=\"notebook\")"
   ]
  },
  {
   "cell_type": "code",
   "execution_count": null,
   "metadata": {},
   "outputs": [],
   "source": [
    "threshold = .03\n",
    "df = df_lf_per_country.copy().transpose()\n",
    "df_p = df[[c for c in df.columns if ('loop_flow_from' in c)]]\n",
    "df_m = df_p.div(df_p.abs().sum(axis=1), axis=0)\n",
    "df_s = df_m[df_m < 0].sum(axis=1)\n",
    "df_m = df_m.reindex(df_s.sort_values(ascending=False).index)\n",
    "df_n = df_m.abs() > threshold\n",
    "df_f = df_m[df_n]\n",
    "df_f['masked_positive'] = df_m[df_p[df_n == False]>0].sum(axis=1)\n",
    "df_f['masked_negative'] = df_m[df_p[df_n == False]<0].sum(axis=1)\n",
    "fig = px.bar(df_f,\n",
    "    orientation='h',\n",
    "    color_discrete_sequence=colors[:df_f.columns.size],\n",
    "    text_auto='.2f',\n",
    "    height=1000,\n",
    "    labels={\n",
    "        'index':'Destination of loop flow',\n",
    "        'value': 'Loop flow value normalized per origin',\n",
    "        'variable': 'Origin country',\n",
    "    }\n",
    "    )\n",
    "fig.show(renderer=\"notebook\")"
   ]
  },
  {
   "cell_type": "markdown",
   "metadata": {},
   "source": [
    "# Loop flow heat map\n",
    "\n",
    "We can also view loop flow with a heat map.  \n",
    "We did not normalize results here."
   ]
  },
  {
   "cell_type": "code",
   "execution_count": null,
   "metadata": {},
   "outputs": [],
   "source": [
    "df_matrix = df_lf_per_country.transpose().sort_index(axis=1).sort_index()\n",
    "\n",
    "df_matrix = df_matrix[[c for c in df_matrix.columns if ('loop_flow_from' in c)]].transpose()\n",
    "df_matrix.index = df_matrix.index.map(lambda c: c.split(\"_\")[-1].upper())\n",
    "df_matrix.index = [country.name for country in alpha_2_to_country(df_matrix.index)]\n",
    "df_matrix.columns = [country.name for country in alpha_2_to_country(df_matrix.columns)]\n",
    "fig = px.imshow(np.sign(df_matrix)*np.log10(df_matrix.abs()+1),\n",
    "    labels=dict(x=\"Visited country\", y=\"Source country\", color=\"Loop flow\"),\n",
    "    color_continuous_midpoint=0.0,\n",
    "    color_continuous_scale=\"RdBu_r\",\n",
    "    height=800)\n",
    "fig.update(data=[{'customdata': df_matrix,\n",
    "    'hovertemplate': 'Source country: %{y}<br>Visited country: %{x}<br>Loop flow: %{customdata:.2f}<extra></extra>'}])\n",
    "int_log_abs_max = int(np.log10(max(df_matrix.max().max(), abs(df_matrix.min().min()))))\n",
    "tickvals = np.arange(-int_log_abs_max, int_log_abs_max+1)\n",
    "fig.update_layout(coloraxis_colorbar=dict(\n",
    "    #title=\"Population\",\n",
    "    tickvals=tickvals,\n",
    "    ticktext=[np.sign(v)*10**abs(v) for v in tickvals],\n",
    "))\n",
    "fig.show(renderer=\"notebook\")"
   ]
  },
  {
   "cell_type": "markdown",
   "metadata": {},
   "source": [
    "dev note : df_matrix rows are sources, columns are destinations"
   ]
  },
  {
   "cell_type": "markdown",
   "metadata": {},
   "source": [
    "# Choropleth"
   ]
  },
  {
   "cell_type": "markdown",
   "metadata": {},
   "source": [
    "We can also represent flow decomposition on maps."
   ]
  },
  {
   "cell_type": "code",
   "execution_count": null,
   "metadata": {},
   "outputs": [],
   "source": [
    "def plot_map(source = None, visited = None):\n",
    "    if (visited is None) == (source is None) :\n",
    "        raise Exception(\"Exactly one of visited or source should be None.\")\n",
    "    if visited is None:\n",
    "        df = pd.DataFrame(df_matrix.loc[source, :])\n",
    "        country = source\n",
    "        directionSelected = \"source\"\n",
    "    else:\n",
    "        df = pd.DataFrame(df_matrix.loc[:, visited])\n",
    "        country = visited\n",
    "        directionSelected = \"visited\"\n",
    "\n",
    "    df = df.rename(columns={country:'Loop Flow'})\n",
    "    source_country_col_name = 'Source country'\n",
    "    visited_country_col_name = 'Visited country'\n",
    "    df[source_country_col_name] = df.index if source is None else [country] * len(df.index)\n",
    "    df[visited_country_col_name] = df.index if visited is None else [country] * len(df.index)\n",
    "    df['iso_alpha'] = [pycountry.countries.get(name=c).alpha_3 for c in df.index]\n",
    "    df['log_loop_flow'] = np.sign(df['Loop Flow'])*np.log10(df['Loop Flow'].abs()+1)\n",
    "\n",
    "    fig = px.choropleth(df, \n",
    "                        locations=\"iso_alpha\",\n",
    "                        color=\"log_loop_flow\",\n",
    "                        hover_data={source_country_col_name: True, visited_country_col_name: True, 'Loop Flow':':.1f', 'log_loop_flow':False, 'iso_alpha':False},\n",
    "                        color_continuous_midpoint=0.0,\n",
    "                        color_continuous_scale=\"RdBu_r\",\n",
    "                        width=1200,\n",
    "                        height=800,\n",
    "                        title=f'Loop flow decomposition with {directionSelected} country = {country}',\n",
    "                        )\n",
    "    int_log_abs_max = int(max(df['log_loop_flow'].max(), df['log_loop_flow'].min()))\n",
    "    tickvals = np.arange(-int_log_abs_max, int_log_abs_max+1)\n",
    "    fig.update_layout(coloraxis_colorbar=dict(\n",
    "        title=\"Loop Flow\",\n",
    "        tickvals=tickvals,\n",
    "        ticktext=[np.sign(v)*10**abs(v) for v in tickvals],\n",
    "    ))\n",
    "    fig.update_geos(\n",
    "        lataxis_range=[30, 70],\n",
    "        lonaxis_range=[-20, 50]\n",
    "    )\n",
    "    fig.show(renderer=\"notebook\")"
   ]
  },
  {
   "cell_type": "code",
   "execution_count": null,
   "metadata": {},
   "outputs": [],
   "source": [
    "country = random.Random(12).choice(list(countries)).name\n",
    "country = pycountry.countries.get(alpha_2='FR').name # \"France\"\n",
    "plot_map(source=country)"
   ]
  },
  {
   "cell_type": "code",
   "execution_count": null,
   "metadata": {},
   "outputs": [],
   "source": [
    "plot_map(visited=country)"
   ]
  },
  {
   "cell_type": "code",
   "execution_count": null,
   "metadata": {},
   "outputs": [],
   "source": []
  }
 ],
 "metadata": {
  "kernelspec": {
   "display_name": "Python 3.9.13 ('flow_dec_env')",
   "language": "python",
   "name": "python3"
  },
  "language_info": {
   "codemirror_mode": {
    "name": "ipython",
    "version": 3
   },
   "file_extension": ".py",
   "mimetype": "text/x-python",
   "name": "python",
   "nbconvert_exporter": "python",
   "pygments_lexer": "ipython3",
   "version": "3.9.13"
  },
  "orig_nbformat": 4,
  "vscode": {
   "interpreter": {
    "hash": "2df26020aabe8ec72f7acd5326fcfd03bd39f30b1076d335abd1c779c1828fde"
   }
  }
 },
 "nbformat": 4,
 "nbformat_minor": 2
}
