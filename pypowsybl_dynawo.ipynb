{
 "cells": [
  {
   "cell_type": "markdown",
   "metadata": {},
   "source": [
    "# Dynawo simulation - Nordic case"
   ]
  },
  {
   "cell_type": "markdown",
   "metadata": {},
   "source": [
    "The Nordic test system is a variation of the so-called Nordic 32-bus system, which was created by the CIGRE Task Force 38-02-08 in 1995 to illustrate the voltage collapse in Sweden that happened in the year 1983. \n",
    "The test case consists of four areas: an equivalent simplified network that has the biggest generators and therefore serves usually as the system reference, the northern region with few loads and more generation, a central area with more load than generation and a southern region loosely connected to the rest of the system.\n",
    "One important characteristic of the system is the high power transfer from the North to the Central area. This characteristic is what ultimately results in long-term voltage collapse if the power transfer capability is affected, e.g. by losing one of the transmission lines that connect both areas.\n",
    "The system comprises 20 generators (nineteen generators and one synchronous condenser) that are hydro and thermal generations. All loads are connected to 20 kV buses and controlled by Load Tap Changers (LTC)."
   ]
  },
  {
   "cell_type": "markdown",
   "metadata": {},
   "source": [
    "## 1 - Dynawo install"
   ]
  },
  {
   "cell_type": "markdown",
   "metadata": {},
   "source": [
    "**For Windows**\n",
    "Follow [this link](https://github.com/dynawo/dynawo?tab=readme-ov-file#installation) to install Dynawo.\n",
    "**For Linux**\n",
    "You can launch the following commands to download the latest distribution:"
   ]
  },
  {
   "cell_type": "code",
   "execution_count": null,
   "metadata": {
    "ExecuteTime": {
     "end_time": "2025-09-30T13:27:40.952466Z",
     "start_time": "2025-09-30T13:27:38.730473Z"
    }
   },
   "outputs": [],
   "source": [
    "!curl -L $(curl -s -L -X GET https://api.github.com/repos/dynawo/dynawo/releases/latest | grep \"Dynawo_Linux\" | grep url | cut -d '\"' -f 4) -o Dynawo_Linux_latest.zip\n",
    "!unzip Dynawo_Linux_latest.zip > /dev/null 2>&1\n",
    "!rm Dynawo_Linux_latest.zip \n",
    "!./dynawo/dynawo.sh help"
   ]
  },
  {
   "cell_type": "markdown",
   "metadata": {},
   "source": [
    "## 2 - Powsybl install"
   ]
  },
  {
   "cell_type": "code",
   "execution_count": null,
   "metadata": {
    "ExecuteTime": {
     "end_time": "2025-09-30T13:27:41.889985Z",
     "start_time": "2025-09-30T13:27:40.967241Z"
    }
   },
   "outputs": [],
   "source": [
    "pip install pypowsybl matplotlib pypowsybl-jupyter"
   ]
  },
  {
   "cell_type": "markdown",
   "metadata": {},
   "source": [
    "The `config.yml` file provided with the notebook has to be edited for some properties:\n",
    "- `dynawo/homeDir` with the Dynawo installation path\n",
    "- `dynawo-simulation-default-parameters` properties with the path of the provided parameters files:\n",
    "    - `parametersFile` with `Nordic.par`\n",
    "    - `network.parametersFile` with `Network.par`\n",
    "    - `solver.parametersFile` with the path of `Solver.par`\n",
    "\n",
    "For Linux users, you can run the following commands:"
   ]
  },
  {
   "cell_type": "code",
   "execution_count": null,
   "metadata": {
    "ExecuteTime": {
     "end_time": "2025-09-30T13:27:42.409371Z",
     "start_time": "2025-09-30T13:27:41.960157Z"
    }
   },
   "outputs": [],
   "source": [
    "CONFIG_DIR=\"$HOME/.itools\"\n",
    "!mkdir \"$CONFIG_DIR\"\n",
    "![ -e \"$CONFIG_DIR/config.yml\" ] && mv \"$CONFIG_DIR/config.yml\" \"$CONFIG_DIR/config.old.yml\"\n",
    "!cp data/dynawo/nordic_case/config.yml \"$CONFIG_DIR/config.yml\"\n",
    "!sed -i \"s|WORKING_DIR|$(pwd)|g\" \"$CONFIG_DIR/config.yml\"\n",
    "!cat \"$CONFIG_DIR/config.yml\""
   ]
  },
  {
   "cell_type": "markdown",
   "metadata": {},
   "source": [
    "## 3 - Base case"
   ]
  },
  {
   "cell_type": "code",
   "execution_count": 4,
   "metadata": {
    "ExecuteTime": {
     "end_time": "2025-09-30T13:27:42.963054Z",
     "start_time": "2025-09-30T13:27:42.430684Z"
    }
   },
   "outputs": [],
   "source": [
    "import pypowsybl as pp\n",
    "import pypowsybl.dynamic as dyn\n",
    "import pypowsybl.report as rp\n",
    "import pandas as pd\n",
    "from pypowsybl_jupyter import display_nad\n",
    "\n",
    "def plot(df):\n",
    "    df.plot(xlabel='Time').xaxis.set_major_formatter(lambda x, pos: '{:.0f} s'.format(x/1000))"
   ]
  },
  {
   "cell_type": "markdown",
   "metadata": {},
   "source": [
    "Load initial situation"
   ]
  },
  {
   "cell_type": "code",
   "execution_count": 5,
   "metadata": {
    "ExecuteTime": {
     "end_time": "2025-09-30T13:27:43.165839Z",
     "start_time": "2025-09-30T13:27:42.968649Z"
    }
   },
   "outputs": [
    {
     "data": {
      "application/vnd.jupyter.widget-view+json": {
       "model_id": "522976f69fff459e86b12783f9d2d41e",
       "version_major": 2,
       "version_minor": 1
      },
      "text/plain": [
       "NadWidget(diagram_data={'svg_data': '<?xml version=\"1.0\" encoding=\"UTF-8\"?>\\n<svg width=\"581.05\" height=\"600.0…"
      ]
     },
     "execution_count": 5,
     "metadata": {},
     "output_type": "execute_result"
    }
   ],
   "source": [
    "network = pp.network.load('data/dynawo/nordic_case/Nordic.xiidm')\n",
    "display_nad(network.get_network_area_diagram())"
   ]
  },
  {
   "cell_type": "markdown",
   "metadata": {},
   "source": [
    "Add generators dynamic models : \n",
    "Out of the total of twenty generators, the Equivalent and the North networks have twelve hydro generators that are modeled by salient-pole machines (GeneratorSynchronousThreeWindingsGoverNordicVRNordic). The two biggest generators belong to the Equivalent grid while the North area has ten generators. On the other hand, there are seven thermal generators modeled by round-rotor machines (GeneratorSynchronousFourWindingsPmConstVRNordic), two of them belong to the small South region, and the remaining five to the Central one that also has a synchronous condenser that is modeled as a salient-pole machine (GeneratorSynchronousThreeWindingsPmConstVRNordic)."
   ]
  },
  {
   "cell_type": "code",
   "execution_count": 6,
   "metadata": {
    "ExecuteTime": {
     "end_time": "2025-09-30T13:27:43.243554Z",
     "start_time": "2025-09-30T13:27:43.237917Z"
    }
   },
   "outputs": [],
   "source": [
    "model_mapping = dyn.ModelMapping()\n",
    "generator_mapping_df = pd.DataFrame.from_records(\n",
    "    index='static_id',\n",
    "    columns=['static_id', 'parameter_set_id', 'model_name'],\n",
    "    data=[('g01', 'g01', 'GeneratorSynchronousThreeWindingsGoverNordicVRNordic'),\n",
    "         ('g02', 'g02', 'GeneratorSynchronousThreeWindingsGoverNordicVRNordic'),\n",
    "         ('g03', 'g03', 'GeneratorSynchronousThreeWindingsGoverNordicVRNordic'),\n",
    "         ('g04', 'g04', 'GeneratorSynchronousThreeWindingsGoverNordicVRNordic'),\n",
    "         ('g05', 'g05', 'GeneratorSynchronousThreeWindingsGoverNordicVRNordic'),\n",
    "         ('g06', 'g06', 'GeneratorSynchronousFourWindingsPmConstVRNordic'),\n",
    "         ('g07', 'g07', 'GeneratorSynchronousFourWindingsPmConstVRNordic'),\n",
    "         ('g08', 'g08', 'GeneratorSynchronousThreeWindingsGoverNordicVRNordic'),\n",
    "         ('g09', 'g09', 'GeneratorSynchronousThreeWindingsGoverNordicVRNordic'),\n",
    "         ('g10', 'g10', 'GeneratorSynchronousThreeWindingsGoverNordicVRNordic'),\n",
    "         ('g11', 'g11', 'GeneratorSynchronousThreeWindingsGoverNordicVRNordic'),\n",
    "         ('g12', 'g12', 'GeneratorSynchronousThreeWindingsGoverNordicVRNordic'),\n",
    "         ('g13', 'g13', 'GeneratorSynchronousThreeWindingsPmConstVRNordic'),\n",
    "         ('g14', 'g14', 'GeneratorSynchronousFourWindingsPmConstVRNordic'),\n",
    "         ('g15', 'g15', 'GeneratorSynchronousFourWindingsPmConstVRNordic'),\n",
    "         ('g16', 'g16', 'GeneratorSynchronousFourWindingsPmConstVRNordic'),\n",
    "         ('g17', 'g17', 'GeneratorSynchronousFourWindingsPmConstVRNordic'),\n",
    "         ('g18', 'g18', 'GeneratorSynchronousFourWindingsPmConstVRNordic'),\n",
    "         ('g19', 'g19', 'GeneratorSynchronousThreeWindingsGoverNordicVRNordic'),\n",
    "         ('g20', 'g20', 'GeneratorSynchronousThreeWindingsGoverNordicVRNordic')])\n",
    "model_mapping.add_synchronous_generator(generator_mapping_df)"
   ]
  },
  {
   "cell_type": "markdown",
   "metadata": {},
   "source": [
    "Add node fault and disconnect line event:\n",
    "The scenario consists of a three-phase fault at bus 4032 with a subsequent opening of the line 4032-4044 without further re-connection."
   ]
  },
  {
   "cell_type": "code",
   "execution_count": 7,
   "metadata": {
    "ExecuteTime": {
     "end_time": "2025-09-30T13:27:43.277699Z",
     "start_time": "2025-09-30T13:27:43.254362Z"
    }
   },
   "outputs": [],
   "source": [
    "event_mapping = dyn.EventMapping()\n",
    "event_mapping.add_node_fault(static_id='4032_401', start_time=1, fault_time=0.1, r_pu=0.025, x_pu=0.025)\n",
    "event_mapping.add_disconnection(static_id='L4032-4044', start_time=1.1)"
   ]
  },
  {
   "cell_type": "markdown",
   "metadata": {},
   "source": [
    "Request curves output"
   ]
  },
  {
   "cell_type": "code",
   "execution_count": 8,
   "metadata": {
    "ExecuteTime": {
     "end_time": "2025-09-30T13:27:43.305289Z",
     "start_time": "2025-09-30T13:27:43.302400Z"
    }
   },
   "outputs": [],
   "source": [
    "variables_mapping = dyn.OutputVariableMapping()\n",
    "variables_mapping.add_standard_model_curves('1042_131', 'U_value')"
   ]
  },
  {
   "cell_type": "markdown",
   "metadata": {},
   "source": [
    "Set simulation parameters and report node"
   ]
  },
  {
   "cell_type": "code",
   "execution_count": 9,
   "metadata": {
    "ExecuteTime": {
     "end_time": "2025-09-30T13:27:43.358149Z",
     "start_time": "2025-09-30T13:27:43.353714Z"
    }
   },
   "outputs": [],
   "source": [
    "param = dyn.Parameters(start_time=0, stop_time=175)\n",
    "report_node = rp.Reporter()"
   ]
  },
  {
   "cell_type": "markdown",
   "metadata": {},
   "source": [
    "Run simulation"
   ]
  },
  {
   "cell_type": "code",
   "execution_count": 10,
   "metadata": {
    "ExecuteTime": {
     "end_time": "2025-09-30T13:27:43.608963Z",
     "start_time": "2025-09-30T13:27:43.410617Z"
    }
   },
   "outputs": [],
   "source": [
    "sim = dyn.Simulation()\n",
    "res = sim.run(network, model_mapping, event_mapping, variables_mapping, param, report_node)"
   ]
  },
  {
   "cell_type": "markdown",
   "metadata": {},
   "source": [
    "Display curve "
   ]
  },
  {
   "cell_type": "code",
   "execution_count": 11,
   "metadata": {},
   "outputs": [
    {
     "data": {
      "image/png": "[encoded data removed]",
      "text/plain": [
       "<Figure size 640x480 with 1 Axes>"
      ]
     },
     "metadata": {},
     "output_type": "display_data"
    }
   ],
   "source": [
    "plot(res.curves())"
   ]
  },
  {
   "cell_type": "markdown",
   "metadata": {},
   "source": [
    "Comment on the result:\n",
    "The line 4032-4044 is tripped at 1.1s, 0.1 s after the fault occurred. The system tends to settle to a new equilibrium around 30 s, where the voltage rate of change is slow. At around 34 s, the LTCs start acting, by changing taps several times, attempting to restore the distribution voltage and hence the load consumption. It can be seen in the figure with the different spikes where the LTC action, leads to an increase in the voltage level. The action of the LTC forces the generators to increase their reactive power injection and therefore their field current. Due to the actions of the LTCs, the OELs of some generators limit the field current. This leads to the voltage collapse depicted in the figure."
   ]
  },
  {
   "cell_type": "markdown",
   "metadata": {},
   "source": [
    "## 4 - Second simulation with tap changer blocking automation system"
   ]
  },
  {
   "cell_type": "markdown",
   "metadata": {},
   "source": [
    "Add a tap changer blocking automaton that will block the transformer when the monitored voltage is below a certain threshold"
   ]
  },
  {
   "cell_type": "code",
   "execution_count": 12,
   "metadata": {},
   "outputs": [],
   "source": [
    "tcb_df = pd.DataFrame.from_records(\n",
    "    index='dynamic_model_id',\n",
    "    columns=['dynamic_model_id', 'parameter_set_id'],\n",
    "    data=[('TCB', 'TCB')])\n",
    "# Transformers\n",
    "tfo_ids = ['Tr11-1011', 'Tr12-1012', 'Tr13-1013', 'Tr22-1022', 'Tr1-1041', 'Tr2-1042', 'Tr3-1043', 'Tr4-1044', 'Tr5-1045', 'Tr31-2031',\n",
    "        'Tr32-2032', 'Tr41-4041', 'Tr42-4042', 'Tr43-4043', 'Tr46-4046', 'Tr47-4047', 'Tr51-4051', 'Tr61-4061', 'Tr62-4062', 'Tr63-4063'\n",
    "        'Tr71-4071', 'Tr72-4072']\n",
    "tfo_df = pd.DataFrame.from_records(\n",
    "    index='dynamic_model_id',\n",
    "    columns=['dynamic_model_id', 'transformer_id'],\n",
    "    data={'dynamic_model_id': ['TCB' for tfo in tfo_ids],\n",
    "        'transformer_id': tfo_ids})\n",
    "# Measurement point\n",
    "measurement1_df = pd.DataFrame.from_records(\n",
    "    index='dynamic_model_id',\n",
    "    columns=['dynamic_model_id', 'measurement_point_id'],\n",
    "    data=[('TCB', '1042_131')])\n",
    "model_mapping.add_tap_changer_blocking_automation_system(df=tcb_df,\n",
    "                                                         tfo_df=tfo_df,\n",
    "                                                         mp1_df=measurement1_df)"
   ]
  },
  {
   "cell_type": "markdown",
   "metadata": {},
   "source": [
    "Modify simulation stop time"
   ]
  },
  {
   "cell_type": "code",
   "execution_count": 13,
   "metadata": {},
   "outputs": [],
   "source": [
    "param.stop_time = 300"
   ]
  },
  {
   "cell_type": "markdown",
   "metadata": {},
   "source": [
    "Run second simulation"
   ]
  },
  {
   "cell_type": "code",
   "execution_count": 14,
   "metadata": {},
   "outputs": [],
   "source": [
    "network = pp.network.load('data/dynawo/nordic_case/Nordic.xiidm')\n",
    "res = sim.run(network, model_mapping, event_mapping, variables_mapping, param, report_node)"
   ]
  },
  {
   "cell_type": "markdown",
   "metadata": {},
   "source": [
    "Display curve"
   ]
  },
  {
   "cell_type": "code",
   "execution_count": 15,
   "metadata": {},
   "outputs": [
    {
     "data": {
      "image/png": "[encoded data removed]",
      "text/plain": [
       "<Figure size 640x480 with 1 Axes>"
      ]
     },
     "metadata": {},
     "output_type": "display_data"
    }
   ],
   "source": [
    "plot(res.curves())"
   ]
  },
  {
   "cell_type": "markdown",
   "metadata": {},
   "source": [
    "Comment on the result :\n",
    "When adding a Tap Changer Blocking automation system, that blocks the LTCs when the voltage at bus 1042 is below 120kV, the voltage collapse is avoided, as shown in the figure."
   ]
  }
 ],
 "metadata": {
  "kernelspec": {
   "display_name": "Python 3 (ipykernel)",
   "language": "python",
   "name": "python3"
  },
  "language_info": {
   "codemirror_mode": {
    "name": "ipython",
    "version": 3
   },
   "file_extension": ".py",
   "mimetype": "text/x-python",
   "name": "python",
   "nbconvert_exporter": "python",
   "pygments_lexer": "ipython3",
   "version": "3.10.12"
  }
 },
 "nbformat": 4,
 "nbformat_minor": 4
}
