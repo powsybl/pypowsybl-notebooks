{
 "cells": [
  {
   "cell_type": "markdown",
   "id": "cd771be5-d4a8-4a23-a665-44acb6c3d19e",
   "metadata": {},
   "source": [
    "## Animating the network-area-diagram: bringing the grid to life!\n",
    "  - This notebook demonstrates how to **visualize network states over time**.\n",
    "  - We will build a time-indexed dataset and drive a diagram with a time slider."
   ]
  },
  {
   "cell_type": "markdown",
   "id": "040a7768-a486-473b-9df9-950bedde2bcd",
   "metadata": {},
   "source": [
    "#### 1. Load the network snapshots\n",
    "- We create 2 snapshots based on the IEEE 300 network.\n",
    "- We build a timestamp dataframe based on\n",
    "   - p1, p2 values\n",
    "   - connected1, connected2 values"
   ]
  },
  {
   "cell_type": "code",
   "execution_count": null,
   "id": "7b78d772-3998-4d10-8b52-315b18abf7fa",
   "metadata": {},
   "outputs": [],
   "source": [
    "import pypowsybl.network as pn\n",
    "import pypowsybl.loadflow as plf\n",
    "import pandas as pd\n",
    "\n",
    "network_changes = pd.DataFrame({\n",
    "    'timestamp': ['1700', '1730', '1800'],\n",
    "    'b1_l_increase': [0, 200, 400],\n",
    "    'b76_g_increase': [0, 200, 400],\n",
    "    'l5_9_connection': [True, False, False]\n",
    "})\n",
    "\n",
    "rows = []\n",
    "for row in network_changes.itertuples(index=True, name=\"Row\"):\n",
    "    \n",
    "    # faking the loading of real snapshots\n",
    "    network = pn.create_ieee300()\n",
    "    network.update_loads(id='B1-L', p0 = 90 + row.b1_l_increase)\n",
    "    network.update_generators(id='B76-G', target_p = row.b76_g_increase)\n",
    "    network.update_branches(id='L5-9-1', connected1 = row.l5_9_connection)\n",
    "\n",
    "    plf.run_ac(network)\n",
    "    \n",
    "    branches = network.get_branches(attributes=[\"p1\", \"p2\", \"connected1\", \"connected2\"])\n",
    "    branches = branches.reset_index()\n",
    "    timestamp_df = pd.DataFrame({\n",
    "        'branch_id': branches['id'],\n",
    "        'timestamp': pd.to_datetime(row.timestamp, format=\"%H%M\"),\n",
    "        'value1': branches['p1'].fillna(0.0),\n",
    "        'value2': branches['p2'].fillna(0.0),\n",
    "        'connected1': branches['connected1'],\n",
    "        'connected2': branches['connected2']\n",
    "    })\n",
    "    rows.append(timestamp_df)\n",
    "\n",
    "time_series_df = pd.concat(rows, ignore_index=True)\n",
    "time_series_df"
   ]
  },
  {
   "cell_type": "markdown",
   "id": "c8f15fd5-5a9f-4495-950c-999a854f18f2",
   "metadata": {},
   "source": [
    "- searching the branches whose connection state changes during the studied time slot"
   ]
  },
  {
   "cell_type": "code",
   "execution_count": null,
   "id": "9bb6bfc5-8bf5-4114-aadb-69cdbee30722",
   "metadata": {},
   "outputs": [],
   "source": [
    "changing_c1 = time_series_df.groupby('branch_id')['connected1'].nunique() > 1\n",
    "changing_c2 = time_series_df.groupby('branch_id')['connected2'].nunique() > 1\n",
    "changing_branches = (changing_c1 | changing_c2)\n",
    "changing_branches[changing_branches].index.tolist()"
   ]
  },
  {
   "cell_type": "markdown",
   "id": "1b156fcf-3fae-4dda-ab33-12e42287fa07",
   "metadata": {},
   "source": [
    "#### 2. Displaying the results\n",
    "- Again, we use the pseudo-geographical fixed nad positions\n",
    "- Two limitations:\n",
    "    - the time slider is only available in nad_explorer widget so far\n",
    "    - only active power values are updated so far "
   ]
  },
  {
   "cell_type": "markdown",
   "id": "5e4a2c22-bded-491e-b0d4-edfb3cfac6c5",
   "metadata": {},
   "source": [
    "##### Displaying the nad_explorer widget for the full network\n",
    "- Select VL5 (or zoom on it) to see the line disconnection and the increase of active powers near VL1.\n",
    "- Select VL76 (or zoom on it) to see the increase of active powers around it."
   ]
  },
  {
   "cell_type": "code",
   "execution_count": null,
   "id": "ee7817da-ef22-4f6f-b5de-28a653eda0a4",
   "metadata": {},
   "outputs": [],
   "source": [
    "from pypowsybl_jupyter import nad_explorer\n",
    "\n",
    "nad_explorer(network, depth=2, time_series_data=time_series_df)"
   ]
  },
  {
   "cell_type": "code",
   "execution_count": null,
   "id": "7de31700-5c9e-4ae9-85cc-788bec017bb5",
   "metadata": {},
   "outputs": [],
   "source": []
  }
 ],
 "metadata": {
  "kernelspec": {
   "display_name": "Python 3 (ipykernel)",
   "language": "python",
   "name": "python3"
  },
  "language_info": {
   "codemirror_mode": {
    "name": "ipython",
    "version": 3
   },
   "file_extension": ".py",
   "mimetype": "text/x-python",
   "name": "python",
   "nbconvert_exporter": "python",
   "pygments_lexer": "ipython3",
   "version": "3.10.12"
  }
 },
 "nbformat": 4,
 "nbformat_minor": 5
}
