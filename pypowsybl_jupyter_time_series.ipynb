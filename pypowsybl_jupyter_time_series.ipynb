{
 "cells": [
  {
   "cell_type": "markdown",
   "id": "cd771be5-d4a8-4a23-a665-44acb6c3d19e",
   "metadata": {},
   "source": [
    "## Animating the network-area-diagram: bringing the grid to life!\n",
    "  - This notebook demonstrates how to **visualize network states over time**.\n",
    "  - We will build a time-indexed dataset and drive a diagram with a time slider."
   ]
  },
  {
   "cell_type": "markdown",
   "id": "040a7768-a486-473b-9df9-950bedde2bcd",
   "metadata": {},
   "source": [
    "#### 1. Load the network snapshots\n",
    "- We create 2 snapshots based on the IEEE 300 network.\n",
    "- We build a timestamp dataframe based on\n",
    "   - p1, p2 values\n",
    "   - connected1, connected2 values"
   ]
  },
  {
   "cell_type": "code",
   "execution_count": 18,
   "id": "7b78d772-3998-4d10-8b52-315b18abf7fa",
   "metadata": {},
   "outputs": [
    {
     "data": {
      "text/html": [
       "<div>\n",
       "<style scoped>\n",
       "    .dataframe tbody tr th:only-of-type {\n",
       "        vertical-align: middle;\n",
       "    }\n",
       "\n",
       "    .dataframe tbody tr th {\n",
       "        vertical-align: top;\n",
       "    }\n",
       "\n",
       "    .dataframe thead th {\n",
       "        text-align: right;\n",
       "    }\n",
       "</style>\n",
       "<table border=\"1\" class=\"dataframe\">\n",
       "  <thead>\n",
       "    <tr style=\"text-align: right;\">\n",
       "      <th></th>\n",
       "      <th>branch_id</th>\n",
       "      <th>timestamp</th>\n",
       "      <th>value1</th>\n",
       "      <th>value2</th>\n",
       "      <th>connected1</th>\n",
       "      <th>connected2</th>\n",
       "    </tr>\n",
       "  </thead>\n",
       "  <tbody>\n",
       "    <tr>\n",
       "      <th>0</th>\n",
       "      <td>L9001-9005-1</td>\n",
       "      <td>1900-01-01 17:00:00</td>\n",
       "      <td>36.092682</td>\n",
       "      <td>-36.082186</td>\n",
       "      <td>True</td>\n",
       "      <td>True</td>\n",
       "    </tr>\n",
       "    <tr>\n",
       "      <th>1</th>\n",
       "      <td>L9006-9007-1</td>\n",
       "      <td>1900-01-01 17:00:00</td>\n",
       "      <td>9.116282</td>\n",
       "      <td>-9.066860</td>\n",
       "      <td>True</td>\n",
       "      <td>True</td>\n",
       "    </tr>\n",
       "    <tr>\n",
       "      <th>2</th>\n",
       "      <td>L9006-9003-1</td>\n",
       "      <td>1900-01-01 17:00:00</td>\n",
       "      <td>8.088526</td>\n",
       "      <td>-8.011254</td>\n",
       "      <td>True</td>\n",
       "      <td>True</td>\n",
       "    </tr>\n",
       "    <tr>\n",
       "      <th>3</th>\n",
       "      <td>L9006-9003-2</td>\n",
       "      <td>1900-01-01 17:00:00</td>\n",
       "      <td>8.088526</td>\n",
       "      <td>-8.011254</td>\n",
       "      <td>True</td>\n",
       "      <td>True</td>\n",
       "    </tr>\n",
       "    <tr>\n",
       "      <th>4</th>\n",
       "      <td>L9012-9002-1</td>\n",
       "      <td>1900-01-01 17:00:00</td>\n",
       "      <td>6.431540</td>\n",
       "      <td>-6.399717</td>\n",
       "      <td>True</td>\n",
       "      <td>True</td>\n",
       "    </tr>\n",
       "    <tr>\n",
       "      <th>...</th>\n",
       "      <td>...</td>\n",
       "      <td>...</td>\n",
       "      <td>...</td>\n",
       "      <td>...</td>\n",
       "      <td>...</td>\n",
       "      <td>...</td>\n",
       "    </tr>\n",
       "    <tr>\n",
       "      <th>1228</th>\n",
       "      <td>T7039-39-1</td>\n",
       "      <td>1900-01-01 18:00:00</td>\n",
       "      <td>499.999959</td>\n",
       "      <td>-499.999959</td>\n",
       "      <td>True</td>\n",
       "      <td>True</td>\n",
       "    </tr>\n",
       "    <tr>\n",
       "      <th>1229</th>\n",
       "      <td>T7057-57-1</td>\n",
       "      <td>1900-01-01 18:00:00</td>\n",
       "      <td>164.999999</td>\n",
       "      <td>-164.999999</td>\n",
       "      <td>True</td>\n",
       "      <td>True</td>\n",
       "    </tr>\n",
       "    <tr>\n",
       "      <th>1230</th>\n",
       "      <td>T7044-44-1</td>\n",
       "      <td>1900-01-01 18:00:00</td>\n",
       "      <td>36.999973</td>\n",
       "      <td>-36.999973</td>\n",
       "      <td>True</td>\n",
       "      <td>True</td>\n",
       "    </tr>\n",
       "    <tr>\n",
       "      <th>1231</th>\n",
       "      <td>T7055-55-1</td>\n",
       "      <td>1900-01-01 18:00:00</td>\n",
       "      <td>44.999996</td>\n",
       "      <td>-44.999996</td>\n",
       "      <td>True</td>\n",
       "      <td>True</td>\n",
       "    </tr>\n",
       "    <tr>\n",
       "      <th>1232</th>\n",
       "      <td>T7071-71-1</td>\n",
       "      <td>1900-01-01 18:00:00</td>\n",
       "      <td>115.922227</td>\n",
       "      <td>-115.922227</td>\n",
       "      <td>True</td>\n",
       "      <td>True</td>\n",
       "    </tr>\n",
       "  </tbody>\n",
       "</table>\n",
       "<p>1233 rows × 6 columns</p>\n",
       "</div>"
      ],
      "text/plain": [
       "         branch_id           timestamp      value1      value2  connected1  \\\n",
       "0     L9001-9005-1 1900-01-01 17:00:00   36.092682  -36.082186        True   \n",
       "1     L9006-9007-1 1900-01-01 17:00:00    9.116282   -9.066860        True   \n",
       "2     L9006-9003-1 1900-01-01 17:00:00    8.088526   -8.011254        True   \n",
       "3     L9006-9003-2 1900-01-01 17:00:00    8.088526   -8.011254        True   \n",
       "4     L9012-9002-1 1900-01-01 17:00:00    6.431540   -6.399717        True   \n",
       "...            ...                 ...         ...         ...         ...   \n",
       "1228    T7039-39-1 1900-01-01 18:00:00  499.999959 -499.999959        True   \n",
       "1229    T7057-57-1 1900-01-01 18:00:00  164.999999 -164.999999        True   \n",
       "1230    T7044-44-1 1900-01-01 18:00:00   36.999973  -36.999973        True   \n",
       "1231    T7055-55-1 1900-01-01 18:00:00   44.999996  -44.999996        True   \n",
       "1232    T7071-71-1 1900-01-01 18:00:00  115.922227 -115.922227        True   \n",
       "\n",
       "      connected2  \n",
       "0           True  \n",
       "1           True  \n",
       "2           True  \n",
       "3           True  \n",
       "4           True  \n",
       "...          ...  \n",
       "1228        True  \n",
       "1229        True  \n",
       "1230        True  \n",
       "1231        True  \n",
       "1232        True  \n",
       "\n",
       "[1233 rows x 6 columns]"
      ]
     },
     "execution_count": 18,
     "metadata": {},
     "output_type": "execute_result"
    }
   ],
   "source": [
    "import pypowsybl.network as pn\n",
    "import pypowsybl.loadflow as plf\n",
    "import pandas as pd\n",
    "\n",
    "network_changes = pd.DataFrame({\n",
    "    'timestamp': ['1700', '1730', '1800'],\n",
    "    'b1_l_increase': [0, 200, 400],\n",
    "    'b76_g_increase': [0, 200, 400],\n",
    "    'l5_9_connection': [True, False, False]\n",
    "})\n",
    "\n",
    "rows = []\n",
    "for row in network_changes.itertuples(index=True, name=\"Row\"):\n",
    "    \n",
    "    # faking the loading of real snapshots\n",
    "    network = pn.create_ieee300()\n",
    "    network.update_loads(id='B1-L', p0 = 90 + row.b1_l_increase)\n",
    "    network.update_generators(id='B76-G', target_p = row.b76_g_increase)\n",
    "    network.update_branches(id='L5-9-1', connected1 = row.l5_9_connection)\n",
    "\n",
    "    plf.run_ac(network)\n",
    "    \n",
    "    branches = network.get_branches(attributes=[\"p1\", \"p2\", \"connected1\", \"connected2\"])\n",
    "    branches = branches.reset_index()\n",
    "    timestamp_df = pd.DataFrame({\n",
    "        'branch_id': branches['id'],\n",
    "        'timestamp': pd.to_datetime(row.timestamp, format=\"%H%M\"),\n",
    "        'value1': branches['p1'].fillna(0.0),\n",
    "        'value2': branches['p2'].fillna(0.0),\n",
    "        'connected1': branches['connected1'],\n",
    "        'connected2': branches['connected2']\n",
    "    })\n",
    "    rows.append(timestamp_df)\n",
    "\n",
    "time_series_df = pd.concat(rows, ignore_index=True)\n",
    "time_series_df"
   ]
  },
  {
   "cell_type": "markdown",
   "id": "c8f15fd5-5a9f-4495-950c-999a854f18f2",
   "metadata": {},
   "source": [
    "- searching the branches whose connection state changes during the studied time slot"
   ]
  },
  {
   "cell_type": "code",
   "execution_count": 19,
   "id": "9bb6bfc5-8bf5-4114-aadb-69cdbee30722",
   "metadata": {},
   "outputs": [
    {
     "data": {
      "text/plain": [
       "['L5-9-1']"
      ]
     },
     "execution_count": 19,
     "metadata": {},
     "output_type": "execute_result"
    }
   ],
   "source": [
    "changing_c1 = time_series_df.groupby('branch_id')['connected1'].nunique() > 1\n",
    "changing_c2 = time_series_df.groupby('branch_id')['connected2'].nunique() > 1\n",
    "changing_branches = (changing_c1 | changing_c2)\n",
    "changing_branches[changing_branches].index.tolist()"
   ]
  },
  {
   "cell_type": "markdown",
   "id": "1b156fcf-3fae-4dda-ab33-12e42287fa07",
   "metadata": {},
   "source": [
    "#### 2. Displaying the results\n",
    "- Again, we use the pseudo-geographical fixed nad positions\n",
    "- Two limitations:\n",
    "    - the time slider is only available in nad_explorer widget so far\n",
    "    - only active power values are updated so far "
   ]
  },
  {
   "cell_type": "markdown",
   "id": "5e4a2c22-bded-491e-b0d4-edfb3cfac6c5",
   "metadata": {},
   "source": [
    "##### Displaying the nad_explorer widget for the full network\n",
    "- Select VL5 (or zoom on it) to see the line disconnection and the increase of active powers near VL1.\n",
    "- Select VL76 (or zoom on it) to see the increase of active powers around it."
   ]
  },
  {
   "cell_type": "code",
   "execution_count": 21,
   "id": "ee7817da-ef22-4f6f-b5de-28a653eda0a4",
   "metadata": {},
   "outputs": [
    {
     "data": {
      "application/vnd.jupyter.widget-view+json": {
       "model_id": "352d909d748241929bd6f9f79a8b0880",
       "version_major": 2,
       "version_minor": 0
      },
      "text/plain": [
       "HBox(children=(VBox(children=(Label(value='Voltage levels'), Text(value='', description='Filter', placeholder=…"
      ]
     },
     "execution_count": 21,
     "metadata": {},
     "output_type": "execute_result"
    }
   ],
   "source": [
    "from pypowsybl_jupyter import nad_explorer\n",
    "\n",
    "nad_explorer(network, depth=2, time_series_data=time_series_df)"
   ]
  },
  {
   "cell_type": "code",
   "execution_count": null,
   "id": "7de31700-5c9e-4ae9-85cc-788bec017bb5",
   "metadata": {},
   "outputs": [],
   "source": []
  }
 ],
 "metadata": {
  "kernelspec": {
   "display_name": "Python 3 (ipykernel)",
   "language": "python",
   "name": "python3"
  },
  "language_info": {
   "codemirror_mode": {
    "name": "ipython",
    "version": 3
   },
   "file_extension": ".py",
   "mimetype": "text/x-python",
   "name": "python",
   "nbconvert_exporter": "python",
   "pygments_lexer": "ipython3",
   "version": "3.10.12"
  }
 },
 "nbformat": 4,
 "nbformat_minor": 5
}
