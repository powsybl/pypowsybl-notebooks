{
 "cells": [
  {
   "cell_type": "markdown",
   "metadata": {},
   "source": [
    "DynaFlow is a new steady-state simulation tool that aims at calculating the steady-state point by using a simplified time-domain simulation, guaranteeing the correctness of the solution found. \n",
    "This tutorial aims at illustrating the interest of Dynaflow compared to a fully static simulator."
   ]
  },
  {
   "cell_type": "markdown",
   "metadata": {},
   "source": [
    "The system is made of a generator, two phase shifter transformers in parallel, a transformer, five lines and a load.\n",
    "\n",
    "We simulate the opening of a line at t = 30s with different scenarios on the time constants of the phase shifters:\n",
    "1) The two phase shifters have the following time constants: t1st = 40s and tNext = 20s.\n",
    "2) One phase shifter has the following time constants: t1st = 20s and tNext= 10s, the other one: t1st = 40s and tNext = 20s."
   ]
  },
  {
   "cell_type": "markdown",
   "metadata": {},
   "source": [
    "1/ DYNAFLOW installing"
   ]
  },
  {
   "cell_type": "code",
   "execution_count": null,
   "metadata": {},
   "outputs": [],
   "source": [
    "!curl -L $(curl -s -L -X GET https://api.github.com/repos/dynawo/dynaflow-launcher/releases/latest | grep \"DynaFlowLauncher_Linux\" | grep url | cut -d '\"' -f 4) -o DynaflowLauncher_Linux_latest.zip\n",
    "!unzip DynaflowLauncher_Linux_latest.zip > /dev/null 2>&1\n",
    "!./dynaflow-launcher/dynaflow-launcher.sh help"
   ]
  },
  {
   "cell_type": "markdown",
   "metadata": {},
   "source": [
    "2/ POWSYBL installing and setting of default parameter (path to dynaflow_launcher)"
   ]
  },
  {
   "cell_type": "code",
   "execution_count": null,
   "metadata": {},
   "outputs": [],
   "source": [
    "pip install pypowsybl > /dev/null 2>&1"
   ]
  },
  {
   "cell_type": "code",
   "execution_count": null,
   "metadata": {},
   "outputs": [],
   "source": [
    "!mkdir /home/jovyan/.itools/\n",
    "!cp /home/jovyan/Dynaflow_notebook/config.yml /home/jovyan/.itools/\n",
    "!cat /home/jovyan/.itools/config.yml"
   ]
  },
  {
   "cell_type": "markdown",
   "metadata": {},
   "source": [
    "3/ NOTEBOOK"
   ]
  },
  {
   "cell_type": "code",
   "execution_count": null,
   "metadata": {},
   "outputs": [],
   "source": [
    "import pypowsybl\n",
    "import pypowsybl.network as pn\n",
    "import pypowsybl.loadflow as lf\n",
    "import pypowsybl.security as sa\n",
    "import os.path"
   ]
  },
  {
   "cell_type": "code",
   "execution_count": 2,
   "metadata": {},
   "outputs": [],
   "source": [
    "# Load initial situation\n",
    "network_file = 'PhaseShifters.iidm'\n",
    "network = pn.load(network_file)\n",
    "network.get_network_area_diagram()"
   ]
  },
  {
   "cell_type": "code",
   "execution_count": 3,
   "metadata": {},
   "outputs": [
    {
     "data": {
      "text/html": [
       "<div>\n",
       "<style scoped>\n",
       "    .dataframe tbody tr th:only-of-type {\n",
       "        vertical-align: middle;\n",
       "    }\n",
       "\n",
       "    .dataframe tbody tr th {\n",
       "        vertical-align: top;\n",
       "    }\n",
       "\n",
       "    .dataframe thead th {\n",
       "        text-align: right;\n",
       "    }\n",
       "</style>\n",
       "<table border=\"1\" class=\"dataframe\">\n",
       "  <thead>\n",
       "    <tr style=\"text-align: right;\">\n",
       "      <th></th>\n",
       "      <th>tap</th>\n",
       "      <th>low_tap</th>\n",
       "      <th>high_tap</th>\n",
       "      <th>step_count</th>\n",
       "      <th>regulating</th>\n",
       "      <th>regulation_mode</th>\n",
       "      <th>regulation_value</th>\n",
       "      <th>target_deadband</th>\n",
       "      <th>regulating_bus_id</th>\n",
       "    </tr>\n",
       "    <tr>\n",
       "      <th>id</th>\n",
       "      <th></th>\n",
       "      <th></th>\n",
       "      <th></th>\n",
       "      <th></th>\n",
       "      <th></th>\n",
       "      <th></th>\n",
       "      <th></th>\n",
       "      <th></th>\n",
       "      <th></th>\n",
       "    </tr>\n",
       "  </thead>\n",
       "  <tbody>\n",
       "    <tr>\n",
       "      <th>_BUS____5-BUS____6-1_PS</th>\n",
       "      <td>13</td>\n",
       "      <td>1</td>\n",
       "      <td>25</td>\n",
       "      <td>25</td>\n",
       "      <td>True</td>\n",
       "      <td>CURRENT_LIMITER</td>\n",
       "      <td>770.0</td>\n",
       "      <td>0.0</td>\n",
       "      <td>_BUS____5_VL_0</td>\n",
       "    </tr>\n",
       "    <tr>\n",
       "      <th>_BUS____5-BUS____7-2_PS</th>\n",
       "      <td>13</td>\n",
       "      <td>1</td>\n",
       "      <td>25</td>\n",
       "      <td>25</td>\n",
       "      <td>True</td>\n",
       "      <td>CURRENT_LIMITER</td>\n",
       "      <td>770.0</td>\n",
       "      <td>0.0</td>\n",
       "      <td>_BUS____5_VL_0</td>\n",
       "    </tr>\n",
       "  </tbody>\n",
       "</table>\n",
       "</div>"
      ],
      "text/plain": [
       "                         tap  low_tap  high_tap  step_count  regulating  \\\n",
       "id                                                                        \n",
       "_BUS____5-BUS____6-1_PS   13        1        25          25        True   \n",
       "_BUS____5-BUS____7-2_PS   13        1        25          25        True   \n",
       "\n",
       "                         regulation_mode  regulation_value  target_deadband  \\\n",
       "id                                                                            \n",
       "_BUS____5-BUS____6-1_PS  CURRENT_LIMITER             770.0              0.0   \n",
       "_BUS____5-BUS____7-2_PS  CURRENT_LIMITER             770.0              0.0   \n",
       "\n",
       "                        regulating_bus_id  \n",
       "id                                         \n",
       "_BUS____5-BUS____6-1_PS    _BUS____5_VL_0  \n",
       "_BUS____5-BUS____7-2_PS    _BUS____5_VL_0  "
      ]
     },
     "execution_count": 3,
     "metadata": {},
     "output_type": "execute_result"
    }
   ],
   "source": [
    "# Initial tap positions\n",
    "network.get_phase_tap_changers()"
   ]
  },
  {
   "cell_type": "code",
   "execution_count": 6,
   "metadata": {},
   "outputs": [
    {
     "ename": "PyPowsyblError",
     "evalue": "com.powsybl.commons.PowsyblException: Error during the execution in directory  /home/pachecam/tmp/dynaflow_12102227360503391858 exit codes: Task 0 : 134",
     "output_type": "error",
     "traceback": [
      "\u001b[0;31m---------------------------------------------------------------------------\u001b[0m",
      "\u001b[0;31mPyPowsyblError\u001b[0m                            Traceback (most recent call last)",
      "\u001b[0;32m<ipython-input-6-6749cc6f8f63>\u001b[0m in \u001b[0;36m<module>\u001b[0;34m\u001b[0m\n\u001b[1;32m     10\u001b[0m                                        \u001b[0;34m'chosenOutputs'\u001b[0m \u001b[0;34m:\u001b[0m \u001b[0;34m'STEADYSTATE, LOSTEQ, TIMELINE, CONSTRAINTS'\u001b[0m\u001b[0;34m,\u001b[0m\u001b[0;34m\u001b[0m\u001b[0;34m\u001b[0m\u001b[0m\n\u001b[1;32m     11\u001b[0m                                        'timeStep' : '2.6'})\n\u001b[0;32m---> 12\u001b[0;31m \u001b[0mlf\u001b[0m\u001b[0;34m.\u001b[0m\u001b[0mrun_ac\u001b[0m\u001b[0;34m(\u001b[0m\u001b[0mnetwork\u001b[0m\u001b[0;34m,\u001b[0m \u001b[0mparameters\u001b[0m\u001b[0;34m=\u001b[0m\u001b[0mp\u001b[0m\u001b[0;34m,\u001b[0m \u001b[0mprovider\u001b[0m\u001b[0;34m=\u001b[0m\u001b[0;34m'DynaFlow'\u001b[0m\u001b[0;34m)\u001b[0m\u001b[0;34m\u001b[0m\u001b[0;34m\u001b[0m\u001b[0m\n\u001b[0m\u001b[1;32m     13\u001b[0m \u001b[0mnetwork1\u001b[0m \u001b[0;34m=\u001b[0m \u001b[0mnetwork\u001b[0m\u001b[0;34m\u001b[0m\u001b[0;34m\u001b[0m\u001b[0m\n",
      "\u001b[0;32m~/anaconda3/lib/python3.8/site-packages/pypowsybl/loadflow.py\u001b[0m in \u001b[0;36mrun_ac\u001b[0;34m(network, parameters, provider, reporter)\u001b[0m\n\u001b[1;32m    263\u001b[0m     \"\"\"\n\u001b[1;32m    264\u001b[0m     \u001b[0mp\u001b[0m \u001b[0;34m=\u001b[0m \u001b[0mparameters\u001b[0m\u001b[0;34m.\u001b[0m\u001b[0m_to_c_parameters\u001b[0m\u001b[0;34m(\u001b[0m\u001b[0;34m)\u001b[0m \u001b[0;32mif\u001b[0m \u001b[0mparameters\u001b[0m \u001b[0;32mis\u001b[0m \u001b[0;32mnot\u001b[0m \u001b[0;32mNone\u001b[0m \u001b[0;32melse\u001b[0m \u001b[0m_pypowsybl\u001b[0m\u001b[0;34m.\u001b[0m\u001b[0mLoadFlowParameters\u001b[0m\u001b[0;34m(\u001b[0m\u001b[0;34m)\u001b[0m\u001b[0;34m\u001b[0m\u001b[0;34m\u001b[0m\u001b[0m\n\u001b[0;32m--> 265\u001b[0;31m     \u001b[0;32mreturn\u001b[0m \u001b[0;34m[\u001b[0m\u001b[0mComponentResult\u001b[0m\u001b[0;34m(\u001b[0m\u001b[0mres\u001b[0m\u001b[0;34m)\u001b[0m \u001b[0;32mfor\u001b[0m \u001b[0mres\u001b[0m \u001b[0;32min\u001b[0m \u001b[0m_pypowsybl\u001b[0m\u001b[0;34m.\u001b[0m\u001b[0mrun_loadflow\u001b[0m\u001b[0;34m(\u001b[0m\u001b[0mnetwork\u001b[0m\u001b[0;34m.\u001b[0m\u001b[0m_handle\u001b[0m\u001b[0;34m,\u001b[0m \u001b[0;32mFalse\u001b[0m\u001b[0;34m,\u001b[0m \u001b[0mp\u001b[0m\u001b[0;34m,\u001b[0m \u001b[0mprovider\u001b[0m\u001b[0;34m,\u001b[0m \u001b[0;32mNone\u001b[0m \u001b[0;32mif\u001b[0m \u001b[0mreporter\u001b[0m \u001b[0;32mis\u001b[0m \u001b[0;32mNone\u001b[0m \u001b[0;32melse\u001b[0m \u001b[0mreporter\u001b[0m\u001b[0;34m.\u001b[0m\u001b[0m_reporter_model\u001b[0m\u001b[0;34m)\u001b[0m\u001b[0;34m]\u001b[0m \u001b[0;31m# pylint: disable=protected-access\u001b[0m\u001b[0;34m\u001b[0m\u001b[0;34m\u001b[0m\u001b[0m\n\u001b[0m\u001b[1;32m    266\u001b[0m \u001b[0;34m\u001b[0m\u001b[0m\n\u001b[1;32m    267\u001b[0m \u001b[0;34m\u001b[0m\u001b[0m\n",
      "\u001b[0;31mPyPowsyblError\u001b[0m: com.powsybl.commons.PowsyblException: Error during the execution in directory  /home/pachecam/tmp/dynaflow_12102227360503391858 exit codes: Task 0 : 134"
     ]
    }
   ],
   "source": [
    "# 1st Dynaflow simulation: identical time constants (defined in file \"setting-1.xml\")\n",
    "p = lf.Parameters(provider_parameters={'svcRegulationOn' : 'true',\n",
    "                                       'shuntRegulationOn' : 'true',\n",
    "                                       'automaticSlackBusOn' : 'true',\n",
    "                                       'dsoVoltageLevel' : '63.0',\n",
    "                                       'activePowerCompensation' : 'P',\n",
    "                                       'settingPath' : os.getcwd() + '/setting-1.xml',\n",
    "                                       'assemblingPath' : os.getcwd() + '/assembling.xml',\n",
    "                                       'stopTime' : '300',\n",
    "                                       'chosenOutputs' : 'STEADYSTATE, LOSTEQ, TIMELINE, CONSTRAINTS',\n",
    "                                       'timeStep' : '2.6'})\n",
    "lf.run_ac(network, parameters=p, provider='DynaFlow')\n",
    "network1 = network"
   ]
  },
  {
   "cell_type": "code",
   "execution_count": 14,
   "metadata": {},
   "outputs": [
    {
     "data": {
      "text/html": [
       "<div>\n",
       "<style scoped>\n",
       "    .dataframe tbody tr th:only-of-type {\n",
       "        vertical-align: middle;\n",
       "    }\n",
       "\n",
       "    .dataframe tbody tr th {\n",
       "        vertical-align: top;\n",
       "    }\n",
       "\n",
       "    .dataframe thead th {\n",
       "        text-align: right;\n",
       "    }\n",
       "</style>\n",
       "<table border=\"1\" class=\"dataframe\">\n",
       "  <thead>\n",
       "    <tr style=\"text-align: right;\">\n",
       "      <th></th>\n",
       "      <th>tap</th>\n",
       "      <th>low_tap</th>\n",
       "      <th>high_tap</th>\n",
       "      <th>step_count</th>\n",
       "      <th>regulating</th>\n",
       "      <th>regulation_mode</th>\n",
       "      <th>regulation_value</th>\n",
       "      <th>target_deadband</th>\n",
       "      <th>regulating_bus_id</th>\n",
       "    </tr>\n",
       "    <tr>\n",
       "      <th>id</th>\n",
       "      <th></th>\n",
       "      <th></th>\n",
       "      <th></th>\n",
       "      <th></th>\n",
       "      <th></th>\n",
       "      <th></th>\n",
       "      <th></th>\n",
       "      <th></th>\n",
       "      <th></th>\n",
       "    </tr>\n",
       "  </thead>\n",
       "  <tbody>\n",
       "    <tr>\n",
       "      <th>_BUS____5-BUS____6-1_PS</th>\n",
       "      <td>18</td>\n",
       "      <td>1</td>\n",
       "      <td>25</td>\n",
       "      <td>25</td>\n",
       "      <td>True</td>\n",
       "      <td>CURRENT_LIMITER</td>\n",
       "      <td>770.0</td>\n",
       "      <td>0.0</td>\n",
       "      <td>_BUS____5_VL_0</td>\n",
       "    </tr>\n",
       "    <tr>\n",
       "      <th>_BUS____5-BUS____7-2_PS</th>\n",
       "      <td>18</td>\n",
       "      <td>1</td>\n",
       "      <td>25</td>\n",
       "      <td>25</td>\n",
       "      <td>True</td>\n",
       "      <td>CURRENT_LIMITER</td>\n",
       "      <td>770.0</td>\n",
       "      <td>0.0</td>\n",
       "      <td>_BUS____5_VL_0</td>\n",
       "    </tr>\n",
       "  </tbody>\n",
       "</table>\n",
       "</div>"
      ],
      "text/plain": [
       "                         tap  low_tap  high_tap  step_count  regulating  \\\n",
       "id                                                                        \n",
       "_BUS____5-BUS____6-1_PS   18        1        25          25        True   \n",
       "_BUS____5-BUS____7-2_PS   18        1        25          25        True   \n",
       "\n",
       "                         regulation_mode  regulation_value  target_deadband  \\\n",
       "id                                                                            \n",
       "_BUS____5-BUS____6-1_PS  CURRENT_LIMITER             770.0              0.0   \n",
       "_BUS____5-BUS____7-2_PS  CURRENT_LIMITER             770.0              0.0   \n",
       "\n",
       "                        regulating_bus_id  \n",
       "id                                         \n",
       "_BUS____5-BUS____6-1_PS    _BUS____5_VL_0  \n",
       "_BUS____5-BUS____7-2_PS    _BUS____5_VL_0  "
      ]
     },
     "execution_count": 14,
     "metadata": {},
     "output_type": "execute_result"
    }
   ],
   "source": [
    "# Final tap positions after N-1 simulation with identical time constants\n",
    "network1.get_phase_tap_changers()"
   ]
  },
  {
   "cell_type": "code",
   "execution_count": 15,
   "metadata": {},
   "outputs": [],
   "source": [
    "# 2nd Dynaflow simulation: different time constants (defined in file \"setting-2.xml\")\n",
    "network = pn.load(network_file)\n",
    "p = lf.Parameters(provider_parameters={'svcRegulationOn' : 'true',\n",
    "                                       'shuntRegulationOn' : 'true',\n",
    "                                       'automaticSlackBusOn' : 'true',\n",
    "                                       'dsoVoltageLevel' : '63.0',\n",
    "                                       'activePowerCompensation' : 'P',\n",
    "                                       'settingPath' : os.getcwd() + '/setting-2.xml',\n",
    "                                       'assemblingPath' : os.getcwd() + '/assembling.xml',\n",
    "                                       'stopTime' : '300',\n",
    "                                       'chosenOutputs' : 'STEADYSTATE, LOSTEQ, TIMELINE, CONSTRAINTS',\n",
    "                                       'timeStep' : '2.6'})\n",
    "lf.run_ac(network, parameters=p, provider='DynaFlow')\n",
    "network2 = network"
   ]
  },
  {
   "cell_type": "code",
   "execution_count": 16,
   "metadata": {},
   "outputs": [
    {
     "data": {
      "text/html": [
       "<div>\n",
       "<style scoped>\n",
       "    .dataframe tbody tr th:only-of-type {\n",
       "        vertical-align: middle;\n",
       "    }\n",
       "\n",
       "    .dataframe tbody tr th {\n",
       "        vertical-align: top;\n",
       "    }\n",
       "\n",
       "    .dataframe thead th {\n",
       "        text-align: right;\n",
       "    }\n",
       "</style>\n",
       "<table border=\"1\" class=\"dataframe\">\n",
       "  <thead>\n",
       "    <tr style=\"text-align: right;\">\n",
       "      <th></th>\n",
       "      <th>tap</th>\n",
       "      <th>low_tap</th>\n",
       "      <th>high_tap</th>\n",
       "      <th>step_count</th>\n",
       "      <th>regulating</th>\n",
       "      <th>regulation_mode</th>\n",
       "      <th>regulation_value</th>\n",
       "      <th>target_deadband</th>\n",
       "      <th>regulating_bus_id</th>\n",
       "    </tr>\n",
       "    <tr>\n",
       "      <th>id</th>\n",
       "      <th></th>\n",
       "      <th></th>\n",
       "      <th></th>\n",
       "      <th></th>\n",
       "      <th></th>\n",
       "      <th></th>\n",
       "      <th></th>\n",
       "      <th></th>\n",
       "      <th></th>\n",
       "    </tr>\n",
       "  </thead>\n",
       "  <tbody>\n",
       "    <tr>\n",
       "      <th>_BUS____5-BUS____6-1_PS</th>\n",
       "      <td>18</td>\n",
       "      <td>1</td>\n",
       "      <td>25</td>\n",
       "      <td>25</td>\n",
       "      <td>True</td>\n",
       "      <td>CURRENT_LIMITER</td>\n",
       "      <td>770.0</td>\n",
       "      <td>0.0</td>\n",
       "      <td>_BUS____5_VL_0</td>\n",
       "    </tr>\n",
       "    <tr>\n",
       "      <th>_BUS____5-BUS____7-2_PS</th>\n",
       "      <td>17</td>\n",
       "      <td>1</td>\n",
       "      <td>25</td>\n",
       "      <td>25</td>\n",
       "      <td>True</td>\n",
       "      <td>CURRENT_LIMITER</td>\n",
       "      <td>770.0</td>\n",
       "      <td>0.0</td>\n",
       "      <td>_BUS____5_VL_0</td>\n",
       "    </tr>\n",
       "  </tbody>\n",
       "</table>\n",
       "</div>"
      ],
      "text/plain": [
       "                         tap  low_tap  high_tap  step_count  regulating  \\\n",
       "id                                                                        \n",
       "_BUS____5-BUS____6-1_PS   18        1        25          25        True   \n",
       "_BUS____5-BUS____7-2_PS   17        1        25          25        True   \n",
       "\n",
       "                         regulation_mode  regulation_value  target_deadband  \\\n",
       "id                                                                            \n",
       "_BUS____5-BUS____6-1_PS  CURRENT_LIMITER             770.0              0.0   \n",
       "_BUS____5-BUS____7-2_PS  CURRENT_LIMITER             770.0              0.0   \n",
       "\n",
       "                        regulating_bus_id  \n",
       "id                                         \n",
       "_BUS____5-BUS____6-1_PS    _BUS____5_VL_0  \n",
       "_BUS____5-BUS____7-2_PS    _BUS____5_VL_0  "
      ]
     },
     "execution_count": 16,
     "metadata": {},
     "output_type": "execute_result"
    }
   ],
   "source": [
    "# Final tap positions after N-1 simulation with different time constants\n",
    "network2.get_phase_tap_changers()"
   ]
  },
  {
   "cell_type": "code",
   "execution_count": 17,
   "metadata": {},
   "outputs": [
    {
     "name": "stdout",
     "output_type": "stream",
     "text": [
      "Transits in transformers with identical time constants:\n",
      "                                 i1         i2\n",
      "id                                            \n",
      "_BUS____5-BUS____6-1_PS  233.952319  39.468929\n",
      "_BUS____5-BUS____7-2_PS  233.952319  39.468929\n",
      "_BUS____5-BUS____8-1_PT  383.855389  64.758329\n",
      "\n",
      "Transits in transformers with different time constants:\n",
      "                                 i1         i2\n",
      "id                                            \n",
      "_BUS____5-BUS____6-1_PS  223.959508  37.783092\n",
      "_BUS____5-BUS____7-2_PS  253.934704  42.840058\n",
      "_BUS____5-BUS____8-1_PT  373.860516  63.072144\n"
     ]
    }
   ],
   "source": [
    "print('Transits in transformers with identical time constants:')\n",
    "print(network1.get_2_windings_transformers()[['i1','i2']])\n",
    "print('\\nTransits in transformers with different time constants:')\n",
    "print(network2.get_2_windings_transformers()[['i1','i2']])"
   ]
  },
  {
   "cell_type": "markdown",
   "metadata": {},
   "source": [
    "The currents in both phase shifters are compared in both cases. Depending on the time constants of the phase shifter, the steady-state after the event is different.\n",
    "This cannot be captured by a fully static simulator, in which all the phase shifters are activated at the same time with an external loop."
   ]
  }
 ],
 "metadata": {
  "kernelspec": {
   "display_name": "Python 3",
   "language": "python",
   "name": "python3"
  },
  "language_info": {
   "codemirror_mode": {
    "name": "ipython",
    "version": 3
   },
   "file_extension": ".py",
   "mimetype": "text/x-python",
   "name": "python",
   "nbconvert_exporter": "python",
   "pygments_lexer": "ipython3",
   "version": "3.8.5"
  }
 },
 "nbformat": 4,
 "nbformat_minor": 4
}
