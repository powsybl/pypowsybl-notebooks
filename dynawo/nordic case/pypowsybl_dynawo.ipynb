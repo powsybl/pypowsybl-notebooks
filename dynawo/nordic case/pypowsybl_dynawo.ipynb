{
 "cells": [
  {
   "cell_type": "markdown",
   "metadata": {},
   "source": [
    "# Dynawo simulation - Nordic case"
   ]
  },
  {
   "cell_type": "markdown",
   "metadata": {},
   "source": [
    "TODO - description"
   ]
  },
  {
   "cell_type": "markdown",
   "metadata": {},
   "source": [
    "## 1 - Dynawo install"
   ]
  },
  {
   "cell_type": "code",
   "execution_count": null,
   "metadata": {},
   "outputs": [],
   "source": [
    "!curl -L $(curl -s -L -X GET https://api.github.com/repos/dynawo/dynaflow-launcher/releases/latest | grep \"DynaFlowLauncher_Linux\" | grep url | cut -d '\"' -f 4) -o DynaflowLauncher_Linux_latest.zip\n",
    "!unzip DynaflowLauncher_Linux_latest.zip > /dev/null 2>&1\n",
    "!./dynaflow-launcher/dynaflow-launcher.sh help"
   ]
  },
  {
   "cell_type": "markdown",
   "metadata": {},
   "source": [
    "## 2 - Powsybl install"
   ]
  },
  {
   "cell_type": "code",
   "execution_count": null,
   "metadata": {},
   "outputs": [],
   "source": [
    "pip install pypowsybl"
   ]
  },
  {
   "cell_type": "code",
   "execution_count": null,
   "metadata": {},
   "outputs": [],
   "source": [
    "!mkdir /home/jovyan/.itools/\n",
    "!cp /home/jovyan/dynaflow/config.yml /home/jovyan/.itools/\n",
    "!cat /home/jovyan/.itools/config.yml"
   ]
  },
  {
   "cell_type": "markdown",
   "metadata": {},
   "source": [
    "## 3 - Base case"
   ]
  },
  {
   "cell_type": "code",
   "execution_count": 1,
   "metadata": {},
   "outputs": [],
   "source": [
    "import pypowsybl as pp\n",
    "import pypowsybl.dynamic as dyn\n",
    "import pandas as pd\n",
    "import matplotlib.pyplot as plt\n",
    "import os.path"
   ]
  },
  {
   "cell_type": "code",
   "execution_count": 2,
   "metadata": {},
   "outputs": [],
   "source": [
    "# Load initial situation\n",
    "network = pp.network.load('Nordic.xiidm')\n",
    "network.get_network_area_diagram()\n",
    "report_node = pp.report.Reporter()"
   ]
  },
  {
   "cell_type": "markdown",
   "metadata": {},
   "source": [
    "Add generators dynamic models"
   ]
  },
  {
   "cell_type": "code",
   "execution_count": 3,
   "metadata": {},
   "outputs": [],
   "source": [
    "model_mapping = dyn.ModelMapping()\n",
    "generator_mapping_df = pd.DataFrame.from_records(\n",
    "    index='static_id',\n",
    "    columns=['static_id', 'parameter_set_id', 'model_name'],\n",
    "    data=[('g01', 'g01', 'GeneratorSynchronousThreeWindingsGoverNordicVRNordic'),\n",
    "         ('g02', 'g02', 'GeneratorSynchronousThreeWindingsGoverNordicVRNordic'),\n",
    "         ('g03', 'g03', 'GeneratorSynchronousThreeWindingsGoverNordicVRNordic'),\n",
    "         ('g04', 'g04', 'GeneratorSynchronousThreeWindingsGoverNordicVRNordic'),\n",
    "         ('g05', 'g05', 'GeneratorSynchronousThreeWindingsGoverNordicVRNordic'),\n",
    "         ('g06', 'g06', 'GeneratorSynchronousFourWindingsPmConstVRNordic'),\n",
    "         ('g07', 'g07', 'GeneratorSynchronousFourWindingsPmConstVRNordic'),\n",
    "         ('g08', 'g08', 'GeneratorSynchronousThreeWindingsGoverNordicVRNordic'),\n",
    "         ('g09', 'g09', 'GeneratorSynchronousThreeWindingsGoverNordicVRNordic'),\n",
    "         ('g10', 'g10', 'GeneratorSynchronousThreeWindingsGoverNordicVRNordic'),\n",
    "         ('g11', 'g11', 'GeneratorSynchronousThreeWindingsGoverNordicVRNordic'),\n",
    "         ('g12', 'g12', 'GeneratorSynchronousThreeWindingsGoverNordicVRNordic'),\n",
    "         ('g13', 'g13', 'GeneratorSynchronousThreeWindingsPmConstVRNordic'),\n",
    "         ('g14', 'g14', 'GeneratorSynchronousFourWindingsPmConstVRNordic'),\n",
    "         ('g15', 'g15', 'GeneratorSynchronousFourWindingsPmConstVRNordic'),\n",
    "         ('g16', 'g16', 'GeneratorSynchronousFourWindingsPmConstVRNordic'),\n",
    "         ('g17', 'g17', 'GeneratorSynchronousFourWindingsPmConstVRNordic'),\n",
    "         ('g18', 'g18', 'GeneratorSynchronousFourWindingsPmConstVRNordic'),\n",
    "         ('g19', 'g19', 'GeneratorSynchronousThreeWindingsGoverNordicVRNordic'),\n",
    "         ('g20', 'g20', 'GeneratorSynchronousThreeWindingsGoverNordicVRNordic')])\n",
    "model_mapping.add_synchronous_generator(generator_mapping_df)"
   ]
  },
  {
   "cell_type": "markdown",
   "metadata": {},
   "source": [
    "Add node fault and disconnect line event"
   ]
  },
  {
   "cell_type": "code",
   "execution_count": 4,
   "metadata": {},
   "outputs": [],
   "source": [
    "event_mapping = dyn.EventMapping()\n",
    "event_mapping.add_node_fault(static_id='4032_401', start_time=1, fault_time=0.1, r_pu=0.025, x_pu=0.025)\n",
    "event_mapping.add_disconnection(static_id='L4032-4044', start_time=1.1)"
   ]
  },
  {
   "cell_type": "markdown",
   "metadata": {},
   "source": [
    "Request curves output"
   ]
  },
  {
   "cell_type": "code",
   "execution_count": 5,
   "metadata": {},
   "outputs": [],
   "source": [
    "variables_mapping = dyn.OutputVariableMapping()\n",
    "variables_mapping.add_standard_model_curves('1042_131', 'Upu_value')\n",
    "# equipment_names = {'1011_131', '4011_401', 'B11___21', 'BG09__11', '1012_131', '4012_401', 'B12___21', 'BG01__11', 'BG10__11',\n",
    "#                    '1013_131', 'B13___21', 'BG02__11', '1014_131', 'BG03__11', '1021_131', 'BG04__11', '1022_131', '4022_401',\n",
    "#                    'B22___21', 'BG05__11', '1041_131', 'B01___21', '1042_131', 'B02___21', 'BG06__11', '1043_131', 'B03___21',\n",
    "#                    'BG07__11', '1044_131', '4044_401', 'B04___21', '1045_131', '4045_401', 'B05___21', '2031_221', '4031_401',\n",
    "#                    'B31___21', 'BG12__11', '2032_221', 'B32___21', 'BG08__11', '4021_401', 'BG11__11', '4032_401', '4041_401',\n",
    "#                    'B41___21', 'BG13__11', '4042_401', 'B42___21', 'BG14__11', '4043_401', 'B43___21', '4046_401', 'B46___21',\n",
    "#                    '4047_401', 'B47___21', 'BG15__11', '4051_401', 'B51___21', 'BG16__11', '4061_401', 'B61___21', '4062_401',\n",
    "#                    'B62___21', 'BG17__11', '4063_401', 'B63___21', 'BG18__11', '4071_401', 'B71___21', 'BG19__11', '4072_401',\n",
    "#                    'B72___21', 'BG20__11'}\n",
    "# for eq in equipment_names:\n",
    "#     variables_mapping.add_standard_model_curves(eq, 'Upu_value')"
   ]
  },
  {
   "cell_type": "markdown",
   "metadata": {},
   "source": [
    "Run simulation"
   ]
  },
  {
   "cell_type": "code",
   "execution_count": 6,
   "metadata": {},
   "outputs": [],
   "source": [
    "sim = dyn.Simulation()\n",
    "res = sim.run(network, model_mapping, event_mapping, variables_mapping, 0, 175, report_node)"
   ]
  },
  {
   "cell_type": "markdown",
   "metadata": {},
   "source": [
    "Display curves"
   ]
  },
  {
   "cell_type": "code",
   "execution_count": 7,
   "metadata": {},
   "outputs": [
    {
     "data": {
      "image/png": "[encoded data removed]",
      "text/plain": [
       "<Figure size 640x480 with 1 Axes>"
      ]
     },
     "metadata": {},
     "output_type": "display_data"
    }
   ],
   "source": [
    "res.curves().plot()\n",
    "plt.show()"
   ]
  },
  {
   "cell_type": "markdown",
   "metadata": {},
   "source": [
    "## 4 - Second simulation with tap changer blocking automation system"
   ]
  },
  {
   "cell_type": "code",
   "execution_count": 8,
   "metadata": {},
   "outputs": [],
   "source": [
    "tcb_df = pd.DataFrame.from_records(\n",
    "    index='dynamic_model_id',\n",
    "    columns=['dynamic_model_id', 'parameter_set_id'],\n",
    "    data=[('TCB', 'TCB')])\n",
    "# Transformers\n",
    "tfo_ids = ['Tr11-1011', 'Tr12-1012', 'Tr13-1013', 'Tr22-1022', 'Tr1-1041', 'Tr2-1042', 'Tr3-1043', 'Tr4-1044', 'Tr5-1045', 'Tr31-2031',\n",
    "        'Tr32-2032', 'Tr41-4041', 'Tr42-4042', 'Tr43-4043', 'Tr46-4046', 'Tr47-4047', 'Tr51-4051', 'Tr61-4061', 'Tr62-4062', 'Tr63-4063'\n",
    "        'Tr71-4071', 'Tr72-4072']\n",
    "tfo_df = pd.DataFrame.from_records(\n",
    "    index='dynamic_model_id',\n",
    "    columns=['dynamic_model_id', 'transformer_id'],\n",
    "    data={'dynamic_model_id': ['TCB' for tfo in tfo_ids],\n",
    "        'transformer_id': tfo_ids})\n",
    "# Measurement point\n",
    "measurement1_df = pd.DataFrame.from_records(\n",
    "    index='dynamic_model_id',\n",
    "    columns=['dynamic_model_id', 'measurement_point_id'],\n",
    "    data=[('TCB', '1042_131')])\n",
    "model_mapping.add_tap_changer_blocking_automation_system(df=tcb_df,\n",
    "                                                         tfo_df=tfo_df,\n",
    "                                                         mp1_df=measurement1_df)"
   ]
  },
  {
   "cell_type": "markdown",
   "metadata": {},
   "source": [
    "Run second simulation"
   ]
  },
  {
   "cell_type": "code",
   "execution_count": 9,
   "metadata": {},
   "outputs": [],
   "source": [
    "variables_mapping.add_standard_model_final_state_values('1042_131', 'Upu_value')\n",
    "res = sim.run(network, model_mapping, event_mapping, variables_mapping, 0, 175, report_node)"
   ]
  },
  {
   "cell_type": "markdown",
   "metadata": {},
   "source": [
    "Display final state values "
   ]
  },
  {
   "cell_type": "code",
   "execution_count": 11,
   "metadata": {},
   "outputs": [
    {
     "name": "stdout",
     "output_type": "stream",
     "text": [
      "                            values\n",
      "variables                         \n",
      "NETWORK_1042_131_Upu_value  0.8069\n"
     ]
    }
   ],
   "source": [
    "print(res.final_state_values())"
   ]
  }
 ],
 "metadata": {
  "kernelspec": {
   "display_name": "Python 3 (ipykernel)",
   "language": "python",
   "name": "python3"
  },
  "language_info": {
   "codemirror_mode": {
    "name": "ipython",
    "version": 3
   },
   "file_extension": ".py",
   "mimetype": "text/x-python",
   "name": "python",
   "nbconvert_exporter": "python",
   "pygments_lexer": "ipython3",
   "version": "3.8.10"
  }
 },
 "nbformat": 4,
 "nbformat_minor": 4
}
