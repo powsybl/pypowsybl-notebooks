{
 "cells": [
  {
   "cell_type": "markdown",
   "metadata": {},
   "source": [
    "# OpenRAO in pyPowsybl "
   ]
  },
  {
   "cell_type": "markdown",
   "metadata": {},
   "source": [
    "In this notebook, you will learn how to use OpenRAO with pypowsybl to optimize a network situation given available remedial actions.\n",
    "\n",
    "The first step is to install pypowsybl and import the library."
   ]
  },
  {
   "cell_type": "code",
   "metadata": {
    "ExecuteTime": {
     "end_time": "2025-08-20T08:44:47.528196Z",
     "start_time": "2025-08-20T08:44:39.151724Z"
    }
   },
   "source": "pip install pypowsybl==1.12.0",
   "outputs": [
    {
     "name": "stdout",
     "output_type": "stream",
     "text": [
      "\u001B[33mWARNING: Ignoring invalid distribution -ypowsybl (/home/demontmorillongod/Workspace/POWSYBL/pypowsybl-notebooks/venv/lib/python3.11/site-packages)\u001B[0m\u001B[33m\r\n",
      "\u001B[0mLooking in indexes: https://devin-depot.rte-france.com/repository/pypi-all/simple\r\n",
      "\u001B[33mWARNING: Retrying (Retry(total=4, connect=None, read=None, redirect=None, status=None)) after connection broken by 'NewConnectionError('<pip._vendor.urllib3.connection.HTTPSConnection object at 0x7a3cae615e10>: Failed to establish a new connection: [Errno -2] Name or service not known')': /repository/pypi-all/simple/pypowsybl/\u001B[0m\u001B[33m\r\n",
      "\u001B[0m\u001B[33mWARNING: Retrying (Retry(total=3, connect=None, read=None, redirect=None, status=None)) after connection broken by 'NewConnectionError('<pip._vendor.urllib3.connection.HTTPSConnection object at 0x7a3cacca1990>: Failed to establish a new connection: [Errno -2] Name or service not known')': /repository/pypi-all/simple/pypowsybl/\u001B[0m\u001B[33m\r\n",
      "\u001B[0m\u001B[33mWARNING: Retrying (Retry(total=2, connect=None, read=None, redirect=None, status=None)) after connection broken by 'NewConnectionError('<pip._vendor.urllib3.connection.HTTPSConnection object at 0x7a3cacca1f10>: Failed to establish a new connection: [Errno -2] Name or service not known')': /repository/pypi-all/simple/pypowsybl/\u001B[0m\u001B[33m\r\n",
      "\u001B[0m\u001B[33mWARNING: Retrying (Retry(total=1, connect=None, read=None, redirect=None, status=None)) after connection broken by 'NewConnectionError('<pip._vendor.urllib3.connection.HTTPSConnection object at 0x7a3cacca31d0>: Failed to establish a new connection: [Errno -2] Name or service not known')': /repository/pypi-all/simple/pypowsybl/\u001B[0m\u001B[33m\r\n",
      "\u001B[0m\u001B[33mWARNING: Retrying (Retry(total=0, connect=None, read=None, redirect=None, status=None)) after connection broken by 'NewConnectionError('<pip._vendor.urllib3.connection.HTTPSConnection object at 0x7a3cacca3c10>: Failed to establish a new connection: [Errno -2] Name or service not known')': /repository/pypi-all/simple/pypowsybl/\u001B[0m\u001B[33m\r\n",
      "\u001B[0m\u001B[31mERROR: Could not find a version that satisfies the requirement pypowsybl==1.12.0 (from versions: none)\u001B[0m\u001B[31m\r\n",
      "\u001B[0m\u001B[31mERROR: No matching distribution found for pypowsybl==1.12.0\u001B[0m\u001B[31m\r\n",
      "\u001B[0mNote: you may need to restart the kernel to use updated packages.\n"
     ]
    }
   ],
   "execution_count": 3
  },
  {
   "cell_type": "code",
   "metadata": {
    "ExecuteTime": {
     "end_time": "2025-08-20T08:39:28.441466623Z",
     "start_time": "2025-07-30T08:35:44.614619Z"
    }
   },
   "source": [
    "import pypowsybl as pp\n",
    "from pypowsybl.rao import Parameters as RaoParameters"
   ],
   "outputs": [],
   "execution_count": 2
  },
  {
   "cell_type": "markdown",
   "metadata": {},
   "source": [
    "We will consider a 12 bus example network in this notebook."
   ]
  },
  {
   "cell_type": "code",
   "metadata": {
    "ExecuteTime": {
     "end_time": "2025-07-30T08:35:45.127988Z",
     "start_time": "2025-07-30T08:35:45.122939Z"
    }
   },
   "source": [
    "n12 = pp.network.load('./data/rao/12_node_network.uct')"
   ],
   "outputs": [],
   "execution_count": 3
  },
  {
   "cell_type": "markdown",
   "metadata": {},
   "source": [
    "By drawing the network area diagram, you can get a better understanding of the substations and branches in the network."
   ]
  },
  {
   "cell_type": "code",
   "metadata": {
    "ExecuteTime": {
     "end_time": "2025-07-30T08:35:45.202716Z",
     "start_time": "2025-07-30T08:35:45.178410Z"
    }
   },
   "source": [
    "n12.get_network_area_diagram()"
   ],
   "outputs": [
    {
     "data": {
      "text/plain": [
       "<pypowsybl.network.impl.svg.Svg at 0x7df0ceda6650>"
      ],
      "image/svg+xml": "<?xml version=\"1.0\" encoding=\"UTF-8\"?>\n<svg width=\"604.60\" height=\"600.00\" viewBox=\"-688.28 -980.39 1725.31 1712.18\" xmlns=\"http://www.w3.org/2000/svg\">\n    <style><![CDATA[.nad-branch-edges .nad-edge-path, .nad-3wt-edges .nad-edge-path {stroke: var(--nad-vl-color, lightgrey); stroke-width: 5; fill: none}\n.nad-branch-edges .nad-winding, .nad-3wt-nodes .nad-winding {stroke: var(--nad-vl-color, lightgrey); stroke-width: 5; fill: none}\n.nad-text-edges {stroke: black; stroke-width: 3; stroke-dasharray: 6,7; fill: none}\n.nad-disconnected .nad-edge-path {stroke-dasharray: 10,10}\n.nad-injections .nad-disconnected .nad-edge-path, .nad-injections .nad-disconnected circle {stroke: lightgrey}\n.nad-injections .nad-edge-path {stroke: var(--nad-vl-color, lightgrey); stroke-width: 3; fill: none}\n.nad-injections circle {stroke: var(--nad-vl-color, lightgrey); stroke-width: 3; fill: none}\n.nad-vl-nodes .nad-busnode {fill: var(--nad-vl-color, lightgrey)}\n.nad-vl-nodes circle.nad-unknown-busnode {stroke: var(--nad-vl-color, #808080); stroke-width: 5; stroke-dasharray: 5,5; fill: none}\n.nad-hvdc-edge polyline.nad-hvdc {stroke: grey; stroke-width: 40}\n.nad-branch-edges .nad-tie-line-edge .nad-edge-path {stroke-width: 7}\n.nad-pst-arrow {stroke: #6a6a6a; stroke-width: 4; stroke-linecap: round; fill: none}\npath.nad-arrow-out:not(.nad-state-out .nad-arrow-out) {visibility: hidden}\npath.nad-arrow-in:not(.nad-state-in .nad-arrow-in) {visibility: hidden}\n.nad-active {fill: #546e7a}\n.nad-reactive {fill: #0277bd}\n.nad-current {fill: #bd4802}\n.nad-text-background {flood-color: #90a4aeaa}\n.nad-text-nodes {font: 25px serif; fill: black; dominant-baseline: central}\nforeignObject.nad-text-nodes {overflow: visible; color: black}\n.nad-label-box {background-color: #6c6c6c20; width: max-content; padding: 10px; border-radius: 10px;}\n.nad-legend-square {display: inline-block; margin-right: 10px; width: 20px; height: 20px; background: var(--nad-vl-color, black);}\n.nad-edge-infos text, .nad-edge-label text {font: 20px serif; dominant-baseline:middle; stroke: #FFFFFFAA; stroke-width: 10; stroke-linejoin:round; paint-order: stroke}\n.nad-disconnected {--nad-vl-color: #808080}\n:is(.nad-branch-edges, .nad-3wt-edges, .nad-3wt-nodes) .nad-vl0to30 {--nad-vl-color: #afb42b}\n.nad-vl0to30.nad-bus-0 {--nad-vl-color: #827717}\n.nad-vl0to30.nad-bus-1 {--nad-vl-color: #d4e157}\n.nad-vl0to30.nad-bus-2 {--nad-vl-color: #e6ee9c}\n.nad-vl0to30.nad-bus-3 {--nad-vl-color: #c0ca33}\n.nad-vl0to30.nad-bus-4 {--nad-vl-color: #f0fc83}\n.nad-vl0to30.nad-bus-5 {--nad-vl-color: #9e9d24}\n.nad-vl0to30.nad-bus-6 {--nad-vl-color: #cddc39}\n.nad-vl0to30.nad-bus-7 {--nad-vl-color: #dce775}\n.nad-vl0to30.nad-bus-8 {--nad-vl-color: #ddfc88}\n:is(.nad-branch-edges, .nad-3wt-edges, .nad-3wt-nodes) .nad-vl30to50 {--nad-vl-color: #ef9a9a}\n.nad-vl30to50.nad-bus-0 {--nad-vl-color: #c2185b}\n.nad-vl30to50.nad-bus-1 {--nad-vl-color: #f06292}\n.nad-vl30to50.nad-bus-2 {--nad-vl-color: #d81b60}\n.nad-vl30to50.nad-bus-3 {--nad-vl-color: #ec407a}\n.nad-vl30to50.nad-bus-4 {--nad-vl-color: #880e4f}\n.nad-vl30to50.nad-bus-5 {--nad-vl-color: #ad1457}\n.nad-vl30to50.nad-bus-6 {--nad-vl-color: #e91e63}\n.nad-vl30to50.nad-bus-7 {--nad-vl-color: #f48fb1}\n.nad-vl30to50.nad-bus-8 {--nad-vl-color: #f8bbd0}\n:is(.nad-branch-edges, .nad-3wt-edges, .nad-3wt-nodes) .nad-vl50to70 {--nad-vl-color: #9c27b0}\n.nad-vl50to70.nad-bus-0 {--nad-vl-color: #7b1fa2}\n.nad-vl50to70.nad-bus-1 {--nad-vl-color: #ba68c8}\n.nad-vl50to70.nad-bus-2 {--nad-vl-color: #512da8}\n.nad-vl50to70.nad-bus-3 {--nad-vl-color: #ab47bc}\n.nad-vl50to70.nad-bus-4 {--nad-vl-color: #e1bee7}\n.nad-vl50to70.nad-bus-5 {--nad-vl-color: #6a1b9a}\n.nad-vl50to70.nad-bus-6 {--nad-vl-color: #4a148c}\n.nad-vl50to70.nad-bus-7 {--nad-vl-color: #ce93d8}\n.nad-vl50to70.nad-bus-8 {--nad-vl-color: #9575cd}\n:is(.nad-branch-edges, .nad-3wt-edges, .nad-3wt-nodes) .nad-vl70to120 {--nad-vl-color: #e65100}\n.nad-vl70to120.nad-bus-0 {--nad-vl-color: #fb8c00}\n.nad-vl70to120.nad-bus-1 {--nad-vl-color: #ffb74d}\n.nad-vl70to120.nad-bus-2 {--nad-vl-color: #f57c00}\n.nad-vl70to120.nad-bus-3 {--nad-vl-color: #ffa726}\n.nad-vl70to120.nad-bus-4 {--nad-vl-color: #ffe0b2}\n.nad-vl70to120.nad-bus-5 {--nad-vl-color: #ef6c00}\n.nad-vl70to120.nad-bus-6 {--nad-vl-color: #ff9800}\n.nad-vl70to120.nad-bus-7 {--nad-vl-color: #ffcc80}\n.nad-vl70to120.nad-bus-8 {--nad-vl-color: #fff3e0}\n:is(.nad-branch-edges, .nad-3wt-edges, .nad-3wt-nodes) .nad-vl120to180 {--nad-vl-color: #00ACC1}\n.nad-vl120to180.nad-bus-0 {--nad-vl-color: #4fc3f7}\n.nad-vl120to180.nad-bus-1 {--nad-vl-color: #01579b}\n.nad-vl120to180.nad-bus-2 {--nad-vl-color: #b3e5fc}\n.nad-vl120to180.nad-bus-3 {--nad-vl-color: #039be5}\n.nad-vl120to180.nad-bus-4 {--nad-vl-color: #81d4fa}\n.nad-vl120to180.nad-bus-5 {--nad-vl-color: #0288d1}\n.nad-vl120to180.nad-bus-6 {--nad-vl-color: #29b6f6}\n.nad-vl120to180.nad-bus-7 {--nad-vl-color: #0277bd}\n.nad-vl120to180.nad-bus-8 {--nad-vl-color: #03a9f4}\n:is(.nad-branch-edges, .nad-3wt-edges, .nad-3wt-nodes) .nad-vl180to300 {--nad-vl-color: #2e7d32}\n.nad-vl180to300.nad-bus-0 {--nad-vl-color: #81c784}\n.nad-vl180to300.nad-bus-1 {--nad-vl-color: #558b2f}\n.nad-vl180to300.nad-bus-2 {--nad-vl-color: #c8e6c9}\n.nad-vl180to300.nad-bus-3 {--nad-vl-color: #43a047}\n.nad-vl180to300.nad-bus-4 {--nad-vl-color: #a5d6a7}\n.nad-vl180to300.nad-bus-5 {--nad-vl-color: #388e3c}\n.nad-vl180to300.nad-bus-6 {--nad-vl-color: #66bb6a}\n.nad-vl180to300.nad-bus-7 {--nad-vl-color: #1b5e20}\n.nad-vl180to300.nad-bus-8 {--nad-vl-color: #4caf50}\n:is(.nad-branch-edges, .nad-3wt-edges, .nad-3wt-nodes) .nad-vl300to500 {--nad-vl-color: #d32f2f}\n.nad-vl300to500.nad-bus-0 {--nad-vl-color: #ef5350}\n.nad-vl300to500.nad-bus-1 {--nad-vl-color: #ef9a9a}\n.nad-vl300to500.nad-bus-2 {--nad-vl-color: #b71c1c}\n.nad-vl300to500.nad-bus-3 {--nad-vl-color: #e57373}\n.nad-vl300to500.nad-bus-4 {--nad-vl-color: #e53935}\n.nad-vl300to500.nad-bus-5 {--nad-vl-color: #ff8a80}\n.nad-vl300to500.nad-bus-6 {--nad-vl-color: #f44336}\n.nad-vl300to500.nad-bus-7 {--nad-vl-color: #ffcdd2}\n.nad-vl300to500.nad-bus-8 {--nad-vl-color: #c62828}\n.nad-branch-edges .nad-overload .nad-edge-path {animation: line-blink 3s infinite}\n.nad-vl-nodes .nad-overvoltage {animation: node-over-blink 3s infinite}\n.nad-vl-nodes .nad-undervoltage {animation: node-under-blink 3s infinite}\n.nad-highlight {stroke-width: 25; opacity: 0.2; fill: none;}\n.nad-highlight-0 {stroke: #e6e600;}\n.nad-highlight-1 {stroke: #b300b3;}\n.nad-highlight-2 {stroke: #2eb82e;}\n.nad-highlight-3 {stroke: #e67300;}\n.nad-highlight-4 {stroke: #0000ff;}\n@keyframes line-blink {\n  0%, 80%, 100% {stroke: var(--nad-vl-color, black); stroke-width: 5}\n  40% {stroke: #FFEB3B; stroke-width: 15}\n}\n@keyframes node-over-blink {\n  0%, 80%, 100% {stroke: white; stroke-width: 0}\n  40% {stroke: #ff5722; stroke-width: 15}\n}\n@keyframes node-under-blink {\n  0%, 80%, 100% {stroke: white; stroke-width: 0}\n  40% {stroke: #00BCD4; stroke-width: 15}\n}\n.nad-load {stroke: var(--nad-vl-color, lightgrey); stroke-width: 3; fill: none}\n.nad-battery {stroke: var(--nad-vl-color, lightgrey); stroke-width: 3; fill: none}\n.nad-generator {stroke: var(--nad-vl-color, lightgrey); stroke-width: 3; stroke-linecap: round; fill: none}\n.nad-capacitor {stroke: var(--nad-vl-color, lightgrey); stroke-width: 3; fill: none}\n.nad-inductor {stroke: var(--nad-vl-color, lightgrey); stroke-width: 3; stroke-linejoin: round; stroke-linecap: round; fill: none}\n.nad-svc {stroke: var(--nad-vl-color, lightgrey); stroke-width: 3; stroke-linejoin:round; fill: none}\n.nad-disconnected .nad-load {stroke: lightgrey}\n.nad-disconnected .nad-battery {stroke: lightgrey}\n.nad-disconnected .nad-generator {stroke: lightgrey}\n.nad-disconnected .nad-capacitor {stroke: lightgrey}\n.nad-disconnected .nad-inductor {stroke: lightgrey}\n.nad-disconnected .nad-svc {stroke: lightgrey}\n.nad-unknown {stroke: none; fill: black}\n]]></style>\n    <g class=\"nad-vl-nodes\">\n        <g transform=\"translate(577.04,-740.39)\" id=\"0\">\n            <circle r=\"27.50\" id=\"1\" class=\"nad-vl300to500 nad-bus-0 nad-busnode\"/>\n        </g>\n        <g transform=\"translate(343.64,-413.47)\" id=\"2\">\n            <circle r=\"27.50\" id=\"3\" class=\"nad-vl300to500 nad-bus-0 nad-busnode\"/>\n            <path d=\"M12.932,-56.027 A57.500,57.500 136.313 0 1 29.348,49.447 L19.304,26.146 A32.500,32.500 -124.815 0 0 10.445,-30.776 Z M15.601,55.343 A57.500,57.500 66.063 0 1 -44.253,36.714 L-22.808,23.152 A32.500,32.500 -54.565 0 0 5.641,32.007 Z M-52.225,24.058 A57.500,57.500 112.784 0 1 -1.956,-57.467 L-4.354,-32.207 A32.500,32.500 -101.287 0 0 -30.732,10.573 Z \" id=\"4\" class=\"nad-vl300to500 nad-bus-1 nad-busnode\"/>\n        </g>\n        <g transform=\"translate(-470.42,531.79)\" id=\"5\">\n            <circle r=\"27.50\" id=\"6\" class=\"nad-vl300to500 nad-bus-0 nad-busnode\"/>\n        </g>\n        <g transform=\"translate(-407.58,159.43)\" id=\"7\">\n            <circle r=\"27.50\" id=\"8\" class=\"nad-vl300to500 nad-bus-0 nad-busnode\"/>\n        </g>\n        <g transform=\"translate(-102.16,466.84)\" id=\"9\">\n            <circle r=\"27.50\" id=\"10\" class=\"nad-vl300to500 nad-bus-0 nad-busnode\"/>\n        </g>\n        <g transform=\"translate(737.03,400.46)\" id=\"11\">\n            <circle r=\"27.50\" id=\"12\" class=\"nad-vl300to500 nad-bus-0 nad-busnode\"/>\n        </g>\n        <g transform=\"translate(363.55,432.27)\" id=\"13\">\n            <circle r=\"27.50\" id=\"14\" class=\"nad-vl300to500 nad-bus-0 nad-busnode\"/>\n        </g>\n        <g transform=\"translate(544.99,55.92)\" id=\"15\">\n            <circle r=\"27.50\" id=\"16\" class=\"nad-vl300to500 nad-bus-0 nad-busnode\"/>\n        </g>\n        <g transform=\"translate(-488.28,-705.72)\" id=\"17\">\n            <circle r=\"27.50\" id=\"18\" class=\"nad-vl300to500 nad-bus-0 nad-busnode\"/>\n        </g>\n        <g transform=\"translate(-124.53,-572.87)\" id=\"19\">\n            <circle r=\"27.50\" id=\"20\" class=\"nad-vl300to500 nad-bus-0 nad-busnode\"/>\n        </g>\n        <g transform=\"translate(-446.15,-322.16)\" id=\"21\">\n            <circle r=\"27.50\" id=\"22\" class=\"nad-vl300to500 nad-bus-0 nad-busnode\"/>\n        </g>\n    </g>\n    <g class=\"nad-branch-edges\">\n        <g id=\"23\">\n            <g id=\"23.1\" class=\"nad-vl300to500\">\n                <polyline class=\"nad-edge-path\" points=\"552.01,-729.00 504.23,-707.25 427.79,-600.17\"/>\n                <g class=\"nad-edge-infos\" transform=\"translate(486.80,-682.83)\">\n                    <g class=\"nad-active\">\n                        <g transform=\"rotate(-144.48)\">\n                            <path class=\"nad-arrow-in\" transform=\"scale(10.00)\" d=\"M-1 -1 H1 L0 1z\"/>\n                            <path class=\"nad-arrow-out\" transform=\"scale(10.00)\" d=\"M-1 1 H1 L0 -1z\"/>\n                        </g>\n                        <text transform=\"rotate(-54.48)\" x=\"-19.00\" style=\"text-anchor:end\"></text>\n                    </g>\n                </g>\n            </g>\n            <g id=\"23.2\" class=\"nad-vl300to500\">\n                <polyline class=\"nad-edge-path\" points=\"346.29,-440.84 351.34,-493.10 427.79,-600.17\"/>\n                <g class=\"nad-edge-infos\" transform=\"translate(368.78,-517.51)\">\n                    <g class=\"nad-active\">\n                        <g transform=\"rotate(35.52)\">\n                            <path class=\"nad-arrow-in\" transform=\"scale(10.00)\" d=\"M-1 -1 H1 L0 1z\"/>\n                            <path class=\"nad-arrow-out\" transform=\"scale(10.00)\" d=\"M-1 1 H1 L0 -1z\"/>\n                        </g>\n                        <text transform=\"rotate(-54.48)\" x=\"19.00\"></text>\n                    </g>\n                </g>\n            </g>\n        </g>\n        <g id=\"24\">\n            <g id=\"24.1\" class=\"nad-vl300to500\">\n                <polyline class=\"nad-edge-path\" points=\"574.39,-713.02 569.34,-660.76 492.90,-553.69\"/>\n                <g class=\"nad-edge-infos\" transform=\"translate(551.91,-636.35)\">\n                    <g class=\"nad-active\">\n                        <g transform=\"rotate(-144.48)\">\n                            <path class=\"nad-arrow-in\" transform=\"scale(10.00)\" d=\"M-1 -1 H1 L0 1z\"/>\n                            <path class=\"nad-arrow-out\" transform=\"scale(10.00)\" d=\"M-1 1 H1 L0 -1z\"/>\n                        </g>\n                        <text transform=\"rotate(-54.48)\" x=\"-19.00\" style=\"text-anchor:end\"></text>\n                    </g>\n                </g>\n            </g>\n            <g id=\"24.2\" class=\"nad-vl300to500\">\n                <polyline class=\"nad-edge-path\" points=\"395.98,-437.29 416.45,-446.62 492.90,-553.69\"/>\n                <g class=\"nad-edge-infos\" transform=\"translate(433.89,-471.03)\">\n                    <g class=\"nad-active\">\n                        <g transform=\"rotate(35.52)\">\n                            <path class=\"nad-arrow-in\" transform=\"scale(10.00)\" d=\"M-1 -1 H1 L0 1z\"/>\n                            <path class=\"nad-arrow-out\" transform=\"scale(10.00)\" d=\"M-1 1 H1 L0 -1z\"/>\n                        </g>\n                        <text transform=\"rotate(-54.48)\" x=\"19.00\"></text>\n                    </g>\n                </g>\n            </g>\n        </g>\n        <g id=\"25\">\n            <g id=\"25.1\" class=\"nad-vl300to500\">\n                <polyline class=\"nad-edge-path\" points=\"354.48,-388.20 444.31,-178.78\"/>\n                <g class=\"nad-edge-infos\" transform=\"translate(379.12,-330.76)\">\n                    <g class=\"nad-active\">\n                        <g transform=\"rotate(156.78)\">\n                            <path class=\"nad-arrow-in\" transform=\"scale(10.00)\" d=\"M-1 -1 H1 L0 1z\"/>\n                            <path class=\"nad-arrow-out\" transform=\"scale(10.00)\" d=\"M-1 1 H1 L0 -1z\"/>\n                        </g>\n                        <text transform=\"rotate(66.78)\" x=\"19.00\"></text>\n                    </g>\n                </g>\n            </g>\n            <g id=\"25.2\" class=\"nad-vl300to500\">\n                <polyline class=\"nad-edge-path\" points=\"534.15,30.65 444.31,-178.78\"/>\n                <g class=\"nad-edge-infos\" transform=\"translate(521.33,0.78)\">\n                    <g class=\"nad-active\">\n                        <g transform=\"rotate(-23.22)\">\n                            <path class=\"nad-arrow-in\" transform=\"scale(10.00)\" d=\"M-1 -1 H1 L0 1z\"/>\n                            <path class=\"nad-arrow-out\" transform=\"scale(10.00)\" d=\"M-1 1 H1 L0 -1z\"/>\n                        </g>\n                        <text transform=\"rotate(-293.22)\" x=\"-19.00\" style=\"text-anchor:end\"></text>\n                    </g>\n                </g>\n            </g>\n        </g>\n        <g id=\"26\">\n            <g id=\"26.1\" class=\"nad-vl300to500\">\n                <polyline class=\"nad-edge-path\" points=\"-106.42,-552.18 -71.84,-512.68 96.66,-455.31\"/>\n                <g class=\"nad-edge-infos\" transform=\"translate(-43.44,-503.01)\">\n                    <g class=\"nad-active\">\n                        <g transform=\"rotate(108.80)\">\n                            <path class=\"nad-arrow-in\" transform=\"scale(10.00)\" d=\"M-1 -1 H1 L0 1z\"/>\n                            <path class=\"nad-arrow-out\" transform=\"scale(10.00)\" d=\"M-1 1 H1 L0 -1z\"/>\n                        </g>\n                        <text transform=\"rotate(18.80)\" x=\"19.00\"></text>\n                    </g>\n                </g>\n            </g>\n            <g id=\"26.2\" class=\"nad-vl300to500\">\n                <polyline class=\"nad-edge-path\" points=\"287.24,-402.30 265.17,-397.94 96.66,-455.31\"/>\n                <g class=\"nad-edge-infos\" transform=\"translate(236.77,-407.60)\">\n                    <g class=\"nad-active\">\n                        <g transform=\"rotate(-71.20)\">\n                            <path class=\"nad-arrow-in\" transform=\"scale(10.00)\" d=\"M-1 -1 H1 L0 1z\"/>\n                            <path class=\"nad-arrow-out\" transform=\"scale(10.00)\" d=\"M-1 1 H1 L0 -1z\"/>\n                        </g>\n                        <text transform=\"rotate(-341.20)\" x=\"-19.00\" style=\"text-anchor:end\"></text>\n                    </g>\n                </g>\n            </g>\n        </g>\n        <g id=\"27\" class=\"nad-disconnected\">\n            <g id=\"27.1\" class=\"nad-disconnected nad-vl300to500\">\n                <polyline class=\"nad-edge-path\" points=\"-98.50,-564.01 95.36,-498.01\"/>\n                <g class=\"nad-edge-infos\" transform=\"translate(-67.73,-553.54)\">\n                    <g class=\"nad-active\">\n                        <g transform=\"rotate(108.80)\">\n                            <path class=\"nad-arrow-in\" transform=\"scale(10.00)\" d=\"M-1 -1 H1 L0 1z\"/>\n                            <path class=\"nad-arrow-out\" transform=\"scale(10.00)\" d=\"M-1 1 H1 L0 -1z\"/>\n                        </g>\n                        <text transform=\"rotate(18.80)\" x=\"19.00\"></text>\n                    </g>\n                </g>\n            </g>\n            <g id=\"27.2\" class=\"nad-disconnected nad-vl300to500\">\n                <polyline class=\"nad-edge-path\" points=\"289.21,-432.00 95.36,-498.01\"/>\n                <g class=\"nad-edge-infos\" transform=\"translate(258.45,-442.48)\">\n                    <g class=\"nad-active\">\n                        <g transform=\"rotate(-71.20)\">\n                            <path class=\"nad-arrow-in\" transform=\"scale(10.00)\" d=\"M-1 -1 H1 L0 1z\"/>\n                            <path class=\"nad-arrow-out\" transform=\"scale(10.00)\" d=\"M-1 1 H1 L0 -1z\"/>\n                        </g>\n                        <text transform=\"rotate(-341.20)\" x=\"-19.00\" style=\"text-anchor:end\"></text>\n                    </g>\n                </g>\n            </g>\n        </g>\n        <g id=\"28\" class=\"nad-disconnected\">\n            <g id=\"28.1\" class=\"nad-disconnected nad-vl300to500\">\n                <polyline class=\"nad-edge-path\" points=\"-97.56,-578.21 -46.06,-588.41 122.45,-531.04\"/>\n                <g class=\"nad-edge-infos\" transform=\"translate(-17.66,-578.74)\">\n                    <g class=\"nad-active\">\n                        <g transform=\"rotate(108.80)\">\n                            <path class=\"nad-arrow-in\" transform=\"scale(10.00)\" d=\"M-1 -1 H1 L0 1z\"/>\n                            <path class=\"nad-arrow-out\" transform=\"scale(10.00)\" d=\"M-1 1 H1 L0 -1z\"/>\n                        </g>\n                        <text transform=\"rotate(18.80)\" x=\"19.00\"></text>\n                    </g>\n                </g>\n            </g>\n            <g id=\"28.2\" class=\"nad-disconnected nad-vl300to500\">\n                <polyline class=\"nad-edge-path\" points=\"305.77,-456.74 290.95,-473.67 122.45,-531.04\"/>\n                <g class=\"nad-edge-infos\" transform=\"translate(262.55,-483.34)\">\n                    <g class=\"nad-active\">\n                        <g transform=\"rotate(-71.20)\">\n                            <path class=\"nad-arrow-in\" transform=\"scale(10.00)\" d=\"M-1 -1 H1 L0 1z\"/>\n                            <path class=\"nad-arrow-out\" transform=\"scale(10.00)\" d=\"M-1 1 H1 L0 -1z\"/>\n                        </g>\n                        <text transform=\"rotate(-341.20)\" x=\"-19.00\" style=\"text-anchor:end\"></text>\n                    </g>\n                </g>\n            </g>\n        </g>\n        <g id=\"29\">\n            <g id=\"29.1\" class=\"nad-vl300to500\">\n                <path class=\"nad-edge-path\" d=\"M345.86,-356.01 L346.72,-333.53 C348.26,-293.56 323.08,-288.66 314.23,-293.33\"/>\n                <g class=\"nad-edge-infos\" transform=\"translate(346.72,-333.53)\">\n                    <g class=\"nad-active\">\n                        <g transform=\"rotate(177.79)\">\n                            <path class=\"nad-arrow-in\" transform=\"scale(10.00)\" d=\"M-1 -1 H1 L0 1z\"/>\n                            <path class=\"nad-arrow-out\" transform=\"scale(10.00)\" d=\"M-1 1 H1 L0 -1z\"/>\n                        </g>\n                        <text transform=\"rotate(87.79)\" x=\"19.00\"></text>\n                    </g>\n                </g>\n            </g>\n            <g id=\"29.2\" class=\"nad-vl300to500\">\n                <path class=\"nad-edge-path\" d=\"M320.38,-398.81 L275.95,-370.83 C242.11,-349.51 252.30,-325.96 261.15,-321.30\"/>\n                <g class=\"nad-edge-infos\" transform=\"translate(275.95,-370.83)\">\n                    <g class=\"nad-active\">\n                        <g transform=\"rotate(-122.21)\">\n                            <path class=\"nad-arrow-in\" transform=\"scale(10.00)\" d=\"M-1 -1 H1 L0 1z\"/>\n                            <path class=\"nad-arrow-out\" transform=\"scale(10.00)\" d=\"M-1 1 H1 L0 -1z\"/>\n                        </g>\n                        <text transform=\"rotate(-32.21)\" x=\"-19.00\" style=\"text-anchor:end\"></text>\n                    </g>\n                </g>\n            </g>\n            <g>\n                <circle class=\"nad-vl300to500 nad-winding\" cx=\"296.54\" cy=\"-302.65\" r=\"20.00\"/>\n                <circle class=\"nad-vl300to500 nad-winding\" cx=\"278.84\" cy=\"-311.98\" r=\"20.00\"/>\n                <path d=\"M60.00,0 0,60.00 M52.00,0 60.00,0 60.00,8.00\" transform=\"matrix(-0.88,-0.47,0.47,-0.88,300.24,-266.79)\" class=\"nad-pst-arrow\"/>\n            </g>\n        </g>\n        <g id=\"30\">\n            <g id=\"30.1\" class=\"nad-vl300to500\">\n                <polyline class=\"nad-edge-path\" points=\"-465.84,504.68 -439.00,345.61\"/>\n                <g class=\"nad-edge-infos\" transform=\"translate(-460.43,472.63)\">\n                    <g class=\"nad-active\">\n                        <g transform=\"rotate(9.58)\">\n                            <path class=\"nad-arrow-in\" transform=\"scale(10.00)\" d=\"M-1 -1 H1 L0 1z\"/>\n                            <path class=\"nad-arrow-out\" transform=\"scale(10.00)\" d=\"M-1 1 H1 L0 -1z\"/>\n                        </g>\n                        <text transform=\"rotate(-80.42)\" x=\"19.00\"></text>\n                    </g>\n                </g>\n            </g>\n            <g id=\"30.2\" class=\"nad-vl300to500\">\n                <polyline class=\"nad-edge-path\" points=\"-412.15,186.55 -439.00,345.61\"/>\n                <g class=\"nad-edge-infos\" transform=\"translate(-417.56,218.60)\">\n                    <g class=\"nad-active\">\n                        <g transform=\"rotate(-170.42)\">\n                            <path class=\"nad-arrow-in\" transform=\"scale(10.00)\" d=\"M-1 -1 H1 L0 1z\"/>\n                            <path class=\"nad-arrow-out\" transform=\"scale(10.00)\" d=\"M-1 1 H1 L0 -1z\"/>\n                        </g>\n                        <text transform=\"rotate(-80.42)\" x=\"-19.00\" style=\"text-anchor:end\"></text>\n                    </g>\n                </g>\n            </g>\n        </g>\n        <g id=\"31\">\n            <g id=\"31.1\" class=\"nad-vl300to500\">\n                <polyline class=\"nad-edge-path\" points=\"-443.33,527.02 -286.29,499.32\"/>\n                <g class=\"nad-edge-infos\" transform=\"translate(-411.33,521.37)\">\n                    <g class=\"nad-active\">\n                        <g transform=\"rotate(80.00)\">\n                            <path class=\"nad-arrow-in\" transform=\"scale(10.00)\" d=\"M-1 -1 H1 L0 1z\"/>\n                            <path class=\"nad-arrow-out\" transform=\"scale(10.00)\" d=\"M-1 1 H1 L0 -1z\"/>\n                        </g>\n                        <text transform=\"rotate(-10.00)\" x=\"19.00\"></text>\n                    </g>\n                </g>\n            </g>\n            <g id=\"31.2\" class=\"nad-vl300to500\">\n                <polyline class=\"nad-edge-path\" points=\"-129.24,471.62 -286.29,499.32\"/>\n                <g class=\"nad-edge-infos\" transform=\"translate(-161.25,477.26)\">\n                    <g class=\"nad-active\">\n                        <g transform=\"rotate(-100.00)\">\n                            <path class=\"nad-arrow-in\" transform=\"scale(10.00)\" d=\"M-1 -1 H1 L0 1z\"/>\n                            <path class=\"nad-arrow-out\" transform=\"scale(10.00)\" d=\"M-1 1 H1 L0 -1z\"/>\n                        </g>\n                        <text transform=\"rotate(-10.00)\" x=\"-19.00\" style=\"text-anchor:end\"></text>\n                    </g>\n                </g>\n            </g>\n        </g>\n        <g id=\"32\">\n            <g id=\"32.1\" class=\"nad-vl300to500\">\n                <polyline class=\"nad-edge-path\" points=\"-388.19,178.94 -254.87,313.14\"/>\n                <g class=\"nad-edge-infos\" transform=\"translate(-365.29,202.00)\">\n                    <g class=\"nad-active\">\n                        <g transform=\"rotate(135.19)\">\n                            <path class=\"nad-arrow-in\" transform=\"scale(10.00)\" d=\"M-1 -1 H1 L0 1z\"/>\n                            <path class=\"nad-arrow-out\" transform=\"scale(10.00)\" d=\"M-1 1 H1 L0 -1z\"/>\n                        </g>\n                        <text transform=\"rotate(45.19)\" x=\"19.00\"></text>\n                    </g>\n                </g>\n            </g>\n            <g id=\"32.2\" class=\"nad-vl300to500\">\n                <polyline class=\"nad-edge-path\" points=\"-121.54,447.33 -254.87,313.14\"/>\n                <g class=\"nad-edge-infos\" transform=\"translate(-144.45,424.28)\">\n                    <g class=\"nad-active\">\n                        <g transform=\"rotate(-44.81)\">\n                            <path class=\"nad-arrow-in\" transform=\"scale(10.00)\" d=\"M-1 -1 H1 L0 1z\"/>\n                            <path class=\"nad-arrow-out\" transform=\"scale(10.00)\" d=\"M-1 1 H1 L0 -1z\"/>\n                        </g>\n                        <text transform=\"rotate(-314.81)\" x=\"-19.00\" style=\"text-anchor:end\"></text>\n                    </g>\n                </g>\n            </g>\n        </g>\n        <g id=\"33\">\n            <g id=\"33.1\" class=\"nad-vl300to500\">\n                <polyline class=\"nad-edge-path\" points=\"-409.77,132.02 -426.87,-81.37\"/>\n                <g class=\"nad-edge-infos\" transform=\"translate(-412.37,99.62)\">\n                    <g class=\"nad-active\">\n                        <g transform=\"rotate(-4.58)\">\n                            <path class=\"nad-arrow-in\" transform=\"scale(10.00)\" d=\"M-1 -1 H1 L0 1z\"/>\n                            <path class=\"nad-arrow-out\" transform=\"scale(10.00)\" d=\"M-1 1 H1 L0 -1z\"/>\n                        </g>\n                        <text transform=\"rotate(-274.58)\" x=\"-19.00\" style=\"text-anchor:end\"></text>\n                    </g>\n                </g>\n            </g>\n            <g id=\"33.2\" class=\"nad-vl300to500\">\n                <polyline class=\"nad-edge-path\" points=\"-443.96,-294.75 -426.87,-81.37\"/>\n                <g class=\"nad-edge-infos\" transform=\"translate(-441.36,-262.36)\">\n                    <g class=\"nad-active\">\n                        <g transform=\"rotate(175.42)\">\n                            <path class=\"nad-arrow-in\" transform=\"scale(10.00)\" d=\"M-1 -1 H1 L0 1z\"/>\n                            <path class=\"nad-arrow-out\" transform=\"scale(10.00)\" d=\"M-1 1 H1 L0 -1z\"/>\n                        </g>\n                        <text transform=\"rotate(85.42)\" x=\"19.00\"></text>\n                    </g>\n                </g>\n            </g>\n        </g>\n        <g id=\"34\">\n            <g id=\"34.1\" class=\"nad-vl300to500\">\n                <polyline class=\"nad-edge-path\" points=\"336.12,434.31 130.69,449.56\"/>\n                <g class=\"nad-edge-infos\" transform=\"translate(303.71,436.72)\">\n                    <g class=\"nad-active\">\n                        <g transform=\"rotate(-94.24)\">\n                            <path class=\"nad-arrow-in\" transform=\"scale(10.00)\" d=\"M-1 -1 H1 L0 1z\"/>\n                            <path class=\"nad-arrow-out\" transform=\"scale(10.00)\" d=\"M-1 1 H1 L0 -1z\"/>\n                        </g>\n                        <text transform=\"rotate(-4.24)\" x=\"-19.00\" style=\"text-anchor:end\"></text>\n                    </g>\n                </g>\n            </g>\n            <g id=\"34.2\" class=\"nad-vl300to500\">\n                <polyline class=\"nad-edge-path\" points=\"-74.74,464.80 130.69,449.56\"/>\n                <g class=\"nad-edge-infos\" transform=\"translate(-42.33,462.40)\">\n                    <g class=\"nad-active\">\n                        <g transform=\"rotate(85.76)\">\n                            <path class=\"nad-arrow-in\" transform=\"scale(10.00)\" d=\"M-1 -1 H1 L0 1z\"/>\n                            <path class=\"nad-arrow-out\" transform=\"scale(10.00)\" d=\"M-1 1 H1 L0 -1z\"/>\n                        </g>\n                        <text transform=\"rotate(-4.24)\" x=\"19.00\"></text>\n                    </g>\n                </g>\n            </g>\n        </g>\n        <g id=\"35\">\n            <g id=\"35.1\" class=\"nad-vl300to500\">\n                <polyline class=\"nad-edge-path\" points=\"709.63,402.80 550.29,416.37\"/>\n                <g class=\"nad-edge-infos\" transform=\"translate(677.25,405.56)\">\n                    <g class=\"nad-active\">\n                        <g transform=\"rotate(-94.87)\">\n                            <path class=\"nad-arrow-in\" transform=\"scale(10.00)\" d=\"M-1 -1 H1 L0 1z\"/>\n                            <path class=\"nad-arrow-out\" transform=\"scale(10.00)\" d=\"M-1 1 H1 L0 -1z\"/>\n                        </g>\n                        <text transform=\"rotate(-4.87)\" x=\"-19.00\" style=\"text-anchor:end\"></text>\n                    </g>\n                </g>\n            </g>\n            <g id=\"35.2\" class=\"nad-vl300to500\">\n                <polyline class=\"nad-edge-path\" points=\"390.95,429.94 550.29,416.37\"/>\n                <g class=\"nad-edge-infos\" transform=\"translate(423.33,427.18)\">\n                    <g class=\"nad-active\">\n                        <g transform=\"rotate(85.13)\">\n                            <path class=\"nad-arrow-in\" transform=\"scale(10.00)\" d=\"M-1 -1 H1 L0 1z\"/>\n                            <path class=\"nad-arrow-out\" transform=\"scale(10.00)\" d=\"M-1 1 H1 L0 -1z\"/>\n                        </g>\n                        <text transform=\"rotate(-4.87)\" x=\"19.00\"></text>\n                    </g>\n                </g>\n            </g>\n        </g>\n        <g id=\"36\">\n            <g id=\"36.1\" class=\"nad-vl300to500\">\n                <polyline class=\"nad-edge-path\" points=\"723.64,376.44 641.01,228.19\"/>\n                <g class=\"nad-edge-infos\" transform=\"translate(707.82,348.06)\">\n                    <g class=\"nad-active\">\n                        <g transform=\"rotate(-29.13)\">\n                            <path class=\"nad-arrow-in\" transform=\"scale(10.00)\" d=\"M-1 -1 H1 L0 1z\"/>\n                            <path class=\"nad-arrow-out\" transform=\"scale(10.00)\" d=\"M-1 1 H1 L0 -1z\"/>\n                        </g>\n                        <text transform=\"rotate(-299.13)\" x=\"-19.00\" style=\"text-anchor:end\"></text>\n                    </g>\n                </g>\n            </g>\n            <g id=\"36.2\" class=\"nad-vl300to500\">\n                <polyline class=\"nad-edge-path\" points=\"558.37,79.94 641.01,228.19\"/>\n                <g class=\"nad-edge-infos\" transform=\"translate(574.20,108.33)\">\n                    <g class=\"nad-active\">\n                        <g transform=\"rotate(150.87)\">\n                            <path class=\"nad-arrow-in\" transform=\"scale(10.00)\" d=\"M-1 -1 H1 L0 1z\"/>\n                            <path class=\"nad-arrow-out\" transform=\"scale(10.00)\" d=\"M-1 1 H1 L0 -1z\"/>\n                        </g>\n                        <text transform=\"rotate(60.87)\" x=\"19.00\"></text>\n                    </g>\n                </g>\n            </g>\n        </g>\n        <g id=\"37\">\n            <g id=\"37.1\" class=\"nad-vl300to500\">\n                <polyline class=\"nad-edge-path\" points=\"375.49,407.50 454.27,244.10\"/>\n                <g class=\"nad-edge-infos\" transform=\"translate(389.60,378.23)\">\n                    <g class=\"nad-active\">\n                        <g transform=\"rotate(25.74)\">\n                            <path class=\"nad-arrow-in\" transform=\"scale(10.00)\" d=\"M-1 -1 H1 L0 1z\"/>\n                            <path class=\"nad-arrow-out\" transform=\"scale(10.00)\" d=\"M-1 1 H1 L0 -1z\"/>\n                        </g>\n                        <text transform=\"rotate(-64.26)\" x=\"19.00\"></text>\n                    </g>\n                </g>\n            </g>\n            <g id=\"37.2\" class=\"nad-vl300to500\">\n                <polyline class=\"nad-edge-path\" points=\"533.04,80.69 454.27,244.10\"/>\n                <g class=\"nad-edge-infos\" transform=\"translate(518.93,109.97)\">\n                    <g class=\"nad-active\">\n                        <g transform=\"rotate(-154.26)\">\n                            <path class=\"nad-arrow-in\" transform=\"scale(10.00)\" d=\"M-1 -1 H1 L0 1z\"/>\n                            <path class=\"nad-arrow-out\" transform=\"scale(10.00)\" d=\"M-1 1 H1 L0 -1z\"/>\n                        </g>\n                        <text transform=\"rotate(-64.26)\" x=\"-19.00\" style=\"text-anchor:end\"></text>\n                    </g>\n                </g>\n            </g>\n        </g>\n        <g id=\"38\">\n            <g id=\"38.1\" class=\"nad-vl300to500\">\n                <polyline class=\"nad-edge-path\" points=\"-462.45,-696.29 -306.41,-639.30\"/>\n                <g class=\"nad-edge-infos\" transform=\"translate(-431.93,-685.14)\">\n                    <g class=\"nad-active\">\n                        <g transform=\"rotate(110.06)\">\n                            <path class=\"nad-arrow-in\" transform=\"scale(10.00)\" d=\"M-1 -1 H1 L0 1z\"/>\n                            <path class=\"nad-arrow-out\" transform=\"scale(10.00)\" d=\"M-1 1 H1 L0 -1z\"/>\n                        </g>\n                        <text transform=\"rotate(20.06)\" x=\"19.00\"></text>\n                    </g>\n                </g>\n            </g>\n            <g id=\"38.2\" class=\"nad-vl300to500\">\n                <polyline class=\"nad-edge-path\" points=\"-150.36,-582.31 -306.41,-639.30\"/>\n                <g class=\"nad-edge-infos\" transform=\"translate(-180.89,-593.46)\">\n                    <g class=\"nad-active\">\n                        <g transform=\"rotate(-69.94)\">\n                            <path class=\"nad-arrow-in\" transform=\"scale(10.00)\" d=\"M-1 -1 H1 L0 1z\"/>\n                            <path class=\"nad-arrow-out\" transform=\"scale(10.00)\" d=\"M-1 1 H1 L0 -1z\"/>\n                        </g>\n                        <text transform=\"rotate(-339.94)\" x=\"-19.00\" style=\"text-anchor:end\"></text>\n                    </g>\n                </g>\n            </g>\n        </g>\n        <g id=\"39\">\n            <g id=\"39.1\" class=\"nad-vl300to500\">\n                <polyline class=\"nad-edge-path\" points=\"-485.28,-678.39 -467.22,-513.94\"/>\n                <g class=\"nad-edge-infos\" transform=\"translate(-481.73,-646.08)\">\n                    <g class=\"nad-active\">\n                        <g transform=\"rotate(173.73)\">\n                            <path class=\"nad-arrow-in\" transform=\"scale(10.00)\" d=\"M-1 -1 H1 L0 1z\"/>\n                            <path class=\"nad-arrow-out\" transform=\"scale(10.00)\" d=\"M-1 1 H1 L0 -1z\"/>\n                        </g>\n                        <text transform=\"rotate(83.73)\" x=\"19.00\"></text>\n                    </g>\n                </g>\n            </g>\n            <g id=\"39.2\" class=\"nad-vl300to500\">\n                <polyline class=\"nad-edge-path\" points=\"-449.16,-349.50 -467.22,-513.94\"/>\n                <g class=\"nad-edge-infos\" transform=\"translate(-452.71,-381.81)\">\n                    <g class=\"nad-active\">\n                        <g transform=\"rotate(-6.27)\">\n                            <path class=\"nad-arrow-in\" transform=\"scale(10.00)\" d=\"M-1 -1 H1 L0 1z\"/>\n                            <path class=\"nad-arrow-out\" transform=\"scale(10.00)\" d=\"M-1 1 H1 L0 -1z\"/>\n                        </g>\n                        <text transform=\"rotate(-276.27)\" x=\"-19.00\" style=\"text-anchor:end\"></text>\n                    </g>\n                </g>\n            </g>\n        </g>\n        <g id=\"40\">\n            <g id=\"40.1\" class=\"nad-vl300to500\">\n                <polyline class=\"nad-edge-path\" points=\"-146.22,-555.97 -285.34,-447.52\"/>\n                <g class=\"nad-edge-infos\" transform=\"translate(-171.85,-535.99)\">\n                    <g class=\"nad-active\">\n                        <g transform=\"rotate(-127.94)\">\n                            <path class=\"nad-arrow-in\" transform=\"scale(10.00)\" d=\"M-1 -1 H1 L0 1z\"/>\n                            <path class=\"nad-arrow-out\" transform=\"scale(10.00)\" d=\"M-1 1 H1 L0 -1z\"/>\n                        </g>\n                        <text transform=\"rotate(-37.94)\" x=\"-19.00\" style=\"text-anchor:end\"></text>\n                    </g>\n                </g>\n            </g>\n            <g id=\"40.2\" class=\"nad-vl300to500\">\n                <polyline class=\"nad-edge-path\" points=\"-424.47,-339.07 -285.34,-447.52\"/>\n                <g class=\"nad-edge-infos\" transform=\"translate(-398.83,-359.05)\">\n                    <g class=\"nad-active\">\n                        <g transform=\"rotate(52.06)\">\n                            <path class=\"nad-arrow-in\" transform=\"scale(10.00)\" d=\"M-1 -1 H1 L0 1z\"/>\n                            <path class=\"nad-arrow-out\" transform=\"scale(10.00)\" d=\"M-1 1 H1 L0 -1z\"/>\n                        </g>\n                        <text transform=\"rotate(-37.94)\" x=\"19.00\"></text>\n                    </g>\n                </g>\n            </g>\n        </g>\n    </g>\n    <g class=\"nad-text-edges\">\n        <polyline id=\"0-textedge\" points=\"606.71,-744.84 677.04,-755.39\"/>\n        <polyline id=\"2-textedge\" points=\"402.98,-422.37 443.64,-428.47\"/>\n        <polyline id=\"5-textedge\" points=\"-440.75,527.34 -370.42,516.79\"/>\n        <polyline id=\"7-textedge\" points=\"-377.91,154.98 -307.58,144.43\"/>\n        <polyline id=\"9-textedge\" points=\"-72.49,462.39 -2.16,451.84\"/>\n        <polyline id=\"11-textedge\" points=\"766.70,396.01 837.03,385.46\"/>\n        <polyline id=\"13-textedge\" points=\"393.21,427.82 463.55,417.27\"/>\n        <polyline id=\"15-textedge\" points=\"574.65,51.47 644.99,40.92\"/>\n        <polyline id=\"17-textedge\" points=\"-458.62,-710.17 -388.28,-720.72\"/>\n        <polyline id=\"19-textedge\" points=\"-94.86,-577.32 -24.53,-587.87\"/>\n        <polyline id=\"21-textedge\" points=\"-416.49,-326.61 -346.15,-337.16\"/>\n    </g>\n    <foreignObject height=\"1\" width=\"1\" class=\"nad-text-nodes\">\n        <div xmlns=\"http://www.w3.org/1999/xhtml\">\n            <div class=\"nad-label-box\" style=\"position: absolute; top: -780px; left: 677px\" id=\"0-textnode\">\n                <div>BBE1AA1</div>\n                <div class=\"nad-bus-descr\">\n                    <span class=\"nad-vl300to500 nad-bus-0 nad-legend-square\"/> kV / °</div>\n            </div>\n            <div class=\"nad-label-box\" style=\"position: absolute; top: -453px; left: 444px\" id=\"2-textnode\">\n                <div>BBE2AA1</div>\n                <div class=\"nad-bus-descr\">\n                    <span class=\"nad-vl300to500 nad-bus-0 nad-legend-square\"/> kV / °</div>\n                <div class=\"nad-bus-descr\">\n                    <span class=\"nad-vl300to500 nad-bus-1 nad-legend-square\"/> kV / °</div>\n            </div>\n            <div class=\"nad-label-box\" style=\"position: absolute; top: 492px; left: -370px\" id=\"5-textnode\">\n                <div>DDE1AA1</div>\n                <div class=\"nad-bus-descr\">\n                    <span class=\"nad-vl300to500 nad-bus-0 nad-legend-square\"/> kV / °</div>\n            </div>\n            <div class=\"nad-label-box\" style=\"position: absolute; top: 119px; left: -308px\" id=\"7-textnode\">\n                <div>DDE2AA1</div>\n                <div class=\"nad-bus-descr\">\n                    <span class=\"nad-vl300to500 nad-bus-0 nad-legend-square\"/> kV / °</div>\n            </div>\n            <div class=\"nad-label-box\" style=\"position: absolute; top: 427px; left: -2px\" id=\"9-textnode\">\n                <div>DDE3AA1</div>\n                <div class=\"nad-bus-descr\">\n                    <span class=\"nad-vl300to500 nad-bus-0 nad-legend-square\"/> kV / °</div>\n            </div>\n            <div class=\"nad-label-box\" style=\"position: absolute; top: 360px; left: 837px\" id=\"11-textnode\">\n                <div>FFR1AA1</div>\n                <div class=\"nad-bus-descr\">\n                    <span class=\"nad-vl300to500 nad-bus-0 nad-legend-square\"/> kV / °</div>\n            </div>\n            <div class=\"nad-label-box\" style=\"position: absolute; top: 392px; left: 464px\" id=\"13-textnode\">\n                <div>FFR2AA1</div>\n                <div class=\"nad-bus-descr\">\n                    <span class=\"nad-vl300to500 nad-bus-0 nad-legend-square\"/> kV / °</div>\n            </div>\n            <div class=\"nad-label-box\" style=\"position: absolute; top: 16px; left: 645px\" id=\"15-textnode\">\n                <div>FFR3AA1</div>\n                <div class=\"nad-bus-descr\">\n                    <span class=\"nad-vl300to500 nad-bus-0 nad-legend-square\"/> kV / °</div>\n            </div>\n            <div class=\"nad-label-box\" style=\"position: absolute; top: -746px; left: -388px\" id=\"17-textnode\">\n                <div>NNL1AA1</div>\n                <div class=\"nad-bus-descr\">\n                    <span class=\"nad-vl300to500 nad-bus-0 nad-legend-square\"/> kV / °</div>\n            </div>\n            <div class=\"nad-label-box\" style=\"position: absolute; top: -613px; left: -25px\" id=\"19-textnode\">\n                <div>NNL2AA1</div>\n                <div class=\"nad-bus-descr\">\n                    <span class=\"nad-vl300to500 nad-bus-0 nad-legend-square\"/> kV / °</div>\n            </div>\n            <div class=\"nad-label-box\" style=\"position: absolute; top: -362px; left: -346px\" id=\"21-textnode\">\n                <div>NNL3AA1</div>\n                <div class=\"nad-bus-descr\">\n                    <span class=\"nad-vl300to500 nad-bus-0 nad-legend-square\"/> kV / °</div>\n            </div>\n        </div>\n    </foreignObject>\n</svg>\n"
     },
     "execution_count": 4,
     "metadata": {},
     "output_type": "execute_result"
    }
   ],
   "execution_count": 4
  },
  {
   "cell_type": "markdown",
   "metadata": {},
   "source": [
    "## 1 - Simple N case overload"
   ]
  },
  {
   "cell_type": "markdown",
   "metadata": {},
   "source": [
    "To check the initial situation we can just run a loadflow on the network and redraw the network."
   ]
  },
  {
   "cell_type": "code",
   "metadata": {
    "ExecuteTime": {
     "end_time": "2025-07-30T08:35:45.270604Z",
     "start_time": "2025-07-30T08:35:45.253526Z"
    }
   },
   "source": [
    "pp.loadflow.run_dc(n12)\n",
    "n12.get_network_area_diagram()"
   ],
   "outputs": [
    {
     "data": {
      "text/plain": [
       "<pypowsybl.network.impl.svg.Svg at 0x7df34d64d3d0>"
      ],
      "image/svg+xml": "<?xml version=\"1.0\" encoding=\"UTF-8\"?>\n<svg width=\"604.60\" height=\"600.00\" viewBox=\"-688.28 -980.39 1725.31 1712.18\" xmlns=\"http://www.w3.org/2000/svg\">\n    <style><![CDATA[.nad-branch-edges .nad-edge-path, .nad-3wt-edges .nad-edge-path {stroke: var(--nad-vl-color, lightgrey); stroke-width: 5; fill: none}\n.nad-branch-edges .nad-winding, .nad-3wt-nodes .nad-winding {stroke: var(--nad-vl-color, lightgrey); stroke-width: 5; fill: none}\n.nad-text-edges {stroke: black; stroke-width: 3; stroke-dasharray: 6,7; fill: none}\n.nad-disconnected .nad-edge-path {stroke-dasharray: 10,10}\n.nad-injections .nad-disconnected .nad-edge-path, .nad-injections .nad-disconnected circle {stroke: lightgrey}\n.nad-injections .nad-edge-path {stroke: var(--nad-vl-color, lightgrey); stroke-width: 3; fill: none}\n.nad-injections circle {stroke: var(--nad-vl-color, lightgrey); stroke-width: 3; fill: none}\n.nad-vl-nodes .nad-busnode {fill: var(--nad-vl-color, lightgrey)}\n.nad-vl-nodes circle.nad-unknown-busnode {stroke: var(--nad-vl-color, #808080); stroke-width: 5; stroke-dasharray: 5,5; fill: none}\n.nad-hvdc-edge polyline.nad-hvdc {stroke: grey; stroke-width: 40}\n.nad-branch-edges .nad-tie-line-edge .nad-edge-path {stroke-width: 7}\n.nad-pst-arrow {stroke: #6a6a6a; stroke-width: 4; stroke-linecap: round; fill: none}\npath.nad-arrow-out:not(.nad-state-out .nad-arrow-out) {visibility: hidden}\npath.nad-arrow-in:not(.nad-state-in .nad-arrow-in) {visibility: hidden}\n.nad-active {fill: #546e7a}\n.nad-reactive {fill: #0277bd}\n.nad-current {fill: #bd4802}\n.nad-text-background {flood-color: #90a4aeaa}\n.nad-text-nodes {font: 25px serif; fill: black; dominant-baseline: central}\nforeignObject.nad-text-nodes {overflow: visible; color: black}\n.nad-label-box {background-color: #6c6c6c20; width: max-content; padding: 10px; border-radius: 10px;}\n.nad-legend-square {display: inline-block; margin-right: 10px; width: 20px; height: 20px; background: var(--nad-vl-color, black);}\n.nad-edge-infos text, .nad-edge-label text {font: 20px serif; dominant-baseline:middle; stroke: #FFFFFFAA; stroke-width: 10; stroke-linejoin:round; paint-order: stroke}\n.nad-disconnected {--nad-vl-color: #808080}\n:is(.nad-branch-edges, .nad-3wt-edges, .nad-3wt-nodes) .nad-vl0to30 {--nad-vl-color: #afb42b}\n.nad-vl0to30.nad-bus-0 {--nad-vl-color: #827717}\n.nad-vl0to30.nad-bus-1 {--nad-vl-color: #d4e157}\n.nad-vl0to30.nad-bus-2 {--nad-vl-color: #e6ee9c}\n.nad-vl0to30.nad-bus-3 {--nad-vl-color: #c0ca33}\n.nad-vl0to30.nad-bus-4 {--nad-vl-color: #f0fc83}\n.nad-vl0to30.nad-bus-5 {--nad-vl-color: #9e9d24}\n.nad-vl0to30.nad-bus-6 {--nad-vl-color: #cddc39}\n.nad-vl0to30.nad-bus-7 {--nad-vl-color: #dce775}\n.nad-vl0to30.nad-bus-8 {--nad-vl-color: #ddfc88}\n:is(.nad-branch-edges, .nad-3wt-edges, .nad-3wt-nodes) .nad-vl30to50 {--nad-vl-color: #ef9a9a}\n.nad-vl30to50.nad-bus-0 {--nad-vl-color: #c2185b}\n.nad-vl30to50.nad-bus-1 {--nad-vl-color: #f06292}\n.nad-vl30to50.nad-bus-2 {--nad-vl-color: #d81b60}\n.nad-vl30to50.nad-bus-3 {--nad-vl-color: #ec407a}\n.nad-vl30to50.nad-bus-4 {--nad-vl-color: #880e4f}\n.nad-vl30to50.nad-bus-5 {--nad-vl-color: #ad1457}\n.nad-vl30to50.nad-bus-6 {--nad-vl-color: #e91e63}\n.nad-vl30to50.nad-bus-7 {--nad-vl-color: #f48fb1}\n.nad-vl30to50.nad-bus-8 {--nad-vl-color: #f8bbd0}\n:is(.nad-branch-edges, .nad-3wt-edges, .nad-3wt-nodes) .nad-vl50to70 {--nad-vl-color: #9c27b0}\n.nad-vl50to70.nad-bus-0 {--nad-vl-color: #7b1fa2}\n.nad-vl50to70.nad-bus-1 {--nad-vl-color: #ba68c8}\n.nad-vl50to70.nad-bus-2 {--nad-vl-color: #512da8}\n.nad-vl50to70.nad-bus-3 {--nad-vl-color: #ab47bc}\n.nad-vl50to70.nad-bus-4 {--nad-vl-color: #e1bee7}\n.nad-vl50to70.nad-bus-5 {--nad-vl-color: #6a1b9a}\n.nad-vl50to70.nad-bus-6 {--nad-vl-color: #4a148c}\n.nad-vl50to70.nad-bus-7 {--nad-vl-color: #ce93d8}\n.nad-vl50to70.nad-bus-8 {--nad-vl-color: #9575cd}\n:is(.nad-branch-edges, .nad-3wt-edges, .nad-3wt-nodes) .nad-vl70to120 {--nad-vl-color: #e65100}\n.nad-vl70to120.nad-bus-0 {--nad-vl-color: #fb8c00}\n.nad-vl70to120.nad-bus-1 {--nad-vl-color: #ffb74d}\n.nad-vl70to120.nad-bus-2 {--nad-vl-color: #f57c00}\n.nad-vl70to120.nad-bus-3 {--nad-vl-color: #ffa726}\n.nad-vl70to120.nad-bus-4 {--nad-vl-color: #ffe0b2}\n.nad-vl70to120.nad-bus-5 {--nad-vl-color: #ef6c00}\n.nad-vl70to120.nad-bus-6 {--nad-vl-color: #ff9800}\n.nad-vl70to120.nad-bus-7 {--nad-vl-color: #ffcc80}\n.nad-vl70to120.nad-bus-8 {--nad-vl-color: #fff3e0}\n:is(.nad-branch-edges, .nad-3wt-edges, .nad-3wt-nodes) .nad-vl120to180 {--nad-vl-color: #00ACC1}\n.nad-vl120to180.nad-bus-0 {--nad-vl-color: #4fc3f7}\n.nad-vl120to180.nad-bus-1 {--nad-vl-color: #01579b}\n.nad-vl120to180.nad-bus-2 {--nad-vl-color: #b3e5fc}\n.nad-vl120to180.nad-bus-3 {--nad-vl-color: #039be5}\n.nad-vl120to180.nad-bus-4 {--nad-vl-color: #81d4fa}\n.nad-vl120to180.nad-bus-5 {--nad-vl-color: #0288d1}\n.nad-vl120to180.nad-bus-6 {--nad-vl-color: #29b6f6}\n.nad-vl120to180.nad-bus-7 {--nad-vl-color: #0277bd}\n.nad-vl120to180.nad-bus-8 {--nad-vl-color: #03a9f4}\n:is(.nad-branch-edges, .nad-3wt-edges, .nad-3wt-nodes) .nad-vl180to300 {--nad-vl-color: #2e7d32}\n.nad-vl180to300.nad-bus-0 {--nad-vl-color: #81c784}\n.nad-vl180to300.nad-bus-1 {--nad-vl-color: #558b2f}\n.nad-vl180to300.nad-bus-2 {--nad-vl-color: #c8e6c9}\n.nad-vl180to300.nad-bus-3 {--nad-vl-color: #43a047}\n.nad-vl180to300.nad-bus-4 {--nad-vl-color: #a5d6a7}\n.nad-vl180to300.nad-bus-5 {--nad-vl-color: #388e3c}\n.nad-vl180to300.nad-bus-6 {--nad-vl-color: #66bb6a}\n.nad-vl180to300.nad-bus-7 {--nad-vl-color: #1b5e20}\n.nad-vl180to300.nad-bus-8 {--nad-vl-color: #4caf50}\n:is(.nad-branch-edges, .nad-3wt-edges, .nad-3wt-nodes) .nad-vl300to500 {--nad-vl-color: #d32f2f}\n.nad-vl300to500.nad-bus-0 {--nad-vl-color: #ef5350}\n.nad-vl300to500.nad-bus-1 {--nad-vl-color: #ef9a9a}\n.nad-vl300to500.nad-bus-2 {--nad-vl-color: #b71c1c}\n.nad-vl300to500.nad-bus-3 {--nad-vl-color: #e57373}\n.nad-vl300to500.nad-bus-4 {--nad-vl-color: #e53935}\n.nad-vl300to500.nad-bus-5 {--nad-vl-color: #ff8a80}\n.nad-vl300to500.nad-bus-6 {--nad-vl-color: #f44336}\n.nad-vl300to500.nad-bus-7 {--nad-vl-color: #ffcdd2}\n.nad-vl300to500.nad-bus-8 {--nad-vl-color: #c62828}\n.nad-branch-edges .nad-overload .nad-edge-path {animation: line-blink 3s infinite}\n.nad-vl-nodes .nad-overvoltage {animation: node-over-blink 3s infinite}\n.nad-vl-nodes .nad-undervoltage {animation: node-under-blink 3s infinite}\n.nad-highlight {stroke-width: 25; opacity: 0.2; fill: none;}\n.nad-highlight-0 {stroke: #e6e600;}\n.nad-highlight-1 {stroke: #b300b3;}\n.nad-highlight-2 {stroke: #2eb82e;}\n.nad-highlight-3 {stroke: #e67300;}\n.nad-highlight-4 {stroke: #0000ff;}\n@keyframes line-blink {\n  0%, 80%, 100% {stroke: var(--nad-vl-color, black); stroke-width: 5}\n  40% {stroke: #FFEB3B; stroke-width: 15}\n}\n@keyframes node-over-blink {\n  0%, 80%, 100% {stroke: white; stroke-width: 0}\n  40% {stroke: #ff5722; stroke-width: 15}\n}\n@keyframes node-under-blink {\n  0%, 80%, 100% {stroke: white; stroke-width: 0}\n  40% {stroke: #00BCD4; stroke-width: 15}\n}\n.nad-load {stroke: var(--nad-vl-color, lightgrey); stroke-width: 3; fill: none}\n.nad-battery {stroke: var(--nad-vl-color, lightgrey); stroke-width: 3; fill: none}\n.nad-generator {stroke: var(--nad-vl-color, lightgrey); stroke-width: 3; stroke-linecap: round; fill: none}\n.nad-capacitor {stroke: var(--nad-vl-color, lightgrey); stroke-width: 3; fill: none}\n.nad-inductor {stroke: var(--nad-vl-color, lightgrey); stroke-width: 3; stroke-linejoin: round; stroke-linecap: round; fill: none}\n.nad-svc {stroke: var(--nad-vl-color, lightgrey); stroke-width: 3; stroke-linejoin:round; fill: none}\n.nad-disconnected .nad-load {stroke: lightgrey}\n.nad-disconnected .nad-battery {stroke: lightgrey}\n.nad-disconnected .nad-generator {stroke: lightgrey}\n.nad-disconnected .nad-capacitor {stroke: lightgrey}\n.nad-disconnected .nad-inductor {stroke: lightgrey}\n.nad-disconnected .nad-svc {stroke: lightgrey}\n.nad-unknown {stroke: none; fill: black}\n]]></style>\n    <g class=\"nad-vl-nodes\">\n        <g transform=\"translate(577.04,-740.39)\" id=\"0\">\n            <circle r=\"27.50\" id=\"1\" class=\"nad-vl300to500 nad-bus-0 nad-busnode\"/>\n        </g>\n        <g transform=\"translate(343.64,-413.47)\" id=\"2\">\n            <circle r=\"27.50\" id=\"3\" class=\"nad-vl300to500 nad-bus-0 nad-busnode\"/>\n            <path d=\"M12.932,-56.027 A57.500,57.500 136.313 0 1 29.348,49.447 L19.304,26.146 A32.500,32.500 -124.815 0 0 10.445,-30.776 Z M15.601,55.343 A57.500,57.500 66.063 0 1 -44.253,36.714 L-22.808,23.152 A32.500,32.500 -54.565 0 0 5.641,32.007 Z M-52.225,24.058 A57.500,57.500 112.784 0 1 -1.956,-57.467 L-4.354,-32.207 A32.500,32.500 -101.287 0 0 -30.732,10.573 Z \" id=\"4\" class=\"nad-vl300to500 nad-bus-1 nad-busnode\"/>\n        </g>\n        <g transform=\"translate(-470.42,531.79)\" id=\"5\">\n            <circle r=\"27.50\" id=\"6\" class=\"nad-vl300to500 nad-bus-0 nad-busnode\"/>\n        </g>\n        <g transform=\"translate(-407.58,159.43)\" id=\"7\">\n            <circle r=\"27.50\" id=\"8\" class=\"nad-vl300to500 nad-bus-0 nad-busnode\"/>\n        </g>\n        <g transform=\"translate(-102.16,466.84)\" id=\"9\">\n            <circle r=\"27.50\" id=\"10\" class=\"nad-vl300to500 nad-bus-0 nad-busnode\"/>\n        </g>\n        <g transform=\"translate(737.03,400.46)\" id=\"11\">\n            <circle r=\"27.50\" id=\"12\" class=\"nad-vl300to500 nad-bus-0 nad-busnode\"/>\n        </g>\n        <g transform=\"translate(363.55,432.27)\" id=\"13\">\n            <circle r=\"27.50\" id=\"14\" class=\"nad-vl300to500 nad-bus-0 nad-busnode\"/>\n        </g>\n        <g transform=\"translate(544.99,55.92)\" id=\"15\">\n            <circle r=\"27.50\" id=\"16\" class=\"nad-vl300to500 nad-bus-0 nad-busnode\"/>\n        </g>\n        <g transform=\"translate(-488.28,-705.72)\" id=\"17\">\n            <circle r=\"27.50\" id=\"18\" class=\"nad-vl300to500 nad-bus-0 nad-busnode\"/>\n        </g>\n        <g transform=\"translate(-124.53,-572.87)\" id=\"19\">\n            <circle r=\"27.50\" id=\"20\" class=\"nad-vl300to500 nad-bus-0 nad-busnode\"/>\n        </g>\n        <g transform=\"translate(-446.15,-322.16)\" id=\"21\">\n            <circle r=\"27.50\" id=\"22\" class=\"nad-vl300to500 nad-bus-0 nad-busnode\"/>\n        </g>\n    </g>\n    <g class=\"nad-branch-edges\">\n        <g id=\"23\">\n            <g id=\"23.1\" class=\"nad-vl300to500\">\n                <polyline class=\"nad-edge-path\" points=\"552.01,-729.00 504.23,-707.25 427.79,-600.17\"/>\n                <g class=\"nad-edge-infos\" transform=\"translate(486.80,-682.83)\">\n                    <g class=\"nad-active nad-state-out\">\n                        <g transform=\"rotate(-144.48)\">\n                            <path class=\"nad-arrow-in\" transform=\"scale(10.00)\" d=\"M-1 -1 H1 L0 1z\"/>\n                            <path class=\"nad-arrow-out\" transform=\"scale(10.00)\" d=\"M-1 1 H1 L0 -1z\"/>\n                        </g>\n                        <text transform=\"rotate(-54.48)\" x=\"-19.00\" style=\"text-anchor:end\">167</text>\n                    </g>\n                </g>\n            </g>\n            <g id=\"23.2\" class=\"nad-vl300to500\">\n                <polyline class=\"nad-edge-path\" points=\"346.29,-440.84 351.34,-493.10 427.79,-600.17\"/>\n                <g class=\"nad-edge-infos\" transform=\"translate(368.78,-517.51)\">\n                    <g class=\"nad-active nad-state-in\">\n                        <g transform=\"rotate(35.52)\">\n                            <path class=\"nad-arrow-in\" transform=\"scale(10.00)\" d=\"M-1 -1 H1 L0 1z\"/>\n                            <path class=\"nad-arrow-out\" transform=\"scale(10.00)\" d=\"M-1 1 H1 L0 -1z\"/>\n                        </g>\n                        <text transform=\"rotate(-54.48)\" x=\"19.00\">-167</text>\n                    </g>\n                </g>\n            </g>\n        </g>\n        <g id=\"24\">\n            <g id=\"24.1\" class=\"nad-vl300to500\">\n                <polyline class=\"nad-edge-path\" points=\"574.39,-713.02 569.34,-660.76 492.90,-553.69\"/>\n                <g class=\"nad-edge-infos\" transform=\"translate(551.91,-636.35)\">\n                    <g class=\"nad-active nad-state-in\">\n                        <g transform=\"rotate(-144.48)\">\n                            <path class=\"nad-arrow-in\" transform=\"scale(10.00)\" d=\"M-1 -1 H1 L0 1z\"/>\n                            <path class=\"nad-arrow-out\" transform=\"scale(10.00)\" d=\"M-1 1 H1 L0 -1z\"/>\n                        </g>\n                        <text transform=\"rotate(-54.48)\" x=\"-19.00\" style=\"text-anchor:end\">-167</text>\n                    </g>\n                </g>\n            </g>\n            <g id=\"24.2\" class=\"nad-vl300to500\">\n                <polyline class=\"nad-edge-path\" points=\"395.98,-437.29 416.45,-446.62 492.90,-553.69\"/>\n                <g class=\"nad-edge-infos\" transform=\"translate(433.89,-471.03)\">\n                    <g class=\"nad-active nad-state-out\">\n                        <g transform=\"rotate(35.52)\">\n                            <path class=\"nad-arrow-in\" transform=\"scale(10.00)\" d=\"M-1 -1 H1 L0 1z\"/>\n                            <path class=\"nad-arrow-out\" transform=\"scale(10.00)\" d=\"M-1 1 H1 L0 -1z\"/>\n                        </g>\n                        <text transform=\"rotate(-54.48)\" x=\"19.00\">167</text>\n                    </g>\n                </g>\n            </g>\n        </g>\n        <g id=\"25\">\n            <g id=\"25.1\" class=\"nad-vl300to500\">\n                <polyline class=\"nad-edge-path\" points=\"354.48,-388.20 444.31,-178.78\"/>\n                <g class=\"nad-edge-infos\" transform=\"translate(379.12,-330.76)\">\n                    <g class=\"nad-active nad-state-out\">\n                        <g transform=\"rotate(156.78)\">\n                            <path class=\"nad-arrow-in\" transform=\"scale(10.00)\" d=\"M-1 -1 H1 L0 1z\"/>\n                            <path class=\"nad-arrow-out\" transform=\"scale(10.00)\" d=\"M-1 1 H1 L0 -1z\"/>\n                        </g>\n                        <text transform=\"rotate(66.78)\" x=\"19.00\">500</text>\n                    </g>\n                </g>\n            </g>\n            <g id=\"25.2\" class=\"nad-vl300to500\">\n                <polyline class=\"nad-edge-path\" points=\"534.15,30.65 444.31,-178.78\"/>\n                <g class=\"nad-edge-infos\" transform=\"translate(521.33,0.78)\">\n                    <g class=\"nad-active nad-state-in\">\n                        <g transform=\"rotate(-23.22)\">\n                            <path class=\"nad-arrow-in\" transform=\"scale(10.00)\" d=\"M-1 -1 H1 L0 1z\"/>\n                            <path class=\"nad-arrow-out\" transform=\"scale(10.00)\" d=\"M-1 1 H1 L0 -1z\"/>\n                        </g>\n                        <text transform=\"rotate(-293.22)\" x=\"-19.00\" style=\"text-anchor:end\">-500</text>\n                    </g>\n                </g>\n            </g>\n        </g>\n        <g id=\"26\">\n            <g id=\"26.1\" class=\"nad-vl300to500\">\n                <polyline class=\"nad-edge-path\" points=\"-106.42,-552.18 -71.84,-512.68 96.66,-455.31\"/>\n                <g class=\"nad-edge-infos\" transform=\"translate(-43.44,-503.01)\">\n                    <g class=\"nad-active nad-state-out\">\n                        <g transform=\"rotate(108.80)\">\n                            <path class=\"nad-arrow-in\" transform=\"scale(10.00)\" d=\"M-1 -1 H1 L0 1z\"/>\n                            <path class=\"nad-arrow-out\" transform=\"scale(10.00)\" d=\"M-1 1 H1 L0 -1z\"/>\n                        </g>\n                        <text transform=\"rotate(18.80)\" x=\"19.00\">500</text>\n                    </g>\n                </g>\n            </g>\n            <g id=\"26.2\" class=\"nad-vl300to500\">\n                <polyline class=\"nad-edge-path\" points=\"287.24,-402.30 265.17,-397.94 96.66,-455.31\"/>\n                <g class=\"nad-edge-infos\" transform=\"translate(236.77,-407.60)\">\n                    <g class=\"nad-active nad-state-in\">\n                        <g transform=\"rotate(-71.20)\">\n                            <path class=\"nad-arrow-in\" transform=\"scale(10.00)\" d=\"M-1 -1 H1 L0 1z\"/>\n                            <path class=\"nad-arrow-out\" transform=\"scale(10.00)\" d=\"M-1 1 H1 L0 -1z\"/>\n                        </g>\n                        <text transform=\"rotate(-341.20)\" x=\"-19.00\" style=\"text-anchor:end\">-500</text>\n                    </g>\n                </g>\n            </g>\n        </g>\n        <g id=\"27\" class=\"nad-disconnected\">\n            <g id=\"27.1\" class=\"nad-disconnected nad-vl300to500\">\n                <polyline class=\"nad-edge-path\" points=\"-98.50,-564.01 95.36,-498.01\"/>\n                <g class=\"nad-edge-infos\" transform=\"translate(-67.73,-553.54)\">\n                    <g class=\"nad-active\">\n                        <g transform=\"rotate(108.80)\">\n                            <path class=\"nad-arrow-in\" transform=\"scale(10.00)\" d=\"M-1 -1 H1 L0 1z\"/>\n                            <path class=\"nad-arrow-out\" transform=\"scale(10.00)\" d=\"M-1 1 H1 L0 -1z\"/>\n                        </g>\n                        <text transform=\"rotate(18.80)\" x=\"19.00\"></text>\n                    </g>\n                </g>\n            </g>\n            <g id=\"27.2\" class=\"nad-disconnected nad-vl300to500\">\n                <polyline class=\"nad-edge-path\" points=\"289.21,-432.00 95.36,-498.01\"/>\n                <g class=\"nad-edge-infos\" transform=\"translate(258.45,-442.48)\">\n                    <g class=\"nad-active\">\n                        <g transform=\"rotate(-71.20)\">\n                            <path class=\"nad-arrow-in\" transform=\"scale(10.00)\" d=\"M-1 -1 H1 L0 1z\"/>\n                            <path class=\"nad-arrow-out\" transform=\"scale(10.00)\" d=\"M-1 1 H1 L0 -1z\"/>\n                        </g>\n                        <text transform=\"rotate(-341.20)\" x=\"-19.00\" style=\"text-anchor:end\"></text>\n                    </g>\n                </g>\n            </g>\n        </g>\n        <g id=\"28\" class=\"nad-disconnected\">\n            <g id=\"28.1\" class=\"nad-disconnected nad-vl300to500\">\n                <polyline class=\"nad-edge-path\" points=\"-97.56,-578.21 -46.06,-588.41 122.45,-531.04\"/>\n                <g class=\"nad-edge-infos\" transform=\"translate(-17.66,-578.74)\">\n                    <g class=\"nad-active\">\n                        <g transform=\"rotate(108.80)\">\n                            <path class=\"nad-arrow-in\" transform=\"scale(10.00)\" d=\"M-1 -1 H1 L0 1z\"/>\n                            <path class=\"nad-arrow-out\" transform=\"scale(10.00)\" d=\"M-1 1 H1 L0 -1z\"/>\n                        </g>\n                        <text transform=\"rotate(18.80)\" x=\"19.00\"></text>\n                    </g>\n                </g>\n            </g>\n            <g id=\"28.2\" class=\"nad-disconnected nad-vl300to500\">\n                <polyline class=\"nad-edge-path\" points=\"305.77,-456.74 290.95,-473.67 122.45,-531.04\"/>\n                <g class=\"nad-edge-infos\" transform=\"translate(262.55,-483.34)\">\n                    <g class=\"nad-active\">\n                        <g transform=\"rotate(-71.20)\">\n                            <path class=\"nad-arrow-in\" transform=\"scale(10.00)\" d=\"M-1 -1 H1 L0 1z\"/>\n                            <path class=\"nad-arrow-out\" transform=\"scale(10.00)\" d=\"M-1 1 H1 L0 -1z\"/>\n                        </g>\n                        <text transform=\"rotate(-341.20)\" x=\"-19.00\" style=\"text-anchor:end\"></text>\n                    </g>\n                </g>\n            </g>\n        </g>\n        <g id=\"29\">\n            <g id=\"29.1\" class=\"nad-vl300to500\">\n                <path class=\"nad-edge-path\" d=\"M345.86,-356.01 L346.72,-333.53 C348.26,-293.56 323.08,-288.66 314.23,-293.33\"/>\n                <g class=\"nad-edge-infos\" transform=\"translate(346.72,-333.53)\">\n                    <g class=\"nad-active nad-state-out\">\n                        <g transform=\"rotate(177.79)\">\n                            <path class=\"nad-arrow-in\" transform=\"scale(10.00)\" d=\"M-1 -1 H1 L0 1z\"/>\n                            <path class=\"nad-arrow-out\" transform=\"scale(10.00)\" d=\"M-1 1 H1 L0 -1z\"/>\n                        </g>\n                        <text transform=\"rotate(87.79)\" x=\"19.00\">333</text>\n                    </g>\n                </g>\n            </g>\n            <g id=\"29.2\" class=\"nad-vl300to500\">\n                <path class=\"nad-edge-path\" d=\"M320.38,-398.81 L275.95,-370.83 C242.11,-349.51 252.30,-325.96 261.15,-321.30\"/>\n                <g class=\"nad-edge-infos\" transform=\"translate(275.95,-370.83)\">\n                    <g class=\"nad-active nad-state-in\">\n                        <g transform=\"rotate(-122.21)\">\n                            <path class=\"nad-arrow-in\" transform=\"scale(10.00)\" d=\"M-1 -1 H1 L0 1z\"/>\n                            <path class=\"nad-arrow-out\" transform=\"scale(10.00)\" d=\"M-1 1 H1 L0 -1z\"/>\n                        </g>\n                        <text transform=\"rotate(-32.21)\" x=\"-19.00\" style=\"text-anchor:end\">-333</text>\n                    </g>\n                </g>\n            </g>\n            <g>\n                <circle class=\"nad-vl300to500 nad-winding\" cx=\"296.54\" cy=\"-302.65\" r=\"20.00\"/>\n                <circle class=\"nad-vl300to500 nad-winding\" cx=\"278.84\" cy=\"-311.98\" r=\"20.00\"/>\n                <path d=\"M60.00,0 0,60.00 M52.00,0 60.00,0 60.00,8.00\" transform=\"matrix(-0.88,-0.47,0.47,-0.88,300.24,-266.79)\" class=\"nad-pst-arrow\"/>\n            </g>\n        </g>\n        <g id=\"30\">\n            <g id=\"30.1\" class=\"nad-vl300to500\">\n                <polyline class=\"nad-edge-path\" points=\"-465.84,504.68 -439.00,345.61\"/>\n                <g class=\"nad-edge-infos\" transform=\"translate(-460.43,472.63)\">\n                    <g class=\"nad-active nad-state-in\">\n                        <g transform=\"rotate(9.58)\">\n                            <path class=\"nad-arrow-in\" transform=\"scale(10.00)\" d=\"M-1 -1 H1 L0 1z\"/>\n                            <path class=\"nad-arrow-out\" transform=\"scale(10.00)\" d=\"M-1 1 H1 L0 -1z\"/>\n                        </g>\n                        <text transform=\"rotate(-80.42)\" x=\"19.00\">-167</text>\n                    </g>\n                </g>\n            </g>\n            <g id=\"30.2\" class=\"nad-vl300to500\">\n                <polyline class=\"nad-edge-path\" points=\"-412.15,186.55 -439.00,345.61\"/>\n                <g class=\"nad-edge-infos\" transform=\"translate(-417.56,218.60)\">\n                    <g class=\"nad-active nad-state-out\">\n                        <g transform=\"rotate(-170.42)\">\n                            <path class=\"nad-arrow-in\" transform=\"scale(10.00)\" d=\"M-1 -1 H1 L0 1z\"/>\n                            <path class=\"nad-arrow-out\" transform=\"scale(10.00)\" d=\"M-1 1 H1 L0 -1z\"/>\n                        </g>\n                        <text transform=\"rotate(-80.42)\" x=\"-19.00\" style=\"text-anchor:end\">167</text>\n                    </g>\n                </g>\n            </g>\n        </g>\n        <g id=\"31\">\n            <g id=\"31.1\" class=\"nad-vl300to500\">\n                <polyline class=\"nad-edge-path\" points=\"-443.33,527.02 -286.29,499.32\"/>\n                <g class=\"nad-edge-infos\" transform=\"translate(-411.33,521.37)\">\n                    <g class=\"nad-active nad-state-out\">\n                        <g transform=\"rotate(80.00)\">\n                            <path class=\"nad-arrow-in\" transform=\"scale(10.00)\" d=\"M-1 -1 H1 L0 1z\"/>\n                            <path class=\"nad-arrow-out\" transform=\"scale(10.00)\" d=\"M-1 1 H1 L0 -1z\"/>\n                        </g>\n                        <text transform=\"rotate(-10.00)\" x=\"19.00\">167</text>\n                    </g>\n                </g>\n            </g>\n            <g id=\"31.2\" class=\"nad-vl300to500\">\n                <polyline class=\"nad-edge-path\" points=\"-129.24,471.62 -286.29,499.32\"/>\n                <g class=\"nad-edge-infos\" transform=\"translate(-161.25,477.26)\">\n                    <g class=\"nad-active nad-state-in\">\n                        <g transform=\"rotate(-100.00)\">\n                            <path class=\"nad-arrow-in\" transform=\"scale(10.00)\" d=\"M-1 -1 H1 L0 1z\"/>\n                            <path class=\"nad-arrow-out\" transform=\"scale(10.00)\" d=\"M-1 1 H1 L0 -1z\"/>\n                        </g>\n                        <text transform=\"rotate(-10.00)\" x=\"-19.00\" style=\"text-anchor:end\">-167</text>\n                    </g>\n                </g>\n            </g>\n        </g>\n        <g id=\"32\">\n            <g id=\"32.1\" class=\"nad-vl300to500\">\n                <polyline class=\"nad-edge-path\" points=\"-388.19,178.94 -254.87,313.14\"/>\n                <g class=\"nad-edge-infos\" transform=\"translate(-365.29,202.00)\">\n                    <g class=\"nad-active nad-state-out\">\n                        <g transform=\"rotate(135.19)\">\n                            <path class=\"nad-arrow-in\" transform=\"scale(10.00)\" d=\"M-1 -1 H1 L0 1z\"/>\n                            <path class=\"nad-arrow-out\" transform=\"scale(10.00)\" d=\"M-1 1 H1 L0 -1z\"/>\n                        </g>\n                        <text transform=\"rotate(45.19)\" x=\"19.00\">333</text>\n                    </g>\n                </g>\n            </g>\n            <g id=\"32.2\" class=\"nad-vl300to500\">\n                <polyline class=\"nad-edge-path\" points=\"-121.54,447.33 -254.87,313.14\"/>\n                <g class=\"nad-edge-infos\" transform=\"translate(-144.45,424.28)\">\n                    <g class=\"nad-active nad-state-in\">\n                        <g transform=\"rotate(-44.81)\">\n                            <path class=\"nad-arrow-in\" transform=\"scale(10.00)\" d=\"M-1 -1 H1 L0 1z\"/>\n                            <path class=\"nad-arrow-out\" transform=\"scale(10.00)\" d=\"M-1 1 H1 L0 -1z\"/>\n                        </g>\n                        <text transform=\"rotate(-314.81)\" x=\"-19.00\" style=\"text-anchor:end\">-333</text>\n                    </g>\n                </g>\n            </g>\n        </g>\n        <g id=\"33\">\n            <g id=\"33.1\" class=\"nad-vl300to500\">\n                <polyline class=\"nad-edge-path\" points=\"-409.77,132.02 -426.87,-81.37\"/>\n                <g class=\"nad-edge-infos\" transform=\"translate(-412.37,99.62)\">\n                    <g class=\"nad-active nad-state-in\">\n                        <g transform=\"rotate(-4.58)\">\n                            <path class=\"nad-arrow-in\" transform=\"scale(10.00)\" d=\"M-1 -1 H1 L0 1z\"/>\n                            <path class=\"nad-arrow-out\" transform=\"scale(10.00)\" d=\"M-1 1 H1 L0 -1z\"/>\n                        </g>\n                        <text transform=\"rotate(-274.58)\" x=\"-19.00\" style=\"text-anchor:end\">-500</text>\n                    </g>\n                </g>\n            </g>\n            <g id=\"33.2\" class=\"nad-vl300to500\">\n                <polyline class=\"nad-edge-path\" points=\"-443.96,-294.75 -426.87,-81.37\"/>\n                <g class=\"nad-edge-infos\" transform=\"translate(-441.36,-262.36)\">\n                    <g class=\"nad-active nad-state-out\">\n                        <g transform=\"rotate(175.42)\">\n                            <path class=\"nad-arrow-in\" transform=\"scale(10.00)\" d=\"M-1 -1 H1 L0 1z\"/>\n                            <path class=\"nad-arrow-out\" transform=\"scale(10.00)\" d=\"M-1 1 H1 L0 -1z\"/>\n                        </g>\n                        <text transform=\"rotate(85.42)\" x=\"19.00\">500</text>\n                    </g>\n                </g>\n            </g>\n        </g>\n        <g id=\"34\">\n            <g id=\"34.1\" class=\"nad-vl300to500\">\n                <polyline class=\"nad-edge-path\" points=\"336.12,434.31 130.69,449.56\"/>\n                <g class=\"nad-edge-infos\" transform=\"translate(303.71,436.72)\">\n                    <g class=\"nad-active nad-state-in\">\n                        <g transform=\"rotate(-94.24)\">\n                            <path class=\"nad-arrow-in\" transform=\"scale(10.00)\" d=\"M-1 -1 H1 L0 1z\"/>\n                            <path class=\"nad-arrow-out\" transform=\"scale(10.00)\" d=\"M-1 1 H1 L0 -1z\"/>\n                        </g>\n                        <text transform=\"rotate(-4.24)\" x=\"-19.00\" style=\"text-anchor:end\">-500</text>\n                    </g>\n                </g>\n            </g>\n            <g id=\"34.2\" class=\"nad-vl300to500\">\n                <polyline class=\"nad-edge-path\" points=\"-74.74,464.80 130.69,449.56\"/>\n                <g class=\"nad-edge-infos\" transform=\"translate(-42.33,462.40)\">\n                    <g class=\"nad-active nad-state-out\">\n                        <g transform=\"rotate(85.76)\">\n                            <path class=\"nad-arrow-in\" transform=\"scale(10.00)\" d=\"M-1 -1 H1 L0 1z\"/>\n                            <path class=\"nad-arrow-out\" transform=\"scale(10.00)\" d=\"M-1 1 H1 L0 -1z\"/>\n                        </g>\n                        <text transform=\"rotate(-4.24)\" x=\"19.00\">500</text>\n                    </g>\n                </g>\n            </g>\n        </g>\n        <g id=\"35\">\n            <g id=\"35.1\" class=\"nad-vl300to500\">\n                <polyline class=\"nad-edge-path\" points=\"709.63,402.80 550.29,416.37\"/>\n                <g class=\"nad-edge-infos\" transform=\"translate(677.25,405.56)\">\n                    <g class=\"nad-active nad-state-in\">\n                        <g transform=\"rotate(-94.87)\">\n                            <path class=\"nad-arrow-in\" transform=\"scale(10.00)\" d=\"M-1 -1 H1 L0 1z\"/>\n                            <path class=\"nad-arrow-out\" transform=\"scale(10.00)\" d=\"M-1 1 H1 L0 -1z\"/>\n                        </g>\n                        <text transform=\"rotate(-4.87)\" x=\"-19.00\" style=\"text-anchor:end\">-500</text>\n                    </g>\n                </g>\n            </g>\n            <g id=\"35.2\" class=\"nad-vl300to500\">\n                <polyline class=\"nad-edge-path\" points=\"390.95,429.94 550.29,416.37\"/>\n                <g class=\"nad-edge-infos\" transform=\"translate(423.33,427.18)\">\n                    <g class=\"nad-active nad-state-out\">\n                        <g transform=\"rotate(85.13)\">\n                            <path class=\"nad-arrow-in\" transform=\"scale(10.00)\" d=\"M-1 -1 H1 L0 1z\"/>\n                            <path class=\"nad-arrow-out\" transform=\"scale(10.00)\" d=\"M-1 1 H1 L0 -1z\"/>\n                        </g>\n                        <text transform=\"rotate(-4.87)\" x=\"19.00\">500</text>\n                    </g>\n                </g>\n            </g>\n        </g>\n        <g id=\"36\">\n            <g id=\"36.1\" class=\"nad-vl300to500\">\n                <polyline class=\"nad-edge-path\" points=\"723.64,376.44 641.01,228.19\"/>\n                <g class=\"nad-edge-infos\" transform=\"translate(707.82,348.06)\">\n                    <g class=\"nad-active nad-state-in\">\n                        <g transform=\"rotate(-29.13)\">\n                            <path class=\"nad-arrow-in\" transform=\"scale(10.00)\" d=\"M-1 -1 H1 L0 1z\"/>\n                            <path class=\"nad-arrow-out\" transform=\"scale(10.00)\" d=\"M-1 1 H1 L0 -1z\"/>\n                        </g>\n                        <text transform=\"rotate(-299.13)\" x=\"-19.00\" style=\"text-anchor:end\">-500</text>\n                    </g>\n                </g>\n            </g>\n            <g id=\"36.2\" class=\"nad-vl300to500\">\n                <polyline class=\"nad-edge-path\" points=\"558.37,79.94 641.01,228.19\"/>\n                <g class=\"nad-edge-infos\" transform=\"translate(574.20,108.33)\">\n                    <g class=\"nad-active nad-state-out\">\n                        <g transform=\"rotate(150.87)\">\n                            <path class=\"nad-arrow-in\" transform=\"scale(10.00)\" d=\"M-1 -1 H1 L0 1z\"/>\n                            <path class=\"nad-arrow-out\" transform=\"scale(10.00)\" d=\"M-1 1 H1 L0 -1z\"/>\n                        </g>\n                        <text transform=\"rotate(60.87)\" x=\"19.00\">500</text>\n                    </g>\n                </g>\n            </g>\n        </g>\n        <g id=\"37\">\n            <g id=\"37.1\" class=\"nad-vl300to500\">\n                <polyline class=\"nad-edge-path\" points=\"375.49,407.50 454.27,244.10\"/>\n                <g class=\"nad-edge-infos\" transform=\"translate(389.60,378.23)\">\n                    <g class=\"nad-active nad-state-out\">\n                        <g transform=\"rotate(25.74)\">\n                            <path class=\"nad-arrow-in\" transform=\"scale(10.00)\" d=\"M-1 -1 H1 L0 1z\"/>\n                            <path class=\"nad-arrow-out\" transform=\"scale(10.00)\" d=\"M-1 1 H1 L0 -1z\"/>\n                        </g>\n                        <text transform=\"rotate(-64.26)\" x=\"19.00\">-0</text>\n                    </g>\n                </g>\n            </g>\n            <g id=\"37.2\" class=\"nad-vl300to500\">\n                <polyline class=\"nad-edge-path\" points=\"533.04,80.69 454.27,244.10\"/>\n                <g class=\"nad-edge-infos\" transform=\"translate(518.93,109.97)\">\n                    <g class=\"nad-active nad-state-out\">\n                        <g transform=\"rotate(-154.26)\">\n                            <path class=\"nad-arrow-in\" transform=\"scale(10.00)\" d=\"M-1 -1 H1 L0 1z\"/>\n                            <path class=\"nad-arrow-out\" transform=\"scale(10.00)\" d=\"M-1 1 H1 L0 -1z\"/>\n                        </g>\n                        <text transform=\"rotate(-64.26)\" x=\"-19.00\" style=\"text-anchor:end\">0</text>\n                    </g>\n                </g>\n            </g>\n        </g>\n        <g id=\"38\">\n            <g id=\"38.1\" class=\"nad-vl300to500\">\n                <polyline class=\"nad-edge-path\" points=\"-462.45,-696.29 -306.41,-639.30\"/>\n                <g class=\"nad-edge-infos\" transform=\"translate(-431.93,-685.14)\">\n                    <g class=\"nad-active nad-state-out\">\n                        <g transform=\"rotate(110.06)\">\n                            <path class=\"nad-arrow-in\" transform=\"scale(10.00)\" d=\"M-1 -1 H1 L0 1z\"/>\n                            <path class=\"nad-arrow-out\" transform=\"scale(10.00)\" d=\"M-1 1 H1 L0 -1z\"/>\n                        </g>\n                        <text transform=\"rotate(20.06)\" x=\"19.00\">500</text>\n                    </g>\n                </g>\n            </g>\n            <g id=\"38.2\" class=\"nad-vl300to500\">\n                <polyline class=\"nad-edge-path\" points=\"-150.36,-582.31 -306.41,-639.30\"/>\n                <g class=\"nad-edge-infos\" transform=\"translate(-180.89,-593.46)\">\n                    <g class=\"nad-active nad-state-in\">\n                        <g transform=\"rotate(-69.94)\">\n                            <path class=\"nad-arrow-in\" transform=\"scale(10.00)\" d=\"M-1 -1 H1 L0 1z\"/>\n                            <path class=\"nad-arrow-out\" transform=\"scale(10.00)\" d=\"M-1 1 H1 L0 -1z\"/>\n                        </g>\n                        <text transform=\"rotate(-339.94)\" x=\"-19.00\" style=\"text-anchor:end\">-500</text>\n                    </g>\n                </g>\n            </g>\n        </g>\n        <g id=\"39\">\n            <g id=\"39.1\" class=\"nad-vl300to500\">\n                <polyline class=\"nad-edge-path\" points=\"-485.28,-678.39 -467.22,-513.94\"/>\n                <g class=\"nad-edge-infos\" transform=\"translate(-481.73,-646.08)\">\n                    <g class=\"nad-active nad-state-out\">\n                        <g transform=\"rotate(173.73)\">\n                            <path class=\"nad-arrow-in\" transform=\"scale(10.00)\" d=\"M-1 -1 H1 L0 1z\"/>\n                            <path class=\"nad-arrow-out\" transform=\"scale(10.00)\" d=\"M-1 1 H1 L0 -1z\"/>\n                        </g>\n                        <text transform=\"rotate(83.73)\" x=\"19.00\">500</text>\n                    </g>\n                </g>\n            </g>\n            <g id=\"39.2\" class=\"nad-vl300to500\">\n                <polyline class=\"nad-edge-path\" points=\"-449.16,-349.50 -467.22,-513.94\"/>\n                <g class=\"nad-edge-infos\" transform=\"translate(-452.71,-381.81)\">\n                    <g class=\"nad-active nad-state-in\">\n                        <g transform=\"rotate(-6.27)\">\n                            <path class=\"nad-arrow-in\" transform=\"scale(10.00)\" d=\"M-1 -1 H1 L0 1z\"/>\n                            <path class=\"nad-arrow-out\" transform=\"scale(10.00)\" d=\"M-1 1 H1 L0 -1z\"/>\n                        </g>\n                        <text transform=\"rotate(-276.27)\" x=\"-19.00\" style=\"text-anchor:end\">-500</text>\n                    </g>\n                </g>\n            </g>\n        </g>\n        <g id=\"40\">\n            <g id=\"40.1\" class=\"nad-vl300to500\">\n                <polyline class=\"nad-edge-path\" points=\"-146.22,-555.97 -285.34,-447.52\"/>\n                <g class=\"nad-edge-infos\" transform=\"translate(-171.85,-535.99)\">\n                    <g class=\"nad-active nad-state-out\">\n                        <g transform=\"rotate(-127.94)\">\n                            <path class=\"nad-arrow-in\" transform=\"scale(10.00)\" d=\"M-1 -1 H1 L0 1z\"/>\n                            <path class=\"nad-arrow-out\" transform=\"scale(10.00)\" d=\"M-1 1 H1 L0 -1z\"/>\n                        </g>\n                        <text transform=\"rotate(-37.94)\" x=\"-19.00\" style=\"text-anchor:end\">-0</text>\n                    </g>\n                </g>\n            </g>\n            <g id=\"40.2\" class=\"nad-vl300to500\">\n                <polyline class=\"nad-edge-path\" points=\"-424.47,-339.07 -285.34,-447.52\"/>\n                <g class=\"nad-edge-infos\" transform=\"translate(-398.83,-359.05)\">\n                    <g class=\"nad-active nad-state-out\">\n                        <g transform=\"rotate(52.06)\">\n                            <path class=\"nad-arrow-in\" transform=\"scale(10.00)\" d=\"M-1 -1 H1 L0 1z\"/>\n                            <path class=\"nad-arrow-out\" transform=\"scale(10.00)\" d=\"M-1 1 H1 L0 -1z\"/>\n                        </g>\n                        <text transform=\"rotate(-37.94)\" x=\"19.00\">0</text>\n                    </g>\n                </g>\n            </g>\n        </g>\n    </g>\n    <g class=\"nad-text-edges\">\n        <polyline id=\"0-textedge\" points=\"606.71,-744.84 677.04,-755.39\"/>\n        <polyline id=\"2-textedge\" points=\"402.98,-422.37 443.64,-428.47\"/>\n        <polyline id=\"5-textedge\" points=\"-440.75,527.34 -370.42,516.79\"/>\n        <polyline id=\"7-textedge\" points=\"-377.91,154.98 -307.58,144.43\"/>\n        <polyline id=\"9-textedge\" points=\"-72.49,462.39 -2.16,451.84\"/>\n        <polyline id=\"11-textedge\" points=\"766.70,396.01 837.03,385.46\"/>\n        <polyline id=\"13-textedge\" points=\"393.21,427.82 463.55,417.27\"/>\n        <polyline id=\"15-textedge\" points=\"574.65,51.47 644.99,40.92\"/>\n        <polyline id=\"17-textedge\" points=\"-458.62,-710.17 -388.28,-720.72\"/>\n        <polyline id=\"19-textedge\" points=\"-94.86,-577.32 -24.53,-587.87\"/>\n        <polyline id=\"21-textedge\" points=\"-416.49,-326.61 -346.15,-337.16\"/>\n    </g>\n    <foreignObject height=\"1\" width=\"1\" class=\"nad-text-nodes\">\n        <div xmlns=\"http://www.w3.org/1999/xhtml\">\n            <div class=\"nad-label-box\" style=\"position: absolute; top: -780px; left: 677px\" id=\"0-textnode\">\n                <div>BBE1AA1</div>\n                <div class=\"nad-bus-descr\">\n                    <span class=\"nad-vl300to500 nad-bus-0 nad-legend-square\"/> kV / 0.7°</div>\n            </div>\n            <div class=\"nad-label-box\" style=\"position: absolute; top: -453px; left: 444px\" id=\"2-textnode\">\n                <div>BBE2AA1</div>\n                <div class=\"nad-bus-descr\">\n                    <span class=\"nad-vl300to500 nad-bus-0 nad-legend-square\"/> kV / 0.0°</div>\n                <div class=\"nad-bus-descr\">\n                    <span class=\"nad-vl300to500 nad-bus-1 nad-legend-square\"/> kV / 1.3°</div>\n            </div>\n            <div class=\"nad-label-box\" style=\"position: absolute; top: 492px; left: -370px\" id=\"5-textnode\">\n                <div>DDE1AA1</div>\n                <div class=\"nad-bus-descr\">\n                    <span class=\"nad-vl300to500 nad-bus-0 nad-legend-square\"/> kV / 0.7°</div>\n            </div>\n            <div class=\"nad-label-box\" style=\"position: absolute; top: 119px; left: -308px\" id=\"7-textnode\">\n                <div>DDE2AA1</div>\n                <div class=\"nad-bus-descr\">\n                    <span class=\"nad-vl300to500 nad-bus-0 nad-legend-square\"/> kV / 1.3°</div>\n            </div>\n            <div class=\"nad-label-box\" style=\"position: absolute; top: 427px; left: -2px\" id=\"9-textnode\">\n                <div>DDE3AA1</div>\n                <div class=\"nad-bus-descr\">\n                    <span class=\"nad-vl300to500 nad-bus-0 nad-legend-square\"/> kV / -0.0°</div>\n            </div>\n            <div class=\"nad-label-box\" style=\"position: absolute; top: 360px; left: 837px\" id=\"11-textnode\">\n                <div>FFR1AA1</div>\n                <div class=\"nad-bus-descr\">\n                    <span class=\"nad-vl300to500 nad-bus-0 nad-legend-square\"/> kV / -4.0°</div>\n            </div>\n            <div class=\"nad-label-box\" style=\"position: absolute; top: 392px; left: 464px\" id=\"13-textnode\">\n                <div>FFR2AA1</div>\n                <div class=\"nad-bus-descr\">\n                    <span class=\"nad-vl300to500 nad-bus-0 nad-legend-square\"/> kV / -2.0°</div>\n            </div>\n            <div class=\"nad-label-box\" style=\"position: absolute; top: 16px; left: 645px\" id=\"15-textnode\">\n                <div>FFR3AA1</div>\n                <div class=\"nad-bus-descr\">\n                    <span class=\"nad-vl300to500 nad-bus-0 nad-legend-square\"/> kV / -2.0°</div>\n            </div>\n            <div class=\"nad-label-box\" style=\"position: absolute; top: -746px; left: -388px\" id=\"17-textnode\">\n                <div>NNL1AA1</div>\n                <div class=\"nad-bus-descr\">\n                    <span class=\"nad-vl300to500 nad-bus-0 nad-legend-square\"/> kV / 5.3°</div>\n            </div>\n            <div class=\"nad-label-box\" style=\"position: absolute; top: -613px; left: -25px\" id=\"19-textnode\">\n                <div>NNL2AA1</div>\n                <div class=\"nad-bus-descr\">\n                    <span class=\"nad-vl300to500 nad-bus-0 nad-legend-square\"/> kV / 3.3°</div>\n            </div>\n            <div class=\"nad-label-box\" style=\"position: absolute; top: -362px; left: -346px\" id=\"21-textnode\">\n                <div>NNL3AA1</div>\n                <div class=\"nad-bus-descr\">\n                    <span class=\"nad-vl300to500 nad-bus-0 nad-legend-square\"/> kV / 3.3°</div>\n            </div>\n        </div>\n    </foreignObject>\n</svg>\n"
     },
     "execution_count": 5,
     "metadata": {},
     "output_type": "execute_result"
    }
   ],
   "execution_count": 5
  },
  {
   "cell_type": "markdown",
   "metadata": {},
   "source": [
    "We can see the initial flow on the line NNL2AA1 and BBE3AA1 is 500MW. However the PATL is only 410 MW so there is an overload on this line.\n",
    "To solve it we can for instance close one of the other lines between NNL2AA1 and BBE3AA1."
   ]
  },
  {
   "cell_type": "code",
   "metadata": {
    "ExecuteTime": {
     "end_time": "2025-07-30T08:35:45.332894Z",
     "start_time": "2025-07-30T08:35:45.316518Z"
    }
   },
   "source": [
    "n12.connect(\"NNL2AA1  BBE3AA1  2\")\n",
    "pp.loadflow.run_dc(n12)\n",
    "n12.get_network_area_diagram()"
   ],
   "outputs": [
    {
     "data": {
      "text/plain": [
       "<pypowsybl.network.impl.svg.Svg at 0x7df34d64c610>"
      ],
      "image/svg+xml": "<?xml version=\"1.0\" encoding=\"UTF-8\"?>\n<svg width=\"604.60\" height=\"600.00\" viewBox=\"-688.28 -980.39 1725.31 1712.18\" xmlns=\"http://www.w3.org/2000/svg\">\n    <style><![CDATA[.nad-branch-edges .nad-edge-path, .nad-3wt-edges .nad-edge-path {stroke: var(--nad-vl-color, lightgrey); stroke-width: 5; fill: none}\n.nad-branch-edges .nad-winding, .nad-3wt-nodes .nad-winding {stroke: var(--nad-vl-color, lightgrey); stroke-width: 5; fill: none}\n.nad-text-edges {stroke: black; stroke-width: 3; stroke-dasharray: 6,7; fill: none}\n.nad-disconnected .nad-edge-path {stroke-dasharray: 10,10}\n.nad-injections .nad-disconnected .nad-edge-path, .nad-injections .nad-disconnected circle {stroke: lightgrey}\n.nad-injections .nad-edge-path {stroke: var(--nad-vl-color, lightgrey); stroke-width: 3; fill: none}\n.nad-injections circle {stroke: var(--nad-vl-color, lightgrey); stroke-width: 3; fill: none}\n.nad-vl-nodes .nad-busnode {fill: var(--nad-vl-color, lightgrey)}\n.nad-vl-nodes circle.nad-unknown-busnode {stroke: var(--nad-vl-color, #808080); stroke-width: 5; stroke-dasharray: 5,5; fill: none}\n.nad-hvdc-edge polyline.nad-hvdc {stroke: grey; stroke-width: 40}\n.nad-branch-edges .nad-tie-line-edge .nad-edge-path {stroke-width: 7}\n.nad-pst-arrow {stroke: #6a6a6a; stroke-width: 4; stroke-linecap: round; fill: none}\npath.nad-arrow-out:not(.nad-state-out .nad-arrow-out) {visibility: hidden}\npath.nad-arrow-in:not(.nad-state-in .nad-arrow-in) {visibility: hidden}\n.nad-active {fill: #546e7a}\n.nad-reactive {fill: #0277bd}\n.nad-current {fill: #bd4802}\n.nad-text-background {flood-color: #90a4aeaa}\n.nad-text-nodes {font: 25px serif; fill: black; dominant-baseline: central}\nforeignObject.nad-text-nodes {overflow: visible; color: black}\n.nad-label-box {background-color: #6c6c6c20; width: max-content; padding: 10px; border-radius: 10px;}\n.nad-legend-square {display: inline-block; margin-right: 10px; width: 20px; height: 20px; background: var(--nad-vl-color, black);}\n.nad-edge-infos text, .nad-edge-label text {font: 20px serif; dominant-baseline:middle; stroke: #FFFFFFAA; stroke-width: 10; stroke-linejoin:round; paint-order: stroke}\n.nad-disconnected {--nad-vl-color: #808080}\n:is(.nad-branch-edges, .nad-3wt-edges, .nad-3wt-nodes) .nad-vl0to30 {--nad-vl-color: #afb42b}\n.nad-vl0to30.nad-bus-0 {--nad-vl-color: #827717}\n.nad-vl0to30.nad-bus-1 {--nad-vl-color: #d4e157}\n.nad-vl0to30.nad-bus-2 {--nad-vl-color: #e6ee9c}\n.nad-vl0to30.nad-bus-3 {--nad-vl-color: #c0ca33}\n.nad-vl0to30.nad-bus-4 {--nad-vl-color: #f0fc83}\n.nad-vl0to30.nad-bus-5 {--nad-vl-color: #9e9d24}\n.nad-vl0to30.nad-bus-6 {--nad-vl-color: #cddc39}\n.nad-vl0to30.nad-bus-7 {--nad-vl-color: #dce775}\n.nad-vl0to30.nad-bus-8 {--nad-vl-color: #ddfc88}\n:is(.nad-branch-edges, .nad-3wt-edges, .nad-3wt-nodes) .nad-vl30to50 {--nad-vl-color: #ef9a9a}\n.nad-vl30to50.nad-bus-0 {--nad-vl-color: #c2185b}\n.nad-vl30to50.nad-bus-1 {--nad-vl-color: #f06292}\n.nad-vl30to50.nad-bus-2 {--nad-vl-color: #d81b60}\n.nad-vl30to50.nad-bus-3 {--nad-vl-color: #ec407a}\n.nad-vl30to50.nad-bus-4 {--nad-vl-color: #880e4f}\n.nad-vl30to50.nad-bus-5 {--nad-vl-color: #ad1457}\n.nad-vl30to50.nad-bus-6 {--nad-vl-color: #e91e63}\n.nad-vl30to50.nad-bus-7 {--nad-vl-color: #f48fb1}\n.nad-vl30to50.nad-bus-8 {--nad-vl-color: #f8bbd0}\n:is(.nad-branch-edges, .nad-3wt-edges, .nad-3wt-nodes) .nad-vl50to70 {--nad-vl-color: #9c27b0}\n.nad-vl50to70.nad-bus-0 {--nad-vl-color: #7b1fa2}\n.nad-vl50to70.nad-bus-1 {--nad-vl-color: #ba68c8}\n.nad-vl50to70.nad-bus-2 {--nad-vl-color: #512da8}\n.nad-vl50to70.nad-bus-3 {--nad-vl-color: #ab47bc}\n.nad-vl50to70.nad-bus-4 {--nad-vl-color: #e1bee7}\n.nad-vl50to70.nad-bus-5 {--nad-vl-color: #6a1b9a}\n.nad-vl50to70.nad-bus-6 {--nad-vl-color: #4a148c}\n.nad-vl50to70.nad-bus-7 {--nad-vl-color: #ce93d8}\n.nad-vl50to70.nad-bus-8 {--nad-vl-color: #9575cd}\n:is(.nad-branch-edges, .nad-3wt-edges, .nad-3wt-nodes) .nad-vl70to120 {--nad-vl-color: #e65100}\n.nad-vl70to120.nad-bus-0 {--nad-vl-color: #fb8c00}\n.nad-vl70to120.nad-bus-1 {--nad-vl-color: #ffb74d}\n.nad-vl70to120.nad-bus-2 {--nad-vl-color: #f57c00}\n.nad-vl70to120.nad-bus-3 {--nad-vl-color: #ffa726}\n.nad-vl70to120.nad-bus-4 {--nad-vl-color: #ffe0b2}\n.nad-vl70to120.nad-bus-5 {--nad-vl-color: #ef6c00}\n.nad-vl70to120.nad-bus-6 {--nad-vl-color: #ff9800}\n.nad-vl70to120.nad-bus-7 {--nad-vl-color: #ffcc80}\n.nad-vl70to120.nad-bus-8 {--nad-vl-color: #fff3e0}\n:is(.nad-branch-edges, .nad-3wt-edges, .nad-3wt-nodes) .nad-vl120to180 {--nad-vl-color: #00ACC1}\n.nad-vl120to180.nad-bus-0 {--nad-vl-color: #4fc3f7}\n.nad-vl120to180.nad-bus-1 {--nad-vl-color: #01579b}\n.nad-vl120to180.nad-bus-2 {--nad-vl-color: #b3e5fc}\n.nad-vl120to180.nad-bus-3 {--nad-vl-color: #039be5}\n.nad-vl120to180.nad-bus-4 {--nad-vl-color: #81d4fa}\n.nad-vl120to180.nad-bus-5 {--nad-vl-color: #0288d1}\n.nad-vl120to180.nad-bus-6 {--nad-vl-color: #29b6f6}\n.nad-vl120to180.nad-bus-7 {--nad-vl-color: #0277bd}\n.nad-vl120to180.nad-bus-8 {--nad-vl-color: #03a9f4}\n:is(.nad-branch-edges, .nad-3wt-edges, .nad-3wt-nodes) .nad-vl180to300 {--nad-vl-color: #2e7d32}\n.nad-vl180to300.nad-bus-0 {--nad-vl-color: #81c784}\n.nad-vl180to300.nad-bus-1 {--nad-vl-color: #558b2f}\n.nad-vl180to300.nad-bus-2 {--nad-vl-color: #c8e6c9}\n.nad-vl180to300.nad-bus-3 {--nad-vl-color: #43a047}\n.nad-vl180to300.nad-bus-4 {--nad-vl-color: #a5d6a7}\n.nad-vl180to300.nad-bus-5 {--nad-vl-color: #388e3c}\n.nad-vl180to300.nad-bus-6 {--nad-vl-color: #66bb6a}\n.nad-vl180to300.nad-bus-7 {--nad-vl-color: #1b5e20}\n.nad-vl180to300.nad-bus-8 {--nad-vl-color: #4caf50}\n:is(.nad-branch-edges, .nad-3wt-edges, .nad-3wt-nodes) .nad-vl300to500 {--nad-vl-color: #d32f2f}\n.nad-vl300to500.nad-bus-0 {--nad-vl-color: #ef5350}\n.nad-vl300to500.nad-bus-1 {--nad-vl-color: #ef9a9a}\n.nad-vl300to500.nad-bus-2 {--nad-vl-color: #b71c1c}\n.nad-vl300to500.nad-bus-3 {--nad-vl-color: #e57373}\n.nad-vl300to500.nad-bus-4 {--nad-vl-color: #e53935}\n.nad-vl300to500.nad-bus-5 {--nad-vl-color: #ff8a80}\n.nad-vl300to500.nad-bus-6 {--nad-vl-color: #f44336}\n.nad-vl300to500.nad-bus-7 {--nad-vl-color: #ffcdd2}\n.nad-vl300to500.nad-bus-8 {--nad-vl-color: #c62828}\n.nad-branch-edges .nad-overload .nad-edge-path {animation: line-blink 3s infinite}\n.nad-vl-nodes .nad-overvoltage {animation: node-over-blink 3s infinite}\n.nad-vl-nodes .nad-undervoltage {animation: node-under-blink 3s infinite}\n.nad-highlight {stroke-width: 25; opacity: 0.2; fill: none;}\n.nad-highlight-0 {stroke: #e6e600;}\n.nad-highlight-1 {stroke: #b300b3;}\n.nad-highlight-2 {stroke: #2eb82e;}\n.nad-highlight-3 {stroke: #e67300;}\n.nad-highlight-4 {stroke: #0000ff;}\n@keyframes line-blink {\n  0%, 80%, 100% {stroke: var(--nad-vl-color, black); stroke-width: 5}\n  40% {stroke: #FFEB3B; stroke-width: 15}\n}\n@keyframes node-over-blink {\n  0%, 80%, 100% {stroke: white; stroke-width: 0}\n  40% {stroke: #ff5722; stroke-width: 15}\n}\n@keyframes node-under-blink {\n  0%, 80%, 100% {stroke: white; stroke-width: 0}\n  40% {stroke: #00BCD4; stroke-width: 15}\n}\n.nad-load {stroke: var(--nad-vl-color, lightgrey); stroke-width: 3; fill: none}\n.nad-battery {stroke: var(--nad-vl-color, lightgrey); stroke-width: 3; fill: none}\n.nad-generator {stroke: var(--nad-vl-color, lightgrey); stroke-width: 3; stroke-linecap: round; fill: none}\n.nad-capacitor {stroke: var(--nad-vl-color, lightgrey); stroke-width: 3; fill: none}\n.nad-inductor {stroke: var(--nad-vl-color, lightgrey); stroke-width: 3; stroke-linejoin: round; stroke-linecap: round; fill: none}\n.nad-svc {stroke: var(--nad-vl-color, lightgrey); stroke-width: 3; stroke-linejoin:round; fill: none}\n.nad-disconnected .nad-load {stroke: lightgrey}\n.nad-disconnected .nad-battery {stroke: lightgrey}\n.nad-disconnected .nad-generator {stroke: lightgrey}\n.nad-disconnected .nad-capacitor {stroke: lightgrey}\n.nad-disconnected .nad-inductor {stroke: lightgrey}\n.nad-disconnected .nad-svc {stroke: lightgrey}\n.nad-unknown {stroke: none; fill: black}\n]]></style>\n    <g class=\"nad-vl-nodes\">\n        <g transform=\"translate(577.04,-740.39)\" id=\"0\">\n            <circle r=\"27.50\" id=\"1\" class=\"nad-vl300to500 nad-bus-0 nad-busnode\"/>\n        </g>\n        <g transform=\"translate(343.64,-413.47)\" id=\"2\">\n            <circle r=\"27.50\" id=\"3\" class=\"nad-vl300to500 nad-bus-0 nad-busnode\"/>\n            <path d=\"M12.932,-56.027 A57.500,57.500 136.313 0 1 29.348,49.447 L19.304,26.146 A32.500,32.500 -124.815 0 0 10.445,-30.776 Z M15.601,55.343 A57.500,57.500 66.063 0 1 -44.253,36.714 L-22.808,23.152 A32.500,32.500 -54.565 0 0 5.641,32.007 Z M-52.225,24.058 A57.500,57.500 112.784 0 1 -1.956,-57.467 L-4.354,-32.207 A32.500,32.500 -101.287 0 0 -30.732,10.573 Z \" id=\"4\" class=\"nad-vl300to500 nad-bus-1 nad-busnode\"/>\n        </g>\n        <g transform=\"translate(-470.42,531.79)\" id=\"5\">\n            <circle r=\"27.50\" id=\"6\" class=\"nad-vl300to500 nad-bus-0 nad-busnode\"/>\n        </g>\n        <g transform=\"translate(-407.58,159.43)\" id=\"7\">\n            <circle r=\"27.50\" id=\"8\" class=\"nad-vl300to500 nad-bus-0 nad-busnode\"/>\n        </g>\n        <g transform=\"translate(-102.16,466.84)\" id=\"9\">\n            <circle r=\"27.50\" id=\"10\" class=\"nad-vl300to500 nad-bus-0 nad-busnode\"/>\n        </g>\n        <g transform=\"translate(737.03,400.46)\" id=\"11\">\n            <circle r=\"27.50\" id=\"12\" class=\"nad-vl300to500 nad-bus-0 nad-busnode\"/>\n        </g>\n        <g transform=\"translate(363.55,432.27)\" id=\"13\">\n            <circle r=\"27.50\" id=\"14\" class=\"nad-vl300to500 nad-bus-0 nad-busnode\"/>\n        </g>\n        <g transform=\"translate(544.99,55.92)\" id=\"15\">\n            <circle r=\"27.50\" id=\"16\" class=\"nad-vl300to500 nad-bus-0 nad-busnode\"/>\n        </g>\n        <g transform=\"translate(-488.28,-705.72)\" id=\"17\">\n            <circle r=\"27.50\" id=\"18\" class=\"nad-vl300to500 nad-bus-0 nad-busnode\"/>\n        </g>\n        <g transform=\"translate(-124.53,-572.87)\" id=\"19\">\n            <circle r=\"27.50\" id=\"20\" class=\"nad-vl300to500 nad-bus-0 nad-busnode\"/>\n        </g>\n        <g transform=\"translate(-446.15,-322.16)\" id=\"21\">\n            <circle r=\"27.50\" id=\"22\" class=\"nad-vl300to500 nad-bus-0 nad-busnode\"/>\n        </g>\n    </g>\n    <g class=\"nad-branch-edges\">\n        <g id=\"23\">\n            <g id=\"23.1\" class=\"nad-vl300to500\">\n                <polyline class=\"nad-edge-path\" points=\"552.01,-729.00 504.23,-707.25 427.79,-600.17\"/>\n                <g class=\"nad-edge-infos\" transform=\"translate(486.80,-682.83)\">\n                    <g class=\"nad-active nad-state-out\">\n                        <g transform=\"rotate(-144.48)\">\n                            <path class=\"nad-arrow-in\" transform=\"scale(10.00)\" d=\"M-1 -1 H1 L0 1z\"/>\n                            <path class=\"nad-arrow-out\" transform=\"scale(10.00)\" d=\"M-1 1 H1 L0 -1z\"/>\n                        </g>\n                        <text transform=\"rotate(-54.48)\" x=\"-19.00\" style=\"text-anchor:end\">180</text>\n                    </g>\n                </g>\n            </g>\n            <g id=\"23.2\" class=\"nad-vl300to500\">\n                <polyline class=\"nad-edge-path\" points=\"346.29,-440.84 351.34,-493.10 427.79,-600.17\"/>\n                <g class=\"nad-edge-infos\" transform=\"translate(368.78,-517.51)\">\n                    <g class=\"nad-active nad-state-in\">\n                        <g transform=\"rotate(35.52)\">\n                            <path class=\"nad-arrow-in\" transform=\"scale(10.00)\" d=\"M-1 -1 H1 L0 1z\"/>\n                            <path class=\"nad-arrow-out\" transform=\"scale(10.00)\" d=\"M-1 1 H1 L0 -1z\"/>\n                        </g>\n                        <text transform=\"rotate(-54.48)\" x=\"19.00\">-180</text>\n                    </g>\n                </g>\n            </g>\n        </g>\n        <g id=\"24\">\n            <g id=\"24.1\" class=\"nad-vl300to500\">\n                <polyline class=\"nad-edge-path\" points=\"574.39,-713.02 569.34,-660.76 492.90,-553.69\"/>\n                <g class=\"nad-edge-infos\" transform=\"translate(551.91,-636.35)\">\n                    <g class=\"nad-active nad-state-in\">\n                        <g transform=\"rotate(-144.48)\">\n                            <path class=\"nad-arrow-in\" transform=\"scale(10.00)\" d=\"M-1 -1 H1 L0 1z\"/>\n                            <path class=\"nad-arrow-out\" transform=\"scale(10.00)\" d=\"M-1 1 H1 L0 -1z\"/>\n                        </g>\n                        <text transform=\"rotate(-54.48)\" x=\"-19.00\" style=\"text-anchor:end\">-180</text>\n                    </g>\n                </g>\n            </g>\n            <g id=\"24.2\" class=\"nad-vl300to500\">\n                <polyline class=\"nad-edge-path\" points=\"395.98,-437.29 416.45,-446.62 492.90,-553.69\"/>\n                <g class=\"nad-edge-infos\" transform=\"translate(433.89,-471.03)\">\n                    <g class=\"nad-active nad-state-out\">\n                        <g transform=\"rotate(35.52)\">\n                            <path class=\"nad-arrow-in\" transform=\"scale(10.00)\" d=\"M-1 -1 H1 L0 1z\"/>\n                            <path class=\"nad-arrow-out\" transform=\"scale(10.00)\" d=\"M-1 1 H1 L0 -1z\"/>\n                        </g>\n                        <text transform=\"rotate(-54.48)\" x=\"19.00\">180</text>\n                    </g>\n                </g>\n            </g>\n        </g>\n        <g id=\"25\">\n            <g id=\"25.1\" class=\"nad-vl300to500\">\n                <polyline class=\"nad-edge-path\" points=\"354.48,-388.20 444.31,-178.78\"/>\n                <g class=\"nad-edge-infos\" transform=\"translate(379.12,-330.76)\">\n                    <g class=\"nad-active nad-state-out\">\n                        <g transform=\"rotate(156.78)\">\n                            <path class=\"nad-arrow-in\" transform=\"scale(10.00)\" d=\"M-1 -1 H1 L0 1z\"/>\n                            <path class=\"nad-arrow-out\" transform=\"scale(10.00)\" d=\"M-1 1 H1 L0 -1z\"/>\n                        </g>\n                        <text transform=\"rotate(66.78)\" x=\"19.00\">541</text>\n                    </g>\n                </g>\n            </g>\n            <g id=\"25.2\" class=\"nad-vl300to500\">\n                <polyline class=\"nad-edge-path\" points=\"534.15,30.65 444.31,-178.78\"/>\n                <g class=\"nad-edge-infos\" transform=\"translate(521.33,0.78)\">\n                    <g class=\"nad-active nad-state-in\">\n                        <g transform=\"rotate(-23.22)\">\n                            <path class=\"nad-arrow-in\" transform=\"scale(10.00)\" d=\"M-1 -1 H1 L0 1z\"/>\n                            <path class=\"nad-arrow-out\" transform=\"scale(10.00)\" d=\"M-1 1 H1 L0 -1z\"/>\n                        </g>\n                        <text transform=\"rotate(-293.22)\" x=\"-19.00\" style=\"text-anchor:end\">-541</text>\n                    </g>\n                </g>\n            </g>\n        </g>\n        <g id=\"26\">\n            <g id=\"26.1\" class=\"nad-vl300to500\">\n                <polyline class=\"nad-edge-path\" points=\"-106.42,-552.18 -71.84,-512.68 96.66,-455.31\"/>\n                <g class=\"nad-edge-infos\" transform=\"translate(-43.44,-503.01)\">\n                    <g class=\"nad-active nad-state-out\">\n                        <g transform=\"rotate(108.80)\">\n                            <path class=\"nad-arrow-in\" transform=\"scale(10.00)\" d=\"M-1 -1 H1 L0 1z\"/>\n                            <path class=\"nad-arrow-out\" transform=\"scale(10.00)\" d=\"M-1 1 H1 L0 -1z\"/>\n                        </g>\n                        <text transform=\"rotate(18.80)\" x=\"19.00\">270</text>\n                    </g>\n                </g>\n            </g>\n            <g id=\"26.2\" class=\"nad-vl300to500\">\n                <polyline class=\"nad-edge-path\" points=\"287.24,-402.30 265.17,-397.94 96.66,-455.31\"/>\n                <g class=\"nad-edge-infos\" transform=\"translate(236.77,-407.60)\">\n                    <g class=\"nad-active nad-state-in\">\n                        <g transform=\"rotate(-71.20)\">\n                            <path class=\"nad-arrow-in\" transform=\"scale(10.00)\" d=\"M-1 -1 H1 L0 1z\"/>\n                            <path class=\"nad-arrow-out\" transform=\"scale(10.00)\" d=\"M-1 1 H1 L0 -1z\"/>\n                        </g>\n                        <text transform=\"rotate(-341.20)\" x=\"-19.00\" style=\"text-anchor:end\">-270</text>\n                    </g>\n                </g>\n            </g>\n        </g>\n        <g id=\"27\">\n            <g id=\"27.1\" class=\"nad-vl300to500\">\n                <polyline class=\"nad-edge-path\" points=\"-98.50,-564.01 95.36,-498.01\"/>\n                <g class=\"nad-edge-infos\" transform=\"translate(-67.73,-553.54)\">\n                    <g class=\"nad-active nad-state-out\">\n                        <g transform=\"rotate(108.80)\">\n                            <path class=\"nad-arrow-in\" transform=\"scale(10.00)\" d=\"M-1 -1 H1 L0 1z\"/>\n                            <path class=\"nad-arrow-out\" transform=\"scale(10.00)\" d=\"M-1 1 H1 L0 -1z\"/>\n                        </g>\n                        <text transform=\"rotate(18.80)\" x=\"19.00\">270</text>\n                    </g>\n                </g>\n            </g>\n            <g id=\"27.2\" class=\"nad-vl300to500\">\n                <polyline class=\"nad-edge-path\" points=\"289.21,-432.00 95.36,-498.01\"/>\n                <g class=\"nad-edge-infos\" transform=\"translate(258.45,-442.48)\">\n                    <g class=\"nad-active nad-state-in\">\n                        <g transform=\"rotate(-71.20)\">\n                            <path class=\"nad-arrow-in\" transform=\"scale(10.00)\" d=\"M-1 -1 H1 L0 1z\"/>\n                            <path class=\"nad-arrow-out\" transform=\"scale(10.00)\" d=\"M-1 1 H1 L0 -1z\"/>\n                        </g>\n                        <text transform=\"rotate(-341.20)\" x=\"-19.00\" style=\"text-anchor:end\">-270</text>\n                    </g>\n                </g>\n            </g>\n        </g>\n        <g id=\"28\" class=\"nad-disconnected\">\n            <g id=\"28.1\" class=\"nad-disconnected nad-vl300to500\">\n                <polyline class=\"nad-edge-path\" points=\"-97.56,-578.21 -46.06,-588.41 122.45,-531.04\"/>\n                <g class=\"nad-edge-infos\" transform=\"translate(-17.66,-578.74)\">\n                    <g class=\"nad-active\">\n                        <g transform=\"rotate(108.80)\">\n                            <path class=\"nad-arrow-in\" transform=\"scale(10.00)\" d=\"M-1 -1 H1 L0 1z\"/>\n                            <path class=\"nad-arrow-out\" transform=\"scale(10.00)\" d=\"M-1 1 H1 L0 -1z\"/>\n                        </g>\n                        <text transform=\"rotate(18.80)\" x=\"19.00\"></text>\n                    </g>\n                </g>\n            </g>\n            <g id=\"28.2\" class=\"nad-disconnected nad-vl300to500\">\n                <polyline class=\"nad-edge-path\" points=\"305.77,-456.74 290.95,-473.67 122.45,-531.04\"/>\n                <g class=\"nad-edge-infos\" transform=\"translate(262.55,-483.34)\">\n                    <g class=\"nad-active\">\n                        <g transform=\"rotate(-71.20)\">\n                            <path class=\"nad-arrow-in\" transform=\"scale(10.00)\" d=\"M-1 -1 H1 L0 1z\"/>\n                            <path class=\"nad-arrow-out\" transform=\"scale(10.00)\" d=\"M-1 1 H1 L0 -1z\"/>\n                        </g>\n                        <text transform=\"rotate(-341.20)\" x=\"-19.00\" style=\"text-anchor:end\"></text>\n                    </g>\n                </g>\n            </g>\n        </g>\n        <g id=\"29\">\n            <g id=\"29.1\" class=\"nad-vl300to500\">\n                <path class=\"nad-edge-path\" d=\"M345.86,-356.01 L346.72,-333.53 C348.26,-293.56 323.08,-288.66 314.23,-293.33\"/>\n                <g class=\"nad-edge-infos\" transform=\"translate(346.72,-333.53)\">\n                    <g class=\"nad-active nad-state-out\">\n                        <g transform=\"rotate(177.79)\">\n                            <path class=\"nad-arrow-in\" transform=\"scale(10.00)\" d=\"M-1 -1 H1 L0 1z\"/>\n                            <path class=\"nad-arrow-out\" transform=\"scale(10.00)\" d=\"M-1 1 H1 L0 -1z\"/>\n                        </g>\n                        <text transform=\"rotate(87.79)\" x=\"19.00\">360</text>\n                    </g>\n                </g>\n            </g>\n            <g id=\"29.2\" class=\"nad-vl300to500\">\n                <path class=\"nad-edge-path\" d=\"M320.38,-398.81 L275.95,-370.83 C242.11,-349.51 252.30,-325.96 261.15,-321.30\"/>\n                <g class=\"nad-edge-infos\" transform=\"translate(275.95,-370.83)\">\n                    <g class=\"nad-active nad-state-in\">\n                        <g transform=\"rotate(-122.21)\">\n                            <path class=\"nad-arrow-in\" transform=\"scale(10.00)\" d=\"M-1 -1 H1 L0 1z\"/>\n                            <path class=\"nad-arrow-out\" transform=\"scale(10.00)\" d=\"M-1 1 H1 L0 -1z\"/>\n                        </g>\n                        <text transform=\"rotate(-32.21)\" x=\"-19.00\" style=\"text-anchor:end\">-360</text>\n                    </g>\n                </g>\n            </g>\n            <g>\n                <circle class=\"nad-vl300to500 nad-winding\" cx=\"296.54\" cy=\"-302.65\" r=\"20.00\"/>\n                <circle class=\"nad-vl300to500 nad-winding\" cx=\"278.84\" cy=\"-311.98\" r=\"20.00\"/>\n                <path d=\"M60.00,0 0,60.00 M52.00,0 60.00,0 60.00,8.00\" transform=\"matrix(-0.88,-0.47,0.47,-0.88,300.24,-266.79)\" class=\"nad-pst-arrow\"/>\n            </g>\n        </g>\n        <g id=\"30\">\n            <g id=\"30.1\" class=\"nad-vl300to500\">\n                <polyline class=\"nad-edge-path\" points=\"-465.84,504.68 -439.00,345.61\"/>\n                <g class=\"nad-edge-infos\" transform=\"translate(-460.43,472.63)\">\n                    <g class=\"nad-active nad-state-in\">\n                        <g transform=\"rotate(9.58)\">\n                            <path class=\"nad-arrow-in\" transform=\"scale(10.00)\" d=\"M-1 -1 H1 L0 1z\"/>\n                            <path class=\"nad-arrow-out\" transform=\"scale(10.00)\" d=\"M-1 1 H1 L0 -1z\"/>\n                        </g>\n                        <text transform=\"rotate(-80.42)\" x=\"19.00\">-153</text>\n                    </g>\n                </g>\n            </g>\n            <g id=\"30.2\" class=\"nad-vl300to500\">\n                <polyline class=\"nad-edge-path\" points=\"-412.15,186.55 -439.00,345.61\"/>\n                <g class=\"nad-edge-infos\" transform=\"translate(-417.56,218.60)\">\n                    <g class=\"nad-active nad-state-out\">\n                        <g transform=\"rotate(-170.42)\">\n                            <path class=\"nad-arrow-in\" transform=\"scale(10.00)\" d=\"M-1 -1 H1 L0 1z\"/>\n                            <path class=\"nad-arrow-out\" transform=\"scale(10.00)\" d=\"M-1 1 H1 L0 -1z\"/>\n                        </g>\n                        <text transform=\"rotate(-80.42)\" x=\"-19.00\" style=\"text-anchor:end\">153</text>\n                    </g>\n                </g>\n            </g>\n        </g>\n        <g id=\"31\">\n            <g id=\"31.1\" class=\"nad-vl300to500\">\n                <polyline class=\"nad-edge-path\" points=\"-443.33,527.02 -286.29,499.32\"/>\n                <g class=\"nad-edge-infos\" transform=\"translate(-411.33,521.37)\">\n                    <g class=\"nad-active nad-state-out\">\n                        <g transform=\"rotate(80.00)\">\n                            <path class=\"nad-arrow-in\" transform=\"scale(10.00)\" d=\"M-1 -1 H1 L0 1z\"/>\n                            <path class=\"nad-arrow-out\" transform=\"scale(10.00)\" d=\"M-1 1 H1 L0 -1z\"/>\n                        </g>\n                        <text transform=\"rotate(-10.00)\" x=\"19.00\">153</text>\n                    </g>\n                </g>\n            </g>\n            <g id=\"31.2\" class=\"nad-vl300to500\">\n                <polyline class=\"nad-edge-path\" points=\"-129.24,471.62 -286.29,499.32\"/>\n                <g class=\"nad-edge-infos\" transform=\"translate(-161.25,477.26)\">\n                    <g class=\"nad-active nad-state-in\">\n                        <g transform=\"rotate(-100.00)\">\n                            <path class=\"nad-arrow-in\" transform=\"scale(10.00)\" d=\"M-1 -1 H1 L0 1z\"/>\n                            <path class=\"nad-arrow-out\" transform=\"scale(10.00)\" d=\"M-1 1 H1 L0 -1z\"/>\n                        </g>\n                        <text transform=\"rotate(-10.00)\" x=\"-19.00\" style=\"text-anchor:end\">-153</text>\n                    </g>\n                </g>\n            </g>\n        </g>\n        <g id=\"32\">\n            <g id=\"32.1\" class=\"nad-vl300to500\">\n                <polyline class=\"nad-edge-path\" points=\"-388.19,178.94 -254.87,313.14\"/>\n                <g class=\"nad-edge-infos\" transform=\"translate(-365.29,202.00)\">\n                    <g class=\"nad-active nad-state-out\">\n                        <g transform=\"rotate(135.19)\">\n                            <path class=\"nad-arrow-in\" transform=\"scale(10.00)\" d=\"M-1 -1 H1 L0 1z\"/>\n                            <path class=\"nad-arrow-out\" transform=\"scale(10.00)\" d=\"M-1 1 H1 L0 -1z\"/>\n                        </g>\n                        <text transform=\"rotate(45.19)\" x=\"19.00\">306</text>\n                    </g>\n                </g>\n            </g>\n            <g id=\"32.2\" class=\"nad-vl300to500\">\n                <polyline class=\"nad-edge-path\" points=\"-121.54,447.33 -254.87,313.14\"/>\n                <g class=\"nad-edge-infos\" transform=\"translate(-144.45,424.28)\">\n                    <g class=\"nad-active nad-state-in\">\n                        <g transform=\"rotate(-44.81)\">\n                            <path class=\"nad-arrow-in\" transform=\"scale(10.00)\" d=\"M-1 -1 H1 L0 1z\"/>\n                            <path class=\"nad-arrow-out\" transform=\"scale(10.00)\" d=\"M-1 1 H1 L0 -1z\"/>\n                        </g>\n                        <text transform=\"rotate(-314.81)\" x=\"-19.00\" style=\"text-anchor:end\">-306</text>\n                    </g>\n                </g>\n            </g>\n        </g>\n        <g id=\"33\">\n            <g id=\"33.1\" class=\"nad-vl300to500\">\n                <polyline class=\"nad-edge-path\" points=\"-409.77,132.02 -426.87,-81.37\"/>\n                <g class=\"nad-edge-infos\" transform=\"translate(-412.37,99.62)\">\n                    <g class=\"nad-active nad-state-in\">\n                        <g transform=\"rotate(-4.58)\">\n                            <path class=\"nad-arrow-in\" transform=\"scale(10.00)\" d=\"M-1 -1 H1 L0 1z\"/>\n                            <path class=\"nad-arrow-out\" transform=\"scale(10.00)\" d=\"M-1 1 H1 L0 -1z\"/>\n                        </g>\n                        <text transform=\"rotate(-274.58)\" x=\"-19.00\" style=\"text-anchor:end\">-459</text>\n                    </g>\n                </g>\n            </g>\n            <g id=\"33.2\" class=\"nad-vl300to500\">\n                <polyline class=\"nad-edge-path\" points=\"-443.96,-294.75 -426.87,-81.37\"/>\n                <g class=\"nad-edge-infos\" transform=\"translate(-441.36,-262.36)\">\n                    <g class=\"nad-active nad-state-out\">\n                        <g transform=\"rotate(175.42)\">\n                            <path class=\"nad-arrow-in\" transform=\"scale(10.00)\" d=\"M-1 -1 H1 L0 1z\"/>\n                            <path class=\"nad-arrow-out\" transform=\"scale(10.00)\" d=\"M-1 1 H1 L0 -1z\"/>\n                        </g>\n                        <text transform=\"rotate(85.42)\" x=\"19.00\">459</text>\n                    </g>\n                </g>\n            </g>\n        </g>\n        <g id=\"34\">\n            <g id=\"34.1\" class=\"nad-vl300to500\">\n                <polyline class=\"nad-edge-path\" points=\"336.12,434.31 130.69,449.56\"/>\n                <g class=\"nad-edge-infos\" transform=\"translate(303.71,436.72)\">\n                    <g class=\"nad-active nad-state-in\">\n                        <g transform=\"rotate(-94.24)\">\n                            <path class=\"nad-arrow-in\" transform=\"scale(10.00)\" d=\"M-1 -1 H1 L0 1z\"/>\n                            <path class=\"nad-arrow-out\" transform=\"scale(10.00)\" d=\"M-1 1 H1 L0 -1z\"/>\n                        </g>\n                        <text transform=\"rotate(-4.24)\" x=\"-19.00\" style=\"text-anchor:end\">-459</text>\n                    </g>\n                </g>\n            </g>\n            <g id=\"34.2\" class=\"nad-vl300to500\">\n                <polyline class=\"nad-edge-path\" points=\"-74.74,464.80 130.69,449.56\"/>\n                <g class=\"nad-edge-infos\" transform=\"translate(-42.33,462.40)\">\n                    <g class=\"nad-active nad-state-out\">\n                        <g transform=\"rotate(85.76)\">\n                            <path class=\"nad-arrow-in\" transform=\"scale(10.00)\" d=\"M-1 -1 H1 L0 1z\"/>\n                            <path class=\"nad-arrow-out\" transform=\"scale(10.00)\" d=\"M-1 1 H1 L0 -1z\"/>\n                        </g>\n                        <text transform=\"rotate(-4.24)\" x=\"19.00\">459</text>\n                    </g>\n                </g>\n            </g>\n        </g>\n        <g id=\"35\">\n            <g id=\"35.1\" class=\"nad-vl300to500\">\n                <polyline class=\"nad-edge-path\" points=\"709.63,402.80 550.29,416.37\"/>\n                <g class=\"nad-edge-infos\" transform=\"translate(677.25,405.56)\">\n                    <g class=\"nad-active nad-state-in\">\n                        <g transform=\"rotate(-94.87)\">\n                            <path class=\"nad-arrow-in\" transform=\"scale(10.00)\" d=\"M-1 -1 H1 L0 1z\"/>\n                            <path class=\"nad-arrow-out\" transform=\"scale(10.00)\" d=\"M-1 1 H1 L0 -1z\"/>\n                        </g>\n                        <text transform=\"rotate(-4.87)\" x=\"-19.00\" style=\"text-anchor:end\">-486</text>\n                    </g>\n                </g>\n            </g>\n            <g id=\"35.2\" class=\"nad-vl300to500\">\n                <polyline class=\"nad-edge-path\" points=\"390.95,429.94 550.29,416.37\"/>\n                <g class=\"nad-edge-infos\" transform=\"translate(423.33,427.18)\">\n                    <g class=\"nad-active nad-state-out\">\n                        <g transform=\"rotate(85.13)\">\n                            <path class=\"nad-arrow-in\" transform=\"scale(10.00)\" d=\"M-1 -1 H1 L0 1z\"/>\n                            <path class=\"nad-arrow-out\" transform=\"scale(10.00)\" d=\"M-1 1 H1 L0 -1z\"/>\n                        </g>\n                        <text transform=\"rotate(-4.87)\" x=\"19.00\">486</text>\n                    </g>\n                </g>\n            </g>\n        </g>\n        <g id=\"36\">\n            <g id=\"36.1\" class=\"nad-vl300to500\">\n                <polyline class=\"nad-edge-path\" points=\"723.64,376.44 641.01,228.19\"/>\n                <g class=\"nad-edge-infos\" transform=\"translate(707.82,348.06)\">\n                    <g class=\"nad-active nad-state-in\">\n                        <g transform=\"rotate(-29.13)\">\n                            <path class=\"nad-arrow-in\" transform=\"scale(10.00)\" d=\"M-1 -1 H1 L0 1z\"/>\n                            <path class=\"nad-arrow-out\" transform=\"scale(10.00)\" d=\"M-1 1 H1 L0 -1z\"/>\n                        </g>\n                        <text transform=\"rotate(-299.13)\" x=\"-19.00\" style=\"text-anchor:end\">-514</text>\n                    </g>\n                </g>\n            </g>\n            <g id=\"36.2\" class=\"nad-vl300to500\">\n                <polyline class=\"nad-edge-path\" points=\"558.37,79.94 641.01,228.19\"/>\n                <g class=\"nad-edge-infos\" transform=\"translate(574.20,108.33)\">\n                    <g class=\"nad-active nad-state-out\">\n                        <g transform=\"rotate(150.87)\">\n                            <path class=\"nad-arrow-in\" transform=\"scale(10.00)\" d=\"M-1 -1 H1 L0 1z\"/>\n                            <path class=\"nad-arrow-out\" transform=\"scale(10.00)\" d=\"M-1 1 H1 L0 -1z\"/>\n                        </g>\n                        <text transform=\"rotate(60.87)\" x=\"19.00\">514</text>\n                    </g>\n                </g>\n            </g>\n        </g>\n        <g id=\"37\">\n            <g id=\"37.1\" class=\"nad-vl300to500\">\n                <polyline class=\"nad-edge-path\" points=\"375.49,407.50 454.27,244.10\"/>\n                <g class=\"nad-edge-infos\" transform=\"translate(389.60,378.23)\">\n                    <g class=\"nad-active nad-state-in\">\n                        <g transform=\"rotate(25.74)\">\n                            <path class=\"nad-arrow-in\" transform=\"scale(10.00)\" d=\"M-1 -1 H1 L0 1z\"/>\n                            <path class=\"nad-arrow-out\" transform=\"scale(10.00)\" d=\"M-1 1 H1 L0 -1z\"/>\n                        </g>\n                        <text transform=\"rotate(-64.26)\" x=\"19.00\">-27</text>\n                    </g>\n                </g>\n            </g>\n            <g id=\"37.2\" class=\"nad-vl300to500\">\n                <polyline class=\"nad-edge-path\" points=\"533.04,80.69 454.27,244.10\"/>\n                <g class=\"nad-edge-infos\" transform=\"translate(518.93,109.97)\">\n                    <g class=\"nad-active nad-state-out\">\n                        <g transform=\"rotate(-154.26)\">\n                            <path class=\"nad-arrow-in\" transform=\"scale(10.00)\" d=\"M-1 -1 H1 L0 1z\"/>\n                            <path class=\"nad-arrow-out\" transform=\"scale(10.00)\" d=\"M-1 1 H1 L0 -1z\"/>\n                        </g>\n                        <text transform=\"rotate(-64.26)\" x=\"-19.00\" style=\"text-anchor:end\">27</text>\n                    </g>\n                </g>\n            </g>\n        </g>\n        <g id=\"38\">\n            <g id=\"38.1\" class=\"nad-vl300to500\">\n                <polyline class=\"nad-edge-path\" points=\"-462.45,-696.29 -306.41,-639.30\"/>\n                <g class=\"nad-edge-infos\" transform=\"translate(-431.93,-685.14)\">\n                    <g class=\"nad-active nad-state-out\">\n                        <g transform=\"rotate(110.06)\">\n                            <path class=\"nad-arrow-in\" transform=\"scale(10.00)\" d=\"M-1 -1 H1 L0 1z\"/>\n                            <path class=\"nad-arrow-out\" transform=\"scale(10.00)\" d=\"M-1 1 H1 L0 -1z\"/>\n                        </g>\n                        <text transform=\"rotate(20.06)\" x=\"19.00\">514</text>\n                    </g>\n                </g>\n            </g>\n            <g id=\"38.2\" class=\"nad-vl300to500\">\n                <polyline class=\"nad-edge-path\" points=\"-150.36,-582.31 -306.41,-639.30\"/>\n                <g class=\"nad-edge-infos\" transform=\"translate(-180.89,-593.46)\">\n                    <g class=\"nad-active nad-state-in\">\n                        <g transform=\"rotate(-69.94)\">\n                            <path class=\"nad-arrow-in\" transform=\"scale(10.00)\" d=\"M-1 -1 H1 L0 1z\"/>\n                            <path class=\"nad-arrow-out\" transform=\"scale(10.00)\" d=\"M-1 1 H1 L0 -1z\"/>\n                        </g>\n                        <text transform=\"rotate(-339.94)\" x=\"-19.00\" style=\"text-anchor:end\">-514</text>\n                    </g>\n                </g>\n            </g>\n        </g>\n        <g id=\"39\">\n            <g id=\"39.1\" class=\"nad-vl300to500\">\n                <polyline class=\"nad-edge-path\" points=\"-485.28,-678.39 -467.22,-513.94\"/>\n                <g class=\"nad-edge-infos\" transform=\"translate(-481.73,-646.08)\">\n                    <g class=\"nad-active nad-state-out\">\n                        <g transform=\"rotate(173.73)\">\n                            <path class=\"nad-arrow-in\" transform=\"scale(10.00)\" d=\"M-1 -1 H1 L0 1z\"/>\n                            <path class=\"nad-arrow-out\" transform=\"scale(10.00)\" d=\"M-1 1 H1 L0 -1z\"/>\n                        </g>\n                        <text transform=\"rotate(83.73)\" x=\"19.00\">486</text>\n                    </g>\n                </g>\n            </g>\n            <g id=\"39.2\" class=\"nad-vl300to500\">\n                <polyline class=\"nad-edge-path\" points=\"-449.16,-349.50 -467.22,-513.94\"/>\n                <g class=\"nad-edge-infos\" transform=\"translate(-452.71,-381.81)\">\n                    <g class=\"nad-active nad-state-in\">\n                        <g transform=\"rotate(-6.27)\">\n                            <path class=\"nad-arrow-in\" transform=\"scale(10.00)\" d=\"M-1 -1 H1 L0 1z\"/>\n                            <path class=\"nad-arrow-out\" transform=\"scale(10.00)\" d=\"M-1 1 H1 L0 -1z\"/>\n                        </g>\n                        <text transform=\"rotate(-276.27)\" x=\"-19.00\" style=\"text-anchor:end\">-486</text>\n                    </g>\n                </g>\n            </g>\n        </g>\n        <g id=\"40\">\n            <g id=\"40.1\" class=\"nad-vl300to500\">\n                <polyline class=\"nad-edge-path\" points=\"-146.22,-555.97 -285.34,-447.52\"/>\n                <g class=\"nad-edge-infos\" transform=\"translate(-171.85,-535.99)\">\n                    <g class=\"nad-active nad-state-in\">\n                        <g transform=\"rotate(-127.94)\">\n                            <path class=\"nad-arrow-in\" transform=\"scale(10.00)\" d=\"M-1 -1 H1 L0 1z\"/>\n                            <path class=\"nad-arrow-out\" transform=\"scale(10.00)\" d=\"M-1 1 H1 L0 -1z\"/>\n                        </g>\n                        <text transform=\"rotate(-37.94)\" x=\"-19.00\" style=\"text-anchor:end\">-27</text>\n                    </g>\n                </g>\n            </g>\n            <g id=\"40.2\" class=\"nad-vl300to500\">\n                <polyline class=\"nad-edge-path\" points=\"-424.47,-339.07 -285.34,-447.52\"/>\n                <g class=\"nad-edge-infos\" transform=\"translate(-398.83,-359.05)\">\n                    <g class=\"nad-active nad-state-out\">\n                        <g transform=\"rotate(52.06)\">\n                            <path class=\"nad-arrow-in\" transform=\"scale(10.00)\" d=\"M-1 -1 H1 L0 1z\"/>\n                            <path class=\"nad-arrow-out\" transform=\"scale(10.00)\" d=\"M-1 1 H1 L0 -1z\"/>\n                        </g>\n                        <text transform=\"rotate(-37.94)\" x=\"19.00\">27</text>\n                    </g>\n                </g>\n            </g>\n        </g>\n    </g>\n    <g class=\"nad-text-edges\">\n        <polyline id=\"0-textedge\" points=\"606.71,-744.84 677.04,-755.39\"/>\n        <polyline id=\"2-textedge\" points=\"402.98,-422.37 443.64,-428.47\"/>\n        <polyline id=\"5-textedge\" points=\"-440.75,527.34 -370.42,516.79\"/>\n        <polyline id=\"7-textedge\" points=\"-377.91,154.98 -307.58,144.43\"/>\n        <polyline id=\"9-textedge\" points=\"-72.49,462.39 -2.16,451.84\"/>\n        <polyline id=\"11-textedge\" points=\"766.70,396.01 837.03,385.46\"/>\n        <polyline id=\"13-textedge\" points=\"393.21,427.82 463.55,417.27\"/>\n        <polyline id=\"15-textedge\" points=\"574.65,51.47 644.99,40.92\"/>\n        <polyline id=\"17-textedge\" points=\"-458.62,-710.17 -388.28,-720.72\"/>\n        <polyline id=\"19-textedge\" points=\"-94.86,-577.32 -24.53,-587.87\"/>\n        <polyline id=\"21-textedge\" points=\"-416.49,-326.61 -346.15,-337.16\"/>\n    </g>\n    <foreignObject height=\"1\" width=\"1\" class=\"nad-text-nodes\">\n        <div xmlns=\"http://www.w3.org/1999/xhtml\">\n            <div class=\"nad-label-box\" style=\"position: absolute; top: -780px; left: 677px\" id=\"0-textnode\">\n                <div>BBE1AA1</div>\n                <div class=\"nad-bus-descr\">\n                    <span class=\"nad-vl300to500 nad-bus-0 nad-legend-square\"/> kV / 0.7°</div>\n            </div>\n            <div class=\"nad-label-box\" style=\"position: absolute; top: -453px; left: 444px\" id=\"2-textnode\">\n                <div>BBE2AA1</div>\n                <div class=\"nad-bus-descr\">\n                    <span class=\"nad-vl300to500 nad-bus-0 nad-legend-square\"/> kV / 0.0°</div>\n                <div class=\"nad-bus-descr\">\n                    <span class=\"nad-vl300to500 nad-bus-1 nad-legend-square\"/> kV / 1.4°</div>\n            </div>\n            <div class=\"nad-label-box\" style=\"position: absolute; top: 492px; left: -370px\" id=\"5-textnode\">\n                <div>DDE1AA1</div>\n                <div class=\"nad-bus-descr\">\n                    <span class=\"nad-vl300to500 nad-bus-0 nad-legend-square\"/> kV / 0.2°</div>\n            </div>\n            <div class=\"nad-label-box\" style=\"position: absolute; top: 119px; left: -308px\" id=\"7-textnode\">\n                <div>DDE2AA1</div>\n                <div class=\"nad-bus-descr\">\n                    <span class=\"nad-vl300to500 nad-bus-0 nad-legend-square\"/> kV / 0.8°</div>\n            </div>\n            <div class=\"nad-label-box\" style=\"position: absolute; top: 427px; left: -2px\" id=\"9-textnode\">\n                <div>DDE3AA1</div>\n                <div class=\"nad-bus-descr\">\n                    <span class=\"nad-vl300to500 nad-bus-0 nad-legend-square\"/> kV / -0.4°</div>\n            </div>\n            <div class=\"nad-label-box\" style=\"position: absolute; top: 360px; left: 837px\" id=\"11-textnode\">\n                <div>FFR1AA1</div>\n                <div class=\"nad-bus-descr\">\n                    <span class=\"nad-vl300to500 nad-bus-0 nad-legend-square\"/> kV / -4.2°</div>\n            </div>\n            <div class=\"nad-label-box\" style=\"position: absolute; top: 392px; left: 464px\" id=\"13-textnode\">\n                <div>FFR2AA1</div>\n                <div class=\"nad-bus-descr\">\n                    <span class=\"nad-vl300to500 nad-bus-0 nad-legend-square\"/> kV / -2.3°</div>\n            </div>\n            <div class=\"nad-label-box\" style=\"position: absolute; top: 16px; left: 645px\" id=\"15-textnode\">\n                <div>FFR3AA1</div>\n                <div class=\"nad-bus-descr\">\n                    <span class=\"nad-vl300to500 nad-bus-0 nad-legend-square\"/> kV / -2.1°</div>\n            </div>\n            <div class=\"nad-label-box\" style=\"position: absolute; top: -746px; left: -388px\" id=\"17-textnode\">\n                <div>NNL1AA1</div>\n                <div class=\"nad-bus-descr\">\n                    <span class=\"nad-vl300to500 nad-bus-0 nad-legend-square\"/> kV / 4.5°</div>\n            </div>\n            <div class=\"nad-label-box\" style=\"position: absolute; top: -613px; left: -25px\" id=\"19-textnode\">\n                <div>NNL2AA1</div>\n                <div class=\"nad-bus-descr\">\n                    <span class=\"nad-vl300to500 nad-bus-0 nad-legend-square\"/> kV / 2.5°</div>\n            </div>\n            <div class=\"nad-label-box\" style=\"position: absolute; top: -362px; left: -346px\" id=\"21-textnode\">\n                <div>NNL3AA1</div>\n                <div class=\"nad-bus-descr\">\n                    <span class=\"nad-vl300to500 nad-bus-0 nad-legend-square\"/> kV / 2.6°</div>\n            </div>\n        </div>\n    </foreignObject>\n</svg>\n"
     },
     "execution_count": 6,
     "metadata": {},
     "output_type": "execute_result"
    }
   ],
   "execution_count": 6
  },
  {
   "cell_type": "markdown",
   "metadata": {},
   "source": [
    "As we can see, the new flow is 270MW, and the overload has been solved.\n",
    "\n",
    "This solution can be found by the RAO. For this we will need some input files: the network (which we already have), and a crac file which will contain information about available remedial actions, and CNECs (critical network elements and contingencies). For more information on the crac input, you can check this page: https://powsybl.readthedocs.io/projects/openrao/en/stable/input-data/crac/json.html"
   ]
  },
  {
   "cell_type": "code",
   "metadata": {
    "ExecuteTime": {
     "end_time": "2025-07-30T08:35:45.449310Z",
     "start_time": "2025-07-30T08:35:45.380952Z"
    }
   },
   "source": [
    "# prepare inputs\n",
    "n12 = pp.network.load('./data/rao/12_node_network.uct')\n",
    "rao_runner = pp.rao.create_rao()\n",
    "rao_runner.set_crac_file_source(n12, \"./data/rao/N_case_crac.json\")\n",
    "rao_parameters = RaoParameters()\n",
    "rao_parameters.load_from_file_source(\"./data/rao/rao_parameters.json\")\n",
    "# set up logging\n",
    "import logging\n",
    "logging.getLogger('powsybl').setLevel(logging.INFO)\n",
    "logging.basicConfig(format='%(asctime)s - %(levelname)s - %(message)s')\n",
    "#run rao\n",
    "raoResult = rao_runner.run(n12, rao_parameters)\n",
    "result_json = raoResult.to_json()"
   ],
   "outputs": [
    {
     "name": "stderr",
     "output_type": "stream",
     "text": [
      "2025-07-30 10:35:45,396 - WARNING - Running RAO using Open RAO version 6.6.0 from git commit 4aa4ea6cf728c58414986e13216923c054a475f8.\n",
      "2025-07-30 10:35:45,397 - WARNING - Network {CC0 SC0}: 11 generators have been discarded from active power control because of a targetP equals 0\n",
      "2025-07-30 10:35:45,398 - WARNING - Network {CC0 SC0}: 1 generators have been discarded from active power control because of maxP not plausible\n",
      "2025-07-30 10:35:45,399 - INFO - Network {CC0 SC0} has 12 buses and 16 branches\n",
      "2025-07-30 10:35:45,399 - INFO - Network {CC0 SC0} balance: active generation=1000.0 MW, active load=1000.0 MW, reactive generation=0.0 MVar, reactive load=0.0 MVar\n",
      "2025-07-30 10:35:45,400 - INFO - Network {CC0 SC0}, slack buses are [BBE2AA1_0] (method='Most meshed bus')\n",
      "2025-07-30 10:35:45,400 - INFO - Network {CC0 SC0}, reference bus is BBE2AA1_0 (method='First slack')\n",
      "2025-07-30 10:35:45,401 - INFO - Running AC sensitivity analysis with 2 factors and 0 contingencies\n",
      "2025-07-30 10:35:45,401 - INFO - Start AC loadflow on network {CC0 SC0}\n",
      "2025-07-30 10:35:45,402 - INFO - AC loadflow complete on network {CC0 SC0} (result=AcLoadFlowResult(outerLoopIterations=0, newtonRaphsonIterations=2, solverStatus=CONVERGED, outerLoopStatus=STABLE, slackBusActivePowerMismatch=-0.002028186046532099, distributedActivePower=0.0))\n",
      "2025-07-30 10:35:45,403 - INFO - Initial sensitivity analysis: cost = 90.0 (functional: 90.0, virtual: 0.0)\n",
      "2025-07-30 10:35:45,403 - INFO - Limiting element #01: margin = -90.0 MW, element NNL2AA1  BBE3AA1  1 at state preventive, CNEC ID = \"NNL2AA1  BBE3AA1  1 - preventive\"\n",
      "2025-07-30 10:35:45,403 - INFO - ----- Preventive perimeter optimization [start]\n",
      "2025-07-30 10:35:45,404 - INFO - Root leaf, cost: 90.0 (functional: 90.0, virtual: 0.0)\n",
      "2025-07-30 10:35:45,404 - INFO - Limiting element #01: margin = -90.0 MW, element NNL2AA1  BBE3AA1  1 at state preventive, CNEC ID = \"NNL2AA1  BBE3AA1  1 - preventive\"\n",
      "2025-07-30 10:35:45,404 - INFO - Linear optimization on root leaf\n",
      "2025-07-30 10:35:45,405 - INFO - No range actions to optimize\n",
      "2025-07-30 10:35:45,405 - INFO - Root leaf, cost: 90.0 (functional: 90.0, virtual: 0.0)\n",
      "2025-07-30 10:35:45,405 - INFO - No range actions activated\n",
      "2025-07-30 10:35:45,406 - INFO - Limiting element #01: margin = -90.0 MW, element NNL2AA1  BBE3AA1  1 at state preventive, CNEC ID = \"NNL2AA1  BBE3AA1  1 - preventive\"\n",
      "2025-07-30 10:35:45,406 - INFO - Using base network '12_node_network' on variant 'SearchTreeWorkingVariantId'\n",
      "2025-07-30 10:35:45,406 - INFO - Search depth 1 [start]\n",
      "2025-07-30 10:35:45,407 - INFO - Leaves to evaluate: 1\n",
      "2025-07-30 10:35:45,407 - INFO - Connectable NNL2AA1  BBE3AA1  2 has been connected on each side.\n",
      "2025-07-30 10:35:45,408 - WARNING - Network {CC0 SC0}: 11 generators have been discarded from active power control because of a targetP equals 0\n",
      "2025-07-30 10:35:45,409 - WARNING - Network {CC0 SC0}: 1 generators have been discarded from active power control because of maxP not plausible\n",
      "2025-07-30 10:35:45,409 - INFO - Network {CC0 SC0} has 12 buses and 17 branches\n",
      "2025-07-30 10:35:45,410 - INFO - Network {CC0 SC0} balance: active generation=1000.0 MW, active load=1000.0 MW, reactive generation=0.0 MVar, reactive load=0.0 MVar\n",
      "2025-07-30 10:35:45,437 - INFO - Network {CC0 SC0}, slack buses are [BBE2AA1_1] (method='Most meshed bus')\n",
      "2025-07-30 10:35:45,437 - INFO - Network {CC0 SC0}, reference bus is BBE2AA1_1 (method='First slack')\n",
      "2025-07-30 10:35:45,438 - INFO - Running AC sensitivity analysis with 2 factors and 0 contingencies\n",
      "2025-07-30 10:35:45,438 - INFO - Start AC loadflow on network {CC0 SC0}\n",
      "2025-07-30 10:35:45,439 - INFO - AC loadflow complete on network {CC0 SC0} (result=AcLoadFlowResult(outerLoopIterations=0, newtonRaphsonIterations=2, solverStatus=CONVERGED, outerLoopStatus=STABLE, slackBusActivePowerMismatch=-3.2095159969713905E-4, distributedActivePower=0.0))\n",
      "2025-07-30 10:35:45,441 - INFO - Evaluated network action(s): close NL2 BE3 2, cost: -139.73 (functional: -139.73, virtual: 0.0)\n",
      "2025-07-30 10:35:45,441 - INFO - Optimized network action(s): close NL2 BE3 2, cost: -139.73 (functional: -139.73, virtual: 0.0)\n",
      "2025-07-30 10:35:45,442 - INFO - Stop criterion reached, other threads may skip optimization.\n",
      "2025-07-30 10:35:45,442 - INFO - Remaining leaves to evaluate: 0\n",
      "2025-07-30 10:35:45,443 - INFO - Search depth 1 [end]\n",
      "2025-07-30 10:35:45,443 - INFO - Search depth 1 best leaf: network action(s): close NL2 BE3 2, cost: -139.73 (functional: -139.73, virtual: 0.0)\n",
      "2025-07-30 10:35:45,444 - INFO - Search depth 1 best leaf: No range actions activated\n",
      "2025-07-30 10:35:45,444 - INFO - Limiting element #01: margin = 139.73 MW, element NNL2AA1  BBE3AA1  1 at state preventive, CNEC ID = \"NNL2AA1  BBE3AA1  1 - preventive\"\n",
      "2025-07-30 10:35:45,444 - INFO - Search-tree RAO completed with status DEFAULT\n",
      "2025-07-30 10:35:45,445 - INFO - Best leaf: network action(s): close NL2 BE3 2, cost: -139.73 (functional: -139.73, virtual: 0.0)\n",
      "2025-07-30 10:35:45,445 - INFO - Best leaf: No range actions activated\n",
      "2025-07-30 10:35:45,445 - INFO - Limiting element #01: margin = 139.73 MW, element NNL2AA1  BBE3AA1  1 at state preventive, CNEC ID = \"NNL2AA1  BBE3AA1  1 - preventive\"\n",
      "2025-07-30 10:35:45,446 - INFO - Scenario \"preventive\": initial cost = 90.0 (functional: 90.0, virtual: 0.0), 1 network action(s) activated : close NL2 BE3 2, cost after preventive optimization = -139.73 (functional: -139.73, virtual: 0.0)\n",
      "2025-07-30 10:35:45,446 - INFO - Connectable NNL2AA1  BBE3AA1  2 has been connected on each side.\n",
      "2025-07-30 10:35:45,446 - INFO - ----- Preventive perimeter optimization [end]\n",
      "2025-07-30 10:35:45,447 - INFO - Limiting element #01: margin = 139.73 MW, element NNL2AA1  BBE3AA1  1 at state preventive, CNEC ID = \"NNL2AA1  BBE3AA1  1 - preventive\"\n",
      "2025-07-30 10:35:45,447 - INFO - Cost before RAO = 90.0 (functional: 90.0, virtual: 0.0), cost after RAO = -139.73 (functional: -139.73, virtual: 0.0)\n"
     ]
    }
   ],
   "execution_count": 7
  },
  {
   "cell_type": "markdown",
   "metadata": {},
   "source": [
    "Let's examine the results of RAO."
   ]
  },
  {
   "cell_type": "code",
   "metadata": {
    "ExecuteTime": {
     "end_time": "2025-07-30T08:35:45.499471Z",
     "start_time": "2025-07-30T08:35:45.496433Z"
    }
   },
   "source": [
    "result_json"
   ],
   "outputs": [
    {
     "data": {
      "text/plain": [
       "{'type': 'RAO_RESULT',\n",
       " 'version': '1.8',\n",
       " 'info': 'Generated by Open RAO https://powsybl.readthedocs.io/projects/openrao',\n",
       " 'computationStatus': 'default',\n",
       " 'executionDetails': 'The RAO only went through first preventive',\n",
       " 'costResults': {'initial': {'functionalCost': 90.0,\n",
       "   'virtualCost': {'sensitivity-failure-cost': 0.0}},\n",
       "  'preventive': {'functionalCost': -139.73,\n",
       "   'virtualCost': {'sensitivity-failure-cost': 0.0}},\n",
       "  'outage': {'functionalCost': -139.73,\n",
       "   'virtualCost': {'sensitivity-failure-cost': 0.0}},\n",
       "  'curative': {'functionalCost': -139.73,\n",
       "   'virtualCost': {'sensitivity-failure-cost': 0.0}}},\n",
       " 'computationStatusMap': [],\n",
       " 'flowCnecResults': [{'flowCnecId': 'NNL2AA1  BBE3AA1  1 - preventive',\n",
       "   'initial': {'ampere': {'margin': -129.99, 'side1': {'flow': 721.77}},\n",
       "    'megawatt': {'margin': -90.0, 'side1': {'flow': 500.0}}},\n",
       "   'preventive': {'ampere': {'margin': 201.67, 'side1': {'flow': 390.11}},\n",
       "    'megawatt': {'margin': 139.73, 'side1': {'flow': 270.27}}}}],\n",
       " 'angleCnecResults': [],\n",
       " 'voltageCnecResults': [],\n",
       " 'networkActionResults': [{'networkActionId': 'close NL2 BE3 2',\n",
       "   'activatedStates': [{'instant': 'preventive'}]}],\n",
       " 'rangeActionResults': []}"
      ]
     },
     "execution_count": 8,
     "metadata": {},
     "output_type": "execute_result"
    }
   ],
   "execution_count": 8
  },
  {
   "cell_type": "markdown",
   "source": [
    "We can see that initially there was a cost of +90 (which corresponds to a worst margin of -90MW, ie a worst overload of 90MW). Then after preventive actions, a cost of -139.73 (ie a worst margin of +139.73MW).\n",
    "Then we have the results per flow cnec. And finally we have the information of what actions were applied. Here we applied the action \"close NL2 BE3 2\" in the preventive state.\n",
    "For more information about the RaoResult, you can check this page: https://powsybl.readthedocs.io/projects/openrao/en/stable/output-data/rao-result.html"
   ],
   "metadata": {
    "collapsed": false
   }
  },
  {
   "cell_type": "markdown",
   "source": [
    "## 2 - N-1 outage overload"
   ],
   "metadata": {
    "collapsed": false
   }
  },
  {
   "cell_type": "markdown",
   "source": [
    "In this next case we added a flow cnec which limits the flow on the line NNL2AA1 and BBE3AA1 to 450MW, after the loss of the line between DDE2AA1 and DDE3AA1, at the outage instant (ie before we have the time to apply any actions - for more information about instants in OpenRAO you can check this page: https://powsybl.readthedocs.io/projects/openrao/en/stable/castor/rao-steps.html).\n",
    "This flow cnec will be overloaded even with the application of the topological action. Thankfully, we also added a preventive PST to solve the new constraint."
   ],
   "metadata": {
    "collapsed": false
   }
  },
  {
   "cell_type": "code",
   "source": [
    "# prepare inputs\n",
    "n12 = pp.network.load('./data/rao/12_node_network.uct')\n",
    "rao_runner = pp.rao.create_rao()\n",
    "rao_runner.set_crac_file_source(n12, \"./data/rao/N-1_case_crac_outage.json\")\n",
    "rao_parameters = RaoParameters()\n",
    "rao_parameters.load_from_file_source(\"./data/rao/rao_parameters.json\")\n",
    "# set up logging\n",
    "import logging\n",
    "logging.getLogger('powsybl').setLevel(logging.INFO)\n",
    "logging.basicConfig(format='%(asctime)s - %(levelname)s - %(message)s')\n",
    "#run rao\n",
    "raoResult = rao_runner.run(n12, rao_parameters)\n",
    "result_json = raoResult.to_json()"
   ],
   "metadata": {
    "collapsed": false,
    "ExecuteTime": {
     "end_time": "2025-07-30T08:35:45.593889Z",
     "start_time": "2025-07-30T08:35:45.547161Z"
    }
   },
   "outputs": [
    {
     "name": "stderr",
     "output_type": "stream",
     "text": [
      "2025-07-30 10:35:45,550 - ERROR - BBE1AA1  BBE2AA1  1 - Real line resistance cannot be negative (0.0 ohm)\n",
      "2025-07-30 10:35:45,551 - ERROR - BBE1AA1  BBE3AA1  1 - Real line resistance cannot be negative (0.0 ohm)\n",
      "2025-07-30 10:35:45,551 - ERROR - FFR1AA1  FFR2AA1  1 - Real line resistance cannot be negative (0.0 ohm)\n",
      "2025-07-30 10:35:45,551 - ERROR - FFR1AA1  FFR3AA1  1 - Real line resistance cannot be negative (0.0 ohm)\n",
      "2025-07-30 10:35:45,551 - ERROR - FFR2AA1  FFR3AA1  1 - Real line resistance cannot be negative (0.0 ohm)\n",
      "2025-07-30 10:35:45,552 - ERROR - DDE1AA1  DDE2AA1  1 - Real line resistance cannot be negative (0.0 ohm)\n",
      "2025-07-30 10:35:45,552 - ERROR - DDE1AA1  DDE3AA1  1 - Real line resistance cannot be negative (0.0 ohm)\n",
      "2025-07-30 10:35:45,552 - ERROR - DDE2AA1  DDE3AA1  1 - Real line resistance cannot be negative (0.0 ohm)\n",
      "2025-07-30 10:35:45,553 - ERROR - NNL1AA1  NNL2AA1  1 - Real line resistance cannot be negative (0.0 ohm)\n",
      "2025-07-30 10:35:45,553 - ERROR - NNL1AA1  NNL3AA1  1 - Real line resistance cannot be negative (0.0 ohm)\n",
      "2025-07-30 10:35:45,553 - ERROR - NNL2AA1  NNL3AA1  1 - Real line resistance cannot be negative (0.0 ohm)\n",
      "2025-07-30 10:35:45,553 - ERROR - FFR2AA1  DDE3AA1  1 - Real line resistance cannot be negative (0.0 ohm)\n",
      "2025-07-30 10:35:45,554 - ERROR - DDE2AA1  NNL3AA1  1 - Real line resistance cannot be negative (0.0 ohm)\n",
      "2025-07-30 10:35:45,554 - ERROR - NNL2AA1  BBE3AA1  1 - Real line resistance cannot be negative (0.0 ohm)\n",
      "2025-07-30 10:35:45,554 - ERROR - NNL2AA1  BBE3AA1  2 - Real line resistance cannot be negative (0.0 ohm)\n",
      "2025-07-30 10:35:45,554 - ERROR - NNL2AA1  BBE3AA1  3 - Real line resistance cannot be negative (0.0 ohm)\n",
      "2025-07-30 10:35:45,555 - ERROR - BBE2AA1  FFR3AA1  1 - Real line resistance cannot be negative (0.0 ohm)\n",
      "2025-07-30 10:35:45,555 - ERROR - BBE2AA1  BBE3AA1  1 - Blank is not allowed, real transformer resistance must be greater than or equal to zero (0.0 ohm)\n",
      "2025-07-30 10:35:45,555 - WARNING - BBE2AA1  BBE3AA1  1 - Blank is not allowed (0.0 S)\n",
      "2025-07-30 10:35:45,555 - WARNING - BBE2AA1  BBE3AA1  1 - Transformer shunt conductance must be greater than or equal to zero (0.0 S)\n",
      "2025-07-30 10:35:45,556 - WARNING - BBE2AA1  BBE3AA1  1 - For LTCs, transformer angle regulation voltage per tap should not be zero. Its absolute value should not be above 6 % (-0.68 %)\n",
      "2025-07-30 10:35:45,562 - WARNING - Running RAO using Open RAO version 6.6.0 from git commit 4aa4ea6cf728c58414986e13216923c054a475f8.\n",
      "2025-07-30 10:35:45,563 - WARNING - Contingency Contingency DE2 DE3 has an automaton or a curative remedial action but no CNECs associated.\n",
      "2025-07-30 10:35:45,563 - WARNING - Network {CC0 SC0}: 11 generators have been discarded from active power control because of a targetP equals 0\n",
      "2025-07-30 10:35:45,564 - WARNING - Network {CC0 SC0}: 1 generators have been discarded from active power control because of maxP not plausible\n",
      "2025-07-30 10:35:45,564 - INFO - Network {CC0 SC0} has 12 buses and 16 branches\n",
      "2025-07-30 10:35:45,564 - INFO - Network {CC0 SC0} balance: active generation=1000.0 MW, active load=1000.0 MW, reactive generation=0.0 MVar, reactive load=0.0 MVar\n",
      "2025-07-30 10:35:45,565 - INFO - Network {CC0 SC0}, slack buses are [BBE2AA1_0] (method='Most meshed bus')\n",
      "2025-07-30 10:35:45,566 - INFO - Network {CC0 SC0}, reference bus is BBE2AA1_0 (method='First slack')\n",
      "2025-07-30 10:35:45,566 - INFO - Running AC sensitivity analysis with 4 factors and 1 contingencies\n",
      "2025-07-30 10:35:45,566 - INFO - Start AC loadflow on network {CC0 SC0}\n",
      "2025-07-30 10:35:45,567 - INFO - AC loadflow complete on network {CC0 SC0} (result=AcLoadFlowResult(outerLoopIterations=0, newtonRaphsonIterations=2, solverStatus=CONVERGED, outerLoopStatus=STABLE, slackBusActivePowerMismatch=-0.002028186046532099, distributedActivePower=0.0))\n",
      "2025-07-30 10:35:45,567 - INFO - Simulate contingency 'Contingency DE2 DE3'\n",
      "2025-07-30 10:35:45,568 - INFO - Start AC loadflow on network {CC0 SC0}\n",
      "2025-07-30 10:35:45,568 - INFO - AC loadflow complete on network {CC0 SC0} (result=AcLoadFlowResult(outerLoopIterations=0, newtonRaphsonIterations=1, solverStatus=CONVERGED, outerLoopStatus=STABLE, slackBusActivePowerMismatch=-0.004776402772810329, distributedActivePower=0.0))\n",
      "2025-07-30 10:35:45,568 - INFO - Initial sensitivity analysis: cost = 133.3 (functional: 133.3, virtual: 0.0)\n",
      "2025-07-30 10:35:45,569 - INFO - Limiting element #01: margin = -133.3 MW, element NNL2AA1  BBE3AA1  1 at state Contingency DE2 DE3 - outage, CNEC ID = \"NNL2AA1  BBE3AA1  1 - Contingency DE2 DE3 - outage\"\n",
      "2025-07-30 10:35:45,569 - INFO - Limiting element #02: margin = -90.0 MW, element NNL2AA1  BBE3AA1  1 at state preventive, CNEC ID = \"NNL2AA1  BBE3AA1  1 - preventive\"\n",
      "2025-07-30 10:35:45,569 - INFO - ----- Preventive perimeter optimization [start]\n",
      "2025-07-30 10:35:45,569 - INFO - Root leaf, cost: 133.3 (functional: 133.3, virtual: 0.0)\n",
      "2025-07-30 10:35:45,570 - INFO - Limiting element #01: margin = -133.3 MW, element NNL2AA1  BBE3AA1  1 at state Contingency DE2 DE3 - outage, CNEC ID = \"NNL2AA1  BBE3AA1  1 - Contingency DE2 DE3 - outage\"\n",
      "2025-07-30 10:35:45,570 - INFO - Limiting element #02: margin = -90.0 MW, element NNL2AA1  BBE3AA1  1 at state preventive, CNEC ID = \"NNL2AA1  BBE3AA1  1 - preventive\"\n",
      "2025-07-30 10:35:45,570 - INFO - Linear optimization on root leaf\n",
      "2025-07-30 10:35:45,572 - WARNING - Network {CC0 SC0}: 11 generators have been discarded from active power control because of a targetP equals 0\n",
      "2025-07-30 10:35:45,572 - WARNING - Network {CC0 SC0}: 1 generators have been discarded from active power control because of maxP not plausible\n",
      "2025-07-30 10:35:45,573 - INFO - Network {CC0 SC0} has 12 buses and 16 branches\n",
      "2025-07-30 10:35:45,573 - INFO - Network {CC0 SC0} balance: active generation=1000.0 MW, active load=1000.0 MW, reactive generation=0.0 MVar, reactive load=0.0 MVar\n",
      "2025-07-30 10:35:45,574 - INFO - Network {CC0 SC0}, slack buses are [BBE2AA1_0] (method='Most meshed bus')\n",
      "2025-07-30 10:35:45,574 - INFO - Network {CC0 SC0}, reference bus is BBE2AA1_0 (method='First slack')\n",
      "2025-07-30 10:35:45,575 - INFO - Running AC sensitivity analysis with 4 factors and 1 contingencies\n",
      "2025-07-30 10:35:45,575 - INFO - Start AC loadflow on network {CC0 SC0}\n",
      "2025-07-30 10:35:45,576 - INFO - AC loadflow complete on network {CC0 SC0} (result=AcLoadFlowResult(outerLoopIterations=0, newtonRaphsonIterations=2, solverStatus=CONVERGED, outerLoopStatus=STABLE, slackBusActivePowerMismatch=7.257322425457957E-4, distributedActivePower=0.0))\n",
      "2025-07-30 10:35:45,576 - INFO - Simulate contingency 'Contingency DE2 DE3'\n",
      "2025-07-30 10:35:45,576 - INFO - Start AC loadflow on network {CC0 SC0}\n",
      "2025-07-30 10:35:45,577 - INFO - AC loadflow complete on network {CC0 SC0} (result=AcLoadFlowResult(outerLoopIterations=0, newtonRaphsonIterations=2, solverStatus=CONVERGED, outerLoopStatus=STABLE, slackBusActivePowerMismatch=-4.960476474025199E-10, distributedActivePower=0.0))\n",
      "2025-07-30 10:35:45,577 - INFO - Iteration 1: better solution found with a cost of 42.72 (functional: 42.72)\n",
      "2025-07-30 10:35:45,578 - INFO - Iteration 2: same results as previous iterations, optimal solution found\n",
      "2025-07-30 10:35:45,578 - INFO - Root leaf, 1 range action(s) activated, cost: 42.72 (functional: 42.72, virtual: 0.0)\n",
      "2025-07-30 10:35:45,579 - INFO - range action(s): pst-range-action: -10\n",
      "2025-07-30 10:35:45,579 - INFO - Limiting element #01: margin = -42.72 MW, element NNL2AA1  BBE3AA1  1 at state Contingency DE2 DE3 - outage, CNEC ID = \"NNL2AA1  BBE3AA1  1 - Contingency DE2 DE3 - outage\"\n",
      "2025-07-30 10:35:45,579 - INFO - Limiting element #02: margin = 18.73 MW, element NNL2AA1  BBE3AA1  1 at state preventive, CNEC ID = \"NNL2AA1  BBE3AA1  1 - preventive\"\n",
      "2025-07-30 10:35:45,580 - INFO - Using base network '12_node_network' on variant 'SearchTreeWorkingVariantId'\n",
      "2025-07-30 10:35:45,580 - INFO - Search depth 1 [start]\n",
      "2025-07-30 10:35:45,580 - INFO - Leaves to evaluate: 1\n",
      "2025-07-30 10:35:45,580 - INFO - Connectable NNL2AA1  BBE3AA1  2 has been connected on each side.\n",
      "2025-07-30 10:35:45,581 - WARNING - Network {CC0 SC0}: 11 generators have been discarded from active power control because of a targetP equals 0\n",
      "2025-07-30 10:35:45,582 - WARNING - Network {CC0 SC0}: 1 generators have been discarded from active power control because of maxP not plausible\n",
      "2025-07-30 10:35:45,582 - INFO - Network {CC0 SC0} has 12 buses and 17 branches\n",
      "2025-07-30 10:35:45,583 - INFO - Network {CC0 SC0} balance: active generation=1000.0 MW, active load=1000.0 MW, reactive generation=0.0 MVar, reactive load=0.0 MVar\n",
      "2025-07-30 10:35:45,583 - INFO - Network {CC0 SC0}, slack buses are [BBE2AA1_1] (method='Most meshed bus')\n",
      "2025-07-30 10:35:45,583 - INFO - Network {CC0 SC0}, reference bus is BBE2AA1_1 (method='First slack')\n",
      "2025-07-30 10:35:45,584 - INFO - Running AC sensitivity analysis with 4 factors and 1 contingencies\n",
      "2025-07-30 10:35:45,584 - INFO - Start AC loadflow on network {CC0 SC0}\n",
      "2025-07-30 10:35:45,585 - INFO - AC loadflow complete on network {CC0 SC0} (result=AcLoadFlowResult(outerLoopIterations=0, newtonRaphsonIterations=2, solverStatus=CONVERGED, outerLoopStatus=STABLE, slackBusActivePowerMismatch=-0.002408294433209335, distributedActivePower=0.0))\n",
      "2025-07-30 10:35:45,585 - INFO - Simulate contingency 'Contingency DE2 DE3'\n",
      "2025-07-30 10:35:45,585 - INFO - Start AC loadflow on network {CC0 SC0}\n",
      "2025-07-30 10:35:45,586 - INFO - AC loadflow complete on network {CC0 SC0} (result=AcLoadFlowResult(outerLoopIterations=0, newtonRaphsonIterations=2, solverStatus=CONVERGED, outerLoopStatus=STABLE, slackBusActivePowerMismatch=4.3076653355456074E-11, distributedActivePower=0.0))\n",
      "2025-07-30 10:35:45,586 - INFO - Evaluated network action(s): close NL2 BE3 2, cost: -187.22 (functional: -187.22, virtual: 0.0)\n",
      "2025-07-30 10:35:45,587 - INFO - Optimized network action(s): close NL2 BE3 2, cost: -187.22 (functional: -187.22, virtual: 0.0)\n",
      "2025-07-30 10:35:45,587 - INFO - Stop criterion reached, other threads may skip optimization.\n",
      "2025-07-30 10:35:45,587 - INFO - Remaining leaves to evaluate: 0\n",
      "2025-07-30 10:35:45,588 - INFO - Search depth 1 [end]\n",
      "2025-07-30 10:35:45,588 - INFO - Search depth 1 best leaf: network action(s): close NL2 BE3 2, cost: -187.22 (functional: -187.22, virtual: 0.0)\n",
      "2025-07-30 10:35:45,588 - INFO - Search depth 1 best leaf: range action(s): pst-range-action: -10\n",
      "2025-07-30 10:35:45,588 - INFO - Limiting element #01: margin = 187.22 MW, element NNL2AA1  BBE3AA1  1 at state Contingency DE2 DE3 - outage, CNEC ID = \"NNL2AA1  BBE3AA1  1 - Contingency DE2 DE3 - outage\"\n",
      "2025-07-30 10:35:45,589 - INFO - Limiting element #02: margin = 198.5 MW, element NNL2AA1  BBE3AA1  1 at state preventive, CNEC ID = \"NNL2AA1  BBE3AA1  1 - preventive\"\n",
      "2025-07-30 10:35:45,589 - INFO - Search-tree RAO completed with status DEFAULT\n",
      "2025-07-30 10:35:45,589 - INFO - Best leaf: network action(s): close NL2 BE3 2, cost: -187.22 (functional: -187.22, virtual: 0.0)\n",
      "2025-07-30 10:35:45,589 - INFO - Best leaf: range action(s): pst-range-action: -10\n",
      "2025-07-30 10:35:45,590 - INFO - Limiting element #01: margin = 187.22 MW, element NNL2AA1  BBE3AA1  1 at state Contingency DE2 DE3 - outage, CNEC ID = \"NNL2AA1  BBE3AA1  1 - Contingency DE2 DE3 - outage\"\n",
      "2025-07-30 10:35:45,590 - INFO - Limiting element #02: margin = 198.5 MW, element NNL2AA1  BBE3AA1  1 at state preventive, CNEC ID = \"NNL2AA1  BBE3AA1  1 - preventive\"\n",
      "2025-07-30 10:35:45,590 - INFO - Scenario \"preventive\": initial cost = 133.3 (functional: 133.3, virtual: 0.0), 1 network action(s) and 1 range action(s) activated : close NL2 BE3 2 and pst-range-action: -10, cost after preventive optimization = -187.22 (functional: -187.22, virtual: 0.0)\n",
      "2025-07-30 10:35:45,590 - INFO - Connectable NNL2AA1  BBE3AA1  2 has been connected on each side.\n",
      "2025-07-30 10:35:45,591 - INFO - ----- Preventive perimeter optimization [end]\n",
      "2025-07-30 10:35:45,591 - INFO - Limiting element #01: margin = 187.22 MW, element NNL2AA1  BBE3AA1  1 at state Contingency DE2 DE3 - outage, CNEC ID = \"NNL2AA1  BBE3AA1  1 - Contingency DE2 DE3 - outage\"\n",
      "2025-07-30 10:35:45,592 - INFO - Limiting element #02: margin = 198.5 MW, element NNL2AA1  BBE3AA1  1 at state preventive, CNEC ID = \"NNL2AA1  BBE3AA1  1 - preventive\"\n",
      "2025-07-30 10:35:45,592 - INFO - Cost before RAO = 133.3 (functional: 133.3, virtual: 0.0), cost after RAO = -187.22 (functional: -187.22, virtual: 0.0)\n"
     ]
    }
   ],
   "execution_count": 9
  },
  {
   "cell_type": "code",
   "source": [
    "result_json"
   ],
   "metadata": {
    "collapsed": false,
    "ExecuteTime": {
     "end_time": "2025-07-30T08:35:45.641696Z",
     "start_time": "2025-07-30T08:35:45.638018Z"
    }
   },
   "outputs": [
    {
     "data": {
      "text/plain": [
       "{'type': 'RAO_RESULT',\n",
       " 'version': '1.8',\n",
       " 'info': 'Generated by Open RAO https://powsybl.readthedocs.io/projects/openrao',\n",
       " 'computationStatus': 'default',\n",
       " 'executionDetails': 'The RAO only went through first preventive',\n",
       " 'costResults': {'initial': {'functionalCost': 133.3,\n",
       "   'virtualCost': {'sensitivity-failure-cost': 0.0}},\n",
       "  'preventive': {'functionalCost': -187.22,\n",
       "   'virtualCost': {'sensitivity-failure-cost': 0.0}},\n",
       "  'outage': {'functionalCost': -187.22,\n",
       "   'virtualCost': {'sensitivity-failure-cost': 0.0}},\n",
       "  'curative': {'functionalCost': -187.22,\n",
       "   'virtualCost': {'sensitivity-failure-cost': 0.0}}},\n",
       " 'computationStatusMap': [],\n",
       " 'flowCnecResults': [{'flowCnecId': 'NNL2AA1  BBE3AA1  1 - Contingency DE2 DE3 - outage',\n",
       "   'initial': {'ampere': {'margin': -192.55, 'side1': {'flow': 842.07}},\n",
       "    'megawatt': {'margin': -133.3, 'side1': {'flow': 583.3}}},\n",
       "   'preventive': {'ampere': {'margin': 270.21, 'side1': {'flow': 379.3}},\n",
       "    'megawatt': {'margin': 187.22, 'side1': {'flow': 262.78}}}},\n",
       "  {'flowCnecId': 'NNL2AA1  BBE3AA1  1 - preventive',\n",
       "   'initial': {'ampere': {'margin': -129.99, 'side1': {'flow': 721.77}},\n",
       "    'megawatt': {'margin': -90.0, 'side1': {'flow': 500.0}}},\n",
       "   'preventive': {'ampere': {'margin': 286.51, 'side1': {'flow': 305.28}},\n",
       "    'megawatt': {'margin': 198.5, 'side1': {'flow': 211.5}}}}],\n",
       " 'angleCnecResults': [],\n",
       " 'voltageCnecResults': [],\n",
       " 'networkActionResults': [{'networkActionId': 'close NL2 BE3 2',\n",
       "   'activatedStates': [{'instant': 'preventive'}]}],\n",
       " 'rangeActionResults': [{'rangeActionId': 'pst-range-action',\n",
       "   'initialTap': 0,\n",
       "   'activatedStates': [{'instant': 'preventive', 'tap': -10}]}]}"
      ]
     },
     "execution_count": 10,
     "metadata": {},
     "output_type": "execute_result"
    }
   ],
   "execution_count": 10
  },
  {
   "cell_type": "markdown",
   "source": [
    "This time the initial worse overload was 133MW on the outage cnec. If you check the logs carefully (currently we cannot separate the OLF logs from the OpenRAO logs in pypowsybl which makes it a bit hard to read), you can see that we initially tried to solve the constraints with just the PST (root leaf), and still had an overload of 42MW.\n",
    "Then we tried applying the topological action and reoptimized the pst, and ended up with a worst margin of 187MW!  "
   ],
   "metadata": {
    "collapsed": false
   }
  },
  {
   "cell_type": "markdown",
   "source": [
    "## 3 - N-1 curative overload"
   ],
   "metadata": {
    "collapsed": false
   }
  },
  {
   "cell_type": "markdown",
   "source": [
    "In this final case, we will also check the flow on line BE1 BE2, but this time at the curative instant. We will change the usage rule on the PST to be able to move it in curative to be able to solve the new constraint we have on the line."
   ],
   "metadata": {
    "collapsed": false
   }
  },
  {
   "cell_type": "code",
   "source": [
    "# prepare inputs\n",
    "n12 = pp.network.load('./data/rao/12_node_network.uct')\n",
    "rao_runner = pp.rao.create_rao()\n",
    "rao_runner.set_crac_file_source(n12, \"./data/rao/N-1_case_crac_curative.json\")\n",
    "rao_parameters = RaoParameters()\n",
    "rao_parameters.load_from_file_source(\"./data/rao/rao_parameters.json\")\n",
    "# set up logging\n",
    "import logging\n",
    "logging.getLogger('powsybl').setLevel(logging.INFO)\n",
    "logging.basicConfig(format='%(asctime)s - %(levelname)s - %(message)s')\n",
    "#run rao\n",
    "raoResult = rao_runner.run(n12, rao_parameters)\n",
    "result_json = raoResult.to_json()"
   ],
   "metadata": {
    "collapsed": false,
    "ExecuteTime": {
     "end_time": "2025-07-30T08:35:45.762076Z",
     "start_time": "2025-07-30T08:35:45.701006Z"
    }
   },
   "outputs": [
    {
     "name": "stderr",
     "output_type": "stream",
     "text": [
      "2025-07-30 10:35:45,703 - ERROR - BBE1AA1  BBE2AA1  1 - Real line resistance cannot be negative (0.0 ohm)\n",
      "2025-07-30 10:35:45,704 - ERROR - BBE1AA1  BBE3AA1  1 - Real line resistance cannot be negative (0.0 ohm)\n",
      "2025-07-30 10:35:45,704 - ERROR - FFR1AA1  FFR2AA1  1 - Real line resistance cannot be negative (0.0 ohm)\n",
      "2025-07-30 10:35:45,704 - ERROR - FFR1AA1  FFR3AA1  1 - Real line resistance cannot be negative (0.0 ohm)\n",
      "2025-07-30 10:35:45,705 - ERROR - FFR2AA1  FFR3AA1  1 - Real line resistance cannot be negative (0.0 ohm)\n",
      "2025-07-30 10:35:45,705 - ERROR - DDE1AA1  DDE2AA1  1 - Real line resistance cannot be negative (0.0 ohm)\n",
      "2025-07-30 10:35:45,705 - ERROR - DDE1AA1  DDE3AA1  1 - Real line resistance cannot be negative (0.0 ohm)\n",
      "2025-07-30 10:35:45,705 - ERROR - DDE2AA1  DDE3AA1  1 - Real line resistance cannot be negative (0.0 ohm)\n",
      "2025-07-30 10:35:45,706 - ERROR - NNL1AA1  NNL2AA1  1 - Real line resistance cannot be negative (0.0 ohm)\n",
      "2025-07-30 10:35:45,706 - ERROR - NNL1AA1  NNL3AA1  1 - Real line resistance cannot be negative (0.0 ohm)\n",
      "2025-07-30 10:35:45,706 - ERROR - NNL2AA1  NNL3AA1  1 - Real line resistance cannot be negative (0.0 ohm)\n",
      "2025-07-30 10:35:45,706 - ERROR - FFR2AA1  DDE3AA1  1 - Real line resistance cannot be negative (0.0 ohm)\n",
      "2025-07-30 10:35:45,706 - ERROR - DDE2AA1  NNL3AA1  1 - Real line resistance cannot be negative (0.0 ohm)\n",
      "2025-07-30 10:35:45,707 - ERROR - NNL2AA1  BBE3AA1  1 - Real line resistance cannot be negative (0.0 ohm)\n",
      "2025-07-30 10:35:45,707 - ERROR - NNL2AA1  BBE3AA1  2 - Real line resistance cannot be negative (0.0 ohm)\n",
      "2025-07-30 10:35:45,707 - ERROR - NNL2AA1  BBE3AA1  3 - Real line resistance cannot be negative (0.0 ohm)\n",
      "2025-07-30 10:35:45,707 - ERROR - BBE2AA1  FFR3AA1  1 - Real line resistance cannot be negative (0.0 ohm)\n",
      "2025-07-30 10:35:45,708 - ERROR - BBE2AA1  BBE3AA1  1 - Blank is not allowed, real transformer resistance must be greater than or equal to zero (0.0 ohm)\n",
      "2025-07-30 10:35:45,708 - WARNING - BBE2AA1  BBE3AA1  1 - Blank is not allowed (0.0 S)\n",
      "2025-07-30 10:35:45,708 - WARNING - BBE2AA1  BBE3AA1  1 - Transformer shunt conductance must be greater than or equal to zero (0.0 S)\n",
      "2025-07-30 10:35:45,708 - WARNING - BBE2AA1  BBE3AA1  1 - For LTCs, transformer angle regulation voltage per tap should not be zero. Its absolute value should not be above 6 % (-0.68 %)\n",
      "2025-07-30 10:35:45,713 - WARNING - Running RAO using Open RAO version 6.6.0 from git commit 4aa4ea6cf728c58414986e13216923c054a475f8.\n",
      "2025-07-30 10:35:45,714 - WARNING - Network {CC0 SC0}: 11 generators have been discarded from active power control because of a targetP equals 0\n",
      "2025-07-30 10:35:45,714 - WARNING - Network {CC0 SC0}: 1 generators have been discarded from active power control because of maxP not plausible\n",
      "2025-07-30 10:35:45,715 - INFO - Network {CC0 SC0} has 12 buses and 16 branches\n",
      "2025-07-30 10:35:45,715 - INFO - Network {CC0 SC0} balance: active generation=1000.0 MW, active load=1000.0 MW, reactive generation=0.0 MVar, reactive load=0.0 MVar\n",
      "2025-07-30 10:35:45,716 - INFO - Network {CC0 SC0}, slack buses are [BBE2AA1_0] (method='Most meshed bus')\n",
      "2025-07-30 10:35:45,716 - INFO - Network {CC0 SC0}, reference bus is BBE2AA1_0 (method='First slack')\n",
      "2025-07-30 10:35:45,716 - INFO - Running AC sensitivity analysis with 6 factors and 1 contingencies\n",
      "2025-07-30 10:35:45,717 - INFO - Start AC loadflow on network {CC0 SC0}\n",
      "2025-07-30 10:35:45,717 - INFO - AC loadflow complete on network {CC0 SC0} (result=AcLoadFlowResult(outerLoopIterations=0, newtonRaphsonIterations=2, solverStatus=CONVERGED, outerLoopStatus=STABLE, slackBusActivePowerMismatch=-0.002028186046532099, distributedActivePower=0.0))\n",
      "2025-07-30 10:35:45,717 - INFO - Simulate contingency 'Contingency DE2 DE3'\n",
      "2025-07-30 10:35:45,718 - INFO - Start AC loadflow on network {CC0 SC0}\n",
      "2025-07-30 10:35:45,718 - INFO - AC loadflow complete on network {CC0 SC0} (result=AcLoadFlowResult(outerLoopIterations=0, newtonRaphsonIterations=1, solverStatus=CONVERGED, outerLoopStatus=STABLE, slackBusActivePowerMismatch=-0.004776402772810329, distributedActivePower=0.0))\n",
      "2025-07-30 10:35:45,718 - INFO - Initial sensitivity analysis: cost = 133.3 (functional: 133.3, virtual: 0.0)\n",
      "2025-07-30 10:35:45,719 - INFO - Limiting element #01: margin = -133.3 MW, element NNL2AA1  BBE3AA1  1 at state Contingency DE2 DE3 - outage, CNEC ID = \"NNL2AA1  BBE3AA1  1 - Contingency DE2 DE3 - outage\"\n",
      "2025-07-30 10:35:45,719 - INFO - Limiting element #02: margin = -90.0 MW, element NNL2AA1  BBE3AA1  1 at state preventive, CNEC ID = \"NNL2AA1  BBE3AA1  1 - preventive\"\n",
      "2025-07-30 10:35:45,719 - INFO - ----- Preventive perimeter optimization [start]\n",
      "2025-07-30 10:35:45,720 - INFO - Root leaf, cost: 133.3 (functional: 133.3, virtual: 0.0)\n",
      "2025-07-30 10:35:45,720 - INFO - Limiting element #01: margin = -133.3 MW, element NNL2AA1  BBE3AA1  1 at state Contingency DE2 DE3 - outage, CNEC ID = \"NNL2AA1  BBE3AA1  1 - Contingency DE2 DE3 - outage\"\n",
      "2025-07-30 10:35:45,720 - INFO - Limiting element #02: margin = -90.0 MW, element NNL2AA1  BBE3AA1  1 at state preventive, CNEC ID = \"NNL2AA1  BBE3AA1  1 - preventive\"\n",
      "2025-07-30 10:35:45,720 - INFO - Linear optimization on root leaf\n",
      "2025-07-30 10:35:45,722 - WARNING - Network {CC0 SC0}: 11 generators have been discarded from active power control because of a targetP equals 0\n",
      "2025-07-30 10:35:45,723 - WARNING - Network {CC0 SC0}: 1 generators have been discarded from active power control because of maxP not plausible\n",
      "2025-07-30 10:35:45,723 - INFO - Network {CC0 SC0} has 12 buses and 16 branches\n",
      "2025-07-30 10:35:45,723 - INFO - Network {CC0 SC0} balance: active generation=1000.0 MW, active load=1000.0 MW, reactive generation=0.0 MVar, reactive load=0.0 MVar\n",
      "2025-07-30 10:35:45,723 - INFO - Network {CC0 SC0}, slack buses are [BBE2AA1_0] (method='Most meshed bus')\n",
      "2025-07-30 10:35:45,724 - INFO - Network {CC0 SC0}, reference bus is BBE2AA1_0 (method='First slack')\n",
      "2025-07-30 10:35:45,724 - INFO - Running AC sensitivity analysis with 4 factors and 1 contingencies\n",
      "2025-07-30 10:35:45,724 - INFO - Start AC loadflow on network {CC0 SC0}\n",
      "2025-07-30 10:35:45,725 - INFO - AC loadflow complete on network {CC0 SC0} (result=AcLoadFlowResult(outerLoopIterations=0, newtonRaphsonIterations=2, solverStatus=CONVERGED, outerLoopStatus=STABLE, slackBusActivePowerMismatch=7.257322425457957E-4, distributedActivePower=0.0))\n",
      "2025-07-30 10:35:45,725 - INFO - Simulate contingency 'Contingency DE2 DE3'\n",
      "2025-07-30 10:35:45,725 - INFO - Start AC loadflow on network {CC0 SC0}\n",
      "2025-07-30 10:35:45,726 - INFO - AC loadflow complete on network {CC0 SC0} (result=AcLoadFlowResult(outerLoopIterations=0, newtonRaphsonIterations=2, solverStatus=CONVERGED, outerLoopStatus=STABLE, slackBusActivePowerMismatch=-4.960476474025199E-10, distributedActivePower=0.0))\n",
      "2025-07-30 10:35:45,726 - INFO - Iteration 1: better solution found with a cost of 42.72 (functional: 42.72)\n",
      "2025-07-30 10:35:45,727 - INFO - Iteration 2: same results as previous iterations, optimal solution found\n",
      "2025-07-30 10:35:45,728 - INFO - Root leaf, 1 range action(s) activated, cost: 42.72 (functional: 42.72, virtual: 0.0)\n",
      "2025-07-30 10:35:45,728 - INFO - range action(s): pst-range-action: -10\n",
      "2025-07-30 10:35:45,729 - INFO - Limiting element #01: margin = -42.72 MW, element NNL2AA1  BBE3AA1  1 at state Contingency DE2 DE3 - outage, CNEC ID = \"NNL2AA1  BBE3AA1  1 - Contingency DE2 DE3 - outage\"\n",
      "2025-07-30 10:35:45,729 - INFO - Limiting element #02: margin = 18.73 MW, element NNL2AA1  BBE3AA1  1 at state preventive, CNEC ID = \"NNL2AA1  BBE3AA1  1 - preventive\"\n",
      "2025-07-30 10:35:45,729 - INFO - Using base network '12_node_network' on variant 'SearchTreeWorkingVariantId'\n",
      "2025-07-30 10:35:45,729 - INFO - Search depth 1 [start]\n",
      "2025-07-30 10:35:45,730 - INFO - Leaves to evaluate: 1\n",
      "2025-07-30 10:35:45,730 - INFO - Connectable NNL2AA1  BBE3AA1  2 has been connected on each side.\n",
      "2025-07-30 10:35:45,731 - WARNING - Network {CC0 SC0}: 11 generators have been discarded from active power control because of a targetP equals 0\n",
      "2025-07-30 10:35:45,732 - WARNING - Network {CC0 SC0}: 1 generators have been discarded from active power control because of maxP not plausible\n",
      "2025-07-30 10:35:45,732 - INFO - Network {CC0 SC0} has 12 buses and 17 branches\n",
      "2025-07-30 10:35:45,732 - INFO - Network {CC0 SC0} balance: active generation=1000.0 MW, active load=1000.0 MW, reactive generation=0.0 MVar, reactive load=0.0 MVar\n",
      "2025-07-30 10:35:45,733 - INFO - Network {CC0 SC0}, slack buses are [BBE2AA1_1] (method='Most meshed bus')\n",
      "2025-07-30 10:35:45,733 - INFO - Network {CC0 SC0}, reference bus is BBE2AA1_1 (method='First slack')\n",
      "2025-07-30 10:35:45,733 - INFO - Running AC sensitivity analysis with 4 factors and 1 contingencies\n",
      "2025-07-30 10:35:45,734 - INFO - Start AC loadflow on network {CC0 SC0}\n",
      "2025-07-30 10:35:45,734 - INFO - AC loadflow complete on network {CC0 SC0} (result=AcLoadFlowResult(outerLoopIterations=0, newtonRaphsonIterations=2, solverStatus=CONVERGED, outerLoopStatus=STABLE, slackBusActivePowerMismatch=-0.002408294433209335, distributedActivePower=0.0))\n",
      "2025-07-30 10:35:45,735 - INFO - Simulate contingency 'Contingency DE2 DE3'\n",
      "2025-07-30 10:35:45,735 - INFO - Start AC loadflow on network {CC0 SC0}\n",
      "2025-07-30 10:35:45,735 - INFO - AC loadflow complete on network {CC0 SC0} (result=AcLoadFlowResult(outerLoopIterations=0, newtonRaphsonIterations=2, solverStatus=CONVERGED, outerLoopStatus=STABLE, slackBusActivePowerMismatch=4.3076653355456074E-11, distributedActivePower=0.0))\n",
      "2025-07-30 10:35:45,736 - INFO - Evaluated network action(s): close NL2 BE3 2, cost: -187.22 (functional: -187.22, virtual: 0.0)\n",
      "2025-07-30 10:35:45,736 - INFO - Optimized network action(s): close NL2 BE3 2, cost: -187.22 (functional: -187.22, virtual: 0.0)\n",
      "2025-07-30 10:35:45,737 - INFO - Stop criterion reached, other threads may skip optimization.\n",
      "2025-07-30 10:35:45,737 - INFO - Remaining leaves to evaluate: 0\n",
      "2025-07-30 10:35:45,738 - INFO - Search depth 1 [end]\n",
      "2025-07-30 10:35:45,738 - INFO - Search depth 1 best leaf: network action(s): close NL2 BE3 2, cost: -187.22 (functional: -187.22, virtual: 0.0)\n",
      "2025-07-30 10:35:45,738 - INFO - Search depth 1 best leaf: range action(s): pst-range-action: -10\n",
      "2025-07-30 10:35:45,738 - INFO - Limiting element #01: margin = 187.22 MW, element NNL2AA1  BBE3AA1  1 at state Contingency DE2 DE3 - outage, CNEC ID = \"NNL2AA1  BBE3AA1  1 - Contingency DE2 DE3 - outage\"\n",
      "2025-07-30 10:35:45,739 - INFO - Limiting element #02: margin = 198.5 MW, element NNL2AA1  BBE3AA1  1 at state preventive, CNEC ID = \"NNL2AA1  BBE3AA1  1 - preventive\"\n",
      "2025-07-30 10:35:45,739 - INFO - Search-tree RAO completed with status DEFAULT\n",
      "2025-07-30 10:35:45,739 - INFO - Best leaf: network action(s): close NL2 BE3 2, cost: -187.22 (functional: -187.22, virtual: 0.0)\n",
      "2025-07-30 10:35:45,739 - INFO - Best leaf: range action(s): pst-range-action: -10\n",
      "2025-07-30 10:35:45,739 - INFO - Limiting element #01: margin = 187.22 MW, element NNL2AA1  BBE3AA1  1 at state Contingency DE2 DE3 - outage, CNEC ID = \"NNL2AA1  BBE3AA1  1 - Contingency DE2 DE3 - outage\"\n",
      "2025-07-30 10:35:45,740 - INFO - Limiting element #02: margin = 198.5 MW, element NNL2AA1  BBE3AA1  1 at state preventive, CNEC ID = \"NNL2AA1  BBE3AA1  1 - preventive\"\n",
      "2025-07-30 10:35:45,740 - INFO - Scenario \"preventive\": initial cost = 133.3 (functional: 133.3, virtual: 0.0), 1 network action(s) and 1 range action(s) activated : close NL2 BE3 2 and pst-range-action: -10, cost after preventive optimization = -187.22 (functional: -187.22, virtual: 0.0)\n",
      "2025-07-30 10:35:45,740 - INFO - Connectable NNL2AA1  BBE3AA1  2 has been connected on each side.\n",
      "2025-07-30 10:35:45,740 - INFO - ----- Preventive perimeter optimization [end]\n",
      "2025-07-30 10:35:45,741 - INFO - Connectable NNL2AA1  BBE3AA1  2 has been connected on each side.\n",
      "2025-07-30 10:35:45,741 - WARNING - Network {CC0 SC0}: 11 generators have been discarded from active power control because of a targetP equals 0\n",
      "2025-07-30 10:35:45,742 - WARNING - Network {CC0 SC0}: 1 generators have been discarded from active power control because of maxP not plausible\n",
      "2025-07-30 10:35:45,742 - INFO - Network {CC0 SC0} has 12 buses and 17 branches\n",
      "2025-07-30 10:35:45,742 - INFO - Network {CC0 SC0} balance: active generation=1000.0 MW, active load=1000.0 MW, reactive generation=0.0 MVar, reactive load=0.0 MVar\n",
      "2025-07-30 10:35:45,743 - INFO - Network {CC0 SC0}, slack buses are [BBE2AA1_1] (method='Most meshed bus')\n",
      "2025-07-30 10:35:45,743 - INFO - Network {CC0 SC0}, reference bus is BBE2AA1_1 (method='First slack')\n",
      "2025-07-30 10:35:45,743 - INFO - Running AC sensitivity analysis with 6 factors and 1 contingencies\n",
      "2025-07-30 10:35:45,744 - INFO - Start AC loadflow on network {CC0 SC0}\n",
      "2025-07-30 10:35:45,744 - INFO - AC loadflow complete on network {CC0 SC0} (result=AcLoadFlowResult(outerLoopIterations=0, newtonRaphsonIterations=2, solverStatus=CONVERGED, outerLoopStatus=STABLE, slackBusActivePowerMismatch=-0.002408294433209335, distributedActivePower=0.0))\n",
      "2025-07-30 10:35:45,744 - INFO - Simulate contingency 'Contingency DE2 DE3'\n",
      "2025-07-30 10:35:45,745 - INFO - Start AC loadflow on network {CC0 SC0}\n",
      "2025-07-30 10:35:45,745 - INFO - AC loadflow complete on network {CC0 SC0} (result=AcLoadFlowResult(outerLoopIterations=0, newtonRaphsonIterations=2, solverStatus=CONVERGED, outerLoopStatus=STABLE, slackBusActivePowerMismatch=4.3076653355456074E-11, distributedActivePower=0.0))\n",
      "2025-07-30 10:35:45,746 - INFO - Systematic sensitivity analysis after preventive remedial actions: cost = 237.65 (functional: 237.65, virtual: 0.0)\n",
      "2025-07-30 10:35:45,746 - INFO - Limiting element #01: margin = -237.65 MW, element BBE1AA1  BBE2AA1  1 at state Contingency DE2 DE3 - curative, CNEC ID = \"BBE1AA1  BBE2AA1  1 - Contingency DE2 DE3 - curative\"\n",
      "2025-07-30 10:35:45,746 - INFO - Limiting element #02: margin = 187.22 MW, element NNL2AA1  BBE3AA1  1 at state Contingency DE2 DE3 - outage, CNEC ID = \"NNL2AA1  BBE3AA1  1 - Contingency DE2 DE3 - outage\"\n",
      "2025-07-30 10:35:45,746 - INFO - ----- Post-contingency perimeters optimization [start]\n",
      "2025-07-30 10:35:45,747 - INFO - Using base network '12_node_network' on variant 'ContingencyScenario1d5c7599-a0cc-4463-90bc-c801dbc88b9a'\n",
      "2025-07-30 10:35:45,747 - INFO - Optimizing scenario post-contingency Contingency DE2 DE3.\n",
      "2025-07-30 10:35:45,747 - INFO - Optimizing curative state Contingency DE2 DE3 - curative.\n",
      "2025-07-30 10:35:45,748 - INFO - Root leaf, cost: 237.65 (functional: 237.65, virtual: 0.0)\n",
      "2025-07-30 10:35:45,748 - INFO - Limiting element #01: margin = -237.65 MW, element BBE1AA1  BBE2AA1  1 at state Contingency DE2 DE3 - curative, CNEC ID = \"BBE1AA1  BBE2AA1  1 - Contingency DE2 DE3 - curative\"\n",
      "2025-07-30 10:35:45,749 - INFO - Linear optimization on root leaf\n",
      "2025-07-30 10:35:45,751 - WARNING - Network {CC0 SC0}: 11 generators have been discarded from active power control because of a targetP equals 0\n",
      "2025-07-30 10:35:45,751 - WARNING - Network {CC0 SC0}: 1 generators have been discarded from active power control because of maxP not plausible\n",
      "2025-07-30 10:35:45,751 - INFO - Network {CC0 SC0} has 12 buses and 17 branches\n",
      "2025-07-30 10:35:45,752 - INFO - Network {CC0 SC0} balance: active generation=1000.0 MW, active load=1000.0 MW, reactive generation=0.0 MVar, reactive load=0.0 MVar\n",
      "2025-07-30 10:35:45,752 - INFO - Network {CC0 SC0}, slack buses are [BBE2AA1_1] (method='Most meshed bus')\n",
      "2025-07-30 10:35:45,752 - INFO - Network {CC0 SC0}, reference bus is BBE2AA1_1 (method='First slack')\n",
      "2025-07-30 10:35:45,753 - INFO - Running AC sensitivity analysis with 2 factors and 1 contingencies\n",
      "2025-07-30 10:35:45,753 - INFO - Start AC loadflow on network {CC0 SC0}\n",
      "2025-07-30 10:35:45,754 - INFO - AC loadflow complete on network {CC0 SC0} (result=AcLoadFlowResult(outerLoopIterations=0, newtonRaphsonIterations=2, solverStatus=CONVERGED, outerLoopStatus=STABLE, slackBusActivePowerMismatch=0.001380331569489357, distributedActivePower=0.0))\n",
      "2025-07-30 10:35:45,754 - INFO - Simulate contingency 'Contingency DE2 DE3'\n",
      "2025-07-30 10:35:45,754 - INFO - Start AC loadflow on network {CC0 SC0}\n",
      "2025-07-30 10:35:45,755 - INFO - AC loadflow complete on network {CC0 SC0} (result=AcLoadFlowResult(outerLoopIterations=0, newtonRaphsonIterations=1, solverStatus=CONVERGED, outerLoopStatus=STABLE, slackBusActivePowerMismatch=-0.0011719159598300166, distributedActivePower=0.0))\n",
      "2025-07-30 10:35:45,755 - INFO - Iteration 1: better solution found with a cost of -290.77 (functional: -290.77)\n",
      "2025-07-30 10:35:45,757 - INFO - Iteration 2: same results as previous iterations, optimal solution found\n",
      "2025-07-30 10:35:45,757 - INFO - Root leaf, 1 range action(s) activated, cost: -290.77 (functional: -290.77, virtual: 0.0)\n",
      "2025-07-30 10:35:45,757 - INFO - range action(s): pst-range-action: 6\n",
      "2025-07-30 10:35:45,758 - INFO - Limiting element #01: margin = 290.77 MW, element BBE1AA1  BBE2AA1  1 at state Contingency DE2 DE3 - curative, CNEC ID = \"BBE1AA1  BBE2AA1  1 - Contingency DE2 DE3 - curative\"\n",
      "2025-07-30 10:35:45,758 - INFO - Scenario \"Contingency DE2 DE3\": initial cost = 237.65 (functional: 237.65, virtual: 0.0), 1 range action(s) activated : pst-range-action: 6, cost after curative optimization = -290.77 (functional: -290.77, virtual: 0.0)\n",
      "2025-07-30 10:35:45,758 - INFO - Curative state Contingency DE2 DE3 - curative has been optimized.\n",
      "2025-07-30 10:35:45,759 - INFO - ----- Post-contingency perimeters optimization [end]\n",
      "2025-07-30 10:35:45,759 - INFO - Merging preventive and post-contingency RAO results:\n",
      "2025-07-30 10:35:45,759 - INFO - Limiting element #01: margin = 187.22 MW, element NNL2AA1  BBE3AA1  1 at state Contingency DE2 DE3 - outage, CNEC ID = \"NNL2AA1  BBE3AA1  1 - Contingency DE2 DE3 - outage\"\n",
      "2025-07-30 10:35:45,760 - INFO - Limiting element #02: margin = 198.5 MW, element NNL2AA1  BBE3AA1  1 at state preventive, CNEC ID = \"NNL2AA1  BBE3AA1  1 - preventive\"\n",
      "2025-07-30 10:35:45,760 - INFO - Limiting element #03: margin = 290.77 MW, element BBE1AA1  BBE2AA1  1 at state Contingency DE2 DE3 - curative, CNEC ID = \"BBE1AA1  BBE2AA1  1 - Contingency DE2 DE3 - curative\"\n",
      "2025-07-30 10:35:45,760 - INFO - Cost before RAO = 133.3 (functional: 133.3, virtual: 0.0), cost after RAO = -187.22 (functional: -187.22, virtual: 0.0)\n"
     ]
    }
   ],
   "execution_count": 11
  },
  {
   "cell_type": "code",
   "source": [
    "result_json"
   ],
   "metadata": {
    "collapsed": false,
    "ExecuteTime": {
     "end_time": "2025-07-30T08:35:45.810335Z",
     "start_time": "2025-07-30T08:35:45.806226Z"
    }
   },
   "outputs": [
    {
     "data": {
      "text/plain": [
       "{'type': 'RAO_RESULT',\n",
       " 'version': '1.8',\n",
       " 'info': 'Generated by Open RAO https://powsybl.readthedocs.io/projects/openrao',\n",
       " 'computationStatus': 'default',\n",
       " 'executionDetails': 'The RAO only went through first preventive',\n",
       " 'costResults': {'initial': {'functionalCost': 133.3,\n",
       "   'virtualCost': {'sensitivity-failure-cost': 0.0}},\n",
       "  'preventive': {'functionalCost': 237.65,\n",
       "   'virtualCost': {'sensitivity-failure-cost': 0.0}},\n",
       "  'outage': {'functionalCost': 237.65,\n",
       "   'virtualCost': {'sensitivity-failure-cost': 0.0}},\n",
       "  'curative': {'functionalCost': -187.22,\n",
       "   'virtualCost': {'sensitivity-failure-cost': 0.0}}},\n",
       " 'computationStatusMap': [],\n",
       " 'flowCnecResults': [{'flowCnecId': 'BBE1AA1  BBE2AA1  1 - Contingency DE2 DE3 - curative',\n",
       "   'initial': {'ampere': {'margin': 152.35, 'side1': {'flow': 280.66}},\n",
       "    'megawatt': {'margin': 105.55, 'side1': {'flow': 194.45}}},\n",
       "   'preventive': {'ampere': {'margin': -343.12, 'side1': {'flow': 776.14}},\n",
       "    'megawatt': {'margin': -237.65, 'side1': {'flow': 537.65}}},\n",
       "   'curative': {'ampere': {'margin': 419.7, 'side1': {'flow': 13.32}},\n",
       "    'megawatt': {'margin': 290.77, 'side1': {'flow': 9.23}}}},\n",
       "  {'flowCnecId': 'NNL2AA1  BBE3AA1  1 - Contingency DE2 DE3 - outage',\n",
       "   'initial': {'ampere': {'margin': -192.55, 'side1': {'flow': 842.07}},\n",
       "    'megawatt': {'margin': -133.3, 'side1': {'flow': 583.3}}},\n",
       "   'preventive': {'ampere': {'margin': 270.21, 'side1': {'flow': 379.3}},\n",
       "    'megawatt': {'margin': 187.22, 'side1': {'flow': 262.78}}}},\n",
       "  {'flowCnecId': 'NNL2AA1  BBE3AA1  1 - preventive',\n",
       "   'initial': {'ampere': {'margin': -129.99, 'side1': {'flow': 721.77}},\n",
       "    'megawatt': {'margin': -90.0, 'side1': {'flow': 500.0}}},\n",
       "   'preventive': {'ampere': {'margin': 286.51, 'side1': {'flow': 305.28}},\n",
       "    'megawatt': {'margin': 198.5, 'side1': {'flow': 211.5}}}}],\n",
       " 'angleCnecResults': [],\n",
       " 'voltageCnecResults': [],\n",
       " 'networkActionResults': [{'networkActionId': 'close NL2 BE3 2',\n",
       "   'activatedStates': [{'instant': 'preventive'}]}],\n",
       " 'rangeActionResults': [{'rangeActionId': 'pst-range-action',\n",
       "   'initialTap': 0,\n",
       "   'activatedStates': [{'instant': 'preventive', 'tap': -10},\n",
       "    {'instant': 'curative', 'contingency': 'Contingency DE2 DE3', 'tap': 6}]}]}"
      ]
     },
     "execution_count": 12,
     "metadata": {},
     "output_type": "execute_result"
    }
   ],
   "execution_count": 12
  },
  {
   "cell_type": "markdown",
   "source": [
    "This time, after preventive actions, we still have a positive cost (ie an overload). And it's only after the curative actions the cost finally becomes negative.\n",
    "More precisely, we can check the informations for the curative cnec we added:\n"
   ],
   "metadata": {
    "collapsed": false
   }
  },
  {
   "cell_type": "code",
   "source": [
    "[x for x in result_json.get(\"flowCnecResults\") if x.get(\"flowCnecId\") == 'BBE1AA1  BBE2AA1  1 - Contingency DE2 DE3 - curative']"
   ],
   "metadata": {
    "collapsed": false,
    "ExecuteTime": {
     "end_time": "2025-07-30T08:35:45.863998Z",
     "start_time": "2025-07-30T08:35:45.860531Z"
    }
   },
   "outputs": [
    {
     "data": {
      "text/plain": [
       "[{'flowCnecId': 'BBE1AA1  BBE2AA1  1 - Contingency DE2 DE3 - curative',\n",
       "  'initial': {'ampere': {'margin': 152.35, 'side1': {'flow': 280.66}},\n",
       "   'megawatt': {'margin': 105.55, 'side1': {'flow': 194.45}}},\n",
       "  'preventive': {'ampere': {'margin': -343.12, 'side1': {'flow': 776.14}},\n",
       "   'megawatt': {'margin': -237.65, 'side1': {'flow': 537.65}}},\n",
       "  'curative': {'ampere': {'margin': 419.7, 'side1': {'flow': 13.32}},\n",
       "   'megawatt': {'margin': 290.77, 'side1': {'flow': 9.23}}}}]"
      ]
     },
     "execution_count": 13,
     "metadata": {},
     "output_type": "execute_result"
    }
   ],
   "execution_count": 13
  },
  {
   "cell_type": "markdown",
   "source": [
    "As you can see, with no actions, there's actually a margin of 152MW on the line in curative! But by applying preventive actions (that aimed to solve the preventive and outage cnecs), we made the curative cnec unsecure, and we had to apply some curative action to make it secure again."
   ],
   "metadata": {
    "collapsed": false
   }
  },
  {
   "cell_type": "markdown",
   "source": [
    "## 4 - Costly Optimization"
   ],
   "metadata": {
    "collapsed": false
   }
  },
  {
   "cell_type": "markdown",
   "source": [
    "In this new case, the net generation in the Netherlands increased even more and the load in France increased too, increasing the initial overloads, and the actions we had until now are no longer sufficient to solve the problems. Fortunately, we have two generators, one in France and one in the Netherlands that can do redispatching. However this redispatching can be expensive, so we will change the objective function of the RAO: we no longer want to maximize the minimum margin, instead we want to secure the network at the minimum cost."
   ],
   "metadata": {
    "collapsed": false
   }
  },
  {
   "cell_type": "code",
   "source": [
    "# prepare inputs\n",
    "n12 = pp.network.load('./data/rao/12_node_network_redispatching.uct')\n",
    "rao_runner = pp.rao.create_rao()\n",
    "rao_runner.set_crac_file_source(n12, \"./data/rao/N-1_case_crac_curative_redispatching.json\")\n",
    "rao_parameters = RaoParameters()\n",
    "rao_parameters.load_from_file_source(\"./data/rao/rao_parameters_costly.json\")\n",
    "# set up logging\n",
    "import logging\n",
    "logging.getLogger('powsybl').setLevel(logging.INFO)\n",
    "logging.basicConfig(format='%(asctime)s - %(levelname)s - %(message)s')\n",
    "#run rao\n",
    "raoResult = rao_runner.run(n12, rao_parameters)\n",
    "result_json = raoResult.to_json()"
   ],
   "metadata": {
    "collapsed": false,
    "ExecuteTime": {
     "end_time": "2025-08-20T08:39:28.445561250Z",
     "start_time": "2025-08-20T08:30:44.894481Z"
    }
   },
   "outputs": [
    {
     "ename": "NameError",
     "evalue": "name 'pp' is not defined",
     "output_type": "error",
     "traceback": [
      "\u001B[31m---------------------------------------------------------------------------\u001B[39m",
      "\u001B[31mNameError\u001B[39m                                 Traceback (most recent call last)",
      "\u001B[36mCell\u001B[39m\u001B[36m \u001B[39m\u001B[32mIn[1]\u001B[39m\u001B[32m, line 2\u001B[39m\n\u001B[32m      1\u001B[39m \u001B[38;5;66;03m# prepare inputs\u001B[39;00m\n\u001B[32m----> \u001B[39m\u001B[32m2\u001B[39m n12 = \u001B[43mpp\u001B[49m.network.load(\u001B[33m'\u001B[39m\u001B[33m./data/rao/12_node_network_redispatching.uct\u001B[39m\u001B[33m'\u001B[39m)\n\u001B[32m      3\u001B[39m rao_runner = pp.rao.create_rao()\n\u001B[32m      4\u001B[39m rao_runner.set_crac_file_source(n12, \u001B[33m\"\u001B[39m\u001B[33m./data/rao/N-1_case_crac_curative_redispatching.json\u001B[39m\u001B[33m\"\u001B[39m)\n",
      "\u001B[31mNameError\u001B[39m: name 'pp' is not defined"
     ]
    }
   ],
   "execution_count": 1
  },
  {
   "cell_type": "code",
   "source": [
    "result_json"
   ],
   "metadata": {
    "collapsed": false,
    "ExecuteTime": {
     "end_time": "2025-07-30T08:43:40.506523Z",
     "start_time": "2025-07-30T08:43:40.503443Z"
    }
   },
   "outputs": [
    {
     "data": {
      "text/plain": [
       "{'type': 'RAO_RESULT',\n",
       " 'version': '1.8',\n",
       " 'info': 'Generated by Open RAO https://powsybl.readthedocs.io/projects/openrao',\n",
       " 'computationStatus': 'failure',\n",
       " 'executionDetails': 'RAO failed during initial sensitivity analysis : null'}"
      ]
     },
     "execution_count": 18,
     "metadata": {},
     "output_type": "execute_result"
    }
   ],
   "execution_count": 18
  },
  {
   "cell_type": "markdown",
   "source": [
    "If you check the initial cost in the result, you will notice the functional cost is now 0, and instead we have a virtual cost due to a  \"min-margin-violation\". Indeed the new objective function is actually the cost of redispatching, and the overload has become a soft constraint.\n",
    "And if you check the final result (after curative), then you will see the functional cost is 39820 and the virtual cost is only 769,89.\n",
    "The 39820 value corresponds to the cost of the redispatching: 398 (up variation for FR action) * 50 (up variation cost) + 10 (activation cost) + 398 (down variation for NL action) * 50 (down variation cost) + 10 (activation cost). The costs for each action is defined in the crac file.\n",
    "The 769,89 virtual cost is due to a remaining overload in the network. Currently you can not configure the cost of the overload, and you can not add a slight security margin which would be needed to avoid this slight overload (the sensitivity values we use in the optimization is an approximation of the reality). These new parameters should be available after the june release. "
   ],
   "metadata": {
    "collapsed": false
   }
  }
 ],
 "metadata": {
  "kernelspec": {
   "display_name": "Python 3",
   "language": "python",
   "name": "python3"
  },
  "language_info": {
   "codemirror_mode": {
    "name": "ipython",
    "version": 3
   },
   "file_extension": ".py",
   "mimetype": "text/x-python",
   "name": "python",
   "nbconvert_exporter": "python",
   "pygments_lexer": "ipython3",
   "version": "3.8.10"
  }
 },
 "nbformat": 4,
 "nbformat_minor": 4
}
