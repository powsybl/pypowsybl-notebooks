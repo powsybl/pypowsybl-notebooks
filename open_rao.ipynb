{
 "cells": [
  {
   "cell_type": "markdown",
   "metadata": {},
   "source": [
    "# OpenRAO in pyPowsybl "
   ]
  },
  {
   "cell_type": "markdown",
   "metadata": {},
   "source": [
    "In this notebook, you will learn how to use OpenRAO with pypowsybl to optimize a network situation given available remedial actions.\n",
    "\n",
    "The first step is to install pypowsybl and import the library."
   ]
  },
  {
   "cell_type": "code",
   "metadata": {
    "ExecuteTime": {
     "end_time": "2025-04-25T09:44:29.641944Z",
     "start_time": "2025-04-25T09:44:28.397731Z"
    }
   },
   "source": "pip install pypowsybl==1.10.0",
   "outputs": [
    {
     "name": "stdout",
     "output_type": "stream",
     "text": [
      "Requirement already satisfied: pypowsybl==1.10.0 in ./venv/lib/python3.8/site-packages (1.10.0)\r\n",
      "Requirement already satisfied: prettytable>=2.0.0 in ./venv/lib/python3.8/site-packages (from pypowsybl==1.10.0) (3.11.0)\r\n",
      "Requirement already satisfied: networkx in ./venv/lib/python3.8/site-packages (from pypowsybl==1.10.0) (3.1)\r\n",
      "Requirement already satisfied: pandas>=2.0.3 in ./venv/lib/python3.8/site-packages (from pypowsybl==1.10.0) (2.0.3)\r\n",
      "Requirement already satisfied: python-dateutil>=2.8.2 in ./venv/lib/python3.8/site-packages (from pandas>=2.0.3->pypowsybl==1.10.0) (2.9.0.post0)\r\n",
      "Requirement already satisfied: pytz>=2020.1 in ./venv/lib/python3.8/site-packages (from pandas>=2.0.3->pypowsybl==1.10.0) (2025.1)\r\n",
      "Requirement already satisfied: tzdata>=2022.1 in ./venv/lib/python3.8/site-packages (from pandas>=2.0.3->pypowsybl==1.10.0) (2025.1)\r\n",
      "Requirement already satisfied: numpy>=1.20.3 in ./venv/lib/python3.8/site-packages (from pandas>=2.0.3->pypowsybl==1.10.0) (1.24.4)\r\n",
      "Requirement already satisfied: wcwidth in ./venv/lib/python3.8/site-packages (from prettytable>=2.0.0->pypowsybl==1.10.0) (0.2.13)\r\n",
      "Requirement already satisfied: six>=1.5 in ./venv/lib/python3.8/site-packages (from python-dateutil>=2.8.2->pandas>=2.0.3->pypowsybl==1.10.0) (1.17.0)\r\n",
      "Note: you may need to restart the kernel to use updated packages.\n"
     ]
    }
   ],
   "execution_count": 41
  },
  {
   "cell_type": "code",
   "metadata": {
    "ExecuteTime": {
     "end_time": "2025-04-25T09:44:29.662606Z",
     "start_time": "2025-04-25T09:44:29.659526Z"
    }
   },
   "source": [
    "import pypowsybl as pp\n",
    "from pypowsybl.rao import Parameters as RaoParameters"
   ],
   "outputs": [],
   "execution_count": 42
  },
  {
   "cell_type": "markdown",
   "metadata": {},
   "source": [
    "We will consider a 12 bus example network in this notebook."
   ]
  },
  {
   "cell_type": "code",
   "metadata": {
    "ExecuteTime": {
     "end_time": "2025-04-25T09:44:29.723509Z",
     "start_time": "2025-04-25T09:44:29.710478Z"
    }
   },
   "source": [
    "n12 = pp.network.load('./data/rao/12_node_network.uct')"
   ],
   "outputs": [
    {
     "name": "stderr",
     "output_type": "stream",
     "text": [
      "2025-04-25 11:44:29,712 - ERROR - BBE1AA1  BBE2AA1  1 - Real line resistance cannot be negative (0.0 ohm)\n",
      "2025-04-25 11:44:29,713 - ERROR - BBE1AA1  BBE3AA1  1 - Real line resistance cannot be negative (0.0 ohm)\n",
      "2025-04-25 11:44:29,713 - ERROR - FFR1AA1  FFR2AA1  1 - Real line resistance cannot be negative (0.0 ohm)\n",
      "2025-04-25 11:44:29,713 - ERROR - FFR1AA1  FFR3AA1  1 - Real line resistance cannot be negative (0.0 ohm)\n",
      "2025-04-25 11:44:29,713 - ERROR - FFR2AA1  FFR3AA1  1 - Real line resistance cannot be negative (0.0 ohm)\n",
      "2025-04-25 11:44:29,714 - ERROR - DDE1AA1  DDE2AA1  1 - Real line resistance cannot be negative (0.0 ohm)\n",
      "2025-04-25 11:44:29,714 - ERROR - DDE1AA1  DDE3AA1  1 - Real line resistance cannot be negative (0.0 ohm)\n",
      "2025-04-25 11:44:29,716 - ERROR - DDE2AA1  DDE3AA1  1 - Real line resistance cannot be negative (0.0 ohm)\n",
      "2025-04-25 11:44:29,716 - ERROR - NNL1AA1  NNL2AA1  1 - Real line resistance cannot be negative (0.0 ohm)\n",
      "2025-04-25 11:44:29,716 - ERROR - NNL1AA1  NNL3AA1  1 - Real line resistance cannot be negative (0.0 ohm)\n",
      "2025-04-25 11:44:29,717 - ERROR - NNL2AA1  NNL3AA1  1 - Real line resistance cannot be negative (0.0 ohm)\n",
      "2025-04-25 11:44:29,717 - ERROR - FFR2AA1  DDE3AA1  1 - Real line resistance cannot be negative (0.0 ohm)\n",
      "2025-04-25 11:44:29,718 - ERROR - DDE2AA1  NNL3AA1  1 - Real line resistance cannot be negative (0.0 ohm)\n",
      "2025-04-25 11:44:29,718 - ERROR - NNL2AA1  BBE3AA1  1 - Real line resistance cannot be negative (0.0 ohm)\n",
      "2025-04-25 11:44:29,718 - ERROR - NNL2AA1  BBE3AA1  2 - Real line resistance cannot be negative (0.0 ohm)\n",
      "2025-04-25 11:44:29,719 - ERROR - NNL2AA1  BBE3AA1  3 - Real line resistance cannot be negative (0.0 ohm)\n",
      "2025-04-25 11:44:29,719 - ERROR - BBE2AA1  FFR3AA1  1 - Real line resistance cannot be negative (0.0 ohm)\n",
      "2025-04-25 11:44:29,719 - ERROR - BBE2AA1  BBE3AA1  1 - Blank is not allowed, real transformer resistance must be greater than or equal to zero (0.0 ohm)\n",
      "2025-04-25 11:44:29,720 - WARNING - BBE2AA1  BBE3AA1  1 - Blank is not allowed (0.0 S)\n",
      "2025-04-25 11:44:29,720 - WARNING - BBE2AA1  BBE3AA1  1 - Transformer shunt conductance must be greater than or equal to zero (0.0 S)\n",
      "2025-04-25 11:44:29,721 - WARNING - BBE2AA1  BBE3AA1  1 - For LTCs, transformer angle regulation voltage per tap should not be zero. Its absolute value should not be above 6 % (-0.68 %)\n"
     ]
    }
   ],
   "execution_count": 43
  },
  {
   "cell_type": "markdown",
   "metadata": {},
   "source": [
    "By drawing the network area diagram, you can get a better understanding of the substations and branches in the network."
   ]
  },
  {
   "cell_type": "code",
   "metadata": {
    "ExecuteTime": {
     "end_time": "2025-04-25T09:44:29.825086Z",
     "start_time": "2025-04-25T09:44:29.799849Z"
    }
   },
   "source": [
    "n12.get_network_area_diagram()"
   ],
   "outputs": [
    {
     "name": "stderr",
     "output_type": "stream",
     "text": [
      "2025-04-25 11:44:29,809 - INFO - Number of steps: 688\n",
      "2025-04-25 11:44:29,810 - INFO - Elapsed time: 0.004018472\n",
      "2025-04-25 11:44:29,810 - WARNING - Base voltage configuration file '/home/edwardsphi/.itools/base-voltages.yml' not found, trying to load file 'base-voltages.yml' from resources\n"
     ]
    },
    {
     "data": {
      "text/plain": [
       "<pypowsybl.network.impl.svg.Svg at 0x7fa0ec884c70>"
      ],
      "image/svg+xml": "<?xml version=\"1.0\" encoding=\"UTF-8\"?>\n<svg width=\"604.60\" height=\"600.00\" viewBox=\"-688.28 -980.39 1725.31 1712.18\" xmlns=\"http://www.w3.org/2000/svg\">\n    <style><![CDATA[\n.nad-branch-edges .nad-edge-path, .nad-3wt-edges .nad-edge-path {stroke: var(--nad-vl-color, lightgrey); stroke-width: 5; fill: none}\n.nad-branch-edges .nad-winding, .nad-3wt-nodes .nad-winding {stroke: var(--nad-vl-color, lightgrey); stroke-width: 5; fill: none}\n.nad-text-edges {stroke: black; stroke-width: 3; stroke-dasharray: 6,7}\n.nad-disconnected .nad-edge-path {stroke-dasharray: 10,10}\n.nad-vl-nodes .nad-busnode {fill: var(--nad-vl-color, lightgrey)}\n.nad-vl-nodes circle.nad-unknown-busnode {stroke: var(--nad-vl-color, #808080); stroke-width: 5; stroke-dasharray: 5,5; fill: none}\n.nad-hvdc-edge polyline.nad-hvdc {stroke: grey; stroke-width: 40}\n.nad-branch-edges .nad-tie-line-edge .nad-edge-path {stroke-width: 7}\n.nad-pst-arrow {stroke: #6a6a6a; stroke-width: 4; stroke-linecap: round; fill: none}\npath.nad-arrow-out:not(.nad-state-out .nad-arrow-out) {visibility: hidden}\npath.nad-arrow-in:not(.nad-state-in .nad-arrow-in) {visibility: hidden}\n.nad-active {fill: #546e7a}\n.nad-reactive {fill: #0277bd}\n.nad-current {fill: #bd4802}\n.nad-text-background {flood-color: #90a4aeaa}\n.nad-text-nodes {font: 25px serif; fill: black; dominant-baseline: central}\n.nad-text-nodes foreignObject {overflow: visible; color: black}\n.nad-label-box {background-color: #6c6c6c20; width: max-content; padding: 10px; border-radius: 10px;}\n.nad-legend-square {width: 20px; height: 20px; background: var(--nad-vl-color, black);}\n.nad-edge-infos text, .nad-edge-label text {font: 20px serif; dominant-baseline:middle; stroke: #FFFFFFAA; stroke-width: 10; stroke-linejoin:round; paint-order: stroke}\n.nad-disconnected {--nad-vl-color: #808080}\n.nad-vl0to30-line {--nad-vl-color: #afb42b}\n.nad-vl0to30-0 {--nad-vl-color: #827717}\n.nad-vl0to30-1 {--nad-vl-color: #d4e157}\n.nad-vl0to30-2 {--nad-vl-color: #e6ee9c}\n.nad-vl0to30-3 {--nad-vl-color: #c0ca33}\n.nad-vl0to30-4 {--nad-vl-color: #f0fc83}\n.nad-vl0to30-5 {--nad-vl-color: #9e9d24}\n.nad-vl0to30-6 {--nad-vl-color: #cddc39}\n.nad-vl0to30-7 {--nad-vl-color: #dce775}\n.nad-vl0to30-8 {--nad-vl-color: #ddfc88}\n.nad-vl30to50-line {--nad-vl-color: #ef9a9a}\n.nad-vl30to50-0 {--nad-vl-color: #c2185b}\n.nad-vl30to50-1 {--nad-vl-color: #f06292}\n.nad-vl30to50-2 {--nad-vl-color: #d81b60}\n.nad-vl30to50-3 {--nad-vl-color: #ec407a}\n.nad-vl30to50-4 {--nad-vl-color: #880e4f}\n.nad-vl30to50-5 {--nad-vl-color: #ad1457}\n.nad-vl30to50-6 {--nad-vl-color: #e91e63}\n.nad-vl30to50-7 {--nad-vl-color: #f48fb1}\n.nad-vl30to50-8 {--nad-vl-color: #f8bbd0}\n.nad-vl50to70-line {--nad-vl-color: #9c27b0}\n.nad-vl50to70-0 {--nad-vl-color: #7b1fa2}\n.nad-vl50to70-1 {--nad-vl-color: #ba68c8}\n.nad-vl50to70-2 {--nad-vl-color: #512da8}\n.nad-vl50to70-3 {--nad-vl-color: #ab47bc}\n.nad-vl50to70-4 {--nad-vl-color: #e1bee7}\n.nad-vl50to70-5 {--nad-vl-color: #6a1b9a}\n.nad-vl50to70-6 {--nad-vl-color: #4a148c}\n.nad-vl50to70-7 {--nad-vl-color: #ce93d8}\n.nad-vl50to70-8 {--nad-vl-color: #9575cd}\n.nad-vl70to120-line {--nad-vl-color: #e65100}\n.nad-vl70to120-0 {--nad-vl-color: #fb8c00}\n.nad-vl70to120-1 {--nad-vl-color: #ffb74d}\n.nad-vl70to120-2 {--nad-vl-color: #f57c00}\n.nad-vl70to120-3 {--nad-vl-color: #ffa726}\n.nad-vl70to120-4 {--nad-vl-color: #ffe0b2}\n.nad-vl70to120-5 {--nad-vl-color: #ef6c00}\n.nad-vl70to120-6 {--nad-vl-color: #ff9800}\n.nad-vl70to120-7 {--nad-vl-color: #ffcc80}\n.nad-vl70to120-8 {--nad-vl-color: #fff3e0}\n.nad-vl120to180-line {--nad-vl-color: #00ACC1}\n.nad-vl120to180-0 {--nad-vl-color: #4fc3f7}\n.nad-vl120to180-1 {--nad-vl-color: #01579b}\n.nad-vl120to180-2 {--nad-vl-color: #b3e5fc}\n.nad-vl120to180-3 {--nad-vl-color: #039be5}\n.nad-vl120to180-4 {--nad-vl-color: #81d4fa}\n.nad-vl120to180-5 {--nad-vl-color: #0288d1}\n.nad-vl120to180-6 {--nad-vl-color: #29b6f6}\n.nad-vl120to180-7 {--nad-vl-color: #0277bd}\n.nad-vl120to180-8 {--nad-vl-color: #03a9f4}\n.nad-vl180to300-line {--nad-vl-color: #2e7d32}\n.nad-vl180to300-0 {--nad-vl-color: #81c784}\n.nad-vl180to300-1 {--nad-vl-color: #558b2f}\n.nad-vl180to300-2 {--nad-vl-color: #c8e6c9}\n.nad-vl180to300-3 {--nad-vl-color: #43a047}\n.nad-vl180to300-4 {--nad-vl-color: #a5d6a7}\n.nad-vl180to300-5 {--nad-vl-color: #388e3c}\n.nad-vl180to300-6 {--nad-vl-color: #66bb6a}\n.nad-vl180to300-7 {--nad-vl-color: #1b5e20}\n.nad-vl180to300-8 {--nad-vl-color: #4caf50}\n.nad-vl300to500-line {--nad-vl-color: #d32f2f}\n.nad-vl300to500-0 {--nad-vl-color: #ef5350}\n.nad-vl300to500-1 {--nad-vl-color: #ef9a9a}\n.nad-vl300to500-2 {--nad-vl-color: #b71c1c}\n.nad-vl300to500-3 {--nad-vl-color: #e57373}\n.nad-vl300to500-4 {--nad-vl-color: #e53935}\n.nad-vl300to500-5 {--nad-vl-color: #ff8a80}\n.nad-vl300to500-6 {--nad-vl-color: #f44336}\n.nad-vl300to500-7 {--nad-vl-color: #ffcdd2}\n.nad-vl300to500-8 {--nad-vl-color: #c62828}\n.nad-branch-edges .nad-overload .nad-edge-path {animation: line-blink 3s infinite}\n.nad-vl-nodes .nad-overvoltage {animation: node-over-blink 3s infinite}\n.nad-vl-nodes .nad-undervoltage {animation: node-under-blink 3s infinite}\n\n@keyframes line-blink {\n  0%, 80%, 100% {stroke: var(--nad-vl-color, black); stroke-width: 5}\n  40% {stroke: #FFEB3B; stroke-width: 15}\n}\n@keyframes node-over-blink {\n  0%, 80%, 100% {stroke: white; stroke-width: 0}\n  40% {stroke: #ff5722; stroke-width: 15}\n}\n@keyframes node-under-blink {\n  0%, 80%, 100% {stroke: white; stroke-width: 0}\n  40% {stroke: #00BCD4; stroke-width: 15}\n}\n]]></style>\n    <g class=\"nad-vl-nodes\">\n        <g transform=\"translate(577.04,-740.39)\" id=\"0\">\n            <circle r=\"27.50\" id=\"1\" class=\"nad-vl300to500-0 nad-busnode\"/>\n        </g>\n        <g transform=\"translate(343.64,-413.47)\" id=\"2\">\n            <circle r=\"27.50\" id=\"3\" class=\"nad-vl300to500-0 nad-busnode\"/>\n            <path d=\"M12.932,-56.027 A57.500,57.500 136.313 0 1 29.348,49.447 L19.304,26.146 A32.500,32.500 -124.815 0 0 10.445,-30.776 Z M15.601,55.343 A57.500,57.500 66.063 0 1 -44.253,36.714 L-22.808,23.152 A32.500,32.500 -54.565 0 0 5.641,32.007 Z M-52.225,24.058 A57.500,57.500 112.784 0 1 -1.956,-57.467 L-4.354,-32.207 A32.500,32.500 -101.287 0 0 -30.732,10.573 Z \" id=\"4\" class=\"nad-vl300to500-1 nad-busnode\"/>\n        </g>\n        <g transform=\"translate(-470.42,531.79)\" id=\"5\">\n            <circle r=\"27.50\" id=\"6\" class=\"nad-vl300to500-0 nad-busnode\"/>\n        </g>\n        <g transform=\"translate(-407.58,159.43)\" id=\"7\">\n            <circle r=\"27.50\" id=\"8\" class=\"nad-vl300to500-0 nad-busnode\"/>\n        </g>\n        <g transform=\"translate(-102.16,466.84)\" id=\"9\">\n            <circle r=\"27.50\" id=\"10\" class=\"nad-vl300to500-0 nad-busnode\"/>\n        </g>\n        <g transform=\"translate(737.03,400.46)\" id=\"11\">\n            <circle r=\"27.50\" id=\"12\" class=\"nad-vl300to500-0 nad-busnode\"/>\n        </g>\n        <g transform=\"translate(363.55,432.27)\" id=\"13\">\n            <circle r=\"27.50\" id=\"14\" class=\"nad-vl300to500-0 nad-busnode\"/>\n        </g>\n        <g transform=\"translate(544.99,55.92)\" id=\"15\">\n            <circle r=\"27.50\" id=\"16\" class=\"nad-vl300to500-0 nad-busnode\"/>\n        </g>\n        <g transform=\"translate(-488.28,-705.72)\" id=\"17\">\n            <circle r=\"27.50\" id=\"18\" class=\"nad-vl300to500-0 nad-busnode\"/>\n        </g>\n        <g transform=\"translate(-124.53,-572.87)\" id=\"19\">\n            <circle r=\"27.50\" id=\"20\" class=\"nad-vl300to500-0 nad-busnode\"/>\n        </g>\n        <g transform=\"translate(-446.15,-322.16)\" id=\"21\">\n            <circle r=\"27.50\" id=\"22\" class=\"nad-vl300to500-0 nad-busnode\"/>\n        </g>\n    </g>\n    <g class=\"nad-branch-edges\">\n        <g id=\"23\">\n            <g id=\"23.1\" class=\"nad-vl300to500-line\">\n                <polyline class=\"nad-edge-path nad-stretchable nad-glued-1\" points=\"552.01,-729.00 504.23,-707.25 427.79,-600.17\"/>\n                <g class=\"nad-glued-1 nad-edge-infos\" transform=\"translate(486.80,-682.83)\">\n                    <g class=\"nad-active\">\n                        <g transform=\"rotate(-144.48)\">\n                            <path class=\"nad-arrow-in\" transform=\"scale(10.00)\" d=\"M-1 -1 H1 L0 1z\"/>\n                            <path class=\"nad-arrow-out\" transform=\"scale(10.00)\" d=\"M-1 1 H1 L0 -1z\"/>\n                        </g>\n                        <text transform=\"rotate(-54.48)\" x=\"-19.00\" style=\"text-anchor:end\"></text>\n                    </g>\n                </g>\n            </g>\n            <g id=\"23.2\" class=\"nad-vl300to500-line\">\n                <polyline class=\"nad-edge-path nad-stretchable nad-glued-2\" points=\"346.29,-440.84 351.34,-493.10 427.79,-600.17\"/>\n                <g class=\"nad-glued-2 nad-edge-infos\" transform=\"translate(368.78,-517.51)\">\n                    <g class=\"nad-active\">\n                        <g transform=\"rotate(35.52)\">\n                            <path class=\"nad-arrow-in\" transform=\"scale(10.00)\" d=\"M-1 -1 H1 L0 1z\"/>\n                            <path class=\"nad-arrow-out\" transform=\"scale(10.00)\" d=\"M-1 1 H1 L0 -1z\"/>\n                        </g>\n                        <text transform=\"rotate(-54.48)\" x=\"19.00\"></text>\n                    </g>\n                </g>\n            </g>\n        </g>\n        <g id=\"24\">\n            <g id=\"24.1\" class=\"nad-vl300to500-line\">\n                <polyline class=\"nad-edge-path nad-stretchable nad-glued-1\" points=\"574.39,-713.02 569.34,-660.76 492.90,-553.69\"/>\n                <g class=\"nad-glued-1 nad-edge-infos\" transform=\"translate(551.91,-636.35)\">\n                    <g class=\"nad-active\">\n                        <g transform=\"rotate(-144.48)\">\n                            <path class=\"nad-arrow-in\" transform=\"scale(10.00)\" d=\"M-1 -1 H1 L0 1z\"/>\n                            <path class=\"nad-arrow-out\" transform=\"scale(10.00)\" d=\"M-1 1 H1 L0 -1z\"/>\n                        </g>\n                        <text transform=\"rotate(-54.48)\" x=\"-19.00\" style=\"text-anchor:end\"></text>\n                    </g>\n                </g>\n            </g>\n            <g id=\"24.2\" class=\"nad-vl300to500-line\">\n                <polyline class=\"nad-edge-path nad-stretchable nad-glued-2\" points=\"395.98,-437.29 416.45,-446.62 492.90,-553.69\"/>\n                <g class=\"nad-glued-2 nad-edge-infos\" transform=\"translate(433.89,-471.03)\">\n                    <g class=\"nad-active\">\n                        <g transform=\"rotate(35.52)\">\n                            <path class=\"nad-arrow-in\" transform=\"scale(10.00)\" d=\"M-1 -1 H1 L0 1z\"/>\n                            <path class=\"nad-arrow-out\" transform=\"scale(10.00)\" d=\"M-1 1 H1 L0 -1z\"/>\n                        </g>\n                        <text transform=\"rotate(-54.48)\" x=\"19.00\"></text>\n                    </g>\n                </g>\n            </g>\n        </g>\n        <g id=\"25\">\n            <g id=\"25.1\" class=\"nad-vl300to500-line\">\n                <polyline class=\"nad-edge-path nad-stretchable nad-glued-1\" points=\"354.48,-388.20 444.31,-178.78\"/>\n                <g class=\"nad-glued-1 nad-edge-infos\" transform=\"translate(379.12,-330.76)\">\n                    <g class=\"nad-active\">\n                        <g transform=\"rotate(156.78)\">\n                            <path class=\"nad-arrow-in\" transform=\"scale(10.00)\" d=\"M-1 -1 H1 L0 1z\"/>\n                            <path class=\"nad-arrow-out\" transform=\"scale(10.00)\" d=\"M-1 1 H1 L0 -1z\"/>\n                        </g>\n                        <text transform=\"rotate(66.78)\" x=\"19.00\"></text>\n                    </g>\n                </g>\n            </g>\n            <g id=\"25.2\" class=\"nad-vl300to500-line\">\n                <polyline class=\"nad-edge-path nad-stretchable nad-glued-2\" points=\"534.15,30.65 444.31,-178.78\"/>\n                <g class=\"nad-glued-2 nad-edge-infos\" transform=\"translate(521.33,0.78)\">\n                    <g class=\"nad-active\">\n                        <g transform=\"rotate(-23.22)\">\n                            <path class=\"nad-arrow-in\" transform=\"scale(10.00)\" d=\"M-1 -1 H1 L0 1z\"/>\n                            <path class=\"nad-arrow-out\" transform=\"scale(10.00)\" d=\"M-1 1 H1 L0 -1z\"/>\n                        </g>\n                        <text transform=\"rotate(-293.22)\" x=\"-19.00\" style=\"text-anchor:end\"></text>\n                    </g>\n                </g>\n            </g>\n        </g>\n        <g id=\"26\">\n            <g id=\"26.1\" class=\"nad-vl300to500-line\">\n                <polyline class=\"nad-edge-path nad-stretchable nad-glued-1\" points=\"-106.42,-552.18 -71.84,-512.68 96.66,-455.31\"/>\n                <g class=\"nad-glued-1 nad-edge-infos\" transform=\"translate(-43.44,-503.01)\">\n                    <g class=\"nad-active\">\n                        <g transform=\"rotate(108.80)\">\n                            <path class=\"nad-arrow-in\" transform=\"scale(10.00)\" d=\"M-1 -1 H1 L0 1z\"/>\n                            <path class=\"nad-arrow-out\" transform=\"scale(10.00)\" d=\"M-1 1 H1 L0 -1z\"/>\n                        </g>\n                        <text transform=\"rotate(18.80)\" x=\"19.00\"></text>\n                    </g>\n                </g>\n            </g>\n            <g id=\"26.2\" class=\"nad-vl300to500-line\">\n                <polyline class=\"nad-edge-path nad-stretchable nad-glued-2\" points=\"287.24,-402.30 265.17,-397.94 96.66,-455.31\"/>\n                <g class=\"nad-glued-2 nad-edge-infos\" transform=\"translate(236.77,-407.60)\">\n                    <g class=\"nad-active\">\n                        <g transform=\"rotate(-71.20)\">\n                            <path class=\"nad-arrow-in\" transform=\"scale(10.00)\" d=\"M-1 -1 H1 L0 1z\"/>\n                            <path class=\"nad-arrow-out\" transform=\"scale(10.00)\" d=\"M-1 1 H1 L0 -1z\"/>\n                        </g>\n                        <text transform=\"rotate(-341.20)\" x=\"-19.00\" style=\"text-anchor:end\"></text>\n                    </g>\n                </g>\n            </g>\n        </g>\n        <g id=\"27\" class=\"nad-disconnected\">\n            <g id=\"27.1\" class=\"nad-disconnected nad-vl300to500-line\">\n                <polyline class=\"nad-edge-path nad-stretchable nad-glued-1\" points=\"-98.50,-564.01 95.36,-498.01\"/>\n                <g class=\"nad-glued-1 nad-edge-infos\" transform=\"translate(-67.73,-553.54)\">\n                    <g class=\"nad-active\">\n                        <g transform=\"rotate(108.80)\">\n                            <path class=\"nad-arrow-in\" transform=\"scale(10.00)\" d=\"M-1 -1 H1 L0 1z\"/>\n                            <path class=\"nad-arrow-out\" transform=\"scale(10.00)\" d=\"M-1 1 H1 L0 -1z\"/>\n                        </g>\n                        <text transform=\"rotate(18.80)\" x=\"19.00\"></text>\n                    </g>\n                </g>\n            </g>\n            <g id=\"27.2\" class=\"nad-disconnected nad-vl300to500-line\">\n                <polyline class=\"nad-edge-path nad-stretchable nad-glued-2\" points=\"289.21,-432.00 95.36,-498.01\"/>\n                <g class=\"nad-glued-2 nad-edge-infos\" transform=\"translate(258.45,-442.48)\">\n                    <g class=\"nad-active\">\n                        <g transform=\"rotate(-71.20)\">\n                            <path class=\"nad-arrow-in\" transform=\"scale(10.00)\" d=\"M-1 -1 H1 L0 1z\"/>\n                            <path class=\"nad-arrow-out\" transform=\"scale(10.00)\" d=\"M-1 1 H1 L0 -1z\"/>\n                        </g>\n                        <text transform=\"rotate(-341.20)\" x=\"-19.00\" style=\"text-anchor:end\"></text>\n                    </g>\n                </g>\n            </g>\n        </g>\n        <g id=\"28\" class=\"nad-disconnected\">\n            <g id=\"28.1\" class=\"nad-disconnected nad-vl300to500-line\">\n                <polyline class=\"nad-edge-path nad-stretchable nad-glued-1\" points=\"-97.56,-578.21 -46.06,-588.41 122.45,-531.04\"/>\n                <g class=\"nad-glued-1 nad-edge-infos\" transform=\"translate(-17.66,-578.74)\">\n                    <g class=\"nad-active\">\n                        <g transform=\"rotate(108.80)\">\n                            <path class=\"nad-arrow-in\" transform=\"scale(10.00)\" d=\"M-1 -1 H1 L0 1z\"/>\n                            <path class=\"nad-arrow-out\" transform=\"scale(10.00)\" d=\"M-1 1 H1 L0 -1z\"/>\n                        </g>\n                        <text transform=\"rotate(18.80)\" x=\"19.00\"></text>\n                    </g>\n                </g>\n            </g>\n            <g id=\"28.2\" class=\"nad-disconnected nad-vl300to500-line\">\n                <polyline class=\"nad-edge-path nad-stretchable nad-glued-2\" points=\"305.77,-456.74 290.95,-473.67 122.45,-531.04\"/>\n                <g class=\"nad-glued-2 nad-edge-infos\" transform=\"translate(262.55,-483.34)\">\n                    <g class=\"nad-active\">\n                        <g transform=\"rotate(-71.20)\">\n                            <path class=\"nad-arrow-in\" transform=\"scale(10.00)\" d=\"M-1 -1 H1 L0 1z\"/>\n                            <path class=\"nad-arrow-out\" transform=\"scale(10.00)\" d=\"M-1 1 H1 L0 -1z\"/>\n                        </g>\n                        <text transform=\"rotate(-341.20)\" x=\"-19.00\" style=\"text-anchor:end\"></text>\n                    </g>\n                </g>\n            </g>\n        </g>\n        <g id=\"29\">\n            <g id=\"29.1\" class=\"nad-vl300to500-line\">\n                <path class=\"nad-edge-path\" d=\"M345.86,-356.01 L346.72,-333.53 C348.26,-293.56 323.08,-288.66 314.23,-293.33\"/>\n                <g class=\"nad-edge-infos\" transform=\"translate(346.72,-333.53)\">\n                    <g class=\"nad-active\">\n                        <g transform=\"rotate(177.79)\">\n                            <path class=\"nad-arrow-in\" transform=\"scale(10.00)\" d=\"M-1 -1 H1 L0 1z\"/>\n                            <path class=\"nad-arrow-out\" transform=\"scale(10.00)\" d=\"M-1 1 H1 L0 -1z\"/>\n                        </g>\n                        <text transform=\"rotate(87.79)\" x=\"19.00\"></text>\n                    </g>\n                </g>\n            </g>\n            <g id=\"29.2\" class=\"nad-vl300to500-line\">\n                <path class=\"nad-edge-path\" d=\"M320.38,-398.81 L275.95,-370.83 C242.11,-349.51 252.30,-325.96 261.15,-321.30\"/>\n                <g class=\"nad-edge-infos\" transform=\"translate(275.95,-370.83)\">\n                    <g class=\"nad-active\">\n                        <g transform=\"rotate(-122.21)\">\n                            <path class=\"nad-arrow-in\" transform=\"scale(10.00)\" d=\"M-1 -1 H1 L0 1z\"/>\n                            <path class=\"nad-arrow-out\" transform=\"scale(10.00)\" d=\"M-1 1 H1 L0 -1z\"/>\n                        </g>\n                        <text transform=\"rotate(-32.21)\" x=\"-19.00\" style=\"text-anchor:end\"></text>\n                    </g>\n                </g>\n            </g>\n            <g class=\"nad-glued-center\">\n                <circle class=\"nad-vl300to500-line nad-winding\" cx=\"296.54\" cy=\"-302.65\" r=\"20.00\"/>\n                <circle class=\"nad-vl300to500-line nad-winding\" cx=\"278.84\" cy=\"-311.98\" r=\"20.00\"/>\n                <path d=\"M60.00,0 0,60.00 M52.00,0 60.00,0 60.00,8.00\" transform=\"matrix(-0.88,-0.47,0.47,-0.88,300.24,-266.79)\" class=\"nad-pst-arrow\"/>\n            </g>\n        </g>\n        <g id=\"30\">\n            <g id=\"30.1\" class=\"nad-vl300to500-line\">\n                <polyline class=\"nad-edge-path nad-stretchable nad-glued-1\" points=\"-465.84,504.68 -439.00,345.61\"/>\n                <g class=\"nad-glued-1 nad-edge-infos\" transform=\"translate(-460.43,472.63)\">\n                    <g class=\"nad-active\">\n                        <g transform=\"rotate(9.58)\">\n                            <path class=\"nad-arrow-in\" transform=\"scale(10.00)\" d=\"M-1 -1 H1 L0 1z\"/>\n                            <path class=\"nad-arrow-out\" transform=\"scale(10.00)\" d=\"M-1 1 H1 L0 -1z\"/>\n                        </g>\n                        <text transform=\"rotate(-80.42)\" x=\"19.00\"></text>\n                    </g>\n                </g>\n            </g>\n            <g id=\"30.2\" class=\"nad-vl300to500-line\">\n                <polyline class=\"nad-edge-path nad-stretchable nad-glued-2\" points=\"-412.15,186.55 -439.00,345.61\"/>\n                <g class=\"nad-glued-2 nad-edge-infos\" transform=\"translate(-417.56,218.60)\">\n                    <g class=\"nad-active\">\n                        <g transform=\"rotate(-170.42)\">\n                            <path class=\"nad-arrow-in\" transform=\"scale(10.00)\" d=\"M-1 -1 H1 L0 1z\"/>\n                            <path class=\"nad-arrow-out\" transform=\"scale(10.00)\" d=\"M-1 1 H1 L0 -1z\"/>\n                        </g>\n                        <text transform=\"rotate(-80.42)\" x=\"-19.00\" style=\"text-anchor:end\"></text>\n                    </g>\n                </g>\n            </g>\n        </g>\n        <g id=\"31\">\n            <g id=\"31.1\" class=\"nad-vl300to500-line\">\n                <polyline class=\"nad-edge-path nad-stretchable nad-glued-1\" points=\"-443.33,527.02 -286.29,499.32\"/>\n                <g class=\"nad-glued-1 nad-edge-infos\" transform=\"translate(-411.33,521.37)\">\n                    <g class=\"nad-active\">\n                        <g transform=\"rotate(80.00)\">\n                            <path class=\"nad-arrow-in\" transform=\"scale(10.00)\" d=\"M-1 -1 H1 L0 1z\"/>\n                            <path class=\"nad-arrow-out\" transform=\"scale(10.00)\" d=\"M-1 1 H1 L0 -1z\"/>\n                        </g>\n                        <text transform=\"rotate(-10.00)\" x=\"19.00\"></text>\n                    </g>\n                </g>\n            </g>\n            <g id=\"31.2\" class=\"nad-vl300to500-line\">\n                <polyline class=\"nad-edge-path nad-stretchable nad-glued-2\" points=\"-129.24,471.62 -286.29,499.32\"/>\n                <g class=\"nad-glued-2 nad-edge-infos\" transform=\"translate(-161.25,477.26)\">\n                    <g class=\"nad-active\">\n                        <g transform=\"rotate(-100.00)\">\n                            <path class=\"nad-arrow-in\" transform=\"scale(10.00)\" d=\"M-1 -1 H1 L0 1z\"/>\n                            <path class=\"nad-arrow-out\" transform=\"scale(10.00)\" d=\"M-1 1 H1 L0 -1z\"/>\n                        </g>\n                        <text transform=\"rotate(-10.00)\" x=\"-19.00\" style=\"text-anchor:end\"></text>\n                    </g>\n                </g>\n            </g>\n        </g>\n        <g id=\"32\">\n            <g id=\"32.1\" class=\"nad-vl300to500-line\">\n                <polyline class=\"nad-edge-path nad-stretchable nad-glued-1\" points=\"-388.19,178.94 -254.87,313.14\"/>\n                <g class=\"nad-glued-1 nad-edge-infos\" transform=\"translate(-365.29,202.00)\">\n                    <g class=\"nad-active\">\n                        <g transform=\"rotate(135.19)\">\n                            <path class=\"nad-arrow-in\" transform=\"scale(10.00)\" d=\"M-1 -1 H1 L0 1z\"/>\n                            <path class=\"nad-arrow-out\" transform=\"scale(10.00)\" d=\"M-1 1 H1 L0 -1z\"/>\n                        </g>\n                        <text transform=\"rotate(45.19)\" x=\"19.00\"></text>\n                    </g>\n                </g>\n            </g>\n            <g id=\"32.2\" class=\"nad-vl300to500-line\">\n                <polyline class=\"nad-edge-path nad-stretchable nad-glued-2\" points=\"-121.54,447.33 -254.87,313.14\"/>\n                <g class=\"nad-glued-2 nad-edge-infos\" transform=\"translate(-144.45,424.28)\">\n                    <g class=\"nad-active\">\n                        <g transform=\"rotate(-44.81)\">\n                            <path class=\"nad-arrow-in\" transform=\"scale(10.00)\" d=\"M-1 -1 H1 L0 1z\"/>\n                            <path class=\"nad-arrow-out\" transform=\"scale(10.00)\" d=\"M-1 1 H1 L0 -1z\"/>\n                        </g>\n                        <text transform=\"rotate(-314.81)\" x=\"-19.00\" style=\"text-anchor:end\"></text>\n                    </g>\n                </g>\n            </g>\n        </g>\n        <g id=\"33\">\n            <g id=\"33.1\" class=\"nad-vl300to500-line\">\n                <polyline class=\"nad-edge-path nad-stretchable nad-glued-1\" points=\"-409.77,132.02 -426.87,-81.37\"/>\n                <g class=\"nad-glued-1 nad-edge-infos\" transform=\"translate(-412.37,99.62)\">\n                    <g class=\"nad-active\">\n                        <g transform=\"rotate(-4.58)\">\n                            <path class=\"nad-arrow-in\" transform=\"scale(10.00)\" d=\"M-1 -1 H1 L0 1z\"/>\n                            <path class=\"nad-arrow-out\" transform=\"scale(10.00)\" d=\"M-1 1 H1 L0 -1z\"/>\n                        </g>\n                        <text transform=\"rotate(-274.58)\" x=\"-19.00\" style=\"text-anchor:end\"></text>\n                    </g>\n                </g>\n            </g>\n            <g id=\"33.2\" class=\"nad-vl300to500-line\">\n                <polyline class=\"nad-edge-path nad-stretchable nad-glued-2\" points=\"-443.96,-294.75 -426.87,-81.37\"/>\n                <g class=\"nad-glued-2 nad-edge-infos\" transform=\"translate(-441.36,-262.36)\">\n                    <g class=\"nad-active\">\n                        <g transform=\"rotate(175.42)\">\n                            <path class=\"nad-arrow-in\" transform=\"scale(10.00)\" d=\"M-1 -1 H1 L0 1z\"/>\n                            <path class=\"nad-arrow-out\" transform=\"scale(10.00)\" d=\"M-1 1 H1 L0 -1z\"/>\n                        </g>\n                        <text transform=\"rotate(85.42)\" x=\"19.00\"></text>\n                    </g>\n                </g>\n            </g>\n        </g>\n        <g id=\"34\">\n            <g id=\"34.1\" class=\"nad-vl300to500-line\">\n                <polyline class=\"nad-edge-path nad-stretchable nad-glued-1\" points=\"336.12,434.31 130.69,449.56\"/>\n                <g class=\"nad-glued-1 nad-edge-infos\" transform=\"translate(303.71,436.72)\">\n                    <g class=\"nad-active\">\n                        <g transform=\"rotate(-94.24)\">\n                            <path class=\"nad-arrow-in\" transform=\"scale(10.00)\" d=\"M-1 -1 H1 L0 1z\"/>\n                            <path class=\"nad-arrow-out\" transform=\"scale(10.00)\" d=\"M-1 1 H1 L0 -1z\"/>\n                        </g>\n                        <text transform=\"rotate(-4.24)\" x=\"-19.00\" style=\"text-anchor:end\"></text>\n                    </g>\n                </g>\n            </g>\n            <g id=\"34.2\" class=\"nad-vl300to500-line\">\n                <polyline class=\"nad-edge-path nad-stretchable nad-glued-2\" points=\"-74.74,464.80 130.69,449.56\"/>\n                <g class=\"nad-glued-2 nad-edge-infos\" transform=\"translate(-42.33,462.40)\">\n                    <g class=\"nad-active\">\n                        <g transform=\"rotate(85.76)\">\n                            <path class=\"nad-arrow-in\" transform=\"scale(10.00)\" d=\"M-1 -1 H1 L0 1z\"/>\n                            <path class=\"nad-arrow-out\" transform=\"scale(10.00)\" d=\"M-1 1 H1 L0 -1z\"/>\n                        </g>\n                        <text transform=\"rotate(-4.24)\" x=\"19.00\"></text>\n                    </g>\n                </g>\n            </g>\n        </g>\n        <g id=\"35\">\n            <g id=\"35.1\" class=\"nad-vl300to500-line\">\n                <polyline class=\"nad-edge-path nad-stretchable nad-glued-1\" points=\"709.63,402.80 550.29,416.37\"/>\n                <g class=\"nad-glued-1 nad-edge-infos\" transform=\"translate(677.25,405.56)\">\n                    <g class=\"nad-active\">\n                        <g transform=\"rotate(-94.87)\">\n                            <path class=\"nad-arrow-in\" transform=\"scale(10.00)\" d=\"M-1 -1 H1 L0 1z\"/>\n                            <path class=\"nad-arrow-out\" transform=\"scale(10.00)\" d=\"M-1 1 H1 L0 -1z\"/>\n                        </g>\n                        <text transform=\"rotate(-4.87)\" x=\"-19.00\" style=\"text-anchor:end\"></text>\n                    </g>\n                </g>\n            </g>\n            <g id=\"35.2\" class=\"nad-vl300to500-line\">\n                <polyline class=\"nad-edge-path nad-stretchable nad-glued-2\" points=\"390.95,429.94 550.29,416.37\"/>\n                <g class=\"nad-glued-2 nad-edge-infos\" transform=\"translate(423.33,427.18)\">\n                    <g class=\"nad-active\">\n                        <g transform=\"rotate(85.13)\">\n                            <path class=\"nad-arrow-in\" transform=\"scale(10.00)\" d=\"M-1 -1 H1 L0 1z\"/>\n                            <path class=\"nad-arrow-out\" transform=\"scale(10.00)\" d=\"M-1 1 H1 L0 -1z\"/>\n                        </g>\n                        <text transform=\"rotate(-4.87)\" x=\"19.00\"></text>\n                    </g>\n                </g>\n            </g>\n        </g>\n        <g id=\"36\">\n            <g id=\"36.1\" class=\"nad-vl300to500-line\">\n                <polyline class=\"nad-edge-path nad-stretchable nad-glued-1\" points=\"723.64,376.44 641.01,228.19\"/>\n                <g class=\"nad-glued-1 nad-edge-infos\" transform=\"translate(707.82,348.06)\">\n                    <g class=\"nad-active\">\n                        <g transform=\"rotate(-29.13)\">\n                            <path class=\"nad-arrow-in\" transform=\"scale(10.00)\" d=\"M-1 -1 H1 L0 1z\"/>\n                            <path class=\"nad-arrow-out\" transform=\"scale(10.00)\" d=\"M-1 1 H1 L0 -1z\"/>\n                        </g>\n                        <text transform=\"rotate(-299.13)\" x=\"-19.00\" style=\"text-anchor:end\"></text>\n                    </g>\n                </g>\n            </g>\n            <g id=\"36.2\" class=\"nad-vl300to500-line\">\n                <polyline class=\"nad-edge-path nad-stretchable nad-glued-2\" points=\"558.37,79.94 641.01,228.19\"/>\n                <g class=\"nad-glued-2 nad-edge-infos\" transform=\"translate(574.20,108.33)\">\n                    <g class=\"nad-active\">\n                        <g transform=\"rotate(150.87)\">\n                            <path class=\"nad-arrow-in\" transform=\"scale(10.00)\" d=\"M-1 -1 H1 L0 1z\"/>\n                            <path class=\"nad-arrow-out\" transform=\"scale(10.00)\" d=\"M-1 1 H1 L0 -1z\"/>\n                        </g>\n                        <text transform=\"rotate(60.87)\" x=\"19.00\"></text>\n                    </g>\n                </g>\n            </g>\n        </g>\n        <g id=\"37\">\n            <g id=\"37.1\" class=\"nad-vl300to500-line\">\n                <polyline class=\"nad-edge-path nad-stretchable nad-glued-1\" points=\"375.49,407.50 454.27,244.10\"/>\n                <g class=\"nad-glued-1 nad-edge-infos\" transform=\"translate(389.60,378.23)\">\n                    <g class=\"nad-active\">\n                        <g transform=\"rotate(25.74)\">\n                            <path class=\"nad-arrow-in\" transform=\"scale(10.00)\" d=\"M-1 -1 H1 L0 1z\"/>\n                            <path class=\"nad-arrow-out\" transform=\"scale(10.00)\" d=\"M-1 1 H1 L0 -1z\"/>\n                        </g>\n                        <text transform=\"rotate(-64.26)\" x=\"19.00\"></text>\n                    </g>\n                </g>\n            </g>\n            <g id=\"37.2\" class=\"nad-vl300to500-line\">\n                <polyline class=\"nad-edge-path nad-stretchable nad-glued-2\" points=\"533.04,80.69 454.27,244.10\"/>\n                <g class=\"nad-glued-2 nad-edge-infos\" transform=\"translate(518.93,109.97)\">\n                    <g class=\"nad-active\">\n                        <g transform=\"rotate(-154.26)\">\n                            <path class=\"nad-arrow-in\" transform=\"scale(10.00)\" d=\"M-1 -1 H1 L0 1z\"/>\n                            <path class=\"nad-arrow-out\" transform=\"scale(10.00)\" d=\"M-1 1 H1 L0 -1z\"/>\n                        </g>\n                        <text transform=\"rotate(-64.26)\" x=\"-19.00\" style=\"text-anchor:end\"></text>\n                    </g>\n                </g>\n            </g>\n        </g>\n        <g id=\"38\">\n            <g id=\"38.1\" class=\"nad-vl300to500-line\">\n                <polyline class=\"nad-edge-path nad-stretchable nad-glued-1\" points=\"-462.45,-696.29 -306.41,-639.30\"/>\n                <g class=\"nad-glued-1 nad-edge-infos\" transform=\"translate(-431.93,-685.14)\">\n                    <g class=\"nad-active\">\n                        <g transform=\"rotate(110.06)\">\n                            <path class=\"nad-arrow-in\" transform=\"scale(10.00)\" d=\"M-1 -1 H1 L0 1z\"/>\n                            <path class=\"nad-arrow-out\" transform=\"scale(10.00)\" d=\"M-1 1 H1 L0 -1z\"/>\n                        </g>\n                        <text transform=\"rotate(20.06)\" x=\"19.00\"></text>\n                    </g>\n                </g>\n            </g>\n            <g id=\"38.2\" class=\"nad-vl300to500-line\">\n                <polyline class=\"nad-edge-path nad-stretchable nad-glued-2\" points=\"-150.36,-582.31 -306.41,-639.30\"/>\n                <g class=\"nad-glued-2 nad-edge-infos\" transform=\"translate(-180.89,-593.46)\">\n                    <g class=\"nad-active\">\n                        <g transform=\"rotate(-69.94)\">\n                            <path class=\"nad-arrow-in\" transform=\"scale(10.00)\" d=\"M-1 -1 H1 L0 1z\"/>\n                            <path class=\"nad-arrow-out\" transform=\"scale(10.00)\" d=\"M-1 1 H1 L0 -1z\"/>\n                        </g>\n                        <text transform=\"rotate(-339.94)\" x=\"-19.00\" style=\"text-anchor:end\"></text>\n                    </g>\n                </g>\n            </g>\n        </g>\n        <g id=\"39\">\n            <g id=\"39.1\" class=\"nad-vl300to500-line\">\n                <polyline class=\"nad-edge-path nad-stretchable nad-glued-1\" points=\"-485.28,-678.39 -467.22,-513.94\"/>\n                <g class=\"nad-glued-1 nad-edge-infos\" transform=\"translate(-481.73,-646.08)\">\n                    <g class=\"nad-active\">\n                        <g transform=\"rotate(173.73)\">\n                            <path class=\"nad-arrow-in\" transform=\"scale(10.00)\" d=\"M-1 -1 H1 L0 1z\"/>\n                            <path class=\"nad-arrow-out\" transform=\"scale(10.00)\" d=\"M-1 1 H1 L0 -1z\"/>\n                        </g>\n                        <text transform=\"rotate(83.73)\" x=\"19.00\"></text>\n                    </g>\n                </g>\n            </g>\n            <g id=\"39.2\" class=\"nad-vl300to500-line\">\n                <polyline class=\"nad-edge-path nad-stretchable nad-glued-2\" points=\"-449.16,-349.50 -467.22,-513.94\"/>\n                <g class=\"nad-glued-2 nad-edge-infos\" transform=\"translate(-452.71,-381.81)\">\n                    <g class=\"nad-active\">\n                        <g transform=\"rotate(-6.27)\">\n                            <path class=\"nad-arrow-in\" transform=\"scale(10.00)\" d=\"M-1 -1 H1 L0 1z\"/>\n                            <path class=\"nad-arrow-out\" transform=\"scale(10.00)\" d=\"M-1 1 H1 L0 -1z\"/>\n                        </g>\n                        <text transform=\"rotate(-276.27)\" x=\"-19.00\" style=\"text-anchor:end\"></text>\n                    </g>\n                </g>\n            </g>\n        </g>\n        <g id=\"40\">\n            <g id=\"40.1\" class=\"nad-vl300to500-line\">\n                <polyline class=\"nad-edge-path nad-stretchable nad-glued-1\" points=\"-146.22,-555.97 -285.34,-447.52\"/>\n                <g class=\"nad-glued-1 nad-edge-infos\" transform=\"translate(-171.85,-535.99)\">\n                    <g class=\"nad-active\">\n                        <g transform=\"rotate(-127.94)\">\n                            <path class=\"nad-arrow-in\" transform=\"scale(10.00)\" d=\"M-1 -1 H1 L0 1z\"/>\n                            <path class=\"nad-arrow-out\" transform=\"scale(10.00)\" d=\"M-1 1 H1 L0 -1z\"/>\n                        </g>\n                        <text transform=\"rotate(-37.94)\" x=\"-19.00\" style=\"text-anchor:end\"></text>\n                    </g>\n                </g>\n            </g>\n            <g id=\"40.2\" class=\"nad-vl300to500-line\">\n                <polyline class=\"nad-edge-path nad-stretchable nad-glued-2\" points=\"-424.47,-339.07 -285.34,-447.52\"/>\n                <g class=\"nad-glued-2 nad-edge-infos\" transform=\"translate(-398.83,-359.05)\">\n                    <g class=\"nad-active\">\n                        <g transform=\"rotate(52.06)\">\n                            <path class=\"nad-arrow-in\" transform=\"scale(10.00)\" d=\"M-1 -1 H1 L0 1z\"/>\n                            <path class=\"nad-arrow-out\" transform=\"scale(10.00)\" d=\"M-1 1 H1 L0 -1z\"/>\n                        </g>\n                        <text transform=\"rotate(-37.94)\" x=\"19.00\"></text>\n                    </g>\n                </g>\n            </g>\n        </g>\n    </g>\n    <g class=\"nad-text-edges\">\n        <polyline id=\"0-textedge\" points=\"606.71,-744.84 677.04,-755.39\"/>\n        <polyline id=\"2-textedge\" points=\"402.98,-422.37 443.64,-428.47\"/>\n        <polyline id=\"5-textedge\" points=\"-440.75,527.34 -370.42,516.79\"/>\n        <polyline id=\"7-textedge\" points=\"-377.91,154.98 -307.58,144.43\"/>\n        <polyline id=\"9-textedge\" points=\"-72.49,462.39 -2.16,451.84\"/>\n        <polyline id=\"11-textedge\" points=\"766.70,396.01 837.03,385.46\"/>\n        <polyline id=\"13-textedge\" points=\"393.21,427.82 463.55,417.27\"/>\n        <polyline id=\"15-textedge\" points=\"574.65,51.47 644.99,40.92\"/>\n        <polyline id=\"17-textedge\" points=\"-458.62,-710.17 -388.28,-720.72\"/>\n        <polyline id=\"19-textedge\" points=\"-94.86,-577.32 -24.53,-587.87\"/>\n        <polyline id=\"21-textedge\" points=\"-416.49,-326.61 -346.15,-337.16\"/>\n    </g>\n    <g class=\"nad-text-nodes\">\n        <foreignObject id=\"0-textnode\" y=\"-780.39\" x=\"677.04\" height=\"1\" width=\"1\">\n            <div xmlns=\"http://www.w3.org/1999/xhtml\" class=\"nad-label-box\">\n                <div>BBE1AA1</div>\n                <table>\n                    <tr>\n                        <td>\n                            <div class=\"nad-vl300to500-0 nad-legend-square\"/>\n                        </td>\n                        <td> kV / °</td>\n                    </tr>\n                </table>\n            </div>\n        </foreignObject>\n        <foreignObject id=\"2-textnode\" y=\"-453.47\" x=\"443.64\" height=\"1\" width=\"1\">\n            <div xmlns=\"http://www.w3.org/1999/xhtml\" class=\"nad-label-box\">\n                <div>BBE2AA1</div>\n                <table>\n                    <tr>\n                        <td>\n                            <div class=\"nad-vl300to500-0 nad-legend-square\"/>\n                        </td>\n                        <td> kV / °</td>\n                    </tr>\n                    <tr>\n                        <td>\n                            <div class=\"nad-vl300to500-1 nad-legend-square\"/>\n                        </td>\n                        <td> kV / °</td>\n                    </tr>\n                </table>\n            </div>\n        </foreignObject>\n        <foreignObject id=\"5-textnode\" y=\"491.79\" x=\"-370.42\" height=\"1\" width=\"1\">\n            <div xmlns=\"http://www.w3.org/1999/xhtml\" class=\"nad-label-box\">\n                <div>DDE1AA1</div>\n                <table>\n                    <tr>\n                        <td>\n                            <div class=\"nad-vl300to500-0 nad-legend-square\"/>\n                        </td>\n                        <td> kV / °</td>\n                    </tr>\n                </table>\n            </div>\n        </foreignObject>\n        <foreignObject id=\"7-textnode\" y=\"119.43\" x=\"-307.58\" height=\"1\" width=\"1\">\n            <div xmlns=\"http://www.w3.org/1999/xhtml\" class=\"nad-label-box\">\n                <div>DDE2AA1</div>\n                <table>\n                    <tr>\n                        <td>\n                            <div class=\"nad-vl300to500-0 nad-legend-square\"/>\n                        </td>\n                        <td> kV / °</td>\n                    </tr>\n                </table>\n            </div>\n        </foreignObject>\n        <foreignObject id=\"9-textnode\" y=\"426.84\" x=\"-2.16\" height=\"1\" width=\"1\">\n            <div xmlns=\"http://www.w3.org/1999/xhtml\" class=\"nad-label-box\">\n                <div>DDE3AA1</div>\n                <table>\n                    <tr>\n                        <td>\n                            <div class=\"nad-vl300to500-0 nad-legend-square\"/>\n                        </td>\n                        <td> kV / °</td>\n                    </tr>\n                </table>\n            </div>\n        </foreignObject>\n        <foreignObject id=\"11-textnode\" y=\"360.46\" x=\"837.03\" height=\"1\" width=\"1\">\n            <div xmlns=\"http://www.w3.org/1999/xhtml\" class=\"nad-label-box\">\n                <div>FFR1AA1</div>\n                <table>\n                    <tr>\n                        <td>\n                            <div class=\"nad-vl300to500-0 nad-legend-square\"/>\n                        </td>\n                        <td> kV / °</td>\n                    </tr>\n                </table>\n            </div>\n        </foreignObject>\n        <foreignObject id=\"13-textnode\" y=\"392.27\" x=\"463.55\" height=\"1\" width=\"1\">\n            <div xmlns=\"http://www.w3.org/1999/xhtml\" class=\"nad-label-box\">\n                <div>FFR2AA1</div>\n                <table>\n                    <tr>\n                        <td>\n                            <div class=\"nad-vl300to500-0 nad-legend-square\"/>\n                        </td>\n                        <td> kV / °</td>\n                    </tr>\n                </table>\n            </div>\n        </foreignObject>\n        <foreignObject id=\"15-textnode\" y=\"15.92\" x=\"644.99\" height=\"1\" width=\"1\">\n            <div xmlns=\"http://www.w3.org/1999/xhtml\" class=\"nad-label-box\">\n                <div>FFR3AA1</div>\n                <table>\n                    <tr>\n                        <td>\n                            <div class=\"nad-vl300to500-0 nad-legend-square\"/>\n                        </td>\n                        <td> kV / °</td>\n                    </tr>\n                </table>\n            </div>\n        </foreignObject>\n        <foreignObject id=\"17-textnode\" y=\"-745.72\" x=\"-388.28\" height=\"1\" width=\"1\">\n            <div xmlns=\"http://www.w3.org/1999/xhtml\" class=\"nad-label-box\">\n                <div>NNL1AA1</div>\n                <table>\n                    <tr>\n                        <td>\n                            <div class=\"nad-vl300to500-0 nad-legend-square\"/>\n                        </td>\n                        <td> kV / °</td>\n                    </tr>\n                </table>\n            </div>\n        </foreignObject>\n        <foreignObject id=\"19-textnode\" y=\"-612.87\" x=\"-24.53\" height=\"1\" width=\"1\">\n            <div xmlns=\"http://www.w3.org/1999/xhtml\" class=\"nad-label-box\">\n                <div>NNL2AA1</div>\n                <table>\n                    <tr>\n                        <td>\n                            <div class=\"nad-vl300to500-0 nad-legend-square\"/>\n                        </td>\n                        <td> kV / °</td>\n                    </tr>\n                </table>\n            </div>\n        </foreignObject>\n        <foreignObject id=\"21-textnode\" y=\"-362.16\" x=\"-346.15\" height=\"1\" width=\"1\">\n            <div xmlns=\"http://www.w3.org/1999/xhtml\" class=\"nad-label-box\">\n                <div>NNL3AA1</div>\n                <table>\n                    <tr>\n                        <td>\n                            <div class=\"nad-vl300to500-0 nad-legend-square\"/>\n                        </td>\n                        <td> kV / °</td>\n                    </tr>\n                </table>\n            </div>\n        </foreignObject>\n    </g>\n</svg>\n"
     },
     "execution_count": 44,
     "metadata": {},
     "output_type": "execute_result"
    }
   ],
   "execution_count": 44
  },
  {
   "cell_type": "markdown",
   "metadata": {},
   "source": [
    "## 1 - Simple N case overload"
   ]
  },
  {
   "cell_type": "markdown",
   "metadata": {},
   "source": [
    "To check the initial situation we can just run a loadflow on the network and redraw the network."
   ]
  },
  {
   "cell_type": "code",
   "metadata": {
    "ExecuteTime": {
     "end_time": "2025-04-25T09:44:29.905286Z",
     "start_time": "2025-04-25T09:44:29.878799Z"
    }
   },
   "source": [
    "pp.loadflow.run_dc(n12)\n",
    "n12.get_network_area_diagram()"
   ],
   "outputs": [
    {
     "name": "stderr",
     "output_type": "stream",
     "text": [
      "2025-04-25 11:44:29,880 - INFO - loadflow provider used is : OpenLoadFlow\n",
      "2025-04-25 11:44:29,881 - INFO - Version: {repositoryName=powsybl-open-loadflow, mavenProjectVersion=1.14.1, gitVersion=092b42a34ce74e1a2fe7c58ce5b5422945218e8d, gitBranch=UNKNOWN, buildTimestamp=2024-12-18T10:01:21.754Z}\n",
      "2025-04-25 11:44:29,885 - INFO - Parameters:\n",
      "┌───────────────────────────┬───────────────────────────────────────────────────────────┬──────────────────────────────────┐\n",
      "│ Category                  │ Name                                                      │ Value                            │\n",
      "├───────────────────────────┼───────────────────────────────────────────────────────────┼──────────────────────────────────┤\n",
      "│ Automation                │ simulateAutomationSystems                                 │ false                            │\n",
      "│ DC                        │ dcApproximationType                                       │ IGNORE_R                         │\n",
      "│                           │ dcPowerFactor                                             │ 1.0                              │\n",
      "│                           │ dcUseTransformerRatio                                     │ true                             │\n",
      "│ Debug                     │ alwaysUpdateNetwork                                       │ false                            │\n",
      "│                           │ debugDir                                                  │                                  │\n",
      "│ FastRestart               │ actionableSwitchesIds                                     │ []                               │\n",
      "│                           │ actionableTransformersIds                                 │ []                               │\n",
      "│                           │ networkCacheEnabled                                       │ false                            │\n",
      "│ GeneratorVoltageControl   │ disableVoltageControlOfGeneratorsOutsideActivePowerLimits │ false                            │\n",
      "│                           │ fictitiousGeneratorVoltageControlCheckMode                │ FORCED                           │\n",
      "│                           │ reactiveLimitsMaxPqPvSwitch                               │ 3                                │\n",
      "│                           │ reactivePowerDispatchMode                                 │ Q_EQUAL_PROPORTION               │\n",
      "│                           │ reactiveRangeCheckMode                                    │ MAX                              │\n",
      "│                           │ svcVoltageMonitoring                                      │ true                             │\n",
      "│                           │ voltagePerReactivePowerControl                            │ false                            │\n",
      "│                           │ voltageRemoteControl                                      │ true                             │\n",
      "│ HVDC                      │ hvdcAcEmulation                                           │ true                             │\n",
      "│ Model                     │ asymmetrical                                              │ false                            │\n",
      "│                           │ dc                                                        │ true                             │\n",
      "│                           │ linePerUnitMode                                           │ IMPEDANCE                        │\n",
      "│                           │ lowImpedanceBranchMode                                    │ REPLACE_BY_ZERO_IMPEDANCE_LINE   │\n",
      "│                           │ lowImpedanceThreshold                                     │ 1.0E-8                           │\n",
      "│                           │ twtSplitShuntAdmittance                                   │ false                            │\n",
      "│                           │ useLoadModel                                              │ false                            │\n",
      "│ NewtonKrylov              │ maxNewtonKrylovIterations                                 │ 100                              │\n",
      "│                           │ newtonKrylovLineSearch                                    │ false                            │\n",
      "│ NewtonRaphson             │ lineSearchStateVectorScalingMaxIteration                  │ 10                               │\n",
      "│                           │ lineSearchStateVectorScalingStepFold                      │ 1.3333333333333333               │\n",
      "│                           │ maxActivePowerMismatch                                    │ 0.01                             │\n",
      "│                           │ maxAngleMismatch                                          │ 1.0E-5                           │\n",
      "│                           │ maxNewtonRaphsonIterations                                │ 15                               │\n",
      "│                           │ maxRatioMismatch                                          │ 1.0E-5                           │\n",
      "│                           │ maxReactivePowerMismatch                                  │ 0.01                             │\n",
      "│                           │ maxRealisticVoltage                                       │ 2.0                              │\n",
      "│                           │ maxSusceptanceMismatch                                    │ 1.0E-4                           │\n",
      "│                           │ maxVoltageChangeStateVectorScalingMaxDphi                 │ 0.17453292519943295              │\n",
      "│                           │ maxVoltageChangeStateVectorScalingMaxDv                   │ 0.1                              │\n",
      "│                           │ maxVoltageMismatch                                        │ 1.0E-4                           │\n",
      "│                           │ minRealisticVoltage                                       │ 0.5                              │\n",
      "│                           │ newtonRaphsonConvEpsPerEq                                 │ 1.0E-4                           │\n",
      "│                           │ newtonRaphsonStoppingCriteriaType                         │ UNIFORM_CRITERIA                 │\n",
      "│                           │ stateVectorScalingMode                                    │ NONE                             │\n",
      "│ OuterLoops                │ maxOuterLoopIterations                                    │ 20                               │\n",
      "│                           │ outerLoopNames                                            │                                  │\n",
      "│ Performance               │ computedConnectedComponentScope                           │ MAIN                             │\n",
      "│ PhaseControl              │ phaseShifterControlMode                                   │ CONTINUOUS_WITH_DISCRETISATION   │\n",
      "│                           │ phaseShifterRegulationOn                                  │ false                            │\n",
      "│ ReactivePowerControl      │ generatorReactivePowerRemoteControl                       │ false                            │\n",
      "│                           │ transformerReactivePowerControl                           │ false                            │\n",
      "│ ReferenceBus              │ referenceBusSelectionMode                                 │ FIRST_SLACK                      │\n",
      "│                           │ writeReferenceTerminals                                   │ true                             │\n",
      "│ Reporting                 │ reportedFeatures                                          │ []                               │\n",
      "│ ShuntVoltageControl       │ shuntCompensatorVoltageControlOn                          │ false                            │\n",
      "│                           │ shuntVoltageControlMode                                   │ WITH_GENERATOR_VOLTAGE_CONTROL   │\n",
      "│ SlackDistribution         │ areaInterchangeControl                                    │ false                            │\n",
      "│                           │ areaInterchangeControlAreaType                            │ ControlArea                      │\n",
      "│                           │ areaInterchangePMaxMismatch                               │ 2.0                              │\n",
      "│                           │ balanceType                                               │ PROPORTIONAL_TO_GENERATION_P_MAX │\n",
      "│                           │ countriesToBalance                                        │ []                               │\n",
      "│                           │ distributedSlack                                          │ true                             │\n",
      "│                           │ loadPowerFactorConstant                                   │ false                            │\n",
      "│                           │ maxSlackBusCount                                          │ 1                                │\n",
      "│                           │ mostMeshedSlackBusSelectorMaxNominalVoltagePercentile     │ 95.0                             │\n",
      "│                           │ plausibleActivePowerLimit                                 │ 5000.0                           │\n",
      "│                           │ readSlackBus                                              │ true                             │\n",
      "│                           │ slackBusCountryFilter                                     │ []                               │\n",
      "│                           │ slackBusPMaxMismatch                                      │ 1.0                              │\n",
      "│                           │ slackBusSelectionMode                                     │ MOST_MESHED                      │\n",
      "│                           │ slackBusesIds                                             │ []                               │\n",
      "│                           │ slackDistributionFailureBehavior                          │ LEAVE_ON_SLACK_BUS               │\n",
      "│                           │ useActiveLimits                                           │ true                             │\n",
      "│                           │ writeSlackBus                                             │ true                             │\n",
      "│ Solver                    │ acSolverType                                              │ NEWTON_RAPHSON                   │\n",
      "│ TransformerVoltageControl │ generatorVoltageControlMinNominalVoltage                  │ -1.0                             │\n",
      "│                           │ incrementalTransformerRatioTapControlOuterLoopMaxTapShift │ 3                                │\n",
      "│                           │ transformerVoltageControlMode                             │ WITH_GENERATOR_VOLTAGE_CONTROL   │\n",
      "│                           │ transformerVoltageControlOn                               │ false                            │\n",
      "│                           │ transformerVoltageControlUseInitialTapPosition            │ false                            │\n",
      "│ VoltageControls           │ maxPlausibleTargetVoltage                                 │ 1.2                              │\n",
      "│                           │ minNominalVoltageTargetVoltageCheck                       │ 20.0                             │\n",
      "│                           │ minPlausibleTargetVoltage                                 │ 0.8                              │\n",
      "│                           │ secondaryVoltageControl                                   │ false                            │\n",
      "│                           │ useReactiveLimits                                         │ true                             │\n",
      "│                           │ voltageTargetPriorities                                   │ [GENERATOR, TRANSFORMER, SHUNT]  │\n",
      "│ VoltageInit               │ voltageInitMode                                           │ UNIFORM_VALUES                   │\n",
      "│                           │ voltageInitModeOverride                                   │ NONE                             │\n",
      "└───────────────────────────┴───────────────────────────────────────────────────────────┴──────────────────────────────────┘\n",
      "2025-04-25 11:44:29,886 - WARNING - Network {CC0 SC0}: 11 generators have been discarded from active power control because of a targetP equals 0\n",
      "2025-04-25 11:44:29,886 - WARNING - Network {CC0 SC0}: 12 generators have been discarded from active power control because of maxP not plausible\n",
      "2025-04-25 11:44:29,887 - INFO - Network {CC0 SC0} has 12 buses and 16 branches\n",
      "2025-04-25 11:44:29,887 - INFO - Network {CC0 SC0} balance: active generation=1000.0 MW, active load=1000.0 MW, reactive generation=0.0 MVar, reactive load=0.0 MVar\n",
      "2025-04-25 11:44:29,888 - INFO - Network {CC0 SC0}, slack buses are [BBE2AA1_0] (method='Most meshed bus')\n",
      "2025-04-25 11:44:29,888 - INFO - Network {CC0 SC0}, reference bus is BBE2AA1_0 (method='First slack')\n",
      "2025-04-25 11:44:29,889 - INFO - Slack bus active power (-0.0 MW) distributed in 0 distribution iteration(s)\n",
      "2025-04-25 11:44:29,890 - INFO - DC loadflow complete on network {CC0 SC0} (result=DcLoadFlowResult(outerLoopIterations=0, solverSuccess=true, outerLoopStatus=STABLE, slackBusActivePowerMismatch=-0.0, distributedActivePower=0.0))\n",
      "2025-04-25 11:44:29,891 - INFO - Load flow ran in 9 ms\n",
      "2025-04-25 11:44:29,896 - INFO - Number of steps: 688\n",
      "2025-04-25 11:44:29,896 - INFO - Elapsed time: 0.002389342\n",
      "2025-04-25 11:44:29,897 - WARNING - Base voltage configuration file '/home/edwardsphi/.itools/base-voltages.yml' not found, trying to load file 'base-voltages.yml' from resources\n"
     ]
    },
    {
     "data": {
      "text/plain": [
       "<pypowsybl.network.impl.svg.Svg at 0x7fa0ec45c4c0>"
      ],
      "image/svg+xml": "<?xml version=\"1.0\" encoding=\"UTF-8\"?>\n<svg width=\"604.60\" height=\"600.00\" viewBox=\"-688.28 -980.39 1725.31 1712.18\" xmlns=\"http://www.w3.org/2000/svg\">\n    <style><![CDATA[\n.nad-branch-edges .nad-edge-path, .nad-3wt-edges .nad-edge-path {stroke: var(--nad-vl-color, lightgrey); stroke-width: 5; fill: none}\n.nad-branch-edges .nad-winding, .nad-3wt-nodes .nad-winding {stroke: var(--nad-vl-color, lightgrey); stroke-width: 5; fill: none}\n.nad-text-edges {stroke: black; stroke-width: 3; stroke-dasharray: 6,7}\n.nad-disconnected .nad-edge-path {stroke-dasharray: 10,10}\n.nad-vl-nodes .nad-busnode {fill: var(--nad-vl-color, lightgrey)}\n.nad-vl-nodes circle.nad-unknown-busnode {stroke: var(--nad-vl-color, #808080); stroke-width: 5; stroke-dasharray: 5,5; fill: none}\n.nad-hvdc-edge polyline.nad-hvdc {stroke: grey; stroke-width: 40}\n.nad-branch-edges .nad-tie-line-edge .nad-edge-path {stroke-width: 7}\n.nad-pst-arrow {stroke: #6a6a6a; stroke-width: 4; stroke-linecap: round; fill: none}\npath.nad-arrow-out:not(.nad-state-out .nad-arrow-out) {visibility: hidden}\npath.nad-arrow-in:not(.nad-state-in .nad-arrow-in) {visibility: hidden}\n.nad-active {fill: #546e7a}\n.nad-reactive {fill: #0277bd}\n.nad-current {fill: #bd4802}\n.nad-text-background {flood-color: #90a4aeaa}\n.nad-text-nodes {font: 25px serif; fill: black; dominant-baseline: central}\n.nad-text-nodes foreignObject {overflow: visible; color: black}\n.nad-label-box {background-color: #6c6c6c20; width: max-content; padding: 10px; border-radius: 10px;}\n.nad-legend-square {width: 20px; height: 20px; background: var(--nad-vl-color, black);}\n.nad-edge-infos text, .nad-edge-label text {font: 20px serif; dominant-baseline:middle; stroke: #FFFFFFAA; stroke-width: 10; stroke-linejoin:round; paint-order: stroke}\n.nad-disconnected {--nad-vl-color: #808080}\n.nad-vl0to30-line {--nad-vl-color: #afb42b}\n.nad-vl0to30-0 {--nad-vl-color: #827717}\n.nad-vl0to30-1 {--nad-vl-color: #d4e157}\n.nad-vl0to30-2 {--nad-vl-color: #e6ee9c}\n.nad-vl0to30-3 {--nad-vl-color: #c0ca33}\n.nad-vl0to30-4 {--nad-vl-color: #f0fc83}\n.nad-vl0to30-5 {--nad-vl-color: #9e9d24}\n.nad-vl0to30-6 {--nad-vl-color: #cddc39}\n.nad-vl0to30-7 {--nad-vl-color: #dce775}\n.nad-vl0to30-8 {--nad-vl-color: #ddfc88}\n.nad-vl30to50-line {--nad-vl-color: #ef9a9a}\n.nad-vl30to50-0 {--nad-vl-color: #c2185b}\n.nad-vl30to50-1 {--nad-vl-color: #f06292}\n.nad-vl30to50-2 {--nad-vl-color: #d81b60}\n.nad-vl30to50-3 {--nad-vl-color: #ec407a}\n.nad-vl30to50-4 {--nad-vl-color: #880e4f}\n.nad-vl30to50-5 {--nad-vl-color: #ad1457}\n.nad-vl30to50-6 {--nad-vl-color: #e91e63}\n.nad-vl30to50-7 {--nad-vl-color: #f48fb1}\n.nad-vl30to50-8 {--nad-vl-color: #f8bbd0}\n.nad-vl50to70-line {--nad-vl-color: #9c27b0}\n.nad-vl50to70-0 {--nad-vl-color: #7b1fa2}\n.nad-vl50to70-1 {--nad-vl-color: #ba68c8}\n.nad-vl50to70-2 {--nad-vl-color: #512da8}\n.nad-vl50to70-3 {--nad-vl-color: #ab47bc}\n.nad-vl50to70-4 {--nad-vl-color: #e1bee7}\n.nad-vl50to70-5 {--nad-vl-color: #6a1b9a}\n.nad-vl50to70-6 {--nad-vl-color: #4a148c}\n.nad-vl50to70-7 {--nad-vl-color: #ce93d8}\n.nad-vl50to70-8 {--nad-vl-color: #9575cd}\n.nad-vl70to120-line {--nad-vl-color: #e65100}\n.nad-vl70to120-0 {--nad-vl-color: #fb8c00}\n.nad-vl70to120-1 {--nad-vl-color: #ffb74d}\n.nad-vl70to120-2 {--nad-vl-color: #f57c00}\n.nad-vl70to120-3 {--nad-vl-color: #ffa726}\n.nad-vl70to120-4 {--nad-vl-color: #ffe0b2}\n.nad-vl70to120-5 {--nad-vl-color: #ef6c00}\n.nad-vl70to120-6 {--nad-vl-color: #ff9800}\n.nad-vl70to120-7 {--nad-vl-color: #ffcc80}\n.nad-vl70to120-8 {--nad-vl-color: #fff3e0}\n.nad-vl120to180-line {--nad-vl-color: #00ACC1}\n.nad-vl120to180-0 {--nad-vl-color: #4fc3f7}\n.nad-vl120to180-1 {--nad-vl-color: #01579b}\n.nad-vl120to180-2 {--nad-vl-color: #b3e5fc}\n.nad-vl120to180-3 {--nad-vl-color: #039be5}\n.nad-vl120to180-4 {--nad-vl-color: #81d4fa}\n.nad-vl120to180-5 {--nad-vl-color: #0288d1}\n.nad-vl120to180-6 {--nad-vl-color: #29b6f6}\n.nad-vl120to180-7 {--nad-vl-color: #0277bd}\n.nad-vl120to180-8 {--nad-vl-color: #03a9f4}\n.nad-vl180to300-line {--nad-vl-color: #2e7d32}\n.nad-vl180to300-0 {--nad-vl-color: #81c784}\n.nad-vl180to300-1 {--nad-vl-color: #558b2f}\n.nad-vl180to300-2 {--nad-vl-color: #c8e6c9}\n.nad-vl180to300-3 {--nad-vl-color: #43a047}\n.nad-vl180to300-4 {--nad-vl-color: #a5d6a7}\n.nad-vl180to300-5 {--nad-vl-color: #388e3c}\n.nad-vl180to300-6 {--nad-vl-color: #66bb6a}\n.nad-vl180to300-7 {--nad-vl-color: #1b5e20}\n.nad-vl180to300-8 {--nad-vl-color: #4caf50}\n.nad-vl300to500-line {--nad-vl-color: #d32f2f}\n.nad-vl300to500-0 {--nad-vl-color: #ef5350}\n.nad-vl300to500-1 {--nad-vl-color: #ef9a9a}\n.nad-vl300to500-2 {--nad-vl-color: #b71c1c}\n.nad-vl300to500-3 {--nad-vl-color: #e57373}\n.nad-vl300to500-4 {--nad-vl-color: #e53935}\n.nad-vl300to500-5 {--nad-vl-color: #ff8a80}\n.nad-vl300to500-6 {--nad-vl-color: #f44336}\n.nad-vl300to500-7 {--nad-vl-color: #ffcdd2}\n.nad-vl300to500-8 {--nad-vl-color: #c62828}\n.nad-branch-edges .nad-overload .nad-edge-path {animation: line-blink 3s infinite}\n.nad-vl-nodes .nad-overvoltage {animation: node-over-blink 3s infinite}\n.nad-vl-nodes .nad-undervoltage {animation: node-under-blink 3s infinite}\n\n@keyframes line-blink {\n  0%, 80%, 100% {stroke: var(--nad-vl-color, black); stroke-width: 5}\n  40% {stroke: #FFEB3B; stroke-width: 15}\n}\n@keyframes node-over-blink {\n  0%, 80%, 100% {stroke: white; stroke-width: 0}\n  40% {stroke: #ff5722; stroke-width: 15}\n}\n@keyframes node-under-blink {\n  0%, 80%, 100% {stroke: white; stroke-width: 0}\n  40% {stroke: #00BCD4; stroke-width: 15}\n}\n]]></style>\n    <g class=\"nad-vl-nodes\">\n        <g transform=\"translate(577.04,-740.39)\" id=\"0\">\n            <circle r=\"27.50\" id=\"1\" class=\"nad-vl300to500-0 nad-busnode\"/>\n        </g>\n        <g transform=\"translate(343.64,-413.47)\" id=\"2\">\n            <circle r=\"27.50\" id=\"3\" class=\"nad-vl300to500-0 nad-busnode\"/>\n            <path d=\"M12.932,-56.027 A57.500,57.500 136.313 0 1 29.348,49.447 L19.304,26.146 A32.500,32.500 -124.815 0 0 10.445,-30.776 Z M15.601,55.343 A57.500,57.500 66.063 0 1 -44.253,36.714 L-22.808,23.152 A32.500,32.500 -54.565 0 0 5.641,32.007 Z M-52.225,24.058 A57.500,57.500 112.784 0 1 -1.956,-57.467 L-4.354,-32.207 A32.500,32.500 -101.287 0 0 -30.732,10.573 Z \" id=\"4\" class=\"nad-vl300to500-1 nad-busnode\"/>\n        </g>\n        <g transform=\"translate(-470.42,531.79)\" id=\"5\">\n            <circle r=\"27.50\" id=\"6\" class=\"nad-vl300to500-0 nad-busnode\"/>\n        </g>\n        <g transform=\"translate(-407.58,159.43)\" id=\"7\">\n            <circle r=\"27.50\" id=\"8\" class=\"nad-vl300to500-0 nad-busnode\"/>\n        </g>\n        <g transform=\"translate(-102.16,466.84)\" id=\"9\">\n            <circle r=\"27.50\" id=\"10\" class=\"nad-vl300to500-0 nad-busnode\"/>\n        </g>\n        <g transform=\"translate(737.03,400.46)\" id=\"11\">\n            <circle r=\"27.50\" id=\"12\" class=\"nad-vl300to500-0 nad-busnode\"/>\n        </g>\n        <g transform=\"translate(363.55,432.27)\" id=\"13\">\n            <circle r=\"27.50\" id=\"14\" class=\"nad-vl300to500-0 nad-busnode\"/>\n        </g>\n        <g transform=\"translate(544.99,55.92)\" id=\"15\">\n            <circle r=\"27.50\" id=\"16\" class=\"nad-vl300to500-0 nad-busnode\"/>\n        </g>\n        <g transform=\"translate(-488.28,-705.72)\" id=\"17\">\n            <circle r=\"27.50\" id=\"18\" class=\"nad-vl300to500-0 nad-busnode\"/>\n        </g>\n        <g transform=\"translate(-124.53,-572.87)\" id=\"19\">\n            <circle r=\"27.50\" id=\"20\" class=\"nad-vl300to500-0 nad-busnode\"/>\n        </g>\n        <g transform=\"translate(-446.15,-322.16)\" id=\"21\">\n            <circle r=\"27.50\" id=\"22\" class=\"nad-vl300to500-0 nad-busnode\"/>\n        </g>\n    </g>\n    <g class=\"nad-branch-edges\">\n        <g id=\"23\">\n            <g id=\"23.1\" class=\"nad-vl300to500-line\">\n                <polyline class=\"nad-edge-path nad-stretchable nad-glued-1\" points=\"552.01,-729.00 504.23,-707.25 427.79,-600.17\"/>\n                <g class=\"nad-glued-1 nad-edge-infos\" transform=\"translate(486.80,-682.83)\">\n                    <g class=\"nad-active nad-state-out\">\n                        <g transform=\"rotate(-144.48)\">\n                            <path class=\"nad-arrow-in\" transform=\"scale(10.00)\" d=\"M-1 -1 H1 L0 1z\"/>\n                            <path class=\"nad-arrow-out\" transform=\"scale(10.00)\" d=\"M-1 1 H1 L0 -1z\"/>\n                        </g>\n                        <text transform=\"rotate(-54.48)\" x=\"-19.00\" style=\"text-anchor:end\">167</text>\n                    </g>\n                </g>\n            </g>\n            <g id=\"23.2\" class=\"nad-vl300to500-line\">\n                <polyline class=\"nad-edge-path nad-stretchable nad-glued-2\" points=\"346.29,-440.84 351.34,-493.10 427.79,-600.17\"/>\n                <g class=\"nad-glued-2 nad-edge-infos\" transform=\"translate(368.78,-517.51)\">\n                    <g class=\"nad-active nad-state-in\">\n                        <g transform=\"rotate(35.52)\">\n                            <path class=\"nad-arrow-in\" transform=\"scale(10.00)\" d=\"M-1 -1 H1 L0 1z\"/>\n                            <path class=\"nad-arrow-out\" transform=\"scale(10.00)\" d=\"M-1 1 H1 L0 -1z\"/>\n                        </g>\n                        <text transform=\"rotate(-54.48)\" x=\"19.00\">-167</text>\n                    </g>\n                </g>\n            </g>\n        </g>\n        <g id=\"24\">\n            <g id=\"24.1\" class=\"nad-vl300to500-line\">\n                <polyline class=\"nad-edge-path nad-stretchable nad-glued-1\" points=\"574.39,-713.02 569.34,-660.76 492.90,-553.69\"/>\n                <g class=\"nad-glued-1 nad-edge-infos\" transform=\"translate(551.91,-636.35)\">\n                    <g class=\"nad-active nad-state-in\">\n                        <g transform=\"rotate(-144.48)\">\n                            <path class=\"nad-arrow-in\" transform=\"scale(10.00)\" d=\"M-1 -1 H1 L0 1z\"/>\n                            <path class=\"nad-arrow-out\" transform=\"scale(10.00)\" d=\"M-1 1 H1 L0 -1z\"/>\n                        </g>\n                        <text transform=\"rotate(-54.48)\" x=\"-19.00\" style=\"text-anchor:end\">-167</text>\n                    </g>\n                </g>\n            </g>\n            <g id=\"24.2\" class=\"nad-vl300to500-line\">\n                <polyline class=\"nad-edge-path nad-stretchable nad-glued-2\" points=\"395.98,-437.29 416.45,-446.62 492.90,-553.69\"/>\n                <g class=\"nad-glued-2 nad-edge-infos\" transform=\"translate(433.89,-471.03)\">\n                    <g class=\"nad-active nad-state-out\">\n                        <g transform=\"rotate(35.52)\">\n                            <path class=\"nad-arrow-in\" transform=\"scale(10.00)\" d=\"M-1 -1 H1 L0 1z\"/>\n                            <path class=\"nad-arrow-out\" transform=\"scale(10.00)\" d=\"M-1 1 H1 L0 -1z\"/>\n                        </g>\n                        <text transform=\"rotate(-54.48)\" x=\"19.00\">167</text>\n                    </g>\n                </g>\n            </g>\n        </g>\n        <g id=\"25\">\n            <g id=\"25.1\" class=\"nad-vl300to500-line\">\n                <polyline class=\"nad-edge-path nad-stretchable nad-glued-1\" points=\"354.48,-388.20 444.31,-178.78\"/>\n                <g class=\"nad-glued-1 nad-edge-infos\" transform=\"translate(379.12,-330.76)\">\n                    <g class=\"nad-active nad-state-out\">\n                        <g transform=\"rotate(156.78)\">\n                            <path class=\"nad-arrow-in\" transform=\"scale(10.00)\" d=\"M-1 -1 H1 L0 1z\"/>\n                            <path class=\"nad-arrow-out\" transform=\"scale(10.00)\" d=\"M-1 1 H1 L0 -1z\"/>\n                        </g>\n                        <text transform=\"rotate(66.78)\" x=\"19.00\">500</text>\n                    </g>\n                </g>\n            </g>\n            <g id=\"25.2\" class=\"nad-vl300to500-line\">\n                <polyline class=\"nad-edge-path nad-stretchable nad-glued-2\" points=\"534.15,30.65 444.31,-178.78\"/>\n                <g class=\"nad-glued-2 nad-edge-infos\" transform=\"translate(521.33,0.78)\">\n                    <g class=\"nad-active nad-state-in\">\n                        <g transform=\"rotate(-23.22)\">\n                            <path class=\"nad-arrow-in\" transform=\"scale(10.00)\" d=\"M-1 -1 H1 L0 1z\"/>\n                            <path class=\"nad-arrow-out\" transform=\"scale(10.00)\" d=\"M-1 1 H1 L0 -1z\"/>\n                        </g>\n                        <text transform=\"rotate(-293.22)\" x=\"-19.00\" style=\"text-anchor:end\">-500</text>\n                    </g>\n                </g>\n            </g>\n        </g>\n        <g id=\"26\">\n            <g id=\"26.1\" class=\"nad-vl300to500-line\">\n                <polyline class=\"nad-edge-path nad-stretchable nad-glued-1\" points=\"-106.42,-552.18 -71.84,-512.68 96.66,-455.31\"/>\n                <g class=\"nad-glued-1 nad-edge-infos\" transform=\"translate(-43.44,-503.01)\">\n                    <g class=\"nad-active nad-state-out\">\n                        <g transform=\"rotate(108.80)\">\n                            <path class=\"nad-arrow-in\" transform=\"scale(10.00)\" d=\"M-1 -1 H1 L0 1z\"/>\n                            <path class=\"nad-arrow-out\" transform=\"scale(10.00)\" d=\"M-1 1 H1 L0 -1z\"/>\n                        </g>\n                        <text transform=\"rotate(18.80)\" x=\"19.00\">500</text>\n                    </g>\n                </g>\n            </g>\n            <g id=\"26.2\" class=\"nad-vl300to500-line\">\n                <polyline class=\"nad-edge-path nad-stretchable nad-glued-2\" points=\"287.24,-402.30 265.17,-397.94 96.66,-455.31\"/>\n                <g class=\"nad-glued-2 nad-edge-infos\" transform=\"translate(236.77,-407.60)\">\n                    <g class=\"nad-active nad-state-in\">\n                        <g transform=\"rotate(-71.20)\">\n                            <path class=\"nad-arrow-in\" transform=\"scale(10.00)\" d=\"M-1 -1 H1 L0 1z\"/>\n                            <path class=\"nad-arrow-out\" transform=\"scale(10.00)\" d=\"M-1 1 H1 L0 -1z\"/>\n                        </g>\n                        <text transform=\"rotate(-341.20)\" x=\"-19.00\" style=\"text-anchor:end\">-500</text>\n                    </g>\n                </g>\n            </g>\n        </g>\n        <g id=\"27\" class=\"nad-disconnected\">\n            <g id=\"27.1\" class=\"nad-disconnected nad-vl300to500-line\">\n                <polyline class=\"nad-edge-path nad-stretchable nad-glued-1\" points=\"-98.50,-564.01 95.36,-498.01\"/>\n                <g class=\"nad-glued-1 nad-edge-infos\" transform=\"translate(-67.73,-553.54)\">\n                    <g class=\"nad-active\">\n                        <g transform=\"rotate(108.80)\">\n                            <path class=\"nad-arrow-in\" transform=\"scale(10.00)\" d=\"M-1 -1 H1 L0 1z\"/>\n                            <path class=\"nad-arrow-out\" transform=\"scale(10.00)\" d=\"M-1 1 H1 L0 -1z\"/>\n                        </g>\n                        <text transform=\"rotate(18.80)\" x=\"19.00\"></text>\n                    </g>\n                </g>\n            </g>\n            <g id=\"27.2\" class=\"nad-disconnected nad-vl300to500-line\">\n                <polyline class=\"nad-edge-path nad-stretchable nad-glued-2\" points=\"289.21,-432.00 95.36,-498.01\"/>\n                <g class=\"nad-glued-2 nad-edge-infos\" transform=\"translate(258.45,-442.48)\">\n                    <g class=\"nad-active\">\n                        <g transform=\"rotate(-71.20)\">\n                            <path class=\"nad-arrow-in\" transform=\"scale(10.00)\" d=\"M-1 -1 H1 L0 1z\"/>\n                            <path class=\"nad-arrow-out\" transform=\"scale(10.00)\" d=\"M-1 1 H1 L0 -1z\"/>\n                        </g>\n                        <text transform=\"rotate(-341.20)\" x=\"-19.00\" style=\"text-anchor:end\"></text>\n                    </g>\n                </g>\n            </g>\n        </g>\n        <g id=\"28\" class=\"nad-disconnected\">\n            <g id=\"28.1\" class=\"nad-disconnected nad-vl300to500-line\">\n                <polyline class=\"nad-edge-path nad-stretchable nad-glued-1\" points=\"-97.56,-578.21 -46.06,-588.41 122.45,-531.04\"/>\n                <g class=\"nad-glued-1 nad-edge-infos\" transform=\"translate(-17.66,-578.74)\">\n                    <g class=\"nad-active\">\n                        <g transform=\"rotate(108.80)\">\n                            <path class=\"nad-arrow-in\" transform=\"scale(10.00)\" d=\"M-1 -1 H1 L0 1z\"/>\n                            <path class=\"nad-arrow-out\" transform=\"scale(10.00)\" d=\"M-1 1 H1 L0 -1z\"/>\n                        </g>\n                        <text transform=\"rotate(18.80)\" x=\"19.00\"></text>\n                    </g>\n                </g>\n            </g>\n            <g id=\"28.2\" class=\"nad-disconnected nad-vl300to500-line\">\n                <polyline class=\"nad-edge-path nad-stretchable nad-glued-2\" points=\"305.77,-456.74 290.95,-473.67 122.45,-531.04\"/>\n                <g class=\"nad-glued-2 nad-edge-infos\" transform=\"translate(262.55,-483.34)\">\n                    <g class=\"nad-active\">\n                        <g transform=\"rotate(-71.20)\">\n                            <path class=\"nad-arrow-in\" transform=\"scale(10.00)\" d=\"M-1 -1 H1 L0 1z\"/>\n                            <path class=\"nad-arrow-out\" transform=\"scale(10.00)\" d=\"M-1 1 H1 L0 -1z\"/>\n                        </g>\n                        <text transform=\"rotate(-341.20)\" x=\"-19.00\" style=\"text-anchor:end\"></text>\n                    </g>\n                </g>\n            </g>\n        </g>\n        <g id=\"29\">\n            <g id=\"29.1\" class=\"nad-vl300to500-line\">\n                <path class=\"nad-edge-path\" d=\"M345.86,-356.01 L346.72,-333.53 C348.26,-293.56 323.08,-288.66 314.23,-293.33\"/>\n                <g class=\"nad-edge-infos\" transform=\"translate(346.72,-333.53)\">\n                    <g class=\"nad-active nad-state-out\">\n                        <g transform=\"rotate(177.79)\">\n                            <path class=\"nad-arrow-in\" transform=\"scale(10.00)\" d=\"M-1 -1 H1 L0 1z\"/>\n                            <path class=\"nad-arrow-out\" transform=\"scale(10.00)\" d=\"M-1 1 H1 L0 -1z\"/>\n                        </g>\n                        <text transform=\"rotate(87.79)\" x=\"19.00\">333</text>\n                    </g>\n                </g>\n            </g>\n            <g id=\"29.2\" class=\"nad-vl300to500-line\">\n                <path class=\"nad-edge-path\" d=\"M320.38,-398.81 L275.95,-370.83 C242.11,-349.51 252.30,-325.96 261.15,-321.30\"/>\n                <g class=\"nad-edge-infos\" transform=\"translate(275.95,-370.83)\">\n                    <g class=\"nad-active nad-state-in\">\n                        <g transform=\"rotate(-122.21)\">\n                            <path class=\"nad-arrow-in\" transform=\"scale(10.00)\" d=\"M-1 -1 H1 L0 1z\"/>\n                            <path class=\"nad-arrow-out\" transform=\"scale(10.00)\" d=\"M-1 1 H1 L0 -1z\"/>\n                        </g>\n                        <text transform=\"rotate(-32.21)\" x=\"-19.00\" style=\"text-anchor:end\">-333</text>\n                    </g>\n                </g>\n            </g>\n            <g class=\"nad-glued-center\">\n                <circle class=\"nad-vl300to500-line nad-winding\" cx=\"296.54\" cy=\"-302.65\" r=\"20.00\"/>\n                <circle class=\"nad-vl300to500-line nad-winding\" cx=\"278.84\" cy=\"-311.98\" r=\"20.00\"/>\n                <path d=\"M60.00,0 0,60.00 M52.00,0 60.00,0 60.00,8.00\" transform=\"matrix(-0.88,-0.47,0.47,-0.88,300.24,-266.79)\" class=\"nad-pst-arrow\"/>\n            </g>\n        </g>\n        <g id=\"30\">\n            <g id=\"30.1\" class=\"nad-vl300to500-line\">\n                <polyline class=\"nad-edge-path nad-stretchable nad-glued-1\" points=\"-465.84,504.68 -439.00,345.61\"/>\n                <g class=\"nad-glued-1 nad-edge-infos\" transform=\"translate(-460.43,472.63)\">\n                    <g class=\"nad-active nad-state-in\">\n                        <g transform=\"rotate(9.58)\">\n                            <path class=\"nad-arrow-in\" transform=\"scale(10.00)\" d=\"M-1 -1 H1 L0 1z\"/>\n                            <path class=\"nad-arrow-out\" transform=\"scale(10.00)\" d=\"M-1 1 H1 L0 -1z\"/>\n                        </g>\n                        <text transform=\"rotate(-80.42)\" x=\"19.00\">-167</text>\n                    </g>\n                </g>\n            </g>\n            <g id=\"30.2\" class=\"nad-vl300to500-line\">\n                <polyline class=\"nad-edge-path nad-stretchable nad-glued-2\" points=\"-412.15,186.55 -439.00,345.61\"/>\n                <g class=\"nad-glued-2 nad-edge-infos\" transform=\"translate(-417.56,218.60)\">\n                    <g class=\"nad-active nad-state-out\">\n                        <g transform=\"rotate(-170.42)\">\n                            <path class=\"nad-arrow-in\" transform=\"scale(10.00)\" d=\"M-1 -1 H1 L0 1z\"/>\n                            <path class=\"nad-arrow-out\" transform=\"scale(10.00)\" d=\"M-1 1 H1 L0 -1z\"/>\n                        </g>\n                        <text transform=\"rotate(-80.42)\" x=\"-19.00\" style=\"text-anchor:end\">167</text>\n                    </g>\n                </g>\n            </g>\n        </g>\n        <g id=\"31\">\n            <g id=\"31.1\" class=\"nad-vl300to500-line\">\n                <polyline class=\"nad-edge-path nad-stretchable nad-glued-1\" points=\"-443.33,527.02 -286.29,499.32\"/>\n                <g class=\"nad-glued-1 nad-edge-infos\" transform=\"translate(-411.33,521.37)\">\n                    <g class=\"nad-active nad-state-out\">\n                        <g transform=\"rotate(80.00)\">\n                            <path class=\"nad-arrow-in\" transform=\"scale(10.00)\" d=\"M-1 -1 H1 L0 1z\"/>\n                            <path class=\"nad-arrow-out\" transform=\"scale(10.00)\" d=\"M-1 1 H1 L0 -1z\"/>\n                        </g>\n                        <text transform=\"rotate(-10.00)\" x=\"19.00\">167</text>\n                    </g>\n                </g>\n            </g>\n            <g id=\"31.2\" class=\"nad-vl300to500-line\">\n                <polyline class=\"nad-edge-path nad-stretchable nad-glued-2\" points=\"-129.24,471.62 -286.29,499.32\"/>\n                <g class=\"nad-glued-2 nad-edge-infos\" transform=\"translate(-161.25,477.26)\">\n                    <g class=\"nad-active nad-state-in\">\n                        <g transform=\"rotate(-100.00)\">\n                            <path class=\"nad-arrow-in\" transform=\"scale(10.00)\" d=\"M-1 -1 H1 L0 1z\"/>\n                            <path class=\"nad-arrow-out\" transform=\"scale(10.00)\" d=\"M-1 1 H1 L0 -1z\"/>\n                        </g>\n                        <text transform=\"rotate(-10.00)\" x=\"-19.00\" style=\"text-anchor:end\">-167</text>\n                    </g>\n                </g>\n            </g>\n        </g>\n        <g id=\"32\">\n            <g id=\"32.1\" class=\"nad-vl300to500-line\">\n                <polyline class=\"nad-edge-path nad-stretchable nad-glued-1\" points=\"-388.19,178.94 -254.87,313.14\"/>\n                <g class=\"nad-glued-1 nad-edge-infos\" transform=\"translate(-365.29,202.00)\">\n                    <g class=\"nad-active nad-state-out\">\n                        <g transform=\"rotate(135.19)\">\n                            <path class=\"nad-arrow-in\" transform=\"scale(10.00)\" d=\"M-1 -1 H1 L0 1z\"/>\n                            <path class=\"nad-arrow-out\" transform=\"scale(10.00)\" d=\"M-1 1 H1 L0 -1z\"/>\n                        </g>\n                        <text transform=\"rotate(45.19)\" x=\"19.00\">333</text>\n                    </g>\n                </g>\n            </g>\n            <g id=\"32.2\" class=\"nad-vl300to500-line\">\n                <polyline class=\"nad-edge-path nad-stretchable nad-glued-2\" points=\"-121.54,447.33 -254.87,313.14\"/>\n                <g class=\"nad-glued-2 nad-edge-infos\" transform=\"translate(-144.45,424.28)\">\n                    <g class=\"nad-active nad-state-in\">\n                        <g transform=\"rotate(-44.81)\">\n                            <path class=\"nad-arrow-in\" transform=\"scale(10.00)\" d=\"M-1 -1 H1 L0 1z\"/>\n                            <path class=\"nad-arrow-out\" transform=\"scale(10.00)\" d=\"M-1 1 H1 L0 -1z\"/>\n                        </g>\n                        <text transform=\"rotate(-314.81)\" x=\"-19.00\" style=\"text-anchor:end\">-333</text>\n                    </g>\n                </g>\n            </g>\n        </g>\n        <g id=\"33\">\n            <g id=\"33.1\" class=\"nad-vl300to500-line\">\n                <polyline class=\"nad-edge-path nad-stretchable nad-glued-1\" points=\"-409.77,132.02 -426.87,-81.37\"/>\n                <g class=\"nad-glued-1 nad-edge-infos\" transform=\"translate(-412.37,99.62)\">\n                    <g class=\"nad-active nad-state-in\">\n                        <g transform=\"rotate(-4.58)\">\n                            <path class=\"nad-arrow-in\" transform=\"scale(10.00)\" d=\"M-1 -1 H1 L0 1z\"/>\n                            <path class=\"nad-arrow-out\" transform=\"scale(10.00)\" d=\"M-1 1 H1 L0 -1z\"/>\n                        </g>\n                        <text transform=\"rotate(-274.58)\" x=\"-19.00\" style=\"text-anchor:end\">-500</text>\n                    </g>\n                </g>\n            </g>\n            <g id=\"33.2\" class=\"nad-vl300to500-line\">\n                <polyline class=\"nad-edge-path nad-stretchable nad-glued-2\" points=\"-443.96,-294.75 -426.87,-81.37\"/>\n                <g class=\"nad-glued-2 nad-edge-infos\" transform=\"translate(-441.36,-262.36)\">\n                    <g class=\"nad-active nad-state-out\">\n                        <g transform=\"rotate(175.42)\">\n                            <path class=\"nad-arrow-in\" transform=\"scale(10.00)\" d=\"M-1 -1 H1 L0 1z\"/>\n                            <path class=\"nad-arrow-out\" transform=\"scale(10.00)\" d=\"M-1 1 H1 L0 -1z\"/>\n                        </g>\n                        <text transform=\"rotate(85.42)\" x=\"19.00\">500</text>\n                    </g>\n                </g>\n            </g>\n        </g>\n        <g id=\"34\">\n            <g id=\"34.1\" class=\"nad-vl300to500-line\">\n                <polyline class=\"nad-edge-path nad-stretchable nad-glued-1\" points=\"336.12,434.31 130.69,449.56\"/>\n                <g class=\"nad-glued-1 nad-edge-infos\" transform=\"translate(303.71,436.72)\">\n                    <g class=\"nad-active nad-state-in\">\n                        <g transform=\"rotate(-94.24)\">\n                            <path class=\"nad-arrow-in\" transform=\"scale(10.00)\" d=\"M-1 -1 H1 L0 1z\"/>\n                            <path class=\"nad-arrow-out\" transform=\"scale(10.00)\" d=\"M-1 1 H1 L0 -1z\"/>\n                        </g>\n                        <text transform=\"rotate(-4.24)\" x=\"-19.00\" style=\"text-anchor:end\">-500</text>\n                    </g>\n                </g>\n            </g>\n            <g id=\"34.2\" class=\"nad-vl300to500-line\">\n                <polyline class=\"nad-edge-path nad-stretchable nad-glued-2\" points=\"-74.74,464.80 130.69,449.56\"/>\n                <g class=\"nad-glued-2 nad-edge-infos\" transform=\"translate(-42.33,462.40)\">\n                    <g class=\"nad-active nad-state-out\">\n                        <g transform=\"rotate(85.76)\">\n                            <path class=\"nad-arrow-in\" transform=\"scale(10.00)\" d=\"M-1 -1 H1 L0 1z\"/>\n                            <path class=\"nad-arrow-out\" transform=\"scale(10.00)\" d=\"M-1 1 H1 L0 -1z\"/>\n                        </g>\n                        <text transform=\"rotate(-4.24)\" x=\"19.00\">500</text>\n                    </g>\n                </g>\n            </g>\n        </g>\n        <g id=\"35\">\n            <g id=\"35.1\" class=\"nad-vl300to500-line\">\n                <polyline class=\"nad-edge-path nad-stretchable nad-glued-1\" points=\"709.63,402.80 550.29,416.37\"/>\n                <g class=\"nad-glued-1 nad-edge-infos\" transform=\"translate(677.25,405.56)\">\n                    <g class=\"nad-active nad-state-in\">\n                        <g transform=\"rotate(-94.87)\">\n                            <path class=\"nad-arrow-in\" transform=\"scale(10.00)\" d=\"M-1 -1 H1 L0 1z\"/>\n                            <path class=\"nad-arrow-out\" transform=\"scale(10.00)\" d=\"M-1 1 H1 L0 -1z\"/>\n                        </g>\n                        <text transform=\"rotate(-4.87)\" x=\"-19.00\" style=\"text-anchor:end\">-500</text>\n                    </g>\n                </g>\n            </g>\n            <g id=\"35.2\" class=\"nad-vl300to500-line\">\n                <polyline class=\"nad-edge-path nad-stretchable nad-glued-2\" points=\"390.95,429.94 550.29,416.37\"/>\n                <g class=\"nad-glued-2 nad-edge-infos\" transform=\"translate(423.33,427.18)\">\n                    <g class=\"nad-active nad-state-out\">\n                        <g transform=\"rotate(85.13)\">\n                            <path class=\"nad-arrow-in\" transform=\"scale(10.00)\" d=\"M-1 -1 H1 L0 1z\"/>\n                            <path class=\"nad-arrow-out\" transform=\"scale(10.00)\" d=\"M-1 1 H1 L0 -1z\"/>\n                        </g>\n                        <text transform=\"rotate(-4.87)\" x=\"19.00\">500</text>\n                    </g>\n                </g>\n            </g>\n        </g>\n        <g id=\"36\">\n            <g id=\"36.1\" class=\"nad-vl300to500-line\">\n                <polyline class=\"nad-edge-path nad-stretchable nad-glued-1\" points=\"723.64,376.44 641.01,228.19\"/>\n                <g class=\"nad-glued-1 nad-edge-infos\" transform=\"translate(707.82,348.06)\">\n                    <g class=\"nad-active nad-state-in\">\n                        <g transform=\"rotate(-29.13)\">\n                            <path class=\"nad-arrow-in\" transform=\"scale(10.00)\" d=\"M-1 -1 H1 L0 1z\"/>\n                            <path class=\"nad-arrow-out\" transform=\"scale(10.00)\" d=\"M-1 1 H1 L0 -1z\"/>\n                        </g>\n                        <text transform=\"rotate(-299.13)\" x=\"-19.00\" style=\"text-anchor:end\">-500</text>\n                    </g>\n                </g>\n            </g>\n            <g id=\"36.2\" class=\"nad-vl300to500-line\">\n                <polyline class=\"nad-edge-path nad-stretchable nad-glued-2\" points=\"558.37,79.94 641.01,228.19\"/>\n                <g class=\"nad-glued-2 nad-edge-infos\" transform=\"translate(574.20,108.33)\">\n                    <g class=\"nad-active nad-state-out\">\n                        <g transform=\"rotate(150.87)\">\n                            <path class=\"nad-arrow-in\" transform=\"scale(10.00)\" d=\"M-1 -1 H1 L0 1z\"/>\n                            <path class=\"nad-arrow-out\" transform=\"scale(10.00)\" d=\"M-1 1 H1 L0 -1z\"/>\n                        </g>\n                        <text transform=\"rotate(60.87)\" x=\"19.00\">500</text>\n                    </g>\n                </g>\n            </g>\n        </g>\n        <g id=\"37\">\n            <g id=\"37.1\" class=\"nad-vl300to500-line\">\n                <polyline class=\"nad-edge-path nad-stretchable nad-glued-1\" points=\"375.49,407.50 454.27,244.10\"/>\n                <g class=\"nad-glued-1 nad-edge-infos\" transform=\"translate(389.60,378.23)\">\n                    <g class=\"nad-active nad-state-out\">\n                        <g transform=\"rotate(25.74)\">\n                            <path class=\"nad-arrow-in\" transform=\"scale(10.00)\" d=\"M-1 -1 H1 L0 1z\"/>\n                            <path class=\"nad-arrow-out\" transform=\"scale(10.00)\" d=\"M-1 1 H1 L0 -1z\"/>\n                        </g>\n                        <text transform=\"rotate(-64.26)\" x=\"19.00\">-0</text>\n                    </g>\n                </g>\n            </g>\n            <g id=\"37.2\" class=\"nad-vl300to500-line\">\n                <polyline class=\"nad-edge-path nad-stretchable nad-glued-2\" points=\"533.04,80.69 454.27,244.10\"/>\n                <g class=\"nad-glued-2 nad-edge-infos\" transform=\"translate(518.93,109.97)\">\n                    <g class=\"nad-active nad-state-out\">\n                        <g transform=\"rotate(-154.26)\">\n                            <path class=\"nad-arrow-in\" transform=\"scale(10.00)\" d=\"M-1 -1 H1 L0 1z\"/>\n                            <path class=\"nad-arrow-out\" transform=\"scale(10.00)\" d=\"M-1 1 H1 L0 -1z\"/>\n                        </g>\n                        <text transform=\"rotate(-64.26)\" x=\"-19.00\" style=\"text-anchor:end\">0</text>\n                    </g>\n                </g>\n            </g>\n        </g>\n        <g id=\"38\">\n            <g id=\"38.1\" class=\"nad-vl300to500-line\">\n                <polyline class=\"nad-edge-path nad-stretchable nad-glued-1\" points=\"-462.45,-696.29 -306.41,-639.30\"/>\n                <g class=\"nad-glued-1 nad-edge-infos\" transform=\"translate(-431.93,-685.14)\">\n                    <g class=\"nad-active nad-state-out\">\n                        <g transform=\"rotate(110.06)\">\n                            <path class=\"nad-arrow-in\" transform=\"scale(10.00)\" d=\"M-1 -1 H1 L0 1z\"/>\n                            <path class=\"nad-arrow-out\" transform=\"scale(10.00)\" d=\"M-1 1 H1 L0 -1z\"/>\n                        </g>\n                        <text transform=\"rotate(20.06)\" x=\"19.00\">500</text>\n                    </g>\n                </g>\n            </g>\n            <g id=\"38.2\" class=\"nad-vl300to500-line\">\n                <polyline class=\"nad-edge-path nad-stretchable nad-glued-2\" points=\"-150.36,-582.31 -306.41,-639.30\"/>\n                <g class=\"nad-glued-2 nad-edge-infos\" transform=\"translate(-180.89,-593.46)\">\n                    <g class=\"nad-active nad-state-in\">\n                        <g transform=\"rotate(-69.94)\">\n                            <path class=\"nad-arrow-in\" transform=\"scale(10.00)\" d=\"M-1 -1 H1 L0 1z\"/>\n                            <path class=\"nad-arrow-out\" transform=\"scale(10.00)\" d=\"M-1 1 H1 L0 -1z\"/>\n                        </g>\n                        <text transform=\"rotate(-339.94)\" x=\"-19.00\" style=\"text-anchor:end\">-500</text>\n                    </g>\n                </g>\n            </g>\n        </g>\n        <g id=\"39\">\n            <g id=\"39.1\" class=\"nad-vl300to500-line\">\n                <polyline class=\"nad-edge-path nad-stretchable nad-glued-1\" points=\"-485.28,-678.39 -467.22,-513.94\"/>\n                <g class=\"nad-glued-1 nad-edge-infos\" transform=\"translate(-481.73,-646.08)\">\n                    <g class=\"nad-active nad-state-out\">\n                        <g transform=\"rotate(173.73)\">\n                            <path class=\"nad-arrow-in\" transform=\"scale(10.00)\" d=\"M-1 -1 H1 L0 1z\"/>\n                            <path class=\"nad-arrow-out\" transform=\"scale(10.00)\" d=\"M-1 1 H1 L0 -1z\"/>\n                        </g>\n                        <text transform=\"rotate(83.73)\" x=\"19.00\">500</text>\n                    </g>\n                </g>\n            </g>\n            <g id=\"39.2\" class=\"nad-vl300to500-line\">\n                <polyline class=\"nad-edge-path nad-stretchable nad-glued-2\" points=\"-449.16,-349.50 -467.22,-513.94\"/>\n                <g class=\"nad-glued-2 nad-edge-infos\" transform=\"translate(-452.71,-381.81)\">\n                    <g class=\"nad-active nad-state-in\">\n                        <g transform=\"rotate(-6.27)\">\n                            <path class=\"nad-arrow-in\" transform=\"scale(10.00)\" d=\"M-1 -1 H1 L0 1z\"/>\n                            <path class=\"nad-arrow-out\" transform=\"scale(10.00)\" d=\"M-1 1 H1 L0 -1z\"/>\n                        </g>\n                        <text transform=\"rotate(-276.27)\" x=\"-19.00\" style=\"text-anchor:end\">-500</text>\n                    </g>\n                </g>\n            </g>\n        </g>\n        <g id=\"40\">\n            <g id=\"40.1\" class=\"nad-vl300to500-line\">\n                <polyline class=\"nad-edge-path nad-stretchable nad-glued-1\" points=\"-146.22,-555.97 -285.34,-447.52\"/>\n                <g class=\"nad-glued-1 nad-edge-infos\" transform=\"translate(-171.85,-535.99)\">\n                    <g class=\"nad-active nad-state-out\">\n                        <g transform=\"rotate(-127.94)\">\n                            <path class=\"nad-arrow-in\" transform=\"scale(10.00)\" d=\"M-1 -1 H1 L0 1z\"/>\n                            <path class=\"nad-arrow-out\" transform=\"scale(10.00)\" d=\"M-1 1 H1 L0 -1z\"/>\n                        </g>\n                        <text transform=\"rotate(-37.94)\" x=\"-19.00\" style=\"text-anchor:end\">-0</text>\n                    </g>\n                </g>\n            </g>\n            <g id=\"40.2\" class=\"nad-vl300to500-line\">\n                <polyline class=\"nad-edge-path nad-stretchable nad-glued-2\" points=\"-424.47,-339.07 -285.34,-447.52\"/>\n                <g class=\"nad-glued-2 nad-edge-infos\" transform=\"translate(-398.83,-359.05)\">\n                    <g class=\"nad-active nad-state-out\">\n                        <g transform=\"rotate(52.06)\">\n                            <path class=\"nad-arrow-in\" transform=\"scale(10.00)\" d=\"M-1 -1 H1 L0 1z\"/>\n                            <path class=\"nad-arrow-out\" transform=\"scale(10.00)\" d=\"M-1 1 H1 L0 -1z\"/>\n                        </g>\n                        <text transform=\"rotate(-37.94)\" x=\"19.00\">0</text>\n                    </g>\n                </g>\n            </g>\n        </g>\n    </g>\n    <g class=\"nad-text-edges\">\n        <polyline id=\"0-textedge\" points=\"606.71,-744.84 677.04,-755.39\"/>\n        <polyline id=\"2-textedge\" points=\"402.98,-422.37 443.64,-428.47\"/>\n        <polyline id=\"5-textedge\" points=\"-440.75,527.34 -370.42,516.79\"/>\n        <polyline id=\"7-textedge\" points=\"-377.91,154.98 -307.58,144.43\"/>\n        <polyline id=\"9-textedge\" points=\"-72.49,462.39 -2.16,451.84\"/>\n        <polyline id=\"11-textedge\" points=\"766.70,396.01 837.03,385.46\"/>\n        <polyline id=\"13-textedge\" points=\"393.21,427.82 463.55,417.27\"/>\n        <polyline id=\"15-textedge\" points=\"574.65,51.47 644.99,40.92\"/>\n        <polyline id=\"17-textedge\" points=\"-458.62,-710.17 -388.28,-720.72\"/>\n        <polyline id=\"19-textedge\" points=\"-94.86,-577.32 -24.53,-587.87\"/>\n        <polyline id=\"21-textedge\" points=\"-416.49,-326.61 -346.15,-337.16\"/>\n    </g>\n    <g class=\"nad-text-nodes\">\n        <foreignObject id=\"0-textnode\" y=\"-780.39\" x=\"677.04\" height=\"1\" width=\"1\">\n            <div xmlns=\"http://www.w3.org/1999/xhtml\" class=\"nad-label-box\">\n                <div>BBE1AA1</div>\n                <table>\n                    <tr>\n                        <td>\n                            <div class=\"nad-vl300to500-0 nad-legend-square\"/>\n                        </td>\n                        <td> kV / 0.7°</td>\n                    </tr>\n                </table>\n            </div>\n        </foreignObject>\n        <foreignObject id=\"2-textnode\" y=\"-453.47\" x=\"443.64\" height=\"1\" width=\"1\">\n            <div xmlns=\"http://www.w3.org/1999/xhtml\" class=\"nad-label-box\">\n                <div>BBE2AA1</div>\n                <table>\n                    <tr>\n                        <td>\n                            <div class=\"nad-vl300to500-0 nad-legend-square\"/>\n                        </td>\n                        <td> kV / 0.0°</td>\n                    </tr>\n                    <tr>\n                        <td>\n                            <div class=\"nad-vl300to500-1 nad-legend-square\"/>\n                        </td>\n                        <td> kV / 1.3°</td>\n                    </tr>\n                </table>\n            </div>\n        </foreignObject>\n        <foreignObject id=\"5-textnode\" y=\"491.79\" x=\"-370.42\" height=\"1\" width=\"1\">\n            <div xmlns=\"http://www.w3.org/1999/xhtml\" class=\"nad-label-box\">\n                <div>DDE1AA1</div>\n                <table>\n                    <tr>\n                        <td>\n                            <div class=\"nad-vl300to500-0 nad-legend-square\"/>\n                        </td>\n                        <td> kV / 0.7°</td>\n                    </tr>\n                </table>\n            </div>\n        </foreignObject>\n        <foreignObject id=\"7-textnode\" y=\"119.43\" x=\"-307.58\" height=\"1\" width=\"1\">\n            <div xmlns=\"http://www.w3.org/1999/xhtml\" class=\"nad-label-box\">\n                <div>DDE2AA1</div>\n                <table>\n                    <tr>\n                        <td>\n                            <div class=\"nad-vl300to500-0 nad-legend-square\"/>\n                        </td>\n                        <td> kV / 1.3°</td>\n                    </tr>\n                </table>\n            </div>\n        </foreignObject>\n        <foreignObject id=\"9-textnode\" y=\"426.84\" x=\"-2.16\" height=\"1\" width=\"1\">\n            <div xmlns=\"http://www.w3.org/1999/xhtml\" class=\"nad-label-box\">\n                <div>DDE3AA1</div>\n                <table>\n                    <tr>\n                        <td>\n                            <div class=\"nad-vl300to500-0 nad-legend-square\"/>\n                        </td>\n                        <td> kV / -0.0°</td>\n                    </tr>\n                </table>\n            </div>\n        </foreignObject>\n        <foreignObject id=\"11-textnode\" y=\"360.46\" x=\"837.03\" height=\"1\" width=\"1\">\n            <div xmlns=\"http://www.w3.org/1999/xhtml\" class=\"nad-label-box\">\n                <div>FFR1AA1</div>\n                <table>\n                    <tr>\n                        <td>\n                            <div class=\"nad-vl300to500-0 nad-legend-square\"/>\n                        </td>\n                        <td> kV / -4.0°</td>\n                    </tr>\n                </table>\n            </div>\n        </foreignObject>\n        <foreignObject id=\"13-textnode\" y=\"392.27\" x=\"463.55\" height=\"1\" width=\"1\">\n            <div xmlns=\"http://www.w3.org/1999/xhtml\" class=\"nad-label-box\">\n                <div>FFR2AA1</div>\n                <table>\n                    <tr>\n                        <td>\n                            <div class=\"nad-vl300to500-0 nad-legend-square\"/>\n                        </td>\n                        <td> kV / -2.0°</td>\n                    </tr>\n                </table>\n            </div>\n        </foreignObject>\n        <foreignObject id=\"15-textnode\" y=\"15.92\" x=\"644.99\" height=\"1\" width=\"1\">\n            <div xmlns=\"http://www.w3.org/1999/xhtml\" class=\"nad-label-box\">\n                <div>FFR3AA1</div>\n                <table>\n                    <tr>\n                        <td>\n                            <div class=\"nad-vl300to500-0 nad-legend-square\"/>\n                        </td>\n                        <td> kV / -2.0°</td>\n                    </tr>\n                </table>\n            </div>\n        </foreignObject>\n        <foreignObject id=\"17-textnode\" y=\"-745.72\" x=\"-388.28\" height=\"1\" width=\"1\">\n            <div xmlns=\"http://www.w3.org/1999/xhtml\" class=\"nad-label-box\">\n                <div>NNL1AA1</div>\n                <table>\n                    <tr>\n                        <td>\n                            <div class=\"nad-vl300to500-0 nad-legend-square\"/>\n                        </td>\n                        <td> kV / 5.3°</td>\n                    </tr>\n                </table>\n            </div>\n        </foreignObject>\n        <foreignObject id=\"19-textnode\" y=\"-612.87\" x=\"-24.53\" height=\"1\" width=\"1\">\n            <div xmlns=\"http://www.w3.org/1999/xhtml\" class=\"nad-label-box\">\n                <div>NNL2AA1</div>\n                <table>\n                    <tr>\n                        <td>\n                            <div class=\"nad-vl300to500-0 nad-legend-square\"/>\n                        </td>\n                        <td> kV / 3.3°</td>\n                    </tr>\n                </table>\n            </div>\n        </foreignObject>\n        <foreignObject id=\"21-textnode\" y=\"-362.16\" x=\"-346.15\" height=\"1\" width=\"1\">\n            <div xmlns=\"http://www.w3.org/1999/xhtml\" class=\"nad-label-box\">\n                <div>NNL3AA1</div>\n                <table>\n                    <tr>\n                        <td>\n                            <div class=\"nad-vl300to500-0 nad-legend-square\"/>\n                        </td>\n                        <td> kV / 3.3°</td>\n                    </tr>\n                </table>\n            </div>\n        </foreignObject>\n    </g>\n</svg>\n"
     },
     "execution_count": 45,
     "metadata": {},
     "output_type": "execute_result"
    }
   ],
   "execution_count": 45
  },
  {
   "cell_type": "markdown",
   "metadata": {},
   "source": [
    "We can see the initial flow on the line NNL2AA1 and BBE3AA1 is 500MW. However the PATL is only 410 MW so there is an overload on this line.\n",
    "To solve it we can for instance close one of the other lines between NNL2AA1 and BBE3AA1."
   ]
  },
  {
   "cell_type": "code",
   "metadata": {
    "ExecuteTime": {
     "end_time": "2025-04-25T09:44:30.007418Z",
     "start_time": "2025-04-25T09:44:29.971672Z"
    }
   },
   "source": [
    "n12.connect(\"NNL2AA1  BBE3AA1  2\")\n",
    "pp.loadflow.run_dc(n12)\n",
    "n12.get_network_area_diagram()"
   ],
   "outputs": [
    {
     "name": "stderr",
     "output_type": "stream",
     "text": [
      "2025-04-25 11:44:29,973 - INFO - loadflow provider used is : OpenLoadFlow\n",
      "2025-04-25 11:44:29,974 - INFO - Version: {repositoryName=powsybl-open-loadflow, mavenProjectVersion=1.14.1, gitVersion=092b42a34ce74e1a2fe7c58ce5b5422945218e8d, gitBranch=UNKNOWN, buildTimestamp=2024-12-18T10:01:21.754Z}\n",
      "2025-04-25 11:44:29,978 - INFO - Parameters:\n",
      "┌───────────────────────────┬───────────────────────────────────────────────────────────┬──────────────────────────────────┐\n",
      "│ Category                  │ Name                                                      │ Value                            │\n",
      "├───────────────────────────┼───────────────────────────────────────────────────────────┼──────────────────────────────────┤\n",
      "│ Automation                │ simulateAutomationSystems                                 │ false                            │\n",
      "│ DC                        │ dcApproximationType                                       │ IGNORE_R                         │\n",
      "│                           │ dcPowerFactor                                             │ 1.0                              │\n",
      "│                           │ dcUseTransformerRatio                                     │ true                             │\n",
      "│ Debug                     │ alwaysUpdateNetwork                                       │ false                            │\n",
      "│                           │ debugDir                                                  │                                  │\n",
      "│ FastRestart               │ actionableSwitchesIds                                     │ []                               │\n",
      "│                           │ actionableTransformersIds                                 │ []                               │\n",
      "│                           │ networkCacheEnabled                                       │ false                            │\n",
      "│ GeneratorVoltageControl   │ disableVoltageControlOfGeneratorsOutsideActivePowerLimits │ false                            │\n",
      "│                           │ fictitiousGeneratorVoltageControlCheckMode                │ FORCED                           │\n",
      "│                           │ reactiveLimitsMaxPqPvSwitch                               │ 3                                │\n",
      "│                           │ reactivePowerDispatchMode                                 │ Q_EQUAL_PROPORTION               │\n",
      "│                           │ reactiveRangeCheckMode                                    │ MAX                              │\n",
      "│                           │ svcVoltageMonitoring                                      │ true                             │\n",
      "│                           │ voltagePerReactivePowerControl                            │ false                            │\n",
      "│                           │ voltageRemoteControl                                      │ true                             │\n",
      "│ HVDC                      │ hvdcAcEmulation                                           │ true                             │\n",
      "│ Model                     │ asymmetrical                                              │ false                            │\n",
      "│                           │ dc                                                        │ true                             │\n",
      "│                           │ linePerUnitMode                                           │ IMPEDANCE                        │\n",
      "│                           │ lowImpedanceBranchMode                                    │ REPLACE_BY_ZERO_IMPEDANCE_LINE   │\n",
      "│                           │ lowImpedanceThreshold                                     │ 1.0E-8                           │\n",
      "│                           │ twtSplitShuntAdmittance                                   │ false                            │\n",
      "│                           │ useLoadModel                                              │ false                            │\n",
      "│ NewtonKrylov              │ maxNewtonKrylovIterations                                 │ 100                              │\n",
      "│                           │ newtonKrylovLineSearch                                    │ false                            │\n",
      "│ NewtonRaphson             │ lineSearchStateVectorScalingMaxIteration                  │ 10                               │\n",
      "│                           │ lineSearchStateVectorScalingStepFold                      │ 1.3333333333333333               │\n",
      "│                           │ maxActivePowerMismatch                                    │ 0.01                             │\n",
      "│                           │ maxAngleMismatch                                          │ 1.0E-5                           │\n",
      "│                           │ maxNewtonRaphsonIterations                                │ 15                               │\n",
      "│                           │ maxRatioMismatch                                          │ 1.0E-5                           │\n",
      "│                           │ maxReactivePowerMismatch                                  │ 0.01                             │\n",
      "│                           │ maxRealisticVoltage                                       │ 2.0                              │\n",
      "│                           │ maxSusceptanceMismatch                                    │ 1.0E-4                           │\n",
      "│                           │ maxVoltageChangeStateVectorScalingMaxDphi                 │ 0.17453292519943295              │\n",
      "│                           │ maxVoltageChangeStateVectorScalingMaxDv                   │ 0.1                              │\n",
      "│                           │ maxVoltageMismatch                                        │ 1.0E-4                           │\n",
      "│                           │ minRealisticVoltage                                       │ 0.5                              │\n",
      "│                           │ newtonRaphsonConvEpsPerEq                                 │ 1.0E-4                           │\n",
      "│                           │ newtonRaphsonStoppingCriteriaType                         │ UNIFORM_CRITERIA                 │\n",
      "│                           │ stateVectorScalingMode                                    │ NONE                             │\n",
      "│ OuterLoops                │ maxOuterLoopIterations                                    │ 20                               │\n",
      "│                           │ outerLoopNames                                            │                                  │\n",
      "│ Performance               │ computedConnectedComponentScope                           │ MAIN                             │\n",
      "│ PhaseControl              │ phaseShifterControlMode                                   │ CONTINUOUS_WITH_DISCRETISATION   │\n",
      "│                           │ phaseShifterRegulationOn                                  │ false                            │\n",
      "│ ReactivePowerControl      │ generatorReactivePowerRemoteControl                       │ false                            │\n",
      "│                           │ transformerReactivePowerControl                           │ false                            │\n",
      "│ ReferenceBus              │ referenceBusSelectionMode                                 │ FIRST_SLACK                      │\n",
      "│                           │ writeReferenceTerminals                                   │ true                             │\n",
      "│ Reporting                 │ reportedFeatures                                          │ []                               │\n",
      "│ ShuntVoltageControl       │ shuntCompensatorVoltageControlOn                          │ false                            │\n",
      "│                           │ shuntVoltageControlMode                                   │ WITH_GENERATOR_VOLTAGE_CONTROL   │\n",
      "│ SlackDistribution         │ areaInterchangeControl                                    │ false                            │\n",
      "│                           │ areaInterchangeControlAreaType                            │ ControlArea                      │\n",
      "│                           │ areaInterchangePMaxMismatch                               │ 2.0                              │\n",
      "│                           │ balanceType                                               │ PROPORTIONAL_TO_GENERATION_P_MAX │\n",
      "│                           │ countriesToBalance                                        │ []                               │\n",
      "│                           │ distributedSlack                                          │ true                             │\n",
      "│                           │ loadPowerFactorConstant                                   │ false                            │\n",
      "│                           │ maxSlackBusCount                                          │ 1                                │\n",
      "│                           │ mostMeshedSlackBusSelectorMaxNominalVoltagePercentile     │ 95.0                             │\n",
      "│                           │ plausibleActivePowerLimit                                 │ 5000.0                           │\n",
      "│                           │ readSlackBus                                              │ true                             │\n",
      "│                           │ slackBusCountryFilter                                     │ []                               │\n",
      "│                           │ slackBusPMaxMismatch                                      │ 1.0                              │\n",
      "│                           │ slackBusSelectionMode                                     │ MOST_MESHED                      │\n",
      "│                           │ slackBusesIds                                             │ []                               │\n",
      "│                           │ slackDistributionFailureBehavior                          │ LEAVE_ON_SLACK_BUS               │\n",
      "│                           │ useActiveLimits                                           │ true                             │\n",
      "│                           │ writeSlackBus                                             │ true                             │\n",
      "│ Solver                    │ acSolverType                                              │ NEWTON_RAPHSON                   │\n",
      "│ TransformerVoltageControl │ generatorVoltageControlMinNominalVoltage                  │ -1.0                             │\n",
      "│                           │ incrementalTransformerRatioTapControlOuterLoopMaxTapShift │ 3                                │\n",
      "│                           │ transformerVoltageControlMode                             │ WITH_GENERATOR_VOLTAGE_CONTROL   │\n",
      "│                           │ transformerVoltageControlOn                               │ false                            │\n",
      "│                           │ transformerVoltageControlUseInitialTapPosition            │ false                            │\n",
      "│ VoltageControls           │ maxPlausibleTargetVoltage                                 │ 1.2                              │\n",
      "│                           │ minNominalVoltageTargetVoltageCheck                       │ 20.0                             │\n",
      "│                           │ minPlausibleTargetVoltage                                 │ 0.8                              │\n",
      "│                           │ secondaryVoltageControl                                   │ false                            │\n",
      "│                           │ useReactiveLimits                                         │ true                             │\n",
      "│                           │ voltageTargetPriorities                                   │ [GENERATOR, TRANSFORMER, SHUNT]  │\n",
      "│ VoltageInit               │ voltageInitMode                                           │ UNIFORM_VALUES                   │\n",
      "│                           │ voltageInitModeOverride                                   │ NONE                             │\n",
      "└───────────────────────────┴───────────────────────────────────────────────────────────┴──────────────────────────────────┘\n",
      "2025-04-25 11:44:29,980 - WARNING - Network {CC0 SC0}: 11 generators have been discarded from active power control because of a targetP equals 0\n",
      "2025-04-25 11:44:29,981 - WARNING - Network {CC0 SC0}: 12 generators have been discarded from active power control because of maxP not plausible\n",
      "2025-04-25 11:44:29,981 - INFO - Network {CC0 SC0} has 12 buses and 17 branches\n",
      "2025-04-25 11:44:29,982 - INFO - Network {CC0 SC0} balance: active generation=1000.0 MW, active load=1000.0 MW, reactive generation=0.0 MVar, reactive load=0.0 MVar\n",
      "2025-04-25 11:44:29,983 - INFO - Network {CC0 SC0}, slack buses are [BBE2AA1_0] (method='Network extension bus')\n",
      "2025-04-25 11:44:29,984 - INFO - Network {CC0 SC0}, reference bus is BBE2AA1_0 (method='First slack')\n",
      "2025-04-25 11:44:29,985 - INFO - Slack bus active power (-0.0 MW) distributed in 0 distribution iteration(s)\n",
      "2025-04-25 11:44:29,986 - INFO - DC loadflow complete on network {CC0 SC0} (result=DcLoadFlowResult(outerLoopIterations=0, solverSuccess=true, outerLoopStatus=STABLE, slackBusActivePowerMismatch=-0.0, distributedActivePower=0.0))\n",
      "2025-04-25 11:44:29,987 - INFO - Load flow ran in 12 ms\n",
      "2025-04-25 11:44:29,992 - INFO - Number of steps: 688\n",
      "2025-04-25 11:44:29,993 - INFO - Elapsed time: 0.003730359\n",
      "2025-04-25 11:44:29,993 - WARNING - Base voltage configuration file '/home/edwardsphi/.itools/base-voltages.yml' not found, trying to load file 'base-voltages.yml' from resources\n"
     ]
    },
    {
     "data": {
      "text/plain": [
       "<pypowsybl.network.impl.svg.Svg at 0x7fa0ec525790>"
      ],
      "image/svg+xml": "<?xml version=\"1.0\" encoding=\"UTF-8\"?>\n<svg width=\"604.60\" height=\"600.00\" viewBox=\"-688.28 -980.39 1725.31 1712.18\" xmlns=\"http://www.w3.org/2000/svg\">\n    <style><![CDATA[\n.nad-branch-edges .nad-edge-path, .nad-3wt-edges .nad-edge-path {stroke: var(--nad-vl-color, lightgrey); stroke-width: 5; fill: none}\n.nad-branch-edges .nad-winding, .nad-3wt-nodes .nad-winding {stroke: var(--nad-vl-color, lightgrey); stroke-width: 5; fill: none}\n.nad-text-edges {stroke: black; stroke-width: 3; stroke-dasharray: 6,7}\n.nad-disconnected .nad-edge-path {stroke-dasharray: 10,10}\n.nad-vl-nodes .nad-busnode {fill: var(--nad-vl-color, lightgrey)}\n.nad-vl-nodes circle.nad-unknown-busnode {stroke: var(--nad-vl-color, #808080); stroke-width: 5; stroke-dasharray: 5,5; fill: none}\n.nad-hvdc-edge polyline.nad-hvdc {stroke: grey; stroke-width: 40}\n.nad-branch-edges .nad-tie-line-edge .nad-edge-path {stroke-width: 7}\n.nad-pst-arrow {stroke: #6a6a6a; stroke-width: 4; stroke-linecap: round; fill: none}\npath.nad-arrow-out:not(.nad-state-out .nad-arrow-out) {visibility: hidden}\npath.nad-arrow-in:not(.nad-state-in .nad-arrow-in) {visibility: hidden}\n.nad-active {fill: #546e7a}\n.nad-reactive {fill: #0277bd}\n.nad-current {fill: #bd4802}\n.nad-text-background {flood-color: #90a4aeaa}\n.nad-text-nodes {font: 25px serif; fill: black; dominant-baseline: central}\n.nad-text-nodes foreignObject {overflow: visible; color: black}\n.nad-label-box {background-color: #6c6c6c20; width: max-content; padding: 10px; border-radius: 10px;}\n.nad-legend-square {width: 20px; height: 20px; background: var(--nad-vl-color, black);}\n.nad-edge-infos text, .nad-edge-label text {font: 20px serif; dominant-baseline:middle; stroke: #FFFFFFAA; stroke-width: 10; stroke-linejoin:round; paint-order: stroke}\n.nad-disconnected {--nad-vl-color: #808080}\n.nad-vl0to30-line {--nad-vl-color: #afb42b}\n.nad-vl0to30-0 {--nad-vl-color: #827717}\n.nad-vl0to30-1 {--nad-vl-color: #d4e157}\n.nad-vl0to30-2 {--nad-vl-color: #e6ee9c}\n.nad-vl0to30-3 {--nad-vl-color: #c0ca33}\n.nad-vl0to30-4 {--nad-vl-color: #f0fc83}\n.nad-vl0to30-5 {--nad-vl-color: #9e9d24}\n.nad-vl0to30-6 {--nad-vl-color: #cddc39}\n.nad-vl0to30-7 {--nad-vl-color: #dce775}\n.nad-vl0to30-8 {--nad-vl-color: #ddfc88}\n.nad-vl30to50-line {--nad-vl-color: #ef9a9a}\n.nad-vl30to50-0 {--nad-vl-color: #c2185b}\n.nad-vl30to50-1 {--nad-vl-color: #f06292}\n.nad-vl30to50-2 {--nad-vl-color: #d81b60}\n.nad-vl30to50-3 {--nad-vl-color: #ec407a}\n.nad-vl30to50-4 {--nad-vl-color: #880e4f}\n.nad-vl30to50-5 {--nad-vl-color: #ad1457}\n.nad-vl30to50-6 {--nad-vl-color: #e91e63}\n.nad-vl30to50-7 {--nad-vl-color: #f48fb1}\n.nad-vl30to50-8 {--nad-vl-color: #f8bbd0}\n.nad-vl50to70-line {--nad-vl-color: #9c27b0}\n.nad-vl50to70-0 {--nad-vl-color: #7b1fa2}\n.nad-vl50to70-1 {--nad-vl-color: #ba68c8}\n.nad-vl50to70-2 {--nad-vl-color: #512da8}\n.nad-vl50to70-3 {--nad-vl-color: #ab47bc}\n.nad-vl50to70-4 {--nad-vl-color: #e1bee7}\n.nad-vl50to70-5 {--nad-vl-color: #6a1b9a}\n.nad-vl50to70-6 {--nad-vl-color: #4a148c}\n.nad-vl50to70-7 {--nad-vl-color: #ce93d8}\n.nad-vl50to70-8 {--nad-vl-color: #9575cd}\n.nad-vl70to120-line {--nad-vl-color: #e65100}\n.nad-vl70to120-0 {--nad-vl-color: #fb8c00}\n.nad-vl70to120-1 {--nad-vl-color: #ffb74d}\n.nad-vl70to120-2 {--nad-vl-color: #f57c00}\n.nad-vl70to120-3 {--nad-vl-color: #ffa726}\n.nad-vl70to120-4 {--nad-vl-color: #ffe0b2}\n.nad-vl70to120-5 {--nad-vl-color: #ef6c00}\n.nad-vl70to120-6 {--nad-vl-color: #ff9800}\n.nad-vl70to120-7 {--nad-vl-color: #ffcc80}\n.nad-vl70to120-8 {--nad-vl-color: #fff3e0}\n.nad-vl120to180-line {--nad-vl-color: #00ACC1}\n.nad-vl120to180-0 {--nad-vl-color: #4fc3f7}\n.nad-vl120to180-1 {--nad-vl-color: #01579b}\n.nad-vl120to180-2 {--nad-vl-color: #b3e5fc}\n.nad-vl120to180-3 {--nad-vl-color: #039be5}\n.nad-vl120to180-4 {--nad-vl-color: #81d4fa}\n.nad-vl120to180-5 {--nad-vl-color: #0288d1}\n.nad-vl120to180-6 {--nad-vl-color: #29b6f6}\n.nad-vl120to180-7 {--nad-vl-color: #0277bd}\n.nad-vl120to180-8 {--nad-vl-color: #03a9f4}\n.nad-vl180to300-line {--nad-vl-color: #2e7d32}\n.nad-vl180to300-0 {--nad-vl-color: #81c784}\n.nad-vl180to300-1 {--nad-vl-color: #558b2f}\n.nad-vl180to300-2 {--nad-vl-color: #c8e6c9}\n.nad-vl180to300-3 {--nad-vl-color: #43a047}\n.nad-vl180to300-4 {--nad-vl-color: #a5d6a7}\n.nad-vl180to300-5 {--nad-vl-color: #388e3c}\n.nad-vl180to300-6 {--nad-vl-color: #66bb6a}\n.nad-vl180to300-7 {--nad-vl-color: #1b5e20}\n.nad-vl180to300-8 {--nad-vl-color: #4caf50}\n.nad-vl300to500-line {--nad-vl-color: #d32f2f}\n.nad-vl300to500-0 {--nad-vl-color: #ef5350}\n.nad-vl300to500-1 {--nad-vl-color: #ef9a9a}\n.nad-vl300to500-2 {--nad-vl-color: #b71c1c}\n.nad-vl300to500-3 {--nad-vl-color: #e57373}\n.nad-vl300to500-4 {--nad-vl-color: #e53935}\n.nad-vl300to500-5 {--nad-vl-color: #ff8a80}\n.nad-vl300to500-6 {--nad-vl-color: #f44336}\n.nad-vl300to500-7 {--nad-vl-color: #ffcdd2}\n.nad-vl300to500-8 {--nad-vl-color: #c62828}\n.nad-branch-edges .nad-overload .nad-edge-path {animation: line-blink 3s infinite}\n.nad-vl-nodes .nad-overvoltage {animation: node-over-blink 3s infinite}\n.nad-vl-nodes .nad-undervoltage {animation: node-under-blink 3s infinite}\n\n@keyframes line-blink {\n  0%, 80%, 100% {stroke: var(--nad-vl-color, black); stroke-width: 5}\n  40% {stroke: #FFEB3B; stroke-width: 15}\n}\n@keyframes node-over-blink {\n  0%, 80%, 100% {stroke: white; stroke-width: 0}\n  40% {stroke: #ff5722; stroke-width: 15}\n}\n@keyframes node-under-blink {\n  0%, 80%, 100% {stroke: white; stroke-width: 0}\n  40% {stroke: #00BCD4; stroke-width: 15}\n}\n]]></style>\n    <g class=\"nad-vl-nodes\">\n        <g transform=\"translate(577.04,-740.39)\" id=\"0\">\n            <circle r=\"27.50\" id=\"1\" class=\"nad-vl300to500-0 nad-busnode\"/>\n        </g>\n        <g transform=\"translate(343.64,-413.47)\" id=\"2\">\n            <circle r=\"27.50\" id=\"3\" class=\"nad-vl300to500-0 nad-busnode\"/>\n            <path d=\"M12.932,-56.027 A57.500,57.500 136.313 0 1 29.348,49.447 L19.304,26.146 A32.500,32.500 -124.815 0 0 10.445,-30.776 Z M15.601,55.343 A57.500,57.500 66.063 0 1 -44.253,36.714 L-22.808,23.152 A32.500,32.500 -54.565 0 0 5.641,32.007 Z M-52.225,24.058 A57.500,57.500 112.784 0 1 -1.956,-57.467 L-4.354,-32.207 A32.500,32.500 -101.287 0 0 -30.732,10.573 Z \" id=\"4\" class=\"nad-vl300to500-1 nad-busnode\"/>\n        </g>\n        <g transform=\"translate(-470.42,531.79)\" id=\"5\">\n            <circle r=\"27.50\" id=\"6\" class=\"nad-vl300to500-0 nad-busnode\"/>\n        </g>\n        <g transform=\"translate(-407.58,159.43)\" id=\"7\">\n            <circle r=\"27.50\" id=\"8\" class=\"nad-vl300to500-0 nad-busnode\"/>\n        </g>\n        <g transform=\"translate(-102.16,466.84)\" id=\"9\">\n            <circle r=\"27.50\" id=\"10\" class=\"nad-vl300to500-0 nad-busnode\"/>\n        </g>\n        <g transform=\"translate(737.03,400.46)\" id=\"11\">\n            <circle r=\"27.50\" id=\"12\" class=\"nad-vl300to500-0 nad-busnode\"/>\n        </g>\n        <g transform=\"translate(363.55,432.27)\" id=\"13\">\n            <circle r=\"27.50\" id=\"14\" class=\"nad-vl300to500-0 nad-busnode\"/>\n        </g>\n        <g transform=\"translate(544.99,55.92)\" id=\"15\">\n            <circle r=\"27.50\" id=\"16\" class=\"nad-vl300to500-0 nad-busnode\"/>\n        </g>\n        <g transform=\"translate(-488.28,-705.72)\" id=\"17\">\n            <circle r=\"27.50\" id=\"18\" class=\"nad-vl300to500-0 nad-busnode\"/>\n        </g>\n        <g transform=\"translate(-124.53,-572.87)\" id=\"19\">\n            <circle r=\"27.50\" id=\"20\" class=\"nad-vl300to500-0 nad-busnode\"/>\n        </g>\n        <g transform=\"translate(-446.15,-322.16)\" id=\"21\">\n            <circle r=\"27.50\" id=\"22\" class=\"nad-vl300to500-0 nad-busnode\"/>\n        </g>\n    </g>\n    <g class=\"nad-branch-edges\">\n        <g id=\"23\">\n            <g id=\"23.1\" class=\"nad-vl300to500-line\">\n                <polyline class=\"nad-edge-path nad-stretchable nad-glued-1\" points=\"552.01,-729.00 504.23,-707.25 427.79,-600.17\"/>\n                <g class=\"nad-glued-1 nad-edge-infos\" transform=\"translate(486.80,-682.83)\">\n                    <g class=\"nad-active nad-state-out\">\n                        <g transform=\"rotate(-144.48)\">\n                            <path class=\"nad-arrow-in\" transform=\"scale(10.00)\" d=\"M-1 -1 H1 L0 1z\"/>\n                            <path class=\"nad-arrow-out\" transform=\"scale(10.00)\" d=\"M-1 1 H1 L0 -1z\"/>\n                        </g>\n                        <text transform=\"rotate(-54.48)\" x=\"-19.00\" style=\"text-anchor:end\">180</text>\n                    </g>\n                </g>\n            </g>\n            <g id=\"23.2\" class=\"nad-vl300to500-line\">\n                <polyline class=\"nad-edge-path nad-stretchable nad-glued-2\" points=\"346.29,-440.84 351.34,-493.10 427.79,-600.17\"/>\n                <g class=\"nad-glued-2 nad-edge-infos\" transform=\"translate(368.78,-517.51)\">\n                    <g class=\"nad-active nad-state-in\">\n                        <g transform=\"rotate(35.52)\">\n                            <path class=\"nad-arrow-in\" transform=\"scale(10.00)\" d=\"M-1 -1 H1 L0 1z\"/>\n                            <path class=\"nad-arrow-out\" transform=\"scale(10.00)\" d=\"M-1 1 H1 L0 -1z\"/>\n                        </g>\n                        <text transform=\"rotate(-54.48)\" x=\"19.00\">-180</text>\n                    </g>\n                </g>\n            </g>\n        </g>\n        <g id=\"24\">\n            <g id=\"24.1\" class=\"nad-vl300to500-line\">\n                <polyline class=\"nad-edge-path nad-stretchable nad-glued-1\" points=\"574.39,-713.02 569.34,-660.76 492.90,-553.69\"/>\n                <g class=\"nad-glued-1 nad-edge-infos\" transform=\"translate(551.91,-636.35)\">\n                    <g class=\"nad-active nad-state-in\">\n                        <g transform=\"rotate(-144.48)\">\n                            <path class=\"nad-arrow-in\" transform=\"scale(10.00)\" d=\"M-1 -1 H1 L0 1z\"/>\n                            <path class=\"nad-arrow-out\" transform=\"scale(10.00)\" d=\"M-1 1 H1 L0 -1z\"/>\n                        </g>\n                        <text transform=\"rotate(-54.48)\" x=\"-19.00\" style=\"text-anchor:end\">-180</text>\n                    </g>\n                </g>\n            </g>\n            <g id=\"24.2\" class=\"nad-vl300to500-line\">\n                <polyline class=\"nad-edge-path nad-stretchable nad-glued-2\" points=\"395.98,-437.29 416.45,-446.62 492.90,-553.69\"/>\n                <g class=\"nad-glued-2 nad-edge-infos\" transform=\"translate(433.89,-471.03)\">\n                    <g class=\"nad-active nad-state-out\">\n                        <g transform=\"rotate(35.52)\">\n                            <path class=\"nad-arrow-in\" transform=\"scale(10.00)\" d=\"M-1 -1 H1 L0 1z\"/>\n                            <path class=\"nad-arrow-out\" transform=\"scale(10.00)\" d=\"M-1 1 H1 L0 -1z\"/>\n                        </g>\n                        <text transform=\"rotate(-54.48)\" x=\"19.00\">180</text>\n                    </g>\n                </g>\n            </g>\n        </g>\n        <g id=\"25\">\n            <g id=\"25.1\" class=\"nad-vl300to500-line\">\n                <polyline class=\"nad-edge-path nad-stretchable nad-glued-1\" points=\"354.48,-388.20 444.31,-178.78\"/>\n                <g class=\"nad-glued-1 nad-edge-infos\" transform=\"translate(379.12,-330.76)\">\n                    <g class=\"nad-active nad-state-out\">\n                        <g transform=\"rotate(156.78)\">\n                            <path class=\"nad-arrow-in\" transform=\"scale(10.00)\" d=\"M-1 -1 H1 L0 1z\"/>\n                            <path class=\"nad-arrow-out\" transform=\"scale(10.00)\" d=\"M-1 1 H1 L0 -1z\"/>\n                        </g>\n                        <text transform=\"rotate(66.78)\" x=\"19.00\">541</text>\n                    </g>\n                </g>\n            </g>\n            <g id=\"25.2\" class=\"nad-vl300to500-line\">\n                <polyline class=\"nad-edge-path nad-stretchable nad-glued-2\" points=\"534.15,30.65 444.31,-178.78\"/>\n                <g class=\"nad-glued-2 nad-edge-infos\" transform=\"translate(521.33,0.78)\">\n                    <g class=\"nad-active nad-state-in\">\n                        <g transform=\"rotate(-23.22)\">\n                            <path class=\"nad-arrow-in\" transform=\"scale(10.00)\" d=\"M-1 -1 H1 L0 1z\"/>\n                            <path class=\"nad-arrow-out\" transform=\"scale(10.00)\" d=\"M-1 1 H1 L0 -1z\"/>\n                        </g>\n                        <text transform=\"rotate(-293.22)\" x=\"-19.00\" style=\"text-anchor:end\">-541</text>\n                    </g>\n                </g>\n            </g>\n        </g>\n        <g id=\"26\">\n            <g id=\"26.1\" class=\"nad-vl300to500-line\">\n                <polyline class=\"nad-edge-path nad-stretchable nad-glued-1\" points=\"-106.42,-552.18 -71.84,-512.68 96.66,-455.31\"/>\n                <g class=\"nad-glued-1 nad-edge-infos\" transform=\"translate(-43.44,-503.01)\">\n                    <g class=\"nad-active nad-state-out\">\n                        <g transform=\"rotate(108.80)\">\n                            <path class=\"nad-arrow-in\" transform=\"scale(10.00)\" d=\"M-1 -1 H1 L0 1z\"/>\n                            <path class=\"nad-arrow-out\" transform=\"scale(10.00)\" d=\"M-1 1 H1 L0 -1z\"/>\n                        </g>\n                        <text transform=\"rotate(18.80)\" x=\"19.00\">270</text>\n                    </g>\n                </g>\n            </g>\n            <g id=\"26.2\" class=\"nad-vl300to500-line\">\n                <polyline class=\"nad-edge-path nad-stretchable nad-glued-2\" points=\"287.24,-402.30 265.17,-397.94 96.66,-455.31\"/>\n                <g class=\"nad-glued-2 nad-edge-infos\" transform=\"translate(236.77,-407.60)\">\n                    <g class=\"nad-active nad-state-in\">\n                        <g transform=\"rotate(-71.20)\">\n                            <path class=\"nad-arrow-in\" transform=\"scale(10.00)\" d=\"M-1 -1 H1 L0 1z\"/>\n                            <path class=\"nad-arrow-out\" transform=\"scale(10.00)\" d=\"M-1 1 H1 L0 -1z\"/>\n                        </g>\n                        <text transform=\"rotate(-341.20)\" x=\"-19.00\" style=\"text-anchor:end\">-270</text>\n                    </g>\n                </g>\n            </g>\n        </g>\n        <g id=\"27\">\n            <g id=\"27.1\" class=\"nad-vl300to500-line\">\n                <polyline class=\"nad-edge-path nad-stretchable nad-glued-1\" points=\"-98.50,-564.01 95.36,-498.01\"/>\n                <g class=\"nad-glued-1 nad-edge-infos\" transform=\"translate(-67.73,-553.54)\">\n                    <g class=\"nad-active nad-state-out\">\n                        <g transform=\"rotate(108.80)\">\n                            <path class=\"nad-arrow-in\" transform=\"scale(10.00)\" d=\"M-1 -1 H1 L0 1z\"/>\n                            <path class=\"nad-arrow-out\" transform=\"scale(10.00)\" d=\"M-1 1 H1 L0 -1z\"/>\n                        </g>\n                        <text transform=\"rotate(18.80)\" x=\"19.00\">270</text>\n                    </g>\n                </g>\n            </g>\n            <g id=\"27.2\" class=\"nad-vl300to500-line\">\n                <polyline class=\"nad-edge-path nad-stretchable nad-glued-2\" points=\"289.21,-432.00 95.36,-498.01\"/>\n                <g class=\"nad-glued-2 nad-edge-infos\" transform=\"translate(258.45,-442.48)\">\n                    <g class=\"nad-active nad-state-in\">\n                        <g transform=\"rotate(-71.20)\">\n                            <path class=\"nad-arrow-in\" transform=\"scale(10.00)\" d=\"M-1 -1 H1 L0 1z\"/>\n                            <path class=\"nad-arrow-out\" transform=\"scale(10.00)\" d=\"M-1 1 H1 L0 -1z\"/>\n                        </g>\n                        <text transform=\"rotate(-341.20)\" x=\"-19.00\" style=\"text-anchor:end\">-270</text>\n                    </g>\n                </g>\n            </g>\n        </g>\n        <g id=\"28\" class=\"nad-disconnected\">\n            <g id=\"28.1\" class=\"nad-disconnected nad-vl300to500-line\">\n                <polyline class=\"nad-edge-path nad-stretchable nad-glued-1\" points=\"-97.56,-578.21 -46.06,-588.41 122.45,-531.04\"/>\n                <g class=\"nad-glued-1 nad-edge-infos\" transform=\"translate(-17.66,-578.74)\">\n                    <g class=\"nad-active\">\n                        <g transform=\"rotate(108.80)\">\n                            <path class=\"nad-arrow-in\" transform=\"scale(10.00)\" d=\"M-1 -1 H1 L0 1z\"/>\n                            <path class=\"nad-arrow-out\" transform=\"scale(10.00)\" d=\"M-1 1 H1 L0 -1z\"/>\n                        </g>\n                        <text transform=\"rotate(18.80)\" x=\"19.00\"></text>\n                    </g>\n                </g>\n            </g>\n            <g id=\"28.2\" class=\"nad-disconnected nad-vl300to500-line\">\n                <polyline class=\"nad-edge-path nad-stretchable nad-glued-2\" points=\"305.77,-456.74 290.95,-473.67 122.45,-531.04\"/>\n                <g class=\"nad-glued-2 nad-edge-infos\" transform=\"translate(262.55,-483.34)\">\n                    <g class=\"nad-active\">\n                        <g transform=\"rotate(-71.20)\">\n                            <path class=\"nad-arrow-in\" transform=\"scale(10.00)\" d=\"M-1 -1 H1 L0 1z\"/>\n                            <path class=\"nad-arrow-out\" transform=\"scale(10.00)\" d=\"M-1 1 H1 L0 -1z\"/>\n                        </g>\n                        <text transform=\"rotate(-341.20)\" x=\"-19.00\" style=\"text-anchor:end\"></text>\n                    </g>\n                </g>\n            </g>\n        </g>\n        <g id=\"29\">\n            <g id=\"29.1\" class=\"nad-vl300to500-line\">\n                <path class=\"nad-edge-path\" d=\"M345.86,-356.01 L346.72,-333.53 C348.26,-293.56 323.08,-288.66 314.23,-293.33\"/>\n                <g class=\"nad-edge-infos\" transform=\"translate(346.72,-333.53)\">\n                    <g class=\"nad-active nad-state-out\">\n                        <g transform=\"rotate(177.79)\">\n                            <path class=\"nad-arrow-in\" transform=\"scale(10.00)\" d=\"M-1 -1 H1 L0 1z\"/>\n                            <path class=\"nad-arrow-out\" transform=\"scale(10.00)\" d=\"M-1 1 H1 L0 -1z\"/>\n                        </g>\n                        <text transform=\"rotate(87.79)\" x=\"19.00\">360</text>\n                    </g>\n                </g>\n            </g>\n            <g id=\"29.2\" class=\"nad-vl300to500-line\">\n                <path class=\"nad-edge-path\" d=\"M320.38,-398.81 L275.95,-370.83 C242.11,-349.51 252.30,-325.96 261.15,-321.30\"/>\n                <g class=\"nad-edge-infos\" transform=\"translate(275.95,-370.83)\">\n                    <g class=\"nad-active nad-state-in\">\n                        <g transform=\"rotate(-122.21)\">\n                            <path class=\"nad-arrow-in\" transform=\"scale(10.00)\" d=\"M-1 -1 H1 L0 1z\"/>\n                            <path class=\"nad-arrow-out\" transform=\"scale(10.00)\" d=\"M-1 1 H1 L0 -1z\"/>\n                        </g>\n                        <text transform=\"rotate(-32.21)\" x=\"-19.00\" style=\"text-anchor:end\">-360</text>\n                    </g>\n                </g>\n            </g>\n            <g class=\"nad-glued-center\">\n                <circle class=\"nad-vl300to500-line nad-winding\" cx=\"296.54\" cy=\"-302.65\" r=\"20.00\"/>\n                <circle class=\"nad-vl300to500-line nad-winding\" cx=\"278.84\" cy=\"-311.98\" r=\"20.00\"/>\n                <path d=\"M60.00,0 0,60.00 M52.00,0 60.00,0 60.00,8.00\" transform=\"matrix(-0.88,-0.47,0.47,-0.88,300.24,-266.79)\" class=\"nad-pst-arrow\"/>\n            </g>\n        </g>\n        <g id=\"30\">\n            <g id=\"30.1\" class=\"nad-vl300to500-line\">\n                <polyline class=\"nad-edge-path nad-stretchable nad-glued-1\" points=\"-465.84,504.68 -439.00,345.61\"/>\n                <g class=\"nad-glued-1 nad-edge-infos\" transform=\"translate(-460.43,472.63)\">\n                    <g class=\"nad-active nad-state-in\">\n                        <g transform=\"rotate(9.58)\">\n                            <path class=\"nad-arrow-in\" transform=\"scale(10.00)\" d=\"M-1 -1 H1 L0 1z\"/>\n                            <path class=\"nad-arrow-out\" transform=\"scale(10.00)\" d=\"M-1 1 H1 L0 -1z\"/>\n                        </g>\n                        <text transform=\"rotate(-80.42)\" x=\"19.00\">-153</text>\n                    </g>\n                </g>\n            </g>\n            <g id=\"30.2\" class=\"nad-vl300to500-line\">\n                <polyline class=\"nad-edge-path nad-stretchable nad-glued-2\" points=\"-412.15,186.55 -439.00,345.61\"/>\n                <g class=\"nad-glued-2 nad-edge-infos\" transform=\"translate(-417.56,218.60)\">\n                    <g class=\"nad-active nad-state-out\">\n                        <g transform=\"rotate(-170.42)\">\n                            <path class=\"nad-arrow-in\" transform=\"scale(10.00)\" d=\"M-1 -1 H1 L0 1z\"/>\n                            <path class=\"nad-arrow-out\" transform=\"scale(10.00)\" d=\"M-1 1 H1 L0 -1z\"/>\n                        </g>\n                        <text transform=\"rotate(-80.42)\" x=\"-19.00\" style=\"text-anchor:end\">153</text>\n                    </g>\n                </g>\n            </g>\n        </g>\n        <g id=\"31\">\n            <g id=\"31.1\" class=\"nad-vl300to500-line\">\n                <polyline class=\"nad-edge-path nad-stretchable nad-glued-1\" points=\"-443.33,527.02 -286.29,499.32\"/>\n                <g class=\"nad-glued-1 nad-edge-infos\" transform=\"translate(-411.33,521.37)\">\n                    <g class=\"nad-active nad-state-out\">\n                        <g transform=\"rotate(80.00)\">\n                            <path class=\"nad-arrow-in\" transform=\"scale(10.00)\" d=\"M-1 -1 H1 L0 1z\"/>\n                            <path class=\"nad-arrow-out\" transform=\"scale(10.00)\" d=\"M-1 1 H1 L0 -1z\"/>\n                        </g>\n                        <text transform=\"rotate(-10.00)\" x=\"19.00\">153</text>\n                    </g>\n                </g>\n            </g>\n            <g id=\"31.2\" class=\"nad-vl300to500-line\">\n                <polyline class=\"nad-edge-path nad-stretchable nad-glued-2\" points=\"-129.24,471.62 -286.29,499.32\"/>\n                <g class=\"nad-glued-2 nad-edge-infos\" transform=\"translate(-161.25,477.26)\">\n                    <g class=\"nad-active nad-state-in\">\n                        <g transform=\"rotate(-100.00)\">\n                            <path class=\"nad-arrow-in\" transform=\"scale(10.00)\" d=\"M-1 -1 H1 L0 1z\"/>\n                            <path class=\"nad-arrow-out\" transform=\"scale(10.00)\" d=\"M-1 1 H1 L0 -1z\"/>\n                        </g>\n                        <text transform=\"rotate(-10.00)\" x=\"-19.00\" style=\"text-anchor:end\">-153</text>\n                    </g>\n                </g>\n            </g>\n        </g>\n        <g id=\"32\">\n            <g id=\"32.1\" class=\"nad-vl300to500-line\">\n                <polyline class=\"nad-edge-path nad-stretchable nad-glued-1\" points=\"-388.19,178.94 -254.87,313.14\"/>\n                <g class=\"nad-glued-1 nad-edge-infos\" transform=\"translate(-365.29,202.00)\">\n                    <g class=\"nad-active nad-state-out\">\n                        <g transform=\"rotate(135.19)\">\n                            <path class=\"nad-arrow-in\" transform=\"scale(10.00)\" d=\"M-1 -1 H1 L0 1z\"/>\n                            <path class=\"nad-arrow-out\" transform=\"scale(10.00)\" d=\"M-1 1 H1 L0 -1z\"/>\n                        </g>\n                        <text transform=\"rotate(45.19)\" x=\"19.00\">306</text>\n                    </g>\n                </g>\n            </g>\n            <g id=\"32.2\" class=\"nad-vl300to500-line\">\n                <polyline class=\"nad-edge-path nad-stretchable nad-glued-2\" points=\"-121.54,447.33 -254.87,313.14\"/>\n                <g class=\"nad-glued-2 nad-edge-infos\" transform=\"translate(-144.45,424.28)\">\n                    <g class=\"nad-active nad-state-in\">\n                        <g transform=\"rotate(-44.81)\">\n                            <path class=\"nad-arrow-in\" transform=\"scale(10.00)\" d=\"M-1 -1 H1 L0 1z\"/>\n                            <path class=\"nad-arrow-out\" transform=\"scale(10.00)\" d=\"M-1 1 H1 L0 -1z\"/>\n                        </g>\n                        <text transform=\"rotate(-314.81)\" x=\"-19.00\" style=\"text-anchor:end\">-306</text>\n                    </g>\n                </g>\n            </g>\n        </g>\n        <g id=\"33\">\n            <g id=\"33.1\" class=\"nad-vl300to500-line\">\n                <polyline class=\"nad-edge-path nad-stretchable nad-glued-1\" points=\"-409.77,132.02 -426.87,-81.37\"/>\n                <g class=\"nad-glued-1 nad-edge-infos\" transform=\"translate(-412.37,99.62)\">\n                    <g class=\"nad-active nad-state-in\">\n                        <g transform=\"rotate(-4.58)\">\n                            <path class=\"nad-arrow-in\" transform=\"scale(10.00)\" d=\"M-1 -1 H1 L0 1z\"/>\n                            <path class=\"nad-arrow-out\" transform=\"scale(10.00)\" d=\"M-1 1 H1 L0 -1z\"/>\n                        </g>\n                        <text transform=\"rotate(-274.58)\" x=\"-19.00\" style=\"text-anchor:end\">-459</text>\n                    </g>\n                </g>\n            </g>\n            <g id=\"33.2\" class=\"nad-vl300to500-line\">\n                <polyline class=\"nad-edge-path nad-stretchable nad-glued-2\" points=\"-443.96,-294.75 -426.87,-81.37\"/>\n                <g class=\"nad-glued-2 nad-edge-infos\" transform=\"translate(-441.36,-262.36)\">\n                    <g class=\"nad-active nad-state-out\">\n                        <g transform=\"rotate(175.42)\">\n                            <path class=\"nad-arrow-in\" transform=\"scale(10.00)\" d=\"M-1 -1 H1 L0 1z\"/>\n                            <path class=\"nad-arrow-out\" transform=\"scale(10.00)\" d=\"M-1 1 H1 L0 -1z\"/>\n                        </g>\n                        <text transform=\"rotate(85.42)\" x=\"19.00\">459</text>\n                    </g>\n                </g>\n            </g>\n        </g>\n        <g id=\"34\">\n            <g id=\"34.1\" class=\"nad-vl300to500-line\">\n                <polyline class=\"nad-edge-path nad-stretchable nad-glued-1\" points=\"336.12,434.31 130.69,449.56\"/>\n                <g class=\"nad-glued-1 nad-edge-infos\" transform=\"translate(303.71,436.72)\">\n                    <g class=\"nad-active nad-state-in\">\n                        <g transform=\"rotate(-94.24)\">\n                            <path class=\"nad-arrow-in\" transform=\"scale(10.00)\" d=\"M-1 -1 H1 L0 1z\"/>\n                            <path class=\"nad-arrow-out\" transform=\"scale(10.00)\" d=\"M-1 1 H1 L0 -1z\"/>\n                        </g>\n                        <text transform=\"rotate(-4.24)\" x=\"-19.00\" style=\"text-anchor:end\">-459</text>\n                    </g>\n                </g>\n            </g>\n            <g id=\"34.2\" class=\"nad-vl300to500-line\">\n                <polyline class=\"nad-edge-path nad-stretchable nad-glued-2\" points=\"-74.74,464.80 130.69,449.56\"/>\n                <g class=\"nad-glued-2 nad-edge-infos\" transform=\"translate(-42.33,462.40)\">\n                    <g class=\"nad-active nad-state-out\">\n                        <g transform=\"rotate(85.76)\">\n                            <path class=\"nad-arrow-in\" transform=\"scale(10.00)\" d=\"M-1 -1 H1 L0 1z\"/>\n                            <path class=\"nad-arrow-out\" transform=\"scale(10.00)\" d=\"M-1 1 H1 L0 -1z\"/>\n                        </g>\n                        <text transform=\"rotate(-4.24)\" x=\"19.00\">459</text>\n                    </g>\n                </g>\n            </g>\n        </g>\n        <g id=\"35\">\n            <g id=\"35.1\" class=\"nad-vl300to500-line\">\n                <polyline class=\"nad-edge-path nad-stretchable nad-glued-1\" points=\"709.63,402.80 550.29,416.37\"/>\n                <g class=\"nad-glued-1 nad-edge-infos\" transform=\"translate(677.25,405.56)\">\n                    <g class=\"nad-active nad-state-in\">\n                        <g transform=\"rotate(-94.87)\">\n                            <path class=\"nad-arrow-in\" transform=\"scale(10.00)\" d=\"M-1 -1 H1 L0 1z\"/>\n                            <path class=\"nad-arrow-out\" transform=\"scale(10.00)\" d=\"M-1 1 H1 L0 -1z\"/>\n                        </g>\n                        <text transform=\"rotate(-4.87)\" x=\"-19.00\" style=\"text-anchor:end\">-486</text>\n                    </g>\n                </g>\n            </g>\n            <g id=\"35.2\" class=\"nad-vl300to500-line\">\n                <polyline class=\"nad-edge-path nad-stretchable nad-glued-2\" points=\"390.95,429.94 550.29,416.37\"/>\n                <g class=\"nad-glued-2 nad-edge-infos\" transform=\"translate(423.33,427.18)\">\n                    <g class=\"nad-active nad-state-out\">\n                        <g transform=\"rotate(85.13)\">\n                            <path class=\"nad-arrow-in\" transform=\"scale(10.00)\" d=\"M-1 -1 H1 L0 1z\"/>\n                            <path class=\"nad-arrow-out\" transform=\"scale(10.00)\" d=\"M-1 1 H1 L0 -1z\"/>\n                        </g>\n                        <text transform=\"rotate(-4.87)\" x=\"19.00\">486</text>\n                    </g>\n                </g>\n            </g>\n        </g>\n        <g id=\"36\">\n            <g id=\"36.1\" class=\"nad-vl300to500-line\">\n                <polyline class=\"nad-edge-path nad-stretchable nad-glued-1\" points=\"723.64,376.44 641.01,228.19\"/>\n                <g class=\"nad-glued-1 nad-edge-infos\" transform=\"translate(707.82,348.06)\">\n                    <g class=\"nad-active nad-state-in\">\n                        <g transform=\"rotate(-29.13)\">\n                            <path class=\"nad-arrow-in\" transform=\"scale(10.00)\" d=\"M-1 -1 H1 L0 1z\"/>\n                            <path class=\"nad-arrow-out\" transform=\"scale(10.00)\" d=\"M-1 1 H1 L0 -1z\"/>\n                        </g>\n                        <text transform=\"rotate(-299.13)\" x=\"-19.00\" style=\"text-anchor:end\">-514</text>\n                    </g>\n                </g>\n            </g>\n            <g id=\"36.2\" class=\"nad-vl300to500-line\">\n                <polyline class=\"nad-edge-path nad-stretchable nad-glued-2\" points=\"558.37,79.94 641.01,228.19\"/>\n                <g class=\"nad-glued-2 nad-edge-infos\" transform=\"translate(574.20,108.33)\">\n                    <g class=\"nad-active nad-state-out\">\n                        <g transform=\"rotate(150.87)\">\n                            <path class=\"nad-arrow-in\" transform=\"scale(10.00)\" d=\"M-1 -1 H1 L0 1z\"/>\n                            <path class=\"nad-arrow-out\" transform=\"scale(10.00)\" d=\"M-1 1 H1 L0 -1z\"/>\n                        </g>\n                        <text transform=\"rotate(60.87)\" x=\"19.00\">514</text>\n                    </g>\n                </g>\n            </g>\n        </g>\n        <g id=\"37\">\n            <g id=\"37.1\" class=\"nad-vl300to500-line\">\n                <polyline class=\"nad-edge-path nad-stretchable nad-glued-1\" points=\"375.49,407.50 454.27,244.10\"/>\n                <g class=\"nad-glued-1 nad-edge-infos\" transform=\"translate(389.60,378.23)\">\n                    <g class=\"nad-active nad-state-in\">\n                        <g transform=\"rotate(25.74)\">\n                            <path class=\"nad-arrow-in\" transform=\"scale(10.00)\" d=\"M-1 -1 H1 L0 1z\"/>\n                            <path class=\"nad-arrow-out\" transform=\"scale(10.00)\" d=\"M-1 1 H1 L0 -1z\"/>\n                        </g>\n                        <text transform=\"rotate(-64.26)\" x=\"19.00\">-27</text>\n                    </g>\n                </g>\n            </g>\n            <g id=\"37.2\" class=\"nad-vl300to500-line\">\n                <polyline class=\"nad-edge-path nad-stretchable nad-glued-2\" points=\"533.04,80.69 454.27,244.10\"/>\n                <g class=\"nad-glued-2 nad-edge-infos\" transform=\"translate(518.93,109.97)\">\n                    <g class=\"nad-active nad-state-out\">\n                        <g transform=\"rotate(-154.26)\">\n                            <path class=\"nad-arrow-in\" transform=\"scale(10.00)\" d=\"M-1 -1 H1 L0 1z\"/>\n                            <path class=\"nad-arrow-out\" transform=\"scale(10.00)\" d=\"M-1 1 H1 L0 -1z\"/>\n                        </g>\n                        <text transform=\"rotate(-64.26)\" x=\"-19.00\" style=\"text-anchor:end\">27</text>\n                    </g>\n                </g>\n            </g>\n        </g>\n        <g id=\"38\">\n            <g id=\"38.1\" class=\"nad-vl300to500-line\">\n                <polyline class=\"nad-edge-path nad-stretchable nad-glued-1\" points=\"-462.45,-696.29 -306.41,-639.30\"/>\n                <g class=\"nad-glued-1 nad-edge-infos\" transform=\"translate(-431.93,-685.14)\">\n                    <g class=\"nad-active nad-state-out\">\n                        <g transform=\"rotate(110.06)\">\n                            <path class=\"nad-arrow-in\" transform=\"scale(10.00)\" d=\"M-1 -1 H1 L0 1z\"/>\n                            <path class=\"nad-arrow-out\" transform=\"scale(10.00)\" d=\"M-1 1 H1 L0 -1z\"/>\n                        </g>\n                        <text transform=\"rotate(20.06)\" x=\"19.00\">514</text>\n                    </g>\n                </g>\n            </g>\n            <g id=\"38.2\" class=\"nad-vl300to500-line\">\n                <polyline class=\"nad-edge-path nad-stretchable nad-glued-2\" points=\"-150.36,-582.31 -306.41,-639.30\"/>\n                <g class=\"nad-glued-2 nad-edge-infos\" transform=\"translate(-180.89,-593.46)\">\n                    <g class=\"nad-active nad-state-in\">\n                        <g transform=\"rotate(-69.94)\">\n                            <path class=\"nad-arrow-in\" transform=\"scale(10.00)\" d=\"M-1 -1 H1 L0 1z\"/>\n                            <path class=\"nad-arrow-out\" transform=\"scale(10.00)\" d=\"M-1 1 H1 L0 -1z\"/>\n                        </g>\n                        <text transform=\"rotate(-339.94)\" x=\"-19.00\" style=\"text-anchor:end\">-514</text>\n                    </g>\n                </g>\n            </g>\n        </g>\n        <g id=\"39\">\n            <g id=\"39.1\" class=\"nad-vl300to500-line\">\n                <polyline class=\"nad-edge-path nad-stretchable nad-glued-1\" points=\"-485.28,-678.39 -467.22,-513.94\"/>\n                <g class=\"nad-glued-1 nad-edge-infos\" transform=\"translate(-481.73,-646.08)\">\n                    <g class=\"nad-active nad-state-out\">\n                        <g transform=\"rotate(173.73)\">\n                            <path class=\"nad-arrow-in\" transform=\"scale(10.00)\" d=\"M-1 -1 H1 L0 1z\"/>\n                            <path class=\"nad-arrow-out\" transform=\"scale(10.00)\" d=\"M-1 1 H1 L0 -1z\"/>\n                        </g>\n                        <text transform=\"rotate(83.73)\" x=\"19.00\">486</text>\n                    </g>\n                </g>\n            </g>\n            <g id=\"39.2\" class=\"nad-vl300to500-line\">\n                <polyline class=\"nad-edge-path nad-stretchable nad-glued-2\" points=\"-449.16,-349.50 -467.22,-513.94\"/>\n                <g class=\"nad-glued-2 nad-edge-infos\" transform=\"translate(-452.71,-381.81)\">\n                    <g class=\"nad-active nad-state-in\">\n                        <g transform=\"rotate(-6.27)\">\n                            <path class=\"nad-arrow-in\" transform=\"scale(10.00)\" d=\"M-1 -1 H1 L0 1z\"/>\n                            <path class=\"nad-arrow-out\" transform=\"scale(10.00)\" d=\"M-1 1 H1 L0 -1z\"/>\n                        </g>\n                        <text transform=\"rotate(-276.27)\" x=\"-19.00\" style=\"text-anchor:end\">-486</text>\n                    </g>\n                </g>\n            </g>\n        </g>\n        <g id=\"40\">\n            <g id=\"40.1\" class=\"nad-vl300to500-line\">\n                <polyline class=\"nad-edge-path nad-stretchable nad-glued-1\" points=\"-146.22,-555.97 -285.34,-447.52\"/>\n                <g class=\"nad-glued-1 nad-edge-infos\" transform=\"translate(-171.85,-535.99)\">\n                    <g class=\"nad-active nad-state-in\">\n                        <g transform=\"rotate(-127.94)\">\n                            <path class=\"nad-arrow-in\" transform=\"scale(10.00)\" d=\"M-1 -1 H1 L0 1z\"/>\n                            <path class=\"nad-arrow-out\" transform=\"scale(10.00)\" d=\"M-1 1 H1 L0 -1z\"/>\n                        </g>\n                        <text transform=\"rotate(-37.94)\" x=\"-19.00\" style=\"text-anchor:end\">-27</text>\n                    </g>\n                </g>\n            </g>\n            <g id=\"40.2\" class=\"nad-vl300to500-line\">\n                <polyline class=\"nad-edge-path nad-stretchable nad-glued-2\" points=\"-424.47,-339.07 -285.34,-447.52\"/>\n                <g class=\"nad-glued-2 nad-edge-infos\" transform=\"translate(-398.83,-359.05)\">\n                    <g class=\"nad-active nad-state-out\">\n                        <g transform=\"rotate(52.06)\">\n                            <path class=\"nad-arrow-in\" transform=\"scale(10.00)\" d=\"M-1 -1 H1 L0 1z\"/>\n                            <path class=\"nad-arrow-out\" transform=\"scale(10.00)\" d=\"M-1 1 H1 L0 -1z\"/>\n                        </g>\n                        <text transform=\"rotate(-37.94)\" x=\"19.00\">27</text>\n                    </g>\n                </g>\n            </g>\n        </g>\n    </g>\n    <g class=\"nad-text-edges\">\n        <polyline id=\"0-textedge\" points=\"606.71,-744.84 677.04,-755.39\"/>\n        <polyline id=\"2-textedge\" points=\"402.98,-422.37 443.64,-428.47\"/>\n        <polyline id=\"5-textedge\" points=\"-440.75,527.34 -370.42,516.79\"/>\n        <polyline id=\"7-textedge\" points=\"-377.91,154.98 -307.58,144.43\"/>\n        <polyline id=\"9-textedge\" points=\"-72.49,462.39 -2.16,451.84\"/>\n        <polyline id=\"11-textedge\" points=\"766.70,396.01 837.03,385.46\"/>\n        <polyline id=\"13-textedge\" points=\"393.21,427.82 463.55,417.27\"/>\n        <polyline id=\"15-textedge\" points=\"574.65,51.47 644.99,40.92\"/>\n        <polyline id=\"17-textedge\" points=\"-458.62,-710.17 -388.28,-720.72\"/>\n        <polyline id=\"19-textedge\" points=\"-94.86,-577.32 -24.53,-587.87\"/>\n        <polyline id=\"21-textedge\" points=\"-416.49,-326.61 -346.15,-337.16\"/>\n    </g>\n    <g class=\"nad-text-nodes\">\n        <foreignObject id=\"0-textnode\" y=\"-780.39\" x=\"677.04\" height=\"1\" width=\"1\">\n            <div xmlns=\"http://www.w3.org/1999/xhtml\" class=\"nad-label-box\">\n                <div>BBE1AA1</div>\n                <table>\n                    <tr>\n                        <td>\n                            <div class=\"nad-vl300to500-0 nad-legend-square\"/>\n                        </td>\n                        <td> kV / 0.7°</td>\n                    </tr>\n                </table>\n            </div>\n        </foreignObject>\n        <foreignObject id=\"2-textnode\" y=\"-453.47\" x=\"443.64\" height=\"1\" width=\"1\">\n            <div xmlns=\"http://www.w3.org/1999/xhtml\" class=\"nad-label-box\">\n                <div>BBE2AA1</div>\n                <table>\n                    <tr>\n                        <td>\n                            <div class=\"nad-vl300to500-0 nad-legend-square\"/>\n                        </td>\n                        <td> kV / 0.0°</td>\n                    </tr>\n                    <tr>\n                        <td>\n                            <div class=\"nad-vl300to500-1 nad-legend-square\"/>\n                        </td>\n                        <td> kV / 1.4°</td>\n                    </tr>\n                </table>\n            </div>\n        </foreignObject>\n        <foreignObject id=\"5-textnode\" y=\"491.79\" x=\"-370.42\" height=\"1\" width=\"1\">\n            <div xmlns=\"http://www.w3.org/1999/xhtml\" class=\"nad-label-box\">\n                <div>DDE1AA1</div>\n                <table>\n                    <tr>\n                        <td>\n                            <div class=\"nad-vl300to500-0 nad-legend-square\"/>\n                        </td>\n                        <td> kV / 0.2°</td>\n                    </tr>\n                </table>\n            </div>\n        </foreignObject>\n        <foreignObject id=\"7-textnode\" y=\"119.43\" x=\"-307.58\" height=\"1\" width=\"1\">\n            <div xmlns=\"http://www.w3.org/1999/xhtml\" class=\"nad-label-box\">\n                <div>DDE2AA1</div>\n                <table>\n                    <tr>\n                        <td>\n                            <div class=\"nad-vl300to500-0 nad-legend-square\"/>\n                        </td>\n                        <td> kV / 0.8°</td>\n                    </tr>\n                </table>\n            </div>\n        </foreignObject>\n        <foreignObject id=\"9-textnode\" y=\"426.84\" x=\"-2.16\" height=\"1\" width=\"1\">\n            <div xmlns=\"http://www.w3.org/1999/xhtml\" class=\"nad-label-box\">\n                <div>DDE3AA1</div>\n                <table>\n                    <tr>\n                        <td>\n                            <div class=\"nad-vl300to500-0 nad-legend-square\"/>\n                        </td>\n                        <td> kV / -0.4°</td>\n                    </tr>\n                </table>\n            </div>\n        </foreignObject>\n        <foreignObject id=\"11-textnode\" y=\"360.46\" x=\"837.03\" height=\"1\" width=\"1\">\n            <div xmlns=\"http://www.w3.org/1999/xhtml\" class=\"nad-label-box\">\n                <div>FFR1AA1</div>\n                <table>\n                    <tr>\n                        <td>\n                            <div class=\"nad-vl300to500-0 nad-legend-square\"/>\n                        </td>\n                        <td> kV / -4.2°</td>\n                    </tr>\n                </table>\n            </div>\n        </foreignObject>\n        <foreignObject id=\"13-textnode\" y=\"392.27\" x=\"463.55\" height=\"1\" width=\"1\">\n            <div xmlns=\"http://www.w3.org/1999/xhtml\" class=\"nad-label-box\">\n                <div>FFR2AA1</div>\n                <table>\n                    <tr>\n                        <td>\n                            <div class=\"nad-vl300to500-0 nad-legend-square\"/>\n                        </td>\n                        <td> kV / -2.3°</td>\n                    </tr>\n                </table>\n            </div>\n        </foreignObject>\n        <foreignObject id=\"15-textnode\" y=\"15.92\" x=\"644.99\" height=\"1\" width=\"1\">\n            <div xmlns=\"http://www.w3.org/1999/xhtml\" class=\"nad-label-box\">\n                <div>FFR3AA1</div>\n                <table>\n                    <tr>\n                        <td>\n                            <div class=\"nad-vl300to500-0 nad-legend-square\"/>\n                        </td>\n                        <td> kV / -2.1°</td>\n                    </tr>\n                </table>\n            </div>\n        </foreignObject>\n        <foreignObject id=\"17-textnode\" y=\"-745.72\" x=\"-388.28\" height=\"1\" width=\"1\">\n            <div xmlns=\"http://www.w3.org/1999/xhtml\" class=\"nad-label-box\">\n                <div>NNL1AA1</div>\n                <table>\n                    <tr>\n                        <td>\n                            <div class=\"nad-vl300to500-0 nad-legend-square\"/>\n                        </td>\n                        <td> kV / 4.5°</td>\n                    </tr>\n                </table>\n            </div>\n        </foreignObject>\n        <foreignObject id=\"19-textnode\" y=\"-612.87\" x=\"-24.53\" height=\"1\" width=\"1\">\n            <div xmlns=\"http://www.w3.org/1999/xhtml\" class=\"nad-label-box\">\n                <div>NNL2AA1</div>\n                <table>\n                    <tr>\n                        <td>\n                            <div class=\"nad-vl300to500-0 nad-legend-square\"/>\n                        </td>\n                        <td> kV / 2.5°</td>\n                    </tr>\n                </table>\n            </div>\n        </foreignObject>\n        <foreignObject id=\"21-textnode\" y=\"-362.16\" x=\"-346.15\" height=\"1\" width=\"1\">\n            <div xmlns=\"http://www.w3.org/1999/xhtml\" class=\"nad-label-box\">\n                <div>NNL3AA1</div>\n                <table>\n                    <tr>\n                        <td>\n                            <div class=\"nad-vl300to500-0 nad-legend-square\"/>\n                        </td>\n                        <td> kV / 2.6°</td>\n                    </tr>\n                </table>\n            </div>\n        </foreignObject>\n    </g>\n</svg>\n"
     },
     "execution_count": 46,
     "metadata": {},
     "output_type": "execute_result"
    }
   ],
   "execution_count": 46
  },
  {
   "cell_type": "markdown",
   "metadata": {},
   "source": [
    "As we can see, the new flow is 270MW, and the overload has been solved.\n",
    "\n",
    "This solution can be found by the RAO. For this we will need some input files: the network (which we already have), and a crac file which will contain information about available remedial actions, and CNECs (critical network elements and contingencies). For more information on the crac input, you can check this page: https://powsybl.readthedocs.io/projects/openrao/en/stable/input-data/crac/json.html"
   ]
  },
  {
   "cell_type": "code",
   "metadata": {
    "ExecuteTime": {
     "end_time": "2025-04-25T09:44:30.140632Z",
     "start_time": "2025-04-25T09:44:30.086640Z"
    }
   },
   "source": [
    "# prepare inputs\n",
    "n12 = pp.network.load('./data/rao/12_node_network.uct')\n",
    "rao_runner = pp.rao.create_rao()\n",
    "rao_runner.set_crac_file_source(n12, \"./data/rao/N_case_crac.json\")\n",
    "rao_parameters = RaoParameters()\n",
    "rao_parameters.load_from_file_source(\"./data/rao/rao_parameters.json\")\n",
    "# set up logging\n",
    "import logging\n",
    "logging.getLogger('powsybl').setLevel(logging.INFO)\n",
    "logging.basicConfig(format='%(asctime)s - %(levelname)s - %(message)s')\n",
    "#run rao\n",
    "raoResult = rao_runner.run(n12, rao_parameters)\n",
    "result_json = raoResult.to_json()"
   ],
   "outputs": [
    {
     "name": "stderr",
     "output_type": "stream",
     "text": [
      "2025-04-25 11:44:30,090 - ERROR - BBE1AA1  BBE2AA1  1 - Real line resistance cannot be negative (0.0 ohm)\n",
      "2025-04-25 11:44:30,091 - ERROR - BBE1AA1  BBE3AA1  1 - Real line resistance cannot be negative (0.0 ohm)\n",
      "2025-04-25 11:44:30,091 - ERROR - FFR1AA1  FFR2AA1  1 - Real line resistance cannot be negative (0.0 ohm)\n",
      "2025-04-25 11:44:30,092 - ERROR - FFR1AA1  FFR3AA1  1 - Real line resistance cannot be negative (0.0 ohm)\n",
      "2025-04-25 11:44:30,092 - ERROR - FFR2AA1  FFR3AA1  1 - Real line resistance cannot be negative (0.0 ohm)\n",
      "2025-04-25 11:44:30,093 - ERROR - DDE1AA1  DDE2AA1  1 - Real line resistance cannot be negative (0.0 ohm)\n",
      "2025-04-25 11:44:30,093 - ERROR - DDE1AA1  DDE3AA1  1 - Real line resistance cannot be negative (0.0 ohm)\n",
      "2025-04-25 11:44:30,093 - ERROR - DDE2AA1  DDE3AA1  1 - Real line resistance cannot be negative (0.0 ohm)\n",
      "2025-04-25 11:44:30,094 - ERROR - NNL1AA1  NNL2AA1  1 - Real line resistance cannot be negative (0.0 ohm)\n",
      "2025-04-25 11:44:30,094 - ERROR - NNL1AA1  NNL3AA1  1 - Real line resistance cannot be negative (0.0 ohm)\n",
      "2025-04-25 11:44:30,094 - ERROR - NNL2AA1  NNL3AA1  1 - Real line resistance cannot be negative (0.0 ohm)\n",
      "2025-04-25 11:44:30,095 - ERROR - FFR2AA1  DDE3AA1  1 - Real line resistance cannot be negative (0.0 ohm)\n",
      "2025-04-25 11:44:30,096 - ERROR - DDE2AA1  NNL3AA1  1 - Real line resistance cannot be negative (0.0 ohm)\n",
      "2025-04-25 11:44:30,096 - ERROR - NNL2AA1  BBE3AA1  1 - Real line resistance cannot be negative (0.0 ohm)\n",
      "2025-04-25 11:44:30,096 - ERROR - NNL2AA1  BBE3AA1  2 - Real line resistance cannot be negative (0.0 ohm)\n",
      "2025-04-25 11:44:30,097 - ERROR - NNL2AA1  BBE3AA1  3 - Real line resistance cannot be negative (0.0 ohm)\n",
      "2025-04-25 11:44:30,097 - ERROR - BBE2AA1  FFR3AA1  1 - Real line resistance cannot be negative (0.0 ohm)\n",
      "2025-04-25 11:44:30,098 - ERROR - BBE2AA1  BBE3AA1  1 - Blank is not allowed, real transformer resistance must be greater than or equal to zero (0.0 ohm)\n",
      "2025-04-25 11:44:30,099 - WARNING - BBE2AA1  BBE3AA1  1 - Blank is not allowed (0.0 S)\n",
      "2025-04-25 11:44:30,099 - WARNING - BBE2AA1  BBE3AA1  1 - Transformer shunt conductance must be greater than or equal to zero (0.0 S)\n",
      "2025-04-25 11:44:30,100 - WARNING - BBE2AA1  BBE3AA1  1 - For LTCs, transformer angle regulation voltage per tap should not be zero. Its absolute value should not be above 6 % (-0.68 %)\n",
      "2025-04-25 11:44:30,106 - WARNING - Running RAO using Open RAO version 4.7.0 from git commit 4d70d0db5169461830fbb40cf4d2014f510e43f1.\n",
      "2025-04-25 11:44:30,107 - WARNING - Network {CC0 SC0}: 11 generators have been discarded from active power control because of a targetP equals 0\n",
      "2025-04-25 11:44:30,108 - INFO - Network {CC0 SC0} has 12 buses and 16 branches\n",
      "2025-04-25 11:44:30,109 - INFO - Network {CC0 SC0} balance: active generation=1000.0 MW, active load=1000.0 MW, reactive generation=0.0 MVar, reactive load=0.0 MVar\n",
      "2025-04-25 11:44:30,109 - INFO - Network {CC0 SC0}, slack buses are [BBE2AA1_0] (method='Most meshed bus')\n",
      "2025-04-25 11:44:30,110 - INFO - Network {CC0 SC0}, reference bus is BBE2AA1_0 (method='First slack')\n",
      "2025-04-25 11:44:30,110 - INFO - Running AC sensitivity analysis with 2 factors and 0 contingencies\n",
      "2025-04-25 11:44:30,111 - INFO - Start AC loadflow on network {CC0 SC0}\n",
      "2025-04-25 11:44:30,112 - INFO - AC loadflow complete on network {CC0 SC0} (result=AcLoadFlowResult(outerLoopIterations=0, newtonRaphsonIterations=2, solverStatus=CONVERGED, outerLoopStatus=STABLE, slackBusActivePowerMismatch=-0.002028186046532099, distributedActivePower=0.0))\n",
      "2025-04-25 11:44:30,113 - INFO - Initial sensitivity analysis: cost = 90.0 (functional: 90.0, virtual: 0.0)\n",
      "2025-04-25 11:44:30,114 - INFO - Limiting element #01: margin = -90.0 MW, element NNL2AA1  BBE3AA1  1 at state preventive, CNEC ID = \"NNL2AA1  BBE3AA1  1 - preventive\"\n",
      "2025-04-25 11:44:30,114 - INFO - ----- Preventive perimeter optimization [start]\n",
      "2025-04-25 11:44:30,115 - INFO - Root leaf, cost: 90.0 (functional: 90.0, virtual: 0.0)\n",
      "2025-04-25 11:44:30,115 - INFO - Limiting element #01: margin = -90.0 MW, element NNL2AA1  BBE3AA1  1 at state preventive, CNEC ID = \"NNL2AA1  BBE3AA1  1 - preventive\"\n",
      "2025-04-25 11:44:30,115 - INFO - Linear optimization on root leaf\n",
      "2025-04-25 11:44:30,116 - INFO - No range actions to optimize\n",
      "2025-04-25 11:44:30,116 - INFO - Root leaf, cost: 90.0 (functional: 90.0, virtual: 0.0)\n",
      "2025-04-25 11:44:30,116 - INFO - No range actions activated\n",
      "2025-04-25 11:44:30,117 - INFO - Limiting element #01: margin = -90.0 MW, element NNL2AA1  BBE3AA1  1 at state preventive, CNEC ID = \"NNL2AA1  BBE3AA1  1 - preventive\"\n",
      "2025-04-25 11:44:30,117 - INFO - Using base network '12_node_network' on variant 'PreventiveScenario'\n",
      "2025-04-25 11:44:30,118 - INFO - Search depth 1 [start]\n",
      "2025-04-25 11:44:30,118 - INFO - Leaves to evaluate: 1\n",
      "2025-04-25 11:44:30,119 - INFO - Connectable NNL2AA1  BBE3AA1  2 has been connected on each side.\n",
      "2025-04-25 11:44:30,120 - WARNING - Network {CC0 SC0}: 11 generators have been discarded from active power control because of a targetP equals 0\n",
      "2025-04-25 11:44:30,120 - INFO - Network {CC0 SC0} has 12 buses and 17 branches\n",
      "2025-04-25 11:44:30,121 - INFO - Network {CC0 SC0} balance: active generation=1000.0 MW, active load=1000.0 MW, reactive generation=0.0 MVar, reactive load=0.0 MVar\n",
      "2025-04-25 11:44:30,123 - INFO - Network {CC0 SC0}, slack buses are [BBE2AA1_1] (method='Most meshed bus')\n",
      "2025-04-25 11:44:30,123 - INFO - Network {CC0 SC0}, reference bus is BBE2AA1_1 (method='First slack')\n",
      "2025-04-25 11:44:30,124 - INFO - Running AC sensitivity analysis with 2 factors and 0 contingencies\n",
      "2025-04-25 11:44:30,125 - INFO - Start AC loadflow on network {CC0 SC0}\n",
      "2025-04-25 11:44:30,127 - INFO - AC loadflow complete on network {CC0 SC0} (result=AcLoadFlowResult(outerLoopIterations=0, newtonRaphsonIterations=2, solverStatus=CONVERGED, outerLoopStatus=STABLE, slackBusActivePowerMismatch=-3.2095159969713905E-4, distributedActivePower=0.0))\n",
      "2025-04-25 11:44:30,128 - INFO - Evaluated network action(s): close NL2 BE3 2, cost: -139.73 (functional: -139.73, virtual: 0.0)\n",
      "2025-04-25 11:44:30,129 - INFO - Optimized network action(s): close NL2 BE3 2, cost: -139.73 (functional: -139.73, virtual: 0.0)\n",
      "2025-04-25 11:44:30,129 - INFO - Stop criterion reached, other threads may skip optimization.\n",
      "2025-04-25 11:44:30,130 - INFO - Remaining leaves to evaluate: 0\n",
      "2025-04-25 11:44:30,131 - INFO - Search depth 1 [end]\n",
      "2025-04-25 11:44:30,132 - INFO - Search depth 1 best leaf: network action(s): close NL2 BE3 2, cost: -139.73 (functional: -139.73, virtual: 0.0)\n",
      "2025-04-25 11:44:30,133 - INFO - Search depth 1 best leaf: No range actions activated\n",
      "2025-04-25 11:44:30,134 - INFO - Limiting element #01: margin = 139.73 MW, element NNL2AA1  BBE3AA1  1 at state preventive, CNEC ID = \"NNL2AA1  BBE3AA1  1 - preventive\"\n",
      "2025-04-25 11:44:30,135 - INFO - Search-tree RAO completed with status DEFAULT\n",
      "2025-04-25 11:44:30,135 - INFO - Best leaf: network action(s): close NL2 BE3 2, cost: -139.73 (functional: -139.73, virtual: 0.0)\n",
      "2025-04-25 11:44:30,136 - INFO - Best leaf: No range actions activated\n",
      "2025-04-25 11:44:30,136 - INFO - Limiting element #01: margin = 139.73 MW, element NNL2AA1  BBE3AA1  1 at state preventive, CNEC ID = \"NNL2AA1  BBE3AA1  1 - preventive\"\n",
      "2025-04-25 11:44:30,137 - INFO - Scenario \"preventive\": initial cost = 90.0 (functional: 90.0, virtual: 0.0), 1 network action(s) activated : close NL2 BE3 2, cost after preventive optimization = -139.73 (functional: -139.73, virtual: 0.0)\n",
      "2025-04-25 11:44:30,137 - INFO - Connectable NNL2AA1  BBE3AA1  2 has been connected on each side.\n",
      "2025-04-25 11:44:30,138 - INFO - ----- Preventive perimeter optimization [end]\n"
     ]
    }
   ],
   "execution_count": 47
  },
  {
   "cell_type": "markdown",
   "metadata": {},
   "source": [
    "Let's examine the results of RAO."
   ]
  },
  {
   "cell_type": "code",
   "metadata": {
    "ExecuteTime": {
     "end_time": "2025-04-25T09:44:30.294100Z",
     "start_time": "2025-04-25T09:44:30.288850Z"
    }
   },
   "source": [
    "result_json"
   ],
   "outputs": [
    {
     "data": {
      "text/plain": [
       "{'type': 'RAO_RESULT',\n",
       " 'version': '1.7',\n",
       " 'info': 'Generated by Open RAO http://farao-community.github.io',\n",
       " 'computationStatus': 'default',\n",
       " 'executionDetails': 'The RAO only went through first preventive',\n",
       " 'costResults': {'initial': {'functionalCost': 90.0,\n",
       "   'virtualCost': {'sensitivity-failure-cost': 0.0}},\n",
       "  'preventive': {'functionalCost': -139.73,\n",
       "   'virtualCost': {'sensitivity-failure-cost': 0.0}},\n",
       "  'outage': {'functionalCost': -139.73,\n",
       "   'virtualCost': {'sensitivity-failure-cost': 0.0}},\n",
       "  'curative': {'functionalCost': -139.73,\n",
       "   'virtualCost': {'sensitivity-failure-cost': 0.0}}},\n",
       " 'computationStatusMap': [],\n",
       " 'flowCnecResults': [{'flowCnecId': 'NNL2AA1  BBE3AA1  1 - preventive',\n",
       "   'initial': {'ampere': {'margin': -129.99, 'side1': {'flow': 721.77}},\n",
       "    'megawatt': {'margin': -90.0, 'side1': {'flow': 500.0}}},\n",
       "   'preventive': {'ampere': {'margin': 201.67, 'side1': {'flow': 390.11}},\n",
       "    'megawatt': {'margin': 139.73, 'side1': {'flow': 270.27}}}}],\n",
       " 'angleCnecResults': [],\n",
       " 'voltageCnecResults': [],\n",
       " 'networkActionResults': [{'networkActionId': 'close NL2 BE3 2',\n",
       "   'activatedStates': [{'instant': 'preventive'}]}],\n",
       " 'rangeActionResults': []}"
      ]
     },
     "execution_count": 48,
     "metadata": {},
     "output_type": "execute_result"
    }
   ],
   "execution_count": 48
  },
  {
   "cell_type": "markdown",
   "source": [
    "We can see that initially there was a cost of +90 (which corresponds to a worst margin of -90MW, ie a worst overload of 90MW). Then after preventive actions, a cost of -139.73 (ie a worst margin of +139.73MW).\n",
    "Then we have the results per flow cnec. And finally we have the information of what actions were applied. Here we applied the action \"close NL2 BE3 2\" in the preventive state.\n",
    "For more information about the RaoResult, you can check this page: https://powsybl.readthedocs.io/projects/openrao/en/stable/output-data/rao-result.html"
   ],
   "metadata": {
    "collapsed": false
   }
  },
  {
   "cell_type": "markdown",
   "source": [
    "## 2 - N-1 outage overload"
   ],
   "metadata": {
    "collapsed": false
   }
  },
  {
   "cell_type": "markdown",
   "source": [
    "In this next case we added a flow cnec which limits the flow on the line NNL2AA1 and BBE3AA1 to 450MW, after the loss of the line between DDE2AA1 and DDE3AA1, at the outage instant (ie before we have the time to apply any actions - for more information about instants in OpenRAO you can check this page: https://powsybl.readthedocs.io/projects/openrao/en/stable/castor/rao-steps.html).\n",
    "This flow cnec will be overloaded even with the application of the topological action. Thankfully, we also added a preventive PST to solve the new constraint."
   ],
   "metadata": {
    "collapsed": false
   }
  },
  {
   "cell_type": "code",
   "source": [
    "# prepare inputs\n",
    "n12 = pp.network.load('./data/rao/12_node_network.uct')\n",
    "rao_runner = pp.rao.create_rao()\n",
    "rao_runner.set_crac_file_source(n12, \"./data/rao/N-1_case_crac_outage.json\")\n",
    "rao_parameters = RaoParameters()\n",
    "rao_parameters.load_from_file_source(\"./data/rao/rao_parameters.json\")\n",
    "# set up logging\n",
    "import logging\n",
    "logging.getLogger('powsybl').setLevel(logging.INFO)\n",
    "logging.basicConfig(format='%(asctime)s - %(levelname)s - %(message)s')\n",
    "#run rao\n",
    "raoResult = rao_runner.run(n12, rao_parameters)\n",
    "result_json = raoResult.to_json()"
   ],
   "metadata": {
    "collapsed": false,
    "ExecuteTime": {
     "end_time": "2025-04-25T09:44:30.404900Z",
     "start_time": "2025-04-25T09:44:30.347037Z"
    }
   },
   "outputs": [
    {
     "name": "stderr",
     "output_type": "stream",
     "text": [
      "2025-04-25 11:44:30,350 - ERROR - BBE1AA1  BBE2AA1  1 - Real line resistance cannot be negative (0.0 ohm)\n",
      "2025-04-25 11:44:30,350 - ERROR - BBE1AA1  BBE3AA1  1 - Real line resistance cannot be negative (0.0 ohm)\n",
      "2025-04-25 11:44:30,351 - ERROR - FFR1AA1  FFR2AA1  1 - Real line resistance cannot be negative (0.0 ohm)\n",
      "2025-04-25 11:44:30,351 - ERROR - FFR1AA1  FFR3AA1  1 - Real line resistance cannot be negative (0.0 ohm)\n",
      "2025-04-25 11:44:30,352 - ERROR - FFR2AA1  FFR3AA1  1 - Real line resistance cannot be negative (0.0 ohm)\n",
      "2025-04-25 11:44:30,352 - ERROR - DDE1AA1  DDE2AA1  1 - Real line resistance cannot be negative (0.0 ohm)\n",
      "2025-04-25 11:44:30,353 - ERROR - DDE1AA1  DDE3AA1  1 - Real line resistance cannot be negative (0.0 ohm)\n",
      "2025-04-25 11:44:30,353 - ERROR - DDE2AA1  DDE3AA1  1 - Real line resistance cannot be negative (0.0 ohm)\n",
      "2025-04-25 11:44:30,353 - ERROR - NNL1AA1  NNL2AA1  1 - Real line resistance cannot be negative (0.0 ohm)\n",
      "2025-04-25 11:44:30,354 - ERROR - NNL1AA1  NNL3AA1  1 - Real line resistance cannot be negative (0.0 ohm)\n",
      "2025-04-25 11:44:30,354 - ERROR - NNL2AA1  NNL3AA1  1 - Real line resistance cannot be negative (0.0 ohm)\n",
      "2025-04-25 11:44:30,354 - ERROR - FFR2AA1  DDE3AA1  1 - Real line resistance cannot be negative (0.0 ohm)\n",
      "2025-04-25 11:44:30,355 - ERROR - DDE2AA1  NNL3AA1  1 - Real line resistance cannot be negative (0.0 ohm)\n",
      "2025-04-25 11:44:30,355 - ERROR - NNL2AA1  BBE3AA1  1 - Real line resistance cannot be negative (0.0 ohm)\n",
      "2025-04-25 11:44:30,355 - ERROR - NNL2AA1  BBE3AA1  2 - Real line resistance cannot be negative (0.0 ohm)\n",
      "2025-04-25 11:44:30,356 - ERROR - NNL2AA1  BBE3AA1  3 - Real line resistance cannot be negative (0.0 ohm)\n",
      "2025-04-25 11:44:30,356 - ERROR - BBE2AA1  FFR3AA1  1 - Real line resistance cannot be negative (0.0 ohm)\n",
      "2025-04-25 11:44:30,356 - ERROR - BBE2AA1  BBE3AA1  1 - Blank is not allowed, real transformer resistance must be greater than or equal to zero (0.0 ohm)\n",
      "2025-04-25 11:44:30,357 - WARNING - BBE2AA1  BBE3AA1  1 - Blank is not allowed (0.0 S)\n",
      "2025-04-25 11:44:30,357 - WARNING - BBE2AA1  BBE3AA1  1 - Transformer shunt conductance must be greater than or equal to zero (0.0 S)\n",
      "2025-04-25 11:44:30,357 - WARNING - BBE2AA1  BBE3AA1  1 - For LTCs, transformer angle regulation voltage per tap should not be zero. Its absolute value should not be above 6 % (-0.68 %)\n",
      "2025-04-25 11:44:30,363 - WARNING - Running RAO using Open RAO version 4.7.0 from git commit 4d70d0db5169461830fbb40cf4d2014f510e43f1.\n",
      "2025-04-25 11:44:30,364 - WARNING - Contingency Contingency DE2 DE3 has an automaton or a curative remedial action but no CNECs associated.\n",
      "2025-04-25 11:44:30,365 - WARNING - Network {CC0 SC0}: 11 generators have been discarded from active power control because of a targetP equals 0\n",
      "2025-04-25 11:44:30,366 - INFO - Network {CC0 SC0} has 12 buses and 16 branches\n",
      "2025-04-25 11:44:30,366 - INFO - Network {CC0 SC0} balance: active generation=1000.0 MW, active load=1000.0 MW, reactive generation=0.0 MVar, reactive load=0.0 MVar\n",
      "2025-04-25 11:44:30,367 - INFO - Network {CC0 SC0}, slack buses are [BBE2AA1_0] (method='Most meshed bus')\n",
      "2025-04-25 11:44:30,367 - INFO - Network {CC0 SC0}, reference bus is BBE2AA1_0 (method='First slack')\n",
      "2025-04-25 11:44:30,368 - INFO - Running AC sensitivity analysis with 4 factors and 1 contingencies\n",
      "2025-04-25 11:44:30,368 - INFO - Start AC loadflow on network {CC0 SC0}\n",
      "2025-04-25 11:44:30,369 - INFO - AC loadflow complete on network {CC0 SC0} (result=AcLoadFlowResult(outerLoopIterations=0, newtonRaphsonIterations=2, solverStatus=CONVERGED, outerLoopStatus=STABLE, slackBusActivePowerMismatch=-0.002028186046532099, distributedActivePower=0.0))\n",
      "2025-04-25 11:44:30,369 - INFO - Simulate contingency 'Contingency DE2 DE3'\n",
      "2025-04-25 11:44:30,370 - INFO - Start AC loadflow on network {CC0 SC0}\n",
      "2025-04-25 11:44:30,370 - INFO - AC loadflow complete on network {CC0 SC0} (result=AcLoadFlowResult(outerLoopIterations=0, newtonRaphsonIterations=1, solverStatus=CONVERGED, outerLoopStatus=STABLE, slackBusActivePowerMismatch=-0.004776402772810329, distributedActivePower=0.0))\n",
      "2025-04-25 11:44:30,371 - INFO - Initial sensitivity analysis: cost = 133.3 (functional: 133.3, virtual: 0.0)\n",
      "2025-04-25 11:44:30,371 - INFO - Limiting element #01: margin = -133.3 MW, element NNL2AA1  BBE3AA1  1 at state Contingency DE2 DE3 - outage, CNEC ID = \"NNL2AA1  BBE3AA1  1 - Contingency DE2 DE3 - outage\"\n",
      "2025-04-25 11:44:30,371 - INFO - Limiting element #02: margin = -90.0 MW, element NNL2AA1  BBE3AA1  1 at state preventive, CNEC ID = \"NNL2AA1  BBE3AA1  1 - preventive\"\n",
      "2025-04-25 11:44:30,372 - INFO - ----- Preventive perimeter optimization [start]\n",
      "2025-04-25 11:44:30,372 - INFO - Root leaf, cost: 133.3 (functional: 133.3, virtual: 0.0)\n",
      "2025-04-25 11:44:30,372 - INFO - Limiting element #01: margin = -133.3 MW, element NNL2AA1  BBE3AA1  1 at state Contingency DE2 DE3 - outage, CNEC ID = \"NNL2AA1  BBE3AA1  1 - Contingency DE2 DE3 - outage\"\n",
      "2025-04-25 11:44:30,373 - INFO - Limiting element #02: margin = -90.0 MW, element NNL2AA1  BBE3AA1  1 at state preventive, CNEC ID = \"NNL2AA1  BBE3AA1  1 - preventive\"\n",
      "2025-04-25 11:44:30,374 - INFO - Linear optimization on root leaf\n",
      "2025-04-25 11:44:30,376 - WARNING - Network {CC0 SC0}: 11 generators have been discarded from active power control because of a targetP equals 0\n",
      "2025-04-25 11:44:30,377 - INFO - Network {CC0 SC0} has 12 buses and 16 branches\n",
      "2025-04-25 11:44:30,377 - INFO - Network {CC0 SC0} balance: active generation=1000.0 MW, active load=1000.0 MW, reactive generation=0.0 MVar, reactive load=0.0 MVar\n",
      "2025-04-25 11:44:30,378 - INFO - Network {CC0 SC0}, slack buses are [BBE2AA1_0] (method='Most meshed bus')\n",
      "2025-04-25 11:44:30,378 - INFO - Network {CC0 SC0}, reference bus is BBE2AA1_0 (method='First slack')\n",
      "2025-04-25 11:44:30,379 - INFO - Running AC sensitivity analysis with 4 factors and 1 contingencies\n",
      "2025-04-25 11:44:30,379 - INFO - Start AC loadflow on network {CC0 SC0}\n",
      "2025-04-25 11:44:30,380 - INFO - AC loadflow complete on network {CC0 SC0} (result=AcLoadFlowResult(outerLoopIterations=0, newtonRaphsonIterations=2, solverStatus=CONVERGED, outerLoopStatus=STABLE, slackBusActivePowerMismatch=7.257322425457957E-4, distributedActivePower=0.0))\n",
      "2025-04-25 11:44:30,381 - INFO - Simulate contingency 'Contingency DE2 DE3'\n",
      "2025-04-25 11:44:30,382 - INFO - Start AC loadflow on network {CC0 SC0}\n",
      "2025-04-25 11:44:30,382 - INFO - AC loadflow complete on network {CC0 SC0} (result=AcLoadFlowResult(outerLoopIterations=0, newtonRaphsonIterations=2, solverStatus=CONVERGED, outerLoopStatus=STABLE, slackBusActivePowerMismatch=-4.960476474025199E-10, distributedActivePower=0.0))\n",
      "2025-04-25 11:44:30,383 - INFO - Iteration 1: better solution found with a cost of 42.72 (functional: 42.72)\n",
      "2025-04-25 11:44:30,385 - INFO - Iteration 2: same results as previous iterations, optimal solution found\n",
      "2025-04-25 11:44:30,385 - INFO - Root leaf, 1 range action(s) activated, cost: 42.72 (functional: 42.72, virtual: 0.0)\n",
      "2025-04-25 11:44:30,385 - INFO - range action(s): pst-range-action: -10\n",
      "2025-04-25 11:44:30,386 - INFO - Limiting element #01: margin = -42.72 MW, element NNL2AA1  BBE3AA1  1 at state Contingency DE2 DE3 - outage, CNEC ID = \"NNL2AA1  BBE3AA1  1 - Contingency DE2 DE3 - outage\"\n",
      "2025-04-25 11:44:30,386 - INFO - Limiting element #02: margin = 18.73 MW, element NNL2AA1  BBE3AA1  1 at state preventive, CNEC ID = \"NNL2AA1  BBE3AA1  1 - preventive\"\n",
      "2025-04-25 11:44:30,386 - INFO - Using base network '12_node_network' on variant 'PreventiveScenario'\n",
      "2025-04-25 11:44:30,387 - INFO - Search depth 1 [start]\n",
      "2025-04-25 11:44:30,387 - INFO - Leaves to evaluate: 1\n",
      "2025-04-25 11:44:30,388 - INFO - Connectable NNL2AA1  BBE3AA1  2 has been connected on each side.\n",
      "2025-04-25 11:44:30,389 - WARNING - Network {CC0 SC0}: 11 generators have been discarded from active power control because of a targetP equals 0\n",
      "2025-04-25 11:44:30,389 - INFO - Network {CC0 SC0} has 12 buses and 17 branches\n",
      "2025-04-25 11:44:30,390 - INFO - Network {CC0 SC0} balance: active generation=1000.0 MW, active load=1000.0 MW, reactive generation=0.0 MVar, reactive load=0.0 MVar\n",
      "2025-04-25 11:44:30,390 - INFO - Network {CC0 SC0}, slack buses are [BBE2AA1_1] (method='Most meshed bus')\n",
      "2025-04-25 11:44:30,391 - INFO - Network {CC0 SC0}, reference bus is BBE2AA1_1 (method='First slack')\n",
      "2025-04-25 11:44:30,391 - INFO - Running AC sensitivity analysis with 4 factors and 1 contingencies\n",
      "2025-04-25 11:44:30,392 - INFO - Start AC loadflow on network {CC0 SC0}\n",
      "2025-04-25 11:44:30,392 - INFO - AC loadflow complete on network {CC0 SC0} (result=AcLoadFlowResult(outerLoopIterations=0, newtonRaphsonIterations=2, solverStatus=CONVERGED, outerLoopStatus=STABLE, slackBusActivePowerMismatch=-0.002408294433209335, distributedActivePower=0.0))\n",
      "2025-04-25 11:44:30,393 - INFO - Simulate contingency 'Contingency DE2 DE3'\n",
      "2025-04-25 11:44:30,394 - INFO - Start AC loadflow on network {CC0 SC0}\n",
      "2025-04-25 11:44:30,394 - INFO - AC loadflow complete on network {CC0 SC0} (result=AcLoadFlowResult(outerLoopIterations=0, newtonRaphsonIterations=2, solverStatus=CONVERGED, outerLoopStatus=STABLE, slackBusActivePowerMismatch=4.3076653355456074E-11, distributedActivePower=0.0))\n",
      "2025-04-25 11:44:30,394 - INFO - Evaluated network action(s): close NL2 BE3 2, cost: -187.22 (functional: -187.22, virtual: 0.0)\n",
      "2025-04-25 11:44:30,395 - INFO - Optimized network action(s): close NL2 BE3 2, cost: -187.22 (functional: -187.22, virtual: 0.0)\n",
      "2025-04-25 11:44:30,395 - INFO - Stop criterion reached, other threads may skip optimization.\n",
      "2025-04-25 11:44:30,396 - INFO - Remaining leaves to evaluate: 0\n",
      "2025-04-25 11:44:30,396 - INFO - Search depth 1 [end]\n",
      "2025-04-25 11:44:30,397 - INFO - Search depth 1 best leaf: network action(s): close NL2 BE3 2, cost: -187.22 (functional: -187.22, virtual: 0.0)\n",
      "2025-04-25 11:44:30,397 - INFO - Search depth 1 best leaf: range action(s): pst-range-action: -10\n",
      "2025-04-25 11:44:30,397 - INFO - Limiting element #01: margin = 187.22 MW, element NNL2AA1  BBE3AA1  1 at state Contingency DE2 DE3 - outage, CNEC ID = \"NNL2AA1  BBE3AA1  1 - Contingency DE2 DE3 - outage\"\n",
      "2025-04-25 11:44:30,398 - INFO - Limiting element #02: margin = 198.5 MW, element NNL2AA1  BBE3AA1  1 at state preventive, CNEC ID = \"NNL2AA1  BBE3AA1  1 - preventive\"\n",
      "2025-04-25 11:44:30,398 - INFO - Search-tree RAO completed with status DEFAULT\n",
      "2025-04-25 11:44:30,398 - INFO - Best leaf: network action(s): close NL2 BE3 2, cost: -187.22 (functional: -187.22, virtual: 0.0)\n",
      "2025-04-25 11:44:30,399 - INFO - Best leaf: range action(s): pst-range-action: -10\n",
      "2025-04-25 11:44:30,399 - INFO - Limiting element #01: margin = 187.22 MW, element NNL2AA1  BBE3AA1  1 at state Contingency DE2 DE3 - outage, CNEC ID = \"NNL2AA1  BBE3AA1  1 - Contingency DE2 DE3 - outage\"\n",
      "2025-04-25 11:44:30,399 - INFO - Limiting element #02: margin = 198.5 MW, element NNL2AA1  BBE3AA1  1 at state preventive, CNEC ID = \"NNL2AA1  BBE3AA1  1 - preventive\"\n",
      "2025-04-25 11:44:30,400 - INFO - Scenario \"preventive\": initial cost = 133.3 (functional: 133.3, virtual: 0.0), 1 network action(s) and 1 range action(s) activated : close NL2 BE3 2 and pst-range-action: -10, cost after preventive optimization = -187.22 (functional: -187.22, virtual: 0.0)\n",
      "2025-04-25 11:44:30,401 - INFO - Connectable NNL2AA1  BBE3AA1  2 has been connected on each side.\n",
      "2025-04-25 11:44:30,402 - INFO - ----- Preventive perimeter optimization [end]\n"
     ]
    }
   ],
   "execution_count": 49
  },
  {
   "cell_type": "code",
   "source": [
    "result_json"
   ],
   "metadata": {
    "collapsed": false,
    "ExecuteTime": {
     "end_time": "2025-04-25T09:44:30.509006Z",
     "start_time": "2025-04-25T09:44:30.504404Z"
    }
   },
   "outputs": [
    {
     "data": {
      "text/plain": [
       "{'type': 'RAO_RESULT',\n",
       " 'version': '1.7',\n",
       " 'info': 'Generated by Open RAO http://farao-community.github.io',\n",
       " 'computationStatus': 'default',\n",
       " 'executionDetails': 'The RAO only went through first preventive',\n",
       " 'costResults': {'initial': {'functionalCost': 133.3,\n",
       "   'virtualCost': {'sensitivity-failure-cost': 0.0}},\n",
       "  'preventive': {'functionalCost': -187.22,\n",
       "   'virtualCost': {'sensitivity-failure-cost': 0.0}},\n",
       "  'outage': {'functionalCost': -187.22,\n",
       "   'virtualCost': {'sensitivity-failure-cost': 0.0}},\n",
       "  'curative': {'functionalCost': -187.22,\n",
       "   'virtualCost': {'sensitivity-failure-cost': 0.0}}},\n",
       " 'computationStatusMap': [],\n",
       " 'flowCnecResults': [{'flowCnecId': 'NNL2AA1  BBE3AA1  1 - Contingency DE2 DE3 - outage',\n",
       "   'initial': {'ampere': {'margin': -192.55, 'side1': {'flow': 842.07}},\n",
       "    'megawatt': {'margin': -133.3, 'side1': {'flow': 583.3}}},\n",
       "   'preventive': {'ampere': {'margin': 270.21, 'side1': {'flow': 379.3}},\n",
       "    'megawatt': {'margin': 187.22, 'side1': {'flow': 262.78}}}},\n",
       "  {'flowCnecId': 'NNL2AA1  BBE3AA1  1 - preventive',\n",
       "   'initial': {'ampere': {'margin': -129.99, 'side1': {'flow': 721.77}},\n",
       "    'megawatt': {'margin': -90.0, 'side1': {'flow': 500.0}}},\n",
       "   'preventive': {'ampere': {'margin': 286.51, 'side1': {'flow': 305.28}},\n",
       "    'megawatt': {'margin': 198.5, 'side1': {'flow': 211.5}}}}],\n",
       " 'angleCnecResults': [],\n",
       " 'voltageCnecResults': [],\n",
       " 'networkActionResults': [{'networkActionId': 'close NL2 BE3 2',\n",
       "   'activatedStates': [{'instant': 'preventive'}]}],\n",
       " 'rangeActionResults': [{'rangeActionId': 'pst-range-action',\n",
       "   'initialSetpoint': 0.0,\n",
       "   'activatedStates': [{'instant': 'preventive',\n",
       "     'setpoint': -3.894612745121778}]}]}"
      ]
     },
     "execution_count": 50,
     "metadata": {},
     "output_type": "execute_result"
    }
   ],
   "execution_count": 50
  },
  {
   "cell_type": "markdown",
   "source": [
    "This time the initial worse overload was 133MW on the outage cnec. If you check the logs carefully (currently we cannot separate the OLF logs from the OpenRAO logs in pypowsybl which makes it a bit hard to read), you can see that we initially tried to solve the constraints with just the PST (root leaf), and still had an overload of 42MW.\n",
    "Then we tried applying the topological action and reoptimized the pst, and ended up with a worst margin of 187MW!  "
   ],
   "metadata": {
    "collapsed": false
   }
  },
  {
   "cell_type": "markdown",
   "source": [
    "## 3 - N-1 curative overload"
   ],
   "metadata": {
    "collapsed": false
   }
  },
  {
   "cell_type": "markdown",
   "source": [
    "In this final case, we will also check the flow on line BE1 BE2, but this time at the curative instant. We will change the usage rule on the PST to be able to move it in curative to be able to solve the new constraint we have on the line."
   ],
   "metadata": {
    "collapsed": false
   }
  },
  {
   "cell_type": "code",
   "source": [
    "# prepare inputs\n",
    "n12 = pp.network.load('./data/rao/12_node_network.uct')\n",
    "rao_runner = pp.rao.create_rao()\n",
    "rao_runner.set_crac_file_source(n12, \"./data/rao/N-1_case_crac_curative.json\")\n",
    "rao_parameters = RaoParameters()\n",
    "rao_parameters.load_from_file_source(\"./data/rao/rao_parameters.json\")\n",
    "# set up logging\n",
    "import logging\n",
    "logging.getLogger('powsybl').setLevel(logging.INFO)\n",
    "logging.basicConfig(format='%(asctime)s - %(levelname)s - %(message)s')\n",
    "#run rao\n",
    "raoResult = rao_runner.run(n12, rao_parameters)\n",
    "result_json = raoResult.to_json()"
   ],
   "metadata": {
    "collapsed": false,
    "ExecuteTime": {
     "end_time": "2025-04-25T09:44:30.681403Z",
     "start_time": "2025-04-25T09:44:30.560575Z"
    }
   },
   "outputs": [
    {
     "name": "stderr",
     "output_type": "stream",
     "text": [
      "2025-04-25 11:44:30,563 - ERROR - BBE1AA1  BBE2AA1  1 - Real line resistance cannot be negative (0.0 ohm)\n",
      "2025-04-25 11:44:30,563 - ERROR - BBE1AA1  BBE3AA1  1 - Real line resistance cannot be negative (0.0 ohm)\n",
      "2025-04-25 11:44:30,564 - ERROR - FFR1AA1  FFR2AA1  1 - Real line resistance cannot be negative (0.0 ohm)\n",
      "2025-04-25 11:44:30,564 - ERROR - FFR1AA1  FFR3AA1  1 - Real line resistance cannot be negative (0.0 ohm)\n",
      "2025-04-25 11:44:30,565 - ERROR - FFR2AA1  FFR3AA1  1 - Real line resistance cannot be negative (0.0 ohm)\n",
      "2025-04-25 11:44:30,565 - ERROR - DDE1AA1  DDE2AA1  1 - Real line resistance cannot be negative (0.0 ohm)\n",
      "2025-04-25 11:44:30,567 - ERROR - DDE1AA1  DDE3AA1  1 - Real line resistance cannot be negative (0.0 ohm)\n",
      "2025-04-25 11:44:30,567 - ERROR - DDE2AA1  DDE3AA1  1 - Real line resistance cannot be negative (0.0 ohm)\n",
      "2025-04-25 11:44:30,568 - ERROR - NNL1AA1  NNL2AA1  1 - Real line resistance cannot be negative (0.0 ohm)\n",
      "2025-04-25 11:44:30,568 - ERROR - NNL1AA1  NNL3AA1  1 - Real line resistance cannot be negative (0.0 ohm)\n",
      "2025-04-25 11:44:30,568 - ERROR - NNL2AA1  NNL3AA1  1 - Real line resistance cannot be negative (0.0 ohm)\n",
      "2025-04-25 11:44:30,568 - ERROR - FFR2AA1  DDE3AA1  1 - Real line resistance cannot be negative (0.0 ohm)\n",
      "2025-04-25 11:44:30,569 - ERROR - DDE2AA1  NNL3AA1  1 - Real line resistance cannot be negative (0.0 ohm)\n",
      "2025-04-25 11:44:30,569 - ERROR - NNL2AA1  BBE3AA1  1 - Real line resistance cannot be negative (0.0 ohm)\n",
      "2025-04-25 11:44:30,569 - ERROR - NNL2AA1  BBE3AA1  2 - Real line resistance cannot be negative (0.0 ohm)\n",
      "2025-04-25 11:44:30,570 - ERROR - NNL2AA1  BBE3AA1  3 - Real line resistance cannot be negative (0.0 ohm)\n",
      "2025-04-25 11:44:30,570 - ERROR - BBE2AA1  FFR3AA1  1 - Real line resistance cannot be negative (0.0 ohm)\n",
      "2025-04-25 11:44:30,570 - ERROR - BBE2AA1  BBE3AA1  1 - Blank is not allowed, real transformer resistance must be greater than or equal to zero (0.0 ohm)\n",
      "2025-04-25 11:44:30,571 - WARNING - BBE2AA1  BBE3AA1  1 - Blank is not allowed (0.0 S)\n",
      "2025-04-25 11:44:30,571 - WARNING - BBE2AA1  BBE3AA1  1 - Transformer shunt conductance must be greater than or equal to zero (0.0 S)\n",
      "2025-04-25 11:44:30,572 - WARNING - BBE2AA1  BBE3AA1  1 - For LTCs, transformer angle regulation voltage per tap should not be zero. Its absolute value should not be above 6 % (-0.68 %)\n",
      "2025-04-25 11:44:30,576 - WARNING - Running RAO using Open RAO version 4.7.0 from git commit 4d70d0db5169461830fbb40cf4d2014f510e43f1.\n",
      "2025-04-25 11:44:30,578 - WARNING - Network {CC0 SC0}: 11 generators have been discarded from active power control because of a targetP equals 0\n",
      "2025-04-25 11:44:30,578 - INFO - Network {CC0 SC0} has 12 buses and 16 branches\n",
      "2025-04-25 11:44:30,579 - INFO - Network {CC0 SC0} balance: active generation=1000.0 MW, active load=1000.0 MW, reactive generation=0.0 MVar, reactive load=0.0 MVar\n",
      "2025-04-25 11:44:30,579 - INFO - Network {CC0 SC0}, slack buses are [BBE2AA1_0] (method='Most meshed bus')\n",
      "2025-04-25 11:44:30,580 - INFO - Network {CC0 SC0}, reference bus is BBE2AA1_0 (method='First slack')\n",
      "2025-04-25 11:44:30,580 - INFO - Running AC sensitivity analysis with 6 factors and 1 contingencies\n",
      "2025-04-25 11:44:30,581 - INFO - Start AC loadflow on network {CC0 SC0}\n",
      "2025-04-25 11:44:30,582 - INFO - AC loadflow complete on network {CC0 SC0} (result=AcLoadFlowResult(outerLoopIterations=0, newtonRaphsonIterations=2, solverStatus=CONVERGED, outerLoopStatus=STABLE, slackBusActivePowerMismatch=-0.002028186046532099, distributedActivePower=0.0))\n",
      "2025-04-25 11:44:30,583 - INFO - Simulate contingency 'Contingency DE2 DE3'\n",
      "2025-04-25 11:44:30,584 - INFO - Start AC loadflow on network {CC0 SC0}\n",
      "2025-04-25 11:44:30,585 - INFO - AC loadflow complete on network {CC0 SC0} (result=AcLoadFlowResult(outerLoopIterations=0, newtonRaphsonIterations=1, solverStatus=CONVERGED, outerLoopStatus=STABLE, slackBusActivePowerMismatch=-0.004776402772810329, distributedActivePower=0.0))\n",
      "2025-04-25 11:44:30,585 - INFO - Initial sensitivity analysis: cost = 133.3 (functional: 133.3, virtual: 0.0)\n",
      "2025-04-25 11:44:30,586 - INFO - Limiting element #01: margin = -133.3 MW, element NNL2AA1  BBE3AA1  1 at state Contingency DE2 DE3 - outage, CNEC ID = \"NNL2AA1  BBE3AA1  1 - Contingency DE2 DE3 - outage\"\n",
      "2025-04-25 11:44:30,586 - INFO - Limiting element #02: margin = -90.0 MW, element NNL2AA1  BBE3AA1  1 at state preventive, CNEC ID = \"NNL2AA1  BBE3AA1  1 - preventive\"\n",
      "2025-04-25 11:44:30,587 - INFO - ----- Preventive perimeter optimization [start]\n",
      "2025-04-25 11:44:30,587 - INFO - Root leaf, cost: 133.3 (functional: 133.3, virtual: 0.0)\n",
      "2025-04-25 11:44:30,588 - INFO - Limiting element #01: margin = -133.3 MW, element NNL2AA1  BBE3AA1  1 at state Contingency DE2 DE3 - outage, CNEC ID = \"NNL2AA1  BBE3AA1  1 - Contingency DE2 DE3 - outage\"\n",
      "2025-04-25 11:44:30,588 - INFO - Limiting element #02: margin = -90.0 MW, element NNL2AA1  BBE3AA1  1 at state preventive, CNEC ID = \"NNL2AA1  BBE3AA1  1 - preventive\"\n",
      "2025-04-25 11:44:30,588 - INFO - Linear optimization on root leaf\n",
      "2025-04-25 11:44:30,590 - WARNING - Network {CC0 SC0}: 11 generators have been discarded from active power control because of a targetP equals 0\n",
      "2025-04-25 11:44:30,591 - INFO - Network {CC0 SC0} has 12 buses and 16 branches\n",
      "2025-04-25 11:44:30,591 - INFO - Network {CC0 SC0} balance: active generation=1000.0 MW, active load=1000.0 MW, reactive generation=0.0 MVar, reactive load=0.0 MVar\n",
      "2025-04-25 11:44:30,592 - INFO - Network {CC0 SC0}, slack buses are [BBE2AA1_0] (method='Most meshed bus')\n",
      "2025-04-25 11:44:30,593 - INFO - Network {CC0 SC0}, reference bus is BBE2AA1_0 (method='First slack')\n",
      "2025-04-25 11:44:30,594 - INFO - Running AC sensitivity analysis with 4 factors and 1 contingencies\n",
      "2025-04-25 11:44:30,594 - INFO - Start AC loadflow on network {CC0 SC0}\n",
      "2025-04-25 11:44:30,595 - INFO - AC loadflow complete on network {CC0 SC0} (result=AcLoadFlowResult(outerLoopIterations=0, newtonRaphsonIterations=2, solverStatus=CONVERGED, outerLoopStatus=STABLE, slackBusActivePowerMismatch=7.257322425457957E-4, distributedActivePower=0.0))\n",
      "2025-04-25 11:44:30,596 - INFO - Simulate contingency 'Contingency DE2 DE3'\n",
      "2025-04-25 11:44:30,597 - INFO - Start AC loadflow on network {CC0 SC0}\n",
      "2025-04-25 11:44:30,597 - INFO - AC loadflow complete on network {CC0 SC0} (result=AcLoadFlowResult(outerLoopIterations=0, newtonRaphsonIterations=2, solverStatus=CONVERGED, outerLoopStatus=STABLE, slackBusActivePowerMismatch=-4.960476474025199E-10, distributedActivePower=0.0))\n",
      "2025-04-25 11:44:30,598 - INFO - Iteration 1: better solution found with a cost of 42.72 (functional: 42.72)\n",
      "2025-04-25 11:44:30,599 - INFO - Iteration 2: same results as previous iterations, optimal solution found\n",
      "2025-04-25 11:44:30,600 - INFO - Root leaf, 1 range action(s) activated, cost: 42.72 (functional: 42.72, virtual: 0.0)\n",
      "2025-04-25 11:44:30,600 - INFO - range action(s): pst-range-action: -10\n",
      "2025-04-25 11:44:30,601 - INFO - Limiting element #01: margin = -42.72 MW, element NNL2AA1  BBE3AA1  1 at state Contingency DE2 DE3 - outage, CNEC ID = \"NNL2AA1  BBE3AA1  1 - Contingency DE2 DE3 - outage\"\n",
      "2025-04-25 11:44:30,601 - INFO - Limiting element #02: margin = 18.73 MW, element NNL2AA1  BBE3AA1  1 at state preventive, CNEC ID = \"NNL2AA1  BBE3AA1  1 - preventive\"\n",
      "2025-04-25 11:44:30,602 - INFO - Using base network '12_node_network' on variant 'PreventiveScenario'\n",
      "2025-04-25 11:44:30,603 - INFO - Search depth 1 [start]\n",
      "2025-04-25 11:44:30,603 - INFO - Leaves to evaluate: 1\n",
      "2025-04-25 11:44:30,605 - INFO - Connectable NNL2AA1  BBE3AA1  2 has been connected on each side.\n",
      "2025-04-25 11:44:30,606 - WARNING - Network {CC0 SC0}: 11 generators have been discarded from active power control because of a targetP equals 0\n",
      "2025-04-25 11:44:30,606 - INFO - Network {CC0 SC0} has 12 buses and 17 branches\n",
      "2025-04-25 11:44:30,607 - INFO - Network {CC0 SC0} balance: active generation=1000.0 MW, active load=1000.0 MW, reactive generation=0.0 MVar, reactive load=0.0 MVar\n",
      "2025-04-25 11:44:30,608 - INFO - Network {CC0 SC0}, slack buses are [BBE2AA1_1] (method='Most meshed bus')\n",
      "2025-04-25 11:44:30,608 - INFO - Network {CC0 SC0}, reference bus is BBE2AA1_1 (method='First slack')\n",
      "2025-04-25 11:44:30,609 - INFO - Running AC sensitivity analysis with 4 factors and 1 contingencies\n",
      "2025-04-25 11:44:30,610 - INFO - Start AC loadflow on network {CC0 SC0}\n",
      "2025-04-25 11:44:30,611 - INFO - AC loadflow complete on network {CC0 SC0} (result=AcLoadFlowResult(outerLoopIterations=0, newtonRaphsonIterations=2, solverStatus=CONVERGED, outerLoopStatus=STABLE, slackBusActivePowerMismatch=-0.002408294433209335, distributedActivePower=0.0))\n",
      "2025-04-25 11:44:30,612 - INFO - Simulate contingency 'Contingency DE2 DE3'\n",
      "2025-04-25 11:44:30,612 - INFO - Start AC loadflow on network {CC0 SC0}\n",
      "2025-04-25 11:44:30,613 - INFO - AC loadflow complete on network {CC0 SC0} (result=AcLoadFlowResult(outerLoopIterations=0, newtonRaphsonIterations=2, solverStatus=CONVERGED, outerLoopStatus=STABLE, slackBusActivePowerMismatch=4.3076653355456074E-11, distributedActivePower=0.0))\n",
      "2025-04-25 11:44:30,613 - INFO - Evaluated network action(s): close NL2 BE3 2, cost: -187.22 (functional: -187.22, virtual: 0.0)\n",
      "2025-04-25 11:44:30,614 - INFO - Optimized network action(s): close NL2 BE3 2, cost: -187.22 (functional: -187.22, virtual: 0.0)\n",
      "2025-04-25 11:44:30,614 - INFO - Stop criterion reached, other threads may skip optimization.\n",
      "2025-04-25 11:44:30,615 - INFO - Remaining leaves to evaluate: 0\n",
      "2025-04-25 11:44:30,615 - INFO - Search depth 1 [end]\n",
      "2025-04-25 11:44:30,616 - INFO - Search depth 1 best leaf: network action(s): close NL2 BE3 2, cost: -187.22 (functional: -187.22, virtual: 0.0)\n",
      "2025-04-25 11:44:30,616 - INFO - Search depth 1 best leaf: range action(s): pst-range-action: -10\n",
      "2025-04-25 11:44:30,617 - INFO - Limiting element #01: margin = 187.22 MW, element NNL2AA1  BBE3AA1  1 at state Contingency DE2 DE3 - outage, CNEC ID = \"NNL2AA1  BBE3AA1  1 - Contingency DE2 DE3 - outage\"\n",
      "2025-04-25 11:44:30,617 - INFO - Limiting element #02: margin = 198.5 MW, element NNL2AA1  BBE3AA1  1 at state preventive, CNEC ID = \"NNL2AA1  BBE3AA1  1 - preventive\"\n",
      "2025-04-25 11:44:30,617 - INFO - Search-tree RAO completed with status DEFAULT\n",
      "2025-04-25 11:44:30,618 - INFO - Best leaf: network action(s): close NL2 BE3 2, cost: -187.22 (functional: -187.22, virtual: 0.0)\n",
      "2025-04-25 11:44:30,618 - INFO - Best leaf: range action(s): pst-range-action: -10\n",
      "2025-04-25 11:44:30,618 - INFO - Limiting element #01: margin = 187.22 MW, element NNL2AA1  BBE3AA1  1 at state Contingency DE2 DE3 - outage, CNEC ID = \"NNL2AA1  BBE3AA1  1 - Contingency DE2 DE3 - outage\"\n",
      "2025-04-25 11:44:30,619 - INFO - Limiting element #02: margin = 198.5 MW, element NNL2AA1  BBE3AA1  1 at state preventive, CNEC ID = \"NNL2AA1  BBE3AA1  1 - preventive\"\n",
      "2025-04-25 11:44:30,620 - INFO - Scenario \"preventive\": initial cost = 133.3 (functional: 133.3, virtual: 0.0), 1 network action(s) and 1 range action(s) activated : close NL2 BE3 2 and pst-range-action: -10, cost after preventive optimization = -187.22 (functional: -187.22, virtual: 0.0)\n",
      "2025-04-25 11:44:30,620 - INFO - Connectable NNL2AA1  BBE3AA1  2 has been connected on each side.\n",
      "2025-04-25 11:44:30,621 - INFO - ----- Preventive perimeter optimization [end]\n",
      "2025-04-25 11:44:30,621 - INFO - Connectable NNL2AA1  BBE3AA1  2 has been connected on each side.\n",
      "2025-04-25 11:44:30,623 - WARNING - Network {CC0 SC0}: 11 generators have been discarded from active power control because of a targetP equals 0\n",
      "2025-04-25 11:44:30,624 - INFO - Network {CC0 SC0} has 12 buses and 17 branches\n",
      "2025-04-25 11:44:30,624 - INFO - Network {CC0 SC0} balance: active generation=1000.0 MW, active load=1000.0 MW, reactive generation=0.0 MVar, reactive load=0.0 MVar\n",
      "2025-04-25 11:44:30,625 - INFO - Network {CC0 SC0}, slack buses are [BBE2AA1_1] (method='Most meshed bus')\n",
      "2025-04-25 11:44:30,625 - INFO - Network {CC0 SC0}, reference bus is BBE2AA1_1 (method='First slack')\n",
      "2025-04-25 11:44:30,626 - INFO - Running AC sensitivity analysis with 6 factors and 1 contingencies\n",
      "2025-04-25 11:44:30,627 - INFO - Start AC loadflow on network {CC0 SC0}\n",
      "2025-04-25 11:44:30,628 - INFO - AC loadflow complete on network {CC0 SC0} (result=AcLoadFlowResult(outerLoopIterations=0, newtonRaphsonIterations=2, solverStatus=CONVERGED, outerLoopStatus=STABLE, slackBusActivePowerMismatch=-0.002408294433209335, distributedActivePower=0.0))\n",
      "2025-04-25 11:44:30,629 - INFO - Simulate contingency 'Contingency DE2 DE3'\n",
      "2025-04-25 11:44:30,629 - INFO - Start AC loadflow on network {CC0 SC0}\n",
      "2025-04-25 11:44:30,630 - INFO - AC loadflow complete on network {CC0 SC0} (result=AcLoadFlowResult(outerLoopIterations=0, newtonRaphsonIterations=2, solverStatus=CONVERGED, outerLoopStatus=STABLE, slackBusActivePowerMismatch=4.3076653355456074E-11, distributedActivePower=0.0))\n",
      "2025-04-25 11:44:30,631 - INFO - Systematic sensitivity analysis after preventive remedial actions: cost = 237.65 (functional: 237.65, virtual: 0.0)\n",
      "2025-04-25 11:44:30,631 - INFO - Limiting element #01: margin = -237.65 MW, element BBE1AA1  BBE2AA1  1 at state Contingency DE2 DE3 - curative, CNEC ID = \"BBE1AA1  BBE2AA1  1 - Contingency DE2 DE3 - curative\"\n",
      "2025-04-25 11:44:30,632 - INFO - Limiting element #02: margin = 187.22 MW, element NNL2AA1  BBE3AA1  1 at state Contingency DE2 DE3 - outage, CNEC ID = \"NNL2AA1  BBE3AA1  1 - Contingency DE2 DE3 - outage\"\n",
      "2025-04-25 11:44:30,632 - INFO - ----- Post-contingency perimeters optimization [start]\n",
      "2025-04-25 11:44:30,649 - INFO - Optimizing scenario post-contingency Contingency DE2 DE3.\n",
      "2025-04-25 11:44:30,650 - INFO - Optimizing curative state Contingency DE2 DE3 - curative.\n",
      "2025-04-25 11:44:30,651 - INFO - Root leaf, cost: 237.65 (functional: 237.65, virtual: 0.0)\n",
      "2025-04-25 11:44:30,652 - INFO - Limiting element #01: margin = -237.65 MW, element BBE1AA1  BBE2AA1  1 at state Contingency DE2 DE3 - curative, CNEC ID = \"BBE1AA1  BBE2AA1  1 - Contingency DE2 DE3 - curative\"\n",
      "2025-04-25 11:44:30,653 - INFO - Linear optimization on root leaf\n",
      "2025-04-25 11:44:30,655 - WARNING - Network {CC0 SC0}: 11 generators have been discarded from active power control because of a targetP equals 0\n",
      "2025-04-25 11:44:30,656 - INFO - Network {CC0 SC0} has 12 buses and 17 branches\n",
      "2025-04-25 11:44:30,656 - INFO - Network {CC0 SC0} balance: active generation=1000.0 MW, active load=1000.0 MW, reactive generation=0.0 MVar, reactive load=0.0 MVar\n",
      "2025-04-25 11:44:30,657 - INFO - Network {CC0 SC0}, slack buses are [BBE2AA1_1] (method='Most meshed bus')\n",
      "2025-04-25 11:44:30,658 - INFO - Network {CC0 SC0}, reference bus is BBE2AA1_1 (method='First slack')\n",
      "2025-04-25 11:44:30,658 - INFO - Running AC sensitivity analysis with 2 factors and 1 contingencies\n",
      "2025-04-25 11:44:30,659 - INFO - Start AC loadflow on network {CC0 SC0}\n",
      "2025-04-25 11:44:30,660 - INFO - AC loadflow complete on network {CC0 SC0} (result=AcLoadFlowResult(outerLoopIterations=0, newtonRaphsonIterations=2, solverStatus=CONVERGED, outerLoopStatus=STABLE, slackBusActivePowerMismatch=0.001380331569489357, distributedActivePower=0.0))\n",
      "2025-04-25 11:44:30,661 - INFO - Simulate contingency 'Contingency DE2 DE3'\n",
      "2025-04-25 11:44:30,662 - INFO - Start AC loadflow on network {CC0 SC0}\n",
      "2025-04-25 11:44:30,663 - INFO - AC loadflow complete on network {CC0 SC0} (result=AcLoadFlowResult(outerLoopIterations=0, newtonRaphsonIterations=1, solverStatus=CONVERGED, outerLoopStatus=STABLE, slackBusActivePowerMismatch=-0.0011719159598300166, distributedActivePower=0.0))\n",
      "2025-04-25 11:44:30,664 - INFO - Iteration 1: better solution found with a cost of -290.77 (functional: -290.77)\n",
      "2025-04-25 11:44:30,666 - INFO - Iteration 2: same results as previous iterations, optimal solution found\n",
      "2025-04-25 11:44:30,667 - INFO - Root leaf, 1 range action(s) activated, cost: -290.77 (functional: -290.77, virtual: 0.0)\n",
      "2025-04-25 11:44:30,668 - INFO - range action(s): pst-range-action: 6\n",
      "2025-04-25 11:44:30,668 - INFO - Limiting element #01: margin = 290.77 MW, element BBE1AA1  BBE2AA1  1 at state Contingency DE2 DE3 - curative, CNEC ID = \"BBE1AA1  BBE2AA1  1 - Contingency DE2 DE3 - curative\"\n",
      "2025-04-25 11:44:30,669 - INFO - No network action available\n",
      "2025-04-25 11:44:30,670 - INFO - Search-tree RAO completed with status DEFAULT\n",
      "2025-04-25 11:44:30,671 - INFO - Best leaf: Root leaf, 1 range action(s) activated, cost: -290.77 (functional: -290.77, virtual: 0.0)\n",
      "2025-04-25 11:44:30,672 - INFO - Best leaf: range action(s): pst-range-action: 6\n",
      "2025-04-25 11:44:30,673 - INFO - Limiting element #01: margin = 290.77 MW, element BBE1AA1  BBE2AA1  1 at state Contingency DE2 DE3 - curative, CNEC ID = \"BBE1AA1  BBE2AA1  1 - Contingency DE2 DE3 - curative\"\n",
      "2025-04-25 11:44:30,674 - INFO - Scenario \"Contingency DE2 DE3\": initial cost = 237.65 (functional: 237.65, virtual: 0.0), 1 range action(s) activated : pst-range-action: 6, cost after curative optimization = -290.77 (functional: -290.77, virtual: 0.0)\n",
      "2025-04-25 11:44:30,674 - INFO - Curative state Contingency DE2 DE3 - curative has been optimized.\n",
      "2025-04-25 11:44:30,675 - INFO - ----- Post-contingency perimeters optimization [end]\n",
      "2025-04-25 11:44:30,676 - INFO - Merging preventive and post-contingency RAO results:\n",
      "2025-04-25 11:44:30,676 - INFO - Limiting element #01: margin = 187.22 MW, element NNL2AA1  BBE3AA1  1 at state Contingency DE2 DE3 - outage, CNEC ID = \"NNL2AA1  BBE3AA1  1 - Contingency DE2 DE3 - outage\"\n",
      "2025-04-25 11:44:30,677 - INFO - Limiting element #02: margin = 198.5 MW, element NNL2AA1  BBE3AA1  1 at state preventive, CNEC ID = \"NNL2AA1  BBE3AA1  1 - preventive\"\n",
      "2025-04-25 11:44:30,677 - INFO - Limiting element #03: margin = 290.77 MW, element BBE1AA1  BBE2AA1  1 at state Contingency DE2 DE3 - curative, CNEC ID = \"BBE1AA1  BBE2AA1  1 - Contingency DE2 DE3 - curative\"\n",
      "2025-04-25 11:44:30,678 - INFO - Cost before RAO = 133.3 (functional: 133.3, virtual: 0.0), cost after RAO = -187.22 (functional: -187.22, virtual: 0.0)\n"
     ]
    }
   ],
   "execution_count": 51
  },
  {
   "cell_type": "code",
   "source": [
    "result_json"
   ],
   "metadata": {
    "collapsed": false,
    "ExecuteTime": {
     "end_time": "2025-04-25T09:44:31.267614Z",
     "start_time": "2025-04-25T09:44:31.259811Z"
    }
   },
   "outputs": [
    {
     "data": {
      "text/plain": [
       "{'type': 'RAO_RESULT',\n",
       " 'version': '1.7',\n",
       " 'info': 'Generated by Open RAO http://farao-community.github.io',\n",
       " 'computationStatus': 'default',\n",
       " 'executionDetails': 'The RAO only went through first preventive',\n",
       " 'costResults': {'initial': {'functionalCost': 133.3,\n",
       "   'virtualCost': {'sensitivity-failure-cost': 0.0}},\n",
       "  'preventive': {'functionalCost': 237.65,\n",
       "   'virtualCost': {'sensitivity-failure-cost': 0.0}},\n",
       "  'outage': {'functionalCost': 237.65,\n",
       "   'virtualCost': {'sensitivity-failure-cost': 0.0}},\n",
       "  'curative': {'functionalCost': -187.22,\n",
       "   'virtualCost': {'sensitivity-failure-cost': 0.0}}},\n",
       " 'computationStatusMap': [],\n",
       " 'flowCnecResults': [{'flowCnecId': 'BBE1AA1  BBE2AA1  1 - Contingency DE2 DE3 - curative',\n",
       "   'initial': {'ampere': {'margin': 152.35, 'side1': {'flow': 280.66}},\n",
       "    'megawatt': {'margin': 105.55, 'side1': {'flow': 194.45}}},\n",
       "   'preventive': {'ampere': {'margin': -343.12, 'side1': {'flow': 776.14}},\n",
       "    'megawatt': {'margin': -237.65, 'side1': {'flow': 537.65}}},\n",
       "   'curative': {'ampere': {'margin': 419.7, 'side1': {'flow': 13.32}},\n",
       "    'megawatt': {'margin': 290.77, 'side1': {'flow': 9.23}}}},\n",
       "  {'flowCnecId': 'NNL2AA1  BBE3AA1  1 - Contingency DE2 DE3 - outage',\n",
       "   'initial': {'ampere': {'margin': -192.55, 'side1': {'flow': 842.07}},\n",
       "    'megawatt': {'margin': -133.3, 'side1': {'flow': 583.3}}},\n",
       "   'preventive': {'ampere': {'margin': 270.21, 'side1': {'flow': 379.3}},\n",
       "    'megawatt': {'margin': 187.22, 'side1': {'flow': 262.78}}}},\n",
       "  {'flowCnecId': 'NNL2AA1  BBE3AA1  1 - preventive',\n",
       "   'initial': {'ampere': {'margin': -129.99, 'side1': {'flow': 721.77}},\n",
       "    'megawatt': {'margin': -90.0, 'side1': {'flow': 500.0}}},\n",
       "   'preventive': {'ampere': {'margin': 286.51, 'side1': {'flow': 305.28}},\n",
       "    'megawatt': {'margin': 198.5, 'side1': {'flow': 211.5}}}}],\n",
       " 'angleCnecResults': [],\n",
       " 'voltageCnecResults': [],\n",
       " 'networkActionResults': [{'networkActionId': 'close NL2 BE3 2',\n",
       "   'activatedStates': [{'instant': 'preventive'}]}],\n",
       " 'rangeActionResults': [{'rangeActionId': 'pst-range-action',\n",
       "   'initialSetpoint': 0.0,\n",
       "   'activatedStates': [{'instant': 'preventive',\n",
       "     'setpoint': -3.894612745121778},\n",
       "    {'instant': 'curative',\n",
       "     'contingency': 'Contingency DE2 DE3',\n",
       "     'setpoint': 2.337343603803646}]}]}"
      ]
     },
     "execution_count": 52,
     "metadata": {},
     "output_type": "execute_result"
    }
   ],
   "execution_count": 52
  },
  {
   "cell_type": "markdown",
   "source": [
    "This time, after preventive actions, we still have a positive cost (ie an overload). And it's only after the curative actions the cost finally becomes negative.\n",
    "More precisely, we can check the informations for the curative cnec we added:\n"
   ],
   "metadata": {
    "collapsed": false
   }
  },
  {
   "cell_type": "code",
   "source": [
    "[x for x in result_json.get(\"flowCnecResults\") if x.get(\"flowCnecId\") == 'BBE1AA1  BBE2AA1  1 - Contingency DE2 DE3 - curative']"
   ],
   "metadata": {
    "collapsed": false,
    "ExecuteTime": {
     "end_time": "2025-04-25T09:44:31.324625Z",
     "start_time": "2025-04-25T09:44:31.319652Z"
    }
   },
   "outputs": [
    {
     "data": {
      "text/plain": [
       "[{'flowCnecId': 'BBE1AA1  BBE2AA1  1 - Contingency DE2 DE3 - curative',\n",
       "  'initial': {'ampere': {'margin': 152.35, 'side1': {'flow': 280.66}},\n",
       "   'megawatt': {'margin': 105.55, 'side1': {'flow': 194.45}}},\n",
       "  'preventive': {'ampere': {'margin': -343.12, 'side1': {'flow': 776.14}},\n",
       "   'megawatt': {'margin': -237.65, 'side1': {'flow': 537.65}}},\n",
       "  'curative': {'ampere': {'margin': 419.7, 'side1': {'flow': 13.32}},\n",
       "   'megawatt': {'margin': 290.77, 'side1': {'flow': 9.23}}}}]"
      ]
     },
     "execution_count": 53,
     "metadata": {},
     "output_type": "execute_result"
    }
   ],
   "execution_count": 53
  },
  {
   "cell_type": "markdown",
   "source": "As you can see, with no actions (initial value), there's actually a margin of 105MW on the line in curative! But by applying preventive actions (that aimed to solve the preventive and outage cnecs), we made the curative cnec unsecure, and we had to apply some curative action to make it secure again.",
   "metadata": {
    "collapsed": false
   }
  }
 ],
 "metadata": {
  "kernelspec": {
   "display_name": "Python 3",
   "language": "python",
   "name": "python3"
  },
  "language_info": {
   "codemirror_mode": {
    "name": "ipython",
    "version": 3
   },
   "file_extension": ".py",
   "mimetype": "text/x-python",
   "name": "python",
   "nbconvert_exporter": "python",
   "pygments_lexer": "ipython3",
   "version": "3.8.10"
  }
 },
 "nbformat": 4,
 "nbformat_minor": 4
}
