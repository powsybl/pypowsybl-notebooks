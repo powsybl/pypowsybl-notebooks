{
 "cells": [
  {
   "cell_type": "markdown",
   "metadata": {},
   "source": [
    "# The sensitivity analysis in pyPowsybl "
   ]
  },
  {
   "cell_type": "markdown",
   "metadata": {},
   "source": [
    "This notebook illustrates how to run a sensitivity analysis.\n"
   ]
  },
  {
   "cell_type": "code",
   "execution_count": null,
   "metadata": {},
   "outputs": [],
   "source": [
    "pip install pypowsybl"
   ]
  },
  {
   "cell_type": "code",
   "execution_count": null,
   "metadata": {},
   "outputs": [],
   "source": [
    "import pypowsybl as pp"
   ]
  },
  {
   "cell_type": "code",
   "execution_count": null,
   "metadata": {},
   "outputs": [],
   "source": [
    "n6 = pp.network.create_metrix_tutorial_six_buses_network()"
   ]
  },
  {
   "cell_type": "markdown",
   "metadata": {},
   "source": [
    "## 1 - DC Sensitivity analysis"
   ]
  },
  {
   "cell_type": "markdown",
   "metadata": {},
   "source": [
    "To perform a sensitivity analysis, you must first define the “factors” you want to compute. What we call a factor is the impact of a small variation of a variable, typically the active power injection of a generator, a load or a phase shifter, on a function, typically the active power flow on a branch. \n",
    "\n",
    "To make the definition of those factors easier, `pypowsybl` provides a method to define the variables (injection, phase shifter) through their ids (variables_ids) and the functions through the branch ids (branches_ids). We obtain a matrix of sensitivities as a result:"
   ]
  },
  {
   "cell_type": "code",
   "execution_count": null,
   "metadata": {},
   "outputs": [],
   "source": [
    "analysis = pp.sensitivity.create_dc_analysis()\n",
    "analysis.add_branch_flow_factor_matrix(branches_ids=['S_SO_1', 'S_SO_2'], variables_ids=['SE_G'])\n",
    "result = analysis.run(n6)\n",
    "result.get_reference_matrix()"
   ]
  },
  {
   "cell_type": "code",
   "execution_count": null,
   "metadata": {},
   "outputs": [],
   "source": [
    "result.get_sensitivity_matrix()"
   ]
  },
  {
   "cell_type": "markdown",
   "metadata": {},
   "source": [
    "The result can be interpreted in the following way: an increase of 1 MW on generator SE_G impacts the lines S_SO_1 and S_SO_2 with a 0.3 MW increase of the active power flow from side 2 to side 1."
   ]
  },
  {
   "cell_type": "markdown",
   "metadata": {},
   "source": [
    "## 2 - Zone to zone sensitivity: PTDF computation"
   ]
  },
  {
   "cell_type": "markdown",
   "metadata": {},
   "source": [
    "This zone to zone sensitivity feature is better known as Power Transfer Distribution Factor (PTDF).\n",
    "\n",
    "Consider now that the node `SE` is now in Italy:"
   ]
  },
  {
   "cell_type": "code",
   "execution_count": null,
   "metadata": {},
   "outputs": [],
   "source": [
    "n6b = pp.network.create_metrix_tutorial_six_buses_network()\n",
    "n6b.update_substations(id=['SE'], TSO=['Terna'], country=['IT'])\n",
    "n6b.update_substations(id=['NO', 'S', 'SO', 'N'], TSO=['RTE', 'RTE', 'RTE', 'RTE'], country=['FR', 'FR', 'FR', 'FR'])"
   ]
  },
  {
   "cell_type": "code",
   "execution_count": null,
   "metadata": {},
   "outputs": [],
   "source": [
    "pp.loadflow.run_dc(n6b)"
   ]
  },
  {
   "cell_type": "code",
   "execution_count": null,
   "metadata": {},
   "outputs": [],
   "source": [
    "n6b.get_substations()"
   ]
  },
  {
   "cell_type": "code",
   "execution_count": null,
   "metadata": {},
   "outputs": [],
   "source": [
    "n6b.get_generators()"
   ]
  },
  {
   "cell_type": "code",
   "execution_count": null,
   "metadata": {},
   "outputs": [],
   "source": [
    "n6b.get_loads()"
   ]
  },
  {
   "cell_type": "code",
   "execution_count": null,
   "metadata": {},
   "outputs": [],
   "source": [
    "zone_fr = pp.sensitivity.create_country_zone(n6b, 'FR')\n",
    "zone_it = pp.sensitivity.create_country_zone(n6b, 'IT')"
   ]
  },
  {
   "cell_type": "code",
   "execution_count": null,
   "metadata": {},
   "outputs": [],
   "source": [
    "zone_fr.shift_keys_by_injections_ids"
   ]
  },
  {
   "cell_type": "code",
   "execution_count": null,
   "metadata": {},
   "outputs": [],
   "source": [
    "params = pp.loadflow.Parameters(distributed_slack=False)\n",
    "sa = pp.sensitivity.create_dc_analysis()\n",
    "sa.set_zones([zone_fr, zone_it])"
   ]
  },
  {
   "cell_type": "code",
   "execution_count": null,
   "metadata": {},
   "outputs": [],
   "source": [
    "sa.add_branch_flow_factor_matrix(branches_ids=['S_SE_1', 'S_SE_2'], variables_ids=['FR', 'IT'])"
   ]
  },
  {
   "cell_type": "code",
   "execution_count": null,
   "metadata": {},
   "outputs": [],
   "source": [
    "ptdf_results = sa.run(n6b, params)\n",
    "m1 = ptdf_results.get_branch_flows_sensitivity_matrix()"
   ]
  },
  {
   "cell_type": "code",
   "execution_count": null,
   "metadata": {},
   "outputs": [],
   "source": [
    "m1"
   ]
  },
  {
   "cell_type": "markdown",
   "metadata": {},
   "source": [
    "1 MW active power transfer from FR zone to IT zone will be responsible of a variation of 0.3 MW on the border line S_SE_1.\n",
    "\n",
    "Let’s obtain that directly. After a sensitivity analysis where we should set the zones, we are able to ask for a FR zone to slack sensitivity, a FR to IT zone to zone sensitivity, a IT to FR zone to zone sensitivity and a IT zone to slack sensitivity, on all the border lines ‘S_SE_1’, ‘S_SE_2’, ‘SE_NE_1’ and ‘SE_NE_2’."
   ]
  },
  {
   "cell_type": "code",
   "execution_count": null,
   "metadata": {},
   "outputs": [],
   "source": [
    "sa = pp.sensitivity.create_dc_analysis()\n",
    "sa.set_zones([zone_fr, zone_it])\n",
    "sa.add_branch_flow_factor_matrix(branches_ids=['S_SE_1', 'S_SE_2', 'SE_NE_1', 'SE_NE_2'], variables_ids=['FR', ('FR', 'IT'), ('IT', 'FR'), 'IT'])\n",
    "ptdf_result = sa.run(n6b, params)"
   ]
  },
  {
   "cell_type": "code",
   "execution_count": null,
   "metadata": {},
   "outputs": [],
   "source": [
    "m2 = ptdf_result.get_branch_flows_sensitivity_matrix()\n",
    "m2"
   ]
  },
  {
   "cell_type": "markdown",
   "metadata": {},
   "source": [
    "We can see that:\n",
    "- an increase of 1 MW on the FR zone net position leads to an increase of 0.2 MW on the flow of all the border lines\n",
    "- moving the flow of 1 MW from FR to IT leads to an increase of 0.3 MW on the flow of lines S_SE_1 and S_SE_2 and a decrease of 0.2 MW on the flow of lines SE_NE_1 and SE_NE_2\n",
    "- moving the flow of 1 MW from IT to FR leads to a decrease of 0.3 MW on the flow of lines S_SE_1 and S_SE_2 and an increase of 0.2 MW on the flow of lines SE_NE_1 and SE_NE_2\n",
    "- an increase of 1 MW on the IT zone net position leads to a decrease of 0.1 MW on the flow of lines S_SE_1 and S_SE_2 and an increase of 0.4 MW on the flow of lines SE_NE_1 and SE_NE_2"
   ]
  }
 ],
 "metadata": {
  "kernelspec": {
   "display_name": "Python 3",
   "language": "python",
   "name": "python3"
  },
  "language_info": {
   "codemirror_mode": {
    "name": "ipython",
    "version": 3
   },
   "file_extension": ".py",
   "mimetype": "text/x-python",
   "name": "python",
   "nbconvert_exporter": "python",
   "pygments_lexer": "ipython3",
   "version": "3.8.10"
  }
 },
 "nbformat": 4,
 "nbformat_minor": 4
}
