{
 "cells": [
  {
   "cell_type": "markdown",
   "metadata": {},
   "source": [
    "# The sensitivity analysis in pyPowsybl "
   ]
  },
  {
   "cell_type": "markdown",
   "metadata": {},
   "source": [
    "This notebook illustrates how to run a sensitivity analysis.\n"
   ]
  },
  {
   "cell_type": "code",
   "execution_count": 1,
   "metadata": {},
   "outputs": [
    {
     "name": "stdout",
     "output_type": "stream",
     "text": [
      "Defaulting to user installation because normal site-packages is not writeable\n",
      "\u001b[33mWARNING: Ignoring invalid distribution -ypowsybl (/home/piloquetcol/.local/lib/python3.8/site-packages)\u001b[0m\u001b[33m\n",
      "\u001b[0m\u001b[33mWARNING: Ignoring invalid distribution -ypowsybl-rte (/home/piloquetcol/.local/lib/python3.8/site-packages)\u001b[0m\u001b[33m\n",
      "\u001b[0mLooking in indexes: https://devin-depot.rte-france.com/repository/pypi-all/simple\n",
      "Requirement already satisfied: pypowsybl in /home/piloquetcol/.local/lib/python3.8/site-packages (1.5.0.dev1)\n",
      "Requirement already satisfied: prettytable in /home/piloquetcol/.local/lib/python3.8/site-packages (from pypowsybl) (2.0.0)\n",
      "Requirement already satisfied: numpy>=1.20.0 in /home/piloquetcol/.local/lib/python3.8/site-packages (from pypowsybl) (1.23.2)\n",
      "Requirement already satisfied: networkx in /home/piloquetcol/.local/lib/python3.8/site-packages (from pypowsybl) (2.8.5)\n",
      "Requirement already satisfied: pandas>=1.3.5 in /home/piloquetcol/.local/lib/python3.8/site-packages (from pypowsybl) (2.0.3)\n",
      "Requirement already satisfied: python-dateutil>=2.8.2 in /home/piloquetcol/.local/lib/python3.8/site-packages (from pandas>=1.3.5->pypowsybl) (2.8.2)\n",
      "Requirement already satisfied: pytz>=2020.1 in /home/piloquetcol/.local/lib/python3.8/site-packages (from pandas>=1.3.5->pypowsybl) (2023.3.post1)\n",
      "Requirement already satisfied: tzdata>=2022.1 in /home/piloquetcol/.local/lib/python3.8/site-packages (from pandas>=1.3.5->pypowsybl) (2023.3)\n",
      "Requirement already satisfied: setuptools in /home/piloquetcol/.local/lib/python3.8/site-packages (from prettytable->pypowsybl) (69.0.3)\n",
      "Requirement already satisfied: wcwidth in /usr/lib/python3/dist-packages (from prettytable->pypowsybl) (0.1.8)\n",
      "Requirement already satisfied: six>=1.5 in /usr/lib/python3/dist-packages (from python-dateutil>=2.8.2->pandas>=1.3.5->pypowsybl) (1.14.0)\n",
      "\u001b[33mWARNING: Ignoring invalid distribution -ypowsybl (/home/piloquetcol/.local/lib/python3.8/site-packages)\u001b[0m\u001b[33m\n",
      "\u001b[0m\u001b[33mWARNING: Ignoring invalid distribution -ypowsybl-rte (/home/piloquetcol/.local/lib/python3.8/site-packages)\u001b[0m\u001b[33m\n",
      "\u001b[0m\u001b[33mDEPRECATION: distro-info 0.23ubuntu1 has a non-standard version number. pip 24.0 will enforce this behaviour change. A possible replacement is to upgrade to a newer version of distro-info or contact the author to suggest that they release a version with a conforming version number. Discussion can be found at https://github.com/pypa/pip/issues/12063\u001b[0m\u001b[33m\n",
      "\u001b[0m\u001b[33mDEPRECATION: python-debian 0.1.36ubuntu1 has a non-standard version number. pip 24.0 will enforce this behaviour change. A possible replacement is to upgrade to a newer version of python-debian or contact the author to suggest that they release a version with a conforming version number. Discussion can be found at https://github.com/pypa/pip/issues/12063\u001b[0m\u001b[33m\n",
      "\u001b[0m\n",
      "\u001b[1m[\u001b[0m\u001b[34;49mnotice\u001b[0m\u001b[1;39;49m]\u001b[0m\u001b[39;49m A new release of pip is available: \u001b[0m\u001b[31;49m23.3.2\u001b[0m\u001b[39;49m -> \u001b[0m\u001b[32;49m24.0\u001b[0m\n",
      "\u001b[1m[\u001b[0m\u001b[34;49mnotice\u001b[0m\u001b[1;39;49m]\u001b[0m\u001b[39;49m To update, run: \u001b[0m\u001b[32;49mpip install --upgrade pip\u001b[0m\n",
      "Note: you may need to restart the kernel to use updated packages.\n"
     ]
    }
   ],
   "source": [
    "pip install pypowsybl"
   ]
  },
  {
   "cell_type": "code",
   "execution_count": 2,
   "metadata": {},
   "outputs": [],
   "source": [
    "import pypowsybl as pp"
   ]
  },
  {
   "cell_type": "code",
   "execution_count": 3,
   "metadata": {},
   "outputs": [],
   "source": [
    "n6 = pp.network.create_metrix_tutorial_six_buses_network()"
   ]
  },
  {
   "cell_type": "markdown",
   "metadata": {},
   "source": [
    "## 1 - DC Sensitivity analysis"
   ]
  },
  {
   "cell_type": "markdown",
   "metadata": {},
   "source": [
    "To perform a sensitivity analysis, you must first define the “factors” you want to compute. What we call a factor is the impact of a small variation of a variable, typically the active power injection of a generator, a load or a phase shifter, on a function, typically the active power flow on a branch. \n",
    "\n",
    "To make the definition of those factors easier, `pypowsybl` provides a method to define the variables (injection, phase shifter) through their ids (variables_ids) and the functions through the branch ids (branches_ids). We obtain a matrix of sensitivities as a result:"
   ]
  },
  {
   "cell_type": "code",
   "execution_count": 4,
   "metadata": {},
   "outputs": [
    {
     "data": {
      "text/html": [
       "<div>\n",
       "<style scoped>\n",
       "    .dataframe tbody tr th:only-of-type {\n",
       "        vertical-align: middle;\n",
       "    }\n",
       "\n",
       "    .dataframe tbody tr th {\n",
       "        vertical-align: top;\n",
       "    }\n",
       "\n",
       "    .dataframe thead th {\n",
       "        text-align: right;\n",
       "    }\n",
       "</style>\n",
       "<table border=\"1\" class=\"dataframe\">\n",
       "  <thead>\n",
       "    <tr style=\"text-align: right;\">\n",
       "      <th></th>\n",
       "      <th>S_SO_1</th>\n",
       "      <th>S_SO_2</th>\n",
       "    </tr>\n",
       "  </thead>\n",
       "  <tbody>\n",
       "    <tr>\n",
       "      <th>reference_values</th>\n",
       "      <td>-120.433341</td>\n",
       "      <td>-120.433341</td>\n",
       "    </tr>\n",
       "  </tbody>\n",
       "</table>\n",
       "</div>"
      ],
      "text/plain": [
       "                      S_SO_1      S_SO_2\n",
       "reference_values -120.433341 -120.433341"
      ]
     },
     "execution_count": 4,
     "metadata": {},
     "output_type": "execute_result"
    }
   ],
   "source": [
    "analysis = pp.sensitivity.create_dc_analysis()\n",
    "analysis.add_branch_flow_factor_matrix(branches_ids=['S_SO_1', 'S_SO_2'], variables_ids=['SE_G'])\n",
    "result = analysis.run(n6)\n",
    "result.get_reference_matrix()"
   ]
  },
  {
   "cell_type": "code",
   "execution_count": 5,
   "metadata": {},
   "outputs": [
    {
     "data": {
      "text/html": [
       "<div>\n",
       "<style scoped>\n",
       "    .dataframe tbody tr th:only-of-type {\n",
       "        vertical-align: middle;\n",
       "    }\n",
       "\n",
       "    .dataframe tbody tr th {\n",
       "        vertical-align: top;\n",
       "    }\n",
       "\n",
       "    .dataframe thead th {\n",
       "        text-align: right;\n",
       "    }\n",
       "</style>\n",
       "<table border=\"1\" class=\"dataframe\">\n",
       "  <thead>\n",
       "    <tr style=\"text-align: right;\">\n",
       "      <th></th>\n",
       "      <th>S_SO_1</th>\n",
       "      <th>S_SO_2</th>\n",
       "    </tr>\n",
       "  </thead>\n",
       "  <tbody>\n",
       "    <tr>\n",
       "      <th>SE_G</th>\n",
       "      <td>0.26087</td>\n",
       "      <td>0.26087</td>\n",
       "    </tr>\n",
       "  </tbody>\n",
       "</table>\n",
       "</div>"
      ],
      "text/plain": [
       "       S_SO_1   S_SO_2\n",
       "SE_G  0.26087  0.26087"
      ]
     },
     "execution_count": 5,
     "metadata": {},
     "output_type": "execute_result"
    }
   ],
   "source": [
    "result.get_sensitivity_matrix()"
   ]
  },
  {
   "cell_type": "markdown",
   "metadata": {},
   "source": [
    "The result can be interpreted in the following way: an increase of 1 MW on generator SE_G impacts the lines S_SO_1 and S_SO_2 with a 0.3 MW increase of the active power flow from side 2 to side 1."
   ]
  },
  {
   "cell_type": "markdown",
   "metadata": {},
   "source": [
    "## 2 - Zone to zone sensitivity: PTDF computation"
   ]
  },
  {
   "cell_type": "markdown",
   "metadata": {},
   "source": [
    "This zone to zone sensitivity feature is better known as Power Transfer Distribution Factor (PTDF).\n",
    "\n",
    "Consider now that the node `SE` is now in Italy:"
   ]
  },
  {
   "cell_type": "code",
   "execution_count": 6,
   "metadata": {},
   "outputs": [],
   "source": [
    "n6b = pp.network.create_metrix_tutorial_six_buses_network()\n",
    "n6b.update_substations(id=['SE'], TSO=['Terna'], country=['IT'])\n",
    "n6b.update_substations(id=['NO', 'S', 'SO', 'N'], TSO=['RTE', 'RTE', 'RTE', 'RTE'], country=['FR', 'FR', 'FR', 'FR'])"
   ]
  },
  {
   "cell_type": "code",
   "execution_count": 7,
   "metadata": {},
   "outputs": [
    {
     "data": {
      "text/plain": [
       "[ComponentResult(connected_component_num=0, synchronous_component_num=0, status=CONVERGED, status_text=CONVERGED, iteration_count=0, reference_bus_id='NE_poste_0', slack_bus_results=[SlackBusResult(id='NE_poste_0', active_power_mismatch=4.440892098500626e-14)], distributed_active_power=nan)]"
      ]
     },
     "execution_count": 7,
     "metadata": {},
     "output_type": "execute_result"
    }
   ],
   "source": [
    "pp.loadflow.run_dc(n6b)"
   ]
  },
  {
   "cell_type": "code",
   "execution_count": 8,
   "metadata": {},
   "outputs": [
    {
     "data": {
      "text/html": [
       "<div>\n",
       "<style scoped>\n",
       "    .dataframe tbody tr th:only-of-type {\n",
       "        vertical-align: middle;\n",
       "    }\n",
       "\n",
       "    .dataframe tbody tr th {\n",
       "        vertical-align: top;\n",
       "    }\n",
       "\n",
       "    .dataframe thead th {\n",
       "        text-align: right;\n",
       "    }\n",
       "</style>\n",
       "<table border=\"1\" class=\"dataframe\">\n",
       "  <thead>\n",
       "    <tr style=\"text-align: right;\">\n",
       "      <th></th>\n",
       "      <th>name</th>\n",
       "      <th>TSO</th>\n",
       "      <th>geo_tags</th>\n",
       "      <th>country</th>\n",
       "    </tr>\n",
       "    <tr>\n",
       "      <th>id</th>\n",
       "      <th></th>\n",
       "      <th></th>\n",
       "      <th></th>\n",
       "      <th></th>\n",
       "    </tr>\n",
       "  </thead>\n",
       "  <tbody>\n",
       "    <tr>\n",
       "      <th>NO</th>\n",
       "      <td></td>\n",
       "      <td>RTE</td>\n",
       "      <td></td>\n",
       "      <td>FR</td>\n",
       "    </tr>\n",
       "    <tr>\n",
       "      <th>S</th>\n",
       "      <td></td>\n",
       "      <td>RTE</td>\n",
       "      <td></td>\n",
       "      <td>FR</td>\n",
       "    </tr>\n",
       "    <tr>\n",
       "      <th>SO</th>\n",
       "      <td></td>\n",
       "      <td>RTE</td>\n",
       "      <td></td>\n",
       "      <td>FR</td>\n",
       "    </tr>\n",
       "    <tr>\n",
       "      <th>SE</th>\n",
       "      <td></td>\n",
       "      <td>Terna</td>\n",
       "      <td></td>\n",
       "      <td>IT</td>\n",
       "    </tr>\n",
       "    <tr>\n",
       "      <th>N</th>\n",
       "      <td></td>\n",
       "      <td>RTE</td>\n",
       "      <td></td>\n",
       "      <td>FR</td>\n",
       "    </tr>\n",
       "  </tbody>\n",
       "</table>\n",
       "</div>"
      ],
      "text/plain": [
       "   name    TSO geo_tags country\n",
       "id                             \n",
       "NO         RTE               FR\n",
       "S          RTE               FR\n",
       "SO         RTE               FR\n",
       "SE       Terna               IT\n",
       "N          RTE               FR"
      ]
     },
     "execution_count": 8,
     "metadata": {},
     "output_type": "execute_result"
    }
   ],
   "source": [
    "n6b.get_substations()"
   ]
  },
  {
   "cell_type": "code",
   "execution_count": 9,
   "metadata": {},
   "outputs": [
    {
     "data": {
      "text/html": [
       "<div>\n",
       "<style scoped>\n",
       "    .dataframe tbody tr th:only-of-type {\n",
       "        vertical-align: middle;\n",
       "    }\n",
       "\n",
       "    .dataframe tbody tr th {\n",
       "        vertical-align: top;\n",
       "    }\n",
       "\n",
       "    .dataframe thead th {\n",
       "        text-align: right;\n",
       "    }\n",
       "</style>\n",
       "<table border=\"1\" class=\"dataframe\">\n",
       "  <thead>\n",
       "    <tr style=\"text-align: right;\">\n",
       "      <th></th>\n",
       "      <th>name</th>\n",
       "      <th>energy_source</th>\n",
       "      <th>target_p</th>\n",
       "      <th>min_p</th>\n",
       "      <th>max_p</th>\n",
       "      <th>min_q</th>\n",
       "      <th>max_q</th>\n",
       "      <th>rated_s</th>\n",
       "      <th>reactive_limits_kind</th>\n",
       "      <th>target_v</th>\n",
       "      <th>target_q</th>\n",
       "      <th>voltage_regulator_on</th>\n",
       "      <th>regulated_element_id</th>\n",
       "      <th>p</th>\n",
       "      <th>q</th>\n",
       "      <th>i</th>\n",
       "      <th>voltage_level_id</th>\n",
       "      <th>bus_id</th>\n",
       "      <th>connected</th>\n",
       "    </tr>\n",
       "    <tr>\n",
       "      <th>id</th>\n",
       "      <th></th>\n",
       "      <th></th>\n",
       "      <th></th>\n",
       "      <th></th>\n",
       "      <th></th>\n",
       "      <th></th>\n",
       "      <th></th>\n",
       "      <th></th>\n",
       "      <th></th>\n",
       "      <th></th>\n",
       "      <th></th>\n",
       "      <th></th>\n",
       "      <th></th>\n",
       "      <th></th>\n",
       "      <th></th>\n",
       "      <th></th>\n",
       "      <th></th>\n",
       "      <th></th>\n",
       "      <th></th>\n",
       "    </tr>\n",
       "  </thead>\n",
       "  <tbody>\n",
       "    <tr>\n",
       "      <th>SO_G1</th>\n",
       "      <td></td>\n",
       "      <td>THERMAL</td>\n",
       "      <td>480.0</td>\n",
       "      <td>0.0</td>\n",
       "      <td>2000.0</td>\n",
       "      <td>NaN</td>\n",
       "      <td>NaN</td>\n",
       "      <td>NaN</td>\n",
       "      <td>CURVE</td>\n",
       "      <td>406.450043</td>\n",
       "      <td>2.35231</td>\n",
       "      <td>True</td>\n",
       "      <td>SO_G1</td>\n",
       "      <td>-436.521739</td>\n",
       "      <td>-0.0</td>\n",
       "      <td>NaN</td>\n",
       "      <td>SO_poste</td>\n",
       "      <td>SO_poste_0</td>\n",
       "      <td>True</td>\n",
       "    </tr>\n",
       "    <tr>\n",
       "      <th>SO_G2</th>\n",
       "      <td></td>\n",
       "      <td>THERMAL</td>\n",
       "      <td>480.0</td>\n",
       "      <td>0.0</td>\n",
       "      <td>2000.0</td>\n",
       "      <td>NaN</td>\n",
       "      <td>NaN</td>\n",
       "      <td>NaN</td>\n",
       "      <td>CURVE</td>\n",
       "      <td>406.450043</td>\n",
       "      <td>2.35231</td>\n",
       "      <td>True</td>\n",
       "      <td>SO_G2</td>\n",
       "      <td>-436.521739</td>\n",
       "      <td>-0.0</td>\n",
       "      <td>NaN</td>\n",
       "      <td>SO_poste</td>\n",
       "      <td>SO_poste_0</td>\n",
       "      <td>True</td>\n",
       "    </tr>\n",
       "    <tr>\n",
       "      <th>SE_G</th>\n",
       "      <td></td>\n",
       "      <td>THERMAL</td>\n",
       "      <td>100.0</td>\n",
       "      <td>0.0</td>\n",
       "      <td>600.0</td>\n",
       "      <td>NaN</td>\n",
       "      <td>NaN</td>\n",
       "      <td>NaN</td>\n",
       "      <td>CURVE</td>\n",
       "      <td>406.450043</td>\n",
       "      <td>6.45498</td>\n",
       "      <td>True</td>\n",
       "      <td>SE_G</td>\n",
       "      <td>-86.956522</td>\n",
       "      <td>-0.0</td>\n",
       "      <td>NaN</td>\n",
       "      <td>SE_poste</td>\n",
       "      <td>SE_poste_0</td>\n",
       "      <td>True</td>\n",
       "    </tr>\n",
       "    <tr>\n",
       "      <th>N_G</th>\n",
       "      <td></td>\n",
       "      <td>THERMAL</td>\n",
       "      <td>0.0</td>\n",
       "      <td>0.0</td>\n",
       "      <td>600.0</td>\n",
       "      <td>NaN</td>\n",
       "      <td>NaN</td>\n",
       "      <td>NaN</td>\n",
       "      <td>CURVE</td>\n",
       "      <td>406.450043</td>\n",
       "      <td>7.48158</td>\n",
       "      <td>True</td>\n",
       "      <td>N_G</td>\n",
       "      <td>-0.000000</td>\n",
       "      <td>-0.0</td>\n",
       "      <td>NaN</td>\n",
       "      <td>N_poste</td>\n",
       "      <td>N_poste_0</td>\n",
       "      <td>True</td>\n",
       "    </tr>\n",
       "  </tbody>\n",
       "</table>\n",
       "</div>"
      ],
      "text/plain": [
       "      name energy_source  target_p  min_p   max_p  min_q  max_q  rated_s  \\\n",
       "id                                                                         \n",
       "SO_G1            THERMAL     480.0    0.0  2000.0    NaN    NaN      NaN   \n",
       "SO_G2            THERMAL     480.0    0.0  2000.0    NaN    NaN      NaN   \n",
       "SE_G             THERMAL     100.0    0.0   600.0    NaN    NaN      NaN   \n",
       "N_G              THERMAL       0.0    0.0   600.0    NaN    NaN      NaN   \n",
       "\n",
       "      reactive_limits_kind    target_v  target_q  voltage_regulator_on  \\\n",
       "id                                                                       \n",
       "SO_G1                CURVE  406.450043   2.35231                  True   \n",
       "SO_G2                CURVE  406.450043   2.35231                  True   \n",
       "SE_G                 CURVE  406.450043   6.45498                  True   \n",
       "N_G                  CURVE  406.450043   7.48158                  True   \n",
       "\n",
       "      regulated_element_id           p    q   i voltage_level_id      bus_id  \\\n",
       "id                                                                             \n",
       "SO_G1                SO_G1 -436.521739 -0.0 NaN         SO_poste  SO_poste_0   \n",
       "SO_G2                SO_G2 -436.521739 -0.0 NaN         SO_poste  SO_poste_0   \n",
       "SE_G                  SE_G  -86.956522 -0.0 NaN         SE_poste  SE_poste_0   \n",
       "N_G                    N_G   -0.000000 -0.0 NaN          N_poste   N_poste_0   \n",
       "\n",
       "       connected  \n",
       "id                \n",
       "SO_G1       True  \n",
       "SO_G2       True  \n",
       "SE_G        True  \n",
       "N_G         True  "
      ]
     },
     "execution_count": 9,
     "metadata": {},
     "output_type": "execute_result"
    }
   ],
   "source": [
    "n6b.get_generators()"
   ]
  },
  {
   "cell_type": "code",
   "execution_count": 10,
   "metadata": {},
   "outputs": [
    {
     "data": {
      "text/html": [
       "<div>\n",
       "<style scoped>\n",
       "    .dataframe tbody tr th:only-of-type {\n",
       "        vertical-align: middle;\n",
       "    }\n",
       "\n",
       "    .dataframe tbody tr th {\n",
       "        vertical-align: top;\n",
       "    }\n",
       "\n",
       "    .dataframe thead th {\n",
       "        text-align: right;\n",
       "    }\n",
       "</style>\n",
       "<table border=\"1\" class=\"dataframe\">\n",
       "  <thead>\n",
       "    <tr style=\"text-align: right;\">\n",
       "      <th></th>\n",
       "      <th>name</th>\n",
       "      <th>type</th>\n",
       "      <th>p0</th>\n",
       "      <th>q0</th>\n",
       "      <th>p</th>\n",
       "      <th>q</th>\n",
       "      <th>i</th>\n",
       "      <th>voltage_level_id</th>\n",
       "      <th>bus_id</th>\n",
       "      <th>connected</th>\n",
       "    </tr>\n",
       "    <tr>\n",
       "      <th>id</th>\n",
       "      <th></th>\n",
       "      <th></th>\n",
       "      <th></th>\n",
       "      <th></th>\n",
       "      <th></th>\n",
       "      <th></th>\n",
       "      <th></th>\n",
       "      <th></th>\n",
       "      <th></th>\n",
       "      <th></th>\n",
       "    </tr>\n",
       "  </thead>\n",
       "  <tbody>\n",
       "    <tr>\n",
       "      <th>SO_L</th>\n",
       "      <td></td>\n",
       "      <td>UNDEFINED</td>\n",
       "      <td>480.0</td>\n",
       "      <td>4.8</td>\n",
       "      <td>480.0</td>\n",
       "      <td>4.8</td>\n",
       "      <td>NaN</td>\n",
       "      <td>SO_poste</td>\n",
       "      <td>SO_poste_0</td>\n",
       "      <td>True</td>\n",
       "    </tr>\n",
       "    <tr>\n",
       "      <th>SE_L1</th>\n",
       "      <td></td>\n",
       "      <td>UNDEFINED</td>\n",
       "      <td>480.0</td>\n",
       "      <td>4.8</td>\n",
       "      <td>480.0</td>\n",
       "      <td>4.8</td>\n",
       "      <td>NaN</td>\n",
       "      <td>SE_poste</td>\n",
       "      <td>SE_poste_0</td>\n",
       "      <td>True</td>\n",
       "    </tr>\n",
       "    <tr>\n",
       "      <th>SE_L2</th>\n",
       "      <td></td>\n",
       "      <td>UNDEFINED</td>\n",
       "      <td>0.0</td>\n",
       "      <td>4.8</td>\n",
       "      <td>0.0</td>\n",
       "      <td>4.8</td>\n",
       "      <td>NaN</td>\n",
       "      <td>SE_poste</td>\n",
       "      <td>SE_poste_0</td>\n",
       "      <td>True</td>\n",
       "    </tr>\n",
       "  </tbody>\n",
       "</table>\n",
       "</div>"
      ],
      "text/plain": [
       "      name       type     p0   q0      p    q   i voltage_level_id  \\\n",
       "id                                                                   \n",
       "SO_L        UNDEFINED  480.0  4.8  480.0  4.8 NaN         SO_poste   \n",
       "SE_L1       UNDEFINED  480.0  4.8  480.0  4.8 NaN         SE_poste   \n",
       "SE_L2       UNDEFINED    0.0  4.8    0.0  4.8 NaN         SE_poste   \n",
       "\n",
       "           bus_id  connected  \n",
       "id                            \n",
       "SO_L   SO_poste_0       True  \n",
       "SE_L1  SE_poste_0       True  \n",
       "SE_L2  SE_poste_0       True  "
      ]
     },
     "execution_count": 10,
     "metadata": {},
     "output_type": "execute_result"
    }
   ],
   "source": [
    "n6b.get_loads()"
   ]
  },
  {
   "cell_type": "code",
   "execution_count": 11,
   "metadata": {},
   "outputs": [
    {
     "name": "stdout",
     "output_type": "stream",
     "text": [
      "<enum 'ZoneKeyType'>\n",
      "<enum 'ZoneKeyType'>\n",
      "True\n",
      "<enum 'ZoneKeyType'>\n",
      "<enum 'ZoneKeyType'>\n",
      "True\n"
     ]
    }
   ],
   "source": [
    "zone_fr = pp.sensitivity.create_country_zone(n6b, 'FR')\n",
    "zone_it = pp.sensitivity.create_country_zone(n6b, 'IT')"
   ]
  },
  {
   "cell_type": "code",
   "execution_count": 12,
   "metadata": {},
   "outputs": [
    {
     "data": {
      "text/plain": [
       "{'SO_G1': 480.0, 'SO_G2': 480.0, 'N_G': 0.0}"
      ]
     },
     "execution_count": 12,
     "metadata": {},
     "output_type": "execute_result"
    }
   ],
   "source": [
    "zone_fr.shift_keys_by_injections_ids"
   ]
  },
  {
   "cell_type": "code",
   "execution_count": 13,
   "metadata": {},
   "outputs": [],
   "source": [
    "params = pp.loadflow.Parameters(distributed_slack=False)\n",
    "sa = pp.sensitivity.create_dc_analysis()\n",
    "sa.set_zones([zone_fr, zone_it])"
   ]
  },
  {
   "cell_type": "code",
   "execution_count": 14,
   "metadata": {},
   "outputs": [],
   "source": [
    "sa.add_branch_flow_factor_matrix(branches_ids=['S_SE_1', 'S_SE_2'], variables_ids=['FR', 'IT'])"
   ]
  },
  {
   "cell_type": "code",
   "execution_count": 15,
   "metadata": {},
   "outputs": [],
   "source": [
    "ptdf_results = sa.run(n6b, params)\n",
    "m1 = ptdf_results.get_branch_flows_sensitivity_matrix()"
   ]
  },
  {
   "cell_type": "code",
   "execution_count": 16,
   "metadata": {},
   "outputs": [
    {
     "data": {
      "text/html": [
       "<div>\n",
       "<style scoped>\n",
       "    .dataframe tbody tr th:only-of-type {\n",
       "        vertical-align: middle;\n",
       "    }\n",
       "\n",
       "    .dataframe tbody tr th {\n",
       "        vertical-align: top;\n",
       "    }\n",
       "\n",
       "    .dataframe thead th {\n",
       "        text-align: right;\n",
       "    }\n",
       "</style>\n",
       "<table border=\"1\" class=\"dataframe\">\n",
       "  <thead>\n",
       "    <tr style=\"text-align: right;\">\n",
       "      <th></th>\n",
       "      <th>S_SE_1</th>\n",
       "      <th>S_SE_2</th>\n",
       "    </tr>\n",
       "  </thead>\n",
       "  <tbody>\n",
       "    <tr>\n",
       "      <th>FR</th>\n",
       "      <td>0.2</td>\n",
       "      <td>0.2</td>\n",
       "    </tr>\n",
       "    <tr>\n",
       "      <th>IT</th>\n",
       "      <td>-0.1</td>\n",
       "      <td>-0.1</td>\n",
       "    </tr>\n",
       "  </tbody>\n",
       "</table>\n",
       "</div>"
      ],
      "text/plain": [
       "    S_SE_1  S_SE_2\n",
       "FR     0.2     0.2\n",
       "IT    -0.1    -0.1"
      ]
     },
     "execution_count": 16,
     "metadata": {},
     "output_type": "execute_result"
    }
   ],
   "source": [
    "m1"
   ]
  },
  {
   "cell_type": "markdown",
   "metadata": {},
   "source": [
    "1 MW active power transfer from FR zone to IT zone will be responsible of a variation of 0.3 MW on the border line S_SE_1.\n",
    "\n",
    "Let’s obtain that directly. After a sensitivity analysis where we should set the zones, we are able to ask for a FR zone to slack sensitivity, a FR to IT zone to zone sensitivity, a IT to FR zone to zone sensitivity and a IT zone to slack sensitivity, on all the border lines ‘S_SE_1’, ‘S_SE_2’, ‘SE_NE_1’ and ‘SE_NE_2’."
   ]
  },
  {
   "cell_type": "code",
   "execution_count": 17,
   "metadata": {},
   "outputs": [],
   "source": [
    "sa = pp.sensitivity.create_dc_analysis()\n",
    "sa.set_zones([zone_fr, zone_it])\n",
    "sa.add_branch_flow_factor_matrix(branches_ids=['S_SE_1', 'S_SE_2', 'SE_NE_1', 'SE_NE_2'], variables_ids=['FR', ('FR', 'IT'), ('IT', 'FR'), 'IT'])\n",
    "ptdf_result = sa.run(n6b, params)"
   ]
  },
  {
   "cell_type": "code",
   "execution_count": 18,
   "metadata": {},
   "outputs": [
    {
     "data": {
      "text/html": [
       "<div>\n",
       "<style scoped>\n",
       "    .dataframe tbody tr th:only-of-type {\n",
       "        vertical-align: middle;\n",
       "    }\n",
       "\n",
       "    .dataframe tbody tr th {\n",
       "        vertical-align: top;\n",
       "    }\n",
       "\n",
       "    .dataframe thead th {\n",
       "        text-align: right;\n",
       "    }\n",
       "</style>\n",
       "<table border=\"1\" class=\"dataframe\">\n",
       "  <thead>\n",
       "    <tr style=\"text-align: right;\">\n",
       "      <th></th>\n",
       "      <th>S_SE_1</th>\n",
       "      <th>S_SE_2</th>\n",
       "      <th>SE_NE_1</th>\n",
       "      <th>SE_NE_2</th>\n",
       "    </tr>\n",
       "  </thead>\n",
       "  <tbody>\n",
       "    <tr>\n",
       "      <th>FR</th>\n",
       "      <td>0.2</td>\n",
       "      <td>0.2</td>\n",
       "      <td>0.2</td>\n",
       "      <td>0.2</td>\n",
       "    </tr>\n",
       "    <tr>\n",
       "      <th>FR -&gt; IT</th>\n",
       "      <td>0.3</td>\n",
       "      <td>0.3</td>\n",
       "      <td>-0.2</td>\n",
       "      <td>-0.2</td>\n",
       "    </tr>\n",
       "    <tr>\n",
       "      <th>IT -&gt; FR</th>\n",
       "      <td>-0.3</td>\n",
       "      <td>-0.3</td>\n",
       "      <td>0.2</td>\n",
       "      <td>0.2</td>\n",
       "    </tr>\n",
       "    <tr>\n",
       "      <th>IT</th>\n",
       "      <td>-0.1</td>\n",
       "      <td>-0.1</td>\n",
       "      <td>0.4</td>\n",
       "      <td>0.4</td>\n",
       "    </tr>\n",
       "  </tbody>\n",
       "</table>\n",
       "</div>"
      ],
      "text/plain": [
       "          S_SE_1  S_SE_2  SE_NE_1  SE_NE_2\n",
       "FR           0.2     0.2      0.2      0.2\n",
       "FR -> IT     0.3     0.3     -0.2     -0.2\n",
       "IT -> FR    -0.3    -0.3      0.2      0.2\n",
       "IT          -0.1    -0.1      0.4      0.4"
      ]
     },
     "execution_count": 18,
     "metadata": {},
     "output_type": "execute_result"
    }
   ],
   "source": [
    "m2 = ptdf_result.get_branch_flows_sensitivity_matrix()\n",
    "m2"
   ]
  },
  {
   "cell_type": "markdown",
   "metadata": {},
   "source": [
    "We can see that:\n",
    "- an increase of 1 MW on the FR zone net position leads to an increase of 0.2 MW on the flow of all the border lines\n",
    "- moving the flow of 1 MW from FR to IT leads to an increase of 0.3 MW on the flow of lines S_SE_1 and S_SE_2 and a decrease of 0.2 MW on the flow of lines SE_NE_1 and SE_NE_2\n",
    "- moving the flow of 1 MW from IT to FR leads to a decrease of 0.3 MW on the flow of lines S_SE_1 and S_SE_2 and an increase of 0.2 MW on the flow of lines SE_NE_1 and SE_NE_2\n",
    "- an increase of 1 MW on the IT zone net position leads to a decrease of 0.1 MW on the flow of lines S_SE_1 and S_SE_2 and an increase of 0.4 MW on the flow of lines SE_NE_1 and SE_NE_2"
   ]
  }
 ],
 "metadata": {
  "kernelspec": {
   "display_name": "Python 3",
   "language": "python",
   "name": "python3"
  },
  "language_info": {
   "codemirror_mode": {
    "name": "ipython",
    "version": 3
   },
   "file_extension": ".py",
   "mimetype": "text/x-python",
   "name": "python",
   "nbconvert_exporter": "python",
   "pygments_lexer": "ipython3",
   "version": "3.8.10"
  }
 },
 "nbformat": 4,
 "nbformat_minor": 4
}
