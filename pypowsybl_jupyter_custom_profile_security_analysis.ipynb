{
 "cells": [
  {
   "cell_type": "markdown",
   "id": "6df40f0f-ac17-49db-acfd-f0803dc90640",
   "metadata": {},
   "source": [
    "## Security analysis: constraints overview with pypowsybl-jupyter\n",
    "- This notebook demonstrates how to **highlight weaknesses** on the network with the help of the **security analysis** and the **network explorer widget**.\n",
    "- It launches a **security analysis** and compiles the **N-1 limit violations** per branch / voltage level under constraint\n",
    "- We will visualize differences by providing the widget a **custom styling** to apply on branches and voltage level nodes."
   ]
  },
  {
   "cell_type": "markdown",
   "id": "0217b89c-40cb-46ea-af95-755b0d5ae661",
   "metadata": {},
   "source": [
    "#### 1. Load the network\n",
    "We load a french network snapshot, at a quiet hour."
   ]
  },
  {
   "cell_type": "code",
   "execution_count": null,
   "id": "10ae182e-3c0c-4020-992d-f9f20b3b5a1f",
   "metadata": {
    "ExecuteTime": {
     "end_time": "2025-09-07T19:50:00.804157Z",
     "start_time": "2025-09-07T19:50:00.031261Z"
    }
   },
   "outputs": [],
   "source": [
    "import pypowsybl.network as pn\n",
    "network = pn.create_eurostag_tutorial_example1_network()"
   ]
  },
  {
   "cell_type": "markdown",
   "id": "0cb3d8d8-896c-4309-a50e-d74529b77970",
   "metadata": {},
   "source": [
    "#### 2. Launch the security analysis\n",
    "- We first define the contingencies to study: all the 400kV lines\n",
    "- We then launch the security analysis with those contingencies"
   ]
  },
  {
   "cell_type": "code",
   "execution_count": null,
   "id": "7bc3764adb4dc8a2",
   "metadata": {
    "ExecuteTime": {
     "end_time": "2025-09-07T19:50:02.206662Z",
     "start_time": "2025-09-07T19:50:02.168602Z"
    }
   },
   "outputs": [],
   "source": [
    "voltage_levels = network.get_voltage_levels(attributes=['nominal_v'])\n",
    "vl_400kV_ids = voltage_levels[voltage_levels['nominal_v'] > 370].index\n",
    "lines = network.get_lines(attributes=['voltage_level1_id', 'voltage_level2_id'])\n",
    "lines_400kV = lines[\n",
    "    lines['voltage_level1_id'].isin(vl_400kV_ids) &\n",
    "    lines['voltage_level2_id'].isin(vl_400kV_ids)\n",
    "]\n",
    "lines_400kV"
   ]
  },
  {
   "cell_type": "code",
   "execution_count": null,
   "id": "5003a03a-e5f6-4836-a1a4-d91e348f8c11",
   "metadata": {
    "ExecuteTime": {
     "end_time": "2025-09-07T19:50:57.613664Z",
     "start_time": "2025-09-07T19:50:02.724248Z"
    }
   },
   "outputs": [],
   "source": [
    "import pypowsybl.security as ps\n",
    "security_analysis = ps.create_analysis()\n",
    "security_analysis.add_single_element_contingencies(lines_400kV.index.to_list());\n",
    "result = security_analysis.run_ac(network)\n",
    "result.limit_violations"
   ]
  },
  {
   "cell_type": "markdown",
   "id": "8e5e24d4-407e-4211-a013-a7baa0a8fb85",
   "metadata": {},
   "source": [
    "#### 3. Building the dataframe of lines under constraint in N-1 state "
   ]
  },
  {
   "cell_type": "markdown",
   "id": "d7c3a3c5-0aa0-4432-891c-6b76ab6b0560",
   "metadata": {},
   "source": [
    "- Filtering out the N limit violations"
   ]
  },
  {
   "cell_type": "code",
   "execution_count": null,
   "id": "93ab1856e9c68e5",
   "metadata": {
    "ExecuteTime": {
     "end_time": "2025-09-07T19:52:29.685795Z",
     "start_time": "2025-09-07T19:52:29.675433Z"
    }
   },
   "outputs": [],
   "source": [
    "lv_post_contingency = result.limit_violations.copy().reset_index()\n",
    "lv_post_contingency = lv_post_contingency[lv_post_contingency['contingency_id'] != '']\n",
    "lv_post_contingency"
   ]
  },
  {
   "cell_type": "markdown",
   "id": "02d2da24-3a19-42e2-919a-01e39ac0c3d6",
   "metadata": {},
   "source": [
    "- Aggregating the results per `subject_id` (line id)"
   ]
  },
  {
   "cell_type": "code",
   "execution_count": null,
   "id": "6d1a20681debba38",
   "metadata": {
    "ExecuteTime": {
     "end_time": "2025-09-07T20:21:07.304879Z",
     "start_time": "2025-09-07T20:21:07.282986Z"
    }
   },
   "outputs": [],
   "source": [
    "violations_by_equipment = (\n",
    "    lv_post_contingency\n",
    "    .groupby(['subject_id', 'limit_type'])['contingency_id']\n",
    "    .apply(list)\n",
    "    .reset_index()\n",
    ")\n",
    "violations_by_equipment"
   ]
  },
  {
   "cell_type": "markdown",
   "id": "c8843c74-00bb-4e0e-8729-18df9b938390",
   "metadata": {},
   "source": [
    "- keeping only limit violations of current type"
   ]
  },
  {
   "cell_type": "code",
   "execution_count": null,
   "id": "b26489f4-c9ea-473f-a970-ecef8d0ec3a8",
   "metadata": {},
   "outputs": [],
   "source": [
    "violations_line = violations_by_equipment[violations_by_equipment['limit_type']=='CURRENT']\n",
    "violations_line"
   ]
  },
  {
   "cell_type": "markdown",
   "id": "bdb8a1d9-1ce2-4e2a-bc52-24fcc533b69e",
   "metadata": {},
   "source": [
    "#### 4. Construct the custom style profile\n",
    "We highlight the lines under constraint with a very thick stroke width and a pink color"
   ]
  },
  {
   "cell_type": "markdown",
   "id": "51deabec-7900-4551-bbfd-6060d06d6324",
   "metadata": {},
   "source": [
    "- first taking the default style profile"
   ]
  },
  {
   "cell_type": "code",
   "execution_count": null,
   "id": "e9ede7ad-0ced-4c2a-802f-4a9ddabaccbc",
   "metadata": {},
   "outputs": [],
   "source": [
    "default_pf = network.get_default_nad_profile()"
   ]
  },
  {
   "cell_type": "markdown",
   "id": "fdd889ad-b695-4dfb-84a4-5f9f3a76b756",
   "metadata": {},
   "source": [
    "- then overriding the edges (branches) styles to highlight the lines under constraint for some of the studied contingencies"
   ]
  },
  {
   "cell_type": "code",
   "execution_count": null,
   "id": "81e3d1ede8398697",
   "metadata": {
    "ExecuteTime": {
     "end_time": "2025-09-07T21:13:23.122240Z",
     "start_time": "2025-09-07T21:13:22.718656Z"
    }
   },
   "outputs": [],
   "source": [
    "import pandas as pd\n",
    "\n",
    "edges_styles_df = pd.DataFrame({\n",
    "    'id': violations_line['subject_id'],\n",
    "    'edge1': 'pink',\n",
    "    'edge2': 'pink',\n",
    "    'width1': '50px',\n",
    "    'width2': '50px'\n",
    "})\n",
    "edges_styles_df.set_index('id', inplace=True)"
   ]
  },
  {
   "cell_type": "markdown",
   "id": "0f3b90ba-82c5-41e2-8f2e-906b9e326145",
   "metadata": {},
   "source": [
    "- adding the contingency ids on top of those lines"
   ]
  },
  {
   "cell_type": "code",
   "execution_count": null,
   "id": "374e3e73-0d67-4238-8a18-8452406dcb3e",
   "metadata": {},
   "outputs": [],
   "source": [
    "labels_df = default_pf.branch_labels\n",
    "labels_df['middle'] = ''\n",
    "contingency_series = violations_line['contingency_id'].apply(lambda x: ','.join(x))\n",
    "contingency_series.index = violations_line['subject_id']\n",
    "labels_df.loc[violations_line['subject_id'], 'middle'] = contingency_series"
   ]
  },
  {
   "cell_type": "markdown",
   "id": "01c46d3c-6760-413f-90ab-e19c5230586f",
   "metadata": {},
   "source": [
    "- remove unneeded voltage level description"
   ]
  },
  {
   "cell_type": "code",
   "execution_count": null,
   "id": "7d4c056b-f562-44bf-a1b0-a25c44362a08",
   "metadata": {},
   "outputs": [],
   "source": [
    "vl_descriptions_df = default_pf.vl_descriptions[default_pf.vl_descriptions['type'] != 'FOOTER']"
   ]
  },
  {
   "cell_type": "markdown",
   "id": "9699c9b2-da94-4268-bbdb-8abf4777c031",
   "metadata": {},
   "source": [
    "- creating the custom NAD style profile"
   ]
  },
  {
   "cell_type": "code",
   "execution_count": null,
   "id": "ea0277a0-8bac-4fa2-9268-62e09a64deb2",
   "metadata": {},
   "outputs": [],
   "source": [
    "diagram_profile=pn.NadProfile(branch_labels=labels_df, vl_descriptions=vl_descriptions_df, bus_descriptions=default_pf.bus_descriptions,\n",
    "                              bus_node_styles=default_pf.bus_node_styles, edge_styles=edges_styles_df)"
   ]
  },
  {
   "cell_type": "markdown",
   "id": "7c573252-9555-4b39-a8e5-368e138a8396",
   "metadata": {},
   "source": [
    "#### 5. Display the results!"
   ]
  },
  {
   "cell_type": "code",
   "execution_count": null,
   "id": "d6807959c0e7991d",
   "metadata": {
    "ExecuteTime": {
     "end_time": "2025-09-07T21:13:28.544335Z",
     "start_time": "2025-09-07T21:13:27.575951Z"
    }
   },
   "outputs": [],
   "source": [
    "from pypowsybl_jupyter import network_explorer\n",
    "\n",
    "network_explorer(network, depth=3, nad_profile=diagram_profile)"
   ]
  },
  {
   "cell_type": "markdown",
   "id": "0ebac3a2-cbb4-4cc4-86f5-2d64766a9746",
   "metadata": {},
   "source": [
    "#### 6. Repeating the same logic for high/low voltage limit violations"
   ]
  },
  {
   "cell_type": "markdown",
   "id": "417e0917-60a1-4fca-9d21-bbb9f78b59a5",
   "metadata": {},
   "source": [
    "- Building the dataframe of high/low voltage limit violations by voltage level"
   ]
  },
  {
   "cell_type": "code",
   "execution_count": null,
   "id": "2ee039abc4fb3904",
   "metadata": {
    "ExecuteTime": {
     "end_time": "2025-09-07T21:26:09.448050Z",
     "start_time": "2025-09-07T21:26:09.417809Z"
    }
   },
   "outputs": [],
   "source": [
    "violations_vl = violations_by_equipment[violations_by_equipment['limit_type']!='CURRENT']\n",
    "violations_vl = violations_vl.set_index(['subject_id'])\n",
    "violations_vl"
   ]
  },
  {
   "cell_type": "markdown",
   "id": "fb320828-1ed9-4f8e-b55a-def80e85b6a3",
   "metadata": {},
   "source": [
    "- Aggregating the contingency array"
   ]
  },
  {
   "cell_type": "code",
   "execution_count": null,
   "id": "a277acab-bfe1-4de6-85fe-f5dbe9739473",
   "metadata": {},
   "outputs": [],
   "source": [
    "violations_vl['contingencies'] = violations_vl['contingency_id'].apply(lambda x: ', '.join(x))\n",
    "violations_vl"
   ]
  },
  {
   "cell_type": "markdown",
   "id": "09889ffe-0025-4d33-baa3-c98a494e4384",
   "metadata": {},
   "source": [
    "- Constructing the dataframe for bus styles"
   ]
  },
  {
   "cell_type": "code",
   "execution_count": null,
   "id": "56240f1e-2de8-4b15-a14e-fd66fdfbe012",
   "metadata": {},
   "outputs": [],
   "source": [
    "color_mapping = {\n",
    "    'HIGH_VOLTAGE': 'orange',\n",
    "    'LOW_VOLTAGE': 'purple',\n",
    "}\n",
    "\n",
    "bus_vl_id = network.get_buses(attributes=['voltage_level_id'])\n",
    "bus_vl_id['descr'] = bus_vl_id['voltage_level_id'].map(violations_vl['contingencies'])\n",
    "bus_vl_id['edge-width'] = '100px'\n",
    "bus_styles_df = bus_vl_id[bus_vl_id['descr'].notnull()][['edge-width']]\n",
    "bus_styles_df['limit_type'] = bus_vl_id['voltage_level_id'].map(violations_vl['limit_type'])\n",
    "bus_styles_df['edge'] = bus_styles_df['limit_type'].map(color_mapping)\n",
    "bus_styles_df['fill'] = bus_styles_df['edge']\n",
    "del bus_styles_df['limit_type']"
   ]
  },
  {
   "cell_type": "markdown",
   "id": "64ff2794-a540-429c-be85-430613294a7c",
   "metadata": {},
   "source": [
    "- Constructing another custom NAD style profile"
   ]
  },
  {
   "cell_type": "code",
   "execution_count": null,
   "id": "a0b83044c05e3e54",
   "metadata": {
    "ExecuteTime": {
     "end_time": "2025-09-07T21:26:14.403261Z",
     "start_time": "2025-09-07T21:26:13.385321Z"
    }
   },
   "outputs": [],
   "source": [
    "diagram_profile=pn.NadProfile(branch_labels=labels_df, vl_descriptions=vl_descriptions_df, bus_descriptions=pd.DataFrame(),\n",
    "                              bus_node_styles=bus_styles_df, edge_styles=edges_styles_df)"
   ]
  },
  {
   "cell_type": "markdown",
   "id": "1c202ed4-86de-4d0c-a498-80174f71986e",
   "metadata": {},
   "source": [
    "- Display the results"
   ]
  },
  {
   "cell_type": "code",
   "execution_count": null,
   "id": "b9cd35a4-cdaf-4ff4-aa28-6de6e79d5c63",
   "metadata": {},
   "outputs": [],
   "source": [
    "network_explorer(network, depth=3, nad_profile=diagram_profile)"
   ]
  },
  {
   "cell_type": "code",
   "execution_count": null,
   "id": "64b6c437-bcdd-4c57-91f1-0e45dcf95e5a",
   "metadata": {},
   "outputs": [],
   "source": []
  }
 ],
 "metadata": {
  "kernelspec": {
   "display_name": "Python 3 (ipykernel)",
   "language": "python",
   "name": "python3"
  },
  "language_info": {
   "codemirror_mode": {
    "name": "ipython",
    "version": 3
   },
   "file_extension": ".py",
   "mimetype": "text/x-python",
   "name": "python",
   "nbconvert_exporter": "python",
   "pygments_lexer": "ipython3",
   "version": "3.10.12"
  }
 },
 "nbformat": 4,
 "nbformat_minor": 5
}
